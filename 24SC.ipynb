{
  "nbformat": 4,
  "nbformat_minor": 0,
  "metadata": {
    "colab": {
      "name": "DS_Unit_2_Sprint_Challenge_4_Model_Validation.ipynb",
      "version": "0.3.2",
      "provenance": [],
      "collapsed_sections": [],
      "include_colab_link": true
    },
    "kernelspec": {
      "name": "python3",
      "display_name": "Python 3"
    },
    "accelerator": "GPU"
  },
  "cells": [
    {
      "cell_type": "markdown",
      "metadata": {
        "id": "view-in-github",
        "colab_type": "text"
      },
      "source": [
        "<a href=\"https://colab.research.google.com/github/quinn-dougherty/DS-Unit-2-Sprint-4-Model-Validation/blob/master/24SC.ipynb\" target=\"_parent\"><img src=\"https://colab.research.google.com/assets/colab-badge.svg\" alt=\"Open In Colab\"/></a>"
      ]
    },
    {
      "metadata": {
        "id": "PC9RfopIWrc9",
        "colab_type": "text"
      },
      "cell_type": "markdown",
      "source": [
        " # Data Science Unit 2 Sprint Challenge 4 — Model Validation"
      ]
    },
    {
      "metadata": {
        "id": "UV7ArLFQN84W",
        "colab_type": "text"
      },
      "cell_type": "markdown",
      "source": [
        "Follow the instructions for each numbered part to earn a score of 2. See the bottom of the notebook for a list of ways you can earn a score of 3."
      ]
    },
    {
      "metadata": {
        "id": "bAZcbTtiUlkI",
        "colab_type": "text"
      },
      "cell_type": "markdown",
      "source": [
        "## Predicting Blood Donations\n",
        "\n",
        "Our dataset is from a mobile blood donation vehicle in Taiwan. The Blood Transfusion Service Center drives to different universities and collects blood as part of a blood drive.\n",
        "\n",
        "The goal is to predict the last column, whether the donor made a donation in March 2007, using information about each donor's history. We'll measure success using recall score as the model evaluation metric.\n",
        "\n",
        "Good data-driven systems for tracking and predicting donations and supply needs can improve the entire supply chain, making sure that more patients get the blood transfusions they need.\n",
        "\n",
        "#### Run this cell to load the data:"
      ]
    },
    {
      "metadata": {
        "id": "gvV9VORbxyvu",
        "colab_type": "code",
        "colab": {
          "base_uri": "https://localhost:8080/",
          "height": 259
        },
        "outputId": "de6046a2-892e-4837-c9d8-ee63a98022c2"
      },
      "cell_type": "code",
      "source": [
        "import pandas as pd\n",
        "import numpy as np\n",
        "from sklearn.preprocessing import StandardScaler,RobustScaler\n",
        "from sklearn.feature_selection import SelectKBest, f_classif\n",
        "from sklearn.linear_model import LogisticRegression\n",
        "from sklearn.pipeline import Pipeline\n",
        "from sklearn.model_selection import GridSearchCV\n",
        "\n",
        "df = pd.read_csv('https://archive.ics.uci.edu/ml/machine-learning-databases/blood-transfusion/transfusion.data')\n",
        "\n",
        "dependent = 'made_donation_07'\n",
        "\n",
        "df = df.rename(columns={\n",
        "    'Recency (months)': 'months_since_last_donation', \n",
        "    'Frequency (times)': 'number_of_donations', \n",
        "    'Monetary (c.c. blood)': 'total_volume_donated', \n",
        "    'Time (months)': 'months_since_first_donation', \n",
        "    'whether he/she donated blood in March 2007': dependent\n",
        "})\n",
        "\n",
        "\n",
        "print(df[dependent].value_counts())\n",
        "\n",
        "df.head()\n"
      ],
      "execution_count": 4,
      "outputs": [
        {
          "output_type": "stream",
          "text": [
            "0    570\n",
            "1    178\n",
            "Name: made_donation_07, dtype: int64\n"
          ],
          "name": "stdout"
        },
        {
          "output_type": "execute_result",
          "data": {
            "text/html": [
              "<div>\n",
              "<style scoped>\n",
              "    .dataframe tbody tr th:only-of-type {\n",
              "        vertical-align: middle;\n",
              "    }\n",
              "\n",
              "    .dataframe tbody tr th {\n",
              "        vertical-align: top;\n",
              "    }\n",
              "\n",
              "    .dataframe thead th {\n",
              "        text-align: right;\n",
              "    }\n",
              "</style>\n",
              "<table border=\"1\" class=\"dataframe\">\n",
              "  <thead>\n",
              "    <tr style=\"text-align: right;\">\n",
              "      <th></th>\n",
              "      <th>months_since_last_donation</th>\n",
              "      <th>number_of_donations</th>\n",
              "      <th>total_volume_donated</th>\n",
              "      <th>months_since_first_donation</th>\n",
              "      <th>made_donation_07</th>\n",
              "    </tr>\n",
              "  </thead>\n",
              "  <tbody>\n",
              "    <tr>\n",
              "      <th>0</th>\n",
              "      <td>2</td>\n",
              "      <td>50</td>\n",
              "      <td>12500</td>\n",
              "      <td>98</td>\n",
              "      <td>1</td>\n",
              "    </tr>\n",
              "    <tr>\n",
              "      <th>1</th>\n",
              "      <td>0</td>\n",
              "      <td>13</td>\n",
              "      <td>3250</td>\n",
              "      <td>28</td>\n",
              "      <td>1</td>\n",
              "    </tr>\n",
              "    <tr>\n",
              "      <th>2</th>\n",
              "      <td>1</td>\n",
              "      <td>16</td>\n",
              "      <td>4000</td>\n",
              "      <td>35</td>\n",
              "      <td>1</td>\n",
              "    </tr>\n",
              "    <tr>\n",
              "      <th>3</th>\n",
              "      <td>2</td>\n",
              "      <td>20</td>\n",
              "      <td>5000</td>\n",
              "      <td>45</td>\n",
              "      <td>1</td>\n",
              "    </tr>\n",
              "    <tr>\n",
              "      <th>4</th>\n",
              "      <td>1</td>\n",
              "      <td>24</td>\n",
              "      <td>6000</td>\n",
              "      <td>77</td>\n",
              "      <td>0</td>\n",
              "    </tr>\n",
              "  </tbody>\n",
              "</table>\n",
              "</div>"
            ],
            "text/plain": [
              "   months_since_last_donation  number_of_donations  total_volume_donated  \\\n",
              "0                           2                   50                 12500   \n",
              "1                           0                   13                  3250   \n",
              "2                           1                   16                  4000   \n",
              "3                           2                   20                  5000   \n",
              "4                           1                   24                  6000   \n",
              "\n",
              "   months_since_first_donation  made_donation_07  \n",
              "0                           98                 1  \n",
              "1                           28                 1  \n",
              "2                           35                 1  \n",
              "3                           45                 1  \n",
              "4                           77                 0  "
            ]
          },
          "metadata": {
            "tags": []
          },
          "execution_count": 4
        }
      ]
    },
    {
      "metadata": {
        "id": "IxKfgx4ycb3c",
        "colab_type": "text"
      },
      "cell_type": "markdown",
      "source": [
        "## Part 1.1 — Begin with baselines\n",
        "\n",
        "What **accuracy score** would you get here with a **\"majority class baseline\"?** \n",
        " \n",
        "(You don't need to split the data into train and test sets yet. You can answer this question either with a scikit-learn function or with a pandas function.)"
      ]
    },
    {
      "metadata": {
        "id": "3oo31Remcq-x",
        "colab_type": "code",
        "colab": {
          "base_uri": "https://localhost:8080/",
          "height": 34
        },
        "outputId": "f5fc80c6-79eb-4e9b-8192-4f14c41e6c80"
      },
      "cell_type": "code",
      "source": [
        "majority_class = df[dependent].value_counts().idxmax()\n",
        "\n",
        "y0 = pd.DataFrame(np.full((df.shape[0], 1) , fill_value=majority_class), columns=['predicted' + dependent])\n",
        "\n",
        "accuracy = np.divide(df[dependent].value_counts()[majority_class], df.shape[0])\n",
        "\n",
        "print(f'The majority-class baseline has an accuracy score of {accuracy:.3}')\n"
      ],
      "execution_count": 5,
      "outputs": [
        {
          "output_type": "stream",
          "text": [
            "The majority-class baseline has an accuracy score of 0.762\n"
          ],
          "name": "stdout"
        }
      ]
    },
    {
      "metadata": {
        "id": "_KdxE1TrcriI",
        "colab_type": "text"
      },
      "cell_type": "markdown",
      "source": [
        "What **recall score** would you get here with a **majority class baseline?**\n",
        "\n",
        "(You can answer this question either with a scikit-learn function or with no code, just your understanding of recall.)\n",
        "\n",
        "## We _never_ predicted `1` in the majority-class baseline. \n",
        "## our `True Positive` rate is `0`. \n",
        "## $Recall = \\frac{Accurately-predicted-1}{1-is-observed-in-data} = \\frac{0}{178} = 0$"
      ]
    },
    {
      "metadata": {
        "id": "ILS0fN0Cctyc",
        "colab_type": "code",
        "colab": {}
      },
      "cell_type": "code",
      "source": [
        ""
      ],
      "execution_count": 0,
      "outputs": []
    },
    {
      "metadata": {
        "id": "QqYNDtwKYhji",
        "colab_type": "text"
      },
      "cell_type": "markdown",
      "source": [
        "## Part 1.2 — Split data\n",
        "\n",
        "In this Sprint Challenge, you will use \"Cross-Validation with Independent Test Set\" for your model evaluation protocol.\n",
        "\n",
        "First, **split the data into `X_train, X_test, y_train, y_test`**, with random shuffle. (You can include 75% of the data in the train set, and hold out 25% for the test set.)\n"
      ]
    },
    {
      "metadata": {
        "id": "mPKf86yDYf0t",
        "colab_type": "code",
        "colab": {
          "base_uri": "https://localhost:8080/",
          "height": 34
        },
        "outputId": "bc2bfbdb-2e67-47e6-fe3b-7e7cafa96838"
      },
      "cell_type": "code",
      "source": [
        "from sklearn.model_selection import train_test_split\n",
        "\n",
        "X_train, X_test, y_train, y_test = train_test_split(df.drop(dependent, axis=1), \n",
        "                                                    df[dependent], \n",
        "                                                    test_size=0.25, \n",
        "                                                    shuffle=True)\n",
        "print(X_train.shape, X_test.shape, y_train.shape, y_test.shape)"
      ],
      "execution_count": 6,
      "outputs": [
        {
          "output_type": "stream",
          "text": [
            "(561, 4) (187, 4) (561,) (187,)\n"
          ],
          "name": "stdout"
        }
      ]
    },
    {
      "metadata": {
        "id": "E_ATNJdqTCuZ",
        "colab_type": "text"
      },
      "cell_type": "markdown",
      "source": [
        "## Part 2.1 — Make a pipeline\n",
        "\n",
        "Make a **pipeline** which includes:\n",
        "- Preprocessing with any scikit-learn [**Scaler**](https://scikit-learn.org/stable/modules/classes.html#module-sklearn.preprocessing)\n",
        "- Feature selection with **[`SelectKBest`](https://scikit-learn.org/stable/modules/generated/sklearn.feature_selection.SelectKBest.html)([`f_classif`](https://scikit-learn.org/stable/modules/generated/sklearn.feature_selection.f_classif.html))**\n",
        "- Classification with [**`LogisticRegression`**](https://scikit-learn.org/stable/modules/generated/sklearn.linear_model.LogisticRegression.html)"
      ]
    },
    {
      "metadata": {
        "id": "8DRrVU5n5_Jw",
        "colab_type": "code",
        "colab": {}
      },
      "cell_type": "code",
      "source": [
        "from sklearn.preprocessing import StandardScaler,RobustScaler\n",
        "from sklearn.feature_selection import SelectKBest, f_classif\n",
        "from sklearn.linear_model import LogisticRegression\n",
        "from sklearn.pipeline import Pipeline\n",
        "from sklearn.model_selection import GridSearchCV\n",
        "\n",
        "# Define an estimator and param_grid\n",
        "pipe = Pipeline(steps=[\n",
        "    ('scale', RobustScaler()), \n",
        "    ('reduce_dim', SelectKBest(f_classif)), \n",
        "    ('classify', LogisticRegression(solver='lbfgs'))])\n",
        "\n",
        "param_grid = {\n",
        "    'selectkbest__k': range(1, len(X_train.columns)), \n",
        "    'ridge__alpha': [0.1, 1.0, 10.]\n",
        "}\n",
        "\n",
        "# # Fit on the train set, with grid search cross-validation\n",
        "# gs = GridSearchCV(pipe, param_grid=param_grid, cv=3, \n",
        "#                   scoring='neg_mean_absolute_error', \n",
        "#                   verbose=1, n_jobs=2)\n",
        "\n",
        "# pipe.fit(X_train,y_train)\n",
        "\n",
        "# sum(pipe.predict(X_test) == y_test)"
      ],
      "execution_count": 0,
      "outputs": []
    },
    {
      "metadata": {
        "id": "5vRkQHatglMG",
        "colab_type": "text"
      },
      "cell_type": "markdown",
      "source": [
        "## Part 2.2 — Do Grid Search Cross-Validation\n",
        "\n",
        "Do [**GridSearchCV**](https://scikit-learn.org/stable/modules/generated/sklearn.model_selection.GridSearchCV.html) with your pipeline. Use **5 folds** and **recall score**.\n",
        "\n",
        "Include these **parameters for your grid:**\n",
        "\n",
        "#### `SelectKBest`\n",
        "- `k : 1, 2, 3, 4`\n",
        "\n",
        "#### `LogisticRegression`\n",
        "- `class_weight : None, 'balanced'`\n",
        "- `C : .0001, .001, .01, .1, 1.0, 10.0, 100.00, 1000.0, 10000.0`\n",
        "\n",
        "\n",
        "**Fit** on the appropriate data."
      ]
    },
    {
      "metadata": {
        "id": "wgN8kG0ogBMH",
        "colab_type": "code",
        "colab": {
          "base_uri": "https://localhost:8080/",
          "height": 208
        },
        "outputId": "f45691ce-235d-42dc-9f59-551272288fd4"
      },
      "cell_type": "code",
      "source": [
        "%%time\n",
        "pg = {\n",
        "    'reduce_dim__k': range(1,5),\n",
        "    'classify__class_weight': ['None', 'Balanced'],\n",
        "    'classify__C': [10**k for k in range(-4, 5)]\n",
        "}\n",
        "\n",
        "gs = GridSearchCV(pipe, param_grid=pg, cv=5, scoring='recall', verbose=10, n_jobs=-1, return_train_score=True, iid=True)\n",
        "# i'm on GPU\n",
        "gs.fit(X_train, y_train)"
      ],
      "execution_count": 24,
      "outputs": [
        {
          "output_type": "stream",
          "text": [
            "Fitting 5 folds for each of 72 candidates, totalling 360 fits\n"
          ],
          "name": "stdout"
        },
        {
          "output_type": "stream",
          "text": [
            "[Parallel(n_jobs=-1)]: Using backend LokyBackend with 2 concurrent workers.\n",
            "[Parallel(n_jobs=-1)]: Done   1 tasks      | elapsed:    0.0s\n",
            "[Parallel(n_jobs=-1)]: Batch computation too fast (0.0221s.) Setting batch_size=18.\n",
            "[Parallel(n_jobs=-1)]: Done   4 tasks      | elapsed:    0.1s\n",
            "[Parallel(n_jobs=-1)]: Done  94 tasks      | elapsed:    1.1s\n",
            "[Parallel(n_jobs=-1)]: Done 184 tasks      | elapsed:    1.6s\n",
            "[Parallel(n_jobs=-1)]: Done 310 tasks      | elapsed:    2.8s\n"
          ],
          "name": "stderr"
        },
        {
          "output_type": "stream",
          "text": [
            "CPU times: user 586 ms, sys: 8.95 ms, total: 595 ms\n",
            "Wall time: 3.19 s\n"
          ],
          "name": "stdout"
        },
        {
          "output_type": "stream",
          "text": [
            "[Parallel(n_jobs=-1)]: Done 360 out of 360 | elapsed:    3.2s finished\n"
          ],
          "name": "stderr"
        }
      ]
    },
    {
      "metadata": {
        "id": "W1_0mNW08l8o",
        "colab_type": "code",
        "colab": {}
      },
      "cell_type": "code",
      "source": [
        ""
      ],
      "execution_count": 0,
      "outputs": []
    },
    {
      "metadata": {
        "id": "urY_Wp3AiF83",
        "colab_type": "text"
      },
      "cell_type": "markdown",
      "source": [
        "## Part 3 — Show best score and parameters\n",
        "\n",
        "Display your **best cross-validation score**, and the **best parameters** (the values of `k, class_weight, C`) from the grid search.\n",
        "\n",
        "(You're not evaluated here on how good your score is, or which parameters you find. You're only evaluated on being able to display the information. There are several ways you can get the information, and any way is acceptable.)"
      ]
    },
    {
      "metadata": {
        "id": "qAxxkjG7gACP",
        "colab_type": "code",
        "colab": {
          "base_uri": "https://localhost:8080/",
          "height": 141
        },
        "outputId": "b67572f8-649a-4a87-a02e-1e08b386c561"
      },
      "cell_type": "code",
      "source": [
        "gs.best_estimator_"
      ],
      "execution_count": 32,
      "outputs": [
        {
          "output_type": "execute_result",
          "data": {
            "text/plain": [
              "Pipeline(memory=None,\n",
              "     steps=[('scale', RobustScaler(copy=True, quantile_range=(25.0, 75.0), with_centering=True,\n",
              "       with_scaling=True)), ('reduce_dim', SelectKBest(k=4, score_func=<function f_classif at 0x7f6e936807b8>)), ('classify', LogisticRegression(C=10, class_weight='None', dual=False, fit_intercept=True,\n",
              "          intercept_scaling=1, max_iter=100, multi_class='warn',\n",
              "          n_jobs=None, penalty='l2', random_state=None, solver='lbfgs',\n",
              "          tol=0.0001, verbose=0, warm_start=False))])"
            ]
          },
          "metadata": {
            "tags": []
          },
          "execution_count": 32
        }
      ]
    },
    {
      "metadata": {
        "id": "k2eyrpro-R1b",
        "colab_type": "code",
        "colab": {
          "base_uri": "https://localhost:8080/",
          "height": 86
        },
        "outputId": "3048ef0f-3c41-49d6-d8c0-6669cbf6d17b"
      },
      "cell_type": "code",
      "source": [
        "best_k = 4\n",
        "best_classweight = 'None'\n",
        "best_C = 10\n",
        "\n",
        "report3 = f'According to my 5-fold gridsearch: \\n\\tthe best number of ' + \\\n",
        "          f'features to select is {best_k}\\n\\tthe best class-weighing ' + \\\n",
        "          f'is {best_classweight}\\n\\tthe best regularization ' +\\\n",
        "          f'strength is {best_C}' \n",
        "\n",
        "\n",
        "print(report3)"
      ],
      "execution_count": 35,
      "outputs": [
        {
          "output_type": "stream",
          "text": [
            "According to my 5-fold gridsearch: \n",
            "\tthe best number of features to select is 4\n",
            "\tthe best class-weighing is None\n",
            "\tthe best regularization strength is 10\n"
          ],
          "name": "stdout"
        }
      ]
    },
    {
      "metadata": {
        "id": "jkyHoRIbEgRR",
        "colab_type": "text"
      },
      "cell_type": "markdown",
      "source": [
        "## Part 4 — Calculate classification metrics from a confusion matrix\n",
        "\n",
        "Suppose this is the confusion matrix for your binary classification model:\n",
        "\n",
        "<table>\n",
        "  <tr>\n",
        "    <th colspan=\"2\" rowspan=\"2\"></th>\n",
        "    <th colspan=\"2\">Predicted</th>\n",
        "  </tr>\n",
        "  <tr>\n",
        "    <th>Negative</th>\n",
        "    <th>Positive</th>\n",
        "  </tr>\n",
        "  <tr>\n",
        "    <th rowspan=\"2\">Actual</th>\n",
        "    <th>Negative</th>\n",
        "    <td>85</td>\n",
        "    <td>58</td>\n",
        "  </tr>\n",
        "  <tr>\n",
        "    <th>Positive</th>\n",
        "    <td>8</td>\n",
        "    <td>36</td>\n",
        "  </tr>\n",
        "</table>"
      ]
    },
    {
      "metadata": {
        "id": "LhyMM5H-JpVB",
        "colab_type": "text"
      },
      "cell_type": "markdown",
      "source": [
        "Calculate accuracy"
      ]
    },
    {
      "metadata": {
        "id": "TZPwqdh2KUcB",
        "colab_type": "code",
        "colab": {}
      },
      "cell_type": "code",
      "source": [
        ""
      ],
      "execution_count": 0,
      "outputs": []
    },
    {
      "metadata": {
        "id": "BRWLfGcGKeQw",
        "colab_type": "text"
      },
      "cell_type": "markdown",
      "source": [
        "Calculate precision"
      ]
    },
    {
      "metadata": {
        "id": "A-FEZ4i_Kf_n",
        "colab_type": "code",
        "colab": {}
      },
      "cell_type": "code",
      "source": [
        ""
      ],
      "execution_count": 0,
      "outputs": []
    },
    {
      "metadata": {
        "id": "h_mH2NYDKi2C",
        "colab_type": "text"
      },
      "cell_type": "markdown",
      "source": [
        "Calculate recall"
      ]
    },
    {
      "metadata": {
        "id": "U4_wJGyjKkXJ",
        "colab_type": "code",
        "colab": {}
      },
      "cell_type": "code",
      "source": [
        ""
      ],
      "execution_count": 0,
      "outputs": []
    },
    {
      "metadata": {
        "id": "9KEaWsk5Kk9W",
        "colab_type": "text"
      },
      "cell_type": "markdown",
      "source": [
        "## BONUS — How you can earn a score of 3\n",
        "\n",
        "### Part 1\n",
        "Do feature engineering, to try improving your cross-validation score.\n",
        "\n",
        "### Part 2\n",
        "Add transformations in your pipeline and parameters in your grid, to try improving your cross-validation score.\n",
        "\n",
        "### Part 3\n",
        "Show names of selected features. Then do a final evaluation on the test set — what is the test score?\n",
        "\n",
        "### Part 4\n",
        "Calculate F1 score and False Positive Rate. "
      ]
    }
  ]
}