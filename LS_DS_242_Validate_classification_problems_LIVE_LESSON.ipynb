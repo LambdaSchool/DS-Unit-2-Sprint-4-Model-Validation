{
  "nbformat": 4,
  "nbformat_minor": 0,
  "metadata": {
    "colab": {
      "name": "LS_DS_242_Validate_classification_problems LIVE LESSON.ipynb",
      "version": "0.3.2",
      "provenance": [],
      "collapsed_sections": [],
      "include_colab_link": true
    },
    "kernelspec": {
      "name": "python3",
      "display_name": "Python 3"
    }
  },
  "cells": [
    {
      "cell_type": "markdown",
      "metadata": {
        "id": "view-in-github",
        "colab_type": "text"
      },
      "source": [
        "<a href=\"https://colab.research.google.com/github/tesseract314/DS-Unit-2-Sprint-4-Model-Validation/blob/master/LS_DS_242_Validate_classification_problems_LIVE_LESSON.ipynb\" target=\"_parent\"><img src=\"https://colab.research.google.com/assets/colab-badge.svg\" alt=\"Open In Colab\"/></a>"
      ]
    },
    {
      "metadata": {
        "id": "KMI2k-oBsS08",
        "colab_type": "text"
      },
      "cell_type": "markdown",
      "source": [
        "_Lambda School Data Science — Model Validation_ \n",
        "\n",
        "# Validate classification problems\n",
        "\n",
        "Objectives\n",
        "- Classification Metrics: Precision, Recall, F1, ROC AUC\n",
        "- Confusion Matrix\n",
        "- Imbalanced Classes\n"
      ]
    },
    {
      "metadata": {
        "id": "SUZCkblZYN60",
        "colab_type": "text"
      },
      "cell_type": "markdown",
      "source": [
        "Reading\n",
        "- [Precision and Recall](https://en.wikipedia.org/wiki/Precision_and_recall)\n",
        "- [Simple guide to confusion matrix terminology](https://www.dataschool.io/simple-guide-to-confusion-matrix-terminology/)\n",
        "- [ROC curves and Area Under the Curve explained](https://www.dataschool.io/roc-curves-and-auc-explained/)"
      ]
    },
    {
      "metadata": {
        "id": "rU7RuVcjWdcp",
        "colab_type": "text"
      },
      "cell_type": "markdown",
      "source": [
        "## Preliminary setup"
      ]
    },
    {
      "metadata": {
        "id": "WIqp4yzdUsf2",
        "colab_type": "text"
      },
      "cell_type": "markdown",
      "source": [
        "#### Install [category_encoders](https://github.com/scikit-learn-contrib/categorical-encoding)\n",
        "- Google Colab: `pip install category_encoders`\n",
        "- Local, Anaconda: `conda install -c conda-forge category_encoders`\n",
        "\n",
        "#### Install  [mlxtend](http://rasbt.github.io/mlxtend/) to plot decision regions\n",
        "- Google Colab: Already installed\n",
        "- Local, Anaconda: `conda install -c conda-forge mlxtend`\n",
        "\n",
        "#### Get the Bank Marketing dataset from Kaggle ...\n",
        "- Download from the [Kaggle competition page](https://www.kaggle.com/c/ds2-model-validation/data)\n",
        "- Or use the Kaggle API\n",
        "\n",
        "#### ... or from GitHub\n",
        "- Clone the [repo](https://github.com/LambdaSchool/DS-Unit-2-Sprint-4-Model-Validation/tree/master/module-1-begin-modeling-process/bank-marketing)\n",
        "- Or download from the repo:"
      ]
    },
    {
      "metadata": {
        "id": "Ut7wm5_xUqvz",
        "colab_type": "code",
        "colab": {
          "base_uri": "https://localhost:8080/",
          "height": 776
        },
        "outputId": "1deed88d-fb9e-4ae5-c414-ecd141fea8b5"
      },
      "cell_type": "code",
      "source": [
        "# Installing csv files for bank marketing data\n",
        "!wget https://raw.githubusercontent.com/LambdaSchool/DS-Unit-2-Sprint-4-Model-Validation/master/module-1-begin-modeling-process/bank-marketing/train_features.csv\n",
        "!wget https://raw.githubusercontent.com/LambdaSchool/DS-Unit-2-Sprint-4-Model-Validation/master/module-1-begin-modeling-process/bank-marketing/train_labels.csv\n",
        "!wget https://raw.githubusercontent.com/LambdaSchool/DS-Unit-2-Sprint-4-Model-Validation/master/module-1-begin-modeling-process/bank-marketing/test_features.csv\n",
        "!wget https://raw.githubusercontent.com/LambdaSchool/DS-Unit-2-Sprint-4-Model-Validation/master/module-1-begin-modeling-process/bank-marketing/sample_submission.csv"
      ],
      "execution_count": 1,
      "outputs": [
        {
          "output_type": "stream",
          "text": [
            "--2019-03-05 20:15:55--  https://raw.githubusercontent.com/LambdaSchool/DS-Unit-2-Sprint-4-Model-Validation/master/module-1-begin-modeling-process/bank-marketing/train_features.csv\n",
            "Resolving raw.githubusercontent.com (raw.githubusercontent.com)... 151.101.0.133, 151.101.64.133, 151.101.128.133, ...\n",
            "Connecting to raw.githubusercontent.com (raw.githubusercontent.com)|151.101.0.133|:443... connected.\n",
            "HTTP request sent, awaiting response... 200 OK\n",
            "Length: 3833210 (3.7M) [text/plain]\n",
            "Saving to: ‘train_features.csv.1’\n",
            "\n",
            "\rtrain_features.csv.   0%[                    ]       0  --.-KB/s               \rtrain_features.csv. 100%[===================>]   3.66M  --.-KB/s    in 0.06s   \n",
            "\n",
            "2019-03-05 20:15:55 (59.0 MB/s) - ‘train_features.csv.1’ saved [3833210/3833210]\n",
            "\n",
            "--2019-03-05 20:15:56--  https://raw.githubusercontent.com/LambdaSchool/DS-Unit-2-Sprint-4-Model-Validation/master/module-1-begin-modeling-process/bank-marketing/train_labels.csv\n",
            "Resolving raw.githubusercontent.com (raw.githubusercontent.com)... 151.101.0.133, 151.101.64.133, 151.101.128.133, ...\n",
            "Connecting to raw.githubusercontent.com (raw.githubusercontent.com)|151.101.0.133|:443... connected.\n",
            "HTTP request sent, awaiting response... 200 OK\n",
            "Length: 247133 (241K) [text/plain]\n",
            "Saving to: ‘train_labels.csv.1’\n",
            "\n",
            "train_labels.csv.1  100%[===================>] 241.34K  --.-KB/s    in 0.03s   \n",
            "\n",
            "2019-03-05 20:15:56 (7.99 MB/s) - ‘train_labels.csv.1’ saved [247133/247133]\n",
            "\n",
            "--2019-03-05 20:15:57--  https://raw.githubusercontent.com/LambdaSchool/DS-Unit-2-Sprint-4-Model-Validation/master/module-1-begin-modeling-process/bank-marketing/test_features.csv\n",
            "Resolving raw.githubusercontent.com (raw.githubusercontent.com)... 151.101.0.133, 151.101.64.133, 151.101.128.133, ...\n",
            "Connecting to raw.githubusercontent.com (raw.githubusercontent.com)|151.101.0.133|:443... connected.\n",
            "HTTP request sent, awaiting response... 200 OK\n",
            "Length: 1277012 (1.2M) [text/plain]\n",
            "Saving to: ‘test_features.csv.1’\n",
            "\n",
            "test_features.csv.1 100%[===================>]   1.22M  --.-KB/s    in 0.05s   \n",
            "\n",
            "2019-03-05 20:15:57 (23.0 MB/s) - ‘test_features.csv.1’ saved [1277012/1277012]\n",
            "\n",
            "--2019-03-05 20:15:57--  https://raw.githubusercontent.com/LambdaSchool/DS-Unit-2-Sprint-4-Model-Validation/master/module-1-begin-modeling-process/bank-marketing/sample_submission.csv\n",
            "Resolving raw.githubusercontent.com (raw.githubusercontent.com)... 151.101.0.133, 151.101.64.133, 151.101.128.133, ...\n",
            "Connecting to raw.githubusercontent.com (raw.githubusercontent.com)|151.101.0.133|:443... connected.\n",
            "HTTP request sent, awaiting response... 200 OK\n",
            "Length: 102975 (101K) [text/plain]\n",
            "Saving to: ‘sample_submission.csv.1’\n",
            "\n",
            "sample_submission.c 100%[===================>] 100.56K  --.-KB/s    in 0.02s   \n",
            "\n",
            "2019-03-05 20:15:58 (4.35 MB/s) - ‘sample_submission.csv.1’ saved [102975/102975]\n",
            "\n"
          ],
          "name": "stdout"
        }
      ]
    },
    {
      "metadata": {
        "id": "L-k-oXH5V8X9",
        "colab_type": "code",
        "colab": {
          "base_uri": "https://localhost:8080/",
          "height": 185
        },
        "outputId": "8e408daa-d986-4b59-b1f0-f54097c4d8e0"
      },
      "cell_type": "code",
      "source": [
        "# Installing encoder from sklearn contrib\n",
        "!pip install category_encoders"
      ],
      "execution_count": 2,
      "outputs": [
        {
          "output_type": "stream",
          "text": [
            "Requirement already satisfied: category_encoders in /usr/local/lib/python3.6/dist-packages (1.3.0)\n",
            "Requirement already satisfied: patsy>=0.4.1 in /usr/local/lib/python3.6/dist-packages (from category_encoders) (0.5.1)\n",
            "Requirement already satisfied: scikit-learn>=0.17.1 in /usr/local/lib/python3.6/dist-packages (from category_encoders) (0.20.3)\n",
            "Requirement already satisfied: numpy>=1.11.1 in /usr/local/lib/python3.6/dist-packages (from category_encoders) (1.14.6)\n",
            "Requirement already satisfied: statsmodels>=0.6.1 in /usr/local/lib/python3.6/dist-packages (from category_encoders) (0.8.0)\n",
            "Requirement already satisfied: scipy>=0.17.0 in /usr/local/lib/python3.6/dist-packages (from category_encoders) (1.1.0)\n",
            "Requirement already satisfied: pandas>=0.20.1 in /usr/local/lib/python3.6/dist-packages (from category_encoders) (0.22.0)\n",
            "Requirement already satisfied: six in /usr/local/lib/python3.6/dist-packages (from patsy>=0.4.1->category_encoders) (1.11.0)\n",
            "Requirement already satisfied: pytz>=2011k in /usr/local/lib/python3.6/dist-packages (from pandas>=0.20.1->category_encoders) (2018.9)\n",
            "Requirement already satisfied: python-dateutil>=2 in /usr/local/lib/python3.6/dist-packages (from pandas>=0.20.1->category_encoders) (2.5.3)\n"
          ],
          "name": "stdout"
        }
      ]
    },
    {
      "metadata": {
        "id": "exZrRRC2WObS",
        "colab_type": "text"
      },
      "cell_type": "markdown",
      "source": [
        "# Classification Metrics & Confusion Matrix — with Bank Marketing dataset"
      ]
    },
    {
      "metadata": {
        "id": "1FnLW0DjWKaW",
        "colab_type": "code",
        "colab": {}
      },
      "cell_type": "code",
      "source": [
        "# (Code from the previous notebook) -- doing it all in one cell for quick reference\n",
        "\n",
        "# Imports\n",
        "%matplotlib inline\n",
        "import warnings\n",
        "import category_encoders as ce\n",
        "import matplotlib.pyplot as plt\n",
        "import numpy as np\n",
        "import pandas as pd\n",
        "from sklearn.linear_model import LogisticRegression\n",
        "from sklearn.model_selection import cross_val_score\n",
        "from sklearn.metrics import roc_auc_score\n",
        "from sklearn.pipeline import make_pipeline\n",
        "from sklearn.exceptions import DataConversionWarning\n",
        "from sklearn.preprocessing import StandardScaler\n",
        "warnings.filterwarnings(action='ignore', category=DataConversionWarning)\n",
        "\n",
        "# Load data\n",
        "X_train = pd.read_csv('train_features.csv').drop(columns='id')\n",
        "X_test  = pd.read_csv('test_features.csv').drop(columns='id')\n",
        "y_train = pd.read_csv('train_labels.csv')['y']\n",
        "sample_submission = pd.read_csv('sample_submission.csv')\n",
        "\n",
        "# Make pipeline\n",
        "pipeline = make_pipeline(\n",
        "    ce.OneHotEncoder(use_cat_names=True), \n",
        "    StandardScaler(), \n",
        "    LogisticRegression(solver='lbfgs', max_iter=1000)\n",
        ")"
      ],
      "execution_count": 0,
      "outputs": []
    },
    {
      "metadata": {
        "id": "ktgWzULWW2Z0",
        "colab_type": "text"
      },
      "cell_type": "markdown",
      "source": [
        "#### scikit-learn documentation\n",
        "- [sklearn.linear_model.LogisticRegression.predict_proba](https://scikit-learn.org/stable/modules/generated/sklearn.linear_model.LogisticRegression.html#sklearn.linear_model.LogisticRegression.predict_proba)\n",
        "- [sklearn.metrics.classification_report](https://scikit-learn.org/stable/modules/generated/sklearn.metrics.classification_report.html)\n",
        "- [sklearn.metrics.confusion_matrix](https://scikit-learn.org/stable/modules/generated/sklearn.metrics.confusion_matrix.html)\n",
        "- [sklearn.model_selection.cross_val_predict](https://scikit-learn.org/stable/modules/generated/sklearn.model_selection.cross_val_predict.html)"
      ]
    },
    {
      "metadata": {
        "id": "bXN_sDXYWkj4",
        "colab_type": "code",
        "colab": {}
      },
      "cell_type": "code",
      "source": [
        "from sklearn.metrics import classification_report, confusion_matrix\n",
        "from sklearn.model_selection import cross_val_predict\n",
        "\n",
        "y_pred_proba = cross_val_predict(pipeline, X_train, y_train, cv=3, n_jobs=-1, \n",
        "                                 method='predict_proba')[:, 1]"
      ],
      "execution_count": 0,
      "outputs": []
    },
    {
      "metadata": {
        "id": "rUSwvvwz8R2q",
        "colab_type": "code",
        "colab": {
          "base_uri": "https://localhost:8080/",
          "height": 50
        },
        "outputId": "3cfaf6fe-e7f4-4281-deeb-ecc50574fccb"
      },
      "cell_type": "code",
      "source": [
        "y_pred_proba"
      ],
      "execution_count": 10,
      "outputs": [
        {
          "output_type": "execute_result",
          "data": {
            "text/plain": [
              "array([0.0733274 , 0.04161109, 0.04878777, ..., 0.05844843, 0.10222659,\n",
              "       0.04213551])"
            ]
          },
          "metadata": {
            "tags": []
          },
          "execution_count": 10
        }
      ]
    },
    {
      "metadata": {
        "id": "w7-BGBy2kLwN",
        "colab_type": "code",
        "colab": {
          "base_uri": "https://localhost:8080/",
          "height": 118
        },
        "outputId": "8f1a4a2f-d51e-4466-8dda-a24e4ab21c77"
      },
      "cell_type": "code",
      "source": [
        "cross_val_score(pipeline, X_train, y_train, scoring='roc_auc', cv=10, n_jobs=-1, verbose=10)"
      ],
      "execution_count": 11,
      "outputs": [
        {
          "output_type": "stream",
          "text": [
            "[Parallel(n_jobs=-1)]: Using backend LokyBackend with 2 concurrent workers.\n",
            "[Parallel(n_jobs=-1)]: Done   1 tasks      | elapsed:    2.8s\n",
            "[Parallel(n_jobs=-1)]: Done   4 tasks      | elapsed:    4.9s\n",
            "[Parallel(n_jobs=-1)]: Done  10 out of  10 | elapsed:   10.1s finished\n"
          ],
          "name": "stderr"
        },
        {
          "output_type": "execute_result",
          "data": {
            "text/plain": [
              "array([0.77295183, 0.78574708, 0.78036636, 0.79742952, 0.79020263,\n",
              "       0.79837252, 0.79259604, 0.80331817, 0.77434981, 0.78202959])"
            ]
          },
          "metadata": {
            "tags": []
          },
          "execution_count": 11
        }
      ]
    },
    {
      "metadata": {
        "id": "OpwkCCh4l6ru",
        "colab_type": "code",
        "colab": {
          "base_uri": "https://localhost:8080/",
          "height": 34
        },
        "outputId": "edce08da-d040-4065-9a37-041b474fa90d"
      },
      "cell_type": "code",
      "source": [
        "roc_auc_score(y_train, y_pred_proba)"
      ],
      "execution_count": 14,
      "outputs": [
        {
          "output_type": "execute_result",
          "data": {
            "text/plain": [
              "0.7868824318368706"
            ]
          },
          "metadata": {
            "tags": []
          },
          "execution_count": 14
        }
      ]
    },
    {
      "metadata": {
        "id": "y2kcB3GNmc77",
        "colab_type": "code",
        "colab": {
          "base_uri": "https://localhost:8080/",
          "height": 34
        },
        "outputId": "a35deef5-45cf-43ef-b63b-fade64a924cb"
      },
      "cell_type": "code",
      "source": [
        "np.mean([0.77295183, 0.78574708, 0.78036636, 0.79742952, 0.79020263,\n",
        "       0.79837252, 0.79259604, 0.80331817, 0.77434981, 0.78202959])"
      ],
      "execution_count": 18,
      "outputs": [
        {
          "output_type": "execute_result",
          "data": {
            "text/plain": [
              "0.787736355"
            ]
          },
          "metadata": {
            "tags": []
          },
          "execution_count": 18
        }
      ]
    },
    {
      "metadata": {
        "id": "h01_ZZxcX0hf",
        "colab_type": "text"
      },
      "cell_type": "markdown",
      "source": [
        "#### Change the threshold and re-run this cell"
      ]
    },
    {
      "metadata": {
        "id": "4xRbAMxmXrXw",
        "colab_type": "code",
        "outputId": "355cb405-1faf-4947-ffb4-32a26caefa8a",
        "colab": {
          "base_uri": "https://localhost:8080/",
          "height": 258
        }
      },
      "cell_type": "code",
      "source": [
        "threshold = 0.5\n",
        "y_pred = y_pred_proba >= threshold\n",
        "\n",
        "print(classification_report(y_train, y_pred)) # Printing classification report\n",
        "\n",
        "# Putting conf matrix in a dataframe\n",
        "pd.DataFrame(confusion_matrix(y_train, y_pred), \n",
        "             columns=['Predicted Negative', 'Predicted Positive'], \n",
        "             index=['Actual Negative', 'Actual Positive'])"
      ],
      "execution_count": 19,
      "outputs": [
        {
          "output_type": "stream",
          "text": [
            "              precision    recall  f1-score   support\n",
            "\n",
            "           0       0.91      0.98      0.95     27411\n",
            "           1       0.65      0.23      0.34      3480\n",
            "\n",
            "   micro avg       0.90      0.90      0.90     30891\n",
            "   macro avg       0.78      0.61      0.64     30891\n",
            "weighted avg       0.88      0.90      0.88     30891\n",
            "\n"
          ],
          "name": "stdout"
        },
        {
          "output_type": "execute_result",
          "data": {
            "text/html": [
              "<div>\n",
              "<style scoped>\n",
              "    .dataframe tbody tr th:only-of-type {\n",
              "        vertical-align: middle;\n",
              "    }\n",
              "\n",
              "    .dataframe tbody tr th {\n",
              "        vertical-align: top;\n",
              "    }\n",
              "\n",
              "    .dataframe thead th {\n",
              "        text-align: right;\n",
              "    }\n",
              "</style>\n",
              "<table border=\"1\" class=\"dataframe\">\n",
              "  <thead>\n",
              "    <tr style=\"text-align: right;\">\n",
              "      <th></th>\n",
              "      <th>Predicted Negative</th>\n",
              "      <th>Predicted Positive</th>\n",
              "    </tr>\n",
              "  </thead>\n",
              "  <tbody>\n",
              "    <tr>\n",
              "      <th>Actual Negative</th>\n",
              "      <td>26990</td>\n",
              "      <td>421</td>\n",
              "    </tr>\n",
              "    <tr>\n",
              "      <th>Actual Positive</th>\n",
              "      <td>2690</td>\n",
              "      <td>790</td>\n",
              "    </tr>\n",
              "  </tbody>\n",
              "</table>\n",
              "</div>"
            ],
            "text/plain": [
              "                 Predicted Negative  Predicted Positive\n",
              "Actual Negative               26990                 421\n",
              "Actual Positive                2690                 790"
            ]
          },
          "metadata": {
            "tags": []
          },
          "execution_count": 19
        }
      ]
    },
    {
      "metadata": {
        "id": "InBb016HcSef",
        "colab_type": "code",
        "colab": {
          "base_uri": "https://localhost:8080/",
          "height": 34
        },
        "outputId": "5365ebe1-a55b-4df6-f46a-b3bb1a0e66b1"
      },
      "cell_type": "code",
      "source": [
        "# Making variables from confustion matrix above\n",
        "true_negative  = 26990\n",
        "false_positive = 421\n",
        "false_negative = 2690\n",
        "true_positive  = 790\n",
        "\n",
        "accuracy = ((true_negative + true_positive) / \n",
        "            (true_negative + false_positive + false_negative + true_positive))\n",
        "\n",
        "actual_negative = true_negative + false_positive\n",
        "actual_positive = false_negative + true_positive\n",
        "\n",
        "predicted_negative = true_negative + false_negative\n",
        "predicted_positive = false_positive + true_positive\n",
        "\n",
        "precision = true_positive / predicted_positive\n",
        "recall = true_positive / actual_positive\n",
        "f1 = 2 * (precision*recall) / (precision+recall) \n",
        "print('Precision:', precision, 'Recall:', recall, 'F1:', f1)"
      ],
      "execution_count": 21,
      "outputs": [
        {
          "output_type": "stream",
          "text": [
            "Precision: 0.652353426919901 Recall: 0.22701149425287356 F1: 0.3368151780004264\n"
          ],
          "name": "stdout"
        }
      ]
    },
    {
      "metadata": {
        "id": "d50kghfPYk1D",
        "colab_type": "text"
      },
      "cell_type": "markdown",
      "source": [
        "#### ROC Curve\n",
        "- [sklearn.metrics.roc_curve](https://scikit-learn.org/stable/modules/generated/sklearn.metrics.roc_curve.html)\n",
        "- [sklearn.metrics.roc_auc_score](https://scikit-learn.org/stable/modules/generated/sklearn.metrics.roc_auc_score.html)"
      ]
    },
    {
      "metadata": {
        "id": "yx5WEweMYBYY",
        "colab_type": "code",
        "outputId": "1f5e9acd-fafb-4874-afa7-72c6d457af90",
        "colab": {
          "base_uri": "https://localhost:8080/",
          "height": 310
        }
      },
      "cell_type": "code",
      "source": [
        "from sklearn.metrics import roc_auc_score, roc_curve\n",
        "fpr, tpr, thresholds = roc_curve(y_train, y_pred_proba)\n",
        "plt.plot(fpr, tpr)\n",
        "plt.title('ROC curve')\n",
        "plt.xlabel('False Positive Rate')\n",
        "plt.ylabel('True Positive Rate')\n",
        "print('Area under the Receiver Operating Characteristic curve:', \n",
        "      roc_auc_score(y_train, y_pred_proba))\n",
        "\n",
        "# When the threshold = 0.5\n",
        "false_positive = 421\n",
        "true_positive = 790\n",
        "false_positive_rate = false_positive/actual_negative\n",
        "true_positive_rate = true_positive/actual_positive\n",
        "plt.scatter(false_positive_rate, true_positive_rate);\n",
        "\n",
        "# When the threshold = 0.1\n",
        "false_positive = 4946\n",
        "true_positive = 2250\n",
        "false_positive_rate = false_positive/actual_negative\n",
        "true_positive_rate = true_positive/actual_positive\n",
        "plt.scatter(false_positive_rate, true_positive_rate);"
      ],
      "execution_count": 22,
      "outputs": [
        {
          "output_type": "stream",
          "text": [
            "Area under the Receiver Operating Characteristic curve: 0.7868824318368706\n"
          ],
          "name": "stdout"
        },
        {
          "output_type": "display_data",
          "data": {
            "image/png": "[encoded data removed]",
            "text/plain": [
              "<Figure size 432x288 with 1 Axes>"
            ]
          },
          "metadata": {
            "tags": []
          }
        }
      ]
    },
    {
      "metadata": {
        "id": "DMiqiAB_WVPK",
        "colab_type": "text"
      },
      "cell_type": "markdown",
      "source": [
        "# Imbalanced Classes — with synthetic data"
      ]
    },
    {
      "metadata": {
        "id": "OWLBlu5K5kJR",
        "colab_type": "text"
      },
      "cell_type": "markdown",
      "source": [
        "## Fun demo!\n",
        "\n",
        "The next code cell does five things:\n",
        "\n",
        "#### 1. Generate data\n",
        "\n",
        "We use scikit-learn's [make_classification](https://scikit-learn.org/stable/modules/generated/sklearn.datasets.make_classification.html) function to generate fake data for a binary classification problem, based on several parameters, including:\n",
        "- Number of samples\n",
        "- Weights, meaning \"the proportions of samples assigned to each class.\"\n",
        "- Class separation: \"Larger values spread out the clusters/classes and make the classification task easier.\"\n",
        "\n",
        "(We are generating fake data so it is easy to visualize.)\n",
        "\n",
        "#### 2. Split data\n",
        "\n",
        "We split the data three ways, into train, validation, and test sets. (For this toy example, it's not really necessary to do a three-way split. A two-way split, or even no split, would be ok. But I'm trying to demonstrate good habits, even in toy examples, to avoid confusion.)\n",
        "\n",
        "#### 3. Fit model\n",
        "\n",
        "We use scikit-learn to fit a [Logistic Regression](https://scikit-learn.org/stable/modules/generated/sklearn.linear_model.LogisticRegression.html) on the training data.\n",
        "\n",
        "We use this model parameter:\n",
        "\n",
        "> **class_weight : _dict or ‘balanced’, default: None_**\n",
        "\n",
        "> Weights associated with classes in the form `{class_label: weight}`. If not given, all classes are supposed to have weight one.\n",
        "\n",
        "> The “balanced” mode uses the values of y to automatically adjust weights inversely proportional to class frequencies in the input data as `n_samples / (n_classes * np.bincount(y))`.\n",
        "\n",
        "\n",
        "#### 4. Evaluate model\n",
        "\n",
        "We use our Logistic Regression model, which was fit on the training data, to generate predictions for the validation data.\n",
        "\n",
        "Then we print [scikit-learn's Classification Report](https://scikit-learn.org/stable/modules/model_evaluation.html#classification-report), with many metrics, and also the accuracy score. We are comparing the correct labels to the Logistic Regression's predicted labels, for the validation set. \n",
        "\n",
        "#### 5. Visualize decision function\n",
        "\n",
        "Based on these examples\n",
        "- https://imbalanced-learn.readthedocs.io/en/stable/auto_examples/combine/plot_comparison_combine.html\n",
        "- http://rasbt.github.io/mlxtend/user_guide/plotting/plot_decision_regions/#example-1-decision-regions-in-2d"
      ]
    },
    {
      "metadata": {
        "id": "PMTjC3vQ7ZNV",
        "colab_type": "code",
        "colab": {}
      },
      "cell_type": "code",
      "source": [
        "from sklearn.model_selection import train_test_split\n",
        "\n",
        "def train_validation_test_split(\n",
        "    X, y, train_size=0.8, val_size=0.1, test_size=0.1, \n",
        "    random_state=None, shuffle=True):\n",
        "        \n",
        "    assert train_size + val_size + test_size == 1\n",
        "    \n",
        "    X_train_val, X_test, y_train_val, y_test = train_test_split(\n",
        "        X, y, test_size=test_size, random_state=random_state, shuffle=shuffle)\n",
        "    \n",
        "    X_train, X_val, y_train, y_val = train_test_split(\n",
        "        X_train_val, y_train_val, test_size=val_size/(train_size+val_size), \n",
        "        random_state=random_state, shuffle=shuffle)\n",
        "    \n",
        "    return X_train, X_val, X_test, y_train, y_val, y_test"
      ],
      "execution_count": 0,
      "outputs": []
    },
    {
      "metadata": {
        "id": "TcpoWCUq5xNV",
        "colab_type": "code",
        "outputId": "b7cc4074-7e6c-46b5-ed0c-2430e99c9913",
        "colab": {
          "base_uri": "https://localhost:8080/",
          "height": 638
        }
      },
      "cell_type": "code",
      "source": [
        "%matplotlib inline\n",
        "from IPython.display import display\n",
        "import matplotlib.pyplot as plt\n",
        "from sklearn.datasets import make_classification\n",
        "from sklearn.metrics import accuracy_score, classification_report\n",
        "from sklearn.linear_model import LogisticRegression\n",
        "from mlxtend.plotting import plot_decision_regions\n",
        "\n",
        "\n",
        "#1. Generate data\n",
        "\n",
        "# Try re-running the cell with different values for these parameters\n",
        "n_samples = 1000\n",
        "weights = (0.95, 0.05)\n",
        "class_sep = 0.8\n",
        "\n",
        "X, y = make_classification(n_samples=n_samples, n_features=2, n_informative=2, \n",
        "                           n_redundant=0, n_repeated=0, n_classes=2, \n",
        "                           n_clusters_per_class=1, weights=weights, \n",
        "                           class_sep=class_sep, random_state=0)\n",
        "\n",
        "\n",
        "# 2. Split data\n",
        "\n",
        "# Uses our custom train_validation_test_split function\n",
        "X_train, X_val, X_test, y_train, y_val, y_test = train_validation_test_split(\n",
        "    X, y, train_size=0.8, val_size=0.1, test_size=0.1, random_state=1)\n",
        "\n",
        "\n",
        "# 3. Fit model\n",
        "\n",
        "# Try re-running the cell with different values for this parameter\n",
        "class_weight = None\n",
        "\n",
        "model = LogisticRegression(solver='lbfgs', class_weight=class_weight)\n",
        "model.fit(X_train, y_train)\n",
        "\n",
        "\n",
        "# 4. Evaluate model\n",
        "\n",
        "y_pred = model.predict(X_val)\n",
        "print(classification_report(y_val, y_pred))\n",
        "print('accuracy', accuracy_score(y_val, y_pred))\n",
        "display(pd.DataFrame(\n",
        "    confusion_matrix(y_val, y_pred), \n",
        "    columns=['Predicted Negative', 'Predicted Positive'], \n",
        "    index=['Actual Negative', 'Actual Positive']))\n",
        "\n",
        "\n",
        "# 5. Visualize decision regions\n",
        "\n",
        "plt.figure(figsize=(10, 6))\n",
        "plot_decision_regions(X_val, y_val, model, legend=0);"
      ],
      "execution_count": 0,
      "outputs": [
        {
          "output_type": "stream",
          "text": [
            "              precision    recall  f1-score   support\n",
            "\n",
            "           0       0.98      1.00      0.99        96\n",
            "           1       1.00      0.50      0.67         4\n",
            "\n",
            "   micro avg       0.98      0.98      0.98       100\n",
            "   macro avg       0.99      0.75      0.83       100\n",
            "weighted avg       0.98      0.98      0.98       100\n",
            "\n",
            "accuracy 0.98\n"
          ],
          "name": "stdout"
        },
        {
          "output_type": "display_data",
          "data": {
            "text/html": [
              "<div>\n",
              "<style scoped>\n",
              "    .dataframe tbody tr th:only-of-type {\n",
              "        vertical-align: middle;\n",
              "    }\n",
              "\n",
              "    .dataframe tbody tr th {\n",
              "        vertical-align: top;\n",
              "    }\n",
              "\n",
              "    .dataframe thead th {\n",
              "        text-align: right;\n",
              "    }\n",
              "</style>\n",
              "<table border=\"1\" class=\"dataframe\">\n",
              "  <thead>\n",
              "    <tr style=\"text-align: right;\">\n",
              "      <th></th>\n",
              "      <th>Predicted Negative</th>\n",
              "      <th>Predicted Positive</th>\n",
              "    </tr>\n",
              "  </thead>\n",
              "  <tbody>\n",
              "    <tr>\n",
              "      <th>Actual Negative</th>\n",
              "      <td>96</td>\n",
              "      <td>0</td>\n",
              "    </tr>\n",
              "    <tr>\n",
              "      <th>Actual Positive</th>\n",
              "      <td>2</td>\n",
              "      <td>2</td>\n",
              "    </tr>\n",
              "  </tbody>\n",
              "</table>\n",
              "</div>"
            ],
            "text/plain": [
              "                 Predicted Negative  Predicted Positive\n",
              "Actual Negative                  96                   0\n",
              "Actual Positive                   2                   2"
            ]
          },
          "metadata": {
            "tags": []
          }
        },
        {
          "output_type": "display_data",
          "data": {
            "image/png": "[encoded data removed]",
            "text/plain": [
              "<Figure size 720x432 with 1 Axes>"
            ]
          },
          "metadata": {
            "tags": []
          }
        }
      ]
    },
    {
      "metadata": {
        "id": "zrllN3yECsEN",
        "colab_type": "text"
      },
      "cell_type": "markdown",
      "source": [
        "Try re-running the cell above with different values for these four parameters:\n",
        "- `n_samples`\n",
        "- `weights`\n",
        "- `class_sep`\n",
        "- `class_balance`\n",
        "\n",
        "For example, with a 50% / 50% class distribution:\n",
        "```\n",
        "n_samples = 1000\n",
        "weights = (0.50, 0.50)\n",
        "class_sep = 0.8\n",
        "class_balance = None\n",
        "```\n",
        "\n",
        "With a 95% / 5% class distribution:\n",
        "```\n",
        "n_samples = 1000\n",
        "weights = (0.95, 0.05)\n",
        "class_sep = 0.8\n",
        "class_balance = None\n",
        "```\n",
        "\n",
        "With the same 95% / 5% class distribution, but changing the Logistic Regression's `class_balance` parameter to `'balanced'` (instead of its default `None`)\n",
        "```\n",
        "n_samples = 1000\n",
        "weights = (0.95, 0.05)\n",
        "class_sep = 0.8\n",
        "class_balance = 'balanced'\n",
        "```\n",
        "\n",
        "With the same 95% / 5% class distribution, but with different values for `class_balance`:\n",
        "- `{0: 1, 1: 1}` _(equivalent to `None`)_\n",
        "- `{0: 1, 1: 2}`\n",
        "- `{0: 1, 1: 10}` _(roughly equivalent to `'balanced'` for this dataset)_\n",
        "- `{0: 1, 1: 100}`\n",
        "- `{0: 1, 1: 10000}`\n",
        "\n",
        "How do the evaluation metrics and decision region plots change?"
      ]
    },
    {
      "metadata": {
        "id": "5-3MS-jANssN",
        "colab_type": "text"
      },
      "cell_type": "markdown",
      "source": [
        "## What you can do about imbalanced classes"
      ]
    },
    {
      "metadata": {
        "id": "2KwgStd-yUUr",
        "colab_type": "text"
      },
      "cell_type": "markdown",
      "source": [
        "[Learning from Imbalanced Classes](https://www.svds.com/tbt-learning-imbalanced-classes/) gives \"a rough outline of useful approaches\" : \n",
        "\n",
        "- Do nothing. Sometimes you get lucky and nothing needs to be done. You can train on the so-called natural (or stratified) distribution and sometimes it works without need for modification.\n",
        "- Balance the training set in some way:\n",
        "  - Oversample the minority class.\n",
        "  - Undersample the majority class.\n",
        "  - Synthesize new minority classes.\n",
        "- Throw away minority examples and switch to an anomaly detection framework.\n",
        "- At the algorithm level, or after it:\n",
        "  - Adjust the class weight (misclassification costs).\n",
        "  - Adjust the decision threshold.\n",
        "  - Modify an existing algorithm to be more sensitive to rare classes.\n",
        "- Construct an entirely new algorithm to perform well on imbalanced data.\n"
      ]
    },
    {
      "metadata": {
        "id": "iO7kOZ2HN0EA",
        "colab_type": "text"
      },
      "cell_type": "markdown",
      "source": [
        "#### We demonstrated two of these options: \n",
        "\n",
        "- \"Adjust the class weight (misclassification costs)\" — many scikit-learn classifiers have a `class_balance` parameter\n",
        "- \"Adjust the decision threshold\" — you can lean more about this in a great blog post, [Visualizing Machine Learning Thresholds to Make Better Business Decisions](https://blog.insightdatascience.com/visualizing-machine-learning-thresholds-to-make-better-business-decisions-4ab07f823415).\n",
        "\n",
        "#### Another option to be aware of:\n",
        "- The [imbalance-learn](https://github.com/scikit-learn-contrib/imbalanced-learn) library can be used to \"oversample the minority class, undersample the majority class, or synthesize new minority classes.\""
      ]
    },
    {
      "metadata": {
        "id": "P_XjBTW5SBwZ",
        "colab_type": "text"
      },
      "cell_type": "markdown",
      "source": [
        "# ASSIGNMENT\n",
        "\n",
        "#### Bank Marketing\n",
        "- Make another submission on Kaggle.\n",
        "- Try \"Cross-Validation + Independent Test Set\" instead of \"Train/Validate/Test Split.\"\n",
        "- Explore and visualize your data. \n",
        "- Wrangle [bad data](https://github.com/Quartz/bad-data-guide), outliers, and missing values.\n",
        "- Try engineering more features. You can transform, bin, and combine features. \n",
        "- Try using less features. You can look at multicollinearity. \n",
        "- Try the `class_weight` parameter.\n",
        "\n",
        "#### Imbalanced Classes demo with synthetic data\n",
        "- Play around with the demo. Change parameter values.\n",
        "- Be able to calculate precision, recall, F1, and accuracy \"by hand\", given a confusion matrix and access to Wikipedia.\n",
        "\n",
        "# STRETCH\n",
        "- Read the blog post, [Visualizing Machine Learning Thresholds to Make Better Business Decisions](https://blog.insightdatascience.com/visualizing-machine-learning-thresholds-to-make-better-business-decisions-4ab07f823415). You can replicate the code as-is,  [\"the hard way\"](https://docs.google.com/document/d/1ubOw9B3Hfip27hF2ZFnW3a3z9xAgrUDRReOEo-FHCVs/edit). Or you can apply it to the Bank Marketing dataset.\n",
        "- Try the [imbalance-learn](https://github.com/scikit-learn-contrib/imbalanced-learn) library.\n",
        "- Try other [scikit-learn classifiers](https://scikit-learn.org/stable/supervised_learning.html), beyond Logistic Regression."
      ]
    },
    {
      "metadata": {
        "id": "5AkCjjrGfT4U",
        "colab_type": "code",
        "colab": {}
      },
      "cell_type": "code",
      "source": [
        "# Imports\n",
        "%matplotlib inline\n",
        "import warnings\n",
        "import category_encoders as ce\n",
        "import matplotlib.pyplot as plt\n",
        "import numpy as np\n",
        "import pandas as pd\n",
        "from sklearn.linear_model import LogisticRegression, LogisticRegressionCV\n",
        "from sklearn.model_selection import cross_val_score\n",
        "from sklearn.metrics import roc_auc_score\n",
        "from sklearn.pipeline import make_pipeline\n",
        "from sklearn.exceptions import DataConversionWarning\n",
        "from sklearn.preprocessing import StandardScaler\n",
        "from sklearn.metrics import classification_report, confusion_matrix\n",
        "from sklearn.model_selection import cross_val_predict\n",
        "warnings.filterwarnings(action='ignore', category=DataConversionWarning)"
      ],
      "execution_count": 0,
      "outputs": []
    },
    {
      "metadata": {
        "id": "2FK1SrPSfUnO",
        "colab_type": "code",
        "colab": {}
      },
      "cell_type": "code",
      "source": [
        "# Load data\n",
        "X_train = pd.read_csv('train_features.csv').drop(columns='id')\n",
        "X_test  = pd.read_csv('test_features.csv').drop(columns='id')\n",
        "y_train = pd.read_csv('train_labels.csv')['y']\n",
        "sample_submission = pd.read_csv('sample_submission.csv')"
      ],
      "execution_count": 0,
      "outputs": []
    },
    {
      "metadata": {
        "id": "X0Nm62lWrwUA",
        "colab_type": "code",
        "colab": {}
      },
      "cell_type": "code",
      "source": [
        "# Make pipeline\n",
        "pipeline = make_pipeline(\n",
        "    ce.OneHotEncoder(use_cat_names=True), \n",
        "    StandardScaler(), \n",
        "    LogisticRegressionCV(cv=5, n_jobs=-1)\n",
        ")"
      ],
      "execution_count": 0,
      "outputs": []
    },
    {
      "metadata": {
        "id": "TLxppCu_tRub",
        "colab_type": "code",
        "colab": {
          "base_uri": "https://localhost:8080/",
          "height": 101
        },
        "outputId": "a6c63904-996e-4575-f643-0047b55389cf"
      },
      "cell_type": "code",
      "source": [
        "X_train.columns"
      ],
      "execution_count": 89,
      "outputs": [
        {
          "output_type": "execute_result",
          "data": {
            "text/plain": [
              "Index(['age', 'job', 'marital', 'education', 'default', 'housing', 'loan',\n",
              "       'contact', 'month', 'day_of_week', 'campaign', 'pdays', 'previous',\n",
              "       'poutcome', 'emp.var.rate', 'cons.price.idx', 'cons.conf.idx',\n",
              "       'euribor3m', 'nr.employed'],\n",
              "      dtype='object')"
            ]
          },
          "metadata": {
            "tags": []
          },
          "execution_count": 89
        }
      ]
    },
    {
      "metadata": {
        "id": "AewcLt6Cth-F",
        "colab_type": "code",
        "colab": {}
      },
      "cell_type": "code",
      "source": [
        "# Listing features so I can come back a feature engineer\n",
        "\n",
        "X_train = X_train[['age', 'job', 'marital', 'education', 'default', 'housing', 'loan',\n",
        "            'contact', 'month', 'day_of_week', 'campaign', 'pdays', 'previous',\n",
        "            'poutcome', 'emp.var.rate', 'cons.price.idx', 'cons.conf.idx',\n",
        "            'euribor3m', 'nr.employed']]\n",
        "\n",
        "X_test = X_test[['age', 'job', 'marital', 'education', 'default', 'housing', 'loan',\n",
        "            'contact', 'month', 'day_of_week', 'campaign', 'pdays', 'previous',\n",
        "            'poutcome', 'emp.var.rate', 'cons.price.idx', 'cons.conf.idx',\n",
        "            'euribor3m', 'nr.employed']]"
      ],
      "execution_count": 0,
      "outputs": []
    },
    {
      "metadata": {
        "id": "s2HfRt0pKnGK",
        "colab_type": "code",
        "colab": {
          "base_uri": "https://localhost:8080/",
          "height": 101
        },
        "outputId": "493cdca3-c08b-4520-cbe8-63ef983ac570"
      },
      "cell_type": "code",
      "source": [
        "pipeline.fit(X_train, y_train)"
      ],
      "execution_count": 91,
      "outputs": [
        {
          "output_type": "execute_result",
          "data": {
            "text/plain": [
              "Pipeline(memory=None,\n",
              "     steps=[('onehotencoder', OneHotEncoder(cols=['job', 'marital', 'education', 'default', 'housing', 'loan', 'contact', 'month', 'day_of_week', 'poutcome'],\n",
              "       drop_invariant=False, handle_unknown='impute', impute_missing=True,\n",
              "       return_df=True, use_cat_names=True, verbose=0)), ('standardscale...2', random_state=None,\n",
              "           refit=True, scoring=None, solver='lbfgs', tol=0.0001, verbose=0))])"
            ]
          },
          "metadata": {
            "tags": []
          },
          "execution_count": 91
        }
      ]
    },
    {
      "metadata": {
        "id": "AOExAphSKY-h",
        "colab_type": "code",
        "colab": {}
      },
      "cell_type": "code",
      "source": [
        "y_pred_proba = pipeline.predict_proba(X_train)[:, 1]"
      ],
      "execution_count": 0,
      "outputs": []
    },
    {
      "metadata": {
        "id": "bIItpdh-rwbj",
        "colab_type": "code",
        "colab": {}
      },
      "cell_type": "code",
      "source": [
        "# y_pred_proba = cross_val_predict(pipeline, X_train, y_train, cv=5, n_jobs=-1, \n",
        "#                                  method='predict_proba')[:, 1]"
      ],
      "execution_count": 0,
      "outputs": []
    },
    {
      "metadata": {
        "id": "rlO-f-jvrwRJ",
        "colab_type": "code",
        "colab": {
          "base_uri": "https://localhost:8080/",
          "height": 50
        },
        "outputId": "51a41a2f-f7e8-435d-f6fb-cd032a98b2e5"
      },
      "cell_type": "code",
      "source": [
        "y_pred_proba"
      ],
      "execution_count": 93,
      "outputs": [
        {
          "output_type": "execute_result",
          "data": {
            "text/plain": [
              "array([0.07485034, 0.04516934, 0.0497509 , ..., 0.059818  , 0.10170945,\n",
              "       0.04206414])"
            ]
          },
          "metadata": {
            "tags": []
          },
          "execution_count": 93
        }
      ]
    },
    {
      "metadata": {
        "id": "FefKFre-fUjp",
        "colab_type": "code",
        "colab": {
          "base_uri": "https://localhost:8080/",
          "height": 258
        },
        "outputId": "cadd3cde-a40c-4083-e7a1-a9d55e6624ac"
      },
      "cell_type": "code",
      "source": [
        "threshold = 0.5\n",
        "y_pred = y_pred_proba >= threshold\n",
        "\n",
        "print(classification_report(y_train, y_pred)) # Printing classification report\n",
        "\n",
        "# Putting conf matrix in a dataframe\n",
        "cm = pd.DataFrame(confusion_matrix(y_train, y_pred), \n",
        "             columns=['Predicted Negative', 'Predicted Positive'], \n",
        "             index=['Actual Negative', 'Actual Positive'])\n",
        "cm"
      ],
      "execution_count": 94,
      "outputs": [
        {
          "output_type": "stream",
          "text": [
            "              precision    recall  f1-score   support\n",
            "\n",
            "           0       0.91      0.98      0.95     27411\n",
            "           1       0.66      0.23      0.34      3480\n",
            "\n",
            "   micro avg       0.90      0.90      0.90     30891\n",
            "   macro avg       0.78      0.61      0.64     30891\n",
            "weighted avg       0.88      0.90      0.88     30891\n",
            "\n"
          ],
          "name": "stdout"
        },
        {
          "output_type": "execute_result",
          "data": {
            "text/html": [
              "<div>\n",
              "<style scoped>\n",
              "    .dataframe tbody tr th:only-of-type {\n",
              "        vertical-align: middle;\n",
              "    }\n",
              "\n",
              "    .dataframe tbody tr th {\n",
              "        vertical-align: top;\n",
              "    }\n",
              "\n",
              "    .dataframe thead th {\n",
              "        text-align: right;\n",
              "    }\n",
              "</style>\n",
              "<table border=\"1\" class=\"dataframe\">\n",
              "  <thead>\n",
              "    <tr style=\"text-align: right;\">\n",
              "      <th></th>\n",
              "      <th>Predicted Negative</th>\n",
              "      <th>Predicted Positive</th>\n",
              "    </tr>\n",
              "  </thead>\n",
              "  <tbody>\n",
              "    <tr>\n",
              "      <th>Actual Negative</th>\n",
              "      <td>26991</td>\n",
              "      <td>420</td>\n",
              "    </tr>\n",
              "    <tr>\n",
              "      <th>Actual Positive</th>\n",
              "      <td>2679</td>\n",
              "      <td>801</td>\n",
              "    </tr>\n",
              "  </tbody>\n",
              "</table>\n",
              "</div>"
            ],
            "text/plain": [
              "                 Predicted Negative  Predicted Positive\n",
              "Actual Negative               26991                 420\n",
              "Actual Positive                2679                 801"
            ]
          },
          "metadata": {
            "tags": []
          },
          "execution_count": 94
        }
      ]
    },
    {
      "metadata": {
        "id": "hVavQVPmfUgN",
        "colab_type": "code",
        "colab": {
          "base_uri": "https://localhost:8080/",
          "height": 34
        },
        "outputId": "1ebb1275-69ba-4d4f-e061-d4cf8eabc5dc"
      },
      "cell_type": "code",
      "source": [
        "# Making variables from confustion matrix above\n",
        "true_negative  = cm.iloc[0][0]\n",
        "false_positive = cm.iloc[0][1]\n",
        "false_negative = cm.iloc[1][0]\n",
        "true_positive  = cm.iloc[1][1]\n",
        "\n",
        "accuracy = ((true_negative + true_positive) / \n",
        "            (true_negative + false_positive + false_negative + true_positive))\n",
        "\n",
        "actual_negative = true_negative + false_positive\n",
        "actual_positive = false_negative + true_positive\n",
        "\n",
        "predicted_negative = true_negative + false_negative\n",
        "predicted_positive = false_positive + true_positive\n",
        "\n",
        "precision = true_positive / predicted_positive\n",
        "recall = true_positive / actual_positive\n",
        "f1 = 2 * (precision*recall) / (precision+recall) \n",
        "print('Precision:', precision, 'Recall:', recall, 'F1:', f1)"
      ],
      "execution_count": 95,
      "outputs": [
        {
          "output_type": "stream",
          "text": [
            "Precision: 0.6560196560196561 Recall: 0.23017241379310344 F1: 0.34077855775366944\n"
          ],
          "name": "stdout"
        }
      ]
    },
    {
      "metadata": {
        "id": "UkfuPAU-fUbD",
        "colab_type": "code",
        "colab": {
          "base_uri": "https://localhost:8080/",
          "height": 34
        },
        "outputId": "6c622c6a-6b6e-4bcb-8331-eb08ece9b52c"
      },
      "cell_type": "code",
      "source": [
        "cm.iloc[1][1]"
      ],
      "execution_count": 96,
      "outputs": [
        {
          "output_type": "execute_result",
          "data": {
            "text/plain": [
              "801"
            ]
          },
          "metadata": {
            "tags": []
          },
          "execution_count": 96
        }
      ]
    },
    {
      "metadata": {
        "id": "nreJydShfUXX",
        "colab_type": "code",
        "colab": {
          "base_uri": "https://localhost:8080/",
          "height": 310
        },
        "outputId": "c0ecf1c7-0ef1-4c5c-9886-ee1d58416390"
      },
      "cell_type": "code",
      "source": [
        "from sklearn.metrics import roc_auc_score, roc_curve\n",
        "fpr, tpr, thresholds = roc_curve(y_train, y_pred_proba)\n",
        "plt.plot(fpr, tpr)\n",
        "plt.title('ROC curve')\n",
        "plt.xlabel('False Positive Rate')\n",
        "plt.ylabel('True Positive Rate')\n",
        "print('Area under the Receiver Operating Characteristic curve:', \n",
        "      roc_auc_score(y_train, y_pred_proba))\n",
        "\n",
        "# When the threshold = 0.5\n",
        "false_positive_rate = false_positive/actual_negative\n",
        "true_positive_rate = true_positive/actual_positive\n",
        "plt.scatter(false_positive_rate, true_positive_rate);"
      ],
      "execution_count": 97,
      "outputs": [
        {
          "output_type": "stream",
          "text": [
            "Area under the Receiver Operating Characteristic curve: 0.7913087213917394\n"
          ],
          "name": "stdout"
        },
        {
          "output_type": "display_data",
          "data": {
            "image/png": "[encoded data removed]",
            "text/plain": [
              "<Figure size 432x288 with 1 Axes>"
            ]
          },
          "metadata": {
            "tags": []
          }
        }
      ]
    },
    {
      "metadata": {
        "id": "cg7KG0HofUSy",
        "colab_type": "code",
        "colab": {}
      },
      "cell_type": "code",
      "source": [
        "# Creating submission\n",
        "\n",
        "submission = sample_submission.copy()\n",
        "submission['y'] = pipeline.predict_proba(X_test)[:, 1]\n",
        "submission.to_csv('submission-002.csv', index=False)"
      ],
      "execution_count": 0,
      "outputs": []
    },
    {
      "metadata": {
        "id": "QiIvYeQPfUOi",
        "colab_type": "code",
        "colab": {}
      },
      "cell_type": "code",
      "source": [
        ""
      ],
      "execution_count": 0,
      "outputs": []
    },
    {
      "metadata": {
        "id": "wXylSdgwfUKu",
        "colab_type": "code",
        "colab": {}
      },
      "cell_type": "code",
      "source": [
        ""
      ],
      "execution_count": 0,
      "outputs": []
    },
    {
      "metadata": {
        "id": "kal8hZjufUHc",
        "colab_type": "code",
        "colab": {}
      },
      "cell_type": "code",
      "source": [
        ""
      ],
      "execution_count": 0,
      "outputs": []
    }
  ]
}