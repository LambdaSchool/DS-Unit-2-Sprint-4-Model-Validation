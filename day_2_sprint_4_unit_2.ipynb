{
  "nbformat": 4,
  "nbformat_minor": 0,
  "metadata": {
    "colab": {
      "name": "day -2 sprint 4 unit 2",
      "version": "0.3.2",
      "provenance": [],
      "include_colab_link": true
    },
    "kernelspec": {
      "name": "python3",
      "display_name": "Python 3"
    }
  },
  "cells": [
    {
      "cell_type": "markdown",
      "metadata": {
        "id": "view-in-github",
        "colab_type": "text"
      },
      "source": [
        "<a href=\"https://colab.research.google.com/github/veritaem/DS-Unit-2-Sprint-4-Model-Validation/blob/master/day_2_sprint_4_unit_2.ipynb\" target=\"_parent\"><img src=\"https://colab.research.google.com/assets/colab-badge.svg\" alt=\"Open In Colab\"/></a>"
      ]
    },
    {
      "metadata": {
        "id": "Vi8ZxUoGlE8W",
        "colab_type": "text"
      },
      "cell_type": "markdown",
      "source": [
        "#imports and installs"
      ]
    },
    {
      "metadata": {
        "id": "kn61vx15bW3Y",
        "colab_type": "code",
        "colab": {
          "base_uri": "https://localhost:8080/",
          "height": 201
        },
        "outputId": "c8cb51b2-83b3-4fec-b61d-5172ce240832"
      },
      "cell_type": "code",
      "source": [
        "!pip install category_encoders"
      ],
      "execution_count": 1,
      "outputs": [
        {
          "output_type": "stream",
          "text": [
            "Requirement already satisfied: category_encoders in /usr/local/lib/python3.6/dist-packages (1.3.0)\n",
            "Requirement already satisfied: scikit-learn>=0.17.1 in /usr/local/lib/python3.6/dist-packages (from category_encoders) (0.20.2)\n",
            "Requirement already satisfied: pandas>=0.20.1 in /usr/local/lib/python3.6/dist-packages (from category_encoders) (0.22.0)\n",
            "Requirement already satisfied: statsmodels>=0.6.1 in /usr/local/lib/python3.6/dist-packages (from category_encoders) (0.8.0)\n",
            "Requirement already satisfied: patsy>=0.4.1 in /usr/local/lib/python3.6/dist-packages (from category_encoders) (0.5.1)\n",
            "Requirement already satisfied: scipy>=0.17.0 in /usr/local/lib/python3.6/dist-packages (from category_encoders) (1.1.0)\n",
            "Requirement already satisfied: numpy>=1.11.1 in /usr/local/lib/python3.6/dist-packages (from category_encoders) (1.14.6)\n",
            "Requirement already satisfied: python-dateutil>=2 in /usr/local/lib/python3.6/dist-packages (from pandas>=0.20.1->category_encoders) (2.5.3)\n",
            "Requirement already satisfied: pytz>=2011k in /usr/local/lib/python3.6/dist-packages (from pandas>=0.20.1->category_encoders) (2018.9)\n",
            "Requirement already satisfied: six in /usr/local/lib/python3.6/dist-packages (from patsy>=0.4.1->category_encoders) (1.11.0)\n"
          ],
          "name": "stdout"
        }
      ]
    },
    {
      "metadata": {
        "id": "JWRMl_ICk0qI",
        "colab_type": "code",
        "colab": {
          "resources": {
            "http://localhost:8080/nbextensions/google.colab/files.js": {
              "data": "Ly8gQ29weXJpZ2h0IDIwMTcgR29vZ2xlIExMQwovLwovLyBMaWNlbnNlZCB1bmRlciB0aGUgQXBhY2hlIExpY2Vuc2UsIFZlcnNpb24gMi4wICh0aGUgIkxpY2Vuc2UiKTsKLy8geW91IG1heSBub3QgdXNlIHRoaXMgZmlsZSBleGNlcHQgaW4gY29tcGxpYW5jZSB3aXRoIHRoZSBMaWNlbnNlLgovLyBZb3UgbWF5IG9idGFpbiBhIGNvcHkgb2YgdGhlIExpY2Vuc2UgYXQKLy8KLy8gICAgICBodHRwOi8vd3d3LmFwYWNoZS5vcmcvbGljZW5zZXMvTElDRU5TRS0yLjAKLy8KLy8gVW5sZXNzIHJlcXVpcmVkIGJ5IGFwcGxpY2FibGUgbGF3IG9yIGFncmVlZCB0byBpbiB3cml0aW5nLCBzb2Z0d2FyZQovLyBkaXN0cmlidXRlZCB1bmRlciB0aGUgTGljZW5zZSBpcyBkaXN0cmlidXRlZCBvbiBhbiAiQVMgSVMiIEJBU0lTLAovLyBXSVRIT1VUIFdBUlJBTlRJRVMgT1IgQ09ORElUSU9OUyBPRiBBTlkgS0lORCwgZWl0aGVyIGV4cHJlc3Mgb3IgaW1wbGllZC4KLy8gU2VlIHRoZSBMaWNlbnNlIGZvciB0aGUgc3BlY2lmaWMgbGFuZ3VhZ2UgZ292ZXJuaW5nIHBlcm1pc3Npb25zIGFuZAovLyBsaW1pdGF0aW9ucyB1bmRlciB0aGUgTGljZW5zZS4KCi8qKgogKiBAZmlsZW92ZXJ2aWV3IEhlbHBlcnMgZm9yIGdvb2dsZS5jb2xhYiBQeXRob24gbW9kdWxlLgogKi8KKGZ1bmN0aW9uKHNjb3BlKSB7CmZ1bmN0aW9uIHNwYW4odGV4dCwgc3R5bGVBdHRyaWJ1dGVzID0ge30pIHsKICBjb25zdCBlbGVtZW50ID0gZG9jdW1lbnQuY3JlYXRlRWxlbWVudCgnc3BhbicpOwogIGVsZW1lbnQudGV4dENvbnRlbnQgPSB0ZXh0OwogIGZvciAoY29uc3Qga2V5IG9mIE9iamVjdC5rZXlzKHN0eWxlQXR0cmlidXRlcykpIHsKICAgIGVsZW1lbnQuc3R5bGVba2V5XSA9IHN0eWxlQXR0cmlidXRlc1trZXldOwogIH0KICByZXR1cm4gZWxlbWVudDsKfQoKLy8gTWF4IG51bWJlciBvZiBieXRlcyB3aGljaCB3aWxsIGJlIHVwbG9hZGVkIGF0IGEgdGltZS4KY29uc3QgTUFYX1BBWUxPQURfU0laRSA9IDEwMCAqIDEwMjQ7Ci8vIE1heCBhbW91bnQgb2YgdGltZSB0byBibG9jayB3YWl0aW5nIGZvciB0aGUgdXNlci4KY29uc3QgRklMRV9DSEFOR0VfVElNRU9VVF9NUyA9IDMwICogMTAwMDsKCmZ1bmN0aW9uIF91cGxvYWRGaWxlcyhpbnB1dElkLCBvdXRwdXRJZCkgewogIGNvbnN0IHN0ZXBzID0gdXBsb2FkRmlsZXNTdGVwKGlucHV0SWQsIG91dHB1dElkKTsKICBjb25zdCBvdXRwdXRFbGVtZW50ID0gZG9jdW1lbnQuZ2V0RWxlbWVudEJ5SWQob3V0cHV0SWQpOwogIC8vIENhY2hlIHN0ZXBzIG9uIHRoZSBvdXRwdXRFbGVtZW50IHRvIG1ha2UgaXQgYXZhaWxhYmxlIGZvciB0aGUgbmV4dCBjYWxsCiAgLy8gdG8gdXBsb2FkRmlsZXNDb250aW51ZSBmcm9tIFB5dGhvbi4KICBvdXRwdXRFbGVtZW50LnN0ZXBzID0gc3RlcHM7CgogIHJldHVybiBfdXBsb2FkRmlsZXNDb250aW51ZShvdXRwdXRJZCk7Cn0KCi8vIFRoaXMgaXMgcm91Z2hseSBhbiBhc3luYyBnZW5lcmF0b3IgKG5vdCBzdXBwb3J0ZWQgaW4gdGhlIGJyb3dzZXIgeWV0KSwKLy8gd2hlcmUgdGhlcmUgYXJlIG11bHRpcGxlIGFzeW5jaHJvbm91cyBzdGVwcyBhbmQgdGhlIFB5dGhvbiBzaWRlIGlzIGdvaW5nCi8vIHRvIHBvbGwgZm9yIGNvbXBsZXRpb24gb2YgZWFjaCBzdGVwLgovLyBUaGlzIHVzZXMgYSBQcm9taXNlIHRvIGJsb2NrIHRoZSBweXRob24gc2lkZSBvbiBjb21wbGV0aW9uIG9mIGVhY2ggc3RlcCwKLy8gdGhlbiBwYXNzZXMgdGhlIHJlc3VsdCBvZiB0aGUgcHJldmlvdXMgc3RlcCBhcyB0aGUgaW5wdXQgdG8gdGhlIG5leHQgc3RlcC4KZnVuY3Rpb24gX3VwbG9hZEZpbGVzQ29udGludWUob3V0cHV0SWQpIHsKICBjb25zdCBvdXRwdXRFbGVtZW50ID0gZG9jdW1lbnQuZ2V0RWxlbWVudEJ5SWQob3V0cHV0SWQpOwogIGNvbnN0IHN0ZXBzID0gb3V0cHV0RWxlbWVudC5zdGVwczsKCiAgY29uc3QgbmV4dCA9IHN0ZXBzLm5leHQob3V0cHV0RWxlbWVudC5sYXN0UHJvbWlzZVZhbHVlKTsKICByZXR1cm4gUHJvbWlzZS5yZXNvbHZlKG5leHQudmFsdWUucHJvbWlzZSkudGhlbigodmFsdWUpID0+IHsKICAgIC8vIENhY2hlIHRoZSBsYXN0IHByb21pc2UgdmFsdWUgdG8gbWFrZSBpdCBhdmFpbGFibGUgdG8gdGhlIG5leHQKICAgIC8vIHN0ZXAgb2YgdGhlIGdlbmVyYXRvci4KICAgIG91dHB1dEVsZW1lbnQubGFzdFByb21pc2VWYWx1ZSA9IHZhbHVlOwogICAgcmV0dXJuIG5leHQudmFsdWUucmVzcG9uc2U7CiAgfSk7Cn0KCi8qKgogKiBHZW5lcmF0b3IgZnVuY3Rpb24gd2hpY2ggaXMgY2FsbGVkIGJldHdlZW4gZWFjaCBhc3luYyBzdGVwIG9mIHRoZSB1cGxvYWQKICogcHJvY2Vzcy4KICogQHBhcmFtIHtzdHJpbmd9IGlucHV0SWQgRWxlbWVudCBJRCBvZiB0aGUgaW5wdXQgZmlsZSBwaWNrZXIgZWxlbWVudC4KICogQHBhcmFtIHtzdHJpbmd9IG91dHB1dElkIEVsZW1lbnQgSUQgb2YgdGhlIG91dHB1dCBkaXNwbGF5LgogKiBAcmV0dXJuIHshSXRlcmFibGU8IU9iamVjdD59IEl0ZXJhYmxlIG9mIG5leHQgc3RlcHMuCiAqLwpmdW5jdGlvbiogdXBsb2FkRmlsZXNTdGVwKGlucHV0SWQsIG91dHB1dElkKSB7CiAgY29uc3QgaW5wdXRFbGVtZW50ID0gZG9jdW1lbnQuZ2V0RWxlbWVudEJ5SWQoaW5wdXRJZCk7CiAgaW5wdXRFbGVtZW50LmRpc2FibGVkID0gZmFsc2U7CgogIGNvbnN0IG91dHB1dEVsZW1lbnQgPSBkb2N1bWVudC5nZXRFbGVtZW50QnlJZChvdXRwdXRJZCk7CiAgb3V0cHV0RWxlbWVudC5pbm5lckhUTUwgPSAnJzsKCiAgY29uc3QgcGlja2VkUHJvbWlzZSA9IG5ldyBQcm9taXNlKChyZXNvbHZlKSA9PiB7CiAgICBpbnB1dEVsZW1lbnQuYWRkRXZlbnRMaXN0ZW5lcignY2hhbmdlJywgKGUpID0+IHsKICAgICAgcmVzb2x2ZShlLnRhcmdldC5maWxlcyk7CiAgICB9KTsKICB9KTsKCiAgY29uc3QgY2FuY2VsID0gZG9jdW1lbnQuY3JlYXRlRWxlbWVudCgnYnV0dG9uJyk7CiAgaW5wdXRFbGVtZW50LnBhcmVudEVsZW1lbnQuYXBwZW5kQ2hpbGQoY2FuY2VsKTsKICBjYW5jZWwudGV4dENvbnRlbnQgPSAnQ2FuY2VsIHVwbG9hZCc7CiAgY29uc3QgY2FuY2VsUHJvbWlzZSA9IG5ldyBQcm9taXNlKChyZXNvbHZlKSA9PiB7CiAgICBjYW5jZWwub25jbGljayA9ICgpID0+IHsKICAgICAgcmVzb2x2ZShudWxsKTsKICAgIH07CiAgfSk7CgogIC8vIENhbmNlbCB1cGxvYWQgaWYgdXNlciBoYXNuJ3QgcGlja2VkIGFueXRoaW5nIGluIHRpbWVvdXQuCiAgY29uc3QgdGltZW91dFByb21pc2UgPSBuZXcgUHJvbWlzZSgocmVzb2x2ZSkgPT4gewogICAgc2V0VGltZW91dCgoKSA9PiB7CiAgICAgIHJlc29sdmUobnVsbCk7CiAgICB9LCBGSUxFX0NIQU5HRV9USU1FT1VUX01TKTsKICB9KTsKCiAgLy8gV2FpdCBmb3IgdGhlIHVzZXIgdG8gcGljayB0aGUgZmlsZXMuCiAgY29uc3QgZmlsZXMgPSB5aWVsZCB7CiAgICBwcm9taXNlOiBQcm9taXNlLnJhY2UoW3BpY2tlZFByb21pc2UsIHRpbWVvdXRQcm9taXNlLCBjYW5jZWxQcm9taXNlXSksCiAgICByZXNwb25zZTogewogICAgICBhY3Rpb246ICdzdGFydGluZycsCiAgICB9CiAgfTsKCiAgaWYgKCFmaWxlcykgewogICAgcmV0dXJuIHsKICAgICAgcmVzcG9uc2U6IHsKICAgICAgICBhY3Rpb246ICdjb21wbGV0ZScsCiAgICAgIH0KICAgIH07CiAgfQoKICBjYW5jZWwucmVtb3ZlKCk7CgogIC8vIERpc2FibGUgdGhlIGlucHV0IGVsZW1lbnQgc2luY2UgZnVydGhlciBwaWNrcyBhcmUgbm90IGFsbG93ZWQuCiAgaW5wdXRFbGVtZW50LmRpc2FibGVkID0gdHJ1ZTsKCiAgZm9yIChjb25zdCBmaWxlIG9mIGZpbGVzKSB7CiAgICBjb25zdCBsaSA9IGRvY3VtZW50LmNyZWF0ZUVsZW1lbnQoJ2xpJyk7CiAgICBsaS5hcHBlbmQoc3BhbihmaWxlLm5hbWUsIHtmb250V2VpZ2h0OiAnYm9sZCd9KSk7CiAgICBsaS5hcHBlbmQoc3BhbigKICAgICAgICBgKCR7ZmlsZS50eXBlIHx8ICduL2EnfSkgLSAke2ZpbGUuc2l6ZX0gYnl0ZXMsIGAgKwogICAgICAgIGBsYXN0IG1vZGlmaWVkOiAkewogICAgICAgICAgICBmaWxlLmxhc3RNb2RpZmllZERhdGUgPyBmaWxlLmxhc3RNb2RpZmllZERhdGUudG9Mb2NhbGVEYXRlU3RyaW5nKCkgOgogICAgICAgICAgICAgICAgICAgICAgICAgICAgICAgICAgICAnbi9hJ30gLSBgKSk7CiAgICBjb25zdCBwZXJjZW50ID0gc3BhbignMCUgZG9uZScpOwogICAgbGkuYXBwZW5kQ2hpbGQocGVyY2VudCk7CgogICAgb3V0cHV0RWxlbWVudC5hcHBlbmRDaGlsZChsaSk7CgogICAgY29uc3QgZmlsZURhdGFQcm9taXNlID0gbmV3IFByb21pc2UoKHJlc29sdmUpID0+IHsKICAgICAgY29uc3QgcmVhZGVyID0gbmV3IEZpbGVSZWFkZXIoKTsKICAgICAgcmVhZGVyLm9ubG9hZCA9IChlKSA9PiB7CiAgICAgICAgcmVzb2x2ZShlLnRhcmdldC5yZXN1bHQpOwogICAgICB9OwogICAgICByZWFkZXIucmVhZEFzQXJyYXlCdWZmZXIoZmlsZSk7CiAgICB9KTsKICAgIC8vIFdhaXQgZm9yIHRoZSBkYXRhIHRvIGJlIHJlYWR5LgogICAgbGV0IGZpbGVEYXRhID0geWllbGQgewogICAgICBwcm9taXNlOiBmaWxlRGF0YVByb21pc2UsCiAgICAgIHJlc3BvbnNlOiB7CiAgICAgICAgYWN0aW9uOiAnY29udGludWUnLAogICAgICB9CiAgICB9OwoKICAgIC8vIFVzZSBhIGNodW5rZWQgc2VuZGluZyB0byBhdm9pZCBtZXNzYWdlIHNpemUgbGltaXRzLiBTZWUgYi82MjExNTY2MC4KICAgIGxldCBwb3NpdGlvbiA9IDA7CiAgICB3aGlsZSAocG9zaXRpb24gPCBmaWxlRGF0YS5ieXRlTGVuZ3RoKSB7CiAgICAgIGNvbnN0IGxlbmd0aCA9IE1hdGgubWluKGZpbGVEYXRhLmJ5dGVMZW5ndGggLSBwb3NpdGlvbiwgTUFYX1BBWUxPQURfU0laRSk7CiAgICAgIGNvbnN0IGNodW5rID0gbmV3IFVpbnQ4QXJyYXkoZmlsZURhdGEsIHBvc2l0aW9uLCBsZW5ndGgpOwogICAgICBwb3NpdGlvbiArPSBsZW5ndGg7CgogICAgICBjb25zdCBiYXNlNjQgPSBidG9hKFN0cmluZy5mcm9tQ2hhckNvZGUuYXBwbHkobnVsbCwgY2h1bmspKTsKICAgICAgeWllbGQgewogICAgICAgIHJlc3BvbnNlOiB7CiAgICAgICAgICBhY3Rpb246ICdhcHBlbmQnLAogICAgICAgICAgZmlsZTogZmlsZS5uYW1lLAogICAgICAgICAgZGF0YTogYmFzZTY0LAogICAgICAgIH0sCiAgICAgIH07CiAgICAgIHBlcmNlbnQudGV4dENvbnRlbnQgPQogICAgICAgICAgYCR7TWF0aC5yb3VuZCgocG9zaXRpb24gLyBmaWxlRGF0YS5ieXRlTGVuZ3RoKSAqIDEwMCl9JSBkb25lYDsKICAgIH0KICB9CgogIC8vIEFsbCBkb25lLgogIHlpZWxkIHsKICAgIHJlc3BvbnNlOiB7CiAgICAgIGFjdGlvbjogJ2NvbXBsZXRlJywKICAgIH0KICB9Owp9CgpzY29wZS5nb29nbGUgPSBzY29wZS5nb29nbGUgfHwge307CnNjb3BlLmdvb2dsZS5jb2xhYiA9IHNjb3BlLmdvb2dsZS5jb2xhYiB8fCB7fTsKc2NvcGUuZ29vZ2xlLmNvbGFiLl9maWxlcyA9IHsKICBfdXBsb2FkRmlsZXMsCiAgX3VwbG9hZEZpbGVzQ29udGludWUsCn07Cn0pKHNlbGYpOwo=",
              "ok": true,
              "headers": [
                [
                  "content-type",
                  "application/javascript"
                ]
              ],
              "status": 200,
              "status_text": "OK"
            }
          },
          "base_uri": "https://localhost:8080/",
          "height": 39
        },
        "outputId": "2cb6c03f-68ce-4c1a-840c-6f13fa380adf"
      },
      "cell_type": "code",
      "source": [
        "from google.colab import files\n",
        "\n",
        "uploaded = files.upload()\n",
        "\n",
        "for fn in uploaded.keys():\n",
        "  print('User uploaded file \"{name}\" with length {length} bytes'.format(\n",
        "      name=fn, length=len(uploaded[fn])))"
      ],
      "execution_count": 2,
      "outputs": [
        {
          "output_type": "display_data",
          "data": {
            "text/html": [
              "\n",
              "     <input type=\"file\" id=\"files-652fa632-812c-478f-949f-bc8cfda4d08c\" name=\"files[]\" multiple disabled />\n",
              "     <output id=\"result-652fa632-812c-478f-949f-bc8cfda4d08c\">\n",
              "      Upload widget is only available when the cell has been executed in the\n",
              "      current browser session. Please rerun this cell to enable.\n",
              "      </output>\n",
              "      <script src=\"/nbextensions/google.colab/files.js\"></script> "
            ],
            "text/plain": [
              "<IPython.core.display.HTML object>"
            ]
          },
          "metadata": {
            "tags": []
          }
        }
      ]
    },
    {
      "metadata": {
        "id": "4tWDSr9oazES",
        "colab_type": "code",
        "colab": {}
      },
      "cell_type": "code",
      "source": [
        "import pandas as pd\n",
        "import numpy as np\n",
        "import matplotlib.pyplot as plt\n",
        "from sklearn.preprocessing import StandardScaler\n",
        "from sklearn.metrics import r2_score, mean_squared_error, accuracy_score, classification_report, roc_auc_score, recall_score, precision_score\n",
        "import category_encoders as ce\n",
        "from sklearn.model_selection import train_test_split\n",
        "from sklearn.datasets import make_classification\n",
        "from sklearn.linear_model import LogisticRegression\n",
        "from mlxtend.plotting import plot_decision_regions\n",
        "from sklearn.pipeline import make_pipeline\n",
        "import seaborn as sns\n"
      ],
      "execution_count": 0,
      "outputs": []
    },
    {
      "metadata": {
        "id": "U8XcDJzJjdaT",
        "colab_type": "code",
        "colab": {
          "base_uri": "https://localhost:8080/",
          "height": 225
        },
        "outputId": "e851c535-54f1-4486-eebb-7c91bfecfbfd"
      },
      "cell_type": "code",
      "source": [
        "df = pd.read_csv('bank-full.csv', sep = ';')\n",
        "print(df.shape)\n",
        "df.head()"
      ],
      "execution_count": 4,
      "outputs": [
        {
          "output_type": "stream",
          "text": [
            "(45211, 17)\n"
          ],
          "name": "stdout"
        },
        {
          "output_type": "execute_result",
          "data": {
            "text/html": [
              "<div>\n",
              "<style scoped>\n",
              "    .dataframe tbody tr th:only-of-type {\n",
              "        vertical-align: middle;\n",
              "    }\n",
              "\n",
              "    .dataframe tbody tr th {\n",
              "        vertical-align: top;\n",
              "    }\n",
              "\n",
              "    .dataframe thead th {\n",
              "        text-align: right;\n",
              "    }\n",
              "</style>\n",
              "<table border=\"1\" class=\"dataframe\">\n",
              "  <thead>\n",
              "    <tr style=\"text-align: right;\">\n",
              "      <th></th>\n",
              "      <th>age</th>\n",
              "      <th>job</th>\n",
              "      <th>marital</th>\n",
              "      <th>education</th>\n",
              "      <th>default</th>\n",
              "      <th>balance</th>\n",
              "      <th>housing</th>\n",
              "      <th>loan</th>\n",
              "      <th>contact</th>\n",
              "      <th>day</th>\n",
              "      <th>month</th>\n",
              "      <th>duration</th>\n",
              "      <th>campaign</th>\n",
              "      <th>pdays</th>\n",
              "      <th>previous</th>\n",
              "      <th>poutcome</th>\n",
              "      <th>y</th>\n",
              "    </tr>\n",
              "  </thead>\n",
              "  <tbody>\n",
              "    <tr>\n",
              "      <th>0</th>\n",
              "      <td>58</td>\n",
              "      <td>management</td>\n",
              "      <td>married</td>\n",
              "      <td>tertiary</td>\n",
              "      <td>no</td>\n",
              "      <td>2143</td>\n",
              "      <td>yes</td>\n",
              "      <td>no</td>\n",
              "      <td>unknown</td>\n",
              "      <td>5</td>\n",
              "      <td>may</td>\n",
              "      <td>261</td>\n",
              "      <td>1</td>\n",
              "      <td>-1</td>\n",
              "      <td>0</td>\n",
              "      <td>unknown</td>\n",
              "      <td>no</td>\n",
              "    </tr>\n",
              "    <tr>\n",
              "      <th>1</th>\n",
              "      <td>44</td>\n",
              "      <td>technician</td>\n",
              "      <td>single</td>\n",
              "      <td>secondary</td>\n",
              "      <td>no</td>\n",
              "      <td>29</td>\n",
              "      <td>yes</td>\n",
              "      <td>no</td>\n",
              "      <td>unknown</td>\n",
              "      <td>5</td>\n",
              "      <td>may</td>\n",
              "      <td>151</td>\n",
              "      <td>1</td>\n",
              "      <td>-1</td>\n",
              "      <td>0</td>\n",
              "      <td>unknown</td>\n",
              "      <td>no</td>\n",
              "    </tr>\n",
              "    <tr>\n",
              "      <th>2</th>\n",
              "      <td>33</td>\n",
              "      <td>entrepreneur</td>\n",
              "      <td>married</td>\n",
              "      <td>secondary</td>\n",
              "      <td>no</td>\n",
              "      <td>2</td>\n",
              "      <td>yes</td>\n",
              "      <td>yes</td>\n",
              "      <td>unknown</td>\n",
              "      <td>5</td>\n",
              "      <td>may</td>\n",
              "      <td>76</td>\n",
              "      <td>1</td>\n",
              "      <td>-1</td>\n",
              "      <td>0</td>\n",
              "      <td>unknown</td>\n",
              "      <td>no</td>\n",
              "    </tr>\n",
              "    <tr>\n",
              "      <th>3</th>\n",
              "      <td>47</td>\n",
              "      <td>blue-collar</td>\n",
              "      <td>married</td>\n",
              "      <td>unknown</td>\n",
              "      <td>no</td>\n",
              "      <td>1506</td>\n",
              "      <td>yes</td>\n",
              "      <td>no</td>\n",
              "      <td>unknown</td>\n",
              "      <td>5</td>\n",
              "      <td>may</td>\n",
              "      <td>92</td>\n",
              "      <td>1</td>\n",
              "      <td>-1</td>\n",
              "      <td>0</td>\n",
              "      <td>unknown</td>\n",
              "      <td>no</td>\n",
              "    </tr>\n",
              "    <tr>\n",
              "      <th>4</th>\n",
              "      <td>33</td>\n",
              "      <td>unknown</td>\n",
              "      <td>single</td>\n",
              "      <td>unknown</td>\n",
              "      <td>no</td>\n",
              "      <td>1</td>\n",
              "      <td>no</td>\n",
              "      <td>no</td>\n",
              "      <td>unknown</td>\n",
              "      <td>5</td>\n",
              "      <td>may</td>\n",
              "      <td>198</td>\n",
              "      <td>1</td>\n",
              "      <td>-1</td>\n",
              "      <td>0</td>\n",
              "      <td>unknown</td>\n",
              "      <td>no</td>\n",
              "    </tr>\n",
              "  </tbody>\n",
              "</table>\n",
              "</div>"
            ],
            "text/plain": [
              "   age           job  marital  education default  balance housing loan  \\\n",
              "0   58    management  married   tertiary      no     2143     yes   no   \n",
              "1   44    technician   single  secondary      no       29     yes   no   \n",
              "2   33  entrepreneur  married  secondary      no        2     yes  yes   \n",
              "3   47   blue-collar  married    unknown      no     1506     yes   no   \n",
              "4   33       unknown   single    unknown      no        1      no   no   \n",
              "\n",
              "   contact  day month  duration  campaign  pdays  previous poutcome   y  \n",
              "0  unknown    5   may       261         1     -1         0  unknown  no  \n",
              "1  unknown    5   may       151         1     -1         0  unknown  no  \n",
              "2  unknown    5   may        76         1     -1         0  unknown  no  \n",
              "3  unknown    5   may        92         1     -1         0  unknown  no  \n",
              "4  unknown    5   may       198         1     -1         0  unknown  no  "
            ]
          },
          "metadata": {
            "tags": []
          },
          "execution_count": 4
        }
      ]
    },
    {
      "metadata": {
        "id": "56hkbux3mJP_",
        "colab_type": "text"
      },
      "cell_type": "markdown",
      "source": [
        "#pipeline"
      ]
    },
    {
      "metadata": {
        "id": "FZoz_dkMmLmm",
        "colab_type": "code",
        "colab": {}
      },
      "cell_type": "code",
      "source": [
        "pipeline = make_pipeline(\n",
        "                          ce.OneHotEncoder(use_cat_names = True),\n",
        "                          StandardScaler(),\n",
        "                          LogisticRegression())"
      ],
      "execution_count": 0,
      "outputs": []
    },
    {
      "metadata": {
        "id": "CmMgz34rlftm",
        "colab_type": "text"
      },
      "cell_type": "markdown",
      "source": [
        "# git a uh baseline"
      ]
    },
    {
      "metadata": {
        "id": "oYQBvPHSlPm6",
        "colab_type": "code",
        "colab": {
          "base_uri": "https://localhost:8080/",
          "height": 35
        },
        "outputId": "4279664a-30a8-4c2d-ce67-e1518c468838"
      },
      "cell_type": "code",
      "source": [
        "df.y.replace({'yes':1, 'no':0}, inplace = True)\n",
        "df.y.mean()"
      ],
      "execution_count": 6,
      "outputs": [
        {
          "output_type": "execute_result",
          "data": {
            "text/plain": [
              "0.11698480458295547"
            ]
          },
          "metadata": {
            "tags": []
          },
          "execution_count": 6
        }
      ]
    },
    {
      "metadata": {
        "id": "9FSwS2q4mn02",
        "colab_type": "code",
        "colab": {
          "base_uri": "https://localhost:8080/",
          "height": 35
        },
        "outputId": "9245cbe4-35eb-446c-f4fa-f3fa6c8b232c"
      },
      "cell_type": "code",
      "source": [
        "baseline = [df.y.mean()] * len(df)\n",
        "mean_squared_error(df.y, baseline)"
      ],
      "execution_count": 7,
      "outputs": [
        {
          "output_type": "execute_result",
          "data": {
            "text/plain": [
              "0.1032993600796432"
            ]
          },
          "metadata": {
            "tags": []
          },
          "execution_count": 7
        }
      ]
    },
    {
      "metadata": {
        "id": "w2monOHfnUfX",
        "colab_type": "code",
        "colab": {
          "base_uri": "https://localhost:8080/",
          "height": 348
        },
        "outputId": "0cfc76b3-b6d1-4854-dd82-5124153f138c"
      },
      "cell_type": "code",
      "source": [
        "df.isna().sum()"
      ],
      "execution_count": 8,
      "outputs": [
        {
          "output_type": "execute_result",
          "data": {
            "text/plain": [
              "age          0\n",
              "job          0\n",
              "marital      0\n",
              "education    0\n",
              "default      0\n",
              "balance      0\n",
              "housing      0\n",
              "loan         0\n",
              "contact      0\n",
              "day          0\n",
              "month        0\n",
              "duration     0\n",
              "campaign     0\n",
              "pdays        0\n",
              "previous     0\n",
              "poutcome     0\n",
              "y            0\n",
              "dtype: int64"
            ]
          },
          "metadata": {
            "tags": []
          },
          "execution_count": 8
        }
      ]
    },
    {
      "metadata": {
        "id": "oPrTMCtjmnkB",
        "colab_type": "code",
        "colab": {
          "base_uri": "https://localhost:8080/",
          "height": 35
        },
        "outputId": "56239ee7-d12d-4f77-c375-8f7d958e9dd8"
      },
      "cell_type": "code",
      "source": [
        "X = df.drop(['y'], axis = 1)\n",
        "y = df.y\n",
        "X_train, X_test, y_train, y_test = train_test_split(X, y)\n",
        "majority_class = y_train.mode()[0]\n",
        "y_pred = np.full(fill_value =majority_class, shape = y_test.shape)\n",
        "accuracy_score(y_test, y_pred)"
      ],
      "execution_count": 9,
      "outputs": [
        {
          "output_type": "execute_result",
          "data": {
            "text/plain": [
              "0.882951428824206"
            ]
          },
          "metadata": {
            "tags": []
          },
          "execution_count": 9
        }
      ]
    },
    {
      "metadata": {
        "id": "0GnCSTE7oimB",
        "colab_type": "code",
        "colab": {
          "base_uri": "https://localhost:8080/",
          "height": 202
        },
        "outputId": "542492e2-2a80-413c-f6bc-52a2b87abf2e"
      },
      "cell_type": "code",
      "source": [
        "pipeline.fit(X_train, y_train)\n",
        "y_pred = pipeline.predict(X_test)\n",
        "accuracy_score(y_test, y_pred)"
      ],
      "execution_count": 10,
      "outputs": [
        {
          "output_type": "stream",
          "text": [
            "/usr/local/lib/python3.6/dist-packages/sklearn/preprocessing/data.py:625: DataConversionWarning: Data with input dtype int64 were all converted to float64 by StandardScaler.\n",
            "  return self.partial_fit(X, y)\n",
            "/usr/local/lib/python3.6/dist-packages/sklearn/base.py:465: DataConversionWarning: Data with input dtype int64 were all converted to float64 by StandardScaler.\n",
            "  return self.fit(X, y, **fit_params).transform(X)\n",
            "/usr/local/lib/python3.6/dist-packages/sklearn/linear_model/logistic.py:433: FutureWarning: Default solver will be changed to 'lbfgs' in 0.22. Specify a solver to silence this warning.\n",
            "  FutureWarning)\n",
            "/usr/local/lib/python3.6/dist-packages/sklearn/pipeline.py:331: DataConversionWarning: Data with input dtype int64 were all converted to float64 by StandardScaler.\n",
            "  Xt = transform.transform(Xt)\n"
          ],
          "name": "stderr"
        },
        {
          "output_type": "execute_result",
          "data": {
            "text/plain": [
              "0.9025037600636999"
            ]
          },
          "metadata": {
            "tags": []
          },
          "execution_count": 10
        }
      ]
    },
    {
      "metadata": {
        "id": "jm5ssSvHolPF",
        "colab_type": "text"
      },
      "cell_type": "markdown",
      "source": [
        "Ok... 88.61% and 90.46% for non pipelined and pipelined, respectively... thats gonna be hard to beat!"
      ]
    },
    {
      "metadata": {
        "id": "lYH6SiMdlsIg",
        "colab_type": "text"
      },
      "cell_type": "markdown",
      "source": [
        "#making the model"
      ]
    },
    {
      "metadata": {
        "id": "5TkLE0bslv6H",
        "colab_type": "code",
        "colab": {
          "base_uri": "https://localhost:8080/",
          "height": 35
        },
        "outputId": "77309eca-eff8-4468-a815-61e569d61e12"
      },
      "cell_type": "code",
      "source": [
        "X_train, X_val, y_train, y_val = train_test_split(X_train, y_train, shuffle = True)\n",
        "X_train.shape, X_test.shape, X_val.shape, y_train.shape, y_test.shape, y_val.shape"
      ],
      "execution_count": 11,
      "outputs": [
        {
          "output_type": "execute_result",
          "data": {
            "text/plain": [
              "((25431, 16), (11303, 16), (8477, 16), (25431,), (11303,), (8477,))"
            ]
          },
          "metadata": {
            "tags": []
          },
          "execution_count": 11
        }
      ]
    },
    {
      "metadata": {
        "id": "DSZDdWEspig7",
        "colab_type": "code",
        "colab": {
          "base_uri": "https://localhost:8080/",
          "height": 202
        },
        "outputId": "4eee2b7b-f0ec-47c8-d958-c8ad75636999"
      },
      "cell_type": "code",
      "source": [
        "pipeline.fit(X_train, y_train)\n",
        "y_pred = pipeline.predict(X_val)\n",
        "accuracy_score(y_val, y_pred)"
      ],
      "execution_count": 12,
      "outputs": [
        {
          "output_type": "stream",
          "text": [
            "/usr/local/lib/python3.6/dist-packages/sklearn/preprocessing/data.py:625: DataConversionWarning: Data with input dtype int64 were all converted to float64 by StandardScaler.\n",
            "  return self.partial_fit(X, y)\n",
            "/usr/local/lib/python3.6/dist-packages/sklearn/base.py:465: DataConversionWarning: Data with input dtype int64 were all converted to float64 by StandardScaler.\n",
            "  return self.fit(X, y, **fit_params).transform(X)\n",
            "/usr/local/lib/python3.6/dist-packages/sklearn/linear_model/logistic.py:433: FutureWarning: Default solver will be changed to 'lbfgs' in 0.22. Specify a solver to silence this warning.\n",
            "  FutureWarning)\n",
            "/usr/local/lib/python3.6/dist-packages/sklearn/pipeline.py:331: DataConversionWarning: Data with input dtype int64 were all converted to float64 by StandardScaler.\n",
            "  Xt = transform.transform(Xt)\n"
          ],
          "name": "stderr"
        },
        {
          "output_type": "execute_result",
          "data": {
            "text/plain": [
              "0.9013802052612953"
            ]
          },
          "metadata": {
            "tags": []
          },
          "execution_count": 12
        }
      ]
    },
    {
      "metadata": {
        "id": "vIClGHMipsiD",
        "colab_type": "code",
        "colab": {
          "base_uri": "https://localhost:8080/",
          "height": 206
        },
        "outputId": "1230c509-b761-4676-ae72-6104651ccbfd"
      },
      "cell_type": "code",
      "source": [
        "df.head()"
      ],
      "execution_count": 13,
      "outputs": [
        {
          "output_type": "execute_result",
          "data": {
            "text/html": [
              "<div>\n",
              "<style scoped>\n",
              "    .dataframe tbody tr th:only-of-type {\n",
              "        vertical-align: middle;\n",
              "    }\n",
              "\n",
              "    .dataframe tbody tr th {\n",
              "        vertical-align: top;\n",
              "    }\n",
              "\n",
              "    .dataframe thead th {\n",
              "        text-align: right;\n",
              "    }\n",
              "</style>\n",
              "<table border=\"1\" class=\"dataframe\">\n",
              "  <thead>\n",
              "    <tr style=\"text-align: right;\">\n",
              "      <th></th>\n",
              "      <th>age</th>\n",
              "      <th>job</th>\n",
              "      <th>marital</th>\n",
              "      <th>education</th>\n",
              "      <th>default</th>\n",
              "      <th>balance</th>\n",
              "      <th>housing</th>\n",
              "      <th>loan</th>\n",
              "      <th>contact</th>\n",
              "      <th>day</th>\n",
              "      <th>month</th>\n",
              "      <th>duration</th>\n",
              "      <th>campaign</th>\n",
              "      <th>pdays</th>\n",
              "      <th>previous</th>\n",
              "      <th>poutcome</th>\n",
              "      <th>y</th>\n",
              "    </tr>\n",
              "  </thead>\n",
              "  <tbody>\n",
              "    <tr>\n",
              "      <th>0</th>\n",
              "      <td>58</td>\n",
              "      <td>management</td>\n",
              "      <td>married</td>\n",
              "      <td>tertiary</td>\n",
              "      <td>no</td>\n",
              "      <td>2143</td>\n",
              "      <td>yes</td>\n",
              "      <td>no</td>\n",
              "      <td>unknown</td>\n",
              "      <td>5</td>\n",
              "      <td>may</td>\n",
              "      <td>261</td>\n",
              "      <td>1</td>\n",
              "      <td>-1</td>\n",
              "      <td>0</td>\n",
              "      <td>unknown</td>\n",
              "      <td>0</td>\n",
              "    </tr>\n",
              "    <tr>\n",
              "      <th>1</th>\n",
              "      <td>44</td>\n",
              "      <td>technician</td>\n",
              "      <td>single</td>\n",
              "      <td>secondary</td>\n",
              "      <td>no</td>\n",
              "      <td>29</td>\n",
              "      <td>yes</td>\n",
              "      <td>no</td>\n",
              "      <td>unknown</td>\n",
              "      <td>5</td>\n",
              "      <td>may</td>\n",
              "      <td>151</td>\n",
              "      <td>1</td>\n",
              "      <td>-1</td>\n",
              "      <td>0</td>\n",
              "      <td>unknown</td>\n",
              "      <td>0</td>\n",
              "    </tr>\n",
              "    <tr>\n",
              "      <th>2</th>\n",
              "      <td>33</td>\n",
              "      <td>entrepreneur</td>\n",
              "      <td>married</td>\n",
              "      <td>secondary</td>\n",
              "      <td>no</td>\n",
              "      <td>2</td>\n",
              "      <td>yes</td>\n",
              "      <td>yes</td>\n",
              "      <td>unknown</td>\n",
              "      <td>5</td>\n",
              "      <td>may</td>\n",
              "      <td>76</td>\n",
              "      <td>1</td>\n",
              "      <td>-1</td>\n",
              "      <td>0</td>\n",
              "      <td>unknown</td>\n",
              "      <td>0</td>\n",
              "    </tr>\n",
              "    <tr>\n",
              "      <th>3</th>\n",
              "      <td>47</td>\n",
              "      <td>blue-collar</td>\n",
              "      <td>married</td>\n",
              "      <td>unknown</td>\n",
              "      <td>no</td>\n",
              "      <td>1506</td>\n",
              "      <td>yes</td>\n",
              "      <td>no</td>\n",
              "      <td>unknown</td>\n",
              "      <td>5</td>\n",
              "      <td>may</td>\n",
              "      <td>92</td>\n",
              "      <td>1</td>\n",
              "      <td>-1</td>\n",
              "      <td>0</td>\n",
              "      <td>unknown</td>\n",
              "      <td>0</td>\n",
              "    </tr>\n",
              "    <tr>\n",
              "      <th>4</th>\n",
              "      <td>33</td>\n",
              "      <td>unknown</td>\n",
              "      <td>single</td>\n",
              "      <td>unknown</td>\n",
              "      <td>no</td>\n",
              "      <td>1</td>\n",
              "      <td>no</td>\n",
              "      <td>no</td>\n",
              "      <td>unknown</td>\n",
              "      <td>5</td>\n",
              "      <td>may</td>\n",
              "      <td>198</td>\n",
              "      <td>1</td>\n",
              "      <td>-1</td>\n",
              "      <td>0</td>\n",
              "      <td>unknown</td>\n",
              "      <td>0</td>\n",
              "    </tr>\n",
              "  </tbody>\n",
              "</table>\n",
              "</div>"
            ],
            "text/plain": [
              "   age           job  marital  education default  balance housing loan  \\\n",
              "0   58    management  married   tertiary      no     2143     yes   no   \n",
              "1   44    technician   single  secondary      no       29     yes   no   \n",
              "2   33  entrepreneur  married  secondary      no        2     yes  yes   \n",
              "3   47   blue-collar  married    unknown      no     1506     yes   no   \n",
              "4   33       unknown   single    unknown      no        1      no   no   \n",
              "\n",
              "   contact  day month  duration  campaign  pdays  previous poutcome  y  \n",
              "0  unknown    5   may       261         1     -1         0  unknown  0  \n",
              "1  unknown    5   may       151         1     -1         0  unknown  0  \n",
              "2  unknown    5   may        76         1     -1         0  unknown  0  \n",
              "3  unknown    5   may        92         1     -1         0  unknown  0  \n",
              "4  unknown    5   may       198         1     -1         0  unknown  0  "
            ]
          },
          "metadata": {
            "tags": []
          },
          "execution_count": 13
        }
      ]
    },
    {
      "metadata": {
        "id": "KxhbOkBwrvBX",
        "colab_type": "code",
        "colab": {}
      },
      "cell_type": "code",
      "source": [
        "def three_way_split(\n",
        "    X, y, shuffle = False, train_size = .75, test_size = .15,\n",
        "    val_size = .1, random_state = None):\n",
        "  \n",
        "  assert train_size + val_size + test_size == 1\n",
        "  \n",
        "  X_train_val, X_test, y_train_val, y_test = train_test_split(\n",
        "        X, y, test_size=test_size, random_state=random_state, shuffle=shuffle)\n",
        "    \n",
        "  X_train, X_val, y_train, y_val = train_test_split(\n",
        "        X_train_val, y_train_val, test_size=val_size/(train_size+val_size), \n",
        "        random_state=random_state, shuffle=shuffle)\n",
        "    \n",
        "  return X_train, X_val, X_test, y_train, y_val, y_test \n",
        "  "
      ],
      "execution_count": 0,
      "outputs": []
    },
    {
      "metadata": {
        "id": "gySc1rQBq0_M",
        "colab_type": "code",
        "colab": {}
      },
      "cell_type": "code",
      "source": [
        "X.drop(['duration', 'contact', 'day'], axis = 1, inplace = True)"
      ],
      "execution_count": 0,
      "outputs": []
    },
    {
      "metadata": {
        "id": "vMlXmMKprrsC",
        "colab_type": "code",
        "colab": {
          "base_uri": "https://localhost:8080/",
          "height": 10431
        },
        "outputId": "cc30b826-b38e-4f5f-e419-25200e2f33fa"
      },
      "cell_type": "code",
      "source": [
        "three_way_split(X,y)"
      ],
      "execution_count": 16,
      "outputs": [
        {
          "output_type": "execute_result",
          "data": {
            "text/plain": [
              "(       age           job   marital  education default  balance housing loan  \\\n",
              " 0       58    management   married   tertiary      no     2143     yes   no   \n",
              " 1       44    technician    single  secondary      no       29     yes   no   \n",
              " 2       33  entrepreneur   married  secondary      no        2     yes  yes   \n",
              " 3       47   blue-collar   married    unknown      no     1506     yes   no   \n",
              " 4       33       unknown    single    unknown      no        1      no   no   \n",
              " 5       35    management   married   tertiary      no      231     yes   no   \n",
              " 6       28    management    single   tertiary      no      447     yes  yes   \n",
              " 7       42  entrepreneur  divorced   tertiary     yes        2     yes   no   \n",
              " 8       58       retired   married    primary      no      121     yes   no   \n",
              " 9       43    technician    single  secondary      no      593     yes   no   \n",
              " 10      41        admin.  divorced  secondary      no      270     yes   no   \n",
              " 11      29        admin.    single  secondary      no      390     yes   no   \n",
              " 12      53    technician   married  secondary      no        6     yes   no   \n",
              " 13      58    technician   married    unknown      no       71     yes   no   \n",
              " 14      57      services   married  secondary      no      162     yes   no   \n",
              " 15      51       retired   married    primary      no      229     yes   no   \n",
              " 16      45        admin.    single    unknown      no       13     yes   no   \n",
              " 17      57   blue-collar   married    primary      no       52     yes   no   \n",
              " 18      60       retired   married    primary      no       60     yes   no   \n",
              " 19      33      services   married  secondary      no        0     yes   no   \n",
              " 20      28   blue-collar   married  secondary      no      723     yes  yes   \n",
              " 21      56    management   married   tertiary      no      779     yes   no   \n",
              " 22      32   blue-collar    single    primary      no       23     yes  yes   \n",
              " 23      25      services   married  secondary      no       50     yes   no   \n",
              " 24      40       retired   married    primary      no        0     yes  yes   \n",
              " 25      44        admin.   married  secondary      no     -372     yes   no   \n",
              " 26      39    management    single   tertiary      no      255     yes   no   \n",
              " 27      52  entrepreneur   married  secondary      no      113     yes  yes   \n",
              " 28      46    management    single  secondary      no     -246     yes   no   \n",
              " 29      36    technician    single  secondary      no      265     yes  yes   \n",
              " ...    ...           ...       ...        ...     ...      ...     ...  ...   \n",
              " 33877   47    technician   married  secondary      no     1167     yes   no   \n",
              " 33878   52    unemployed   married  secondary      no       49      no   no   \n",
              " 33879   52    management   married   tertiary      no      193      no   no   \n",
              " 33880   28    technician    single  secondary      no      113      no   no   \n",
              " 33881   38    management   married   tertiary      no        0     yes   no   \n",
              " 33882   29       student    single  secondary      no       78      no   no   \n",
              " 33883   41    management   married   tertiary      no     2767      no   no   \n",
              " 33884   36    unemployed    single   tertiary      no     1291      no   no   \n",
              " 33885   55       retired   married  secondary      no     6690      no   no   \n",
              " 33886   58       retired   married   tertiary      no     1425      no   no   \n",
              " 33887   31    technician   married   tertiary      no     3382      no   no   \n",
              " 33888   51     housemaid   married    primary      no      618     yes  yes   \n",
              " 33889   30      services    single   tertiary      no      803      no   no   \n",
              " 33890   59       retired  divorced  secondary      no     5583     yes   no   \n",
              " 33891   48        admin.   married  secondary      no      344      no   no   \n",
              " 33892   27    management    single   tertiary      no      828      no   no   \n",
              " 33893   59       retired   married    unknown      no     1116      no   no   \n",
              " 33894   47   blue-collar   married  secondary      no     1230     yes   no   \n",
              " 33895   26       student    single    unknown      no       19      no   no   \n",
              " 33896   31    technician    single  secondary      no     4105      no   no   \n",
              " 33897   36        admin.   married  secondary      no       96      no   no   \n",
              " 33898   33    management   married   tertiary      no      158      no   no   \n",
              " 33899   39    technician  divorced  secondary      no        0     yes  yes   \n",
              " 33900   34       student   married    unknown      no     1387      no   no   \n",
              " 33901   42      services    single  secondary      no     3403     yes   no   \n",
              " 33902   45    management   married   tertiary      no      160      no   no   \n",
              " 33903   49    technician   married  secondary      no      305      no   no   \n",
              " 33904   43        admin.   married   tertiary      no      279     yes   no   \n",
              " 33905   28    management    single   tertiary      no      320     yes   no   \n",
              " 33906   27       student    single   tertiary      no     1390      no   no   \n",
              " \n",
              "       month  campaign  pdays  previous poutcome  \n",
              " 0       may         1     -1         0  unknown  \n",
              " 1       may         1     -1         0  unknown  \n",
              " 2       may         1     -1         0  unknown  \n",
              " 3       may         1     -1         0  unknown  \n",
              " 4       may         1     -1         0  unknown  \n",
              " 5       may         1     -1         0  unknown  \n",
              " 6       may         1     -1         0  unknown  \n",
              " 7       may         1     -1         0  unknown  \n",
              " 8       may         1     -1         0  unknown  \n",
              " 9       may         1     -1         0  unknown  \n",
              " 10      may         1     -1         0  unknown  \n",
              " 11      may         1     -1         0  unknown  \n",
              " 12      may         1     -1         0  unknown  \n",
              " 13      may         1     -1         0  unknown  \n",
              " 14      may         1     -1         0  unknown  \n",
              " 15      may         1     -1         0  unknown  \n",
              " 16      may         1     -1         0  unknown  \n",
              " 17      may         1     -1         0  unknown  \n",
              " 18      may         1     -1         0  unknown  \n",
              " 19      may         1     -1         0  unknown  \n",
              " 20      may         1     -1         0  unknown  \n",
              " 21      may         1     -1         0  unknown  \n",
              " 22      may         1     -1         0  unknown  \n",
              " 23      may         1     -1         0  unknown  \n",
              " 24      may         1     -1         0  unknown  \n",
              " 25      may         1     -1         0  unknown  \n",
              " 26      may         1     -1         0  unknown  \n",
              " 27      may         1     -1         0  unknown  \n",
              " 28      may         2     -1         0  unknown  \n",
              " 29      may         1     -1         0  unknown  \n",
              " ...     ...       ...    ...       ...      ...  \n",
              " 33877   apr         1     87         5  failure  \n",
              " 33878   apr         1     -1         0  unknown  \n",
              " 33879   apr         1    269         1  failure  \n",
              " 33880   apr         1     -1         0  unknown  \n",
              " 33881   apr         1     -1         0  unknown  \n",
              " 33882   apr         1     -1         0  unknown  \n",
              " 33883   apr         1     -1         0  unknown  \n",
              " 33884   apr         1     86         1  success  \n",
              " 33885   apr         1     -1         0  unknown  \n",
              " 33886   apr         1     -1         0  unknown  \n",
              " 33887   apr         1     -1         0  unknown  \n",
              " 33888   apr         1     85         1  failure  \n",
              " 33889   apr         1     -1         0  unknown  \n",
              " 33890   apr         1     -1         0  unknown  \n",
              " 33891   apr         1     86         2    other  \n",
              " 33892   apr         1     -1         0  unknown  \n",
              " 33893   apr         1     -1         0  unknown  \n",
              " 33894   apr         1    169         1  success  \n",
              " 33895   apr         1     -1         0  unknown  \n",
              " 33896   apr         1     -1         0  unknown  \n",
              " 33897   apr         1     87         1  success  \n",
              " 33898   apr         2     83         2  success  \n",
              " 33899   apr         1     -1         0  unknown  \n",
              " 33900   apr         1     -1         0  unknown  \n",
              " 33901   apr         1     -1         0  unknown  \n",
              " 33902   apr         1     -1         0  unknown  \n",
              " 33903   apr         1     -1         0  unknown  \n",
              " 33904   apr         1    164         1  failure  \n",
              " 33905   apr         1     -1         0  unknown  \n",
              " 33906   apr         1     -1         0  unknown  \n",
              " \n",
              " [33907 rows x 13 columns],\n",
              "        age            job   marital  education default  balance housing loan  \\\n",
              " 33907   21        student    single  secondary      no      224      no   no   \n",
              " 33908   23        student    single  secondary      no        0      no   no   \n",
              " 33909   47    blue-collar   married  secondary      no     1730     yes   no   \n",
              " 33910   26        student    single  secondary      no      480      no   no   \n",
              " 33911   29     management    single   tertiary      no      697      no   no   \n",
              " 33912   25     management    single   tertiary      no      943      no   no   \n",
              " 33913   60      housemaid   married    primary      no     1163      no   no   \n",
              " 33914   37     technician   married  secondary      no     1458      no   no   \n",
              " 33915   42     technician    single    unknown      no    11115      no   no   \n",
              " 33916   59     management   married   tertiary      no     1729      no   no   \n",
              " 33917   49         admin.   married  secondary      no     3608     yes   no   \n",
              " 33918   33         admin.   married  secondary      no       95     yes   no   \n",
              " 33919   59     technician   married  secondary      no     2308      no   no   \n",
              " 33920   58     management  divorced   tertiary      no     5701      no   no   \n",
              " 33921   44    blue-collar   married    unknown      no     1529     yes   no   \n",
              " 33922   48    blue-collar   married  secondary      no      292      no   no   \n",
              " 33923   33        student    single    unknown      no     5969      no   no   \n",
              " 33924   29     management    single   tertiary      no     7345      no   no   \n",
              " 33925   30     technician   married   tertiary      no      606     yes   no   \n",
              " 33926   48     unemployed   married  secondary      no    11371     yes   no   \n",
              " 33927   34  self-employed   married    primary      no     7468     yes  yes   \n",
              " 33928   32         admin.   married  secondary      no        0     yes   no   \n",
              " 33929   42     technician   married    unknown      no     1559      no   no   \n",
              " 33930   54         admin.  divorced  secondary      no     1693      no   no   \n",
              " 33931   42     technician   married   tertiary      no      757      no   no   \n",
              " 33932   36     management   married   tertiary      no     -547     yes   no   \n",
              " 33933   42    blue-collar   married    primary      no      201     yes   no   \n",
              " 33934   33     management   married   tertiary      no     1122      no   no   \n",
              " 33935   27         admin.    single   tertiary      no      662      no   no   \n",
              " 33936   32       services   married  secondary      no      580     yes   no   \n",
              " ...    ...            ...       ...        ...     ...      ...     ...  ...   \n",
              " 38399   32     management    single   tertiary      no      435     yes  yes   \n",
              " 38400   29    blue-collar    single    primary      no      722     yes   no   \n",
              " 38401   49  self-employed   married  secondary      no      505     yes   no   \n",
              " 38402   32         admin.    single  secondary      no     6042     yes   no   \n",
              " 38403   42    blue-collar   married  secondary      no      505     yes   no   \n",
              " 38404   55       services   married    primary      no     -747     yes   no   \n",
              " 38405   49         admin.  divorced  secondary      no      132     yes   no   \n",
              " 38406   26     technician    single  secondary      no      626     yes   no   \n",
              " 38407   30     management    single   tertiary      no     1692     yes   no   \n",
              " 38408   29    blue-collar   married  secondary      no       47     yes  yes   \n",
              " 38409   54     unemployed   married  secondary      no      582     yes   no   \n",
              " 38410   29        student    single   tertiary      no       80     yes   no   \n",
              " 38411   34         admin.    single  secondary      no     6979     yes   no   \n",
              " 38412   25    blue-collar    single   tertiary      no     1395     yes   no   \n",
              " 38413   26       services    single  secondary      no      212     yes   no   \n",
              " 38414   31    blue-collar    single  secondary      no      210     yes  yes   \n",
              " 38415   51     management  divorced   tertiary      no     -227     yes   no   \n",
              " 38416   34     management   married  secondary      no     -285     yes   no   \n",
              " 38417   34     technician    single  secondary      no      194     yes  yes   \n",
              " 38418   27       services    single  secondary      no      353     yes   no   \n",
              " 38419   28        student    single  secondary      no      217     yes   no   \n",
              " 38420   32    blue-collar   married    primary      no      252     yes   no   \n",
              " 38421   23       services   married  secondary      no     2211     yes   no   \n",
              " 38422   42    blue-collar  divorced  secondary      no      198      no   no   \n",
              " 38423   26        student    single  secondary      no     2138     yes   no   \n",
              " 38424   39         admin.   married  secondary      no     -650      no   no   \n",
              " 38425   29     technician    single   tertiary      no      226     yes   no   \n",
              " 38426   52    blue-collar   married    primary      no      134     yes   no   \n",
              " 38427   36         admin.   married  secondary      no     1479      no   no   \n",
              " 38428   28       services    single  secondary      no      341     yes   no   \n",
              " \n",
              "       month  campaign  pdays  previous poutcome  \n",
              " 33907   apr         1     -1         0  unknown  \n",
              " 33908   apr         1     83         6  success  \n",
              " 33909   apr         1     -1         0  unknown  \n",
              " 33910   apr         1     -1         0  unknown  \n",
              " 33911   apr         1     85         1  success  \n",
              " 33912   apr         1     -1         0  unknown  \n",
              " 33913   apr         8     -1         0  unknown  \n",
              " 33914   apr         1     -1         0  unknown  \n",
              " 33915   apr         1     -1         0  unknown  \n",
              " 33916   apr         1     -1         0  unknown  \n",
              " 33917   apr         1    168         1  success  \n",
              " 33918   apr         1     -1         0  unknown  \n",
              " 33919   apr         1     87         1    other  \n",
              " 33920   apr         1     87         1  success  \n",
              " 33921   apr         1     -1         0  unknown  \n",
              " 33922   apr         1     79         1  success  \n",
              " 33923   apr         1     83         7  failure  \n",
              " 33924   apr         1     -1         0  unknown  \n",
              " 33925   apr         1     -1         0  unknown  \n",
              " 33926   apr         1     86         3  failure  \n",
              " 33927   apr         1     -1         0  unknown  \n",
              " 33928   apr         2     -1         0  unknown  \n",
              " 33929   apr         1     -1         0  unknown  \n",
              " 33930   apr         1     87         2    other  \n",
              " 33931   apr         1     79         1  success  \n",
              " 33932   apr         1    259         2  failure  \n",
              " 33933   apr         1     85         2  failure  \n",
              " 33934   apr        10     -1         0  unknown  \n",
              " 33935   apr         1     -1         0  unknown  \n",
              " 33936   apr         1     -1         0  unknown  \n",
              " ...     ...       ...    ...       ...      ...  \n",
              " 38399   may         3     -1         0  unknown  \n",
              " 38400   may         1    359         1  failure  \n",
              " 38401   may         2     -1         0  unknown  \n",
              " 38402   may         1    361         1  failure  \n",
              " 38403   may         1     -1         0  unknown  \n",
              " 38404   may         7     -1         0  unknown  \n",
              " 38405   may         1    350         1  failure  \n",
              " 38406   may         2     -1         0  unknown  \n",
              " 38407   may         1     -1         0  unknown  \n",
              " 38408   may         1     -1         0  unknown  \n",
              " 38409   may         5    372         2  failure  \n",
              " 38410   may         5    361         1  failure  \n",
              " 38411   may         5     -1         0  unknown  \n",
              " 38412   may         1     -1         0  unknown  \n",
              " 38413   may         2    352         1    other  \n",
              " 38414   may         1     -1         0  unknown  \n",
              " 38415   may         1     -1         0  unknown  \n",
              " 38416   may         1    276         3  failure  \n",
              " 38417   may         1     -1         0  unknown  \n",
              " 38418   may         1     -1         0  unknown  \n",
              " 38419   may         2    372         1  failure  \n",
              " 38420   may         1     -1         0  unknown  \n",
              " 38421   may         2     -1         0  unknown  \n",
              " 38422   may         1     -1         0  unknown  \n",
              " 38423   may         8    371         1    other  \n",
              " 38424   may         2    364         1  failure  \n",
              " 38425   may         1     -1         0  unknown  \n",
              " 38426   may         2    295         3  failure  \n",
              " 38427   may         2     -1         0  unknown  \n",
              " 38428   may         3    347         3    other  \n",
              " \n",
              " [4522 rows x 13 columns],\n",
              "        age            job   marital  education default  balance housing loan  \\\n",
              " 38429   37       services    single  secondary      no     1175     yes   no   \n",
              " 38430   29    blue-collar   married  secondary      no      339     yes   no   \n",
              " 38431   41  self-employed   married   tertiary      no     6000     yes   no   \n",
              " 38432   29     management    single   tertiary      no     1388     yes   no   \n",
              " 38433   32    blue-collar   married    primary      no     2198      no   no   \n",
              " 38434   39   entrepreneur   married   tertiary     yes     -172     yes   no   \n",
              " 38435   37    blue-collar   married    primary      no     -212     yes   no   \n",
              " 38436   30     technician   married    primary      no       95     yes   no   \n",
              " 38437   39     technician    single  secondary      no       12     yes   no   \n",
              " 38438   27    blue-collar    single    unknown      no      -15     yes  yes   \n",
              " 38439   41         admin.    single  secondary      no     2002     yes   no   \n",
              " 38440   32       services   married  secondary      no      118     yes   no   \n",
              " 38441   58    blue-collar   married    primary      no     5431     yes  yes   \n",
              " 38442   41         admin.  divorced  secondary      no     2550     yes   no   \n",
              " 38443   40         admin.   married  secondary      no      438     yes   no   \n",
              " 38444   28    blue-collar   married  secondary      no     2257     yes   no   \n",
              " 38445   21        student    single  secondary      no      126     yes   no   \n",
              " 38446   31         admin.   married  secondary      no      728     yes  yes   \n",
              " 38447   30       services    single   tertiary      no      717     yes  yes   \n",
              " 38448   34       services    single  secondary      no     4062     yes  yes   \n",
              " 38449   60        retired  divorced  secondary      no     -639     yes   no   \n",
              " 38450   27         admin.    single   tertiary      no      144     yes   no   \n",
              " 38451   23         admin.    single  secondary      no      252     yes   no   \n",
              " 38452   22         admin.    single  secondary      no      118     yes   no   \n",
              " 38453   28         admin.    single  secondary      no     -215     yes   no   \n",
              " 38454   25         admin.    single   tertiary      no     1056     yes   no   \n",
              " 38455   52    blue-collar   married    primary      no     2396     yes   no   \n",
              " 38456   32       services   married  secondary      no     3268      no   no   \n",
              " 38457   33       services  divorced  secondary      no     2411     yes   no   \n",
              " 38458   41    blue-collar   married  secondary      no       49     yes   no   \n",
              " ...    ...            ...       ...        ...     ...      ...     ...  ...   \n",
              " 45181   46    blue-collar   married  secondary      no     6879      no   no   \n",
              " 45182   34     technician   married  secondary      no      133      no   no   \n",
              " 45183   70        retired   married    primary      no      324      no   no   \n",
              " 45184   63        retired   married  secondary      no     1495      no   no   \n",
              " 45185   60       services   married   tertiary      no     4256     yes   no   \n",
              " 45186   59        unknown   married    unknown      no     1500      no   no   \n",
              " 45187   32       services    single  secondary      no     1168     yes   no   \n",
              " 45188   29     management    single  secondary      no      703     yes   no   \n",
              " 45189   25       services    single  secondary      no      199      no   no   \n",
              " 45190   32    blue-collar   married  secondary      no      136      no   no   \n",
              " 45191   75        retired  divorced   tertiary      no     3810     yes   no   \n",
              " 45192   29     management    single   tertiary      no      765      no   no   \n",
              " 45193   28  self-employed    single   tertiary      no      159      no   no   \n",
              " 45194   59     management   married   tertiary      no      138     yes  yes   \n",
              " 45195   68        retired   married  secondary      no     1146      no   no   \n",
              " 45196   25        student    single  secondary      no      358      no   no   \n",
              " 45197   36     management    single  secondary      no     1511     yes   no   \n",
              " 45198   37     management   married   tertiary      no     1428      no   no   \n",
              " 45199   34    blue-collar    single  secondary      no     1475     yes   no   \n",
              " 45200   38     technician   married  secondary      no      557     yes   no   \n",
              " 45201   53     management   married   tertiary      no      583      no   no   \n",
              " 45202   34         admin.    single  secondary      no      557      no   no   \n",
              " 45203   23        student    single   tertiary      no      113      no   no   \n",
              " 45204   73        retired   married  secondary      no     2850      no   no   \n",
              " 45205   25     technician    single  secondary      no      505      no  yes   \n",
              " 45206   51     technician   married   tertiary      no      825      no   no   \n",
              " 45207   71        retired  divorced    primary      no     1729      no   no   \n",
              " 45208   72        retired   married  secondary      no     5715      no   no   \n",
              " 45209   57    blue-collar   married  secondary      no      668      no   no   \n",
              " 45210   37   entrepreneur   married  secondary      no     2971      no   no   \n",
              " \n",
              "       month  campaign  pdays  previous poutcome  \n",
              " 38429   may         1    333         2  failure  \n",
              " 38430   may         3    354         2  failure  \n",
              " 38431   may         6    178         1  failure  \n",
              " 38432   may         3     -1         0  unknown  \n",
              " 38433   may         1    175         4  failure  \n",
              " 38434   may         2     -1         0  unknown  \n",
              " 38435   may         3    352         1    other  \n",
              " 38436   may         2    298         1  failure  \n",
              " 38437   may         2    352         2  failure  \n",
              " 38438   may         4    312         6    other  \n",
              " 38439   may         2    350         1  failure  \n",
              " 38440   may         6     -1         0  unknown  \n",
              " 38441   may         3    374         1  failure  \n",
              " 38442   may         2    347         2  failure  \n",
              " 38443   may         2     -1         0  unknown  \n",
              " 38444   may         1     -1         0  unknown  \n",
              " 38445   may         1     -1         0  unknown  \n",
              " 38446   may         1    352         4  failure  \n",
              " 38447   may         1     -1         0  unknown  \n",
              " 38448   may         1     -1         0  unknown  \n",
              " 38449   may         1     -1         0  unknown  \n",
              " 38450   may         1     -1         0  unknown  \n",
              " 38451   may         1     -1         0  unknown  \n",
              " 38452   may         3     -1         0  unknown  \n",
              " 38453   may         1    360         3  failure  \n",
              " 38454   may         1     -1         0  unknown  \n",
              " 38455   may         7     -1         0  unknown  \n",
              " 38456   may         1     -1         0  unknown  \n",
              " 38457   may         1     -1         0  unknown  \n",
              " 38458   may         2     -1         0  unknown  \n",
              " ...     ...       ...    ...       ...      ...  \n",
              " 45181   nov         2    118         3  failure  \n",
              " 45182   nov         2    187         5  success  \n",
              " 45183   nov         1     96         7  success  \n",
              " 45184   nov         1     22         5  success  \n",
              " 45185   nov         1     92         4  success  \n",
              " 45186   nov         1    104         2  failure  \n",
              " 45187   nov         1     -1         0  unknown  \n",
              " 45188   nov         1    550         2  success  \n",
              " 45189   nov         1     92         5  failure  \n",
              " 45190   nov         1    188         3  success  \n",
              " 45191   nov         1    183         1  failure  \n",
              " 45192   nov         1     -1         0  unknown  \n",
              " 45193   nov         2     33         4  success  \n",
              " 45194   nov         2    187         5  failure  \n",
              " 45195   nov         1    187         6  success  \n",
              " 45196   nov         1     -1         0  unknown  \n",
              " 45197   nov         1     -1         0  unknown  \n",
              " 45198   nov         2     -1         0  unknown  \n",
              " 45199   nov         3    530        12    other  \n",
              " 45200   nov         4     -1         0  unknown  \n",
              " 45201   nov         1    184         4  success  \n",
              " 45202   nov         1     -1         0  unknown  \n",
              " 45203   nov         1     -1         0  unknown  \n",
              " 45204   nov         1     40         8  failure  \n",
              " 45205   nov         2     -1         0  unknown  \n",
              " 45206   nov         3     -1         0  unknown  \n",
              " 45207   nov         2     -1         0  unknown  \n",
              " 45208   nov         5    184         3  success  \n",
              " 45209   nov         4     -1         0  unknown  \n",
              " 45210   nov         2    188        11    other  \n",
              " \n",
              " [6782 rows x 13 columns],\n",
              " 0        0\n",
              " 1        0\n",
              " 2        0\n",
              " 3        0\n",
              " 4        0\n",
              " 5        0\n",
              " 6        0\n",
              " 7        0\n",
              " 8        0\n",
              " 9        0\n",
              " 10       0\n",
              " 11       0\n",
              " 12       0\n",
              " 13       0\n",
              " 14       0\n",
              " 15       0\n",
              " 16       0\n",
              " 17       0\n",
              " 18       0\n",
              " 19       0\n",
              " 20       0\n",
              " 21       0\n",
              " 22       0\n",
              " 23       0\n",
              " 24       0\n",
              " 25       0\n",
              " 26       0\n",
              " 27       0\n",
              " 28       0\n",
              " 29       0\n",
              "         ..\n",
              " 33877    1\n",
              " 33878    0\n",
              " 33879    1\n",
              " 33880    0\n",
              " 33881    1\n",
              " 33882    1\n",
              " 33883    0\n",
              " 33884    1\n",
              " 33885    0\n",
              " 33886    1\n",
              " 33887    1\n",
              " 33888    0\n",
              " 33889    0\n",
              " 33890    1\n",
              " 33891    0\n",
              " 33892    0\n",
              " 33893    0\n",
              " 33894    1\n",
              " 33895    0\n",
              " 33896    0\n",
              " 33897    1\n",
              " 33898    0\n",
              " 33899    0\n",
              " 33900    0\n",
              " 33901    0\n",
              " 33902    1\n",
              " 33903    0\n",
              " 33904    0\n",
              " 33905    0\n",
              " 33906    0\n",
              " Name: y, Length: 33907, dtype: int64,\n",
              " 33907    1\n",
              " 33908    1\n",
              " 33909    1\n",
              " 33910    0\n",
              " 33911    1\n",
              " 33912    1\n",
              " 33913    1\n",
              " 33914    1\n",
              " 33915    1\n",
              " 33916    0\n",
              " 33917    1\n",
              " 33918    1\n",
              " 33919    1\n",
              " 33920    1\n",
              " 33921    1\n",
              " 33922    1\n",
              " 33923    0\n",
              " 33924    0\n",
              " 33925    0\n",
              " 33926    0\n",
              " 33927    1\n",
              " 33928    1\n",
              " 33929    1\n",
              " 33930    1\n",
              " 33931    1\n",
              " 33932    0\n",
              " 33933    1\n",
              " 33934    0\n",
              " 33935    0\n",
              " 33936    0\n",
              "         ..\n",
              " 38399    0\n",
              " 38400    0\n",
              " 38401    0\n",
              " 38402    0\n",
              " 38403    0\n",
              " 38404    0\n",
              " 38405    0\n",
              " 38406    0\n",
              " 38407    0\n",
              " 38408    0\n",
              " 38409    1\n",
              " 38410    0\n",
              " 38411    0\n",
              " 38412    0\n",
              " 38413    0\n",
              " 38414    0\n",
              " 38415    0\n",
              " 38416    0\n",
              " 38417    1\n",
              " 38418    1\n",
              " 38419    0\n",
              " 38420    0\n",
              " 38421    0\n",
              " 38422    0\n",
              " 38423    0\n",
              " 38424    0\n",
              " 38425    0\n",
              " 38426    0\n",
              " 38427    0\n",
              " 38428    1\n",
              " Name: y, Length: 4522, dtype: int64,\n",
              " 38429    0\n",
              " 38430    0\n",
              " 38431    0\n",
              " 38432    0\n",
              " 38433    0\n",
              " 38434    1\n",
              " 38435    0\n",
              " 38436    0\n",
              " 38437    0\n",
              " 38438    0\n",
              " 38439    0\n",
              " 38440    0\n",
              " 38441    0\n",
              " 38442    0\n",
              " 38443    0\n",
              " 38444    0\n",
              " 38445    0\n",
              " 38446    0\n",
              " 38447    0\n",
              " 38448    0\n",
              " 38449    1\n",
              " 38450    0\n",
              " 38451    0\n",
              " 38452    0\n",
              " 38453    0\n",
              " 38454    0\n",
              " 38455    0\n",
              " 38456    0\n",
              " 38457    0\n",
              " 38458    0\n",
              "         ..\n",
              " 45181    0\n",
              " 45182    1\n",
              " 45183    0\n",
              " 45184    0\n",
              " 45185    1\n",
              " 45186    0\n",
              " 45187    1\n",
              " 45188    1\n",
              " 45189    0\n",
              " 45190    1\n",
              " 45191    1\n",
              " 45192    1\n",
              " 45193    1\n",
              " 45194    0\n",
              " 45195    1\n",
              " 45196    1\n",
              " 45197    1\n",
              " 45198    0\n",
              " 45199    0\n",
              " 45200    1\n",
              " 45201    1\n",
              " 45202    1\n",
              " 45203    1\n",
              " 45204    1\n",
              " 45205    1\n",
              " 45206    1\n",
              " 45207    1\n",
              " 45208    1\n",
              " 45209    0\n",
              " 45210    0\n",
              " Name: y, Length: 6782, dtype: int64)"
            ]
          },
          "metadata": {
            "tags": []
          },
          "execution_count": 16
        }
      ]
    },
    {
      "metadata": {
        "id": "upYsADsQtDTB",
        "colab_type": "code",
        "colab": {
          "base_uri": "https://localhost:8080/",
          "height": 368
        },
        "outputId": "307ddf44-ded2-4e05-f94b-2f1f0bb0da3d"
      },
      "cell_type": "code",
      "source": [
        "pipeline.fit(X_train, y_train)\n",
        "y_pred = pipeline.predict(X_val)\n",
        "print(accuracy_score(y_val, y_pred))\n",
        "\n",
        "pipeline.fit(X_train, y_train)\n",
        "y_pred = pipeline.predict(X_test)\n",
        "print(accuracy_score(y_test, y_pred))"
      ],
      "execution_count": 17,
      "outputs": [
        {
          "output_type": "stream",
          "text": [
            "/usr/local/lib/python3.6/dist-packages/sklearn/preprocessing/data.py:625: DataConversionWarning: Data with input dtype int64 were all converted to float64 by StandardScaler.\n",
            "  return self.partial_fit(X, y)\n",
            "/usr/local/lib/python3.6/dist-packages/sklearn/base.py:465: DataConversionWarning: Data with input dtype int64 were all converted to float64 by StandardScaler.\n",
            "  return self.fit(X, y, **fit_params).transform(X)\n",
            "/usr/local/lib/python3.6/dist-packages/sklearn/linear_model/logistic.py:433: FutureWarning: Default solver will be changed to 'lbfgs' in 0.22. Specify a solver to silence this warning.\n",
            "  FutureWarning)\n",
            "/usr/local/lib/python3.6/dist-packages/sklearn/pipeline.py:331: DataConversionWarning: Data with input dtype int64 were all converted to float64 by StandardScaler.\n",
            "  Xt = transform.transform(Xt)\n"
          ],
          "name": "stderr"
        },
        {
          "output_type": "stream",
          "text": [
            "0.9013802052612953\n"
          ],
          "name": "stdout"
        },
        {
          "output_type": "stream",
          "text": [
            "/usr/local/lib/python3.6/dist-packages/sklearn/preprocessing/data.py:625: DataConversionWarning: Data with input dtype int64 were all converted to float64 by StandardScaler.\n",
            "  return self.partial_fit(X, y)\n",
            "/usr/local/lib/python3.6/dist-packages/sklearn/base.py:465: DataConversionWarning: Data with input dtype int64 were all converted to float64 by StandardScaler.\n",
            "  return self.fit(X, y, **fit_params).transform(X)\n",
            "/usr/local/lib/python3.6/dist-packages/sklearn/linear_model/logistic.py:433: FutureWarning: Default solver will be changed to 'lbfgs' in 0.22. Specify a solver to silence this warning.\n",
            "  FutureWarning)\n"
          ],
          "name": "stderr"
        },
        {
          "output_type": "stream",
          "text": [
            "0.9024152879766434\n"
          ],
          "name": "stdout"
        },
        {
          "output_type": "stream",
          "text": [
            "/usr/local/lib/python3.6/dist-packages/sklearn/pipeline.py:331: DataConversionWarning: Data with input dtype int64 were all converted to float64 by StandardScaler.\n",
            "  Xt = transform.transform(Xt)\n"
          ],
          "name": "stderr"
        }
      ]
    },
    {
      "metadata": {
        "id": "FSVr1Qo6xdnt",
        "colab_type": "text"
      },
      "cell_type": "markdown",
      "source": [
        "ok no dice... time to reencode all this stuff i guess"
      ]
    },
    {
      "metadata": {
        "id": "zrCw_1rlxgVE",
        "colab_type": "code",
        "colab": {
          "base_uri": "https://localhost:8080/",
          "height": 206
        },
        "outputId": "e3a26c12-d8c4-4b69-9f9f-7e9ed9670060"
      },
      "cell_type": "code",
      "source": [
        "df.head()"
      ],
      "execution_count": 18,
      "outputs": [
        {
          "output_type": "execute_result",
          "data": {
            "text/html": [
              "<div>\n",
              "<style scoped>\n",
              "    .dataframe tbody tr th:only-of-type {\n",
              "        vertical-align: middle;\n",
              "    }\n",
              "\n",
              "    .dataframe tbody tr th {\n",
              "        vertical-align: top;\n",
              "    }\n",
              "\n",
              "    .dataframe thead th {\n",
              "        text-align: right;\n",
              "    }\n",
              "</style>\n",
              "<table border=\"1\" class=\"dataframe\">\n",
              "  <thead>\n",
              "    <tr style=\"text-align: right;\">\n",
              "      <th></th>\n",
              "      <th>age</th>\n",
              "      <th>job</th>\n",
              "      <th>marital</th>\n",
              "      <th>education</th>\n",
              "      <th>default</th>\n",
              "      <th>balance</th>\n",
              "      <th>housing</th>\n",
              "      <th>loan</th>\n",
              "      <th>contact</th>\n",
              "      <th>day</th>\n",
              "      <th>month</th>\n",
              "      <th>duration</th>\n",
              "      <th>campaign</th>\n",
              "      <th>pdays</th>\n",
              "      <th>previous</th>\n",
              "      <th>poutcome</th>\n",
              "      <th>y</th>\n",
              "    </tr>\n",
              "  </thead>\n",
              "  <tbody>\n",
              "    <tr>\n",
              "      <th>0</th>\n",
              "      <td>58</td>\n",
              "      <td>management</td>\n",
              "      <td>married</td>\n",
              "      <td>tertiary</td>\n",
              "      <td>no</td>\n",
              "      <td>2143</td>\n",
              "      <td>yes</td>\n",
              "      <td>no</td>\n",
              "      <td>unknown</td>\n",
              "      <td>5</td>\n",
              "      <td>may</td>\n",
              "      <td>261</td>\n",
              "      <td>1</td>\n",
              "      <td>-1</td>\n",
              "      <td>0</td>\n",
              "      <td>unknown</td>\n",
              "      <td>0</td>\n",
              "    </tr>\n",
              "    <tr>\n",
              "      <th>1</th>\n",
              "      <td>44</td>\n",
              "      <td>technician</td>\n",
              "      <td>single</td>\n",
              "      <td>secondary</td>\n",
              "      <td>no</td>\n",
              "      <td>29</td>\n",
              "      <td>yes</td>\n",
              "      <td>no</td>\n",
              "      <td>unknown</td>\n",
              "      <td>5</td>\n",
              "      <td>may</td>\n",
              "      <td>151</td>\n",
              "      <td>1</td>\n",
              "      <td>-1</td>\n",
              "      <td>0</td>\n",
              "      <td>unknown</td>\n",
              "      <td>0</td>\n",
              "    </tr>\n",
              "    <tr>\n",
              "      <th>2</th>\n",
              "      <td>33</td>\n",
              "      <td>entrepreneur</td>\n",
              "      <td>married</td>\n",
              "      <td>secondary</td>\n",
              "      <td>no</td>\n",
              "      <td>2</td>\n",
              "      <td>yes</td>\n",
              "      <td>yes</td>\n",
              "      <td>unknown</td>\n",
              "      <td>5</td>\n",
              "      <td>may</td>\n",
              "      <td>76</td>\n",
              "      <td>1</td>\n",
              "      <td>-1</td>\n",
              "      <td>0</td>\n",
              "      <td>unknown</td>\n",
              "      <td>0</td>\n",
              "    </tr>\n",
              "    <tr>\n",
              "      <th>3</th>\n",
              "      <td>47</td>\n",
              "      <td>blue-collar</td>\n",
              "      <td>married</td>\n",
              "      <td>unknown</td>\n",
              "      <td>no</td>\n",
              "      <td>1506</td>\n",
              "      <td>yes</td>\n",
              "      <td>no</td>\n",
              "      <td>unknown</td>\n",
              "      <td>5</td>\n",
              "      <td>may</td>\n",
              "      <td>92</td>\n",
              "      <td>1</td>\n",
              "      <td>-1</td>\n",
              "      <td>0</td>\n",
              "      <td>unknown</td>\n",
              "      <td>0</td>\n",
              "    </tr>\n",
              "    <tr>\n",
              "      <th>4</th>\n",
              "      <td>33</td>\n",
              "      <td>unknown</td>\n",
              "      <td>single</td>\n",
              "      <td>unknown</td>\n",
              "      <td>no</td>\n",
              "      <td>1</td>\n",
              "      <td>no</td>\n",
              "      <td>no</td>\n",
              "      <td>unknown</td>\n",
              "      <td>5</td>\n",
              "      <td>may</td>\n",
              "      <td>198</td>\n",
              "      <td>1</td>\n",
              "      <td>-1</td>\n",
              "      <td>0</td>\n",
              "      <td>unknown</td>\n",
              "      <td>0</td>\n",
              "    </tr>\n",
              "  </tbody>\n",
              "</table>\n",
              "</div>"
            ],
            "text/plain": [
              "   age           job  marital  education default  balance housing loan  \\\n",
              "0   58    management  married   tertiary      no     2143     yes   no   \n",
              "1   44    technician   single  secondary      no       29     yes   no   \n",
              "2   33  entrepreneur  married  secondary      no        2     yes  yes   \n",
              "3   47   blue-collar  married    unknown      no     1506     yes   no   \n",
              "4   33       unknown   single    unknown      no        1      no   no   \n",
              "\n",
              "   contact  day month  duration  campaign  pdays  previous poutcome  y  \n",
              "0  unknown    5   may       261         1     -1         0  unknown  0  \n",
              "1  unknown    5   may       151         1     -1         0  unknown  0  \n",
              "2  unknown    5   may        76         1     -1         0  unknown  0  \n",
              "3  unknown    5   may        92         1     -1         0  unknown  0  \n",
              "4  unknown    5   may       198         1     -1         0  unknown  0  "
            ]
          },
          "metadata": {
            "tags": []
          },
          "execution_count": 18
        }
      ]
    },
    {
      "metadata": {
        "id": "q0bGsM8Atk_L",
        "colab_type": "code",
        "colab": {
          "base_uri": "https://localhost:8080/",
          "height": 35
        },
        "outputId": "1e11e137-e6b9-49e6-8385-80eb3b0be1b8"
      },
      "cell_type": "code",
      "source": [
        "df['age'].min()"
      ],
      "execution_count": 19,
      "outputs": [
        {
          "output_type": "execute_result",
          "data": {
            "text/plain": [
              "18"
            ]
          },
          "metadata": {
            "tags": []
          },
          "execution_count": 19
        }
      ]
    },
    {
      "metadata": {
        "id": "FT5zSzgpvUEr",
        "colab_type": "code",
        "colab": {
          "base_uri": "https://localhost:8080/",
          "height": 35
        },
        "outputId": "8c26acaa-4a4e-44b7-9e28-815b03dbe399"
      },
      "cell_type": "code",
      "source": [
        "df['age'].max()"
      ],
      "execution_count": 20,
      "outputs": [
        {
          "output_type": "execute_result",
          "data": {
            "text/plain": [
              "95"
            ]
          },
          "metadata": {
            "tags": []
          },
          "execution_count": 20
        }
      ]
    },
    {
      "metadata": {
        "id": "5E7x6K7p-WeC",
        "colab_type": "code",
        "colab": {
          "base_uri": "https://localhost:8080/",
          "height": 206
        },
        "outputId": "be538817-45e5-46f3-afa3-aca40f92d263"
      },
      "cell_type": "code",
      "source": [
        "dur_bins = [0, 60, 120, 240, 480, 960, 1800, 3600, 100000]\n",
        "dur_labels = ['<1min', '<2mins', '<4mins', '<8 mins', '<16mins', 'half hour', 'hour', 'hour+']\n",
        "\n",
        "df['dur_bins'] = pd.cut(df['duration'], bins = dur_bins, labels = dur_labels)\n",
        "df.head()"
      ],
      "execution_count": 21,
      "outputs": [
        {
          "output_type": "execute_result",
          "data": {
            "text/html": [
              "<div>\n",
              "<style scoped>\n",
              "    .dataframe tbody tr th:only-of-type {\n",
              "        vertical-align: middle;\n",
              "    }\n",
              "\n",
              "    .dataframe tbody tr th {\n",
              "        vertical-align: top;\n",
              "    }\n",
              "\n",
              "    .dataframe thead th {\n",
              "        text-align: right;\n",
              "    }\n",
              "</style>\n",
              "<table border=\"1\" class=\"dataframe\">\n",
              "  <thead>\n",
              "    <tr style=\"text-align: right;\">\n",
              "      <th></th>\n",
              "      <th>age</th>\n",
              "      <th>job</th>\n",
              "      <th>marital</th>\n",
              "      <th>education</th>\n",
              "      <th>default</th>\n",
              "      <th>balance</th>\n",
              "      <th>housing</th>\n",
              "      <th>loan</th>\n",
              "      <th>contact</th>\n",
              "      <th>day</th>\n",
              "      <th>month</th>\n",
              "      <th>duration</th>\n",
              "      <th>campaign</th>\n",
              "      <th>pdays</th>\n",
              "      <th>previous</th>\n",
              "      <th>poutcome</th>\n",
              "      <th>y</th>\n",
              "      <th>dur_bins</th>\n",
              "    </tr>\n",
              "  </thead>\n",
              "  <tbody>\n",
              "    <tr>\n",
              "      <th>0</th>\n",
              "      <td>58</td>\n",
              "      <td>management</td>\n",
              "      <td>married</td>\n",
              "      <td>tertiary</td>\n",
              "      <td>no</td>\n",
              "      <td>2143</td>\n",
              "      <td>yes</td>\n",
              "      <td>no</td>\n",
              "      <td>unknown</td>\n",
              "      <td>5</td>\n",
              "      <td>may</td>\n",
              "      <td>261</td>\n",
              "      <td>1</td>\n",
              "      <td>-1</td>\n",
              "      <td>0</td>\n",
              "      <td>unknown</td>\n",
              "      <td>0</td>\n",
              "      <td>&lt;8 mins</td>\n",
              "    </tr>\n",
              "    <tr>\n",
              "      <th>1</th>\n",
              "      <td>44</td>\n",
              "      <td>technician</td>\n",
              "      <td>single</td>\n",
              "      <td>secondary</td>\n",
              "      <td>no</td>\n",
              "      <td>29</td>\n",
              "      <td>yes</td>\n",
              "      <td>no</td>\n",
              "      <td>unknown</td>\n",
              "      <td>5</td>\n",
              "      <td>may</td>\n",
              "      <td>151</td>\n",
              "      <td>1</td>\n",
              "      <td>-1</td>\n",
              "      <td>0</td>\n",
              "      <td>unknown</td>\n",
              "      <td>0</td>\n",
              "      <td>&lt;4mins</td>\n",
              "    </tr>\n",
              "    <tr>\n",
              "      <th>2</th>\n",
              "      <td>33</td>\n",
              "      <td>entrepreneur</td>\n",
              "      <td>married</td>\n",
              "      <td>secondary</td>\n",
              "      <td>no</td>\n",
              "      <td>2</td>\n",
              "      <td>yes</td>\n",
              "      <td>yes</td>\n",
              "      <td>unknown</td>\n",
              "      <td>5</td>\n",
              "      <td>may</td>\n",
              "      <td>76</td>\n",
              "      <td>1</td>\n",
              "      <td>-1</td>\n",
              "      <td>0</td>\n",
              "      <td>unknown</td>\n",
              "      <td>0</td>\n",
              "      <td>&lt;2mins</td>\n",
              "    </tr>\n",
              "    <tr>\n",
              "      <th>3</th>\n",
              "      <td>47</td>\n",
              "      <td>blue-collar</td>\n",
              "      <td>married</td>\n",
              "      <td>unknown</td>\n",
              "      <td>no</td>\n",
              "      <td>1506</td>\n",
              "      <td>yes</td>\n",
              "      <td>no</td>\n",
              "      <td>unknown</td>\n",
              "      <td>5</td>\n",
              "      <td>may</td>\n",
              "      <td>92</td>\n",
              "      <td>1</td>\n",
              "      <td>-1</td>\n",
              "      <td>0</td>\n",
              "      <td>unknown</td>\n",
              "      <td>0</td>\n",
              "      <td>&lt;2mins</td>\n",
              "    </tr>\n",
              "    <tr>\n",
              "      <th>4</th>\n",
              "      <td>33</td>\n",
              "      <td>unknown</td>\n",
              "      <td>single</td>\n",
              "      <td>unknown</td>\n",
              "      <td>no</td>\n",
              "      <td>1</td>\n",
              "      <td>no</td>\n",
              "      <td>no</td>\n",
              "      <td>unknown</td>\n",
              "      <td>5</td>\n",
              "      <td>may</td>\n",
              "      <td>198</td>\n",
              "      <td>1</td>\n",
              "      <td>-1</td>\n",
              "      <td>0</td>\n",
              "      <td>unknown</td>\n",
              "      <td>0</td>\n",
              "      <td>&lt;4mins</td>\n",
              "    </tr>\n",
              "  </tbody>\n",
              "</table>\n",
              "</div>"
            ],
            "text/plain": [
              "   age           job  marital  education default  balance housing loan  \\\n",
              "0   58    management  married   tertiary      no     2143     yes   no   \n",
              "1   44    technician   single  secondary      no       29     yes   no   \n",
              "2   33  entrepreneur  married  secondary      no        2     yes  yes   \n",
              "3   47   blue-collar  married    unknown      no     1506     yes   no   \n",
              "4   33       unknown   single    unknown      no        1      no   no   \n",
              "\n",
              "   contact  day month  duration  campaign  pdays  previous poutcome  y  \\\n",
              "0  unknown    5   may       261         1     -1         0  unknown  0   \n",
              "1  unknown    5   may       151         1     -1         0  unknown  0   \n",
              "2  unknown    5   may        76         1     -1         0  unknown  0   \n",
              "3  unknown    5   may        92         1     -1         0  unknown  0   \n",
              "4  unknown    5   may       198         1     -1         0  unknown  0   \n",
              "\n",
              "  dur_bins  \n",
              "0  <8 mins  \n",
              "1   <4mins  \n",
              "2   <2mins  \n",
              "3   <2mins  \n",
              "4   <4mins  "
            ]
          },
          "metadata": {
            "tags": []
          },
          "execution_count": 21
        }
      ]
    },
    {
      "metadata": {
        "id": "KVJAzNKF1Q0i",
        "colab_type": "code",
        "colab": {
          "base_uri": "https://localhost:8080/",
          "height": 244
        },
        "outputId": "a9919c33-02e0-4569-9bca-db3edabf6525"
      },
      "cell_type": "code",
      "source": [
        "age_bins = [18, 25, 35, 45, 55, 65, 100]\n",
        "age_labels = ['18-25', '25-35', '35-45', '45-55', '55-65', '65+']\n",
        "\n",
        "df['age bins'] = pd.cut(df['age'], bins =age_bins, labels = age_labels)\n",
        "df.head()"
      ],
      "execution_count": 22,
      "outputs": [
        {
          "output_type": "execute_result",
          "data": {
            "text/html": [
              "<div>\n",
              "<style scoped>\n",
              "    .dataframe tbody tr th:only-of-type {\n",
              "        vertical-align: middle;\n",
              "    }\n",
              "\n",
              "    .dataframe tbody tr th {\n",
              "        vertical-align: top;\n",
              "    }\n",
              "\n",
              "    .dataframe thead th {\n",
              "        text-align: right;\n",
              "    }\n",
              "</style>\n",
              "<table border=\"1\" class=\"dataframe\">\n",
              "  <thead>\n",
              "    <tr style=\"text-align: right;\">\n",
              "      <th></th>\n",
              "      <th>age</th>\n",
              "      <th>job</th>\n",
              "      <th>marital</th>\n",
              "      <th>education</th>\n",
              "      <th>default</th>\n",
              "      <th>balance</th>\n",
              "      <th>housing</th>\n",
              "      <th>loan</th>\n",
              "      <th>contact</th>\n",
              "      <th>day</th>\n",
              "      <th>month</th>\n",
              "      <th>duration</th>\n",
              "      <th>campaign</th>\n",
              "      <th>pdays</th>\n",
              "      <th>previous</th>\n",
              "      <th>poutcome</th>\n",
              "      <th>y</th>\n",
              "      <th>dur_bins</th>\n",
              "      <th>age bins</th>\n",
              "    </tr>\n",
              "  </thead>\n",
              "  <tbody>\n",
              "    <tr>\n",
              "      <th>0</th>\n",
              "      <td>58</td>\n",
              "      <td>management</td>\n",
              "      <td>married</td>\n",
              "      <td>tertiary</td>\n",
              "      <td>no</td>\n",
              "      <td>2143</td>\n",
              "      <td>yes</td>\n",
              "      <td>no</td>\n",
              "      <td>unknown</td>\n",
              "      <td>5</td>\n",
              "      <td>may</td>\n",
              "      <td>261</td>\n",
              "      <td>1</td>\n",
              "      <td>-1</td>\n",
              "      <td>0</td>\n",
              "      <td>unknown</td>\n",
              "      <td>0</td>\n",
              "      <td>&lt;8 mins</td>\n",
              "      <td>55-65</td>\n",
              "    </tr>\n",
              "    <tr>\n",
              "      <th>1</th>\n",
              "      <td>44</td>\n",
              "      <td>technician</td>\n",
              "      <td>single</td>\n",
              "      <td>secondary</td>\n",
              "      <td>no</td>\n",
              "      <td>29</td>\n",
              "      <td>yes</td>\n",
              "      <td>no</td>\n",
              "      <td>unknown</td>\n",
              "      <td>5</td>\n",
              "      <td>may</td>\n",
              "      <td>151</td>\n",
              "      <td>1</td>\n",
              "      <td>-1</td>\n",
              "      <td>0</td>\n",
              "      <td>unknown</td>\n",
              "      <td>0</td>\n",
              "      <td>&lt;4mins</td>\n",
              "      <td>35-45</td>\n",
              "    </tr>\n",
              "    <tr>\n",
              "      <th>2</th>\n",
              "      <td>33</td>\n",
              "      <td>entrepreneur</td>\n",
              "      <td>married</td>\n",
              "      <td>secondary</td>\n",
              "      <td>no</td>\n",
              "      <td>2</td>\n",
              "      <td>yes</td>\n",
              "      <td>yes</td>\n",
              "      <td>unknown</td>\n",
              "      <td>5</td>\n",
              "      <td>may</td>\n",
              "      <td>76</td>\n",
              "      <td>1</td>\n",
              "      <td>-1</td>\n",
              "      <td>0</td>\n",
              "      <td>unknown</td>\n",
              "      <td>0</td>\n",
              "      <td>&lt;2mins</td>\n",
              "      <td>25-35</td>\n",
              "    </tr>\n",
              "    <tr>\n",
              "      <th>3</th>\n",
              "      <td>47</td>\n",
              "      <td>blue-collar</td>\n",
              "      <td>married</td>\n",
              "      <td>unknown</td>\n",
              "      <td>no</td>\n",
              "      <td>1506</td>\n",
              "      <td>yes</td>\n",
              "      <td>no</td>\n",
              "      <td>unknown</td>\n",
              "      <td>5</td>\n",
              "      <td>may</td>\n",
              "      <td>92</td>\n",
              "      <td>1</td>\n",
              "      <td>-1</td>\n",
              "      <td>0</td>\n",
              "      <td>unknown</td>\n",
              "      <td>0</td>\n",
              "      <td>&lt;2mins</td>\n",
              "      <td>45-55</td>\n",
              "    </tr>\n",
              "    <tr>\n",
              "      <th>4</th>\n",
              "      <td>33</td>\n",
              "      <td>unknown</td>\n",
              "      <td>single</td>\n",
              "      <td>unknown</td>\n",
              "      <td>no</td>\n",
              "      <td>1</td>\n",
              "      <td>no</td>\n",
              "      <td>no</td>\n",
              "      <td>unknown</td>\n",
              "      <td>5</td>\n",
              "      <td>may</td>\n",
              "      <td>198</td>\n",
              "      <td>1</td>\n",
              "      <td>-1</td>\n",
              "      <td>0</td>\n",
              "      <td>unknown</td>\n",
              "      <td>0</td>\n",
              "      <td>&lt;4mins</td>\n",
              "      <td>25-35</td>\n",
              "    </tr>\n",
              "  </tbody>\n",
              "</table>\n",
              "</div>"
            ],
            "text/plain": [
              "   age           job  marital  education default  balance housing loan  \\\n",
              "0   58    management  married   tertiary      no     2143     yes   no   \n",
              "1   44    technician   single  secondary      no       29     yes   no   \n",
              "2   33  entrepreneur  married  secondary      no        2     yes  yes   \n",
              "3   47   blue-collar  married    unknown      no     1506     yes   no   \n",
              "4   33       unknown   single    unknown      no        1      no   no   \n",
              "\n",
              "   contact  day month  duration  campaign  pdays  previous poutcome  y  \\\n",
              "0  unknown    5   may       261         1     -1         0  unknown  0   \n",
              "1  unknown    5   may       151         1     -1         0  unknown  0   \n",
              "2  unknown    5   may        76         1     -1         0  unknown  0   \n",
              "3  unknown    5   may        92         1     -1         0  unknown  0   \n",
              "4  unknown    5   may       198         1     -1         0  unknown  0   \n",
              "\n",
              "  dur_bins age bins  \n",
              "0  <8 mins    55-65  \n",
              "1   <4mins    35-45  \n",
              "2   <2mins    25-35  \n",
              "3   <2mins    45-55  \n",
              "4   <4mins    25-35  "
            ]
          },
          "metadata": {
            "tags": []
          },
          "execution_count": 22
        }
      ]
    },
    {
      "metadata": {
        "id": "l4Ha2Aa220Ip",
        "colab_type": "code",
        "colab": {
          "base_uri": "https://localhost:8080/",
          "height": 35
        },
        "outputId": "9ba18b8c-c679-430e-9219-78353232e567"
      },
      "cell_type": "code",
      "source": [
        "df['poutcome'].unique()"
      ],
      "execution_count": 23,
      "outputs": [
        {
          "output_type": "execute_result",
          "data": {
            "text/plain": [
              "array(['unknown', 'failure', 'other', 'success'], dtype=object)"
            ]
          },
          "metadata": {
            "tags": []
          },
          "execution_count": 23
        }
      ]
    },
    {
      "metadata": {
        "id": "1EukJssL3zd6",
        "colab_type": "code",
        "colab": {}
      },
      "cell_type": "code",
      "source": [
        "X = df.drop(['duration', 'contact', 'day', 'age', 'duration', 'y'], axis = 1)"
      ],
      "execution_count": 0,
      "outputs": []
    },
    {
      "metadata": {
        "id": "PRs3d0gn6O8y",
        "colab_type": "code",
        "colab": {
          "base_uri": "https://localhost:8080/",
          "height": 368
        },
        "outputId": "e1aaecf6-cd2b-42ad-8d08-9944234e3fed"
      },
      "cell_type": "code",
      "source": [
        "three_way_split(X,y)\n",
        "pipeline.fit(X_train, y_train)\n",
        "y_pred = pipeline.predict(X_val)\n",
        "print(accuracy_score(y_val, y_pred))\n",
        "pipeline.fit(X_train, y_train)\n",
        "y_pred = pipeline.predict(X_test)\n",
        "print(accuracy_score(y_test, y_pred))"
      ],
      "execution_count": 25,
      "outputs": [
        {
          "output_type": "stream",
          "text": [
            "/usr/local/lib/python3.6/dist-packages/sklearn/preprocessing/data.py:625: DataConversionWarning: Data with input dtype int64 were all converted to float64 by StandardScaler.\n",
            "  return self.partial_fit(X, y)\n",
            "/usr/local/lib/python3.6/dist-packages/sklearn/base.py:465: DataConversionWarning: Data with input dtype int64 were all converted to float64 by StandardScaler.\n",
            "  return self.fit(X, y, **fit_params).transform(X)\n",
            "/usr/local/lib/python3.6/dist-packages/sklearn/linear_model/logistic.py:433: FutureWarning: Default solver will be changed to 'lbfgs' in 0.22. Specify a solver to silence this warning.\n",
            "  FutureWarning)\n",
            "/usr/local/lib/python3.6/dist-packages/sklearn/pipeline.py:331: DataConversionWarning: Data with input dtype int64 were all converted to float64 by StandardScaler.\n",
            "  Xt = transform.transform(Xt)\n"
          ],
          "name": "stderr"
        },
        {
          "output_type": "stream",
          "text": [
            "0.9013802052612953\n"
          ],
          "name": "stdout"
        },
        {
          "output_type": "stream",
          "text": [
            "/usr/local/lib/python3.6/dist-packages/sklearn/preprocessing/data.py:625: DataConversionWarning: Data with input dtype int64 were all converted to float64 by StandardScaler.\n",
            "  return self.partial_fit(X, y)\n",
            "/usr/local/lib/python3.6/dist-packages/sklearn/base.py:465: DataConversionWarning: Data with input dtype int64 were all converted to float64 by StandardScaler.\n",
            "  return self.fit(X, y, **fit_params).transform(X)\n",
            "/usr/local/lib/python3.6/dist-packages/sklearn/linear_model/logistic.py:433: FutureWarning: Default solver will be changed to 'lbfgs' in 0.22. Specify a solver to silence this warning.\n",
            "  FutureWarning)\n"
          ],
          "name": "stderr"
        },
        {
          "output_type": "stream",
          "text": [
            "0.9024152879766434\n"
          ],
          "name": "stdout"
        },
        {
          "output_type": "stream",
          "text": [
            "/usr/local/lib/python3.6/dist-packages/sklearn/pipeline.py:331: DataConversionWarning: Data with input dtype int64 were all converted to float64 by StandardScaler.\n",
            "  Xt = transform.transform(Xt)\n"
          ],
          "name": "stderr"
        }
      ]
    },
    {
      "metadata": {
        "id": "czCIkaN6FQ3U",
        "colab_type": "code",
        "colab": {}
      },
      "cell_type": "code",
      "source": [
        "samples = df.sample(325, random_state = 43)\n",
        "sampX = samples.drop(['y', 'age', 'duration', 'contact', 'duration'], axis = 1)\n",
        "sampy = samples['y']"
      ],
      "execution_count": 0,
      "outputs": []
    },
    {
      "metadata": {
        "id": "8QNpQpOhRqrg",
        "colab_type": "code",
        "colab": {
          "base_uri": "https://localhost:8080/",
          "height": 596
        },
        "outputId": "b3f36948-9a66-4fc9-d238-a58c391e18fe"
      },
      "cell_type": "code",
      "source": [
        "print(classification_report(y_val, y_pred))\n",
        "print('accuracy', accuracy_score(y_val, y_pred))"
      ],
      "execution_count": 27,
      "outputs": [
        {
          "output_type": "error",
          "ename": "ValueError",
          "evalue": "ignored",
          "traceback": [
            "\u001b[0;31m---------------------------------------------------------------------------\u001b[0m",
            "\u001b[0;31mValueError\u001b[0m                                Traceback (most recent call last)",
            "\u001b[0;32m<ipython-input-27-79c6bc557120>\u001b[0m in \u001b[0;36m<module>\u001b[0;34m()\u001b[0m\n\u001b[0;32m----> 1\u001b[0;31m \u001b[0mprint\u001b[0m\u001b[0;34m(\u001b[0m\u001b[0mclassification_report\u001b[0m\u001b[0;34m(\u001b[0m\u001b[0my_val\u001b[0m\u001b[0;34m,\u001b[0m \u001b[0my_pred\u001b[0m\u001b[0;34m)\u001b[0m\u001b[0;34m)\u001b[0m\u001b[0;34m\u001b[0m\u001b[0;34m\u001b[0m\u001b[0m\n\u001b[0m\u001b[1;32m      2\u001b[0m \u001b[0mprint\u001b[0m\u001b[0;34m(\u001b[0m\u001b[0;34m'accuracy'\u001b[0m\u001b[0;34m,\u001b[0m \u001b[0maccuracy_score\u001b[0m\u001b[0;34m(\u001b[0m\u001b[0my_val\u001b[0m\u001b[0;34m,\u001b[0m \u001b[0my_pred\u001b[0m\u001b[0;34m)\u001b[0m\u001b[0;34m)\u001b[0m\u001b[0;34m\u001b[0m\u001b[0;34m\u001b[0m\u001b[0m\n",
            "\u001b[0;32m/usr/local/lib/python3.6/dist-packages/sklearn/metrics/classification.py\u001b[0m in \u001b[0;36mclassification_report\u001b[0;34m(y_true, y_pred, labels, target_names, sample_weight, digits, output_dict)\u001b[0m\n\u001b[1;32m   1522\u001b[0m     \"\"\"\n\u001b[1;32m   1523\u001b[0m \u001b[0;34m\u001b[0m\u001b[0m\n\u001b[0;32m-> 1524\u001b[0;31m     \u001b[0my_type\u001b[0m\u001b[0;34m,\u001b[0m \u001b[0my_true\u001b[0m\u001b[0;34m,\u001b[0m \u001b[0my_pred\u001b[0m \u001b[0;34m=\u001b[0m \u001b[0m_check_targets\u001b[0m\u001b[0;34m(\u001b[0m\u001b[0my_true\u001b[0m\u001b[0;34m,\u001b[0m \u001b[0my_pred\u001b[0m\u001b[0;34m)\u001b[0m\u001b[0;34m\u001b[0m\u001b[0;34m\u001b[0m\u001b[0m\n\u001b[0m\u001b[1;32m   1525\u001b[0m \u001b[0;34m\u001b[0m\u001b[0m\n\u001b[1;32m   1526\u001b[0m     \u001b[0mlabels_given\u001b[0m \u001b[0;34m=\u001b[0m \u001b[0;32mTrue\u001b[0m\u001b[0;34m\u001b[0m\u001b[0;34m\u001b[0m\u001b[0m\n",
            "\u001b[0;32m/usr/local/lib/python3.6/dist-packages/sklearn/metrics/classification.py\u001b[0m in \u001b[0;36m_check_targets\u001b[0;34m(y_true, y_pred)\u001b[0m\n\u001b[1;32m     69\u001b[0m     \u001b[0my_pred\u001b[0m \u001b[0;34m:\u001b[0m \u001b[0marray\u001b[0m \u001b[0;32mor\u001b[0m \u001b[0mindicator\u001b[0m \u001b[0mmatrix\u001b[0m\u001b[0;34m\u001b[0m\u001b[0;34m\u001b[0m\u001b[0m\n\u001b[1;32m     70\u001b[0m     \"\"\"\n\u001b[0;32m---> 71\u001b[0;31m     \u001b[0mcheck_consistent_length\u001b[0m\u001b[0;34m(\u001b[0m\u001b[0my_true\u001b[0m\u001b[0;34m,\u001b[0m \u001b[0my_pred\u001b[0m\u001b[0;34m)\u001b[0m\u001b[0;34m\u001b[0m\u001b[0;34m\u001b[0m\u001b[0m\n\u001b[0m\u001b[1;32m     72\u001b[0m     \u001b[0mtype_true\u001b[0m \u001b[0;34m=\u001b[0m \u001b[0mtype_of_target\u001b[0m\u001b[0;34m(\u001b[0m\u001b[0my_true\u001b[0m\u001b[0;34m)\u001b[0m\u001b[0;34m\u001b[0m\u001b[0;34m\u001b[0m\u001b[0m\n\u001b[1;32m     73\u001b[0m     \u001b[0mtype_pred\u001b[0m \u001b[0;34m=\u001b[0m \u001b[0mtype_of_target\u001b[0m\u001b[0;34m(\u001b[0m\u001b[0my_pred\u001b[0m\u001b[0;34m)\u001b[0m\u001b[0;34m\u001b[0m\u001b[0;34m\u001b[0m\u001b[0m\n",
            "\u001b[0;32m/usr/local/lib/python3.6/dist-packages/sklearn/utils/validation.py\u001b[0m in \u001b[0;36mcheck_consistent_length\u001b[0;34m(*arrays)\u001b[0m\n\u001b[1;32m    233\u001b[0m     \u001b[0;32mif\u001b[0m \u001b[0mlen\u001b[0m\u001b[0;34m(\u001b[0m\u001b[0muniques\u001b[0m\u001b[0;34m)\u001b[0m \u001b[0;34m>\u001b[0m \u001b[0;36m1\u001b[0m\u001b[0;34m:\u001b[0m\u001b[0;34m\u001b[0m\u001b[0;34m\u001b[0m\u001b[0m\n\u001b[1;32m    234\u001b[0m         raise ValueError(\"Found input variables with inconsistent numbers of\"\n\u001b[0;32m--> 235\u001b[0;31m                          \" samples: %r\" % [int(l) for l in lengths])\n\u001b[0m\u001b[1;32m    236\u001b[0m \u001b[0;34m\u001b[0m\u001b[0m\n\u001b[1;32m    237\u001b[0m \u001b[0;34m\u001b[0m\u001b[0m\n",
            "\u001b[0;31mValueError\u001b[0m: Found input variables with inconsistent numbers of samples: [8477, 11303]"
          ]
        }
      ]
    },
    {
      "metadata": {
        "id": "vgEm8DoCSlzB",
        "colab_type": "code",
        "colab": {}
      },
      "cell_type": "code",
      "source": [
        ""
      ],
      "execution_count": 0,
      "outputs": []
    }
  ]
}