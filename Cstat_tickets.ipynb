{
 "cells": [
  {
   "cell_type": "code",
   "execution_count": 1,
   "metadata": {},
   "outputs": [],
   "source": [
    "import pandas as pd\n",
    "df = pd.read_csv('City_Citations.csv')\n"
   ]
  },
  {
   "cell_type": "code",
   "execution_count": 2,
   "metadata": {},
   "outputs": [
    {
     "data": {
      "text/html": [
       "<div>\n",
       "<style scoped>\n",
       "    .dataframe tbody tr th:only-of-type {\n",
       "        vertical-align: middle;\n",
       "    }\n",
       "\n",
       "    .dataframe tbody tr th {\n",
       "        vertical-align: top;\n",
       "    }\n",
       "\n",
       "    .dataframe thead th {\n",
       "        text-align: right;\n",
       "    }\n",
       "</style>\n",
       "<table border=\"1\" class=\"dataframe\">\n",
       "  <thead>\n",
       "    <tr style=\"text-align: right;\">\n",
       "      <th></th>\n",
       "      <th>Case_Number</th>\n",
       "      <th>Charge_Description</th>\n",
       "      <th>Violation_Date_Time</th>\n",
       "      <th>Violation_Street_Name</th>\n",
       "      <th>Balance_Due</th>\n",
       "      <th>Vehicle_Make</th>\n",
       "      <th>Vehicle_Model</th>\n",
       "    </tr>\n",
       "  </thead>\n",
       "  <tbody>\n",
       "    <tr>\n",
       "      <th>0</th>\n",
       "      <td>458006</td>\n",
       "      <td>FAILURE TO APPEAR-COURT</td>\n",
       "      <td>10/22/1998 13:30:00</td>\n",
       "      <td>2611 B TEXAS AVE. (COCS M</td>\n",
       "      <td>215.0</td>\n",
       "      <td>NaN</td>\n",
       "      <td>NaN</td>\n",
       "    </tr>\n",
       "    <tr>\n",
       "      <th>1</th>\n",
       "      <td>456862</td>\n",
       "      <td>SPEED/POSTED BY STATE</td>\n",
       "      <td>07/10/1996 18:01:00</td>\n",
       "      <td>FM 2818 AT HOLLEMAN</td>\n",
       "      <td>140.0</td>\n",
       "      <td>CHEV</td>\n",
       "      <td>SILV</td>\n",
       "    </tr>\n",
       "    <tr>\n",
       "      <th>2</th>\n",
       "      <td>457614</td>\n",
       "      <td>UNSAFE CHANGE/MARK LANE</td>\n",
       "      <td>02/13/1998 03:45:00</td>\n",
       "      <td>600 BLOCK OF UNIVERSITY D</td>\n",
       "      <td>112.0</td>\n",
       "      <td>CHEV</td>\n",
       "      <td>NOVA</td>\n",
       "    </tr>\n",
       "    <tr>\n",
       "      <th>3</th>\n",
       "      <td>457572</td>\n",
       "      <td>NO SAFETY BELT</td>\n",
       "      <td>01/09/1998 10:12:00</td>\n",
       "      <td>500 UNIVERSITY DRIVE WEST</td>\n",
       "      <td>121.0</td>\n",
       "      <td>GMC</td>\n",
       "      <td>PU</td>\n",
       "    </tr>\n",
       "    <tr>\n",
       "      <th>4</th>\n",
       "      <td>457839</td>\n",
       "      <td>ROW YIELD SIGN</td>\n",
       "      <td>08/10/1998 00:13:00</td>\n",
       "      <td>FM 2818 AND LONGMIRE</td>\n",
       "      <td>112.0</td>\n",
       "      <td>NISSAN</td>\n",
       "      <td>PULSAR</td>\n",
       "    </tr>\n",
       "  </tbody>\n",
       "</table>\n",
       "</div>"
      ],
      "text/plain": [
       "   Case_Number       Charge_Description  Violation_Date_Time  \\\n",
       "0       458006  FAILURE TO APPEAR-COURT  10/22/1998 13:30:00   \n",
       "1       456862    SPEED/POSTED BY STATE  07/10/1996 18:01:00   \n",
       "2       457614  UNSAFE CHANGE/MARK LANE  02/13/1998 03:45:00   \n",
       "3       457572           NO SAFETY BELT  01/09/1998 10:12:00   \n",
       "4       457839           ROW YIELD SIGN  08/10/1998 00:13:00   \n",
       "\n",
       "       Violation_Street_Name  Balance_Due Vehicle_Make Vehicle_Model  \n",
       "0  2611 B TEXAS AVE. (COCS M        215.0          NaN           NaN  \n",
       "1        FM 2818 AT HOLLEMAN        140.0         CHEV          SILV  \n",
       "2  600 BLOCK OF UNIVERSITY D        112.0         CHEV          NOVA  \n",
       "3  500 UNIVERSITY DRIVE WEST        121.0          GMC            PU  \n",
       "4       FM 2818 AND LONGMIRE        112.0       NISSAN        PULSAR  "
      ]
     },
     "execution_count": 2,
     "metadata": {},
     "output_type": "execute_result"
    }
   ],
   "source": [
    "df.head()"
   ]
  },
  {
   "cell_type": "code",
   "execution_count": 4,
   "metadata": {},
   "outputs": [],
   "source": [
    "#Sort by datetime\n",
    "df = df.sort_values('Violation_Date_Time')\n",
    "df['Violation_Date_Time']= pd.to_datetime(df['Violation_Date_Time'], errors='coerce')\n",
    "df = df.reset_index()"
   ]
  },
  {
   "cell_type": "code",
   "execution_count": 6,
   "metadata": {},
   "outputs": [],
   "source": [
    "#Look only at information from 2008 and beyond\n",
    "df = df.drop(['index'], axis = 1)\n",
    "df = df[df['Violation_Date_Time'] > '2008-01-01']\n",
    "df = df.reset_index()"
   ]
  },
  {
   "cell_type": "code",
   "execution_count": null,
   "metadata": {},
   "outputs": [],
   "source": [
    "#What sort of tickets are we dealing with in terms of $$\n",
    "df['Balance_Due'].value_counts()"
   ]
  },
  {
   "cell_type": "code",
   "execution_count": 26,
   "metadata": {},
   "outputs": [],
   "source": [
    "#create expensive tickets column\n",
    "df['costly'] = df['Balance_Due'] > 150"
   ]
  },
  {
   "cell_type": "code",
   "execution_count": 28,
   "metadata": {},
   "outputs": [
    {
     "data": {
      "text/plain": [
       "False    157977\n",
       "True     141845\n",
       "Name: costly, dtype: int64"
      ]
     },
     "execution_count": 28,
     "metadata": {},
     "output_type": "execute_result"
    }
   ],
   "source": []
  },
  {
   "cell_type": "code",
   "execution_count": 27,
   "metadata": {},
   "outputs": [],
   "source": [
    "df['date'] = df['Violation_Date_Time'].dt.date\n",
    "df['year'] = df['Violation_Date_Time'].dt.year\n",
    "df['day'] = df['Violation_Date_Time'].dt.dayofweek\n",
    "df['month'] = df['Violation_Date_Time'].dt.month\n",
    "df['hour'] = df['Violation_Date_Time'].dt.hour"
   ]
  },
  {
   "cell_type": "code",
   "execution_count": 40,
   "metadata": {},
   "outputs": [
    {
     "data": {
      "text/plain": [
       "<matplotlib.axes._subplots.AxesSubplot at 0x11d18aac8>"
      ]
     },
     "execution_count": 40,
     "metadata": {},
     "output_type": "execute_result"
    },
    {
     "data": {
      "image/png": "[encoded data removed]",
      "text/plain": [
       "<Figure size 432x288 with 1 Axes>"
      ]
     },
     "metadata": {
      "needs_background": "light"
     },
     "output_type": "display_data"
    }
   ],
   "source": [
    "import seaborn as sns\n",
    "expensive = df[df['costly']==True]\n",
    "sns.distplot(df['hour'])"
   ]
  },
  {
   "cell_type": "code",
   "execution_count": 38,
   "metadata": {},
   "outputs": [],
   "source": [
    "#too many at midnight - may be because time was not entered \n",
    "#will drop \n",
    "\n",
    "df = df[df['hour'] != 0]"
   ]
  },
  {
   "cell_type": "code",
   "execution_count": 39,
   "metadata": {},
   "outputs": [
    {
     "data": {
      "text/plain": [
       "<matplotlib.axes._subplots.AxesSubplot at 0x1236a2390>"
      ]
     },
     "execution_count": 39,
     "metadata": {},
     "output_type": "execute_result"
    },
    {
     "data": {
      "image/png": "[encoded data removed]",
      "text/plain": [
       "<Figure size 432x288 with 1 Axes>"
      ]
     },
     "metadata": {
      "needs_background": "light"
     },
     "output_type": "display_data"
    }
   ],
   "source": [
    "sns.distplot(df['hour'])"
   ]
  },
  {
   "cell_type": "code",
   "execution_count": 30,
   "metadata": {},
   "outputs": [
    {
     "data": {
      "text/plain": [
       "<matplotlib.axes._subplots.AxesSubplot at 0x11fc38f98>"
      ]
     },
     "execution_count": 30,
     "metadata": {},
     "output_type": "execute_result"
    },
    {
     "data": {
      "image/png": "[encoded data removed]",
      "text/plain": [
       "<Figure size 432x288 with 1 Axes>"
      ]
     },
     "metadata": {
      "needs_background": "light"
     },
     "output_type": "display_data"
    }
   ],
   "source": [
    "sns.distplot(expensive['day'])"
   ]
  },
  {
   "cell_type": "code",
   "execution_count": 31,
   "metadata": {},
   "outputs": [
    {
     "data": {
      "text/plain": [
       "<matplotlib.axes._subplots.AxesSubplot at 0x12417d198>"
      ]
     },
     "execution_count": 31,
     "metadata": {},
     "output_type": "execute_result"
    },
    {
     "data": {
      "image/png": "[encoded data removed]",
      "text/plain": [
       "<Figure size 432x288 with 1 Axes>"
      ]
     },
     "metadata": {
      "needs_background": "light"
     },
     "output_type": "display_data"
    }
   ],
   "source": [
    "sns.distplot(expensive['month'])"
   ]
  },
  {
   "cell_type": "code",
   "execution_count": 41,
   "metadata": {},
   "outputs": [],
   "source": [
    "#How much is given out in tickets by day\n",
    "by_date = df.groupby('date').sum()"
   ]
  },
  {
   "cell_type": "code",
   "execution_count": 42,
   "metadata": {},
   "outputs": [
    {
     "data": {
      "text/plain": [
       "<matplotlib.axes._subplots.AxesSubplot at 0x1246094a8>"
      ]
     },
     "execution_count": 42,
     "metadata": {},
     "output_type": "execute_result"
    },
    {
     "data": {
      "image/png": "[encoded data removed]",
      "text/plain": [
       "<Figure size 432x288 with 1 Axes>"
      ]
     },
     "metadata": {
      "needs_background": "light"
     },
     "output_type": "display_data"
    }
   ],
   "source": [
    "#How has total ticket income varried over time\n",
    "%matplotlib inline\n",
    "\n",
    "by_date.reset_index().plot(x='date', y='Balance_Due')"
   ]
  },
  {
   "cell_type": "code",
   "execution_count": 50,
   "metadata": {},
   "outputs": [],
   "source": [
    "import pandas as pd\n",
    "import numpy as np\n",
    "import matplotlib.pyplot as plt\n",
    "import seaborn as sns\n",
    "import statsmodels.api as sm\n",
    "from statsmodels.stats.outliers_influence import variance_inflation_factor\n",
    "from sklearn.model_selection import train_test_split\n",
    "from sklearn.linear_model import LinearRegression\n",
    "from sklearn.metrics import mean_squared_error, r2_score, mean_absolute_error"
   ]
  },
  {
   "cell_type": "code",
   "execution_count": 43,
   "metadata": {},
   "outputs": [],
   "source": [
    "#create training data\n",
    "train = df[:-1000]\n",
    "test = df[-1000:]\n",
    "X_train = train.drop(['costly','Balance_Due'], axis=1)\n",
    "y_train = train['costly']"
   ]
  },
  {
   "cell_type": "code",
   "execution_count": 51,
   "metadata": {},
   "outputs": [
    {
     "data": {
      "text/plain": [
       "0.4974423892132933"
      ]
     },
     "execution_count": 51,
     "metadata": {},
     "output_type": "execute_result"
    }
   ],
   "source": [
    "#create a baseline w/ mean\n",
    "y_pred = np.full(shape=y_train.shape,fill_value = y_train.mean())\n",
    "mean_absolute_error(y_train,y_pred)"
   ]
  },
  {
   "cell_type": "code",
   "execution_count": null,
   "metadata": {},
   "outputs": [],
   "source": []
  },
  {
   "cell_type": "code",
   "execution_count": null,
   "metadata": {},
   "outputs": [],
   "source": []
  },
  {
   "cell_type": "code",
   "execution_count": null,
   "metadata": {},
   "outputs": [],
   "source": []
  },
  {
   "cell_type": "code",
   "execution_count": null,
   "metadata": {},
   "outputs": [],
   "source": []
  },
  {
   "cell_type": "code",
   "execution_count": null,
   "metadata": {},
   "outputs": [],
   "source": []
  },
  {
   "cell_type": "code",
   "execution_count": null,
   "metadata": {},
   "outputs": [],
   "source": []
  },
  {
   "cell_type": "code",
   "execution_count": null,
   "metadata": {},
   "outputs": [],
   "source": []
  },
  {
   "cell_type": "code",
   "execution_count": null,
   "metadata": {},
   "outputs": [],
   "source": []
  },
  {
   "cell_type": "code",
   "execution_count": null,
   "metadata": {},
   "outputs": [],
   "source": []
  },
  {
   "cell_type": "code",
   "execution_count": null,
   "metadata": {},
   "outputs": [],
   "source": []
  },
  {
   "cell_type": "code",
   "execution_count": null,
   "metadata": {},
   "outputs": [],
   "source": []
  },
  {
   "cell_type": "code",
   "execution_count": 278,
   "metadata": {},
   "outputs": [],
   "source": [
    "fb_columns = ['team','opponent','season','date','win/lose','score']\n",
    "football = pd.read_csv('A&M Football Data - Sheet1.csv',header=None, names=fb_columns)\n",
    "football.date = pd.to_datetime(football.date, format= '%m/%d/%Y')"
   ]
  },
  {
   "cell_type": "code",
   "execution_count": 289,
   "metadata": {},
   "outputs": [],
   "source": [
    "df_10 = df[df['Violation_Date_Time'] > '2008-01-01 00:00:01']"
   ]
  },
  {
   "cell_type": "code",
   "execution_count": 291,
   "metadata": {},
   "outputs": [
    {
     "name": "stderr",
     "output_type": "stream",
     "text": [
      "/anaconda3/lib/python3.7/site-packages/ipykernel_launcher.py:2: SettingWithCopyWarning: \n",
      "A value is trying to be set on a copy of a slice from a DataFrame.\n",
      "Try using .loc[row_indexer,col_indexer] = value instead\n",
      "\n",
      "See the caveats in the documentation: http://pandas.pydata.org/pandas-docs/stable/indexing.html#indexing-view-versus-copy\n",
      "  \n"
     ]
    }
   ],
   "source": [
    "fb_date = football.date\n",
    "df_10['fb_game'] = df_10['Violation_Date_Time'].isin(fb_date)"
   ]
  },
  {
   "cell_type": "code",
   "execution_count": 317,
   "metadata": {},
   "outputs": [],
   "source": [
    "n_dummy_cols = ['day', 'month', 'hour','fb_game']\n",
    "df_10_encoded = pd.get_dummies(df_10, columns= dummy_cols, drop_first=True)"
   ]
  },
  {
   "cell_type": "code",
   "execution_count": 318,
   "metadata": {},
   "outputs": [
    {
     "data": {
      "text/html": [
       "<div>\n",
       "<style scoped>\n",
       "    .dataframe tbody tr th:only-of-type {\n",
       "        vertical-align: middle;\n",
       "    }\n",
       "\n",
       "    .dataframe tbody tr th {\n",
       "        vertical-align: top;\n",
       "    }\n",
       "\n",
       "    .dataframe thead th {\n",
       "        text-align: right;\n",
       "    }\n",
       "</style>\n",
       "<table border=\"1\" class=\"dataframe\">\n",
       "  <thead>\n",
       "    <tr style=\"text-align: right;\">\n",
       "      <th></th>\n",
       "      <th>index</th>\n",
       "      <th>Case_Number</th>\n",
       "      <th>Charge_Description</th>\n",
       "      <th>Violation_Date_Time</th>\n",
       "      <th>Violation_Street_Name</th>\n",
       "      <th>Balance_Due</th>\n",
       "      <th>Vehicle_Make</th>\n",
       "      <th>Vehicle_Model</th>\n",
       "      <th>date</th>\n",
       "      <th>year</th>\n",
       "      <th>...</th>\n",
       "      <th>hour_14</th>\n",
       "      <th>hour_15</th>\n",
       "      <th>hour_16</th>\n",
       "      <th>hour_17</th>\n",
       "      <th>hour_18</th>\n",
       "      <th>hour_19</th>\n",
       "      <th>hour_20</th>\n",
       "      <th>hour_21</th>\n",
       "      <th>hour_22</th>\n",
       "      <th>hour_23</th>\n",
       "    </tr>\n",
       "  </thead>\n",
       "  <tbody>\n",
       "    <tr>\n",
       "      <th>154037</th>\n",
       "      <td>159035</td>\n",
       "      <td>154584</td>\n",
       "      <td>DISORDERLY CONDUCT NOISE PUBLIC</td>\n",
       "      <td>2008-01-01 00:28:00</td>\n",
       "      <td>2007 Texas Ave</td>\n",
       "      <td>430.0</td>\n",
       "      <td>NaN</td>\n",
       "      <td>NaN</td>\n",
       "      <td>1</td>\n",
       "      <td>2008</td>\n",
       "      <td>...</td>\n",
       "      <td>0</td>\n",
       "      <td>0</td>\n",
       "      <td>0</td>\n",
       "      <td>0</td>\n",
       "      <td>0</td>\n",
       "      <td>0</td>\n",
       "      <td>0</td>\n",
       "      <td>0</td>\n",
       "      <td>0</td>\n",
       "      <td>0</td>\n",
       "    </tr>\n",
       "    <tr>\n",
       "      <th>154038</th>\n",
       "      <td>159036</td>\n",
       "      <td>154562</td>\n",
       "      <td>NO INSURANCE</td>\n",
       "      <td>2008-01-01 00:28:00</td>\n",
       "      <td>700 UNIVERSITY DR E</td>\n",
       "      <td>419.0</td>\n",
       "      <td>MITS</td>\n",
       "      <td>MIRAGE</td>\n",
       "      <td>1</td>\n",
       "      <td>2008</td>\n",
       "      <td>...</td>\n",
       "      <td>0</td>\n",
       "      <td>0</td>\n",
       "      <td>0</td>\n",
       "      <td>0</td>\n",
       "      <td>0</td>\n",
       "      <td>0</td>\n",
       "      <td>0</td>\n",
       "      <td>0</td>\n",
       "      <td>0</td>\n",
       "      <td>0</td>\n",
       "    </tr>\n",
       "    <tr>\n",
       "      <th>154039</th>\n",
       "      <td>159037</td>\n",
       "      <td>154583</td>\n",
       "      <td>MINOR DRIVING UNDER THE INFLUENCE OF ALCOHOL 1...</td>\n",
       "      <td>2008-01-01 00:55:00</td>\n",
       "      <td>300 Church Avenue</td>\n",
       "      <td>500.0</td>\n",
       "      <td>NI</td>\n",
       "      <td>XT</td>\n",
       "      <td>1</td>\n",
       "      <td>2008</td>\n",
       "      <td>...</td>\n",
       "      <td>0</td>\n",
       "      <td>0</td>\n",
       "      <td>0</td>\n",
       "      <td>0</td>\n",
       "      <td>0</td>\n",
       "      <td>0</td>\n",
       "      <td>0</td>\n",
       "      <td>0</td>\n",
       "      <td>0</td>\n",
       "      <td>0</td>\n",
       "    </tr>\n",
       "    <tr>\n",
       "      <th>154040</th>\n",
       "      <td>159038</td>\n",
       "      <td>154563</td>\n",
       "      <td>NO INSURANCE</td>\n",
       "      <td>2008-01-01 00:58:00</td>\n",
       "      <td>1200 UNIVERSITY DR E</td>\n",
       "      <td>0.0</td>\n",
       "      <td>MERC</td>\n",
       "      <td>GRNDMA</td>\n",
       "      <td>1</td>\n",
       "      <td>2008</td>\n",
       "      <td>...</td>\n",
       "      <td>0</td>\n",
       "      <td>0</td>\n",
       "      <td>0</td>\n",
       "      <td>0</td>\n",
       "      <td>0</td>\n",
       "      <td>0</td>\n",
       "      <td>0</td>\n",
       "      <td>0</td>\n",
       "      <td>0</td>\n",
       "      <td>0</td>\n",
       "    </tr>\n",
       "    <tr>\n",
       "      <th>154041</th>\n",
       "      <td>159039</td>\n",
       "      <td>154586</td>\n",
       "      <td>PUBLIC INTOXICATION 1ST OFFENSE</td>\n",
       "      <td>2008-01-01 02:36:00</td>\n",
       "      <td>301 Texas</td>\n",
       "      <td>581.5</td>\n",
       "      <td>NaN</td>\n",
       "      <td>NaN</td>\n",
       "      <td>1</td>\n",
       "      <td>2008</td>\n",
       "      <td>...</td>\n",
       "      <td>0</td>\n",
       "      <td>0</td>\n",
       "      <td>0</td>\n",
       "      <td>0</td>\n",
       "      <td>0</td>\n",
       "      <td>0</td>\n",
       "      <td>0</td>\n",
       "      <td>0</td>\n",
       "      <td>0</td>\n",
       "      <td>0</td>\n",
       "    </tr>\n",
       "  </tbody>\n",
       "</table>\n",
       "<p>5 rows × 52 columns</p>\n",
       "</div>"
      ],
      "text/plain": [
       "         index  Case_Number  \\\n",
       "154037  159035       154584   \n",
       "154038  159036       154562   \n",
       "154039  159037       154583   \n",
       "154040  159038       154563   \n",
       "154041  159039       154586   \n",
       "\n",
       "                                       Charge_Description Violation_Date_Time  \\\n",
       "154037                    DISORDERLY CONDUCT NOISE PUBLIC 2008-01-01 00:28:00   \n",
       "154038                                       NO INSURANCE 2008-01-01 00:28:00   \n",
       "154039  MINOR DRIVING UNDER THE INFLUENCE OF ALCOHOL 1... 2008-01-01 00:55:00   \n",
       "154040                                       NO INSURANCE 2008-01-01 00:58:00   \n",
       "154041                    PUBLIC INTOXICATION 1ST OFFENSE 2008-01-01 02:36:00   \n",
       "\n",
       "       Violation_Street_Name  Balance_Due Vehicle_Make Vehicle_Model date  \\\n",
       "154037        2007 Texas Ave        430.0          NaN           NaN    1   \n",
       "154038   700 UNIVERSITY DR E        419.0         MITS        MIRAGE    1   \n",
       "154039     300 Church Avenue        500.0           NI            XT    1   \n",
       "154040  1200 UNIVERSITY DR E          0.0         MERC        GRNDMA    1   \n",
       "154041             301 Texas        581.5          NaN           NaN    1   \n",
       "\n",
       "        year   ...     hour_14  hour_15  hour_16  hour_17  hour_18  hour_19  \\\n",
       "154037  2008   ...           0        0        0        0        0        0   \n",
       "154038  2008   ...           0        0        0        0        0        0   \n",
       "154039  2008   ...           0        0        0        0        0        0   \n",
       "154040  2008   ...           0        0        0        0        0        0   \n",
       "154041  2008   ...           0        0        0        0        0        0   \n",
       "\n",
       "        hour_20  hour_21  hour_22  hour_23  \n",
       "154037        0        0        0        0  \n",
       "154038        0        0        0        0  \n",
       "154039        0        0        0        0  \n",
       "154040        0        0        0        0  \n",
       "154041        0        0        0        0  \n",
       "\n",
       "[5 rows x 52 columns]"
      ]
     },
     "execution_count": 318,
     "metadata": {},
     "output_type": "execute_result"
    }
   ],
   "source": [
    "df_10_encoded.head()"
   ]
  },
  {
   "cell_type": "code",
   "execution_count": 319,
   "metadata": {},
   "outputs": [],
   "source": [
    "df_10_encoded = df_10_encoded.drop(['Case_Number','index','Charge_Description','Violation_Street_Name','Vehicle_Make','Vehicle_Model'], axis = 1)"
   ]
  },
  {
   "cell_type": "code",
   "execution_count": 331,
   "metadata": {},
   "outputs": [],
   "source": [
    "X_col = [\n",
    " 'fb_game',\n",
    " 'day_1',\n",
    " 'day_2',\n",
    " 'day_3',\n",
    " 'day_4',\n",
    " 'day_5',\n",
    " 'day_6',\n",
    " 'month_2',\n",
    " 'month_3',\n",
    " 'month_4',\n",
    " 'month_5',\n",
    " 'month_6',\n",
    " 'month_7',\n",
    " 'month_8',\n",
    " 'month_9',\n",
    " 'month_10',\n",
    " 'month_11',\n",
    " 'month_12',\n",
    " 'hour_1',\n",
    " 'hour_2',\n",
    " 'hour_3',\n",
    " 'hour_4',\n",
    " 'hour_5',\n",
    " 'hour_6',\n",
    " 'hour_7',\n",
    " 'hour_8',\n",
    " 'hour_9',\n",
    " 'hour_10',\n",
    " 'hour_11',\n",
    " 'hour_12',\n",
    " 'hour_13',\n",
    " 'hour_14',\n",
    " 'hour_15',\n",
    " 'hour_16',\n",
    " 'hour_17',\n",
    " 'hour_18',\n",
    " 'hour_19',\n",
    " 'hour_20',\n",
    " 'hour_21',\n",
    " 'hour_22',\n",
    " 'hour_23']"
   ]
  },
  {
   "cell_type": "code",
   "execution_count": 332,
   "metadata": {},
   "outputs": [],
   "source": [
    "X = df_10_encoded[X_col]\n",
    "y = df_10_encoded.loc[:,'Balance_Due']\n",
    "X_train, X_test, Y_train, Y_test = train_test_split(X.values, y.values, test_size=.5, random_state=13)"
   ]
  },
  {
   "cell_type": "code",
   "execution_count": 333,
   "metadata": {},
   "outputs": [
    {
     "data": {
      "text/plain": [
       "LinearRegression(copy_X=True, fit_intercept=True, n_jobs=None,\n",
       "         normalize=False)"
      ]
     },
     "execution_count": 333,
     "metadata": {},
     "output_type": "execute_result"
    }
   ],
   "source": [
    "model = LinearRegression()\n",
    "model.fit(X_train, Y_train)"
   ]
  },
  {
   "cell_type": "code",
   "execution_count": 336,
   "metadata": {},
   "outputs": [
    {
     "name": "stdout",
     "output_type": "stream",
     "text": [
      "RMSE is 163.1219819722266\n",
      "R^2 is 0.07550766020311128\n"
     ]
    }
   ],
   "source": [
    "y_pred = model.predict(X_test)\n",
    "RMSE = (np.sqrt(mean_squared_error(Y_test, y_pred)))\n",
    "R2 = r2_score(Y_test, y_pred)\n",
    "\n",
    "print('RMSE is {}'.format(RMSE))\n",
    "print('R^2 is {}'.format(R2))"
   ]
  },
  {
   "cell_type": "code",
   "execution_count": 337,
   "metadata": {},
   "outputs": [
    {
     "name": "stdout",
     "output_type": "stream",
     "text": [
      "Coefficients:\n",
      "\n",
      "fb_game :  57.68935224663786\n",
      "day_1 :  -0.724310589525245\n",
      "day_2 :  -4.747414121034369\n",
      "day_3 :  -2.90454692035865\n",
      "day_4 :  3.442300284863011\n",
      "day_5 :  -11.853868431194972\n",
      "day_6 :  0.33336955042555705\n",
      "month_2 :  -4.020871202043667\n",
      "month_3 :  -8.413518405292505\n",
      "month_4 :  -6.9113450029631815\n",
      "month_5 :  -11.013378518205792\n",
      "month_6 :  -11.43287523529587\n",
      "month_7 :  -17.6004320086172\n",
      "month_8 :  -13.316166835089827\n",
      "month_9 :  -6.415979838176625\n",
      "month_10 :  -9.215425102283824\n",
      "month_11 :  -10.233674619849522\n",
      "month_12 :  -7.512670075593037\n",
      "hour_1 :  96.7544106544221\n",
      "hour_2 :  174.83851464152505\n",
      "hour_3 :  156.30224042945602\n",
      "hour_4 :  143.77965052798046\n",
      "hour_5 :  80.30460882561947\n",
      "hour_6 :  33.9972608787164\n",
      "hour_7 :  6.354528693871059\n",
      "hour_8 :  -27.959271706854103\n",
      "hour_9 :  -39.85223598558994\n",
      "hour_10 :  -42.81011647253494\n",
      "hour_11 :  -34.95764514498622\n",
      "hour_12 :  -28.966338413813986\n",
      "hour_13 :  -37.816959924828055\n",
      "hour_14 :  -53.800773942514034\n",
      "hour_15 :  -29.454759360203422\n",
      "hour_16 :  -29.467368718053063\n",
      "hour_17 :  0.6432696182152946\n",
      "hour_18 :  -30.709124586203316\n",
      "hour_19 :  -64.8523659772226\n",
      "hour_20 :  -76.77159609032059\n",
      "hour_21 :  -72.95699325149502\n",
      "hour_22 :  -72.36445461059903\n",
      "hour_23 :  -46.58065797344578\n"
     ]
    },
    {
     "ename": "IndexError",
     "evalue": "list index out of range",
     "output_type": "error",
     "traceback": [
      "\u001b[0;31m---------------------------------------------------------------------------\u001b[0m",
      "\u001b[0;31mIndexError\u001b[0m                                Traceback (most recent call last)",
      "\u001b[0;32m<ipython-input-337-688eb1642025>\u001b[0m in \u001b[0;36m<module>\u001b[0;34m\u001b[0m\n\u001b[1;32m      1\u001b[0m \u001b[0mprint\u001b[0m\u001b[0;34m(\u001b[0m\u001b[0;34m'Coefficients:\\n'\u001b[0m\u001b[0;34m)\u001b[0m\u001b[0;34m\u001b[0m\u001b[0;34m\u001b[0m\u001b[0m\n\u001b[1;32m      2\u001b[0m \u001b[0;32mfor\u001b[0m \u001b[0mi\u001b[0m \u001b[0;32min\u001b[0m \u001b[0mrange\u001b[0m\u001b[0;34m(\u001b[0m\u001b[0mlen\u001b[0m\u001b[0;34m(\u001b[0m\u001b[0mX\u001b[0m\u001b[0;34m)\u001b[0m\u001b[0;34m)\u001b[0m\u001b[0;34m:\u001b[0m\u001b[0;34m\u001b[0m\u001b[0;34m\u001b[0m\u001b[0m\n\u001b[0;32m----> 3\u001b[0;31m     \u001b[0mprint\u001b[0m\u001b[0;34m(\u001b[0m\u001b[0mlist\u001b[0m\u001b[0;34m(\u001b[0m\u001b[0mX\u001b[0m\u001b[0;34m)\u001b[0m\u001b[0;34m[\u001b[0m\u001b[0mi\u001b[0m\u001b[0;34m]\u001b[0m\u001b[0;34m,\u001b[0m \u001b[0;34m': '\u001b[0m\u001b[0;34m,\u001b[0m \u001b[0mmodel\u001b[0m\u001b[0;34m.\u001b[0m\u001b[0mcoef_\u001b[0m\u001b[0;34m[\u001b[0m\u001b[0mi\u001b[0m\u001b[0;34m]\u001b[0m\u001b[0;34m)\u001b[0m\u001b[0;34m\u001b[0m\u001b[0;34m\u001b[0m\u001b[0m\n\u001b[0m",
      "\u001b[0;31mIndexError\u001b[0m: list index out of range"
     ]
    }
   ],
   "source": [
    "print('Coefficients:\\n')\n",
    "for i in range(len(X)):\n",
    "    print(list(X)[i], ': ', model.coef_[i])"
   ]
  },
  {
   "cell_type": "code",
   "execution_count": 350,
   "metadata": {},
   "outputs": [],
   "source": [
    "llist = df_10['Charge_Description'].value_counts()"
   ]
  },
  {
   "cell_type": "code",
   "execution_count": 351,
   "metadata": {},
   "outputs": [
    {
     "data": {
      "text/plain": [
       "pandas.core.series.Series"
      ]
     },
     "execution_count": 351,
     "metadata": {},
     "output_type": "execute_result"
    }
   ],
   "source": [
    "type(llist)"
   ]
  },
  {
   "cell_type": "code",
   "execution_count": 346,
   "metadata": {},
   "outputs": [],
   "source": []
  },
  {
   "cell_type": "code",
   "execution_count": 355,
   "metadata": {},
   "outputs": [],
   "source": [
    "nlist = llist.where(llist != np.NaN)"
   ]
  },
  {
   "cell_type": "code",
   "execution_count": 356,
   "metadata": {},
   "outputs": [
    {
     "data": {
      "text/plain": [
       "SPEED 1-15 MPH OVER POSTED LIMIT                        44321.0\n",
       "EXPIRED METER NG                                        22667.0\n",
       "FAILURE TO APPEAR - CITATION                            13647.0\n",
       "PARK - EXPIRED METER NORTHGATE                          11824.0\n",
       "NO INSURANCE 1ST OFFENSE                                10138.0\n",
       "SPEEDING 1-15 MPH OVER POSTED LIMIT                      8615.0\n",
       "SPEED 16-24 MPH OVER POSTED LIMIT                        6802.0\n",
       "SPEED SCHOOL ZONE 1-15 MPH OVER POSTED LIMIT             6160.0\n",
       "PARK - EXPIRED METER Northgate                           5702.0\n",
       "MINOR IN POSSESSION OF ALCOHOL 1ST OFFENSE               5686.0\n",
       "PARKED FACING TRAFFIC                                    4510.0\n",
       "LICENSE PLATE - EXPIRED REGISTRATION                     4448.0\n",
       "PARK STOP STAND IN PROHIBITED AREA                       4335.0\n",
       "PARK EXPIRED METER Northgate                             3803.0\n",
       "RAN RED LIGHT                                            3634.0\n",
       "INSPECTION STICKER - EXPIRED                             3609.0\n",
       "RAN STOP SIGN                                            3443.0\n",
       "PARKED - EXPIRED METER NG                                3405.0\n",
       "DISREGARD RED LIGHT                                      3270.0\n",
       "PARK FACING TRAFFIC                                      3267.0\n",
       "PARK STOP STAND IN PROHIBITED AREA Northgate             3101.0\n",
       "DL - NO DRIVER LICENSE                                   2989.0\n",
       "NO INSURANCE                                             2982.0\n",
       "PUBLIC INTOXICATION 1ST OFFENSE                          2874.0\n",
       "DISREGARD STOP SIGN                                      2857.0\n",
       "DL - DRIVING WHILE LICENSE INVALID                       2586.0\n",
       "SPEED SCHOOL ZONE 1-15 MPH OVER POSTED L                 2580.0\n",
       "DISORDERLY CONDUCT NOISE RESIDENCE                       2498.0\n",
       "SPEEDING IN SCHOOL ZONE 1-15 MPH OVER PO                 2435.0\n",
       "LP - EXPIRED REGISTRATION                                2032.0\n",
       "                                                         ...   \n",
       "INVALID PARKING PERMIT NG                                   NaN\n",
       "DL - RESTRICTION-A   WITHOUT GLASSES                        NaN\n",
       "-NO U TURNDISOBEY TRAFFIC CONTROL DEVICE                    NaN\n",
       "OPERATE VEHICLE W/INSUFFICIENT UNDERCARR                    NaN\n",
       "LP - EXPIRED                                                NaN\n",
       "LICENSE PLATE - DISPLAY PLATE NOT ISSUED BY TX DMV          NaN\n",
       "CITY ORD-UNSECURED ANIMAL IN TRUCKBED OR TRAILER            NaN\n",
       "FAIL TO YIELD RIGHT OF WAY LEFTURN INTER                    NaN\n",
       "DRIVE ON WRONG SIDE OF ROAD WHERE ROAD H                    NaN\n",
       "NG/PARK BLOCKING                                            NaN\n",
       "DL OR ID CARD FICTITIOUS                                    NaN\n",
       "NO HEADLIGHTS WHEN REQUIRED                                 NaN\n",
       "CITY ORD  ANIMAL - UNSECURED IN TRUCKBED OR TRAILER         NaN\n",
       "CRIMINAL ATTEMPT THEFT BY CHECK                             NaN\n",
       "DISOBEY TRAFFIC CONTROL DEVICE-RIG T TUR                    NaN\n",
       "DEFECTIVE EQUIPMENT - EXCESSIVE EXHAUST                     NaN\n",
       "CITY ORD BUILDING WITHOUT PERMIT                            NaN\n",
       "PARK\\STOP\\STAND IN PROHIBITED AREA-NO PA                    NaN\n",
       "DISOBEY TRAFFIC CONTROL DEVICE-BARRIERS-                    NaN\n",
       "CITY ORD PROPERTY MAINTENANCE - DOOR ON STORAGE SHED        NaN\n",
       "LOAD HEIGHT - OVER MAXIMUM                                  NaN\n",
       "LP - DEALER TAGS UNAUTHORIZED USE                           NaN\n",
       "IMPROPER LEFT TURN-TURNED FROM STRAIGHT                     NaN\n",
       "PARK STOP STAND IN INTERSECTION Northgat                    NaN\n",
       "PASS SCHOOL BUS WHILE LOADING/LOADING                       NaN\n",
       "DISOBEY TRAFFIC CONTROL DEVICE  STRAIGHT                    NaN\n",
       "CITY ORD EXPIRED COCS LIQUOR LICENSE - UDO VIOLATION        NaN\n",
       "UNLAWFUL USE OF CRIMINAL INSTRUMENT                         NaN\n",
       "SPEE IN SCHOOL ZONE 1-15 MPH OVER POSTED LIMIT              NaN\n",
       "CITY ORD FIRE HYDRANT - UNAUTHORIZED USE                    NaN\n",
       "Name: Charge_Description, Length: 1292, dtype: float64"
      ]
     },
     "execution_count": 356,
     "metadata": {},
     "output_type": "execute_result"
    }
   ],
   "source": [
    "nlist.where(nlist > 500)"
   ]
  },
  {
   "cell_type": "code",
   "execution_count": null,
   "metadata": {},
   "outputs": [],
   "source": [
    "#SPEED 1-15 MPH OVER POSTED LIMIT"
   ]
  },
  {
   "cell_type": "code",
   "execution_count": 357,
   "metadata": {},
   "outputs": [],
   "source": []
  },
  {
   "cell_type": "code",
   "execution_count": 370,
   "metadata": {},
   "outputs": [
    {
     "name": "stderr",
     "output_type": "stream",
     "text": [
      "/anaconda3/lib/python3.7/site-packages/ipykernel_launcher.py:1: SettingWithCopyWarning: \n",
      "A value is trying to be set on a copy of a slice from a DataFrame.\n",
      "Try using .loc[row_indexer,col_indexer] = value instead\n",
      "\n",
      "See the caveats in the documentation: http://pandas.pydata.org/pandas-docs/stable/indexing.html#indexing-view-versus-copy\n",
      "  \"\"\"Entry point for launching an IPython kernel.\n"
     ]
    }
   ],
   "source": []
  },
  {
   "cell_type": "code",
   "execution_count": 372,
   "metadata": {},
   "outputs": [
    {
     "data": {
      "text/html": [
       "<div>\n",
       "<style scoped>\n",
       "    .dataframe tbody tr th:only-of-type {\n",
       "        vertical-align: middle;\n",
       "    }\n",
       "\n",
       "    .dataframe tbody tr th {\n",
       "        vertical-align: top;\n",
       "    }\n",
       "\n",
       "    .dataframe thead th {\n",
       "        text-align: right;\n",
       "    }\n",
       "</style>\n",
       "<table border=\"1\" class=\"dataframe\">\n",
       "  <thead>\n",
       "    <tr style=\"text-align: right;\">\n",
       "      <th></th>\n",
       "      <th>index</th>\n",
       "      <th>Case_Number</th>\n",
       "      <th>Charge_Description</th>\n",
       "      <th>Violation_Date_Time</th>\n",
       "      <th>Violation_Street_Name</th>\n",
       "      <th>Balance_Due</th>\n",
       "      <th>Vehicle_Make</th>\n",
       "      <th>Vehicle_Model</th>\n",
       "      <th>date</th>\n",
       "      <th>year</th>\n",
       "      <th>day</th>\n",
       "      <th>month</th>\n",
       "      <th>hour</th>\n",
       "      <th>is_weekend</th>\n",
       "      <th>fb_game</th>\n",
       "      <th>warning</th>\n",
       "    </tr>\n",
       "  </thead>\n",
       "  <tbody>\n",
       "    <tr>\n",
       "      <th>154071</th>\n",
       "      <td>159069</td>\n",
       "      <td>154618</td>\n",
       "      <td>SPEED 1-15 MPH OVER POSTED LIMIT</td>\n",
       "      <td>2008-01-02 09:47:00</td>\n",
       "      <td>1400 UNIVERSITY DR</td>\n",
       "      <td>302.0</td>\n",
       "      <td>BMW</td>\n",
       "      <td>328</td>\n",
       "      <td>1</td>\n",
       "      <td>2008</td>\n",
       "      <td>2</td>\n",
       "      <td>1</td>\n",
       "      <td>9</td>\n",
       "      <td>False</td>\n",
       "      <td>False</td>\n",
       "      <td>False</td>\n",
       "    </tr>\n",
       "    <tr>\n",
       "      <th>154090</th>\n",
       "      <td>159088</td>\n",
       "      <td>154598</td>\n",
       "      <td>SPEED 1-15 MPH OVER POSTED LIMIT</td>\n",
       "      <td>2008-01-02 12:58:00</td>\n",
       "      <td>1100 ROCK PRAIRIE RD</td>\n",
       "      <td>302.0</td>\n",
       "      <td>FORD</td>\n",
       "      <td>EXPEDI</td>\n",
       "      <td>1</td>\n",
       "      <td>2008</td>\n",
       "      <td>2</td>\n",
       "      <td>1</td>\n",
       "      <td>12</td>\n",
       "      <td>False</td>\n",
       "      <td>False</td>\n",
       "      <td>False</td>\n",
       "    </tr>\n",
       "    <tr>\n",
       "      <th>154139</th>\n",
       "      <td>159137</td>\n",
       "      <td>154663</td>\n",
       "      <td>SPEED 1-15 MPH OVER POSTED LIMIT</td>\n",
       "      <td>2008-01-03 11:50:00</td>\n",
       "      <td>1600 HARVEY MITCHELL PKWY S</td>\n",
       "      <td>302.0</td>\n",
       "      <td>DODG</td>\n",
       "      <td>RAM 35</td>\n",
       "      <td>1</td>\n",
       "      <td>2008</td>\n",
       "      <td>3</td>\n",
       "      <td>1</td>\n",
       "      <td>11</td>\n",
       "      <td>False</td>\n",
       "      <td>False</td>\n",
       "      <td>False</td>\n",
       "    </tr>\n",
       "    <tr>\n",
       "      <th>154171</th>\n",
       "      <td>159169</td>\n",
       "      <td>154656</td>\n",
       "      <td>SPEED 1-15 MPH OVER POSTED LIMIT</td>\n",
       "      <td>2008-01-03 17:22:00</td>\n",
       "      <td>2200 SH 6 S</td>\n",
       "      <td>302.0</td>\n",
       "      <td>MAZD</td>\n",
       "      <td>RX-8</td>\n",
       "      <td>1</td>\n",
       "      <td>2008</td>\n",
       "      <td>3</td>\n",
       "      <td>1</td>\n",
       "      <td>17</td>\n",
       "      <td>False</td>\n",
       "      <td>False</td>\n",
       "      <td>False</td>\n",
       "    </tr>\n",
       "    <tr>\n",
       "      <th>154202</th>\n",
       "      <td>159200</td>\n",
       "      <td>154732</td>\n",
       "      <td>SPEED 1-15 MPH OVER POSTED LIMIT</td>\n",
       "      <td>2008-01-04 09:59:00</td>\n",
       "      <td>1000 TEXAS AVE</td>\n",
       "      <td>302.0</td>\n",
       "      <td>KIA</td>\n",
       "      <td>SPECTR</td>\n",
       "      <td>1</td>\n",
       "      <td>2008</td>\n",
       "      <td>4</td>\n",
       "      <td>1</td>\n",
       "      <td>9</td>\n",
       "      <td>False</td>\n",
       "      <td>False</td>\n",
       "      <td>False</td>\n",
       "    </tr>\n",
       "  </tbody>\n",
       "</table>\n",
       "</div>"
      ],
      "text/plain": [
       "         index  Case_Number                Charge_Description  \\\n",
       "154071  159069       154618  SPEED 1-15 MPH OVER POSTED LIMIT   \n",
       "154090  159088       154598  SPEED 1-15 MPH OVER POSTED LIMIT   \n",
       "154139  159137       154663  SPEED 1-15 MPH OVER POSTED LIMIT   \n",
       "154171  159169       154656  SPEED 1-15 MPH OVER POSTED LIMIT   \n",
       "154202  159200       154732  SPEED 1-15 MPH OVER POSTED LIMIT   \n",
       "\n",
       "       Violation_Date_Time        Violation_Street_Name  Balance_Due  \\\n",
       "154071 2008-01-02 09:47:00           1400 UNIVERSITY DR        302.0   \n",
       "154090 2008-01-02 12:58:00         1100 ROCK PRAIRIE RD        302.0   \n",
       "154139 2008-01-03 11:50:00  1600 HARVEY MITCHELL PKWY S        302.0   \n",
       "154171 2008-01-03 17:22:00                  2200 SH 6 S        302.0   \n",
       "154202 2008-01-04 09:59:00               1000 TEXAS AVE        302.0   \n",
       "\n",
       "       Vehicle_Make Vehicle_Model date  year  day  month  hour  is_weekend  \\\n",
       "154071          BMW           328    1  2008    2      1     9       False   \n",
       "154090         FORD        EXPEDI    1  2008    2      1    12       False   \n",
       "154139         DODG        RAM 35    1  2008    3      1    11       False   \n",
       "154171         MAZD          RX-8    1  2008    3      1    17       False   \n",
       "154202          KIA        SPECTR    1  2008    4      1     9       False   \n",
       "\n",
       "        fb_game  warning  \n",
       "154071    False    False  \n",
       "154090    False    False  \n",
       "154139    False    False  \n",
       "154171    False    False  \n",
       "154202    False    False  "
      ]
     },
     "execution_count": 372,
     "metadata": {},
     "output_type": "execute_result"
    }
   ],
   "source": [
    "tickets.head()"
   ]
  },
  {
   "cell_type": "code",
   "execution_count": 363,
   "metadata": {},
   "outputs": [],
   "source": [
    "n_dummy_cols = ['day', 'month', 'hour','fb_game']\n",
    "tickets_encoded = pd.get_dummies(tickets, columns= dummy_cols, drop_first=True)\n",
    "tickets_encoded = tickets_encoded.drop(['Case_Number','index','Charge_Description','Violation_Street_Name','Vehicle_Make','Vehicle_Model'], axis = 1)"
   ]
  },
  {
   "cell_type": "code",
   "execution_count": 364,
   "metadata": {},
   "outputs": [],
   "source": [
    "X = tickets_encoded[X_col]\n",
    "y = tickets_encoded.loc[:,'Balance_Due']\n",
    "X_train, X_test, Y_train, Y_test = train_test_split(X.values, y.values, test_size=.5, random_state=13)"
   ]
  },
  {
   "cell_type": "code",
   "execution_count": 365,
   "metadata": {},
   "outputs": [
    {
     "data": {
      "text/plain": [
       "LinearRegression(copy_X=True, fit_intercept=True, n_jobs=None,\n",
       "         normalize=False)"
      ]
     },
     "execution_count": 365,
     "metadata": {},
     "output_type": "execute_result"
    }
   ],
   "source": [
    "model = LinearRegression()\n",
    "model.fit(X_train, Y_train)"
   ]
  },
  {
   "cell_type": "code",
   "execution_count": 366,
   "metadata": {},
   "outputs": [
    {
     "name": "stdout",
     "output_type": "stream",
     "text": [
      "RMSE is 91.220783607195\n",
      "R^2 is -0.0004048035633623659\n"
     ]
    }
   ],
   "source": [
    "y_pred = model.predict(X_test)\n",
    "RMSE = (np.sqrt(mean_squared_error(Y_test, y_pred)))\n",
    "R2 = r2_score(Y_test, y_pred)\n",
    "\n",
    "print('RMSE is {}'.format(RMSE))\n",
    "print('R^2 is {}'.format(R2))"
   ]
  },
  {
   "cell_type": "code",
   "execution_count": null,
   "metadata": {},
   "outputs": [],
   "source": [
    "tickets['Balance_Due'].value_counts()"
   ]
  },
  {
   "cell_type": "code",
   "execution_count": 373,
   "metadata": {},
   "outputs": [
    {
     "name": "stderr",
     "output_type": "stream",
     "text": [
      "/anaconda3/lib/python3.7/site-packages/ipykernel_launcher.py:1: SettingWithCopyWarning: \n",
      "A value is trying to be set on a copy of a slice from a DataFrame.\n",
      "Try using .loc[row_indexer,col_indexer] = value instead\n",
      "\n",
      "See the caveats in the documentation: http://pandas.pydata.org/pandas-docs/stable/indexing.html#indexing-view-versus-copy\n",
      "  \"\"\"Entry point for launching an IPython kernel.\n"
     ]
    }
   ],
   "source": [
    "tickets['warning'] = tickets['Balance_Due'].isin([0])"
   ]
  },
  {
   "cell_type": "code",
   "execution_count": 374,
   "metadata": {},
   "outputs": [],
   "source": [
    "n_dummy_cols = ['day', 'month', 'hour','fb_game']\n",
    "tickets_encoded = pd.get_dummies(tickets, columns= dummy_cols, drop_first=True)\n",
    "tickets_encoded = tickets_encoded.drop(['Case_Number','index','Charge_Description','Violation_Street_Name','Vehicle_Make','Vehicle_Model'], axis = 1)"
   ]
  },
  {
   "cell_type": "code",
   "execution_count": 378,
   "metadata": {},
   "outputs": [],
   "source": [
    "X = tickets_encoded[X_col]\n",
    "y = tickets_encoded.loc[:,'warning']\n",
    "X_train, X_test, y_train, y_test = train_test_split(X.values, y.values, test_size=.5, random_state=13)"
   ]
  },
  {
   "cell_type": "code",
   "execution_count": 397,
   "metadata": {},
   "outputs": [
    {
     "name": "stderr",
     "output_type": "stream",
     "text": [
      "/anaconda3/lib/python3.7/site-packages/sklearn/linear_model/logistic.py:433: FutureWarning: Default solver will be changed to 'lbfgs' in 0.22. Specify a solver to silence this warning.\n",
      "  FutureWarning)\n"
     ]
    }
   ],
   "source": [
    "from sklearn.linear_model import LogisticRegression\n",
    "\n",
    "model = LogisticRegression(class_weight ='balanced')\n",
    "model.fit(X_train, y_train)\n",
    "\n",
    "y_pred = model.predict(X_test)"
   ]
  },
  {
   "cell_type": "code",
   "execution_count": 386,
   "metadata": {},
   "outputs": [],
   "source": [
    "warn = len(tickets[tickets['warning'] == True])"
   ]
  },
  {
   "cell_type": "code",
   "execution_count": 385,
   "metadata": {},
   "outputs": [],
   "source": [
    "tick = len(tickets[tickets['warning'] == False])"
   ]
  },
  {
   "cell_type": "code",
   "execution_count": 388,
   "metadata": {},
   "outputs": [
    {
     "data": {
      "text/plain": [
       "0.9948782744071659"
      ]
     },
     "execution_count": 388,
     "metadata": {},
     "output_type": "execute_result"
    }
   ],
   "source": [
    "1 - warn/len(tickets)"
   ]
  },
  {
   "cell_type": "code",
   "execution_count": 390,
   "metadata": {},
   "outputs": [],
   "source": [
    "from sklearn.metrics import classification_report"
   ]
  },
  {
   "cell_type": "code",
   "execution_count": 398,
   "metadata": {},
   "outputs": [
    {
     "data": {
      "text/plain": [
       "'              precision    recall  f1-score   support\\n\\n       False       1.00      0.66      0.79     22056\\n        True       0.00      0.32      0.01       105\\n\\n   micro avg       0.66      0.66      0.66     22161\\n   macro avg       0.50      0.49      0.40     22161\\nweighted avg       0.99      0.66      0.79     22161\\n'"
      ]
     },
     "execution_count": 398,
     "metadata": {},
     "output_type": "execute_result"
    }
   ],
   "source": [
    "classification_report(y_test,y_pred)"
   ]
  },
  {
   "cell_type": "code",
   "execution_count": 403,
   "metadata": {},
   "outputs": [
    {
     "name": "stdout",
     "output_type": "stream",
     "text": [
      "Coefficients:\n",
      "\n",
      "['f', 'b', '_', 'g', 'a', 'm', 'e'] :  0.0\n",
      "['d', 'a', 'y', '_', '1'] :  -0.14284274783780693\n",
      "['d', 'a', 'y', '_', '2'] :  -0.2140942561628328\n",
      "['d', 'a', 'y', '_', '3'] :  0.3564408986507548\n",
      "['d', 'a', 'y', '_', '4'] :  0.7540215645503516\n",
      "['d', 'a', 'y', '_', '5'] :  0.3217997094800023\n",
      "['d', 'a', 'y', '_', '6'] :  0.4675262950085172\n",
      "['m', 'o', 'n', 't', 'h', '_', '2'] :  0.5390835624656514\n",
      "['m', 'o', 'n', 't', 'h', '_', '3'] :  0.5278919440514107\n",
      "['m', 'o', 'n', 't', 'h', '_', '4'] :  0.11335722417953384\n",
      "['m', 'o', 'n', 't', 'h', '_', '5'] :  0.5955088306636998\n",
      "['m', 'o', 'n', 't', 'h', '_', '6'] :  -0.2383221340227375\n",
      "['m', 'o', 'n', 't', 'h', '_', '7'] :  0.0047292663351576475\n",
      "['m', 'o', 'n', 't', 'h', '_', '8'] :  0.7657675423702267\n",
      "['m', 'o', 'n', 't', 'h', '_', '9'] :  0.21333909784671742\n",
      "['m', 'o', 'n', 't', 'h', '_', '1', '0'] :  0.6510586005181962\n",
      "['m', 'o', 'n', 't', 'h', '_', '1', '1'] :  0.1329474825226353\n",
      "['m', 'o', 'n', 't', 'h', '_', '1', '2'] :  0.4760110246327943\n",
      "['h', 'o', 'u', 'r', '_', '1'] :  0.18004789377715555\n",
      "['h', 'o', 'u', 'r', '_', '2'] :  -2.51725621593661\n",
      "['h', 'o', 'u', 'r', '_', '3'] :  -2.003612590563261\n",
      "['h', 'o', 'u', 'r', '_', '4'] :  -2.004630501935732\n",
      "['h', 'o', 'u', 'r', '_', '5'] :  -2.395111629466121\n",
      "['h', 'o', 'u', 'r', '_', '6'] :  1.2538234545572224\n",
      "['h', 'o', 'u', 'r', '_', '7'] :  -0.04563100170808095\n",
      "['h', 'o', 'u', 'r', '_', '8'] :  0.6982546371350588\n",
      "['h', 'o', 'u', 'r', '_', '9'] :  -0.6520143558601315\n",
      "['h', 'o', 'u', 'r', '_', '1', '0'] :  -0.001679207930292292\n",
      "['h', 'o', 'u', 'r', '_', '1', '1'] :  -0.005655683438047443\n",
      "['h', 'o', 'u', 'r', '_', '1', '2'] :  0.2445118124939237\n",
      "['h', 'o', 'u', 'r', '_', '1', '3'] :  0.47239856621747195\n",
      "['h', 'o', 'u', 'r', '_', '1', '4'] :  0.24324282034881728\n",
      "['h', 'o', 'u', 'r', '_', '1', '5'] :  0.293506412860949\n",
      "['h', 'o', 'u', 'r', '_', '1', '6'] :  1.168527860377937\n",
      "['h', 'o', 'u', 'r', '_', '1', '7'] :  0.33220354333905183\n",
      "['h', 'o', 'u', 'r', '_', '1', '8'] :  1.4818705257622158\n",
      "['h', 'o', 'u', 'r', '_', '1', '9'] :  -0.3392238019442149\n",
      "['h', 'o', 'u', 'r', '_', '2', '0'] :  1.840723121991487\n",
      "['h', 'o', 'u', 'r', '_', '2', '1'] :  1.140131691987438\n",
      "['h', 'o', 'u', 'r', '_', '2', '2'] :  0.6683915649870819\n",
      "['h', 'o', 'u', 'r', '_', '2', '3'] :  0.12893089256992868\n"
     ]
    },
    {
     "ename": "IndexError",
     "evalue": "list index out of range",
     "output_type": "error",
     "traceback": [
      "\u001b[0;31m---------------------------------------------------------------------------\u001b[0m",
      "\u001b[0;31mIndexError\u001b[0m                                Traceback (most recent call last)",
      "\u001b[0;32m<ipython-input-403-8b173ae00e74>\u001b[0m in \u001b[0;36m<module>\u001b[0;34m\u001b[0m\n\u001b[1;32m      1\u001b[0m \u001b[0mprint\u001b[0m\u001b[0;34m(\u001b[0m\u001b[0;34m'Coefficients:\\n'\u001b[0m\u001b[0;34m)\u001b[0m\u001b[0;34m\u001b[0m\u001b[0;34m\u001b[0m\u001b[0m\n\u001b[1;32m      2\u001b[0m \u001b[0;32mfor\u001b[0m \u001b[0mi\u001b[0m \u001b[0;32min\u001b[0m \u001b[0mrange\u001b[0m\u001b[0;34m(\u001b[0m\u001b[0mlen\u001b[0m\u001b[0;34m(\u001b[0m\u001b[0mtickets_encoded\u001b[0m\u001b[0;34m)\u001b[0m\u001b[0;34m)\u001b[0m\u001b[0;34m:\u001b[0m\u001b[0;34m\u001b[0m\u001b[0;34m\u001b[0m\u001b[0m\n\u001b[0;32m----> 3\u001b[0;31m     \u001b[0mprint\u001b[0m\u001b[0;34m(\u001b[0m\u001b[0mlist\u001b[0m\u001b[0;34m(\u001b[0m\u001b[0mX_col\u001b[0m\u001b[0;34m[\u001b[0m\u001b[0mi\u001b[0m\u001b[0;34m]\u001b[0m\u001b[0;34m)\u001b[0m\u001b[0;34m,\u001b[0m \u001b[0;34m': '\u001b[0m\u001b[0;34m,\u001b[0m \u001b[0mmodel\u001b[0m\u001b[0;34m.\u001b[0m\u001b[0mcoef_\u001b[0m\u001b[0;34m[\u001b[0m\u001b[0;36m0\u001b[0m\u001b[0;34m]\u001b[0m\u001b[0;34m[\u001b[0m\u001b[0mi\u001b[0m\u001b[0;34m]\u001b[0m\u001b[0;34m)\u001b[0m\u001b[0;34m\u001b[0m\u001b[0;34m\u001b[0m\u001b[0m\n\u001b[0m",
      "\u001b[0;31mIndexError\u001b[0m: list index out of range"
     ]
    }
   ],
   "source": [
    "print('Coefficients:\\n')\n",
    "for i in range(len(tickets_encoded)):\n",
    "    print(list(X_col[i]), ': ', model.coef_[0][i])"
   ]
  },
  {
   "cell_type": "code",
   "execution_count": null,
   "metadata": {},
   "outputs": [],
   "source": []
  }
 ],
 "metadata": {
  "kernelspec": {
   "display_name": "Python 3",
   "language": "python",
   "name": "python3"
  },
  "language_info": {
   "codemirror_mode": {
    "name": "ipython",
    "version": 3
   },
   "file_extension": ".py",
   "mimetype": "text/x-python",
   "name": "python",
   "nbconvert_exporter": "python",
   "pygments_lexer": "ipython3",
   "version": "3.7.1"
  }
 },
 "nbformat": 4,
 "nbformat_minor": 2
}
