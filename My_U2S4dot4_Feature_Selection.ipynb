{
  "nbformat": 4,
  "nbformat_minor": 0,
  "metadata": {
    "colab": {
      "name": "My_U2S4dot4_Feature_Selection.ipynb",
      "version": "0.3.2",
      "provenance": [],
      "collapsed_sections": [],
      "include_colab_link": true
    },
    "kernelspec": {
      "name": "python3",
      "display_name": "Python 3"
    },
    "accelerator": "GPU"
  },
  "cells": [
    {
      "cell_type": "markdown",
      "metadata": {
        "id": "view-in-github",
        "colab_type": "text"
      },
      "source": [
        "<a href=\"https://colab.research.google.com/github/wel51x/DS-Unit-2-Sprint-4-Model-Validation/blob/master/My_U2S4dot4_Feature_Selection.ipynb\" target=\"_parent\"><img src=\"https://colab.research.google.com/assets/colab-badge.svg\" alt=\"Open In Colab\"/></a>"
      ]
    },
    {
      "cell_type": "markdown",
      "metadata": {
        "id": "EktuEhKabPw1",
        "colab_type": "text"
      },
      "source": [
        "_Lambda School Data Science - Model Validation_\n",
        "\n",
        "\n",
        "# Feature Selection\n",
        "\n",
        "Objectives:\n",
        "* Feature importance\n",
        "* Feature selection "
      ]
    },
    {
      "cell_type": "markdown",
      "metadata": {
        "id": "rqC17z_cbPw5",
        "colab_type": "text"
      },
      "source": [
        "## Yesterday we saw that...\n",
        "\n",
        "## Less isn't always more (but sometimes it is)\n",
        "\n",
        "## More isn't always better (but sometimes it is)\n",
        "\n",
        "\n",
        "![Image of Terry Crews](https://media.giphy.com/media/b8kHKZq3YFfnq/giphy.gif)"
      ]
    },
    {
      "cell_type": "markdown",
      "metadata": {
        "id": "90pyhgLYbPw8",
        "colab_type": "text"
      },
      "source": [
        "Saavas, Ando [Feature Selection (4 parts)](https://blog.datadive.net/selecting-good-features-part-i-univariate-selection/)\n",
        "\n",
        ">There are in general two reasons why feature selection is used:\n",
        "1. Reducing the number of features, to reduce overfitting and improve the generalization of models.\n",
        "2. To gain a better understanding of the features and their relationship to the response variables.\n",
        "\n",
        ">These two goals are often at odds with each other and thus require different approaches: depending on the data at hand a feature selection method that is good for goal (1) isn’t necessarily good for goal (2) and vice versa. What seems to happen often though is that people use their favourite method (or whatever is most conveniently accessible from their tool of choice) indiscriminately, especially methods more suitable for (1) for achieving (2)."
      ]
    },
    {
      "cell_type": "markdown",
      "metadata": {
        "id": "SkCG574vbPxB",
        "colab_type": "text"
      },
      "source": [
        "While they are not always mutually exclusive, here's a little bit about what's going on with these two goals"
      ]
    },
    {
      "cell_type": "markdown",
      "metadata": {
        "id": "BJhlNZEEbPxE",
        "colab_type": "text"
      },
      "source": [
        "### Goal 1: Reducing Features, Reducing Overfitting, Improving Generalization of Models\n",
        "\n",
        "This is when you're actually trying to engineer a packaged, machine learning pipeline that is streamlined and highly generalizable to novel data as more is collected, and you don't really care \"how\" it works as long as it does work. \n",
        "\n",
        "Approaches that are good at this tend to fail at Goal 2 because they handle multicollinearity by (sometime randomly) choosing/indicating just one of a group of strongly correlated features. This is good to reduce redundancy, but bad if you want to interpret the data."
      ]
    },
    {
      "cell_type": "markdown",
      "metadata": {
        "id": "tfvPQq4ebPxI",
        "colab_type": "text"
      },
      "source": [
        "### Goal 2: Gaining a Better Understanding of the Features and their Relationships\n",
        "\n",
        "This is when you want a good, interpretable model or you're doing data science more for analysis than engineering. Company asks you \"How do we increase X?\" and you can tell them all the factors that correlate to it and their predictive power.\n",
        "\n",
        "Approaches that are good at this tend to fail at Goal 1 because, well, they *don't* handle the multicollinearity problem. If three features are all strongly correlated to each other as well as the output, they will all have high scores. But including all three features in a model is redundant."
      ]
    },
    {
      "cell_type": "markdown",
      "metadata": {
        "id": "UfJnm9g_bPxL",
        "colab_type": "text"
      },
      "source": [
        "### Each part in Saavas's Blog series describes an increasingly complex (and computationally costly) set of methods for feature selection and interpretation.\n",
        "\n",
        "The ultimate comparison is completed using an adaptation of a dataset called Friedman's 1 regression dataset from Friedman, Jerome H.'s '[Multivariate Adaptive Regression Splines](http://www.stat.ucla.edu/~cocteau/stat204/readings/mars.pdf).\n",
        ">The data is generated according to formula $y=10sin(πX_1X_2)+20(X_3–0.5)^2+10X_4+5X_5+ϵ$, where the $X_1$ to $X_5$ are drawn from uniform distribution and ϵ is the standard normal deviate N(0,1). Additionally, the original dataset had five noise variables $X_6,…,X_{10}$, independent of the response variable. We will increase the number of variables further and add four variables $X_{11},…,X_{14}$ each of which are very strongly correlated with $X_1,…,X_4$, respectively, generated by $f(x)=x+N(0,0.01)$. This yields a correlation coefficient of more than 0.999 between the variables. This will illustrate how different feature ranking methods deal with correlations in the data.\n",
        "\n",
        "**Okay, that's a lot--here's what you need to know:**\n",
        "1.   $X_1$ and $X_2$ have the same non-linear relationship to $Y$ -- though together they do have a not-quite-linear relationship to $Y$ (with sinusoidal noise--but the range of the values doesn't let it get negative)\n",
        "2.   $X_3$ has a quadratic relationship with $Y$\n",
        "3.   $X_4$ and $X_5$ have linear relationships to $Y$, with $X_4$ being weighted twice as heavily as $X_5$\n",
        "4.   $X_6$ through $X_{10}$ are random and have NO relationship to $Y$\n",
        "5.   $X_{11}$ through $X_{14}$ correlate strongly to $X_1$ through $X_4$ respectively (and thus have the same respective relationships with $Y$)\n",
        "\n",
        "\n",
        "This will help us see the difference between the models in selecting features and interpreting features\n",
        "* how well they deal with multicollinearity (#5)\n",
        "* how well they identify noise (#4)\n",
        "* how well they identify different kinds of relationships\n",
        "* how well they identify/interpret predictive power of individual variables."
      ]
    },
    {
      "cell_type": "code",
      "metadata": {
        "id": "Xvs96UWD4XQs",
        "colab_type": "code",
        "colab": {}
      },
      "source": [
        "# import\n",
        "import numpy as np\n",
        "\n",
        "# Create the dataset\n",
        "# from https://blog.datadive.net/selecting-good-features-part-iv-stability-selection-rfe-and-everything-side-by-side/\n",
        "\n",
        "np.random.seed(42)\n",
        "\n",
        "size = 1500 # I increased the size from what's given in the link\n",
        "Xs = np.random.uniform(0, 1, (size, 14)) \n",
        "# Changed variable name to Xs to use X later\n",
        " \n",
        "#\"Friedamn #1” regression problem\n",
        "Y = (10 * np.sin(np.pi*Xs[:,0]*Xs[:,1]) + 20*(Xs[:,2] - .5)**2 +\n",
        "     10*Xs[:,3] + 5*Xs[:,4] + np.random.normal(0,1))\n",
        "#Add 4 additional correlated variables (correlated with X1-X4)\n",
        "Xs[:,10:] = Xs[:,:4] + np.random.normal(0, .025, (size,4))\n",
        " \n",
        "names = [\"X%s\" % i for i in range(1,15)]"
      ],
      "execution_count": 0,
      "outputs": []
    },
    {
      "cell_type": "code",
      "metadata": {
        "id": "7qjVVgwKB37G",
        "colab_type": "code",
        "outputId": "e942089e-c106-4900-b1b2-32053c6cec50",
        "colab": {
          "base_uri": "https://localhost:8080/",
          "height": 204
        }
      },
      "source": [
        "# Putting it into pandas--because... I like pandas. And usually you'll be\n",
        "# working with dataframes not arrays (you'll care what the column titles are)\n",
        "import pandas as pd\n",
        "\n",
        "friedmanX = pd.DataFrame(data=Xs, columns=names)\n",
        "friedmanY = pd.Series(data=Y, name='Y')\n",
        "\n",
        "friedman = friedmanX.join(friedmanY)\n",
        "\n",
        "friedman.head()"
      ],
      "execution_count": 2,
      "outputs": [
        {
          "output_type": "execute_result",
          "data": {
            "text/html": [
              "<div>\n",
              "<style scoped>\n",
              "    .dataframe tbody tr th:only-of-type {\n",
              "        vertical-align: middle;\n",
              "    }\n",
              "\n",
              "    .dataframe tbody tr th {\n",
              "        vertical-align: top;\n",
              "    }\n",
              "\n",
              "    .dataframe thead th {\n",
              "        text-align: right;\n",
              "    }\n",
              "</style>\n",
              "<table border=\"1\" class=\"dataframe\">\n",
              "  <thead>\n",
              "    <tr style=\"text-align: right;\">\n",
              "      <th></th>\n",
              "      <th>X1</th>\n",
              "      <th>X2</th>\n",
              "      <th>X3</th>\n",
              "      <th>X4</th>\n",
              "      <th>X5</th>\n",
              "      <th>X6</th>\n",
              "      <th>X7</th>\n",
              "      <th>X8</th>\n",
              "      <th>X9</th>\n",
              "      <th>X10</th>\n",
              "      <th>X11</th>\n",
              "      <th>X12</th>\n",
              "      <th>X13</th>\n",
              "      <th>X14</th>\n",
              "      <th>Y</th>\n",
              "    </tr>\n",
              "  </thead>\n",
              "  <tbody>\n",
              "    <tr>\n",
              "      <th>0</th>\n",
              "      <td>0.374540</td>\n",
              "      <td>0.950714</td>\n",
              "      <td>0.731994</td>\n",
              "      <td>0.598658</td>\n",
              "      <td>0.156019</td>\n",
              "      <td>0.155995</td>\n",
              "      <td>0.058084</td>\n",
              "      <td>0.866176</td>\n",
              "      <td>0.601115</td>\n",
              "      <td>0.708073</td>\n",
              "      <td>0.413325</td>\n",
              "      <td>0.956360</td>\n",
              "      <td>0.698205</td>\n",
              "      <td>0.568729</td>\n",
              "      <td>16.730915</td>\n",
              "    </tr>\n",
              "    <tr>\n",
              "      <th>1</th>\n",
              "      <td>0.181825</td>\n",
              "      <td>0.183405</td>\n",
              "      <td>0.304242</td>\n",
              "      <td>0.524756</td>\n",
              "      <td>0.431945</td>\n",
              "      <td>0.291229</td>\n",
              "      <td>0.611853</td>\n",
              "      <td>0.139494</td>\n",
              "      <td>0.292145</td>\n",
              "      <td>0.366362</td>\n",
              "      <td>0.223650</td>\n",
              "      <td>0.167876</td>\n",
              "      <td>0.280668</td>\n",
              "      <td>0.561691</td>\n",
              "      <td>9.112092</td>\n",
              "    </tr>\n",
              "    <tr>\n",
              "      <th>2</th>\n",
              "      <td>0.592415</td>\n",
              "      <td>0.046450</td>\n",
              "      <td>0.607545</td>\n",
              "      <td>0.170524</td>\n",
              "      <td>0.065052</td>\n",
              "      <td>0.948886</td>\n",
              "      <td>0.965632</td>\n",
              "      <td>0.808397</td>\n",
              "      <td>0.304614</td>\n",
              "      <td>0.097672</td>\n",
              "      <td>0.617692</td>\n",
              "      <td>0.078302</td>\n",
              "      <td>0.583794</td>\n",
              "      <td>0.132396</td>\n",
              "      <td>3.017894</td>\n",
              "    </tr>\n",
              "    <tr>\n",
              "      <th>3</th>\n",
              "      <td>0.034389</td>\n",
              "      <td>0.909320</td>\n",
              "      <td>0.258780</td>\n",
              "      <td>0.662522</td>\n",
              "      <td>0.311711</td>\n",
              "      <td>0.520068</td>\n",
              "      <td>0.546710</td>\n",
              "      <td>0.184854</td>\n",
              "      <td>0.969585</td>\n",
              "      <td>0.775133</td>\n",
              "      <td>0.037718</td>\n",
              "      <td>0.917699</td>\n",
              "      <td>0.267895</td>\n",
              "      <td>0.699477</td>\n",
              "      <td>10.220976</td>\n",
              "    </tr>\n",
              "    <tr>\n",
              "      <th>4</th>\n",
              "      <td>0.088493</td>\n",
              "      <td>0.195983</td>\n",
              "      <td>0.045227</td>\n",
              "      <td>0.325330</td>\n",
              "      <td>0.388677</td>\n",
              "      <td>0.271349</td>\n",
              "      <td>0.828738</td>\n",
              "      <td>0.356753</td>\n",
              "      <td>0.280935</td>\n",
              "      <td>0.542696</td>\n",
              "      <td>0.045148</td>\n",
              "      <td>0.217475</td>\n",
              "      <td>0.017812</td>\n",
              "      <td>0.346724</td>\n",
              "      <td>9.770285</td>\n",
              "    </tr>\n",
              "  </tbody>\n",
              "</table>\n",
              "</div>"
            ],
            "text/plain": [
              "         X1        X2        X3  ...       X13       X14          Y\n",
              "0  0.374540  0.950714  0.731994  ...  0.698205  0.568729  16.730915\n",
              "1  0.181825  0.183405  0.304242  ...  0.280668  0.561691   9.112092\n",
              "2  0.592415  0.046450  0.607545  ...  0.583794  0.132396   3.017894\n",
              "3  0.034389  0.909320  0.258780  ...  0.267895  0.699477  10.220976\n",
              "4  0.088493  0.195983  0.045227  ...  0.017812  0.346724   9.770285\n",
              "\n",
              "[5 rows x 15 columns]"
            ]
          },
          "metadata": {
            "tags": []
          },
          "execution_count": 2
        }
      ]
    },
    {
      "cell_type": "markdown",
      "metadata": {
        "id": "uhDRfR-eF7pY",
        "colab_type": "text"
      },
      "source": [
        "We want to be able to look at classification problems too, so let's bin the Y values to create a categorical feature from the Y values. It should have *roughly* similar relationships to the X features as Y does."
      ]
    },
    {
      "cell_type": "code",
      "metadata": {
        "id": "-V1FuPAaFoUV",
        "colab_type": "code",
        "outputId": "1d918b00-1160-4a15-9fad-a1b4c7c7ff18",
        "colab": {
          "base_uri": "https://localhost:8080/",
          "height": 500
        }
      },
      "source": [
        "# First, let's take a look at what Y looks like\n",
        "import matplotlib.pyplot as plt\n",
        "import seaborn as sns\n",
        "plt.gcf().set_size_inches(15, 8)\n",
        "sns.distplot(friedmanY);"
      ],
      "execution_count": 4,
      "outputs": [
        {
          "output_type": "display_data",
          "data": {
            "image/png": "[encoded data removed]",
            "text/plain": [
              "<Figure size 1080x576 with 1 Axes>"
            ]
          },
          "metadata": {
            "tags": []
          }
        }
      ]
    },
    {
      "cell_type": "markdown",
      "metadata": {
        "id": "JvQeWRthGvht",
        "colab_type": "text"
      },
      "source": [
        "That's pretty normal, let's make two binary categories--one balanced, one unbalanced, to see the difference.\n",
        "* balanced binary variable will be split evenly in half\n",
        "* unbalanced binary variable will indicate whether $Y <5$."
      ]
    },
    {
      "cell_type": "code",
      "metadata": {
        "id": "fSQHngeGHrbj",
        "colab_type": "code",
        "outputId": "9881a791-f0bc-4b3e-9254-794e9db9a5d4",
        "colab": {
          "base_uri": "https://localhost:8080/",
          "height": 136
        }
      },
      "source": [
        "friedman['Y_bal'] = friedman['Y'].apply(lambda y: 1 if (y < friedman.Y.median()) else 0)\n",
        "friedman['Y_un'] = friedman['Y'].apply(lambda y: 1 if (y < 5) else 0)\n",
        "\n",
        "print(friedman.Y_bal.value_counts(), '\\n\\n', friedman.Y_un.value_counts())"
      ],
      "execution_count": 5,
      "outputs": [
        {
          "output_type": "stream",
          "text": [
            "1    750\n",
            "0    750\n",
            "Name: Y_bal, dtype: int64 \n",
            "\n",
            " 0    1461\n",
            "1      39\n",
            "Name: Y_un, dtype: int64\n"
          ],
          "name": "stdout"
        }
      ]
    },
    {
      "cell_type": "code",
      "metadata": {
        "id": "keb3N-12oT9U",
        "colab_type": "code",
        "outputId": "e6b007a3-6892-4c7d-8d5a-4673d77ec07f",
        "colab": {
          "base_uri": "https://localhost:8080/",
          "height": 297
        }
      },
      "source": [
        "friedman.sample(8)"
      ],
      "execution_count": 6,
      "outputs": [
        {
          "output_type": "execute_result",
          "data": {
            "text/html": [
              "<div>\n",
              "<style scoped>\n",
              "    .dataframe tbody tr th:only-of-type {\n",
              "        vertical-align: middle;\n",
              "    }\n",
              "\n",
              "    .dataframe tbody tr th {\n",
              "        vertical-align: top;\n",
              "    }\n",
              "\n",
              "    .dataframe thead th {\n",
              "        text-align: right;\n",
              "    }\n",
              "</style>\n",
              "<table border=\"1\" class=\"dataframe\">\n",
              "  <thead>\n",
              "    <tr style=\"text-align: right;\">\n",
              "      <th></th>\n",
              "      <th>X1</th>\n",
              "      <th>X2</th>\n",
              "      <th>X3</th>\n",
              "      <th>X4</th>\n",
              "      <th>X5</th>\n",
              "      <th>X6</th>\n",
              "      <th>X7</th>\n",
              "      <th>X8</th>\n",
              "      <th>X9</th>\n",
              "      <th>X10</th>\n",
              "      <th>X11</th>\n",
              "      <th>X12</th>\n",
              "      <th>X13</th>\n",
              "      <th>X14</th>\n",
              "      <th>Y</th>\n",
              "      <th>Y_bal</th>\n",
              "      <th>Y_un</th>\n",
              "    </tr>\n",
              "  </thead>\n",
              "  <tbody>\n",
              "    <tr>\n",
              "      <th>156</th>\n",
              "      <td>0.653163</td>\n",
              "      <td>0.938305</td>\n",
              "      <td>0.871204</td>\n",
              "      <td>0.766065</td>\n",
              "      <td>0.788447</td>\n",
              "      <td>0.664985</td>\n",
              "      <td>0.260287</td>\n",
              "      <td>0.907195</td>\n",
              "      <td>0.670732</td>\n",
              "      <td>0.560441</td>\n",
              "      <td>0.648586</td>\n",
              "      <td>0.912552</td>\n",
              "      <td>0.841731</td>\n",
              "      <td>0.818493</td>\n",
              "      <td>23.629323</td>\n",
              "      <td>0</td>\n",
              "      <td>0</td>\n",
              "    </tr>\n",
              "    <tr>\n",
              "      <th>1308</th>\n",
              "      <td>0.468035</td>\n",
              "      <td>0.213449</td>\n",
              "      <td>0.934605</td>\n",
              "      <td>0.796600</td>\n",
              "      <td>0.055666</td>\n",
              "      <td>0.998943</td>\n",
              "      <td>0.694927</td>\n",
              "      <td>0.160267</td>\n",
              "      <td>0.237168</td>\n",
              "      <td>0.692445</td>\n",
              "      <td>0.468666</td>\n",
              "      <td>0.257326</td>\n",
              "      <td>0.922035</td>\n",
              "      <td>0.767075</td>\n",
              "      <td>15.001858</td>\n",
              "      <td>0</td>\n",
              "      <td>0</td>\n",
              "    </tr>\n",
              "    <tr>\n",
              "      <th>337</th>\n",
              "      <td>0.435262</td>\n",
              "      <td>0.920691</td>\n",
              "      <td>0.345017</td>\n",
              "      <td>0.054733</td>\n",
              "      <td>0.204242</td>\n",
              "      <td>0.418695</td>\n",
              "      <td>0.219635</td>\n",
              "      <td>0.000227</td>\n",
              "      <td>0.915002</td>\n",
              "      <td>0.843879</td>\n",
              "      <td>0.473871</td>\n",
              "      <td>0.865579</td>\n",
              "      <td>0.318038</td>\n",
              "      <td>0.049064</td>\n",
              "      <td>11.459331</td>\n",
              "      <td>1</td>\n",
              "      <td>0</td>\n",
              "    </tr>\n",
              "    <tr>\n",
              "      <th>374</th>\n",
              "      <td>0.691720</td>\n",
              "      <td>0.661343</td>\n",
              "      <td>0.038401</td>\n",
              "      <td>0.368250</td>\n",
              "      <td>0.979032</td>\n",
              "      <td>0.420737</td>\n",
              "      <td>0.501945</td>\n",
              "      <td>0.909930</td>\n",
              "      <td>0.717262</td>\n",
              "      <td>0.582070</td>\n",
              "      <td>0.706203</td>\n",
              "      <td>0.684562</td>\n",
              "      <td>0.027449</td>\n",
              "      <td>0.386265</td>\n",
              "      <td>22.642635</td>\n",
              "      <td>0</td>\n",
              "      <td>0</td>\n",
              "    </tr>\n",
              "    <tr>\n",
              "      <th>478</th>\n",
              "      <td>0.677038</td>\n",
              "      <td>0.803212</td>\n",
              "      <td>0.561877</td>\n",
              "      <td>0.740883</td>\n",
              "      <td>0.661860</td>\n",
              "      <td>0.355530</td>\n",
              "      <td>0.808859</td>\n",
              "      <td>0.294701</td>\n",
              "      <td>0.571213</td>\n",
              "      <td>0.745398</td>\n",
              "      <td>0.713179</td>\n",
              "      <td>0.795122</td>\n",
              "      <td>0.574424</td>\n",
              "      <td>0.793364</td>\n",
              "      <td>20.592819</td>\n",
              "      <td>0</td>\n",
              "      <td>0</td>\n",
              "    </tr>\n",
              "    <tr>\n",
              "      <th>1148</th>\n",
              "      <td>0.964686</td>\n",
              "      <td>0.875557</td>\n",
              "      <td>0.875934</td>\n",
              "      <td>0.176067</td>\n",
              "      <td>0.264907</td>\n",
              "      <td>0.076393</td>\n",
              "      <td>0.778468</td>\n",
              "      <td>0.069816</td>\n",
              "      <td>0.556696</td>\n",
              "      <td>0.247876</td>\n",
              "      <td>0.976942</td>\n",
              "      <td>0.875351</td>\n",
              "      <td>0.877360</td>\n",
              "      <td>0.174028</td>\n",
              "      <td>10.493763</td>\n",
              "      <td>1</td>\n",
              "      <td>0</td>\n",
              "    </tr>\n",
              "    <tr>\n",
              "      <th>788</th>\n",
              "      <td>0.415711</td>\n",
              "      <td>0.728316</td>\n",
              "      <td>0.798772</td>\n",
              "      <td>0.945190</td>\n",
              "      <td>0.608505</td>\n",
              "      <td>0.254627</td>\n",
              "      <td>0.924148</td>\n",
              "      <td>0.775316</td>\n",
              "      <td>0.574428</td>\n",
              "      <td>0.695640</td>\n",
              "      <td>0.418045</td>\n",
              "      <td>0.711830</td>\n",
              "      <td>0.798872</td>\n",
              "      <td>0.927330</td>\n",
              "      <td>22.313361</td>\n",
              "      <td>0</td>\n",
              "      <td>0</td>\n",
              "    </tr>\n",
              "    <tr>\n",
              "      <th>150</th>\n",
              "      <td>0.915090</td>\n",
              "      <td>0.533029</td>\n",
              "      <td>0.157955</td>\n",
              "      <td>0.695899</td>\n",
              "      <td>0.793261</td>\n",
              "      <td>0.316762</td>\n",
              "      <td>0.857179</td>\n",
              "      <td>0.906143</td>\n",
              "      <td>0.276904</td>\n",
              "      <td>0.983521</td>\n",
              "      <td>0.973598</td>\n",
              "      <td>0.516610</td>\n",
              "      <td>0.199860</td>\n",
              "      <td>0.676132</td>\n",
              "      <td>23.150468</td>\n",
              "      <td>0</td>\n",
              "      <td>0</td>\n",
              "    </tr>\n",
              "  </tbody>\n",
              "</table>\n",
              "</div>"
            ],
            "text/plain": [
              "            X1        X2        X3        X4  ...       X14          Y  Y_bal  Y_un\n",
              "156   0.653163  0.938305  0.871204  0.766065  ...  0.818493  23.629323      0     0\n",
              "1308  0.468035  0.213449  0.934605  0.796600  ...  0.767075  15.001858      0     0\n",
              "337   0.435262  0.920691  0.345017  0.054733  ...  0.049064  11.459331      1     0\n",
              "374   0.691720  0.661343  0.038401  0.368250  ...  0.386265  22.642635      0     0\n",
              "478   0.677038  0.803212  0.561877  0.740883  ...  0.793364  20.592819      0     0\n",
              "1148  0.964686  0.875557  0.875934  0.176067  ...  0.174028  10.493763      1     0\n",
              "788   0.415711  0.728316  0.798772  0.945190  ...  0.927330  22.313361      0     0\n",
              "150   0.915090  0.533029  0.157955  0.695899  ...  0.676132  23.150468      0     0\n",
              "\n",
              "[8 rows x 17 columns]"
            ]
          },
          "metadata": {
            "tags": []
          },
          "execution_count": 6
        }
      ]
    },
    {
      "cell_type": "code",
      "metadata": {
        "id": "l8Ab5FKxjkDy",
        "colab_type": "code",
        "colab": {}
      },
      "source": [
        "# Finally, let's put it all into our usual X and y's\n",
        "# (I already have the X dataframe as friedmanX, but I'm working backward to\n",
        "# follow a usual flow)\n",
        "\n",
        "X = friedman.drop(columns=['Y', 'Y_bal', 'Y_un'])\n",
        "\n",
        "y = friedman.Y\n",
        "\n",
        "y_bal = friedman.Y_bal\n",
        "\n",
        "y_un = friedman.Y_un"
      ],
      "execution_count": 0,
      "outputs": []
    },
    {
      "cell_type": "markdown",
      "metadata": {
        "id": "q11QTvNXI87Z",
        "colab_type": "text"
      },
      "source": [
        "#### Alright! Let's get to it! Remember, with each part, we are increasing complexity of the analysis and thereby increasing the computational costs and runtime."
      ]
    },
    {
      "cell_type": "markdown",
      "metadata": {
        "id": "K_7irYK2QfES",
        "colab_type": "text"
      },
      "source": [
        "So even before univariate selection--which compares each feature to the output feature one by one--there is a [VarianceThreshold](https://scikit-learn.org/stable/modules/generated/sklearn.feature_selection.VarianceThreshold.html#sklearn.feature_selection.VarianceThreshold) object in sklearn.feature_selection. It defaults to getting rid of any features that are the same across all samples. Great for cleaning data in that respect. \n",
        "\n",
        "The `threshold` parameter defaults to `0` to show the above behavior. if you change it, make sure you have good reason. Use with caution."
      ]
    },
    {
      "cell_type": "markdown",
      "metadata": {
        "id": "flvDcuYAbPxP",
        "colab_type": "text"
      },
      "source": [
        "## Part 1: univariate selection\n",
        "* Best for goal 2 - getting \"a better understanding of the data, its structure and characteristics\"\n",
        "* unable to remove redundancy (for example selecting only the best feature among a subset of strongly correlated features)\n",
        "* Super fast - can be used for baseline models or just after baseline\n",
        "\n",
        "[sci-kit's univariariate feature selection objects and techniques](https://scikit-learn.org/stable/modules/feature_selection.html#univariate-feature-selection)"
      ]
    },
    {
      "cell_type": "markdown",
      "metadata": {
        "id": "qZqzkGVmM_aj",
        "colab_type": "text"
      },
      "source": [
        "#### Y (continuous output)\n",
        "\n",
        "options (they do what they sound like they do)\n",
        "* SelectKBest\n",
        "* SelectPercentile\n",
        "\n",
        "both take the same parameter options for `score_func`\n",
        "* `f_regression`: scores by correlation coefficient, f value, p value--basically automates what you can do by looking at a correlation matrix except without the ability to recognize collinearity\n",
        "* `mutual_info_regression`: can capture non-linear correlations, but doesn't handle noise well\n",
        "\n",
        "Let's take a look at mutual information (MI)"
      ]
    },
    {
      "cell_type": "code",
      "metadata": {
        "id": "lsDZpC8PM-cc",
        "colab_type": "code",
        "outputId": "9c0b1812-92cd-4498-875a-852929698e0f",
        "colab": {
          "base_uri": "https://localhost:8080/",
          "height": 272
        }
      },
      "source": [
        "import sklearn.feature_selection as fe\n",
        "\n",
        "MIR = fe.SelectKBest(fe.mutual_info_regression, k='all').fit(X, y)\n",
        "\n",
        "MIR_scores = pd.Series(data=MIR.scores_, name='MI_Reg_Scores', index=names)\n",
        "\n",
        "MIR_scores"
      ],
      "execution_count": 8,
      "outputs": [
        {
          "output_type": "execute_result",
          "data": {
            "text/plain": [
              "X1     0.117499\n",
              "X2     0.155141\n",
              "X3     0.064104\n",
              "X4     0.239914\n",
              "X5     0.059098\n",
              "X6     0.006906\n",
              "X7     0.000000\n",
              "X8     0.000000\n",
              "X9     0.000000\n",
              "X10    0.000000\n",
              "X11    0.069175\n",
              "X12    0.113326\n",
              "X13    0.036673\n",
              "X14    0.220115\n",
              "Name: MI_Reg_Scores, dtype: float64"
            ]
          },
          "metadata": {
            "tags": []
          },
          "execution_count": 8
        }
      ]
    },
    {
      "cell_type": "markdown",
      "metadata": {
        "id": "uIUBoCf8NsIA",
        "colab_type": "text"
      },
      "source": [
        "#### Y_bal (balanced binary output)\n",
        "\n",
        "options\n",
        "* SelectKBest\n",
        "* SelectPercentile\n",
        "\n",
        "these options will cut out features with error rates above a certain tolerance level, define in parameter -`alpha`\n",
        "* SelectFpr (false positive rate--false positives predicted/total negatives in dataset)\n",
        "* SelectFdr (false discovery rate--false positives predicted/total positives predicted)\n",
        "* ~~SelectFwe (family-wise error--for multinomial classification tasks)~~\n",
        "\n",
        "all have the same optons for parameter `score_func`\n",
        "* `chi2`\n",
        "* `f_classif`\n",
        "* `mutual_info_classif`"
      ]
    },
    {
      "cell_type": "code",
      "metadata": {
        "id": "vEkioNaHbPxR",
        "colab_type": "code",
        "outputId": "58941633-1ea1-49b6-f56a-7b97c594b4c9",
        "colab": {
          "base_uri": "https://localhost:8080/",
          "height": 272
        }
      },
      "source": [
        "MIC_b = fe.SelectFpr(fe.mutual_info_classif).fit(X, y_bal)\n",
        "\n",
        "MIC_b_scores = pd.Series(data=MIC_b.scores_, \n",
        "                              name='MIC_Bal_Scores', index=names)\n",
        "\n",
        "MIC_b_scores"
      ],
      "execution_count": 9,
      "outputs": [
        {
          "output_type": "execute_result",
          "data": {
            "text/plain": [
              "X1     0.061386\n",
              "X2     0.111060\n",
              "X3     0.006320\n",
              "X4     0.113995\n",
              "X5     0.000000\n",
              "X6     0.000000\n",
              "X7     0.000000\n",
              "X8     0.000000\n",
              "X9     0.000000\n",
              "X10    0.018296\n",
              "X11    0.063916\n",
              "X12    0.091263\n",
              "X13    0.028924\n",
              "X14    0.109699\n",
              "Name: MIC_Bal_Scores, dtype: float64"
            ]
          },
          "metadata": {
            "tags": []
          },
          "execution_count": 9
        }
      ]
    },
    {
      "cell_type": "markdown",
      "metadata": {
        "id": "d0fi6NoHXG7u",
        "colab_type": "text"
      },
      "source": [
        "#### Y_un (unbalanced binary output)"
      ]
    },
    {
      "cell_type": "code",
      "metadata": {
        "id": "6CWdeeg0XGhh",
        "colab_type": "code",
        "outputId": "efae1f17-4b2e-482a-8a52-474a5ad130e2",
        "colab": {
          "base_uri": "https://localhost:8080/",
          "height": 272
        }
      },
      "source": [
        "MIC_u = fe.SelectFpr(fe.mutual_info_classif).fit(X, y_un)\n",
        "\n",
        "MIC_u_scores = pd.Series(data=MIC_u.scores_, \n",
        "                              name='MIC_Unbal_Scores', index=names)\n",
        "\n",
        "MIC_u_scores"
      ],
      "execution_count": 10,
      "outputs": [
        {
          "output_type": "execute_result",
          "data": {
            "text/plain": [
              "X1     0.007352\n",
              "X2     0.011942\n",
              "X3     0.010933\n",
              "X4     0.042207\n",
              "X5     0.015932\n",
              "X6     0.000000\n",
              "X7     0.000000\n",
              "X8     0.006586\n",
              "X9     0.000000\n",
              "X10    0.000000\n",
              "X11    0.004096\n",
              "X12    0.011106\n",
              "X13    0.006392\n",
              "X14    0.033513\n",
              "Name: MIC_Unbal_Scores, dtype: float64"
            ]
          },
          "metadata": {
            "tags": []
          },
          "execution_count": 10
        }
      ]
    },
    {
      "cell_type": "markdown",
      "metadata": {
        "id": "GBavXOYvbPxb",
        "colab_type": "text"
      },
      "source": [
        "## Part 2: linear models and regularization\n",
        "* L1 Regularization (Lasso for regression) is best for goal 1: \"produces sparse solutions and as such is very useful selecting a strong subset of features for improving model performance\" (forces coefficients to zero, telling you which you could remove--but doesn't handle multicollinearity)\n",
        "* L2 Regularization (Ridge for regression) is best for goal 2: \"can be used for data interpretation due to its stability and the fact that useful features tend to have non-zero coefficients\n",
        "* Also fast\n",
        "\n",
        "[sci-kit's L1 feature selection](https://scikit-learn.org/stable/modules/feature_selection.html#l1-based-feature-selection) (can easily be switched to L2 using the parameter `penalty='l2'` for categorical targets or using `Ridge` instead of Lasso for continuous targets)\n",
        "\n",
        "We won't do this here, because\n",
        "1.   You know regression\n",
        "2.   The same principles apply as shown in Part 3 below with `SelectFromModel`\n",
        "3.   There's way cooler stuff coming up"
      ]
    },
    {
      "cell_type": "markdown",
      "metadata": {
        "id": "lrTUHbfwbPxk",
        "colab_type": "text"
      },
      "source": [
        "## Part 3: random forests\n",
        "* Best for goal 1, not 2 because:\n",
        " * strong features can end up with low scores \n",
        " * biased towards variables with many categories\n",
        "* \"require very little feature engineering and parameter tuning\"\n",
        "* Takes a little more time depending on your dataset - but a popular technique\n",
        "\n",
        "[sci-kit's implementation of tree-based feature selection](https://scikit-learn.org/stable/modules/feature_selection.html#tree-based-feature-selection)"
      ]
    },
    {
      "cell_type": "markdown",
      "metadata": {
        "id": "RKDsc9AjP4fD",
        "colab_type": "text"
      },
      "source": [
        "#### Y"
      ]
    },
    {
      "cell_type": "code",
      "metadata": {
        "id": "8pP7OuQTbPxo",
        "colab_type": "code",
        "outputId": "8ffafa0f-8b73-4d27-c324-f8d7bf079f9a",
        "colab": {
          "base_uri": "https://localhost:8080/",
          "height": 346
        }
      },
      "source": [
        "from sklearn.ensemble import RandomForestRegressor as RFR\n",
        "\n",
        "# Fitting a random forest regression\n",
        "rfr = RFR().fit(X, y)\n",
        "\n",
        "# Creating scores from feature_importances_ ranking (some randomness here)\n",
        "rfr_scores = pd.Series(data=rfr.feature_importances_, name='RFR', index=names)\n",
        "\n",
        "rfr_scores"
      ],
      "execution_count": 11,
      "outputs": [
        {
          "output_type": "stream",
          "text": [
            "/usr/local/lib/python3.6/dist-packages/sklearn/ensemble/forest.py:245: FutureWarning: The default value of n_estimators will change from 10 in version 0.20 to 100 in 0.22.\n",
            "  \"10 in version 0.20 to 100 in 0.22.\", FutureWarning)\n"
          ],
          "name": "stderr"
        },
        {
          "output_type": "execute_result",
          "data": {
            "text/plain": [
              "X1     0.163012\n",
              "X2     0.103816\n",
              "X3     0.027583\n",
              "X4     0.275405\n",
              "X5     0.088368\n",
              "X6     0.006412\n",
              "X7     0.007571\n",
              "X8     0.006643\n",
              "X9     0.007580\n",
              "X10    0.006867\n",
              "X11    0.068369\n",
              "X12    0.111822\n",
              "X13    0.025019\n",
              "X14    0.101533\n",
              "Name: RFR, dtype: float64"
            ]
          },
          "metadata": {
            "tags": []
          },
          "execution_count": 11
        }
      ]
    },
    {
      "cell_type": "markdown",
      "metadata": {
        "id": "0dEoMeW2Z88Z",
        "colab_type": "text"
      },
      "source": [
        "#### Y_bal"
      ]
    },
    {
      "cell_type": "code",
      "metadata": {
        "id": "O9JuV3HCaAJw",
        "colab_type": "code",
        "outputId": "7b3674ea-4ad1-4879-bdb2-642b981d1f42",
        "colab": {
          "base_uri": "https://localhost:8080/",
          "height": 346
        }
      },
      "source": [
        "from sklearn.ensemble import RandomForestClassifier as RFC\n",
        "\n",
        "# Fitting a Random Forest Classifier\n",
        "rfc_b = RFC().fit(X, y_bal)\n",
        "\n",
        "# Creating scores from feature_importances_ ranking (some randomness here)\n",
        "rfc_b_scores = pd.Series(data=rfc_b.feature_importances_, name='RFC_bal', \n",
        "                           index=names)\n",
        "\n",
        "rfc_b_scores"
      ],
      "execution_count": 12,
      "outputs": [
        {
          "output_type": "stream",
          "text": [
            "/usr/local/lib/python3.6/dist-packages/sklearn/ensemble/forest.py:245: FutureWarning: The default value of n_estimators will change from 10 in version 0.20 to 100 in 0.22.\n",
            "  \"10 in version 0.20 to 100 in 0.22.\", FutureWarning)\n"
          ],
          "name": "stderr"
        },
        {
          "output_type": "execute_result",
          "data": {
            "text/plain": [
              "X1     0.139816\n",
              "X2     0.128631\n",
              "X3     0.048489\n",
              "X4     0.166418\n",
              "X5     0.082785\n",
              "X6     0.013498\n",
              "X7     0.024150\n",
              "X8     0.025102\n",
              "X9     0.018298\n",
              "X10    0.024272\n",
              "X11    0.078391\n",
              "X12    0.103563\n",
              "X13    0.041178\n",
              "X14    0.105407\n",
              "Name: RFC_bal, dtype: float64"
            ]
          },
          "metadata": {
            "tags": []
          },
          "execution_count": 12
        }
      ]
    },
    {
      "cell_type": "markdown",
      "metadata": {
        "id": "pUt0DSzRaNWF",
        "colab_type": "text"
      },
      "source": [
        "#### Y_un"
      ]
    },
    {
      "cell_type": "code",
      "metadata": {
        "id": "uTuAcM7baYUv",
        "colab_type": "code",
        "outputId": "5094db82-6546-4cef-cd0f-5c2d57ab83b6",
        "colab": {
          "base_uri": "https://localhost:8080/",
          "height": 346
        }
      },
      "source": [
        "# Fitting a Random Forest Classifier\n",
        "rfc_u = RFC().fit(X, y_un)\n",
        "\n",
        "# Creating scores from feature_importances_ ranking (some randomness here)\n",
        "rfc_u_scores = pd.Series(data=rfc_u.feature_importances_, \n",
        "                             name='RFC_unbal', index=names)\n",
        "\n",
        "rfc_u_scores"
      ],
      "execution_count": 13,
      "outputs": [
        {
          "output_type": "stream",
          "text": [
            "/usr/local/lib/python3.6/dist-packages/sklearn/ensemble/forest.py:245: FutureWarning: The default value of n_estimators will change from 10 in version 0.20 to 100 in 0.22.\n",
            "  \"10 in version 0.20 to 100 in 0.22.\", FutureWarning)\n"
          ],
          "name": "stderr"
        },
        {
          "output_type": "execute_result",
          "data": {
            "text/plain": [
              "X1     0.068201\n",
              "X2     0.142481\n",
              "X3     0.049184\n",
              "X4     0.101110\n",
              "X5     0.096744\n",
              "X6     0.030833\n",
              "X7     0.052951\n",
              "X8     0.029340\n",
              "X9     0.040692\n",
              "X10    0.069171\n",
              "X11    0.067560\n",
              "X12    0.084063\n",
              "X13    0.046844\n",
              "X14    0.120828\n",
              "Name: RFC_unbal, dtype: float64"
            ]
          },
          "metadata": {
            "tags": []
          },
          "execution_count": 13
        }
      ]
    },
    {
      "cell_type": "markdown",
      "metadata": {
        "id": "LR0vdLluatex",
        "colab_type": "text"
      },
      "source": [
        "### SelectFromModel \n",
        "is a meta-transformer that can be used along with any estimator that has a `coef_` or `feature_importances_` attribute after fitting. The features are considered unimportant and removed, if the corresponding `coef_` or `feature_importances_` values are below the provided `threshold` parameter. Apart from specifying the `threshold` numerically, there are built-in heuristics for finding a `threshold` using a string argument. Available heuristics are `'mean'`, `'median'` and float multiples of these like `'0.1*mean'`."
      ]
    },
    {
      "cell_type": "code",
      "metadata": {
        "id": "3ZeUn8PTatE8",
        "colab_type": "code",
        "colab": {}
      },
      "source": [
        "# Random forest regression transformation of X (elimination of least important\n",
        "# features)\n",
        "rfr_transform = fe.SelectFromModel(rfr, prefit=True)\n",
        "\n",
        "X_rfr = rfr_transform.transform(X)\n",
        "\n",
        "\n",
        "# Random forest classifier transformation of X_bal (elimination of least important\n",
        "# features)\n",
        "rfc_b_transform = fe.SelectFromModel(rfc_b, prefit=True)\n",
        "\n",
        "X_rfc_b = rfc_b_transform.transform(X)\n",
        "\n",
        "\n",
        "# Random forest classifier transformation of X_un (elimination of least important\n",
        "# features)\n",
        "rfc_u_transform = fe.SelectFromModel(rfc_u, prefit=True)\n",
        "\n",
        "X_rfc_u = rfc_u_transform.transform(X)"
      ],
      "execution_count": 0,
      "outputs": []
    },
    {
      "cell_type": "code",
      "metadata": {
        "id": "vnXIN6lkc5hr",
        "colab_type": "code",
        "outputId": "d9b4aa11-4ba8-48df-caea-875dd1e09ae2",
        "colab": {
          "base_uri": "https://localhost:8080/",
          "height": 483
        }
      },
      "source": [
        "RF_comparisons = pd.DataFrame(data=np.array([rfr_transform.get_support(),\n",
        "                                    rfc_b_transform.get_support(),\n",
        "                                    rfc_u_transform.get_support()]).T,\n",
        "                              columns=['RF_Regressor', 'RF_balanced_classifier',\n",
        "                                     'RF_unbalanced_classifier'],\n",
        "                              index=names)\n",
        "\n",
        "RF_comparisons"
      ],
      "execution_count": 15,
      "outputs": [
        {
          "output_type": "execute_result",
          "data": {
            "text/html": [
              "<div>\n",
              "<style scoped>\n",
              "    .dataframe tbody tr th:only-of-type {\n",
              "        vertical-align: middle;\n",
              "    }\n",
              "\n",
              "    .dataframe tbody tr th {\n",
              "        vertical-align: top;\n",
              "    }\n",
              "\n",
              "    .dataframe thead th {\n",
              "        text-align: right;\n",
              "    }\n",
              "</style>\n",
              "<table border=\"1\" class=\"dataframe\">\n",
              "  <thead>\n",
              "    <tr style=\"text-align: right;\">\n",
              "      <th></th>\n",
              "      <th>RF_Regressor</th>\n",
              "      <th>RF_balanced_classifier</th>\n",
              "      <th>RF_unbalanced_classifier</th>\n",
              "    </tr>\n",
              "  </thead>\n",
              "  <tbody>\n",
              "    <tr>\n",
              "      <th>X1</th>\n",
              "      <td>True</td>\n",
              "      <td>True</td>\n",
              "      <td>False</td>\n",
              "    </tr>\n",
              "    <tr>\n",
              "      <th>X2</th>\n",
              "      <td>True</td>\n",
              "      <td>True</td>\n",
              "      <td>True</td>\n",
              "    </tr>\n",
              "    <tr>\n",
              "      <th>X3</th>\n",
              "      <td>False</td>\n",
              "      <td>False</td>\n",
              "      <td>False</td>\n",
              "    </tr>\n",
              "    <tr>\n",
              "      <th>X4</th>\n",
              "      <td>True</td>\n",
              "      <td>True</td>\n",
              "      <td>True</td>\n",
              "    </tr>\n",
              "    <tr>\n",
              "      <th>X5</th>\n",
              "      <td>True</td>\n",
              "      <td>True</td>\n",
              "      <td>True</td>\n",
              "    </tr>\n",
              "    <tr>\n",
              "      <th>X6</th>\n",
              "      <td>False</td>\n",
              "      <td>False</td>\n",
              "      <td>False</td>\n",
              "    </tr>\n",
              "    <tr>\n",
              "      <th>X7</th>\n",
              "      <td>False</td>\n",
              "      <td>False</td>\n",
              "      <td>False</td>\n",
              "    </tr>\n",
              "    <tr>\n",
              "      <th>X8</th>\n",
              "      <td>False</td>\n",
              "      <td>False</td>\n",
              "      <td>False</td>\n",
              "    </tr>\n",
              "    <tr>\n",
              "      <th>X9</th>\n",
              "      <td>False</td>\n",
              "      <td>False</td>\n",
              "      <td>False</td>\n",
              "    </tr>\n",
              "    <tr>\n",
              "      <th>X10</th>\n",
              "      <td>False</td>\n",
              "      <td>False</td>\n",
              "      <td>False</td>\n",
              "    </tr>\n",
              "    <tr>\n",
              "      <th>X11</th>\n",
              "      <td>False</td>\n",
              "      <td>True</td>\n",
              "      <td>False</td>\n",
              "    </tr>\n",
              "    <tr>\n",
              "      <th>X12</th>\n",
              "      <td>True</td>\n",
              "      <td>True</td>\n",
              "      <td>True</td>\n",
              "    </tr>\n",
              "    <tr>\n",
              "      <th>X13</th>\n",
              "      <td>False</td>\n",
              "      <td>False</td>\n",
              "      <td>False</td>\n",
              "    </tr>\n",
              "    <tr>\n",
              "      <th>X14</th>\n",
              "      <td>True</td>\n",
              "      <td>True</td>\n",
              "      <td>True</td>\n",
              "    </tr>\n",
              "  </tbody>\n",
              "</table>\n",
              "</div>"
            ],
            "text/plain": [
              "     RF_Regressor  RF_balanced_classifier  RF_unbalanced_classifier\n",
              "X1           True                    True                     False\n",
              "X2           True                    True                      True\n",
              "X3          False                   False                     False\n",
              "X4           True                    True                      True\n",
              "X5           True                    True                      True\n",
              "X6          False                   False                     False\n",
              "X7          False                   False                     False\n",
              "X8          False                   False                     False\n",
              "X9          False                   False                     False\n",
              "X10         False                   False                     False\n",
              "X11         False                    True                     False\n",
              "X12          True                    True                      True\n",
              "X13         False                   False                     False\n",
              "X14          True                    True                      True"
            ]
          },
          "metadata": {
            "tags": []
          },
          "execution_count": 15
        }
      ]
    },
    {
      "cell_type": "markdown",
      "metadata": {
        "id": "Nzas2GMebPxv",
        "colab_type": "text"
      },
      "source": [
        "## Part 4: stability selection, RFE, and everything side by side\n",
        "* These methods take longer since they are *wrapper methods* and build multiple ML models before giving results. \"They both build on top of other (model based) selection methods such as regression or SVM, building models on different subsets of data and extracting the ranking from the aggregates.\"\n",
        "* Stability selection is good for both goal 1 and 2: \"among the top performing methods for many different datasets and settings\"\n",
        " * For categorical targets\n",
        "   * ~~[RandomizedLogisticRegression](https://scikit-learn.org/stable/modules/generated/sklearn.linear_model.RandomizedLogisticRegression.html)~~ (Deprecated) use [RandomizedLogisticRegression](https://thuijskens.github.io/stability-selection/docs/randomized_lasso.html#stability_selection.randomized_lasso.RandomizedLogisticRegression)\n",
        "  \n",
        "   * [ExtraTreesClassifier](https://scikit-learn.org/stable/modules/generated/sklearn.ensemble.ExtraTreesClassifier.html#sklearn.ensemble.ExtraTreesClassifier)\n",
        " \n",
        " * For continuous targets\n",
        "   * ~~[RandomizedLasso](https://scikit-learn.org/stable/modules/generated/sklearn.linear_model.RandomizedLasso.html)~~ (Deprecated) use [RandomizedLasso](https://thuijskens.github.io/stability-selection/docs/randomized_lasso.html#stability_selection.randomized_lasso.RandomizedLogisticRegression) \n",
        "   * [ExtraTreesRegressor](https://scikit-learn.org/stable/modules/generated/sklearn.ensemble.ExtraTreesRegressor.html#sklearn.ensemble.ExtraTreesRegressor)\n",
        "   \n",
        "    Welcome to open-source, folks! [Here](https://github.com/scikit-learn/scikit-learn/issues/8995) is the original discussion to deprecate `RandomizedLogisticRegression` and `RandomizedLasso`. [Here](https://github.com/scikit-learn/scikit-learn/issues/9657) is a failed attempt to resurrect it. It looks like it'll be gone for good soon. So we shouldn't get dependent on it.\n",
        "\n",
        "    The alternatives from the deprecated scikit objects come from an official scikit-learn-contrib module called [stability_selection](https://github.com/scikit-learn-contrib/stability-selection). They also have a `StabilitySelection` object that acts similarly scikit's `SelectFromModel`.\n",
        "\n",
        "* recursive feature elimination (RFE) is best for goal 1\n",
        " * [sci-kit's RFE and RFECV (RFE with built-in cross-validation)](https://scikit-learn.org/stable/modules/feature_selection.html#recursive-feature-elimination)"
      ]
    },
    {
      "cell_type": "code",
      "metadata": {
        "id": "6722EqvCbPxx",
        "colab_type": "code",
        "outputId": "ac7dce0c-211c-4cad-91e0-19c71deef90a",
        "colab": {
          "base_uri": "https://localhost:8080/",
          "height": 446
        }
      },
      "source": [
        "!pip install git+https://github.com/scikit-learn-contrib/stability-selection.git"
      ],
      "execution_count": 16,
      "outputs": [
        {
          "output_type": "stream",
          "text": [
            "Collecting git+https://github.com/scikit-learn-contrib/stability-selection.git\n",
            "  Cloning https://github.com/scikit-learn-contrib/stability-selection.git to /tmp/pip-req-build-ugu0oi8_\n",
            "  Running command git clone -q https://github.com/scikit-learn-contrib/stability-selection.git /tmp/pip-req-build-ugu0oi8_\n",
            "Requirement already satisfied: nose>=1.1.2 in /usr/local/lib/python3.6/dist-packages (from stability-selection==0.0.1) (1.3.7)\n",
            "Requirement already satisfied: scikit-learn>=0.19 in /usr/local/lib/python3.6/dist-packages (from stability-selection==0.0.1) (0.21.3)\n",
            "Requirement already satisfied: matplotlib>=2.0.0 in /usr/local/lib/python3.6/dist-packages (from stability-selection==0.0.1) (3.0.3)\n",
            "Requirement already satisfied: numpy>=1.8.0 in /usr/local/lib/python3.6/dist-packages (from stability-selection==0.0.1) (1.16.4)\n",
            "Requirement already satisfied: joblib>=0.11 in /usr/local/lib/python3.6/dist-packages (from scikit-learn>=0.19->stability-selection==0.0.1) (0.13.2)\n",
            "Requirement already satisfied: scipy>=0.17.0 in /usr/local/lib/python3.6/dist-packages (from scikit-learn>=0.19->stability-selection==0.0.1) (1.3.0)\n",
            "Requirement already satisfied: python-dateutil>=2.1 in /usr/local/lib/python3.6/dist-packages (from matplotlib>=2.0.0->stability-selection==0.0.1) (2.5.3)\n",
            "Requirement already satisfied: kiwisolver>=1.0.1 in /usr/local/lib/python3.6/dist-packages (from matplotlib>=2.0.0->stability-selection==0.0.1) (1.1.0)\n",
            "Requirement already satisfied: cycler>=0.10 in /usr/local/lib/python3.6/dist-packages (from matplotlib>=2.0.0->stability-selection==0.0.1) (0.10.0)\n",
            "Requirement already satisfied: pyparsing!=2.0.4,!=2.1.2,!=2.1.6,>=2.0.1 in /usr/local/lib/python3.6/dist-packages (from matplotlib>=2.0.0->stability-selection==0.0.1) (2.4.2)\n",
            "Requirement already satisfied: six>=1.5 in /usr/local/lib/python3.6/dist-packages (from python-dateutil>=2.1->matplotlib>=2.0.0->stability-selection==0.0.1) (1.12.0)\n",
            "Requirement already satisfied: setuptools in /usr/local/lib/python3.6/dist-packages (from kiwisolver>=1.0.1->matplotlib>=2.0.0->stability-selection==0.0.1) (41.0.1)\n",
            "Building wheels for collected packages: stability-selection\n",
            "  Building wheel for stability-selection (setup.py) ... \u001b[?25l\u001b[?25hdone\n",
            "  Created wheel for stability-selection: filename=stability_selection-0.0.1-cp36-none-any.whl size=14463 sha256=67d4fe6973d43fbdf646c469d4c6d7305ac92dcdc42657076db9254a8b864b7d\n",
            "  Stored in directory: /tmp/pip-ephem-wheel-cache-hs7i_pqf/wheels/58/be/39/79880712b91ffa56e341ff10586a1956527813437ddd759473\n",
            "Successfully built stability-selection\n",
            "Installing collected packages: stability-selection\n",
            "Successfully installed stability-selection-0.0.1\n"
          ],
          "name": "stdout"
        }
      ]
    },
    {
      "cell_type": "markdown",
      "metadata": {
        "id": "mhLZ-il_rm_a",
        "colab_type": "text"
      },
      "source": [
        "Okay, I tried this package... it seems to have some problems... hopefully a good implementation of stability selection for Lasso and Logistic Regression will be created soon! In the meantime, scikit's RandomLasso and RandomLogisticRegression have not been removed, so you can fiddle some! Just alter the commented out code!\n",
        "* import from scikit instead of stability-selection\n",
        "* use scikit's `SelectFromModel` as shown above!\n",
        "\n",
        "Ta Da!"
      ]
    },
    {
      "cell_type": "markdown",
      "metadata": {
        "id": "etgVb1BqkyGX",
        "colab_type": "text"
      },
      "source": [
        "#### Y"
      ]
    },
    {
      "cell_type": "code",
      "metadata": {
        "id": "ViYGwRzVbk7N",
        "colab_type": "code",
        "outputId": "0747c4e3-713e-4114-dda8-76ea014700aa",
        "colab": {
          "base_uri": "https://localhost:8080/",
          "height": 111
        }
      },
      "source": [
        "\n",
        "from stability_selection import (RandomizedLogisticRegression,\n",
        "                                 RandomizedLasso, StabilitySelection,\n",
        "                                 plot_stability_path)\n",
        "\n",
        "# Stability selection using randomized lasso method\n",
        "rl = RandomizedLasso(max_iter=2000)\n",
        "rl_selector = StabilitySelection(base_estimator=rl, lambda_name='alpha',\n",
        "                                 n_jobs=2)\n",
        "rl_selector.fit(X, y);\n"
      ],
      "execution_count": 17,
      "outputs": [
        {
          "output_type": "stream",
          "text": [
            "/usr/local/lib/python3.6/dist-packages/sklearn/externals/joblib/__init__.py:15: DeprecationWarning: sklearn.externals.joblib is deprecated in 0.21 and will be removed in 0.23. Please import this functionality directly from joblib, which can be installed with: pip install joblib. If this warning is raised when loading pickled models, you may need to re-serialize those models with scikit-learn 0.21+.\n",
            "  warnings.warn(msg, category=DeprecationWarning)\n"
          ],
          "name": "stderr"
        }
      ]
    },
    {
      "cell_type": "code",
      "metadata": {
        "id": "Vnza3BUPmiRo",
        "colab_type": "code",
        "outputId": "5ffe6525-b708-456b-d077-48c0105a91de",
        "colab": {
          "base_uri": "https://localhost:8080/",
          "height": 272
        }
      },
      "source": [
        "from sklearn.ensemble import ExtraTreesRegressor as ETR\n",
        "\n",
        "# Stability selection using randomized decision trees\n",
        "etr = ETR(n_estimators=50).fit(X, y)\n",
        "\n",
        "# Creating scores from feature_importances_ ranking (some randomness here)\n",
        "etr_scores = pd.Series(data=etr.feature_importances_, \n",
        "                             name='ETR', index=names)\n",
        "\n",
        "etr_scores"
      ],
      "execution_count": 18,
      "outputs": [
        {
          "output_type": "execute_result",
          "data": {
            "text/plain": [
              "X1     0.124206\n",
              "X2     0.117021\n",
              "X3     0.029651\n",
              "X4     0.200774\n",
              "X5     0.086547\n",
              "X6     0.007626\n",
              "X7     0.007762\n",
              "X8     0.007422\n",
              "X9     0.008203\n",
              "X10    0.008077\n",
              "X11    0.109957\n",
              "X12    0.105444\n",
              "X13    0.027643\n",
              "X14    0.159667\n",
              "Name: ETR, dtype: float64"
            ]
          },
          "metadata": {
            "tags": []
          },
          "execution_count": 18
        }
      ]
    },
    {
      "cell_type": "code",
      "metadata": {
        "id": "uiwjyAya5YWL",
        "colab_type": "code",
        "outputId": "b1cb3edf-4146-4d05-98a9-3cce6e260589",
        "colab": {
          "base_uri": "https://localhost:8080/",
          "height": 346
        }
      },
      "source": [
        "from sklearn.linear_model import LinearRegression\n",
        "\n",
        "# Recursive feature elimination with cross validaiton using linear regression \n",
        "# as the model\n",
        "lr = LinearRegression()\n",
        "# rank all features, i.e continue the elimination until the last one\n",
        "rfe = fe.RFECV(lr)\n",
        "rfe.fit(X, y)\n",
        "\n",
        "rfe_score = pd.Series(data=(-1*rfe.ranking_), name='RFE', index=names)\n",
        "\n",
        "rfe_score"
      ],
      "execution_count": 19,
      "outputs": [
        {
          "output_type": "stream",
          "text": [
            "/usr/local/lib/python3.6/dist-packages/sklearn/model_selection/_split.py:1978: FutureWarning: The default value of cv will change from 3 to 5 in version 0.22. Specify it explicitly to silence this warning.\n",
            "  warnings.warn(CV_WARNING, FutureWarning)\n"
          ],
          "name": "stderr"
        },
        {
          "output_type": "execute_result",
          "data": {
            "text/plain": [
              "X1    -1\n",
              "X2    -1\n",
              "X3    -1\n",
              "X4    -1\n",
              "X5    -1\n",
              "X6    -8\n",
              "X7    -5\n",
              "X8    -7\n",
              "X9    -6\n",
              "X10   -9\n",
              "X11   -2\n",
              "X12   -4\n",
              "X13   -1\n",
              "X14   -3\n",
              "Name: RFE, dtype: int64"
            ]
          },
          "metadata": {
            "tags": []
          },
          "execution_count": 19
        }
      ]
    },
    {
      "cell_type": "markdown",
      "metadata": {
        "id": "FcGTYITXk0tb",
        "colab_type": "text"
      },
      "source": [
        "#### Y_bal"
      ]
    },
    {
      "cell_type": "code",
      "metadata": {
        "id": "bwfhOxBykwPx",
        "colab_type": "code",
        "colab": {}
      },
      "source": [
        "# stability selection using randomized logistic regression\n",
        "rlr_b = RandomizedLogisticRegression()\n",
        "rlr_b_selector = StabilitySelection(base_estimator=rlr_b, lambda_name='C',\n",
        "                                 n_jobs=2)\n",
        "rlr_b_selector.fit(X, y_bal);"
      ],
      "execution_count": 0,
      "outputs": []
    },
    {
      "cell_type": "code",
      "metadata": {
        "id": "8TLTMsPkoLzX",
        "colab_type": "code",
        "outputId": "00af412f-601d-4460-91a6-cb394ee0c418",
        "colab": {
          "base_uri": "https://localhost:8080/",
          "height": 272
        }
      },
      "source": [
        "from sklearn.ensemble import ExtraTreesClassifier as ETC\n",
        "\n",
        "# Stability selection using randomized decision trees\n",
        "etc_b = ETC(n_estimators=50).fit(X, y_bal)\n",
        "\n",
        "# Creating scores from feature_importances_ ranking (some randomness here)\n",
        "etc_b_scores = pd.Series(data=etc_b.feature_importances_, \n",
        "                             name='ETC_bal', index=names)\n",
        "\n",
        "etc_b_scores"
      ],
      "execution_count": 21,
      "outputs": [
        {
          "output_type": "execute_result",
          "data": {
            "text/plain": [
              "X1     0.114290\n",
              "X2     0.099273\n",
              "X3     0.046700\n",
              "X4     0.141563\n",
              "X5     0.078125\n",
              "X6     0.027664\n",
              "X7     0.027829\n",
              "X8     0.028930\n",
              "X9     0.030802\n",
              "X10    0.026378\n",
              "X11    0.104147\n",
              "X12    0.110390\n",
              "X13    0.043142\n",
              "X14    0.120767\n",
              "Name: ETC_bal, dtype: float64"
            ]
          },
          "metadata": {
            "tags": []
          },
          "execution_count": 21
        }
      ]
    },
    {
      "cell_type": "code",
      "metadata": {
        "id": "cRaI4yA97kLo",
        "colab_type": "code",
        "outputId": "7c32500d-5bc6-4bc1-f6b9-7dde51c8f0b7",
        "colab": {
          "base_uri": "https://localhost:8080/",
          "height": 326
        }
      },
      "source": [
        "from sklearn.linear_model import LogisticRegression\n",
        "\n",
        "# Recursive feature elimination with cross validaiton using logistic regression \n",
        "# as the model\n",
        "logr_b = LogisticRegression(solver='lbfgs')\n",
        "# rank all features, i.e continue the elimination until the last one\n",
        "rfe_b = fe.RFECV(logr_b)\n",
        "rfe_b.fit(X, y_bal)\n",
        "\n",
        "rfe_b_score = pd.Series(data=(-1*rfe_b.ranking_), name='RFE_bal', index=names)\n",
        "\n",
        "rfe_b_score"
      ],
      "execution_count": 22,
      "outputs": [
        {
          "output_type": "stream",
          "text": [
            "/usr/local/lib/python3.6/dist-packages/sklearn/model_selection/_split.py:1978: FutureWarning: The default value of cv will change from 3 to 5 in version 0.22. Specify it explicitly to silence this warning.\n",
            "  warnings.warn(CV_WARNING, FutureWarning)\n"
          ],
          "name": "stderr"
        },
        {
          "output_type": "execute_result",
          "data": {
            "text/plain": [
              "X1    -1\n",
              "X2    -1\n",
              "X3    -1\n",
              "X4    -1\n",
              "X5    -1\n",
              "X6    -4\n",
              "X7    -1\n",
              "X8    -2\n",
              "X9    -3\n",
              "X10   -1\n",
              "X11   -1\n",
              "X12   -1\n",
              "X13   -5\n",
              "X14   -1\n",
              "Name: RFE_bal, dtype: int64"
            ]
          },
          "metadata": {
            "tags": []
          },
          "execution_count": 22
        }
      ]
    },
    {
      "cell_type": "markdown",
      "metadata": {
        "id": "ZDe5AYa1lO53",
        "colab_type": "text"
      },
      "source": [
        "#### Y_un"
      ]
    },
    {
      "cell_type": "code",
      "metadata": {
        "id": "jThOwdBqlSEj",
        "colab_type": "code",
        "colab": {}
      },
      "source": [
        "# stability selection uisng randomized logistic regression\n",
        "rlr_u = RandomizedLogisticRegression(max_iter=2000)\n",
        "rlr_u_selector = StabilitySelection(base_estimator=rlr_u, lambda_name='C')\n",
        "\n",
        "rlr_u_selector.fit(X, y_un);"
      ],
      "execution_count": 0,
      "outputs": []
    },
    {
      "cell_type": "code",
      "metadata": {
        "id": "G2og3pRNoYXo",
        "colab_type": "code",
        "outputId": "87891acd-73b4-4f36-ed29-65d04c16cf6e",
        "colab": {
          "base_uri": "https://localhost:8080/",
          "height": 272
        }
      },
      "source": [
        "# Stability selection using randomized decision trees\n",
        "etc_u = ETC(n_estimators=50).fit(X, y_un)\n",
        "\n",
        "# Creating scores from feature_importances_ ranking (some randomness here)\n",
        "etc_u_scores = pd.Series(data=etc_u.feature_importances_, \n",
        "                             name='ETC_unbal', index=names)\n",
        "\n",
        "etc_u_scores"
      ],
      "execution_count": 24,
      "outputs": [
        {
          "output_type": "execute_result",
          "data": {
            "text/plain": [
              "X1     0.070536\n",
              "X2     0.082431\n",
              "X3     0.057799\n",
              "X4     0.121182\n",
              "X5     0.091107\n",
              "X6     0.045279\n",
              "X7     0.045399\n",
              "X8     0.042903\n",
              "X9     0.050784\n",
              "X10    0.049616\n",
              "X11    0.073390\n",
              "X12    0.097007\n",
              "X13    0.049434\n",
              "X14    0.123132\n",
              "Name: ETC_unbal, dtype: float64"
            ]
          },
          "metadata": {
            "tags": []
          },
          "execution_count": 24
        }
      ]
    },
    {
      "cell_type": "code",
      "metadata": {
        "id": "fCLO-2tH8KBe",
        "colab_type": "code",
        "outputId": "201c9666-2ea8-436f-8912-d30f75cab04e",
        "colab": {
          "base_uri": "https://localhost:8080/",
          "height": 326
        }
      },
      "source": [
        "# Recursive feature elimination with cross validaiton using logistic regression \n",
        "# as the model\n",
        "logr_u = LogisticRegression(solver='lbfgs')\n",
        "# rank all features, i.e continue the elimination until the last one\n",
        "rfe_u = fe.RFECV(logr_u)\n",
        "rfe_u.fit(X, y_un)\n",
        "\n",
        "rfe_u_score = pd.Series(data=(-1*rfe_u.ranking_), name='RFE_unbal', index=names)\n",
        "\n",
        "rfe_u_score"
      ],
      "execution_count": 25,
      "outputs": [
        {
          "output_type": "stream",
          "text": [
            "/usr/local/lib/python3.6/dist-packages/sklearn/model_selection/_split.py:1978: FutureWarning: The default value of cv will change from 3 to 5 in version 0.22. Specify it explicitly to silence this warning.\n",
            "  warnings.warn(CV_WARNING, FutureWarning)\n"
          ],
          "name": "stderr"
        },
        {
          "output_type": "execute_result",
          "data": {
            "text/plain": [
              "X1    -1\n",
              "X2    -1\n",
              "X3    -6\n",
              "X4    -1\n",
              "X5    -1\n",
              "X6    -4\n",
              "X7    -5\n",
              "X8    -1\n",
              "X9    -3\n",
              "X10   -1\n",
              "X11   -1\n",
              "X12   -1\n",
              "X13   -2\n",
              "X14   -1\n",
              "Name: RFE_unbal, dtype: int64"
            ]
          },
          "metadata": {
            "tags": []
          },
          "execution_count": 25
        }
      ]
    },
    {
      "cell_type": "code",
      "metadata": {
        "id": "RND1UIMRo6kk",
        "colab_type": "code",
        "outputId": "ae375812-f1c6-4c6d-dba7-72828a977d40",
        "colab": {
          "base_uri": "https://localhost:8080/",
          "height": 483
        }
      },
      "source": [
        "RL_comparisons = pd.DataFrame(data=np.array([rl_selector.get_support(),\n",
        "                                    rlr_b_selector.get_support(),\n",
        "                                    rlr_u_selector.get_support()]).T,\n",
        "                              columns=['RandomLasso', 'RandomLog_bal',\n",
        "                                     'RandomLog_unbal'],\n",
        "                              index=names)\n",
        "\n",
        "RL_comparisons"
      ],
      "execution_count": 26,
      "outputs": [
        {
          "output_type": "execute_result",
          "data": {
            "text/html": [
              "<div>\n",
              "<style scoped>\n",
              "    .dataframe tbody tr th:only-of-type {\n",
              "        vertical-align: middle;\n",
              "    }\n",
              "\n",
              "    .dataframe tbody tr th {\n",
              "        vertical-align: top;\n",
              "    }\n",
              "\n",
              "    .dataframe thead th {\n",
              "        text-align: right;\n",
              "    }\n",
              "</style>\n",
              "<table border=\"1\" class=\"dataframe\">\n",
              "  <thead>\n",
              "    <tr style=\"text-align: right;\">\n",
              "      <th></th>\n",
              "      <th>RandomLasso</th>\n",
              "      <th>RandomLog_bal</th>\n",
              "      <th>RandomLog_unbal</th>\n",
              "    </tr>\n",
              "  </thead>\n",
              "  <tbody>\n",
              "    <tr>\n",
              "      <th>X1</th>\n",
              "      <td>True</td>\n",
              "      <td>False</td>\n",
              "      <td>False</td>\n",
              "    </tr>\n",
              "    <tr>\n",
              "      <th>X2</th>\n",
              "      <td>True</td>\n",
              "      <td>False</td>\n",
              "      <td>False</td>\n",
              "    </tr>\n",
              "    <tr>\n",
              "      <th>X3</th>\n",
              "      <td>True</td>\n",
              "      <td>False</td>\n",
              "      <td>False</td>\n",
              "    </tr>\n",
              "    <tr>\n",
              "      <th>X4</th>\n",
              "      <td>True</td>\n",
              "      <td>False</td>\n",
              "      <td>False</td>\n",
              "    </tr>\n",
              "    <tr>\n",
              "      <th>X5</th>\n",
              "      <td>True</td>\n",
              "      <td>False</td>\n",
              "      <td>False</td>\n",
              "    </tr>\n",
              "    <tr>\n",
              "      <th>X6</th>\n",
              "      <td>True</td>\n",
              "      <td>False</td>\n",
              "      <td>False</td>\n",
              "    </tr>\n",
              "    <tr>\n",
              "      <th>X7</th>\n",
              "      <td>True</td>\n",
              "      <td>False</td>\n",
              "      <td>False</td>\n",
              "    </tr>\n",
              "    <tr>\n",
              "      <th>X8</th>\n",
              "      <td>True</td>\n",
              "      <td>False</td>\n",
              "      <td>False</td>\n",
              "    </tr>\n",
              "    <tr>\n",
              "      <th>X9</th>\n",
              "      <td>True</td>\n",
              "      <td>False</td>\n",
              "      <td>False</td>\n",
              "    </tr>\n",
              "    <tr>\n",
              "      <th>X10</th>\n",
              "      <td>True</td>\n",
              "      <td>False</td>\n",
              "      <td>False</td>\n",
              "    </tr>\n",
              "    <tr>\n",
              "      <th>X11</th>\n",
              "      <td>True</td>\n",
              "      <td>False</td>\n",
              "      <td>False</td>\n",
              "    </tr>\n",
              "    <tr>\n",
              "      <th>X12</th>\n",
              "      <td>True</td>\n",
              "      <td>False</td>\n",
              "      <td>False</td>\n",
              "    </tr>\n",
              "    <tr>\n",
              "      <th>X13</th>\n",
              "      <td>True</td>\n",
              "      <td>False</td>\n",
              "      <td>False</td>\n",
              "    </tr>\n",
              "    <tr>\n",
              "      <th>X14</th>\n",
              "      <td>True</td>\n",
              "      <td>False</td>\n",
              "      <td>False</td>\n",
              "    </tr>\n",
              "  </tbody>\n",
              "</table>\n",
              "</div>"
            ],
            "text/plain": [
              "     RandomLasso  RandomLog_bal  RandomLog_unbal\n",
              "X1          True          False            False\n",
              "X2          True          False            False\n",
              "X3          True          False            False\n",
              "X4          True          False            False\n",
              "X5          True          False            False\n",
              "X6          True          False            False\n",
              "X7          True          False            False\n",
              "X8          True          False            False\n",
              "X9          True          False            False\n",
              "X10         True          False            False\n",
              "X11         True          False            False\n",
              "X12         True          False            False\n",
              "X13         True          False            False\n",
              "X14         True          False            False"
            ]
          },
          "metadata": {
            "tags": []
          },
          "execution_count": 26
        }
      ]
    },
    {
      "cell_type": "code",
      "metadata": {
        "id": "U0-G9GGjpq1Z",
        "colab_type": "code",
        "outputId": "d34336db-716f-4f85-c31e-a0bcccc7393f",
        "colab": {
          "base_uri": "https://localhost:8080/",
          "height": 483
        }
      },
      "source": [
        "comparisons = pd.concat([MIR_scores, MIC_b_scores, MIC_u_scores, rfr_scores,\n",
        "                         rfc_b_scores, rfc_u_scores, etr_scores, etc_b_scores,\n",
        "                         etc_u_scores, rfe_score, rfe_b_score, rfe_u_score], \n",
        "                        axis=1)\n",
        "\n",
        "comparisons"
      ],
      "execution_count": 27,
      "outputs": [
        {
          "output_type": "execute_result",
          "data": {
            "text/html": [
              "<div>\n",
              "<style scoped>\n",
              "    .dataframe tbody tr th:only-of-type {\n",
              "        vertical-align: middle;\n",
              "    }\n",
              "\n",
              "    .dataframe tbody tr th {\n",
              "        vertical-align: top;\n",
              "    }\n",
              "\n",
              "    .dataframe thead th {\n",
              "        text-align: right;\n",
              "    }\n",
              "</style>\n",
              "<table border=\"1\" class=\"dataframe\">\n",
              "  <thead>\n",
              "    <tr style=\"text-align: right;\">\n",
              "      <th></th>\n",
              "      <th>MI_Reg_Scores</th>\n",
              "      <th>MIC_Bal_Scores</th>\n",
              "      <th>MIC_Unbal_Scores</th>\n",
              "      <th>RFR</th>\n",
              "      <th>RFC_bal</th>\n",
              "      <th>RFC_unbal</th>\n",
              "      <th>ETR</th>\n",
              "      <th>ETC_bal</th>\n",
              "      <th>ETC_unbal</th>\n",
              "      <th>RFE</th>\n",
              "      <th>RFE_bal</th>\n",
              "      <th>RFE_unbal</th>\n",
              "    </tr>\n",
              "  </thead>\n",
              "  <tbody>\n",
              "    <tr>\n",
              "      <th>X1</th>\n",
              "      <td>0.117499</td>\n",
              "      <td>0.061386</td>\n",
              "      <td>0.007352</td>\n",
              "      <td>0.163012</td>\n",
              "      <td>0.139816</td>\n",
              "      <td>0.068201</td>\n",
              "      <td>0.124206</td>\n",
              "      <td>0.114290</td>\n",
              "      <td>0.070536</td>\n",
              "      <td>-1</td>\n",
              "      <td>-1</td>\n",
              "      <td>-1</td>\n",
              "    </tr>\n",
              "    <tr>\n",
              "      <th>X2</th>\n",
              "      <td>0.155141</td>\n",
              "      <td>0.111060</td>\n",
              "      <td>0.011942</td>\n",
              "      <td>0.103816</td>\n",
              "      <td>0.128631</td>\n",
              "      <td>0.142481</td>\n",
              "      <td>0.117021</td>\n",
              "      <td>0.099273</td>\n",
              "      <td>0.082431</td>\n",
              "      <td>-1</td>\n",
              "      <td>-1</td>\n",
              "      <td>-1</td>\n",
              "    </tr>\n",
              "    <tr>\n",
              "      <th>X3</th>\n",
              "      <td>0.064104</td>\n",
              "      <td>0.006320</td>\n",
              "      <td>0.010933</td>\n",
              "      <td>0.027583</td>\n",
              "      <td>0.048489</td>\n",
              "      <td>0.049184</td>\n",
              "      <td>0.029651</td>\n",
              "      <td>0.046700</td>\n",
              "      <td>0.057799</td>\n",
              "      <td>-1</td>\n",
              "      <td>-1</td>\n",
              "      <td>-6</td>\n",
              "    </tr>\n",
              "    <tr>\n",
              "      <th>X4</th>\n",
              "      <td>0.239914</td>\n",
              "      <td>0.113995</td>\n",
              "      <td>0.042207</td>\n",
              "      <td>0.275405</td>\n",
              "      <td>0.166418</td>\n",
              "      <td>0.101110</td>\n",
              "      <td>0.200774</td>\n",
              "      <td>0.141563</td>\n",
              "      <td>0.121182</td>\n",
              "      <td>-1</td>\n",
              "      <td>-1</td>\n",
              "      <td>-1</td>\n",
              "    </tr>\n",
              "    <tr>\n",
              "      <th>X5</th>\n",
              "      <td>0.059098</td>\n",
              "      <td>0.000000</td>\n",
              "      <td>0.015932</td>\n",
              "      <td>0.088368</td>\n",
              "      <td>0.082785</td>\n",
              "      <td>0.096744</td>\n",
              "      <td>0.086547</td>\n",
              "      <td>0.078125</td>\n",
              "      <td>0.091107</td>\n",
              "      <td>-1</td>\n",
              "      <td>-1</td>\n",
              "      <td>-1</td>\n",
              "    </tr>\n",
              "    <tr>\n",
              "      <th>X6</th>\n",
              "      <td>0.006906</td>\n",
              "      <td>0.000000</td>\n",
              "      <td>0.000000</td>\n",
              "      <td>0.006412</td>\n",
              "      <td>0.013498</td>\n",
              "      <td>0.030833</td>\n",
              "      <td>0.007626</td>\n",
              "      <td>0.027664</td>\n",
              "      <td>0.045279</td>\n",
              "      <td>-8</td>\n",
              "      <td>-4</td>\n",
              "      <td>-4</td>\n",
              "    </tr>\n",
              "    <tr>\n",
              "      <th>X7</th>\n",
              "      <td>0.000000</td>\n",
              "      <td>0.000000</td>\n",
              "      <td>0.000000</td>\n",
              "      <td>0.007571</td>\n",
              "      <td>0.024150</td>\n",
              "      <td>0.052951</td>\n",
              "      <td>0.007762</td>\n",
              "      <td>0.027829</td>\n",
              "      <td>0.045399</td>\n",
              "      <td>-5</td>\n",
              "      <td>-1</td>\n",
              "      <td>-5</td>\n",
              "    </tr>\n",
              "    <tr>\n",
              "      <th>X8</th>\n",
              "      <td>0.000000</td>\n",
              "      <td>0.000000</td>\n",
              "      <td>0.006586</td>\n",
              "      <td>0.006643</td>\n",
              "      <td>0.025102</td>\n",
              "      <td>0.029340</td>\n",
              "      <td>0.007422</td>\n",
              "      <td>0.028930</td>\n",
              "      <td>0.042903</td>\n",
              "      <td>-7</td>\n",
              "      <td>-2</td>\n",
              "      <td>-1</td>\n",
              "    </tr>\n",
              "    <tr>\n",
              "      <th>X9</th>\n",
              "      <td>0.000000</td>\n",
              "      <td>0.000000</td>\n",
              "      <td>0.000000</td>\n",
              "      <td>0.007580</td>\n",
              "      <td>0.018298</td>\n",
              "      <td>0.040692</td>\n",
              "      <td>0.008203</td>\n",
              "      <td>0.030802</td>\n",
              "      <td>0.050784</td>\n",
              "      <td>-6</td>\n",
              "      <td>-3</td>\n",
              "      <td>-3</td>\n",
              "    </tr>\n",
              "    <tr>\n",
              "      <th>X10</th>\n",
              "      <td>0.000000</td>\n",
              "      <td>0.018296</td>\n",
              "      <td>0.000000</td>\n",
              "      <td>0.006867</td>\n",
              "      <td>0.024272</td>\n",
              "      <td>0.069171</td>\n",
              "      <td>0.008077</td>\n",
              "      <td>0.026378</td>\n",
              "      <td>0.049616</td>\n",
              "      <td>-9</td>\n",
              "      <td>-1</td>\n",
              "      <td>-1</td>\n",
              "    </tr>\n",
              "    <tr>\n",
              "      <th>X11</th>\n",
              "      <td>0.069175</td>\n",
              "      <td>0.063916</td>\n",
              "      <td>0.004096</td>\n",
              "      <td>0.068369</td>\n",
              "      <td>0.078391</td>\n",
              "      <td>0.067560</td>\n",
              "      <td>0.109957</td>\n",
              "      <td>0.104147</td>\n",
              "      <td>0.073390</td>\n",
              "      <td>-2</td>\n",
              "      <td>-1</td>\n",
              "      <td>-1</td>\n",
              "    </tr>\n",
              "    <tr>\n",
              "      <th>X12</th>\n",
              "      <td>0.113326</td>\n",
              "      <td>0.091263</td>\n",
              "      <td>0.011106</td>\n",
              "      <td>0.111822</td>\n",
              "      <td>0.103563</td>\n",
              "      <td>0.084063</td>\n",
              "      <td>0.105444</td>\n",
              "      <td>0.110390</td>\n",
              "      <td>0.097007</td>\n",
              "      <td>-4</td>\n",
              "      <td>-1</td>\n",
              "      <td>-1</td>\n",
              "    </tr>\n",
              "    <tr>\n",
              "      <th>X13</th>\n",
              "      <td>0.036673</td>\n",
              "      <td>0.028924</td>\n",
              "      <td>0.006392</td>\n",
              "      <td>0.025019</td>\n",
              "      <td>0.041178</td>\n",
              "      <td>0.046844</td>\n",
              "      <td>0.027643</td>\n",
              "      <td>0.043142</td>\n",
              "      <td>0.049434</td>\n",
              "      <td>-1</td>\n",
              "      <td>-5</td>\n",
              "      <td>-2</td>\n",
              "    </tr>\n",
              "    <tr>\n",
              "      <th>X14</th>\n",
              "      <td>0.220115</td>\n",
              "      <td>0.109699</td>\n",
              "      <td>0.033513</td>\n",
              "      <td>0.101533</td>\n",
              "      <td>0.105407</td>\n",
              "      <td>0.120828</td>\n",
              "      <td>0.159667</td>\n",
              "      <td>0.120767</td>\n",
              "      <td>0.123132</td>\n",
              "      <td>-3</td>\n",
              "      <td>-1</td>\n",
              "      <td>-1</td>\n",
              "    </tr>\n",
              "  </tbody>\n",
              "</table>\n",
              "</div>"
            ],
            "text/plain": [
              "     MI_Reg_Scores  MIC_Bal_Scores  MIC_Unbal_Scores  ...  RFE  RFE_bal  RFE_unbal\n",
              "X1        0.117499        0.061386          0.007352  ...   -1       -1         -1\n",
              "X2        0.155141        0.111060          0.011942  ...   -1       -1         -1\n",
              "X3        0.064104        0.006320          0.010933  ...   -1       -1         -6\n",
              "X4        0.239914        0.113995          0.042207  ...   -1       -1         -1\n",
              "X5        0.059098        0.000000          0.015932  ...   -1       -1         -1\n",
              "X6        0.006906        0.000000          0.000000  ...   -8       -4         -4\n",
              "X7        0.000000        0.000000          0.000000  ...   -5       -1         -5\n",
              "X8        0.000000        0.000000          0.006586  ...   -7       -2         -1\n",
              "X9        0.000000        0.000000          0.000000  ...   -6       -3         -3\n",
              "X10       0.000000        0.018296          0.000000  ...   -9       -1         -1\n",
              "X11       0.069175        0.063916          0.004096  ...   -2       -1         -1\n",
              "X12       0.113326        0.091263          0.011106  ...   -4       -1         -1\n",
              "X13       0.036673        0.028924          0.006392  ...   -1       -5         -2\n",
              "X14       0.220115        0.109699          0.033513  ...   -3       -1         -1\n",
              "\n",
              "[14 rows x 12 columns]"
            ]
          },
          "metadata": {
            "tags": []
          },
          "execution_count": 27
        }
      ]
    },
    {
      "cell_type": "code",
      "metadata": {
        "id": "Wf-zJWLnt7xG",
        "colab_type": "code",
        "outputId": "90ed53fe-21c7-4abe-9339-2234230c5015",
        "colab": {
          "base_uri": "https://localhost:8080/",
          "height": 483
        }
      },
      "source": [
        "from sklearn.preprocessing import MinMaxScaler\n",
        "\n",
        "scaler = MinMaxScaler()\n",
        "scaled_df = scaler.fit_transform(comparisons)\n",
        "scaled_comparisons = pd.DataFrame(scaled_df, columns=comparisons.columns,\n",
        "                                 index=names)\n",
        "\n",
        "scaled_comparisons"
      ],
      "execution_count": 28,
      "outputs": [
        {
          "output_type": "execute_result",
          "data": {
            "text/html": [
              "<div>\n",
              "<style scoped>\n",
              "    .dataframe tbody tr th:only-of-type {\n",
              "        vertical-align: middle;\n",
              "    }\n",
              "\n",
              "    .dataframe tbody tr th {\n",
              "        vertical-align: top;\n",
              "    }\n",
              "\n",
              "    .dataframe thead th {\n",
              "        text-align: right;\n",
              "    }\n",
              "</style>\n",
              "<table border=\"1\" class=\"dataframe\">\n",
              "  <thead>\n",
              "    <tr style=\"text-align: right;\">\n",
              "      <th></th>\n",
              "      <th>MI_Reg_Scores</th>\n",
              "      <th>MIC_Bal_Scores</th>\n",
              "      <th>MIC_Unbal_Scores</th>\n",
              "      <th>RFR</th>\n",
              "      <th>RFC_bal</th>\n",
              "      <th>RFC_unbal</th>\n",
              "      <th>ETR</th>\n",
              "      <th>ETC_bal</th>\n",
              "      <th>ETC_unbal</th>\n",
              "      <th>RFE</th>\n",
              "      <th>RFE_bal</th>\n",
              "      <th>RFE_unbal</th>\n",
              "    </tr>\n",
              "  </thead>\n",
              "  <tbody>\n",
              "    <tr>\n",
              "      <th>X1</th>\n",
              "      <td>0.489754</td>\n",
              "      <td>0.538498</td>\n",
              "      <td>0.174183</td>\n",
              "      <td>0.582169</td>\n",
              "      <td>0.826039</td>\n",
              "      <td>0.343473</td>\n",
              "      <td>0.603999</td>\n",
              "      <td>0.763221</td>\n",
              "      <td>0.344431</td>\n",
              "      <td>1.000</td>\n",
              "      <td>1.00</td>\n",
              "      <td>1.0</td>\n",
              "    </tr>\n",
              "    <tr>\n",
              "      <th>X2</th>\n",
              "      <td>0.646649</td>\n",
              "      <td>0.974248</td>\n",
              "      <td>0.282945</td>\n",
              "      <td>0.362105</td>\n",
              "      <td>0.752895</td>\n",
              "      <td>1.000000</td>\n",
              "      <td>0.566836</td>\n",
              "      <td>0.632850</td>\n",
              "      <td>0.492689</td>\n",
              "      <td>1.000</td>\n",
              "      <td>1.00</td>\n",
              "      <td>1.0</td>\n",
              "    </tr>\n",
              "    <tr>\n",
              "      <th>X3</th>\n",
              "      <td>0.267194</td>\n",
              "      <td>0.055444</td>\n",
              "      <td>0.259036</td>\n",
              "      <td>0.078702</td>\n",
              "      <td>0.228816</td>\n",
              "      <td>0.175393</td>\n",
              "      <td>0.114967</td>\n",
              "      <td>0.176431</td>\n",
              "      <td>0.185672</td>\n",
              "      <td>1.000</td>\n",
              "      <td>1.00</td>\n",
              "      <td>0.0</td>\n",
              "    </tr>\n",
              "    <tr>\n",
              "      <th>X4</th>\n",
              "      <td>1.000000</td>\n",
              "      <td>1.000000</td>\n",
              "      <td>1.000000</td>\n",
              "      <td>1.000000</td>\n",
              "      <td>1.000000</td>\n",
              "      <td>0.634346</td>\n",
              "      <td>1.000000</td>\n",
              "      <td>1.000000</td>\n",
              "      <td>0.975687</td>\n",
              "      <td>1.000</td>\n",
              "      <td>1.00</td>\n",
              "      <td>1.0</td>\n",
              "    </tr>\n",
              "    <tr>\n",
              "      <th>X5</th>\n",
              "      <td>0.246328</td>\n",
              "      <td>0.000000</td>\n",
              "      <td>0.377462</td>\n",
              "      <td>0.304676</td>\n",
              "      <td>0.453093</td>\n",
              "      <td>0.595752</td>\n",
              "      <td>0.409228</td>\n",
              "      <td>0.449247</td>\n",
              "      <td>0.600828</td>\n",
              "      <td>1.000</td>\n",
              "      <td>1.00</td>\n",
              "      <td>1.0</td>\n",
              "    </tr>\n",
              "    <tr>\n",
              "      <th>X6</th>\n",
              "      <td>0.028786</td>\n",
              "      <td>0.000000</td>\n",
              "      <td>0.000000</td>\n",
              "      <td>0.000000</td>\n",
              "      <td>0.000000</td>\n",
              "      <td>0.013196</td>\n",
              "      <td>0.001051</td>\n",
              "      <td>0.011160</td>\n",
              "      <td>0.029614</td>\n",
              "      <td>0.125</td>\n",
              "      <td>0.25</td>\n",
              "      <td>0.4</td>\n",
              "    </tr>\n",
              "    <tr>\n",
              "      <th>X7</th>\n",
              "      <td>0.000000</td>\n",
              "      <td>0.000000</td>\n",
              "      <td>0.000000</td>\n",
              "      <td>0.004309</td>\n",
              "      <td>0.069659</td>\n",
              "      <td>0.208686</td>\n",
              "      <td>0.001758</td>\n",
              "      <td>0.012594</td>\n",
              "      <td>0.031120</td>\n",
              "      <td>0.500</td>\n",
              "      <td>1.00</td>\n",
              "      <td>0.2</td>\n",
              "    </tr>\n",
              "    <tr>\n",
              "      <th>X8</th>\n",
              "      <td>0.000000</td>\n",
              "      <td>0.000000</td>\n",
              "      <td>0.156048</td>\n",
              "      <td>0.000858</td>\n",
              "      <td>0.075885</td>\n",
              "      <td>0.000000</td>\n",
              "      <td>0.000000</td>\n",
              "      <td>0.022159</td>\n",
              "      <td>0.000000</td>\n",
              "      <td>0.250</td>\n",
              "      <td>0.75</td>\n",
              "      <td>1.0</td>\n",
              "    </tr>\n",
              "    <tr>\n",
              "      <th>X9</th>\n",
              "      <td>0.000000</td>\n",
              "      <td>0.000000</td>\n",
              "      <td>0.000000</td>\n",
              "      <td>0.004340</td>\n",
              "      <td>0.031391</td>\n",
              "      <td>0.100341</td>\n",
              "      <td>0.004038</td>\n",
              "      <td>0.038404</td>\n",
              "      <td>0.098240</td>\n",
              "      <td>0.375</td>\n",
              "      <td>0.50</td>\n",
              "      <td>0.6</td>\n",
              "    </tr>\n",
              "    <tr>\n",
              "      <th>X10</th>\n",
              "      <td>0.000000</td>\n",
              "      <td>0.160500</td>\n",
              "      <td>0.000000</td>\n",
              "      <td>0.001690</td>\n",
              "      <td>0.070454</td>\n",
              "      <td>0.352047</td>\n",
              "      <td>0.003388</td>\n",
              "      <td>0.000000</td>\n",
              "      <td>0.083679</td>\n",
              "      <td>0.000</td>\n",
              "      <td>1.00</td>\n",
              "      <td>1.0</td>\n",
              "    </tr>\n",
              "    <tr>\n",
              "      <th>X11</th>\n",
              "      <td>0.288332</td>\n",
              "      <td>0.560691</td>\n",
              "      <td>0.097037</td>\n",
              "      <td>0.230326</td>\n",
              "      <td>0.424361</td>\n",
              "      <td>0.337810</td>\n",
              "      <td>0.530301</td>\n",
              "      <td>0.675167</td>\n",
              "      <td>0.380003</td>\n",
              "      <td>0.875</td>\n",
              "      <td>1.00</td>\n",
              "      <td>1.0</td>\n",
              "    </tr>\n",
              "    <tr>\n",
              "      <th>X12</th>\n",
              "      <td>0.472359</td>\n",
              "      <td>0.800586</td>\n",
              "      <td>0.263120</td>\n",
              "      <td>0.391868</td>\n",
              "      <td>0.588969</td>\n",
              "      <td>0.483670</td>\n",
              "      <td>0.506963</td>\n",
              "      <td>0.729360</td>\n",
              "      <td>0.674365</td>\n",
              "      <td>0.625</td>\n",
              "      <td>1.00</td>\n",
              "      <td>1.0</td>\n",
              "    </tr>\n",
              "    <tr>\n",
              "      <th>X13</th>\n",
              "      <td>0.152859</td>\n",
              "      <td>0.253733</td>\n",
              "      <td>0.151435</td>\n",
              "      <td>0.069169</td>\n",
              "      <td>0.181012</td>\n",
              "      <td>0.154714</td>\n",
              "      <td>0.104582</td>\n",
              "      <td>0.145540</td>\n",
              "      <td>0.081413</td>\n",
              "      <td>1.000</td>\n",
              "      <td>0.00</td>\n",
              "      <td>0.8</td>\n",
              "    </tr>\n",
              "    <tr>\n",
              "      <th>X14</th>\n",
              "      <td>0.917472</td>\n",
              "      <td>0.962307</td>\n",
              "      <td>0.794023</td>\n",
              "      <td>0.353618</td>\n",
              "      <td>0.601025</td>\n",
              "      <td>0.808623</td>\n",
              "      <td>0.787398</td>\n",
              "      <td>0.819454</td>\n",
              "      <td>1.000000</td>\n",
              "      <td>0.750</td>\n",
              "      <td>1.00</td>\n",
              "      <td>1.0</td>\n",
              "    </tr>\n",
              "  </tbody>\n",
              "</table>\n",
              "</div>"
            ],
            "text/plain": [
              "     MI_Reg_Scores  MIC_Bal_Scores  MIC_Unbal_Scores  ...    RFE  RFE_bal  RFE_unbal\n",
              "X1        0.489754        0.538498          0.174183  ...  1.000     1.00        1.0\n",
              "X2        0.646649        0.974248          0.282945  ...  1.000     1.00        1.0\n",
              "X3        0.267194        0.055444          0.259036  ...  1.000     1.00        0.0\n",
              "X4        1.000000        1.000000          1.000000  ...  1.000     1.00        1.0\n",
              "X5        0.246328        0.000000          0.377462  ...  1.000     1.00        1.0\n",
              "X6        0.028786        0.000000          0.000000  ...  0.125     0.25        0.4\n",
              "X7        0.000000        0.000000          0.000000  ...  0.500     1.00        0.2\n",
              "X8        0.000000        0.000000          0.156048  ...  0.250     0.75        1.0\n",
              "X9        0.000000        0.000000          0.000000  ...  0.375     0.50        0.6\n",
              "X10       0.000000        0.160500          0.000000  ...  0.000     1.00        1.0\n",
              "X11       0.288332        0.560691          0.097037  ...  0.875     1.00        1.0\n",
              "X12       0.472359        0.800586          0.263120  ...  0.625     1.00        1.0\n",
              "X13       0.152859        0.253733          0.151435  ...  1.000     0.00        0.8\n",
              "X14       0.917472        0.962307          0.794023  ...  0.750     1.00        1.0\n",
              "\n",
              "[14 rows x 12 columns]"
            ]
          },
          "metadata": {
            "tags": []
          },
          "execution_count": 28
        }
      ]
    },
    {
      "cell_type": "markdown",
      "metadata": {
        "id": "fOOPHKCkv0XE",
        "colab_type": "text"
      },
      "source": [
        "### What do you notice from the diagram below?"
      ]
    },
    {
      "cell_type": "code",
      "metadata": {
        "id": "UI33JVjEvUKh",
        "colab_type": "code",
        "outputId": "8c2539ec-6b40-44d2-b2bf-22fc3d9d7eae",
        "colab": {
          "base_uri": "https://localhost:8080/",
          "height": 676
        }
      },
      "source": [
        "plt.gcf().set_size_inches(10, 10)\n",
        "sns.heatmap(scaled_comparisons);"
      ],
      "execution_count": 32,
      "outputs": [
        {
          "output_type": "display_data",
          "data": {
            "image/png": "[encoded data removed]",
            "text/plain": [
              "<Figure size 720x720 with 2 Axes>"
            ]
          },
          "metadata": {
            "tags": []
          }
        }
      ]
    },
    {
      "cell_type": "markdown",
      "metadata": {
        "id": "trnLEttcbPx2",
        "colab_type": "text"
      },
      "source": [
        "Head, Tim [Cross Validation Gone Wrong](https://betatim.github.io/posts/cross-validation-gone-wrong/)\n",
        "\n",
        ">Choosing your input features is just one of the many choices you have to make when building your machine-learning application. Remember to make all decisions during the cross validation, otherwise you are in for a rude awakening when your model is confronted with unseen data for the first time."
      ]
    },
    {
      "cell_type": "markdown",
      "metadata": {
        "id": "TlcV0N7lbPx4",
        "colab_type": "text"
      },
      "source": [
        "![Image of Machine Learning](https://www.capgemini.com/wp-content/uploads/2017/07/machinelearning_v2.png)\n",
        "\n",
        "\\[Image by Angarita, Natalia for [Capgemini](https://www.capgemini.com/2016/05/machine-learning-has-transformed-many-aspects-of-our-everyday-life/)\\]"
      ]
    },
    {
      "cell_type": "markdown",
      "metadata": {
        "id": "3nfX15mDbPx7",
        "colab_type": "text"
      },
      "source": [
        "**I don't fully support this diagram for a few reasons.**\n",
        "\n",
        "* I would replace \"Feature Engineering\" with \"Data Cleaning\"\n",
        "* Feature engineering can be done alongside either data cleaning or training your model--it can be done before *or* after splitting your data. (But it will need to be part of the final pipeline.)\n",
        "* Any feature standardization happens **after** the split\n",
        "* And you can use cross validation instead of an independent validation set\n",
        "\n",
        "However **feature selection (Goal 1) is part of choosing and training a model and should happen *after* splitting**. Feature selection belongs safely **inside the dotted line**.\n",
        "\n",
        "\"But doesn't it make sense to make your decisions based on all the information?\"\n",
        "\n",
        "NO! Mr. Head has a point!\n",
        "\n",
        "## The number of features you end up using *is* a hyperparameter. Don't cross the dotted line while hyperparameter tuning!!! Work on goal 1 AFTER splitting.\n",
        "\n",
        "I know you want to see how your model is performing... \"just real quick\"... but don't do it!\n",
        "\n",
        "...\n",
        "\n",
        "Don't!\n",
        "\n",
        "*(Kaggle does the initial train-test split for you. It doesn't even let you **see** the target values for the test data. How you like dem apples?)*\n",
        "\n",
        "![](https://media.giphy.com/media/3o7TKGoQ8721rQQ0es/giphy.gif)\n",
        "\n",
        "What you **can** do is create multiple \"final\" models by hyperparameter tuning different types of models (all inside the dotted line!), then use the final hold-out test to see which does best.\n",
        "\n",
        "**All this is said with the caveat that you have a large enough dataset to support three way validation or a test set plus cross-validation**\n",
        "\n",
        "## On the flip side, feature *interpretation* (Goal 2) can be done with all the data, before splitting, since you are looking to get a full understanding underlying the relationships in the dataset."
      ]
    },
    {
      "cell_type": "code",
      "metadata": {
        "id": "Bc6bcXVrbPx9",
        "colab_type": "code",
        "colab": {}
      },
      "source": [
        ""
      ],
      "execution_count": 0,
      "outputs": []
    }
  ]
}