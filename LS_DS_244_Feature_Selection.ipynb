{
  "nbformat": 4,
  "nbformat_minor": 0,
  "metadata": {
    "colab": {
      "name": "LS_DS_244_Feature_Selection.ipynb",
      "version": "0.3.2",
      "provenance": [],
      "collapsed_sections": [],
      "include_colab_link": true
    },
    "kernelspec": {
      "name": "python3",
      "display_name": "Python 3"
    },
    "accelerator": "GPU"
  },
  "cells": [
    {
      "cell_type": "markdown",
      "metadata": {
        "id": "view-in-github",
        "colab_type": "text"
      },
      "source": [
        "<a href=\"https://colab.research.google.com/github/audreyakwenye/DS-Unit-2-Sprint-4-Model-Validation/blob/master/LS_DS_244_Feature_Selection.ipynb\" target=\"_parent\"><img src=\"https://colab.research.google.com/assets/colab-badge.svg\" alt=\"Open In Colab\"/></a>"
      ]
    },
    {
      "metadata": {
        "id": "EktuEhKabPw1",
        "colab_type": "text"
      },
      "cell_type": "markdown",
      "source": [
        "_Lambda School Data Science - Model Validation_\n",
        "\n",
        "\n",
        "# Feature Selection\n",
        "\n",
        "Objectives:\n",
        "* Feature importance\n",
        "* Feature selection "
      ]
    },
    {
      "metadata": {
        "id": "rqC17z_cbPw5",
        "colab_type": "text"
      },
      "cell_type": "markdown",
      "source": [
        "## Yesterday we saw that...\n",
        "\n",
        "## Less isn't always more (but sometimes it is)\n",
        "\n",
        "## More isn't always better (but sometimes it is)\n",
        "\n",
        "\n",
        "![Image of Terry Crews](https://media.giphy.com/media/b8kHKZq3YFfnq/giphy.gif)"
      ]
    },
    {
      "metadata": {
        "id": "90pyhgLYbPw8",
        "colab_type": "text"
      },
      "cell_type": "markdown",
      "source": [
        "Saavas, Ando [Feature Selection (4 parts)](https://blog.datadive.net/selecting-good-features-part-i-univariate-selection/)\n",
        "\n",
        ">There are in general two reasons why feature selection is used:\n",
        "1. Reducing the number of features, to reduce overfitting and improve the generalization of models.\n",
        "2. To gain a better understanding of the features and their relationship to the response variables.\n",
        "\n",
        ">These two goals are often at odds with each other and thus require different approaches: depending on the data at hand a feature selection method that is good for goal (1) isn’t necessarily good for goal (2) and vice versa. What seems to happen often though is that people use their favourite method (or whatever is most conveniently accessible from their tool of choice) indiscriminately, especially methods more suitable for (1) for achieving (2)."
      ]
    },
    {
      "metadata": {
        "id": "SkCG574vbPxB",
        "colab_type": "text"
      },
      "cell_type": "markdown",
      "source": [
        "While they are not always mutually exclusive, here's a little bit about what's going on with these two goals"
      ]
    },
    {
      "metadata": {
        "id": "BJhlNZEEbPxE",
        "colab_type": "text"
      },
      "cell_type": "markdown",
      "source": [
        "### Goal 1: Reducing Features, Reducing Overfitting, Improving Generalization of Models\n",
        "\n",
        "This is when you're actually trying to engineer a packaged, machine learning pipeline that is streamlined and highly generalizable to novel data as more is collected, and you don't really care \"how\" it works as long as it does work. \n",
        "\n",
        "Approaches that are good at this tend to fail at Goal 2 because they handle multicollinearity by (sometime randomly) choosing/indicating just one of a group of strongly correlated features. This is good to reduce redundancy, but bad if you want to interpret the data."
      ]
    },
    {
      "metadata": {
        "id": "tfvPQq4ebPxI",
        "colab_type": "text"
      },
      "cell_type": "markdown",
      "source": [
        "### Goal 2: Gaining a Better Understanding of the Features and their Relationships\n",
        "\n",
        "This is when you want a good, interpretable model or you're doing data science more for analysis than engineering. Company asks you \"How do we increase X?\" and you can tell them all the factors that correlate to it and their predictive power.\n",
        "\n",
        "Approaches that are good at this tend to fail at Goal 1 because, well, they *don't* handle the multicollinearity problem. If three features are all strongly correlated to each other as well as the output, they will all have high scores. But including all three features in a model is redundant."
      ]
    },
    {
      "metadata": {
        "id": "UfJnm9g_bPxL",
        "colab_type": "text"
      },
      "cell_type": "markdown",
      "source": [
        "### Each part in Saavas's Blog series describes an increasingly complex (and computationally costly) set of methods for feature selection and interpretation.\n",
        "\n",
        "The ultimate comparison is completed using an adaptation of a dataset called Friedman's 1 regression dataset from Friedman, Jerome H.'s '[Multivariate Adaptive Regression Splines](http://www.stat.ucla.edu/~cocteau/stat204/readings/mars.pdf).\n",
        ">The data is generated according to formula $y=10sin(πX_1X_2)+20(X_3–0.5)^2+10X_4+5X_5+ϵ$, where the $X_1$ to $X_5$ are drawn from uniform distribution and ϵ is the standard normal deviate N(0,1). Additionally, the original dataset had five noise variables $X_6,…,X_{10}$, independent of the response variable. We will increase the number of variables further and add four variables $X_{11},…,X_{14}$ each of which are very strongly correlated with $X_1,…,X_4$, respectively, generated by $f(x)=x+N(0,0.01)$. This yields a correlation coefficient of more than 0.999 between the variables. This will illustrate how different feature ranking methods deal with correlations in the data.\n",
        "\n",
        "**Okay, that's a lot--here's what you need to know:**\n",
        "1.   $X_1$ and $X_2$ have the same non-linear relationship to $Y$ -- though together they do have a not-quite-linear relationship to $Y$ (with sinusoidal noise--but the range of the values doesn't let it get negative)\n",
        "2.   $X_3$ has a quadratic relationship with $Y$\n",
        "3.   $X_4$ and $X_5$ have linear relationships to $Y$, with $X_4$ being weighted twice as heavily as $X_5$\n",
        "4.   $X_6$ through $X_{10}$ are random and have NO relationship to $Y$\n",
        "5.   $X_{11}$ through $X_{14}$ correlate strongly to $X_1$ through $X_4$ respectively (and thus have the same respective relationships with $Y$)\n",
        "\n",
        "\n",
        "This will help us see the difference between the models in selecting features and interpreting features\n",
        "* how well they deal with multicollinearity (#5)\n",
        "* how well they identify noise (#4)\n",
        "* how well they identify different kinds of relationships\n",
        "* how well they identify/interpret predictive power of individual variables."
      ]
    },
    {
      "metadata": {
        "id": "Xvs96UWD4XQs",
        "colab_type": "code",
        "colab": {}
      },
      "cell_type": "code",
      "source": [
        "# import\n",
        "import numpy as np\n",
        "\n",
        "# Create the dataset\n",
        "# from https://blog.datadive.net/selecting-good-features-part-iv-stability-selection-rfe-and-everything-side-by-side/\n",
        "\n",
        "np.random.seed(42)\n",
        "\n",
        "size = 1500 # I increased the size from what's given in the link\n",
        "Xs = np.random.uniform(0, 1, (size, 14)) \n",
        "# Changed variable name to Xs to use X later\n",
        " \n",
        "#\"Friedamn #1” regression problem\n",
        "Y = (10 * np.sin(np.pi*Xs[:,0]*Xs[:,1]) + 20*(Xs[:,2] - .5)**2 +\n",
        "     10*Xs[:,3] + 5*Xs[:,4] + np.random.normal(0,1))\n",
        "#Add 4 additional correlated variables (correlated with X1-X4)\n",
        "Xs[:,10:] = Xs[:,:4] + np.random.normal(0, .025, (size,4))\n",
        " \n",
        "names = [\"X%s\" % i for i in range(1,15)]"
      ],
      "execution_count": 0,
      "outputs": []
    },
    {
      "metadata": {
        "id": "7qjVVgwKB37G",
        "colab_type": "code",
        "outputId": "0ae420e1-51d3-4260-def8-25c669f19dc5",
        "colab": {
          "base_uri": "https://localhost:8080/",
          "height": 204
        }
      },
      "cell_type": "code",
      "source": [
        "# Putting it into pandas--because... I like pandas. And usually you'll be\n",
        "# working with dataframes not arrays (you'll care what the column titles are)\n",
        "import pandas as pd\n",
        "\n",
        "friedmanX = pd.DataFrame(data=Xs, columns=names)\n",
        "friedmanY = pd.Series(data=Y, name='Y')\n",
        "\n",
        "friedman = friedmanX.join(friedmanY)\n",
        "\n",
        "friedman.head()"
      ],
      "execution_count": 0,
      "outputs": [
        {
          "output_type": "execute_result",
          "data": {
            "text/html": [
              "<div>\n",
              "<style scoped>\n",
              "    .dataframe tbody tr th:only-of-type {\n",
              "        vertical-align: middle;\n",
              "    }\n",
              "\n",
              "    .dataframe tbody tr th {\n",
              "        vertical-align: top;\n",
              "    }\n",
              "\n",
              "    .dataframe thead th {\n",
              "        text-align: right;\n",
              "    }\n",
              "</style>\n",
              "<table border=\"1\" class=\"dataframe\">\n",
              "  <thead>\n",
              "    <tr style=\"text-align: right;\">\n",
              "      <th></th>\n",
              "      <th>X1</th>\n",
              "      <th>X2</th>\n",
              "      <th>X3</th>\n",
              "      <th>X4</th>\n",
              "      <th>X5</th>\n",
              "      <th>X6</th>\n",
              "      <th>X7</th>\n",
              "      <th>X8</th>\n",
              "      <th>X9</th>\n",
              "      <th>X10</th>\n",
              "      <th>X11</th>\n",
              "      <th>X12</th>\n",
              "      <th>X13</th>\n",
              "      <th>X14</th>\n",
              "      <th>Y</th>\n",
              "    </tr>\n",
              "  </thead>\n",
              "  <tbody>\n",
              "    <tr>\n",
              "      <th>0</th>\n",
              "      <td>0.374540</td>\n",
              "      <td>0.950714</td>\n",
              "      <td>0.731994</td>\n",
              "      <td>0.598658</td>\n",
              "      <td>0.156019</td>\n",
              "      <td>0.155995</td>\n",
              "      <td>0.058084</td>\n",
              "      <td>0.866176</td>\n",
              "      <td>0.601115</td>\n",
              "      <td>0.708073</td>\n",
              "      <td>0.413325</td>\n",
              "      <td>0.956360</td>\n",
              "      <td>0.698205</td>\n",
              "      <td>0.568729</td>\n",
              "      <td>16.730915</td>\n",
              "    </tr>\n",
              "    <tr>\n",
              "      <th>1</th>\n",
              "      <td>0.181825</td>\n",
              "      <td>0.183405</td>\n",
              "      <td>0.304242</td>\n",
              "      <td>0.524756</td>\n",
              "      <td>0.431945</td>\n",
              "      <td>0.291229</td>\n",
              "      <td>0.611853</td>\n",
              "      <td>0.139494</td>\n",
              "      <td>0.292145</td>\n",
              "      <td>0.366362</td>\n",
              "      <td>0.223650</td>\n",
              "      <td>0.167876</td>\n",
              "      <td>0.280668</td>\n",
              "      <td>0.561691</td>\n",
              "      <td>9.112092</td>\n",
              "    </tr>\n",
              "    <tr>\n",
              "      <th>2</th>\n",
              "      <td>0.592415</td>\n",
              "      <td>0.046450</td>\n",
              "      <td>0.607545</td>\n",
              "      <td>0.170524</td>\n",
              "      <td>0.065052</td>\n",
              "      <td>0.948886</td>\n",
              "      <td>0.965632</td>\n",
              "      <td>0.808397</td>\n",
              "      <td>0.304614</td>\n",
              "      <td>0.097672</td>\n",
              "      <td>0.617692</td>\n",
              "      <td>0.078302</td>\n",
              "      <td>0.583794</td>\n",
              "      <td>0.132396</td>\n",
              "      <td>3.017894</td>\n",
              "    </tr>\n",
              "    <tr>\n",
              "      <th>3</th>\n",
              "      <td>0.034389</td>\n",
              "      <td>0.909320</td>\n",
              "      <td>0.258780</td>\n",
              "      <td>0.662522</td>\n",
              "      <td>0.311711</td>\n",
              "      <td>0.520068</td>\n",
              "      <td>0.546710</td>\n",
              "      <td>0.184854</td>\n",
              "      <td>0.969585</td>\n",
              "      <td>0.775133</td>\n",
              "      <td>0.037718</td>\n",
              "      <td>0.917699</td>\n",
              "      <td>0.267895</td>\n",
              "      <td>0.699477</td>\n",
              "      <td>10.220976</td>\n",
              "    </tr>\n",
              "    <tr>\n",
              "      <th>4</th>\n",
              "      <td>0.088493</td>\n",
              "      <td>0.195983</td>\n",
              "      <td>0.045227</td>\n",
              "      <td>0.325330</td>\n",
              "      <td>0.388677</td>\n",
              "      <td>0.271349</td>\n",
              "      <td>0.828738</td>\n",
              "      <td>0.356753</td>\n",
              "      <td>0.280935</td>\n",
              "      <td>0.542696</td>\n",
              "      <td>0.045148</td>\n",
              "      <td>0.217475</td>\n",
              "      <td>0.017812</td>\n",
              "      <td>0.346724</td>\n",
              "      <td>9.770285</td>\n",
              "    </tr>\n",
              "  </tbody>\n",
              "</table>\n",
              "</div>"
            ],
            "text/plain": [
              "         X1        X2        X3        X4        X5        X6        X7  \\\n",
              "0  0.374540  0.950714  0.731994  0.598658  0.156019  0.155995  0.058084   \n",
              "1  0.181825  0.183405  0.304242  0.524756  0.431945  0.291229  0.611853   \n",
              "2  0.592415  0.046450  0.607545  0.170524  0.065052  0.948886  0.965632   \n",
              "3  0.034389  0.909320  0.258780  0.662522  0.311711  0.520068  0.546710   \n",
              "4  0.088493  0.195983  0.045227  0.325330  0.388677  0.271349  0.828738   \n",
              "\n",
              "         X8        X9       X10       X11       X12       X13       X14  \\\n",
              "0  0.866176  0.601115  0.708073  0.413325  0.956360  0.698205  0.568729   \n",
              "1  0.139494  0.292145  0.366362  0.223650  0.167876  0.280668  0.561691   \n",
              "2  0.808397  0.304614  0.097672  0.617692  0.078302  0.583794  0.132396   \n",
              "3  0.184854  0.969585  0.775133  0.037718  0.917699  0.267895  0.699477   \n",
              "4  0.356753  0.280935  0.542696  0.045148  0.217475  0.017812  0.346724   \n",
              "\n",
              "           Y  \n",
              "0  16.730915  \n",
              "1   9.112092  \n",
              "2   3.017894  \n",
              "3  10.220976  \n",
              "4   9.770285  "
            ]
          },
          "metadata": {
            "tags": []
          },
          "execution_count": 2
        }
      ]
    },
    {
      "metadata": {
        "id": "uhDRfR-eF7pY",
        "colab_type": "text"
      },
      "cell_type": "markdown",
      "source": [
        "We want to be able to look at classification problems too, so let's bin the Y values to create a categorical feature from the Y values. It should have *roughly* similar relationships to the X features as Y does."
      ]
    },
    {
      "metadata": {
        "id": "-V1FuPAaFoUV",
        "colab_type": "code",
        "outputId": "c849e0ac-0605-474c-a5b1-565906682554",
        "colab": {
          "base_uri": "https://localhost:8080/",
          "height": 412
        }
      },
      "cell_type": "code",
      "source": [
        "# First, let's take a look at what Y looks like\n",
        "import matplotlib.pyplot as plt\n",
        "import seaborn as sns\n",
        "\n",
        "sns.distplot(friedmanY);"
      ],
      "execution_count": 0,
      "outputs": [
        {
          "output_type": "stream",
          "text": [
            "/usr/local/lib/python3.6/dist-packages/matplotlib/axes/_axes.py:6521: MatplotlibDeprecationWarning: \n",
            "The 'normed' kwarg was deprecated in Matplotlib 2.1 and will be removed in 3.1. Use 'density' instead.\n",
            "  alternative=\"'density'\", removal=\"3.1\")\n"
          ],
          "name": "stderr"
        },
        {
          "output_type": "display_data",
          "data": {
            "image/png": "[encoded data removed]",
            "text/plain": [
              "<Figure size 576x396 with 1 Axes>"
            ]
          },
          "metadata": {
            "tags": []
          }
        }
      ]
    },
    {
      "metadata": {
        "id": "JvQeWRthGvht",
        "colab_type": "text"
      },
      "cell_type": "markdown",
      "source": [
        "That's pretty normal, let's make two binary categories--one balanced, one unbalanced, to see the difference.\n",
        "* balanced binary variable will be split evenly in half\n",
        "* unbalanced binary variable will indicate whether $Y <5$."
      ]
    },
    {
      "metadata": {
        "id": "fSQHngeGHrbj",
        "colab_type": "code",
        "outputId": "b31ce394-60be-4cec-f379-756203869b69",
        "colab": {
          "base_uri": "https://localhost:8080/",
          "height": 136
        }
      },
      "cell_type": "code",
      "source": [
        "friedman['Y_bal'] = friedman['Y'].apply(lambda y: 1 if (y < friedman.Y.median()) else 0)\n",
        "friedman['Y_un'] = friedman['Y'].apply(lambda y: 1 if (y < 5) else 0)\n",
        "\n",
        "print(friedman.Y_bal.value_counts(), '\\n\\n', friedman.Y_un.value_counts())"
      ],
      "execution_count": 0,
      "outputs": [
        {
          "output_type": "stream",
          "text": [
            "1    750\n",
            "0    750\n",
            "Name: Y_bal, dtype: int64 \n",
            "\n",
            " 0    1461\n",
            "1      39\n",
            "Name: Y_un, dtype: int64\n"
          ],
          "name": "stdout"
        }
      ]
    },
    {
      "metadata": {
        "id": "keb3N-12oT9U",
        "colab_type": "code",
        "outputId": "027ec6b0-5229-4480-bc12-e38682f81a17",
        "colab": {
          "base_uri": "https://localhost:8080/",
          "height": 204
        }
      },
      "cell_type": "code",
      "source": [
        "friedman.head()"
      ],
      "execution_count": 0,
      "outputs": [
        {
          "output_type": "execute_result",
          "data": {
            "text/html": [
              "<div>\n",
              "<style scoped>\n",
              "    .dataframe tbody tr th:only-of-type {\n",
              "        vertical-align: middle;\n",
              "    }\n",
              "\n",
              "    .dataframe tbody tr th {\n",
              "        vertical-align: top;\n",
              "    }\n",
              "\n",
              "    .dataframe thead th {\n",
              "        text-align: right;\n",
              "    }\n",
              "</style>\n",
              "<table border=\"1\" class=\"dataframe\">\n",
              "  <thead>\n",
              "    <tr style=\"text-align: right;\">\n",
              "      <th></th>\n",
              "      <th>X1</th>\n",
              "      <th>X2</th>\n",
              "      <th>X3</th>\n",
              "      <th>X4</th>\n",
              "      <th>X5</th>\n",
              "      <th>X6</th>\n",
              "      <th>X7</th>\n",
              "      <th>X8</th>\n",
              "      <th>X9</th>\n",
              "      <th>X10</th>\n",
              "      <th>X11</th>\n",
              "      <th>X12</th>\n",
              "      <th>X13</th>\n",
              "      <th>X14</th>\n",
              "      <th>Y</th>\n",
              "      <th>Y_bal</th>\n",
              "      <th>Y_un</th>\n",
              "    </tr>\n",
              "  </thead>\n",
              "  <tbody>\n",
              "    <tr>\n",
              "      <th>0</th>\n",
              "      <td>0.374540</td>\n",
              "      <td>0.950714</td>\n",
              "      <td>0.731994</td>\n",
              "      <td>0.598658</td>\n",
              "      <td>0.156019</td>\n",
              "      <td>0.155995</td>\n",
              "      <td>0.058084</td>\n",
              "      <td>0.866176</td>\n",
              "      <td>0.601115</td>\n",
              "      <td>0.708073</td>\n",
              "      <td>0.413325</td>\n",
              "      <td>0.956360</td>\n",
              "      <td>0.698205</td>\n",
              "      <td>0.568729</td>\n",
              "      <td>16.730915</td>\n",
              "      <td>0</td>\n",
              "      <td>0</td>\n",
              "    </tr>\n",
              "    <tr>\n",
              "      <th>1</th>\n",
              "      <td>0.181825</td>\n",
              "      <td>0.183405</td>\n",
              "      <td>0.304242</td>\n",
              "      <td>0.524756</td>\n",
              "      <td>0.431945</td>\n",
              "      <td>0.291229</td>\n",
              "      <td>0.611853</td>\n",
              "      <td>0.139494</td>\n",
              "      <td>0.292145</td>\n",
              "      <td>0.366362</td>\n",
              "      <td>0.223650</td>\n",
              "      <td>0.167876</td>\n",
              "      <td>0.280668</td>\n",
              "      <td>0.561691</td>\n",
              "      <td>9.112092</td>\n",
              "      <td>1</td>\n",
              "      <td>0</td>\n",
              "    </tr>\n",
              "    <tr>\n",
              "      <th>2</th>\n",
              "      <td>0.592415</td>\n",
              "      <td>0.046450</td>\n",
              "      <td>0.607545</td>\n",
              "      <td>0.170524</td>\n",
              "      <td>0.065052</td>\n",
              "      <td>0.948886</td>\n",
              "      <td>0.965632</td>\n",
              "      <td>0.808397</td>\n",
              "      <td>0.304614</td>\n",
              "      <td>0.097672</td>\n",
              "      <td>0.617692</td>\n",
              "      <td>0.078302</td>\n",
              "      <td>0.583794</td>\n",
              "      <td>0.132396</td>\n",
              "      <td>3.017894</td>\n",
              "      <td>1</td>\n",
              "      <td>1</td>\n",
              "    </tr>\n",
              "    <tr>\n",
              "      <th>3</th>\n",
              "      <td>0.034389</td>\n",
              "      <td>0.909320</td>\n",
              "      <td>0.258780</td>\n",
              "      <td>0.662522</td>\n",
              "      <td>0.311711</td>\n",
              "      <td>0.520068</td>\n",
              "      <td>0.546710</td>\n",
              "      <td>0.184854</td>\n",
              "      <td>0.969585</td>\n",
              "      <td>0.775133</td>\n",
              "      <td>0.037718</td>\n",
              "      <td>0.917699</td>\n",
              "      <td>0.267895</td>\n",
              "      <td>0.699477</td>\n",
              "      <td>10.220976</td>\n",
              "      <td>1</td>\n",
              "      <td>0</td>\n",
              "    </tr>\n",
              "    <tr>\n",
              "      <th>4</th>\n",
              "      <td>0.088493</td>\n",
              "      <td>0.195983</td>\n",
              "      <td>0.045227</td>\n",
              "      <td>0.325330</td>\n",
              "      <td>0.388677</td>\n",
              "      <td>0.271349</td>\n",
              "      <td>0.828738</td>\n",
              "      <td>0.356753</td>\n",
              "      <td>0.280935</td>\n",
              "      <td>0.542696</td>\n",
              "      <td>0.045148</td>\n",
              "      <td>0.217475</td>\n",
              "      <td>0.017812</td>\n",
              "      <td>0.346724</td>\n",
              "      <td>9.770285</td>\n",
              "      <td>1</td>\n",
              "      <td>0</td>\n",
              "    </tr>\n",
              "  </tbody>\n",
              "</table>\n",
              "</div>"
            ],
            "text/plain": [
              "         X1        X2        X3        X4        X5        X6        X7  \\\n",
              "0  0.374540  0.950714  0.731994  0.598658  0.156019  0.155995  0.058084   \n",
              "1  0.181825  0.183405  0.304242  0.524756  0.431945  0.291229  0.611853   \n",
              "2  0.592415  0.046450  0.607545  0.170524  0.065052  0.948886  0.965632   \n",
              "3  0.034389  0.909320  0.258780  0.662522  0.311711  0.520068  0.546710   \n",
              "4  0.088493  0.195983  0.045227  0.325330  0.388677  0.271349  0.828738   \n",
              "\n",
              "         X8        X9       X10       X11       X12       X13       X14  \\\n",
              "0  0.866176  0.601115  0.708073  0.413325  0.956360  0.698205  0.568729   \n",
              "1  0.139494  0.292145  0.366362  0.223650  0.167876  0.280668  0.561691   \n",
              "2  0.808397  0.304614  0.097672  0.617692  0.078302  0.583794  0.132396   \n",
              "3  0.184854  0.969585  0.775133  0.037718  0.917699  0.267895  0.699477   \n",
              "4  0.356753  0.280935  0.542696  0.045148  0.217475  0.017812  0.346724   \n",
              "\n",
              "           Y  Y_bal  Y_un  \n",
              "0  16.730915      0     0  \n",
              "1   9.112092      1     0  \n",
              "2   3.017894      1     1  \n",
              "3  10.220976      1     0  \n",
              "4   9.770285      1     0  "
            ]
          },
          "metadata": {
            "tags": []
          },
          "execution_count": 5
        }
      ]
    },
    {
      "metadata": {
        "id": "l8Ab5FKxjkDy",
        "colab_type": "code",
        "colab": {}
      },
      "cell_type": "code",
      "source": [
        "# Finally, let's put it all into our usual X and y's\n",
        "# (I already have the X dataframe as friedmanX, but I'm working backward to\n",
        "# follow a usual flow)\n",
        "\n",
        "X = friedman.drop(columns=['Y', 'Y_bal', 'Y_un'])\n",
        "\n",
        "y = friedman.Y\n",
        "\n",
        "y_bal = friedman.Y_bal\n",
        "\n",
        "y_un = friedman.Y_un"
      ],
      "execution_count": 0,
      "outputs": []
    },
    {
      "metadata": {
        "id": "q11QTvNXI87Z",
        "colab_type": "text"
      },
      "cell_type": "markdown",
      "source": [
        "#### Alright! Let's get to it! Remember, with each part, we are increasing complexity of the analysis and thereby increasing the computational costs and runtime."
      ]
    },
    {
      "metadata": {
        "id": "K_7irYK2QfES",
        "colab_type": "text"
      },
      "cell_type": "markdown",
      "source": [
        "So even before univariate selection--which compares each feature to the output feature one by one--there is a [VarianceThreshold](https://scikit-learn.org/stable/modules/generated/sklearn.feature_selection.VarianceThreshold.html#sklearn.feature_selection.VarianceThreshold) object in sklearn.feature_selection. It defaults to getting rid of any features that are the same across all samples. Great for cleaning data in that respect. \n",
        "\n",
        "The `threshold` parameter defaults to `0` to show the above behavior. if you change it, make sure you have good reason. Use with caution."
      ]
    },
    {
      "metadata": {
        "id": "flvDcuYAbPxP",
        "colab_type": "text"
      },
      "cell_type": "markdown",
      "source": [
        "## Part 1: univariate selection\n",
        "* Best for goal 2 - getting \"a better understanding of the data, its structure and characteristics\"\n",
        "* unable to remove redundancy (for example selecting only the best feature among a subset of strongly correlated features)\n",
        "* Super fast - can be used for baseline models or just after baseline\n",
        "\n",
        "[sci-kit's univariariate feature selection objects and techniques](https://scikit-learn.org/stable/modules/feature_selection.html#univariate-feature-selection)"
      ]
    },
    {
      "metadata": {
        "id": "qZqzkGVmM_aj",
        "colab_type": "text"
      },
      "cell_type": "markdown",
      "source": [
        "#### Y (continuous output)\n",
        "\n",
        "options (they do what they sound like they do)\n",
        "* SelectKBest\n",
        "* SelectPercentile\n",
        "\n",
        "both take the same parameter options for `score_func`\n",
        "* `f_regression`: scores by correlation coefficient, f value, p value--basically automates what you can do by looking at a correlation matrix except without the ability to recognize collinearity\n",
        "* `mutual_info_regression`: can capture non-linear correlations, but doesn't handle noise well\n",
        "\n",
        "Let's take a look at mutual information (MI)"
      ]
    },
    {
      "metadata": {
        "id": "lsDZpC8PM-cc",
        "colab_type": "code",
        "outputId": "57baeec7-0d9f-4c21-e75b-81e002d103e7",
        "colab": {
          "base_uri": "https://localhost:8080/",
          "height": 272
        }
      },
      "cell_type": "code",
      "source": [
        "import sklearn.feature_selection as fe\n",
        "\n",
        "MIR = fe.SelectKBest(fe.mutual_info_regression, k='all').fit(X, y)\n",
        "\n",
        "MIR_scores = pd.Series(data=MIR.scores_, name='MI_Reg_Scores', index=names)\n",
        "\n",
        "MIR_scores"
      ],
      "execution_count": 0,
      "outputs": [
        {
          "output_type": "execute_result",
          "data": {
            "text/plain": [
              "X1     0.117499\n",
              "X2     0.155141\n",
              "X3     0.064104\n",
              "X4     0.239914\n",
              "X5     0.059098\n",
              "X6     0.006906\n",
              "X7     0.000000\n",
              "X8     0.000000\n",
              "X9     0.000000\n",
              "X10    0.000000\n",
              "X11    0.069175\n",
              "X12    0.113326\n",
              "X13    0.036673\n",
              "X14    0.220115\n",
              "Name: MI_Reg_Scores, dtype: float64"
            ]
          },
          "metadata": {
            "tags": []
          },
          "execution_count": 7
        }
      ]
    },
    {
      "metadata": {
        "id": "uIUBoCf8NsIA",
        "colab_type": "text"
      },
      "cell_type": "markdown",
      "source": [
        "#### Y_bal (balanced binary output)\n",
        "\n",
        "options\n",
        "* SelectKBest\n",
        "* SelectPercentile\n",
        "\n",
        "these options will cut out features with error rates above a certain tolerance level, define in parameter -`alpha`\n",
        "* SelectFpr (false positive rate--false positives predicted/total negatives in dataset)\n",
        "* SelectFdr (false discovery rate--false positives predicted/total positives predicted)\n",
        "* ~~SelectFwe (family-wise error--for multinomial classification tasks)~~\n",
        "\n",
        "all have the same optons for parameter `score_func`\n",
        "* `chi2`\n",
        "* `f_classif`\n",
        "* `mutual_info_classif`"
      ]
    },
    {
      "metadata": {
        "id": "vEkioNaHbPxR",
        "colab_type": "code",
        "outputId": "01198e23-0db3-47df-97af-aa1c6b687fdb",
        "colab": {
          "base_uri": "https://localhost:8080/",
          "height": 272
        }
      },
      "cell_type": "code",
      "source": [
        "MIC_b = fe.SelectFpr(fe.mutual_info_classif).fit(X, y_bal)\n",
        "\n",
        "MIC_b_scores = pd.Series(data=MIC_b.scores_, \n",
        "                              name='MIC_Bal_Scores', index=names)\n",
        "\n",
        "MIC_b_scores"
      ],
      "execution_count": 0,
      "outputs": [
        {
          "output_type": "execute_result",
          "data": {
            "text/plain": [
              "X1     0.061386\n",
              "X2     0.111060\n",
              "X3     0.006320\n",
              "X4     0.113995\n",
              "X5     0.000000\n",
              "X6     0.000000\n",
              "X7     0.000000\n",
              "X8     0.000000\n",
              "X9     0.000000\n",
              "X10    0.018296\n",
              "X11    0.063916\n",
              "X12    0.091263\n",
              "X13    0.028924\n",
              "X14    0.109699\n",
              "Name: MIC_Bal_Scores, dtype: float64"
            ]
          },
          "metadata": {
            "tags": []
          },
          "execution_count": 8
        }
      ]
    },
    {
      "metadata": {
        "id": "d0fi6NoHXG7u",
        "colab_type": "text"
      },
      "cell_type": "markdown",
      "source": [
        "#### Y_un (unbalanced binary output)"
      ]
    },
    {
      "metadata": {
        "id": "6CWdeeg0XGhh",
        "colab_type": "code",
        "outputId": "010effb2-8543-4524-8a84-1c667cff0302",
        "colab": {
          "base_uri": "https://localhost:8080/",
          "height": 272
        }
      },
      "cell_type": "code",
      "source": [
        "MIC_u = fe.SelectFpr(fe.mutual_info_classif).fit(X, y_un)\n",
        "\n",
        "MIC_u_scores = pd.Series(data=MIC_u.scores_, \n",
        "                              name='MIC_Unbal_Scores', index=names)\n",
        "\n",
        "MIC_u_scores"
      ],
      "execution_count": 0,
      "outputs": [
        {
          "output_type": "execute_result",
          "data": {
            "text/plain": [
              "X1     0.007352\n",
              "X2     0.011942\n",
              "X3     0.010933\n",
              "X4     0.042207\n",
              "X5     0.015932\n",
              "X6     0.000000\n",
              "X7     0.000000\n",
              "X8     0.006586\n",
              "X9     0.000000\n",
              "X10    0.000000\n",
              "X11    0.004096\n",
              "X12    0.011106\n",
              "X13    0.006392\n",
              "X14    0.033513\n",
              "Name: MIC_Unbal_Scores, dtype: float64"
            ]
          },
          "metadata": {
            "tags": []
          },
          "execution_count": 9
        }
      ]
    },
    {
      "metadata": {
        "id": "GBavXOYvbPxb",
        "colab_type": "text"
      },
      "cell_type": "markdown",
      "source": [
        "## Part 2: linear models and regularization\n",
        "* L1 Regularization (Lasso for regression) is best for goal 1: \"produces sparse solutions and as such is very useful selecting a strong subset of features for improving model performance\" (forces coefficients to zero, telling you which you could remove--will remove worst out of multicollinearly related features)\n",
        "* L2 Regularization (Ridge for regression) is best for goal 2: \"can be used for data interpretation due to its stability and the fact that useful features tend to have non-zero coefficients\n",
        "* Also fast\n",
        "\n",
        "[sci-kit's L1 feature selection](https://scikit-learn.org/stable/modules/feature_selection.html#l1-based-feature-selection) (can easily be switched to L2 using the parameter `penalty='l2'` for categorical targets or using `Ridge` instead of Lasso for continuous targets)\n",
        "\n",
        "We won't do this here, because\n",
        "1.   You know regression\n",
        "2.   The same principles apply as shown in Part 3 below with `SelectFromModel`\n",
        "3.   There's way cooler stuff coming up"
      ]
    },
    {
      "metadata": {
        "id": "lrTUHbfwbPxk",
        "colab_type": "text"
      },
      "cell_type": "markdown",
      "source": [
        "## Part 3: random forests\n",
        "* Best for goal 1, not 2 because:\n",
        " * strong features can end up with low scores \n",
        " * biased towards variables with many categories\n",
        "* \"require very little feature engineering and parameter tuning\"\n",
        "* Takes a little more time depending on your dataset - but a popular technique\n",
        "\n",
        "[sci-kit's implementation of tree-based feature selection](https://scikit-learn.org/stable/modules/feature_selection.html#tree-based-feature-selection)"
      ]
    },
    {
      "metadata": {
        "id": "RKDsc9AjP4fD",
        "colab_type": "text"
      },
      "cell_type": "markdown",
      "source": [
        "#### Y"
      ]
    },
    {
      "metadata": {
        "id": "8pP7OuQTbPxo",
        "colab_type": "code",
        "outputId": "c0c07bb3-f041-47e2-9e7f-0f681adab58d",
        "colab": {
          "base_uri": "https://localhost:8080/",
          "height": 346
        }
      },
      "cell_type": "code",
      "source": [
        "from sklearn.ensemble import RandomForestRegressor as RFR\n",
        "\n",
        "# Fitting a random forest regression\n",
        "rfr = RFR().fit(X, y)\n",
        "\n",
        "# Creating scores from feature_importances_ ranking (some randomness here)\n",
        "rfr_scores = pd.Series(data=rfr.feature_importances_, name='RFR', index=names)\n",
        "\n",
        "rfr_scores"
      ],
      "execution_count": 0,
      "outputs": [
        {
          "output_type": "stream",
          "text": [
            "/usr/local/lib/python3.6/dist-packages/sklearn/ensemble/forest.py:246: FutureWarning: The default value of n_estimators will change from 10 in version 0.20 to 100 in 0.22.\n",
            "  \"10 in version 0.20 to 100 in 0.22.\", FutureWarning)\n"
          ],
          "name": "stderr"
        },
        {
          "output_type": "execute_result",
          "data": {
            "text/plain": [
              "X1     0.171971\n",
              "X2     0.080160\n",
              "X3     0.031443\n",
              "X4     0.277327\n",
              "X5     0.089315\n",
              "X6     0.006989\n",
              "X7     0.007058\n",
              "X8     0.007323\n",
              "X9     0.007486\n",
              "X10    0.007776\n",
              "X11    0.045425\n",
              "X12    0.133982\n",
              "X13    0.024321\n",
              "X14    0.109423\n",
              "Name: RFR, dtype: float64"
            ]
          },
          "metadata": {
            "tags": []
          },
          "execution_count": 10
        }
      ]
    },
    {
      "metadata": {
        "id": "0dEoMeW2Z88Z",
        "colab_type": "text"
      },
      "cell_type": "markdown",
      "source": [
        "#### Y_bal"
      ]
    },
    {
      "metadata": {
        "id": "O9JuV3HCaAJw",
        "colab_type": "code",
        "outputId": "02382c32-d84e-432b-f2d4-30f60fe4f822",
        "colab": {
          "base_uri": "https://localhost:8080/",
          "height": 346
        }
      },
      "cell_type": "code",
      "source": [
        "from sklearn.ensemble import RandomForestClassifier as RFC\n",
        "\n",
        "# Fitting a Random Forest Classifier\n",
        "rfc_b = RFC().fit(X, y_bal)\n",
        "\n",
        "# Creating scores from feature_importances_ ranking (some randomness here)\n",
        "rfc_b_scores = pd.Series(data=rfc_b.feature_importances_, name='RFC_bal', \n",
        "                           index=names)\n",
        "\n",
        "rfc_b_scores"
      ],
      "execution_count": 0,
      "outputs": [
        {
          "output_type": "stream",
          "text": [
            "/usr/local/lib/python3.6/dist-packages/sklearn/ensemble/forest.py:246: FutureWarning: The default value of n_estimators will change from 10 in version 0.20 to 100 in 0.22.\n",
            "  \"10 in version 0.20 to 100 in 0.22.\", FutureWarning)\n"
          ],
          "name": "stderr"
        },
        {
          "output_type": "execute_result",
          "data": {
            "text/plain": [
              "X1     0.119943\n",
              "X2     0.115253\n",
              "X3     0.039748\n",
              "X4     0.114719\n",
              "X5     0.071332\n",
              "X6     0.027339\n",
              "X7     0.024874\n",
              "X8     0.026811\n",
              "X9     0.028619\n",
              "X10    0.018861\n",
              "X11    0.116147\n",
              "X12    0.103445\n",
              "X13    0.042709\n",
              "X14    0.150199\n",
              "Name: RFC_bal, dtype: float64"
            ]
          },
          "metadata": {
            "tags": []
          },
          "execution_count": 11
        }
      ]
    },
    {
      "metadata": {
        "id": "pUt0DSzRaNWF",
        "colab_type": "text"
      },
      "cell_type": "markdown",
      "source": [
        "#### Y_un"
      ]
    },
    {
      "metadata": {
        "id": "uTuAcM7baYUv",
        "colab_type": "code",
        "outputId": "17955ba2-dd5f-4af3-f4da-b2f316a5e140",
        "colab": {
          "base_uri": "https://localhost:8080/",
          "height": 346
        }
      },
      "cell_type": "code",
      "source": [
        "# Fitting a Random Forest Classifier\n",
        "rfc_u = RFC().fit(X, y_un)\n",
        "\n",
        "# Creating scores from feature_importances_ ranking (some randomness here)\n",
        "rfc_u_scores = pd.Series(data=rfc_u.feature_importances_, \n",
        "                             name='RFC_unbal', index=names)\n",
        "\n",
        "rfc_u_scores"
      ],
      "execution_count": 0,
      "outputs": [
        {
          "output_type": "stream",
          "text": [
            "/usr/local/lib/python3.6/dist-packages/sklearn/ensemble/forest.py:246: FutureWarning: The default value of n_estimators will change from 10 in version 0.20 to 100 in 0.22.\n",
            "  \"10 in version 0.20 to 100 in 0.22.\", FutureWarning)\n"
          ],
          "name": "stderr"
        },
        {
          "output_type": "execute_result",
          "data": {
            "text/plain": [
              "X1     0.075621\n",
              "X2     0.130585\n",
              "X3     0.030374\n",
              "X4     0.175625\n",
              "X5     0.064946\n",
              "X6     0.078695\n",
              "X7     0.024836\n",
              "X8     0.029368\n",
              "X9     0.031935\n",
              "X10    0.030780\n",
              "X11    0.059017\n",
              "X12    0.104890\n",
              "X13    0.015534\n",
              "X14    0.147796\n",
              "Name: RFC_unbal, dtype: float64"
            ]
          },
          "metadata": {
            "tags": []
          },
          "execution_count": 12
        }
      ]
    },
    {
      "metadata": {
        "id": "LR0vdLluatex",
        "colab_type": "text"
      },
      "cell_type": "markdown",
      "source": [
        "### SelectFromModel \n",
        "is a meta-transformer that can be used along with any estimator that has a `coef_` or `feature_importances_` attribute after fitting. The features are considered unimportant and removed, if the corresponding `coef_` or `feature_importances_` values are below the provided `threshold` parameter. Apart from specifying the `threshold` numerically, there are built-in heuristics for finding a `threshold` using a string argument. Available heuristics are `'mean'`, `'median'` and float multiples of these like `'0.1*mean'`."
      ]
    },
    {
      "metadata": {
        "id": "3ZeUn8PTatE8",
        "colab_type": "code",
        "colab": {}
      },
      "cell_type": "code",
      "source": [
        "# Random forest regression transformation of X (elimination of least important\n",
        "# features)\n",
        "rfr_transform = fe.SelectFromModel(rfr, prefit=True)\n",
        "\n",
        "X_rfr = rfr_transform.transform(X)\n",
        "\n",
        "\n",
        "# Random forest classifier transformation of X_bal (elimination of least important\n",
        "# features)\n",
        "rfc_b_transform = fe.SelectFromModel(rfc_b, prefit=True)\n",
        "\n",
        "X_rfc_b = rfc_b_transform.transform(X)\n",
        "\n",
        "\n",
        "# Random forest classifier transformation of X_un (elimination of least important\n",
        "# features)\n",
        "rfc_u_transform = fe.SelectFromModel(rfc_u, prefit=True)\n",
        "\n",
        "X_rfc_u = rfc_u_transform.transform(X)"
      ],
      "execution_count": 0,
      "outputs": []
    },
    {
      "metadata": {
        "id": "vnXIN6lkc5hr",
        "colab_type": "code",
        "outputId": "d98e8e70-ebc8-4abd-b622-97b94ea001ca",
        "colab": {
          "base_uri": "https://localhost:8080/",
          "height": 483
        }
      },
      "cell_type": "code",
      "source": [
        "RF_comparisons = pd.DataFrame(data=np.array([rfr_transform.get_support(),\n",
        "                                    rfc_b_transform.get_support(),\n",
        "                                    rfc_u_transform.get_support()]).T,\n",
        "                              columns=['RF_Regressor', 'RF_balanced_classifier',\n",
        "                                     'RF_unbalanced_classifier'],\n",
        "                              index=names)\n",
        "\n",
        "RF_comparisons"
      ],
      "execution_count": 0,
      "outputs": [
        {
          "output_type": "execute_result",
          "data": {
            "text/html": [
              "<div>\n",
              "<style scoped>\n",
              "    .dataframe tbody tr th:only-of-type {\n",
              "        vertical-align: middle;\n",
              "    }\n",
              "\n",
              "    .dataframe tbody tr th {\n",
              "        vertical-align: top;\n",
              "    }\n",
              "\n",
              "    .dataframe thead th {\n",
              "        text-align: right;\n",
              "    }\n",
              "</style>\n",
              "<table border=\"1\" class=\"dataframe\">\n",
              "  <thead>\n",
              "    <tr style=\"text-align: right;\">\n",
              "      <th></th>\n",
              "      <th>RF_Regressor</th>\n",
              "      <th>RF_balanced_classifier</th>\n",
              "      <th>RF_unbalanced_classifier</th>\n",
              "    </tr>\n",
              "  </thead>\n",
              "  <tbody>\n",
              "    <tr>\n",
              "      <th>X1</th>\n",
              "      <td>True</td>\n",
              "      <td>True</td>\n",
              "      <td>True</td>\n",
              "    </tr>\n",
              "    <tr>\n",
              "      <th>X2</th>\n",
              "      <td>True</td>\n",
              "      <td>True</td>\n",
              "      <td>True</td>\n",
              "    </tr>\n",
              "    <tr>\n",
              "      <th>X3</th>\n",
              "      <td>False</td>\n",
              "      <td>False</td>\n",
              "      <td>False</td>\n",
              "    </tr>\n",
              "    <tr>\n",
              "      <th>X4</th>\n",
              "      <td>True</td>\n",
              "      <td>True</td>\n",
              "      <td>True</td>\n",
              "    </tr>\n",
              "    <tr>\n",
              "      <th>X5</th>\n",
              "      <td>True</td>\n",
              "      <td>False</td>\n",
              "      <td>False</td>\n",
              "    </tr>\n",
              "    <tr>\n",
              "      <th>X6</th>\n",
              "      <td>False</td>\n",
              "      <td>False</td>\n",
              "      <td>True</td>\n",
              "    </tr>\n",
              "    <tr>\n",
              "      <th>X7</th>\n",
              "      <td>False</td>\n",
              "      <td>False</td>\n",
              "      <td>False</td>\n",
              "    </tr>\n",
              "    <tr>\n",
              "      <th>X8</th>\n",
              "      <td>False</td>\n",
              "      <td>False</td>\n",
              "      <td>False</td>\n",
              "    </tr>\n",
              "    <tr>\n",
              "      <th>X9</th>\n",
              "      <td>False</td>\n",
              "      <td>False</td>\n",
              "      <td>False</td>\n",
              "    </tr>\n",
              "    <tr>\n",
              "      <th>X10</th>\n",
              "      <td>False</td>\n",
              "      <td>False</td>\n",
              "      <td>False</td>\n",
              "    </tr>\n",
              "    <tr>\n",
              "      <th>X11</th>\n",
              "      <td>False</td>\n",
              "      <td>True</td>\n",
              "      <td>False</td>\n",
              "    </tr>\n",
              "    <tr>\n",
              "      <th>X12</th>\n",
              "      <td>True</td>\n",
              "      <td>True</td>\n",
              "      <td>True</td>\n",
              "    </tr>\n",
              "    <tr>\n",
              "      <th>X13</th>\n",
              "      <td>False</td>\n",
              "      <td>False</td>\n",
              "      <td>False</td>\n",
              "    </tr>\n",
              "    <tr>\n",
              "      <th>X14</th>\n",
              "      <td>True</td>\n",
              "      <td>True</td>\n",
              "      <td>True</td>\n",
              "    </tr>\n",
              "  </tbody>\n",
              "</table>\n",
              "</div>"
            ],
            "text/plain": [
              "     RF_Regressor  RF_balanced_classifier  RF_unbalanced_classifier\n",
              "X1           True                    True                      True\n",
              "X2           True                    True                      True\n",
              "X3          False                   False                     False\n",
              "X4           True                    True                      True\n",
              "X5           True                   False                     False\n",
              "X6          False                   False                      True\n",
              "X7          False                   False                     False\n",
              "X8          False                   False                     False\n",
              "X9          False                   False                     False\n",
              "X10         False                   False                     False\n",
              "X11         False                    True                     False\n",
              "X12          True                    True                      True\n",
              "X13         False                   False                     False\n",
              "X14          True                    True                      True"
            ]
          },
          "metadata": {
            "tags": []
          },
          "execution_count": 14
        }
      ]
    },
    {
      "metadata": {
        "id": "Nzas2GMebPxv",
        "colab_type": "text"
      },
      "cell_type": "markdown",
      "source": [
        "## Part 4: stability selection, RFE, and everything side by side\n",
        "* These methods take longer since they are *wrapper methods* and build multiple ML models before giving results. \"They both build on top of other (model based) selection methods such as regression or SVM, building models on different subsets of data and extracting the ranking from the aggregates.\"\n",
        "* Stability selection is good for both goal 1 and 2: \"among the top performing methods for many different datasets and settings\"\n",
        " * For categorical targets\n",
        "   * [RandomizedLogisticRegression](https://scikit-learn.org/stable/modules/generated/sklearn.linear_model.RandomizedLogisticRegression.html)(Deprecated) ~~use [RandomizedLogisticRegression](https://thuijskens.github.io/stability-selection/docs/randomized_lasso.html#stability_selection.randomized_lasso.RandomizedLogisticRegression)~~\n",
        "  \n",
        "   * [ExtraTreesClassifier](https://scikit-learn.org/stable/modules/generated/sklearn.ensemble.ExtraTreesClassifier.html#sklearn.ensemble.ExtraTreesClassifier)\n",
        " \n",
        " * For continuous targets\n",
        "   * [RandomizedLasso](https://scikit-learn.org/stable/modules/generated/sklearn.linear_model.RandomizedLasso.html) (Deprecated) ~~use [RandomizedLasso](https://thuijskens.github.io/stability-selection/docs/randomized_lasso.html#stability_selection.randomized_lasso.RandomizedLogisticRegression)~~ \n",
        "   * [ExtraTreesRegressor](https://scikit-learn.org/stable/modules/generated/sklearn.ensemble.ExtraTreesRegressor.html#sklearn.ensemble.ExtraTreesRegressor)\n",
        "   \n",
        "    Welcome to open-source, folks! [Here](https://github.com/scikit-learn/scikit-learn/issues/8995) is the original discussion to deprecate `RandomizedLogisticRegression` and `RandomizedLasso`. [Here](https://github.com/scikit-learn/scikit-learn/issues/9657) is a failed attempt to resurrect it. It looks like it'll be gone for good soon. So we shouldn't get dependent on it.\n",
        "\n",
        "    The alternatives from the deprecated scikit objects come from an official scikit-learn-contrib module called [stability_selection](https://github.com/scikit-learn-contrib/stability-selection). They also have a `StabilitySelection` object that acts similarly scikit's `SelectFromModel`.\n",
        "\n",
        "* recursive feature elimination (RFE) is best for goal 1\n",
        " * [sci-kit's RFE and RFECV (RFE with built-in cross-validation)](https://scikit-learn.org/stable/modules/feature_selection.html#recursive-feature-elimination)"
      ]
    },
    {
      "metadata": {
        "id": "6722EqvCbPxx",
        "colab_type": "code",
        "outputId": "60d7dd55-400d-420c-96fe-22055942be06",
        "colab": {
          "base_uri": "https://localhost:8080/",
          "height": 417
        }
      },
      "cell_type": "code",
      "source": [
        "!pip install git+https://github.com/scikit-learn-contrib/stability-selection.git"
      ],
      "execution_count": 0,
      "outputs": [
        {
          "output_type": "stream",
          "text": [
            "Collecting git+https://github.com/scikit-learn-contrib/stability-selection.git\n",
            "  Cloning https://github.com/scikit-learn-contrib/stability-selection.git to /tmp/pip-req-build-ob4i4ieh\n",
            "Requirement already satisfied: nose>=1.1.2 in /usr/local/lib/python3.6/dist-packages (from stability-selection==0.0.1) (1.3.7)\n",
            "Requirement already satisfied: scikit-learn>=0.19 in /usr/local/lib/python3.6/dist-packages (from stability-selection==0.0.1) (0.20.2)\n",
            "Requirement already satisfied: matplotlib>=2.0.0 in /usr/local/lib/python3.6/dist-packages (from stability-selection==0.0.1) (3.0.2)\n",
            "Requirement already satisfied: numpy>=1.8.0 in /usr/local/lib/python3.6/dist-packages (from stability-selection==0.0.1) (1.14.6)\n",
            "Requirement already satisfied: scipy>=0.13.3 in /usr/local/lib/python3.6/dist-packages (from scikit-learn>=0.19->stability-selection==0.0.1) (1.1.0)\n",
            "Requirement already satisfied: python-dateutil>=2.1 in /usr/local/lib/python3.6/dist-packages (from matplotlib>=2.0.0->stability-selection==0.0.1) (2.5.3)\n",
            "Requirement already satisfied: kiwisolver>=1.0.1 in /usr/local/lib/python3.6/dist-packages (from matplotlib>=2.0.0->stability-selection==0.0.1) (1.0.1)\n",
            "Requirement already satisfied: cycler>=0.10 in /usr/local/lib/python3.6/dist-packages (from matplotlib>=2.0.0->stability-selection==0.0.1) (0.10.0)\n",
            "Requirement already satisfied: pyparsing!=2.0.4,!=2.1.2,!=2.1.6,>=2.0.1 in /usr/local/lib/python3.6/dist-packages (from matplotlib>=2.0.0->stability-selection==0.0.1) (2.3.1)\n",
            "Requirement already satisfied: six>=1.5 in /usr/local/lib/python3.6/dist-packages (from python-dateutil>=2.1->matplotlib>=2.0.0->stability-selection==0.0.1) (1.11.0)\n",
            "Requirement already satisfied: setuptools in /usr/local/lib/python3.6/dist-packages (from kiwisolver>=1.0.1->matplotlib>=2.0.0->stability-selection==0.0.1) (40.7.0)\n",
            "Building wheels for collected packages: stability-selection\n",
            "  Building wheel for stability-selection (setup.py) ... \u001b[?25ldone\n",
            "\u001b[?25h  Stored in directory: /tmp/pip-ephem-wheel-cache-bkrq6z9s/wheels/58/be/39/79880712b91ffa56e341ff10586a1956527813437ddd759473\n",
            "Successfully built stability-selection\n",
            "Installing collected packages: stability-selection\n",
            "Successfully installed stability-selection-0.0.1\n"
          ],
          "name": "stdout"
        }
      ]
    },
    {
      "metadata": {
        "id": "mhLZ-il_rm_a",
        "colab_type": "text"
      },
      "cell_type": "markdown",
      "source": [
        "Okay, I tried this package... it seems to have some problems... hopefully a good implementation of stability selection for Lasso and Logistic Regression will be created soon! In the meantime, scikit's RandomLasso and RandomLogisticRegression have not been removed, so you can fiddle some! Just alter the commented out code!\n",
        "* import from scikit instead of stability-selection\n",
        "* use scikit's `SelectFromModel` as shown above!\n",
        "\n",
        "Ta Da!"
      ]
    },
    {
      "metadata": {
        "id": "etgVb1BqkyGX",
        "colab_type": "text"
      },
      "cell_type": "markdown",
      "source": [
        "#### Y"
      ]
    },
    {
      "metadata": {
        "id": "ViYGwRzVbk7N",
        "colab_type": "code",
        "outputId": "53f0eafd-d1b0-42a0-a00a-41a1ca8d24f4",
        "colab": {
          "base_uri": "https://localhost:8080/",
          "height": 74
        }
      },
      "cell_type": "code",
      "source": [
        "'''from stability_selection import (RandomizedLogisticRegression,\n",
        "                                 RandomizedLasso, StabilitySelection,\n",
        "                                 plot_stability_path)\n",
        "\n",
        "# Stability selection using randomized lasso method\n",
        "rl = RandomizedLasso(max_iter=2000)\n",
        "rl_selector = StabilitySelection(base_estimator=rl, lambda_name='alpha',\n",
        "                                 n_jobs=2)\n",
        "rl_selector.fit(X, y);\n",
        "'''"
      ],
      "execution_count": 0,
      "outputs": [
        {
          "output_type": "execute_result",
          "data": {
            "text/plain": [
              "\"from stability_selection import (RandomizedLogisticRegression,\\n                                 RandomizedLasso, StabilitySelection,\\n                                 plot_stability_path)\\n\\n# Stability selection using randomized lasso method\\nrl = RandomizedLasso(max_iter=2000)\\nrl_selector = StabilitySelection(base_estimator=rl, lambda_name='alpha',\\n                                 n_jobs=2)\\nrl_selector.fit(X, y);\\n\""
            ]
          },
          "metadata": {
            "tags": []
          },
          "execution_count": 16
        }
      ]
    },
    {
      "metadata": {
        "id": "Vnza3BUPmiRo",
        "colab_type": "code",
        "outputId": "9ea7b3b2-e0b4-45fd-f101-4e49c4f09383",
        "colab": {
          "base_uri": "https://localhost:8080/",
          "height": 272
        }
      },
      "cell_type": "code",
      "source": [
        "from sklearn.ensemble import ExtraTreesRegressor as ETR\n",
        "\n",
        "# Stability selection using randomized decision trees\n",
        "etr = ETR(n_estimators=50).fit(X, y)\n",
        "\n",
        "# Creating scores from feature_importances_ ranking (some randomness here)\n",
        "etr_scores = pd.Series(data=etr.feature_importances_, \n",
        "                             name='ETR', index=names)\n",
        "\n",
        "etr_scores"
      ],
      "execution_count": 0,
      "outputs": [
        {
          "output_type": "execute_result",
          "data": {
            "text/plain": [
              "X1     0.124593\n",
              "X2     0.116771\n",
              "X3     0.030910\n",
              "X4     0.204025\n",
              "X5     0.086907\n",
              "X6     0.008103\n",
              "X7     0.008218\n",
              "X8     0.008241\n",
              "X9     0.007985\n",
              "X10    0.007440\n",
              "X11    0.106018\n",
              "X12    0.104079\n",
              "X13    0.029207\n",
              "X14    0.157503\n",
              "Name: ETR, dtype: float64"
            ]
          },
          "metadata": {
            "tags": []
          },
          "execution_count": 17
        }
      ]
    },
    {
      "metadata": {
        "id": "uiwjyAya5YWL",
        "colab_type": "code",
        "outputId": "57c963f2-f06d-496a-967d-82a24a64c968",
        "colab": {
          "base_uri": "https://localhost:8080/",
          "height": 346
        }
      },
      "cell_type": "code",
      "source": [
        "from sklearn.linear_model import LinearRegression\n",
        "\n",
        "# Recursive feature elimination with cross validaiton using linear regression \n",
        "# as the model\n",
        "lr = LinearRegression()\n",
        "# rank all features, i.e continue the elimination until the last one\n",
        "rfe = fe.RFECV(lr)\n",
        "rfe.fit(X, y)\n",
        "\n",
        "# Make negative so it works better for comparison to other scores after scaling\n",
        "rfe_score = pd.Series(data=(-1*rfe.ranking_), name='RFE', index=names)\n",
        "\n",
        "rfe_score"
      ],
      "execution_count": 0,
      "outputs": [
        {
          "output_type": "stream",
          "text": [
            "/usr/local/lib/python3.6/dist-packages/sklearn/model_selection/_split.py:2053: FutureWarning: You should specify a value for 'cv' instead of relying on the default value. The default value will change from 3 to 5 in version 0.22.\n",
            "  warnings.warn(CV_WARNING, FutureWarning)\n"
          ],
          "name": "stderr"
        },
        {
          "output_type": "execute_result",
          "data": {
            "text/plain": [
              "X1    -1\n",
              "X2    -1\n",
              "X3    -1\n",
              "X4    -1\n",
              "X5    -1\n",
              "X6    -8\n",
              "X7    -5\n",
              "X8    -7\n",
              "X9    -6\n",
              "X10   -9\n",
              "X11   -2\n",
              "X12   -4\n",
              "X13   -1\n",
              "X14   -3\n",
              "Name: RFE, dtype: int64"
            ]
          },
          "metadata": {
            "tags": []
          },
          "execution_count": 18
        }
      ]
    },
    {
      "metadata": {
        "id": "FcGTYITXk0tb",
        "colab_type": "text"
      },
      "cell_type": "markdown",
      "source": [
        "#### Y_bal"
      ]
    },
    {
      "metadata": {
        "id": "bwfhOxBykwPx",
        "colab_type": "code",
        "outputId": "4749a143-bef2-44b7-c58c-86c318961247",
        "colab": {
          "base_uri": "https://localhost:8080/",
          "height": 74
        }
      },
      "cell_type": "code",
      "source": [
        "# stability selection using randomized logistic regression\n",
        "'''rlr_b = RandomizedLogisticRegression()\n",
        "rlr_b_selector = StabilitySelection(base_estimator=rlr_b, lambda_name='C',\n",
        "                                 n_jobs=2)\n",
        "rlr_b_selector.fit(X, y_bal);'''"
      ],
      "execution_count": 0,
      "outputs": [
        {
          "output_type": "execute_result",
          "data": {
            "text/plain": [
              "\"rlr_b = RandomizedLogisticRegression()\\nrlr_b_selector = StabilitySelection(base_estimator=rlr_b, lambda_name='C',\\n                                 n_jobs=2)\\nrlr_b_selector.fit(X, y_bal);\""
            ]
          },
          "metadata": {
            "tags": []
          },
          "execution_count": 19
        }
      ]
    },
    {
      "metadata": {
        "id": "8TLTMsPkoLzX",
        "colab_type": "code",
        "outputId": "3d7ed25c-6945-4b98-c097-2008f11bd9a0",
        "colab": {
          "base_uri": "https://localhost:8080/",
          "height": 272
        }
      },
      "cell_type": "code",
      "source": [
        "from sklearn.ensemble import ExtraTreesClassifier as ETC\n",
        "\n",
        "# Stability selection using randomized decision trees\n",
        "etc_b = ETC(n_estimators=50).fit(X, y_bal)\n",
        "\n",
        "# Creating scores from feature_importances_ ranking (some randomness here)\n",
        "etc_b_scores = pd.Series(data=etc_b.feature_importances_, \n",
        "                             name='ETC_bal', index=names)\n",
        "\n",
        "etc_b_scores"
      ],
      "execution_count": 0,
      "outputs": [
        {
          "output_type": "execute_result",
          "data": {
            "text/plain": [
              "X1     0.105576\n",
              "X2     0.113267\n",
              "X3     0.044241\n",
              "X4     0.133987\n",
              "X5     0.079805\n",
              "X6     0.028492\n",
              "X7     0.026542\n",
              "X8     0.029527\n",
              "X9     0.030618\n",
              "X10    0.026719\n",
              "X11    0.110347\n",
              "X12    0.096993\n",
              "X13    0.044999\n",
              "X14    0.128890\n",
              "Name: ETC_bal, dtype: float64"
            ]
          },
          "metadata": {
            "tags": []
          },
          "execution_count": 20
        }
      ]
    },
    {
      "metadata": {
        "id": "cRaI4yA97kLo",
        "colab_type": "code",
        "outputId": "52d837e9-aef0-46be-9018-2663b1c0cb81",
        "colab": {
          "base_uri": "https://localhost:8080/",
          "height": 346
        }
      },
      "cell_type": "code",
      "source": [
        "from sklearn.linear_model import LogisticRegression\n",
        "\n",
        "# Recursive feature elimination with cross validaiton using logistic regression \n",
        "# as the model\n",
        "logr_b = LogisticRegression(solver='lbfgs')\n",
        "# rank all features, i.e continue the elimination until the last one\n",
        "rfe_b = fe.RFECV(logr_b)\n",
        "rfe_b.fit(X, y_bal)\n",
        "\n",
        "# Make negative so it works better for comparison to other scores after scaling\n",
        "rfe_b_score = pd.Series(data=(-1*rfe_b.ranking_), name='RFE_bal', index=names)\n",
        "\n",
        "rfe_b_score"
      ],
      "execution_count": 0,
      "outputs": [
        {
          "output_type": "stream",
          "text": [
            "/usr/local/lib/python3.6/dist-packages/sklearn/model_selection/_split.py:2053: FutureWarning: You should specify a value for 'cv' instead of relying on the default value. The default value will change from 3 to 5 in version 0.22.\n",
            "  warnings.warn(CV_WARNING, FutureWarning)\n"
          ],
          "name": "stderr"
        },
        {
          "output_type": "execute_result",
          "data": {
            "text/plain": [
              "X1    -1\n",
              "X2    -1\n",
              "X3    -1\n",
              "X4    -1\n",
              "X5    -1\n",
              "X6    -4\n",
              "X7    -1\n",
              "X8    -2\n",
              "X9    -3\n",
              "X10   -1\n",
              "X11   -1\n",
              "X12   -1\n",
              "X13   -5\n",
              "X14   -1\n",
              "Name: RFE_bal, dtype: int64"
            ]
          },
          "metadata": {
            "tags": []
          },
          "execution_count": 21
        }
      ]
    },
    {
      "metadata": {
        "id": "ZDe5AYa1lO53",
        "colab_type": "text"
      },
      "cell_type": "markdown",
      "source": [
        "#### Y_un"
      ]
    },
    {
      "metadata": {
        "id": "jThOwdBqlSEj",
        "colab_type": "code",
        "outputId": "f7da12d4-3570-4938-fb96-1667b68b1176",
        "colab": {
          "base_uri": "https://localhost:8080/",
          "height": 74
        }
      },
      "cell_type": "code",
      "source": [
        "# stability selection uisng randomized logistic regression\n",
        "'''rlr_u = RandomizedLogisticRegression(max_iter=2000)\n",
        "rlr_u_selector = StabilitySelection(base_estimator=rlr_u, lambda_name='C')\n",
        "\n",
        "rlr_u_selector.fit(X, y_un);'''"
      ],
      "execution_count": 0,
      "outputs": [
        {
          "output_type": "execute_result",
          "data": {
            "text/plain": [
              "\"rlr_u = RandomizedLogisticRegression(max_iter=2000)\\nrlr_u_selector = StabilitySelection(base_estimator=rlr_u, lambda_name='C')\\n\\nrlr_u_selector.fit(X, y_un);\""
            ]
          },
          "metadata": {
            "tags": []
          },
          "execution_count": 22
        }
      ]
    },
    {
      "metadata": {
        "id": "G2og3pRNoYXo",
        "colab_type": "code",
        "outputId": "34b81e7d-a87d-4390-97dd-e2837a97b459",
        "colab": {
          "base_uri": "https://localhost:8080/",
          "height": 272
        }
      },
      "cell_type": "code",
      "source": [
        "# Stability selection using randomized decision trees\n",
        "etc_u = ETC(n_estimators=50).fit(X, y_un)\n",
        "\n",
        "# Creating scores from feature_importances_ ranking (some randomness here)\n",
        "etc_u_scores = pd.Series(data=etc_u.feature_importances_, \n",
        "                             name='ETC_unbal', index=names)\n",
        "\n",
        "etc_u_scores"
      ],
      "execution_count": 0,
      "outputs": [
        {
          "output_type": "execute_result",
          "data": {
            "text/plain": [
              "X1     0.080087\n",
              "X2     0.091999\n",
              "X3     0.056712\n",
              "X4     0.122631\n",
              "X5     0.082176\n",
              "X6     0.039102\n",
              "X7     0.046938\n",
              "X8     0.042750\n",
              "X9     0.052450\n",
              "X10    0.058599\n",
              "X11    0.080919\n",
              "X12    0.091330\n",
              "X13    0.046816\n",
              "X14    0.107490\n",
              "Name: ETC_unbal, dtype: float64"
            ]
          },
          "metadata": {
            "tags": []
          },
          "execution_count": 23
        }
      ]
    },
    {
      "metadata": {
        "id": "fCLO-2tH8KBe",
        "colab_type": "code",
        "outputId": "0ff05979-5ba9-4c2d-fe37-6a7018fb56d6",
        "colab": {
          "base_uri": "https://localhost:8080/",
          "height": 346
        }
      },
      "cell_type": "code",
      "source": [
        "# Recursive feature elimination with cross validaiton using logistic regression \n",
        "# as the model\n",
        "logr_u = LogisticRegression(solver='lbfgs')\n",
        "# rank all features, i.e continue the elimination until the last one\n",
        "rfe_u = fe.RFECV(logr_u)\n",
        "rfe_u.fit(X, y_un)\n",
        "\n",
        "# Make negative so it works better for comparison to other scores after scaling\n",
        "rfe_u_score = pd.Series(data=(-1*rfe_u.ranking_), name='RFE_unbal', index=names)\n",
        "\n",
        "rfe_u_score"
      ],
      "execution_count": 0,
      "outputs": [
        {
          "output_type": "stream",
          "text": [
            "/usr/local/lib/python3.6/dist-packages/sklearn/model_selection/_split.py:2053: FutureWarning: You should specify a value for 'cv' instead of relying on the default value. The default value will change from 3 to 5 in version 0.22.\n",
            "  warnings.warn(CV_WARNING, FutureWarning)\n"
          ],
          "name": "stderr"
        },
        {
          "output_type": "execute_result",
          "data": {
            "text/plain": [
              "X1    -1\n",
              "X2    -1\n",
              "X3    -6\n",
              "X4    -1\n",
              "X5    -1\n",
              "X6    -4\n",
              "X7    -5\n",
              "X8    -1\n",
              "X9    -3\n",
              "X10   -1\n",
              "X11   -1\n",
              "X12   -1\n",
              "X13   -2\n",
              "X14   -1\n",
              "Name: RFE_unbal, dtype: int64"
            ]
          },
          "metadata": {
            "tags": []
          },
          "execution_count": 24
        }
      ]
    },
    {
      "metadata": {
        "id": "RND1UIMRo6kk",
        "colab_type": "code",
        "outputId": "96780d9f-613f-4974-b251-45aa44ca2eeb",
        "colab": {
          "base_uri": "https://localhost:8080/",
          "height": 74
        }
      },
      "cell_type": "code",
      "source": [
        "'''RL_comparisons = pd.DataFrame(data=np.array([rl_selector.get_support(),\n",
        "                                    rlr_b_selector.get_support(),\n",
        "                                    rlr_u_selector.get_support()]).T,\n",
        "                              columns=['RandomLasso', 'RandomLog_bal',\n",
        "                                     'RandomLog_unbal'],\n",
        "                              index=names)\n",
        "\n",
        "RL_comparisons'''"
      ],
      "execution_count": 0,
      "outputs": [
        {
          "output_type": "execute_result",
          "data": {
            "text/plain": [
              "\"RL_comparisons = pd.DataFrame(data=np.array([rl_selector.get_support(),\\n                                    rlr_b_selector.get_support(),\\n                                    rlr_u_selector.get_support()]).T,\\n                              columns=['RandomLasso', 'RandomLog_bal',\\n                                     'RandomLog_unbal'],\\n                              index=names)\\n\\nRL_comparisons\""
            ]
          },
          "metadata": {
            "tags": []
          },
          "execution_count": 25
        }
      ]
    },
    {
      "metadata": {
        "id": "U0-G9GGjpq1Z",
        "colab_type": "code",
        "outputId": "a079d731-0165-48ed-ff24-b7b733b357c5",
        "colab": {
          "base_uri": "https://localhost:8080/",
          "height": 483
        }
      },
      "cell_type": "code",
      "source": [
        "comparisons = pd.concat([MIR_scores, MIC_b_scores, MIC_u_scores, rfr_scores,\n",
        "                         rfc_b_scores, rfc_u_scores, etr_scores, etc_b_scores,\n",
        "                         etc_u_scores, rfe_score, rfe_b_score, rfe_u_score], \n",
        "                        axis=1)\n",
        "\n",
        "comparisons"
      ],
      "execution_count": 0,
      "outputs": [
        {
          "output_type": "execute_result",
          "data": {
            "text/html": [
              "<div>\n",
              "<style scoped>\n",
              "    .dataframe tbody tr th:only-of-type {\n",
              "        vertical-align: middle;\n",
              "    }\n",
              "\n",
              "    .dataframe tbody tr th {\n",
              "        vertical-align: top;\n",
              "    }\n",
              "\n",
              "    .dataframe thead th {\n",
              "        text-align: right;\n",
              "    }\n",
              "</style>\n",
              "<table border=\"1\" class=\"dataframe\">\n",
              "  <thead>\n",
              "    <tr style=\"text-align: right;\">\n",
              "      <th></th>\n",
              "      <th>MI_Reg_Scores</th>\n",
              "      <th>MIC_Bal_Scores</th>\n",
              "      <th>MIC_Unbal_Scores</th>\n",
              "      <th>RFR</th>\n",
              "      <th>RFC_bal</th>\n",
              "      <th>RFC_unbal</th>\n",
              "      <th>ETR</th>\n",
              "      <th>ETC_bal</th>\n",
              "      <th>ETC_unbal</th>\n",
              "      <th>RFE</th>\n",
              "      <th>RFE_bal</th>\n",
              "      <th>RFE_unbal</th>\n",
              "    </tr>\n",
              "  </thead>\n",
              "  <tbody>\n",
              "    <tr>\n",
              "      <th>X1</th>\n",
              "      <td>0.117499</td>\n",
              "      <td>0.061386</td>\n",
              "      <td>0.007352</td>\n",
              "      <td>0.171971</td>\n",
              "      <td>0.119943</td>\n",
              "      <td>0.075621</td>\n",
              "      <td>0.124593</td>\n",
              "      <td>0.105576</td>\n",
              "      <td>0.080087</td>\n",
              "      <td>-1</td>\n",
              "      <td>-1</td>\n",
              "      <td>-1</td>\n",
              "    </tr>\n",
              "    <tr>\n",
              "      <th>X2</th>\n",
              "      <td>0.155141</td>\n",
              "      <td>0.111060</td>\n",
              "      <td>0.011942</td>\n",
              "      <td>0.080160</td>\n",
              "      <td>0.115253</td>\n",
              "      <td>0.130585</td>\n",
              "      <td>0.116771</td>\n",
              "      <td>0.113267</td>\n",
              "      <td>0.091999</td>\n",
              "      <td>-1</td>\n",
              "      <td>-1</td>\n",
              "      <td>-1</td>\n",
              "    </tr>\n",
              "    <tr>\n",
              "      <th>X3</th>\n",
              "      <td>0.064104</td>\n",
              "      <td>0.006320</td>\n",
              "      <td>0.010933</td>\n",
              "      <td>0.031443</td>\n",
              "      <td>0.039748</td>\n",
              "      <td>0.030374</td>\n",
              "      <td>0.030910</td>\n",
              "      <td>0.044241</td>\n",
              "      <td>0.056712</td>\n",
              "      <td>-1</td>\n",
              "      <td>-1</td>\n",
              "      <td>-6</td>\n",
              "    </tr>\n",
              "    <tr>\n",
              "      <th>X4</th>\n",
              "      <td>0.239914</td>\n",
              "      <td>0.113995</td>\n",
              "      <td>0.042207</td>\n",
              "      <td>0.277327</td>\n",
              "      <td>0.114719</td>\n",
              "      <td>0.175625</td>\n",
              "      <td>0.204025</td>\n",
              "      <td>0.133987</td>\n",
              "      <td>0.122631</td>\n",
              "      <td>-1</td>\n",
              "      <td>-1</td>\n",
              "      <td>-1</td>\n",
              "    </tr>\n",
              "    <tr>\n",
              "      <th>X5</th>\n",
              "      <td>0.059098</td>\n",
              "      <td>0.000000</td>\n",
              "      <td>0.015932</td>\n",
              "      <td>0.089315</td>\n",
              "      <td>0.071332</td>\n",
              "      <td>0.064946</td>\n",
              "      <td>0.086907</td>\n",
              "      <td>0.079805</td>\n",
              "      <td>0.082176</td>\n",
              "      <td>-1</td>\n",
              "      <td>-1</td>\n",
              "      <td>-1</td>\n",
              "    </tr>\n",
              "    <tr>\n",
              "      <th>X6</th>\n",
              "      <td>0.006906</td>\n",
              "      <td>0.000000</td>\n",
              "      <td>0.000000</td>\n",
              "      <td>0.006989</td>\n",
              "      <td>0.027339</td>\n",
              "      <td>0.078695</td>\n",
              "      <td>0.008103</td>\n",
              "      <td>0.028492</td>\n",
              "      <td>0.039102</td>\n",
              "      <td>-8</td>\n",
              "      <td>-4</td>\n",
              "      <td>-4</td>\n",
              "    </tr>\n",
              "    <tr>\n",
              "      <th>X7</th>\n",
              "      <td>0.000000</td>\n",
              "      <td>0.000000</td>\n",
              "      <td>0.000000</td>\n",
              "      <td>0.007058</td>\n",
              "      <td>0.024874</td>\n",
              "      <td>0.024836</td>\n",
              "      <td>0.008218</td>\n",
              "      <td>0.026542</td>\n",
              "      <td>0.046938</td>\n",
              "      <td>-5</td>\n",
              "      <td>-1</td>\n",
              "      <td>-5</td>\n",
              "    </tr>\n",
              "    <tr>\n",
              "      <th>X8</th>\n",
              "      <td>0.000000</td>\n",
              "      <td>0.000000</td>\n",
              "      <td>0.006586</td>\n",
              "      <td>0.007323</td>\n",
              "      <td>0.026811</td>\n",
              "      <td>0.029368</td>\n",
              "      <td>0.008241</td>\n",
              "      <td>0.029527</td>\n",
              "      <td>0.042750</td>\n",
              "      <td>-7</td>\n",
              "      <td>-2</td>\n",
              "      <td>-1</td>\n",
              "    </tr>\n",
              "    <tr>\n",
              "      <th>X9</th>\n",
              "      <td>0.000000</td>\n",
              "      <td>0.000000</td>\n",
              "      <td>0.000000</td>\n",
              "      <td>0.007486</td>\n",
              "      <td>0.028619</td>\n",
              "      <td>0.031935</td>\n",
              "      <td>0.007985</td>\n",
              "      <td>0.030618</td>\n",
              "      <td>0.052450</td>\n",
              "      <td>-6</td>\n",
              "      <td>-3</td>\n",
              "      <td>-3</td>\n",
              "    </tr>\n",
              "    <tr>\n",
              "      <th>X10</th>\n",
              "      <td>0.000000</td>\n",
              "      <td>0.018296</td>\n",
              "      <td>0.000000</td>\n",
              "      <td>0.007776</td>\n",
              "      <td>0.018861</td>\n",
              "      <td>0.030780</td>\n",
              "      <td>0.007440</td>\n",
              "      <td>0.026719</td>\n",
              "      <td>0.058599</td>\n",
              "      <td>-9</td>\n",
              "      <td>-1</td>\n",
              "      <td>-1</td>\n",
              "    </tr>\n",
              "    <tr>\n",
              "      <th>X11</th>\n",
              "      <td>0.069175</td>\n",
              "      <td>0.063916</td>\n",
              "      <td>0.004096</td>\n",
              "      <td>0.045425</td>\n",
              "      <td>0.116147</td>\n",
              "      <td>0.059017</td>\n",
              "      <td>0.106018</td>\n",
              "      <td>0.110347</td>\n",
              "      <td>0.080919</td>\n",
              "      <td>-2</td>\n",
              "      <td>-1</td>\n",
              "      <td>-1</td>\n",
              "    </tr>\n",
              "    <tr>\n",
              "      <th>X12</th>\n",
              "      <td>0.113326</td>\n",
              "      <td>0.091263</td>\n",
              "      <td>0.011106</td>\n",
              "      <td>0.133982</td>\n",
              "      <td>0.103445</td>\n",
              "      <td>0.104890</td>\n",
              "      <td>0.104079</td>\n",
              "      <td>0.096993</td>\n",
              "      <td>0.091330</td>\n",
              "      <td>-4</td>\n",
              "      <td>-1</td>\n",
              "      <td>-1</td>\n",
              "    </tr>\n",
              "    <tr>\n",
              "      <th>X13</th>\n",
              "      <td>0.036673</td>\n",
              "      <td>0.028924</td>\n",
              "      <td>0.006392</td>\n",
              "      <td>0.024321</td>\n",
              "      <td>0.042709</td>\n",
              "      <td>0.015534</td>\n",
              "      <td>0.029207</td>\n",
              "      <td>0.044999</td>\n",
              "      <td>0.046816</td>\n",
              "      <td>-1</td>\n",
              "      <td>-5</td>\n",
              "      <td>-2</td>\n",
              "    </tr>\n",
              "    <tr>\n",
              "      <th>X14</th>\n",
              "      <td>0.220115</td>\n",
              "      <td>0.109699</td>\n",
              "      <td>0.033513</td>\n",
              "      <td>0.109423</td>\n",
              "      <td>0.150199</td>\n",
              "      <td>0.147796</td>\n",
              "      <td>0.157503</td>\n",
              "      <td>0.128890</td>\n",
              "      <td>0.107490</td>\n",
              "      <td>-3</td>\n",
              "      <td>-1</td>\n",
              "      <td>-1</td>\n",
              "    </tr>\n",
              "  </tbody>\n",
              "</table>\n",
              "</div>"
            ],
            "text/plain": [
              "     MI_Reg_Scores  MIC_Bal_Scores  MIC_Unbal_Scores       RFR   RFC_bal  \\\n",
              "X1        0.117499        0.061386          0.007352  0.171971  0.119943   \n",
              "X2        0.155141        0.111060          0.011942  0.080160  0.115253   \n",
              "X3        0.064104        0.006320          0.010933  0.031443  0.039748   \n",
              "X4        0.239914        0.113995          0.042207  0.277327  0.114719   \n",
              "X5        0.059098        0.000000          0.015932  0.089315  0.071332   \n",
              "X6        0.006906        0.000000          0.000000  0.006989  0.027339   \n",
              "X7        0.000000        0.000000          0.000000  0.007058  0.024874   \n",
              "X8        0.000000        0.000000          0.006586  0.007323  0.026811   \n",
              "X9        0.000000        0.000000          0.000000  0.007486  0.028619   \n",
              "X10       0.000000        0.018296          0.000000  0.007776  0.018861   \n",
              "X11       0.069175        0.063916          0.004096  0.045425  0.116147   \n",
              "X12       0.113326        0.091263          0.011106  0.133982  0.103445   \n",
              "X13       0.036673        0.028924          0.006392  0.024321  0.042709   \n",
              "X14       0.220115        0.109699          0.033513  0.109423  0.150199   \n",
              "\n",
              "     RFC_unbal       ETR   ETC_bal  ETC_unbal  RFE  RFE_bal  RFE_unbal  \n",
              "X1    0.075621  0.124593  0.105576   0.080087   -1       -1         -1  \n",
              "X2    0.130585  0.116771  0.113267   0.091999   -1       -1         -1  \n",
              "X3    0.030374  0.030910  0.044241   0.056712   -1       -1         -6  \n",
              "X4    0.175625  0.204025  0.133987   0.122631   -1       -1         -1  \n",
              "X5    0.064946  0.086907  0.079805   0.082176   -1       -1         -1  \n",
              "X6    0.078695  0.008103  0.028492   0.039102   -8       -4         -4  \n",
              "X7    0.024836  0.008218  0.026542   0.046938   -5       -1         -5  \n",
              "X8    0.029368  0.008241  0.029527   0.042750   -7       -2         -1  \n",
              "X9    0.031935  0.007985  0.030618   0.052450   -6       -3         -3  \n",
              "X10   0.030780  0.007440  0.026719   0.058599   -9       -1         -1  \n",
              "X11   0.059017  0.106018  0.110347   0.080919   -2       -1         -1  \n",
              "X12   0.104890  0.104079  0.096993   0.091330   -4       -1         -1  \n",
              "X13   0.015534  0.029207  0.044999   0.046816   -1       -5         -2  \n",
              "X14   0.147796  0.157503  0.128890   0.107490   -3       -1         -1  "
            ]
          },
          "metadata": {
            "tags": []
          },
          "execution_count": 26
        }
      ]
    },
    {
      "metadata": {
        "id": "Wf-zJWLnt7xG",
        "colab_type": "code",
        "outputId": "49508682-d28f-45d2-96c8-9dee77b1888c",
        "colab": {
          "base_uri": "https://localhost:8080/",
          "height": 557
        }
      },
      "cell_type": "code",
      "source": [
        "from sklearn.preprocessing import MinMaxScaler\n",
        "\n",
        "scaler = MinMaxScaler()\n",
        "scaled_df = scaler.fit_transform(comparisons)\n",
        "scaled_comparisons = pd.DataFrame(scaled_df, columns=comparisons.columns,\n",
        "                                 index=names)\n",
        "\n",
        "scaled_comparisons"
      ],
      "execution_count": 0,
      "outputs": [
        {
          "output_type": "stream",
          "text": [
            "/usr/local/lib/python3.6/dist-packages/sklearn/preprocessing/data.py:323: DataConversionWarning: Data with input dtype int64, float64 were all converted to float64 by MinMaxScaler.\n",
            "  return self.partial_fit(X, y)\n"
          ],
          "name": "stderr"
        },
        {
          "output_type": "execute_result",
          "data": {
            "text/html": [
              "<div>\n",
              "<style scoped>\n",
              "    .dataframe tbody tr th:only-of-type {\n",
              "        vertical-align: middle;\n",
              "    }\n",
              "\n",
              "    .dataframe tbody tr th {\n",
              "        vertical-align: top;\n",
              "    }\n",
              "\n",
              "    .dataframe thead th {\n",
              "        text-align: right;\n",
              "    }\n",
              "</style>\n",
              "<table border=\"1\" class=\"dataframe\">\n",
              "  <thead>\n",
              "    <tr style=\"text-align: right;\">\n",
              "      <th></th>\n",
              "      <th>MI_Reg_Scores</th>\n",
              "      <th>MIC_Bal_Scores</th>\n",
              "      <th>MIC_Unbal_Scores</th>\n",
              "      <th>RFR</th>\n",
              "      <th>RFC_bal</th>\n",
              "      <th>RFC_unbal</th>\n",
              "      <th>ETR</th>\n",
              "      <th>ETC_bal</th>\n",
              "      <th>ETC_unbal</th>\n",
              "      <th>RFE</th>\n",
              "      <th>RFE_bal</th>\n",
              "      <th>RFE_unbal</th>\n",
              "    </tr>\n",
              "  </thead>\n",
              "  <tbody>\n",
              "    <tr>\n",
              "      <th>X1</th>\n",
              "      <td>0.489754</td>\n",
              "      <td>0.538498</td>\n",
              "      <td>0.174183</td>\n",
              "      <td>0.610281</td>\n",
              "      <td>0.769634</td>\n",
              "      <td>0.375329</td>\n",
              "      <td>0.595941</td>\n",
              "      <td>0.735575</td>\n",
              "      <td>0.490660</td>\n",
              "      <td>1.000</td>\n",
              "      <td>1.00</td>\n",
              "      <td>1.0</td>\n",
              "    </tr>\n",
              "    <tr>\n",
              "      <th>X2</th>\n",
              "      <td>0.646649</td>\n",
              "      <td>0.974248</td>\n",
              "      <td>0.282945</td>\n",
              "      <td>0.270663</td>\n",
              "      <td>0.733926</td>\n",
              "      <td>0.718660</td>\n",
              "      <td>0.556153</td>\n",
              "      <td>0.807153</td>\n",
              "      <td>0.633275</td>\n",
              "      <td>1.000</td>\n",
              "      <td>1.00</td>\n",
              "      <td>1.0</td>\n",
              "    </tr>\n",
              "    <tr>\n",
              "      <th>X3</th>\n",
              "      <td>0.267194</td>\n",
              "      <td>0.055444</td>\n",
              "      <td>0.259036</td>\n",
              "      <td>0.090456</td>\n",
              "      <td>0.159033</td>\n",
              "      <td>0.092698</td>\n",
              "      <td>0.119387</td>\n",
              "      <td>0.164721</td>\n",
              "      <td>0.210819</td>\n",
              "      <td>1.000</td>\n",
              "      <td>1.00</td>\n",
              "      <td>0.0</td>\n",
              "    </tr>\n",
              "    <tr>\n",
              "      <th>X4</th>\n",
              "      <td>1.000000</td>\n",
              "      <td>1.000000</td>\n",
              "      <td>1.000000</td>\n",
              "      <td>1.000000</td>\n",
              "      <td>0.729859</td>\n",
              "      <td>1.000000</td>\n",
              "      <td>1.000000</td>\n",
              "      <td>1.000000</td>\n",
              "      <td>1.000000</td>\n",
              "      <td>1.000</td>\n",
              "      <td>1.00</td>\n",
              "      <td>1.0</td>\n",
              "    </tr>\n",
              "    <tr>\n",
              "      <th>X5</th>\n",
              "      <td>0.246328</td>\n",
              "      <td>0.000000</td>\n",
              "      <td>0.377462</td>\n",
              "      <td>0.304530</td>\n",
              "      <td>0.399514</td>\n",
              "      <td>0.308646</td>\n",
              "      <td>0.404238</td>\n",
              "      <td>0.495718</td>\n",
              "      <td>0.515675</td>\n",
              "      <td>1.000</td>\n",
              "      <td>1.00</td>\n",
              "      <td>1.0</td>\n",
              "    </tr>\n",
              "    <tr>\n",
              "      <th>X6</th>\n",
              "      <td>0.028786</td>\n",
              "      <td>0.000000</td>\n",
              "      <td>0.000000</td>\n",
              "      <td>0.000000</td>\n",
              "      <td>0.064555</td>\n",
              "      <td>0.394528</td>\n",
              "      <td>0.003373</td>\n",
              "      <td>0.018143</td>\n",
              "      <td>0.000000</td>\n",
              "      <td>0.125</td>\n",
              "      <td>0.25</td>\n",
              "      <td>0.4</td>\n",
              "    </tr>\n",
              "    <tr>\n",
              "      <th>X7</th>\n",
              "      <td>0.000000</td>\n",
              "      <td>0.000000</td>\n",
              "      <td>0.000000</td>\n",
              "      <td>0.000256</td>\n",
              "      <td>0.045787</td>\n",
              "      <td>0.058103</td>\n",
              "      <td>0.003961</td>\n",
              "      <td>0.000000</td>\n",
              "      <td>0.093808</td>\n",
              "      <td>0.500</td>\n",
              "      <td>1.00</td>\n",
              "      <td>0.2</td>\n",
              "    </tr>\n",
              "    <tr>\n",
              "      <th>X8</th>\n",
              "      <td>0.000000</td>\n",
              "      <td>0.000000</td>\n",
              "      <td>0.156048</td>\n",
              "      <td>0.001235</td>\n",
              "      <td>0.060536</td>\n",
              "      <td>0.086412</td>\n",
              "      <td>0.004077</td>\n",
              "      <td>0.027778</td>\n",
              "      <td>0.043674</td>\n",
              "      <td>0.250</td>\n",
              "      <td>0.75</td>\n",
              "      <td>1.0</td>\n",
              "    </tr>\n",
              "    <tr>\n",
              "      <th>X9</th>\n",
              "      <td>0.000000</td>\n",
              "      <td>0.000000</td>\n",
              "      <td>0.000000</td>\n",
              "      <td>0.001839</td>\n",
              "      <td>0.074299</td>\n",
              "      <td>0.102447</td>\n",
              "      <td>0.002772</td>\n",
              "      <td>0.037931</td>\n",
              "      <td>0.159792</td>\n",
              "      <td>0.375</td>\n",
              "      <td>0.50</td>\n",
              "      <td>0.6</td>\n",
              "    </tr>\n",
              "    <tr>\n",
              "      <th>X10</th>\n",
              "      <td>0.000000</td>\n",
              "      <td>0.160500</td>\n",
              "      <td>0.000000</td>\n",
              "      <td>0.002909</td>\n",
              "      <td>0.000000</td>\n",
              "      <td>0.095233</td>\n",
              "      <td>0.000000</td>\n",
              "      <td>0.001641</td>\n",
              "      <td>0.233413</td>\n",
              "      <td>0.000</td>\n",
              "      <td>1.00</td>\n",
              "      <td>1.0</td>\n",
              "    </tr>\n",
              "    <tr>\n",
              "      <th>X11</th>\n",
              "      <td>0.288332</td>\n",
              "      <td>0.560691</td>\n",
              "      <td>0.097037</td>\n",
              "      <td>0.142179</td>\n",
              "      <td>0.740731</td>\n",
              "      <td>0.271614</td>\n",
              "      <td>0.501454</td>\n",
              "      <td>0.779983</td>\n",
              "      <td>0.500626</td>\n",
              "      <td>0.875</td>\n",
              "      <td>1.00</td>\n",
              "      <td>1.0</td>\n",
              "    </tr>\n",
              "    <tr>\n",
              "      <th>X12</th>\n",
              "      <td>0.472359</td>\n",
              "      <td>0.800586</td>\n",
              "      <td>0.263120</td>\n",
              "      <td>0.469758</td>\n",
              "      <td>0.644020</td>\n",
              "      <td>0.558153</td>\n",
              "      <td>0.491588</td>\n",
              "      <td>0.655689</td>\n",
              "      <td>0.625267</td>\n",
              "      <td>0.625</td>\n",
              "      <td>1.00</td>\n",
              "      <td>1.0</td>\n",
              "    </tr>\n",
              "    <tr>\n",
              "      <th>X13</th>\n",
              "      <td>0.152859</td>\n",
              "      <td>0.253733</td>\n",
              "      <td>0.151435</td>\n",
              "      <td>0.064112</td>\n",
              "      <td>0.181579</td>\n",
              "      <td>0.000000</td>\n",
              "      <td>0.110728</td>\n",
              "      <td>0.171775</td>\n",
              "      <td>0.092352</td>\n",
              "      <td>1.000</td>\n",
              "      <td>0.00</td>\n",
              "      <td>0.8</td>\n",
              "    </tr>\n",
              "    <tr>\n",
              "      <th>X14</th>\n",
              "      <td>0.917472</td>\n",
              "      <td>0.962307</td>\n",
              "      <td>0.794023</td>\n",
              "      <td>0.378910</td>\n",
              "      <td>1.000000</td>\n",
              "      <td>0.826162</td>\n",
              "      <td>0.763350</td>\n",
              "      <td>0.952563</td>\n",
              "      <td>0.818731</td>\n",
              "      <td>0.750</td>\n",
              "      <td>1.00</td>\n",
              "      <td>1.0</td>\n",
              "    </tr>\n",
              "  </tbody>\n",
              "</table>\n",
              "</div>"
            ],
            "text/plain": [
              "     MI_Reg_Scores  MIC_Bal_Scores  MIC_Unbal_Scores       RFR   RFC_bal  \\\n",
              "X1        0.489754        0.538498          0.174183  0.610281  0.769634   \n",
              "X2        0.646649        0.974248          0.282945  0.270663  0.733926   \n",
              "X3        0.267194        0.055444          0.259036  0.090456  0.159033   \n",
              "X4        1.000000        1.000000          1.000000  1.000000  0.729859   \n",
              "X5        0.246328        0.000000          0.377462  0.304530  0.399514   \n",
              "X6        0.028786        0.000000          0.000000  0.000000  0.064555   \n",
              "X7        0.000000        0.000000          0.000000  0.000256  0.045787   \n",
              "X8        0.000000        0.000000          0.156048  0.001235  0.060536   \n",
              "X9        0.000000        0.000000          0.000000  0.001839  0.074299   \n",
              "X10       0.000000        0.160500          0.000000  0.002909  0.000000   \n",
              "X11       0.288332        0.560691          0.097037  0.142179  0.740731   \n",
              "X12       0.472359        0.800586          0.263120  0.469758  0.644020   \n",
              "X13       0.152859        0.253733          0.151435  0.064112  0.181579   \n",
              "X14       0.917472        0.962307          0.794023  0.378910  1.000000   \n",
              "\n",
              "     RFC_unbal       ETR   ETC_bal  ETC_unbal    RFE  RFE_bal  RFE_unbal  \n",
              "X1    0.375329  0.595941  0.735575   0.490660  1.000     1.00        1.0  \n",
              "X2    0.718660  0.556153  0.807153   0.633275  1.000     1.00        1.0  \n",
              "X3    0.092698  0.119387  0.164721   0.210819  1.000     1.00        0.0  \n",
              "X4    1.000000  1.000000  1.000000   1.000000  1.000     1.00        1.0  \n",
              "X5    0.308646  0.404238  0.495718   0.515675  1.000     1.00        1.0  \n",
              "X6    0.394528  0.003373  0.018143   0.000000  0.125     0.25        0.4  \n",
              "X7    0.058103  0.003961  0.000000   0.093808  0.500     1.00        0.2  \n",
              "X8    0.086412  0.004077  0.027778   0.043674  0.250     0.75        1.0  \n",
              "X9    0.102447  0.002772  0.037931   0.159792  0.375     0.50        0.6  \n",
              "X10   0.095233  0.000000  0.001641   0.233413  0.000     1.00        1.0  \n",
              "X11   0.271614  0.501454  0.779983   0.500626  0.875     1.00        1.0  \n",
              "X12   0.558153  0.491588  0.655689   0.625267  0.625     1.00        1.0  \n",
              "X13   0.000000  0.110728  0.171775   0.092352  1.000     0.00        0.8  \n",
              "X14   0.826162  0.763350  0.952563   0.818731  0.750     1.00        1.0  "
            ]
          },
          "metadata": {
            "tags": []
          },
          "execution_count": 27
        }
      ]
    },
    {
      "metadata": {
        "id": "fOOPHKCkv0XE",
        "colab_type": "text"
      },
      "cell_type": "markdown",
      "source": [
        "### What do you notice from the diagram below?"
      ]
    },
    {
      "metadata": {
        "id": "UI33JVjEvUKh",
        "colab_type": "code",
        "outputId": "6d48acb5-a5af-4c0b-dcea-4a694dd8f12e",
        "colab": {
          "base_uri": "https://localhost:8080/",
          "height": 428
        }
      },
      "cell_type": "code",
      "source": [
        "sns.heatmap(scaled_comparisons);"
      ],
      "execution_count": 0,
      "outputs": [
        {
          "output_type": "display_data",
          "data": {
            "image/png": "[encoded data removed]",
            "text/plain": [
              "<Figure size 576x396 with 2 Axes>"
            ]
          },
          "metadata": {
            "tags": []
          }
        }
      ]
    },
    {
      "metadata": {
        "id": "trnLEttcbPx2",
        "colab_type": "text"
      },
      "cell_type": "markdown",
      "source": [
        "Head, Tim [Cross Validation Gone Wrong](https://betatim.github.io/posts/cross-validation-gone-wrong/)\n",
        "\n",
        ">Choosing your input features is just one of the many choices you have to make when building your machine-learning application. Remember to make all decisions during the cross validation, otherwise you are in for a rude awakening when your model is confronted with unseen data for the first time."
      ]
    },
    {
      "metadata": {
        "id": "TlcV0N7lbPx4",
        "colab_type": "text"
      },
      "cell_type": "markdown",
      "source": [
        "![Image of Machine Learning](https://www.capgemini.com/wp-content/uploads/2017/07/machinelearning_v2.png)\n",
        "\n",
        "\\[Image by Angarita, Natalia for [Capgemini](https://www.capgemini.com/2016/05/machine-learning-has-transformed-many-aspects-of-our-everyday-life/)\\]"
      ]
    },
    {
      "metadata": {
        "id": "3nfX15mDbPx7",
        "colab_type": "text"
      },
      "cell_type": "markdown",
      "source": [
        "**I don't fully support this diagram for a few reasons.**\n",
        "\n",
        "* I would replace \"Feature Engineering\" with \"Data Cleaning\"\n",
        "* Feature engineering can be done alongside either data cleaning or training your model--it can be done before *or* after splitting your data. (But it will need to be part of the final pipeline.)\n",
        "* Any feature standardization happens **after** the split\n",
        "* And you can use cross validation instead of an independent validation set\n",
        "\n",
        "However **feature selection (Goal 1) is part of choosing and training a model and should happen *after* splitting**. Feature selection belongs safely **inside the dotted line**.\n",
        "\n",
        "\"But doesn't it make sense to make your decisions based on all the information?\"\n",
        "\n",
        "NO! Mr. Head has a point!\n",
        "\n",
        "## The number of features you end up using *is* a hyperparameter. Don't cross the dotted line while hyperparameter tuning!!! Work on goal 1 AFTER splitting.\n",
        "\n",
        "I know you want to see how your model is performing... \"just real quick\"... but don't do it!\n",
        "\n",
        "...\n",
        "\n",
        "Don't!\n",
        "\n",
        "*(Kaggle does the initial train-test split for you. It doesn't even let you **see** the target values for the test data. How you like dem apples?)*\n",
        "\n",
        "![](https://media.giphy.com/media/3o7TKGoQ8721rQQ0es/giphy.gif)\n",
        "\n",
        "What you **can** do is create multiple \"final\" models by hyperparameter tuning different types of models (all inside the dotted line!), then use the final hold-out test to see which does best.\n",
        "\n",
        "**All this is said with the caveat that you have a large enough dataset to support three way validation or a test set plus cross-validation**\n",
        "\n",
        "## On the flip side, feature *interpretation* (Goal 2) can be done with all the data, before splitting, since you are looking to get a full understanding underlying the relationships in the dataset."
      ]
    },
    {
      "metadata": {
        "id": "Bc6bcXVrbPx9",
        "colab_type": "code",
        "colab": {}
      },
      "cell_type": "code",
      "source": [
        ""
      ],
      "execution_count": 0,
      "outputs": []
    }
  ]
}