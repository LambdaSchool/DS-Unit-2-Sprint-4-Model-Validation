{
  "nbformat": 4,
  "nbformat_minor": 0,
  "metadata": {
    "colab": {
      "name": "U2-S4-D4-Cross-Validation-AND-Feature-Selection LIVE LESSON.ipynb",
      "version": "0.3.2",
      "provenance": [],
      "collapsed_sections": [],
      "include_colab_link": true
    },
    "kernelspec": {
      "name": "python3",
      "display_name": "Python 3"
    }
  },
  "cells": [
    {
      "cell_type": "markdown",
      "metadata": {
        "id": "view-in-github",
        "colab_type": "text"
      },
      "source": [
        "<a href=\"https://colab.research.google.com/github/zarrinan/DS-Unit-2-Sprint-4-Model-Validation/blob/master/module-4-select-important-features/U2_S4_D4_Cross_Validation_AND_Feature_Selection_LIVE_LESSON.ipynb\" target=\"_parent\"><img src=\"https://colab.research.google.com/assets/colab-badge.svg\" alt=\"Open In Colab\"/></a>"
      ]
    },
    {
      "metadata": {
        "id": "3ctjQBseh0Cw",
        "colab_type": "text"
      },
      "cell_type": "markdown",
      "source": [
        "## Week Material"
      ]
    },
    {
      "metadata": {
        "id": "B7wkluPGFiu1",
        "colab_type": "code",
        "colab": {}
      },
      "cell_type": "code",
      "source": [
        "#Turn off for now data conversion warnings\n",
        "import warnings\n",
        "from sklearn.exceptions import DataConversionWarning\n",
        "warnings.filterwarnings(action='ignore', category=DataConversionWarning)"
      ],
      "execution_count": 0,
      "outputs": []
    },
    {
      "metadata": {
        "id": "T6uzBSKPHrBn",
        "colab_type": "code",
        "colab": {}
      },
      "cell_type": "code",
      "source": [
        "# X = data.drop(columns='y')\n",
        "# y = data['y'] == 'yes'\n",
        "#weather = pd.read_csv(url, parse_dates=['DATE']).set_index('DATE')\n",
        "#weather['2015':'2018'].TMAX.plot()"
      ],
      "execution_count": 0,
      "outputs": []
    },
    {
      "metadata": {
        "id": "wo87eG2OGugd",
        "colab_type": "code",
        "colab": {}
      },
      "cell_type": "code",
      "source": [
        "#Train-validation-test split\n",
        "def train_validation_test_split(\n",
        "    X, y, train_size=0.8, val_size=0.1, test_size=0.1, \n",
        "    random_state=None, shuffle=True):\n",
        "        \n",
        "    assert train_size + val_size + test_size == 1\n",
        "    \n",
        "    X_train_val, X_test, y_train_val, y_test = train_test_split(\n",
        "        X, y, test_size=test_size, random_state=random_state, shuffle=shuffle)\n",
        "    \n",
        "    X_train, X_val, y_train, y_val = train_test_split(\n",
        "        X_train_val, y_train_val, test_size=val_size/(train_size+val_size), \n",
        "        random_state=random_state, shuffle=shuffle)\n",
        "    \n",
        "    return X_train, X_val, X_test, y_train, y_val, y_test\n",
        "\n",
        "\n",
        "#check the resulting arrays  \n",
        "[array.shape for array in (X_train, X_val, X_test, y_train, y_val, y_test)]\n",
        "y_train.mean(), y_val.mean(), y_test.mean()\n",
        "\n",
        "#plot the target\n",
        "y.rolling(500).mean().plot();\n",
        "\n",
        "y_val.value_counts(normalize=True);\n",
        "y_train.describe()\n",
        "\n",
        "sns.countplot(x='y', data=df, palette='hls')\n",
        "plt.show();\n",
        "\n",
        "\n",
        "import seaborn as sns\n",
        "sns.distplot(y_train);"
      ],
      "execution_count": 0,
      "outputs": []
    },
    {
      "metadata": {
        "id": "nnrulqMQE-Io",
        "colab_type": "code",
        "colab": {}
      },
      "cell_type": "code",
      "source": [
        "#majority class baseline\n",
        "import numpy as np\n",
        "from sklearn.metrics import accuracy_score\n",
        "\n",
        "majority_class = y_train.mode()[0]\n",
        "y_pred = np.full(shape=y_test.shape, fill_value=majority_class)\n",
        "\n",
        "accuracy_score(y_test, y_pred)"
      ],
      "execution_count": 0,
      "outputs": []
    },
    {
      "metadata": {
        "id": "Ecp9qjNTlkWR",
        "colab_type": "code",
        "colab": {}
      },
      "cell_type": "code",
      "source": [
        "#mean baseline\n",
        "\n",
        "import numpy as np\n",
        "y_pred = np.full(shape=y_train.shape, fill_value=y_train.mean())\n",
        "mean_absolute_error(y_train, y_pred)"
      ],
      "execution_count": 0,
      "outputs": []
    },
    {
      "metadata": {
        "id": "w_EHi66laf1Q",
        "colab_type": "code",
        "colab": {}
      },
      "cell_type": "code",
      "source": [
        "print(classification_report(y_val, y_pred))"
      ],
      "execution_count": 0,
      "outputs": []
    },
    {
      "metadata": {
        "id": "W804ZDdWJH4O",
        "colab_type": "code",
        "colab": {}
      },
      "cell_type": "code",
      "source": [
        "#mean baseline\n",
        "from sklearn.metrics import mean_absolute_error\n",
        "\n",
        "predicted = [df[column]mean()] * len(df)  \n",
        "mean_absolute_error(df[target], predicted)"
      ],
      "execution_count": 0,
      "outputs": []
    },
    {
      "metadata": {
        "id": "QF_OLJbRKayc",
        "colab_type": "code",
        "colab": {}
      },
      "cell_type": "code",
      "source": [
        "# Make a feature for yesterday's total\n",
        "daily['Total_yesterday'] = daily.Total.shift(1)\n",
        "daily = daily.drop(index=daily.index[0])"
      ],
      "execution_count": 0,
      "outputs": []
    },
    {
      "metadata": {
        "id": "hiivexNdJwLb",
        "colab_type": "code",
        "colab": {}
      },
      "cell_type": "code",
      "source": [
        "X_train_numeric = X_train.select_dtypes(np.number)"
      ],
      "execution_count": 0,
      "outputs": []
    },
    {
      "metadata": {
        "id": "j4h8SRenFvCd",
        "colab_type": "code",
        "colab": {}
      },
      "cell_type": "code",
      "source": [
        "#logistic regression model with onehotencoder and standardscaler\n",
        "!pip install category_encoders\n",
        "\n",
        "import category_encoders as ce\n",
        "\n",
        "pipeline = make_pipeline(\n",
        "    ce.OneHotEncoder(use_cat_names=True), \n",
        "    StandardScaler(), \n",
        "    LogisticRegression(solver='lbfgs')\n",
        ")\n",
        "\n",
        "pipeline.fit(X_train, y_train)\n",
        "y_pred = pipeline.predict(X_test)\n",
        "accuracy_score(y_test, y_pred)\n",
        "\n",
        "\n",
        "#visualize coefficients\n",
        "plt.figure(figsize=(10,30))\n",
        "plt.title('Coefficients')\n",
        "\n",
        "coefficients = pipeline.named_steps['logisticregression'].coef_[0]\n",
        "feature_names = pipeline.named_steps['onehotencoder'].transform(X_train).columns\n",
        "pd.Series(coefficients, feature_names).sort_values().plot.barh(color='gray');"
      ],
      "execution_count": 0,
      "outputs": []
    },
    {
      "metadata": {
        "id": "4PLdvQ2nF_2u",
        "colab_type": "code",
        "colab": {}
      },
      "cell_type": "code",
      "source": [
        "from sklearn.model_selection import cross_val_score\n",
        "scores = cross_val_score(pipeline, X_train, y_train, scoring='accuracy', cv=10)\n",
        "scores.mean(), scores.std()"
      ],
      "execution_count": 0,
      "outputs": []
    },
    {
      "metadata": {
        "id": "kd0hC9sXZoAE",
        "colab_type": "code",
        "colab": {}
      },
      "cell_type": "code",
      "source": [
        "%matplotlib inline\n",
        "import matplotlib.pyplot as plt\n",
        "from sklearn.datasets import make_classification\n",
        "from sklearn.metrics import accuracy_score, classification_report\n",
        "from sklearn.linear_model import LogisticRegression\n",
        "from mlxtend.plotting import plot_decision_regions\n",
        "\n",
        "\n",
        "#1. Generate data\n",
        "\n",
        "# Try re-running the cell with different values for these parameters\n",
        "n_samples = 1000\n",
        "weights = (0.95, 0.05)\n",
        "class_sep = 0.8\n",
        "\n",
        "X, y = make_classification(n_samples=n_samples, n_features=2, n_informative=2, \n",
        "                           n_redundant=0, n_repeated=0, n_classes=2, \n",
        "                           n_clusters_per_class=1, weights=weights, \n",
        "                           class_sep=class_sep, random_state=0)\n",
        "\n",
        "\n",
        "# 2. Split data\n",
        "\n",
        "# Uses our custom train_validation_test_split function\n",
        "X_train, X_val, X_test, y_train, y_val, y_test = train_validation_test_split(\n",
        "    X, y, train_size=0.8, val_size=0.1, test_size=0.1, random_state=1)\n",
        "\n",
        "\n",
        "# 3. Fit model\n",
        "\n",
        "# Try re-running the cell with different values for this parameter\n",
        "#it can be 'balanced', None, or in a form of dictionary\n",
        "class_weight = {0: 1, 1: 10}\n",
        "\n",
        "model = LogisticRegression(solver='lbfgs', class_weight=class_weight)\n",
        "model.fit(X_train, y_train)\n",
        "\n",
        "\n",
        "# 4. Evaluate model\n",
        "\n",
        "y_pred = model.predict(X_val)\n",
        "print(classification_report(y_val, y_pred))\n",
        "print('accuracy', accuracy_score(y_val, y_pred))\n",
        "\n",
        "\n",
        "# 5. Visualize decision regions\n",
        "\n",
        "plt.figure(figsize=(10, 6))\n",
        "plot_decision_regions(X_val, y_val, model, legend=0);"
      ],
      "execution_count": 0,
      "outputs": []
    },
    {
      "metadata": {
        "id": "7PAQE0VZabYG",
        "colab_type": "code",
        "colab": {}
      },
      "cell_type": "code",
      "source": [
        "print(classification_report(y_val, y_pred))"
      ],
      "execution_count": 0,
      "outputs": []
    },
    {
      "metadata": {
        "id": "y28x8TJnaqFk",
        "colab_type": "code",
        "colab": {}
      },
      "cell_type": "code",
      "source": [
        "from yellowbrick.classifier import ConfusionMatrix\n",
        "\n",
        "cm = ConfusionMatrix(pipeline)\n",
        "cm.score(X_val, y_val)\n",
        "cm.poof()"
      ],
      "execution_count": 0,
      "outputs": []
    },
    {
      "metadata": {
        "id": "8vFxtg1_cReM",
        "colab_type": "code",
        "colab": {}
      },
      "cell_type": "code",
      "source": [
        "#Visualize confusion matrix using sklearn\n",
        "\n",
        "def confusion_viz(y_true, y_pred, normalize=False):\n",
        "  \n",
        "    from sklearn.metrics import confusion_matrix\n",
        "    import matplotlib.pyplot as plt\n",
        "    import seaborn as sns\n",
        "    \n",
        "    cm = confusion_matrix(y_true, y_pred, labels = [0,1])\n",
        "    \n",
        "    if normalize:\n",
        "        cm = cm.astype('float') / cm.sum(axis=1)[:, np.newaxis]\n",
        "    \n",
        "   \n",
        "    return sns.heatmap(cm, annot=True, \n",
        "                       fmt='.4g', linewidths=1, linecolor='grey', \n",
        "                       square=True, \n",
        "                       xticklabels=['Predicted\\nNEGATIVE', 'Predicted\\nPOSITIVE'], \n",
        "                       yticklabels=['Actual\\nNEGATIVE', 'Actual\\nPOSITIVE'])\n",
        "\n",
        "confusion_viz(y_val, y_pred);"
      ],
      "execution_count": 0,
      "outputs": []
    },
    {
      "metadata": {
        "id": "--j5kehpcnxQ",
        "colab_type": "text"
      },
      "cell_type": "markdown",
      "source": [
        "#### Recall =  Actual TRUE / (Actual TRUE + Predicted TRUE)\n",
        "\n",
        "\n",
        "#### Precision = Actual TRUE / (Actual TRUE + Actual FALSE)\n",
        "\n",
        "\n",
        "#### Accuracy score  = (Actual TRUE + Actual FALSE) / (Actual TRUE + Actual FALSE + Negative TRUE + Negative FALSE)\n",
        "\n",
        "\n",
        "#### Class (im)balance = Actual FALSE /  (Actual TRUE + Actual FALSE + Negative TRUE + Negative FALSE)\n",
        "\n",
        "\n"
      ]
    },
    {
      "metadata": {
        "id": "m869nJZrdDqk",
        "colab_type": "code",
        "colab": {}
      },
      "cell_type": "code",
      "source": [
        "#recall\n",
        "from sklearn.metrics import recall_score\n",
        "recall_score(y_val, y_pred)\n",
        "\n",
        "\n",
        "#precision\n",
        "from sklearn.metrics import precision_score\n",
        "precision_score(y_val, y_pred)\n",
        "\n",
        "#accuracy\n",
        "accuracy_score(y_val, y_pred)\n",
        "\n",
        "\n",
        "#class (im)balance\n",
        "y_val.value_counts(normalize=True)"
      ],
      "execution_count": 0,
      "outputs": []
    },
    {
      "metadata": {
        "id": "roI-X38Fehbk",
        "colab_type": "code",
        "colab": {}
      },
      "cell_type": "code",
      "source": [
        "#logistic regression summary\n",
        "import statsmodels.api as sm\n",
        "logit_model=sm.Logit(yf,Xf)\n",
        "result=logit_model.fit()\n",
        "print(result.summary2())"
      ],
      "execution_count": 0,
      "outputs": []
    },
    {
      "metadata": {
        "id": "TkGgQxF3emjl",
        "colab_type": "code",
        "colab": {}
      },
      "cell_type": "code",
      "source": [
        "#linear regression summary\n",
        "import statsmodels.api as sm\n",
        "model = sm.OLS(y_train, sm.add_constant(X_train))\n",
        "print(model.fit().summary());"
      ],
      "execution_count": 0,
      "outputs": []
    },
    {
      "metadata": {
        "id": "QQl8Ms9Eo9pX",
        "colab_type": "code",
        "colab": {}
      },
      "cell_type": "code",
      "source": [
        "from sklearn.model_selection import GridSearchCV\n",
        "\n",
        "param_grid = {\n",
        "    'polynomialfeatures__degree': [0, 1, 2, 3]\n",
        "}\n",
        "\n",
        "gridsearch = GridSearchCV(PolynomialRegression(), param_grid=param_grid, \n",
        "                          scoring='neg_mean_absolute_error', cv=3, \n",
        "                          return_train_score=True, verbose=10)\n",
        "\n",
        "gridsearch.fit(X_train, y_train)"
      ],
      "execution_count": 0,
      "outputs": []
    },
    {
      "metadata": {
        "id": "DBChwOafpbTY",
        "colab_type": "code",
        "colab": {}
      },
      "cell_type": "code",
      "source": [
        "%%time\n",
        "\n",
        "param_grid = {\n",
        "    'n_estimators': [100, 200], \n",
        "    'max_depth': [4, 5], \n",
        "    'criterion': ['mse', 'mae']\n",
        "}\n",
        "\n",
        "gridsearch = GridSearchCV(RandomForestRegressor(), param_grid=param_grid, \n",
        "                          scoring='neg_mean_absolute_error', cv=3, \n",
        "                          return_train_score=True, verbose=10)\n",
        "\n",
        "gridsearch.fit(X_train, y_train)"
      ],
      "execution_count": 0,
      "outputs": []
    },
    {
      "metadata": {
        "id": "qWzlHnHJpkrO",
        "colab_type": "code",
        "colab": {}
      },
      "cell_type": "code",
      "source": [
        "results = pd.DataFrame(gridsearch.cv_results_)\n",
        "results.sort_values(by='rank_test_score').head(1)"
      ],
      "execution_count": 0,
      "outputs": []
    },
    {
      "metadata": {
        "id": "GykRed0Qo72A",
        "colab_type": "code",
        "colab": {}
      },
      "cell_type": "code",
      "source": [
        "pd.DataFrame(gridsearch.cv_results_).sort_values(by='rank_test_score')"
      ],
      "execution_count": 0,
      "outputs": []
    },
    {
      "metadata": {
        "id": "qrHBvqx1GXW8",
        "colab_type": "text"
      },
      "cell_type": "markdown",
      "source": [
        "_Lambda School Data Science - Model Validation_\n",
        "\n",
        "## Example solution to the Cross-Validation assignment — plus Feature Selection!\n",
        "\n",
        "See also Sebastian Raschka's example, [Basic Pipeline and Grid Search Setup](https://github.com/rasbt/python-machine-learning-book/blob/master/code/bonus/svm_iris_pipeline_and_gridsearch.ipynb)."
      ]
    },
    {
      "metadata": {
        "id": "aHUVU_AMBKs0",
        "colab_type": "code",
        "colab": {}
      },
      "cell_type": "code",
      "source": [
        "# We'll modify a project from Python Data Science Handbook by Jake VanderPlas\n",
        "# https://jakevdp.github.io/PythonDataScienceHandbook/05.06-linear-regression.html#Example:-Predicting-Bicycle-Traffic\n",
        "    \n",
        "# Predicting Bicycle Traffic\n",
        "\n",
        "# As an example, let's take a look at whether we can predict the number of \n",
        "# bicycle trips across Seattle's Fremont Bridge based on weather, season, \n",
        "# and other factors.\n",
        "\n",
        "# We will join the bike data with another dataset, and try to determine the \n",
        "# extent to which weather and seasonal factors—temperature, precipitation, \n",
        "# and daylight hours—affect the volume of bicycle traffic through this corridor. \n",
        "# Fortunately, the NOAA makes available their daily weather station data \n",
        "# (I used station ID USW00024233) and we can easily use Pandas to join \n",
        "# the two data sources.\n",
        "\n",
        "\n",
        "import numpy as np\n",
        "import pandas as pd\n",
        "from sklearn.feature_selection import f_regression, SelectKBest\n",
        "from sklearn.linear_model import Ridge\n",
        "from sklearn.metrics import mean_absolute_error\n",
        "from sklearn.model_selection import GridSearchCV\n",
        "from sklearn.pipeline import make_pipeline\n",
        "from sklearn.preprocessing import RobustScaler\n",
        "\n",
        "\n",
        "def load(): \n",
        "    fremont_bridge = 'https://data.seattle.gov/api/views/65db-xm6k/rows.csv?accessType=DOWNLOAD'\n",
        "    \n",
        "    bicycle_weather = 'https://raw.githubusercontent.com/jakevdp/PythonDataScienceHandbook/master/notebooks/data/BicycleWeather.csv'\n",
        "\n",
        "    counts = pd.read_csv(fremont_bridge, index_col='Date', parse_dates=True, \n",
        "                         infer_datetime_format=True)\n",
        "\n",
        "    weather = pd.read_csv(bicycle_weather, index_col='DATE', parse_dates=True, \n",
        "                          infer_datetime_format=True)\n",
        "\n",
        "    daily = counts.resample('d').sum()\n",
        "    daily['Total'] = daily.sum(axis=1)\n",
        "    daily = daily[['Total']] # remove other columns\n",
        "\n",
        "    weather_columns = ['PRCP', 'SNOW', 'SNWD', 'TMAX', 'TMIN', 'AWND']\n",
        "    daily = daily.join(weather[weather_columns], how='inner')\n",
        "    \n",
        "    # Make a feature for yesterday's total\n",
        "    daily['Total_yesterday'] = daily.Total.shift(1)\n",
        "    daily = daily.drop(index=daily.index[0])\n",
        "    \n",
        "    return daily\n",
        "\n",
        "    \n",
        "def split(daily):\n",
        "    # Hold out an \"out-of-time\" test set, from the last 100 days of data\n",
        "    \n",
        "    train = daily[:-100]\n",
        "    test = daily[-100:]\n",
        "    \n",
        "    X_train = train.drop(columns='Total')\n",
        "    y_train = train.Total\n",
        "\n",
        "    X_test  = test.drop(columns='Total')\n",
        "    y_test  = test.Total\n",
        "    \n",
        "    return X_train, X_test, y_train, y_test\n",
        "\n",
        "\n",
        "def jake_wrangle(X):  \n",
        "    X = X.copy()\n",
        "\n",
        "    # patterns of use generally vary from day to day; \n",
        "    # let's add binary columns that indicate the day of the week:\n",
        "    days = ['Mon', 'Tue', 'Wed', 'Thu', 'Fri', 'Sat', 'Sun']\n",
        "    for i, day in enumerate(days):\n",
        "        X[day] = (X.index.dayofweek == i).astype(float)\n",
        "\n",
        "\n",
        "    # we might expect riders to behave differently on holidays; \n",
        "    # let's add an indicator of this as well:\n",
        "    from pandas.tseries.holiday import USFederalHolidayCalendar\n",
        "    cal = USFederalHolidayCalendar()\n",
        "    holidays = cal.holidays('2012', '2016')\n",
        "    X = X.join(pd.Series(1, index=holidays, name='holiday'))\n",
        "    X['holiday'].fillna(0, inplace=True)\n",
        "\n",
        "\n",
        "    # We also might suspect that the hours of daylight would affect \n",
        "    # how many people ride; let's use the standard astronomical calculation \n",
        "    # to add this information:\n",
        "    def hours_of_daylight(date, axis=23.44, latitude=47.61):\n",
        "        \"\"\"Compute the hours of daylight for the given date\"\"\"\n",
        "        days = (date - pd.datetime(2000, 12, 21)).days\n",
        "        m = (1. - np.tan(np.radians(latitude))\n",
        "             * np.tan(np.radians(axis) * np.cos(days * 2 * np.pi / 365.25)))\n",
        "        return 24. * np.degrees(np.arccos(1 - np.clip(m, 0, 2))) / 180.\n",
        "\n",
        "    X['daylight_hrs'] = list(map(hours_of_daylight, X.index))\n",
        "\n",
        "\n",
        "    # temperatures are in 1/10 deg C; convert to C\n",
        "    X['TMIN'] /= 10\n",
        "    X['TMAX'] /= 10\n",
        "\n",
        "    # We can also calcuate the average temperature.\n",
        "    X['Temp (C)'] = 0.5 * (X['TMIN'] + X['TMAX'])\n",
        "\n",
        "\n",
        "    # precip is in 1/10 mm; convert to inches\n",
        "    X['PRCP'] /= 254\n",
        "\n",
        "    # In addition to the inches of precipitation, let's add a flag that \n",
        "    # indicates whether a day is dry (has zero precipitation):\n",
        "    X['dry day'] = (X['PRCP'] == 0).astype(int)\n",
        "\n",
        "\n",
        "    # Let's add a counter that increases from day 1, and measures how many \n",
        "    # years have passed. This will let us measure any observed annual increase \n",
        "    # or decrease in daily crossings:\n",
        "    X['annual'] = (X.index - X.index[0]).days / 365.\n",
        "\n",
        "    return X\n",
        "\n",
        "\n",
        "def wrangle(X):\n",
        "    # From Daniel H (DS1 KotH) & friends!\n",
        "    X = X.copy()\n",
        "    X = X.replace(-9999, 0)\n",
        "    X = jake_wrangle(X)\n",
        "    \n",
        "    X['PRCP_yest'] = X.PRCP.shift(1).fillna(X.PRCP.mean())\n",
        "    X['Windchill'] = (((X['Temp (C)'] * (9/5) + 32) * .6215) + 34.74) - (35.75 * (X['AWND']** .16)) + (.4275 * (X['Temp (C)'])) * (X['AWND'] ** .16)\n",
        "    X['Rl_Cold'] = (((X['Temp (C)'] * (9/5) + 32) - X['Windchill']) -32) * (5/9)\n",
        "    X['TMIN_ln'] = X['TMIN'] **2\n",
        "    \n",
        "    months = ['Jan', 'Feb', 'Mar', 'Apr', 'May', 'Jun', 'Jul', 'Aug', 'Sep', 'Oct', 'Nov', 'Dec']\n",
        "    for i, month in enumerate(months):\n",
        "        X[month] = (X.index.month == i+1).astype(float)\n",
        "    \n",
        "    return X"
      ],
      "execution_count": 0,
      "outputs": []
    },
    {
      "metadata": {
        "id": "vQN2O9PCAkBn",
        "colab_type": "code",
        "colab": {}
      },
      "cell_type": "code",
      "source": [
        "# Download and join data into a dataframe\n",
        "data = load()"
      ],
      "execution_count": 0,
      "outputs": []
    },
    {
      "metadata": {
        "id": "NJrNph8IFyOM",
        "colab_type": "code",
        "outputId": "ec97018f-cdc0-464a-b72d-5955571ac38f",
        "colab": {
          "base_uri": "https://localhost:8080/",
          "height": 262
        }
      },
      "cell_type": "code",
      "source": [
        "%%time\n",
        "\n",
        "# Split data into train and test\n",
        "X_train, X_test, y_train, y_test = split(data)\n",
        "\n",
        "# Do the same wrangling to X_train and X_test\n",
        "X_train = wrangle(X_train)\n",
        "X_test  = wrangle(X_test)\n",
        "\n",
        "# Define an estimator and param_grid\n",
        "pipe = make_pipeline(\n",
        "    RobustScaler(), \n",
        "    SelectKBest(f_regression), \n",
        "    Ridge())\n",
        "\n",
        "param_grid = {\n",
        "    'selectkbest__k': range(1, len(X_train.columns)+1), \n",
        "    'ridge__alpha': np.arange(1,30)\n",
        "}\n",
        "\n",
        "# Fit on the train set, with grid search cross-validation\n",
        "gs = GridSearchCV(pipe, param_grid=param_grid, cv=3, \n",
        "                  scoring='neg_mean_absolute_error', \n",
        "                  return_train_score=True,\n",
        "                  verbose=1)\n",
        "\n",
        "gs.fit(X_train, y_train)\n",
        "validation_score = gs.best_score_\n",
        "print()\n",
        "print('Cross-Validation Score:', -validation_score)\n",
        "print()\n",
        "print('Best estimator:', gs.best_estimator_)\n",
        "print()\n"
      ],
      "execution_count": 0,
      "outputs": [
        {
          "output_type": "stream",
          "text": [
            "Fitting 3 folds for each of 1015 candidates, totalling 3045 fits\n"
          ],
          "name": "stdout"
        },
        {
          "output_type": "stream",
          "text": [
            "[Parallel(n_jobs=1)]: Using backend SequentialBackend with 1 concurrent workers.\n"
          ],
          "name": "stderr"
        },
        {
          "output_type": "stream",
          "text": [
            "\n",
            "Cross-Validation Score: 295.74428833442823\n",
            "\n",
            "Best estimator: Pipeline(memory=None,\n",
            "     steps=[('robustscaler', RobustScaler(copy=True, quantile_range=(25.0, 75.0), with_centering=True,\n",
            "       with_scaling=True)), ('selectkbest', SelectKBest(k=30, score_func=<function f_regression at 0x7fef0adae840>)), ('ridge', Ridge(alpha=4, copy_X=True, fit_intercept=True, max_iter=None,\n",
            "   normalize=False, random_state=None, solver='auto', tol=0.001))])\n",
            "\n",
            "CPU times: user 1min 16s, sys: 49.1 s, total: 2min 6s\n",
            "Wall time: 1min 3s\n"
          ],
          "name": "stdout"
        },
        {
          "output_type": "stream",
          "text": [
            "[Parallel(n_jobs=1)]: Done 3045 out of 3045 | elapsed:  1.1min finished\n"
          ],
          "name": "stderr"
        }
      ]
    },
    {
      "metadata": {
        "id": "fLe8htcq6d1C",
        "colab_type": "code",
        "outputId": "9fc13d5f-617b-4ab5-c270-ec388e6a076a",
        "colab": {
          "base_uri": "https://localhost:8080/",
          "height": 376
        }
      },
      "cell_type": "code",
      "source": [
        "import matplotlib.pyplot as plt\n",
        "results = pd.DataFrame(gs.cv_results_)\n",
        "plt.plot(results['param_ridge__alpha'], results['mean_test_score'])\n",
        "plt.title('Mean Test Score vs Alpha')\n",
        "plt.ylabel('mean test negative mean absolute error')\n",
        "plt.xlabel('alpha values')\n",
        "plt.show()"
      ],
      "execution_count": 0,
      "outputs": [
        {
          "output_type": "display_data",
          "data": {
            "image/png": "[encoded data removed]",
            "text/plain": [
              "<Figure size 576x396 with 1 Axes>"
            ]
          },
          "metadata": {
            "tags": []
          }
        }
      ]
    },
    {
      "metadata": {
        "id": "AR4bo95ZJFwj",
        "colab_type": "code",
        "outputId": "402a7e87-de42-45e4-c59c-2677f4ff56bc",
        "colab": {
          "base_uri": "https://localhost:8080/",
          "height": 35
        }
      },
      "cell_type": "code",
      "source": [
        "# Predict with X_test features\n",
        "y_pred = gs.predict(X_test)\n",
        "\n",
        "# Compare predictions to y_test labels\n",
        "test_score = mean_absolute_error(y_test, y_pred)\n",
        "print('Test Score:', test_score)"
      ],
      "execution_count": 0,
      "outputs": [
        {
          "output_type": "stream",
          "text": [
            "Test Score: 329.6998488176086\n"
          ],
          "name": "stdout"
        }
      ]
    },
    {
      "metadata": {
        "id": "7MQYtnmxV159",
        "colab_type": "code",
        "outputId": "08668d9d-ecaf-46a9-ec4e-8299abbf8e82",
        "colab": {
          "base_uri": "https://localhost:8080/",
          "height": 35
        }
      },
      "cell_type": "code",
      "source": [
        "# Or use the grid search's score method, \n",
        "# which combines these steps\n",
        "test_score = gs.score(X_test, y_test)\n",
        "print('Test Score:', -test_score)"
      ],
      "execution_count": 0,
      "outputs": [
        {
          "output_type": "stream",
          "text": [
            "Test Score: 321.98359011482916\n"
          ],
          "name": "stdout"
        }
      ]
    },
    {
      "metadata": {
        "id": "7qeb9ed8bIAE",
        "colab_type": "code",
        "colab": {}
      },
      "cell_type": "code",
      "source": [
        "# Which features were selected?\n",
        "selector = gs.best_estimator_.named_steps['selectkbest']\n",
        "all_names = X_train.columns\n",
        "selected_mask = selector.get_support()\n",
        "selected_names = all_names[selected_mask]\n",
        "unselected_names = all_names[~selected_mask]\n",
        "\n",
        "print('Features selected:')\n",
        "for name in selected_names:\n",
        "    print(name)\n",
        "\n",
        "print()\n",
        "print('Features not selected:')\n",
        "for name in unselected_names:\n",
        "    print(name)"
      ],
      "execution_count": 0,
      "outputs": []
    },
    {
      "metadata": {
        "id": "htH_5g-d8Cz6",
        "colab_type": "code",
        "colab": {}
      },
      "cell_type": "code",
      "source": [
        "#all selected features\n",
        "selected_features = X_train.columns[gs.best_estimator_.named_steps['selectkbest'].get_support()]\n",
        "\n",
        "\n",
        "#all unselected features\n",
        "unselected_features = X_train.columns[~gs.best_estimator_.named_steps['selectkbest'].get_support()]"
      ],
      "execution_count": 0,
      "outputs": []
    },
    {
      "metadata": {
        "id": "urdgBk_Vp6ZN",
        "colab_type": "text"
      },
      "cell_type": "markdown",
      "source": [
        "## BONUS: Recursive Feature Elimination!\n",
        "\n",
        "https://scikit-learn.org/stable/modules/generated/sklearn.feature_selection.RFECV.html"
      ]
    },
    {
      "metadata": {
        "id": "EEvISfuimpQV",
        "colab_type": "code",
        "colab": {}
      },
      "cell_type": "code",
      "source": [
        "from sklearn.feature_selection import RFECV\n",
        "\n",
        "X_train_scaled = RobustScaler().fit_transform(X_train)\n",
        "rfe = RFECV(Ridge(alpha=1.0), scoring='neg_mean_absolute_error', cv=3)\n",
        "X_train_subset = rfe.fit_transform(X_train_scaled, y_train)\n",
        "\n",
        "all_names = X_train.columns\n",
        "selected_mask = rfe.support_\n",
        "selected_names = all_names[selected_mask]\n",
        "unselected_names = all_names[~selected_mask]\n",
        "\n",
        "print('Features selected:')\n",
        "for name in selected_names:\n",
        "    print(name)\n",
        "\n",
        "print()\n",
        "print('Features not selected:')\n",
        "for name in unselected_names:\n",
        "    print(name)"
      ],
      "execution_count": 0,
      "outputs": []
    },
    {
      "metadata": {
        "id": "Bt0N6k9O9g2_",
        "colab_type": "code",
        "colab": {}
      },
      "cell_type": "code",
      "source": [
        "#all selected features\n",
        "selected_features_rfe = X_train.columns[rfe.support_]\n",
        "\n",
        "\n",
        "#all unselected features\n",
        "unselected_features_rfe = X_train.columns[~rfe.support_]"
      ],
      "execution_count": 0,
      "outputs": []
    },
    {
      "metadata": {
        "id": "hoCUHkuGpjvX",
        "colab_type": "code",
        "colab": {}
      },
      "cell_type": "code",
      "source": [
        "X_train_subset = pd.DataFrame(X_train_subset, columns=selected_names)"
      ],
      "execution_count": 0,
      "outputs": []
    },
    {
      "metadata": {
        "id": "zZKoH475ppag",
        "colab_type": "code",
        "colab": {}
      },
      "cell_type": "code",
      "source": [
        "X_test_subset = rfe.transform(X_test)\n",
        "X_test_subset = pd.DataFrame(X_test_subset, columns=selected_names)"
      ],
      "execution_count": 0,
      "outputs": []
    },
    {
      "metadata": {
        "id": "mhcS0n8ApuUx",
        "colab_type": "code",
        "outputId": "9d06d1de-e49b-4285-8f72-dc89c695c51e",
        "colab": {
          "base_uri": "https://localhost:8080/",
          "height": 35
        }
      },
      "cell_type": "code",
      "source": [
        "print(X_train.shape, X_train_subset.shape, X_test.shape, X_test_subset.shape)"
      ],
      "execution_count": 0,
      "outputs": [
        {
          "output_type": "stream",
          "text": [
            "(963, 35) (963, 24) (100, 35) (100, 24)\n"
          ],
          "name": "stdout"
        }
      ]
    },
    {
      "metadata": {
        "id": "yQGkKI66CqZ9",
        "colab_type": "code",
        "colab": {}
      },
      "cell_type": "code",
      "source": [
        "X_test_subset"
      ],
      "execution_count": 0,
      "outputs": []
    },
    {
      "metadata": {
        "id": "_OpHu92Yto88",
        "colab_type": "text"
      },
      "cell_type": "markdown",
      "source": [
        "# RFE again, but with polynomial features and interaction terms!"
      ]
    },
    {
      "metadata": {
        "id": "ArgRECEUtyH4",
        "colab_type": "code",
        "outputId": "82f5d674-0240-467a-ff0d-5356d77da3e9",
        "colab": {
          "base_uri": "https://localhost:8080/",
          "height": 35
        }
      },
      "cell_type": "code",
      "source": [
        "from sklearn.preprocessing import PolynomialFeatures\n",
        "\n",
        "poly = PolynomialFeatures(degree=2)\n",
        "X_train_polynomial = poly.fit_transform(X_train)\n",
        "\n",
        "print(X_train.shape, X_train_polynomial.shape)"
      ],
      "execution_count": 0,
      "outputs": [
        {
          "output_type": "stream",
          "text": [
            "(963, 35) (963, 666)\n"
          ],
          "name": "stdout"
        }
      ]
    },
    {
      "metadata": {
        "id": "TWVHh35wsdE7",
        "colab_type": "code",
        "colab": {}
      },
      "cell_type": "code",
      "source": [
        "from sklearn.feature_selection import RFECV\n",
        "\n",
        "scaler = RobustScaler()\n",
        "X_train_scaled = scaler.fit_transform(X_train_polynomial)\n",
        "\n",
        "rfe = RFECV(Ridge(alpha=1.0), scoring='neg_mean_absolute_error', \n",
        "            step=10, cv=3, verbose=1)\n",
        "\n",
        "X_train_subset = rfe.fit_transform(X_train_scaled, y_train)"
      ],
      "execution_count": 0,
      "outputs": []
    },
    {
      "metadata": {
        "id": "dF5ZlGciMEyf",
        "colab_type": "code",
        "outputId": "d620492f-df4d-492d-c094-d637c9e8e0f4",
        "colab": {
          "base_uri": "https://localhost:8080/",
          "height": 35
        }
      },
      "cell_type": "code",
      "source": [
        "X_train.shape, X_train_polynomial.shape, X_train_scaled.shape, X_train_subset.shape"
      ],
      "execution_count": 0,
      "outputs": [
        {
          "output_type": "execute_result",
          "data": {
            "text/plain": [
              "((963, 35), (963, 666), (963, 666), (963, 156))"
            ]
          },
          "metadata": {
            "tags": []
          },
          "execution_count": 49
        }
      ]
    },
    {
      "metadata": {
        "id": "TrMRGvezuDD7",
        "colab_type": "code",
        "colab": {}
      },
      "cell_type": "code",
      "source": [
        "all_names = poly.get_feature_names(X_train.columns)\n",
        "selected_mask = rfe.support_\n",
        "selected_names = [name for name, selected in zip(all_names, selected_mask) if selected]\n",
        "\n",
        "print(f'{rfe.n_features_} Features selected:')\n",
        "for name in selected_names:\n",
        "    print(name)"
      ],
      "execution_count": 0,
      "outputs": []
    },
    {
      "metadata": {
        "id": "Pku8KixHv3CF",
        "colab_type": "code",
        "outputId": "fa3267e5-1b29-41a6-f94f-fda0afacde06",
        "colab": {
          "base_uri": "https://localhost:8080/",
          "height": 173
        }
      },
      "cell_type": "code",
      "source": [
        "# Define an estimator and param_grid\n",
        "\n",
        "ridge = Ridge()\n",
        "\n",
        "param_grid = {\n",
        "    'alpha': [0, 0.1, 1.0, 4., 10.]\n",
        "}\n",
        "\n",
        "# Fit on the train set, with grid search cross-validation\n",
        "gs = GridSearchCV(ridge, param_grid=param_grid, cv=3, \n",
        "                  scoring='neg_mean_absolute_error', \n",
        "                  verbose=1)\n",
        "\n",
        "gs.fit(X_train_subset, y_train)\n",
        "validation_score = gs.best_score_\n",
        "print()\n",
        "print('Cross-Validation Score:', -validation_score)\n",
        "print()\n",
        "print('Best estimator:', gs.best_estimator_)\n",
        "print()"
      ],
      "execution_count": 0,
      "outputs": [
        {
          "output_type": "stream",
          "text": [
            "Fitting 3 folds for each of 5 candidates, totalling 15 fits\n"
          ],
          "name": "stdout"
        },
        {
          "output_type": "stream",
          "text": [
            "[Parallel(n_jobs=1)]: Using backend SequentialBackend with 1 concurrent workers.\n"
          ],
          "name": "stderr"
        },
        {
          "output_type": "stream",
          "text": [
            "\n",
            "Cross-Validation Score: 247.80985367683917\n",
            "\n",
            "Best estimator: Ridge(alpha=1.0, copy_X=True, fit_intercept=True, max_iter=None,\n",
            "   normalize=False, random_state=None, solver='auto', tol=0.001)\n",
            "\n"
          ],
          "name": "stdout"
        },
        {
          "output_type": "stream",
          "text": [
            "[Parallel(n_jobs=1)]: Done  15 out of  15 | elapsed:    0.4s finished\n"
          ],
          "name": "stderr"
        }
      ]
    },
    {
      "metadata": {
        "id": "NnpbyDLSwPIH",
        "colab_type": "code",
        "outputId": "61179bb6-78d5-4d70-ee6d-0b26ec387059",
        "colab": {
          "base_uri": "https://localhost:8080/",
          "height": 35
        }
      },
      "cell_type": "code",
      "source": [
        "# Do the same transformations to X_test\n",
        "X_test_polynomial = poly.transform(X_test)\n",
        "X_test_scaled = scaler.transform(X_test_polynomial)\n",
        "X_test_subset = rfe.transform(X_test_scaled)\n",
        "\n",
        "# Use the grid search's score method with X_test_subset\n",
        "test_score = gs.score(X_test_subset, y_test)\n",
        "print('Test Score:', -test_score)"
      ],
      "execution_count": 0,
      "outputs": [
        {
          "output_type": "stream",
          "text": [
            "Test Score: 328.57066776770154\n"
          ],
          "name": "stdout"
        }
      ]
    }
  ]
}