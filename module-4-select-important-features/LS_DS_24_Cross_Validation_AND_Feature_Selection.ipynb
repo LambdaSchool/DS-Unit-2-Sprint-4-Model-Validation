{
  "nbformat": 4,
  "nbformat_minor": 0,
  "metadata": {
    "colab": {
      "name": "LS_DS_24_Cross-Validation-AND-Feature-Selection.ipynb",
      "version": "0.3.2",
      "provenance": [],
      "collapsed_sections": []
    },
    "kernelspec": {
      "name": "python3",
      "display_name": "Python 3"
    }
  },
  "cells": [
    {
      "metadata": {
        "id": "3ctjQBseh0Cw",
        "colab_type": "text"
      },
      "cell_type": "markdown",
      "source": [
        "_Lambda School Data Science - Model Validation_\n",
        "\n",
        "## Example solution to the Cross-Validation assignment — plus Feature Selection!\n",
        "\n",
        "See also Sebastian Raschka's example, [Basic Pipeline and Grid Search Setup](https://github.com/rasbt/python-machine-learning-book/blob/master/code/bonus/svm_iris_pipeline_and_gridsearch.ipynb)."
      ]
    },
    {
      "metadata": {
        "id": "K6ZRZsa-q9cs",
        "colab_type": "code",
        "colab": {}
      },
      "cell_type": "code",
      "source": [
        "#!pip install tsfresh\n",
        "#!pip install seaborn --upgrade\n",
        "\n",
        "import warnings\n",
        "warnings.filterwarnings('ignore')"
      ],
      "execution_count": 0,
      "outputs": []
    },
    {
      "metadata": {
        "id": "TpdhfLv-A2HA",
        "colab_type": "text"
      },
      "cell_type": "markdown",
      "source": [
        "### Here in we pull in all our feature creation functions (from Jake Vanderplas and a few from our cohort)"
      ]
    },
    {
      "metadata": {
        "id": "aHUVU_AMBKs0",
        "colab_type": "code",
        "colab": {}
      },
      "cell_type": "code",
      "source": [
        "# We'll modify a project from Python Data Science Handbook by Jake VanderPlas\n",
        "# https://jakevdp.github.io/PythonDataScienceHandbook/05.06-linear-regression.html#Example:-Predicting-Bicycle-Traffic\n",
        "    \n",
        "# Predicting Bicycle Traffic\n",
        "\n",
        "# As an example, let's take a look at whether we can predict the number of \n",
        "# bicycle trips across Seattle's Fremont Bridge based on weather, season, \n",
        "# and other factors.\n",
        "\n",
        "# We will join the bike data with another dataset, and try to determine the \n",
        "# extent to which weather and seasonal factors—temperature, precipitation, \n",
        "# and daylight hours—affect the volume of bicycle traffic through this corridor. \n",
        "# Fortunately, the NOAA makes available their daily weather station data \n",
        "# (I used station ID USW00024233) and we can easily use Pandas to join \n",
        "# the two data sources.\n",
        "\n",
        "\n",
        "import numpy as np\n",
        "import pandas as pd\n",
        "from sklearn.feature_selection import f_regression, SelectKBest\n",
        "from sklearn.linear_model import Ridge\n",
        "from sklearn.metrics import mean_absolute_error\n",
        "from sklearn.model_selection import GridSearchCV\n",
        "from sklearn.pipeline import make_pipeline\n",
        "from sklearn.preprocessing import RobustScaler\n",
        "from sklearn.dummy import DummyRegressor\n",
        "from datetime import datetime\n",
        "from datetime import date\n",
        "\n",
        "\n",
        "def load(): \n",
        "    fremont_bridge = 'https://data.seattle.gov/api/views/65db-xm6k/rows.csv?accessType=DOWNLOAD'\n",
        "    \n",
        "    bicycle_weather = 'https://raw.githubusercontent.com/jakevdp/PythonDataScienceHandbook/master/notebooks/data/BicycleWeather.csv'\n",
        "\n",
        "    counts = pd.read_csv(fremont_bridge, index_col='Date', parse_dates=True, \n",
        "                         infer_datetime_format=True)\n",
        "\n",
        "    weather = pd.read_csv(bicycle_weather, index_col='DATE', parse_dates=True, \n",
        "                          infer_datetime_format=True)\n",
        "\n",
        "    daily = counts.resample('d').sum()\n",
        "    daily['Total'] = daily.sum(axis=1)\n",
        "    daily = daily[['Total']] # remove other columns\n",
        "\n",
        "    weather_columns = ['PRCP', 'SNOW', 'SNWD', 'TMAX', 'TMIN', 'AWND']\n",
        "    daily = daily.join(weather[weather_columns], how='inner')\n",
        "    \n",
        "    # Make a feature for yesterday's total\n",
        "    daily['Total_yesterday'] = daily.Total.shift(1)\n",
        "    daily = daily.drop(index=daily.index[0])\n",
        "  \n",
        "  \n",
        "    daily.insert(0, 'ID', range(0, len(daily)))\n",
        "\n",
        "    return daily\n",
        "\n",
        "  \n",
        "def ordinal(daily):\n",
        "    daily = daily.copy()\n",
        "    # Add a column of the dates\n",
        "    daily['date_'] = daily.index\n",
        "    \n",
        "    # Date stuff https://docs.python.org/3/library/datetime.html#datetime.date.fromisoformat\n",
        "    # Add some day context\n",
        "    daily.insert(0, 'weekday_', daily.date_.apply(lambda x: x.weekday()))\n",
        "    daily.insert(0, 'dayOfMonth_',  daily.date_.apply(lambda x: x.day))\n",
        "    daily.insert(0, 'month_',  daily.date_.apply(lambda x: x.month))\n",
        "    daily.insert(0, 'year_',  daily.date_.apply(lambda x: x.year))  \n",
        "    \n",
        "    # Drop date column\n",
        "    daily = daily.drop(columns='date_')\n",
        "    \n",
        "    return daily\n",
        "  \n",
        "    \n",
        "def split(daily):\n",
        "    # Hold out an \"out-of-time\" test set, from the last 100 days of data\n",
        "    \n",
        "    train = daily[:-100]\n",
        "    test = daily[-100:]\n",
        "    \n",
        "    X_train = train.drop(columns='Total')\n",
        "    y_train = train.Total\n",
        "\n",
        "    X_test  = test.drop(columns='Total')\n",
        "    y_test  = test.Total\n",
        "    \n",
        "    return X_train, X_test, y_train, y_test\n",
        "\n",
        "  \n",
        "  \n",
        "def one_hot_encoded(X):\n",
        "    X = X.copy()\n",
        "\n",
        "    # patterns of use generally vary from day to day; \n",
        "    # let's add binary columns that indicate the day of the week:\n",
        "    days = ['Mon', 'Tue', 'Wed', 'Thu', 'Fri', 'Sat', 'Sun']\n",
        "    for i, day in enumerate(days):\n",
        "        X[day] = (X.index.dayofweek == i).astype(float)\n",
        "\n",
        "\n",
        "    # we might expect riders to behave differently on holidays; \n",
        "    # let's add an indicator of this as well:\n",
        "    from pandas.tseries.holiday import USFederalHolidayCalendar\n",
        "    cal = USFederalHolidayCalendar()\n",
        "    holidays = cal.holidays('2012', '2016')\n",
        "    X = X.join(pd.Series(1, index=holidays, name='holiday'))\n",
        "    X['holiday'].fillna(0, inplace=True)\n",
        "    \n",
        "    months = ['Jan', 'Feb', 'Mar', 'Apr', 'May', 'Jun', 'Jul', 'Aug', 'Sep', 'Oct', 'Nov', 'Dec']\n",
        "    for i, month in enumerate(months):\n",
        "        X[month] = (X.index.month == i+1).astype(float)\n",
        "    \n",
        "    return X\n",
        "\n",
        "  \n",
        "\n",
        "def jake_wrangle(X):  \n",
        "    X = X.copy()\n",
        "\n",
        "    # We also might suspect that the hours of daylight would affect \n",
        "    # how many people ride; let's use the standard astronomical calculation \n",
        "    # to add this information:\n",
        "    def hours_of_daylight(date, axis=23.44, latitude=47.61):\n",
        "        \"\"\"Compute the hours of daylight for the given date\"\"\"\n",
        "        days = (date - pd.datetime(2000, 12, 21)).days\n",
        "        m = (1. - np.tan(np.radians(latitude))\n",
        "             * np.tan(np.radians(axis) * np.cos(days * 2 * np.pi / 365.25)))\n",
        "        return 24. * np.degrees(np.arccos(1 - np.clip(m, 0, 2))) / 180.\n",
        "\n",
        "    X['daylight_hrs'] = list(map(hours_of_daylight, X.index))\n",
        "\n",
        "\n",
        "    # temperatures are in 1/10 deg C; convert to C\n",
        "    X['TMIN'] /= 10\n",
        "    X['TMAX'] /= 10\n",
        "\n",
        "    # We can also calcuate the average temperature.\n",
        "    X['Temp (C)'] = 0.5 * (X['TMIN'] + X['TMAX'])\n",
        "\n",
        "\n",
        "    # precip is in 1/10 mm; convert to inches\n",
        "    X['PRCP'] /= 254\n",
        "\n",
        "    # In addition to the inches of precipitation, let's add a flag that \n",
        "    # indicates whether a day is dry (has zero precipitation):\n",
        "    X['dry day'] = (X['PRCP'] == 0).astype(int)\n",
        "\n",
        "\n",
        "    # Let's add a counter that increases from day 1, and measures how many \n",
        "    # years have passed. This will let us measure any observed annual increase \n",
        "    # or decrease in daily crossings:\n",
        "    X['annual'] = (X.index - X.index[0]).days / 365.\n",
        "\n",
        "    return X\n",
        "\n",
        "  \n",
        "\n",
        "def wrangle(X):\n",
        "    # From Daniel H (DS1 KotH)\n",
        "    X = X.copy()\n",
        "    X = X.replace(-9999, 0)\n",
        "    X = jake_wrangle(X)\n",
        "    \n",
        "    X['PRCP_yest'] = X.PRCP.shift(1).fillna(X.PRCP.mean())\n",
        "    X['Windchill'] = (((X['Temp (C)'] * (9/5) + 32) * .6215) + 34.74) - (35.75 * (X['AWND']** .16)) + (.4275 * (X['Temp (C)'])) * (X['AWND'] ** .16)\n",
        "    X['Rl_Cold'] = (((X['Temp (C)'] * (9/5) + 32) - X['Windchill']) -32) * (5/9)\n",
        "    X['TMIN_ln'] = X['TMIN'] **2\n",
        "    \n",
        "    return X\n",
        "\n",
        " "
      ],
      "execution_count": 0,
      "outputs": []
    },
    {
      "metadata": {
        "id": "vQN2O9PCAkBn",
        "colab_type": "code",
        "colab": {}
      },
      "cell_type": "code",
      "source": [
        "# Download and join data into a dataframe\n",
        "data = load()"
      ],
      "execution_count": 0,
      "outputs": []
    },
    {
      "metadata": {
        "id": "S_YElAe92dSA",
        "colab_type": "code",
        "colab": {
          "base_uri": "https://localhost:8080/",
          "height": 201
        },
        "outputId": "87a0126a-7d46-4c63-b61d-c2b50445e7dd"
      },
      "cell_type": "code",
      "source": [
        "data.head()"
      ],
      "execution_count": 5,
      "outputs": [
        {
          "output_type": "execute_result",
          "data": {
            "text/html": [
              "<div>\n",
              "<style scoped>\n",
              "    .dataframe tbody tr th:only-of-type {\n",
              "        vertical-align: middle;\n",
              "    }\n",
              "\n",
              "    .dataframe tbody tr th {\n",
              "        vertical-align: top;\n",
              "    }\n",
              "\n",
              "    .dataframe thead th {\n",
              "        text-align: right;\n",
              "    }\n",
              "</style>\n",
              "<table border=\"1\" class=\"dataframe\">\n",
              "  <thead>\n",
              "    <tr style=\"text-align: right;\">\n",
              "      <th></th>\n",
              "      <th>ID</th>\n",
              "      <th>Total</th>\n",
              "      <th>PRCP</th>\n",
              "      <th>SNOW</th>\n",
              "      <th>SNWD</th>\n",
              "      <th>TMAX</th>\n",
              "      <th>TMIN</th>\n",
              "      <th>AWND</th>\n",
              "      <th>Total_yesterday</th>\n",
              "    </tr>\n",
              "  </thead>\n",
              "  <tbody>\n",
              "    <tr>\n",
              "      <th>2012-10-04</th>\n",
              "      <td>0</td>\n",
              "      <td>3475.0</td>\n",
              "      <td>0</td>\n",
              "      <td>0</td>\n",
              "      <td>0</td>\n",
              "      <td>189</td>\n",
              "      <td>83</td>\n",
              "      <td>65</td>\n",
              "      <td>3521.0</td>\n",
              "    </tr>\n",
              "    <tr>\n",
              "      <th>2012-10-05</th>\n",
              "      <td>1</td>\n",
              "      <td>3148.0</td>\n",
              "      <td>0</td>\n",
              "      <td>0</td>\n",
              "      <td>0</td>\n",
              "      <td>217</td>\n",
              "      <td>89</td>\n",
              "      <td>57</td>\n",
              "      <td>3475.0</td>\n",
              "    </tr>\n",
              "    <tr>\n",
              "      <th>2012-10-06</th>\n",
              "      <td>2</td>\n",
              "      <td>2006.0</td>\n",
              "      <td>0</td>\n",
              "      <td>0</td>\n",
              "      <td>0</td>\n",
              "      <td>239</td>\n",
              "      <td>78</td>\n",
              "      <td>51</td>\n",
              "      <td>3148.0</td>\n",
              "    </tr>\n",
              "    <tr>\n",
              "      <th>2012-10-07</th>\n",
              "      <td>3</td>\n",
              "      <td>2142.0</td>\n",
              "      <td>0</td>\n",
              "      <td>0</td>\n",
              "      <td>0</td>\n",
              "      <td>239</td>\n",
              "      <td>78</td>\n",
              "      <td>13</td>\n",
              "      <td>2006.0</td>\n",
              "    </tr>\n",
              "    <tr>\n",
              "      <th>2012-10-08</th>\n",
              "      <td>4</td>\n",
              "      <td>3537.0</td>\n",
              "      <td>0</td>\n",
              "      <td>0</td>\n",
              "      <td>0</td>\n",
              "      <td>211</td>\n",
              "      <td>78</td>\n",
              "      <td>19</td>\n",
              "      <td>2142.0</td>\n",
              "    </tr>\n",
              "  </tbody>\n",
              "</table>\n",
              "</div>"
            ],
            "text/plain": [
              "            ID   Total  PRCP  SNOW  SNWD  TMAX  TMIN  AWND  Total_yesterday\n",
              "2012-10-04   0  3475.0     0     0     0   189    83    65           3521.0\n",
              "2012-10-05   1  3148.0     0     0     0   217    89    57           3475.0\n",
              "2012-10-06   2  2006.0     0     0     0   239    78    51           3148.0\n",
              "2012-10-07   3  2142.0     0     0     0   239    78    13           2006.0\n",
              "2012-10-08   4  3537.0     0     0     0   211    78    19           2142.0"
            ]
          },
          "metadata": {
            "tags": []
          },
          "execution_count": 5
        }
      ]
    },
    {
      "metadata": {
        "id": "bC-3OGTDE2ku",
        "colab_type": "code",
        "colab": {
          "base_uri": "https://localhost:8080/",
          "height": 298
        },
        "outputId": "d72ccabc-eac2-43c3-994a-e550d82ead62"
      },
      "cell_type": "code",
      "source": [
        "import seaborn as sns\n",
        "sns.lineplot(data.ID, data.Total)"
      ],
      "execution_count": 6,
      "outputs": [
        {
          "output_type": "execute_result",
          "data": {
            "text/plain": [
              "<matplotlib.axes._subplots.AxesSubplot at 0x7fdfd78f9358>"
            ]
          },
          "metadata": {
            "tags": []
          },
          "execution_count": 6
        },
        {
          "output_type": "display_data",
          "data": {
            "image/png": "[encoded data removed]",
            "text/plain": [
              "<Figure size 432x288 with 1 Axes>"
            ]
          },
          "metadata": {
            "tags": []
          }
        }
      ]
    },
    {
      "metadata": {
        "id": "o6nrCnpa9uXN",
        "colab_type": "text"
      },
      "cell_type": "markdown",
      "source": [
        "### This is an example of a pipeline + parameter grid. "
      ]
    },
    {
      "metadata": {
        "id": "WvakVkHHBIAG",
        "colab_type": "text"
      },
      "cell_type": "markdown",
      "source": [
        "Remember: If your dataset is massive, be sure to take a random subset sample to try fitting with the training data to start getting scores. "
      ]
    },
    {
      "metadata": {
        "id": "g8GngZEJZ1Zd",
        "colab_type": "text"
      },
      "cell_type": "markdown",
      "source": [
        "### Benchmark / Baseline using Dummy Regressor in Pipe"
      ]
    },
    {
      "metadata": {
        "id": "PTsw1_cOY3Jb",
        "colab_type": "code",
        "colab": {
          "base_uri": "https://localhost:8080/",
          "height": 82
        },
        "outputId": "252b5aac-d40f-45d9-f2cd-339c3a960de7"
      },
      "cell_type": "code",
      "source": [
        "%%time\n",
        "# Split data into train and test\n",
        "X_train, X_test, y_train, y_test = split(data)\n",
        "\n",
        "# Define an estimator and param_grid\n",
        "# WHEN DEFINING YOU CAN GIVE IT A NAME OTHERWISE IT WILL USE THE PIPELINE NAME AUTOGEN NAME (name of the function but lowercase)\n",
        "pipe = make_pipeline(\n",
        "    RobustScaler(), \n",
        "    DummyRegressor(strategy='mean'))\n",
        "\n",
        "pipe.fit(X_train, y_train)\n",
        "\n",
        "### Get the scores with the MAE Function\n",
        "## Predict with X_test features and Compare predictions to y_test labels\n",
        "y_pred = pipe.predict(X_train)\n",
        "dummy_train_score = mean_absolute_error(y_train, y_pred)\n",
        "print('Dummy Regression Train Score:', dummy_train_score)\n",
        "\n",
        "\n",
        "## Predict with X_test features and Compare predictions to y_test labels\n",
        "y_pred = pipe.predict(X_test)\n",
        "dummy_test_score = mean_absolute_error(y_test, y_pred)\n",
        "print('Dummy Regression Test Score:', dummy_test_score)\n"
      ],
      "execution_count": 7,
      "outputs": [
        {
          "output_type": "stream",
          "text": [
            "Dummy Regression Train Score: 980.8981106765484\n",
            "Dummy Regression Test Score: 1341.2051609553478\n",
            "CPU times: user 14.9 ms, sys: 13 ms, total: 27.9 ms\n",
            "Wall time: 14 ms\n"
          ],
          "name": "stdout"
        }
      ]
    },
    {
      "metadata": {
        "id": "NJrNph8IFyOM",
        "colab_type": "code",
        "colab": {
          "base_uri": "https://localhost:8080/",
          "height": 289
        },
        "outputId": "625e7e4d-f73e-4aef-a4e1-decbe4d23d91"
      },
      "cell_type": "code",
      "source": [
        "%%time\n",
        "\n",
        "# Define an estimator and param_grid\n",
        "# WHEN DEFINING YOU CAN GIVE IT A NAME OTHERWISE IT WILL USE THE PIPELINE NAME AUTOGEN NAME (name of the function but lowercase)\n",
        "pipe = make_pipeline(\n",
        "    RobustScaler(), \n",
        "    SelectKBest(f_regression), \n",
        "    Ridge())\n",
        "\n",
        "param_grid = {\n",
        "    'selectkbest__k': range(1, len(X_train.columns)+1), \n",
        "    'ridge__alpha': [0.1, 1.0, 10.]\n",
        "}\n",
        "\n",
        "# Fit on the train set, with grid search cross-validation\n",
        "gs = GridSearchCV(pipe, param_grid=param_grid, cv=3, \n",
        "                  scoring='neg_mean_absolute_error', \n",
        "                  verbose=1)\n",
        "\n",
        "gs.fit(X_train, y_train)\n",
        "validation_score = gs.best_score_\n",
        "print()\n",
        "print('Cross-Validation Score:', -validation_score)\n",
        "print()\n",
        "print('Best estimator:', gs.best_estimator_)\n",
        "print()\n",
        "\n",
        "\n",
        "### Get the score with the GridSearch's score method\n",
        "# It combines the predict and score calculation.\n",
        "RidgeBaseline_train_score = gs.score(X_train, y_train)\n",
        "print('RidgeBaseline Train Score:', -RidgeBaseline_train_score)\n",
        "\n",
        "RidgeBaseline_test_score = gs.score(X_test, y_test)\n",
        "print('RidgeBaseline Test Score:', -RidgeBaseline_test_score)"
      ],
      "execution_count": 8,
      "outputs": [
        {
          "output_type": "stream",
          "text": [
            "Fitting 3 folds for each of 24 candidates, totalling 72 fits\n"
          ],
          "name": "stdout"
        },
        {
          "output_type": "stream",
          "text": [
            "[Parallel(n_jobs=1)]: Using backend SequentialBackend with 1 concurrent workers.\n"
          ],
          "name": "stderr"
        },
        {
          "output_type": "stream",
          "text": [
            "\n",
            "Cross-Validation Score: 604.6453429336518\n",
            "\n",
            "Best estimator: Pipeline(memory=None,\n",
            "     steps=[('robustscaler', RobustScaler(copy=True, quantile_range=(25.0, 75.0), with_centering=True,\n",
            "       with_scaling=True)), ('selectkbest', SelectKBest(k=4, score_func=<function f_regression at 0x7fdfdaae0c80>)), ('ridge', Ridge(alpha=1.0, copy_X=True, fit_intercept=True, max_iter=None,\n",
            "   normalize=False, random_state=None, solver='auto', tol=0.001))])\n",
            "\n",
            "RidgeBaseline Train Score: 601.7510401226398\n",
            "RidgeBaseline Test Score: 773.107268536548\n",
            "CPU times: user 784 ms, sys: 7.95 ms, total: 792 ms\n",
            "Wall time: 816 ms\n"
          ],
          "name": "stdout"
        },
        {
          "output_type": "stream",
          "text": [
            "[Parallel(n_jobs=1)]: Done  72 out of  72 | elapsed:    0.8s finished\n"
          ],
          "name": "stderr"
        }
      ]
    },
    {
      "metadata": {
        "id": "RvIXSeL8as_q",
        "colab_type": "text"
      },
      "cell_type": "markdown",
      "source": [
        "###  Apply data `ordinal`"
      ]
    },
    {
      "metadata": {
        "id": "GEbQyUwpbSz6",
        "colab_type": "code",
        "colab": {
          "base_uri": "https://localhost:8080/",
          "height": 287
        },
        "outputId": "f5a9fb44-e9fc-4903-dbdf-f0442b2432e3"
      },
      "cell_type": "code",
      "source": [
        "%%time\n",
        "ordinal_data = ordinal(data)\n",
        "\n",
        "# Split data into train and test\n",
        "X_train, X_test, y_train, y_test = split(ordinal_data)\n",
        "\n",
        "# Define an estimator and param_grid\n",
        "# WHEN DEFINING YOU CAN GIVE IT A NAME OTHERWISE IT WILL USE THE PIPELINE NAME AUTOGEN NAME (name of the function but lowercase)\n",
        "pipe = make_pipeline(\n",
        "    RobustScaler(), \n",
        "    SelectKBest(f_regression), \n",
        "    Ridge())\n",
        "\n",
        "param_grid = {\n",
        "    'selectkbest__k': range(1, len(X_train.columns)+1), \n",
        "    'ridge__alpha': [0.1, 1.0, 10.]\n",
        "}\n",
        "\n",
        "# Fit on the train set, with grid search cross-validation\n",
        "gs = GridSearchCV(pipe, param_grid=param_grid, cv=3, \n",
        "                  scoring='neg_mean_absolute_error', \n",
        "                  verbose=1)\n",
        "\n",
        "gs.fit(X_train, y_train)\n",
        "validation_score = gs.best_score_\n",
        "print()\n",
        "print('Cross-Validation Score:', -validation_score)\n",
        "print()\n",
        "print('Best estimator:', gs.best_estimator_)\n",
        "print()\n",
        "\n",
        "\n",
        "### Get the score with the GridSearch's score method\n",
        "# It combines the predict and score calculation.\n",
        "ord_train_score = gs.score(X_train, y_train)\n",
        "print('Ordinal Train Score:', -ord_train_score)\n",
        "\n",
        "ord_test_score = gs.score(X_test, y_test)\n",
        "print('Ordinal Test Score:', -ord_test_score)"
      ],
      "execution_count": 9,
      "outputs": [
        {
          "output_type": "stream",
          "text": [
            "[Parallel(n_jobs=1)]: Using backend SequentialBackend with 1 concurrent workers.\n"
          ],
          "name": "stderr"
        },
        {
          "output_type": "stream",
          "text": [
            "Fitting 3 folds for each of 36 candidates, totalling 108 fits\n",
            "\n",
            "Cross-Validation Score: 389.2116166662251\n",
            "\n",
            "Best estimator: Pipeline(memory=None,\n",
            "     steps=[('robustscaler', RobustScaler(copy=True, quantile_range=(25.0, 75.0), with_centering=True,\n",
            "       with_scaling=True)), ('selectkbest', SelectKBest(k=5, score_func=<function f_regression at 0x7fdfdaae0c80>)), ('ridge', Ridge(alpha=1.0, copy_X=True, fit_intercept=True, max_iter=None,\n",
            "   normalize=False, random_state=None, solver='auto', tol=0.001))])\n",
            "\n",
            "Ordinal Train Score: 385.55035508465824\n",
            "Ordinal Test Score: 448.71439473552834\n",
            "CPU times: user 1.24 s, sys: 16 ms, total: 1.26 s\n",
            "Wall time: 1.25 s\n"
          ],
          "name": "stdout"
        },
        {
          "output_type": "stream",
          "text": [
            "[Parallel(n_jobs=1)]: Done 108 out of 108 | elapsed:    1.2s finished\n"
          ],
          "name": "stderr"
        }
      ]
    },
    {
      "metadata": {
        "id": "eL9c8h5Fc7df",
        "colab_type": "text"
      },
      "cell_type": "markdown",
      "source": [
        "### Apply `one_hot_encoded` (classmates function)"
      ]
    },
    {
      "metadata": {
        "id": "K4BHDQRHarBb",
        "colab_type": "code",
        "colab": {
          "base_uri": "https://localhost:8080/",
          "height": 254
        },
        "outputId": "9976e84d-3489-4a21-a7d5-44ef1810850b"
      },
      "cell_type": "code",
      "source": [
        "#%%time\n",
        "one_hot_data = one_hot_encoded(data)\n",
        "\n",
        "# Split data into train and test\n",
        "X_train, X_test, y_train, y_test = split(one_hot_data)\n",
        "\n",
        "# Define an estimator and param_grid\n",
        "# WHEN DEFINING YOU CAN GIVE IT A NAME OTHERWISE IT WILL USE THE PIPELINE NAME AUTOGEN NAME (name of the function but lowercase)\n",
        "pipe = make_pipeline(\n",
        "    RobustScaler(), \n",
        "    SelectKBest(f_regression), \n",
        "    Ridge())\n",
        "\n",
        "param_grid = {\n",
        "    'selectkbest__k': range(1, len(X_train.columns)+1), \n",
        "    'ridge__alpha': [0.1, 1.0, 10.]\n",
        "}\n",
        "\n",
        "# Fit on the train set, with grid search cross-validation\n",
        "gs = GridSearchCV(pipe, param_grid=param_grid, cv=3, \n",
        "                  scoring='neg_mean_absolute_error', \n",
        "                  verbose=1)\n",
        "\n",
        "gs.fit(X_train, y_train)\n",
        "validation_score = gs.best_score_\n",
        "print()\n",
        "print('Cross-Validation Score:', -validation_score)\n",
        "print()\n",
        "print('Best estimator:', gs.best_estimator_)\n",
        "print()\n",
        "\n",
        "\n",
        "### Get the score with the GridSearch's score method\n",
        "# It combines the predict and score calculation.\n",
        "oh_train_score = gs.score(X_train, y_train)\n",
        "print('Train Score:', -oh_train_score)\n",
        "\n",
        "oh_test_score = gs.score(X_test, y_test)\n",
        "print('Test Score:', -oh_test_score)"
      ],
      "execution_count": 10,
      "outputs": [
        {
          "output_type": "stream",
          "text": [
            "[Parallel(n_jobs=1)]: Using backend SequentialBackend with 1 concurrent workers.\n"
          ],
          "name": "stderr"
        },
        {
          "output_type": "stream",
          "text": [
            "Fitting 3 folds for each of 84 candidates, totalling 252 fits\n",
            "\n",
            "Cross-Validation Score: 317.0056086250159\n",
            "\n",
            "Best estimator: Pipeline(memory=None,\n",
            "     steps=[('robustscaler', RobustScaler(copy=True, quantile_range=(25.0, 75.0), with_centering=True,\n",
            "       with_scaling=True)), ('selectkbest', SelectKBest(k=24, score_func=<function f_regression at 0x7fdfdaae0c80>)), ('ridge', Ridge(alpha=1.0, copy_X=True, fit_intercept=True, max_iter=None,\n",
            "   normalize=False, random_state=None, solver='auto', tol=0.001))])\n",
            "\n",
            "Train Score: 290.9695287750331\n",
            "Test Score: 625.7986098051067\n"
          ],
          "name": "stdout"
        },
        {
          "output_type": "stream",
          "text": [
            "[Parallel(n_jobs=1)]: Done 252 out of 252 | elapsed:    4.4s finished\n"
          ],
          "name": "stderr"
        }
      ]
    },
    {
      "metadata": {
        "id": "1h5aYb_2ljSJ",
        "colab_type": "code",
        "colab": {
          "base_uri": "https://localhost:8080/",
          "height": 115
        },
        "outputId": "b1592868-c130-46c8-b6cb-dcb715344b5b"
      },
      "cell_type": "code",
      "source": [
        "print('Ordinal Train Score:', -ord_train_score)\n",
        "print('Ordinal Test Score:', -ord_test_score)\n",
        "print('\\n')\n",
        "print('One-Hot Train Score:', -oh_train_score)\n",
        "print('One-Hot Test Score:', -oh_test_score)"
      ],
      "execution_count": 11,
      "outputs": [
        {
          "output_type": "stream",
          "text": [
            "Ordinal Train Score: 385.55035508465824\n",
            "Ordinal Test Score: 448.71439473552834\n",
            "\n",
            "\n",
            "One-Hot Train Score: 290.9695287750331\n",
            "One-Hot Test Score: 625.7986098051067\n"
          ],
          "name": "stdout"
        }
      ]
    },
    {
      "metadata": {
        "id": "3g5j5mDZmjXz",
        "colab_type": "text"
      },
      "cell_type": "markdown",
      "source": [
        "###  Just feature Wrangling"
      ]
    },
    {
      "metadata": {
        "id": "fjrsha5JDcr3",
        "colab_type": "code",
        "colab": {
          "base_uri": "https://localhost:8080/",
          "height": 287
        },
        "outputId": "c4332c68-2f63-4293-c969-ec209a6be101"
      },
      "cell_type": "code",
      "source": [
        "%%time\n",
        "# Split data into train and test\n",
        "X_train, X_test, y_train, y_test = split(data)\n",
        "\n",
        "# Do the same wrangling to X_train and X_test\n",
        "X_train = wrangle(X_train)\n",
        "X_test = wrangle(X_test)\n",
        "\n",
        "# Define an estimator and param_grid\n",
        "# WHEN DEFINING YOU CAN GIVE IT A NAME OTHERWISE IT WILL USE THE PIPELINE NAME AUTOGEN NAME (name of the function but lowercase)\n",
        "pipe = make_pipeline(\n",
        "    RobustScaler(), \n",
        "    SelectKBest(f_regression), \n",
        "    Ridge())\n",
        "\n",
        "param_grid = {\n",
        "    'selectkbest__k': range(1, len(X_train.columns)+1), \n",
        "    'ridge__alpha': [0.1, 1.0, 10.]\n",
        "}\n",
        "\n",
        "# Fit on the train set, with grid search cross-validation\n",
        "gs = GridSearchCV(pipe, param_grid=param_grid, cv=3, \n",
        "                  scoring='neg_mean_absolute_error', \n",
        "                  verbose=1)\n",
        "\n",
        "gs.fit(X_train, y_train)\n",
        "validation_score = gs.best_score_\n",
        "print()\n",
        "print('Cross-Validation Score:', -validation_score)\n",
        "print()\n",
        "print('Best estimator:', gs.best_estimator_)\n",
        "print()\n",
        "\n",
        "\n",
        "### Get the score with the GridSearch's score method\n",
        "# It combines the predict and score calculation.\n",
        "RRtrain_score = gs.score(X_train, y_train)\n",
        "print('Just Wrangling Train Score:', -RRtrain_score)\n",
        "\n",
        "RRtest_score = gs.score(X_test, y_test)\n",
        "print('Just Wrangling Test Score:', -RRtest_score)"
      ],
      "execution_count": 12,
      "outputs": [
        {
          "output_type": "stream",
          "text": [
            "[Parallel(n_jobs=1)]: Using backend SequentialBackend with 1 concurrent workers.\n"
          ],
          "name": "stderr"
        },
        {
          "output_type": "stream",
          "text": [
            "Fitting 3 folds for each of 48 candidates, totalling 144 fits\n",
            "\n",
            "Cross-Validation Score: 595.6496902158523\n",
            "\n",
            "Best estimator: Pipeline(memory=None,\n",
            "     steps=[('robustscaler', RobustScaler(copy=True, quantile_range=(25.0, 75.0), with_centering=True,\n",
            "       with_scaling=True)), ('selectkbest', SelectKBest(k=15, score_func=<function f_regression at 0x7fdfdaae0c80>)), ('ridge', Ridge(alpha=0.1, copy_X=True, fit_intercept=True, max_iter=None,\n",
            "   normalize=False, random_state=None, solver='auto', tol=0.001))])\n",
            "\n",
            "Just Wrangling Train Score: 590.9809401021859\n",
            "Just Wrangling Test Score: 770.2808314805894\n",
            "CPU times: user 2.72 s, sys: 1.67 s, total: 4.39 s\n",
            "Wall time: 2.24 s\n"
          ],
          "name": "stdout"
        },
        {
          "output_type": "stream",
          "text": [
            "[Parallel(n_jobs=1)]: Done 144 out of 144 | elapsed:    2.1s finished\n"
          ],
          "name": "stderr"
        }
      ]
    },
    {
      "metadata": {
        "id": "gWiacK_Lm5dS",
        "colab_type": "text"
      },
      "cell_type": "markdown",
      "source": [
        "### Comparing 3 seperate runs. "
      ]
    },
    {
      "metadata": {
        "id": "P34vjyyCuLCH",
        "colab_type": "code",
        "colab": {}
      },
      "cell_type": "code",
      "source": [
        "# Comparing 1 set of variables for each\n",
        "# This is how I did it at first.\n",
        "\n",
        "print('Dummy Regression Train Score:', dummy_train_score)\n",
        "print('Dummy Regression Test Score:', dummy_test_score)\n",
        "print('\\n')\n",
        "print('RidgeBaseline Train Score:', -RidgeBaseline_train_score)\n",
        "print('RidgeBaseline Test Score:', -RidgeBaseline_test_score)\n",
        "print('\\n')\n",
        "\n",
        "\n",
        "print('Just Ordinal Train Score:', -ord_train_score)\n",
        "print('Just Ordinal Test Score:', -ord_test_score)\n",
        "print('\\n')\n",
        "\n",
        "print('Just One-Hot Train Score:', -oh_train_score)\n",
        "print('Just One-Hot Test Score:', -oh_test_score)\n",
        "print('\\n')\n",
        "\n",
        "print('Just Wrangling Train Score:', -RRtrain_score)\n",
        "print('Just Wrangling Test Score:', -RRtest_score)\n"
      ],
      "execution_count": 0,
      "outputs": []
    },
    {
      "metadata": {
        "id": "lCkyXP0jwvg8",
        "colab_type": "code",
        "colab": {}
      },
      "cell_type": "code",
      "source": [
        "# then I wrapped a function and made it better. \n",
        "def compare(data, name):\n",
        "  X_train, X_test, y_train, y_test = split(data)\n",
        "\n",
        "  pipe = make_pipeline(\n",
        "      RobustScaler(), \n",
        "      SelectKBest(f_regression), \n",
        "      Ridge())\n",
        "\n",
        "  param_grid = {\n",
        "      'selectkbest__k': range(1, len(X_train.columns)+1), \n",
        "      'ridge__alpha': [0.1, 1.0, 10.]\n",
        "  }\n",
        "\n",
        "  # Fit on the train set, with grid search cross-validation\n",
        "  gs = GridSearchCV(pipe, param_grid=param_grid, cv=3, \n",
        "                    scoring='neg_mean_absolute_error', \n",
        "                    verbose=0)\n",
        "  gs.fit(X_train, y_train)\n",
        "  validation_score = gs.best_score_\n",
        "  print(f'\\n{name} Cross-Validation Score: {-validation_score}')\n",
        "  print(f'{name} Train Score:            {-gs.score(X_train, y_train)}')\n",
        "  print(f'{name} Test Score:             {-gs.score(X_test, y_test)}\\n')"
      ],
      "execution_count": 0,
      "outputs": []
    },
    {
      "metadata": {
        "id": "-yqblnz6wu_w",
        "colab_type": "text"
      },
      "cell_type": "markdown",
      "source": [
        ""
      ]
    },
    {
      "metadata": {
        "id": "paAAnN6Zm420",
        "colab_type": "code",
        "colab": {
          "base_uri": "https://localhost:8080/",
          "height": 675
        },
        "outputId": "8b81d226-d58a-48a7-9a91-4f7d72e71d41"
      },
      "cell_type": "code",
      "source": [
        "# Here I'm going to compare my dummy regression baseline to all of my other\n",
        "# feature engineered \n",
        "# Comparing 1 set of variables for each\n",
        "print(\"Some Comparisons\")\n",
        "\n",
        "print('Dummy Regression Train Score:', dummy_train_score)\n",
        "print('Dummy Regression Test Score:', dummy_test_score)\n",
        "print('\\n')\n",
        "\n",
        "###\n",
        "names = [\"Ridge Baseline\",'Just Ordinal','Just One Hot','Ord + One Hot','Wrangled + Ordinal','Wrangled + OH','All Combined']\n",
        "Z_data = data\n",
        "compare(Z_data, name)\n",
        "\n",
        "### \n",
        "name = 'Just Ordinal'\n",
        "A_data = ordinal(data)\n",
        "compare(A_data, name)\n",
        "\n",
        "### \n",
        "name = 'Just One Hot'\n",
        "B_data = one_hot_encoded(data)\n",
        "compare(B_data, name)\n",
        "\n",
        "### \n",
        "name = 'Ord + One Hot'\n",
        "C_data = one_hot_encoded(A_data)\n",
        "compare(C_data, name)\n",
        "\n",
        "### \n",
        "name = 'Wrangled + Ordinal'\n",
        "D_data = wrangle(A_data)\n",
        "compare(D_data, name)\n",
        "\n",
        "### \n",
        "name = 'Wrangled + OH'\n",
        "E_data = wrangle(B_data)\n",
        "compare(E_data, name)\n",
        "\n",
        "### \n",
        "name = 'All Combined'\n",
        "F_data = wrangle(C_data)\n",
        "compare(F_data, name)\n"
      ],
      "execution_count": 24,
      "outputs": [
        {
          "output_type": "stream",
          "text": [
            "Some Comparisons\n",
            "Dummy Regression Train Score: 980.8981106765484\n",
            "Dummy Regression Test Score: 1341.2051609553478\n",
            "\n",
            "\n",
            "\n",
            "Ridge Baseline Cross-Validation Score: 604.6453429336518\n",
            "Ridge Baseline Train Score:            601.7510401226398\n",
            "Ridge Baseline Test Score:             773.107268536548\n",
            "\n",
            "\n",
            "Just Ordinal Cross-Validation Score: 389.2116166662251\n",
            "Just Ordinal Train Score:            385.55035508465824\n",
            "Just Ordinal Test Score:             448.71439473552834\n",
            "\n",
            "\n",
            "Just One Hot Cross-Validation Score: 317.0056086250159\n",
            "Just One Hot Train Score:            290.9695287750331\n",
            "Just One Hot Test Score:             625.7986098051067\n",
            "\n",
            "\n",
            "Ord + One Hot Cross-Validation Score: 316.7241668646224\n",
            "Ord + One Hot Train Score:            290.95264043258334\n",
            "Ord + One Hot Test Score:             635.7680843548015\n",
            "\n",
            "\n",
            "Wrangled + Ordinal Cross-Validation Score: 375.38130158393705\n",
            "Wrangled + Ordinal Train Score:            362.64459025651087\n",
            "Wrangled + Ordinal Test Score:             414.397277738424\n",
            "\n",
            "\n",
            "Wrangled + OH Cross-Validation Score: 297.1960150364704\n",
            "Wrangled + OH Train Score:            272.7878390752409\n",
            "Wrangled + OH Test Score:             335.93397588625544\n",
            "\n",
            "\n",
            "All Combined Cross-Validation Score: 297.1413242158009\n",
            "All Combined Train Score:            272.8330918063642\n",
            "All Combined Test Score:             333.8853138194594\n",
            "\n"
          ],
          "name": "stdout"
        }
      ]
    },
    {
      "metadata": {
        "id": "qrc_DQv0nb8g",
        "colab_type": "text"
      },
      "cell_type": "markdown",
      "source": [
        "### Combine all 3 feature engineering sets. "
      ]
    },
    {
      "metadata": {
        "id": "zOe_jR8noXhJ",
        "colab_type": "code",
        "colab": {
          "base_uri": "https://localhost:8080/",
          "height": 289
        },
        "outputId": "a9a6a927-5608-48c5-e8ba-9714e0b683de"
      },
      "cell_type": "code",
      "source": [
        "%%time\n",
        "ordinal_data = ordinal(data)\n",
        "ord_oh_data = one_hot_encoded(ordinal_data)\n",
        "wrangled_oh_ord_data = wrangle(ord_oh_data)\n",
        "\n",
        "# Split data into train and test\n",
        "X_train, X_test, y_train, y_test = split(wrangled_oh_ord_data)\n",
        "\n",
        "# Define an estimator and param_grid\n",
        "# WHEN DEFINING YOU CAN GIVE IT A NAME OTHERWISE IT WILL USE THE PIPELINE NAME AUTOGEN NAME (name of the function but lowercase)\n",
        "pipe = make_pipeline(\n",
        "    RobustScaler(), \n",
        "    SelectKBest(f_regression), \n",
        "    Ridge())\n",
        "\n",
        "param_grid = {\n",
        "    'selectkbest__k': range(1, len(X_train.columns)+1), \n",
        "    'ridge__alpha': [0.1, 1.0, 10.]\n",
        "}\n",
        "\n",
        "# Fit on the train set, with grid search cross-validation\n",
        "gs = GridSearchCV(pipe, param_grid=param_grid, cv=3, \n",
        "                  scoring='neg_mean_absolute_error', \n",
        "                  verbose=1)\n",
        "\n",
        "gs.fit(X_train, y_train)\n",
        "validation_score = gs.best_score_\n",
        "print()\n",
        "print('Cross-Validation Score:', -validation_score)\n",
        "print()\n",
        "print('Best estimator:', gs.best_estimator_)\n",
        "print()\n",
        "\n",
        "\n",
        "### Get the score with the GridSearch's score method\n",
        "# It combines the predict and score calculation.\n",
        "fe_train_score = gs.score(X_train, y_train)\n",
        "print('Feature Engineered Train Score:', -fe_train_score)\n",
        "\n",
        "fe_test_score = gs.score(X_test, y_test)\n",
        "print('Feature Engineered Test Score:', -fe_test_score)"
      ],
      "execution_count": 13,
      "outputs": [
        {
          "output_type": "stream",
          "text": [
            "Fitting 3 folds for each of 120 candidates, totalling 360 fits\n"
          ],
          "name": "stdout"
        },
        {
          "output_type": "stream",
          "text": [
            "[Parallel(n_jobs=1)]: Using backend SequentialBackend with 1 concurrent workers.\n"
          ],
          "name": "stderr"
        },
        {
          "output_type": "stream",
          "text": [
            "\n",
            "Cross-Validation Score: 297.1413242158009\n",
            "\n",
            "Best estimator: Pipeline(memory=None,\n",
            "     steps=[('robustscaler', RobustScaler(copy=True, quantile_range=(25.0, 75.0), with_centering=True,\n",
            "       with_scaling=True)), ('selectkbest', SelectKBest(k=32, score_func=<function f_regression at 0x7f212e69fd90>)), ('ridge', Ridge(alpha=1.0, copy_X=True, fit_intercept=True, max_iter=None,\n",
            "   normalize=False, random_state=None, solver='auto', tol=0.001))])\n",
            "\n",
            "Feature Engineered Train Score: 272.8330918063642\n",
            "Feature Engineered Test Score: 333.8853138194594\n",
            "CPU times: user 10.3 s, sys: 7.18 s, total: 17.5 s\n",
            "Wall time: 8.85 s\n"
          ],
          "name": "stdout"
        },
        {
          "output_type": "stream",
          "text": [
            "[Parallel(n_jobs=1)]: Done 360 out of 360 | elapsed:    8.6s finished\n"
          ],
          "name": "stderr"
        }
      ]
    },
    {
      "metadata": {
        "id": "7Lik9uYdpmnH",
        "colab_type": "code",
        "colab": {
          "base_uri": "https://localhost:8080/",
          "height": 289
        },
        "outputId": "61d89201-0de0-41b8-b26d-c1723633619b"
      },
      "cell_type": "code",
      "source": [
        "%%time\n",
        "ordinal_data = ordinal(data)\n",
        "ord_oh_data = one_hot_encoded(ordinal_data)\n",
        "wrangled_oh_ord_data = wrangle(ord_oh_data)\n",
        "\n",
        "# Split data into train and test\n",
        "X_train, X_test, y_train, y_test = split(wrangled_oh_ord_data)\n",
        "\n",
        "# Define an estimator and param_grid\n",
        "# WHEN DEFINING YOU CAN GIVE IT A NAME OTHERWISE IT WILL USE THE PIPELINE NAME AUTOGEN NAME (name of the function but lowercase)\n",
        "pipe = make_pipeline(\n",
        "    RobustScaler(), \n",
        "    SelectKBest(f_regression), \n",
        "    Ridge())\n",
        "\n",
        "param_grid = {\n",
        "    'selectkbest__k': range(1, len(X_train.columns)+1), \n",
        "    'ridge__alpha': [0.1, 1.0, 10.]\n",
        "}\n",
        "\n",
        "# Fit on the train set, with grid search cross-validation\n",
        "gs = GridSearchCV(pipe, param_grid=param_grid, cv=3, \n",
        "                  scoring='neg_mean_absolute_error', \n",
        "                  verbose=1)\n",
        "\n",
        "gs.fit(X_train, y_train)\n",
        "validation_score = gs.best_score_\n",
        "print()\n",
        "print('Cross-Validation Score:', -validation_score)\n",
        "print()\n",
        "print('Best estimator:', gs.best_estimator_)\n",
        "print()\n",
        "\n",
        "\n",
        "### Get the score with the GridSearch's score method\n",
        "# It combines the predict and score calculation.\n",
        "fe_train_score = gs.score(X_train, y_train)\n",
        "print('Feature Engineered Train Score:', -fe_train_score)\n",
        "\n",
        "fe_test_score = gs.score(X_test, y_test)\n",
        "print('Feature Engineered Test Score:', -fe_test_score)"
      ],
      "execution_count": 15,
      "outputs": [
        {
          "output_type": "stream",
          "text": [
            "Fitting 3 folds for each of 120 candidates, totalling 360 fits\n"
          ],
          "name": "stdout"
        },
        {
          "output_type": "stream",
          "text": [
            "[Parallel(n_jobs=1)]: Using backend SequentialBackend with 1 concurrent workers.\n"
          ],
          "name": "stderr"
        },
        {
          "output_type": "stream",
          "text": [
            "\n",
            "Cross-Validation Score: 297.1413242158009\n",
            "\n",
            "Best estimator: Pipeline(memory=None,\n",
            "     steps=[('robustscaler', RobustScaler(copy=True, quantile_range=(25.0, 75.0), with_centering=True,\n",
            "       with_scaling=True)), ('selectkbest', SelectKBest(k=32, score_func=<function f_regression at 0x7f212e69fd90>)), ('ridge', Ridge(alpha=1.0, copy_X=True, fit_intercept=True, max_iter=None,\n",
            "   normalize=False, random_state=None, solver='auto', tol=0.001))])\n",
            "\n",
            "Feature Engineered Train Score: 272.8330918063642\n",
            "Feature Engineered Test Score: 333.8853138194594\n",
            "CPU times: user 10.2 s, sys: 7.19 s, total: 17.4 s\n",
            "Wall time: 8.82 s\n"
          ],
          "name": "stdout"
        },
        {
          "output_type": "stream",
          "text": [
            "[Parallel(n_jobs=1)]: Done 360 out of 360 | elapsed:    8.6s finished\n"
          ],
          "name": "stderr"
        }
      ]
    },
    {
      "metadata": {
        "id": "W6pWKwFwNJ7Q",
        "colab_type": "text"
      },
      "cell_type": "markdown",
      "source": [
        "### Notes on Pipeline / GridScore"
      ]
    },
    {
      "metadata": {
        "id": "ZYJAHcNH_m2a",
        "colab_type": "text"
      },
      "cell_type": "markdown",
      "source": [
        "#### Then we can get the final test score (using MAE function)"
      ]
    },
    {
      "metadata": {
        "id": "ye1ZIriwALnD",
        "colab_type": "text"
      },
      "cell_type": "markdown",
      "source": [
        "Using gs.predict calls all the grid score fit/transforms and applies them to our X_test data in this case. \n",
        "\n",
        "Then we can calculate our score useing those test predictions. "
      ]
    },
    {
      "metadata": {
        "id": "AR4bo95ZJFwj",
        "colab_type": "code",
        "colab": {
          "base_uri": "https://localhost:8080/",
          "height": 32
        },
        "outputId": "bb3306e6-a27e-4ba0-c633-28276555bd35"
      },
      "cell_type": "code",
      "source": [
        "# Predict with X_test features\n",
        "y_pred = gs.predict(X_test)\n",
        "\n",
        "# Compare predictions to y_test labels\n",
        "test_score = mean_absolute_error(y_test, y_pred)\n",
        "print('Test Score:', test_score)"
      ],
      "execution_count": 16,
      "outputs": [
        {
          "output_type": "stream",
          "text": [
            "Test Score: 333.8853138194594\n"
          ],
          "name": "stdout"
        }
      ]
    },
    {
      "metadata": {
        "id": "BAFwZ4iG_sA5",
        "colab_type": "text"
      },
      "cell_type": "markdown",
      "source": [
        "#### Or use the GridSearch's `score` method to get the final test score. "
      ]
    },
    {
      "metadata": {
        "id": "RhyoVpCmAbc2",
        "colab_type": "text"
      },
      "cell_type": "markdown",
      "source": [
        "This method just generates the test predictions and scores them, returning the (negative) test score to you. So you apply the negative symbol to flip the sign from negative to positive. "
      ]
    },
    {
      "metadata": {
        "id": "7MQYtnmxV159",
        "colab_type": "code",
        "colab": {
          "base_uri": "https://localhost:8080/",
          "height": 49
        },
        "outputId": "1de05b60-3db7-4e95-d103-2fa1a4f14e7c"
      },
      "cell_type": "code",
      "source": [
        "train_score = gs.score(X_train, y_train)\n",
        "print('Train Score:', -train_score)\n",
        "\n",
        "# Or use the grid search's score method, \n",
        "# which combines these steps\n",
        "test_score = gs.score(X_test, y_test)\n",
        "\n",
        "print('Test Score:', -test_score)"
      ],
      "execution_count": 17,
      "outputs": [
        {
          "output_type": "stream",
          "text": [
            "Train Score: 272.8330918063642\n",
            "Test Score: 333.8853138194594\n"
          ],
          "name": "stdout"
        }
      ]
    },
    {
      "metadata": {
        "id": "krmq2YHOquGX",
        "colab_type": "code",
        "colab": {}
      },
      "cell_type": "code",
      "source": [
        "'''def vary_scale(typ): \n",
        "  if typ=='robust': return RobustScaler\n",
        "  elif typ=='standard': return StandardScaler\n",
        "  else: Fail\n",
        "\n",
        "pipe = Pipeline(steps=[  ... , ('scale', FunctionTransformer(vary_scale)), ... ])\n",
        "\n",
        "param_grid = { \n",
        "    ... , \n",
        "    FunctionTransformer'vary_scale__choice': ['robust', 'standard'],\n",
        "    ... }\n",
        "\n",
        "search = GridSearchCV(pipe, param_grid, ...)''';"
      ],
      "execution_count": 0,
      "outputs": []
    },
    {
      "metadata": {
        "id": "vMAep3bWAqE9",
        "colab_type": "text"
      },
      "cell_type": "markdown",
      "source": [
        "### Now we can explore and see what features we actually ended up selecting. "
      ]
    },
    {
      "metadata": {
        "id": "7qeb9ed8bIAE",
        "colab_type": "code",
        "colab": {
          "base_uri": "https://localhost:8080/",
          "height": 724
        },
        "outputId": "7c254db4-41d5-472e-d149-441debc3b2c2"
      },
      "cell_type": "code",
      "source": [
        "# Which features were selected?\n",
        "# 'selectkbest' is the autogenerated name of the SelectKBest() function in the pipeline\n",
        "selector = gs.best_estimator_.named_steps['selectkbest']\n",
        "all_names = X_train.columns\n",
        "\n",
        "# get_support returns a mask of the columns in True / False\n",
        "selected_mask = selector.get_support()\n",
        "# Passing the boolean list as the column names creates a \n",
        "selected_names = all_names[selected_mask]\n",
        "unselected_names = all_names[~selected_mask]\n",
        "\n",
        "print('Features selected:')\n",
        "for name in selected_names:\n",
        "    print(name)\n",
        "\n",
        "print()\n",
        "print('Features not selected:')\n",
        "for name in unselected_names:\n",
        "    print(name)"
      ],
      "execution_count": 19,
      "outputs": [
        {
          "output_type": "stream",
          "text": [
            "Features selected:\n",
            "year_\n",
            "weekday_\n",
            "ID\n",
            "PRCP\n",
            "TMAX\n",
            "TMIN\n",
            "AWND\n",
            "Total_yesterday\n",
            "Mon\n",
            "Tue\n",
            "Wed\n",
            "Thu\n",
            "Sat\n",
            "Sun\n",
            "holiday\n",
            "Jan\n",
            "Feb\n",
            "Mar\n",
            "May\n",
            "Jun\n",
            "Jul\n",
            "Aug\n",
            "Nov\n",
            "Dec\n",
            "daylight_hrs\n",
            "Temp (C)\n",
            "dry day\n",
            "annual\n",
            "PRCP_yest\n",
            "Windchill\n",
            "Rl_Cold\n",
            "TMIN_ln\n",
            "\n",
            "Features not selected:\n",
            "month_\n",
            "dayOfMonth_\n",
            "SNOW\n",
            "SNWD\n",
            "Fri\n",
            "Apr\n",
            "Sep\n",
            "Oct\n"
          ],
          "name": "stdout"
        }
      ]
    },
    {
      "metadata": {
        "id": "9z11uJRB0dEO",
        "colab_type": "code",
        "colab": {
          "base_uri": "https://localhost:8080/",
          "height": 258
        },
        "outputId": "d10ecbae-7700-4890-b768-7454004650cf"
      },
      "cell_type": "code",
      "source": [
        "from sklearn.preprocessing import PolynomialFeatures\n",
        "\n",
        "#%%time\n",
        "ordinal_data = ordinal(data)\n",
        "ord_oh_data = one_hot_encoded(ordinal_data)\n",
        "wrangled_oh_ord_data = wrangle(ord_oh_data)\n",
        "\n",
        "# Split data into train and test\n",
        "X_train, X_test, y_train, y_test = split(wrangled_oh_ord_data)\n",
        "\n",
        "# Define an estimator and param_grid\n",
        "# WHEN DEFINING YOU CAN GIVE IT A NAME OTHERWISE IT WILL USE THE PIPELINE NAME AUTOGEN NAME (name of the function but lowercase)\n",
        "pipe = make_pipeline(\n",
        "    RobustScaler(), \n",
        "    PolynomialFeatures(degree=2),\n",
        "    SelectKBest(f_regression), \n",
        "    Ridge())\n",
        "\n",
        "param_grid = {\n",
        "    'selectkbest__k': range(1, len(X_train.columns)+1), \n",
        "    'ridge__alpha': [0.1, 1.0, 10.]\n",
        "}\n",
        "\n",
        "# Fit on the train set, with grid search cross-validation\n",
        "gs = GridSearchCV(pipe, param_grid=param_grid, cv=3, \n",
        "                  scoring='neg_mean_absolute_error', \n",
        "                  verbose=1)\n",
        "\n",
        "gs.fit(X_train, y_train)\n",
        "validation_score = gs.best_score_\n",
        "print()\n",
        "print('Cross-Validation Score:', -validation_score)\n",
        "print()\n",
        "print('Best estimator:', gs.best_estimator_)\n",
        "print()\n",
        "\n",
        "\n",
        "### Get the score with the GridSearch's score method\n",
        "# It combines the predict and score calculation.\n",
        "fe_train_score = gs.score(X_train, y_train)\n",
        "print('Feature Engineered Train Score:', -fe_train_score)\n",
        "\n",
        "fe_test_score = gs.score(X_test, y_test)\n",
        "print('Feature Engineered Test Score:', -fe_test_score)"
      ],
      "execution_count": 20,
      "outputs": [
        {
          "output_type": "stream",
          "text": [
            "Fitting 3 folds for each of 120 candidates, totalling 360 fits\n"
          ],
          "name": "stdout"
        },
        {
          "output_type": "stream",
          "text": [
            "[Parallel(n_jobs=1)]: Using backend SequentialBackend with 1 concurrent workers.\n"
          ],
          "name": "stderr"
        },
        {
          "output_type": "stream",
          "text": [
            "\n",
            "Cross-Validation Score: 337.3047538164374\n",
            "\n",
            "Best estimator: Pipeline(memory=None,\n",
            "     steps=[('robustscaler', RobustScaler(copy=True, quantile_range=(25.0, 75.0), with_centering=True,\n",
            "       with_scaling=True)), ('polynomialfeatures', PolynomialFeatures(degree=2, include_bias=True, interaction_only=False)), ('selectkbest', SelectKBest(k=36, score_func=<function f_regression at 0x7f212e69fd90>)), ('ridge', Ridge(alpha=1.0, copy_X=True, fit_intercept=True, max_iter=None,\n",
            "   normalize=False, random_state=None, solver='auto', tol=0.001))])\n",
            "\n",
            "Feature Engineered Train Score: 276.24247184972216\n",
            "Feature Engineered Test Score: 395.80984993785677\n"
          ],
          "name": "stdout"
        },
        {
          "output_type": "stream",
          "text": [
            "[Parallel(n_jobs=1)]: Done 360 out of 360 | elapsed:   30.1s finished\n"
          ],
          "name": "stderr"
        }
      ]
    },
    {
      "metadata": {
        "id": "w_Ya8eUJ7mii",
        "colab_type": "code",
        "colab": {
          "base_uri": "https://localhost:8080/",
          "height": 49
        },
        "outputId": "6abbf789-9af9-4f55-e2ce-bfdefe4588a0"
      },
      "cell_type": "code",
      "source": [
        "print('Feature Engineered Train Score:', -fe_train_score)\n",
        "print('Feature Engineered Test Score:', -fe_test_score)"
      ],
      "execution_count": 21,
      "outputs": [
        {
          "output_type": "stream",
          "text": [
            "Feature Engineered Train Score: 276.24247184972216\n",
            "Feature Engineered Test Score: 395.80984993785677\n"
          ],
          "name": "stdout"
        }
      ]
    },
    {
      "metadata": {
        "id": "m1udZEbjrIVw",
        "colab_type": "text"
      },
      "cell_type": "markdown",
      "source": [
        "#### An unecessary attempt with Tsfresh (Relevant Time Feature Augmentor)"
      ]
    },
    {
      "metadata": {
        "id": "PcgtQeE6zrp9",
        "colab_type": "code",
        "colab": {}
      },
      "cell_type": "code",
      "source": [
        "'''# Find all the features, even the irrelevant ones.\n",
        "%%time\n",
        "from tsfresh.transformers import RelevantFeatureAugmenter\n",
        "from tsfresh import extract_features\n",
        "\n",
        "extracted_features = extract_features(wrangled_oh_ord_data, column_id=\"order\", column_sort=\"ID\")\n",
        "\n",
        "from tsfresh.utilities.dataframe_functions import impute\n",
        "\n",
        "features = impute(extracted_features)''';"
      ],
      "execution_count": 0,
      "outputs": []
    },
    {
      "metadata": {
        "id": "Wl-Ei064wPQ0",
        "colab_type": "code",
        "colab": {
          "base_uri": "https://localhost:8080/",
          "height": 32
        },
        "outputId": "99bf5206-0f91-415e-f27e-3c86299ed56f"
      },
      "cell_type": "code",
      "source": [
        "X_train.shape"
      ],
      "execution_count": 23,
      "outputs": [
        {
          "output_type": "execute_result",
          "data": {
            "text/plain": [
              "(963, 40)"
            ]
          },
          "metadata": {
            "tags": []
          },
          "execution_count": 23
        }
      ]
    },
    {
      "metadata": {
        "id": "urdgBk_Vp6ZN",
        "colab_type": "text"
      },
      "cell_type": "markdown",
      "source": [
        "## BONUS: Recursive Feature Elimination!\n",
        "\n",
        "https://scikit-learn.org/stable/modules/generated/sklearn.feature_selection.RFECV.html"
      ]
    },
    {
      "metadata": {
        "id": "EEvISfuimpQV",
        "colab_type": "code",
        "colab": {
          "base_uri": "https://localhost:8080/",
          "height": 724
        },
        "outputId": "a0f9c076-82cc-42f0-b08a-b8ec32b1d1c7"
      },
      "cell_type": "code",
      "source": [
        "from sklearn.feature_selection import RFECV\n",
        "\n",
        "X_train_scaled = RobustScaler().fit_transform(X_train)\n",
        "rfe = RFECV(Ridge(alpha=1.0), scoring='neg_mean_absolute_error', cv=3)\n",
        "X_train_subset = rfe.fit_transform(X_train_scaled, y_train)\n",
        "\n",
        "all_names = X_train.columns\n",
        "selected_mask = rfe.support_\n",
        "selected_names = all_names[selected_mask]\n",
        "unselected_names = all_names[~selected_mask]\n",
        "\n",
        "print('Features selected:')\n",
        "for name in selected_names:\n",
        "    print(name)\n",
        "\n",
        "print()\n",
        "print('Features not selected:')\n",
        "for name in unselected_names:\n",
        "    print(name)"
      ],
      "execution_count": 24,
      "outputs": [
        {
          "output_type": "stream",
          "text": [
            "Features selected:\n",
            "dayOfMonth_\n",
            "weekday_\n",
            "PRCP\n",
            "TMAX\n",
            "TMIN\n",
            "AWND\n",
            "Total_yesterday\n",
            "Mon\n",
            "Tue\n",
            "Wed\n",
            "Thu\n",
            "Fri\n",
            "Sat\n",
            "Sun\n",
            "holiday\n",
            "Feb\n",
            "Mar\n",
            "Apr\n",
            "May\n",
            "Jun\n",
            "Oct\n",
            "Dec\n",
            "daylight_hrs\n",
            "Temp (C)\n",
            "dry day\n",
            "Windchill\n",
            "Rl_Cold\n",
            "TMIN_ln\n",
            "\n",
            "Features not selected:\n",
            "year_\n",
            "month_\n",
            "ID\n",
            "SNOW\n",
            "SNWD\n",
            "Jan\n",
            "Jul\n",
            "Aug\n",
            "Sep\n",
            "Nov\n",
            "annual\n",
            "PRCP_yest\n"
          ],
          "name": "stdout"
        }
      ]
    },
    {
      "metadata": {
        "id": "hoCUHkuGpjvX",
        "colab_type": "code",
        "colab": {}
      },
      "cell_type": "code",
      "source": [
        "X_train_subset = pd.DataFrame(X_train_subset, columns=selected_names)"
      ],
      "execution_count": 0,
      "outputs": []
    },
    {
      "metadata": {
        "id": "zZKoH475ppag",
        "colab_type": "code",
        "colab": {}
      },
      "cell_type": "code",
      "source": [
        "X_test_subset = rfe.transform(X_test)\n",
        "X_test_subset = pd.DataFrame(X_test_subset, columns=selected_names)"
      ],
      "execution_count": 0,
      "outputs": []
    },
    {
      "metadata": {
        "id": "mhcS0n8ApuUx",
        "colab_type": "code",
        "colab": {
          "base_uri": "https://localhost:8080/",
          "height": 32
        },
        "outputId": "856d3237-adbf-48e7-fe75-0f1612e85eb3"
      },
      "cell_type": "code",
      "source": [
        "print(X_train.shape, X_train_subset.shape, X_test.shape, X_test_subset.shape)"
      ],
      "execution_count": 27,
      "outputs": [
        {
          "output_type": "stream",
          "text": [
            "(963, 40) (963, 28) (100, 40) (100, 28)\n"
          ],
          "name": "stdout"
        }
      ]
    },
    {
      "metadata": {
        "id": "_OpHu92Yto88",
        "colab_type": "text"
      },
      "cell_type": "markdown",
      "source": [
        "# RFE again, but with polynomial features and interaction terms!"
      ]
    },
    {
      "metadata": {
        "id": "cxtlgAQTOaXW",
        "colab_type": "text"
      },
      "cell_type": "markdown",
      "source": [
        "### Apply a Polynomial Transformation"
      ]
    },
    {
      "metadata": {
        "id": "ArgRECEUtyH4",
        "colab_type": "code",
        "colab": {
          "base_uri": "https://localhost:8080/",
          "height": 32
        },
        "outputId": "48111c41-1bdf-46bb-f75f-66376e3382b2"
      },
      "cell_type": "code",
      "source": [
        "from sklearn.preprocessing import PolynomialFeatures\n",
        "\n",
        "poly = PolynomialFeatures(degree=2)\n",
        "X_train_polynomial = poly.fit_transform(X_train)\n",
        "\n",
        "print(X_train.shape, X_train_polynomial.shape)"
      ],
      "execution_count": 28,
      "outputs": [
        {
          "output_type": "stream",
          "text": [
            "(963, 40) (963, 861)\n"
          ],
          "name": "stdout"
        }
      ]
    },
    {
      "metadata": {
        "id": "YGdOekpYOemW",
        "colab_type": "text"
      },
      "cell_type": "markdown",
      "source": [
        "### Apply a Scaler & RFECV"
      ]
    },
    {
      "metadata": {
        "id": "TWVHh35wsdE7",
        "colab_type": "code",
        "colab": {
          "base_uri": "https://localhost:8080/",
          "height": 49
        },
        "outputId": "537989d3-f143-4218-eca1-0ba6f9f3e265"
      },
      "cell_type": "code",
      "source": [
        "%%time\n",
        "from sklearn.feature_selection import RFECV\n",
        "\n",
        "scaler = RobustScaler()\n",
        "X_train_scaled = scaler.fit_transform(X_train_polynomial)\n",
        "\n",
        "rfe = RFECV(Ridge(alpha=1.0), scoring='neg_mean_absolute_error', \n",
        "            step=10, cv=3, verbose=0)\n",
        "\n",
        "X_train_subset = rfe.fit_transform(X_train_scaled, y_train)"
      ],
      "execution_count": 29,
      "outputs": [
        {
          "output_type": "stream",
          "text": [
            "CPU times: user 13.7 s, sys: 10.6 s, total: 24.3 s\n",
            "Wall time: 12.3 s\n"
          ],
          "name": "stdout"
        }
      ]
    },
    {
      "metadata": {
        "id": "xjWSr7JfOwlg",
        "colab_type": "text"
      },
      "cell_type": "markdown",
      "source": [
        "### Look at all of those new features!\n"
      ]
    },
    {
      "metadata": {
        "id": "TrMRGvezuDD7",
        "colab_type": "code",
        "colab": {
          "base_uri": "https://localhost:8080/",
          "height": 32
        },
        "outputId": "0e97e8e0-9395-46f9-ae52-61f0a1b40f64"
      },
      "cell_type": "code",
      "source": [
        "all_names = poly.get_feature_names(X_train.columns)\n",
        "selected_mask = rfe.support_\n",
        "selected_names = [name for name, selected in zip(all_names, selected_mask) if selected]\n",
        "\n",
        "print(f'{rfe.n_features_} Features selected')\n",
        "'''for name in selected_names:\n",
        "    print(name)''';"
      ],
      "execution_count": 30,
      "outputs": [
        {
          "output_type": "stream",
          "text": [
            "171 Features selected:\n"
          ],
          "name": "stdout"
        }
      ]
    },
    {
      "metadata": {
        "id": "k7QIGrbrNt7b",
        "colab_type": "text"
      },
      "cell_type": "markdown",
      "source": [
        "### Now we can experiment with mulitple ridge settings for selecting features. "
      ]
    },
    {
      "metadata": {
        "id": "Pku8KixHv3CF",
        "colab_type": "code",
        "colab": {
          "base_uri": "https://localhost:8080/",
          "height": 164
        },
        "outputId": "ad9bc389-12d6-496a-a209-fe1a68c8289b"
      },
      "cell_type": "code",
      "source": [
        "# Define an estimator and param_grid\n",
        "\n",
        "ridge = Ridge()\n",
        "\n",
        "param_grid = {\n",
        "    'alpha': [0.1, 0.75, 1.0, 2.1, 2.2, 2.3, 2.4, 2.5, 3.0, 4.0, 10.]\n",
        "}\n",
        "\n",
        "# Fit on the train set, with grid search cross-validation\n",
        "gs = GridSearchCV(ridge, param_grid=param_grid, cv=3, \n",
        "                  scoring='neg_mean_absolute_error', \n",
        "                  verbose=1)\n",
        "\n",
        "gs.fit(X_train_subset, y_train)\n",
        "validation_score = gs.best_score_\n",
        "print()\n",
        "print('Cross-Validation Score:', -validation_score)\n",
        "print()\n",
        "print('Best estimator:', gs.best_estimator_)\n",
        "print()"
      ],
      "execution_count": 40,
      "outputs": [
        {
          "output_type": "stream",
          "text": [
            "Fitting 3 folds for each of 11 candidates, totalling 33 fits\n"
          ],
          "name": "stdout"
        },
        {
          "output_type": "stream",
          "text": [
            "[Parallel(n_jobs=1)]: Using backend SequentialBackend with 1 concurrent workers.\n"
          ],
          "name": "stderr"
        },
        {
          "output_type": "stream",
          "text": [
            "\n",
            "Cross-Validation Score: 256.61330969002734\n",
            "\n",
            "Best estimator: Ridge(alpha=2.2, copy_X=True, fit_intercept=True, max_iter=None,\n",
            "   normalize=False, random_state=None, solver='auto', tol=0.001)\n",
            "\n"
          ],
          "name": "stdout"
        },
        {
          "output_type": "stream",
          "text": [
            "[Parallel(n_jobs=1)]: Done  33 out of  33 | elapsed:    0.6s finished\n"
          ],
          "name": "stderr"
        }
      ]
    },
    {
      "metadata": {
        "id": "NnpbyDLSwPIH",
        "colab_type": "code",
        "colab": {
          "base_uri": "https://localhost:8080/",
          "height": 49
        },
        "outputId": "cad7b431-6fbd-4c6a-c897-a6155dc28423"
      },
      "cell_type": "code",
      "source": [
        "# Do the same transformations to X_test (Applying the same transformations to each set so we can check the test scores)\n",
        "X_test_polynomial = poly.transform(X_test)\n",
        "X_test_scaled = scaler.transform(X_test_polynomial)\n",
        "X_test_subset = rfe.transform(X_test_scaled)\n",
        "\n",
        "# Use the grid search's score method with X_test_subset\n",
        "train_score = gs.score(X_train_subset, y_train)\n",
        "print('Train Score:', -train_score)\n",
        "test_score = gs.score(X_test_subset, y_test)\n",
        "print('Test Score:', -test_score)"
      ],
      "execution_count": 41,
      "outputs": [
        {
          "output_type": "stream",
          "text": [
            "Train Score: 197.61173458116826\n",
            "Test Score: 356.485481175808\n"
          ],
          "name": "stdout"
        }
      ]
    },
    {
      "metadata": {
        "id": "oEoqn553SgZZ",
        "colab_type": "text"
      },
      "cell_type": "markdown",
      "source": [
        "###  Exploring other regression\n"
      ]
    },
    {
      "metadata": {
        "id": "8Akh6ApESza8",
        "colab_type": "code",
        "colab": {}
      },
      "cell_type": "code",
      "source": [
        "'''# Authors: Jan Hendrik Metzen <jhm@informatik.uni-bremen.de>\n",
        "#\n",
        "# License: BSD 3 clause\n",
        "\n",
        "from __future__ import division, print_function\n",
        "\n",
        "import numpy as np\n",
        "\n",
        "from matplotlib import pyplot as plt\n",
        "from sklearn.datasets import fetch_openml\n",
        "from sklearn.gaussian_process import GaussianProcessRegressor\n",
        "from sklearn.gaussian_process.kernels \\\n",
        "    import RBF, WhiteKernel, RationalQuadratic, ExpSineSquared\n",
        "\n",
        "print(__doc__)\n",
        "\n",
        "\n",
        "def load_mauna_loa_atmospheric_co2():\n",
        "    ml_data = fetch_openml(data_id=41187)\n",
        "    months = []\n",
        "    ppmv_sums = []\n",
        "    counts = []\n",
        "\n",
        "    y = ml_data.data[:, 0]\n",
        "    m = ml_data.data[:, 1]\n",
        "    month_float = y + (m - 1) / 12\n",
        "    ppmvs = ml_data.target\n",
        "\n",
        "    for month, ppmv in zip(month_float, ppmvs):\n",
        "        if not months or month != months[-1]:\n",
        "            months.append(month)\n",
        "            ppmv_sums.append(ppmv)\n",
        "            counts.append(1)\n",
        "        else:\n",
        "            # aggregate monthly sum to produce average\n",
        "            ppmv_sums[-1] += ppmv\n",
        "            counts[-1] += 1\n",
        "\n",
        "    months = np.asarray(months).reshape(-1, 1)\n",
        "    avg_ppmvs = np.asarray(ppmv_sums) / counts\n",
        "    return months, avg_ppmvs\n",
        "\n",
        "\n",
        "X, y = load_mauna_loa_atmospheric_co2()\n",
        "\n",
        "print(load_mauna_loa_atmospheric_co2())\n",
        "\n",
        "# Kernel with parameters given in GPML book\n",
        "k1 = 66.0**2 * RBF(length_scale=67.0)  # long term smooth rising trend\n",
        "k2 = 2.4**2 * RBF(length_scale=90.0) \\\n",
        "    * ExpSineSquared(length_scale=1.3, periodicity=1.0)  # seasonal component\n",
        "# medium term irregularity\n",
        "k3 = 0.66**2 \\\n",
        "    * RationalQuadratic(length_scale=1.2, alpha=0.78)\n",
        "k4 = 0.18**2 * RBF(length_scale=0.134) \\\n",
        "    + WhiteKernel(noise_level=0.19**2)  # noise terms\n",
        "kernel_gpml = k1 + k2 + k3 + k4\n",
        "\n",
        "gp = GaussianProcessRegressor(kernel=kernel_gpml, alpha=0,\n",
        "                              optimizer=None, normalize_y=True)\n",
        "gp.fit(X, y)\n",
        "\n",
        "print(\"GPML kernel: %s\" % gp.kernel_)\n",
        "print(\"Log-marginal-likelihood: %.3f\"\n",
        "      % gp.log_marginal_likelihood(gp.kernel_.theta))\n",
        "\n",
        "# Kernel with optimized parameters\n",
        "k1 = 50.0**2 * RBF(length_scale=50.0)  # long term smooth rising trend\n",
        "k2 = 2.0**2 * RBF(length_scale=100.0) \\\n",
        "    * ExpSineSquared(length_scale=1.0, periodicity=1.0,\n",
        "                     periodicity_bounds=\"fixed\")  # seasonal component\n",
        "# medium term irregularities\n",
        "k3 = 0.5**2 * RationalQuadratic(length_scale=1.0, alpha=1.0)\n",
        "k4 = 0.1**2 * RBF(length_scale=0.1) \\\n",
        "    + WhiteKernel(noise_level=0.1**2,\n",
        "                  noise_level_bounds=(1e-3, np.inf))  # noise terms\n",
        "kernel = k1 + k2 + k3 + k4\n",
        "\n",
        "gp = GaussianProcessRegressor(kernel=kernel, alpha=0,\n",
        "                              normalize_y=True)\n",
        "gp.fit(X, y)\n",
        "\n",
        "print(\"\\nLearned kernel: %s\" % gp.kernel_)\n",
        "print(\"Log-marginal-likelihood: %.3f\"\n",
        "      % gp.log_marginal_likelihood(gp.kernel_.theta))\n",
        "\n",
        "X_ = np.linspace(X.min(), X.max() + 30, 1000)[:, np.newaxis]\n",
        "y_pred, y_std = gp.predict(X_, return_std=True)\n",
        "\n",
        "# Illustration\n",
        "plt.scatter(X, y, c='k')\n",
        "plt.plot(X_, y_pred)\n",
        "plt.fill_between(X_[:, 0], y_pred - y_std, y_pred + y_std,\n",
        "                 alpha=0.5, color='k')\n",
        "plt.xlim(X_.min(), X_.max())\n",
        "plt.xlabel(\"Year\")\n",
        "plt.ylabel(r\"CO$_2$ in ppm\")\n",
        "plt.title(r\"Atmospheric CO$_2$ concentration at Mauna Loa\")\n",
        "plt.tight_layout()\n",
        "plt.show()''';"
      ],
      "execution_count": 0,
      "outputs": []
    },
    {
      "metadata": {
        "id": "08G7Dgyfrpwv",
        "colab_type": "text"
      },
      "cell_type": "markdown",
      "source": [
        ""
      ]
    }
  ]
}