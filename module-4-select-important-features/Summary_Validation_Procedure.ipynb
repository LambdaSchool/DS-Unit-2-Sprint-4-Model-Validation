{
  "nbformat": 4,
  "nbformat_minor": 0,
  "metadata": {
    "colab": {
      "name": "Model Validation Procedure.ipynb",
      "version": "0.3.2",
      "provenance": [],
      "collapsed_sections": [],
      "include_colab_link": true
    },
    "kernelspec": {
      "name": "python3",
      "display_name": "Python 3"
    }
  },
  "cells": [
    {
      "cell_type": "markdown",
      "metadata": {
        "id": "view-in-github",
        "colab_type": "text"
      },
      "source": [
        "<a href=\"https://colab.research.google.com/github/cocoisland/DS-Unit-2-Sprint-4-Model-Validation/blob/master/module-4-select-important-features/Summary_Validation_Procedure.ipynb\" target=\"_parent\"><img src=\"https://colab.research.google.com/assets/colab-badge.svg\" alt=\"Open In Colab\"/></a>"
      ]
    },
    {
      "metadata": {
        "id": "5h64r2KU_62G",
        "colab_type": "text"
      },
      "cell_type": "markdown",
      "source": [
        "1. Load data and perform basic clean up.\n",
        "2. Split the data into train and test sample for Cross validation with independent test sample.\n",
        "\n",
        "> How? \n",
        "\n",
        "> [sklearn.model_selection.train_test_split](https://scikit-learn.org/stable/modules/generated/sklearn.model_selection.train_test_split.html#sklearn-model-selection-train-test-split)\n",
        "\n",
        "\n",
        "3. Define metrics for problem in hand.\n",
        "\n",
        "> How? \n",
        "\n",
        "> sklearn.metrics\n",
        "\n",
        "> [For Classification and Logistic Regression:](https://scikit-learn.org/stable/modules/classes.html#classification-metrics)\n",
        "\n",
        "> [For Regression:](https://scikit-learn.org/stable/modules/classes.html#regression-metrics)\n",
        "\n",
        "\n",
        "4. Get basic estimates.\n",
        "\n",
        "> How? \n",
        "\n",
        "> * Using mean of dependent variable of training sample as estimate.\n",
        "> * Use closest possible record information like yesterday's or mean across same day over years.\n",
        "\n",
        "5. Feature engineering. *(Skip during 1st pass)*\n",
        "\n",
        "> How?\n",
        "\n",
        "> **Short Answer:** By looking at the pair plot identify if there are any polynomial relationships or Include some interaction features.\n",
        "\n",
        "> **Long Answer:** Become domain expert. $$$ in terms of investment and also returns.\n",
        "\n",
        "6. Polynomial feature inclusion. (Skip during 1st pass)\n",
        "\n",
        "> How? \n",
        "\n",
        "> [sklearn.preprocessing.PolynomialFeatures](https://scikit-learn.org/stable/modules/generated/sklearn.preprocessing.PolynomialFeatures.html#sklearn-preprocessing-polynomialfeatures)\n",
        "\n",
        "7. Scaling.\n",
        "\n",
        "> How? \n",
        "\n",
        "> [sklearn.preprocessing.StandardScaler](https://scikit-learn.org/stable/modules/generated/sklearn.preprocessing.StandardScaler.html#sklearn-preprocessing-standardscaler)\n",
        "\n",
        "> [sklearn.preprocessing.MinMaxScaler](https://scikit-learn.org/stable/modules/generated/sklearn.preprocessing.MinMaxScaler.html#sklearn-preprocessing-minmaxscaler)\n",
        "\n",
        "> [sklearn.preprocessing.RobustScaler](https://scikit-learn.org/stable/modules/generated/sklearn.preprocessing.RobustScaler.html#sklearn-preprocessing-robustscaler)\n",
        "\n",
        "8. Feature selection.\n",
        "\n",
        "> How?\n",
        "\n",
        "> [Feature Selection](https://scikit-learn.org/stable/modules/feature_selection.html)\n",
        "\n",
        "> [sklearn.feature_selection.VarianceThreshold](https://scikit-learn.org/stable/modules/generated/sklearn.feature_selection.VarianceThreshold.html#sklearn-feature-selection-variancethreshold)\n",
        "\n",
        "> [sklearn.feature_selection.SelectKBest](https://scikit-learn.org/stable/modules/generated/sklearn.feature_selection.SelectKBest.html#sklearn-feature-selection-selectkbest)\n",
        "\n",
        "> [sklearn.feature_selection.RFECV](https://scikit-learn.org/stable/modules/generated/sklearn.feature_selection.RFECV.html#sklearn-feature-selection-rfecv)\n",
        "\n",
        "9. Estimator.\n",
        "\n",
        "> How?\n",
        "\n",
        "> [sklearn.linear_model.LinearRegression](https://scikit-learn.org/stable/modules/generated/sklearn.linear_model.LinearRegression.html#sklearn-linear-model-linearregression)\n",
        "\n",
        "> [sklearn.linear_model.LogisticRegression](https://scikit-learn.org/stable/modules/generated/sklearn.linear_model.LogisticRegression.html#sklearn-linear-model-logisticregression)\n",
        "\n",
        "> [sklearn.linear_model.Ridge](https://scikit-learn.org/stable/modules/generated/sklearn.linear_model.Ridge.html#sklearn-linear-model-ridge)\n",
        "\n",
        "10. Grid Search Cross Validation.\n",
        "\n",
        "> How? \n",
        "\n",
        "> [sklearn.model_selection.GridSearchCV](https://scikit-learn.org/stable/modules/generated/sklearn.model_selection.GridSearchCV.html#sklearn-model-selection-gridsearchcv)\n",
        "\n",
        "11. Interpret the results and go back to step 4 (if needed)\n",
        "\n",
        "> How? \n",
        "\n",
        "> Based on the metrics selected in step 3\n",
        "\n",
        "13. Run the best estimator on independent test sample.\n",
        "\n",
        "> How?\n",
        "> Based on the best estimator output from GridSearchCV, predict the model on test sample and compute the metrics.\n",
        "\n",
        "**Note:** test sample needs to undergo the same transformation as train sample if pipeline is not used.\n",
        "\n",
        "> How?\n",
        "\n",
        "> [sklearn.pipeline.make_pipeline](https://scikit-learn.org/stable/modules/generated/sklearn.pipeline.make_pipeline.html#sklearn-pipeline-make-pipeline)"
      ]
    },
    {
      "metadata": {
        "id": "l3nuWYSRHYkE",
        "colab_type": "code",
        "colab": {}
      },
      "cell_type": "code",
      "source": [
        ""
      ],
      "execution_count": 0,
      "outputs": []
    }
  ]
}