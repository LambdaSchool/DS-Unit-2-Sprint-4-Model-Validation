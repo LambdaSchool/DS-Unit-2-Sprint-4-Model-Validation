{
  "nbformat": 4,
  "nbformat_minor": 0,
  "metadata": {
    "colab": {
      "name": "LS_DS_24_Cross-Validation-AND-Feature-Selection.ipynb",
      "version": "0.3.2",
      "provenance": [],
      "collapsed_sections": []
    },
    "kernelspec": {
      "name": "python3",
      "display_name": "Python 3"
    }
  },
  "cells": [
    {
      "metadata": {
        "id": "3ctjQBseh0Cw",
        "colab_type": "text"
      },
      "cell_type": "markdown",
      "source": [
        "_Lambda School Data Science - Model Validation_\n",
        "\n",
        "# HAVING FUN WITH CROSS-VALIDATION! — plus Feature Selection!\n",
        "\n",
        "See also Sebastian Raschka's example, [Basic Pipeline and Grid Search Setup](https://github.com/rasbt/python-machine-learning-book/blob/master/code/bonus/svm_iris_pipeline_and_gridsearch.ipynb)."
      ]
    },
    {
      "metadata": {
        "id": "K6ZRZsa-q9cs",
        "colab_type": "code",
        "colab": {}
      },
      "cell_type": "code",
      "source": [
        "#!pip install seaborn --upgrade\n",
        "\n",
        "import warnings\n",
        "warnings.filterwarnings('ignore')\n",
        "\n",
        "import pandas as pd\n",
        "pd.set_option('display.max_colwidth', 0)"
      ],
      "execution_count": 0,
      "outputs": []
    },
    {
      "metadata": {
        "id": "TpdhfLv-A2HA",
        "colab_type": "text"
      },
      "cell_type": "markdown",
      "source": [
        "## Here in we pull in all my feature creation functions\n",
        "\n",
        "**`load`** - Loads and combines our data. \n",
        "\n",
        "**`split `** - Creates a test train split. \n",
        "\n",
        "**`ordinal `** - Creates a few date-based features as ordinal encoded variables. \n",
        "\n",
        "**`one_hot_encoded `** - Creates a few date-based features as one-hot encoded variables. \n",
        "\n",
        "**`jake_wrangle `** - Creates a few engineered features from Jake Vanderplas's DS Handbook.\n",
        "\n",
        "**`wrangle `** - Applies `jake_wrangle` and creates a few engineered features from my classmates' insights.\n",
        "\n",
        "\n",
        "\n",
        "\n",
        "\n",
        "\n",
        "\n"
      ]
    },
    {
      "metadata": {
        "id": "aHUVU_AMBKs0",
        "colab_type": "code",
        "colab": {}
      },
      "cell_type": "code",
      "source": [
        "# We'll modify a project from Python Data Science Handbook by Jake VanderPlas\n",
        "# https://jakevdp.github.io/PythonDataScienceHandbook/05.06-linear-regression.html#Example:-Predicting-Bicycle-Traffic\n",
        "    \n",
        "# Predicting Bicycle Traffic\n",
        "\n",
        "# As an example, let's take a look at whether we can predict the number of \n",
        "# bicycle trips across Seattle's Fremont Bridge based on weather, season, \n",
        "# and other factors.\n",
        "\n",
        "# We will join the bike data with another dataset, and try to determine the \n",
        "# extent to which weather and seasonal factors—temperature, precipitation, \n",
        "# and daylight hours—affect the volume of bicycle traffic through this corridor. \n",
        "# Fortunately, the NOAA makes available their daily weather station data \n",
        "# (I used station ID USW00024233) and we can easily use Pandas to join \n",
        "# the two data sources.\n",
        "\n",
        "\n",
        "import numpy as np\n",
        "import pandas as pd\n",
        "from sklearn.feature_selection import f_regression, SelectKBest\n",
        "from sklearn.linear_model import Ridge\n",
        "from sklearn.metrics import mean_absolute_error\n",
        "from sklearn.model_selection import GridSearchCV\n",
        "from sklearn.pipeline import make_pipeline\n",
        "from sklearn.preprocessing import RobustScaler, PolynomialFeatures\n",
        "from sklearn.dummy import DummyRegressor\n",
        "from datetime import datetime\n",
        "from datetime import date\n",
        "\n",
        "\n",
        "def load(): \n",
        "    fremont_bridge = 'https://data.seattle.gov/api/views/65db-xm6k/rows.csv?accessType=DOWNLOAD'\n",
        "    \n",
        "    bicycle_weather = 'https://raw.githubusercontent.com/jakevdp/PythonDataScienceHandbook/master/notebooks/data/BicycleWeather.csv'\n",
        "\n",
        "    counts = pd.read_csv(fremont_bridge, index_col='Date', parse_dates=True, \n",
        "                         infer_datetime_format=True)\n",
        "\n",
        "    weather = pd.read_csv(bicycle_weather, index_col='DATE', parse_dates=True, \n",
        "                          infer_datetime_format=True)\n",
        "\n",
        "    daily = counts.resample('d').sum()\n",
        "    daily['Total'] = daily.sum(axis=1)\n",
        "    daily = daily[['Total']] # remove other columns\n",
        "\n",
        "    weather_columns = ['PRCP', 'SNOW', 'SNWD', 'TMAX', 'TMIN', 'AWND']\n",
        "    daily = daily.join(weather[weather_columns], how='inner')\n",
        "    \n",
        "    # Make a feature for yesterday's total\n",
        "    daily['Total_yesterday'] = daily.Total.shift(1)\n",
        "    daily = daily.drop(index=daily.index[0])\n",
        "  \n",
        "  \n",
        "    daily.insert(0, 'ID', range(0, len(daily)))\n",
        "\n",
        "    return daily\n",
        "\n",
        "  \n",
        "def ordinal(daily):\n",
        "    daily = daily.copy()\n",
        "    # Add a column of the dates\n",
        "    daily['date_'] = daily.index\n",
        "    \n",
        "    # Date stuff https://docs.python.org/3/library/datetime.html#datetime.date.fromisoformat\n",
        "    # Add some day context\n",
        "    daily.insert(0, 'weekday_', daily.date_.apply(lambda x: x.weekday()))\n",
        "    daily.insert(0, 'dayOfMonth_',  daily.date_.apply(lambda x: x.day))\n",
        "    daily.insert(0, 'month_',  daily.date_.apply(lambda x: x.month))\n",
        "    daily.insert(0, 'year_',  daily.date_.apply(lambda x: x.year))  \n",
        "    \n",
        "    # Drop date column\n",
        "    daily = daily.drop(columns='date_')\n",
        "    \n",
        "    return daily\n",
        "  \n",
        "    \n",
        "def split(daily):\n",
        "    # Hold out an \"out-of-time\" test set, from the last 100 days of data\n",
        "    \n",
        "    train = daily[:-100]\n",
        "    test = daily[-100:]\n",
        "    \n",
        "    X_train = train.drop(columns='Total')\n",
        "    y_train = train.Total\n",
        "\n",
        "    X_test  = test.drop(columns='Total')\n",
        "    y_test  = test.Total\n",
        "    \n",
        "    return X_train, X_test, y_train, y_test\n",
        "\n",
        "  \n",
        "  \n",
        "def one_hot_encoded(X):\n",
        "    X = X.copy()\n",
        "\n",
        "    # patterns of use generally vary from day to day; \n",
        "    # let's add binary columns that indicate the day of the week:\n",
        "    days = ['Mon', 'Tue', 'Wed', 'Thu', 'Fri', 'Sat', 'Sun']\n",
        "    for i, day in enumerate(days):\n",
        "        X[day] = (X.index.dayofweek == i).astype(float)\n",
        "\n",
        "\n",
        "    # we might expect riders to behave differently on holidays; \n",
        "    # let's add an indicator of this as well:\n",
        "    from pandas.tseries.holiday import USFederalHolidayCalendar\n",
        "    cal = USFederalHolidayCalendar()\n",
        "    holidays = cal.holidays('2012', '2016')\n",
        "    X = X.join(pd.Series(1, index=holidays, name='holiday'))\n",
        "    X['holiday'].fillna(0, inplace=True)\n",
        "    \n",
        "    months = ['Jan', 'Feb', 'Mar', 'Apr', 'May', 'Jun', 'Jul', 'Aug', 'Sep', 'Oct', 'Nov', 'Dec']\n",
        "    for i, month in enumerate(months):\n",
        "        X[month] = (X.index.month == i+1).astype(float)\n",
        "    \n",
        "    return X\n",
        "\n",
        "  \n",
        "\n",
        "def jake_wrangle(X):  \n",
        "    X = X.copy()\n",
        "\n",
        "    # We also might suspect that the hours of daylight would affect \n",
        "    # how many people ride; let's use the standard astronomical calculation \n",
        "    # to add this information:\n",
        "    def hours_of_daylight(date, axis=23.44, latitude=47.61):\n",
        "        \"\"\"Compute the hours of daylight for the given date\"\"\"\n",
        "        days = (date - pd.datetime(2000, 12, 21)).days\n",
        "        m = (1. - np.tan(np.radians(latitude))\n",
        "             * np.tan(np.radians(axis) * np.cos(days * 2 * np.pi / 365.25)))\n",
        "        return 24. * np.degrees(np.arccos(1 - np.clip(m, 0, 2))) / 180.\n",
        "\n",
        "    X['daylight_hrs'] = list(map(hours_of_daylight, X.index))\n",
        "\n",
        "\n",
        "    # temperatures are in 1/10 deg C; convert to C\n",
        "    X['TMIN'] /= 10\n",
        "    X['TMAX'] /= 10\n",
        "\n",
        "    # We can also calcuate the average temperature.\n",
        "    X['Temp (C)'] = 0.5 * (X['TMIN'] + X['TMAX'])\n",
        "\n",
        "\n",
        "    # precip is in 1/10 mm; convert to inches\n",
        "    X['PRCP'] /= 254\n",
        "\n",
        "    # In addition to the inches of precipitation, let's add a flag that \n",
        "    # indicates whether a day is dry (has zero precipitation):\n",
        "    X['dry day'] = (X['PRCP'] == 0).astype(int)\n",
        "\n",
        "\n",
        "    # Let's add a counter that increases from day 1, and measures how many \n",
        "    # years have passed. This will let us measure any observed annual increase \n",
        "    # or decrease in daily crossings:\n",
        "    X['annual'] = (X.index - X.index[0]).days / 365.\n",
        "\n",
        "    return X\n",
        "\n",
        "  \n",
        "\n",
        "def wrangle(X):\n",
        "    # From Daniel H (DS1 KotH)\n",
        "    X = X.copy()\n",
        "    X = X.replace(-9999, 0)\n",
        "    X = jake_wrangle(X)\n",
        "    \n",
        "    X['PRCP_yest'] = X.PRCP.shift(1).fillna(X.PRCP.mean())\n",
        "    X['Windchill'] = (((X['Temp (C)'] * (9/5) + 32) * .6215) + 34.74) - (35.75 * (X['AWND']** .16)) + (.4275 * (X['Temp (C)'])) * (X['AWND'] ** .16)\n",
        "    X['Rl_Cold'] = (((X['Temp (C)'] * (9/5) + 32) - X['Windchill']) -32) * (5/9)\n",
        "    X['TMIN_ln'] = X['TMIN'] **2\n",
        "    \n",
        "    return X\n",
        "\n",
        " "
      ],
      "execution_count": 0,
      "outputs": []
    },
    {
      "metadata": {
        "id": "S_YElAe92dSA",
        "colab_type": "code",
        "colab": {
          "base_uri": "https://localhost:8080/",
          "height": 201
        },
        "outputId": "17afb9bc-fef7-4f6d-d1d6-3834dbcf19f4"
      },
      "cell_type": "code",
      "source": [
        "# Download and join data into a dataframe\n",
        "data = load()\n",
        "data.head()"
      ],
      "execution_count": 3,
      "outputs": [
        {
          "output_type": "execute_result",
          "data": {
            "text/html": [
              "<div>\n",
              "<style scoped>\n",
              "    .dataframe tbody tr th:only-of-type {\n",
              "        vertical-align: middle;\n",
              "    }\n",
              "\n",
              "    .dataframe tbody tr th {\n",
              "        vertical-align: top;\n",
              "    }\n",
              "\n",
              "    .dataframe thead th {\n",
              "        text-align: right;\n",
              "    }\n",
              "</style>\n",
              "<table border=\"1\" class=\"dataframe\">\n",
              "  <thead>\n",
              "    <tr style=\"text-align: right;\">\n",
              "      <th></th>\n",
              "      <th>ID</th>\n",
              "      <th>Total</th>\n",
              "      <th>PRCP</th>\n",
              "      <th>SNOW</th>\n",
              "      <th>SNWD</th>\n",
              "      <th>TMAX</th>\n",
              "      <th>TMIN</th>\n",
              "      <th>AWND</th>\n",
              "      <th>Total_yesterday</th>\n",
              "    </tr>\n",
              "  </thead>\n",
              "  <tbody>\n",
              "    <tr>\n",
              "      <th>2012-10-04</th>\n",
              "      <td>0</td>\n",
              "      <td>3475.0</td>\n",
              "      <td>0</td>\n",
              "      <td>0</td>\n",
              "      <td>0</td>\n",
              "      <td>189</td>\n",
              "      <td>83</td>\n",
              "      <td>65</td>\n",
              "      <td>3521.0</td>\n",
              "    </tr>\n",
              "    <tr>\n",
              "      <th>2012-10-05</th>\n",
              "      <td>1</td>\n",
              "      <td>3148.0</td>\n",
              "      <td>0</td>\n",
              "      <td>0</td>\n",
              "      <td>0</td>\n",
              "      <td>217</td>\n",
              "      <td>89</td>\n",
              "      <td>57</td>\n",
              "      <td>3475.0</td>\n",
              "    </tr>\n",
              "    <tr>\n",
              "      <th>2012-10-06</th>\n",
              "      <td>2</td>\n",
              "      <td>2006.0</td>\n",
              "      <td>0</td>\n",
              "      <td>0</td>\n",
              "      <td>0</td>\n",
              "      <td>239</td>\n",
              "      <td>78</td>\n",
              "      <td>51</td>\n",
              "      <td>3148.0</td>\n",
              "    </tr>\n",
              "    <tr>\n",
              "      <th>2012-10-07</th>\n",
              "      <td>3</td>\n",
              "      <td>2142.0</td>\n",
              "      <td>0</td>\n",
              "      <td>0</td>\n",
              "      <td>0</td>\n",
              "      <td>239</td>\n",
              "      <td>78</td>\n",
              "      <td>13</td>\n",
              "      <td>2006.0</td>\n",
              "    </tr>\n",
              "    <tr>\n",
              "      <th>2012-10-08</th>\n",
              "      <td>4</td>\n",
              "      <td>3537.0</td>\n",
              "      <td>0</td>\n",
              "      <td>0</td>\n",
              "      <td>0</td>\n",
              "      <td>211</td>\n",
              "      <td>78</td>\n",
              "      <td>19</td>\n",
              "      <td>2142.0</td>\n",
              "    </tr>\n",
              "  </tbody>\n",
              "</table>\n",
              "</div>"
            ],
            "text/plain": [
              "            ID   Total  PRCP  SNOW  SNWD  TMAX  TMIN  AWND  Total_yesterday\n",
              "2012-10-04  0   3475.0  0     0     0     189   83    65    3521.0         \n",
              "2012-10-05  1   3148.0  0     0     0     217   89    57    3475.0         \n",
              "2012-10-06  2   2006.0  0     0     0     239   78    51    3148.0         \n",
              "2012-10-07  3   2142.0  0     0     0     239   78    13    2006.0         \n",
              "2012-10-08  4   3537.0  0     0     0     211   78    19    2142.0         "
            ]
          },
          "metadata": {
            "tags": []
          },
          "execution_count": 3
        }
      ]
    },
    {
      "metadata": {
        "id": "bC-3OGTDE2ku",
        "colab_type": "code",
        "colab": {
          "base_uri": "https://localhost:8080/",
          "height": 284
        },
        "outputId": "31c095a4-4ba1-4ef4-e22c-b83dea40f889"
      },
      "cell_type": "code",
      "source": [
        "import seaborn as sns\n",
        "sns.lineplot(data.index, data.Total)"
      ],
      "execution_count": 4,
      "outputs": [
        {
          "output_type": "execute_result",
          "data": {
            "text/plain": [
              "<matplotlib.axes._subplots.AxesSubplot at 0x7f19fafd5c88>"
            ]
          },
          "metadata": {
            "tags": []
          },
          "execution_count": 4
        },
        {
          "output_type": "display_data",
          "data": {
            "image/png": "[encoded data removed]",
            "text/plain": [
              "<Figure size 432x288 with 1 Axes>"
            ]
          },
          "metadata": {
            "tags": []
          }
        }
      ]
    },
    {
      "metadata": {
        "id": "o6nrCnpa9uXN",
        "colab_type": "text"
      },
      "cell_type": "markdown",
      "source": [
        "## Now I'll calculate how various models perform! "
      ]
    },
    {
      "metadata": {
        "id": "STBtqVrNZcd3",
        "colab_type": "text"
      },
      "cell_type": "markdown",
      "source": [
        "### I've converted my GridScore CV & Baseline to functions for easy use. "
      ]
    },
    {
      "metadata": {
        "id": "lCkyXP0jwvg8",
        "colab_type": "code",
        "colab": {}
      },
      "cell_type": "code",
      "source": [
        "# Rewriting my Dummy Regression Baseline one as a function\n",
        "def baseline(data):\n",
        "    name = \"Dummy Regression Baseline\"\n",
        "    # Split data into train and test\n",
        "    X_train, X_test, y_train, y_test = split(data)\n",
        "\n",
        "    # Define an estimator and param_grid\n",
        "    # WHEN DEFINING YOU CAN GIVE IT A NAME OTHERWISE IT WILL USE THE PIPELINE NAME AUTOGEN NAME (name of the function but lowercase)\n",
        "    pipe = make_pipeline(\n",
        "        RobustScaler(), \n",
        "        DummyRegressor(strategy='mean'))\n",
        "    pipe.fit(X_train, y_train)\n",
        "\n",
        "    scorer = 'MAE'\n",
        "\n",
        "    ### Get the scores with the MAE Function\n",
        "    y_pred_train = pipe.predict(X_train)  \n",
        "    y_pred_test = pipe.predict(X_test)\n",
        "\n",
        "    train_score = mean_absolute_error(y_train, y_pred_train)\n",
        "    test_score = mean_absolute_error(y_test, y_pred_test)\n",
        "    score_variance = test_score - train_score\n",
        "    cv_score = 0.0000000000000\n",
        "    best_params = pipe.get_params\n",
        "    best_estimator = \"\"\n",
        "    selected_names = list(X_train.columns)\n",
        "    unselected_names = []\n",
        "\n",
        "    return [name, scorer, train_score, test_score, score_variance, cv_score, selected_names, unselected_names, best_params, best_estimator]\n",
        "\n",
        "\n",
        "# Rewriting my GridSearch CV as a function \n",
        "def compare(data, name):\n",
        "    X_train, X_test, y_train, y_test = split(data)\n",
        "\n",
        "    pipe = make_pipeline(\n",
        "        RobustScaler(), \n",
        "        SelectKBest(f_regression), \n",
        "        Ridge())\n",
        "\n",
        "    param_grid = {\n",
        "        'selectkbest__k': range(1, len(X_train.columns)+1), \n",
        "        'ridge__alpha': [0.1, 1.0, 10.]\n",
        "    }\n",
        "\n",
        "    scorer = 'MAE'\n",
        "\n",
        "    # Fit on the train set, with grid search cross-validation\n",
        "    gs = GridSearchCV(pipe, param_grid=param_grid, cv=3, \n",
        "                      scoring='neg_mean_absolute_error', \n",
        "                      verbose=0)\n",
        "    gs.fit(X_train, y_train)\n",
        "\n",
        "    train_score = -gs.score(X_train, y_train)\n",
        "    test_score = -gs.score(X_test, y_test)\n",
        "    score_variance = test_score - train_score\n",
        "    cv_score = -gs.best_score_\n",
        "    best_params = gs.best_params_\n",
        "    best_estimator = gs.best_estimator_\n",
        "\n",
        "    # selected features? \n",
        "    # 'selectkbest' is the autogenerated name of the SelectKBest() function in the pipeline\n",
        "    selector = gs.best_estimator_.named_steps['selectkbest']\n",
        "    all_names = X_train.columns\n",
        "\n",
        "    # get_support returns a mask of the columns in True / False\n",
        "    selected_mask = selector.get_support()\n",
        "    # Passing the boolean list as the column names creates a masked list.  \n",
        "    selected_names = list(all_names[selected_mask])\n",
        "    unselected_names = list(all_names[~selected_mask])\n",
        "\n",
        "    return [name, scorer, train_score, test_score, score_variance, cv_score, selected_names, unselected_names, best_params, best_estimator]"
      ],
      "execution_count": 0,
      "outputs": []
    },
    {
      "metadata": {
        "id": "XpjETfimZUT_",
        "colab_type": "text"
      },
      "cell_type": "markdown",
      "source": [
        "### So I call my functions and show a table of the outcomes. "
      ]
    },
    {
      "metadata": {
        "id": "4V0DiSXl6VA5",
        "colab_type": "code",
        "colab": {
          "base_uri": "https://localhost:8080/",
          "height": 49
        },
        "outputId": "883e22c3-f991-4856-ae3f-29ebb759e220"
      },
      "cell_type": "code",
      "source": [
        "# Going to call it now( )\n",
        "%%time\n",
        "variables = [\"name\",\"scorer\",\"train_score\",\"test_score\",\"score_variance\",\"cv_score\",\"selected_features\",\"unselected_features\",\"best_params\",\"best_estimator\"]\n",
        "gridCompare = []\n",
        "\n",
        "# Call the Baseline function\n",
        "baseliner = baseline(data)\n",
        "gridCompare.append(baseliner)\n",
        "\n",
        "# Prep the Data for each Compare Scenario\n",
        "Z_data = data\n",
        "A_data = ordinal(data)\n",
        "B_data = one_hot_encoded(data)\n",
        "C_data = one_hot_encoded(A_data)\n",
        "D_data = wrangle(A_data)\n",
        "E_data = wrangle(B_data)\n",
        "F_data = wrangle(C_data)\n",
        "\n",
        "# Call the Compare function for the other scenarios. \n",
        "dataz = [Z_data, A_data, B_data, C_data, D_data, E_data, F_data]\n",
        "names = [\"Ridge Baseline\",'Just Ordinal','Just One Hot','Ord + One Hot','Wrangled + Ordinal','Wrangled + OH','All Combined']\n",
        "for i, j in zip(dataz, names): gridCompare.append(compare(i,j))\n",
        "gridComp = pd.DataFrame(gridCompare, columns = variables)"
      ],
      "execution_count": 6,
      "outputs": [
        {
          "output_type": "stream",
          "text": [
            "CPU times: user 37 s, sys: 22.6 s, total: 59.7 s\n",
            "Wall time: 31 s\n"
          ],
          "name": "stdout"
        }
      ]
    },
    {
      "metadata": {
        "id": "tvhPtOtaZthi",
        "colab_type": "text"
      },
      "cell_type": "markdown",
      "source": [
        "### The One Hot + Ordinal out performs either of them alone. "
      ]
    },
    {
      "metadata": {
        "id": "Y-WJCfvXQLtj",
        "colab_type": "code",
        "colab": {
          "base_uri": "https://localhost:8080/",
          "height": 555
        },
        "outputId": "ceeae25f-6f1e-47a4-adaa-f07a75f40d23"
      },
      "cell_type": "code",
      "source": [
        "gridComp.T.head(8)"
      ],
      "execution_count": 7,
      "outputs": [
        {
          "output_type": "execute_result",
          "data": {
            "text/html": [
              "<div>\n",
              "<style scoped>\n",
              "    .dataframe tbody tr th:only-of-type {\n",
              "        vertical-align: middle;\n",
              "    }\n",
              "\n",
              "    .dataframe tbody tr th {\n",
              "        vertical-align: top;\n",
              "    }\n",
              "\n",
              "    .dataframe thead th {\n",
              "        text-align: right;\n",
              "    }\n",
              "</style>\n",
              "<table border=\"1\" class=\"dataframe\">\n",
              "  <thead>\n",
              "    <tr style=\"text-align: right;\">\n",
              "      <th></th>\n",
              "      <th>0</th>\n",
              "      <th>1</th>\n",
              "      <th>2</th>\n",
              "      <th>3</th>\n",
              "      <th>4</th>\n",
              "      <th>5</th>\n",
              "      <th>6</th>\n",
              "      <th>7</th>\n",
              "    </tr>\n",
              "  </thead>\n",
              "  <tbody>\n",
              "    <tr>\n",
              "      <th>name</th>\n",
              "      <td>Dummy Regression Baseline</td>\n",
              "      <td>Ridge Baseline</td>\n",
              "      <td>Just Ordinal</td>\n",
              "      <td>Just One Hot</td>\n",
              "      <td>Ord + One Hot</td>\n",
              "      <td>Wrangled + Ordinal</td>\n",
              "      <td>Wrangled + OH</td>\n",
              "      <td>All Combined</td>\n",
              "    </tr>\n",
              "    <tr>\n",
              "      <th>scorer</th>\n",
              "      <td>MAE</td>\n",
              "      <td>MAE</td>\n",
              "      <td>MAE</td>\n",
              "      <td>MAE</td>\n",
              "      <td>MAE</td>\n",
              "      <td>MAE</td>\n",
              "      <td>MAE</td>\n",
              "      <td>MAE</td>\n",
              "    </tr>\n",
              "    <tr>\n",
              "      <th>train_score</th>\n",
              "      <td>980.898</td>\n",
              "      <td>601.751</td>\n",
              "      <td>385.55</td>\n",
              "      <td>290.97</td>\n",
              "      <td>290.953</td>\n",
              "      <td>362.645</td>\n",
              "      <td>272.788</td>\n",
              "      <td>272.833</td>\n",
              "    </tr>\n",
              "    <tr>\n",
              "      <th>test_score</th>\n",
              "      <td>1341.21</td>\n",
              "      <td>773.107</td>\n",
              "      <td>448.714</td>\n",
              "      <td>625.799</td>\n",
              "      <td>635.768</td>\n",
              "      <td>414.397</td>\n",
              "      <td>335.934</td>\n",
              "      <td>333.885</td>\n",
              "    </tr>\n",
              "    <tr>\n",
              "      <th>score_variance</th>\n",
              "      <td>360.307</td>\n",
              "      <td>171.356</td>\n",
              "      <td>63.164</td>\n",
              "      <td>334.829</td>\n",
              "      <td>344.815</td>\n",
              "      <td>51.7527</td>\n",
              "      <td>63.1461</td>\n",
              "      <td>61.0522</td>\n",
              "    </tr>\n",
              "    <tr>\n",
              "      <th>cv_score</th>\n",
              "      <td>0</td>\n",
              "      <td>604.645</td>\n",
              "      <td>389.212</td>\n",
              "      <td>317.006</td>\n",
              "      <td>316.724</td>\n",
              "      <td>375.381</td>\n",
              "      <td>297.196</td>\n",
              "      <td>297.141</td>\n",
              "    </tr>\n",
              "    <tr>\n",
              "      <th>selected_features</th>\n",
              "      <td>[ID, PRCP, SNOW, SNWD, TMAX, TMIN, AWND, Total_yesterday]</td>\n",
              "      <td>[PRCP, TMAX, TMIN, Total_yesterday]</td>\n",
              "      <td>[weekday_, PRCP, TMAX, TMIN, Total_yesterday]</td>\n",
              "      <td>[ID, PRCP, SNWD, TMAX, TMIN, AWND, Total_yesterday, Mon, Tue, Wed, Thu, Sat, Sun, holiday, Jan, Feb, Mar, May, Jun, Jul, Aug, Sep, Nov, Dec]</td>\n",
              "      <td>[year_, weekday_, ID, PRCP, TMAX, TMIN, AWND, Total_yesterday, Mon, Tue, Wed, Thu, Sat, Sun, holiday, Jan, Feb, Mar, May, Jun, Jul, Aug, Nov, Dec]</td>\n",
              "      <td>[weekday_, ID, PRCP, TMAX, TMIN, AWND, Total_yesterday, daylight_hrs, Temp (C), dry day, annual, PRCP_yest, Windchill, Rl_Cold, TMIN_ln]</td>\n",
              "      <td>[ID, PRCP, TMAX, TMIN, AWND, Total_yesterday, Mon, Tue, Wed, Thu, Sat, Sun, holiday, Jan, Feb, Mar, May, Jun, Jul, Aug, Sep, Nov, Dec, daylight_hrs, Temp (C), dry day, annual, PRCP_yest, Windchill, Rl_Cold, TMIN_ln]</td>\n",
              "      <td>[year_, weekday_, ID, PRCP, TMAX, TMIN, AWND, Total_yesterday, Mon, Tue, Wed, Thu, Sat, Sun, holiday, Jan, Feb, Mar, May, Jun, Jul, Aug, Nov, Dec, daylight_hrs, Temp (C), dry day, annual, PRCP_yest, Windchill, Rl_Cold, TMIN_ln]</td>\n",
              "    </tr>\n",
              "    <tr>\n",
              "      <th>unselected_features</th>\n",
              "      <td>[]</td>\n",
              "      <td>[ID, SNOW, SNWD, AWND]</td>\n",
              "      <td>[year_, month_, dayOfMonth_, ID, SNOW, SNWD, AWND]</td>\n",
              "      <td>[SNOW, Fri, Apr, Oct]</td>\n",
              "      <td>[month_, dayOfMonth_, SNOW, SNWD, Fri, Apr, Sep, Oct]</td>\n",
              "      <td>[year_, month_, dayOfMonth_, SNOW, SNWD]</td>\n",
              "      <td>[SNOW, SNWD, Fri, Apr, Oct]</td>\n",
              "      <td>[month_, dayOfMonth_, SNOW, SNWD, Fri, Apr, Sep, Oct]</td>\n",
              "    </tr>\n",
              "  </tbody>\n",
              "</table>\n",
              "</div>"
            ],
            "text/plain": [
              "                                                                             0  \\\n",
              "name                 Dummy Regression Baseline                                   \n",
              "scorer               MAE                                                         \n",
              "train_score          980.898                                                     \n",
              "test_score           1341.21                                                     \n",
              "score_variance       360.307                                                     \n",
              "cv_score             0                                                           \n",
              "selected_features    [ID, PRCP, SNOW, SNWD, TMAX, TMIN, AWND, Total_yesterday]   \n",
              "unselected_features  []                                                          \n",
              "\n",
              "                                                       1  \\\n",
              "name                 Ridge Baseline                        \n",
              "scorer               MAE                                   \n",
              "train_score          601.751                               \n",
              "test_score           773.107                               \n",
              "score_variance       171.356                               \n",
              "cv_score             604.645                               \n",
              "selected_features    [PRCP, TMAX, TMIN, Total_yesterday]   \n",
              "unselected_features  [ID, SNOW, SNWD, AWND]                \n",
              "\n",
              "                                                                      2  \\\n",
              "name                 Just Ordinal                                         \n",
              "scorer               MAE                                                  \n",
              "train_score          385.55                                               \n",
              "test_score           448.714                                              \n",
              "score_variance       63.164                                               \n",
              "cv_score             389.212                                              \n",
              "selected_features    [weekday_, PRCP, TMAX, TMIN, Total_yesterday]        \n",
              "unselected_features  [year_, month_, dayOfMonth_, ID, SNOW, SNWD, AWND]   \n",
              "\n",
              "                                                                                                                                                                3  \\\n",
              "name                 Just One Hot                                                                                                                                   \n",
              "scorer               MAE                                                                                                                                            \n",
              "train_score          290.97                                                                                                                                         \n",
              "test_score           625.799                                                                                                                                        \n",
              "score_variance       334.829                                                                                                                                        \n",
              "cv_score             317.006                                                                                                                                        \n",
              "selected_features    [ID, PRCP, SNWD, TMAX, TMIN, AWND, Total_yesterday, Mon, Tue, Wed, Thu, Sat, Sun, holiday, Jan, Feb, Mar, May, Jun, Jul, Aug, Sep, Nov, Dec]   \n",
              "unselected_features  [SNOW, Fri, Apr, Oct]                                                                                                                          \n",
              "\n",
              "                                                                                                                                                                      4  \\\n",
              "name                 Ord + One Hot                                                                                                                                        \n",
              "scorer               MAE                                                                                                                                                  \n",
              "train_score          290.953                                                                                                                                              \n",
              "test_score           635.768                                                                                                                                              \n",
              "score_variance       344.815                                                                                                                                              \n",
              "cv_score             316.724                                                                                                                                              \n",
              "selected_features    [year_, weekday_, ID, PRCP, TMAX, TMIN, AWND, Total_yesterday, Mon, Tue, Wed, Thu, Sat, Sun, holiday, Jan, Feb, Mar, May, Jun, Jul, Aug, Nov, Dec]   \n",
              "unselected_features  [month_, dayOfMonth_, SNOW, SNWD, Fri, Apr, Sep, Oct]                                                                                                \n",
              "\n",
              "                                                                                                                                                            5  \\\n",
              "name                 Wrangled + Ordinal                                                                                                                         \n",
              "scorer               MAE                                                                                                                                        \n",
              "train_score          362.645                                                                                                                                    \n",
              "test_score           414.397                                                                                                                                    \n",
              "score_variance       51.7527                                                                                                                                    \n",
              "cv_score             375.381                                                                                                                                    \n",
              "selected_features    [weekday_, ID, PRCP, TMAX, TMIN, AWND, Total_yesterday, daylight_hrs, Temp (C), dry day, annual, PRCP_yest, Windchill, Rl_Cold, TMIN_ln]   \n",
              "unselected_features  [year_, month_, dayOfMonth_, SNOW, SNWD]                                                                                                   \n",
              "\n",
              "                                                                                                                                                                                                                                           6  \\\n",
              "name                 Wrangled + OH                                                                                                                                                                                                             \n",
              "scorer               MAE                                                                                                                                                                                                                       \n",
              "train_score          272.788                                                                                                                                                                                                                   \n",
              "test_score           335.934                                                                                                                                                                                                                   \n",
              "score_variance       63.1461                                                                                                                                                                                                                   \n",
              "cv_score             297.196                                                                                                                                                                                                                   \n",
              "selected_features    [ID, PRCP, TMAX, TMIN, AWND, Total_yesterday, Mon, Tue, Wed, Thu, Sat, Sun, holiday, Jan, Feb, Mar, May, Jun, Jul, Aug, Sep, Nov, Dec, daylight_hrs, Temp (C), dry day, annual, PRCP_yest, Windchill, Rl_Cold, TMIN_ln]   \n",
              "unselected_features  [SNOW, SNWD, Fri, Apr, Oct]                                                                                                                                                                                               \n",
              "\n",
              "                                                                                                                                                                                                                                                       7  \n",
              "name                 All Combined                                                                                                                                                                                                                         \n",
              "scorer               MAE                                                                                                                                                                                                                                  \n",
              "train_score          272.833                                                                                                                                                                                                                              \n",
              "test_score           333.885                                                                                                                                                                                                                              \n",
              "score_variance       61.0522                                                                                                                                                                                                                              \n",
              "cv_score             297.141                                                                                                                                                                                                                              \n",
              "selected_features    [year_, weekday_, ID, PRCP, TMAX, TMIN, AWND, Total_yesterday, Mon, Tue, Wed, Thu, Sat, Sun, holiday, Jan, Feb, Mar, May, Jun, Jul, Aug, Nov, Dec, daylight_hrs, Temp (C), dry day, annual, PRCP_yest, Windchill, Rl_Cold, TMIN_ln]  \n",
              "unselected_features  [month_, dayOfMonth_, SNOW, SNWD, Fri, Apr, Sep, Oct]                                                                                                                                                                                "
            ]
          },
          "metadata": {
            "tags": []
          },
          "execution_count": 7
        }
      ]
    },
    {
      "metadata": {
        "id": "WvakVkHHBIAG",
        "colab_type": "text"
      },
      "cell_type": "markdown",
      "source": [
        "Remember: If your dataset is massive, be sure to take a random subset sample to try fitting with the training data to start getting scores. "
      ]
    },
    {
      "metadata": {
        "id": "W6pWKwFwNJ7Q",
        "colab_type": "text"
      },
      "cell_type": "markdown",
      "source": [
        "### Notes on Pipeline / GridScore"
      ]
    },
    {
      "metadata": {
        "id": "ZYJAHcNH_m2a",
        "colab_type": "text"
      },
      "cell_type": "markdown",
      "source": [
        "#### Using scoring functions different than the GridSearchCV `Scorer`\n",
        "\n",
        "You can use a different scorer by simply calling the sklearn.metric function for the alternative scorer on the y-actual vs y-predicted for the fitted model. \n"
      ]
    },
    {
      "metadata": {
        "id": "AR4bo95ZJFwj",
        "colab_type": "code",
        "colab": {}
      },
      "cell_type": "code",
      "source": [
        "\"\"\"\n",
        "# Using MAE function as standalone metric\n",
        "y_pred = gs.predict(X_test)\n",
        "test_score = mean_absolute_error(y_test, y_pred)\n",
        "print('Test Score:', test_score)\n",
        "\"\"\";"
      ],
      "execution_count": 0,
      "outputs": []
    },
    {
      "metadata": {
        "id": "BAFwZ4iG_sA5",
        "colab_type": "text"
      },
      "cell_type": "markdown",
      "source": [
        "#### Using the GridSearch's `score` method to get the final test score. \n",
        "\n",
        "This method just generates the test predictions and scores them, returning the test score to you.\n",
        "\n",
        "For negative metrics you apply the negative symbol to flip the sign from negative to positive."
      ]
    },
    {
      "metadata": {
        "id": "7MQYtnmxV159",
        "colab_type": "code",
        "colab": {}
      },
      "cell_type": "code",
      "source": [
        "\"\"\"\n",
        "train_score = gs.score(X_train, y_train)\n",
        "test_score = gs.score(X_test, y_test)\n",
        "\n",
        "print('Train Score:', -train_score)\n",
        "print('Test Score:', -test_score)\n",
        "\"\"\";"
      ],
      "execution_count": 0,
      "outputs": []
    },
    {
      "metadata": {
        "id": "g8GngZEJZ1Zd",
        "colab_type": "text"
      },
      "cell_type": "markdown",
      "source": [
        "#### Functions before re-*writing*"
      ]
    },
    {
      "metadata": {
        "id": "PTsw1_cOY3Jb",
        "colab_type": "code",
        "colab": {}
      },
      "cell_type": "code",
      "source": [
        "\"\"\"### HOW MY BASELINE FUNCTION LOOKED BEFORE\n",
        "# Split data into train and test\n",
        "X_train, X_test, y_train, y_test = split(data)\n",
        "\n",
        "# Define an estimator and param_grid\n",
        "# WHEN DEFINING YOU CAN GIVE IT A NAME OTHERWISE IT WILL USE THE PIPELINE NAME AUTOGEN NAME (name of the function but lowercase)\n",
        "pipe = make_pipeline(\n",
        "    RobustScaler(), \n",
        "    DummyRegressor(strategy='mean'))\n",
        "\n",
        "pipe.fit(X_train, y_train)\n",
        "\n",
        "### Get the scores with the MAE Function\n",
        "## Predict with X_test features and Compare predictions to y_test labels\n",
        "y_pred = pipe.predict(X_train)\n",
        "dummy_train_score = mean_absolute_error(y_train, y_pred)\n",
        "print('Dummy Regression Train Score:', dummy_train_score)\n",
        "\n",
        "\n",
        "## Predict with X_test features and Compare predictions to y_test labels\n",
        "y_pred = pipe.predict(X_test)\n",
        "dummy_test_score = mean_absolute_error(y_test, y_pred)\n",
        "print('Dummy Regression Test Score:', dummy_test_score)\n",
        "\n",
        "### HOW MY PIPELINE FUNCTION LOOKED BEFORE\n",
        "# Define an estimator and param_grid\n",
        "# WHEN DEFINING YOU CAN GIVE IT A NAME OTHERWISE IT WILL USE THE PIPELINE NAME AUTOGEN NAME (name of the function but lowercase)\n",
        "pipe = make_pipeline(\n",
        "    RobustScaler(), \n",
        "    SelectKBest(f_regression), \n",
        "    Ridge())\n",
        "\n",
        "param_grid = {\n",
        "    'selectkbest__k': range(1, len(X_train.columns)+1), \n",
        "    'ridge__alpha': [0.1, 1.0, 10.]\n",
        "}\n",
        "\n",
        "# Fit on the train set, with grid search cross-validation\n",
        "gs = GridSearchCV(pipe, param_grid=param_grid, cv=3, \n",
        "                  scoring='neg_mean_absolute_error', \n",
        "                  verbose=1)\n",
        "\n",
        "gs.fit(X_train, y_train)\n",
        "validation_score = gs.best_score_\n",
        "print()\n",
        "print('Cross-Validation Score:', -validation_score)\n",
        "print()\n",
        "print('Best estimator:', gs.best_estimator_)\n",
        "print()\n",
        "\n",
        "\n",
        "### Get the score with the GridSearch's score method\n",
        "# It combines the predict and score calculation.\n",
        "RidgeBaseline_train_score = gs.score(X_train, y_train)\n",
        "print('RidgeBaseline Train Score:', -RidgeBaseline_train_score)\n",
        "\n",
        "RidgeBaseline_test_score = gs.score(X_test, y_test)\n",
        "print('RidgeBaseline Test Score:', -RidgeBaseline_test_score)\"\"\";"
      ],
      "execution_count": 0,
      "outputs": []
    },
    {
      "metadata": {
        "id": "N48n7s59U5AX",
        "colab_type": "text"
      },
      "cell_type": "markdown",
      "source": [
        "#### You can use Function Transformer to pass through functions into GridSearchCV"
      ]
    },
    {
      "metadata": {
        "id": "krmq2YHOquGX",
        "colab_type": "code",
        "colab": {}
      },
      "cell_type": "code",
      "source": [
        "'''def vary_scale(typ): \n",
        "  if typ=='robust': return RobustScaler\n",
        "  elif typ=='standard': return StandardScaler\n",
        "  else: Fail\n",
        "\n",
        "pipe = Pipeline(steps=[  ... , ('scale', FunctionTransformer(vary_scale)), ... ])\n",
        "\n",
        "param_grid = { \n",
        "    ... , \n",
        "    FunctionTransformer'vary_scale__choice': ['robust', 'standard'],\n",
        "    ... }\n",
        "\n",
        "search = GridSearchCV(pipe, param_grid, ...)''';"
      ],
      "execution_count": 0,
      "outputs": []
    },
    {
      "metadata": {
        "id": "NmZNR3QxVKDy",
        "colab_type": "text"
      },
      "cell_type": "markdown",
      "source": [
        "## Now I'll try another step, this one is adding PolynomialFeatures. "
      ]
    },
    {
      "metadata": {
        "id": "9z11uJRB0dEO",
        "colab_type": "code",
        "colab": {
          "base_uri": "https://localhost:8080/",
          "height": 236
        },
        "outputId": "4647c7c3-5257-4bd5-e970-5e2cf36420e1"
      },
      "cell_type": "code",
      "source": [
        "%%time\n",
        "ordinal_data = ordinal(data)\n",
        "ord_oh_data = one_hot_encoded(ordinal_data)\n",
        "wrangled_oh_ord_data = wrangle(ord_oh_data)\n",
        "\n",
        "# Split data into train and test\n",
        "X_train, X_test, y_train, y_test = split(wrangled_oh_ord_data)\n",
        "\n",
        "# Define an estimator and param_grid\n",
        "# WHEN DEFINING YOU CAN GIVE IT A NAME OTHERWISE IT WILL USE THE PIPELINE NAME AUTOGEN NAME (name of the function but lowercase)\n",
        "pipe = make_pipeline(\n",
        "    RobustScaler(), \n",
        "    PolynomialFeatures(degree=2),\n",
        "    SelectKBest(f_regression), \n",
        "    Ridge())\n",
        "\n",
        "param_grid = {\n",
        "    'selectkbest__k': range(1, len(X_train.columns)+1), \n",
        "    'ridge__alpha': [0.1, 1.0, 10.]\n",
        "}\n",
        "\n",
        "# Fit on the train set, with grid search cross-validation\n",
        "gs = GridSearchCV(pipe, param_grid=param_grid, cv=3, \n",
        "                  scoring='neg_mean_absolute_error', \n",
        "                  verbose=0)\n",
        "\n",
        "gs.fit(X_train, y_train)\n",
        "validation_score = gs.best_score_\n",
        "print()\n",
        "print('Cross-Validation Score:', -validation_score)\n",
        "print()\n",
        "print('Best estimator:', gs.best_estimator_)\n",
        "print()\n",
        "\n",
        "\n",
        "### Get the score with the GridSearch's score method\n",
        "# It combines the predict and score calculation.\n",
        "fe_train_score = gs.score(X_train, y_train)\n",
        "print('Feature Engineered Train Score:', -fe_train_score)\n",
        "\n",
        "fe_test_score = gs.score(X_test, y_test)\n",
        "print('Feature Engineered Test Score:', -fe_test_score)"
      ],
      "execution_count": 12,
      "outputs": [
        {
          "output_type": "stream",
          "text": [
            "\n",
            "Cross-Validation Score: 337.3047538164374\n",
            "\n",
            "Best estimator: Pipeline(memory=None,\n",
            "     steps=[('robustscaler', RobustScaler(copy=True, quantile_range=(25.0, 75.0), with_centering=True,\n",
            "       with_scaling=True)), ('polynomialfeatures', PolynomialFeatures(degree=2, include_bias=True, interaction_only=False)), ('selectkbest', SelectKBest(k=36, score_func=<function f_regression at 0x7f19fa1bcd90>)), ('ridge', Ridge(alpha=1.0, copy_X=True, fit_intercept=True, max_iter=None,\n",
            "   normalize=False, random_state=None, solver='auto', tol=0.001))])\n",
            "\n",
            "Feature Engineered Train Score: 276.24247184972216\n",
            "Feature Engineered Test Score: 395.80984993785677\n",
            "CPU times: user 35.8 s, sys: 24.4 s, total: 1min\n",
            "Wall time: 30.3 s\n"
          ],
          "name": "stdout"
        }
      ]
    },
    {
      "metadata": {
        "id": "urdgBk_Vp6ZN",
        "colab_type": "text"
      },
      "cell_type": "markdown",
      "source": [
        "## BONUS: Recursive Feature Elimination!\n",
        "\n",
        "https://scikit-learn.org/stable/modules/generated/sklearn.feature_selection.RFECV.html"
      ]
    },
    {
      "metadata": {
        "id": "EEvISfuimpQV",
        "colab_type": "code",
        "colab": {
          "base_uri": "https://localhost:8080/",
          "height": 71
        },
        "outputId": "a491dd12-83a0-4f50-fc52-fc4bf1a85ede"
      },
      "cell_type": "code",
      "source": [
        "from sklearn.feature_selection import RFECV\n",
        "\n",
        "X_train_scaled = RobustScaler().fit_transform(X_train)\n",
        "rfe = RFECV(Ridge(alpha=1.0), scoring='neg_mean_absolute_error', cv=3)\n",
        "X_train_subset = rfe.fit_transform(X_train_scaled, y_train)\n",
        "\n",
        "all_names = X_train.columns\n",
        "selected_mask = rfe.support_\n",
        "selected_names = all_names[selected_mask]\n",
        "unselected_names = all_names[~selected_mask]\n",
        "\n",
        "print('Features selected:',list(selected_names))\n",
        "print('Features not selected:',list(unselected_names))"
      ],
      "execution_count": 17,
      "outputs": [
        {
          "output_type": "stream",
          "text": [
            "Features selected: ['dayOfMonth_', 'weekday_', 'PRCP', 'TMAX', 'TMIN', 'AWND', 'Total_yesterday', 'Mon', 'Tue', 'Wed', 'Thu', 'Fri', 'Sat', 'Sun', 'holiday', 'Feb', 'Mar', 'Apr', 'May', 'Jun', 'Oct', 'Dec', 'daylight_hrs', 'Temp (C)', 'dry day', 'Windchill', 'Rl_Cold', 'TMIN_ln']\n",
            "Features not selected: ['year_', 'month_', 'ID', 'SNOW', 'SNWD', 'Jan', 'Jul', 'Aug', 'Sep', 'Nov', 'annual', 'PRCP_yest']\n"
          ],
          "name": "stdout"
        }
      ]
    },
    {
      "metadata": {
        "id": "_OpHu92Yto88",
        "colab_type": "text"
      },
      "cell_type": "markdown",
      "source": [
        "## RFE again, but with polynomial features and interaction terms!"
      ]
    },
    {
      "metadata": {
        "id": "cxtlgAQTOaXW",
        "colab_type": "text"
      },
      "cell_type": "markdown",
      "source": [
        "### Apply a Polynomial Transformation"
      ]
    },
    {
      "metadata": {
        "id": "ArgRECEUtyH4",
        "colab_type": "code",
        "colab": {
          "base_uri": "https://localhost:8080/",
          "height": 32
        },
        "outputId": "689b0487-ac84-4829-cd67-89ab9c4e47ba"
      },
      "cell_type": "code",
      "source": [
        "from sklearn.preprocessing import PolynomialFeatures\n",
        "\n",
        "poly = PolynomialFeatures(degree=2)\n",
        "X_train_polynomial = poly.fit_transform(X_train)\n",
        "\n",
        "print(X_train.shape, X_train_polynomial.shape)"
      ],
      "execution_count": 18,
      "outputs": [
        {
          "output_type": "stream",
          "text": [
            "(963, 40) (963, 861)\n"
          ],
          "name": "stdout"
        }
      ]
    },
    {
      "metadata": {
        "id": "YGdOekpYOemW",
        "colab_type": "text"
      },
      "cell_type": "markdown",
      "source": [
        "### Apply a Scaler & RFECV"
      ]
    },
    {
      "metadata": {
        "id": "TWVHh35wsdE7",
        "colab_type": "code",
        "colab": {
          "base_uri": "https://localhost:8080/",
          "height": 49
        },
        "outputId": "19e5b09a-b125-40b6-9dbb-eb43d93daf54"
      },
      "cell_type": "code",
      "source": [
        "%%time\n",
        "from sklearn.feature_selection import RFECV\n",
        "\n",
        "scaler = RobustScaler()\n",
        "X_train_scaled = scaler.fit_transform(X_train_polynomial)\n",
        "\n",
        "rfe = RFECV(Ridge(alpha=1.0), scoring='neg_mean_absolute_error', \n",
        "            step=10, cv=3, verbose=0)\n",
        "\n",
        "X_train_subset = rfe.fit_transform(X_train_scaled, y_train)"
      ],
      "execution_count": 19,
      "outputs": [
        {
          "output_type": "stream",
          "text": [
            "CPU times: user 16.2 s, sys: 15.6 s, total: 31.8 s\n",
            "Wall time: 16.1 s\n"
          ],
          "name": "stdout"
        }
      ]
    },
    {
      "metadata": {
        "id": "xjWSr7JfOwlg",
        "colab_type": "text"
      },
      "cell_type": "markdown",
      "source": [
        "### Look at all of those new features!\n"
      ]
    },
    {
      "metadata": {
        "id": "TrMRGvezuDD7",
        "colab_type": "code",
        "colab": {
          "base_uri": "https://localhost:8080/",
          "height": 54
        },
        "outputId": "de8ae95d-854f-462f-f298-0c360de412a7"
      },
      "cell_type": "code",
      "source": [
        "all_names = poly.get_feature_names(X_train.columns)\n",
        "selected_mask = rfe.support_\n",
        "selected_names = [name for name, selected in zip(all_names, selected_mask) if selected]\n",
        "print('Features selected:',list(selected_names))"
      ],
      "execution_count": 21,
      "outputs": [
        {
          "output_type": "stream",
          "text": [
            "Features selected: ['year_', 'PRCP', 'TMAX', 'year_ dayOfMonth_', 'year_ TMAX', 'month_ Fri', 'month_ Sat', 'month_ Sun', 'dayOfMonth_ ID', 'dayOfMonth_ TMAX', 'dayOfMonth_ TMIN', 'dayOfMonth_ AWND', 'dayOfMonth_ Total_yesterday', 'dayOfMonth_ daylight_hrs', 'dayOfMonth_ Temp (C)', 'dayOfMonth_ annual', 'weekday_ holiday', 'weekday_ Jan', 'weekday_ Feb', 'weekday_ May', 'weekday_ Aug', 'weekday_ Dec', 'weekday_ dry day', 'ID^2', 'ID AWND', 'ID daylight_hrs', 'ID Temp (C)', 'ID dry day', 'ID annual', 'ID Rl_Cold', 'PRCP TMAX', 'PRCP TMIN', 'PRCP Wed', 'PRCP Thu', 'PRCP Sat', 'PRCP Sun', 'PRCP holiday', 'PRCP Jan', 'PRCP Feb', 'PRCP Mar', 'PRCP Apr', 'PRCP May', 'PRCP Jun', 'PRCP Jul', 'PRCP Aug', 'PRCP Sep', 'PRCP Nov', 'PRCP daylight_hrs', 'PRCP Rl_Cold', 'TMAX^2', 'TMAX TMIN', 'TMAX Mar', 'TMAX Apr', 'TMAX Jul', 'TMAX Dec', 'TMAX dry day', 'TMAX Rl_Cold', 'TMAX TMIN_ln', 'TMIN AWND', 'TMIN Mar', 'TMIN Apr', 'TMIN Jun', 'TMIN Jul', 'TMIN dry day', 'AWND Total_yesterday', 'AWND Jul', 'AWND Temp (C)', 'AWND dry day', 'AWND annual', 'AWND Windchill', 'AWND TMIN_ln', 'Total_yesterday daylight_hrs', 'Total_yesterday dry day', 'Total_yesterday Rl_Cold', 'Total_yesterday TMIN_ln', 'Mon Feb', 'Mon Mar', 'Mon Apr', 'Mon Sep', 'Mon Oct', 'Mon dry day', 'Tue holiday', 'Tue Jan', 'Tue Mar', 'Tue Jul', 'Tue Aug', 'Wed holiday', 'Wed Mar', 'Wed Aug', 'Wed Sep', 'Wed Nov', 'Wed Dec', 'Wed PRCP_yest', 'Thu holiday', 'Thu Jan', 'Thu Apr', 'Thu Jun', 'Thu Jul', 'Thu Aug', 'Thu Oct', 'Thu Nov', 'Thu Dec', 'Thu PRCP_yest', 'Fri holiday', 'Fri Jan', 'Fri Feb', 'Fri Apr', 'Fri May', 'Fri Jun', 'Fri Jul', 'Fri Aug', 'Fri Sep', 'Fri Nov', 'Fri Dec', 'Sat Mar', 'Sat Apr', 'Sat May', 'Sat Jun', 'Sat Jul', 'Sat Oct', 'Sat daylight_hrs', 'Sun Apr', 'Sun May', 'Sun Aug', 'Sun Sep', 'Sun daylight_hrs', 'Sun dry day', 'holiday Jan', 'holiday May', 'holiday Jul', 'holiday Sep', 'holiday Oct', 'holiday Nov', 'holiday daylight_hrs', 'holiday PRCP_yest', 'holiday Rl_Cold', 'Jan PRCP_yest', 'Feb PRCP_yest', 'Mar daylight_hrs', 'Mar PRCP_yest', 'Apr daylight_hrs', 'Apr dry day', 'May dry day', 'May PRCP_yest', 'Jun dry day', 'Jun PRCP_yest', 'Jun Windchill', 'Jul Temp (C)', 'Jul dry day', 'Jul PRCP_yest', 'Jul Windchill', 'Jul Rl_Cold', 'Aug dry day', 'Aug PRCP_yest', 'Oct dry day', 'Nov dry day', 'Dec dry day', 'Dec PRCP_yest', 'daylight_hrs^2', 'daylight_hrs Temp (C)', 'daylight_hrs annual', 'daylight_hrs Rl_Cold', 'daylight_hrs TMIN_ln', 'Temp (C) annual', 'dry day annual', 'dry day Windchill', 'annual^2', 'annual Rl_Cold', 'annual TMIN_ln', 'Windchill Rl_Cold', 'TMIN_ln^2']\n"
          ],
          "name": "stdout"
        }
      ]
    },
    {
      "metadata": {
        "id": "k7QIGrbrNt7b",
        "colab_type": "text"
      },
      "cell_type": "markdown",
      "source": [
        "### Now we can experiment with mulitple ridge settings for selecting features. "
      ]
    },
    {
      "metadata": {
        "id": "Pku8KixHv3CF",
        "colab_type": "code",
        "colab": {
          "base_uri": "https://localhost:8080/",
          "height": 164
        },
        "outputId": "faa2e522-c3c8-4081-f1cc-334ea36bde39"
      },
      "cell_type": "code",
      "source": [
        "# Define an estimator and param_grid\n",
        "\n",
        "ridge = Ridge()\n",
        "\n",
        "param_grid = {\n",
        "    'alpha': [0.1, 0.75, 1.0, 2.1, 2.2, 2.3, 2.4, 2.5, 3.0, 4.0, 10.]\n",
        "}\n",
        "\n",
        "# Fit on the train set, with grid search cross-validation\n",
        "gs = GridSearchCV(ridge, param_grid=param_grid, cv=3, \n",
        "                  scoring='neg_mean_absolute_error', \n",
        "                  verbose=1)\n",
        "\n",
        "gs.fit(X_train_subset, y_train)\n",
        "validation_score = gs.best_score_\n",
        "print()\n",
        "print('Cross-Validation Score:', -validation_score)\n",
        "print()\n",
        "print('Best estimator:', gs.best_estimator_)\n",
        "print()"
      ],
      "execution_count": 22,
      "outputs": [
        {
          "output_type": "stream",
          "text": [
            "Fitting 3 folds for each of 11 candidates, totalling 33 fits\n"
          ],
          "name": "stdout"
        },
        {
          "output_type": "stream",
          "text": [
            "[Parallel(n_jobs=1)]: Using backend SequentialBackend with 1 concurrent workers.\n"
          ],
          "name": "stderr"
        },
        {
          "output_type": "stream",
          "text": [
            "\n",
            "Cross-Validation Score: 256.61330969002734\n",
            "\n",
            "Best estimator: Ridge(alpha=2.2, copy_X=True, fit_intercept=True, max_iter=None,\n",
            "   normalize=False, random_state=None, solver='auto', tol=0.001)\n",
            "\n"
          ],
          "name": "stdout"
        },
        {
          "output_type": "stream",
          "text": [
            "[Parallel(n_jobs=1)]: Done  33 out of  33 | elapsed:    0.5s finished\n"
          ],
          "name": "stderr"
        }
      ]
    },
    {
      "metadata": {
        "id": "NnpbyDLSwPIH",
        "colab_type": "code",
        "colab": {
          "base_uri": "https://localhost:8080/",
          "height": 49
        },
        "outputId": "198f656d-7f1d-49e1-bd4b-fa8180ef0ae4"
      },
      "cell_type": "code",
      "source": [
        "# Do the same transformations to X_test (Applying the same transformations to each set so we can check the test scores)\n",
        "X_test_polynomial = poly.transform(X_test)\n",
        "X_test_scaled = scaler.transform(X_test_polynomial)\n",
        "X_test_subset = rfe.transform(X_test_scaled)\n",
        "\n",
        "# Use the grid search's score method with X_test_subset\n",
        "train_score = gs.score(X_train_subset, y_train)\n",
        "print('Train Score:', -train_score)\n",
        "test_score = gs.score(X_test_subset, y_test)\n",
        "print('Test Score:', -test_score)"
      ],
      "execution_count": 23,
      "outputs": [
        {
          "output_type": "stream",
          "text": [
            "Train Score: 197.61173458116826\n",
            "Test Score: 356.485481175808\n"
          ],
          "name": "stdout"
        }
      ]
    },
    {
      "metadata": {
        "id": "JlcaRwNdcIWA",
        "colab_type": "code",
        "colab": {}
      },
      "cell_type": "code",
      "source": [
        ""
      ],
      "execution_count": 0,
      "outputs": []
    }
  ]
}