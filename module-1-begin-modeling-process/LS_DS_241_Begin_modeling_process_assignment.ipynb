{
  "nbformat": 4,
  "nbformat_minor": 0,
  "metadata": {
    "colab": {
      "name": "LS_DS_241_Begin_modeling_process_assignment.ipynb",
      "version": "0.3.2",
      "provenance": [],
      "include_colab_link": true
    },
    "kernelspec": {
      "name": "python3",
      "display_name": "Python 3"
    }
  },
  "cells": [
    {
      "cell_type": "markdown",
      "metadata": {
        "id": "view-in-github",
        "colab_type": "text"
      },
      "source": [
        "<a href=\"https://colab.research.google.com/github/brit228/DS-Unit-2-Sprint-4-Model-Validation/blob/master/module-1-begin-modeling-process/LS_DS_241_Begin_modeling_process_assignment.ipynb\" target=\"_parent\"><img src=\"https://colab.research.google.com/assets/colab-badge.svg\" alt=\"Open In Colab\"/></a>"
      ]
    },
    {
      "metadata": {
        "id": "D6xqpq3sCvfb",
        "colab_type": "code",
        "colab": {
          "base_uri": "https://localhost:8080/",
          "height": 187
        },
        "outputId": "c9c6a6d7-e8d1-4988-d9c3-90f32ab7cabe"
      },
      "cell_type": "code",
      "source": [
        "!pip install category_encoders"
      ],
      "execution_count": 36,
      "outputs": [
        {
          "output_type": "stream",
          "text": [
            "Requirement already satisfied: category_encoders in /usr/local/lib/python3.6/dist-packages (1.3.0)\n",
            "Requirement already satisfied: numpy>=1.11.1 in /usr/local/lib/python3.6/dist-packages (from category_encoders) (1.14.6)\n",
            "Requirement already satisfied: scipy>=0.17.0 in /usr/local/lib/python3.6/dist-packages (from category_encoders) (1.1.0)\n",
            "Requirement already satisfied: statsmodels>=0.6.1 in /usr/local/lib/python3.6/dist-packages (from category_encoders) (0.8.0)\n",
            "Requirement already satisfied: patsy>=0.4.1 in /usr/local/lib/python3.6/dist-packages (from category_encoders) (0.5.1)\n",
            "Requirement already satisfied: pandas>=0.20.1 in /usr/local/lib/python3.6/dist-packages (from category_encoders) (0.22.0)\n",
            "Requirement already satisfied: scikit-learn>=0.17.1 in /usr/local/lib/python3.6/dist-packages (from category_encoders) (0.20.2)\n",
            "Requirement already satisfied: six in /usr/local/lib/python3.6/dist-packages (from patsy>=0.4.1->category_encoders) (1.11.0)\n",
            "Requirement already satisfied: pytz>=2011k in /usr/local/lib/python3.6/dist-packages (from pandas>=0.20.1->category_encoders) (2018.9)\n",
            "Requirement already satisfied: python-dateutil>=2 in /usr/local/lib/python3.6/dist-packages (from pandas>=0.20.1->category_encoders) (2.5.3)\n"
          ],
          "name": "stdout"
        }
      ]
    },
    {
      "metadata": {
        "id": "ddbbMVk2-rxG",
        "colab_type": "code",
        "colab": {
          "base_uri": "https://localhost:8080/",
          "height": 238
        },
        "outputId": "bc704c20-b6e6-49ea-fb5d-c5f93fbd99af"
      },
      "cell_type": "code",
      "source": [
        "!wget https://archive.ics.uci.edu/ml/machine-learning-databases/00222/bank-additional.zip\n",
        "!unzip bank-additional.zip"
      ],
      "execution_count": 37,
      "outputs": [
        {
          "output_type": "stream",
          "text": [
            "--2019-01-28 20:33:42--  https://archive.ics.uci.edu/ml/machine-learning-databases/00222/bank-additional.zip\n",
            "Resolving archive.ics.uci.edu (archive.ics.uci.edu)... 128.195.10.249\n",
            "Connecting to archive.ics.uci.edu (archive.ics.uci.edu)|128.195.10.249|:443... connected.\n",
            "HTTP request sent, awaiting response... 200 OK\n",
            "Length: 444572 (434K) [application/zip]\n",
            "Saving to: ‘bank-additional.zip.2’\n",
            "\n",
            "bank-additional.zip 100%[===================>] 434.15K   555KB/s    in 0.8s    \n",
            "\n",
            "2019-01-28 20:33:43 (555 KB/s) - ‘bank-additional.zip.2’ saved [444572/444572]\n",
            "\n",
            "Archive:  bank-additional.zip\n",
            "replace bank-additional/.DS_Store? [y]es, [n]o, [A]ll, [N]one, [r]ename: N\n"
          ],
          "name": "stdout"
        }
      ]
    },
    {
      "metadata": {
        "id": "ssa319rF6SZr",
        "colab_type": "code",
        "colab": {}
      },
      "cell_type": "code",
      "source": [
        "import pandas as pd\n",
        "\n",
        "df = pd.read_csv(\"bank-additional/bank-additional-full.csv\", delimiter=\";\")\n",
        "\n",
        "y_col = \"y\"\n",
        "\n",
        "train_ratio = 0.8\n",
        "val_ratio = 0.1\n",
        "\n",
        "shuffle = True\n",
        "override_model = None\n",
        "override_params = {}\n",
        "override_scorer = None"
      ],
      "execution_count": 0,
      "outputs": []
    },
    {
      "metadata": {
        "id": "lV56RFPrDvmB",
        "colab_type": "code",
        "colab": {}
      },
      "cell_type": "code",
      "source": [
        "from sklearn.linear_model import LogisticRegression\n",
        "from sklearn.linear_model import LinearRegression\n",
        "\n",
        "from sklearn.metrics import accuracy_score\n",
        "from sklearn.metrics import r2_score\n",
        "\n",
        "model = None\n",
        "params = {}\n",
        "scorer = None\n",
        "\n",
        "if not override_model:\n",
        "  if df[y_col].dtype == 'object':\n",
        "    if len(df[y_col].astype('category').cat.categories) < 3 and df[y_col].isna().sum() == 0:\n",
        "      m = {x: i for i,x in enumerate(df[y_col].astype('category').cat.categories)}\n",
        "      n_col = \"{}:{}\".format(y_col, df[y_col].astype('category').cat.categories[-1])\n",
        "      df[n_col] = df[y_col].map(m)\n",
        "      df = df.drop(columns=[y_col], axis=1)\n",
        "      y_col = [n_col]\n",
        "\n",
        "      model = LogisticRegression\n",
        "      params = {'solver': 'lbfgs'}\n",
        "      scorer = accuracy_score\n",
        "    else:\n",
        "      dummy = pd.get_dummies(df[y_col])\n",
        "      Y = []\n",
        "      for v in dummy:\n",
        "        df[\"{}:{}\".format(y_col,v)] = dummy[v]\n",
        "        Y.append(\"{}:{}\".format(y_col,v))\n",
        "      df.drop(columns=[y_col], axis=1)\n",
        "      y_col = Y\n",
        "\n",
        "      model = LogisticRegression\n",
        "      params = {'solver': 'lbfgs', 'multi_class': 'multinomial'}\n",
        "      scorer = accuracy_score\n",
        "  else:\n",
        "    model = LinearRegression\n",
        "    params = {}\n",
        "    scorer = r2_score\n",
        "else:\n",
        "  model = override_model\n",
        "  \n",
        "if override_params != {}:\n",
        "  params = override_params\n",
        "if override_scorer != None:\n",
        "  scorer = override_scorer"
      ],
      "execution_count": 0,
      "outputs": []
    },
    {
      "metadata": {
        "id": "vfqttKD5INJQ",
        "colab_type": "code",
        "colab": {}
      },
      "cell_type": "code",
      "source": [
        "from sklearn.model_selection import train_test_split\n",
        "\n",
        "cols = [x for x in df if x not in y_col]\n",
        "\n",
        "X_train = None\n",
        "X_val = None\n",
        "X_test = None\n",
        "y_train = None\n",
        "y_val = None\n",
        "y_test = None\n",
        "\n",
        "if train_ratio < 1.0:\n",
        "  if cvs > 0:\n",
        "    X_train, X_test, y_train, y_test = train_test_split(df[cols], df[y_col], train_size=train_ratio, shuffle=shuffle)\n",
        "  elif val_ratio > 0.0:\n",
        "    X_train, X_test, y_train, y_test = train_test_split(df[cols], df[y_col], train_size=train_ratio+val_ratio, shuffle=shuffle)\n",
        "    X_train, X_val, y_train, y_val = train_test_split(X_train, y_train, train_size=train_ratio/(train_ratio+val_ratio), shuffle=shuffle)\n",
        "  else:\n",
        "    X_train, X_test, y_train, y_test = train_test_split(df[cols], df[y_col], train_size=train_ratio, shuffle=shuffle)\n",
        "    X_val = X_test.copy()\n",
        "    y_val = y_test.copy()\n",
        "else:\n",
        "  X_val = X_train.copy()\n",
        "  y_val = y_train.copy()\n",
        "  X_test = X_train.copy()\n",
        "  y_test = y_train.copy()"
      ],
      "execution_count": 0,
      "outputs": []
    },
    {
      "metadata": {
        "id": "W3qY1NGlSYub",
        "colab_type": "code",
        "colab": {}
      },
      "cell_type": "code",
      "source": [
        "import numpy as np\n",
        "\n",
        "from sklearn.metrics import mean_squared_error\n",
        "from scipy import stats\n",
        "\n",
        "def calc_p(pipeline, X, y, y_pred):\n",
        "  for i in range(y.shape[1]):\n",
        "    params = np.append(pipeline.named_steps['model'].intercept_[i],pipeline.named_steps['model'].coef_[i])\n",
        "\n",
        "    colX = pipeline.named_steps['drop'].transform(pipeline.named_steps['encode'].transform(X))\n",
        "    newX = pd.DataFrame({\"Constant\":np.ones(len(X))}).join(pd.DataFrame(pipeline.named_steps['transform'].transform(colX)))\n",
        "\n",
        "    var_b = mean_squared_error(y, y_pred)*(np.linalg.pinv(np.dot(newX.T,newX)).diagonal())\n",
        "    sd_b = np.sqrt(var_b)\n",
        "    ts_b = params/ sd_b\n",
        "\n",
        "    return pd.Series([2*(1-stats.t.cdf(np.abs(i),(len(newX)-1))) for i in ts_b], index=[\"Intercept\"]+[x for x in colX])"
      ],
      "execution_count": 0,
      "outputs": []
    },
    {
      "metadata": {
        "id": "cLCEnhM9tnLC",
        "colab_type": "code",
        "colab": {}
      },
      "cell_type": "code",
      "source": [
        "class DropFeatures(object):\n",
        "  def __init__(self, cols) :\n",
        "    self.cols = cols\n",
        "  \n",
        "  def set_params(self, cols):\n",
        "    self.cols = cols\n",
        "  \n",
        "  def transform(self, x) :\n",
        "    dat = x.copy()\n",
        "    return dat[[i for i in x if i not in self.cols]]\n",
        "\n",
        "  def fit(self, x, y=None) :\n",
        "    return self"
      ],
      "execution_count": 0,
      "outputs": []
    },
    {
      "metadata": {
        "id": "H6Hxt8zl-29R",
        "colab_type": "code",
        "colab": {
          "base_uri": "https://localhost:8080/",
          "height": 833
        },
        "outputId": "eeb193c8-40e4-4cd9-bbf9-1f9593e60f0f"
      },
      "cell_type": "code",
      "source": [
        "from sklearn.pipeline import Pipeline\n",
        "from sklearn.preprocessing import StandardScaler\n",
        "import category_encoders as ce\n",
        "\n",
        "import warnings\n",
        "warnings.filterwarnings(\"ignore\")\n",
        "\n",
        "remove_cols = []\n",
        "pipeline = Pipeline([('encode', ce.OneHotEncoder(use_cat_names=True)),\n",
        "                     ('drop', DropFeatures(remove_cols)),\n",
        "                        ('transform', StandardScaler()),\n",
        "                        ('model', model(**params))])\n",
        "\n",
        "while True:\n",
        "  pipeline.fit(X_train, y_train)\n",
        "  y_pred = pipeline.predict(X_test)\n",
        "  print(scorer(y_test, y_pred))\n",
        "  p_vals = calc_p(pipeline, X_test, y_test, pipeline.predict(X_test))\n",
        "  rem = [p_vals.index[i] for i in range(len(p_vals)) if p_vals.index[i] != \"Intercept\" and (p_vals[i] > 0.05 or p_vals.isna()[i])]\n",
        "  if len(rem) == 0:\n",
        "    break\n",
        "  remove_cols += rem\n",
        "  pipeline.set_params(drop__cols=remove_cols)\n",
        "  \n",
        "\n",
        "coef_table = None\n",
        "for i in range(len(y_col)):\n",
        "  if i == 0:\n",
        "    coef_table = p_vals.to_frame(name=\"p_{}\".format(i))\n",
        "  else:\n",
        "    coef_table = coef_table.join(p_vals.to_frame(name=\"p_{}\".format(i)))\n",
        "  coef_table = coef_table.join(pd.Series(np.append(pipeline.named_steps['model'].intercept_[i], pipeline.named_steps['model'].coef_[i]), index=[\"Intercept\"]+[x for x in pipeline.named_steps['drop'].transform(pipeline.named_steps['encode'].transform(X_test))]).to_frame(name=\"Coefficient_{}\".format(i)))\n",
        "  coef_table[\"abs(Coefficient_{})\".format(i)] = coef_table[\"Coefficient_{}\".format(i)].abs()\n",
        "coef_table = coef_table.sort_values(by=[\"p_0\", \"abs(Coefficient_0)\"], ascending=[False, True])\n",
        "with pd.option_context('display.max_rows', None, 'display.max_columns', None):\n",
        "    print(coef_table)"
      ],
      "execution_count": 283,
      "outputs": [
        {
          "output_type": "stream",
          "text": [
            "0.9099295945617868\n",
            "0.9099295945617868\n",
            "0.9106579266812334\n",
            "                                      p_0  Coefficient_0  abs(Coefficient_0)\n",
            "education_unknown            1.897324e-02       0.012391            0.012391\n",
            "job_unknown                  1.150839e-02      -0.011320            0.011320\n",
            "job_services                 9.257335e-03      -0.017410            0.017410\n",
            "job_admin.                   5.844054e-03       0.021224            0.021224\n",
            "job_unemployed               5.784888e-03       0.013769            0.013769\n",
            "job_entrepreneur             2.601733e-03      -0.016636            0.016636\n",
            "job_technician               1.752818e-03       0.022899            0.022899\n",
            "education_high.school        1.110582e-03      -0.022444            0.022444\n",
            "education_university.degree  4.761868e-05       0.028716            0.028716\n",
            "nr.employed                  1.200870e-05       0.281024            0.281024\n",
            "job_self-employed            6.174435e-06      -0.024249            0.024249\n",
            "month_dec                    5.688264e-09       0.028405            0.028405\n",
            "cons.conf.idx                1.514594e-09       0.073246            0.073246\n",
            "month_oct                    2.422740e-10       0.040520            0.040520\n",
            "month_sep                    7.095102e-11       0.046288            0.046288\n",
            "day_of_week_thu              1.741207e-11       0.035364            0.035364\n",
            "education_basic.4y           8.167689e-12      -0.041227            0.041227\n",
            "day_of_week_wed              2.220446e-16       0.042694            0.042694\n",
            "job_blue-collar              2.220446e-16      -0.067991            0.067991\n",
            "poutcome_nonexistent         0.000000e+00       0.039488            0.039488\n",
            "job_student                  0.000000e+00       0.050917            0.050917\n",
            "default_unknown              0.000000e+00      -0.053090            0.053090\n",
            "education_basic.9y           0.000000e+00      -0.053362            0.053362\n",
            "default_no                   0.000000e+00       0.054336            0.054336\n",
            "default_yes                  0.000000e+00      -0.065257            0.065257\n",
            "job_retired                  0.000000e+00       0.066615            0.066615\n",
            "day_of_week_mon              0.000000e+00      -0.074096            0.074096\n",
            "month_jul                    0.000000e+00       0.088845            0.088845\n",
            "poutcome_success             0.000000e+00       0.105522            0.105522\n",
            "campaign                     0.000000e+00      -0.106867            0.106867\n",
            "poutcome_failure             0.000000e+00      -0.106897            0.106897\n",
            "month_nov                    0.000000e+00      -0.110858            0.110858\n",
            "month_jun                    0.000000e+00      -0.121763            0.121763\n",
            "contact_telephone            0.000000e+00      -0.141618            0.141618\n",
            "contact_cellular             0.000000e+00       0.141618            0.141618\n",
            "pdays                        0.000000e+00      -0.171568            0.171568\n",
            "month_may                    0.000000e+00      -0.177481            0.177481\n",
            "month_mar                    0.000000e+00       0.231868            0.231868\n",
            "month_aug                    0.000000e+00       0.320156            0.320156\n",
            "euribor3m                    0.000000e+00       0.537741            0.537741\n",
            "cons.price.idx               0.000000e+00       1.148193            1.148193\n",
            "duration                     0.000000e+00       1.214479            1.214479\n",
            "emp.var.rate                 0.000000e+00      -2.543495            2.543495\n",
            "Intercept                    0.000000e+00      -3.094772            3.094772\n"
          ],
          "name": "stdout"
        }
      ]
    },
    {
      "metadata": {
        "id": "mLSL6O-i6XkR",
        "colab_type": "code",
        "colab": {}
      },
      "cell_type": "code",
      "source": [
        ""
      ],
      "execution_count": 0,
      "outputs": []
    }
  ]
}