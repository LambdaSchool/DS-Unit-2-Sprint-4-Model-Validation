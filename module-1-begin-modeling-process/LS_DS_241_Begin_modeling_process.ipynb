{
 "cells": [
  {
   "cell_type": "markdown",
   "metadata": {
    "colab_type": "text",
    "id": "dOdCkKKdx_Fq"
   },
   "source": [
    "_Lambda School Data Science — Model Validation_ \n",
    "\n",
    "# Begin the modeling process\n",
    "\n",
    "Objectives\n",
    "- Train/Validate/Test split\n",
    "- Cross-Validation\n",
    "- Begin with baselines"
   ]
  },
  {
   "cell_type": "markdown",
   "metadata": {
    "colab_type": "text",
    "id": "UJBBzSCmKtoC"
   },
   "source": [
    "## Why care about model validation?"
   ]
  },
  {
   "cell_type": "markdown",
   "metadata": {
    "colab_type": "text",
    "id": "GenzpPA2Z_dt"
   },
   "source": [
    "Rachel Thomas, [How (and why) to create a good validation set](https://www.fast.ai/2017/11/13/validation-sets/)\n",
    "\n",
    "> An all-too-common scenario: a seemingly impressive machine learning model is a complete failure when implemented in production. The fallout includes leaders who are now skeptical of machine learning and reluctant to try it again. How can this happen?\n",
    "\n",
    "> One of the most likely culprits for this disconnect between results in development vs results in production is a poorly chosen validation set (or even worse, no validation set at all). "
   ]
  },
  {
   "cell_type": "markdown",
   "metadata": {
    "colab_type": "text",
    "id": "YRu59wbmLMBa"
   },
   "source": [
    "Owen Zhang, [Winning Data Science Competitions](https://www.slideshare.net/OwenZhang2/tips-for-data-science-competitions/8)\n",
    "\n",
    "> Good validation is _more important_ than good models. "
   ]
  },
  {
   "cell_type": "markdown",
   "metadata": {
    "colab_type": "text",
    "id": "3dHlyVq2KNZY"
   },
   "source": [
    "James, Witten, Hastie, Tibshirani, [An Introduction to Statistical Learning](http://www-bcf.usc.edu/~gareth/ISL/), Chapter 2.2, Assessing Model Accuracy\n",
    "\n",
    "> In general, we do not really care how well the method works training on the training data. Rather, _we are interested in the accuracy of the predictions that we obtain when we apply our method to previously unseen test data._ Why is this what we care about? \n",
    "\n",
    "> Suppose that we are interested test data in developing an algorithm to predict a stock’s price based on previous stock returns. We can train the method using stock returns from the past 6 months. But we don’t really care how well our method predicts last week’s stock price. We instead care about how well it will predict tomorrow’s price or next month’s price. \n",
    "\n",
    "> On a similar note, suppose that we have clinical measurements (e.g. weight, blood pressure, height, age, family history of disease) for a number of patients, as well as information about whether each patient has diabetes. We can use these patients to train a statistical learning method to predict risk of diabetes based on clinical measurements. In practice, we want this method to accurately predict diabetes risk for _future patients_ based on their clinical measurements. We are not very interested in whether or not the method accurately predicts diabetes risk for patients used to train the model, since we already know which of those patients have diabetes."
   ]
  },
  {
   "cell_type": "markdown",
   "metadata": {
    "colab_type": "text",
    "id": "JgayVUFCyC7f"
   },
   "source": [
    "### We'll look at 4 methods of model validation\n",
    "\n",
    "- Performance estimation\n",
    "  - 2-way holdout method (**train/test split**)\n",
    "  - (Repeated) k-fold **cross-validation without independent test set** \n",
    "- Model selection (hyperparameter optimization) and performance estimation ← ***We usually want to do this***\n",
    "  - 3-way holdout method (**train/validation/test split**)\n",
    "  - (Repeated) k-fold **cross-validation with independent test set**\n",
    "  \n",
    "<img src=\"https://sebastianraschka.com/images/blog/2018/model-evaluation-selection-part4/model-eval-conclusions.jpg\" width=\"600\">\n",
    "\n",
    "Source: https://sebastianraschka.com/blog/2018/model-evaluation-selection-part4.html"
   ]
  },
  {
   "cell_type": "markdown",
   "metadata": {
    "colab_type": "text",
    "id": "X0OFS5mjRTm9"
   },
   "source": [
    "## Why begin with baselines?"
   ]
  },
  {
   "cell_type": "markdown",
   "metadata": {
    "colab_type": "text",
    "id": "O8wqAD-E3Dhf"
   },
   "source": [
    "[My mentor](https://www.linkedin.com/in/jason-sanchez-62093847/) [taught me](https://youtu.be/0GrciaGYzV0?t=40s):\n",
    "\n",
    ">***Your first goal should always, always, always be getting a generalized prediction as fast as possible.*** You shouldn't spend a lot of time trying to tune your model, trying to add features, trying to engineer features, until you've actually gotten one prediction, at least. \n",
    "\n",
    "> The reason why that's a really good thing is because then ***you'll set a benchmark*** for yourself, and you'll be able to directly see how much effort you put in translates to a better prediction. \n",
    "\n",
    "> What you'll find by working on many models: some effort you put in, actually has very little effect on how well your final model does at predicting new observations. Whereas some very easy changes actually have a lot of effect. And so you get better at allocating your time more effectively.\n",
    "\n",
    "My mentor's advice is echoed and elaborated in several sources:\n",
    "\n",
    "[Always start with a stupid model, no exceptions](https://blog.insightdatascience.com/always-start-with-a-stupid-model-no-exceptions-3a22314b9aaa)\n",
    "\n",
    "> Why start with a baseline? A baseline will take you less than 1/10th of the time, and could provide up to 90% of the results. A baseline puts a more complex model into context. Baselines are easy to deploy.\n",
    "\n",
    "[Measure Once, Cut Twice: Moving Towards Iteration in Data Science](https://blog.datarobot.com/measure-once-cut-twice-moving-towards-iteration-in-data-science)\n",
    "\n",
    "> The iterative approach in data science starts with emphasizing the importance of getting to a first model quickly, rather than starting with the variables and features. Once the first model is built, the work then steadily focuses on continual improvement.\n",
    "\n",
    "[*Data Science for Business*](https://books.google.com/books?id=4ZctAAAAQBAJ&pg=PT276), Chapter 7.3: Evaluation, Baseline Performance, and Implications for Investments in Data\n",
    "\n",
    "> *Consider carefully what would be a reasonable baseline against which to compare model performance.* This is important for the data science team in order to understand whether they indeed are improving performance, and is equally important for demonstrating to stakeholders that mining the data has added value."
   ]
  },
  {
   "cell_type": "markdown",
   "metadata": {
    "colab_type": "text",
    "id": "89PieuUx0fbN"
   },
   "source": [
    "## Baseline is an overloaded term\n",
    "\n",
    "Baseline has multiple meanings, as discussed in the links above.\n",
    "\n",
    "#### The score you'd get by guessing a single value\n",
    "\n",
    "> A baseline for classification can be the most common class in the training dataset.\n",
    "\n",
    "> A baseline for regression can be the mean of the training labels. —[Will Koehrsen](https://twitter.com/koehrsen_will/status/1088863527778111488)\n",
    "\n",
    "#### The score you'd get by guessing in a more granular way\n",
    "\n",
    "> A baseline for time-series regressions can be the value from the previous timestep.\n",
    "\n",
    "#### Fast, first models that beat guessing\n",
    "\n",
    "What my mentor was talking about.\n",
    "\n",
    "#### Complete, tuned \"simpler\" model\n",
    "\n",
    "Can be simpler mathematically and computationally. For example, Logistic Regression versus Deep Learning.\n",
    "\n",
    "Or can be simpler for the data scientist, with less work. For example, a model with less feature engineering versus a model with more feature engineering.\n",
    "\n",
    "#### Minimum performance that \"matters\"\n",
    "\n",
    "To go to production and get business value.\n",
    "\n",
    "#### Human-level performance \n",
    "\n",
    "Your goal may to be match, or nearly match, human performance, but with better speed, cost, or consistency.\n",
    "\n",
    "Or your goal may to be exceed human performance.\n"
   ]
  },
  {
   "cell_type": "markdown",
   "metadata": {
    "colab_type": "text",
    "id": "EdHSPwdZx3nI"
   },
   "source": [
    "## Weather data —  mean baseline\n",
    "\n",
    "Let's try baselines for regression.\n",
    "\n",
    "You can [get Past Weather by Zip Code from Climate.gov](https://www.climate.gov/maps-data/dataset/past-weather-zip-code-data-table). I downloaded the data for my town: Normal, Illinois."
   ]
  },
  {
   "cell_type": "code",
   "execution_count": 1,
   "metadata": {
    "colab": {
     "base_uri": "https://localhost:8080/",
     "height": 290
    },
    "colab_type": "code",
    "id": "2O3o-fTgx-93",
    "outputId": "17e32da1-7a6e-4cc6-f05e-f69048f7e282"
   },
   "outputs": [
    {
     "data": {
      "image/png": "[encoded data removed]",
      "text/plain": [
       "<Figure size 432x288 with 1 Axes>"
      ]
     },
     "metadata": {},
     "output_type": "display_data"
    }
   ],
   "source": [
    "%matplotlib inline\n",
    "import matplotlib.pyplot as plt\n",
    "import pandas as pd \n",
    "\n",
    "url = 'https://raw.githubusercontent.com/rrherr/baselines/master/weather/weather-normal-il.csv'\n",
    "weather = pd.read_csv(url, parse_dates=['DATE']).set_index('DATE')\n",
    "weather['2015':'2018'].TMAX.plot()\n",
    "plt.title('Daily high temperature in Normal, IL');"
   ]
  },
  {
   "cell_type": "markdown",
   "metadata": {
    "colab_type": "text",
    "id": "F8Z8FTwbzfol"
   },
   "source": [
    "Over the years, across the seasons, the average daily high temperature in my town is about 63 degrees."
   ]
  },
  {
   "cell_type": "code",
   "execution_count": 2,
   "metadata": {
    "colab": {
     "base_uri": "https://localhost:8080/",
     "height": 34
    },
    "colab_type": "code",
    "id": "PEKdZ7YZzbnO",
    "outputId": "70990740-e9ad-48a2-c52d-c8a1880ec16a"
   },
   "outputs": [
    {
     "data": {
      "text/plain": [
       "62.562754852389496"
      ]
     },
     "execution_count": 2,
     "metadata": {},
     "output_type": "execute_result"
    }
   ],
   "source": [
    "weather.TMAX.mean()"
   ]
  },
  {
   "cell_type": "markdown",
   "metadata": {
    "colab_type": "text",
    "id": "p5bzsFbfznUt"
   },
   "source": [
    "If I predicted that every day, the high will be 63 degrees, I'd be off by about 19 degrees on average."
   ]
  },
  {
   "cell_type": "code",
   "execution_count": 3,
   "metadata": {
    "colab": {
     "base_uri": "https://localhost:8080/",
     "height": 34
    },
    "colab_type": "code",
    "id": "rpf8ubzaziiY",
    "outputId": "e464085b-33fc-4d4c-ba60-4c92c160bc0a"
   },
   "outputs": [
    {
     "data": {
      "text/plain": [
       "18.684890040509288"
      ]
     },
     "execution_count": 3,
     "metadata": {},
     "output_type": "execute_result"
    }
   ],
   "source": [
    "from sklearn.metrics import mean_absolute_error\n",
    "predicted = [weather.TMAX.mean()] * len(weather)  \n",
    "mean_absolute_error(weather.TMAX, predicted)"
   ]
  },
  {
   "cell_type": "markdown",
   "metadata": {
    "colab_type": "text",
    "id": "sJi-_JL1zywP"
   },
   "source": [
    "But, with time series data like this, we can get a better baseline.\n",
    "\n",
    "*Data Science for Business* explains, \n",
    "\n",
    "> Weather forecasters have two simple—but not simplistic—baseline models that they compare against. ***One (persistence) predicts that the weather tomorrow is going to be whatever it was today.*** The other (climatology) predicts whatever the average historical weather has been on this day from prior years. Each model performs considerably better than random guessing, and both are so easy to compute that they make natural baselines of comparison. Any new, more complex model must beat these."
   ]
  },
  {
   "cell_type": "markdown",
   "metadata": {
    "colab_type": "text",
    "id": "VETZ_gJhz5qR"
   },
   "source": [
    "Let's predict that the weather tomorrow is going to be whatever it was today. Which is another way of saying that the weather today is going to be whatever it was yesterday.\n",
    "\n",
    "We can engineer this feature with one line of code, using the pandas [`shift`](https://pandas.pydata.org/pandas-docs/stable/generated/pandas.DataFrame.shift.html) function.\n",
    "\n",
    "This new baseline is off by less than 6 degress on average."
   ]
  },
  {
   "cell_type": "code",
   "execution_count": 4,
   "metadata": {
    "colab": {
     "base_uri": "https://localhost:8080/",
     "height": 34
    },
    "colab_type": "code",
    "id": "1DKR_LoCzp6V",
    "outputId": "b2cde72d-1e28-42e8-9fd6-3ea499050683"
   },
   "outputs": [
    {
     "data": {
      "text/plain": [
       "5.519593850670799"
      ]
     },
     "execution_count": 4,
     "metadata": {},
     "output_type": "execute_result"
    }
   ],
   "source": [
    "weather['TMAX_yesterday'] = weather.TMAX.shift(1)\n",
    "weather.dropna(inplace=True)  # Drops the first date, because it doesn't have a \"yesterday\"\n",
    "mean_absolute_error(weather.TMAX, weather.TMAX_yesterday)"
   ]
  },
  {
   "cell_type": "markdown",
   "metadata": {
    "colab_type": "text",
    "id": "FhRix-ZG36c-"
   },
   "source": [
    "## Adult Census Income — Train/Test Split — majority class baseline"
   ]
  },
  {
   "cell_type": "markdown",
   "metadata": {
    "colab_type": "text",
    "id": "fHtoULts4TBE"
   },
   "source": [
    "Load the data. It has already been split into train and test.\n",
    "\n",
    "https://archive.ics.uci.edu/ml/datasets/adult"
   ]
  },
  {
   "cell_type": "code",
   "execution_count": 5,
   "metadata": {
    "colab": {
     "base_uri": "https://localhost:8080/",
     "height": 34
    },
    "colab_type": "code",
    "id": "UZX4c6Gjx9pf",
    "outputId": "88a3ab3e-5bf4-4045-b0d7-7f1ae9d134cb"
   },
   "outputs": [
    {
     "data": {
      "text/plain": [
       "((32561, 15), (16281, 15))"
      ]
     },
     "execution_count": 5,
     "metadata": {},
     "output_type": "execute_result"
    }
   ],
   "source": [
    "names = ['age', \n",
    "         'workclass', \n",
    "         'fnlwgt', \n",
    "         'education', \n",
    "         'education-num', \n",
    "         'marital-status', \n",
    "         'occupation', \n",
    "         'relationship', \n",
    "         'race', \n",
    "         'sex', \n",
    "         'capital-gain', \n",
    "         'capital-loss', \n",
    "         'hours-per-week', \n",
    "         'native-country', \n",
    "         'income']\n",
    "\n",
    "train = pd.read_csv('https://archive.ics.uci.edu/ml/machine-learning-databases/adult/adult.data', header=None, names=names)\n",
    "test  = pd.read_csv('https://archive.ics.uci.edu/ml/machine-learning-databases/adult/adult.test', header=None, names=names, skiprows=[0])\n",
    "\n",
    "train.shape, test.shape"
   ]
  },
  {
   "cell_type": "markdown",
   "metadata": {
    "colab_type": "text",
    "id": "hZqdQTlb4ybZ"
   },
   "source": [
    "Assign to X and y"
   ]
  },
  {
   "cell_type": "code",
   "execution_count": 6,
   "metadata": {
    "colab": {
     "base_uri": "https://localhost:8080/",
     "height": 34
    },
    "colab_type": "code",
    "id": "mQVulKmi4pC0",
    "outputId": "c767a215-c224-4f0d-8f0a-149500de2ded"
   },
   "outputs": [
    {
     "data": {
      "text/plain": [
       "((32561, 14), (16281, 14), (32561,), (16281,))"
      ]
     },
     "execution_count": 6,
     "metadata": {},
     "output_type": "execute_result"
    }
   ],
   "source": [
    "X_train = train.drop(columns='income')\n",
    "y_train = train.income == ' >50K'\n",
    "\n",
    "X_test  = test.drop(columns='income')\n",
    "y_test  = test.income  == ' >50K.'\n",
    "\n",
    "X_train.shape, X_test.shape, y_train.shape, y_test.shape"
   ]
  },
  {
   "cell_type": "markdown",
   "metadata": {
    "colab_type": "text",
    "id": "NQ2Ibkax5DOw"
   },
   "source": [
    "Majority class baseline"
   ]
  },
  {
   "cell_type": "code",
   "execution_count": 22,
   "metadata": {
    "colab": {},
    "colab_type": "code",
    "id": "GqfFfKEm42b5"
   },
   "outputs": [],
   "source": [
    "import numpy as np\n",
    "majority_class = y_train.mode()[0]\n",
    "y_pred = np.full(shape=y_test.shape, fill_value= majority_class)"
   ]
  },
  {
   "cell_type": "markdown",
   "metadata": {
    "colab_type": "text",
    "id": "KNMUHV3W5W5V"
   },
   "source": [
    "`y_pred` has the same shape as `y_test`"
   ]
  },
  {
   "cell_type": "code",
   "execution_count": 23,
   "metadata": {
    "colab": {},
    "colab_type": "code",
    "id": "A6mIx4PY5Qeo"
   },
   "outputs": [
    {
     "data": {
      "text/plain": [
       "((16281,), (16281,))"
      ]
     },
     "execution_count": 23,
     "metadata": {},
     "output_type": "execute_result"
    }
   ],
   "source": [
    "# TODO\n",
    "y_pred.shape, y_test.shape"
   ]
  },
  {
   "cell_type": "markdown",
   "metadata": {
    "colab_type": "text",
    "id": "mWG0oTHD5eBw"
   },
   "source": [
    "all predictions are the majority class"
   ]
  },
  {
   "cell_type": "code",
   "execution_count": 24,
   "metadata": {
    "colab": {},
    "colab_type": "code",
    "id": "Q3IIjxGt5WVZ"
   },
   "outputs": [
    {
     "data": {
      "text/plain": [
       "True"
      ]
     },
     "execution_count": 24,
     "metadata": {},
     "output_type": "execute_result"
    }
   ],
   "source": [
    "# TODO\n",
    "all(y_pred == majority_class)"
   ]
  },
  {
   "cell_type": "markdown",
   "metadata": {
    "colab_type": "text",
    "id": "tUsgtt5T5qjR"
   },
   "source": [
    "Baseline accuracy is __% by guessing the majority class for every prediction"
   ]
  },
  {
   "cell_type": "code",
   "execution_count": 25,
   "metadata": {
    "colab": {},
    "colab_type": "code",
    "id": "LGm7MelQ5c8w"
   },
   "outputs": [
    {
     "data": {
      "text/plain": [
       "0.7637737239727289"
      ]
     },
     "execution_count": 25,
     "metadata": {},
     "output_type": "execute_result"
    }
   ],
   "source": [
    "# TODO\n",
    "from sklearn.metrics import accuracy_score\n",
    "accuracy_score(y_test, y_pred)"
   ]
  },
  {
   "cell_type": "markdown",
   "metadata": {
    "colab_type": "text",
    "id": "Crq-dk5u57o6"
   },
   "source": [
    "This makes sense, because the majority class occurs __% of the time in the test dataset"
   ]
  },
  {
   "cell_type": "code",
   "execution_count": 11,
   "metadata": {
    "colab": {},
    "colab_type": "code",
    "id": "0FJBFVUE5r4q"
   },
   "outputs": [],
   "source": [
    "# TODO"
   ]
  },
  {
   "cell_type": "markdown",
   "metadata": {
    "colab_type": "text",
    "id": "886PbzRJ6USc"
   },
   "source": [
    "## Adult Census Income — Train/Test Split — fast first models"
   ]
  },
  {
   "cell_type": "markdown",
   "metadata": {
    "colab_type": "text",
    "id": "TgsO1op66j3b"
   },
   "source": [
    "Scikit-learn expects no nulls..."
   ]
  },
  {
   "cell_type": "code",
   "execution_count": 26,
   "metadata": {
    "colab": {},
    "colab_type": "code",
    "id": "cyfwVBt354U1"
   },
   "outputs": [
    {
     "data": {
      "text/plain": [
       "True"
      ]
     },
     "execution_count": 26,
     "metadata": {},
     "output_type": "execute_result"
    }
   ],
   "source": [
    "def no_nulls(df):\n",
    "    return not any(df.isnull().sum())\n",
    "\n",
    "no_nulls(X_train)"
   ]
  },
  {
   "cell_type": "markdown",
   "metadata": {
    "colab_type": "text",
    "id": "tbVhqsUP622c"
   },
   "source": [
    "Scikit-learn also expects all numeric features. (No strings / \"object\" datatypes.) ..."
   ]
  },
  {
   "cell_type": "code",
   "execution_count": 27,
   "metadata": {
    "colab": {},
    "colab_type": "code",
    "id": "VqOoYwO16vmu"
   },
   "outputs": [
    {
     "data": {
      "text/plain": [
       "False"
      ]
     },
     "execution_count": 27,
     "metadata": {},
     "output_type": "execute_result"
    }
   ],
   "source": [
    "def all_numeric(df):\n",
    "    from pandas.api.types import is_numeric_dtype\n",
    "    return all(is_numeric_dtype(df[col]) for col in df)\n",
    "\n",
    "all_numeric(X_train)"
   ]
  },
  {
   "cell_type": "markdown",
   "metadata": {
    "colab_type": "text",
    "id": "16s97jma7ULN"
   },
   "source": [
    "Instead of encoding nonnumeric features, we can just exclude them from the training data."
   ]
  },
  {
   "cell_type": "code",
   "execution_count": 29,
   "metadata": {
    "colab": {},
    "colab_type": "code",
    "id": "V34xVYqD7Ayb"
   },
   "outputs": [
    {
     "data": {
      "text/plain": [
       "True"
      ]
     },
     "execution_count": 29,
     "metadata": {},
     "output_type": "execute_result"
    }
   ],
   "source": [
    "# TODO\n",
    "X_train_numeric = X_train.select_dtypes(np.number)\n",
    "all_numeric(X_train_numeric)"
   ]
  },
  {
   "cell_type": "markdown",
   "metadata": {
    "colab_type": "text",
    "id": "0KIrZHZm8pXn"
   },
   "source": [
    "We'll do the same with the test data."
   ]
  },
  {
   "cell_type": "code",
   "execution_count": 32,
   "metadata": {
    "colab": {},
    "colab_type": "code",
    "id": "RehsWU5t8na0"
   },
   "outputs": [
    {
     "ename": "NameError",
     "evalue": "name 'X_test_numeric' is not defined",
     "output_type": "error",
     "traceback": [
      "\u001b[1;31m---------------------------------------------------------------------------\u001b[0m",
      "\u001b[1;31mNameError\u001b[0m                                 Traceback (most recent call last)",
      "\u001b[1;32m<ipython-input-32-beb7dc6f9447>\u001b[0m in \u001b[0;36m<module>\u001b[1;34m()\u001b[0m\n\u001b[0;32m      3\u001b[0m \u001b[0mmodel\u001b[0m \u001b[1;33m=\u001b[0m \u001b[0mLogisticRegression\u001b[0m\u001b[1;33m(\u001b[0m\u001b[1;33m)\u001b[0m\u001b[1;33m\u001b[0m\u001b[0m\n\u001b[0;32m      4\u001b[0m \u001b[0mmodel\u001b[0m\u001b[1;33m.\u001b[0m\u001b[0mfit\u001b[0m\u001b[1;33m(\u001b[0m\u001b[0mX_train_numeric\u001b[0m\u001b[1;33m,\u001b[0m\u001b[0my_train\u001b[0m\u001b[1;33m)\u001b[0m\u001b[1;33m\u001b[0m\u001b[0m\n\u001b[1;32m----> 5\u001b[1;33m \u001b[0my_pred\u001b[0m \u001b[1;33m=\u001b[0m \u001b[0mmodel\u001b[0m\u001b[1;33m.\u001b[0m\u001b[0mpredict\u001b[0m\u001b[1;33m(\u001b[0m\u001b[0mX_test_numeric\u001b[0m\u001b[1;33m)\u001b[0m\u001b[1;33m\u001b[0m\u001b[0m\n\u001b[0m\u001b[0;32m      6\u001b[0m \u001b[0maccuracy_score\u001b[0m\u001b[1;33m(\u001b[0m\u001b[0my_test\u001b[0m\u001b[1;33m,\u001b[0m \u001b[0my_pred\u001b[0m\u001b[1;33m)\u001b[0m\u001b[1;33m\u001b[0m\u001b[0m\n",
      "\u001b[1;31mNameError\u001b[0m: name 'X_test_numeric' is not defined"
     ]
    }
   ],
   "source": [
    "# TODO\n",
    "from sklearn.linear_model import LogisticRegression\n",
    "model = LogisticRegression()\n",
    "model.fit(X_train_numeric,y_train)\n",
    "y_pred = model.predict(X_test_numeric)\n",
    "accuracy_score(y_test, y_pred)"
   ]
  },
  {
   "cell_type": "markdown",
   "metadata": {
    "colab_type": "text",
    "id": "gEmZztuZ71zC"
   },
   "source": [
    "Then fit a Logistic Regression on the training data (only the numeric features).\n",
    "\n",
    "Test accuracy improves to ___"
   ]
  },
  {
   "cell_type": "code",
   "execution_count": 16,
   "metadata": {
    "colab": {},
    "colab_type": "code",
    "id": "nlSO3C9t7ogI"
   },
   "outputs": [],
   "source": [
    "# TODO"
   ]
  },
  {
   "cell_type": "markdown",
   "metadata": {
    "colab_type": "text",
    "id": "BKKgC2XJ8LfH"
   },
   "source": [
    "Let's try scaling our data first. \n",
    "\n",
    "Test accuracy improves to ___"
   ]
  },
  {
   "cell_type": "code",
   "execution_count": 17,
   "metadata": {
    "colab": {},
    "colab_type": "code",
    "id": "KkYRW6Jm77Y0"
   },
   "outputs": [],
   "source": [
    "# TODO"
   ]
  },
  {
   "cell_type": "markdown",
   "metadata": {
    "colab_type": "text",
    "id": "gGsNNA9k9BMr"
   },
   "source": [
    "One-hot-encode all the categorical featues."
   ]
  },
  {
   "cell_type": "markdown",
   "metadata": {
    "colab_type": "text",
    "id": "wrIvN4X89dSJ"
   },
   "source": [
    "Install the Category Encoder library \n",
    "\n",
    "https://github.com/scikit-learn-contrib/categorical-encoding"
   ]
  },
  {
   "cell_type": "code",
   "execution_count": 18,
   "metadata": {
    "colab": {},
    "colab_type": "code",
    "id": "gNJr5XcG8NpA"
   },
   "outputs": [
    {
     "name": "stdout",
     "output_type": "stream",
     "text": [
      "Collecting category_encoders\n",
      "  Downloading https://files.pythonhosted.org/packages/f7/d3/82a4b85a87ece114f6d0139d643580c726efa45fa4db3b81aed38c0156c5/category_encoders-1.3.0-py2.py3-none-any.whl (61kB)\n",
      "Requirement already satisfied: scipy>=0.17.0 in c:\\users\\cwcol\\anaconda3\\lib\\site-packages (from category_encoders) (1.1.0)\n",
      "Requirement already satisfied: scikit-learn>=0.17.1 in c:\\users\\cwcol\\anaconda3\\lib\\site-packages (from category_encoders) (0.19.1)\n",
      "Requirement already satisfied: statsmodels>=0.6.1 in c:\\users\\cwcol\\anaconda3\\lib\\site-packages (from category_encoders) (0.9.0)\n",
      "Requirement already satisfied: patsy>=0.4.1 in c:\\users\\cwcol\\anaconda3\\lib\\site-packages (from category_encoders) (0.5.0)\n",
      "Requirement already satisfied: numpy>=1.11.1 in c:\\users\\cwcol\\anaconda3\\lib\\site-packages (from category_encoders) (1.14.3)\n",
      "Requirement already satisfied: pandas>=0.20.1 in c:\\users\\cwcol\\anaconda3\\lib\\site-packages (from category_encoders) (0.23.0)\n",
      "Requirement already satisfied: six in c:\\users\\cwcol\\anaconda3\\lib\\site-packages (from patsy>=0.4.1->category_encoders) (1.11.0)\n",
      "Requirement already satisfied: pytz>=2011k in c:\\users\\cwcol\\anaconda3\\lib\\site-packages (from pandas>=0.20.1->category_encoders) (2018.4)\n",
      "Requirement already satisfied: python-dateutil>=2.5.0 in c:\\users\\cwcol\\anaconda3\\lib\\site-packages (from pandas>=0.20.1->category_encoders) (2.7.3)\n",
      "Installing collected packages: category-encoders\n",
      "Successfully installed category-encoders-1.3.0\n"
     ]
    }
   ],
   "source": [
    "!pip install category_encoders"
   ]
  },
  {
   "cell_type": "code",
   "execution_count": 19,
   "metadata": {
    "colab": {},
    "colab_type": "code",
    "id": "5tpuEpDa9YFr"
   },
   "outputs": [],
   "source": [
    "import category_encoders as ce"
   ]
  },
  {
   "cell_type": "markdown",
   "metadata": {
    "colab_type": "text",
    "id": "0LGitjUH9zFh"
   },
   "source": [
    "Add the library's OneHotEncoder to a pipeline.\n",
    "\n",
    "Before, we fit on `X_train_numeric` and predict on `X_test_numeric`.\n",
    "\n",
    "Now, we fit on  `X_train` and predict on `X_test` (the original dataframes which include categorical columns)\n",
    "\n",
    " Test accuracy improves to ___"
   ]
  },
  {
   "cell_type": "code",
   "execution_count": 20,
   "metadata": {
    "colab": {},
    "colab_type": "code",
    "id": "s-WbXKo_9caL"
   },
   "outputs": [],
   "source": [
    "# TODO"
   ]
  },
  {
   "cell_type": "markdown",
   "metadata": {
    "colab_type": "text",
    "id": "uljTyg29_QUd"
   },
   "source": [
    "Visualize coefficients"
   ]
  },
  {
   "cell_type": "code",
   "execution_count": 21,
   "metadata": {
    "colab": {},
    "colab_type": "code",
    "id": "ExAx_96L-FPX"
   },
   "outputs": [
    {
     "ename": "NameError",
     "evalue": "name 'pipeline' is not defined",
     "output_type": "error",
     "traceback": [
      "\u001b[1;31m---------------------------------------------------------------------------\u001b[0m",
      "\u001b[1;31mNameError\u001b[0m                                 Traceback (most recent call last)",
      "\u001b[1;32m<ipython-input-21-e5c3004a8a5a>\u001b[0m in \u001b[0;36m<module>\u001b[1;34m()\u001b[0m\n\u001b[0;32m      2\u001b[0m \u001b[0mplt\u001b[0m\u001b[1;33m.\u001b[0m\u001b[0mtitle\u001b[0m\u001b[1;33m(\u001b[0m\u001b[1;34m'Coefficients'\u001b[0m\u001b[1;33m)\u001b[0m\u001b[1;33m\u001b[0m\u001b[0m\n\u001b[0;32m      3\u001b[0m \u001b[1;33m\u001b[0m\u001b[0m\n\u001b[1;32m----> 4\u001b[1;33m \u001b[0mcoefficients\u001b[0m \u001b[1;33m=\u001b[0m \u001b[0mpipeline\u001b[0m\u001b[1;33m.\u001b[0m\u001b[0mnamed_steps\u001b[0m\u001b[1;33m[\u001b[0m\u001b[1;34m'logisticregression'\u001b[0m\u001b[1;33m]\u001b[0m\u001b[1;33m.\u001b[0m\u001b[0mcoef_\u001b[0m\u001b[1;33m[\u001b[0m\u001b[1;36m0\u001b[0m\u001b[1;33m]\u001b[0m\u001b[1;33m\u001b[0m\u001b[0m\n\u001b[0m\u001b[0;32m      5\u001b[0m \u001b[0mfeature_names\u001b[0m \u001b[1;33m=\u001b[0m \u001b[0mpipeline\u001b[0m\u001b[1;33m.\u001b[0m\u001b[0mnamed_steps\u001b[0m\u001b[1;33m[\u001b[0m\u001b[1;34m'onehotencoder'\u001b[0m\u001b[1;33m]\u001b[0m\u001b[1;33m.\u001b[0m\u001b[0mtransform\u001b[0m\u001b[1;33m(\u001b[0m\u001b[0mX_train\u001b[0m\u001b[1;33m)\u001b[0m\u001b[1;33m.\u001b[0m\u001b[0mcolumns\u001b[0m\u001b[1;33m\u001b[0m\u001b[0m\n\u001b[0;32m      6\u001b[0m \u001b[0mpd\u001b[0m\u001b[1;33m.\u001b[0m\u001b[0mSeries\u001b[0m\u001b[1;33m(\u001b[0m\u001b[0mcoefficients\u001b[0m\u001b[1;33m,\u001b[0m \u001b[0mfeature_names\u001b[0m\u001b[1;33m)\u001b[0m\u001b[1;33m.\u001b[0m\u001b[0msort_values\u001b[0m\u001b[1;33m(\u001b[0m\u001b[1;33m)\u001b[0m\u001b[1;33m.\u001b[0m\u001b[0mplot\u001b[0m\u001b[1;33m.\u001b[0m\u001b[0mbarh\u001b[0m\u001b[1;33m(\u001b[0m\u001b[0mcolor\u001b[0m\u001b[1;33m=\u001b[0m\u001b[1;34m'gray'\u001b[0m\u001b[1;33m)\u001b[0m\u001b[1;33m;\u001b[0m\u001b[1;33m\u001b[0m\u001b[0m\n",
      "\u001b[1;31mNameError\u001b[0m: name 'pipeline' is not defined"
     ]
    },
    {
     "data": {
      "image/png": "[encoded data removed]",
      "text/plain": [
       "<Figure size 720x2160 with 1 Axes>"
      ]
     },
     "metadata": {},
     "output_type": "display_data"
    }
   ],
   "source": [
    "plt.figure(figsize=(10,30))\n",
    "plt.title('Coefficients')\n",
    "\n",
    "coefficients = pipeline.named_steps['logisticregression'].coef_[0]\n",
    "feature_names = pipeline.named_steps['onehotencoder'].transform(X_train).columns\n",
    "pd.Series(coefficients, feature_names).sort_values().plot.barh(color='gray');"
   ]
  },
  {
   "cell_type": "markdown",
   "metadata": {
    "colab_type": "text",
    "id": "tlFfn7Em_oag"
   },
   "source": [
    "## Adult Census Income — Cross Validation with independent test set — fast first models"
   ]
  },
  {
   "cell_type": "markdown",
   "metadata": {
    "colab_type": "text",
    "id": "4SGmGHzsD4Jc"
   },
   "source": [
    "`cross_val_score(pipeline, X_train, y_train, cv=10)` repeats this process 10 times:\n",
    "- Use 9/10 of the training data to fit the model pipeline\n",
    "- Use 1/10 of the training data to predict and score the model pipeline\n",
    "\n",
    "The test data is not used here — it remains independent, held out."
   ]
  },
  {
   "cell_type": "code",
   "execution_count": null,
   "metadata": {
    "colab": {},
    "colab_type": "code",
    "id": "P5vYr738_Ujw"
   },
   "outputs": [],
   "source": [
    "# TODO"
   ]
  },
  {
   "cell_type": "markdown",
   "metadata": {
    "colab_type": "text",
    "id": "QMsxJIT4Bz7j"
   },
   "source": [
    "`cross_val_score(cv=10)` returns 10 scores"
   ]
  },
  {
   "cell_type": "code",
   "execution_count": null,
   "metadata": {
    "colab": {},
    "colab_type": "code",
    "id": "qPMbMk2_Am4y"
   },
   "outputs": [],
   "source": [
    "# TODO"
   ]
  },
  {
   "cell_type": "markdown",
   "metadata": {
    "colab_type": "text",
    "id": "ATPvQ3CoBAEm"
   },
   "source": [
    "<img src=\"https://sebastianraschka.com/images/blog/2016/model-evaluation-selection-part3/loocv.png\" width=\"400\">\n",
    "\n",
    "Source: https://sebastianraschka.com/blog/2016/model-evaluation-selection-part3.html"
   ]
  },
  {
   "cell_type": "markdown",
   "metadata": {
    "colab_type": "text",
    "id": "2V7LTdNkBuCw"
   },
   "source": [
    "The scores have low variance."
   ]
  },
  {
   "cell_type": "code",
   "execution_count": null,
   "metadata": {
    "colab": {},
    "colab_type": "code",
    "id": "r52ICJ6OA66W"
   },
   "outputs": [],
   "source": [
    "# TODO"
   ]
  },
  {
   "cell_type": "markdown",
   "metadata": {
    "colab_type": "text",
    "id": "PCEEVP0wB9F3"
   },
   "source": [
    "<img src=\"https://sebastianraschka.com/images/blog/2016/model-evaluation-selection-part2/visual_bias_variance.png\" width=\"400\">\n",
    "\n",
    "Source: https://sebastianraschka.com/blog/2016/model-evaluation-selection-part2.html"
   ]
  },
  {
   "cell_type": "markdown",
   "metadata": {
    "colab_type": "text",
    "id": "RJWSU31EF-gY"
   },
   "source": [
    "## Adult Census Income — Train/Validation/Test split — fast first models"
   ]
  },
  {
   "cell_type": "markdown",
   "metadata": {
    "colab_type": "text",
    "id": "4_95UcNHGL0H"
   },
   "source": [
    "How to get from a two-way split ..."
   ]
  },
  {
   "cell_type": "code",
   "execution_count": null,
   "metadata": {
    "colab": {},
    "colab_type": "code",
    "id": "oKJPJ9YNCADY"
   },
   "outputs": [],
   "source": [
    "X_train.shape, X_test.shape, y_train.shape, y_test.shape"
   ]
  },
  {
   "cell_type": "markdown",
   "metadata": {
    "colab_type": "text",
    "id": "GIYe9n1CGRTq"
   },
   "source": [
    "... to a three-way split?\n",
    "\n",
    "Can use the `sklearn.model_selection.train_test_split` function to split the training data into training and validation data."
   ]
  },
  {
   "cell_type": "code",
   "execution_count": null,
   "metadata": {
    "colab": {},
    "colab_type": "code",
    "id": "xj0gOpt3GKaB"
   },
   "outputs": [],
   "source": [
    "from sklearn.model_selection import train_test_split\n",
    "\n",
    "X_train, X_val, y_train, y_val = train_test_split(X_train, y_train)"
   ]
  },
  {
   "cell_type": "code",
   "execution_count": null,
   "metadata": {
    "colab": {},
    "colab_type": "code",
    "id": "_bVXKAMaHQwu"
   },
   "outputs": [],
   "source": [
    "X_train.shape, X_val.shape, X_test.shape, y_train.shape, y_val.shape, y_test.shape"
   ]
  },
  {
   "cell_type": "markdown",
   "metadata": {
    "colab_type": "text",
    "id": "xwP-E21FncyL"
   },
   "source": [
    "Fit on the training set.\n",
    "\n",
    "Predict and score with the validation set.\n",
    "\n",
    "Do not use the test set."
   ]
  },
  {
   "cell_type": "code",
   "execution_count": null,
   "metadata": {
    "colab": {},
    "colab_type": "code",
    "id": "PCYdaXn_nDUq"
   },
   "outputs": [],
   "source": [
    "pipeline.fit(X_train, y_train)\n",
    "y_pred = pipeline.predict(X_val)\n",
    "accuracy_score(y_val, y_pred)"
   ]
  },
  {
   "cell_type": "markdown",
   "metadata": {
    "colab_type": "text",
    "id": "qWesgBNF1lqi"
   },
   "source": [
    "## What to do with the test set?\n",
    "\n",
    "Hold it out. Keep it in a \"vault.\" Don't touch it until you're done with your models. "
   ]
  },
  {
   "cell_type": "markdown",
   "metadata": {
    "colab_type": "text",
    "id": "X4-zR44iJrS0"
   },
   "source": [
    "Here's one way to save your test set for later, with the feather file format.\n",
    "\n",
    "https://pandas.pydata.org/pandas-docs/stable/user_guide/io.html#io-feather"
   ]
  },
  {
   "cell_type": "code",
   "execution_count": null,
   "metadata": {
    "colab": {},
    "colab_type": "code",
    "id": "Rdcr60ytnQqb"
   },
   "outputs": [],
   "source": [
    "!pip install -U feather-format"
   ]
  },
  {
   "cell_type": "code",
   "execution_count": null,
   "metadata": {
    "colab": {},
    "colab_type": "code",
    "id": "U6OT4MKAJy4E"
   },
   "outputs": [],
   "source": [
    "X_test.reset_index(drop=True).to_feather('X_test.feather')\n",
    "pd.DataFrame(y_test).reset_index(drop=True).to_feather('y_test.feather')"
   ]
  },
  {
   "cell_type": "markdown",
   "metadata": {
    "colab_type": "text",
    "id": "-vqa0dYPJ5Zs"
   },
   "source": [
    "You can save the files from Google Colab to your local machine"
   ]
  },
  {
   "cell_type": "code",
   "execution_count": null,
   "metadata": {
    "colab": {},
    "colab_type": "code",
    "id": "_sNBr8djJ3hO"
   },
   "outputs": [],
   "source": [
    "from google.colab import files\n",
    "files.download('X_test.feather')\n",
    "files.download('y_test.feather')"
   ]
  },
  {
   "cell_type": "markdown",
   "metadata": {
    "colab_type": "text",
    "id": "DanimdzNJ-Vd"
   },
   "source": [
    "You can delete the variables from your notebook's runtime"
   ]
  },
  {
   "cell_type": "code",
   "execution_count": null,
   "metadata": {
    "colab": {},
    "colab_type": "code",
    "id": "24YTaftEKBeP"
   },
   "outputs": [],
   "source": [
    "del X_test, y_test"
   ]
  },
  {
   "cell_type": "markdown",
   "metadata": {
    "colab_type": "text",
    "id": "xSXSLYtmJWzN"
   },
   "source": [
    "## Why hold out an independent test set?"
   ]
  },
  {
   "cell_type": "markdown",
   "metadata": {
    "colab_type": "text",
    "id": "yTQB9VIaI3yu"
   },
   "source": [
    "Owen Zhang, [Winning Data Science Competitions](https://www.slideshare.net/OwenZhang2/tips-for-data-science-competitions)\n",
    "\n",
    "- There are many ways to overfit. Beware of \"multiple comparison fallacy.\" There is a cost in \"peeking at the answer.\"\n",
    "- Good validation is _more important_ than good models. Simple training/validation split is _not_ enough. When you looked at your validation result for the Nth time, you are training models on it.\n",
    "- If possible, have \"holdout\" dataset that you do not touch at all during model build process. This includes feature extraction, etc.\n",
    "- What if holdout result is bad? Be brave and scrap the project."
   ]
  },
  {
   "cell_type": "markdown",
   "metadata": {
    "colab_type": "text",
    "id": "YR1WLnpHJQ86"
   },
   "source": [
    "Hastie, Tibshirani, and Friedman, [The Elements of Statistical Learning](http://statweb.stanford.edu/~tibs/ElemStatLearn/), Chapter 7: Model Assessment and Selection\n",
    "\n",
    "> If we are in a data-rich situation, the best approach is to randomly divide the dataset into three parts: a training set, a validation set, and a test set. The training set is used to fit the models; the validation set is used to estimate prediction error for model selection; the test set is used for assessment of the generalization error of the final chosen model. Ideally, the test set should be kept in a \"vault,\" and be brought out only at the end of the data analysis. Suppose instead that we use the test-set repeatedly, choosing the model with the smallest test-set error. Then the test set error of the final chosen model will underestimate the true test error, sometimes substantially."
   ]
  },
  {
   "cell_type": "markdown",
   "metadata": {
    "colab_type": "text",
    "id": "NZ2D0fiapf2X"
   },
   "source": [
    "Andreas Mueller and Sarah Guido, [Introduction to Machine Learning with Python](https://books.google.com/books?id=1-4lDQAAQBAJ&pg=PA270)\n",
    "\n",
    "> The distinction between the training set, validation set, and test set is fundamentally important to applying machine learning methods in practice. Any choices made based on the test set accuracy \"leak\" information from the test set into the model. Therefore, it is important to keep a separate test set, which is only used for the final evaluation. It is good practice to do all exploratory analysis and model selection using the combination of a training and a validation set, and reserve the test set for a final evaluation - this is even true for exploratory visualization. Strictly speaking, evaluating more than one model on the test set and choosing the better of the two will result in an overly optimistic estimate of how accurate the model is."
   ]
  },
  {
   "cell_type": "markdown",
   "metadata": {
    "colab_type": "text",
    "id": "v5-2adVxpCBx"
   },
   "source": [
    "Hadley Wickham, [R for Data Science](https://r4ds.had.co.nz/model-intro.html#hypothesis-generation-vs.hypothesis-confirmation)\n",
    "\n",
    "> There is a pair of ideas that you must understand in order to do inference correctly:\n",
    "\n",
    "> 1. Each observation can either be used for exploration or confirmation, not both.\n",
    "\n",
    "> 2. You can use an observation as many times as you like for exploration, but you can only use it once for confirmation. As soon as you use an observation twice, you’ve switched from confirmation to exploration.\n",
    "\n",
    "> This is necessary because to confirm a hypothesis you must use data independent of the data that you used to generate the hypothesis. Otherwise you will be over optimistic. There is absolutely nothing wrong with exploration, but you should never sell an exploratory analysis as a confirmatory analysis because it is fundamentally misleading.\n",
    "\n",
    "> If you are serious about doing an confirmatory analysis, one approach is to split your data into three pieces before you begin the analysis."
   ]
  },
  {
   "cell_type": "markdown",
   "metadata": {
    "colab_type": "text",
    "id": "ZSZBWmkMMbJR"
   },
   "source": [
    "## Should you shuffle?\n",
    "\n",
    "Sometimes yes, sometimes no. Experts may seem to give conflicting advice! Partly, that perception is true. Partly, the right choices depend on your data and your goals.\n",
    "\n",
    "[Hastie, Tibshirani, and Friedman](http://statweb.stanford.edu/~tibs/ElemStatLearn/) write,\n",
    "> randomly divide the dataset into three parts: a training set, a validation set, and a test set. \n",
    "\n",
    "But [Rachel Thomas](\n",
    "https://www.fast.ai/2017/11/13/validation-sets/) asks, \"When is a random subset not good enough?\" and gives many good examples.\n",
    "> If your data is a time series, choosing a random subset of the data will be both too easy (you can look at the data both before and after the dates your are trying to predict) and not representative of most business use cases (where you are using historical data to build a model for use in the future).\n",
    "\n",
    "> In the Kaggle distracted driver competition, the independent data are pictures of drivers at the wheel of a car, and the dependent variable is a category such as texting, eating, or safely looking ahead. If you were the insurance company building a model from this data, note that you would be most interested in how the model performs on drivers you haven’t seen before (since you would likely have training data only for a small group of people). \n",
    "\n",
    "> A similar dynamic was at work in the Kaggle fisheries competition to identify the species of fish caught by fishing boats in order to reduce illegal fishing of endangered populations. The test set consisted of boats that didn’t appear in the training data. This means that you’d want your validation set to include boats that are not in the training set.\n",
    "\n",
    "\n",
    "\n",
    "\n",
    "[Owen Zhang](https://www.slideshare.net/OwenZhang2/tips-for-data-science-competitions/10) recommends using your most recent data for your hold out test set, instead of choosing your test set with random shuffling. But he says you are free to use random splits to train and tune models.\n",
    "\n",
    "> Make validation dataset as realistic as possible. Usually this means \"out-of-time\" validation. You are free to use \"in-time\" random split to build models, tune parameters, etc. But hold out data should be out-of-time.\n",
    "\n",
    "Note that Owen Zhang's slide could be confusing, because of ambiguous terminology:\n",
    "- What he calls \"validation dataset\" and \"hold out data\" is what we're calling \"test set.\"\n",
    "- He also says \"cross-validation\" is an \"exception to the rule\" to use \"when data is extremely small.\" There he is talking about \"Cross-validation _without_ independent test set\", _not_ \"Cross-validation _with_ independent test set.\""
   ]
  },
  {
   "cell_type": "markdown",
   "metadata": {
    "colab_type": "text",
    "id": "ipwGmpd7Kk94"
   },
   "source": [
    "**Sometimes you need to shuffle, like in this next example:**"
   ]
  },
  {
   "cell_type": "markdown",
   "metadata": {
    "colab_type": "text",
    "id": "9Doto5c61sNj"
   },
   "source": [
    "## Iris flowers — Train/Validation/Test split?"
   ]
  },
  {
   "cell_type": "markdown",
   "metadata": {
    "colab_type": "text",
    "id": "ow3Ev3JqK0cj"
   },
   "source": [
    "Load the Iris dataset"
   ]
  },
  {
   "cell_type": "code",
   "execution_count": null,
   "metadata": {
    "colab": {},
    "colab_type": "code",
    "id": "ShfEoOxNKjV9"
   },
   "outputs": [],
   "source": [
    "from sklearn.datasets import load_iris\n",
    "iris = load_iris()\n",
    "X = iris.data\n",
    "y = iris.target"
   ]
  },
  {
   "cell_type": "markdown",
   "metadata": {
    "colab_type": "text",
    "id": "Obd9wa7iK-ID"
   },
   "source": [
    "What would happen if you didn't shuffle this data?"
   ]
  },
  {
   "cell_type": "code",
   "execution_count": null,
   "metadata": {
    "colab": {},
    "colab_type": "code",
    "id": "-TF5eIYeK_Rt"
   },
   "outputs": [],
   "source": [
    "y"
   ]
  },
  {
   "cell_type": "markdown",
   "metadata": {
    "colab_type": "text",
    "id": "ftRJA9b1LHEG"
   },
   "source": [
    "Let's try it!\n",
    "\n",
    "We'll do a train/validation/test split, with and without random shuffling.\n",
    "\n",
    "[Rachel Thomas]( https://www.fast.ai/2017/11/13/validation-sets/) points out that \"sklearn has a `train_test_split` method, but no `train_validation_test_split`.\"\n",
    "\n",
    "So we can write our own:\n"
   ]
  },
  {
   "cell_type": "code",
   "execution_count": null,
   "metadata": {
    "colab": {},
    "colab_type": "code",
    "id": "8RKcKFA9Ll7z"
   },
   "outputs": [],
   "source": [
    "def train_validation_test_split(\n",
    "    X, y, train_size=0.8, val_size=0.1, test_size=0.1, \n",
    "    random_state=None, shuffle=True):\n",
    "        \n",
    "    assert train_size + val_size + test_size == 1\n",
    "    \n",
    "    X_train_val, X_test, y_train_val, y_test = train_test_split(\n",
    "        X, y, test_size=test_size, random_state=random_state, shuffle=shuffle)\n",
    "    \n",
    "    X_train, X_val, y_train, y_val = train_test_split(\n",
    "        X_train_val, y_train_val, test_size=val_size/(train_size+val_size), \n",
    "        random_state=random_state, shuffle=shuffle)\n",
    "    \n",
    "    return X_train, X_val, X_test, y_train, y_val, y_test"
   ]
  },
  {
   "cell_type": "markdown",
   "metadata": {
    "colab_type": "text",
    "id": "C6rtSKRjM-IJ"
   },
   "source": [
    "Split Iris data into train/validation/test sets, _without_ random shuffling"
   ]
  },
  {
   "cell_type": "code",
   "execution_count": null,
   "metadata": {
    "colab": {},
    "colab_type": "code",
    "id": "XZH057JSLmwH"
   },
   "outputs": [],
   "source": [
    "X_train, X_val, X_test, y_train, y_val, y_test = train_validation_test_split(\n",
    "    X, y, shuffle=False)"
   ]
  },
  {
   "cell_type": "markdown",
   "metadata": {
    "colab_type": "text",
    "id": "GbW1sgSTUa3M"
   },
   "source": [
    "Look at the train, validation, and test targets"
   ]
  },
  {
   "cell_type": "code",
   "execution_count": null,
   "metadata": {
    "colab": {},
    "colab_type": "code",
    "id": "kRWwDV4CLyZ2"
   },
   "outputs": [],
   "source": [
    "y_train"
   ]
  },
  {
   "cell_type": "code",
   "execution_count": null,
   "metadata": {
    "colab": {},
    "colab_type": "code",
    "id": "5idO3xNcUXpe"
   },
   "outputs": [],
   "source": [
    "y_val"
   ]
  },
  {
   "cell_type": "code",
   "execution_count": null,
   "metadata": {
    "colab": {},
    "colab_type": "code",
    "id": "H-uGeLEvUY1p"
   },
   "outputs": [],
   "source": [
    "y_test"
   ]
  },
  {
   "cell_type": "markdown",
   "metadata": {
    "colab_type": "text",
    "id": "0MqgrHtdUz3p"
   },
   "source": [
    "Split Iris data into train/validation/test sets, _with_ random shuffling"
   ]
  },
  {
   "cell_type": "code",
   "execution_count": null,
   "metadata": {
    "colab": {},
    "colab_type": "code",
    "id": "LcCr7C3OUZ94"
   },
   "outputs": [],
   "source": [
    "X_train, X_val, X_test, y_train, y_val, y_test = train_validation_test_split(\n",
    "    X, y, shuffle=True)"
   ]
  },
  {
   "cell_type": "markdown",
   "metadata": {
    "colab_type": "text",
    "id": "FJG8yg-bVBqa"
   },
   "source": [
    "Look at the train, validation, and test targets"
   ]
  },
  {
   "cell_type": "code",
   "execution_count": null,
   "metadata": {
    "colab": {},
    "colab_type": "code",
    "id": "R0gY3R9LUk5t"
   },
   "outputs": [],
   "source": [
    "y_train"
   ]
  },
  {
   "cell_type": "code",
   "execution_count": null,
   "metadata": {
    "colab": {},
    "colab_type": "code",
    "id": "G50zgzBkUuDF"
   },
   "outputs": [],
   "source": [
    "y_val"
   ]
  },
  {
   "cell_type": "code",
   "execution_count": null,
   "metadata": {
    "colab": {},
    "colab_type": "code",
    "id": "hN-767fxUvHF"
   },
   "outputs": [],
   "source": [
    "y_test"
   ]
  },
  {
   "cell_type": "markdown",
   "metadata": {
    "colab_type": "text",
    "id": "a5E-ApbhVK7S"
   },
   "source": [
    "That's better, but there's just not enough data for a three-way split. In fact, there's not much data for a two-way split. The Iris dataset is a rare example where you probably do want to use cross-validation _without_ an independent test set."
   ]
  },
  {
   "cell_type": "markdown",
   "metadata": {
    "colab_type": "text",
    "id": "IlR-JFMz1uJD"
   },
   "source": [
    "## Bank Marketing — shuffled or split by time?"
   ]
  },
  {
   "cell_type": "markdown",
   "metadata": {
    "colab_type": "text",
    "id": "66D5zQJZVsOw"
   },
   "source": [
    "https://archive.ics.uci.edu/ml/datasets/Bank+Marketing\n",
    "\n",
    "The data is related with direct marketing campaigns of a Portuguese banking institution. The marketing campaigns were based on phone calls. Often, more than one contact to the same client was required, in order to access if the product (bank term deposit) would be ('yes') or not ('no') subscribed. \n",
    "\n",
    "bank-additional-full.csv with all examples (41188) and 20 inputs, **ordered by date (from May 2008 to November 2010)**"
   ]
  },
  {
   "cell_type": "code",
   "execution_count": null,
   "metadata": {
    "colab": {},
    "colab_type": "code",
    "id": "FNu4xmu1Vvtj"
   },
   "outputs": [],
   "source": [
    "!wget https://archive.ics.uci.edu/ml/machine-learning-databases/00222/bank-additional.zip"
   ]
  },
  {
   "cell_type": "code",
   "execution_count": null,
   "metadata": {
    "colab": {},
    "colab_type": "code",
    "id": "cGsCdBSoVwZU"
   },
   "outputs": [],
   "source": [
    "!unzip bank-additional.zip"
   ]
  },
  {
   "cell_type": "code",
   "execution_count": null,
   "metadata": {
    "colab": {},
    "colab_type": "code",
    "id": "FmtEAZeWVx6B"
   },
   "outputs": [],
   "source": [
    "%cd bank-additional"
   ]
  },
  {
   "cell_type": "code",
   "execution_count": null,
   "metadata": {
    "colab": {},
    "colab_type": "code",
    "id": "8ucARvXRV2VG"
   },
   "outputs": [],
   "source": [
    "bank = pd.read_csv('bank-additional-full.csv', sep=';')\n",
    "\n",
    "X = bank.drop(columns='y')\n",
    "y = bank['y'] == 'yes'"
   ]
  },
  {
   "cell_type": "markdown",
   "metadata": {
    "colab_type": "text",
    "id": "dLpHSzvOV7VV"
   },
   "source": [
    "### Shuffled split?"
   ]
  },
  {
   "cell_type": "code",
   "execution_count": null,
   "metadata": {
    "colab": {},
    "colab_type": "code",
    "id": "o73gJvtCWEEP"
   },
   "outputs": [],
   "source": [
    "X_train, X_val, X_test, y_train, y_val, y_test = train_validation_test_split(X, y, shuffle=True)"
   ]
  },
  {
   "cell_type": "code",
   "execution_count": null,
   "metadata": {
    "colab": {},
    "colab_type": "code",
    "id": "-1uTNhM1WHzY"
   },
   "outputs": [],
   "source": [
    "[array.shape for array in (X_train, X_val, X_test, y_train, y_val, y_test)]"
   ]
  },
  {
   "cell_type": "code",
   "execution_count": null,
   "metadata": {
    "colab": {},
    "colab_type": "code",
    "id": "qLOpqjRnWIYG"
   },
   "outputs": [],
   "source": [
    "y_train.mean(), y_val.mean(), y_test.mean()"
   ]
  },
  {
   "cell_type": "markdown",
   "metadata": {
    "colab_type": "text",
    "id": "FmyRVRrhWP9W"
   },
   "source": [
    "### Split by time?"
   ]
  },
  {
   "cell_type": "code",
   "execution_count": null,
   "metadata": {
    "colab": {},
    "colab_type": "code",
    "id": "PJMAPBolWUFs"
   },
   "outputs": [],
   "source": [
    "X_train, X_val, X_test, y_train, y_val, y_test = train_validation_test_split(X, y, shuffle=False)"
   ]
  },
  {
   "cell_type": "code",
   "execution_count": null,
   "metadata": {
    "colab": {},
    "colab_type": "code",
    "id": "vbw2Sg-JWU-b"
   },
   "outputs": [],
   "source": [
    "[array.shape for array in (X_train, X_val, X_test, y_train, y_val, y_test)]"
   ]
  },
  {
   "cell_type": "code",
   "execution_count": null,
   "metadata": {
    "colab": {},
    "colab_type": "code",
    "id": "QF7DiZbFWWGo"
   },
   "outputs": [],
   "source": [
    "y_train.mean(), y_val.mean(), y_test.mean()"
   ]
  },
  {
   "cell_type": "code",
   "execution_count": null,
   "metadata": {
    "colab": {},
    "colab_type": "code",
    "id": "7rWfygKtWZPg"
   },
   "outputs": [],
   "source": [
    "y.rolling(500).mean().plot();"
   ]
  },
  {
   "cell_type": "markdown",
   "metadata": {
    "colab_type": "text",
    "id": "uD3xRARIWbnW"
   },
   "source": [
    "***The \"right\" choice here is unclear, but either way, it will make a big difference!***"
   ]
  },
  {
   "cell_type": "markdown",
   "metadata": {
    "colab_type": "text",
    "id": "Ibhax45nNcDJ"
   },
   "source": [
    "# ASSIGNMENT options\n",
    "\n",
    "- Replicate the lesson code. [Do it \"the hard way\" or with the \"Benjamin Franklin method.\"](https://docs.google.com/document/d/1ubOw9B3Hfip27hF2ZFnW3a3z9xAgrUDRReOEo-FHCVs/edit)\n",
    "- Apply the lesson to other datasets you've worked with before, and compare results.\n",
    "- Choose how to split the Bank Marketing dataset. Train and validate baseline models.\n",
    "- Get weather data for your own area and calculate both baselines.  _\"One (persistence) predicts that the weather tomorrow is going to be whatever it was today. The other (climatology) predicts whatever the average historical weather has been on this day from prior years.\"_ What is the mean absolute error for each baseline? What if you average the two together? \n",
    "- When would this notebook's pipelines fail? How could you fix them? Add more [preprocessing](https://scikit-learn.org/stable/modules/preprocessing.html) and [imputation](https://scikit-learn.org/stable/modules/impute.html) to your [pipelines](https://scikit-learn.org/stable/modules/compose.html) with scikit-learn.\n",
    "- [This example from scikit-learn documentation](https://scikit-learn.org/stable/auto_examples/compose/plot_column_transformer_mixed_types.html) demonstrates its improved `OneHotEncoder` and new `ColumnTransformer` objects, which can replace functionality from third-party libraries like category_encoders and sklearn-pandas. Adapt this example, which uses Titanic data, to work with another dataset.\n",
    "\n",
    "\n",
    "\n",
    "\n"
   ]
  },
  {
   "cell_type": "code",
   "execution_count": null,
   "metadata": {},
   "outputs": [],
   "source": []
  }
 ],
 "metadata": {
  "colab": {
   "collapsed_sections": [],
   "name": "LS_DS_241_Begin_modeling_process LIVE LESSON.ipynb",
   "provenance": [],
   "version": "0.3.2"
  },
  "kernelspec": {
   "display_name": "Python 3",
   "language": "python",
   "name": "python3"
  },
  "language_info": {
   "codemirror_mode": {
    "name": "ipython",
    "version": 3
   },
   "file_extension": ".py",
   "mimetype": "text/x-python",
   "name": "python",
   "nbconvert_exporter": "python",
   "pygments_lexer": "ipython3",
   "version": "3.6.5"
  }
 },
 "nbformat": 4,
 "nbformat_minor": 1
}
