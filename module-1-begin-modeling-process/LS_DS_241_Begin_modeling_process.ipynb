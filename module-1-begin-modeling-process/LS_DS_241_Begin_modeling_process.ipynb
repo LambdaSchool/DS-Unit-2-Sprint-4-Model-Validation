{
  "nbformat": 4,
  "nbformat_minor": 0,
  "metadata": {
    "colab": {
      "name": "LS_DS_241_Begin_modeling_process.ipynb",
      "version": "0.3.2",
      "provenance": [],
      "include_colab_link": true
    },
    "kernelspec": {
      "display_name": "Python 3",
      "language": "python",
      "name": "python3"
    }
  },
  "cells": [
    {
      "cell_type": "markdown",
      "metadata": {
        "id": "view-in-github",
        "colab_type": "text"
      },
      "source": [
        "<a href=\"https://colab.research.google.com/github/donw385/DS-Unit-2-Sprint-4-Model-Validation/blob/master/module-1-begin-modeling-process/LS_DS_241_Begin_modeling_process.ipynb\" target=\"_parent\"><img src=\"https://colab.research.google.com/assets/colab-badge.svg\" alt=\"Open In Colab\"/></a>"
      ]
    },
    {
      "metadata": {
        "id": "RCE1ETWauKLc",
        "colab_type": "text"
      },
      "cell_type": "markdown",
      "source": [
        "_Lambda School Data Science — Model Validation_ \n",
        "\n",
        "# Begin the modeling process\n",
        "\n",
        "Objectives\n",
        "- Train/Validate/Test split\n",
        "- Cross-Validation\n",
        "- Begin with baselines"
      ]
    },
    {
      "metadata": {
        "id": "zYlB1sjPuKLg",
        "colab_type": "text"
      },
      "cell_type": "markdown",
      "source": [
        "## Get the Bank Marketing dataset\n",
        "\n",
        "You have several ways you can get the dataset:\n",
        "\n",
        "#### Kaggle\n",
        "- Download from the [Kaggle competition page](https://www.kaggle.com/c/ds2-model-validation/data)\n",
        "- Use the Kaggle API\n",
        "\n",
        "#### GitHub\n",
        "- Clone the [repo](https://github.com/LambdaSchool/DS-Unit-2-Sprint-4-Model-Validation/tree/master/module-1-begin-modeling-process/bank-marketing)\n",
        "- Download from the repo:"
      ]
    },
    {
      "metadata": {
        "id": "aXOaDj2QuKMB",
        "colab_type": "code",
        "colab": {}
      },
      "cell_type": "code",
      "source": [
        "import pandas as pd\n",
        "\n",
        "train_features = pd.read_csv('https://raw.githubusercontent.com/donw385/DS-Unit-2-Sprint-4-Model-Validation/master/module-1-begin-modeling-process/bank-marketing/train_features.csv')\n",
        "train_labels = pd.read_csv('https://raw.githubusercontent.com/donw385/DS-Unit-2-Sprint-4-Model-Validation/master/module-1-begin-modeling-process/bank-marketing/train_labels.csv')\n",
        "test_features = pd.read_csv('https://raw.githubusercontent.com/donw385/DS-Unit-2-Sprint-4-Model-Validation/master/module-1-begin-modeling-process/bank-marketing/test_features.csv')\n",
        "sample_submission = pd.read_csv('https://raw.githubusercontent.com/donw385/DS-Unit-2-Sprint-4-Model-Validation/master/module-1-begin-modeling-process/bank-marketing/sample_submission.csv')\n",
        "\n"
      ],
      "execution_count": 0,
      "outputs": []
    },
    {
      "metadata": {
        "id": "BtP-5yCIu7AP",
        "colab_type": "code",
        "colab": {
          "base_uri": "https://localhost:8080/",
          "height": 35
        },
        "outputId": "3eba78fe-33c9-4608-9e8e-bcadfc7bb9f1"
      },
      "cell_type": "code",
      "source": [
        "train_features.shape, train_labels.shape, test_features.shape, sample_submission.shape\n"
      ],
      "execution_count": 19,
      "outputs": [
        {
          "output_type": "execute_result",
          "data": {
            "text/plain": [
              "((30891, 20), (30891, 2), (10297, 20), (10297, 2))"
            ]
          },
          "metadata": {
            "tags": []
          },
          "execution_count": 19
        }
      ]
    },
    {
      "metadata": {
        "id": "eYj9pdhpzNHS",
        "colab_type": "code",
        "colab": {
          "base_uri": "https://localhost:8080/",
          "height": 239
        },
        "outputId": "a0d16bda-6579-48e4-af9f-25f804596a01"
      },
      "cell_type": "code",
      "source": [
        "train_features.head()"
      ],
      "execution_count": 21,
      "outputs": [
        {
          "output_type": "execute_result",
          "data": {
            "text/html": [
              "<div>\n",
              "<style scoped>\n",
              "    .dataframe tbody tr th:only-of-type {\n",
              "        vertical-align: middle;\n",
              "    }\n",
              "\n",
              "    .dataframe tbody tr th {\n",
              "        vertical-align: top;\n",
              "    }\n",
              "\n",
              "    .dataframe thead th {\n",
              "        text-align: right;\n",
              "    }\n",
              "</style>\n",
              "<table border=\"1\" class=\"dataframe\">\n",
              "  <thead>\n",
              "    <tr style=\"text-align: right;\">\n",
              "      <th></th>\n",
              "      <th>id</th>\n",
              "      <th>age</th>\n",
              "      <th>job</th>\n",
              "      <th>marital</th>\n",
              "      <th>education</th>\n",
              "      <th>default</th>\n",
              "      <th>housing</th>\n",
              "      <th>loan</th>\n",
              "      <th>contact</th>\n",
              "      <th>month</th>\n",
              "      <th>day_of_week</th>\n",
              "      <th>campaign</th>\n",
              "      <th>pdays</th>\n",
              "      <th>previous</th>\n",
              "      <th>poutcome</th>\n",
              "      <th>emp.var.rate</th>\n",
              "      <th>cons.price.idx</th>\n",
              "      <th>cons.conf.idx</th>\n",
              "      <th>euribor3m</th>\n",
              "      <th>nr.employed</th>\n",
              "    </tr>\n",
              "  </thead>\n",
              "  <tbody>\n",
              "    <tr>\n",
              "      <th>0</th>\n",
              "      <td>20591</td>\n",
              "      <td>29</td>\n",
              "      <td>services</td>\n",
              "      <td>single</td>\n",
              "      <td>high.school</td>\n",
              "      <td>no</td>\n",
              "      <td>yes</td>\n",
              "      <td>yes</td>\n",
              "      <td>cellular</td>\n",
              "      <td>may</td>\n",
              "      <td>thu</td>\n",
              "      <td>10</td>\n",
              "      <td>999</td>\n",
              "      <td>0</td>\n",
              "      <td>nonexistent</td>\n",
              "      <td>-1.8</td>\n",
              "      <td>92.893</td>\n",
              "      <td>-46.2</td>\n",
              "      <td>1.266</td>\n",
              "      <td>5099.1</td>\n",
              "    </tr>\n",
              "    <tr>\n",
              "      <th>1</th>\n",
              "      <td>18343</td>\n",
              "      <td>54</td>\n",
              "      <td>management</td>\n",
              "      <td>married</td>\n",
              "      <td>university.degree</td>\n",
              "      <td>no</td>\n",
              "      <td>no</td>\n",
              "      <td>no</td>\n",
              "      <td>cellular</td>\n",
              "      <td>nov</td>\n",
              "      <td>tue</td>\n",
              "      <td>1</td>\n",
              "      <td>999</td>\n",
              "      <td>1</td>\n",
              "      <td>failure</td>\n",
              "      <td>-0.1</td>\n",
              "      <td>93.200</td>\n",
              "      <td>-42.0</td>\n",
              "      <td>4.153</td>\n",
              "      <td>5195.8</td>\n",
              "    </tr>\n",
              "    <tr>\n",
              "      <th>2</th>\n",
              "      <td>32826</td>\n",
              "      <td>55</td>\n",
              "      <td>self-employed</td>\n",
              "      <td>married</td>\n",
              "      <td>unknown</td>\n",
              "      <td>unknown</td>\n",
              "      <td>no</td>\n",
              "      <td>no</td>\n",
              "      <td>cellular</td>\n",
              "      <td>jul</td>\n",
              "      <td>mon</td>\n",
              "      <td>3</td>\n",
              "      <td>999</td>\n",
              "      <td>0</td>\n",
              "      <td>nonexistent</td>\n",
              "      <td>1.4</td>\n",
              "      <td>93.918</td>\n",
              "      <td>-42.7</td>\n",
              "      <td>4.962</td>\n",
              "      <td>5228.1</td>\n",
              "    </tr>\n",
              "    <tr>\n",
              "      <th>3</th>\n",
              "      <td>29780</td>\n",
              "      <td>43</td>\n",
              "      <td>blue-collar</td>\n",
              "      <td>married</td>\n",
              "      <td>unknown</td>\n",
              "      <td>unknown</td>\n",
              "      <td>no</td>\n",
              "      <td>no</td>\n",
              "      <td>cellular</td>\n",
              "      <td>may</td>\n",
              "      <td>mon</td>\n",
              "      <td>6</td>\n",
              "      <td>999</td>\n",
              "      <td>0</td>\n",
              "      <td>nonexistent</td>\n",
              "      <td>-1.8</td>\n",
              "      <td>92.893</td>\n",
              "      <td>-46.2</td>\n",
              "      <td>1.244</td>\n",
              "      <td>5099.1</td>\n",
              "    </tr>\n",
              "    <tr>\n",
              "      <th>4</th>\n",
              "      <td>40736</td>\n",
              "      <td>54</td>\n",
              "      <td>blue-collar</td>\n",
              "      <td>married</td>\n",
              "      <td>basic.4y</td>\n",
              "      <td>no</td>\n",
              "      <td>yes</td>\n",
              "      <td>no</td>\n",
              "      <td>telephone</td>\n",
              "      <td>may</td>\n",
              "      <td>wed</td>\n",
              "      <td>5</td>\n",
              "      <td>999</td>\n",
              "      <td>0</td>\n",
              "      <td>nonexistent</td>\n",
              "      <td>1.1</td>\n",
              "      <td>93.994</td>\n",
              "      <td>-36.4</td>\n",
              "      <td>4.856</td>\n",
              "      <td>5191.0</td>\n",
              "    </tr>\n",
              "  </tbody>\n",
              "</table>\n",
              "</div>"
            ],
            "text/plain": [
              "      id  age            job  marital          education  default housing  \\\n",
              "0  20591   29       services   single        high.school       no     yes   \n",
              "1  18343   54     management  married  university.degree       no      no   \n",
              "2  32826   55  self-employed  married            unknown  unknown      no   \n",
              "3  29780   43    blue-collar  married            unknown  unknown      no   \n",
              "4  40736   54    blue-collar  married           basic.4y       no     yes   \n",
              "\n",
              "  loan    contact month day_of_week  campaign  pdays  previous     poutcome  \\\n",
              "0  yes   cellular   may         thu        10    999         0  nonexistent   \n",
              "1   no   cellular   nov         tue         1    999         1      failure   \n",
              "2   no   cellular   jul         mon         3    999         0  nonexistent   \n",
              "3   no   cellular   may         mon         6    999         0  nonexistent   \n",
              "4   no  telephone   may         wed         5    999         0  nonexistent   \n",
              "\n",
              "   emp.var.rate  cons.price.idx  cons.conf.idx  euribor3m  nr.employed  \n",
              "0          -1.8          92.893          -46.2      1.266       5099.1  \n",
              "1          -0.1          93.200          -42.0      4.153       5195.8  \n",
              "2           1.4          93.918          -42.7      4.962       5228.1  \n",
              "3          -1.8          92.893          -46.2      1.244       5099.1  \n",
              "4           1.1          93.994          -36.4      4.856       5191.0  "
            ]
          },
          "metadata": {
            "tags": []
          },
          "execution_count": 21
        }
      ]
    },
    {
      "metadata": {
        "id": "3EJWqNbWzPke",
        "colab_type": "code",
        "colab": {
          "base_uri": "https://localhost:8080/",
          "height": 202
        },
        "outputId": "7abe3337-1c5d-4456-e2bd-93189423aa59"
      },
      "cell_type": "code",
      "source": [
        "train_labels.head()"
      ],
      "execution_count": 22,
      "outputs": [
        {
          "output_type": "execute_result",
          "data": {
            "text/html": [
              "<div>\n",
              "<style scoped>\n",
              "    .dataframe tbody tr th:only-of-type {\n",
              "        vertical-align: middle;\n",
              "    }\n",
              "\n",
              "    .dataframe tbody tr th {\n",
              "        vertical-align: top;\n",
              "    }\n",
              "\n",
              "    .dataframe thead th {\n",
              "        text-align: right;\n",
              "    }\n",
              "</style>\n",
              "<table border=\"1\" class=\"dataframe\">\n",
              "  <thead>\n",
              "    <tr style=\"text-align: right;\">\n",
              "      <th></th>\n",
              "      <th>id</th>\n",
              "      <th>y</th>\n",
              "    </tr>\n",
              "  </thead>\n",
              "  <tbody>\n",
              "    <tr>\n",
              "      <th>0</th>\n",
              "      <td>20591</td>\n",
              "      <td>0</td>\n",
              "    </tr>\n",
              "    <tr>\n",
              "      <th>1</th>\n",
              "      <td>18343</td>\n",
              "      <td>0</td>\n",
              "    </tr>\n",
              "    <tr>\n",
              "      <th>2</th>\n",
              "      <td>32826</td>\n",
              "      <td>0</td>\n",
              "    </tr>\n",
              "    <tr>\n",
              "      <th>3</th>\n",
              "      <td>29780</td>\n",
              "      <td>0</td>\n",
              "    </tr>\n",
              "    <tr>\n",
              "      <th>4</th>\n",
              "      <td>40736</td>\n",
              "      <td>0</td>\n",
              "    </tr>\n",
              "  </tbody>\n",
              "</table>\n",
              "</div>"
            ],
            "text/plain": [
              "      id  y\n",
              "0  20591  0\n",
              "1  18343  0\n",
              "2  32826  0\n",
              "3  29780  0\n",
              "4  40736  0"
            ]
          },
          "metadata": {
            "tags": []
          },
          "execution_count": 22
        }
      ]
    },
    {
      "metadata": {
        "id": "0eQgKK45zSip",
        "colab_type": "code",
        "colab": {
          "base_uri": "https://localhost:8080/",
          "height": 274
        },
        "outputId": "9a8e6605-dbd5-4d7d-ac76-83e634e42964"
      },
      "cell_type": "code",
      "source": [
        "test_features.head()"
      ],
      "execution_count": 23,
      "outputs": [
        {
          "output_type": "execute_result",
          "data": {
            "text/html": [
              "<div>\n",
              "<style scoped>\n",
              "    .dataframe tbody tr th:only-of-type {\n",
              "        vertical-align: middle;\n",
              "    }\n",
              "\n",
              "    .dataframe tbody tr th {\n",
              "        vertical-align: top;\n",
              "    }\n",
              "\n",
              "    .dataframe thead th {\n",
              "        text-align: right;\n",
              "    }\n",
              "</style>\n",
              "<table border=\"1\" class=\"dataframe\">\n",
              "  <thead>\n",
              "    <tr style=\"text-align: right;\">\n",
              "      <th></th>\n",
              "      <th>id</th>\n",
              "      <th>age</th>\n",
              "      <th>job</th>\n",
              "      <th>marital</th>\n",
              "      <th>education</th>\n",
              "      <th>default</th>\n",
              "      <th>housing</th>\n",
              "      <th>loan</th>\n",
              "      <th>contact</th>\n",
              "      <th>month</th>\n",
              "      <th>day_of_week</th>\n",
              "      <th>campaign</th>\n",
              "      <th>pdays</th>\n",
              "      <th>previous</th>\n",
              "      <th>poutcome</th>\n",
              "      <th>emp.var.rate</th>\n",
              "      <th>cons.price.idx</th>\n",
              "      <th>cons.conf.idx</th>\n",
              "      <th>euribor3m</th>\n",
              "      <th>nr.employed</th>\n",
              "    </tr>\n",
              "  </thead>\n",
              "  <tbody>\n",
              "    <tr>\n",
              "      <th>0</th>\n",
              "      <td>12668</td>\n",
              "      <td>41</td>\n",
              "      <td>blue-collar</td>\n",
              "      <td>single</td>\n",
              "      <td>basic.9y</td>\n",
              "      <td>no</td>\n",
              "      <td>yes</td>\n",
              "      <td>no</td>\n",
              "      <td>cellular</td>\n",
              "      <td>may</td>\n",
              "      <td>wed</td>\n",
              "      <td>1</td>\n",
              "      <td>999</td>\n",
              "      <td>0</td>\n",
              "      <td>nonexistent</td>\n",
              "      <td>-1.8</td>\n",
              "      <td>92.893</td>\n",
              "      <td>-46.2</td>\n",
              "      <td>1.334</td>\n",
              "      <td>5099.1</td>\n",
              "    </tr>\n",
              "    <tr>\n",
              "      <th>1</th>\n",
              "      <td>44327</td>\n",
              "      <td>31</td>\n",
              "      <td>services</td>\n",
              "      <td>divorced</td>\n",
              "      <td>high.school</td>\n",
              "      <td>no</td>\n",
              "      <td>yes</td>\n",
              "      <td>no</td>\n",
              "      <td>cellular</td>\n",
              "      <td>nov</td>\n",
              "      <td>thu</td>\n",
              "      <td>1</td>\n",
              "      <td>999</td>\n",
              "      <td>0</td>\n",
              "      <td>nonexistent</td>\n",
              "      <td>-0.1</td>\n",
              "      <td>93.200</td>\n",
              "      <td>-42.0</td>\n",
              "      <td>4.076</td>\n",
              "      <td>5195.8</td>\n",
              "    </tr>\n",
              "    <tr>\n",
              "      <th>2</th>\n",
              "      <td>26675</td>\n",
              "      <td>56</td>\n",
              "      <td>admin.</td>\n",
              "      <td>married</td>\n",
              "      <td>basic.9y</td>\n",
              "      <td>no</td>\n",
              "      <td>no</td>\n",
              "      <td>no</td>\n",
              "      <td>cellular</td>\n",
              "      <td>oct</td>\n",
              "      <td>wed</td>\n",
              "      <td>2</td>\n",
              "      <td>999</td>\n",
              "      <td>0</td>\n",
              "      <td>nonexistent</td>\n",
              "      <td>-3.4</td>\n",
              "      <td>92.431</td>\n",
              "      <td>-26.9</td>\n",
              "      <td>0.742</td>\n",
              "      <td>5017.5</td>\n",
              "    </tr>\n",
              "    <tr>\n",
              "      <th>3</th>\n",
              "      <td>11771</td>\n",
              "      <td>32</td>\n",
              "      <td>blue-collar</td>\n",
              "      <td>single</td>\n",
              "      <td>university.degree</td>\n",
              "      <td>no</td>\n",
              "      <td>no</td>\n",
              "      <td>no</td>\n",
              "      <td>telephone</td>\n",
              "      <td>jun</td>\n",
              "      <td>wed</td>\n",
              "      <td>1</td>\n",
              "      <td>999</td>\n",
              "      <td>0</td>\n",
              "      <td>nonexistent</td>\n",
              "      <td>1.4</td>\n",
              "      <td>94.465</td>\n",
              "      <td>-41.8</td>\n",
              "      <td>4.864</td>\n",
              "      <td>5228.1</td>\n",
              "    </tr>\n",
              "    <tr>\n",
              "      <th>4</th>\n",
              "      <td>38173</td>\n",
              "      <td>32</td>\n",
              "      <td>blue-collar</td>\n",
              "      <td>married</td>\n",
              "      <td>high.school</td>\n",
              "      <td>no</td>\n",
              "      <td>yes</td>\n",
              "      <td>no</td>\n",
              "      <td>cellular</td>\n",
              "      <td>nov</td>\n",
              "      <td>wed</td>\n",
              "      <td>1</td>\n",
              "      <td>999</td>\n",
              "      <td>0</td>\n",
              "      <td>nonexistent</td>\n",
              "      <td>-0.1</td>\n",
              "      <td>93.200</td>\n",
              "      <td>-42.0</td>\n",
              "      <td>4.120</td>\n",
              "      <td>5195.8</td>\n",
              "    </tr>\n",
              "  </tbody>\n",
              "</table>\n",
              "</div>"
            ],
            "text/plain": [
              "      id  age          job   marital          education default housing loan  \\\n",
              "0  12668   41  blue-collar    single           basic.9y      no     yes   no   \n",
              "1  44327   31     services  divorced        high.school      no     yes   no   \n",
              "2  26675   56       admin.   married           basic.9y      no      no   no   \n",
              "3  11771   32  blue-collar    single  university.degree      no      no   no   \n",
              "4  38173   32  blue-collar   married        high.school      no     yes   no   \n",
              "\n",
              "     contact month day_of_week  campaign  pdays  previous     poutcome  \\\n",
              "0   cellular   may         wed         1    999         0  nonexistent   \n",
              "1   cellular   nov         thu         1    999         0  nonexistent   \n",
              "2   cellular   oct         wed         2    999         0  nonexistent   \n",
              "3  telephone   jun         wed         1    999         0  nonexistent   \n",
              "4   cellular   nov         wed         1    999         0  nonexistent   \n",
              "\n",
              "   emp.var.rate  cons.price.idx  cons.conf.idx  euribor3m  nr.employed  \n",
              "0          -1.8          92.893          -46.2      1.334       5099.1  \n",
              "1          -0.1          93.200          -42.0      4.076       5195.8  \n",
              "2          -3.4          92.431          -26.9      0.742       5017.5  \n",
              "3           1.4          94.465          -41.8      4.864       5228.1  \n",
              "4          -0.1          93.200          -42.0      4.120       5195.8  "
            ]
          },
          "metadata": {
            "tags": []
          },
          "execution_count": 23
        }
      ]
    },
    {
      "metadata": {
        "id": "K0GdlI8dzWE3",
        "colab_type": "code",
        "colab": {
          "base_uri": "https://localhost:8080/",
          "height": 202
        },
        "outputId": "a8f41abd-0801-4eb6-acbf-db25f364c995"
      },
      "cell_type": "code",
      "source": [
        "sample_submission.head()"
      ],
      "execution_count": 24,
      "outputs": [
        {
          "output_type": "execute_result",
          "data": {
            "text/html": [
              "<div>\n",
              "<style scoped>\n",
              "    .dataframe tbody tr th:only-of-type {\n",
              "        vertical-align: middle;\n",
              "    }\n",
              "\n",
              "    .dataframe tbody tr th {\n",
              "        vertical-align: top;\n",
              "    }\n",
              "\n",
              "    .dataframe thead th {\n",
              "        text-align: right;\n",
              "    }\n",
              "</style>\n",
              "<table border=\"1\" class=\"dataframe\">\n",
              "  <thead>\n",
              "    <tr style=\"text-align: right;\">\n",
              "      <th></th>\n",
              "      <th>id</th>\n",
              "      <th>y</th>\n",
              "    </tr>\n",
              "  </thead>\n",
              "  <tbody>\n",
              "    <tr>\n",
              "      <th>0</th>\n",
              "      <td>12668</td>\n",
              "      <td>0.5</td>\n",
              "    </tr>\n",
              "    <tr>\n",
              "      <th>1</th>\n",
              "      <td>44327</td>\n",
              "      <td>0.5</td>\n",
              "    </tr>\n",
              "    <tr>\n",
              "      <th>2</th>\n",
              "      <td>26675</td>\n",
              "      <td>0.5</td>\n",
              "    </tr>\n",
              "    <tr>\n",
              "      <th>3</th>\n",
              "      <td>11771</td>\n",
              "      <td>0.5</td>\n",
              "    </tr>\n",
              "    <tr>\n",
              "      <th>4</th>\n",
              "      <td>38173</td>\n",
              "      <td>0.5</td>\n",
              "    </tr>\n",
              "  </tbody>\n",
              "</table>\n",
              "</div>"
            ],
            "text/plain": [
              "      id    y\n",
              "0  12668  0.5\n",
              "1  44327  0.5\n",
              "2  26675  0.5\n",
              "3  11771  0.5\n",
              "4  38173  0.5"
            ]
          },
          "metadata": {
            "tags": []
          },
          "execution_count": 24
        }
      ]
    },
    {
      "metadata": {
        "id": "3Pq1KEXauKMF",
        "colab_type": "code",
        "colab": {}
      },
      "cell_type": "code",
      "source": [
        "y_train = train_labels['y']\n",
        "X_train = train_features.drop(columns='id')\n",
        "X_test  = test_features.drop(columns='id')"
      ],
      "execution_count": 0,
      "outputs": []
    },
    {
      "metadata": {
        "id": "-A_M3sHEuKMS",
        "colab_type": "text"
      },
      "cell_type": "markdown",
      "source": [
        "## Train/Validation/Test split"
      ]
    },
    {
      "metadata": {
        "id": "bhfj_wAXuKMT",
        "colab_type": "text"
      },
      "cell_type": "markdown",
      "source": [
        "How can we get from a two-way split, to a three-way split?\n",
        "\n",
        "We can use the [**`sklearn.model_selection.train_test_split`**](https://scikit-learn.org/stable/modules/generated/sklearn.model_selection.train_test_split.html) function to split the training data into training and validation data."
      ]
    },
    {
      "metadata": {
        "id": "xTcGu3seuKMV",
        "colab_type": "code",
        "colab": {
          "base_uri": "https://localhost:8080/",
          "height": 35
        },
        "outputId": "b4f85721-9b16-4ab6-bf60-b69096117850"
      },
      "cell_type": "code",
      "source": [
        "#3 way split is train/validation / test\n",
        "\n",
        "from sklearn.model_selection import train_test_split\n",
        "X_train, X_val, y_train, y_val = train_test_split(X_train, y_train)\n",
        "X_train.shape, X_val.shape, y_train.shape, y_val.shape"
      ],
      "execution_count": 25,
      "outputs": [
        {
          "output_type": "execute_result",
          "data": {
            "text/plain": [
              "((23168, 19), (7723, 19), (23168,), (7723,))"
            ]
          },
          "metadata": {
            "tags": []
          },
          "execution_count": 25
        }
      ]
    },
    {
      "metadata": {
        "id": "Lnwt5VieuKMg",
        "colab_type": "text"
      },
      "cell_type": "markdown",
      "source": [
        "Fit on the training set.\n",
        "\n",
        "Predict and score with the validation set."
      ]
    },
    {
      "metadata": {
        "id": "U_WlFsr1uKMi",
        "colab_type": "text"
      },
      "cell_type": "markdown",
      "source": [
        "## Majority class baseline"
      ]
    },
    {
      "metadata": {
        "id": "nI2Xa7QMuKMj",
        "colab_type": "text"
      },
      "cell_type": "markdown",
      "source": [
        "Determine the majority class:"
      ]
    },
    {
      "metadata": {
        "id": "RJdPWjfouKMl",
        "colab_type": "code",
        "colab": {
          "base_uri": "https://localhost:8080/",
          "height": 69
        },
        "outputId": "8994d193-0f6a-40ec-e7db-9c9b06b817a3"
      },
      "cell_type": "code",
      "source": [
        "y_train.value_counts(normalize=True)"
      ],
      "execution_count": 26,
      "outputs": [
        {
          "output_type": "execute_result",
          "data": {
            "text/plain": [
              "0    0.886352\n",
              "1    0.113648\n",
              "Name: y, dtype: float64"
            ]
          },
          "metadata": {
            "tags": []
          },
          "execution_count": 26
        }
      ]
    },
    {
      "metadata": {
        "id": "NeiEh5hnuKMx",
        "colab_type": "text"
      },
      "cell_type": "markdown",
      "source": [
        "Guess the majority class for every prediction:"
      ]
    },
    {
      "metadata": {
        "id": "ca5VdRF7uKM0",
        "colab_type": "code",
        "colab": {}
      },
      "cell_type": "code",
      "source": [
        "majority_class = 0\n",
        "y_pred = [majority_class] * len(y_val)"
      ],
      "execution_count": 0,
      "outputs": []
    },
    {
      "metadata": {
        "id": "56-1xiFyuKNF",
        "colab_type": "text"
      },
      "cell_type": "markdown",
      "source": [
        "#### [`sklearn.metrics.accuracy_score`](https://scikit-learn.org/stable/modules/generated/sklearn.metrics.accuracy_score.html)\n",
        "\n",
        "Baseline accuracy by guessing the majority class for every prediction:"
      ]
    },
    {
      "metadata": {
        "id": "bB_HwReBuKNH",
        "colab_type": "code",
        "colab": {
          "base_uri": "https://localhost:8080/",
          "height": 35
        },
        "outputId": "a8471f3d-d391-4b3b-9b68-35263b517f51"
      },
      "cell_type": "code",
      "source": [
        "from sklearn.metrics import accuracy_score\n",
        "accuracy_score(y_val, y_pred)"
      ],
      "execution_count": 31,
      "outputs": [
        {
          "output_type": "execute_result",
          "data": {
            "text/plain": [
              "0.8903275929043118"
            ]
          },
          "metadata": {
            "tags": []
          },
          "execution_count": 31
        }
      ]
    },
    {
      "metadata": {
        "id": "2U62Q09xuKNR",
        "colab_type": "text"
      },
      "cell_type": "markdown",
      "source": [
        "#### [`sklearn.metrics.roc_auc_score`](https://scikit-learn.org/stable/modules/generated/sklearn.metrics.roc_auc_score.html)\n",
        "\n",
        "Baseline \"ROC AUC\" score by guessing the majority class for every prediction:"
      ]
    },
    {
      "metadata": {
        "id": "vvOhjQoMuKNU",
        "colab_type": "code",
        "colab": {
          "base_uri": "https://localhost:8080/",
          "height": 35
        },
        "outputId": "c5aa9ff9-ea93-4bdd-a943-f846bc377c40"
      },
      "cell_type": "code",
      "source": [
        "#always 0.5 when you are guessing majority class\n",
        "\n",
        "from sklearn.metrics import roc_auc_score\n",
        "roc_auc_score(y_val, y_pred)"
      ],
      "execution_count": 32,
      "outputs": [
        {
          "output_type": "execute_result",
          "data": {
            "text/plain": [
              "0.5"
            ]
          },
          "metadata": {
            "tags": []
          },
          "execution_count": 32
        }
      ]
    },
    {
      "metadata": {
        "id": "lIjnGam1uKNY",
        "colab_type": "text"
      },
      "cell_type": "markdown",
      "source": [
        "## Fast first models"
      ]
    },
    {
      "metadata": {
        "id": "FmjhqcgfuKNZ",
        "colab_type": "text"
      },
      "cell_type": "markdown",
      "source": [
        "### Ignore rows/columns with nulls"
      ]
    },
    {
      "metadata": {
        "id": "6D_vWZySuKNd",
        "colab_type": "text"
      },
      "cell_type": "markdown",
      "source": [
        "This dataset doesn't have any nulls:"
      ]
    },
    {
      "metadata": {
        "id": "7LwI4XdfuKNh",
        "colab_type": "code",
        "colab": {
          "base_uri": "https://localhost:8080/",
          "height": 364
        },
        "outputId": "65ae0417-133a-49f0-986a-1085771246be"
      },
      "cell_type": "code",
      "source": [
        "X_train.isnull().sum()"
      ],
      "execution_count": 33,
      "outputs": [
        {
          "output_type": "execute_result",
          "data": {
            "text/plain": [
              "age               0\n",
              "job               0\n",
              "marital           0\n",
              "education         0\n",
              "default           0\n",
              "housing           0\n",
              "loan              0\n",
              "contact           0\n",
              "month             0\n",
              "day_of_week       0\n",
              "campaign          0\n",
              "pdays             0\n",
              "previous          0\n",
              "poutcome          0\n",
              "emp.var.rate      0\n",
              "cons.price.idx    0\n",
              "cons.conf.idx     0\n",
              "euribor3m         0\n",
              "nr.employed       0\n",
              "dtype: int64"
            ]
          },
          "metadata": {
            "tags": []
          },
          "execution_count": 33
        }
      ]
    },
    {
      "metadata": {
        "id": "QVuezsODuKNn",
        "colab_type": "text"
      },
      "cell_type": "markdown",
      "source": [
        "### Ignore nonnumeric features"
      ]
    },
    {
      "metadata": {
        "id": "ds4Rgv0xuKNo",
        "colab_type": "text"
      },
      "cell_type": "markdown",
      "source": [
        "Here are the numeric features:"
      ]
    },
    {
      "metadata": {
        "id": "c0wsq3MfuKNp",
        "colab_type": "code",
        "colab": {
          "base_uri": "https://localhost:8080/",
          "height": 294
        },
        "outputId": "1ca6f590-f6f7-443b-d27c-cbc3c3fd1822"
      },
      "cell_type": "code",
      "source": [
        "import numpy as np\n",
        "X_train.describe(include=np.number)"
      ],
      "execution_count": 34,
      "outputs": [
        {
          "output_type": "execute_result",
          "data": {
            "text/html": [
              "<div>\n",
              "<style scoped>\n",
              "    .dataframe tbody tr th:only-of-type {\n",
              "        vertical-align: middle;\n",
              "    }\n",
              "\n",
              "    .dataframe tbody tr th {\n",
              "        vertical-align: top;\n",
              "    }\n",
              "\n",
              "    .dataframe thead th {\n",
              "        text-align: right;\n",
              "    }\n",
              "</style>\n",
              "<table border=\"1\" class=\"dataframe\">\n",
              "  <thead>\n",
              "    <tr style=\"text-align: right;\">\n",
              "      <th></th>\n",
              "      <th>age</th>\n",
              "      <th>campaign</th>\n",
              "      <th>pdays</th>\n",
              "      <th>previous</th>\n",
              "      <th>emp.var.rate</th>\n",
              "      <th>cons.price.idx</th>\n",
              "      <th>cons.conf.idx</th>\n",
              "      <th>euribor3m</th>\n",
              "      <th>nr.employed</th>\n",
              "    </tr>\n",
              "  </thead>\n",
              "  <tbody>\n",
              "    <tr>\n",
              "      <th>count</th>\n",
              "      <td>23168.000000</td>\n",
              "      <td>23168.000000</td>\n",
              "      <td>23168.000000</td>\n",
              "      <td>23168.000000</td>\n",
              "      <td>23168.000000</td>\n",
              "      <td>23168.000000</td>\n",
              "      <td>23168.000000</td>\n",
              "      <td>23168.000000</td>\n",
              "      <td>23168.000000</td>\n",
              "    </tr>\n",
              "    <tr>\n",
              "      <th>mean</th>\n",
              "      <td>40.024646</td>\n",
              "      <td>2.557493</td>\n",
              "      <td>961.926234</td>\n",
              "      <td>0.173343</td>\n",
              "      <td>0.083995</td>\n",
              "      <td>93.576139</td>\n",
              "      <td>-40.519980</td>\n",
              "      <td>3.620106</td>\n",
              "      <td>5166.997842</td>\n",
              "    </tr>\n",
              "    <tr>\n",
              "      <th>std</th>\n",
              "      <td>10.445936</td>\n",
              "      <td>2.739629</td>\n",
              "      <td>188.257945</td>\n",
              "      <td>0.496018</td>\n",
              "      <td>1.567911</td>\n",
              "      <td>0.577913</td>\n",
              "      <td>4.621409</td>\n",
              "      <td>1.734647</td>\n",
              "      <td>72.441411</td>\n",
              "    </tr>\n",
              "    <tr>\n",
              "      <th>min</th>\n",
              "      <td>17.000000</td>\n",
              "      <td>1.000000</td>\n",
              "      <td>0.000000</td>\n",
              "      <td>0.000000</td>\n",
              "      <td>-3.400000</td>\n",
              "      <td>92.201000</td>\n",
              "      <td>-50.800000</td>\n",
              "      <td>0.634000</td>\n",
              "      <td>4963.600000</td>\n",
              "    </tr>\n",
              "    <tr>\n",
              "      <th>25%</th>\n",
              "      <td>32.000000</td>\n",
              "      <td>1.000000</td>\n",
              "      <td>999.000000</td>\n",
              "      <td>0.000000</td>\n",
              "      <td>-1.800000</td>\n",
              "      <td>93.075000</td>\n",
              "      <td>-42.700000</td>\n",
              "      <td>1.344000</td>\n",
              "      <td>5099.100000</td>\n",
              "    </tr>\n",
              "    <tr>\n",
              "      <th>50%</th>\n",
              "      <td>38.000000</td>\n",
              "      <td>2.000000</td>\n",
              "      <td>999.000000</td>\n",
              "      <td>0.000000</td>\n",
              "      <td>1.100000</td>\n",
              "      <td>93.749000</td>\n",
              "      <td>-41.800000</td>\n",
              "      <td>4.857000</td>\n",
              "      <td>5191.000000</td>\n",
              "    </tr>\n",
              "    <tr>\n",
              "      <th>75%</th>\n",
              "      <td>47.000000</td>\n",
              "      <td>3.000000</td>\n",
              "      <td>999.000000</td>\n",
              "      <td>0.000000</td>\n",
              "      <td>1.400000</td>\n",
              "      <td>93.994000</td>\n",
              "      <td>-36.400000</td>\n",
              "      <td>4.961000</td>\n",
              "      <td>5228.100000</td>\n",
              "    </tr>\n",
              "    <tr>\n",
              "      <th>max</th>\n",
              "      <td>98.000000</td>\n",
              "      <td>43.000000</td>\n",
              "      <td>999.000000</td>\n",
              "      <td>7.000000</td>\n",
              "      <td>1.400000</td>\n",
              "      <td>94.767000</td>\n",
              "      <td>-26.900000</td>\n",
              "      <td>5.045000</td>\n",
              "      <td>5228.100000</td>\n",
              "    </tr>\n",
              "  </tbody>\n",
              "</table>\n",
              "</div>"
            ],
            "text/plain": [
              "                age      campaign         pdays      previous  emp.var.rate  \\\n",
              "count  23168.000000  23168.000000  23168.000000  23168.000000  23168.000000   \n",
              "mean      40.024646      2.557493    961.926234      0.173343      0.083995   \n",
              "std       10.445936      2.739629    188.257945      0.496018      1.567911   \n",
              "min       17.000000      1.000000      0.000000      0.000000     -3.400000   \n",
              "25%       32.000000      1.000000    999.000000      0.000000     -1.800000   \n",
              "50%       38.000000      2.000000    999.000000      0.000000      1.100000   \n",
              "75%       47.000000      3.000000    999.000000      0.000000      1.400000   \n",
              "max       98.000000     43.000000    999.000000      7.000000      1.400000   \n",
              "\n",
              "       cons.price.idx  cons.conf.idx     euribor3m   nr.employed  \n",
              "count    23168.000000   23168.000000  23168.000000  23168.000000  \n",
              "mean        93.576139     -40.519980      3.620106   5166.997842  \n",
              "std          0.577913       4.621409      1.734647     72.441411  \n",
              "min         92.201000     -50.800000      0.634000   4963.600000  \n",
              "25%         93.075000     -42.700000      1.344000   5099.100000  \n",
              "50%         93.749000     -41.800000      4.857000   5191.000000  \n",
              "75%         93.994000     -36.400000      4.961000   5228.100000  \n",
              "max         94.767000     -26.900000      5.045000   5228.100000  "
            ]
          },
          "metadata": {
            "tags": []
          },
          "execution_count": 34
        }
      ]
    },
    {
      "metadata": {
        "id": "iUaJ0T-ruKNx",
        "colab_type": "text"
      },
      "cell_type": "markdown",
      "source": [
        "Here are the nonnumeric features:"
      ]
    },
    {
      "metadata": {
        "id": "gajlM22EuKN0",
        "colab_type": "code",
        "colab": {
          "base_uri": "https://localhost:8080/",
          "height": 171
        },
        "outputId": "10327661-6cd9-4482-d148-08d8c5d4da59"
      },
      "cell_type": "code",
      "source": [
        "X_train.describe(exclude=np.number)"
      ],
      "execution_count": 35,
      "outputs": [
        {
          "output_type": "execute_result",
          "data": {
            "text/html": [
              "<div>\n",
              "<style scoped>\n",
              "    .dataframe tbody tr th:only-of-type {\n",
              "        vertical-align: middle;\n",
              "    }\n",
              "\n",
              "    .dataframe tbody tr th {\n",
              "        vertical-align: top;\n",
              "    }\n",
              "\n",
              "    .dataframe thead th {\n",
              "        text-align: right;\n",
              "    }\n",
              "</style>\n",
              "<table border=\"1\" class=\"dataframe\">\n",
              "  <thead>\n",
              "    <tr style=\"text-align: right;\">\n",
              "      <th></th>\n",
              "      <th>job</th>\n",
              "      <th>marital</th>\n",
              "      <th>education</th>\n",
              "      <th>default</th>\n",
              "      <th>housing</th>\n",
              "      <th>loan</th>\n",
              "      <th>contact</th>\n",
              "      <th>month</th>\n",
              "      <th>day_of_week</th>\n",
              "      <th>poutcome</th>\n",
              "    </tr>\n",
              "  </thead>\n",
              "  <tbody>\n",
              "    <tr>\n",
              "      <th>count</th>\n",
              "      <td>23168</td>\n",
              "      <td>23168</td>\n",
              "      <td>23168</td>\n",
              "      <td>23168</td>\n",
              "      <td>23168</td>\n",
              "      <td>23168</td>\n",
              "      <td>23168</td>\n",
              "      <td>23168</td>\n",
              "      <td>23168</td>\n",
              "      <td>23168</td>\n",
              "    </tr>\n",
              "    <tr>\n",
              "      <th>unique</th>\n",
              "      <td>12</td>\n",
              "      <td>4</td>\n",
              "      <td>8</td>\n",
              "      <td>3</td>\n",
              "      <td>3</td>\n",
              "      <td>3</td>\n",
              "      <td>2</td>\n",
              "      <td>10</td>\n",
              "      <td>5</td>\n",
              "      <td>3</td>\n",
              "    </tr>\n",
              "    <tr>\n",
              "      <th>top</th>\n",
              "      <td>admin.</td>\n",
              "      <td>married</td>\n",
              "      <td>university.degree</td>\n",
              "      <td>no</td>\n",
              "      <td>yes</td>\n",
              "      <td>no</td>\n",
              "      <td>cellular</td>\n",
              "      <td>may</td>\n",
              "      <td>thu</td>\n",
              "      <td>nonexistent</td>\n",
              "    </tr>\n",
              "    <tr>\n",
              "      <th>freq</th>\n",
              "      <td>5870</td>\n",
              "      <td>14021</td>\n",
              "      <td>6826</td>\n",
              "      <td>18302</td>\n",
              "      <td>12108</td>\n",
              "      <td>19011</td>\n",
              "      <td>14732</td>\n",
              "      <td>7734</td>\n",
              "      <td>4818</td>\n",
              "      <td>19984</td>\n",
              "    </tr>\n",
              "  </tbody>\n",
              "</table>\n",
              "</div>"
            ],
            "text/plain": [
              "           job  marital          education default housing   loan   contact  \\\n",
              "count    23168    23168              23168   23168   23168  23168     23168   \n",
              "unique      12        4                  8       3       3      3         2   \n",
              "top     admin.  married  university.degree      no     yes     no  cellular   \n",
              "freq      5870    14021               6826   18302   12108  19011     14732   \n",
              "\n",
              "        month day_of_week     poutcome  \n",
              "count   23168       23168        23168  \n",
              "unique     10           5            3  \n",
              "top       may         thu  nonexistent  \n",
              "freq     7734        4818        19984  "
            ]
          },
          "metadata": {
            "tags": []
          },
          "execution_count": 35
        }
      ]
    },
    {
      "metadata": {
        "id": "Z4lt_aqJuKOH",
        "colab_type": "text"
      },
      "cell_type": "markdown",
      "source": [
        "Just select the nonnumeric features:"
      ]
    },
    {
      "metadata": {
        "id": "w9tvamV6uKOI",
        "colab_type": "code",
        "colab": {}
      },
      "cell_type": "code",
      "source": [
        "X_train_numeric = X_train.select_dtypes(np.number)\n",
        "X_val_numeric = X_val.select_dtypes(np.number)"
      ],
      "execution_count": 0,
      "outputs": []
    },
    {
      "metadata": {
        "id": "KiAG3V3wuKOV",
        "colab_type": "code",
        "colab": {
          "base_uri": "https://localhost:8080/",
          "height": 35
        },
        "outputId": "e68059d9-897e-4269-c067-a4ec53953f6c"
      },
      "cell_type": "code",
      "source": [
        "from sklearn.linear_model import LogisticRegression\n",
        "\n",
        "model = LogisticRegression(solver='lbfgs', max_iter=1000)\n",
        "model.fit(X_train_numeric, y_train)\n",
        "\n",
        "y_pred = model.predict(X_val_numeric)\n",
        "roc_auc_score(y_val, y_pred)"
      ],
      "execution_count": 37,
      "outputs": [
        {
          "output_type": "execute_result",
          "data": {
            "text/plain": [
              "0.5957902098430419"
            ]
          },
          "metadata": {
            "tags": []
          },
          "execution_count": 37
        }
      ]
    },
    {
      "metadata": {
        "id": "P69tOLSduKOZ",
        "colab_type": "text"
      },
      "cell_type": "markdown",
      "source": [
        "### With Scaler"
      ]
    },
    {
      "metadata": {
        "id": "wqDgmJOWuKOa",
        "colab_type": "code",
        "colab": {
          "base_uri": "https://localhost:8080/",
          "height": 35
        },
        "outputId": "9eff2bdb-ba9c-45ae-af46-9132e3b405bf"
      },
      "cell_type": "code",
      "source": [
        "from sklearn.exceptions import DataConversionWarning\n",
        "from sklearn.preprocessing import StandardScaler\n",
        "import warnings\n",
        "warnings.filterwarnings(action='ignore', category=DataConversionWarning)\n",
        "\n",
        "scaler = StandardScaler()\n",
        "X_train_scaled = scaler.fit_transform(X_train_numeric)\n",
        "X_val_scaled = scaler.transform(X_val_numeric)\n",
        "\n",
        "model = LogisticRegression(solver='lbfgs', max_iter=1000)\n",
        "model.fit(X_train_numeric, y_train)\n",
        "\n",
        "y_pred = model.predict(X_val_scaled)\n",
        "roc_auc_score(y_val, y_pred)"
      ],
      "execution_count": 39,
      "outputs": [
        {
          "output_type": "execute_result",
          "data": {
            "text/plain": [
              "0.5372499215312161"
            ]
          },
          "metadata": {
            "tags": []
          },
          "execution_count": 39
        }
      ]
    },
    {
      "metadata": {
        "id": "FbSXxMZBuKOj",
        "colab_type": "text"
      },
      "cell_type": "markdown",
      "source": [
        "### Same, as a pipeline"
      ]
    },
    {
      "metadata": {
        "id": "OEC3haj8uKOl",
        "colab_type": "code",
        "colab": {
          "base_uri": "https://localhost:8080/",
          "height": 35
        },
        "outputId": "539ed14d-9da6-4dd0-a0e8-1bcf91745cd2"
      },
      "cell_type": "code",
      "source": [
        "from sklearn.pipeline import make_pipeline\n",
        "\n",
        "pipeline = make_pipeline(\n",
        "    StandardScaler(), \n",
        "    LogisticRegression(solver='lbfgs')\n",
        ")\n",
        "\n",
        "pipeline.fit(X_train_numeric, y_train)\n",
        "\n",
        "y_pred = pipeline.predict(X_val_numeric)\n",
        "roc_auc_score(y_val, y_pred)"
      ],
      "execution_count": 40,
      "outputs": [
        {
          "output_type": "execute_result",
          "data": {
            "text/plain": [
              "0.5946822889945212"
            ]
          },
          "metadata": {
            "tags": []
          },
          "execution_count": 40
        }
      ]
    },
    {
      "metadata": {
        "id": "am_aNyHtuKOp",
        "colab_type": "text"
      },
      "cell_type": "markdown",
      "source": [
        "### Encode \"low cardinality\" categoricals"
      ]
    },
    {
      "metadata": {
        "id": "LyamOBuPuKOr",
        "colab_type": "text"
      },
      "cell_type": "markdown",
      "source": [
        "One-hot encode the \"low cardinality\" categoricals"
      ]
    },
    {
      "metadata": {
        "id": "zM58iTuruKOu",
        "colab_type": "code",
        "colab": {
          "base_uri": "https://localhost:8080/",
          "height": 208
        },
        "outputId": "d270df83-b84a-4520-b9ce-95d40bb5c8ac"
      },
      "cell_type": "code",
      "source": [
        "X_train.select_dtypes(exclude=np.number).nunique()"
      ],
      "execution_count": 41,
      "outputs": [
        {
          "output_type": "execute_result",
          "data": {
            "text/plain": [
              "job            12\n",
              "marital         4\n",
              "education       8\n",
              "default         3\n",
              "housing         3\n",
              "loan            3\n",
              "contact         2\n",
              "month          10\n",
              "day_of_week     5\n",
              "poutcome        3\n",
              "dtype: int64"
            ]
          },
          "metadata": {
            "tags": []
          },
          "execution_count": 41
        }
      ]
    },
    {
      "metadata": {
        "id": "zkPb29HruKO0",
        "colab_type": "text"
      },
      "cell_type": "markdown",
      "source": [
        "Install the Category Encoder library\n",
        "\n",
        "If you're running on Google Colab:\n",
        "\n",
        "```\n",
        "!pip install category_encoders\n",
        "```\n",
        "\n",
        "If you're running locally with Anaconda:\n",
        "\n",
        "```\n",
        "!conda install -c conda-forge category_encoders\n",
        "```"
      ]
    },
    {
      "metadata": {
        "id": "O0M_DG22C1Nq",
        "colab_type": "code",
        "colab": {
          "base_uri": "https://localhost:8080/",
          "height": 280
        },
        "outputId": "e525d5a2-89e3-423e-efe6-d49d2d4d4c67"
      },
      "cell_type": "code",
      "source": [
        "!pip install category_encoders\n"
      ],
      "execution_count": 43,
      "outputs": [
        {
          "output_type": "stream",
          "text": [
            "Collecting category_encoders\n",
            "\u001b[?25l  Downloading https://files.pythonhosted.org/packages/f7/d3/82a4b85a87ece114f6d0139d643580c726efa45fa4db3b81aed38c0156c5/category_encoders-1.3.0-py2.py3-none-any.whl (61kB)\n",
            "\u001b[K    100% |████████████████████████████████| 61kB 2.3MB/s \n",
            "\u001b[?25hRequirement already satisfied: statsmodels>=0.6.1 in /usr/local/lib/python3.6/dist-packages (from category_encoders) (0.8.0)\n",
            "Requirement already satisfied: patsy>=0.4.1 in /usr/local/lib/python3.6/dist-packages (from category_encoders) (0.5.1)\n",
            "Requirement already satisfied: numpy>=1.11.1 in /usr/local/lib/python3.6/dist-packages (from category_encoders) (1.14.6)\n",
            "Requirement already satisfied: pandas>=0.20.1 in /usr/local/lib/python3.6/dist-packages (from category_encoders) (0.22.0)\n",
            "Requirement already satisfied: scikit-learn>=0.17.1 in /usr/local/lib/python3.6/dist-packages (from category_encoders) (0.20.2)\n",
            "Requirement already satisfied: scipy>=0.17.0 in /usr/local/lib/python3.6/dist-packages (from category_encoders) (1.1.0)\n",
            "Requirement already satisfied: six in /usr/local/lib/python3.6/dist-packages (from patsy>=0.4.1->category_encoders) (1.11.0)\n",
            "Requirement already satisfied: pytz>=2011k in /usr/local/lib/python3.6/dist-packages (from pandas>=0.20.1->category_encoders) (2018.9)\n",
            "Requirement already satisfied: python-dateutil>=2 in /usr/local/lib/python3.6/dist-packages (from pandas>=0.20.1->category_encoders) (2.5.3)\n",
            "Installing collected packages: category-encoders\n",
            "Successfully installed category-encoders-1.3.0\n"
          ],
          "name": "stdout"
        }
      ]
    },
    {
      "metadata": {
        "id": "9wDdh3HKuKO2",
        "colab_type": "code",
        "colab": {
          "base_uri": "https://localhost:8080/",
          "height": 35
        },
        "outputId": "dcf136b9-bbf8-42da-f9b6-a08e37286cc1"
      },
      "cell_type": "code",
      "source": [
        "import category_encoders as ce\n",
        "\n",
        "pipeline = make_pipeline(\n",
        "    ce.OneHotEncoder(use_cat_names=True), \n",
        "    StandardScaler(), \n",
        "    LogisticRegression(solver='lbfgs', max_iter=1000)\n",
        ")\n",
        "\n",
        "pipeline.fit(X_train, y_train)\n",
        "\n",
        "y_pred = pipeline.predict(X_val)\n",
        "roc_auc_score(y_val, y_pred)"
      ],
      "execution_count": 44,
      "outputs": [
        {
          "output_type": "execute_result",
          "data": {
            "text/plain": [
              "0.6066043071635647"
            ]
          },
          "metadata": {
            "tags": []
          },
          "execution_count": 44
        }
      ]
    },
    {
      "metadata": {
        "id": "CT644p8mC-ww",
        "colab_type": "code",
        "colab": {}
      },
      "cell_type": "code",
      "source": [
        "#cant get value count from numpy array, change it into series first using pd.Series\n",
        "\n",
        "y_pred_proba = pipeline.predict_proba(X_test)[:,1:]#all rows, only 2nd column"
      ],
      "execution_count": 0,
      "outputs": []
    },
    {
      "metadata": {
        "id": "E-wVBEHvFt6K",
        "colab_type": "code",
        "colab": {}
      },
      "cell_type": "code",
      "source": [
        "submission = sample_submission.copy()\n",
        "submission['y']=pipeline.predict_proba(X_test)[:,1:]\n",
        "submission.to_csv('submission-001.csv',index=False)"
      ],
      "execution_count": 0,
      "outputs": []
    },
    {
      "metadata": {
        "id": "kn8-SK7GG9Fa",
        "colab_type": "code",
        "colab": {
          "base_uri": "https://localhost:8080/",
          "height": 173
        },
        "outputId": "60825b36-4127-474f-d708-be044a5d273a"
      },
      "cell_type": "code",
      "source": [
        "submission.y.describe()"
      ],
      "execution_count": 52,
      "outputs": [
        {
          "output_type": "execute_result",
          "data": {
            "text/plain": [
              "count    10297.000000\n",
              "mean         0.112495\n",
              "std          0.143850\n",
              "min          0.005034\n",
              "25%          0.040380\n",
              "50%          0.059672\n",
              "75%          0.096494\n",
              "max          0.893291\n",
              "Name: y, dtype: float64"
            ]
          },
          "metadata": {
            "tags": []
          },
          "execution_count": 52
        }
      ]
    },
    {
      "metadata": {
        "id": "FKO-sXX4HBjg",
        "colab_type": "code",
        "colab": {
          "base_uri": "https://localhost:8080/",
          "height": 35
        },
        "outputId": "bd83bdc5-2dc1-40ee-f989-05a5818d70e7"
      },
      "cell_type": "code",
      "source": [
        "from google.colab import drive\n",
        "drive.mount('drive')"
      ],
      "execution_count": 60,
      "outputs": [
        {
          "output_type": "stream",
          "text": [
            "Drive already mounted at drive; to attempt to forcibly remount, call drive.mount(\"drive\", force_remount=True).\n"
          ],
          "name": "stdout"
        }
      ]
    },
    {
      "metadata": {
        "id": "sld5I8L9OSO6",
        "colab_type": "code",
        "colab": {}
      },
      "cell_type": "code",
      "source": [
        "submission.to_csv('submission-001.csv')\n",
        "!cp submission-001.csv drive/My\\ Drive/"
      ],
      "execution_count": 0,
      "outputs": []
    },
    {
      "metadata": {
        "id": "Fc9ovvgnPcVw",
        "colab_type": "code",
        "colab": {}
      },
      "cell_type": "code",
      "source": [
        ""
      ],
      "execution_count": 0,
      "outputs": []
    }
  ]
}