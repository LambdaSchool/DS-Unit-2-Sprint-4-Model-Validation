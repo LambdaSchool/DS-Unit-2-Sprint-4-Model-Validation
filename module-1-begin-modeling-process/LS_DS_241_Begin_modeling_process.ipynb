{
  "nbformat": 4,
  "nbformat_minor": 0,
  "metadata": {
    "colab": {
      "name": "LS_DS_241_Begin_modeling_process.ipynb",
      "version": "0.3.2",
      "provenance": [],
      "toc_visible": true,
      "include_colab_link": true
    },
    "kernelspec": {
      "display_name": "Python 3",
      "language": "python",
      "name": "python3"
    }
  },
  "cells": [
    {
      "cell_type": "markdown",
      "metadata": {
        "id": "view-in-github",
        "colab_type": "text"
      },
      "source": [
        "<a href=\"https://colab.research.google.com/github/derek-shing/DS-Unit-2-Sprint-4-Model-Validation/blob/master/module-1-begin-modeling-process/LS_DS_241_Begin_modeling_process.ipynb\" target=\"_parent\"><img src=\"https://colab.research.google.com/assets/colab-badge.svg\" alt=\"Open In Colab\"/></a>"
      ]
    },
    {
      "metadata": {
        "id": "sjRU3WLCzc3Z",
        "colab_type": "text"
      },
      "cell_type": "markdown",
      "source": [
        "_Lambda School Data Science — Model Validation_ \n",
        "\n",
        "# Begin the modeling process\n",
        "\n",
        "Objectives\n",
        "- Train/Validate/Test split\n",
        "- Cross-Validation\n",
        "- Begin with baselines"
      ]
    },
    {
      "metadata": {
        "id": "GaLrOj4bzc3m",
        "colab_type": "text"
      },
      "cell_type": "markdown",
      "source": [
        "## Get the Bank Marketing dataset\n",
        "\n",
        "You have several ways you can get the dataset:\n",
        "\n",
        "#### Kaggle\n",
        "- Download from the [Kaggle competition page](https://www.kaggle.com/c/ds2-model-validation/data)\n",
        "- Use the Kaggle API\n",
        "\n",
        "#### GitHub\n",
        "- Clone the [repo](https://github.com/LambdaSchool/DS-Unit-2-Sprint-4-Model-Validation/tree/master/module-1-begin-modeling-process/bank-marketing)\n",
        "- Download from the repo:"
      ]
    },
    {
      "metadata": {
        "id": "NRjxPyadzc3q",
        "colab_type": "code",
        "colab": {
          "base_uri": "https://localhost:8080/",
          "height": 785
        },
        "outputId": "65ec5b6f-bfa6-4676-b9a8-07ddc3a5f290"
      },
      "cell_type": "code",
      "source": [
        "!wget https://raw.githubusercontent.com/LambdaSchool/DS-Unit-2-Sprint-4-Model-Validation/master/module-1-begin-modeling-process/bank-marketing/train_features.csv\n",
        "!wget https://raw.githubusercontent.com/LambdaSchool/DS-Unit-2-Sprint-4-Model-Validation/master/module-1-begin-modeling-process/bank-marketing/train_labels.csv\n",
        "!wget https://raw.githubusercontent.com/LambdaSchool/DS-Unit-2-Sprint-4-Model-Validation/master/module-1-begin-modeling-process/bank-marketing/test_features.csv\n",
        "!wget https://raw.githubusercontent.com/LambdaSchool/DS-Unit-2-Sprint-4-Model-Validation/master/module-1-begin-modeling-process/bank-marketing/sample_submission.csv   "
      ],
      "execution_count": 2,
      "outputs": [
        {
          "output_type": "stream",
          "text": [
            "--2019-03-04 22:26:12--  https://raw.githubusercontent.com/LambdaSchool/DS-Unit-2-Sprint-4-Model-Validation/master/module-1-begin-modeling-process/bank-marketing/train_features.csv\n",
            "Resolving raw.githubusercontent.com (raw.githubusercontent.com)... 151.101.0.133, 151.101.64.133, 151.101.128.133, ...\n",
            "Connecting to raw.githubusercontent.com (raw.githubusercontent.com)|151.101.0.133|:443... connected.\n",
            "HTTP request sent, awaiting response... 200 OK\n",
            "Length: 3833210 (3.7M) [text/plain]\n",
            "Saving to: ‘train_features.csv.1’\n",
            "\n",
            "train_features.csv. 100%[===================>]   3.66M  --.-KB/s    in 0.1s    \n",
            "\n",
            "2019-03-04 22:26:13 (35.0 MB/s) - ‘train_features.csv.1’ saved [3833210/3833210]\n",
            "\n",
            "--2019-03-04 22:26:14--  https://raw.githubusercontent.com/LambdaSchool/DS-Unit-2-Sprint-4-Model-Validation/master/module-1-begin-modeling-process/bank-marketing/train_labels.csv\n",
            "Resolving raw.githubusercontent.com (raw.githubusercontent.com)... 151.101.0.133, 151.101.64.133, 151.101.128.133, ...\n",
            "Connecting to raw.githubusercontent.com (raw.githubusercontent.com)|151.101.0.133|:443... connected.\n",
            "HTTP request sent, awaiting response... 200 OK\n",
            "Length: 247133 (241K) [text/plain]\n",
            "Saving to: ‘train_labels.csv.1’\n",
            "\n",
            "train_labels.csv.1  100%[===================>] 241.34K  --.-KB/s    in 0.05s   \n",
            "\n",
            "2019-03-04 22:26:14 (4.73 MB/s) - ‘train_labels.csv.1’ saved [247133/247133]\n",
            "\n",
            "--2019-03-04 22:26:15--  https://raw.githubusercontent.com/LambdaSchool/DS-Unit-2-Sprint-4-Model-Validation/master/module-1-begin-modeling-process/bank-marketing/test_features.csv\n",
            "Resolving raw.githubusercontent.com (raw.githubusercontent.com)... 151.101.0.133, 151.101.64.133, 151.101.128.133, ...\n",
            "Connecting to raw.githubusercontent.com (raw.githubusercontent.com)|151.101.0.133|:443... connected.\n",
            "HTTP request sent, awaiting response... 200 OK\n",
            "Length: 1277012 (1.2M) [text/plain]\n",
            "Saving to: ‘test_features.csv.1’\n",
            "\n",
            "test_features.csv.1 100%[===================>]   1.22M  --.-KB/s    in 0.08s   \n",
            "\n",
            "2019-03-04 22:26:15 (15.3 MB/s) - ‘test_features.csv.1’ saved [1277012/1277012]\n",
            "\n",
            "--2019-03-04 22:26:16--  https://raw.githubusercontent.com/LambdaSchool/DS-Unit-2-Sprint-4-Model-Validation/master/module-1-begin-modeling-process/bank-marketing/sample_submission.csv\n",
            "Resolving raw.githubusercontent.com (raw.githubusercontent.com)... 151.101.0.133, 151.101.64.133, 151.101.128.133, ...\n",
            "Connecting to raw.githubusercontent.com (raw.githubusercontent.com)|151.101.0.133|:443... connected.\n",
            "HTTP request sent, awaiting response... 200 OK\n",
            "Length: 102975 (101K) [text/plain]\n",
            "Saving to: ‘sample_submission.csv.1’\n",
            "\n",
            "sample_submission.c 100%[===================>] 100.56K  --.-KB/s    in 0.04s   \n",
            "\n",
            "2019-03-04 22:26:16 (2.72 MB/s) - ‘sample_submission.csv.1’ saved [102975/102975]\n",
            "\n"
          ],
          "name": "stdout"
        }
      ]
    },
    {
      "metadata": {
        "id": "7QFw4RFgzc4h",
        "colab_type": "code",
        "colab": {
          "base_uri": "https://localhost:8080/",
          "height": 51
        },
        "outputId": "a8e47178-e414-4849-dc5b-03aa6bffdbb2"
      },
      "cell_type": "code",
      "source": [
        "%cd bank-marketing"
      ],
      "execution_count": 3,
      "outputs": [
        {
          "output_type": "stream",
          "text": [
            "[Errno 2] No such file or directory: 'bank-marketing'\n",
            "/content\n"
          ],
          "name": "stdout"
        }
      ]
    },
    {
      "metadata": {
        "id": "t9rcSfvx0WOW",
        "colab_type": "code",
        "colab": {}
      },
      "cell_type": "code",
      "source": [
        "content/test_features.csv"
      ],
      "execution_count": 0,
      "outputs": []
    },
    {
      "metadata": {
        "id": "whp7GHBbzc47",
        "colab_type": "code",
        "colab": {
          "base_uri": "https://localhost:8080/",
          "height": 34
        },
        "outputId": "534ddd3b-ec44-40b7-b4b0-e06204026fc4"
      },
      "cell_type": "code",
      "source": [
        "import pandas as pd\n",
        "\n",
        "train_features = pd.read_csv('/content/train_features.csv.1')\n",
        "train_labels = pd.read_csv('/content/train_labels.csv.1')\n",
        "test_features = pd.read_csv('/content/test_features.csv.1')\n",
        "sample_submission = pd.read_csv('/content/sample_submission.csv.1')\n",
        "\n",
        "train_features.shape, train_labels.shape, test_features.shape, sample_submission.shape"
      ],
      "execution_count": 6,
      "outputs": [
        {
          "output_type": "execute_result",
          "data": {
            "text/plain": [
              "((30891, 20), (30891, 2), (10297, 20), (10297, 2))"
            ]
          },
          "metadata": {
            "tags": []
          },
          "execution_count": 6
        }
      ]
    },
    {
      "metadata": {
        "id": "AxfQzt_wzc5M",
        "colab_type": "code",
        "colab": {}
      },
      "cell_type": "code",
      "source": [
        "y_train = train_labels['y']\n",
        "X_train = train_features.drop(columns='id')\n",
        "X_test  = test_features.drop(columns='id')"
      ],
      "execution_count": 0,
      "outputs": []
    },
    {
      "metadata": {
        "id": "xeJB-WAizc5U",
        "colab_type": "text"
      },
      "cell_type": "markdown",
      "source": [
        "## Train/Validation/Test split"
      ]
    },
    {
      "metadata": {
        "id": "OstXRZiEzc5n",
        "colab_type": "text"
      },
      "cell_type": "markdown",
      "source": [
        "How can we get from a two-way split, to a three-way split?\n",
        "\n",
        "We can use the [**`sklearn.model_selection.train_test_split`**](https://scikit-learn.org/stable/modules/generated/sklearn.model_selection.train_test_split.html) function to split the training data into training and validation data."
      ]
    },
    {
      "metadata": {
        "id": "Wiul3aXLzc5p",
        "colab_type": "code",
        "colab": {
          "base_uri": "https://localhost:8080/",
          "height": 34
        },
        "outputId": "82b57475-bf58-4f31-ebdb-af60f84f89f4"
      },
      "cell_type": "code",
      "source": [
        "from sklearn.model_selection import train_test_split\n",
        "X_train, X_val, y_train, y_val = train_test_split(X_train, y_train)\n",
        "X_train.shape, X_val.shape, y_train.shape, y_val.shape"
      ],
      "execution_count": 9,
      "outputs": [
        {
          "output_type": "execute_result",
          "data": {
            "text/plain": [
              "((23168, 19), (7723, 19), (23168,), (7723,))"
            ]
          },
          "metadata": {
            "tags": []
          },
          "execution_count": 9
        }
      ]
    },
    {
      "metadata": {
        "id": "ok8IUXOjzc6B",
        "colab_type": "text"
      },
      "cell_type": "markdown",
      "source": [
        "Fit on the training set.\n",
        "\n",
        "Predict and score with the validation set."
      ]
    },
    {
      "metadata": {
        "id": "-l3BKKdezc6K",
        "colab_type": "text"
      },
      "cell_type": "markdown",
      "source": [
        "## Majority class baseline"
      ]
    },
    {
      "metadata": {
        "id": "tSfQ3ogqzc6N",
        "colab_type": "text"
      },
      "cell_type": "markdown",
      "source": [
        "Determine the majority class:"
      ]
    },
    {
      "metadata": {
        "id": "rYXahl9zzc6S",
        "colab_type": "code",
        "colab": {
          "base_uri": "https://localhost:8080/",
          "height": 68
        },
        "outputId": "657fa27b-31b5-4a5e-88fb-34915b05953e"
      },
      "cell_type": "code",
      "source": [
        "y_train.value_counts(normalize=True)"
      ],
      "execution_count": 10,
      "outputs": [
        {
          "output_type": "execute_result",
          "data": {
            "text/plain": [
              "0    0.886266\n",
              "1    0.113734\n",
              "Name: y, dtype: float64"
            ]
          },
          "metadata": {
            "tags": []
          },
          "execution_count": 10
        }
      ]
    },
    {
      "metadata": {
        "id": "1OWjyOMIzc6f",
        "colab_type": "text"
      },
      "cell_type": "markdown",
      "source": [
        "Guess the majority class for every prediction:"
      ]
    },
    {
      "metadata": {
        "id": "8nxfOCOzzc6j",
        "colab_type": "code",
        "colab": {}
      },
      "cell_type": "code",
      "source": [
        "majority_class = 0\n",
        "y_pred = [majority_class] * len(y_val)"
      ],
      "execution_count": 0,
      "outputs": []
    },
    {
      "metadata": {
        "id": "wuGrro7Uzc6x",
        "colab_type": "text"
      },
      "cell_type": "markdown",
      "source": [
        "#### [`sklearn.metrics.accuracy_score`](https://scikit-learn.org/stable/modules/generated/sklearn.metrics.accuracy_score.html)\n",
        "\n",
        "Baseline accuracy by guessing the majority class for every prediction:"
      ]
    },
    {
      "metadata": {
        "id": "_And8952zc6z",
        "colab_type": "code",
        "colab": {
          "base_uri": "https://localhost:8080/",
          "height": 34
        },
        "outputId": "b2fd01a3-48df-459e-cafa-75c447df597a"
      },
      "cell_type": "code",
      "source": [
        "from sklearn.metrics import accuracy_score\n",
        "accuracy_score(y_val, y_pred)"
      ],
      "execution_count": 12,
      "outputs": [
        {
          "output_type": "execute_result",
          "data": {
            "text/plain": [
              "0.8905865596270879"
            ]
          },
          "metadata": {
            "tags": []
          },
          "execution_count": 12
        }
      ]
    },
    {
      "metadata": {
        "id": "d_0WgxTBzc65",
        "colab_type": "text"
      },
      "cell_type": "markdown",
      "source": [
        "#### [`sklearn.metrics.roc_auc_score`](https://scikit-learn.org/stable/modules/generated/sklearn.metrics.roc_auc_score.html)\n",
        "\n",
        "Baseline \"ROC AUC\" score by guessing the majority class for every prediction:"
      ]
    },
    {
      "metadata": {
        "id": "ab87THDjzc7d",
        "colab_type": "code",
        "colab": {
          "base_uri": "https://localhost:8080/",
          "height": 34
        },
        "outputId": "a64d123b-b8ac-4c39-a76b-d215ff12cbc8"
      },
      "cell_type": "code",
      "source": [
        "from sklearn.metrics import roc_auc_score\n",
        "roc_auc_score(y_val, y_pred)"
      ],
      "execution_count": 13,
      "outputs": [
        {
          "output_type": "execute_result",
          "data": {
            "text/plain": [
              "0.5"
            ]
          },
          "metadata": {
            "tags": []
          },
          "execution_count": 13
        }
      ]
    },
    {
      "metadata": {
        "id": "rXFX28p1zc7p",
        "colab_type": "text"
      },
      "cell_type": "markdown",
      "source": [
        "## Fast first models"
      ]
    },
    {
      "metadata": {
        "id": "SCqwuw_wzc7t",
        "colab_type": "text"
      },
      "cell_type": "markdown",
      "source": [
        "### Ignore rows/columns with nulls"
      ]
    },
    {
      "metadata": {
        "id": "PDkL7iD3zc7u",
        "colab_type": "text"
      },
      "cell_type": "markdown",
      "source": [
        "This dataset doesn't have any nulls:"
      ]
    },
    {
      "metadata": {
        "id": "y1j3hNabzc7z",
        "colab_type": "code",
        "colab": {}
      },
      "cell_type": "code",
      "source": [
        "X_train.isnull().sum()"
      ],
      "execution_count": 0,
      "outputs": []
    },
    {
      "metadata": {
        "id": "0_hoFIxKzc78",
        "colab_type": "text"
      },
      "cell_type": "markdown",
      "source": [
        "### Ignore nonnumeric features"
      ]
    },
    {
      "metadata": {
        "id": "HX0C75m4zc8A",
        "colab_type": "text"
      },
      "cell_type": "markdown",
      "source": [
        "Here are the numeric features:"
      ]
    },
    {
      "metadata": {
        "id": "sJcLs-inzc8G",
        "colab_type": "code",
        "colab": {
          "base_uri": "https://localhost:8080/",
          "height": 317
        },
        "outputId": "096ba4a1-9100-46b1-fda6-7f019c05b500"
      },
      "cell_type": "code",
      "source": [
        "import numpy as np\n",
        "X_train.describe(include=np.number)"
      ],
      "execution_count": 16,
      "outputs": [
        {
          "output_type": "execute_result",
          "data": {
            "text/html": [
              "<div>\n",
              "<style scoped>\n",
              "    .dataframe tbody tr th:only-of-type {\n",
              "        vertical-align: middle;\n",
              "    }\n",
              "\n",
              "    .dataframe tbody tr th {\n",
              "        vertical-align: top;\n",
              "    }\n",
              "\n",
              "    .dataframe thead th {\n",
              "        text-align: right;\n",
              "    }\n",
              "</style>\n",
              "<table border=\"1\" class=\"dataframe\">\n",
              "  <thead>\n",
              "    <tr style=\"text-align: right;\">\n",
              "      <th></th>\n",
              "      <th>age</th>\n",
              "      <th>campaign</th>\n",
              "      <th>pdays</th>\n",
              "      <th>previous</th>\n",
              "      <th>emp.var.rate</th>\n",
              "      <th>cons.price.idx</th>\n",
              "      <th>cons.conf.idx</th>\n",
              "      <th>euribor3m</th>\n",
              "      <th>nr.employed</th>\n",
              "    </tr>\n",
              "  </thead>\n",
              "  <tbody>\n",
              "    <tr>\n",
              "      <th>count</th>\n",
              "      <td>23168.000000</td>\n",
              "      <td>23168.000000</td>\n",
              "      <td>23168.000000</td>\n",
              "      <td>23168.000000</td>\n",
              "      <td>23168.000000</td>\n",
              "      <td>23168.000000</td>\n",
              "      <td>23168.000000</td>\n",
              "      <td>23168.000000</td>\n",
              "      <td>23168.000000</td>\n",
              "    </tr>\n",
              "    <tr>\n",
              "      <th>mean</th>\n",
              "      <td>39.964952</td>\n",
              "      <td>2.558745</td>\n",
              "      <td>962.093103</td>\n",
              "      <td>0.175199</td>\n",
              "      <td>0.083348</td>\n",
              "      <td>93.575132</td>\n",
              "      <td>-40.493918</td>\n",
              "      <td>3.621091</td>\n",
              "      <td>5166.979118</td>\n",
              "    </tr>\n",
              "    <tr>\n",
              "      <th>std</th>\n",
              "      <td>10.372040</td>\n",
              "      <td>2.783834</td>\n",
              "      <td>187.862101</td>\n",
              "      <td>0.501901</td>\n",
              "      <td>1.572407</td>\n",
              "      <td>0.577146</td>\n",
              "      <td>4.632871</td>\n",
              "      <td>1.735941</td>\n",
              "      <td>72.352461</td>\n",
              "    </tr>\n",
              "    <tr>\n",
              "      <th>min</th>\n",
              "      <td>17.000000</td>\n",
              "      <td>1.000000</td>\n",
              "      <td>0.000000</td>\n",
              "      <td>0.000000</td>\n",
              "      <td>-3.400000</td>\n",
              "      <td>92.201000</td>\n",
              "      <td>-50.800000</td>\n",
              "      <td>0.634000</td>\n",
              "      <td>4963.600000</td>\n",
              "    </tr>\n",
              "    <tr>\n",
              "      <th>25%</th>\n",
              "      <td>32.000000</td>\n",
              "      <td>1.000000</td>\n",
              "      <td>999.000000</td>\n",
              "      <td>0.000000</td>\n",
              "      <td>-1.800000</td>\n",
              "      <td>93.075000</td>\n",
              "      <td>-42.700000</td>\n",
              "      <td>1.344000</td>\n",
              "      <td>5099.100000</td>\n",
              "    </tr>\n",
              "    <tr>\n",
              "      <th>50%</th>\n",
              "      <td>38.000000</td>\n",
              "      <td>2.000000</td>\n",
              "      <td>999.000000</td>\n",
              "      <td>0.000000</td>\n",
              "      <td>1.100000</td>\n",
              "      <td>93.749000</td>\n",
              "      <td>-41.800000</td>\n",
              "      <td>4.857000</td>\n",
              "      <td>5191.000000</td>\n",
              "    </tr>\n",
              "    <tr>\n",
              "      <th>75%</th>\n",
              "      <td>47.000000</td>\n",
              "      <td>3.000000</td>\n",
              "      <td>999.000000</td>\n",
              "      <td>0.000000</td>\n",
              "      <td>1.400000</td>\n",
              "      <td>93.994000</td>\n",
              "      <td>-36.400000</td>\n",
              "      <td>4.961000</td>\n",
              "      <td>5228.100000</td>\n",
              "    </tr>\n",
              "    <tr>\n",
              "      <th>max</th>\n",
              "      <td>98.000000</td>\n",
              "      <td>56.000000</td>\n",
              "      <td>999.000000</td>\n",
              "      <td>6.000000</td>\n",
              "      <td>1.400000</td>\n",
              "      <td>94.767000</td>\n",
              "      <td>-26.900000</td>\n",
              "      <td>5.045000</td>\n",
              "      <td>5228.100000</td>\n",
              "    </tr>\n",
              "  </tbody>\n",
              "</table>\n",
              "</div>"
            ],
            "text/plain": [
              "                age      campaign         pdays      previous  emp.var.rate  \\\n",
              "count  23168.000000  23168.000000  23168.000000  23168.000000  23168.000000   \n",
              "mean      39.964952      2.558745    962.093103      0.175199      0.083348   \n",
              "std       10.372040      2.783834    187.862101      0.501901      1.572407   \n",
              "min       17.000000      1.000000      0.000000      0.000000     -3.400000   \n",
              "25%       32.000000      1.000000    999.000000      0.000000     -1.800000   \n",
              "50%       38.000000      2.000000    999.000000      0.000000      1.100000   \n",
              "75%       47.000000      3.000000    999.000000      0.000000      1.400000   \n",
              "max       98.000000     56.000000    999.000000      6.000000      1.400000   \n",
              "\n",
              "       cons.price.idx  cons.conf.idx     euribor3m   nr.employed  \n",
              "count    23168.000000   23168.000000  23168.000000  23168.000000  \n",
              "mean        93.575132     -40.493918      3.621091   5166.979118  \n",
              "std          0.577146       4.632871      1.735941     72.352461  \n",
              "min         92.201000     -50.800000      0.634000   4963.600000  \n",
              "25%         93.075000     -42.700000      1.344000   5099.100000  \n",
              "50%         93.749000     -41.800000      4.857000   5191.000000  \n",
              "75%         93.994000     -36.400000      4.961000   5228.100000  \n",
              "max         94.767000     -26.900000      5.045000   5228.100000  "
            ]
          },
          "metadata": {
            "tags": []
          },
          "execution_count": 16
        }
      ]
    },
    {
      "metadata": {
        "id": "lexWjtBizc8V",
        "colab_type": "text"
      },
      "cell_type": "markdown",
      "source": [
        "Here are the nonnumeric features:"
      ]
    },
    {
      "metadata": {
        "id": "JfEu2j0Czc8W",
        "colab_type": "code",
        "colab": {
          "base_uri": "https://localhost:8080/",
          "height": 173
        },
        "outputId": "77a306e5-b0d4-46ca-e057-63786fb15095"
      },
      "cell_type": "code",
      "source": [
        "X_train.describe(exclude=np.number)"
      ],
      "execution_count": 17,
      "outputs": [
        {
          "output_type": "execute_result",
          "data": {
            "text/html": [
              "<div>\n",
              "<style scoped>\n",
              "    .dataframe tbody tr th:only-of-type {\n",
              "        vertical-align: middle;\n",
              "    }\n",
              "\n",
              "    .dataframe tbody tr th {\n",
              "        vertical-align: top;\n",
              "    }\n",
              "\n",
              "    .dataframe thead th {\n",
              "        text-align: right;\n",
              "    }\n",
              "</style>\n",
              "<table border=\"1\" class=\"dataframe\">\n",
              "  <thead>\n",
              "    <tr style=\"text-align: right;\">\n",
              "      <th></th>\n",
              "      <th>job</th>\n",
              "      <th>marital</th>\n",
              "      <th>education</th>\n",
              "      <th>default</th>\n",
              "      <th>housing</th>\n",
              "      <th>loan</th>\n",
              "      <th>contact</th>\n",
              "      <th>month</th>\n",
              "      <th>day_of_week</th>\n",
              "      <th>poutcome</th>\n",
              "    </tr>\n",
              "  </thead>\n",
              "  <tbody>\n",
              "    <tr>\n",
              "      <th>count</th>\n",
              "      <td>23168</td>\n",
              "      <td>23168</td>\n",
              "      <td>23168</td>\n",
              "      <td>23168</td>\n",
              "      <td>23168</td>\n",
              "      <td>23168</td>\n",
              "      <td>23168</td>\n",
              "      <td>23168</td>\n",
              "      <td>23168</td>\n",
              "      <td>23168</td>\n",
              "    </tr>\n",
              "    <tr>\n",
              "      <th>unique</th>\n",
              "      <td>12</td>\n",
              "      <td>4</td>\n",
              "      <td>8</td>\n",
              "      <td>3</td>\n",
              "      <td>3</td>\n",
              "      <td>3</td>\n",
              "      <td>2</td>\n",
              "      <td>10</td>\n",
              "      <td>5</td>\n",
              "      <td>3</td>\n",
              "    </tr>\n",
              "    <tr>\n",
              "      <th>top</th>\n",
              "      <td>admin.</td>\n",
              "      <td>married</td>\n",
              "      <td>university.degree</td>\n",
              "      <td>no</td>\n",
              "      <td>yes</td>\n",
              "      <td>no</td>\n",
              "      <td>cellular</td>\n",
              "      <td>may</td>\n",
              "      <td>thu</td>\n",
              "      <td>nonexistent</td>\n",
              "    </tr>\n",
              "    <tr>\n",
              "      <th>freq</th>\n",
              "      <td>5951</td>\n",
              "      <td>14003</td>\n",
              "      <td>6826</td>\n",
              "      <td>18265</td>\n",
              "      <td>12137</td>\n",
              "      <td>19088</td>\n",
              "      <td>14741</td>\n",
              "      <td>7773</td>\n",
              "      <td>4813</td>\n",
              "      <td>19989</td>\n",
              "    </tr>\n",
              "  </tbody>\n",
              "</table>\n",
              "</div>"
            ],
            "text/plain": [
              "           job  marital          education default housing   loan   contact  \\\n",
              "count    23168    23168              23168   23168   23168  23168     23168   \n",
              "unique      12        4                  8       3       3      3         2   \n",
              "top     admin.  married  university.degree      no     yes     no  cellular   \n",
              "freq      5951    14003               6826   18265   12137  19088     14741   \n",
              "\n",
              "        month day_of_week     poutcome  \n",
              "count   23168       23168        23168  \n",
              "unique     10           5            3  \n",
              "top       may         thu  nonexistent  \n",
              "freq     7773        4813        19989  "
            ]
          },
          "metadata": {
            "tags": []
          },
          "execution_count": 17
        }
      ]
    },
    {
      "metadata": {
        "id": "FqoyWRbrzc8v",
        "colab_type": "text"
      },
      "cell_type": "markdown",
      "source": [
        "Just select the nonnumeric features:"
      ]
    },
    {
      "metadata": {
        "id": "3DO6Jr4Wzc8y",
        "colab_type": "code",
        "colab": {}
      },
      "cell_type": "code",
      "source": [
        "X_train_numeric = X_train.select_dtypes(np.number)\n",
        "X_val_numeric = X_val.select_dtypes(np.number)"
      ],
      "execution_count": 0,
      "outputs": []
    },
    {
      "metadata": {
        "id": "G3dAOEy4zc9J",
        "colab_type": "code",
        "colab": {
          "base_uri": "https://localhost:8080/",
          "height": 34
        },
        "outputId": "f2ac01c6-7370-4683-90fe-4bf48b6d6482"
      },
      "cell_type": "code",
      "source": [
        "from sklearn.linear_model import LogisticRegression\n",
        "\n",
        "model = LogisticRegression(solver='lbfgs', max_iter=1000)\n",
        "model.fit(X_train_numeric, y_train)\n",
        "\n",
        "y_pred = model.predict(X_val_numeric)\n",
        "roc_auc_score(y_val, y_pred)"
      ],
      "execution_count": 19,
      "outputs": [
        {
          "output_type": "execute_result",
          "data": {
            "text/plain": [
              "0.5968521535949456"
            ]
          },
          "metadata": {
            "tags": []
          },
          "execution_count": 19
        }
      ]
    },
    {
      "metadata": {
        "id": "cDiK-q93zc9X",
        "colab_type": "text"
      },
      "cell_type": "markdown",
      "source": [
        "### With Scaler"
      ]
    },
    {
      "metadata": {
        "id": "NDF_tJBVzc9Z",
        "colab_type": "code",
        "colab": {
          "base_uri": "https://localhost:8080/",
          "height": 34
        },
        "outputId": "9bc43fd9-c6cb-49b5-e742-e97e7be31c94"
      },
      "cell_type": "code",
      "source": [
        "from sklearn.exceptions import DataConversionWarning\n",
        "from sklearn.preprocessing import StandardScaler\n",
        "import warnings\n",
        "warnings.filterwarnings(action='ignore', category=DataConversionWarning)\n",
        "\n",
        "scaler = StandardScaler()\n",
        "X_train_scaled = scaler.fit_transform(X_train_numeric)\n",
        "X_val_scaled = scaler.transform(X_val_numeric)\n",
        "\n",
        "model = LogisticRegression(solver='lbfgs', max_iter=1000)\n",
        "model.fit(X_train_numeric, y_train)\n",
        "\n",
        "y_pred = model.predict(X_val_scaled)\n",
        "roc_auc_score(y_val, y_pred)"
      ],
      "execution_count": 20,
      "outputs": [
        {
          "output_type": "execute_result",
          "data": {
            "text/plain": [
              "0.5516752668227828"
            ]
          },
          "metadata": {
            "tags": []
          },
          "execution_count": 20
        }
      ]
    },
    {
      "metadata": {
        "id": "66YDqQmQzc9k",
        "colab_type": "text"
      },
      "cell_type": "markdown",
      "source": [
        "### Same, as a pipeline"
      ]
    },
    {
      "metadata": {
        "id": "T4uiwG70zc9l",
        "colab_type": "code",
        "colab": {
          "base_uri": "https://localhost:8080/",
          "height": 34
        },
        "outputId": "d795ea39-40aa-4f53-c631-220ae3b35144"
      },
      "cell_type": "code",
      "source": [
        "from sklearn.pipeline import make_pipeline\n",
        "\n",
        "pipeline = make_pipeline(\n",
        "    StandardScaler(), \n",
        "    LogisticRegression(solver='lbfgs')\n",
        ")\n",
        "\n",
        "pipeline.fit(X_train_numeric, y_train)\n",
        "\n",
        "y_pred = pipeline.predict(X_val_numeric)\n",
        "roc_auc_score(y_val, y_pred)"
      ],
      "execution_count": 21,
      "outputs": [
        {
          "output_type": "execute_result",
          "data": {
            "text/plain": [
              "0.5959595038464119"
            ]
          },
          "metadata": {
            "tags": []
          },
          "execution_count": 21
        }
      ]
    },
    {
      "metadata": {
        "id": "28rEioKMzc9y",
        "colab_type": "text"
      },
      "cell_type": "markdown",
      "source": [
        "### Encode \"low cardinality\" categoricals"
      ]
    },
    {
      "metadata": {
        "id": "65mtl4P9zc9z",
        "colab_type": "text"
      },
      "cell_type": "markdown",
      "source": [
        "One-hot encode the \"low cardinality\" categoricals"
      ]
    },
    {
      "metadata": {
        "id": "IhzgZEh1zc96",
        "colab_type": "code",
        "colab": {
          "base_uri": "https://localhost:8080/",
          "height": 204
        },
        "outputId": "dda9a39f-62c5-452e-a83e-2da21b4f0cfb"
      },
      "cell_type": "code",
      "source": [
        "X_train.select_dtypes(exclude=np.number).nunique()"
      ],
      "execution_count": 22,
      "outputs": [
        {
          "output_type": "execute_result",
          "data": {
            "text/plain": [
              "job            12\n",
              "marital         4\n",
              "education       8\n",
              "default         3\n",
              "housing         3\n",
              "loan            3\n",
              "contact         2\n",
              "month          10\n",
              "day_of_week     5\n",
              "poutcome        3\n",
              "dtype: int64"
            ]
          },
          "metadata": {
            "tags": []
          },
          "execution_count": 22
        }
      ]
    },
    {
      "metadata": {
        "id": "9VMwC80dzc-I",
        "colab_type": "text"
      },
      "cell_type": "markdown",
      "source": [
        "Install the Category Encoder library\n",
        "\n",
        "If you're running on Google Colab:\n",
        "\n",
        "```\n",
        "!pip install category_encoders\n",
        "```\n",
        "\n",
        "If you're running locally with Anaconda:\n",
        "\n",
        "```\n",
        "!conda install -c conda-forge category_encoders\n",
        "```"
      ]
    },
    {
      "metadata": {
        "id": "g6rNkzVH2DaK",
        "colab_type": "code",
        "colab": {
          "base_uri": "https://localhost:8080/",
          "height": 275
        },
        "outputId": "2821a0fe-e22f-4663-fad2-c94913fbedcb"
      },
      "cell_type": "code",
      "source": [
        "!pip install category_encoders\n"
      ],
      "execution_count": 24,
      "outputs": [
        {
          "output_type": "stream",
          "text": [
            "Collecting category_encoders\n",
            "\u001b[?25l  Downloading https://files.pythonhosted.org/packages/f7/d3/82a4b85a87ece114f6d0139d643580c726efa45fa4db3b81aed38c0156c5/category_encoders-1.3.0-py2.py3-none-any.whl (61kB)\n",
            "\u001b[K    100% |████████████████████████████████| 61kB 1.8MB/s \n",
            "\u001b[?25hRequirement already satisfied: numpy>=1.11.1 in /usr/local/lib/python3.6/dist-packages (from category_encoders) (1.14.6)\n",
            "Requirement already satisfied: scipy>=0.17.0 in /usr/local/lib/python3.6/dist-packages (from category_encoders) (1.1.0)\n",
            "Requirement already satisfied: scikit-learn>=0.17.1 in /usr/local/lib/python3.6/dist-packages (from category_encoders) (0.20.2)\n",
            "Requirement already satisfied: statsmodels>=0.6.1 in /usr/local/lib/python3.6/dist-packages (from category_encoders) (0.8.0)\n",
            "Requirement already satisfied: patsy>=0.4.1 in /usr/local/lib/python3.6/dist-packages (from category_encoders) (0.5.1)\n",
            "Requirement already satisfied: pandas>=0.20.1 in /usr/local/lib/python3.6/dist-packages (from category_encoders) (0.22.0)\n",
            "Requirement already satisfied: six in /usr/local/lib/python3.6/dist-packages (from patsy>=0.4.1->category_encoders) (1.11.0)\n",
            "Requirement already satisfied: python-dateutil>=2 in /usr/local/lib/python3.6/dist-packages (from pandas>=0.20.1->category_encoders) (2.5.3)\n",
            "Requirement already satisfied: pytz>=2011k in /usr/local/lib/python3.6/dist-packages (from pandas>=0.20.1->category_encoders) (2018.9)\n",
            "Installing collected packages: category-encoders\n",
            "Successfully installed category-encoders-1.3.0\n"
          ],
          "name": "stdout"
        }
      ]
    },
    {
      "metadata": {
        "id": "M8tjJ87Zzc-J",
        "colab_type": "code",
        "colab": {
          "base_uri": "https://localhost:8080/",
          "height": 34
        },
        "outputId": "6fd90423-189c-41ff-f7c3-bcb0e21a0061"
      },
      "cell_type": "code",
      "source": [
        "import category_encoders as ce\n",
        "\n",
        "pipeline = make_pipeline(\n",
        "    ce.OneHotEncoder(use_cat_names=True), \n",
        "    StandardScaler(), \n",
        "    LogisticRegression(solver='lbfgs', max_iter=1000)\n",
        ")\n",
        "\n",
        "pipeline.fit(X_train, y_train)\n",
        "\n",
        "y_pred = pipeline.predict(X_val)\n",
        "roc_auc_score(y_val, y_pred)"
      ],
      "execution_count": 65,
      "outputs": [
        {
          "output_type": "execute_result",
          "data": {
            "text/plain": [
              "0.6186510114575071"
            ]
          },
          "metadata": {
            "tags": []
          },
          "execution_count": 65
        }
      ]
    },
    {
      "metadata": {
        "id": "gZfRCF1T7bY7",
        "colab_type": "code",
        "colab": {}
      },
      "cell_type": "code",
      "source": [
        "y_test_pred = pipeline.predict(X_test)"
      ],
      "execution_count": 0,
      "outputs": []
    },
    {
      "metadata": {
        "id": "q_lnAby58N28",
        "colab_type": "code",
        "colab": {}
      },
      "cell_type": "code",
      "source": [
        "y_test_pred=pd.DataFrame(y_test_pred)"
      ],
      "execution_count": 0,
      "outputs": []
    },
    {
      "metadata": {
        "id": "bYw8hqOG9HWr",
        "colab_type": "code",
        "colab": {}
      },
      "cell_type": "code",
      "source": [
        "y_test_pred"
      ],
      "execution_count": 0,
      "outputs": []
    },
    {
      "metadata": {
        "id": "CjIhkM8U88NE",
        "colab_type": "code",
        "colab": {
          "base_uri": "https://localhost:8080/",
          "height": 68
        },
        "outputId": "d3c64eed-c865-4b02-acf6-a51a72d71f38"
      },
      "cell_type": "code",
      "source": [
        "y_test_pred[0].value_counts()"
      ],
      "execution_count": 43,
      "outputs": [
        {
          "output_type": "execute_result",
          "data": {
            "text/plain": [
              "0    9913\n",
              "1     384\n",
              "Name: 0, dtype: int64"
            ]
          },
          "metadata": {
            "tags": []
          },
          "execution_count": 43
        }
      ]
    },
    {
      "metadata": {
        "id": "yurI6DEX_7sq",
        "colab_type": "code",
        "colab": {}
      },
      "cell_type": "code",
      "source": [
        "y_test_pred['id'] = test_features['id']"
      ],
      "execution_count": 0,
      "outputs": []
    },
    {
      "metadata": {
        "id": "8V8GncNcAnfo",
        "colab_type": "code",
        "colab": {}
      },
      "cell_type": "code",
      "source": [
        "y_test_pred = y_test_pred.rename(columns={0: 'y'})"
      ],
      "execution_count": 0,
      "outputs": []
    },
    {
      "metadata": {
        "id": "V-7sehhJ4CvF",
        "colab_type": "code",
        "colab": {}
      },
      "cell_type": "code",
      "source": [
        "from google.colab import files\n",
        "\n",
        "y_test_pred.to_csv('test_labels.csv',index=False)\n",
        "files.download('test_labels.csv')"
      ],
      "execution_count": 0,
      "outputs": []
    },
    {
      "metadata": {
        "id": "B54iLxOk_e5s",
        "colab_type": "code",
        "colab": {
          "base_uri": "https://localhost:8080/",
          "height": 119
        },
        "outputId": "c60aed99-e3e5-4cfb-985d-d040e18b691c"
      },
      "cell_type": "code",
      "source": [
        "y_train.head()"
      ],
      "execution_count": 41,
      "outputs": [
        {
          "output_type": "execute_result",
          "data": {
            "text/plain": [
              "5816     0\n",
              "12650    0\n",
              "2992     0\n",
              "7194     0\n",
              "2082     0\n",
              "Name: y, dtype: int64"
            ]
          },
          "metadata": {
            "tags": []
          },
          "execution_count": 41
        }
      ]
    },
    {
      "metadata": {
        "id": "CfEq4xA__lUH",
        "colab_type": "code",
        "colab": {
          "base_uri": "https://localhost:8080/",
          "height": 224
        },
        "outputId": "29702981-821c-4e99-f446-8ba081f4477e"
      },
      "cell_type": "code",
      "source": [
        "X_train.head()"
      ],
      "execution_count": 42,
      "outputs": [
        {
          "output_type": "execute_result",
          "data": {
            "text/html": [
              "<div>\n",
              "<style scoped>\n",
              "    .dataframe tbody tr th:only-of-type {\n",
              "        vertical-align: middle;\n",
              "    }\n",
              "\n",
              "    .dataframe tbody tr th {\n",
              "        vertical-align: top;\n",
              "    }\n",
              "\n",
              "    .dataframe thead th {\n",
              "        text-align: right;\n",
              "    }\n",
              "</style>\n",
              "<table border=\"1\" class=\"dataframe\">\n",
              "  <thead>\n",
              "    <tr style=\"text-align: right;\">\n",
              "      <th></th>\n",
              "      <th>age</th>\n",
              "      <th>job</th>\n",
              "      <th>marital</th>\n",
              "      <th>education</th>\n",
              "      <th>default</th>\n",
              "      <th>housing</th>\n",
              "      <th>loan</th>\n",
              "      <th>contact</th>\n",
              "      <th>month</th>\n",
              "      <th>day_of_week</th>\n",
              "      <th>campaign</th>\n",
              "      <th>pdays</th>\n",
              "      <th>previous</th>\n",
              "      <th>poutcome</th>\n",
              "      <th>emp.var.rate</th>\n",
              "      <th>cons.price.idx</th>\n",
              "      <th>cons.conf.idx</th>\n",
              "      <th>euribor3m</th>\n",
              "      <th>nr.employed</th>\n",
              "    </tr>\n",
              "  </thead>\n",
              "  <tbody>\n",
              "    <tr>\n",
              "      <th>5816</th>\n",
              "      <td>34</td>\n",
              "      <td>admin.</td>\n",
              "      <td>divorced</td>\n",
              "      <td>high.school</td>\n",
              "      <td>no</td>\n",
              "      <td>no</td>\n",
              "      <td>no</td>\n",
              "      <td>cellular</td>\n",
              "      <td>apr</td>\n",
              "      <td>tue</td>\n",
              "      <td>1</td>\n",
              "      <td>999</td>\n",
              "      <td>0</td>\n",
              "      <td>nonexistent</td>\n",
              "      <td>-1.8</td>\n",
              "      <td>93.075</td>\n",
              "      <td>-47.1</td>\n",
              "      <td>1.405</td>\n",
              "      <td>5099.1</td>\n",
              "    </tr>\n",
              "    <tr>\n",
              "      <th>12650</th>\n",
              "      <td>36</td>\n",
              "      <td>blue-collar</td>\n",
              "      <td>single</td>\n",
              "      <td>university.degree</td>\n",
              "      <td>unknown</td>\n",
              "      <td>no</td>\n",
              "      <td>no</td>\n",
              "      <td>telephone</td>\n",
              "      <td>jun</td>\n",
              "      <td>mon</td>\n",
              "      <td>2</td>\n",
              "      <td>999</td>\n",
              "      <td>0</td>\n",
              "      <td>nonexistent</td>\n",
              "      <td>1.4</td>\n",
              "      <td>94.465</td>\n",
              "      <td>-41.8</td>\n",
              "      <td>4.960</td>\n",
              "      <td>5228.1</td>\n",
              "    </tr>\n",
              "    <tr>\n",
              "      <th>2992</th>\n",
              "      <td>39</td>\n",
              "      <td>technician</td>\n",
              "      <td>married</td>\n",
              "      <td>professional.course</td>\n",
              "      <td>no</td>\n",
              "      <td>yes</td>\n",
              "      <td>no</td>\n",
              "      <td>cellular</td>\n",
              "      <td>aug</td>\n",
              "      <td>thu</td>\n",
              "      <td>1</td>\n",
              "      <td>999</td>\n",
              "      <td>0</td>\n",
              "      <td>nonexistent</td>\n",
              "      <td>1.4</td>\n",
              "      <td>93.444</td>\n",
              "      <td>-36.1</td>\n",
              "      <td>4.968</td>\n",
              "      <td>5228.1</td>\n",
              "    </tr>\n",
              "    <tr>\n",
              "      <th>7194</th>\n",
              "      <td>35</td>\n",
              "      <td>blue-collar</td>\n",
              "      <td>married</td>\n",
              "      <td>basic.9y</td>\n",
              "      <td>unknown</td>\n",
              "      <td>no</td>\n",
              "      <td>no</td>\n",
              "      <td>telephone</td>\n",
              "      <td>may</td>\n",
              "      <td>thu</td>\n",
              "      <td>1</td>\n",
              "      <td>999</td>\n",
              "      <td>0</td>\n",
              "      <td>nonexistent</td>\n",
              "      <td>1.1</td>\n",
              "      <td>93.994</td>\n",
              "      <td>-36.4</td>\n",
              "      <td>4.855</td>\n",
              "      <td>5191.0</td>\n",
              "    </tr>\n",
              "    <tr>\n",
              "      <th>2082</th>\n",
              "      <td>48</td>\n",
              "      <td>management</td>\n",
              "      <td>divorced</td>\n",
              "      <td>university.degree</td>\n",
              "      <td>no</td>\n",
              "      <td>no</td>\n",
              "      <td>no</td>\n",
              "      <td>telephone</td>\n",
              "      <td>may</td>\n",
              "      <td>wed</td>\n",
              "      <td>2</td>\n",
              "      <td>999</td>\n",
              "      <td>0</td>\n",
              "      <td>nonexistent</td>\n",
              "      <td>1.1</td>\n",
              "      <td>93.994</td>\n",
              "      <td>-36.4</td>\n",
              "      <td>4.856</td>\n",
              "      <td>5191.0</td>\n",
              "    </tr>\n",
              "  </tbody>\n",
              "</table>\n",
              "</div>"
            ],
            "text/plain": [
              "       age          job   marital            education  default housing loan  \\\n",
              "5816    34       admin.  divorced          high.school       no      no   no   \n",
              "12650   36  blue-collar    single    university.degree  unknown      no   no   \n",
              "2992    39   technician   married  professional.course       no     yes   no   \n",
              "7194    35  blue-collar   married             basic.9y  unknown      no   no   \n",
              "2082    48   management  divorced    university.degree       no      no   no   \n",
              "\n",
              "         contact month day_of_week  campaign  pdays  previous     poutcome  \\\n",
              "5816    cellular   apr         tue         1    999         0  nonexistent   \n",
              "12650  telephone   jun         mon         2    999         0  nonexistent   \n",
              "2992    cellular   aug         thu         1    999         0  nonexistent   \n",
              "7194   telephone   may         thu         1    999         0  nonexistent   \n",
              "2082   telephone   may         wed         2    999         0  nonexistent   \n",
              "\n",
              "       emp.var.rate  cons.price.idx  cons.conf.idx  euribor3m  nr.employed  \n",
              "5816           -1.8          93.075          -47.1      1.405       5099.1  \n",
              "12650           1.4          94.465          -41.8      4.960       5228.1  \n",
              "2992            1.4          93.444          -36.1      4.968       5228.1  \n",
              "7194            1.1          93.994          -36.4      4.855       5191.0  \n",
              "2082            1.1          93.994          -36.4      4.856       5191.0  "
            ]
          },
          "metadata": {
            "tags": []
          },
          "execution_count": 42
        }
      ]
    },
    {
      "metadata": {
        "id": "gPMn8TwdBfI0",
        "colab_type": "code",
        "colab": {
          "base_uri": "https://localhost:8080/",
          "height": 204
        },
        "outputId": "0d1088d4-a513-4fce-e176-c62ee80612f3"
      },
      "cell_type": "code",
      "source": [
        "sample_submission.head()\n",
        "#sample_submission.shape"
      ],
      "execution_count": 53,
      "outputs": [
        {
          "output_type": "execute_result",
          "data": {
            "text/html": [
              "<div>\n",
              "<style scoped>\n",
              "    .dataframe tbody tr th:only-of-type {\n",
              "        vertical-align: middle;\n",
              "    }\n",
              "\n",
              "    .dataframe tbody tr th {\n",
              "        vertical-align: top;\n",
              "    }\n",
              "\n",
              "    .dataframe thead th {\n",
              "        text-align: right;\n",
              "    }\n",
              "</style>\n",
              "<table border=\"1\" class=\"dataframe\">\n",
              "  <thead>\n",
              "    <tr style=\"text-align: right;\">\n",
              "      <th></th>\n",
              "      <th>id</th>\n",
              "      <th>y</th>\n",
              "    </tr>\n",
              "  </thead>\n",
              "  <tbody>\n",
              "    <tr>\n",
              "      <th>0</th>\n",
              "      <td>12668</td>\n",
              "      <td>0.5</td>\n",
              "    </tr>\n",
              "    <tr>\n",
              "      <th>1</th>\n",
              "      <td>44327</td>\n",
              "      <td>0.5</td>\n",
              "    </tr>\n",
              "    <tr>\n",
              "      <th>2</th>\n",
              "      <td>26675</td>\n",
              "      <td>0.5</td>\n",
              "    </tr>\n",
              "    <tr>\n",
              "      <th>3</th>\n",
              "      <td>11771</td>\n",
              "      <td>0.5</td>\n",
              "    </tr>\n",
              "    <tr>\n",
              "      <th>4</th>\n",
              "      <td>38173</td>\n",
              "      <td>0.5</td>\n",
              "    </tr>\n",
              "  </tbody>\n",
              "</table>\n",
              "</div>"
            ],
            "text/plain": [
              "      id    y\n",
              "0  12668  0.5\n",
              "1  44327  0.5\n",
              "2  26675  0.5\n",
              "3  11771  0.5\n",
              "4  38173  0.5"
            ]
          },
          "metadata": {
            "tags": []
          },
          "execution_count": 53
        }
      ]
    },
    {
      "metadata": {
        "id": "azryys68BmgI",
        "colab_type": "code",
        "colab": {
          "base_uri": "https://localhost:8080/",
          "height": 34
        },
        "outputId": "c2220ef1-9bbe-435a-8cc9-84bd9a1e4a9f"
      },
      "cell_type": "code",
      "source": [
        "y_test_pred.shape"
      ],
      "execution_count": 61,
      "outputs": [
        {
          "output_type": "execute_result",
          "data": {
            "text/plain": [
              "(10297, 2)"
            ]
          },
          "metadata": {
            "tags": []
          },
          "execution_count": 61
        }
      ]
    },
    {
      "metadata": {
        "id": "qnt84BcmCswF",
        "colab_type": "code",
        "colab": {
          "base_uri": "https://localhost:8080/",
          "height": 204
        },
        "outputId": "9dc668c3-46c3-429a-9880-6ed256551405"
      },
      "cell_type": "code",
      "source": [
        "y_test_pred.head()"
      ],
      "execution_count": 62,
      "outputs": [
        {
          "output_type": "execute_result",
          "data": {
            "text/html": [
              "<div>\n",
              "<style scoped>\n",
              "    .dataframe tbody tr th:only-of-type {\n",
              "        vertical-align: middle;\n",
              "    }\n",
              "\n",
              "    .dataframe tbody tr th {\n",
              "        vertical-align: top;\n",
              "    }\n",
              "\n",
              "    .dataframe thead th {\n",
              "        text-align: right;\n",
              "    }\n",
              "</style>\n",
              "<table border=\"1\" class=\"dataframe\">\n",
              "  <thead>\n",
              "    <tr style=\"text-align: right;\">\n",
              "      <th></th>\n",
              "      <th>y</th>\n",
              "      <th>id</th>\n",
              "    </tr>\n",
              "  </thead>\n",
              "  <tbody>\n",
              "    <tr>\n",
              "      <th>0</th>\n",
              "      <td>0</td>\n",
              "      <td>12668</td>\n",
              "    </tr>\n",
              "    <tr>\n",
              "      <th>1</th>\n",
              "      <td>0</td>\n",
              "      <td>44327</td>\n",
              "    </tr>\n",
              "    <tr>\n",
              "      <th>2</th>\n",
              "      <td>0</td>\n",
              "      <td>26675</td>\n",
              "    </tr>\n",
              "    <tr>\n",
              "      <th>3</th>\n",
              "      <td>0</td>\n",
              "      <td>11771</td>\n",
              "    </tr>\n",
              "    <tr>\n",
              "      <th>4</th>\n",
              "      <td>0</td>\n",
              "      <td>38173</td>\n",
              "    </tr>\n",
              "  </tbody>\n",
              "</table>\n",
              "</div>"
            ],
            "text/plain": [
              "   y     id\n",
              "0  0  12668\n",
              "1  0  44327\n",
              "2  0  26675\n",
              "3  0  11771\n",
              "4  0  38173"
            ]
          },
          "metadata": {
            "tags": []
          },
          "execution_count": 62
        }
      ]
    },
    {
      "metadata": {
        "id": "e_WMJ5cJGFo5",
        "colab_type": "code",
        "colab": {}
      },
      "cell_type": "code",
      "source": [
        ""
      ],
      "execution_count": 0,
      "outputs": []
    }
  ]
}