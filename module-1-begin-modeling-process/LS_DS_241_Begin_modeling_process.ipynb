{
  "nbformat": 4,
  "nbformat_minor": 0,
  "metadata": {
    "colab": {
      "name": "LS_DS_241_Begin_modeling_process LIVE LESSON.ipynb",
      "version": "0.3.2",
      "provenance": [],
      "collapsed_sections": [],
      "include_colab_link": true
    },
    "kernelspec": {
      "name": "python3",
      "display_name": "Python 3"
    }
  },
  "cells": [
    {
      "cell_type": "markdown",
      "metadata": {
        "id": "view-in-github",
        "colab_type": "text"
      },
      "source": [
        "<a href=\"https://colab.research.google.com/github/cocoisland/DS-Unit-2-Sprint-4-Model-Validation/blob/master/module-1-begin-modeling-process/LS_DS_241_Begin_modeling_process.ipynb\" target=\"_parent\"><img src=\"https://colab.research.google.com/assets/colab-badge.svg\" alt=\"Open In Colab\"/></a>"
      ]
    },
    {
      "metadata": {
        "id": "dOdCkKKdx_Fq",
        "colab_type": "text"
      },
      "cell_type": "markdown",
      "source": [
        "_Lambda School Data Science — Model Validation_ \n",
        "\n",
        "# Begin the modeling process\n",
        "\n",
        "Objectives\n",
        "- Train/Validate/Test split\n",
        "- Cross-Validation\n",
        "- Begin with baselines"
      ]
    },
    {
      "metadata": {
        "id": "UJBBzSCmKtoC",
        "colab_type": "text"
      },
      "cell_type": "markdown",
      "source": [
        "## Why care about model validation?"
      ]
    },
    {
      "metadata": {
        "id": "GenzpPA2Z_dt",
        "colab_type": "text"
      },
      "cell_type": "markdown",
      "source": [
        "Rachel Thomas, [How (and why) to create a good validation set](https://www.fast.ai/2017/11/13/validation-sets/)\n",
        "\n",
        "> An all-too-common scenario: a seemingly impressive machine learning model is a complete failure when implemented in production. The fallout includes leaders who are now skeptical of machine learning and reluctant to try it again. How can this happen?\n",
        "\n",
        "> One of the most likely culprits for this disconnect between results in development vs results in production is a poorly chosen validation set (or even worse, no validation set at all). "
      ]
    },
    {
      "metadata": {
        "id": "YRu59wbmLMBa",
        "colab_type": "text"
      },
      "cell_type": "markdown",
      "source": [
        "Owen Zhang, [Winning Data Science Competitions](https://www.slideshare.net/OwenZhang2/tips-for-data-science-competitions/8)\n",
        "\n",
        "> Good validation is _more important_ than good models. "
      ]
    },
    {
      "metadata": {
        "id": "3dHlyVq2KNZY",
        "colab_type": "text"
      },
      "cell_type": "markdown",
      "source": [
        "James, Witten, Hastie, Tibshirani, [An Introduction to Statistical Learning](http://www-bcf.usc.edu/~gareth/ISL/), Chapter 2.2, Assessing Model Accuracy\n",
        "\n",
        "> In general, we do not really care how well the method works training on the training data. Rather, _we are interested in the accuracy of the predictions that we obtain when we apply our method to previously unseen test data._ Why is this what we care about? \n",
        "\n",
        "> Suppose that we are interested test data in developing an algorithm to predict a stock’s price based on previous stock returns. We can train the method using stock returns from the past 6 months. But we don’t really care how well our method predicts last week’s stock price. We instead care about how well it will predict tomorrow’s price or next month’s price. \n",
        "\n",
        "> On a similar note, suppose that we have clinical measurements (e.g. weight, blood pressure, height, age, family history of disease) for a number of patients, as well as information about whether each patient has diabetes. We can use these patients to train a statistical learning method to predict risk of diabetes based on clinical measurements. In practice, we want this method to accurately predict diabetes risk for _future patients_ based on their clinical measurements. We are not very interested in whether or not the method accurately predicts diabetes risk for patients used to train the model, since we already know which of those patients have diabetes."
      ]
    },
    {
      "metadata": {
        "id": "JgayVUFCyC7f",
        "colab_type": "text"
      },
      "cell_type": "markdown",
      "source": [
        "### We'll look at 4 methods of model validation\n",
        "\n",
        "- Performance estimation\n",
        "  - 2-way holdout method (**train/test split**)\n",
        "  - (Repeated) k-fold **cross-validation without independent test set** \n",
        "- Model selection (hyperparameter optimization) and performance estimation ← ***We usually want to do this***\n",
        "  - 3-way holdout method (**train/validation/test split**)\n",
        "  - (Repeated) k-fold **cross-validation with independent test set**\n",
        "  \n",
        "<img src=\"https://sebastianraschka.com/images/blog/2018/model-evaluation-selection-part4/model-eval-conclusions.jpg\" width=\"600\">\n",
        "\n",
        "Source: https://sebastianraschka.com/blog/2018/model-evaluation-selection-part4.html"
      ]
    },
    {
      "metadata": {
        "id": "X0OFS5mjRTm9",
        "colab_type": "text"
      },
      "cell_type": "markdown",
      "source": [
        "## Why begin with baselines?"
      ]
    },
    {
      "metadata": {
        "id": "O8wqAD-E3Dhf",
        "colab_type": "text"
      },
      "cell_type": "markdown",
      "source": [
        "[My mentor](https://www.linkedin.com/in/jason-sanchez-62093847/) [taught me](https://youtu.be/0GrciaGYzV0?t=40s):\n",
        "\n",
        ">***Your first goal should always, always, always be getting a generalized prediction as fast as possible.*** You shouldn't spend a lot of time trying to tune your model, trying to add features, trying to engineer features, until you've actually gotten one prediction, at least. \n",
        "\n",
        "> The reason why that's a really good thing is because then ***you'll set a benchmark*** for yourself, and you'll be able to directly see how much effort you put in translates to a better prediction. \n",
        "\n",
        "> What you'll find by working on many models: some effort you put in, actually has very little effect on how well your final model does at predicting new observations. Whereas some very easy changes actually have a lot of effect. And so you get better at allocating your time more effectively.\n",
        "\n",
        "My mentor's advice is echoed and elaborated in several sources:\n",
        "\n",
        "[Always start with a stupid model, no exceptions](https://blog.insightdatascience.com/always-start-with-a-stupid-model-no-exceptions-3a22314b9aaa)\n",
        "\n",
        "> Why start with a baseline? A baseline will take you less than 1/10th of the time, and could provide up to 90% of the results. A baseline puts a more complex model into context. Baselines are easy to deploy.\n",
        "\n",
        "[Measure Once, Cut Twice: Moving Towards Iteration in Data Science](https://blog.datarobot.com/measure-once-cut-twice-moving-towards-iteration-in-data-science)\n",
        "\n",
        "> The iterative approach in data science starts with emphasizing the importance of getting to a first model quickly, rather than starting with the variables and features. Once the first model is built, the work then steadily focuses on continual improvement.\n",
        "\n",
        "[*Data Science for Business*](https://books.google.com/books?id=4ZctAAAAQBAJ&pg=PT276), Chapter 7.3: Evaluation, Baseline Performance, and Implications for Investments in Data\n",
        "\n",
        "> *Consider carefully what would be a reasonable baseline against which to compare model performance.* This is important for the data science team in order to understand whether they indeed are improving performance, and is equally important for demonstrating to stakeholders that mining the data has added value."
      ]
    },
    {
      "metadata": {
        "id": "89PieuUx0fbN",
        "colab_type": "text"
      },
      "cell_type": "markdown",
      "source": [
        "## Baseline is an overloaded term\n",
        "\n",
        "Baseline has multiple meanings, as discussed in the links above.\n",
        "\n",
        "#### The score you'd get by guessing a single value\n",
        "\n",
        "> A baseline for classification can be the most common class in the training dataset.\n",
        "\n",
        "> A baseline for regression can be the mean of the training labels. —[Will Koehrsen](https://twitter.com/koehrsen_will/status/1088863527778111488)\n",
        "\n",
        "#### The score you'd get by guessing in a more granular way\n",
        "\n",
        "> A baseline for time-series regressions can be the value from the previous timestep.\n",
        "\n",
        "#### Fast, first models that beat guessing\n",
        "\n",
        "What my mentor was talking about.\n",
        "\n",
        "#### Complete, tuned \"simpler\" model\n",
        "\n",
        "Can be simpler mathematically and computationally. For example, Logistic Regression versus Deep Learning.\n",
        "\n",
        "Or can be simpler for the data scientist, with less work. For example, a model with less feature engineering versus a model with more feature engineering.\n",
        "\n",
        "#### Minimum performance that \"matters\"\n",
        "\n",
        "To go to production and get business value.\n",
        "\n",
        "#### Human-level performance \n",
        "\n",
        "Your goal may to be match, or nearly match, human performance, but with better speed, cost, or consistency.\n",
        "\n",
        "Or your goal may to be exceed human performance.\n"
      ]
    },
    {
      "metadata": {
        "id": "EdHSPwdZx3nI",
        "colab_type": "text"
      },
      "cell_type": "markdown",
      "source": [
        "## Weather data —  mean baseline\n",
        "\n",
        "Let's try baselines for regression.\n",
        "\n",
        "You can [get Past Weather by Zip Code from Climate.gov](https://www.climate.gov/maps-data/dataset/past-weather-zip-code-data-table). I downloaded the data for my town: Normal, Illinois."
      ]
    },
    {
      "metadata": {
        "id": "2O3o-fTgx-93",
        "colab_type": "code",
        "outputId": "9def2081-1f1e-4388-d339-10c10f53696d",
        "colab": {
          "base_uri": "https://localhost:8080/",
          "height": 290
        }
      },
      "cell_type": "code",
      "source": [
        "%matplotlib inline\n",
        "import matplotlib.pyplot as plt\n",
        "import pandas as pd \n",
        "\n",
        "url = 'https://raw.githubusercontent.com/rrherr/baselines/master/weather/weather-normal-il.csv'\n",
        "weather = pd.read_csv(url, parse_dates=['DATE']).set_index('DATE')\n",
        "weather['2015':'2018'].TMAX.plot()\n",
        "plt.title('Daily high temperature in Normal, IL');"
      ],
      "execution_count": 0,
      "outputs": [
        {
          "output_type": "display_data",
          "data": {
            "image/png": "[encoded data removed]",
            "text/plain": [
              "<Figure size 432x288 with 1 Axes>"
            ]
          },
          "metadata": {
            "tags": []
          }
        }
      ]
    },
    {
      "metadata": {
        "id": "F8Z8FTwbzfol",
        "colab_type": "text"
      },
      "cell_type": "markdown",
      "source": [
        "Over the years, across the seasons, the average daily high temperature in my town is about 63 degrees."
      ]
    },
    {
      "metadata": {
        "id": "PEKdZ7YZzbnO",
        "colab_type": "code",
        "outputId": "5a441e0d-483d-4351-8d35-143bd174e40a",
        "colab": {
          "base_uri": "https://localhost:8080/",
          "height": 35
        }
      },
      "cell_type": "code",
      "source": [
        "weather.TMAX.mean()"
      ],
      "execution_count": 0,
      "outputs": [
        {
          "output_type": "execute_result",
          "data": {
            "text/plain": [
              "62.562754852389496"
            ]
          },
          "metadata": {
            "tags": []
          },
          "execution_count": 2
        }
      ]
    },
    {
      "metadata": {
        "id": "p5bzsFbfznUt",
        "colab_type": "text"
      },
      "cell_type": "markdown",
      "source": [
        "If I predicted that every day, the high will be 63 degrees, I'd be off by about 19 degrees on average."
      ]
    },
    {
      "metadata": {
        "id": "WCZ68Ql4LMb5",
        "colab_type": "code",
        "outputId": "6076ec3c-8cd7-445b-d496-d60876d0b6e0",
        "colab": {
          "base_uri": "https://localhost:8080/",
          "height": 34
        }
      },
      "cell_type": "code",
      "source": [
        "len(weather)"
      ],
      "execution_count": 0,
      "outputs": [
        {
          "output_type": "execute_result",
          "data": {
            "text/plain": [
              "24524"
            ]
          },
          "metadata": {
            "tags": []
          },
          "execution_count": 6
        }
      ]
    },
    {
      "metadata": {
        "id": "rpf8ubzaziiY",
        "colab_type": "code",
        "outputId": "e464085b-33fc-4d4c-ba60-4c92c160bc0a",
        "colab": {
          "base_uri": "https://localhost:8080/",
          "height": 34
        }
      },
      "cell_type": "code",
      "source": [
        "from sklearn.metrics import mean_absolute_error\n",
        "predicted = [weather.TMAX.mean()] * len(weather)  \n",
        "mean_absolute_error(weather.TMAX, predicted)"
      ],
      "execution_count": 0,
      "outputs": [
        {
          "output_type": "execute_result",
          "data": {
            "text/plain": [
              "18.684890040509288"
            ]
          },
          "metadata": {
            "tags": []
          },
          "execution_count": 3
        }
      ]
    },
    {
      "metadata": {
        "id": "sJi-_JL1zywP",
        "colab_type": "text"
      },
      "cell_type": "markdown",
      "source": [
        "But, with time series data like this, we can get a better baseline.\n",
        "\n",
        "*Data Science for Business* explains, \n",
        "\n",
        "> Weather forecasters have two simple—but not simplistic—baseline models that they compare against. ***One (persistence) predicts that the weather tomorrow is going to be whatever it was today.*** The other (climatology) predicts whatever the average historical weather has been on this day from prior years. Each model performs considerably better than random guessing, and both are so easy to compute that they make natural baselines of comparison. Any new, more complex model must beat these."
      ]
    },
    {
      "metadata": {
        "id": "VETZ_gJhz5qR",
        "colab_type": "text"
      },
      "cell_type": "markdown",
      "source": [
        "Let's predict that the weather tomorrow is going to be whatever it was today. Which is another way of saying that the weather today is going to be whatever it was yesterday.\n",
        "\n",
        "We can engineer this feature with one line of code, using the pandas [`shift`](https://pandas.pydata.org/pandas-docs/stable/generated/pandas.DataFrame.shift.html) function.\n",
        "\n",
        "This new baseline is off by less than 6 degress on average."
      ]
    },
    {
      "metadata": {
        "id": "1DKR_LoCzp6V",
        "colab_type": "code",
        "outputId": "b2cde72d-1e28-42e8-9fd6-3ea499050683",
        "colab": {
          "base_uri": "https://localhost:8080/",
          "height": 34
        }
      },
      "cell_type": "code",
      "source": [
        "weather['TMAX_yesterday'] = weather.TMAX.shift(1)\n",
        "weather.dropna(inplace=True)  # Drops the first date, because it doesn't have a \"yesterday\"\n",
        "mean_absolute_error(weather.TMAX, weather.TMAX_yesterday)"
      ],
      "execution_count": 0,
      "outputs": [
        {
          "output_type": "execute_result",
          "data": {
            "text/plain": [
              "5.519593850670799"
            ]
          },
          "metadata": {
            "tags": []
          },
          "execution_count": 4
        }
      ]
    },
    {
      "metadata": {
        "id": "FhRix-ZG36c-",
        "colab_type": "text"
      },
      "cell_type": "markdown",
      "source": [
        "## Adult Census Income — Train/Test Split — majority class baseline"
      ]
    },
    {
      "metadata": {
        "id": "fHtoULts4TBE",
        "colab_type": "text"
      },
      "cell_type": "markdown",
      "source": [
        "Load the data. It has already been split into train and test.\n",
        "\n",
        "https://archive.ics.uci.edu/ml/datasets/adult"
      ]
    },
    {
      "metadata": {
        "id": "UZX4c6Gjx9pf",
        "colab_type": "code",
        "outputId": "5c55e54c-e5ca-48cb-8192-c776a683fa47",
        "colab": {
          "base_uri": "https://localhost:8080/",
          "height": 34
        }
      },
      "cell_type": "code",
      "source": [
        "names = ['age', \n",
        "         'workclass', \n",
        "         'fnlwgt', \n",
        "         'education', \n",
        "         'education-num', \n",
        "         'marital-status', \n",
        "         'occupation', \n",
        "         'relationship', \n",
        "         'race', \n",
        "         'sex', \n",
        "         'capital-gain', \n",
        "         'capital-loss', \n",
        "         'hours-per-week', \n",
        "         'native-country', \n",
        "         'income']\n",
        "\n",
        "train = pd.read_csv('https://archive.ics.uci.edu/ml/machine-learning-databases/adult/adult.data', header=None, names=names)\n",
        "test  = pd.read_csv('https://archive.ics.uci.edu/ml/machine-learning-databases/adult/adult.test', header=None, names=names, skiprows=[0])\n",
        "\n",
        "train.shape, test.shape"
      ],
      "execution_count": 0,
      "outputs": [
        {
          "output_type": "execute_result",
          "data": {
            "text/plain": [
              "((32561, 15), (16281, 15))"
            ]
          },
          "metadata": {
            "tags": []
          },
          "execution_count": 33
        }
      ]
    },
    {
      "metadata": {
        "id": "hZqdQTlb4ybZ",
        "colab_type": "text"
      },
      "cell_type": "markdown",
      "source": [
        "Assign to X and y"
      ]
    },
    {
      "metadata": {
        "id": "mQVulKmi4pC0",
        "colab_type": "code",
        "outputId": "7fa68fd3-b326-40da-a0d2-a0b1bb216e48",
        "colab": {
          "base_uri": "https://localhost:8080/",
          "height": 34
        }
      },
      "cell_type": "code",
      "source": [
        "X_train = train.drop(columns='income')\n",
        "y_train = train.income == ' >50K'\n",
        "\n",
        "X_test  = test.drop(columns='income')\n",
        "y_test  = test.income  == ' >50K.'\n",
        "\n",
        "X_train.shape, X_test.shape, y_train.shape, y_test.shape"
      ],
      "execution_count": 0,
      "outputs": [
        {
          "output_type": "execute_result",
          "data": {
            "text/plain": [
              "((32561, 14), (16281, 14), (32561,), (16281,))"
            ]
          },
          "metadata": {
            "tags": []
          },
          "execution_count": 34
        }
      ]
    },
    {
      "metadata": {
        "id": "NQ2Ibkax5DOw",
        "colab_type": "text"
      },
      "cell_type": "markdown",
      "source": [
        "Majority class baseline"
      ]
    },
    {
      "metadata": {
        "id": "GqfFfKEm42b5",
        "colab_type": "code",
        "colab": {}
      },
      "cell_type": "code",
      "source": [
        "import numpy as np\n",
        "\n",
        "majority_class = y_train.mode()[0]\n",
        "y_pred = np.full(shape=y_test.shape, fill_value=majority_class)"
      ],
      "execution_count": 0,
      "outputs": []
    },
    {
      "metadata": {
        "id": "KNMUHV3W5W5V",
        "colab_type": "text"
      },
      "cell_type": "markdown",
      "source": [
        "`y_pred` has the same shape as `y_test`"
      ]
    },
    {
      "metadata": {
        "id": "A6mIx4PY5Qeo",
        "colab_type": "code",
        "outputId": "22ee5deb-d706-4284-b5d6-56062e21fa2c",
        "colab": {
          "base_uri": "https://localhost:8080/",
          "height": 34
        }
      },
      "cell_type": "code",
      "source": [
        "y_pred.shape, y_test.shape"
      ],
      "execution_count": 0,
      "outputs": [
        {
          "output_type": "execute_result",
          "data": {
            "text/plain": [
              "((16281,), (16281,))"
            ]
          },
          "metadata": {
            "tags": []
          },
          "execution_count": 36
        }
      ]
    },
    {
      "metadata": {
        "id": "mWG0oTHD5eBw",
        "colab_type": "text"
      },
      "cell_type": "markdown",
      "source": [
        "all predictions are the majority class"
      ]
    },
    {
      "metadata": {
        "id": "Q3IIjxGt5WVZ",
        "colab_type": "code",
        "outputId": "f9dbc2c7-73bd-401a-86b3-1c787d06e11c",
        "colab": {
          "base_uri": "https://localhost:8080/",
          "height": 34
        }
      },
      "cell_type": "code",
      "source": [
        "all(y_pred == majority_class)"
      ],
      "execution_count": 0,
      "outputs": [
        {
          "output_type": "execute_result",
          "data": {
            "text/plain": [
              "True"
            ]
          },
          "metadata": {
            "tags": []
          },
          "execution_count": 37
        }
      ]
    },
    {
      "metadata": {
        "id": "tUsgtt5T5qjR",
        "colab_type": "text"
      },
      "cell_type": "markdown",
      "source": [
        "Baseline accuracy is 76% by guessing the majority class for every prediction"
      ]
    },
    {
      "metadata": {
        "id": "LGm7MelQ5c8w",
        "colab_type": "code",
        "outputId": "eff24701-bf4b-45b8-cc16-5e28ec54ab87",
        "colab": {
          "base_uri": "https://localhost:8080/",
          "height": 34
        }
      },
      "cell_type": "code",
      "source": [
        "from sklearn.metrics import accuracy_score\n",
        "accuracy_score(y_test, y_pred)"
      ],
      "execution_count": 0,
      "outputs": [
        {
          "output_type": "execute_result",
          "data": {
            "text/plain": [
              "0.7637737239727289"
            ]
          },
          "metadata": {
            "tags": []
          },
          "execution_count": 38
        }
      ]
    },
    {
      "metadata": {
        "id": "Crq-dk5u57o6",
        "colab_type": "text"
      },
      "cell_type": "markdown",
      "source": [
        "This makes sense, because the majority class occurs 76% of the time in the test dataset"
      ]
    },
    {
      "metadata": {
        "id": "eNk2yTmyhFHx",
        "colab_type": "code",
        "outputId": "73645793-927f-420f-b5ee-e57628f26cbf",
        "colab": {
          "base_uri": "https://localhost:8080/",
          "height": 68
        }
      },
      "cell_type": "code",
      "source": [
        "test.income.value_counts(normalize=True)"
      ],
      "execution_count": 0,
      "outputs": [
        {
          "output_type": "execute_result",
          "data": {
            "text/plain": [
              " <=50K.    0.763774\n",
              " >50K.     0.236226\n",
              "Name: income, dtype: float64"
            ]
          },
          "metadata": {
            "tags": []
          },
          "execution_count": 39
        }
      ]
    },
    {
      "metadata": {
        "id": "886PbzRJ6USc",
        "colab_type": "text"
      },
      "cell_type": "markdown",
      "source": [
        "## Adult Census Income — Train/Test Split — fast first models"
      ]
    },
    {
      "metadata": {
        "id": "TgsO1op66j3b",
        "colab_type": "text"
      },
      "cell_type": "markdown",
      "source": [
        "Scikit-learn expects no nulls... We're good there:"
      ]
    },
    {
      "metadata": {
        "id": "cyfwVBt354U1",
        "colab_type": "code",
        "outputId": "722541ac-cdf4-4631-86a8-8387a5d40fde",
        "colab": {
          "base_uri": "https://localhost:8080/",
          "height": 34
        }
      },
      "cell_type": "code",
      "source": [
        "def no_nulls(df):\n",
        "    return not any(df.isnull().sum())\n",
        "\n",
        "no_nulls(X_train)"
      ],
      "execution_count": 0,
      "outputs": [
        {
          "output_type": "execute_result",
          "data": {
            "text/plain": [
              "True"
            ]
          },
          "metadata": {
            "tags": []
          },
          "execution_count": 40
        }
      ]
    },
    {
      "metadata": {
        "id": "tbVhqsUP622c",
        "colab_type": "text"
      },
      "cell_type": "markdown",
      "source": [
        "Scikit-learn also expects all numeric features. (No strings / \"object\" datatypes) ... We're not there yet:"
      ]
    },
    {
      "metadata": {
        "id": "VqOoYwO16vmu",
        "colab_type": "code",
        "outputId": "74ea2258-f562-4a69-fd3e-b3ff0facdfac",
        "colab": {
          "base_uri": "https://localhost:8080/",
          "height": 34
        }
      },
      "cell_type": "code",
      "source": [
        "def all_numeric(df):\n",
        "    from pandas.api.types import is_numeric_dtype\n",
        "    return all(is_numeric_dtype(df[col]) for col in df)\n",
        "\n",
        "all_numeric(X_train)"
      ],
      "execution_count": 0,
      "outputs": [
        {
          "output_type": "execute_result",
          "data": {
            "text/plain": [
              "False"
            ]
          },
          "metadata": {
            "tags": []
          },
          "execution_count": 41
        }
      ]
    },
    {
      "metadata": {
        "id": "16s97jma7ULN",
        "colab_type": "text"
      },
      "cell_type": "markdown",
      "source": [
        "Instead of encoding nonnumeric features, we can just exclude them from the training data."
      ]
    },
    {
      "metadata": {
        "id": "V34xVYqD7Ayb",
        "colab_type": "code",
        "outputId": "24aca230-78dc-4726-f4a9-4cc3dd580993",
        "colab": {
          "base_uri": "https://localhost:8080/",
          "height": 34
        }
      },
      "cell_type": "code",
      "source": [
        "X_train_numeric = X_train.select_dtypes(np.number)\n",
        "\n",
        "all_numeric(X_train_numeric)"
      ],
      "execution_count": 0,
      "outputs": [
        {
          "output_type": "execute_result",
          "data": {
            "text/plain": [
              "True"
            ]
          },
          "metadata": {
            "tags": []
          },
          "execution_count": 42
        }
      ]
    },
    {
      "metadata": {
        "id": "0KIrZHZm8pXn",
        "colab_type": "text"
      },
      "cell_type": "markdown",
      "source": [
        "We'll do the same with the test data."
      ]
    },
    {
      "metadata": {
        "id": "RehsWU5t8na0",
        "colab_type": "code",
        "colab": {}
      },
      "cell_type": "code",
      "source": [
        "X_test_numeric = X_test.select_dtypes(np.number)"
      ],
      "execution_count": 0,
      "outputs": []
    },
    {
      "metadata": {
        "id": "gEmZztuZ71zC",
        "colab_type": "text"
      },
      "cell_type": "markdown",
      "source": [
        "Then fit a Logistic Regression on the training data (only the numeric features).\n",
        "\n",
        "Test accuracy improves to almost 80%"
      ]
    },
    {
      "metadata": {
        "id": "nlSO3C9t7ogI",
        "colab_type": "code",
        "outputId": "88da8c99-0756-4930-d238-03e0917a3718",
        "colab": {
          "base_uri": "https://localhost:8080/",
          "height": 88
        }
      },
      "cell_type": "code",
      "source": [
        "from sklearn.linear_model import LogisticRegression\n",
        "model = LogisticRegression()\n",
        "model.fit(X_train_numeric, y_train)\n",
        "y_pred = model.predict(X_test_numeric)\n",
        "accuracy_score(y_test, y_pred)"
      ],
      "execution_count": 0,
      "outputs": [
        {
          "output_type": "stream",
          "text": [
            "/usr/local/lib/python3.6/dist-packages/sklearn/linear_model/logistic.py:433: FutureWarning: Default solver will be changed to 'lbfgs' in 0.22. Specify a solver to silence this warning.\n",
            "  FutureWarning)\n"
          ],
          "name": "stderr"
        },
        {
          "output_type": "execute_result",
          "data": {
            "text/plain": [
              "0.7992138075056815"
            ]
          },
          "metadata": {
            "tags": []
          },
          "execution_count": 44
        }
      ]
    },
    {
      "metadata": {
        "id": "BKKgC2XJ8LfH",
        "colab_type": "text"
      },
      "cell_type": "markdown",
      "source": [
        "Let's try scaling our data first. \n",
        "\n",
        "Test accuracy improves to over 81%"
      ]
    },
    {
      "metadata": {
        "id": "KkYRW6Jm77Y0",
        "colab_type": "code",
        "outputId": "ba4a01b5-eb15-4317-b7a2-a7f46e89a3f4",
        "colab": {
          "base_uri": "https://localhost:8080/",
          "height": 157
        }
      },
      "cell_type": "code",
      "source": [
        "from sklearn.preprocessing import StandardScaler\n",
        "from sklearn.pipeline import make_pipeline\n",
        "\n",
        "pipeline = make_pipeline(StandardScaler(), LogisticRegression(solver='lbfgs'))\n",
        "pipeline.fit(X_train_numeric, y_train)\n",
        "y_pred = pipeline.predict(X_test_numeric)\n",
        "accuracy_score(y_test, y_pred)"
      ],
      "execution_count": 0,
      "outputs": [
        {
          "output_type": "stream",
          "text": [
            "/usr/local/lib/python3.6/dist-packages/sklearn/preprocessing/data.py:625: DataConversionWarning: Data with input dtype int64 were all converted to float64 by StandardScaler.\n",
            "  return self.partial_fit(X, y)\n",
            "/usr/local/lib/python3.6/dist-packages/sklearn/base.py:465: DataConversionWarning: Data with input dtype int64 were all converted to float64 by StandardScaler.\n",
            "  return self.fit(X, y, **fit_params).transform(X)\n",
            "/usr/local/lib/python3.6/dist-packages/sklearn/pipeline.py:331: DataConversionWarning: Data with input dtype int64 were all converted to float64 by StandardScaler.\n",
            "  Xt = transform.transform(Xt)\n"
          ],
          "name": "stderr"
        },
        {
          "output_type": "execute_result",
          "data": {
            "text/plain": [
              "0.8134635464652048"
            ]
          },
          "metadata": {
            "tags": []
          },
          "execution_count": 45
        }
      ]
    },
    {
      "metadata": {
        "id": "gGsNNA9k9BMr",
        "colab_type": "text"
      },
      "cell_type": "markdown",
      "source": [
        "One-hot-encode all the categorical featues."
      ]
    },
    {
      "metadata": {
        "id": "wrIvN4X89dSJ",
        "colab_type": "text"
      },
      "cell_type": "markdown",
      "source": [
        "Install the Category Encoder library \n",
        "\n",
        "https://github.com/scikit-learn-contrib/categorical-encoding"
      ]
    },
    {
      "metadata": {
        "id": "gNJr5XcG8NpA",
        "colab_type": "code",
        "outputId": "4c380c1d-a52d-4b63-de38-23f09c3549ca",
        "colab": {
          "base_uri": "https://localhost:8080/",
          "height": 188
        }
      },
      "cell_type": "code",
      "source": [
        "!pip install category_encoders"
      ],
      "execution_count": 0,
      "outputs": [
        {
          "output_type": "stream",
          "text": [
            "Requirement already satisfied: category_encoders in /usr/local/lib/python3.6/dist-packages (1.3.0)\n",
            "Requirement already satisfied: pandas>=0.20.1 in /usr/local/lib/python3.6/dist-packages (from category_encoders) (0.22.0)\n",
            "Requirement already satisfied: patsy>=0.4.1 in /usr/local/lib/python3.6/dist-packages (from category_encoders) (0.5.1)\n",
            "Requirement already satisfied: scikit-learn>=0.17.1 in /usr/local/lib/python3.6/dist-packages (from category_encoders) (0.20.2)\n",
            "Requirement already satisfied: scipy>=0.17.0 in /usr/local/lib/python3.6/dist-packages (from category_encoders) (1.1.0)\n",
            "Requirement already satisfied: statsmodels>=0.6.1 in /usr/local/lib/python3.6/dist-packages (from category_encoders) (0.8.0)\n",
            "Requirement already satisfied: numpy>=1.11.1 in /usr/local/lib/python3.6/dist-packages (from category_encoders) (1.14.6)\n",
            "Requirement already satisfied: pytz>=2011k in /usr/local/lib/python3.6/dist-packages (from pandas>=0.20.1->category_encoders) (2018.9)\n",
            "Requirement already satisfied: python-dateutil>=2 in /usr/local/lib/python3.6/dist-packages (from pandas>=0.20.1->category_encoders) (2.5.3)\n",
            "Requirement already satisfied: six in /usr/local/lib/python3.6/dist-packages (from patsy>=0.4.1->category_encoders) (1.11.0)\n"
          ],
          "name": "stdout"
        }
      ]
    },
    {
      "metadata": {
        "id": "5tpuEpDa9YFr",
        "colab_type": "code",
        "colab": {}
      },
      "cell_type": "code",
      "source": [
        "import category_encoders as ce"
      ],
      "execution_count": 0,
      "outputs": []
    },
    {
      "metadata": {
        "id": "0LGitjUH9zFh",
        "colab_type": "text"
      },
      "cell_type": "markdown",
      "source": [
        "Add the library's `OneHotEncoder` to a pipeline.\n",
        "\n",
        "Before, we fit on `X_train_numeric` and predict on `X_test_numeric`.\n",
        "\n",
        "Now, we fit on  `X_train` and predict on `X_test` (the original dataframes which include categorical columns)\n",
        "\n",
        " Test accuracy improves to 85%."
      ]
    },
    {
      "metadata": {
        "id": "s-WbXKo_9caL",
        "colab_type": "code",
        "outputId": "567d97fd-ceb8-467a-afa8-0cf31b1f601b",
        "colab": {
          "base_uri": "https://localhost:8080/",
          "height": 157
        }
      },
      "cell_type": "code",
      "source": [
        "pipeline = make_pipeline(\n",
        "    ce.OneHotEncoder(use_cat_names=True), \n",
        "    StandardScaler(), \n",
        "    LogisticRegression(solver='lbfgs')\n",
        ")\n",
        "\n",
        "pipeline.fit(X_train, y_train)\n",
        "y_pred = pipeline.predict(X_test)\n",
        "accuracy_score(y_test, y_pred)"
      ],
      "execution_count": 0,
      "outputs": [
        {
          "output_type": "stream",
          "text": [
            "/usr/local/lib/python3.6/dist-packages/sklearn/preprocessing/data.py:625: DataConversionWarning: Data with input dtype int64 were all converted to float64 by StandardScaler.\n",
            "  return self.partial_fit(X, y)\n",
            "/usr/local/lib/python3.6/dist-packages/sklearn/base.py:465: DataConversionWarning: Data with input dtype int64 were all converted to float64 by StandardScaler.\n",
            "  return self.fit(X, y, **fit_params).transform(X)\n",
            "/usr/local/lib/python3.6/dist-packages/sklearn/pipeline.py:331: DataConversionWarning: Data with input dtype int64 were all converted to float64 by StandardScaler.\n",
            "  Xt = transform.transform(Xt)\n"
          ],
          "name": "stderr"
        },
        {
          "output_type": "execute_result",
          "data": {
            "text/plain": [
              "0.8525274860266568"
            ]
          },
          "metadata": {
            "tags": []
          },
          "execution_count": 48
        }
      ]
    },
    {
      "metadata": {
        "id": "uljTyg29_QUd",
        "colab_type": "text"
      },
      "cell_type": "markdown",
      "source": [
        "Visualize coefficients"
      ]
    },
    {
      "metadata": {
        "id": "ExAx_96L-FPX",
        "colab_type": "code",
        "colab": {}
      },
      "cell_type": "code",
      "source": [
        "plt.figure(figsize=(10,30))\n",
        "plt.title('Coefficients')\n",
        "\n",
        "coefficients = pipeline.named_steps['logisticregression'].coef_[0]\n",
        "feature_names = pipeline.named_steps['onehotencoder'].transform(X_train).columns\n",
        "pd.Series(coefficients, feature_names).sort_values().plot.barh(color='gray');"
      ],
      "execution_count": 0,
      "outputs": []
    },
    {
      "metadata": {
        "id": "tlFfn7Em_oag",
        "colab_type": "text"
      },
      "cell_type": "markdown",
      "source": [
        "## Adult Census Income — Cross Validation with independent test set — fast first models"
      ]
    },
    {
      "metadata": {
        "id": "4SGmGHzsD4Jc",
        "colab_type": "text"
      },
      "cell_type": "markdown",
      "source": [
        "`cross_val_score(pipeline, X_train, y_train, cv=10)` repeats this process 10 times:\n",
        "- Use 9/10 of the training data to fit the model pipeline\n",
        "- Use 1/10 of the training data to predict and score the model pipeline\n",
        "\n",
        "The test data is not used here — it remains independent, held out."
      ]
    },
    {
      "metadata": {
        "id": "P5vYr738_Ujw",
        "colab_type": "code",
        "colab": {}
      },
      "cell_type": "code",
      "source": [
        "from sklearn.model_selection import cross_val_score\n",
        "\n",
        "scores = cross_val_score(pipeline, X_train, y_train, scoring='accuracy', cv=10)"
      ],
      "execution_count": 0,
      "outputs": []
    },
    {
      "metadata": {
        "id": "QMsxJIT4Bz7j",
        "colab_type": "text"
      },
      "cell_type": "markdown",
      "source": [
        "`cross_val_score(cv=10)` returns 10 scores"
      ]
    },
    {
      "metadata": {
        "id": "qPMbMk2_Am4y",
        "colab_type": "code",
        "outputId": "1cddcc0e-908b-41f6-8766-2792c108c5c2",
        "colab": {
          "base_uri": "https://localhost:8080/",
          "height": 51
        }
      },
      "cell_type": "code",
      "source": [
        "scores"
      ],
      "execution_count": 0,
      "outputs": [
        {
          "output_type": "execute_result",
          "data": {
            "text/plain": [
              "array([0.84771262, 0.85104423, 0.85565111, 0.84029484, 0.85288698,\n",
              "       0.85288698, 0.85288698, 0.85933661, 0.85411548, 0.84981572])"
            ]
          },
          "metadata": {
            "tags": []
          },
          "execution_count": 34
        }
      ]
    },
    {
      "metadata": {
        "id": "ATPvQ3CoBAEm",
        "colab_type": "text"
      },
      "cell_type": "markdown",
      "source": [
        "<img src=\"https://sebastianraschka.com/images/blog/2016/model-evaluation-selection-part3/loocv.png\" width=\"400\">\n",
        "\n",
        "Source: https://sebastianraschka.com/blog/2016/model-evaluation-selection-part3.html"
      ]
    },
    {
      "metadata": {
        "id": "2V7LTdNkBuCw",
        "colab_type": "text"
      },
      "cell_type": "markdown",
      "source": [
        "The scores have low variance."
      ]
    },
    {
      "metadata": {
        "id": "r52ICJ6OA66W",
        "colab_type": "code",
        "outputId": "04a04867-593c-4108-f017-9d84b7018b30",
        "colab": {
          "base_uri": "https://localhost:8080/",
          "height": 34
        }
      },
      "cell_type": "code",
      "source": [
        "scores.mean(), scores.std()"
      ],
      "execution_count": 0,
      "outputs": [
        {
          "output_type": "execute_result",
          "data": {
            "text/plain": [
              "(0.8516631537893435, 0.004836674045843519)"
            ]
          },
          "metadata": {
            "tags": []
          },
          "execution_count": 35
        }
      ]
    },
    {
      "metadata": {
        "id": "PCEEVP0wB9F3",
        "colab_type": "text"
      },
      "cell_type": "markdown",
      "source": [
        "<img src=\"https://sebastianraschka.com/images/blog/2016/model-evaluation-selection-part2/visual_bias_variance.png\" width=\"400\">\n",
        "\n",
        "Source: https://sebastianraschka.com/blog/2016/model-evaluation-selection-part2.html"
      ]
    },
    {
      "metadata": {
        "id": "RJWSU31EF-gY",
        "colab_type": "text"
      },
      "cell_type": "markdown",
      "source": [
        "## Adult Census Income — Train/Validation/Test split — fast first models"
      ]
    },
    {
      "metadata": {
        "id": "4_95UcNHGL0H",
        "colab_type": "text"
      },
      "cell_type": "markdown",
      "source": [
        "How can we get from a two-way split ..."
      ]
    },
    {
      "metadata": {
        "id": "oKJPJ9YNCADY",
        "colab_type": "code",
        "outputId": "f715f73d-5fe4-447d-ca3d-033d72b317cf",
        "colab": {
          "base_uri": "https://localhost:8080/",
          "height": 35
        }
      },
      "cell_type": "code",
      "source": [
        "X_train.shape, X_test.shape, y_train.shape, y_test.shape"
      ],
      "execution_count": 0,
      "outputs": [
        {
          "output_type": "execute_result",
          "data": {
            "text/plain": [
              "((32561, 14), (16281, 14), (32561,), (16281,))"
            ]
          },
          "metadata": {
            "tags": []
          },
          "execution_count": 37
        }
      ]
    },
    {
      "metadata": {
        "id": "GIYe9n1CGRTq",
        "colab_type": "text"
      },
      "cell_type": "markdown",
      "source": [
        "... to a three-way split?\n",
        "\n",
        "We can use the `sklearn.model_selection.train_test_split` function to split the training data into training and validation data."
      ]
    },
    {
      "metadata": {
        "id": "xj0gOpt3GKaB",
        "colab_type": "code",
        "colab": {}
      },
      "cell_type": "code",
      "source": [
        "from sklearn.model_selection import train_test_split\n",
        "\n",
        "X_train, X_val, y_train, y_val = train_test_split(X_train, y_train)"
      ],
      "execution_count": 0,
      "outputs": []
    },
    {
      "metadata": {
        "id": "_bVXKAMaHQwu",
        "colab_type": "code",
        "outputId": "f01f0d75-7ad8-40eb-d01a-40ce98025ea6",
        "colab": {
          "base_uri": "https://localhost:8080/",
          "height": 35
        }
      },
      "cell_type": "code",
      "source": [
        "X_train.shape, X_val.shape, X_test.shape, y_train.shape, y_val.shape, y_test.shape"
      ],
      "execution_count": 0,
      "outputs": [
        {
          "output_type": "execute_result",
          "data": {
            "text/plain": [
              "((24420, 14), (8141, 14), (16281, 14), (24420,), (8141,), (16281,))"
            ]
          },
          "metadata": {
            "tags": []
          },
          "execution_count": 39
        }
      ]
    },
    {
      "metadata": {
        "id": "xwP-E21FncyL",
        "colab_type": "text"
      },
      "cell_type": "markdown",
      "source": [
        "Fit on the training set.\n",
        "\n",
        "Predict and score with the validation set.\n",
        "\n",
        "Do not use the test set."
      ]
    },
    {
      "metadata": {
        "id": "PCYdaXn_nDUq",
        "colab_type": "code",
        "outputId": "429f6697-c43b-4cfc-bfd6-ec9fe384668f",
        "colab": {
          "base_uri": "https://localhost:8080/",
          "height": 158
        }
      },
      "cell_type": "code",
      "source": [
        "pipeline.fit(X_train, y_train)\n",
        "y_pred = pipeline.predict(X_val)\n",
        "accuracy_score(y_val, y_pred)"
      ],
      "execution_count": 0,
      "outputs": [
        {
          "output_type": "stream",
          "text": [
            "/usr/local/lib/python3.6/dist-packages/sklearn/preprocessing/data.py:625: DataConversionWarning: Data with input dtype int64 were all converted to float64 by StandardScaler.\n",
            "  return self.partial_fit(X, y)\n",
            "/usr/local/lib/python3.6/dist-packages/sklearn/base.py:465: DataConversionWarning: Data with input dtype int64 were all converted to float64 by StandardScaler.\n",
            "  return self.fit(X, y, **fit_params).transform(X)\n",
            "/usr/local/lib/python3.6/dist-packages/sklearn/pipeline.py:331: DataConversionWarning: Data with input dtype int64 were all converted to float64 by StandardScaler.\n",
            "  Xt = transform.transform(Xt)\n"
          ],
          "name": "stderr"
        },
        {
          "output_type": "execute_result",
          "data": {
            "text/plain": [
              "0.8534578061663186"
            ]
          },
          "metadata": {
            "tags": []
          },
          "execution_count": 40
        }
      ]
    },
    {
      "metadata": {
        "id": "qWesgBNF1lqi",
        "colab_type": "text"
      },
      "cell_type": "markdown",
      "source": [
        "## What to do with the test set?\n",
        "\n",
        "Hold it out. Keep it in a \"vault.\" Don't touch it until you're done with your models. "
      ]
    },
    {
      "metadata": {
        "id": "X4-zR44iJrS0",
        "colab_type": "text"
      },
      "cell_type": "markdown",
      "source": [
        "Here's one way to save your test set for later, with the feather file format.\n",
        "\n",
        "https://pandas.pydata.org/pandas-docs/stable/user_guide/io.html#io-feather"
      ]
    },
    {
      "metadata": {
        "id": "Rdcr60ytnQqb",
        "colab_type": "code",
        "outputId": "e7725a74-6f65-414b-af66-07562fd0cc2c",
        "colab": {
          "base_uri": "https://localhost:8080/",
          "height": 106
        }
      },
      "cell_type": "code",
      "source": [
        "!pip install -U feather-format"
      ],
      "execution_count": 0,
      "outputs": [
        {
          "output_type": "stream",
          "text": [
            "Requirement already up-to-date: feather-format in /usr/local/lib/python3.6/dist-packages (0.4.0)\n",
            "Requirement already satisfied, skipping upgrade: pyarrow>=0.4.0 in /usr/local/lib/python3.6/dist-packages (from feather-format) (0.12.0)\n",
            "Requirement already satisfied, skipping upgrade: numpy>=1.14 in /usr/local/lib/python3.6/dist-packages (from pyarrow>=0.4.0->feather-format) (1.14.6)\n",
            "Requirement already satisfied, skipping upgrade: six>=1.0.0 in /usr/local/lib/python3.6/dist-packages (from pyarrow>=0.4.0->feather-format) (1.11.0)\n"
          ],
          "name": "stdout"
        }
      ]
    },
    {
      "metadata": {
        "id": "U6OT4MKAJy4E",
        "colab_type": "code",
        "colab": {}
      },
      "cell_type": "code",
      "source": [
        "X_test.reset_index(drop=True).to_feather('X_test.feather')\n",
        "pd.DataFrame(y_test).reset_index(drop=True).to_feather('y_test.feather')"
      ],
      "execution_count": 0,
      "outputs": []
    },
    {
      "metadata": {
        "id": "-vqa0dYPJ5Zs",
        "colab_type": "text"
      },
      "cell_type": "markdown",
      "source": [
        "You can save the files from Google Colab to your local machine"
      ]
    },
    {
      "metadata": {
        "id": "_sNBr8djJ3hO",
        "colab_type": "code",
        "colab": {}
      },
      "cell_type": "code",
      "source": [
        "from google.colab import files\n",
        "files.download('X_test.feather')\n",
        "files.download('y_test.feather')"
      ],
      "execution_count": 0,
      "outputs": []
    },
    {
      "metadata": {
        "id": "DanimdzNJ-Vd",
        "colab_type": "text"
      },
      "cell_type": "markdown",
      "source": [
        "You can delete the variables from your notebook's runtime"
      ]
    },
    {
      "metadata": {
        "id": "24YTaftEKBeP",
        "colab_type": "code",
        "colab": {}
      },
      "cell_type": "code",
      "source": [
        "del X_test, y_test"
      ],
      "execution_count": 0,
      "outputs": []
    },
    {
      "metadata": {
        "id": "xSXSLYtmJWzN",
        "colab_type": "text"
      },
      "cell_type": "markdown",
      "source": [
        "## Why hold out an independent test set?"
      ]
    },
    {
      "metadata": {
        "id": "yTQB9VIaI3yu",
        "colab_type": "text"
      },
      "cell_type": "markdown",
      "source": [
        "Owen Zhang, [Winning Data Science Competitions](https://www.slideshare.net/OwenZhang2/tips-for-data-science-competitions)\n",
        "\n",
        "- There are many ways to overfit. Beware of \"multiple comparison fallacy.\" There is a cost in \"peeking at the answer.\"\n",
        "- Good validation is _more important_ than good models. Simple training/validation split is _not_ enough. When you looked at your validation result for the Nth time, you are training models on it.\n",
        "- If possible, have \"holdout\" dataset that you do not touch at all during model build process. This includes feature extraction, etc.\n",
        "- What if holdout result is bad? Be brave and scrap the project."
      ]
    },
    {
      "metadata": {
        "id": "YR1WLnpHJQ86",
        "colab_type": "text"
      },
      "cell_type": "markdown",
      "source": [
        "Hastie, Tibshirani, and Friedman, [The Elements of Statistical Learning](http://statweb.stanford.edu/~tibs/ElemStatLearn/), Chapter 7: Model Assessment and Selection\n",
        "\n",
        "> If we are in a data-rich situation, the best approach is to randomly divide the dataset into three parts: a training set, a validation set, and a test set. The training set is used to fit the models; the validation set is used to estimate prediction error for model selection; the test set is used for assessment of the generalization error of the final chosen model. Ideally, the test set should be kept in a \"vault,\" and be brought out only at the end of the data analysis. Suppose instead that we use the test-set repeatedly, choosing the model with the smallest test-set error. Then the test set error of the final chosen model will underestimate the true test error, sometimes substantially."
      ]
    },
    {
      "metadata": {
        "id": "NZ2D0fiapf2X",
        "colab_type": "text"
      },
      "cell_type": "markdown",
      "source": [
        "Andreas Mueller and Sarah Guido, [Introduction to Machine Learning with Python](https://books.google.com/books?id=1-4lDQAAQBAJ&pg=PA270)\n",
        "\n",
        "> The distinction between the training set, validation set, and test set is fundamentally important to applying machine learning methods in practice. Any choices made based on the test set accuracy \"leak\" information from the test set into the model. Therefore, it is important to keep a separate test set, which is only used for the final evaluation. It is good practice to do all exploratory analysis and model selection using the combination of a training and a validation set, and reserve the test set for a final evaluation - this is even true for exploratory visualization. Strictly speaking, evaluating more than one model on the test set and choosing the better of the two will result in an overly optimistic estimate of how accurate the model is."
      ]
    },
    {
      "metadata": {
        "id": "v5-2adVxpCBx",
        "colab_type": "text"
      },
      "cell_type": "markdown",
      "source": [
        "Hadley Wickham, [R for Data Science](https://r4ds.had.co.nz/model-intro.html#hypothesis-generation-vs.hypothesis-confirmation)\n",
        "\n",
        "> There is a pair of ideas that you must understand in order to do inference correctly:\n",
        "\n",
        "> 1. Each observation can either be used for exploration or confirmation, not both.\n",
        "\n",
        "> 2. You can use an observation as many times as you like for exploration, but you can only use it once for confirmation. As soon as you use an observation twice, you’ve switched from confirmation to exploration.\n",
        "\n",
        "> This is necessary because to confirm a hypothesis you must use data independent of the data that you used to generate the hypothesis. Otherwise you will be over optimistic. There is absolutely nothing wrong with exploration, but you should never sell an exploratory analysis as a confirmatory analysis because it is fundamentally misleading.\n",
        "\n",
        "> If you are serious about doing an confirmatory analysis, one approach is to split your data into three pieces before you begin the analysis."
      ]
    },
    {
      "metadata": {
        "id": "ZSZBWmkMMbJR",
        "colab_type": "text"
      },
      "cell_type": "markdown",
      "source": [
        "## Should you shuffle?\n",
        "\n",
        "Sometimes yes, sometimes no. Experts may seem to give conflicting advice! Partly, that perception is true. Partly, the right choices depend on your data and your goals.\n",
        "\n",
        "[Hastie, Tibshirani, and Friedman](http://statweb.stanford.edu/~tibs/ElemStatLearn/) write,\n",
        "> randomly divide the dataset into three parts: a training set, a validation set, and a test set. \n",
        "\n",
        "But [Rachel Thomas](\n",
        "https://www.fast.ai/2017/11/13/validation-sets/) asks, \"When is a random subset not good enough?\" and gives many good examples.\n",
        "> If your data is a time series, choosing a random subset of the data will be both too easy (you can look at the data both before and after the dates your are trying to predict) and not representative of most business use cases (where you are using historical data to build a model for use in the future).\n",
        "\n",
        "> In the Kaggle distracted driver competition, the independent data are pictures of drivers at the wheel of a car, and the dependent variable is a category such as texting, eating, or safely looking ahead. If you were the insurance company building a model from this data, note that you would be most interested in how the model performs on drivers you haven’t seen before (since you would likely have training data only for a small group of people). \n",
        "\n",
        "> A similar dynamic was at work in the Kaggle fisheries competition to identify the species of fish caught by fishing boats in order to reduce illegal fishing of endangered populations. The test set consisted of boats that didn’t appear in the training data. This means that you’d want your validation set to include boats that are not in the training set.\n",
        "\n",
        "\n",
        "\n",
        "\n",
        "[Owen Zhang](https://www.slideshare.net/OwenZhang2/tips-for-data-science-competitions/10) recommends using your most recent data for your hold out test set, instead of choosing your test set with random shuffling. But he says you are free to use random splits to train and tune models.\n",
        "\n",
        "> Make validation dataset as realistic as possible. Usually this means \"out-of-time\" validation. You are free to use \"in-time\" random split to build models, tune parameters, etc. But hold out data should be out-of-time.\n",
        "\n",
        "Note that Owen Zhang's slide could be confusing, because of ambiguous terminology:\n",
        "- What he calls \"validation dataset\" and \"hold out data\" is what we're calling \"test set.\"\n",
        "- He also says \"cross-validation\" is an \"exception to the rule\" to use \"when data is extremely small.\" There he is talking about \"Cross-validation _without_ independent test set\", _not_ \"Cross-validation _with_ independent test set.\""
      ]
    },
    {
      "metadata": {
        "id": "ipwGmpd7Kk94",
        "colab_type": "text"
      },
      "cell_type": "markdown",
      "source": [
        "**Sometimes you need to shuffle, like in this next example:**"
      ]
    },
    {
      "metadata": {
        "id": "9Doto5c61sNj",
        "colab_type": "text"
      },
      "cell_type": "markdown",
      "source": [
        "## Iris flowers — Train/Validation/Test split?"
      ]
    },
    {
      "metadata": {
        "id": "ow3Ev3JqK0cj",
        "colab_type": "text"
      },
      "cell_type": "markdown",
      "source": [
        "Load the Iris dataset"
      ]
    },
    {
      "metadata": {
        "id": "ShfEoOxNKjV9",
        "colab_type": "code",
        "colab": {}
      },
      "cell_type": "code",
      "source": [
        "from sklearn.datasets import load_iris\n",
        "iris = load_iris()\n",
        "X = iris.data\n",
        "y = iris.target"
      ],
      "execution_count": 0,
      "outputs": []
    },
    {
      "metadata": {
        "id": "Obd9wa7iK-ID",
        "colab_type": "text"
      },
      "cell_type": "markdown",
      "source": [
        "What would happen if you didn't shuffle this data?"
      ]
    },
    {
      "metadata": {
        "id": "-TF5eIYeK_Rt",
        "colab_type": "code",
        "outputId": "9ab27419-3534-4635-f234-adca36538119",
        "colab": {
          "base_uri": "https://localhost:8080/",
          "height": 138
        }
      },
      "cell_type": "code",
      "source": [
        "y"
      ],
      "execution_count": 0,
      "outputs": [
        {
          "output_type": "execute_result",
          "data": {
            "text/plain": [
              "array([0, 0, 0, 0, 0, 0, 0, 0, 0, 0, 0, 0, 0, 0, 0, 0, 0, 0, 0, 0, 0, 0,\n",
              "       0, 0, 0, 0, 0, 0, 0, 0, 0, 0, 0, 0, 0, 0, 0, 0, 0, 0, 0, 0, 0, 0,\n",
              "       0, 0, 0, 0, 0, 0, 1, 1, 1, 1, 1, 1, 1, 1, 1, 1, 1, 1, 1, 1, 1, 1,\n",
              "       1, 1, 1, 1, 1, 1, 1, 1, 1, 1, 1, 1, 1, 1, 1, 1, 1, 1, 1, 1, 1, 1,\n",
              "       1, 1, 1, 1, 1, 1, 1, 1, 1, 1, 1, 1, 2, 2, 2, 2, 2, 2, 2, 2, 2, 2,\n",
              "       2, 2, 2, 2, 2, 2, 2, 2, 2, 2, 2, 2, 2, 2, 2, 2, 2, 2, 2, 2, 2, 2,\n",
              "       2, 2, 2, 2, 2, 2, 2, 2, 2, 2, 2, 2, 2, 2, 2, 2, 2, 2])"
            ]
          },
          "metadata": {
            "tags": []
          },
          "execution_count": 48
        }
      ]
    },
    {
      "metadata": {
        "id": "ftRJA9b1LHEG",
        "colab_type": "text"
      },
      "cell_type": "markdown",
      "source": [
        "Let's try it!\n",
        "\n",
        "We'll do a train/validation/test split, with and without random shuffling.\n",
        "\n",
        "[Rachel Thomas]( https://www.fast.ai/2017/11/13/validation-sets/) points out that \"sklearn has a `train_test_split` method, but no `train_validation_test_split`.\"\n",
        "\n",
        "So we can write our own:\n"
      ]
    },
    {
      "metadata": {
        "id": "8RKcKFA9Ll7z",
        "colab_type": "code",
        "colab": {}
      },
      "cell_type": "code",
      "source": [
        "def train_validation_test_split(\n",
        "    X, y, train_size=0.8, val_size=0.1, test_size=0.1, \n",
        "    random_state=None, shuffle=True):\n",
        "        \n",
        "    assert train_size + val_size + test_size == 1\n",
        "    \n",
        "    X_train_val, X_test, y_train_val, y_test = train_test_split(\n",
        "        X, y, test_size=test_size, random_state=random_state, shuffle=shuffle)\n",
        "    \n",
        "    X_train, X_val, y_train, y_val = train_test_split(\n",
        "        X_train_val, y_train_val, test_size=val_size/(train_size+val_size), \n",
        "        random_state=random_state, shuffle=shuffle)\n",
        "    \n",
        "    return X_train, X_val, X_test, y_train, y_val, y_test"
      ],
      "execution_count": 0,
      "outputs": []
    },
    {
      "metadata": {
        "id": "C6rtSKRjM-IJ",
        "colab_type": "text"
      },
      "cell_type": "markdown",
      "source": [
        "Split Iris data into train/validation/test sets, _without_ random shuffling"
      ]
    },
    {
      "metadata": {
        "id": "XZH057JSLmwH",
        "colab_type": "code",
        "colab": {}
      },
      "cell_type": "code",
      "source": [
        "X_train, X_val, X_test, y_train, y_val, y_test = train_validation_test_split(\n",
        "    X, y, shuffle=False)"
      ],
      "execution_count": 0,
      "outputs": []
    },
    {
      "metadata": {
        "id": "GbW1sgSTUa3M",
        "colab_type": "text"
      },
      "cell_type": "markdown",
      "source": [
        "Look at the train, validation, and test targets"
      ]
    },
    {
      "metadata": {
        "id": "kRWwDV4CLyZ2",
        "colab_type": "code",
        "outputId": "933e36ba-e3df-410d-dcf7-34efd1d2297c",
        "colab": {
          "base_uri": "https://localhost:8080/",
          "height": 121
        }
      },
      "cell_type": "code",
      "source": [
        "y_train"
      ],
      "execution_count": 0,
      "outputs": [
        {
          "output_type": "execute_result",
          "data": {
            "text/plain": [
              "array([0, 0, 0, 0, 0, 0, 0, 0, 0, 0, 0, 0, 0, 0, 0, 0, 0, 0, 0, 0, 0, 0,\n",
              "       0, 0, 0, 0, 0, 0, 0, 0, 0, 0, 0, 0, 0, 0, 0, 0, 0, 0, 0, 0, 0, 0,\n",
              "       0, 0, 0, 0, 0, 0, 1, 1, 1, 1, 1, 1, 1, 1, 1, 1, 1, 1, 1, 1, 1, 1,\n",
              "       1, 1, 1, 1, 1, 1, 1, 1, 1, 1, 1, 1, 1, 1, 1, 1, 1, 1, 1, 1, 1, 1,\n",
              "       1, 1, 1, 1, 1, 1, 1, 1, 1, 1, 1, 1, 2, 2, 2, 2, 2, 2, 2, 2, 2, 2,\n",
              "       2, 2, 2, 2, 2, 2, 2, 2, 2])"
            ]
          },
          "metadata": {
            "tags": []
          },
          "execution_count": 51
        }
      ]
    },
    {
      "metadata": {
        "id": "5idO3xNcUXpe",
        "colab_type": "code",
        "outputId": "c0ffacbf-53dc-454d-a6f5-8f098d25d772",
        "colab": {
          "base_uri": "https://localhost:8080/",
          "height": 35
        }
      },
      "cell_type": "code",
      "source": [
        "y_val"
      ],
      "execution_count": 0,
      "outputs": [
        {
          "output_type": "execute_result",
          "data": {
            "text/plain": [
              "array([2, 2, 2, 2, 2, 2, 2, 2, 2, 2, 2, 2, 2, 2, 2, 2])"
            ]
          },
          "metadata": {
            "tags": []
          },
          "execution_count": 52
        }
      ]
    },
    {
      "metadata": {
        "id": "H-uGeLEvUY1p",
        "colab_type": "code",
        "outputId": "22662b3f-4c2c-4f26-bff4-1fdaf706a7a6",
        "colab": {
          "base_uri": "https://localhost:8080/",
          "height": 35
        }
      },
      "cell_type": "code",
      "source": [
        "y_test"
      ],
      "execution_count": 0,
      "outputs": [
        {
          "output_type": "execute_result",
          "data": {
            "text/plain": [
              "array([2, 2, 2, 2, 2, 2, 2, 2, 2, 2, 2, 2, 2, 2, 2])"
            ]
          },
          "metadata": {
            "tags": []
          },
          "execution_count": 53
        }
      ]
    },
    {
      "metadata": {
        "id": "0MqgrHtdUz3p",
        "colab_type": "text"
      },
      "cell_type": "markdown",
      "source": [
        "Split Iris data into train/validation/test sets, _with_ random shuffling"
      ]
    },
    {
      "metadata": {
        "id": "LcCr7C3OUZ94",
        "colab_type": "code",
        "colab": {}
      },
      "cell_type": "code",
      "source": [
        "X_train, X_val, X_test, y_train, y_val, y_test = train_validation_test_split(\n",
        "    X, y, shuffle=True)"
      ],
      "execution_count": 0,
      "outputs": []
    },
    {
      "metadata": {
        "id": "FJG8yg-bVBqa",
        "colab_type": "text"
      },
      "cell_type": "markdown",
      "source": [
        "Look at the train, validation, and test targets"
      ]
    },
    {
      "metadata": {
        "id": "R0gY3R9LUk5t",
        "colab_type": "code",
        "outputId": "73d09385-edd2-4b57-f390-eecc1939d152",
        "colab": {
          "base_uri": "https://localhost:8080/",
          "height": 121
        }
      },
      "cell_type": "code",
      "source": [
        "y_train"
      ],
      "execution_count": 0,
      "outputs": [
        {
          "output_type": "execute_result",
          "data": {
            "text/plain": [
              "array([0, 1, 0, 0, 2, 0, 1, 2, 0, 0, 0, 0, 0, 0, 1, 0, 0, 2, 2, 2, 0, 1,\n",
              "       1, 2, 1, 0, 0, 1, 1, 0, 2, 0, 0, 2, 1, 2, 1, 1, 0, 1, 1, 2, 1, 0,\n",
              "       0, 0, 0, 2, 1, 2, 1, 0, 1, 2, 1, 1, 1, 1, 2, 0, 2, 2, 2, 2, 1, 2,\n",
              "       2, 1, 2, 0, 1, 2, 0, 0, 0, 1, 2, 0, 0, 1, 1, 1, 0, 2, 2, 2, 2, 2,\n",
              "       0, 1, 0, 2, 0, 0, 1, 1, 1, 1, 2, 0, 2, 2, 2, 2, 1, 2, 0, 2, 1, 0,\n",
              "       2, 1, 2, 2, 2, 0, 1, 0, 0])"
            ]
          },
          "metadata": {
            "tags": []
          },
          "execution_count": 55
        }
      ]
    },
    {
      "metadata": {
        "id": "G50zgzBkUuDF",
        "colab_type": "code",
        "outputId": "a9786375-d5ff-4f8e-806f-845e47d11339",
        "colab": {
          "base_uri": "https://localhost:8080/",
          "height": 35
        }
      },
      "cell_type": "code",
      "source": [
        "y_val"
      ],
      "execution_count": 0,
      "outputs": [
        {
          "output_type": "execute_result",
          "data": {
            "text/plain": [
              "array([0, 1, 0, 2, 0, 1, 2, 0, 1, 1, 0, 0, 0, 1, 2, 0])"
            ]
          },
          "metadata": {
            "tags": []
          },
          "execution_count": 56
        }
      ]
    },
    {
      "metadata": {
        "id": "hN-767fxUvHF",
        "colab_type": "code",
        "outputId": "16ad50c6-ec4d-4de8-ea7f-319d1b349efc",
        "colab": {
          "base_uri": "https://localhost:8080/",
          "height": 35
        }
      },
      "cell_type": "code",
      "source": [
        "y_test"
      ],
      "execution_count": 0,
      "outputs": [
        {
          "output_type": "execute_result",
          "data": {
            "text/plain": [
              "array([1, 1, 2, 2, 2, 1, 1, 1, 2, 2, 2, 2, 1, 1, 1])"
            ]
          },
          "metadata": {
            "tags": []
          },
          "execution_count": 57
        }
      ]
    },
    {
      "metadata": {
        "id": "a5E-ApbhVK7S",
        "colab_type": "text"
      },
      "cell_type": "markdown",
      "source": [
        "That's better, but there's just not enough data for a three-way split. In fact, there's not much data for a two-way split. The Iris dataset is a rare example where you probably do want to use cross-validation _without_ an independent test set."
      ]
    },
    {
      "metadata": {
        "id": "IlR-JFMz1uJD",
        "colab_type": "text"
      },
      "cell_type": "markdown",
      "source": [
        "## Bank Marketing — shuffled or split by time?"
      ]
    },
    {
      "metadata": {
        "id": "66D5zQJZVsOw",
        "colab_type": "text"
      },
      "cell_type": "markdown",
      "source": [
        "https://archive.ics.uci.edu/ml/datasets/Bank+Marketing\n",
        "\n",
        "The data is related with direct marketing campaigns of a Portuguese banking institution. The marketing campaigns were based on phone calls. Often, more than one contact to the same client was required, in order to access if the product (bank term deposit) would be ('yes') or not ('no') subscribed. \n",
        "\n",
        "bank-additional-full.csv with all examples (41188) and 20 inputs, **ordered by date (from May 2008 to November 2010)**"
      ]
    },
    {
      "metadata": {
        "id": "FNu4xmu1Vvtj",
        "colab_type": "code",
        "colab": {}
      },
      "cell_type": "code",
      "source": [
        "!wget https://archive.ics.uci.edu/ml/machine-learning-databases/00222/bank-additional.zip"
      ],
      "execution_count": 0,
      "outputs": []
    },
    {
      "metadata": {
        "id": "cGsCdBSoVwZU",
        "colab_type": "code",
        "colab": {}
      },
      "cell_type": "code",
      "source": [
        "!unzip bank-additional.zip"
      ],
      "execution_count": 0,
      "outputs": []
    },
    {
      "metadata": {
        "id": "FmtEAZeWVx6B",
        "colab_type": "code",
        "colab": {}
      },
      "cell_type": "code",
      "source": [
        "%cd bank-additional"
      ],
      "execution_count": 0,
      "outputs": []
    },
    {
      "metadata": {
        "id": "8ucARvXRV2VG",
        "colab_type": "code",
        "colab": {}
      },
      "cell_type": "code",
      "source": [
        "bank = pd.read_csv('bank-additional-full.csv', sep=';')\n",
        "\n",
        "X = bank.drop(columns='y')\n",
        "y = bank['y'] == 'yes'"
      ],
      "execution_count": 0,
      "outputs": []
    },
    {
      "metadata": {
        "id": "dLpHSzvOV7VV",
        "colab_type": "text"
      },
      "cell_type": "markdown",
      "source": [
        "### Shuffled split?"
      ]
    },
    {
      "metadata": {
        "id": "o73gJvtCWEEP",
        "colab_type": "code",
        "colab": {}
      },
      "cell_type": "code",
      "source": [
        "X_train, X_val, X_test, y_train, y_val, y_test = train_validation_test_split(\n",
        "    X, y, shuffle=True)"
      ],
      "execution_count": 0,
      "outputs": []
    },
    {
      "metadata": {
        "id": "-1uTNhM1WHzY",
        "colab_type": "code",
        "outputId": "52f97ccf-8c89-496e-c2e2-e8d635e39453",
        "colab": {
          "base_uri": "https://localhost:8080/",
          "height": 35
        }
      },
      "cell_type": "code",
      "source": [
        "[array.shape for array in (X_train, X_val, X_test, y_train, y_val, y_test)]"
      ],
      "execution_count": 0,
      "outputs": [
        {
          "output_type": "execute_result",
          "data": {
            "text/plain": [
              "[(32950, 20), (4119, 20), (4119, 20), (32950,), (4119,), (4119,)]"
            ]
          },
          "metadata": {
            "tags": []
          },
          "execution_count": 68
        }
      ]
    },
    {
      "metadata": {
        "id": "qLOpqjRnWIYG",
        "colab_type": "code",
        "outputId": "be7bb699-511f-4579-abc5-9d86886c67fe",
        "colab": {
          "base_uri": "https://localhost:8080/",
          "height": 35
        }
      },
      "cell_type": "code",
      "source": [
        "y_train.mean(), y_val.mean(), y_test.mean()"
      ],
      "execution_count": 0,
      "outputs": [
        {
          "output_type": "execute_result",
          "data": {
            "text/plain": [
              "(0.11177541729893778, 0.11726147123088128, 0.11507647487254188)"
            ]
          },
          "metadata": {
            "tags": []
          },
          "execution_count": 69
        }
      ]
    },
    {
      "metadata": {
        "id": "FmyRVRrhWP9W",
        "colab_type": "text"
      },
      "cell_type": "markdown",
      "source": [
        "### Split by time?"
      ]
    },
    {
      "metadata": {
        "id": "PJMAPBolWUFs",
        "colab_type": "code",
        "colab": {}
      },
      "cell_type": "code",
      "source": [
        "X_train, X_val, X_test, y_train, y_val, y_test = train_validation_test_split(\n",
        "    X, y, shuffle=False)"
      ],
      "execution_count": 0,
      "outputs": []
    },
    {
      "metadata": {
        "id": "vbw2Sg-JWU-b",
        "colab_type": "code",
        "outputId": "b4889edf-d959-454b-c193-238578cdc248",
        "colab": {
          "base_uri": "https://localhost:8080/",
          "height": 35
        }
      },
      "cell_type": "code",
      "source": [
        "[array.shape for array in (X_train, X_val, X_test, y_train, y_val, y_test)]"
      ],
      "execution_count": 0,
      "outputs": [
        {
          "output_type": "execute_result",
          "data": {
            "text/plain": [
              "[(32950, 20), (4119, 20), (4119, 20), (32950,), (4119,), (4119,)]"
            ]
          },
          "metadata": {
            "tags": []
          },
          "execution_count": 71
        }
      ]
    },
    {
      "metadata": {
        "id": "QF7DiZbFWWGo",
        "colab_type": "code",
        "outputId": "30b4a8a8-7a18-4b33-f12e-0545d8e602c0",
        "colab": {
          "base_uri": "https://localhost:8080/",
          "height": 35
        }
      },
      "cell_type": "code",
      "source": [
        "y_train.mean(), y_val.mean(), y_test.mean()"
      ],
      "execution_count": 0,
      "outputs": [
        {
          "output_type": "execute_result",
          "data": {
            "text/plain": [
              "(0.0637329286798179, 0.157319737800437, 0.4593347899975722)"
            ]
          },
          "metadata": {
            "tags": []
          },
          "execution_count": 72
        }
      ]
    },
    {
      "metadata": {
        "id": "7rWfygKtWZPg",
        "colab_type": "code",
        "outputId": "0fec549c-9632-457c-c68c-1659c1665b56",
        "colab": {
          "base_uri": "https://localhost:8080/",
          "height": 269
        }
      },
      "cell_type": "code",
      "source": [
        "y.rolling(500).mean().plot();"
      ],
      "execution_count": 0,
      "outputs": [
        {
          "output_type": "display_data",
          "data": {
            "image/png": "[encoded data removed]",
            "text/plain": [
              "<Figure size 432x288 with 1 Axes>"
            ]
          },
          "metadata": {
            "tags": []
          }
        }
      ]
    },
    {
      "metadata": {
        "id": "uD3xRARIWbnW",
        "colab_type": "text"
      },
      "cell_type": "markdown",
      "source": [
        "***The \"right\" choice here is unclear, but either way, it will make a big difference!***"
      ]
    },
    {
      "metadata": {
        "id": "Ibhax45nNcDJ",
        "colab_type": "text"
      },
      "cell_type": "markdown",
      "source": [
        "# ASSIGNMENT options\n",
        "\n",
        "- Replicate the lesson code. [Do it \"the hard way\" or with the \"Benjamin Franklin method.\"](https://docs.google.com/document/d/1ubOw9B3Hfip27hF2ZFnW3a3z9xAgrUDRReOEo-FHCVs/edit)\n",
        "- Apply the lesson to other datasets you've worked with before, and compare results.\n",
        "- Choose how to split the Bank Marketing dataset. Train and validate baseline models. _Is there a feature you should remove, to prevent \"leakage\"?_\n",
        "- Get weather data for your own area and calculate both baselines.  _\"One (persistence) predicts that the weather tomorrow is going to be whatever it was today. The other (climatology) predicts whatever the average historical weather has been on this day from prior years.\"_ What is the mean absolute error for each baseline? What if you average the two together? \n",
        "- When would this notebook's pipelines fail? How could you fix them? Add more [preprocessing](https://scikit-learn.org/stable/modules/preprocessing.html) and [imputation](https://scikit-learn.org/stable/modules/impute.html) to your [pipelines](https://scikit-learn.org/stable/modules/compose.html) with scikit-learn.\n",
        "- [This example from scikit-learn documentation](https://scikit-learn.org/stable/auto_examples/compose/plot_column_transformer_mixed_types.html) demonstrates its improved `OneHotEncoder` and new `ColumnTransformer` objects, which can replace functionality from [third-party libraries](https://github.com/scikit-learn-contrib) like category_encoders and sklearn-pandas. Adapt this example, which uses Titanic data, to work with another dataset.\n",
        "\n",
        "\n",
        "\n",
        "\n"
      ]
    },
    {
      "metadata": {
        "id": "b1pgLvaEr4El",
        "colab_type": "code",
        "colab": {}
      },
      "cell_type": "code",
      "source": [
        "import pandas as pd\n",
        "import numpy as np\n",
        "import matplotlib.pyplot as plt\n",
        "import seaborn as sns"
      ],
      "execution_count": 0,
      "outputs": []
    },
    {
      "metadata": {
        "id": "l2OFOhZEqssL",
        "colab_type": "code",
        "outputId": "30ea3cc5-95e5-4c91-ea48-d83c74dc8133",
        "colab": {
          "base_uri": "https://localhost:8080/",
          "height": 240
        }
      },
      "cell_type": "code",
      "source": [
        "# Split Bank Marketing - train, validate,\n",
        "!wget https://archive.ics.uci.edu/ml/machine-learning-databases/00222/bank-additional.zip\n",
        "\n",
        "!unzip bank-additional.zip\n"
      ],
      "execution_count": 3,
      "outputs": [
        {
          "output_type": "stream",
          "text": [
            "--2019-01-29 19:54:51--  https://archive.ics.uci.edu/ml/machine-learning-databases/00222/bank-additional.zip\n",
            "Resolving archive.ics.uci.edu (archive.ics.uci.edu)... 128.195.10.249\n",
            "Connecting to archive.ics.uci.edu (archive.ics.uci.edu)|128.195.10.249|:443... connected.\n",
            "HTTP request sent, awaiting response... 200 OK\n",
            "Length: 444572 (434K) [application/zip]\n",
            "Saving to: ‘bank-additional.zip.1’\n",
            "\n",
            "bank-additional.zip 100%[===================>] 434.15K   512KB/s    in 0.8s    \n",
            "\n",
            "2019-01-29 19:54:52 (512 KB/s) - ‘bank-additional.zip.1’ saved [444572/444572]\n",
            "\n",
            "Archive:  bank-additional.zip\n",
            "replace bank-additional/.DS_Store? [y]es, [n]o, [A]ll, [N]one, [r]ename: N\n"
          ],
          "name": "stdout"
        }
      ]
    },
    {
      "metadata": {
        "id": "cCOMamJ6rIUv",
        "colab_type": "code",
        "colab": {}
      },
      "cell_type": "code",
      "source": [
        "bank = pd.read_csv('bank-additional/bank-additional-full.csv', sep=';')\n",
        "\n",
        "X = bank.drop(columns='y')\n",
        "y = bank['y'] == 'yes'"
      ],
      "execution_count": 0,
      "outputs": []
    },
    {
      "metadata": {
        "id": "b7UB13UcwUzX",
        "colab_type": "code",
        "outputId": "6575dcc1-5c26-468a-c0cf-ff993db0779f",
        "colab": {
          "base_uri": "https://localhost:8080/",
          "height": 218
        }
      },
      "cell_type": "code",
      "source": [
        "X.head()"
      ],
      "execution_count": 5,
      "outputs": [
        {
          "output_type": "execute_result",
          "data": {
            "text/html": [
              "<div>\n",
              "<style scoped>\n",
              "    .dataframe tbody tr th:only-of-type {\n",
              "        vertical-align: middle;\n",
              "    }\n",
              "\n",
              "    .dataframe tbody tr th {\n",
              "        vertical-align: top;\n",
              "    }\n",
              "\n",
              "    .dataframe thead th {\n",
              "        text-align: right;\n",
              "    }\n",
              "</style>\n",
              "<table border=\"1\" class=\"dataframe\">\n",
              "  <thead>\n",
              "    <tr style=\"text-align: right;\">\n",
              "      <th></th>\n",
              "      <th>age</th>\n",
              "      <th>job</th>\n",
              "      <th>marital</th>\n",
              "      <th>education</th>\n",
              "      <th>default</th>\n",
              "      <th>housing</th>\n",
              "      <th>loan</th>\n",
              "      <th>contact</th>\n",
              "      <th>month</th>\n",
              "      <th>day_of_week</th>\n",
              "      <th>duration</th>\n",
              "      <th>campaign</th>\n",
              "      <th>pdays</th>\n",
              "      <th>previous</th>\n",
              "      <th>poutcome</th>\n",
              "      <th>emp.var.rate</th>\n",
              "      <th>cons.price.idx</th>\n",
              "      <th>cons.conf.idx</th>\n",
              "      <th>euribor3m</th>\n",
              "      <th>nr.employed</th>\n",
              "    </tr>\n",
              "  </thead>\n",
              "  <tbody>\n",
              "    <tr>\n",
              "      <th>0</th>\n",
              "      <td>56</td>\n",
              "      <td>housemaid</td>\n",
              "      <td>married</td>\n",
              "      <td>basic.4y</td>\n",
              "      <td>no</td>\n",
              "      <td>no</td>\n",
              "      <td>no</td>\n",
              "      <td>telephone</td>\n",
              "      <td>may</td>\n",
              "      <td>mon</td>\n",
              "      <td>261</td>\n",
              "      <td>1</td>\n",
              "      <td>999</td>\n",
              "      <td>0</td>\n",
              "      <td>nonexistent</td>\n",
              "      <td>1.1</td>\n",
              "      <td>93.994</td>\n",
              "      <td>-36.4</td>\n",
              "      <td>4.857</td>\n",
              "      <td>5191.0</td>\n",
              "    </tr>\n",
              "    <tr>\n",
              "      <th>1</th>\n",
              "      <td>57</td>\n",
              "      <td>services</td>\n",
              "      <td>married</td>\n",
              "      <td>high.school</td>\n",
              "      <td>unknown</td>\n",
              "      <td>no</td>\n",
              "      <td>no</td>\n",
              "      <td>telephone</td>\n",
              "      <td>may</td>\n",
              "      <td>mon</td>\n",
              "      <td>149</td>\n",
              "      <td>1</td>\n",
              "      <td>999</td>\n",
              "      <td>0</td>\n",
              "      <td>nonexistent</td>\n",
              "      <td>1.1</td>\n",
              "      <td>93.994</td>\n",
              "      <td>-36.4</td>\n",
              "      <td>4.857</td>\n",
              "      <td>5191.0</td>\n",
              "    </tr>\n",
              "    <tr>\n",
              "      <th>2</th>\n",
              "      <td>37</td>\n",
              "      <td>services</td>\n",
              "      <td>married</td>\n",
              "      <td>high.school</td>\n",
              "      <td>no</td>\n",
              "      <td>yes</td>\n",
              "      <td>no</td>\n",
              "      <td>telephone</td>\n",
              "      <td>may</td>\n",
              "      <td>mon</td>\n",
              "      <td>226</td>\n",
              "      <td>1</td>\n",
              "      <td>999</td>\n",
              "      <td>0</td>\n",
              "      <td>nonexistent</td>\n",
              "      <td>1.1</td>\n",
              "      <td>93.994</td>\n",
              "      <td>-36.4</td>\n",
              "      <td>4.857</td>\n",
              "      <td>5191.0</td>\n",
              "    </tr>\n",
              "    <tr>\n",
              "      <th>3</th>\n",
              "      <td>40</td>\n",
              "      <td>admin.</td>\n",
              "      <td>married</td>\n",
              "      <td>basic.6y</td>\n",
              "      <td>no</td>\n",
              "      <td>no</td>\n",
              "      <td>no</td>\n",
              "      <td>telephone</td>\n",
              "      <td>may</td>\n",
              "      <td>mon</td>\n",
              "      <td>151</td>\n",
              "      <td>1</td>\n",
              "      <td>999</td>\n",
              "      <td>0</td>\n",
              "      <td>nonexistent</td>\n",
              "      <td>1.1</td>\n",
              "      <td>93.994</td>\n",
              "      <td>-36.4</td>\n",
              "      <td>4.857</td>\n",
              "      <td>5191.0</td>\n",
              "    </tr>\n",
              "    <tr>\n",
              "      <th>4</th>\n",
              "      <td>56</td>\n",
              "      <td>services</td>\n",
              "      <td>married</td>\n",
              "      <td>high.school</td>\n",
              "      <td>no</td>\n",
              "      <td>no</td>\n",
              "      <td>yes</td>\n",
              "      <td>telephone</td>\n",
              "      <td>may</td>\n",
              "      <td>mon</td>\n",
              "      <td>307</td>\n",
              "      <td>1</td>\n",
              "      <td>999</td>\n",
              "      <td>0</td>\n",
              "      <td>nonexistent</td>\n",
              "      <td>1.1</td>\n",
              "      <td>93.994</td>\n",
              "      <td>-36.4</td>\n",
              "      <td>4.857</td>\n",
              "      <td>5191.0</td>\n",
              "    </tr>\n",
              "  </tbody>\n",
              "</table>\n",
              "</div>"
            ],
            "text/plain": [
              "   age        job  marital    education  default housing loan    contact  \\\n",
              "0   56  housemaid  married     basic.4y       no      no   no  telephone   \n",
              "1   57   services  married  high.school  unknown      no   no  telephone   \n",
              "2   37   services  married  high.school       no     yes   no  telephone   \n",
              "3   40     admin.  married     basic.6y       no      no   no  telephone   \n",
              "4   56   services  married  high.school       no      no  yes  telephone   \n",
              "\n",
              "  month day_of_week  duration  campaign  pdays  previous     poutcome  \\\n",
              "0   may         mon       261         1    999         0  nonexistent   \n",
              "1   may         mon       149         1    999         0  nonexistent   \n",
              "2   may         mon       226         1    999         0  nonexistent   \n",
              "3   may         mon       151         1    999         0  nonexistent   \n",
              "4   may         mon       307         1    999         0  nonexistent   \n",
              "\n",
              "   emp.var.rate  cons.price.idx  cons.conf.idx  euribor3m  nr.employed  \n",
              "0           1.1          93.994          -36.4      4.857       5191.0  \n",
              "1           1.1          93.994          -36.4      4.857       5191.0  \n",
              "2           1.1          93.994          -36.4      4.857       5191.0  \n",
              "3           1.1          93.994          -36.4      4.857       5191.0  \n",
              "4           1.1          93.994          -36.4      4.857       5191.0  "
            ]
          },
          "metadata": {
            "tags": []
          },
          "execution_count": 5
        }
      ]
    },
    {
      "metadata": {
        "id": "L3wmF-husA_s",
        "colab_type": "code",
        "colab": {}
      },
      "cell_type": "code",
      "source": [
        "# train_validation_test_split from train_test_split\n",
        "from sklearn.model_selection import train_test_split\n",
        "\n",
        "def train_validation_test_split(\n",
        "  X, y, train_size=0.8, val_size=0.1, test_size=0.1,\n",
        "  random_state=None, shuffle=True):\n",
        "  \n",
        "  assert train_size + val_size + test_size == 1\n",
        "  \n",
        "  X_train1, X_test, y_train1, y_test = train_test_split(\n",
        "    X, y, test_size=test_size, random_state=random_state, shuffle=shuffle)\n",
        "  \n",
        "  X_train2, X_val, y_train2, y_val = train_test_split(\n",
        "    X_train1, y_train1, test_size=val_size/(train_size + val_size),\n",
        "    random_state=random_state, shuffle=shuffle)\n",
        "  \n",
        "  print(f'X_train{X_train2.shape}| X_val{X_val.shape}| X_test{X_test.shape}\\\n",
        "        y_train{y_train.shape}| y_val{y_val.shape}| y_test{y_test.shape}')\n",
        "  \n",
        "  return X_train2, X_val, X_test, y_train2, y_val, y_test\n"
      ],
      "execution_count": 0,
      "outputs": []
    },
    {
      "metadata": {
        "id": "EHiM8F6Yv3Fp",
        "colab_type": "code",
        "colab": {
          "base_uri": "https://localhost:8080/",
          "height": 34
        },
        "outputId": "f9b8570a-a440-42f1-d5ff-1ae3ccf7527e"
      },
      "cell_type": "code",
      "source": [
        "X_train, X_val, X_test, y_train, y_val, y_test = train_validation_test_split(X,y,shuffle=False)"
      ],
      "execution_count": 22,
      "outputs": [
        {
          "output_type": "stream",
          "text": [
            "X_train(32950, 20)| X_val(4119, 20)| X_test(4119, 20)        y_train(32950,)| y_val(4119,)| y_test(4119,)\n"
          ],
          "name": "stdout"
        }
      ]
    },
    {
      "metadata": {
        "id": "Gq6p4R1pRNlB",
        "colab_type": "code",
        "outputId": "571f3899-5b31-48d9-c5cc-756557418a65",
        "colab": {
          "base_uri": "https://localhost:8080/",
          "height": 68
        }
      },
      "cell_type": "code",
      "source": [
        "y_val.value_counts(normalize=True)"
      ],
      "execution_count": 23,
      "outputs": [
        {
          "output_type": "execute_result",
          "data": {
            "text/plain": [
              "False    0.84268\n",
              "True     0.15732\n",
              "Name: y, dtype: float64"
            ]
          },
          "metadata": {
            "tags": []
          },
          "execution_count": 23
        }
      ]
    },
    {
      "metadata": {
        "id": "cLS3mo37RYRg",
        "colab_type": "code",
        "outputId": "f65c971c-17d6-4962-eac8-292257939ace",
        "colab": {
          "base_uri": "https://localhost:8080/",
          "height": 68
        }
      },
      "cell_type": "code",
      "source": [
        "y_test.value_counts(normalize=True)"
      ],
      "execution_count": 24,
      "outputs": [
        {
          "output_type": "execute_result",
          "data": {
            "text/plain": [
              "False    0.540665\n",
              "True     0.459335\n",
              "Name: y, dtype: float64"
            ]
          },
          "metadata": {
            "tags": []
          },
          "execution_count": 24
        }
      ]
    },
    {
      "metadata": {
        "id": "1qWzunSARkkm",
        "colab_type": "code",
        "outputId": "07acb2a5-ee88-43d5-d989-b71b278907c7",
        "colab": {
          "base_uri": "https://localhost:8080/",
          "height": 34
        }
      },
      "cell_type": "code",
      "source": [
        "# baseline from data split\n",
        "from sklearn.metrics import accuracy_score\n",
        "accuracy_score(y_test, y_val)"
      ],
      "execution_count": 25,
      "outputs": [
        {
          "output_type": "execute_result",
          "data": {
            "text/plain": [
              "0.5299830055838796"
            ]
          },
          "metadata": {
            "tags": []
          },
          "execution_count": 25
        }
      ]
    },
    {
      "metadata": {
        "id": "fkpq_7uNV7Qz",
        "colab_type": "code",
        "outputId": "f95905e8-ba9e-439b-b02a-eceed527ed1d",
        "colab": {
          "base_uri": "https://localhost:8080/",
          "height": 260
        }
      },
      "cell_type": "code",
      "source": [
        "# save y_test for final test\n",
        "!pip install -U feather-format"
      ],
      "execution_count": 0,
      "outputs": [
        {
          "output_type": "stream",
          "text": [
            "Collecting feather-format\n",
            "  Downloading https://files.pythonhosted.org/packages/08/55/940b97cc6f19a19f5dab9efef2f68a0ce43a7632f858b272391f0b851a7e/feather-format-0.4.0.tar.gz\n",
            "Collecting pyarrow>=0.4.0 (from feather-format)\n",
            "\u001b[?25l  Downloading https://files.pythonhosted.org/packages/42/be/8682e7f6c12dd42f31f32b18d5d61b4f578f12aaa9058081aef954a481d3/pyarrow-0.12.0-cp36-cp36m-manylinux1_x86_64.whl (12.5MB)\n",
            "\u001b[K    100% |████████████████████████████████| 12.5MB 2.8MB/s \n",
            "\u001b[?25hRequirement already satisfied, skipping upgrade: six>=1.0.0 in /usr/local/lib/python3.6/dist-packages (from pyarrow>=0.4.0->feather-format) (1.11.0)\n",
            "Requirement already satisfied, skipping upgrade: numpy>=1.14 in /usr/local/lib/python3.6/dist-packages (from pyarrow>=0.4.0->feather-format) (1.14.6)\n",
            "Building wheels for collected packages: feather-format\n",
            "  Running setup.py bdist_wheel for feather-format ... \u001b[?25l-\b \bdone\n",
            "\u001b[?25h  Stored in directory: /root/.cache/pip/wheels/85/7d/12/2dfa5c0195f921ac935f5e8f27deada74972edc0ae9988a9c1\n",
            "Successfully built feather-format\n",
            "Installing collected packages: pyarrow, feather-format\n",
            "Successfully installed feather-format-0.4.0 pyarrow-0.12.0\n"
          ],
          "name": "stdout"
        }
      ]
    },
    {
      "metadata": {
        "id": "eM3X4Z-8Whe8",
        "colab_type": "code",
        "colab": {}
      },
      "cell_type": "code",
      "source": [
        "X_test.reset_index(drop=True).to_feather('X_test.feather')\n",
        "pd.DataFrame(y_test).reset_index(drop=True).to_feather('y_test.feather')"
      ],
      "execution_count": 0,
      "outputs": []
    },
    {
      "metadata": {
        "id": "N_riNt67XHtl",
        "colab_type": "code",
        "colab": {}
      },
      "cell_type": "code",
      "source": [
        "from google.colab import files\n",
        "files.download('X_test.feather')\n",
        "files.download('y_test.feather')\n",
        "\n",
        "#del X_test, y_test"
      ],
      "execution_count": 0,
      "outputs": []
    },
    {
      "metadata": {
        "id": "1iAs-WLfSkfU",
        "colab_type": "code",
        "colab": {}
      },
      "cell_type": "code",
      "source": [
        "def all_numeric(df):\n",
        "  from pandas.api.types import is_numeric_dtype\n",
        "  return all( is_numeric_dtype(df[col]) for col in df )"
      ],
      "execution_count": 0,
      "outputs": []
    },
    {
      "metadata": {
        "id": "fSf0zzdoSrJL",
        "colab_type": "code",
        "outputId": "4bc9bb6b-2a00-4618-d663-f2b46051261a",
        "colab": {
          "base_uri": "https://localhost:8080/",
          "height": 34
        }
      },
      "cell_type": "code",
      "source": [
        "all_numeric(X_train)"
      ],
      "execution_count": 27,
      "outputs": [
        {
          "output_type": "execute_result",
          "data": {
            "text/plain": [
              "False"
            ]
          },
          "metadata": {
            "tags": []
          },
          "execution_count": 27
        }
      ]
    },
    {
      "metadata": {
        "id": "TDCH-RxISuvo",
        "colab_type": "code",
        "outputId": "70c56bc3-1d67-4b99-af0e-4a4281072f24",
        "colab": {
          "base_uri": "https://localhost:8080/",
          "height": 34
        }
      },
      "cell_type": "code",
      "source": [
        "# including only numeric features\n",
        "X_train_num = X_train.select_dtypes(np.number)\n",
        "X_val_num  = X_val.select_dtypes(np.number)\n",
        "all_numeric(X_train_num), all_numeric(X_val_num)"
      ],
      "execution_count": 28,
      "outputs": [
        {
          "output_type": "execute_result",
          "data": {
            "text/plain": [
              "(True, True)"
            ]
          },
          "metadata": {
            "tags": []
          },
          "execution_count": 28
        }
      ]
    },
    {
      "metadata": {
        "id": "ZDW-_J7_F8FN",
        "colab_type": "code",
        "outputId": "ca919659-45c2-426f-cbb2-8a5eb13ffcea",
        "colab": {
          "base_uri": "https://localhost:8080/",
          "height": 88
        }
      },
      "cell_type": "code",
      "source": [
        "# LogisticRegression (no categorical value)accuracy = 0.853\n",
        "from sklearn.linear_model import LinearRegression, LogisticRegression\n",
        "from sklearn.preprocessing import MinMaxScaler, StandardScaler\n",
        "from sklearn.pipeline import make_pipeline\n",
        "\n",
        "pipeline = make_pipeline(MinMaxScaler(), LogisticRegression(solver='lbfgs'))\n",
        "pipeline.fit(X_train_num, y_train)\n",
        "y_pred = pipeline.predict(X_val_num)\n",
        "accuracy_score(y_val, y_pred)"
      ],
      "execution_count": 29,
      "outputs": [
        {
          "output_type": "stream",
          "text": [
            "/usr/local/lib/python3.6/dist-packages/sklearn/preprocessing/data.py:323: DataConversionWarning: Data with input dtype int64, float64 were all converted to float64 by MinMaxScaler.\n",
            "  return self.partial_fit(X, y)\n"
          ],
          "name": "stderr"
        },
        {
          "output_type": "execute_result",
          "data": {
            "text/plain": [
              "0.8531196892449624"
            ]
          },
          "metadata": {
            "tags": []
          },
          "execution_count": 29
        }
      ]
    },
    {
      "metadata": {
        "id": "l-9VaEzrYJTa",
        "colab_type": "code",
        "outputId": "6c2f4718-9309-406b-9e53-d568ca15b300",
        "colab": {
          "base_uri": "https://localhost:8080/",
          "height": 277
        }
      },
      "cell_type": "code",
      "source": [
        "!pip install category_encoders"
      ],
      "execution_count": 30,
      "outputs": [
        {
          "output_type": "stream",
          "text": [
            "Collecting category_encoders\n",
            "\u001b[?25l  Downloading https://files.pythonhosted.org/packages/f7/d3/82a4b85a87ece114f6d0139d643580c726efa45fa4db3b81aed38c0156c5/category_encoders-1.3.0-py2.py3-none-any.whl (61kB)\n",
            "\u001b[K    100% |████████████████████████████████| 61kB 2.1MB/s \n",
            "\u001b[?25hRequirement already satisfied: patsy>=0.4.1 in /usr/local/lib/python3.6/dist-packages (from category_encoders) (0.5.1)\n",
            "Requirement already satisfied: pandas>=0.20.1 in /usr/local/lib/python3.6/dist-packages (from category_encoders) (0.22.0)\n",
            "Requirement already satisfied: scikit-learn>=0.17.1 in /usr/local/lib/python3.6/dist-packages (from category_encoders) (0.20.2)\n",
            "Requirement already satisfied: scipy>=0.17.0 in /usr/local/lib/python3.6/dist-packages (from category_encoders) (1.1.0)\n",
            "Requirement already satisfied: numpy>=1.11.1 in /usr/local/lib/python3.6/dist-packages (from category_encoders) (1.14.6)\n",
            "Requirement already satisfied: statsmodels>=0.6.1 in /usr/local/lib/python3.6/dist-packages (from category_encoders) (0.8.0)\n",
            "Requirement already satisfied: six in /usr/local/lib/python3.6/dist-packages (from patsy>=0.4.1->category_encoders) (1.11.0)\n",
            "Requirement already satisfied: python-dateutil>=2 in /usr/local/lib/python3.6/dist-packages (from pandas>=0.20.1->category_encoders) (2.5.3)\n",
            "Requirement already satisfied: pytz>=2011k in /usr/local/lib/python3.6/dist-packages (from pandas>=0.20.1->category_encoders) (2018.9)\n",
            "Installing collected packages: category-encoders\n",
            "Successfully installed category-encoders-1.3.0\n"
          ],
          "name": "stdout"
        }
      ]
    },
    {
      "metadata": {
        "id": "gL_0wePEYWa7",
        "colab_type": "code",
        "colab": {}
      },
      "cell_type": "code",
      "source": [
        "import category_encoders as ce\n",
        "from sklearn.preprocessing import OneHotEncoder"
      ],
      "execution_count": 0,
      "outputs": []
    },
    {
      "metadata": {
        "id": "NXY86vArT4ER",
        "colab_type": "code",
        "outputId": "a37765a0-7627-4d77-9bf4-e5160b0fb90f",
        "colab": {
          "base_uri": "https://localhost:8080/",
          "height": 191
        }
      },
      "cell_type": "code",
      "source": [
        "# OneHotEncode all categorical value. Accuracy score = 0.853\n",
        "\n",
        "import category_encoders as ce\n",
        "from sklearn.preprocessing import OneHotEncoder\n",
        "\n",
        "pipeline = make_pipeline(\n",
        "  ce.OneHotEncoder(use_cat_names=True), #ConvergenceWarning: lbfgs failed to converge. I\n",
        "    #OneHotEncoder(), #ValueError: Cannot center sparse matrices: pass `with_mean=False`\n",
        "    StandardScaler(),\n",
        "  LogisticRegression(solver='lbfgs')\n",
        ")\n",
        "pipeline.fit(X_train, y_train)\n",
        "y_pred = pipeline.predict(X_val)\n",
        "accuracy_score(y_val, y_pred)"
      ],
      "execution_count": 38,
      "outputs": [
        {
          "output_type": "stream",
          "text": [
            "/usr/local/lib/python3.6/dist-packages/sklearn/preprocessing/data.py:625: DataConversionWarning: Data with input dtype int64, float64 were all converted to float64 by StandardScaler.\n",
            "  return self.partial_fit(X, y)\n",
            "/usr/local/lib/python3.6/dist-packages/sklearn/base.py:465: DataConversionWarning: Data with input dtype int64, float64 were all converted to float64 by StandardScaler.\n",
            "  return self.fit(X, y, **fit_params).transform(X)\n",
            "/usr/local/lib/python3.6/dist-packages/sklearn/linear_model/logistic.py:758: ConvergenceWarning: lbfgs failed to converge. Increase the number of iterations.\n",
            "  \"of iterations.\", ConvergenceWarning)\n",
            "/usr/local/lib/python3.6/dist-packages/sklearn/pipeline.py:331: DataConversionWarning: Data with input dtype int64, float64 were all converted to float64 by StandardScaler.\n",
            "  Xt = transform.transform(Xt)\n"
          ],
          "name": "stderr"
        },
        {
          "output_type": "execute_result",
          "data": {
            "text/plain": [
              "0.85360524399126"
            ]
          },
          "metadata": {
            "tags": []
          },
          "execution_count": 38
        }
      ]
    },
    {
      "metadata": {
        "id": "u_QR08k2Y-Up",
        "colab_type": "code",
        "outputId": "0e589f8b-87e2-4035-8ba3-89be00815e4a",
        "colab": {
          "base_uri": "https://localhost:8080/",
          "height": 1711
        }
      },
      "cell_type": "code",
      "source": [
        "plt.figure(figsize=(10,30))\n",
        "plt.title('Coefficients of Bank marketing')\n",
        "\n",
        "coefficients = pipeline.named_steps['logisticregression'].coef_[0]\n",
        "features = pipeline.named_steps['onehotencoder'].transform(X_train).columns\n",
        "pd.Series(coefficients, features).sort_values().plot.barh(color='lightgreen')"
      ],
      "execution_count": 0,
      "outputs": [
        {
          "output_type": "execute_result",
          "data": {
            "text/plain": [
              "<matplotlib.axes._subplots.AxesSubplot at 0x7fbccd424eb8>"
            ]
          },
          "metadata": {
            "tags": []
          },
          "execution_count": 23
        },
        {
          "output_type": "display_data",
          "data": {
            "image/png": "[encoded data removed]",
            "text/plain": [
              "<Figure size 720x2160 with 1 Axes>"
            ]
          },
          "metadata": {
            "tags": []
          }
        }
      ]
    },
    {
      "metadata": {
        "id": "nUvpjjMYU9bf",
        "colab_type": "code",
        "outputId": "ab62a7a1-7bd2-4a6c-e453-41f3ab6c1579",
        "colab": {
          "base_uri": "https://localhost:8080/",
          "height": 723
        }
      },
      "cell_type": "code",
      "source": [
        "# cross validation\n",
        "from sklearn.model_selection import cross_val_score\n",
        "\n",
        "scores = cross_val_score(pipeline, X_train, y_train, scoring='accuracy', cv=10)"
      ],
      "execution_count": 0,
      "outputs": [
        {
          "output_type": "stream",
          "text": [
            "/usr/local/lib/python3.6/dist-packages/sklearn/preprocessing/data.py:323: DataConversionWarning: Data with input dtype int64, float64 were all converted to float64 by MinMaxScaler.\n",
            "  return self.partial_fit(X, y)\n",
            "/usr/local/lib/python3.6/dist-packages/sklearn/linear_model/logistic.py:758: ConvergenceWarning: lbfgs failed to converge. Increase the number of iterations.\n",
            "  \"of iterations.\", ConvergenceWarning)\n",
            "/usr/local/lib/python3.6/dist-packages/sklearn/preprocessing/data.py:323: DataConversionWarning: Data with input dtype int64, float64 were all converted to float64 by MinMaxScaler.\n",
            "  return self.partial_fit(X, y)\n",
            "/usr/local/lib/python3.6/dist-packages/sklearn/linear_model/logistic.py:758: ConvergenceWarning: lbfgs failed to converge. Increase the number of iterations.\n",
            "  \"of iterations.\", ConvergenceWarning)\n",
            "/usr/local/lib/python3.6/dist-packages/sklearn/preprocessing/data.py:323: DataConversionWarning: Data with input dtype int64, float64 were all converted to float64 by MinMaxScaler.\n",
            "  return self.partial_fit(X, y)\n",
            "/usr/local/lib/python3.6/dist-packages/sklearn/linear_model/logistic.py:758: ConvergenceWarning: lbfgs failed to converge. Increase the number of iterations.\n",
            "  \"of iterations.\", ConvergenceWarning)\n",
            "/usr/local/lib/python3.6/dist-packages/sklearn/preprocessing/data.py:323: DataConversionWarning: Data with input dtype int64, float64 were all converted to float64 by MinMaxScaler.\n",
            "  return self.partial_fit(X, y)\n",
            "/usr/local/lib/python3.6/dist-packages/sklearn/linear_model/logistic.py:758: ConvergenceWarning: lbfgs failed to converge. Increase the number of iterations.\n",
            "  \"of iterations.\", ConvergenceWarning)\n",
            "/usr/local/lib/python3.6/dist-packages/sklearn/preprocessing/data.py:323: DataConversionWarning: Data with input dtype int64, float64 were all converted to float64 by MinMaxScaler.\n",
            "  return self.partial_fit(X, y)\n",
            "/usr/local/lib/python3.6/dist-packages/sklearn/linear_model/logistic.py:758: ConvergenceWarning: lbfgs failed to converge. Increase the number of iterations.\n",
            "  \"of iterations.\", ConvergenceWarning)\n",
            "/usr/local/lib/python3.6/dist-packages/sklearn/preprocessing/data.py:323: DataConversionWarning: Data with input dtype int64, float64 were all converted to float64 by MinMaxScaler.\n",
            "  return self.partial_fit(X, y)\n",
            "/usr/local/lib/python3.6/dist-packages/sklearn/linear_model/logistic.py:758: ConvergenceWarning: lbfgs failed to converge. Increase the number of iterations.\n",
            "  \"of iterations.\", ConvergenceWarning)\n",
            "/usr/local/lib/python3.6/dist-packages/sklearn/preprocessing/data.py:323: DataConversionWarning: Data with input dtype int64, float64 were all converted to float64 by MinMaxScaler.\n",
            "  return self.partial_fit(X, y)\n",
            "/usr/local/lib/python3.6/dist-packages/sklearn/linear_model/logistic.py:758: ConvergenceWarning: lbfgs failed to converge. Increase the number of iterations.\n",
            "  \"of iterations.\", ConvergenceWarning)\n",
            "/usr/local/lib/python3.6/dist-packages/sklearn/preprocessing/data.py:323: DataConversionWarning: Data with input dtype int64, float64 were all converted to float64 by MinMaxScaler.\n",
            "  return self.partial_fit(X, y)\n",
            "/usr/local/lib/python3.6/dist-packages/sklearn/linear_model/logistic.py:758: ConvergenceWarning: lbfgs failed to converge. Increase the number of iterations.\n",
            "  \"of iterations.\", ConvergenceWarning)\n",
            "/usr/local/lib/python3.6/dist-packages/sklearn/preprocessing/data.py:323: DataConversionWarning: Data with input dtype int64, float64 were all converted to float64 by MinMaxScaler.\n",
            "  return self.partial_fit(X, y)\n",
            "/usr/local/lib/python3.6/dist-packages/sklearn/linear_model/logistic.py:758: ConvergenceWarning: lbfgs failed to converge. Increase the number of iterations.\n",
            "  \"of iterations.\", ConvergenceWarning)\n",
            "/usr/local/lib/python3.6/dist-packages/sklearn/preprocessing/data.py:323: DataConversionWarning: Data with input dtype int64, float64 were all converted to float64 by MinMaxScaler.\n",
            "  return self.partial_fit(X, y)\n",
            "/usr/local/lib/python3.6/dist-packages/sklearn/linear_model/logistic.py:758: ConvergenceWarning: lbfgs failed to converge. Increase the number of iterations.\n",
            "  \"of iterations.\", ConvergenceWarning)\n"
          ],
          "name": "stderr"
        }
      ]
    },
    {
      "metadata": {
        "id": "xqnIpgNKYmd9",
        "colab_type": "code",
        "outputId": "e858de67-82d8-41d7-9a99-c7a62c2d2ab4",
        "colab": {
          "base_uri": "https://localhost:8080/",
          "height": 51
        }
      },
      "cell_type": "code",
      "source": [
        "# cv=10 results in 10 score\n",
        "# lbfgs failed to converge and yet high scores.\n",
        "scores"
      ],
      "execution_count": 0,
      "outputs": [
        {
          "output_type": "execute_result",
          "data": {
            "text/plain": [
              "array([0.93899848, 0.93596358, 0.93717754, 0.93899848, 0.92564492,\n",
              "       0.92989378, 0.92685888, 0.93566009, 0.85766313, 0.93444613])"
            ]
          },
          "metadata": {
            "tags": []
          },
          "execution_count": 28
        }
      ]
    },
    {
      "metadata": {
        "id": "Aw41B2Y-Y7tr",
        "colab_type": "code",
        "outputId": "c19832d6-142c-4d4d-a7a6-0458d9b5533f",
        "colab": {
          "base_uri": "https://localhost:8080/",
          "height": 34
        }
      },
      "cell_type": "code",
      "source": [
        "scores.mean(), scores.std()"
      ],
      "execution_count": 0,
      "outputs": [
        {
          "output_type": "execute_result",
          "data": {
            "text/plain": [
              "(0.9261305007587252, 0.02326492914491618)"
            ]
          },
          "metadata": {
            "tags": []
          },
          "execution_count": 29
        }
      ]
    }
  ]
}