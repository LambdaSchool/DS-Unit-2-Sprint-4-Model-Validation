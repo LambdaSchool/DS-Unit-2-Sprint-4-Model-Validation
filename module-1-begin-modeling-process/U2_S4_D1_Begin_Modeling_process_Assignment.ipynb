{
  "nbformat": 4,
  "nbformat_minor": 0,
  "metadata": {
    "colab": {
      "name": "U2-S4-D1-Begin_Modeling_process_Assignment.ipynb",
      "version": "0.3.2",
      "provenance": [],
      "include_colab_link": true
    },
    "kernelspec": {
      "name": "python3",
      "display_name": "Python 3"
    }
  },
  "cells": [
    {
      "cell_type": "markdown",
      "metadata": {
        "id": "view-in-github",
        "colab_type": "text"
      },
      "source": [
        "<a href=\"https://colab.research.google.com/github/zarrinan/DS-Unit-2-Sprint-4-Model-Validation/blob/master/module-1-begin-modeling-process/U2_S4_D1_Begin_Modeling_process_Assignment.ipynb\" target=\"_parent\"><img src=\"https://colab.research.google.com/assets/colab-badge.svg\" alt=\"Open In Colab\"/></a>"
      ]
    },
    {
      "metadata": {
        "id": "cmpUAO5syl5r",
        "colab_type": "code",
        "colab": {}
      },
      "cell_type": "code",
      "source": [
        "!pip install category_encoders"
      ],
      "execution_count": 0,
      "outputs": []
    },
    {
      "metadata": {
        "id": "HRa5fwC-yNmL",
        "colab_type": "code",
        "colab": {}
      },
      "cell_type": "code",
      "source": [
        "#imports\n",
        "%matplotlib inline\n",
        "import matplotlib.pyplot as plt\n",
        "import pandas as pd \n",
        "import numpy as np\n",
        "from sklearn.metrics import mean_absolute_error\n",
        "from pandas.api.types import is_numeric_dtype    \n",
        "from sklearn.preprocessing import StandardScaler\n",
        "from sklearn.pipeline import make_pipeline\n",
        "import category_encoders as ce\n",
        "from sklearn.model_selection import cross_val_score\n",
        "from sklearn.model_selection import train_test_split"
      ],
      "execution_count": 0,
      "outputs": []
    },
    {
      "metadata": {
        "id": "VMwmEHO7yrEc",
        "colab_type": "code",
        "colab": {}
      },
      "cell_type": "code",
      "source": [
        "#Silent Data Conversion Warnings\n",
        "import warnings\n",
        "from sklearn.exceptions import DataConversionWarning\n",
        "warnings.filterwarnings(action='ignore', category=DataConversionWarning)"
      ],
      "execution_count": 0,
      "outputs": []
    },
    {
      "metadata": {
        "id": "VMftFZQK3Hyp",
        "colab_type": "text"
      },
      "cell_type": "markdown",
      "source": [
        "### NYC Weather Data - climatology baseline"
      ]
    },
    {
      "metadata": {
        "id": "GpPlxAiYy-D_",
        "colab_type": "code",
        "colab": {}
      },
      "cell_type": "code",
      "source": [
        "url = 'https://raw.githubusercontent.com/zonination/weather-us/master/nyc.csv'\n",
        "nyc_weather = pd.read_csv(url, parse_dates=['Date']).set_index('Date').drop(['Unnamed: 0', 'Max.Gust.SpeedMPH', 'Events'], axis=1)"
      ],
      "execution_count": 0,
      "outputs": []
    },
    {
      "metadata": {
        "id": "MONoDB0A0QNi",
        "colab_type": "code",
        "outputId": "bc41cd4a-603a-40e0-9dce-be47b63c440a",
        "colab": {
          "base_uri": "https://localhost:8080/",
          "height": 536
        }
      },
      "cell_type": "code",
      "source": [
        "nyc_weather.head()"
      ],
      "execution_count": 0,
      "outputs": [
        {
          "output_type": "execute_result",
          "data": {
            "text/html": [
              "<div>\n",
              "<style scoped>\n",
              "    .dataframe tbody tr th:only-of-type {\n",
              "        vertical-align: middle;\n",
              "    }\n",
              "\n",
              "    .dataframe tbody tr th {\n",
              "        vertical-align: top;\n",
              "    }\n",
              "\n",
              "    .dataframe thead th {\n",
              "        text-align: right;\n",
              "    }\n",
              "</style>\n",
              "<table border=\"1\" class=\"dataframe\">\n",
              "  <thead>\n",
              "    <tr style=\"text-align: right;\">\n",
              "      <th></th>\n",
              "      <th>Max.TemperatureF</th>\n",
              "      <th>Mean.TemperatureF</th>\n",
              "      <th>Min.TemperatureF</th>\n",
              "      <th>Max.Dew.PointF</th>\n",
              "      <th>MeanDew.PointF</th>\n",
              "      <th>Min.DewpointF</th>\n",
              "      <th>Max.Humidity</th>\n",
              "      <th>Mean.Humidity</th>\n",
              "      <th>Min.Humidity</th>\n",
              "      <th>Max.Sea.Level.PressureIn</th>\n",
              "      <th>...</th>\n",
              "      <th>Max.VisibilityMiles</th>\n",
              "      <th>Mean.VisibilityMiles</th>\n",
              "      <th>Min.VisibilityMiles</th>\n",
              "      <th>Max.Wind.SpeedMPH</th>\n",
              "      <th>Mean.Wind.SpeedMPH</th>\n",
              "      <th>PrecipitationIn</th>\n",
              "      <th>CloudCover</th>\n",
              "      <th>WindDirDegrees.br...</th>\n",
              "      <th>city</th>\n",
              "      <th>season</th>\n",
              "    </tr>\n",
              "    <tr>\n",
              "      <th>Date</th>\n",
              "      <th></th>\n",
              "      <th></th>\n",
              "      <th></th>\n",
              "      <th></th>\n",
              "      <th></th>\n",
              "      <th></th>\n",
              "      <th></th>\n",
              "      <th></th>\n",
              "      <th></th>\n",
              "      <th></th>\n",
              "      <th></th>\n",
              "      <th></th>\n",
              "      <th></th>\n",
              "      <th></th>\n",
              "      <th></th>\n",
              "      <th></th>\n",
              "      <th></th>\n",
              "      <th></th>\n",
              "      <th></th>\n",
              "      <th></th>\n",
              "      <th></th>\n",
              "    </tr>\n",
              "  </thead>\n",
              "  <tbody>\n",
              "    <tr>\n",
              "      <th>1948-07-01</th>\n",
              "      <td>84</td>\n",
              "      <td>78.0</td>\n",
              "      <td>72</td>\n",
              "      <td>71</td>\n",
              "      <td>65</td>\n",
              "      <td>58</td>\n",
              "      <td>93</td>\n",
              "      <td>65</td>\n",
              "      <td>46</td>\n",
              "      <td>30.07</td>\n",
              "      <td>...</td>\n",
              "      <td>10.0</td>\n",
              "      <td>7.0</td>\n",
              "      <td>2.0</td>\n",
              "      <td>16</td>\n",
              "      <td>8</td>\n",
              "      <td>0.00</td>\n",
              "      <td>0.0</td>\n",
              "      <td>264&lt;br /&gt;</td>\n",
              "      <td>New York City (USA)</td>\n",
              "      <td>Summer</td>\n",
              "    </tr>\n",
              "    <tr>\n",
              "      <th>1948-07-02</th>\n",
              "      <td>82</td>\n",
              "      <td>72.0</td>\n",
              "      <td>63</td>\n",
              "      <td>62</td>\n",
              "      <td>53</td>\n",
              "      <td>49</td>\n",
              "      <td>76</td>\n",
              "      <td>51</td>\n",
              "      <td>33</td>\n",
              "      <td>30.20</td>\n",
              "      <td>...</td>\n",
              "      <td>15.0</td>\n",
              "      <td>14.0</td>\n",
              "      <td>10.0</td>\n",
              "      <td>16</td>\n",
              "      <td>10</td>\n",
              "      <td>0.00</td>\n",
              "      <td>0.0</td>\n",
              "      <td>315&lt;br /&gt;</td>\n",
              "      <td>New York City (USA)</td>\n",
              "      <td>Summer</td>\n",
              "    </tr>\n",
              "    <tr>\n",
              "      <th>1948-07-03</th>\n",
              "      <td>78</td>\n",
              "      <td>71.0</td>\n",
              "      <td>64</td>\n",
              "      <td>66</td>\n",
              "      <td>58</td>\n",
              "      <td>53</td>\n",
              "      <td>84</td>\n",
              "      <td>62</td>\n",
              "      <td>42</td>\n",
              "      <td>30.17</td>\n",
              "      <td>...</td>\n",
              "      <td>15.0</td>\n",
              "      <td>10.0</td>\n",
              "      <td>5.0</td>\n",
              "      <td>14</td>\n",
              "      <td>6</td>\n",
              "      <td>0.00</td>\n",
              "      <td>0.0</td>\n",
              "      <td>203&lt;br /&gt;</td>\n",
              "      <td>New York City (USA)</td>\n",
              "      <td>Summer</td>\n",
              "    </tr>\n",
              "    <tr>\n",
              "      <th>1948-07-04</th>\n",
              "      <td>84</td>\n",
              "      <td>76.0</td>\n",
              "      <td>68</td>\n",
              "      <td>68</td>\n",
              "      <td>63</td>\n",
              "      <td>56</td>\n",
              "      <td>90</td>\n",
              "      <td>67</td>\n",
              "      <td>38</td>\n",
              "      <td>30.13</td>\n",
              "      <td>...</td>\n",
              "      <td>15.0</td>\n",
              "      <td>7.0</td>\n",
              "      <td>2.0</td>\n",
              "      <td>12</td>\n",
              "      <td>5</td>\n",
              "      <td>0.00</td>\n",
              "      <td>0.0</td>\n",
              "      <td>198&lt;br /&gt;</td>\n",
              "      <td>New York City (USA)</td>\n",
              "      <td>Summer</td>\n",
              "    </tr>\n",
              "    <tr>\n",
              "      <th>1948-07-05</th>\n",
              "      <td>93</td>\n",
              "      <td>82.0</td>\n",
              "      <td>70</td>\n",
              "      <td>74</td>\n",
              "      <td>69</td>\n",
              "      <td>65</td>\n",
              "      <td>93</td>\n",
              "      <td>71</td>\n",
              "      <td>40</td>\n",
              "      <td>30.12</td>\n",
              "      <td>...</td>\n",
              "      <td>10.0</td>\n",
              "      <td>6.0</td>\n",
              "      <td>3.0</td>\n",
              "      <td>18</td>\n",
              "      <td>8</td>\n",
              "      <td>0.00</td>\n",
              "      <td>0.0</td>\n",
              "      <td>218&lt;br /&gt;</td>\n",
              "      <td>New York City (USA)</td>\n",
              "      <td>Summer</td>\n",
              "    </tr>\n",
              "  </tbody>\n",
              "</table>\n",
              "<p>5 rows × 22 columns</p>\n",
              "</div>"
            ],
            "text/plain": [
              "            Max.TemperatureF  Mean.TemperatureF  Min.TemperatureF  \\\n",
              "Date                                                                \n",
              "1948-07-01                84               78.0                72   \n",
              "1948-07-02                82               72.0                63   \n",
              "1948-07-03                78               71.0                64   \n",
              "1948-07-04                84               76.0                68   \n",
              "1948-07-05                93               82.0                70   \n",
              "\n",
              "            Max.Dew.PointF  MeanDew.PointF  Min.DewpointF  Max.Humidity  \\\n",
              "Date                                                                      \n",
              "1948-07-01              71              65             58            93   \n",
              "1948-07-02              62              53             49            76   \n",
              "1948-07-03              66              58             53            84   \n",
              "1948-07-04              68              63             56            90   \n",
              "1948-07-05              74              69             65            93   \n",
              "\n",
              "            Mean.Humidity  Min.Humidity  Max.Sea.Level.PressureIn   ...    \\\n",
              "Date                                                                ...     \n",
              "1948-07-01             65            46                     30.07   ...     \n",
              "1948-07-02             51            33                     30.20   ...     \n",
              "1948-07-03             62            42                     30.17   ...     \n",
              "1948-07-04             67            38                     30.13   ...     \n",
              "1948-07-05             71            40                     30.12   ...     \n",
              "\n",
              "            Max.VisibilityMiles  Mean.VisibilityMiles  Min.VisibilityMiles  \\\n",
              "Date                                                                         \n",
              "1948-07-01                 10.0                   7.0                  2.0   \n",
              "1948-07-02                 15.0                  14.0                 10.0   \n",
              "1948-07-03                 15.0                  10.0                  5.0   \n",
              "1948-07-04                 15.0                   7.0                  2.0   \n",
              "1948-07-05                 10.0                   6.0                  3.0   \n",
              "\n",
              "            Max.Wind.SpeedMPH  Mean.Wind.SpeedMPH  PrecipitationIn  \\\n",
              "Date                                                                 \n",
              "1948-07-01                 16                   8             0.00   \n",
              "1948-07-02                 16                  10             0.00   \n",
              "1948-07-03                 14                   6             0.00   \n",
              "1948-07-04                 12                   5             0.00   \n",
              "1948-07-05                 18                   8             0.00   \n",
              "\n",
              "            CloudCover WindDirDegrees.br...                 city  season  \n",
              "Date                                                                      \n",
              "1948-07-01         0.0            264<br />  New York City (USA)  Summer  \n",
              "1948-07-02         0.0            315<br />  New York City (USA)  Summer  \n",
              "1948-07-03         0.0            203<br />  New York City (USA)  Summer  \n",
              "1948-07-04         0.0            198<br />  New York City (USA)  Summer  \n",
              "1948-07-05         0.0            218<br />  New York City (USA)  Summer  \n",
              "\n",
              "[5 rows x 22 columns]"
            ]
          },
          "metadata": {
            "tags": []
          },
          "execution_count": 25
        }
      ]
    },
    {
      "metadata": {
        "id": "6rHl6B3j4sGY",
        "colab_type": "code",
        "colab": {}
      },
      "cell_type": "code",
      "source": [
        "nyc_weather.isna().sum()"
      ],
      "execution_count": 0,
      "outputs": []
    },
    {
      "metadata": {
        "id": "-ZrMzQzL2rGk",
        "colab_type": "text"
      },
      "cell_type": "markdown",
      "source": [
        "Over the years, the average daily low temperature in NYC is about 47F"
      ]
    },
    {
      "metadata": {
        "id": "Dl87JDeL1s-_",
        "colab_type": "code",
        "outputId": "1e79255a-af50-4975-dbc3-cb2aae4a9bc8",
        "colab": {
          "base_uri": "https://localhost:8080/",
          "height": 35
        }
      },
      "cell_type": "code",
      "source": [
        "nyc_weather['Min.TemperatureF'].mean()"
      ],
      "execution_count": 0,
      "outputs": [
        {
          "output_type": "execute_result",
          "data": {
            "text/plain": [
              "47.29458469055375"
            ]
          },
          "metadata": {
            "tags": []
          },
          "execution_count": 16
        }
      ]
    },
    {
      "metadata": {
        "id": "Dt4LggjI22SJ",
        "colab_type": "text"
      },
      "cell_type": "markdown",
      "source": [
        "The predicted temperature values deviate from the average by about 14 degrees on average"
      ]
    },
    {
      "metadata": {
        "id": "xXADRIr52AGR",
        "colab_type": "code",
        "outputId": "fbb41910-a1e4-4b15-8ce3-6b2ed1318f06",
        "colab": {
          "base_uri": "https://localhost:8080/",
          "height": 35
        }
      },
      "cell_type": "code",
      "source": [
        "predicted = [nyc_weather['Min.TemperatureF'].mean()] * len(nyc_weather)\n",
        "mean_absolute_error(nyc_weather['Min.TemperatureF'], predicted)"
      ],
      "execution_count": 0,
      "outputs": [
        {
          "output_type": "execute_result",
          "data": {
            "text/plain": [
              "14.002022219731774"
            ]
          },
          "metadata": {
            "tags": []
          },
          "execution_count": 20
        }
      ]
    },
    {
      "metadata": {
        "id": "l9mizmB54FGE",
        "colab_type": "text"
      },
      "cell_type": "markdown",
      "source": [
        "###NYC Weather - persistence baseline"
      ]
    },
    {
      "metadata": {
        "id": "7GEGh__Z2oFH",
        "colab_type": "code",
        "outputId": "6057851b-4fa3-4145-c993-b2796da06564",
        "colab": {
          "base_uri": "https://localhost:8080/",
          "height": 35
        }
      },
      "cell_type": "code",
      "source": [
        "nyc_weather['min_yesterday'] = nyc_weather['Min.TemperatureF'].shift(1)\n",
        "nyc_weather.dropna(inplace=True)\n",
        "mean_absolute_error(nyc_weather['Min.TemperatureF'], nyc_weather['min_yesterday'])"
      ],
      "execution_count": 29,
      "outputs": [
        {
          "output_type": "execute_result",
          "data": {
            "text/plain": [
              "4.193198529411765"
            ]
          },
          "metadata": {
            "tags": []
          },
          "execution_count": 29
        }
      ]
    },
    {
      "metadata": {
        "id": "Adv3n8vb5sjI",
        "colab_type": "text"
      },
      "cell_type": "markdown",
      "source": [
        "Yay! The baseline is off less by 10 degrees on average"
      ]
    },
    {
      "metadata": {
        "id": "j9NM6nNLTaoC",
        "colab_type": "text"
      },
      "cell_type": "markdown",
      "source": [
        "### NYC Weather - combined baseline"
      ]
    },
    {
      "metadata": {
        "id": "WDapAy1XF0Ze",
        "colab_type": "code",
        "colab": {}
      },
      "cell_type": "code",
      "source": [
        "nyc_weather['mean_temp'] = [nyc_weather['Min.TemperatureF'].mean()] * len(nyc_weather)"
      ],
      "execution_count": 0,
      "outputs": []
    },
    {
      "metadata": {
        "id": "mTlSIzkMT78b",
        "colab_type": "code",
        "colab": {}
      },
      "cell_type": "code",
      "source": [
        "nyc_weather['Average'] = (nyc_weather['mean_temp'] + nyc_weather['min_yesterday'])/2"
      ],
      "execution_count": 0,
      "outputs": []
    },
    {
      "metadata": {
        "id": "l2g7ZVy-URyo",
        "colab_type": "text"
      },
      "cell_type": "markdown",
      "source": [
        "Averaging the climatology and persistence methods did not help, persistence baseline stays the most accurate for NYC weather"
      ]
    },
    {
      "metadata": {
        "id": "74Bd7PCMUKaF",
        "colab_type": "code",
        "colab": {
          "base_uri": "https://localhost:8080/",
          "height": 35
        },
        "outputId": "c087edd5-a3d8-47ac-f147-6b3a7416f7fc"
      },
      "cell_type": "code",
      "source": [
        "mean_absolute_error(nyc_weather['Min.TemperatureF'], nyc_weather['Average'])"
      ],
      "execution_count": 34,
      "outputs": [
        {
          "output_type": "execute_result",
          "data": {
            "text/plain": [
              "7.634351515192473"
            ]
          },
          "metadata": {
            "tags": []
          },
          "execution_count": 34
        }
      ]
    },
    {
      "metadata": {
        "id": "RRLyGCZGUwY8",
        "colab_type": "text"
      },
      "cell_type": "markdown",
      "source": [
        "### Bank marketing"
      ]
    },
    {
      "metadata": {
        "id": "myWOVJtrUyg_",
        "colab_type": "code",
        "colab": {}
      },
      "cell_type": "code",
      "source": [
        "!wget https://archive.ics.uci.edu/ml/machine-learning-databases/00222/bank-additional.zip\n",
        "!unzip bank-additional.zip\n",
        "%cd bank-additional"
      ],
      "execution_count": 0,
      "outputs": []
    },
    {
      "metadata": {
        "id": "G_ENSsGWVSas",
        "colab_type": "code",
        "colab": {}
      },
      "cell_type": "code",
      "source": [
        "bank = pd.read_csv('bank-additional-full.csv', sep=';')\n",
        "X = bank.drop(columns='y')\n",
        "y = bank['y'] == 'yes'"
      ],
      "execution_count": 0,
      "outputs": []
    },
    {
      "metadata": {
        "id": "sGomq5pbYW0B",
        "colab_type": "code",
        "colab": {}
      },
      "cell_type": "code",
      "source": [
        "def unique(df):\n",
        "  for col in df.columns:\n",
        "    print(col, df[col].unique())\n",
        "    \n",
        "unique(bank)    "
      ],
      "execution_count": 0,
      "outputs": []
    },
    {
      "metadata": {
        "id": "32NXUo42ZHZ0",
        "colab_type": "code",
        "colab": {}
      },
      "cell_type": "code",
      "source": [
        "bank.replace('unknown', np.nan, inplace=True)\n",
        "bank.dropna(inplace=True)\n",
        "bank.isna().sum()"
      ],
      "execution_count": 0,
      "outputs": []
    },
    {
      "metadata": {
        "id": "kdeRCaxyZVG9",
        "colab_type": "code",
        "colab": {}
      },
      "cell_type": "code",
      "source": [
        "def train_validation_test_split(\n",
        "    X, y, train_size=0.8, val_size=0.1, test_size=0.1, \n",
        "    random_state=None, shuffle=True):\n",
        "  \n",
        "    from sklearn.model_selection import train_test_split\n",
        "\n",
        "    assert train_size + val_size + test_size == 1\n",
        "    \n",
        "    X_train_val, X_test, y_train_val, y_test = train_test_split(\n",
        "        X, y, test_size=test_size, random_state=random_state, shuffle=shuffle)\n",
        "    \n",
        "    X_train, X_val, y_train, y_val = train_test_split(\n",
        "        X_train_val, y_train_val, test_size=val_size/(train_size+val_size), \n",
        "        random_state=random_state, shuffle=shuffle)\n",
        "#     print(val_size/(train_size+val_size))\n",
        "#     print(test_size)\n",
        "#     print(train_size)\n",
        "#     print(train_size+test_size+val_size)\n",
        "    \n",
        "    return X_train, X_val, X_test, y_train, y_val, y_test"
      ],
      "execution_count": 0,
      "outputs": []
    },
    {
      "metadata": {
        "id": "0_w2ulsuaRO8",
        "colab_type": "code",
        "colab": {}
      },
      "cell_type": "code",
      "source": [
        "#First, try the model without shuffling the data\n",
        "X_train, X_val, X_test, y_train, y_val, y_test = train_validation_test_split(\n",
        "    X, y, shuffle=False)"
      ],
      "execution_count": 0,
      "outputs": []
    },
    {
      "metadata": {
        "id": "CMEGUEJfaaQP",
        "colab_type": "code",
        "colab": {
          "base_uri": "https://localhost:8080/",
          "height": 35
        },
        "outputId": "01a83d0f-be60-4ee5-99e1-0f8c591b1c71"
      },
      "cell_type": "code",
      "source": [
        "from sklearn.pipeline import make_pipeline\n",
        "import category_encoders as ce\n",
        "from sklearn.linear_model import LogisticRegression\n",
        "from sklearn.preprocessing import StandardScaler\n",
        "from sklearn.metrics import accuracy_score\n",
        "\n",
        "\n",
        "pipeline = make_pipeline(\n",
        "    ce.OneHotEncoder(use_cat_names=True),\n",
        "    StandardScaler(),\n",
        "    LogisticRegression(solver='newton-cg')\n",
        ")\n",
        "\n",
        "pipeline.fit(X_train, y_train)\n",
        "y_pred = pipeline.predict(X_val)\n",
        "accuracy_score(y_val, y_pred)"
      ],
      "execution_count": 147,
      "outputs": [
        {
          "output_type": "execute_result",
          "data": {
            "text/plain": [
              "0.85360524399126"
            ]
          },
          "metadata": {
            "tags": []
          },
          "execution_count": 147
        }
      ]
    },
    {
      "metadata": {
        "id": "n7ttNZfzcyZu",
        "colab_type": "text"
      },
      "cell_type": "markdown",
      "source": [
        "The accuracy pretty well, let's see the accuracy with shuffling"
      ]
    },
    {
      "metadata": {
        "id": "4Rl5C2txcQb6",
        "colab_type": "code",
        "colab": {}
      },
      "cell_type": "code",
      "source": [
        "X_train_t, X_val_t, X_test_t, y_train_t, y_val_t, y_test_t = train_validation_test_split(\n",
        "    X, y, shuffle=True)"
      ],
      "execution_count": 0,
      "outputs": []
    },
    {
      "metadata": {
        "id": "tb_SXMrncf6k",
        "colab_type": "code",
        "colab": {
          "base_uri": "https://localhost:8080/",
          "height": 35
        },
        "outputId": "60237e3e-58d3-4e8d-9fa9-bd594c003fa8"
      },
      "cell_type": "code",
      "source": [
        "pipeline = make_pipeline(\n",
        "    ce.OneHotEncoder(use_cat_names=True),\n",
        "    StandardScaler(),\n",
        "    LogisticRegression(solver='newton-cg')\n",
        ")\n",
        "\n",
        "pipeline.fit(X_train_t, y_train_t)\n",
        "y_pred_t = pipeline.predict(X_val_t)\n",
        "accuracy_score(y_val_t, y_pred_t)"
      ],
      "execution_count": 149,
      "outputs": [
        {
          "output_type": "execute_result",
          "data": {
            "text/plain": [
              "0.9082301529497451"
            ]
          },
          "metadata": {
            "tags": []
          },
          "execution_count": 149
        }
      ]
    },
    {
      "metadata": {
        "id": "RWf29CEZc7Xz",
        "colab_type": "text"
      },
      "cell_type": "markdown",
      "source": [
        "shuffling data helped to increase the model accuracy by 5% on average\n",
        "\n",
        "Visualize the coefficients"
      ]
    },
    {
      "metadata": {
        "id": "DEAz9crEdRJQ",
        "colab_type": "code",
        "colab": {
          "base_uri": "https://localhost:8080/",
          "height": 1150
        },
        "outputId": "a56b5c2d-a738-4e56-cd87-f0c298e92448"
      },
      "cell_type": "code",
      "source": [
        "plt.figure(figsize=(10,20))\n",
        "plt.title('Coefficients')\n",
        "\n",
        "coefficients = pipeline.named_steps['logisticregression'].coef_[0]\n",
        "feature_names = pipeline.named_steps['onehotencoder'].transform(X_train_t).columns\n",
        "pd.Series(coefficients, feature_names).sort_values().plot.barh(color='gray');\n"
      ],
      "execution_count": 150,
      "outputs": [
        {
          "output_type": "display_data",
          "data": {
            "image/png": "[encoded data removed]",
            "text/plain": [
              "<Figure size 720x1440 with 1 Axes>"
            ]
          },
          "metadata": {
            "tags": []
          }
        }
      ]
    },
    {
      "metadata": {
        "id": "kDwsc79KeNhz",
        "colab_type": "code",
        "colab": {}
      },
      "cell_type": "code",
      "source": [
        "pipeline.named_steps"
      ],
      "execution_count": 0,
      "outputs": []
    },
    {
      "metadata": {
        "id": "D2fFzLwChFk7",
        "colab_type": "code",
        "colab": {}
      },
      "cell_type": "code",
      "source": [
        "#employment variation rate is strongly negatively correlated with \n",
        "#the success rate, let's try to remove it\n",
        "# bank['emp.var.rate'].value_counts()\n",
        "# bank.drop('emp.var.rate', axis=1, inplace=True)\n",
        "\n",
        "# X_train_t, X_val_t, X_test_t, y_train_t, y_val_t, y_test_t = train_validation_test_split(\n",
        "#     X, y, shuffle=True)\n",
        "# pipeline = make_pipeline(\n",
        "#     ce.OneHotEncoder(use_cat_names=True),\n",
        "#     StandardScaler(),\n",
        "#     LogisticRegression(solver='newton-cg')\n",
        "# )\n",
        "\n",
        "# pipeline.fit(X_train, y_train)\n",
        "# y_pred_t = pipeline.predict(X_val)\n",
        "# accuracy_score(y_val, y_pred)"
      ],
      "execution_count": 0,
      "outputs": []
    },
    {
      "metadata": {
        "id": "Rw0i-lsYjGmz",
        "colab_type": "text"
      },
      "cell_type": "markdown",
      "source": [
        "Actually, taking the category out of the dataset decreased the model accuracy, but might be useful for the business"
      ]
    },
    {
      "metadata": {
        "id": "Ihsa3z1_5E1m",
        "colab_type": "text"
      },
      "cell_type": "markdown",
      "source": [
        "Let's try the pipeline using ColumnTransformer and GridSearchCV"
      ]
    },
    {
      "metadata": {
        "id": "bs-HY30n01Tp",
        "colab_type": "code",
        "colab": {}
      },
      "cell_type": "code",
      "source": [
        "\n",
        "def pipeline(num_features, cat_features, num_imp, missing, solver='lbfgs', cv=10):\n",
        "  \n",
        "  numeric_transformer = Pipeline(steps=[\n",
        "      ('imputer', SimpleImputer(strategy=num_imp)),\n",
        "      ('scaler', StandardScaler())])\n",
        "\n",
        "  categorical_transformer = Pipeline(steps=[\n",
        "      ('imputer', SimpleImputer(strategy='constant', fill_value=missing)),\n",
        "      ('onehot', OneHotEncoder(handle_unknown='ignore'))])\n",
        "\n",
        "  preprocessor = ColumnTransformer(\n",
        "      transformers=[\n",
        "          ('num', numeric_transformer, numeric_features),\n",
        "          ('cat', categorical_transformer, categorical_features)])\n",
        "\n",
        "  # Append classifier to preprocessing pipeline.Now we have a full prediction pipeline.\n",
        "  clf = Pipeline(steps=[('preprocessor', preprocessor),\n",
        "                        ('classifier', LogisticRegression(solver=solver))])\n",
        "  \n",
        "  param_grid = {\n",
        "    'preprocessor__num__imputer__strategy': ['mean', 'median'],\n",
        "    'classifier__C': [0.1, 1.0, 10, 100],\n",
        "  }\n",
        "\n",
        "  grid_search = GridSearchCV(clf, param_grid, cv=cv, iid=False)\n",
        "  \n",
        "  return grid_search"
      ],
      "execution_count": 0,
      "outputs": []
    },
    {
      "metadata": {
        "id": "InNMn03n2OsJ",
        "colab_type": "code",
        "colab": {}
      },
      "cell_type": "code",
      "source": [
        "bank.columns"
      ],
      "execution_count": 0,
      "outputs": []
    },
    {
      "metadata": {
        "id": "AqxvsfD-0A8p",
        "colab_type": "code",
        "colab": {}
      },
      "cell_type": "code",
      "source": [
        "bank_numeric = ['age', 'duration', 'campaign', 'pdays', 'previous', \n",
        "       'poutcome', 'emp.var.rate','cons.price.idx', 'cons.conf.idx', 'euribor3m',\n",
        "       'nr.employed']\n",
        "\n",
        "bank_categorical = ['job', 'marital', 'education', 'default', 'housing', 'loan',\n",
        "       'contact', 'month', 'day_of_week','poutcome']\n",
        "\n",
        "X_train_t, X_val_t, X_test_t, y_train_t, y_val_t, y_test_t = train_validation_test_split(\n",
        "    X, y, shuffle=True)"
      ],
      "execution_count": 0,
      "outputs": []
    },
    {
      "metadata": {
        "id": "cod5xlm2ztCz",
        "colab_type": "code",
        "colab": {
          "base_uri": "https://localhost:8080/",
          "height": 35
        },
        "outputId": "bcc03a85-9e0f-44f6-c020-25cb9cc0d87e"
      },
      "cell_type": "code",
      "source": [
        "grid_search_bank = pipeline(bank_numeric, bank_categorical, 'median', 'missing', 'newton-cg')\n",
        "grid_search_bank.fit(X_train_t, y_train_t)\n",
        "\n",
        "y_pred_grid = grid_search_bank.predict(X_val_t)\n",
        "accuracy_score(y_val_t, y_pred_grid)"
      ],
      "execution_count": 140,
      "outputs": [
        {
          "output_type": "execute_result",
          "data": {
            "text/plain": [
              "0.7480916030534351"
            ]
          },
          "metadata": {
            "tags": []
          },
          "execution_count": 140
        }
      ]
    },
    {
      "metadata": {
        "id": "ncgOtBDL4ag9",
        "colab_type": "text"
      },
      "cell_type": "markdown",
      "source": [
        "From the result above it's clear the previous pipeline was much more efficient for this dataset"
      ]
    },
    {
      "metadata": {
        "id": "9kLjI4r0uOH4",
        "colab_type": "text"
      },
      "cell_type": "markdown",
      "source": [
        "### Example pipeline for the Titanic dataset"
      ]
    },
    {
      "metadata": {
        "id": "7qoB0YUuuVgq",
        "colab_type": "code",
        "colab": {}
      },
      "cell_type": "code",
      "source": [
        "from __future__ import print_function\n",
        "\n",
        "import pandas as pd\n",
        "import numpy as np\n",
        "\n",
        "from sklearn.compose import ColumnTransformer\n",
        "from sklearn.pipeline import Pipeline\n",
        "from sklearn.impute import SimpleImputer\n",
        "from sklearn.preprocessing import StandardScaler, OneHotEncoder\n",
        "from sklearn.linear_model import LogisticRegression\n",
        "from sklearn.model_selection import train_test_split, GridSearchCV\n",
        "\n",
        "np.random.seed(0)"
      ],
      "execution_count": 0,
      "outputs": []
    },
    {
      "metadata": {
        "id": "oL0lz0uVuMgj",
        "colab_type": "code",
        "colab": {}
      },
      "cell_type": "code",
      "source": [
        "# Read data from Titanic dataset.\n",
        "titanic_url = ('https://raw.githubusercontent.com/amueller/'\n",
        "               'scipy-2017-sklearn/091d371/notebooks/datasets/titanic3.csv')\n",
        "data = pd.read_csv(titanic_url)\n",
        "\n",
        "# We will train our classifier with the following features:\n",
        "# Numeric Features:\n",
        "# - age: float.\n",
        "# - fare: float.\n",
        "# Categorical Features:\n",
        "# - embarked: categories encoded as strings {'C', 'S', 'Q'}.\n",
        "# - sex: categories encoded as strings {'female', 'male'}.\n",
        "# - pclass: ordinal integers {1, 2, 3}.\n",
        "\n",
        "# We create the preprocessing pipelines for both numeric and categorical data.\n",
        "\n",
        "def pipeline(num_features, cat_features, num_imp, missing, solver='lbfgs', cv=10):\n",
        "  \n",
        "  numeric_transformer = Pipeline(steps=[\n",
        "      ('imputer', SimpleImputer(strategy=num_imp)),\n",
        "      ('scaler', StandardScaler())])\n",
        "\n",
        "  categorical_transformer = Pipeline(steps=[\n",
        "      ('imputer', SimpleImputer(strategy='constant', fill_value=missing)),\n",
        "      ('onehot', OneHotEncoder(handle_unknown='ignore'))])\n",
        "\n",
        "  preprocessor = ColumnTransformer(\n",
        "      transformers=[\n",
        "          ('num', numeric_transformer, numeric_features),\n",
        "          ('cat', categorical_transformer, categorical_features)])\n",
        "\n",
        "  # Append classifier to preprocessing pipeline.Now we have a full prediction pipeline.\n",
        "  clf = Pipeline(steps=[('preprocessor', preprocessor),\n",
        "                        ('classifier', LogisticRegression(solver=solver))])\n",
        "  \n",
        "  param_grid = {\n",
        "    'preprocessor__num__imputer__strategy': ['mean', 'median'],\n",
        "    'classifier__C': [0.1, 1.0, 10, 100],\n",
        "  }\n",
        "\n",
        "  grid_search = GridSearchCV(clf, param_grid, cv=cv, iid=False)\n",
        "  \n",
        "  return grid_search"
      ],
      "execution_count": 0,
      "outputs": []
    },
    {
      "metadata": {
        "id": "b-vnJdmYucoQ",
        "colab_type": "code",
        "colab": {
          "base_uri": "https://localhost:8080/",
          "height": 35
        },
        "outputId": "a1f653d3-388f-4624-c685-607d17c92258"
      },
      "cell_type": "code",
      "source": [
        "numeric_features = ['age', 'fare']\n",
        "categorical_features = ['embarked', 'sex', 'pclass']\n",
        "X = data.drop('survived', axis=1)\n",
        "y = data['survived']\n",
        "\n",
        "X_train, X_test, y_train, y_test = train_test_split(X, y, test_size=0.2)\n",
        "\n",
        "\n",
        "grid_search = pipeline(numeric_features, categorical_features, 'median', 'missing')\n",
        "grid_search.fit(X_train, y_train)\n",
        "print((\"best logistic regression from grid search: %.3f\"\n",
        "         % grid_search.score(X_test, y_test)))"
      ],
      "execution_count": 132,
      "outputs": [
        {
          "output_type": "stream",
          "text": [
            "best logistic regression from grid search: 0.798\n"
          ],
          "name": "stdout"
        }
      ]
    },
    {
      "metadata": {
        "id": "MWlXsDYizkV9",
        "colab_type": "code",
        "colab": {}
      },
      "cell_type": "code",
      "source": [
        ""
      ],
      "execution_count": 0,
      "outputs": []
    }
  ]
}