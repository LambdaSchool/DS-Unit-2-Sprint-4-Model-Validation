{
  "nbformat": 4,
  "nbformat_minor": 0,
  "metadata": {
    "colab": {
      "name": "U2-S4-D1-Begin_Modeling_process_Assignment.ipynb",
      "version": "0.3.2",
      "provenance": [],
      "include_colab_link": true
    },
    "kernelspec": {
      "name": "python3",
      "display_name": "Python 3"
    }
  },
  "cells": [
    {
      "cell_type": "markdown",
      "metadata": {
        "id": "view-in-github",
        "colab_type": "text"
      },
      "source": [
        "<a href=\"https://colab.research.google.com/github/zarrinan/DS-Unit-2-Sprint-4-Model-Validation/blob/master/module-1-begin-modeling-process/U2_S4_D1_Begin_Modeling_process_Assignment.ipynb\" target=\"_parent\"><img src=\"https://colab.research.google.com/assets/colab-badge.svg\" alt=\"Open In Colab\"/></a>"
      ]
    },
    {
      "metadata": {
        "id": "cmpUAO5syl5r",
        "colab_type": "code",
        "colab": {}
      },
      "cell_type": "code",
      "source": [
        "!pip install category_encoders"
      ],
      "execution_count": 0,
      "outputs": []
    },
    {
      "metadata": {
        "id": "HRa5fwC-yNmL",
        "colab_type": "code",
        "colab": {}
      },
      "cell_type": "code",
      "source": [
        "#imports\n",
        "%matplotlib inline\n",
        "import matplotlib.pyplot as plt\n",
        "import pandas as pd \n",
        "from sklearn.metrics import mean_absolute_error\n",
        "from pandas.api.types import is_numeric_dtype    \n",
        "from sklearn.preprocessing import StandardScaler\n",
        "from sklearn.pipeline import make_pipeline\n",
        "import category_encoders as ce\n",
        "from sklearn.model_selection import cross_val_score\n",
        "from sklearn.model_selection import train_test_split"
      ],
      "execution_count": 0,
      "outputs": []
    },
    {
      "metadata": {
        "id": "VMwmEHO7yrEc",
        "colab_type": "code",
        "colab": {}
      },
      "cell_type": "code",
      "source": [
        "#Silent Data Conversion Warnings\n",
        "import warnings\n",
        "from sklearn.exceptions import DataConversionWarning\n",
        "warnings.filterwarnings(action='ignore', category=DataConversionWarning)"
      ],
      "execution_count": 0,
      "outputs": []
    },
    {
      "metadata": {
        "id": "VMftFZQK3Hyp",
        "colab_type": "text"
      },
      "cell_type": "markdown",
      "source": [
        "### NYC Weather Data - climatology baseline"
      ]
    },
    {
      "metadata": {
        "id": "GpPlxAiYy-D_",
        "colab_type": "code",
        "colab": {}
      },
      "cell_type": "code",
      "source": [
        "url = 'https://raw.githubusercontent.com/zonination/weather-us/master/nyc.csv'\n",
        "nyc_weather = pd.read_csv(url, parse_dates=['Date']).set_index('Date').drop(['Unnamed: 0', 'Max.Gust.SpeedMPH', 'Events'], axis=1)"
      ],
      "execution_count": 0,
      "outputs": []
    },
    {
      "metadata": {
        "id": "MONoDB0A0QNi",
        "colab_type": "code",
        "colab": {
          "base_uri": "https://localhost:8080/",
          "height": 536
        },
        "outputId": "bc41cd4a-603a-40e0-9dce-be47b63c440a"
      },
      "cell_type": "code",
      "source": [
        "nyc_weather.head()"
      ],
      "execution_count": 25,
      "outputs": [
        {
          "output_type": "execute_result",
          "data": {
            "text/html": [
              "<div>\n",
              "<style scoped>\n",
              "    .dataframe tbody tr th:only-of-type {\n",
              "        vertical-align: middle;\n",
              "    }\n",
              "\n",
              "    .dataframe tbody tr th {\n",
              "        vertical-align: top;\n",
              "    }\n",
              "\n",
              "    .dataframe thead th {\n",
              "        text-align: right;\n",
              "    }\n",
              "</style>\n",
              "<table border=\"1\" class=\"dataframe\">\n",
              "  <thead>\n",
              "    <tr style=\"text-align: right;\">\n",
              "      <th></th>\n",
              "      <th>Max.TemperatureF</th>\n",
              "      <th>Mean.TemperatureF</th>\n",
              "      <th>Min.TemperatureF</th>\n",
              "      <th>Max.Dew.PointF</th>\n",
              "      <th>MeanDew.PointF</th>\n",
              "      <th>Min.DewpointF</th>\n",
              "      <th>Max.Humidity</th>\n",
              "      <th>Mean.Humidity</th>\n",
              "      <th>Min.Humidity</th>\n",
              "      <th>Max.Sea.Level.PressureIn</th>\n",
              "      <th>...</th>\n",
              "      <th>Max.VisibilityMiles</th>\n",
              "      <th>Mean.VisibilityMiles</th>\n",
              "      <th>Min.VisibilityMiles</th>\n",
              "      <th>Max.Wind.SpeedMPH</th>\n",
              "      <th>Mean.Wind.SpeedMPH</th>\n",
              "      <th>PrecipitationIn</th>\n",
              "      <th>CloudCover</th>\n",
              "      <th>WindDirDegrees.br...</th>\n",
              "      <th>city</th>\n",
              "      <th>season</th>\n",
              "    </tr>\n",
              "    <tr>\n",
              "      <th>Date</th>\n",
              "      <th></th>\n",
              "      <th></th>\n",
              "      <th></th>\n",
              "      <th></th>\n",
              "      <th></th>\n",
              "      <th></th>\n",
              "      <th></th>\n",
              "      <th></th>\n",
              "      <th></th>\n",
              "      <th></th>\n",
              "      <th></th>\n",
              "      <th></th>\n",
              "      <th></th>\n",
              "      <th></th>\n",
              "      <th></th>\n",
              "      <th></th>\n",
              "      <th></th>\n",
              "      <th></th>\n",
              "      <th></th>\n",
              "      <th></th>\n",
              "      <th></th>\n",
              "    </tr>\n",
              "  </thead>\n",
              "  <tbody>\n",
              "    <tr>\n",
              "      <th>1948-07-01</th>\n",
              "      <td>84</td>\n",
              "      <td>78.0</td>\n",
              "      <td>72</td>\n",
              "      <td>71</td>\n",
              "      <td>65</td>\n",
              "      <td>58</td>\n",
              "      <td>93</td>\n",
              "      <td>65</td>\n",
              "      <td>46</td>\n",
              "      <td>30.07</td>\n",
              "      <td>...</td>\n",
              "      <td>10.0</td>\n",
              "      <td>7.0</td>\n",
              "      <td>2.0</td>\n",
              "      <td>16</td>\n",
              "      <td>8</td>\n",
              "      <td>0.00</td>\n",
              "      <td>0.0</td>\n",
              "      <td>264&lt;br /&gt;</td>\n",
              "      <td>New York City (USA)</td>\n",
              "      <td>Summer</td>\n",
              "    </tr>\n",
              "    <tr>\n",
              "      <th>1948-07-02</th>\n",
              "      <td>82</td>\n",
              "      <td>72.0</td>\n",
              "      <td>63</td>\n",
              "      <td>62</td>\n",
              "      <td>53</td>\n",
              "      <td>49</td>\n",
              "      <td>76</td>\n",
              "      <td>51</td>\n",
              "      <td>33</td>\n",
              "      <td>30.20</td>\n",
              "      <td>...</td>\n",
              "      <td>15.0</td>\n",
              "      <td>14.0</td>\n",
              "      <td>10.0</td>\n",
              "      <td>16</td>\n",
              "      <td>10</td>\n",
              "      <td>0.00</td>\n",
              "      <td>0.0</td>\n",
              "      <td>315&lt;br /&gt;</td>\n",
              "      <td>New York City (USA)</td>\n",
              "      <td>Summer</td>\n",
              "    </tr>\n",
              "    <tr>\n",
              "      <th>1948-07-03</th>\n",
              "      <td>78</td>\n",
              "      <td>71.0</td>\n",
              "      <td>64</td>\n",
              "      <td>66</td>\n",
              "      <td>58</td>\n",
              "      <td>53</td>\n",
              "      <td>84</td>\n",
              "      <td>62</td>\n",
              "      <td>42</td>\n",
              "      <td>30.17</td>\n",
              "      <td>...</td>\n",
              "      <td>15.0</td>\n",
              "      <td>10.0</td>\n",
              "      <td>5.0</td>\n",
              "      <td>14</td>\n",
              "      <td>6</td>\n",
              "      <td>0.00</td>\n",
              "      <td>0.0</td>\n",
              "      <td>203&lt;br /&gt;</td>\n",
              "      <td>New York City (USA)</td>\n",
              "      <td>Summer</td>\n",
              "    </tr>\n",
              "    <tr>\n",
              "      <th>1948-07-04</th>\n",
              "      <td>84</td>\n",
              "      <td>76.0</td>\n",
              "      <td>68</td>\n",
              "      <td>68</td>\n",
              "      <td>63</td>\n",
              "      <td>56</td>\n",
              "      <td>90</td>\n",
              "      <td>67</td>\n",
              "      <td>38</td>\n",
              "      <td>30.13</td>\n",
              "      <td>...</td>\n",
              "      <td>15.0</td>\n",
              "      <td>7.0</td>\n",
              "      <td>2.0</td>\n",
              "      <td>12</td>\n",
              "      <td>5</td>\n",
              "      <td>0.00</td>\n",
              "      <td>0.0</td>\n",
              "      <td>198&lt;br /&gt;</td>\n",
              "      <td>New York City (USA)</td>\n",
              "      <td>Summer</td>\n",
              "    </tr>\n",
              "    <tr>\n",
              "      <th>1948-07-05</th>\n",
              "      <td>93</td>\n",
              "      <td>82.0</td>\n",
              "      <td>70</td>\n",
              "      <td>74</td>\n",
              "      <td>69</td>\n",
              "      <td>65</td>\n",
              "      <td>93</td>\n",
              "      <td>71</td>\n",
              "      <td>40</td>\n",
              "      <td>30.12</td>\n",
              "      <td>...</td>\n",
              "      <td>10.0</td>\n",
              "      <td>6.0</td>\n",
              "      <td>3.0</td>\n",
              "      <td>18</td>\n",
              "      <td>8</td>\n",
              "      <td>0.00</td>\n",
              "      <td>0.0</td>\n",
              "      <td>218&lt;br /&gt;</td>\n",
              "      <td>New York City (USA)</td>\n",
              "      <td>Summer</td>\n",
              "    </tr>\n",
              "  </tbody>\n",
              "</table>\n",
              "<p>5 rows × 22 columns</p>\n",
              "</div>"
            ],
            "text/plain": [
              "            Max.TemperatureF  Mean.TemperatureF  Min.TemperatureF  \\\n",
              "Date                                                                \n",
              "1948-07-01                84               78.0                72   \n",
              "1948-07-02                82               72.0                63   \n",
              "1948-07-03                78               71.0                64   \n",
              "1948-07-04                84               76.0                68   \n",
              "1948-07-05                93               82.0                70   \n",
              "\n",
              "            Max.Dew.PointF  MeanDew.PointF  Min.DewpointF  Max.Humidity  \\\n",
              "Date                                                                      \n",
              "1948-07-01              71              65             58            93   \n",
              "1948-07-02              62              53             49            76   \n",
              "1948-07-03              66              58             53            84   \n",
              "1948-07-04              68              63             56            90   \n",
              "1948-07-05              74              69             65            93   \n",
              "\n",
              "            Mean.Humidity  Min.Humidity  Max.Sea.Level.PressureIn   ...    \\\n",
              "Date                                                                ...     \n",
              "1948-07-01             65            46                     30.07   ...     \n",
              "1948-07-02             51            33                     30.20   ...     \n",
              "1948-07-03             62            42                     30.17   ...     \n",
              "1948-07-04             67            38                     30.13   ...     \n",
              "1948-07-05             71            40                     30.12   ...     \n",
              "\n",
              "            Max.VisibilityMiles  Mean.VisibilityMiles  Min.VisibilityMiles  \\\n",
              "Date                                                                         \n",
              "1948-07-01                 10.0                   7.0                  2.0   \n",
              "1948-07-02                 15.0                  14.0                 10.0   \n",
              "1948-07-03                 15.0                  10.0                  5.0   \n",
              "1948-07-04                 15.0                   7.0                  2.0   \n",
              "1948-07-05                 10.0                   6.0                  3.0   \n",
              "\n",
              "            Max.Wind.SpeedMPH  Mean.Wind.SpeedMPH  PrecipitationIn  \\\n",
              "Date                                                                 \n",
              "1948-07-01                 16                   8             0.00   \n",
              "1948-07-02                 16                  10             0.00   \n",
              "1948-07-03                 14                   6             0.00   \n",
              "1948-07-04                 12                   5             0.00   \n",
              "1948-07-05                 18                   8             0.00   \n",
              "\n",
              "            CloudCover WindDirDegrees.br...                 city  season  \n",
              "Date                                                                      \n",
              "1948-07-01         0.0            264<br />  New York City (USA)  Summer  \n",
              "1948-07-02         0.0            315<br />  New York City (USA)  Summer  \n",
              "1948-07-03         0.0            203<br />  New York City (USA)  Summer  \n",
              "1948-07-04         0.0            198<br />  New York City (USA)  Summer  \n",
              "1948-07-05         0.0            218<br />  New York City (USA)  Summer  \n",
              "\n",
              "[5 rows x 22 columns]"
            ]
          },
          "metadata": {
            "tags": []
          },
          "execution_count": 25
        }
      ]
    },
    {
      "metadata": {
        "id": "6rHl6B3j4sGY",
        "colab_type": "code",
        "colab": {}
      },
      "cell_type": "code",
      "source": [
        "nyc_weather.isna().sum()"
      ],
      "execution_count": 0,
      "outputs": []
    },
    {
      "metadata": {
        "id": "-ZrMzQzL2rGk",
        "colab_type": "text"
      },
      "cell_type": "markdown",
      "source": [
        "Over the years, the average daily low temperature in NYC is about 47F"
      ]
    },
    {
      "metadata": {
        "id": "Dl87JDeL1s-_",
        "colab_type": "code",
        "colab": {
          "base_uri": "https://localhost:8080/",
          "height": 35
        },
        "outputId": "1e79255a-af50-4975-dbc3-cb2aae4a9bc8"
      },
      "cell_type": "code",
      "source": [
        "nyc_weather['Min.TemperatureF'].mean()"
      ],
      "execution_count": 16,
      "outputs": [
        {
          "output_type": "execute_result",
          "data": {
            "text/plain": [
              "47.29458469055375"
            ]
          },
          "metadata": {
            "tags": []
          },
          "execution_count": 16
        }
      ]
    },
    {
      "metadata": {
        "id": "Dt4LggjI22SJ",
        "colab_type": "text"
      },
      "cell_type": "markdown",
      "source": [
        "The predicted temperature values deviate from the average by about 14 degrees on average"
      ]
    },
    {
      "metadata": {
        "id": "xXADRIr52AGR",
        "colab_type": "code",
        "colab": {
          "base_uri": "https://localhost:8080/",
          "height": 35
        },
        "outputId": "fbb41910-a1e4-4b15-8ce3-6b2ed1318f06"
      },
      "cell_type": "code",
      "source": [
        "predicted = [nyc_weather['Min.TemperatureF'].mean()] * len(nyc_weather)\n",
        "mean_absolute_error(nyc_weather['Min.TemperatureF'], predicted)"
      ],
      "execution_count": 20,
      "outputs": [
        {
          "output_type": "execute_result",
          "data": {
            "text/plain": [
              "14.002022219731774"
            ]
          },
          "metadata": {
            "tags": []
          },
          "execution_count": 20
        }
      ]
    },
    {
      "metadata": {
        "id": "l9mizmB54FGE",
        "colab_type": "text"
      },
      "cell_type": "markdown",
      "source": [
        "###NYC Weather - persistence baseline"
      ]
    },
    {
      "metadata": {
        "id": "7GEGh__Z2oFH",
        "colab_type": "code",
        "colab": {
          "base_uri": "https://localhost:8080/",
          "height": 35
        },
        "outputId": "6d9774ca-9af7-40a8-8cb3-f9ca44483899"
      },
      "cell_type": "code",
      "source": [
        "nyc_weather['min_yesterdaty'] = nyc_weather['Min.TemperatureF'].shift(1)\n",
        "nyc_weather.dropna(inplace=True)\n",
        "mean_absolute_error(nyc_weather['Min.TemperatureF'], nyc_weather['min_yesterdaty'])"
      ],
      "execution_count": 28,
      "outputs": [
        {
          "output_type": "execute_result",
          "data": {
            "text/plain": [
              "4.063232388217453"
            ]
          },
          "metadata": {
            "tags": []
          },
          "execution_count": 28
        }
      ]
    },
    {
      "metadata": {
        "id": "Adv3n8vb5sjI",
        "colab_type": "text"
      },
      "cell_type": "markdown",
      "source": [
        "Yay! The baseline is off less by 10 degrees on average"
      ]
    }
  ]
}