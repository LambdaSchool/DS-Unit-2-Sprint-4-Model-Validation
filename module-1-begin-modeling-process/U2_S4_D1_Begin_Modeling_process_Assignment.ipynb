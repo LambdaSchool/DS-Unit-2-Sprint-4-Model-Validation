{
  "nbformat": 4,
  "nbformat_minor": 0,
  "metadata": {
    "colab": {
      "name": "U2-S4-D1-Begin_Modeling_process_Assignment.ipynb",
      "version": "0.3.2",
      "provenance": [],
      "include_colab_link": true
    },
    "kernelspec": {
      "name": "python3",
      "display_name": "Python 3"
    }
  },
  "cells": [
    {
      "cell_type": "markdown",
      "metadata": {
        "id": "view-in-github",
        "colab_type": "text"
      },
      "source": [
        "<a href=\"https://colab.research.google.com/github/zarrinan/DS-Unit-2-Sprint-4-Model-Validation/blob/master/module-1-begin-modeling-process/U2_S4_D1_Begin_Modeling_process_Assignment.ipynb\" target=\"_parent\"><img src=\"https://colab.research.google.com/assets/colab-badge.svg\" alt=\"Open In Colab\"/></a>"
      ]
    },
    {
      "metadata": {
        "id": "cmpUAO5syl5r",
        "colab_type": "code",
        "colab": {}
      },
      "cell_type": "code",
      "source": [
        "!pip install category_encoders"
      ],
      "execution_count": 0,
      "outputs": []
    },
    {
      "metadata": {
        "id": "HRa5fwC-yNmL",
        "colab_type": "code",
        "colab": {}
      },
      "cell_type": "code",
      "source": [
        "#imports\n",
        "%matplotlib inline\n",
        "import matplotlib.pyplot as plt\n",
        "import pandas as pd \n",
        "import numpy as np\n",
        "from sklearn.metrics import mean_absolute_error\n",
        "from pandas.api.types import is_numeric_dtype    \n",
        "from sklearn.preprocessing import StandardScaler\n",
        "from sklearn.pipeline import make_pipeline\n",
        "import category_encoders as ce\n",
        "from sklearn.model_selection import cross_val_score\n",
        "from sklearn.model_selection import train_test_split"
      ],
      "execution_count": 0,
      "outputs": []
    },
    {
      "metadata": {
        "id": "VMwmEHO7yrEc",
        "colab_type": "code",
        "colab": {}
      },
      "cell_type": "code",
      "source": [
        "#Silent Data Conversion Warnings\n",
        "import warnings\n",
        "from sklearn.exceptions import DataConversionWarning\n",
        "warnings.filterwarnings(action='ignore', category=DataConversionWarning)"
      ],
      "execution_count": 0,
      "outputs": []
    },
    {
      "metadata": {
        "id": "VMftFZQK3Hyp",
        "colab_type": "text"
      },
      "cell_type": "markdown",
      "source": [
        "### NYC Weather Data - climatology baseline"
      ]
    },
    {
      "metadata": {
        "id": "GpPlxAiYy-D_",
        "colab_type": "code",
        "colab": {}
      },
      "cell_type": "code",
      "source": [
        "url = 'https://raw.githubusercontent.com/zonination/weather-us/master/nyc.csv'\n",
        "nyc_weather = pd.read_csv(url, parse_dates=['Date']).set_index('Date').drop(['Unnamed: 0', 'Max.Gust.SpeedMPH', 'Events'], axis=1)"
      ],
      "execution_count": 0,
      "outputs": []
    },
    {
      "metadata": {
        "id": "MONoDB0A0QNi",
        "colab_type": "code",
        "outputId": "bc41cd4a-603a-40e0-9dce-be47b63c440a",
        "colab": {
          "base_uri": "https://localhost:8080/",
          "height": 536
        }
      },
      "cell_type": "code",
      "source": [
        "nyc_weather.head()"
      ],
      "execution_count": 0,
      "outputs": [
        {
          "output_type": "execute_result",
          "data": {
            "text/html": [
              "<div>\n",
              "<style scoped>\n",
              "    .dataframe tbody tr th:only-of-type {\n",
              "        vertical-align: middle;\n",
              "    }\n",
              "\n",
              "    .dataframe tbody tr th {\n",
              "        vertical-align: top;\n",
              "    }\n",
              "\n",
              "    .dataframe thead th {\n",
              "        text-align: right;\n",
              "    }\n",
              "</style>\n",
              "<table border=\"1\" class=\"dataframe\">\n",
              "  <thead>\n",
              "    <tr style=\"text-align: right;\">\n",
              "      <th></th>\n",
              "      <th>Max.TemperatureF</th>\n",
              "      <th>Mean.TemperatureF</th>\n",
              "      <th>Min.TemperatureF</th>\n",
              "      <th>Max.Dew.PointF</th>\n",
              "      <th>MeanDew.PointF</th>\n",
              "      <th>Min.DewpointF</th>\n",
              "      <th>Max.Humidity</th>\n",
              "      <th>Mean.Humidity</th>\n",
              "      <th>Min.Humidity</th>\n",
              "      <th>Max.Sea.Level.PressureIn</th>\n",
              "      <th>...</th>\n",
              "      <th>Max.VisibilityMiles</th>\n",
              "      <th>Mean.VisibilityMiles</th>\n",
              "      <th>Min.VisibilityMiles</th>\n",
              "      <th>Max.Wind.SpeedMPH</th>\n",
              "      <th>Mean.Wind.SpeedMPH</th>\n",
              "      <th>PrecipitationIn</th>\n",
              "      <th>CloudCover</th>\n",
              "      <th>WindDirDegrees.br...</th>\n",
              "      <th>city</th>\n",
              "      <th>season</th>\n",
              "    </tr>\n",
              "    <tr>\n",
              "      <th>Date</th>\n",
              "      <th></th>\n",
              "      <th></th>\n",
              "      <th></th>\n",
              "      <th></th>\n",
              "      <th></th>\n",
              "      <th></th>\n",
              "      <th></th>\n",
              "      <th></th>\n",
              "      <th></th>\n",
              "      <th></th>\n",
              "      <th></th>\n",
              "      <th></th>\n",
              "      <th></th>\n",
              "      <th></th>\n",
              "      <th></th>\n",
              "      <th></th>\n",
              "      <th></th>\n",
              "      <th></th>\n",
              "      <th></th>\n",
              "      <th></th>\n",
              "      <th></th>\n",
              "    </tr>\n",
              "  </thead>\n",
              "  <tbody>\n",
              "    <tr>\n",
              "      <th>1948-07-01</th>\n",
              "      <td>84</td>\n",
              "      <td>78.0</td>\n",
              "      <td>72</td>\n",
              "      <td>71</td>\n",
              "      <td>65</td>\n",
              "      <td>58</td>\n",
              "      <td>93</td>\n",
              "      <td>65</td>\n",
              "      <td>46</td>\n",
              "      <td>30.07</td>\n",
              "      <td>...</td>\n",
              "      <td>10.0</td>\n",
              "      <td>7.0</td>\n",
              "      <td>2.0</td>\n",
              "      <td>16</td>\n",
              "      <td>8</td>\n",
              "      <td>0.00</td>\n",
              "      <td>0.0</td>\n",
              "      <td>264&lt;br /&gt;</td>\n",
              "      <td>New York City (USA)</td>\n",
              "      <td>Summer</td>\n",
              "    </tr>\n",
              "    <tr>\n",
              "      <th>1948-07-02</th>\n",
              "      <td>82</td>\n",
              "      <td>72.0</td>\n",
              "      <td>63</td>\n",
              "      <td>62</td>\n",
              "      <td>53</td>\n",
              "      <td>49</td>\n",
              "      <td>76</td>\n",
              "      <td>51</td>\n",
              "      <td>33</td>\n",
              "      <td>30.20</td>\n",
              "      <td>...</td>\n",
              "      <td>15.0</td>\n",
              "      <td>14.0</td>\n",
              "      <td>10.0</td>\n",
              "      <td>16</td>\n",
              "      <td>10</td>\n",
              "      <td>0.00</td>\n",
              "      <td>0.0</td>\n",
              "      <td>315&lt;br /&gt;</td>\n",
              "      <td>New York City (USA)</td>\n",
              "      <td>Summer</td>\n",
              "    </tr>\n",
              "    <tr>\n",
              "      <th>1948-07-03</th>\n",
              "      <td>78</td>\n",
              "      <td>71.0</td>\n",
              "      <td>64</td>\n",
              "      <td>66</td>\n",
              "      <td>58</td>\n",
              "      <td>53</td>\n",
              "      <td>84</td>\n",
              "      <td>62</td>\n",
              "      <td>42</td>\n",
              "      <td>30.17</td>\n",
              "      <td>...</td>\n",
              "      <td>15.0</td>\n",
              "      <td>10.0</td>\n",
              "      <td>5.0</td>\n",
              "      <td>14</td>\n",
              "      <td>6</td>\n",
              "      <td>0.00</td>\n",
              "      <td>0.0</td>\n",
              "      <td>203&lt;br /&gt;</td>\n",
              "      <td>New York City (USA)</td>\n",
              "      <td>Summer</td>\n",
              "    </tr>\n",
              "    <tr>\n",
              "      <th>1948-07-04</th>\n",
              "      <td>84</td>\n",
              "      <td>76.0</td>\n",
              "      <td>68</td>\n",
              "      <td>68</td>\n",
              "      <td>63</td>\n",
              "      <td>56</td>\n",
              "      <td>90</td>\n",
              "      <td>67</td>\n",
              "      <td>38</td>\n",
              "      <td>30.13</td>\n",
              "      <td>...</td>\n",
              "      <td>15.0</td>\n",
              "      <td>7.0</td>\n",
              "      <td>2.0</td>\n",
              "      <td>12</td>\n",
              "      <td>5</td>\n",
              "      <td>0.00</td>\n",
              "      <td>0.0</td>\n",
              "      <td>198&lt;br /&gt;</td>\n",
              "      <td>New York City (USA)</td>\n",
              "      <td>Summer</td>\n",
              "    </tr>\n",
              "    <tr>\n",
              "      <th>1948-07-05</th>\n",
              "      <td>93</td>\n",
              "      <td>82.0</td>\n",
              "      <td>70</td>\n",
              "      <td>74</td>\n",
              "      <td>69</td>\n",
              "      <td>65</td>\n",
              "      <td>93</td>\n",
              "      <td>71</td>\n",
              "      <td>40</td>\n",
              "      <td>30.12</td>\n",
              "      <td>...</td>\n",
              "      <td>10.0</td>\n",
              "      <td>6.0</td>\n",
              "      <td>3.0</td>\n",
              "      <td>18</td>\n",
              "      <td>8</td>\n",
              "      <td>0.00</td>\n",
              "      <td>0.0</td>\n",
              "      <td>218&lt;br /&gt;</td>\n",
              "      <td>New York City (USA)</td>\n",
              "      <td>Summer</td>\n",
              "    </tr>\n",
              "  </tbody>\n",
              "</table>\n",
              "<p>5 rows × 22 columns</p>\n",
              "</div>"
            ],
            "text/plain": [
              "            Max.TemperatureF  Mean.TemperatureF  Min.TemperatureF  \\\n",
              "Date                                                                \n",
              "1948-07-01                84               78.0                72   \n",
              "1948-07-02                82               72.0                63   \n",
              "1948-07-03                78               71.0                64   \n",
              "1948-07-04                84               76.0                68   \n",
              "1948-07-05                93               82.0                70   \n",
              "\n",
              "            Max.Dew.PointF  MeanDew.PointF  Min.DewpointF  Max.Humidity  \\\n",
              "Date                                                                      \n",
              "1948-07-01              71              65             58            93   \n",
              "1948-07-02              62              53             49            76   \n",
              "1948-07-03              66              58             53            84   \n",
              "1948-07-04              68              63             56            90   \n",
              "1948-07-05              74              69             65            93   \n",
              "\n",
              "            Mean.Humidity  Min.Humidity  Max.Sea.Level.PressureIn   ...    \\\n",
              "Date                                                                ...     \n",
              "1948-07-01             65            46                     30.07   ...     \n",
              "1948-07-02             51            33                     30.20   ...     \n",
              "1948-07-03             62            42                     30.17   ...     \n",
              "1948-07-04             67            38                     30.13   ...     \n",
              "1948-07-05             71            40                     30.12   ...     \n",
              "\n",
              "            Max.VisibilityMiles  Mean.VisibilityMiles  Min.VisibilityMiles  \\\n",
              "Date                                                                         \n",
              "1948-07-01                 10.0                   7.0                  2.0   \n",
              "1948-07-02                 15.0                  14.0                 10.0   \n",
              "1948-07-03                 15.0                  10.0                  5.0   \n",
              "1948-07-04                 15.0                   7.0                  2.0   \n",
              "1948-07-05                 10.0                   6.0                  3.0   \n",
              "\n",
              "            Max.Wind.SpeedMPH  Mean.Wind.SpeedMPH  PrecipitationIn  \\\n",
              "Date                                                                 \n",
              "1948-07-01                 16                   8             0.00   \n",
              "1948-07-02                 16                  10             0.00   \n",
              "1948-07-03                 14                   6             0.00   \n",
              "1948-07-04                 12                   5             0.00   \n",
              "1948-07-05                 18                   8             0.00   \n",
              "\n",
              "            CloudCover WindDirDegrees.br...                 city  season  \n",
              "Date                                                                      \n",
              "1948-07-01         0.0            264<br />  New York City (USA)  Summer  \n",
              "1948-07-02         0.0            315<br />  New York City (USA)  Summer  \n",
              "1948-07-03         0.0            203<br />  New York City (USA)  Summer  \n",
              "1948-07-04         0.0            198<br />  New York City (USA)  Summer  \n",
              "1948-07-05         0.0            218<br />  New York City (USA)  Summer  \n",
              "\n",
              "[5 rows x 22 columns]"
            ]
          },
          "metadata": {
            "tags": []
          },
          "execution_count": 25
        }
      ]
    },
    {
      "metadata": {
        "id": "6rHl6B3j4sGY",
        "colab_type": "code",
        "colab": {}
      },
      "cell_type": "code",
      "source": [
        "nyc_weather.isna().sum()"
      ],
      "execution_count": 0,
      "outputs": []
    },
    {
      "metadata": {
        "id": "-ZrMzQzL2rGk",
        "colab_type": "text"
      },
      "cell_type": "markdown",
      "source": [
        "Over the years, the average daily low temperature in NYC is about 47F"
      ]
    },
    {
      "metadata": {
        "id": "Dl87JDeL1s-_",
        "colab_type": "code",
        "outputId": "1e79255a-af50-4975-dbc3-cb2aae4a9bc8",
        "colab": {
          "base_uri": "https://localhost:8080/",
          "height": 35
        }
      },
      "cell_type": "code",
      "source": [
        "nyc_weather['Min.TemperatureF'].mean()"
      ],
      "execution_count": 0,
      "outputs": [
        {
          "output_type": "execute_result",
          "data": {
            "text/plain": [
              "47.29458469055375"
            ]
          },
          "metadata": {
            "tags": []
          },
          "execution_count": 16
        }
      ]
    },
    {
      "metadata": {
        "id": "Dt4LggjI22SJ",
        "colab_type": "text"
      },
      "cell_type": "markdown",
      "source": [
        "The predicted temperature values deviate from the average by about 14 degrees on average"
      ]
    },
    {
      "metadata": {
        "id": "xXADRIr52AGR",
        "colab_type": "code",
        "outputId": "fbb41910-a1e4-4b15-8ce3-6b2ed1318f06",
        "colab": {
          "base_uri": "https://localhost:8080/",
          "height": 35
        }
      },
      "cell_type": "code",
      "source": [
        "predicted = [nyc_weather['Min.TemperatureF'].mean()] * len(nyc_weather)\n",
        "mean_absolute_error(nyc_weather['Min.TemperatureF'], predicted)"
      ],
      "execution_count": 0,
      "outputs": [
        {
          "output_type": "execute_result",
          "data": {
            "text/plain": [
              "14.002022219731774"
            ]
          },
          "metadata": {
            "tags": []
          },
          "execution_count": 20
        }
      ]
    },
    {
      "metadata": {
        "id": "l9mizmB54FGE",
        "colab_type": "text"
      },
      "cell_type": "markdown",
      "source": [
        "###NYC Weather - persistence baseline"
      ]
    },
    {
      "metadata": {
        "id": "7GEGh__Z2oFH",
        "colab_type": "code",
        "outputId": "6057851b-4fa3-4145-c993-b2796da06564",
        "colab": {
          "base_uri": "https://localhost:8080/",
          "height": 35
        }
      },
      "cell_type": "code",
      "source": [
        "nyc_weather['min_yesterday'] = nyc_weather['Min.TemperatureF'].shift(1)\n",
        "nyc_weather.dropna(inplace=True)\n",
        "mean_absolute_error(nyc_weather['Min.TemperatureF'], nyc_weather['min_yesterday'])"
      ],
      "execution_count": 29,
      "outputs": [
        {
          "output_type": "execute_result",
          "data": {
            "text/plain": [
              "4.193198529411765"
            ]
          },
          "metadata": {
            "tags": []
          },
          "execution_count": 29
        }
      ]
    },
    {
      "metadata": {
        "id": "Adv3n8vb5sjI",
        "colab_type": "text"
      },
      "cell_type": "markdown",
      "source": [
        "Yay! The baseline is off less by 10 degrees on average"
      ]
    },
    {
      "metadata": {
        "id": "j9NM6nNLTaoC",
        "colab_type": "text"
      },
      "cell_type": "markdown",
      "source": [
        "### NYC Weather - combined baseline"
      ]
    },
    {
      "metadata": {
        "id": "WDapAy1XF0Ze",
        "colab_type": "code",
        "colab": {}
      },
      "cell_type": "code",
      "source": [
        "nyc_weather['mean_temp'] = [nyc_weather['Min.TemperatureF'].mean()] * len(nyc_weather)"
      ],
      "execution_count": 0,
      "outputs": []
    },
    {
      "metadata": {
        "id": "mTlSIzkMT78b",
        "colab_type": "code",
        "colab": {}
      },
      "cell_type": "code",
      "source": [
        "nyc_weather['Average'] = (nyc_weather['mean_temp'] + nyc_weather['min_yesterday'])/2"
      ],
      "execution_count": 0,
      "outputs": []
    },
    {
      "metadata": {
        "id": "l2g7ZVy-URyo",
        "colab_type": "text"
      },
      "cell_type": "markdown",
      "source": [
        "Averaging the climatology and persistence methods did not help, persistence baseline stays the most accurate for NYC weather"
      ]
    },
    {
      "metadata": {
        "id": "74Bd7PCMUKaF",
        "colab_type": "code",
        "colab": {
          "base_uri": "https://localhost:8080/",
          "height": 35
        },
        "outputId": "c087edd5-a3d8-47ac-f147-6b3a7416f7fc"
      },
      "cell_type": "code",
      "source": [
        "mean_absolute_error(nyc_weather['Min.TemperatureF'], nyc_weather['Average'])"
      ],
      "execution_count": 34,
      "outputs": [
        {
          "output_type": "execute_result",
          "data": {
            "text/plain": [
              "7.634351515192473"
            ]
          },
          "metadata": {
            "tags": []
          },
          "execution_count": 34
        }
      ]
    },
    {
      "metadata": {
        "id": "RRLyGCZGUwY8",
        "colab_type": "text"
      },
      "cell_type": "markdown",
      "source": [
        "### Bank marketing"
      ]
    },
    {
      "metadata": {
        "id": "myWOVJtrUyg_",
        "colab_type": "code",
        "colab": {}
      },
      "cell_type": "code",
      "source": [
        "!wget https://archive.ics.uci.edu/ml/machine-learning-databases/00222/bank-additional.zip\n",
        "!unzip bank-additional.zip\n",
        "%cd bank-additional"
      ],
      "execution_count": 0,
      "outputs": []
    },
    {
      "metadata": {
        "id": "G_ENSsGWVSas",
        "colab_type": "code",
        "colab": {}
      },
      "cell_type": "code",
      "source": [
        "bank = pd.read_csv('bank-additional-full.csv', sep=';')\n",
        "X = bank.drop(columns='y')\n",
        "y = bank['y'] == 'yes'"
      ],
      "execution_count": 0,
      "outputs": []
    },
    {
      "metadata": {
        "id": "sGomq5pbYW0B",
        "colab_type": "code",
        "colab": {
          "base_uri": "https://localhost:8080/",
          "height": 1036
        },
        "outputId": "8f0a06db-fb08-41dc-bb59-7cfb9427c943"
      },
      "cell_type": "code",
      "source": [
        "def unique(df):\n",
        "  for col in df.columns:\n",
        "    print(col, df[col].unique())\n",
        "    \n",
        "unique(bank)    "
      ],
      "execution_count": 71,
      "outputs": [
        {
          "output_type": "stream",
          "text": [
            "age [56 37 40 59 24 25 29 57 35 50 30 55 41 54 34 52 32 38 45 39 60 53 51 48\n",
            " 44 31 49 33 42 36 43 46 28 58 27 47 26 22 23 20 21 18 70 61 66 76 67 73\n",
            " 88 95 19 68 75 63 62 65 72 64 71 69 78 85 80 79 77 83 81 74 82 17 87 91\n",
            " 94 86 84 89]\n",
            "job ['housemaid' 'services' 'admin.' 'technician' 'blue-collar' 'unemployed'\n",
            " 'retired' 'entrepreneur' 'management' 'student' 'self-employed']\n",
            "marital ['married' 'single' 'divorced']\n",
            "education ['basic.4y' 'high.school' 'basic.6y' 'professional.course' 'basic.9y'\n",
            " 'university.degree' 'illiterate']\n",
            "default ['no' 'yes']\n",
            "housing ['no' 'yes']\n",
            "loan ['no' 'yes']\n",
            "contact ['telephone' 'cellular']\n",
            "month ['may' 'jun' 'jul' 'aug' 'oct' 'nov' 'dec' 'mar' 'apr' 'sep']\n",
            "day_of_week ['mon' 'tue' 'wed' 'thu' 'fri']\n",
            "duration [ 261  226  151 ... 1246 1556 1868]\n",
            "campaign [ 1  2  3  4  5  6  7  8  9 10 12 11 18 23 14 22 25 17 15 20 19 39 13 42\n",
            " 16 28 26 32 21 24 29 31 30 35 41 37 27 40 43 34 33]\n",
            "pdays [999   6   4   5   1   0   3  10   7   9  11   8   2  12  13  14  15  16\n",
            "  21  17  18  22  25  26  19  27]\n",
            "previous [0 1 2 3 4 5 6 7]\n",
            "poutcome ['nonexistent' 'failure' 'success']\n",
            "emp.var.rate [ 1.1  1.4 -0.1 -0.2 -1.8 -2.9 -3.4 -3.  -1.7 -1.1]\n",
            "cons.price.idx [93.994 94.465 93.918 93.444 93.798 93.2   92.756 92.843 93.075 92.893\n",
            " 92.963 92.469 92.201 92.379 92.431 92.649 92.713 93.369 93.749 93.876\n",
            " 94.055 94.215 94.027 94.199 94.601 94.767]\n",
            "cons.conf.idx [-36.4 -41.8 -42.7 -36.1 -40.4 -42.  -45.9 -50.  -47.1 -46.2 -40.8 -33.6\n",
            " -31.4 -29.8 -26.9 -30.1 -33.  -34.8 -34.6 -40.  -39.8 -40.3 -38.3 -37.5\n",
            " -49.5 -50.8]\n",
            "euribor3m [4.857 4.856 4.855 4.859 4.86  4.858 4.864 4.865 4.866 4.967 4.961 4.959\n",
            " 4.958 4.96  4.962 4.955 4.947 4.956 4.966 4.963 4.957 4.968 4.97  4.965\n",
            " 4.964 5.045 5.    4.936 4.921 4.918 4.912 4.827 4.794 4.76  4.733 4.7\n",
            " 4.663 4.592 4.474 4.406 4.343 4.286 4.245 4.223 4.191 4.153 4.12  4.076\n",
            " 4.021 3.901 3.879 3.853 3.816 3.743 3.669 3.563 3.488 3.428 3.329 3.282\n",
            " 3.053 1.811 1.799 1.778 1.757 1.726 1.703 1.687 1.663 1.65  1.64  1.629\n",
            " 1.614 1.602 1.584 1.56  1.556 1.548 1.538 1.531 1.52  1.51  1.498 1.483\n",
            " 1.479 1.466 1.453 1.445 1.435 1.423 1.415 1.41  1.405 1.406 1.4   1.392\n",
            " 1.384 1.372 1.365 1.354 1.344 1.334 1.327 1.313 1.299 1.291 1.281 1.266\n",
            " 1.25  1.244 1.259 1.264 1.27  1.262 1.26  1.268 1.286 1.252 1.235 1.224\n",
            " 1.215 1.206 1.099 1.085 1.072 1.059 1.048 1.044 1.029 1.018 1.007 0.979\n",
            " 0.969 0.944 0.937 0.933 0.927 0.921 0.914 0.908 0.903 0.899 0.884 0.883\n",
            " 0.881 0.879 0.873 0.869 0.861 0.859 0.854 0.851 0.849 0.843 0.838 0.834\n",
            " 0.829 0.825 0.821 0.819 0.813 0.809 0.803 0.797 0.788 0.781 0.778 0.773\n",
            " 0.771 0.77  0.768 0.766 0.762 0.755 0.749 0.743 0.741 0.739 0.75  0.753\n",
            " 0.754 0.752 0.744 0.74  0.742 0.737 0.735 0.733 0.73  0.731 0.728 0.724\n",
            " 0.722 0.72  0.719 0.716 0.715 0.714 0.718 0.721 0.717 0.712 0.71  0.709\n",
            " 0.708 0.706 0.707 0.7   0.655 0.654 0.653 0.652 0.651 0.65  0.649 0.646\n",
            " 0.644 0.643 0.639 0.637 0.635 0.636 0.634 0.638 0.64  0.642 0.645 0.659\n",
            " 0.663 0.668 0.672 0.677 0.682 0.683 0.684 0.685 0.688 0.69  0.692 0.695\n",
            " 0.697 0.699 0.701 0.702 0.704 0.711 0.713 0.723 0.727 0.729 0.732 0.748\n",
            " 0.761 0.767 0.782 0.79  0.793 0.802 0.81  0.822 0.827 0.835 0.84  0.846\n",
            " 0.87  0.876 0.885 0.889 0.893 0.896 0.898 0.9   0.904 0.905 0.895 0.894\n",
            " 0.891 0.89  0.888 0.886 0.882 0.88  0.878 0.877 0.942 0.953 0.956 0.959\n",
            " 0.965 0.972 0.977 0.982 0.985 0.987 0.993 1.    1.008 1.016 1.025 1.032\n",
            " 1.037 1.043 1.045 1.047 1.05  1.049 1.046 1.041 1.04  1.039 1.035 1.03\n",
            " 1.031 1.028]\n",
            "nr.employed [5191.  5228.1 5195.8 5176.3 5099.1 5076.2 5017.5 5023.5 5008.7 4991.6\n",
            " 4963.6]\n",
            "y ['no' 'yes']\n"
          ],
          "name": "stdout"
        }
      ]
    },
    {
      "metadata": {
        "id": "32NXUo42ZHZ0",
        "colab_type": "code",
        "colab": {}
      },
      "cell_type": "code",
      "source": [
        "bank.replace('unknown', np.nan, inplace=True)\n",
        "bank.dropna(inplace=True)\n",
        "bank.isna().sum()"
      ],
      "execution_count": 0,
      "outputs": []
    },
    {
      "metadata": {
        "id": "kdeRCaxyZVG9",
        "colab_type": "code",
        "colab": {}
      },
      "cell_type": "code",
      "source": [
        "def train_validation_test_split(\n",
        "    X, y, train_size=0.8, val_size=0.1, test_size=0.1, \n",
        "    random_state=None, shuffle=True):\n",
        "  \n",
        "    from sklearn.model_selection import train_test_split\n",
        "\n",
        "    assert train_size + val_size + test_size == 1\n",
        "    \n",
        "    X_train_val, X_test, y_train_val, y_test = train_test_split(\n",
        "        X, y, test_size=test_size, random_state=random_state, shuffle=shuffle)\n",
        "    \n",
        "    X_train, X_val, y_train, y_val = train_test_split(\n",
        "        X_train_val, y_train_val, test_size=val_size/(train_size+val_size), \n",
        "        random_state=random_state, shuffle=shuffle)\n",
        "    print(val_size/(train_size+val_size))\n",
        "    print(test_size)\n",
        "    print(train_size)\n",
        "    print(train_size+test_size+val_size)\n",
        "    \n",
        "    return X_train, X_val, X_test, y_train, y_val, y_test"
      ],
      "execution_count": 0,
      "outputs": []
    },
    {
      "metadata": {
        "id": "0_w2ulsuaRO8",
        "colab_type": "code",
        "colab": {}
      },
      "cell_type": "code",
      "source": [
        "#First, try the model without shuffling the data\n",
        "X_train, X_val, X_test, y_train, y_val, y_test = train_validation_test_split(\n",
        "    X, y, shuffle=False)"
      ],
      "execution_count": 0,
      "outputs": []
    },
    {
      "metadata": {
        "id": "CMEGUEJfaaQP",
        "colab_type": "code",
        "colab": {
          "base_uri": "https://localhost:8080/",
          "height": 35
        },
        "outputId": "0328d742-82dd-4ef3-b191-6ff8cd219f18"
      },
      "cell_type": "code",
      "source": [
        "from sklearn.pipeline import make_pipeline\n",
        "import category_encoders as ce\n",
        "from sklearn.linear_model import LogisticRegression\n",
        "from sklearn.preprocessing import StandardScaler\n",
        "from sklearn.metrics import accuracy_score\n",
        "\n",
        "\n",
        "pipeline = make_pipeline(\n",
        "    ce.OneHotEncoder(use_cat_names=True),\n",
        "    StandardScaler(),\n",
        "    LogisticRegression(solver='newton-cg')\n",
        ")\n",
        "\n",
        "pipeline.fit(X_train, y_train)\n",
        "y_pred = pipeline.predict(X_val)\n",
        "accuracy_score(y_val, y_pred)"
      ],
      "execution_count": 58,
      "outputs": [
        {
          "output_type": "execute_result",
          "data": {
            "text/plain": [
              "0.85360524399126"
            ]
          },
          "metadata": {
            "tags": []
          },
          "execution_count": 58
        }
      ]
    },
    {
      "metadata": {
        "id": "n7ttNZfzcyZu",
        "colab_type": "text"
      },
      "cell_type": "markdown",
      "source": [
        "The accuracy pretty well, let's see the accuracy with shuffling"
      ]
    },
    {
      "metadata": {
        "id": "4Rl5C2txcQb6",
        "colab_type": "code",
        "colab": {}
      },
      "cell_type": "code",
      "source": [
        "X_train_t, X_val_t, X_test_t, y_train_t, y_val_t, y_test_t = train_validation_test_split(\n",
        "    X, y, shuffle=True)"
      ],
      "execution_count": 0,
      "outputs": []
    },
    {
      "metadata": {
        "id": "tb_SXMrncf6k",
        "colab_type": "code",
        "colab": {
          "base_uri": "https://localhost:8080/",
          "height": 35
        },
        "outputId": "591e3be2-9f30-4b12-dfd9-c196506d32d0"
      },
      "cell_type": "code",
      "source": [
        "pipeline = make_pipeline(\n",
        "    ce.OneHotEncoder(use_cat_names=True),\n",
        "    StandardScaler(),\n",
        "    LogisticRegression(solver='newton-cg')\n",
        ")\n",
        "\n",
        "pipeline.fit(X_train_t, y_train_t)\n",
        "y_pred_t = pipeline.predict(X_val_t)\n",
        "accuracy_score(y_val_t, y_pred_t)"
      ],
      "execution_count": 62,
      "outputs": [
        {
          "output_type": "execute_result",
          "data": {
            "text/plain": [
              "0.911143481427531"
            ]
          },
          "metadata": {
            "tags": []
          },
          "execution_count": 62
        }
      ]
    },
    {
      "metadata": {
        "id": "RWf29CEZc7Xz",
        "colab_type": "text"
      },
      "cell_type": "markdown",
      "source": [
        "shuffling data helped to increase the model accuracy by 5% on average\n",
        "\n",
        "Visualize the coefficients"
      ]
    },
    {
      "metadata": {
        "id": "DEAz9crEdRJQ",
        "colab_type": "code",
        "colab": {
          "base_uri": "https://localhost:8080/",
          "height": 1150
        },
        "outputId": "3addb3de-6834-4b1c-c756-5fe91ed282ce"
      },
      "cell_type": "code",
      "source": [
        "plt.figure(figsize=(10,20))\n",
        "plt.title('Coefficients')\n",
        "\n",
        "coefficients = pipeline.named_steps['logisticregression'].coef_[0]\n",
        "feature_names = pipeline.named_steps['onehotencoder'].transform(X_train_t).columns\n",
        "pd.Series(coefficients, feature_names).sort_values().plot.barh(color='gray');\n"
      ],
      "execution_count": 69,
      "outputs": [
        {
          "output_type": "display_data",
          "data": {
            "image/png": "[encoded data removed]",
            "text/plain": [
              "<Figure size 720x1440 with 1 Axes>"
            ]
          },
          "metadata": {
            "tags": []
          }
        }
      ]
    },
    {
      "metadata": {
        "id": "kDwsc79KeNhz",
        "colab_type": "code",
        "colab": {
          "base_uri": "https://localhost:8080/",
          "height": 175
        },
        "outputId": "6794a436-552a-4122-d217-2d7f51d2f886"
      },
      "cell_type": "code",
      "source": [
        "pipeline.named_steps"
      ],
      "execution_count": 65,
      "outputs": [
        {
          "output_type": "execute_result",
          "data": {
            "text/plain": [
              "{'logisticregression': LogisticRegression(C=1.0, class_weight=None, dual=False, fit_intercept=True,\n",
              "           intercept_scaling=1, max_iter=100, multi_class='warn',\n",
              "           n_jobs=None, penalty='l2', random_state=None, solver='newton-cg',\n",
              "           tol=0.0001, verbose=0, warm_start=False),\n",
              " 'onehotencoder': OneHotEncoder(cols=['job', 'marital', 'education', 'default', 'housing', 'loan', 'contact', 'month', 'day_of_week', 'poutcome'],\n",
              "        drop_invariant=False, handle_unknown='impute', impute_missing=True,\n",
              "        return_df=True, use_cat_names=True, verbose=0),\n",
              " 'standardscaler': StandardScaler(copy=True, with_mean=True, with_std=True)}"
            ]
          },
          "metadata": {
            "tags": []
          },
          "execution_count": 65
        }
      ]
    },
    {
      "metadata": {
        "id": "D2fFzLwChFk7",
        "colab_type": "code",
        "colab": {}
      },
      "cell_type": "code",
      "source": [
        "#employment variation rate is strongly negatively correlated with \n",
        "#the success rate, let's try to remove it\n",
        "bank['emp.var.rate'].value_counts()\n",
        "bank.drop('emp.var.rate', axis=1, inplace=True)"
      ],
      "execution_count": 0,
      "outputs": []
    },
    {
      "metadata": {
        "id": "lK8uSyaEiq1z",
        "colab_type": "code",
        "colab": {
          "base_uri": "https://localhost:8080/",
          "height": 104
        },
        "outputId": "f9535972-7eeb-4544-ed20-6c7835eaa4ca"
      },
      "cell_type": "code",
      "source": [
        "X_train_t, X_val_t, X_test_t, y_train_t, y_val_t, y_test_t = train_validation_test_split(\n",
        "    X, y, shuffle=True)\n",
        "pipeline = make_pipeline(\n",
        "    ce.OneHotEncoder(use_cat_names=True),\n",
        "    StandardScaler(),\n",
        "    LogisticRegression(solver='newton-cg')\n",
        ")\n",
        "\n",
        "pipeline.fit(X_train, y_train)\n",
        "y_pred_t = pipeline.predict(X_val)\n",
        "accuracy_score(y_val, y_pred)"
      ],
      "execution_count": 77,
      "outputs": [
        {
          "output_type": "stream",
          "text": [
            "0.11111111111111112\n",
            "0.1\n",
            "0.8\n",
            "1.0\n"
          ],
          "name": "stdout"
        },
        {
          "output_type": "execute_result",
          "data": {
            "text/plain": [
              "0.85360524399126"
            ]
          },
          "metadata": {
            "tags": []
          },
          "execution_count": 77
        }
      ]
    },
    {
      "metadata": {
        "id": "3uf3WY_7i1pX",
        "colab_type": "code",
        "colab": {}
      },
      "cell_type": "code",
      "source": [
        "plt.figure(figsize=(10,20))\n",
        "plt.title('Coefficients')\n",
        "\n",
        "coefficients = pipeline.named_steps['logisticregression'].coef_[0]\n",
        "feature_names = pipeline.named_steps['onehotencoder'].transform(X_train).columns\n",
        "pd.Series(coefficients, feature_names).sort_values().plot.barh(color='gray');\n"
      ],
      "execution_count": 0,
      "outputs": []
    },
    {
      "metadata": {
        "id": "Rw0i-lsYjGmz",
        "colab_type": "text"
      },
      "cell_type": "markdown",
      "source": [
        "Actually, it decreased the model accuracy, but might be useful for the business"
      ]
    }
  ]
}