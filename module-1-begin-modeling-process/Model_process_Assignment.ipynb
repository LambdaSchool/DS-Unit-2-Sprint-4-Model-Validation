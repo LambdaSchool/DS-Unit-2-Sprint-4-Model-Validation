{
 "cells": [
  {
   "cell_type": "code",
   "execution_count": 1,
   "metadata": {},
   "outputs": [
    {
     "name": "stdout",
     "output_type": "stream",
     "text": [
      "Collecting category_encoders\n",
      "\u001b[?25l  Downloading https://files.pythonhosted.org/packages/f7/d3/82a4b85a87ece114f6d0139d643580c726efa45fa4db3b81aed38c0156c5/category_encoders-1.3.0-py2.py3-none-any.whl (61kB)\n",
      "\u001b[K    100% |████████████████████████████████| 61kB 1.9MB/s \n",
      "\u001b[?25hRequirement already satisfied: pandas>=0.20.1 in /Users/danielleromanoff/anaconda3/lib/python3.6/site-packages (from category_encoders) (0.23.4)\n",
      "Requirement already satisfied: numpy>=1.11.1 in /Users/danielleromanoff/anaconda3/lib/python3.6/site-packages (from category_encoders) (1.16.0)\n",
      "Requirement already satisfied: scipy>=0.17.0 in /Users/danielleromanoff/.local/lib/python3.6/site-packages (from category_encoders) (1.1.0)\n",
      "Requirement already satisfied: patsy>=0.4.1 in /Users/danielleromanoff/anaconda3/lib/python3.6/site-packages (from category_encoders) (0.5.1)\n",
      "Requirement already satisfied: statsmodels>=0.6.1 in /Users/danielleromanoff/anaconda3/lib/python3.6/site-packages (from category_encoders) (0.9.0)\n",
      "Requirement already satisfied: scikit-learn>=0.17.1 in /Users/danielleromanoff/anaconda3/lib/python3.6/site-packages (from category_encoders) (0.20.2)\n",
      "Requirement already satisfied: pytz>=2011k in /Users/danielleromanoff/anaconda3/lib/python3.6/site-packages (from pandas>=0.20.1->category_encoders) (2018.7)\n",
      "Requirement already satisfied: python-dateutil>=2.5.0 in /Users/danielleromanoff/anaconda3/lib/python3.6/site-packages (from pandas>=0.20.1->category_encoders) (2.7.5)\n",
      "Requirement already satisfied: six in /Users/danielleromanoff/anaconda3/lib/python3.6/site-packages (from patsy>=0.4.1->category_encoders) (1.12.0)\n",
      "Installing collected packages: category-encoders\n",
      "Successfully installed category-encoders-1.3.0\n"
     ]
    }
   ],
   "source": [
    "!pip install category_encoders"
   ]
  },
  {
   "cell_type": "code",
   "execution_count": 176,
   "metadata": {},
   "outputs": [
    {
     "name": "stdout",
     "output_type": "stream",
     "text": [
      "Collecting feather-format\n",
      "  Downloading https://files.pythonhosted.org/packages/08/55/940b97cc6f19a19f5dab9efef2f68a0ce43a7632f858b272391f0b851a7e/feather-format-0.4.0.tar.gz\n",
      "Collecting pyarrow>=0.4.0 (from feather-format)\n",
      "\u001b[?25l  Downloading https://files.pythonhosted.org/packages/ea/3c/3fdda2d8329710cfa179ab61301b1505ccf6e8a71b19fcc7cdbcb5a08574/pyarrow-0.12.0-cp36-cp36m-macosx_10_6_intel.whl (9.5MB)\n",
      "\u001b[K    100% |████████████████████████████████| 9.5MB 2.0MB/s \n",
      "\u001b[?25hRequirement already satisfied, skipping upgrade: six>=1.0.0 in /Users/danielleromanoff/anaconda3/lib/python3.6/site-packages (from pyarrow>=0.4.0->feather-format) (1.12.0)\n",
      "Requirement already satisfied, skipping upgrade: numpy>=1.14 in /Users/danielleromanoff/anaconda3/lib/python3.6/site-packages (from pyarrow>=0.4.0->feather-format) (1.16.0)\n",
      "Building wheels for collected packages: feather-format\n",
      "  Running setup.py bdist_wheel for feather-format ... \u001b[?25ldone\n",
      "\u001b[?25h  Stored in directory: /Users/danielleromanoff/Library/Caches/pip/wheels/85/7d/12/2dfa5c0195f921ac935f5e8f27deada74972edc0ae9988a9c1\n",
      "Successfully built feather-format\n",
      "Installing collected packages: pyarrow, feather-format\n",
      "Successfully installed feather-format-0.4.0 pyarrow-0.12.0\n"
     ]
    }
   ],
   "source": [
    "!pip install -U feather-format"
   ]
  },
  {
   "cell_type": "code",
   "execution_count": 166,
   "metadata": {},
   "outputs": [],
   "source": [
    "%matplotlib inline\n",
    "import matplotlib.pyplot as plt\n",
    "import pandas as pd\n",
    "import numpy as np\n",
    "import seaborn as sns\n",
    "import category_encoders as ce\n",
    "from sklearn.linear_model import LinearRegression\n",
    "from sklearn.linear_model import LogisticRegression\n",
    "from sklearn.metrics import mean_absolute_error\n",
    "from sklearn.model_selection import train_test_split\n",
    "from sklearn.metrics import accuracy_score\n",
    "from sklearn.preprocessing import StandardScaler\n",
    "from sklearn.pipeline import make_pipeline\n",
    "from sklearn.model_selection import cross_val_score"
   ]
  },
  {
   "cell_type": "code",
   "execution_count": 147,
   "metadata": {},
   "outputs": [
    {
     "data": {
      "image/png": "[encoded data removed]",
      "text/plain": [
       "<Figure size 432x288 with 1 Axes>"
      ]
     },
     "metadata": {
      "needs_background": "light"
     },
     "output_type": "display_data"
    }
   ],
   "source": [
    "# import weather data for Long Branch, NJ\n",
    "\n",
    "url = 'https://raw.githubusercontent.com/DanielleRomanoff/DS-Unit-2-Sprint-4-Model-Validation/master/module-1-begin-modeling-process/Weather_LongBranch_NJ.csv'\n",
    "weather = pd.read_csv(url, parse_dates = ['DATE']).set_index('DATE')\n",
    "weather['2015': '2018'].TMAX.plot()\n",
    "plt.title('Daily high temperature in Long Branch, NJ');"
   ]
  },
  {
   "cell_type": "code",
   "execution_count": 148,
   "metadata": {},
   "outputs": [
    {
     "data": {
      "text/html": [
       "<div>\n",
       "<style scoped>\n",
       "    .dataframe tbody tr th:only-of-type {\n",
       "        vertical-align: middle;\n",
       "    }\n",
       "\n",
       "    .dataframe tbody tr th {\n",
       "        vertical-align: top;\n",
       "    }\n",
       "\n",
       "    .dataframe thead th {\n",
       "        text-align: right;\n",
       "    }\n",
       "</style>\n",
       "<table border=\"1\" class=\"dataframe\">\n",
       "  <thead>\n",
       "    <tr style=\"text-align: right;\">\n",
       "      <th></th>\n",
       "      <th>LATITUDE</th>\n",
       "      <th>LONGITUDE</th>\n",
       "      <th>ELEVATION</th>\n",
       "      <th>TMAX</th>\n",
       "      <th>TMIN</th>\n",
       "      <th>TOBS</th>\n",
       "    </tr>\n",
       "    <tr>\n",
       "      <th>DATE</th>\n",
       "      <th></th>\n",
       "      <th></th>\n",
       "      <th></th>\n",
       "      <th></th>\n",
       "      <th></th>\n",
       "      <th></th>\n",
       "    </tr>\n",
       "  </thead>\n",
       "  <tbody>\n",
       "    <tr>\n",
       "      <th>2015-01-01</th>\n",
       "      <td>40.29696</td>\n",
       "      <td>-74.00153</td>\n",
       "      <td>9.1</td>\n",
       "      <td>41.0</td>\n",
       "      <td>22.0</td>\n",
       "      <td>31.0</td>\n",
       "    </tr>\n",
       "    <tr>\n",
       "      <th>2015-01-02</th>\n",
       "      <td>40.29696</td>\n",
       "      <td>-74.00153</td>\n",
       "      <td>9.1</td>\n",
       "      <td>44.0</td>\n",
       "      <td>26.0</td>\n",
       "      <td>37.0</td>\n",
       "    </tr>\n",
       "    <tr>\n",
       "      <th>2015-01-03</th>\n",
       "      <td>40.29696</td>\n",
       "      <td>-74.00153</td>\n",
       "      <td>9.1</td>\n",
       "      <td>48.0</td>\n",
       "      <td>31.0</td>\n",
       "      <td>48.0</td>\n",
       "    </tr>\n",
       "    <tr>\n",
       "      <th>2015-01-04</th>\n",
       "      <td>40.29696</td>\n",
       "      <td>-74.00153</td>\n",
       "      <td>9.1</td>\n",
       "      <td>61.0</td>\n",
       "      <td>40.0</td>\n",
       "      <td>40.0</td>\n",
       "    </tr>\n",
       "    <tr>\n",
       "      <th>2015-01-05</th>\n",
       "      <td>40.29696</td>\n",
       "      <td>-74.00153</td>\n",
       "      <td>9.1</td>\n",
       "      <td>40.0</td>\n",
       "      <td>19.0</td>\n",
       "      <td>20.0</td>\n",
       "    </tr>\n",
       "  </tbody>\n",
       "</table>\n",
       "</div>"
      ],
      "text/plain": [
       "            LATITUDE  LONGITUDE  ELEVATION  TMAX  TMIN  TOBS\n",
       "DATE                                                        \n",
       "2015-01-01  40.29696  -74.00153        9.1  41.0  22.0  31.0\n",
       "2015-01-02  40.29696  -74.00153        9.1  44.0  26.0  37.0\n",
       "2015-01-03  40.29696  -74.00153        9.1  48.0  31.0  48.0\n",
       "2015-01-04  40.29696  -74.00153        9.1  61.0  40.0  40.0\n",
       "2015-01-05  40.29696  -74.00153        9.1  40.0  19.0  20.0"
      ]
     },
     "execution_count": 148,
     "metadata": {},
     "output_type": "execute_result"
    }
   ],
   "source": [
    "# drop Station column - not useful and drop NaN's\n",
    "\n",
    "weather = weather.drop('STATION', axis = 1)\n",
    "weather.dropna(inplace = True)\n",
    "weather.head()"
   ]
  },
  {
   "cell_type": "code",
   "execution_count": 149,
   "metadata": {},
   "outputs": [
    {
     "data": {
      "text/plain": [
       "63.971014492753625"
      ]
     },
     "execution_count": 149,
     "metadata": {},
     "output_type": "execute_result"
    }
   ],
   "source": [
    "# get the mean of the TMAX values\n",
    "\n",
    "weather.TMAX.mean()"
   ]
  },
  {
   "cell_type": "code",
   "execution_count": 150,
   "metadata": {},
   "outputs": [
    {
     "name": "stdout",
     "output_type": "stream",
     "text": [
      "6.144100580270793\n"
     ]
    },
    {
     "data": {
      "text/html": [
       "<div>\n",
       "<style scoped>\n",
       "    .dataframe tbody tr th:only-of-type {\n",
       "        vertical-align: middle;\n",
       "    }\n",
       "\n",
       "    .dataframe tbody tr th {\n",
       "        vertical-align: top;\n",
       "    }\n",
       "\n",
       "    .dataframe thead th {\n",
       "        text-align: right;\n",
       "    }\n",
       "</style>\n",
       "<table border=\"1\" class=\"dataframe\">\n",
       "  <thead>\n",
       "    <tr style=\"text-align: right;\">\n",
       "      <th></th>\n",
       "      <th>LATITUDE</th>\n",
       "      <th>LONGITUDE</th>\n",
       "      <th>ELEVATION</th>\n",
       "      <th>TMAX</th>\n",
       "      <th>TMIN</th>\n",
       "      <th>TOBS</th>\n",
       "      <th>TMAX_yesterday</th>\n",
       "    </tr>\n",
       "    <tr>\n",
       "      <th>DATE</th>\n",
       "      <th></th>\n",
       "      <th></th>\n",
       "      <th></th>\n",
       "      <th></th>\n",
       "      <th></th>\n",
       "      <th></th>\n",
       "      <th></th>\n",
       "    </tr>\n",
       "  </thead>\n",
       "  <tbody>\n",
       "    <tr>\n",
       "      <th>2015-01-02</th>\n",
       "      <td>40.29696</td>\n",
       "      <td>-74.00153</td>\n",
       "      <td>9.1</td>\n",
       "      <td>44.0</td>\n",
       "      <td>26.0</td>\n",
       "      <td>37.0</td>\n",
       "      <td>41.0</td>\n",
       "    </tr>\n",
       "    <tr>\n",
       "      <th>2015-01-03</th>\n",
       "      <td>40.29696</td>\n",
       "      <td>-74.00153</td>\n",
       "      <td>9.1</td>\n",
       "      <td>48.0</td>\n",
       "      <td>31.0</td>\n",
       "      <td>48.0</td>\n",
       "      <td>44.0</td>\n",
       "    </tr>\n",
       "    <tr>\n",
       "      <th>2015-01-04</th>\n",
       "      <td>40.29696</td>\n",
       "      <td>-74.00153</td>\n",
       "      <td>9.1</td>\n",
       "      <td>61.0</td>\n",
       "      <td>40.0</td>\n",
       "      <td>40.0</td>\n",
       "      <td>48.0</td>\n",
       "    </tr>\n",
       "    <tr>\n",
       "      <th>2015-01-05</th>\n",
       "      <td>40.29696</td>\n",
       "      <td>-74.00153</td>\n",
       "      <td>9.1</td>\n",
       "      <td>40.0</td>\n",
       "      <td>19.0</td>\n",
       "      <td>20.0</td>\n",
       "      <td>61.0</td>\n",
       "    </tr>\n",
       "    <tr>\n",
       "      <th>2015-01-06</th>\n",
       "      <td>40.29696</td>\n",
       "      <td>-74.00153</td>\n",
       "      <td>9.1</td>\n",
       "      <td>22.0</td>\n",
       "      <td>17.0</td>\n",
       "      <td>18.0</td>\n",
       "      <td>40.0</td>\n",
       "    </tr>\n",
       "  </tbody>\n",
       "</table>\n",
       "</div>"
      ],
      "text/plain": [
       "            LATITUDE  LONGITUDE  ELEVATION  TMAX  TMIN  TOBS  TMAX_yesterday\n",
       "DATE                                                                        \n",
       "2015-01-02  40.29696  -74.00153        9.1  44.0  26.0  37.0            41.0\n",
       "2015-01-03  40.29696  -74.00153        9.1  48.0  31.0  48.0            44.0\n",
       "2015-01-04  40.29696  -74.00153        9.1  61.0  40.0  40.0            48.0\n",
       "2015-01-05  40.29696  -74.00153        9.1  40.0  19.0  20.0            61.0\n",
       "2015-01-06  40.29696  -74.00153        9.1  22.0  17.0  18.0            40.0"
      ]
     },
     "execution_count": 150,
     "metadata": {},
     "output_type": "execute_result"
    }
   ],
   "source": [
    "weather['TMAX_yesterday'] = weather.TMAX.shift(1)\n",
    "weather.dropna(inplace = True) # Drops the first date because it doesn't have a 'yesterday'\n",
    "print(mean_absolute_error(weather.TMAX, weather.TMAX_yesterday))\n",
    "weather.head()"
   ]
  },
  {
   "cell_type": "code",
   "execution_count": 151,
   "metadata": {},
   "outputs": [
    {
     "data": {
      "text/plain": [
       "14.417246875105223"
      ]
     },
     "execution_count": 151,
     "metadata": {},
     "output_type": "execute_result"
    }
   ],
   "source": [
    "# get the mean absolute weather\n",
    "predicted = [weather.TMAX.mean()] * len(weather)\n",
    "mean_absolute_error(weather.TMAX, predicted)"
   ]
  },
  {
   "cell_type": "code",
   "execution_count": 152,
   "metadata": {},
   "outputs": [],
   "source": [
    "# Assigning values\n",
    "X = weather.drop(columns = 'TMAX_yesterday')\n",
    "y = weather.TMAX_yesterday"
   ]
  },
  {
   "cell_type": "code",
   "execution_count": 153,
   "metadata": {},
   "outputs": [
    {
     "name": "stdout",
     "output_type": "stream",
     "text": [
      "X_train shape is  (919, 6)\n",
      "X_test shape is  (104, 6)\n",
      "\n",
      "y_train shape is  (919,)\n",
      "y_test shape is  (104,)\n"
     ]
    }
   ],
   "source": [
    "# divide the dataframe into train and test data\n",
    "# splitting data\n",
    "train_test_split(X, y, train_size=0.8, test_size = 0.2, random_state = 42, shuffle = True)\n",
    "                                                                \n",
    "# print datasets' shapes\n",
    "print('X_train shape is ', X_train.shape)\n",
    "# print('X_validate shape is ', X_validate.shape)\n",
    "print('X_test shape is ', X_test.shape)\n",
    "print()\n",
    "print('y_train shape is ', y_train.shape)\n",
    "# print('y_validate shape is ', X_validate.shape)\n",
    "print('y_test shape is ', y_test.shape)                                                       "
   ]
  },
  {
   "cell_type": "code",
   "execution_count": 154,
   "metadata": {},
   "outputs": [
    {
     "name": "stdout",
     "output_type": "stream",
     "text": [
      "63.855277475516864\n"
     ]
    }
   ],
   "source": [
    "print(np.mean(y_train))\n",
    "y_pred = [np.mean(y_train)] * len(y_test)"
   ]
  },
  {
   "cell_type": "code",
   "execution_count": 155,
   "metadata": {},
   "outputs": [
    {
     "name": "stderr",
     "output_type": "stream",
     "text": [
      "/Users/danielleromanoff/.local/lib/python3.6/site-packages/scipy/stats/stats.py:1713: FutureWarning: Using a non-tuple sequence for multidimensional indexing is deprecated; use `arr[tuple(seq)]` instead of `arr[seq]`. In the future this will be interpreted as an array index, `arr[np.array(seq)]`, which will result either in an error or a different result.\n",
      "  return np.add.reduce(sorted[indexer] * weights, axis=axis) / sumval\n"
     ]
    },
    {
     "data": {
      "image/png": "[encoded data removed]",
      "text/plain": [
       "<Figure size 432x288 with 1 Axes>"
      ]
     },
     "metadata": {},
     "output_type": "display_data"
    }
   ],
   "source": [
    "sns.set();\n",
    "ax = plt.subplots()\n",
    "ax = sns.distplot(y_train, kde = False, hist_kws = {'histtype': 'step', 'fill': True, 'linewidth': 1, 'color': 'purple'})\n",
    "ax.set_xlabel('Temperature Yesterday')\n",
    "ax.set_ylabel('Samples Taken')\n",
    "plt.title(\"Yesterday's Temperatures\");"
   ]
  },
  {
   "cell_type": "code",
   "execution_count": 156,
   "metadata": {},
   "outputs": [
    {
     "name": "stderr",
     "output_type": "stream",
     "text": [
      "/Users/danielleromanoff/anaconda3/lib/python3.6/site-packages/sklearn/linear_model/logistic.py:433: FutureWarning: Default solver will be changed to 'lbfgs' in 0.22. Specify a solver to silence this warning.\n",
      "  FutureWarning)\n",
      "/Users/danielleromanoff/anaconda3/lib/python3.6/site-packages/sklearn/linear_model/logistic.py:460: FutureWarning: Default multi_class will be changed to 'auto' in 0.22. Specify the multi_class option to silence this warning.\n",
      "  \"this warning.\", FutureWarning)\n"
     ]
    },
    {
     "data": {
      "text/plain": [
       "0.0673076923076923"
      ]
     },
     "execution_count": 156,
     "metadata": {},
     "output_type": "execute_result"
    }
   ],
   "source": [
    "# Logistic Regression using the training data only\n",
    "model = LogisticRegression()\n",
    "model.fit(X_train, y_train)\n",
    "y_pred = model.predict(X_test)\n",
    "accuracy_score(y_test, y_pred)"
   ]
  },
  {
   "cell_type": "code",
   "execution_count": 157,
   "metadata": {},
   "outputs": [
    {
     "name": "stderr",
     "output_type": "stream",
     "text": [
      "/Users/danielleromanoff/anaconda3/lib/python3.6/site-packages/sklearn/linear_model/logistic.py:460: FutureWarning: Default multi_class will be changed to 'auto' in 0.22. Specify the multi_class option to silence this warning.\n",
      "  \"this warning.\", FutureWarning)\n"
     ]
    },
    {
     "data": {
      "text/plain": [
       "0.08653846153846154"
      ]
     },
     "execution_count": 157,
     "metadata": {},
     "output_type": "execute_result"
    }
   ],
   "source": [
    "# Scaling the data improves accuracy\n",
    "pipeline = make_pipeline(StandardScaler(), LogisticRegression(solver = 'lbfgs'))\n",
    "pipeline.fit(X_train, y_train)\n",
    "y_pred = pipeline.predict(X_test)\n",
    "accuracy_score(y_test, y_pred)"
   ]
  },
  {
   "cell_type": "code",
   "execution_count": 158,
   "metadata": {},
   "outputs": [
    {
     "name": "stderr",
     "output_type": "stream",
     "text": [
      "/Users/danielleromanoff/anaconda3/lib/python3.6/site-packages/sklearn/linear_model/logistic.py:460: FutureWarning: Default multi_class will be changed to 'auto' in 0.22. Specify the multi_class option to silence this warning.\n",
      "  \"this warning.\", FutureWarning)\n"
     ]
    },
    {
     "data": {
      "text/plain": [
       "0.08653846153846154"
      ]
     },
     "execution_count": 158,
     "metadata": {},
     "output_type": "execute_result"
    }
   ],
   "source": [
    "# One Hot Encoding using the training data\n",
    "# Test accuracy does not improve.\n",
    "pipeline = make_pipeline(ce.OneHotEncoder(use_cat_names = True), StandardScaler(), LogisticRegression(solver = 'lbfgs'))\n",
    "pipeline.fit(X_train, y_train)\n",
    "y_pred = pipeline.predict(X_test)\n",
    "accuracy_score(y_test, y_pred)"
   ]
  },
  {
   "cell_type": "code",
   "execution_count": 165,
   "metadata": {},
   "outputs": [
    {
     "data": {
      "image/png": "[encoded data removed]",
      "text/plain": [
       "<Figure size 360x216 with 1 Axes>"
      ]
     },
     "metadata": {},
     "output_type": "display_data"
    }
   ],
   "source": [
    "# Visualizing the coefficients\n",
    "plt.figure(figsize = (5, 3))\n",
    "plt.title('Coefficients')\n",
    "\n",
    "coefficients = pipeline.named_steps['logisticregression'].coef_[0]\n",
    "feature_names = pipeline.named_steps['onehotencoder'].transform(X_train).columns\n",
    "pd.Series(coefficients, feature_names).sort_values().plot.barh(color = 'r');"
   ]
  },
  {
   "cell_type": "code",
   "execution_count": 170,
   "metadata": {},
   "outputs": [
    {
     "name": "stderr",
     "output_type": "stream",
     "text": [
      "/Users/danielleromanoff/anaconda3/lib/python3.6/site-packages/sklearn/model_selection/_split.py:652: Warning: The least populated class in y has only 1 members, which is too few. The minimum number of members in any class cannot be less than n_splits=10.\n",
      "  % (min_groups, self.n_splits)), Warning)\n",
      "/Users/danielleromanoff/anaconda3/lib/python3.6/site-packages/sklearn/linear_model/logistic.py:460: FutureWarning: Default multi_class will be changed to 'auto' in 0.22. Specify the multi_class option to silence this warning.\n",
      "  \"this warning.\", FutureWarning)\n",
      "/Users/danielleromanoff/anaconda3/lib/python3.6/site-packages/sklearn/linear_model/logistic.py:460: FutureWarning: Default multi_class will be changed to 'auto' in 0.22. Specify the multi_class option to silence this warning.\n",
      "  \"this warning.\", FutureWarning)\n",
      "/Users/danielleromanoff/anaconda3/lib/python3.6/site-packages/sklearn/linear_model/logistic.py:460: FutureWarning: Default multi_class will be changed to 'auto' in 0.22. Specify the multi_class option to silence this warning.\n",
      "  \"this warning.\", FutureWarning)\n",
      "/Users/danielleromanoff/anaconda3/lib/python3.6/site-packages/sklearn/linear_model/logistic.py:460: FutureWarning: Default multi_class will be changed to 'auto' in 0.22. Specify the multi_class option to silence this warning.\n",
      "  \"this warning.\", FutureWarning)\n",
      "/Users/danielleromanoff/anaconda3/lib/python3.6/site-packages/sklearn/linear_model/logistic.py:460: FutureWarning: Default multi_class will be changed to 'auto' in 0.22. Specify the multi_class option to silence this warning.\n",
      "  \"this warning.\", FutureWarning)\n",
      "/Users/danielleromanoff/anaconda3/lib/python3.6/site-packages/sklearn/linear_model/logistic.py:460: FutureWarning: Default multi_class will be changed to 'auto' in 0.22. Specify the multi_class option to silence this warning.\n",
      "  \"this warning.\", FutureWarning)\n",
      "/Users/danielleromanoff/anaconda3/lib/python3.6/site-packages/sklearn/linear_model/logistic.py:460: FutureWarning: Default multi_class will be changed to 'auto' in 0.22. Specify the multi_class option to silence this warning.\n",
      "  \"this warning.\", FutureWarning)\n",
      "/Users/danielleromanoff/anaconda3/lib/python3.6/site-packages/sklearn/linear_model/logistic.py:460: FutureWarning: Default multi_class will be changed to 'auto' in 0.22. Specify the multi_class option to silence this warning.\n",
      "  \"this warning.\", FutureWarning)\n",
      "/Users/danielleromanoff/anaconda3/lib/python3.6/site-packages/sklearn/linear_model/logistic.py:460: FutureWarning: Default multi_class will be changed to 'auto' in 0.22. Specify the multi_class option to silence this warning.\n",
      "  \"this warning.\", FutureWarning)\n",
      "/Users/danielleromanoff/anaconda3/lib/python3.6/site-packages/sklearn/linear_model/logistic.py:460: FutureWarning: Default multi_class will be changed to 'auto' in 0.22. Specify the multi_class option to silence this warning.\n",
      "  \"this warning.\", FutureWarning)\n"
     ]
    }
   ],
   "source": [
    "# cross validation returning 10 scores\n",
    "scores = cross_val_score(pipeline, X_train, y_train, scoring = 'accuracy', cv = 10)"
   ]
  },
  {
   "cell_type": "code",
   "execution_count": 171,
   "metadata": {},
   "outputs": [
    {
     "data": {
      "text/plain": [
       "array([0.05426357, 0.05982906, 0.05660377, 0.04854369, 0.06315789,\n",
       "       0.08888889, 0.03658537, 0.06849315, 0.10606061, 0.06896552])"
      ]
     },
     "execution_count": 171,
     "metadata": {},
     "output_type": "execute_result"
    }
   ],
   "source": [
    "scores"
   ]
  },
  {
   "cell_type": "code",
   "execution_count": 172,
   "metadata": {},
   "outputs": [
    {
     "data": {
      "text/plain": [
       "(0.0651391512092133, 0.01891689029625541)"
      ]
     },
     "execution_count": 172,
     "metadata": {},
     "output_type": "execute_result"
    }
   ],
   "source": [
    "scores.mean(), scores.std()"
   ]
  },
  {
   "cell_type": "code",
   "execution_count": 174,
   "metadata": {},
   "outputs": [
    {
     "name": "stdout",
     "output_type": "stream",
     "text": [
      "X_train shape is  (735, 6)\n",
      "X_val shape is  (184, 6)\n",
      "\n",
      "y_train shape is  (735,)\n",
      "y_val shape is  (184,)\n"
     ]
    }
   ],
   "source": [
    "# splitting training data into training and validation data\n",
    "X_train, X_val, y_train, y_val = train_test_split(X_train, y_train, train_size=0.8, test_size = 0.2, random_state = 42, shuffle = True)\n",
    "\n",
    "# print datasets' shapes\n",
    "print('X_train shape is ', X_train.shape)\n",
    "# print('X_validate shape is ', X_validate.shape)\n",
    "print('X_val shape is ', X_val.shape)\n",
    "print()\n",
    "print('y_train shape is ', y_train.shape)\n",
    "# print('y_validate shape is ', X_validate.shape)\n",
    "print('y_val shape is ', y_val.shape)       "
   ]
  },
  {
   "cell_type": "code",
   "execution_count": 175,
   "metadata": {},
   "outputs": [
    {
     "name": "stderr",
     "output_type": "stream",
     "text": [
      "/Users/danielleromanoff/anaconda3/lib/python3.6/site-packages/sklearn/linear_model/logistic.py:460: FutureWarning: Default multi_class will be changed to 'auto' in 0.22. Specify the multi_class option to silence this warning.\n",
      "  \"this warning.\", FutureWarning)\n"
     ]
    },
    {
     "data": {
      "text/plain": [
       "0.08152173913043478"
      ]
     },
     "execution_count": 175,
     "metadata": {},
     "output_type": "execute_result"
    }
   ],
   "source": [
    "pipeline.fit(X_train, y_train)\n",
    "y_pred = pipeline.predict(X_val)\n",
    "accuracy_score(y_val, y_pred)"
   ]
  },
  {
   "cell_type": "markdown",
   "metadata": {},
   "source": [
    "---"
   ]
  },
  {
   "cell_type": "code",
   "execution_count": 177,
   "metadata": {},
   "outputs": [],
   "source": [
    "# Saving test data for later\n",
    "# X_test.reset_index(drop = True).to_feather('X_test.feather')\n",
    "# pd.DataFrame(y_test).reset_index(drop = True).to_feather('y_test.feather')\n",
    "\n",
    "# Saving files from Google Colab to my local maching\n",
    "# from google.colab import files\n",
    "# files.download('X_test.feather')\n",
    "# files.download('y_test.feather')\n",
    "\n",
    "# They can then be deleted from my notebook's runtime\n",
    "# del X_test, y_test"
   ]
  },
  {
   "cell_type": "markdown",
   "metadata": {},
   "source": [
    "---"
   ]
  },
  {
   "cell_type": "code",
   "execution_count": null,
   "metadata": {},
   "outputs": [],
   "source": [
    "# Iris dataset\n",
    "\n",
    "# from sklearn.datasets import load_iris\n",
    "# iris = load_iris()\n",
    "# X = iris.data\n",
    "# y = iris.target"
   ]
  },
  {
   "cell_type": "code",
   "execution_count": null,
   "metadata": {},
   "outputs": [],
   "source": [
    "# def train_validation_test_split(\n",
    "#     X, y, train_size=0.8, val_size=0.1, test_size=0.1, \n",
    "#     random_state=None, shuffle=True):\n",
    "        \n",
    "#     assert train_size + val_size + test_size == 1\n",
    "    \n",
    "#     X_train_val, X_test, y_train_val, y_test = train_test_split(\n",
    "#         X, y, test_size=test_size, random_state=random_state, shuffle=shuffle)\n",
    "    \n",
    "#     X_train, X_val, y_train, y_val = train_test_split(\n",
    "#         X_train_val, y_train_val, test_size=val_size/(train_size+val_size), \n",
    "#         random_state=random_state, shuffle=shuffle)\n",
    "    \n",
    "#     return X_train, X_val, X_test, y_train, y_val, y_test\n",
    "\n",
    "# Sometimes you must shuffle. Here is a good example\n",
    "# X_train, X_val, X_test, y_train, y_val, y_test = train_validation_test_split(\n",
    "#     X, y, shuffle=True)"
   ]
  }
 ],
 "metadata": {
  "kernelspec": {
   "display_name": "Python 3",
   "language": "python",
   "name": "python3"
  },
  "language_info": {
   "codemirror_mode": {
    "name": "ipython",
    "version": 3
   },
   "file_extension": ".py",
   "mimetype": "text/x-python",
   "name": "python",
   "nbconvert_exporter": "python",
   "pygments_lexer": "ipython3",
   "version": "3.6.6"
  }
 },
 "nbformat": 4,
 "nbformat_minor": 2
}
