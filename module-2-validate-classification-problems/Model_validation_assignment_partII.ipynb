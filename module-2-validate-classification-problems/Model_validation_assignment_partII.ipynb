{
  "nbformat": 4,
  "nbformat_minor": 0,
  "metadata": {
    "colab": {
      "name": "Model_validation_assignment.ipynb",
      "version": "0.3.2",
      "provenance": [],
      "include_colab_link": true
    },
    "kernelspec": {
      "name": "python3",
      "display_name": "Python 3"
    }
  },
  "cells": [
    {
      "cell_type": "markdown",
      "metadata": {
        "id": "view-in-github",
        "colab_type": "text"
      },
      "source": [
        "<a href=\"https://colab.research.google.com/github/DimaKav/DS-Unit-2-Sprint-4-Model-Validation/blob/master/module-2-validate-classification-problems/Model_validation_assignment_partII.ipynb\" target=\"_parent\"><img src=\"https://colab.research.google.com/assets/colab-badge.svg\" alt=\"Open In Colab\"/></a>"
      ]
    },
    {
      "metadata": {
        "id": "FiMy7epD1jPK",
        "colab_type": "code",
        "outputId": "9b470541-d332-4ca4-ebbd-c304f00d6369",
        "colab": {
          "base_uri": "https://localhost:8080/",
          "height": 785
        }
      },
      "cell_type": "code",
      "source": [
        "!wget https://raw.githubusercontent.com/LambdaSchool/DS-Unit-2-Sprint-4-Model-Validation/master/module-1-begin-modeling-process/bank-marketing/train_features.csv\n",
        "!wget https://raw.githubusercontent.com/LambdaSchool/DS-Unit-2-Sprint-4-Model-Validation/master/module-1-begin-modeling-process/bank-marketing/train_labels.csv\n",
        "!wget https://raw.githubusercontent.com/LambdaSchool/DS-Unit-2-Sprint-4-Model-Validation/master/module-1-begin-modeling-process/bank-marketing/test_features.csv\n",
        "!wget https://raw.githubusercontent.com/LambdaSchool/DS-Unit-2-Sprint-4-Model-Validation/master/module-1-begin-modeling-process/bank-marketing/sample_submission.csv"
      ],
      "execution_count": 1,
      "outputs": [
        {
          "output_type": "stream",
          "text": [
            "--2019-03-05 22:08:04--  https://raw.githubusercontent.com/LambdaSchool/DS-Unit-2-Sprint-4-Model-Validation/master/module-1-begin-modeling-process/bank-marketing/train_features.csv\n",
            "Resolving raw.githubusercontent.com (raw.githubusercontent.com)... 151.101.0.133, 151.101.64.133, 151.101.128.133, ...\n",
            "Connecting to raw.githubusercontent.com (raw.githubusercontent.com)|151.101.0.133|:443... connected.\n",
            "HTTP request sent, awaiting response... 200 OK\n",
            "Length: 3833210 (3.7M) [text/plain]\n",
            "Saving to: ‘train_features.csv.1’\n",
            "\n",
            "\rtrain_features.csv.   0%[                    ]       0  --.-KB/s               \rtrain_features.csv. 100%[===================>]   3.66M  --.-KB/s    in 0.07s   \n",
            "\n",
            "2019-03-05 22:08:04 (54.4 MB/s) - ‘train_features.csv.1’ saved [3833210/3833210]\n",
            "\n",
            "--2019-03-05 22:08:05--  https://raw.githubusercontent.com/LambdaSchool/DS-Unit-2-Sprint-4-Model-Validation/master/module-1-begin-modeling-process/bank-marketing/train_labels.csv\n",
            "Resolving raw.githubusercontent.com (raw.githubusercontent.com)... 151.101.0.133, 151.101.64.133, 151.101.128.133, ...\n",
            "Connecting to raw.githubusercontent.com (raw.githubusercontent.com)|151.101.0.133|:443... connected.\n",
            "HTTP request sent, awaiting response... 200 OK\n",
            "Length: 247133 (241K) [text/plain]\n",
            "Saving to: ‘train_labels.csv.1’\n",
            "\n",
            "train_labels.csv.1  100%[===================>] 241.34K  --.-KB/s    in 0.03s   \n",
            "\n",
            "2019-03-05 22:08:06 (7.76 MB/s) - ‘train_labels.csv.1’ saved [247133/247133]\n",
            "\n",
            "--2019-03-05 22:08:06--  https://raw.githubusercontent.com/LambdaSchool/DS-Unit-2-Sprint-4-Model-Validation/master/module-1-begin-modeling-process/bank-marketing/test_features.csv\n",
            "Resolving raw.githubusercontent.com (raw.githubusercontent.com)... 151.101.0.133, 151.101.64.133, 151.101.128.133, ...\n",
            "Connecting to raw.githubusercontent.com (raw.githubusercontent.com)|151.101.0.133|:443... connected.\n",
            "HTTP request sent, awaiting response... 200 OK\n",
            "Length: 1277012 (1.2M) [text/plain]\n",
            "Saving to: ‘test_features.csv.1’\n",
            "\n",
            "test_features.csv.1 100%[===================>]   1.22M  --.-KB/s    in 0.05s   \n",
            "\n",
            "2019-03-05 22:08:06 (26.8 MB/s) - ‘test_features.csv.1’ saved [1277012/1277012]\n",
            "\n",
            "--2019-03-05 22:08:07--  https://raw.githubusercontent.com/LambdaSchool/DS-Unit-2-Sprint-4-Model-Validation/master/module-1-begin-modeling-process/bank-marketing/sample_submission.csv\n",
            "Resolving raw.githubusercontent.com (raw.githubusercontent.com)... 151.101.0.133, 151.101.64.133, 151.101.128.133, ...\n",
            "Connecting to raw.githubusercontent.com (raw.githubusercontent.com)|151.101.0.133|:443... connected.\n",
            "HTTP request sent, awaiting response... 200 OK\n",
            "Length: 102975 (101K) [text/plain]\n",
            "Saving to: ‘sample_submission.csv.1’\n",
            "\n",
            "sample_submission.c 100%[===================>] 100.56K  --.-KB/s    in 0.02s   \n",
            "\n",
            "2019-03-05 22:08:07 (4.46 MB/s) - ‘sample_submission.csv.1’ saved [102975/102975]\n",
            "\n"
          ],
          "name": "stdout"
        }
      ]
    },
    {
      "metadata": {
        "id": "8XGiEJva--7G",
        "colab_type": "code",
        "outputId": "7f1807f0-6bc1-476a-abfb-2474a336821e",
        "colab": {
          "base_uri": "https://localhost:8080/",
          "height": 34
        }
      },
      "cell_type": "code",
      "source": [
        "import pandas as pd\n",
        "\n",
        "train_features = pd.read_csv('train_features.csv')\n",
        "train_labels = pd.read_csv('train_labels.csv')\n",
        "test_features = pd.read_csv('test_features.csv')\n",
        "sample_submission = pd.read_csv('sample_submission.csv')\n",
        "\n",
        "train_features.shape, train_labels.shape, test_features.shape, sample_submission.shape\n",
        "\n"
      ],
      "execution_count": 2,
      "outputs": [
        {
          "output_type": "execute_result",
          "data": {
            "text/plain": [
              "((30891, 20), (30891, 2), (10297, 20), (10297, 2))"
            ]
          },
          "metadata": {
            "tags": []
          },
          "execution_count": 2
        }
      ]
    },
    {
      "metadata": {
        "id": "35x4EuwBGmsb",
        "colab_type": "code",
        "outputId": "99a7ff53-13b3-4238-ff06-4cf1e7b315bb",
        "colab": {
          "base_uri": "https://localhost:8080/",
          "height": 224
        }
      },
      "cell_type": "code",
      "source": [
        "train_features.sample(5)"
      ],
      "execution_count": 3,
      "outputs": [
        {
          "output_type": "execute_result",
          "data": {
            "text/html": [
              "<div>\n",
              "<style scoped>\n",
              "    .dataframe tbody tr th:only-of-type {\n",
              "        vertical-align: middle;\n",
              "    }\n",
              "\n",
              "    .dataframe tbody tr th {\n",
              "        vertical-align: top;\n",
              "    }\n",
              "\n",
              "    .dataframe thead th {\n",
              "        text-align: right;\n",
              "    }\n",
              "</style>\n",
              "<table border=\"1\" class=\"dataframe\">\n",
              "  <thead>\n",
              "    <tr style=\"text-align: right;\">\n",
              "      <th></th>\n",
              "      <th>id</th>\n",
              "      <th>age</th>\n",
              "      <th>job</th>\n",
              "      <th>marital</th>\n",
              "      <th>education</th>\n",
              "      <th>default</th>\n",
              "      <th>housing</th>\n",
              "      <th>loan</th>\n",
              "      <th>contact</th>\n",
              "      <th>month</th>\n",
              "      <th>day_of_week</th>\n",
              "      <th>campaign</th>\n",
              "      <th>pdays</th>\n",
              "      <th>previous</th>\n",
              "      <th>poutcome</th>\n",
              "      <th>emp.var.rate</th>\n",
              "      <th>cons.price.idx</th>\n",
              "      <th>cons.conf.idx</th>\n",
              "      <th>euribor3m</th>\n",
              "      <th>nr.employed</th>\n",
              "    </tr>\n",
              "  </thead>\n",
              "  <tbody>\n",
              "    <tr>\n",
              "      <th>6012</th>\n",
              "      <td>17936</td>\n",
              "      <td>51</td>\n",
              "      <td>technician</td>\n",
              "      <td>married</td>\n",
              "      <td>professional.course</td>\n",
              "      <td>no</td>\n",
              "      <td>no</td>\n",
              "      <td>yes</td>\n",
              "      <td>telephone</td>\n",
              "      <td>may</td>\n",
              "      <td>thu</td>\n",
              "      <td>1</td>\n",
              "      <td>999</td>\n",
              "      <td>0</td>\n",
              "      <td>nonexistent</td>\n",
              "      <td>1.1</td>\n",
              "      <td>93.994</td>\n",
              "      <td>-36.4</td>\n",
              "      <td>4.855</td>\n",
              "      <td>5191.0</td>\n",
              "    </tr>\n",
              "    <tr>\n",
              "      <th>27147</th>\n",
              "      <td>26305</td>\n",
              "      <td>29</td>\n",
              "      <td>blue-collar</td>\n",
              "      <td>married</td>\n",
              "      <td>basic.9y</td>\n",
              "      <td>no</td>\n",
              "      <td>no</td>\n",
              "      <td>no</td>\n",
              "      <td>cellular</td>\n",
              "      <td>may</td>\n",
              "      <td>wed</td>\n",
              "      <td>1</td>\n",
              "      <td>999</td>\n",
              "      <td>0</td>\n",
              "      <td>nonexistent</td>\n",
              "      <td>-1.8</td>\n",
              "      <td>92.893</td>\n",
              "      <td>-46.2</td>\n",
              "      <td>1.334</td>\n",
              "      <td>5099.1</td>\n",
              "    </tr>\n",
              "    <tr>\n",
              "      <th>2605</th>\n",
              "      <td>17673</td>\n",
              "      <td>46</td>\n",
              "      <td>housemaid</td>\n",
              "      <td>married</td>\n",
              "      <td>basic.4y</td>\n",
              "      <td>no</td>\n",
              "      <td>no</td>\n",
              "      <td>no</td>\n",
              "      <td>telephone</td>\n",
              "      <td>may</td>\n",
              "      <td>tue</td>\n",
              "      <td>3</td>\n",
              "      <td>999</td>\n",
              "      <td>0</td>\n",
              "      <td>nonexistent</td>\n",
              "      <td>1.1</td>\n",
              "      <td>93.994</td>\n",
              "      <td>-36.4</td>\n",
              "      <td>4.856</td>\n",
              "      <td>5191.0</td>\n",
              "    </tr>\n",
              "    <tr>\n",
              "      <th>28405</th>\n",
              "      <td>28987</td>\n",
              "      <td>38</td>\n",
              "      <td>blue-collar</td>\n",
              "      <td>married</td>\n",
              "      <td>basic.9y</td>\n",
              "      <td>no</td>\n",
              "      <td>no</td>\n",
              "      <td>no</td>\n",
              "      <td>cellular</td>\n",
              "      <td>apr</td>\n",
              "      <td>fri</td>\n",
              "      <td>1</td>\n",
              "      <td>999</td>\n",
              "      <td>0</td>\n",
              "      <td>nonexistent</td>\n",
              "      <td>-1.8</td>\n",
              "      <td>93.075</td>\n",
              "      <td>-47.1</td>\n",
              "      <td>1.405</td>\n",
              "      <td>5099.1</td>\n",
              "    </tr>\n",
              "    <tr>\n",
              "      <th>29562</th>\n",
              "      <td>44025</td>\n",
              "      <td>38</td>\n",
              "      <td>blue-collar</td>\n",
              "      <td>married</td>\n",
              "      <td>unknown</td>\n",
              "      <td>no</td>\n",
              "      <td>yes</td>\n",
              "      <td>yes</td>\n",
              "      <td>cellular</td>\n",
              "      <td>jul</td>\n",
              "      <td>wed</td>\n",
              "      <td>2</td>\n",
              "      <td>999</td>\n",
              "      <td>0</td>\n",
              "      <td>nonexistent</td>\n",
              "      <td>1.4</td>\n",
              "      <td>93.918</td>\n",
              "      <td>-42.7</td>\n",
              "      <td>4.963</td>\n",
              "      <td>5228.1</td>\n",
              "    </tr>\n",
              "  </tbody>\n",
              "</table>\n",
              "</div>"
            ],
            "text/plain": [
              "          id  age          job  marital            education default housing  \\\n",
              "6012   17936   51   technician  married  professional.course      no      no   \n",
              "27147  26305   29  blue-collar  married             basic.9y      no      no   \n",
              "2605   17673   46    housemaid  married             basic.4y      no      no   \n",
              "28405  28987   38  blue-collar  married             basic.9y      no      no   \n",
              "29562  44025   38  blue-collar  married              unknown      no     yes   \n",
              "\n",
              "      loan    contact month day_of_week  campaign  pdays  previous  \\\n",
              "6012   yes  telephone   may         thu         1    999         0   \n",
              "27147   no   cellular   may         wed         1    999         0   \n",
              "2605    no  telephone   may         tue         3    999         0   \n",
              "28405   no   cellular   apr         fri         1    999         0   \n",
              "29562  yes   cellular   jul         wed         2    999         0   \n",
              "\n",
              "          poutcome  emp.var.rate  cons.price.idx  cons.conf.idx  euribor3m  \\\n",
              "6012   nonexistent           1.1          93.994          -36.4      4.855   \n",
              "27147  nonexistent          -1.8          92.893          -46.2      1.334   \n",
              "2605   nonexistent           1.1          93.994          -36.4      4.856   \n",
              "28405  nonexistent          -1.8          93.075          -47.1      1.405   \n",
              "29562  nonexistent           1.4          93.918          -42.7      4.963   \n",
              "\n",
              "       nr.employed  \n",
              "6012        5191.0  \n",
              "27147       5099.1  \n",
              "2605        5191.0  \n",
              "28405       5099.1  \n",
              "29562       5228.1  "
            ]
          },
          "metadata": {
            "tags": []
          },
          "execution_count": 3
        }
      ]
    },
    {
      "metadata": {
        "id": "415-bL8R7cdm",
        "colab_type": "text"
      },
      "cell_type": "markdown",
      "source": [
        "# Basic baseline"
      ]
    },
    {
      "metadata": {
        "id": "i6e3Hk7n_DxL",
        "colab_type": "code",
        "colab": {}
      },
      "cell_type": "code",
      "source": [
        "y_train = train_labels['y']\n",
        "X_train = train_features.drop(columns='id')\n",
        "X_test  = test_features.drop(columns='id')"
      ],
      "execution_count": 0,
      "outputs": []
    },
    {
      "metadata": {
        "id": "aY4q1-uT_FpR",
        "colab_type": "code",
        "outputId": "8daedc97-b366-4179-8581-efb199f452ec",
        "colab": {
          "base_uri": "https://localhost:8080/",
          "height": 34
        }
      },
      "cell_type": "code",
      "source": [
        "from sklearn.model_selection import train_test_split\n",
        "X_train, X_val, y_train, y_val = train_test_split(X_train, y_train)\n",
        "X_train.shape, X_val.shape, y_train.shape, y_val.shape"
      ],
      "execution_count": 5,
      "outputs": [
        {
          "output_type": "execute_result",
          "data": {
            "text/plain": [
              "((23168, 19), (7723, 19), (23168,), (7723,))"
            ]
          },
          "metadata": {
            "tags": []
          },
          "execution_count": 5
        }
      ]
    },
    {
      "metadata": {
        "id": "EkqjUHbB_IEr",
        "colab_type": "code",
        "outputId": "5e29a235-a69a-4c52-cc5b-6654b9183f38",
        "colab": {
          "base_uri": "https://localhost:8080/",
          "height": 68
        }
      },
      "cell_type": "code",
      "source": [
        "y_train.value_counts(normalize=True)"
      ],
      "execution_count": 6,
      "outputs": [
        {
          "output_type": "execute_result",
          "data": {
            "text/plain": [
              "0    0.886481\n",
              "1    0.113519\n",
              "Name: y, dtype: float64"
            ]
          },
          "metadata": {
            "tags": []
          },
          "execution_count": 6
        }
      ]
    },
    {
      "metadata": {
        "id": "w0MqR3_d_LYz",
        "colab_type": "code",
        "colab": {}
      },
      "cell_type": "code",
      "source": [
        "majority_class = 0\n",
        "y_pred = [majority_class] * len(y_val)"
      ],
      "execution_count": 0,
      "outputs": []
    },
    {
      "metadata": {
        "id": "XPO7W8Ig_NEy",
        "colab_type": "code",
        "outputId": "df477ad7-c68b-4873-91b4-1f45ec6e0b5f",
        "colab": {
          "base_uri": "https://localhost:8080/",
          "height": 34
        }
      },
      "cell_type": "code",
      "source": [
        "from sklearn.metrics import accuracy_score\n",
        "accuracy_score(y_val, y_pred)"
      ],
      "execution_count": 8,
      "outputs": [
        {
          "output_type": "execute_result",
          "data": {
            "text/plain": [
              "0.8899391428201476"
            ]
          },
          "metadata": {
            "tags": []
          },
          "execution_count": 8
        }
      ]
    },
    {
      "metadata": {
        "id": "esGrOAk5_OZZ",
        "colab_type": "code",
        "outputId": "40df5a10-5aaf-41bf-d721-3d4f6218bd4a",
        "colab": {
          "base_uri": "https://localhost:8080/",
          "height": 34
        }
      },
      "cell_type": "code",
      "source": [
        "from sklearn.metrics import roc_auc_score\n",
        "roc_auc_score(y_val, y_pred)"
      ],
      "execution_count": 9,
      "outputs": [
        {
          "output_type": "execute_result",
          "data": {
            "text/plain": [
              "0.5"
            ]
          },
          "metadata": {
            "tags": []
          },
          "execution_count": 9
        }
      ]
    },
    {
      "metadata": {
        "id": "B8-PurrU_P0x",
        "colab_type": "code",
        "outputId": "2b4574fa-79de-497d-866b-190285388649",
        "colab": {
          "base_uri": "https://localhost:8080/",
          "height": 357
        }
      },
      "cell_type": "code",
      "source": [
        "X_train.isnull().sum()\n"
      ],
      "execution_count": 10,
      "outputs": [
        {
          "output_type": "execute_result",
          "data": {
            "text/plain": [
              "age               0\n",
              "job               0\n",
              "marital           0\n",
              "education         0\n",
              "default           0\n",
              "housing           0\n",
              "loan              0\n",
              "contact           0\n",
              "month             0\n",
              "day_of_week       0\n",
              "campaign          0\n",
              "pdays             0\n",
              "previous          0\n",
              "poutcome          0\n",
              "emp.var.rate      0\n",
              "cons.price.idx    0\n",
              "cons.conf.idx     0\n",
              "euribor3m         0\n",
              "nr.employed       0\n",
              "dtype: int64"
            ]
          },
          "metadata": {
            "tags": []
          },
          "execution_count": 10
        }
      ]
    },
    {
      "metadata": {
        "id": "VVd1FJfy_RrZ",
        "colab_type": "code",
        "outputId": "8154a753-51da-445a-a19d-21ff1545e26e",
        "colab": {
          "base_uri": "https://localhost:8080/",
          "height": 297
        }
      },
      "cell_type": "code",
      "source": [
        "import numpy as np\n",
        "X_train.describe(include=np.number)"
      ],
      "execution_count": 11,
      "outputs": [
        {
          "output_type": "execute_result",
          "data": {
            "text/html": [
              "<div>\n",
              "<style scoped>\n",
              "    .dataframe tbody tr th:only-of-type {\n",
              "        vertical-align: middle;\n",
              "    }\n",
              "\n",
              "    .dataframe tbody tr th {\n",
              "        vertical-align: top;\n",
              "    }\n",
              "\n",
              "    .dataframe thead th {\n",
              "        text-align: right;\n",
              "    }\n",
              "</style>\n",
              "<table border=\"1\" class=\"dataframe\">\n",
              "  <thead>\n",
              "    <tr style=\"text-align: right;\">\n",
              "      <th></th>\n",
              "      <th>age</th>\n",
              "      <th>campaign</th>\n",
              "      <th>pdays</th>\n",
              "      <th>previous</th>\n",
              "      <th>emp.var.rate</th>\n",
              "      <th>cons.price.idx</th>\n",
              "      <th>cons.conf.idx</th>\n",
              "      <th>euribor3m</th>\n",
              "      <th>nr.employed</th>\n",
              "    </tr>\n",
              "  </thead>\n",
              "  <tbody>\n",
              "    <tr>\n",
              "      <th>count</th>\n",
              "      <td>23168.000000</td>\n",
              "      <td>23168.000000</td>\n",
              "      <td>23168.000000</td>\n",
              "      <td>23168.000000</td>\n",
              "      <td>23168.000000</td>\n",
              "      <td>23168.000000</td>\n",
              "      <td>23168.000000</td>\n",
              "      <td>23168.000000</td>\n",
              "      <td>23168.000000</td>\n",
              "    </tr>\n",
              "    <tr>\n",
              "      <th>mean</th>\n",
              "      <td>39.971383</td>\n",
              "      <td>2.561335</td>\n",
              "      <td>961.883287</td>\n",
              "      <td>0.175112</td>\n",
              "      <td>0.066212</td>\n",
              "      <td>93.570047</td>\n",
              "      <td>-40.500708</td>\n",
              "      <td>3.603619</td>\n",
              "      <td>5166.422298</td>\n",
              "    </tr>\n",
              "    <tr>\n",
              "      <th>std</th>\n",
              "      <td>10.398425</td>\n",
              "      <td>2.724029</td>\n",
              "      <td>188.362863</td>\n",
              "      <td>0.496223</td>\n",
              "      <td>1.579743</td>\n",
              "      <td>0.580761</td>\n",
              "      <td>4.661168</td>\n",
              "      <td>1.741769</td>\n",
              "      <td>72.536491</td>\n",
              "    </tr>\n",
              "    <tr>\n",
              "      <th>min</th>\n",
              "      <td>17.000000</td>\n",
              "      <td>1.000000</td>\n",
              "      <td>0.000000</td>\n",
              "      <td>0.000000</td>\n",
              "      <td>-3.400000</td>\n",
              "      <td>92.201000</td>\n",
              "      <td>-50.800000</td>\n",
              "      <td>0.634000</td>\n",
              "      <td>4963.600000</td>\n",
              "    </tr>\n",
              "    <tr>\n",
              "      <th>25%</th>\n",
              "      <td>32.000000</td>\n",
              "      <td>1.000000</td>\n",
              "      <td>999.000000</td>\n",
              "      <td>0.000000</td>\n",
              "      <td>-1.800000</td>\n",
              "      <td>93.075000</td>\n",
              "      <td>-42.700000</td>\n",
              "      <td>1.334000</td>\n",
              "      <td>5099.100000</td>\n",
              "    </tr>\n",
              "    <tr>\n",
              "      <th>50%</th>\n",
              "      <td>38.000000</td>\n",
              "      <td>2.000000</td>\n",
              "      <td>999.000000</td>\n",
              "      <td>0.000000</td>\n",
              "      <td>1.100000</td>\n",
              "      <td>93.444000</td>\n",
              "      <td>-41.800000</td>\n",
              "      <td>4.857000</td>\n",
              "      <td>5191.000000</td>\n",
              "    </tr>\n",
              "    <tr>\n",
              "      <th>75%</th>\n",
              "      <td>47.000000</td>\n",
              "      <td>3.000000</td>\n",
              "      <td>999.000000</td>\n",
              "      <td>0.000000</td>\n",
              "      <td>1.400000</td>\n",
              "      <td>93.994000</td>\n",
              "      <td>-36.400000</td>\n",
              "      <td>4.961000</td>\n",
              "      <td>5228.100000</td>\n",
              "    </tr>\n",
              "    <tr>\n",
              "      <th>max</th>\n",
              "      <td>98.000000</td>\n",
              "      <td>43.000000</td>\n",
              "      <td>999.000000</td>\n",
              "      <td>7.000000</td>\n",
              "      <td>1.400000</td>\n",
              "      <td>94.767000</td>\n",
              "      <td>-26.900000</td>\n",
              "      <td>5.045000</td>\n",
              "      <td>5228.100000</td>\n",
              "    </tr>\n",
              "  </tbody>\n",
              "</table>\n",
              "</div>"
            ],
            "text/plain": [
              "                age      campaign         pdays      previous  emp.var.rate  \\\n",
              "count  23168.000000  23168.000000  23168.000000  23168.000000  23168.000000   \n",
              "mean      39.971383      2.561335    961.883287      0.175112      0.066212   \n",
              "std       10.398425      2.724029    188.362863      0.496223      1.579743   \n",
              "min       17.000000      1.000000      0.000000      0.000000     -3.400000   \n",
              "25%       32.000000      1.000000    999.000000      0.000000     -1.800000   \n",
              "50%       38.000000      2.000000    999.000000      0.000000      1.100000   \n",
              "75%       47.000000      3.000000    999.000000      0.000000      1.400000   \n",
              "max       98.000000     43.000000    999.000000      7.000000      1.400000   \n",
              "\n",
              "       cons.price.idx  cons.conf.idx     euribor3m   nr.employed  \n",
              "count    23168.000000   23168.000000  23168.000000  23168.000000  \n",
              "mean        93.570047     -40.500708      3.603619   5166.422298  \n",
              "std          0.580761       4.661168      1.741769     72.536491  \n",
              "min         92.201000     -50.800000      0.634000   4963.600000  \n",
              "25%         93.075000     -42.700000      1.334000   5099.100000  \n",
              "50%         93.444000     -41.800000      4.857000   5191.000000  \n",
              "75%         93.994000     -36.400000      4.961000   5228.100000  \n",
              "max         94.767000     -26.900000      5.045000   5228.100000  "
            ]
          },
          "metadata": {
            "tags": []
          },
          "execution_count": 11
        }
      ]
    },
    {
      "metadata": {
        "id": "4WPwmx0Q_Ts4",
        "colab_type": "code",
        "outputId": "6dd7d9ea-ccf1-4b6c-acf1-a47dc8b66441",
        "colab": {
          "base_uri": "https://localhost:8080/",
          "height": 173
        }
      },
      "cell_type": "code",
      "source": [
        "X_train.describe(exclude=np.number)"
      ],
      "execution_count": 12,
      "outputs": [
        {
          "output_type": "execute_result",
          "data": {
            "text/html": [
              "<div>\n",
              "<style scoped>\n",
              "    .dataframe tbody tr th:only-of-type {\n",
              "        vertical-align: middle;\n",
              "    }\n",
              "\n",
              "    .dataframe tbody tr th {\n",
              "        vertical-align: top;\n",
              "    }\n",
              "\n",
              "    .dataframe thead th {\n",
              "        text-align: right;\n",
              "    }\n",
              "</style>\n",
              "<table border=\"1\" class=\"dataframe\">\n",
              "  <thead>\n",
              "    <tr style=\"text-align: right;\">\n",
              "      <th></th>\n",
              "      <th>job</th>\n",
              "      <th>marital</th>\n",
              "      <th>education</th>\n",
              "      <th>default</th>\n",
              "      <th>housing</th>\n",
              "      <th>loan</th>\n",
              "      <th>contact</th>\n",
              "      <th>month</th>\n",
              "      <th>day_of_week</th>\n",
              "      <th>poutcome</th>\n",
              "    </tr>\n",
              "  </thead>\n",
              "  <tbody>\n",
              "    <tr>\n",
              "      <th>count</th>\n",
              "      <td>23168</td>\n",
              "      <td>23168</td>\n",
              "      <td>23168</td>\n",
              "      <td>23168</td>\n",
              "      <td>23168</td>\n",
              "      <td>23168</td>\n",
              "      <td>23168</td>\n",
              "      <td>23168</td>\n",
              "      <td>23168</td>\n",
              "      <td>23168</td>\n",
              "    </tr>\n",
              "    <tr>\n",
              "      <th>unique</th>\n",
              "      <td>12</td>\n",
              "      <td>4</td>\n",
              "      <td>8</td>\n",
              "      <td>3</td>\n",
              "      <td>3</td>\n",
              "      <td>3</td>\n",
              "      <td>2</td>\n",
              "      <td>10</td>\n",
              "      <td>5</td>\n",
              "      <td>3</td>\n",
              "    </tr>\n",
              "    <tr>\n",
              "      <th>top</th>\n",
              "      <td>admin.</td>\n",
              "      <td>married</td>\n",
              "      <td>university.degree</td>\n",
              "      <td>no</td>\n",
              "      <td>yes</td>\n",
              "      <td>no</td>\n",
              "      <td>cellular</td>\n",
              "      <td>may</td>\n",
              "      <td>thu</td>\n",
              "      <td>nonexistent</td>\n",
              "    </tr>\n",
              "    <tr>\n",
              "      <th>freq</th>\n",
              "      <td>5858</td>\n",
              "      <td>13982</td>\n",
              "      <td>6866</td>\n",
              "      <td>18289</td>\n",
              "      <td>12132</td>\n",
              "      <td>19073</td>\n",
              "      <td>14717</td>\n",
              "      <td>7788</td>\n",
              "      <td>4780</td>\n",
              "      <td>19947</td>\n",
              "    </tr>\n",
              "  </tbody>\n",
              "</table>\n",
              "</div>"
            ],
            "text/plain": [
              "           job  marital          education default housing   loan   contact  \\\n",
              "count    23168    23168              23168   23168   23168  23168     23168   \n",
              "unique      12        4                  8       3       3      3         2   \n",
              "top     admin.  married  university.degree      no     yes     no  cellular   \n",
              "freq      5858    13982               6866   18289   12132  19073     14717   \n",
              "\n",
              "        month day_of_week     poutcome  \n",
              "count   23168       23168        23168  \n",
              "unique     10           5            3  \n",
              "top       may         thu  nonexistent  \n",
              "freq     7788        4780        19947  "
            ]
          },
          "metadata": {
            "tags": []
          },
          "execution_count": 12
        }
      ]
    },
    {
      "metadata": {
        "id": "AJ6kOyR__VHR",
        "colab_type": "code",
        "colab": {}
      },
      "cell_type": "code",
      "source": [
        "X_train_numeric = X_train.select_dtypes(np.number)\n",
        "X_val_numeric = X_val.select_dtypes(np.number)"
      ],
      "execution_count": 0,
      "outputs": []
    },
    {
      "metadata": {
        "id": "B3Ye3fvl_Wag",
        "colab_type": "code",
        "outputId": "cb6f7e30-f05a-4fa3-f027-daf76c549f0b",
        "colab": {
          "base_uri": "https://localhost:8080/",
          "height": 34
        }
      },
      "cell_type": "code",
      "source": [
        "from sklearn.linear_model import LogisticRegression\n",
        "\n",
        "model = LogisticRegression(solver='lbfgs', max_iter=1000)\n",
        "model.fit(X_train_numeric, y_train)\n",
        "\n",
        "y_pred = model.predict_proba(X_val_numeric)[:, 1]\n",
        "roc_auc_score(y_val, y_pred)"
      ],
      "execution_count": 26,
      "outputs": [
        {
          "output_type": "execute_result",
          "data": {
            "text/plain": [
              "0.7464599755222909"
            ]
          },
          "metadata": {
            "tags": []
          },
          "execution_count": 26
        }
      ]
    },
    {
      "metadata": {
        "id": "ZlmzJpMv_X64",
        "colab_type": "code",
        "outputId": "b5ce4d4a-bdac-460e-c865-a3f84649721e",
        "colab": {
          "base_uri": "https://localhost:8080/",
          "height": 156
        }
      },
      "cell_type": "code",
      "source": [
        "from sklearn.preprocessing import StandardScaler\n",
        "\n",
        "scaler = StandardScaler()\n",
        "X_train_scaled = scaler.fit_transform(X_train_numeric)\n",
        "X_val_scaled = scaler.transform(X_val_numeric)\n",
        "\n",
        "model = LogisticRegression(solver='lbfgs', max_iter=1000)\n",
        "model.fit(X_train_scaled, y_train)\n",
        "\n",
        "y_pred = model.predict_proba(X_val_scaled)[:, 1]\n",
        "roc_auc_score(y_val, y_pred)"
      ],
      "execution_count": 27,
      "outputs": [
        {
          "output_type": "stream",
          "text": [
            "/usr/local/lib/python3.6/dist-packages/sklearn/preprocessing/data.py:645: DataConversionWarning: Data with input dtype int64, float64 were all converted to float64 by StandardScaler.\n",
            "  return self.partial_fit(X, y)\n",
            "/usr/local/lib/python3.6/dist-packages/sklearn/base.py:464: DataConversionWarning: Data with input dtype int64, float64 were all converted to float64 by StandardScaler.\n",
            "  return self.fit(X, **fit_params).transform(X)\n",
            "/usr/local/lib/python3.6/dist-packages/ipykernel_launcher.py:5: DataConversionWarning: Data with input dtype int64, float64 were all converted to float64 by StandardScaler.\n",
            "  \"\"\"\n"
          ],
          "name": "stderr"
        },
        {
          "output_type": "execute_result",
          "data": {
            "text/plain": [
              "0.7539784835802501"
            ]
          },
          "metadata": {
            "tags": []
          },
          "execution_count": 27
        }
      ]
    },
    {
      "metadata": {
        "id": "2UYLnCd6_ZpT",
        "colab_type": "code",
        "colab": {
          "base_uri": "https://localhost:8080/",
          "height": 156
        },
        "outputId": "e75b5442-5073-4190-e9bc-f9e517493b7f"
      },
      "cell_type": "code",
      "source": [
        "from sklearn.pipeline import make_pipeline\n",
        "\n",
        "pipeline = make_pipeline(\n",
        "    StandardScaler(), \n",
        "    LogisticRegression(solver='lbfgs', max_iter=1000)\n",
        ")\n",
        "\n",
        "pipeline.fit(X_train_numeric, y_train)\n",
        "\n",
        "y_pred = pipeline.predict_proba(X_val_numeric)[:, 1]\n",
        "roc_auc_score(y_val, y_pred)"
      ],
      "execution_count": 28,
      "outputs": [
        {
          "output_type": "stream",
          "text": [
            "/usr/local/lib/python3.6/dist-packages/sklearn/preprocessing/data.py:645: DataConversionWarning: Data with input dtype int64, float64 were all converted to float64 by StandardScaler.\n",
            "  return self.partial_fit(X, y)\n",
            "/usr/local/lib/python3.6/dist-packages/sklearn/base.py:467: DataConversionWarning: Data with input dtype int64, float64 were all converted to float64 by StandardScaler.\n",
            "  return self.fit(X, y, **fit_params).transform(X)\n",
            "/usr/local/lib/python3.6/dist-packages/sklearn/pipeline.py:381: DataConversionWarning: Data with input dtype int64, float64 were all converted to float64 by StandardScaler.\n",
            "  Xt = transform.transform(Xt)\n"
          ],
          "name": "stderr"
        },
        {
          "output_type": "execute_result",
          "data": {
            "text/plain": [
              "0.7539784835802501"
            ]
          },
          "metadata": {
            "tags": []
          },
          "execution_count": 28
        }
      ]
    },
    {
      "metadata": {
        "id": "ltbTEY6u_bNA",
        "colab_type": "code",
        "outputId": "658b802f-3051-4906-d565-f099fe87622f",
        "colab": {
          "base_uri": "https://localhost:8080/",
          "height": 204
        }
      },
      "cell_type": "code",
      "source": [
        "X_train.select_dtypes(exclude=np.number).nunique()"
      ],
      "execution_count": 17,
      "outputs": [
        {
          "output_type": "execute_result",
          "data": {
            "text/plain": [
              "job            12\n",
              "marital         4\n",
              "education       8\n",
              "default         3\n",
              "housing         3\n",
              "loan            3\n",
              "contact         2\n",
              "month          10\n",
              "day_of_week     5\n",
              "poutcome        3\n",
              "dtype: int64"
            ]
          },
          "metadata": {
            "tags": []
          },
          "execution_count": 17
        }
      ]
    },
    {
      "metadata": {
        "id": "77xgcyHh_cfI",
        "colab_type": "code",
        "outputId": "26b0e255-1426-4c7a-d5e8-c51d41b78f72",
        "colab": {
          "base_uri": "https://localhost:8080/",
          "height": 275
        }
      },
      "cell_type": "code",
      "source": [
        "!pip install category_encoders"
      ],
      "execution_count": 18,
      "outputs": [
        {
          "output_type": "stream",
          "text": [
            "Collecting category_encoders\n",
            "\u001b[?25l  Downloading https://files.pythonhosted.org/packages/f7/d3/82a4b85a87ece114f6d0139d643580c726efa45fa4db3b81aed38c0156c5/category_encoders-1.3.0-py2.py3-none-any.whl (61kB)\n",
            "\u001b[K    100% |████████████████████████████████| 61kB 3.9MB/s \n",
            "\u001b[?25hRequirement already satisfied: scipy>=0.17.0 in /usr/local/lib/python3.6/dist-packages (from category_encoders) (1.1.0)\n",
            "Requirement already satisfied: patsy>=0.4.1 in /usr/local/lib/python3.6/dist-packages (from category_encoders) (0.5.1)\n",
            "Requirement already satisfied: scikit-learn>=0.17.1 in /usr/local/lib/python3.6/dist-packages (from category_encoders) (0.20.3)\n",
            "Requirement already satisfied: numpy>=1.11.1 in /usr/local/lib/python3.6/dist-packages (from category_encoders) (1.14.6)\n",
            "Requirement already satisfied: pandas>=0.20.1 in /usr/local/lib/python3.6/dist-packages (from category_encoders) (0.22.0)\n",
            "Requirement already satisfied: statsmodels>=0.6.1 in /usr/local/lib/python3.6/dist-packages (from category_encoders) (0.8.0)\n",
            "Requirement already satisfied: six in /usr/local/lib/python3.6/dist-packages (from patsy>=0.4.1->category_encoders) (1.11.0)\n",
            "Requirement already satisfied: python-dateutil>=2 in /usr/local/lib/python3.6/dist-packages (from pandas>=0.20.1->category_encoders) (2.5.3)\n",
            "Requirement already satisfied: pytz>=2011k in /usr/local/lib/python3.6/dist-packages (from pandas>=0.20.1->category_encoders) (2018.9)\n",
            "Installing collected packages: category-encoders\n",
            "Successfully installed category-encoders-1.3.0\n"
          ],
          "name": "stdout"
        }
      ]
    },
    {
      "metadata": {
        "id": "ZAJ_fdpQ_fUH",
        "colab_type": "code",
        "outputId": "119433c4-d146-49ad-e060-fe3201929648",
        "colab": {
          "base_uri": "https://localhost:8080/",
          "height": 34
        }
      },
      "cell_type": "code",
      "source": [
        "!conda install -c conda-forge category_encoders"
      ],
      "execution_count": 19,
      "outputs": [
        {
          "output_type": "stream",
          "text": [
            "/bin/bash: conda: command not found\n"
          ],
          "name": "stdout"
        }
      ]
    },
    {
      "metadata": {
        "id": "qcgOWKB2W2tV",
        "colab_type": "code",
        "outputId": "f3be2642-2cde-4588-da4d-adc167dcbc1e",
        "colab": {
          "base_uri": "https://localhost:8080/",
          "height": 34
        }
      },
      "cell_type": "code",
      "source": [
        "X_train.shape, y_train.shape"
      ],
      "execution_count": 20,
      "outputs": [
        {
          "output_type": "execute_result",
          "data": {
            "text/plain": [
              "((23168, 19), (23168,))"
            ]
          },
          "metadata": {
            "tags": []
          },
          "execution_count": 20
        }
      ]
    },
    {
      "metadata": {
        "id": "tteCtHejXBUM",
        "colab_type": "code",
        "outputId": "827aab50-d964-4387-9651-c3d627df865f",
        "colab": {
          "base_uri": "https://localhost:8080/",
          "height": 85
        }
      },
      "cell_type": "code",
      "source": [
        "X_train['default'].value_counts()"
      ],
      "execution_count": 21,
      "outputs": [
        {
          "output_type": "execute_result",
          "data": {
            "text/plain": [
              "no         18289\n",
              "unknown     4877\n",
              "yes            2\n",
              "Name: default, dtype: int64"
            ]
          },
          "metadata": {
            "tags": []
          },
          "execution_count": 21
        }
      ]
    },
    {
      "metadata": {
        "id": "SQt0ZcQ__hRf",
        "colab_type": "code",
        "outputId": "e51b4a4d-a17d-4630-9673-a682f4920300",
        "colab": {
          "base_uri": "https://localhost:8080/",
          "height": 156
        }
      },
      "cell_type": "code",
      "source": [
        "import category_encoders as ce\n",
        "\n",
        "pipeline = make_pipeline(\n",
        "    ce.OneHotEncoder(use_cat_names=True), \n",
        "    StandardScaler(), \n",
        "    LogisticRegression(solver='lbfgs', max_iter=1000)\n",
        ")\n",
        "\n",
        "pipeline.fit(X_train, y_train)\n",
        "\n",
        "y_pred = pipeline.predict_proba(X_val)[:, 1]\n",
        "roc_auc_score(y_val, y_pred)"
      ],
      "execution_count": 29,
      "outputs": [
        {
          "output_type": "stream",
          "text": [
            "/usr/local/lib/python3.6/dist-packages/sklearn/preprocessing/data.py:645: DataConversionWarning: Data with input dtype int64, float64 were all converted to float64 by StandardScaler.\n",
            "  return self.partial_fit(X, y)\n",
            "/usr/local/lib/python3.6/dist-packages/sklearn/base.py:467: DataConversionWarning: Data with input dtype int64, float64 were all converted to float64 by StandardScaler.\n",
            "  return self.fit(X, y, **fit_params).transform(X)\n",
            "/usr/local/lib/python3.6/dist-packages/sklearn/pipeline.py:381: DataConversionWarning: Data with input dtype int64, float64 were all converted to float64 by StandardScaler.\n",
            "  Xt = transform.transform(Xt)\n"
          ],
          "name": "stderr"
        },
        {
          "output_type": "execute_result",
          "data": {
            "text/plain": [
              "0.7880597564211194"
            ]
          },
          "metadata": {
            "tags": []
          },
          "execution_count": 29
        }
      ]
    },
    {
      "metadata": {
        "id": "gFy8ypa9SAMZ",
        "colab_type": "code",
        "outputId": "50db7e05-18bc-4398-cacc-678f9e4ec92c",
        "colab": {
          "base_uri": "https://localhost:8080/",
          "height": 187
        }
      },
      "cell_type": "code",
      "source": [
        "from statsmodels.tools.tools import add_constant\n",
        "from statsmodels.stats.outliers_influence import variance_inflation_factor\n",
        "\n",
        "X = add_constant(X_train_numeric)\n",
        "vif = [variance_inflation_factor(X.values, i) for i in range(X.shape[1])]\n",
        "[c+': '+str(round(v,2)) for c, v in zip(X.columns, vif)]"
      ],
      "execution_count": 23,
      "outputs": [
        {
          "output_type": "execute_result",
          "data": {
            "text/plain": [
              "['const: 529394.71',\n",
              " 'age: 1.02',\n",
              " 'campaign: 1.03',\n",
              " 'pdays: 1.62',\n",
              " 'previous: 1.79',\n",
              " 'emp.var.rate: 33.28',\n",
              " 'cons.price.idx: 6.39',\n",
              " 'cons.conf.idx: 2.67',\n",
              " 'euribor3m: 64.86',\n",
              " 'nr.employed: 31.88']"
            ]
          },
          "metadata": {
            "tags": []
          },
          "execution_count": 23
        }
      ]
    },
    {
      "metadata": {
        "id": "bQ84cPieUlm4",
        "colab_type": "text"
      },
      "cell_type": "markdown",
      "source": [
        "Multicolinearity in euriborm3m and nr.employed"
      ]
    },
    {
      "metadata": {
        "id": "L6UjtHvGCr3X",
        "colab_type": "text"
      },
      "cell_type": "markdown",
      "source": [
        "Submission to the Kaggle:"
      ]
    },
    {
      "metadata": {
        "id": "HIASz8m7CvM_",
        "colab_type": "code",
        "outputId": "39e1a9ff-fda9-448f-ac40-b57dd0a0dbfa",
        "colab": {
          "base_uri": "https://localhost:8080/",
          "height": 71
        }
      },
      "cell_type": "code",
      "source": [
        "submission = sample_submission.copy()\n",
        "submission['y'] = pipeline.predict_proba(X_test)[:, 1:]\n",
        "submission.to_csv('submission-001.csv', index=False)"
      ],
      "execution_count": 24,
      "outputs": [
        {
          "output_type": "stream",
          "text": [
            "/usr/local/lib/python3.6/dist-packages/sklearn/pipeline.py:381: DataConversionWarning: Data with input dtype int64, float64 were all converted to float64 by StandardScaler.\n",
            "  Xt = transform.transform(Xt)\n"
          ],
          "name": "stderr"
        }
      ]
    },
    {
      "metadata": {
        "id": "6go96VzJmbPw",
        "colab_type": "code",
        "outputId": "1dbd0127-886d-4169-d8d0-9aba81f88480",
        "colab": {
          "base_uri": "https://localhost:8080/",
          "height": 204
        }
      },
      "cell_type": "code",
      "source": [
        "submission.sample(5)"
      ],
      "execution_count": 25,
      "outputs": [
        {
          "output_type": "execute_result",
          "data": {
            "text/html": [
              "<div>\n",
              "<style scoped>\n",
              "    .dataframe tbody tr th:only-of-type {\n",
              "        vertical-align: middle;\n",
              "    }\n",
              "\n",
              "    .dataframe tbody tr th {\n",
              "        vertical-align: top;\n",
              "    }\n",
              "\n",
              "    .dataframe thead th {\n",
              "        text-align: right;\n",
              "    }\n",
              "</style>\n",
              "<table border=\"1\" class=\"dataframe\">\n",
              "  <thead>\n",
              "    <tr style=\"text-align: right;\">\n",
              "      <th></th>\n",
              "      <th>id</th>\n",
              "      <th>y</th>\n",
              "    </tr>\n",
              "  </thead>\n",
              "  <tbody>\n",
              "    <tr>\n",
              "      <th>10294</th>\n",
              "      <td>10660</td>\n",
              "      <td>0.069296</td>\n",
              "    </tr>\n",
              "    <tr>\n",
              "      <th>5866</th>\n",
              "      <td>17176</td>\n",
              "      <td>0.023763</td>\n",
              "    </tr>\n",
              "    <tr>\n",
              "      <th>4123</th>\n",
              "      <td>39194</td>\n",
              "      <td>0.211691</td>\n",
              "    </tr>\n",
              "    <tr>\n",
              "      <th>1628</th>\n",
              "      <td>15969</td>\n",
              "      <td>0.053790</td>\n",
              "    </tr>\n",
              "    <tr>\n",
              "      <th>9772</th>\n",
              "      <td>12849</td>\n",
              "      <td>0.044021</td>\n",
              "    </tr>\n",
              "  </tbody>\n",
              "</table>\n",
              "</div>"
            ],
            "text/plain": [
              "          id         y\n",
              "10294  10660  0.069296\n",
              "5866   17176  0.023763\n",
              "4123   39194  0.211691\n",
              "1628   15969  0.053790\n",
              "9772   12849  0.044021"
            ]
          },
          "metadata": {
            "tags": []
          },
          "execution_count": 25
        }
      ]
    },
    {
      "metadata": {
        "id": "rLYDSmEITno3",
        "colab_type": "text"
      },
      "cell_type": "markdown",
      "source": [
        "# Baseline with cross-validation and independenet test set\n"
      ]
    },
    {
      "metadata": {
        "id": "CeUX21wi7siE",
        "colab_type": "code",
        "colab": {
          "base_uri": "https://localhost:8080/",
          "height": 119
        },
        "outputId": "87f82df5-83c4-449e-fb50-3321ff310760"
      },
      "cell_type": "code",
      "source": [
        "# Imports\n",
        "%matplotlib inline\n",
        "import warnings\n",
        "import category_encoders as ce\n",
        "import matplotlib.pyplot as plt\n",
        "import pandas as pd\n",
        "from sklearn.linear_model import LogisticRegression\n",
        "from sklearn.model_selection import cross_val_score\n",
        "from sklearn.pipeline import make_pipeline\n",
        "from sklearn.exceptions import DataConversionWarning\n",
        "from sklearn.preprocessing import StandardScaler\n",
        "warnings.filterwarnings(action='ignore', category=DataConversionWarning)\n",
        "\n",
        "# Load data\n",
        "X_train = pd.read_csv('train_features.csv').drop(columns='id')\n",
        "X_test  = pd.read_csv('test_features.csv').drop(columns='id')\n",
        "y_train = pd.read_csv('train_labels.csv')['y']\n",
        "sample_submission = pd.read_csv('sample_submission.csv')\n",
        "\n",
        "# Make pipeline\n",
        "pipeline = make_pipeline(\n",
        "    ce.OneHotEncoder(use_cat_names=True), \n",
        "    StandardScaler(), \n",
        "    LogisticRegression(solver='lbfgs', max_iter=1000)\n",
        ")\n",
        "\n",
        "# Cross-validation with training data\n",
        "cross_val_score(pipeline, X_train, y_train, scoring='roc_auc', cv=10, n_jobs=-1, verbose=10)"
      ],
      "execution_count": 30,
      "outputs": [
        {
          "output_type": "stream",
          "text": [
            "[Parallel(n_jobs=-1)]: Using backend LokyBackend with 2 concurrent workers.\n",
            "[Parallel(n_jobs=-1)]: Done   1 tasks      | elapsed:    3.2s\n",
            "[Parallel(n_jobs=-1)]: Done   4 tasks      | elapsed:    5.1s\n",
            "[Parallel(n_jobs=-1)]: Done  10 out of  10 | elapsed:   10.3s finished\n"
          ],
          "name": "stderr"
        },
        {
          "output_type": "execute_result",
          "data": {
            "text/plain": [
              "array([0.77295183, 0.78574708, 0.78036636, 0.79742952, 0.79020263,\n",
              "       0.79837252, 0.79259604, 0.80331817, 0.77434981, 0.78202959])"
            ]
          },
          "metadata": {
            "tags": []
          },
          "execution_count": 30
        }
      ]
    },
    {
      "metadata": {
        "id": "hJKef7tW7662",
        "colab_type": "code",
        "colab": {
          "base_uri": "https://localhost:8080/",
          "height": 1694
        },
        "outputId": "e3990e53-696f-41c8-fbc0-af4d36e97f52"
      },
      "cell_type": "code",
      "source": [
        "# (Re)fit on training data\n",
        "pipeline.fit(X_train, y_train)\n",
        "\n",
        "# Generate submission\n",
        "submission = sample_submission.copy()\n",
        "submission['y'] = pipeline.predict_proba(X_test)[:, 1]\n",
        "submission.to_csv('submission-001.csv', index=False)\n",
        "\n",
        "# Visualize coefficients\n",
        "plt.figure(figsize=(10,30))\n",
        "plt.title('Coefficients')\n",
        "coefficients = pipeline.named_steps['logisticregression'].coef_[0]\n",
        "feature_names = pipeline.named_steps['onehotencoder'].transform(X_train).columns\n",
        "pd.Series(coefficients, feature_names).sort_values().plot.barh(color='gray');"
      ],
      "execution_count": 31,
      "outputs": [
        {
          "output_type": "display_data",
          "data": {
            "image/png": "[encoded data removed]",
            "text/plain": [
              "<Figure size 720x2160 with 1 Axes>"
            ]
          },
          "metadata": {
            "tags": []
          }
        }
      ]
    },
    {
      "metadata": {
        "id": "pA0sKW2U7-Ol",
        "colab_type": "text"
      },
      "cell_type": "markdown",
      "source": [
        "# Feature engineering"
      ]
    },
    {
      "metadata": {
        "id": "3b9KPdGZ-4oU",
        "colab_type": "code",
        "colab": {
          "base_uri": "https://localhost:8080/",
          "height": 34
        },
        "outputId": "93f594d2-92da-405c-ea70-e2e1ae03aa7b"
      },
      "cell_type": "code",
      "source": [
        "# Reload the data...\n",
        "train_features = pd.read_csv('train_features.csv')\n",
        "train_labels = pd.read_csv('train_labels.csv')\n",
        "test_features = pd.read_csv('test_features.csv')\n",
        "\n",
        "train_features.shape, train_labels.shape, test_features.shape"
      ],
      "execution_count": 81,
      "outputs": [
        {
          "output_type": "execute_result",
          "data": {
            "text/plain": [
              "((30891, 20), (30891, 2), (10297, 20))"
            ]
          },
          "metadata": {
            "tags": []
          },
          "execution_count": 81
        }
      ]
    },
    {
      "metadata": {
        "id": "J3P5sEaOA_Xe",
        "colab_type": "code",
        "colab": {
          "base_uri": "https://localhost:8080/",
          "height": 442
        },
        "outputId": "183c99f8-a67a-44f1-e016-70323d6cb6b2"
      },
      "cell_type": "code",
      "source": [
        "train_features.info()"
      ],
      "execution_count": 82,
      "outputs": [
        {
          "output_type": "stream",
          "text": [
            "<class 'pandas.core.frame.DataFrame'>\n",
            "RangeIndex: 30891 entries, 0 to 30890\n",
            "Data columns (total 20 columns):\n",
            "id                30891 non-null int64\n",
            "age               30891 non-null int64\n",
            "job               30891 non-null object\n",
            "marital           30891 non-null object\n",
            "education         30891 non-null object\n",
            "default           30891 non-null object\n",
            "housing           30891 non-null object\n",
            "loan              30891 non-null object\n",
            "contact           30891 non-null object\n",
            "month             30891 non-null object\n",
            "day_of_week       30891 non-null object\n",
            "campaign          30891 non-null int64\n",
            "pdays             30891 non-null int64\n",
            "previous          30891 non-null int64\n",
            "poutcome          30891 non-null object\n",
            "emp.var.rate      30891 non-null float64\n",
            "cons.price.idx    30891 non-null float64\n",
            "cons.conf.idx     30891 non-null float64\n",
            "euribor3m         30891 non-null float64\n",
            "nr.employed       30891 non-null float64\n",
            "dtypes: float64(5), int64(5), object(10)\n",
            "memory usage: 4.7+ MB\n"
          ],
          "name": "stdout"
        }
      ]
    },
    {
      "metadata": {
        "id": "q7krFswyBhwq",
        "colab_type": "code",
        "colab": {
          "base_uri": "https://localhost:8080/",
          "height": 238
        },
        "outputId": "83c9bf41-8808-44c2-bcc8-afb8568ea4b3"
      },
      "cell_type": "code",
      "source": [
        "train_features['job'].value_counts(normalize=True)"
      ],
      "execution_count": 83,
      "outputs": [
        {
          "output_type": "execute_result",
          "data": {
            "text/plain": [
              "admin.           0.252565\n",
              "blue-collar      0.224920\n",
              "technician       0.164125\n",
              "services         0.096824\n",
              "management       0.071445\n",
              "retired          0.041857\n",
              "entrepreneur     0.034476\n",
              "self-employed    0.033602\n",
              "housemaid        0.025800\n",
              "unemployed       0.024667\n",
              "student          0.021560\n",
              "unknown          0.008158\n",
              "Name: job, dtype: float64"
            ]
          },
          "metadata": {
            "tags": []
          },
          "execution_count": 83
        }
      ]
    },
    {
      "metadata": {
        "id": "r75w7nBBCKFS",
        "colab_type": "code",
        "colab": {
          "base_uri": "https://localhost:8080/",
          "height": 715
        },
        "outputId": "c574a7ce-f2c1-4d6c-a898-5680a2999ea1"
      },
      "cell_type": "code",
      "source": [
        "train_features.hist(figsize=(12,12));"
      ],
      "execution_count": 87,
      "outputs": [
        {
          "output_type": "display_data",
          "data": {
            "image/png": "[encoded data removed]",
            "text/plain": [
              "<Figure size 864x864 with 12 Axes>"
            ]
          },
          "metadata": {
            "tags": []
          }
        }
      ]
    },
    {
      "metadata": {
        "id": "2leRqOW4IDH9",
        "colab_type": "text"
      },
      "cell_type": "markdown",
      "source": [
        "campaign and looks like it could use log transform"
      ]
    },
    {
      "metadata": {
        "id": "kuA5yJpQIIUj",
        "colab_type": "code",
        "colab": {}
      },
      "cell_type": "code",
      "source": [
        "train_features['ln_campaign'] = np.log(train_features['campaign'])\n",
        "test_features['ln_campaign'] = np.log(test_features['campaign'])\n",
        "train_features.drop('campaign',inplace=True,axis=1)\n",
        "test_features.drop('campaign',inplace=True,axis=1)"
      ],
      "execution_count": 0,
      "outputs": []
    },
    {
      "metadata": {
        "id": "WvB04nkFGACA",
        "colab_type": "text"
      },
      "cell_type": "markdown",
      "source": [
        "Lets combine some categorical features instead"
      ]
    },
    {
      "metadata": {
        "id": "UoJ1QgkiDHP2",
        "colab_type": "code",
        "colab": {}
      },
      "cell_type": "code",
      "source": [
        "#Combining entrepreneurs and self-employed into self-employed\n",
        "test_features.job.replace(['entrepreneur', 'self-employed'], 'self-employed', inplace=True)\n",
        "train_features.job.replace(['entrepreneur', 'self-employed'], 'self-employed', inplace=True)\n",
        "\n",
        "#Combining administrative and management jobs into admin_management\n",
        "test_features.job.replace(['admin.', 'management'], 'administration_management', inplace=True)\n",
        "train_features.job.replace(['admin.', 'management'], 'administration_management', inplace=True)\n",
        "\n",
        "#Combining blue-collar and tecnician jobs into blue-collar\n",
        "test_features.job.replace(['blue-collar', 'technician'], 'blue-collar', inplace=True)\n",
        "train_features.job.replace(['blue-collar', 'technician'], 'blue-collar', inplace=True)\n",
        "\n",
        "#Combining retired and unemployed into no_active_income\n",
        "test_features.job.replace(['retired', 'unemployed'], 'no_active_income', inplace=True)\n",
        "train_features.job.replace(['retired', 'unemployed'], 'no_active_income', inplace=True)\n",
        "\n",
        "#Combining services and housemaid into services\n",
        "test_features.job.replace(['services', 'housemaid'], 'services', inplace=True)\n",
        "train_features.job.replace(['services', 'housemaid'], 'services', inplace=True)\n",
        "\n",
        "#Combining single and divorced into single\n",
        "test_features.marital.replace(['single', 'divorced'], 'single', inplace=True)\n",
        "train_features.marital.replace(['single', 'divorced'], 'single', inplace=True)\n",
        "\n",
        "#Combining basic school degrees\n",
        "test_features.education.replace(['basic.9y', 'basic.6y', 'basic.4y'], 'basic_school', inplace=True)\n",
        "train_features.education.replace(['basic.9y', 'basic.6y', 'basic.4y'], 'basic_school', inplace=True)"
      ],
      "execution_count": 0,
      "outputs": []
    },
    {
      "metadata": {
        "id": "deIfebXVazEa",
        "colab_type": "code",
        "colab": {}
      },
      "cell_type": "code",
      "source": [
        "# Delete duration column\n",
        "\n",
        "del train_features['default']\n",
        "del test_features['default']"
      ],
      "execution_count": 0,
      "outputs": []
    },
    {
      "metadata": {
        "id": "SLWlBhv_UXRl",
        "colab_type": "text"
      },
      "cell_type": "markdown",
      "source": [
        "Drop features with high multi colinearity"
      ]
    },
    {
      "metadata": {
        "id": "qravrpl6UaC6",
        "colab_type": "code",
        "colab": {
          "base_uri": "https://localhost:8080/",
          "height": 170
        },
        "outputId": "76f88655-a74b-49c3-a9c2-be51c1b1a6a8"
      },
      "cell_type": "code",
      "source": [
        "X = add_constant(X_train_numeric)\n",
        "vif = [variance_inflation_factor(X.values, i) for i in range(X.shape[1])]\n",
        "[c+': '+str(round(v,2)) for c, v in zip(X.columns, vif)]"
      ],
      "execution_count": 113,
      "outputs": [
        {
          "output_type": "execute_result",
          "data": {
            "text/plain": [
              "['const: 6114033.0',\n",
              " 'age: 1.02',\n",
              " 'pdays: 1.63',\n",
              " 'previous: 1.82',\n",
              " 'emp.var.rate: 23.97',\n",
              " 'cons.price.idx: 5.55',\n",
              " 'cons.conf.idx: 1.32',\n",
              " 'nr.employed: 13.11',\n",
              " 'ln_campaign: 1.03']"
            ]
          },
          "metadata": {
            "tags": []
          },
          "execution_count": 113
        }
      ]
    },
    {
      "metadata": {
        "id": "UcCpGiZrUgli",
        "colab_type": "code",
        "colab": {}
      },
      "cell_type": "code",
      "source": [
        "train_features.drop('euribor3m',axis=1,inplace=True)\n",
        "test_features.drop('euribor3m',axis=1,inplace=True)"
      ],
      "execution_count": 0,
      "outputs": []
    },
    {
      "metadata": {
        "id": "gVPPUkWzGTZz",
        "colab_type": "text"
      },
      "cell_type": "markdown",
      "source": [
        "Let's see if the score improves with the new features"
      ]
    },
    {
      "metadata": {
        "id": "3f-JDakdGs96",
        "colab_type": "code",
        "colab": {
          "base_uri": "https://localhost:8080/",
          "height": 34
        },
        "outputId": "a3959f59-f329-4c41-b5e7-b202743a9bd8"
      },
      "cell_type": "code",
      "source": [
        "y_train = train_labels['y']\n",
        "X_train = train_features.drop(columns='id')\n",
        "X_test  = test_features.drop(columns='id')\n",
        "\n",
        "from sklearn.model_selection import train_test_split\n",
        "X_train, X_val, y_train, y_val = train_test_split(X_train, y_train, random_state=42)\n",
        "\n",
        "majority_class = 0\n",
        "y_pred = [majority_class] * len(y_val)\n",
        "\n",
        "X_train_numeric = X_train.select_dtypes(np.number)\n",
        "X_val_numeric = X_val.select_dtypes(np.number)\n",
        "\n",
        "import category_encoders as ce\n",
        "\n",
        "pipeline = make_pipeline(\n",
        "    ce.OneHotEncoder(use_cat_names=True), \n",
        "    StandardScaler(), \n",
        "    LogisticRegression(solver='lbfgs', class_weight='balanced')\n",
        ")\n",
        "\n",
        "pipeline.fit(X_train, y_train)\n",
        "\n",
        "y_pred = pipeline.predict_proba(X_val)[:, 1]\n",
        "roc_auc_score(y_val, y_pred)"
      ],
      "execution_count": 116,
      "outputs": [
        {
          "output_type": "execute_result",
          "data": {
            "text/plain": [
              "0.8034149827543414"
            ]
          },
          "metadata": {
            "tags": []
          },
          "execution_count": 116
        }
      ]
    },
    {
      "metadata": {
        "id": "-UbBBS1qcQPr",
        "colab_type": "code",
        "colab": {}
      },
      "cell_type": "code",
      "source": [
        ""
      ],
      "execution_count": 0,
      "outputs": []
    }
  ]
}