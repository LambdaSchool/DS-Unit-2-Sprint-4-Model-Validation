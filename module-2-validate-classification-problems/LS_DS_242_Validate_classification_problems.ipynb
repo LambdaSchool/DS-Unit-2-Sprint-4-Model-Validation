{
<<<<<<< HEAD
 "cells": [
  {
   "cell_type": "markdown",
   "metadata": {
    "colab_type": "text",
    "id": "KMI2k-oBsS08"
   },
   "source": [
    "_Lambda School Data Science — Model Validation_ \n",
    "\n",
    "# Validate classification problems\n",
    "\n",
    "Objectives\n",
    "- Imbalanced Classes\n",
    "- Confusion Matrix\n",
    "- ROC AUC\n"
   ]
  },
  {
   "cell_type": "markdown",
   "metadata": {
    "colab_type": "text",
    "id": "SUZCkblZYN60"
   },
   "source": [
    "Reading\n",
    "- [Simple guide to confusion matrix terminology](https://www.dataschool.io/simple-guide-to-confusion-matrix-terminology/)\n",
    "- [Precision and Recall](https://en.wikipedia.org/wiki/Precision_and_recall)"
   ]
  },
  {
   "cell_type": "markdown",
   "metadata": {
    "colab_type": "text",
    "id": "rU7RuVcjWdcp"
   },
   "source": [
    "## Preliminary"
   ]
  },
  {
   "cell_type": "markdown",
   "metadata": {
    "colab_type": "text",
    "id": "jes2WnwV072n"
   },
   "source": [
    "We'll use [mlxtend](http://rasbt.github.io/mlxtend/) and [yellowbrick](http://www.scikit-yb.org/en/latest/) for visualizations. These libraries are already installed on Google Colab. But if you are running locally with Anaconda Python, you'll probably need to install them:\n",
    "\n",
    "```\n",
    "conda install -c conda-forge mlxtend \n",
    "conda install -c districtdatalabs yellowbrick\n",
    "```"
   ]
  },
  {
   "cell_type": "markdown",
   "metadata": {
    "colab_type": "text",
    "id": "nQYGb3HgEp8b"
   },
   "source": [
    "We'll reuse the `train_validation_test_split` function from yesterday's lesson."
   ]
  },
  {
   "cell_type": "code",
   "execution_count": 24,
   "metadata": {
    "colab": {},
    "colab_type": "code",
    "id": "PMTjC3vQ7ZNV"
   },
   "outputs": [],
   "source": [
    "from sklearn.model_selection import train_test_split\n",
    "\n",
    "def train_validation_test_split(\n",
    "    X, y, train_size=0.8, val_size=0.1, test_size=0.1, \n",
    "    random_state=None, shuffle=True):\n",
    "        \n",
    "    assert train_size + val_size + test_size == 1\n",
    "    \n",
    "    X_train_val, X_test, y_train_val, y_test = train_test_split(\n",
    "        X, y, test_size=test_size, random_state=random_state, shuffle=shuffle)\n",
    "    \n",
    "    X_train, X_val, y_train, y_val = train_test_split(\n",
    "        X_train_val, y_train_val, test_size=val_size/(train_size+val_size), \n",
    "        random_state=random_state, shuffle=shuffle)\n",
    "    \n",
    "    return X_train, X_val, X_test, y_train, y_val, y_test"
   ]
  },
  {
   "cell_type": "markdown",
   "metadata": {
    "colab_type": "text",
    "id": "OWLBlu5K5kJR"
   },
   "source": [
    "## Fun demo!\n",
    "\n",
    "The next code cell does five things:\n",
    "\n",
    "#### 1. Generate data\n",
    "\n",
    "We use scikit-learn's [make_classification](https://scikit-learn.org/stable/modules/generated/sklearn.datasets.make_classification.html) function to generate fake data for a binary classification problem, based on several parameters, including:\n",
    "- Number of samples\n",
    "- Weights, meaning \"the proportions of samples assigned to each class.\"\n",
    "- Class separation: \"Larger values spread out the clusters/classes and make the classification task easier.\"\n",
    "\n",
    "(We are generating fake data so it is easy to visualize.)\n",
    "\n",
    "#### 2. Split data\n",
    "\n",
    "We split the data three ways, into train, validation, and test sets. (For this toy example, it's not really necessary to do a three-way split. A two-way split, or even no split, would be ok. But I'm trying to demonstrate good habits, even in toy examples, to avoid confusion.)\n",
    "\n",
    "#### 3. Fit model\n",
    "\n",
    "We use scikit-learn to fit a [Logistic Regression](https://scikit-learn.org/stable/modules/generated/sklearn.linear_model.LogisticRegression.html) on the training data.\n",
    "\n",
    "We use this model parameter:\n",
    "\n",
    "> **class_weight : _dict or ‘balanced’, default: None_**\n",
    "\n",
    "> Weights associated with classes in the form `{class_label: weight}`. If not given, all classes are supposed to have weight one.\n",
    "\n",
    "> The “balanced” mode uses the values of y to automatically adjust weights inversely proportional to class frequencies in the input data as `n_samples / (n_classes * np.bincount(y))`.\n",
    "\n",
    "\n",
    "#### 4. Evaluate model\n",
    "\n",
    "We use our Logistic Regression model, which was fit on the training data, to generate predictions for the validation data.\n",
    "\n",
    "Then we print [scikit-learn's Classification Report](https://scikit-learn.org/stable/modules/model_evaluation.html#classification-report), with many metrics, and also the accuracy score. We are comparing the correct labels to the Logistic Regression's predicted labels, for the validation set. \n",
    "\n",
    "#### 5. Visualize decision function\n",
    "\n",
    "Based on these examples\n",
    "- https://imbalanced-learn.readthedocs.io/en/stable/auto_examples/combine/plot_comparison_combine.html\n",
    "- http://rasbt.github.io/mlxtend/user_guide/plotting/plot_decision_regions/#example-1-decision-regions-in-2d"
   ]
  },
  {
   "cell_type": "code",
   "execution_count": 26,
   "metadata": {
    "colab": {},
    "colab_type": "code",
    "id": "TcpoWCUq5xNV"
   },
   "outputs": [
    {
     "name": "stdout",
     "output_type": "stream",
     "text": [
      "              precision    recall  f1-score   support\n",
      "\n",
      "           0       0.96      0.92      0.94        48\n",
      "           1       0.93      0.96      0.94        52\n",
      "\n",
      "   micro avg       0.94      0.94      0.94       100\n",
      "   macro avg       0.94      0.94      0.94       100\n",
      "weighted avg       0.94      0.94      0.94       100\n",
      "\n",
      "accuracy 0.94\n"
     ]
    },
    {
     "data": {
      "image/png": "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\n",
      "text/plain": [
       "<Figure size 720x432 with 1 Axes>"
=======
  "nbformat": 4,
  "nbformat_minor": 0,
  "metadata": {
    "colab": {
      "name": "LS_DS_242_Validate_classification_problems.ipynb",
      "version": "0.3.2",
      "provenance": [],
      "collapsed_sections": [],
      "toc_visible": true,
      "include_colab_link": true
    },
    "kernelspec": {
      "display_name": "Python 3",
      "language": "python",
      "name": "python3"
    }
  },
  "cells": [
    {
      "cell_type": "markdown",
      "metadata": {
        "id": "view-in-github",
        "colab_type": "text"
      },
      "source": [
        "<a href=\"https://colab.research.google.com/github/samirgadkari/DS-Unit-2-Sprint-4-Model-Validation/blob/master/module-2-validate-classification-problems/LS_DS_242_Validate_classification_problems.ipynb\" target=\"_parent\"><img src=\"https://colab.research.google.com/assets/colab-badge.svg\" alt=\"Open In Colab\"/></a>"
      ]
    },
    {
      "metadata": {
        "colab_type": "text",
        "id": "KMI2k-oBsS08"
      },
      "cell_type": "markdown",
      "source": [
        "_Lambda School Data Science — Model Validation_ \n",
        "\n",
        "# Validate classification problems\n",
        "\n",
        "Objectives\n",
        "- Imbalanced Classes\n",
        "- Confusion Matrix\n",
        "- ROC AUC\n"
      ]
    },
    {
      "metadata": {
        "colab_type": "text",
        "id": "SUZCkblZYN60"
      },
      "cell_type": "markdown",
      "source": [
        "Reading\n",
        "- [Simple guide to confusion matrix terminology](https://www.dataschool.io/simple-guide-to-confusion-matrix-terminology/)\n",
        "- [Precision and Recall](https://en.wikipedia.org/wiki/Precision_and_recall)"
      ]
    },
    {
      "metadata": {
        "colab_type": "text",
        "id": "rU7RuVcjWdcp"
      },
      "cell_type": "markdown",
      "source": [
        "## Preliminary"
      ]
    },
    {
      "metadata": {
        "colab_type": "text",
        "id": "jes2WnwV072n"
      },
      "cell_type": "markdown",
      "source": [
        "We'll use [mlxtend](http://rasbt.github.io/mlxtend/) and [yellowbrick](http://www.scikit-yb.org/en/latest/) for visualizations. These libraries are already installed on Google Colab. But if you are running locally with Anaconda Python, you'll probably need to install them:\n",
        "\n",
        "```\n",
        "conda install -c conda-forge mlxtend \n",
        "conda install -c districtdatalabs yellowbrick\n",
        "```"
>>>>>>> 9f9ea7b2485b661049fdfae54bbad87bf149dc5b
      ]
     },
     "metadata": {
      "needs_background": "light"
     },
     "output_type": "display_data"
    }
   ],
   "source": [
    "%matplotlib inline\n",
    "import matplotlib.pyplot as plt\n",
    "from sklearn.datasets import make_classification\n",
    "from sklearn.metrics import accuracy_score, classification_report\n",
    "from sklearn.linear_model import LogisticRegression\n",
    "from mlxtend.plotting import plot_decision_regions\n",
    "\n",
    "\n",
    "#1. Generate data\n",
    "\n",
    "# Try re-running the cell with different values for these parameters\n",
    "n_samples = 1000\n",
    "weights = (0.50, 0.50)\n",
    "class_sep = 0.8\n",
    "\n",
    "X, y = make_classification(n_samples=n_samples, n_features=2, n_informative=2, \n",
    "                           n_redundant=0, n_repeated=0, n_classes=2, \n",
    "                           n_clusters_per_class=1, weights=weights, \n",
    "                           class_sep=class_sep, random_state=0)\n",
    "\n",
    "\n",
    "# 2. Split data\n",
    "\n",
    "# Uses our custom train_validation_test_split function\n",
    "X_train, X_val, X_test, y_train, y_val, y_test = train_validation_test_split(\n",
    "    X, y, train_size=0.8, val_size=0.1, test_size=0.1, random_state=1)\n",
    "\n",
    "\n",
    "# 3. Fit model\n",
    "\n",
    "# Try re-running the cell with different values for this parameter\n",
    "class_weight = None\n",
    "\n",
    "model = LogisticRegression(solver='lbfgs', class_weight=class_weight)\n",
    "model.fit(X_train, y_train)\n",
    "\n",
    "\n",
    "# 4. Evaluate model\n",
    "\n",
    "y_pred = model.predict(X_val)\n",
    "print(classification_report(y_val, y_pred))\n",
    "print('accuracy', accuracy_score(y_val, y_pred))\n",
    "\n",
    "\n",
    "# 5. Visualize decision regions\n",
    "\n",
    "plt.figure(figsize=(10, 6))\n",
    "plot_decision_regions(X_val, y_val, model, legend=0);"
   ]
  },
  {
   "cell_type": "markdown",
   "metadata": {
    "colab_type": "text",
    "id": "zrllN3yECsEN"
   },
   "source": [
    "Try re-running the cell above with different values for these four parameters:\n",
    "- `n_samples`\n",
    "- `weights`\n",
    "- `class_sep`\n",
    "- `class_balance`\n",
    "\n",
    "For example, with a 50% / 50% class distribution:\n",
    "```\n",
    "n_samples = 1000\n",
    "weights = (0.50, 0.50)\n",
    "class_sep = 0.8\n",
    "class_balance = None\n",
    "```\n",
    "\n",
    "With a 95% / 5% class distribution:\n",
    "```\n",
    "n_samples = 1000\n",
    "weights = (0.95, 0.05)\n",
    "class_sep = 0.8\n",
    "class_balance = None\n",
    "```\n",
    "\n",
    "With the same 95% / 5% class distribution, but changing the Logistic Regression's `class_balance` parameter to `'balanced'` (instead of its default `None`)\n",
    "```\n",
    "n_samples = 1000\n",
    "weights = (0.95, 0.05)\n",
    "class_sep = 0.8\n",
    "class_balance = 'balanced'\n",
    "```\n",
    "\n",
    "With the same 95% / 5% class distribution, but with different values for `class_balance`:\n",
    "- `{0: 1, 1: 1}` _(equivalent to `None`)_\n",
    "- `{1: 1, 1: 2}`\n",
    "- `{1: 1, 1: 10}` _(roughly equivalent to `'balanced'` for this dataset)_\n",
    "- `{1: 1, 1: 100}`\n",
    "- `{1: 1, 1: 10000}`\n",
    "\n",
    "How do the evaluation metrics and decision region plots change?"
   ]
  },
  {
   "cell_type": "markdown",
   "metadata": {
    "colab_type": "text",
    "id": "5-3MS-jANssN"
   },
   "source": [
    "## What you can do about imbalanced classes"
   ]
  },
  {
   "cell_type": "markdown",
   "metadata": {
    "colab_type": "text",
    "id": "2KwgStd-yUUr"
   },
   "source": [
    "[Learning from Imbalanced Classes](https://www.svds.com/tbt-learning-imbalanced-classes/) gives \"a rough outline of useful approaches\" : \n",
    "\n",
    "- Do nothing. Sometimes you get lucky and nothing needs to be done. You can train on the so-called natural (or stratified) distribution and sometimes it works without need for modification.\n",
    "- Balance the training set in some way:\n",
    "  - Oversample the minority class.\n",
    "  - Undersample the majority class.\n",
    "  - Synthesize new minority classes.\n",
    "- Throw away minority examples and switch to an anomaly detection framework.\n",
    "- At the algorithm level, or after it:\n",
    "  - Adjust the class weight (misclassification costs).\n",
    "  - Adjust the decision threshold.\n",
    "  - Modify an existing algorithm to be more sensitive to rare classes.\n",
    "- Construct an entirely new algorithm to perform well on imbalanced data.\n"
   ]
  },
  {
   "cell_type": "markdown",
   "metadata": {
    "colab_type": "text",
    "id": "iO7kOZ2HN0EA"
   },
   "source": [
    "We demonstrated just one of these options: many scikit-learn classifiers have a `class_balance` parameter, which we can use to \"adjust the class weight (misclassification costs).\"\n",
    "\n",
    "The [imbalance-learn](https://github.com/scikit-learn-contrib/imbalanced-learn) library can be used to \"oversample the minority class, undersample the majority class, or synthesize new minority classes.\"\n",
    "\n",
    "You can see how to \"adjust the decision threshold\" in a great blog post, [Visualizing Machine Learning Thresholds to Make Better Business Decisions](https://blog.insightdatascience.com/visualizing-machine-learning-thresholds-to-make-better-business-decisions-4ab07f823415)."
   ]
  },
  {
   "cell_type": "markdown",
   "metadata": {
    "colab_type": "text",
    "id": "Xhh5TiW_X1_Q"
   },
   "source": [
    "## Bank Marketing — getting started\n",
    "\n",
    "https://archive.ics.uci.edu/ml/datasets/Bank+Marketing\n",
    "\n",
    "The data is related with direct marketing campaigns of a Portuguese banking institution. The marketing campaigns were based on phone calls. Often, more than one contact to the same client was required, in order to access if the product (bank term deposit) would be ('yes') or not ('no') subscribed. \n",
    "\n",
    "bank-additional-full.csv with all examples (41188) and 20 inputs, **ordered by date (from May 2008 to November 2010)**"
   ]
  },
  {
   "cell_type": "markdown",
   "metadata": {
    "colab_type": "text",
    "id": "n18wVnuxY-xl"
   },
   "source": [
    "### Download data"
   ]
  },
  {
   "cell_type": "code",
   "execution_count": 27,
   "metadata": {
    "colab": {},
    "colab_type": "code",
    "id": "S-oHbkK1X1h2"
   },
   "outputs": [
    {
<<<<<<< HEAD
     "name": "stdout",
     "output_type": "stream",
     "text": [
      "--2019-01-29 22:03:42--  https://archive.ics.uci.edu/ml/machine-learning-databases/00222/bank-additional.zip\n",
      "Resolving archive.ics.uci.edu (archive.ics.uci.edu)... 128.195.10.249\n",
      "Connecting to archive.ics.uci.edu (archive.ics.uci.edu)|128.195.10.249|:443... connected.\n",
      "HTTP request sent, awaiting response... 200 OK\n",
      "Length: 444572 (434K) [application/zip]\n",
      "Saving to: ‘bank-additional.zip’\n",
      "\n",
      "bank-additional.zip 100%[===================>] 434.15K  1.52MB/s    in 0.3s    \n",
      "\n",
      "2019-01-29 22:03:42 (1.52 MB/s) - ‘bank-additional.zip’ saved [444572/444572]\n",
      "\n"
     ]
    }
   ],
   "source": [
    "!wget https://archive.ics.uci.edu/ml/machine-learning-databases/00222/bank-additional.zip"
   ]
  },
  {
   "cell_type": "code",
   "execution_count": 28,
   "metadata": {
    "cellView": "both",
    "colab": {},
    "colab_type": "code",
    "id": "1INLmiipZA-y"
   },
   "outputs": [
    {
     "name": "stdout",
     "output_type": "stream",
     "text": [
      "Archive:  bank-additional.zip\r\n",
      "   creating: bank-additional/\r\n",
      "  inflating: bank-additional/.DS_Store  \r\n",
      "   creating: __MACOSX/\r\n",
      "   creating: __MACOSX/bank-additional/\r\n",
      "  inflating: __MACOSX/bank-additional/._.DS_Store  \r\n",
      "  inflating: bank-additional/.Rhistory  \r\n",
      "  inflating: bank-additional/bank-additional-full.csv  \r\n",
      "  inflating: bank-additional/bank-additional-names.txt  \r\n",
      "  inflating: bank-additional/bank-additional.csv  \r\n",
      "  inflating: __MACOSX/._bank-additional  \r\n"
     ]
    }
   ],
   "source": [
    "!unzip bank-additional.zip"
   ]
  },
  {
   "cell_type": "code",
   "execution_count": 29,
   "metadata": {
    "colab": {},
    "colab_type": "code",
    "id": "HwWCY5XrZCWk"
   },
   "outputs": [
    {
     "name": "stdout",
     "output_type": "stream",
     "text": [
      "/Users/samirgadkari/work/lambdaSchool/week9_model_validation/DS-Unit-2-Sprint-4-Model-Validation/module-2-validate-classification-problems/bank-additional\n"
     ]
    }
   ],
   "source": [
    "%cd bank-additional"
   ]
  },
  {
   "cell_type": "markdown",
   "metadata": {
    "colab_type": "text",
    "id": "Zf49DcHTZPdE"
   },
   "source": [
    "### Load data, assign to X and y"
   ]
  },
  {
   "cell_type": "code",
   "execution_count": 30,
   "metadata": {
    "colab": {},
    "colab_type": "code",
    "id": "OwhVgENcZEwo"
   },
   "outputs": [],
   "source": [
    "import pandas as pd\n",
    "\n",
    "bank = pd.read_csv('bank-additional-full.csv', sep=';')\n",
    "\n",
    "X = bank.drop(columns='y')\n",
    "y = bank['y'] == 'yes'"
   ]
  },
  {
   "cell_type": "markdown",
   "metadata": {
    "colab_type": "text",
    "id": "lq1it0dnZlX3"
   },
   "source": [
    "### Split data"
   ]
  },
  {
   "cell_type": "markdown",
   "metadata": {
    "colab_type": "text",
    "id": "P-FgY4pIaEXo"
   },
   "source": [
    "We want to do \"model selection (hyperparameter optimization) and performance estimation\" so we'll choose a validation method from the diagram's green box.\n",
    "\n",
    "There is no one \"right\" choice here, but I'll choose \"3-way holdout method (train/validation/test split).\"\n",
    "  \n",
    "<img src=\"https://sebastianraschka.com/images/blog/2018/model-evaluation-selection-part4/model-eval-conclusions.jpg\" width=\"600\">\n",
    "\n",
    "Source: https://sebastianraschka.com/blog/2018/model-evaluation-selection-part4.html"
   ]
  },
  {
   "cell_type": "markdown",
   "metadata": {
    "colab_type": "text",
    "id": "V74i3GDcZnkm"
   },
   "source": [
    "There's no one \"right\" choice here, but I'll choose to split by time, not with a random shuffle, based on this advice by [Rachel Thomas](\n",
    "https://www.fast.ai/2017/11/13/validation-sets/):\n",
    "> If your data is a time series, choosing a random subset of the data will be both too easy (you can look at the data both before and after the dates your are trying to predict) and not representative of most business use cases (where you are using historical data to build a model for use in the future).\n",
    "\n",
    "[According to UCI](https://archive.ics.uci.edu/ml/datasets/Bank+Marketing), this data is \"ordered by date (from May 2008 to November 2010)\" so if I don't shuffle it when splitting, then it will be split by time."
   ]
  },
  {
   "cell_type": "code",
   "execution_count": 31,
   "metadata": {
    "colab": {},
    "colab_type": "code",
    "id": "-xnw-vfOamHH"
   },
   "outputs": [],
   "source": [
    "X_train, X_val, X_test, y_train, y_val, y_test = train_validation_test_split(\n",
    "    X, y, shuffle=False)"
   ]
  },
  {
   "cell_type": "markdown",
   "metadata": {
    "colab_type": "text",
    "id": "12dWJxXabDxt"
   },
   "source": [
    "## Bank Marketing — live coding!"
   ]
  },
  {
   "cell_type": "code",
   "execution_count": null,
   "metadata": {
    "colab": {},
    "colab_type": "code",
    "id": "qAPOJu3uamrU"
   },
   "outputs": [],
   "source": []
  },
  {
   "cell_type": "markdown",
   "metadata": {
    "colab_type": "text",
    "id": "P_XjBTW5SBwZ"
   },
   "source": [
    "# ASSIGNMENT options\n",
    "\n",
    "Replicate code from the lesson or other examples. [Do it \"the hard way\" or with the \"Benjamin Franklin method.\"](https://docs.google.com/document/d/1ubOw9B3Hfip27hF2ZFnW3a3z9xAgrUDRReOEo-FHCVs/edit)\n",
    "\n",
    "Work with one of these datasets\n",
    "- [Bank Marketing](https://archive.ics.uci.edu/ml/datasets/Bank+Marketing)\n",
    "- [Synthetic Financial Dataset For Fraud Detection](https://www.kaggle.com/ntnu-testimon/paysim1)\n",
    "- Any imbalanced binary classification dataset\n",
    "\n",
    "Continue improving your model. Measure validation performance with a variety of classification metrics, which could include:\n",
    "- Accuracy\n",
    "- Precision\n",
    "- Recall\n",
    "- F1\n",
    "- ROC AUC\n",
    "\n",
    "Try one of the other options mentioned for imbalanced classes\n",
    "- The [imbalance-learn](https://github.com/scikit-learn-contrib/imbalanced-learn) library can be used to \"oversample the minority class, undersample the majority class, or synthesize new minority classes.\"\n",
    "- You can see how to \"adjust the decision threshold\" in a great blog post, [Visualizing Machine Learning Thresholds to Make Better Business Decisions](https://blog.insightdatascience.com/visualizing-machine-learning-thresholds-to-make-better-business-decisions-4ab07f823415)."
   ]
  },
  {
   "cell_type": "markdown",
   "metadata": {},
   "source": [
    "## Synthetic Financial Dataset for Fraud Detection\n",
    "\n",
    "  - step: Maps a unit of time in the real world. In this case 1 step is 1 hour of time.\n",
    "  - type: CASH-IN, CASH-OUT, DEBIT, PAYMENT and TRANSFER\n",
    "  - amount:        amount of the transaction in local currency\n",
    "  - name:            Origcustomer who started the transaction\n",
    "  - oldbalance:   Orginitial balance before the transaction\n",
    "  - newbalance: Origcustomer's balance after the transaction.\n",
    "  - name: Destrecipient ID of the transaction.\n",
    "  - oldbalance: Destinitial recipient balance before the transaction.\n",
    "  - newbalance: Destrecipient's balance after the transaction.\n",
    "  - isFraud: identifies a fraudulent transaction (1) and non fraudulent (0)\n",
    "  - isFlaggedFraud: flags illegal attempts to transfer more than 200.000 in a single transaction."
   ]
  },
  {
   "cell_type": "code",
   "execution_count": 32,
   "metadata": {},
   "outputs": [
    {
     "name": "stdout",
     "output_type": "stream",
     "text": [
      "Requirement already up-to-date: scikit-learn in /Library/Frameworks/Python.framework/Versions/3.7/lib/python3.7/site-packages (0.20.2)\n",
      "Requirement already up-to-date: scipy in /Library/Frameworks/Python.framework/Versions/3.7/lib/python3.7/site-packages (1.2.0)\n",
      "Requirement already up-to-date: matplotlib in /Library/Frameworks/Python.framework/Versions/3.7/lib/python3.7/site-packages (3.0.2)\n",
      "Requirement already up-to-date: pandas in /Library/Frameworks/Python.framework/Versions/3.7/lib/python3.7/site-packages (0.24.0)\n",
      "Requirement already up-to-date: mlxtend in /Library/Frameworks/Python.framework/Versions/3.7/lib/python3.7/site-packages (0.15.0.0)\n",
      "Requirement already up-to-date: seaborn in /Library/Frameworks/Python.framework/Versions/3.7/lib/python3.7/site-packages (0.9.0)\n",
      "Requirement already satisfied, skipping upgrade: numpy>=1.8.2 in /Library/Frameworks/Python.framework/Versions/3.7/lib/python3.7/site-packages (from scikit-learn) (1.15.4)\n",
      "Requirement already satisfied, skipping upgrade: cycler>=0.10 in /Library/Frameworks/Python.framework/Versions/3.7/lib/python3.7/site-packages (from matplotlib) (0.10.0)\n",
      "Requirement already satisfied, skipping upgrade: kiwisolver>=1.0.1 in /Library/Frameworks/Python.framework/Versions/3.7/lib/python3.7/site-packages (from matplotlib) (1.0.1)\n",
      "Requirement already satisfied, skipping upgrade: pyparsing!=2.0.4,!=2.1.2,!=2.1.6,>=2.0.1 in /Library/Frameworks/Python.framework/Versions/3.7/lib/python3.7/site-packages (from matplotlib) (2.3.1)\n",
      "Requirement already satisfied, skipping upgrade: python-dateutil>=2.1 in /Library/Frameworks/Python.framework/Versions/3.7/lib/python3.7/site-packages (from matplotlib) (2.7.5)\n",
      "Requirement already satisfied, skipping upgrade: pytz>=2011k in /Library/Frameworks/Python.framework/Versions/3.7/lib/python3.7/site-packages (from pandas) (2018.7)\n",
      "Requirement already satisfied, skipping upgrade: setuptools in /Library/Frameworks/Python.framework/Versions/3.7/lib/python3.7/site-packages (from mlxtend) (39.0.1)\n",
      "Requirement already satisfied, skipping upgrade: six in /Library/Frameworks/Python.framework/Versions/3.7/lib/python3.7/site-packages (from cycler>=0.10->matplotlib) (1.11.0)\n"
     ]
    }
   ],
   "source": [
    "!pip3 install -U scikit-learn scipy matplotlib pandas mlxtend seaborn"
   ]
  },
  {
   "cell_type": "code",
   "execution_count": 33,
   "metadata": {},
   "outputs": [],
   "source": [
    "import matplotlib.pyplot as plt\n",
    "%matplotlib inline\n",
    "import seaborn as sns\n",
    "\n",
    "# from sklearn.datasets import make_classification\n",
    "from sklearn.metrics import accuracy_score, classification_report\n",
    "from sklearn.linear_model import LogisticRegression\n",
    "# from mlxtend.plotting import plot_decision_regions\n",
    "from sklearn.metrics import roc_auc_score\n",
    "from imblearn.under_sampling import RandomUnderSampler\n",
    "\n",
    "import numpy as np\n",
    "import pandas as pd"
   ]
  },
  {
   "cell_type": "code",
   "execution_count": 36,
   "metadata": {},
   "outputs": [
    {
     "name": "stdout",
     "output_type": "stream",
     "text": [
      "/Users/samirgadkari/work/lambdaSchool/week9_model_validation/DS-Unit-2-Sprint-4-Model-Validation/module-2-validate-classification-problems\n",
      "/Users/samirgadkari/work/lambdaSchool/week9_model_validation/DS-Unit-2-Sprint-4-Model-Validation/module-2-validate-classification-problems\r\n"
     ]
    }
   ],
   "source": [
    "%cd ..\n",
    "!pwd"
   ]
  },
  {
   "cell_type": "code",
   "execution_count": 37,
   "metadata": {},
   "outputs": [],
   "source": [
    "cols = ['step', 'type', 'amount', 'nameOrig', 'oldbalanceOrg', 'newbalanceOrig',\n",
    "        'nameDest', 'oldbalanceDest', 'newbalanceDest', 'isFraud', 'isFlaggedFraud']\n",
    "df = pd.read_csv('PS_20174392719_1491204439457_log.csv', header = 0, names = cols)"
   ]
  },
  {
   "cell_type": "code",
   "execution_count": 38,
   "metadata": {},
   "outputs": [
    {
     "name": "stdout",
     "output_type": "stream",
     "text": [
      "df.shape: (6362620, 11)\n"
     ]
    },
    {
     "data": {
      "text/html": [
       "<div>\n",
       "<style scoped>\n",
       "    .dataframe tbody tr th:only-of-type {\n",
       "        vertical-align: middle;\n",
       "    }\n",
       "\n",
       "    .dataframe tbody tr th {\n",
       "        vertical-align: top;\n",
       "    }\n",
       "\n",
       "    .dataframe thead th {\n",
       "        text-align: right;\n",
       "    }\n",
       "</style>\n",
       "<table border=\"1\" class=\"dataframe\">\n",
       "  <thead>\n",
       "    <tr style=\"text-align: right;\">\n",
       "      <th></th>\n",
       "      <th>step</th>\n",
       "      <th>type</th>\n",
       "      <th>amount</th>\n",
       "      <th>nameOrig</th>\n",
       "      <th>oldbalanceOrg</th>\n",
       "      <th>newbalanceOrig</th>\n",
       "      <th>nameDest</th>\n",
       "      <th>oldbalanceDest</th>\n",
       "      <th>newbalanceDest</th>\n",
       "      <th>isFraud</th>\n",
       "      <th>isFlaggedFraud</th>\n",
       "    </tr>\n",
       "  </thead>\n",
       "  <tbody>\n",
       "    <tr>\n",
       "      <th>0</th>\n",
       "      <td>1</td>\n",
       "      <td>PAYMENT</td>\n",
       "      <td>9839.64</td>\n",
       "      <td>C1231006815</td>\n",
       "      <td>170136.0</td>\n",
       "      <td>160296.36</td>\n",
       "      <td>M1979787155</td>\n",
       "      <td>0.0</td>\n",
       "      <td>0.0</td>\n",
       "      <td>0</td>\n",
       "      <td>0</td>\n",
       "    </tr>\n",
       "    <tr>\n",
       "      <th>1</th>\n",
       "      <td>1</td>\n",
       "      <td>PAYMENT</td>\n",
       "      <td>1864.28</td>\n",
       "      <td>C1666544295</td>\n",
       "      <td>21249.0</td>\n",
       "      <td>19384.72</td>\n",
       "      <td>M2044282225</td>\n",
       "      <td>0.0</td>\n",
       "      <td>0.0</td>\n",
       "      <td>0</td>\n",
       "      <td>0</td>\n",
       "    </tr>\n",
       "    <tr>\n",
       "      <th>2</th>\n",
       "      <td>1</td>\n",
       "      <td>TRANSFER</td>\n",
       "      <td>181.00</td>\n",
       "      <td>C1305486145</td>\n",
       "      <td>181.0</td>\n",
       "      <td>0.00</td>\n",
       "      <td>C553264065</td>\n",
       "      <td>0.0</td>\n",
       "      <td>0.0</td>\n",
       "      <td>1</td>\n",
       "      <td>0</td>\n",
       "    </tr>\n",
       "    <tr>\n",
       "      <th>3</th>\n",
       "      <td>1</td>\n",
       "      <td>CASH_OUT</td>\n",
       "      <td>181.00</td>\n",
       "      <td>C840083671</td>\n",
       "      <td>181.0</td>\n",
       "      <td>0.00</td>\n",
       "      <td>C38997010</td>\n",
       "      <td>21182.0</td>\n",
       "      <td>0.0</td>\n",
       "      <td>1</td>\n",
       "      <td>0</td>\n",
       "    </tr>\n",
       "    <tr>\n",
       "      <th>4</th>\n",
       "      <td>1</td>\n",
       "      <td>PAYMENT</td>\n",
       "      <td>11668.14</td>\n",
       "      <td>C2048537720</td>\n",
       "      <td>41554.0</td>\n",
       "      <td>29885.86</td>\n",
       "      <td>M1230701703</td>\n",
       "      <td>0.0</td>\n",
       "      <td>0.0</td>\n",
       "      <td>0</td>\n",
       "      <td>0</td>\n",
       "    </tr>\n",
       "  </tbody>\n",
       "</table>\n",
       "</div>"
      ],
      "text/plain": [
       "   step      type    amount     nameOrig  oldbalanceOrg  newbalanceOrig  \\\n",
       "0     1   PAYMENT   9839.64  C1231006815       170136.0       160296.36   \n",
       "1     1   PAYMENT   1864.28  C1666544295        21249.0        19384.72   \n",
       "2     1  TRANSFER    181.00  C1305486145          181.0            0.00   \n",
       "3     1  CASH_OUT    181.00   C840083671          181.0            0.00   \n",
       "4     1   PAYMENT  11668.14  C2048537720        41554.0        29885.86   \n",
       "\n",
       "      nameDest  oldbalanceDest  newbalanceDest  isFraud  isFlaggedFraud  \n",
       "0  M1979787155             0.0             0.0        0               0  \n",
       "1  M2044282225             0.0             0.0        0               0  \n",
       "2   C553264065             0.0             0.0        1               0  \n",
       "3    C38997010         21182.0             0.0        1               0  \n",
       "4  M1230701703             0.0             0.0        0               0  "
=======
      "metadata": {
        "colab_type": "text",
        "id": "nQYGb3HgEp8b"
      },
      "cell_type": "markdown",
      "source": [
        "We'll reuse the `train_validation_test_split` function from yesterday's lesson."
      ]
    },
    {
      "metadata": {
        "colab_type": "code",
        "id": "PMTjC3vQ7ZNV",
        "colab": {}
      },
      "cell_type": "code",
      "source": [
        "from sklearn.model_selection import train_test_split\n",
        "\n",
        "def train_validation_test_split(\n",
        "    X, y, train_size=0.8, val_size=0.1, test_size=0.1, \n",
        "    random_state=None, shuffle=True):\n",
        "        \n",
        "    assert train_size + val_size + test_size == 1\n",
        "    \n",
        "    X_train_val, X_test, y_train_val, y_test = train_test_split(\n",
        "        X, y, test_size=test_size, random_state=random_state, shuffle=shuffle)\n",
        "    \n",
        "    X_train, X_val, y_train, y_val = train_test_split(\n",
        "        X_train_val, y_train_val, test_size=val_size/(train_size+val_size), \n",
        "        random_state=random_state, shuffle=shuffle)\n",
        "    \n",
        "    return X_train, X_val, X_test, y_train, y_val, y_test"
      ],
      "execution_count": 0,
      "outputs": []
    },
    {
      "metadata": {
        "colab_type": "text",
        "id": "OWLBlu5K5kJR"
      },
      "cell_type": "markdown",
      "source": [
        "## Fun demo!\n",
        "\n",
        "The next code cell does five things:\n",
        "\n",
        "#### 1. Generate data\n",
        "\n",
        "We use scikit-learn's [make_classification](https://scikit-learn.org/stable/modules/generated/sklearn.datasets.make_classification.html) function to generate fake data for a binary classification problem, based on several parameters, including:\n",
        "- Number of samples\n",
        "- Weights, meaning \"the proportions of samples assigned to each class.\"\n",
        "- Class separation: \"Larger values spread out the clusters/classes and make the classification task easier.\"\n",
        "\n",
        "(We are generating fake data so it is easy to visualize.)\n",
        "\n",
        "#### 2. Split data\n",
        "\n",
        "We split the data three ways, into train, validation, and test sets. (For this toy example, it's not really necessary to do a three-way split. A two-way split, or even no split, would be ok. But I'm trying to demonstrate good habits, even in toy examples, to avoid confusion.)\n",
        "\n",
        "#### 3. Fit model\n",
        "\n",
        "We use scikit-learn to fit a [Logistic Regression](https://scikit-learn.org/stable/modules/generated/sklearn.linear_model.LogisticRegression.html) on the training data.\n",
        "\n",
        "We use this model parameter:\n",
        "\n",
        "> **class_weight : _dict or ‘balanced’, default: None_**\n",
        "\n",
        "> Weights associated with classes in the form `{class_label: weight}`. If not given, all classes are supposed to have weight one.\n",
        "\n",
        "> The “balanced” mode uses the values of y to automatically adjust weights inversely proportional to class frequencies in the input data as `n_samples / (n_classes * np.bincount(y))`.\n",
        "\n",
        "\n",
        "#### 4. Evaluate model\n",
        "\n",
        "We use our Logistic Regression model, which was fit on the training data, to generate predictions for the validation data.\n",
        "\n",
        "Then we print [scikit-learn's Classification Report](https://scikit-learn.org/stable/modules/model_evaluation.html#classification-report), with many metrics, and also the accuracy score. We are comparing the correct labels to the Logistic Regression's predicted labels, for the validation set. \n",
        "\n",
        "#### 5. Visualize decision function\n",
        "\n",
        "Based on these examples\n",
        "- https://imbalanced-learn.readthedocs.io/en/stable/auto_examples/combine/plot_comparison_combine.html\n",
        "- http://rasbt.github.io/mlxtend/user_guide/plotting/plot_decision_regions/#example-1-decision-regions-in-2d"
      ]
    },
    {
      "metadata": {
        "colab_type": "code",
        "id": "TcpoWCUq5xNV",
        "outputId": "a6aa1a52-b6bb-433a-9d56-a52e3deed0bb",
        "colab": {
          "base_uri": "https://localhost:8080/",
          "height": 544
        }
      },
      "cell_type": "code",
      "source": [
        "%matplotlib inline\n",
        "import matplotlib.pyplot as plt\n",
        "from sklearn.datasets import make_classification\n",
        "from sklearn.metrics import accuracy_score, classification_report\n",
        "from sklearn.linear_model import LogisticRegression\n",
        "from mlxtend.plotting import plot_decision_regions\n",
        "\n",
        "\n",
        "#1. Generate data\n",
        "\n",
        "# Try re-running the cell with different values for these parameters\n",
        "n_samples = 1000\n",
        "weights = (0.50, 0.50)\n",
        "class_sep = 0.8\n",
        "\n",
        "X, y = make_classification(n_samples=n_samples, n_features=2, n_informative=2, \n",
        "                           n_redundant=0, n_repeated=0, n_classes=2, \n",
        "                           n_clusters_per_class=1, weights=weights, \n",
        "                           class_sep=class_sep, random_state=0)\n",
        "\n",
        "\n",
        "# 2. Split data\n",
        "\n",
        "# Uses our custom train_validation_test_split function\n",
        "X_train, X_val, X_test, y_train, y_val, y_test = train_validation_test_split(\n",
        "    X, y, train_size=0.8, val_size=0.1, test_size=0.1, random_state=1)\n",
        "\n",
        "\n",
        "# 3. Fit model\n",
        "\n",
        "# Try re-running the cell with different values for this parameter\n",
        "class_weight = None\n",
        "\n",
        "model = LogisticRegression(solver='lbfgs', class_weight=class_weight)\n",
        "model.fit(X_train, y_train)\n",
        "\n",
        "\n",
        "# 4. Evaluate model\n",
        "\n",
        "y_pred = model.predict(X_val)\n",
        "print(classification_report(y_val, y_pred))\n",
        "print('accuracy', accuracy_score(y_val, y_pred))\n",
        "\n",
        "\n",
        "# 5. Visualize decision regions\n",
        "\n",
        "plt.figure(figsize=(10, 6))\n",
        "plot_decision_regions(X_val, y_val, model, legend=0);"
      ],
      "execution_count": 0,
      "outputs": [
        {
          "output_type": "stream",
          "text": [
            "              precision    recall  f1-score   support\n",
            "\n",
            "           0       0.96      0.92      0.94        48\n",
            "           1       0.93      0.96      0.94        52\n",
            "\n",
            "   micro avg       0.94      0.94      0.94       100\n",
            "   macro avg       0.94      0.94      0.94       100\n",
            "weighted avg       0.94      0.94      0.94       100\n",
            "\n",
            "accuracy 0.94\n"
          ],
          "name": "stdout"
        },
        {
          "output_type": "display_data",
          "data": {
            "image/png": "iVBORw0KGgoAAAANSUhEUgAAAk4AAAFlCAYAAAAd2medAAAABHNCSVQICAgIfAhkiAAAAAlwSFlz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\n",
            "text/plain": [
              "<Figure size 720x432 with 1 Axes>"
            ]
          },
          "metadata": {
            "tags": []
          }
        }
      ]
    },
    {
      "metadata": {
        "colab_type": "text",
        "id": "zrllN3yECsEN"
      },
      "cell_type": "markdown",
      "source": [
        "Try re-running the cell above with different values for these four parameters:\n",
        "- `n_samples`\n",
        "- `weights`\n",
        "- `class_sep`\n",
        "- `class_balance`\n",
        "\n",
        "For example, with a 50% / 50% class distribution:\n",
        "```\n",
        "n_samples = 1000\n",
        "weights = (0.50, 0.50)\n",
        "class_sep = 0.8\n",
        "class_balance = None\n",
        "```\n",
        "\n",
        "With a 95% / 5% class distribution:\n",
        "```\n",
        "n_samples = 1000\n",
        "weights = (0.95, 0.05)\n",
        "class_sep = 0.8\n",
        "class_balance = None\n",
        "```\n",
        "\n",
        "With the same 95% / 5% class distribution, but changing the Logistic Regression's `class_balance` parameter to `'balanced'` (instead of its default `None`)\n",
        "```\n",
        "n_samples = 1000\n",
        "weights = (0.95, 0.05)\n",
        "class_sep = 0.8\n",
        "class_balance = 'balanced'\n",
        "```\n",
        "\n",
        "With the same 95% / 5% class distribution, but with different values for `class_balance`:\n",
        "- `{0: 1, 1: 1}` _(equivalent to `None`)_\n",
        "- `{1: 1, 1: 2}`\n",
        "- `{1: 1, 1: 10}` _(roughly equivalent to `'balanced'` for this dataset)_\n",
        "- `{1: 1, 1: 100}`\n",
        "- `{1: 1, 1: 10000}`\n",
        "\n",
        "How do the evaluation metrics and decision region plots change?"
      ]
    },
    {
      "metadata": {
        "colab_type": "text",
        "id": "5-3MS-jANssN"
      },
      "cell_type": "markdown",
      "source": [
        "## What you can do about imbalanced classes"
      ]
    },
    {
      "metadata": {
        "colab_type": "text",
        "id": "2KwgStd-yUUr"
      },
      "cell_type": "markdown",
      "source": [
        "[Learning from Imbalanced Classes](https://www.svds.com/tbt-learning-imbalanced-classes/) gives \"a rough outline of useful approaches\" : \n",
        "\n",
        "- Do nothing. Sometimes you get lucky and nothing needs to be done. You can train on the so-called natural (or stratified) distribution and sometimes it works without need for modification.\n",
        "- Balance the training set in some way:\n",
        "  - Oversample the minority class.\n",
        "  - Undersample the majority class.\n",
        "  - Synthesize new minority classes.\n",
        "- Throw away minority examples and switch to an anomaly detection framework.\n",
        "- At the algorithm level, or after it:\n",
        "  - Adjust the class weight (misclassification costs).\n",
        "  - Adjust the decision threshold.\n",
        "  - Modify an existing algorithm to be more sensitive to rare classes.\n",
        "- Construct an entirely new algorithm to perform well on imbalanced data.\n"
>>>>>>> 9f9ea7b2485b661049fdfae54bbad87bf149dc5b
      ]
     },
     "execution_count": 38,
     "metadata": {},
     "output_type": "execute_result"
    }
   ],
   "source": [
    "print('df.shape:', df.shape)\n",
    "df.head()"
   ]
  },
  {
   "cell_type": "code",
   "execution_count": 39,
   "metadata": {},
   "outputs": [
    {
<<<<<<< HEAD
     "name": "stdout",
     "output_type": "stream",
     "text": [
      "<class 'pandas.core.frame.DataFrame'>\n",
      "RangeIndex: 6362620 entries, 0 to 6362619\n",
      "Data columns (total 11 columns):\n",
      "step              int64\n",
      "type              object\n",
      "amount            float64\n",
      "nameOrig          object\n",
      "oldbalanceOrg     float64\n",
      "newbalanceOrig    float64\n",
      "nameDest          object\n",
      "oldbalanceDest    float64\n",
      "newbalanceDest    float64\n",
      "isFraud           int64\n",
      "isFlaggedFraud    int64\n",
      "dtypes: float64(5), int64(3), object(3)\n",
      "memory usage: 534.0+ MB\n"
     ]
    }
   ],
   "source": [
    "df.info()"
   ]
  },
  {
   "cell_type": "code",
   "execution_count": 40,
   "metadata": {},
   "outputs": [
    {
     "data": {
      "text/plain": [
       "0    0.998709\n",
       "1    0.001291\n",
       "Name: isFraud, dtype: float64"
=======
      "metadata": {
        "colab_type": "text",
        "id": "iO7kOZ2HN0EA"
      },
      "cell_type": "markdown",
      "source": [
        "We demonstrated just one of these options: many scikit-learn classifiers have a `class_balance` parameter, which we can use to \"adjust the class weight (misclassification costs).\"\n",
        "\n",
        "The [imbalance-learn](https://github.com/scikit-learn-contrib/imbalanced-learn) library can be used to \"oversample the minority class, undersample the majority class, or synthesize new minority classes.\"\n",
        "\n",
        "You can see how to \"adjust the decision threshold\" in a great blog post, [Visualizing Machine Learning Thresholds to Make Better Business Decisions](https://blog.insightdatascience.com/visualizing-machine-learning-thresholds-to-make-better-business-decisions-4ab07f823415)."
      ]
    },
    {
      "metadata": {
        "colab_type": "text",
        "id": "Xhh5TiW_X1_Q"
      },
      "cell_type": "markdown",
      "source": [
        "## Bank Marketing — getting started\n",
        "\n",
        "https://archive.ics.uci.edu/ml/datasets/Bank+Marketing\n",
        "\n",
        "The data is related with direct marketing campaigns of a Portuguese banking institution. The marketing campaigns were based on phone calls. Often, more than one contact to the same client was required, in order to access if the product (bank term deposit) would be ('yes') or not ('no') subscribed. \n",
        "\n",
        "bank-additional-full.csv with all examples (41188) and 20 inputs, **ordered by date (from May 2008 to November 2010)**"
>>>>>>> 9f9ea7b2485b661049fdfae54bbad87bf149dc5b
      ]
     },
     "execution_count": 40,
     "metadata": {},
     "output_type": "execute_result"
    }
   ],
   "source": [
    "pd.value_counts(df.isFraud, normalize = True)"
   ]
  },
  {
   "cell_type": "markdown",
   "metadata": {},
   "source": [
    "So we could just predict the value 0 for isFraud, and our accuracy score would be 99.87.\n",
    "Let's try some other metrics to see how good we are with just the mode (value 0) for isFraud."
   ]
  },
  {
   "cell_type": "code",
   "execution_count": 41,
   "metadata": {},
   "outputs": [
    {
<<<<<<< HEAD
     "data": {
      "text/plain": [
       "0.9987091795518198"
      ]
     },
     "execution_count": 41,
     "metadata": {},
     "output_type": "execute_result"
    }
   ],
   "source": [
    "majority_class = df.isFraud.mode()[0]\n",
    "y_pred = np.full(shape = df.isFraud.shape, fill_value = majority_class)\n",
    "accuracy_score(df.isFraud, y_pred)"
   ]
  },
  {
   "cell_type": "markdown",
   "metadata": {},
   "source": [
    "This is the same as our value count calculation.  This is what we should expect."
   ]
  },
  {
   "cell_type": "code",
   "execution_count": 42,
   "metadata": {},
   "outputs": [
    {
     "name": "stderr",
     "output_type": "stream",
     "text": [
      "/Users/samirgadkari/anaconda3/lib/python3.6/site-packages/sklearn/metrics/classification.py:1143: UndefinedMetricWarning: Precision and F-score are ill-defined and being set to 0.0 in labels with no predicted samples.\n",
      "  'precision', 'predicted', average, warn_for)\n"
     ]
    },
    {
     "name": "stdout",
     "output_type": "stream",
     "text": [
      "              precision    recall  f1-score   support\n",
      "\n",
      "           0       1.00      1.00      1.00   6354407\n",
      "           1       0.00      0.00      0.00      8213\n",
      "\n",
      "   micro avg       1.00      1.00      1.00   6362620\n",
      "   macro avg       0.50      0.50      0.50   6362620\n",
      "weighted avg       1.00      1.00      1.00   6362620\n",
      "\n"
     ]
    }
   ],
   "source": [
    "print(classification_report(df.isFraud, y_pred))"
   ]
  },
  {
   "cell_type": "markdown",
   "metadata": {},
   "source": [
    "Since there are very very few fraud cases,\n",
    "precision and recall is 1 for the no-fraud case (which is what we set our prediction to).\n",
    "It is not based on any fraud cases, so precision/recall for fraud = 0."
   ]
  },
  {
   "cell_type": "code",
   "execution_count": 43,
   "metadata": {},
   "outputs": [
    {
     "data": {
      "text/plain": [
       "0.5"
=======
      "metadata": {
        "colab_type": "text",
        "id": "n18wVnuxY-xl"
      },
      "cell_type": "markdown",
      "source": [
        "### Download data"
      ]
    },
    {
      "metadata": {
        "colab_type": "code",
        "id": "S-oHbkK1X1h2",
        "outputId": "dc8c7e34-dcab-449e-fe4e-4d2d4ab4f410",
        "colab": {
          "base_uri": "https://localhost:8080/",
          "height": 204
        }
      },
      "cell_type": "code",
      "source": [
        "!wget https://archive.ics.uci.edu/ml/machine-learning-databases/00222/bank-additional.zip"
      ],
      "execution_count": 0,
      "outputs": [
        {
          "output_type": "stream",
          "text": [
            "--2019-01-30 01:11:36--  https://archive.ics.uci.edu/ml/machine-learning-databases/00222/bank-additional.zip\n",
            "Resolving archive.ics.uci.edu (archive.ics.uci.edu)... 128.195.10.249\n",
            "Connecting to archive.ics.uci.edu (archive.ics.uci.edu)|128.195.10.249|:443... connected.\n",
            "HTTP request sent, awaiting response... 200 OK\n",
            "Length: 444572 (434K) [application/zip]\n",
            "Saving to: ‘bank-additional.zip.5’\n",
            "\n",
            "\rbank-additional.zip   0%[                    ]       0  --.-KB/s               \rbank-additional.zip  38%[======>             ] 168.00K   834KB/s               \rbank-additional.zip 100%[===================>] 434.15K  1.35MB/s    in 0.3s    \n",
            "\n",
            "2019-01-30 01:11:37 (1.35 MB/s) - ‘bank-additional.zip.5’ saved [444572/444572]\n",
            "\n"
          ],
          "name": "stdout"
        }
      ]
    },
    {
      "metadata": {
        "cellView": "both",
        "colab_type": "code",
        "id": "1INLmiipZA-y",
        "outputId": "b2a05eed-dd4d-4474-f0f4-deb40e6405a7",
        "colab": {
          "base_uri": "https://localhost:8080/",
          "height": 170
        }
      },
      "cell_type": "code",
      "source": [
        "!unzip bank-additional.zip"
      ],
      "execution_count": 0,
      "outputs": [
        {
          "output_type": "stream",
          "text": [
            "Archive:  bank-additional.zip\n",
            "replace bank-additional/.DS_Store? [y]es, [n]o, [A]ll, [N]one, [r]ename: A\n",
            "  inflating: bank-additional/.DS_Store  \n",
            "  inflating: __MACOSX/bank-additional/._.DS_Store  \n",
            "  inflating: bank-additional/.Rhistory  \n",
            "  inflating: bank-additional/bank-additional-full.csv  \n",
            "  inflating: bank-additional/bank-additional-names.txt  \n",
            "  inflating: bank-additional/bank-additional.csv  \n",
            "  inflating: __MACOSX/._bank-additional  \n"
          ],
          "name": "stdout"
        }
      ]
    },
    {
      "metadata": {
        "colab_type": "code",
        "id": "HwWCY5XrZCWk",
        "outputId": "6cb2b921-87d7-4ef0-eb66-c18b497ed3f9",
        "colab": {
          "base_uri": "https://localhost:8080/",
          "height": 34
        }
      },
      "cell_type": "code",
      "source": [
        "%cd bank-additional"
      ],
      "execution_count": 0,
      "outputs": [
        {
          "output_type": "stream",
          "text": [
            "/content/bank-additional\n"
          ],
          "name": "stdout"
        }
      ]
    },
    {
      "metadata": {
        "colab_type": "text",
        "id": "Zf49DcHTZPdE"
      },
      "cell_type": "markdown",
      "source": [
        "### Load data, assign to X and y"
      ]
    },
    {
      "metadata": {
        "colab_type": "code",
        "id": "OwhVgENcZEwo",
        "colab": {}
      },
      "cell_type": "code",
      "source": [
        "import pandas as pd\n",
        "\n",
        "bank = pd.read_csv('bank-additional-full.csv', sep=';')\n",
        "\n",
        "X = bank.drop(columns='y')\n",
        "y = bank['y'] == 'yes'"
      ],
      "execution_count": 0,
      "outputs": []
    },
    {
      "metadata": {
        "colab_type": "text",
        "id": "lq1it0dnZlX3"
      },
      "cell_type": "markdown",
      "source": [
        "### Split data"
>>>>>>> 9f9ea7b2485b661049fdfae54bbad87bf149dc5b
      ]
     },
     "execution_count": 43,
     "metadata": {},
     "output_type": "execute_result"
    }
   ],
   "source": [
    "roc_auc_score(df.isFraud, y_pred)"
   ]
  },
  {
   "cell_type": "markdown",
   "metadata": {},
   "source": [
    "ROC AUC score goes from 0.0 to 1.0. \n",
    "A score of 0.5 says that we're halfway to 1.0 with our simple prediction."
   ]
  },
  {
   "cell_type": "markdown",
   "metadata": {},
   "source": [
    "### Undersampling the data"
   ]
  },
  {
   "cell_type": "code",
   "execution_count": 44,
   "metadata": {},
   "outputs": [],
   "source": [
    "X = df.drop(['isFraud', 'type', 'nameOrig', 'nameDest'], axis = 1)\n",
    "y = df.isFraud"
   ]
  },
  {
   "cell_type": "code",
   "execution_count": 45,
   "metadata": {},
   "outputs": [
    {
<<<<<<< HEAD
     "data": {
      "text/plain": [
       "((18479, 7), (18479,))"
=======
      "metadata": {
        "colab_type": "text",
        "id": "P-FgY4pIaEXo"
      },
      "cell_type": "markdown",
      "source": [
        "We want to do \"model selection (hyperparameter optimization) and performance estimation\" so we'll choose a validation method from the diagram's green box.\n",
        "\n",
        "There is no one \"right\" choice here, but I'll choose \"3-way holdout method (train/validation/test split).\"\n",
        "  \n",
        "<img src=\"https://sebastianraschka.com/images/blog/2018/model-evaluation-selection-part4/model-eval-conclusions.jpg\" width=\"600\">\n",
        "\n",
        "Source: https://sebastianraschka.com/blog/2018/model-evaluation-selection-part4.html"
>>>>>>> 9f9ea7b2485b661049fdfae54bbad87bf149dc5b
      ]
     },
     "execution_count": 45,
     "metadata": {},
     "output_type": "execute_result"
    }
   ],
   "source": [
    "sampling_strategy = 0.8\n",
    "rus = RandomUnderSampler(sampling_strategy=sampling_strategy)\n",
    "\n",
    "X_res, y_res = rus.fit_resample(X, y)\n",
    "X_res.shape, y_res.shape"
   ]
  },
  {
   "cell_type": "code",
   "execution_count": 46,
   "metadata": {},
   "outputs": [
    {
<<<<<<< HEAD
     "data": {
      "text/plain": [
       "0    10266\n",
       "1     8213\n",
       "dtype: int64"
=======
      "metadata": {
        "colab_type": "text",
        "id": "V74i3GDcZnkm"
      },
      "cell_type": "markdown",
      "source": [
        "There's no one \"right\" choice here, but I'll choose to split by time, not with a random shuffle, based on this advice by [Rachel Thomas](\n",
        "https://www.fast.ai/2017/11/13/validation-sets/):\n",
        "> If your data is a time series, choosing a random subset of the data will be both too easy (you can look at the data both before and after the dates your are trying to predict) and not representative of most business use cases (where you are using historical data to build a model for use in the future).\n",
        "\n",
        "[According to UCI](https://archive.ics.uci.edu/ml/datasets/Bank+Marketing), this data is \"ordered by date (from May 2008 to November 2010)\" so if I don't shuffle it when splitting, then it will be split by time."
>>>>>>> 9f9ea7b2485b661049fdfae54bbad87bf149dc5b
      ]
     },
     "execution_count": 46,
     "metadata": {},
     "output_type": "execute_result"
    }
   ],
   "source": [
    "pd.value_counts(y_res)"
   ]
  },
  {
   "cell_type": "code",
   "execution_count": 47,
   "metadata": {},
   "outputs": [
    {
<<<<<<< HEAD
     "data": {
      "text/html": [
       "<div>\n",
       "<style scoped>\n",
       "    .dataframe tbody tr th:only-of-type {\n",
       "        vertical-align: middle;\n",
       "    }\n",
       "\n",
       "    .dataframe tbody tr th {\n",
       "        vertical-align: top;\n",
       "    }\n",
       "\n",
       "    .dataframe thead th {\n",
       "        text-align: right;\n",
       "    }\n",
       "</style>\n",
       "<table border=\"1\" class=\"dataframe\">\n",
       "  <thead>\n",
       "    <tr style=\"text-align: right;\">\n",
       "      <th></th>\n",
       "      <th>step</th>\n",
       "      <th>amount</th>\n",
       "      <th>oldbalanceOrg</th>\n",
       "      <th>newbalanceOrig</th>\n",
       "      <th>oldbalanceDest</th>\n",
       "      <th>newbalanceDest</th>\n",
       "      <th>isFlaggedFraud</th>\n",
       "    </tr>\n",
       "  </thead>\n",
       "  <tbody>\n",
       "    <tr>\n",
       "      <th>0</th>\n",
       "      <td>227.0</td>\n",
       "      <td>29780.22</td>\n",
       "      <td>12069.00</td>\n",
       "      <td>0.00</td>\n",
       "      <td>0.00</td>\n",
       "      <td>0.00</td>\n",
       "      <td>0.0</td>\n",
       "    </tr>\n",
       "    <tr>\n",
       "      <th>1</th>\n",
       "      <td>356.0</td>\n",
       "      <td>77446.21</td>\n",
       "      <td>0.00</td>\n",
       "      <td>0.00</td>\n",
       "      <td>81938.33</td>\n",
       "      <td>159384.54</td>\n",
       "      <td>0.0</td>\n",
       "    </tr>\n",
       "    <tr>\n",
       "      <th>2</th>\n",
       "      <td>208.0</td>\n",
       "      <td>37142.13</td>\n",
       "      <td>171418.00</td>\n",
       "      <td>208560.13</td>\n",
       "      <td>743131.12</td>\n",
       "      <td>705988.99</td>\n",
       "      <td>0.0</td>\n",
       "    </tr>\n",
       "    <tr>\n",
       "      <th>3</th>\n",
       "      <td>282.0</td>\n",
       "      <td>74710.06</td>\n",
       "      <td>2798078.26</td>\n",
       "      <td>2872788.31</td>\n",
       "      <td>3149561.00</td>\n",
       "      <td>3074850.94</td>\n",
       "      <td>0.0</td>\n",
       "    </tr>\n",
       "    <tr>\n",
       "      <th>4</th>\n",
       "      <td>401.0</td>\n",
       "      <td>93851.90</td>\n",
       "      <td>145987.00</td>\n",
       "      <td>239838.90</td>\n",
       "      <td>0.00</td>\n",
       "      <td>0.00</td>\n",
       "      <td>0.0</td>\n",
       "    </tr>\n",
       "  </tbody>\n",
       "</table>\n",
       "</div>"
      ],
      "text/plain": [
       "    step    amount  oldbalanceOrg  newbalanceOrig  oldbalanceDest  \\\n",
       "0  227.0  29780.22       12069.00            0.00            0.00   \n",
       "1  356.0  77446.21           0.00            0.00        81938.33   \n",
       "2  208.0  37142.13      171418.00       208560.13       743131.12   \n",
       "3  282.0  74710.06     2798078.26      2872788.31      3149561.00   \n",
       "4  401.0  93851.90      145987.00       239838.90            0.00   \n",
       "\n",
       "   newbalanceDest  isFlaggedFraud  \n",
       "0            0.00             0.0  \n",
       "1       159384.54             0.0  \n",
       "2       705988.99             0.0  \n",
       "3      3074850.94             0.0  \n",
       "4            0.00             0.0  "
=======
      "metadata": {
        "colab_type": "code",
        "id": "-xnw-vfOamHH",
        "colab": {}
      },
      "cell_type": "code",
      "source": [
        "X_train, X_val, X_test, y_train, y_val, y_test = train_validation_test_split(\n",
        "    X, y, shuffle=False)"
      ],
      "execution_count": 0,
      "outputs": []
    },
    {
      "metadata": {
        "colab_type": "text",
        "id": "12dWJxXabDxt"
      },
      "cell_type": "markdown",
      "source": [
        "## Bank Marketing — live coding!"
>>>>>>> 9f9ea7b2485b661049fdfae54bbad87bf149dc5b
      ]
     },
     "execution_count": 47,
     "metadata": {},
     "output_type": "execute_result"
    }
   ],
   "source": [
    "cols_numeric = ['step', 'amount', 'oldbalanceOrg', 'newbalanceOrig',\n",
    "                'oldbalanceDest', 'newbalanceDest', 'isFlaggedFraud']\n",
    "df_rus = pd.DataFrame(X_res, columns = cols_numeric)\n",
    "df_rus.head()"
   ]
  },
  {
   "cell_type": "code",
   "execution_count": 48,
   "metadata": {},
   "outputs": [
    {
     "name": "stdout",
     "output_type": "stream",
     "text": [
      "              precision    recall  f1-score   support\n",
      "\n",
      "           0       0.92      0.90      0.91      1035\n",
      "           1       0.88      0.90      0.89       813\n",
      "\n",
      "   micro avg       0.90      0.90      0.90      1848\n",
      "   macro avg       0.90      0.90      0.90      1848\n",
      "weighted avg       0.90      0.90      0.90      1848\n",
      "\n",
      "accuracy 0.900974025974026\n"
     ]
    },
    {
<<<<<<< HEAD
     "name": "stderr",
     "output_type": "stream",
     "text": [
      "/Users/samirgadkari/anaconda3/lib/python3.6/site-packages/sklearn/linear_model/logistic.py:433: FutureWarning: Default solver will be changed to 'lbfgs' in 0.22. Specify a solver to silence this warning.\n",
      "  FutureWarning)\n"
     ]
    },
    {
     "data": {
      "text/plain": [
       "0.9007772251635561"
      ]
     },
     "execution_count": 48,
     "metadata": {},
     "output_type": "execute_result"
=======
      "metadata": {
        "colab_type": "text",
        "id": "P_XjBTW5SBwZ"
      },
      "cell_type": "markdown",
      "source": [
        "# ASSIGNMENT options\n",
        "\n",
        "Replicate code from the lesson or other examples. [Do it \"the hard way\" or with the \"Benjamin Franklin method.\"](https://docs.google.com/document/d/1ubOw9B3Hfip27hF2ZFnW3a3z9xAgrUDRReOEo-FHCVs/edit)\n",
        "\n",
        "Work with one of these datasets\n",
        "- [Bank Marketing](https://archive.ics.uci.edu/ml/datasets/Bank+Marketing)\n",
        "- [Synthetic Financial Dataset For Fraud Detection](https://www.kaggle.com/ntnu-testimon/paysim1)\n",
        "- Any imbalanced binary classification dataset\n",
        "\n",
        "Continue improving your model. Measure validation performance with a variety of classification metrics, which could include:\n",
        "- Accuracy\n",
        "- Precision\n",
        "- Recall\n",
        "- F1\n",
        "- ROC AUC\n",
        "\n",
        "Try one of the other options mentioned for imbalanced classes\n",
        "- The [imbalance-learn](https://github.com/scikit-learn-contrib/imbalanced-learn) library can be used to \"oversample the minority class, undersample the majority class, or synthesize new minority classes.\"\n",
        "- You can see how to \"adjust the decision threshold\" in a great blog post, [Visualizing Machine Learning Thresholds to Make Better Business Decisions](https://blog.insightdatascience.com/visualizing-machine-learning-thresholds-to-make-better-business-decisions-4ab07f823415)."
      ]
    },
    {
      "metadata": {
        "id": "1JpnWW1lAshJ",
        "colab_type": "text"
      },
      "cell_type": "markdown",
      "source": [
        "## Synthetic Financial Dataset for Fraud Detection\n",
        "\n",
        "  - step: Maps a unit of time in the real world. In this case 1 step is 1 hour of time.\n",
        "  - type: CASH-IN, CASH-OUT, DEBIT, PAYMENT and TRANSFER\n",
        "  - amount:        amount of the transaction in local currency\n",
        "  - name:            Origcustomer who started the transaction\n",
        "  - oldbalance:   Orginitial balance before the transaction\n",
        "  - newbalance: Origcustomer's balance after the transaction.\n",
        "  - name: Destrecipient ID of the transaction.\n",
        "  - oldbalance: Destinitial recipient balance before the transaction.\n",
        "  - newbalance: Destrecipient's balance after the transaction.\n",
        "  - isFraud: identifies a fraudulent transaction (1) and non fraudulent (0)\n",
        "  - isFlaggedFraud: flags illegal attempts to transfer more than 200.000 in a single transaction."
      ]
    },
    {
      "metadata": {
        "id": "cBUpj5AwAshO",
        "colab_type": "code",
        "colab": {}
      },
      "cell_type": "code",
      "source": [
        "import matplotlib.pyplot as plt\n",
        "%matplotlib inline\n",
        "import seaborn as sns\n",
        "\n",
        "from sklearn.datasets import make_classification\n",
        "from sklearn.metrics import accuracy_score, classification_report\n",
        "from sklearn.linear_model import LogisticRegression\n",
        "from mlxtend.plotting import plot_decision_regions\n",
        "from sklearn.metrics import roc_auc_score\n",
        "\n",
        "import numpy as np\n",
        "import pandas as pd"
      ],
      "execution_count": 0,
      "outputs": []
    },
    {
      "metadata": {
        "id": "3q_pZWH9US4N",
        "colab_type": "code",
        "outputId": "27123cef-d5d7-4207-c06e-b12cc36479bb",
        "colab": {
          "base_uri": "https://localhost:8080/",
          "height": 85
        }
      },
      "cell_type": "code",
      "source": [
        "!ls -l"
      ],
      "execution_count": 32,
      "outputs": [
        {
          "output_type": "stream",
          "text": [
            "total 1840\n",
            "-rw-r--r-- 1 root root 1704435 Jan 30 01:32 sampled_20000.csv\n",
            "-rw-r--r-- 1 root root  171075 Jan 30 01:22 sampled_2000.csv\n",
            "drwxr-xr-x 1 root root    4096 Jan 28 17:05 sample_data\n"
          ],
          "name": "stdout"
        }
      ]
    },
    {
      "metadata": {
        "id": "X00xgRt-AshR",
        "colab_type": "code",
        "colab": {}
      },
      "cell_type": "code",
      "source": [
        "cols = ['step', 'type', 'amount', 'nameOrig', 'oldbalanceOrg', 'newbalanceOrig',\n",
        "        'nameDest', 'oldbalanceDest', 'newbalanceDest', 'isFraud', 'isFlaggedFraud']\n",
        "df = pd.read_csv('sampled_20000.csv', header = 0, names = cols)"
      ],
      "execution_count": 0,
      "outputs": []
    },
    {
      "metadata": {
        "id": "T273Sp0sAshT",
        "colab_type": "code",
        "colab": {
          "base_uri": "https://localhost:8080/",
          "height": 241
        },
        "outputId": "f3055dc8-8912-45ed-c1db-ed08acb55a7e"
      },
      "cell_type": "code",
      "source": [
        "print('df.shape:', df.shape)\n",
        "df.head()"
      ],
      "execution_count": 34,
      "outputs": [
        {
          "output_type": "stream",
          "text": [
            "df.shape: (20000, 11)\n"
          ],
          "name": "stdout"
        },
        {
          "output_type": "execute_result",
          "data": {
            "text/html": [
              "<div>\n",
              "<style scoped>\n",
              "    .dataframe tbody tr th:only-of-type {\n",
              "        vertical-align: middle;\n",
              "    }\n",
              "\n",
              "    .dataframe tbody tr th {\n",
              "        vertical-align: top;\n",
              "    }\n",
              "\n",
              "    .dataframe thead th {\n",
              "        text-align: right;\n",
              "    }\n",
              "</style>\n",
              "<table border=\"1\" class=\"dataframe\">\n",
              "  <thead>\n",
              "    <tr style=\"text-align: right;\">\n",
              "      <th></th>\n",
              "      <th>step</th>\n",
              "      <th>type</th>\n",
              "      <th>amount</th>\n",
              "      <th>nameOrig</th>\n",
              "      <th>oldbalanceOrg</th>\n",
              "      <th>newbalanceOrig</th>\n",
              "      <th>nameDest</th>\n",
              "      <th>oldbalanceDest</th>\n",
              "      <th>newbalanceDest</th>\n",
              "      <th>isFraud</th>\n",
              "      <th>isFlaggedFraud</th>\n",
              "    </tr>\n",
              "  </thead>\n",
              "  <tbody>\n",
              "    <tr>\n",
              "      <th>4864509</th>\n",
              "      <td>348</td>\n",
              "      <td>CASH_IN</td>\n",
              "      <td>132190.25</td>\n",
              "      <td>C1329990580</td>\n",
              "      <td>7281664.85</td>\n",
              "      <td>7413855.11</td>\n",
              "      <td>C1506194811</td>\n",
              "      <td>3511993.03</td>\n",
              "      <td>3379802.78</td>\n",
              "      <td>0</td>\n",
              "      <td>0</td>\n",
              "    </tr>\n",
              "    <tr>\n",
              "      <th>6240761</th>\n",
              "      <td>595</td>\n",
              "      <td>TRANSFER</td>\n",
              "      <td>72705.88</td>\n",
              "      <td>C432082138</td>\n",
              "      <td>0.00</td>\n",
              "      <td>0.00</td>\n",
              "      <td>C1353661413</td>\n",
              "      <td>338413.65</td>\n",
              "      <td>411119.53</td>\n",
              "      <td>0</td>\n",
              "      <td>0</td>\n",
              "    </tr>\n",
              "    <tr>\n",
              "      <th>5622500</th>\n",
              "      <td>395</td>\n",
              "      <td>PAYMENT</td>\n",
              "      <td>10535.69</td>\n",
              "      <td>C689814136</td>\n",
              "      <td>696.00</td>\n",
              "      <td>0.00</td>\n",
              "      <td>M1887444884</td>\n",
              "      <td>0.00</td>\n",
              "      <td>0.00</td>\n",
              "      <td>0</td>\n",
              "      <td>0</td>\n",
              "    </tr>\n",
              "    <tr>\n",
              "      <th>503277</th>\n",
              "      <td>20</td>\n",
              "      <td>PAYMENT</td>\n",
              "      <td>16086.68</td>\n",
              "      <td>C1822944502</td>\n",
              "      <td>273430.19</td>\n",
              "      <td>257343.51</td>\n",
              "      <td>M557753743</td>\n",
              "      <td>0.00</td>\n",
              "      <td>0.00</td>\n",
              "      <td>0</td>\n",
              "      <td>0</td>\n",
              "    </tr>\n",
              "    <tr>\n",
              "      <th>3680282</th>\n",
              "      <td>276</td>\n",
              "      <td>CASH_IN</td>\n",
              "      <td>172704.44</td>\n",
              "      <td>C963051789</td>\n",
              "      <td>2289237.16</td>\n",
              "      <td>2461941.60</td>\n",
              "      <td>C1777271201</td>\n",
              "      <td>1904816.67</td>\n",
              "      <td>1732112.23</td>\n",
              "      <td>0</td>\n",
              "      <td>0</td>\n",
              "    </tr>\n",
              "  </tbody>\n",
              "</table>\n",
              "</div>"
            ],
            "text/plain": [
              "         step      type     amount     nameOrig  oldbalanceOrg  \\\n",
              "4864509   348   CASH_IN  132190.25  C1329990580     7281664.85   \n",
              "6240761   595  TRANSFER   72705.88   C432082138           0.00   \n",
              "5622500   395   PAYMENT   10535.69   C689814136         696.00   \n",
              "503277     20   PAYMENT   16086.68  C1822944502      273430.19   \n",
              "3680282   276   CASH_IN  172704.44   C963051789     2289237.16   \n",
              "\n",
              "         newbalanceOrig     nameDest  oldbalanceDest  newbalanceDest  isFraud  \\\n",
              "4864509      7413855.11  C1506194811      3511993.03      3379802.78        0   \n",
              "6240761            0.00  C1353661413       338413.65       411119.53        0   \n",
              "5622500            0.00  M1887444884            0.00            0.00        0   \n",
              "503277        257343.51   M557753743            0.00            0.00        0   \n",
              "3680282      2461941.60  C1777271201      1904816.67      1732112.23        0   \n",
              "\n",
              "         isFlaggedFraud  \n",
              "4864509               0  \n",
              "6240761               0  \n",
              "5622500               0  \n",
              "503277                0  \n",
              "3680282               0  "
            ]
          },
          "metadata": {
            "tags": []
          },
          "execution_count": 34
        }
      ]
    },
    {
      "metadata": {
        "id": "Z2HvaoqkAshZ",
        "colab_type": "code",
        "colab": {
          "base_uri": "https://localhost:8080/",
          "height": 289
        },
        "outputId": "aa513e75-f376-4c26-8653-95e260a8e787"
      },
      "cell_type": "code",
      "source": [
        "df.info()"
      ],
      "execution_count": 35,
      "outputs": [
        {
          "output_type": "stream",
          "text": [
            "<class 'pandas.core.frame.DataFrame'>\n",
            "Int64Index: 20000 entries, 4864509 to 2836811\n",
            "Data columns (total 11 columns):\n",
            "step              20000 non-null int64\n",
            "type              20000 non-null object\n",
            "amount            20000 non-null float64\n",
            "nameOrig          20000 non-null object\n",
            "oldbalanceOrg     20000 non-null float64\n",
            "newbalanceOrig    20000 non-null float64\n",
            "nameDest          20000 non-null object\n",
            "oldbalanceDest    20000 non-null float64\n",
            "newbalanceDest    20000 non-null float64\n",
            "isFraud           20000 non-null int64\n",
            "isFlaggedFraud    20000 non-null int64\n",
            "dtypes: float64(5), int64(3), object(3)\n",
            "memory usage: 1.8+ MB\n"
          ],
          "name": "stdout"
        }
      ]
    },
    {
      "metadata": {
        "id": "zFRh8-GpAshc",
        "colab_type": "code",
        "colab": {
          "base_uri": "https://localhost:8080/",
          "height": 68
        },
        "outputId": "1306b8d7-cbc5-4838-e1a8-ae9535642510"
      },
      "cell_type": "code",
      "source": [
        "pd.value_counts(df.isFraud, normalize = True)"
      ],
      "execution_count": 36,
      "outputs": [
        {
          "output_type": "execute_result",
          "data": {
            "text/plain": [
              "0    0.99905\n",
              "1    0.00095\n",
              "Name: isFraud, dtype: float64"
            ]
          },
          "metadata": {
            "tags": []
          },
          "execution_count": 36
        }
      ]
    },
    {
      "metadata": {
        "id": "EsXSqrS3Ashf",
        "colab_type": "text"
      },
      "cell_type": "markdown",
      "source": [
        "So we could just predict the value 0 for isFraud, and our accuracy score would be 99.87.\n",
        "Let's try some other metrics to see how good we are with just the mode (value 0) for isFraud."
      ]
    },
    {
      "metadata": {
        "id": "LRHjayLLAshg",
        "colab_type": "code",
        "colab": {
          "base_uri": "https://localhost:8080/",
          "height": 34
        },
        "outputId": "a58f3626-46d6-4457-9208-05c0ea6194a2"
      },
      "cell_type": "code",
      "source": [
        "majority_class = df.isFraud.mode()[0]\n",
        "y_pred = np.full(shape = df.isFraud.shape, fill_value = majority_class)\n",
        "accuracy_score(df.isFraud, y_pred)"
      ],
      "execution_count": 37,
      "outputs": [
        {
          "output_type": "execute_result",
          "data": {
            "text/plain": [
              "0.99905"
            ]
          },
          "metadata": {
            "tags": []
          },
          "execution_count": 37
        }
      ]
    },
    {
      "metadata": {
        "id": "JSWemtjDAshi",
        "colab_type": "text"
      },
      "cell_type": "markdown",
      "source": [
        "This is the same as our value count calculation.  This is what we should expect."
      ]
    },
    {
      "metadata": {
        "id": "IpPpglC2Ashk",
        "colab_type": "code",
        "colab": {
          "base_uri": "https://localhost:8080/",
          "height": 224
        },
        "outputId": "6ea713fc-0ae3-4dfc-c57e-56f627d60704"
      },
      "cell_type": "code",
      "source": [
        "print(classification_report(df.isFraud, y_pred))"
      ],
      "execution_count": 38,
      "outputs": [
        {
          "output_type": "stream",
          "text": [
            "              precision    recall  f1-score   support\n",
            "\n",
            "           0       1.00      1.00      1.00     19981\n",
            "           1       0.00      0.00      0.00        19\n",
            "\n",
            "   micro avg       1.00      1.00      1.00     20000\n",
            "   macro avg       0.50      0.50      0.50     20000\n",
            "weighted avg       1.00      1.00      1.00     20000\n",
            "\n"
          ],
          "name": "stdout"
        },
        {
          "output_type": "stream",
          "text": [
            "/usr/local/lib/python3.6/dist-packages/sklearn/metrics/classification.py:1143: UndefinedMetricWarning: Precision and F-score are ill-defined and being set to 0.0 in labels with no predicted samples.\n",
            "  'precision', 'predicted', average, warn_for)\n"
          ],
          "name": "stderr"
        }
      ]
    },
    {
      "metadata": {
        "id": "olVNYBhgAshm",
        "colab_type": "text"
      },
      "cell_type": "markdown",
      "source": [
        "Since there are very very few fraud cases,\n",
        "precision and recall is 1 for the no-fraud case (which is what we set our prediction to).\n",
        "It is not based on any fraud cases, so precision/recall for fraud = 0."
      ]
    },
    {
      "metadata": {
        "id": "td7CJU91Ashm",
        "colab_type": "code",
        "colab": {
          "base_uri": "https://localhost:8080/",
          "height": 34
        },
        "outputId": "06339a78-46fe-4c95-e9a8-4f4353905abb"
      },
      "cell_type": "code",
      "source": [
        "roc_auc_score(df.isFraud, y_pred)"
      ],
      "execution_count": 39,
      "outputs": [
        {
          "output_type": "execute_result",
          "data": {
            "text/plain": [
              "0.5"
            ]
          },
          "metadata": {
            "tags": []
          },
          "execution_count": 39
        }
      ]
    },
    {
      "metadata": {
        "id": "l4fl_ODUAshp",
        "colab_type": "text"
      },
      "cell_type": "markdown",
      "source": [
        "ROC AUC score goes from 0.0 to 1.0. \n",
        "A score of 0.5 says that we're halfway to 1.0 with our simple prediction."
      ]
    },
    {
      "metadata": {
        "id": "Y1W4faW0Ashq",
        "colab_type": "code",
        "colab": {}
      },
      "cell_type": "code",
      "source": [
        "# sns.pairplot(data = df,\n",
        "#              x_vars = df.drop(['isFraud'], axis = 1).columns,\n",
        "#              y_vars = 'isFraud');"
      ],
      "execution_count": 0,
      "outputs": []
    },
    {
      "metadata": {
        "id": "oo2JgLcjNDzu",
        "colab_type": "text"
      },
      "cell_type": "markdown",
      "source": [
        "Looks like there is some relation between these columns and isFraud:\n",
        "  - type\n",
        "  - amount (smaller values are more related to fraud)\n",
        "  - "
      ]
    },
    {
      "metadata": {
        "id": "DNaGbwAgAshs",
        "colab_type": "code",
        "colab": {
          "base_uri": "https://localhost:8080/",
          "height": 68
        },
        "outputId": "fb5bc2d3-344e-4d04-c0fa-053ec633ba06"
      },
      "cell_type": "code",
      "source": [
        "pd.value_counts(df.isFraud)"
      ],
      "execution_count": 41,
      "outputs": [
        {
          "output_type": "execute_result",
          "data": {
            "text/plain": [
              "0    19981\n",
              "1       19\n",
              "Name: isFraud, dtype: int64"
            ]
          },
          "metadata": {
            "tags": []
          },
          "execution_count": 41
        }
      ]
    },
    {
      "metadata": {
        "id": "4exQ5RgeAshu",
        "colab_type": "code",
        "colab": {
          "base_uri": "https://localhost:8080/",
          "height": 187
        },
        "outputId": "026c69b5-6c34-48cf-f306-127ba68a4f52"
      },
      "cell_type": "code",
      "source": [
        "X = df.drop(['isFraud', 'type', 'nameOrig', 'nameDest'], axis = 1).values\n",
        "y = df.isFraud.values\n",
        "\n",
        "X_train, X_val, X_test, y_train, y_val, y_test = train_validation_test_split(\n",
        "    X, y, train_size=0.8, val_size=0.1, test_size=0.1)\n",
        "\n",
        "\n",
        "# 3. Fit model\n",
        "\n",
        "# Try re-running the cell with different values for this parameter\n",
        "class_weight = {0: 1, 1: 10}\n",
        "\n",
        "model = LogisticRegression(solver = 'lbfgs', class_weight=class_weight)\n",
        "model.fit(X_train, y_train)\n",
        "\n",
        "\n",
        "# 4. Evaluate model\n",
        "\n",
        "y_pred = model.predict(X_val)\n",
        "print(classification_report(y_val, y_pred))\n",
        "print('accuracy', accuracy_score(y_val, y_pred))\n",
        "\n",
        "\n",
        "# 5. Visualize decision regions\n",
        "# Will not be able to plot decision regions since\n",
        "# there are more than two features.\n",
        "# plt.figure(figsize=(10, 6))\n",
        "# plot_decision_regions(X_val, y_val, model, legend=0);"
      ],
      "execution_count": 46,
      "outputs": [
        {
          "output_type": "stream",
          "text": [
            "              precision    recall  f1-score   support\n",
            "\n",
            "           0       1.00      1.00      1.00      2000\n",
            "           1       0.00      0.00      0.00         1\n",
            "\n",
            "   micro avg       1.00      1.00      1.00      2001\n",
            "   macro avg       0.50      0.50      0.50      2001\n",
            "weighted avg       1.00      1.00      1.00      2001\n",
            "\n",
            "accuracy 0.9965017491254373\n"
          ],
          "name": "stdout"
        }
      ]
    },
    {
      "metadata": {
        "id": "2dIFxshtAshx",
        "colab_type": "code",
        "colab": {}
      },
      "cell_type": "code",
      "source": [
        ""
      ],
      "execution_count": 0,
      "outputs": []
    },
    {
      "metadata": {
        "id": "GsSQFwtfAshy",
        "colab_type": "code",
        "colab": {}
      },
      "cell_type": "code",
      "source": [
        ""
      ],
      "execution_count": 0,
      "outputs": []
    },
    {
      "metadata": {
        "id": "LoZm0f6aAsh1",
        "colab_type": "code",
        "colab": {}
      },
      "cell_type": "code",
      "source": [
        ""
      ],
      "execution_count": 0,
      "outputs": []
    },
    {
      "metadata": {
        "id": "YYLQ6OBGAsh3",
        "colab_type": "code",
        "colab": {}
      },
      "cell_type": "code",
      "source": [
        ""
      ],
      "execution_count": 0,
      "outputs": []
>>>>>>> 9f9ea7b2485b661049fdfae54bbad87bf149dc5b
    }
   ],
   "source": [
    "X_train, X_val, X_test, y_train, y_val, y_test = train_validation_test_split(\n",
    "    X_res, y_res, train_size=0.8, val_size=0.1, test_size=0.1, random_state=1)\n",
    "class_weight = {0: 4, 1: 5}\n",
    "model = LogisticRegression(class_weight=class_weight)\n",
    "model.fit(X_train, y_train)\n",
    "\n",
    "y_pred = model.predict(X_val)\n",
    "print(classification_report(y_val, y_pred))\n",
    "print('accuracy', accuracy_score(y_val, y_pred))\n",
    "roc_auc_score(y_val, y_pred)"
   ]
  },
  {
   "cell_type": "code",
   "execution_count": null,
   "metadata": {},
   "outputs": [],
   "source": []
  }
 ],
 "metadata": {
  "colab": {
   "collapsed_sections": [],
   "name": "LS_DS_242_Validate_classification_problems.ipynb",
   "provenance": [],
   "version": "0.3.2"
  },
  "kernelspec": {
   "display_name": "Python 3",
   "language": "python",
   "name": "python3"
  },
  "language_info": {
   "codemirror_mode": {
    "name": "ipython",
    "version": 3
   },
   "file_extension": ".py",
   "mimetype": "text/x-python",
   "name": "python",
   "nbconvert_exporter": "python",
   "pygments_lexer": "ipython3",
   "version": "3.6.7"
  }
 },
 "nbformat": 4,
 "nbformat_minor": 1
}
