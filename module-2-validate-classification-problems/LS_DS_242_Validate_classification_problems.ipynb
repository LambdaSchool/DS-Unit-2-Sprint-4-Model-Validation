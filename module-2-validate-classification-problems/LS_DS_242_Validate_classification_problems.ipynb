{
 "cells": [
  {
   "cell_type": "markdown",
   "metadata": {
    "colab_type": "text",
    "id": "KMI2k-oBsS08"
   },
   "source": [
    "# Validate classification problems\n",
    "_Lambda School Data Science — Model Validation_ \n",
    "Objectives\n",
    "- Classification Metrics: Precision, Recall, F1, ROC AUC\n",
    "- Confusion Matrix\n",
    "- Imbalanced Classes\n"
   ]
  },
  {
   "cell_type": "markdown",
   "metadata": {
    "colab_type": "text",
    "id": "SUZCkblZYN60"
   },
   "source": [
    "Reading\n",
    "- [Precision and Recall](https://en.wikipedia.org/wiki/Precision_and_recall)\n",
    "- [Simple guide to confusion matrix terminology](https://www.dataschool.io/simple-guide-to-confusion-matrix-terminology/)\n",
    "- [ROC curves and Area Under the Curve explained](https://www.dataschool.io/roc-curves-and-auc-explained/)"
   ]
  },
  {
   "cell_type": "markdown",
   "metadata": {
    "colab_type": "text",
    "id": "rU7RuVcjWdcp"
   },
   "source": [
    "## Preliminary setup"
   ]
  },
  {
   "cell_type": "markdown",
   "metadata": {
    "colab_type": "text",
    "id": "WIqp4yzdUsf2"
   },
   "source": [
    "#### Install [category_encoders](https://github.com/scikit-learn-contrib/categorical-encoding)\n",
    "- Google Colab: `pip install category_encoders`\n",
    "- Local, Anaconda: `conda install -c conda-forge category_encoders`\n",
    "\n",
    "#### Install  [mlxtend](http://rasbt.github.io/mlxtend/) to plot decision regions\n",
    "- Google Colab: Already installed\n",
    "- Local, Anaconda: `conda install -c conda-forge mlxtend`\n",
    "\n",
    "#### Get the Bank Marketing dataset from Kaggle ...\n",
    "- Download from the [Kaggle competition page](https://www.kaggle.com/c/ds2-model-validation/data)\n",
    "- Or use the Kaggle API\n",
    "\n",
    "#### ... or from GitHub\n",
    "- Clone the [repo](https://github.com/LambdaSchool/DS-Unit-2-Sprint-4-Model-Validation/tree/master/module-1-begin-modeling-process/bank-marketing)\n",
    "- Or download from the repo:"
   ]
  },
  {
   "cell_type": "code",
   "execution_count": 1,
   "metadata": {
    "colab": {},
    "colab_type": "code",
    "id": "Ut7wm5_xUqvz"
   },
   "outputs": [
    {
     "name": "stdout",
     "output_type": "stream",
     "text": [
      "--2019-03-05 14:37:30--  https://raw.githubusercontent.com/LambdaSchool/DS-Unit-2-Sprint-4-Model-Validation/master/module-1-begin-modeling-process/bank-marketing/train_features.csv\n",
      "Resolving raw.githubusercontent.com (raw.githubusercontent.com)... 151.101.204.133\n",
      "Connecting to raw.githubusercontent.com (raw.githubusercontent.com)|151.101.204.133|:443... connected.\n",
      "HTTP request sent, awaiting response... 200 OK\n",
      "Length: 3833210 (3.7M) [text/plain]\n",
      "Saving to: ‘train_features.csv’\n",
      "\n",
      "train_features.csv  100%[===================>]   3.66M  1.74MB/s    in 2.1s    \n",
      "\n",
      "2019-03-05 14:37:32 (1.74 MB/s) - ‘train_features.csv’ saved [3833210/3833210]\n",
      "\n",
      "--2019-03-05 14:37:32--  https://raw.githubusercontent.com/LambdaSchool/DS-Unit-2-Sprint-4-Model-Validation/master/module-1-begin-modeling-process/bank-marketing/train_labels.csv\n",
      "Resolving raw.githubusercontent.com (raw.githubusercontent.com)... 151.101.204.133\n",
      "Connecting to raw.githubusercontent.com (raw.githubusercontent.com)|151.101.204.133|:443... connected.\n",
      "HTTP request sent, awaiting response... 200 OK\n",
      "Length: 247133 (241K) [text/plain]\n",
      "Saving to: ‘train_labels.csv’\n",
      "\n",
      "train_labels.csv    100%[===================>] 241.34K  1.45MB/s    in 0.2s    \n",
      "\n",
      "2019-03-05 14:37:33 (1.45 MB/s) - ‘train_labels.csv’ saved [247133/247133]\n",
      "\n",
      "--2019-03-05 14:37:33--  https://raw.githubusercontent.com/LambdaSchool/DS-Unit-2-Sprint-4-Model-Validation/master/module-1-begin-modeling-process/bank-marketing/test_features.csv\n",
      "Resolving raw.githubusercontent.com (raw.githubusercontent.com)... 151.101.204.133\n",
      "Connecting to raw.githubusercontent.com (raw.githubusercontent.com)|151.101.204.133|:443... connected.\n",
      "HTTP request sent, awaiting response... 200 OK\n",
      "Length: 1277012 (1.2M) [text/plain]\n",
      "Saving to: ‘test_features.csv’\n",
      "\n",
      "test_features.csv   100%[===================>]   1.22M  2.59MB/s    in 0.5s    \n",
      "\n",
      "2019-03-05 14:37:33 (2.59 MB/s) - ‘test_features.csv’ saved [1277012/1277012]\n",
      "\n",
      "--2019-03-05 14:37:34--  https://raw.githubusercontent.com/LambdaSchool/DS-Unit-2-Sprint-4-Model-Validation/master/module-1-begin-modeling-process/bank-marketing/sample_submission.csv\n",
      "Resolving raw.githubusercontent.com (raw.githubusercontent.com)... 151.101.204.133\n",
      "Connecting to raw.githubusercontent.com (raw.githubusercontent.com)|151.101.204.133|:443... connected.\n",
      "HTTP request sent, awaiting response... 200 OK\n",
      "Length: 102975 (101K) [text/plain]\n",
      "Saving to: ‘sample_submission.csv’\n",
      "\n",
      "sample_submission.c 100%[===================>] 100.56K  --.-KB/s    in 0.06s   \n",
      "\n",
      "2019-03-05 14:37:34 (1.66 MB/s) - ‘sample_submission.csv’ saved [102975/102975]\n",
      "\n"
     ]
    }
   ],
   "source": [
    "!wget https://raw.githubusercontent.com/LambdaSchool/DS-Unit-2-Sprint-4-Model-Validation/master/module-1-begin-modeling-process/bank-marketing/train_features.csv\n",
    "!wget https://raw.githubusercontent.com/LambdaSchool/DS-Unit-2-Sprint-4-Model-Validation/master/module-1-begin-modeling-process/bank-marketing/train_labels.csv\n",
    "!wget https://raw.githubusercontent.com/LambdaSchool/DS-Unit-2-Sprint-4-Model-Validation/master/module-1-begin-modeling-process/bank-marketing/test_features.csv\n",
    "!wget https://raw.githubusercontent.com/LambdaSchool/DS-Unit-2-Sprint-4-Model-Validation/master/module-1-begin-modeling-process/bank-marketing/sample_submission.csv"
   ]
  },
  {
   "cell_type": "code",
   "execution_count": 2,
   "metadata": {
    "colab": {},
    "colab_type": "code",
    "id": "L-k-oXH5V8X9"
   },
   "outputs": [],
   "source": [
    "# !pip install category_encoders"
   ]
  },
  {
   "cell_type": "markdown",
   "metadata": {
    "colab_type": "text",
    "id": "exZrRRC2WObS"
   },
   "source": [
    "# Classification Metrics & Confusion Matrix — with Bank Marketing dataset"
   ]
  },
  {
   "cell_type": "code",
   "execution_count": 10,
   "metadata": {
    "colab": {},
    "colab_type": "code",
    "id": "1FnLW0DjWKaW"
   },
   "outputs": [],
   "source": [
    "# (Code from the previous notebook)\n",
    "\n",
    "# Imports\n",
    "%matplotlib inline\n",
    "import warnings\n",
    "import category_encoders as ce\n",
    "import matplotlib.pyplot as plt\n",
    "import pandas as pd\n",
    "from sklearn.linear_model import LogisticRegression\n",
    "from sklearn.model_selection import cross_val_score\n",
    "from sklearn.pipeline import make_pipeline\n",
    "from sklearn.exceptions import DataConversionWarning\n",
    "from sklearn.preprocessing import StandardScaler\n",
    "warnings.filterwarnings(action='ignore', category=DataConversionWarning)\n",
    "\n",
    "# Load data\n",
    "X_train = pd.read_csv('train_features.csv').drop(columns='id')\n",
    "X_test  = pd.read_csv('test_features.csv').drop(columns='id')\n",
    "y_train = pd.read_csv('train_labels.csv')['y']\n",
    "sample_submission = pd.read_csv('sample_submission.csv')\n",
    "\n",
    "# Make pipeline\n",
    "pipeline = make_pipeline(\n",
    "    ce.OneHotEncoder(use_cat_names=True), \n",
    "    StandardScaler(), \n",
    "    LogisticRegression(solver='lbfgs', max_iter=1000)\n",
    ")"
   ]
  },
  {
   "cell_type": "markdown",
   "metadata": {
    "colab_type": "text",
    "id": "ktgWzULWW2Z0"
   },
   "source": [
    "#### scikit-learn documentation\n",
    "- [sklearn.linear_model.LogisticRegression.predict_proba](https://scikit-learn.org/stable/modules/generated/sklearn.linear_model.LogisticRegression.html#sklearn.linear_model.LogisticRegression.predict_proba)\n",
    "- [sklearn.metrics.classification_report](https://scikit-learn.org/stable/modules/generated/sklearn.metrics.classification_report.html)\n",
    "- [sklearn.metrics.confusion_matrix](https://scikit-learn.org/stable/modules/generated/sklearn.metrics.confusion_matrix.html)\n",
    "- [sklearn.model_selection.cross_val_predict](https://scikit-learn.org/stable/modules/generated/sklearn.model_selection.cross_val_predict.html)"
   ]
  },
  {
   "cell_type": "code",
   "execution_count": 18,
   "metadata": {
    "colab": {},
    "colab_type": "code",
    "id": "bXN_sDXYWkj4"
   },
   "outputs": [],
   "source": [
    "from sklearn.metrics import classification_report, confusion_matrix\n",
    "from sklearn.model_selection import cross_val_predict\n",
    "\n",
    "y_pred_proba = cross_val_predict(pipeline, X_train, y_train, cv=3, n_jobs=-1, \n",
    "                                 method='predict_proba')[:, 1]\n"
   ]
  },
  {
   "cell_type": "markdown",
   "metadata": {
    "colab_type": "text",
    "id": "h01_ZZxcX0hf"
   },
   "source": [
    "#### Change the threshold and re-run this cell"
   ]
  },
  {
   "cell_type": "code",
   "execution_count": 12,
   "metadata": {
    "colab": {
     "base_uri": "https://localhost:8080/",
     "height": 264
    },
    "colab_type": "code",
    "id": "4xRbAMxmXrXw",
    "outputId": "0b4b5fe5-3a15-459d-9c22-bd2c726b3ff6"
   },
   "outputs": [
    {
     "name": "stdout",
     "output_type": "stream",
     "text": [
      "              precision    recall  f1-score   support\n",
      "\n",
      "           0       0.91      0.98      0.95     27411\n",
      "           1       0.65      0.23      0.34      3480\n",
      "\n",
      "   micro avg       0.90      0.90      0.90     30891\n",
      "   macro avg       0.78      0.61      0.64     30891\n",
      "weighted avg       0.88      0.90      0.88     30891\n",
      "\n"
     ]
    },
    {
     "data": {
      "text/html": [
       "<div>\n",
       "<style scoped>\n",
       "    .dataframe tbody tr th:only-of-type {\n",
       "        vertical-align: middle;\n",
       "    }\n",
       "\n",
       "    .dataframe tbody tr th {\n",
       "        vertical-align: top;\n",
       "    }\n",
       "\n",
       "    .dataframe thead th {\n",
       "        text-align: right;\n",
       "    }\n",
       "</style>\n",
       "<table border=\"1\" class=\"dataframe\">\n",
       "  <thead>\n",
       "    <tr style=\"text-align: right;\">\n",
       "      <th></th>\n",
       "      <th>Predicted Negative</th>\n",
       "      <th>Predicted Positive</th>\n",
       "    </tr>\n",
       "  </thead>\n",
       "  <tbody>\n",
       "    <tr>\n",
       "      <th>Actual Negative</th>\n",
       "      <td>26990</td>\n",
       "      <td>421</td>\n",
       "    </tr>\n",
       "    <tr>\n",
       "      <th>Actual Positive</th>\n",
       "      <td>2690</td>\n",
       "      <td>790</td>\n",
       "    </tr>\n",
       "  </tbody>\n",
       "</table>\n",
       "</div>"
      ],
      "text/plain": [
       "                 Predicted Negative  Predicted Positive\n",
       "Actual Negative               26990                 421\n",
       "Actual Positive                2690                 790"
      ]
     },
     "execution_count": 12,
     "metadata": {},
     "output_type": "execute_result"
    }
   ],
   "source": [
    "threshold = 0.5\n",
    "y_pred = y_pred_proba >= threshold\n",
    "\n",
    "print(classification_report(y_train, y_pred))\n",
    "\n",
    "pd.DataFrame(confusion_matrix(y_train, y_pred), \n",
    "             columns=['Predicted Negative', 'Predicted Positive'], \n",
    "             index=['Actual Negative', 'Actual Positive'])"
   ]
  },
  {
   "cell_type": "code",
   "execution_count": 13,
   "metadata": {
    "colab": {
     "base_uri": "https://localhost:8080/",
     "height": 34
    },
    "colab_type": "code",
    "id": "InBb016HcSef",
    "outputId": "ed47035e-0444-48e5-d27e-8e25563f2459"
   },
   "outputs": [
    {
     "name": "stdout",
     "output_type": "stream",
     "text": [
      "Precision: 0.652353426919901 Recall: 0.22701149425287356 F1: 0.3368151780004264\n"
     ]
    }
   ],
   "source": [
    "true_negative  = 26990\n",
    "false_positive = 421\n",
    "false_negative = 2690\n",
    "true_positive  = 790\n",
    "\n",
    "accuracy = ((true_negative + true_positive) / \n",
    "            (true_negative + false_positive + false_negative + true_positive))\n",
    "\n",
    "actual_negative = 26990 + 421\n",
    "actual_positive = 2690 + 790\n",
    "\n",
    "predicted_negative = 26990 + 2690\n",
    "predicted_positive = 421 + 790\n",
    "\n",
    "precision = true_positive / predicted_positive\n",
    "recall = true_positive / actual_positive\n",
    "f1 = 2 * precision*recall / (precision+recall)\n",
    "print('Precision:', precision, 'Recall:', recall, 'F1:', f1)"
   ]
  },
  {
   "cell_type": "markdown",
   "metadata": {
    "colab_type": "text",
    "id": "d50kghfPYk1D"
   },
   "source": [
    "#### ROC Curve\n",
    "- [sklearn.metrics.roc_curve](https://scikit-learn.org/stable/modules/generated/sklearn.metrics.roc_curve.html)\n",
    "- [sklearn.metrics.roc_auc_score](https://scikit-learn.org/stable/modules/generated/sklearn.metrics.roc_auc_score.html)"
   ]
  },
  {
   "cell_type": "code",
   "execution_count": 14,
   "metadata": {
    "colab": {
     "base_uri": "https://localhost:8080/",
     "height": 311
    },
    "colab_type": "code",
    "id": "yx5WEweMYBYY",
    "outputId": "a76a1c98-5dde-4248-9b7f-e5bfc40fb10b"
   },
   "outputs": [
    {
     "name": "stdout",
     "output_type": "stream",
     "text": [
      "Area under the Receiver Operating Characteristic curve: 0.7868826100520935\n"
     ]
    },
    {
     "data": {
      "image/png": "[encoded data removed]",
      "text/plain": [
       "<Figure size 432x288 with 1 Axes>"
      ]
     },
     "metadata": {
      "needs_background": "light"
     },
     "output_type": "display_data"
    }
   ],
   "source": [
    "from sklearn.metrics import roc_auc_score, roc_curve\n",
    "fpr, tpr, thresholds = roc_curve(y_train, y_pred_proba)\n",
    "plt.plot(fpr, tpr)\n",
    "plt.title('ROC curve')\n",
    "plt.xlabel('False Positive Rate')\n",
    "plt.ylabel('True Positive Rate')\n",
    "print('Area under the Receiver Operating Characteristic curve:', \n",
    "      roc_auc_score(y_train, y_pred_proba))\n",
    "\n",
    "# When threshold = 0.5\n",
    "false_positive = 421\n",
    "true_positive = 790\n",
    "false_positive_rate = false_positive/actual_negative\n",
    "true_positive_rate  = true_positive/actual_positive\n",
    "plt.scatter(false_positive_rate, true_positive_rate);\n",
    "\n",
    "# When threshold = 0.1\n",
    "false_positive = 4946\n",
    "true_positive = 2258\n",
    "false_positive_rate = false_positive/actual_negative\n",
    "true_positive_rate  = true_positive/actual_positive\n",
    "plt.scatter(false_positive_rate, true_positive_rate);"
   ]
  },
  {
   "cell_type": "markdown",
   "metadata": {
    "colab_type": "text",
    "id": "DMiqiAB_WVPK"
   },
   "source": [
    "# Imbalanced Classes — with synthetic data"
   ]
  },
  {
   "cell_type": "markdown",
   "metadata": {
    "colab_type": "text",
    "id": "OWLBlu5K5kJR"
   },
   "source": [
    "## Fun demo!\n",
    "\n",
    "The next code cell does five things:\n",
    "\n",
    "#### 1. Generate data\n",
    "\n",
    "We use scikit-learn's [make_classification](https://scikit-learn.org/stable/modules/generated/sklearn.datasets.make_classification.html) function to generate fake data for a binary classification problem, based on several parameters, including:\n",
    "- Number of samples\n",
    "- Weights, meaning \"the proportions of samples assigned to each class.\"\n",
    "- Class separation: \"Larger values spread out the clusters/classes and make the classification task easier.\"\n",
    "\n",
    "(We are generating fake data so it is easy to visualize.)\n",
    "\n",
    "#### 2. Split data\n",
    "\n",
    "We split the data three ways, into train, validation, and test sets. (For this toy example, it's not really necessary to do a three-way split. A two-way split, or even no split, would be ok. But I'm trying to demonstrate good habits, even in toy examples, to avoid confusion.)\n",
    "\n",
    "#### 3. Fit model\n",
    "\n",
    "We use scikit-learn to fit a [Logistic Regression](https://scikit-learn.org/stable/modules/generated/sklearn.linear_model.LogisticRegression.html) on the training data.\n",
    "\n",
    "We use this model parameter:\n",
    "\n",
    "> **class_weight : _dict or ‘balanced’, default: None_**\n",
    "\n",
    "> Weights associated with classes in the form `{class_label: weight}`. If not given, all classes are supposed to have weight one.\n",
    "\n",
    "> The “balanced” mode uses the values of y to automatically adjust weights inversely proportional to class frequencies in the input data as `n_samples / (n_classes * np.bincount(y))`.\n",
    "\n",
    "\n",
    "#### 4. Evaluate model\n",
    "\n",
    "We use our Logistic Regression model, which was fit on the training data, to generate predictions for the validation data.\n",
    "\n",
    "Then we print [scikit-learn's Classification Report](https://scikit-learn.org/stable/modules/model_evaluation.html#classification-report), with many metrics, and also the accuracy score. We are comparing the correct labels to the Logistic Regression's predicted labels, for the validation set. \n",
    "\n",
    "#### 5. Visualize decision function\n",
    "\n",
    "Based on these examples\n",
    "- https://imbalanced-learn.readthedocs.io/en/stable/auto_examples/combine/plot_comparison_combine.html\n",
    "- http://rasbt.github.io/mlxtend/user_guide/plotting/plot_decision_regions/#example-1-decision-regions-in-2d"
   ]
  },
  {
   "cell_type": "code",
   "execution_count": 15,
   "metadata": {
    "colab": {},
    "colab_type": "code",
    "id": "PMTjC3vQ7ZNV"
   },
   "outputs": [],
   "source": [
    "from sklearn.model_selection import train_test_split\n",
    "\n",
    "def train_validation_test_split(\n",
    "    X, y, train_size=0.8, val_size=0.1, test_size=0.1, \n",
    "    random_state=None, shuffle=True):\n",
    "        \n",
    "    assert train_size + val_size + test_size == 1\n",
    "    \n",
    "    X_train_val, X_test, y_train_val, y_test = train_test_split(\n",
    "        X, y, test_size=test_size, random_state=random_state, shuffle=shuffle)\n",
    "    \n",
    "    X_train, X_val, y_train, y_val = train_test_split(\n",
    "        X_train_val, y_train_val, test_size=val_size/(train_size+val_size), \n",
    "        random_state=random_state, shuffle=shuffle)\n",
    "    \n",
    "    return X_train, X_val, X_test, y_train, y_val, y_test"
   ]
  },
  {
   "cell_type": "code",
   "execution_count": 16,
   "metadata": {
    "colab": {
     "base_uri": "https://localhost:8080/",
     "height": 638
    },
    "colab_type": "code",
    "id": "TcpoWCUq5xNV",
    "outputId": "b3c2ee55-1fa6-4e93-df2c-f1a0e6b98a6f"
   },
   "outputs": [
    {
     "name": "stdout",
     "output_type": "stream",
     "text": [
      "              precision    recall  f1-score   support\n",
      "\n",
      "           0       1.00      0.93      0.96        96\n",
      "           1       0.36      1.00      0.53         4\n",
      "\n",
      "   micro avg       0.93      0.93      0.93       100\n",
      "   macro avg       0.68      0.96      0.75       100\n",
      "weighted avg       0.97      0.93      0.95       100\n",
      "\n",
      "accuracy 0.93\n"
     ]
    },
    {
     "data": {
      "text/html": [
       "<div>\n",
       "<style scoped>\n",
       "    .dataframe tbody tr th:only-of-type {\n",
       "        vertical-align: middle;\n",
       "    }\n",
       "\n",
       "    .dataframe tbody tr th {\n",
       "        vertical-align: top;\n",
       "    }\n",
       "\n",
       "    .dataframe thead th {\n",
       "        text-align: right;\n",
       "    }\n",
       "</style>\n",
       "<table border=\"1\" class=\"dataframe\">\n",
       "  <thead>\n",
       "    <tr style=\"text-align: right;\">\n",
       "      <th></th>\n",
       "      <th>Predicted Negative</th>\n",
       "      <th>Predicted Positive</th>\n",
       "    </tr>\n",
       "  </thead>\n",
       "  <tbody>\n",
       "    <tr>\n",
       "      <th>Actual Negative</th>\n",
       "      <td>89</td>\n",
       "      <td>7</td>\n",
       "    </tr>\n",
       "    <tr>\n",
       "      <th>Actual Positive</th>\n",
       "      <td>0</td>\n",
       "      <td>4</td>\n",
       "    </tr>\n",
       "  </tbody>\n",
       "</table>\n",
       "</div>"
      ],
      "text/plain": [
       "                 Predicted Negative  Predicted Positive\n",
       "Actual Negative                  89                   7\n",
       "Actual Positive                   0                   4"
      ]
     },
     "metadata": {},
     "output_type": "display_data"
    },
    {
     "data": {
      "image/png": "[encoded data removed]",
      "text/plain": [
       "<Figure size 720x432 with 1 Axes>"
      ]
     },
     "metadata": {
      "needs_background": "light"
     },
     "output_type": "display_data"
    }
   ],
   "source": [
    "%matplotlib inline\n",
    "from IPython.display import display\n",
    "import matplotlib.pyplot as plt\n",
    "from sklearn.datasets import make_classification\n",
    "from sklearn.metrics import accuracy_score, classification_report\n",
    "from sklearn.linear_model import LogisticRegression\n",
    "from mlxtend.plotting import plot_decision_regions\n",
    "\n",
    "\n",
    "#1. Generate data\n",
    "\n",
    "# Try re-running the cell with different values for these parameters\n",
    "n_samples = 1000\n",
    "weights = (0.95, 0.05)\n",
    "class_sep = 0.8\n",
    "\n",
    "X, y = make_classification(n_samples=n_samples, n_features=2, n_informative=2, \n",
    "                           n_redundant=0, n_repeated=0, n_classes=2, \n",
    "                           n_clusters_per_class=1, weights=weights, \n",
    "                           class_sep=class_sep, random_state=0)\n",
    "\n",
    "\n",
    "# 2. Split data\n",
    "\n",
    "# Uses our custom train_validation_test_split function\n",
    "X_train, X_val, X_test, y_train, y_val, y_test = train_validation_test_split(\n",
    "    X, y, train_size=0.8, val_size=0.1, test_size=0.1, random_state=1)\n",
    "\n",
    "\n",
    "# 3. Fit model\n",
    "\n",
    "# Try re-running the cell with different values for this parameter\n",
    "class_weight = {0: 1, 1: 10}\n",
    "\n",
    "model = LogisticRegression(solver='lbfgs', class_weight=class_weight)\n",
    "model.fit(X_train, y_train)\n",
    "\n",
    "\n",
    "# 4. Evaluate model\n",
    "\n",
    "y_pred = model.predict(X_val)\n",
    "print(classification_report(y_val, y_pred))\n",
    "print('accuracy', accuracy_score(y_val, y_pred))\n",
    "display(pd.DataFrame(\n",
    "    confusion_matrix(y_val, y_pred), \n",
    "    columns=['Predicted Negative', 'Predicted Positive'], \n",
    "    index=['Actual Negative', 'Actual Positive']))\n",
    "\n",
    "\n",
    "# 5. Visualize decision regions\n",
    "\n",
    "plt.figure(figsize=(10, 6))\n",
    "plot_decision_regions(X_val, y_val, model, legend=0);"
   ]
  },
  {
   "cell_type": "markdown",
   "metadata": {
    "colab_type": "text",
    "id": "zrllN3yECsEN"
   },
   "source": [
    "Try re-running the cell above with different values for these four parameters:\n",
    "- `n_samples`\n",
    "- `weights`\n",
    "- `class_sep`\n",
    "- `class_balance`\n",
    "\n",
    "For example, with a 50% / 50% class distribution:\n",
    "```\n",
    "n_samples = 1000\n",
    "weights = (0.50, 0.50)\n",
    "class_sep = 0.8\n",
    "class_balance = None\n",
    "```\n",
    "\n",
    "With a 95% / 5% class distribution:\n",
    "```\n",
    "n_samples = 1000\n",
    "weights = (0.95, 0.05)\n",
    "class_sep = 0.8\n",
    "class_balance = None\n",
    "```\n",
    "\n",
    "With the same 95% / 5% class distribution, but changing the Logistic Regression's `class_balance` parameter to `'balanced'` (instead of its default `None`)\n",
    "```\n",
    "n_samples = 1000\n",
    "weights = (0.95, 0.05)\n",
    "class_sep = 0.8\n",
    "class_balance = 'balanced'\n",
    "```\n",
    "\n",
    "With the same 95% / 5% class distribution, but with different values for `class_balance`:\n",
    "- `{0: 1, 1: 1}` _(equivalent to `None`)_\n",
    "- `{0: 1, 1: 2}`\n",
    "- `{0: 1, 1: 10}` _(roughly equivalent to `'balanced'` for this dataset)_\n",
    "- `{0: 1, 1: 100}`\n",
    "- `{0: 1, 1: 10000}`\n",
    "\n",
    "How do the evaluation metrics and decision region plots change?"
   ]
  },
  {
   "cell_type": "markdown",
   "metadata": {
    "colab_type": "text",
    "id": "5-3MS-jANssN"
   },
   "source": [
    "## What you can do about imbalanced classes"
   ]
  },
  {
   "cell_type": "markdown",
   "metadata": {
    "colab_type": "text",
    "id": "2KwgStd-yUUr"
   },
   "source": [
    "[Learning from Imbalanced Classes](https://www.svds.com/tbt-learning-imbalanced-classes/) gives \"a rough outline of useful approaches\" : \n",
    "\n",
    "- Do nothing. Sometimes you get lucky and nothing needs to be done. You can train on the so-called natural (or stratified) distribution and sometimes it works without need for modification.\n",
    "- Balance the training set in some way:\n",
    "  - Oversample the minority class.\n",
    "  - Undersample the majority class.\n",
    "  - Synthesize new minority classes.\n",
    "- Throw away minority examples and switch to an anomaly detection framework.\n",
    "- At the algorithm level, or after it:\n",
    "  - Adjust the class weight (misclassification costs).\n",
    "  - Adjust the decision threshold.\n",
    "  - Modify an existing algorithm to be more sensitive to rare classes.\n",
    "- Construct an entirely new algorithm to perform well on imbalanced data.\n"
   ]
  },
  {
   "cell_type": "markdown",
   "metadata": {
    "colab_type": "text",
    "id": "iO7kOZ2HN0EA"
   },
   "source": [
    "#### We demonstrated two of these options: \n",
    "\n",
    "- \"Adjust the class weight (misclassification costs)\" — many scikit-learn classifiers have a `class_balance` parameter\n",
    "- \"Adjust the decision threshold\" — you can lean more about this in a great blog post, [Visualizing Machine Learning Thresholds to Make Better Business Decisions](https://blog.insightdatascience.com/visualizing-machine-learning-thresholds-to-make-better-business-decisions-4ab07f823415).\n",
    "\n",
    "#### Another option to be aware of:\n",
    "- The [imbalance-learn](https://github.com/scikit-learn-contrib/imbalanced-learn) library can be used to \"oversample the minority class, undersample the majority class, or synthesize new minority classes.\""
   ]
  },
  {
   "cell_type": "markdown",
   "metadata": {
    "colab_type": "text",
    "id": "P_XjBTW5SBwZ"
   },
   "source": [
    "# ASSIGNMENT\n",
    "\n",
    "#### Bank Marketing\n",
    "- Make another submission on Kaggle.\n",
    "- Try \"Cross-Validation + Independent Test Set\" instead of \"Train/Validate/Test Split.\"\n",
    "- Explore and visualize your data. \n",
    "- Wrangle [bad data](https://github.com/Quartz/bad-data-guide), outliers, and missing values.\n",
    "- Try engineering more features. You can transform, bin, and combine features. \n",
    "- Try using less features. You can look at multicollinearity. \n",
    "- Try the `class_weight` parameter.\n",
    "\n",
    "#### Imbalanced Classes demo with synthetic data\n",
    "- Play around with the demo. Change parameter values.\n",
    "- Be able to calculate precision, recall, F1, and accuracy \"by hand\", given a confusion matrix and access to Wikipedia."
   ]
  },
  {
   "cell_type": "code",
   "execution_count": 78,
   "metadata": {},
   "outputs": [],
   "source": [
    "# Imports\n",
    "%matplotlib inline\n",
    "import warnings\n",
    "import category_encoders as ce\n",
    "import matplotlib.pyplot as plt\n",
    "import pandas as pd\n",
    "from sklearn.linear_model import LogisticRegression\n",
    "from sklearn.model_selection import cross_val_score\n",
    "from sklearn.pipeline import make_pipeline\n",
    "from sklearn.exceptions import DataConversionWarning\n",
    "from sklearn.preprocessing import StandardScaler\n",
    "warnings.filterwarnings(action='ignore', category=DataConversionWarning)\n",
    "from sklearn.metrics import roc_auc_score\n",
    "import seaborn as sns\n",
    "import numpy as np"
   ]
  },
  {
   "cell_type": "code",
   "execution_count": 21,
   "metadata": {},
   "outputs": [
    {
     "name": "stdout",
     "output_type": "stream",
     "text": [
      "(23168, 19) (7723, 19) (23168,) (7723,)\n",
      "roc_auc_score: 0.7926028833929835\n",
      "X_val.shape: (7723, 19) X_test.shape: (10297, 19)\n"
     ]
    },
    {
     "data": {
      "text/plain": [
       "count    10297.000000\n",
       "mean         0.112838\n",
       "std          0.144152\n",
       "min          0.005984\n",
       "25%          0.041255\n",
       "50%          0.058698\n",
       "75%          0.095619\n",
       "max          0.894034\n",
       "Name: y, dtype: float64"
      ]
     },
     "execution_count": 21,
     "metadata": {},
     "output_type": "execute_result"
    }
   ],
   "source": [
    "# Baseline Model\n",
    "################################ \n",
    "\n",
    "# Load data\n",
    "train_features = pd.read_csv('train_features.csv')\n",
    "train_labels = pd.read_csv('train_labels.csv')\n",
    "test_features = pd.read_csv('test_features.csv')\n",
    "sample_submission = pd.read_csv('sample_submission.csv')\n",
    "\n",
    "# Set X & y - train & test\n",
    "y_train = train_labels['y']\n",
    "X_train = train_features.drop(columns='id')\n",
    "X_test  = test_features.drop(columns='id')\n",
    "\n",
    "# Set X & y - train & validation from X & y train\n",
    "from sklearn.model_selection import train_test_split\n",
    "X_train, X_val, y_train, y_val = train_test_split(X_train, y_train)\n",
    "print(X_train.shape, X_val.shape, y_train.shape, y_val.shape)\n",
    "\n",
    "# Make pipeline\n",
    "pipeline = make_pipeline(\n",
    "    ce.OneHotEncoder(use_cat_names=True), \n",
    "    StandardScaler(), \n",
    "    LogisticRegression(solver='lbfgs', max_iter=1000)\n",
    ")\n",
    "\n",
    "# Training\n",
    "pipeline.fit(X_train, y_train)\n",
    "# Training & Validation Prediction\n",
    "y_pred = pipeline.predict_proba(X_val)[:, 1]\n",
    "print(\"roc_auc_score:\",roc_auc_score(y_val, y_pred))\n",
    "print(\"X_val.shape:\",X_val.shape, \"X_test.shape:\", X_test.shape)\n",
    "\n",
    "# Train & Test Prediction\n",
    "y_pred = pipeline.predict_proba(X_test)[:, 1]\n",
    "\n",
    "# start submission to kaggle\n",
    "submission = sample_submission.copy()\n",
    "submission['y'] = y_pred\n",
    "submission.to_csv('jp-submission-001.csv', index=False) # b/c we don't want to include index value in csv file\n",
    "# upload submission-001.csv to Kaggle https://www.kaggle.com/c/ds2-model-validation/submit\n",
    "submission.y.describe()"
   ]
  },
  {
   "cell_type": "code",
   "execution_count": 101,
   "metadata": {},
   "outputs": [
    {
     "name": "stdout",
     "output_type": "stream",
     "text": [
      "(23168, 18) (7723, 18) (23168,) (7723,)\n",
      "roc_auc_score: 0.7956902536715622\n",
      "X_val.shape: (7723, 18) X_test.shape: (10297, 18)\n"
     ]
    },
    {
     "data": {
      "text/plain": [
       "count    10297.000000\n",
       "mean         0.110818\n",
       "std          0.141050\n",
       "min          0.005785\n",
       "25%          0.041590\n",
       "50%          0.058457\n",
       "75%          0.093253\n",
       "max          0.886942\n",
       "Name: y, dtype: float64"
      ]
     },
     "execution_count": 101,
     "metadata": {},
     "output_type": "execute_result"
    }
   ],
   "source": [
    "# Test 1\n",
    "# mod:\n",
    "# drop 'nr.employed'\n",
    "# add LogisticRegression class_weight='balanced'\n",
    "################################\n",
    "\n",
    "# Load data\n",
    "train_features = pd.read_csv('train_features.csv')\n",
    "train_labels = pd.read_csv('train_labels.csv')\n",
    "test_features = pd.read_csv('test_features.csv')\n",
    "sample_submission = pd.read_csv('sample_submission.csv')\n",
    "\n",
    "# age               0.107639\n",
    "# campaign         -0.058798\n",
    "# previous          0.035751\n",
    "# emp.var.rate     -0.144539\n",
    "# cons.price.idx   -0.023382\n",
    "# cons.conf.idx     0.081550\n",
    "# euribor3m        -0.165664\n",
    "# nr.employed      -8.042919\n",
    "# y                 0.100303\n",
    "\n",
    "# Set X & y - train & test\n",
    "y_train = train_labels['y']\n",
    "droplist=['id','nr.employed']\n",
    "X_train = train_features.drop(droplist, axis=1)\n",
    "X_test  = test_features.drop(droplist, axis=1)\n",
    "\n",
    "# Set X & y - train & validation from X & y train\n",
    "from sklearn.model_selection import train_test_split\n",
    "X_train, X_val, y_train, y_val = train_test_split(X_train, y_train)\n",
    "print(X_train.shape, X_val.shape, y_train.shape, y_val.shape)\n",
    "\n",
    "\n",
    "# Make pipeline\n",
    "pipeline = make_pipeline(\n",
    "    ce.OneHotEncoder(use_cat_names=True), \n",
    "    StandardScaler(), \n",
    "    LogisticRegression(solver='lbfgs', max_iter=1000, random_state=42, class_weight='balanced')\n",
    ")\n",
    "\n",
    "# Training\n",
    "pipeline.fit(X_train, y_train)\n",
    "# Training & Validation Prediction\n",
    "y_pred = pipeline.predict_proba(X_val)[:, 1]\n",
    "print(\"roc_auc_score:\",roc_auc_score(y_val, y_pred))\n",
    "print(\"X_val.shape:\",X_val.shape, \"X_test.shape:\", X_test.shape)\n",
    "\n",
    "# Train & Test Prediction\n",
    "y_pred = pipeline.predict_proba(X_test)[:, 1]\n",
    "\n",
    "# start submission to kaggle\n",
    "submission = sample_submission.copy()\n",
    "submission['y'] = y_pred\n",
    "submission.to_csv('jp-submission-002.csv', index=False) # b/c we don't want to include index value in csv file\n",
    "# upload submission-001.csv to Kaggle https://www.kaggle.com/c/ds2-model-validation/submit\n",
    "submission.y.describe()"
   ]
  },
  {
   "cell_type": "markdown",
   "metadata": {},
   "source": [
    "## Explore Data"
   ]
  },
  {
   "cell_type": "code",
   "execution_count": 40,
   "metadata": {},
   "outputs": [
    {
     "data": {
      "text/html": [
       "<div>\n",
       "<style scoped>\n",
       "    .dataframe tbody tr th:only-of-type {\n",
       "        vertical-align: middle;\n",
       "    }\n",
       "\n",
       "    .dataframe tbody tr th {\n",
       "        vertical-align: top;\n",
       "    }\n",
       "\n",
       "    .dataframe thead th {\n",
       "        text-align: right;\n",
       "    }\n",
       "</style>\n",
       "<table border=\"1\" class=\"dataframe\">\n",
       "  <thead>\n",
       "    <tr style=\"text-align: right;\">\n",
       "      <th></th>\n",
       "      <th>age</th>\n",
       "      <th>job</th>\n",
       "      <th>marital</th>\n",
       "      <th>education</th>\n",
       "      <th>default</th>\n",
       "      <th>housing</th>\n",
       "      <th>loan</th>\n",
       "      <th>contact</th>\n",
       "      <th>month</th>\n",
       "      <th>day_of_week</th>\n",
       "      <th>campaign</th>\n",
       "      <th>pdays</th>\n",
       "      <th>previous</th>\n",
       "      <th>poutcome</th>\n",
       "      <th>emp.var.rate</th>\n",
       "      <th>cons.price.idx</th>\n",
       "      <th>cons.conf.idx</th>\n",
       "      <th>euribor3m</th>\n",
       "      <th>nr.employed</th>\n",
       "    </tr>\n",
       "  </thead>\n",
       "  <tbody>\n",
       "    <tr>\n",
       "      <th>30684</th>\n",
       "      <td>33</td>\n",
       "      <td>services</td>\n",
       "      <td>single</td>\n",
       "      <td>high.school</td>\n",
       "      <td>unknown</td>\n",
       "      <td>yes</td>\n",
       "      <td>no</td>\n",
       "      <td>cellular</td>\n",
       "      <td>jul</td>\n",
       "      <td>tue</td>\n",
       "      <td>2</td>\n",
       "      <td>999</td>\n",
       "      <td>0</td>\n",
       "      <td>nonexistent</td>\n",
       "      <td>1.4</td>\n",
       "      <td>93.918</td>\n",
       "      <td>-42.7</td>\n",
       "      <td>4.961</td>\n",
       "      <td>5228.1</td>\n",
       "    </tr>\n",
       "    <tr>\n",
       "      <th>9314</th>\n",
       "      <td>33</td>\n",
       "      <td>technician</td>\n",
       "      <td>married</td>\n",
       "      <td>professional.course</td>\n",
       "      <td>no</td>\n",
       "      <td>yes</td>\n",
       "      <td>no</td>\n",
       "      <td>cellular</td>\n",
       "      <td>may</td>\n",
       "      <td>wed</td>\n",
       "      <td>1</td>\n",
       "      <td>999</td>\n",
       "      <td>1</td>\n",
       "      <td>failure</td>\n",
       "      <td>-1.8</td>\n",
       "      <td>92.893</td>\n",
       "      <td>-46.2</td>\n",
       "      <td>1.334</td>\n",
       "      <td>5099.1</td>\n",
       "    </tr>\n",
       "    <tr>\n",
       "      <th>4861</th>\n",
       "      <td>57</td>\n",
       "      <td>self-employed</td>\n",
       "      <td>married</td>\n",
       "      <td>professional.course</td>\n",
       "      <td>no</td>\n",
       "      <td>yes</td>\n",
       "      <td>yes</td>\n",
       "      <td>telephone</td>\n",
       "      <td>jul</td>\n",
       "      <td>tue</td>\n",
       "      <td>1</td>\n",
       "      <td>999</td>\n",
       "      <td>0</td>\n",
       "      <td>nonexistent</td>\n",
       "      <td>1.4</td>\n",
       "      <td>93.918</td>\n",
       "      <td>-42.7</td>\n",
       "      <td>4.955</td>\n",
       "      <td>5228.1</td>\n",
       "    </tr>\n",
       "    <tr>\n",
       "      <th>29556</th>\n",
       "      <td>37</td>\n",
       "      <td>unemployed</td>\n",
       "      <td>married</td>\n",
       "      <td>professional.course</td>\n",
       "      <td>no</td>\n",
       "      <td>no</td>\n",
       "      <td>no</td>\n",
       "      <td>telephone</td>\n",
       "      <td>may</td>\n",
       "      <td>tue</td>\n",
       "      <td>1</td>\n",
       "      <td>999</td>\n",
       "      <td>0</td>\n",
       "      <td>nonexistent</td>\n",
       "      <td>1.1</td>\n",
       "      <td>93.994</td>\n",
       "      <td>-36.4</td>\n",
       "      <td>4.857</td>\n",
       "      <td>5191.0</td>\n",
       "    </tr>\n",
       "    <tr>\n",
       "      <th>29751</th>\n",
       "      <td>47</td>\n",
       "      <td>admin.</td>\n",
       "      <td>married</td>\n",
       "      <td>university.degree</td>\n",
       "      <td>no</td>\n",
       "      <td>no</td>\n",
       "      <td>yes</td>\n",
       "      <td>cellular</td>\n",
       "      <td>aug</td>\n",
       "      <td>mon</td>\n",
       "      <td>2</td>\n",
       "      <td>999</td>\n",
       "      <td>0</td>\n",
       "      <td>nonexistent</td>\n",
       "      <td>1.4</td>\n",
       "      <td>93.444</td>\n",
       "      <td>-36.1</td>\n",
       "      <td>4.963</td>\n",
       "      <td>5228.1</td>\n",
       "    </tr>\n",
       "  </tbody>\n",
       "</table>\n",
       "</div>"
      ],
      "text/plain": [
       "       age            job  marital  ... cons.conf.idx euribor3m nr.employed\n",
       "30684   33       services   single  ...         -42.7     4.961      5228.1\n",
       "9314    33     technician  married  ...         -46.2     1.334      5099.1\n",
       "4861    57  self-employed  married  ...         -42.7     4.955      5228.1\n",
       "29556   37     unemployed  married  ...         -36.4     4.857      5191.0\n",
       "29751   47         admin.  married  ...         -36.1     4.963      5228.1\n",
       "\n",
       "[5 rows x 19 columns]"
      ]
     },
     "execution_count": 40,
     "metadata": {},
     "output_type": "execute_result"
    }
   ],
   "source": [
    "X_train.head()"
   ]
  },
  {
   "cell_type": "code",
   "execution_count": 75,
   "metadata": {},
   "outputs": [
    {
     "data": {
      "text/plain": [
       "<matplotlib.axes._subplots.AxesSubplot at 0x7f831198eac8>"
      ]
     },
     "execution_count": 75,
     "metadata": {},
     "output_type": "execute_result"
    },
    {
     "data": {
      "image/png": "[encoded data removed]",
      "text/plain": [
       "<Figure size 432x288 with 2 Axes>"
      ]
     },
     "metadata": {
      "needs_background": "light"
     },
     "output_type": "display_data"
    }
   ],
   "source": [
    "temp=pd.concat([X_train, y_train], axis=1)\n",
    "sns.heatmap(temp.corr())"
   ]
  },
  {
   "cell_type": "code",
   "execution_count": 102,
   "metadata": {},
   "outputs": [
    {
     "name": "stdout",
     "output_type": "stream",
     "text": [
      "X_train shape:\n",
      "(23168, 18)\n",
      "------------------------------------------------------------\n",
      "X_test shape:\n",
      "(10297, 18)\n",
      "------------------------------------------------------------\n",
      "X_val shape:\n",
      "(7723, 18)\n",
      "------------------------------------------------------------\n",
      "temp shape:\n",
      "(23168, 19)\n",
      "------------------------------------------------------------\n",
      "temp columns:\n",
      "Index(['age', 'job', 'marital', 'education', 'default', 'housing', 'loan',\n",
      "       'contact', 'month', 'day_of_week', 'campaign', 'previous', 'poutcome',\n",
      "       'emp.var.rate', 'cons.price.idx', 'cons.conf.idx', 'euribor3m',\n",
      "       'nr.employed', 'y'],\n",
      "      dtype='object')\n",
      "------------------------------------------------------------\n",
      "temp select_dtypes(include=[np.number]).columns.values:\n",
      "['age' 'campaign' 'previous' 'emp.var.rate' 'cons.price.idx'\n",
      " 'cons.conf.idx' 'euribor3m' 'nr.employed' 'y']\n",
      "------------------------------------------------------------\n",
      "temp select_dtypes(exclude=[np.number]).columns:\n",
      "Index(['job', 'marital', 'education', 'default', 'housing', 'loan', 'contact',\n",
      "       'month', 'day_of_week', 'poutcome'],\n",
      "      dtype='object')\n",
      "------------------------------------------------------------\n",
      "temp dtypes.sort_values(ascending=False):\n",
      "day_of_week        object\n",
      "education          object\n",
      "poutcome           object\n",
      "job                object\n",
      "marital            object\n",
      "month              object\n",
      "contact            object\n",
      "loan               object\n",
      "housing            object\n",
      "default            object\n",
      "euribor3m         float64\n",
      "cons.conf.idx     float64\n",
      "cons.price.idx    float64\n",
      "emp.var.rate      float64\n",
      "nr.employed       float64\n",
      "y                   int64\n",
      "campaign            int64\n",
      "previous            int64\n",
      "age                 int64\n",
      "dtype: object\n",
      "------------------------------------------------------------\n",
      "temp head().T:\n",
      "                      8068         16013  ...        28184        27748\n",
      "age                      39           80  ...           53           30\n",
      "job             blue-collar      retired  ...       admin.     services\n",
      "marital             married     divorced  ...      married       single\n",
      "education          basic.6y  high.school  ...  high.school     basic.9y\n",
      "default             unknown           no  ...           no           no\n",
      "housing                 yes          yes  ...          yes           no\n",
      "loan                    yes           no  ...           no           no\n",
      "contact           telephone     cellular  ...     cellular    telephone\n",
      "month                   may          oct  ...          may          may\n",
      "day_of_week             fri          thu  ...          fri          wed\n",
      "campaign                  1            1  ...            1            1\n",
      "previous                  0            0  ...            0            0\n",
      "poutcome        nonexistent  nonexistent  ...  nonexistent  nonexistent\n",
      "emp.var.rate            1.1         -3.4  ...         -1.8          1.1\n",
      "cons.price.idx       93.994       92.431  ...       92.893       93.994\n",
      "cons.conf.idx         -36.4        -26.9  ...        -46.2        -36.4\n",
      "euribor3m             4.855        0.722  ...         1.25        4.857\n",
      "nr.employed            5191       5017.5  ...       5099.1         5191\n",
      "y                         0            1  ...            0            0\n",
      "\n",
      "[19 rows x 5 columns]\n",
      "------------------------------------------------------------\n",
      "temp sample(7).T:\n",
      "                            30734        26559  ...        23265        4622 \n",
      "age                            37           38  ...           36           43\n",
      "job                        admin.  blue-collar  ...       admin.     services\n",
      "marital                   married     divorced  ...       single      married\n",
      "education       university.degree  high.school  ...  high.school  high.school\n",
      "default                        no           no  ...           no           no\n",
      "housing                       yes           no  ...          yes          yes\n",
      "loan                           no           no  ...           no           no\n",
      "contact                 telephone     cellular  ...    telephone    telephone\n",
      "month                         may          may  ...          jun          jun\n",
      "day_of_week                   wed          thu  ...          mon          thu\n",
      "campaign                        1            1  ...            2            1\n",
      "previous                        0            1  ...            0            0\n",
      "poutcome              nonexistent      failure  ...  nonexistent  nonexistent\n",
      "emp.var.rate                  1.1         -1.8  ...          1.4          1.4\n",
      "cons.price.idx             93.994       92.893  ...       94.465       94.465\n",
      "cons.conf.idx               -36.4        -46.2  ...        -41.8        -41.8\n",
      "euribor3m                   4.859        1.327  ...        4.865        4.961\n",
      "nr.employed                  5191       5099.1  ...       5228.1       5228.1\n",
      "y                               0            0  ...            0            0\n",
      "\n",
      "[19 rows x 7 columns]\n",
      "------------------------------------------------------------\n",
      "temp isnull().sum().sum():\n",
      "0\n",
      "------------------------------------------------------------\n",
      "temp isna().sum().sort_values(ascending=False):\n",
      "y                 0\n",
      "month             0\n",
      "job               0\n",
      "marital           0\n",
      "education         0\n",
      "default           0\n",
      "housing           0\n",
      "loan              0\n",
      "contact           0\n",
      "day_of_week       0\n",
      "nr.employed       0\n",
      "campaign          0\n",
      "previous          0\n",
      "poutcome          0\n",
      "emp.var.rate      0\n",
      "cons.price.idx    0\n",
      "cons.conf.idx     0\n",
      "euribor3m         0\n",
      "age               0\n",
      "dtype: int64\n",
      "------------------------------------------------------------\n",
      "columns[temp.isna().any()].tolist():\n",
      "[]\n",
      "\n",
      "temp corr().T:\n",
      "age               0.032630\n",
      "campaign         -0.067856\n",
      "previous          0.226805\n",
      "emp.var.rate     -0.290279\n",
      "cons.price.idx   -0.127538\n",
      "cons.conf.idx     0.055567\n",
      "euribor3m        -0.300941\n",
      "nr.employed      -0.349718\n",
      "y                 1.000000\n",
      "Name: y, dtype: float64\n",
      "\n",
      "temp describe(include='all').T:\n",
      "                count unique                top  ...     50%     75%     max\n",
      "age             23168    NaN                NaN  ...      38      47      98\n",
      "job             23168     12             admin.  ...     NaN     NaN     NaN\n",
      "marital         23168      4            married  ...     NaN     NaN     NaN\n",
      "education       23168      8  university.degree  ...     NaN     NaN     NaN\n",
      "default         23168      3                 no  ...     NaN     NaN     NaN\n",
      "housing         23168      3                yes  ...     NaN     NaN     NaN\n",
      "loan            23168      3                 no  ...     NaN     NaN     NaN\n",
      "contact         23168      2           cellular  ...     NaN     NaN     NaN\n",
      "month           23168     10                may  ...     NaN     NaN     NaN\n",
      "day_of_week     23168      5                thu  ...     NaN     NaN     NaN\n",
      "campaign        23168    NaN                NaN  ...       2       3      56\n",
      "previous        23168    NaN                NaN  ...       0       0       6\n",
      "poutcome        23168      3        nonexistent  ...     NaN     NaN     NaN\n",
      "emp.var.rate    23168    NaN                NaN  ...     1.1     1.4     1.4\n",
      "cons.price.idx  23168    NaN                NaN  ...  93.749  93.994  94.767\n",
      "cons.conf.idx   23168    NaN                NaN  ...   -41.8   -36.4   -26.9\n",
      "euribor3m       23168    NaN                NaN  ...   4.857   4.961   5.045\n",
      "nr.employed     23168    NaN                NaN  ...    5191  5228.1  5228.1\n",
      "y               23168    NaN                NaN  ...       0       0       1\n",
      "\n",
      "[19 rows x 11 columns]\n",
      "\n"
     ]
    },
    {
     "data": {
      "text/plain": [
       "(None, None, None)"
      ]
     },
     "execution_count": 102,
     "metadata": {},
     "output_type": "execute_result"
    }
   ],
   "source": [
    "print(\"X_train shape:\"), print(X_train.shape), print(\"---\"*20)\n",
    "print(\"X_test shape:\"), print(X_test.shape), print(\"---\"*20)\n",
    "print(\"X_val shape:\"), print(X_val.shape), print(\"---\"*20)\n",
    "print(\"temp shape:\"), print(temp.shape), print(\"---\"*20)\n",
    "print(\"temp columns:\"), print(temp.columns), print(\"---\"*20)\n",
    "print(\"temp select_dtypes(include=[np.number]).columns.values:\"), print(temp.select_dtypes(include=[np.number]).columns.values), print(\"---\"*20)\n",
    "print(\"temp select_dtypes(exclude=[np.number]).columns:\"), print(temp.select_dtypes(exclude=[np.number]).columns), print(\"---\"*20)\n",
    "print(\"temp dtypes.sort_values(ascending=False):\"), print(temp.dtypes.sort_values(ascending=False)), print(\"---\"*20)\n",
    "print(\"temp head().T:\"), print(temp.head().T), print(\"---\"*20)\n",
    "print(\"temp sample(7).T:\"), print(temp.sample(7).T), print(\"---\"*20)\n",
    "print(\"temp isnull().sum().sum():\"), print(temp.isnull().sum().sum()), print(\"---\"*20)\n",
    "print(\"temp isna().sum().sort_values(ascending=False):\"), print(temp.isna().sum().sort_values(ascending=False)), print(\"---\"*20)\n",
    "# nan finder\n",
    "print(\"columns[temp.isna().any()].tolist():\"), print(temp.columns[temp.isna().any()].tolist()), print(\"\")\n",
    "# stats data\n",
    "print(\"temp corr().T:\"), print(temp.corr().T['y']), print(\"\")\n",
    "print(\"temp describe(include='all').T:\"), print(temp.describe(include='all').T), print(\"\")"
   ]
  },
  {
   "cell_type": "markdown",
   "metadata": {},
   "source": [
    "# STRETCH\n",
    "- Read the blog post, [Visualizing Machine Learning Thresholds to Make Better Business Decisions](https://blog.insightdatascience.com/visualizing-machine-learning-thresholds-to-make-better-business-decisions-4ab07f823415). You can replicate the code as-is,  [\"the hard way\"](https://docs.google.com/document/d/1ubOw9B3Hfip27hF2ZFnW3a3z9xAgrUDRReOEo-FHCVs/edit). Or you can apply it to the Bank Marketing dataset.\n",
    "- Try the [imbalance-learn](https://github.com/scikit-learn-contrib/imbalanced-learn) library.\n",
    "- Try other [scikit-learn classifiers](https://scikit-learn.org/stable/supervised_learning.html), beyond Logistic Regression."
   ]
  },
  {
   "cell_type": "code",
   "execution_count": 108,
   "metadata": {},
   "outputs": [],
   "source": [
    "# Imports \n",
    "import pandas as pd \n",
    "import numpy as np \n",
    "from sklearn.model_selection import train_test_split\n",
    "from sklearn.ensemble import RandomForestClassifier \n",
    "from sklearn.metrics import precision_recall_curve \n",
    "from sklearn.preprocessing import LabelEncoder \n",
    "\n",
    "# Retrieve Data Set \n",
    "df = pd.read_csv('https://raw.githubusercontent.com/srepho/srepho.github.io/master/Churn/churn.txt')\n",
    "\n",
    "# Some Prepreocessing \n",
    "df.columns = [c.lower().replace(' ', '_').replace('?', '').replace(\"'\", \"\") for c in df.columns] \n",
    "state_encoder = LabelEncoder() \n",
    "df.state = state_encoder.fit_transform(df.state) \n",
    "del df['phone'] \n",
    "binary_columns = ['intl_plan', 'vmail_plan', 'churn'] \n",
    "for col in binary_columns: \n",
    "    df[col] = df[col].map({ \n",
    "        'no': 0\n",
    "    ,   'False.': 0\n",
    "    ,   'yes': 1\n",
    "    ,   'True.': 1 \n",
    "    })\n",
    "\n",
    "# Build the classifier and get the predictions \n",
    "clf = RandomForestClassifier(n_estimators=50, oob_score=True) \n",
    "test_size_percent = 0.1 \n",
    "signals = df[[c for c in df.columns if c != 'churn']] \n",
    "labels = df['churn'] \n",
    "train_signals, test_signals, train_labels, test_labels = train_test_split(signals, labels, test_size=test_size_percent) \n",
    "clf.fit(train_signals, train_labels) \n",
    "predictions = clf.predict_proba(test_signals)[:,1]"
   ]
  },
  {
   "cell_type": "code",
   "execution_count": 113,
   "metadata": {},
   "outputs": [
    {
     "data": {
      "image/png": "[encoded data removed]",
      "text/plain": [
       "<Figure size 432x288 with 1 Axes>"
      ]
     },
     "metadata": {
      "needs_background": "light"
     },
     "output_type": "display_data"
    }
   ],
   "source": [
    "precision, recall, thresholds = precision_recall_curve(test_labels, predictions) \n",
    "thresholds = np.append(thresholds, 1) \n",
    "queue_rate = [] \n",
    "for threshold in thresholds: \n",
    "    queue_rate.append((predictions >= threshold).mean()) \n",
    "plt.plot(thresholds, precision, color=sns.color_palette()[0]) \n",
    "plt.plot(thresholds, recall, color=sns.color_palette()[1])\n",
    "plt.plot(thresholds, queue_rate, color=sns.color_palette()[2]) \n",
    "leg = plt.legend(('precision', 'recall', 'queue_rate'), frameon=True) \n",
    "leg.get_frame().set_edgecolor('k') \n",
    "plt.xlabel('threshold') \n",
    "plt.ylabel('%');"
   ]
  },
  {
   "cell_type": "code",
   "execution_count": null,
   "metadata": {},
   "outputs": [],
   "source": []
  }
 ],
 "metadata": {
  "colab": {
   "collapsed_sections": [],
   "name": "LS_DS_242_Validate_classification_problems.ipynb",
   "provenance": [],
   "version": "0.3.2"
  },
  "kernelspec": {
   "display_name": "Python 3",
   "language": "python",
   "name": "python3"
  },
  "language_info": {
   "codemirror_mode": {
    "name": "ipython",
    "version": 3
   },
   "file_extension": ".py",
   "mimetype": "text/x-python",
   "name": "python",
   "nbconvert_exporter": "python",
   "pygments_lexer": "ipython3",
   "version": "3.6.8"
  },
  "toc": {
   "base_numbering": 1,
   "nav_menu": {},
   "number_sections": true,
   "sideBar": true,
   "skip_h1_title": false,
   "title_cell": "Table of Contents",
   "title_sidebar": "Contents",
   "toc_cell": false,
   "toc_position": {},
   "toc_section_display": true,
   "toc_window_display": false
  }
 },
 "nbformat": 4,
 "nbformat_minor": 1
}
