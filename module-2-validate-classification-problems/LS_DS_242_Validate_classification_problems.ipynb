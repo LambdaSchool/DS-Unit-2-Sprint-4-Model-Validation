{
 "cells": [
  {
   "cell_type": "markdown",
   "metadata": {
    "colab_type": "text",
    "id": "KMI2k-oBsS08"
   },
   "source": [
    "_Lambda School Data Science — Model Validation_ \n",
    "\n",
    "# Validate classification problems\n",
    "\n",
    "Objectives\n",
    "- Imbalanced Classes\n",
    "- Confusion Matrix\n",
    "- ROC AUC\n"
   ]
  },
  {
   "cell_type": "markdown",
   "metadata": {
    "colab_type": "text",
    "id": "SUZCkblZYN60"
   },
   "source": [
    "Reading\n",
    "- [Simple guide to confusion matrix terminology](https://www.dataschool.io/simple-guide-to-confusion-matrix-terminology/)\n",
    "- [Precision and Recall](https://en.wikipedia.org/wiki/Precision_and_recall)"
   ]
  },
  {
   "cell_type": "markdown",
   "metadata": {
    "colab_type": "text",
    "id": "rU7RuVcjWdcp"
   },
   "source": [
    "## Preliminary"
   ]
  },
  {
   "cell_type": "markdown",
   "metadata": {
    "colab_type": "text",
    "id": "jes2WnwV072n"
   },
   "source": [
    "We'll use [mlxtend](http://rasbt.github.io/mlxtend/) and [yellowbrick](http://www.scikit-yb.org/en/latest/) for visualizations. These libraries are already installed on Google Colab. But if you are running locally with Anaconda Python, you'll probably need to install them:\n",
    "\n",
    "```\n",
    "conda install -c conda-forge mlxtend \n",
    "conda install -c districtdatalabs yellowbrick\n",
    "```"
   ]
  },
  {
   "cell_type": "markdown",
   "metadata": {
    "colab_type": "text",
    "id": "nQYGb3HgEp8b"
   },
   "source": [
    "We'll reuse the `train_validation_test_split` function from yesterday's lesson."
   ]
  },
  {
   "cell_type": "code",
   "execution_count": 1,
   "metadata": {
    "colab": {},
    "colab_type": "code",
    "id": "PMTjC3vQ7ZNV"
   },
   "outputs": [],
   "source": [
    "import pandas as pd\n",
    "import numpy as np\n",
    "from sklearn.model_selection import train_test_split\n",
    "\n",
    "def train_validation_test_split(\n",
    "    X, y, train_size=0.8, val_size=0.1, test_size=0.1, \n",
    "    random_state=None, shuffle=True):\n",
    "        \n",
    "    assert train_size + val_size + test_size == 1\n",
    "    \n",
    "    X_train_val, X_test, y_train_val, y_test = train_test_split(\n",
    "        X, y, test_size=test_size, random_state=random_state, shuffle=shuffle)\n",
    "    \n",
    "    X_train, X_val, y_train, y_val = train_test_split(\n",
    "        X_train_val, y_train_val, test_size=val_size/(train_size+val_size), \n",
    "        random_state=random_state, shuffle=shuffle)\n",
    "    \n",
    "    return X_train, X_val, X_test, y_train, y_val, y_test"
   ]
  },
  {
   "cell_type": "markdown",
   "metadata": {
    "colab_type": "text",
    "id": "OWLBlu5K5kJR"
   },
   "source": [
    "## Fun demo!\n",
    "\n",
    "The next code cell does five things:\n",
    "\n",
    "#### 1. Generate data\n",
    "\n",
    "We use scikit-learn's [make_classification](https://scikit-learn.org/stable/modules/generated/sklearn.datasets.make_classification.html) function to generate fake data for a binary classification problem, based on several parameters, including:\n",
    "- Number of samples\n",
    "- Weights, meaning \"the proportions of samples assigned to each class.\"\n",
    "- Class separation: \"Larger values spread out the clusters/classes and make the classification task easier.\"\n",
    "\n",
    "(We are generating fake data so it is easy to visualize.)\n",
    "\n",
    "#### 2. Split data\n",
    "\n",
    "We split the data three ways, into train, validation, and test sets. (For this toy example, it's not really necessary to do a three-way split. A two-way split, or even no split, would be ok. But I'm trying to demonstrate good habits, even in toy examples, to avoid confusion.)\n",
    "\n",
    "#### 3. Fit model\n",
    "\n",
    "We use scikit-learn to fit a [Logistic Regression](https://scikit-learn.org/stable/modules/generated/sklearn.linear_model.LogisticRegression.html) on the training data.\n",
    "\n",
    "We use this model parameter:\n",
    "\n",
    "> **class_weight : _dict or ‘balanced’, default: None_**\n",
    "\n",
    "> Weights associated with classes in the form `{class_label: weight}`. If not given, all classes are supposed to have weight one.\n",
    "\n",
    "> The “balanced” mode uses the values of y to automatically adjust weights inversely proportional to class frequencies in the input data as `n_samples / (n_classes * np.bincount(y))`.\n",
    "\n",
    "\n",
    "#### 4. Evaluate model\n",
    "\n",
    "We use our Logistic Regression model, which was fit on the training data, to generate predictions for the validation data.\n",
    "\n",
    "Then we print [scikit-learn's Classification Report](https://scikit-learn.org/stable/modules/model_evaluation.html#classification-report), with many metrics, and also the accuracy score. We are comparing the correct labels to the Logistic Regression's predicted labels, for the validation set. \n",
    "\n",
    "#### 5. Visualize decision function\n",
    "\n",
    "Based on these examples\n",
    "- https://imbalanced-learn.readthedocs.io/en/stable/auto_examples/combine/plot_comparison_combine.html\n",
    "- http://rasbt.github.io/mlxtend/user_guide/plotting/plot_decision_regions/#example-1-decision-regions-in-2d"
   ]
  },
  {
   "cell_type": "code",
   "execution_count": 22,
   "metadata": {
    "colab": {},
    "colab_type": "code",
    "id": "TcpoWCUq5xNV"
   },
   "outputs": [
    {
     "name": "stdout",
     "output_type": "stream",
     "text": [
      "              precision    recall  f1-score   support\n",
      "\n",
      "           0       1.00      0.62      0.77        48\n",
      "           1       0.74      1.00      0.85        52\n",
      "\n",
      "   micro avg       0.82      0.82      0.82       100\n",
      "   macro avg       0.87      0.81      0.81       100\n",
      "weighted avg       0.87      0.82      0.81       100\n",
      "\n",
      "accuracy 0.82\n"
     ]
    },
    {
     "data": {
      "image/png": "[encoded data removed]",
      "text/plain": [
       "<Figure size 720x432 with 1 Axes>"
      ]
     },
     "metadata": {
      "needs_background": "light"
     },
     "output_type": "display_data"
    }
   ],
   "source": [
    "%matplotlib inline\n",
    "import matplotlib.pyplot as plt\n",
    "from sklearn.datasets import make_classification\n",
    "from sklearn.metrics import accuracy_score, classification_report\n",
    "from sklearn.linear_model import LogisticRegression\n",
    "from mlxtend.plotting import plot_decision_regions\n",
    "\n",
    "\n",
    "#1. Generate data\n",
    "\n",
    "# Try re-running the cell with different values for these parameters\n",
    "n_samples = 1000\n",
    "weights = (0.50, 0.50)\n",
    "class_sep = 0.8\n",
    "\n",
    "X, y = make_classification(n_samples=n_samples, n_features=2, n_informative=2, \n",
    "                           n_redundant=0, n_repeated=0, n_classes=2, \n",
    "                           n_clusters_per_class=1, weights=weights, \n",
    "                           class_sep=class_sep, random_state=0)\n",
    "\n",
    "\n",
    "# 2. Split data\n",
    "\n",
    "# Uses our custom train_validation_test_split function\n",
    "X_train, X_val, X_test, y_train, y_val, y_test = train_validation_test_split(\n",
    "    X, y, train_size=0.8, val_size=0.1, test_size=0.1, random_state=1)\n",
    "\n",
    "\n",
    "# 3. Fit model\n",
    "\n",
    "# Try re-running the cell with different values for this parameter\n",
    "class_weight = None\n",
    "class_weight = {0: 1, 1: 10} # \"each positive class is 100 times more important to get right than the negative class\"\n",
    "# The cost of a false positive is $1, the cost of a true negative is $100 \n",
    "\n",
    "model = LogisticRegression(solver='lbfgs', class_weight=class_weight)\n",
    "model.fit(X_train, y_train)\n",
    "\n",
    "\n",
    "# 4. Evaluate model\n",
    "\n",
    "y_pred = model.predict(X_val)\n",
    "print(classification_report(y_val, y_pred))\n",
    "print('accuracy', accuracy_score(y_val, y_pred))\n",
    "\n",
    "\n",
    "# 5. Visualize decision regions\n",
    "\n",
    "plt.figure(figsize=(10, 6))\n",
    "plot_decision_regions(X_val, y_val, model, legend=0);"
   ]
  },
  {
   "cell_type": "markdown",
   "metadata": {
    "colab_type": "text",
    "id": "zrllN3yECsEN"
   },
   "source": [
    "Try re-running the cell above with different values for these four parameters:\n",
    "- `n_samples`\n",
    "- `weights`\n",
    "- `class_sep`\n",
    "- `class_balance`\n",
    "\n",
    "For example, with a 50% / 50% class distribution:\n",
    "```\n",
    "n_samples = 1000\n",
    "weights = (0.50, 0.50)\n",
    "class_sep = 0.8\n",
    "class_balance = None\n",
    "```\n",
    "\n",
    "With a 95% / 5% class distribution:\n",
    "```\n",
    "n_samples = 1000\n",
    "weights = (0.95, 0.05)\n",
    "class_sep = 0.8\n",
    "class_balance = None\n",
    "```\n",
    "\n",
    "With the same 95% / 5% class distribution, but changing the Logistic Regression's `class_balance` parameter to `'balanced'` (instead of its default `None`)\n",
    "```\n",
    "n_samples = 1000\n",
    "weights = (0.95, 0.05)\n",
    "class_sep = 0.8\n",
    "class_balance = 'balanced'\n",
    "```\n",
    "\n",
    "With the same 95% / 5% class distribution, but with different values for `class_balance`:\n",
    "- `{0: 1, 1: 1}` _(equivalent to `None`)_\n",
    "- `{1: 1, 1: 2}`\n",
    "- `{1: 1, 1: 10}` _(roughly equivalent to `'balanced'` for this dataset)_\n",
    "- `{1: 1, 1: 100}`\n",
    "- `{1: 1, 1: 10000}`\n",
    "\n",
    "How do the evaluation metrics and decision region plots change?"
   ]
  },
  {
   "cell_type": "code",
   "execution_count": 23,
   "metadata": {},
   "outputs": [
    {
     "data": {
      "text/plain": [
       "((100,), (100,))"
      ]
     },
     "execution_count": 23,
     "metadata": {},
     "output_type": "execute_result"
    }
   ],
   "source": [
    "y_val.shape, y_pred.shape"
   ]
  },
  {
   "cell_type": "code",
   "execution_count": 24,
   "metadata": {},
   "outputs": [
    {
     "data": {
      "text/plain": [
       "0.82"
      ]
     },
     "execution_count": 24,
     "metadata": {},
     "output_type": "execute_result"
    }
   ],
   "source": [
    "accuracy_score(y_val, y_pred)"
   ]
  },
  {
   "cell_type": "code",
   "execution_count": 26,
   "metadata": {},
   "outputs": [
    {
     "name": "stdout",
     "output_type": "stream",
     "text": [
      "              precision    recall  f1-score   support\n",
      "\n",
      "           0       1.00      0.62      0.77        48\n",
      "           1       0.74      1.00      0.85        52\n",
      "\n",
      "   micro avg       0.82      0.82      0.82       100\n",
      "   macro avg       0.87      0.81      0.81       100\n",
      "weighted avg       0.87      0.82      0.81       100\n",
      "\n"
     ]
    }
   ],
   "source": [
    "print(classification_report(y_val, y_pred))"
   ]
  },
  {
   "cell_type": "code",
   "execution_count": 27,
   "metadata": {},
   "outputs": [
    {
     "data": {
      "text/plain": [
       "0.8125"
      ]
     },
     "execution_count": 27,
     "metadata": {},
     "output_type": "execute_result"
    }
   ],
   "source": [
    "from sklearn.metrics import roc_auc_score\n",
    "roc_auc_score(y_val, y_pred)"
   ]
  },
  {
   "cell_type": "markdown",
   "metadata": {
    "colab_type": "text",
    "id": "5-3MS-jANssN"
   },
   "source": [
    "## What you can do about imbalanced classes"
   ]
  },
  {
   "cell_type": "markdown",
   "metadata": {
    "colab_type": "text",
    "id": "2KwgStd-yUUr"
   },
   "source": [
    "[Learning from Imbalanced Classes](https://www.svds.com/tbt-learning-imbalanced-classes/) gives \"a rough outline of useful approaches\" : \n",
    "\n",
    "- Do nothing. Sometimes you get lucky and nothing needs to be done. You can train on the so-called natural (or stratified) distribution and sometimes it works without need for modification.\n",
    "- Balance the training set in some way:\n",
    "  - Oversample the minority class.\n",
    "  - Undersample the majority class.\n",
    "  - Synthesize new minority classes.\n",
    "- Throw away minority examples and switch to an anomaly detection framework.\n",
    "- At the algorithm level, or after it:\n",
    "  - Adjust the class weight (misclassification costs).\n",
    "  - Adjust the decision threshold.\n",
    "  - Modify an existing algorithm to be more sensitive to rare classes.\n",
    "- Construct an entirely new algorithm to perform well on imbalanced data.\n"
   ]
  },
  {
   "cell_type": "markdown",
   "metadata": {
    "colab_type": "text",
    "id": "iO7kOZ2HN0EA"
   },
   "source": [
    "We demonstrated just one of these options: many scikit-learn classifiers have a `class_balance` parameter, which we can use to \"adjust the class weight (misclassification costs).\"\n",
    "\n",
    "The [imbalance-learn](https://github.com/scikit-learn-contrib/imbalanced-learn) library can be used to \"oversample the minority class, undersample the majority class, or synthesize new minority classes.\"\n",
    "\n",
    "You can see how to \"adjust the decision threshold\" in a great blog post, [Visualizing Machine Learning Thresholds to Make Better Business Decisions](https://blog.insightdatascience.com/visualizing-machine-learning-thresholds-to-make-better-business-decisions-4ab07f823415)."
   ]
  },
  {
   "cell_type": "markdown",
   "metadata": {
    "colab_type": "text",
    "id": "Xhh5TiW_X1_Q"
   },
   "source": [
    "## Bank Marketing — getting started\n",
    "\n",
    "https://archive.ics.uci.edu/ml/datasets/Bank+Marketing\n",
    "\n",
    "The data is related with direct marketing campaigns of a Portuguese banking institution. The marketing campaigns were based on phone calls. Often, more than one contact to the same client was required, in order to access if the product (bank term deposit) would be ('yes') or not ('no') subscribed. \n",
    "\n",
    "bank-additional-full.csv with all examples (41188) and 20 inputs, **ordered by date (from May 2008 to November 2010)**"
   ]
  },
  {
   "cell_type": "markdown",
   "metadata": {
    "colab_type": "text",
    "id": "n18wVnuxY-xl"
   },
   "source": [
    "### Download data"
   ]
  },
  {
   "cell_type": "code",
   "execution_count": 3,
   "metadata": {
    "colab": {},
    "colab_type": "code",
    "id": "S-oHbkK1X1h2"
   },
   "outputs": [
    {
     "name": "stdout",
     "output_type": "stream",
     "text": [
      "--2019-01-29 12:19:14--  https://archive.ics.uci.edu/ml/machine-learning-databases/00222/bank-additional.zip\n",
      "Resolving archive.ics.uci.edu (archive.ics.uci.edu)... 128.195.10.249\n",
      "Connecting to archive.ics.uci.edu (archive.ics.uci.edu)|128.195.10.249|:443... connected.\n",
      "HTTP request sent, awaiting response... 200 OK\n",
      "Length: 444572 (434K) [application/zip]\n",
      "Saving to: ‘bank-additional.zip’\n",
      "\n",
      "bank-additional.zip 100%[===================>] 434.15K   946KB/s    in 0.5s    \n",
      "\n",
      "2019-01-29 12:19:16 (946 KB/s) - ‘bank-additional.zip’ saved [444572/444572]\n",
      "\n"
     ]
    }
   ],
   "source": [
    "!wget https://archive.ics.uci.edu/ml/machine-learning-databases/00222/bank-additional.zip"
   ]
  },
  {
   "cell_type": "code",
   "execution_count": 4,
   "metadata": {
    "cellView": "both",
    "colab": {},
    "colab_type": "code",
    "id": "1INLmiipZA-y"
   },
   "outputs": [
    {
     "name": "stdout",
     "output_type": "stream",
     "text": [
      "Archive:  bank-additional.zip\n",
      "   creating: bank-additional/\n",
      "  inflating: bank-additional/.DS_Store  \n",
      "   creating: __MACOSX/\n",
      "   creating: __MACOSX/bank-additional/\n",
      "  inflating: __MACOSX/bank-additional/._.DS_Store  \n",
      "  inflating: bank-additional/.Rhistory  \n",
      "  inflating: bank-additional/bank-additional-full.csv  \n",
      "  inflating: bank-additional/bank-additional-names.txt  \n",
      "  inflating: bank-additional/bank-additional.csv  \n",
      "  inflating: __MACOSX/._bank-additional  \n"
     ]
    }
   ],
   "source": [
    "!unzip bank-additional.zip"
   ]
  },
  {
   "cell_type": "code",
   "execution_count": 5,
   "metadata": {
    "colab": {},
    "colab_type": "code",
    "id": "HwWCY5XrZCWk"
   },
   "outputs": [
    {
     "name": "stdout",
     "output_type": "stream",
     "text": [
      "/home/quinn/Projects/DS1/DS-Unit-2-Sprint-4-Model-Validation/module-2-validate-classification-problems/bank-additional\n"
     ]
    }
   ],
   "source": [
    "%cd bank-additional"
   ]
  },
  {
   "cell_type": "markdown",
   "metadata": {
    "colab_type": "text",
    "id": "Zf49DcHTZPdE"
   },
   "source": [
    "### Load data, assign to X and y"
   ]
  },
  {
   "cell_type": "code",
   "execution_count": 28,
   "metadata": {
    "colab": {},
    "colab_type": "code",
    "id": "OwhVgENcZEwo"
   },
   "outputs": [
    {
     "data": {
      "text/html": [
       "<div>\n",
       "<style scoped>\n",
       "    .dataframe tbody tr th:only-of-type {\n",
       "        vertical-align: middle;\n",
       "    }\n",
       "\n",
       "    .dataframe tbody tr th {\n",
       "        vertical-align: top;\n",
       "    }\n",
       "\n",
       "    .dataframe thead th {\n",
       "        text-align: right;\n",
       "    }\n",
       "</style>\n",
       "<table border=\"1\" class=\"dataframe\">\n",
       "  <thead>\n",
       "    <tr style=\"text-align: right;\">\n",
       "      <th></th>\n",
       "      <th>age</th>\n",
       "      <th>job</th>\n",
       "      <th>marital</th>\n",
       "      <th>education</th>\n",
       "      <th>default</th>\n",
       "      <th>housing</th>\n",
       "      <th>loan</th>\n",
       "      <th>contact</th>\n",
       "      <th>month</th>\n",
       "      <th>day_of_week</th>\n",
       "      <th>duration</th>\n",
       "      <th>campaign</th>\n",
       "      <th>pdays</th>\n",
       "      <th>previous</th>\n",
       "      <th>poutcome</th>\n",
       "      <th>emp.var.rate</th>\n",
       "      <th>cons.price.idx</th>\n",
       "      <th>cons.conf.idx</th>\n",
       "      <th>euribor3m</th>\n",
       "      <th>nr.employed</th>\n",
       "    </tr>\n",
       "  </thead>\n",
       "  <tbody>\n",
       "    <tr>\n",
       "      <th>0</th>\n",
       "      <td>56</td>\n",
       "      <td>housemaid</td>\n",
       "      <td>married</td>\n",
       "      <td>basic.4y</td>\n",
       "      <td>no</td>\n",
       "      <td>no</td>\n",
       "      <td>no</td>\n",
       "      <td>telephone</td>\n",
       "      <td>may</td>\n",
       "      <td>mon</td>\n",
       "      <td>261</td>\n",
       "      <td>1</td>\n",
       "      <td>999</td>\n",
       "      <td>0</td>\n",
       "      <td>nonexistent</td>\n",
       "      <td>1.1</td>\n",
       "      <td>93.994</td>\n",
       "      <td>-36.4</td>\n",
       "      <td>4.857</td>\n",
       "      <td>5191.0</td>\n",
       "    </tr>\n",
       "    <tr>\n",
       "      <th>1</th>\n",
       "      <td>57</td>\n",
       "      <td>services</td>\n",
       "      <td>married</td>\n",
       "      <td>high.school</td>\n",
       "      <td>unknown</td>\n",
       "      <td>no</td>\n",
       "      <td>no</td>\n",
       "      <td>telephone</td>\n",
       "      <td>may</td>\n",
       "      <td>mon</td>\n",
       "      <td>149</td>\n",
       "      <td>1</td>\n",
       "      <td>999</td>\n",
       "      <td>0</td>\n",
       "      <td>nonexistent</td>\n",
       "      <td>1.1</td>\n",
       "      <td>93.994</td>\n",
       "      <td>-36.4</td>\n",
       "      <td>4.857</td>\n",
       "      <td>5191.0</td>\n",
       "    </tr>\n",
       "    <tr>\n",
       "      <th>2</th>\n",
       "      <td>37</td>\n",
       "      <td>services</td>\n",
       "      <td>married</td>\n",
       "      <td>high.school</td>\n",
       "      <td>no</td>\n",
       "      <td>yes</td>\n",
       "      <td>no</td>\n",
       "      <td>telephone</td>\n",
       "      <td>may</td>\n",
       "      <td>mon</td>\n",
       "      <td>226</td>\n",
       "      <td>1</td>\n",
       "      <td>999</td>\n",
       "      <td>0</td>\n",
       "      <td>nonexistent</td>\n",
       "      <td>1.1</td>\n",
       "      <td>93.994</td>\n",
       "      <td>-36.4</td>\n",
       "      <td>4.857</td>\n",
       "      <td>5191.0</td>\n",
       "    </tr>\n",
       "    <tr>\n",
       "      <th>3</th>\n",
       "      <td>40</td>\n",
       "      <td>admin.</td>\n",
       "      <td>married</td>\n",
       "      <td>basic.6y</td>\n",
       "      <td>no</td>\n",
       "      <td>no</td>\n",
       "      <td>no</td>\n",
       "      <td>telephone</td>\n",
       "      <td>may</td>\n",
       "      <td>mon</td>\n",
       "      <td>151</td>\n",
       "      <td>1</td>\n",
       "      <td>999</td>\n",
       "      <td>0</td>\n",
       "      <td>nonexistent</td>\n",
       "      <td>1.1</td>\n",
       "      <td>93.994</td>\n",
       "      <td>-36.4</td>\n",
       "      <td>4.857</td>\n",
       "      <td>5191.0</td>\n",
       "    </tr>\n",
       "    <tr>\n",
       "      <th>4</th>\n",
       "      <td>56</td>\n",
       "      <td>services</td>\n",
       "      <td>married</td>\n",
       "      <td>high.school</td>\n",
       "      <td>no</td>\n",
       "      <td>no</td>\n",
       "      <td>yes</td>\n",
       "      <td>telephone</td>\n",
       "      <td>may</td>\n",
       "      <td>mon</td>\n",
       "      <td>307</td>\n",
       "      <td>1</td>\n",
       "      <td>999</td>\n",
       "      <td>0</td>\n",
       "      <td>nonexistent</td>\n",
       "      <td>1.1</td>\n",
       "      <td>93.994</td>\n",
       "      <td>-36.4</td>\n",
       "      <td>4.857</td>\n",
       "      <td>5191.0</td>\n",
       "    </tr>\n",
       "  </tbody>\n",
       "</table>\n",
       "</div>"
      ],
      "text/plain": [
       "   age        job  marital    education  default housing loan    contact  \\\n",
       "0   56  housemaid  married     basic.4y       no      no   no  telephone   \n",
       "1   57   services  married  high.school  unknown      no   no  telephone   \n",
       "2   37   services  married  high.school       no     yes   no  telephone   \n",
       "3   40     admin.  married     basic.6y       no      no   no  telephone   \n",
       "4   56   services  married  high.school       no      no  yes  telephone   \n",
       "\n",
       "  month day_of_week  duration  campaign  pdays  previous     poutcome  \\\n",
       "0   may         mon       261         1    999         0  nonexistent   \n",
       "1   may         mon       149         1    999         0  nonexistent   \n",
       "2   may         mon       226         1    999         0  nonexistent   \n",
       "3   may         mon       151         1    999         0  nonexistent   \n",
       "4   may         mon       307         1    999         0  nonexistent   \n",
       "\n",
       "   emp.var.rate  cons.price.idx  cons.conf.idx  euribor3m  nr.employed  \n",
       "0           1.1          93.994          -36.4      4.857       5191.0  \n",
       "1           1.1          93.994          -36.4      4.857       5191.0  \n",
       "2           1.1          93.994          -36.4      4.857       5191.0  \n",
       "3           1.1          93.994          -36.4      4.857       5191.0  \n",
       "4           1.1          93.994          -36.4      4.857       5191.0  "
      ]
     },
     "execution_count": 28,
     "metadata": {},
     "output_type": "execute_result"
    }
   ],
   "source": [
    "import pandas as pd\n",
    "\n",
    "bank = pd.read_csv('bank-additional-full.csv', sep=';')\n",
    "\n",
    "X = bank.drop(columns='y')\n",
    "y = bank['y'] == 'yes'\n",
    "\n",
    "X.head()"
   ]
  },
  {
   "cell_type": "markdown",
   "metadata": {
    "colab_type": "text",
    "id": "lq1it0dnZlX3"
   },
   "source": [
    "### Split data"
   ]
  },
  {
   "cell_type": "markdown",
   "metadata": {
    "colab_type": "text",
    "id": "P-FgY4pIaEXo"
   },
   "source": [
    "We want to do \"model selection (hyperparameter optimization) and performance estimation\" so we'll choose a validation method from the diagram's green box.\n",
    "\n",
    "There is no one \"right\" choice here, but I'll choose \"3-way holdout method (train/validation/test split).\"\n",
    "  \n",
    "<img src=\"https://sebastianraschka.com/images/blog/2018/model-evaluation-selection-part4/model-eval-conclusions.jpg\" width=\"600\">\n",
    "\n",
    "Source: https://sebastianraschka.com/blog/2018/model-evaluation-selection-part4.html"
   ]
  },
  {
   "cell_type": "markdown",
   "metadata": {
    "colab_type": "text",
    "id": "V74i3GDcZnkm"
   },
   "source": [
    "There's no one \"right\" choice here, but I'll choose to split by time, not with a random shuffle, based on this advice by [Rachel Thomas](\n",
    "https://www.fast.ai/2017/11/13/validation-sets/):\n",
    "> If your data is a time series, choosing a random subset of the data will be both too easy (you can look at the data both before and after the dates your are trying to predict) and not representative of most business use cases (where you are using historical data to build a model for use in the future).\n",
    "\n",
    "[According to UCI](https://archive.ics.uci.edu/ml/datasets/Bank+Marketing), this data is \"ordered by date (from May 2008 to November 2010)\" so if I don't shuffle it when splitting, then it will be split by time."
   ]
  },
  {
   "cell_type": "code",
   "execution_count": 29,
   "metadata": {
    "colab": {},
    "colab_type": "code",
    "id": "-xnw-vfOamHH"
   },
   "outputs": [],
   "source": [
    "X_train, X_val, X_test, y_train, y_val, y_test = train_validation_test_split(\n",
    "    X, y, shuffle=False)"
   ]
  },
  {
   "cell_type": "code",
   "execution_count": 31,
   "metadata": {},
   "outputs": [
    {
     "name": "stdout",
     "output_type": "stream",
     "text": [
      "Collecting category_encoders\n",
      "  Using cached https://files.pythonhosted.org/packages/f7/d3/82a4b85a87ece114f6d0139d643580c726efa45fa4db3b81aed38c0156c5/category_encoders-1.3.0-py2.py3-none-any.whl\n",
      "Requirement already satisfied: statsmodels>=0.6.1 in /home/quinn/anaconda3/lib/python3.6/site-packages (from category_encoders) (0.9.0)\n",
      "Requirement already satisfied: pandas>=0.20.1 in /home/quinn/anaconda3/lib/python3.6/site-packages (from category_encoders) (0.24.0)\n",
      "Requirement already satisfied: numpy>=1.11.1 in /home/quinn/anaconda3/lib/python3.6/site-packages (from category_encoders) (1.15.4)\n",
      "Requirement already satisfied: patsy>=0.4.1 in /home/quinn/anaconda3/lib/python3.6/site-packages (from category_encoders) (0.5.1)\n",
      "Requirement already satisfied: scikit-learn>=0.17.1 in /home/quinn/anaconda3/lib/python3.6/site-packages (from category_encoders) (0.20.2)\n",
      "Requirement already satisfied: scipy>=0.17.0 in /home/quinn/anaconda3/lib/python3.6/site-packages (from category_encoders) (1.2.0)\n",
      "Requirement already satisfied: pytz>=2011k in /home/quinn/anaconda3/lib/python3.6/site-packages (from pandas>=0.20.1->category_encoders) (2018.9)\n",
      "Requirement already satisfied: python-dateutil>=2.5.0 in /home/quinn/anaconda3/lib/python3.6/site-packages (from pandas>=0.20.1->category_encoders) (2.7.5)\n",
      "Requirement already satisfied: six in /home/quinn/anaconda3/lib/python3.6/site-packages (from patsy>=0.4.1->category_encoders) (1.12.0)\n",
      "Installing collected packages: category-encoders\n",
      "Successfully installed category-encoders-1.3.0\n"
     ]
    }
   ],
   "source": [
    "!pip install category_encoders"
   ]
  },
  {
   "cell_type": "markdown",
   "metadata": {
    "colab_type": "text",
    "id": "12dWJxXabDxt"
   },
   "source": [
    "## Bank Marketing — live coding!"
   ]
  },
  {
   "cell_type": "code",
   "execution_count": 32,
   "metadata": {
    "colab": {},
    "colab_type": "code",
    "id": "qAPOJu3uamrU"
   },
   "outputs": [
    {
     "name": "stderr",
     "output_type": "stream",
     "text": [
      "/home/quinn/anaconda3/lib/python3.6/site-packages/sklearn/preprocessing/data.py:625: DataConversionWarning: Data with input dtype int64, float64 were all converted to float64 by StandardScaler.\n",
      "  return self.partial_fit(X, y)\n",
      "/home/quinn/anaconda3/lib/python3.6/site-packages/sklearn/base.py:465: DataConversionWarning: Data with input dtype int64, float64 were all converted to float64 by StandardScaler.\n",
      "  return self.fit(X, y, **fit_params).transform(X)\n",
      "/home/quinn/anaconda3/lib/python3.6/site-packages/sklearn/linear_model/logistic.py:433: FutureWarning: Default solver will be changed to 'lbfgs' in 0.22. Specify a solver to silence this warning.\n",
      "  FutureWarning)\n",
      "/home/quinn/anaconda3/lib/python3.6/site-packages/sklearn/pipeline.py:331: DataConversionWarning: Data with input dtype int64, float64 were all converted to float64 by StandardScaler.\n",
      "  Xt = transform.transform(Xt)\n"
     ]
    }
   ],
   "source": [
    "import category_encoders as cd\n",
    "from sklearn.preprocessing import StandardScaler\n",
    "from sklearn.pipeline import make_pipeline\n",
    "from yellowbrick.classifier import ROCAUC\n",
    "\n",
    "pipeline = make_pipeline(\n",
    "    cd.OneHotEncoder(use_cat_names=True), \n",
    "    StandardScaler(), \n",
    "    LogisticRegression()\n",
    ")\n",
    "\n",
    "pipeline.fit(X_train, y_train)\n",
    "y_pred = pipeline.predict(X_val)\n",
    "\n"
   ]
  },
  {
   "cell_type": "code",
   "execution_count": 34,
   "metadata": {},
   "outputs": [
    {
     "name": "stderr",
     "output_type": "stream",
     "text": [
      "/home/quinn/anaconda3/lib/python3.6/site-packages/sklearn/preprocessing/data.py:625: DataConversionWarning: Data with input dtype int64, float64 were all converted to float64 by StandardScaler.\n",
      "  return self.partial_fit(X, y)\n",
      "/home/quinn/anaconda3/lib/python3.6/site-packages/sklearn/base.py:465: DataConversionWarning: Data with input dtype int64, float64 were all converted to float64 by StandardScaler.\n",
      "  return self.fit(X, y, **fit_params).transform(X)\n",
      "/home/quinn/anaconda3/lib/python3.6/site-packages/sklearn/linear_model/logistic.py:433: FutureWarning: Default solver will be changed to 'lbfgs' in 0.22. Specify a solver to silence this warning.\n",
      "  FutureWarning)\n",
      "/home/quinn/anaconda3/lib/python3.6/site-packages/sklearn/pipeline.py:381: DataConversionWarning: Data with input dtype int64, float64 were all converted to float64 by StandardScaler.\n",
      "  Xt = transform.transform(Xt)\n",
      "/home/quinn/anaconda3/lib/python3.6/site-packages/sklearn/pipeline.py:511: DataConversionWarning: Data with input dtype int64, float64 were all converted to float64 by StandardScaler.\n",
      "  Xt = transform.transform(Xt)\n"
     ]
    },
    {
     "data": {
      "image/png": "[encoded data removed]",
      "text/plain": [
       "<Figure size 576x396 with 1 Axes>"
      ]
     },
     "metadata": {},
     "output_type": "display_data"
    }
   ],
   "source": [
    "accuracy_score(y_val, y_pred)\n",
    "\n",
    "visualizer = ROCAUC(pipeline)\n",
    "visualizer.fit(X_train, y_train)\n",
    "visualizer.score(X_val, y_val)\n",
    "g = visualizer.poof()"
   ]
  },
  {
   "cell_type": "code",
   "execution_count": 47,
   "metadata": {},
   "outputs": [
    {
     "data": {
      "image/png": "[encoded data removed]",
      "text/plain": [
       "<Figure size 576x396 with 1 Axes>"
      ]
     },
     "metadata": {},
     "output_type": "display_data"
    }
   ],
   "source": [
    "#from matplotlib.colors import ListedColorMap\n",
    "import matplotlib.pyplot as plt\n",
    "import seaborn as sns\n",
    "from sklearn.metrics import confusion_matrix\n",
    "\n",
    "def confusion_viz(y_true, y_pred): \n",
    "    matrix = confusion_matrix(y_true, y_pred)\n",
    "    #cmap = ListedColorMap(['white'])\n",
    "    return sns.heatmap(matrix, cbar=False, annot=True, \n",
    "                       fmt=',', linewidths=1, linecolor='grey', \n",
    "                       square=True,\n",
    "                       xticklabels=['Predicted\\nNO', 'Actual\\nYES'],\n",
    "                       yticklabels=['Actual\\nNO', 'Predicted\\nNO'])\n",
    "\n",
    "confusion_viz(y_val, y_pred); \n",
    "\n",
    "#help(confusion_matrix)"
   ]
  },
  {
   "cell_type": "code",
   "execution_count": null,
   "metadata": {},
   "outputs": [],
   "source": []
  },
  {
   "cell_type": "markdown",
   "metadata": {
    "colab_type": "text",
    "id": "P_XjBTW5SBwZ"
   },
   "source": [
    "# ASSIGNMENT options\n",
    "\n",
    "Replicate code from the lesson or other examples. [Do it \"the hard way\" or with the \"Benjamin Franklin method.\"](https://docs.google.com/document/d/1ubOw9B3Hfip27hF2ZFnW3a3z9xAgrUDRReOEo-FHCVs/edit)\n",
    "\n",
    "Work with one of these datasets\n",
    "- [Bank Marketing](https://archive.ics.uci.edu/ml/datasets/Bank+Marketing)\n",
    "- [Synthetic Financial Dataset For Fraud Detection](https://www.kaggle.com/ntnu-testimon/paysim1)\n",
    "- Any imbalanced binary classification dataset\n",
    "\n",
    "Continue improving your model. Measure validation performance with a variety of classification metrics, which could include:\n",
    "- Accuracy\n",
    "- Precision\n",
    "- Recall\n",
    "- F1\n",
    "- ROC AUC\n",
    "\n",
    "Try one of the other options mentioned for imbalanced classes\n",
    "- The [imbalance-learn](https://github.com/scikit-learn-contrib/imbalanced-learn) library can be used to \"oversample the minority class, undersample the majority class, or synthesize new minority classes.\"\n",
    "- You can see how to \"adjust the decision threshold\" in a great blog post, [Visualizing Machine Learning Thresholds to Make Better Business Decisions](https://blog.insightdatascience.com/visualizing-machine-learning-thresholds-to-make-better-business-decisions-4ab07f823415)."
   ]
  }
 ],
 "metadata": {
  "colab": {
   "collapsed_sections": [],
   "name": "LS_DS_242_Validate_classification_problems.ipynb",
   "provenance": [],
   "version": "0.3.2"
  },
  "kernelspec": {
   "display_name": "Python 3",
   "language": "python",
   "name": "python3"
  },
  "language_info": {
   "codemirror_mode": {
    "name": "ipython",
    "version": 3
   },
   "file_extension": ".py",
   "mimetype": "text/x-python",
   "name": "python",
   "nbconvert_exporter": "python",
   "pygments_lexer": "ipython3",
   "version": "3.6.8"
  }
 },
 "nbformat": 4,
 "nbformat_minor": 1
}
