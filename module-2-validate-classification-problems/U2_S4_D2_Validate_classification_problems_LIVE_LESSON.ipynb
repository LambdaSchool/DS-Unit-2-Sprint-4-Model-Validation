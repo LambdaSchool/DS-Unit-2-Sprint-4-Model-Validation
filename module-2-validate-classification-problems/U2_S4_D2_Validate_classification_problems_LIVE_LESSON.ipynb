{
  "nbformat": 4,
  "nbformat_minor": 0,
  "metadata": {
    "colab": {
      "name": "U2-S4-D2-Validate_classification_problems LIVE LESSON.ipynb",
      "version": "0.3.2",
      "provenance": [],
      "collapsed_sections": [],
      "include_colab_link": true
    },
    "kernelspec": {
      "name": "python3",
      "display_name": "Python 3"
    }
  },
  "cells": [
    {
      "cell_type": "markdown",
      "metadata": {
        "id": "view-in-github",
        "colab_type": "text"
      },
      "source": [
        "<a href=\"https://colab.research.google.com/github/zarrinan/DS-Unit-2-Sprint-4-Model-Validation/blob/master/module-2-validate-classification-problems/U2_S4_D2_Validate_classification_problems_LIVE_LESSON.ipynb\" target=\"_parent\"><img src=\"https://colab.research.google.com/assets/colab-badge.svg\" alt=\"Open In Colab\"/></a>"
      ]
    },
    {
      "metadata": {
        "id": "KMI2k-oBsS08",
        "colab_type": "text"
      },
      "cell_type": "markdown",
      "source": [
        "_Lambda School Data Science — Model Validation_ \n",
        "\n",
        "# Validate classification problems\n",
        "\n",
        "Objectives\n",
        "- Imbalanced Classes\n",
        "- Confusion Matrix\n",
        "- ROC AUC\n"
      ]
    },
    {
      "metadata": {
        "id": "SUZCkblZYN60",
        "colab_type": "text"
      },
      "cell_type": "markdown",
      "source": [
        "Reading\n",
        "- [Simple guide to confusion matrix terminology](https://www.dataschool.io/simple-guide-to-confusion-matrix-terminology/)\n",
        "- [Precision and Recall](https://en.wikipedia.org/wiki/Precision_and_recall)"
      ]
    },
    {
      "metadata": {
        "id": "rU7RuVcjWdcp",
        "colab_type": "text"
      },
      "cell_type": "markdown",
      "source": [
        "## Preliminary"
      ]
    },
    {
      "metadata": {
        "id": "jes2WnwV072n",
        "colab_type": "text"
      },
      "cell_type": "markdown",
      "source": [
        "We'll use [mlxtend](http://rasbt.github.io/mlxtend/) and [yellowbrick](http://www.scikit-yb.org/en/latest/) for visualizations. These libraries are already installed on Google Colab. But if you are running locally with Anaconda Python, you'll probably need to install them:\n",
        "\n",
        "```\n",
        "conda install -c conda-forge mlxtend \n",
        "conda install -c districtdatalabs yellowbrick\n",
        "```"
      ]
    },
    {
      "metadata": {
        "id": "nQYGb3HgEp8b",
        "colab_type": "text"
      },
      "cell_type": "markdown",
      "source": [
        "We'll reuse the `train_validation_test_split` function from yesterday's lesson."
      ]
    },
    {
      "metadata": {
        "id": "PMTjC3vQ7ZNV",
        "colab_type": "code",
        "colab": {}
      },
      "cell_type": "code",
      "source": [
        "from sklearn.model_selection import train_test_split\n",
        "\n",
        "def train_validation_test_split(\n",
        "    X, y, train_size=0.8, val_size=0.1, test_size=0.1, \n",
        "    random_state=None, shuffle=True):\n",
        "        \n",
        "    assert train_size + val_size + test_size == 1\n",
        "    \n",
        "    X_train_val, X_test, y_train_val, y_test = train_test_split(\n",
        "        X, y, test_size=test_size, random_state=random_state, shuffle=shuffle)\n",
        "    \n",
        "    X_train, X_val, y_train, y_val = train_test_split(\n",
        "        X_train_val, y_train_val, test_size=val_size/(train_size+val_size), \n",
        "        random_state=random_state, shuffle=shuffle)\n",
        "    \n",
        "    return X_train, X_val, X_test, y_train, y_val, y_test"
      ],
      "execution_count": 0,
      "outputs": []
    },
    {
      "metadata": {
        "id": "OWLBlu5K5kJR",
        "colab_type": "text"
      },
      "cell_type": "markdown",
      "source": [
        "## Fun demo!\n",
        "\n",
        "The next code cell does five things:\n",
        "\n",
        "#### 1. Generate data\n",
        "\n",
        "We use scikit-learn's [make_classification](https://scikit-learn.org/stable/modules/generated/sklearn.datasets.make_classification.html) function to generate fake data for a binary classification problem, based on several parameters, including:\n",
        "- Number of samples\n",
        "- Weights, meaning \"the proportions of samples assigned to each class.\"\n",
        "- Class separation: \"Larger values spread out the clusters/classes and make the classification task easier.\"\n",
        "\n",
        "(We are generating fake data so it is easy to visualize.)\n",
        "\n",
        "#### 2. Split data\n",
        "\n",
        "We split the data three ways, into train, validation, and test sets. (For this toy example, it's not really necessary to do a three-way split. A two-way split, or even no split, would be ok. But I'm trying to demonstrate good habits, even in toy examples, to avoid confusion.)\n",
        "\n",
        "#### 3. Fit model\n",
        "\n",
        "We use scikit-learn to fit a [Logistic Regression](https://scikit-learn.org/stable/modules/generated/sklearn.linear_model.LogisticRegression.html) on the training data.\n",
        "\n",
        "We use this model parameter:\n",
        "\n",
        "> **class_weight : _dict or ‘balanced’, default: None_**\n",
        "\n",
        "> Weights associated with classes in the form `{class_label: weight}`. If not given, all classes are supposed to have weight one.\n",
        "\n",
        "> The “balanced” mode uses the values of y to automatically adjust weights inversely proportional to class frequencies in the input data as `n_samples / (n_classes * np.bincount(y))`.\n",
        "\n",
        "\n",
        "#### 4. Evaluate model\n",
        "\n",
        "We use our Logistic Regression model, which was fit on the training data, to generate predictions for the validation data.\n",
        "\n",
        "Then we print [scikit-learn's Classification Report](https://scikit-learn.org/stable/modules/model_evaluation.html#classification-report), with many metrics, and also the accuracy score. We are comparing the correct labels to the Logistic Regression's predicted labels, for the validation set. \n",
        "\n",
        "#### 5. Visualize decision function\n",
        "\n",
        "Based on these examples\n",
        "- https://imbalanced-learn.readthedocs.io/en/stable/auto_examples/combine/plot_comparison_combine.html\n",
        "- http://rasbt.github.io/mlxtend/user_guide/plotting/plot_decision_regions/#example-1-decision-regions-in-2d"
      ]
    },
    {
      "metadata": {
        "id": "TcpoWCUq5xNV",
        "colab_type": "code",
        "outputId": "d99a0477-8e9a-435a-9797-b3b08d2aafce",
        "colab": {
          "base_uri": "https://localhost:8080/",
          "height": 547
        }
      },
      "cell_type": "code",
      "source": [
        "%matplotlib inline\n",
        "import matplotlib.pyplot as plt\n",
        "from sklearn.datasets import make_classification\n",
        "from sklearn.metrics import accuracy_score, classification_report\n",
        "from sklearn.linear_model import LogisticRegression\n",
        "from mlxtend.plotting import plot_decision_regions\n",
        "\n",
        "\n",
        "#1. Generate data\n",
        "\n",
        "# Try re-running the cell with different values for these parameters\n",
        "n_samples = 1000\n",
        "weights = (0.95, 0.05)\n",
        "class_sep = 0.8\n",
        "\n",
        "X, y = make_classification(n_samples=n_samples, n_features=2, n_informative=2, \n",
        "                           n_redundant=0, n_repeated=0, n_classes=2, \n",
        "                           n_clusters_per_class=1, weights=weights, \n",
        "                           class_sep=class_sep, random_state=0)\n",
        "\n",
        "\n",
        "# 2. Split data\n",
        "\n",
        "# Uses our custom train_validation_test_split function\n",
        "X_train, X_val, X_test, y_train, y_val, y_test = train_validation_test_split(\n",
        "    X, y, train_size=0.8, val_size=0.1, test_size=0.1, random_state=1)\n",
        "\n",
        "\n",
        "# 3. Fit model\n",
        "\n",
        "# Try re-running the cell with different values for this parameter\n",
        "class_weight = {0: 1, 1: 10}\n",
        "\n",
        "model = LogisticRegression(solver='lbfgs', class_weight=class_weight)\n",
        "model.fit(X_train, y_train)\n",
        "\n",
        "\n",
        "# 4. Evaluate model\n",
        "\n",
        "y_pred = model.predict(X_val)\n",
        "print(classification_report(y_val, y_pred))\n",
        "print('accuracy', accuracy_score(y_val, y_pred))\n",
        "\n",
        "\n",
        "# 5. Visualize decision regions\n",
        "\n",
        "plt.figure(figsize=(10, 6))\n",
        "plot_decision_regions(X_val, y_val, model, legend=0);"
      ],
      "execution_count": 2,
      "outputs": [
        {
          "output_type": "stream",
          "text": [
            "              precision    recall  f1-score   support\n",
            "\n",
            "           0       1.00      0.93      0.96        96\n",
            "           1       0.36      1.00      0.53         4\n",
            "\n",
            "   micro avg       0.93      0.93      0.93       100\n",
            "   macro avg       0.68      0.96      0.75       100\n",
            "weighted avg       0.97      0.93      0.95       100\n",
            "\n",
            "accuracy 0.93\n"
          ],
          "name": "stdout"
        },
        {
          "output_type": "display_data",
          "data": {
            "image/png": "[encoded data removed]",
            "text/plain": [
              "<Figure size 720x432 with 1 Axes>"
            ]
          },
          "metadata": {
            "tags": []
          }
        }
      ]
    },
    {
      "metadata": {
        "id": "zrllN3yECsEN",
        "colab_type": "text"
      },
      "cell_type": "markdown",
      "source": [
        "Try re-running the cell above with different values for these four parameters:\n",
        "- `n_samples`\n",
        "- `weights`\n",
        "- `class_sep`\n",
        "- `class_balance`\n",
        "\n",
        "For example, with a 50% / 50% class distribution:\n",
        "```\n",
        "n_samples = 1000\n",
        "weights = (0.50, 0.50)\n",
        "class_sep = 0.8\n",
        "class_balance = None\n",
        "```\n",
        "\n",
        "With a 95% / 5% class distribution:\n",
        "```\n",
        "n_samples = 1000\n",
        "weights = (0.95, 0.05)\n",
        "class_sep = 0.8\n",
        "class_balance = None\n",
        "```\n",
        "\n",
        "With the same 95% / 5% class distribution, but changing the Logistic Regression's `class_balance` parameter to `'balanced'` (instead of its default `None`)\n",
        "```\n",
        "n_samples = 1000\n",
        "weights = (0.95, 0.05)\n",
        "class_sep = 0.8\n",
        "class_balance = 'balanced'\n",
        "```\n",
        "\n",
        "With the same 95% / 5% class distribution, but with different values for `class_balance`:\n",
        "- `{0: 1, 1: 1}` _(equivalent to `None`)_\n",
        "- `{0: 1, 1: 2}`\n",
        "- `{0: 1, 1: 10}` _(roughly equivalent to `'balanced'` for this dataset)_\n",
        "- `{0: 1, 1: 100}`\n",
        "- `{0: 1, 1: 10000}`\n",
        "\n",
        "How do the evaluation metrics and decision region plots change?"
      ]
    },
    {
      "metadata": {
        "id": "5-3MS-jANssN",
        "colab_type": "text"
      },
      "cell_type": "markdown",
      "source": [
        "## What you can do about imbalanced classes"
      ]
    },
    {
      "metadata": {
        "id": "2KwgStd-yUUr",
        "colab_type": "text"
      },
      "cell_type": "markdown",
      "source": [
        "[Learning from Imbalanced Classes](https://www.svds.com/tbt-learning-imbalanced-classes/) gives \"a rough outline of useful approaches\" : \n",
        "\n",
        "- Do nothing. Sometimes you get lucky and nothing needs to be done. You can train on the so-called natural (or stratified) distribution and sometimes it works without need for modification.\n",
        "- Balance the training set in some way:\n",
        "  - Oversample the minority class.\n",
        "  - Undersample the majority class.\n",
        "  - Synthesize new minority classes.\n",
        "- Throw away minority examples and switch to an anomaly detection framework.\n",
        "- At the algorithm level, or after it:\n",
        "  - Adjust the class weight (misclassification costs).\n",
        "  - Adjust the decision threshold.\n",
        "  - Modify an existing algorithm to be more sensitive to rare classes.\n",
        "- Construct an entirely new algorithm to perform well on imbalanced data.\n"
      ]
    },
    {
      "metadata": {
        "id": "iO7kOZ2HN0EA",
        "colab_type": "text"
      },
      "cell_type": "markdown",
      "source": [
        "We demonstrated just one of these options: many scikit-learn classifiers have a `class_balance` parameter, which we can use to \"adjust the class weight (misclassification costs).\"\n",
        "\n",
        "The [imbalance-learn](https://github.com/scikit-learn-contrib/imbalanced-learn) library can be used to \"oversample the minority class, undersample the majority class, or synthesize new minority classes.\"\n",
        "\n",
        "You can see how to \"adjust the decision threshold\" in a great blog post, [Visualizing Machine Learning Thresholds to Make Better Business Decisions](https://blog.insightdatascience.com/visualizing-machine-learning-thresholds-to-make-better-business-decisions-4ab07f823415)."
      ]
    },
    {
      "metadata": {
        "id": "Xhh5TiW_X1_Q",
        "colab_type": "text"
      },
      "cell_type": "markdown",
      "source": [
        "## Bank Marketing — getting started\n",
        "\n",
        "https://archive.ics.uci.edu/ml/datasets/Bank+Marketing\n",
        "\n",
        "The data is related with direct marketing campaigns of a Portuguese banking institution. The marketing campaigns were based on phone calls. Often, more than one contact to the same client was required, in order to access if the product (bank term deposit) would be ('yes') or not ('no') subscribed. \n",
        "\n",
        "bank-additional-full.csv with all examples (41188) and 20 inputs, **ordered by date (from May 2008 to November 2010)**"
      ]
    },
    {
      "metadata": {
        "id": "n18wVnuxY-xl",
        "colab_type": "text"
      },
      "cell_type": "markdown",
      "source": [
        "### Download data"
      ]
    },
    {
      "metadata": {
        "id": "S-oHbkK1X1h2",
        "colab_type": "code",
        "outputId": "80221864-e363-4d16-cd71-d3b7151ef694",
        "colab": {
          "base_uri": "https://localhost:8080/",
          "height": 207
        }
      },
      "cell_type": "code",
      "source": [
        "!wget https://archive.ics.uci.edu/ml/machine-learning-databases/00222/bank-additional.zip"
      ],
      "execution_count": 4,
      "outputs": [
        {
          "output_type": "stream",
          "text": [
            "--2019-01-29 20:59:56--  https://archive.ics.uci.edu/ml/machine-learning-databases/00222/bank-additional.zip\n",
            "Resolving archive.ics.uci.edu (archive.ics.uci.edu)... 128.195.10.249\n",
            "Connecting to archive.ics.uci.edu (archive.ics.uci.edu)|128.195.10.249|:443... connected.\n",
            "HTTP request sent, awaiting response... 200 OK\n",
            "Length: 444572 (434K) [application/zip]\n",
            "Saving to: ‘bank-additional.zip’\n",
            "\n",
            "bank-additional.zip 100%[===================>] 434.15K   555KB/s    in 0.8s    \n",
            "\n",
            "2019-01-29 20:59:57 (555 KB/s) - ‘bank-additional.zip’ saved [444572/444572]\n",
            "\n"
          ],
          "name": "stdout"
        }
      ]
    },
    {
      "metadata": {
        "id": "1INLmiipZA-y",
        "colab_type": "code",
        "cellView": "both",
        "outputId": "7b674fe4-75a4-4c41-e6bb-08f8c4dc0618",
        "colab": {
          "base_uri": "https://localhost:8080/",
          "height": 207
        }
      },
      "cell_type": "code",
      "source": [
        "!unzip bank-additional.zip"
      ],
      "execution_count": 5,
      "outputs": [
        {
          "output_type": "stream",
          "text": [
            "Archive:  bank-additional.zip\n",
            "   creating: bank-additional/\n",
            "  inflating: bank-additional/.DS_Store  \n",
            "   creating: __MACOSX/\n",
            "   creating: __MACOSX/bank-additional/\n",
            "  inflating: __MACOSX/bank-additional/._.DS_Store  \n",
            "  inflating: bank-additional/.Rhistory  \n",
            "  inflating: bank-additional/bank-additional-full.csv  \n",
            "  inflating: bank-additional/bank-additional-names.txt  \n",
            "  inflating: bank-additional/bank-additional.csv  \n",
            "  inflating: __MACOSX/._bank-additional  \n"
          ],
          "name": "stdout"
        }
      ]
    },
    {
      "metadata": {
        "id": "HwWCY5XrZCWk",
        "colab_type": "code",
        "outputId": "c938c87e-85fa-407a-b42e-b63954ea93a1",
        "colab": {
          "base_uri": "https://localhost:8080/",
          "height": 35
        }
      },
      "cell_type": "code",
      "source": [
        "%cd bank-additional"
      ],
      "execution_count": 6,
      "outputs": [
        {
          "output_type": "stream",
          "text": [
            "/content/bank-additional\n"
          ],
          "name": "stdout"
        }
      ]
    },
    {
      "metadata": {
        "id": "Zf49DcHTZPdE",
        "colab_type": "text"
      },
      "cell_type": "markdown",
      "source": [
        "### Load data, assign to X and y"
      ]
    },
    {
      "metadata": {
        "id": "OwhVgENcZEwo",
        "colab_type": "code",
        "colab": {}
      },
      "cell_type": "code",
      "source": [
        "import pandas as pd\n",
        "\n",
        "bank = pd.read_csv('bank-additional-full.csv', sep=';')\n",
        "\n",
        "X = bank.drop(columns='y')\n",
        "y = bank['y'] == 'yes'"
      ],
      "execution_count": 0,
      "outputs": []
    },
    {
      "metadata": {
        "id": "lq1it0dnZlX3",
        "colab_type": "text"
      },
      "cell_type": "markdown",
      "source": [
        "### Split data"
      ]
    },
    {
      "metadata": {
        "id": "P-FgY4pIaEXo",
        "colab_type": "text"
      },
      "cell_type": "markdown",
      "source": [
        "We want to do \"model selection (hyperparameter optimization) and performance estimation\" so we'll choose a validation method from the diagram's green box.\n",
        "\n",
        "There is no one \"right\" choice here, but I'll choose \"3-way holdout method (train/validation/test split).\"\n",
        "  \n",
        "<img src=\"https://sebastianraschka.com/images/blog/2018/model-evaluation-selection-part4/model-eval-conclusions.jpg\" width=\"600\">\n",
        "\n",
        "Source: https://sebastianraschka.com/blog/2018/model-evaluation-selection-part4.html"
      ]
    },
    {
      "metadata": {
        "id": "V74i3GDcZnkm",
        "colab_type": "text"
      },
      "cell_type": "markdown",
      "source": [
        "There's no one \"right\" choice here, but I'll choose to split by time, not with a random shuffle, based on this advice by [Rachel Thomas](\n",
        "https://www.fast.ai/2017/11/13/validation-sets/):\n",
        "> If your data is a time series, choosing a random subset of the data will be both too easy (you can look at the data both before and after the dates your are trying to predict) and not representative of most business use cases (where you are using historical data to build a model for use in the future).\n",
        "\n",
        "[According to UCI](https://archive.ics.uci.edu/ml/datasets/Bank+Marketing), this data is \"ordered by date (from May 2008 to November 2010)\" so if I don't shuffle it when splitting, then it will be split by time."
      ]
    },
    {
      "metadata": {
        "id": "-xnw-vfOamHH",
        "colab_type": "code",
        "colab": {}
      },
      "cell_type": "code",
      "source": [
        "X_train, X_val, X_test, y_train, y_val, y_test = train_validation_test_split(\n",
        "    X, y, shuffle=False)"
      ],
      "execution_count": 0,
      "outputs": []
    },
    {
      "metadata": {
        "id": "12dWJxXabDxt",
        "colab_type": "text"
      },
      "cell_type": "markdown",
      "source": [
        "## Bank Marketing — live coding!"
      ]
    },
    {
      "metadata": {
        "id": "qAPOJu3uamrU",
        "colab_type": "code",
        "colab": {}
      },
      "cell_type": "code",
      "source": [
        "import numpy as np\n",
        "\n",
        "majority_class = y_train.mode()[0]\n",
        "y_pred = np.full(shape=y_val.shape, fill_value=majority_class)"
      ],
      "execution_count": 0,
      "outputs": []
    },
    {
      "metadata": {
        "id": "JOhxFsbh19Fm",
        "colab_type": "code",
        "outputId": "29ada29f-70a4-43e8-b611-25dd253823c7",
        "colab": {
          "base_uri": "https://localhost:8080/",
          "height": 35
        }
      },
      "cell_type": "code",
      "source": [
        "y_val.shape, y_pred.shape"
      ],
      "execution_count": 10,
      "outputs": [
        {
          "output_type": "execute_result",
          "data": {
            "text/plain": [
              "((4119,), (4119,))"
            ]
          },
          "metadata": {
            "tags": []
          },
          "execution_count": 10
        }
      ]
    },
    {
      "metadata": {
        "id": "e9UTw4DZ2BLp",
        "colab_type": "code",
        "outputId": "7854b98e-2a80-4485-c4fa-88b312188d54",
        "colab": {
          "base_uri": "https://localhost:8080/",
          "height": 35
        }
      },
      "cell_type": "code",
      "source": [
        "from sklearn.metrics import accuracy_score\n",
        "accuracy_score(y_val, y_pred)"
      ],
      "execution_count": 11,
      "outputs": [
        {
          "output_type": "execute_result",
          "data": {
            "text/plain": [
              "0.842680262199563"
            ]
          },
          "metadata": {
            "tags": []
          },
          "execution_count": 11
        }
      ]
    },
    {
      "metadata": {
        "id": "TsxqI78B2SJ_",
        "colab_type": "code",
        "outputId": "02e7e296-3876-408c-eecb-2e82f998ba5b",
        "colab": {
          "base_uri": "https://localhost:8080/",
          "height": 69
        }
      },
      "cell_type": "code",
      "source": [
        "y_val.value_counts(normalize=True)"
      ],
      "execution_count": 12,
      "outputs": [
        {
          "output_type": "execute_result",
          "data": {
            "text/plain": [
              "False    0.84268\n",
              "True     0.15732\n",
              "Name: y, dtype: float64"
            ]
          },
          "metadata": {
            "tags": []
          },
          "execution_count": 12
        }
      ]
    },
    {
      "metadata": {
        "id": "FJkjkznO2aXq",
        "colab_type": "code",
        "outputId": "742b1af4-ffa9-4b87-86dc-f1f05cc2465d",
        "colab": {
          "base_uri": "https://localhost:8080/",
          "height": 227
        }
      },
      "cell_type": "code",
      "source": [
        "print(classification_report(y_val, y_pred))"
      ],
      "execution_count": 13,
      "outputs": [
        {
          "output_type": "stream",
          "text": [
            "              precision    recall  f1-score   support\n",
            "\n",
            "       False       0.84      1.00      0.91      3471\n",
            "        True       0.00      0.00      0.00       648\n",
            "\n",
            "   micro avg       0.84      0.84      0.84      4119\n",
            "   macro avg       0.42      0.50      0.46      4119\n",
            "weighted avg       0.71      0.84      0.77      4119\n",
            "\n"
          ],
          "name": "stdout"
        },
        {
          "output_type": "stream",
          "text": [
            "/usr/local/lib/python3.6/dist-packages/sklearn/metrics/classification.py:1143: UndefinedMetricWarning: Precision and F-score are ill-defined and being set to 0.0 in labels with no predicted samples.\n",
            "  'precision', 'predicted', average, warn_for)\n"
          ],
          "name": "stderr"
        }
      ]
    },
    {
      "metadata": {
        "id": "0Xy4bVUu23yO",
        "colab_type": "code",
        "outputId": "b0da1b90-f205-4174-ea80-277771806857",
        "colab": {
          "base_uri": "https://localhost:8080/",
          "height": 35
        }
      },
      "cell_type": "code",
      "source": [
        "from sklearn.metrics import roc_auc_score\n",
        "roc_auc_score(y_val, y_pred)"
      ],
      "execution_count": 14,
      "outputs": [
        {
          "output_type": "execute_result",
          "data": {
            "text/plain": [
              "0.5"
            ]
          },
          "metadata": {
            "tags": []
          },
          "execution_count": 14
        }
      ]
    },
    {
      "metadata": {
        "id": "f9SiBgP7etIk",
        "colab_type": "code",
        "colab": {
          "base_uri": "https://localhost:8080/",
          "height": 431
        },
        "outputId": "980d76eb-b1dc-4b2e-d7ef-309562226a22"
      },
      "cell_type": "code",
      "source": [
        "from yellowbrick.classifier import ROCAUC\n",
        "\n",
        "visualizer = ROCAUC(pipeline)\n",
        "visualizer.fit(X_train, y_train)\n",
        "visualizer.score(X_val, y_val)\n",
        "g = visualizer.poof()           "
      ],
      "execution_count": 31,
      "outputs": [
        {
          "output_type": "stream",
          "text": [
            "/usr/local/lib/python3.6/dist-packages/sklearn/linear_model/logistic.py:758: ConvergenceWarning: lbfgs failed to converge. Increase the number of iterations.\n",
            "  \"of iterations.\", ConvergenceWarning)\n"
          ],
          "name": "stderr"
        },
        {
          "output_type": "display_data",
          "data": {
            "image/png": "[encoded data removed]",
            "text/plain": [
              "<Figure size 576x396 with 1 Axes>"
            ]
          },
          "metadata": {
            "tags": []
          }
        }
      ]
    },
    {
      "metadata": {
        "id": "FXrRxHec47rK",
        "colab_type": "code",
        "colab": {}
      },
      "cell_type": "code",
      "source": [
        "!pip install category_encoders"
      ],
      "execution_count": 0,
      "outputs": []
    },
    {
      "metadata": {
        "id": "7Se_3hsob1Kw",
        "colab_type": "code",
        "colab": {}
      },
      "cell_type": "code",
      "source": [
        "import warnings\n",
        "from sklearn.exceptions import DataConversionWarning\n",
        "warnings.filterwarnings(action='ignore', category=DataConversionWarning)"
      ],
      "execution_count": 0,
      "outputs": []
    },
    {
      "metadata": {
        "id": "SpHY2Rxp4uw5",
        "colab_type": "code",
        "colab": {}
      },
      "cell_type": "code",
      "source": [
        "import category_encoders as ce\n",
        "from sklearn.preprocessing import StandardScaler\n",
        "from sklearn.pipeline import make_pipeline\n",
        "\n",
        "pipeline = make_pipeline(\n",
        "    ce.OneHotEncoder(use_cat_names=True), \n",
        "    StandardScaler(), \n",
        "    LogisticRegression(solver='newton-cg')\n",
        ")\n",
        "\n",
        "pipeline.fit(X_train, y_train)\n",
        "y_pred = pipeline.predict(X_val)"
      ],
      "execution_count": 0,
      "outputs": []
    },
    {
      "metadata": {
        "id": "m4lXchxAm4l8",
        "colab_type": "code",
        "colab": {}
      },
      "cell_type": "code",
      "source": [
        "pipeline"
      ],
      "execution_count": 0,
      "outputs": []
    },
    {
      "metadata": {
        "id": "t3ZBO81Y5iVi",
        "colab_type": "code",
        "outputId": "d0a7fe21-a7b6-4f1c-b31d-3be90f6ce5d0",
        "colab": {
          "base_uri": "https://localhost:8080/",
          "height": 35
        }
      },
      "cell_type": "code",
      "source": [
        "accuracy_score(y_val, y_pred)"
      ],
      "execution_count": 0,
      "outputs": [
        {
          "output_type": "execute_result",
          "data": {
            "text/plain": [
              "0.85360524399126"
            ]
          },
          "metadata": {
            "tags": []
          },
          "execution_count": 75
        }
      ]
    },
    {
      "metadata": {
        "id": "-F_Ka_sF5pTd",
        "colab_type": "code",
        "outputId": "b4a74fff-e74d-4e5c-cece-1eece8ad9320",
        "colab": {
          "base_uri": "https://localhost:8080/",
          "height": 35
        }
      },
      "cell_type": "code",
      "source": [
        "roc_auc_score(y_val, y_pred)"
      ],
      "execution_count": 0,
      "outputs": [
        {
          "output_type": "execute_result",
          "data": {
            "text/plain": [
              "0.5642172711461101"
            ]
          },
          "metadata": {
            "tags": []
          },
          "execution_count": 76
        }
      ]
    },
    {
      "metadata": {
        "id": "TSeMa_4vnPvZ",
        "colab_type": "code",
        "colab": {
          "base_uri": "https://localhost:8080/",
          "height": 309
        },
        "outputId": "3e767b6e-35af-4735-bbdc-ef2db61de4fc"
      },
      "cell_type": "code",
      "source": [
        "from yellowbrick.classifier import ConfusionMatrix\n",
        "\n",
        "cm = ConfusionMatrix(pipeline)\n",
        "cm.score(X_val, y_val)\n",
        "cm.poof()"
      ],
      "execution_count": 72,
      "outputs": [
        {
          "output_type": "display_data",
          "data": {
            "image/png": "[encoded data removed]",
            "text/plain": [
              "<Figure size 432x288 with 1 Axes>"
            ]
          },
          "metadata": {
            "tags": []
          }
        }
      ]
    },
    {
      "metadata": {
        "id": "D8b-r1pn7Y03",
        "colab_type": "code",
        "outputId": "364f903e-7bcc-42e1-c1f8-d99e06d08068",
        "colab": {
          "base_uri": "https://localhost:8080/",
          "height": 277
        }
      },
      "cell_type": "code",
      "source": [
        "#Visualize confusion matrix using sklearn\n",
        "\n",
        "def confusion_viz(y_true, y_pred, normalize=False):\n",
        "  \n",
        "    from sklearn.metrics import confusion_matrix\n",
        "    import matplotlib.pyplot as plt\n",
        "    import seaborn as sns\n",
        "    \n",
        "    cm = confusion_matrix(y_true, y_pred, labels = [0,1])\n",
        "    \n",
        "    if normalize:\n",
        "        cm = cm.astype('float') / cm.sum(axis=1)[:, np.newaxis]\n",
        "    \n",
        "   \n",
        "    return sns.heatmap(cm, annot=True, \n",
        "                       fmt='.4g', linewidths=1, linecolor='grey', \n",
        "                       square=True, \n",
        "                       xticklabels=['Predicted\\nFALSE', 'Predicted\\nTRUE'], \n",
        "                       yticklabels=['Actual\\nFALSE', 'Actual\\nTRUE'])\n",
        "\n",
        "confusion_viz(y_val, y_pred);"
      ],
      "execution_count": 73,
      "outputs": [
        {
          "output_type": "display_data",
          "data": {
            "image/png": "[encoded data removed]",
            "text/plain": [
              "<Figure size 432x288 with 2 Axes>"
            ]
          },
          "metadata": {
            "tags": []
          }
        }
      ]
    },
    {
      "metadata": {
        "id": "KMTvDI4l9dkJ",
        "colab_type": "code",
        "colab": {}
      },
      "cell_type": "code",
      "source": [
        "pipeline = make_pipeline(\n",
        "    ce.OneHotEncoder(use_cat_names=True), \n",
        "    StandardScaler(), \n",
        "    LogisticRegression(solver='lbfgs', class_weight='balanced')\n",
        ")\n",
        "\n",
        "pipeline.fit(X_train, y_train)\n",
        "y_pred = pipeline.predict(X_val)"
      ],
      "execution_count": 0,
      "outputs": []
    },
    {
      "metadata": {
        "id": "caEUzcQP9oKz",
        "colab_type": "code",
        "outputId": "ada87ba0-13af-4a81-ce59-051c5dcbc608",
        "colab": {
          "base_uri": "https://localhost:8080/",
          "height": 277
        }
      },
      "cell_type": "code",
      "source": [
        "confusion_viz(y_val, y_pred);"
      ],
      "execution_count": 75,
      "outputs": [
        {
          "output_type": "display_data",
          "data": {
            "image/png": "[encoded data removed]",
            "text/plain": [
              "<Figure size 432x288 with 2 Axes>"
            ]
          },
          "metadata": {
            "tags": []
          }
        }
      ]
    },
    {
      "metadata": {
        "id": "3Av6q6o0A3x8",
        "colab_type": "text"
      },
      "cell_type": "markdown",
      "source": [
        "#### Recall =  Actual TRUE / (Actual TRUE + Predicted TRUE)"
      ]
    },
    {
      "metadata": {
        "id": "gmUiasQvA6Cl",
        "colab_type": "code",
        "outputId": "921dfd99-5576-41c8-d96f-296a018cd061",
        "colab": {
          "base_uri": "https://localhost:8080/",
          "height": 35
        }
      },
      "cell_type": "code",
      "source": [
        "408 / (408 + 240)"
      ],
      "execution_count": 0,
      "outputs": [
        {
          "output_type": "execute_result",
          "data": {
            "text/plain": [
              "0.6296296296296297"
            ]
          },
          "metadata": {
            "tags": []
          },
          "execution_count": 87
        }
      ]
    },
    {
      "metadata": {
        "id": "1VvpvoBFBPcy",
        "colab_type": "code",
        "outputId": "7ac95455-9137-4974-ea2d-498fa6c44955",
        "colab": {
          "base_uri": "https://localhost:8080/",
          "height": 35
        }
      },
      "cell_type": "code",
      "source": [
        "from sklearn.metrics import recall_score\n",
        "recall_score(y_val, y_pred)"
      ],
      "execution_count": 0,
      "outputs": [
        {
          "output_type": "execute_result",
          "data": {
            "text/plain": [
              "0.6296296296296297"
            ]
          },
          "metadata": {
            "tags": []
          },
          "execution_count": 88
        }
      ]
    },
    {
      "metadata": {
        "id": "r1VRJ1CFA0dD",
        "colab_type": "text"
      },
      "cell_type": "markdown",
      "source": [
        "#### Precision = Actual TRUE / (Actual TRUE + Actual FALSE)"
      ]
    },
    {
      "metadata": {
        "id": "g38-Tv7MAlwv",
        "colab_type": "code",
        "outputId": "eae6264b-1c30-40fc-ef46-64e755ecd08e",
        "colab": {
          "base_uri": "https://localhost:8080/",
          "height": 35
        }
      },
      "cell_type": "code",
      "source": [
        "408 / (408 + 395)"
      ],
      "execution_count": 0,
      "outputs": [
        {
          "output_type": "execute_result",
          "data": {
            "text/plain": [
              "0.5080946450809465"
            ]
          },
          "metadata": {
            "tags": []
          },
          "execution_count": 86
        }
      ]
    },
    {
      "metadata": {
        "id": "ZlDqHeJkAeCr",
        "colab_type": "code",
        "outputId": "fff69a25-8982-48ae-de1c-c6a77a7639cb",
        "colab": {
          "base_uri": "https://localhost:8080/",
          "height": 35
        }
      },
      "cell_type": "code",
      "source": [
        "from sklearn.metrics import precision_score\n",
        "precision_score(y_val, y_pred)"
      ],
      "execution_count": 0,
      "outputs": [
        {
          "output_type": "execute_result",
          "data": {
            "text/plain": [
              "0.5080946450809465"
            ]
          },
          "metadata": {
            "tags": []
          },
          "execution_count": 85
        }
      ]
    },
    {
      "metadata": {
        "id": "yHrF3zYfAauM",
        "colab_type": "text"
      },
      "cell_type": "markdown",
      "source": [
        "#### Accuracy score  = (Actual TRUE + Actual FALSE) / (Actual TRUE + Actual FALSE + Negative TRUE + Negative FALSE)"
      ]
    },
    {
      "metadata": {
        "id": "EBkfXkbDAPfu",
        "colab_type": "code",
        "outputId": "ddee5ab6-507f-4f2b-cc41-d4e72e8a23a2",
        "colab": {
          "base_uri": "https://localhost:8080/",
          "height": 35
        }
      },
      "cell_type": "code",
      "source": [
        "(408 + 3076) / (3076 + 395 + 240 + 408)"
      ],
      "execution_count": 0,
      "outputs": [
        {
          "output_type": "execute_result",
          "data": {
            "text/plain": [
              "0.8458363680504977"
            ]
          },
          "metadata": {
            "tags": []
          },
          "execution_count": 84
        }
      ]
    },
    {
      "metadata": {
        "id": "DGyviEFq-nj_",
        "colab_type": "code",
        "outputId": "011c46d6-0782-4397-a7ce-3c7e51349121",
        "colab": {
          "base_uri": "https://localhost:8080/",
          "height": 35
        }
      },
      "cell_type": "code",
      "source": [
        "accuracy_score(y_val, y_pred)"
      ],
      "execution_count": 0,
      "outputs": [
        {
          "output_type": "execute_result",
          "data": {
            "text/plain": [
              "0.8458363680504977"
            ]
          },
          "metadata": {
            "tags": []
          },
          "execution_count": 83
        }
      ]
    },
    {
      "metadata": {
        "id": "5XNSCdRzAH-L",
        "colab_type": "text"
      },
      "cell_type": "markdown",
      "source": [
        "#### Class (im)balance = Actual FALSE /  (Actual TRUE + Actual FALSE + Negative TRUE + Negative FALSE)"
      ]
    },
    {
      "metadata": {
        "id": "kCgjUPdM_KfD",
        "colab_type": "code",
        "outputId": "a9f324e9-7f63-419c-9352-629bd0420102",
        "colab": {
          "base_uri": "https://localhost:8080/",
          "height": 35
        }
      },
      "cell_type": "code",
      "source": [
        "(3076 + 395) / (3076 + 395 + 240 + 408)"
      ],
      "execution_count": 0,
      "outputs": [
        {
          "output_type": "execute_result",
          "data": {
            "text/plain": [
              "0.842680262199563"
            ]
          },
          "metadata": {
            "tags": []
          },
          "execution_count": 81
        }
      ]
    },
    {
      "metadata": {
        "id": "JePUQuYS_8gK",
        "colab_type": "code",
        "outputId": "52ce12cc-c4f7-4483-a251-7c1c0ec67554",
        "colab": {
          "base_uri": "https://localhost:8080/",
          "height": 69
        }
      },
      "cell_type": "code",
      "source": [
        "y_val.value_counts(normalize=True)"
      ],
      "execution_count": 0,
      "outputs": [
        {
          "output_type": "execute_result",
          "data": {
            "text/plain": [
              "False    0.84268\n",
              "True     0.15732\n",
              "Name: y, dtype: float64"
            ]
          },
          "metadata": {
            "tags": []
          },
          "execution_count": 82
        }
      ]
    },
    {
      "metadata": {
        "id": "peLMQ8gOLbSt",
        "colab_type": "code",
        "colab": {}
      },
      "cell_type": "code",
      "source": [
        "height = (sens[-1]+sens[-length(sens)])/2\n",
        "width = -diff(omspec)\n",
        "sum(height*width)\n",
        "sensitivity = TP / (TP+FN)\n",
        "specificity = TN / (FP+TN)\n",
        "\n"
      ],
      "execution_count": 0,
      "outputs": []
    },
    {
      "metadata": {
        "id": "moM1jQxD-2HH",
        "colab_type": "code",
        "outputId": "293b7c4c-9b25-4c04-ed80-83ebe9a6226c",
        "colab": {
          "base_uri": "https://localhost:8080/",
          "height": 35
        }
      },
      "cell_type": "code",
      "source": [
        "roc_auc_score(y_val, y_pred)"
      ],
      "execution_count": 0,
      "outputs": [
        {
          "output_type": "execute_result",
          "data": {
            "text/plain": [
              "0.7579147860046737"
            ]
          },
          "metadata": {
            "tags": []
          },
          "execution_count": 72
        }
      ]
    },
    {
      "metadata": {
        "id": "P_XjBTW5SBwZ",
        "colab_type": "text"
      },
      "cell_type": "markdown",
      "source": [
        "# ASSIGNMENT options\n",
        "\n",
        "Replicate code from the lesson or other examples. [Do it \"the hard way\" or with the \"Benjamin Franklin method.\"](https://docs.google.com/document/d/1ubOw9B3Hfip27hF2ZFnW3a3z9xAgrUDRReOEo-FHCVs/edit)\n",
        "\n",
        "Work with one of these datasets\n",
        "- [Bank Marketing](https://archive.ics.uci.edu/ml/datasets/Bank+Marketing)\n",
        "- [Synthetic Financial Dataset For Fraud Detection](https://www.kaggle.com/ntnu-testimon/paysim1)\n",
        "- Any imbalanced binary classification dataset\n",
        "\n",
        "Continue improving your model. Measure validation performance with a variety of classification metrics, which could include:\n",
        "- Accuracy\n",
        "- Precision\n",
        "- Recall\n",
        "- F1\n",
        "- ROC AUC\n",
        "\n",
        "Try one of the other options mentioned for imbalanced classes\n",
        "- The [imbalance-learn](https://github.com/scikit-learn-contrib/imbalanced-learn) library can be used to \"oversample the minority class, undersample the majority class, or synthesize new minority classes.\"\n",
        "- You can see how to \"adjust the decision threshold\" in a great blog post, [Visualizing Machine Learning Thresholds to Make Better Business Decisions](https://blog.insightdatascience.com/visualizing-machine-learning-thresholds-to-make-better-business-decisions-4ab07f823415)."
      ]
    },
    {
      "metadata": {
        "id": "MEy0rmh3xEnS",
        "colab_type": "code",
        "colab": {}
      },
      "cell_type": "code",
      "source": [
        "import pandas as pd\n",
        "\n",
        "#get the data\n",
        "bank = pd.read_csv('bank-additional-full.csv', sep=';')\n",
        "\n",
        "#define X and y\n",
        "X = bank.drop(columns='y')\n",
        "y = bank['y'] == 'yes'\n",
        "\n",
        "#drop na\n",
        "bank.replace('unknown', np.nan, inplace=True)\n",
        "bank.dropna(inplace=True)"
      ],
      "execution_count": 0,
      "outputs": []
    },
    {
      "metadata": {
        "id": "ZUKMKZTVxj6W",
        "colab_type": "code",
        "colab": {}
      },
      "cell_type": "code",
      "source": [
        "#train validation test split:\n",
        "def train_validation_test_split(\n",
        "    X, y, train_size=0.8, val_size=0.1, test_size=0.1, \n",
        "    random_state=None, shuffle=True):\n",
        "  \n",
        "    from sklearn.model_selection import train_test_split\n",
        "\n",
        "    assert train_size + val_size + test_size == 1\n",
        "    \n",
        "    X_train_val, X_test, y_train_val, y_test = train_test_split(\n",
        "        X, y, test_size=test_size, random_state=random_state, shuffle=shuffle)\n",
        "    \n",
        "    X_train, X_val, y_train, y_val = train_test_split(\n",
        "        X_train_val, y_train_val, test_size=val_size/(train_size+val_size), \n",
        "        random_state=random_state, shuffle=shuffle)\n",
        "    \n",
        "    return X_train, X_val, X_test, y_train, y_val, y_test\n",
        "  \n",
        "X_train, X_val, X_test, y_train, y_val, y_test = train_validation_test_split(\n",
        "    X, y, shuffle=False)"
      ],
      "execution_count": 0,
      "outputs": []
    },
    {
      "metadata": {
        "id": "aiw8dBqNxwpe",
        "colab_type": "code",
        "colab": {
          "base_uri": "https://localhost:8080/",
          "height": 35
        },
        "outputId": "beea17e9-2799-4825-99ba-ef511b0b996c"
      },
      "cell_type": "code",
      "source": [
        "#hot encode categorical features, scale numeric features, train the model\n",
        "pipeline = make_pipeline(\n",
        "    ce.OneHotEncoder(use_cat_names=True),\n",
        "    StandardScaler(),\n",
        "    LogisticRegression(solver='newton-cg')\n",
        ")\n",
        "\n",
        "pipeline.fit(X_train, y_train)\n",
        "y_pred = pipeline.predict(X_val)\n",
        "accuracy_score(y_val, y_pred)"
      ],
      "execution_count": 80,
      "outputs": [
        {
          "output_type": "execute_result",
          "data": {
            "text/plain": [
              "0.85360524399126"
            ]
          },
          "metadata": {
            "tags": []
          },
          "execution_count": 80
        }
      ]
    },
    {
      "metadata": {
        "id": "-KqwwxgKzTgw",
        "colab_type": "code",
        "colab": {}
      },
      "cell_type": "code",
      "source": [
        "bank.columns"
      ],
      "execution_count": 0,
      "outputs": []
    },
    {
      "metadata": {
        "id": "sPRRv4n7yJyp",
        "colab_type": "code",
        "colab": {}
      },
      "cell_type": "code",
      "source": [
        "bank['education'] = np.where(bank['education'] == 'basic.4y', 'Basic', bank['education'])\n",
        "bank['education'] = np.where(bank['education'] == 'basic.6y', 'Basic', bank['education'])\n",
        "bank['education'] = np.where(bank['education'] == 'basic.9y', 'Basic', bank['education'])"
      ],
      "execution_count": 0,
      "outputs": []
    },
    {
      "metadata": {
        "id": "BG3yK16S0mbC",
        "colab_type": "code",
        "colab": {
          "base_uri": "https://localhost:8080/",
          "height": 69
        },
        "outputId": "d7e14157-08e0-44f7-b69e-da0eefb976c1"
      },
      "cell_type": "code",
      "source": [
        "bank['y'].value_counts(normalize=True)"
      ],
      "execution_count": 86,
      "outputs": [
        {
          "output_type": "execute_result",
          "data": {
            "text/plain": [
              "no     0.873426\n",
              "yes    0.126574\n",
              "Name: y, dtype: float64"
            ]
          },
          "metadata": {
            "tags": []
          },
          "execution_count": 86
        }
      ]
    },
    {
      "metadata": {
        "id": "N08vvrA90veV",
        "colab_type": "code",
        "colab": {
          "base_uri": "https://localhost:8080/",
          "height": 334
        },
        "outputId": "4f834fe6-9f99-45f9-9540-aa858b68c19e"
      },
      "cell_type": "code",
      "source": [
        "sns.countplot(x='y', data=bank, palette='hls')\n",
        "plt.show();"
      ],
      "execution_count": 85,
      "outputs": [
        {
          "output_type": "stream",
          "text": [
            "/usr/local/lib/python3.6/dist-packages/seaborn/categorical.py:1428: FutureWarning: remove_na is deprecated and is a private function. Do not use.\n",
            "  stat_data = remove_na(group_data)\n"
          ],
          "name": "stderr"
        },
        {
          "output_type": "display_data",
          "data": {
            "image/png": "[encoded data removed]",
            "text/plain": [
              "<Figure size 432x288 with 1 Axes>"
            ]
          },
          "metadata": {
            "tags": []
          }
        }
      ]
    },
    {
      "metadata": {
        "id": "aIgYRDAI1JGE",
        "colab_type": "code",
        "colab": {
          "base_uri": "https://localhost:8080/",
          "height": 138
        },
        "outputId": "2c1dfa1d-f277-4df0-ca0f-bccdf69f848c"
      },
      "cell_type": "code",
      "source": [
        "bank.groupby('y').mean()"
      ],
      "execution_count": 87,
      "outputs": [
        {
          "output_type": "execute_result",
          "data": {
            "text/html": [
              "<div>\n",
              "<style scoped>\n",
              "    .dataframe tbody tr th:only-of-type {\n",
              "        vertical-align: middle;\n",
              "    }\n",
              "\n",
              "    .dataframe tbody tr th {\n",
              "        vertical-align: top;\n",
              "    }\n",
              "\n",
              "    .dataframe thead th {\n",
              "        text-align: right;\n",
              "    }\n",
              "</style>\n",
              "<table border=\"1\" class=\"dataframe\">\n",
              "  <thead>\n",
              "    <tr style=\"text-align: right;\">\n",
              "      <th></th>\n",
              "      <th>age</th>\n",
              "      <th>duration</th>\n",
              "      <th>campaign</th>\n",
              "      <th>pdays</th>\n",
              "      <th>previous</th>\n",
              "      <th>emp.var.rate</th>\n",
              "      <th>cons.price.idx</th>\n",
              "      <th>cons.conf.idx</th>\n",
              "      <th>euribor3m</th>\n",
              "      <th>nr.employed</th>\n",
              "    </tr>\n",
              "    <tr>\n",
              "      <th>y</th>\n",
              "      <th></th>\n",
              "      <th></th>\n",
              "      <th></th>\n",
              "      <th></th>\n",
              "      <th></th>\n",
              "      <th></th>\n",
              "      <th></th>\n",
              "      <th></th>\n",
              "      <th></th>\n",
              "      <th></th>\n",
              "    </tr>\n",
              "  </thead>\n",
              "  <tbody>\n",
              "    <tr>\n",
              "      <th>no</th>\n",
              "      <td>38.838334</td>\n",
              "      <td>220.277555</td>\n",
              "      <td>2.593113</td>\n",
              "      <td>981.438282</td>\n",
              "      <td>0.148898</td>\n",
              "      <td>0.115690</td>\n",
              "      <td>93.552002</td>\n",
              "      <td>-40.714638</td>\n",
              "      <td>3.673637</td>\n",
              "      <td>5171.234293</td>\n",
              "    </tr>\n",
              "    <tr>\n",
              "      <th>yes</th>\n",
              "      <td>40.352682</td>\n",
              "      <td>530.028505</td>\n",
              "      <td>2.026950</td>\n",
              "      <td>783.088624</td>\n",
              "      <td>0.507385</td>\n",
              "      <td>-1.363281</td>\n",
              "      <td>93.325331</td>\n",
              "      <td>-39.826820</td>\n",
              "      <td>1.985306</td>\n",
              "      <td>5088.904172</td>\n",
              "    </tr>\n",
              "  </tbody>\n",
              "</table>\n",
              "</div>"
            ],
            "text/plain": [
              "           age    duration  campaign       pdays  previous  emp.var.rate  \\\n",
              "y                                                                          \n",
              "no   38.838334  220.277555  2.593113  981.438282  0.148898      0.115690   \n",
              "yes  40.352682  530.028505  2.026950  783.088624  0.507385     -1.363281   \n",
              "\n",
              "     cons.price.idx  cons.conf.idx  euribor3m  nr.employed  \n",
              "y                                                           \n",
              "no        93.552002     -40.714638   3.673637  5171.234293  \n",
              "yes       93.325331     -39.826820   1.985306  5088.904172  "
            ]
          },
          "metadata": {
            "tags": []
          },
          "execution_count": 87
        }
      ]
    },
    {
      "metadata": {
        "id": "Z20OvZvb1h_X",
        "colab_type": "code",
        "colab": {
          "base_uri": "https://localhost:8080/",
          "height": 248
        },
        "outputId": "94b15ef1-d065-406f-87cc-380fd5fe63f4"
      },
      "cell_type": "code",
      "source": [
        "bank.groupby('education').mean()"
      ],
      "execution_count": 88,
      "outputs": [
        {
          "output_type": "execute_result",
          "data": {
            "text/html": [
              "<div>\n",
              "<style scoped>\n",
              "    .dataframe tbody tr th:only-of-type {\n",
              "        vertical-align: middle;\n",
              "    }\n",
              "\n",
              "    .dataframe tbody tr th {\n",
              "        vertical-align: top;\n",
              "    }\n",
              "\n",
              "    .dataframe thead th {\n",
              "        text-align: right;\n",
              "    }\n",
              "</style>\n",
              "<table border=\"1\" class=\"dataframe\">\n",
              "  <thead>\n",
              "    <tr style=\"text-align: right;\">\n",
              "      <th></th>\n",
              "      <th>age</th>\n",
              "      <th>duration</th>\n",
              "      <th>campaign</th>\n",
              "      <th>pdays</th>\n",
              "      <th>previous</th>\n",
              "      <th>emp.var.rate</th>\n",
              "      <th>cons.price.idx</th>\n",
              "      <th>cons.conf.idx</th>\n",
              "      <th>euribor3m</th>\n",
              "      <th>nr.employed</th>\n",
              "    </tr>\n",
              "    <tr>\n",
              "      <th>education</th>\n",
              "      <th></th>\n",
              "      <th></th>\n",
              "      <th></th>\n",
              "      <th></th>\n",
              "      <th></th>\n",
              "      <th></th>\n",
              "      <th></th>\n",
              "      <th></th>\n",
              "      <th></th>\n",
              "      <th></th>\n",
              "    </tr>\n",
              "  </thead>\n",
              "  <tbody>\n",
              "    <tr>\n",
              "      <th>Basic</th>\n",
              "      <td>41.390056</td>\n",
              "      <td>264.339590</td>\n",
              "      <td>2.477439</td>\n",
              "      <td>965.802113</td>\n",
              "      <td>0.173275</td>\n",
              "      <td>-0.042449</td>\n",
              "      <td>93.566152</td>\n",
              "      <td>-41.123207</td>\n",
              "      <td>3.482461</td>\n",
              "      <td>5162.473536</td>\n",
              "    </tr>\n",
              "    <tr>\n",
              "      <th>high.school</th>\n",
              "      <td>37.339914</td>\n",
              "      <td>264.854656</td>\n",
              "      <td>2.532926</td>\n",
              "      <td>959.024679</td>\n",
              "      <td>0.204442</td>\n",
              "      <td>-0.089570</td>\n",
              "      <td>93.550286</td>\n",
              "      <td>-41.018652</td>\n",
              "      <td>3.424706</td>\n",
              "      <td>5159.625653</td>\n",
              "    </tr>\n",
              "    <tr>\n",
              "      <th>illiterate</th>\n",
              "      <td>44.272727</td>\n",
              "      <td>241.727273</td>\n",
              "      <td>2.000000</td>\n",
              "      <td>999.000000</td>\n",
              "      <td>0.090909</td>\n",
              "      <td>-0.372727</td>\n",
              "      <td>93.170545</td>\n",
              "      <td>-40.054545</td>\n",
              "      <td>3.324182</td>\n",
              "      <td>5168.218182</td>\n",
              "    </tr>\n",
              "    <tr>\n",
              "      <th>professional.course</th>\n",
              "      <td>39.333025</td>\n",
              "      <td>252.957649</td>\n",
              "      <td>2.550104</td>\n",
              "      <td>956.745198</td>\n",
              "      <td>0.179357</td>\n",
              "      <td>0.056353</td>\n",
              "      <td>93.535274</td>\n",
              "      <td>-40.220273</td>\n",
              "      <td>3.582548</td>\n",
              "      <td>5164.998658</td>\n",
              "    </tr>\n",
              "    <tr>\n",
              "      <th>university.degree</th>\n",
              "      <td>38.324914</td>\n",
              "      <td>254.488475</td>\n",
              "      <td>2.535632</td>\n",
              "      <td>946.808010</td>\n",
              "      <td>0.209278</td>\n",
              "      <td>-0.133356</td>\n",
              "      <td>93.465672</td>\n",
              "      <td>-40.050960</td>\n",
              "      <td>3.417846</td>\n",
              "      <td>5158.664243</td>\n",
              "    </tr>\n",
              "  </tbody>\n",
              "</table>\n",
              "</div>"
            ],
            "text/plain": [
              "                           age    duration  campaign       pdays  previous  \\\n",
              "education                                                                    \n",
              "Basic                41.390056  264.339590  2.477439  965.802113  0.173275   \n",
              "high.school          37.339914  264.854656  2.532926  959.024679  0.204442   \n",
              "illiterate           44.272727  241.727273  2.000000  999.000000  0.090909   \n",
              "professional.course  39.333025  252.957649  2.550104  956.745198  0.179357   \n",
              "university.degree    38.324914  254.488475  2.535632  946.808010  0.209278   \n",
              "\n",
              "                     emp.var.rate  cons.price.idx  cons.conf.idx  euribor3m  \\\n",
              "education                                                                     \n",
              "Basic                   -0.042449       93.566152     -41.123207   3.482461   \n",
              "high.school             -0.089570       93.550286     -41.018652   3.424706   \n",
              "illiterate              -0.372727       93.170545     -40.054545   3.324182   \n",
              "professional.course      0.056353       93.535274     -40.220273   3.582548   \n",
              "university.degree       -0.133356       93.465672     -40.050960   3.417846   \n",
              "\n",
              "                     nr.employed  \n",
              "education                         \n",
              "Basic                5162.473536  \n",
              "high.school          5159.625653  \n",
              "illiterate           5168.218182  \n",
              "professional.course  5164.998658  \n",
              "university.degree    5158.664243  "
            ]
          },
          "metadata": {
            "tags": []
          },
          "execution_count": 88
        }
      ]
    },
    {
      "metadata": {
        "id": "McoUa8wb1w4H",
        "colab_type": "code",
        "colab": {
          "base_uri": "https://localhost:8080/",
          "height": 347
        },
        "outputId": "81392079-c243-45fc-8419-cccb8e8ee570"
      },
      "cell_type": "code",
      "source": [
        "pd.crosstab(bank.job, bank.y).plot(kind='bar')\n",
        "plt.title('Purchase frequency for Job Title')\n",
        "plt.xlabel('Job')\n",
        "plt.ylabel('Frequency of purchase');"
      ],
      "execution_count": 102,
      "outputs": [
        {
          "output_type": "display_data",
          "data": {
            "image/png": "[encoded data removed]",
            "text/plain": [
              "<Figure size 432x288 with 1 Axes>"
            ]
          },
          "metadata": {
            "tags": []
          }
        }
      ]
    },
    {
      "metadata": {
        "id": "ALlQowZf2dBV",
        "colab_type": "code",
        "colab": {
          "base_uri": "https://localhost:8080/",
          "height": 323
        },
        "outputId": "4b996d4f-62e6-4d35-dcad-158af0db2e41"
      },
      "cell_type": "code",
      "source": [
        "table = pd.crosstab(bank.marital, bank.y)\n",
        "table.div(table.sum(1).astype('float64'), axis=0).plot(kind='bar', stacked=True);\n",
        "plt.title('Stacked Bar Chart of Marital Status vs Purchase')\n",
        "plt.xlabel('Marital Status')\n",
        "plt.ylabel('Proportion of customers');"
      ],
      "execution_count": 100,
      "outputs": [
        {
          "output_type": "display_data",
          "data": {
            "image/png": "[encoded data removed]",
            "text/plain": [
              "<Figure size 432x288 with 1 Axes>"
            ]
          },
          "metadata": {
            "tags": []
          }
        }
      ]
    },
    {
      "metadata": {
        "id": "kaCgwpcJgEdT",
        "colab_type": "text"
      },
      "cell_type": "markdown",
      "source": [
        "#### Implementing SMOTE"
      ]
    },
    {
      "metadata": {
        "id": "exTHRXzb3kjm",
        "colab_type": "code",
        "colab": {}
      },
      "cell_type": "code",
      "source": [
        "bank_dummies = pd.get_dummies(bank, prefix_sep='__',\n",
        "                              columns = ['job',\n",
        "                                         'marital',\n",
        "                                         'education',\n",
        "                                         'default','housing',\n",
        "                                         'loan',\n",
        "                                         'contact',\n",
        "                                         'month',\n",
        "                                         'day_of_week',\n",
        "                                         'poutcome'])"
      ],
      "execution_count": 0,
      "outputs": []
    },
    {
      "metadata": {
        "id": "7qj-Idju4zRy",
        "colab_type": "code",
        "colab": {}
      },
      "cell_type": "code",
      "source": [
        "bank_dummies.columns"
      ],
      "execution_count": 0,
      "outputs": []
    },
    {
      "metadata": {
        "id": "EegWkitD7TlF",
        "colab_type": "code",
        "colab": {}
      },
      "cell_type": "code",
      "source": [
        "bank_dummies.head()"
      ],
      "execution_count": 0,
      "outputs": []
    },
    {
      "metadata": {
        "id": "CYwtCRgn5C6e",
        "colab_type": "code",
        "colab": {}
      },
      "cell_type": "code",
      "source": [
        "#Implementing SMOTE\n",
        "Xs = bank_dummies.loc[:, bank_dummies.columns != 'y']\n",
        "#ys = bank_dummies.loc[:, bank_dummies['y'] == 'yes']\n",
        "\n",
        "ys = bank_dummies['y'] == 'yes'\n",
        "\n",
        "from imblearn.over_sampling import SMOTE\n",
        "\n",
        "os = SMOTE(random_state=0)\n",
        "\n",
        "Xs_train, Xs_val, Xs_test, ys_train, ys_val, ys_test = train_validation_test_split(\n",
        "    Xs, ys, shuffle=False)\n",
        "\n",
        "columns = Xs_train.columns\n",
        "\n",
        "os_data_X, os_data_y = os.fit_sample(Xs_train, ys_train)\n",
        "os_data_X = pd.DataFrame(data=os_data_X, columns=columns)\n",
        "os_data_y = pd.DataFrame(data=os_data_y, columns=['y'])"
      ],
      "execution_count": 0,
      "outputs": []
    },
    {
      "metadata": {
        "id": "OuP2XNLS8lhm",
        "colab_type": "code",
        "colab": {
          "base_uri": "https://localhost:8080/",
          "height": 104
        },
        "outputId": "7ccc420f-78e5-46bc-c492-2c1a593ac68f"
      },
      "cell_type": "code",
      "source": [
        "# let's check the numbers of our data\n",
        "print(\"length of oversampled data is \",len(os_data_X))\n",
        "print(\"Number of no subscription in oversampled data\",len(os_data_y[os_data_y['y']==0]))\n",
        "print(\"Number of subscription\",len(os_data_y[os_data_y['y']==1]))\n",
        "print(\"Proportion of no subscription data in oversampled data is \",len(os_data_y[os_data_y['y']==0])/len(os_data_X))\n",
        "print(\"Proportion of subscription data in oversampled data is \",len(os_data_y[os_data_y['y']==1])/len(os_data_X))\n"
      ],
      "execution_count": 171,
      "outputs": [
        {
          "output_type": "stream",
          "text": [
            "length of oversampled data is  45334\n",
            "Number of no subscription in oversampled data 22667\n",
            "Number of subscription 22667\n",
            "Proportion of no subscription data in oversampled data is  0.5\n",
            "Proportion of subscription data in oversampled data is  0.5\n"
          ],
          "name": "stdout"
        }
      ]
    },
    {
      "metadata": {
        "id": "maeqnocV9IY7",
        "colab_type": "code",
        "colab": {
          "base_uri": "https://localhost:8080/",
          "height": 35
        },
        "outputId": "bdd55434-a52b-4e12-edbc-8169678c1176"
      },
      "cell_type": "code",
      "source": [
        "#hot encode categorical features, scale numeric features, train the model\n",
        "pipeline = make_pipeline(\n",
        "    ce.OneHotEncoder(use_cat_names=True),\n",
        "    StandardScaler(),\n",
        "    LogisticRegression(solver='newton-cg')\n",
        ")\n",
        "\n",
        "pipeline.fit(os_data_X, os_data_y)\n",
        "ys_pred = pipeline.predict(Xs_val)\n",
        "accuracy_score(ys_val, ys_pred)"
      ],
      "execution_count": 172,
      "outputs": [
        {
          "output_type": "execute_result",
          "data": {
            "text/plain": [
              "0.7992784519514595"
            ]
          },
          "metadata": {
            "tags": []
          },
          "execution_count": 172
        }
      ]
    },
    {
      "metadata": {
        "id": "C8ydl7hXgISG",
        "colab_type": "text"
      },
      "cell_type": "markdown",
      "source": [
        "#### Recursive Feature Elimination"
      ]
    },
    {
      "metadata": {
        "id": "3biXo2HQgAaD",
        "colab_type": "code",
        "colab": {}
      },
      "cell_type": "code",
      "source": [
        "bank_final_features = bank_dummies.columns.values.tolist()\n",
        "y = ['y']\n",
        "X = [i for i in bank_final_features if i not in y]\n",
        "\n",
        "from sklearn.feature_selection import RFE\n",
        "\n",
        "logreg = LogisticRegression(solver='lbfgs', max_iter=500)\n",
        "rfe = RFE(logreg, 20)\n",
        "\n",
        "rfe.fit(os_data_X, os_data_y.values.ravel())\n",
        "a = rfe.support_\n",
        "print(a)\n",
        "print(rfe.support_)\n",
        "print(rfe.ranking_)\n"
      ],
      "execution_count": 0,
      "outputs": []
    },
    {
      "metadata": {
        "id": "vVlYKPHdvVXE",
        "colab_type": "code",
        "colab": {}
      },
      "cell_type": "code",
      "source": [
        "c = os_data_X.columns\n",
        "b = pd.DataFrame({'test': c, 'feature': a})\n",
        "final_feature = b[b.feature==True].test.unique()"
      ],
      "execution_count": 0,
      "outputs": []
    },
    {
      "metadata": {
        "id": "Frt4eS13uI31",
        "colab_type": "code",
        "colab": {}
      },
      "cell_type": "code",
      "source": [
        "final_features = ['euribor3m', \n",
        "                  'job__housemaid', \n",
        "                  'education__illiterate', \n",
        "                  'default__no', \n",
        "                  'contact__cellular',\n",
        "                  'contact__telephone', \n",
        "                  'month__apr', \n",
        "                  'month__aug', \n",
        "                  'month__dec', \n",
        "                  'month__jul', \n",
        "                  'month__jun', \n",
        "                  'month__mar', \n",
        "                   'month__may', \n",
        "                  'month__nov', \n",
        "                  'month__oct', \n",
        "                  \"poutcome__failure\", \n",
        "                  \"poutcome__success\"] "
      ],
      "execution_count": 0,
      "outputs": []
    },
    {
      "metadata": {
        "id": "4a7cV4TMy4IW",
        "colab_type": "code",
        "colab": {}
      },
      "cell_type": "code",
      "source": [
        "Xf = os_data_X[final_features]\n",
        "yf = os_data_y['y']"
      ],
      "execution_count": 0,
      "outputs": []
    },
    {
      "metadata": {
        "id": "pL02ONRrzBW4",
        "colab_type": "code",
        "colab": {
          "base_uri": "https://localhost:8080/",
          "height": 832
        },
        "outputId": "bf4359cf-08a8-4121-bf74-6d5f2b2fc54c"
      },
      "cell_type": "code",
      "source": [
        "import statsmodels.api as sm\n",
        "logit_model=sm.Logit(yf,Xf)\n",
        "result=logit_model.fit()\n",
        "print(result.summary2())"
      ],
      "execution_count": 188,
      "outputs": [
        {
          "output_type": "stream",
          "text": [
            "/usr/local/lib/python3.6/dist-packages/statsmodels/compat/pandas.py:56: FutureWarning: The pandas.core.datetools module is deprecated and will be removed in a future version. Please use the pandas.tseries module instead.\n",
            "  from pandas.core import datetools\n"
          ],
          "name": "stderr"
        },
        {
          "output_type": "stream",
          "text": [
            "Warning: Maximum number of iterations has been exceeded.\n",
            "         Current function value: 0.617572\n",
            "         Iterations: 35\n",
            "                               Results: Logit\n",
            "============================================================================\n",
            "Model:                   Logit               No. Iterations:      35.0000   \n",
            "Dependent Variable:      y                   Pseudo R-squared:    0.109     \n",
            "Date:                    2019-01-30 03:28    AIC:                 56026.0526\n",
            "No. Observations:        45334               BIC:                 56165.6016\n",
            "Df Model:                15                  Log-Likelihood:      -27997.   \n",
            "Df Residuals:            45318               LL-Null:             -31423.   \n",
            "Converged:               0.0000              Scale:               1.0000    \n",
            "----------------------------------------------------------------------------\n",
            "                       Coef.   Std.Err.    z     P>|z|    [0.025     0.975] \n",
            "----------------------------------------------------------------------------\n",
            "euribor3m              -0.1311   0.0173  -7.5599 0.0000    -0.1651   -0.0971\n",
            "job__housemaid         -0.1454   0.0765  -1.8999 0.0574    -0.2955    0.0046\n",
            "education__illiterate   1.5279   0.5337   2.8629 0.0042     0.4819    2.5739\n",
            "default__no            14.3739 988.1285   0.0145 0.9884 -1922.3223 1951.0702\n",
            "contact__cellular     -10.3357      nan      nan    nan        nan       nan\n",
            "contact__telephone    -10.9283      nan      nan    nan        nan       nan\n",
            "month__apr             -2.5655      nan      nan    nan        nan       nan\n",
            "month__aug             -3.7341      nan      nan    nan        nan       nan\n",
            "month__dec             -2.9875      nan      nan    nan        nan       nan\n",
            "month__jul             -3.3829      nan      nan    nan        nan       nan\n",
            "month__jun             -3.2568      nan      nan    nan        nan       nan\n",
            "month__mar             -0.8314      nan      nan    nan        nan       nan\n",
            "month__may             -3.6658      nan      nan    nan        nan       nan\n",
            "month__nov             -3.6855      nan      nan    nan        nan       nan\n",
            "month__oct              2.8454      nan      nan    nan        nan       nan\n",
            "poutcome__failure      -0.7861   0.0451 -17.4467 0.0000    -0.8744   -0.6978\n",
            "poutcome__success       1.5401   0.1122  13.7300 0.0000     1.3203    1.7600\n",
            "============================================================================\n",
            "\n"
          ],
          "name": "stdout"
        },
        {
          "output_type": "stream",
          "text": [
            "/usr/local/lib/python3.6/dist-packages/statsmodels/base/model.py:496: ConvergenceWarning: Maximum Likelihood optimization failed to converge. Check mle_retvals\n",
            "  \"Check mle_retvals\", ConvergenceWarning)\n",
            "/usr/local/lib/python3.6/dist-packages/statsmodels/base/model.py:1029: RuntimeWarning: invalid value encountered in sqrt\n",
            "  return np.sqrt(np.diag(self.cov_params()))\n",
            "/usr/local/lib/python3.6/dist-packages/scipy/stats/_distn_infrastructure.py:879: RuntimeWarning: invalid value encountered in greater\n",
            "  return (self.a < x) & (x < self.b)\n",
            "/usr/local/lib/python3.6/dist-packages/scipy/stats/_distn_infrastructure.py:879: RuntimeWarning: invalid value encountered in less\n",
            "  return (self.a < x) & (x < self.b)\n",
            "/usr/local/lib/python3.6/dist-packages/scipy/stats/_distn_infrastructure.py:1821: RuntimeWarning: invalid value encountered in less_equal\n",
            "  cond2 = cond0 & (x <= self.a)\n"
          ],
          "name": "stderr"
        }
      ]
    },
    {
      "metadata": {
        "id": "Na6K6A1Hz15A",
        "colab_type": "code",
        "colab": {
          "base_uri": "https://localhost:8080/",
          "height": 553
        },
        "outputId": "a79502bf-593c-43e8-fe21-97c73eec4e04"
      },
      "cell_type": "code",
      "source": [
        "cols = ['euribor3m', \n",
        "                  'job__housemaid', \n",
        "                  'education__illiterate', \n",
        "                  'month__apr', \n",
        "                  'month__aug', \n",
        "                  'month__dec', \n",
        "                  'month__jul', \n",
        "                  'month__jun', \n",
        "                  'month__mar', \n",
        "                   'month__may', \n",
        "                  'month__nov', \n",
        "                  'month__oct', \n",
        "                  \"poutcome__failure\", \n",
        "                  \"poutcome__success\"] \n",
        "X=os_data_X[cols]\n",
        "y=os_data_y['y']\n",
        "logit_model=sm.Logit(y,X)\n",
        "result=logit_model.fit()\n",
        "print(result.summary2())"
      ],
      "execution_count": 190,
      "outputs": [
        {
          "output_type": "stream",
          "text": [
            "Optimization terminated successfully.\n",
            "         Current function value: 0.619281\n",
            "         Iterations 8\n",
            "                            Results: Logit\n",
            "======================================================================\n",
            "Model:                 Logit             No. Iterations:    8.0000    \n",
            "Dependent Variable:    y                 Pseudo R-squared:  0.107     \n",
            "Date:                  2019-01-30 03:32  AIC:               56176.9371\n",
            "No. Observations:      45334             BIC:               56299.0425\n",
            "Df Model:              13                Log-Likelihood:    -28074.   \n",
            "Df Residuals:          45320             LL-Null:           -31423.   \n",
            "Converged:             1.0000            Scale:             1.0000    \n",
            "----------------------------------------------------------------------\n",
            "                       Coef.  Std.Err.    z     P>|z|   [0.025  0.975]\n",
            "----------------------------------------------------------------------\n",
            "euribor3m             -0.2876   0.0116 -24.7321 0.0000 -0.3104 -0.2648\n",
            "job__housemaid        -0.1559   0.0764  -2.0424 0.0411 -0.3056 -0.0063\n",
            "education__illiterate  1.5768   0.5333   2.9569 0.0031  0.5316  2.6221\n",
            "month__apr             1.6507   0.0373  44.2721 0.0000  1.5776  1.7237\n",
            "month__aug             1.0646   0.0637  16.7037 0.0000  0.9397  1.1896\n",
            "month__dec             1.0330   0.4964   2.0809 0.0374  0.0600  2.0059\n",
            "month__jul             1.3661   0.0620  22.0181 0.0000  1.2445  1.4877\n",
            "month__jun             0.9623   0.0660  14.5824 0.0000  0.8329  1.0916\n",
            "month__mar             3.4258   0.1093  31.3326 0.0000  3.2115  3.6401\n",
            "month__may             0.5411   0.0438  12.3446 0.0000  0.4552  0.6271\n",
            "month__nov             0.9309   0.0595  15.6336 0.0000  0.8142  1.0476\n",
            "month__oct             6.8010   0.3593  18.9297 0.0000  6.0968  7.5052\n",
            "poutcome__failure     -0.7646   0.0449 -17.0158 0.0000 -0.8527 -0.6765\n",
            "poutcome__success      1.5124   0.1119  13.5119 0.0000  1.2930  1.7318\n",
            "======================================================================\n",
            "\n"
          ],
          "name": "stdout"
        }
      ]
    },
    {
      "metadata": {
        "id": "iqXQfPbl0USG",
        "colab_type": "code",
        "colab": {
          "base_uri": "https://localhost:8080/",
          "height": 141
        },
        "outputId": "d0cc7fcc-3ae3-4269-dce5-31699f50b700"
      },
      "cell_type": "code",
      "source": [
        ""
      ],
      "execution_count": 191,
      "outputs": [
        {
          "output_type": "stream",
          "text": [
            "/usr/local/lib/python3.6/dist-packages/sklearn/linear_model/logistic.py:433: FutureWarning: Default solver will be changed to 'lbfgs' in 0.22. Specify a solver to silence this warning.\n",
            "  FutureWarning)\n"
          ],
          "name": "stderr"
        },
        {
          "output_type": "execute_result",
          "data": {
            "text/plain": [
              "LogisticRegression(C=1.0, class_weight=None, dual=False, fit_intercept=True,\n",
              "          intercept_scaling=1, max_iter=100, multi_class='warn',\n",
              "          n_jobs=None, penalty='l2', random_state=None, solver='warn',\n",
              "          tol=0.0001, verbose=0, warm_start=False)"
            ]
          },
          "metadata": {
            "tags": []
          },
          "execution_count": 191
        }
      ]
    },
    {
      "metadata": {
        "id": "TPixXCwU0cSE",
        "colab_type": "code",
        "colab": {
          "base_uri": "https://localhost:8080/",
          "height": 35
        },
        "outputId": "d3a05ced-9b0b-44c2-d53b-9b4ac0ba5f8e"
      },
      "cell_type": "code",
      "source": [
        "from sklearn.linear_model import LogisticRegression\n",
        "from sklearn import metrics\n",
        "X_train, X_test, y_train, y_test = train_test_split(X, y, test_size=0.3, random_state=0)\n",
        "logreg = LogisticRegression(solver='newton-cg')\n",
        "logreg.fit(X_train, y_train)\n",
        "\n",
        "y_pred = logreg.predict(X_test)\n",
        "print('Accuracy of logistic regression classifier on test set: {:.2f}'.format(logreg.score(X_test, y_test)))"
      ],
      "execution_count": 196,
      "outputs": [
        {
          "output_type": "stream",
          "text": [
            "Accuracy of logistic regression classifier on test set: 0.64\n"
          ],
          "name": "stdout"
        }
      ]
    }
  ]
}