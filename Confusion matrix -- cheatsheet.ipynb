{
 "cells": [
  {
   "cell_type": "code",
   "execution_count": null,
   "metadata": {},
   "outputs": [],
   "source": [
    " # https://www.dataschool.io/simple-guide-to-confusion-matrix-terminology/"
   ]
  },
  {
   "cell_type": "markdown",
   "metadata": {},
   "source": [
    "1. _true positives_ (`TP`): These are cases in which we predicted yes (they have the disease), and they do have the disease.\n",
    "2. _true negatives_ (`TN`): We predicted no, and they don't have the disease.\n",
    "3. _false positives_ (`FP`): We predicted yes, but they don't actually have the disease. (Also known as a \"Type I error.\")\n",
    "4. _false negatives_ (`FN`): We predicted no, but they actually do have the disease. (Also known as a \"Type II error.\")\n",
    "\n",
    "\n",
    "1. _Accuracy_: Overall, how often is the classifier correct?\n",
    "- - $\\frac{TruePositive + TrueNegative}{total}$\n",
    "2. _Misclassification Rate_: Overall, how often is it wrong?\n",
    "- - $\\frac{FalsePositive + FalseNegative}{total}$, equivalent to `1 minus Accuracy`, also known as `Error Rate`\n",
    "3. _True Positive Rate_: When it's actually yes, how often does it predict yes?\n",
    "- - $\\frac{TruePositive}{ActuallyYes}$, also known as `Sensitivity` or `Recall`\n",
    "4. _False Positive Rate_: When it's actually no, how often does it predict yes?\n",
    "- - $\\frac{FalsePositive}{ActuallyNo}$\n",
    "5. _True Negative Rate_: When it's actually no, how often does it predict no?\n",
    "- - $\\frac{TrueNegative}{ActuallyNo}$, equivalent to `1 minus False Positive Rate` also known as `Specificity`\n",
    "6. _Precision_: When it predicts yes, how often is it correct? \n",
    "- - $\\frac{TruePositive}{PredictedYes}$\n",
    "7. _Prevalence_: How often does the yes condition actually occur in our sample?\n",
    "- - $\\frac{ActuallyYes}{total}$"
   ]
  },
  {
   "cell_type": "markdown",
   "metadata": {},
   "source": []
  }
 ],
 "metadata": {
  "kernelspec": {
   "display_name": "Python 3",
   "language": "python",
   "name": "python3"
  },
  "language_info": {
   "codemirror_mode": {
    "name": "ipython",
    "version": 3
   },
   "file_extension": ".py",
   "mimetype": "text/x-python",
   "name": "python",
   "nbconvert_exporter": "python",
   "pygments_lexer": "ipython3",
   "version": "3.7.2"
  }
 },
 "nbformat": 4,
 "nbformat_minor": 2
}
