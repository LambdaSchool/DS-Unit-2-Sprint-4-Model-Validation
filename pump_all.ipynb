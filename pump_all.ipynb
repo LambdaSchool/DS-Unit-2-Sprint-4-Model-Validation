{
  "nbformat": 4,
  "nbformat_minor": 0,
  "metadata": {
    "colab": {
      "name": "pump_all.ipynb",
      "version": "0.3.2",
      "provenance": [],
      "collapsed_sections": [],
      "include_colab_link": true
    },
    "kernelspec": {
      "name": "python3",
      "display_name": "Python 3"
    }
  },
  "cells": [
    {
      "cell_type": "markdown",
      "metadata": {
        "id": "view-in-github",
        "colab_type": "text"
      },
      "source": [
        "<a href=\"https://colab.research.google.com/github/cocoisland/DS-Unit-2-Sprint-4-Model-Validation/blob/master/pump_all.ipynb\" target=\"_parent\"><img src=\"https://colab.research.google.com/assets/colab-badge.svg\" alt=\"Open In Colab\"/></a>"
      ]
    },
    {
      "metadata": {
        "id": "F8UAmVspRyRj",
        "colab_type": "code",
        "outputId": "56cf3ecd-df67-4512-bc10-0c9e71a579f5",
        "colab": {
          "base_uri": "https://localhost:8080/",
          "height": 206
        }
      },
      "cell_type": "code",
      "source": [
        "!pip install kaggle"
      ],
      "execution_count": 1,
      "outputs": [
        {
          "output_type": "stream",
          "text": [
            "Requirement already satisfied: kaggle in /usr/local/lib/python3.6/dist-packages (1.5.2)\n",
            "Requirement already satisfied: urllib3<1.23.0,>=1.15 in /usr/local/lib/python3.6/dist-packages (from kaggle) (1.22)\n",
            "Requirement already satisfied: six>=1.10 in /usr/local/lib/python3.6/dist-packages (from kaggle) (1.11.0)\n",
            "Requirement already satisfied: certifi in /usr/local/lib/python3.6/dist-packages (from kaggle) (2018.11.29)\n",
            "Requirement already satisfied: python-dateutil in /usr/local/lib/python3.6/dist-packages (from kaggle) (2.5.3)\n",
            "Requirement already satisfied: requests in /usr/local/lib/python3.6/dist-packages (from kaggle) (2.18.4)\n",
            "Requirement already satisfied: tqdm in /usr/local/lib/python3.6/dist-packages (from kaggle) (4.28.1)\n",
            "Requirement already satisfied: python-slugify in /usr/local/lib/python3.6/dist-packages (from kaggle) (2.0.1)\n",
            "Requirement already satisfied: idna<2.7,>=2.5 in /usr/local/lib/python3.6/dist-packages (from requests->kaggle) (2.6)\n",
            "Requirement already satisfied: chardet<3.1.0,>=3.0.2 in /usr/local/lib/python3.6/dist-packages (from requests->kaggle) (3.0.4)\n",
            "Requirement already satisfied: Unidecode>=0.04.16 in /usr/local/lib/python3.6/dist-packages (from python-slugify->kaggle) (1.0.23)\n"
          ],
          "name": "stdout"
        }
      ]
    },
    {
      "metadata": {
        "id": "qZtI_YhhR_Ue",
        "colab_type": "code",
        "outputId": "86460809-511a-4bcf-84c1-505d86db5dce",
        "colab": {
          "base_uri": "https://localhost:8080/",
          "height": 140
        }
      },
      "cell_type": "code",
      "source": [
        "from google.colab import drive\n",
        "drive.mount('/content/drive')\n",
        "%env KAGGLE_CONFIG_DIR=/content/drive/My Drive/"
      ],
      "execution_count": 2,
      "outputs": [
        {
          "output_type": "stream",
          "text": [
            "Go to this URL in a browser: https://accounts.google.com/o/oauth2/auth?client_id=947318989803-6bn6qk8qdgf4n4g3pfee6491hc0brc4i.apps.googleusercontent.com&redirect_uri=urn%3Aietf%3Awg%3Aoauth%3A2.0%3Aoob&scope=email%20https%3A%2F%2Fwww.googleapis.com%2Fauth%2Fdocs.test%20https%3A%2F%2Fwww.googleapis.com%2Fauth%2Fdrive%20https%3A%2F%2Fwww.googleapis.com%2Fauth%2Fdrive.photos.readonly%20https%3A%2F%2Fwww.googleapis.com%2Fauth%2Fpeopleapi.readonly&response_type=code\n",
            "\n",
            "Enter your authorization code:\n",
            "··········\n",
            "Mounted at /content/drive\n",
            "env: KAGGLE_CONFIG_DIR=/content/drive/My Drive/\n"
          ],
          "name": "stdout"
        }
      ]
    },
    {
      "metadata": {
        "id": "Ol286mJ7SEGs",
        "colab_type": "code",
        "outputId": "32b430f5-b344-488e-d4e6-2d2b7fb44eb8",
        "colab": {
          "base_uri": "https://localhost:8080/",
          "height": 223
        }
      },
      "cell_type": "code",
      "source": [
        "!kaggle  competitions download -c ds1-predictive-modeling-challenge"
      ],
      "execution_count": 3,
      "outputs": [
        {
          "output_type": "stream",
          "text": [
            "Downloading sample_submission.csv to /content\n",
            "\r  0% 0.00/236k [00:00<?, ?B/s]\n",
            "100% 236k/236k [00:00<00:00, 68.8MB/s]\n",
            "Downloading test_features.csv.zip to /content\n",
            "  0% 0.00/948k [00:00<?, ?B/s]\n",
            "100% 948k/948k [00:00<00:00, 60.6MB/s]\n",
            "Downloading train_labels.csv.zip to /content\n",
            "  0% 0.00/211k [00:00<?, ?B/s]\n",
            "100% 211k/211k [00:00<00:00, 62.4MB/s]\n",
            "Downloading train_features.csv.zip to /content\n",
            "  0% 0.00/3.81M [00:00<?, ?B/s]\n",
            "100% 3.81M/3.81M [00:00<00:00, 125MB/s]\n"
          ],
          "name": "stdout"
        }
      ]
    },
    {
      "metadata": {
        "id": "NUqCZMfnSIDo",
        "colab_type": "code",
        "outputId": "cbc358d1-4c2a-4983-ac3e-5da44fb0888e",
        "colab": {
          "base_uri": "https://localhost:8080/",
          "height": 120
        }
      },
      "cell_type": "code",
      "source": [
        "!unzip train_features.csv.zip\n",
        "!unzip train_labels.csv.zip\n",
        "!unzip test_features.csv.zip\n"
      ],
      "execution_count": 4,
      "outputs": [
        {
          "output_type": "stream",
          "text": [
            "Archive:  train_features.csv.zip\n",
            "  inflating: train_features.csv      \n",
            "Archive:  train_labels.csv.zip\n",
            "  inflating: train_labels.csv        \n",
            "Archive:  test_features.csv.zip\n",
            "  inflating: test_features.csv       \n"
          ],
          "name": "stdout"
        }
      ]
    },
    {
      "metadata": {
        "id": "IDKC-12RSLyX",
        "colab_type": "code",
        "colab": {}
      },
      "cell_type": "code",
      "source": [
        "import pandas as pd\n",
        "import numpy as np\n",
        "import matplotlib.pyplot as plt\n"
      ],
      "execution_count": 0,
      "outputs": []
    },
    {
      "metadata": {
        "id": "aUPmwnpxSpYQ",
        "colab_type": "code",
        "outputId": "6fafabce-9d36-411a-917e-29a424080e62",
        "colab": {
          "base_uri": "https://localhost:8080/",
          "height": 34
        }
      },
      "cell_type": "code",
      "source": [
        "df_train = pd.read_csv('train_features.csv',index_col='id')\n",
        "df_test = pd.read_csv('test_features.csv', index_col='id')\n",
        "df_label = pd.read_csv('train_labels.csv')\n",
        "df_sample = pd.read_csv('sample_submission.csv')\n",
        "\n",
        "df_train.shape, df_test.shape, df_label.shape, df_sample.shape\n"
      ],
      "execution_count": 6,
      "outputs": [
        {
          "output_type": "execute_result",
          "data": {
            "text/plain": [
              "((59400, 39), (14358, 39), (59400, 2), (14358, 2))"
            ]
          },
          "metadata": {
            "tags": []
          },
          "execution_count": 6
        }
      ]
    },
    {
      "metadata": {
        "id": "7EeknyBk70fl",
        "colab_type": "code",
        "colab": {}
      },
      "cell_type": "code",
      "source": [
        "# grouping longitude+latitude into local centroid\n",
        "\n",
        "from sklearn.cluster import KMeans\n",
        "\n",
        "def add_local_gps(X3):\n",
        "  points=X3[['longitude','latitude']]\n",
        "  points = points.drop(points[points.longitude == 0].index)\n",
        "  \n",
        "  km = KMeans(n_clusters=20)\n",
        "  km = km.fit(points)\n",
        "  \n",
        "  points['centroid']=km.labels_\n",
        "  return points['centroid']"
      ],
      "execution_count": 0,
      "outputs": []
    },
    {
      "metadata": {
        "id": "jJoB8e7JxuoB",
        "colab_type": "code",
        "colab": {}
      },
      "cell_type": "code",
      "source": [
        "# Plot longitude+latitude with centroid\n",
        "from sklearn.cluster import KMeans\n",
        "\n",
        "def viz_gps(X3):\n",
        "  points=X3[['longitude','latitude']]\n",
        "  points = points.drop(points[points.longitude == 0].index)\n",
        "\n",
        "  '''\n",
        "  sum_of_squared_distanced = []\n",
        "\n",
        "  K = range(1,25)\n",
        "  for k in K:\n",
        "    km = KMeans(n_clusters=k)\n",
        "    km = km.fit(points)\n",
        "    sum_of_squared_distanced.append(km.inertia_)\n",
        "\n",
        "  plt.plot(K, sum_of_squared_distanced, marker=\"X\")\n",
        "  plt.xlabel('k', fontsize=15)\n",
        "  plt.ylabel('Sum_of_squared_distanced', fontsize=15)\n",
        "  plt.title('Elbow Method to find the optimal k by eyeball', fontsize=15)\n",
        "  plt.show()\n",
        "'''\n",
        "  km = KMeans(n_clusters=20)\n",
        "  km = km.fit(points)\n",
        "\n",
        "  plt.scatter(points.longitude, points.latitude, c=km.labels_, cmap='rainbow')\n",
        "\n",
        "  plt.scatter(km.cluster_centers_[:,0], km.cluster_centers_[:,1], color='black')"
      ],
      "execution_count": 0,
      "outputs": []
    },
    {
      "metadata": {
        "id": "G4I8DUZ4S2D8",
        "colab_type": "code",
        "colab": {}
      },
      "cell_type": "code",
      "source": [
        "# feature engineering-turning continuous numeric into discrete value.\n",
        "# Hopefully logistic classifier can map discrete value to target\n",
        "def num_cleanup(X1):\n",
        "  '''\n",
        "  date_recorded\n",
        "  ['amount_tsh', 'gps_height', 'longitude', 'latitude', 'num_private',\n",
        "       'region_code', 'district_code', 'population', 'construction_year']\n",
        "  '''\n",
        "  \n",
        "  # categorical value nan converted to unknown to be processed by regression.\n",
        "  X2 = X1.fillna('unknown')\n",
        "  \n",
        "  # added recorded_year_built\n",
        "  # convert date_recorded as year \n",
        "  dates = pd.to_datetime(X2.date_recorded)\n",
        "  X2['recorded_year_built'] = dates.dt.year - X2['construction_year']\n",
        "  X2.loc[X2.recorded_year_built > 1000 ] = 0\n",
        "  X2.date_recorded = dates.dt.year\n",
        "  \n",
        "  #\n",
        "  bins=[-100,0,100,500,1000,1250,1500,2000]\n",
        "  labels=[0,100,500,1000,1250,1500,2000]\n",
        "  #X2['gps_height_bin']= pd.cut(X2.gps_height, bins, labels=labels)\n",
        "  #X2.drop(['gps_height'], axis=1, inplace=True)\n",
        "  \n",
        "  # replace longitude, latitude with centroid\n",
        "  X2['centroid']=add_local_gps(X1)\n",
        "  #X2.drop(['longitude','latitude'], axis=1, inplace=True)\n",
        "  \n",
        "  type_dict = {'amount_tsh':'float64',    # nunique()=98\n",
        "               'date_recorded':'float64', # date into year\n",
        "               'gps_height':'float64',\n",
        "               #'gps_height_bin':'float64',    #added bins; reduce score 0.02\n",
        "               'centroid':'float64',  # centroid=25,2000: no impact on score.\n",
        "               'num_private':'float64',   # nunique()=65\n",
        "               'population':'float64',    # nunique()=1049\n",
        "               'construction_year':'float64',   # nunique()=55\n",
        "               'recorded_year_built':'float64', #added\n",
        "               'region_code':'float64',   # nunique()=27\n",
        "               'district_code':'float64'  # nunique=20 \n",
        "              }\n",
        "  X2 = X2.astype(dtype = type_dict)\n",
        "  \n",
        "  X2 = X2.fillna(0)\n",
        "\n",
        "  return X2"
      ],
      "execution_count": 0,
      "outputs": []
    },
    {
      "metadata": {
        "id": "ef_CfcBKFfFb",
        "colab_type": "code",
        "colab": {}
      },
      "cell_type": "code",
      "source": [
        "import sklearn.feature_selection as fe\n",
        "\n",
        "def variance_threshold_selector(data, threshold=0.03):\n",
        "    selector = fe.VarianceThreshold(threshold)\n",
        "    selector.fit(data)\n",
        "    return data[data.columns[selector.get_support(indices=True)]]"
      ],
      "execution_count": 0,
      "outputs": []
    },
    {
      "metadata": {
        "id": "nHHnomyoIRwP",
        "colab_type": "code",
        "colab": {}
      },
      "cell_type": "code",
      "source": [
        "df_train.funder = df_train.funder.replace('0', 'missing')\n",
        "X_dummies = pd.get_dummies(df_train.funder)\n",
        "funder_filter=variance_threshold_selector(X_dummies)"
      ],
      "execution_count": 0,
      "outputs": []
    },
    {
      "metadata": {
        "id": "W6NHBVmGFv_j",
        "colab_type": "code",
        "colab": {}
      },
      "cell_type": "code",
      "source": [
        "df_train.funder = df_train.funder.replace('0', 'missing')\n",
        "X_dummies = ce.OneHotEncoder().fit_transform(s)\n",
        "dummy_filter=variance_threshold_selector(X_dummies)"
      ],
      "execution_count": 0,
      "outputs": []
    },
    {
      "metadata": {
        "id": "L9HNVGB_weF1",
        "colab_type": "code",
        "colab": {}
      },
      "cell_type": "code",
      "source": [
        "def obj_cleanup(X):\n",
        "  \n",
        "  X4=X.copy()\n",
        "  \n",
        "  '''# extraction_type_class 0.714 - 0.713\n",
        "  X4.extraction_type_class.replace('other','otr_extr',inplace=True)\n",
        "    \n",
        "  # management 0.713 - 0.708\n",
        "  X4.management=X4.management.replace('unknown','unkwn_mgmt')\n",
        "  X4.management=X4.management.replace('other','otr_mgmt')\n",
        "   \n",
        "  # payment\n",
        "  X4.payment=X4.payment.replace('unknown','unkwn_pmt')\n",
        "  \n",
        "  # quality_group\n",
        "  X4.quality_group=X4.quality_group.replace('unknown','unkwn_qual_grp')\n",
        "    \n",
        "  # quantity\n",
        "  X4.quantity=X4.quantity.replace('unknown','unknown_quantity')\n",
        "  \n",
        "  # waterpoint_type\n",
        "  X4.waterpoint_type=X4.waterpoint_type.replace('other','otr_wtr')\n",
        "  '''\n",
        "  type_dict = {\n",
        "               'basin':'object',   \n",
        "               'region':'object', \n",
        "               'lga':'object',\n",
        "               'extraction_type_class':'object', \n",
        "               'management':'object',  \n",
        "               'payment':'object',   \n",
        "               'quality_group':'object',\n",
        "               'quantity':'object' ,\n",
        "               'source_type':'object', \n",
        "               'waterpoint_type':'object'   \n",
        "              }\n",
        "  cols=list(type_dict.keys())\n",
        "  X4 = X4[cols].astype(dtype = type_dict)\n",
        "  \n",
        "  \n",
        "  return X4\n",
        "  "
      ],
      "execution_count": 0,
      "outputs": []
    },
    {
      "metadata": {
        "id": "ciWm2-1_3wRv",
        "colab_type": "code",
        "colab": {
          "base_uri": "https://localhost:8080/",
          "height": 277
        },
        "outputId": "8e6abdde-b555-4636-ef93-6f179e69673b"
      },
      "cell_type": "code",
      "source": [
        "!pip install category_encoders"
      ],
      "execution_count": 10,
      "outputs": [
        {
          "output_type": "stream",
          "text": [
            "Collecting category_encoders\n",
            "\u001b[?25l  Downloading https://files.pythonhosted.org/packages/f7/d3/82a4b85a87ece114f6d0139d643580c726efa45fa4db3b81aed38c0156c5/category_encoders-1.3.0-py2.py3-none-any.whl (61kB)\n",
            "\u001b[K    100% |████████████████████████████████| 61kB 4.1MB/s \n",
            "\u001b[?25hRequirement already satisfied: scipy>=0.17.0 in /usr/local/lib/python3.6/dist-packages (from category_encoders) (1.1.0)\n",
            "Requirement already satisfied: numpy>=1.11.1 in /usr/local/lib/python3.6/dist-packages (from category_encoders) (1.14.6)\n",
            "Requirement already satisfied: pandas>=0.20.1 in /usr/local/lib/python3.6/dist-packages (from category_encoders) (0.22.0)\n",
            "Requirement already satisfied: statsmodels>=0.6.1 in /usr/local/lib/python3.6/dist-packages (from category_encoders) (0.8.0)\n",
            "Requirement already satisfied: scikit-learn>=0.17.1 in /usr/local/lib/python3.6/dist-packages (from category_encoders) (0.20.2)\n",
            "Requirement already satisfied: patsy>=0.4.1 in /usr/local/lib/python3.6/dist-packages (from category_encoders) (0.5.1)\n",
            "Requirement already satisfied: pytz>=2011k in /usr/local/lib/python3.6/dist-packages (from pandas>=0.20.1->category_encoders) (2018.9)\n",
            "Requirement already satisfied: python-dateutil>=2 in /usr/local/lib/python3.6/dist-packages (from pandas>=0.20.1->category_encoders) (2.5.3)\n",
            "Requirement already satisfied: six in /usr/local/lib/python3.6/dist-packages (from patsy>=0.4.1->category_encoders) (1.11.0)\n",
            "Installing collected packages: category-encoders\n",
            "Successfully installed category-encoders-1.3.0\n"
          ],
          "name": "stdout"
        }
      ]
    },
    {
      "metadata": {
        "id": "XQD327Q3IO0E",
        "colab_type": "code",
        "colab": {}
      },
      "cell_type": "code",
      "source": [
        "#from sklearn.preprocessing import OneHotEncoder\n",
        "import category_encoders as ce\n",
        "from sklearn.linear_model import LogisticRegression\n",
        "from sklearn.pipeline import make_pipeline\n",
        "from sklearn.preprocessing import RobustScaler\n",
        "\n",
        "pipe = make_pipeline(\n",
        "    ce.BinaryEncoder(cols=['basin', 'region', 'lga', 'extraction_type_class', \n",
        "                           'management','payment', 'quality_group', \n",
        "                           'quantity', 'source_type','waterpoint_type']),\n",
        "    #ce.BinaryEncoder(cols=[]),\n",
        "    #OneHotEncoder(cols=[])\n",
        "    #ce.HashingEncoder(cols=[]),\n",
        "    RobustScaler(),\n",
        "    LogisticRegression(solver='lbfgs',\n",
        "                       multi_class='auto',\n",
        "                      max_iter=1000))"
      ],
      "execution_count": 0,
      "outputs": []
    },
    {
      "metadata": {
        "id": "RoOVuatC4K__",
        "colab_type": "code",
        "colab": {
          "base_uri": "https://localhost:8080/",
          "height": 88
        },
        "outputId": "cc7d5d77-20ec-4d2f-b256-93e59e47e6d1"
      },
      "cell_type": "code",
      "source": [
        "from sklearn.metrics import accuracy_score\n",
        "\n",
        "X=df_final\n",
        "y = df_label.status_group\n",
        "\n",
        "pipe.fit(X,y)\n",
        "\n",
        "y_pred = pipe.predict(X)\n",
        "print('Accuracy score=', accuracy_score(y, y_pred))\n",
        "\n"
      ],
      "execution_count": 29,
      "outputs": [
        {
          "output_type": "stream",
          "text": [
            "/usr/local/lib/python3.6/dist-packages/sklearn/linear_model/logistic.py:758: ConvergenceWarning: lbfgs failed to converge. Increase the number of iterations.\n",
            "  \"of iterations.\", ConvergenceWarning)\n"
          ],
          "name": "stderr"
        },
        {
          "output_type": "stream",
          "text": [
            "Accuracy score= 0.725\n"
          ],
          "name": "stdout"
        }
      ]
    },
    {
      "metadata": {
        "id": "xqa1sIcFQuIs",
        "colab_type": "code",
        "colab": {}
      },
      "cell_type": "code",
      "source": [
        "y_test_pred = pipe.predict(df_final_test)"
      ],
      "execution_count": 0,
      "outputs": []
    },
    {
      "metadata": {
        "id": "mTPu1S0HTRyH",
        "colab_type": "code",
        "colab": {}
      },
      "cell_type": "code",
      "source": [
        "df_obj_clean.apply(lambda x: x.astype('category').cat.codes)"
      ],
      "execution_count": 0,
      "outputs": []
    },
    {
      "metadata": {
        "id": "ozWyxUvAMGjo",
        "colab_type": "code",
        "colab": {
          "base_uri": "https://localhost:8080/",
          "height": 34
        },
        "outputId": "f8a11c77-359b-4d9b-f672-31910076042a"
      },
      "cell_type": "code",
      "source": [
        "# Clean and prepare data\n",
        "df_num = df_train.select_dtypes('number').copy()\n",
        "df_num['date_recorded'] = df_train['date_recorded']\n",
        "df_num_test = df_test.select_dtypes('number').copy()\n",
        "df_num_test['date_recorded'] = df_test['date_recorded']\n",
        "\n",
        "df_clean = num_cleanup(df_num).copy()\n",
        "df_clean_test = num_cleanup(df_num_test).copy()\n",
        "\n",
        "\n",
        "df_obj = df_train.select_dtypes(object).copy()\n",
        "df_obj_test = df_test.select_dtypes(object).copy()\n",
        "\n",
        "df_obj_clean = obj_cleanup(df_obj).copy()\n",
        "df_obj_test_clean = obj_cleanup(df_obj_test).copy()\n",
        "\n",
        "df_final = df_clean.join(df_obj_clean)\n",
        "df_final_test = df_clean_test.join(df_obj_clean)\n",
        "\n",
        "df_final.shape, df_final_test.shape\n"
      ],
      "execution_count": 12,
      "outputs": [
        {
          "output_type": "execute_result",
          "data": {
            "text/plain": [
              "((59400, 22), (14358, 22))"
            ]
          },
          "metadata": {
            "tags": []
          },
          "execution_count": 12
        }
      ]
    },
    {
      "metadata": {
        "id": "Zo_8JDri8cIV",
        "colab_type": "code",
        "colab": {}
      },
      "cell_type": "code",
      "source": [
        "y_test_pred = pipe.predict(t)"
      ],
      "execution_count": 0,
      "outputs": []
    },
    {
      "metadata": {
        "id": "5mmKivbbYUGY",
        "colab_type": "code",
        "colab": {}
      },
      "cell_type": "code",
      "source": [
        "from sklearn.feature_selection import SelectKBest, f_classif\n",
        "from sklearn.linear_model import LogisticRegression\n",
        "from sklearn.pipeline import make_pipeline\n",
        "from sklearn.metrics import accuracy_score\n",
        "from sklearn.model_selection import GridSearchCV\n",
        "import warning\n",
        "\n",
        "warnings.filterwarnings(action='ignore', category='FutureWarning')\n",
        "\n",
        "X=df_num\n",
        "y = df_label.status_group\n",
        "\n",
        "pipe = make_pipeline(\n",
        "    SelectKBest(f_classif),\n",
        "    LogisticRegression(max_iter=500))\n",
        "\n",
        "param_grid = {\n",
        "    'selectkbest__k': [5,9, 'all'],\n",
        "    'logisticregression__class_weight': [None, 'balanced'],\n",
        "    'logisticregression__penalty': ['l1', 'l2'],\n",
        "    'logisticregression__C': [.1, 1.0, 10.0]\n",
        "}\n",
        "\n",
        "\n",
        "gs = GridSearchCV(pipe, param_grid=param_grid, cv=3, \n",
        "                  scoring='accuracy', return_train_score=True,\n",
        "                  verbose=1)\n",
        "\n",
        "gs.fit(X, y)\n",
        "\n",
        "\n",
        "print('Accuracy Score:', gs.best_score_)\n",
        "print('Best estimator:', gs.best_estimator_)\n",
        "print()\n",
        "\n",
        "results = pd.DataFrame(gs.cv_results_)\n",
        "print('Best result from grid search of {} parameter combinations'.format(len(results)))\n",
        "results.sort_values(by='rank_test_score').head(3)"
      ],
      "execution_count": 0,
      "outputs": []
    },
    {
      "metadata": {
        "id": "1ePoiacyIZDO",
        "colab_type": "code",
        "colab": {}
      },
      "cell_type": "code",
      "source": [
        "%%time\n",
        "from sklearn.metrics import accuracy_score\n",
        "\n",
        "X=df_num\n",
        "y = df_label.status_group\n",
        "\n",
        "pipe.fit(X,y)\n",
        "\n",
        "y_pred = pipe.predict(X)\n",
        "print('Accuracy score=', accuracy_score(y, y_pred))\n",
        "\n",
        "y_test_pred = pipe.predict(df_num_test)"
      ],
      "execution_count": 0,
      "outputs": []
    },
    {
      "metadata": {
        "id": "nigsv7brS2NC",
        "colab_type": "code",
        "colab": {}
      },
      "cell_type": "code",
      "source": [
        "y_test_pred = pipe.predict(df_num_test)"
      ],
      "execution_count": 0,
      "outputs": []
    },
    {
      "metadata": {
        "id": "Jd_1lI-iufTm",
        "colab_type": "code",
        "colab": {}
      },
      "cell_type": "code",
      "source": [
        "scores = cross_validate(LogisticRegression(solver='lbfgs',class_weight=None, max_iter=1500), \n",
        "                        X, y, \n",
        "                        scoring='accuracy', cv=3,\n",
        "                        return_train_score=True, return_estimator=True)\n",
        "\n",
        "pd.DataFrame(scores)"
      ],
      "execution_count": 0,
      "outputs": []
    },
    {
      "metadata": {
        "id": "FG0MbN2ytPGw",
        "colab_type": "code",
        "colab": {}
      },
      "cell_type": "code",
      "source": [
        "# Xgboost\n",
        "\n",
        "from xgboost import XGBClassifier\n",
        "modelxgb = XGBClassifier(objective = 'multi:softmax', booster = 'gbtree', nrounds = 'min.error.idx', \n",
        "                      num_class = 3, maximize = False, eval_metric = 'merror', eta = .1,\n",
        "                      max_depth = 14, colsample_bytree = .4)"
      ],
      "execution_count": 0,
      "outputs": []
    },
    {
      "metadata": {
        "id": "nNlT3_Yxtu-V",
        "colab_type": "code",
        "colab": {}
      },
      "cell_type": "code",
      "source": [
        "# Xgboost\n",
        "from sklearn.model_selection import cross_val_score\n",
        "\n",
        "score = (cross_val_score(modelxgb, X, y, cv=5,n_jobs = -1))\n",
        "score.mean()"
      ],
      "execution_count": 0,
      "outputs": []
    },
    {
      "metadata": {
        "id": "PlKsxqz0qFaI",
        "colab_type": "code",
        "colab": {}
      },
      "cell_type": "code",
      "source": [
        "df_num.drop(['gps_height_bin','amount_tsh','date_recorded','num_private',\n",
        "            'gps_height','construction_year'], axis=1, inplace=True)"
      ],
      "execution_count": 0,
      "outputs": []
    },
    {
      "metadata": {
        "id": "etKXe5uOw1Yo",
        "colab_type": "code",
        "colab": {}
      },
      "cell_type": "code",
      "source": [
        "df_num.drop(['region_code'],axis=1, inplace=True)"
      ],
      "execution_count": 0,
      "outputs": []
    },
    {
      "metadata": {
        "id": "qkoc2CKFcyTS",
        "colab_type": "code",
        "colab": {
          "base_uri": "https://localhost:8080/",
          "height": 68
        },
        "outputId": "abbeb09b-444c-4326-e73a-c5f1b4134781"
      },
      "cell_type": "code",
      "source": [
        "%%time\n",
        "from sklearn.metrics import accuracy_score\n",
        "from sklearn.linear_model import LogisticRegression\n",
        "\n",
        "X=df_num.copy()\n",
        "y = df_label.status_group\n",
        "\n",
        "model = LogisticRegression(solver='lbfgs', \n",
        "             multi_class='auto',max_iter=3000).fit(X, y)\n",
        "y_pred = model.predict(X)\n",
        "\n",
        "print('Accuracy score=', accuracy_score(y, y_pred))"
      ],
      "execution_count": 26,
      "outputs": [
        {
          "output_type": "stream",
          "text": [
            "Accuracy score= 0.5985353535353536\n",
            "CPU times: user 1min 2s, sys: 33.7 s, total: 1min 35s\n",
            "Wall time: 48.2 s\n"
          ],
          "name": "stdout"
        }
      ]
    },
    {
      "metadata": {
        "id": "LViQl3-cgNSn",
        "colab_type": "code",
        "colab": {}
      },
      "cell_type": "code",
      "source": [
        "y_pred = model.predict(df_num_test)"
      ],
      "execution_count": 0,
      "outputs": []
    },
    {
      "metadata": {
        "id": "3daDPoMlcQko",
        "colab_type": "code",
        "colab": {}
      },
      "cell_type": "code",
      "source": [
        "#submission as format as df_sample\n",
        "y_submission = pd.DataFrame()\n",
        "\n",
        "y_submission['id'] = df_test.index\n",
        "y_submission['status_group']=y_pred\n",
        "y_submission.shape"
      ],
      "execution_count": 0,
      "outputs": []
    },
    {
      "metadata": {
        "id": "Pg1XZ60_cUSz",
        "colab_type": "code",
        "colab": {}
      },
      "cell_type": "code",
      "source": [
        "from google.colab import files\n",
        "\n",
        "y_submission.to_csv('data_all.csv', index=False)\n",
        "files.download(\"data_all.csv\")"
      ],
      "execution_count": 0,
      "outputs": []
    }
  ]
}