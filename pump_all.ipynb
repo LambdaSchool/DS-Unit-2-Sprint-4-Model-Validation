{
  "nbformat": 4,
  "nbformat_minor": 0,
  "metadata": {
    "colab": {
      "name": "pump_all.ipynb",
      "version": "0.3.2",
      "provenance": [],
      "collapsed_sections": [],
      "include_colab_link": true
    },
    "kernelspec": {
      "name": "python3",
      "display_name": "Python 3"
    }
  },
  "cells": [
    {
      "cell_type": "markdown",
      "metadata": {
        "id": "view-in-github",
        "colab_type": "text"
      },
      "source": [
        "<a href=\"https://colab.research.google.com/github/cocoisland/DS-Unit-2-Sprint-4-Model-Validation/blob/master/pump_all.ipynb\" target=\"_parent\"><img src=\"https://colab.research.google.com/assets/colab-badge.svg\" alt=\"Open In Colab\"/></a>"
      ]
    },
    {
      "metadata": {
        "id": "F8UAmVspRyRj",
        "colab_type": "code",
        "outputId": "e0447c35-2251-4cfa-a83e-533795c2da5a",
        "colab": {
          "base_uri": "https://localhost:8080/",
          "height": 206
        }
      },
      "cell_type": "code",
      "source": [
        "!pip install kaggle"
      ],
      "execution_count": 1,
      "outputs": [
        {
          "output_type": "stream",
          "text": [
            "Requirement already satisfied: kaggle in /usr/local/lib/python3.6/dist-packages (1.5.2)\n",
            "Requirement already satisfied: urllib3<1.23.0,>=1.15 in /usr/local/lib/python3.6/dist-packages (from kaggle) (1.22)\n",
            "Requirement already satisfied: six>=1.10 in /usr/local/lib/python3.6/dist-packages (from kaggle) (1.11.0)\n",
            "Requirement already satisfied: certifi in /usr/local/lib/python3.6/dist-packages (from kaggle) (2018.11.29)\n",
            "Requirement already satisfied: python-dateutil in /usr/local/lib/python3.6/dist-packages (from kaggle) (2.5.3)\n",
            "Requirement already satisfied: requests in /usr/local/lib/python3.6/dist-packages (from kaggle) (2.18.4)\n",
            "Requirement already satisfied: tqdm in /usr/local/lib/python3.6/dist-packages (from kaggle) (4.28.1)\n",
            "Requirement already satisfied: python-slugify in /usr/local/lib/python3.6/dist-packages (from kaggle) (2.0.1)\n",
            "Requirement already satisfied: idna<2.7,>=2.5 in /usr/local/lib/python3.6/dist-packages (from requests->kaggle) (2.6)\n",
            "Requirement already satisfied: chardet<3.1.0,>=3.0.2 in /usr/local/lib/python3.6/dist-packages (from requests->kaggle) (3.0.4)\n",
            "Requirement already satisfied: Unidecode>=0.04.16 in /usr/local/lib/python3.6/dist-packages (from python-slugify->kaggle) (1.0.23)\n"
          ],
          "name": "stdout"
        }
      ]
    },
    {
      "metadata": {
        "id": "qZtI_YhhR_Ue",
        "colab_type": "code",
        "outputId": "e62440e1-d19a-42a6-b3f5-2659c5edfd5c",
        "colab": {
          "base_uri": "https://localhost:8080/",
          "height": 51
        }
      },
      "cell_type": "code",
      "source": [
        "from google.colab import drive\n",
        "drive.mount('/content/drive')\n",
        "%env KAGGLE_CONFIG_DIR=/content/drive/My Drive/"
      ],
      "execution_count": 2,
      "outputs": [
        {
          "output_type": "stream",
          "text": [
            "Drive already mounted at /content/drive; to attempt to forcibly remount, call drive.mount(\"/content/drive\", force_remount=True).\n",
            "env: KAGGLE_CONFIG_DIR=/content/drive/My Drive/\n"
          ],
          "name": "stdout"
        }
      ]
    },
    {
      "metadata": {
        "id": "Ol286mJ7SEGs",
        "colab_type": "code",
        "outputId": "be227e03-e410-492e-ad71-a4356faa3115",
        "colab": {
          "base_uri": "https://localhost:8080/",
          "height": 86
        }
      },
      "cell_type": "code",
      "source": [
        "!kaggle  competitions download -c ds1-predictive-modeling-challenge"
      ],
      "execution_count": 3,
      "outputs": [
        {
          "output_type": "stream",
          "text": [
            "sample_submission.csv: Skipping, found more recently modified local copy (use --force to force download)\n",
            "test_features.csv.zip: Skipping, found more recently modified local copy (use --force to force download)\n",
            "train_labels.csv.zip: Skipping, found more recently modified local copy (use --force to force download)\n",
            "train_features.csv.zip: Skipping, found more recently modified local copy (use --force to force download)\n"
          ],
          "name": "stdout"
        }
      ]
    },
    {
      "metadata": {
        "id": "NUqCZMfnSIDo",
        "colab_type": "code",
        "outputId": "183c47cc-6f21-4d0d-af9d-3a107c523410",
        "colab": {
          "base_uri": "https://localhost:8080/",
          "height": 120
        }
      },
      "cell_type": "code",
      "source": [
        "!unzip train_features.csv.zip\n",
        "!unzip train_labels.csv.zip\n",
        "!unzip test_features.csv.zip\n"
      ],
      "execution_count": 0,
      "outputs": [
        {
          "output_type": "stream",
          "text": [
            "Archive:  train_features.csv.zip\n",
            "  inflating: train_features.csv      \n",
            "Archive:  train_labels.csv.zip\n",
            "  inflating: train_labels.csv        \n",
            "Archive:  test_features.csv.zip\n",
            "  inflating: test_features.csv       \n"
          ],
          "name": "stdout"
        }
      ]
    },
    {
      "metadata": {
        "id": "IDKC-12RSLyX",
        "colab_type": "code",
        "colab": {}
      },
      "cell_type": "code",
      "source": [
        "import pandas as pd\n",
        "import numpy as np\n",
        "import matplotlib.pyplot as plt\n"
      ],
      "execution_count": 0,
      "outputs": []
    },
    {
      "metadata": {
        "id": "aUPmwnpxSpYQ",
        "colab_type": "code",
        "outputId": "984c9cd8-d513-49b6-cb56-f4edf79fc6d5",
        "colab": {
          "base_uri": "https://localhost:8080/",
          "height": 34
        }
      },
      "cell_type": "code",
      "source": [
        "df_train = pd.read_csv('train_features.csv',index_col='id')\n",
        "df_test = pd.read_csv('test_features.csv', index_col='id')\n",
        "df_label = pd.read_csv('train_labels.csv')\n",
        "df_sample = pd.read_csv('sample_submission.csv')\n",
        "\n",
        "df_train.shape, df_test.shape, df_label.shape, df_sample.shape\n"
      ],
      "execution_count": 5,
      "outputs": [
        {
          "output_type": "execute_result",
          "data": {
            "text/plain": [
              "((59400, 39), (14358, 39), (59400, 2), (14358, 2))"
            ]
          },
          "metadata": {
            "tags": []
          },
          "execution_count": 5
        }
      ]
    },
    {
      "metadata": {
        "id": "7EeknyBk70fl",
        "colab_type": "code",
        "colab": {}
      },
      "cell_type": "code",
      "source": [
        "from sklearn.cluster import KMeans\n",
        "\n",
        "def add_local_gps(X3):\n",
        "  points=X3[['longitude','latitude']]\n",
        "  points = points.drop(points[points.longitude == 0].index)\n",
        "  \n",
        "  km = KMeans(n_clusters=20)\n",
        "  km = km.fit(points)\n",
        "  \n",
        "  points['centroid']=km.labels_\n",
        "  return points['centroid']"
      ],
      "execution_count": 0,
      "outputs": []
    },
    {
      "metadata": {
        "id": "G4I8DUZ4S2D8",
        "colab_type": "code",
        "colab": {}
      },
      "cell_type": "code",
      "source": [
        "def num_cleanup(X1):\n",
        "  '''\n",
        "  date_recorded\n",
        "  ['amount_tsh', 'gps_height', 'longitude', 'latitude', 'num_private',\n",
        "       'region_code', 'district_code', 'population', 'construction_year']\n",
        "  '''\n",
        "  \n",
        "  # categorical value nan converted to unknown to be processed by regression.\n",
        "  X2 = X1.fillna(0)\n",
        "  \n",
        "  # added recorded_year_built\n",
        "  # convert date_recorded as year \n",
        "  dates = pd.to_datetime(X2.date_recorded)\n",
        "  X2['recorded_year_built'] = dates.dt.year - X2['construction_year']\n",
        "  X2.loc[X2.recorded_year_built > 1000 ] = 0\n",
        "  X2.date_recorded = dates.dt.year\n",
        "  \n",
        "  #\n",
        "  bins=[-100,0,100,500,1000,1250,1500,2000]\n",
        "  labels=[0,100,500,1000,1250,1500,2000]\n",
        "  X2['gps_height_bin']= pd.cut(X2.gps_height, bins, labels=labels)\n",
        "  X2.drop(['gps_height'], axis=1, inplace=True)\n",
        "  \n",
        "  # replace longitude, latitude with centroid\n",
        "  X2['centroid']=add_local_gps(X1)\n",
        "  X2.drop(['longitude','latitude'], axis=1, inplace=True)\n",
        "  \n",
        "  type_dict = {'amount_tsh':'float64',    # nunique()=98\n",
        "               'date_recorded':'float64', # year\n",
        "               'gps_height_bin':'float64',    #bins\n",
        "               'centroid':'float64',  # replace longitude, latitude\n",
        "               'num_private':'float64',   # nunique()=65\n",
        "               'population':'float64',    # nunique()=1049\n",
        "               'construction_year':'float64',   # nunique()=55\n",
        "               'recorded_year_built':'float64', #added\n",
        "               'region_code':'float64',   # nunique()=27\n",
        "               'district_code':'float64'  # nunique=20 \n",
        "              }\n",
        "  X2 = X2.astype(dtype = type_dict)\n",
        "\n",
        "  return X2"
      ],
      "execution_count": 0,
      "outputs": []
    },
    {
      "metadata": {
        "id": "C2J7pQfY_puE",
        "colab_type": "code",
        "colab": {
          "base_uri": "https://localhost:8080/",
          "height": 34
        },
        "outputId": "c325231e-a380-4e3b-86d6-897900a3f8cb"
      },
      "cell_type": "code",
      "source": [
        "X=num_cleanup(df_train)\n",
        "X.shape, df_train.shape"
      ],
      "execution_count": 104,
      "outputs": [
        {
          "output_type": "execute_result",
          "data": {
            "text/plain": [
              "((59400, 39), (59400, 40))"
            ]
          },
          "metadata": {
            "tags": []
          },
          "execution_count": 104
        }
      ]
    },
    {
      "metadata": {
        "id": "OrtsH2zxGrSR",
        "colab_type": "code",
        "colab": {}
      },
      "cell_type": "code",
      "source": [
        "X.isnull()"
      ],
      "execution_count": 0,
      "outputs": []
    },
    {
      "metadata": {
        "id": "WVi8_OkP-k8G",
        "colab_type": "code",
        "colab": {}
      },
      "cell_type": "code",
      "source": [
        "df_num = df_train.select_dtypes('number')\n",
        "df_obj = df_train.select_dtypes(object)"
      ],
      "execution_count": 0,
      "outputs": []
    },
    {
      "metadata": {
        "id": "jJoB8e7JxuoB",
        "colab_type": "code",
        "colab": {}
      },
      "cell_type": "code",
      "source": [
        "from sklearn.cluster import KMeans\n",
        "\n",
        "def viz_gps(X3):\n",
        "  points=X3[['longitude','latitude']]\n",
        "  points = points.drop(points[points.longitude == 0].index)\n",
        "\n",
        "  '''\n",
        "  sum_of_squared_distanced = []\n",
        "\n",
        "  K = range(1,25)\n",
        "  for k in K:\n",
        "    km = KMeans(n_clusters=k)\n",
        "    km = km.fit(points)\n",
        "    sum_of_squared_distanced.append(km.inertia_)\n",
        "\n",
        "  plt.plot(K, sum_of_squared_distanced, marker=\"X\")\n",
        "  plt.xlabel('k', fontsize=15)\n",
        "  plt.ylabel('Sum_of_squared_distanced', fontsize=15)\n",
        "  plt.title('Elbow Method to find the optimal k by eyeball', fontsize=15)\n",
        "  plt.show()\n",
        "'''\n",
        "  km = KMeans(n_clusters=20)\n",
        "  km = km.fit(points)\n",
        "\n",
        "  plt.scatter(points.longitude, points.latitude, c=km.labels_, cmap='rainbow')\n",
        "\n",
        "  plt.scatter(km.cluster_centers_[:,0], km.cluster_centers_[:,1], color='black')"
      ],
      "execution_count": 0,
      "outputs": []
    },
    {
      "metadata": {
        "id": "Q4Jg6i6SxttS",
        "colab_type": "code",
        "outputId": "ab8a1cad-acc1-4ed4-c4d0-0f4882553f49",
        "colab": {
          "base_uri": "https://localhost:8080/",
          "height": 402
        }
      },
      "cell_type": "code",
      "source": [
        "pd.set_option('display.max_columns',None)\n",
        "pd.set_option('display.max_rows',None)\n",
        "df_train.select_dtypes(object).head(3)"
      ],
      "execution_count": 90,
      "outputs": [
        {
          "output_type": "execute_result",
          "data": {
            "text/html": [
              "<div>\n",
              "<style scoped>\n",
              "    .dataframe tbody tr th:only-of-type {\n",
              "        vertical-align: middle;\n",
              "    }\n",
              "\n",
              "    .dataframe tbody tr th {\n",
              "        vertical-align: top;\n",
              "    }\n",
              "\n",
              "    .dataframe thead th {\n",
              "        text-align: right;\n",
              "    }\n",
              "</style>\n",
              "<table border=\"1\" class=\"dataframe\">\n",
              "  <thead>\n",
              "    <tr style=\"text-align: right;\">\n",
              "      <th></th>\n",
              "      <th>date_recorded</th>\n",
              "      <th>funder</th>\n",
              "      <th>installer</th>\n",
              "      <th>wpt_name</th>\n",
              "      <th>basin</th>\n",
              "      <th>subvillage</th>\n",
              "      <th>region</th>\n",
              "      <th>lga</th>\n",
              "      <th>ward</th>\n",
              "      <th>public_meeting</th>\n",
              "      <th>recorded_by</th>\n",
              "      <th>scheme_management</th>\n",
              "      <th>scheme_name</th>\n",
              "      <th>permit</th>\n",
              "      <th>extraction_type</th>\n",
              "      <th>extraction_type_group</th>\n",
              "      <th>extraction_type_class</th>\n",
              "      <th>management</th>\n",
              "      <th>management_group</th>\n",
              "      <th>payment</th>\n",
              "      <th>payment_type</th>\n",
              "      <th>water_quality</th>\n",
              "      <th>quality_group</th>\n",
              "      <th>quantity</th>\n",
              "      <th>quantity_group</th>\n",
              "      <th>source</th>\n",
              "      <th>source_type</th>\n",
              "      <th>source_class</th>\n",
              "      <th>waterpoint_type</th>\n",
              "      <th>waterpoint_type_group</th>\n",
              "    </tr>\n",
              "    <tr>\n",
              "      <th>id</th>\n",
              "      <th></th>\n",
              "      <th></th>\n",
              "      <th></th>\n",
              "      <th></th>\n",
              "      <th></th>\n",
              "      <th></th>\n",
              "      <th></th>\n",
              "      <th></th>\n",
              "      <th></th>\n",
              "      <th></th>\n",
              "      <th></th>\n",
              "      <th></th>\n",
              "      <th></th>\n",
              "      <th></th>\n",
              "      <th></th>\n",
              "      <th></th>\n",
              "      <th></th>\n",
              "      <th></th>\n",
              "      <th></th>\n",
              "      <th></th>\n",
              "      <th></th>\n",
              "      <th></th>\n",
              "      <th></th>\n",
              "      <th></th>\n",
              "      <th></th>\n",
              "      <th></th>\n",
              "      <th></th>\n",
              "      <th></th>\n",
              "      <th></th>\n",
              "      <th></th>\n",
              "    </tr>\n",
              "  </thead>\n",
              "  <tbody>\n",
              "    <tr>\n",
              "      <th>69572</th>\n",
              "      <td>2011-03-14</td>\n",
              "      <td>Roman</td>\n",
              "      <td>Roman</td>\n",
              "      <td>none</td>\n",
              "      <td>Lake Nyasa</td>\n",
              "      <td>Mnyusi B</td>\n",
              "      <td>Iringa</td>\n",
              "      <td>Ludewa</td>\n",
              "      <td>Mundindi</td>\n",
              "      <td>True</td>\n",
              "      <td>GeoData Consultants Ltd</td>\n",
              "      <td>VWC</td>\n",
              "      <td>Roman</td>\n",
              "      <td>False</td>\n",
              "      <td>gravity</td>\n",
              "      <td>gravity</td>\n",
              "      <td>gravity</td>\n",
              "      <td>vwc</td>\n",
              "      <td>user-group</td>\n",
              "      <td>pay annually</td>\n",
              "      <td>annually</td>\n",
              "      <td>soft</td>\n",
              "      <td>good</td>\n",
              "      <td>enough</td>\n",
              "      <td>enough</td>\n",
              "      <td>spring</td>\n",
              "      <td>spring</td>\n",
              "      <td>groundwater</td>\n",
              "      <td>communal standpipe</td>\n",
              "      <td>communal standpipe</td>\n",
              "    </tr>\n",
              "    <tr>\n",
              "      <th>8776</th>\n",
              "      <td>2013-03-06</td>\n",
              "      <td>Grumeti</td>\n",
              "      <td>GRUMETI</td>\n",
              "      <td>Zahanati</td>\n",
              "      <td>Lake Victoria</td>\n",
              "      <td>Nyamara</td>\n",
              "      <td>Mara</td>\n",
              "      <td>Serengeti</td>\n",
              "      <td>Natta</td>\n",
              "      <td>NaN</td>\n",
              "      <td>GeoData Consultants Ltd</td>\n",
              "      <td>Other</td>\n",
              "      <td>NaN</td>\n",
              "      <td>True</td>\n",
              "      <td>gravity</td>\n",
              "      <td>gravity</td>\n",
              "      <td>gravity</td>\n",
              "      <td>wug</td>\n",
              "      <td>user-group</td>\n",
              "      <td>never pay</td>\n",
              "      <td>never pay</td>\n",
              "      <td>soft</td>\n",
              "      <td>good</td>\n",
              "      <td>insufficient</td>\n",
              "      <td>insufficient</td>\n",
              "      <td>rainwater harvesting</td>\n",
              "      <td>rainwater harvesting</td>\n",
              "      <td>surface</td>\n",
              "      <td>communal standpipe</td>\n",
              "      <td>communal standpipe</td>\n",
              "    </tr>\n",
              "    <tr>\n",
              "      <th>34310</th>\n",
              "      <td>2013-02-25</td>\n",
              "      <td>Lottery Club</td>\n",
              "      <td>World vision</td>\n",
              "      <td>Kwa Mahundi</td>\n",
              "      <td>Pangani</td>\n",
              "      <td>Majengo</td>\n",
              "      <td>Manyara</td>\n",
              "      <td>Simanjiro</td>\n",
              "      <td>Ngorika</td>\n",
              "      <td>True</td>\n",
              "      <td>GeoData Consultants Ltd</td>\n",
              "      <td>VWC</td>\n",
              "      <td>Nyumba ya mungu pipe scheme</td>\n",
              "      <td>True</td>\n",
              "      <td>gravity</td>\n",
              "      <td>gravity</td>\n",
              "      <td>gravity</td>\n",
              "      <td>vwc</td>\n",
              "      <td>user-group</td>\n",
              "      <td>pay per bucket</td>\n",
              "      <td>per bucket</td>\n",
              "      <td>soft</td>\n",
              "      <td>good</td>\n",
              "      <td>enough</td>\n",
              "      <td>enough</td>\n",
              "      <td>dam</td>\n",
              "      <td>dam</td>\n",
              "      <td>surface</td>\n",
              "      <td>communal standpipe multiple</td>\n",
              "      <td>communal standpipe</td>\n",
              "    </tr>\n",
              "    <tr>\n",
              "      <th>67743</th>\n",
              "      <td>2013-01-28</td>\n",
              "      <td>Unicef</td>\n",
              "      <td>UNICEF</td>\n",
              "      <td>Zahanati Ya Nanyumbu</td>\n",
              "      <td>Ruvuma / Southern Coast</td>\n",
              "      <td>Mahakamani</td>\n",
              "      <td>Mtwara</td>\n",
              "      <td>Nanyumbu</td>\n",
              "      <td>Nanyumbu</td>\n",
              "      <td>True</td>\n",
              "      <td>GeoData Consultants Ltd</td>\n",
              "      <td>VWC</td>\n",
              "      <td>NaN</td>\n",
              "      <td>True</td>\n",
              "      <td>submersible</td>\n",
              "      <td>submersible</td>\n",
              "      <td>submersible</td>\n",
              "      <td>vwc</td>\n",
              "      <td>user-group</td>\n",
              "      <td>never pay</td>\n",
              "      <td>never pay</td>\n",
              "      <td>soft</td>\n",
              "      <td>good</td>\n",
              "      <td>dry</td>\n",
              "      <td>dry</td>\n",
              "      <td>machine dbh</td>\n",
              "      <td>borehole</td>\n",
              "      <td>groundwater</td>\n",
              "      <td>communal standpipe multiple</td>\n",
              "      <td>communal standpipe</td>\n",
              "    </tr>\n",
              "    <tr>\n",
              "      <th>19728</th>\n",
              "      <td>0</td>\n",
              "      <td>0</td>\n",
              "      <td>0</td>\n",
              "      <td>0</td>\n",
              "      <td>0</td>\n",
              "      <td>0</td>\n",
              "      <td>0</td>\n",
              "      <td>0</td>\n",
              "      <td>0</td>\n",
              "      <td>0</td>\n",
              "      <td>0</td>\n",
              "      <td>0</td>\n",
              "      <td>0</td>\n",
              "      <td>0</td>\n",
              "      <td>0</td>\n",
              "      <td>0</td>\n",
              "      <td>0</td>\n",
              "      <td>0</td>\n",
              "      <td>0</td>\n",
              "      <td>0</td>\n",
              "      <td>0</td>\n",
              "      <td>0</td>\n",
              "      <td>0</td>\n",
              "      <td>0</td>\n",
              "      <td>0</td>\n",
              "      <td>0</td>\n",
              "      <td>0</td>\n",
              "      <td>0</td>\n",
              "      <td>0</td>\n",
              "      <td>0</td>\n",
              "    </tr>\n",
              "  </tbody>\n",
              "</table>\n",
              "</div>"
            ],
            "text/plain": [
              "      date_recorded        funder     installer              wpt_name  \\\n",
              "id                                                                      \n",
              "69572    2011-03-14         Roman         Roman                  none   \n",
              "8776     2013-03-06       Grumeti       GRUMETI              Zahanati   \n",
              "34310    2013-02-25  Lottery Club  World vision           Kwa Mahundi   \n",
              "67743    2013-01-28        Unicef        UNICEF  Zahanati Ya Nanyumbu   \n",
              "19728             0             0             0                     0   \n",
              "\n",
              "                         basin  subvillage   region        lga      ward  \\\n",
              "id                                                                         \n",
              "69572               Lake Nyasa    Mnyusi B   Iringa     Ludewa  Mundindi   \n",
              "8776             Lake Victoria     Nyamara     Mara  Serengeti     Natta   \n",
              "34310                  Pangani     Majengo  Manyara  Simanjiro   Ngorika   \n",
              "67743  Ruvuma / Southern Coast  Mahakamani   Mtwara   Nanyumbu  Nanyumbu   \n",
              "19728                        0           0        0          0         0   \n",
              "\n",
              "      public_meeting              recorded_by scheme_management  \\\n",
              "id                                                                \n",
              "69572           True  GeoData Consultants Ltd               VWC   \n",
              "8776             NaN  GeoData Consultants Ltd             Other   \n",
              "34310           True  GeoData Consultants Ltd               VWC   \n",
              "67743           True  GeoData Consultants Ltd               VWC   \n",
              "19728              0                        0                 0   \n",
              "\n",
              "                       scheme_name permit extraction_type  \\\n",
              "id                                                          \n",
              "69572                        Roman  False         gravity   \n",
              "8776                           NaN   True         gravity   \n",
              "34310  Nyumba ya mungu pipe scheme   True         gravity   \n",
              "67743                          NaN   True     submersible   \n",
              "19728                            0      0               0   \n",
              "\n",
              "      extraction_type_group extraction_type_class management management_group  \\\n",
              "id                                                                              \n",
              "69572               gravity               gravity        vwc       user-group   \n",
              "8776                gravity               gravity        wug       user-group   \n",
              "34310               gravity               gravity        vwc       user-group   \n",
              "67743           submersible           submersible        vwc       user-group   \n",
              "19728                     0                     0          0                0   \n",
              "\n",
              "              payment payment_type water_quality quality_group      quantity  \\\n",
              "id                                                                             \n",
              "69572    pay annually     annually          soft          good        enough   \n",
              "8776        never pay    never pay          soft          good  insufficient   \n",
              "34310  pay per bucket   per bucket          soft          good        enough   \n",
              "67743       never pay    never pay          soft          good           dry   \n",
              "19728               0            0             0             0             0   \n",
              "\n",
              "      quantity_group                source           source_type source_class  \\\n",
              "id                                                                              \n",
              "69572         enough                spring                spring  groundwater   \n",
              "8776    insufficient  rainwater harvesting  rainwater harvesting      surface   \n",
              "34310         enough                   dam                   dam      surface   \n",
              "67743            dry           machine dbh              borehole  groundwater   \n",
              "19728              0                     0                     0            0   \n",
              "\n",
              "                   waterpoint_type waterpoint_type_group  \n",
              "id                                                        \n",
              "69572           communal standpipe    communal standpipe  \n",
              "8776            communal standpipe    communal standpipe  \n",
              "34310  communal standpipe multiple    communal standpipe  \n",
              "67743  communal standpipe multiple    communal standpipe  \n",
              "19728                            0                     0  "
            ]
          },
          "metadata": {
            "tags": []
          },
          "execution_count": 90
        }
      ]
    },
    {
      "metadata": {
        "id": "AlrlxfQcEGwu",
        "colab_type": "code",
        "colab": {}
      },
      "cell_type": "code",
      "source": [
        "X.isnull().any()"
      ],
      "execution_count": 0,
      "outputs": []
    },
    {
      "metadata": {
        "id": "SYRdhXeeFm98",
        "colab_type": "code",
        "colab": {}
      },
      "cell_type": "code",
      "source": [
        "X.gps_height_bin.fillna(0, inplace=True)"
      ],
      "execution_count": 0,
      "outputs": []
    }
  ]
}