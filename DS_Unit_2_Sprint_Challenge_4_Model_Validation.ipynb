{
  "nbformat": 4,
  "nbformat_minor": 0,
  "metadata": {
    "colab": {
      "name": "DS_Unit_2_Sprint_Challenge_4_Model_Validation.ipynb",
      "version": "0.3.2",
      "provenance": [],
      "collapsed_sections": [],
      "include_colab_link": true
    },
    "kernelspec": {
      "name": "python3",
      "display_name": "Python 3"
    }
  },
  "cells": [
    {
      "cell_type": "markdown",
      "metadata": {
        "id": "view-in-github",
        "colab_type": "text"
      },
      "source": [
        "<a href=\"https://colab.research.google.com/github/cocoisland/DS-Unit-2-Sprint-4-Model-Validation/blob/master/DS_Unit_2_Sprint_Challenge_4_Model_Validation.ipynb\" target=\"_parent\"><img src=\"https://colab.research.google.com/assets/colab-badge.svg\" alt=\"Open In Colab\"/></a>"
      ]
    },
    {
      "metadata": {
        "id": "PC9RfopIWrc9",
        "colab_type": "text"
      },
      "cell_type": "markdown",
      "source": [
        " # Data Science Unit 2 Sprint Challenge 4 — Model Validation"
      ]
    },
    {
      "metadata": {
        "id": "UV7ArLFQN84W",
        "colab_type": "text"
      },
      "cell_type": "markdown",
      "source": [
        "Follow the instructions for each numbered part to earn a score of 2. See the bottom of the notebook for a list of ways you can earn a score of 3."
      ]
    },
    {
      "metadata": {
        "id": "bAZcbTtiUlkI",
        "colab_type": "text"
      },
      "cell_type": "markdown",
      "source": [
        "## Predicting Blood Donations\n",
        "\n",
        "Our dataset is from a mobile blood donation vehicle in Taiwan. The Blood Transfusion Service Center drives to different universities and collects blood as part of a blood drive.\n",
        "\n",
        "The goal is to predict the last column, whether the donor made a donation in March 2007, using information about each donor's history. We'll measure success using recall score as the model evaluation metric.\n",
        "\n",
        "Good data-driven systems for tracking and predicting donations and supply needs can improve the entire supply chain, making sure that more patients get the blood transfusions they need.\n",
        "\n",
        "#### Run this cell to load the data:"
      ]
    },
    {
      "metadata": {
        "id": "gvV9VORbxyvu",
        "colab_type": "code",
        "colab": {}
      },
      "cell_type": "code",
      "source": [
        "import pandas as pd\n",
        "\n",
        "df = pd.read_csv('https://archive.ics.uci.edu/ml/machine-learning-databases/blood-transfusion/transfusion.data')\n",
        "\n",
        "df = df.rename(columns={\n",
        "    'Recency (months)': 'months_since_last_donation', \n",
        "    'Frequency (times)': 'number_of_donations', \n",
        "    'Monetary (c.c. blood)': 'total_volume_donated', \n",
        "    'Time (months)': 'months_since_first_donation', \n",
        "    'whether he/she donated blood in March 2007': 'made_donation_in_march_2007'\n",
        "})"
      ],
      "execution_count": 0,
      "outputs": []
    },
    {
      "metadata": {
        "id": "IxKfgx4ycb3c",
        "colab_type": "text"
      },
      "cell_type": "markdown",
      "source": [
        "## Part 1.1 — Begin with baselines\n",
        "\n",
        "What **accuracy score** would you get here with a **\"majority class baseline\"?** \n",
        " \n",
        "(You don't need to split the data into train and test sets yet. You can answer this question either with a scikit-learn function or with a pandas function.)"
      ]
    },
    {
      "metadata": {
        "id": "OwBcEhHG7N-9",
        "colab_type": "code",
        "colab": {
          "base_uri": "https://localhost:8080/",
          "height": 86
        },
        "outputId": "59c30992-bb69-4c21-b03d-c203d61bdaee"
      },
      "cell_type": "code",
      "source": [
        "df.columns"
      ],
      "execution_count": 3,
      "outputs": [
        {
          "output_type": "execute_result",
          "data": {
            "text/plain": [
              "Index(['months_since_last_donation', 'number_of_donations',\n",
              "       'total_volume_donated', 'months_since_first_donation',\n",
              "       'made_donation_in_march_2007'],\n",
              "      dtype='object')"
            ]
          },
          "metadata": {
            "tags": []
          },
          "execution_count": 3
        }
      ]
    },
    {
      "metadata": {
        "id": "H_t_v3Yl7w5M",
        "colab_type": "code",
        "colab": {
          "base_uri": "https://localhost:8080/",
          "height": 34
        },
        "outputId": "12eb5ea5-6adc-49cb-dd17-039a56dc4e80"
      },
      "cell_type": "code",
      "source": [
        "import numpy as np\n",
        "majority_class = df['made_donation_in_march_2007'].mode()[0]\n",
        "y_pred = np.full(shape=df['made_donation_in_march_2007'].shape, fill_value=majority_class)\n",
        "df['made_donation_in_march_2007'].shape, y_pred.shape"
      ],
      "execution_count": 7,
      "outputs": [
        {
          "output_type": "execute_result",
          "data": {
            "text/plain": [
              "((748,), (748,))"
            ]
          },
          "metadata": {
            "tags": []
          },
          "execution_count": 7
        }
      ]
    },
    {
      "metadata": {
        "id": "Zjv73gLs9GnD",
        "colab_type": "code",
        "colab": {
          "base_uri": "https://localhost:8080/",
          "height": 34
        },
        "outputId": "18d1a192-060d-4d84-aca3-3ecb70b2f848"
      },
      "cell_type": "code",
      "source": [
        "# majority class baseline\n",
        "from sklearn.metrics import accuracy_score\n",
        "accuracy_score(df['made_donation_in_march_2007'], y_pred)"
      ],
      "execution_count": 8,
      "outputs": [
        {
          "output_type": "execute_result",
          "data": {
            "text/plain": [
              "0.7620320855614974"
            ]
          },
          "metadata": {
            "tags": []
          },
          "execution_count": 8
        }
      ]
    },
    {
      "metadata": {
        "id": "_KdxE1TrcriI",
        "colab_type": "text"
      },
      "cell_type": "markdown",
      "source": [
        "What **recall score** would you get here with a **majority class baseline?**\n",
        "\n",
        "(You can answer this question either with a scikit-learn function or with no code, just your understanding of recall.)"
      ]
    },
    {
      "metadata": {
        "id": "khSKvAWI9931",
        "colab_type": "text"
      },
      "cell_type": "markdown",
      "source": [
        "Recall for majority class baseline : All relevant label are selected.\n",
        "\n",
        "Recall = 1/(1+0) = 1 \n",
        "\n",
        "Zero is the majority class label. 100% zero recall. 0% false positive.\n"
      ]
    },
    {
      "metadata": {
        "id": "ILS0fN0Cctyc",
        "colab_type": "code",
        "colab": {
          "base_uri": "https://localhost:8080/",
          "height": 226
        },
        "outputId": "262962b4-5367-4ade-ea95-cf4290593bc4"
      },
      "cell_type": "code",
      "source": [
        "from sklearn.metrics import classification_report\n",
        "print(classification_report(df['made_donation_in_march_2007'], y_pred))"
      ],
      "execution_count": 10,
      "outputs": [
        {
          "output_type": "stream",
          "text": [
            "              precision    recall  f1-score   support\n",
            "\n",
            "           0       0.76      1.00      0.86       570\n",
            "           1       0.00      0.00      0.00       178\n",
            "\n",
            "   micro avg       0.76      0.76      0.76       748\n",
            "   macro avg       0.38      0.50      0.43       748\n",
            "weighted avg       0.58      0.76      0.66       748\n",
            "\n"
          ],
          "name": "stdout"
        },
        {
          "output_type": "stream",
          "text": [
            "/usr/local/lib/python3.6/dist-packages/sklearn/metrics/classification.py:1143: UndefinedMetricWarning: Precision and F-score are ill-defined and being set to 0.0 in labels with no predicted samples.\n",
            "  'precision', 'predicted', average, warn_for)\n"
          ],
          "name": "stderr"
        }
      ]
    },
    {
      "metadata": {
        "id": "QqYNDtwKYhji",
        "colab_type": "text"
      },
      "cell_type": "markdown",
      "source": [
        "## Part 1.2 — Split data\n",
        "\n",
        "In this Sprint Challenge, you will use \"Cross-Validation with Independent Test Set\" for your model evaluation protocol.\n",
        "\n",
        "First, **split the data into `X_train, X_test, y_train, y_test`**, with random shuffle. (You can include 75% of the data in the train set, and hold out 25% for the test set.)\n"
      ]
    },
    {
      "metadata": {
        "id": "mPKf86yDYf0t",
        "colab_type": "code",
        "colab": {}
      },
      "cell_type": "code",
      "source": [
        "# Small dataset - two ways split\n",
        "from sklearn.model_selection import train_test_split\n",
        "\n",
        "X=df.drop('made_donation_in_march_2007', axis=1)\n",
        "y=df['made_donation_in_march_2007']\n",
        "\n",
        "X_train, X_test, y_train, y_test = train_test_split(\n",
        "        X, y, test_size=0.25, random_state=None, shuffle=True)\n",
        "\n"
      ],
      "execution_count": 0,
      "outputs": []
    },
    {
      "metadata": {
        "id": "uiIrHOJ4FdBA",
        "colab_type": "code",
        "colab": {
          "base_uri": "https://localhost:8080/",
          "height": 138
        },
        "outputId": "165c18d4-5f50-436c-eea3-2483654c49f6"
      },
      "cell_type": "code",
      "source": [
        "from sklearn.linear_model import LogisticRegression\n",
        "from sklearn.model_selection import cross_validate\n",
        "\n",
        "scores = cross_validate(LogisticRegression(solver='lbfgs'), X_train, y_train, \n",
        "                        scoring='accuracy', cv=3, \n",
        "                        return_train_score=True, return_estimator=True)\n",
        "\n",
        "pd.DataFrame(scores)"
      ],
      "execution_count": 69,
      "outputs": [
        {
          "output_type": "execute_result",
          "data": {
            "text/html": [
              "<div>\n",
              "<style scoped>\n",
              "    .dataframe tbody tr th:only-of-type {\n",
              "        vertical-align: middle;\n",
              "    }\n",
              "\n",
              "    .dataframe tbody tr th {\n",
              "        vertical-align: top;\n",
              "    }\n",
              "\n",
              "    .dataframe thead th {\n",
              "        text-align: right;\n",
              "    }\n",
              "</style>\n",
              "<table border=\"1\" class=\"dataframe\">\n",
              "  <thead>\n",
              "    <tr style=\"text-align: right;\">\n",
              "      <th></th>\n",
              "      <th>estimator</th>\n",
              "      <th>fit_time</th>\n",
              "      <th>score_time</th>\n",
              "      <th>test_score</th>\n",
              "      <th>train_score</th>\n",
              "    </tr>\n",
              "  </thead>\n",
              "  <tbody>\n",
              "    <tr>\n",
              "      <th>0</th>\n",
              "      <td>LogisticRegression(C=1.0, class_weight=None, d...</td>\n",
              "      <td>0.012381</td>\n",
              "      <td>0.000914</td>\n",
              "      <td>0.776596</td>\n",
              "      <td>0.809651</td>\n",
              "    </tr>\n",
              "    <tr>\n",
              "      <th>1</th>\n",
              "      <td>LogisticRegression(C=1.0, class_weight=None, d...</td>\n",
              "      <td>0.012844</td>\n",
              "      <td>0.000838</td>\n",
              "      <td>0.780749</td>\n",
              "      <td>0.775401</td>\n",
              "    </tr>\n",
              "    <tr>\n",
              "      <th>2</th>\n",
              "      <td>LogisticRegression(C=1.0, class_weight=None, d...</td>\n",
              "      <td>0.009431</td>\n",
              "      <td>0.000742</td>\n",
              "      <td>0.795699</td>\n",
              "      <td>0.776000</td>\n",
              "    </tr>\n",
              "  </tbody>\n",
              "</table>\n",
              "</div>"
            ],
            "text/plain": [
              "                                           estimator  fit_time  score_time  \\\n",
              "0  LogisticRegression(C=1.0, class_weight=None, d...  0.012381    0.000914   \n",
              "1  LogisticRegression(C=1.0, class_weight=None, d...  0.012844    0.000838   \n",
              "2  LogisticRegression(C=1.0, class_weight=None, d...  0.009431    0.000742   \n",
              "\n",
              "   test_score  train_score  \n",
              "0    0.776596     0.809651  \n",
              "1    0.780749     0.775401  \n",
              "2    0.795699     0.776000  "
            ]
          },
          "metadata": {
            "tags": []
          },
          "execution_count": 69
        }
      ]
    },
    {
      "metadata": {
        "id": "E_ATNJdqTCuZ",
        "colab_type": "text"
      },
      "cell_type": "markdown",
      "source": [
        "## Part 2.1 — Make a pipeline\n",
        "\n",
        "Make a **pipeline** which includes:\n",
        "- Preprocessing with any scikit-learn [**Scaler**](https://scikit-learn.org/stable/modules/classes.html#module-sklearn.preprocessing)\n",
        "- Feature selection with **[`SelectKBest`](https://scikit-learn.org/stable/modules/generated/sklearn.feature_selection.SelectKBest.html)([`f_classif`](https://scikit-learn.org/stable/modules/generated/sklearn.feature_selection.f_classif.html))**\n",
        "- Classification with [**`LogisticRegression`**](https://scikit-learn.org/stable/modules/generated/sklearn.linear_model.LogisticRegression.html)"
      ]
    },
    {
      "metadata": {
        "id": "8DRrVU5n5_Jw",
        "colab_type": "code",
        "colab": {}
      },
      "cell_type": "code",
      "source": [
        "from sklearn.pipeline import make_pipeline\n",
        "from sklearn.preprocessing import StandardScaler\n",
        "from sklearn.feature_selection import f_classif, SelectKBest\n",
        "\n",
        "pipe = make_pipeline(\n",
        "    StandardScaler(), \n",
        "    SelectKBest(f_classif), \n",
        "    LogisticRegression())\n"
      ],
      "execution_count": 0,
      "outputs": []
    },
    {
      "metadata": {
        "id": "5vRkQHatglMG",
        "colab_type": "text"
      },
      "cell_type": "markdown",
      "source": [
        "## Part 2.2 — Do Grid Search Cross-Validation\n",
        "\n",
        "Do [**GridSearchCV**](https://scikit-learn.org/stable/modules/generated/sklearn.model_selection.GridSearchCV.html) with your pipeline. Use **5 folds** and **recall score**.\n",
        "\n",
        "Include these **parameters for your grid:**\n",
        "\n",
        "#### `SelectKBest`\n",
        "- `k : 1, 2, 3, 4`\n",
        "\n",
        "#### `LogisticRegression`\n",
        "- `class_weight : None, 'balanced'`\n",
        "- `C : .0001, .001, .01, .1, 1.0, 10.0, 100.00, 1000.0, 10000.0`\n",
        "\n",
        "\n",
        "**Fit** on the appropriate data."
      ]
    },
    {
      "metadata": {
        "id": "wgN8kG0ogBMH",
        "colab_type": "code",
        "colab": {}
      },
      "cell_type": "code",
      "source": [
        "from sklearn.metrics import recall_score\n",
        "from sklearn.metrics import precision_score\n",
        "from sklearn.metrics.scorer import make_scorer\n",
        "from sklearn.model_selection import GridSearchCV\n",
        "\n",
        "param_grid = {\n",
        "    'selectkbest__k': [1,2,3,4],\n",
        "    'logisticregression__class_weight': [None,'balanced'],\n",
        "    'logisticregression__C': [.0001, .001, .01, .1, 1.0, 10.0, 100.00, 1000.0, 10000.0]\n",
        "    \n",
        "}\n",
        "\n",
        "recall_scorer = make_scorer(recall_score)\n",
        "precision_scorer = make_scorer(precision_score)\n",
        "custom_scorer = (recall_scorer, precision_scorer)\n",
        "\n",
        "gs = GridSearchCV(pipe, param_grid=param_grid, cv=5, \n",
        "                  scoring=recall_scorer,\n",
        "                  return_train_score=True,\n",
        "                  verbose=0)\n",
        "\n",
        "gs.fit(X_train, y_train)"
      ],
      "execution_count": 0,
      "outputs": []
    },
    {
      "metadata": {
        "id": "urY_Wp3AiF83",
        "colab_type": "text"
      },
      "cell_type": "markdown",
      "source": [
        "## Part 3 — Show best score and parameters\n",
        "\n",
        "Display your **best cross-validation score**, and the **best parameters** (the values of `k, class_weight, C`) from the grid search.\n",
        "\n",
        "(You're not evaluated here on how good your score is, or which parameters you find. You're only evaluated on being able to display the information. There are several ways you can get the information, and any way is acceptable.)"
      ]
    },
    {
      "metadata": {
        "id": "qAxxkjG7gACP",
        "colab_type": "code",
        "colab": {
          "base_uri": "https://localhost:8080/",
          "height": 191
        },
        "outputId": "fd27865a-942d-4d15-f3eb-a025905e9836"
      },
      "cell_type": "code",
      "source": [
        "validation_score = gs.best_score_\n",
        "print()\n",
        "print(' Best validation Score:', validation_score)\n",
        "print()\n",
        "print('Best estimator:', gs.best_estimator_)\n",
        "print()"
      ],
      "execution_count": 67,
      "outputs": [
        {
          "output_type": "stream",
          "text": [
            "\n",
            " Best validation Score: 0.8152337858220211\n",
            "\n",
            "Best estimator: Pipeline(memory=None,\n",
            "     steps=[('standardscaler', StandardScaler(copy=True, with_mean=True, with_std=True)), ('selectkbest', SelectKBest(k=2, score_func=<function f_classif at 0x7fcd2f60a7b8>)), ('logisticregression', LogisticRegression(C=0.0001, class_weight='balanced', dual=False,\n",
            "          fit_intercept=True, intercept_scaling=1, max_iter=100,\n",
            "          multi_class='warn', n_jobs=None, penalty='l2', random_state=None,\n",
            "          solver='warn', tol=0.0001, verbose=0, warm_start=False))])\n",
            "\n"
          ],
          "name": "stdout"
        }
      ]
    },
    {
      "metadata": {
        "id": "KIRPlV2SZafS",
        "colab_type": "code",
        "colab": {
          "base_uri": "https://localhost:8080/",
          "height": 350
        },
        "outputId": "40d8a553-a0ff-4ffe-a7e2-982438a2af2f"
      },
      "cell_type": "code",
      "source": [
        "results = pd.DataFrame(gs.cv_results_)\n",
        "print(f'Best result from grid search of {len(results)} parameter combinations')\n",
        "results.sort_values(by='rank_test_score').head()"
      ],
      "execution_count": 66,
      "outputs": [
        {
          "output_type": "stream",
          "text": [
            "Best result from grid search of 72 parameter combinations\n"
          ],
          "name": "stdout"
        },
        {
          "output_type": "execute_result",
          "data": {
            "text/html": [
              "<div>\n",
              "<style scoped>\n",
              "    .dataframe tbody tr th:only-of-type {\n",
              "        vertical-align: middle;\n",
              "    }\n",
              "\n",
              "    .dataframe tbody tr th {\n",
              "        vertical-align: top;\n",
              "    }\n",
              "\n",
              "    .dataframe thead th {\n",
              "        text-align: right;\n",
              "    }\n",
              "</style>\n",
              "<table border=\"1\" class=\"dataframe\">\n",
              "  <thead>\n",
              "    <tr style=\"text-align: right;\">\n",
              "      <th></th>\n",
              "      <th>mean_fit_time</th>\n",
              "      <th>mean_score_time</th>\n",
              "      <th>mean_test_score</th>\n",
              "      <th>mean_train_score</th>\n",
              "      <th>param_logisticregression__C</th>\n",
              "      <th>param_logisticregression__class_weight</th>\n",
              "      <th>param_selectkbest__k</th>\n",
              "      <th>params</th>\n",
              "      <th>rank_test_score</th>\n",
              "      <th>split0_test_score</th>\n",
              "      <th>...</th>\n",
              "      <th>split2_test_score</th>\n",
              "      <th>split2_train_score</th>\n",
              "      <th>split3_test_score</th>\n",
              "      <th>split3_train_score</th>\n",
              "      <th>split4_test_score</th>\n",
              "      <th>split4_train_score</th>\n",
              "      <th>std_fit_time</th>\n",
              "      <th>std_score_time</th>\n",
              "      <th>std_test_score</th>\n",
              "      <th>std_train_score</th>\n",
              "    </tr>\n",
              "  </thead>\n",
              "  <tbody>\n",
              "    <tr>\n",
              "      <th>13</th>\n",
              "      <td>0.004248</td>\n",
              "      <td>0.001581</td>\n",
              "      <td>0.815234</td>\n",
              "      <td>0.817308</td>\n",
              "      <td>0.001</td>\n",
              "      <td>balanced</td>\n",
              "      <td>2</td>\n",
              "      <td>{'logisticregression__C': 0.001, 'logisticregr...</td>\n",
              "      <td>1</td>\n",
              "      <td>0.730769</td>\n",
              "      <td>...</td>\n",
              "      <td>0.884615</td>\n",
              "      <td>0.798077</td>\n",
              "      <td>0.884615</td>\n",
              "      <td>0.798077</td>\n",
              "      <td>0.884615</td>\n",
              "      <td>0.807692</td>\n",
              "      <td>0.000057</td>\n",
              "      <td>0.000030</td>\n",
              "      <td>0.085656</td>\n",
              "      <td>0.020169</td>\n",
              "    </tr>\n",
              "    <tr>\n",
              "      <th>5</th>\n",
              "      <td>0.004574</td>\n",
              "      <td>0.001736</td>\n",
              "      <td>0.815234</td>\n",
              "      <td>0.821154</td>\n",
              "      <td>0.0001</td>\n",
              "      <td>balanced</td>\n",
              "      <td>2</td>\n",
              "      <td>{'logisticregression__C': 0.0001, 'logisticreg...</td>\n",
              "      <td>1</td>\n",
              "      <td>0.730769</td>\n",
              "      <td>...</td>\n",
              "      <td>0.884615</td>\n",
              "      <td>0.798077</td>\n",
              "      <td>0.884615</td>\n",
              "      <td>0.807692</td>\n",
              "      <td>0.884615</td>\n",
              "      <td>0.817308</td>\n",
              "      <td>0.000525</td>\n",
              "      <td>0.000225</td>\n",
              "      <td>0.085656</td>\n",
              "      <td>0.017834</td>\n",
              "    </tr>\n",
              "    <tr>\n",
              "      <th>21</th>\n",
              "      <td>0.004199</td>\n",
              "      <td>0.001606</td>\n",
              "      <td>0.799877</td>\n",
              "      <td>0.798077</td>\n",
              "      <td>0.01</td>\n",
              "      <td>balanced</td>\n",
              "      <td>2</td>\n",
              "      <td>{'logisticregression__C': 0.01, 'logisticregre...</td>\n",
              "      <td>3</td>\n",
              "      <td>0.730769</td>\n",
              "      <td>...</td>\n",
              "      <td>0.884615</td>\n",
              "      <td>0.778846</td>\n",
              "      <td>0.846154</td>\n",
              "      <td>0.788462</td>\n",
              "      <td>0.846154</td>\n",
              "      <td>0.788462</td>\n",
              "      <td>0.000088</td>\n",
              "      <td>0.000049</td>\n",
              "      <td>0.074570</td>\n",
              "      <td>0.017201</td>\n",
              "    </tr>\n",
              "    <tr>\n",
              "      <th>12</th>\n",
              "      <td>0.004210</td>\n",
              "      <td>0.001564</td>\n",
              "      <td>0.799877</td>\n",
              "      <td>0.800000</td>\n",
              "      <td>0.001</td>\n",
              "      <td>balanced</td>\n",
              "      <td>1</td>\n",
              "      <td>{'logisticregression__C': 0.001, 'logisticregr...</td>\n",
              "      <td>3</td>\n",
              "      <td>0.730769</td>\n",
              "      <td>...</td>\n",
              "      <td>0.923077</td>\n",
              "      <td>0.769231</td>\n",
              "      <td>0.884615</td>\n",
              "      <td>0.778846</td>\n",
              "      <td>0.807692</td>\n",
              "      <td>0.798077</td>\n",
              "      <td>0.000088</td>\n",
              "      <td>0.000049</td>\n",
              "      <td>0.098465</td>\n",
              "      <td>0.024627</td>\n",
              "    </tr>\n",
              "    <tr>\n",
              "      <th>4</th>\n",
              "      <td>0.004374</td>\n",
              "      <td>0.001735</td>\n",
              "      <td>0.799877</td>\n",
              "      <td>0.800000</td>\n",
              "      <td>0.0001</td>\n",
              "      <td>balanced</td>\n",
              "      <td>1</td>\n",
              "      <td>{'logisticregression__C': 0.0001, 'logisticreg...</td>\n",
              "      <td>3</td>\n",
              "      <td>0.730769</td>\n",
              "      <td>...</td>\n",
              "      <td>0.923077</td>\n",
              "      <td>0.769231</td>\n",
              "      <td>0.884615</td>\n",
              "      <td>0.778846</td>\n",
              "      <td>0.807692</td>\n",
              "      <td>0.798077</td>\n",
              "      <td>0.000444</td>\n",
              "      <td>0.000318</td>\n",
              "      <td>0.098465</td>\n",
              "      <td>0.024627</td>\n",
              "    </tr>\n",
              "  </tbody>\n",
              "</table>\n",
              "<p>5 rows × 23 columns</p>\n",
              "</div>"
            ],
            "text/plain": [
              "    mean_fit_time  mean_score_time  mean_test_score  mean_train_score  \\\n",
              "13       0.004248         0.001581         0.815234          0.817308   \n",
              "5        0.004574         0.001736         0.815234          0.821154   \n",
              "21       0.004199         0.001606         0.799877          0.798077   \n",
              "12       0.004210         0.001564         0.799877          0.800000   \n",
              "4        0.004374         0.001735         0.799877          0.800000   \n",
              "\n",
              "   param_logisticregression__C param_logisticregression__class_weight  \\\n",
              "13                       0.001                               balanced   \n",
              "5                       0.0001                               balanced   \n",
              "21                        0.01                               balanced   \n",
              "12                       0.001                               balanced   \n",
              "4                       0.0001                               balanced   \n",
              "\n",
              "   param_selectkbest__k                                             params  \\\n",
              "13                    2  {'logisticregression__C': 0.001, 'logisticregr...   \n",
              "5                     2  {'logisticregression__C': 0.0001, 'logisticreg...   \n",
              "21                    2  {'logisticregression__C': 0.01, 'logisticregre...   \n",
              "12                    1  {'logisticregression__C': 0.001, 'logisticregr...   \n",
              "4                     1  {'logisticregression__C': 0.0001, 'logisticreg...   \n",
              "\n",
              "    rank_test_score  split0_test_score       ...         split2_test_score  \\\n",
              "13                1           0.730769       ...                  0.884615   \n",
              "5                 1           0.730769       ...                  0.884615   \n",
              "21                3           0.730769       ...                  0.884615   \n",
              "12                3           0.730769       ...                  0.923077   \n",
              "4                 3           0.730769       ...                  0.923077   \n",
              "\n",
              "    split2_train_score  split3_test_score  split3_train_score  \\\n",
              "13            0.798077           0.884615            0.798077   \n",
              "5             0.798077           0.884615            0.807692   \n",
              "21            0.778846           0.846154            0.788462   \n",
              "12            0.769231           0.884615            0.778846   \n",
              "4             0.769231           0.884615            0.778846   \n",
              "\n",
              "    split4_test_score  split4_train_score  std_fit_time  std_score_time  \\\n",
              "13           0.884615            0.807692      0.000057        0.000030   \n",
              "5            0.884615            0.817308      0.000525        0.000225   \n",
              "21           0.846154            0.788462      0.000088        0.000049   \n",
              "12           0.807692            0.798077      0.000088        0.000049   \n",
              "4            0.807692            0.798077      0.000444        0.000318   \n",
              "\n",
              "    std_test_score  std_train_score  \n",
              "13        0.085656         0.020169  \n",
              "5         0.085656         0.017834  \n",
              "21        0.074570         0.017201  \n",
              "12        0.098465         0.024627  \n",
              "4         0.098465         0.024627  \n",
              "\n",
              "[5 rows x 23 columns]"
            ]
          },
          "metadata": {
            "tags": []
          },
          "execution_count": 66
        }
      ]
    },
    {
      "metadata": {
        "id": "jkyHoRIbEgRR",
        "colab_type": "text"
      },
      "cell_type": "markdown",
      "source": [
        "## Part 4 — Calculate classification metrics from a confusion matrix\n",
        "\n",
        "Suppose this is the confusion matrix for your binary classification model:\n",
        "\n",
        "<table>\n",
        "  <tr>\n",
        "    <th colspan=\"2\" rowspan=\"2\"></th>\n",
        "    <th colspan=\"2\">Predicted</th>\n",
        "  </tr>\n",
        "  <tr>\n",
        "    <th>Negative</th>\n",
        "    <th>Positive</th>\n",
        "  </tr>\n",
        "  <tr>\n",
        "    <th rowspan=\"2\">Actual</th>\n",
        "    <th>Negative</th>\n",
        "    <td>85</td>\n",
        "    <td>58</td>\n",
        "  </tr>\n",
        "  <tr>\n",
        "    <th>Positive</th>\n",
        "    <td>8</td>\n",
        "    <td>36</td>\n",
        "  </tr>\n",
        "</table>"
      ]
    },
    {
      "metadata": {
        "id": "LhyMM5H-JpVB",
        "colab_type": "text"
      },
      "cell_type": "markdown",
      "source": [
        "Calculate accuracy"
      ]
    },
    {
      "metadata": {
        "id": "TZPwqdh2KUcB",
        "colab_type": "code",
        "colab": {
          "base_uri": "https://localhost:8080/",
          "height": 34
        },
        "outputId": "033238e7-8a33-40a8-a48e-2bc71d9516b2"
      },
      "cell_type": "code",
      "source": [
        "(85+36)/(85+58+8+36)"
      ],
      "execution_count": 58,
      "outputs": [
        {
          "output_type": "execute_result",
          "data": {
            "text/plain": [
              "0.6470588235294118"
            ]
          },
          "metadata": {
            "tags": []
          },
          "execution_count": 58
        }
      ]
    },
    {
      "metadata": {
        "id": "BRWLfGcGKeQw",
        "colab_type": "text"
      },
      "cell_type": "markdown",
      "source": [
        "Calculate precision"
      ]
    },
    {
      "metadata": {
        "id": "A-FEZ4i_Kf_n",
        "colab_type": "code",
        "colab": {
          "base_uri": "https://localhost:8080/",
          "height": 34
        },
        "outputId": "0794384d-e9b5-4d2f-8703-b471e956c175"
      },
      "cell_type": "code",
      "source": [
        "36/(36+58)"
      ],
      "execution_count": 59,
      "outputs": [
        {
          "output_type": "execute_result",
          "data": {
            "text/plain": [
              "0.3829787234042553"
            ]
          },
          "metadata": {
            "tags": []
          },
          "execution_count": 59
        }
      ]
    },
    {
      "metadata": {
        "id": "h_mH2NYDKi2C",
        "colab_type": "text"
      },
      "cell_type": "markdown",
      "source": [
        "Calculate recall"
      ]
    },
    {
      "metadata": {
        "id": "U4_wJGyjKkXJ",
        "colab_type": "code",
        "colab": {
          "base_uri": "https://localhost:8080/",
          "height": 34
        },
        "outputId": "88cbdb31-4e59-400d-935a-81c170eb2f82"
      },
      "cell_type": "code",
      "source": [
        "58/(58+85) # num of relevant are selected"
      ],
      "execution_count": 60,
      "outputs": [
        {
          "output_type": "execute_result",
          "data": {
            "text/plain": [
              "0.40559440559440557"
            ]
          },
          "metadata": {
            "tags": []
          },
          "execution_count": 60
        }
      ]
    },
    {
      "metadata": {
        "id": "9KEaWsk5Kk9W",
        "colab_type": "text"
      },
      "cell_type": "markdown",
      "source": [
        "## BONUS — How you can earn a score of 3\n",
        "\n",
        "### Part 1\n",
        "Do feature engineering, to try improving your cross-validation score.\n",
        "\n",
        "### Part 2\n",
        "Add transformations in your pipeline and parameters in your grid, to try improving your cross-validation score.\n",
        "\n",
        "### Part 3\n",
        "Show names of selected features. Then do a final evaluation on the test set — what is the test score?\n",
        "\n",
        "### Part 4\n",
        "Calculate F1 score and False Positive Rate. "
      ]
    },
    {
      "metadata": {
        "id": "kjxQoFjIgc3X",
        "colab_type": "code",
        "colab": {
          "base_uri": "https://localhost:8080/",
          "height": 123
        },
        "outputId": "22f9fe83-d33f-43f5-8b6b-6350709133b1"
      },
      "cell_type": "code",
      "source": [
        "# Part 3\n",
        "y_pred = gs.predict(X_test)\n",
        "\n",
        "# Compare predictions to y_test labels\n",
        "accuracy_test_score = accuracy_score(y_test, y_pred)\n",
        "recall_test_score = recall_score(y_test, y_pred)\n",
        "\n",
        "print('Accuracy Test Score:', accuracy_test_score)\n",
        "print('Recall Test Score:', recall_test_score)\n",
        "print()"
      ],
      "execution_count": 84,
      "outputs": [
        {
          "output_type": "stream",
          "text": [
            "Accuracy Test Score: 0.5989304812834224\n",
            "Recall Test Score: 0.8333333333333334\n",
            "\n"
          ],
          "name": "stdout"
        },
        {
          "output_type": "stream",
          "text": [
            "/usr/local/lib/python3.6/dist-packages/sklearn/pipeline.py:331: DataConversionWarning: Data with input dtype int64 were all converted to float64 by StandardScaler.\n",
            "  Xt = transform.transform(Xt)\n"
          ],
          "name": "stderr"
        }
      ]
    },
    {
      "metadata": {
        "id": "NeIXw9R_hBoN",
        "colab_type": "code",
        "colab": {
          "base_uri": "https://localhost:8080/",
          "height": 88
        },
        "outputId": "e3ffad08-e295-46db-aaaa-d4646a79d430"
      },
      "cell_type": "code",
      "source": [
        "test_score = gs.score(X_test, y_test)\n",
        "print('Test Score:', test_score)"
      ],
      "execution_count": 74,
      "outputs": [
        {
          "output_type": "stream",
          "text": [
            "Test Score: 0.8333333333333334\n"
          ],
          "name": "stdout"
        },
        {
          "output_type": "stream",
          "text": [
            "/usr/local/lib/python3.6/dist-packages/sklearn/pipeline.py:331: DataConversionWarning: Data with input dtype int64 were all converted to float64 by StandardScaler.\n",
            "  Xt = transform.transform(Xt)\n"
          ],
          "name": "stderr"
        }
      ]
    },
    {
      "metadata": {
        "id": "YyZbiigojlwK",
        "colab_type": "code",
        "colab": {
          "base_uri": "https://localhost:8080/",
          "height": 34
        },
        "outputId": "f996a636-47cd-43da-fd6f-78357320f6b7"
      },
      "cell_type": "code",
      "source": [
        "# Part 4\n",
        "#The F1 score can be interpreted as a weighted average of the precision and recall.\n",
        "#F1 score reaches its best value at 1 and worst score at 0. \n",
        "#F1 = 2 * (precision * recall) / (precision + recall)\n",
        "from sklearn.metrics import f1_score\n",
        "\n",
        "f1_score(y_test, y_pred)  "
      ],
      "execution_count": 85,
      "outputs": [
        {
          "output_type": "execute_result",
          "data": {
            "text/plain": [
              "0.5161290322580645"
            ]
          },
          "metadata": {
            "tags": []
          },
          "execution_count": 85
        }
      ]
    },
    {
      "metadata": {
        "id": "b8e29VJWoUZ_",
        "colab_type": "code",
        "colab": {
          "base_uri": "https://localhost:8080/",
          "height": 34
        },
        "outputId": "27899d9c-b2e7-4e8c-8e34-064f3216751b"
      },
      "cell_type": "code",
      "source": [
        "from sklearn.metrics import precision_score\n",
        "\n",
        "precision=precision_score(y_test, y_pred)\n",
        "recall=recall_score(y_test, y_pred)\n",
        "f1=2 * (precision * recall)/(precision + recall)\n",
        "\n",
        "print(f1)"
      ],
      "execution_count": 98,
      "outputs": [
        {
          "output_type": "stream",
          "text": [
            "0.5161290322580645\n"
          ],
          "name": "stdout"
        }
      ]
    }
  ]
}