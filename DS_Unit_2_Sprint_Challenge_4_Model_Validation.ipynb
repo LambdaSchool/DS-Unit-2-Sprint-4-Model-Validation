{
  "nbformat": 4,
  "nbformat_minor": 0,
  "metadata": {
    "colab": {
      "name": "DS_Unit_2_Sprint_Challenge_4_Model_Validation.ipynb",
      "version": "0.3.2",
      "provenance": [],
      "collapsed_sections": [],
      "include_colab_link": true
    },
    "kernelspec": {
      "name": "python3",
      "display_name": "Python 3"
    }
  },
  "cells": [
    {
      "cell_type": "markdown",
      "metadata": {
        "id": "view-in-github",
        "colab_type": "text"
      },
      "source": [
        "<a href=\"https://colab.research.google.com/github/zarrinan/DS-Unit-2-Sprint-4-Model-Validation/blob/master/DS_Unit_2_Sprint_Challenge_4_Model_Validation.ipynb\" target=\"_parent\"><img src=\"https://colab.research.google.com/assets/colab-badge.svg\" alt=\"Open In Colab\"/></a>"
      ]
    },
    {
      "metadata": {
        "id": "PC9RfopIWrc9",
        "colab_type": "text"
      },
      "cell_type": "markdown",
      "source": [
        " # Data Science Unit 2 Sprint Challenge 4 — Model Validation"
      ]
    },
    {
      "metadata": {
        "id": "UV7ArLFQN84W",
        "colab_type": "text"
      },
      "cell_type": "markdown",
      "source": [
        "Follow the instructions for each numbered part to earn a score of 2. See the bottom of the notebook for a list of ways you can earn a score of 3."
      ]
    },
    {
      "metadata": {
        "id": "bAZcbTtiUlkI",
        "colab_type": "text"
      },
      "cell_type": "markdown",
      "source": [
        "## Predicting Blood Donations\n",
        "\n",
        "Our dataset is from a mobile blood donation vehicle in Taiwan. The Blood Transfusion Service Center drives to different universities and collects blood as part of a blood drive.\n",
        "\n",
        "The goal is to predict the last column, whether the donor made a donation in March 2007, using information about each donor's history. We'll measure success using recall score as the model evaluation metric.\n",
        "\n",
        "Good data-driven systems for tracking and predicting donations and supply needs can improve the entire supply chain, making sure that more patients get the blood transfusions they need.\n",
        "\n",
        "#### Run this cell to load the data:"
      ]
    },
    {
      "metadata": {
        "id": "vTgC7WHf0luG",
        "colab_type": "code",
        "colab": {}
      },
      "cell_type": "code",
      "source": [
        "!pip install seaborn==0.9.0 -q"
      ],
      "execution_count": 0,
      "outputs": []
    },
    {
      "metadata": {
        "id": "G29fBAFz8hnN",
        "colab_type": "code",
        "colab": {}
      },
      "cell_type": "code",
      "source": [
        "sns.__version__"
      ],
      "execution_count": 0,
      "outputs": []
    },
    {
      "metadata": {
        "id": "zIGb2kpE0uYE",
        "colab_type": "code",
        "colab": {}
      },
      "cell_type": "code",
      "source": [
        "import seaborn as sns\n",
        "import matplotlib.pyplot as plt\n",
        "import numpy as np\n",
        "import pandas as pd\n",
        "import statsmodels.api as sm\n",
        "from sklearn.metrics import accuracy_score, classification_report\n",
        "from sklearn.linear_model import LogisticRegression\n",
        "from mlxtend.plotting import plot_decision_regions\n",
        "from sklearn.metrics import recall_score\n",
        "from sklearn.model_selection import train_test_split\n",
        "from sklearn.model_selection import GridSearchCV\n",
        "from sklearn.pipeline import make_pipeline\n",
        "from sklearn.preprocessing import RobustScaler\n",
        "from sklearn.preprocessing import MinMaxScaler\n",
        "from sklearn.feature_selection import f_classif, SelectKBest\n",
        "from sklearn.model_selection import GridSearchCV\n",
        "\n"
      ],
      "execution_count": 0,
      "outputs": []
    },
    {
      "metadata": {
        "id": "gvV9VORbxyvu",
        "colab_type": "code",
        "colab": {}
      },
      "cell_type": "code",
      "source": [
        "df = pd.read_csv('https://archive.ics.uci.edu/ml/machine-learning-databases/blood-transfusion/transfusion.data')\n",
        "\n",
        "df = df.rename(columns={\n",
        "    'Recency (months)': 'months_since_last_donation', \n",
        "    'Frequency (times)': 'number_of_donations', \n",
        "    'Monetary (c.c. blood)': 'total_volume_donated', \n",
        "    'Time (months)': 'months_since_first_donation', \n",
        "    'whether he/she donated blood in March 2007': 'made_donation_in_march_2007'\n",
        "})"
      ],
      "execution_count": 0,
      "outputs": []
    },
    {
      "metadata": {
        "id": "hXOylE3yztEi",
        "colab_type": "code",
        "colab": {
          "base_uri": "https://localhost:8080/",
          "height": 121
        },
        "outputId": "0d316ab1-651a-4cb4-a828-5d97899edfb1"
      },
      "cell_type": "code",
      "source": [
        "#check for missing values\n",
        "df.isna().sum()"
      ],
      "execution_count": 128,
      "outputs": [
        {
          "output_type": "execute_result",
          "data": {
            "text/plain": [
              "months_since_last_donation     0\n",
              "number_of_donations            0\n",
              "total_volume_donated           0\n",
              "months_since_first_donation    0\n",
              "made_donation_in_march_2007    0\n",
              "dtype: int64"
            ]
          },
          "metadata": {
            "tags": []
          },
          "execution_count": 128
        }
      ]
    },
    {
      "metadata": {
        "id": "2BpQbBMbzyEY",
        "colab_type": "code",
        "colab": {
          "base_uri": "https://localhost:8080/",
          "height": 225
        },
        "outputId": "df7e6d12-c904-49f8-8431-2faf0620687e"
      },
      "cell_type": "code",
      "source": [
        "#print unique values to make sure there are no missing values defined in \n",
        "#a different way\n",
        "def unique(df):\n",
        "  for col in df.columns:\n",
        "    print(col, df[col].unique())\n",
        "    \n",
        "unique(df)    "
      ],
      "execution_count": 127,
      "outputs": [
        {
          "output_type": "stream",
          "text": [
            "months_since_last_donation [ 2  0  1  4  5  9  3 12  6 11 10 13  8 14  7 16 15 23 21 18 22 26 35 38\n",
            " 40 74 20 17 25 39 72]\n",
            "number_of_donations [50 13 16 20 24  4  7 12  9 46 23  3 10  6  5 14 15 11  8  2 19 17  1 22\n",
            " 18 38 43 34 44 26 41 21 33]\n",
            "total_volume_donated [12500  3250  4000  5000  6000  1000  1750  3000  2250 11500  5750   750\n",
            "  2500  1500  1250  3500  3750  2750  2000   500  4750  4250   250  5500\n",
            "  4500  9500 10750  8500 11000  6500 10250  5250  8250]\n",
            "months_since_first_donation [98 28 35 45 77  4 14 22 58 47 15 11 48 49 16 40 34 21 26 64 57 53 69 36\n",
            "  2 46 52 81 29  9 74 25 51 71 23 86 38 76 70 59 82 61 79 41 33 10 95 88\n",
            " 19 37 39 78 42 27 24 63 43 75 73 50 60 17 72 62 30 31 65 89 87 93 83 32\n",
            " 12 18 55  3 13 54]\n",
            "made_donation_in_march_2007 [1 0]\n"
          ],
          "name": "stdout"
        }
      ]
    },
    {
      "metadata": {
        "id": "wtaML-_o0HVP",
        "colab_type": "code",
        "colab": {
          "base_uri": "https://localhost:8080/",
          "height": 218
        },
        "outputId": "79529859-9837-4f66-c41e-0936c345b1f5"
      },
      "cell_type": "code",
      "source": [
        "df.head()"
      ],
      "execution_count": 129,
      "outputs": [
        {
          "output_type": "execute_result",
          "data": {
            "text/html": [
              "<div>\n",
              "<style scoped>\n",
              "    .dataframe tbody tr th:only-of-type {\n",
              "        vertical-align: middle;\n",
              "    }\n",
              "\n",
              "    .dataframe tbody tr th {\n",
              "        vertical-align: top;\n",
              "    }\n",
              "\n",
              "    .dataframe thead th {\n",
              "        text-align: right;\n",
              "    }\n",
              "</style>\n",
              "<table border=\"1\" class=\"dataframe\">\n",
              "  <thead>\n",
              "    <tr style=\"text-align: right;\">\n",
              "      <th></th>\n",
              "      <th>months_since_last_donation</th>\n",
              "      <th>number_of_donations</th>\n",
              "      <th>total_volume_donated</th>\n",
              "      <th>months_since_first_donation</th>\n",
              "      <th>made_donation_in_march_2007</th>\n",
              "    </tr>\n",
              "  </thead>\n",
              "  <tbody>\n",
              "    <tr>\n",
              "      <th>0</th>\n",
              "      <td>2</td>\n",
              "      <td>50</td>\n",
              "      <td>12500</td>\n",
              "      <td>98</td>\n",
              "      <td>1</td>\n",
              "    </tr>\n",
              "    <tr>\n",
              "      <th>1</th>\n",
              "      <td>0</td>\n",
              "      <td>13</td>\n",
              "      <td>3250</td>\n",
              "      <td>28</td>\n",
              "      <td>1</td>\n",
              "    </tr>\n",
              "    <tr>\n",
              "      <th>2</th>\n",
              "      <td>1</td>\n",
              "      <td>16</td>\n",
              "      <td>4000</td>\n",
              "      <td>35</td>\n",
              "      <td>1</td>\n",
              "    </tr>\n",
              "    <tr>\n",
              "      <th>3</th>\n",
              "      <td>2</td>\n",
              "      <td>20</td>\n",
              "      <td>5000</td>\n",
              "      <td>45</td>\n",
              "      <td>1</td>\n",
              "    </tr>\n",
              "    <tr>\n",
              "      <th>4</th>\n",
              "      <td>1</td>\n",
              "      <td>24</td>\n",
              "      <td>6000</td>\n",
              "      <td>77</td>\n",
              "      <td>0</td>\n",
              "    </tr>\n",
              "  </tbody>\n",
              "</table>\n",
              "</div>"
            ],
            "text/plain": [
              "   months_since_last_donation  number_of_donations  total_volume_donated  \\\n",
              "0                           2                   50                 12500   \n",
              "1                           0                   13                  3250   \n",
              "2                           1                   16                  4000   \n",
              "3                           2                   20                  5000   \n",
              "4                           1                   24                  6000   \n",
              "\n",
              "   months_since_first_donation  made_donation_in_march_2007  \n",
              "0                           98                            1  \n",
              "1                           28                            1  \n",
              "2                           35                            1  \n",
              "3                           45                            1  \n",
              "4                           77                            0  "
            ]
          },
          "metadata": {
            "tags": []
          },
          "execution_count": 129
        }
      ]
    },
    {
      "metadata": {
        "id": "MQ4kdWHS2WSB",
        "colab_type": "code",
        "colab": {
          "base_uri": "https://localhost:8080/",
          "height": 308
        },
        "outputId": "7f18cef7-b6f9-4a5b-f990-2c33bad28e1d"
      },
      "cell_type": "code",
      "source": [
        "df.describe()"
      ],
      "execution_count": 59,
      "outputs": [
        {
          "output_type": "execute_result",
          "data": {
            "text/html": [
              "<div>\n",
              "<style scoped>\n",
              "    .dataframe tbody tr th:only-of-type {\n",
              "        vertical-align: middle;\n",
              "    }\n",
              "\n",
              "    .dataframe tbody tr th {\n",
              "        vertical-align: top;\n",
              "    }\n",
              "\n",
              "    .dataframe thead th {\n",
              "        text-align: right;\n",
              "    }\n",
              "</style>\n",
              "<table border=\"1\" class=\"dataframe\">\n",
              "  <thead>\n",
              "    <tr style=\"text-align: right;\">\n",
              "      <th></th>\n",
              "      <th>months_since_last_donation</th>\n",
              "      <th>number_of_donations</th>\n",
              "      <th>total_volume_donated</th>\n",
              "      <th>months_since_first_donation</th>\n",
              "      <th>made_donation_in_march_2007</th>\n",
              "    </tr>\n",
              "  </thead>\n",
              "  <tbody>\n",
              "    <tr>\n",
              "      <th>count</th>\n",
              "      <td>748.000000</td>\n",
              "      <td>748.000000</td>\n",
              "      <td>748.000000</td>\n",
              "      <td>748.000000</td>\n",
              "      <td>748.000000</td>\n",
              "    </tr>\n",
              "    <tr>\n",
              "      <th>mean</th>\n",
              "      <td>9.506684</td>\n",
              "      <td>5.514706</td>\n",
              "      <td>1378.676471</td>\n",
              "      <td>34.282086</td>\n",
              "      <td>0.237968</td>\n",
              "    </tr>\n",
              "    <tr>\n",
              "      <th>std</th>\n",
              "      <td>8.095396</td>\n",
              "      <td>5.839307</td>\n",
              "      <td>1459.826781</td>\n",
              "      <td>24.376714</td>\n",
              "      <td>0.426124</td>\n",
              "    </tr>\n",
              "    <tr>\n",
              "      <th>min</th>\n",
              "      <td>0.000000</td>\n",
              "      <td>1.000000</td>\n",
              "      <td>250.000000</td>\n",
              "      <td>2.000000</td>\n",
              "      <td>0.000000</td>\n",
              "    </tr>\n",
              "    <tr>\n",
              "      <th>25%</th>\n",
              "      <td>2.750000</td>\n",
              "      <td>2.000000</td>\n",
              "      <td>500.000000</td>\n",
              "      <td>16.000000</td>\n",
              "      <td>0.000000</td>\n",
              "    </tr>\n",
              "    <tr>\n",
              "      <th>50%</th>\n",
              "      <td>7.000000</td>\n",
              "      <td>4.000000</td>\n",
              "      <td>1000.000000</td>\n",
              "      <td>28.000000</td>\n",
              "      <td>0.000000</td>\n",
              "    </tr>\n",
              "    <tr>\n",
              "      <th>75%</th>\n",
              "      <td>14.000000</td>\n",
              "      <td>7.000000</td>\n",
              "      <td>1750.000000</td>\n",
              "      <td>50.000000</td>\n",
              "      <td>0.000000</td>\n",
              "    </tr>\n",
              "    <tr>\n",
              "      <th>max</th>\n",
              "      <td>74.000000</td>\n",
              "      <td>50.000000</td>\n",
              "      <td>12500.000000</td>\n",
              "      <td>98.000000</td>\n",
              "      <td>1.000000</td>\n",
              "    </tr>\n",
              "  </tbody>\n",
              "</table>\n",
              "</div>"
            ],
            "text/plain": [
              "       months_since_last_donation  number_of_donations  total_volume_donated  \\\n",
              "count                  748.000000           748.000000            748.000000   \n",
              "mean                     9.506684             5.514706           1378.676471   \n",
              "std                      8.095396             5.839307           1459.826781   \n",
              "min                      0.000000             1.000000            250.000000   \n",
              "25%                      2.750000             2.000000            500.000000   \n",
              "50%                      7.000000             4.000000           1000.000000   \n",
              "75%                     14.000000             7.000000           1750.000000   \n",
              "max                     74.000000            50.000000          12500.000000   \n",
              "\n",
              "       months_since_first_donation  made_donation_in_march_2007  \n",
              "count                   748.000000                   748.000000  \n",
              "mean                     34.282086                     0.237968  \n",
              "std                      24.376714                     0.426124  \n",
              "min                       2.000000                     0.000000  \n",
              "25%                      16.000000                     0.000000  \n",
              "50%                      28.000000                     0.000000  \n",
              "75%                      50.000000                     0.000000  \n",
              "max                      98.000000                     1.000000  "
            ]
          },
          "metadata": {
            "tags": []
          },
          "execution_count": 59
        }
      ]
    },
    {
      "metadata": {
        "id": "gkShNFfJ0Uje",
        "colab_type": "text"
      },
      "cell_type": "markdown",
      "source": [
        "This is a classification problem, I'll explore more in detail the target distribution "
      ]
    },
    {
      "metadata": {
        "id": "ZMbqcv8s1JN5",
        "colab_type": "code",
        "colab": {
          "base_uri": "https://localhost:8080/",
          "height": 413
        },
        "outputId": "d51a292c-51f7-488c-b040-36b38d3808cf"
      },
      "cell_type": "code",
      "source": [
        "target = 'made_donation_in_march_2007'\n",
        "sns.countplot(x=target, data=df, palette='hls')\n",
        "plt.show();\n",
        "print(df[target].value_counts(normalize=True));"
      ],
      "execution_count": 136,
      "outputs": [
        {
          "output_type": "display_data",
          "data": {
            "image/png": "[encoded data removed]",
            "text/plain": [
              "<Figure size 576x396 with 1 Axes>"
            ]
          },
          "metadata": {
            "tags": []
          }
        },
        {
          "output_type": "stream",
          "text": [
            "0    0.762032\n",
            "1    0.237968\n",
            "Name: made_donation_in_march_2007, dtype: float64\n"
          ],
          "name": "stdout"
        }
      ]
    },
    {
      "metadata": {
        "id": "lumqBkKfXPnU",
        "colab_type": "text"
      },
      "cell_type": "markdown",
      "source": [
        "the target class is imbalanced, which can be mitigated by balancing the class using python SMOTE when time allows"
      ]
    },
    {
      "metadata": {
        "id": "slbOwJYg2NgM",
        "colab_type": "code",
        "colab": {
          "base_uri": "https://localhost:8080/",
          "height": 347
        },
        "outputId": "e0ade3c2-cf3f-41b4-e432-84dbc01c6f52"
      },
      "cell_type": "code",
      "source": [
        "df[target].rolling(100).mean().plot();\n"
      ],
      "execution_count": 137,
      "outputs": [
        {
          "output_type": "display_data",
          "data": {
            "image/png": "[encoded data removed]",
            "text/plain": [
              "<Figure size 576x396 with 1 Axes>"
            ]
          },
          "metadata": {
            "tags": []
          }
        }
      ]
    },
    {
      "metadata": {
        "id": "IxKfgx4ycb3c",
        "colab_type": "text"
      },
      "cell_type": "markdown",
      "source": [
        "## Part 1.1 — Begin with baselines\n",
        "\n",
        "What **accuracy score** would you get here with a **\"majority class baseline\"?** \n",
        " \n",
        "(You don't need to split the data into train and test sets yet. You can answer this question either with a scikit-learn function or with a pandas function.)"
      ]
    },
    {
      "metadata": {
        "id": "3oo31Remcq-x",
        "colab_type": "code",
        "colab": {
          "base_uri": "https://localhost:8080/",
          "height": 35
        },
        "outputId": "37ac4db8-11d8-47f1-ead8-25fffdf90980"
      },
      "cell_type": "code",
      "source": [
        "majority_class = df[target].mode()[0]\n",
        "y_pred = np.full(shape=df[target].shape, fill_value=majority_class)\n",
        "accuracy_score(df[target], y_pred)"
      ],
      "execution_count": 138,
      "outputs": [
        {
          "output_type": "execute_result",
          "data": {
            "text/plain": [
              "0.7620320855614974"
            ]
          },
          "metadata": {
            "tags": []
          },
          "execution_count": 138
        }
      ]
    },
    {
      "metadata": {
        "id": "Kyytle9F3kxh",
        "colab_type": "text"
      },
      "cell_type": "markdown",
      "source": [
        "fairly well fitting baseline model, it should be improved though"
      ]
    },
    {
      "metadata": {
        "id": "_KdxE1TrcriI",
        "colab_type": "text"
      },
      "cell_type": "markdown",
      "source": [
        "What **recall score** would you get here with a **majority class baseline?**\n",
        "\n",
        "(You can answer this question either with a scikit-learn function or with no code, just your understanding of recall.)"
      ]
    },
    {
      "metadata": {
        "id": "_yz-aFfX4Jri",
        "colab_type": "text"
      },
      "cell_type": "markdown",
      "source": [
        "to answer this question, I'll print the classification report first"
      ]
    },
    {
      "metadata": {
        "id": "ILS0fN0Cctyc",
        "colab_type": "code",
        "colab": {
          "base_uri": "https://localhost:8080/",
          "height": 227
        },
        "outputId": "3b248f36-11d4-42c9-d852-6ce09a75a4e2"
      },
      "cell_type": "code",
      "source": [
        "print(classification_report(df[target], y_pred));"
      ],
      "execution_count": 139,
      "outputs": [
        {
          "output_type": "stream",
          "text": [
            "              precision    recall  f1-score   support\n",
            "\n",
            "           0       0.76      1.00      0.86       570\n",
            "           1       0.00      0.00      0.00       178\n",
            "\n",
            "   micro avg       0.76      0.76      0.76       748\n",
            "   macro avg       0.38      0.50      0.43       748\n",
            "weighted avg       0.58      0.76      0.66       748\n",
            "\n"
          ],
          "name": "stdout"
        },
        {
          "output_type": "stream",
          "text": [
            "/usr/local/lib/python3.6/dist-packages/sklearn/metrics/classification.py:1143: UndefinedMetricWarning: Precision and F-score are ill-defined and being set to 0.0 in labels with no predicted samples.\n",
            "  'precision', 'predicted', average, warn_for)\n"
          ],
          "name": "stderr"
        }
      ]
    },
    {
      "metadata": {
        "id": "4b6sHiO04TOu",
        "colab_type": "text"
      },
      "cell_type": "markdown",
      "source": [
        "getting warning is natural, since the majority_class are all zeros, so presicion and F-score are \"ill-defined\""
      ]
    },
    {
      "metadata": {
        "id": "jF0nSiar4hkc",
        "colab_type": "code",
        "colab": {
          "base_uri": "https://localhost:8080/",
          "height": 35
        },
        "outputId": "47bf64aa-c193-4bce-9a55-e5f1e72d51f1"
      },
      "cell_type": "code",
      "source": [
        "#recall\n",
        "recall_score(df[target], y_pred)"
      ],
      "execution_count": 140,
      "outputs": [
        {
          "output_type": "execute_result",
          "data": {
            "text/plain": [
              "0.0"
            ]
          },
          "metadata": {
            "tags": []
          },
          "execution_count": 140
        }
      ]
    },
    {
      "metadata": {
        "id": "x4qt9pZu5hPB",
        "colab_type": "text"
      },
      "cell_type": "markdown",
      "source": [
        "as the report showed, the recall is 0"
      ]
    },
    {
      "metadata": {
        "id": "QqYNDtwKYhji",
        "colab_type": "text"
      },
      "cell_type": "markdown",
      "source": [
        "## Part 1.2 — Split data\n",
        "\n",
        "In this Sprint Challenge, you will use \"Cross-Validation with Independent Test Set\" for your model evaluation protocol.\n",
        "\n",
        "First, **split the data into `X_train, X_test, y_train, y_test`**, with random shuffle. (You can include 75% of the data in the train set, and hold out 25% for the test set.)\n"
      ]
    },
    {
      "metadata": {
        "id": "5aNYcYu06Rvi",
        "colab_type": "code",
        "colab": {}
      },
      "cell_type": "code",
      "source": [
        "#Define X and y\n",
        "X = df.drop(target, axis=1)\n",
        "y = df[target]"
      ],
      "execution_count": 0,
      "outputs": []
    },
    {
      "metadata": {
        "id": "mPKf86yDYf0t",
        "colab_type": "code",
        "colab": {}
      },
      "cell_type": "code",
      "source": [
        "#Train-test split\n",
        "X_train, X_test, y_train, y_test = train_test_split(\n",
        "        X, y, test_size=0.25, random_state=42, shuffle=True)\n",
        "    "
      ],
      "execution_count": 0,
      "outputs": []
    },
    {
      "metadata": {
        "id": "-7np6Duw7HJH",
        "colab_type": "code",
        "colab": {
          "base_uri": "https://localhost:8080/",
          "height": 35
        },
        "outputId": "8095ddb6-2bfd-4647-f107-bc8f551e739c"
      },
      "cell_type": "code",
      "source": [
        "[array.shape for array in (X_train, X_test, y_train, y_test)]"
      ],
      "execution_count": 145,
      "outputs": [
        {
          "output_type": "execute_result",
          "data": {
            "text/plain": [
              "[(561, 4), (187, 4), (561,), (187,)]"
            ]
          },
          "metadata": {
            "tags": []
          },
          "execution_count": 145
        }
      ]
    },
    {
      "metadata": {
        "id": "MuxQin0aHgm7",
        "colab_type": "code",
        "colab": {}
      },
      "cell_type": "code",
      "source": [
        "#for feature engineering,make a copy of original dataset, since it's fairly \n",
        "#small, to compare the results later\n",
        "d = df.copy()"
      ],
      "execution_count": 0,
      "outputs": []
    },
    {
      "metadata": {
        "id": "orToFMGuHYz6",
        "colab_type": "code",
        "colab": {}
      },
      "cell_type": "code",
      "source": [
        "#add additional features which might help to improve the model\n",
        "d['average_donation'] = d['total_volume_donated'] / d['number_of_donations']\n",
        "d['donation_longevity'] = d['months_since_first_donation'] - d['months_since_last_donation']\n",
        "d['average_months_for_donation'] = d['donation_longevity']/ d['number_of_donations']\n",
        "d['if_in_March'] = d['months_since_first_donation']%12 == 0"
      ],
      "execution_count": 0,
      "outputs": []
    },
    {
      "metadata": {
        "id": "oUZijChKHvLR",
        "colab_type": "code",
        "colab": {
          "base_uri": "https://localhost:8080/",
          "height": 218
        },
        "outputId": "0b2439b1-36b0-486c-a365-e7f5f3dae132"
      },
      "cell_type": "code",
      "source": [
        "d.head()"
      ],
      "execution_count": 148,
      "outputs": [
        {
          "output_type": "execute_result",
          "data": {
            "text/html": [
              "<div>\n",
              "<style scoped>\n",
              "    .dataframe tbody tr th:only-of-type {\n",
              "        vertical-align: middle;\n",
              "    }\n",
              "\n",
              "    .dataframe tbody tr th {\n",
              "        vertical-align: top;\n",
              "    }\n",
              "\n",
              "    .dataframe thead th {\n",
              "        text-align: right;\n",
              "    }\n",
              "</style>\n",
              "<table border=\"1\" class=\"dataframe\">\n",
              "  <thead>\n",
              "    <tr style=\"text-align: right;\">\n",
              "      <th></th>\n",
              "      <th>months_since_last_donation</th>\n",
              "      <th>number_of_donations</th>\n",
              "      <th>total_volume_donated</th>\n",
              "      <th>months_since_first_donation</th>\n",
              "      <th>made_donation_in_march_2007</th>\n",
              "      <th>donation_longevity</th>\n",
              "      <th>average_months_for_donation</th>\n",
              "      <th>if_in_March</th>\n",
              "    </tr>\n",
              "  </thead>\n",
              "  <tbody>\n",
              "    <tr>\n",
              "      <th>0</th>\n",
              "      <td>2</td>\n",
              "      <td>50</td>\n",
              "      <td>12500</td>\n",
              "      <td>98</td>\n",
              "      <td>1</td>\n",
              "      <td>96</td>\n",
              "      <td>1.920000</td>\n",
              "      <td>False</td>\n",
              "    </tr>\n",
              "    <tr>\n",
              "      <th>1</th>\n",
              "      <td>0</td>\n",
              "      <td>13</td>\n",
              "      <td>3250</td>\n",
              "      <td>28</td>\n",
              "      <td>1</td>\n",
              "      <td>28</td>\n",
              "      <td>2.153846</td>\n",
              "      <td>False</td>\n",
              "    </tr>\n",
              "    <tr>\n",
              "      <th>2</th>\n",
              "      <td>1</td>\n",
              "      <td>16</td>\n",
              "      <td>4000</td>\n",
              "      <td>35</td>\n",
              "      <td>1</td>\n",
              "      <td>34</td>\n",
              "      <td>2.125000</td>\n",
              "      <td>False</td>\n",
              "    </tr>\n",
              "    <tr>\n",
              "      <th>3</th>\n",
              "      <td>2</td>\n",
              "      <td>20</td>\n",
              "      <td>5000</td>\n",
              "      <td>45</td>\n",
              "      <td>1</td>\n",
              "      <td>43</td>\n",
              "      <td>2.150000</td>\n",
              "      <td>False</td>\n",
              "    </tr>\n",
              "    <tr>\n",
              "      <th>4</th>\n",
              "      <td>1</td>\n",
              "      <td>24</td>\n",
              "      <td>6000</td>\n",
              "      <td>77</td>\n",
              "      <td>0</td>\n",
              "      <td>76</td>\n",
              "      <td>3.166667</td>\n",
              "      <td>False</td>\n",
              "    </tr>\n",
              "  </tbody>\n",
              "</table>\n",
              "</div>"
            ],
            "text/plain": [
              "   months_since_last_donation  number_of_donations  total_volume_donated  \\\n",
              "0                           2                   50                 12500   \n",
              "1                           0                   13                  3250   \n",
              "2                           1                   16                  4000   \n",
              "3                           2                   20                  5000   \n",
              "4                           1                   24                  6000   \n",
              "\n",
              "   months_since_first_donation  made_donation_in_march_2007  \\\n",
              "0                           98                            1   \n",
              "1                           28                            1   \n",
              "2                           35                            1   \n",
              "3                           45                            1   \n",
              "4                           77                            0   \n",
              "\n",
              "   donation_longevity  average_months_for_donation  if_in_March  \n",
              "0                  96                     1.920000        False  \n",
              "1                  28                     2.153846        False  \n",
              "2                  34                     2.125000        False  \n",
              "3                  43                     2.150000        False  \n",
              "4                  76                     3.166667        False  "
            ]
          },
          "metadata": {
            "tags": []
          },
          "execution_count": 148
        }
      ]
    },
    {
      "metadata": {
        "id": "zUFcKjavJf3O",
        "colab_type": "code",
        "colab": {
          "base_uri": "https://localhost:8080/",
          "height": 35
        },
        "outputId": "167129a1-b55c-4d72-cf5f-3861bd8dde3f"
      },
      "cell_type": "code",
      "source": [
        "d['average_donation'].unique()"
      ],
      "execution_count": 73,
      "outputs": [
        {
          "output_type": "execute_result",
          "data": {
            "text/plain": [
              "array([250.])"
            ]
          },
          "metadata": {
            "tags": []
          },
          "execution_count": 73
        }
      ]
    },
    {
      "metadata": {
        "id": "vSYbCMStJzCw",
        "colab_type": "text"
      },
      "cell_type": "markdown",
      "source": [
        "well, the column `average donation` contains the same values, I'll drop it"
      ]
    },
    {
      "metadata": {
        "id": "9LaHLTJMJ5nE",
        "colab_type": "code",
        "colab": {}
      },
      "cell_type": "code",
      "source": [
        "d = d.drop('average_donation', axis=1)"
      ],
      "execution_count": 0,
      "outputs": []
    },
    {
      "metadata": {
        "id": "3VR0z_02Is6y",
        "colab_type": "code",
        "colab": {}
      },
      "cell_type": "code",
      "source": [
        "Xd = d.drop(target, axis=1)\n",
        "yd = d[target]"
      ],
      "execution_count": 0,
      "outputs": []
    },
    {
      "metadata": {
        "id": "hikivEt4Ih0T",
        "colab_type": "code",
        "colab": {}
      },
      "cell_type": "code",
      "source": [
        "#split the feature-engineered dataset\n",
        "#Train-test split\n",
        "Xd_train, Xd_test, yd_train, yd_test = train_test_split(\n",
        "        Xd, yd, test_size=0.25, random_state=42, shuffle=True)\n",
        "    "
      ],
      "execution_count": 0,
      "outputs": []
    },
    {
      "metadata": {
        "id": "E_ATNJdqTCuZ",
        "colab_type": "text"
      },
      "cell_type": "markdown",
      "source": [
        "## Part 2.1 — Make a pipeline\n",
        "\n",
        "Make a **pipeline** which includes:\n",
        "- Preprocessing with any scikit-learn [**Scaler**](https://scikit-learn.org/stable/modules/classes.html#module-sklearn.preprocessing)\n",
        "- Feature selection with **[`SelectKBest`](https://scikit-learn.org/stable/modules/generated/sklearn.feature_selection.SelectKBest.html)([`f_classif`](https://scikit-learn.org/stable/modules/generated/sklearn.feature_selection.f_classif.html))**\n",
        "- Classification with [**`LogisticRegression`**](https://scikit-learn.org/stable/modules/generated/sklearn.linear_model.LogisticRegression.html)"
      ]
    },
    {
      "metadata": {
        "id": "8DRrVU5n5_Jw",
        "colab_type": "code",
        "colab": {
          "base_uri": "https://localhost:8080/",
          "height": 52
        },
        "outputId": "cf317245-6e17-422e-be12-23b3587a16cb"
      },
      "cell_type": "code",
      "source": [
        "#check the time of processing\n",
        "%%time\n",
        "\n",
        "#import the pipeline and its components\n",
        "from sklearn.pipeline import make_pipeline\n",
        "from sklearn.preprocessing import RobustScaler\n",
        "from sklearn.linear_model import LogisticRegression\n",
        "from sklearn.feature_selection import f_classif, SelectKBest\n",
        "\n",
        "#make the pipeline\n",
        "pipe = make_pipeline(\n",
        "    RobustScaler(),\n",
        "    SelectKBest(f_classif),\n",
        "    LogisticRegression(solver='lbfgs'))\n",
        "\n",
        "#solver='lbfgs', class_weight=class_weight"
      ],
      "execution_count": 151,
      "outputs": [
        {
          "output_type": "stream",
          "text": [
            "CPU times: user 246 µs, sys: 0 ns, total: 246 µs\n",
            "Wall time: 250 µs\n"
          ],
          "name": "stdout"
        }
      ]
    },
    {
      "metadata": {
        "id": "g4H58nHrLblf",
        "colab_type": "code",
        "colab": {}
      },
      "cell_type": "code",
      "source": [
        "#let's try to modify the pipeline using a MinMaxScaler and 'newtin-cg' solver\n",
        "pipe2 = make_pipeline(\n",
        "    MinMaxScaler(),\n",
        "    SelectKBest(f_classif),\n",
        "    LogisticRegression(solver='newton-cg'))"
      ],
      "execution_count": 0,
      "outputs": []
    },
    {
      "metadata": {
        "id": "5vRkQHatglMG",
        "colab_type": "text"
      },
      "cell_type": "markdown",
      "source": [
        "## Part 2.2 — Do Grid Search Cross-Validation\n",
        "\n",
        "Do [**GridSearchCV**](https://scikit-learn.org/stable/modules/generated/sklearn.model_selection.GridSearchCV.html) with your pipeline. Use **5 folds** and **recall score**.\n",
        "\n",
        "Include these **parameters for your grid:**\n",
        "\n",
        "#### `SelectKBest`\n",
        "- `k : 1, 2, 3, 4`\n",
        "\n",
        "#### `LogisticRegression`\n",
        "- `class_weight : None, 'balanced'`\n",
        "- `C : .0001, .001, .01, .1, 1.0, 10.0, 100.00, 1000.0, 10000.0`\n",
        "\n",
        "\n",
        "**Fit** on the appropriate data."
      ]
    },
    {
      "metadata": {
        "id": "wgN8kG0ogBMH",
        "colab_type": "code",
        "colab": {
          "base_uri": "https://localhost:8080/",
          "height": 245
        },
        "outputId": "116d0fac-d652-4cb2-f306-4d63111747b2"
      },
      "cell_type": "code",
      "source": [
        "from sklearn.model_selection import GridSearchCV\n",
        "\n",
        "param_grid = {\n",
        "    'selectkbest__k': [1,2,3,4],\n",
        "    'logisticregression__class_weight': [None, 'balanced'],\n",
        "    'logisticregression__C': [.0001, .001, .01, .1, 1.0, 10.0, 100.00, 1000.0, 10000.0]   \n",
        "}\n",
        "\n",
        "gs = GridSearchCV(pipe, \n",
        "                  param_grid = param_grid,\n",
        "                  cv=3,\n",
        "                  scoring = 'recall',\n",
        "                  return_train_score=True,\n",
        "                  verbose=1,\n",
        "                  iid=False)\n",
        "\n",
        "gs.fit(X_train, y_train)\n",
        "validation_score = gs.best_score_\n",
        "results = pd.DataFrame(gs.cv_results_)\n",
        "print()\n",
        "print('Cross-Validation Score:', validation_score)\n",
        "print()\n",
        "print('Best estimator:', gs.best_estimator_)\n",
        "print()\n"
      ],
      "execution_count": 153,
      "outputs": [
        {
          "output_type": "stream",
          "text": [
            "Fitting 3 folds for each of 72 candidates, totalling 216 fits\n"
          ],
          "name": "stdout"
        },
        {
          "output_type": "stream",
          "text": [
            "[Parallel(n_jobs=1)]: Using backend SequentialBackend with 1 concurrent workers.\n"
          ],
          "name": "stderr"
        },
        {
          "output_type": "stream",
          "text": [
            "\n",
            "Cross-Validation Score: 0.8005637773079632\n",
            "\n",
            "Best estimator: Pipeline(memory=None,\n",
            "     steps=[('robustscaler', RobustScaler(copy=True, quantile_range=(25.0, 75.0), with_centering=True,\n",
            "       with_scaling=True)), ('selectkbest', SelectKBest(k=2, score_func=<function f_classif at 0x7fb3ea618510>)), ('logisticregression', LogisticRegression(C=10.0, class_weight='balanced', dual=False,\n",
            " ...enalty='l2', random_state=None,\n",
            "          solver='lbfgs', tol=0.0001, verbose=0, warm_start=False))])\n",
            "\n"
          ],
          "name": "stdout"
        },
        {
          "output_type": "stream",
          "text": [
            "[Parallel(n_jobs=1)]: Done 216 out of 216 | elapsed:    2.0s finished\n"
          ],
          "name": "stderr"
        }
      ]
    },
    {
      "metadata": {
        "id": "EeyobrhsL--k",
        "colab_type": "code",
        "colab": {
          "base_uri": "https://localhost:8080/",
          "height": 245
        },
        "outputId": "0395536a-e793-4660-da11-14658cafee74"
      },
      "cell_type": "code",
      "source": [
        "#try pipe2 with original dataset and param_grid  \n",
        "#before that, Silent Data Conversion Warnings for MinMaxScaler\n",
        "\n",
        "import warnings\n",
        "from sklearn.exceptions import DataConversionWarning\n",
        "warnings.filterwarnings(action='ignore', category=DataConversionWarning)\n",
        "\n",
        "\n",
        "gs2 = GridSearchCV(pipe2, \n",
        "                  param_grid = param_grid,\n",
        "                  cv=3,\n",
        "                  scoring = 'recall',\n",
        "                  return_train_score=True,\n",
        "                  verbose=1,\n",
        "                  iid=False)\n",
        "\n",
        "gs2.fit(X_train, y_train)\n",
        "validation_score2 = gs2.best_score_\n",
        "results2 = pd.DataFrame(gs2.cv_results_)\n",
        "print()\n",
        "print('Cross-Validation Score:', validation_score2)\n",
        "print()\n",
        "print('Best estimator:', gs2.best_estimator_)\n",
        "print()"
      ],
      "execution_count": 154,
      "outputs": [
        {
          "output_type": "stream",
          "text": [
            "Fitting 3 folds for each of 72 candidates, totalling 216 fits\n"
          ],
          "name": "stdout"
        },
        {
          "output_type": "stream",
          "text": [
            "[Parallel(n_jobs=1)]: Using backend SequentialBackend with 1 concurrent workers.\n"
          ],
          "name": "stderr"
        },
        {
          "output_type": "stream",
          "text": [
            "\n",
            "Cross-Validation Score: 0.8005637773079632\n",
            "\n",
            "Best estimator: Pipeline(memory=None,\n",
            "     steps=[('minmaxscaler', MinMaxScaler(copy=True, feature_range=(0, 1))), ('selectkbest', SelectKBest(k=2, score_func=<function f_classif at 0x7fb3ea618510>)), ('logisticregression', LogisticRegression(C=10.0, class_weight='balanced', dual=False,\n",
            "          fit_intercept=True, intercept_scaling=1, max_iter=100,\n",
            "          multi_class='warn', n_jobs=None, penalty='l2', random_state=None,\n",
            "          solver='newton-cg', tol=0.0001, verbose=0, warm_start=False))])\n",
            "\n"
          ],
          "name": "stdout"
        },
        {
          "output_type": "stream",
          "text": [
            "[Parallel(n_jobs=1)]: Done 216 out of 216 | elapsed:    1.9s finished\n"
          ],
          "name": "stderr"
        }
      ]
    },
    {
      "metadata": {
        "id": "G3PQqbFBZmpX",
        "colab_type": "text"
      },
      "cell_type": "markdown",
      "source": [
        "well, the results are the same"
      ]
    },
    {
      "metadata": {
        "id": "6jifbi42IVo-",
        "colab_type": "code",
        "colab": {
          "base_uri": "https://localhost:8080/",
          "height": 245
        },
        "outputId": "e0f6b17a-20ba-4e5b-b07e-87eb4a0e8a28"
      },
      "cell_type": "code",
      "source": [
        "#now, try the same grid for the feature-engineered dataset\n",
        "gsd = GridSearchCV(pipe, \n",
        "                  param_grid = param_grid,\n",
        "                  cv=3,\n",
        "                  scoring = 'recall',\n",
        "                  return_train_score=True,\n",
        "                  verbose=1,\n",
        "                  iid=False)\n",
        "\n",
        "gsd.fit(Xd_train, yd_train)\n",
        "\n",
        "validation_score_d = gsd.best_score_\n",
        "results_d = pd.DataFrame(gsd.cv_results_)\n",
        "print()\n",
        "print('Cross-Validation Score:', validation_score_d)\n",
        "print()\n",
        "print('Best estimator:', gsd.best_estimator_)\n",
        "print()\n"
      ],
      "execution_count": 87,
      "outputs": [
        {
          "output_type": "stream",
          "text": [
            "Fitting 3 folds for each of 72 candidates, totalling 216 fits\n"
          ],
          "name": "stdout"
        },
        {
          "output_type": "stream",
          "text": [
            "[Parallel(n_jobs=1)]: Using backend SequentialBackend with 1 concurrent workers.\n"
          ],
          "name": "stderr"
        },
        {
          "output_type": "stream",
          "text": [
            "\n",
            "Cross-Validation Score: 0.8005637773079632\n",
            "\n",
            "Best estimator: Pipeline(memory=None,\n",
            "     steps=[('robustscaler', RobustScaler(copy=True, quantile_range=(25.0, 75.0), with_centering=True,\n",
            "       with_scaling=True)), ('selectkbest', SelectKBest(k=2, score_func=<function f_classif at 0x7fb3ea618510>)), ('logisticregression', LogisticRegression(C=10.0, class_weight='balanced', dual=False,\n",
            " ...enalty='l2', random_state=None,\n",
            "          solver='lbfgs', tol=0.0001, verbose=0, warm_start=False))])\n",
            "\n"
          ],
          "name": "stdout"
        },
        {
          "output_type": "stream",
          "text": [
            "[Parallel(n_jobs=1)]: Done 216 out of 216 | elapsed:    2.4s finished\n"
          ],
          "name": "stderr"
        }
      ]
    },
    {
      "metadata": {
        "id": "8JfU6pZ7K9V8",
        "colab_type": "text"
      },
      "cell_type": "markdown",
      "source": [
        "well, the results are exactly the same, will try to improve by polynomial model and selecting features when time allows"
      ]
    },
    {
      "metadata": {
        "id": "cgOFRZnANK-7",
        "colab_type": "code",
        "colab": {
          "base_uri": "https://localhost:8080/",
          "height": 245
        },
        "outputId": "6ca45389-eb9d-4f4d-c6d3-5c778d9f2227"
      },
      "cell_type": "code",
      "source": [
        "#modify params_grid\n",
        "param_grid2 = {\n",
        "    'selectkbest__k': [1,2,3,4,5],\n",
        "    'logisticregression__class_weight': ['balanced', {0:1, 1:3}],\n",
        "    'logisticregression__C': [5.0, 7.0, 10.0, 15.0]   \n",
        "}\n",
        "\n",
        "\n",
        "#finally, let's try modified params with modified pipe and feature-engineered dataset:\n",
        "gsp = GridSearchCV(pipe2, \n",
        "                  param_grid = param_grid2,\n",
        "                  cv=3,\n",
        "                  scoring = 'recall',\n",
        "                  return_train_score=True,\n",
        "                  verbose=1,\n",
        "                  iid=False)\n",
        "\n",
        "gsp.fit(Xd_train, yd_train)\n",
        "validation_score_p = gsd.best_score_\n",
        "results_p = pd.DataFrame(gsp.cv_results_)\n",
        "print()\n",
        "print('Cross-Validation Score:', validation_score_p)\n",
        "print()\n",
        "print('Best estimator:', gsp.best_estimator_)\n",
        "print()\n"
      ],
      "execution_count": 156,
      "outputs": [
        {
          "output_type": "stream",
          "text": [
            "Fitting 3 folds for each of 40 candidates, totalling 120 fits\n"
          ],
          "name": "stdout"
        },
        {
          "output_type": "stream",
          "text": [
            "[Parallel(n_jobs=1)]: Using backend SequentialBackend with 1 concurrent workers.\n"
          ],
          "name": "stderr"
        },
        {
          "output_type": "stream",
          "text": [
            "\n",
            "Cross-Validation Score: 0.8005637773079632\n",
            "\n",
            "Best estimator: Pipeline(memory=None,\n",
            "     steps=[('minmaxscaler', MinMaxScaler(copy=True, feature_range=(0, 1))), ('selectkbest', SelectKBest(k=2, score_func=<function f_classif at 0x7fb3ea618510>)), ('logisticregression', LogisticRegression(C=5.0, class_weight='balanced', dual=False,\n",
            "          fit_intercept=True, intercept_scaling=1, max_iter=100,\n",
            "          multi_class='warn', n_jobs=None, penalty='l2', random_state=None,\n",
            "          solver='newton-cg', tol=0.0001, verbose=0, warm_start=False))])\n",
            "\n"
          ],
          "name": "stdout"
        },
        {
          "output_type": "stream",
          "text": [
            "[Parallel(n_jobs=1)]: Done 120 out of 120 | elapsed:    1.3s finished\n"
          ],
          "name": "stderr"
        }
      ]
    },
    {
      "metadata": {
        "id": "hTLrqW50OKe5",
        "colab_type": "text"
      },
      "cell_type": "markdown",
      "source": [
        "well' results are the same, still we've tried, should we have enough time, maybe new modified features would help"
      ]
    },
    {
      "metadata": {
        "id": "urY_Wp3AiF83",
        "colab_type": "text"
      },
      "cell_type": "markdown",
      "source": [
        "## Part 3 — Show best score and parameters\n",
        "\n",
        "Display your **best cross-validation score**, and the **best parameters** (the values of `k, class_weight, C`) from the grid search.\n",
        "\n",
        "(You're not evaluated here on how good your score is, or which parameters you find. You're only evaluated on being able to display the information. There are several ways you can get the information, and any way is acceptable.)"
      ]
    },
    {
      "metadata": {
        "id": "qAxxkjG7gACP",
        "colab_type": "code",
        "colab": {
          "base_uri": "https://localhost:8080/",
          "height": 193
        },
        "outputId": "fa629194-a509-4cdf-d257-512004c02417"
      },
      "cell_type": "code",
      "source": [
        "print()\n",
        "print('Cross-Validation Score:', validation_score)\n",
        "print()\n",
        "print('Best estimator:', gs.best_estimator_)\n",
        "print()\n"
      ],
      "execution_count": 157,
      "outputs": [
        {
          "output_type": "stream",
          "text": [
            "\n",
            "Cross-Validation Score: 0.8005637773079632\n",
            "\n",
            "Best estimator: Pipeline(memory=None,\n",
            "     steps=[('robustscaler', RobustScaler(copy=True, quantile_range=(25.0, 75.0), with_centering=True,\n",
            "       with_scaling=True)), ('selectkbest', SelectKBest(k=2, score_func=<function f_classif at 0x7fb3ea618510>)), ('logisticregression', LogisticRegression(C=10.0, class_weight='balanced', dual=False,\n",
            " ...enalty='l2', random_state=None,\n",
            "          solver='lbfgs', tol=0.0001, verbose=0, warm_start=False))])\n",
            "\n"
          ],
          "name": "stdout"
        }
      ]
    },
    {
      "metadata": {
        "id": "aJUmqTpDae6T",
        "colab_type": "code",
        "colab": {
          "base_uri": "https://localhost:8080/",
          "height": 193
        },
        "outputId": "8d2d82ef-f506-46fe-c78f-acc12af66a70"
      },
      "cell_type": "code",
      "source": [
        "print()\n",
        "print('Cross-Validation Score:', validation_score_p)\n",
        "print()\n",
        "print('Best estimator:', gsp.best_estimator_)\n",
        "print()\n"
      ],
      "execution_count": 158,
      "outputs": [
        {
          "output_type": "stream",
          "text": [
            "\n",
            "Cross-Validation Score: 0.8005637773079632\n",
            "\n",
            "Best estimator: Pipeline(memory=None,\n",
            "     steps=[('minmaxscaler', MinMaxScaler(copy=True, feature_range=(0, 1))), ('selectkbest', SelectKBest(k=2, score_func=<function f_classif at 0x7fb3ea618510>)), ('logisticregression', LogisticRegression(C=5.0, class_weight='balanced', dual=False,\n",
            "          fit_intercept=True, intercept_scaling=1, max_iter=100,\n",
            "          multi_class='warn', n_jobs=None, penalty='l2', random_state=None,\n",
            "          solver='newton-cg', tol=0.0001, verbose=0, warm_start=False))])\n",
            "\n"
          ],
          "name": "stdout"
        }
      ]
    },
    {
      "metadata": {
        "id": "HyYxk-6tB9Ig",
        "colab_type": "text"
      },
      "cell_type": "markdown",
      "source": [
        "the score is better than in a simple baseline model, we're in the right direction!"
      ]
    },
    {
      "metadata": {
        "id": "JVzz0VfOOhmi",
        "colab_type": "code",
        "colab": {
          "base_uri": "https://localhost:8080/",
          "height": 35
        },
        "outputId": "aaafa7a6-1904-4f2d-c26d-cfe6e2174663"
      },
      "cell_type": "code",
      "source": [
        "#let's go with the feature-engineered dataset to show selected features:\n",
        "selected_features = Xd_train.columns[gsp.best_estimator_.named_steps['selectkbest'].get_support()]\n",
        "selected_features\n"
      ],
      "execution_count": 159,
      "outputs": [
        {
          "output_type": "execute_result",
          "data": {
            "text/plain": [
              "Index(['months_since_last_donation', 'number_of_donations'], dtype='object')"
            ]
          },
          "metadata": {
            "tags": []
          },
          "execution_count": 159
        }
      ]
    },
    {
      "metadata": {
        "id": "Vjg3XKcca95l",
        "colab_type": "code",
        "colab": {
          "base_uri": "https://localhost:8080/",
          "height": 69
        },
        "outputId": "89e460c0-0ef1-40ec-ce56-8c6758301e7a"
      },
      "cell_type": "code",
      "source": [
        "not_selected_features  = Xd_train.columns[~gsp.best_estimator_.named_steps['selectkbest'].get_support()]\n",
        "not_selected_features"
      ],
      "execution_count": 163,
      "outputs": [
        {
          "output_type": "execute_result",
          "data": {
            "text/plain": [
              "Index(['total_volume_donated', 'months_since_first_donation',\n",
              "       'donation_longevity', 'average_months_for_donation', 'if_in_March'],\n",
              "      dtype='object')"
            ]
          },
          "metadata": {
            "tags": []
          },
          "execution_count": 163
        }
      ]
    },
    {
      "metadata": {
        "id": "iPfrNYPrO5VL",
        "colab_type": "code",
        "colab": {
          "base_uri": "https://localhost:8080/",
          "height": 35
        },
        "outputId": "3c027ee9-034d-4f8d-cb6a-14d37809bdd7"
      },
      "cell_type": "code",
      "source": [
        "#hmmm, results were interesting let's try to see what we've got in the original dataset\n",
        "selected_features_original = X_train.columns[gs.best_estimator_.named_steps['selectkbest'].get_support()]\n",
        "selected_features_original\n"
      ],
      "execution_count": 160,
      "outputs": [
        {
          "output_type": "execute_result",
          "data": {
            "text/plain": [
              "Index(['months_since_last_donation', 'total_volume_donated'], dtype='object')"
            ]
          },
          "metadata": {
            "tags": []
          },
          "execution_count": 160
        }
      ]
    },
    {
      "metadata": {
        "id": "2Zh4Q-YdbHbd",
        "colab_type": "code",
        "colab": {
          "base_uri": "https://localhost:8080/",
          "height": 35
        },
        "outputId": "3b8dcd98-7719-414b-8dd9-a77fed7a41e8"
      },
      "cell_type": "code",
      "source": [
        "not_selected_features_original = X_train.columns[~gs.best_estimator_.named_steps['selectkbest'].get_support()]\n",
        "not_selected_features_original"
      ],
      "execution_count": 164,
      "outputs": [
        {
          "output_type": "execute_result",
          "data": {
            "text/plain": [
              "Index(['number_of_donations', 'months_since_first_donation'], dtype='object')"
            ]
          },
          "metadata": {
            "tags": []
          },
          "execution_count": 164
        }
      ]
    },
    {
      "metadata": {
        "id": "q9lxixpiPZvN",
        "colab_type": "text"
      },
      "cell_type": "markdown",
      "source": [
        "Evaluation on the test sets:"
      ]
    },
    {
      "metadata": {
        "id": "OS-xmyF7PMxz",
        "colab_type": "code",
        "colab": {
          "base_uri": "https://localhost:8080/",
          "height": 35
        },
        "outputId": "929819c4-85ad-49c9-c066-febbb667aaa9"
      },
      "cell_type": "code",
      "source": [
        "# Use the grid search's score method with X_test of original dataset\n",
        "test_score_original = gs.score(X_test, y_test)\n",
        "print('Test Score:', test_score_original)"
      ],
      "execution_count": 161,
      "outputs": [
        {
          "output_type": "stream",
          "text": [
            "Test Score: 0.7916666666666666\n"
          ],
          "name": "stdout"
        }
      ]
    },
    {
      "metadata": {
        "id": "SwU49ZIFQ82m",
        "colab_type": "code",
        "colab": {
          "base_uri": "https://localhost:8080/",
          "height": 35
        },
        "outputId": "d9e3c1d9-15f7-4560-e06b-259fb69a1d3a"
      },
      "cell_type": "code",
      "source": [
        "# Use the grid search's score method with Xd_test of modified dataset\n",
        "test_score_modified = gsp.score(Xd_test, yd_test)\n",
        "print('Test Score Modified:', test_score_modified)"
      ],
      "execution_count": 162,
      "outputs": [
        {
          "output_type": "stream",
          "text": [
            "Test Score Modified: 0.7916666666666666\n"
          ],
          "name": "stdout"
        }
      ]
    },
    {
      "metadata": {
        "id": "jkyHoRIbEgRR",
        "colab_type": "text"
      },
      "cell_type": "markdown",
      "source": [
        "## Part 4 — Calculate classification metrics from a confusion matrix\n",
        "\n",
        "Suppose this is the confusion matrix for your binary classification model:\n",
        "\n",
        "<table>\n",
        "  <tr>\n",
        "    <th colspan=\"2\" rowspan=\"2\"></th>\n",
        "    <th colspan=\"2\">Predicted</th>\n",
        "  </tr>\n",
        "  <tr>\n",
        "    <th>Negative</th>\n",
        "    <th>Positive</th>\n",
        "  </tr>\n",
        "  <tr>\n",
        "    <th rowspan=\"2\">Actual</th>\n",
        "    <th>Negative</th>\n",
        "    <td>85</td>\n",
        "    <td>58</td>\n",
        "  </tr>\n",
        "  <tr>\n",
        "    <th>Positive</th>\n",
        "    <td>8</td>\n",
        "    <td>36</td>\n",
        "  </tr>\n",
        "</table>"
      ]
    },
    {
      "metadata": {
        "id": "LhyMM5H-JpVB",
        "colab_type": "text"
      },
      "cell_type": "markdown",
      "source": [
        "Calculate accuracy"
      ]
    },
    {
      "metadata": {
        "id": "TZPwqdh2KUcB",
        "colab_type": "code",
        "colab": {
          "base_uri": "https://localhost:8080/",
          "height": 35
        },
        "outputId": "ec02d523-a4a9-4c01-8d38-d1dfd8ff1b8b"
      },
      "cell_type": "code",
      "source": [
        "#Accuracy score  = (Actual POSITIVE + Actual NEGATIVE) / (Actual POSITIVE + \n",
        "#Actual NEGATIVE + Predicted POSITIVE + Predicted NEGATIVE)\n",
        "accuracy_score = (36+85) / (85+8+58+36)\n",
        "print('The accuracy score is: ',round(accuracy_score,2))"
      ],
      "execution_count": 120,
      "outputs": [
        {
          "output_type": "stream",
          "text": [
            "The accuracy score is:  0.65\n"
          ],
          "name": "stdout"
        }
      ]
    },
    {
      "metadata": {
        "id": "BRWLfGcGKeQw",
        "colab_type": "text"
      },
      "cell_type": "markdown",
      "source": [
        "Calculate precision"
      ]
    },
    {
      "metadata": {
        "id": "A-FEZ4i_Kf_n",
        "colab_type": "code",
        "colab": {
          "base_uri": "https://localhost:8080/",
          "height": 35
        },
        "outputId": "a7067ba4-aa7d-47f6-94ac-d033883b62f7"
      },
      "cell_type": "code",
      "source": [
        "#Precision = Actual POSITIVE / (Actual POSITIVE + Actual NEGATIVE)\n",
        "precision = 36 / (36+58)\n",
        "print('The precision is', round(precision,2))"
      ],
      "execution_count": 121,
      "outputs": [
        {
          "output_type": "stream",
          "text": [
            "The precision is 0.38\n"
          ],
          "name": "stdout"
        }
      ]
    },
    {
      "metadata": {
        "id": "h_mH2NYDKi2C",
        "colab_type": "text"
      },
      "cell_type": "markdown",
      "source": [
        "Calculate recall"
      ]
    },
    {
      "metadata": {
        "id": "U4_wJGyjKkXJ",
        "colab_type": "code",
        "colab": {
          "base_uri": "https://localhost:8080/",
          "height": 35
        },
        "outputId": "aff032e5-cb32-4280-dcea-38706edacb6d"
      },
      "cell_type": "code",
      "source": [
        "#Recall = Actual POSITIVE / (Actual POSITIVE + Predicted POSITIVE)\n",
        "recall = 36/(36 + 8)\n",
        "print('The recall is: ', round(recall,2))"
      ],
      "execution_count": 122,
      "outputs": [
        {
          "output_type": "stream",
          "text": [
            "The recall is:  0.82\n"
          ],
          "name": "stdout"
        }
      ]
    },
    {
      "metadata": {
        "id": "TsaE6lyjRNVF",
        "colab_type": "code",
        "colab": {
          "base_uri": "https://localhost:8080/",
          "height": 35
        },
        "outputId": "c4590440-8319-4727-d4f7-eff57e8a52b5"
      },
      "cell_type": "code",
      "source": [
        "#F1 Score = 2  (Recall * Precision)  / (Recall + Precision)\n",
        "f1 = 2 *(recall*precision)/(recall+precision)\n",
        "print('F1 score is: ', round(f1,2))"
      ],
      "execution_count": 123,
      "outputs": [
        {
          "output_type": "stream",
          "text": [
            "F1 score is:  0.52\n"
          ],
          "name": "stdout"
        }
      ]
    },
    {
      "metadata": {
        "id": "uZQapQfgSKIK",
        "colab_type": "code",
        "colab": {
          "base_uri": "https://localhost:8080/",
          "height": 35
        },
        "outputId": "6c0cb114-cc90-41d4-e764-02adfc8e3cf4"
      },
      "cell_type": "code",
      "source": [
        "#False Positive rate = Predicted POSITIVE / (Predicted POSITIVE  + Actual NEGATIVE)\n",
        "false_positive_rate = 58 / (85+58)\n",
        "print('The false positive rate is: ', round(false_positive_rate,2))"
      ],
      "execution_count": 124,
      "outputs": [
        {
          "output_type": "stream",
          "text": [
            "The false positive rate is:  0.41\n"
          ],
          "name": "stdout"
        }
      ]
    },
    {
      "metadata": {
        "id": "9KEaWsk5Kk9W",
        "colab_type": "text"
      },
      "cell_type": "markdown",
      "source": [
        "## BONUS — How you can earn a score of 3\n",
        "\n",
        "### Part 1\n",
        "Do feature engineering, to try improving your cross-validation score.\n",
        "\n",
        "### Part 2\n",
        "Add transformations in your pipeline and parameters in your grid, to try improving your cross-validation score.\n",
        "\n",
        "### Part 3\n",
        "Show names of selected features. Then do a final evaluation on the test set — what is the test score?\n",
        "\n",
        "### Part 4\n",
        "Calculate F1 score and False Positive Rate. "
      ]
    }
  ]
}