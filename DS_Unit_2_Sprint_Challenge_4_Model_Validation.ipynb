{
  "nbformat": 4,
  "nbformat_minor": 0,
  "metadata": {
    "colab": {
      "name": "DS_Unit_2_Sprint_Challenge_4_Model_Validation.ipynb",
      "version": "0.3.2",
      "provenance": [],
      "collapsed_sections": [],
      "include_colab_link": true
    },
    "kernelspec": {
      "name": "python3",
      "display_name": "Python 3"
    }
  },
  "cells": [
    {
      "cell_type": "markdown",
      "metadata": {
        "id": "view-in-github",
        "colab_type": "text"
      },
      "source": [
        "<a href=\"https://colab.research.google.com/github/ed-chin-git/DS-Unit-2-Sprint-4-Model-Validation/blob/master/DS_Unit_2_Sprint_Challenge_4_Model_Validation.ipynb\" target=\"_parent\"><img src=\"https://colab.research.google.com/assets/colab-badge.svg\" alt=\"Open In Colab\"/></a>"
      ]
    },
    {
      "metadata": {
        "id": "PC9RfopIWrc9",
        "colab_type": "text"
      },
      "cell_type": "markdown",
      "source": [
        " # Data Science Unit 2 Sprint Challenge 4 — Model Validation"
      ]
    },
    {
      "metadata": {
        "id": "UV7ArLFQN84W",
        "colab_type": "text"
      },
      "cell_type": "markdown",
      "source": [
        "Follow the instructions for each numbered part to earn a score of 2. See the bottom of the notebook for a list of ways you can earn a score of 3."
      ]
    },
    {
      "metadata": {
        "id": "bAZcbTtiUlkI",
        "colab_type": "text"
      },
      "cell_type": "markdown",
      "source": [
        "## Predicting Blood Donations\n",
        "\n",
        "Our dataset is from a mobile blood donation vehicle in Taiwan. The Blood Transfusion Service Center drives to different universities and collects blood as part of a blood drive.\n",
        "\n",
        "The goal is to predict the last column, whether the donor made a donation in March 2007, using information about each donor's history. We'll measure success using recall score as the model evaluation metric.\n",
        "\n",
        "Good data-driven systems for tracking and predicting donations and supply needs can improve the entire supply chain, making sure that more patients get the blood transfusions they need.\n",
        "\n",
        "#### Run this cell to load the data:"
      ]
    },
    {
      "metadata": {
        "id": "jZ2299C49aeW",
        "colab_type": "code",
        "colab": {}
      },
      "cell_type": "code",
      "source": [
        "import pandas as pd\n",
        "import numpy as np\n",
        "import matplotlib.pyplot as plt\n",
        "from sklearn.datasets import make_classification\n",
        "from sklearn.metrics import accuracy_score, classification_report\n",
        "from sklearn.linear_model import LogisticRegression\n",
        "from mlxtend.plotting import plot_decision_regions\n",
        "\n",
        "from sklearn.model_selection import train_test_split\n",
        "from sklearn.metrics import mean_absolute_error\n",
        "from sklearn.model_selection import GridSearchCV\n",
        "from sklearn.pipeline import make_pipeline\n",
        "from sklearn.preprocessing import RobustScaler\n",
        "from sklearn.feature_selection import f_classif, SelectKBest\n",
        "\n",
        "import seaborn as sns"
      ],
      "execution_count": 0,
      "outputs": []
    },
    {
      "metadata": {
        "id": "gvV9VORbxyvu",
        "colab_type": "code",
        "colab": {}
      },
      "cell_type": "code",
      "source": [
        "\n",
        "df = pd.read_csv('https://archive.ics.uci.edu/ml/machine-learning-databases/blood-transfusion/transfusion.data')\n",
        "\n",
        "df = df.rename(columns={\n",
        "    'Recency (months)': 'months_since_last_donation', \n",
        "    'Frequency (times)': 'number_of_donations', \n",
        "    'Monetary (c.c. blood)': 'total_volume_donated', \n",
        "    'Time (months)': 'months_since_first_donation', \n",
        "    'whether he/she donated blood in March 2007': 'made_donation_in_march_2007'\n",
        "})"
      ],
      "execution_count": 0,
      "outputs": []
    },
    {
      "metadata": {
        "id": "lWxIqzqezQuP",
        "colab_type": "code",
        "colab": {
          "base_uri": "https://localhost:8080/",
          "height": 219
        },
        "outputId": "af5677c6-c733-4ba2-bfb5-e612ca10df85"
      },
      "cell_type": "code",
      "source": [
        "print(df.shape)\n",
        "df.head()\n"
      ],
      "execution_count": 3,
      "outputs": [
        {
          "output_type": "stream",
          "text": [
            "(748, 5)\n"
          ],
          "name": "stdout"
        },
        {
          "output_type": "execute_result",
          "data": {
            "text/html": [
              "<div>\n",
              "<style scoped>\n",
              "    .dataframe tbody tr th:only-of-type {\n",
              "        vertical-align: middle;\n",
              "    }\n",
              "\n",
              "    .dataframe tbody tr th {\n",
              "        vertical-align: top;\n",
              "    }\n",
              "\n",
              "    .dataframe thead th {\n",
              "        text-align: right;\n",
              "    }\n",
              "</style>\n",
              "<table border=\"1\" class=\"dataframe\">\n",
              "  <thead>\n",
              "    <tr style=\"text-align: right;\">\n",
              "      <th></th>\n",
              "      <th>months_since_last_donation</th>\n",
              "      <th>number_of_donations</th>\n",
              "      <th>total_volume_donated</th>\n",
              "      <th>months_since_first_donation</th>\n",
              "      <th>made_donation_in_march_2007</th>\n",
              "    </tr>\n",
              "  </thead>\n",
              "  <tbody>\n",
              "    <tr>\n",
              "      <th>0</th>\n",
              "      <td>2</td>\n",
              "      <td>50</td>\n",
              "      <td>12500</td>\n",
              "      <td>98</td>\n",
              "      <td>1</td>\n",
              "    </tr>\n",
              "    <tr>\n",
              "      <th>1</th>\n",
              "      <td>0</td>\n",
              "      <td>13</td>\n",
              "      <td>3250</td>\n",
              "      <td>28</td>\n",
              "      <td>1</td>\n",
              "    </tr>\n",
              "    <tr>\n",
              "      <th>2</th>\n",
              "      <td>1</td>\n",
              "      <td>16</td>\n",
              "      <td>4000</td>\n",
              "      <td>35</td>\n",
              "      <td>1</td>\n",
              "    </tr>\n",
              "    <tr>\n",
              "      <th>3</th>\n",
              "      <td>2</td>\n",
              "      <td>20</td>\n",
              "      <td>5000</td>\n",
              "      <td>45</td>\n",
              "      <td>1</td>\n",
              "    </tr>\n",
              "    <tr>\n",
              "      <th>4</th>\n",
              "      <td>1</td>\n",
              "      <td>24</td>\n",
              "      <td>6000</td>\n",
              "      <td>77</td>\n",
              "      <td>0</td>\n",
              "    </tr>\n",
              "  </tbody>\n",
              "</table>\n",
              "</div>"
            ],
            "text/plain": [
              "   months_since_last_donation  number_of_donations  total_volume_donated  \\\n",
              "0                           2                   50                 12500   \n",
              "1                           0                   13                  3250   \n",
              "2                           1                   16                  4000   \n",
              "3                           2                   20                  5000   \n",
              "4                           1                   24                  6000   \n",
              "\n",
              "   months_since_first_donation  made_donation_in_march_2007  \n",
              "0                           98                            1  \n",
              "1                           28                            1  \n",
              "2                           35                            1  \n",
              "3                           45                            1  \n",
              "4                           77                            0  "
            ]
          },
          "metadata": {
            "tags": []
          },
          "execution_count": 3
        }
      ]
    },
    {
      "metadata": {
        "id": "Tl5kCvaY8sSH",
        "colab_type": "code",
        "colab": {
          "base_uri": "https://localhost:8080/",
          "height": 52
        },
        "outputId": "efd2b8df-c5e7-4a22-8976-b448185df0eb"
      },
      "cell_type": "code",
      "source": [
        "print(type(df.made_donation_in_march_2007[0]))\n",
        "print(df.made_donation_in_march_2007[0])"
      ],
      "execution_count": 4,
      "outputs": [
        {
          "output_type": "stream",
          "text": [
            "<class 'numpy.int64'>\n",
            "1\n"
          ],
          "name": "stdout"
        }
      ]
    },
    {
      "metadata": {
        "id": "uP94kLFO3dCb",
        "colab_type": "text"
      },
      "cell_type": "markdown",
      "source": [
        "### This a classification problem so let's use Classification metrics\n",
        "\n",
        "first , establish a majority baseline using the mode value of the target feature : made_donation_in_march_2007"
      ]
    },
    {
      "metadata": {
        "id": "2QUXo9XZ3cax",
        "colab_type": "code",
        "colab": {
          "base_uri": "https://localhost:8080/",
          "height": 69
        },
        "outputId": "880457d3-0a31-4621-f8bf-c16a89f42b43"
      },
      "cell_type": "code",
      "source": [
        "df.made_donation_in_march_2007.value_counts(normalize=True)"
      ],
      "execution_count": 5,
      "outputs": [
        {
          "output_type": "execute_result",
          "data": {
            "text/plain": [
              "0    0.762032\n",
              "1    0.237968\n",
              "Name: made_donation_in_march_2007, dtype: float64"
            ]
          },
          "metadata": {
            "tags": []
          },
          "execution_count": 5
        }
      ]
    },
    {
      "metadata": {
        "id": "6a9RG4mH4wAK",
        "colab_type": "text"
      },
      "cell_type": "markdown",
      "source": [
        "majority class is 0 (no donation) No-donations were 76% and  donations were only 26%"
      ]
    },
    {
      "metadata": {
        "id": "IxKfgx4ycb3c",
        "colab_type": "text"
      },
      "cell_type": "markdown",
      "source": [
        "## Part 1.1 — Begin with baselines\n",
        "\n",
        "What **accuracy score** would you get here with a **\"majority class baseline\"?** \n",
        " \n",
        "(You don't need to split the data into train and test sets yet. You can answer this question either with a scikit-learn function or with a pandas function.)"
      ]
    },
    {
      "metadata": {
        "id": "V7O8Jkut6yq2",
        "colab_type": "code",
        "colab": {
          "base_uri": "https://localhost:8080/",
          "height": 35
        },
        "outputId": "ffe3e7a2-e977-466d-a1c6-2acf75b5c1ea"
      },
      "cell_type": "code",
      "source": [
        "majority_class = df.made_donation_in_march_2007.mode()[0]\n",
        "\n",
        "y_vals  = df.made_donation_in_march_2007\n",
        "y_vals.shape\n"
      ],
      "execution_count": 6,
      "outputs": [
        {
          "output_type": "execute_result",
          "data": {
            "text/plain": [
              "(748,)"
            ]
          },
          "metadata": {
            "tags": []
          },
          "execution_count": 6
        }
      ]
    },
    {
      "metadata": {
        "id": "ZTRw9gXD8jcu",
        "colab_type": "code",
        "colab": {}
      },
      "cell_type": "code",
      "source": [
        "y_pred = np.full(shape=y_vals.shape, fill_value=majority_class)"
      ],
      "execution_count": 0,
      "outputs": []
    },
    {
      "metadata": {
        "id": "qVrKJcU39qPm",
        "colab_type": "code",
        "colab": {
          "base_uri": "https://localhost:8080/",
          "height": 35
        },
        "outputId": "e1c631af-269a-4ea5-a39c-7e9d2cbc2357"
      },
      "cell_type": "code",
      "source": [
        "y_pred.shape"
      ],
      "execution_count": 8,
      "outputs": [
        {
          "output_type": "execute_result",
          "data": {
            "text/plain": [
              "(748,)"
            ]
          },
          "metadata": {
            "tags": []
          },
          "execution_count": 8
        }
      ]
    },
    {
      "metadata": {
        "id": "PgMQHZv353OP",
        "colab_type": "code",
        "colab": {
          "base_uri": "https://localhost:8080/",
          "height": 35
        },
        "outputId": "c83cf140-eb7d-414a-d0b5-b559ba915fc9"
      },
      "cell_type": "code",
      "source": [
        "from sklearn.metrics import accuracy_score\n",
        "print(\"ACCURACY SCORE =\",accuracy_score(y_vals, y_pred))"
      ],
      "execution_count": 9,
      "outputs": [
        {
          "output_type": "stream",
          "text": [
            "ACCURACY SCORE = 0.7620320855614974\n"
          ],
          "name": "stdout"
        }
      ]
    },
    {
      "metadata": {
        "id": "_KdxE1TrcriI",
        "colab_type": "text"
      },
      "cell_type": "markdown",
      "source": [
        "What **recall score** would you get here with a **majority class baseline?**\n",
        "\n",
        "(You can answer this question either with a scikit-learn function or with no code, just your understanding of recall.)\n"
      ]
    },
    {
      "metadata": {
        "id": "ILS0fN0Cctyc",
        "colab_type": "code",
        "colab": {
          "base_uri": "https://localhost:8080/",
          "height": 52
        },
        "outputId": "cb0c6cbc-4037-4905-9f55-efdb7ff98423"
      },
      "cell_type": "code",
      "source": [
        "from sklearn.metrics import confusion_matrix\n",
        "\n",
        "confusion_matrix(y_vals, y_pred)"
      ],
      "execution_count": 10,
      "outputs": [
        {
          "output_type": "execute_result",
          "data": {
            "text/plain": [
              "array([[570,   0],\n",
              "       [178,   0]])"
            ]
          },
          "metadata": {
            "tags": []
          },
          "execution_count": 10
        }
      ]
    },
    {
      "metadata": {
        "id": "6Q9q2HL9BOge",
        "colab_type": "code",
        "colab": {
          "base_uri": "https://localhost:8080/",
          "height": 35
        },
        "outputId": "6a7f5c56-33ed-4640-9ec6-73db8a6dc3a4"
      },
      "cell_type": "code",
      "source": [
        "0/178+0"
      ],
      "execution_count": 11,
      "outputs": [
        {
          "output_type": "execute_result",
          "data": {
            "text/plain": [
              "0.0"
            ]
          },
          "metadata": {
            "tags": []
          },
          "execution_count": 11
        }
      ]
    },
    {
      "metadata": {
        "id": "r5mM6dBX_DM-",
        "colab_type": "code",
        "colab": {
          "base_uri": "https://localhost:8080/",
          "height": 35
        },
        "outputId": "8cda31dc-9ef2-4205-b7c0-2af821cf49dd"
      },
      "cell_type": "code",
      "source": [
        "from sklearn.metrics import recall_score\n",
        "print('RECALL SCORE =',recall_score(y_vals, y_pred))"
      ],
      "execution_count": 12,
      "outputs": [
        {
          "output_type": "stream",
          "text": [
            "RECALL SCORE = 0.0\n"
          ],
          "name": "stdout"
        }
      ]
    },
    {
      "metadata": {
        "id": "xB8IjBBPVciy",
        "colab_type": "text"
      },
      "cell_type": "markdown",
      "source": [
        "** Recall score = 0.  Makes sense.  Recall is the True Positive rate.  SInce the majority class is zero(Negative) all predictions were set to 0 (all negative predictions).  With no 'postitve' predictions the True Positive rate is zero. **"
      ]
    },
    {
      "metadata": {
        "id": "L3f2vN3gNCYT",
        "colab_type": "text"
      },
      "cell_type": "markdown",
      "source": [
        "##  Engineer some new features"
      ]
    },
    {
      "metadata": {
        "id": "2EQxRuiiNBs4",
        "colab_type": "code",
        "colab": {}
      },
      "cell_type": "code",
      "source": [
        "# df['avg_donation']=(df.total_volume_donated / df.number_of_donations).astype(float)"
      ],
      "execution_count": 0,
      "outputs": []
    },
    {
      "metadata": {
        "id": "QqYNDtwKYhji",
        "colab_type": "text"
      },
      "cell_type": "markdown",
      "source": [
        "## Part 1.2 — Split data\n",
        "\n",
        "In this Sprint Challenge, you will use \"Cross-Validation with Independent Test Set\" for your model evaluation protocol.\n",
        "\n",
        "First, **split the data into `X_train, X_test, y_train, y_test`**, with random shuffle. (You can include 75% of the data in the train set, and hold out 25% for the test set.)\n"
      ]
    },
    {
      "metadata": {
        "id": "mPKf86yDYf0t",
        "colab_type": "code",
        "colab": {}
      },
      "cell_type": "code",
      "source": [
        "def train_validation_test_split(\n",
        "    X, y, train_size=0.8, val_size=0.1, test_size=0.1, \n",
        "    random_state=None, shuffle=True):\n",
        "        \n",
        "    assert train_size + val_size + test_size == 1\n",
        "    \n",
        "    X_train_val, X_test, y_train_val, y_test = train_test_split(\n",
        "        X, y, test_size=test_size, random_state=random_state, shuffle=shuffle)\n",
        "    \n",
        "    X_train, X_val, y_train, y_val = train_test_split(\n",
        "        X_train_val, y_train_val, test_size=val_size/(train_size+val_size), \n",
        "        random_state=random_state, shuffle=shuffle)\n",
        "    \n",
        "    return X_train, X_val, X_test, y_train, y_val, y_test"
      ],
      "execution_count": 0,
      "outputs": []
    },
    {
      "metadata": {
        "id": "0G0hJ3HsDMCM",
        "colab_type": "code",
        "colab": {
          "base_uri": "https://localhost:8080/",
          "height": 35
        },
        "outputId": "171d51d3-9105-40b4-ec8c-b80094813b0e"
      },
      "cell_type": "code",
      "source": [
        "X = df.drop(columns='made_donation_in_march_2007')\n",
        "y = df.made_donation_in_march_2007\n",
        "# Uses our custom train_validation_test_split function\n",
        "X_train, X_val, X_test, y_train, y_val, y_test = train_validation_test_split(\n",
        "    X, y, train_size=0.75, val_size=0.0, test_size=0.25, random_state=1)\n",
        "\n",
        "X_train.shape, X_test.shape, y_train.shape, y_test.shape\n",
        "\n"
      ],
      "execution_count": 15,
      "outputs": [
        {
          "output_type": "execute_result",
          "data": {
            "text/plain": [
              "((561, 4), (187, 4), (561,), (187,))"
            ]
          },
          "metadata": {
            "tags": []
          },
          "execution_count": 15
        }
      ]
    },
    {
      "metadata": {
        "id": "E_ATNJdqTCuZ",
        "colab_type": "text"
      },
      "cell_type": "markdown",
      "source": [
        "## Part 2.1 — Make a pipeline\n",
        "\n",
        "Make a **pipeline** which includes:\n",
        "- Preprocessing with any scikit-learn [**Scaler**](https://scikit-learn.org/stable/modules/classes.html#module-sklearn.preprocessing)\n",
        "- Feature selection with **[`SelectKBest`](https://scikit-learn.org/stable/modules/generated/sklearn.feature_selection.SelectKBest.html)([`f_classif`](https://scikit-learn.org/stable/modules/generated/sklearn.feature_selection.f_classif.html))**\n",
        "- Classification with [**`LogisticRegression`**](https://scikit-learn.org/stable/modules/generated/sklearn.linear_model.LogisticRegression.html)"
      ]
    },
    {
      "metadata": {
        "id": "8DRrVU5n5_Jw",
        "colab_type": "code",
        "colab": {}
      },
      "cell_type": "code",
      "source": [
        "pipe = make_pipeline(\n",
        "    RobustScaler(), \n",
        "    SelectKBest(f_classif), \n",
        "    LogisticRegression())\n"
      ],
      "execution_count": 0,
      "outputs": []
    },
    {
      "metadata": {
        "id": "5vRkQHatglMG",
        "colab_type": "text"
      },
      "cell_type": "markdown",
      "source": [
        "## Part 2.2 — Do Grid Search Cross-Validation\n",
        "\n",
        "Do [**GridSearchCV**](https://scikit-learn.org/stable/modules/generated/sklearn.model_selection.GridSearchCV.html) with your pipeline. Use **5 folds** and **recall score**.\n",
        "\n",
        "Include these **parameters for your grid:**\n",
        "\n",
        "#### `SelectKBest`\n",
        "- `k : 1, 2, 3, 4`\n",
        "\n",
        "#### `LogisticRegression`\n",
        "- `class_weight : None, 'balanced'`\n",
        "- `C : .0001, .001, .01, .1, 1.0, 10.0, 100.00, 1000.0, 10000.0`\n",
        "\n",
        "\n",
        "**Fit** on the appropriate data."
      ]
    },
    {
      "metadata": {
        "id": "wgN8kG0ogBMH",
        "colab_type": "code",
        "colab": {
          "base_uri": "https://localhost:8080/",
          "height": 280
        },
        "outputId": "bc5df6f3-f641-44e9-8c59-a8e37b178f0a"
      },
      "cell_type": "code",
      "source": [
        "param_grid = {\n",
        "    'selectkbest__k': [1,2,3,4], \n",
        "    'logisticregression__class_weight': [None, 'balanced'],\n",
        "    'logisticregression__solver': ['liblinear','lbfgs'],  #lbfgs\n",
        "    'logisticregression__C': [.0001, .001, .01, .1, 1.0, 10.0, 100.00, 1000.0, 10000.0]\n",
        "\n",
        "}\n",
        "\n",
        "# Fit on the train set   5-folds,  scoring=recall\n",
        "gs = GridSearchCV(pipe, param_grid=param_grid, cv=5, \n",
        "                  scoring='recall',       \n",
        "                  verbose=1)\n",
        "\n",
        "gs.fit(X_train, y_train)\n"
      ],
      "execution_count": 17,
      "outputs": [
        {
          "output_type": "stream",
          "text": [
            "Fitting 5 folds for each of 144 candidates, totalling 720 fits\n"
          ],
          "name": "stdout"
        },
        {
          "output_type": "stream",
          "text": [
            "[Parallel(n_jobs=1)]: Using backend SequentialBackend with 1 concurrent workers.\n",
            "[Parallel(n_jobs=1)]: Done 720 out of 720 | elapsed:    7.1s finished\n",
            "/usr/local/lib/python3.6/dist-packages/sklearn/model_selection/_search.py:841: DeprecationWarning: The default of the `iid` parameter will change from True to False in version 0.22 and will be removed in 0.24. This will change numeric results when test-set sizes are unequal.\n",
            "  DeprecationWarning)\n"
          ],
          "name": "stderr"
        },
        {
          "output_type": "execute_result",
          "data": {
            "text/plain": [
              "GridSearchCV(cv=5, error_score='raise-deprecating',\n",
              "       estimator=Pipeline(memory=None,\n",
              "     steps=[('robustscaler', RobustScaler(copy=True, quantile_range=(25.0, 75.0), with_centering=True,\n",
              "       with_scaling=True)), ('selectkbest', SelectKBest(k=10, score_func=<function f_classif at 0x7fd7c06c3158>)), ('logisticregression', LogisticRegression(C=1.0, class_weight=None, dual=False, fit_int...penalty='l2', random_state=None, solver='warn',\n",
              "          tol=0.0001, verbose=0, warm_start=False))]),\n",
              "       fit_params=None, iid='warn', n_jobs=None,\n",
              "       param_grid={'selectkbest__k': [1, 2, 3, 4], 'logisticregression__class_weight': [None, 'balanced'], 'logisticregression__solver': ['liblinear', 'lbfgs'], 'logisticregression__C': [0.0001, 0.001, 0.01, 0.1, 1.0, 10.0, 100.0, 1000.0, 10000.0]},\n",
              "       pre_dispatch='2*n_jobs', refit=True, return_train_score='warn',\n",
              "       scoring='recall', verbose=1)"
            ]
          },
          "metadata": {
            "tags": []
          },
          "execution_count": 17
        }
      ]
    },
    {
      "metadata": {
        "id": "urY_Wp3AiF83",
        "colab_type": "text"
      },
      "cell_type": "markdown",
      "source": [
        "## Part 3 — Show best score and parameters\n",
        "\n",
        "Display your **best cross-validation score**, and the **best parameters** (the values of `k, class_weight, C`) from the grid search.\n",
        "\n",
        "(You're not evaluated here on how good your score is, or which parameters you find. You're only evaluated on being able to display the information. There are several ways you can get the information, and any way is acceptable.)"
      ]
    },
    {
      "metadata": {
        "id": "qAxxkjG7gACP",
        "colab_type": "code",
        "colab": {
          "base_uri": "https://localhost:8080/",
          "height": 193
        },
        "outputId": "2a351aa6-cef8-4f3c-c7d3-0fa0fc228552"
      },
      "cell_type": "code",
      "source": [
        "validation_score = gs.best_score_\n",
        "print()\n",
        "print('Cross-Validation Score:', validation_score)\n",
        "print()\n",
        "print('Best estimator:', gs.best_estimator_)\n",
        "print()\n"
      ],
      "execution_count": 18,
      "outputs": [
        {
          "output_type": "stream",
          "text": [
            "\n",
            "Cross-Validation Score: 0.7809049773755656\n",
            "\n",
            "Best estimator: Pipeline(memory=None,\n",
            "     steps=[('robustscaler', RobustScaler(copy=True, quantile_range=(25.0, 75.0), with_centering=True,\n",
            "       with_scaling=True)), ('selectkbest', SelectKBest(k=4, score_func=<function f_classif at 0x7fd7c06c3158>)), ('logisticregression', LogisticRegression(C=0.01, class_weight='balanced', dual=False,\n",
            " ...ty='l2', random_state=None,\n",
            "          solver='liblinear', tol=0.0001, verbose=0, warm_start=False))])\n",
            "\n"
          ],
          "name": "stdout"
        }
      ]
    },
    {
      "metadata": {
        "id": "FuhEHpLsJOnZ",
        "colab_type": "code",
        "colab": {
          "base_uri": "https://localhost:8080/",
          "height": 173
        },
        "outputId": "ac6aa799-06c6-4dc4-e64d-c60dfcf3aabb"
      },
      "cell_type": "code",
      "source": [
        "# Which features were selected?\n",
        "selector = gs.best_estimator_.named_steps['selectkbest']\n",
        "all_names = X_train.columns\n",
        "selected_mask = selector.get_support()\n",
        "selected_names = all_names[selected_mask]\n",
        "unselected_names = all_names[~selected_mask]\n",
        "\n",
        "\n",
        "print('selectKbest Results\\n')\n",
        "print('Features selected:')\n",
        "for name in selected_names:\n",
        "    print(name)\n",
        "\n",
        "print()\n",
        "print('Features not selected:')\n",
        "for name in unselected_names:\n",
        "    print(name)"
      ],
      "execution_count": 19,
      "outputs": [
        {
          "output_type": "stream",
          "text": [
            "selectKbest Results\n",
            "\n",
            "Features selected:\n",
            "months_since_last_donation\n",
            "number_of_donations\n",
            "total_volume_donated\n",
            "months_since_first_donation\n",
            "\n",
            "Features not selected:\n"
          ],
          "name": "stdout"
        }
      ]
    },
    {
      "metadata": {
        "id": "fs1L9mCRUg2q",
        "colab_type": "text"
      },
      "cell_type": "markdown",
      "source": [
        "### Final evaluation on the test set"
      ]
    },
    {
      "metadata": {
        "id": "g8SyWFC7NYqJ",
        "colab_type": "code",
        "colab": {
          "base_uri": "https://localhost:8080/",
          "height": 35
        },
        "outputId": "764342bf-395d-43b4-926b-d12ff6078de7"
      },
      "cell_type": "code",
      "source": [
        "# use GridSearchCV.score method, \n",
        "test_score = gs.score(X_test, y_test)\n",
        "print('Test Score:', test_score)"
      ],
      "execution_count": 20,
      "outputs": [
        {
          "output_type": "stream",
          "text": [
            "Test Score: 0.82\n"
          ],
          "name": "stdout"
        }
      ]
    },
    {
      "metadata": {
        "id": "jkyHoRIbEgRR",
        "colab_type": "text"
      },
      "cell_type": "markdown",
      "source": [
        "## Part 4 — Calculate classification metrics from a confusion matrix\n",
        "\n",
        "Suppose this is the confusion matrix for your binary classification model:\n",
        "\n",
        "<table>\n",
        "  <tr>\n",
        "    <th colspan=\"2\" rowspan=\"2\"></th>\n",
        "    <th colspan=\"2\">Predicted</th>\n",
        "  </tr>\n",
        "  <tr>\n",
        "    <th>Negative</th>\n",
        "    <th>Positive</th>\n",
        "  </tr>\n",
        "  <tr>\n",
        "    <th rowspan=\"2\">Actual</th>\n",
        "    <th>Negative</th>\n",
        "    <td>85</td>\n",
        "    <td>58</td>\n",
        "  </tr>\n",
        "  <tr>\n",
        "    <th>Positive</th>\n",
        "    <td>8</td>\n",
        "    <td>36</td>\n",
        "  </tr>\n",
        "</table>"
      ]
    },
    {
      "metadata": {
        "id": "LhyMM5H-JpVB",
        "colab_type": "text"
      },
      "cell_type": "markdown",
      "source": [
        "Calculate accuracy"
      ]
    },
    {
      "metadata": {
        "id": "TZPwqdh2KUcB",
        "colab_type": "code",
        "colab": {
          "base_uri": "https://localhost:8080/",
          "height": 35
        },
        "outputId": "0324f5ae-dc4e-4ea5-d1bb-4da414bddd91"
      },
      "cell_type": "code",
      "source": [
        "(85+36)/(85+58+8+36)"
      ],
      "execution_count": 21,
      "outputs": [
        {
          "output_type": "execute_result",
          "data": {
            "text/plain": [
              "0.6470588235294118"
            ]
          },
          "metadata": {
            "tags": []
          },
          "execution_count": 21
        }
      ]
    },
    {
      "metadata": {
        "id": "BRWLfGcGKeQw",
        "colab_type": "text"
      },
      "cell_type": "markdown",
      "source": [
        "Calculate precision"
      ]
    },
    {
      "metadata": {
        "id": "A-FEZ4i_Kf_n",
        "colab_type": "code",
        "colab": {
          "base_uri": "https://localhost:8080/",
          "height": 35
        },
        "outputId": "75000591-18e8-472f-be06-1054ff936a51"
      },
      "cell_type": "code",
      "source": [
        "36/(36+58)"
      ],
      "execution_count": 22,
      "outputs": [
        {
          "output_type": "execute_result",
          "data": {
            "text/plain": [
              "0.3829787234042553"
            ]
          },
          "metadata": {
            "tags": []
          },
          "execution_count": 22
        }
      ]
    },
    {
      "metadata": {
        "id": "h_mH2NYDKi2C",
        "colab_type": "text"
      },
      "cell_type": "markdown",
      "source": [
        "Calculate recall  - True Positive Rate"
      ]
    },
    {
      "metadata": {
        "id": "U4_wJGyjKkXJ",
        "colab_type": "code",
        "colab": {
          "base_uri": "https://localhost:8080/",
          "height": 35
        },
        "outputId": "9578e690-5652-40d4-a691-cb77ccf975b7"
      },
      "cell_type": "code",
      "source": [
        "36 / (36+8)"
      ],
      "execution_count": 23,
      "outputs": [
        {
          "output_type": "execute_result",
          "data": {
            "text/plain": [
              "0.8181818181818182"
            ]
          },
          "metadata": {
            "tags": []
          },
          "execution_count": 23
        }
      ]
    },
    {
      "metadata": {
        "id": "ndVME1nBRoy6",
        "colab_type": "text"
      },
      "cell_type": "markdown",
      "source": [
        "F1 score = 2 x (recall x precision) / (recall+precision)"
      ]
    },
    {
      "metadata": {
        "id": "XdOAu9tFRnuR",
        "colab_type": "code",
        "colab": {
          "base_uri": "https://localhost:8080/",
          "height": 35
        },
        "outputId": "48966d04-c094-45d1-c3e8-27f52b667d4f"
      },
      "cell_type": "code",
      "source": [
        "2*((.81*.38) / (.81+.38))"
      ],
      "execution_count": 24,
      "outputs": [
        {
          "output_type": "execute_result",
          "data": {
            "text/plain": [
              "0.5173109243697479"
            ]
          },
          "metadata": {
            "tags": []
          },
          "execution_count": 24
        }
      ]
    },
    {
      "metadata": {
        "id": "-RCm9rH_SrM5",
        "colab_type": "text"
      },
      "cell_type": "markdown",
      "source": [
        "True Negative Rate   =  # true Negatives / ( # true negatives + #false Positives)"
      ]
    },
    {
      "metadata": {
        "id": "4gfdZh7cS8dH",
        "colab_type": "code",
        "colab": {
          "base_uri": "https://localhost:8080/",
          "height": 35
        },
        "outputId": "a38f3663-d6d2-4f1c-f0bb-09d478cbeac5"
      },
      "cell_type": "code",
      "source": [
        "85 / (85+58)"
      ],
      "execution_count": 25,
      "outputs": [
        {
          "output_type": "execute_result",
          "data": {
            "text/plain": [
              "0.5944055944055944"
            ]
          },
          "metadata": {
            "tags": []
          },
          "execution_count": 25
        }
      ]
    },
    {
      "metadata": {
        "id": "9KEaWsk5Kk9W",
        "colab_type": "text"
      },
      "cell_type": "markdown",
      "source": [
        "## BONUS — How you can earn a score of 3\n",
        "\n",
        "### Part 1\n",
        "Do feature engineering, to try improving your cross-validation score.\n",
        "\n",
        "### Part 2\n",
        "Add transformations in your pipeline and parameters in your grid, to try improving your cross-validation score.\n",
        "\n",
        "### Part 3\n",
        "Show names of selected features. Then do a final evaluation on the test set — what is the test score?\n",
        "\n",
        "### Part 4\n",
        "Calculate F1 score and False Positive Rate. "
      ]
    }
  ]
}