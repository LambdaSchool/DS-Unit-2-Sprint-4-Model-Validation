{
  "nbformat": 4,
  "nbformat_minor": 0,
  "metadata": {
    "colab": {
      "name": "DS_Unit_2_Sprint_Challenge_4_Model_Validation.ipynb",
      "version": "0.3.2",
      "provenance": [],
      "collapsed_sections": [],
      "include_colab_link": true
    },
    "kernelspec": {
      "name": "python3",
      "display_name": "Python 3"
    }
  },
  "cells": [
    {
      "cell_type": "markdown",
      "metadata": {
        "id": "view-in-github",
        "colab_type": "text"
      },
      "source": [
        "<a href=\"https://colab.research.google.com/github/cocoisland/DS-Unit-2-Sprint-4-Model-Validation/blob/master/DS_Unit_2_Sprint_Challenge_4_Model_Validation.ipynb\" target=\"_parent\"><img src=\"https://colab.research.google.com/assets/colab-badge.svg\" alt=\"Open In Colab\"/></a>"
      ]
    },
    {
      "metadata": {
        "id": "PC9RfopIWrc9",
        "colab_type": "text"
      },
      "cell_type": "markdown",
      "source": [
        " # Data Science Unit 2 Sprint Challenge 4 — Model Validation"
      ]
    },
    {
      "metadata": {
        "id": "UV7ArLFQN84W",
        "colab_type": "text"
      },
      "cell_type": "markdown",
      "source": [
        "Follow the instructions for each numbered part to earn a score of 2. See the bottom of the notebook for a list of ways you can earn a score of 3."
      ]
    },
    {
      "metadata": {
        "id": "bAZcbTtiUlkI",
        "colab_type": "text"
      },
      "cell_type": "markdown",
      "source": [
        "## Predicting Blood Donations\n",
        "\n",
        "Our dataset is from a mobile blood donation vehicle in Taiwan. The Blood Transfusion Service Center drives to different universities and collects blood as part of a blood drive.\n",
        "\n",
        "The goal is to predict the last column, whether the donor made a donation in March 2007, using information about each donor's history. We'll measure success using recall score as the model evaluation metric.\n",
        "\n",
        "Good data-driven systems for tracking and predicting donations and supply needs can improve the entire supply chain, making sure that more patients get the blood transfusions they need.\n",
        "\n",
        "#### Run this cell to load the data:"
      ]
    },
    {
      "metadata": {
        "id": "gvV9VORbxyvu",
        "colab_type": "code",
        "colab": {}
      },
      "cell_type": "code",
      "source": [
        "import pandas as pd\n",
        "\n",
        "df = pd.read_csv('https://archive.ics.uci.edu/ml/machine-learning-databases/blood-transfusion/transfusion.data')\n",
        "\n",
        "df = df.rename(columns={\n",
        "    'Recency (months)': 'months_since_last_donation', \n",
        "    'Frequency (times)': 'number_of_donations', \n",
        "    'Monetary (c.c. blood)': 'total_volume_donated', \n",
        "    'Time (months)': 'months_since_first_donation', \n",
        "    'whether he/she donated blood in March 2007': 'made_donation_in_march_2007'\n",
        "})"
      ],
      "execution_count": 0,
      "outputs": []
    },
    {
      "metadata": {
        "id": "IxKfgx4ycb3c",
        "colab_type": "text"
      },
      "cell_type": "markdown",
      "source": [
        "## Part 1.1 — Begin with baselines\n",
        "\n",
        "What **accuracy score** would you get here with a **\"majority class baseline\"?** \n",
        " \n",
        "(You don't need to split the data into train and test sets yet. You can answer this question either with a scikit-learn function or with a pandas function.)"
      ]
    },
    {
      "metadata": {
        "id": "OwBcEhHG7N-9",
        "colab_type": "code",
        "colab": {
          "base_uri": "https://localhost:8080/",
          "height": 86
        },
        "outputId": "eab68eda-bddf-44ea-cea7-3d9bbd1fd960"
      },
      "cell_type": "code",
      "source": [
        "df.columns"
      ],
      "execution_count": 41,
      "outputs": [
        {
          "output_type": "execute_result",
          "data": {
            "text/plain": [
              "Index(['months_since_last_donation', 'number_of_donations',\n",
              "       'total_volume_donated', 'months_since_first_donation',\n",
              "       'made_donation_in_march_2007'],\n",
              "      dtype='object')"
            ]
          },
          "metadata": {
            "tags": []
          },
          "execution_count": 41
        }
      ]
    },
    {
      "metadata": {
        "id": "H_t_v3Yl7w5M",
        "colab_type": "code",
        "colab": {
          "base_uri": "https://localhost:8080/",
          "height": 34
        },
        "outputId": "6e45457a-c4da-4d10-f002-1cde2465f161"
      },
      "cell_type": "code",
      "source": [
        "# numpy method\n",
        "import numpy as np\n",
        "majority_class = df['made_donation_in_march_2007'].mode()[0]\n",
        "y_pred = np.full(shape=df['made_donation_in_march_2007'].shape, fill_value=majority_class)\n",
        "df['made_donation_in_march_2007'].shape, y_pred.shape"
      ],
      "execution_count": 42,
      "outputs": [
        {
          "output_type": "execute_result",
          "data": {
            "text/plain": [
              "((748,), (748,))"
            ]
          },
          "metadata": {
            "tags": []
          },
          "execution_count": 42
        }
      ]
    },
    {
      "metadata": {
        "id": "Zjv73gLs9GnD",
        "colab_type": "code",
        "colab": {
          "base_uri": "https://localhost:8080/",
          "height": 34
        },
        "outputId": "40b5c3cd-ce50-4db8-8aa2-b4d3d491e687"
      },
      "cell_type": "code",
      "source": [
        "# majority class baseline\n",
        "from sklearn.metrics import accuracy_score\n",
        "accuracy_score(df['made_donation_in_march_2007'], y_pred)"
      ],
      "execution_count": 43,
      "outputs": [
        {
          "output_type": "execute_result",
          "data": {
            "text/plain": [
              "0.7620320855614974"
            ]
          },
          "metadata": {
            "tags": []
          },
          "execution_count": 43
        }
      ]
    },
    {
      "metadata": {
        "id": "53HdAsD-Olgq",
        "colab_type": "code",
        "colab": {
          "base_uri": "https://localhost:8080/",
          "height": 68
        },
        "outputId": "749da7a2-c9ab-4b9a-8706-4b5218f85133"
      },
      "cell_type": "code",
      "source": [
        "# pandas function method\n",
        "df.made_donation_in_march_2007.value_counts(normalize=True)"
      ],
      "execution_count": 44,
      "outputs": [
        {
          "output_type": "execute_result",
          "data": {
            "text/plain": [
              "0    0.762032\n",
              "1    0.237968\n",
              "Name: made_donation_in_march_2007, dtype: float64"
            ]
          },
          "metadata": {
            "tags": []
          },
          "execution_count": 44
        }
      ]
    },
    {
      "metadata": {
        "id": "qiCBkeGIOxZS",
        "colab_type": "code",
        "colab": {
          "base_uri": "https://localhost:8080/",
          "height": 34
        },
        "outputId": "9e79cbe3-53a7-47e6-fc0d-d6e68ac15c83"
      },
      "cell_type": "code",
      "source": [
        "# pandas method 2\n",
        "1 - df.made_donation_in_march_2007.mean()"
      ],
      "execution_count": 45,
      "outputs": [
        {
          "output_type": "execute_result",
          "data": {
            "text/plain": [
              "0.7620320855614973"
            ]
          },
          "metadata": {
            "tags": []
          },
          "execution_count": 45
        }
      ]
    },
    {
      "metadata": {
        "id": "_KdxE1TrcriI",
        "colab_type": "text"
      },
      "cell_type": "markdown",
      "source": [
        "What **recall score** would you get here with a **majority class baseline?**\n",
        "\n",
        "(You can answer this question either with a scikit-learn function or with no code, just your understanding of recall.)"
      ]
    },
    {
      "metadata": {
        "id": "khSKvAWI9931",
        "colab_type": "text"
      },
      "cell_type": "markdown",
      "source": [
        "###Recall for majority class baseline :  Zero relevant(donor who return) are selected.\n",
        "\n",
        "###Recall = 0/(0+0) = 0\n",
        "\n",
        "###Zero is the majority class label. Majority (76%) donors did not return.\n"
      ]
    },
    {
      "metadata": {
        "id": "ILS0fN0Cctyc",
        "colab_type": "code",
        "colab": {
          "base_uri": "https://localhost:8080/",
          "height": 226
        },
        "outputId": "c980f3e2-6c10-4a32-b888-ba124cf05c8e"
      },
      "cell_type": "code",
      "source": [
        "from sklearn.metrics import classification_report\n",
        "print(classification_report(df['made_donation_in_march_2007'], y_pred))"
      ],
      "execution_count": 46,
      "outputs": [
        {
          "output_type": "stream",
          "text": [
            "              precision    recall  f1-score   support\n",
            "\n",
            "           0       0.76      1.00      0.86       570\n",
            "           1       0.00      0.00      0.00       178\n",
            "\n",
            "   micro avg       0.76      0.76      0.76       748\n",
            "   macro avg       0.38      0.50      0.43       748\n",
            "weighted avg       0.58      0.76      0.66       748\n",
            "\n"
          ],
          "name": "stdout"
        },
        {
          "output_type": "stream",
          "text": [
            "/usr/local/lib/python3.6/dist-packages/sklearn/metrics/classification.py:1143: UndefinedMetricWarning: Precision and F-score are ill-defined and being set to 0.0 in labels with no predicted samples.\n",
            "  'precision', 'predicted', average, warn_for)\n"
          ],
          "name": "stderr"
        }
      ]
    },
    {
      "metadata": {
        "id": "QqYNDtwKYhji",
        "colab_type": "text"
      },
      "cell_type": "markdown",
      "source": [
        "## Part 1.2 — Split data\n",
        "\n",
        "In this Sprint Challenge, you will use \"Cross-Validation with Independent Test Set\" for your model evaluation protocol.\n",
        "\n",
        "First, **split the data into `X_train, X_test, y_train, y_test`**, with random shuffle. (You can include 75% of the data in the train set, and hold out 25% for the test set.)\n"
      ]
    },
    {
      "metadata": {
        "id": "mPKf86yDYf0t",
        "colab_type": "code",
        "colab": {}
      },
      "cell_type": "code",
      "source": [
        "# Small dataset - two ways split\n",
        "from sklearn.model_selection import train_test_split\n",
        "\n",
        "X=df.drop('made_donation_in_march_2007', axis=1)\n",
        "y=df['made_donation_in_march_2007']\n",
        "\n",
        "X_train, X_test, y_train, y_test = train_test_split(\n",
        "        X, y, test_size=0.25, random_state=42, shuffle=True)\n",
        "\n"
      ],
      "execution_count": 0,
      "outputs": []
    },
    {
      "metadata": {
        "id": "uiIrHOJ4FdBA",
        "colab_type": "code",
        "colab": {
          "base_uri": "https://localhost:8080/",
          "height": 138
        },
        "outputId": "50750bf2-19b9-486c-bdbb-1a4d3d89be66"
      },
      "cell_type": "code",
      "source": [
        "from sklearn.linear_model import LogisticRegression\n",
        "from sklearn.model_selection import cross_validate\n",
        "\n",
        "scores = cross_validate(LogisticRegression(solver='lbfgs'), X_train, y_train, \n",
        "                        scoring='accuracy', cv=3, \n",
        "                        return_train_score=True, return_estimator=True)\n",
        "\n",
        "pd.DataFrame(scores)"
      ],
      "execution_count": 30,
      "outputs": [
        {
          "output_type": "execute_result",
          "data": {
            "text/html": [
              "<div>\n",
              "<style scoped>\n",
              "    .dataframe tbody tr th:only-of-type {\n",
              "        vertical-align: middle;\n",
              "    }\n",
              "\n",
              "    .dataframe tbody tr th {\n",
              "        vertical-align: top;\n",
              "    }\n",
              "\n",
              "    .dataframe thead th {\n",
              "        text-align: right;\n",
              "    }\n",
              "</style>\n",
              "<table border=\"1\" class=\"dataframe\">\n",
              "  <thead>\n",
              "    <tr style=\"text-align: right;\">\n",
              "      <th></th>\n",
              "      <th>estimator</th>\n",
              "      <th>fit_time</th>\n",
              "      <th>score_time</th>\n",
              "      <th>test_score</th>\n",
              "      <th>train_score</th>\n",
              "    </tr>\n",
              "  </thead>\n",
              "  <tbody>\n",
              "    <tr>\n",
              "      <th>0</th>\n",
              "      <td>LogisticRegression(C=1.0, class_weight=None, d...</td>\n",
              "      <td>0.010339</td>\n",
              "      <td>0.000881</td>\n",
              "      <td>0.776596</td>\n",
              "      <td>0.809651</td>\n",
              "    </tr>\n",
              "    <tr>\n",
              "      <th>1</th>\n",
              "      <td>LogisticRegression(C=1.0, class_weight=None, d...</td>\n",
              "      <td>0.011038</td>\n",
              "      <td>0.000858</td>\n",
              "      <td>0.780749</td>\n",
              "      <td>0.775401</td>\n",
              "    </tr>\n",
              "    <tr>\n",
              "      <th>2</th>\n",
              "      <td>LogisticRegression(C=1.0, class_weight=None, d...</td>\n",
              "      <td>0.010003</td>\n",
              "      <td>0.000772</td>\n",
              "      <td>0.795699</td>\n",
              "      <td>0.776000</td>\n",
              "    </tr>\n",
              "  </tbody>\n",
              "</table>\n",
              "</div>"
            ],
            "text/plain": [
              "                                           estimator  fit_time  score_time  \\\n",
              "0  LogisticRegression(C=1.0, class_weight=None, d...  0.010339    0.000881   \n",
              "1  LogisticRegression(C=1.0, class_weight=None, d...  0.011038    0.000858   \n",
              "2  LogisticRegression(C=1.0, class_weight=None, d...  0.010003    0.000772   \n",
              "\n",
              "   test_score  train_score  \n",
              "0    0.776596     0.809651  \n",
              "1    0.780749     0.775401  \n",
              "2    0.795699     0.776000  "
            ]
          },
          "metadata": {
            "tags": []
          },
          "execution_count": 30
        }
      ]
    },
    {
      "metadata": {
        "id": "E_ATNJdqTCuZ",
        "colab_type": "text"
      },
      "cell_type": "markdown",
      "source": [
        "## Part 2.1 — Make a pipeline\n",
        "\n",
        "Make a **pipeline** which includes:\n",
        "- Preprocessing with any scikit-learn [**Scaler**](https://scikit-learn.org/stable/modules/classes.html#module-sklearn.preprocessing)\n",
        "- Feature selection with **[`SelectKBest`](https://scikit-learn.org/stable/modules/generated/sklearn.feature_selection.SelectKBest.html)([`f_classif`](https://scikit-learn.org/stable/modules/generated/sklearn.feature_selection.f_classif.html))**\n",
        "- Classification with [**`LogisticRegression`**](https://scikit-learn.org/stable/modules/generated/sklearn.linear_model.LogisticRegression.html)"
      ]
    },
    {
      "metadata": {
        "id": "8DRrVU5n5_Jw",
        "colab_type": "code",
        "colab": {}
      },
      "cell_type": "code",
      "source": [
        "from sklearn.pipeline import make_pipeline\n",
        "from sklearn.preprocessing import StandardScaler\n",
        "from sklearn.feature_selection import f_classif, SelectKBest\n",
        "\n",
        "pipe = make_pipeline(\n",
        "    StandardScaler(), \n",
        "    SelectKBest(f_classif), \n",
        "    LogisticRegression())\n"
      ],
      "execution_count": 0,
      "outputs": []
    },
    {
      "metadata": {
        "id": "5vRkQHatglMG",
        "colab_type": "text"
      },
      "cell_type": "markdown",
      "source": [
        "## Part 2.2 — Do Grid Search Cross-Validation\n",
        "\n",
        "Do [**GridSearchCV**](https://scikit-learn.org/stable/modules/generated/sklearn.model_selection.GridSearchCV.html) with your pipeline. Use **5 folds** and **recall score**.\n",
        "\n",
        "Include these **parameters for your grid:**\n",
        "\n",
        "#### `SelectKBest`\n",
        "- `k : 1, 2, 3, 4`\n",
        "\n",
        "#### `LogisticRegression`\n",
        "- `class_weight : None, 'balanced'`\n",
        "- `C : .0001, .001, .01, .1, 1.0, 10.0, 100.00, 1000.0, 10000.0`\n",
        "\n",
        "\n",
        "**Fit** on the appropriate data."
      ]
    },
    {
      "metadata": {
        "id": "wgN8kG0ogBMH",
        "colab_type": "code",
        "colab": {
          "base_uri": "https://localhost:8080/",
          "height": 208
        },
        "outputId": "64d926c2-3ab9-4cf2-a09f-1b03319968bd"
      },
      "cell_type": "code",
      "source": [
        "from sklearn.metrics import recall_score\n",
        "from sklearn.metrics import precision_score\n",
        "from sklearn.metrics.scorer import make_scorer\n",
        "from sklearn.model_selection import GridSearchCV\n",
        "import warnings\n",
        "from sklearn.exceptions import DataConversionWarning\n",
        "\n",
        "warnings.filterwarnings(action='ignore', category=FutureWarning)\n",
        "warnings.filterwarnings(action='ignore', category=DataConversionWarning)\n",
        "#df=df.astype('float64')\n",
        "\n",
        "param_grid = {\n",
        "    'selectkbest__k': [1,2,3,4],\n",
        "    'logisticregression__class_weight': [None,'balanced'],\n",
        "    'logisticregression__C': [.0001, .001, .01, .1, 1.0, 10.0, 100.00, 1000.0, 10000.0]\n",
        "    \n",
        "}\n",
        "\n",
        "recall_scorer = make_scorer(recall_score)\n",
        "precision_scorer = make_scorer(precision_score)\n",
        "\n",
        "gs = GridSearchCV(pipe, param_grid=param_grid, cv=5, \n",
        "                  #scoring= 'recall',\n",
        "                  scoring=recall_scorer,\n",
        "                  return_train_score=True,\n",
        "                  verbose=0)\n",
        "\n",
        "gs.fit(X_train, y_train)"
      ],
      "execution_count": 49,
      "outputs": [
        {
          "output_type": "execute_result",
          "data": {
            "text/plain": [
              "GridSearchCV(cv=5, error_score='raise-deprecating',\n",
              "       estimator=Pipeline(memory=None,\n",
              "     steps=[('standardscaler', StandardScaler(copy=True, with_mean=True, with_std=True)), ('selectkbest', SelectKBest(k=10, score_func=<function f_classif at 0x7f239d0f6840>)), ('logisticregression', LogisticRegression(C=1.0, class_weight=None, dual=False, fit_intercept=True,\n",
              "          intercept_scaling=1, max_iter=100, multi_class='warn',\n",
              "          n_jobs=None, penalty='l2', random_state=None, solver='warn',\n",
              "          tol=0.0001, verbose=0, warm_start=False))]),\n",
              "       fit_params=None, iid='warn', n_jobs=None,\n",
              "       param_grid={'selectkbest__k': [1, 2, 3, 4], 'logisticregression__class_weight': [None, 'balanced'], 'logisticregression__C': [0.0001, 0.001, 0.01, 0.1, 1.0, 10.0, 100.0, 1000.0, 10000.0]},\n",
              "       pre_dispatch='2*n_jobs', refit=True, return_train_score=True,\n",
              "       scoring=make_scorer(recall_score), verbose=0)"
            ]
          },
          "metadata": {
            "tags": []
          },
          "execution_count": 49
        }
      ]
    },
    {
      "metadata": {
        "id": "urY_Wp3AiF83",
        "colab_type": "text"
      },
      "cell_type": "markdown",
      "source": [
        "## Part 3 — Show best score and parameters\n",
        "\n",
        "Display your **best cross-validation score**, and the **best parameters** (the values of `k, class_weight, C`) from the grid search.\n",
        "\n",
        "(You're not evaluated here on how good your score is, or which parameters you find. You're only evaluated on being able to display the information. There are several ways you can get the information, and any way is acceptable.)"
      ]
    },
    {
      "metadata": {
        "id": "qAxxkjG7gACP",
        "colab_type": "code",
        "colab": {
          "base_uri": "https://localhost:8080/",
          "height": 226
        },
        "outputId": "cc1c3fbd-6c58-490b-bfac-576d07cb01ac"
      },
      "cell_type": "code",
      "source": [
        "validation_score = gs.best_score_\n",
        "print()\n",
        "print(' Best validation Recall Score:', validation_score)\n",
        "print()\n",
        "print('Best paramter:', gs.best_params_)\n",
        "print()\n",
        "print('Best estimator:', gs.best_estimator_)\n",
        "print()"
      ],
      "execution_count": 50,
      "outputs": [
        {
          "output_type": "stream",
          "text": [
            "\n",
            " Best validation Recall Score: 0.8152337858220211\n",
            "\n",
            "Best paramter: {'logisticregression__C': 0.0001, 'logisticregression__class_weight': 'balanced', 'selectkbest__k': 2}\n",
            "\n",
            "Best estimator: Pipeline(memory=None,\n",
            "     steps=[('standardscaler', StandardScaler(copy=True, with_mean=True, with_std=True)), ('selectkbest', SelectKBest(k=2, score_func=<function f_classif at 0x7f239d0f6840>)), ('logisticregression', LogisticRegression(C=0.0001, class_weight='balanced', dual=False,\n",
            "          fit_intercept=True, intercept_scaling=1, max_iter=100,\n",
            "          multi_class='warn', n_jobs=None, penalty='l2', random_state=None,\n",
            "          solver='warn', tol=0.0001, verbose=0, warm_start=False))])\n",
            "\n"
          ],
          "name": "stdout"
        }
      ]
    },
    {
      "metadata": {
        "id": "KIRPlV2SZafS",
        "colab_type": "code",
        "colab": {
          "base_uri": "https://localhost:8080/",
          "height": 350
        },
        "outputId": "e49ca5df-44a7-460f-a524-d73f019929c1"
      },
      "cell_type": "code",
      "source": [
        "results = pd.DataFrame(gs.cv_results_)\n",
        "print(f'Best result from grid search of {len(results)} parameter combinations')\n",
        "results.sort_values(by='rank_test_score').head()"
      ],
      "execution_count": 51,
      "outputs": [
        {
          "output_type": "stream",
          "text": [
            "Best result from grid search of 72 parameter combinations\n"
          ],
          "name": "stdout"
        },
        {
          "output_type": "execute_result",
          "data": {
            "text/html": [
              "<div>\n",
              "<style scoped>\n",
              "    .dataframe tbody tr th:only-of-type {\n",
              "        vertical-align: middle;\n",
              "    }\n",
              "\n",
              "    .dataframe tbody tr th {\n",
              "        vertical-align: top;\n",
              "    }\n",
              "\n",
              "    .dataframe thead th {\n",
              "        text-align: right;\n",
              "    }\n",
              "</style>\n",
              "<table border=\"1\" class=\"dataframe\">\n",
              "  <thead>\n",
              "    <tr style=\"text-align: right;\">\n",
              "      <th></th>\n",
              "      <th>mean_fit_time</th>\n",
              "      <th>mean_score_time</th>\n",
              "      <th>mean_test_score</th>\n",
              "      <th>mean_train_score</th>\n",
              "      <th>param_logisticregression__C</th>\n",
              "      <th>param_logisticregression__class_weight</th>\n",
              "      <th>param_selectkbest__k</th>\n",
              "      <th>params</th>\n",
              "      <th>rank_test_score</th>\n",
              "      <th>split0_test_score</th>\n",
              "      <th>...</th>\n",
              "      <th>split2_test_score</th>\n",
              "      <th>split2_train_score</th>\n",
              "      <th>split3_test_score</th>\n",
              "      <th>split3_train_score</th>\n",
              "      <th>split4_test_score</th>\n",
              "      <th>split4_train_score</th>\n",
              "      <th>std_fit_time</th>\n",
              "      <th>std_score_time</th>\n",
              "      <th>std_test_score</th>\n",
              "      <th>std_train_score</th>\n",
              "    </tr>\n",
              "  </thead>\n",
              "  <tbody>\n",
              "    <tr>\n",
              "      <th>13</th>\n",
              "      <td>0.003388</td>\n",
              "      <td>0.001312</td>\n",
              "      <td>0.815234</td>\n",
              "      <td>0.817308</td>\n",
              "      <td>0.001</td>\n",
              "      <td>balanced</td>\n",
              "      <td>2</td>\n",
              "      <td>{'logisticregression__C': 0.001, 'logisticregr...</td>\n",
              "      <td>1</td>\n",
              "      <td>0.730769</td>\n",
              "      <td>...</td>\n",
              "      <td>0.884615</td>\n",
              "      <td>0.798077</td>\n",
              "      <td>0.884615</td>\n",
              "      <td>0.798077</td>\n",
              "      <td>0.884615</td>\n",
              "      <td>0.807692</td>\n",
              "      <td>0.000035</td>\n",
              "      <td>0.000016</td>\n",
              "      <td>0.085656</td>\n",
              "      <td>0.020169</td>\n",
              "    </tr>\n",
              "    <tr>\n",
              "      <th>5</th>\n",
              "      <td>0.003356</td>\n",
              "      <td>0.001336</td>\n",
              "      <td>0.815234</td>\n",
              "      <td>0.821154</td>\n",
              "      <td>0.0001</td>\n",
              "      <td>balanced</td>\n",
              "      <td>2</td>\n",
              "      <td>{'logisticregression__C': 0.0001, 'logisticreg...</td>\n",
              "      <td>1</td>\n",
              "      <td>0.730769</td>\n",
              "      <td>...</td>\n",
              "      <td>0.884615</td>\n",
              "      <td>0.798077</td>\n",
              "      <td>0.884615</td>\n",
              "      <td>0.807692</td>\n",
              "      <td>0.884615</td>\n",
              "      <td>0.817308</td>\n",
              "      <td>0.000133</td>\n",
              "      <td>0.000014</td>\n",
              "      <td>0.085656</td>\n",
              "      <td>0.017834</td>\n",
              "    </tr>\n",
              "    <tr>\n",
              "      <th>21</th>\n",
              "      <td>0.003345</td>\n",
              "      <td>0.001314</td>\n",
              "      <td>0.799877</td>\n",
              "      <td>0.798077</td>\n",
              "      <td>0.01</td>\n",
              "      <td>balanced</td>\n",
              "      <td>2</td>\n",
              "      <td>{'logisticregression__C': 0.01, 'logisticregre...</td>\n",
              "      <td>3</td>\n",
              "      <td>0.730769</td>\n",
              "      <td>...</td>\n",
              "      <td>0.884615</td>\n",
              "      <td>0.778846</td>\n",
              "      <td>0.846154</td>\n",
              "      <td>0.788462</td>\n",
              "      <td>0.846154</td>\n",
              "      <td>0.788462</td>\n",
              "      <td>0.000044</td>\n",
              "      <td>0.000009</td>\n",
              "      <td>0.074570</td>\n",
              "      <td>0.017201</td>\n",
              "    </tr>\n",
              "    <tr>\n",
              "      <th>12</th>\n",
              "      <td>0.003483</td>\n",
              "      <td>0.001242</td>\n",
              "      <td>0.799877</td>\n",
              "      <td>0.800000</td>\n",
              "      <td>0.001</td>\n",
              "      <td>balanced</td>\n",
              "      <td>1</td>\n",
              "      <td>{'logisticregression__C': 0.001, 'logisticregr...</td>\n",
              "      <td>3</td>\n",
              "      <td>0.730769</td>\n",
              "      <td>...</td>\n",
              "      <td>0.923077</td>\n",
              "      <td>0.769231</td>\n",
              "      <td>0.884615</td>\n",
              "      <td>0.778846</td>\n",
              "      <td>0.807692</td>\n",
              "      <td>0.798077</td>\n",
              "      <td>0.000289</td>\n",
              "      <td>0.000018</td>\n",
              "      <td>0.098465</td>\n",
              "      <td>0.024627</td>\n",
              "    </tr>\n",
              "    <tr>\n",
              "      <th>4</th>\n",
              "      <td>0.003252</td>\n",
              "      <td>0.001266</td>\n",
              "      <td>0.799877</td>\n",
              "      <td>0.800000</td>\n",
              "      <td>0.0001</td>\n",
              "      <td>balanced</td>\n",
              "      <td>1</td>\n",
              "      <td>{'logisticregression__C': 0.0001, 'logisticreg...</td>\n",
              "      <td>3</td>\n",
              "      <td>0.730769</td>\n",
              "      <td>...</td>\n",
              "      <td>0.923077</td>\n",
              "      <td>0.769231</td>\n",
              "      <td>0.884615</td>\n",
              "      <td>0.778846</td>\n",
              "      <td>0.807692</td>\n",
              "      <td>0.798077</td>\n",
              "      <td>0.000016</td>\n",
              "      <td>0.000031</td>\n",
              "      <td>0.098465</td>\n",
              "      <td>0.024627</td>\n",
              "    </tr>\n",
              "  </tbody>\n",
              "</table>\n",
              "<p>5 rows × 23 columns</p>\n",
              "</div>"
            ],
            "text/plain": [
              "    mean_fit_time  mean_score_time  mean_test_score  mean_train_score  \\\n",
              "13       0.003388         0.001312         0.815234          0.817308   \n",
              "5        0.003356         0.001336         0.815234          0.821154   \n",
              "21       0.003345         0.001314         0.799877          0.798077   \n",
              "12       0.003483         0.001242         0.799877          0.800000   \n",
              "4        0.003252         0.001266         0.799877          0.800000   \n",
              "\n",
              "   param_logisticregression__C param_logisticregression__class_weight  \\\n",
              "13                       0.001                               balanced   \n",
              "5                       0.0001                               balanced   \n",
              "21                        0.01                               balanced   \n",
              "12                       0.001                               balanced   \n",
              "4                       0.0001                               balanced   \n",
              "\n",
              "   param_selectkbest__k                                             params  \\\n",
              "13                    2  {'logisticregression__C': 0.001, 'logisticregr...   \n",
              "5                     2  {'logisticregression__C': 0.0001, 'logisticreg...   \n",
              "21                    2  {'logisticregression__C': 0.01, 'logisticregre...   \n",
              "12                    1  {'logisticregression__C': 0.001, 'logisticregr...   \n",
              "4                     1  {'logisticregression__C': 0.0001, 'logisticreg...   \n",
              "\n",
              "    rank_test_score  split0_test_score       ...         split2_test_score  \\\n",
              "13                1           0.730769       ...                  0.884615   \n",
              "5                 1           0.730769       ...                  0.884615   \n",
              "21                3           0.730769       ...                  0.884615   \n",
              "12                3           0.730769       ...                  0.923077   \n",
              "4                 3           0.730769       ...                  0.923077   \n",
              "\n",
              "    split2_train_score  split3_test_score  split3_train_score  \\\n",
              "13            0.798077           0.884615            0.798077   \n",
              "5             0.798077           0.884615            0.807692   \n",
              "21            0.778846           0.846154            0.788462   \n",
              "12            0.769231           0.884615            0.778846   \n",
              "4             0.769231           0.884615            0.778846   \n",
              "\n",
              "    split4_test_score  split4_train_score  std_fit_time  std_score_time  \\\n",
              "13           0.884615            0.807692      0.000035        0.000016   \n",
              "5            0.884615            0.817308      0.000133        0.000014   \n",
              "21           0.846154            0.788462      0.000044        0.000009   \n",
              "12           0.807692            0.798077      0.000289        0.000018   \n",
              "4            0.807692            0.798077      0.000016        0.000031   \n",
              "\n",
              "    std_test_score  std_train_score  \n",
              "13        0.085656         0.020169  \n",
              "5         0.085656         0.017834  \n",
              "21        0.074570         0.017201  \n",
              "12        0.098465         0.024627  \n",
              "4         0.098465         0.024627  \n",
              "\n",
              "[5 rows x 23 columns]"
            ]
          },
          "metadata": {
            "tags": []
          },
          "execution_count": 51
        }
      ]
    },
    {
      "metadata": {
        "id": "ThCfZnggq3lo",
        "colab_type": "code",
        "colab": {
          "base_uri": "https://localhost:8080/",
          "height": 137
        },
        "outputId": "cff3003b-a23e-4fdd-d0d4-f32fb214b823"
      },
      "cell_type": "code",
      "source": [
        "\n",
        "selector = gs.best_estimator_.named_steps['selectkbest']\n",
        "all_names = X_train.columns\n",
        "selected_mask = selector.get_support()\n",
        "selected_names = all_names[selected_mask]\n",
        "unselected_names = all_names[~selected_mask]\n",
        "\n",
        "print('Features selected:')\n",
        "for name in selected_names:\n",
        "    print(name)\n",
        "\n",
        "print()\n",
        "print('Features not selected:')\n",
        "for name in unselected_names:\n",
        "    print(name)\n"
      ],
      "execution_count": 52,
      "outputs": [
        {
          "output_type": "stream",
          "text": [
            "Features selected:\n",
            "months_since_last_donation\n",
            "number_of_donations\n",
            "\n",
            "Features not selected:\n",
            "total_volume_donated\n",
            "months_since_first_donation\n"
          ],
          "name": "stdout"
        }
      ]
    },
    {
      "metadata": {
        "id": "jkyHoRIbEgRR",
        "colab_type": "text"
      },
      "cell_type": "markdown",
      "source": [
        "## Part 4 — Calculate classification metrics from a confusion matrix\n",
        "\n",
        "Suppose this is the confusion matrix for your binary classification model:\n",
        "\n",
        "<table>\n",
        "  <tr>\n",
        "    <th colspan=\"2\" rowspan=\"2\"></th>\n",
        "    <th colspan=\"2\">Predicted</th>\n",
        "  </tr>\n",
        "  <tr>\n",
        "    <th>Negative</th>\n",
        "    <th>Positive</th>\n",
        "  </tr>\n",
        "  <tr>\n",
        "    <th rowspan=\"2\">Actual</th>\n",
        "    <th>Negative</th>\n",
        "    <td>85</td>\n",
        "    <td>58</td>\n",
        "  </tr>\n",
        "  <tr>\n",
        "    <th>Positive</th>\n",
        "    <td>8</td>\n",
        "    <td>36</td>\n",
        "  </tr>\n",
        "</table>"
      ]
    },
    {
      "metadata": {
        "id": "LhyMM5H-JpVB",
        "colab_type": "text"
      },
      "cell_type": "markdown",
      "source": [
        "Calculate accuracy"
      ]
    },
    {
      "metadata": {
        "id": "TZPwqdh2KUcB",
        "colab_type": "code",
        "colab": {}
      },
      "cell_type": "code",
      "source": [
        "accuracy=(85+36)/(85+58+8+36)\n",
        "\n",
        "#  true positive / overall positive\n",
        "precision= 36/(36+58) # num of selected are relevant\n",
        "\n",
        "# true positive / selected positive\n",
        "recall=36/(36+8) # num of relevant are selected\n",
        "\n",
        "# false positive\n",
        "fpr=58/(58+85)\n"
      ],
      "execution_count": 0,
      "outputs": []
    },
    {
      "metadata": {
        "id": "9KEaWsk5Kk9W",
        "colab_type": "text"
      },
      "cell_type": "markdown",
      "source": [
        "## BONUS — How you can earn a score of 3\n",
        "\n",
        "### Part 1\n",
        "Do feature engineering, to try improving your cross-validation score.\n",
        "\n",
        "### Part 2\n",
        "Add transformations in your pipeline and parameters in your grid, to try improving your cross-validation score.\n",
        "\n",
        "### Part 3\n",
        "Show names of selected features. Then do a final evaluation on the test set — what is the test score?\n",
        "\n",
        "### Part 4\n",
        "Calculate F1 score and False Positive Rate. "
      ]
    },
    {
      "metadata": {
        "id": "kjxQoFjIgc3X",
        "colab_type": "code",
        "colab": {
          "base_uri": "https://localhost:8080/",
          "height": 34
        },
        "outputId": "dd4dd588-7dee-453f-9850-430d5c388855"
      },
      "cell_type": "code",
      "source": [
        "# Part 3\n",
        "from sklearn.metrics import precision_score\n",
        "\n",
        "y_pred = gs.predict(X_test)\n",
        "\n",
        "accuracy=accuracy_score(y_test, y_pred)\n",
        "precision=precision_score(y_test, y_pred) # selected are relevant\n",
        "recall=recall_score(y_test, y_pred)       # relevant are selected\n",
        "\n",
        "\n",
        "\n",
        "print(f'Accuracy={accuracy}, Precision={precision}, Recall={recall}')"
      ],
      "execution_count": 54,
      "outputs": [
        {
          "output_type": "stream",
          "text": [
            "Accuracy=0.5989304812834224, Precision=0.37383177570093457, Recall=0.8333333333333334\n"
          ],
          "name": "stdout"
        }
      ]
    },
    {
      "metadata": {
        "id": "5_pl1QW9zFbZ",
        "colab_type": "code",
        "colab": {
          "base_uri": "https://localhost:8080/",
          "height": 171
        },
        "outputId": "8bbbd0c1-5693-4ff6-f3cd-e628bb7c6f80"
      },
      "cell_type": "code",
      "source": [
        "from sklearn.metrics import classification_report\n",
        "print(classification_report(y_test, y_pred))"
      ],
      "execution_count": 57,
      "outputs": [
        {
          "output_type": "stream",
          "text": [
            "              precision    recall  f1-score   support\n",
            "\n",
            "           0       0.90      0.52      0.66       139\n",
            "           1       0.37      0.83      0.52        48\n",
            "\n",
            "   micro avg       0.60      0.60      0.60       187\n",
            "   macro avg       0.64      0.68      0.59       187\n",
            "weighted avg       0.76      0.60      0.62       187\n",
            "\n"
          ],
          "name": "stdout"
        }
      ]
    },
    {
      "metadata": {
        "id": "NeIXw9R_hBoN",
        "colab_type": "code",
        "colab": {
          "base_uri": "https://localhost:8080/",
          "height": 34
        },
        "outputId": "9d6075b2-1fc7-4ad1-916a-a5e43bbd3acf"
      },
      "cell_type": "code",
      "source": [
        "gs_test_score = gs.score(X_test, y_test)\n",
        "print('GridSearchCV Test Score:', gs_test_score)"
      ],
      "execution_count": 60,
      "outputs": [
        {
          "output_type": "stream",
          "text": [
            "GridSearchCV Test Score: 0.8333333333333334\n"
          ],
          "name": "stdout"
        }
      ]
    },
    {
      "metadata": {
        "id": "YyZbiigojlwK",
        "colab_type": "code",
        "colab": {
          "base_uri": "https://localhost:8080/",
          "height": 34
        },
        "outputId": "7feeab5d-b4f8-4a85-c6aa-bb917a91ab37"
      },
      "cell_type": "code",
      "source": [
        "# Part 4\n",
        "#The F1 score can be interpreted as a weighted average of the precision and recall.\n",
        "#F1 score reaches its best value at 1 and worst score at 0. \n",
        "#F1 = 2 * (precision * recall) / (precision + recall)\n",
        "from sklearn.metrics import f1_score\n",
        "\n",
        "f1_sklearn=f1_score(y_test, y_pred)  \n",
        "f1_manual=2 * (precision * recall)/(precision + recall)\n",
        "\n",
        "print(f'F1_sklearn={f1_sklearn}, F1_manual={f1_manual}')"
      ],
      "execution_count": 61,
      "outputs": [
        {
          "output_type": "stream",
          "text": [
            "F1_sklearn=0.5161290322580645, F1_manual=0.5161290322580645\n"
          ],
          "name": "stdout"
        }
      ]
    },
    {
      "metadata": {
        "id": "R98BuIvuKvtq",
        "colab_type": "code",
        "colab": {
          "base_uri": "https://localhost:8080/",
          "height": 51
        },
        "outputId": "17e835db-c9c7-45fc-d6e4-a6fe8c56e7dc"
      },
      "cell_type": "code",
      "source": [
        "from sklearn.metrics import confusion_matrix\n",
        "\n",
        "confusion_matrix(y_test, y_pred)"
      ],
      "execution_count": 62,
      "outputs": [
        {
          "output_type": "execute_result",
          "data": {
            "text/plain": [
              "array([[72, 67],\n",
              "       [ 8, 40]])"
            ]
          },
          "metadata": {
            "tags": []
          },
          "execution_count": 62
        }
      ]
    },
    {
      "metadata": {
        "id": "qB3oxKwpmsTY",
        "colab_type": "code",
        "colab": {
          "base_uri": "https://localhost:8080/",
          "height": 51
        },
        "outputId": "6f8c4a5d-bc27-4340-c364-f176770c2474"
      },
      "cell_type": "code",
      "source": [
        "accuracy=(72+40)/(72+40+8+67)\n",
        "\n",
        "#  true positive / overall positive\n",
        "precision= 40/(40+67) # num of selected are relevant\n",
        "\n",
        "# true positive / selected positive\n",
        "recall=40/(40+8) # num of relevant are selected\n",
        "\n",
        "# false positive\n",
        "fpr=67/(67+72)\n",
        "\n",
        "print('Manual=Precision={:0.2f}, Recall={:0.2f}, Accuracy={:0.2f}, \\\n",
        "  False positive={:0.2f}'.format(precision,recall,accuracy,fpr))\n",
        "\n",
        "accuracy=accuracy_score(y_test, y_pred)\n",
        "precision=precision_score(y_test, y_pred) # selected are relevant\n",
        "recall=recall_score(y_test, y_pred)  \n",
        "\n",
        "print('Sklearn=Precision={:0.2f}, Recall={:0.2f}, Accuracy={:0.2f}, \\\n",
        "  False positive={:0.2f}'.format(precision,recall,accuracy,fpr))\n"
      ],
      "execution_count": 71,
      "outputs": [
        {
          "output_type": "stream",
          "text": [
            "Manual=Precision=0.37, Recall=0.83, Accuracy=0.60,   False positive=0.48\n",
            "Sklearn=Precision=0.37, Recall=0.83, Accuracy=0.60,   False positive=0.48\n"
          ],
          "name": "stdout"
        }
      ]
    },
    {
      "metadata": {
        "id": "9KxKwBhHMITr",
        "colab_type": "code",
        "colab": {
          "base_uri": "https://localhost:8080/",
          "height": 358
        },
        "outputId": "1d82f7bc-410b-49a3-f50c-48dddc9c37d3"
      },
      "cell_type": "code",
      "source": [
        "import matplotlib.pyplot as plt\n",
        "import seaborn as sns\n",
        "\n",
        "def confusion_viz(y_true, y_pred, normalize=False):\n",
        "    matrix = confusion_matrix(y_true, y_pred)\n",
        "    \n",
        "    if (normalize):\n",
        "      matrix = matrix.astype('float') / matrix.sum(axis=1)[:, np.newaxis] # normalize\n",
        "      matrix = np.round(matrix,2)\n",
        "    \n",
        "    return sns.heatmap(matrix, annot=True, \n",
        "                       fmt=',', linewidths=1, linecolor='grey', \n",
        "                       square=True, \n",
        "                       xticklabels=['Predicted\\nNo', 'Predicted\\nYes'], \n",
        "                       yticklabels=['Actual\\nNo', 'Actual\\nYes'])\n",
        "\n",
        "confusion_viz(y_test, y_pred, normalize=False);"
      ],
      "execution_count": 72,
      "outputs": [
        {
          "output_type": "display_data",
          "data": {
            "image/png": "[encoded data removed]",
            "text/plain": [
              "<Figure size 576x396 with 2 Axes>"
            ]
          },
          "metadata": {
            "tags": []
          }
        }
      ]
    },
    {
      "metadata": {
        "id": "J5TB3ne0MWZM",
        "colab_type": "code",
        "colab": {
          "base_uri": "https://localhost:8080/",
          "height": 375
        },
        "outputId": "57241693-99ee-4537-f0d8-2247dc672f9a"
      },
      "cell_type": "code",
      "source": [
        "confusion_viz(y_test, y_pred, normalize=True)"
      ],
      "execution_count": 73,
      "outputs": [
        {
          "output_type": "execute_result",
          "data": {
            "text/plain": [
              "<matplotlib.axes._subplots.AxesSubplot at 0x7f239bfa0d68>"
            ]
          },
          "metadata": {
            "tags": []
          },
          "execution_count": 73
        },
        {
          "output_type": "display_data",
          "data": {
            "image/png": "[encoded data removed]",
            "text/plain": [
              "<Figure size 576x396 with 2 Axes>"
            ]
          },
          "metadata": {
            "tags": []
          }
        }
      ]
    }
  ]
}