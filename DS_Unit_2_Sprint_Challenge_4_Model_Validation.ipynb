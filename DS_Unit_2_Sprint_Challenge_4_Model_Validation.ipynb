{
  "nbformat": 4,
  "nbformat_minor": 0,
  "metadata": {
    "colab": {
      "name": "DS_Unit_2_Sprint_Challenge_4_Model_Validation.ipynb",
      "version": "0.3.2",
      "provenance": [],
      "collapsed_sections": [],
      "include_colab_link": true
    },
    "kernelspec": {
      "display_name": "Python 3",
      "language": "python",
      "name": "python3"
    }
  },
  "cells": [
    {
      "cell_type": "markdown",
      "metadata": {
        "id": "view-in-github",
        "colab_type": "text"
      },
      "source": [
        "<a href=\"https://colab.research.google.com/github/macscheffer/DS-Unit-2-Sprint-4-Model-Validation/blob/master/DS_Unit_2_Sprint_Challenge_4_Model_Validation.ipynb\" target=\"_parent\"><img src=\"https://colab.research.google.com/assets/colab-badge.svg\" alt=\"Open In Colab\"/></a>"
      ]
    },
    {
      "metadata": {
        "colab_type": "text",
        "id": "PC9RfopIWrc9"
      },
      "cell_type": "markdown",
      "source": [
        " # Data Science Unit 2 Sprint Challenge 4 — Model Validation"
      ]
    },
    {
      "metadata": {
        "colab_type": "text",
        "id": "UV7ArLFQN84W"
      },
      "cell_type": "markdown",
      "source": [
        "Follow the instructions for each numbered part to earn a score of 2. See the bottom of the notebook for a list of ways you can earn a score of 3."
      ]
    },
    {
      "metadata": {
        "colab_type": "text",
        "id": "bAZcbTtiUlkI"
      },
      "cell_type": "markdown",
      "source": [
        "## Predicting Blood Donations\n",
        "\n",
        "Our dataset is from a mobile blood donation vehicle in Taiwan. The Blood Transfusion Service Center drives to different universities and collects blood as part of a blood drive.\n",
        "\n",
        "The goal is to predict the last column, whether the donor made a donation in March 2007, using information about each donor's history. We'll measure success using recall score as the model evaluation metric.\n",
        "\n",
        "Good data-driven systems for tracking and predicting donations and supply needs can improve the entire supply chain, making sure that more patients get the blood transfusions they need.\n",
        "\n",
        "#### Run this cell to load the data:"
      ]
    },
    {
      "metadata": {
        "colab_type": "code",
        "id": "gvV9VORbxyvu",
        "colab": {}
      },
      "cell_type": "code",
      "source": [
        "import pandas as pd\n",
        "\n",
        "df = pd.read_csv('https://archive.ics.uci.edu/ml/machine-learning-databases/blood-transfusion/transfusion.data')\n",
        "\n",
        "df = df.rename(columns={\n",
        "    'Recency (months)': 'months_since_last_donation', \n",
        "    'Frequency (times)': 'number_of_donations', \n",
        "    'Monetary (c.c. blood)': 'total_volume_donated', \n",
        "    'Time (months)': 'months_since_first_donation', \n",
        "    'whether he/she donated blood in March 2007': 'made_donation_in_march_2007'\n",
        "})"
      ],
      "execution_count": 0,
      "outputs": []
    },
    {
      "metadata": {
        "colab_type": "text",
        "id": "IxKfgx4ycb3c"
      },
      "cell_type": "markdown",
      "source": [
        "## Part 1.1 — Begin with baselines\n",
        "\n",
        "What **accuracy score** would you get here with a **\"majority class baseline\"?** \n",
        " \n",
        "(You don't need to split the data into train and test sets yet. You can answer this question either with a scikit-learn function or with a pandas function.)"
      ]
    },
    {
      "metadata": {
        "colab_type": "code",
        "id": "3oo31Remcq-x",
        "colab": {
          "base_uri": "https://localhost:8080/",
          "height": 203
        },
        "outputId": "c53eae1b-36cc-420a-9ab0-7fef7e9053aa"
      },
      "cell_type": "code",
      "source": [
        "df.head()"
      ],
      "execution_count": 2,
      "outputs": [
        {
          "output_type": "execute_result",
          "data": {
            "text/html": [
              "<div>\n",
              "<style scoped>\n",
              "    .dataframe tbody tr th:only-of-type {\n",
              "        vertical-align: middle;\n",
              "    }\n",
              "\n",
              "    .dataframe tbody tr th {\n",
              "        vertical-align: top;\n",
              "    }\n",
              "\n",
              "    .dataframe thead th {\n",
              "        text-align: right;\n",
              "    }\n",
              "</style>\n",
              "<table border=\"1\" class=\"dataframe\">\n",
              "  <thead>\n",
              "    <tr style=\"text-align: right;\">\n",
              "      <th></th>\n",
              "      <th>months_since_last_donation</th>\n",
              "      <th>number_of_donations</th>\n",
              "      <th>total_volume_donated</th>\n",
              "      <th>months_since_first_donation</th>\n",
              "      <th>made_donation_in_march_2007</th>\n",
              "    </tr>\n",
              "  </thead>\n",
              "  <tbody>\n",
              "    <tr>\n",
              "      <th>0</th>\n",
              "      <td>2</td>\n",
              "      <td>50</td>\n",
              "      <td>12500</td>\n",
              "      <td>98</td>\n",
              "      <td>1</td>\n",
              "    </tr>\n",
              "    <tr>\n",
              "      <th>1</th>\n",
              "      <td>0</td>\n",
              "      <td>13</td>\n",
              "      <td>3250</td>\n",
              "      <td>28</td>\n",
              "      <td>1</td>\n",
              "    </tr>\n",
              "    <tr>\n",
              "      <th>2</th>\n",
              "      <td>1</td>\n",
              "      <td>16</td>\n",
              "      <td>4000</td>\n",
              "      <td>35</td>\n",
              "      <td>1</td>\n",
              "    </tr>\n",
              "    <tr>\n",
              "      <th>3</th>\n",
              "      <td>2</td>\n",
              "      <td>20</td>\n",
              "      <td>5000</td>\n",
              "      <td>45</td>\n",
              "      <td>1</td>\n",
              "    </tr>\n",
              "    <tr>\n",
              "      <th>4</th>\n",
              "      <td>1</td>\n",
              "      <td>24</td>\n",
              "      <td>6000</td>\n",
              "      <td>77</td>\n",
              "      <td>0</td>\n",
              "    </tr>\n",
              "  </tbody>\n",
              "</table>\n",
              "</div>"
            ],
            "text/plain": [
              "   months_since_last_donation  number_of_donations  total_volume_donated  \\\n",
              "0                           2                   50                 12500   \n",
              "1                           0                   13                  3250   \n",
              "2                           1                   16                  4000   \n",
              "3                           2                   20                  5000   \n",
              "4                           1                   24                  6000   \n",
              "\n",
              "   months_since_first_donation  made_donation_in_march_2007  \n",
              "0                           98                            1  \n",
              "1                           28                            1  \n",
              "2                           35                            1  \n",
              "3                           45                            1  \n",
              "4                           77                            0  "
            ]
          },
          "metadata": {
            "tags": []
          },
          "execution_count": 2
        }
      ]
    },
    {
      "metadata": {
        "id": "kNmQvxxHEhuX",
        "colab_type": "code",
        "colab": {
          "base_uri": "https://localhost:8080/",
          "height": 34
        },
        "outputId": "0d379235-ee8e-4716-e8a9-4483a16dc53b"
      },
      "cell_type": "code",
      "source": [
        "df.made_donation_in_march_2007.mean()"
      ],
      "execution_count": 15,
      "outputs": [
        {
          "output_type": "execute_result",
          "data": {
            "text/plain": [
              "0.23796791443850268"
            ]
          },
          "metadata": {
            "tags": []
          },
          "execution_count": 15
        }
      ]
    },
    {
      "metadata": {
        "id": "0q8e7rvgDkSr",
        "colab_type": "code",
        "colab": {
          "base_uri": "https://localhost:8080/",
          "height": 203
        },
        "outputId": "422bf649-e5f4-45c1-d911-61a4eec39d16"
      },
      "cell_type": "code",
      "source": [
        "import matplotlib.pyplot as plt\n",
        "\n",
        "df.corr()"
      ],
      "execution_count": 3,
      "outputs": [
        {
          "output_type": "execute_result",
          "data": {
            "text/html": [
              "<div>\n",
              "<style scoped>\n",
              "    .dataframe tbody tr th:only-of-type {\n",
              "        vertical-align: middle;\n",
              "    }\n",
              "\n",
              "    .dataframe tbody tr th {\n",
              "        vertical-align: top;\n",
              "    }\n",
              "\n",
              "    .dataframe thead th {\n",
              "        text-align: right;\n",
              "    }\n",
              "</style>\n",
              "<table border=\"1\" class=\"dataframe\">\n",
              "  <thead>\n",
              "    <tr style=\"text-align: right;\">\n",
              "      <th></th>\n",
              "      <th>months_since_last_donation</th>\n",
              "      <th>number_of_donations</th>\n",
              "      <th>total_volume_donated</th>\n",
              "      <th>months_since_first_donation</th>\n",
              "      <th>made_donation_in_march_2007</th>\n",
              "    </tr>\n",
              "  </thead>\n",
              "  <tbody>\n",
              "    <tr>\n",
              "      <th>months_since_last_donation</th>\n",
              "      <td>1.000000</td>\n",
              "      <td>-0.182745</td>\n",
              "      <td>-0.182745</td>\n",
              "      <td>0.160618</td>\n",
              "      <td>-0.279869</td>\n",
              "    </tr>\n",
              "    <tr>\n",
              "      <th>number_of_donations</th>\n",
              "      <td>-0.182745</td>\n",
              "      <td>1.000000</td>\n",
              "      <td>1.000000</td>\n",
              "      <td>0.634940</td>\n",
              "      <td>0.218633</td>\n",
              "    </tr>\n",
              "    <tr>\n",
              "      <th>total_volume_donated</th>\n",
              "      <td>-0.182745</td>\n",
              "      <td>1.000000</td>\n",
              "      <td>1.000000</td>\n",
              "      <td>0.634940</td>\n",
              "      <td>0.218633</td>\n",
              "    </tr>\n",
              "    <tr>\n",
              "      <th>months_since_first_donation</th>\n",
              "      <td>0.160618</td>\n",
              "      <td>0.634940</td>\n",
              "      <td>0.634940</td>\n",
              "      <td>1.000000</td>\n",
              "      <td>-0.035854</td>\n",
              "    </tr>\n",
              "    <tr>\n",
              "      <th>made_donation_in_march_2007</th>\n",
              "      <td>-0.279869</td>\n",
              "      <td>0.218633</td>\n",
              "      <td>0.218633</td>\n",
              "      <td>-0.035854</td>\n",
              "      <td>1.000000</td>\n",
              "    </tr>\n",
              "  </tbody>\n",
              "</table>\n",
              "</div>"
            ],
            "text/plain": [
              "                             months_since_last_donation  number_of_donations  \\\n",
              "months_since_last_donation                     1.000000            -0.182745   \n",
              "number_of_donations                           -0.182745             1.000000   \n",
              "total_volume_donated                          -0.182745             1.000000   \n",
              "months_since_first_donation                    0.160618             0.634940   \n",
              "made_donation_in_march_2007                   -0.279869             0.218633   \n",
              "\n",
              "                             total_volume_donated  \\\n",
              "months_since_last_donation              -0.182745   \n",
              "number_of_donations                      1.000000   \n",
              "total_volume_donated                     1.000000   \n",
              "months_since_first_donation              0.634940   \n",
              "made_donation_in_march_2007              0.218633   \n",
              "\n",
              "                             months_since_first_donation  \\\n",
              "months_since_last_donation                      0.160618   \n",
              "number_of_donations                             0.634940   \n",
              "total_volume_donated                            0.634940   \n",
              "months_since_first_donation                     1.000000   \n",
              "made_donation_in_march_2007                    -0.035854   \n",
              "\n",
              "                             made_donation_in_march_2007  \n",
              "months_since_last_donation                     -0.279869  \n",
              "number_of_donations                             0.218633  \n",
              "total_volume_donated                            0.218633  \n",
              "months_since_first_donation                    -0.035854  \n",
              "made_donation_in_march_2007                     1.000000  "
            ]
          },
          "metadata": {
            "tags": []
          },
          "execution_count": 3
        }
      ]
    },
    {
      "metadata": {
        "id": "j-W3kDCODjSf",
        "colab_type": "code",
        "colab": {
          "base_uri": "https://localhost:8080/",
          "height": 34
        },
        "outputId": "c0573918-18ce-4b7b-bbe9-f20ed460f0f8"
      },
      "cell_type": "code",
      "source": [
        "from sklearn.linear_model import LogisticRegression\n",
        "from sklearn.metrics import recall_score\n",
        "from sklearn.metrics import accuracy_score\n",
        "X = df.drop(columns='made_donation_in_march_2007')\n",
        "y = df.made_donation_in_march_2007\n",
        "\n",
        "model = LogisticRegression(solver='lbfgs', max_iter=1000)\n",
        "model.fit(X, y)\n",
        "\n",
        "predictions = model.predict(X)\n",
        "\n",
        "accuracy_score(y, predictions)"
      ],
      "execution_count": 10,
      "outputs": [
        {
          "output_type": "execute_result",
          "data": {
            "text/plain": [
              "0.7713903743315508"
            ]
          },
          "metadata": {
            "tags": []
          },
          "execution_count": 10
        }
      ]
    },
    {
      "metadata": {
        "id": "SkKv4jrQGSyl",
        "colab_type": "code",
        "colab": {
          "base_uri": "https://localhost:8080/",
          "height": 34
        },
        "outputId": "3109dbd8-c184-4581-85ed-8aa73e124403"
      },
      "cell_type": "code",
      "source": [
        "# accuracy_score with just majority class baseline\n",
        "majority_class = [0] * len(y)\n",
        "accuracy_score(y, majority_class)"
      ],
      "execution_count": 23,
      "outputs": [
        {
          "output_type": "execute_result",
          "data": {
            "text/plain": [
              "0.7620320855614974"
            ]
          },
          "metadata": {
            "tags": []
          },
          "execution_count": 23
        }
      ]
    },
    {
      "metadata": {
        "colab_type": "text",
        "id": "_KdxE1TrcriI"
      },
      "cell_type": "markdown",
      "source": [
        "What **recall score** would you get here with a **majority class baseline?**\n",
        "\n",
        "(You can answer this question either with a scikit-learn function or with no code, just your understanding of recall.)"
      ]
    },
    {
      "metadata": {
        "colab_type": "code",
        "id": "ILS0fN0Cctyc",
        "colab": {
          "base_uri": "https://localhost:8080/",
          "height": 34
        },
        "outputId": "5ecd6d35-d5f5-42f6-acb9-f924bfc3d5d2"
      },
      "cell_type": "code",
      "source": [
        "# with majority class recall our recall score would be 0. Because we would predict 0 every time and thus never get any true positives.\n",
        "\n",
        "# recall score is calculated as true positives / (true_positives + false negatives)\n",
        "\n",
        "# to confirm\n",
        "\n",
        "recall_score(y, majority_class)"
      ],
      "execution_count": 24,
      "outputs": [
        {
          "output_type": "execute_result",
          "data": {
            "text/plain": [
              "0.0"
            ]
          },
          "metadata": {
            "tags": []
          },
          "execution_count": 24
        }
      ]
    },
    {
      "metadata": {
        "colab_type": "text",
        "id": "QqYNDtwKYhji"
      },
      "cell_type": "markdown",
      "source": [
        "## Part 1.2 — Split data\n",
        "\n",
        "In this Sprint Challenge, you will use \"Cross-Validation with Independent Test Set\" for your model evaluation protocol.\n",
        "\n",
        "First, **split the data into `X_train, X_test, y_train, y_test`**, with random shuffle. (You can include 75% of the data in the train set, and hold out 25% for the test set.)\n"
      ]
    },
    {
      "metadata": {
        "colab_type": "code",
        "id": "mPKf86yDYf0t",
        "colab": {}
      },
      "cell_type": "code",
      "source": [
        "from sklearn.model_selection import train_test_split\n",
        "\n",
        "X_train, X_test, y_train, y_test = train_test_split(X, y, test_size=.25, shuffle=True, random_state=42)"
      ],
      "execution_count": 0,
      "outputs": []
    },
    {
      "metadata": {
        "id": "BM-vLDshHu1-",
        "colab_type": "code",
        "colab": {
          "base_uri": "https://localhost:8080/",
          "height": 34
        },
        "outputId": "a0d65bf6-48f6-4b16-b7dc-68e2aad4464a"
      },
      "cell_type": "code",
      "source": [
        "X_train.shape, X_test.shape, y_train.shape, y_test.shape"
      ],
      "execution_count": 28,
      "outputs": [
        {
          "output_type": "execute_result",
          "data": {
            "text/plain": [
              "((561, 4), (187, 4), (561,), (187,))"
            ]
          },
          "metadata": {
            "tags": []
          },
          "execution_count": 28
        }
      ]
    },
    {
      "metadata": {
        "colab_type": "text",
        "id": "E_ATNJdqTCuZ"
      },
      "cell_type": "markdown",
      "source": [
        "## Part 2.1 — Make a pipeline\n",
        "\n",
        "Make a **pipeline** which includes:\n",
        "- Preprocessing with any scikit-learn [**Scaler**](https://scikit-learn.org/stable/modules/classes.html#module-sklearn.preprocessing)\n",
        "- Feature selection with **[`SelectKBest`](https://scikit-learn.org/stable/modules/generated/sklearn.feature_selection.SelectKBest.html)([`f_classif`](https://scikit-learn.org/stable/modules/generated/sklearn.feature_selection.f_classif.html))**\n",
        "- Classification with [**`LogisticRegression`**](https://scikit-learn.org/stable/modules/generated/sklearn.linear_model.LogisticRegression.html)"
      ]
    },
    {
      "metadata": {
        "id": "8ARUNwBdIqQz",
        "colab_type": "code",
        "colab": {
          "base_uri": "https://localhost:8080/",
          "height": 34
        },
        "outputId": "f381b10a-beef-44ce-e49c-449dc66e76fc"
      },
      "cell_type": "code",
      "source": [
        "# baseline with train/test split\n",
        "X_train, X_test, y_train, y_test = train_test_split(X, y, test_size=.25, shuffle=True, random_state=42)\n",
        "accuracy_score(y_test, LogisticRegression(solver='lbfgs', max_iter=1000).fit(X_train, y_train).predict(X_test))"
      ],
      "execution_count": 51,
      "outputs": [
        {
          "output_type": "execute_result",
          "data": {
            "text/plain": [
              "0.7540106951871658"
            ]
          },
          "metadata": {
            "tags": []
          },
          "execution_count": 51
        }
      ]
    },
    {
      "metadata": {
        "colab_type": "code",
        "id": "8DRrVU5n5_Jw",
        "colab": {
          "base_uri": "https://localhost:8080/",
          "height": 34
        },
        "outputId": "89d4e8f3-3422-4645-c73f-42dd3f97d8fb"
      },
      "cell_type": "code",
      "source": [
        "from sklearn.pipeline import make_pipeline\n",
        "from sklearn.pipeline import Pipeline\n",
        "from sklearn.preprocessing import StandardScaler\n",
        "from sklearn.preprocessing import RobustScaler\n",
        "from sklearn.feature_selection import SelectKBest\n",
        "from sklearn.feature_selection import f_classif\n",
        "import warnings\n",
        "\n",
        "warnings.filterwarnings(action='ignore')\n",
        "\n",
        "X_train, X_test, y_train, y_test = train_test_split(X, y, test_size=.25, shuffle=True, random_state=42)\n",
        "\n",
        "# making sure its working\n",
        "\n",
        "pipe_all = make_pipeline(RobustScaler(), SelectKBest(f_classif, k=3), LogisticRegression(solver='lbfgs', max_iter=1000))\n",
        "\n",
        "accuracy_score(y_test, pipe_all.fit(X_train, y_train).predict(X_test))"
      ],
      "execution_count": 69,
      "outputs": [
        {
          "output_type": "execute_result",
          "data": {
            "text/plain": [
              "0.7486631016042781"
            ]
          },
          "metadata": {
            "tags": []
          },
          "execution_count": 69
        }
      ]
    },
    {
      "metadata": {
        "id": "7mRybAUhKUbU",
        "colab_type": "code",
        "colab": {}
      },
      "cell_type": "code",
      "source": [
        "\n",
        "pipe = make_pipeline(\n",
        "    RobustScaler(),\n",
        "    SelectKBest(f_classif),\n",
        "    LogisticRegression(solver='lbfgs', max_iter=1000))"
      ],
      "execution_count": 0,
      "outputs": []
    },
    {
      "metadata": {
        "colab_type": "text",
        "id": "5vRkQHatglMG"
      },
      "cell_type": "markdown",
      "source": [
        "## Part 2.2 — Do Grid Search Cross-Validation\n",
        "\n",
        "Do [**GridSearchCV**](https://scikit-learn.org/stable/modules/generated/sklearn.model_selection.GridSearchCV.html) with your pipeline. Use **5 folds** and **recall score**.\n",
        "\n",
        "Include these **parameters for your grid:**\n",
        "\n",
        "#### `SelectKBest`\n",
        "- `k : 1, 2, 3, 4`\n",
        "\n",
        "#### `LogisticRegression`\n",
        "- `class_weight : None, 'balanced'`\n",
        "- `C : .0001, .001, .01, .1, 1.0, 10.0, 100.00, 1000.0, 10000.0`\n",
        "\n",
        "\n",
        "**Fit** on the appropriate data."
      ]
    },
    {
      "metadata": {
        "colab_type": "code",
        "id": "wgN8kG0ogBMH",
        "colab": {}
      },
      "cell_type": "code",
      "source": [
        "from sklearn.model_selection import GridSearchCV\n",
        "\n",
        "param_grid = {\n",
        "    'selectkbest__k': [1, 2, 3, 4],\n",
        "    'logisticregression__class_weight': [None, 'balanced'],\n",
        "    'logisticregression__C': [.0001, .001, .01, .1, 1.0, 10.0, 100.00, 1000.0, 10000.0]\n",
        "}\n",
        "\n",
        "grid_search_acc = GridSearchCV(pipe, param_grid, scoring='accuracy', cv=5, verbose=5, return_train_score=True)\n",
        "grid_search_acc.fit(X_train, y_train)\n"
      ],
      "execution_count": 0,
      "outputs": []
    },
    {
      "metadata": {
        "id": "9l5SJgQZQFjb",
        "colab_type": "code",
        "colab": {
          "base_uri": "https://localhost:8080/",
          "height": 70
        },
        "outputId": "4c19e9ad-1bbf-44fb-c652-41a7375a4f3f"
      },
      "cell_type": "code",
      "source": [
        "grid_search_acc.best_params_"
      ],
      "execution_count": 107,
      "outputs": [
        {
          "output_type": "execute_result",
          "data": {
            "text/plain": [
              "{'logisticregression__C': 1.0,\n",
              " 'logisticregression__class_weight': None,\n",
              " 'selectkbest__k': 4}"
            ]
          },
          "metadata": {
            "tags": []
          },
          "execution_count": 107
        }
      ]
    },
    {
      "metadata": {
        "id": "mMQt8-TDQ2Wp",
        "colab_type": "code",
        "colab": {
          "base_uri": "https://localhost:8080/",
          "height": 281
        },
        "outputId": "b690a488-2a5f-49d2-b8f3-dbb67b270e82"
      },
      "cell_type": "code",
      "source": [
        "grid_search_acc.cv_results_['mean_test_score']"
      ],
      "execution_count": 102,
      "outputs": [
        {
          "output_type": "execute_result",
          "data": {
            "text/plain": [
              "array([0.76827094, 0.76827094, 0.76827094, 0.76827094, 0.62923351,\n",
              "       0.70053476, 0.69340463, 0.6969697 , 0.76827094, 0.76827094,\n",
              "       0.76827094, 0.76827094, 0.62923351, 0.6916221 , 0.69340463,\n",
              "       0.69875223, 0.76827094, 0.77183601, 0.77183601, 0.77183601,\n",
              "       0.62923351, 0.67201426, 0.68092692, 0.68092692, 0.76827094,\n",
              "       0.77361854, 0.77540107, 0.77540107, 0.63101604, 0.61675579,\n",
              "       0.61497326, 0.65240642, 0.76827094, 0.7771836 , 0.7771836 ,\n",
              "       0.78074866, 0.63458111, 0.61853832, 0.61853832, 0.65775401,\n",
              "       0.76827094, 0.7771836 , 0.7771836 , 0.77896613, 0.63458111,\n",
              "       0.62032086, 0.62032086, 0.65597148, 0.76827094, 0.7771836 ,\n",
              "       0.7771836 , 0.77896613, 0.63458111, 0.62032086, 0.62032086,\n",
              "       0.65597148, 0.76827094, 0.7771836 , 0.7771836 , 0.77896613,\n",
              "       0.63458111, 0.62032086, 0.62032086, 0.65597148, 0.76827094,\n",
              "       0.7771836 , 0.7771836 , 0.77896613, 0.63458111, 0.62032086,\n",
              "       0.62032086, 0.65597148])"
            ]
          },
          "metadata": {
            "tags": []
          },
          "execution_count": 102
        }
      ]
    },
    {
      "metadata": {
        "id": "qfszvHJdNkO8",
        "colab_type": "code",
        "colab": {
          "base_uri": "https://localhost:8080/",
          "height": 34
        },
        "outputId": "a131cca8-fdbc-4d15-aec6-6cb0a6760ae7"
      },
      "cell_type": "code",
      "source": [
        "max(grid_search_acc.cv_results_['mean_test_score'])"
      ],
      "execution_count": 95,
      "outputs": [
        {
          "output_type": "execute_result",
          "data": {
            "text/plain": [
              "0.7807486631016043"
            ]
          },
          "metadata": {
            "tags": []
          },
          "execution_count": 95
        }
      ]
    },
    {
      "metadata": {
        "id": "BkWO9mUXQUU7",
        "colab_type": "code",
        "colab": {}
      },
      "cell_type": "code",
      "source": [
        "grid_search_recall = GridSearchCV(pipe, param_grid, scoring='recall', cv=5, verbose=5, return_train_score=True)\n",
        "grid_search_recall.fit(X_train, y_train)"
      ],
      "execution_count": 0,
      "outputs": []
    },
    {
      "metadata": {
        "colab_type": "text",
        "id": "urY_Wp3AiF83"
      },
      "cell_type": "markdown",
      "source": [
        "## Part 3 — Show best score and parameters\n",
        "\n",
        "Display your **best cross-validation score**, and the **best parameters** (the values of `k, class_weight, C`) from the grid search.\n",
        "\n",
        "(You're not evaluated here on how good your score is, or which parameters you find. You're only evaluated on being able to display the information. There are several ways you can get the information, and any way is acceptable.)"
      ]
    },
    {
      "metadata": {
        "id": "MoBiNvumQolv",
        "colab_type": "code",
        "colab": {
          "base_uri": "https://localhost:8080/",
          "height": 281
        },
        "outputId": "33e7c0e8-1823-455a-b0d6-a86a2c05ac00"
      },
      "cell_type": "code",
      "source": [
        "grid_search_recall.cv_results_['mean_test_score']"
      ],
      "execution_count": 101,
      "outputs": [
        {
          "output_type": "execute_result",
          "data": {
            "text/plain": [
              "array([0.        , 0.        , 0.        , 0.        , 0.7845194 ,\n",
              "       0.57678596, 0.51522007, 0.50754148, 0.        , 0.        ,\n",
              "       0.        , 0.        , 0.7845194 , 0.60002742, 0.51522007,\n",
              "       0.53839298, 0.        , 0.03078294, 0.03846154, 0.03846154,\n",
              "       0.7845194 , 0.67681338, 0.66145619, 0.646099  , 0.        ,\n",
              "       0.06156589, 0.06924448, 0.07692308, 0.7845194 , 0.76916221,\n",
              "       0.76916221, 0.76916221, 0.        , 0.07692308, 0.07692308,\n",
              "       0.10763746, 0.7845194 , 0.7845194 , 0.7845194 , 0.76148361,\n",
              "       0.        , 0.07692308, 0.07692308, 0.10763746, 0.7845194 ,\n",
              "       0.7845194 , 0.7845194 , 0.75380502, 0.        , 0.07692308,\n",
              "       0.07692308, 0.10763746, 0.7845194 , 0.7845194 , 0.7845194 ,\n",
              "       0.75380502, 0.        , 0.07692308, 0.07692308, 0.10763746,\n",
              "       0.7845194 , 0.7845194 , 0.7845194 , 0.75380502, 0.        ,\n",
              "       0.07692308, 0.07692308, 0.10763746, 0.7845194 , 0.7845194 ,\n",
              "       0.7845194 , 0.75380502])"
            ]
          },
          "metadata": {
            "tags": []
          },
          "execution_count": 101
        }
      ]
    },
    {
      "metadata": {
        "colab_type": "code",
        "id": "qAxxkjG7gACP",
        "colab": {
          "base_uri": "https://localhost:8080/",
          "height": 34
        },
        "outputId": "c541cb7e-21be-4f12-de39-0a307e96f214"
      },
      "cell_type": "code",
      "source": [
        "max(grid_search_recall.cv_results_['mean_test_score'])"
      ],
      "execution_count": 111,
      "outputs": [
        {
          "output_type": "execute_result",
          "data": {
            "text/plain": [
              "0.784519402166461"
            ]
          },
          "metadata": {
            "tags": []
          },
          "execution_count": 111
        }
      ]
    },
    {
      "metadata": {
        "id": "v30sjyZjTIws",
        "colab_type": "code",
        "colab": {
          "base_uri": "https://localhost:8080/",
          "height": 70
        },
        "outputId": "1674b8fe-1ccc-423b-b0a0-413f60f81f71"
      },
      "cell_type": "code",
      "source": [
        "grid_search_recall.best_params_"
      ],
      "execution_count": 112,
      "outputs": [
        {
          "output_type": "execute_result",
          "data": {
            "text/plain": [
              "{'logisticregression__C': 0.0001,\n",
              " 'logisticregression__class_weight': 'balanced',\n",
              " 'selectkbest__k': 1}"
            ]
          },
          "metadata": {
            "tags": []
          },
          "execution_count": 112
        }
      ]
    },
    {
      "metadata": {
        "colab_type": "text",
        "id": "jkyHoRIbEgRR"
      },
      "cell_type": "markdown",
      "source": [
        "## Part 4 — Calculate classification metrics from a confusion matrix\n",
        "\n",
        "Suppose this is the confusion matrix for your binary classification model:\n",
        "\n",
        "<table>\n",
        "  <tr>\n",
        "    <th colspan=\"2\" rowspan=\"2\"></th>\n",
        "    <th colspan=\"2\">Predicted</th>\n",
        "  </tr>\n",
        "  <tr>\n",
        "    <th>Negative</th>\n",
        "    <th>Positive</th>\n",
        "  </tr>\n",
        "  <tr>\n",
        "    <th rowspan=\"2\">Actual</th>\n",
        "    <th>Negative</th>\n",
        "    <td>85</td>\n",
        "    <td>58</td>\n",
        "  </tr>\n",
        "  <tr>\n",
        "    <th>Positive</th>\n",
        "    <td>8</td>\n",
        "    <td>36</td>\n",
        "  </tr>\n",
        "</table>"
      ]
    },
    {
      "metadata": {
        "colab_type": "text",
        "id": "LhyMM5H-JpVB"
      },
      "cell_type": "markdown",
      "source": [
        "Calculate accuracy"
      ]
    },
    {
      "metadata": {
        "colab_type": "code",
        "id": "TZPwqdh2KUcB",
        "colab": {
          "base_uri": "https://localhost:8080/",
          "height": 34
        },
        "outputId": "b19b342a-d718-4b74-e0ae-087517b2167e"
      },
      "cell_type": "code",
      "source": [
        "tn, fp, fn, tp = (85, 58, 8, 36)\n",
        "\n",
        "accuracy = (tn + tp) / (tn + fp + fn + tp)\n",
        "\n",
        "accuracy"
      ],
      "execution_count": 110,
      "outputs": [
        {
          "output_type": "execute_result",
          "data": {
            "text/plain": [
              "0.6470588235294118"
            ]
          },
          "metadata": {
            "tags": []
          },
          "execution_count": 110
        }
      ]
    },
    {
      "metadata": {
        "colab_type": "text",
        "id": "BRWLfGcGKeQw"
      },
      "cell_type": "markdown",
      "source": [
        "Calculate precision"
      ]
    },
    {
      "metadata": {
        "colab_type": "code",
        "id": "A-FEZ4i_Kf_n",
        "colab": {
          "base_uri": "https://localhost:8080/",
          "height": 34
        },
        "outputId": "a842ca83-c547-4814-f127-7406cdf4ecac"
      },
      "cell_type": "code",
      "source": [
        "precision = tp / (tp + fp)\n",
        "\n",
        "precision"
      ],
      "execution_count": 117,
      "outputs": [
        {
          "output_type": "execute_result",
          "data": {
            "text/plain": [
              "0.3829787234042553"
            ]
          },
          "metadata": {
            "tags": []
          },
          "execution_count": 117
        }
      ]
    },
    {
      "metadata": {
        "colab_type": "text",
        "id": "h_mH2NYDKi2C"
      },
      "cell_type": "markdown",
      "source": [
        "Calculate recall"
      ]
    },
    {
      "metadata": {
        "colab_type": "code",
        "id": "U4_wJGyjKkXJ",
        "colab": {
          "base_uri": "https://localhost:8080/",
          "height": 34
        },
        "outputId": "8c8cc1ec-fddd-470f-de20-9a7f23af9013"
      },
      "cell_type": "code",
      "source": [
        "recall = tp / (tp + fn)\n",
        "recall"
      ],
      "execution_count": 120,
      "outputs": [
        {
          "output_type": "execute_result",
          "data": {
            "text/plain": [
              "0.8181818181818182"
            ]
          },
          "metadata": {
            "tags": []
          },
          "execution_count": 120
        }
      ]
    },
    {
      "metadata": {
        "id": "AWNj0ZwKVA16",
        "colab_type": "code",
        "colab": {
          "base_uri": "https://localhost:8080/",
          "height": 34
        },
        "outputId": "63016e14-8f8b-492e-9e75-3f67b650e06b"
      },
      "cell_type": "code",
      "source": [
        "f1_score = 2 * precision * recall / (precision + recall)\n",
        "f1_score"
      ],
      "execution_count": 123,
      "outputs": [
        {
          "output_type": "execute_result",
          "data": {
            "text/plain": [
              "0.5217391304347826"
            ]
          },
          "metadata": {
            "tags": []
          },
          "execution_count": 123
        }
      ]
    },
    {
      "metadata": {
        "id": "zCcAgaEEVObt",
        "colab_type": "code",
        "colab": {
          "base_uri": "https://localhost:8080/",
          "height": 34
        },
        "outputId": "76c37bd5-d024-4840-ff40-5aeddef89b42"
      },
      "cell_type": "code",
      "source": [
        "# fp = false positive\n",
        "\n",
        "fp_rate = fp / (fp + tn)\n",
        "\n",
        "fp_rate"
      ],
      "execution_count": 124,
      "outputs": [
        {
          "output_type": "execute_result",
          "data": {
            "text/plain": [
              "0.40559440559440557"
            ]
          },
          "metadata": {
            "tags": []
          },
          "execution_count": 124
        }
      ]
    },
    {
      "metadata": {
        "colab_type": "text",
        "id": "9KEaWsk5Kk9W"
      },
      "cell_type": "markdown",
      "source": [
        "## BONUS — How you can earn a score of 3\n",
        "\n",
        "### Part 1\n",
        "Do feature engineering, to try improving your cross-validation score.\n",
        "\n",
        "### Part 2\n",
        "Add transformations in your pipeline and parameters in your grid, to try improving your cross-validation score.\n",
        "\n",
        "### Part 3\n",
        "Show names of selected features. Then do a final evaluation on the test set — what is the test score?\n",
        "\n",
        "### Part 4\n",
        "Calculate F1 score and False Positive Rate. "
      ]
    },
    {
      "metadata": {
        "id": "4N7qhmciUzda",
        "colab_type": "code",
        "colab": {
          "base_uri": "https://localhost:8080/",
          "height": 203
        },
        "outputId": "110ddc09-b921-4198-a6cd-db466d0551d9"
      },
      "cell_type": "code",
      "source": [
        "df.head()"
      ],
      "execution_count": 125,
      "outputs": [
        {
          "output_type": "execute_result",
          "data": {
            "text/html": [
              "<div>\n",
              "<style scoped>\n",
              "    .dataframe tbody tr th:only-of-type {\n",
              "        vertical-align: middle;\n",
              "    }\n",
              "\n",
              "    .dataframe tbody tr th {\n",
              "        vertical-align: top;\n",
              "    }\n",
              "\n",
              "    .dataframe thead th {\n",
              "        text-align: right;\n",
              "    }\n",
              "</style>\n",
              "<table border=\"1\" class=\"dataframe\">\n",
              "  <thead>\n",
              "    <tr style=\"text-align: right;\">\n",
              "      <th></th>\n",
              "      <th>months_since_last_donation</th>\n",
              "      <th>number_of_donations</th>\n",
              "      <th>total_volume_donated</th>\n",
              "      <th>months_since_first_donation</th>\n",
              "      <th>made_donation_in_march_2007</th>\n",
              "    </tr>\n",
              "  </thead>\n",
              "  <tbody>\n",
              "    <tr>\n",
              "      <th>0</th>\n",
              "      <td>2</td>\n",
              "      <td>50</td>\n",
              "      <td>12500</td>\n",
              "      <td>98</td>\n",
              "      <td>1</td>\n",
              "    </tr>\n",
              "    <tr>\n",
              "      <th>1</th>\n",
              "      <td>0</td>\n",
              "      <td>13</td>\n",
              "      <td>3250</td>\n",
              "      <td>28</td>\n",
              "      <td>1</td>\n",
              "    </tr>\n",
              "    <tr>\n",
              "      <th>2</th>\n",
              "      <td>1</td>\n",
              "      <td>16</td>\n",
              "      <td>4000</td>\n",
              "      <td>35</td>\n",
              "      <td>1</td>\n",
              "    </tr>\n",
              "    <tr>\n",
              "      <th>3</th>\n",
              "      <td>2</td>\n",
              "      <td>20</td>\n",
              "      <td>5000</td>\n",
              "      <td>45</td>\n",
              "      <td>1</td>\n",
              "    </tr>\n",
              "    <tr>\n",
              "      <th>4</th>\n",
              "      <td>1</td>\n",
              "      <td>24</td>\n",
              "      <td>6000</td>\n",
              "      <td>77</td>\n",
              "      <td>0</td>\n",
              "    </tr>\n",
              "  </tbody>\n",
              "</table>\n",
              "</div>"
            ],
            "text/plain": [
              "   months_since_last_donation  number_of_donations  total_volume_donated  \\\n",
              "0                           2                   50                 12500   \n",
              "1                           0                   13                  3250   \n",
              "2                           1                   16                  4000   \n",
              "3                           2                   20                  5000   \n",
              "4                           1                   24                  6000   \n",
              "\n",
              "   months_since_first_donation  made_donation_in_march_2007  \n",
              "0                           98                            1  \n",
              "1                           28                            1  \n",
              "2                           35                            1  \n",
              "3                           45                            1  \n",
              "4                           77                            0  "
            ]
          },
          "metadata": {
            "tags": []
          },
          "execution_count": 125
        }
      ]
    },
    {
      "metadata": {
        "id": "_U-qMXuPVohx",
        "colab_type": "code",
        "colab": {
          "base_uri": "https://localhost:8080/",
          "height": 366
        },
        "outputId": "00a0a2e2-c137-4ab2-eefe-26ee09b31e5d"
      },
      "cell_type": "code",
      "source": [
        "df.total_volume_donated.plot.hist()"
      ],
      "execution_count": 128,
      "outputs": [
        {
          "output_type": "execute_result",
          "data": {
            "text/plain": [
              "<matplotlib.axes._subplots.AxesSubplot at 0x7fce028723c8>"
            ]
          },
          "metadata": {
            "tags": []
          },
          "execution_count": 128
        },
        {
          "output_type": "display_data",
          "data": {
            "image/png": "[encoded data removed]",
            "text/plain": [
              "<Figure size 576x396 with 1 Axes>"
            ]
          },
          "metadata": {
            "tags": []
          }
        }
      ]
    },
    {
      "metadata": {
        "id": "OVreTtIcWFuk",
        "colab_type": "code",
        "colab": {
          "base_uri": "https://localhost:8080/",
          "height": 365
        },
        "outputId": "578626b9-c824-4f52-92d2-afb635c36fd5"
      },
      "cell_type": "code",
      "source": [
        "df.months_since_first_donation.plot.hist()"
      ],
      "execution_count": 131,
      "outputs": [
        {
          "output_type": "execute_result",
          "data": {
            "text/plain": [
              "<matplotlib.axes._subplots.AxesSubplot at 0x7fcdff41e0f0>"
            ]
          },
          "metadata": {
            "tags": []
          },
          "execution_count": 131
        },
        {
          "output_type": "display_data",
          "data": {
            "image/png": "[encoded data removed]",
            "text/plain": [
              "<Figure size 576x396 with 1 Axes>"
            ]
          },
          "metadata": {
            "tags": []
          }
        }
      ]
    },
    {
      "metadata": {
        "id": "O7Kq3HqHWaPC",
        "colab_type": "code",
        "colab": {
          "base_uri": "https://localhost:8080/",
          "height": 365
        },
        "outputId": "6537b5f6-b91c-457c-8da5-0d563e42737f"
      },
      "cell_type": "code",
      "source": [
        "(df.months_since_last_donation**.5).plot.hist()"
      ],
      "execution_count": 133,
      "outputs": [
        {
          "output_type": "execute_result",
          "data": {
            "text/plain": [
              "<matplotlib.axes._subplots.AxesSubplot at 0x7fcdff395588>"
            ]
          },
          "metadata": {
            "tags": []
          },
          "execution_count": 133
        },
        {
          "output_type": "display_data",
          "data": {
            "image/png": "[encoded data removed]",
            "text/plain": [
              "<Figure size 576x396 with 1 Axes>"
            ]
          },
          "metadata": {
            "tags": []
          }
        }
      ]
    },
    {
      "metadata": {
        "id": "5WR6mKVKWqgk",
        "colab_type": "code",
        "colab": {}
      },
      "cell_type": "code",
      "source": [
        "df['number_of_donations_over9'] = (df.number_of_donations > 9)\n",
        "df['volume_per_donation'] = df.total_volume_donated / df.number_of_donations\n",
        "df['total_volume_donated_squared'] = df.total_volume_donated ** 2\n",
        "df['months_since_first_donation_sqrt'] = df.months_since_first_donation ** .5\n",
        "df['months_since_last_donation_sqrt'] = df.months_since_last_donation ** .5"
      ],
      "execution_count": 0,
      "outputs": []
    },
    {
      "metadata": {
        "id": "NncUoko3Vt35",
        "colab_type": "code",
        "colab": {}
      },
      "cell_type": "code",
      "source": [
        "X = df.drop(columns='made_donation_in_march_2007')\n",
        "y = df.made_donation_in_march_2007\n",
        "\n",
        "X_train, X_test, y_train, y_test = train_test_split(X, y, test_size=.25, shuffle=True, random_state=42)"
      ],
      "execution_count": 0,
      "outputs": []
    },
    {
      "metadata": {
        "id": "KRA8Hw0KXKWc",
        "colab_type": "code",
        "colab": {
          "base_uri": "https://localhost:8080/",
          "height": 34
        },
        "outputId": "1804c3c0-a98d-4ee4-d48d-722af237ca15"
      },
      "cell_type": "code",
      "source": [
        "# without any pipeline it gets worse from 0.7540106951871658\n",
        "accuracy_score(y_test, LogisticRegression(solver='lbfgs', max_iter=1000).fit(X_train, y_train).predict(X_test))"
      ],
      "execution_count": 141,
      "outputs": [
        {
          "output_type": "execute_result",
          "data": {
            "text/plain": [
              "0.7433155080213903"
            ]
          },
          "metadata": {
            "tags": []
          },
          "execution_count": 141
        }
      ]
    },
    {
      "metadata": {
        "id": "PO6mPzOxXdvG",
        "colab_type": "code",
        "colab": {}
      },
      "cell_type": "code",
      "source": [
        "pipe = make_pipeline(\n",
        "    RobustScaler(),\n",
        "    SelectKBest(f_classif),\n",
        "    LogisticRegression(solver='lbfgs', max_iter=1000))"
      ],
      "execution_count": 0,
      "outputs": []
    },
    {
      "metadata": {
        "id": "WsrswUfzYECt",
        "colab_type": "code",
        "colab": {
          "base_uri": "https://localhost:8080/",
          "height": 28830
        },
        "outputId": "d79ce55e-cb6e-45af-ecdf-d688f6a4b1f8"
      },
      "cell_type": "code",
      "source": [
        "param_grid = {\n",
        "    'selectkbest__k': [1, 2, 3, 4, 5, 6, 7, 8, 9],\n",
        "    'logisticregression__class_weight': [None, 'balanced'],\n",
        "    'logisticregression__C': [.0001, .001, .01, .1, 1.0, 10.0, 100.00, 1000.0, 10000.0]\n",
        "}\n",
        "\n",
        "grid_search_acc = GridSearchCV(pipe, param_grid, scoring='accuracy', cv=5, verbose=5, return_train_score=True)\n",
        "grid_search_acc.fit(X_train, y_train)\n"
      ],
      "execution_count": 143,
      "outputs": [
        {
          "output_type": "stream",
          "text": [
            "Fitting 5 folds for each of 162 candidates, totalling 810 fits\n",
            "[CV] logisticregression__C=0.0001, logisticregression__class_weight=None, selectkbest__k=1 \n",
            "[CV]  logisticregression__C=0.0001, logisticregression__class_weight=None, selectkbest__k=1, score=0.7699115044247787, total=   0.0s\n",
            "[CV] logisticregression__C=0.0001, logisticregression__class_weight=None, selectkbest__k=1 \n",
            "[CV]  logisticregression__C=0.0001, logisticregression__class_weight=None, selectkbest__k=1, score=0.7678571428571429, total=   0.0s\n",
            "[CV] logisticregression__C=0.0001, logisticregression__class_weight=None, selectkbest__k=1 \n",
            "[CV]  logisticregression__C=0.0001, logisticregression__class_weight=None, selectkbest__k=1, score=0.7678571428571429, total=   0.0s\n",
            "[CV] logisticregression__C=0.0001, logisticregression__class_weight=None, selectkbest__k=1 \n",
            "[CV]  logisticregression__C=0.0001, logisticregression__class_weight=None, selectkbest__k=1, score=0.7678571428571429, total=   0.0s\n",
            "[CV] logisticregression__C=0.0001, logisticregression__class_weight=None, selectkbest__k=1 \n",
            "[CV]  logisticregression__C=0.0001, logisticregression__class_weight=None, selectkbest__k=1, score=0.7678571428571429, total=   0.0s\n",
            "[CV] logisticregression__C=0.0001, logisticregression__class_weight=None, selectkbest__k=2 \n",
            "[CV]  logisticregression__C=0.0001, logisticregression__class_weight=None, selectkbest__k=2, score=0.7699115044247787, total=   0.0s\n",
            "[CV] logisticregression__C=0.0001, logisticregression__class_weight=None, selectkbest__k=2 \n",
            "[CV]  logisticregression__C=0.0001, logisticregression__class_weight=None, selectkbest__k=2, score=0.7678571428571429, total=   0.0s\n",
            "[CV] logisticregression__C=0.0001, logisticregression__class_weight=None, selectkbest__k=2 \n",
            "[CV]  logisticregression__C=0.0001, logisticregression__class_weight=None, selectkbest__k=2, score=0.7678571428571429, total=   0.0s\n",
            "[CV] logisticregression__C=0.0001, logisticregression__class_weight=None, selectkbest__k=2 \n",
            "[CV]  logisticregression__C=0.0001, logisticregression__class_weight=None, selectkbest__k=2, score=0.7678571428571429, total=   0.0s\n",
            "[CV] logisticregression__C=0.0001, logisticregression__class_weight=None, selectkbest__k=2 \n",
            "[CV]  logisticregression__C=0.0001, logisticregression__class_weight=None, selectkbest__k=2, score=0.7678571428571429, total=   0.0s\n",
            "[CV] logisticregression__C=0.0001, logisticregression__class_weight=None, selectkbest__k=3 \n",
            "[CV]  logisticregression__C=0.0001, logisticregression__class_weight=None, selectkbest__k=3, score=0.7699115044247787, total=   0.0s\n",
            "[CV] logisticregression__C=0.0001, logisticregression__class_weight=None, selectkbest__k=3 \n",
            "[CV]  logisticregression__C=0.0001, logisticregression__class_weight=None, selectkbest__k=3, score=0.7678571428571429, total=   0.0s\n",
            "[CV] logisticregression__C=0.0001, logisticregression__class_weight=None, selectkbest__k=3 \n"
          ],
          "name": "stdout"
        },
        {
          "output_type": "stream",
          "text": [
            "[Parallel(n_jobs=1)]: Using backend SequentialBackend with 1 concurrent workers.\n",
            "[Parallel(n_jobs=1)]: Done   1 out of   1 | elapsed:    0.0s remaining:    0.0s\n",
            "[Parallel(n_jobs=1)]: Done   2 out of   2 | elapsed:    0.0s remaining:    0.0s\n",
            "[Parallel(n_jobs=1)]: Done   3 out of   3 | elapsed:    0.1s remaining:    0.0s\n",
            "[Parallel(n_jobs=1)]: Done   4 out of   4 | elapsed:    0.1s remaining:    0.0s\n"
          ],
          "name": "stderr"
        },
        {
          "output_type": "stream",
          "text": [
            "[CV]  logisticregression__C=0.0001, logisticregression__class_weight=None, selectkbest__k=3, score=0.7678571428571429, total=   0.0s\n",
            "[CV] logisticregression__C=0.0001, logisticregression__class_weight=None, selectkbest__k=3 \n",
            "[CV]  logisticregression__C=0.0001, logisticregression__class_weight=None, selectkbest__k=3, score=0.7678571428571429, total=   0.0s\n",
            "[CV] logisticregression__C=0.0001, logisticregression__class_weight=None, selectkbest__k=3 \n",
            "[CV]  logisticregression__C=0.0001, logisticregression__class_weight=None, selectkbest__k=3, score=0.7678571428571429, total=   0.0s\n",
            "[CV] logisticregression__C=0.0001, logisticregression__class_weight=None, selectkbest__k=4 \n",
            "[CV]  logisticregression__C=0.0001, logisticregression__class_weight=None, selectkbest__k=4, score=0.7699115044247787, total=   0.0s\n",
            "[CV] logisticregression__C=0.0001, logisticregression__class_weight=None, selectkbest__k=4 \n",
            "[CV]  logisticregression__C=0.0001, logisticregression__class_weight=None, selectkbest__k=4, score=0.7678571428571429, total=   0.0s\n",
            "[CV] logisticregression__C=0.0001, logisticregression__class_weight=None, selectkbest__k=4 \n",
            "[CV]  logisticregression__C=0.0001, logisticregression__class_weight=None, selectkbest__k=4, score=0.7678571428571429, total=   0.0s\n",
            "[CV] logisticregression__C=0.0001, logisticregression__class_weight=None, selectkbest__k=4 \n",
            "[CV]  logisticregression__C=0.0001, logisticregression__class_weight=None, selectkbest__k=4, score=0.7678571428571429, total=   0.0s\n",
            "[CV] logisticregression__C=0.0001, logisticregression__class_weight=None, selectkbest__k=4 \n",
            "[CV]  logisticregression__C=0.0001, logisticregression__class_weight=None, selectkbest__k=4, score=0.7678571428571429, total=   0.0s\n",
            "[CV] logisticregression__C=0.0001, logisticregression__class_weight=None, selectkbest__k=5 \n",
            "[CV]  logisticregression__C=0.0001, logisticregression__class_weight=None, selectkbest__k=5, score=0.7699115044247787, total=   0.0s\n",
            "[CV] logisticregression__C=0.0001, logisticregression__class_weight=None, selectkbest__k=5 \n",
            "[CV]  logisticregression__C=0.0001, logisticregression__class_weight=None, selectkbest__k=5, score=0.7678571428571429, total=   0.0s\n",
            "[CV] logisticregression__C=0.0001, logisticregression__class_weight=None, selectkbest__k=5 \n",
            "[CV]  logisticregression__C=0.0001, logisticregression__class_weight=None, selectkbest__k=5, score=0.7678571428571429, total=   0.0s\n",
            "[CV] logisticregression__C=0.0001, logisticregression__class_weight=None, selectkbest__k=5 \n",
            "[CV]  logisticregression__C=0.0001, logisticregression__class_weight=None, selectkbest__k=5, score=0.7678571428571429, total=   0.0s\n",
            "[CV] logisticregression__C=0.0001, logisticregression__class_weight=None, selectkbest__k=5 \n",
            "[CV]  logisticregression__C=0.0001, logisticregression__class_weight=None, selectkbest__k=5, score=0.7678571428571429, total=   0.0s\n",
            "[CV] logisticregression__C=0.0001, logisticregression__class_weight=None, selectkbest__k=6 \n",
            "[CV]  logisticregression__C=0.0001, logisticregression__class_weight=None, selectkbest__k=6, score=0.7699115044247787, total=   0.0s\n",
            "[CV] logisticregression__C=0.0001, logisticregression__class_weight=None, selectkbest__k=6 \n",
            "[CV]  logisticregression__C=0.0001, logisticregression__class_weight=None, selectkbest__k=6, score=0.7678571428571429, total=   0.0s\n",
            "[CV] logisticregression__C=0.0001, logisticregression__class_weight=None, selectkbest__k=6 \n",
            "[CV]  logisticregression__C=0.0001, logisticregression__class_weight=None, selectkbest__k=6, score=0.7678571428571429, total=   0.0s\n",
            "[CV] logisticregression__C=0.0001, logisticregression__class_weight=None, selectkbest__k=6 \n",
            "[CV]  logisticregression__C=0.0001, logisticregression__class_weight=None, selectkbest__k=6, score=0.7678571428571429, total=   0.0s\n",
            "[CV] logisticregression__C=0.0001, logisticregression__class_weight=None, selectkbest__k=6 \n",
            "[CV]  logisticregression__C=0.0001, logisticregression__class_weight=None, selectkbest__k=6, score=0.7678571428571429, total=   0.0s\n",
            "[CV] logisticregression__C=0.0001, logisticregression__class_weight=None, selectkbest__k=7 \n",
            "[CV]  logisticregression__C=0.0001, logisticregression__class_weight=None, selectkbest__k=7, score=0.7699115044247787, total=   0.0s\n",
            "[CV] logisticregression__C=0.0001, logisticregression__class_weight=None, selectkbest__k=7 \n",
            "[CV]  logisticregression__C=0.0001, logisticregression__class_weight=None, selectkbest__k=7, score=0.7678571428571429, total=   0.0s\n",
            "[CV] logisticregression__C=0.0001, logisticregression__class_weight=None, selectkbest__k=7 \n",
            "[CV]  logisticregression__C=0.0001, logisticregression__class_weight=None, selectkbest__k=7, score=0.7678571428571429, total=   0.0s\n",
            "[CV] logisticregression__C=0.0001, logisticregression__class_weight=None, selectkbest__k=7 \n",
            "[CV]  logisticregression__C=0.0001, logisticregression__class_weight=None, selectkbest__k=7, score=0.7678571428571429, total=   0.0s\n",
            "[CV] logisticregression__C=0.0001, logisticregression__class_weight=None, selectkbest__k=7 \n",
            "[CV]  logisticregression__C=0.0001, logisticregression__class_weight=None, selectkbest__k=7, score=0.7678571428571429, total=   0.0s\n",
            "[CV] logisticregression__C=0.0001, logisticregression__class_weight=None, selectkbest__k=8 \n",
            "[CV]  logisticregression__C=0.0001, logisticregression__class_weight=None, selectkbest__k=8, score=0.7699115044247787, total=   0.0s\n",
            "[CV] logisticregression__C=0.0001, logisticregression__class_weight=None, selectkbest__k=8 \n",
            "[CV]  logisticregression__C=0.0001, logisticregression__class_weight=None, selectkbest__k=8, score=0.7678571428571429, total=   0.0s\n",
            "[CV] logisticregression__C=0.0001, logisticregression__class_weight=None, selectkbest__k=8 \n",
            "[CV]  logisticregression__C=0.0001, logisticregression__class_weight=None, selectkbest__k=8, score=0.7678571428571429, total=   0.0s\n",
            "[CV] logisticregression__C=0.0001, logisticregression__class_weight=None, selectkbest__k=8 \n",
            "[CV]  logisticregression__C=0.0001, logisticregression__class_weight=None, selectkbest__k=8, score=0.7678571428571429, total=   0.0s\n",
            "[CV] logisticregression__C=0.0001, logisticregression__class_weight=None, selectkbest__k=8 \n",
            "[CV]  logisticregression__C=0.0001, logisticregression__class_weight=None, selectkbest__k=8, score=0.7678571428571429, total=   0.0s\n",
            "[CV] logisticregression__C=0.0001, logisticregression__class_weight=None, selectkbest__k=9 \n",
            "[CV]  logisticregression__C=0.0001, logisticregression__class_weight=None, selectkbest__k=9, score=0.7699115044247787, total=   0.0s\n",
            "[CV] logisticregression__C=0.0001, logisticregression__class_weight=None, selectkbest__k=9 \n",
            "[CV]  logisticregression__C=0.0001, logisticregression__class_weight=None, selectkbest__k=9, score=0.7678571428571429, total=   0.0s\n",
            "[CV] logisticregression__C=0.0001, logisticregression__class_weight=None, selectkbest__k=9 \n",
            "[CV]  logisticregression__C=0.0001, logisticregression__class_weight=None, selectkbest__k=9, score=0.7678571428571429, total=   0.0s\n",
            "[CV] logisticregression__C=0.0001, logisticregression__class_weight=None, selectkbest__k=9 \n",
            "[CV]  logisticregression__C=0.0001, logisticregression__class_weight=None, selectkbest__k=9, score=0.7678571428571429, total=   0.0s\n",
            "[CV] logisticregression__C=0.0001, logisticregression__class_weight=None, selectkbest__k=9 \n",
            "[CV]  logisticregression__C=0.0001, logisticregression__class_weight=None, selectkbest__k=9, score=0.7678571428571429, total=   0.0s\n",
            "[CV] logisticregression__C=0.0001, logisticregression__class_weight=balanced, selectkbest__k=1 \n",
            "[CV]  logisticregression__C=0.0001, logisticregression__class_weight=balanced, selectkbest__k=1, score=0.6637168141592921, total=   0.0s\n",
            "[CV] logisticregression__C=0.0001, logisticregression__class_weight=balanced, selectkbest__k=1 \n",
            "[CV]  logisticregression__C=0.0001, logisticregression__class_weight=balanced, selectkbest__k=1, score=0.5982142857142857, total=   0.0s\n",
            "[CV] logisticregression__C=0.0001, logisticregression__class_weight=balanced, selectkbest__k=1 \n",
            "[CV]  logisticregression__C=0.0001, logisticregression__class_weight=balanced, selectkbest__k=1, score=0.6696428571428571, total=   0.0s\n",
            "[CV] logisticregression__C=0.0001, logisticregression__class_weight=balanced, selectkbest__k=1 \n",
            "[CV]  logisticregression__C=0.0001, logisticregression__class_weight=balanced, selectkbest__k=1, score=0.6517857142857143, total=   0.0s\n",
            "[CV] logisticregression__C=0.0001, logisticregression__class_weight=balanced, selectkbest__k=1 \n",
            "[CV]  logisticregression__C=0.0001, logisticregression__class_weight=balanced, selectkbest__k=1, score=0.625, total=   0.0s\n",
            "[CV] logisticregression__C=0.0001, logisticregression__class_weight=balanced, selectkbest__k=2 \n",
            "[CV]  logisticregression__C=0.0001, logisticregression__class_weight=balanced, selectkbest__k=2, score=0.6548672566371682, total=   0.0s\n",
            "[CV] logisticregression__C=0.0001, logisticregression__class_weight=balanced, selectkbest__k=2 \n",
            "[CV]  logisticregression__C=0.0001, logisticregression__class_weight=balanced, selectkbest__k=2, score=0.5803571428571429, total=   0.0s\n",
            "[CV] logisticregression__C=0.0001, logisticregression__class_weight=balanced, selectkbest__k=2 \n",
            "[CV]  logisticregression__C=0.0001, logisticregression__class_weight=balanced, selectkbest__k=2, score=0.6696428571428571, total=   0.0s\n",
            "[CV] logisticregression__C=0.0001, logisticregression__class_weight=balanced, selectkbest__k=2 \n",
            "[CV]  logisticregression__C=0.0001, logisticregression__class_weight=balanced, selectkbest__k=2, score=0.6339285714285714, total=   0.0s\n",
            "[CV] logisticregression__C=0.0001, logisticregression__class_weight=balanced, selectkbest__k=2 \n",
            "[CV]  logisticregression__C=0.0001, logisticregression__class_weight=balanced, selectkbest__k=2, score=0.625, total=   0.0s\n",
            "[CV] logisticregression__C=0.0001, logisticregression__class_weight=balanced, selectkbest__k=3 \n",
            "[CV]  logisticregression__C=0.0001, logisticregression__class_weight=balanced, selectkbest__k=3, score=0.6637168141592921, total=   0.0s\n",
            "[CV] logisticregression__C=0.0001, logisticregression__class_weight=balanced, selectkbest__k=3 \n",
            "[CV]  logisticregression__C=0.0001, logisticregression__class_weight=balanced, selectkbest__k=3, score=0.6071428571428571, total=   0.0s\n",
            "[CV] logisticregression__C=0.0001, logisticregression__class_weight=balanced, selectkbest__k=3 \n",
            "[CV]  logisticregression__C=0.0001, logisticregression__class_weight=balanced, selectkbest__k=3, score=0.6785714285714286, total=   0.0s\n",
            "[CV] logisticregression__C=0.0001, logisticregression__class_weight=balanced, selectkbest__k=3 \n",
            "[CV]  logisticregression__C=0.0001, logisticregression__class_weight=balanced, selectkbest__k=3, score=0.7321428571428571, total=   0.0s\n",
            "[CV] logisticregression__C=0.0001, logisticregression__class_weight=balanced, selectkbest__k=3 \n",
            "[CV]  logisticregression__C=0.0001, logisticregression__class_weight=balanced, selectkbest__k=3, score=0.7232142857142857, total=   0.0s\n",
            "[CV] logisticregression__C=0.0001, logisticregression__class_weight=balanced, selectkbest__k=4 \n",
            "[CV]  logisticregression__C=0.0001, logisticregression__class_weight=balanced, selectkbest__k=4, score=0.6902654867256637, total=   0.0s\n",
            "[CV] logisticregression__C=0.0001, logisticregression__class_weight=balanced, selectkbest__k=4 \n",
            "[CV]  logisticregression__C=0.0001, logisticregression__class_weight=balanced, selectkbest__k=4, score=0.6517857142857143, total=   0.0s\n",
            "[CV] logisticregression__C=0.0001, logisticregression__class_weight=balanced, selectkbest__k=4 \n",
            "[CV]  logisticregression__C=0.0001, logisticregression__class_weight=balanced, selectkbest__k=4, score=0.6875, total=   0.0s\n",
            "[CV] logisticregression__C=0.0001, logisticregression__class_weight=balanced, selectkbest__k=4 \n",
            "[CV]  logisticregression__C=0.0001, logisticregression__class_weight=balanced, selectkbest__k=4, score=0.7410714285714286, total=   0.0s\n",
            "[CV] logisticregression__C=0.0001, logisticregression__class_weight=balanced, selectkbest__k=4 \n",
            "[CV]  logisticregression__C=0.0001, logisticregression__class_weight=balanced, selectkbest__k=4, score=0.7232142857142857, total=   0.0s\n",
            "[CV] logisticregression__C=0.0001, logisticregression__class_weight=balanced, selectkbest__k=5 \n",
            "[CV]  logisticregression__C=0.0001, logisticregression__class_weight=balanced, selectkbest__k=5, score=0.7168141592920354, total=   0.0s\n",
            "[CV] logisticregression__C=0.0001, logisticregression__class_weight=balanced, selectkbest__k=5 \n",
            "[CV]  logisticregression__C=0.0001, logisticregression__class_weight=balanced, selectkbest__k=5, score=0.6428571428571429, total=   0.0s\n",
            "[CV] logisticregression__C=0.0001, logisticregression__class_weight=balanced, selectkbest__k=5 \n",
            "[CV]  logisticregression__C=0.0001, logisticregression__class_weight=balanced, selectkbest__k=5, score=0.7053571428571429, total=   0.0s\n",
            "[CV] logisticregression__C=0.0001, logisticregression__class_weight=balanced, selectkbest__k=5 \n",
            "[CV]  logisticregression__C=0.0001, logisticregression__class_weight=balanced, selectkbest__k=5, score=0.75, total=   0.0s\n",
            "[CV] logisticregression__C=0.0001, logisticregression__class_weight=balanced, selectkbest__k=5 \n",
            "[CV]  logisticregression__C=0.0001, logisticregression__class_weight=balanced, selectkbest__k=5, score=0.7321428571428571, total=   0.0s\n",
            "[CV] logisticregression__C=0.0001, logisticregression__class_weight=balanced, selectkbest__k=6 \n",
            "[CV]  logisticregression__C=0.0001, logisticregression__class_weight=balanced, selectkbest__k=6, score=0.7168141592920354, total=   0.0s\n",
            "[CV] logisticregression__C=0.0001, logisticregression__class_weight=balanced, selectkbest__k=6 \n",
            "[CV]  logisticregression__C=0.0001, logisticregression__class_weight=balanced, selectkbest__k=6, score=0.6428571428571429, total=   0.0s\n",
            "[CV] logisticregression__C=0.0001, logisticregression__class_weight=balanced, selectkbest__k=6 \n",
            "[CV]  logisticregression__C=0.0001, logisticregression__class_weight=balanced, selectkbest__k=6, score=0.7053571428571429, total=   0.0s\n",
            "[CV] logisticregression__C=0.0001, logisticregression__class_weight=balanced, selectkbest__k=6 \n",
            "[CV]  logisticregression__C=0.0001, logisticregression__class_weight=balanced, selectkbest__k=6, score=0.75, total=   0.0s\n",
            "[CV] logisticregression__C=0.0001, logisticregression__class_weight=balanced, selectkbest__k=6 \n",
            "[CV]  logisticregression__C=0.0001, logisticregression__class_weight=balanced, selectkbest__k=6, score=0.7321428571428571, total=   0.0s\n",
            "[CV] logisticregression__C=0.0001, logisticregression__class_weight=balanced, selectkbest__k=7 \n",
            "[CV]  logisticregression__C=0.0001, logisticregression__class_weight=balanced, selectkbest__k=7, score=0.7168141592920354, total=   0.0s\n",
            "[CV] logisticregression__C=0.0001, logisticregression__class_weight=balanced, selectkbest__k=7 \n",
            "[CV]  logisticregression__C=0.0001, logisticregression__class_weight=balanced, selectkbest__k=7, score=0.6428571428571429, total=   0.0s\n",
            "[CV] logisticregression__C=0.0001, logisticregression__class_weight=balanced, selectkbest__k=7 \n",
            "[CV]  logisticregression__C=0.0001, logisticregression__class_weight=balanced, selectkbest__k=7, score=0.7053571428571429, total=   0.0s\n",
            "[CV] logisticregression__C=0.0001, logisticregression__class_weight=balanced, selectkbest__k=7 \n",
            "[CV]  logisticregression__C=0.0001, logisticregression__class_weight=balanced, selectkbest__k=7, score=0.75, total=   0.0s\n",
            "[CV] logisticregression__C=0.0001, logisticregression__class_weight=balanced, selectkbest__k=7 \n",
            "[CV]  logisticregression__C=0.0001, logisticregression__class_weight=balanced, selectkbest__k=7, score=0.7321428571428571, total=   0.0s\n",
            "[CV] logisticregression__C=0.0001, logisticregression__class_weight=balanced, selectkbest__k=8 \n",
            "[CV]  logisticregression__C=0.0001, logisticregression__class_weight=balanced, selectkbest__k=8, score=0.7168141592920354, total=   0.0s\n",
            "[CV] logisticregression__C=0.0001, logisticregression__class_weight=balanced, selectkbest__k=8 \n",
            "[CV]  logisticregression__C=0.0001, logisticregression__class_weight=balanced, selectkbest__k=8, score=0.6428571428571429, total=   0.0s\n",
            "[CV] logisticregression__C=0.0001, logisticregression__class_weight=balanced, selectkbest__k=8 \n",
            "[CV]  logisticregression__C=0.0001, logisticregression__class_weight=balanced, selectkbest__k=8, score=0.7142857142857143, total=   0.0s\n",
            "[CV] logisticregression__C=0.0001, logisticregression__class_weight=balanced, selectkbest__k=8 \n",
            "[CV]  logisticregression__C=0.0001, logisticregression__class_weight=balanced, selectkbest__k=8, score=0.75, total=   0.0s\n",
            "[CV] logisticregression__C=0.0001, logisticregression__class_weight=balanced, selectkbest__k=8 \n",
            "[CV]  logisticregression__C=0.0001, logisticregression__class_weight=balanced, selectkbest__k=8, score=0.7321428571428571, total=   0.0s\n",
            "[CV] logisticregression__C=0.0001, logisticregression__class_weight=balanced, selectkbest__k=9 \n",
            "[CV]  logisticregression__C=0.0001, logisticregression__class_weight=balanced, selectkbest__k=9, score=0.7168141592920354, total=   0.0s\n",
            "[CV] logisticregression__C=0.0001, logisticregression__class_weight=balanced, selectkbest__k=9 \n",
            "[CV]  logisticregression__C=0.0001, logisticregression__class_weight=balanced, selectkbest__k=9, score=0.6428571428571429, total=   0.0s\n",
            "[CV] logisticregression__C=0.0001, logisticregression__class_weight=balanced, selectkbest__k=9 \n",
            "[CV]  logisticregression__C=0.0001, logisticregression__class_weight=balanced, selectkbest__k=9, score=0.7142857142857143, total=   0.0s\n",
            "[CV] logisticregression__C=0.0001, logisticregression__class_weight=balanced, selectkbest__k=9 \n",
            "[CV]  logisticregression__C=0.0001, logisticregression__class_weight=balanced, selectkbest__k=9, score=0.75, total=   0.0s\n",
            "[CV] logisticregression__C=0.0001, logisticregression__class_weight=balanced, selectkbest__k=9 \n",
            "[CV]  logisticregression__C=0.0001, logisticregression__class_weight=balanced, selectkbest__k=9, score=0.7321428571428571, total=   0.0s\n",
            "[CV] logisticregression__C=0.001, logisticregression__class_weight=None, selectkbest__k=1 \n",
            "[CV]  logisticregression__C=0.001, logisticregression__class_weight=None, selectkbest__k=1, score=0.7699115044247787, total=   0.0s\n",
            "[CV] logisticregression__C=0.001, logisticregression__class_weight=None, selectkbest__k=1 \n",
            "[CV]  logisticregression__C=0.001, logisticregression__class_weight=None, selectkbest__k=1, score=0.7678571428571429, total=   0.0s\n",
            "[CV] logisticregression__C=0.001, logisticregression__class_weight=None, selectkbest__k=1 \n",
            "[CV]  logisticregression__C=0.001, logisticregression__class_weight=None, selectkbest__k=1, score=0.7678571428571429, total=   0.0s\n",
            "[CV] logisticregression__C=0.001, logisticregression__class_weight=None, selectkbest__k=1 \n",
            "[CV]  logisticregression__C=0.001, logisticregression__class_weight=None, selectkbest__k=1, score=0.7678571428571429, total=   0.0s\n",
            "[CV] logisticregression__C=0.001, logisticregression__class_weight=None, selectkbest__k=1 \n",
            "[CV]  logisticregression__C=0.001, logisticregression__class_weight=None, selectkbest__k=1, score=0.7678571428571429, total=   0.0s\n",
            "[CV] logisticregression__C=0.001, logisticregression__class_weight=None, selectkbest__k=2 \n",
            "[CV]  logisticregression__C=0.001, logisticregression__class_weight=None, selectkbest__k=2, score=0.7699115044247787, total=   0.0s\n",
            "[CV] logisticregression__C=0.001, logisticregression__class_weight=None, selectkbest__k=2 \n",
            "[CV]  logisticregression__C=0.001, logisticregression__class_weight=None, selectkbest__k=2, score=0.7678571428571429, total=   0.0s\n",
            "[CV] logisticregression__C=0.001, logisticregression__class_weight=None, selectkbest__k=2 \n",
            "[CV]  logisticregression__C=0.001, logisticregression__class_weight=None, selectkbest__k=2, score=0.7678571428571429, total=   0.0s\n",
            "[CV] logisticregression__C=0.001, logisticregression__class_weight=None, selectkbest__k=2 \n",
            "[CV]  logisticregression__C=0.001, logisticregression__class_weight=None, selectkbest__k=2, score=0.7678571428571429, total=   0.0s\n",
            "[CV] logisticregression__C=0.001, logisticregression__class_weight=None, selectkbest__k=2 \n",
            "[CV]  logisticregression__C=0.001, logisticregression__class_weight=None, selectkbest__k=2, score=0.7678571428571429, total=   0.0s\n",
            "[CV] logisticregression__C=0.001, logisticregression__class_weight=None, selectkbest__k=3 \n",
            "[CV]  logisticregression__C=0.001, logisticregression__class_weight=None, selectkbest__k=3, score=0.7699115044247787, total=   0.0s\n",
            "[CV] logisticregression__C=0.001, logisticregression__class_weight=None, selectkbest__k=3 \n",
            "[CV]  logisticregression__C=0.001, logisticregression__class_weight=None, selectkbest__k=3, score=0.7678571428571429, total=   0.0s\n",
            "[CV] logisticregression__C=0.001, logisticregression__class_weight=None, selectkbest__k=3 \n",
            "[CV]  logisticregression__C=0.001, logisticregression__class_weight=None, selectkbest__k=3, score=0.7678571428571429, total=   0.0s\n",
            "[CV] logisticregression__C=0.001, logisticregression__class_weight=None, selectkbest__k=3 \n",
            "[CV]  logisticregression__C=0.001, logisticregression__class_weight=None, selectkbest__k=3, score=0.7678571428571429, total=   0.0s\n",
            "[CV] logisticregression__C=0.001, logisticregression__class_weight=None, selectkbest__k=3 \n",
            "[CV]  logisticregression__C=0.001, logisticregression__class_weight=None, selectkbest__k=3, score=0.7678571428571429, total=   0.0s\n",
            "[CV] logisticregression__C=0.001, logisticregression__class_weight=None, selectkbest__k=4 \n",
            "[CV]  logisticregression__C=0.001, logisticregression__class_weight=None, selectkbest__k=4, score=0.7699115044247787, total=   0.0s\n",
            "[CV] logisticregression__C=0.001, logisticregression__class_weight=None, selectkbest__k=4 \n",
            "[CV]  logisticregression__C=0.001, logisticregression__class_weight=None, selectkbest__k=4, score=0.7678571428571429, total=   0.0s\n",
            "[CV] logisticregression__C=0.001, logisticregression__class_weight=None, selectkbest__k=4 \n",
            "[CV]  logisticregression__C=0.001, logisticregression__class_weight=None, selectkbest__k=4, score=0.7678571428571429, total=   0.0s\n",
            "[CV] logisticregression__C=0.001, logisticregression__class_weight=None, selectkbest__k=4 \n",
            "[CV]  logisticregression__C=0.001, logisticregression__class_weight=None, selectkbest__k=4, score=0.7678571428571429, total=   0.0s\n",
            "[CV] logisticregression__C=0.001, logisticregression__class_weight=None, selectkbest__k=4 \n",
            "[CV]  logisticregression__C=0.001, logisticregression__class_weight=None, selectkbest__k=4, score=0.7678571428571429, total=   0.0s\n",
            "[CV] logisticregression__C=0.001, logisticregression__class_weight=None, selectkbest__k=5 \n",
            "[CV]  logisticregression__C=0.001, logisticregression__class_weight=None, selectkbest__k=5, score=0.7787610619469026, total=   0.0s\n",
            "[CV] logisticregression__C=0.001, logisticregression__class_weight=None, selectkbest__k=5 \n",
            "[CV]  logisticregression__C=0.001, logisticregression__class_weight=None, selectkbest__k=5, score=0.7589285714285714, total=   0.0s\n",
            "[CV] logisticregression__C=0.001, logisticregression__class_weight=None, selectkbest__k=5 \n",
            "[CV]  logisticregression__C=0.001, logisticregression__class_weight=None, selectkbest__k=5, score=0.7767857142857143, total=   0.0s\n",
            "[CV] logisticregression__C=0.001, logisticregression__class_weight=None, selectkbest__k=5 \n",
            "[CV]  logisticregression__C=0.001, logisticregression__class_weight=None, selectkbest__k=5, score=0.7767857142857143, total=   0.0s\n",
            "[CV] logisticregression__C=0.001, logisticregression__class_weight=None, selectkbest__k=5 \n",
            "[CV]  logisticregression__C=0.001, logisticregression__class_weight=None, selectkbest__k=5, score=0.7678571428571429, total=   0.0s\n",
            "[CV] logisticregression__C=0.001, logisticregression__class_weight=None, selectkbest__k=6 \n",
            "[CV]  logisticregression__C=0.001, logisticregression__class_weight=None, selectkbest__k=6, score=0.7787610619469026, total=   0.0s\n",
            "[CV] logisticregression__C=0.001, logisticregression__class_weight=None, selectkbest__k=6 \n",
            "[CV]  logisticregression__C=0.001, logisticregression__class_weight=None, selectkbest__k=6, score=0.7589285714285714, total=   0.0s\n",
            "[CV] logisticregression__C=0.001, logisticregression__class_weight=None, selectkbest__k=6 \n",
            "[CV]  logisticregression__C=0.001, logisticregression__class_weight=None, selectkbest__k=6, score=0.7767857142857143, total=   0.0s\n",
            "[CV] logisticregression__C=0.001, logisticregression__class_weight=None, selectkbest__k=6 \n",
            "[CV]  logisticregression__C=0.001, logisticregression__class_weight=None, selectkbest__k=6, score=0.7767857142857143, total=   0.0s\n",
            "[CV] logisticregression__C=0.001, logisticregression__class_weight=None, selectkbest__k=6 \n",
            "[CV]  logisticregression__C=0.001, logisticregression__class_weight=None, selectkbest__k=6, score=0.7678571428571429, total=   0.0s\n",
            "[CV] logisticregression__C=0.001, logisticregression__class_weight=None, selectkbest__k=7 \n",
            "[CV]  logisticregression__C=0.001, logisticregression__class_weight=None, selectkbest__k=7, score=0.7787610619469026, total=   0.0s\n",
            "[CV] logisticregression__C=0.001, logisticregression__class_weight=None, selectkbest__k=7 \n",
            "[CV]  logisticregression__C=0.001, logisticregression__class_weight=None, selectkbest__k=7, score=0.7589285714285714, total=   0.0s\n",
            "[CV] logisticregression__C=0.001, logisticregression__class_weight=None, selectkbest__k=7 \n",
            "[CV]  logisticregression__C=0.001, logisticregression__class_weight=None, selectkbest__k=7, score=0.7767857142857143, total=   0.0s\n",
            "[CV] logisticregression__C=0.001, logisticregression__class_weight=None, selectkbest__k=7 \n",
            "[CV]  logisticregression__C=0.001, logisticregression__class_weight=None, selectkbest__k=7, score=0.7767857142857143, total=   0.0s\n",
            "[CV] logisticregression__C=0.001, logisticregression__class_weight=None, selectkbest__k=7 \n",
            "[CV]  logisticregression__C=0.001, logisticregression__class_weight=None, selectkbest__k=7, score=0.7678571428571429, total=   0.0s\n",
            "[CV] logisticregression__C=0.001, logisticregression__class_weight=None, selectkbest__k=8 \n",
            "[CV]  logisticregression__C=0.001, logisticregression__class_weight=None, selectkbest__k=8, score=0.7787610619469026, total=   0.0s\n",
            "[CV] logisticregression__C=0.001, logisticregression__class_weight=None, selectkbest__k=8 \n",
            "[CV]  logisticregression__C=0.001, logisticregression__class_weight=None, selectkbest__k=8, score=0.7589285714285714, total=   0.0s\n",
            "[CV] logisticregression__C=0.001, logisticregression__class_weight=None, selectkbest__k=8 \n",
            "[CV]  logisticregression__C=0.001, logisticregression__class_weight=None, selectkbest__k=8, score=0.7767857142857143, total=   0.0s\n",
            "[CV] logisticregression__C=0.001, logisticregression__class_weight=None, selectkbest__k=8 \n",
            "[CV]  logisticregression__C=0.001, logisticregression__class_weight=None, selectkbest__k=8, score=0.7767857142857143, total=   0.0s\n",
            "[CV] logisticregression__C=0.001, logisticregression__class_weight=None, selectkbest__k=8 \n",
            "[CV]  logisticregression__C=0.001, logisticregression__class_weight=None, selectkbest__k=8, score=0.7678571428571429, total=   0.0s\n",
            "[CV] logisticregression__C=0.001, logisticregression__class_weight=None, selectkbest__k=9 \n",
            "[CV]  logisticregression__C=0.001, logisticregression__class_weight=None, selectkbest__k=9, score=0.7787610619469026, total=   0.0s\n",
            "[CV] logisticregression__C=0.001, logisticregression__class_weight=None, selectkbest__k=9 \n",
            "[CV]  logisticregression__C=0.001, logisticregression__class_weight=None, selectkbest__k=9, score=0.7589285714285714, total=   0.0s\n",
            "[CV] logisticregression__C=0.001, logisticregression__class_weight=None, selectkbest__k=9 \n",
            "[CV]  logisticregression__C=0.001, logisticregression__class_weight=None, selectkbest__k=9, score=0.7767857142857143, total=   0.0s\n",
            "[CV] logisticregression__C=0.001, logisticregression__class_weight=None, selectkbest__k=9 \n",
            "[CV]  logisticregression__C=0.001, logisticregression__class_weight=None, selectkbest__k=9, score=0.7767857142857143, total=   0.0s\n",
            "[CV] logisticregression__C=0.001, logisticregression__class_weight=None, selectkbest__k=9 \n",
            "[CV]  logisticregression__C=0.001, logisticregression__class_weight=None, selectkbest__k=9, score=0.7678571428571429, total=   0.0s\n",
            "[CV] logisticregression__C=0.001, logisticregression__class_weight=balanced, selectkbest__k=1 \n",
            "[CV]  logisticregression__C=0.001, logisticregression__class_weight=balanced, selectkbest__k=1, score=0.6637168141592921, total=   0.0s\n",
            "[CV] logisticregression__C=0.001, logisticregression__class_weight=balanced, selectkbest__k=1 \n",
            "[CV]  logisticregression__C=0.001, logisticregression__class_weight=balanced, selectkbest__k=1, score=0.5982142857142857, total=   0.0s\n",
            "[CV] logisticregression__C=0.001, logisticregression__class_weight=balanced, selectkbest__k=1 \n",
            "[CV]  logisticregression__C=0.001, logisticregression__class_weight=balanced, selectkbest__k=1, score=0.6696428571428571, total=   0.0s\n",
            "[CV] logisticregression__C=0.001, logisticregression__class_weight=balanced, selectkbest__k=1 \n",
            "[CV]  logisticregression__C=0.001, logisticregression__class_weight=balanced, selectkbest__k=1, score=0.6517857142857143, total=   0.0s\n",
            "[CV] logisticregression__C=0.001, logisticregression__class_weight=balanced, selectkbest__k=1 \n",
            "[CV]  logisticregression__C=0.001, logisticregression__class_weight=balanced, selectkbest__k=1, score=0.625, total=   0.0s\n",
            "[CV] logisticregression__C=0.001, logisticregression__class_weight=balanced, selectkbest__k=2 \n",
            "[CV]  logisticregression__C=0.001, logisticregression__class_weight=balanced, selectkbest__k=2, score=0.6548672566371682, total=   0.0s\n",
            "[CV] logisticregression__C=0.001, logisticregression__class_weight=balanced, selectkbest__k=2 \n",
            "[CV]  logisticregression__C=0.001, logisticregression__class_weight=balanced, selectkbest__k=2, score=0.5803571428571429, total=   0.0s\n",
            "[CV] logisticregression__C=0.001, logisticregression__class_weight=balanced, selectkbest__k=2 \n",
            "[CV]  logisticregression__C=0.001, logisticregression__class_weight=balanced, selectkbest__k=2, score=0.6696428571428571, total=   0.0s\n",
            "[CV] logisticregression__C=0.001, logisticregression__class_weight=balanced, selectkbest__k=2 \n",
            "[CV]  logisticregression__C=0.001, logisticregression__class_weight=balanced, selectkbest__k=2, score=0.6339285714285714, total=   0.0s\n",
            "[CV] logisticregression__C=0.001, logisticregression__class_weight=balanced, selectkbest__k=2 \n",
            "[CV]  logisticregression__C=0.001, logisticregression__class_weight=balanced, selectkbest__k=2, score=0.625, total=   0.0s\n",
            "[CV] logisticregression__C=0.001, logisticregression__class_weight=balanced, selectkbest__k=3 \n",
            "[CV]  logisticregression__C=0.001, logisticregression__class_weight=balanced, selectkbest__k=3, score=0.6637168141592921, total=   0.0s\n",
            "[CV] logisticregression__C=0.001, logisticregression__class_weight=balanced, selectkbest__k=3 \n",
            "[CV]  logisticregression__C=0.001, logisticregression__class_weight=balanced, selectkbest__k=3, score=0.6071428571428571, total=   0.0s\n",
            "[CV] logisticregression__C=0.001, logisticregression__class_weight=balanced, selectkbest__k=3 \n",
            "[CV]  logisticregression__C=0.001, logisticregression__class_weight=balanced, selectkbest__k=3, score=0.6607142857142857, total=   0.0s\n",
            "[CV] logisticregression__C=0.001, logisticregression__class_weight=balanced, selectkbest__k=3 \n",
            "[CV]  logisticregression__C=0.001, logisticregression__class_weight=balanced, selectkbest__k=3, score=0.7321428571428571, total=   0.0s\n",
            "[CV] logisticregression__C=0.001, logisticregression__class_weight=balanced, selectkbest__k=3 \n",
            "[CV]  logisticregression__C=0.001, logisticregression__class_weight=balanced, selectkbest__k=3, score=0.7142857142857143, total=   0.0s\n",
            "[CV] logisticregression__C=0.001, logisticregression__class_weight=balanced, selectkbest__k=4 \n",
            "[CV]  logisticregression__C=0.001, logisticregression__class_weight=balanced, selectkbest__k=4, score=0.6814159292035398, total=   0.0s\n",
            "[CV] logisticregression__C=0.001, logisticregression__class_weight=balanced, selectkbest__k=4 \n",
            "[CV]  logisticregression__C=0.001, logisticregression__class_weight=balanced, selectkbest__k=4, score=0.6428571428571429, total=   0.0s\n",
            "[CV] logisticregression__C=0.001, logisticregression__class_weight=balanced, selectkbest__k=4 \n",
            "[CV]  logisticregression__C=0.001, logisticregression__class_weight=balanced, selectkbest__k=4, score=0.6696428571428571, total=   0.0s\n",
            "[CV] logisticregression__C=0.001, logisticregression__class_weight=balanced, selectkbest__k=4 \n",
            "[CV]  logisticregression__C=0.001, logisticregression__class_weight=balanced, selectkbest__k=4, score=0.7410714285714286, total=   0.0s\n",
            "[CV] logisticregression__C=0.001, logisticregression__class_weight=balanced, selectkbest__k=4 \n",
            "[CV]  logisticregression__C=0.001, logisticregression__class_weight=balanced, selectkbest__k=4, score=0.7053571428571429, total=   0.0s\n",
            "[CV] logisticregression__C=0.001, logisticregression__class_weight=balanced, selectkbest__k=5 \n",
            "[CV]  logisticregression__C=0.001, logisticregression__class_weight=balanced, selectkbest__k=5, score=0.7168141592920354, total=   0.0s\n",
            "[CV] logisticregression__C=0.001, logisticregression__class_weight=balanced, selectkbest__k=5 \n",
            "[CV]  logisticregression__C=0.001, logisticregression__class_weight=balanced, selectkbest__k=5, score=0.6517857142857143, total=   0.0s\n",
            "[CV] logisticregression__C=0.001, logisticregression__class_weight=balanced, selectkbest__k=5 \n",
            "[CV]  logisticregression__C=0.001, logisticregression__class_weight=balanced, selectkbest__k=5, score=0.7053571428571429, total=   0.0s\n",
            "[CV] logisticregression__C=0.001, logisticregression__class_weight=balanced, selectkbest__k=5 \n",
            "[CV]  logisticregression__C=0.001, logisticregression__class_weight=balanced, selectkbest__k=5, score=0.7589285714285714, total=   0.0s\n",
            "[CV] logisticregression__C=0.001, logisticregression__class_weight=balanced, selectkbest__k=5 \n",
            "[CV]  logisticregression__C=0.001, logisticregression__class_weight=balanced, selectkbest__k=5, score=0.7232142857142857, total=   0.0s\n",
            "[CV] logisticregression__C=0.001, logisticregression__class_weight=balanced, selectkbest__k=6 \n",
            "[CV]  logisticregression__C=0.001, logisticregression__class_weight=balanced, selectkbest__k=6, score=0.7168141592920354, total=   0.0s\n",
            "[CV] logisticregression__C=0.001, logisticregression__class_weight=balanced, selectkbest__k=6 \n",
            "[CV]  logisticregression__C=0.001, logisticregression__class_weight=balanced, selectkbest__k=6, score=0.6517857142857143, total=   0.0s\n",
            "[CV] logisticregression__C=0.001, logisticregression__class_weight=balanced, selectkbest__k=6 \n",
            "[CV]  logisticregression__C=0.001, logisticregression__class_weight=balanced, selectkbest__k=6, score=0.7053571428571429, total=   0.0s\n",
            "[CV] logisticregression__C=0.001, logisticregression__class_weight=balanced, selectkbest__k=6 \n",
            "[CV]  logisticregression__C=0.001, logisticregression__class_weight=balanced, selectkbest__k=6, score=0.7589285714285714, total=   0.0s\n",
            "[CV] logisticregression__C=0.001, logisticregression__class_weight=balanced, selectkbest__k=6 \n",
            "[CV]  logisticregression__C=0.001, logisticregression__class_weight=balanced, selectkbest__k=6, score=0.7142857142857143, total=   0.0s\n",
            "[CV] logisticregression__C=0.001, logisticregression__class_weight=balanced, selectkbest__k=7 \n",
            "[CV]  logisticregression__C=0.001, logisticregression__class_weight=balanced, selectkbest__k=7, score=0.7256637168141593, total=   0.0s\n",
            "[CV] logisticregression__C=0.001, logisticregression__class_weight=balanced, selectkbest__k=7 \n",
            "[CV]  logisticregression__C=0.001, logisticregression__class_weight=balanced, selectkbest__k=7, score=0.6517857142857143, total=   0.0s\n",
            "[CV] logisticregression__C=0.001, logisticregression__class_weight=balanced, selectkbest__k=7 \n",
            "[CV]  logisticregression__C=0.001, logisticregression__class_weight=balanced, selectkbest__k=7, score=0.7142857142857143, total=   0.0s\n",
            "[CV] logisticregression__C=0.001, logisticregression__class_weight=balanced, selectkbest__k=7 \n",
            "[CV]  logisticregression__C=0.001, logisticregression__class_weight=balanced, selectkbest__k=7, score=0.75, total=   0.0s\n",
            "[CV] logisticregression__C=0.001, logisticregression__class_weight=balanced, selectkbest__k=7 \n",
            "[CV]  logisticregression__C=0.001, logisticregression__class_weight=balanced, selectkbest__k=7, score=0.75, total=   0.0s\n",
            "[CV] logisticregression__C=0.001, logisticregression__class_weight=balanced, selectkbest__k=8 \n",
            "[CV]  logisticregression__C=0.001, logisticregression__class_weight=balanced, selectkbest__k=8, score=0.7168141592920354, total=   0.0s\n",
            "[CV] logisticregression__C=0.001, logisticregression__class_weight=balanced, selectkbest__k=8 \n",
            "[CV]  logisticregression__C=0.001, logisticregression__class_weight=balanced, selectkbest__k=8, score=0.6607142857142857, total=   0.0s\n",
            "[CV] logisticregression__C=0.001, logisticregression__class_weight=balanced, selectkbest__k=8 \n",
            "[CV]  logisticregression__C=0.001, logisticregression__class_weight=balanced, selectkbest__k=8, score=0.75, total=   0.0s\n",
            "[CV] logisticregression__C=0.001, logisticregression__class_weight=balanced, selectkbest__k=8 \n",
            "[CV]  logisticregression__C=0.001, logisticregression__class_weight=balanced, selectkbest__k=8, score=0.75, total=   0.0s\n",
            "[CV] logisticregression__C=0.001, logisticregression__class_weight=balanced, selectkbest__k=8 \n",
            "[CV]  logisticregression__C=0.001, logisticregression__class_weight=balanced, selectkbest__k=8, score=0.75, total=   0.0s\n",
            "[CV] logisticregression__C=0.001, logisticregression__class_weight=balanced, selectkbest__k=9 \n",
            "[CV]  logisticregression__C=0.001, logisticregression__class_weight=balanced, selectkbest__k=9, score=0.7168141592920354, total=   0.0s\n",
            "[CV] logisticregression__C=0.001, logisticregression__class_weight=balanced, selectkbest__k=9 \n",
            "[CV]  logisticregression__C=0.001, logisticregression__class_weight=balanced, selectkbest__k=9, score=0.6607142857142857, total=   0.0s\n",
            "[CV] logisticregression__C=0.001, logisticregression__class_weight=balanced, selectkbest__k=9 \n",
            "[CV]  logisticregression__C=0.001, logisticregression__class_weight=balanced, selectkbest__k=9, score=0.75, total=   0.0s\n",
            "[CV] logisticregression__C=0.001, logisticregression__class_weight=balanced, selectkbest__k=9 \n",
            "[CV]  logisticregression__C=0.001, logisticregression__class_weight=balanced, selectkbest__k=9, score=0.75, total=   0.0s\n",
            "[CV] logisticregression__C=0.001, logisticregression__class_weight=balanced, selectkbest__k=9 \n",
            "[CV]  logisticregression__C=0.001, logisticregression__class_weight=balanced, selectkbest__k=9, score=0.75, total=   0.0s\n",
            "[CV] logisticregression__C=0.01, logisticregression__class_weight=None, selectkbest__k=1 \n",
            "[CV]  logisticregression__C=0.01, logisticregression__class_weight=None, selectkbest__k=1, score=0.7699115044247787, total=   0.0s\n",
            "[CV] logisticregression__C=0.01, logisticregression__class_weight=None, selectkbest__k=1 \n",
            "[CV]  logisticregression__C=0.01, logisticregression__class_weight=None, selectkbest__k=1, score=0.7678571428571429, total=   0.0s\n",
            "[CV] logisticregression__C=0.01, logisticregression__class_weight=None, selectkbest__k=1 \n",
            "[CV]  logisticregression__C=0.01, logisticregression__class_weight=None, selectkbest__k=1, score=0.7678571428571429, total=   0.0s\n",
            "[CV] logisticregression__C=0.01, logisticregression__class_weight=None, selectkbest__k=1 \n",
            "[CV]  logisticregression__C=0.01, logisticregression__class_weight=None, selectkbest__k=1, score=0.7678571428571429, total=   0.0s\n",
            "[CV] logisticregression__C=0.01, logisticregression__class_weight=None, selectkbest__k=1 \n",
            "[CV]  logisticregression__C=0.01, logisticregression__class_weight=None, selectkbest__k=1, score=0.7678571428571429, total=   0.0s\n",
            "[CV] logisticregression__C=0.01, logisticregression__class_weight=None, selectkbest__k=2 \n",
            "[CV]  logisticregression__C=0.01, logisticregression__class_weight=None, selectkbest__k=2, score=0.7699115044247787, total=   0.0s\n",
            "[CV] logisticregression__C=0.01, logisticregression__class_weight=None, selectkbest__k=2 \n",
            "[CV]  logisticregression__C=0.01, logisticregression__class_weight=None, selectkbest__k=2, score=0.7678571428571429, total=   0.0s\n",
            "[CV] logisticregression__C=0.01, logisticregression__class_weight=None, selectkbest__k=2 \n",
            "[CV]  logisticregression__C=0.01, logisticregression__class_weight=None, selectkbest__k=2, score=0.7678571428571429, total=   0.0s\n",
            "[CV] logisticregression__C=0.01, logisticregression__class_weight=None, selectkbest__k=2 \n",
            "[CV]  logisticregression__C=0.01, logisticregression__class_weight=None, selectkbest__k=2, score=0.7678571428571429, total=   0.0s\n",
            "[CV] logisticregression__C=0.01, logisticregression__class_weight=None, selectkbest__k=2 \n",
            "[CV]  logisticregression__C=0.01, logisticregression__class_weight=None, selectkbest__k=2, score=0.7678571428571429, total=   0.0s\n",
            "[CV] logisticregression__C=0.01, logisticregression__class_weight=None, selectkbest__k=3 \n",
            "[CV]  logisticregression__C=0.01, logisticregression__class_weight=None, selectkbest__k=3, score=0.7787610619469026, total=   0.0s\n",
            "[CV] logisticregression__C=0.01, logisticregression__class_weight=None, selectkbest__k=3 \n",
            "[CV]  logisticregression__C=0.01, logisticregression__class_weight=None, selectkbest__k=3, score=0.7678571428571429, total=   0.0s\n",
            "[CV] logisticregression__C=0.01, logisticregression__class_weight=None, selectkbest__k=3 \n",
            "[CV]  logisticregression__C=0.01, logisticregression__class_weight=None, selectkbest__k=3, score=0.7767857142857143, total=   0.0s\n",
            "[CV] logisticregression__C=0.01, logisticregression__class_weight=None, selectkbest__k=3 \n",
            "[CV]  logisticregression__C=0.01, logisticregression__class_weight=None, selectkbest__k=3, score=0.7767857142857143, total=   0.0s\n",
            "[CV] logisticregression__C=0.01, logisticregression__class_weight=None, selectkbest__k=3 \n",
            "[CV]  logisticregression__C=0.01, logisticregression__class_weight=None, selectkbest__k=3, score=0.7678571428571429, total=   0.0s\n",
            "[CV] logisticregression__C=0.01, logisticregression__class_weight=None, selectkbest__k=4 \n",
            "[CV]  logisticregression__C=0.01, logisticregression__class_weight=None, selectkbest__k=4, score=0.7787610619469026, total=   0.0s\n",
            "[CV] logisticregression__C=0.01, logisticregression__class_weight=None, selectkbest__k=4 \n",
            "[CV]  logisticregression__C=0.01, logisticregression__class_weight=None, selectkbest__k=4, score=0.75, total=   0.0s\n",
            "[CV] logisticregression__C=0.01, logisticregression__class_weight=None, selectkbest__k=4 \n",
            "[CV]  logisticregression__C=0.01, logisticregression__class_weight=None, selectkbest__k=4, score=0.7767857142857143, total=   0.0s\n",
            "[CV] logisticregression__C=0.01, logisticregression__class_weight=None, selectkbest__k=4 \n",
            "[CV]  logisticregression__C=0.01, logisticregression__class_weight=None, selectkbest__k=4, score=0.7767857142857143, total=   0.0s\n",
            "[CV] logisticregression__C=0.01, logisticregression__class_weight=None, selectkbest__k=4 \n",
            "[CV]  logisticregression__C=0.01, logisticregression__class_weight=None, selectkbest__k=4, score=0.7857142857142857, total=   0.0s\n",
            "[CV] logisticregression__C=0.01, logisticregression__class_weight=None, selectkbest__k=5 \n",
            "[CV]  logisticregression__C=0.01, logisticregression__class_weight=None, selectkbest__k=5, score=0.7787610619469026, total=   0.0s\n",
            "[CV] logisticregression__C=0.01, logisticregression__class_weight=None, selectkbest__k=5 \n",
            "[CV]  logisticregression__C=0.01, logisticregression__class_weight=None, selectkbest__k=5, score=0.75, total=   0.0s\n",
            "[CV] logisticregression__C=0.01, logisticregression__class_weight=None, selectkbest__k=5 \n",
            "[CV]  logisticregression__C=0.01, logisticregression__class_weight=None, selectkbest__k=5, score=0.7767857142857143, total=   0.0s\n",
            "[CV] logisticregression__C=0.01, logisticregression__class_weight=None, selectkbest__k=5 \n",
            "[CV]  logisticregression__C=0.01, logisticregression__class_weight=None, selectkbest__k=5, score=0.7767857142857143, total=   0.0s\n",
            "[CV] logisticregression__C=0.01, logisticregression__class_weight=None, selectkbest__k=5 \n",
            "[CV]  logisticregression__C=0.01, logisticregression__class_weight=None, selectkbest__k=5, score=0.7857142857142857, total=   0.0s\n",
            "[CV] logisticregression__C=0.01, logisticregression__class_weight=None, selectkbest__k=6 \n",
            "[CV]  logisticregression__C=0.01, logisticregression__class_weight=None, selectkbest__k=6, score=0.7787610619469026, total=   0.0s\n",
            "[CV] logisticregression__C=0.01, logisticregression__class_weight=None, selectkbest__k=6 \n",
            "[CV]  logisticregression__C=0.01, logisticregression__class_weight=None, selectkbest__k=6, score=0.75, total=   0.0s\n",
            "[CV] logisticregression__C=0.01, logisticregression__class_weight=None, selectkbest__k=6 \n",
            "[CV]  logisticregression__C=0.01, logisticregression__class_weight=None, selectkbest__k=6, score=0.7767857142857143, total=   0.0s\n",
            "[CV] logisticregression__C=0.01, logisticregression__class_weight=None, selectkbest__k=6 \n",
            "[CV]  logisticregression__C=0.01, logisticregression__class_weight=None, selectkbest__k=6, score=0.7767857142857143, total=   0.0s\n",
            "[CV] logisticregression__C=0.01, logisticregression__class_weight=None, selectkbest__k=6 \n",
            "[CV]  logisticregression__C=0.01, logisticregression__class_weight=None, selectkbest__k=6, score=0.7857142857142857, total=   0.0s\n",
            "[CV] logisticregression__C=0.01, logisticregression__class_weight=None, selectkbest__k=7 \n",
            "[CV]  logisticregression__C=0.01, logisticregression__class_weight=None, selectkbest__k=7, score=0.7787610619469026, total=   0.0s\n",
            "[CV] logisticregression__C=0.01, logisticregression__class_weight=None, selectkbest__k=7 \n",
            "[CV]  logisticregression__C=0.01, logisticregression__class_weight=None, selectkbest__k=7, score=0.75, total=   0.0s\n",
            "[CV] logisticregression__C=0.01, logisticregression__class_weight=None, selectkbest__k=7 \n",
            "[CV]  logisticregression__C=0.01, logisticregression__class_weight=None, selectkbest__k=7, score=0.7767857142857143, total=   0.0s\n",
            "[CV] logisticregression__C=0.01, logisticregression__class_weight=None, selectkbest__k=7 \n",
            "[CV]  logisticregression__C=0.01, logisticregression__class_weight=None, selectkbest__k=7, score=0.7767857142857143, total=   0.0s\n",
            "[CV] logisticregression__C=0.01, logisticregression__class_weight=None, selectkbest__k=7 \n",
            "[CV]  logisticregression__C=0.01, logisticregression__class_weight=None, selectkbest__k=7, score=0.7857142857142857, total=   0.0s\n",
            "[CV] logisticregression__C=0.01, logisticregression__class_weight=None, selectkbest__k=8 \n",
            "[CV]  logisticregression__C=0.01, logisticregression__class_weight=None, selectkbest__k=8, score=0.7787610619469026, total=   0.0s\n",
            "[CV] logisticregression__C=0.01, logisticregression__class_weight=None, selectkbest__k=8 \n",
            "[CV]  logisticregression__C=0.01, logisticregression__class_weight=None, selectkbest__k=8, score=0.75, total=   0.0s\n",
            "[CV] logisticregression__C=0.01, logisticregression__class_weight=None, selectkbest__k=8 \n",
            "[CV]  logisticregression__C=0.01, logisticregression__class_weight=None, selectkbest__k=8, score=0.7767857142857143, total=   0.0s\n",
            "[CV] logisticregression__C=0.01, logisticregression__class_weight=None, selectkbest__k=8 \n",
            "[CV]  logisticregression__C=0.01, logisticregression__class_weight=None, selectkbest__k=8, score=0.7767857142857143, total=   0.0s\n",
            "[CV] logisticregression__C=0.01, logisticregression__class_weight=None, selectkbest__k=8 \n",
            "[CV]  logisticregression__C=0.01, logisticregression__class_weight=None, selectkbest__k=8, score=0.7857142857142857, total=   0.0s\n",
            "[CV] logisticregression__C=0.01, logisticregression__class_weight=None, selectkbest__k=9 \n",
            "[CV]  logisticregression__C=0.01, logisticregression__class_weight=None, selectkbest__k=9, score=0.7787610619469026, total=   0.0s\n",
            "[CV] logisticregression__C=0.01, logisticregression__class_weight=None, selectkbest__k=9 \n",
            "[CV]  logisticregression__C=0.01, logisticregression__class_weight=None, selectkbest__k=9, score=0.75, total=   0.0s\n",
            "[CV] logisticregression__C=0.01, logisticregression__class_weight=None, selectkbest__k=9 \n",
            "[CV]  logisticregression__C=0.01, logisticregression__class_weight=None, selectkbest__k=9, score=0.7767857142857143, total=   0.0s\n",
            "[CV] logisticregression__C=0.01, logisticregression__class_weight=None, selectkbest__k=9 \n",
            "[CV]  logisticregression__C=0.01, logisticregression__class_weight=None, selectkbest__k=9, score=0.7767857142857143, total=   0.0s\n",
            "[CV] logisticregression__C=0.01, logisticregression__class_weight=None, selectkbest__k=9 \n",
            "[CV]  logisticregression__C=0.01, logisticregression__class_weight=None, selectkbest__k=9, score=0.7857142857142857, total=   0.0s\n",
            "[CV] logisticregression__C=0.01, logisticregression__class_weight=balanced, selectkbest__k=1 \n",
            "[CV]  logisticregression__C=0.01, logisticregression__class_weight=balanced, selectkbest__k=1, score=0.6637168141592921, total=   0.0s\n",
            "[CV] logisticregression__C=0.01, logisticregression__class_weight=balanced, selectkbest__k=1 \n",
            "[CV]  logisticregression__C=0.01, logisticregression__class_weight=balanced, selectkbest__k=1, score=0.5982142857142857, total=   0.0s\n",
            "[CV] logisticregression__C=0.01, logisticregression__class_weight=balanced, selectkbest__k=1 \n",
            "[CV]  logisticregression__C=0.01, logisticregression__class_weight=balanced, selectkbest__k=1, score=0.6696428571428571, total=   0.0s\n",
            "[CV] logisticregression__C=0.01, logisticregression__class_weight=balanced, selectkbest__k=1 \n",
            "[CV]  logisticregression__C=0.01, logisticregression__class_weight=balanced, selectkbest__k=1, score=0.6517857142857143, total=   0.0s\n",
            "[CV] logisticregression__C=0.01, logisticregression__class_weight=balanced, selectkbest__k=1 \n",
            "[CV]  logisticregression__C=0.01, logisticregression__class_weight=balanced, selectkbest__k=1, score=0.625, total=   0.0s\n",
            "[CV] logisticregression__C=0.01, logisticregression__class_weight=balanced, selectkbest__k=2 \n",
            "[CV]  logisticregression__C=0.01, logisticregression__class_weight=balanced, selectkbest__k=2, score=0.6548672566371682, total=   0.0s\n",
            "[CV] logisticregression__C=0.01, logisticregression__class_weight=balanced, selectkbest__k=2 \n",
            "[CV]  logisticregression__C=0.01, logisticregression__class_weight=balanced, selectkbest__k=2, score=0.5803571428571429, total=   0.0s\n",
            "[CV] logisticregression__C=0.01, logisticregression__class_weight=balanced, selectkbest__k=2 \n",
            "[CV]  logisticregression__C=0.01, logisticregression__class_weight=balanced, selectkbest__k=2, score=0.6696428571428571, total=   0.0s\n",
            "[CV] logisticregression__C=0.01, logisticregression__class_weight=balanced, selectkbest__k=2 \n",
            "[CV]  logisticregression__C=0.01, logisticregression__class_weight=balanced, selectkbest__k=2, score=0.6339285714285714, total=   0.0s\n",
            "[CV] logisticregression__C=0.01, logisticregression__class_weight=balanced, selectkbest__k=2 \n",
            "[CV]  logisticregression__C=0.01, logisticregression__class_weight=balanced, selectkbest__k=2, score=0.625, total=   0.0s\n",
            "[CV] logisticregression__C=0.01, logisticregression__class_weight=balanced, selectkbest__k=3 \n",
            "[CV]  logisticregression__C=0.01, logisticregression__class_weight=balanced, selectkbest__k=3, score=0.6371681415929203, total=   0.0s\n",
            "[CV] logisticregression__C=0.01, logisticregression__class_weight=balanced, selectkbest__k=3 \n",
            "[CV]  logisticregression__C=0.01, logisticregression__class_weight=balanced, selectkbest__k=3, score=0.5803571428571429, total=   0.0s\n",
            "[CV] logisticregression__C=0.01, logisticregression__class_weight=balanced, selectkbest__k=3 \n",
            "[CV]  logisticregression__C=0.01, logisticregression__class_weight=balanced, selectkbest__k=3, score=0.6517857142857143, total=   0.0s\n",
            "[CV] logisticregression__C=0.01, logisticregression__class_weight=balanced, selectkbest__k=3 \n",
            "[CV]  logisticregression__C=0.01, logisticregression__class_weight=balanced, selectkbest__k=3, score=0.6785714285714286, total=   0.0s\n",
            "[CV] logisticregression__C=0.01, logisticregression__class_weight=balanced, selectkbest__k=3 \n",
            "[CV]  logisticregression__C=0.01, logisticregression__class_weight=balanced, selectkbest__k=3, score=0.6428571428571429, total=   0.0s\n",
            "[CV] logisticregression__C=0.01, logisticregression__class_weight=balanced, selectkbest__k=4 \n",
            "[CV]  logisticregression__C=0.01, logisticregression__class_weight=balanced, selectkbest__k=4, score=0.6283185840707964, total=   0.0s\n",
            "[CV] logisticregression__C=0.01, logisticregression__class_weight=balanced, selectkbest__k=4 \n",
            "[CV]  logisticregression__C=0.01, logisticregression__class_weight=balanced, selectkbest__k=4, score=0.6071428571428571, total=   0.0s\n",
            "[CV] logisticregression__C=0.01, logisticregression__class_weight=balanced, selectkbest__k=4 \n",
            "[CV]  logisticregression__C=0.01, logisticregression__class_weight=balanced, selectkbest__k=4, score=0.6160714285714286, total=   0.0s\n",
            "[CV] logisticregression__C=0.01, logisticregression__class_weight=balanced, selectkbest__k=4 \n",
            "[CV]  logisticregression__C=0.01, logisticregression__class_weight=balanced, selectkbest__k=4, score=0.7142857142857143, total=   0.0s\n",
            "[CV] logisticregression__C=0.01, logisticregression__class_weight=balanced, selectkbest__k=4 \n",
            "[CV]  logisticregression__C=0.01, logisticregression__class_weight=balanced, selectkbest__k=4, score=0.6785714285714286, total=   0.0s\n",
            "[CV] logisticregression__C=0.01, logisticregression__class_weight=balanced, selectkbest__k=5 \n",
            "[CV]  logisticregression__C=0.01, logisticregression__class_weight=balanced, selectkbest__k=5, score=0.6283185840707964, total=   0.0s\n",
            "[CV] logisticregression__C=0.01, logisticregression__class_weight=balanced, selectkbest__k=5 \n",
            "[CV]  logisticregression__C=0.01, logisticregression__class_weight=balanced, selectkbest__k=5, score=0.6071428571428571, total=   0.0s\n",
            "[CV] logisticregression__C=0.01, logisticregression__class_weight=balanced, selectkbest__k=5 \n",
            "[CV]  logisticregression__C=0.01, logisticregression__class_weight=balanced, selectkbest__k=5, score=0.6160714285714286, total=   0.0s\n",
            "[CV] logisticregression__C=0.01, logisticregression__class_weight=balanced, selectkbest__k=5 \n",
            "[CV]  logisticregression__C=0.01, logisticregression__class_weight=balanced, selectkbest__k=5, score=0.6785714285714286, total=   0.0s\n",
            "[CV] logisticregression__C=0.01, logisticregression__class_weight=balanced, selectkbest__k=5 \n",
            "[CV]  logisticregression__C=0.01, logisticregression__class_weight=balanced, selectkbest__k=5, score=0.6785714285714286, total=   0.0s\n",
            "[CV] logisticregression__C=0.01, logisticregression__class_weight=balanced, selectkbest__k=6 \n",
            "[CV]  logisticregression__C=0.01, logisticregression__class_weight=balanced, selectkbest__k=6, score=0.6283185840707964, total=   0.0s\n",
            "[CV] logisticregression__C=0.01, logisticregression__class_weight=balanced, selectkbest__k=6 \n",
            "[CV]  logisticregression__C=0.01, logisticregression__class_weight=balanced, selectkbest__k=6, score=0.6071428571428571, total=   0.0s\n",
            "[CV] logisticregression__C=0.01, logisticregression__class_weight=balanced, selectkbest__k=6 \n",
            "[CV]  logisticregression__C=0.01, logisticregression__class_weight=balanced, selectkbest__k=6, score=0.6160714285714286, total=   0.0s\n",
            "[CV] logisticregression__C=0.01, logisticregression__class_weight=balanced, selectkbest__k=6 \n",
            "[CV]  logisticregression__C=0.01, logisticregression__class_weight=balanced, selectkbest__k=6, score=0.6785714285714286, total=   0.0s\n",
            "[CV] logisticregression__C=0.01, logisticregression__class_weight=balanced, selectkbest__k=6 \n",
            "[CV]  logisticregression__C=0.01, logisticregression__class_weight=balanced, selectkbest__k=6, score=0.6785714285714286, total=   0.0s\n",
            "[CV] logisticregression__C=0.01, logisticregression__class_weight=balanced, selectkbest__k=7 \n",
            "[CV]  logisticregression__C=0.01, logisticregression__class_weight=balanced, selectkbest__k=7, score=0.6460176991150443, total=   0.0s\n",
            "[CV] logisticregression__C=0.01, logisticregression__class_weight=balanced, selectkbest__k=7 \n",
            "[CV]  logisticregression__C=0.01, logisticregression__class_weight=balanced, selectkbest__k=7, score=0.6071428571428571, total=   0.0s\n",
            "[CV] logisticregression__C=0.01, logisticregression__class_weight=balanced, selectkbest__k=7 \n",
            "[CV]  logisticregression__C=0.01, logisticregression__class_weight=balanced, selectkbest__k=7, score=0.625, total=   0.0s\n",
            "[CV] logisticregression__C=0.01, logisticregression__class_weight=balanced, selectkbest__k=7 \n",
            "[CV]  logisticregression__C=0.01, logisticregression__class_weight=balanced, selectkbest__k=7, score=0.6339285714285714, total=   0.0s\n",
            "[CV] logisticregression__C=0.01, logisticregression__class_weight=balanced, selectkbest__k=7 \n",
            "[CV]  logisticregression__C=0.01, logisticregression__class_weight=balanced, selectkbest__k=7, score=0.6696428571428571, total=   0.0s\n",
            "[CV] logisticregression__C=0.01, logisticregression__class_weight=balanced, selectkbest__k=8 \n",
            "[CV]  logisticregression__C=0.01, logisticregression__class_weight=balanced, selectkbest__k=8, score=0.6637168141592921, total=   0.0s\n",
            "[CV] logisticregression__C=0.01, logisticregression__class_weight=balanced, selectkbest__k=8 \n",
            "[CV]  logisticregression__C=0.01, logisticregression__class_weight=balanced, selectkbest__k=8, score=0.6160714285714286, total=   0.0s\n",
            "[CV] logisticregression__C=0.01, logisticregression__class_weight=balanced, selectkbest__k=8 \n",
            "[CV]  logisticregression__C=0.01, logisticregression__class_weight=balanced, selectkbest__k=8, score=0.6160714285714286, total=   0.0s\n",
            "[CV] logisticregression__C=0.01, logisticregression__class_weight=balanced, selectkbest__k=8 \n",
            "[CV]  logisticregression__C=0.01, logisticregression__class_weight=balanced, selectkbest__k=8, score=0.6428571428571429, total=   0.0s\n",
            "[CV] logisticregression__C=0.01, logisticregression__class_weight=balanced, selectkbest__k=8 \n",
            "[CV]  logisticregression__C=0.01, logisticregression__class_weight=balanced, selectkbest__k=8, score=0.6696428571428571, total=   0.0s\n",
            "[CV] logisticregression__C=0.01, logisticregression__class_weight=balanced, selectkbest__k=9 \n",
            "[CV]  logisticregression__C=0.01, logisticregression__class_weight=balanced, selectkbest__k=9, score=0.6637168141592921, total=   0.0s\n",
            "[CV] logisticregression__C=0.01, logisticregression__class_weight=balanced, selectkbest__k=9 \n",
            "[CV]  logisticregression__C=0.01, logisticregression__class_weight=balanced, selectkbest__k=9, score=0.6160714285714286, total=   0.0s\n",
            "[CV] logisticregression__C=0.01, logisticregression__class_weight=balanced, selectkbest__k=9 \n",
            "[CV]  logisticregression__C=0.01, logisticregression__class_weight=balanced, selectkbest__k=9, score=0.6160714285714286, total=   0.0s\n",
            "[CV] logisticregression__C=0.01, logisticregression__class_weight=balanced, selectkbest__k=9 \n",
            "[CV]  logisticregression__C=0.01, logisticregression__class_weight=balanced, selectkbest__k=9, score=0.6428571428571429, total=   0.0s\n",
            "[CV] logisticregression__C=0.01, logisticregression__class_weight=balanced, selectkbest__k=9 \n",
            "[CV]  logisticregression__C=0.01, logisticregression__class_weight=balanced, selectkbest__k=9, score=0.6696428571428571, total=   0.0s\n",
            "[CV] logisticregression__C=0.1, logisticregression__class_weight=None, selectkbest__k=1 \n",
            "[CV]  logisticregression__C=0.1, logisticregression__class_weight=None, selectkbest__k=1, score=0.7610619469026548, total=   0.0s\n",
            "[CV] logisticregression__C=0.1, logisticregression__class_weight=None, selectkbest__k=1 \n",
            "[CV]  logisticregression__C=0.1, logisticregression__class_weight=None, selectkbest__k=1, score=0.7678571428571429, total=   0.0s\n",
            "[CV] logisticregression__C=0.1, logisticregression__class_weight=None, selectkbest__k=1 \n",
            "[CV]  logisticregression__C=0.1, logisticregression__class_weight=None, selectkbest__k=1, score=0.7678571428571429, total=   0.0s\n",
            "[CV] logisticregression__C=0.1, logisticregression__class_weight=None, selectkbest__k=1 \n",
            "[CV]  logisticregression__C=0.1, logisticregression__class_weight=None, selectkbest__k=1, score=0.7678571428571429, total=   0.0s\n",
            "[CV] logisticregression__C=0.1, logisticregression__class_weight=None, selectkbest__k=1 \n",
            "[CV]  logisticregression__C=0.1, logisticregression__class_weight=None, selectkbest__k=1, score=0.7678571428571429, total=   0.0s\n",
            "[CV] logisticregression__C=0.1, logisticregression__class_weight=None, selectkbest__k=2 \n",
            "[CV]  logisticregression__C=0.1, logisticregression__class_weight=None, selectkbest__k=2, score=0.7699115044247787, total=   0.0s\n",
            "[CV] logisticregression__C=0.1, logisticregression__class_weight=None, selectkbest__k=2 \n",
            "[CV]  logisticregression__C=0.1, logisticregression__class_weight=None, selectkbest__k=2, score=0.7678571428571429, total=   0.0s\n",
            "[CV] logisticregression__C=0.1, logisticregression__class_weight=None, selectkbest__k=2 \n",
            "[CV]  logisticregression__C=0.1, logisticregression__class_weight=None, selectkbest__k=2, score=0.7678571428571429, total=   0.0s\n",
            "[CV] logisticregression__C=0.1, logisticregression__class_weight=None, selectkbest__k=2 \n",
            "[CV]  logisticregression__C=0.1, logisticregression__class_weight=None, selectkbest__k=2, score=0.7678571428571429, total=   0.0s\n",
            "[CV] logisticregression__C=0.1, logisticregression__class_weight=None, selectkbest__k=2 \n",
            "[CV]  logisticregression__C=0.1, logisticregression__class_weight=None, selectkbest__k=2, score=0.7678571428571429, total=   0.0s\n",
            "[CV] logisticregression__C=0.1, logisticregression__class_weight=None, selectkbest__k=3 \n",
            "[CV]  logisticregression__C=0.1, logisticregression__class_weight=None, selectkbest__k=3, score=0.7876106194690266, total=   0.0s\n",
            "[CV] logisticregression__C=0.1, logisticregression__class_weight=None, selectkbest__k=3 \n",
            "[CV]  logisticregression__C=0.1, logisticregression__class_weight=None, selectkbest__k=3, score=0.7410714285714286, total=   0.0s\n",
            "[CV] logisticregression__C=0.1, logisticregression__class_weight=None, selectkbest__k=3 \n",
            "[CV]  logisticregression__C=0.1, logisticregression__class_weight=None, selectkbest__k=3, score=0.7857142857142857, total=   0.0s\n",
            "[CV] logisticregression__C=0.1, logisticregression__class_weight=None, selectkbest__k=3 \n",
            "[CV]  logisticregression__C=0.1, logisticregression__class_weight=None, selectkbest__k=3, score=0.7678571428571429, total=   0.0s\n",
            "[CV] logisticregression__C=0.1, logisticregression__class_weight=None, selectkbest__k=3 \n",
            "[CV]  logisticregression__C=0.1, logisticregression__class_weight=None, selectkbest__k=3, score=0.8035714285714286, total=   0.0s\n",
            "[CV] logisticregression__C=0.1, logisticregression__class_weight=None, selectkbest__k=4 \n",
            "[CV]  logisticregression__C=0.1, logisticregression__class_weight=None, selectkbest__k=4, score=0.7876106194690266, total=   0.0s\n",
            "[CV] logisticregression__C=0.1, logisticregression__class_weight=None, selectkbest__k=4 \n",
            "[CV]  logisticregression__C=0.1, logisticregression__class_weight=None, selectkbest__k=4, score=0.7410714285714286, total=   0.0s\n",
            "[CV] logisticregression__C=0.1, logisticregression__class_weight=None, selectkbest__k=4 \n",
            "[CV]  logisticregression__C=0.1, logisticregression__class_weight=None, selectkbest__k=4, score=0.7857142857142857, total=   0.0s\n",
            "[CV] logisticregression__C=0.1, logisticregression__class_weight=None, selectkbest__k=4 \n",
            "[CV]  logisticregression__C=0.1, logisticregression__class_weight=None, selectkbest__k=4, score=0.7678571428571429, total=   0.0s\n",
            "[CV] logisticregression__C=0.1, logisticregression__class_weight=None, selectkbest__k=4 \n",
            "[CV]  logisticregression__C=0.1, logisticregression__class_weight=None, selectkbest__k=4, score=0.8035714285714286, total=   0.0s\n",
            "[CV] logisticregression__C=0.1, logisticregression__class_weight=None, selectkbest__k=5 \n",
            "[CV]  logisticregression__C=0.1, logisticregression__class_weight=None, selectkbest__k=5, score=0.7876106194690266, total=   0.0s\n",
            "[CV] logisticregression__C=0.1, logisticregression__class_weight=None, selectkbest__k=5 \n",
            "[CV]  logisticregression__C=0.1, logisticregression__class_weight=None, selectkbest__k=5, score=0.7410714285714286, total=   0.0s\n",
            "[CV] logisticregression__C=0.1, logisticregression__class_weight=None, selectkbest__k=5 \n",
            "[CV]  logisticregression__C=0.1, logisticregression__class_weight=None, selectkbest__k=5, score=0.7857142857142857, total=   0.0s\n",
            "[CV] logisticregression__C=0.1, logisticregression__class_weight=None, selectkbest__k=5 \n",
            "[CV]  logisticregression__C=0.1, logisticregression__class_weight=None, selectkbest__k=5, score=0.7678571428571429, total=   0.0s\n",
            "[CV] logisticregression__C=0.1, logisticregression__class_weight=None, selectkbest__k=5 \n",
            "[CV]  logisticregression__C=0.1, logisticregression__class_weight=None, selectkbest__k=5, score=0.8035714285714286, total=   0.0s\n",
            "[CV] logisticregression__C=0.1, logisticregression__class_weight=None, selectkbest__k=6 \n",
            "[CV]  logisticregression__C=0.1, logisticregression__class_weight=None, selectkbest__k=6, score=0.7876106194690266, total=   0.0s\n",
            "[CV] logisticregression__C=0.1, logisticregression__class_weight=None, selectkbest__k=6 \n",
            "[CV]  logisticregression__C=0.1, logisticregression__class_weight=None, selectkbest__k=6, score=0.7410714285714286, total=   0.0s\n",
            "[CV] logisticregression__C=0.1, logisticregression__class_weight=None, selectkbest__k=6 \n",
            "[CV]  logisticregression__C=0.1, logisticregression__class_weight=None, selectkbest__k=6, score=0.7857142857142857, total=   0.0s\n",
            "[CV] logisticregression__C=0.1, logisticregression__class_weight=None, selectkbest__k=6 \n",
            "[CV]  logisticregression__C=0.1, logisticregression__class_weight=None, selectkbest__k=6, score=0.7678571428571429, total=   0.0s\n",
            "[CV] logisticregression__C=0.1, logisticregression__class_weight=None, selectkbest__k=6 \n",
            "[CV]  logisticregression__C=0.1, logisticregression__class_weight=None, selectkbest__k=6, score=0.8035714285714286, total=   0.0s\n",
            "[CV] logisticregression__C=0.1, logisticregression__class_weight=None, selectkbest__k=7 \n",
            "[CV]  logisticregression__C=0.1, logisticregression__class_weight=None, selectkbest__k=7, score=0.7787610619469026, total=   0.0s\n",
            "[CV] logisticregression__C=0.1, logisticregression__class_weight=None, selectkbest__k=7 \n",
            "[CV]  logisticregression__C=0.1, logisticregression__class_weight=None, selectkbest__k=7, score=0.7410714285714286, total=   0.0s\n",
            "[CV] logisticregression__C=0.1, logisticregression__class_weight=None, selectkbest__k=7 \n",
            "[CV]  logisticregression__C=0.1, logisticregression__class_weight=None, selectkbest__k=7, score=0.8125, total=   0.0s\n",
            "[CV] logisticregression__C=0.1, logisticregression__class_weight=None, selectkbest__k=7 \n",
            "[CV]  logisticregression__C=0.1, logisticregression__class_weight=None, selectkbest__k=7, score=0.7767857142857143, total=   0.0s\n",
            "[CV] logisticregression__C=0.1, logisticregression__class_weight=None, selectkbest__k=7 \n",
            "[CV]  logisticregression__C=0.1, logisticregression__class_weight=None, selectkbest__k=7, score=0.8035714285714286, total=   0.0s\n",
            "[CV] logisticregression__C=0.1, logisticregression__class_weight=None, selectkbest__k=8 \n",
            "[CV]  logisticregression__C=0.1, logisticregression__class_weight=None, selectkbest__k=8, score=0.7787610619469026, total=   0.0s\n",
            "[CV] logisticregression__C=0.1, logisticregression__class_weight=None, selectkbest__k=8 \n",
            "[CV]  logisticregression__C=0.1, logisticregression__class_weight=None, selectkbest__k=8, score=0.7410714285714286, total=   0.0s\n",
            "[CV] logisticregression__C=0.1, logisticregression__class_weight=None, selectkbest__k=8 \n",
            "[CV]  logisticregression__C=0.1, logisticregression__class_weight=None, selectkbest__k=8, score=0.8125, total=   0.0s\n",
            "[CV] logisticregression__C=0.1, logisticregression__class_weight=None, selectkbest__k=8 \n",
            "[CV]  logisticregression__C=0.1, logisticregression__class_weight=None, selectkbest__k=8, score=0.7767857142857143, total=   0.0s\n",
            "[CV] logisticregression__C=0.1, logisticregression__class_weight=None, selectkbest__k=8 \n",
            "[CV]  logisticregression__C=0.1, logisticregression__class_weight=None, selectkbest__k=8, score=0.8035714285714286, total=   0.0s\n",
            "[CV] logisticregression__C=0.1, logisticregression__class_weight=None, selectkbest__k=9 \n",
            "[CV]  logisticregression__C=0.1, logisticregression__class_weight=None, selectkbest__k=9, score=0.7787610619469026, total=   0.0s\n",
            "[CV] logisticregression__C=0.1, logisticregression__class_weight=None, selectkbest__k=9 \n",
            "[CV]  logisticregression__C=0.1, logisticregression__class_weight=None, selectkbest__k=9, score=0.7410714285714286, total=   0.0s\n",
            "[CV] logisticregression__C=0.1, logisticregression__class_weight=None, selectkbest__k=9 \n",
            "[CV]  logisticregression__C=0.1, logisticregression__class_weight=None, selectkbest__k=9, score=0.8125, total=   0.0s\n",
            "[CV] logisticregression__C=0.1, logisticregression__class_weight=None, selectkbest__k=9 \n",
            "[CV]  logisticregression__C=0.1, logisticregression__class_weight=None, selectkbest__k=9, score=0.7767857142857143, total=   0.0s\n",
            "[CV] logisticregression__C=0.1, logisticregression__class_weight=None, selectkbest__k=9 \n",
            "[CV]  logisticregression__C=0.1, logisticregression__class_weight=None, selectkbest__k=9, score=0.8035714285714286, total=   0.0s\n",
            "[CV] logisticregression__C=0.1, logisticregression__class_weight=balanced, selectkbest__k=1 \n",
            "[CV]  logisticregression__C=0.1, logisticregression__class_weight=balanced, selectkbest__k=1, score=0.6637168141592921, total=   0.0s\n",
            "[CV] logisticregression__C=0.1, logisticregression__class_weight=balanced, selectkbest__k=1 \n",
            "[CV]  logisticregression__C=0.1, logisticregression__class_weight=balanced, selectkbest__k=1, score=0.5982142857142857, total=   0.0s\n",
            "[CV] logisticregression__C=0.1, logisticregression__class_weight=balanced, selectkbest__k=1 \n",
            "[CV]  logisticregression__C=0.1, logisticregression__class_weight=balanced, selectkbest__k=1, score=0.6696428571428571, total=   0.0s\n",
            "[CV] logisticregression__C=0.1, logisticregression__class_weight=balanced, selectkbest__k=1 \n",
            "[CV]  logisticregression__C=0.1, logisticregression__class_weight=balanced, selectkbest__k=1, score=0.6517857142857143, total=   0.0s\n",
            "[CV] logisticregression__C=0.1, logisticregression__class_weight=balanced, selectkbest__k=1 \n",
            "[CV]  logisticregression__C=0.1, logisticregression__class_weight=balanced, selectkbest__k=1, score=0.625, total=   0.0s\n",
            "[CV] logisticregression__C=0.1, logisticregression__class_weight=balanced, selectkbest__k=2 \n",
            "[CV]  logisticregression__C=0.1, logisticregression__class_weight=balanced, selectkbest__k=2, score=0.6548672566371682, total=   0.0s\n",
            "[CV] logisticregression__C=0.1, logisticregression__class_weight=balanced, selectkbest__k=2 \n",
            "[CV]  logisticregression__C=0.1, logisticregression__class_weight=balanced, selectkbest__k=2, score=0.5982142857142857, total=   0.0s\n",
            "[CV] logisticregression__C=0.1, logisticregression__class_weight=balanced, selectkbest__k=2 \n",
            "[CV]  logisticregression__C=0.1, logisticregression__class_weight=balanced, selectkbest__k=2, score=0.6696428571428571, total=   0.0s\n",
            "[CV] logisticregression__C=0.1, logisticregression__class_weight=balanced, selectkbest__k=2 \n",
            "[CV]  logisticregression__C=0.1, logisticregression__class_weight=balanced, selectkbest__k=2, score=0.6339285714285714, total=   0.0s\n",
            "[CV] logisticregression__C=0.1, logisticregression__class_weight=balanced, selectkbest__k=2 \n",
            "[CV]  logisticregression__C=0.1, logisticregression__class_weight=balanced, selectkbest__k=2, score=0.625, total=   0.0s\n",
            "[CV] logisticregression__C=0.1, logisticregression__class_weight=balanced, selectkbest__k=3 \n",
            "[CV]  logisticregression__C=0.1, logisticregression__class_weight=balanced, selectkbest__k=3, score=0.6548672566371682, total=   0.0s\n",
            "[CV] logisticregression__C=0.1, logisticregression__class_weight=balanced, selectkbest__k=3 \n",
            "[CV]  logisticregression__C=0.1, logisticregression__class_weight=balanced, selectkbest__k=3, score=0.5714285714285714, total=   0.0s\n",
            "[CV] logisticregression__C=0.1, logisticregression__class_weight=balanced, selectkbest__k=3 \n",
            "[CV]  logisticregression__C=0.1, logisticregression__class_weight=balanced, selectkbest__k=3, score=0.6428571428571429, total=   0.0s\n",
            "[CV] logisticregression__C=0.1, logisticregression__class_weight=balanced, selectkbest__k=3 \n",
            "[CV]  logisticregression__C=0.1, logisticregression__class_weight=balanced, selectkbest__k=3, score=0.6428571428571429, total=   0.0s\n",
            "[CV] logisticregression__C=0.1, logisticregression__class_weight=balanced, selectkbest__k=3 \n",
            "[CV]  logisticregression__C=0.1, logisticregression__class_weight=balanced, selectkbest__k=3, score=0.625, total=   0.0s\n",
            "[CV] logisticregression__C=0.1, logisticregression__class_weight=balanced, selectkbest__k=4 \n",
            "[CV]  logisticregression__C=0.1, logisticregression__class_weight=balanced, selectkbest__k=4, score=0.6548672566371682, total=   0.0s\n",
            "[CV] logisticregression__C=0.1, logisticregression__class_weight=balanced, selectkbest__k=4 \n",
            "[CV]  logisticregression__C=0.1, logisticregression__class_weight=balanced, selectkbest__k=4, score=0.5714285714285714, total=   0.0s\n",
            "[CV] logisticregression__C=0.1, logisticregression__class_weight=balanced, selectkbest__k=4 \n",
            "[CV]  logisticregression__C=0.1, logisticregression__class_weight=balanced, selectkbest__k=4, score=0.6428571428571429, total=   0.0s\n",
            "[CV] logisticregression__C=0.1, logisticregression__class_weight=balanced, selectkbest__k=4 \n",
            "[CV]  logisticregression__C=0.1, logisticregression__class_weight=balanced, selectkbest__k=4, score=0.6339285714285714, total=   0.0s\n",
            "[CV] logisticregression__C=0.1, logisticregression__class_weight=balanced, selectkbest__k=4 \n",
            "[CV]  logisticregression__C=0.1, logisticregression__class_weight=balanced, selectkbest__k=4, score=0.625, total=   0.0s\n",
            "[CV] logisticregression__C=0.1, logisticregression__class_weight=balanced, selectkbest__k=5 \n",
            "[CV]  logisticregression__C=0.1, logisticregression__class_weight=balanced, selectkbest__k=5, score=0.6460176991150443, total=   0.0s\n",
            "[CV] logisticregression__C=0.1, logisticregression__class_weight=balanced, selectkbest__k=5 \n",
            "[CV]  logisticregression__C=0.1, logisticregression__class_weight=balanced, selectkbest__k=5, score=0.5714285714285714, total=   0.0s\n",
            "[CV] logisticregression__C=0.1, logisticregression__class_weight=balanced, selectkbest__k=5 \n",
            "[CV]  logisticregression__C=0.1, logisticregression__class_weight=balanced, selectkbest__k=5, score=0.6517857142857143, total=   0.0s\n",
            "[CV] logisticregression__C=0.1, logisticregression__class_weight=balanced, selectkbest__k=5 \n",
            "[CV]  logisticregression__C=0.1, logisticregression__class_weight=balanced, selectkbest__k=5, score=0.625, total=   0.0s\n",
            "[CV] logisticregression__C=0.1, logisticregression__class_weight=balanced, selectkbest__k=5 \n",
            "[CV]  logisticregression__C=0.1, logisticregression__class_weight=balanced, selectkbest__k=5, score=0.625, total=   0.0s\n",
            "[CV] logisticregression__C=0.1, logisticregression__class_weight=balanced, selectkbest__k=6 \n",
            "[CV]  logisticregression__C=0.1, logisticregression__class_weight=balanced, selectkbest__k=6, score=0.6460176991150443, total=   0.0s\n",
            "[CV] logisticregression__C=0.1, logisticregression__class_weight=balanced, selectkbest__k=6 \n",
            "[CV]  logisticregression__C=0.1, logisticregression__class_weight=balanced, selectkbest__k=6, score=0.5803571428571429, total=   0.0s\n",
            "[CV] logisticregression__C=0.1, logisticregression__class_weight=balanced, selectkbest__k=6 \n",
            "[CV]  logisticregression__C=0.1, logisticregression__class_weight=balanced, selectkbest__k=6, score=0.6607142857142857, total=   0.0s\n",
            "[CV] logisticregression__C=0.1, logisticregression__class_weight=balanced, selectkbest__k=6 \n",
            "[CV]  logisticregression__C=0.1, logisticregression__class_weight=balanced, selectkbest__k=6, score=0.6339285714285714, total=   0.0s\n",
            "[CV] logisticregression__C=0.1, logisticregression__class_weight=balanced, selectkbest__k=6 \n",
            "[CV]  logisticregression__C=0.1, logisticregression__class_weight=balanced, selectkbest__k=6, score=0.625, total=   0.0s\n",
            "[CV] logisticregression__C=0.1, logisticregression__class_weight=balanced, selectkbest__k=7 \n",
            "[CV]  logisticregression__C=0.1, logisticregression__class_weight=balanced, selectkbest__k=7, score=0.6814159292035398, total=   0.0s\n",
            "[CV] logisticregression__C=0.1, logisticregression__class_weight=balanced, selectkbest__k=7 \n",
            "[CV]  logisticregression__C=0.1, logisticregression__class_weight=balanced, selectkbest__k=7, score=0.5803571428571429, total=   0.0s\n",
            "[CV] logisticregression__C=0.1, logisticregression__class_weight=balanced, selectkbest__k=7 \n",
            "[CV]  logisticregression__C=0.1, logisticregression__class_weight=balanced, selectkbest__k=7, score=0.625, total=   0.0s\n",
            "[CV] logisticregression__C=0.1, logisticregression__class_weight=balanced, selectkbest__k=7 \n",
            "[CV]  logisticregression__C=0.1, logisticregression__class_weight=balanced, selectkbest__k=7, score=0.6517857142857143, total=   0.0s\n",
            "[CV] logisticregression__C=0.1, logisticregression__class_weight=balanced, selectkbest__k=7 \n",
            "[CV]  logisticregression__C=0.1, logisticregression__class_weight=balanced, selectkbest__k=7, score=0.6696428571428571, total=   0.0s\n",
            "[CV] logisticregression__C=0.1, logisticregression__class_weight=balanced, selectkbest__k=8 \n",
            "[CV]  logisticregression__C=0.1, logisticregression__class_weight=balanced, selectkbest__k=8, score=0.6814159292035398, total=   0.0s\n",
            "[CV] logisticregression__C=0.1, logisticregression__class_weight=balanced, selectkbest__k=8 \n",
            "[CV]  logisticregression__C=0.1, logisticregression__class_weight=balanced, selectkbest__k=8, score=0.5982142857142857, total=   0.0s\n",
            "[CV] logisticregression__C=0.1, logisticregression__class_weight=balanced, selectkbest__k=8 \n",
            "[CV]  logisticregression__C=0.1, logisticregression__class_weight=balanced, selectkbest__k=8, score=0.6339285714285714, total=   0.0s\n",
            "[CV] logisticregression__C=0.1, logisticregression__class_weight=balanced, selectkbest__k=8 \n",
            "[CV]  logisticregression__C=0.1, logisticregression__class_weight=balanced, selectkbest__k=8, score=0.6517857142857143, total=   0.0s\n",
            "[CV] logisticregression__C=0.1, logisticregression__class_weight=balanced, selectkbest__k=8 \n",
            "[CV]  logisticregression__C=0.1, logisticregression__class_weight=balanced, selectkbest__k=8, score=0.6696428571428571, total=   0.0s\n",
            "[CV] logisticregression__C=0.1, logisticregression__class_weight=balanced, selectkbest__k=9 \n",
            "[CV]  logisticregression__C=0.1, logisticregression__class_weight=balanced, selectkbest__k=9, score=0.6814159292035398, total=   0.0s\n",
            "[CV] logisticregression__C=0.1, logisticregression__class_weight=balanced, selectkbest__k=9 \n",
            "[CV]  logisticregression__C=0.1, logisticregression__class_weight=balanced, selectkbest__k=9, score=0.5982142857142857, total=   0.0s\n",
            "[CV] logisticregression__C=0.1, logisticregression__class_weight=balanced, selectkbest__k=9 \n",
            "[CV]  logisticregression__C=0.1, logisticregression__class_weight=balanced, selectkbest__k=9, score=0.6339285714285714, total=   0.0s\n",
            "[CV] logisticregression__C=0.1, logisticregression__class_weight=balanced, selectkbest__k=9 \n",
            "[CV]  logisticregression__C=0.1, logisticregression__class_weight=balanced, selectkbest__k=9, score=0.6517857142857143, total=   0.0s\n",
            "[CV] logisticregression__C=0.1, logisticregression__class_weight=balanced, selectkbest__k=9 \n",
            "[CV]  logisticregression__C=0.1, logisticregression__class_weight=balanced, selectkbest__k=9, score=0.6696428571428571, total=   0.0s\n",
            "[CV] logisticregression__C=1.0, logisticregression__class_weight=None, selectkbest__k=1 \n",
            "[CV]  logisticregression__C=1.0, logisticregression__class_weight=None, selectkbest__k=1, score=0.7610619469026548, total=   0.0s\n",
            "[CV] logisticregression__C=1.0, logisticregression__class_weight=None, selectkbest__k=1 \n",
            "[CV]  logisticregression__C=1.0, logisticregression__class_weight=None, selectkbest__k=1, score=0.7678571428571429, total=   0.0s\n",
            "[CV] logisticregression__C=1.0, logisticregression__class_weight=None, selectkbest__k=1 \n",
            "[CV]  logisticregression__C=1.0, logisticregression__class_weight=None, selectkbest__k=1, score=0.7589285714285714, total=   0.0s\n",
            "[CV] logisticregression__C=1.0, logisticregression__class_weight=None, selectkbest__k=1 \n",
            "[CV]  logisticregression__C=1.0, logisticregression__class_weight=None, selectkbest__k=1, score=0.7678571428571429, total=   0.0s\n",
            "[CV] logisticregression__C=1.0, logisticregression__class_weight=None, selectkbest__k=1 \n",
            "[CV]  logisticregression__C=1.0, logisticregression__class_weight=None, selectkbest__k=1, score=0.7767857142857143, total=   0.0s\n",
            "[CV] logisticregression__C=1.0, logisticregression__class_weight=None, selectkbest__k=2 \n",
            "[CV]  logisticregression__C=1.0, logisticregression__class_weight=None, selectkbest__k=2, score=0.7610619469026548, total=   0.0s\n",
            "[CV] logisticregression__C=1.0, logisticregression__class_weight=None, selectkbest__k=2 \n",
            "[CV]  logisticregression__C=1.0, logisticregression__class_weight=None, selectkbest__k=2, score=0.7678571428571429, total=   0.0s\n",
            "[CV] logisticregression__C=1.0, logisticregression__class_weight=None, selectkbest__k=2 \n",
            "[CV]  logisticregression__C=1.0, logisticregression__class_weight=None, selectkbest__k=2, score=0.7589285714285714, total=   0.0s\n",
            "[CV] logisticregression__C=1.0, logisticregression__class_weight=None, selectkbest__k=2 \n",
            "[CV]  logisticregression__C=1.0, logisticregression__class_weight=None, selectkbest__k=2, score=0.7678571428571429, total=   0.0s\n",
            "[CV] logisticregression__C=1.0, logisticregression__class_weight=None, selectkbest__k=2 \n",
            "[CV]  logisticregression__C=1.0, logisticregression__class_weight=None, selectkbest__k=2, score=0.7767857142857143, total=   0.0s\n",
            "[CV] logisticregression__C=1.0, logisticregression__class_weight=None, selectkbest__k=3 \n",
            "[CV]  logisticregression__C=1.0, logisticregression__class_weight=None, selectkbest__k=3, score=0.7876106194690266, total=   0.0s\n",
            "[CV] logisticregression__C=1.0, logisticregression__class_weight=None, selectkbest__k=3 \n",
            "[CV]  logisticregression__C=1.0, logisticregression__class_weight=None, selectkbest__k=3, score=0.7410714285714286, total=   0.0s\n",
            "[CV] logisticregression__C=1.0, logisticregression__class_weight=None, selectkbest__k=3 \n",
            "[CV]  logisticregression__C=1.0, logisticregression__class_weight=None, selectkbest__k=3, score=0.7857142857142857, total=   0.0s\n",
            "[CV] logisticregression__C=1.0, logisticregression__class_weight=None, selectkbest__k=3 \n",
            "[CV]  logisticregression__C=1.0, logisticregression__class_weight=None, selectkbest__k=3, score=0.7678571428571429, total=   0.0s\n",
            "[CV] logisticregression__C=1.0, logisticregression__class_weight=None, selectkbest__k=3 \n",
            "[CV]  logisticregression__C=1.0, logisticregression__class_weight=None, selectkbest__k=3, score=0.7857142857142857, total=   0.0s\n",
            "[CV] logisticregression__C=1.0, logisticregression__class_weight=None, selectkbest__k=4 \n",
            "[CV]  logisticregression__C=1.0, logisticregression__class_weight=None, selectkbest__k=4, score=0.7876106194690266, total=   0.0s\n",
            "[CV] logisticregression__C=1.0, logisticregression__class_weight=None, selectkbest__k=4 \n",
            "[CV]  logisticregression__C=1.0, logisticregression__class_weight=None, selectkbest__k=4, score=0.7410714285714286, total=   0.0s\n",
            "[CV] logisticregression__C=1.0, logisticregression__class_weight=None, selectkbest__k=4 \n",
            "[CV]  logisticregression__C=1.0, logisticregression__class_weight=None, selectkbest__k=4, score=0.7857142857142857, total=   0.0s\n",
            "[CV] logisticregression__C=1.0, logisticregression__class_weight=None, selectkbest__k=4 \n",
            "[CV]  logisticregression__C=1.0, logisticregression__class_weight=None, selectkbest__k=4, score=0.7678571428571429, total=   0.0s\n",
            "[CV] logisticregression__C=1.0, logisticregression__class_weight=None, selectkbest__k=4 \n",
            "[CV]  logisticregression__C=1.0, logisticregression__class_weight=None, selectkbest__k=4, score=0.7857142857142857, total=   0.0s\n",
            "[CV] logisticregression__C=1.0, logisticregression__class_weight=None, selectkbest__k=5 \n",
            "[CV]  logisticregression__C=1.0, logisticregression__class_weight=None, selectkbest__k=5, score=0.7876106194690266, total=   0.0s\n",
            "[CV] logisticregression__C=1.0, logisticregression__class_weight=None, selectkbest__k=5 \n",
            "[CV]  logisticregression__C=1.0, logisticregression__class_weight=None, selectkbest__k=5, score=0.7410714285714286, total=   0.0s\n",
            "[CV] logisticregression__C=1.0, logisticregression__class_weight=None, selectkbest__k=5 \n",
            "[CV]  logisticregression__C=1.0, logisticregression__class_weight=None, selectkbest__k=5, score=0.8035714285714286, total=   0.0s\n",
            "[CV] logisticregression__C=1.0, logisticregression__class_weight=None, selectkbest__k=5 \n",
            "[CV]  logisticregression__C=1.0, logisticregression__class_weight=None, selectkbest__k=5, score=0.7678571428571429, total=   0.0s\n",
            "[CV] logisticregression__C=1.0, logisticregression__class_weight=None, selectkbest__k=5 \n",
            "[CV]  logisticregression__C=1.0, logisticregression__class_weight=None, selectkbest__k=5, score=0.7678571428571429, total=   0.0s\n",
            "[CV] logisticregression__C=1.0, logisticregression__class_weight=None, selectkbest__k=6 \n",
            "[CV]  logisticregression__C=1.0, logisticregression__class_weight=None, selectkbest__k=6, score=0.7876106194690266, total=   0.0s\n",
            "[CV] logisticregression__C=1.0, logisticregression__class_weight=None, selectkbest__k=6 \n",
            "[CV]  logisticregression__C=1.0, logisticregression__class_weight=None, selectkbest__k=6, score=0.7410714285714286, total=   0.0s\n",
            "[CV] logisticregression__C=1.0, logisticregression__class_weight=None, selectkbest__k=6 \n",
            "[CV]  logisticregression__C=1.0, logisticregression__class_weight=None, selectkbest__k=6, score=0.7857142857142857, total=   0.0s\n",
            "[CV] logisticregression__C=1.0, logisticregression__class_weight=None, selectkbest__k=6 \n",
            "[CV]  logisticregression__C=1.0, logisticregression__class_weight=None, selectkbest__k=6, score=0.7678571428571429, total=   0.0s\n",
            "[CV] logisticregression__C=1.0, logisticregression__class_weight=None, selectkbest__k=6 \n",
            "[CV]  logisticregression__C=1.0, logisticregression__class_weight=None, selectkbest__k=6, score=0.7946428571428571, total=   0.0s\n",
            "[CV] logisticregression__C=1.0, logisticregression__class_weight=None, selectkbest__k=7 \n",
            "[CV]  logisticregression__C=1.0, logisticregression__class_weight=None, selectkbest__k=7, score=0.7610619469026548, total=   0.0s\n",
            "[CV] logisticregression__C=1.0, logisticregression__class_weight=None, selectkbest__k=7 \n",
            "[CV]  logisticregression__C=1.0, logisticregression__class_weight=None, selectkbest__k=7, score=0.7410714285714286, total=   0.0s\n",
            "[CV] logisticregression__C=1.0, logisticregression__class_weight=None, selectkbest__k=7 \n",
            "[CV]  logisticregression__C=1.0, logisticregression__class_weight=None, selectkbest__k=7, score=0.8125, total=   0.0s\n",
            "[CV] logisticregression__C=1.0, logisticregression__class_weight=None, selectkbest__k=7 \n",
            "[CV]  logisticregression__C=1.0, logisticregression__class_weight=None, selectkbest__k=7, score=0.7857142857142857, total=   0.0s\n",
            "[CV] logisticregression__C=1.0, logisticregression__class_weight=None, selectkbest__k=7 \n",
            "[CV]  logisticregression__C=1.0, logisticregression__class_weight=None, selectkbest__k=7, score=0.7857142857142857, total=   0.0s\n",
            "[CV] logisticregression__C=1.0, logisticregression__class_weight=None, selectkbest__k=8 \n",
            "[CV]  logisticregression__C=1.0, logisticregression__class_weight=None, selectkbest__k=8, score=0.7787610619469026, total=   0.0s\n",
            "[CV] logisticregression__C=1.0, logisticregression__class_weight=None, selectkbest__k=8 \n",
            "[CV]  logisticregression__C=1.0, logisticregression__class_weight=None, selectkbest__k=8, score=0.7410714285714286, total=   0.0s\n",
            "[CV] logisticregression__C=1.0, logisticregression__class_weight=None, selectkbest__k=8 \n",
            "[CV]  logisticregression__C=1.0, logisticregression__class_weight=None, selectkbest__k=8, score=0.8214285714285714, total=   0.0s\n",
            "[CV] logisticregression__C=1.0, logisticregression__class_weight=None, selectkbest__k=8 \n",
            "[CV]  logisticregression__C=1.0, logisticregression__class_weight=None, selectkbest__k=8, score=0.7857142857142857, total=   0.0s\n",
            "[CV] logisticregression__C=1.0, logisticregression__class_weight=None, selectkbest__k=8 \n",
            "[CV]  logisticregression__C=1.0, logisticregression__class_weight=None, selectkbest__k=8, score=0.7857142857142857, total=   0.0s\n",
            "[CV] logisticregression__C=1.0, logisticregression__class_weight=None, selectkbest__k=9 \n",
            "[CV]  logisticregression__C=1.0, logisticregression__class_weight=None, selectkbest__k=9, score=0.7787610619469026, total=   0.0s\n",
            "[CV] logisticregression__C=1.0, logisticregression__class_weight=None, selectkbest__k=9 \n",
            "[CV]  logisticregression__C=1.0, logisticregression__class_weight=None, selectkbest__k=9, score=0.7410714285714286, total=   0.0s\n",
            "[CV] logisticregression__C=1.0, logisticregression__class_weight=None, selectkbest__k=9 \n",
            "[CV]  logisticregression__C=1.0, logisticregression__class_weight=None, selectkbest__k=9, score=0.8214285714285714, total=   0.0s\n",
            "[CV] logisticregression__C=1.0, logisticregression__class_weight=None, selectkbest__k=9 \n",
            "[CV]  logisticregression__C=1.0, logisticregression__class_weight=None, selectkbest__k=9, score=0.7857142857142857, total=   0.0s\n",
            "[CV] logisticregression__C=1.0, logisticregression__class_weight=None, selectkbest__k=9 \n",
            "[CV]  logisticregression__C=1.0, logisticregression__class_weight=None, selectkbest__k=9, score=0.7857142857142857, total=   0.0s\n",
            "[CV] logisticregression__C=1.0, logisticregression__class_weight=balanced, selectkbest__k=1 \n",
            "[CV]  logisticregression__C=1.0, logisticregression__class_weight=balanced, selectkbest__k=1, score=0.6637168141592921, total=   0.0s\n",
            "[CV] logisticregression__C=1.0, logisticregression__class_weight=balanced, selectkbest__k=1 \n",
            "[CV]  logisticregression__C=1.0, logisticregression__class_weight=balanced, selectkbest__k=1, score=0.5982142857142857, total=   0.0s\n",
            "[CV] logisticregression__C=1.0, logisticregression__class_weight=balanced, selectkbest__k=1 \n",
            "[CV]  logisticregression__C=1.0, logisticregression__class_weight=balanced, selectkbest__k=1, score=0.6696428571428571, total=   0.0s\n",
            "[CV] logisticregression__C=1.0, logisticregression__class_weight=balanced, selectkbest__k=1 \n",
            "[CV]  logisticregression__C=1.0, logisticregression__class_weight=balanced, selectkbest__k=1, score=0.6517857142857143, total=   0.0s\n",
            "[CV] logisticregression__C=1.0, logisticregression__class_weight=balanced, selectkbest__k=1 \n",
            "[CV]  logisticregression__C=1.0, logisticregression__class_weight=balanced, selectkbest__k=1, score=0.625, total=   0.0s\n",
            "[CV] logisticregression__C=1.0, logisticregression__class_weight=balanced, selectkbest__k=2 \n",
            "[CV]  logisticregression__C=1.0, logisticregression__class_weight=balanced, selectkbest__k=2, score=0.6637168141592921, total=   0.0s\n",
            "[CV] logisticregression__C=1.0, logisticregression__class_weight=balanced, selectkbest__k=2 \n",
            "[CV]  logisticregression__C=1.0, logisticregression__class_weight=balanced, selectkbest__k=2, score=0.5982142857142857, total=   0.0s\n",
            "[CV] logisticregression__C=1.0, logisticregression__class_weight=balanced, selectkbest__k=2 \n",
            "[CV]  logisticregression__C=1.0, logisticregression__class_weight=balanced, selectkbest__k=2, score=0.6696428571428571, total=   0.0s\n",
            "[CV] logisticregression__C=1.0, logisticregression__class_weight=balanced, selectkbest__k=2 \n",
            "[CV]  logisticregression__C=1.0, logisticregression__class_weight=balanced, selectkbest__k=2, score=0.6339285714285714, total=   0.0s\n",
            "[CV] logisticregression__C=1.0, logisticregression__class_weight=balanced, selectkbest__k=2 \n",
            "[CV]  logisticregression__C=1.0, logisticregression__class_weight=balanced, selectkbest__k=2, score=0.625, total=   0.0s\n",
            "[CV] logisticregression__C=1.0, logisticregression__class_weight=balanced, selectkbest__k=3 \n",
            "[CV]  logisticregression__C=1.0, logisticregression__class_weight=balanced, selectkbest__k=3, score=0.6548672566371682, total=   0.0s\n",
            "[CV] logisticregression__C=1.0, logisticregression__class_weight=balanced, selectkbest__k=3 \n",
            "[CV]  logisticregression__C=1.0, logisticregression__class_weight=balanced, selectkbest__k=3, score=0.5803571428571429, total=   0.0s\n",
            "[CV] logisticregression__C=1.0, logisticregression__class_weight=balanced, selectkbest__k=3 \n",
            "[CV]  logisticregression__C=1.0, logisticregression__class_weight=balanced, selectkbest__k=3, score=0.6428571428571429, total=   0.0s\n",
            "[CV] logisticregression__C=1.0, logisticregression__class_weight=balanced, selectkbest__k=3 \n",
            "[CV]  logisticregression__C=1.0, logisticregression__class_weight=balanced, selectkbest__k=3, score=0.6517857142857143, total=   0.0s\n",
            "[CV] logisticregression__C=1.0, logisticregression__class_weight=balanced, selectkbest__k=3 \n",
            "[CV]  logisticregression__C=1.0, logisticregression__class_weight=balanced, selectkbest__k=3, score=0.625, total=   0.0s\n",
            "[CV] logisticregression__C=1.0, logisticregression__class_weight=balanced, selectkbest__k=4 \n",
            "[CV]  logisticregression__C=1.0, logisticregression__class_weight=balanced, selectkbest__k=4, score=0.6548672566371682, total=   0.0s\n",
            "[CV] logisticregression__C=1.0, logisticregression__class_weight=balanced, selectkbest__k=4 \n",
            "[CV]  logisticregression__C=1.0, logisticregression__class_weight=balanced, selectkbest__k=4, score=0.5714285714285714, total=   0.0s\n",
            "[CV] logisticregression__C=1.0, logisticregression__class_weight=balanced, selectkbest__k=4 \n",
            "[CV]  logisticregression__C=1.0, logisticregression__class_weight=balanced, selectkbest__k=4, score=0.6428571428571429, total=   0.0s\n",
            "[CV] logisticregression__C=1.0, logisticregression__class_weight=balanced, selectkbest__k=4 \n",
            "[CV]  logisticregression__C=1.0, logisticregression__class_weight=balanced, selectkbest__k=4, score=0.6517857142857143, total=   0.0s\n",
            "[CV] logisticregression__C=1.0, logisticregression__class_weight=balanced, selectkbest__k=4 \n",
            "[CV]  logisticregression__C=1.0, logisticregression__class_weight=balanced, selectkbest__k=4, score=0.625, total=   0.0s\n",
            "[CV] logisticregression__C=1.0, logisticregression__class_weight=balanced, selectkbest__k=5 \n",
            "[CV]  logisticregression__C=1.0, logisticregression__class_weight=balanced, selectkbest__k=5, score=0.6548672566371682, total=   0.0s\n",
            "[CV] logisticregression__C=1.0, logisticregression__class_weight=balanced, selectkbest__k=5 \n",
            "[CV]  logisticregression__C=1.0, logisticregression__class_weight=balanced, selectkbest__k=5, score=0.5625, total=   0.0s\n",
            "[CV] logisticregression__C=1.0, logisticregression__class_weight=balanced, selectkbest__k=5 \n",
            "[CV]  logisticregression__C=1.0, logisticregression__class_weight=balanced, selectkbest__k=5, score=0.6517857142857143, total=   0.0s\n",
            "[CV] logisticregression__C=1.0, logisticregression__class_weight=balanced, selectkbest__k=5 \n",
            "[CV]  logisticregression__C=1.0, logisticregression__class_weight=balanced, selectkbest__k=5, score=0.6339285714285714, total=   0.0s\n",
            "[CV] logisticregression__C=1.0, logisticregression__class_weight=balanced, selectkbest__k=5 \n",
            "[CV]  logisticregression__C=1.0, logisticregression__class_weight=balanced, selectkbest__k=5, score=0.625, total=   0.0s\n",
            "[CV] logisticregression__C=1.0, logisticregression__class_weight=balanced, selectkbest__k=6 \n",
            "[CV]  logisticregression__C=1.0, logisticregression__class_weight=balanced, selectkbest__k=6, score=0.6548672566371682, total=   0.0s\n",
            "[CV] logisticregression__C=1.0, logisticregression__class_weight=balanced, selectkbest__k=6 \n",
            "[CV]  logisticregression__C=1.0, logisticregression__class_weight=balanced, selectkbest__k=6, score=0.5803571428571429, total=   0.0s\n",
            "[CV] logisticregression__C=1.0, logisticregression__class_weight=balanced, selectkbest__k=6 \n",
            "[CV]  logisticregression__C=1.0, logisticregression__class_weight=balanced, selectkbest__k=6, score=0.6607142857142857, total=   0.0s\n",
            "[CV] logisticregression__C=1.0, logisticregression__class_weight=balanced, selectkbest__k=6 \n",
            "[CV]  logisticregression__C=1.0, logisticregression__class_weight=balanced, selectkbest__k=6, score=0.6785714285714286, total=   0.0s\n",
            "[CV] logisticregression__C=1.0, logisticregression__class_weight=balanced, selectkbest__k=6 \n",
            "[CV]  logisticregression__C=1.0, logisticregression__class_weight=balanced, selectkbest__k=6, score=0.6428571428571429, total=   0.0s\n",
            "[CV] logisticregression__C=1.0, logisticregression__class_weight=balanced, selectkbest__k=7 \n",
            "[CV]  logisticregression__C=1.0, logisticregression__class_weight=balanced, selectkbest__k=7, score=0.6991150442477876, total=   0.0s\n",
            "[CV] logisticregression__C=1.0, logisticregression__class_weight=balanced, selectkbest__k=7 \n",
            "[CV]  logisticregression__C=1.0, logisticregression__class_weight=balanced, selectkbest__k=7, score=0.5892857142857143, total=   0.0s\n",
            "[CV] logisticregression__C=1.0, logisticregression__class_weight=balanced, selectkbest__k=7 \n",
            "[CV]  logisticregression__C=1.0, logisticregression__class_weight=balanced, selectkbest__k=7, score=0.6339285714285714, total=   0.0s\n",
            "[CV] logisticregression__C=1.0, logisticregression__class_weight=balanced, selectkbest__k=7 \n",
            "[CV]  logisticregression__C=1.0, logisticregression__class_weight=balanced, selectkbest__k=7, score=0.6607142857142857, total=   0.0s\n",
            "[CV] logisticregression__C=1.0, logisticregression__class_weight=balanced, selectkbest__k=7 \n",
            "[CV]  logisticregression__C=1.0, logisticregression__class_weight=balanced, selectkbest__k=7, score=0.6696428571428571, total=   0.0s\n",
            "[CV] logisticregression__C=1.0, logisticregression__class_weight=balanced, selectkbest__k=8 \n",
            "[CV]  logisticregression__C=1.0, logisticregression__class_weight=balanced, selectkbest__k=8, score=0.6814159292035398, total=   0.0s\n",
            "[CV] logisticregression__C=1.0, logisticregression__class_weight=balanced, selectkbest__k=8 \n",
            "[CV]  logisticregression__C=1.0, logisticregression__class_weight=balanced, selectkbest__k=8, score=0.6160714285714286, total=   0.0s\n",
            "[CV] logisticregression__C=1.0, logisticregression__class_weight=balanced, selectkbest__k=8 \n",
            "[CV]  logisticregression__C=1.0, logisticregression__class_weight=balanced, selectkbest__k=8, score=0.6607142857142857, total=   0.0s\n",
            "[CV] logisticregression__C=1.0, logisticregression__class_weight=balanced, selectkbest__k=8 \n",
            "[CV]  logisticregression__C=1.0, logisticregression__class_weight=balanced, selectkbest__k=8, score=0.6428571428571429, total=   0.0s\n",
            "[CV] logisticregression__C=1.0, logisticregression__class_weight=balanced, selectkbest__k=8 \n",
            "[CV]  logisticregression__C=1.0, logisticregression__class_weight=balanced, selectkbest__k=8, score=0.6785714285714286, total=   0.0s\n",
            "[CV] logisticregression__C=1.0, logisticregression__class_weight=balanced, selectkbest__k=9 \n",
            "[CV]  logisticregression__C=1.0, logisticregression__class_weight=balanced, selectkbest__k=9, score=0.6814159292035398, total=   0.0s\n",
            "[CV] logisticregression__C=1.0, logisticregression__class_weight=balanced, selectkbest__k=9 \n",
            "[CV]  logisticregression__C=1.0, logisticregression__class_weight=balanced, selectkbest__k=9, score=0.6160714285714286, total=   0.0s\n",
            "[CV] logisticregression__C=1.0, logisticregression__class_weight=balanced, selectkbest__k=9 \n",
            "[CV]  logisticregression__C=1.0, logisticregression__class_weight=balanced, selectkbest__k=9, score=0.6607142857142857, total=   0.0s\n",
            "[CV] logisticregression__C=1.0, logisticregression__class_weight=balanced, selectkbest__k=9 \n",
            "[CV]  logisticregression__C=1.0, logisticregression__class_weight=balanced, selectkbest__k=9, score=0.6428571428571429, total=   0.0s\n",
            "[CV] logisticregression__C=1.0, logisticregression__class_weight=balanced, selectkbest__k=9 \n",
            "[CV]  logisticregression__C=1.0, logisticregression__class_weight=balanced, selectkbest__k=9, score=0.6785714285714286, total=   0.0s\n",
            "[CV] logisticregression__C=10.0, logisticregression__class_weight=None, selectkbest__k=1 \n",
            "[CV]  logisticregression__C=10.0, logisticregression__class_weight=None, selectkbest__k=1, score=0.7610619469026548, total=   0.0s\n",
            "[CV] logisticregression__C=10.0, logisticregression__class_weight=None, selectkbest__k=1 \n",
            "[CV]  logisticregression__C=10.0, logisticregression__class_weight=None, selectkbest__k=1, score=0.7678571428571429, total=   0.0s\n",
            "[CV] logisticregression__C=10.0, logisticregression__class_weight=None, selectkbest__k=1 \n",
            "[CV]  logisticregression__C=10.0, logisticregression__class_weight=None, selectkbest__k=1, score=0.7589285714285714, total=   0.0s\n",
            "[CV] logisticregression__C=10.0, logisticregression__class_weight=None, selectkbest__k=1 \n",
            "[CV]  logisticregression__C=10.0, logisticregression__class_weight=None, selectkbest__k=1, score=0.7678571428571429, total=   0.0s\n",
            "[CV] logisticregression__C=10.0, logisticregression__class_weight=None, selectkbest__k=1 \n",
            "[CV]  logisticregression__C=10.0, logisticregression__class_weight=None, selectkbest__k=1, score=0.7767857142857143, total=   0.0s\n",
            "[CV] logisticregression__C=10.0, logisticregression__class_weight=None, selectkbest__k=2 \n",
            "[CV]  logisticregression__C=10.0, logisticregression__class_weight=None, selectkbest__k=2, score=0.7610619469026548, total=   0.0s\n",
            "[CV] logisticregression__C=10.0, logisticregression__class_weight=None, selectkbest__k=2 \n",
            "[CV]  logisticregression__C=10.0, logisticregression__class_weight=None, selectkbest__k=2, score=0.7678571428571429, total=   0.0s\n",
            "[CV] logisticregression__C=10.0, logisticregression__class_weight=None, selectkbest__k=2 \n",
            "[CV]  logisticregression__C=10.0, logisticregression__class_weight=None, selectkbest__k=2, score=0.7589285714285714, total=   0.0s\n",
            "[CV] logisticregression__C=10.0, logisticregression__class_weight=None, selectkbest__k=2 \n",
            "[CV]  logisticregression__C=10.0, logisticregression__class_weight=None, selectkbest__k=2, score=0.7678571428571429, total=   0.0s\n",
            "[CV] logisticregression__C=10.0, logisticregression__class_weight=None, selectkbest__k=2 \n",
            "[CV]  logisticregression__C=10.0, logisticregression__class_weight=None, selectkbest__k=2, score=0.7767857142857143, total=   0.0s\n",
            "[CV] logisticregression__C=10.0, logisticregression__class_weight=None, selectkbest__k=3 \n",
            "[CV]  logisticregression__C=10.0, logisticregression__class_weight=None, selectkbest__k=3, score=0.7876106194690266, total=   0.0s\n",
            "[CV] logisticregression__C=10.0, logisticregression__class_weight=None, selectkbest__k=3 \n",
            "[CV]  logisticregression__C=10.0, logisticregression__class_weight=None, selectkbest__k=3, score=0.7410714285714286, total=   0.0s\n",
            "[CV] logisticregression__C=10.0, logisticregression__class_weight=None, selectkbest__k=3 \n",
            "[CV]  logisticregression__C=10.0, logisticregression__class_weight=None, selectkbest__k=3, score=0.7857142857142857, total=   0.0s\n",
            "[CV] logisticregression__C=10.0, logisticregression__class_weight=None, selectkbest__k=3 \n",
            "[CV]  logisticregression__C=10.0, logisticregression__class_weight=None, selectkbest__k=3, score=0.7678571428571429, total=   0.0s\n",
            "[CV] logisticregression__C=10.0, logisticregression__class_weight=None, selectkbest__k=3 \n",
            "[CV]  logisticregression__C=10.0, logisticregression__class_weight=None, selectkbest__k=3, score=0.7678571428571429, total=   0.0s\n",
            "[CV] logisticregression__C=10.0, logisticregression__class_weight=None, selectkbest__k=4 \n",
            "[CV]  logisticregression__C=10.0, logisticregression__class_weight=None, selectkbest__k=4, score=0.7876106194690266, total=   0.0s\n",
            "[CV] logisticregression__C=10.0, logisticregression__class_weight=None, selectkbest__k=4 \n",
            "[CV]  logisticregression__C=10.0, logisticregression__class_weight=None, selectkbest__k=4, score=0.7410714285714286, total=   0.0s\n",
            "[CV] logisticregression__C=10.0, logisticregression__class_weight=None, selectkbest__k=4 \n",
            "[CV]  logisticregression__C=10.0, logisticregression__class_weight=None, selectkbest__k=4, score=0.7857142857142857, total=   0.0s\n",
            "[CV] logisticregression__C=10.0, logisticregression__class_weight=None, selectkbest__k=4 \n",
            "[CV]  logisticregression__C=10.0, logisticregression__class_weight=None, selectkbest__k=4, score=0.7678571428571429, total=   0.0s\n",
            "[CV] logisticregression__C=10.0, logisticregression__class_weight=None, selectkbest__k=4 \n",
            "[CV]  logisticregression__C=10.0, logisticregression__class_weight=None, selectkbest__k=4, score=0.7678571428571429, total=   0.0s\n",
            "[CV] logisticregression__C=10.0, logisticregression__class_weight=None, selectkbest__k=5 \n",
            "[CV]  logisticregression__C=10.0, logisticregression__class_weight=None, selectkbest__k=5, score=0.7876106194690266, total=   0.0s\n",
            "[CV] logisticregression__C=10.0, logisticregression__class_weight=None, selectkbest__k=5 \n",
            "[CV]  logisticregression__C=10.0, logisticregression__class_weight=None, selectkbest__k=5, score=0.7321428571428571, total=   0.0s\n",
            "[CV] logisticregression__C=10.0, logisticregression__class_weight=None, selectkbest__k=5 \n",
            "[CV]  logisticregression__C=10.0, logisticregression__class_weight=None, selectkbest__k=5, score=0.8125, total=   0.0s\n",
            "[CV] logisticregression__C=10.0, logisticregression__class_weight=None, selectkbest__k=5 \n",
            "[CV]  logisticregression__C=10.0, logisticregression__class_weight=None, selectkbest__k=5, score=0.7678571428571429, total=   0.0s\n",
            "[CV] logisticregression__C=10.0, logisticregression__class_weight=None, selectkbest__k=5 \n",
            "[CV]  logisticregression__C=10.0, logisticregression__class_weight=None, selectkbest__k=5, score=0.7678571428571429, total=   0.0s\n",
            "[CV] logisticregression__C=10.0, logisticregression__class_weight=None, selectkbest__k=6 \n",
            "[CV]  logisticregression__C=10.0, logisticregression__class_weight=None, selectkbest__k=6, score=0.7787610619469026, total=   0.0s\n",
            "[CV] logisticregression__C=10.0, logisticregression__class_weight=None, selectkbest__k=6 \n",
            "[CV]  logisticregression__C=10.0, logisticregression__class_weight=None, selectkbest__k=6, score=0.7321428571428571, total=   0.0s\n",
            "[CV] logisticregression__C=10.0, logisticregression__class_weight=None, selectkbest__k=6 \n",
            "[CV]  logisticregression__C=10.0, logisticregression__class_weight=None, selectkbest__k=6, score=0.7857142857142857, total=   0.0s\n",
            "[CV] logisticregression__C=10.0, logisticregression__class_weight=None, selectkbest__k=6 \n",
            "[CV]  logisticregression__C=10.0, logisticregression__class_weight=None, selectkbest__k=6, score=0.7678571428571429, total=   0.0s\n",
            "[CV] logisticregression__C=10.0, logisticregression__class_weight=None, selectkbest__k=6 \n",
            "[CV]  logisticregression__C=10.0, logisticregression__class_weight=None, selectkbest__k=6, score=0.7678571428571429, total=   0.0s\n",
            "[CV] logisticregression__C=10.0, logisticregression__class_weight=None, selectkbest__k=7 \n",
            "[CV]  logisticregression__C=10.0, logisticregression__class_weight=None, selectkbest__k=7, score=0.7787610619469026, total=   0.0s\n",
            "[CV] logisticregression__C=10.0, logisticregression__class_weight=None, selectkbest__k=7 \n",
            "[CV]  logisticregression__C=10.0, logisticregression__class_weight=None, selectkbest__k=7, score=0.7410714285714286, total=   0.0s\n",
            "[CV] logisticregression__C=10.0, logisticregression__class_weight=None, selectkbest__k=7 \n",
            "[CV]  logisticregression__C=10.0, logisticregression__class_weight=None, selectkbest__k=7, score=0.8125, total=   0.0s\n",
            "[CV] logisticregression__C=10.0, logisticregression__class_weight=None, selectkbest__k=7 \n",
            "[CV]  logisticregression__C=10.0, logisticregression__class_weight=None, selectkbest__k=7, score=0.7857142857142857, total=   0.0s\n",
            "[CV] logisticregression__C=10.0, logisticregression__class_weight=None, selectkbest__k=7 \n",
            "[CV]  logisticregression__C=10.0, logisticregression__class_weight=None, selectkbest__k=7, score=0.7857142857142857, total=   0.0s\n",
            "[CV] logisticregression__C=10.0, logisticregression__class_weight=None, selectkbest__k=8 \n",
            "[CV]  logisticregression__C=10.0, logisticregression__class_weight=None, selectkbest__k=8, score=0.7876106194690266, total=   0.0s\n",
            "[CV] logisticregression__C=10.0, logisticregression__class_weight=None, selectkbest__k=8 \n",
            "[CV]  logisticregression__C=10.0, logisticregression__class_weight=None, selectkbest__k=8, score=0.75, total=   0.0s\n",
            "[CV] logisticregression__C=10.0, logisticregression__class_weight=None, selectkbest__k=8 \n",
            "[CV]  logisticregression__C=10.0, logisticregression__class_weight=None, selectkbest__k=8, score=0.8303571428571429, total=   0.0s\n",
            "[CV] logisticregression__C=10.0, logisticregression__class_weight=None, selectkbest__k=8 \n",
            "[CV]  logisticregression__C=10.0, logisticregression__class_weight=None, selectkbest__k=8, score=0.7857142857142857, total=   0.0s\n",
            "[CV] logisticregression__C=10.0, logisticregression__class_weight=None, selectkbest__k=8 \n",
            "[CV]  logisticregression__C=10.0, logisticregression__class_weight=None, selectkbest__k=8, score=0.7946428571428571, total=   0.0s\n",
            "[CV] logisticregression__C=10.0, logisticregression__class_weight=None, selectkbest__k=9 \n",
            "[CV]  logisticregression__C=10.0, logisticregression__class_weight=None, selectkbest__k=9, score=0.7876106194690266, total=   0.0s\n",
            "[CV] logisticregression__C=10.0, logisticregression__class_weight=None, selectkbest__k=9 \n",
            "[CV]  logisticregression__C=10.0, logisticregression__class_weight=None, selectkbest__k=9, score=0.75, total=   0.0s\n",
            "[CV] logisticregression__C=10.0, logisticregression__class_weight=None, selectkbest__k=9 \n",
            "[CV]  logisticregression__C=10.0, logisticregression__class_weight=None, selectkbest__k=9, score=0.8303571428571429, total=   0.0s\n",
            "[CV] logisticregression__C=10.0, logisticregression__class_weight=None, selectkbest__k=9 \n",
            "[CV]  logisticregression__C=10.0, logisticregression__class_weight=None, selectkbest__k=9, score=0.7857142857142857, total=   0.0s\n",
            "[CV] logisticregression__C=10.0, logisticregression__class_weight=None, selectkbest__k=9 \n",
            "[CV]  logisticregression__C=10.0, logisticregression__class_weight=None, selectkbest__k=9, score=0.7946428571428571, total=   0.0s\n",
            "[CV] logisticregression__C=10.0, logisticregression__class_weight=balanced, selectkbest__k=1 \n",
            "[CV]  logisticregression__C=10.0, logisticregression__class_weight=balanced, selectkbest__k=1, score=0.6637168141592921, total=   0.0s\n",
            "[CV] logisticregression__C=10.0, logisticregression__class_weight=balanced, selectkbest__k=1 \n",
            "[CV]  logisticregression__C=10.0, logisticregression__class_weight=balanced, selectkbest__k=1, score=0.5982142857142857, total=   0.0s\n",
            "[CV] logisticregression__C=10.0, logisticregression__class_weight=balanced, selectkbest__k=1 \n",
            "[CV]  logisticregression__C=10.0, logisticregression__class_weight=balanced, selectkbest__k=1, score=0.6696428571428571, total=   0.0s\n",
            "[CV] logisticregression__C=10.0, logisticregression__class_weight=balanced, selectkbest__k=1 \n",
            "[CV]  logisticregression__C=10.0, logisticregression__class_weight=balanced, selectkbest__k=1, score=0.6517857142857143, total=   0.0s\n",
            "[CV] logisticregression__C=10.0, logisticregression__class_weight=balanced, selectkbest__k=1 \n",
            "[CV]  logisticregression__C=10.0, logisticregression__class_weight=balanced, selectkbest__k=1, score=0.625, total=   0.0s\n",
            "[CV] logisticregression__C=10.0, logisticregression__class_weight=balanced, selectkbest__k=2 \n",
            "[CV]  logisticregression__C=10.0, logisticregression__class_weight=balanced, selectkbest__k=2, score=0.6637168141592921, total=   0.0s\n",
            "[CV] logisticregression__C=10.0, logisticregression__class_weight=balanced, selectkbest__k=2 \n",
            "[CV]  logisticregression__C=10.0, logisticregression__class_weight=balanced, selectkbest__k=2, score=0.5982142857142857, total=   0.0s\n",
            "[CV] logisticregression__C=10.0, logisticregression__class_weight=balanced, selectkbest__k=2 \n",
            "[CV]  logisticregression__C=10.0, logisticregression__class_weight=balanced, selectkbest__k=2, score=0.6696428571428571, total=   0.0s\n",
            "[CV] logisticregression__C=10.0, logisticregression__class_weight=balanced, selectkbest__k=2 \n",
            "[CV]  logisticregression__C=10.0, logisticregression__class_weight=balanced, selectkbest__k=2, score=0.6339285714285714, total=   0.0s\n",
            "[CV] logisticregression__C=10.0, logisticregression__class_weight=balanced, selectkbest__k=2 \n",
            "[CV]  logisticregression__C=10.0, logisticregression__class_weight=balanced, selectkbest__k=2, score=0.625, total=   0.0s\n",
            "[CV] logisticregression__C=10.0, logisticregression__class_weight=balanced, selectkbest__k=3 \n",
            "[CV]  logisticregression__C=10.0, logisticregression__class_weight=balanced, selectkbest__k=3, score=0.6548672566371682, total=   0.0s\n",
            "[CV] logisticregression__C=10.0, logisticregression__class_weight=balanced, selectkbest__k=3 \n",
            "[CV]  logisticregression__C=10.0, logisticregression__class_weight=balanced, selectkbest__k=3, score=0.5625, total=   0.0s\n",
            "[CV] logisticregression__C=10.0, logisticregression__class_weight=balanced, selectkbest__k=3 \n",
            "[CV]  logisticregression__C=10.0, logisticregression__class_weight=balanced, selectkbest__k=3, score=0.6428571428571429, total=   0.0s\n",
            "[CV] logisticregression__C=10.0, logisticregression__class_weight=balanced, selectkbest__k=3 \n",
            "[CV]  logisticregression__C=10.0, logisticregression__class_weight=balanced, selectkbest__k=3, score=0.6517857142857143, total=   0.0s\n",
            "[CV] logisticregression__C=10.0, logisticregression__class_weight=balanced, selectkbest__k=3 \n",
            "[CV]  logisticregression__C=10.0, logisticregression__class_weight=balanced, selectkbest__k=3, score=0.625, total=   0.0s\n",
            "[CV] logisticregression__C=10.0, logisticregression__class_weight=balanced, selectkbest__k=4 \n",
            "[CV]  logisticregression__C=10.0, logisticregression__class_weight=balanced, selectkbest__k=4, score=0.6548672566371682, total=   0.0s\n",
            "[CV] logisticregression__C=10.0, logisticregression__class_weight=balanced, selectkbest__k=4 \n",
            "[CV]  logisticregression__C=10.0, logisticregression__class_weight=balanced, selectkbest__k=4, score=0.5625, total=   0.0s\n",
            "[CV] logisticregression__C=10.0, logisticregression__class_weight=balanced, selectkbest__k=4 \n",
            "[CV]  logisticregression__C=10.0, logisticregression__class_weight=balanced, selectkbest__k=4, score=0.6428571428571429, total=   0.0s\n",
            "[CV] logisticregression__C=10.0, logisticregression__class_weight=balanced, selectkbest__k=4 \n",
            "[CV]  logisticregression__C=10.0, logisticregression__class_weight=balanced, selectkbest__k=4, score=0.6517857142857143, total=   0.0s\n",
            "[CV] logisticregression__C=10.0, logisticregression__class_weight=balanced, selectkbest__k=4 \n",
            "[CV]  logisticregression__C=10.0, logisticregression__class_weight=balanced, selectkbest__k=4, score=0.625, total=   0.0s\n",
            "[CV] logisticregression__C=10.0, logisticregression__class_weight=balanced, selectkbest__k=5 \n",
            "[CV]  logisticregression__C=10.0, logisticregression__class_weight=balanced, selectkbest__k=5, score=0.6548672566371682, total=   0.0s\n",
            "[CV] logisticregression__C=10.0, logisticregression__class_weight=balanced, selectkbest__k=5 \n",
            "[CV]  logisticregression__C=10.0, logisticregression__class_weight=balanced, selectkbest__k=5, score=0.5625, total=   0.0s\n",
            "[CV] logisticregression__C=10.0, logisticregression__class_weight=balanced, selectkbest__k=5 \n",
            "[CV]  logisticregression__C=10.0, logisticregression__class_weight=balanced, selectkbest__k=5, score=0.6607142857142857, total=   0.0s\n",
            "[CV] logisticregression__C=10.0, logisticregression__class_weight=balanced, selectkbest__k=5 \n",
            "[CV]  logisticregression__C=10.0, logisticregression__class_weight=balanced, selectkbest__k=5, score=0.6339285714285714, total=   0.0s\n",
            "[CV] logisticregression__C=10.0, logisticregression__class_weight=balanced, selectkbest__k=5 \n",
            "[CV]  logisticregression__C=10.0, logisticregression__class_weight=balanced, selectkbest__k=5, score=0.625, total=   0.0s\n",
            "[CV] logisticregression__C=10.0, logisticregression__class_weight=balanced, selectkbest__k=6 \n",
            "[CV]  logisticregression__C=10.0, logisticregression__class_weight=balanced, selectkbest__k=6, score=0.6548672566371682, total=   0.0s\n",
            "[CV] logisticregression__C=10.0, logisticregression__class_weight=balanced, selectkbest__k=6 \n",
            "[CV]  logisticregression__C=10.0, logisticregression__class_weight=balanced, selectkbest__k=6, score=0.5803571428571429, total=   0.0s\n",
            "[CV] logisticregression__C=10.0, logisticregression__class_weight=balanced, selectkbest__k=6 \n",
            "[CV]  logisticregression__C=10.0, logisticregression__class_weight=balanced, selectkbest__k=6, score=0.6517857142857143, total=   0.0s\n",
            "[CV] logisticregression__C=10.0, logisticregression__class_weight=balanced, selectkbest__k=6 \n",
            "[CV]  logisticregression__C=10.0, logisticregression__class_weight=balanced, selectkbest__k=6, score=0.6875, total=   0.0s\n",
            "[CV] logisticregression__C=10.0, logisticregression__class_weight=balanced, selectkbest__k=6 \n",
            "[CV]  logisticregression__C=10.0, logisticregression__class_weight=balanced, selectkbest__k=6, score=0.6428571428571429, total=   0.0s\n",
            "[CV] logisticregression__C=10.0, logisticregression__class_weight=balanced, selectkbest__k=7 \n",
            "[CV]  logisticregression__C=10.0, logisticregression__class_weight=balanced, selectkbest__k=7, score=0.6902654867256637, total=   0.0s\n",
            "[CV] logisticregression__C=10.0, logisticregression__class_weight=balanced, selectkbest__k=7 \n",
            "[CV]  logisticregression__C=10.0, logisticregression__class_weight=balanced, selectkbest__k=7, score=0.5892857142857143, total=   0.0s\n",
            "[CV] logisticregression__C=10.0, logisticregression__class_weight=balanced, selectkbest__k=7 \n",
            "[CV]  logisticregression__C=10.0, logisticregression__class_weight=balanced, selectkbest__k=7, score=0.6607142857142857, total=   0.0s\n",
            "[CV] logisticregression__C=10.0, logisticregression__class_weight=balanced, selectkbest__k=7 \n",
            "[CV]  logisticregression__C=10.0, logisticregression__class_weight=balanced, selectkbest__k=7, score=0.6517857142857143, total=   0.0s\n",
            "[CV] logisticregression__C=10.0, logisticregression__class_weight=balanced, selectkbest__k=7 \n",
            "[CV]  logisticregression__C=10.0, logisticregression__class_weight=balanced, selectkbest__k=7, score=0.6607142857142857, total=   0.0s\n",
            "[CV] logisticregression__C=10.0, logisticregression__class_weight=balanced, selectkbest__k=8 \n",
            "[CV]  logisticregression__C=10.0, logisticregression__class_weight=balanced, selectkbest__k=8, score=0.672566371681416, total=   0.0s\n",
            "[CV] logisticregression__C=10.0, logisticregression__class_weight=balanced, selectkbest__k=8 \n",
            "[CV]  logisticregression__C=10.0, logisticregression__class_weight=balanced, selectkbest__k=8, score=0.6607142857142857, total=   0.0s\n",
            "[CV] logisticregression__C=10.0, logisticregression__class_weight=balanced, selectkbest__k=8 \n",
            "[CV]  logisticregression__C=10.0, logisticregression__class_weight=balanced, selectkbest__k=8, score=0.6696428571428571, total=   0.0s\n",
            "[CV] logisticregression__C=10.0, logisticregression__class_weight=balanced, selectkbest__k=8 \n",
            "[CV]  logisticregression__C=10.0, logisticregression__class_weight=balanced, selectkbest__k=8, score=0.6785714285714286, total=   0.0s\n",
            "[CV] logisticregression__C=10.0, logisticregression__class_weight=balanced, selectkbest__k=8 \n",
            "[CV]  logisticregression__C=10.0, logisticregression__class_weight=balanced, selectkbest__k=8, score=0.6964285714285714, total=   0.0s\n",
            "[CV] logisticregression__C=10.0, logisticregression__class_weight=balanced, selectkbest__k=9 \n",
            "[CV]  logisticregression__C=10.0, logisticregression__class_weight=balanced, selectkbest__k=9, score=0.672566371681416, total=   0.0s\n",
            "[CV] logisticregression__C=10.0, logisticregression__class_weight=balanced, selectkbest__k=9 \n",
            "[CV]  logisticregression__C=10.0, logisticregression__class_weight=balanced, selectkbest__k=9, score=0.6607142857142857, total=   0.0s\n",
            "[CV] logisticregression__C=10.0, logisticregression__class_weight=balanced, selectkbest__k=9 \n",
            "[CV]  logisticregression__C=10.0, logisticregression__class_weight=balanced, selectkbest__k=9, score=0.6696428571428571, total=   0.0s\n",
            "[CV] logisticregression__C=10.0, logisticregression__class_weight=balanced, selectkbest__k=9 \n",
            "[CV]  logisticregression__C=10.0, logisticregression__class_weight=balanced, selectkbest__k=9, score=0.6785714285714286, total=   0.0s\n",
            "[CV] logisticregression__C=10.0, logisticregression__class_weight=balanced, selectkbest__k=9 \n",
            "[CV]  logisticregression__C=10.0, logisticregression__class_weight=balanced, selectkbest__k=9, score=0.6964285714285714, total=   0.0s\n",
            "[CV] logisticregression__C=100.0, logisticregression__class_weight=None, selectkbest__k=1 \n",
            "[CV]  logisticregression__C=100.0, logisticregression__class_weight=None, selectkbest__k=1, score=0.7610619469026548, total=   0.0s\n",
            "[CV] logisticregression__C=100.0, logisticregression__class_weight=None, selectkbest__k=1 \n",
            "[CV]  logisticregression__C=100.0, logisticregression__class_weight=None, selectkbest__k=1, score=0.7678571428571429, total=   0.0s\n",
            "[CV] logisticregression__C=100.0, logisticregression__class_weight=None, selectkbest__k=1 \n",
            "[CV]  logisticregression__C=100.0, logisticregression__class_weight=None, selectkbest__k=1, score=0.7589285714285714, total=   0.0s\n",
            "[CV] logisticregression__C=100.0, logisticregression__class_weight=None, selectkbest__k=1 \n",
            "[CV]  logisticregression__C=100.0, logisticregression__class_weight=None, selectkbest__k=1, score=0.7678571428571429, total=   0.0s\n",
            "[CV] logisticregression__C=100.0, logisticregression__class_weight=None, selectkbest__k=1 \n",
            "[CV]  logisticregression__C=100.0, logisticregression__class_weight=None, selectkbest__k=1, score=0.7767857142857143, total=   0.0s\n",
            "[CV] logisticregression__C=100.0, logisticregression__class_weight=None, selectkbest__k=2 \n",
            "[CV]  logisticregression__C=100.0, logisticregression__class_weight=None, selectkbest__k=2, score=0.7610619469026548, total=   0.0s\n",
            "[CV] logisticregression__C=100.0, logisticregression__class_weight=None, selectkbest__k=2 \n",
            "[CV]  logisticregression__C=100.0, logisticregression__class_weight=None, selectkbest__k=2, score=0.7678571428571429, total=   0.0s\n",
            "[CV] logisticregression__C=100.0, logisticregression__class_weight=None, selectkbest__k=2 \n",
            "[CV]  logisticregression__C=100.0, logisticregression__class_weight=None, selectkbest__k=2, score=0.7589285714285714, total=   0.0s\n",
            "[CV] logisticregression__C=100.0, logisticregression__class_weight=None, selectkbest__k=2 \n",
            "[CV]  logisticregression__C=100.0, logisticregression__class_weight=None, selectkbest__k=2, score=0.7678571428571429, total=   0.0s\n",
            "[CV] logisticregression__C=100.0, logisticregression__class_weight=None, selectkbest__k=2 \n",
            "[CV]  logisticregression__C=100.0, logisticregression__class_weight=None, selectkbest__k=2, score=0.7767857142857143, total=   0.0s\n",
            "[CV] logisticregression__C=100.0, logisticregression__class_weight=None, selectkbest__k=3 \n",
            "[CV]  logisticregression__C=100.0, logisticregression__class_weight=None, selectkbest__k=3, score=0.7876106194690266, total=   0.0s\n",
            "[CV] logisticregression__C=100.0, logisticregression__class_weight=None, selectkbest__k=3 \n",
            "[CV]  logisticregression__C=100.0, logisticregression__class_weight=None, selectkbest__k=3, score=0.7410714285714286, total=   0.0s\n",
            "[CV] logisticregression__C=100.0, logisticregression__class_weight=None, selectkbest__k=3 \n",
            "[CV]  logisticregression__C=100.0, logisticregression__class_weight=None, selectkbest__k=3, score=0.7857142857142857, total=   0.0s\n",
            "[CV] logisticregression__C=100.0, logisticregression__class_weight=None, selectkbest__k=3 \n",
            "[CV]  logisticregression__C=100.0, logisticregression__class_weight=None, selectkbest__k=3, score=0.7678571428571429, total=   0.0s\n",
            "[CV] logisticregression__C=100.0, logisticregression__class_weight=None, selectkbest__k=3 \n",
            "[CV]  logisticregression__C=100.0, logisticregression__class_weight=None, selectkbest__k=3, score=0.7678571428571429, total=   0.0s\n",
            "[CV] logisticregression__C=100.0, logisticregression__class_weight=None, selectkbest__k=4 \n",
            "[CV]  logisticregression__C=100.0, logisticregression__class_weight=None, selectkbest__k=4, score=0.7876106194690266, total=   0.0s\n",
            "[CV] logisticregression__C=100.0, logisticregression__class_weight=None, selectkbest__k=4 \n",
            "[CV]  logisticregression__C=100.0, logisticregression__class_weight=None, selectkbest__k=4, score=0.7410714285714286, total=   0.0s\n",
            "[CV] logisticregression__C=100.0, logisticregression__class_weight=None, selectkbest__k=4 \n",
            "[CV]  logisticregression__C=100.0, logisticregression__class_weight=None, selectkbest__k=4, score=0.7857142857142857, total=   0.0s\n",
            "[CV] logisticregression__C=100.0, logisticregression__class_weight=None, selectkbest__k=4 \n",
            "[CV]  logisticregression__C=100.0, logisticregression__class_weight=None, selectkbest__k=4, score=0.7678571428571429, total=   0.0s\n",
            "[CV] logisticregression__C=100.0, logisticregression__class_weight=None, selectkbest__k=4 \n",
            "[CV]  logisticregression__C=100.0, logisticregression__class_weight=None, selectkbest__k=4, score=0.7678571428571429, total=   0.0s\n",
            "[CV] logisticregression__C=100.0, logisticregression__class_weight=None, selectkbest__k=5 \n",
            "[CV]  logisticregression__C=100.0, logisticregression__class_weight=None, selectkbest__k=5, score=0.7876106194690266, total=   0.0s\n",
            "[CV] logisticregression__C=100.0, logisticregression__class_weight=None, selectkbest__k=5 \n",
            "[CV]  logisticregression__C=100.0, logisticregression__class_weight=None, selectkbest__k=5, score=0.7321428571428571, total=   0.0s\n",
            "[CV] logisticregression__C=100.0, logisticregression__class_weight=None, selectkbest__k=5 \n",
            "[CV]  logisticregression__C=100.0, logisticregression__class_weight=None, selectkbest__k=5, score=0.8125, total=   0.0s\n",
            "[CV] logisticregression__C=100.0, logisticregression__class_weight=None, selectkbest__k=5 \n",
            "[CV]  logisticregression__C=100.0, logisticregression__class_weight=None, selectkbest__k=5, score=0.7678571428571429, total=   0.0s\n",
            "[CV] logisticregression__C=100.0, logisticregression__class_weight=None, selectkbest__k=5 \n",
            "[CV]  logisticregression__C=100.0, logisticregression__class_weight=None, selectkbest__k=5, score=0.7678571428571429, total=   0.0s\n",
            "[CV] logisticregression__C=100.0, logisticregression__class_weight=None, selectkbest__k=6 \n",
            "[CV]  logisticregression__C=100.0, logisticregression__class_weight=None, selectkbest__k=6, score=0.7699115044247787, total=   0.0s\n",
            "[CV] logisticregression__C=100.0, logisticregression__class_weight=None, selectkbest__k=6 \n",
            "[CV]  logisticregression__C=100.0, logisticregression__class_weight=None, selectkbest__k=6, score=0.7321428571428571, total=   0.0s\n",
            "[CV] logisticregression__C=100.0, logisticregression__class_weight=None, selectkbest__k=6 \n",
            "[CV]  logisticregression__C=100.0, logisticregression__class_weight=None, selectkbest__k=6, score=0.7857142857142857, total=   0.0s\n",
            "[CV] logisticregression__C=100.0, logisticregression__class_weight=None, selectkbest__k=6 \n",
            "[CV]  logisticregression__C=100.0, logisticregression__class_weight=None, selectkbest__k=6, score=0.7678571428571429, total=   0.0s\n",
            "[CV] logisticregression__C=100.0, logisticregression__class_weight=None, selectkbest__k=6 \n",
            "[CV]  logisticregression__C=100.0, logisticregression__class_weight=None, selectkbest__k=6, score=0.7678571428571429, total=   0.0s\n",
            "[CV] logisticregression__C=100.0, logisticregression__class_weight=None, selectkbest__k=7 \n",
            "[CV]  logisticregression__C=100.0, logisticregression__class_weight=None, selectkbest__k=7, score=0.7787610619469026, total=   0.0s\n",
            "[CV] logisticregression__C=100.0, logisticregression__class_weight=None, selectkbest__k=7 \n",
            "[CV]  logisticregression__C=100.0, logisticregression__class_weight=None, selectkbest__k=7, score=0.75, total=   0.0s\n",
            "[CV] logisticregression__C=100.0, logisticregression__class_weight=None, selectkbest__k=7 \n",
            "[CV]  logisticregression__C=100.0, logisticregression__class_weight=None, selectkbest__k=7, score=0.8125, total=   0.0s\n",
            "[CV] logisticregression__C=100.0, logisticregression__class_weight=None, selectkbest__k=7 \n",
            "[CV]  logisticregression__C=100.0, logisticregression__class_weight=None, selectkbest__k=7, score=0.7857142857142857, total=   0.0s\n",
            "[CV] logisticregression__C=100.0, logisticregression__class_weight=None, selectkbest__k=7 \n",
            "[CV]  logisticregression__C=100.0, logisticregression__class_weight=None, selectkbest__k=7, score=0.7857142857142857, total=   0.0s\n",
            "[CV] logisticregression__C=100.0, logisticregression__class_weight=None, selectkbest__k=8 \n",
            "[CV]  logisticregression__C=100.0, logisticregression__class_weight=None, selectkbest__k=8, score=0.7964601769911505, total=   0.0s\n",
            "[CV] logisticregression__C=100.0, logisticregression__class_weight=None, selectkbest__k=8 \n",
            "[CV]  logisticregression__C=100.0, logisticregression__class_weight=None, selectkbest__k=8, score=0.75, total=   0.0s\n",
            "[CV] logisticregression__C=100.0, logisticregression__class_weight=None, selectkbest__k=8 \n",
            "[CV]  logisticregression__C=100.0, logisticregression__class_weight=None, selectkbest__k=8, score=0.8392857142857143, total=   0.0s\n",
            "[CV] logisticregression__C=100.0, logisticregression__class_weight=None, selectkbest__k=8 \n",
            "[CV]  logisticregression__C=100.0, logisticregression__class_weight=None, selectkbest__k=8, score=0.7857142857142857, total=   0.0s\n",
            "[CV] logisticregression__C=100.0, logisticregression__class_weight=None, selectkbest__k=8 \n",
            "[CV]  logisticregression__C=100.0, logisticregression__class_weight=None, selectkbest__k=8, score=0.8035714285714286, total=   0.0s\n",
            "[CV] logisticregression__C=100.0, logisticregression__class_weight=None, selectkbest__k=9 \n",
            "[CV]  logisticregression__C=100.0, logisticregression__class_weight=None, selectkbest__k=9, score=0.7964601769911505, total=   0.0s\n",
            "[CV] logisticregression__C=100.0, logisticregression__class_weight=None, selectkbest__k=9 \n",
            "[CV]  logisticregression__C=100.0, logisticregression__class_weight=None, selectkbest__k=9, score=0.75, total=   0.0s\n",
            "[CV] logisticregression__C=100.0, logisticregression__class_weight=None, selectkbest__k=9 \n",
            "[CV]  logisticregression__C=100.0, logisticregression__class_weight=None, selectkbest__k=9, score=0.8392857142857143, total=   0.0s\n",
            "[CV] logisticregression__C=100.0, logisticregression__class_weight=None, selectkbest__k=9 \n",
            "[CV]  logisticregression__C=100.0, logisticregression__class_weight=None, selectkbest__k=9, score=0.7857142857142857, total=   0.0s\n",
            "[CV] logisticregression__C=100.0, logisticregression__class_weight=None, selectkbest__k=9 \n",
            "[CV]  logisticregression__C=100.0, logisticregression__class_weight=None, selectkbest__k=9, score=0.8035714285714286, total=   0.0s\n",
            "[CV] logisticregression__C=100.0, logisticregression__class_weight=balanced, selectkbest__k=1 \n",
            "[CV]  logisticregression__C=100.0, logisticregression__class_weight=balanced, selectkbest__k=1, score=0.6637168141592921, total=   0.0s\n",
            "[CV] logisticregression__C=100.0, logisticregression__class_weight=balanced, selectkbest__k=1 \n",
            "[CV]  logisticregression__C=100.0, logisticregression__class_weight=balanced, selectkbest__k=1, score=0.5982142857142857, total=   0.0s\n",
            "[CV] logisticregression__C=100.0, logisticregression__class_weight=balanced, selectkbest__k=1 \n",
            "[CV]  logisticregression__C=100.0, logisticregression__class_weight=balanced, selectkbest__k=1, score=0.6696428571428571, total=   0.0s\n",
            "[CV] logisticregression__C=100.0, logisticregression__class_weight=balanced, selectkbest__k=1 \n",
            "[CV]  logisticregression__C=100.0, logisticregression__class_weight=balanced, selectkbest__k=1, score=0.6517857142857143, total=   0.0s\n",
            "[CV] logisticregression__C=100.0, logisticregression__class_weight=balanced, selectkbest__k=1 \n",
            "[CV]  logisticregression__C=100.0, logisticregression__class_weight=balanced, selectkbest__k=1, score=0.625, total=   0.0s\n",
            "[CV] logisticregression__C=100.0, logisticregression__class_weight=balanced, selectkbest__k=2 \n",
            "[CV]  logisticregression__C=100.0, logisticregression__class_weight=balanced, selectkbest__k=2, score=0.6637168141592921, total=   0.0s\n",
            "[CV] logisticregression__C=100.0, logisticregression__class_weight=balanced, selectkbest__k=2 \n",
            "[CV]  logisticregression__C=100.0, logisticregression__class_weight=balanced, selectkbest__k=2, score=0.5982142857142857, total=   0.0s\n",
            "[CV] logisticregression__C=100.0, logisticregression__class_weight=balanced, selectkbest__k=2 \n",
            "[CV]  logisticregression__C=100.0, logisticregression__class_weight=balanced, selectkbest__k=2, score=0.6696428571428571, total=   0.0s\n",
            "[CV] logisticregression__C=100.0, logisticregression__class_weight=balanced, selectkbest__k=2 \n",
            "[CV]  logisticregression__C=100.0, logisticregression__class_weight=balanced, selectkbest__k=2, score=0.6339285714285714, total=   0.0s\n",
            "[CV] logisticregression__C=100.0, logisticregression__class_weight=balanced, selectkbest__k=2 \n",
            "[CV]  logisticregression__C=100.0, logisticregression__class_weight=balanced, selectkbest__k=2, score=0.625, total=   0.0s\n",
            "[CV] logisticregression__C=100.0, logisticregression__class_weight=balanced, selectkbest__k=3 \n",
            "[CV]  logisticregression__C=100.0, logisticregression__class_weight=balanced, selectkbest__k=3, score=0.6548672566371682, total=   0.0s\n",
            "[CV] logisticregression__C=100.0, logisticregression__class_weight=balanced, selectkbest__k=3 \n",
            "[CV]  logisticregression__C=100.0, logisticregression__class_weight=balanced, selectkbest__k=3, score=0.5625, total=   0.0s\n",
            "[CV] logisticregression__C=100.0, logisticregression__class_weight=balanced, selectkbest__k=3 \n",
            "[CV]  logisticregression__C=100.0, logisticregression__class_weight=balanced, selectkbest__k=3, score=0.6428571428571429, total=   0.0s\n",
            "[CV] logisticregression__C=100.0, logisticregression__class_weight=balanced, selectkbest__k=3 \n",
            "[CV]  logisticregression__C=100.0, logisticregression__class_weight=balanced, selectkbest__k=3, score=0.6517857142857143, total=   0.0s\n",
            "[CV] logisticregression__C=100.0, logisticregression__class_weight=balanced, selectkbest__k=3 \n",
            "[CV]  logisticregression__C=100.0, logisticregression__class_weight=balanced, selectkbest__k=3, score=0.625, total=   0.0s\n",
            "[CV] logisticregression__C=100.0, logisticregression__class_weight=balanced, selectkbest__k=4 \n",
            "[CV]  logisticregression__C=100.0, logisticregression__class_weight=balanced, selectkbest__k=4, score=0.6548672566371682, total=   0.0s\n",
            "[CV] logisticregression__C=100.0, logisticregression__class_weight=balanced, selectkbest__k=4 \n",
            "[CV]  logisticregression__C=100.0, logisticregression__class_weight=balanced, selectkbest__k=4, score=0.5625, total=   0.0s\n",
            "[CV] logisticregression__C=100.0, logisticregression__class_weight=balanced, selectkbest__k=4 \n",
            "[CV]  logisticregression__C=100.0, logisticregression__class_weight=balanced, selectkbest__k=4, score=0.6428571428571429, total=   0.0s\n",
            "[CV] logisticregression__C=100.0, logisticregression__class_weight=balanced, selectkbest__k=4 \n",
            "[CV]  logisticregression__C=100.0, logisticregression__class_weight=balanced, selectkbest__k=4, score=0.6517857142857143, total=   0.0s\n",
            "[CV] logisticregression__C=100.0, logisticregression__class_weight=balanced, selectkbest__k=4 \n",
            "[CV]  logisticregression__C=100.0, logisticregression__class_weight=balanced, selectkbest__k=4, score=0.625, total=   0.0s\n",
            "[CV] logisticregression__C=100.0, logisticregression__class_weight=balanced, selectkbest__k=5 \n",
            "[CV]  logisticregression__C=100.0, logisticregression__class_weight=balanced, selectkbest__k=5, score=0.6548672566371682, total=   0.0s\n",
            "[CV] logisticregression__C=100.0, logisticregression__class_weight=balanced, selectkbest__k=5 \n",
            "[CV]  logisticregression__C=100.0, logisticregression__class_weight=balanced, selectkbest__k=5, score=0.5625, total=   0.0s\n",
            "[CV] logisticregression__C=100.0, logisticregression__class_weight=balanced, selectkbest__k=5 \n",
            "[CV]  logisticregression__C=100.0, logisticregression__class_weight=balanced, selectkbest__k=5, score=0.6607142857142857, total=   0.0s\n",
            "[CV] logisticregression__C=100.0, logisticregression__class_weight=balanced, selectkbest__k=5 \n",
            "[CV]  logisticregression__C=100.0, logisticregression__class_weight=balanced, selectkbest__k=5, score=0.6339285714285714, total=   0.0s\n",
            "[CV] logisticregression__C=100.0, logisticregression__class_weight=balanced, selectkbest__k=5 \n",
            "[CV]  logisticregression__C=100.0, logisticregression__class_weight=balanced, selectkbest__k=5, score=0.625, total=   0.0s\n",
            "[CV] logisticregression__C=100.0, logisticregression__class_weight=balanced, selectkbest__k=6 \n",
            "[CV]  logisticregression__C=100.0, logisticregression__class_weight=balanced, selectkbest__k=6, score=0.6637168141592921, total=   0.0s\n",
            "[CV] logisticregression__C=100.0, logisticregression__class_weight=balanced, selectkbest__k=6 \n",
            "[CV]  logisticregression__C=100.0, logisticregression__class_weight=balanced, selectkbest__k=6, score=0.5803571428571429, total=   0.0s\n",
            "[CV] logisticregression__C=100.0, logisticregression__class_weight=balanced, selectkbest__k=6 \n",
            "[CV]  logisticregression__C=100.0, logisticregression__class_weight=balanced, selectkbest__k=6, score=0.6517857142857143, total=   0.0s\n",
            "[CV] logisticregression__C=100.0, logisticregression__class_weight=balanced, selectkbest__k=6 \n",
            "[CV]  logisticregression__C=100.0, logisticregression__class_weight=balanced, selectkbest__k=6, score=0.6875, total=   0.0s\n",
            "[CV] logisticregression__C=100.0, logisticregression__class_weight=balanced, selectkbest__k=6 \n",
            "[CV]  logisticregression__C=100.0, logisticregression__class_weight=balanced, selectkbest__k=6, score=0.6339285714285714, total=   0.0s\n",
            "[CV] logisticregression__C=100.0, logisticregression__class_weight=balanced, selectkbest__k=7 \n",
            "[CV]  logisticregression__C=100.0, logisticregression__class_weight=balanced, selectkbest__k=7, score=0.6902654867256637, total=   0.0s\n",
            "[CV] logisticregression__C=100.0, logisticregression__class_weight=balanced, selectkbest__k=7 \n",
            "[CV]  logisticregression__C=100.0, logisticregression__class_weight=balanced, selectkbest__k=7, score=0.5892857142857143, total=   0.0s\n",
            "[CV] logisticregression__C=100.0, logisticregression__class_weight=balanced, selectkbest__k=7 \n",
            "[CV]  logisticregression__C=100.0, logisticregression__class_weight=balanced, selectkbest__k=7, score=0.6607142857142857, total=   0.0s\n",
            "[CV] logisticregression__C=100.0, logisticregression__class_weight=balanced, selectkbest__k=7 \n",
            "[CV]  logisticregression__C=100.0, logisticregression__class_weight=balanced, selectkbest__k=7, score=0.6517857142857143, total=   0.0s\n",
            "[CV] logisticregression__C=100.0, logisticregression__class_weight=balanced, selectkbest__k=7 \n",
            "[CV]  logisticregression__C=100.0, logisticregression__class_weight=balanced, selectkbest__k=7, score=0.6517857142857143, total=   0.0s\n",
            "[CV] logisticregression__C=100.0, logisticregression__class_weight=balanced, selectkbest__k=8 \n",
            "[CV]  logisticregression__C=100.0, logisticregression__class_weight=balanced, selectkbest__k=8, score=0.6991150442477876, total=   0.0s\n",
            "[CV] logisticregression__C=100.0, logisticregression__class_weight=balanced, selectkbest__k=8 \n",
            "[CV]  logisticregression__C=100.0, logisticregression__class_weight=balanced, selectkbest__k=8, score=0.6696428571428571, total=   0.0s\n",
            "[CV] logisticregression__C=100.0, logisticregression__class_weight=balanced, selectkbest__k=8 \n",
            "[CV]  logisticregression__C=100.0, logisticregression__class_weight=balanced, selectkbest__k=8, score=0.6696428571428571, total=   0.0s\n",
            "[CV] logisticregression__C=100.0, logisticregression__class_weight=balanced, selectkbest__k=8 \n",
            "[CV]  logisticregression__C=100.0, logisticregression__class_weight=balanced, selectkbest__k=8, score=0.6785714285714286, total=   0.0s\n",
            "[CV] logisticregression__C=100.0, logisticregression__class_weight=balanced, selectkbest__k=8 \n",
            "[CV]  logisticregression__C=100.0, logisticregression__class_weight=balanced, selectkbest__k=8, score=0.7410714285714286, total=   0.0s\n",
            "[CV] logisticregression__C=100.0, logisticregression__class_weight=balanced, selectkbest__k=9 \n",
            "[CV]  logisticregression__C=100.0, logisticregression__class_weight=balanced, selectkbest__k=9, score=0.6991150442477876, total=   0.0s\n",
            "[CV] logisticregression__C=100.0, logisticregression__class_weight=balanced, selectkbest__k=9 \n",
            "[CV]  logisticregression__C=100.0, logisticregression__class_weight=balanced, selectkbest__k=9, score=0.6696428571428571, total=   0.0s\n",
            "[CV] logisticregression__C=100.0, logisticregression__class_weight=balanced, selectkbest__k=9 \n",
            "[CV]  logisticregression__C=100.0, logisticregression__class_weight=balanced, selectkbest__k=9, score=0.6696428571428571, total=   0.0s\n",
            "[CV] logisticregression__C=100.0, logisticregression__class_weight=balanced, selectkbest__k=9 \n",
            "[CV]  logisticregression__C=100.0, logisticregression__class_weight=balanced, selectkbest__k=9, score=0.6785714285714286, total=   0.0s\n",
            "[CV] logisticregression__C=100.0, logisticregression__class_weight=balanced, selectkbest__k=9 \n",
            "[CV]  logisticregression__C=100.0, logisticregression__class_weight=balanced, selectkbest__k=9, score=0.7410714285714286, total=   0.0s\n",
            "[CV] logisticregression__C=1000.0, logisticregression__class_weight=None, selectkbest__k=1 \n",
            "[CV]  logisticregression__C=1000.0, logisticregression__class_weight=None, selectkbest__k=1, score=0.7610619469026548, total=   0.0s\n",
            "[CV] logisticregression__C=1000.0, logisticregression__class_weight=None, selectkbest__k=1 \n",
            "[CV]  logisticregression__C=1000.0, logisticregression__class_weight=None, selectkbest__k=1, score=0.7678571428571429, total=   0.0s\n",
            "[CV] logisticregression__C=1000.0, logisticregression__class_weight=None, selectkbest__k=1 \n",
            "[CV]  logisticregression__C=1000.0, logisticregression__class_weight=None, selectkbest__k=1, score=0.7589285714285714, total=   0.0s\n",
            "[CV] logisticregression__C=1000.0, logisticregression__class_weight=None, selectkbest__k=1 \n",
            "[CV]  logisticregression__C=1000.0, logisticregression__class_weight=None, selectkbest__k=1, score=0.7678571428571429, total=   0.0s\n",
            "[CV] logisticregression__C=1000.0, logisticregression__class_weight=None, selectkbest__k=1 \n",
            "[CV]  logisticregression__C=1000.0, logisticregression__class_weight=None, selectkbest__k=1, score=0.7767857142857143, total=   0.0s\n",
            "[CV] logisticregression__C=1000.0, logisticregression__class_weight=None, selectkbest__k=2 \n",
            "[CV]  logisticregression__C=1000.0, logisticregression__class_weight=None, selectkbest__k=2, score=0.7610619469026548, total=   0.0s\n",
            "[CV] logisticregression__C=1000.0, logisticregression__class_weight=None, selectkbest__k=2 \n",
            "[CV]  logisticregression__C=1000.0, logisticregression__class_weight=None, selectkbest__k=2, score=0.7678571428571429, total=   0.0s\n",
            "[CV] logisticregression__C=1000.0, logisticregression__class_weight=None, selectkbest__k=2 \n",
            "[CV]  logisticregression__C=1000.0, logisticregression__class_weight=None, selectkbest__k=2, score=0.7589285714285714, total=   0.0s\n",
            "[CV] logisticregression__C=1000.0, logisticregression__class_weight=None, selectkbest__k=2 \n",
            "[CV]  logisticregression__C=1000.0, logisticregression__class_weight=None, selectkbest__k=2, score=0.7678571428571429, total=   0.0s\n",
            "[CV] logisticregression__C=1000.0, logisticregression__class_weight=None, selectkbest__k=2 \n",
            "[CV]  logisticregression__C=1000.0, logisticregression__class_weight=None, selectkbest__k=2, score=0.7767857142857143, total=   0.0s\n",
            "[CV] logisticregression__C=1000.0, logisticregression__class_weight=None, selectkbest__k=3 \n",
            "[CV]  logisticregression__C=1000.0, logisticregression__class_weight=None, selectkbest__k=3, score=0.7876106194690266, total=   0.0s\n",
            "[CV] logisticregression__C=1000.0, logisticregression__class_weight=None, selectkbest__k=3 \n",
            "[CV]  logisticregression__C=1000.0, logisticregression__class_weight=None, selectkbest__k=3, score=0.7321428571428571, total=   0.0s\n",
            "[CV] logisticregression__C=1000.0, logisticregression__class_weight=None, selectkbest__k=3 \n",
            "[CV]  logisticregression__C=1000.0, logisticregression__class_weight=None, selectkbest__k=3, score=0.7857142857142857, total=   0.0s\n",
            "[CV] logisticregression__C=1000.0, logisticregression__class_weight=None, selectkbest__k=3 \n",
            "[CV]  logisticregression__C=1000.0, logisticregression__class_weight=None, selectkbest__k=3, score=0.7678571428571429, total=   0.0s\n",
            "[CV] logisticregression__C=1000.0, logisticregression__class_weight=None, selectkbest__k=3 \n",
            "[CV]  logisticregression__C=1000.0, logisticregression__class_weight=None, selectkbest__k=3, score=0.7678571428571429, total=   0.0s\n",
            "[CV] logisticregression__C=1000.0, logisticregression__class_weight=None, selectkbest__k=4 \n",
            "[CV]  logisticregression__C=1000.0, logisticregression__class_weight=None, selectkbest__k=4, score=0.7876106194690266, total=   0.0s\n",
            "[CV] logisticregression__C=1000.0, logisticregression__class_weight=None, selectkbest__k=4 \n",
            "[CV]  logisticregression__C=1000.0, logisticregression__class_weight=None, selectkbest__k=4, score=0.7321428571428571, total=   0.0s\n",
            "[CV] logisticregression__C=1000.0, logisticregression__class_weight=None, selectkbest__k=4 \n",
            "[CV]  logisticregression__C=1000.0, logisticregression__class_weight=None, selectkbest__k=4, score=0.7857142857142857, total=   0.0s\n",
            "[CV] logisticregression__C=1000.0, logisticregression__class_weight=None, selectkbest__k=4 \n",
            "[CV]  logisticregression__C=1000.0, logisticregression__class_weight=None, selectkbest__k=4, score=0.7678571428571429, total=   0.0s\n",
            "[CV] logisticregression__C=1000.0, logisticregression__class_weight=None, selectkbest__k=4 \n",
            "[CV]  logisticregression__C=1000.0, logisticregression__class_weight=None, selectkbest__k=4, score=0.7678571428571429, total=   0.0s\n",
            "[CV] logisticregression__C=1000.0, logisticregression__class_weight=None, selectkbest__k=5 \n",
            "[CV]  logisticregression__C=1000.0, logisticregression__class_weight=None, selectkbest__k=5, score=0.7876106194690266, total=   0.0s\n",
            "[CV] logisticregression__C=1000.0, logisticregression__class_weight=None, selectkbest__k=5 \n",
            "[CV]  logisticregression__C=1000.0, logisticregression__class_weight=None, selectkbest__k=5, score=0.7321428571428571, total=   0.0s\n",
            "[CV] logisticregression__C=1000.0, logisticregression__class_weight=None, selectkbest__k=5 \n",
            "[CV]  logisticregression__C=1000.0, logisticregression__class_weight=None, selectkbest__k=5, score=0.8125, total=   0.0s\n",
            "[CV] logisticregression__C=1000.0, logisticregression__class_weight=None, selectkbest__k=5 \n",
            "[CV]  logisticregression__C=1000.0, logisticregression__class_weight=None, selectkbest__k=5, score=0.7678571428571429, total=   0.0s\n",
            "[CV] logisticregression__C=1000.0, logisticregression__class_weight=None, selectkbest__k=5 \n",
            "[CV]  logisticregression__C=1000.0, logisticregression__class_weight=None, selectkbest__k=5, score=0.7678571428571429, total=   0.0s\n",
            "[CV] logisticregression__C=1000.0, logisticregression__class_weight=None, selectkbest__k=6 \n",
            "[CV]  logisticregression__C=1000.0, logisticregression__class_weight=None, selectkbest__k=6, score=0.7699115044247787, total=   0.0s\n",
            "[CV] logisticregression__C=1000.0, logisticregression__class_weight=None, selectkbest__k=6 \n",
            "[CV]  logisticregression__C=1000.0, logisticregression__class_weight=None, selectkbest__k=6, score=0.7321428571428571, total=   0.0s\n",
            "[CV] logisticregression__C=1000.0, logisticregression__class_weight=None, selectkbest__k=6 \n",
            "[CV]  logisticregression__C=1000.0, logisticregression__class_weight=None, selectkbest__k=6, score=0.7857142857142857, total=   0.0s\n",
            "[CV] logisticregression__C=1000.0, logisticregression__class_weight=None, selectkbest__k=6 \n",
            "[CV]  logisticregression__C=1000.0, logisticregression__class_weight=None, selectkbest__k=6, score=0.7678571428571429, total=   0.0s\n",
            "[CV] logisticregression__C=1000.0, logisticregression__class_weight=None, selectkbest__k=6 \n",
            "[CV]  logisticregression__C=1000.0, logisticregression__class_weight=None, selectkbest__k=6, score=0.7678571428571429, total=   0.0s\n",
            "[CV] logisticregression__C=1000.0, logisticregression__class_weight=None, selectkbest__k=7 \n",
            "[CV]  logisticregression__C=1000.0, logisticregression__class_weight=None, selectkbest__k=7, score=0.7787610619469026, total=   0.0s\n",
            "[CV] logisticregression__C=1000.0, logisticregression__class_weight=None, selectkbest__k=7 \n",
            "[CV]  logisticregression__C=1000.0, logisticregression__class_weight=None, selectkbest__k=7, score=0.75, total=   0.0s\n",
            "[CV] logisticregression__C=1000.0, logisticregression__class_weight=None, selectkbest__k=7 \n",
            "[CV]  logisticregression__C=1000.0, logisticregression__class_weight=None, selectkbest__k=7, score=0.8125, total=   0.0s\n",
            "[CV] logisticregression__C=1000.0, logisticregression__class_weight=None, selectkbest__k=7 \n",
            "[CV]  logisticregression__C=1000.0, logisticregression__class_weight=None, selectkbest__k=7, score=0.7857142857142857, total=   0.0s\n",
            "[CV] logisticregression__C=1000.0, logisticregression__class_weight=None, selectkbest__k=7 \n",
            "[CV]  logisticregression__C=1000.0, logisticregression__class_weight=None, selectkbest__k=7, score=0.7857142857142857, total=   0.0s\n",
            "[CV] logisticregression__C=1000.0, logisticregression__class_weight=None, selectkbest__k=8 \n",
            "[CV]  logisticregression__C=1000.0, logisticregression__class_weight=None, selectkbest__k=8, score=0.7964601769911505, total=   0.0s\n",
            "[CV] logisticregression__C=1000.0, logisticregression__class_weight=None, selectkbest__k=8 \n",
            "[CV]  logisticregression__C=1000.0, logisticregression__class_weight=None, selectkbest__k=8, score=0.75, total=   0.0s\n",
            "[CV] logisticregression__C=1000.0, logisticregression__class_weight=None, selectkbest__k=8 \n",
            "[CV]  logisticregression__C=1000.0, logisticregression__class_weight=None, selectkbest__k=8, score=0.8392857142857143, total=   0.0s\n",
            "[CV] logisticregression__C=1000.0, logisticregression__class_weight=None, selectkbest__k=8 \n",
            "[CV]  logisticregression__C=1000.0, logisticregression__class_weight=None, selectkbest__k=8, score=0.7857142857142857, total=   0.0s\n",
            "[CV] logisticregression__C=1000.0, logisticregression__class_weight=None, selectkbest__k=8 \n",
            "[CV]  logisticregression__C=1000.0, logisticregression__class_weight=None, selectkbest__k=8, score=0.8035714285714286, total=   0.0s\n",
            "[CV] logisticregression__C=1000.0, logisticregression__class_weight=None, selectkbest__k=9 \n",
            "[CV]  logisticregression__C=1000.0, logisticregression__class_weight=None, selectkbest__k=9, score=0.7964601769911505, total=   0.0s\n",
            "[CV] logisticregression__C=1000.0, logisticregression__class_weight=None, selectkbest__k=9 \n",
            "[CV]  logisticregression__C=1000.0, logisticregression__class_weight=None, selectkbest__k=9, score=0.75, total=   0.0s\n",
            "[CV] logisticregression__C=1000.0, logisticregression__class_weight=None, selectkbest__k=9 \n",
            "[CV]  logisticregression__C=1000.0, logisticregression__class_weight=None, selectkbest__k=9, score=0.8392857142857143, total=   0.0s\n",
            "[CV] logisticregression__C=1000.0, logisticregression__class_weight=None, selectkbest__k=9 \n",
            "[CV]  logisticregression__C=1000.0, logisticregression__class_weight=None, selectkbest__k=9, score=0.7857142857142857, total=   0.0s\n",
            "[CV] logisticregression__C=1000.0, logisticregression__class_weight=None, selectkbest__k=9 \n",
            "[CV]  logisticregression__C=1000.0, logisticregression__class_weight=None, selectkbest__k=9, score=0.8035714285714286, total=   0.0s\n",
            "[CV] logisticregression__C=1000.0, logisticregression__class_weight=balanced, selectkbest__k=1 \n",
            "[CV]  logisticregression__C=1000.0, logisticregression__class_weight=balanced, selectkbest__k=1, score=0.6637168141592921, total=   0.0s\n",
            "[CV] logisticregression__C=1000.0, logisticregression__class_weight=balanced, selectkbest__k=1 \n",
            "[CV]  logisticregression__C=1000.0, logisticregression__class_weight=balanced, selectkbest__k=1, score=0.5982142857142857, total=   0.0s\n",
            "[CV] logisticregression__C=1000.0, logisticregression__class_weight=balanced, selectkbest__k=1 \n",
            "[CV]  logisticregression__C=1000.0, logisticregression__class_weight=balanced, selectkbest__k=1, score=0.6696428571428571, total=   0.0s\n",
            "[CV] logisticregression__C=1000.0, logisticregression__class_weight=balanced, selectkbest__k=1 \n",
            "[CV]  logisticregression__C=1000.0, logisticregression__class_weight=balanced, selectkbest__k=1, score=0.6517857142857143, total=   0.0s\n",
            "[CV] logisticregression__C=1000.0, logisticregression__class_weight=balanced, selectkbest__k=1 \n",
            "[CV]  logisticregression__C=1000.0, logisticregression__class_weight=balanced, selectkbest__k=1, score=0.625, total=   0.0s\n",
            "[CV] logisticregression__C=1000.0, logisticregression__class_weight=balanced, selectkbest__k=2 \n",
            "[CV]  logisticregression__C=1000.0, logisticregression__class_weight=balanced, selectkbest__k=2, score=0.6637168141592921, total=   0.0s\n",
            "[CV] logisticregression__C=1000.0, logisticregression__class_weight=balanced, selectkbest__k=2 \n",
            "[CV]  logisticregression__C=1000.0, logisticregression__class_weight=balanced, selectkbest__k=2, score=0.5982142857142857, total=   0.0s\n",
            "[CV] logisticregression__C=1000.0, logisticregression__class_weight=balanced, selectkbest__k=2 \n",
            "[CV]  logisticregression__C=1000.0, logisticregression__class_weight=balanced, selectkbest__k=2, score=0.6696428571428571, total=   0.0s\n",
            "[CV] logisticregression__C=1000.0, logisticregression__class_weight=balanced, selectkbest__k=2 \n",
            "[CV]  logisticregression__C=1000.0, logisticregression__class_weight=balanced, selectkbest__k=2, score=0.6339285714285714, total=   0.0s\n",
            "[CV] logisticregression__C=1000.0, logisticregression__class_weight=balanced, selectkbest__k=2 \n",
            "[CV]  logisticregression__C=1000.0, logisticregression__class_weight=balanced, selectkbest__k=2, score=0.625, total=   0.0s\n",
            "[CV] logisticregression__C=1000.0, logisticregression__class_weight=balanced, selectkbest__k=3 \n",
            "[CV]  logisticregression__C=1000.0, logisticregression__class_weight=balanced, selectkbest__k=3, score=0.6548672566371682, total=   0.0s\n",
            "[CV] logisticregression__C=1000.0, logisticregression__class_weight=balanced, selectkbest__k=3 \n",
            "[CV]  logisticregression__C=1000.0, logisticregression__class_weight=balanced, selectkbest__k=3, score=0.5625, total=   0.0s\n",
            "[CV] logisticregression__C=1000.0, logisticregression__class_weight=balanced, selectkbest__k=3 \n",
            "[CV]  logisticregression__C=1000.0, logisticregression__class_weight=balanced, selectkbest__k=3, score=0.6428571428571429, total=   0.0s\n",
            "[CV] logisticregression__C=1000.0, logisticregression__class_weight=balanced, selectkbest__k=3 \n",
            "[CV]  logisticregression__C=1000.0, logisticregression__class_weight=balanced, selectkbest__k=3, score=0.6517857142857143, total=   0.0s\n",
            "[CV] logisticregression__C=1000.0, logisticregression__class_weight=balanced, selectkbest__k=3 \n",
            "[CV]  logisticregression__C=1000.0, logisticregression__class_weight=balanced, selectkbest__k=3, score=0.625, total=   0.0s\n",
            "[CV] logisticregression__C=1000.0, logisticregression__class_weight=balanced, selectkbest__k=4 \n",
            "[CV]  logisticregression__C=1000.0, logisticregression__class_weight=balanced, selectkbest__k=4, score=0.6548672566371682, total=   0.0s\n",
            "[CV] logisticregression__C=1000.0, logisticregression__class_weight=balanced, selectkbest__k=4 \n",
            "[CV]  logisticregression__C=1000.0, logisticregression__class_weight=balanced, selectkbest__k=4, score=0.5625, total=   0.0s\n",
            "[CV] logisticregression__C=1000.0, logisticregression__class_weight=balanced, selectkbest__k=4 \n",
            "[CV]  logisticregression__C=1000.0, logisticregression__class_weight=balanced, selectkbest__k=4, score=0.6428571428571429, total=   0.0s\n",
            "[CV] logisticregression__C=1000.0, logisticregression__class_weight=balanced, selectkbest__k=4 \n",
            "[CV]  logisticregression__C=1000.0, logisticregression__class_weight=balanced, selectkbest__k=4, score=0.6517857142857143, total=   0.0s\n",
            "[CV] logisticregression__C=1000.0, logisticregression__class_weight=balanced, selectkbest__k=4 \n",
            "[CV]  logisticregression__C=1000.0, logisticregression__class_weight=balanced, selectkbest__k=4, score=0.625, total=   0.0s\n",
            "[CV] logisticregression__C=1000.0, logisticregression__class_weight=balanced, selectkbest__k=5 \n",
            "[CV]  logisticregression__C=1000.0, logisticregression__class_weight=balanced, selectkbest__k=5, score=0.6548672566371682, total=   0.0s\n",
            "[CV] logisticregression__C=1000.0, logisticregression__class_weight=balanced, selectkbest__k=5 \n",
            "[CV]  logisticregression__C=1000.0, logisticregression__class_weight=balanced, selectkbest__k=5, score=0.5625, total=   0.0s\n",
            "[CV] logisticregression__C=1000.0, logisticregression__class_weight=balanced, selectkbest__k=5 \n",
            "[CV]  logisticregression__C=1000.0, logisticregression__class_weight=balanced, selectkbest__k=5, score=0.6607142857142857, total=   0.0s\n",
            "[CV] logisticregression__C=1000.0, logisticregression__class_weight=balanced, selectkbest__k=5 \n",
            "[CV]  logisticregression__C=1000.0, logisticregression__class_weight=balanced, selectkbest__k=5, score=0.6339285714285714, total=   0.0s\n",
            "[CV] logisticregression__C=1000.0, logisticregression__class_weight=balanced, selectkbest__k=5 \n",
            "[CV]  logisticregression__C=1000.0, logisticregression__class_weight=balanced, selectkbest__k=5, score=0.625, total=   0.0s\n",
            "[CV] logisticregression__C=1000.0, logisticregression__class_weight=balanced, selectkbest__k=6 \n",
            "[CV]  logisticregression__C=1000.0, logisticregression__class_weight=balanced, selectkbest__k=6, score=0.6637168141592921, total=   0.0s\n",
            "[CV] logisticregression__C=1000.0, logisticregression__class_weight=balanced, selectkbest__k=6 \n",
            "[CV]  logisticregression__C=1000.0, logisticregression__class_weight=balanced, selectkbest__k=6, score=0.5803571428571429, total=   0.0s\n",
            "[CV] logisticregression__C=1000.0, logisticregression__class_weight=balanced, selectkbest__k=6 \n",
            "[CV]  logisticregression__C=1000.0, logisticregression__class_weight=balanced, selectkbest__k=6, score=0.6517857142857143, total=   0.0s\n",
            "[CV] logisticregression__C=1000.0, logisticregression__class_weight=balanced, selectkbest__k=6 \n",
            "[CV]  logisticregression__C=1000.0, logisticregression__class_weight=balanced, selectkbest__k=6, score=0.6875, total=   0.0s\n",
            "[CV] logisticregression__C=1000.0, logisticregression__class_weight=balanced, selectkbest__k=6 \n",
            "[CV]  logisticregression__C=1000.0, logisticregression__class_weight=balanced, selectkbest__k=6, score=0.6339285714285714, total=   0.0s\n",
            "[CV] logisticregression__C=1000.0, logisticregression__class_weight=balanced, selectkbest__k=7 \n",
            "[CV]  logisticregression__C=1000.0, logisticregression__class_weight=balanced, selectkbest__k=7, score=0.6902654867256637, total=   0.0s\n",
            "[CV] logisticregression__C=1000.0, logisticregression__class_weight=balanced, selectkbest__k=7 \n",
            "[CV]  logisticregression__C=1000.0, logisticregression__class_weight=balanced, selectkbest__k=7, score=0.5892857142857143, total=   0.0s\n",
            "[CV] logisticregression__C=1000.0, logisticregression__class_weight=balanced, selectkbest__k=7 \n",
            "[CV]  logisticregression__C=1000.0, logisticregression__class_weight=balanced, selectkbest__k=7, score=0.6607142857142857, total=   0.0s\n",
            "[CV] logisticregression__C=1000.0, logisticregression__class_weight=balanced, selectkbest__k=7 \n",
            "[CV]  logisticregression__C=1000.0, logisticregression__class_weight=balanced, selectkbest__k=7, score=0.6517857142857143, total=   0.0s\n",
            "[CV] logisticregression__C=1000.0, logisticregression__class_weight=balanced, selectkbest__k=7 \n",
            "[CV]  logisticregression__C=1000.0, logisticregression__class_weight=balanced, selectkbest__k=7, score=0.6517857142857143, total=   0.0s\n",
            "[CV] logisticregression__C=1000.0, logisticregression__class_weight=balanced, selectkbest__k=8 \n",
            "[CV]  logisticregression__C=1000.0, logisticregression__class_weight=balanced, selectkbest__k=8, score=0.6991150442477876, total=   0.0s\n",
            "[CV] logisticregression__C=1000.0, logisticregression__class_weight=balanced, selectkbest__k=8 \n",
            "[CV]  logisticregression__C=1000.0, logisticregression__class_weight=balanced, selectkbest__k=8, score=0.6696428571428571, total=   0.0s\n",
            "[CV] logisticregression__C=1000.0, logisticregression__class_weight=balanced, selectkbest__k=8 \n",
            "[CV]  logisticregression__C=1000.0, logisticregression__class_weight=balanced, selectkbest__k=8, score=0.6696428571428571, total=   0.0s\n",
            "[CV] logisticregression__C=1000.0, logisticregression__class_weight=balanced, selectkbest__k=8 \n",
            "[CV]  logisticregression__C=1000.0, logisticregression__class_weight=balanced, selectkbest__k=8, score=0.6785714285714286, total=   0.0s\n",
            "[CV] logisticregression__C=1000.0, logisticregression__class_weight=balanced, selectkbest__k=8 \n",
            "[CV]  logisticregression__C=1000.0, logisticregression__class_weight=balanced, selectkbest__k=8, score=0.7321428571428571, total=   0.0s\n",
            "[CV] logisticregression__C=1000.0, logisticregression__class_weight=balanced, selectkbest__k=9 \n",
            "[CV]  logisticregression__C=1000.0, logisticregression__class_weight=balanced, selectkbest__k=9, score=0.6991150442477876, total=   0.0s\n",
            "[CV] logisticregression__C=1000.0, logisticregression__class_weight=balanced, selectkbest__k=9 \n",
            "[CV]  logisticregression__C=1000.0, logisticregression__class_weight=balanced, selectkbest__k=9, score=0.6696428571428571, total=   0.0s\n",
            "[CV] logisticregression__C=1000.0, logisticregression__class_weight=balanced, selectkbest__k=9 \n",
            "[CV]  logisticregression__C=1000.0, logisticregression__class_weight=balanced, selectkbest__k=9, score=0.6696428571428571, total=   0.0s\n",
            "[CV] logisticregression__C=1000.0, logisticregression__class_weight=balanced, selectkbest__k=9 \n",
            "[CV]  logisticregression__C=1000.0, logisticregression__class_weight=balanced, selectkbest__k=9, score=0.6785714285714286, total=   0.0s\n",
            "[CV] logisticregression__C=1000.0, logisticregression__class_weight=balanced, selectkbest__k=9 \n",
            "[CV]  logisticregression__C=1000.0, logisticregression__class_weight=balanced, selectkbest__k=9, score=0.7321428571428571, total=   0.0s\n",
            "[CV] logisticregression__C=10000.0, logisticregression__class_weight=None, selectkbest__k=1 \n",
            "[CV]  logisticregression__C=10000.0, logisticregression__class_weight=None, selectkbest__k=1, score=0.7610619469026548, total=   0.0s\n",
            "[CV] logisticregression__C=10000.0, logisticregression__class_weight=None, selectkbest__k=1 \n",
            "[CV]  logisticregression__C=10000.0, logisticregression__class_weight=None, selectkbest__k=1, score=0.7678571428571429, total=   0.0s\n",
            "[CV] logisticregression__C=10000.0, logisticregression__class_weight=None, selectkbest__k=1 \n",
            "[CV]  logisticregression__C=10000.0, logisticregression__class_weight=None, selectkbest__k=1, score=0.7589285714285714, total=   0.0s\n",
            "[CV] logisticregression__C=10000.0, logisticregression__class_weight=None, selectkbest__k=1 \n",
            "[CV]  logisticregression__C=10000.0, logisticregression__class_weight=None, selectkbest__k=1, score=0.7678571428571429, total=   0.0s\n",
            "[CV] logisticregression__C=10000.0, logisticregression__class_weight=None, selectkbest__k=1 \n",
            "[CV]  logisticregression__C=10000.0, logisticregression__class_weight=None, selectkbest__k=1, score=0.7767857142857143, total=   0.0s\n",
            "[CV] logisticregression__C=10000.0, logisticregression__class_weight=None, selectkbest__k=2 \n",
            "[CV]  logisticregression__C=10000.0, logisticregression__class_weight=None, selectkbest__k=2, score=0.7610619469026548, total=   0.0s\n",
            "[CV] logisticregression__C=10000.0, logisticregression__class_weight=None, selectkbest__k=2 \n",
            "[CV]  logisticregression__C=10000.0, logisticregression__class_weight=None, selectkbest__k=2, score=0.7678571428571429, total=   0.0s\n",
            "[CV] logisticregression__C=10000.0, logisticregression__class_weight=None, selectkbest__k=2 \n",
            "[CV]  logisticregression__C=10000.0, logisticregression__class_weight=None, selectkbest__k=2, score=0.7589285714285714, total=   0.0s\n",
            "[CV] logisticregression__C=10000.0, logisticregression__class_weight=None, selectkbest__k=2 \n",
            "[CV]  logisticregression__C=10000.0, logisticregression__class_weight=None, selectkbest__k=2, score=0.7678571428571429, total=   0.0s\n",
            "[CV] logisticregression__C=10000.0, logisticregression__class_weight=None, selectkbest__k=2 \n",
            "[CV]  logisticregression__C=10000.0, logisticregression__class_weight=None, selectkbest__k=2, score=0.7767857142857143, total=   0.0s\n",
            "[CV] logisticregression__C=10000.0, logisticregression__class_weight=None, selectkbest__k=3 \n",
            "[CV]  logisticregression__C=10000.0, logisticregression__class_weight=None, selectkbest__k=3, score=0.7876106194690266, total=   0.0s\n",
            "[CV] logisticregression__C=10000.0, logisticregression__class_weight=None, selectkbest__k=3 \n",
            "[CV]  logisticregression__C=10000.0, logisticregression__class_weight=None, selectkbest__k=3, score=0.7321428571428571, total=   0.0s\n",
            "[CV] logisticregression__C=10000.0, logisticregression__class_weight=None, selectkbest__k=3 \n",
            "[CV]  logisticregression__C=10000.0, logisticregression__class_weight=None, selectkbest__k=3, score=0.7857142857142857, total=   0.0s\n",
            "[CV] logisticregression__C=10000.0, logisticregression__class_weight=None, selectkbest__k=3 \n",
            "[CV]  logisticregression__C=10000.0, logisticregression__class_weight=None, selectkbest__k=3, score=0.7678571428571429, total=   0.0s\n",
            "[CV] logisticregression__C=10000.0, logisticregression__class_weight=None, selectkbest__k=3 \n",
            "[CV]  logisticregression__C=10000.0, logisticregression__class_weight=None, selectkbest__k=3, score=0.7678571428571429, total=   0.0s\n",
            "[CV] logisticregression__C=10000.0, logisticregression__class_weight=None, selectkbest__k=4 \n",
            "[CV]  logisticregression__C=10000.0, logisticregression__class_weight=None, selectkbest__k=4, score=0.7876106194690266, total=   0.0s\n",
            "[CV] logisticregression__C=10000.0, logisticregression__class_weight=None, selectkbest__k=4 \n",
            "[CV]  logisticregression__C=10000.0, logisticregression__class_weight=None, selectkbest__k=4, score=0.7321428571428571, total=   0.0s\n",
            "[CV] logisticregression__C=10000.0, logisticregression__class_weight=None, selectkbest__k=4 \n",
            "[CV]  logisticregression__C=10000.0, logisticregression__class_weight=None, selectkbest__k=4, score=0.7857142857142857, total=   0.0s\n",
            "[CV] logisticregression__C=10000.0, logisticregression__class_weight=None, selectkbest__k=4 \n",
            "[CV]  logisticregression__C=10000.0, logisticregression__class_weight=None, selectkbest__k=4, score=0.7678571428571429, total=   0.0s\n",
            "[CV] logisticregression__C=10000.0, logisticregression__class_weight=None, selectkbest__k=4 \n",
            "[CV]  logisticregression__C=10000.0, logisticregression__class_weight=None, selectkbest__k=4, score=0.7678571428571429, total=   0.0s\n",
            "[CV] logisticregression__C=10000.0, logisticregression__class_weight=None, selectkbest__k=5 \n",
            "[CV]  logisticregression__C=10000.0, logisticregression__class_weight=None, selectkbest__k=5, score=0.7876106194690266, total=   0.0s\n",
            "[CV] logisticregression__C=10000.0, logisticregression__class_weight=None, selectkbest__k=5 \n",
            "[CV]  logisticregression__C=10000.0, logisticregression__class_weight=None, selectkbest__k=5, score=0.7321428571428571, total=   0.0s\n",
            "[CV] logisticregression__C=10000.0, logisticregression__class_weight=None, selectkbest__k=5 \n",
            "[CV]  logisticregression__C=10000.0, logisticregression__class_weight=None, selectkbest__k=5, score=0.8125, total=   0.0s\n",
            "[CV] logisticregression__C=10000.0, logisticregression__class_weight=None, selectkbest__k=5 \n",
            "[CV]  logisticregression__C=10000.0, logisticregression__class_weight=None, selectkbest__k=5, score=0.7678571428571429, total=   0.0s\n",
            "[CV] logisticregression__C=10000.0, logisticregression__class_weight=None, selectkbest__k=5 \n",
            "[CV]  logisticregression__C=10000.0, logisticregression__class_weight=None, selectkbest__k=5, score=0.7678571428571429, total=   0.0s\n",
            "[CV] logisticregression__C=10000.0, logisticregression__class_weight=None, selectkbest__k=6 \n",
            "[CV]  logisticregression__C=10000.0, logisticregression__class_weight=None, selectkbest__k=6, score=0.7699115044247787, total=   0.0s\n",
            "[CV] logisticregression__C=10000.0, logisticregression__class_weight=None, selectkbest__k=6 \n",
            "[CV]  logisticregression__C=10000.0, logisticregression__class_weight=None, selectkbest__k=6, score=0.7321428571428571, total=   0.0s\n",
            "[CV] logisticregression__C=10000.0, logisticregression__class_weight=None, selectkbest__k=6 \n",
            "[CV]  logisticregression__C=10000.0, logisticregression__class_weight=None, selectkbest__k=6, score=0.7857142857142857, total=   0.0s\n",
            "[CV] logisticregression__C=10000.0, logisticregression__class_weight=None, selectkbest__k=6 \n",
            "[CV]  logisticregression__C=10000.0, logisticregression__class_weight=None, selectkbest__k=6, score=0.7678571428571429, total=   0.0s\n",
            "[CV] logisticregression__C=10000.0, logisticregression__class_weight=None, selectkbest__k=6 \n",
            "[CV]  logisticregression__C=10000.0, logisticregression__class_weight=None, selectkbest__k=6, score=0.7678571428571429, total=   0.0s\n",
            "[CV] logisticregression__C=10000.0, logisticregression__class_weight=None, selectkbest__k=7 \n",
            "[CV]  logisticregression__C=10000.0, logisticregression__class_weight=None, selectkbest__k=7, score=0.7787610619469026, total=   0.0s\n",
            "[CV] logisticregression__C=10000.0, logisticregression__class_weight=None, selectkbest__k=7 \n",
            "[CV]  logisticregression__C=10000.0, logisticregression__class_weight=None, selectkbest__k=7, score=0.75, total=   0.0s\n",
            "[CV] logisticregression__C=10000.0, logisticregression__class_weight=None, selectkbest__k=7 \n",
            "[CV]  logisticregression__C=10000.0, logisticregression__class_weight=None, selectkbest__k=7, score=0.8125, total=   0.0s\n",
            "[CV] logisticregression__C=10000.0, logisticregression__class_weight=None, selectkbest__k=7 \n",
            "[CV]  logisticregression__C=10000.0, logisticregression__class_weight=None, selectkbest__k=7, score=0.7857142857142857, total=   0.0s\n",
            "[CV] logisticregression__C=10000.0, logisticregression__class_weight=None, selectkbest__k=7 \n",
            "[CV]  logisticregression__C=10000.0, logisticregression__class_weight=None, selectkbest__k=7, score=0.7857142857142857, total=   0.0s\n",
            "[CV] logisticregression__C=10000.0, logisticregression__class_weight=None, selectkbest__k=8 \n",
            "[CV]  logisticregression__C=10000.0, logisticregression__class_weight=None, selectkbest__k=8, score=0.7964601769911505, total=   0.0s\n",
            "[CV] logisticregression__C=10000.0, logisticregression__class_weight=None, selectkbest__k=8 \n",
            "[CV]  logisticregression__C=10000.0, logisticregression__class_weight=None, selectkbest__k=8, score=0.75, total=   0.0s\n",
            "[CV] logisticregression__C=10000.0, logisticregression__class_weight=None, selectkbest__k=8 \n",
            "[CV]  logisticregression__C=10000.0, logisticregression__class_weight=None, selectkbest__k=8, score=0.8392857142857143, total=   0.0s\n",
            "[CV] logisticregression__C=10000.0, logisticregression__class_weight=None, selectkbest__k=8 \n",
            "[CV]  logisticregression__C=10000.0, logisticregression__class_weight=None, selectkbest__k=8, score=0.7857142857142857, total=   0.0s\n",
            "[CV] logisticregression__C=10000.0, logisticregression__class_weight=None, selectkbest__k=8 \n",
            "[CV]  logisticregression__C=10000.0, logisticregression__class_weight=None, selectkbest__k=8, score=0.8035714285714286, total=   0.0s\n",
            "[CV] logisticregression__C=10000.0, logisticregression__class_weight=None, selectkbest__k=9 \n",
            "[CV]  logisticregression__C=10000.0, logisticregression__class_weight=None, selectkbest__k=9, score=0.7964601769911505, total=   0.0s\n",
            "[CV] logisticregression__C=10000.0, logisticregression__class_weight=None, selectkbest__k=9 \n",
            "[CV]  logisticregression__C=10000.0, logisticregression__class_weight=None, selectkbest__k=9, score=0.75, total=   0.0s\n",
            "[CV] logisticregression__C=10000.0, logisticregression__class_weight=None, selectkbest__k=9 \n",
            "[CV]  logisticregression__C=10000.0, logisticregression__class_weight=None, selectkbest__k=9, score=0.8392857142857143, total=   0.0s\n",
            "[CV] logisticregression__C=10000.0, logisticregression__class_weight=None, selectkbest__k=9 \n",
            "[CV]  logisticregression__C=10000.0, logisticregression__class_weight=None, selectkbest__k=9, score=0.7857142857142857, total=   0.0s\n",
            "[CV] logisticregression__C=10000.0, logisticregression__class_weight=None, selectkbest__k=9 \n",
            "[CV]  logisticregression__C=10000.0, logisticregression__class_weight=None, selectkbest__k=9, score=0.8035714285714286, total=   0.0s\n",
            "[CV] logisticregression__C=10000.0, logisticregression__class_weight=balanced, selectkbest__k=1 \n",
            "[CV]  logisticregression__C=10000.0, logisticregression__class_weight=balanced, selectkbest__k=1, score=0.6637168141592921, total=   0.0s\n",
            "[CV] logisticregression__C=10000.0, logisticregression__class_weight=balanced, selectkbest__k=1 \n",
            "[CV]  logisticregression__C=10000.0, logisticregression__class_weight=balanced, selectkbest__k=1, score=0.5982142857142857, total=   0.0s\n",
            "[CV] logisticregression__C=10000.0, logisticregression__class_weight=balanced, selectkbest__k=1 \n",
            "[CV]  logisticregression__C=10000.0, logisticregression__class_weight=balanced, selectkbest__k=1, score=0.6696428571428571, total=   0.0s\n",
            "[CV] logisticregression__C=10000.0, logisticregression__class_weight=balanced, selectkbest__k=1 \n",
            "[CV]  logisticregression__C=10000.0, logisticregression__class_weight=balanced, selectkbest__k=1, score=0.6517857142857143, total=   0.0s\n",
            "[CV] logisticregression__C=10000.0, logisticregression__class_weight=balanced, selectkbest__k=1 \n",
            "[CV]  logisticregression__C=10000.0, logisticregression__class_weight=balanced, selectkbest__k=1, score=0.625, total=   0.0s\n",
            "[CV] logisticregression__C=10000.0, logisticregression__class_weight=balanced, selectkbest__k=2 \n",
            "[CV]  logisticregression__C=10000.0, logisticregression__class_weight=balanced, selectkbest__k=2, score=0.6637168141592921, total=   0.0s\n",
            "[CV] logisticregression__C=10000.0, logisticregression__class_weight=balanced, selectkbest__k=2 \n",
            "[CV]  logisticregression__C=10000.0, logisticregression__class_weight=balanced, selectkbest__k=2, score=0.5982142857142857, total=   0.0s\n",
            "[CV] logisticregression__C=10000.0, logisticregression__class_weight=balanced, selectkbest__k=2 \n",
            "[CV]  logisticregression__C=10000.0, logisticregression__class_weight=balanced, selectkbest__k=2, score=0.6696428571428571, total=   0.0s\n",
            "[CV] logisticregression__C=10000.0, logisticregression__class_weight=balanced, selectkbest__k=2 \n",
            "[CV]  logisticregression__C=10000.0, logisticregression__class_weight=balanced, selectkbest__k=2, score=0.6339285714285714, total=   0.0s\n",
            "[CV] logisticregression__C=10000.0, logisticregression__class_weight=balanced, selectkbest__k=2 \n",
            "[CV]  logisticregression__C=10000.0, logisticregression__class_weight=balanced, selectkbest__k=2, score=0.625, total=   0.0s\n",
            "[CV] logisticregression__C=10000.0, logisticregression__class_weight=balanced, selectkbest__k=3 \n",
            "[CV]  logisticregression__C=10000.0, logisticregression__class_weight=balanced, selectkbest__k=3, score=0.6548672566371682, total=   0.0s\n",
            "[CV] logisticregression__C=10000.0, logisticregression__class_weight=balanced, selectkbest__k=3 \n",
            "[CV]  logisticregression__C=10000.0, logisticregression__class_weight=balanced, selectkbest__k=3, score=0.5625, total=   0.0s\n",
            "[CV] logisticregression__C=10000.0, logisticregression__class_weight=balanced, selectkbest__k=3 \n",
            "[CV]  logisticregression__C=10000.0, logisticregression__class_weight=balanced, selectkbest__k=3, score=0.6428571428571429, total=   0.0s\n",
            "[CV] logisticregression__C=10000.0, logisticregression__class_weight=balanced, selectkbest__k=3 \n",
            "[CV]  logisticregression__C=10000.0, logisticregression__class_weight=balanced, selectkbest__k=3, score=0.6517857142857143, total=   0.0s\n",
            "[CV] logisticregression__C=10000.0, logisticregression__class_weight=balanced, selectkbest__k=3 \n",
            "[CV]  logisticregression__C=10000.0, logisticregression__class_weight=balanced, selectkbest__k=3, score=0.625, total=   0.0s\n",
            "[CV] logisticregression__C=10000.0, logisticregression__class_weight=balanced, selectkbest__k=4 \n",
            "[CV]  logisticregression__C=10000.0, logisticregression__class_weight=balanced, selectkbest__k=4, score=0.6548672566371682, total=   0.0s\n",
            "[CV] logisticregression__C=10000.0, logisticregression__class_weight=balanced, selectkbest__k=4 \n",
            "[CV]  logisticregression__C=10000.0, logisticregression__class_weight=balanced, selectkbest__k=4, score=0.5625, total=   0.0s\n",
            "[CV] logisticregression__C=10000.0, logisticregression__class_weight=balanced, selectkbest__k=4 \n",
            "[CV]  logisticregression__C=10000.0, logisticregression__class_weight=balanced, selectkbest__k=4, score=0.6428571428571429, total=   0.0s\n",
            "[CV] logisticregression__C=10000.0, logisticregression__class_weight=balanced, selectkbest__k=4 \n",
            "[CV]  logisticregression__C=10000.0, logisticregression__class_weight=balanced, selectkbest__k=4, score=0.6517857142857143, total=   0.0s\n",
            "[CV] logisticregression__C=10000.0, logisticregression__class_weight=balanced, selectkbest__k=4 \n",
            "[CV]  logisticregression__C=10000.0, logisticregression__class_weight=balanced, selectkbest__k=4, score=0.625, total=   0.0s\n",
            "[CV] logisticregression__C=10000.0, logisticregression__class_weight=balanced, selectkbest__k=5 \n",
            "[CV]  logisticregression__C=10000.0, logisticregression__class_weight=balanced, selectkbest__k=5, score=0.6548672566371682, total=   0.0s\n",
            "[CV] logisticregression__C=10000.0, logisticregression__class_weight=balanced, selectkbest__k=5 \n",
            "[CV]  logisticregression__C=10000.0, logisticregression__class_weight=balanced, selectkbest__k=5, score=0.5625, total=   0.0s\n",
            "[CV] logisticregression__C=10000.0, logisticregression__class_weight=balanced, selectkbest__k=5 \n",
            "[CV]  logisticregression__C=10000.0, logisticregression__class_weight=balanced, selectkbest__k=5, score=0.6607142857142857, total=   0.0s\n",
            "[CV] logisticregression__C=10000.0, logisticregression__class_weight=balanced, selectkbest__k=5 \n",
            "[CV]  logisticregression__C=10000.0, logisticregression__class_weight=balanced, selectkbest__k=5, score=0.6339285714285714, total=   0.0s\n",
            "[CV] logisticregression__C=10000.0, logisticregression__class_weight=balanced, selectkbest__k=5 \n",
            "[CV]  logisticregression__C=10000.0, logisticregression__class_weight=balanced, selectkbest__k=5, score=0.625, total=   0.0s\n",
            "[CV] logisticregression__C=10000.0, logisticregression__class_weight=balanced, selectkbest__k=6 \n",
            "[CV]  logisticregression__C=10000.0, logisticregression__class_weight=balanced, selectkbest__k=6, score=0.6637168141592921, total=   0.0s\n",
            "[CV] logisticregression__C=10000.0, logisticregression__class_weight=balanced, selectkbest__k=6 \n",
            "[CV]  logisticregression__C=10000.0, logisticregression__class_weight=balanced, selectkbest__k=6, score=0.5803571428571429, total=   0.0s\n",
            "[CV] logisticregression__C=10000.0, logisticregression__class_weight=balanced, selectkbest__k=6 \n",
            "[CV]  logisticregression__C=10000.0, logisticregression__class_weight=balanced, selectkbest__k=6, score=0.6517857142857143, total=   0.0s\n",
            "[CV] logisticregression__C=10000.0, logisticregression__class_weight=balanced, selectkbest__k=6 \n",
            "[CV]  logisticregression__C=10000.0, logisticregression__class_weight=balanced, selectkbest__k=6, score=0.6875, total=   0.0s\n",
            "[CV] logisticregression__C=10000.0, logisticregression__class_weight=balanced, selectkbest__k=6 \n",
            "[CV]  logisticregression__C=10000.0, logisticregression__class_weight=balanced, selectkbest__k=6, score=0.6339285714285714, total=   0.0s\n",
            "[CV] logisticregression__C=10000.0, logisticregression__class_weight=balanced, selectkbest__k=7 \n",
            "[CV]  logisticregression__C=10000.0, logisticregression__class_weight=balanced, selectkbest__k=7, score=0.6902654867256637, total=   0.0s\n",
            "[CV] logisticregression__C=10000.0, logisticregression__class_weight=balanced, selectkbest__k=7 \n",
            "[CV]  logisticregression__C=10000.0, logisticregression__class_weight=balanced, selectkbest__k=7, score=0.5892857142857143, total=   0.0s\n",
            "[CV] logisticregression__C=10000.0, logisticregression__class_weight=balanced, selectkbest__k=7 \n",
            "[CV]  logisticregression__C=10000.0, logisticregression__class_weight=balanced, selectkbest__k=7, score=0.6607142857142857, total=   0.0s\n",
            "[CV] logisticregression__C=10000.0, logisticregression__class_weight=balanced, selectkbest__k=7 \n",
            "[CV]  logisticregression__C=10000.0, logisticregression__class_weight=balanced, selectkbest__k=7, score=0.6517857142857143, total=   0.0s\n",
            "[CV] logisticregression__C=10000.0, logisticregression__class_weight=balanced, selectkbest__k=7 \n",
            "[CV]  logisticregression__C=10000.0, logisticregression__class_weight=balanced, selectkbest__k=7, score=0.6517857142857143, total=   0.0s\n",
            "[CV] logisticregression__C=10000.0, logisticregression__class_weight=balanced, selectkbest__k=8 \n",
            "[CV]  logisticregression__C=10000.0, logisticregression__class_weight=balanced, selectkbest__k=8, score=0.6991150442477876, total=   0.0s\n",
            "[CV] logisticregression__C=10000.0, logisticregression__class_weight=balanced, selectkbest__k=8 \n",
            "[CV]  logisticregression__C=10000.0, logisticregression__class_weight=balanced, selectkbest__k=8, score=0.6696428571428571, total=   0.0s\n",
            "[CV] logisticregression__C=10000.0, logisticregression__class_weight=balanced, selectkbest__k=8 \n",
            "[CV]  logisticregression__C=10000.0, logisticregression__class_weight=balanced, selectkbest__k=8, score=0.6696428571428571, total=   0.0s\n",
            "[CV] logisticregression__C=10000.0, logisticregression__class_weight=balanced, selectkbest__k=8 \n",
            "[CV]  logisticregression__C=10000.0, logisticregression__class_weight=balanced, selectkbest__k=8, score=0.6785714285714286, total=   0.0s\n",
            "[CV] logisticregression__C=10000.0, logisticregression__class_weight=balanced, selectkbest__k=8 \n",
            "[CV]  logisticregression__C=10000.0, logisticregression__class_weight=balanced, selectkbest__k=8, score=0.7321428571428571, total=   0.0s\n",
            "[CV] logisticregression__C=10000.0, logisticregression__class_weight=balanced, selectkbest__k=9 \n",
            "[CV]  logisticregression__C=10000.0, logisticregression__class_weight=balanced, selectkbest__k=9, score=0.6991150442477876, total=   0.0s\n",
            "[CV] logisticregression__C=10000.0, logisticregression__class_weight=balanced, selectkbest__k=9 \n",
            "[CV]  logisticregression__C=10000.0, logisticregression__class_weight=balanced, selectkbest__k=9, score=0.6696428571428571, total=   0.0s\n",
            "[CV] logisticregression__C=10000.0, logisticregression__class_weight=balanced, selectkbest__k=9 \n",
            "[CV]  logisticregression__C=10000.0, logisticregression__class_weight=balanced, selectkbest__k=9, score=0.6696428571428571, total=   0.0s\n",
            "[CV] logisticregression__C=10000.0, logisticregression__class_weight=balanced, selectkbest__k=9 \n",
            "[CV]  logisticregression__C=10000.0, logisticregression__class_weight=balanced, selectkbest__k=9, score=0.6785714285714286, total=   0.0s\n",
            "[CV] logisticregression__C=10000.0, logisticregression__class_weight=balanced, selectkbest__k=9 \n",
            "[CV]  logisticregression__C=10000.0, logisticregression__class_weight=balanced, selectkbest__k=9, score=0.7321428571428571, total=   0.0s\n"
          ],
          "name": "stdout"
        },
        {
          "output_type": "stream",
          "text": [
            "[Parallel(n_jobs=1)]: Done 810 out of 810 | elapsed:   15.8s finished\n"
          ],
          "name": "stderr"
        },
        {
          "output_type": "execute_result",
          "data": {
            "text/plain": [
              "GridSearchCV(cv=5, error_score='raise-deprecating',\n",
              "       estimator=Pipeline(memory=None,\n",
              "     steps=[('robustscaler', RobustScaler(copy=True, quantile_range=(25.0, 75.0), with_centering=True,\n",
              "       with_scaling=True)), ('selectkbest', SelectKBest(k=10, score_func=<function f_classif at 0x7fce034f4268>)), ('logisticregression', LogisticRegression(C=1.0, class_weight=None, dual=False, fit_int...enalty='l2', random_state=None, solver='lbfgs',\n",
              "          tol=0.0001, verbose=0, warm_start=False))]),\n",
              "       fit_params=None, iid='warn', n_jobs=None,\n",
              "       param_grid={'selectkbest__k': [1, 2, 3, 4, 5, 6, 7, 8, 9], 'logisticregression__class_weight': [None, 'balanced'], 'logisticregression__C': [0.0001, 0.001, 0.01, 0.1, 1.0, 10.0, 100.0, 1000.0, 10000.0]},\n",
              "       pre_dispatch='2*n_jobs', refit=True, return_train_score=True,\n",
              "       scoring='accuracy', verbose=5)"
            ]
          },
          "metadata": {
            "tags": []
          },
          "execution_count": 143
        }
      ]
    },
    {
      "metadata": {
        "id": "1TKzMVEpYPuX",
        "colab_type": "code",
        "colab": {
          "base_uri": "https://localhost:8080/",
          "height": 70
        },
        "outputId": "74277d71-1af2-477f-8bf9-74d103ce75d9"
      },
      "cell_type": "code",
      "source": [
        "grid_search_acc.best_params_"
      ],
      "execution_count": 144,
      "outputs": [
        {
          "output_type": "execute_result",
          "data": {
            "text/plain": [
              "{'logisticregression__C': 100.0,\n",
              " 'logisticregression__class_weight': None,\n",
              " 'selectkbest__k': 8}"
            ]
          },
          "metadata": {
            "tags": []
          },
          "execution_count": 144
        }
      ]
    },
    {
      "metadata": {
        "id": "EFEjMgo1Ybhu",
        "colab_type": "code",
        "colab": {
          "base_uri": "https://localhost:8080/",
          "height": 598
        },
        "outputId": "4daa97d0-dc52-4bd2-d13f-3eba57aa28e2"
      },
      "cell_type": "code",
      "source": [
        "grid_search_acc.cv_results_['mean_test_score']"
      ],
      "execution_count": 147,
      "outputs": [
        {
          "output_type": "execute_result",
          "data": {
            "text/plain": [
              "array([0.76827094, 0.76827094, 0.76827094, 0.76827094, 0.76827094,\n",
              "       0.76827094, 0.76827094, 0.76827094, 0.76827094, 0.64171123,\n",
              "       0.63279857, 0.68092692, 0.69875223, 0.70944742, 0.70944742,\n",
              "       0.70944742, 0.71122995, 0.71122995, 0.76827094, 0.76827094,\n",
              "       0.76827094, 0.76827094, 0.77183601, 0.77183601, 0.77183601,\n",
              "       0.77183601, 0.77183601, 0.64171123, 0.63279857, 0.67557932,\n",
              "       0.68805704, 0.71122995, 0.70944742, 0.71836007, 0.7254902 ,\n",
              "       0.7254902 , 0.76827094, 0.76827094, 0.77361854, 0.77361854,\n",
              "       0.77361854, 0.77361854, 0.77361854, 0.77361854, 0.77361854,\n",
              "       0.64171123, 0.63279857, 0.63814617, 0.64884135, 0.64171123,\n",
              "       0.64171123, 0.63636364, 0.64171123, 0.64171123, 0.76648841,\n",
              "       0.76827094, 0.7771836 , 0.7771836 , 0.7771836 , 0.7771836 ,\n",
              "       0.78253119, 0.78253119, 0.78253119, 0.64171123, 0.63636364,\n",
              "       0.62745098, 0.62566845, 0.62388592, 0.62923351, 0.64171123,\n",
              "       0.64705882, 0.64705882, 0.76648841, 0.76648841, 0.77361854,\n",
              "       0.77361854, 0.77361854, 0.77540107, 0.7771836 , 0.78253119,\n",
              "       0.78253119, 0.64171123, 0.63814617, 0.63101604, 0.62923351,\n",
              "       0.62566845, 0.64349376, 0.65062389, 0.65597148, 0.65597148,\n",
              "       0.76648841, 0.76648841, 0.77005348, 0.77005348, 0.77361854,\n",
              "       0.76648841, 0.78074866, 0.78966132, 0.78966132, 0.64171123,\n",
              "       0.63814617, 0.62745098, 0.62745098, 0.62745098, 0.64349376,\n",
              "       0.65062389, 0.67557932, 0.67557932, 0.76648841, 0.76648841,\n",
              "       0.77005348, 0.77005348, 0.77361854, 0.76470588, 0.78253119,\n",
              "       0.79500891, 0.79500891, 0.64171123, 0.63814617, 0.62745098,\n",
              "       0.62745098, 0.62745098, 0.64349376, 0.64884135, 0.6916221 ,\n",
              "       0.6916221 , 0.76648841, 0.76648841, 0.76827094, 0.76827094,\n",
              "       0.77361854, 0.76470588, 0.78253119, 0.79500891, 0.79500891,\n",
              "       0.64171123, 0.63814617, 0.62745098, 0.62745098, 0.62745098,\n",
              "       0.64349376, 0.64884135, 0.68983957, 0.68983957, 0.76648841,\n",
              "       0.76648841, 0.76827094, 0.76827094, 0.77361854, 0.76470588,\n",
              "       0.78253119, 0.79500891, 0.79500891, 0.64171123, 0.63814617,\n",
              "       0.62745098, 0.62745098, 0.62745098, 0.64349376, 0.64884135,\n",
              "       0.68983957, 0.68983957])"
            ]
          },
          "metadata": {
            "tags": []
          },
          "execution_count": 147
        }
      ]
    },
    {
      "metadata": {
        "id": "0-lXjFQrYgZQ",
        "colab_type": "code",
        "colab": {
          "base_uri": "https://localhost:8080/",
          "height": 34
        },
        "outputId": "d5e2fd13-e6dc-4952-ad68-e1b04647c39c"
      },
      "cell_type": "code",
      "source": [
        "# this is better than 78.07 we got before feature engineering\n",
        "max(grid_search_acc.cv_results_['mean_test_score'])"
      ],
      "execution_count": 148,
      "outputs": [
        {
          "output_type": "execute_result",
          "data": {
            "text/plain": [
              "0.7950089126559715"
            ]
          },
          "metadata": {
            "tags": []
          },
          "execution_count": 148
        }
      ]
    },
    {
      "metadata": {
        "id": "rXdoMSGDYrFZ",
        "colab_type": "code",
        "colab": {}
      },
      "cell_type": "code",
      "source": [
        "best_acc_estimator = grid_search_acc.best_estimator_"
      ],
      "execution_count": 0,
      "outputs": []
    },
    {
      "metadata": {
        "id": "NQTTPvZ1ZGRs",
        "colab_type": "code",
        "colab": {
          "base_uri": "https://localhost:8080/",
          "height": 107
        },
        "outputId": "0d843730-cfd6-4300-82e0-2a1ff89a795c"
      },
      "cell_type": "code",
      "source": [
        "best_acc_estimator"
      ],
      "execution_count": 166,
      "outputs": [
        {
          "output_type": "execute_result",
          "data": {
            "text/plain": [
              "Pipeline(memory=None,\n",
              "     steps=[('robustscaler', RobustScaler(copy=True, quantile_range=(25.0, 75.0), with_centering=True,\n",
              "       with_scaling=True)), ('selectkbest', SelectKBest(k=8, score_func=<function f_classif at 0x7fce034f4268>)), ('logisticregression', LogisticRegression(C=100.0, class_weight=None, dual=False, fit_in...enalty='l2', random_state=None, solver='lbfgs',\n",
              "          tol=0.0001, verbose=0, warm_start=False))])"
            ]
          },
          "metadata": {
            "tags": []
          },
          "execution_count": 166
        }
      ]
    },
    {
      "metadata": {
        "id": "ZkJEE8AnZq6T",
        "colab_type": "code",
        "colab": {
          "base_uri": "https://localhost:8080/",
          "height": 223
        },
        "outputId": "918b42b1-04ab-4291-a165-af682a26db25"
      },
      "cell_type": "code",
      "source": [
        "df.head()"
      ],
      "execution_count": 167,
      "outputs": [
        {
          "output_type": "execute_result",
          "data": {
            "text/html": [
              "<div>\n",
              "<style scoped>\n",
              "    .dataframe tbody tr th:only-of-type {\n",
              "        vertical-align: middle;\n",
              "    }\n",
              "\n",
              "    .dataframe tbody tr th {\n",
              "        vertical-align: top;\n",
              "    }\n",
              "\n",
              "    .dataframe thead th {\n",
              "        text-align: right;\n",
              "    }\n",
              "</style>\n",
              "<table border=\"1\" class=\"dataframe\">\n",
              "  <thead>\n",
              "    <tr style=\"text-align: right;\">\n",
              "      <th></th>\n",
              "      <th>months_since_last_donation</th>\n",
              "      <th>number_of_donations</th>\n",
              "      <th>total_volume_donated</th>\n",
              "      <th>months_since_first_donation</th>\n",
              "      <th>made_donation_in_march_2007</th>\n",
              "      <th>number_of_donations_over9</th>\n",
              "      <th>volume_per_donation</th>\n",
              "      <th>total_volume_donated_squared</th>\n",
              "      <th>months_since_first_donation_sqrt</th>\n",
              "      <th>months_since_last_donation_sqrt</th>\n",
              "    </tr>\n",
              "  </thead>\n",
              "  <tbody>\n",
              "    <tr>\n",
              "      <th>0</th>\n",
              "      <td>2</td>\n",
              "      <td>50</td>\n",
              "      <td>12500</td>\n",
              "      <td>98</td>\n",
              "      <td>1</td>\n",
              "      <td>True</td>\n",
              "      <td>250.0</td>\n",
              "      <td>156250000</td>\n",
              "      <td>9.899495</td>\n",
              "      <td>1.414214</td>\n",
              "    </tr>\n",
              "    <tr>\n",
              "      <th>1</th>\n",
              "      <td>0</td>\n",
              "      <td>13</td>\n",
              "      <td>3250</td>\n",
              "      <td>28</td>\n",
              "      <td>1</td>\n",
              "      <td>True</td>\n",
              "      <td>250.0</td>\n",
              "      <td>10562500</td>\n",
              "      <td>5.291503</td>\n",
              "      <td>0.000000</td>\n",
              "    </tr>\n",
              "    <tr>\n",
              "      <th>2</th>\n",
              "      <td>1</td>\n",
              "      <td>16</td>\n",
              "      <td>4000</td>\n",
              "      <td>35</td>\n",
              "      <td>1</td>\n",
              "      <td>True</td>\n",
              "      <td>250.0</td>\n",
              "      <td>16000000</td>\n",
              "      <td>5.916080</td>\n",
              "      <td>1.000000</td>\n",
              "    </tr>\n",
              "    <tr>\n",
              "      <th>3</th>\n",
              "      <td>2</td>\n",
              "      <td>20</td>\n",
              "      <td>5000</td>\n",
              "      <td>45</td>\n",
              "      <td>1</td>\n",
              "      <td>True</td>\n",
              "      <td>250.0</td>\n",
              "      <td>25000000</td>\n",
              "      <td>6.708204</td>\n",
              "      <td>1.414214</td>\n",
              "    </tr>\n",
              "    <tr>\n",
              "      <th>4</th>\n",
              "      <td>1</td>\n",
              "      <td>24</td>\n",
              "      <td>6000</td>\n",
              "      <td>77</td>\n",
              "      <td>0</td>\n",
              "      <td>True</td>\n",
              "      <td>250.0</td>\n",
              "      <td>36000000</td>\n",
              "      <td>8.774964</td>\n",
              "      <td>1.000000</td>\n",
              "    </tr>\n",
              "  </tbody>\n",
              "</table>\n",
              "</div>"
            ],
            "text/plain": [
              "   months_since_last_donation  number_of_donations  total_volume_donated  \\\n",
              "0                           2                   50                 12500   \n",
              "1                           0                   13                  3250   \n",
              "2                           1                   16                  4000   \n",
              "3                           2                   20                  5000   \n",
              "4                           1                   24                  6000   \n",
              "\n",
              "   months_since_first_donation  made_donation_in_march_2007  \\\n",
              "0                           98                            1   \n",
              "1                           28                            1   \n",
              "2                           35                            1   \n",
              "3                           45                            1   \n",
              "4                           77                            0   \n",
              "\n",
              "   number_of_donations_over9  volume_per_donation  \\\n",
              "0                       True                250.0   \n",
              "1                       True                250.0   \n",
              "2                       True                250.0   \n",
              "3                       True                250.0   \n",
              "4                       True                250.0   \n",
              "\n",
              "   total_volume_donated_squared  months_since_first_donation_sqrt  \\\n",
              "0                     156250000                          9.899495   \n",
              "1                      10562500                          5.291503   \n",
              "2                      16000000                          5.916080   \n",
              "3                      25000000                          6.708204   \n",
              "4                      36000000                          8.774964   \n",
              "\n",
              "   months_since_last_donation_sqrt  \n",
              "0                         1.414214  \n",
              "1                         0.000000  \n",
              "2                         1.000000  \n",
              "3                         1.414214  \n",
              "4                         1.000000  "
            ]
          },
          "metadata": {
            "tags": []
          },
          "execution_count": 167
        }
      ]
    },
    {
      "metadata": {
        "id": "qHxg91GAaky6",
        "colab_type": "code",
        "colab": {}
      },
      "cell_type": "code",
      "source": [
        "df['months_since_first_minus_months_since_last'] = df.months_since_first_donation - df.months_since_last_donation\n",
        "df['months_between_donations'] = df.number_of_donations / df.months_since_first_donation\n"
      ],
      "execution_count": 0,
      "outputs": []
    },
    {
      "metadata": {
        "id": "BZVc4YtVcJ1s",
        "colab_type": "code",
        "colab": {}
      },
      "cell_type": "code",
      "source": [
        "df['expected_months_till_donation'] = df.months_since_last_donation - df.months_between_donations\n"
      ],
      "execution_count": 0,
      "outputs": []
    },
    {
      "metadata": {
        "id": "Va6qnfVJcKY6",
        "colab_type": "code",
        "colab": {}
      },
      "cell_type": "code",
      "source": [
        "df['expected_donation_next_month'] = (df.expected_months_till_donation < 1)"
      ],
      "execution_count": 0,
      "outputs": []
    },
    {
      "metadata": {
        "id": "PUPqfch8crdS",
        "colab_type": "code",
        "colab": {
          "base_uri": "https://localhost:8080/",
          "height": 141
        },
        "outputId": "254c3601-d8f3-4d68-e7fb-81cef513dc9d"
      },
      "cell_type": "code",
      "source": [
        "df.pivot_table(index='expected_donation_next_month', values='made_donation_in_march_2007')"
      ],
      "execution_count": 174,
      "outputs": [
        {
          "output_type": "execute_result",
          "data": {
            "text/html": [
              "<div>\n",
              "<style scoped>\n",
              "    .dataframe tbody tr th:only-of-type {\n",
              "        vertical-align: middle;\n",
              "    }\n",
              "\n",
              "    .dataframe tbody tr th {\n",
              "        vertical-align: top;\n",
              "    }\n",
              "\n",
              "    .dataframe thead th {\n",
              "        text-align: right;\n",
              "    }\n",
              "</style>\n",
              "<table border=\"1\" class=\"dataframe\">\n",
              "  <thead>\n",
              "    <tr style=\"text-align: right;\">\n",
              "      <th></th>\n",
              "      <th>made_donation_in_march_2007</th>\n",
              "    </tr>\n",
              "    <tr>\n",
              "      <th>expected_donation_next_month</th>\n",
              "      <th></th>\n",
              "    </tr>\n",
              "  </thead>\n",
              "  <tbody>\n",
              "    <tr>\n",
              "      <th>False</th>\n",
              "      <td>0.237057</td>\n",
              "    </tr>\n",
              "    <tr>\n",
              "      <th>True</th>\n",
              "      <td>0.285714</td>\n",
              "    </tr>\n",
              "  </tbody>\n",
              "</table>\n",
              "</div>"
            ],
            "text/plain": [
              "                              made_donation_in_march_2007\n",
              "expected_donation_next_month                             \n",
              "False                                            0.237057\n",
              "True                                             0.285714"
            ]
          },
          "metadata": {
            "tags": []
          },
          "execution_count": 174
        }
      ]
    },
    {
      "metadata": {
        "id": "Y0daiJ2Kc9Zc",
        "colab_type": "code",
        "colab": {}
      },
      "cell_type": "code",
      "source": [
        "X = df.drop(columns='made_donation_in_march_2007')\n",
        "y = df.made_donation_in_march_2007\n",
        "\n",
        "X_train, X_test, y_train, y_test = train_test_split(X, y, test_size=.25, shuffle=True, random_state=42)"
      ],
      "execution_count": 0,
      "outputs": []
    },
    {
      "metadata": {
        "id": "x6lqy7gndKaN",
        "colab_type": "code",
        "colab": {
          "base_uri": "https://localhost:8080/",
          "height": 34
        },
        "outputId": "7d86ffee-b9e1-4798-f040-f3bcddce8ea2"
      },
      "cell_type": "code",
      "source": [
        "# without any pipeline it gets worse from 0.754, then stays at about .7433\n",
        "accuracy_score(y_test, LogisticRegression(solver='lbfgs', max_iter=1000).fit(X_train, y_train).predict(X_test))"
      ],
      "execution_count": 177,
      "outputs": [
        {
          "output_type": "execute_result",
          "data": {
            "text/plain": [
              "0.7433155080213903"
            ]
          },
          "metadata": {
            "tags": []
          },
          "execution_count": 177
        }
      ]
    },
    {
      "metadata": {
        "id": "0AgRwUALdKyi",
        "colab_type": "code",
        "colab": {}
      },
      "cell_type": "code",
      "source": [
        "param_grid = {\n",
        "    'selectkbest__k': [4, 5, 6, 7, 8, 9, 10, 11, 12],\n",
        "    'logisticregression__class_weight': [None, 'balanced'],\n",
        "    'logisticregression__C': [.0001, .001, .01, .1, 1.0, 10.0, 100.00, 1000.0, 10000.0]\n",
        "}\n",
        "\n",
        "grid_search_acc = GridSearchCV(pipe, param_grid, scoring='accuracy', cv=5, verbose=5, return_train_score=True)\n",
        "grid_search_acc.fit(X_train, y_train)\n"
      ],
      "execution_count": 0,
      "outputs": []
    },
    {
      "metadata": {
        "id": "r5Q1AVzPdoVz",
        "colab_type": "code",
        "colab": {
          "base_uri": "https://localhost:8080/",
          "height": 34
        },
        "outputId": "19c4d338-d5ea-4d3e-9fa2-bee35fdea732"
      },
      "cell_type": "code",
      "source": [
        "max(grid_search_acc.cv_results_['mean_test_score']) #improved from .795"
      ],
      "execution_count": 180,
      "outputs": [
        {
          "output_type": "execute_result",
          "data": {
            "text/plain": [
              "0.8003565062388592"
            ]
          },
          "metadata": {
            "tags": []
          },
          "execution_count": 180
        }
      ]
    },
    {
      "metadata": {
        "id": "3OoNsZ4Sd7Oo",
        "colab_type": "code",
        "colab": {
          "base_uri": "https://localhost:8080/",
          "height": 70
        },
        "outputId": "3061e54f-e5b8-4975-abee-58b49179f0d6"
      },
      "cell_type": "code",
      "source": [
        "grid_search_acc.best_params_"
      ],
      "execution_count": 181,
      "outputs": [
        {
          "output_type": "execute_result",
          "data": {
            "text/plain": [
              "{'logisticregression__C': 10.0,\n",
              " 'logisticregression__class_weight': None,\n",
              " 'selectkbest__k': 12}"
            ]
          },
          "metadata": {
            "tags": []
          },
          "execution_count": 181
        }
      ]
    },
    {
      "metadata": {
        "id": "nxxvu2YBeIGk",
        "colab_type": "code",
        "colab": {
          "base_uri": "https://localhost:8080/",
          "height": 34
        },
        "outputId": "2be39c92-502e-44e4-aec6-21fb128abb85"
      },
      "cell_type": "code",
      "source": [
        "final_best_estimator = grid_search_acc.best_estimator_\n",
        "accuracy_score(y_test, final_best_estimator.predict(X_test))"
      ],
      "execution_count": 182,
      "outputs": [
        {
          "output_type": "execute_result",
          "data": {
            "text/plain": [
              "0.7807486631016043"
            ]
          },
          "metadata": {
            "tags": []
          },
          "execution_count": 182
        }
      ]
    },
    {
      "metadata": {
        "id": "gF57jRireXRo",
        "colab_type": "code",
        "colab": {}
      },
      "cell_type": "code",
      "source": [
        "# from our baseline of .7504 which we could most likely improve with some more feature engineering."
      ],
      "execution_count": 0,
      "outputs": []
    },
    {
      "metadata": {
        "id": "s8aMnTwde2es",
        "colab_type": "code",
        "colab": {}
      },
      "cell_type": "code",
      "source": [
        ""
      ],
      "execution_count": 0,
      "outputs": []
    },
    {
      "metadata": {
        "id": "lSncP50ie6Hs",
        "colab_type": "code",
        "colab": {}
      },
      "cell_type": "code",
      "source": [
        ""
      ],
      "execution_count": 0,
      "outputs": []
    }
  ]
}