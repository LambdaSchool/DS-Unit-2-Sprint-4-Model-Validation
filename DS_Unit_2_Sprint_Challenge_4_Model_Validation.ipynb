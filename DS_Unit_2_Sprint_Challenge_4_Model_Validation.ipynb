{
  "nbformat": 4,
  "nbformat_minor": 0,
  "metadata": {
    "colab": {
      "name": "DS_Unit_2_Sprint_Challenge_4_Model_Validation.ipynb",
      "version": "0.3.2",
      "provenance": [],
      "collapsed_sections": [],
      "include_colab_link": true
    },
    "kernelspec": {
      "display_name": "Python 3",
      "language": "python",
      "name": "python3"
    }
  },
  "cells": [
    {
      "cell_type": "markdown",
      "metadata": {
        "id": "view-in-github",
        "colab_type": "text"
      },
      "source": [
        "<a href=\"https://colab.research.google.com/github/ssingh1187/DS-Unit-2-Sprint-4-Model-Validation/blob/master/DS_Unit_2_Sprint_Challenge_4_Model_Validation.ipynb\" target=\"_parent\"><img src=\"https://colab.research.google.com/assets/colab-badge.svg\" alt=\"Open In Colab\"/></a>"
      ]
    },
    {
      "metadata": {
        "colab_type": "text",
        "id": "PC9RfopIWrc9"
      },
      "cell_type": "markdown",
      "source": [
        " # Data Science Unit 2 Sprint Challenge 4 — Model Validation"
      ]
    },
    {
      "metadata": {
        "colab_type": "text",
        "id": "UV7ArLFQN84W"
      },
      "cell_type": "markdown",
      "source": [
        "Follow the instructions for each numbered part to earn a score of 2. See the bottom of the notebook for a list of ways you can earn a score of 3."
      ]
    },
    {
      "metadata": {
        "colab_type": "text",
        "id": "bAZcbTtiUlkI"
      },
      "cell_type": "markdown",
      "source": [
        "## Predicting Blood Donations\n",
        "\n",
        "Our dataset is from a mobile blood donation vehicle in Taiwan. The Blood Transfusion Service Center drives to different universities and collects blood as part of a blood drive.\n",
        "\n",
        "The goal is to predict the last column, whether the donor made a donation in March 2007, using information about each donor's history. We'll measure success using recall score as the model evaluation metric.\n",
        "\n",
        "Good data-driven systems for tracking and predicting donations and supply needs can improve the entire supply chain, making sure that more patients get the blood transfusions they need.\n",
        "\n",
        "#### Run this cell to load the data:"
      ]
    },
    {
      "metadata": {
        "colab_type": "code",
        "id": "gvV9VORbxyvu",
        "colab": {}
      },
      "cell_type": "code",
      "source": [
        "import pandas as pd\n",
        "\n",
        "df = pd.read_csv('https://archive.ics.uci.edu/ml/machine-learning-databases/blood-transfusion/transfusion.data')\n",
        "\n",
        "df = df.rename(columns={\n",
        "    'Recency (months)': 'months_since_last_donation', \n",
        "    'Frequency (times)': 'number_of_donations', \n",
        "    'Monetary (c.c. blood)': 'total_volume_donated', \n",
        "    'Time (months)': 'months_since_first_donation', \n",
        "    'whether he/she donated blood in March 2007': 'made_donation_in_march_2007'\n",
        "})"
      ],
      "execution_count": 0,
      "outputs": []
    },
    {
      "metadata": {
        "id": "pbi4e_IEvQj4",
        "colab_type": "code",
        "colab": {
          "base_uri": "https://localhost:8080/",
          "height": 204
        },
        "outputId": "fef94aed-22b0-4052-ebc9-3673dc86cde7"
      },
      "cell_type": "code",
      "source": [
        "df.head()"
      ],
      "execution_count": 3,
      "outputs": [
        {
          "output_type": "execute_result",
          "data": {
            "text/html": [
              "<div>\n",
              "<style scoped>\n",
              "    .dataframe tbody tr th:only-of-type {\n",
              "        vertical-align: middle;\n",
              "    }\n",
              "\n",
              "    .dataframe tbody tr th {\n",
              "        vertical-align: top;\n",
              "    }\n",
              "\n",
              "    .dataframe thead th {\n",
              "        text-align: right;\n",
              "    }\n",
              "</style>\n",
              "<table border=\"1\" class=\"dataframe\">\n",
              "  <thead>\n",
              "    <tr style=\"text-align: right;\">\n",
              "      <th></th>\n",
              "      <th>months_since_last_donation</th>\n",
              "      <th>number_of_donations</th>\n",
              "      <th>total_volume_donated</th>\n",
              "      <th>months_since_first_donation</th>\n",
              "      <th>made_donation_in_march_2007</th>\n",
              "    </tr>\n",
              "  </thead>\n",
              "  <tbody>\n",
              "    <tr>\n",
              "      <th>0</th>\n",
              "      <td>2</td>\n",
              "      <td>50</td>\n",
              "      <td>12500</td>\n",
              "      <td>98</td>\n",
              "      <td>1</td>\n",
              "    </tr>\n",
              "    <tr>\n",
              "      <th>1</th>\n",
              "      <td>0</td>\n",
              "      <td>13</td>\n",
              "      <td>3250</td>\n",
              "      <td>28</td>\n",
              "      <td>1</td>\n",
              "    </tr>\n",
              "    <tr>\n",
              "      <th>2</th>\n",
              "      <td>1</td>\n",
              "      <td>16</td>\n",
              "      <td>4000</td>\n",
              "      <td>35</td>\n",
              "      <td>1</td>\n",
              "    </tr>\n",
              "    <tr>\n",
              "      <th>3</th>\n",
              "      <td>2</td>\n",
              "      <td>20</td>\n",
              "      <td>5000</td>\n",
              "      <td>45</td>\n",
              "      <td>1</td>\n",
              "    </tr>\n",
              "    <tr>\n",
              "      <th>4</th>\n",
              "      <td>1</td>\n",
              "      <td>24</td>\n",
              "      <td>6000</td>\n",
              "      <td>77</td>\n",
              "      <td>0</td>\n",
              "    </tr>\n",
              "  </tbody>\n",
              "</table>\n",
              "</div>"
            ],
            "text/plain": [
              "   months_since_last_donation  number_of_donations  total_volume_donated  \\\n",
              "0                           2                   50                 12500   \n",
              "1                           0                   13                  3250   \n",
              "2                           1                   16                  4000   \n",
              "3                           2                   20                  5000   \n",
              "4                           1                   24                  6000   \n",
              "\n",
              "   months_since_first_donation  made_donation_in_march_2007  \n",
              "0                           98                            1  \n",
              "1                           28                            1  \n",
              "2                           35                            1  \n",
              "3                           45                            1  \n",
              "4                           77                            0  "
            ]
          },
          "metadata": {
            "tags": []
          },
          "execution_count": 3
        }
      ]
    },
    {
      "metadata": {
        "colab_type": "text",
        "id": "IxKfgx4ycb3c"
      },
      "cell_type": "markdown",
      "source": [
        "## Part 1.1 — Begin with baselines\n",
        "\n",
        "What **accuracy score** would you get here with a **\"majority class baseline\"?** \n",
        " \n",
        "(You don't need to split the data into train and test sets yet. You can answer this question either with a scikit-learn function or with a pandas function.)"
      ]
    },
    {
      "metadata": {
        "colab_type": "code",
        "id": "3oo31Remcq-x",
        "colab": {
          "base_uri": "https://localhost:8080/",
          "height": 119
        },
        "outputId": "418ea0f7-1347-4fe4-d0f6-86117a9292d1"
      },
      "cell_type": "code",
      "source": [
        "df.isnull().sum()"
      ],
      "execution_count": 4,
      "outputs": [
        {
          "output_type": "execute_result",
          "data": {
            "text/plain": [
              "months_since_last_donation     0\n",
              "number_of_donations            0\n",
              "total_volume_donated           0\n",
              "months_since_first_donation    0\n",
              "made_donation_in_march_2007    0\n",
              "dtype: int64"
            ]
          },
          "metadata": {
            "tags": []
          },
          "execution_count": 4
        }
      ]
    },
    {
      "metadata": {
        "id": "39_ucybdwnwF",
        "colab_type": "code",
        "colab": {
          "base_uri": "https://localhost:8080/",
          "height": 85
        },
        "outputId": "5ec18916-9bd8-4640-a47c-653200bff7a6"
      },
      "cell_type": "code",
      "source": [
        "df.columns"
      ],
      "execution_count": 6,
      "outputs": [
        {
          "output_type": "execute_result",
          "data": {
            "text/plain": [
              "Index(['months_since_last_donation', 'number_of_donations',\n",
              "       'total_volume_donated', 'months_since_first_donation',\n",
              "       'made_donation_in_march_2007'],\n",
              "      dtype='object')"
            ]
          },
          "metadata": {
            "tags": []
          },
          "execution_count": 6
        }
      ]
    },
    {
      "metadata": {
        "id": "B7yyk0Za0rj6",
        "colab_type": "code",
        "colab": {
          "base_uri": "https://localhost:8080/",
          "height": 80
        },
        "outputId": "fb9dc7af-36c5-4194-eb51-8e10b09f4825"
      },
      "cell_type": "code",
      "source": [
        "df.head(1)"
      ],
      "execution_count": 7,
      "outputs": [
        {
          "output_type": "execute_result",
          "data": {
            "text/html": [
              "<div>\n",
              "<style scoped>\n",
              "    .dataframe tbody tr th:only-of-type {\n",
              "        vertical-align: middle;\n",
              "    }\n",
              "\n",
              "    .dataframe tbody tr th {\n",
              "        vertical-align: top;\n",
              "    }\n",
              "\n",
              "    .dataframe thead th {\n",
              "        text-align: right;\n",
              "    }\n",
              "</style>\n",
              "<table border=\"1\" class=\"dataframe\">\n",
              "  <thead>\n",
              "    <tr style=\"text-align: right;\">\n",
              "      <th></th>\n",
              "      <th>months_since_last_donation</th>\n",
              "      <th>number_of_donations</th>\n",
              "      <th>total_volume_donated</th>\n",
              "      <th>months_since_first_donation</th>\n",
              "      <th>made_donation_in_march_2007</th>\n",
              "    </tr>\n",
              "  </thead>\n",
              "  <tbody>\n",
              "    <tr>\n",
              "      <th>0</th>\n",
              "      <td>2</td>\n",
              "      <td>50</td>\n",
              "      <td>12500</td>\n",
              "      <td>98</td>\n",
              "      <td>1</td>\n",
              "    </tr>\n",
              "  </tbody>\n",
              "</table>\n",
              "</div>"
            ],
            "text/plain": [
              "   months_since_last_donation  number_of_donations  total_volume_donated  \\\n",
              "0                           2                   50                 12500   \n",
              "\n",
              "   months_since_first_donation  made_donation_in_march_2007  \n",
              "0                           98                            1  "
            ]
          },
          "metadata": {
            "tags": []
          },
          "execution_count": 7
        }
      ]
    },
    {
      "metadata": {
        "id": "LsSkyzWq0whM",
        "colab_type": "code",
        "colab": {
          "base_uri": "https://localhost:8080/",
          "height": 68
        },
        "outputId": "ac3f5fae-7078-4867-e51a-f1db5d5415b3"
      },
      "cell_type": "code",
      "source": [
        "df.made_donation_in_march_2007.value_counts()"
      ],
      "execution_count": 8,
      "outputs": [
        {
          "output_type": "execute_result",
          "data": {
            "text/plain": [
              "0    570\n",
              "1    178\n",
              "Name: made_donation_in_march_2007, dtype: int64"
            ]
          },
          "metadata": {
            "tags": []
          },
          "execution_count": 8
        }
      ]
    },
    {
      "metadata": {
        "id": "3uBJjC_m1UoR",
        "colab_type": "code",
        "colab": {
          "base_uri": "https://localhost:8080/",
          "height": 68
        },
        "outputId": "3b115c08-3106-4f87-f9ee-c141b0b9943b"
      },
      "cell_type": "code",
      "source": [
        "df.made_donation_in_march_2007.value_counts(normalize=True)"
      ],
      "execution_count": 9,
      "outputs": [
        {
          "output_type": "execute_result",
          "data": {
            "text/plain": [
              "0    0.762032\n",
              "1    0.237968\n",
              "Name: made_donation_in_march_2007, dtype: float64"
            ]
          },
          "metadata": {
            "tags": []
          },
          "execution_count": 9
        }
      ]
    },
    {
      "metadata": {
        "id": "33E0rsZY2Lj2",
        "colab_type": "code",
        "colab": {}
      },
      "cell_type": "code",
      "source": [
        "# To get accuracy score with a majority class baseline\n",
        "\n",
        "y = df['made_donation_in_march_2007']\n",
        "X = df.drop(columns = 'made_donation_in_march_2007')\n",
        "\n",
        "majority_class = [0]\n",
        "y_pred = majority_class * len(y)"
      ],
      "execution_count": 0,
      "outputs": []
    },
    {
      "metadata": {
        "id": "dr5IVZE5508t",
        "colab_type": "code",
        "colab": {
          "base_uri": "https://localhost:8080/",
          "height": 34
        },
        "outputId": "19afde6f-a5c2-45ad-f5a7-6b1b1037e256"
      },
      "cell_type": "code",
      "source": [
        "from sklearn.metrics import accuracy_score\n",
        "accuracy_score(y, y_pred)"
      ],
      "execution_count": 28,
      "outputs": [
        {
          "output_type": "execute_result",
          "data": {
            "text/plain": [
              "0.7620320855614974"
            ]
          },
          "metadata": {
            "tags": []
          },
          "execution_count": 28
        }
      ]
    },
    {
      "metadata": {
        "colab_type": "text",
        "id": "_KdxE1TrcriI"
      },
      "cell_type": "markdown",
      "source": [
        "What **recall score** would you get here with a **majority class baseline?**\n",
        "\n",
        "(You can answer this question either with a scikit-learn function or with no code, just your understanding of recall.)"
      ]
    },
    {
      "metadata": {
        "colab_type": "code",
        "id": "ILS0fN0Cctyc",
        "colab": {
          "base_uri": "https://localhost:8080/",
          "height": 34
        },
        "outputId": "34545cad-f335-41d5-c32f-55853fb25901"
      },
      "cell_type": "code",
      "source": [
        "from sklearn.metrics import recall_score\n",
        "recall_score(y, y_pred)\n",
        "\n",
        "# recall score is 0, which is expected since, recall  = true positive/actual positive,\n",
        "# and majority class is 0 for baseline model"
      ],
      "execution_count": 29,
      "outputs": [
        {
          "output_type": "execute_result",
          "data": {
            "text/plain": [
              "0.0"
            ]
          },
          "metadata": {
            "tags": []
          },
          "execution_count": 29
        }
      ]
    },
    {
      "metadata": {
        "colab_type": "text",
        "id": "QqYNDtwKYhji"
      },
      "cell_type": "markdown",
      "source": [
        "## Part 1.2 — Split data\n",
        "\n",
        "In this Sprint Challenge, you will use \"Cross-Validation with Independent Test Set\" for your model evaluation protocol.\n",
        "\n",
        "First, **split the data into `X_train, X_test, y_train, y_test`**, with random shuffle. (You can include 75% of the data in the train set, and hold out 25% for the test set.)\n"
      ]
    },
    {
      "metadata": {
        "colab_type": "code",
        "id": "mPKf86yDYf0t",
        "colab": {
          "base_uri": "https://localhost:8080/",
          "height": 34
        },
        "outputId": "f0a817fa-49a3-43d1-f95d-fcfc3cfb46a2"
      },
      "cell_type": "code",
      "source": [
        "from sklearn.model_selection import train_test_split\n",
        "\n",
        "X = df.drop(columns='made_donation_in_march_2007')\n",
        "y = df['made_donation_in_march_2007']\n",
        "  \n",
        "X_train, X_test, y_train, y_test = train_test_split(X, y, test_size=.25, random_state=42)\n",
        "X_train.shape, X_test.shape, y_train.shape, y_test.shape"
      ],
      "execution_count": 34,
      "outputs": [
        {
          "output_type": "execute_result",
          "data": {
            "text/plain": [
              "((561, 4), (187, 4), (561,), (187,))"
            ]
          },
          "metadata": {
            "tags": []
          },
          "execution_count": 34
        }
      ]
    },
    {
      "metadata": {
        "colab_type": "text",
        "id": "E_ATNJdqTCuZ"
      },
      "cell_type": "markdown",
      "source": [
        "## Part 2.1 — Make a pipeline\n",
        "\n",
        "Make a **pipeline** which includes:\n",
        "- Preprocessing with any scikit-learn [**Scaler**](https://scikit-learn.org/stable/modules/classes.html#module-sklearn.preprocessing)\n",
        "- Feature selection with **[`SelectKBest`](https://scikit-learn.org/stable/modules/generated/sklearn.feature_selection.SelectKBest.html)([`f_classif`](https://scikit-learn.org/stable/modules/generated/sklearn.feature_selection.f_classif.html))**\n",
        "- Classification with [**`LogisticRegression`**](https://scikit-learn.org/stable/modules/generated/sklearn.linear_model.LogisticRegression.html)"
      ]
    },
    {
      "metadata": {
        "colab_type": "code",
        "id": "8DRrVU5n5_Jw",
        "colab": {}
      },
      "cell_type": "code",
      "source": [
        "from sklearn.linear_model import LogisticRegression\n",
        "from sklearn.preprocessing import RobustScaler\n",
        "from sklearn.model_selection import GridSearchCV\n",
        "from sklearn.pipeline import make_pipeline\n",
        "from sklearn.metrics import mean_absolute_error\n",
        "from sklearn.feature_selection import f_classif, SelectKBest\n",
        "\n",
        "pipeline = make_pipeline(\n",
        "    RobustScaler(), \n",
        "    SelectKBest(f_classif), \n",
        "    LogisticRegression(solver='lbfgs', max_iter=2000))"
      ],
      "execution_count": 0,
      "outputs": []
    },
    {
      "metadata": {
        "colab_type": "text",
        "id": "5vRkQHatglMG"
      },
      "cell_type": "markdown",
      "source": [
        "## Part 2.2 — Do Grid Search Cross-Validation\n",
        "\n",
        "Do [**GridSearchCV**](https://scikit-learn.org/stable/modules/generated/sklearn.model_selection.GridSearchCV.html) with your pipeline. Use **5 folds** and **recall score**.\n",
        "\n",
        "Include these **parameters for your grid:**\n",
        "\n",
        "#### `SelectKBest`\n",
        "- `k : 1, 2, 3, 4`\n",
        "\n",
        "#### `LogisticRegression`\n",
        "- `class_weight : None, 'balanced'`\n",
        "- `C : .0001, .001, .01, .1, 1.0, 10.0, 100.00, 1000.0, 10000.0`\n",
        "\n",
        "\n",
        "**Fit** on the appropriate data."
      ]
    },
    {
      "metadata": {
        "colab_type": "code",
        "id": "wgN8kG0ogBMH",
        "colab": {
          "base_uri": "https://localhost:8080/",
          "height": 12583
        },
        "outputId": "3b48635e-1333-4ffe-bd36-2029ab396912"
      },
      "cell_type": "code",
      "source": [
        "from sklearn.model_selection import GridSearchCV\n",
        "\n",
        "param_grid = {\n",
        "    'selectkbest__k': [1, 2, 3, 4],\n",
        "    'logisticregression__class_weight': [None, 'balanced'],\n",
        "    'logisticregression__C': [.0001, .001, .01, .1, 1.0, 10.0, 100.00, 1000.0, 10000.0]\n",
        "}\n",
        "\n",
        "gridsearch = GridSearchCV(pipeline, param_grid, cv=5, scoring='recall',\n",
        "                               verbose=5, return_train_score=True)\n",
        "gridsearch.fit(X_train, y_train)"
      ],
      "execution_count": 44,
      "outputs": [
        {
          "output_type": "stream",
          "text": [
            "Fitting 5 folds for each of 72 candidates, totalling 360 fits\n",
            "[CV] logisticregression__C=0.0001, logisticregression__class_weight=None, selectkbest__k=1 \n",
            "[CV]  logisticregression__C=0.0001, logisticregression__class_weight=None, selectkbest__k=1, score=0.0, total=   0.0s\n",
            "[CV] logisticregression__C=0.0001, logisticregression__class_weight=None, selectkbest__k=1 \n",
            "[CV]  logisticregression__C=0.0001, logisticregression__class_weight=None, selectkbest__k=1, score=0.0, total=   0.0s\n",
            "[CV] logisticregression__C=0.0001, logisticregression__class_weight=None, selectkbest__k=1 \n",
            "[CV]  logisticregression__C=0.0001, logisticregression__class_weight=None, selectkbest__k=1, score=0.0, total=   0.0s\n",
            "[CV] logisticregression__C=0.0001, logisticregression__class_weight=None, selectkbest__k=1 \n",
            "[CV]  logisticregression__C=0.0001, logisticregression__class_weight=None, selectkbest__k=1, score=0.0, total=   0.0s\n",
            "[CV] logisticregression__C=0.0001, logisticregression__class_weight=None, selectkbest__k=1 \n",
            "[CV]  logisticregression__C=0.0001, logisticregression__class_weight=None, selectkbest__k=1, score=0.0, total=   0.0s\n",
            "[CV] logisticregression__C=0.0001, logisticregression__class_weight=None, selectkbest__k=2 \n",
            "[CV]  logisticregression__C=0.0001, logisticregression__class_weight=None, selectkbest__k=2, score=0.0, total=   0.0s\n",
            "[CV] logisticregression__C=0.0001, logisticregression__class_weight=None, selectkbest__k=2 \n",
            "[CV]  logisticregression__C=0.0001, logisticregression__class_weight=None, selectkbest__k=2, score=0.0, total=   0.0s\n",
            "[CV] logisticregression__C=0.0001, logisticregression__class_weight=None, selectkbest__k=2 \n",
            "[CV]  logisticregression__C=0.0001, logisticregression__class_weight=None, selectkbest__k=2, score=0.0, total=   0.0s\n",
            "[CV] logisticregression__C=0.0001, logisticregression__class_weight=None, selectkbest__k=2 \n",
            "[CV]  logisticregression__C=0.0001, logisticregression__class_weight=None, selectkbest__k=2, score=0.0, total=   0.0s\n",
            "[CV] logisticregression__C=0.0001, logisticregression__class_weight=None, selectkbest__k=2 \n",
            "[CV]  logisticregression__C=0.0001, logisticregression__class_weight=None, selectkbest__k=2, score=0.0, total=   0.0s\n",
            "[CV] logisticregression__C=0.0001, logisticregression__class_weight=None, selectkbest__k=3 \n",
            "[CV]  logisticregression__C=0.0001, logisticregression__class_weight=None, selectkbest__k=3, score=0.0, total=   0.0s\n",
            "[CV] logisticregression__C=0.0001, logisticregression__class_weight=None, selectkbest__k=3 \n",
            "[CV]  logisticregression__C=0.0001, logisticregression__class_weight=None, selectkbest__k=3, score=0.0, total=   0.0s\n",
            "[CV] logisticregression__C=0.0001, logisticregression__class_weight=None, selectkbest__k=3 \n",
            "[CV]  logisticregression__C=0.0001, logisticregression__class_weight=None, selectkbest__k=3, score=0.0, total=   0.0s\n",
            "[CV] logisticregression__C=0.0001, logisticregression__class_weight=None, selectkbest__k=3 \n",
            "[CV]  logisticregression__C=0.0001, logisticregression__class_weight=None, selectkbest__k=3, score=0.0, total=   0.0s\n",
            "[CV] logisticregression__C=0.0001, logisticregression__class_weight=None, selectkbest__k=3 \n",
            "[CV]  logisticregression__C=0.0001, logisticregression__class_weight=None, selectkbest__k=3, score=0.0, total=   0.0s\n",
            "[CV] logisticregression__C=0.0001, logisticregression__class_weight=None, selectkbest__k=4 \n",
            "[CV]  logisticregression__C=0.0001, logisticregression__class_weight=None, selectkbest__k=4, score=0.0, total=   0.0s\n",
            "[CV] logisticregression__C=0.0001, logisticregression__class_weight=None, selectkbest__k=4 \n"
          ],
          "name": "stdout"
        },
        {
          "output_type": "stream",
          "text": [
            "[Parallel(n_jobs=1)]: Using backend SequentialBackend with 1 concurrent workers.\n",
            "[Parallel(n_jobs=1)]: Done   1 out of   1 | elapsed:    0.0s remaining:    0.0s\n",
            "[Parallel(n_jobs=1)]: Done   2 out of   2 | elapsed:    0.0s remaining:    0.0s\n",
            "[Parallel(n_jobs=1)]: Done   3 out of   3 | elapsed:    0.0s remaining:    0.0s\n",
            "[Parallel(n_jobs=1)]: Done   4 out of   4 | elapsed:    0.1s remaining:    0.0s\n"
          ],
          "name": "stderr"
        },
        {
          "output_type": "stream",
          "text": [
            "[CV]  logisticregression__C=0.0001, logisticregression__class_weight=None, selectkbest__k=4, score=0.0, total=   0.0s\n",
            "[CV] logisticregression__C=0.0001, logisticregression__class_weight=None, selectkbest__k=4 \n",
            "[CV]  logisticregression__C=0.0001, logisticregression__class_weight=None, selectkbest__k=4, score=0.0, total=   0.0s\n",
            "[CV] logisticregression__C=0.0001, logisticregression__class_weight=None, selectkbest__k=4 \n",
            "[CV]  logisticregression__C=0.0001, logisticregression__class_weight=None, selectkbest__k=4, score=0.0, total=   0.0s\n",
            "[CV] logisticregression__C=0.0001, logisticregression__class_weight=None, selectkbest__k=4 \n",
            "[CV]  logisticregression__C=0.0001, logisticregression__class_weight=None, selectkbest__k=4, score=0.0, total=   0.0s\n",
            "[CV] logisticregression__C=0.0001, logisticregression__class_weight=balanced, selectkbest__k=1 \n",
            "[CV]  logisticregression__C=0.0001, logisticregression__class_weight=balanced, selectkbest__k=1, score=0.7307692307692307, total=   0.0s\n",
            "[CV] logisticregression__C=0.0001, logisticregression__class_weight=balanced, selectkbest__k=1 \n",
            "[CV]  logisticregression__C=0.0001, logisticregression__class_weight=balanced, selectkbest__k=1, score=0.6153846153846154, total=   0.0s\n",
            "[CV] logisticregression__C=0.0001, logisticregression__class_weight=balanced, selectkbest__k=1 \n",
            "[CV]  logisticregression__C=0.0001, logisticregression__class_weight=balanced, selectkbest__k=1, score=0.8846153846153846, total=   0.0s\n",
            "[CV] logisticregression__C=0.0001, logisticregression__class_weight=balanced, selectkbest__k=1 \n",
            "[CV]  logisticregression__C=0.0001, logisticregression__class_weight=balanced, selectkbest__k=1, score=0.8846153846153846, total=   0.0s\n",
            "[CV] logisticregression__C=0.0001, logisticregression__class_weight=balanced, selectkbest__k=1 \n",
            "[CV]  logisticregression__C=0.0001, logisticregression__class_weight=balanced, selectkbest__k=1, score=0.8076923076923077, total=   0.0s\n",
            "[CV] logisticregression__C=0.0001, logisticregression__class_weight=balanced, selectkbest__k=2 \n",
            "[CV]  logisticregression__C=0.0001, logisticregression__class_weight=balanced, selectkbest__k=2, score=0.5, total=   0.0s\n",
            "[CV] logisticregression__C=0.0001, logisticregression__class_weight=balanced, selectkbest__k=2 \n",
            "[CV]  logisticregression__C=0.0001, logisticregression__class_weight=balanced, selectkbest__k=2, score=0.4230769230769231, total=   0.0s\n",
            "[CV] logisticregression__C=0.0001, logisticregression__class_weight=balanced, selectkbest__k=2 \n",
            "[CV]  logisticregression__C=0.0001, logisticregression__class_weight=balanced, selectkbest__k=2, score=0.5769230769230769, total=   0.0s\n",
            "[CV] logisticregression__C=0.0001, logisticregression__class_weight=balanced, selectkbest__k=2 \n",
            "[CV]  logisticregression__C=0.0001, logisticregression__class_weight=balanced, selectkbest__k=2, score=0.6923076923076923, total=   0.0s\n",
            "[CV] logisticregression__C=0.0001, logisticregression__class_weight=balanced, selectkbest__k=2 \n",
            "[CV]  logisticregression__C=0.0001, logisticregression__class_weight=balanced, selectkbest__k=2, score=0.6923076923076923, total=   0.0s\n",
            "[CV] logisticregression__C=0.0001, logisticregression__class_weight=balanced, selectkbest__k=3 \n",
            "[CV]  logisticregression__C=0.0001, logisticregression__class_weight=balanced, selectkbest__k=3, score=0.4230769230769231, total=   0.0s\n",
            "[CV] logisticregression__C=0.0001, logisticregression__class_weight=balanced, selectkbest__k=3 \n",
            "[CV]  logisticregression__C=0.0001, logisticregression__class_weight=balanced, selectkbest__k=3, score=0.38461538461538464, total=   0.0s\n",
            "[CV] logisticregression__C=0.0001, logisticregression__class_weight=balanced, selectkbest__k=3 \n",
            "[CV]  logisticregression__C=0.0001, logisticregression__class_weight=balanced, selectkbest__k=3, score=0.5384615384615384, total=   0.0s\n",
            "[CV] logisticregression__C=0.0001, logisticregression__class_weight=balanced, selectkbest__k=3 \n",
            "[CV]  logisticregression__C=0.0001, logisticregression__class_weight=balanced, selectkbest__k=3, score=0.6153846153846154, total=   0.0s\n",
            "[CV] logisticregression__C=0.0001, logisticregression__class_weight=balanced, selectkbest__k=3 \n",
            "[CV]  logisticregression__C=0.0001, logisticregression__class_weight=balanced, selectkbest__k=3, score=0.6153846153846154, total=   0.0s\n",
            "[CV] logisticregression__C=0.0001, logisticregression__class_weight=balanced, selectkbest__k=4 \n",
            "[CV]  logisticregression__C=0.0001, logisticregression__class_weight=balanced, selectkbest__k=4, score=0.4230769230769231, total=   0.0s\n",
            "[CV] logisticregression__C=0.0001, logisticregression__class_weight=balanced, selectkbest__k=4 \n",
            "[CV]  logisticregression__C=0.0001, logisticregression__class_weight=balanced, selectkbest__k=4, score=0.34615384615384615, total=   0.0s\n",
            "[CV] logisticregression__C=0.0001, logisticregression__class_weight=balanced, selectkbest__k=4 \n",
            "[CV]  logisticregression__C=0.0001, logisticregression__class_weight=balanced, selectkbest__k=4, score=0.5384615384615384, total=   0.0s\n",
            "[CV] logisticregression__C=0.0001, logisticregression__class_weight=balanced, selectkbest__k=4 \n",
            "[CV]  logisticregression__C=0.0001, logisticregression__class_weight=balanced, selectkbest__k=4, score=0.6153846153846154, total=   0.0s\n",
            "[CV] logisticregression__C=0.0001, logisticregression__class_weight=balanced, selectkbest__k=4 \n",
            "[CV]  logisticregression__C=0.0001, logisticregression__class_weight=balanced, selectkbest__k=4, score=0.6153846153846154, total=   0.0s\n",
            "[CV] logisticregression__C=0.001, logisticregression__class_weight=None, selectkbest__k=1 \n",
            "[CV]  logisticregression__C=0.001, logisticregression__class_weight=None, selectkbest__k=1, score=0.0, total=   0.0s\n",
            "[CV] logisticregression__C=0.001, logisticregression__class_weight=None, selectkbest__k=1 \n",
            "[CV]  logisticregression__C=0.001, logisticregression__class_weight=None, selectkbest__k=1, score=0.0, total=   0.0s\n",
            "[CV] logisticregression__C=0.001, logisticregression__class_weight=None, selectkbest__k=1 \n",
            "[CV]  logisticregression__C=0.001, logisticregression__class_weight=None, selectkbest__k=1, score=0.0, total=   0.0s\n",
            "[CV] logisticregression__C=0.001, logisticregression__class_weight=None, selectkbest__k=1 \n",
            "[CV]  logisticregression__C=0.001, logisticregression__class_weight=None, selectkbest__k=1, score=0.0, total=   0.0s\n",
            "[CV] logisticregression__C=0.001, logisticregression__class_weight=None, selectkbest__k=1 \n",
            "[CV]  logisticregression__C=0.001, logisticregression__class_weight=None, selectkbest__k=1, score=0.0, total=   0.0s\n",
            "[CV] logisticregression__C=0.001, logisticregression__class_weight=None, selectkbest__k=2 \n",
            "[CV]  logisticregression__C=0.001, logisticregression__class_weight=None, selectkbest__k=2, score=0.0, total=   0.0s\n",
            "[CV] logisticregression__C=0.001, logisticregression__class_weight=None, selectkbest__k=2 \n",
            "[CV]  logisticregression__C=0.001, logisticregression__class_weight=None, selectkbest__k=2, score=0.0, total=   0.0s\n",
            "[CV] logisticregression__C=0.001, logisticregression__class_weight=None, selectkbest__k=2 \n",
            "[CV]  logisticregression__C=0.001, logisticregression__class_weight=None, selectkbest__k=2, score=0.0, total=   0.0s\n",
            "[CV] logisticregression__C=0.001, logisticregression__class_weight=None, selectkbest__k=2 \n",
            "[CV]  logisticregression__C=0.001, logisticregression__class_weight=None, selectkbest__k=2, score=0.0, total=   0.0s\n",
            "[CV] logisticregression__C=0.001, logisticregression__class_weight=None, selectkbest__k=2 \n",
            "[CV]  logisticregression__C=0.001, logisticregression__class_weight=None, selectkbest__k=2, score=0.0, total=   0.0s\n",
            "[CV] logisticregression__C=0.001, logisticregression__class_weight=None, selectkbest__k=3 \n",
            "[CV]  logisticregression__C=0.001, logisticregression__class_weight=None, selectkbest__k=3, score=0.0, total=   0.0s\n",
            "[CV] logisticregression__C=0.001, logisticregression__class_weight=None, selectkbest__k=3 \n",
            "[CV]  logisticregression__C=0.001, logisticregression__class_weight=None, selectkbest__k=3, score=0.0, total=   0.0s\n",
            "[CV] logisticregression__C=0.001, logisticregression__class_weight=None, selectkbest__k=3 \n",
            "[CV]  logisticregression__C=0.001, logisticregression__class_weight=None, selectkbest__k=3, score=0.0, total=   0.0s\n",
            "[CV] logisticregression__C=0.001, logisticregression__class_weight=None, selectkbest__k=3 \n",
            "[CV]  logisticregression__C=0.001, logisticregression__class_weight=None, selectkbest__k=3, score=0.0, total=   0.0s\n",
            "[CV] logisticregression__C=0.001, logisticregression__class_weight=None, selectkbest__k=3 \n",
            "[CV]  logisticregression__C=0.001, logisticregression__class_weight=None, selectkbest__k=3, score=0.0, total=   0.0s\n",
            "[CV] logisticregression__C=0.001, logisticregression__class_weight=None, selectkbest__k=4 \n",
            "[CV]  logisticregression__C=0.001, logisticregression__class_weight=None, selectkbest__k=4, score=0.0, total=   0.0s\n",
            "[CV] logisticregression__C=0.001, logisticregression__class_weight=None, selectkbest__k=4 \n",
            "[CV]  logisticregression__C=0.001, logisticregression__class_weight=None, selectkbest__k=4, score=0.0, total=   0.0s\n",
            "[CV] logisticregression__C=0.001, logisticregression__class_weight=None, selectkbest__k=4 \n",
            "[CV]  logisticregression__C=0.001, logisticregression__class_weight=None, selectkbest__k=4, score=0.0, total=   0.0s\n",
            "[CV] logisticregression__C=0.001, logisticregression__class_weight=None, selectkbest__k=4 \n",
            "[CV]  logisticregression__C=0.001, logisticregression__class_weight=None, selectkbest__k=4, score=0.0, total=   0.0s\n",
            "[CV] logisticregression__C=0.001, logisticregression__class_weight=None, selectkbest__k=4 \n",
            "[CV]  logisticregression__C=0.001, logisticregression__class_weight=None, selectkbest__k=4, score=0.0, total=   0.0s\n",
            "[CV] logisticregression__C=0.001, logisticregression__class_weight=balanced, selectkbest__k=1 \n",
            "[CV]  logisticregression__C=0.001, logisticregression__class_weight=balanced, selectkbest__k=1, score=0.7307692307692307, total=   0.0s\n",
            "[CV] logisticregression__C=0.001, logisticregression__class_weight=balanced, selectkbest__k=1 \n",
            "[CV]  logisticregression__C=0.001, logisticregression__class_weight=balanced, selectkbest__k=1, score=0.6153846153846154, total=   0.0s\n",
            "[CV] logisticregression__C=0.001, logisticregression__class_weight=balanced, selectkbest__k=1 \n",
            "[CV]  logisticregression__C=0.001, logisticregression__class_weight=balanced, selectkbest__k=1, score=0.8846153846153846, total=   0.0s\n",
            "[CV] logisticregression__C=0.001, logisticregression__class_weight=balanced, selectkbest__k=1 \n",
            "[CV]  logisticregression__C=0.001, logisticregression__class_weight=balanced, selectkbest__k=1, score=0.8846153846153846, total=   0.0s\n",
            "[CV] logisticregression__C=0.001, logisticregression__class_weight=balanced, selectkbest__k=1 \n",
            "[CV]  logisticregression__C=0.001, logisticregression__class_weight=balanced, selectkbest__k=1, score=0.8076923076923077, total=   0.0s\n",
            "[CV] logisticregression__C=0.001, logisticregression__class_weight=balanced, selectkbest__k=2 \n",
            "[CV]  logisticregression__C=0.001, logisticregression__class_weight=balanced, selectkbest__k=2, score=0.6153846153846154, total=   0.0s\n",
            "[CV] logisticregression__C=0.001, logisticregression__class_weight=balanced, selectkbest__k=2 \n",
            "[CV]  logisticregression__C=0.001, logisticregression__class_weight=balanced, selectkbest__k=2, score=0.4230769230769231, total=   0.0s\n",
            "[CV] logisticregression__C=0.001, logisticregression__class_weight=balanced, selectkbest__k=2 \n",
            "[CV]  logisticregression__C=0.001, logisticregression__class_weight=balanced, selectkbest__k=2, score=0.5769230769230769, total=   0.0s\n",
            "[CV] logisticregression__C=0.001, logisticregression__class_weight=balanced, selectkbest__k=2 \n",
            "[CV]  logisticregression__C=0.001, logisticregression__class_weight=balanced, selectkbest__k=2, score=0.6923076923076923, total=   0.0s\n",
            "[CV] logisticregression__C=0.001, logisticregression__class_weight=balanced, selectkbest__k=2 \n",
            "[CV]  logisticregression__C=0.001, logisticregression__class_weight=balanced, selectkbest__k=2, score=0.6923076923076923, total=   0.0s\n",
            "[CV] logisticregression__C=0.001, logisticregression__class_weight=balanced, selectkbest__k=3 \n",
            "[CV]  logisticregression__C=0.001, logisticregression__class_weight=balanced, selectkbest__k=3, score=0.4230769230769231, total=   0.0s\n",
            "[CV] logisticregression__C=0.001, logisticregression__class_weight=balanced, selectkbest__k=3 \n",
            "[CV]  logisticregression__C=0.001, logisticregression__class_weight=balanced, selectkbest__k=3, score=0.38461538461538464, total=   0.0s\n",
            "[CV] logisticregression__C=0.001, logisticregression__class_weight=balanced, selectkbest__k=3 \n",
            "[CV]  logisticregression__C=0.001, logisticregression__class_weight=balanced, selectkbest__k=3, score=0.5384615384615384, total=   0.0s\n",
            "[CV] logisticregression__C=0.001, logisticregression__class_weight=balanced, selectkbest__k=3 \n",
            "[CV]  logisticregression__C=0.001, logisticregression__class_weight=balanced, selectkbest__k=3, score=0.6153846153846154, total=   0.0s\n",
            "[CV] logisticregression__C=0.001, logisticregression__class_weight=balanced, selectkbest__k=3 \n",
            "[CV]  logisticregression__C=0.001, logisticregression__class_weight=balanced, selectkbest__k=3, score=0.6153846153846154, total=   0.0s\n",
            "[CV] logisticregression__C=0.001, logisticregression__class_weight=balanced, selectkbest__k=4 \n",
            "[CV]  logisticregression__C=0.001, logisticregression__class_weight=balanced, selectkbest__k=4, score=0.5, total=   0.0s\n",
            "[CV] logisticregression__C=0.001, logisticregression__class_weight=balanced, selectkbest__k=4 \n",
            "[CV]  logisticregression__C=0.001, logisticregression__class_weight=balanced, selectkbest__k=4, score=0.38461538461538464, total=   0.0s\n",
            "[CV] logisticregression__C=0.001, logisticregression__class_weight=balanced, selectkbest__k=4 \n",
            "[CV]  logisticregression__C=0.001, logisticregression__class_weight=balanced, selectkbest__k=4, score=0.5769230769230769, total=   0.0s\n",
            "[CV] logisticregression__C=0.001, logisticregression__class_weight=balanced, selectkbest__k=4 \n",
            "[CV]  logisticregression__C=0.001, logisticregression__class_weight=balanced, selectkbest__k=4, score=0.6153846153846154, total=   0.0s\n",
            "[CV] logisticregression__C=0.001, logisticregression__class_weight=balanced, selectkbest__k=4 \n",
            "[CV]  logisticregression__C=0.001, logisticregression__class_weight=balanced, selectkbest__k=4, score=0.6153846153846154, total=   0.0s\n",
            "[CV] logisticregression__C=0.01, logisticregression__class_weight=None, selectkbest__k=1 \n",
            "[CV]  logisticregression__C=0.01, logisticregression__class_weight=None, selectkbest__k=1, score=0.0, total=   0.0s\n",
            "[CV] logisticregression__C=0.01, logisticregression__class_weight=None, selectkbest__k=1 \n",
            "[CV]  logisticregression__C=0.01, logisticregression__class_weight=None, selectkbest__k=1, score=0.0, total=   0.0s\n",
            "[CV] logisticregression__C=0.01, logisticregression__class_weight=None, selectkbest__k=1 \n",
            "[CV]  logisticregression__C=0.01, logisticregression__class_weight=None, selectkbest__k=1, score=0.0, total=   0.0s\n",
            "[CV] logisticregression__C=0.01, logisticregression__class_weight=None, selectkbest__k=1 \n",
            "[CV]  logisticregression__C=0.01, logisticregression__class_weight=None, selectkbest__k=1, score=0.0, total=   0.0s\n",
            "[CV] logisticregression__C=0.01, logisticregression__class_weight=None, selectkbest__k=1 \n",
            "[CV]  logisticregression__C=0.01, logisticregression__class_weight=None, selectkbest__k=1, score=0.0, total=   0.0s\n",
            "[CV] logisticregression__C=0.01, logisticregression__class_weight=None, selectkbest__k=2 \n",
            "[CV]  logisticregression__C=0.01, logisticregression__class_weight=None, selectkbest__k=2, score=0.038461538461538464, total=   0.0s\n",
            "[CV] logisticregression__C=0.01, logisticregression__class_weight=None, selectkbest__k=2 \n",
            "[CV]  logisticregression__C=0.01, logisticregression__class_weight=None, selectkbest__k=2, score=0.038461538461538464, total=   0.0s\n",
            "[CV] logisticregression__C=0.01, logisticregression__class_weight=None, selectkbest__k=2 \n",
            "[CV]  logisticregression__C=0.01, logisticregression__class_weight=None, selectkbest__k=2, score=0.038461538461538464, total=   0.0s\n",
            "[CV] logisticregression__C=0.01, logisticregression__class_weight=None, selectkbest__k=2 \n",
            "[CV]  logisticregression__C=0.01, logisticregression__class_weight=None, selectkbest__k=2, score=0.038461538461538464, total=   0.0s\n",
            "[CV] logisticregression__C=0.01, logisticregression__class_weight=None, selectkbest__k=2 \n",
            "[CV]  logisticregression__C=0.01, logisticregression__class_weight=None, selectkbest__k=2, score=0.0, total=   0.0s\n",
            "[CV] logisticregression__C=0.01, logisticregression__class_weight=None, selectkbest__k=3 \n",
            "[CV]  logisticregression__C=0.01, logisticregression__class_weight=None, selectkbest__k=3, score=0.038461538461538464, total=   0.0s\n",
            "[CV] logisticregression__C=0.01, logisticregression__class_weight=None, selectkbest__k=3 \n",
            "[CV]  logisticregression__C=0.01, logisticregression__class_weight=None, selectkbest__k=3, score=0.038461538461538464, total=   0.0s\n",
            "[CV] logisticregression__C=0.01, logisticregression__class_weight=None, selectkbest__k=3 \n",
            "[CV]  logisticregression__C=0.01, logisticregression__class_weight=None, selectkbest__k=3, score=0.038461538461538464, total=   0.0s\n",
            "[CV] logisticregression__C=0.01, logisticregression__class_weight=None, selectkbest__k=3 \n",
            "[CV]  logisticregression__C=0.01, logisticregression__class_weight=None, selectkbest__k=3, score=0.038461538461538464, total=   0.0s\n",
            "[CV] logisticregression__C=0.01, logisticregression__class_weight=None, selectkbest__k=3 \n",
            "[CV]  logisticregression__C=0.01, logisticregression__class_weight=None, selectkbest__k=3, score=0.038461538461538464, total=   0.0s\n",
            "[CV] logisticregression__C=0.01, logisticregression__class_weight=None, selectkbest__k=4 \n",
            "[CV]  logisticregression__C=0.01, logisticregression__class_weight=None, selectkbest__k=4, score=0.038461538461538464, total=   0.0s\n",
            "[CV] logisticregression__C=0.01, logisticregression__class_weight=None, selectkbest__k=4 \n",
            "[CV]  logisticregression__C=0.01, logisticregression__class_weight=None, selectkbest__k=4, score=0.038461538461538464, total=   0.0s\n",
            "[CV] logisticregression__C=0.01, logisticregression__class_weight=None, selectkbest__k=4 \n",
            "[CV]  logisticregression__C=0.01, logisticregression__class_weight=None, selectkbest__k=4, score=0.038461538461538464, total=   0.0s\n",
            "[CV] logisticregression__C=0.01, logisticregression__class_weight=None, selectkbest__k=4 \n",
            "[CV]  logisticregression__C=0.01, logisticregression__class_weight=None, selectkbest__k=4, score=0.038461538461538464, total=   0.0s\n",
            "[CV] logisticregression__C=0.01, logisticregression__class_weight=None, selectkbest__k=4 \n",
            "[CV]  logisticregression__C=0.01, logisticregression__class_weight=None, selectkbest__k=4, score=0.038461538461538464, total=   0.0s\n",
            "[CV] logisticregression__C=0.01, logisticregression__class_weight=balanced, selectkbest__k=1 \n",
            "[CV]  logisticregression__C=0.01, logisticregression__class_weight=balanced, selectkbest__k=1, score=0.7307692307692307, total=   0.0s\n",
            "[CV] logisticregression__C=0.01, logisticregression__class_weight=balanced, selectkbest__k=1 \n",
            "[CV]  logisticregression__C=0.01, logisticregression__class_weight=balanced, selectkbest__k=1, score=0.6153846153846154, total=   0.0s\n",
            "[CV] logisticregression__C=0.01, logisticregression__class_weight=balanced, selectkbest__k=1 \n",
            "[CV]  logisticregression__C=0.01, logisticregression__class_weight=balanced, selectkbest__k=1, score=0.8846153846153846, total=   0.0s\n",
            "[CV] logisticregression__C=0.01, logisticregression__class_weight=balanced, selectkbest__k=1 \n",
            "[CV]  logisticregression__C=0.01, logisticregression__class_weight=balanced, selectkbest__k=1, score=0.8846153846153846, total=   0.0s\n",
            "[CV] logisticregression__C=0.01, logisticregression__class_weight=balanced, selectkbest__k=1 \n",
            "[CV]  logisticregression__C=0.01, logisticregression__class_weight=balanced, selectkbest__k=1, score=0.8076923076923077, total=   0.0s\n",
            "[CV] logisticregression__C=0.01, logisticregression__class_weight=balanced, selectkbest__k=2 \n",
            "[CV]  logisticregression__C=0.01, logisticregression__class_weight=balanced, selectkbest__k=2, score=0.6153846153846154, total=   0.0s\n",
            "[CV] logisticregression__C=0.01, logisticregression__class_weight=balanced, selectkbest__k=2 \n",
            "[CV]  logisticregression__C=0.01, logisticregression__class_weight=balanced, selectkbest__k=2, score=0.5, total=   0.0s\n",
            "[CV] logisticregression__C=0.01, logisticregression__class_weight=balanced, selectkbest__k=2 \n",
            "[CV]  logisticregression__C=0.01, logisticregression__class_weight=balanced, selectkbest__k=2, score=0.7307692307692307, total=   0.0s\n",
            "[CV] logisticregression__C=0.01, logisticregression__class_weight=balanced, selectkbest__k=2 \n",
            "[CV]  logisticregression__C=0.01, logisticregression__class_weight=balanced, selectkbest__k=2, score=0.7307692307692307, total=   0.0s\n",
            "[CV] logisticregression__C=0.01, logisticregression__class_weight=balanced, selectkbest__k=2 \n",
            "[CV]  logisticregression__C=0.01, logisticregression__class_weight=balanced, selectkbest__k=2, score=0.8076923076923077, total=   0.0s\n",
            "[CV] logisticregression__C=0.01, logisticregression__class_weight=balanced, selectkbest__k=3 \n",
            "[CV]  logisticregression__C=0.01, logisticregression__class_weight=balanced, selectkbest__k=3, score=0.6153846153846154, total=   0.0s\n",
            "[CV] logisticregression__C=0.01, logisticregression__class_weight=balanced, selectkbest__k=3 \n",
            "[CV]  logisticregression__C=0.01, logisticregression__class_weight=balanced, selectkbest__k=3, score=0.4230769230769231, total=   0.0s\n",
            "[CV] logisticregression__C=0.01, logisticregression__class_weight=balanced, selectkbest__k=3 \n",
            "[CV]  logisticregression__C=0.01, logisticregression__class_weight=balanced, selectkbest__k=3, score=0.6923076923076923, total=   0.0s\n",
            "[CV] logisticregression__C=0.01, logisticregression__class_weight=balanced, selectkbest__k=3 \n",
            "[CV]  logisticregression__C=0.01, logisticregression__class_weight=balanced, selectkbest__k=3, score=0.7307692307692307, total=   0.0s\n",
            "[CV] logisticregression__C=0.01, logisticregression__class_weight=balanced, selectkbest__k=3 \n",
            "[CV]  logisticregression__C=0.01, logisticregression__class_weight=balanced, selectkbest__k=3, score=0.8461538461538461, total=   0.0s\n",
            "[CV] logisticregression__C=0.01, logisticregression__class_weight=balanced, selectkbest__k=4 \n",
            "[CV]  logisticregression__C=0.01, logisticregression__class_weight=balanced, selectkbest__k=4, score=0.6153846153846154, total=   0.0s\n",
            "[CV] logisticregression__C=0.01, logisticregression__class_weight=balanced, selectkbest__k=4 \n",
            "[CV]  logisticregression__C=0.01, logisticregression__class_weight=balanced, selectkbest__k=4, score=0.38461538461538464, total=   0.0s\n",
            "[CV] logisticregression__C=0.01, logisticregression__class_weight=balanced, selectkbest__k=4 \n",
            "[CV]  logisticregression__C=0.01, logisticregression__class_weight=balanced, selectkbest__k=4, score=0.6538461538461539, total=   0.0s\n",
            "[CV] logisticregression__C=0.01, logisticregression__class_weight=balanced, selectkbest__k=4 \n",
            "[CV]  logisticregression__C=0.01, logisticregression__class_weight=balanced, selectkbest__k=4, score=0.7692307692307693, total=   0.0s\n",
            "[CV] logisticregression__C=0.01, logisticregression__class_weight=balanced, selectkbest__k=4 \n",
            "[CV]  logisticregression__C=0.01, logisticregression__class_weight=balanced, selectkbest__k=4, score=0.8076923076923077, total=   0.0s\n",
            "[CV] logisticregression__C=0.1, logisticregression__class_weight=None, selectkbest__k=1 \n",
            "[CV]  logisticregression__C=0.1, logisticregression__class_weight=None, selectkbest__k=1, score=0.0, total=   0.0s\n",
            "[CV] logisticregression__C=0.1, logisticregression__class_weight=None, selectkbest__k=1 \n",
            "[CV]  logisticregression__C=0.1, logisticregression__class_weight=None, selectkbest__k=1, score=0.0, total=   0.0s\n",
            "[CV] logisticregression__C=0.1, logisticregression__class_weight=None, selectkbest__k=1 \n",
            "[CV]  logisticregression__C=0.1, logisticregression__class_weight=None, selectkbest__k=1, score=0.0, total=   0.0s\n",
            "[CV] logisticregression__C=0.1, logisticregression__class_weight=None, selectkbest__k=1 \n",
            "[CV]  logisticregression__C=0.1, logisticregression__class_weight=None, selectkbest__k=1, score=0.0, total=   0.0s\n",
            "[CV] logisticregression__C=0.1, logisticregression__class_weight=None, selectkbest__k=1 \n",
            "[CV]  logisticregression__C=0.1, logisticregression__class_weight=None, selectkbest__k=1, score=0.0, total=   0.0s\n",
            "[CV] logisticregression__C=0.1, logisticregression__class_weight=None, selectkbest__k=2 \n",
            "[CV]  logisticregression__C=0.1, logisticregression__class_weight=None, selectkbest__k=2, score=0.07692307692307693, total=   0.0s\n",
            "[CV] logisticregression__C=0.1, logisticregression__class_weight=None, selectkbest__k=2 \n",
            "[CV]  logisticregression__C=0.1, logisticregression__class_weight=None, selectkbest__k=2, score=0.038461538461538464, total=   0.0s\n",
            "[CV] logisticregression__C=0.1, logisticregression__class_weight=None, selectkbest__k=2 \n",
            "[CV]  logisticregression__C=0.1, logisticregression__class_weight=None, selectkbest__k=2, score=0.07692307692307693, total=   0.0s\n",
            "[CV] logisticregression__C=0.1, logisticregression__class_weight=None, selectkbest__k=2 \n",
            "[CV]  logisticregression__C=0.1, logisticregression__class_weight=None, selectkbest__k=2, score=0.038461538461538464, total=   0.0s\n",
            "[CV] logisticregression__C=0.1, logisticregression__class_weight=None, selectkbest__k=2 \n",
            "[CV]  logisticregression__C=0.1, logisticregression__class_weight=None, selectkbest__k=2, score=0.07692307692307693, total=   0.0s\n",
            "[CV] logisticregression__C=0.1, logisticregression__class_weight=None, selectkbest__k=3 \n",
            "[CV]  logisticregression__C=0.1, logisticregression__class_weight=None, selectkbest__k=3, score=0.07692307692307693, total=   0.0s\n",
            "[CV] logisticregression__C=0.1, logisticregression__class_weight=None, selectkbest__k=3 \n",
            "[CV]  logisticregression__C=0.1, logisticregression__class_weight=None, selectkbest__k=3, score=0.038461538461538464, total=   0.0s\n",
            "[CV] logisticregression__C=0.1, logisticregression__class_weight=None, selectkbest__k=3 \n",
            "[CV]  logisticregression__C=0.1, logisticregression__class_weight=None, selectkbest__k=3, score=0.07692307692307693, total=   0.0s\n",
            "[CV] logisticregression__C=0.1, logisticregression__class_weight=None, selectkbest__k=3 \n",
            "[CV]  logisticregression__C=0.1, logisticregression__class_weight=None, selectkbest__k=3, score=0.038461538461538464, total=   0.0s\n",
            "[CV] logisticregression__C=0.1, logisticregression__class_weight=None, selectkbest__k=3 \n",
            "[CV]  logisticregression__C=0.1, logisticregression__class_weight=None, selectkbest__k=3, score=0.11538461538461539, total=   0.0s\n",
            "[CV] logisticregression__C=0.1, logisticregression__class_weight=None, selectkbest__k=4 \n",
            "[CV]  logisticregression__C=0.1, logisticregression__class_weight=None, selectkbest__k=4, score=0.07692307692307693, total=   0.0s\n",
            "[CV] logisticregression__C=0.1, logisticregression__class_weight=None, selectkbest__k=4 \n",
            "[CV]  logisticregression__C=0.1, logisticregression__class_weight=None, selectkbest__k=4, score=0.038461538461538464, total=   0.0s\n",
            "[CV] logisticregression__C=0.1, logisticregression__class_weight=None, selectkbest__k=4 \n",
            "[CV]  logisticregression__C=0.1, logisticregression__class_weight=None, selectkbest__k=4, score=0.07692307692307693, total=   0.0s\n",
            "[CV] logisticregression__C=0.1, logisticregression__class_weight=None, selectkbest__k=4 \n",
            "[CV]  logisticregression__C=0.1, logisticregression__class_weight=None, selectkbest__k=4, score=0.038461538461538464, total=   0.0s\n",
            "[CV] logisticregression__C=0.1, logisticregression__class_weight=None, selectkbest__k=4 \n",
            "[CV]  logisticregression__C=0.1, logisticregression__class_weight=None, selectkbest__k=4, score=0.15384615384615385, total=   0.0s\n",
            "[CV] logisticregression__C=0.1, logisticregression__class_weight=balanced, selectkbest__k=1 \n",
            "[CV]  logisticregression__C=0.1, logisticregression__class_weight=balanced, selectkbest__k=1, score=0.7307692307692307, total=   0.0s\n",
            "[CV] logisticregression__C=0.1, logisticregression__class_weight=balanced, selectkbest__k=1 \n",
            "[CV]  logisticregression__C=0.1, logisticregression__class_weight=balanced, selectkbest__k=1, score=0.6153846153846154, total=   0.0s\n",
            "[CV] logisticregression__C=0.1, logisticregression__class_weight=balanced, selectkbest__k=1 \n",
            "[CV]  logisticregression__C=0.1, logisticregression__class_weight=balanced, selectkbest__k=1, score=0.8846153846153846, total=   0.0s\n",
            "[CV] logisticregression__C=0.1, logisticregression__class_weight=balanced, selectkbest__k=1 \n",
            "[CV]  logisticregression__C=0.1, logisticregression__class_weight=balanced, selectkbest__k=1, score=0.8846153846153846, total=   0.0s\n",
            "[CV] logisticregression__C=0.1, logisticregression__class_weight=balanced, selectkbest__k=1 \n",
            "[CV]  logisticregression__C=0.1, logisticregression__class_weight=balanced, selectkbest__k=1, score=0.8076923076923077, total=   0.0s\n",
            "[CV] logisticregression__C=0.1, logisticregression__class_weight=balanced, selectkbest__k=2 \n",
            "[CV]  logisticregression__C=0.1, logisticregression__class_weight=balanced, selectkbest__k=2, score=0.7307692307692307, total=   0.0s\n",
            "[CV] logisticregression__C=0.1, logisticregression__class_weight=balanced, selectkbest__k=2 \n",
            "[CV]  logisticregression__C=0.1, logisticregression__class_weight=balanced, selectkbest__k=2, score=0.5384615384615384, total=   0.0s\n",
            "[CV] logisticregression__C=0.1, logisticregression__class_weight=balanced, selectkbest__k=2 \n",
            "[CV]  logisticregression__C=0.1, logisticregression__class_weight=balanced, selectkbest__k=2, score=0.8846153846153846, total=   0.0s\n",
            "[CV] logisticregression__C=0.1, logisticregression__class_weight=balanced, selectkbest__k=2 \n",
            "[CV]  logisticregression__C=0.1, logisticregression__class_weight=balanced, selectkbest__k=2, score=0.8461538461538461, total=   0.0s\n",
            "[CV] logisticregression__C=0.1, logisticregression__class_weight=balanced, selectkbest__k=2 \n",
            "[CV]  logisticregression__C=0.1, logisticregression__class_weight=balanced, selectkbest__k=2, score=0.8461538461538461, total=   0.0s\n",
            "[CV] logisticregression__C=0.1, logisticregression__class_weight=balanced, selectkbest__k=3 \n",
            "[CV]  logisticregression__C=0.1, logisticregression__class_weight=balanced, selectkbest__k=3, score=0.7307692307692307, total=   0.0s\n",
            "[CV] logisticregression__C=0.1, logisticregression__class_weight=balanced, selectkbest__k=3 \n",
            "[CV]  logisticregression__C=0.1, logisticregression__class_weight=balanced, selectkbest__k=3, score=0.5384615384615384, total=   0.0s\n",
            "[CV] logisticregression__C=0.1, logisticregression__class_weight=balanced, selectkbest__k=3 \n",
            "[CV]  logisticregression__C=0.1, logisticregression__class_weight=balanced, selectkbest__k=3, score=0.8846153846153846, total=   0.0s\n",
            "[CV] logisticregression__C=0.1, logisticregression__class_weight=balanced, selectkbest__k=3 \n",
            "[CV]  logisticregression__C=0.1, logisticregression__class_weight=balanced, selectkbest__k=3, score=0.8461538461538461, total=   0.0s\n",
            "[CV] logisticregression__C=0.1, logisticregression__class_weight=balanced, selectkbest__k=3 \n",
            "[CV]  logisticregression__C=0.1, logisticregression__class_weight=balanced, selectkbest__k=3, score=0.8461538461538461, total=   0.0s\n",
            "[CV] logisticregression__C=0.1, logisticregression__class_weight=balanced, selectkbest__k=4 \n",
            "[CV]  logisticregression__C=0.1, logisticregression__class_weight=balanced, selectkbest__k=4, score=0.7307692307692307, total=   0.0s\n",
            "[CV] logisticregression__C=0.1, logisticregression__class_weight=balanced, selectkbest__k=4 \n",
            "[CV]  logisticregression__C=0.1, logisticregression__class_weight=balanced, selectkbest__k=4, score=0.5769230769230769, total=   0.0s\n",
            "[CV] logisticregression__C=0.1, logisticregression__class_weight=balanced, selectkbest__k=4 \n",
            "[CV]  logisticregression__C=0.1, logisticregression__class_weight=balanced, selectkbest__k=4, score=0.8461538461538461, total=   0.0s\n",
            "[CV] logisticregression__C=0.1, logisticregression__class_weight=balanced, selectkbest__k=4 \n",
            "[CV]  logisticregression__C=0.1, logisticregression__class_weight=balanced, selectkbest__k=4, score=0.8461538461538461, total=   0.0s\n",
            "[CV] logisticregression__C=0.1, logisticregression__class_weight=balanced, selectkbest__k=4 \n",
            "[CV]  logisticregression__C=0.1, logisticregression__class_weight=balanced, selectkbest__k=4, score=0.8461538461538461, total=   0.0s\n",
            "[CV] logisticregression__C=1.0, logisticregression__class_weight=None, selectkbest__k=1 \n",
            "[CV]  logisticregression__C=1.0, logisticregression__class_weight=None, selectkbest__k=1, score=0.0, total=   0.0s\n",
            "[CV] logisticregression__C=1.0, logisticregression__class_weight=None, selectkbest__k=1 \n",
            "[CV]  logisticregression__C=1.0, logisticregression__class_weight=None, selectkbest__k=1, score=0.0, total=   0.0s\n",
            "[CV] logisticregression__C=1.0, logisticregression__class_weight=None, selectkbest__k=1 \n",
            "[CV]  logisticregression__C=1.0, logisticregression__class_weight=None, selectkbest__k=1, score=0.0, total=   0.0s\n",
            "[CV] logisticregression__C=1.0, logisticregression__class_weight=None, selectkbest__k=1 \n",
            "[CV]  logisticregression__C=1.0, logisticregression__class_weight=None, selectkbest__k=1, score=0.0, total=   0.0s\n",
            "[CV] logisticregression__C=1.0, logisticregression__class_weight=None, selectkbest__k=1 \n",
            "[CV]  logisticregression__C=1.0, logisticregression__class_weight=None, selectkbest__k=1, score=0.0, total=   0.0s\n",
            "[CV] logisticregression__C=1.0, logisticregression__class_weight=None, selectkbest__k=2 \n",
            "[CV]  logisticregression__C=1.0, logisticregression__class_weight=None, selectkbest__k=2, score=0.07692307692307693, total=   0.0s\n",
            "[CV] logisticregression__C=1.0, logisticregression__class_weight=None, selectkbest__k=2 \n",
            "[CV]  logisticregression__C=1.0, logisticregression__class_weight=None, selectkbest__k=2, score=0.038461538461538464, total=   0.0s\n",
            "[CV] logisticregression__C=1.0, logisticregression__class_weight=None, selectkbest__k=2 \n",
            "[CV]  logisticregression__C=1.0, logisticregression__class_weight=None, selectkbest__k=2, score=0.07692307692307693, total=   0.0s\n",
            "[CV] logisticregression__C=1.0, logisticregression__class_weight=None, selectkbest__k=2 \n",
            "[CV]  logisticregression__C=1.0, logisticregression__class_weight=None, selectkbest__k=2, score=0.038461538461538464, total=   0.0s\n",
            "[CV] logisticregression__C=1.0, logisticregression__class_weight=None, selectkbest__k=2 \n",
            "[CV]  logisticregression__C=1.0, logisticregression__class_weight=None, selectkbest__k=2, score=0.15384615384615385, total=   0.0s\n",
            "[CV] logisticregression__C=1.0, logisticregression__class_weight=None, selectkbest__k=3 \n",
            "[CV]  logisticregression__C=1.0, logisticregression__class_weight=None, selectkbest__k=3, score=0.07692307692307693, total=   0.0s\n",
            "[CV] logisticregression__C=1.0, logisticregression__class_weight=None, selectkbest__k=3 \n",
            "[CV]  logisticregression__C=1.0, logisticregression__class_weight=None, selectkbest__k=3, score=0.038461538461538464, total=   0.0s\n",
            "[CV] logisticregression__C=1.0, logisticregression__class_weight=None, selectkbest__k=3 \n",
            "[CV]  logisticregression__C=1.0, logisticregression__class_weight=None, selectkbest__k=3, score=0.07692307692307693, total=   0.0s\n",
            "[CV] logisticregression__C=1.0, logisticregression__class_weight=None, selectkbest__k=3 \n",
            "[CV]  logisticregression__C=1.0, logisticregression__class_weight=None, selectkbest__k=3, score=0.038461538461538464, total=   0.0s\n",
            "[CV] logisticregression__C=1.0, logisticregression__class_weight=None, selectkbest__k=3 \n",
            "[CV]  logisticregression__C=1.0, logisticregression__class_weight=None, selectkbest__k=3, score=0.15384615384615385, total=   0.0s\n",
            "[CV] logisticregression__C=1.0, logisticregression__class_weight=None, selectkbest__k=4 \n",
            "[CV]  logisticregression__C=1.0, logisticregression__class_weight=None, selectkbest__k=4, score=0.07692307692307693, total=   0.0s\n",
            "[CV] logisticregression__C=1.0, logisticregression__class_weight=None, selectkbest__k=4 \n",
            "[CV]  logisticregression__C=1.0, logisticregression__class_weight=None, selectkbest__k=4, score=0.07692307692307693, total=   0.0s\n",
            "[CV] logisticregression__C=1.0, logisticregression__class_weight=None, selectkbest__k=4 \n",
            "[CV]  logisticregression__C=1.0, logisticregression__class_weight=None, selectkbest__k=4, score=0.15384615384615385, total=   0.0s\n",
            "[CV] logisticregression__C=1.0, logisticregression__class_weight=None, selectkbest__k=4 \n",
            "[CV]  logisticregression__C=1.0, logisticregression__class_weight=None, selectkbest__k=4, score=0.07692307692307693, total=   0.0s\n",
            "[CV] logisticregression__C=1.0, logisticregression__class_weight=None, selectkbest__k=4 \n",
            "[CV]  logisticregression__C=1.0, logisticregression__class_weight=None, selectkbest__k=4, score=0.15384615384615385, total=   0.0s\n",
            "[CV] logisticregression__C=1.0, logisticregression__class_weight=balanced, selectkbest__k=1 \n",
            "[CV]  logisticregression__C=1.0, logisticregression__class_weight=balanced, selectkbest__k=1, score=0.7307692307692307, total=   0.0s\n",
            "[CV] logisticregression__C=1.0, logisticregression__class_weight=balanced, selectkbest__k=1 \n",
            "[CV]  logisticregression__C=1.0, logisticregression__class_weight=balanced, selectkbest__k=1, score=0.6153846153846154, total=   0.0s\n",
            "[CV] logisticregression__C=1.0, logisticregression__class_weight=balanced, selectkbest__k=1 \n",
            "[CV]  logisticregression__C=1.0, logisticregression__class_weight=balanced, selectkbest__k=1, score=0.8846153846153846, total=   0.0s\n",
            "[CV] logisticregression__C=1.0, logisticregression__class_weight=balanced, selectkbest__k=1 \n",
            "[CV]  logisticregression__C=1.0, logisticregression__class_weight=balanced, selectkbest__k=1, score=0.8846153846153846, total=   0.0s\n",
            "[CV] logisticregression__C=1.0, logisticregression__class_weight=balanced, selectkbest__k=1 \n",
            "[CV]  logisticregression__C=1.0, logisticregression__class_weight=balanced, selectkbest__k=1, score=0.8076923076923077, total=   0.0s\n",
            "[CV] logisticregression__C=1.0, logisticregression__class_weight=balanced, selectkbest__k=2 \n",
            "[CV]  logisticregression__C=1.0, logisticregression__class_weight=balanced, selectkbest__k=2, score=0.7307692307692307, total=   0.0s\n",
            "[CV] logisticregression__C=1.0, logisticregression__class_weight=balanced, selectkbest__k=2 \n",
            "[CV]  logisticregression__C=1.0, logisticregression__class_weight=balanced, selectkbest__k=2, score=0.6153846153846154, total=   0.0s\n",
            "[CV] logisticregression__C=1.0, logisticregression__class_weight=balanced, selectkbest__k=2 \n",
            "[CV]  logisticregression__C=1.0, logisticregression__class_weight=balanced, selectkbest__k=2, score=0.8846153846153846, total=   0.0s\n",
            "[CV] logisticregression__C=1.0, logisticregression__class_weight=balanced, selectkbest__k=2 \n",
            "[CV]  logisticregression__C=1.0, logisticregression__class_weight=balanced, selectkbest__k=2, score=0.8461538461538461, total=   0.0s\n",
            "[CV] logisticregression__C=1.0, logisticregression__class_weight=balanced, selectkbest__k=2 \n",
            "[CV]  logisticregression__C=1.0, logisticregression__class_weight=balanced, selectkbest__k=2, score=0.8461538461538461, total=   0.0s\n",
            "[CV] logisticregression__C=1.0, logisticregression__class_weight=balanced, selectkbest__k=3 \n",
            "[CV]  logisticregression__C=1.0, logisticregression__class_weight=balanced, selectkbest__k=3, score=0.7307692307692307, total=   0.0s\n",
            "[CV] logisticregression__C=1.0, logisticregression__class_weight=balanced, selectkbest__k=3 \n",
            "[CV]  logisticregression__C=1.0, logisticregression__class_weight=balanced, selectkbest__k=3, score=0.6153846153846154, total=   0.0s\n",
            "[CV] logisticregression__C=1.0, logisticregression__class_weight=balanced, selectkbest__k=3 \n",
            "[CV]  logisticregression__C=1.0, logisticregression__class_weight=balanced, selectkbest__k=3, score=0.8846153846153846, total=   0.0s\n",
            "[CV] logisticregression__C=1.0, logisticregression__class_weight=balanced, selectkbest__k=3 \n",
            "[CV]  logisticregression__C=1.0, logisticregression__class_weight=balanced, selectkbest__k=3, score=0.8461538461538461, total=   0.0s\n",
            "[CV] logisticregression__C=1.0, logisticregression__class_weight=balanced, selectkbest__k=3 \n",
            "[CV]  logisticregression__C=1.0, logisticregression__class_weight=balanced, selectkbest__k=3, score=0.8461538461538461, total=   0.0s\n",
            "[CV] logisticregression__C=1.0, logisticregression__class_weight=balanced, selectkbest__k=4 \n",
            "[CV]  logisticregression__C=1.0, logisticregression__class_weight=balanced, selectkbest__k=4, score=0.7307692307692307, total=   0.0s\n",
            "[CV] logisticregression__C=1.0, logisticregression__class_weight=balanced, selectkbest__k=4 \n",
            "[CV]  logisticregression__C=1.0, logisticregression__class_weight=balanced, selectkbest__k=4, score=0.5384615384615384, total=   0.0s\n",
            "[CV] logisticregression__C=1.0, logisticregression__class_weight=balanced, selectkbest__k=4 \n",
            "[CV]  logisticregression__C=1.0, logisticregression__class_weight=balanced, selectkbest__k=4, score=0.8461538461538461, total=   0.0s\n",
            "[CV] logisticregression__C=1.0, logisticregression__class_weight=balanced, selectkbest__k=4 \n",
            "[CV]  logisticregression__C=1.0, logisticregression__class_weight=balanced, selectkbest__k=4, score=0.8461538461538461, total=   0.0s\n",
            "[CV] logisticregression__C=1.0, logisticregression__class_weight=balanced, selectkbest__k=4 \n",
            "[CV]  logisticregression__C=1.0, logisticregression__class_weight=balanced, selectkbest__k=4, score=0.8461538461538461, total=   0.0s\n",
            "[CV] logisticregression__C=10.0, logisticregression__class_weight=None, selectkbest__k=1 \n",
            "[CV]  logisticregression__C=10.0, logisticregression__class_weight=None, selectkbest__k=1, score=0.0, total=   0.0s\n",
            "[CV] logisticregression__C=10.0, logisticregression__class_weight=None, selectkbest__k=1 \n",
            "[CV]  logisticregression__C=10.0, logisticregression__class_weight=None, selectkbest__k=1, score=0.0, total=   0.0s\n",
            "[CV] logisticregression__C=10.0, logisticregression__class_weight=None, selectkbest__k=1 \n",
            "[CV]  logisticregression__C=10.0, logisticregression__class_weight=None, selectkbest__k=1, score=0.0, total=   0.0s\n",
            "[CV] logisticregression__C=10.0, logisticregression__class_weight=None, selectkbest__k=1 \n",
            "[CV]  logisticregression__C=10.0, logisticregression__class_weight=None, selectkbest__k=1, score=0.0, total=   0.0s\n",
            "[CV] logisticregression__C=10.0, logisticregression__class_weight=None, selectkbest__k=1 \n",
            "[CV]  logisticregression__C=10.0, logisticregression__class_weight=None, selectkbest__k=1, score=0.0, total=   0.0s\n",
            "[CV] logisticregression__C=10.0, logisticregression__class_weight=None, selectkbest__k=2 \n",
            "[CV]  logisticregression__C=10.0, logisticregression__class_weight=None, selectkbest__k=2, score=0.07692307692307693, total=   0.0s\n",
            "[CV] logisticregression__C=10.0, logisticregression__class_weight=None, selectkbest__k=2 \n",
            "[CV]  logisticregression__C=10.0, logisticregression__class_weight=None, selectkbest__k=2, score=0.038461538461538464, total=   0.0s\n",
            "[CV] logisticregression__C=10.0, logisticregression__class_weight=None, selectkbest__k=2 \n",
            "[CV]  logisticregression__C=10.0, logisticregression__class_weight=None, selectkbest__k=2, score=0.07692307692307693, total=   0.0s\n",
            "[CV] logisticregression__C=10.0, logisticregression__class_weight=None, selectkbest__k=2 \n",
            "[CV]  logisticregression__C=10.0, logisticregression__class_weight=None, selectkbest__k=2, score=0.038461538461538464, total=   0.0s\n",
            "[CV] logisticregression__C=10.0, logisticregression__class_weight=None, selectkbest__k=2 \n",
            "[CV]  logisticregression__C=10.0, logisticregression__class_weight=None, selectkbest__k=2, score=0.15384615384615385, total=   0.0s\n",
            "[CV] logisticregression__C=10.0, logisticregression__class_weight=None, selectkbest__k=3 \n",
            "[CV]  logisticregression__C=10.0, logisticregression__class_weight=None, selectkbest__k=3, score=0.07692307692307693, total=   0.0s\n",
            "[CV] logisticregression__C=10.0, logisticregression__class_weight=None, selectkbest__k=3 \n",
            "[CV]  logisticregression__C=10.0, logisticregression__class_weight=None, selectkbest__k=3, score=0.038461538461538464, total=   0.0s\n",
            "[CV] logisticregression__C=10.0, logisticregression__class_weight=None, selectkbest__k=3 \n",
            "[CV]  logisticregression__C=10.0, logisticregression__class_weight=None, selectkbest__k=3, score=0.07692307692307693, total=   0.0s\n",
            "[CV] logisticregression__C=10.0, logisticregression__class_weight=None, selectkbest__k=3 \n",
            "[CV]  logisticregression__C=10.0, logisticregression__class_weight=None, selectkbest__k=3, score=0.038461538461538464, total=   0.0s\n",
            "[CV] logisticregression__C=10.0, logisticregression__class_weight=None, selectkbest__k=3 \n",
            "[CV]  logisticregression__C=10.0, logisticregression__class_weight=None, selectkbest__k=3, score=0.15384615384615385, total=   0.0s\n",
            "[CV] logisticregression__C=10.0, logisticregression__class_weight=None, selectkbest__k=4 \n",
            "[CV]  logisticregression__C=10.0, logisticregression__class_weight=None, selectkbest__k=4, score=0.07692307692307693, total=   0.0s\n",
            "[CV] logisticregression__C=10.0, logisticregression__class_weight=None, selectkbest__k=4 \n",
            "[CV]  logisticregression__C=10.0, logisticregression__class_weight=None, selectkbest__k=4, score=0.07692307692307693, total=   0.0s\n",
            "[CV] logisticregression__C=10.0, logisticregression__class_weight=None, selectkbest__k=4 \n",
            "[CV]  logisticregression__C=10.0, logisticregression__class_weight=None, selectkbest__k=4, score=0.15384615384615385, total=   0.0s\n",
            "[CV] logisticregression__C=10.0, logisticregression__class_weight=None, selectkbest__k=4 \n",
            "[CV]  logisticregression__C=10.0, logisticregression__class_weight=None, selectkbest__k=4, score=0.07692307692307693, total=   0.0s\n",
            "[CV] logisticregression__C=10.0, logisticregression__class_weight=None, selectkbest__k=4 \n",
            "[CV]  logisticregression__C=10.0, logisticregression__class_weight=None, selectkbest__k=4, score=0.15384615384615385, total=   0.0s\n",
            "[CV] logisticregression__C=10.0, logisticregression__class_weight=balanced, selectkbest__k=1 \n",
            "[CV]  logisticregression__C=10.0, logisticregression__class_weight=balanced, selectkbest__k=1, score=0.7307692307692307, total=   0.0s\n",
            "[CV] logisticregression__C=10.0, logisticregression__class_weight=balanced, selectkbest__k=1 \n",
            "[CV]  logisticregression__C=10.0, logisticregression__class_weight=balanced, selectkbest__k=1, score=0.6153846153846154, total=   0.0s\n",
            "[CV] logisticregression__C=10.0, logisticregression__class_weight=balanced, selectkbest__k=1 \n",
            "[CV]  logisticregression__C=10.0, logisticregression__class_weight=balanced, selectkbest__k=1, score=0.8846153846153846, total=   0.0s\n",
            "[CV] logisticregression__C=10.0, logisticregression__class_weight=balanced, selectkbest__k=1 \n",
            "[CV]  logisticregression__C=10.0, logisticregression__class_weight=balanced, selectkbest__k=1, score=0.8846153846153846, total=   0.0s\n",
            "[CV] logisticregression__C=10.0, logisticregression__class_weight=balanced, selectkbest__k=1 \n",
            "[CV]  logisticregression__C=10.0, logisticregression__class_weight=balanced, selectkbest__k=1, score=0.8076923076923077, total=   0.0s\n",
            "[CV] logisticregression__C=10.0, logisticregression__class_weight=balanced, selectkbest__k=2 \n",
            "[CV]  logisticregression__C=10.0, logisticregression__class_weight=balanced, selectkbest__k=2, score=0.7307692307692307, total=   0.0s\n",
            "[CV] logisticregression__C=10.0, logisticregression__class_weight=balanced, selectkbest__k=2 \n",
            "[CV]  logisticregression__C=10.0, logisticregression__class_weight=balanced, selectkbest__k=2, score=0.6153846153846154, total=   0.0s\n",
            "[CV] logisticregression__C=10.0, logisticregression__class_weight=balanced, selectkbest__k=2 \n",
            "[CV]  logisticregression__C=10.0, logisticregression__class_weight=balanced, selectkbest__k=2, score=0.8846153846153846, total=   0.0s\n",
            "[CV] logisticregression__C=10.0, logisticregression__class_weight=balanced, selectkbest__k=2 \n",
            "[CV]  logisticregression__C=10.0, logisticregression__class_weight=balanced, selectkbest__k=2, score=0.8461538461538461, total=   0.0s\n",
            "[CV] logisticregression__C=10.0, logisticregression__class_weight=balanced, selectkbest__k=2 \n",
            "[CV]  logisticregression__C=10.0, logisticregression__class_weight=balanced, selectkbest__k=2, score=0.8461538461538461, total=   0.0s\n",
            "[CV] logisticregression__C=10.0, logisticregression__class_weight=balanced, selectkbest__k=3 \n",
            "[CV]  logisticregression__C=10.0, logisticregression__class_weight=balanced, selectkbest__k=3, score=0.7307692307692307, total=   0.0s\n",
            "[CV] logisticregression__C=10.0, logisticregression__class_weight=balanced, selectkbest__k=3 \n",
            "[CV]  logisticregression__C=10.0, logisticregression__class_weight=balanced, selectkbest__k=3, score=0.6153846153846154, total=   0.0s\n",
            "[CV] logisticregression__C=10.0, logisticregression__class_weight=balanced, selectkbest__k=3 \n",
            "[CV]  logisticregression__C=10.0, logisticregression__class_weight=balanced, selectkbest__k=3, score=0.8846153846153846, total=   0.0s\n",
            "[CV] logisticregression__C=10.0, logisticregression__class_weight=balanced, selectkbest__k=3 \n",
            "[CV]  logisticregression__C=10.0, logisticregression__class_weight=balanced, selectkbest__k=3, score=0.8461538461538461, total=   0.0s\n",
            "[CV] logisticregression__C=10.0, logisticregression__class_weight=balanced, selectkbest__k=3 \n",
            "[CV]  logisticregression__C=10.0, logisticregression__class_weight=balanced, selectkbest__k=3, score=0.8461538461538461, total=   0.0s\n",
            "[CV] logisticregression__C=10.0, logisticregression__class_weight=balanced, selectkbest__k=4 \n",
            "[CV]  logisticregression__C=10.0, logisticregression__class_weight=balanced, selectkbest__k=4, score=0.7307692307692307, total=   0.0s\n",
            "[CV] logisticregression__C=10.0, logisticregression__class_weight=balanced, selectkbest__k=4 \n",
            "[CV]  logisticregression__C=10.0, logisticregression__class_weight=balanced, selectkbest__k=4, score=0.5384615384615384, total=   0.0s\n",
            "[CV] logisticregression__C=10.0, logisticregression__class_weight=balanced, selectkbest__k=4 \n",
            "[CV]  logisticregression__C=10.0, logisticregression__class_weight=balanced, selectkbest__k=4, score=0.8461538461538461, total=   0.0s\n",
            "[CV] logisticregression__C=10.0, logisticregression__class_weight=balanced, selectkbest__k=4 \n",
            "[CV]  logisticregression__C=10.0, logisticregression__class_weight=balanced, selectkbest__k=4, score=0.8461538461538461, total=   0.0s\n",
            "[CV] logisticregression__C=10.0, logisticregression__class_weight=balanced, selectkbest__k=4 \n",
            "[CV]  logisticregression__C=10.0, logisticregression__class_weight=balanced, selectkbest__k=4, score=0.8076923076923077, total=   0.0s\n",
            "[CV] logisticregression__C=100.0, logisticregression__class_weight=None, selectkbest__k=1 \n",
            "[CV]  logisticregression__C=100.0, logisticregression__class_weight=None, selectkbest__k=1, score=0.0, total=   0.0s\n",
            "[CV] logisticregression__C=100.0, logisticregression__class_weight=None, selectkbest__k=1 \n",
            "[CV]  logisticregression__C=100.0, logisticregression__class_weight=None, selectkbest__k=1, score=0.0, total=   0.0s\n",
            "[CV] logisticregression__C=100.0, logisticregression__class_weight=None, selectkbest__k=1 \n",
            "[CV]  logisticregression__C=100.0, logisticregression__class_weight=None, selectkbest__k=1, score=0.0, total=   0.0s\n",
            "[CV] logisticregression__C=100.0, logisticregression__class_weight=None, selectkbest__k=1 \n",
            "[CV]  logisticregression__C=100.0, logisticregression__class_weight=None, selectkbest__k=1, score=0.0, total=   0.0s\n",
            "[CV] logisticregression__C=100.0, logisticregression__class_weight=None, selectkbest__k=1 \n",
            "[CV]  logisticregression__C=100.0, logisticregression__class_weight=None, selectkbest__k=1, score=0.0, total=   0.0s\n",
            "[CV] logisticregression__C=100.0, logisticregression__class_weight=None, selectkbest__k=2 \n",
            "[CV]  logisticregression__C=100.0, logisticregression__class_weight=None, selectkbest__k=2, score=0.07692307692307693, total=   0.0s\n",
            "[CV] logisticregression__C=100.0, logisticregression__class_weight=None, selectkbest__k=2 \n",
            "[CV]  logisticregression__C=100.0, logisticregression__class_weight=None, selectkbest__k=2, score=0.038461538461538464, total=   0.0s\n",
            "[CV] logisticregression__C=100.0, logisticregression__class_weight=None, selectkbest__k=2 \n",
            "[CV]  logisticregression__C=100.0, logisticregression__class_weight=None, selectkbest__k=2, score=0.07692307692307693, total=   0.0s\n",
            "[CV] logisticregression__C=100.0, logisticregression__class_weight=None, selectkbest__k=2 \n",
            "[CV]  logisticregression__C=100.0, logisticregression__class_weight=None, selectkbest__k=2, score=0.038461538461538464, total=   0.0s\n",
            "[CV] logisticregression__C=100.0, logisticregression__class_weight=None, selectkbest__k=2 \n",
            "[CV]  logisticregression__C=100.0, logisticregression__class_weight=None, selectkbest__k=2, score=0.15384615384615385, total=   0.0s\n",
            "[CV] logisticregression__C=100.0, logisticregression__class_weight=None, selectkbest__k=3 \n",
            "[CV]  logisticregression__C=100.0, logisticregression__class_weight=None, selectkbest__k=3, score=0.07692307692307693, total=   0.0s\n",
            "[CV] logisticregression__C=100.0, logisticregression__class_weight=None, selectkbest__k=3 \n",
            "[CV]  logisticregression__C=100.0, logisticregression__class_weight=None, selectkbest__k=3, score=0.038461538461538464, total=   0.0s\n",
            "[CV] logisticregression__C=100.0, logisticregression__class_weight=None, selectkbest__k=3 \n",
            "[CV]  logisticregression__C=100.0, logisticregression__class_weight=None, selectkbest__k=3, score=0.07692307692307693, total=   0.0s\n",
            "[CV] logisticregression__C=100.0, logisticregression__class_weight=None, selectkbest__k=3 \n",
            "[CV]  logisticregression__C=100.0, logisticregression__class_weight=None, selectkbest__k=3, score=0.038461538461538464, total=   0.0s\n",
            "[CV] logisticregression__C=100.0, logisticregression__class_weight=None, selectkbest__k=3 \n",
            "[CV]  logisticregression__C=100.0, logisticregression__class_weight=None, selectkbest__k=3, score=0.15384615384615385, total=   0.0s\n",
            "[CV] logisticregression__C=100.0, logisticregression__class_weight=None, selectkbest__k=4 \n",
            "[CV]  logisticregression__C=100.0, logisticregression__class_weight=None, selectkbest__k=4, score=0.07692307692307693, total=   0.0s\n",
            "[CV] logisticregression__C=100.0, logisticregression__class_weight=None, selectkbest__k=4 \n",
            "[CV]  logisticregression__C=100.0, logisticregression__class_weight=None, selectkbest__k=4, score=0.07692307692307693, total=   0.0s\n",
            "[CV] logisticregression__C=100.0, logisticregression__class_weight=None, selectkbest__k=4 \n",
            "[CV]  logisticregression__C=100.0, logisticregression__class_weight=None, selectkbest__k=4, score=0.15384615384615385, total=   0.0s\n",
            "[CV] logisticregression__C=100.0, logisticregression__class_weight=None, selectkbest__k=4 \n",
            "[CV]  logisticregression__C=100.0, logisticregression__class_weight=None, selectkbest__k=4, score=0.07692307692307693, total=   0.0s\n",
            "[CV] logisticregression__C=100.0, logisticregression__class_weight=None, selectkbest__k=4 \n",
            "[CV]  logisticregression__C=100.0, logisticregression__class_weight=None, selectkbest__k=4, score=0.15384615384615385, total=   0.0s\n",
            "[CV] logisticregression__C=100.0, logisticregression__class_weight=balanced, selectkbest__k=1 \n",
            "[CV]  logisticregression__C=100.0, logisticregression__class_weight=balanced, selectkbest__k=1, score=0.7307692307692307, total=   0.0s\n",
            "[CV] logisticregression__C=100.0, logisticregression__class_weight=balanced, selectkbest__k=1 \n",
            "[CV]  logisticregression__C=100.0, logisticregression__class_weight=balanced, selectkbest__k=1, score=0.6153846153846154, total=   0.0s\n",
            "[CV] logisticregression__C=100.0, logisticregression__class_weight=balanced, selectkbest__k=1 \n",
            "[CV]  logisticregression__C=100.0, logisticregression__class_weight=balanced, selectkbest__k=1, score=0.8846153846153846, total=   0.0s\n",
            "[CV] logisticregression__C=100.0, logisticregression__class_weight=balanced, selectkbest__k=1 \n",
            "[CV]  logisticregression__C=100.0, logisticregression__class_weight=balanced, selectkbest__k=1, score=0.8846153846153846, total=   0.0s\n",
            "[CV] logisticregression__C=100.0, logisticregression__class_weight=balanced, selectkbest__k=1 \n",
            "[CV]  logisticregression__C=100.0, logisticregression__class_weight=balanced, selectkbest__k=1, score=0.8076923076923077, total=   0.0s\n",
            "[CV] logisticregression__C=100.0, logisticregression__class_weight=balanced, selectkbest__k=2 \n",
            "[CV]  logisticregression__C=100.0, logisticregression__class_weight=balanced, selectkbest__k=2, score=0.7307692307692307, total=   0.0s\n",
            "[CV] logisticregression__C=100.0, logisticregression__class_weight=balanced, selectkbest__k=2 \n",
            "[CV]  logisticregression__C=100.0, logisticregression__class_weight=balanced, selectkbest__k=2, score=0.6153846153846154, total=   0.0s\n",
            "[CV] logisticregression__C=100.0, logisticregression__class_weight=balanced, selectkbest__k=2 \n",
            "[CV]  logisticregression__C=100.0, logisticregression__class_weight=balanced, selectkbest__k=2, score=0.8846153846153846, total=   0.0s\n",
            "[CV] logisticregression__C=100.0, logisticregression__class_weight=balanced, selectkbest__k=2 \n",
            "[CV]  logisticregression__C=100.0, logisticregression__class_weight=balanced, selectkbest__k=2, score=0.8461538461538461, total=   0.0s\n",
            "[CV] logisticregression__C=100.0, logisticregression__class_weight=balanced, selectkbest__k=2 \n",
            "[CV]  logisticregression__C=100.0, logisticregression__class_weight=balanced, selectkbest__k=2, score=0.8461538461538461, total=   0.0s\n",
            "[CV] logisticregression__C=100.0, logisticregression__class_weight=balanced, selectkbest__k=3 \n",
            "[CV]  logisticregression__C=100.0, logisticregression__class_weight=balanced, selectkbest__k=3, score=0.7307692307692307, total=   0.0s\n",
            "[CV] logisticregression__C=100.0, logisticregression__class_weight=balanced, selectkbest__k=3 \n",
            "[CV]  logisticregression__C=100.0, logisticregression__class_weight=balanced, selectkbest__k=3, score=0.6153846153846154, total=   0.0s\n",
            "[CV] logisticregression__C=100.0, logisticregression__class_weight=balanced, selectkbest__k=3 \n",
            "[CV]  logisticregression__C=100.0, logisticregression__class_weight=balanced, selectkbest__k=3, score=0.8846153846153846, total=   0.0s\n",
            "[CV] logisticregression__C=100.0, logisticregression__class_weight=balanced, selectkbest__k=3 \n",
            "[CV]  logisticregression__C=100.0, logisticregression__class_weight=balanced, selectkbest__k=3, score=0.8461538461538461, total=   0.0s\n",
            "[CV] logisticregression__C=100.0, logisticregression__class_weight=balanced, selectkbest__k=3 \n",
            "[CV]  logisticregression__C=100.0, logisticregression__class_weight=balanced, selectkbest__k=3, score=0.8461538461538461, total=   0.0s\n",
            "[CV] logisticregression__C=100.0, logisticregression__class_weight=balanced, selectkbest__k=4 \n",
            "[CV]  logisticregression__C=100.0, logisticregression__class_weight=balanced, selectkbest__k=4, score=0.7307692307692307, total=   0.0s\n",
            "[CV] logisticregression__C=100.0, logisticregression__class_weight=balanced, selectkbest__k=4 \n",
            "[CV]  logisticregression__C=100.0, logisticregression__class_weight=balanced, selectkbest__k=4, score=0.5384615384615384, total=   0.0s\n",
            "[CV] logisticregression__C=100.0, logisticregression__class_weight=balanced, selectkbest__k=4 \n",
            "[CV]  logisticregression__C=100.0, logisticregression__class_weight=balanced, selectkbest__k=4, score=0.8461538461538461, total=   0.0s\n",
            "[CV] logisticregression__C=100.0, logisticregression__class_weight=balanced, selectkbest__k=4 \n",
            "[CV]  logisticregression__C=100.0, logisticregression__class_weight=balanced, selectkbest__k=4, score=0.8461538461538461, total=   0.0s\n",
            "[CV] logisticregression__C=100.0, logisticregression__class_weight=balanced, selectkbest__k=4 \n",
            "[CV]  logisticregression__C=100.0, logisticregression__class_weight=balanced, selectkbest__k=4, score=0.8076923076923077, total=   0.0s\n",
            "[CV] logisticregression__C=1000.0, logisticregression__class_weight=None, selectkbest__k=1 \n",
            "[CV]  logisticregression__C=1000.0, logisticregression__class_weight=None, selectkbest__k=1, score=0.0, total=   0.0s\n",
            "[CV] logisticregression__C=1000.0, logisticregression__class_weight=None, selectkbest__k=1 \n",
            "[CV]  logisticregression__C=1000.0, logisticregression__class_weight=None, selectkbest__k=1, score=0.0, total=   0.0s\n",
            "[CV] logisticregression__C=1000.0, logisticregression__class_weight=None, selectkbest__k=1 \n",
            "[CV]  logisticregression__C=1000.0, logisticregression__class_weight=None, selectkbest__k=1, score=0.0, total=   0.0s\n",
            "[CV] logisticregression__C=1000.0, logisticregression__class_weight=None, selectkbest__k=1 \n",
            "[CV]  logisticregression__C=1000.0, logisticregression__class_weight=None, selectkbest__k=1, score=0.0, total=   0.0s\n",
            "[CV] logisticregression__C=1000.0, logisticregression__class_weight=None, selectkbest__k=1 \n",
            "[CV]  logisticregression__C=1000.0, logisticregression__class_weight=None, selectkbest__k=1, score=0.0, total=   0.0s\n",
            "[CV] logisticregression__C=1000.0, logisticregression__class_weight=None, selectkbest__k=2 \n",
            "[CV]  logisticregression__C=1000.0, logisticregression__class_weight=None, selectkbest__k=2, score=0.07692307692307693, total=   0.0s\n",
            "[CV] logisticregression__C=1000.0, logisticregression__class_weight=None, selectkbest__k=2 \n",
            "[CV]  logisticregression__C=1000.0, logisticregression__class_weight=None, selectkbest__k=2, score=0.038461538461538464, total=   0.0s\n",
            "[CV] logisticregression__C=1000.0, logisticregression__class_weight=None, selectkbest__k=2 \n",
            "[CV]  logisticregression__C=1000.0, logisticregression__class_weight=None, selectkbest__k=2, score=0.07692307692307693, total=   0.0s\n",
            "[CV] logisticregression__C=1000.0, logisticregression__class_weight=None, selectkbest__k=2 \n",
            "[CV]  logisticregression__C=1000.0, logisticregression__class_weight=None, selectkbest__k=2, score=0.038461538461538464, total=   0.0s\n",
            "[CV] logisticregression__C=1000.0, logisticregression__class_weight=None, selectkbest__k=2 \n",
            "[CV]  logisticregression__C=1000.0, logisticregression__class_weight=None, selectkbest__k=2, score=0.15384615384615385, total=   0.0s\n",
            "[CV] logisticregression__C=1000.0, logisticregression__class_weight=None, selectkbest__k=3 \n",
            "[CV]  logisticregression__C=1000.0, logisticregression__class_weight=None, selectkbest__k=3, score=0.07692307692307693, total=   0.0s\n",
            "[CV] logisticregression__C=1000.0, logisticregression__class_weight=None, selectkbest__k=3 \n",
            "[CV]  logisticregression__C=1000.0, logisticregression__class_weight=None, selectkbest__k=3, score=0.038461538461538464, total=   0.0s\n",
            "[CV] logisticregression__C=1000.0, logisticregression__class_weight=None, selectkbest__k=3 \n",
            "[CV]  logisticregression__C=1000.0, logisticregression__class_weight=None, selectkbest__k=3, score=0.07692307692307693, total=   0.0s\n",
            "[CV] logisticregression__C=1000.0, logisticregression__class_weight=None, selectkbest__k=3 \n",
            "[CV]  logisticregression__C=1000.0, logisticregression__class_weight=None, selectkbest__k=3, score=0.038461538461538464, total=   0.0s\n",
            "[CV] logisticregression__C=1000.0, logisticregression__class_weight=None, selectkbest__k=3 \n",
            "[CV]  logisticregression__C=1000.0, logisticregression__class_weight=None, selectkbest__k=3, score=0.15384615384615385, total=   0.0s\n",
            "[CV] logisticregression__C=1000.0, logisticregression__class_weight=None, selectkbest__k=4 \n",
            "[CV]  logisticregression__C=1000.0, logisticregression__class_weight=None, selectkbest__k=4, score=0.07692307692307693, total=   0.0s\n",
            "[CV] logisticregression__C=1000.0, logisticregression__class_weight=None, selectkbest__k=4 \n",
            "[CV]  logisticregression__C=1000.0, logisticregression__class_weight=None, selectkbest__k=4, score=0.07692307692307693, total=   0.0s\n",
            "[CV] logisticregression__C=1000.0, logisticregression__class_weight=None, selectkbest__k=4 \n",
            "[CV]  logisticregression__C=1000.0, logisticregression__class_weight=None, selectkbest__k=4, score=0.15384615384615385, total=   0.0s\n",
            "[CV] logisticregression__C=1000.0, logisticregression__class_weight=None, selectkbest__k=4 \n",
            "[CV]  logisticregression__C=1000.0, logisticregression__class_weight=None, selectkbest__k=4, score=0.07692307692307693, total=   0.0s\n",
            "[CV] logisticregression__C=1000.0, logisticregression__class_weight=None, selectkbest__k=4 \n",
            "[CV]  logisticregression__C=1000.0, logisticregression__class_weight=None, selectkbest__k=4, score=0.15384615384615385, total=   0.0s\n",
            "[CV] logisticregression__C=1000.0, logisticregression__class_weight=balanced, selectkbest__k=1 \n",
            "[CV]  logisticregression__C=1000.0, logisticregression__class_weight=balanced, selectkbest__k=1, score=0.7307692307692307, total=   0.0s\n",
            "[CV] logisticregression__C=1000.0, logisticregression__class_weight=balanced, selectkbest__k=1 \n",
            "[CV]  logisticregression__C=1000.0, logisticregression__class_weight=balanced, selectkbest__k=1, score=0.6153846153846154, total=   0.0s\n",
            "[CV] logisticregression__C=1000.0, logisticregression__class_weight=balanced, selectkbest__k=1 \n",
            "[CV]  logisticregression__C=1000.0, logisticregression__class_weight=balanced, selectkbest__k=1, score=0.8846153846153846, total=   0.0s\n",
            "[CV] logisticregression__C=1000.0, logisticregression__class_weight=balanced, selectkbest__k=1 \n",
            "[CV]  logisticregression__C=1000.0, logisticregression__class_weight=balanced, selectkbest__k=1, score=0.8846153846153846, total=   0.0s\n",
            "[CV] logisticregression__C=1000.0, logisticregression__class_weight=balanced, selectkbest__k=1 \n",
            "[CV]  logisticregression__C=1000.0, logisticregression__class_weight=balanced, selectkbest__k=1, score=0.8076923076923077, total=   0.0s\n",
            "[CV] logisticregression__C=1000.0, logisticregression__class_weight=balanced, selectkbest__k=2 \n",
            "[CV]  logisticregression__C=1000.0, logisticregression__class_weight=balanced, selectkbest__k=2, score=0.7307692307692307, total=   0.0s\n",
            "[CV] logisticregression__C=1000.0, logisticregression__class_weight=balanced, selectkbest__k=2 \n",
            "[CV]  logisticregression__C=1000.0, logisticregression__class_weight=balanced, selectkbest__k=2, score=0.6153846153846154, total=   0.0s\n",
            "[CV] logisticregression__C=1000.0, logisticregression__class_weight=balanced, selectkbest__k=2 \n",
            "[CV]  logisticregression__C=1000.0, logisticregression__class_weight=balanced, selectkbest__k=2, score=0.8846153846153846, total=   0.0s\n",
            "[CV] logisticregression__C=1000.0, logisticregression__class_weight=balanced, selectkbest__k=2 \n",
            "[CV]  logisticregression__C=1000.0, logisticregression__class_weight=balanced, selectkbest__k=2, score=0.8461538461538461, total=   0.0s\n",
            "[CV] logisticregression__C=1000.0, logisticregression__class_weight=balanced, selectkbest__k=2 \n",
            "[CV]  logisticregression__C=1000.0, logisticregression__class_weight=balanced, selectkbest__k=2, score=0.8461538461538461, total=   0.0s\n",
            "[CV] logisticregression__C=1000.0, logisticregression__class_weight=balanced, selectkbest__k=3 \n",
            "[CV]  logisticregression__C=1000.0, logisticregression__class_weight=balanced, selectkbest__k=3, score=0.7307692307692307, total=   0.0s\n",
            "[CV] logisticregression__C=1000.0, logisticregression__class_weight=balanced, selectkbest__k=3 \n",
            "[CV]  logisticregression__C=1000.0, logisticregression__class_weight=balanced, selectkbest__k=3, score=0.6153846153846154, total=   0.0s\n",
            "[CV] logisticregression__C=1000.0, logisticregression__class_weight=balanced, selectkbest__k=3 \n",
            "[CV]  logisticregression__C=1000.0, logisticregression__class_weight=balanced, selectkbest__k=3, score=0.8846153846153846, total=   0.0s\n",
            "[CV] logisticregression__C=1000.0, logisticregression__class_weight=balanced, selectkbest__k=3 \n",
            "[CV]  logisticregression__C=1000.0, logisticregression__class_weight=balanced, selectkbest__k=3, score=0.8461538461538461, total=   0.0s\n",
            "[CV] logisticregression__C=1000.0, logisticregression__class_weight=balanced, selectkbest__k=3 \n",
            "[CV]  logisticregression__C=1000.0, logisticregression__class_weight=balanced, selectkbest__k=3, score=0.8461538461538461, total=   0.0s\n",
            "[CV] logisticregression__C=1000.0, logisticregression__class_weight=balanced, selectkbest__k=4 \n",
            "[CV]  logisticregression__C=1000.0, logisticregression__class_weight=balanced, selectkbest__k=4, score=0.7307692307692307, total=   0.0s\n",
            "[CV] logisticregression__C=1000.0, logisticregression__class_weight=balanced, selectkbest__k=4 \n",
            "[CV]  logisticregression__C=1000.0, logisticregression__class_weight=balanced, selectkbest__k=4, score=0.5384615384615384, total=   0.0s\n",
            "[CV] logisticregression__C=1000.0, logisticregression__class_weight=balanced, selectkbest__k=4 \n",
            "[CV]  logisticregression__C=1000.0, logisticregression__class_weight=balanced, selectkbest__k=4, score=0.8461538461538461, total=   0.0s\n",
            "[CV] logisticregression__C=1000.0, logisticregression__class_weight=balanced, selectkbest__k=4 \n",
            "[CV]  logisticregression__C=1000.0, logisticregression__class_weight=balanced, selectkbest__k=4, score=0.8461538461538461, total=   0.0s\n",
            "[CV] logisticregression__C=1000.0, logisticregression__class_weight=balanced, selectkbest__k=4 \n",
            "[CV]  logisticregression__C=1000.0, logisticregression__class_weight=balanced, selectkbest__k=4, score=0.8076923076923077, total=   0.0s\n",
            "[CV] logisticregression__C=10000.0, logisticregression__class_weight=None, selectkbest__k=1 \n",
            "[CV]  logisticregression__C=10000.0, logisticregression__class_weight=None, selectkbest__k=1, score=0.0, total=   0.0s\n",
            "[CV] logisticregression__C=10000.0, logisticregression__class_weight=None, selectkbest__k=1 \n",
            "[CV]  logisticregression__C=10000.0, logisticregression__class_weight=None, selectkbest__k=1, score=0.0, total=   0.0s\n",
            "[CV] logisticregression__C=10000.0, logisticregression__class_weight=None, selectkbest__k=1 \n",
            "[CV]  logisticregression__C=10000.0, logisticregression__class_weight=None, selectkbest__k=1, score=0.0, total=   0.0s\n",
            "[CV] logisticregression__C=10000.0, logisticregression__class_weight=None, selectkbest__k=1 \n",
            "[CV]  logisticregression__C=10000.0, logisticregression__class_weight=None, selectkbest__k=1, score=0.0, total=   0.0s\n",
            "[CV] logisticregression__C=10000.0, logisticregression__class_weight=None, selectkbest__k=1 \n",
            "[CV]  logisticregression__C=10000.0, logisticregression__class_weight=None, selectkbest__k=1, score=0.0, total=   0.0s\n",
            "[CV] logisticregression__C=10000.0, logisticregression__class_weight=None, selectkbest__k=2 \n",
            "[CV]  logisticregression__C=10000.0, logisticregression__class_weight=None, selectkbest__k=2, score=0.07692307692307693, total=   0.0s\n",
            "[CV] logisticregression__C=10000.0, logisticregression__class_weight=None, selectkbest__k=2 \n",
            "[CV]  logisticregression__C=10000.0, logisticregression__class_weight=None, selectkbest__k=2, score=0.038461538461538464, total=   0.0s\n",
            "[CV] logisticregression__C=10000.0, logisticregression__class_weight=None, selectkbest__k=2 \n",
            "[CV]  logisticregression__C=10000.0, logisticregression__class_weight=None, selectkbest__k=2, score=0.07692307692307693, total=   0.0s\n",
            "[CV] logisticregression__C=10000.0, logisticregression__class_weight=None, selectkbest__k=2 \n",
            "[CV]  logisticregression__C=10000.0, logisticregression__class_weight=None, selectkbest__k=2, score=0.038461538461538464, total=   0.0s\n",
            "[CV] logisticregression__C=10000.0, logisticregression__class_weight=None, selectkbest__k=2 \n",
            "[CV]  logisticregression__C=10000.0, logisticregression__class_weight=None, selectkbest__k=2, score=0.15384615384615385, total=   0.0s\n",
            "[CV] logisticregression__C=10000.0, logisticregression__class_weight=None, selectkbest__k=3 \n",
            "[CV]  logisticregression__C=10000.0, logisticregression__class_weight=None, selectkbest__k=3, score=0.07692307692307693, total=   0.0s\n",
            "[CV] logisticregression__C=10000.0, logisticregression__class_weight=None, selectkbest__k=3 \n",
            "[CV]  logisticregression__C=10000.0, logisticregression__class_weight=None, selectkbest__k=3, score=0.038461538461538464, total=   0.0s\n",
            "[CV] logisticregression__C=10000.0, logisticregression__class_weight=None, selectkbest__k=3 \n",
            "[CV]  logisticregression__C=10000.0, logisticregression__class_weight=None, selectkbest__k=3, score=0.07692307692307693, total=   0.0s\n",
            "[CV] logisticregression__C=10000.0, logisticregression__class_weight=None, selectkbest__k=3 \n",
            "[CV]  logisticregression__C=10000.0, logisticregression__class_weight=None, selectkbest__k=3, score=0.038461538461538464, total=   0.0s\n",
            "[CV] logisticregression__C=10000.0, logisticregression__class_weight=None, selectkbest__k=3 \n",
            "[CV]  logisticregression__C=10000.0, logisticregression__class_weight=None, selectkbest__k=3, score=0.15384615384615385, total=   0.0s\n",
            "[CV] logisticregression__C=10000.0, logisticregression__class_weight=None, selectkbest__k=4 \n",
            "[CV]  logisticregression__C=10000.0, logisticregression__class_weight=None, selectkbest__k=4, score=0.07692307692307693, total=   0.0s\n",
            "[CV] logisticregression__C=10000.0, logisticregression__class_weight=None, selectkbest__k=4 \n",
            "[CV]  logisticregression__C=10000.0, logisticregression__class_weight=None, selectkbest__k=4, score=0.07692307692307693, total=   0.0s\n",
            "[CV] logisticregression__C=10000.0, logisticregression__class_weight=None, selectkbest__k=4 \n",
            "[CV]  logisticregression__C=10000.0, logisticregression__class_weight=None, selectkbest__k=4, score=0.15384615384615385, total=   0.0s\n",
            "[CV] logisticregression__C=10000.0, logisticregression__class_weight=None, selectkbest__k=4 \n",
            "[CV]  logisticregression__C=10000.0, logisticregression__class_weight=None, selectkbest__k=4, score=0.07692307692307693, total=   0.0s\n",
            "[CV] logisticregression__C=10000.0, logisticregression__class_weight=None, selectkbest__k=4 \n",
            "[CV]  logisticregression__C=10000.0, logisticregression__class_weight=None, selectkbest__k=4, score=0.15384615384615385, total=   0.0s\n",
            "[CV] logisticregression__C=10000.0, logisticregression__class_weight=balanced, selectkbest__k=1 \n",
            "[CV]  logisticregression__C=10000.0, logisticregression__class_weight=balanced, selectkbest__k=1, score=0.7307692307692307, total=   0.0s\n",
            "[CV] logisticregression__C=10000.0, logisticregression__class_weight=balanced, selectkbest__k=1 \n",
            "[CV]  logisticregression__C=10000.0, logisticregression__class_weight=balanced, selectkbest__k=1, score=0.6153846153846154, total=   0.0s\n",
            "[CV] logisticregression__C=10000.0, logisticregression__class_weight=balanced, selectkbest__k=1 \n",
            "[CV]  logisticregression__C=10000.0, logisticregression__class_weight=balanced, selectkbest__k=1, score=0.8846153846153846, total=   0.0s\n",
            "[CV] logisticregression__C=10000.0, logisticregression__class_weight=balanced, selectkbest__k=1 \n",
            "[CV]  logisticregression__C=10000.0, logisticregression__class_weight=balanced, selectkbest__k=1, score=0.8846153846153846, total=   0.0s\n",
            "[CV] logisticregression__C=10000.0, logisticregression__class_weight=balanced, selectkbest__k=1 \n",
            "[CV]  logisticregression__C=10000.0, logisticregression__class_weight=balanced, selectkbest__k=1, score=0.8076923076923077, total=   0.0s\n",
            "[CV] logisticregression__C=10000.0, logisticregression__class_weight=balanced, selectkbest__k=2 \n",
            "[CV]  logisticregression__C=10000.0, logisticregression__class_weight=balanced, selectkbest__k=2, score=0.7307692307692307, total=   0.0s\n",
            "[CV] logisticregression__C=10000.0, logisticregression__class_weight=balanced, selectkbest__k=2 \n",
            "[CV]  logisticregression__C=10000.0, logisticregression__class_weight=balanced, selectkbest__k=2, score=0.6153846153846154, total=   0.0s\n",
            "[CV] logisticregression__C=10000.0, logisticregression__class_weight=balanced, selectkbest__k=2 \n",
            "[CV]  logisticregression__C=10000.0, logisticregression__class_weight=balanced, selectkbest__k=2, score=0.8846153846153846, total=   0.0s\n",
            "[CV] logisticregression__C=10000.0, logisticregression__class_weight=balanced, selectkbest__k=2 \n",
            "[CV]  logisticregression__C=10000.0, logisticregression__class_weight=balanced, selectkbest__k=2, score=0.8461538461538461, total=   0.0s\n",
            "[CV] logisticregression__C=10000.0, logisticregression__class_weight=balanced, selectkbest__k=2 \n",
            "[CV]  logisticregression__C=10000.0, logisticregression__class_weight=balanced, selectkbest__k=2, score=0.8461538461538461, total=   0.0s\n",
            "[CV] logisticregression__C=10000.0, logisticregression__class_weight=balanced, selectkbest__k=3 \n",
            "[CV]  logisticregression__C=10000.0, logisticregression__class_weight=balanced, selectkbest__k=3, score=0.7307692307692307, total=   0.0s\n",
            "[CV] logisticregression__C=10000.0, logisticregression__class_weight=balanced, selectkbest__k=3 \n",
            "[CV]  logisticregression__C=10000.0, logisticregression__class_weight=balanced, selectkbest__k=3, score=0.6153846153846154, total=   0.0s\n",
            "[CV] logisticregression__C=10000.0, logisticregression__class_weight=balanced, selectkbest__k=3 \n",
            "[CV]  logisticregression__C=10000.0, logisticregression__class_weight=balanced, selectkbest__k=3, score=0.8846153846153846, total=   0.0s\n",
            "[CV] logisticregression__C=10000.0, logisticregression__class_weight=balanced, selectkbest__k=3 \n",
            "[CV]  logisticregression__C=10000.0, logisticregression__class_weight=balanced, selectkbest__k=3, score=0.8461538461538461, total=   0.0s\n",
            "[CV] logisticregression__C=10000.0, logisticregression__class_weight=balanced, selectkbest__k=3 \n",
            "[CV]  logisticregression__C=10000.0, logisticregression__class_weight=balanced, selectkbest__k=3, score=0.8461538461538461, total=   0.0s\n",
            "[CV] logisticregression__C=10000.0, logisticregression__class_weight=balanced, selectkbest__k=4 \n",
            "[CV]  logisticregression__C=10000.0, logisticregression__class_weight=balanced, selectkbest__k=4, score=0.7307692307692307, total=   0.0s\n",
            "[CV] logisticregression__C=10000.0, logisticregression__class_weight=balanced, selectkbest__k=4 \n",
            "[CV]  logisticregression__C=10000.0, logisticregression__class_weight=balanced, selectkbest__k=4, score=0.5384615384615384, total=   0.0s\n",
            "[CV] logisticregression__C=10000.0, logisticregression__class_weight=balanced, selectkbest__k=4 \n",
            "[CV]  logisticregression__C=10000.0, logisticregression__class_weight=balanced, selectkbest__k=4, score=0.8461538461538461, total=   0.0s\n",
            "[CV] logisticregression__C=10000.0, logisticregression__class_weight=balanced, selectkbest__k=4 \n",
            "[CV]  logisticregression__C=10000.0, logisticregression__class_weight=balanced, selectkbest__k=4, score=0.8461538461538461, total=   0.0s\n",
            "[CV] logisticregression__C=10000.0, logisticregression__class_weight=balanced, selectkbest__k=4 \n",
            "[CV]  logisticregression__C=10000.0, logisticregression__class_weight=balanced, selectkbest__k=4, score=0.8076923076923077, total=   0.0s\n"
          ],
          "name": "stdout"
        },
        {
          "output_type": "stream",
          "text": [
            "[Parallel(n_jobs=1)]: Done 360 out of 360 | elapsed:    4.1s finished\n",
            "/usr/local/lib/python3.6/dist-packages/sklearn/model_selection/_search.py:841: DeprecationWarning: The default of the `iid` parameter will change from True to False in version 0.22 and will be removed in 0.24. This will change numeric results when test-set sizes are unequal.\n",
            "  DeprecationWarning)\n"
          ],
          "name": "stderr"
        },
        {
          "output_type": "execute_result",
          "data": {
            "text/plain": [
              "GridSearchCV(cv=5, error_score='raise-deprecating',\n",
              "       estimator=Pipeline(memory=None,\n",
              "     steps=[('robustscaler', RobustScaler(copy=True, quantile_range=(25.0, 75.0), with_centering=True,\n",
              "       with_scaling=True)), ('selectkbest', SelectKBest(k=10, score_func=<function f_classif at 0x7f02fd0d3510>)), ('logisticregression', LogisticRegression(C=1.0, class_weight=None, dual=False, fit_int...enalty='l2', random_state=None, solver='lbfgs',\n",
              "          tol=0.0001, verbose=0, warm_start=False))]),\n",
              "       fit_params=None, iid='warn', n_jobs=None,\n",
              "       param_grid={'selectkbest__k': [1, 2, 3, 4], 'logisticregression__class_weight': [None, 'balanced'], 'logisticregression__C': [0.0001, 0.001, 0.01, 0.1, 1.0, 10.0, 100.0, 1000.0, 10000.0]},\n",
              "       pre_dispatch='2*n_jobs', refit=True, return_train_score=True,\n",
              "       scoring='recall', verbose=5)"
            ]
          },
          "metadata": {
            "tags": []
          },
          "execution_count": 44
        }
      ]
    },
    {
      "metadata": {
        "colab_type": "text",
        "id": "urY_Wp3AiF83"
      },
      "cell_type": "markdown",
      "source": [
        "## Part 3 — Show best score and parameters\n",
        "\n",
        "Display your **best cross-validation score**, and the **best parameters** (the values of `k, class_weight, C`) from the grid search.\n",
        "\n",
        "(You're not evaluated here on how good your score is, or which parameters you find. You're only evaluated on being able to display the information. There are several ways you can get the information, and any way is acceptable.)"
      ]
    },
    {
      "metadata": {
        "colab_type": "code",
        "id": "qAxxkjG7gACP",
        "colab": {
          "base_uri": "https://localhost:8080/",
          "height": 762
        },
        "outputId": "6b98fc80-b61b-46ef-b1d2-5ee9ede665c9"
      },
      "cell_type": "code",
      "source": [
        "results = pd.DataFrame(gridsearch.cv_results_)\n",
        "\n",
        "results.sort_values(by='rank_test_score').head(1).T"
      ],
      "execution_count": 49,
      "outputs": [
        {
          "output_type": "execute_result",
          "data": {
            "text/html": [
              "<div>\n",
              "<style scoped>\n",
              "    .dataframe tbody tr th:only-of-type {\n",
              "        vertical-align: middle;\n",
              "    }\n",
              "\n",
              "    .dataframe tbody tr th {\n",
              "        vertical-align: top;\n",
              "    }\n",
              "\n",
              "    .dataframe thead th {\n",
              "        text-align: right;\n",
              "    }\n",
              "</style>\n",
              "<table border=\"1\" class=\"dataframe\">\n",
              "  <thead>\n",
              "    <tr style=\"text-align: right;\">\n",
              "      <th></th>\n",
              "      <th>53</th>\n",
              "    </tr>\n",
              "  </thead>\n",
              "  <tbody>\n",
              "    <tr>\n",
              "      <th>mean_fit_time</th>\n",
              "      <td>0.00648942</td>\n",
              "    </tr>\n",
              "    <tr>\n",
              "      <th>mean_score_time</th>\n",
              "      <td>0.00135961</td>\n",
              "    </tr>\n",
              "    <tr>\n",
              "      <th>mean_test_score</th>\n",
              "      <td>0.784519</td>\n",
              "    </tr>\n",
              "    <tr>\n",
              "      <th>mean_train_score</th>\n",
              "      <td>0.784615</td>\n",
              "    </tr>\n",
              "    <tr>\n",
              "      <th>param_logisticregression__C</th>\n",
              "      <td>100</td>\n",
              "    </tr>\n",
              "    <tr>\n",
              "      <th>param_logisticregression__class_weight</th>\n",
              "      <td>balanced</td>\n",
              "    </tr>\n",
              "    <tr>\n",
              "      <th>param_selectkbest__k</th>\n",
              "      <td>2</td>\n",
              "    </tr>\n",
              "    <tr>\n",
              "      <th>params</th>\n",
              "      <td>{'logisticregression__C': 100.0, 'logisticregr...</td>\n",
              "    </tr>\n",
              "    <tr>\n",
              "      <th>rank_test_score</th>\n",
              "      <td>1</td>\n",
              "    </tr>\n",
              "    <tr>\n",
              "      <th>split0_test_score</th>\n",
              "      <td>0.730769</td>\n",
              "    </tr>\n",
              "    <tr>\n",
              "      <th>split0_train_score</th>\n",
              "      <td>0.807692</td>\n",
              "    </tr>\n",
              "    <tr>\n",
              "      <th>split1_test_score</th>\n",
              "      <td>0.615385</td>\n",
              "    </tr>\n",
              "    <tr>\n",
              "      <th>split1_train_score</th>\n",
              "      <td>0.778846</td>\n",
              "    </tr>\n",
              "    <tr>\n",
              "      <th>split2_test_score</th>\n",
              "      <td>0.884615</td>\n",
              "    </tr>\n",
              "    <tr>\n",
              "      <th>split2_train_score</th>\n",
              "      <td>0.769231</td>\n",
              "    </tr>\n",
              "    <tr>\n",
              "      <th>split3_test_score</th>\n",
              "      <td>0.846154</td>\n",
              "    </tr>\n",
              "    <tr>\n",
              "      <th>split3_train_score</th>\n",
              "      <td>0.778846</td>\n",
              "    </tr>\n",
              "    <tr>\n",
              "      <th>split4_test_score</th>\n",
              "      <td>0.846154</td>\n",
              "    </tr>\n",
              "    <tr>\n",
              "      <th>split4_train_score</th>\n",
              "      <td>0.788462</td>\n",
              "    </tr>\n",
              "    <tr>\n",
              "      <th>std_fit_time</th>\n",
              "      <td>0.000231943</td>\n",
              "    </tr>\n",
              "    <tr>\n",
              "      <th>std_score_time</th>\n",
              "      <td>5.15098e-05</td>\n",
              "    </tr>\n",
              "    <tr>\n",
              "      <th>std_test_score</th>\n",
              "      <td>0.0990461</td>\n",
              "    </tr>\n",
              "    <tr>\n",
              "      <th>std_train_score</th>\n",
              "      <td>0.0130429</td>\n",
              "    </tr>\n",
              "  </tbody>\n",
              "</table>\n",
              "</div>"
            ],
            "text/plain": [
              "                                                                                       53\n",
              "mean_fit_time                                                                  0.00648942\n",
              "mean_score_time                                                                0.00135961\n",
              "mean_test_score                                                                  0.784519\n",
              "mean_train_score                                                                 0.784615\n",
              "param_logisticregression__C                                                           100\n",
              "param_logisticregression__class_weight                                           balanced\n",
              "param_selectkbest__k                                                                    2\n",
              "params                                  {'logisticregression__C': 100.0, 'logisticregr...\n",
              "rank_test_score                                                                         1\n",
              "split0_test_score                                                                0.730769\n",
              "split0_train_score                                                               0.807692\n",
              "split1_test_score                                                                0.615385\n",
              "split1_train_score                                                               0.778846\n",
              "split2_test_score                                                                0.884615\n",
              "split2_train_score                                                               0.769231\n",
              "split3_test_score                                                                0.846154\n",
              "split3_train_score                                                               0.778846\n",
              "split4_test_score                                                                0.846154\n",
              "split4_train_score                                                               0.788462\n",
              "std_fit_time                                                                  0.000231943\n",
              "std_score_time                                                                5.15098e-05\n",
              "std_test_score                                                                  0.0990461\n",
              "std_train_score                                                                 0.0130429"
            ]
          },
          "metadata": {
            "tags": []
          },
          "execution_count": 49
        }
      ]
    },
    {
      "metadata": {
        "id": "WDU1MYQTHsee",
        "colab_type": "text"
      },
      "cell_type": "markdown",
      "source": [
        "####Stretch Goal #3"
      ]
    },
    {
      "metadata": {
        "id": "T4GfDe_iHwWD",
        "colab_type": "code",
        "colab": {
          "base_uri": "https://localhost:8080/",
          "height": 136
        },
        "outputId": "3dc1fbf8-e44c-4cf2-b075-aac3fcd6c1b6"
      },
      "cell_type": "code",
      "source": [
        "selector = gridsearch.best_estimator_.named_steps['selectkbest']\n",
        "all_names = X_train.columns\n",
        "selected_mask = selector.get_support()\n",
        "selected_names = all_names[selected_mask]\n",
        "unselected_names = all_names[~selected_mask]\n",
        "\n",
        "print('Features selected:')\n",
        "for name in selected_names:\n",
        "    print(name)\n",
        "\n",
        "print()\n",
        "print('Features not selected:')\n",
        "for name in unselected_names:\n",
        "    print(name)"
      ],
      "execution_count": 59,
      "outputs": [
        {
          "output_type": "stream",
          "text": [
            "Features selected:\n",
            "months_since_last_donation\n",
            "\n",
            "Features not selected:\n",
            "number_of_donations\n",
            "total_volume_donated\n",
            "months_since_first_donation\n"
          ],
          "name": "stdout"
        }
      ]
    },
    {
      "metadata": {
        "colab_type": "text",
        "id": "jkyHoRIbEgRR"
      },
      "cell_type": "markdown",
      "source": [
        "## Part 4 — Calculate classification metrics from a confusion matrix\n",
        "\n",
        "Suppose this is the confusion matrix for your binary classification model:\n",
        "\n",
        "<table>\n",
        "  <tr>\n",
        "    <th colspan=\"2\" rowspan=\"2\"></th>\n",
        "    <th colspan=\"2\">Predicted</th>\n",
        "  </tr>\n",
        "  <tr>\n",
        "    <th>Negative</th>\n",
        "    <th>Positive</th>\n",
        "  </tr>\n",
        "  <tr>\n",
        "    <th rowspan=\"2\">Actual</th>\n",
        "    <th>Negative</th>\n",
        "    <td>85</td>\n",
        "    <td>58</td>\n",
        "  </tr>\n",
        "  <tr>\n",
        "    <th>Positive</th>\n",
        "    <td>8</td>\n",
        "    <td>36</td>\n",
        "  </tr>\n",
        "</table>"
      ]
    },
    {
      "metadata": {
        "colab_type": "code",
        "id": "TZPwqdh2KUcB",
        "colab": {}
      },
      "cell_type": "code",
      "source": [
        "true_negative  = 85\n",
        "false_positive = 58\n",
        "false_negative = 8\n",
        "true_positive  = 36\n",
        "\n",
        "actual_negative = 85 + 58\n",
        "actual_positive = 8 + 36\n",
        "\n",
        "predicted_negative = 85 + 8\n",
        "predicted_positive = 58 + 36"
      ],
      "execution_count": 0,
      "outputs": []
    },
    {
      "metadata": {
        "colab_type": "text",
        "id": "LhyMM5H-JpVB"
      },
      "cell_type": "markdown",
      "source": [
        "Calculate accuracy"
      ]
    },
    {
      "metadata": {
        "id": "MJP7Ucx6EV0A",
        "colab_type": "code",
        "colab": {
          "base_uri": "https://localhost:8080/",
          "height": 34
        },
        "outputId": "99baf85b-02e9-4cc4-e8e6-a1a8dc432c8b"
      },
      "cell_type": "code",
      "source": [
        "accuracy = ((true_negative + true_positive) / \n",
        "            (true_negative + false_positive + false_negative + true_positive))\n",
        "print('Accuracy is:', accuracy)"
      ],
      "execution_count": 52,
      "outputs": [
        {
          "output_type": "stream",
          "text": [
            "Accuracy is: 0.6470588235294118\n"
          ],
          "name": "stdout"
        }
      ]
    },
    {
      "metadata": {
        "colab_type": "text",
        "id": "h_mH2NYDKi2C"
      },
      "cell_type": "markdown",
      "source": [
        "Calculate recall"
      ]
    },
    {
      "metadata": {
        "colab_type": "code",
        "id": "U4_wJGyjKkXJ",
        "colab": {
          "base_uri": "https://localhost:8080/",
          "height": 34
        },
        "outputId": "532c20e0-a55b-4094-9ccd-daf3a53071fa"
      },
      "cell_type": "code",
      "source": [
        "recall = true_positive / actual_positive\n",
        "print('Recall is:', recall)"
      ],
      "execution_count": 53,
      "outputs": [
        {
          "output_type": "stream",
          "text": [
            "Recall is: 0.8181818181818182\n"
          ],
          "name": "stdout"
        }
      ]
    },
    {
      "metadata": {
        "id": "lGgzliMLFR2z",
        "colab_type": "text"
      },
      "cell_type": "markdown",
      "source": [
        "####Stretch Goal #4"
      ]
    },
    {
      "metadata": {
        "id": "N-jkcotGFL2r",
        "colab_type": "code",
        "colab": {
          "base_uri": "https://localhost:8080/",
          "height": 34
        },
        "outputId": "dbe97547-7f65-4acd-cc61-40069e3f6d0f"
      },
      "cell_type": "code",
      "source": [
        "precision = true_positive / predicted_positive\n",
        "f1 = 2 * precision*recall / (precision+recall)\n",
        "print('f1 score is:', f1)"
      ],
      "execution_count": 55,
      "outputs": [
        {
          "output_type": "stream",
          "text": [
            "f1 score is: 0.5217391304347826\n"
          ],
          "name": "stdout"
        }
      ]
    },
    {
      "metadata": {
        "id": "6B98QXVqFpmD",
        "colab_type": "code",
        "colab": {
          "base_uri": "https://localhost:8080/",
          "height": 34
        },
        "outputId": "bc7dc217-c1e7-469a-882b-9f1de0a2942a"
      },
      "cell_type": "code",
      "source": [
        "false_positive_rate = false_positive/actual_negative\n",
        "print('false positive rate is:', false_positive_rate)"
      ],
      "execution_count": 56,
      "outputs": [
        {
          "output_type": "stream",
          "text": [
            "false positive rate is: 0.40559440559440557\n"
          ],
          "name": "stdout"
        }
      ]
    },
    {
      "metadata": {
        "colab_type": "text",
        "id": "9KEaWsk5Kk9W"
      },
      "cell_type": "markdown",
      "source": [
        "## BONUS — How you can earn a score of 3\n",
        "\n",
        "### Part 1\n",
        "Do feature engineering, to try improving your cross-validation score.\n",
        "\n",
        "### Part 2\n",
        "Add transformations in your pipeline and parameters in your grid, to try improving your cross-validation score.\n",
        "\n",
        "### Part 3\n",
        "Show names of selected features. Then do a final evaluation on the test set — what is the test score?\n",
        "\n",
        "### Part 4\n",
        "Calculate F1 score and False Positive Rate. "
      ]
    }
  ]
}