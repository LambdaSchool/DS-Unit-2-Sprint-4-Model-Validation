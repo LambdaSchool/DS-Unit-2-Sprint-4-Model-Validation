{
  "nbformat": 4,
  "nbformat_minor": 0,
  "metadata": {
    "colab": {
      "name": "DS_Unit_2_Sprint_Challenge_4_Model_Validation.ipynb",
      "version": "0.3.2",
      "provenance": [],
      "collapsed_sections": [],
      "include_colab_link": true
    },
    "kernelspec": {
      "name": "python3",
      "display_name": "Python 3"
    }
  },
  "cells": [
    {
      "cell_type": "markdown",
      "metadata": {
        "id": "view-in-github",
        "colab_type": "text"
      },
      "source": [
        "<a href=\"https://colab.research.google.com/github/albert-h-wong/DS-Unit-2-Sprint-4-Model-Validation/blob/master/DS_Unit_2_Sprint_Challenge_4_Model_Validation.ipynb\" target=\"_parent\"><img src=\"https://colab.research.google.com/assets/colab-badge.svg\" alt=\"Open In Colab\"/></a>"
      ]
    },
    {
      "metadata": {
        "id": "PC9RfopIWrc9",
        "colab_type": "text"
      },
      "cell_type": "markdown",
      "source": [
        " # Data Science Unit 2 Sprint Challenge 4 — Model Validation"
      ]
    },
    {
      "metadata": {
        "id": "UV7ArLFQN84W",
        "colab_type": "text"
      },
      "cell_type": "markdown",
      "source": [
        "Follow the instructions for each numbered part to earn a score of 2. See the bottom of the notebook for a list of ways you can earn a score of 3."
      ]
    },
    {
      "metadata": {
        "id": "bAZcbTtiUlkI",
        "colab_type": "text"
      },
      "cell_type": "markdown",
      "source": [
        "## Predicting Blood Donations\n",
        "\n",
        "Our dataset is from a mobile blood donation vehicle in Taiwan. The Blood Transfusion Service Center drives to different universities and collects blood as part of a blood drive.\n",
        "\n",
        "The goal is to predict the last column, whether the donor made a donation in March 2007, using information about each donor's history. We'll measure success using recall score as the model evaluation metric.\n",
        "\n",
        "Good data-driven systems for tracking and predicting donations and supply needs can improve the entire supply chain, making sure that more patients get the blood transfusions they need.\n",
        "\n",
        "#### Run this cell to load the data:"
      ]
    },
    {
      "metadata": {
        "id": "gvV9VORbxyvu",
        "colab_type": "code",
        "colab": {}
      },
      "cell_type": "code",
      "source": [
        "import pandas as pd\n",
        "\n",
        "df = pd.read_csv('https://archive.ics.uci.edu/ml/machine-learning-databases/blood-transfusion/transfusion.data')\n",
        "\n",
        "df = df.rename(columns={\n",
        "    'Recency (months)': 'months_since_last_donation', \n",
        "    'Frequency (times)': 'number_of_donations', \n",
        "    'Monetary (c.c. blood)': 'total_volume_donated', \n",
        "    'Time (months)': 'months_since_first_donation', \n",
        "    'whether he/she donated blood in March 2007': 'made_donation_in_march_2007'\n",
        "})"
      ],
      "execution_count": 0,
      "outputs": []
    },
    {
      "metadata": {
        "id": "STUsQd-v4jl8",
        "colab_type": "code",
        "colab": {
          "base_uri": "https://localhost:8080/",
          "height": 203
        },
        "outputId": "51c19950-8555-4641-ca63-c0c2175ebefb"
      },
      "cell_type": "code",
      "source": [
        "df.head()"
      ],
      "execution_count": 2,
      "outputs": [
        {
          "output_type": "execute_result",
          "data": {
            "text/html": [
              "<div>\n",
              "<style scoped>\n",
              "    .dataframe tbody tr th:only-of-type {\n",
              "        vertical-align: middle;\n",
              "    }\n",
              "\n",
              "    .dataframe tbody tr th {\n",
              "        vertical-align: top;\n",
              "    }\n",
              "\n",
              "    .dataframe thead th {\n",
              "        text-align: right;\n",
              "    }\n",
              "</style>\n",
              "<table border=\"1\" class=\"dataframe\">\n",
              "  <thead>\n",
              "    <tr style=\"text-align: right;\">\n",
              "      <th></th>\n",
              "      <th>months_since_last_donation</th>\n",
              "      <th>number_of_donations</th>\n",
              "      <th>total_volume_donated</th>\n",
              "      <th>months_since_first_donation</th>\n",
              "      <th>made_donation_in_march_2007</th>\n",
              "    </tr>\n",
              "  </thead>\n",
              "  <tbody>\n",
              "    <tr>\n",
              "      <th>0</th>\n",
              "      <td>2</td>\n",
              "      <td>50</td>\n",
              "      <td>12500</td>\n",
              "      <td>98</td>\n",
              "      <td>1</td>\n",
              "    </tr>\n",
              "    <tr>\n",
              "      <th>1</th>\n",
              "      <td>0</td>\n",
              "      <td>13</td>\n",
              "      <td>3250</td>\n",
              "      <td>28</td>\n",
              "      <td>1</td>\n",
              "    </tr>\n",
              "    <tr>\n",
              "      <th>2</th>\n",
              "      <td>1</td>\n",
              "      <td>16</td>\n",
              "      <td>4000</td>\n",
              "      <td>35</td>\n",
              "      <td>1</td>\n",
              "    </tr>\n",
              "    <tr>\n",
              "      <th>3</th>\n",
              "      <td>2</td>\n",
              "      <td>20</td>\n",
              "      <td>5000</td>\n",
              "      <td>45</td>\n",
              "      <td>1</td>\n",
              "    </tr>\n",
              "    <tr>\n",
              "      <th>4</th>\n",
              "      <td>1</td>\n",
              "      <td>24</td>\n",
              "      <td>6000</td>\n",
              "      <td>77</td>\n",
              "      <td>0</td>\n",
              "    </tr>\n",
              "  </tbody>\n",
              "</table>\n",
              "</div>"
            ],
            "text/plain": [
              "   months_since_last_donation  number_of_donations  total_volume_donated  \\\n",
              "0                           2                   50                 12500   \n",
              "1                           0                   13                  3250   \n",
              "2                           1                   16                  4000   \n",
              "3                           2                   20                  5000   \n",
              "4                           1                   24                  6000   \n",
              "\n",
              "   months_since_first_donation  made_donation_in_march_2007  \n",
              "0                           98                            1  \n",
              "1                           28                            1  \n",
              "2                           35                            1  \n",
              "3                           45                            1  \n",
              "4                           77                            0  "
            ]
          },
          "metadata": {
            "tags": []
          },
          "execution_count": 2
        }
      ]
    },
    {
      "metadata": {
        "id": "tf8K2V1u4mdh",
        "colab_type": "code",
        "colab": {
          "base_uri": "https://localhost:8080/",
          "height": 35
        },
        "outputId": "b53eb24d-a38c-4bd1-e983-e85ff32e7072"
      },
      "cell_type": "code",
      "source": [
        "df.shape"
      ],
      "execution_count": 3,
      "outputs": [
        {
          "output_type": "execute_result",
          "data": {
            "text/plain": [
              "(748, 5)"
            ]
          },
          "metadata": {
            "tags": []
          },
          "execution_count": 3
        }
      ]
    },
    {
      "metadata": {
        "id": "G_Llv16a4mbI",
        "colab_type": "code",
        "colab": {
          "base_uri": "https://localhost:8080/",
          "height": 295
        },
        "outputId": "571a62aa-a233-4676-9aa6-6848455194b1"
      },
      "cell_type": "code",
      "source": [
        "df.describe()"
      ],
      "execution_count": 4,
      "outputs": [
        {
          "output_type": "execute_result",
          "data": {
            "text/html": [
              "<div>\n",
              "<style scoped>\n",
              "    .dataframe tbody tr th:only-of-type {\n",
              "        vertical-align: middle;\n",
              "    }\n",
              "\n",
              "    .dataframe tbody tr th {\n",
              "        vertical-align: top;\n",
              "    }\n",
              "\n",
              "    .dataframe thead th {\n",
              "        text-align: right;\n",
              "    }\n",
              "</style>\n",
              "<table border=\"1\" class=\"dataframe\">\n",
              "  <thead>\n",
              "    <tr style=\"text-align: right;\">\n",
              "      <th></th>\n",
              "      <th>months_since_last_donation</th>\n",
              "      <th>number_of_donations</th>\n",
              "      <th>total_volume_donated</th>\n",
              "      <th>months_since_first_donation</th>\n",
              "      <th>made_donation_in_march_2007</th>\n",
              "    </tr>\n",
              "  </thead>\n",
              "  <tbody>\n",
              "    <tr>\n",
              "      <th>count</th>\n",
              "      <td>748.000000</td>\n",
              "      <td>748.000000</td>\n",
              "      <td>748.000000</td>\n",
              "      <td>748.000000</td>\n",
              "      <td>748.000000</td>\n",
              "    </tr>\n",
              "    <tr>\n",
              "      <th>mean</th>\n",
              "      <td>9.506684</td>\n",
              "      <td>5.514706</td>\n",
              "      <td>1378.676471</td>\n",
              "      <td>34.282086</td>\n",
              "      <td>0.237968</td>\n",
              "    </tr>\n",
              "    <tr>\n",
              "      <th>std</th>\n",
              "      <td>8.095396</td>\n",
              "      <td>5.839307</td>\n",
              "      <td>1459.826781</td>\n",
              "      <td>24.376714</td>\n",
              "      <td>0.426124</td>\n",
              "    </tr>\n",
              "    <tr>\n",
              "      <th>min</th>\n",
              "      <td>0.000000</td>\n",
              "      <td>1.000000</td>\n",
              "      <td>250.000000</td>\n",
              "      <td>2.000000</td>\n",
              "      <td>0.000000</td>\n",
              "    </tr>\n",
              "    <tr>\n",
              "      <th>25%</th>\n",
              "      <td>2.750000</td>\n",
              "      <td>2.000000</td>\n",
              "      <td>500.000000</td>\n",
              "      <td>16.000000</td>\n",
              "      <td>0.000000</td>\n",
              "    </tr>\n",
              "    <tr>\n",
              "      <th>50%</th>\n",
              "      <td>7.000000</td>\n",
              "      <td>4.000000</td>\n",
              "      <td>1000.000000</td>\n",
              "      <td>28.000000</td>\n",
              "      <td>0.000000</td>\n",
              "    </tr>\n",
              "    <tr>\n",
              "      <th>75%</th>\n",
              "      <td>14.000000</td>\n",
              "      <td>7.000000</td>\n",
              "      <td>1750.000000</td>\n",
              "      <td>50.000000</td>\n",
              "      <td>0.000000</td>\n",
              "    </tr>\n",
              "    <tr>\n",
              "      <th>max</th>\n",
              "      <td>74.000000</td>\n",
              "      <td>50.000000</td>\n",
              "      <td>12500.000000</td>\n",
              "      <td>98.000000</td>\n",
              "      <td>1.000000</td>\n",
              "    </tr>\n",
              "  </tbody>\n",
              "</table>\n",
              "</div>"
            ],
            "text/plain": [
              "       months_since_last_donation  number_of_donations  total_volume_donated  \\\n",
              "count                  748.000000           748.000000            748.000000   \n",
              "mean                     9.506684             5.514706           1378.676471   \n",
              "std                      8.095396             5.839307           1459.826781   \n",
              "min                      0.000000             1.000000            250.000000   \n",
              "25%                      2.750000             2.000000            500.000000   \n",
              "50%                      7.000000             4.000000           1000.000000   \n",
              "75%                     14.000000             7.000000           1750.000000   \n",
              "max                     74.000000            50.000000          12500.000000   \n",
              "\n",
              "       months_since_first_donation  made_donation_in_march_2007  \n",
              "count                   748.000000                   748.000000  \n",
              "mean                     34.282086                     0.237968  \n",
              "std                      24.376714                     0.426124  \n",
              "min                       2.000000                     0.000000  \n",
              "25%                      16.000000                     0.000000  \n",
              "50%                      28.000000                     0.000000  \n",
              "75%                      50.000000                     0.000000  \n",
              "max                      98.000000                     1.000000  "
            ]
          },
          "metadata": {
            "tags": []
          },
          "execution_count": 4
        }
      ]
    },
    {
      "metadata": {
        "id": "2PTPwHC2AoiG",
        "colab_type": "code",
        "colab": {
          "base_uri": "https://localhost:8080/",
          "height": 123
        },
        "outputId": "062d23fc-b710-44b4-d941-7adea2618041"
      },
      "cell_type": "code",
      "source": [
        "df.dtypes"
      ],
      "execution_count": 5,
      "outputs": [
        {
          "output_type": "execute_result",
          "data": {
            "text/plain": [
              "months_since_last_donation     int64\n",
              "number_of_donations            int64\n",
              "total_volume_donated           int64\n",
              "months_since_first_donation    int64\n",
              "made_donation_in_march_2007    int64\n",
              "dtype: object"
            ]
          },
          "metadata": {
            "tags": []
          },
          "execution_count": 5
        }
      ]
    },
    {
      "metadata": {
        "id": "A1Jw220d4mYh",
        "colab_type": "code",
        "colab": {
          "base_uri": "https://localhost:8080/",
          "height": 218
        },
        "outputId": "a655fcf4-d1de-497f-e6ca-3ea06b51985a"
      },
      "cell_type": "code",
      "source": [
        "import seaborn as sns\n",
        "sns.set(style=\"ticks\", color_codes=True)\n",
        "\n",
        "x_columns = df.columns.drop(['made_donation_in_march_2007'])\n",
        "\n",
        "sns.pairplot(data=df, y_vars=['made_donation_in_march_2007'], x_vars=x_columns)"
      ],
      "execution_count": 6,
      "outputs": [
        {
          "output_type": "execute_result",
          "data": {
            "text/plain": [
              "<seaborn.axisgrid.PairGrid at 0x7f9bb9f13a58>"
            ]
          },
          "metadata": {
            "tags": []
          },
          "execution_count": 6
        },
        {
          "output_type": "display_data",
          "data": {
            "image/png": "[encoded data removed]",
            "text/plain": [
              "<Figure size 720x180 with 4 Axes>"
            ]
          },
          "metadata": {
            "tags": []
          }
        }
      ]
    },
    {
      "metadata": {
        "id": "ELU0vEV-4mV2",
        "colab_type": "code",
        "colab": {
          "base_uri": "https://localhost:8080/",
          "height": 223
        },
        "outputId": "97f30498-8738-47ed-ce52-2b9603a99e14"
      },
      "cell_type": "code",
      "source": [
        "df.corr()"
      ],
      "execution_count": 7,
      "outputs": [
        {
          "output_type": "execute_result",
          "data": {
            "text/html": [
              "<div>\n",
              "<style scoped>\n",
              "    .dataframe tbody tr th:only-of-type {\n",
              "        vertical-align: middle;\n",
              "    }\n",
              "\n",
              "    .dataframe tbody tr th {\n",
              "        vertical-align: top;\n",
              "    }\n",
              "\n",
              "    .dataframe thead th {\n",
              "        text-align: right;\n",
              "    }\n",
              "</style>\n",
              "<table border=\"1\" class=\"dataframe\">\n",
              "  <thead>\n",
              "    <tr style=\"text-align: right;\">\n",
              "      <th></th>\n",
              "      <th>months_since_last_donation</th>\n",
              "      <th>number_of_donations</th>\n",
              "      <th>total_volume_donated</th>\n",
              "      <th>months_since_first_donation</th>\n",
              "      <th>made_donation_in_march_2007</th>\n",
              "    </tr>\n",
              "  </thead>\n",
              "  <tbody>\n",
              "    <tr>\n",
              "      <th>months_since_last_donation</th>\n",
              "      <td>1.000000</td>\n",
              "      <td>-0.182745</td>\n",
              "      <td>-0.182745</td>\n",
              "      <td>0.160618</td>\n",
              "      <td>-0.279869</td>\n",
              "    </tr>\n",
              "    <tr>\n",
              "      <th>number_of_donations</th>\n",
              "      <td>-0.182745</td>\n",
              "      <td>1.000000</td>\n",
              "      <td>1.000000</td>\n",
              "      <td>0.634940</td>\n",
              "      <td>0.218633</td>\n",
              "    </tr>\n",
              "    <tr>\n",
              "      <th>total_volume_donated</th>\n",
              "      <td>-0.182745</td>\n",
              "      <td>1.000000</td>\n",
              "      <td>1.000000</td>\n",
              "      <td>0.634940</td>\n",
              "      <td>0.218633</td>\n",
              "    </tr>\n",
              "    <tr>\n",
              "      <th>months_since_first_donation</th>\n",
              "      <td>0.160618</td>\n",
              "      <td>0.634940</td>\n",
              "      <td>0.634940</td>\n",
              "      <td>1.000000</td>\n",
              "      <td>-0.035854</td>\n",
              "    </tr>\n",
              "    <tr>\n",
              "      <th>made_donation_in_march_2007</th>\n",
              "      <td>-0.279869</td>\n",
              "      <td>0.218633</td>\n",
              "      <td>0.218633</td>\n",
              "      <td>-0.035854</td>\n",
              "      <td>1.000000</td>\n",
              "    </tr>\n",
              "  </tbody>\n",
              "</table>\n",
              "</div>"
            ],
            "text/plain": [
              "                             months_since_last_donation  number_of_donations  \\\n",
              "months_since_last_donation                     1.000000            -0.182745   \n",
              "number_of_donations                           -0.182745             1.000000   \n",
              "total_volume_donated                          -0.182745             1.000000   \n",
              "months_since_first_donation                    0.160618             0.634940   \n",
              "made_donation_in_march_2007                   -0.279869             0.218633   \n",
              "\n",
              "                             total_volume_donated  \\\n",
              "months_since_last_donation              -0.182745   \n",
              "number_of_donations                      1.000000   \n",
              "total_volume_donated                     1.000000   \n",
              "months_since_first_donation              0.634940   \n",
              "made_donation_in_march_2007              0.218633   \n",
              "\n",
              "                             months_since_first_donation  \\\n",
              "months_since_last_donation                      0.160618   \n",
              "number_of_donations                             0.634940   \n",
              "total_volume_donated                            0.634940   \n",
              "months_since_first_donation                     1.000000   \n",
              "made_donation_in_march_2007                    -0.035854   \n",
              "\n",
              "                             made_donation_in_march_2007  \n",
              "months_since_last_donation                     -0.279869  \n",
              "number_of_donations                             0.218633  \n",
              "total_volume_donated                            0.218633  \n",
              "months_since_first_donation                    -0.035854  \n",
              "made_donation_in_march_2007                     1.000000  "
            ]
          },
          "metadata": {
            "tags": []
          },
          "execution_count": 7
        }
      ]
    },
    {
      "metadata": {
        "id": "2r6nO39P5ziQ",
        "colab_type": "code",
        "colab": {
          "base_uri": "https://localhost:8080/",
          "height": 359
        },
        "outputId": "888492bb-b63f-4e14-fdca-02c7977fcce6"
      },
      "cell_type": "code",
      "source": [
        "import matplotlib.pyplot as plt\n",
        "plt.hist(df['months_since_last_donation']);"
      ],
      "execution_count": 8,
      "outputs": [
        {
          "output_type": "display_data",
          "data": {
            "image/png": "[encoded data removed]",
            "text/plain": [
              "<Figure size 576x396 with 1 Axes>"
            ]
          },
          "metadata": {
            "tags": []
          }
        }
      ]
    },
    {
      "metadata": {
        "id": "7KqU6u5f7Trm",
        "colab_type": "code",
        "colab": {
          "base_uri": "https://localhost:8080/",
          "height": 580
        },
        "outputId": "ed2bd503-d2d5-4165-eb48-18d12af4c78d"
      },
      "cell_type": "code",
      "source": [
        "print(df['months_since_last_donation'].value_counts())"
      ],
      "execution_count": 9,
      "outputs": [
        {
          "output_type": "stream",
          "text": [
            "2     173\n",
            "4     156\n",
            "11     84\n",
            "14     76\n",
            "16     63\n",
            "23     50\n",
            "21     44\n",
            "9      20\n",
            "3      13\n",
            "1       9\n",
            "7       8\n",
            "5       6\n",
            "12      6\n",
            "8       6\n",
            "0       5\n",
            "6       5\n",
            "13      5\n",
            "10      3\n",
            "15      2\n",
            "18      2\n",
            "38      2\n",
            "72      1\n",
            "17      1\n",
            "20      1\n",
            "22      1\n",
            "25      1\n",
            "26      1\n",
            "35      1\n",
            "39      1\n",
            "40      1\n",
            "74      1\n",
            "Name: months_since_last_donation, dtype: int64\n"
          ],
          "name": "stdout"
        }
      ]
    },
    {
      "metadata": {
        "id": "ctJaJncX6iPY",
        "colab_type": "code",
        "colab": {
          "base_uri": "https://localhost:8080/",
          "height": 359
        },
        "outputId": "b181d679-05b0-4bb9-8288-439c09366150"
      },
      "cell_type": "code",
      "source": [
        "plt.hist(df['number_of_donations']);"
      ],
      "execution_count": 10,
      "outputs": [
        {
          "output_type": "display_data",
          "data": {
            "image/png": "[encoded data removed]",
            "text/plain": [
              "<Figure size 576x396 with 1 Axes>"
            ]
          },
          "metadata": {
            "tags": []
          }
        }
      ]
    },
    {
      "metadata": {
        "id": "75e8Qp785zev",
        "colab_type": "code",
        "colab": {
          "base_uri": "https://localhost:8080/",
          "height": 615
        },
        "outputId": "1fc96ea6-3326-4f9b-9538-24a74640a587"
      },
      "cell_type": "code",
      "source": [
        "print(df['number_of_donations'].value_counts())"
      ],
      "execution_count": 11,
      "outputs": [
        {
          "output_type": "stream",
          "text": [
            "1     158\n",
            "2     112\n",
            "3      87\n",
            "4      62\n",
            "5      62\n",
            "6      52\n",
            "7      43\n",
            "8      31\n",
            "9      24\n",
            "11     22\n",
            "10     14\n",
            "12     14\n",
            "16     13\n",
            "14     13\n",
            "13      9\n",
            "15      6\n",
            "17      4\n",
            "24      3\n",
            "19      2\n",
            "20      2\n",
            "21      2\n",
            "22      2\n",
            "46      1\n",
            "18      1\n",
            "23      1\n",
            "26      1\n",
            "33      1\n",
            "34      1\n",
            "38      1\n",
            "41      1\n",
            "43      1\n",
            "44      1\n",
            "50      1\n",
            "Name: number_of_donations, dtype: int64\n"
          ],
          "name": "stdout"
        }
      ]
    },
    {
      "metadata": {
        "id": "1ir3yC4V7csG",
        "colab_type": "code",
        "colab": {
          "base_uri": "https://localhost:8080/",
          "height": 70
        },
        "outputId": "eae428ea-97e6-4630-f08f-9b32d0cfdd18"
      },
      "cell_type": "code",
      "source": [
        "print(df['made_donation_in_march_2007'].value_counts())"
      ],
      "execution_count": 12,
      "outputs": [
        {
          "output_type": "stream",
          "text": [
            "0    570\n",
            "1    178\n",
            "Name: made_donation_in_march_2007, dtype: int64\n"
          ],
          "name": "stdout"
        }
      ]
    },
    {
      "metadata": {
        "id": "q_YtEcJF7con",
        "colab_type": "code",
        "colab": {}
      },
      "cell_type": "code",
      "source": [
        ""
      ],
      "execution_count": 0,
      "outputs": []
    },
    {
      "metadata": {
        "id": "IxKfgx4ycb3c",
        "colab_type": "text"
      },
      "cell_type": "markdown",
      "source": [
        "## Part 1.1 — Begin with baselines\n",
        "\n",
        "What **accuracy score** would you get here with a **\"majority class baseline\"?** \n",
        " \n",
        "(You don't need to split the data into train and test sets yet. You can answer this question either with a scikit-learn function or with a pandas function.)"
      ]
    },
    {
      "metadata": {
        "id": "UKOBZYgV9QpX",
        "colab_type": "code",
        "colab": {}
      },
      "cell_type": "code",
      "source": [
        "df.rename(columns={'made_donation_in_march_2007': 'donation'}, inplace=True)"
      ],
      "execution_count": 0,
      "outputs": []
    },
    {
      "metadata": {
        "id": "3oo31Remcq-x",
        "colab_type": "code",
        "colab": {}
      },
      "cell_type": "code",
      "source": [
        "import numpy as np\n",
        "\n",
        "y = df.donation == 1\n",
        "\n",
        "majority_class = y.mode()[0]\n",
        "y_pred = np.full(shape=y.shape, fill_value=majority_class)"
      ],
      "execution_count": 0,
      "outputs": []
    },
    {
      "metadata": {
        "id": "hiOv4pwe8SW1",
        "colab_type": "code",
        "colab": {
          "base_uri": "https://localhost:8080/",
          "height": 35
        },
        "outputId": "969dc764-4c8c-4517-ffc0-3e0a814c5b66"
      },
      "cell_type": "code",
      "source": [
        "from sklearn.metrics import accuracy_score\n",
        "accuracy_score(y, y_pred)"
      ],
      "execution_count": 15,
      "outputs": [
        {
          "output_type": "execute_result",
          "data": {
            "text/plain": [
              "0.7620320855614974"
            ]
          },
          "metadata": {
            "tags": []
          },
          "execution_count": 15
        }
      ]
    },
    {
      "metadata": {
        "id": "WuDwt0q68SeG",
        "colab_type": "code",
        "colab": {
          "base_uri": "https://localhost:8080/",
          "height": 70
        },
        "outputId": "04618a32-4880-44de-e16f-8e3bfdc2dd6b"
      },
      "cell_type": "code",
      "source": [
        "df.donation.value_counts(normalize=True)"
      ],
      "execution_count": 16,
      "outputs": [
        {
          "output_type": "execute_result",
          "data": {
            "text/plain": [
              "0    0.762032\n",
              "1    0.237968\n",
              "Name: donation, dtype: float64"
            ]
          },
          "metadata": {
            "tags": []
          },
          "execution_count": 16
        }
      ]
    },
    {
      "metadata": {
        "id": "bBbP4Uw48SUR",
        "colab_type": "code",
        "colab": {}
      },
      "cell_type": "code",
      "source": [
        ""
      ],
      "execution_count": 0,
      "outputs": []
    },
    {
      "metadata": {
        "id": "_KdxE1TrcriI",
        "colab_type": "text"
      },
      "cell_type": "markdown",
      "source": [
        "What **recall score** would you get here with a **majority class baseline?**\n",
        "\n",
        "(You can answer this question either with a scikit-learn function or with no code, just your understanding of recall.)"
      ]
    },
    {
      "metadata": {
        "id": "ILS0fN0Cctyc",
        "colab_type": "code",
        "colab": {}
      },
      "cell_type": "code",
      "source": [
        "from sklearn.datasets import make_classification\n",
        "from sklearn.metrics import accuracy_score, classification_report\n",
        "from sklearn.linear_model import LogisticRegression\n",
        "from mlxtend.plotting import plot_decision_regions"
      ],
      "execution_count": 0,
      "outputs": []
    },
    {
      "metadata": {
        "id": "iAvMHSxBJylI",
        "colab_type": "code",
        "colab": {
          "base_uri": "https://localhost:8080/",
          "height": 231
        },
        "outputId": "5c10b57f-1b45-4f23-f7fa-60c815c79cf3"
      },
      "cell_type": "code",
      "source": [
        "print(classification_report(y, y_pred))"
      ],
      "execution_count": 18,
      "outputs": [
        {
          "output_type": "stream",
          "text": [
            "              precision    recall  f1-score   support\n",
            "\n",
            "       False       0.76      1.00      0.86       570\n",
            "        True       0.00      0.00      0.00       178\n",
            "\n",
            "   micro avg       0.76      0.76      0.76       748\n",
            "   macro avg       0.38      0.50      0.43       748\n",
            "weighted avg       0.58      0.76      0.66       748\n",
            "\n"
          ],
          "name": "stdout"
        },
        {
          "output_type": "stream",
          "text": [
            "/usr/local/lib/python3.6/dist-packages/sklearn/metrics/classification.py:1143: UndefinedMetricWarning: Precision and F-score are ill-defined and being set to 0.0 in labels with no predicted samples.\n",
            "  'precision', 'predicted', average, warn_for)\n"
          ],
          "name": "stderr"
        }
      ]
    },
    {
      "metadata": {
        "id": "Bc6rQT8kaEAA",
        "colab_type": "text"
      },
      "cell_type": "markdown",
      "source": [
        "From a majority class baseline, the recall score is 0 or undefined because you have not applied any model or technique to make any predictions. Without predictions to compute the true positives and false negatives you cannot have a recall score as indicated from the classification report results above."
      ]
    },
    {
      "metadata": {
        "id": "8bSrQL_T_Ngk",
        "colab_type": "code",
        "colab": {}
      },
      "cell_type": "code",
      "source": [
        ""
      ],
      "execution_count": 0,
      "outputs": []
    },
    {
      "metadata": {
        "id": "QqYNDtwKYhji",
        "colab_type": "text"
      },
      "cell_type": "markdown",
      "source": [
        "## Part 1.2 — Split data\n",
        "\n",
        "In this Sprint Challenge, you will use \"Cross-Validation with Independent Test Set\" for your model evaluation protocol.\n",
        "\n",
        "First, **split the data into `X_train, X_test, y_train, y_test`**, with random shuffle. (You can include 75% of the data in the train set, and hold out 25% for the test set.)\n"
      ]
    },
    {
      "metadata": {
        "id": "e5EhipL6SH1N",
        "colab_type": "code",
        "colab": {}
      },
      "cell_type": "code",
      "source": [
        "X = df[['months_since_last_donation','number_of_donations','total_volume_donated','months_since_first_donation']]"
      ],
      "execution_count": 0,
      "outputs": []
    },
    {
      "metadata": {
        "id": "3HBRfBusRgfb",
        "colab_type": "code",
        "colab": {
          "base_uri": "https://localhost:8080/",
          "height": 52
        },
        "outputId": "29b4997c-7c1a-457d-ea97-8dde6c53da8c"
      },
      "cell_type": "code",
      "source": [
        "print(X.shape)\n",
        "print(y.shape)"
      ],
      "execution_count": 21,
      "outputs": [
        {
          "output_type": "stream",
          "text": [
            "(748, 4)\n",
            "(748,)\n"
          ],
          "name": "stdout"
        }
      ]
    },
    {
      "metadata": {
        "id": "mPKf86yDYf0t",
        "colab_type": "code",
        "colab": {}
      },
      "cell_type": "code",
      "source": [
        "from sklearn.model_selection import train_test_split\n",
        "\n",
        "X = df[['months_since_last_donation','number_of_donations','total_volume_donated','months_since_first_donation']]\n",
        "y = df.donation == 1\n",
        "\n",
        "X_train, X_test, y_train, y_test = train_test_split(\n",
        "    X, y, test_size=.25, random_state=42)"
      ],
      "execution_count": 0,
      "outputs": []
    },
    {
      "metadata": {
        "id": "HNCAP2YuIcal",
        "colab_type": "code",
        "colab": {}
      },
      "cell_type": "code",
      "source": [
        ""
      ],
      "execution_count": 0,
      "outputs": []
    },
    {
      "metadata": {
        "id": "E_ATNJdqTCuZ",
        "colab_type": "text"
      },
      "cell_type": "markdown",
      "source": [
        "## Part 2.1 — Make a pipeline\n",
        "\n",
        "Make a **pipeline** which includes:\n",
        "- Preprocessing with any scikit-learn [**Scaler**](https://scikit-learn.org/stable/modules/classes.html#module-sklearn.preprocessing)\n",
        "- Feature selection with **[`SelectKBest`](https://scikit-learn.org/stable/modules/generated/sklearn.feature_selection.SelectKBest.html)([`f_classif`](https://scikit-learn.org/stable/modules/generated/sklearn.feature_selection.f_classif.html))**\n",
        "- Classification with [**`LogisticRegression`**](https://scikit-learn.org/stable/modules/generated/sklearn.linear_model.LogisticRegression.html)"
      ]
    },
    {
      "metadata": {
        "id": "8DRrVU5n5_Jw",
        "colab_type": "code",
        "colab": {}
      },
      "cell_type": "code",
      "source": [
        "from sklearn.pipeline import make_pipeline\n",
        "from sklearn.preprocessing import RobustScaler\n",
        "from sklearn.feature_selection import f_classif, SelectKBest\n",
        "\n",
        "pipeline = make_pipeline( \n",
        "    RobustScaler(), \n",
        "    SelectKBest(f_classif), \n",
        "    LogisticRegression())\n",
        "\n"
      ],
      "execution_count": 0,
      "outputs": []
    },
    {
      "metadata": {
        "id": "lvx8B8lDM1OF",
        "colab_type": "code",
        "colab": {}
      },
      "cell_type": "code",
      "source": [
        ""
      ],
      "execution_count": 0,
      "outputs": []
    },
    {
      "metadata": {
        "id": "5vRkQHatglMG",
        "colab_type": "text"
      },
      "cell_type": "markdown",
      "source": [
        "## Part 2.2 — Do Grid Search Cross-Validation\n",
        "\n",
        "Do [**GridSearchCV**](https://scikit-learn.org/stable/modules/generated/sklearn.model_selection.GridSearchCV.html) with your pipeline. Use **5 folds** and **recall score**.\n",
        "\n",
        "Include these **parameters for your grid:**\n",
        "\n",
        "#### `SelectKBest`\n",
        "- `k : 1, 2, 3, 4`\n",
        "\n",
        "#### `LogisticRegression`\n",
        "- `class_weight : None, 'balanced'`\n",
        "- `C : .0001, .001, .01, .1, 1.0, 10.0, 100.00, 1000.0, 10000.0`\n",
        "\n",
        "\n",
        "**Fit** on the appropriate data."
      ]
    },
    {
      "metadata": {
        "id": "xvJ-6OiwUqga",
        "colab_type": "code",
        "colab": {}
      },
      "cell_type": "code",
      "source": [
        "from sklearn.model_selection import GridSearchCV"
      ],
      "execution_count": 0,
      "outputs": []
    },
    {
      "metadata": {
        "id": "QxYRhLo9UqmH",
        "colab_type": "code",
        "colab": {
          "base_uri": "https://localhost:8080/",
          "height": 132
        },
        "outputId": "78c5826f-0f94-4a9d-c438-15143a40c5e0"
      },
      "cell_type": "code",
      "source": [
        "param_grid = {\n",
        "    'selectkbest__k': [1,2,3,4],\n",
        "    'LogisticRegression_class_weight': None, balanced,\n",
        "    'LogisticRegression_C': [0.0001,0.001,0.01,.1,1.0,10.0,100.0,1000.0,10000.0]\n",
        "}\n",
        "\n",
        "# Fit on the train set, with grid search cross-validation\n",
        "gs = GridSearchCV(pipeline, param_grid=param_grid, cv=5, \n",
        "                  scoring='recall', \n",
        "                  verbose=1)"
      ],
      "execution_count": 29,
      "outputs": [
        {
          "output_type": "error",
          "ename": "SyntaxError",
          "evalue": "ignored",
          "traceback": [
            "\u001b[0;36m  File \u001b[0;32m\"<ipython-input-29-34b880f20ecb>\"\u001b[0;36m, line \u001b[0;32m3\u001b[0m\n\u001b[0;31m    'LogisticRegression_class_weight': None, balanced,\u001b[0m\n\u001b[0m                                                     ^\u001b[0m\n\u001b[0;31mSyntaxError\u001b[0m\u001b[0;31m:\u001b[0m invalid syntax\n"
          ]
        }
      ]
    },
    {
      "metadata": {
        "id": "8bRQCENBUqkT",
        "colab_type": "code",
        "colab": {}
      },
      "cell_type": "code",
      "source": [
        ""
      ],
      "execution_count": 0,
      "outputs": []
    },
    {
      "metadata": {
        "id": "wgN8kG0ogBMH",
        "colab_type": "code",
        "colab": {}
      },
      "cell_type": "code",
      "source": [
        ""
      ],
      "execution_count": 0,
      "outputs": []
    },
    {
      "metadata": {
        "id": "urY_Wp3AiF83",
        "colab_type": "text"
      },
      "cell_type": "markdown",
      "source": [
        "## Part 3 — Show best score and parameters\n",
        "\n",
        "Display your **best cross-validation score**, and the **best parameters** (the values of `k, class_weight, C`) from the grid search.\n",
        "\n",
        "(You're not evaluated here on how good your score is, or which parameters you find. You're only evaluated on being able to display the information. There are several ways you can get the information, and any way is acceptable.)"
      ]
    },
    {
      "metadata": {
        "id": "qAxxkjG7gACP",
        "colab_type": "code",
        "colab": {}
      },
      "cell_type": "code",
      "source": [
        ""
      ],
      "execution_count": 0,
      "outputs": []
    },
    {
      "metadata": {
        "id": "jkyHoRIbEgRR",
        "colab_type": "text"
      },
      "cell_type": "markdown",
      "source": [
        "## Part 4 — Calculate classification metrics from a confusion matrix\n",
        "\n",
        "Suppose this is the confusion matrix for your binary classification model:\n",
        "\n",
        "<table>\n",
        "  <tr>\n",
        "    <th colspan=\"2\" rowspan=\"2\"></th>\n",
        "    <th colspan=\"2\">Predicted</th>\n",
        "  </tr>\n",
        "  <tr>\n",
        "    <th>Negative</th>\n",
        "    <th>Positive</th>\n",
        "  </tr>\n",
        "  <tr>\n",
        "    <th rowspan=\"2\">Actual</th>\n",
        "    <th>Negative</th>\n",
        "    <td>85</td>\n",
        "    <td>58</td>\n",
        "  </tr>\n",
        "  <tr>\n",
        "    <th>Positive</th>\n",
        "    <td>8</td>\n",
        "    <td>36</td>\n",
        "  </tr>\n",
        "</table>"
      ]
    },
    {
      "metadata": {
        "id": "LhyMM5H-JpVB",
        "colab_type": "text"
      },
      "cell_type": "markdown",
      "source": [
        "Calculate accuracy"
      ]
    },
    {
      "metadata": {
        "id": "TZPwqdh2KUcB",
        "colab_type": "code",
        "colab": {
          "base_uri": "https://localhost:8080/",
          "height": 35
        },
        "outputId": "464e9b15-cb9f-43b9-c4ee-1af85fc28d44"
      },
      "cell_type": "code",
      "source": [
        "# Accuracy = (True Positive +  True Negative) / Total\n",
        "accuracy = (36 + 85) / (85 + 58 + 8 + 36)\n",
        "print(accuracy)"
      ],
      "execution_count": 26,
      "outputs": [
        {
          "output_type": "stream",
          "text": [
            "0.6470588235294118\n"
          ],
          "name": "stdout"
        }
      ]
    },
    {
      "metadata": {
        "id": "BRWLfGcGKeQw",
        "colab_type": "text"
      },
      "cell_type": "markdown",
      "source": [
        "Calculate precision"
      ]
    },
    {
      "metadata": {
        "id": "A-FEZ4i_Kf_n",
        "colab_type": "code",
        "colab": {
          "base_uri": "https://localhost:8080/",
          "height": 35
        },
        "outputId": "c575497a-46fe-4b66-cc3e-5214182b7075"
      },
      "cell_type": "code",
      "source": [
        "# Precision = True Positive / Total Predicted\n",
        "precision = (36) / (58 + 36)\n",
        "print(precision)"
      ],
      "execution_count": 27,
      "outputs": [
        {
          "output_type": "stream",
          "text": [
            "0.3829787234042553\n"
          ],
          "name": "stdout"
        }
      ]
    },
    {
      "metadata": {
        "id": "h_mH2NYDKi2C",
        "colab_type": "text"
      },
      "cell_type": "markdown",
      "source": [
        "Calculate recall"
      ]
    },
    {
      "metadata": {
        "id": "U4_wJGyjKkXJ",
        "colab_type": "code",
        "colab": {
          "base_uri": "https://localhost:8080/",
          "height": 35
        },
        "outputId": "95d58e02-b3b0-4609-a55a-afea23326f1d"
      },
      "cell_type": "code",
      "source": [
        "# Recall = True Positive / Total Positive\n",
        "recall = (36)  / (8 + 36)\n",
        "print(recall)"
      ],
      "execution_count": 28,
      "outputs": [
        {
          "output_type": "stream",
          "text": [
            "0.8181818181818182\n"
          ],
          "name": "stdout"
        }
      ]
    },
    {
      "metadata": {
        "id": "9KEaWsk5Kk9W",
        "colab_type": "text"
      },
      "cell_type": "markdown",
      "source": [
        "## BONUS — How you can earn a score of 3\n",
        "\n",
        "### Part 1\n",
        "Do feature engineering, to try improving your cross-validation score.\n",
        "\n",
        "### Part 2\n",
        "Add transformations in your pipeline and parameters in your grid, to try improving your cross-validation score.\n",
        "\n",
        "### Part 3\n",
        "Show names of selected features. Then do a final evaluation on the test set — what is the test score?\n",
        "\n",
        "### Part 4\n",
        "Calculate F1 score and False Positive Rate. "
      ]
    }
  ]
}