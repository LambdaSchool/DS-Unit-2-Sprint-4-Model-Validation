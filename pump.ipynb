{
  "nbformat": 4,
  "nbformat_minor": 0,
  "metadata": {
    "colab": {
      "name": "pump.ipynb",
      "version": "0.3.2",
      "provenance": [],
      "include_colab_link": true
    },
    "kernelspec": {
      "name": "python2",
      "display_name": "Python 2"
    }
  },
  "cells": [
    {
      "cell_type": "markdown",
      "metadata": {
        "id": "view-in-github",
        "colab_type": "text"
      },
      "source": [
        "<a href=\"https://colab.research.google.com/github/cocoisland/DS-Unit-2-Sprint-4-Model-Validation/blob/master/pump.ipynb\" target=\"_parent\"><img src=\"https://colab.research.google.com/assets/colab-badge.svg\" alt=\"Open In Colab\"/></a>"
      ]
    },
    {
      "metadata": {
        "id": "OQOX3fQYroDa",
        "colab_type": "code",
        "outputId": "7f0889e1-4f8e-413b-f317-1fb64d1ec703",
        "colab": {
          "base_uri": "https://localhost:8080/",
          "height": 206
        }
      },
      "cell_type": "code",
      "source": [
        "!pip install kaggle"
      ],
      "execution_count": 2,
      "outputs": [
        {
          "output_type": "stream",
          "text": [
            "Requirement already satisfied: kaggle in /usr/local/lib/python2.7/dist-packages (1.5.2)\n",
            "Requirement already satisfied: urllib3<1.23.0,>=1.15 in /usr/local/lib/python2.7/dist-packages (from kaggle) (1.22)\n",
            "Requirement already satisfied: six>=1.10 in /usr/local/lib/python2.7/dist-packages (from kaggle) (1.11.0)\n",
            "Requirement already satisfied: certifi in /usr/local/lib/python2.7/dist-packages (from kaggle) (2018.11.29)\n",
            "Requirement already satisfied: python-dateutil in /usr/local/lib/python2.7/dist-packages (from kaggle) (2.5.3)\n",
            "Requirement already satisfied: requests in /usr/local/lib/python2.7/dist-packages (from kaggle) (2.18.4)\n",
            "Requirement already satisfied: tqdm in /usr/local/lib/python2.7/dist-packages (from kaggle) (4.28.1)\n",
            "Requirement already satisfied: python-slugify in /usr/local/lib/python2.7/dist-packages (from kaggle) (2.0.1)\n",
            "Requirement already satisfied: idna<2.7,>=2.5 in /usr/local/lib/python2.7/dist-packages (from requests->kaggle) (2.6)\n",
            "Requirement already satisfied: chardet<3.1.0,>=3.0.2 in /usr/local/lib/python2.7/dist-packages (from requests->kaggle) (3.0.4)\n",
            "Requirement already satisfied: Unidecode>=0.04.16 in /usr/local/lib/python2.7/dist-packages (from python-slugify->kaggle) (1.0.23)\n"
          ],
          "name": "stdout"
        }
      ]
    },
    {
      "metadata": {
        "id": "WaTecLTNryrG",
        "colab_type": "code",
        "outputId": "57392b61-895b-4e3f-a81a-726775a72783",
        "colab": {
          "base_uri": "https://localhost:8080/",
          "height": 51
        }
      },
      "cell_type": "code",
      "source": [
        "from google.colab import drive\n",
        "drive.mount('/content/drive')\n",
        "%env KAGGLE_CONFIG_DIR=/content/drive/My Drive/"
      ],
      "execution_count": 3,
      "outputs": [
        {
          "output_type": "stream",
          "text": [
            "Drive already mounted at /content/drive; to attempt to forcibly remount, call drive.mount(\"/content/drive\", force_remount=True).\n",
            "env: KAGGLE_CONFIG_DIR=/content/drive/My Drive/\n"
          ],
          "name": "stdout"
        }
      ]
    },
    {
      "metadata": {
        "id": "k2iuXjFyvmzG",
        "colab_type": "code",
        "outputId": "36c8c841-d03e-4180-ab8c-f42b6ed1b979",
        "colab": {
          "base_uri": "https://localhost:8080/",
          "height": 86
        }
      },
      "cell_type": "code",
      "source": [
        "!kaggle  competitions download -c ds1-predictive-modeling-challenge"
      ],
      "execution_count": 4,
      "outputs": [
        {
          "output_type": "stream",
          "text": [
            "sample_submission.csv: Skipping, found more recently modified local copy (use --force to force download)\n",
            "test_features.csv.zip: Skipping, found more recently modified local copy (use --force to force download)\n",
            "train_labels.csv.zip: Skipping, found more recently modified local copy (use --force to force download)\n",
            "train_features.csv.zip: Skipping, found more recently modified local copy (use --force to force download)\n"
          ],
          "name": "stdout"
        }
      ]
    },
    {
      "metadata": {
        "id": "faVKlWCO5PI5",
        "colab_type": "code",
        "outputId": "12247154-6e7b-4279-8ee8-95df7a7fbe15",
        "colab": {
          "base_uri": "https://localhost:8080/",
          "height": 154
        }
      },
      "cell_type": "code",
      "source": [
        "!unzip train_features.csv.zip\n",
        "!unzip train_labels.csv.zip\n",
        "!unzip test_features.csv.zip\n",
        "\n"
      ],
      "execution_count": 5,
      "outputs": [
        {
          "output_type": "stream",
          "text": [
            "Archive:  train_features.csv.zip\n",
            "replace train_features.csv? [y]es, [n]o, [A]ll, [N]one, [r]ename: N\n",
            "Archive:  train_labels.csv.zip\n",
            "replace train_labels.csv? [y]es, [n]o, [A]ll, [N]one, [r]ename: A\n",
            "  inflating: train_labels.csv        \n",
            "Archive:  test_features.csv.zip\n",
            "replace test_features.csv? [y]es, [n]o, [A]ll, [N]one, [r]ename: A\n",
            "  inflating: test_features.csv       \n"
          ],
          "name": "stdout"
        }
      ]
    },
    {
      "metadata": {
        "id": "LFN4liBbEgBm",
        "colab_type": "code",
        "colab": {}
      },
      "cell_type": "code",
      "source": [
        "import pandas as pd\n",
        "import numpy as np\n",
        "import matplotlib.pyplot as plt\n",
        "from sklearn.model_selection import train_test_split\n",
        "import sklearn.feature_selection as fe\n",
        "from sklearn.feature_selection import SelectPercentile, SelectKBest, f_classif\n",
        "from sklearn.feature_selection import RFECV\n",
        "\n",
        "from sklearn.model_selection import GridSearchCV\n",
        "from sklearn.pipeline import make_pipeline\n",
        "\n",
        "from sklearn.preprocessing import MinMaxScaler\n",
        "from sklearn.preprocessing import RobustScaler\n",
        "\n",
        "from sklearn.metrics import accuracy_score, classification_report\n",
        "from sklearn.linear_model import LogisticRegression\n",
        "from sklearn.linear_model import Ridge\n",
        "from sklearn.model_selection import cross_validate\n",
        "\n",
        "from mlxtend.plotting import plot_decision_regions\n",
        "#import category_encoders as ce\n"
      ],
      "execution_count": 0,
      "outputs": []
    },
    {
      "metadata": {
        "id": "aU8Uonvd4yye",
        "colab_type": "code",
        "outputId": "fa210a05-5fee-4581-c90b-9962ca19b009",
        "colab": {
          "base_uri": "https://localhost:8080/",
          "height": 34
        }
      },
      "cell_type": "code",
      "source": [
        "# DO NOT USE\n",
        "# date as index\n",
        "df_train = pd.read_csv('train_features.csv',index_col='date_recorded', \n",
        "              parse_dates=True, infer_datetime_format=True)\n",
        "df_test = pd.read_csv('test_features.csv', index_col='date_recorded',\n",
        "                     parse_dates=True, infer_datetime_format=True)\n",
        "df_label = pd.read_csv('train_labels.csv')\n",
        "\n",
        "df_train.shape, df_test.shape, df_label.shape\n"
      ],
      "execution_count": 7,
      "outputs": [
        {
          "output_type": "execute_result",
          "data": {
            "text/plain": [
              "((59400, 39), (14358, 39), (59400, 2))"
            ]
          },
          "metadata": {
            "tags": []
          },
          "execution_count": 7
        }
      ]
    },
    {
      "metadata": {
        "id": "DQnRcgCYrrDr",
        "colab_type": "code",
        "outputId": "f1d18eff-0307-41c8-8eda-72c44081ef5e",
        "colab": {
          "base_uri": "https://localhost:8080/",
          "height": 34
        }
      },
      "cell_type": "code",
      "source": [
        "# id as index\n",
        "df_train = pd.read_csv('train_features.csv',index_col='id')\n",
        "df_test = pd.read_csv('test_features.csv', index_col='id')\n",
        "df_label = pd.read_csv('train_labels.csv')\n",
        "df_sample = pd.read_csv('sample_submission.csv')\n",
        "\n",
        "df_train.shape, df_test.shape, df_label.shape, df_sample.shape\n"
      ],
      "execution_count": 31,
      "outputs": [
        {
          "output_type": "execute_result",
          "data": {
            "text/plain": [
              "((59400, 39), (14358, 39), (59400, 2), (14358, 2))"
            ]
          },
          "metadata": {
            "tags": []
          },
          "execution_count": 31
        }
      ]
    },
    {
      "metadata": {
        "id": "eS23mcs_f2Ea",
        "colab_type": "code",
        "outputId": "ba77d309-3e38-4904-c3ff-17983a39f6b6",
        "colab": {
          "base_uri": "https://localhost:8080/",
          "height": 34
        }
      },
      "cell_type": "code",
      "source": [
        "X_train_val, X_test, y_train_val, y_test = train_test_split(\n",
        "        df_train, df_label, test_size=0.25, random_state=42, shuffle=True)\n",
        "\n",
        "X_train_val.shape, X_test.shape, y_train_val.shape, y_test.shape"
      ],
      "execution_count": 32,
      "outputs": [
        {
          "output_type": "execute_result",
          "data": {
            "text/plain": [
              "((44550, 39), (14850, 39), (44550, 2), (14850, 2))"
            ]
          },
          "metadata": {
            "tags": []
          },
          "execution_count": 32
        }
      ]
    },
    {
      "metadata": {
        "id": "3O2kVsqY7o3x",
        "colab_type": "code",
        "colab": {}
      },
      "cell_type": "code",
      "source": [
        "# majority baseline\n",
        "# balanced data - logistic class_weight = \n",
        "#            (None, accuracy = 0.55),\n",
        "#            (balanced,accuracy=0.39-0.4)\n",
        "\n",
        "\n",
        "df_label['status_group'].value_counts(normalize=True)"
      ],
      "execution_count": 0,
      "outputs": []
    },
    {
      "metadata": {
        "id": "VWBP6SeuRuyR",
        "colab_type": "code",
        "colab": {
          "base_uri": "https://localhost:8080/",
          "height": 291
        },
        "outputId": "95643f93-5ae1-4a7d-be1e-00710a250b1d"
      },
      "cell_type": "code",
      "source": [
        "pd.set_option('display.max_columns', None)\n",
        "\n",
        "#df_str=X_train_val.select_dtypes(exclude=['int','float']).copy()\n",
        "df_str=X_train_val.select_dtypes(object).copy()\n",
        "df_str.head(3)\n"
      ],
      "execution_count": 47,
      "outputs": [
        {
          "output_type": "execute_result",
          "data": {
            "text/html": [
              "<div>\n",
              "<style scoped>\n",
              "    .dataframe tbody tr th:only-of-type {\n",
              "        vertical-align: middle;\n",
              "    }\n",
              "\n",
              "    .dataframe tbody tr th {\n",
              "        vertical-align: top;\n",
              "    }\n",
              "\n",
              "    .dataframe thead th {\n",
              "        text-align: right;\n",
              "    }\n",
              "</style>\n",
              "<table border=\"1\" class=\"dataframe\">\n",
              "  <thead>\n",
              "    <tr style=\"text-align: right;\">\n",
              "      <th></th>\n",
              "      <th>date_recorded</th>\n",
              "      <th>funder</th>\n",
              "      <th>installer</th>\n",
              "      <th>wpt_name</th>\n",
              "      <th>basin</th>\n",
              "      <th>subvillage</th>\n",
              "      <th>region</th>\n",
              "      <th>lga</th>\n",
              "      <th>ward</th>\n",
              "      <th>public_meeting</th>\n",
              "      <th>recorded_by</th>\n",
              "      <th>scheme_management</th>\n",
              "      <th>scheme_name</th>\n",
              "      <th>permit</th>\n",
              "      <th>extraction_type</th>\n",
              "      <th>extraction_type_group</th>\n",
              "      <th>extraction_type_class</th>\n",
              "      <th>management</th>\n",
              "      <th>management_group</th>\n",
              "      <th>payment</th>\n",
              "      <th>payment_type</th>\n",
              "      <th>water_quality</th>\n",
              "      <th>quality_group</th>\n",
              "      <th>quantity</th>\n",
              "      <th>quantity_group</th>\n",
              "      <th>source</th>\n",
              "      <th>source_type</th>\n",
              "      <th>source_class</th>\n",
              "      <th>waterpoint_type</th>\n",
              "      <th>waterpoint_type_group</th>\n",
              "    </tr>\n",
              "    <tr>\n",
              "      <th>id</th>\n",
              "      <th></th>\n",
              "      <th></th>\n",
              "      <th></th>\n",
              "      <th></th>\n",
              "      <th></th>\n",
              "      <th></th>\n",
              "      <th></th>\n",
              "      <th></th>\n",
              "      <th></th>\n",
              "      <th></th>\n",
              "      <th></th>\n",
              "      <th></th>\n",
              "      <th></th>\n",
              "      <th></th>\n",
              "      <th></th>\n",
              "      <th></th>\n",
              "      <th></th>\n",
              "      <th></th>\n",
              "      <th></th>\n",
              "      <th></th>\n",
              "      <th></th>\n",
              "      <th></th>\n",
              "      <th></th>\n",
              "      <th></th>\n",
              "      <th></th>\n",
              "      <th></th>\n",
              "      <th></th>\n",
              "      <th></th>\n",
              "      <th></th>\n",
              "      <th></th>\n",
              "    </tr>\n",
              "  </thead>\n",
              "  <tbody>\n",
              "    <tr>\n",
              "      <th>33935</th>\n",
              "      <td>2011-03-08</td>\n",
              "      <td>Government Of Tanzania</td>\n",
              "      <td>Ce</td>\n",
              "      <td>Ccm</td>\n",
              "      <td>Wami / Ruvu</td>\n",
              "      <td>Kilangawageni</td>\n",
              "      <td>Pwani</td>\n",
              "      <td>Bagamoyo</td>\n",
              "      <td>Mbwewe</td>\n",
              "      <td>True</td>\n",
              "      <td>GeoData Consultants Ltd</td>\n",
              "      <td>VWC</td>\n",
              "      <td>Kwaruhombo wa</td>\n",
              "      <td>True</td>\n",
              "      <td>ksb</td>\n",
              "      <td>submersible</td>\n",
              "      <td>submersible</td>\n",
              "      <td>vwc</td>\n",
              "      <td>user-group</td>\n",
              "      <td>pay per bucket</td>\n",
              "      <td>per bucket</td>\n",
              "      <td>salty</td>\n",
              "      <td>salty</td>\n",
              "      <td>insufficient</td>\n",
              "      <td>insufficient</td>\n",
              "      <td>machine dbh</td>\n",
              "      <td>borehole</td>\n",
              "      <td>groundwater</td>\n",
              "      <td>communal standpipe</td>\n",
              "      <td>communal standpipe</td>\n",
              "    </tr>\n",
              "    <tr>\n",
              "      <th>49654</th>\n",
              "      <td>2013-02-16</td>\n",
              "      <td>Dwsp</td>\n",
              "      <td>DWE</td>\n",
              "      <td>Mwamahonza</td>\n",
              "      <td>Lake Victoria</td>\n",
              "      <td>Mwamahala</td>\n",
              "      <td>Mwanza</td>\n",
              "      <td>Magu</td>\n",
              "      <td>Nkungulu</td>\n",
              "      <td>NaN</td>\n",
              "      <td>GeoData Consultants Ltd</td>\n",
              "      <td>WUG</td>\n",
              "      <td>NaN</td>\n",
              "      <td>False</td>\n",
              "      <td>nira/tanira</td>\n",
              "      <td>nira/tanira</td>\n",
              "      <td>handpump</td>\n",
              "      <td>wug</td>\n",
              "      <td>user-group</td>\n",
              "      <td>unknown</td>\n",
              "      <td>unknown</td>\n",
              "      <td>soft</td>\n",
              "      <td>good</td>\n",
              "      <td>enough</td>\n",
              "      <td>enough</td>\n",
              "      <td>shallow well</td>\n",
              "      <td>shallow well</td>\n",
              "      <td>groundwater</td>\n",
              "      <td>hand pump</td>\n",
              "      <td>hand pump</td>\n",
              "    </tr>\n",
              "    <tr>\n",
              "      <th>39287</th>\n",
              "      <td>2011-08-13</td>\n",
              "      <td>Dasip</td>\n",
              "      <td>DASIP</td>\n",
              "      <td>Chanongu</td>\n",
              "      <td>Lake Victoria</td>\n",
              "      <td>Chanongu</td>\n",
              "      <td>Mwanza</td>\n",
              "      <td>Kwimba</td>\n",
              "      <td>Wala</td>\n",
              "      <td>True</td>\n",
              "      <td>GeoData Consultants Ltd</td>\n",
              "      <td>VWC</td>\n",
              "      <td>NaN</td>\n",
              "      <td>True</td>\n",
              "      <td>india mark ii</td>\n",
              "      <td>india mark ii</td>\n",
              "      <td>handpump</td>\n",
              "      <td>vwc</td>\n",
              "      <td>user-group</td>\n",
              "      <td>never pay</td>\n",
              "      <td>never pay</td>\n",
              "      <td>soft</td>\n",
              "      <td>good</td>\n",
              "      <td>enough</td>\n",
              "      <td>enough</td>\n",
              "      <td>machine dbh</td>\n",
              "      <td>borehole</td>\n",
              "      <td>groundwater</td>\n",
              "      <td>hand pump</td>\n",
              "      <td>hand pump</td>\n",
              "    </tr>\n",
              "  </tbody>\n",
              "</table>\n",
              "</div>"
            ],
            "text/plain": [
              "      date_recorded                  funder installer    wpt_name  \\\n",
              "id                                                                  \n",
              "33935    2011-03-08  Government Of Tanzania        Ce         Ccm   \n",
              "49654    2013-02-16                    Dwsp       DWE  Mwamahonza   \n",
              "39287    2011-08-13                   Dasip     DASIP    Chanongu   \n",
              "\n",
              "               basin     subvillage  region       lga      ward  \\\n",
              "id                                                                \n",
              "33935    Wami / Ruvu  Kilangawageni   Pwani  Bagamoyo    Mbwewe   \n",
              "49654  Lake Victoria      Mwamahala  Mwanza      Magu  Nkungulu   \n",
              "39287  Lake Victoria       Chanongu  Mwanza    Kwimba      Wala   \n",
              "\n",
              "      public_meeting              recorded_by scheme_management  \\\n",
              "id                                                                \n",
              "33935           True  GeoData Consultants Ltd               VWC   \n",
              "49654            NaN  GeoData Consultants Ltd               WUG   \n",
              "39287           True  GeoData Consultants Ltd               VWC   \n",
              "\n",
              "         scheme_name permit extraction_type extraction_type_group  \\\n",
              "id                                                                  \n",
              "33935  Kwaruhombo wa   True             ksb           submersible   \n",
              "49654            NaN  False     nira/tanira           nira/tanira   \n",
              "39287            NaN   True   india mark ii         india mark ii   \n",
              "\n",
              "      extraction_type_class management management_group         payment  \\\n",
              "id                                                                        \n",
              "33935           submersible        vwc       user-group  pay per bucket   \n",
              "49654              handpump        wug       user-group         unknown   \n",
              "39287              handpump        vwc       user-group       never pay   \n",
              "\n",
              "      payment_type water_quality quality_group      quantity quantity_group  \\\n",
              "id                                                                            \n",
              "33935   per bucket         salty         salty  insufficient   insufficient   \n",
              "49654      unknown          soft          good        enough         enough   \n",
              "39287    never pay          soft          good        enough         enough   \n",
              "\n",
              "             source   source_type source_class     waterpoint_type  \\\n",
              "id                                                                   \n",
              "33935   machine dbh      borehole  groundwater  communal standpipe   \n",
              "49654  shallow well  shallow well  groundwater           hand pump   \n",
              "39287   machine dbh      borehole  groundwater           hand pump   \n",
              "\n",
              "      waterpoint_type_group  \n",
              "id                           \n",
              "33935    communal standpipe  \n",
              "49654             hand pump  \n",
              "39287             hand pump  "
            ]
          },
          "metadata": {
            "tags": []
          },
          "execution_count": 47
        }
      ]
    },
    {
      "metadata": {
        "id": "y32h4WFOoqTl",
        "colab_type": "code",
        "colab": {
          "base_uri": "https://localhost:8080/",
          "height": 171
        },
        "outputId": "0d451bff-3f8b-44d4-9975-1a5c61137f8b"
      },
      "cell_type": "code",
      "source": [
        "X_train_val.water_quality.value_counts()"
      ],
      "execution_count": 157,
      "outputs": [
        {
          "output_type": "execute_result",
          "data": {
            "text/plain": [
              "soft                  38064\n",
              "salty                  3674\n",
              "unknown                1398\n",
              "milky                   620\n",
              "coloured                373\n",
              "salty abandoned         249\n",
              "fluoride                159\n",
              "fluoride abandoned       13\n",
              "Name: water_quality, dtype: int64"
            ]
          },
          "metadata": {
            "tags": []
          },
          "execution_count": 157
        }
      ]
    },
    {
      "metadata": {
        "id": "kD8OW1JeqGFB",
        "colab_type": "code",
        "colab": {
          "base_uri": "https://localhost:8080/",
          "height": 137
        },
        "outputId": "1c0ce52c-9749-4a2f-884e-26245964d3da"
      },
      "cell_type": "code",
      "source": [
        "X_train_val.quality_group.value_counts()"
      ],
      "execution_count": 158,
      "outputs": [
        {
          "output_type": "execute_result",
          "data": {
            "text/plain": [
              "good        38064\n",
              "salty        3923\n",
              "unknown      1398\n",
              "milky         620\n",
              "colored       373\n",
              "fluoride      172\n",
              "Name: quality_group, dtype: int64"
            ]
          },
          "metadata": {
            "tags": []
          },
          "execution_count": 158
        }
      ]
    },
    {
      "metadata": {
        "id": "vTnn2Mv7LGBj",
        "colab_type": "code",
        "colab": {}
      },
      "cell_type": "code",
      "source": [
        "# As observations increase, more features will fail to pass the threshold\n",
        "# At 50,000+ observation, passing threshold drops to 0.1\n",
        "\n",
        "#remove all features that are either one or zero (on or off) in more than 80% of the samples.\n",
        "#threshold = 0.8 * (1- .8)\n",
        "\n",
        "import sklearn.feature_selection as fe\n",
        "\n",
        "def variance_threshold_selector(data, threshold=0.01):\n",
        "    selector = fe.VarianceThreshold(threshold)\n",
        "    selector.fit(data)\n",
        "    return data[data.columns[selector.get_support(indices=True)]]"
      ],
      "execution_count": 0,
      "outputs": []
    },
    {
      "metadata": {
        "id": "n_9SfGy4K0dt",
        "colab_type": "code",
        "colab": {
          "base_uri": "https://localhost:8080/",
          "height": 703
        },
        "outputId": "4e95735c-3260-4efe-f073-a3e02879a6f8"
      },
      "cell_type": "code",
      "source": [
        "df_test.isnull().sum()"
      ],
      "execution_count": 58,
      "outputs": [
        {
          "output_type": "execute_result",
          "data": {
            "text/plain": [
              "amount_tsh                  0\n",
              "date_recorded               0\n",
              "funder                    783\n",
              "gps_height                  0\n",
              "installer                 788\n",
              "longitude                   0\n",
              "latitude                    0\n",
              "wpt_name                    0\n",
              "num_private                 0\n",
              "basin                       0\n",
              "subvillage                 94\n",
              "region                      0\n",
              "region_code                 0\n",
              "district_code               0\n",
              "lga                         0\n",
              "ward                        0\n",
              "population                  0\n",
              "public_meeting            785\n",
              "recorded_by                 0\n",
              "scheme_management         939\n",
              "scheme_name              6839\n",
              "permit                    663\n",
              "construction_year           0\n",
              "extraction_type             0\n",
              "extraction_type_group       0\n",
              "extraction_type_class       0\n",
              "management                  0\n",
              "management_group            0\n",
              "payment                     0\n",
              "payment_type                0\n",
              "water_quality               0\n",
              "quality_group               0\n",
              "quantity                    0\n",
              "quantity_group              0\n",
              "source                      0\n",
              "source_type                 0\n",
              "source_class                0\n",
              "waterpoint_type             0\n",
              "waterpoint_type_group       0\n",
              "dtype: int64"
            ]
          },
          "metadata": {
            "tags": []
          },
          "execution_count": 58
        }
      ]
    },
    {
      "metadata": {
        "id": "nDP9e69gt7bL",
        "colab_type": "code",
        "colab": {}
      },
      "cell_type": "code",
      "source": [
        "X_.quality_group.replace('unknown','unkwn_qual_grp')"
      ],
      "execution_count": 0,
      "outputs": []
    },
    {
      "metadata": {
        "id": "ZPP-XroM6BH9",
        "colab_type": "code",
        "colab": {}
      },
      "cell_type": "code",
      "source": [
        "def wrangle(X):\n",
        "  \n",
        "  # get all continuous value column\n",
        "  X_num = X._get_numeric_data()\n",
        "  \n",
        "  \n",
        "  # funder\n",
        "  X.funder = X.funder.replace(np.nan, 'missing')\n",
        "  X.funder = X.funder.replace('0', 'missing')\n",
        "  X.funder = X.funder.replace('other','other_funder')\n",
        "  X_dummies = pd.get_dummies(X.funder)\n",
        "  dummy_filter=variance_threshold_selector(X_dummies)\n",
        "  X_num = X_num.join(dummy_filter, how='inner')\n",
        "  \n",
        "  # quality_group\n",
        "  X.quality_group=X.quality_group.replace('unknown','unkwn_qual_grp')\n",
        "  X_dummies = pd.get_dummies(X.quality_group)\n",
        "  dummy_filter=variance_threshold_selector(X_dummies)\n",
        "  X_num = X_num.join(dummy_filter, how='inner')\n",
        "  \n",
        "  # quantity\n",
        "  X.quantity=X.quantity.replace('unknown','unknown_quantity')\n",
        "  X_dummies = pd.get_dummies(X.quantity)\n",
        "  dummy_filter=variance_threshold_selector(X_dummies)\n",
        "  X_num = X_num.join(dummy_filter, how='inner')\n",
        "  \n",
        "  # source\n",
        "  X.source_type=X.source_type.replace('other','other_source')\n",
        "  X_dummies = pd.get_dummies(X.source_type)\n",
        "  dummy_filter=variance_threshold_selector(X_dummies)\n",
        "  X_num = X_num.join(dummy_filter, how='inner')\n",
        "  \n",
        "  '''# source_class\n",
        "  X.source_class.replace('unknown','unknown_source_class')\n",
        "  X_dummies = pd.get_dummies(X.source_class)\n",
        "  dummy_filter=variance_threshold_selector(X_dummies)\n",
        "  X_num = X_num.join(dummy_filter, how='inner')'''\n",
        "  \n",
        "  # waterpoint_type\n",
        "  X.waterpoint_type=X.waterpoint_type.replace('other','other_waterpoint')\n",
        "  X_dummies = pd.get_dummies(X.waterpoint_type)\n",
        "  dummy_filter=variance_threshold_selector(X_dummies)\n",
        "  X_num = X_num.join(dummy_filter, how='inner')\n",
        "  \n",
        "  \n",
        "  #y = y.replace(['non functional','functional','functional needs repair'],[1,2,3])\n",
        "  #y = y.values\n",
        "  \n",
        "  \n",
        "  return X_num\n",
        "  "
      ],
      "execution_count": 0,
      "outputs": []
    },
    {
      "metadata": {
        "id": "zpEekXf8u-gq",
        "colab_type": "code",
        "colab": {}
      },
      "cell_type": "code",
      "source": [
        "# NOT USE - for understanding variance_threshold only\n",
        "# same as variance threshold function\n",
        "def noise_filter(df, col, threshold=0.01):\n",
        "  X_dummies=pd.DataFrame()\n",
        "  X_dummies[col]=df[col].value_counts(normalize=True)\n",
        "\n",
        "  for noise_cat in X_dummies.loc[(X_dummies[col] < threshold)].index.values:\n",
        "    df[col].replace(noise_cat, 'noise', inplace=True)\n",
        "\n",
        "  #df_str['funder'].replace('0', 'noise', inplace=True)\n",
        "  #df_str['funder'].replace(np.nan,'noise' ,inplace=True)\n",
        "\n",
        "  return pd.get_dummies(df[col])\n",
        "\n",
        "dummy_filter = noise_filter(df_str, 'funder' ,0.01)\n",
        "dummy_filter=dummy_filter.drop(['0','noise'], axis=1)\n",
        "dummy_filter.shape"
      ],
      "execution_count": 0,
      "outputs": []
    },
    {
      "metadata": {
        "id": "uAwImYeiI3zf",
        "colab_type": "code",
        "outputId": "eae5df42-1e21-4162-f0a5-bc610d400b50",
        "colab": {
          "base_uri": "https://localhost:8080/",
          "height": 138
        }
      },
      "cell_type": "code",
      "source": [
        "# Baseline metric - numeric only - test_score=0.55\n",
        "X = wrangle(X_train_val)\n",
        "y = y_train_val.status_group.values\n",
        "\n",
        "\n",
        "scores = cross_validate(LogisticRegression(solver='lbfgs',class_weight=None), X, y, \n",
        "                        scoring='accuracy', cv=3,\n",
        "                        return_train_score=True, return_estimator=True)\n",
        "\n",
        "pd.DataFrame(scores)"
      ],
      "execution_count": 170,
      "outputs": [
        {
          "output_type": "execute_result",
          "data": {
            "text/html": [
              "<div>\n",
              "<style scoped>\n",
              "    .dataframe tbody tr th:only-of-type {\n",
              "        vertical-align: middle;\n",
              "    }\n",
              "\n",
              "    .dataframe tbody tr th {\n",
              "        vertical-align: top;\n",
              "    }\n",
              "\n",
              "    .dataframe thead th {\n",
              "        text-align: right;\n",
              "    }\n",
              "</style>\n",
              "<table border=\"1\" class=\"dataframe\">\n",
              "  <thead>\n",
              "    <tr style=\"text-align: right;\">\n",
              "      <th></th>\n",
              "      <th>estimator</th>\n",
              "      <th>fit_time</th>\n",
              "      <th>score_time</th>\n",
              "      <th>test_score</th>\n",
              "      <th>train_score</th>\n",
              "    </tr>\n",
              "  </thead>\n",
              "  <tbody>\n",
              "    <tr>\n",
              "      <th>0</th>\n",
              "      <td>LogisticRegression(C=1.0, class_weight=None, d...</td>\n",
              "      <td>2.138110</td>\n",
              "      <td>0.033144</td>\n",
              "      <td>0.676318</td>\n",
              "      <td>0.671740</td>\n",
              "    </tr>\n",
              "    <tr>\n",
              "      <th>1</th>\n",
              "      <td>LogisticRegression(C=1.0, class_weight=None, d...</td>\n",
              "      <td>2.509811</td>\n",
              "      <td>0.033069</td>\n",
              "      <td>0.671111</td>\n",
              "      <td>0.673300</td>\n",
              "    </tr>\n",
              "    <tr>\n",
              "      <th>2</th>\n",
              "      <td>LogisticRegression(C=1.0, class_weight=None, d...</td>\n",
              "      <td>2.457643</td>\n",
              "      <td>0.032952</td>\n",
              "      <td>0.681123</td>\n",
              "      <td>0.682704</td>\n",
              "    </tr>\n",
              "  </tbody>\n",
              "</table>\n",
              "</div>"
            ],
            "text/plain": [
              "                                           estimator  fit_time  score_time  \\\n",
              "0  LogisticRegression(C=1.0, class_weight=None, d...  2.138110    0.033144   \n",
              "1  LogisticRegression(C=1.0, class_weight=None, d...  2.509811    0.033069   \n",
              "2  LogisticRegression(C=1.0, class_weight=None, d...  2.457643    0.032952   \n",
              "\n",
              "   test_score  train_score  \n",
              "0    0.676318     0.671740  \n",
              "1    0.671111     0.673300  \n",
              "2    0.681123     0.682704  "
            ]
          },
          "metadata": {
            "tags": []
          },
          "execution_count": 170
        }
      ]
    },
    {
      "metadata": {
        "id": "FaGMUyNhNPas",
        "colab_type": "code",
        "colab": {}
      },
      "cell_type": "code",
      "source": [
        "from sklearn.metrics import roc_auc_score\n",
        "roc_auc_score(y_val, y_pred)"
      ],
      "execution_count": 0,
      "outputs": []
    },
    {
      "metadata": {
        "id": "McjZSKrzFD7K",
        "colab_type": "code",
        "outputId": "a21c40b1-5ac5-4a08-a6e0-b735317bd4b0",
        "colab": {
          "base_uri": "https://localhost:8080/",
          "height": 466
        }
      },
      "cell_type": "code",
      "source": [
        "# Define an estimator and param_grid\n",
        "from sklearn.feature_selection import SelectPercentile, SelectKBest, f_classif,mutual_info_classif\n",
        "\n",
        "X = wrangle(X_train_val)\n",
        "y = y_train_val.status_group\n",
        "\n",
        "pipe = make_pipeline(\n",
        "    RobustScaler(), \n",
        "    #fe.SelectKBest(mutual_info_classif), #slow 0.58\n",
        "    fe.SelectKBest(f_classif),\n",
        "    LogisticRegression(solver='lbfgs'))\n",
        "\n",
        "param_grid = {\n",
        "    'selectkbest__k': ['all'],\n",
        "    'logisticregression__class_weight': [None, 'balanced'],\n",
        "    'logisticregression__C': [.01, .1, 1.0, 10.0]\n",
        "}\n",
        "\n",
        "# Fit on the train set, with grid search cross-validation\n",
        "gs = GridSearchCV(pipe, param_grid=param_grid, cv=3, \n",
        "                  scoring='accuracy', return_train_score=True,\n",
        "                  verbose=1)\n",
        "\n",
        "gs.fit(X, y)\n",
        "validation_score = gs.best_score_\n",
        "print()\n",
        "print('Cross-Validation Score:', validation_score)\n",
        "print()\n",
        "print('Best estimator:', gs.best_estimator_)\n",
        "print()\n",
        "\n",
        "results = pd.DataFrame(gs.cv_results_)\n",
        "print('Best result from grid search of {} parameter combinations'.format(len(results)))\n",
        "results.sort_values(by='rank_test_score').head(3)"
      ],
      "execution_count": 171,
      "outputs": [
        {
          "output_type": "stream",
          "text": [
            "Fitting 3 folds for each of 8 candidates, totalling 24 fits\n"
          ],
          "name": "stdout"
        },
        {
          "output_type": "stream",
          "text": [
            "[Parallel(n_jobs=1)]: Using backend SequentialBackend with 1 concurrent workers.\n",
            "[Parallel(n_jobs=1)]: Done  24 out of  24 | elapsed:  1.2min finished\n"
          ],
          "name": "stderr"
        },
        {
          "output_type": "stream",
          "text": [
            "()\n",
            "('Cross-Validation Score:', 0.7077441077441078)\n",
            "()\n",
            "('Best estimator:', Pipeline(memory=None,\n",
            "     steps=[('robustscaler', RobustScaler(copy=True, quantile_range=(25.0, 75.0), with_centering=True,\n",
            "       with_scaling=True)), ('selectkbest', SelectKBest(k='all', score_func=<function f_classif at 0x7f7bcd442d70>)), ('logisticregression', LogisticRegression(C=1.0, class_weight=None, dual=False, fit_...enalty='l2', random_state=None, solver='lbfgs',\n",
            "          tol=0.0001, verbose=0, warm_start=False))]))\n",
            "()\n",
            "Best result from grid search of 8 parameter combinations\n"
          ],
          "name": "stdout"
        },
        {
          "output_type": "execute_result",
          "data": {
            "text/html": [
              "<div>\n",
              "<style scoped>\n",
              "    .dataframe tbody tr th:only-of-type {\n",
              "        vertical-align: middle;\n",
              "    }\n",
              "\n",
              "    .dataframe tbody tr th {\n",
              "        vertical-align: top;\n",
              "    }\n",
              "\n",
              "    .dataframe thead th {\n",
              "        text-align: right;\n",
              "    }\n",
              "</style>\n",
              "<table border=\"1\" class=\"dataframe\">\n",
              "  <thead>\n",
              "    <tr style=\"text-align: right;\">\n",
              "      <th></th>\n",
              "      <th>mean_fit_time</th>\n",
              "      <th>mean_score_time</th>\n",
              "      <th>mean_test_score</th>\n",
              "      <th>mean_train_score</th>\n",
              "      <th>param_logisticregression__C</th>\n",
              "      <th>param_logisticregression__class_weight</th>\n",
              "      <th>param_selectkbest__k</th>\n",
              "      <th>params</th>\n",
              "      <th>rank_test_score</th>\n",
              "      <th>split0_test_score</th>\n",
              "      <th>split0_train_score</th>\n",
              "      <th>split1_test_score</th>\n",
              "      <th>split1_train_score</th>\n",
              "      <th>split2_test_score</th>\n",
              "      <th>split2_train_score</th>\n",
              "      <th>std_fit_time</th>\n",
              "      <th>std_score_time</th>\n",
              "      <th>std_test_score</th>\n",
              "      <th>std_train_score</th>\n",
              "    </tr>\n",
              "  </thead>\n",
              "  <tbody>\n",
              "    <tr>\n",
              "      <th>4</th>\n",
              "      <td>2.934504</td>\n",
              "      <td>0.048368</td>\n",
              "      <td>0.707744</td>\n",
              "      <td>0.707845</td>\n",
              "      <td>1</td>\n",
              "      <td>None</td>\n",
              "      <td>all</td>\n",
              "      <td>{u'selectkbest__k': u'all', u'logisticregressi...</td>\n",
              "      <td>1</td>\n",
              "      <td>0.708033</td>\n",
              "      <td>0.707903</td>\n",
              "      <td>0.710236</td>\n",
              "      <td>0.706128</td>\n",
              "      <td>0.704963</td>\n",
              "      <td>0.709505</td>\n",
              "      <td>0.040316</td>\n",
              "      <td>0.000168</td>\n",
              "      <td>0.002162</td>\n",
              "      <td>0.001379</td>\n",
              "    </tr>\n",
              "    <tr>\n",
              "      <th>6</th>\n",
              "      <td>2.927286</td>\n",
              "      <td>0.047936</td>\n",
              "      <td>0.707250</td>\n",
              "      <td>0.707351</td>\n",
              "      <td>10</td>\n",
              "      <td>None</td>\n",
              "      <td>all</td>\n",
              "      <td>{u'selectkbest__k': u'all', u'logisticregressi...</td>\n",
              "      <td>2</td>\n",
              "      <td>0.707629</td>\n",
              "      <td>0.707196</td>\n",
              "      <td>0.708283</td>\n",
              "      <td>0.704916</td>\n",
              "      <td>0.705839</td>\n",
              "      <td>0.709942</td>\n",
              "      <td>0.019876</td>\n",
              "      <td>0.000556</td>\n",
              "      <td>0.001033</td>\n",
              "      <td>0.002055</td>\n",
              "    </tr>\n",
              "    <tr>\n",
              "      <th>2</th>\n",
              "      <td>2.886678</td>\n",
              "      <td>0.048256</td>\n",
              "      <td>0.706240</td>\n",
              "      <td>0.706712</td>\n",
              "      <td>0.1</td>\n",
              "      <td>None</td>\n",
              "      <td>all</td>\n",
              "      <td>{u'selectkbest__k': u'all', u'logisticregressi...</td>\n",
              "      <td>3</td>\n",
              "      <td>0.706282</td>\n",
              "      <td>0.706253</td>\n",
              "      <td>0.708754</td>\n",
              "      <td>0.704646</td>\n",
              "      <td>0.703684</td>\n",
              "      <td>0.709235</td>\n",
              "      <td>0.059136</td>\n",
              "      <td>0.000123</td>\n",
              "      <td>0.002070</td>\n",
              "      <td>0.001901</td>\n",
              "    </tr>\n",
              "  </tbody>\n",
              "</table>\n",
              "</div>"
            ],
            "text/plain": [
              "   mean_fit_time  mean_score_time  mean_test_score  mean_train_score  \\\n",
              "4       2.934504         0.048368         0.707744          0.707845   \n",
              "6       2.927286         0.047936         0.707250          0.707351   \n",
              "2       2.886678         0.048256         0.706240          0.706712   \n",
              "\n",
              "  param_logisticregression__C param_logisticregression__class_weight  \\\n",
              "4                           1                                   None   \n",
              "6                          10                                   None   \n",
              "2                         0.1                                   None   \n",
              "\n",
              "  param_selectkbest__k                                             params  \\\n",
              "4                  all  {u'selectkbest__k': u'all', u'logisticregressi...   \n",
              "6                  all  {u'selectkbest__k': u'all', u'logisticregressi...   \n",
              "2                  all  {u'selectkbest__k': u'all', u'logisticregressi...   \n",
              "\n",
              "   rank_test_score  split0_test_score  split0_train_score  split1_test_score  \\\n",
              "4                1           0.708033            0.707903           0.710236   \n",
              "6                2           0.707629            0.707196           0.708283   \n",
              "2                3           0.706282            0.706253           0.708754   \n",
              "\n",
              "   split1_train_score  split2_test_score  split2_train_score  std_fit_time  \\\n",
              "4            0.706128           0.704963            0.709505      0.040316   \n",
              "6            0.704916           0.705839            0.709942      0.019876   \n",
              "2            0.704646           0.703684            0.709235      0.059136   \n",
              "\n",
              "   std_score_time  std_test_score  std_train_score  \n",
              "4        0.000168        0.002162         0.001379  \n",
              "6        0.000556        0.001033         0.002055  \n",
              "2        0.000123        0.002070         0.001901  "
            ]
          },
          "metadata": {
            "tags": []
          },
          "execution_count": 171
        }
      ]
    },
    {
      "metadata": {
        "id": "3e_7HPplh4nu",
        "colab_type": "code",
        "colab": {}
      },
      "cell_type": "code",
      "source": [
        "#Which features were selected?\n",
        "\n",
        "\n",
        "selector = gs.best_estimator_.named_steps['selectkbest']\n",
        "all_names = X.columns.values\n",
        "selected_mask = selector.get_support()\n",
        "selected_names = all_names[selected_mask]\n",
        "unselected_names = all_names[~selected_mask]\n",
        "\n",
        "print('Features selected:')\n",
        "for name in selected_names:\n",
        "    print(name)\n",
        "\n",
        "print('\\n')\n",
        "print('Features not selected:')\n",
        "for name in unselected_names:\n",
        "    print(name)\n"
      ],
      "execution_count": 0,
      "outputs": []
    },
    {
      "metadata": {
        "id": "dwNH3AnNWcVU",
        "colab_type": "code",
        "colab": {}
      },
      "cell_type": "code",
      "source": [
        "from sklearn.ensemble import RandomForestRegressor as RFR\n",
        "\n",
        "X=wrangle(X_train_val)\n",
        "names = X.columns\n",
        "\n",
        "y = y_train_val.status_group.values\n",
        "\n",
        "y = pd.DataFrame(y).replace(['non functional','functional','functional needs repair'],[1,2,3])\n",
        "y = y.values\n",
        "\n",
        "# Fitting a random forest regression\n",
        "rfr = RFR().fit(X, y)\n",
        "\n",
        "# Creating scores from feature_importances_ ranking (some randomness here)\n",
        "rfr_scores = pd.Series(data=rfr.feature_importances_, name='RFR', index=names)\n",
        "\n",
        "rfr_scores"
      ],
      "execution_count": 0,
      "outputs": []
    },
    {
      "metadata": {
        "id": "smqoeXlIjOMf",
        "colab_type": "code",
        "colab": {}
      },
      "cell_type": "code",
      "source": [
        "from sklearn.feature_selection import RFECV\n",
        "from sklearn.linear_model import Lasso\n",
        "\n",
        "X= wrangle(X_train_val)\n",
        "\n",
        "y= y_train_val.status_group\n",
        "\n",
        "#y = y.replace(['non functional','functional','functional needs repair'],[1,2,3])\n",
        "#y = y.values\n",
        "\n",
        "X_scaled = RobustScaler().fit_transform(X)\n",
        "\n",
        "# Lasso can't handle multi-class label.\n",
        "#rfe = RFECV(Lasso(), scoring='accuracy', cv=3)\n",
        "rfe = RFECV(LogisticRegression(), scoring='accuracy', cv=3)\n",
        "X_subset = rfe.fit_transform(X_scaled, y)\n",
        "\n",
        "all_names = X.columns\n",
        "selected_mask = rfe.support_\n",
        "selected_names = all_names[selected_mask]\n",
        "unselected_names = all_names[~selected_mask]\n",
        "\n",
        "print('Features selected:')\n",
        "for name in selected_names:\n",
        "    print(name)\n",
        "\n",
        "print()\n",
        "print('Features not selected:')\n",
        "for name in unselected_names:\n",
        "    print(name)\n"
      ],
      "execution_count": 0,
      "outputs": []
    },
    {
      "metadata": {
        "id": "LiPJr0xgPEIs",
        "colab_type": "code",
        "colab": {}
      },
      "cell_type": "code",
      "source": [
        "# Predict with X_test features\n",
        "X=wrangle(X_test)\n",
        "y_pred = gs.predict(X)\n",
        "\n",
        "# Compare predictions to y_test labels\n",
        "test_score = accuracy_score(y_test.status_group, y_pred)\n",
        "print('Test Score:', test_score)"
      ],
      "execution_count": 0,
      "outputs": []
    },
    {
      "metadata": {
        "id": "svhbfFR64o9c",
        "colab_type": "code",
        "colab": {
          "base_uri": "https://localhost:8080/",
          "height": 34
        },
        "outputId": "5c63dee9-92fd-4801-c4a5-17505323708b"
      },
      "cell_type": "code",
      "source": [
        "X=wrangle(X_train_val)\n",
        "X.shape"
      ],
      "execution_count": 181,
      "outputs": [
        {
          "output_type": "execute_result",
          "data": {
            "text/plain": [
              "(44550, 47)"
            ]
          },
          "metadata": {
            "tags": []
          },
          "execution_count": 181
        }
      ]
    },
    {
      "metadata": {
        "id": "GzwAEtpB4yY1",
        "colab_type": "code",
        "colab": {}
      },
      "cell_type": "code",
      "source": [
        "# X = wrangle(X_train_val) # return  47 columns \n",
        "# X1 = wrangle(df_test) # return 46 columns -- missing funder dummies 'Ministry of Water'\n",
        "del X['Ministry Of Water']"
      ],
      "execution_count": 0,
      "outputs": []
    },
    {
      "metadata": {
        "id": "FfMQ1elh1v1h",
        "colab_type": "code",
        "colab": {}
      },
      "cell_type": "code",
      "source": [
        "model = LogisticRegression(C=1, class_weight=None, max_iter=1000).fit(X,y)"
      ],
      "execution_count": 0,
      "outputs": []
    },
    {
      "metadata": {
        "id": "_BHMEaL92Ma3",
        "colab_type": "code",
        "colab": {}
      },
      "cell_type": "code",
      "source": [
        "X1=wrangle(df_test)\n",
        "y_pred=model.predict(X1)"
      ],
      "execution_count": 0,
      "outputs": []
    },
    {
      "metadata": {
        "id": "CXDseFXhN9K4",
        "colab_type": "code",
        "outputId": "96ee2456-990a-44bf-d2b0-80733652da45",
        "colab": {
          "base_uri": "https://localhost:8080/",
          "height": 34
        }
      },
      "cell_type": "code",
      "source": [
        "#submission as format as df_sample\n",
        "y_submission = pd.DataFrame()\n",
        "\n",
        "y_submission['id'] = df_test.index\n",
        "y_submission['status_group']=y_pred\n",
        "y_submission.shape"
      ],
      "execution_count": 193,
      "outputs": [
        {
          "output_type": "execute_result",
          "data": {
            "text/plain": [
              "(14358, 2)"
            ]
          },
          "metadata": {
            "tags": []
          },
          "execution_count": 193
        }
      ]
    },
    {
      "metadata": {
        "id": "D3EBjffCPPk1",
        "colab_type": "code",
        "colab": {}
      },
      "cell_type": "code",
      "source": [
        "from google.colab import files\n",
        "\n",
        "y_submission.to_csv('data.csv', index=False)\n",
        "files.download(\"data.csv\")"
      ],
      "execution_count": 0,
      "outputs": []
    }
  ]
}