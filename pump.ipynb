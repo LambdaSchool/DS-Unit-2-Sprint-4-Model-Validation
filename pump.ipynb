{
  "nbformat": 4,
  "nbformat_minor": 0,
  "metadata": {
    "colab": {
      "name": "pump.ipynb",
      "version": "0.3.2",
      "provenance": [],
      "include_colab_link": true
    },
    "kernelspec": {
      "name": "python2",
      "display_name": "Python 2"
    }
  },
  "cells": [
    {
      "cell_type": "markdown",
      "metadata": {
        "id": "view-in-github",
        "colab_type": "text"
      },
      "source": [
        "<a href=\"https://colab.research.google.com/github/cocoisland/DS-Unit-2-Sprint-4-Model-Validation/blob/master/pump.ipynb\" target=\"_parent\"><img src=\"https://colab.research.google.com/assets/colab-badge.svg\" alt=\"Open In Colab\"/></a>"
      ]
    },
    {
      "metadata": {
        "id": "OQOX3fQYroDa",
        "colab_type": "code",
        "outputId": "7f0889e1-4f8e-413b-f317-1fb64d1ec703",
        "colab": {
          "base_uri": "https://localhost:8080/",
          "height": 206
        }
      },
      "cell_type": "code",
      "source": [
        "!pip install kaggle"
      ],
      "execution_count": 2,
      "outputs": [
        {
          "output_type": "stream",
          "text": [
            "Requirement already satisfied: kaggle in /usr/local/lib/python2.7/dist-packages (1.5.2)\n",
            "Requirement already satisfied: urllib3<1.23.0,>=1.15 in /usr/local/lib/python2.7/dist-packages (from kaggle) (1.22)\n",
            "Requirement already satisfied: six>=1.10 in /usr/local/lib/python2.7/dist-packages (from kaggle) (1.11.0)\n",
            "Requirement already satisfied: certifi in /usr/local/lib/python2.7/dist-packages (from kaggle) (2018.11.29)\n",
            "Requirement already satisfied: python-dateutil in /usr/local/lib/python2.7/dist-packages (from kaggle) (2.5.3)\n",
            "Requirement already satisfied: requests in /usr/local/lib/python2.7/dist-packages (from kaggle) (2.18.4)\n",
            "Requirement already satisfied: tqdm in /usr/local/lib/python2.7/dist-packages (from kaggle) (4.28.1)\n",
            "Requirement already satisfied: python-slugify in /usr/local/lib/python2.7/dist-packages (from kaggle) (2.0.1)\n",
            "Requirement already satisfied: idna<2.7,>=2.5 in /usr/local/lib/python2.7/dist-packages (from requests->kaggle) (2.6)\n",
            "Requirement already satisfied: chardet<3.1.0,>=3.0.2 in /usr/local/lib/python2.7/dist-packages (from requests->kaggle) (3.0.4)\n",
            "Requirement already satisfied: Unidecode>=0.04.16 in /usr/local/lib/python2.7/dist-packages (from python-slugify->kaggle) (1.0.23)\n"
          ],
          "name": "stdout"
        }
      ]
    },
    {
      "metadata": {
        "id": "WaTecLTNryrG",
        "colab_type": "code",
        "outputId": "57392b61-895b-4e3f-a81a-726775a72783",
        "colab": {
          "base_uri": "https://localhost:8080/",
          "height": 51
        }
      },
      "cell_type": "code",
      "source": [
        "from google.colab import drive\n",
        "drive.mount('/content/drive')\n",
        "%env KAGGLE_CONFIG_DIR=/content/drive/My Drive/"
      ],
      "execution_count": 3,
      "outputs": [
        {
          "output_type": "stream",
          "text": [
            "Drive already mounted at /content/drive; to attempt to forcibly remount, call drive.mount(\"/content/drive\", force_remount=True).\n",
            "env: KAGGLE_CONFIG_DIR=/content/drive/My Drive/\n"
          ],
          "name": "stdout"
        }
      ]
    },
    {
      "metadata": {
        "id": "k2iuXjFyvmzG",
        "colab_type": "code",
        "outputId": "36c8c841-d03e-4180-ab8c-f42b6ed1b979",
        "colab": {
          "base_uri": "https://localhost:8080/",
          "height": 86
        }
      },
      "cell_type": "code",
      "source": [
        "!kaggle  competitions download -c ds1-predictive-modeling-challenge"
      ],
      "execution_count": 4,
      "outputs": [
        {
          "output_type": "stream",
          "text": [
            "sample_submission.csv: Skipping, found more recently modified local copy (use --force to force download)\n",
            "test_features.csv.zip: Skipping, found more recently modified local copy (use --force to force download)\n",
            "train_labels.csv.zip: Skipping, found more recently modified local copy (use --force to force download)\n",
            "train_features.csv.zip: Skipping, found more recently modified local copy (use --force to force download)\n"
          ],
          "name": "stdout"
        }
      ]
    },
    {
      "metadata": {
        "id": "faVKlWCO5PI5",
        "colab_type": "code",
        "outputId": "12247154-6e7b-4279-8ee8-95df7a7fbe15",
        "colab": {
          "base_uri": "https://localhost:8080/",
          "height": 154
        }
      },
      "cell_type": "code",
      "source": [
        "!unzip train_features.csv.zip\n",
        "!unzip train_labels.csv.zip\n",
        "!unzip test_features.csv.zip\n",
        "\n"
      ],
      "execution_count": 5,
      "outputs": [
        {
          "output_type": "stream",
          "text": [
            "Archive:  train_features.csv.zip\n",
            "replace train_features.csv? [y]es, [n]o, [A]ll, [N]one, [r]ename: N\n",
            "Archive:  train_labels.csv.zip\n",
            "replace train_labels.csv? [y]es, [n]o, [A]ll, [N]one, [r]ename: A\n",
            "  inflating: train_labels.csv        \n",
            "Archive:  test_features.csv.zip\n",
            "replace test_features.csv? [y]es, [n]o, [A]ll, [N]one, [r]ename: A\n",
            "  inflating: test_features.csv       \n"
          ],
          "name": "stdout"
        }
      ]
    },
    {
      "metadata": {
        "id": "LFN4liBbEgBm",
        "colab_type": "code",
        "colab": {}
      },
      "cell_type": "code",
      "source": [
        "import pandas as pd\n",
        "import numpy as np\n",
        "import matplotlib.pyplot as plt\n",
        "from sklearn.model_selection import train_test_split\n",
        "import sklearn.feature_selection as fe\n",
        "from sklearn.feature_selection import SelectPercentile, SelectKBest, f_classif\n",
        "from sklearn.feature_selection import RFECV\n",
        "\n",
        "from sklearn.model_selection import GridSearchCV\n",
        "from sklearn.pipeline import make_pipeline\n",
        "\n",
        "from sklearn.preprocessing import MinMaxScaler\n",
        "from sklearn.preprocessing import RobustScaler\n",
        "\n",
        "from sklearn.metrics import accuracy_score, classification_report\n",
        "from sklearn.linear_model import LogisticRegression\n",
        "from sklearn.linear_model import Ridge\n",
        "from sklearn.model_selection import cross_validate\n",
        "\n",
        "from mlxtend.plotting import plot_decision_regions\n",
        "#import category_encoders as ce\n"
      ],
      "execution_count": 0,
      "outputs": []
    },
    {
      "metadata": {
        "id": "aU8Uonvd4yye",
        "colab_type": "code",
        "outputId": "fa210a05-5fee-4581-c90b-9962ca19b009",
        "colab": {
          "base_uri": "https://localhost:8080/",
          "height": 34
        }
      },
      "cell_type": "code",
      "source": [
        "# DO NOT USE\n",
        "# date as index\n",
        "df_train = pd.read_csv('train_features.csv',index_col='date_recorded', \n",
        "              parse_dates=True, infer_datetime_format=True)\n",
        "df_test = pd.read_csv('test_features.csv', index_col='date_recorded',\n",
        "                     parse_dates=True, infer_datetime_format=True)\n",
        "df_label = pd.read_csv('train_labels.csv')\n",
        "\n",
        "df_train.shape, df_test.shape, df_label.shape\n"
      ],
      "execution_count": 7,
      "outputs": [
        {
          "output_type": "execute_result",
          "data": {
            "text/plain": [
              "((59400, 39), (14358, 39), (59400, 2))"
            ]
          },
          "metadata": {
            "tags": []
          },
          "execution_count": 7
        }
      ]
    },
    {
      "metadata": {
        "id": "DQnRcgCYrrDr",
        "colab_type": "code",
        "outputId": "f1d18eff-0307-41c8-8eda-72c44081ef5e",
        "colab": {
          "base_uri": "https://localhost:8080/",
          "height": 34
        }
      },
      "cell_type": "code",
      "source": [
        "# id as index\n",
        "df_train = pd.read_csv('train_features.csv',index_col='id')\n",
        "df_test = pd.read_csv('test_features.csv', index_col='id')\n",
        "df_label = pd.read_csv('train_labels.csv')\n",
        "df_sample = pd.read_csv('sample_submission.csv')\n",
        "\n",
        "df_train.shape, df_test.shape, df_label.shape, df_sample.shape\n"
      ],
      "execution_count": 31,
      "outputs": [
        {
          "output_type": "execute_result",
          "data": {
            "text/plain": [
              "((59400, 39), (14358, 39), (59400, 2), (14358, 2))"
            ]
          },
          "metadata": {
            "tags": []
          },
          "execution_count": 31
        }
      ]
    },
    {
      "metadata": {
        "id": "eS23mcs_f2Ea",
        "colab_type": "code",
        "outputId": "ba77d309-3e38-4904-c3ff-17983a39f6b6",
        "colab": {
          "base_uri": "https://localhost:8080/",
          "height": 34
        }
      },
      "cell_type": "code",
      "source": [
        "X_train_val, X_test, y_train_val, y_test = train_test_split(\n",
        "        df_train, df_label, test_size=0.25, random_state=42, shuffle=True)\n",
        "\n",
        "X_train_val.shape, X_test.shape, y_train_val.shape, y_test.shape"
      ],
      "execution_count": 32,
      "outputs": [
        {
          "output_type": "execute_result",
          "data": {
            "text/plain": [
              "((44550, 39), (14850, 39), (44550, 2), (14850, 2))"
            ]
          },
          "metadata": {
            "tags": []
          },
          "execution_count": 32
        }
      ]
    },
    {
      "metadata": {
        "id": "3O2kVsqY7o3x",
        "colab_type": "code",
        "colab": {}
      },
      "cell_type": "code",
      "source": [
        "# majority baseline\n",
        "# balanced data - logistic class_weight = \n",
        "#            (None, accuracy = 0.55),\n",
        "#            (balanced,accuracy=0.39-0.4)\n",
        "\n",
        "\n",
        "df_label['status_group'].value_counts(normalize=True)"
      ],
      "execution_count": 0,
      "outputs": []
    },
    {
      "metadata": {
        "id": "VWBP6SeuRuyR",
        "colab_type": "code",
        "colab": {
          "base_uri": "https://localhost:8080/",
          "height": 291
        },
        "outputId": "95643f93-5ae1-4a7d-be1e-00710a250b1d"
      },
      "cell_type": "code",
      "source": [
        "pd.set_option('display.max_columns', None)\n",
        "\n",
        "#df_str=X_train_val.select_dtypes(exclude=['int','float']).copy()\n",
        "df_str=X_train_val.select_dtypes(object).copy()\n",
        "df_str.head(3)\n"
      ],
      "execution_count": 47,
      "outputs": [
        {
          "output_type": "execute_result",
          "data": {
            "text/html": [
              "<div>\n",
              "<style scoped>\n",
              "    .dataframe tbody tr th:only-of-type {\n",
              "        vertical-align: middle;\n",
              "    }\n",
              "\n",
              "    .dataframe tbody tr th {\n",
              "        vertical-align: top;\n",
              "    }\n",
              "\n",
              "    .dataframe thead th {\n",
              "        text-align: right;\n",
              "    }\n",
              "</style>\n",
              "<table border=\"1\" class=\"dataframe\">\n",
              "  <thead>\n",
              "    <tr style=\"text-align: right;\">\n",
              "      <th></th>\n",
              "      <th>date_recorded</th>\n",
              "      <th>funder</th>\n",
              "      <th>installer</th>\n",
              "      <th>wpt_name</th>\n",
              "      <th>basin</th>\n",
              "      <th>subvillage</th>\n",
              "      <th>region</th>\n",
              "      <th>lga</th>\n",
              "      <th>ward</th>\n",
              "      <th>public_meeting</th>\n",
              "      <th>recorded_by</th>\n",
              "      <th>scheme_management</th>\n",
              "      <th>scheme_name</th>\n",
              "      <th>permit</th>\n",
              "      <th>extraction_type</th>\n",
              "      <th>extraction_type_group</th>\n",
              "      <th>extraction_type_class</th>\n",
              "      <th>management</th>\n",
              "      <th>management_group</th>\n",
              "      <th>payment</th>\n",
              "      <th>payment_type</th>\n",
              "      <th>water_quality</th>\n",
              "      <th>quality_group</th>\n",
              "      <th>quantity</th>\n",
              "      <th>quantity_group</th>\n",
              "      <th>source</th>\n",
              "      <th>source_type</th>\n",
              "      <th>source_class</th>\n",
              "      <th>waterpoint_type</th>\n",
              "      <th>waterpoint_type_group</th>\n",
              "    </tr>\n",
              "    <tr>\n",
              "      <th>id</th>\n",
              "      <th></th>\n",
              "      <th></th>\n",
              "      <th></th>\n",
              "      <th></th>\n",
              "      <th></th>\n",
              "      <th></th>\n",
              "      <th></th>\n",
              "      <th></th>\n",
              "      <th></th>\n",
              "      <th></th>\n",
              "      <th></th>\n",
              "      <th></th>\n",
              "      <th></th>\n",
              "      <th></th>\n",
              "      <th></th>\n",
              "      <th></th>\n",
              "      <th></th>\n",
              "      <th></th>\n",
              "      <th></th>\n",
              "      <th></th>\n",
              "      <th></th>\n",
              "      <th></th>\n",
              "      <th></th>\n",
              "      <th></th>\n",
              "      <th></th>\n",
              "      <th></th>\n",
              "      <th></th>\n",
              "      <th></th>\n",
              "      <th></th>\n",
              "      <th></th>\n",
              "    </tr>\n",
              "  </thead>\n",
              "  <tbody>\n",
              "    <tr>\n",
              "      <th>33935</th>\n",
              "      <td>2011-03-08</td>\n",
              "      <td>Government Of Tanzania</td>\n",
              "      <td>Ce</td>\n",
              "      <td>Ccm</td>\n",
              "      <td>Wami / Ruvu</td>\n",
              "      <td>Kilangawageni</td>\n",
              "      <td>Pwani</td>\n",
              "      <td>Bagamoyo</td>\n",
              "      <td>Mbwewe</td>\n",
              "      <td>True</td>\n",
              "      <td>GeoData Consultants Ltd</td>\n",
              "      <td>VWC</td>\n",
              "      <td>Kwaruhombo wa</td>\n",
              "      <td>True</td>\n",
              "      <td>ksb</td>\n",
              "      <td>submersible</td>\n",
              "      <td>submersible</td>\n",
              "      <td>vwc</td>\n",
              "      <td>user-group</td>\n",
              "      <td>pay per bucket</td>\n",
              "      <td>per bucket</td>\n",
              "      <td>salty</td>\n",
              "      <td>salty</td>\n",
              "      <td>insufficient</td>\n",
              "      <td>insufficient</td>\n",
              "      <td>machine dbh</td>\n",
              "      <td>borehole</td>\n",
              "      <td>groundwater</td>\n",
              "      <td>communal standpipe</td>\n",
              "      <td>communal standpipe</td>\n",
              "    </tr>\n",
              "    <tr>\n",
              "      <th>49654</th>\n",
              "      <td>2013-02-16</td>\n",
              "      <td>Dwsp</td>\n",
              "      <td>DWE</td>\n",
              "      <td>Mwamahonza</td>\n",
              "      <td>Lake Victoria</td>\n",
              "      <td>Mwamahala</td>\n",
              "      <td>Mwanza</td>\n",
              "      <td>Magu</td>\n",
              "      <td>Nkungulu</td>\n",
              "      <td>NaN</td>\n",
              "      <td>GeoData Consultants Ltd</td>\n",
              "      <td>WUG</td>\n",
              "      <td>NaN</td>\n",
              "      <td>False</td>\n",
              "      <td>nira/tanira</td>\n",
              "      <td>nira/tanira</td>\n",
              "      <td>handpump</td>\n",
              "      <td>wug</td>\n",
              "      <td>user-group</td>\n",
              "      <td>unknown</td>\n",
              "      <td>unknown</td>\n",
              "      <td>soft</td>\n",
              "      <td>good</td>\n",
              "      <td>enough</td>\n",
              "      <td>enough</td>\n",
              "      <td>shallow well</td>\n",
              "      <td>shallow well</td>\n",
              "      <td>groundwater</td>\n",
              "      <td>hand pump</td>\n",
              "      <td>hand pump</td>\n",
              "    </tr>\n",
              "    <tr>\n",
              "      <th>39287</th>\n",
              "      <td>2011-08-13</td>\n",
              "      <td>Dasip</td>\n",
              "      <td>DASIP</td>\n",
              "      <td>Chanongu</td>\n",
              "      <td>Lake Victoria</td>\n",
              "      <td>Chanongu</td>\n",
              "      <td>Mwanza</td>\n",
              "      <td>Kwimba</td>\n",
              "      <td>Wala</td>\n",
              "      <td>True</td>\n",
              "      <td>GeoData Consultants Ltd</td>\n",
              "      <td>VWC</td>\n",
              "      <td>NaN</td>\n",
              "      <td>True</td>\n",
              "      <td>india mark ii</td>\n",
              "      <td>india mark ii</td>\n",
              "      <td>handpump</td>\n",
              "      <td>vwc</td>\n",
              "      <td>user-group</td>\n",
              "      <td>never pay</td>\n",
              "      <td>never pay</td>\n",
              "      <td>soft</td>\n",
              "      <td>good</td>\n",
              "      <td>enough</td>\n",
              "      <td>enough</td>\n",
              "      <td>machine dbh</td>\n",
              "      <td>borehole</td>\n",
              "      <td>groundwater</td>\n",
              "      <td>hand pump</td>\n",
              "      <td>hand pump</td>\n",
              "    </tr>\n",
              "  </tbody>\n",
              "</table>\n",
              "</div>"
            ],
            "text/plain": [
              "      date_recorded                  funder installer    wpt_name  \\\n",
              "id                                                                  \n",
              "33935    2011-03-08  Government Of Tanzania        Ce         Ccm   \n",
              "49654    2013-02-16                    Dwsp       DWE  Mwamahonza   \n",
              "39287    2011-08-13                   Dasip     DASIP    Chanongu   \n",
              "\n",
              "               basin     subvillage  region       lga      ward  \\\n",
              "id                                                                \n",
              "33935    Wami / Ruvu  Kilangawageni   Pwani  Bagamoyo    Mbwewe   \n",
              "49654  Lake Victoria      Mwamahala  Mwanza      Magu  Nkungulu   \n",
              "39287  Lake Victoria       Chanongu  Mwanza    Kwimba      Wala   \n",
              "\n",
              "      public_meeting              recorded_by scheme_management  \\\n",
              "id                                                                \n",
              "33935           True  GeoData Consultants Ltd               VWC   \n",
              "49654            NaN  GeoData Consultants Ltd               WUG   \n",
              "39287           True  GeoData Consultants Ltd               VWC   \n",
              "\n",
              "         scheme_name permit extraction_type extraction_type_group  \\\n",
              "id                                                                  \n",
              "33935  Kwaruhombo wa   True             ksb           submersible   \n",
              "49654            NaN  False     nira/tanira           nira/tanira   \n",
              "39287            NaN   True   india mark ii         india mark ii   \n",
              "\n",
              "      extraction_type_class management management_group         payment  \\\n",
              "id                                                                        \n",
              "33935           submersible        vwc       user-group  pay per bucket   \n",
              "49654              handpump        wug       user-group         unknown   \n",
              "39287              handpump        vwc       user-group       never pay   \n",
              "\n",
              "      payment_type water_quality quality_group      quantity quantity_group  \\\n",
              "id                                                                            \n",
              "33935   per bucket         salty         salty  insufficient   insufficient   \n",
              "49654      unknown          soft          good        enough         enough   \n",
              "39287    never pay          soft          good        enough         enough   \n",
              "\n",
              "             source   source_type source_class     waterpoint_type  \\\n",
              "id                                                                   \n",
              "33935   machine dbh      borehole  groundwater  communal standpipe   \n",
              "49654  shallow well  shallow well  groundwater           hand pump   \n",
              "39287   machine dbh      borehole  groundwater           hand pump   \n",
              "\n",
              "      waterpoint_type_group  \n",
              "id                           \n",
              "33935    communal standpipe  \n",
              "49654             hand pump  \n",
              "39287             hand pump  "
            ]
          },
          "metadata": {
            "tags": []
          },
          "execution_count": 47
        }
      ]
    },
    {
      "metadata": {
        "id": "y32h4WFOoqTl",
        "colab_type": "code",
        "colab": {
          "base_uri": "https://localhost:8080/",
          "height": 171
        },
        "outputId": "0d451bff-3f8b-44d4-9975-1a5c61137f8b"
      },
      "cell_type": "code",
      "source": [
        "X_train_val.water_quality.value_counts()"
      ],
      "execution_count": 157,
      "outputs": [
        {
          "output_type": "execute_result",
          "data": {
            "text/plain": [
              "soft                  38064\n",
              "salty                  3674\n",
              "unknown                1398\n",
              "milky                   620\n",
              "coloured                373\n",
              "salty abandoned         249\n",
              "fluoride                159\n",
              "fluoride abandoned       13\n",
              "Name: water_quality, dtype: int64"
            ]
          },
          "metadata": {
            "tags": []
          },
          "execution_count": 157
        }
      ]
    },
    {
      "metadata": {
        "id": "kD8OW1JeqGFB",
        "colab_type": "code",
        "colab": {
          "base_uri": "https://localhost:8080/",
          "height": 137
        },
        "outputId": "1c0ce52c-9749-4a2f-884e-26245964d3da"
      },
      "cell_type": "code",
      "source": [
        "X_train_val.quality_group.value_counts()"
      ],
      "execution_count": 158,
      "outputs": [
        {
          "output_type": "execute_result",
          "data": {
            "text/plain": [
              "good        38064\n",
              "salty        3923\n",
              "unknown      1398\n",
              "milky         620\n",
              "colored       373\n",
              "fluoride      172\n",
              "Name: quality_group, dtype: int64"
            ]
          },
          "metadata": {
            "tags": []
          },
          "execution_count": 158
        }
      ]
    },
    {
      "metadata": {
        "id": "vTnn2Mv7LGBj",
        "colab_type": "code",
        "colab": {}
      },
      "cell_type": "code",
      "source": [
        "# As observations increase, more features will fail to pass the threshold\n",
        "# At 50,000+ observation, passing threshold drops to 0.1\n",
        "\n",
        "#remove all features that are either one or zero (on or off) in more than 80% of the samples.\n",
        "#threshold = 0.8 * (1- .8)\n",
        "\n",
        "import sklearn.feature_selection as fe\n",
        "\n",
        "def variance_threshold_selector(data, threshold=0.01):\n",
        "    selector = fe.VarianceThreshold(threshold)\n",
        "    selector.fit(data)\n",
        "    return data[data.columns[selector.get_support(indices=True)]]"
      ],
      "execution_count": 0,
      "outputs": []
    },
    {
      "metadata": {
        "id": "n_9SfGy4K0dt",
        "colab_type": "code",
        "colab": {
          "base_uri": "https://localhost:8080/",
          "height": 703
        },
        "outputId": "4e95735c-3260-4efe-f073-a3e02879a6f8"
      },
      "cell_type": "code",
      "source": [
        "df_test.isnull().sum()"
      ],
      "execution_count": 58,
      "outputs": [
        {
          "output_type": "execute_result",
          "data": {
            "text/plain": [
              "amount_tsh                  0\n",
              "date_recorded               0\n",
              "funder                    783\n",
              "gps_height                  0\n",
              "installer                 788\n",
              "longitude                   0\n",
              "latitude                    0\n",
              "wpt_name                    0\n",
              "num_private                 0\n",
              "basin                       0\n",
              "subvillage                 94\n",
              "region                      0\n",
              "region_code                 0\n",
              "district_code               0\n",
              "lga                         0\n",
              "ward                        0\n",
              "population                  0\n",
              "public_meeting            785\n",
              "recorded_by                 0\n",
              "scheme_management         939\n",
              "scheme_name              6839\n",
              "permit                    663\n",
              "construction_year           0\n",
              "extraction_type             0\n",
              "extraction_type_group       0\n",
              "extraction_type_class       0\n",
              "management                  0\n",
              "management_group            0\n",
              "payment                     0\n",
              "payment_type                0\n",
              "water_quality               0\n",
              "quality_group               0\n",
              "quantity                    0\n",
              "quantity_group              0\n",
              "source                      0\n",
              "source_type                 0\n",
              "source_class                0\n",
              "waterpoint_type             0\n",
              "waterpoint_type_group       0\n",
              "dtype: int64"
            ]
          },
          "metadata": {
            "tags": []
          },
          "execution_count": 58
        }
      ]
    },
    {
      "metadata": {
        "id": "nDP9e69gt7bL",
        "colab_type": "code",
        "colab": {}
      },
      "cell_type": "code",
      "source": [
        "X_.quality_group.replace('unknown','unkwn_qual_grp')"
      ],
      "execution_count": 0,
      "outputs": []
    },
    {
      "metadata": {
        "id": "ZPP-XroM6BH9",
        "colab_type": "code",
        "colab": {}
      },
      "cell_type": "code",
      "source": [
        "def wrangle(X):\n",
        "  \n",
        "  # get all continuous value column\n",
        "  X_num = X._get_numeric_data()\n",
        "  \n",
        "  \n",
        "  # funder\n",
        "  X.funder = X.funder.replace(np.nan, 'missing')\n",
        "  X.funder = X.funder.replace('0', 'missing')\n",
        "  X.funder = X.funder.replace('other','other_funder')\n",
        "  X_dummies = pd.get_dummies(X.funder)\n",
        "  dummy_filter=variance_threshold_selector(X_dummies)\n",
        "  X_num = X_num.join(dummy_filter, how='inner')\n",
        "  \n",
        "  # quality_group\n",
        "  X.quality_group=X.quality_group.replace('unknown','unkwn_qual_grp')\n",
        "  X_dummies = pd.get_dummies(X.quality_group)\n",
        "  dummy_filter=variance_threshold_selector(X_dummies)\n",
        "  X_num = X_num.join(dummy_filter, how='inner')\n",
        "  \n",
        "  # quantity\n",
        "  X.quantity=X.quantity.replace('unknown','unknown_quantity')\n",
        "  X_dummies = pd.get_dummies(X.quantity)\n",
        "  dummy_filter=variance_threshold_selector(X_dummies)\n",
        "  X_num = X_num.join(dummy_filter, how='inner')\n",
        "  \n",
        "  # source\n",
        "  X.source_type=X.source_type.replace('other','other_source')\n",
        "  X_dummies = pd.get_dummies(X.source_type)\n",
        "  dummy_filter=variance_threshold_selector(X_dummies)\n",
        "  X_num = X_num.join(dummy_filter, how='inner')\n",
        "  \n",
        "  '''# source_class\n",
        "  X.source_class.replace('unknown','unknown_source_class')\n",
        "  X_dummies = pd.get_dummies(X.source_class)\n",
        "  dummy_filter=variance_threshold_selector(X_dummies)\n",
        "  X_num = X_num.join(dummy_filter, how='inner')'''\n",
        "  \n",
        "  # waterpoint_type\n",
        "  X.waterpoint_type=X.waterpoint_type.replace('other','other_waterpoint')\n",
        "  X_dummies = pd.get_dummies(X.waterpoint_type)\n",
        "  dummy_filter=variance_threshold_selector(X_dummies)\n",
        "  X_num = X_num.join(dummy_filter, how='inner')\n",
        "  \n",
        "  \n",
        "  #y = y.replace(['non functional','functional','functional needs repair'],[1,2,3])\n",
        "  #y = y.values\n",
        "  \n",
        "  \n",
        "  return X_num\n",
        "  "
      ],
      "execution_count": 0,
      "outputs": []
    },
    {
      "metadata": {
        "id": "zpEekXf8u-gq",
        "colab_type": "code",
        "colab": {}
      },
      "cell_type": "code",
      "source": [
        "# NOT USE - for understanding variance_threshold only\n",
        "# same as variance threshold function\n",
        "def noise_filter(df, col, threshold=0.01):\n",
        "  X_dummies=pd.DataFrame()\n",
        "  X_dummies[col]=df[col].value_counts(normalize=True)\n",
        "\n",
        "  for noise_cat in X_dummies.loc[(X_dummies[col] < threshold)].index.values:\n",
        "    df[col].replace(noise_cat, 'noise', inplace=True)\n",
        "\n",
        "  #df_str['funder'].replace('0', 'noise', inplace=True)\n",
        "  #df_str['funder'].replace(np.nan,'noise' ,inplace=True)\n",
        "\n",
        "  return pd.get_dummies(df[col])\n",
        "\n",
        "dummy_filter = noise_filter(df_str, 'funder' ,0.01)\n",
        "dummy_filter=dummy_filter.drop(['0','noise'], axis=1)\n",
        "dummy_filter.shape"
      ],
      "execution_count": 0,
      "outputs": []
    },
    {
      "metadata": {
        "id": "uAwImYeiI3zf",
        "colab_type": "code",
        "outputId": "eae5df42-1e21-4162-f0a5-bc610d400b50",
        "colab": {
          "base_uri": "https://localhost:8080/",
          "height": 138
        }
      },
      "cell_type": "code",
      "source": [
        "# Baseline metric - numeric only - test_score=0.55\n",
        "X = wrangle(X_train_val)\n",
        "y = y_train_val.status_group.values\n",
        "\n",
        "\n",
        "scores = cross_validate(LogisticRegression(solver='lbfgs',class_weight=None), X, y, \n",
        "                        scoring='accuracy', cv=3,\n",
        "                        return_train_score=True, return_estimator=True)\n",
        "\n",
        "pd.DataFrame(scores)"
      ],
      "execution_count": 170,
      "outputs": [
        {
          "output_type": "execute_result",
          "data": {
            "text/html": [
              "<div>\n",
              "<style scoped>\n",
              "    .dataframe tbody tr th:only-of-type {\n",
              "        vertical-align: middle;\n",
              "    }\n",
              "\n",
              "    .dataframe tbody tr th {\n",
              "        vertical-align: top;\n",
              "    }\n",
              "\n",
              "    .dataframe thead th {\n",
              "        text-align: right;\n",
              "    }\n",
              "</style>\n",
              "<table border=\"1\" class=\"dataframe\">\n",
              "  <thead>\n",
              "    <tr style=\"text-align: right;\">\n",
              "      <th></th>\n",
              "      <th>estimator</th>\n",
              "      <th>fit_time</th>\n",
              "      <th>score_time</th>\n",
              "      <th>test_score</th>\n",
              "      <th>train_score</th>\n",
              "    </tr>\n",
              "  </thead>\n",
              "  <tbody>\n",
              "    <tr>\n",
              "      <th>0</th>\n",
              "      <td>LogisticRegression(C=1.0, class_weight=None, d...</td>\n",
              "      <td>2.138110</td>\n",
              "      <td>0.033144</td>\n",
              "      <td>0.676318</td>\n",
              "      <td>0.671740</td>\n",
              "    </tr>\n",
              "    <tr>\n",
              "      <th>1</th>\n",
              "      <td>LogisticRegression(C=1.0, class_weight=None, d...</td>\n",
              "      <td>2.509811</td>\n",
              "      <td>0.033069</td>\n",
              "      <td>0.671111</td>\n",
              "      <td>0.673300</td>\n",
              "    </tr>\n",
              "    <tr>\n",
              "      <th>2</th>\n",
              "      <td>LogisticRegression(C=1.0, class_weight=None, d...</td>\n",
              "      <td>2.457643</td>\n",
              "      <td>0.032952</td>\n",
              "      <td>0.681123</td>\n",
              "      <td>0.682704</td>\n",
              "    </tr>\n",
              "  </tbody>\n",
              "</table>\n",
              "</div>"
            ],
            "text/plain": [
              "                                           estimator  fit_time  score_time  \\\n",
              "0  LogisticRegression(C=1.0, class_weight=None, d...  2.138110    0.033144   \n",
              "1  LogisticRegression(C=1.0, class_weight=None, d...  2.509811    0.033069   \n",
              "2  LogisticRegression(C=1.0, class_weight=None, d...  2.457643    0.032952   \n",
              "\n",
              "   test_score  train_score  \n",
              "0    0.676318     0.671740  \n",
              "1    0.671111     0.673300  \n",
              "2    0.681123     0.682704  "
            ]
          },
          "metadata": {
            "tags": []
          },
          "execution_count": 170
        }
      ]
    },
    {
      "metadata": {
        "id": "FaGMUyNhNPas",
        "colab_type": "code",
        "colab": {}
      },
      "cell_type": "code",
      "source": [
        "from sklearn.metrics import roc_auc_score\n",
        "roc_auc_score(y_val, y_pred)"
      ],
      "execution_count": 0,
      "outputs": []
    },
    {
      "metadata": {
        "id": "ydupDSOp_q6h",
        "colab_type": "code",
        "colab": {
          "base_uri": "https://localhost:8080/",
          "height": 34
        },
        "outputId": "5080adb4-cebe-40f8-e04a-8ae8e2bc6101"
      },
      "cell_type": "code",
      "source": [
        "X_test.shape, df_test.shape"
      ],
      "execution_count": 19,
      "outputs": [
        {
          "output_type": "execute_result",
          "data": {
            "text/plain": [
              "((14850, 39), (14358, 39))"
            ]
          },
          "metadata": {
            "tags": []
          },
          "execution_count": 19
        }
      ]
    },
    {
      "metadata": {
        "id": "kiIR7npd_x2x",
        "colab_type": "code",
        "colab": {}
      },
      "cell_type": "code",
      "source": [
        "y_test.shape, df"
      ],
      "execution_count": 0,
      "outputs": []
    },
    {
      "metadata": {
        "id": "McjZSKrzFD7K",
        "colab_type": "code",
        "colab": {}
      },
      "cell_type": "code",
      "source": [
        "# Define an estimator and param_grid\n",
        "from sklearn.feature_selection import SelectPercentile, SelectKBest, f_classif,mutual_info_classif\n",
        "\n",
        "#X = wrangle(df_test)\n",
        "\n",
        "X = wrangle(X_train_val)\n",
        "#y = y_test.status_group.values\n",
        "\n",
        "\n",
        "pipe = make_pipeline(\n",
        "    RobustScaler(), \n",
        "    #fe.SelectKBest(mutual_info_classif), #slow 0.58\n",
        "    fe.SelectKBest(f_classif),\n",
        "    LogisticRegression(solver='lbfgs'))\n",
        "\n",
        "param_grid = {\n",
        "    'selectkbest__k': ['all'],\n",
        "    'logisticregression__class_weight': [None, 'balanced'],\n",
        "    'logisticregression__C': [.01, .1, 1.0, 10.0]\n",
        "}\n",
        "\n",
        "# Fit on the train set, with grid search cross-validation\n",
        "gs = GridSearchCV(pipe, param_grid=param_grid, cv=3, \n",
        "                  scoring='accuracy', return_train_score=True,\n",
        "                  verbose=1)\n",
        "\n"
      ],
      "execution_count": 0,
      "outputs": []
    },
    {
      "metadata": {
        "id": "3WTldIT2JLDi",
        "colab_type": "text"
      },
      "cell_type": "markdown",
      "source": [
        "# Need help here. gs.predict(X) can't predict without y target."
      ]
    },
    {
      "metadata": {
        "id": "tIVz5h-CCAl1",
        "colab_type": "code",
        "colab": {
          "base_uri": "https://localhost:8080/",
          "height": 679
        },
        "outputId": "f75b0813-0b51-4ece-c09a-bc19f3665288"
      },
      "cell_type": "code",
      "source": [
        "#X = wrangle(X_test)\n",
        "X=wrangle(df_test)\n",
        "#gs.best_estimator_.predict(X)\n",
        "gs.predict(X)"
      ],
      "execution_count": 76,
      "outputs": [
        {
          "output_type": "error",
          "ename": "NotFittedError",
          "evalue": "ignored",
          "traceback": [
            "\u001b[0;31m\u001b[0m",
            "\u001b[0;31mNotFittedError\u001b[0mTraceback (most recent call last)",
            "\u001b[0;32m<ipython-input-76-4b9368c451c1>\u001b[0m in \u001b[0;36m<module>\u001b[0;34m()\u001b[0m\n\u001b[1;32m      1\u001b[0m \u001b[0mX\u001b[0m\u001b[0;34m=\u001b[0m\u001b[0mwrangle\u001b[0m\u001b[0;34m(\u001b[0m\u001b[0mdf_test\u001b[0m\u001b[0;34m)\u001b[0m\u001b[0;34m\u001b[0m\u001b[0m\n\u001b[1;32m      2\u001b[0m \u001b[0;31m#gs.best_estimator_.predict(X)\u001b[0m\u001b[0;34m\u001b[0m\u001b[0;34m\u001b[0m\u001b[0m\n\u001b[0;32m----> 3\u001b[0;31m \u001b[0mgs\u001b[0m\u001b[0;34m.\u001b[0m\u001b[0mpredict\u001b[0m\u001b[0;34m(\u001b[0m\u001b[0mX\u001b[0m\u001b[0;34m)\u001b[0m\u001b[0;34m\u001b[0m\u001b[0m\n\u001b[0m",
            "\u001b[0;32m/usr/local/lib/python2.7/dist-packages/sklearn/utils/metaestimators.pyc\u001b[0m in \u001b[0;36m<lambda>\u001b[0;34m(*args, **kwargs)\u001b[0m\n\u001b[1;32m    116\u001b[0m \u001b[0;34m\u001b[0m\u001b[0m\n\u001b[1;32m    117\u001b[0m         \u001b[0;31m# lambda, but not partial, allows help() to work with update_wrapper\u001b[0m\u001b[0;34m\u001b[0m\u001b[0;34m\u001b[0m\u001b[0m\n\u001b[0;32m--> 118\u001b[0;31m         \u001b[0mout\u001b[0m \u001b[0;34m=\u001b[0m \u001b[0;32mlambda\u001b[0m \u001b[0;34m*\u001b[0m\u001b[0margs\u001b[0m\u001b[0;34m,\u001b[0m \u001b[0;34m**\u001b[0m\u001b[0mkwargs\u001b[0m\u001b[0;34m:\u001b[0m \u001b[0mself\u001b[0m\u001b[0;34m.\u001b[0m\u001b[0mfn\u001b[0m\u001b[0;34m(\u001b[0m\u001b[0mobj\u001b[0m\u001b[0;34m,\u001b[0m \u001b[0;34m*\u001b[0m\u001b[0margs\u001b[0m\u001b[0;34m,\u001b[0m \u001b[0;34m**\u001b[0m\u001b[0mkwargs\u001b[0m\u001b[0;34m)\u001b[0m\u001b[0;34m\u001b[0m\u001b[0m\n\u001b[0m\u001b[1;32m    119\u001b[0m         \u001b[0;31m# update the docstring of the returned function\u001b[0m\u001b[0;34m\u001b[0m\u001b[0;34m\u001b[0m\u001b[0m\n\u001b[1;32m    120\u001b[0m         \u001b[0mupdate_wrapper\u001b[0m\u001b[0;34m(\u001b[0m\u001b[0mout\u001b[0m\u001b[0;34m,\u001b[0m \u001b[0mself\u001b[0m\u001b[0;34m.\u001b[0m\u001b[0mfn\u001b[0m\u001b[0;34m)\u001b[0m\u001b[0;34m\u001b[0m\u001b[0m\n",
            "\u001b[0;32m/usr/local/lib/python2.7/dist-packages/sklearn/model_selection/_search.pyc\u001b[0m in \u001b[0;36mpredict\u001b[0;34m(self, X)\u001b[0m\n\u001b[1;32m    488\u001b[0m \u001b[0;34m\u001b[0m\u001b[0m\n\u001b[1;32m    489\u001b[0m         \"\"\"\n\u001b[0;32m--> 490\u001b[0;31m         \u001b[0mself\u001b[0m\u001b[0;34m.\u001b[0m\u001b[0m_check_is_fitted\u001b[0m\u001b[0;34m(\u001b[0m\u001b[0;34m'predict'\u001b[0m\u001b[0;34m)\u001b[0m\u001b[0;34m\u001b[0m\u001b[0m\n\u001b[0m\u001b[1;32m    491\u001b[0m         \u001b[0;32mreturn\u001b[0m \u001b[0mself\u001b[0m\u001b[0;34m.\u001b[0m\u001b[0mbest_estimator_\u001b[0m\u001b[0;34m.\u001b[0m\u001b[0mpredict\u001b[0m\u001b[0;34m(\u001b[0m\u001b[0mX\u001b[0m\u001b[0;34m)\u001b[0m\u001b[0;34m\u001b[0m\u001b[0m\n\u001b[1;32m    492\u001b[0m \u001b[0;34m\u001b[0m\u001b[0m\n",
            "\u001b[0;32m/usr/local/lib/python2.7/dist-packages/sklearn/model_selection/_search.pyc\u001b[0m in \u001b[0;36m_check_is_fitted\u001b[0;34m(self, method_name)\u001b[0m\n\u001b[1;32m    472\u001b[0m                                  % (type(self).__name__, method_name))\n\u001b[1;32m    473\u001b[0m         \u001b[0;32melse\u001b[0m\u001b[0;34m:\u001b[0m\u001b[0;34m\u001b[0m\u001b[0m\n\u001b[0;32m--> 474\u001b[0;31m             \u001b[0mcheck_is_fitted\u001b[0m\u001b[0;34m(\u001b[0m\u001b[0mself\u001b[0m\u001b[0;34m,\u001b[0m \u001b[0;34m'best_estimator_'\u001b[0m\u001b[0;34m)\u001b[0m\u001b[0;34m\u001b[0m\u001b[0m\n\u001b[0m\u001b[1;32m    475\u001b[0m \u001b[0;34m\u001b[0m\u001b[0m\n\u001b[1;32m    476\u001b[0m     \u001b[0;34m@\u001b[0m\u001b[0mif_delegate_has_method\u001b[0m\u001b[0;34m(\u001b[0m\u001b[0mdelegate\u001b[0m\u001b[0;34m=\u001b[0m\u001b[0;34m(\u001b[0m\u001b[0;34m'best_estimator_'\u001b[0m\u001b[0;34m,\u001b[0m \u001b[0;34m'estimator'\u001b[0m\u001b[0;34m)\u001b[0m\u001b[0;34m)\u001b[0m\u001b[0;34m\u001b[0m\u001b[0m\n",
            "\u001b[0;32m/usr/local/lib/python2.7/dist-packages/sklearn/utils/validation.pyc\u001b[0m in \u001b[0;36mcheck_is_fitted\u001b[0;34m(estimator, attributes, msg, all_or_any)\u001b[0m\n\u001b[1;32m    949\u001b[0m \u001b[0;34m\u001b[0m\u001b[0m\n\u001b[1;32m    950\u001b[0m     \u001b[0;32mif\u001b[0m \u001b[0;32mnot\u001b[0m \u001b[0mall_or_any\u001b[0m\u001b[0;34m(\u001b[0m\u001b[0;34m[\u001b[0m\u001b[0mhasattr\u001b[0m\u001b[0;34m(\u001b[0m\u001b[0mestimator\u001b[0m\u001b[0;34m,\u001b[0m \u001b[0mattr\u001b[0m\u001b[0;34m)\u001b[0m \u001b[0;32mfor\u001b[0m \u001b[0mattr\u001b[0m \u001b[0;32min\u001b[0m \u001b[0mattributes\u001b[0m\u001b[0;34m]\u001b[0m\u001b[0;34m)\u001b[0m\u001b[0;34m:\u001b[0m\u001b[0;34m\u001b[0m\u001b[0m\n\u001b[0;32m--> 951\u001b[0;31m         \u001b[0;32mraise\u001b[0m \u001b[0mNotFittedError\u001b[0m\u001b[0;34m(\u001b[0m\u001b[0mmsg\u001b[0m \u001b[0;34m%\u001b[0m \u001b[0;34m{\u001b[0m\u001b[0;34m'name'\u001b[0m\u001b[0;34m:\u001b[0m \u001b[0mtype\u001b[0m\u001b[0;34m(\u001b[0m\u001b[0mestimator\u001b[0m\u001b[0;34m)\u001b[0m\u001b[0;34m.\u001b[0m\u001b[0m__name__\u001b[0m\u001b[0;34m}\u001b[0m\u001b[0;34m)\u001b[0m\u001b[0;34m\u001b[0m\u001b[0m\n\u001b[0m\u001b[1;32m    952\u001b[0m \u001b[0;34m\u001b[0m\u001b[0m\n\u001b[1;32m    953\u001b[0m \u001b[0;34m\u001b[0m\u001b[0m\n",
            "\u001b[0;31mNotFittedError\u001b[0m: This GridSearchCV instance is not fitted yet. Call 'fit' with appropriate arguments before using this method."
          ]
        }
      ]
    },
    {
      "metadata": {
        "id": "KCxLhGR0Ce0D",
        "colab_type": "code",
        "colab": {
          "base_uri": "https://localhost:8080/",
          "height": 466
        },
        "outputId": "8f50befd-63aa-430f-b8f3-d9c59f2eb20d"
      },
      "cell_type": "code",
      "source": [
        "X = wrangle(X_train_val)\n",
        "y = y_train_val.status_group\n",
        "\n",
        "gs.fit(X, y)\n",
        "validation_score = gs.best_score_\n",
        "print()\n",
        "print('Cross-Validation Score:', validation_score)\n",
        "print()\n",
        "print('Best estimator:', gs.best_estimator_)\n",
        "print()\n",
        "\n",
        "results = pd.DataFrame(gs.cv_results_)\n",
        "print('Best result from grid search of {} parameter combinations'.format(len(results)))\n",
        "results.sort_values(by='rank_test_score').head(3)"
      ],
      "execution_count": 136,
      "outputs": [
        {
          "output_type": "stream",
          "text": [
            "Fitting 3 folds for each of 8 candidates, totalling 24 fits\n"
          ],
          "name": "stdout"
        },
        {
          "output_type": "stream",
          "text": [
            "[Parallel(n_jobs=1)]: Using backend SequentialBackend with 1 concurrent workers.\n",
            "[Parallel(n_jobs=1)]: Done  24 out of  24 | elapsed:  1.0min finished\n"
          ],
          "name": "stderr"
        },
        {
          "output_type": "stream",
          "text": [
            "()\n",
            "('Cross-Validation Score:', 0.6450280583613917)\n",
            "()\n",
            "('Best estimator:', Pipeline(memory=None,\n",
            "     steps=[('robustscaler', RobustScaler(copy=True, quantile_range=(25.0, 75.0), with_centering=True,\n",
            "       with_scaling=True)), ('selectkbest', SelectKBest(k='all', score_func=<function f_classif at 0x7f7bcd442d70>)), ('logisticregression', LogisticRegression(C=1.0, class_weight=None, dual=False, fit_...enalty='l2', random_state=None, solver='lbfgs',\n",
            "          tol=0.0001, verbose=0, warm_start=False))]))\n",
            "()\n",
            "Best result from grid search of 8 parameter combinations\n"
          ],
          "name": "stdout"
        },
        {
          "output_type": "execute_result",
          "data": {
            "text/html": [
              "<div>\n",
              "<style scoped>\n",
              "    .dataframe tbody tr th:only-of-type {\n",
              "        vertical-align: middle;\n",
              "    }\n",
              "\n",
              "    .dataframe tbody tr th {\n",
              "        vertical-align: top;\n",
              "    }\n",
              "\n",
              "    .dataframe thead th {\n",
              "        text-align: right;\n",
              "    }\n",
              "</style>\n",
              "<table border=\"1\" class=\"dataframe\">\n",
              "  <thead>\n",
              "    <tr style=\"text-align: right;\">\n",
              "      <th></th>\n",
              "      <th>mean_fit_time</th>\n",
              "      <th>mean_score_time</th>\n",
              "      <th>mean_test_score</th>\n",
              "      <th>mean_train_score</th>\n",
              "      <th>param_logisticregression__C</th>\n",
              "      <th>param_logisticregression__class_weight</th>\n",
              "      <th>param_selectkbest__k</th>\n",
              "      <th>params</th>\n",
              "      <th>rank_test_score</th>\n",
              "      <th>split0_test_score</th>\n",
              "      <th>split0_train_score</th>\n",
              "      <th>split1_test_score</th>\n",
              "      <th>split1_train_score</th>\n",
              "      <th>split2_test_score</th>\n",
              "      <th>split2_train_score</th>\n",
              "      <th>std_fit_time</th>\n",
              "      <th>std_score_time</th>\n",
              "      <th>std_test_score</th>\n",
              "      <th>std_train_score</th>\n",
              "    </tr>\n",
              "  </thead>\n",
              "  <tbody>\n",
              "    <tr>\n",
              "      <th>4</th>\n",
              "      <td>2.507492</td>\n",
              "      <td>0.046168</td>\n",
              "      <td>0.645028</td>\n",
              "      <td>0.645399</td>\n",
              "      <td>1</td>\n",
              "      <td>None</td>\n",
              "      <td>all</td>\n",
              "      <td>{u'selectkbest__k': u'all', u'logisticregressi...</td>\n",
              "      <td>1</td>\n",
              "      <td>0.652077</td>\n",
              "      <td>0.649517</td>\n",
              "      <td>0.640471</td>\n",
              "      <td>0.645118</td>\n",
              "      <td>0.642535</td>\n",
              "      <td>0.641561</td>\n",
              "      <td>0.030354</td>\n",
              "      <td>0.000180</td>\n",
              "      <td>0.005055</td>\n",
              "      <td>0.003254</td>\n",
              "    </tr>\n",
              "    <tr>\n",
              "      <th>6</th>\n",
              "      <td>2.480535</td>\n",
              "      <td>0.046090</td>\n",
              "      <td>0.642694</td>\n",
              "      <td>0.642851</td>\n",
              "      <td>10</td>\n",
              "      <td>None</td>\n",
              "      <td>all</td>\n",
              "      <td>{u'selectkbest__k': u'all', u'logisticregressi...</td>\n",
              "      <td>2</td>\n",
              "      <td>0.646286</td>\n",
              "      <td>0.643254</td>\n",
              "      <td>0.637912</td>\n",
              "      <td>0.643098</td>\n",
              "      <td>0.643882</td>\n",
              "      <td>0.642201</td>\n",
              "      <td>0.023110</td>\n",
              "      <td>0.000117</td>\n",
              "      <td>0.003520</td>\n",
              "      <td>0.000464</td>\n",
              "    </tr>\n",
              "    <tr>\n",
              "      <th>0</th>\n",
              "      <td>2.349126</td>\n",
              "      <td>0.033820</td>\n",
              "      <td>0.641841</td>\n",
              "      <td>0.642166</td>\n",
              "      <td>0.01</td>\n",
              "      <td>None</td>\n",
              "      <td>all</td>\n",
              "      <td>{u'selectkbest__k': u'all', u'logisticregressi...</td>\n",
              "      <td>3</td>\n",
              "      <td>0.645142</td>\n",
              "      <td>0.642412</td>\n",
              "      <td>0.638249</td>\n",
              "      <td>0.643771</td>\n",
              "      <td>0.642131</td>\n",
              "      <td>0.640315</td>\n",
              "      <td>0.183935</td>\n",
              "      <td>0.000130</td>\n",
              "      <td>0.002821</td>\n",
              "      <td>0.001422</td>\n",
              "    </tr>\n",
              "  </tbody>\n",
              "</table>\n",
              "</div>"
            ],
            "text/plain": [
              "   mean_fit_time  mean_score_time  mean_test_score  mean_train_score  \\\n",
              "4       2.507492         0.046168         0.645028          0.645399   \n",
              "6       2.480535         0.046090         0.642694          0.642851   \n",
              "0       2.349126         0.033820         0.641841          0.642166   \n",
              "\n",
              "  param_logisticregression__C param_logisticregression__class_weight  \\\n",
              "4                           1                                   None   \n",
              "6                          10                                   None   \n",
              "0                        0.01                                   None   \n",
              "\n",
              "  param_selectkbest__k                                             params  \\\n",
              "4                  all  {u'selectkbest__k': u'all', u'logisticregressi...   \n",
              "6                  all  {u'selectkbest__k': u'all', u'logisticregressi...   \n",
              "0                  all  {u'selectkbest__k': u'all', u'logisticregressi...   \n",
              "\n",
              "   rank_test_score  split0_test_score  split0_train_score  split1_test_score  \\\n",
              "4                1           0.652077            0.649517           0.640471   \n",
              "6                2           0.646286            0.643254           0.637912   \n",
              "0                3           0.645142            0.642412           0.638249   \n",
              "\n",
              "   split1_train_score  split2_test_score  split2_train_score  std_fit_time  \\\n",
              "4            0.645118           0.642535            0.641561      0.030354   \n",
              "6            0.643098           0.643882            0.642201      0.023110   \n",
              "0            0.643771           0.642131            0.640315      0.183935   \n",
              "\n",
              "   std_score_time  std_test_score  std_train_score  \n",
              "4        0.000180        0.005055         0.003254  \n",
              "6        0.000117        0.003520         0.000464  \n",
              "0        0.000130        0.002821         0.001422  "
            ]
          },
          "metadata": {
            "tags": []
          },
          "execution_count": 136
        }
      ]
    },
    {
      "metadata": {
        "id": "3e_7HPplh4nu",
        "colab_type": "code",
        "colab": {
          "base_uri": "https://localhost:8080/",
          "height": 240
        },
        "outputId": "db133f9f-f72d-4baf-cd42-58eade0fd3c7"
      },
      "cell_type": "code",
      "source": [
        "#Which features were selected?\n",
        "\n",
        "\n",
        "selector = gs.best_estimator_.named_steps['selectkbest']\n",
        "all_names = X.columns.values\n",
        "selected_mask = selector.get_support()\n",
        "selected_names = all_names[selected_mask]\n",
        "unselected_names = all_names[~selected_mask]\n",
        "\n",
        "print('Features selected:')\n",
        "for name in selected_names:\n",
        "    print(name)\n",
        "\n",
        "print('\\n')\n",
        "print('Features not selected:')\n",
        "for name in unselected_names:\n",
        "    print(name)\n"
      ],
      "execution_count": 88,
      "outputs": [
        {
          "output_type": "stream",
          "text": [
            "Features selected:\n",
            "amount_tsh\n",
            "gps_height\n",
            "longitude\n",
            "latitude\n",
            "num_private\n",
            "region_code\n",
            "district_code\n",
            "population\n",
            "construction_year\n",
            "\n",
            "\n",
            "Features not selected:\n"
          ],
          "name": "stdout"
        }
      ]
    },
    {
      "metadata": {
        "id": "dwNH3AnNWcVU",
        "colab_type": "code",
        "colab": {
          "base_uri": "https://localhost:8080/",
          "height": 277
        },
        "outputId": "c0ee368f-eb1d-409d-bdce-c8ad83482715"
      },
      "cell_type": "code",
      "source": [
        "from sklearn.ensemble import RandomForestRegressor as RFR\n",
        "\n",
        "X=wrangle(X_train_val)\n",
        "names = X.columns\n",
        "\n",
        "y = y_train_val.status_group.values\n",
        "\n",
        "y = pd.DataFrame(y).replace(['non functional','functional','functional needs repair'],[1,2,3])\n",
        "y = y.values\n",
        "\n",
        "# Fitting a random forest regression\n",
        "rfr = RFR().fit(X, y)\n",
        "\n",
        "# Creating scores from feature_importances_ ranking (some randomness here)\n",
        "rfr_scores = pd.Series(data=rfr.feature_importances_, name='RFR', index=names)\n",
        "\n",
        "rfr_scores"
      ],
      "execution_count": 92,
      "outputs": [
        {
          "output_type": "stream",
          "text": [
            "/usr/local/lib/python2.7/dist-packages/sklearn/ensemble/forest.py:246: FutureWarning: The default value of n_estimators will change from 10 in version 0.20 to 100 in 0.22.\n",
            "  \"10 in version 0.20 to 100 in 0.22.\", FutureWarning)\n",
            "/usr/local/lib/python2.7/dist-packages/ipykernel_launcher.py:12: DataConversionWarning: A column-vector y was passed when a 1d array was expected. Please change the shape of y to (n_samples,), for example using ravel().\n",
            "  if sys.path[0] == '':\n"
          ],
          "name": "stderr"
        },
        {
          "output_type": "execute_result",
          "data": {
            "text/plain": [
              "amount_tsh           0.046799\n",
              "gps_height           0.112360\n",
              "longitude            0.321401\n",
              "latitude             0.314932\n",
              "num_private          0.002886\n",
              "region_code          0.020020\n",
              "district_code        0.024160\n",
              "population           0.086345\n",
              "construction_year    0.071098\n",
              "Name: RFR, dtype: float64"
            ]
          },
          "metadata": {
            "tags": []
          },
          "execution_count": 92
        }
      ]
    },
    {
      "metadata": {
        "id": "xeGinGk9hx9V",
        "colab_type": "code",
        "colab": {
          "base_uri": "https://localhost:8080/",
          "height": 168
        },
        "outputId": "1f4fca73-0264-4a66-e2b3-8f165e71ef7e"
      },
      "cell_type": "code",
      "source": [
        "X.head(3)"
      ],
      "execution_count": 94,
      "outputs": [
        {
          "output_type": "execute_result",
          "data": {
            "text/html": [
              "<div>\n",
              "<style scoped>\n",
              "    .dataframe tbody tr th:only-of-type {\n",
              "        vertical-align: middle;\n",
              "    }\n",
              "\n",
              "    .dataframe tbody tr th {\n",
              "        vertical-align: top;\n",
              "    }\n",
              "\n",
              "    .dataframe thead th {\n",
              "        text-align: right;\n",
              "    }\n",
              "</style>\n",
              "<table border=\"1\" class=\"dataframe\">\n",
              "  <thead>\n",
              "    <tr style=\"text-align: right;\">\n",
              "      <th></th>\n",
              "      <th>amount_tsh</th>\n",
              "      <th>gps_height</th>\n",
              "      <th>longitude</th>\n",
              "      <th>latitude</th>\n",
              "      <th>num_private</th>\n",
              "      <th>region_code</th>\n",
              "      <th>district_code</th>\n",
              "      <th>population</th>\n",
              "      <th>construction_year</th>\n",
              "    </tr>\n",
              "    <tr>\n",
              "      <th>id</th>\n",
              "      <th></th>\n",
              "      <th></th>\n",
              "      <th></th>\n",
              "      <th></th>\n",
              "      <th></th>\n",
              "      <th></th>\n",
              "      <th></th>\n",
              "      <th></th>\n",
              "      <th></th>\n",
              "    </tr>\n",
              "  </thead>\n",
              "  <tbody>\n",
              "    <tr>\n",
              "      <th>33935</th>\n",
              "      <td>20.0</td>\n",
              "      <td>330</td>\n",
              "      <td>38.123839</td>\n",
              "      <td>-6.087137e+00</td>\n",
              "      <td>0</td>\n",
              "      <td>6</td>\n",
              "      <td>1</td>\n",
              "      <td>80</td>\n",
              "      <td>1972</td>\n",
              "    </tr>\n",
              "    <tr>\n",
              "      <th>49654</th>\n",
              "      <td>0.0</td>\n",
              "      <td>0</td>\n",
              "      <td>0.000000</td>\n",
              "      <td>-2.000000e-08</td>\n",
              "      <td>0</td>\n",
              "      <td>17</td>\n",
              "      <td>1</td>\n",
              "      <td>0</td>\n",
              "      <td>0</td>\n",
              "    </tr>\n",
              "    <tr>\n",
              "      <th>39287</th>\n",
              "      <td>0.0</td>\n",
              "      <td>0</td>\n",
              "      <td>33.312321</td>\n",
              "      <td>-2.814100e+00</td>\n",
              "      <td>0</td>\n",
              "      <td>19</td>\n",
              "      <td>4</td>\n",
              "      <td>0</td>\n",
              "      <td>0</td>\n",
              "    </tr>\n",
              "  </tbody>\n",
              "</table>\n",
              "</div>"
            ],
            "text/plain": [
              "       amount_tsh  gps_height  longitude      latitude  num_private  \\\n",
              "id                                                                    \n",
              "33935        20.0         330  38.123839 -6.087137e+00            0   \n",
              "49654         0.0           0   0.000000 -2.000000e-08            0   \n",
              "39287         0.0           0  33.312321 -2.814100e+00            0   \n",
              "\n",
              "       region_code  district_code  population  construction_year  \n",
              "id                                                                \n",
              "33935            6              1          80               1972  \n",
              "49654           17              1           0                  0  \n",
              "39287           19              4           0                  0  "
            ]
          },
          "metadata": {
            "tags": []
          },
          "execution_count": 94
        }
      ]
    },
    {
      "metadata": {
        "id": "smqoeXlIjOMf",
        "colab_type": "code",
        "colab": {
          "base_uri": "https://localhost:8080/",
          "height": 277
        },
        "outputId": "be91ef59-ab83-4dab-d265-b5ef396bff09"
      },
      "cell_type": "code",
      "source": [
        "from sklearn.feature_selection import RFECV\n",
        "from sklearn.linear_model import Lasso\n",
        "\n",
        "X= wrangle(X_train_val)\n",
        "\n",
        "y= y_train_val.status_group\n",
        "\n",
        "#y = y.replace(['non functional','functional','functional needs repair'],[1,2,3])\n",
        "#y = y.values\n",
        "\n",
        "X_scaled = RobustScaler().fit_transform(X)\n",
        "\n",
        "# Lasso can't handle multi-class label.\n",
        "#rfe = RFECV(Lasso(), scoring='accuracy', cv=3)\n",
        "rfe = RFECV(LogisticRegression(), scoring='accuracy', cv=3)\n",
        "X_subset = rfe.fit_transform(X_scaled, y)\n",
        "\n",
        "all_names = X.columns\n",
        "selected_mask = rfe.support_\n",
        "selected_names = all_names[selected_mask]\n",
        "unselected_names = all_names[~selected_mask]\n",
        "\n",
        "print('Features selected:')\n",
        "for name in selected_names:\n",
        "    print(name)\n",
        "\n",
        "print()\n",
        "print('Features not selected:')\n",
        "for name in unselected_names:\n",
        "    print(name)\n"
      ],
      "execution_count": 93,
      "outputs": [
        {
          "output_type": "stream",
          "text": [
            "/usr/local/lib/python2.7/dist-packages/sklearn/linear_model/logistic.py:433: FutureWarning: Default solver will be changed to 'lbfgs' in 0.22. Specify a solver to silence this warning.\n",
            "  FutureWarning)\n"
          ],
          "name": "stderr"
        },
        {
          "output_type": "stream",
          "text": [
            "Features selected:\n",
            "amount_tsh\n",
            "gps_height\n",
            "longitude\n",
            "latitude\n",
            "num_private\n",
            "region_code\n",
            "district_code\n",
            "population\n",
            "construction_year\n",
            "()\n",
            "Features not selected:\n"
          ],
          "name": "stdout"
        }
      ]
    },
    {
      "metadata": {
        "id": "JHLencf8A6Gp",
        "colab_type": "code",
        "colab": {
          "base_uri": "https://localhost:8080/",
          "height": 34
        },
        "outputId": "e26d6acd-c3a2-4f4f-be44-49ea72ab753a"
      },
      "cell_type": "code",
      "source": [
        "X,y=wrangle(df_test, y_test)\n",
        "X.shape, y.shape"
      ],
      "execution_count": 29,
      "outputs": [
        {
          "output_type": "execute_result",
          "data": {
            "text/plain": [
              "((14358, 26), (14850,))"
            ]
          },
          "metadata": {
            "tags": []
          },
          "execution_count": 29
        }
      ]
    },
    {
      "metadata": {
        "id": "LiPJr0xgPEIs",
        "colab_type": "code",
        "colab": {}
      },
      "cell_type": "code",
      "source": [
        "# Predict with X_test features\n",
        "X=wrangle(df_test)\n",
        "y_pred = gs.predict(X)\n",
        "\n",
        "# Compare predictions to y_test labels\n",
        "#test_score = accuracy_score(y_test.status_group, y_pred)\n",
        "#print('Test Score:', test_score)"
      ],
      "execution_count": 0,
      "outputs": []
    },
    {
      "metadata": {
        "id": "CXDseFXhN9K4",
        "colab_type": "code",
        "outputId": "db7def0c-a00e-4539-d405-d37be3174666",
        "colab": {
          "base_uri": "https://localhost:8080/",
          "height": 34
        }
      },
      "cell_type": "code",
      "source": [
        "#submission as format as df_sample\n",
        "y_submission = y_test.copy()\n",
        "y_submission['status_group']=y_pred\n",
        "y_submission.shape"
      ],
      "execution_count": 15,
      "outputs": [
        {
          "output_type": "execute_result",
          "data": {
            "text/plain": [
              "(14850, 2)"
            ]
          },
          "metadata": {
            "tags": []
          },
          "execution_count": 15
        }
      ]
    },
    {
      "metadata": {
        "id": "D3EBjffCPPk1",
        "colab_type": "code",
        "colab": {}
      },
      "cell_type": "code",
      "source": [
        "from google.colab import files\n",
        "\n",
        "y_submission.to_csv('data.csv', index=False)\n",
        "files.download(\"data.csv\")"
      ],
      "execution_count": 0,
      "outputs": []
    }
  ]
}