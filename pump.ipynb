{
  "nbformat": 4,
  "nbformat_minor": 0,
  "metadata": {
    "colab": {
      "name": "pump.ipynb",
      "version": "0.3.2",
      "provenance": [],
      "include_colab_link": true
    },
    "kernelspec": {
      "name": "python2",
      "display_name": "Python 2"
    }
  },
  "cells": [
    {
      "cell_type": "markdown",
      "metadata": {
        "id": "view-in-github",
        "colab_type": "text"
      },
      "source": [
        "<a href=\"https://colab.research.google.com/github/cocoisland/DS-Unit-2-Sprint-4-Model-Validation/blob/master/pump.ipynb\" target=\"_parent\"><img src=\"https://colab.research.google.com/assets/colab-badge.svg\" alt=\"Open In Colab\"/></a>"
      ]
    },
    {
      "metadata": {
        "id": "OQOX3fQYroDa",
        "colab_type": "code",
        "colab": {
          "base_uri": "https://localhost:8080/",
          "height": 206
        },
        "outputId": "21e3f16c-f133-441a-aae8-36294bda85af"
      },
      "cell_type": "code",
      "source": [
        "!pip install kaggle"
      ],
      "execution_count": 2,
      "outputs": [
        {
          "output_type": "stream",
          "text": [
            "Requirement already satisfied: kaggle in /usr/local/lib/python2.7/dist-packages (1.5.2)\n",
            "Requirement already satisfied: urllib3<1.23.0,>=1.15 in /usr/local/lib/python2.7/dist-packages (from kaggle) (1.22)\n",
            "Requirement already satisfied: six>=1.10 in /usr/local/lib/python2.7/dist-packages (from kaggle) (1.11.0)\n",
            "Requirement already satisfied: certifi in /usr/local/lib/python2.7/dist-packages (from kaggle) (2018.11.29)\n",
            "Requirement already satisfied: python-dateutil in /usr/local/lib/python2.7/dist-packages (from kaggle) (2.5.3)\n",
            "Requirement already satisfied: requests in /usr/local/lib/python2.7/dist-packages (from kaggle) (2.18.4)\n",
            "Requirement already satisfied: tqdm in /usr/local/lib/python2.7/dist-packages (from kaggle) (4.28.1)\n",
            "Requirement already satisfied: python-slugify in /usr/local/lib/python2.7/dist-packages (from kaggle) (2.0.1)\n",
            "Requirement already satisfied: idna<2.7,>=2.5 in /usr/local/lib/python2.7/dist-packages (from requests->kaggle) (2.6)\n",
            "Requirement already satisfied: chardet<3.1.0,>=3.0.2 in /usr/local/lib/python2.7/dist-packages (from requests->kaggle) (3.0.4)\n",
            "Requirement already satisfied: Unidecode>=0.04.16 in /usr/local/lib/python2.7/dist-packages (from python-slugify->kaggle) (1.0.23)\n"
          ],
          "name": "stdout"
        }
      ]
    },
    {
      "metadata": {
        "id": "WaTecLTNryrG",
        "colab_type": "code",
        "colab": {
          "base_uri": "https://localhost:8080/",
          "height": 140
        },
        "outputId": "68575d01-72e6-4c40-cf2a-e1d5900b8426"
      },
      "cell_type": "code",
      "source": [
        "from google.colab import drive\n",
        "drive.mount('/content/drive')\n",
        "%env KAGGLE_CONFIG_DIR=/content/drive/My Drive/"
      ],
      "execution_count": 3,
      "outputs": [
        {
          "output_type": "stream",
          "text": [
            "Go to this URL in a browser: https://accounts.google.com/o/oauth2/auth?client_id=947318989803-6bn6qk8qdgf4n4g3pfee6491hc0brc4i.apps.googleusercontent.com&redirect_uri=urn%3Aietf%3Awg%3Aoauth%3A2.0%3Aoob&scope=email%20https%3A%2F%2Fwww.googleapis.com%2Fauth%2Fdocs.test%20https%3A%2F%2Fwww.googleapis.com%2Fauth%2Fdrive%20https%3A%2F%2Fwww.googleapis.com%2Fauth%2Fdrive.photos.readonly%20https%3A%2F%2Fwww.googleapis.com%2Fauth%2Fpeopleapi.readonly&response_type=code\n",
            "\n",
            "Enter your authorization code:\n",
            "··········\n",
            "Mounted at /content/drive\n",
            "env: KAGGLE_CONFIG_DIR=/content/drive/My Drive/\n"
          ],
          "name": "stdout"
        }
      ]
    },
    {
      "metadata": {
        "id": "k2iuXjFyvmzG",
        "colab_type": "code",
        "colab": {
          "base_uri": "https://localhost:8080/",
          "height": 223
        },
        "outputId": "12ea2220-7065-4605-f2a5-2af5e02a1e17"
      },
      "cell_type": "code",
      "source": [
        "!kaggle  competitions download -c ds1-predictive-modeling-challenge"
      ],
      "execution_count": 4,
      "outputs": [
        {
          "output_type": "stream",
          "text": [
            "Downloading sample_submission.csv to /content\n",
            "\r  0% 0.00/236k [00:00<?, ?B/s]\n",
            "100% 236k/236k [00:00<00:00, 70.9MB/s]\n",
            "Downloading test_features.csv.zip to /content\n",
            "  0% 0.00/948k [00:00<?, ?B/s]\n",
            "100% 948k/948k [00:00<00:00, 62.0MB/s]\n",
            "Downloading train_labels.csv.zip to /content\n",
            "  0% 0.00/211k [00:00<?, ?B/s]\n",
            "100% 211k/211k [00:00<00:00, 65.8MB/s]\n",
            "Downloading train_features.csv.zip to /content\n",
            "  0% 0.00/3.81M [00:00<?, ?B/s]\n",
            "100% 3.81M/3.81M [00:00<00:00, 123MB/s]\n"
          ],
          "name": "stdout"
        }
      ]
    },
    {
      "metadata": {
        "id": "faVKlWCO5PI5",
        "colab_type": "code",
        "colab": {
          "base_uri": "https://localhost:8080/",
          "height": 120
        },
        "outputId": "844acfc9-96b9-40ee-8341-c17ddb8215b4"
      },
      "cell_type": "code",
      "source": [
        "!unzip train_features.csv.zip\n",
        "!unzip train_labels.csv.zip\n",
        "!unzip test_features.csv.zip\n"
      ],
      "execution_count": 5,
      "outputs": [
        {
          "output_type": "stream",
          "text": [
            "Archive:  train_features.csv.zip\n",
            "  inflating: train_features.csv      \n",
            "Archive:  train_labels.csv.zip\n",
            "  inflating: train_labels.csv        \n",
            "Archive:  test_features.csv.zip\n",
            "  inflating: test_features.csv       \n"
          ],
          "name": "stdout"
        }
      ]
    },
    {
      "metadata": {
        "id": "LFN4liBbEgBm",
        "colab_type": "code",
        "colab": {}
      },
      "cell_type": "code",
      "source": [
        "import pandas as pd\n",
        "import numpy as np\n",
        "import matplotlib.pyplot as plt\n",
        "from sklearn.model_selection import train_test_split\n",
        "import sklearn.feature_selection as fe\n",
        "from sklearn.feature_selection import SelectPercentile, SelectKBest, f_classif\n",
        "from sklearn.feature_selection import RFECV\n",
        "\n",
        "from sklearn.model_selection import GridSearchCV\n",
        "from sklearn.pipeline import make_pipeline\n",
        "\n",
        "from sklearn.preprocessing import MinMaxScaler\n",
        "from sklearn.preprocessing import RobustScaler\n",
        "\n",
        "from sklearn.metrics import accuracy_score, classification_report\n",
        "from sklearn.linear_model import LogisticRegression\n",
        "from sklearn.linear_model import Ridge\n",
        "from sklearn.model_selection import cross_validate\n",
        "\n",
        "from mlxtend.plotting import plot_decision_regions\n",
        "#import category_encoders as ce\n"
      ],
      "execution_count": 0,
      "outputs": []
    },
    {
      "metadata": {
        "id": "aU8Uonvd4yye",
        "colab_type": "code",
        "colab": {
          "base_uri": "https://localhost:8080/",
          "height": 34
        },
        "outputId": "23f8bda1-cf34-4ee4-aa51-0daeb3836321"
      },
      "cell_type": "code",
      "source": [
        "# date as index\n",
        "df_train = pd.read_csv('train_features.csv',index_col='date_recorded', \n",
        "              parse_dates=True, infer_datetime_format=True)\n",
        "df_test = pd.read_csv('test_features.csv', index_col='date_recorded',\n",
        "                     parse_dates=True, infer_datetime_format=True)\n",
        "df_label = pd.read_csv('train_labels.csv')\n",
        "\n",
        "df_train.shape, df_test.shape, df_label.shape\n"
      ],
      "execution_count": 242,
      "outputs": [
        {
          "output_type": "execute_result",
          "data": {
            "text/plain": [
              "((59400, 39), (14358, 39), (59400, 2))"
            ]
          },
          "metadata": {
            "tags": []
          },
          "execution_count": 242
        }
      ]
    },
    {
      "metadata": {
        "id": "DQnRcgCYrrDr",
        "colab_type": "code",
        "colab": {
          "base_uri": "https://localhost:8080/",
          "height": 34
        },
        "outputId": "5f196db1-495c-44f8-8b1b-8cf42d281286"
      },
      "cell_type": "code",
      "source": [
        "# id as index\n",
        "df_train = pd.read_csv('train_features.csv',index_col='id')\n",
        "df_test = pd.read_csv('test_features.csv', index_col='id')\n",
        "df_label = pd.read_csv('train_labels.csv')\n",
        "\n",
        "df_train.shape, df_test.shape, df_label.shape\n"
      ],
      "execution_count": 246,
      "outputs": [
        {
          "output_type": "execute_result",
          "data": {
            "text/plain": [
              "((59400, 39), (14358, 39), (59400, 2))"
            ]
          },
          "metadata": {
            "tags": []
          },
          "execution_count": 246
        }
      ]
    },
    {
      "metadata": {
        "id": "eS23mcs_f2Ea",
        "colab_type": "code",
        "colab": {
          "base_uri": "https://localhost:8080/",
          "height": 34
        },
        "outputId": "afc4452a-5bc8-47c2-ef41-73198e2f2441"
      },
      "cell_type": "code",
      "source": [
        "X_train_val, X_test, y_train_val, y_test = train_test_split(\n",
        "        df_train, df_label, test_size=0.25, random_state=42, shuffle=True)\n",
        "\n",
        "X_train_val.shape, X_test.shape, y_train_val.shape, y_test.shape"
      ],
      "execution_count": 247,
      "outputs": [
        {
          "output_type": "execute_result",
          "data": {
            "text/plain": [
              "((44550, 39), (14850, 39), (44550, 2), (14850, 2))"
            ]
          },
          "metadata": {
            "tags": []
          },
          "execution_count": 247
        }
      ]
    },
    {
      "metadata": {
        "id": "3O2kVsqY7o3x",
        "colab_type": "code",
        "colab": {
          "base_uri": "https://localhost:8080/",
          "height": 86
        },
        "outputId": "c329425a-fda3-439d-c096-86b7aae3c82a"
      },
      "cell_type": "code",
      "source": [
        "# majority baseline\n",
        "# balanced data - logistic class_weight = \n",
        "#            (None, accuracy = 0.55),\n",
        "#            (balanced,accuracy=0.39-0.4)\n",
        "\n",
        "\n",
        "df_label['status_group'].value_counts(normalize=True)"
      ],
      "execution_count": 248,
      "outputs": [
        {
          "output_type": "execute_result",
          "data": {
            "text/plain": [
              "functional                 0.543081\n",
              "non functional             0.384242\n",
              "functional needs repair    0.072677\n",
              "Name: status_group, dtype: float64"
            ]
          },
          "metadata": {
            "tags": []
          },
          "execution_count": 248
        }
      ]
    },
    {
      "metadata": {
        "id": "VWBP6SeuRuyR",
        "colab_type": "code",
        "colab": {
          "base_uri": "https://localhost:8080/",
          "height": 291
        },
        "outputId": "73cb6c5d-7025-4618-c206-9a72650e7af1"
      },
      "cell_type": "code",
      "source": [
        "pd.set_option('display.max_columns', None)\n",
        "\n",
        "#df_str=X_train_val.select_dtypes(exclude=['int','float']).copy()\n",
        "df_str=X_train_val.select_dtypes(object).copy()\n",
        "df_str.head(3)\n"
      ],
      "execution_count": 249,
      "outputs": [
        {
          "output_type": "execute_result",
          "data": {
            "text/html": [
              "<div>\n",
              "<style scoped>\n",
              "    .dataframe tbody tr th:only-of-type {\n",
              "        vertical-align: middle;\n",
              "    }\n",
              "\n",
              "    .dataframe tbody tr th {\n",
              "        vertical-align: top;\n",
              "    }\n",
              "\n",
              "    .dataframe thead th {\n",
              "        text-align: right;\n",
              "    }\n",
              "</style>\n",
              "<table border=\"1\" class=\"dataframe\">\n",
              "  <thead>\n",
              "    <tr style=\"text-align: right;\">\n",
              "      <th></th>\n",
              "      <th>date_recorded</th>\n",
              "      <th>funder</th>\n",
              "      <th>installer</th>\n",
              "      <th>wpt_name</th>\n",
              "      <th>basin</th>\n",
              "      <th>subvillage</th>\n",
              "      <th>region</th>\n",
              "      <th>lga</th>\n",
              "      <th>ward</th>\n",
              "      <th>public_meeting</th>\n",
              "      <th>recorded_by</th>\n",
              "      <th>scheme_management</th>\n",
              "      <th>scheme_name</th>\n",
              "      <th>permit</th>\n",
              "      <th>extraction_type</th>\n",
              "      <th>extraction_type_group</th>\n",
              "      <th>extraction_type_class</th>\n",
              "      <th>management</th>\n",
              "      <th>management_group</th>\n",
              "      <th>payment</th>\n",
              "      <th>payment_type</th>\n",
              "      <th>water_quality</th>\n",
              "      <th>quality_group</th>\n",
              "      <th>quantity</th>\n",
              "      <th>quantity_group</th>\n",
              "      <th>source</th>\n",
              "      <th>source_type</th>\n",
              "      <th>source_class</th>\n",
              "      <th>waterpoint_type</th>\n",
              "      <th>waterpoint_type_group</th>\n",
              "    </tr>\n",
              "    <tr>\n",
              "      <th>id</th>\n",
              "      <th></th>\n",
              "      <th></th>\n",
              "      <th></th>\n",
              "      <th></th>\n",
              "      <th></th>\n",
              "      <th></th>\n",
              "      <th></th>\n",
              "      <th></th>\n",
              "      <th></th>\n",
              "      <th></th>\n",
              "      <th></th>\n",
              "      <th></th>\n",
              "      <th></th>\n",
              "      <th></th>\n",
              "      <th></th>\n",
              "      <th></th>\n",
              "      <th></th>\n",
              "      <th></th>\n",
              "      <th></th>\n",
              "      <th></th>\n",
              "      <th></th>\n",
              "      <th></th>\n",
              "      <th></th>\n",
              "      <th></th>\n",
              "      <th></th>\n",
              "      <th></th>\n",
              "      <th></th>\n",
              "      <th></th>\n",
              "      <th></th>\n",
              "      <th></th>\n",
              "    </tr>\n",
              "  </thead>\n",
              "  <tbody>\n",
              "    <tr>\n",
              "      <th>33935</th>\n",
              "      <td>2011-03-08</td>\n",
              "      <td>Government Of Tanzania</td>\n",
              "      <td>Ce</td>\n",
              "      <td>Ccm</td>\n",
              "      <td>Wami / Ruvu</td>\n",
              "      <td>Kilangawageni</td>\n",
              "      <td>Pwani</td>\n",
              "      <td>Bagamoyo</td>\n",
              "      <td>Mbwewe</td>\n",
              "      <td>True</td>\n",
              "      <td>GeoData Consultants Ltd</td>\n",
              "      <td>VWC</td>\n",
              "      <td>Kwaruhombo wa</td>\n",
              "      <td>True</td>\n",
              "      <td>ksb</td>\n",
              "      <td>submersible</td>\n",
              "      <td>submersible</td>\n",
              "      <td>vwc</td>\n",
              "      <td>user-group</td>\n",
              "      <td>pay per bucket</td>\n",
              "      <td>per bucket</td>\n",
              "      <td>salty</td>\n",
              "      <td>salty</td>\n",
              "      <td>insufficient</td>\n",
              "      <td>insufficient</td>\n",
              "      <td>machine dbh</td>\n",
              "      <td>borehole</td>\n",
              "      <td>groundwater</td>\n",
              "      <td>communal standpipe</td>\n",
              "      <td>communal standpipe</td>\n",
              "    </tr>\n",
              "    <tr>\n",
              "      <th>49654</th>\n",
              "      <td>2013-02-16</td>\n",
              "      <td>Dwsp</td>\n",
              "      <td>DWE</td>\n",
              "      <td>Mwamahonza</td>\n",
              "      <td>Lake Victoria</td>\n",
              "      <td>Mwamahala</td>\n",
              "      <td>Mwanza</td>\n",
              "      <td>Magu</td>\n",
              "      <td>Nkungulu</td>\n",
              "      <td>NaN</td>\n",
              "      <td>GeoData Consultants Ltd</td>\n",
              "      <td>WUG</td>\n",
              "      <td>NaN</td>\n",
              "      <td>False</td>\n",
              "      <td>nira/tanira</td>\n",
              "      <td>nira/tanira</td>\n",
              "      <td>handpump</td>\n",
              "      <td>wug</td>\n",
              "      <td>user-group</td>\n",
              "      <td>unknown</td>\n",
              "      <td>unknown</td>\n",
              "      <td>soft</td>\n",
              "      <td>good</td>\n",
              "      <td>enough</td>\n",
              "      <td>enough</td>\n",
              "      <td>shallow well</td>\n",
              "      <td>shallow well</td>\n",
              "      <td>groundwater</td>\n",
              "      <td>hand pump</td>\n",
              "      <td>hand pump</td>\n",
              "    </tr>\n",
              "    <tr>\n",
              "      <th>39287</th>\n",
              "      <td>2011-08-13</td>\n",
              "      <td>Dasip</td>\n",
              "      <td>DASIP</td>\n",
              "      <td>Chanongu</td>\n",
              "      <td>Lake Victoria</td>\n",
              "      <td>Chanongu</td>\n",
              "      <td>Mwanza</td>\n",
              "      <td>Kwimba</td>\n",
              "      <td>Wala</td>\n",
              "      <td>True</td>\n",
              "      <td>GeoData Consultants Ltd</td>\n",
              "      <td>VWC</td>\n",
              "      <td>NaN</td>\n",
              "      <td>True</td>\n",
              "      <td>india mark ii</td>\n",
              "      <td>india mark ii</td>\n",
              "      <td>handpump</td>\n",
              "      <td>vwc</td>\n",
              "      <td>user-group</td>\n",
              "      <td>never pay</td>\n",
              "      <td>never pay</td>\n",
              "      <td>soft</td>\n",
              "      <td>good</td>\n",
              "      <td>enough</td>\n",
              "      <td>enough</td>\n",
              "      <td>machine dbh</td>\n",
              "      <td>borehole</td>\n",
              "      <td>groundwater</td>\n",
              "      <td>hand pump</td>\n",
              "      <td>hand pump</td>\n",
              "    </tr>\n",
              "  </tbody>\n",
              "</table>\n",
              "</div>"
            ],
            "text/plain": [
              "      date_recorded                  funder installer    wpt_name  \\\n",
              "id                                                                  \n",
              "33935    2011-03-08  Government Of Tanzania        Ce         Ccm   \n",
              "49654    2013-02-16                    Dwsp       DWE  Mwamahonza   \n",
              "39287    2011-08-13                   Dasip     DASIP    Chanongu   \n",
              "\n",
              "               basin     subvillage  region       lga      ward  \\\n",
              "id                                                                \n",
              "33935    Wami / Ruvu  Kilangawageni   Pwani  Bagamoyo    Mbwewe   \n",
              "49654  Lake Victoria      Mwamahala  Mwanza      Magu  Nkungulu   \n",
              "39287  Lake Victoria       Chanongu  Mwanza    Kwimba      Wala   \n",
              "\n",
              "      public_meeting              recorded_by scheme_management  \\\n",
              "id                                                                \n",
              "33935           True  GeoData Consultants Ltd               VWC   \n",
              "49654            NaN  GeoData Consultants Ltd               WUG   \n",
              "39287           True  GeoData Consultants Ltd               VWC   \n",
              "\n",
              "         scheme_name permit extraction_type extraction_type_group  \\\n",
              "id                                                                  \n",
              "33935  Kwaruhombo wa   True             ksb           submersible   \n",
              "49654            NaN  False     nira/tanira           nira/tanira   \n",
              "39287            NaN   True   india mark ii         india mark ii   \n",
              "\n",
              "      extraction_type_class management management_group         payment  \\\n",
              "id                                                                        \n",
              "33935           submersible        vwc       user-group  pay per bucket   \n",
              "49654              handpump        wug       user-group         unknown   \n",
              "39287              handpump        vwc       user-group       never pay   \n",
              "\n",
              "      payment_type water_quality quality_group      quantity quantity_group  \\\n",
              "id                                                                            \n",
              "33935   per bucket         salty         salty  insufficient   insufficient   \n",
              "49654      unknown          soft          good        enough         enough   \n",
              "39287    never pay          soft          good        enough         enough   \n",
              "\n",
              "             source   source_type source_class     waterpoint_type  \\\n",
              "id                                                                   \n",
              "33935   machine dbh      borehole  groundwater  communal standpipe   \n",
              "49654  shallow well  shallow well  groundwater           hand pump   \n",
              "39287   machine dbh      borehole  groundwater           hand pump   \n",
              "\n",
              "      waterpoint_type_group  \n",
              "id                           \n",
              "33935    communal standpipe  \n",
              "49654             hand pump  \n",
              "39287             hand pump  "
            ]
          },
          "metadata": {
            "tags": []
          },
          "execution_count": 249
        }
      ]
    },
    {
      "metadata": {
        "id": "vTnn2Mv7LGBj",
        "colab_type": "code",
        "colab": {}
      },
      "cell_type": "code",
      "source": [
        "# As observations increase, more features will fail to pass the threshold\n",
        "# At 50,000+ observation, passing threshold drops to 0.1\n",
        "\n",
        "#remove all features that are either one or zero (on or off) in more than 80% of the samples.\n",
        "#threshold = 0.8 * (1- .8)\n",
        "\n",
        "import sklearn.feature_selection as fe\n",
        "\n",
        "def variance_threshold_selector(data, threshold=0.5):\n",
        "    selector = fe.VarianceThreshold(threshold)\n",
        "    selector.fit(data)\n",
        "    return data[data.columns[selector.get_support(indices=True)]]"
      ],
      "execution_count": 0,
      "outputs": []
    },
    {
      "metadata": {
        "id": "v7w0o5duQ2jB",
        "colab_type": "code",
        "colab": {
          "base_uri": "https://localhost:8080/",
          "height": 34
        },
        "outputId": "ddb7726c-3fc2-4dae-ffff-a7e4df328acd"
      },
      "cell_type": "code",
      "source": [
        "X_dummies = pd.get_dummies(df_str.funder)\n",
        "\n",
        "dummy_filter=variance_threshold_selector(X_dummies,0.01)\n",
        "dummy_filter.shape"
      ],
      "execution_count": 251,
      "outputs": [
        {
          "output_type": "execute_result",
          "data": {
            "text/plain": [
              "(44550, 18)"
            ]
          },
          "metadata": {
            "tags": []
          },
          "execution_count": 251
        }
      ]
    },
    {
      "metadata": {
        "id": "zpEekXf8u-gq",
        "colab_type": "code",
        "colab": {}
      },
      "cell_type": "code",
      "source": [
        "# same as variance threshold function\n",
        "def noise_filter(df, col, threshold=0.01):\n",
        "  X_dummies=pd.DataFrame()\n",
        "  X_dummies[col]=df[col].value_counts(normalize=True)\n",
        "\n",
        "  for noise_cat in X_dummies.loc[(X_dummies[col] < threshold)].index.values:\n",
        "    df[col].replace(noise_cat, 'noise', inplace=True)\n",
        "\n",
        "  #df_str['funder'].replace('0', 'noise', inplace=True)\n",
        "  #df_str['funder'].replace(np.nan,'noise' ,inplace=True)\n",
        "\n",
        "  return pd.get_dummies(df[col])"
      ],
      "execution_count": 0,
      "outputs": []
    },
    {
      "metadata": {
        "id": "t6X8B4bCQzm5",
        "colab_type": "code",
        "colab": {
          "base_uri": "https://localhost:8080/",
          "height": 34
        },
        "outputId": "dfd5e1ee-e7e8-48f3-9b0e-9a8745c066b4"
      },
      "cell_type": "code",
      "source": [
        "dummy_filter = noise_filter(df_str, 'funder' ,0.01)\n",
        "dummy_filter=dummy_filter.drop(['0','noise'], axis=1)\n",
        "dummy_filter.shape"
      ],
      "execution_count": 253,
      "outputs": [
        {
          "output_type": "execute_result",
          "data": {
            "text/plain": [
              "(44550, 18)"
            ]
          },
          "metadata": {
            "tags": []
          },
          "execution_count": 253
        }
      ]
    },
    {
      "metadata": {
        "id": "gTPHcqtV6HP9",
        "colab_type": "code",
        "colab": {
          "base_uri": "https://localhost:8080/",
          "height": 34
        },
        "outputId": "44e6cd38-be6b-41f8-ff7f-ba95afa39a50"
      },
      "cell_type": "code",
      "source": [
        "# Numeric data only\n",
        "#df_sample = df_train.sample(2000)\n",
        "#y_sample = df_label[df_label.id.isin(df_sample.id)]\n",
        "\n",
        "X_num = X_train_val._get_numeric_data()\n",
        "\n",
        "X_num.shape, y_train_val.shape"
      ],
      "execution_count": 254,
      "outputs": [
        {
          "output_type": "execute_result",
          "data": {
            "text/plain": [
              "((44550, 9), (44550, 2))"
            ]
          },
          "metadata": {
            "tags": []
          },
          "execution_count": 254
        }
      ]
    },
    {
      "metadata": {
        "id": "H_NGgd6HplTV",
        "colab_type": "code",
        "colab": {
          "base_uri": "https://localhost:8080/",
          "height": 138
        },
        "outputId": "f0dd2ac8-790a-4b06-8b14-9be6a42bc0a3"
      },
      "cell_type": "code",
      "source": [
        "X_num.head(2)"
      ],
      "execution_count": 255,
      "outputs": [
        {
          "output_type": "execute_result",
          "data": {
            "text/html": [
              "<div>\n",
              "<style scoped>\n",
              "    .dataframe tbody tr th:only-of-type {\n",
              "        vertical-align: middle;\n",
              "    }\n",
              "\n",
              "    .dataframe tbody tr th {\n",
              "        vertical-align: top;\n",
              "    }\n",
              "\n",
              "    .dataframe thead th {\n",
              "        text-align: right;\n",
              "    }\n",
              "</style>\n",
              "<table border=\"1\" class=\"dataframe\">\n",
              "  <thead>\n",
              "    <tr style=\"text-align: right;\">\n",
              "      <th></th>\n",
              "      <th>amount_tsh</th>\n",
              "      <th>gps_height</th>\n",
              "      <th>longitude</th>\n",
              "      <th>latitude</th>\n",
              "      <th>num_private</th>\n",
              "      <th>region_code</th>\n",
              "      <th>district_code</th>\n",
              "      <th>population</th>\n",
              "      <th>construction_year</th>\n",
              "    </tr>\n",
              "    <tr>\n",
              "      <th>id</th>\n",
              "      <th></th>\n",
              "      <th></th>\n",
              "      <th></th>\n",
              "      <th></th>\n",
              "      <th></th>\n",
              "      <th></th>\n",
              "      <th></th>\n",
              "      <th></th>\n",
              "      <th></th>\n",
              "    </tr>\n",
              "  </thead>\n",
              "  <tbody>\n",
              "    <tr>\n",
              "      <th>33935</th>\n",
              "      <td>20.0</td>\n",
              "      <td>330</td>\n",
              "      <td>38.123839</td>\n",
              "      <td>-6.087137e+00</td>\n",
              "      <td>0</td>\n",
              "      <td>6</td>\n",
              "      <td>1</td>\n",
              "      <td>80</td>\n",
              "      <td>1972</td>\n",
              "    </tr>\n",
              "    <tr>\n",
              "      <th>49654</th>\n",
              "      <td>0.0</td>\n",
              "      <td>0</td>\n",
              "      <td>0.000000</td>\n",
              "      <td>-2.000000e-08</td>\n",
              "      <td>0</td>\n",
              "      <td>17</td>\n",
              "      <td>1</td>\n",
              "      <td>0</td>\n",
              "      <td>0</td>\n",
              "    </tr>\n",
              "  </tbody>\n",
              "</table>\n",
              "</div>"
            ],
            "text/plain": [
              "       amount_tsh  gps_height  longitude      latitude  num_private  \\\n",
              "id                                                                    \n",
              "33935        20.0         330  38.123839 -6.087137e+00            0   \n",
              "49654         0.0           0   0.000000 -2.000000e-08            0   \n",
              "\n",
              "       region_code  district_code  population  construction_year  \n",
              "id                                                                \n",
              "33935            6              1          80               1972  \n",
              "49654           17              1           0                  0  "
            ]
          },
          "metadata": {
            "tags": []
          },
          "execution_count": 255
        }
      ]
    },
    {
      "metadata": {
        "id": "Jyy2j1rSpqlP",
        "colab_type": "code",
        "colab": {
          "base_uri": "https://localhost:8080/",
          "height": 172
        },
        "outputId": "37868cb3-e56a-42c1-93ef-78b2556c420c"
      },
      "cell_type": "code",
      "source": [
        "dummy_filter.head(2)"
      ],
      "execution_count": 256,
      "outputs": [
        {
          "output_type": "execute_result",
          "data": {
            "text/html": [
              "<div>\n",
              "<style scoped>\n",
              "    .dataframe tbody tr th:only-of-type {\n",
              "        vertical-align: middle;\n",
              "    }\n",
              "\n",
              "    .dataframe tbody tr th {\n",
              "        vertical-align: top;\n",
              "    }\n",
              "\n",
              "    .dataframe thead th {\n",
              "        text-align: right;\n",
              "    }\n",
              "</style>\n",
              "<table border=\"1\" class=\"dataframe\">\n",
              "  <thead>\n",
              "    <tr style=\"text-align: right;\">\n",
              "      <th></th>\n",
              "      <th>Danida</th>\n",
              "      <th>Dhv</th>\n",
              "      <th>District Council</th>\n",
              "      <th>Dwsp</th>\n",
              "      <th>Germany Republi</th>\n",
              "      <th>Government Of Tanzania</th>\n",
              "      <th>Hesawa</th>\n",
              "      <th>Kkkt</th>\n",
              "      <th>Ministry Of Water</th>\n",
              "      <th>Norad</th>\n",
              "      <th>Private Individual</th>\n",
              "      <th>Rwssp</th>\n",
              "      <th>Tasaf</th>\n",
              "      <th>Tcrs</th>\n",
              "      <th>Unicef</th>\n",
              "      <th>Water</th>\n",
              "      <th>World Bank</th>\n",
              "      <th>World Vision</th>\n",
              "    </tr>\n",
              "    <tr>\n",
              "      <th>id</th>\n",
              "      <th></th>\n",
              "      <th></th>\n",
              "      <th></th>\n",
              "      <th></th>\n",
              "      <th></th>\n",
              "      <th></th>\n",
              "      <th></th>\n",
              "      <th></th>\n",
              "      <th></th>\n",
              "      <th></th>\n",
              "      <th></th>\n",
              "      <th></th>\n",
              "      <th></th>\n",
              "      <th></th>\n",
              "      <th></th>\n",
              "      <th></th>\n",
              "      <th></th>\n",
              "      <th></th>\n",
              "    </tr>\n",
              "  </thead>\n",
              "  <tbody>\n",
              "    <tr>\n",
              "      <th>33935</th>\n",
              "      <td>0</td>\n",
              "      <td>0</td>\n",
              "      <td>0</td>\n",
              "      <td>0</td>\n",
              "      <td>0</td>\n",
              "      <td>1</td>\n",
              "      <td>0</td>\n",
              "      <td>0</td>\n",
              "      <td>0</td>\n",
              "      <td>0</td>\n",
              "      <td>0</td>\n",
              "      <td>0</td>\n",
              "      <td>0</td>\n",
              "      <td>0</td>\n",
              "      <td>0</td>\n",
              "      <td>0</td>\n",
              "      <td>0</td>\n",
              "      <td>0</td>\n",
              "    </tr>\n",
              "    <tr>\n",
              "      <th>49654</th>\n",
              "      <td>0</td>\n",
              "      <td>0</td>\n",
              "      <td>0</td>\n",
              "      <td>1</td>\n",
              "      <td>0</td>\n",
              "      <td>0</td>\n",
              "      <td>0</td>\n",
              "      <td>0</td>\n",
              "      <td>0</td>\n",
              "      <td>0</td>\n",
              "      <td>0</td>\n",
              "      <td>0</td>\n",
              "      <td>0</td>\n",
              "      <td>0</td>\n",
              "      <td>0</td>\n",
              "      <td>0</td>\n",
              "      <td>0</td>\n",
              "      <td>0</td>\n",
              "    </tr>\n",
              "  </tbody>\n",
              "</table>\n",
              "</div>"
            ],
            "text/plain": [
              "       Danida  Dhv  District Council  Dwsp  Germany Republi  \\\n",
              "id                                                            \n",
              "33935       0    0                 0     0                0   \n",
              "49654       0    0                 0     1                0   \n",
              "\n",
              "       Government Of Tanzania  Hesawa  Kkkt  Ministry Of Water  Norad  \\\n",
              "id                                                                      \n",
              "33935                       1       0     0                  0      0   \n",
              "49654                       0       0     0                  0      0   \n",
              "\n",
              "       Private Individual  Rwssp  Tasaf  Tcrs  Unicef  Water  World Bank  \\\n",
              "id                                                                         \n",
              "33935                   0      0      0     0       0      0           0   \n",
              "49654                   0      0      0     0       0      0           0   \n",
              "\n",
              "       World Vision  \n",
              "id                   \n",
              "33935             0  \n",
              "49654             0  "
            ]
          },
          "metadata": {
            "tags": []
          },
          "execution_count": 256
        }
      ]
    },
    {
      "metadata": {
        "id": "sE9JG9JBuhfE",
        "colab_type": "code",
        "colab": {}
      },
      "cell_type": "code",
      "source": [
        "X_num=X_num.join(dummy_filter, how='outer')"
      ],
      "execution_count": 0,
      "outputs": []
    },
    {
      "metadata": {
        "id": "ECgiF1fFvOHl",
        "colab_type": "code",
        "colab": {
          "base_uri": "https://localhost:8080/",
          "height": 192
        },
        "outputId": "981e01ab-a00a-4a52-9399-146c70ec4678"
      },
      "cell_type": "code",
      "source": [
        "X_num.head(2)"
      ],
      "execution_count": 261,
      "outputs": [
        {
          "output_type": "execute_result",
          "data": {
            "text/html": [
              "<div>\n",
              "<style scoped>\n",
              "    .dataframe tbody tr th:only-of-type {\n",
              "        vertical-align: middle;\n",
              "    }\n",
              "\n",
              "    .dataframe tbody tr th {\n",
              "        vertical-align: top;\n",
              "    }\n",
              "\n",
              "    .dataframe thead th {\n",
              "        text-align: right;\n",
              "    }\n",
              "</style>\n",
              "<table border=\"1\" class=\"dataframe\">\n",
              "  <thead>\n",
              "    <tr style=\"text-align: right;\">\n",
              "      <th></th>\n",
              "      <th>amount_tsh</th>\n",
              "      <th>gps_height</th>\n",
              "      <th>longitude</th>\n",
              "      <th>latitude</th>\n",
              "      <th>num_private</th>\n",
              "      <th>region_code</th>\n",
              "      <th>district_code</th>\n",
              "      <th>population</th>\n",
              "      <th>construction_year</th>\n",
              "      <th>Danida</th>\n",
              "      <th>Dhv</th>\n",
              "      <th>District Council</th>\n",
              "      <th>Dwsp</th>\n",
              "      <th>Germany Republi</th>\n",
              "      <th>Government Of Tanzania</th>\n",
              "      <th>Hesawa</th>\n",
              "      <th>Kkkt</th>\n",
              "      <th>Ministry Of Water</th>\n",
              "      <th>Norad</th>\n",
              "      <th>Private Individual</th>\n",
              "      <th>Rwssp</th>\n",
              "      <th>Tasaf</th>\n",
              "      <th>Tcrs</th>\n",
              "      <th>Unicef</th>\n",
              "      <th>Water</th>\n",
              "      <th>World Bank</th>\n",
              "      <th>World Vision</th>\n",
              "    </tr>\n",
              "    <tr>\n",
              "      <th>id</th>\n",
              "      <th></th>\n",
              "      <th></th>\n",
              "      <th></th>\n",
              "      <th></th>\n",
              "      <th></th>\n",
              "      <th></th>\n",
              "      <th></th>\n",
              "      <th></th>\n",
              "      <th></th>\n",
              "      <th></th>\n",
              "      <th></th>\n",
              "      <th></th>\n",
              "      <th></th>\n",
              "      <th></th>\n",
              "      <th></th>\n",
              "      <th></th>\n",
              "      <th></th>\n",
              "      <th></th>\n",
              "      <th></th>\n",
              "      <th></th>\n",
              "      <th></th>\n",
              "      <th></th>\n",
              "      <th></th>\n",
              "      <th></th>\n",
              "      <th></th>\n",
              "      <th></th>\n",
              "      <th></th>\n",
              "    </tr>\n",
              "  </thead>\n",
              "  <tbody>\n",
              "    <tr>\n",
              "      <th>33935</th>\n",
              "      <td>20.0</td>\n",
              "      <td>330</td>\n",
              "      <td>38.123839</td>\n",
              "      <td>-6.087137e+00</td>\n",
              "      <td>0</td>\n",
              "      <td>6</td>\n",
              "      <td>1</td>\n",
              "      <td>80</td>\n",
              "      <td>1972</td>\n",
              "      <td>0</td>\n",
              "      <td>0</td>\n",
              "      <td>0</td>\n",
              "      <td>0</td>\n",
              "      <td>0</td>\n",
              "      <td>1</td>\n",
              "      <td>0</td>\n",
              "      <td>0</td>\n",
              "      <td>0</td>\n",
              "      <td>0</td>\n",
              "      <td>0</td>\n",
              "      <td>0</td>\n",
              "      <td>0</td>\n",
              "      <td>0</td>\n",
              "      <td>0</td>\n",
              "      <td>0</td>\n",
              "      <td>0</td>\n",
              "      <td>0</td>\n",
              "    </tr>\n",
              "    <tr>\n",
              "      <th>49654</th>\n",
              "      <td>0.0</td>\n",
              "      <td>0</td>\n",
              "      <td>0.000000</td>\n",
              "      <td>-2.000000e-08</td>\n",
              "      <td>0</td>\n",
              "      <td>17</td>\n",
              "      <td>1</td>\n",
              "      <td>0</td>\n",
              "      <td>0</td>\n",
              "      <td>0</td>\n",
              "      <td>0</td>\n",
              "      <td>0</td>\n",
              "      <td>1</td>\n",
              "      <td>0</td>\n",
              "      <td>0</td>\n",
              "      <td>0</td>\n",
              "      <td>0</td>\n",
              "      <td>0</td>\n",
              "      <td>0</td>\n",
              "      <td>0</td>\n",
              "      <td>0</td>\n",
              "      <td>0</td>\n",
              "      <td>0</td>\n",
              "      <td>0</td>\n",
              "      <td>0</td>\n",
              "      <td>0</td>\n",
              "      <td>0</td>\n",
              "    </tr>\n",
              "  </tbody>\n",
              "</table>\n",
              "</div>"
            ],
            "text/plain": [
              "       amount_tsh  gps_height  longitude      latitude  num_private  \\\n",
              "id                                                                    \n",
              "33935        20.0         330  38.123839 -6.087137e+00            0   \n",
              "49654         0.0           0   0.000000 -2.000000e-08            0   \n",
              "\n",
              "       region_code  district_code  population  construction_year  Danida  Dhv  \\\n",
              "id                                                                              \n",
              "33935            6              1          80               1972       0    0   \n",
              "49654           17              1           0                  0       0    0   \n",
              "\n",
              "       District Council  Dwsp  Germany Republi  Government Of Tanzania  \\\n",
              "id                                                                       \n",
              "33935                 0     0                0                       1   \n",
              "49654                 0     1                0                       0   \n",
              "\n",
              "       Hesawa  Kkkt  Ministry Of Water  Norad  Private Individual  Rwssp  \\\n",
              "id                                                                         \n",
              "33935       0     0                  0      0                   0      0   \n",
              "49654       0     0                  0      0                   0      0   \n",
              "\n",
              "       Tasaf  Tcrs  Unicef  Water  World Bank  World Vision  \n",
              "id                                                           \n",
              "33935      0     0       0      0           0             0  \n",
              "49654      0     0       0      0           0             0  "
            ]
          },
          "metadata": {
            "tags": []
          },
          "execution_count": 261
        }
      ]
    },
    {
      "metadata": {
        "id": "5Tp5qhO6vkNo",
        "colab_type": "code",
        "colab": {
          "base_uri": "https://localhost:8080/",
          "height": 34
        },
        "outputId": "be6a9bc3-eb35-4d53-ea2a-8ec78ebdcf4b"
      },
      "cell_type": "code",
      "source": [
        "X_num.shape, y_train_val.shape"
      ],
      "execution_count": 266,
      "outputs": [
        {
          "output_type": "execute_result",
          "data": {
            "text/plain": [
              "((44550, 27), (44550, 2))"
            ]
          },
          "metadata": {
            "tags": []
          },
          "execution_count": 266
        }
      ]
    },
    {
      "metadata": {
        "id": "uAwImYeiI3zf",
        "colab_type": "code",
        "colab": {
          "base_uri": "https://localhost:8080/",
          "height": 138
        },
        "outputId": "3247f90b-9878-4ef3-d6d6-738dec624195"
      },
      "cell_type": "code",
      "source": [
        "# Baseline metric - numeric only - test_score=0.55\n",
        "X= X_num\n",
        "y= y_train_val.status_group\n",
        "\n",
        "scores = cross_validate(LogisticRegression(solver='lbfgs',class_weight=None), X, y, \n",
        "                        scoring='accuracy', cv=3,\n",
        "                        return_train_score=True, return_estimator=True)\n",
        "\n",
        "pd.DataFrame(scores)"
      ],
      "execution_count": 267,
      "outputs": [
        {
          "output_type": "execute_result",
          "data": {
            "text/html": [
              "<div>\n",
              "<style scoped>\n",
              "    .dataframe tbody tr th:only-of-type {\n",
              "        vertical-align: middle;\n",
              "    }\n",
              "\n",
              "    .dataframe tbody tr th {\n",
              "        vertical-align: top;\n",
              "    }\n",
              "\n",
              "    .dataframe thead th {\n",
              "        text-align: right;\n",
              "    }\n",
              "</style>\n",
              "<table border=\"1\" class=\"dataframe\">\n",
              "  <thead>\n",
              "    <tr style=\"text-align: right;\">\n",
              "      <th></th>\n",
              "      <th>estimator</th>\n",
              "      <th>fit_time</th>\n",
              "      <th>score_time</th>\n",
              "      <th>test_score</th>\n",
              "      <th>train_score</th>\n",
              "    </tr>\n",
              "  </thead>\n",
              "  <tbody>\n",
              "    <tr>\n",
              "      <th>0</th>\n",
              "      <td>LogisticRegression(C=1.0, class_weight=None, d...</td>\n",
              "      <td>1.749648</td>\n",
              "      <td>0.026553</td>\n",
              "      <td>0.553027</td>\n",
              "      <td>0.549715</td>\n",
              "    </tr>\n",
              "    <tr>\n",
              "      <th>1</th>\n",
              "      <td>LogisticRegression(C=1.0, class_weight=None, d...</td>\n",
              "      <td>1.847138</td>\n",
              "      <td>0.025475</td>\n",
              "      <td>0.550640</td>\n",
              "      <td>0.552862</td>\n",
              "    </tr>\n",
              "    <tr>\n",
              "      <th>2</th>\n",
              "      <td>LogisticRegression(C=1.0, class_weight=None, d...</td>\n",
              "      <td>1.825625</td>\n",
              "      <td>0.025530</td>\n",
              "      <td>0.550744</td>\n",
              "      <td>0.552002</td>\n",
              "    </tr>\n",
              "  </tbody>\n",
              "</table>\n",
              "</div>"
            ],
            "text/plain": [
              "                                           estimator  fit_time  score_time  \\\n",
              "0  LogisticRegression(C=1.0, class_weight=None, d...  1.749648    0.026553   \n",
              "1  LogisticRegression(C=1.0, class_weight=None, d...  1.847138    0.025475   \n",
              "2  LogisticRegression(C=1.0, class_weight=None, d...  1.825625    0.025530   \n",
              "\n",
              "   test_score  train_score  \n",
              "0    0.553027     0.549715  \n",
              "1    0.550640     0.552862  \n",
              "2    0.550744     0.552002  "
            ]
          },
          "metadata": {
            "tags": []
          },
          "execution_count": 267
        }
      ]
    },
    {
      "metadata": {
        "id": "FaGMUyNhNPas",
        "colab_type": "code",
        "colab": {}
      },
      "cell_type": "code",
      "source": [
        "from sklearn.metrics import roc_auc_score\n",
        "roc_auc_score(y_val, y_pred)"
      ],
      "execution_count": 0,
      "outputs": []
    },
    {
      "metadata": {
        "id": "yjO3UQljt6eO",
        "colab_type": "code",
        "colab": {
          "base_uri": "https://localhost:8080/",
          "height": 71
        },
        "outputId": "95787f41-2da6-4be1-c4ec-5502596e2c60"
      },
      "cell_type": "code",
      "source": [
        "\n",
        "import sklearn.feature_selection as fe\n",
        "\n",
        "names = X_train_val.columns\n",
        "\n",
        "logr_u = LogisticRegression(solver='lbfgs')\n",
        "# rank all features, i.e continue the elimination until the last one\n",
        "rfecv = fe.RFECV(logr_u)\n",
        "rfecv.fit(X_train_val, y_train_val)\n",
        "\n",
        "# Make negative so it works better for comparison to other scores after scaling\n",
        "#rfe_u_score = pd.Series(data=(-1*rfe_u.ranking_), name='RFE_unbal', index=names)\n",
        "\n",
        "rfecv.ranking_\n",
        "print \"Features sorted by their rank:\"\n",
        "print sorted(zip(map(lambda x: round(x, 4), rfecv.ranking_), names))\n"
      ],
      "execution_count": 20,
      "outputs": [
        {
          "output_type": "stream",
          "text": [
            "Features sorted by their rank:\n",
            "[(1.0, 'latitude'), (2.0, 'longitude'), (3.0, 'district_code'), (4.0, 'region_code'), (5.0, 'num_private'), (6.0, 'population'), (7.0, 'construction_year'), (8.0, 'gps_height'), (9.0, 'amount_tsh')]\n"
          ],
          "name": "stdout"
        }
      ]
    },
    {
      "metadata": {
        "id": "McjZSKrzFD7K",
        "colab_type": "code",
        "colab": {
          "base_uri": "https://localhost:8080/",
          "height": 646
        },
        "outputId": "7e117858-5042-4574-8a16-b17c1194fcd3"
      },
      "cell_type": "code",
      "source": [
        "# Define an estimator and param_grid\n",
        "X = X_num\n",
        "y = y_train_val.status_group\n",
        "\n",
        "pipe = make_pipeline(\n",
        "    MinMaxScaler(), \n",
        "    fe.SelectKBest(f_classif), \n",
        "    LogisticRegression(solver='lbfgs'))\n",
        "\n",
        "param_grid = {\n",
        "    'selectkbest__k': ['all'],\n",
        "    'logisticregression__class_weight': [None, 'balanced'],\n",
        "    'logisticregression__C': [.01, .1, 1.0, 10.0]\n",
        "}\n",
        "\n",
        "# Fit on the train set, with grid search cross-validation\n",
        "gs = GridSearchCV(pipe, param_grid=param_grid, cv=3, \n",
        "                  scoring='accuracy', return_train_score=True,\n",
        "                  verbose=1)\n",
        "\n",
        "gs.fit(X, y)\n",
        "validation_score = gs.best_score_\n",
        "print()\n",
        "print('Cross-Validation Score:', validation_score)\n",
        "print()\n",
        "print('Best estimator:', gs.best_estimator_)\n",
        "print()\n",
        "\n",
        "results = pd.DataFrame(gs.cv_results_)\n",
        "print('Best result from grid search of {} parameter combinations'.format(len(results)))\n",
        "results.sort_values(by='rank_test_score').head()"
      ],
      "execution_count": 268,
      "outputs": [
        {
          "output_type": "stream",
          "text": [
            "Fitting 3 folds for each of 8 candidates, totalling 24 fits\n"
          ],
          "name": "stdout"
        },
        {
          "output_type": "stream",
          "text": [
            "[Parallel(n_jobs=1)]: Using backend SequentialBackend with 1 concurrent workers.\n",
            "/usr/local/lib/python2.7/dist-packages/sklearn/preprocessing/data.py:323: DataConversionWarning: Data with input dtype uint8, int64, float64 were all converted to float64 by MinMaxScaler.\n",
            "  return self.partial_fit(X, y)\n",
            "[Parallel(n_jobs=1)]: Done  24 out of  24 | elapsed:   32.4s finished\n"
          ],
          "name": "stderr"
        },
        {
          "output_type": "stream",
          "text": [
            "()\n",
            "('Cross-Validation Score:', 0.5804938271604938)\n",
            "()\n",
            "('Best estimator:', Pipeline(memory=None,\n",
            "     steps=[('minmaxscaler', MinMaxScaler(copy=True, feature_range=(0, 1))), ('selectkbest', SelectKBest(k='all', score_func=<function f_classif at 0x7f86618caed8>)), ('logisticregression', LogisticRegression(C=10.0, class_weight=None, dual=False, fit_intercept=True,\n",
            "          intercept_scaling=1, max_iter=100, multi_class='warn',\n",
            "          n_jobs=None, penalty='l2', random_state=None, solver='lbfgs',\n",
            "          tol=0.0001, verbose=0, warm_start=False))]))\n",
            "()\n",
            "Best result from grid search of 8 parameter combinations\n"
          ],
          "name": "stdout"
        },
        {
          "output_type": "execute_result",
          "data": {
            "text/html": [
              "<div>\n",
              "<style scoped>\n",
              "    .dataframe tbody tr th:only-of-type {\n",
              "        vertical-align: middle;\n",
              "    }\n",
              "\n",
              "    .dataframe tbody tr th {\n",
              "        vertical-align: top;\n",
              "    }\n",
              "\n",
              "    .dataframe thead th {\n",
              "        text-align: right;\n",
              "    }\n",
              "</style>\n",
              "<table border=\"1\" class=\"dataframe\">\n",
              "  <thead>\n",
              "    <tr style=\"text-align: right;\">\n",
              "      <th></th>\n",
              "      <th>mean_fit_time</th>\n",
              "      <th>mean_score_time</th>\n",
              "      <th>mean_test_score</th>\n",
              "      <th>mean_train_score</th>\n",
              "      <th>param_logisticregression__C</th>\n",
              "      <th>param_logisticregression__class_weight</th>\n",
              "      <th>param_selectkbest__k</th>\n",
              "      <th>params</th>\n",
              "      <th>rank_test_score</th>\n",
              "      <th>split0_test_score</th>\n",
              "      <th>split0_train_score</th>\n",
              "      <th>split1_test_score</th>\n",
              "      <th>split1_train_score</th>\n",
              "      <th>split2_test_score</th>\n",
              "      <th>split2_train_score</th>\n",
              "      <th>std_fit_time</th>\n",
              "      <th>std_score_time</th>\n",
              "      <th>std_test_score</th>\n",
              "      <th>std_train_score</th>\n",
              "    </tr>\n",
              "  </thead>\n",
              "  <tbody>\n",
              "    <tr>\n",
              "      <th>6</th>\n",
              "      <td>1.779259</td>\n",
              "      <td>0.039610</td>\n",
              "      <td>0.580494</td>\n",
              "      <td>0.581246</td>\n",
              "      <td>10</td>\n",
              "      <td>None</td>\n",
              "      <td>all</td>\n",
              "      <td>{u'selectkbest__k': u'all', u'logisticregressi...</td>\n",
              "      <td>1</td>\n",
              "      <td>0.582587</td>\n",
              "      <td>0.579380</td>\n",
              "      <td>0.577172</td>\n",
              "      <td>0.583502</td>\n",
              "      <td>0.581723</td>\n",
              "      <td>0.580856</td>\n",
              "      <td>0.059919</td>\n",
              "      <td>0.000185</td>\n",
              "      <td>0.002375</td>\n",
              "      <td>0.001705</td>\n",
              "    </tr>\n",
              "    <tr>\n",
              "      <th>4</th>\n",
              "      <td>1.528937</td>\n",
              "      <td>0.030091</td>\n",
              "      <td>0.579506</td>\n",
              "      <td>0.580314</td>\n",
              "      <td>1</td>\n",
              "      <td>None</td>\n",
              "      <td>all</td>\n",
              "      <td>{u'selectkbest__k': u'all', u'logisticregressi...</td>\n",
              "      <td>2</td>\n",
              "      <td>0.580971</td>\n",
              "      <td>0.577562</td>\n",
              "      <td>0.576700</td>\n",
              "      <td>0.583468</td>\n",
              "      <td>0.580847</td>\n",
              "      <td>0.579913</td>\n",
              "      <td>0.056427</td>\n",
              "      <td>0.000558</td>\n",
              "      <td>0.001985</td>\n",
              "      <td>0.002428</td>\n",
              "    </tr>\n",
              "    <tr>\n",
              "      <th>2</th>\n",
              "      <td>0.847557</td>\n",
              "      <td>0.029742</td>\n",
              "      <td>0.578923</td>\n",
              "      <td>0.579428</td>\n",
              "      <td>0.1</td>\n",
              "      <td>None</td>\n",
              "      <td>all</td>\n",
              "      <td>{u'selectkbest__k': u'all', u'logisticregressi...</td>\n",
              "      <td>3</td>\n",
              "      <td>0.580500</td>\n",
              "      <td>0.576417</td>\n",
              "      <td>0.575892</td>\n",
              "      <td>0.583300</td>\n",
              "      <td>0.580376</td>\n",
              "      <td>0.578566</td>\n",
              "      <td>0.026084</td>\n",
              "      <td>0.001415</td>\n",
              "      <td>0.002143</td>\n",
              "      <td>0.002875</td>\n",
              "    </tr>\n",
              "    <tr>\n",
              "      <th>0</th>\n",
              "      <td>0.499284</td>\n",
              "      <td>0.025646</td>\n",
              "      <td>0.573558</td>\n",
              "      <td>0.574242</td>\n",
              "      <td>0.01</td>\n",
              "      <td>None</td>\n",
              "      <td>all</td>\n",
              "      <td>{u'selectkbest__k': u'all', u'logisticregressi...</td>\n",
              "      <td>4</td>\n",
              "      <td>0.573968</td>\n",
              "      <td>0.572006</td>\n",
              "      <td>0.571044</td>\n",
              "      <td>0.575118</td>\n",
              "      <td>0.575662</td>\n",
              "      <td>0.575604</td>\n",
              "      <td>0.018950</td>\n",
              "      <td>0.004733</td>\n",
              "      <td>0.001907</td>\n",
              "      <td>0.001594</td>\n",
              "    </tr>\n",
              "    <tr>\n",
              "      <th>7</th>\n",
              "      <td>1.964829</td>\n",
              "      <td>0.041479</td>\n",
              "      <td>0.536364</td>\n",
              "      <td>0.536532</td>\n",
              "      <td>10</td>\n",
              "      <td>balanced</td>\n",
              "      <td>all</td>\n",
              "      <td>{u'selectkbest__k': u'all', u'logisticregressi...</td>\n",
              "      <td>5</td>\n",
              "      <td>0.540435</td>\n",
              "      <td>0.536651</td>\n",
              "      <td>0.530909</td>\n",
              "      <td>0.535556</td>\n",
              "      <td>0.537747</td>\n",
              "      <td>0.537389</td>\n",
              "      <td>0.090316</td>\n",
              "      <td>0.000666</td>\n",
              "      <td>0.004010</td>\n",
              "      <td>0.000753</td>\n",
              "    </tr>\n",
              "  </tbody>\n",
              "</table>\n",
              "</div>"
            ],
            "text/plain": [
              "   mean_fit_time  mean_score_time  mean_test_score  mean_train_score  \\\n",
              "6       1.779259         0.039610         0.580494          0.581246   \n",
              "4       1.528937         0.030091         0.579506          0.580314   \n",
              "2       0.847557         0.029742         0.578923          0.579428   \n",
              "0       0.499284         0.025646         0.573558          0.574242   \n",
              "7       1.964829         0.041479         0.536364          0.536532   \n",
              "\n",
              "  param_logisticregression__C param_logisticregression__class_weight  \\\n",
              "6                          10                                   None   \n",
              "4                           1                                   None   \n",
              "2                         0.1                                   None   \n",
              "0                        0.01                                   None   \n",
              "7                          10                               balanced   \n",
              "\n",
              "  param_selectkbest__k                                             params  \\\n",
              "6                  all  {u'selectkbest__k': u'all', u'logisticregressi...   \n",
              "4                  all  {u'selectkbest__k': u'all', u'logisticregressi...   \n",
              "2                  all  {u'selectkbest__k': u'all', u'logisticregressi...   \n",
              "0                  all  {u'selectkbest__k': u'all', u'logisticregressi...   \n",
              "7                  all  {u'selectkbest__k': u'all', u'logisticregressi...   \n",
              "\n",
              "   rank_test_score  split0_test_score  split0_train_score  split1_test_score  \\\n",
              "6                1           0.582587            0.579380           0.577172   \n",
              "4                2           0.580971            0.577562           0.576700   \n",
              "2                3           0.580500            0.576417           0.575892   \n",
              "0                4           0.573968            0.572006           0.571044   \n",
              "7                5           0.540435            0.536651           0.530909   \n",
              "\n",
              "   split1_train_score  split2_test_score  split2_train_score  std_fit_time  \\\n",
              "6            0.583502           0.581723            0.580856      0.059919   \n",
              "4            0.583468           0.580847            0.579913      0.056427   \n",
              "2            0.583300           0.580376            0.578566      0.026084   \n",
              "0            0.575118           0.575662            0.575604      0.018950   \n",
              "7            0.535556           0.537747            0.537389      0.090316   \n",
              "\n",
              "   std_score_time  std_test_score  std_train_score  \n",
              "6        0.000185        0.002375         0.001705  \n",
              "4        0.000558        0.001985         0.002428  \n",
              "2        0.001415        0.002143         0.002875  \n",
              "0        0.004733        0.001907         0.001594  \n",
              "7        0.000666        0.004010         0.000753  "
            ]
          },
          "metadata": {
            "tags": []
          },
          "execution_count": 268
        }
      ]
    },
    {
      "metadata": {
        "id": "3e_7HPplh4nu",
        "colab_type": "code",
        "colab": {
          "base_uri": "https://localhost:8080/",
          "height": 548
        },
        "outputId": "0725ee9b-6076-4c5b-eb5d-de3b6c20105c"
      },
      "cell_type": "code",
      "source": [
        "#Which features were selected?\n",
        "X=X_num\n",
        "selector = gs.best_estimator_.named_steps['selectkbest']\n",
        "all_names = X.columns.values\n",
        "selected_mask = selector.get_support()\n",
        "selected_names = all_names[selected_mask]\n",
        "unselected_names = all_names[~selected_mask]\n",
        "\n",
        "print('Features selected:')\n",
        "for name in selected_names:\n",
        "    print(name)\n",
        "\n",
        "print('\\n')\n",
        "print('Features not selected:')\n",
        "for name in unselected_names:\n",
        "    print(name)\n"
      ],
      "execution_count": 269,
      "outputs": [
        {
          "output_type": "stream",
          "text": [
            "Features selected:\n",
            "amount_tsh\n",
            "gps_height\n",
            "longitude\n",
            "latitude\n",
            "num_private\n",
            "region_code\n",
            "district_code\n",
            "population\n",
            "construction_year\n",
            "Danida\n",
            "Dhv\n",
            "District Council\n",
            "Dwsp\n",
            "Germany Republi\n",
            "Government Of Tanzania\n",
            "Hesawa\n",
            "Kkkt\n",
            "Ministry Of Water\n",
            "Norad\n",
            "Private Individual\n",
            "Rwssp\n",
            "Tasaf\n",
            "Tcrs\n",
            "Unicef\n",
            "Water\n",
            "World Bank\n",
            "World Vision\n",
            "\n",
            "\n",
            "Features not selected:\n"
          ],
          "name": "stdout"
        }
      ]
    },
    {
      "metadata": {
        "id": "7OjX_aN8zQRm",
        "colab_type": "code",
        "colab": {
          "base_uri": "https://localhost:8080/",
          "height": 165
        },
        "outputId": "945e71ac-bd69-4ba6-b3db-302708587cd2"
      },
      "cell_type": "code",
      "source": [
        "y.head()"
      ],
      "execution_count": 277,
      "outputs": [
        {
          "output_type": "error",
          "ename": "AttributeError",
          "evalue": "ignored",
          "traceback": [
            "\u001b[0;31m\u001b[0m",
            "\u001b[0;31mAttributeError\u001b[0mTraceback (most recent call last)",
            "\u001b[0;32m<ipython-input-277-17b2b1f6e15b>\u001b[0m in \u001b[0;36m<module>\u001b[0;34m()\u001b[0m\n\u001b[0;32m----> 1\u001b[0;31m \u001b[0my\u001b[0m\u001b[0;34m.\u001b[0m\u001b[0mhead\u001b[0m\u001b[0;34m(\u001b[0m\u001b[0;34m)\u001b[0m\u001b[0;34m\u001b[0m\u001b[0m\n\u001b[0m",
            "\u001b[0;31mAttributeError\u001b[0m: 'numpy.ndarray' object has no attribute 'head'"
          ]
        }
      ]
    },
    {
      "metadata": {
        "id": "EALcKnIhznFA",
        "colab_type": "code",
        "colab": {
          "base_uri": "https://localhost:8080/",
          "height": 34
        },
        "outputId": "dea6cfa9-8338-49d7-a3e4-5e337dbaff6e"
      },
      "cell_type": "code",
      "source": [
        "y"
      ],
      "execution_count": 280,
      "outputs": [
        {
          "output_type": "execute_result",
          "data": {
            "text/plain": [
              "array([1, 2, 2, ..., 1, 2, 1])"
            ]
          },
          "metadata": {
            "tags": []
          },
          "execution_count": 280
        }
      ]
    },
    {
      "metadata": {
        "id": "smqoeXlIjOMf",
        "colab_type": "code",
        "colab": {
          "base_uri": "https://localhost:8080/",
          "height": 531
        },
        "outputId": "1fd0c526-66a6-467f-f470-9ad20b885152"
      },
      "cell_type": "code",
      "source": [
        "from sklearn.feature_selection import RFECV\n",
        "from sklearn.linear_model import Lasso\n",
        "\n",
        "X=X_num\n",
        "y=y_train_val.status_group\n",
        "\n",
        "#y = y.replace(['non functional','functional','functional needs repair'],[1,2,3])\n",
        "#y = y.values\n",
        "\n",
        "X_scaled = RobustScaler().fit_transform(X)\n",
        "\n",
        "# Lasso can't handle multi-class label.\n",
        "#rfe = RFECV(Lasso(), scoring='accuracy', cv=3)\n",
        "rfe = RFECV(LogisticRegression(), scoring='accuracy', cv=3)\n",
        "X_subset = rfe.fit_transform(X_scaled, y)\n",
        "\n",
        "all_names = X.columns\n",
        "selected_mask = rfe.support_\n",
        "selected_names = all_names[selected_mask]\n",
        "unselected_names = all_names[~selected_mask]\n",
        "\n",
        "print('Features selected:')\n",
        "for name in selected_names:\n",
        "    print(name)\n",
        "\n",
        "print()\n",
        "print('Features not selected:')\n",
        "for name in unselected_names:\n",
        "    print(name)\n"
      ],
      "execution_count": 281,
      "outputs": [
        {
          "output_type": "stream",
          "text": [
            "Features selected:\n",
            "amount_tsh\n",
            "gps_height\n",
            "longitude\n",
            "latitude\n",
            "num_private\n",
            "region_code\n",
            "district_code\n",
            "population\n",
            "construction_year\n",
            "Danida\n",
            "Dhv\n",
            "District Council\n",
            "Dwsp\n",
            "Germany Republi\n",
            "Government Of Tanzania\n",
            "Hesawa\n",
            "Kkkt\n",
            "Ministry Of Water\n",
            "Norad\n",
            "Private Individual\n",
            "Rwssp\n",
            "Tasaf\n",
            "Tcrs\n",
            "Unicef\n",
            "Water\n",
            "World Bank\n",
            "World Vision\n",
            "()\n",
            "Features not selected:\n"
          ],
          "name": "stdout"
        }
      ]
    },
    {
      "metadata": {
        "id": "7KH52HdegJHe",
        "colab_type": "code",
        "colab": {
          "base_uri": "https://localhost:8080/",
          "height": 34
        },
        "outputId": "de6d5723-aaac-4fd0-ded3-421e86c8f0d2"
      },
      "cell_type": "code",
      "source": [
        "print('Best result from grid search of{}'.format(len(results)))\n"
      ],
      "execution_count": 180,
      "outputs": [
        {
          "output_type": "stream",
          "text": [
            "Best result from grid search of8\n"
          ],
          "name": "stdout"
        }
      ]
    },
    {
      "metadata": {
        "id": "LiPJr0xgPEIs",
        "colab_type": "code",
        "colab": {
          "base_uri": "https://localhost:8080/",
          "height": 34
        },
        "outputId": "1520fd96-f55b-4778-eeaa-7cffc432f0c2"
      },
      "cell_type": "code",
      "source": [
        "# Predict with X_test features\n",
        "y_pred = gs.predict(X_test)\n",
        "\n",
        "# Compare predictions to y_test labels\n",
        "test_score = accuracy_score(y_test, y_pred)\n",
        "print('Test Score:', test_score)"
      ],
      "execution_count": 88,
      "outputs": [
        {
          "output_type": "stream",
          "text": [
            "('Test Score:', 0.5603367003367004)\n"
          ],
          "name": "stdout"
        }
      ]
    }
  ]
}