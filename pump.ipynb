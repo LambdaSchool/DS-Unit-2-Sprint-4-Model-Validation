{
  "nbformat": 4,
  "nbformat_minor": 0,
  "metadata": {
    "colab": {
      "name": "pump.ipynb",
      "version": "0.3.2",
      "provenance": [],
      "include_colab_link": true
    },
    "kernelspec": {
      "name": "python2",
      "display_name": "Python 2"
    }
  },
  "cells": [
    {
      "cell_type": "markdown",
      "metadata": {
        "id": "view-in-github",
        "colab_type": "text"
      },
      "source": [
        "<a href=\"https://colab.research.google.com/github/cocoisland/DS-Unit-2-Sprint-4-Model-Validation/blob/master/pump.ipynb\" target=\"_parent\"><img src=\"https://colab.research.google.com/assets/colab-badge.svg\" alt=\"Open In Colab\"/></a>"
      ]
    },
    {
      "metadata": {
        "id": "OQOX3fQYroDa",
        "colab_type": "code",
        "outputId": "08bb205f-972a-4b68-d8ae-aca389c72c75",
        "colab": {
          "base_uri": "https://localhost:8080/",
          "height": 206
        }
      },
      "cell_type": "code",
      "source": [
        "!pip install kaggle"
      ],
      "execution_count": 4,
      "outputs": [
        {
          "output_type": "stream",
          "text": [
            "Requirement already satisfied: kaggle in /usr/local/lib/python2.7/dist-packages (1.5.2)\n",
            "Requirement already satisfied: urllib3<1.23.0,>=1.15 in /usr/local/lib/python2.7/dist-packages (from kaggle) (1.22)\n",
            "Requirement already satisfied: six>=1.10 in /usr/local/lib/python2.7/dist-packages (from kaggle) (1.11.0)\n",
            "Requirement already satisfied: certifi in /usr/local/lib/python2.7/dist-packages (from kaggle) (2018.11.29)\n",
            "Requirement already satisfied: python-dateutil in /usr/local/lib/python2.7/dist-packages (from kaggle) (2.5.3)\n",
            "Requirement already satisfied: requests in /usr/local/lib/python2.7/dist-packages (from kaggle) (2.18.4)\n",
            "Requirement already satisfied: tqdm in /usr/local/lib/python2.7/dist-packages (from kaggle) (4.28.1)\n",
            "Requirement already satisfied: python-slugify in /usr/local/lib/python2.7/dist-packages (from kaggle) (2.0.1)\n",
            "Requirement already satisfied: idna<2.7,>=2.5 in /usr/local/lib/python2.7/dist-packages (from requests->kaggle) (2.6)\n",
            "Requirement already satisfied: chardet<3.1.0,>=3.0.2 in /usr/local/lib/python2.7/dist-packages (from requests->kaggle) (3.0.4)\n",
            "Requirement already satisfied: Unidecode>=0.04.16 in /usr/local/lib/python2.7/dist-packages (from python-slugify->kaggle) (1.0.23)\n"
          ],
          "name": "stdout"
        }
      ]
    },
    {
      "metadata": {
        "id": "WaTecLTNryrG",
        "colab_type": "code",
        "outputId": "812a1a92-88a0-4b0e-c586-c3af41950cae",
        "colab": {
          "base_uri": "https://localhost:8080/",
          "height": 140
        }
      },
      "cell_type": "code",
      "source": [
        "from google.colab import drive\n",
        "drive.mount('/content/drive')\n",
        "%env KAGGLE_CONFIG_DIR=/content/drive/My Drive/"
      ],
      "execution_count": 5,
      "outputs": [
        {
          "output_type": "stream",
          "text": [
            "Go to this URL in a browser: https://accounts.google.com/o/oauth2/auth?client_id=947318989803-6bn6qk8qdgf4n4g3pfee6491hc0brc4i.apps.googleusercontent.com&redirect_uri=urn%3Aietf%3Awg%3Aoauth%3A2.0%3Aoob&scope=email%20https%3A%2F%2Fwww.googleapis.com%2Fauth%2Fdocs.test%20https%3A%2F%2Fwww.googleapis.com%2Fauth%2Fdrive%20https%3A%2F%2Fwww.googleapis.com%2Fauth%2Fdrive.photos.readonly%20https%3A%2F%2Fwww.googleapis.com%2Fauth%2Fpeopleapi.readonly&response_type=code\n",
            "\n",
            "Enter your authorization code:\n",
            "··········\n",
            "Mounted at /content/drive\n",
            "env: KAGGLE_CONFIG_DIR=/content/drive/My Drive/\n"
          ],
          "name": "stdout"
        }
      ]
    },
    {
      "metadata": {
        "id": "k2iuXjFyvmzG",
        "colab_type": "code",
        "outputId": "2c29f1cd-97f6-4d2c-b7e0-a59c3bb0eba3",
        "colab": {
          "base_uri": "https://localhost:8080/",
          "height": 223
        }
      },
      "cell_type": "code",
      "source": [
        "!kaggle  competitions download -c ds1-predictive-modeling-challenge"
      ],
      "execution_count": 6,
      "outputs": [
        {
          "output_type": "stream",
          "text": [
            "Downloading sample_submission.csv to /content\n",
            "\r  0% 0.00/236k [00:00<?, ?B/s]\n",
            "100% 236k/236k [00:00<00:00, 35.3MB/s]\n",
            "Downloading test_features.csv.zip to /content\n",
            "  0% 0.00/948k [00:00<?, ?B/s]\n",
            "100% 948k/948k [00:00<00:00, 60.3MB/s]\n",
            "Downloading train_labels.csv.zip to /content\n",
            "  0% 0.00/211k [00:00<?, ?B/s]\n",
            "100% 211k/211k [00:00<00:00, 67.7MB/s]\n",
            "Downloading train_features.csv.zip to /content\n",
            "  0% 0.00/3.81M [00:00<?, ?B/s]\n",
            "100% 3.81M/3.81M [00:00<00:00, 125MB/s]\n"
          ],
          "name": "stdout"
        }
      ]
    },
    {
      "metadata": {
        "id": "faVKlWCO5PI5",
        "colab_type": "code",
        "outputId": "a1477c59-73f9-4351-d135-0263493936cd",
        "colab": {
          "base_uri": "https://localhost:8080/",
          "height": 120
        }
      },
      "cell_type": "code",
      "source": [
        "!unzip train_features.csv.zip\n",
        "!unzip train_labels.csv.zip\n",
        "!unzip test_features.csv.zip\n",
        "\n"
      ],
      "execution_count": 7,
      "outputs": [
        {
          "output_type": "stream",
          "text": [
            "Archive:  train_features.csv.zip\n",
            "  inflating: train_features.csv      \n",
            "Archive:  train_labels.csv.zip\n",
            "  inflating: train_labels.csv        \n",
            "Archive:  test_features.csv.zip\n",
            "  inflating: test_features.csv       \n"
          ],
          "name": "stdout"
        }
      ]
    },
    {
      "metadata": {
        "id": "LFN4liBbEgBm",
        "colab_type": "code",
        "colab": {}
      },
      "cell_type": "code",
      "source": [
        "import pandas as pd\n",
        "import numpy as np\n",
        "import matplotlib.pyplot as plt\n",
        "from sklearn.model_selection import train_test_split\n",
        "import sklearn.feature_selection as fe\n",
        "from sklearn.feature_selection import SelectPercentile, SelectKBest, f_classif\n",
        "from sklearn.feature_selection import RFECV\n",
        "\n",
        "from sklearn.model_selection import GridSearchCV\n",
        "from sklearn.pipeline import make_pipeline\n",
        "\n",
        "from sklearn.preprocessing import MinMaxScaler\n",
        "from sklearn.preprocessing import RobustScaler\n",
        "\n",
        "from sklearn.metrics import accuracy_score, classification_report\n",
        "from sklearn.linear_model import LogisticRegression\n",
        "from sklearn.linear_model import Ridge\n",
        "from sklearn.model_selection import cross_validate\n",
        "\n",
        "from mlxtend.plotting import plot_decision_regions\n",
        "#import category_encoders as ce\n"
      ],
      "execution_count": 0,
      "outputs": []
    },
    {
      "metadata": {
        "id": "aU8Uonvd4yye",
        "colab_type": "code",
        "outputId": "bf379612-2002-4928-fe4f-61e3817a28fd",
        "colab": {
          "base_uri": "https://localhost:8080/",
          "height": 34
        }
      },
      "cell_type": "code",
      "source": [
        "# DO NOT USE\n",
        "# date as index\n",
        "'''df_train = pd.read_csv('train_features.csv',index_col='date_recorded', \n",
        "              parse_dates=True, infer_datetime_format=True)\n",
        "df_test = pd.read_csv('test_features.csv', index_col='date_recorded',\n",
        "                     parse_dates=True, infer_datetime_format=True)\n",
        "df_label = pd.read_csv('train_labels.csv')\n",
        "\n",
        "df_train.shape, df_test.shape, df_label.shape'''\n"
      ],
      "execution_count": 8,
      "outputs": [
        {
          "output_type": "execute_result",
          "data": {
            "text/plain": [
              "((59400, 39), (14358, 39), (59400, 2))"
            ]
          },
          "metadata": {
            "tags": []
          },
          "execution_count": 8
        }
      ]
    },
    {
      "metadata": {
        "id": "DQnRcgCYrrDr",
        "colab_type": "code",
        "outputId": "d45113db-c23a-4bcc-de62-2d93e6433c47",
        "colab": {
          "base_uri": "https://localhost:8080/",
          "height": 34
        }
      },
      "cell_type": "code",
      "source": [
        "# id as index\n",
        "df_train = pd.read_csv('train_features.csv',index_col='id')\n",
        "df_test = pd.read_csv('test_features.csv', index_col='id')\n",
        "df_label = pd.read_csv('train_labels.csv')\n",
        "df_sample = pd.read_csv('sample_submission.csv')\n",
        "\n",
        "df_train.shape, df_test.shape, df_label.shape, df_sample.shape\n"
      ],
      "execution_count": 8,
      "outputs": [
        {
          "output_type": "execute_result",
          "data": {
            "text/plain": [
              "((59400, 39), (14358, 39), (59400, 2), (14358, 2))"
            ]
          },
          "metadata": {
            "tags": []
          },
          "execution_count": 8
        }
      ]
    },
    {
      "metadata": {
        "id": "eS23mcs_f2Ea",
        "colab_type": "code",
        "outputId": "cef2e4ba-1f20-4c12-99af-b30823ada745",
        "colab": {
          "base_uri": "https://localhost:8080/",
          "height": 34
        }
      },
      "cell_type": "code",
      "source": [
        "X_train_val, X_test, y_train_val, y_test = train_test_split(\n",
        "        df_train, df_label, test_size=0.25, random_state=42, shuffle=True)\n",
        "\n",
        "X_train_val.shape, X_test.shape, y_train_val.shape, y_test.shape"
      ],
      "execution_count": 9,
      "outputs": [
        {
          "output_type": "execute_result",
          "data": {
            "text/plain": [
              "((44550, 39), (14850, 39), (44550, 2), (14850, 2))"
            ]
          },
          "metadata": {
            "tags": []
          },
          "execution_count": 9
        }
      ]
    },
    {
      "metadata": {
        "id": "VWBP6SeuRuyR",
        "colab_type": "code",
        "colab": {}
      },
      "cell_type": "code",
      "source": [
        "'''pd.set_option('display.max_columns', None)\n",
        "\n",
        "#df_str=X_train_val.select_dtypes(exclude=['int','float']).copy()\n",
        "df_str=X_train_val.select_dtypes(object).copy()\n",
        "df_str.head(3)'''\n"
      ],
      "execution_count": 0,
      "outputs": []
    },
    {
      "metadata": {
        "id": "vTnn2Mv7LGBj",
        "colab_type": "code",
        "colab": {}
      },
      "cell_type": "code",
      "source": [
        "# As observations increase, more features will fail to pass the threshold\n",
        "# At 50,000+ observation, passing threshold drops to 0.1\n",
        "\n",
        "#remove all features that are either one or zero (on or off) in more than 80% of the samples.\n",
        "#threshold = 0.8 * (1- .8)\n",
        "\n",
        "import sklearn.feature_selection as fe\n",
        "\n",
        "def variance_threshold_selector(data, threshold=0.01):\n",
        "    selector = fe.VarianceThreshold(threshold)\n",
        "    selector.fit(data)\n",
        "    return data[data.columns[selector.get_support(indices=True)]]"
      ],
      "execution_count": 0,
      "outputs": []
    },
    {
      "metadata": {
        "id": "ZPP-XroM6BH9",
        "colab_type": "code",
        "colab": {}
      },
      "cell_type": "code",
      "source": [
        "def wrangle(X):\n",
        "  \n",
        "  X_num = pd.DataFrame()\n",
        "  # get all continuous value column\n",
        "  X_num = X._get_numeric_data().copy()\n",
        "  #X_num['construction_year'] = X.construction_year.copy()\n",
        "  X_str = X.select_dtypes(object).copy()\n",
        "  \n",
        "  for col_nan in X_str.columns[X_str.isnull().any()].tolist():\n",
        "    X_str[col_nan].fillna('other', inplace=True)\n",
        "    X_str[col_nan] = X_str[col_nan].replace('other', 'otr_'+col_nan)\n",
        "  \n",
        "  # funder -- comment out 0.717-0.715\n",
        "  X_str.funder = X_str.funder.replace('0', 'missing')\n",
        "  X_dummies = pd.get_dummies(X_str.funder)\n",
        "  dummy_filter=variance_threshold_selector(X_dummies)\n",
        "  X_num = X_num.join(dummy_filter, how='inner')\n",
        "  \n",
        "  \n",
        "  # basin threshold0.02(0.720 - 0.718) \n",
        "  X_dummies = pd.get_dummies(X_str.basin)\n",
        "  dummy_filter=variance_threshold_selector(X_dummies)\n",
        "  X_num = X_num.join(dummy_filter, how='inner')\n",
        "  \n",
        "  # region threshold0.02(0.719 - 0.708), 0.01(0.716-0.714) \n",
        "  X_dummies = pd.get_dummies(X_str.region)\n",
        "  dummy_filter=variance_threshold_selector(X_dummies)\n",
        "  X_num = X_num.join(dummy_filter, how='inner')\n",
        "  \n",
        "  # lga -- 0.717 - 0.710\n",
        "  X_dummies = pd.get_dummies(X_str.lga)\n",
        "  dummy_filter=variance_threshold_selector(X_dummies)\n",
        "  X_num = X_num.join(dummy_filter, how='inner')\n",
        "  \n",
        "  # scheme_management 0.714 - 0.711\n",
        "  '''X.scheme_management=X.scheme_management.replace('Other','other_scheme')\n",
        "  X.scheme_management=X.scheme_management.replace('None','other_scheme')\n",
        "  X_dummies = pd.get_dummies(X.scheme_management)\n",
        "  dummy_filter=variance_threshold_selector(X_dummies)\n",
        "  X_num = X_num.join(dummy_filter, how='inner')'''\n",
        "  \n",
        "  \n",
        "  # extraction_type_class 0.714 - 0.713\n",
        "  X_str.extraction_type_class.replace('other','otr_extr',inplace=True)\n",
        "  X_dummies = pd.get_dummies(X_str.extraction_type_class)\n",
        "  dummy_filter=variance_threshold_selector(X_dummies)\n",
        "  X_num = X_num.join(dummy_filter, how='inner')\n",
        "  \n",
        "  \n",
        "  # management 0.713 - 0.708\n",
        "  X_str.management=X_str.management.replace('unknown','unkwn_mgmt')\n",
        "  X_str.management=X_str.management.replace('other','otr_mgmt')\n",
        "  X_dummies = pd.get_dummies(X_str.management)\n",
        "  dummy_filter=variance_threshold_selector(X_dummies)\n",
        "  X_num = X_num.join(dummy_filter, how='inner')\n",
        "  \n",
        "  \n",
        "  # payment\n",
        "  X_str.payment=X_str.payment.replace('unknown','unkwn_pmt')\n",
        "  X_dummies = pd.get_dummies(X_str.payment)\n",
        "  dummy_filter=variance_threshold_selector(X_dummies)\n",
        "  X_num = X_num.join(dummy_filter, how='inner')\n",
        "  \n",
        "  # quality_group\n",
        "  X_str.quality_group=X_str.quality_group.replace('unknown','unkwn_qual_grp')\n",
        "  X_dummies = pd.get_dummies(X_str.quality_group)\n",
        "  dummy_filter=variance_threshold_selector(X_dummies)\n",
        "  X_num = X_num.join(dummy_filter, how='inner')\n",
        "  \n",
        "  # quantity\n",
        "  X_str.quantity=X_str.quantity.replace('unknown','unknown_quantity')\n",
        "  X_dummies = pd.get_dummies(X_str.quantity)\n",
        "  dummy_filter=variance_threshold_selector(X_dummies)\n",
        "  X_num = X_num.join(dummy_filter, how='inner')\n",
        "  \n",
        "  # source\n",
        "  X_dummies = pd.get_dummies(X_str.source_type)\n",
        "  dummy_filter=variance_threshold_selector(X_dummies)\n",
        "  X_num = X_num.join(dummy_filter, how='inner')\n",
        "  \n",
        "  \n",
        "  # waterpoint_type\n",
        "  X_str.waterpoint_type=X_str.waterpoint_type.replace('other','otr_wtr')\n",
        "  X_dummies = pd.get_dummies(X_str.waterpoint_type)\n",
        "  dummy_filter=variance_threshold_selector(X_dummies)\n",
        "  X_num = X_num.join(dummy_filter, how='inner')\n",
        "  \n",
        "  \n",
        "  #y = y.replace(['non functional','functional','functional needs repair'],[1,2,3])\n",
        "  #y = y.values\n",
        "  \n",
        "  \n",
        "  return X_num\n",
        "  "
      ],
      "execution_count": 0,
      "outputs": []
    },
    {
      "metadata": {
        "id": "uAwImYeiI3zf",
        "colab_type": "code",
        "outputId": "5cda8732-5ffd-473f-86f7-fa98badfbb3a",
        "colab": {
          "base_uri": "https://localhost:8080/",
          "height": 138
        }
      },
      "cell_type": "code",
      "source": [
        "%%time\n",
        "\n",
        "# Baseline metric - numeric only - test_score=0.55\n",
        "X = wrangle(X_train_val)\n",
        "y = y_train_val.status_group.values\n",
        "\n",
        "\n",
        "scores = cross_validate(LogisticRegression(solver='lbfgs',class_weight=None, max_iter=1500), \n",
        "                        X, y, \n",
        "                        scoring='accuracy', cv=3,\n",
        "                        return_train_score=True, return_estimator=True)\n",
        "\n",
        "pd.DataFrame(scores)"
      ],
      "execution_count": 17,
      "outputs": [
        {
          "output_type": "execute_result",
          "data": {
            "text/html": [
              "<div>\n",
              "<style scoped>\n",
              "    .dataframe tbody tr th:only-of-type {\n",
              "        vertical-align: middle;\n",
              "    }\n",
              "\n",
              "    .dataframe tbody tr th {\n",
              "        vertical-align: top;\n",
              "    }\n",
              "\n",
              "    .dataframe thead th {\n",
              "        text-align: right;\n",
              "    }\n",
              "</style>\n",
              "<table border=\"1\" class=\"dataframe\">\n",
              "  <thead>\n",
              "    <tr style=\"text-align: right;\">\n",
              "      <th></th>\n",
              "      <th>estimator</th>\n",
              "      <th>fit_time</th>\n",
              "      <th>score_time</th>\n",
              "      <th>test_score</th>\n",
              "      <th>train_score</th>\n",
              "    </tr>\n",
              "  </thead>\n",
              "  <tbody>\n",
              "    <tr>\n",
              "      <th>0</th>\n",
              "      <td>LogisticRegression(C=1.0, class_weight=None, d...</td>\n",
              "      <td>59.587724</td>\n",
              "      <td>0.041078</td>\n",
              "      <td>0.728907</td>\n",
              "      <td>0.727600</td>\n",
              "    </tr>\n",
              "    <tr>\n",
              "      <th>1</th>\n",
              "      <td>LogisticRegression(C=1.0, class_weight=None, d...</td>\n",
              "      <td>60.835439</td>\n",
              "      <td>0.036753</td>\n",
              "      <td>0.723838</td>\n",
              "      <td>0.726397</td>\n",
              "    </tr>\n",
              "    <tr>\n",
              "      <th>2</th>\n",
              "      <td>LogisticRegression(C=1.0, class_weight=None, d...</td>\n",
              "      <td>60.597925</td>\n",
              "      <td>0.036413</td>\n",
              "      <td>0.727322</td>\n",
              "      <td>0.730346</td>\n",
              "    </tr>\n",
              "  </tbody>\n",
              "</table>\n",
              "</div>"
            ],
            "text/plain": [
              "                                           estimator   fit_time  score_time  \\\n",
              "0  LogisticRegression(C=1.0, class_weight=None, d...  59.587724    0.041078   \n",
              "1  LogisticRegression(C=1.0, class_weight=None, d...  60.835439    0.036753   \n",
              "2  LogisticRegression(C=1.0, class_weight=None, d...  60.597925    0.036413   \n",
              "\n",
              "   test_score  train_score  \n",
              "0    0.728907     0.727600  \n",
              "1    0.723838     0.726397  \n",
              "2    0.727322     0.730346  "
            ]
          },
          "metadata": {
            "tags": []
          },
          "execution_count": 17
        }
      ]
    },
    {
      "metadata": {
        "id": "zpEekXf8u-gq",
        "colab_type": "code",
        "colab": {}
      },
      "cell_type": "code",
      "source": [
        "# NOT USE - for understanding variance_threshold only\n",
        "# same as variance threshold function\n",
        "def noise_filter(df, col, threshold=0.01):\n",
        "  X_dummies=pd.DataFrame()\n",
        "  X_dummies[col]=df[col].value_counts(normalize=True)\n",
        "\n",
        "  for noise_cat in X_dummies.loc[(X_dummies[col] < threshold)].index.values:\n",
        "    df[col].replace(noise_cat, 'noise', inplace=True)\n",
        "\n",
        "  #df_str['funder'].replace('0', 'noise', inplace=True)\n",
        "  #df_str['funder'].replace(np.nan,'noise' ,inplace=True)\n",
        "\n",
        "  return pd.get_dummies(df[col])\n",
        "\n",
        "dummy_filter = noise_filter(df_str, 'funder' ,0.01)\n",
        "dummy_filter=dummy_filter.drop(['0','noise'], axis=1)\n",
        "dummy_filter.shape"
      ],
      "execution_count": 0,
      "outputs": []
    },
    {
      "metadata": {
        "id": "McjZSKrzFD7K",
        "colab_type": "code",
        "outputId": "a7712b34-3022-4612-ccc7-df267101f1e8",
        "colab": {
          "base_uri": "https://localhost:8080/",
          "height": 277
        }
      },
      "cell_type": "code",
      "source": [
        "%%time\n",
        "# Define an estimator and param_grid\n",
        "from sklearn.feature_selection import SelectPercentile, SelectKBest, f_classif,mutual_info_classif\n",
        "\n",
        "#X = wrangle(X_train_val)\n",
        "#y = y_train_val.status_group\n",
        "\n",
        "X = wrangle(X_test)\n",
        "y = y_test.status_group\n",
        "\n",
        "pipe = make_pipeline(\n",
        "    RobustScaler(), \n",
        "    #fe.SelectKBest(mutual_info_classif), #slow 0.58\n",
        "    fe.SelectKBest(f_classif),\n",
        "    LogisticRegression(max_iter=1000))\n",
        "\n",
        "param_grid = {\n",
        "    'selectkbest__k': [10,30,50, 'all'],\n",
        "    'logisticregression__class_weight': [None, 'balanced'],\n",
        "    'logisticregression__penalty': ['l1', 'l2'],\n",
        "    'logisticregression__C': [.01, .1, 1.0, 10.0]\n",
        "}\n",
        "\n",
        "# Fit on the train set, with grid search cross-validation\n",
        "gs = GridSearchCV(pipe, param_grid=param_grid, cv=3, \n",
        "                  scoring='accuracy', return_train_score=True,\n",
        "                  verbose=1)\n",
        "\n",
        "gs.fit(X, y)\n",
        "validation_score = gs.best_score_\n",
        "print('X shape=', X.shape)\n",
        "print('Cross-Validation Accuracy Score:', validation_score)\n",
        "print()\n",
        "print('Best estimator:', gs.best_estimator_)\n",
        "print()\n",
        "\n",
        "results = pd.DataFrame(gs.cv_results_)\n",
        "print('Best result from grid search of {} parameter combinations'.format(len(results)))\n",
        "results.sort_values(by='rank_test_score').head(3)"
      ],
      "execution_count": 21,
      "outputs": [
        {
          "output_type": "stream",
          "text": [
            "Fitting 3 folds for each of 64 candidates, totalling 192 fits\n"
          ],
          "name": "stdout"
        },
        {
          "output_type": "stream",
          "text": [
            "[Parallel(n_jobs=1)]: Using backend SequentialBackend with 1 concurrent workers.\n",
            "[Parallel(n_jobs=1)]: Done 192 out of 192 | elapsed:  3.5min finished\n"
          ],
          "name": "stderr"
        },
        {
          "output_type": "stream",
          "text": [
            "('X shape=', (14850, 132))\n",
            "('Cross-Validation Accuracy Score:', 0.7358922558922559)\n",
            "()\n",
            "('Best estimator:', Pipeline(memory=None,\n",
            "     steps=[('robustscaler', RobustScaler(copy=True, quantile_range=(25.0, 75.0), with_centering=True,\n",
            "       with_scaling=True)), ('selectkbest', SelectKBest(k='all', score_func=<function f_classif at 0x7f963bed07d0>)), ('logisticregression', LogisticRegression(C=1.0, class_weight=None, dual=False, fit_...penalty='l2', random_state=None, solver='warn',\n",
            "          tol=0.0001, verbose=0, warm_start=False))]))\n",
            "()\n",
            "Best result from grid search of 64 parameter combinations\n",
            "CPU times: user 3min 24s, sys: 33.8 s, total: 3min 58s\n",
            "Wall time: 3min 30s\n"
          ],
          "name": "stdout"
        }
      ]
    },
    {
      "metadata": {
        "id": "3e_7HPplh4nu",
        "colab_type": "code",
        "colab": {}
      },
      "cell_type": "code",
      "source": [
        "#Which features were selected?\n",
        "\n",
        "\n",
        "selector = gs.best_estimator_.named_steps['selectkbest']\n",
        "all_names = X.columns.values\n",
        "selected_mask = selector.get_support()\n",
        "selected_names = all_names[selected_mask]\n",
        "unselected_names = all_names[~selected_mask]\n",
        "\n",
        "print('Features selected:')\n",
        "for name in selected_names:\n",
        "    print(name)\n",
        "\n",
        "print('\\n')\n",
        "print('Features not selected:')\n",
        "for name in unselected_names:\n",
        "    print(name)\n"
      ],
      "execution_count": 0,
      "outputs": []
    },
    {
      "metadata": {
        "id": "dwNH3AnNWcVU",
        "colab_type": "code",
        "colab": {}
      },
      "cell_type": "code",
      "source": [
        "from sklearn.ensemble import RandomForestRegressor as RFR\n",
        "\n",
        "X=wrangle(X_train_val)\n",
        "names = X.columns\n",
        "\n",
        "y = y_train_val.status_group.values\n",
        "\n",
        "y = pd.DataFrame(y).replace(['non functional','functional','functional needs repair'],[1,2,3])\n",
        "y = y.values\n",
        "\n",
        "# Fitting a random forest regression\n",
        "rfr = RFR().fit(X, y)\n",
        "\n",
        "# Creating scores from feature_importances_ ranking (some randomness here)\n",
        "rfr_scores = pd.Series(data=rfr.feature_importances_, name='RFR', index=names)\n",
        "\n",
        "rfr_scores"
      ],
      "execution_count": 0,
      "outputs": []
    },
    {
      "metadata": {
        "id": "smqoeXlIjOMf",
        "colab_type": "code",
        "colab": {}
      },
      "cell_type": "code",
      "source": [
        "from sklearn.feature_selection import RFECV\n",
        "from sklearn.linear_model import Lasso\n",
        "\n",
        "X= wrangle(X_train_val)\n",
        "\n",
        "y= y_train_val.status_group\n",
        "\n",
        "#y = y.replace(['non functional','functional','functional needs repair'],[1,2,3])\n",
        "#y = y.values\n",
        "\n",
        "X_scaled = RobustScaler().fit_transform(X)\n",
        "\n",
        "# Lasso can't handle multi-class label.\n",
        "#rfe = RFECV(Lasso(), scoring='accuracy', cv=3)\n",
        "rfe = RFECV(LogisticRegression(), scoring='accuracy', cv=3)\n",
        "X_subset = rfe.fit_transform(X_scaled, y)\n",
        "\n",
        "all_names = X.columns\n",
        "selected_mask = rfe.support_\n",
        "selected_names = all_names[selected_mask]\n",
        "unselected_names = all_names[~selected_mask]\n",
        "\n",
        "print('Features selected:')\n",
        "for name in selected_names:\n",
        "    print(name)\n",
        "\n",
        "print()\n",
        "print('Features not selected:')\n",
        "for name in unselected_names:\n",
        "    print(name)\n"
      ],
      "execution_count": 0,
      "outputs": []
    },
    {
      "metadata": {
        "id": "LiPJr0xgPEIs",
        "colab_type": "code",
        "outputId": "04896f18-4bae-45df-9f6f-4b7fdac525d4",
        "colab": {
          "base_uri": "https://localhost:8080/",
          "height": 34
        }
      },
      "cell_type": "code",
      "source": [
        "# Predict with X_test features\n",
        "#X=wrangle(X_test)\n",
        "y_pred = gs.predict(X)\n",
        "\n",
        "# Compare predictions to y_test labels\n",
        "test_score = accuracy_score(y_test.status_group, y_pred)\n",
        "print('Test Score:', test_score)"
      ],
      "execution_count": 22,
      "outputs": [
        {
          "output_type": "stream",
          "text": [
            "('Test Score:', 0.7404713804713805)\n"
          ],
          "name": "stdout"
        }
      ]
    },
    {
      "metadata": {
        "id": "svhbfFR64o9c",
        "colab_type": "code",
        "colab": {
          "base_uri": "https://localhost:8080/",
          "height": 34
        },
        "outputId": "0832bf59-bfe4-4e22-d8be-6b8e42f29a69"
      },
      "cell_type": "code",
      "source": [
        "df_testX=wrangle(df_test)\n",
        "X.shape, df_testX.shape"
      ],
      "execution_count": 23,
      "outputs": [
        {
          "output_type": "execute_result",
          "data": {
            "text/plain": [
              "((14850, 132), (14358, 134))"
            ]
          },
          "metadata": {
            "tags": []
          },
          "execution_count": 23
        }
      ]
    },
    {
      "metadata": {
        "id": "Nw0jBbTpYIco",
        "colab_type": "code",
        "colab": {}
      },
      "cell_type": "code",
      "source": [
        "t = pd.DataFrame()\n",
        "for name in selected_names:\n",
        "  t[name]=df_testX[name]"
      ],
      "execution_count": 0,
      "outputs": []
    },
    {
      "metadata": {
        "id": "6daeIUOwmc9J",
        "colab_type": "code",
        "colab": {}
      },
      "cell_type": "code",
      "source": [
        "y_pred = gs.predict(t)"
      ],
      "execution_count": 0,
      "outputs": []
    },
    {
      "metadata": {
        "id": "Su5_zVMWZxKa",
        "colab_type": "code",
        "colab": {}
      },
      "cell_type": "code",
      "source": [
        "# Predict with X_test features\n",
        "X=wrangle(df_test)\n",
        "y_pred = gs.predict(X)\n"
      ],
      "execution_count": 0,
      "outputs": []
    },
    {
      "metadata": {
        "id": "CXDseFXhN9K4",
        "colab_type": "code",
        "outputId": "d06babe7-69b7-46fb-a287-aefda45bd417",
        "colab": {
          "base_uri": "https://localhost:8080/",
          "height": 34
        }
      },
      "cell_type": "code",
      "source": [
        "#submission as format as df_sample\n",
        "y_submission = pd.DataFrame()\n",
        "\n",
        "y_submission['id'] = df_test.index\n",
        "y_submission['status_group']=y_pred\n",
        "y_submission.shape"
      ],
      "execution_count": 38,
      "outputs": [
        {
          "output_type": "execute_result",
          "data": {
            "text/plain": [
              "(14358, 2)"
            ]
          },
          "metadata": {
            "tags": []
          },
          "execution_count": 38
        }
      ]
    },
    {
      "metadata": {
        "id": "D3EBjffCPPk1",
        "colab_type": "code",
        "colab": {}
      },
      "cell_type": "code",
      "source": [
        "from google.colab import files\n",
        "\n",
        "y_submission.to_csv('data_all.csv', index=False)\n",
        "files.download(\"data_all.csv\")"
      ],
      "execution_count": 0,
      "outputs": []
    }
  ]
}