{
 "cells": [
  {
   "cell_type": "markdown",
   "metadata": {
    "colab_type": "text",
    "id": "dOdCkKKdx_Fq"
   },
   "source": [
    "_Lambda School Data Science — Model Validation_ \n",
    "\n",
    "# Begin the modeling process\n",
    "\n",
    "Objectives\n",
    "- Train/Validate/Test split\n",
    "- Cross-Validation\n",
    "- Begin with baselines"
   ]
  },
  {
   "cell_type": "markdown",
   "metadata": {
    "colab_type": "text",
    "id": "UJBBzSCmKtoC"
   },
   "source": [
    "## Why care about model validation?"
   ]
  },
  {
   "cell_type": "markdown",
   "metadata": {
    "colab_type": "text",
    "id": "GenzpPA2Z_dt"
   },
   "source": [
    "Rachel Thomas, [How (and why) to create a good validation set](https://www.fast.ai/2017/11/13/validation-sets/)\n",
    "\n",
    "> An all-too-common scenario: a seemingly impressive machine learning model is a complete failure when implemented in production. The fallout includes leaders who are now skeptical of machine learning and reluctant to try it again. How can this happen?\n",
    "\n",
    "> One of the most likely culprits for this disconnect between results in development vs results in production is a poorly chosen validation set (or even worse, no validation set at all). "
   ]
  },
  {
   "cell_type": "markdown",
   "metadata": {
    "colab_type": "text",
    "id": "YRu59wbmLMBa"
   },
   "source": [
    "Owen Zhang, [Winning Data Science Competitions](https://www.slideshare.net/OwenZhang2/tips-for-data-science-competitions/8)\n",
    "\n",
    "> Good validation is _more important_ than good models. "
   ]
  },
  {
   "cell_type": "markdown",
   "metadata": {
    "colab_type": "text",
    "id": "3dHlyVq2KNZY"
   },
   "source": [
    "James, Witten, Hastie, Tibshirani, [An Introduction to Statistical Learning](http://www-bcf.usc.edu/~gareth/ISL/), Chapter 2.2, Assessing Model Accuracy\n",
    "\n",
    "> In general, we do not really care how well the method works training on the training data. Rather, _we are interested in the accuracy of the predictions that we obtain when we apply our method to previously unseen test data._ Why is this what we care about? \n",
    "\n",
    "> Suppose that we are interested test data in developing an algorithm to predict a stock’s price based on previous stock returns. We can train the method using stock returns from the past 6 months. But we don’t really care how well our method predicts last week’s stock price. We instead care about how well it will predict tomorrow’s price or next month’s price. \n",
    "\n",
    "> On a similar note, suppose that we have clinical measurements (e.g. weight, blood pressure, height, age, family history of disease) for a number of patients, as well as information about whether each patient has diabetes. We can use these patients to train a statistical learning method to predict risk of diabetes based on clinical measurements. In practice, we want this method to accurately predict diabetes risk for _future patients_ based on their clinical measurements. We are not very interested in whether or not the method accurately predicts diabetes risk for patients used to train the model, since we already know which of those patients have diabetes."
   ]
  },
  {
   "cell_type": "markdown",
   "metadata": {
    "colab_type": "text",
    "id": "JgayVUFCyC7f"
   },
   "source": [
    "### We'll look at 4 methods of model validation\n",
    "\n",
    "- Performance estimation\n",
    "  - 2-way holdout method (**train/test split**)\n",
    "  - (Repeated) k-fold **cross-validation without independent test set** \n",
    "- Model selection (hyperparameter optimization) and performance estimation ← ***We usually want to do this***\n",
    "  - 3-way holdout method (**train/validation/test split**)\n",
    "  - (Repeated) k-fold **cross-validation with independent test set**\n",
    "  \n",
    "<img src=\"https://sebastianraschka.com/images/blog/2018/model-evaluation-selection-part4/model-eval-conclusions.jpg\" width=\"600\">\n",
    "\n",
    "Source: https://sebastianraschka.com/blog/2018/model-evaluation-selection-part4.html"
   ]
  },
  {
   "cell_type": "markdown",
   "metadata": {
    "colab_type": "text",
    "id": "X0OFS5mjRTm9"
   },
   "source": [
    "## Why begin with baselines?"
   ]
  },
  {
   "cell_type": "markdown",
   "metadata": {
    "colab_type": "text",
    "id": "O8wqAD-E3Dhf"
   },
   "source": [
    "[My mentor](https://www.linkedin.com/in/jason-sanchez-62093847/) [taught me](https://youtu.be/0GrciaGYzV0?t=40s):\n",
    "\n",
    ">***Your first goal should always, always, always be getting a generalized prediction as fast as possible.*** You shouldn't spend a lot of time trying to tune your model, trying to add features, trying to engineer features, until you've actually gotten one prediction, at least. \n",
    "\n",
    "> The reason why that's a really good thing is because then ***you'll set a benchmark*** for yourself, and you'll be able to directly see how much effort you put in translates to a better prediction. \n",
    "\n",
    "> What you'll find by working on many models: some effort you put in, actually has very little effect on how well your final model does at predicting new observations. Whereas some very easy changes actually have a lot of effect. And so you get better at allocating your time more effectively.\n",
    "\n",
    "My mentor's advice is echoed and elaborated in several sources:\n",
    "\n",
    "[Always start with a stupid model, no exceptions](https://blog.insightdatascience.com/always-start-with-a-stupid-model-no-exceptions-3a22314b9aaa)\n",
    "\n",
    "> Why start with a baseline? A baseline will take you less than 1/10th of the time, and could provide up to 90% of the results. A baseline puts a more complex model into context. Baselines are easy to deploy.\n",
    "\n",
    "[Measure Once, Cut Twice: Moving Towards Iteration in Data Science](https://blog.datarobot.com/measure-once-cut-twice-moving-towards-iteration-in-data-science)\n",
    "\n",
    "> The iterative approach in data science starts with emphasizing the importance of getting to a first model quickly, rather than starting with the variables and features. Once the first model is built, the work then steadily focuses on continual improvement.\n",
    "\n",
    "[*Data Science for Business*](https://books.google.com/books?id=4ZctAAAAQBAJ&pg=PT276), Chapter 7.3: Evaluation, Baseline Performance, and Implications for Investments in Data\n",
    "\n",
    "> *Consider carefully what would be a reasonable baseline against which to compare model performance.* This is important for the data science team in order to understand whether they indeed are improving performance, and is equally important for demonstrating to stakeholders that mining the data has added value."
   ]
  },
  {
   "cell_type": "markdown",
   "metadata": {
    "colab_type": "text",
    "id": "89PieuUx0fbN"
   },
   "source": [
    "## Baseline is an overloaded term\n",
    "\n",
    "Baseline has multiple meanings, as discussed in the links above.\n",
    "\n",
    "#### The score you'd get by guessing a single value\n",
    "\n",
    "> A baseline for classification can be the most common class in the training dataset.\n",
    "\n",
    "> A baseline for regression can be the mean of the training labels. —[Will Koehrsen](https://twitter.com/koehrsen_will/status/1088863527778111488)\n",
    "\n",
    "#### The score you'd get by guessing in a more granular way\n",
    "\n",
    "> A baseline for time-series regressions can be the value from the previous timestep.\n",
    "\n",
    "#### Fast, first models that beat guessing\n",
    "\n",
    "What my mentor was talking about.\n",
    "\n",
    "#### Complete, tuned \"simpler\" model\n",
    "\n",
    "Can be simpler mathematically and computationally. For example, Logistic Regression versus Deep Learning.\n",
    "\n",
    "Or can be simpler for the data scientist, with less work. For example, a model with less feature engineering versus a model with more feature engineering.\n",
    "\n",
    "#### Minimum performance that \"matters\"\n",
    "\n",
    "To go to production and get business value.\n",
    "\n",
    "#### Human-level performance \n",
    "\n",
    "Your goal may to be match, or nearly match, human performance, but with better speed, cost, or consistency.\n",
    "\n",
    "Or your goal may to be exceed human performance.\n"
   ]
  },
  {
   "cell_type": "markdown",
   "metadata": {
    "colab_type": "text",
    "id": "EdHSPwdZx3nI"
   },
   "source": [
    "## Weather data —  mean baseline\n",
    "\n",
    "Let's try baselines for regression.\n",
    "\n",
    "You can [get Past Weather by Zip Code from Climate.gov](https://www.climate.gov/maps-data/dataset/past-weather-zip-code-data-table). I downloaded the data for my town: Normal, Illinois."
   ]
  },
  {
   "cell_type": "code",
   "execution_count": 1,
   "metadata": {
    "colab": {
     "base_uri": "https://localhost:8080/",
     "height": 290
    },
    "colab_type": "code",
    "executionInfo": {
     "elapsed": 1943,
     "status": "ok",
     "timestamp": 1548900080772,
     "user": {
      "displayName": "Rick Clayton",
      "photoUrl": "",
      "userId": "12716789211823472576"
     },
     "user_tz": 480
    },
    "id": "2O3o-fTgx-93",
    "outputId": "da577aae-3949-4553-8440-aabfc2344133"
   },
   "outputs": [
    {
     "data": {
      "image/png": "[encoded data removed]",
      "text/plain": [
       "<Figure size 432x288 with 1 Axes>"
      ]
     },
     "metadata": {
      "needs_background": "light"
     },
     "output_type": "display_data"
    }
   ],
   "source": [
    "%matplotlib inline\n",
    "import matplotlib.pyplot as plt\n",
    "import pandas as pd \n",
    "\n",
    "url = 'https://raw.githubusercontent.com/rrherr/baselines/master/weather/weather-normal-il.csv'\n",
    "weather = pd.read_csv(url, parse_dates=['DATE']).set_index('DATE')\n",
    "weather['2015':'2018'].TMAX.plot()\n",
    "plt.title('Daily high temperature in Normal, IL');"
   ]
  },
  {
   "cell_type": "markdown",
   "metadata": {
    "colab_type": "text",
    "id": "F8Z8FTwbzfol"
   },
   "source": [
    "Over the years, across the seasons, the average daily high temperature in my town is about 63 degrees."
   ]
  },
  {
   "cell_type": "code",
   "execution_count": 2,
   "metadata": {
    "colab": {
     "base_uri": "https://localhost:8080/",
     "height": 34
    },
    "colab_type": "code",
    "executionInfo": {
     "elapsed": 1923,
     "status": "ok",
     "timestamp": 1548900080773,
     "user": {
      "displayName": "Rick Clayton",
      "photoUrl": "",
      "userId": "12716789211823472576"
     },
     "user_tz": 480
    },
    "id": "PEKdZ7YZzbnO",
    "outputId": "1bc4f8ea-85ca-49b1-d2d7-ee322a66d367"
   },
   "outputs": [
    {
     "data": {
      "text/plain": [
       "62.562754852389496"
      ]
     },
     "execution_count": 2,
     "metadata": {},
     "output_type": "execute_result"
    }
   ],
   "source": [
    "weather.TMAX.mean()"
   ]
  },
  {
   "cell_type": "markdown",
   "metadata": {
    "colab_type": "text",
    "id": "p5bzsFbfznUt"
   },
   "source": [
    "If I predicted that every day, the high will be 63 degrees, I'd be off by about 19 degrees on average."
   ]
  },
  {
   "cell_type": "code",
   "execution_count": 3,
   "metadata": {
    "colab": {
     "base_uri": "https://localhost:8080/",
     "height": 34
    },
    "colab_type": "code",
    "executionInfo": {
     "elapsed": 1908,
     "status": "ok",
     "timestamp": 1548900080773,
     "user": {
      "displayName": "Rick Clayton",
      "photoUrl": "",
      "userId": "12716789211823472576"
     },
     "user_tz": 480
    },
    "id": "rpf8ubzaziiY",
    "outputId": "f6263955-a275-4a16-9e16-8e37ef57aea1"
   },
   "outputs": [
    {
     "data": {
      "text/plain": [
       "18.684890040509288"
      ]
     },
     "execution_count": 3,
     "metadata": {},
     "output_type": "execute_result"
    }
   ],
   "source": [
    "from sklearn.metrics import mean_absolute_error\n",
    "predicted = [weather.TMAX.mean()] * len(weather)  \n",
    "mean_absolute_error(weather.TMAX, predicted)"
   ]
  },
  {
   "cell_type": "markdown",
   "metadata": {
    "colab_type": "text",
    "id": "sJi-_JL1zywP"
   },
   "source": [
    "But, with time series data like this, we can get a better baseline.\n",
    "\n",
    "*Data Science for Business* explains, \n",
    "\n",
    "> Weather forecasters have two simple—but not simplistic—baseline models that they compare against. ***One (persistence) predicts that the weather tomorrow is going to be whatever it was today.*** The other (climatology) predicts whatever the average historical weather has been on this day from prior years. Each model performs considerably better than random guessing, and both are so easy to compute that they make natural baselines of comparison. Any new, more complex model must beat these."
   ]
  },
  {
   "cell_type": "markdown",
   "metadata": {
    "colab_type": "text",
    "id": "VETZ_gJhz5qR"
   },
   "source": [
    "Let's predict that the weather tomorrow is going to be whatever it was today. Which is another way of saying that the weather today is going to be whatever it was yesterday.\n",
    "\n",
    "We can engineer this feature with one line of code, using the pandas [`shift`](https://pandas.pydata.org/pandas-docs/stable/generated/pandas.DataFrame.shift.html) function.\n",
    "\n",
    "This new baseline is off by less than 6 degress on average."
   ]
  },
  {
   "cell_type": "code",
   "execution_count": 4,
   "metadata": {
    "colab": {
     "base_uri": "https://localhost:8080/",
     "height": 34
    },
    "colab_type": "code",
    "executionInfo": {
     "elapsed": 1893,
     "status": "ok",
     "timestamp": 1548900080774,
     "user": {
      "displayName": "Rick Clayton",
      "photoUrl": "",
      "userId": "12716789211823472576"
     },
     "user_tz": 480
    },
    "id": "1DKR_LoCzp6V",
    "outputId": "e9206fc7-4d6d-40e7-8e33-44e396d9bd0f"
   },
   "outputs": [
    {
     "data": {
      "text/plain": [
       "5.519593850670799"
      ]
     },
     "execution_count": 4,
     "metadata": {},
     "output_type": "execute_result"
    }
   ],
   "source": [
    "weather['TMAX_yesterday'] = weather.TMAX.shift(1)\n",
    "weather.dropna(inplace=True)  # Drops the first date, because it doesn't have a \"yesterday\"\n",
    "mean_absolute_error(weather.TMAX, weather.TMAX_yesterday)"
   ]
  },
  {
   "cell_type": "markdown",
   "metadata": {
    "colab_type": "text",
    "id": "FhRix-ZG36c-"
   },
   "source": [
    "## Adult Census Income — Train/Test Split — majority class baseline"
   ]
  },
  {
   "cell_type": "markdown",
   "metadata": {
    "colab_type": "text",
    "id": "fHtoULts4TBE"
   },
   "source": [
    "Load the data. It has already been split into train and test.\n",
    "\n",
    "https://archive.ics.uci.edu/ml/datasets/adult"
   ]
  },
  {
   "cell_type": "code",
   "execution_count": 5,
   "metadata": {
    "colab": {
     "base_uri": "https://localhost:8080/",
     "height": 34
    },
    "colab_type": "code",
    "executionInfo": {
     "elapsed": 3515,
     "status": "ok",
     "timestamp": 1548900082405,
     "user": {
      "displayName": "Rick Clayton",
      "photoUrl": "",
      "userId": "12716789211823472576"
     },
     "user_tz": 480
    },
    "id": "UZX4c6Gjx9pf",
    "outputId": "9719179a-7635-487b-f6b8-ae2b7f81a80a"
   },
   "outputs": [
    {
     "data": {
      "text/plain": [
       "((32561, 15), (16281, 15))"
      ]
     },
     "execution_count": 5,
     "metadata": {},
     "output_type": "execute_result"
    }
   ],
   "source": [
    "names = ['age', \n",
    "         'workclass', \n",
    "         'fnlwgt', \n",
    "         'education', \n",
    "         'education-num', \n",
    "         'marital-status', \n",
    "         'occupation', \n",
    "         'relationship', \n",
    "         'race', \n",
    "         'sex', \n",
    "         'capital-gain', \n",
    "         'capital-loss', \n",
    "         'hours-per-week', \n",
    "         'native-country', \n",
    "         'income']\n",
    "\n",
    "train = pd.read_csv('https://archive.ics.uci.edu/ml/machine-learning-databases/adult/adult.data', header=None, names=names)\n",
    "test  = pd.read_csv('https://archive.ics.uci.edu/ml/machine-learning-databases/adult/adult.test', header=None, names=names, skiprows=[0])\n",
    "\n",
    "train.shape, test.shape"
   ]
  },
  {
   "cell_type": "markdown",
   "metadata": {
    "colab_type": "text",
    "id": "hZqdQTlb4ybZ"
   },
   "source": [
    "Assign to X and y"
   ]
  },
  {
   "cell_type": "code",
   "execution_count": 6,
   "metadata": {
    "colab": {
     "base_uri": "https://localhost:8080/",
     "height": 34
    },
    "colab_type": "code",
    "executionInfo": {
     "elapsed": 3497,
     "status": "ok",
     "timestamp": 1548900082405,
     "user": {
      "displayName": "Rick Clayton",
      "photoUrl": "",
      "userId": "12716789211823472576"
     },
     "user_tz": 480
    },
    "id": "mQVulKmi4pC0",
    "outputId": "f5667302-e6cb-4ae0-b3cf-158ed4349886"
   },
   "outputs": [
    {
     "data": {
      "text/plain": [
       "((32561, 14), (16281, 14), (32561,), (16281,))"
      ]
     },
     "execution_count": 6,
     "metadata": {},
     "output_type": "execute_result"
    }
   ],
   "source": [
    "X_train = train.drop(columns='income')\n",
    "y_train = train.income == ' >50K'\n",
    "\n",
    "X_test  = test.drop(columns='income')\n",
    "y_test  = test.income  == ' >50K.'\n",
    "\n",
    "X_train.shape, X_test.shape, y_train.shape, y_test.shape"
   ]
  },
  {
   "cell_type": "markdown",
   "metadata": {
    "colab_type": "text",
    "id": "NQ2Ibkax5DOw"
   },
   "source": [
    "Majority class baseline"
   ]
  },
  {
   "cell_type": "code",
   "execution_count": 7,
   "metadata": {
    "colab": {},
    "colab_type": "code",
    "id": "GqfFfKEm42b5"
   },
   "outputs": [],
   "source": [
    "import numpy as np\n",
    "\n",
    "majority_class = y_train.mode()[0]\n",
    "y_pred = np.full(shape=y_test.shape, fill_value=majority_class)"
   ]
  },
  {
   "cell_type": "markdown",
   "metadata": {
    "colab_type": "text",
    "id": "KNMUHV3W5W5V"
   },
   "source": [
    "**bold text**`y_pred` has the same shape as `y_test`"
   ]
  },
  {
   "cell_type": "code",
   "execution_count": 8,
   "metadata": {
    "colab": {
     "base_uri": "https://localhost:8080/",
     "height": 34
    },
    "colab_type": "code",
    "executionInfo": {
     "elapsed": 3470,
     "status": "ok",
     "timestamp": 1548900082406,
     "user": {
      "displayName": "Rick Clayton",
      "photoUrl": "",
      "userId": "12716789211823472576"
     },
     "user_tz": 480
    },
    "id": "A6mIx4PY5Qeo",
    "outputId": "6dcdb1be-fed0-42f2-f107-11d5b184dd6e"
   },
   "outputs": [
    {
     "data": {
      "text/plain": [
       "((16281,), (16281,))"
      ]
     },
     "execution_count": 8,
     "metadata": {},
     "output_type": "execute_result"
    }
   ],
   "source": [
    "y_pred.shape, y_test.shape"
   ]
  },
  {
   "cell_type": "markdown",
   "metadata": {
    "colab_type": "text",
    "id": "mWG0oTHD5eBw"
   },
   "source": [
    "all predictions are the majority class"
   ]
  },
  {
   "cell_type": "code",
   "execution_count": 9,
   "metadata": {
    "colab": {
     "base_uri": "https://localhost:8080/",
     "height": 34
    },
    "colab_type": "code",
    "executionInfo": {
     "elapsed": 3448,
     "status": "ok",
     "timestamp": 1548900082407,
     "user": {
      "displayName": "Rick Clayton",
      "photoUrl": "",
      "userId": "12716789211823472576"
     },
     "user_tz": 480
    },
    "id": "Q3IIjxGt5WVZ",
    "outputId": "b3ea6fd9-0c31-491a-8f3c-8001ce724635"
   },
   "outputs": [
    {
     "data": {
      "text/plain": [
       "True"
      ]
     },
     "execution_count": 9,
     "metadata": {},
     "output_type": "execute_result"
    }
   ],
   "source": [
    "all(y_pred == majority_class)"
   ]
  },
  {
   "cell_type": "markdown",
   "metadata": {
    "colab_type": "text",
    "id": "tUsgtt5T5qjR"
   },
   "source": [
    "Baseline accuracy is 76% by guessing the majority class for every prediction"
   ]
  },
  {
   "cell_type": "code",
   "execution_count": 10,
   "metadata": {
    "colab": {
     "base_uri": "https://localhost:8080/",
     "height": 34
    },
    "colab_type": "code",
    "executionInfo": {
     "elapsed": 3433,
     "status": "ok",
     "timestamp": 1548900082407,
     "user": {
      "displayName": "Rick Clayton",
      "photoUrl": "",
      "userId": "12716789211823472576"
     },
     "user_tz": 480
    },
    "id": "LGm7MelQ5c8w",
    "outputId": "0ad9a0f0-c762-4a06-a135-aa375db310d0"
   },
   "outputs": [
    {
     "data": {
      "text/plain": [
       "0.7637737239727289"
      ]
     },
     "execution_count": 10,
     "metadata": {},
     "output_type": "execute_result"
    }
   ],
   "source": [
    "from sklearn.metrics import accuracy_score\n",
    "accuracy_score(y_test, y_pred)"
   ]
  },
  {
   "cell_type": "markdown",
   "metadata": {
    "colab_type": "text",
    "id": "Crq-dk5u57o6"
   },
   "source": [
    "This makes sense, because the majority class occurs 76% of the time in the test dataset"
   ]
  },
  {
   "cell_type": "code",
   "execution_count": 11,
   "metadata": {
    "colab": {
     "base_uri": "https://localhost:8080/",
     "height": 68
    },
    "colab_type": "code",
    "executionInfo": {
     "elapsed": 3413,
     "status": "ok",
     "timestamp": 1548900082407,
     "user": {
      "displayName": "Rick Clayton",
      "photoUrl": "",
      "userId": "12716789211823472576"
     },
     "user_tz": 480
    },
    "id": "eNk2yTmyhFHx",
    "outputId": "251a6011-8409-4b54-e324-6f20f77fcbd4"
   },
   "outputs": [
    {
     "data": {
      "text/plain": [
       " <=50K.    0.763774\n",
       " >50K.     0.236226\n",
       "Name: income, dtype: float64"
      ]
     },
     "execution_count": 11,
     "metadata": {},
     "output_type": "execute_result"
    }
   ],
   "source": [
    "test.income.value_counts(normalize=True)"
   ]
  },
  {
   "cell_type": "markdown",
   "metadata": {
    "colab_type": "text",
    "id": "886PbzRJ6USc"
   },
   "source": [
    "## Adult Census Income — Train/Test Split — fast first models"
   ]
  },
  {
   "cell_type": "markdown",
   "metadata": {
    "colab_type": "text",
    "id": "TgsO1op66j3b"
   },
   "source": [
    "Scikit-learn expects no nulls... We're good there:"
   ]
  },
  {
   "cell_type": "code",
   "execution_count": 12,
   "metadata": {
    "colab": {
     "base_uri": "https://localhost:8080/",
     "height": 34
    },
    "colab_type": "code",
    "executionInfo": {
     "elapsed": 3527,
     "status": "ok",
     "timestamp": 1548900082532,
     "user": {
      "displayName": "Rick Clayton",
      "photoUrl": "",
      "userId": "12716789211823472576"
     },
     "user_tz": 480
    },
    "id": "cyfwVBt354U1",
    "outputId": "9ba54524-f3c7-4596-f927-336e4e1e69f9"
   },
   "outputs": [
    {
     "data": {
      "text/plain": [
       "True"
      ]
     },
     "execution_count": 12,
     "metadata": {},
     "output_type": "execute_result"
    }
   ],
   "source": [
    "def no_nulls(df):\n",
    "    return not any(df.isnull().sum())\n",
    "\n",
    "no_nulls(X_train)"
   ]
  },
  {
   "cell_type": "markdown",
   "metadata": {
    "colab_type": "text",
    "id": "tbVhqsUP622c"
   },
   "source": [
    "Scikit-learn also expects all numeric features. (No strings / \"object\" datatypes) ... We're not there yet:"
   ]
  },
  {
   "cell_type": "code",
   "execution_count": 13,
   "metadata": {
    "colab": {
     "base_uri": "https://localhost:8080/",
     "height": 34
    },
    "colab_type": "code",
    "executionInfo": {
     "elapsed": 3521,
     "status": "ok",
     "timestamp": 1548900082533,
     "user": {
      "displayName": "Rick Clayton",
      "photoUrl": "",
      "userId": "12716789211823472576"
     },
     "user_tz": 480
    },
    "id": "VqOoYwO16vmu",
    "outputId": "9e5169ba-0f96-48d0-cd30-e4be16080724"
   },
   "outputs": [
    {
     "data": {
      "text/plain": [
       "False"
      ]
     },
     "execution_count": 13,
     "metadata": {},
     "output_type": "execute_result"
    }
   ],
   "source": [
    "def all_numeric(df):\n",
    "    from pandas.api.types import is_numeric_dtype\n",
    "    return all(is_numeric_dtype(df[col]) for col in df)\n",
    "\n",
    "all_numeric(X_train)"
   ]
  },
  {
   "cell_type": "markdown",
   "metadata": {
    "colab_type": "text",
    "id": "16s97jma7ULN"
   },
   "source": [
    "Instead of encoding nonnumeric features, we can just exclude them from the training data."
   ]
  },
  {
   "cell_type": "code",
   "execution_count": 14,
   "metadata": {
    "colab": {
     "base_uri": "https://localhost:8080/",
     "height": 34
    },
    "colab_type": "code",
    "executionInfo": {
     "elapsed": 3510,
     "status": "ok",
     "timestamp": 1548900082533,
     "user": {
      "displayName": "Rick Clayton",
      "photoUrl": "",
      "userId": "12716789211823472576"
     },
     "user_tz": 480
    },
    "id": "V34xVYqD7Ayb",
    "outputId": "ea18f69f-391d-4fb9-e1e0-1bcfd419d33f"
   },
   "outputs": [
    {
     "data": {
      "text/plain": [
       "True"
      ]
     },
     "execution_count": 14,
     "metadata": {},
     "output_type": "execute_result"
    }
   ],
   "source": [
    "X_train_numeric = X_train.select_dtypes(np.number)\n",
    "\n",
    "all_numeric(X_train_numeric)"
   ]
  },
  {
   "cell_type": "markdown",
   "metadata": {
    "colab_type": "text",
    "id": "0KIrZHZm8pXn"
   },
   "source": [
    "We'll do the same with the test data."
   ]
  },
  {
   "cell_type": "code",
   "execution_count": 15,
   "metadata": {
    "colab": {},
    "colab_type": "code",
    "id": "RehsWU5t8na0"
   },
   "outputs": [],
   "source": [
    "X_test_numeric = X_test.select_dtypes(np.number)"
   ]
  },
  {
   "cell_type": "markdown",
   "metadata": {
    "colab_type": "text",
    "id": "gEmZztuZ71zC"
   },
   "source": [
    "Then fit a Logistic Regression on the training data (only the numeric features).\n",
    "\n",
    "Test accuracy improves to almost 80%"
   ]
  },
  {
   "cell_type": "code",
   "execution_count": 16,
   "metadata": {
    "colab": {
     "base_uri": "https://localhost:8080/",
     "height": 88
    },
    "colab_type": "code",
    "executionInfo": {
     "elapsed": 3822,
     "status": "ok",
     "timestamp": 1548900082863,
     "user": {
      "displayName": "Rick Clayton",
      "photoUrl": "",
      "userId": "12716789211823472576"
     },
     "user_tz": 480
    },
    "id": "nlSO3C9t7ogI",
    "outputId": "330eba8f-258c-43c6-e3d1-d10bf14f32cf"
   },
   "outputs": [
    {
     "name": "stderr",
     "output_type": "stream",
     "text": [
      "C:\\Users\\rick1\\Anaconda3\\lib\\site-packages\\sklearn\\linear_model\\logistic.py:433: FutureWarning: Default solver will be changed to 'lbfgs' in 0.22. Specify a solver to silence this warning.\n",
      "  FutureWarning)\n"
     ]
    },
    {
     "data": {
      "text/plain": [
       "0.7992138075056815"
      ]
     },
     "execution_count": 16,
     "metadata": {},
     "output_type": "execute_result"
    }
   ],
   "source": [
    "from sklearn.linear_model import LogisticRegression\n",
    "model = LogisticRegression()\n",
    "model.fit(X_train_numeric, y_train)\n",
    "y_pred = model.predict(X_test_numeric)\n",
    "accuracy_score(y_test, y_pred)"
   ]
  },
  {
   "cell_type": "markdown",
   "metadata": {
    "colab_type": "text",
    "id": "BKKgC2XJ8LfH"
   },
   "source": [
    "Let's try scaling our data first. \n",
    "\n",
    "Test accuracy improves to over 81%"
   ]
  },
  {
   "cell_type": "code",
   "execution_count": 17,
   "metadata": {
    "colab": {
     "base_uri": "https://localhost:8080/",
     "height": 156
    },
    "colab_type": "code",
    "executionInfo": {
     "elapsed": 3935,
     "status": "ok",
     "timestamp": 1548900082987,
     "user": {
      "displayName": "Rick Clayton",
      "photoUrl": "",
      "userId": "12716789211823472576"
     },
     "user_tz": 480
    },
    "id": "KkYRW6Jm77Y0",
    "outputId": "bc09f1e4-92b4-44aa-ffb0-0d2c7f48a3bd"
   },
   "outputs": [
    {
     "name": "stderr",
     "output_type": "stream",
     "text": [
      "C:\\Users\\rick1\\Anaconda3\\lib\\site-packages\\sklearn\\preprocessing\\data.py:625: DataConversionWarning: Data with input dtype int64 were all converted to float64 by StandardScaler.\n",
      "  return self.partial_fit(X, y)\n",
      "C:\\Users\\rick1\\Anaconda3\\lib\\site-packages\\sklearn\\base.py:465: DataConversionWarning: Data with input dtype int64 were all converted to float64 by StandardScaler.\n",
      "  return self.fit(X, y, **fit_params).transform(X)\n",
      "C:\\Users\\rick1\\Anaconda3\\lib\\site-packages\\sklearn\\pipeline.py:331: DataConversionWarning: Data with input dtype int64 were all converted to float64 by StandardScaler.\n",
      "  Xt = transform.transform(Xt)\n"
     ]
    },
    {
     "data": {
      "text/plain": [
       "0.8134635464652048"
      ]
     },
     "execution_count": 17,
     "metadata": {},
     "output_type": "execute_result"
    }
   ],
   "source": [
    "from sklearn.preprocessing import StandardScaler\n",
    "from sklearn.pipeline import make_pipeline\n",
    "\n",
    "pipeline = make_pipeline(StandardScaler(), LogisticRegression(solver='lbfgs'))\n",
    "pipeline.fit(X_train_numeric, y_train)\n",
    "y_pred = pipeline.predict(X_test_numeric)\n",
    "accuracy_score(y_test, y_pred)"
   ]
  },
  {
   "cell_type": "markdown",
   "metadata": {
    "colab_type": "text",
    "id": "gGsNNA9k9BMr"
   },
   "source": [
    "One-hot-encode all the categorical featues."
   ]
  },
  {
   "cell_type": "markdown",
   "metadata": {
    "colab_type": "text",
    "id": "wrIvN4X89dSJ"
   },
   "source": [
    "Install the Category Encoder library \n",
    "\n",
    "https://github.com/scikit-learn-contrib/categorical-encoding"
   ]
  },
  {
   "cell_type": "code",
   "execution_count": 18,
   "metadata": {
    "colab": {
     "base_uri": "https://localhost:8080/",
     "height": 207
    },
    "colab_type": "code",
    "executionInfo": {
     "elapsed": 6815,
     "status": "ok",
     "timestamp": 1548900085874,
     "user": {
      "displayName": "Rick Clayton",
      "photoUrl": "",
      "userId": "12716789211823472576"
     },
     "user_tz": 480
    },
    "id": "gNJr5XcG8NpA",
    "outputId": "7f99af93-bd36-49f7-e582-ac2941ff878d"
   },
   "outputs": [],
   "source": [
    "#!pip install category_encoders"
   ]
  },
  {
   "cell_type": "code",
   "execution_count": 19,
   "metadata": {
    "colab": {},
    "colab_type": "code",
    "id": "5tpuEpDa9YFr"
   },
   "outputs": [],
   "source": [
    "import category_encoders as ce"
   ]
  },
  {
   "cell_type": "markdown",
   "metadata": {
    "colab_type": "text",
    "id": "0LGitjUH9zFh"
   },
   "source": [
    "Add the library's `OneHotEncoder` to a pipeline.\n",
    "\n",
    "Before, we fit on `X_train_numeric` and predict on `X_test_numeric`.\n",
    "\n",
    "Now, we fit on  `X_train` and predict on `X_test` (the original dataframes which include categorical columns)\n",
    "\n",
    " Test accuracy improves to 85%."
   ]
  },
  {
   "cell_type": "code",
   "execution_count": 20,
   "metadata": {
    "colab": {
     "base_uri": "https://localhost:8080/",
     "height": 156
    },
    "colab_type": "code",
    "executionInfo": {
     "elapsed": 8383,
     "status": "ok",
     "timestamp": 1548900087459,
     "user": {
      "displayName": "Rick Clayton",
      "photoUrl": "",
      "userId": "12716789211823472576"
     },
     "user_tz": 480
    },
    "id": "s-WbXKo_9caL",
    "outputId": "66a87885-e649-4543-828d-f61207ea73dc"
   },
   "outputs": [
    {
     "name": "stderr",
     "output_type": "stream",
     "text": [
      "C:\\Users\\rick1\\Anaconda3\\lib\\site-packages\\sklearn\\preprocessing\\data.py:625: DataConversionWarning: Data with input dtype int32, int64 were all converted to float64 by StandardScaler.\n",
      "  return self.partial_fit(X, y)\n",
      "C:\\Users\\rick1\\Anaconda3\\lib\\site-packages\\sklearn\\base.py:465: DataConversionWarning: Data with input dtype int32, int64 were all converted to float64 by StandardScaler.\n",
      "  return self.fit(X, y, **fit_params).transform(X)\n",
      "C:\\Users\\rick1\\Anaconda3\\lib\\site-packages\\sklearn\\pipeline.py:331: DataConversionWarning: Data with input dtype int32, int64 were all converted to float64 by StandardScaler.\n",
      "  Xt = transform.transform(Xt)\n"
     ]
    },
    {
     "data": {
      "text/plain": [
       "0.8525274860266568"
      ]
     },
     "execution_count": 20,
     "metadata": {},
     "output_type": "execute_result"
    }
   ],
   "source": [
    "pipeline = make_pipeline(\n",
    "    ce.OneHotEncoder(use_cat_names=True), \n",
    "    StandardScaler(), \n",
    "    LogisticRegression(solver='lbfgs')\n",
    ")\n",
    "\n",
    "pipeline.fit(X_train, y_train)\n",
    "y_pred = pipeline.predict(X_test)\n",
    "accuracy_score(y_test, y_pred)"
   ]
  },
  {
   "cell_type": "code",
   "execution_count": 21,
   "metadata": {},
   "outputs": [
    {
     "data": {
      "text/plain": [
       "LogisticRegression(C=1.0, class_weight=None, dual=False, fit_intercept=True,\n",
       "          intercept_scaling=1, max_iter=100, multi_class='warn',\n",
       "          n_jobs=None, penalty='l2', random_state=None, solver='lbfgs',\n",
       "          tol=0.0001, verbose=0, warm_start=False)"
      ]
     },
     "execution_count": 21,
     "metadata": {},
     "output_type": "execute_result"
    }
   ],
   "source": [
    "coefficients = pipeline.named_steps['logisticregression']\n",
    "coefficients"
   ]
  },
  {
   "cell_type": "markdown",
   "metadata": {
    "colab_type": "text",
    "id": "uljTyg29_QUd"
   },
   "source": [
    "Visualize coefficients"
   ]
  },
  {
   "cell_type": "code",
   "execution_count": 22,
   "metadata": {
    "colab": {
     "base_uri": "https://localhost:8080/",
     "height": 1694
    },
    "colab_type": "code",
    "executionInfo": {
     "elapsed": 12217,
     "status": "ok",
     "timestamp": 1548900091301,
     "user": {
      "displayName": "Rick Clayton",
      "photoUrl": "",
      "userId": "12716789211823472576"
     },
     "user_tz": 480
    },
    "id": "ExAx_96L-FPX",
    "outputId": "10854dfb-6734-487a-ae8e-f98d6ba5c044"
   },
   "outputs": [
    {
     "data": {
      "image/png": "[encoded data removed]",
      "text/plain": [
       "<Figure size 720x2160 with 1 Axes>"
      ]
     },
     "metadata": {
      "needs_background": "light"
     },
     "output_type": "display_data"
    }
   ],
   "source": [
    "plt.figure(figsize=(10,30))\n",
    "plt.title('Coefficients')\n",
    "\n",
    "coefficients = pipeline.named_steps['logisticregression'].coef_[0]\n",
    "feature_names = pipeline.named_steps['onehotencoder'].transform(X_train).columns\n",
    "pd.Series(coefficients, feature_names).sort_values().plot.barh(color='gray');"
   ]
  },
  {
   "cell_type": "markdown",
   "metadata": {
    "colab_type": "text",
    "id": "tlFfn7Em_oag"
   },
   "source": [
    "## Adult Census Income — Cross Validation with independent test set — fast first models"
   ]
  },
  {
   "cell_type": "markdown",
   "metadata": {
    "colab_type": "text",
    "id": "4SGmGHzsD4Jc"
   },
   "source": [
    "`cross_val_score(pipeline, X_train, y_train, cv=10)` repeats this process 10 times:\n",
    "- Use 9/10 of the training data to fit the model pipeline\n",
    "- Use 1/10 of the training data to predict and score the model pipeline\n",
    "\n",
    "The test data is not used here — it remains independent, held out."
   ]
  },
  {
   "cell_type": "code",
   "execution_count": 23,
   "metadata": {
    "colab": {
     "base_uri": "https://localhost:8080/",
     "height": 1057
    },
    "colab_type": "code",
    "executionInfo": {
     "elapsed": 26855,
     "status": "ok",
     "timestamp": 1548900105948,
     "user": {
      "displayName": "Rick Clayton",
      "photoUrl": "",
      "userId": "12716789211823472576"
     },
     "user_tz": 480
    },
    "id": "P5vYr738_Ujw",
    "outputId": "d80c5691-c6bf-48b0-9fc3-7786aa6a7df6"
   },
   "outputs": [
    {
     "name": "stderr",
     "output_type": "stream",
     "text": [
      "C:\\Users\\rick1\\Anaconda3\\lib\\site-packages\\sklearn\\preprocessing\\data.py:625: DataConversionWarning: Data with input dtype int32, int64 were all converted to float64 by StandardScaler.\n",
      "  return self.partial_fit(X, y)\n",
      "C:\\Users\\rick1\\Anaconda3\\lib\\site-packages\\sklearn\\base.py:465: DataConversionWarning: Data with input dtype int32, int64 were all converted to float64 by StandardScaler.\n",
      "  return self.fit(X, y, **fit_params).transform(X)\n",
      "C:\\Users\\rick1\\Anaconda3\\lib\\site-packages\\sklearn\\pipeline.py:331: DataConversionWarning: Data with input dtype int32, int64 were all converted to float64 by StandardScaler.\n",
      "  Xt = transform.transform(Xt)\n",
      "C:\\Users\\rick1\\Anaconda3\\lib\\site-packages\\sklearn\\preprocessing\\data.py:625: DataConversionWarning: Data with input dtype int32, int64 were all converted to float64 by StandardScaler.\n",
      "  return self.partial_fit(X, y)\n",
      "C:\\Users\\rick1\\Anaconda3\\lib\\site-packages\\sklearn\\base.py:465: DataConversionWarning: Data with input dtype int32, int64 were all converted to float64 by StandardScaler.\n",
      "  return self.fit(X, y, **fit_params).transform(X)\n",
      "C:\\Users\\rick1\\Anaconda3\\lib\\site-packages\\sklearn\\pipeline.py:331: DataConversionWarning: Data with input dtype int32, int64 were all converted to float64 by StandardScaler.\n",
      "  Xt = transform.transform(Xt)\n",
      "C:\\Users\\rick1\\Anaconda3\\lib\\site-packages\\sklearn\\preprocessing\\data.py:625: DataConversionWarning: Data with input dtype int32, int64 were all converted to float64 by StandardScaler.\n",
      "  return self.partial_fit(X, y)\n",
      "C:\\Users\\rick1\\Anaconda3\\lib\\site-packages\\sklearn\\base.py:465: DataConversionWarning: Data with input dtype int32, int64 were all converted to float64 by StandardScaler.\n",
      "  return self.fit(X, y, **fit_params).transform(X)\n",
      "C:\\Users\\rick1\\Anaconda3\\lib\\site-packages\\sklearn\\pipeline.py:331: DataConversionWarning: Data with input dtype int32, int64 were all converted to float64 by StandardScaler.\n",
      "  Xt = transform.transform(Xt)\n",
      "C:\\Users\\rick1\\Anaconda3\\lib\\site-packages\\sklearn\\preprocessing\\data.py:625: DataConversionWarning: Data with input dtype int32, int64 were all converted to float64 by StandardScaler.\n",
      "  return self.partial_fit(X, y)\n",
      "C:\\Users\\rick1\\Anaconda3\\lib\\site-packages\\sklearn\\base.py:465: DataConversionWarning: Data with input dtype int32, int64 were all converted to float64 by StandardScaler.\n",
      "  return self.fit(X, y, **fit_params).transform(X)\n",
      "C:\\Users\\rick1\\Anaconda3\\lib\\site-packages\\sklearn\\pipeline.py:331: DataConversionWarning: Data with input dtype int32, int64 were all converted to float64 by StandardScaler.\n",
      "  Xt = transform.transform(Xt)\n",
      "C:\\Users\\rick1\\Anaconda3\\lib\\site-packages\\sklearn\\preprocessing\\data.py:625: DataConversionWarning: Data with input dtype int32, int64 were all converted to float64 by StandardScaler.\n",
      "  return self.partial_fit(X, y)\n",
      "C:\\Users\\rick1\\Anaconda3\\lib\\site-packages\\sklearn\\base.py:465: DataConversionWarning: Data with input dtype int32, int64 were all converted to float64 by StandardScaler.\n",
      "  return self.fit(X, y, **fit_params).transform(X)\n",
      "C:\\Users\\rick1\\Anaconda3\\lib\\site-packages\\sklearn\\pipeline.py:331: DataConversionWarning: Data with input dtype int32, int64 were all converted to float64 by StandardScaler.\n",
      "  Xt = transform.transform(Xt)\n",
      "C:\\Users\\rick1\\Anaconda3\\lib\\site-packages\\sklearn\\preprocessing\\data.py:625: DataConversionWarning: Data with input dtype int32, int64 were all converted to float64 by StandardScaler.\n",
      "  return self.partial_fit(X, y)\n",
      "C:\\Users\\rick1\\Anaconda3\\lib\\site-packages\\sklearn\\base.py:465: DataConversionWarning: Data with input dtype int32, int64 were all converted to float64 by StandardScaler.\n",
      "  return self.fit(X, y, **fit_params).transform(X)\n",
      "C:\\Users\\rick1\\Anaconda3\\lib\\site-packages\\sklearn\\pipeline.py:331: DataConversionWarning: Data with input dtype int32, int64 were all converted to float64 by StandardScaler.\n",
      "  Xt = transform.transform(Xt)\n",
      "C:\\Users\\rick1\\Anaconda3\\lib\\site-packages\\sklearn\\preprocessing\\data.py:625: DataConversionWarning: Data with input dtype int32, int64 were all converted to float64 by StandardScaler.\n",
      "  return self.partial_fit(X, y)\n",
      "C:\\Users\\rick1\\Anaconda3\\lib\\site-packages\\sklearn\\base.py:465: DataConversionWarning: Data with input dtype int32, int64 were all converted to float64 by StandardScaler.\n",
      "  return self.fit(X, y, **fit_params).transform(X)\n",
      "C:\\Users\\rick1\\Anaconda3\\lib\\site-packages\\sklearn\\pipeline.py:331: DataConversionWarning: Data with input dtype int32, int64 were all converted to float64 by StandardScaler.\n",
      "  Xt = transform.transform(Xt)\n",
      "C:\\Users\\rick1\\Anaconda3\\lib\\site-packages\\sklearn\\preprocessing\\data.py:625: DataConversionWarning: Data with input dtype int32, int64 were all converted to float64 by StandardScaler.\n",
      "  return self.partial_fit(X, y)\n",
      "C:\\Users\\rick1\\Anaconda3\\lib\\site-packages\\sklearn\\base.py:465: DataConversionWarning: Data with input dtype int32, int64 were all converted to float64 by StandardScaler.\n",
      "  return self.fit(X, y, **fit_params).transform(X)\n",
      "C:\\Users\\rick1\\Anaconda3\\lib\\site-packages\\sklearn\\pipeline.py:331: DataConversionWarning: Data with input dtype int32, int64 were all converted to float64 by StandardScaler.\n",
      "  Xt = transform.transform(Xt)\n",
      "C:\\Users\\rick1\\Anaconda3\\lib\\site-packages\\sklearn\\preprocessing\\data.py:625: DataConversionWarning: Data with input dtype int32, int64 were all converted to float64 by StandardScaler.\n",
      "  return self.partial_fit(X, y)\n",
      "C:\\Users\\rick1\\Anaconda3\\lib\\site-packages\\sklearn\\base.py:465: DataConversionWarning: Data with input dtype int32, int64 were all converted to float64 by StandardScaler.\n",
      "  return self.fit(X, y, **fit_params).transform(X)\n",
      "C:\\Users\\rick1\\Anaconda3\\lib\\site-packages\\sklearn\\pipeline.py:331: DataConversionWarning: Data with input dtype int32, int64 were all converted to float64 by StandardScaler.\n",
      "  Xt = transform.transform(Xt)\n",
      "C:\\Users\\rick1\\Anaconda3\\lib\\site-packages\\sklearn\\preprocessing\\data.py:625: DataConversionWarning: Data with input dtype int32, int64 were all converted to float64 by StandardScaler.\n",
      "  return self.partial_fit(X, y)\n",
      "C:\\Users\\rick1\\Anaconda3\\lib\\site-packages\\sklearn\\base.py:465: DataConversionWarning: Data with input dtype int32, int64 were all converted to float64 by StandardScaler.\n",
      "  return self.fit(X, y, **fit_params).transform(X)\n",
      "C:\\Users\\rick1\\Anaconda3\\lib\\site-packages\\sklearn\\pipeline.py:331: DataConversionWarning: Data with input dtype int32, int64 were all converted to float64 by StandardScaler.\n",
      "  Xt = transform.transform(Xt)\n"
     ]
    }
   ],
   "source": [
    "from sklearn.model_selection import cross_val_score\n",
    "\n",
    "scores = cross_val_score(pipeline, X_train, y_train, scoring='accuracy', cv=10)"
   ]
  },
  {
   "cell_type": "markdown",
   "metadata": {
    "colab_type": "text",
    "id": "QMsxJIT4Bz7j"
   },
   "source": [
    "`cross_val_score(cv=10)` returns 10 scores"
   ]
  },
  {
   "cell_type": "code",
   "execution_count": 24,
   "metadata": {
    "colab": {
     "base_uri": "https://localhost:8080/",
     "height": 51
    },
    "colab_type": "code",
    "executionInfo": {
     "elapsed": 26847,
     "status": "ok",
     "timestamp": 1548900105949,
     "user": {
      "displayName": "Rick Clayton",
      "photoUrl": "",
      "userId": "12716789211823472576"
     },
     "user_tz": 480
    },
    "id": "qPMbMk2_Am4y",
    "outputId": "dee2cac5-f99d-4ee1-d844-24b284994e1d"
   },
   "outputs": [
    {
     "data": {
      "text/plain": [
       "array([0.84771262, 0.85104423, 0.85565111, 0.84029484, 0.85288698,\n",
       "       0.85288698, 0.85288698, 0.85933661, 0.85411548, 0.84981572])"
      ]
     },
     "execution_count": 24,
     "metadata": {},
     "output_type": "execute_result"
    }
   ],
   "source": [
    "scores"
   ]
  },
  {
   "cell_type": "markdown",
   "metadata": {
    "colab_type": "text",
    "id": "ATPvQ3CoBAEm"
   },
   "source": [
    "<img src=\"https://sebastianraschka.com/images/blog/2016/model-evaluation-selection-part3/loocv.png\" width=\"400\">\n",
    "\n",
    "Source: https://sebastianraschka.com/blog/2016/model-evaluation-selection-part3.html"
   ]
  },
  {
   "cell_type": "markdown",
   "metadata": {
    "colab_type": "text",
    "id": "2V7LTdNkBuCw"
   },
   "source": [
    "The scores have low variance."
   ]
  },
  {
   "cell_type": "code",
   "execution_count": 25,
   "metadata": {
    "colab": {
     "base_uri": "https://localhost:8080/",
     "height": 34
    },
    "colab_type": "code",
    "executionInfo": {
     "elapsed": 26840,
     "status": "ok",
     "timestamp": 1548900105950,
     "user": {
      "displayName": "Rick Clayton",
      "photoUrl": "",
      "userId": "12716789211823472576"
     },
     "user_tz": 480
    },
    "id": "r52ICJ6OA66W",
    "outputId": "c29bc870-b12b-4bbc-b7b3-f3f03f918ea1"
   },
   "outputs": [
    {
     "data": {
      "text/plain": [
       "(0.8516631537893435, 0.004836674045843519)"
      ]
     },
     "execution_count": 25,
     "metadata": {},
     "output_type": "execute_result"
    }
   ],
   "source": [
    "scores.mean(), scores.std()"
   ]
  },
  {
   "cell_type": "markdown",
   "metadata": {
    "colab_type": "text",
    "id": "PCEEVP0wB9F3"
   },
   "source": [
    "<img src=\"https://sebastianraschka.com/images/blog/2016/model-evaluation-selection-part2/visual_bias_variance.png\" width=\"400\">\n",
    "\n",
    "Source: https://sebastianraschka.com/blog/2016/model-evaluation-selection-part2.html"
   ]
  },
  {
   "cell_type": "markdown",
   "metadata": {
    "colab_type": "text",
    "id": "RJWSU31EF-gY"
   },
   "source": [
    "## Adult Census Income — Train/Validation/Test split — fast first models"
   ]
  },
  {
   "cell_type": "markdown",
   "metadata": {
    "colab_type": "text",
    "id": "4_95UcNHGL0H"
   },
   "source": [
    "How can we get from a two-way split ..."
   ]
  },
  {
   "cell_type": "code",
   "execution_count": 26,
   "metadata": {
    "colab": {
     "base_uri": "https://localhost:8080/",
     "height": 34
    },
    "colab_type": "code",
    "executionInfo": {
     "elapsed": 26833,
     "status": "ok",
     "timestamp": 1548900105951,
     "user": {
      "displayName": "Rick Clayton",
      "photoUrl": "",
      "userId": "12716789211823472576"
     },
     "user_tz": 480
    },
    "id": "oKJPJ9YNCADY",
    "outputId": "0c1ae5c9-d621-4810-922c-1d5934fad06f"
   },
   "outputs": [
    {
     "data": {
      "text/plain": [
       "((32561, 14), (16281, 14), (32561,), (16281,))"
      ]
     },
     "execution_count": 26,
     "metadata": {},
     "output_type": "execute_result"
    }
   ],
   "source": [
    "X_train.shape, X_test.shape, y_train.shape, y_test.shape"
   ]
  },
  {
   "cell_type": "markdown",
   "metadata": {
    "colab_type": "text",
    "id": "GIYe9n1CGRTq"
   },
   "source": [
    "... to a three-way split?\n",
    "\n",
    "We can use the `sklearn.model_selection.train_test_split` function to split the training data into training and validation data."
   ]
  },
  {
   "cell_type": "code",
   "execution_count": 27,
   "metadata": {
    "colab": {},
    "colab_type": "code",
    "id": "xj0gOpt3GKaB"
   },
   "outputs": [],
   "source": [
    "from sklearn.model_selection import train_test_split\n",
    "\n",
    "X_train, X_val, y_train, y_val = train_test_split(X_train, y_train)"
   ]
  },
  {
   "cell_type": "code",
   "execution_count": 28,
   "metadata": {
    "colab": {
     "base_uri": "https://localhost:8080/",
     "height": 34
    },
    "colab_type": "code",
    "executionInfo": {
     "elapsed": 26943,
     "status": "ok",
     "timestamp": 1548900106076,
     "user": {
      "displayName": "Rick Clayton",
      "photoUrl": "",
      "userId": "12716789211823472576"
     },
     "user_tz": 480
    },
    "id": "_bVXKAMaHQwu",
    "outputId": "70664087-e5f5-48f6-c3d2-e54ee62f4be8"
   },
   "outputs": [
    {
     "data": {
      "text/plain": [
       "((24420, 14), (8141, 14), (16281, 14), (24420,), (8141,), (16281,))"
      ]
     },
     "execution_count": 28,
     "metadata": {},
     "output_type": "execute_result"
    }
   ],
   "source": [
    "X_train.shape, X_val.shape, X_test.shape, y_train.shape, y_val.shape, y_test.shape"
   ]
  },
  {
   "cell_type": "markdown",
   "metadata": {
    "colab_type": "text",
    "id": "xwP-E21FncyL"
   },
   "source": [
    "Fit on the training set.\n",
    "\n",
    "Predict and score with the validation set.\n",
    "\n",
    "Do not use the test set."
   ]
  },
  {
   "cell_type": "code",
   "execution_count": 29,
   "metadata": {
    "colab": {
     "base_uri": "https://localhost:8080/",
     "height": 156
    },
    "colab_type": "code",
    "executionInfo": {
     "elapsed": 28226,
     "status": "ok",
     "timestamp": 1548900107367,
     "user": {
      "displayName": "Rick Clayton",
      "photoUrl": "",
      "userId": "12716789211823472576"
     },
     "user_tz": 480
    },
    "id": "PCYdaXn_nDUq",
    "outputId": "6ab2e671-da83-4258-e703-6e99793ca135"
   },
   "outputs": [
    {
     "name": "stderr",
     "output_type": "stream",
     "text": [
      "C:\\Users\\rick1\\Anaconda3\\lib\\site-packages\\sklearn\\preprocessing\\data.py:625: DataConversionWarning: Data with input dtype int32, int64 were all converted to float64 by StandardScaler.\n",
      "  return self.partial_fit(X, y)\n",
      "C:\\Users\\rick1\\Anaconda3\\lib\\site-packages\\sklearn\\base.py:465: DataConversionWarning: Data with input dtype int32, int64 were all converted to float64 by StandardScaler.\n",
      "  return self.fit(X, y, **fit_params).transform(X)\n",
      "C:\\Users\\rick1\\Anaconda3\\lib\\site-packages\\sklearn\\pipeline.py:331: DataConversionWarning: Data with input dtype int32, int64 were all converted to float64 by StandardScaler.\n",
      "  Xt = transform.transform(Xt)\n"
     ]
    },
    {
     "data": {
      "text/plain": [
       "0.8523522908733571"
      ]
     },
     "execution_count": 29,
     "metadata": {},
     "output_type": "execute_result"
    }
   ],
   "source": [
    "pipeline.fit(X_train, y_train)\n",
    "y_pred = pipeline.predict(X_val)\n",
    "accuracy_score(y_val, y_pred)"
   ]
  },
  {
   "cell_type": "markdown",
   "metadata": {
    "colab_type": "text",
    "id": "qWesgBNF1lqi"
   },
   "source": [
    "## What to do with the test set?\n",
    "\n",
    "Hold it out. Keep it in a \"vault.\" Don't touch it until you're done with your models. "
   ]
  },
  {
   "cell_type": "markdown",
   "metadata": {
    "colab_type": "text",
    "id": "X4-zR44iJrS0"
   },
   "source": [
    "Here's one way to save your test set for later, with the feather file format.\n",
    "\n",
    "https://pandas.pydata.org/pandas-docs/stable/user_guide/io.html#io-feather"
   ]
  },
  {
   "cell_type": "code",
   "execution_count": 30,
   "metadata": {
    "colab": {
     "base_uri": "https://localhost:8080/",
     "height": 105
    },
    "colab_type": "code",
    "executionInfo": {
     "elapsed": 31055,
     "status": "ok",
     "timestamp": 1548900110203,
     "user": {
      "displayName": "Rick Clayton",
      "photoUrl": "",
      "userId": "12716789211823472576"
     },
     "user_tz": 480
    },
    "id": "Rdcr60ytnQqb",
    "outputId": "47d5059a-6c25-4b13-8967-20cd694af40c"
   },
   "outputs": [],
   "source": [
    "#!pip install -U feather-format"
   ]
  },
  {
   "cell_type": "code",
   "execution_count": 31,
   "metadata": {
    "colab": {},
    "colab_type": "code",
    "id": "U6OT4MKAJy4E"
   },
   "outputs": [],
   "source": [
    "X_test.reset_index(drop=True).to_feather('X_test.feather')\n",
    "pd.DataFrame(y_test).reset_index(drop=True).to_feather('y_test.feather')"
   ]
  },
  {
   "cell_type": "markdown",
   "metadata": {
    "colab_type": "text",
    "id": "-vqa0dYPJ5Zs"
   },
   "source": [
    "You can save the files from Google Colab to your local machine"
   ]
  },
  {
   "cell_type": "markdown",
   "metadata": {
    "colab_type": "text",
    "id": "DanimdzNJ-Vd"
   },
   "source": [
    "You can delete the variables from your notebook's runtime"
   ]
  },
  {
   "cell_type": "code",
   "execution_count": 32,
   "metadata": {
    "colab": {},
    "colab_type": "code",
    "id": "24YTaftEKBeP"
   },
   "outputs": [],
   "source": [
    "del X_test, y_test"
   ]
  },
  {
   "cell_type": "markdown",
   "metadata": {
    "colab_type": "text",
    "id": "xSXSLYtmJWzN"
   },
   "source": [
    "## Why hold out an independent test set?"
   ]
  },
  {
   "cell_type": "markdown",
   "metadata": {
    "colab_type": "text",
    "id": "yTQB9VIaI3yu"
   },
   "source": [
    "Owen Zhang, [Winning Data Science Competitions](https://www.slideshare.net/OwenZhang2/tips-for-data-science-competitions)\n",
    "\n",
    "- There are many ways to overfit. Beware of \"multiple comparison fallacy.\" There is a cost in \"peeking at the answer.\"\n",
    "- Good validation is _more important_ than good models. Simple training/validation split is _not_ enough. When you looked at your validation result for the Nth time, you are training models on it.\n",
    "- If possible, have \"holdout\" dataset that you do not touch at all during model build process. This includes feature extraction, etc.\n",
    "- What if holdout result is bad? Be brave and scrap the project."
   ]
  },
  {
   "cell_type": "markdown",
   "metadata": {
    "colab_type": "text",
    "id": "YR1WLnpHJQ86"
   },
   "source": [
    "Hastie, Tibshirani, and Friedman, [The Elements of Statistical Learning](http://statweb.stanford.edu/~tibs/ElemStatLearn/), Chapter 7: Model Assessment and Selection\n",
    "\n",
    "> If we are in a data-rich situation, the best approach is to randomly divide the dataset into three parts: a training set, a validation set, and a test set. The training set is used to fit the models; the validation set is used to estimate prediction error for model selection; the test set is used for assessment of the generalization error of the final chosen model. Ideally, the test set should be kept in a \"vault,\" and be brought out only at the end of the data analysis. Suppose instead that we use the test-set repeatedly, choosing the model with the smallest test-set error. Then the test set error of the final chosen model will underestimate the true test error, sometimes substantially."
   ]
  },
  {
   "cell_type": "markdown",
   "metadata": {
    "colab_type": "text",
    "id": "NZ2D0fiapf2X"
   },
   "source": [
    "Andreas Mueller and Sarah Guido, [Introduction to Machine Learning with Python](https://books.google.com/books?id=1-4lDQAAQBAJ&pg=PA270)\n",
    "\n",
    "> The distinction between the training set, validation set, and test set is fundamentally important to applying machine learning methods in practice. Any choices made based on the test set accuracy \"leak\" information from the test set into the model. Therefore, it is important to keep a separate test set, which is only used for the final evaluation. It is good practice to do all exploratory analysis and model selection using the combination of a training and a validation set, and reserve the test set for a final evaluation - this is even true for exploratory visualization. Strictly speaking, evaluating more than one model on the test set and choosing the better of the two will result in an overly optimistic estimate of how accurate the model is."
   ]
  },
  {
   "cell_type": "markdown",
   "metadata": {
    "colab_type": "text",
    "id": "v5-2adVxpCBx"
   },
   "source": [
    "Hadley Wickham, [R for Data Science](https://r4ds.had.co.nz/model-intro.html#hypothesis-generation-vs.hypothesis-confirmation)\n",
    "\n",
    "> There is a pair of ideas that you must understand in order to do inference correctly:\n",
    "\n",
    "> 1. Each observation can either be used for exploration or confirmation, not both.\n",
    "\n",
    "> 2. You can use an observation as many times as you like for exploration, but you can only use it once for confirmation. As soon as you use an observation twice, you’ve switched from confirmation to exploration.\n",
    "\n",
    "> This is necessary because to confirm a hypothesis you must use data independent of the data that you used to generate the hypothesis. Otherwise you will be over optimistic. There is absolutely nothing wrong with exploration, but you should never sell an exploratory analysis as a confirmatory analysis because it is fundamentally misleading.\n",
    "\n",
    "> If you are serious about doing an confirmatory analysis, one approach is to split your data into three pieces before you begin the analysis."
   ]
  },
  {
   "cell_type": "markdown",
   "metadata": {
    "colab_type": "text",
    "id": "ZSZBWmkMMbJR"
   },
   "source": [
    "## Should you shuffle?\n",
    "\n",
    "Sometimes yes, sometimes no. Experts may seem to give conflicting advice! Partly, that perception is true. Partly, the right choices depend on your data and your goals.\n",
    "\n",
    "[Hastie, Tibshirani, and Friedman](http://statweb.stanford.edu/~tibs/ElemStatLearn/) write,\n",
    "> randomly divide the dataset into three parts: a training set, a validation set, and a test set. \n",
    "\n",
    "But [Rachel Thomas](\n",
    "https://www.fast.ai/2017/11/13/validation-sets/) asks, \"When is a random subset not good enough?\" and gives many good examples.\n",
    "> If your data is a time series, choosing a random subset of the data will be both too easy (you can look at the data both before and after the dates your are trying to predict) and not representative of most business use cases (where you are using historical data to build a model for use in the future).\n",
    "\n",
    "> In the Kaggle distracted driver competition, the independent data are pictures of drivers at the wheel of a car, and the dependent variable is a category such as texting, eating, or safely looking ahead. If you were the insurance company building a model from this data, note that you would be most interested in how the model performs on drivers you haven’t seen before (since you would likely have training data only for a small group of people). \n",
    "\n",
    "> A similar dynamic was at work in the Kaggle fisheries competition to identify the species of fish caught by fishing boats in order to reduce illegal fishing of endangered populations. The test set consisted of boats that didn’t appear in the training data. This means that you’d want your validation set to include boats that are not in the training set.\n",
    "\n",
    "\n",
    "\n",
    "\n",
    "[Owen Zhang](https://www.slideshare.net/OwenZhang2/tips-for-data-science-competitions/10) recommends using your most recent data for your hold out test set, instead of choosing your test set with random shuffling. But he says you are free to use random splits to train and tune models.\n",
    "\n",
    "> Make validation dataset as realistic as possible. Usually this means \"out-of-time\" validation. You are free to use \"in-time\" random split to build models, tune parameters, etc. But hold out data should be out-of-time.\n",
    "\n",
    "Note that Owen Zhang's slide could be confusing, because of ambiguous terminology:\n",
    "- What he calls \"validation dataset\" and \"hold out data\" is what we're calling \"test set.\"\n",
    "- He also says \"cross-validation\" is an \"exception to the rule\" to use \"when data is extremely small.\" There he is talking about \"Cross-validation _without_ independent test set\", _not_ \"Cross-validation _with_ independent test set.\""
   ]
  },
  {
   "cell_type": "markdown",
   "metadata": {
    "colab_type": "text",
    "id": "ipwGmpd7Kk94"
   },
   "source": [
    "**Sometimes you need to shuffle, like in this next example:**"
   ]
  },
  {
   "cell_type": "markdown",
   "metadata": {
    "colab_type": "text",
    "id": "9Doto5c61sNj"
   },
   "source": [
    "## Iris flowers — Train/Validation/Test split?"
   ]
  },
  {
   "cell_type": "markdown",
   "metadata": {
    "colab_type": "text",
    "id": "ow3Ev3JqK0cj"
   },
   "source": [
    "Load the Iris dataset"
   ]
  },
  {
   "cell_type": "code",
   "execution_count": 33,
   "metadata": {
    "colab": {},
    "colab_type": "code",
    "id": "ShfEoOxNKjV9"
   },
   "outputs": [],
   "source": [
    "from sklearn.datasets import load_iris\n",
    "iris = load_iris()\n",
    "X = iris.data\n",
    "y = iris.target"
   ]
  },
  {
   "cell_type": "markdown",
   "metadata": {
    "colab_type": "text",
    "id": "Obd9wa7iK-ID"
   },
   "source": [
    "What would happen if you didn't shuffle this data?"
   ]
  },
  {
   "cell_type": "code",
   "execution_count": 34,
   "metadata": {
    "colab": {
     "base_uri": "https://localhost:8080/",
     "height": 136
    },
    "colab_type": "code",
    "executionInfo": {
     "elapsed": 34841,
     "status": "ok",
     "timestamp": 1548900114023,
     "user": {
      "displayName": "Rick Clayton",
      "photoUrl": "",
      "userId": "12716789211823472576"
     },
     "user_tz": 480
    },
    "id": "-TF5eIYeK_Rt",
    "outputId": "e8ba100e-f2c9-4aa2-e039-4d802a63f198"
   },
   "outputs": [
    {
     "data": {
      "text/plain": [
       "array([0, 0, 0, 0, 0, 0, 0, 0, 0, 0, 0, 0, 0, 0, 0, 0, 0, 0, 0, 0, 0, 0,\n",
       "       0, 0, 0, 0, 0, 0, 0, 0, 0, 0, 0, 0, 0, 0, 0, 0, 0, 0, 0, 0, 0, 0,\n",
       "       0, 0, 0, 0, 0, 0, 1, 1, 1, 1, 1, 1, 1, 1, 1, 1, 1, 1, 1, 1, 1, 1,\n",
       "       1, 1, 1, 1, 1, 1, 1, 1, 1, 1, 1, 1, 1, 1, 1, 1, 1, 1, 1, 1, 1, 1,\n",
       "       1, 1, 1, 1, 1, 1, 1, 1, 1, 1, 1, 1, 2, 2, 2, 2, 2, 2, 2, 2, 2, 2,\n",
       "       2, 2, 2, 2, 2, 2, 2, 2, 2, 2, 2, 2, 2, 2, 2, 2, 2, 2, 2, 2, 2, 2,\n",
       "       2, 2, 2, 2, 2, 2, 2, 2, 2, 2, 2, 2, 2, 2, 2, 2, 2, 2])"
      ]
     },
     "execution_count": 34,
     "metadata": {},
     "output_type": "execute_result"
    }
   ],
   "source": [
    "y"
   ]
  },
  {
   "cell_type": "markdown",
   "metadata": {
    "colab_type": "text",
    "id": "ftRJA9b1LHEG"
   },
   "source": [
    "Let's try it!\n",
    "\n",
    "We'll do a train/validation/test split, with and without random shuffling.\n",
    "\n",
    "[Rachel Thomas]( https://www.fast.ai/2017/11/13/validation-sets/) points out that \"sklearn has a `train_test_split` method, but no `train_validation_test_split`.\"\n",
    "\n",
    "So we can write our own:\n"
   ]
  },
  {
   "cell_type": "code",
   "execution_count": 35,
   "metadata": {
    "colab": {},
    "colab_type": "code",
    "id": "8RKcKFA9Ll7z"
   },
   "outputs": [],
   "source": [
    "def train_validation_test_split(\n",
    "    X, y, train_size=0.8, val_size=0.1, test_size=0.1, \n",
    "    random_state=None, shuffle=True):\n",
    "        \n",
    "    assert train_size + val_size + test_size == 1\n",
    "    \n",
    "    X_train_val, X_test, y_train_val, y_test = train_test_split(\n",
    "        X, y, test_size=test_size, random_state=random_state, shuffle=shuffle)\n",
    "    \n",
    "    X_train, X_val, y_train, y_val = train_test_split(\n",
    "        X_train_val, y_train_val, test_size=val_size/(train_size+val_size), \n",
    "        random_state=random_state, shuffle=shuffle)\n",
    "    \n",
    "    return X_train, X_val, X_test, y_train, y_val, y_test"
   ]
  },
  {
   "cell_type": "markdown",
   "metadata": {
    "colab_type": "text",
    "id": "C6rtSKRjM-IJ"
   },
   "source": [
    "Split Iris data into train/validation/test sets, _without_ random shuffling"
   ]
  },
  {
   "cell_type": "code",
   "execution_count": 36,
   "metadata": {
    "colab": {},
    "colab_type": "code",
    "id": "XZH057JSLmwH"
   },
   "outputs": [],
   "source": [
    "X_train, X_val, X_test, y_train, y_val, y_test = train_validation_test_split(\n",
    "    X, y, shuffle=False)"
   ]
  },
  {
   "cell_type": "markdown",
   "metadata": {
    "colab_type": "text",
    "id": "GbW1sgSTUa3M"
   },
   "source": [
    "Look at the train, validation, and test targets"
   ]
  },
  {
   "cell_type": "code",
   "execution_count": 37,
   "metadata": {
    "colab": {
     "base_uri": "https://localhost:8080/",
     "height": 119
    },
    "colab_type": "code",
    "executionInfo": {
     "elapsed": 34827,
     "status": "ok",
     "timestamp": 1548900114026,
     "user": {
      "displayName": "Rick Clayton",
      "photoUrl": "",
      "userId": "12716789211823472576"
     },
     "user_tz": 480
    },
    "id": "kRWwDV4CLyZ2",
    "outputId": "a4841c4b-e140-4fc8-9184-fb14ff6ed306"
   },
   "outputs": [
    {
     "data": {
      "text/plain": [
       "array([0, 0, 0, 0, 0, 0, 0, 0, 0, 0, 0, 0, 0, 0, 0, 0, 0, 0, 0, 0, 0, 0,\n",
       "       0, 0, 0, 0, 0, 0, 0, 0, 0, 0, 0, 0, 0, 0, 0, 0, 0, 0, 0, 0, 0, 0,\n",
       "       0, 0, 0, 0, 0, 0, 1, 1, 1, 1, 1, 1, 1, 1, 1, 1, 1, 1, 1, 1, 1, 1,\n",
       "       1, 1, 1, 1, 1, 1, 1, 1, 1, 1, 1, 1, 1, 1, 1, 1, 1, 1, 1, 1, 1, 1,\n",
       "       1, 1, 1, 1, 1, 1, 1, 1, 1, 1, 1, 1, 2, 2, 2, 2, 2, 2, 2, 2, 2, 2,\n",
       "       2, 2, 2, 2, 2, 2, 2, 2, 2])"
      ]
     },
     "execution_count": 37,
     "metadata": {},
     "output_type": "execute_result"
    }
   ],
   "source": [
    "y_train"
   ]
  },
  {
   "cell_type": "code",
   "execution_count": 38,
   "metadata": {
    "colab": {
     "base_uri": "https://localhost:8080/",
     "height": 34
    },
    "colab_type": "code",
    "executionInfo": {
     "elapsed": 34822,
     "status": "ok",
     "timestamp": 1548900114028,
     "user": {
      "displayName": "Rick Clayton",
      "photoUrl": "",
      "userId": "12716789211823472576"
     },
     "user_tz": 480
    },
    "id": "5idO3xNcUXpe",
    "outputId": "2b78cf42-4feb-431a-b34b-78de8c030028"
   },
   "outputs": [
    {
     "data": {
      "text/plain": [
       "array([2, 2, 2, 2, 2, 2, 2, 2, 2, 2, 2, 2, 2, 2, 2, 2])"
      ]
     },
     "execution_count": 38,
     "metadata": {},
     "output_type": "execute_result"
    }
   ],
   "source": [
    "y_val"
   ]
  },
  {
   "cell_type": "code",
   "execution_count": 39,
   "metadata": {
    "colab": {
     "base_uri": "https://localhost:8080/",
     "height": 34
    },
    "colab_type": "code",
    "executionInfo": {
     "elapsed": 34955,
     "status": "ok",
     "timestamp": 1548900114168,
     "user": {
      "displayName": "Rick Clayton",
      "photoUrl": "",
      "userId": "12716789211823472576"
     },
     "user_tz": 480
    },
    "id": "H-uGeLEvUY1p",
    "outputId": "838be85c-a699-40df-fb7f-990c4ca065dd"
   },
   "outputs": [
    {
     "data": {
      "text/plain": [
       "array([2, 2, 2, 2, 2, 2, 2, 2, 2, 2, 2, 2, 2, 2, 2])"
      ]
     },
     "execution_count": 39,
     "metadata": {},
     "output_type": "execute_result"
    }
   ],
   "source": [
    "y_test"
   ]
  },
  {
   "cell_type": "markdown",
   "metadata": {
    "colab_type": "text",
    "id": "0MqgrHtdUz3p"
   },
   "source": [
    "Split Iris data into train/validation/test sets, _with_ random shuffling"
   ]
  },
  {
   "cell_type": "code",
   "execution_count": 40,
   "metadata": {
    "colab": {},
    "colab_type": "code",
    "id": "LcCr7C3OUZ94"
   },
   "outputs": [],
   "source": [
    "X_train, X_val, X_test, y_train, y_val, y_test = train_validation_test_split(\n",
    "    X, y, shuffle=True)"
   ]
  },
  {
   "cell_type": "markdown",
   "metadata": {
    "colab_type": "text",
    "id": "FJG8yg-bVBqa"
   },
   "source": [
    "Look at the train, validation, and test targets"
   ]
  },
  {
   "cell_type": "code",
   "execution_count": 41,
   "metadata": {
    "colab": {
     "base_uri": "https://localhost:8080/",
     "height": 119
    },
    "colab_type": "code",
    "executionInfo": {
     "elapsed": 34942,
     "status": "ok",
     "timestamp": 1548900114170,
     "user": {
      "displayName": "Rick Clayton",
      "photoUrl": "",
      "userId": "12716789211823472576"
     },
     "user_tz": 480
    },
    "id": "R0gY3R9LUk5t",
    "outputId": "92c7cfa4-ab43-43d5-ae6c-807b28482509"
   },
   "outputs": [
    {
     "data": {
      "text/plain": [
       "array([0, 2, 2, 0, 1, 2, 1, 2, 2, 0, 1, 2, 1, 0, 1, 1, 0, 0, 0, 0, 0, 2,\n",
       "       2, 1, 0, 2, 0, 0, 2, 0, 1, 0, 0, 2, 0, 1, 2, 1, 1, 0, 0, 1, 1, 1,\n",
       "       0, 1, 2, 0, 0, 1, 1, 0, 1, 0, 0, 0, 0, 1, 1, 1, 1, 0, 1, 0, 2, 1,\n",
       "       0, 0, 2, 1, 1, 0, 2, 2, 2, 2, 1, 0, 0, 2, 0, 2, 2, 2, 1, 1, 0, 2,\n",
       "       1, 0, 1, 1, 2, 0, 1, 1, 2, 1, 2, 1, 1, 2, 0, 2, 2, 2, 2, 0, 1, 2,\n",
       "       0, 1, 0, 2, 0, 2, 2, 0, 1])"
      ]
     },
     "execution_count": 41,
     "metadata": {},
     "output_type": "execute_result"
    }
   ],
   "source": [
    "y_train"
   ]
  },
  {
   "cell_type": "code",
   "execution_count": 42,
   "metadata": {
    "colab": {
     "base_uri": "https://localhost:8080/",
     "height": 34
    },
    "colab_type": "code",
    "executionInfo": {
     "elapsed": 34935,
     "status": "ok",
     "timestamp": 1548900114170,
     "user": {
      "displayName": "Rick Clayton",
      "photoUrl": "",
      "userId": "12716789211823472576"
     },
     "user_tz": 480
    },
    "id": "G50zgzBkUuDF",
    "outputId": "a36a81de-d9e5-4771-9944-aa83d7edccfa"
   },
   "outputs": [
    {
     "data": {
      "text/plain": [
       "array([2, 2, 2, 2, 1, 1, 1, 1, 1, 2, 2, 0, 2, 2, 1, 2])"
      ]
     },
     "execution_count": 42,
     "metadata": {},
     "output_type": "execute_result"
    }
   ],
   "source": [
    "y_val"
   ]
  },
  {
   "cell_type": "code",
   "execution_count": 43,
   "metadata": {
    "colab": {
     "base_uri": "https://localhost:8080/",
     "height": 34
    },
    "colab_type": "code",
    "executionInfo": {
     "elapsed": 34928,
     "status": "ok",
     "timestamp": 1548900114170,
     "user": {
      "displayName": "Rick Clayton",
      "photoUrl": "",
      "userId": "12716789211823472576"
     },
     "user_tz": 480
    },
    "id": "hN-767fxUvHF",
    "outputId": "7db19240-1da9-4747-d403-6859b3b2ef27"
   },
   "outputs": [
    {
     "data": {
      "text/plain": [
       "array([0, 1, 1, 0, 2, 1, 0, 2, 2, 2, 0, 1, 0, 2, 0])"
      ]
     },
     "execution_count": 43,
     "metadata": {},
     "output_type": "execute_result"
    }
   ],
   "source": [
    "y_test"
   ]
  },
  {
   "cell_type": "markdown",
   "metadata": {
    "colab_type": "text",
    "id": "a5E-ApbhVK7S"
   },
   "source": [
    "That's better, but there's just not enough data for a three-way split. In fact, there's not much data for a two-way split. The Iris dataset is a rare example where you probably do want to use cross-validation _without_ an independent test set."
   ]
  },
  {
   "cell_type": "markdown",
   "metadata": {
    "colab_type": "text",
    "id": "IlR-JFMz1uJD"
   },
   "source": [
    "## Bank Marketing — shuffled or split by time?"
   ]
  },
  {
   "cell_type": "markdown",
   "metadata": {
    "colab_type": "text",
    "id": "66D5zQJZVsOw"
   },
   "source": [
    "https://archive.ics.uci.edu/ml/datasets/Bank+Marketing\n",
    "\n",
    "The data is related with direct marketing campaigns of a Portuguese banking institution. The marketing campaigns were based on phone calls. Often, more than one contact to the same client was required, in order to access if the product (bank term deposit) would be ('yes') or not ('no') subscribed. \n",
    "\n",
    "bank-additional-full.csv with all examples (41188) and 20 inputs, **ordered by date (from May 2008 to November 2010)**"
   ]
  },
  {
   "cell_type": "code",
   "execution_count": 44,
   "metadata": {
    "colab": {
     "base_uri": "https://localhost:8080/",
     "height": 224
    },
    "colab_type": "code",
    "executionInfo": {
     "elapsed": 36206,
     "status": "ok",
     "timestamp": 1548900115457,
     "user": {
      "displayName": "Rick Clayton",
      "photoUrl": "",
      "userId": "12716789211823472576"
     },
     "user_tz": 480
    },
    "id": "FNu4xmu1Vvtj",
    "outputId": "2829fbc5-a035-45e0-c2e0-6e1e5dde9781"
   },
   "outputs": [
    {
     "name": "stderr",
     "output_type": "stream",
     "text": [
      "'wget' is not recognized as an internal or external command,\n",
      "operable program or batch file.\n"
     ]
    }
   ],
   "source": [
    "#!wget https://archive.ics.uci.edu/ml/machine-learning-databases/00222/bank-additional.zip"
   ]
  },
  {
   "cell_type": "code",
   "execution_count": 45,
   "metadata": {
    "colab": {
     "base_uri": "https://localhost:8080/",
     "height": 153
    },
    "colab_type": "code",
    "executionInfo": {
     "elapsed": 646725,
     "status": "ok",
     "timestamp": 1548900725983,
     "user": {
      "displayName": "Rick Clayton",
      "photoUrl": "",
      "userId": "12716789211823472576"
     },
     "user_tz": 480
    },
    "id": "cGsCdBSoVwZU",
    "outputId": "c1363f00-90d8-4126-9eb7-ac6f2800d038"
   },
   "outputs": [],
   "source": [
    "#!unzip bank-additional.zip"
   ]
  },
  {
   "cell_type": "code",
   "execution_count": 64,
   "metadata": {
    "colab": {
     "base_uri": "https://localhost:8080/",
     "height": 34
    },
    "colab_type": "code",
    "executionInfo": {
     "elapsed": 646711,
     "status": "ok",
     "timestamp": 1548900725983,
     "user": {
      "displayName": "Rick Clayton",
      "photoUrl": "",
      "userId": "12716789211823472576"
     },
     "user_tz": 480
    },
    "id": "FmtEAZeWVx6B",
    "outputId": "86987ca0-d3f9-4b90-8c7d-5dfc02a56bcc"
   },
   "outputs": [],
   "source": [
    "#%cd bank-additional"
   ]
  },
  {
   "cell_type": "code",
   "execution_count": 74,
   "metadata": {
    "colab": {},
    "colab_type": "code",
    "id": "8ucARvXRV2VG"
   },
   "outputs": [
    {
     "data": {
      "text/html": [
       "<div>\n",
       "<style scoped>\n",
       "    .dataframe tbody tr th:only-of-type {\n",
       "        vertical-align: middle;\n",
       "    }\n",
       "\n",
       "    .dataframe tbody tr th {\n",
       "        vertical-align: top;\n",
       "    }\n",
       "\n",
       "    .dataframe thead th {\n",
       "        text-align: right;\n",
       "    }\n",
       "</style>\n",
       "<table border=\"1\" class=\"dataframe\">\n",
       "  <thead>\n",
       "    <tr style=\"text-align: right;\">\n",
       "      <th></th>\n",
       "      <th>age</th>\n",
       "      <th>job</th>\n",
       "      <th>marital</th>\n",
       "      <th>education</th>\n",
       "      <th>default</th>\n",
       "      <th>housing</th>\n",
       "      <th>loan</th>\n",
       "      <th>contact</th>\n",
       "      <th>month</th>\n",
       "      <th>day_of_week</th>\n",
       "      <th>...</th>\n",
       "      <th>campaign</th>\n",
       "      <th>pdays</th>\n",
       "      <th>previous</th>\n",
       "      <th>poutcome</th>\n",
       "      <th>emp.var.rate</th>\n",
       "      <th>cons.price.idx</th>\n",
       "      <th>cons.conf.idx</th>\n",
       "      <th>euribor3m</th>\n",
       "      <th>nr.employed</th>\n",
       "      <th>y</th>\n",
       "    </tr>\n",
       "  </thead>\n",
       "  <tbody>\n",
       "    <tr>\n",
       "      <th>0</th>\n",
       "      <td>30</td>\n",
       "      <td>blue-collar</td>\n",
       "      <td>married</td>\n",
       "      <td>basic.9y</td>\n",
       "      <td>no</td>\n",
       "      <td>yes</td>\n",
       "      <td>no</td>\n",
       "      <td>cellular</td>\n",
       "      <td>may</td>\n",
       "      <td>fri</td>\n",
       "      <td>...</td>\n",
       "      <td>2</td>\n",
       "      <td>999</td>\n",
       "      <td>0</td>\n",
       "      <td>nonexistent</td>\n",
       "      <td>-1.8</td>\n",
       "      <td>92.893</td>\n",
       "      <td>-46.2</td>\n",
       "      <td>1.313</td>\n",
       "      <td>5099.1</td>\n",
       "      <td>no</td>\n",
       "    </tr>\n",
       "    <tr>\n",
       "      <th>1</th>\n",
       "      <td>39</td>\n",
       "      <td>services</td>\n",
       "      <td>single</td>\n",
       "      <td>high.school</td>\n",
       "      <td>no</td>\n",
       "      <td>no</td>\n",
       "      <td>no</td>\n",
       "      <td>telephone</td>\n",
       "      <td>may</td>\n",
       "      <td>fri</td>\n",
       "      <td>...</td>\n",
       "      <td>4</td>\n",
       "      <td>999</td>\n",
       "      <td>0</td>\n",
       "      <td>nonexistent</td>\n",
       "      <td>1.1</td>\n",
       "      <td>93.994</td>\n",
       "      <td>-36.4</td>\n",
       "      <td>4.855</td>\n",
       "      <td>5191.0</td>\n",
       "      <td>no</td>\n",
       "    </tr>\n",
       "    <tr>\n",
       "      <th>2</th>\n",
       "      <td>25</td>\n",
       "      <td>services</td>\n",
       "      <td>married</td>\n",
       "      <td>high.school</td>\n",
       "      <td>no</td>\n",
       "      <td>yes</td>\n",
       "      <td>no</td>\n",
       "      <td>telephone</td>\n",
       "      <td>jun</td>\n",
       "      <td>wed</td>\n",
       "      <td>...</td>\n",
       "      <td>1</td>\n",
       "      <td>999</td>\n",
       "      <td>0</td>\n",
       "      <td>nonexistent</td>\n",
       "      <td>1.4</td>\n",
       "      <td>94.465</td>\n",
       "      <td>-41.8</td>\n",
       "      <td>4.962</td>\n",
       "      <td>5228.1</td>\n",
       "      <td>no</td>\n",
       "    </tr>\n",
       "    <tr>\n",
       "      <th>3</th>\n",
       "      <td>38</td>\n",
       "      <td>services</td>\n",
       "      <td>married</td>\n",
       "      <td>basic.9y</td>\n",
       "      <td>no</td>\n",
       "      <td>unknown</td>\n",
       "      <td>unknown</td>\n",
       "      <td>telephone</td>\n",
       "      <td>jun</td>\n",
       "      <td>fri</td>\n",
       "      <td>...</td>\n",
       "      <td>3</td>\n",
       "      <td>999</td>\n",
       "      <td>0</td>\n",
       "      <td>nonexistent</td>\n",
       "      <td>1.4</td>\n",
       "      <td>94.465</td>\n",
       "      <td>-41.8</td>\n",
       "      <td>4.959</td>\n",
       "      <td>5228.1</td>\n",
       "      <td>no</td>\n",
       "    </tr>\n",
       "    <tr>\n",
       "      <th>4</th>\n",
       "      <td>47</td>\n",
       "      <td>admin.</td>\n",
       "      <td>married</td>\n",
       "      <td>university.degree</td>\n",
       "      <td>no</td>\n",
       "      <td>yes</td>\n",
       "      <td>no</td>\n",
       "      <td>cellular</td>\n",
       "      <td>nov</td>\n",
       "      <td>mon</td>\n",
       "      <td>...</td>\n",
       "      <td>1</td>\n",
       "      <td>999</td>\n",
       "      <td>0</td>\n",
       "      <td>nonexistent</td>\n",
       "      <td>-0.1</td>\n",
       "      <td>93.200</td>\n",
       "      <td>-42.0</td>\n",
       "      <td>4.191</td>\n",
       "      <td>5195.8</td>\n",
       "      <td>no</td>\n",
       "    </tr>\n",
       "  </tbody>\n",
       "</table>\n",
       "<p>5 rows × 21 columns</p>\n",
       "</div>"
      ],
      "text/plain": [
       "   age          job  marital          education default  housing     loan  \\\n",
       "0   30  blue-collar  married           basic.9y      no      yes       no   \n",
       "1   39     services   single        high.school      no       no       no   \n",
       "2   25     services  married        high.school      no      yes       no   \n",
       "3   38     services  married           basic.9y      no  unknown  unknown   \n",
       "4   47       admin.  married  university.degree      no      yes       no   \n",
       "\n",
       "     contact month day_of_week ...  campaign  pdays  previous     poutcome  \\\n",
       "0   cellular   may         fri ...         2    999         0  nonexistent   \n",
       "1  telephone   may         fri ...         4    999         0  nonexistent   \n",
       "2  telephone   jun         wed ...         1    999         0  nonexistent   \n",
       "3  telephone   jun         fri ...         3    999         0  nonexistent   \n",
       "4   cellular   nov         mon ...         1    999         0  nonexistent   \n",
       "\n",
       "  emp.var.rate  cons.price.idx  cons.conf.idx  euribor3m  nr.employed   y  \n",
       "0         -1.8          92.893          -46.2      1.313       5099.1  no  \n",
       "1          1.1          93.994          -36.4      4.855       5191.0  no  \n",
       "2          1.4          94.465          -41.8      4.962       5228.1  no  \n",
       "3          1.4          94.465          -41.8      4.959       5228.1  no  \n",
       "4         -0.1          93.200          -42.0      4.191       5195.8  no  \n",
       "\n",
       "[5 rows x 21 columns]"
      ]
     },
     "execution_count": 74,
     "metadata": {},
     "output_type": "execute_result"
    }
   ],
   "source": [
    "bank = pd.read_csv('bank-additional.csv', sep = ';')\n",
    "\n",
    "X = bank.drop(columns='y')\n",
    "y = bank['y'] == 'yes'\n",
    "bank.head()"
   ]
  },
  {
   "cell_type": "markdown",
   "metadata": {
    "colab_type": "text",
    "id": "dLpHSzvOV7VV"
   },
   "source": [
    "### Shuffled split?"
   ]
  },
  {
   "cell_type": "code",
   "execution_count": 75,
   "metadata": {
    "colab": {},
    "colab_type": "code",
    "id": "o73gJvtCWEEP"
   },
   "outputs": [],
   "source": [
    "X_train, X_val, X_test, y_train, y_val, y_test = train_validation_test_split(\n",
    "    X, y, shuffle=True)"
   ]
  },
  {
   "cell_type": "code",
   "execution_count": 76,
   "metadata": {
    "colab": {
     "base_uri": "https://localhost:8080/",
     "height": 34
    },
    "colab_type": "code",
    "executionInfo": {
     "elapsed": 646982,
     "status": "ok",
     "timestamp": 1548900726274,
     "user": {
      "displayName": "Rick Clayton",
      "photoUrl": "",
      "userId": "12716789211823472576"
     },
     "user_tz": 480
    },
    "id": "-1uTNhM1WHzY",
    "outputId": "a240037f-7211-4a59-faa7-245a8b6c31d1"
   },
   "outputs": [
    {
     "data": {
      "text/plain": [
       "[(3295, 20), (412, 20), (412, 20), (3295,), (412,), (412,)]"
      ]
     },
     "execution_count": 76,
     "metadata": {},
     "output_type": "execute_result"
    }
   ],
   "source": [
    "[array.shape for array in (X_train, X_val, X_test, y_train, y_val, y_test)]"
   ]
  },
  {
   "cell_type": "code",
   "execution_count": 77,
   "metadata": {
    "colab": {
     "base_uri": "https://localhost:8080/",
     "height": 34
    },
    "colab_type": "code",
    "executionInfo": {
     "elapsed": 646975,
     "status": "ok",
     "timestamp": 1548900726275,
     "user": {
      "displayName": "Rick Clayton",
      "photoUrl": "",
      "userId": "12716789211823472576"
     },
     "user_tz": 480
    },
    "id": "qLOpqjRnWIYG",
    "outputId": "8fbee885-9d45-4f55-8b7f-6c2b6eb59811"
   },
   "outputs": [
    {
     "data": {
      "text/plain": [
       "(0.10500758725341426, 0.13592233009708737, 0.11893203883495146)"
      ]
     },
     "execution_count": 77,
     "metadata": {},
     "output_type": "execute_result"
    }
   ],
   "source": [
    "y_train.mean(), y_val.mean(), y_test.mean()"
   ]
  },
  {
   "cell_type": "markdown",
   "metadata": {
    "colab_type": "text",
    "id": "FmyRVRrhWP9W"
   },
   "source": [
    "### Split by time?"
   ]
  },
  {
   "cell_type": "code",
   "execution_count": 78,
   "metadata": {
    "colab": {},
    "colab_type": "code",
    "id": "PJMAPBolWUFs"
   },
   "outputs": [],
   "source": [
    "X_train, X_val, X_test, y_train, y_val, y_test = train_validation_test_split(\n",
    "    X, y, shuffle=False)"
   ]
  },
  {
   "cell_type": "code",
   "execution_count": 79,
   "metadata": {
    "colab": {
     "base_uri": "https://localhost:8080/",
     "height": 34
    },
    "colab_type": "code",
    "executionInfo": {
     "elapsed": 646965,
     "status": "ok",
     "timestamp": 1548900726279,
     "user": {
      "displayName": "Rick Clayton",
      "photoUrl": "",
      "userId": "12716789211823472576"
     },
     "user_tz": 480
    },
    "id": "vbw2Sg-JWU-b",
    "outputId": "a1a8f21f-979b-47fa-b327-e876124808f4"
   },
   "outputs": [
    {
     "data": {
      "text/plain": [
       "[(3295, 20), (412, 20), (412, 20), (3295,), (412,), (412,)]"
      ]
     },
     "execution_count": 79,
     "metadata": {},
     "output_type": "execute_result"
    }
   ],
   "source": [
    "[array.shape for array in (X_train, X_val, X_test, y_train, y_val, y_test)]"
   ]
  },
  {
   "cell_type": "code",
   "execution_count": 80,
   "metadata": {
    "colab": {
     "base_uri": "https://localhost:8080/",
     "height": 34
    },
    "colab_type": "code",
    "executionInfo": {
     "elapsed": 646959,
     "status": "ok",
     "timestamp": 1548900726280,
     "user": {
      "displayName": "Rick Clayton",
      "photoUrl": "",
      "userId": "12716789211823472576"
     },
     "user_tz": 480
    },
    "id": "QF7DiZbFWWGo",
    "outputId": "3de1d8e2-02ad-4594-a187-44b81848a759"
   },
   "outputs": [
    {
     "data": {
      "text/plain": [
       "(0.1125948406676783, 0.10194174757281553, 0.09223300970873786)"
      ]
     },
     "execution_count": 80,
     "metadata": {},
     "output_type": "execute_result"
    }
   ],
   "source": [
    "y_train.mean(), y_val.mean(), y_test.mean()"
   ]
  },
  {
   "cell_type": "code",
   "execution_count": 81,
   "metadata": {
    "colab": {
     "base_uri": "https://localhost:8080/",
     "height": 269
    },
    "colab_type": "code",
    "executionInfo": {
     "elapsed": 647309,
     "status": "ok",
     "timestamp": 1548900726638,
     "user": {
      "displayName": "Rick Clayton",
      "photoUrl": "",
      "userId": "12716789211823472576"
     },
     "user_tz": 480
    },
    "id": "7rWfygKtWZPg",
    "outputId": "66ff68bb-00cd-4c3c-83ca-28cf28050e01"
   },
   "outputs": [
    {
     "data": {
      "image/png": "[encoded data removed]",
      "text/plain": [
       "<Figure size 432x288 with 1 Axes>"
      ]
     },
     "metadata": {
      "needs_background": "light"
     },
     "output_type": "display_data"
    }
   ],
   "source": [
    "y.rolling(500).mean().plot();"
   ]
  },
  {
   "cell_type": "markdown",
   "metadata": {
    "colab_type": "text",
    "id": "uD3xRARIWbnW"
   },
   "source": [
    "***The \"right\" choice here is unclear, but either way, it will make a big difference!***"
   ]
  },
  {
   "cell_type": "markdown",
   "metadata": {
    "colab_type": "text",
    "id": "Ibhax45nNcDJ"
   },
   "source": [
    "# ASSIGNMENT options\n",
    "\n",
    "- Replicate the lesson code. [Do it \"the hard way\" or with the \"Benjamin Franklin method.\"](https://docs.google.com/document/d/1ubOw9B3Hfip27hF2ZFnW3a3z9xAgrUDRReOEo-FHCVs/edit)\n",
    "- Apply the lesson to other datasets you've worked with before, and compare results.\n",
    "- Choose how to split the Bank Marketing dataset. Train and validate baseline models. _Is there a feature you should remove, to prevent \"leakage\"?_\n",
    "- Get weather data for your own area and calculate both baselines.  _\"One (persistence) predicts that the weather tomorrow is going to be whatever it was today. The other (climatology) predicts whatever the average historical weather has been on this day from prior years.\"_ What is the mean absolute error for each baseline? What if you average the two together? \n",
    "- When would this notebook's pipelines fail? How could you fix them? Add more [preprocessing](https://scikit-learn.org/stable/modules/preprocessing.html) and [imputation](https://scikit-learn.org/stable/modules/impute.html) to your [pipelines](https://scikit-learn.org/stable/modules/compose.html) with scikit-learn.\n",
    "- [This example from scikit-learn documentation](https://scikit-learn.org/stable/auto_examples/compose/plot_column_transformer_mixed_types.html) demonstrates its improved `OneHotEncoder` and new `ColumnTransformer` objects, which can replace functionality from [third-party libraries](https://github.com/scikit-learn-contrib) like category_encoders and sklearn-pandas. Adapt this example, which uses Titanic data, to work with another dataset.\n",
    "\n",
    "\n",
    "\n",
    "\n"
   ]
  },
  {
   "cell_type": "code",
   "execution_count": null,
   "metadata": {
    "colab": {
     "base_uri": "https://localhost:8080/",
     "height": 359
    },
    "colab_type": "code",
    "executionInfo": {
     "elapsed": 647434,
     "status": "ok",
     "timestamp": 1548900726772,
     "user": {
      "displayName": "Rick Clayton",
      "photoUrl": "",
      "userId": "12716789211823472576"
     },
     "user_tz": 480
    },
    "id": "37dxPmV7RXPQ",
    "outputId": "65cb4d04-e6a3-4093-e54d-f47b481e53be"
   },
   "outputs": [],
   "source": [
    "r_url = 'https://raw.githubusercontent.com/rick1270/Data/master/Richardson%20Climate.csv'\n",
    "r_weather = pd.read_csv(r_url)\n",
    "r_weather.drop(['STATION', 'NAME', 'TMAX_ATTRIBUTES', 'TMIN_ATTRIBUTES', 'TOBS', 'TOBS_ATTRIBUTES'], axis = 1, inplace = True)\n",
    "r_weather.sample(10)"
   ]
  },
  {
   "cell_type": "code",
   "execution_count": null,
   "metadata": {
    "colab": {
     "base_uri": "https://localhost:8080/",
     "height": 297
    },
    "colab_type": "code",
    "executionInfo": {
     "elapsed": 647428,
     "status": "ok",
     "timestamp": 1548900726773,
     "user": {
      "displayName": "Rick Clayton",
      "photoUrl": "",
      "userId": "12716789211823472576"
     },
     "user_tz": 480
    },
    "id": "KfCkb3fMRsPz",
    "outputId": "1ea63ee4-d9b4-45fc-a2e0-cca2ce8b79cd"
   },
   "outputs": [],
   "source": [
    "\n",
    "r_weather.describe()"
   ]
  },
  {
   "cell_type": "code",
   "execution_count": null,
   "metadata": {
    "colab": {
     "base_uri": "https://localhost:8080/",
     "height": 153
    },
    "colab_type": "code",
    "executionInfo": {
     "elapsed": 647549,
     "status": "ok",
     "timestamp": 1548900726904,
     "user": {
      "displayName": "Rick Clayton",
      "photoUrl": "",
      "userId": "12716789211823472576"
     },
     "user_tz": 480
    },
    "id": "hGHtTCQzY7lY",
    "outputId": "3ff7d435-e12e-47d5-b83b-0e7c7d792049"
   },
   "outputs": [],
   "source": [
    "print(r_weather.isna().sum())\n",
    "r_weather.dropna(axis=0, how='any', inplace=True)\n",
    "\n",
    "r_weather.isna().sum()"
   ]
  },
  {
   "cell_type": "code",
   "execution_count": null,
   "metadata": {
    "colab": {
     "base_uri": "https://localhost:8080/",
     "height": 34
    },
    "colab_type": "code",
    "executionInfo": {
     "elapsed": 647537,
     "status": "ok",
     "timestamp": 1548900726904,
     "user": {
      "displayName": "Rick Clayton",
      "photoUrl": "",
      "userId": "12716789211823472576"
     },
     "user_tz": 480
    },
    "id": "VVtNGn9FGJ0U",
    "outputId": "4bed6611-5a2c-4ecb-fc27-7525c0f3e065"
   },
   "outputs": [],
   "source": [
    "r_weather['DATE'] = pd.to_datetime(r_weather['DATE'])\n",
    "mask = (r_weather['DATE'] > '2010-1-1') & (r_weather['DATE'] <= '2018-12-31')\n",
    "slice_weather = r_weather.loc[mask]\n",
    "slice_weather\n",
    "r_weather.shape\n"
   ]
  },
  {
   "cell_type": "code",
   "execution_count": null,
   "metadata": {
    "colab": {
     "base_uri": "https://localhost:8080/",
     "height": 357
    },
    "colab_type": "code",
    "executionInfo": {
     "elapsed": 648139,
     "status": "ok",
     "timestamp": 1548900727518,
     "user": {
      "displayName": "Rick Clayton",
      "photoUrl": "",
      "userId": "12716789211823472576"
     },
     "user_tz": 480
    },
    "id": "fDm2l4RGaY3T",
    "outputId": "c1f5d3af-de4a-45c9-a4ae-83738a4032f4"
   },
   "outputs": [],
   "source": [
    "plt.figure(figsize=(30,5))\n",
    "plt.plot(slice_weather['DATE'], slice_weather['TMAX'])\n"
   ]
  },
  {
   "cell_type": "code",
   "execution_count": null,
   "metadata": {
    "colab": {
     "base_uri": "https://localhost:8080/",
     "height": 34
    },
    "colab_type": "code",
    "executionInfo": {
     "elapsed": 648130,
     "status": "ok",
     "timestamp": 1548900727519,
     "user": {
      "displayName": "Rick Clayton",
      "photoUrl": "",
      "userId": "12716789211823472576"
     },
     "user_tz": 480
    },
    "id": "dPb6w9KQKXUa",
    "outputId": "62dbb18e-0c29-4883-cf45-14bd0f936f80"
   },
   "outputs": [],
   "source": [
    "average_tmax = [r_weather['TMAX'].mean()]*len(r_weather)\n",
    "print('average_tmax error= ' + str(mean_absolute_error(r_weather['TMAX'], average_tmax)))"
   ]
  },
  {
   "cell_type": "code",
   "execution_count": null,
   "metadata": {
    "colab": {
     "base_uri": "https://localhost:8080/",
     "height": 34
    },
    "colab_type": "code",
    "executionInfo": {
     "elapsed": 648124,
     "status": "ok",
     "timestamp": 1548900727520,
     "user": {
      "displayName": "Rick Clayton",
      "photoUrl": "",
      "userId": "12716789211823472576"
     },
     "user_tz": 480
    },
    "id": "qPRKjaAAMU0k",
    "outputId": "353e8928-43d7-4b91-9aff-2d4c0925c915"
   },
   "outputs": [],
   "source": [
    "r_weather['TMAX_SHIFT1'] = r_weather['TMAX'].shift(1)\n",
    "r_weather.dropna(inplace=True)\n",
    "print('shift_tmax error= ' + str(mean_absolute_error(r_weather['TMAX'], r_weather['TMAX_SHIFT1'])))"
   ]
  },
  {
   "cell_type": "code",
   "execution_count": null,
   "metadata": {
    "colab": {
     "base_uri": "https://localhost:8080/",
     "height": 221
    },
    "colab_type": "code",
    "executionInfo": {
     "elapsed": 648115,
     "status": "ok",
     "timestamp": 1548900727520,
     "user": {
      "displayName": "Rick Clayton",
      "photoUrl": "",
      "userId": "12716789211823472576"
     },
     "user_tz": 480
    },
    "id": "gvkJoM0nuxyb",
    "outputId": "a8ffd001-7d69-4ef8-c16c-aeae1c9dea22"
   },
   "outputs": [],
   "source": [
    "r_weather['MONTH'] = pd.DatetimeIndex(r_weather['DATE']).month\n",
    "print(r_weather.shape)\n",
    "r_weather.head()"
   ]
  },
  {
   "cell_type": "code",
   "execution_count": null,
   "metadata": {
    "colab": {
     "base_uri": "https://localhost:8080/",
     "height": 34
    },
    "colab_type": "code",
    "executionInfo": {
     "elapsed": 266,
     "status": "ok",
     "timestamp": 1548901078873,
     "user": {
      "displayName": "Rick Clayton",
      "photoUrl": "",
      "userId": "12716789211823472576"
     },
     "user_tz": 480
    },
    "id": "18EuzvyRW6U4",
    "outputId": "3dbd507e-6941-451f-f0c8-8c1e2bada719"
   },
   "outputs": [],
   "source": [
    "X = r_weather[['MONTH', 'TMAX_SHIFT1']]\n",
    "y = r_weather['TMAX']\n",
    "X_train, X_test, y_train, y_test = train_test_split(X, y, random_state = 43)\n",
    "X_train.shape, X_test.shape, y_train.shape, y_test.shape"
   ]
  },
  {
   "cell_type": "code",
   "execution_count": null,
   "metadata": {
    "colab": {},
    "colab_type": "code",
    "id": "qjG8u7uqe9EK"
   },
   "outputs": [],
   "source": [
    "X_train"
   ]
  },
  {
   "cell_type": "code",
   "execution_count": null,
   "metadata": {
    "colab": {
     "base_uri": "https://localhost:8080/",
     "height": 122
    },
    "colab_type": "code",
    "executionInfo": {
     "elapsed": 988,
     "status": "ok",
     "timestamp": 1548901085377,
     "user": {
      "displayName": "Rick Clayton",
      "photoUrl": "",
      "userId": "12716789211823472576"
     },
     "user_tz": 480
    },
    "id": "747EG71ScppI",
    "outputId": "7e730d9b-5530-460e-eb73-9047a3b3bb76"
   },
   "outputs": [],
   "source": [
    "model = LogisticRegression()\n",
    "model.fit(X_train, y_train)\n",
    "y_pred = model.predict(X_test)\n",
    "accuracy_score(y_test, y_pred)"
   ]
  },
  {
   "cell_type": "code",
   "execution_count": null,
   "metadata": {
    "colab": {
     "base_uri": "https://localhost:8080/",
     "height": 34
    },
    "colab_type": "code",
    "executionInfo": {
     "elapsed": 267,
     "status": "ok",
     "timestamp": 1548900930170,
     "user": {
      "displayName": "Rick Clayton",
      "photoUrl": "",
      "userId": "12716789211823472576"
     },
     "user_tz": 480
    },
    "id": "fQmEwtPGm6Ux",
    "outputId": "6ace75d7-087a-4911-cb47-c3c73d640ac5"
   },
   "outputs": [],
   "source": [
    "y_pred.min()"
   ]
  },
  {
   "cell_type": "code",
   "execution_count": null,
   "metadata": {
    "colab": {},
    "colab_type": "code",
    "id": "vIKl4QNDm9Gd"
   },
   "outputs": [],
   "source": []
  }
 ],
 "metadata": {
  "colab": {
   "collapsed_sections": [],
   "name": "RClayton_LS_DS_241_Begin_modeling_process.ipynb",
   "provenance": [
    {
     "file_id": "1GRXeCKmsTVrrCoqCJXd4HDBJ2noWqFbE",
     "timestamp": 1548709336421
    },
    {
     "file_id": "1aZ3GdcrDPnKlEf1p9uIMROpj7qthMof9",
     "timestamp": 1548694326468
    }
   ],
   "version": "0.3.2"
  },
  "kernelspec": {
   "display_name": "Python 3",
   "language": "python",
   "name": "python3"
  },
  "language_info": {
   "codemirror_mode": {
    "name": "ipython",
    "version": 3
   },
   "file_extension": ".py",
   "mimetype": "text/x-python",
   "name": "python",
   "nbconvert_exporter": "python",
   "pygments_lexer": "ipython3",
   "version": "3.7.0"
  }
 },
 "nbformat": 4,
 "nbformat_minor": 1
}
