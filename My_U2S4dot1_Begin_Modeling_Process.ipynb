{
  "nbformat": 4,
  "nbformat_minor": 0,
  "metadata": {
    "colab": {
      "name": "My_U2S4dot1_Begin_Modeling_Process.ipynb",
      "version": "0.3.2",
      "provenance": [],
      "collapsed_sections": [],
      "include_colab_link": true
    },
    "kernelspec": {
      "name": "python3",
      "display_name": "Python 3"
    }
  },
  "cells": [
    {
      "cell_type": "markdown",
      "metadata": {
        "id": "view-in-github",
        "colab_type": "text"
      },
      "source": [
        "<a href=\"https://colab.research.google.com/github/wel51x/DS-Unit-2-Sprint-4-Model-Validation/blob/master/My_U2S4dot1_Begin_Modeling_Process.ipynb\" target=\"_parent\"><img src=\"https://colab.research.google.com/assets/colab-badge.svg\" alt=\"Open In Colab\"/></a>"
      ]
    },
    {
      "cell_type": "markdown",
      "metadata": {
        "id": "dOdCkKKdx_Fq",
        "colab_type": "text"
      },
      "source": [
        "_Lambda School Data Science — Model Validation_ \n",
        "\n",
        "# Begin the modeling process\n",
        "\n",
        "Objectives\n",
        "- Train/Validate/Test split\n",
        "- Cross-Validation\n",
        "- Begin with baselines"
      ]
    },
    {
      "cell_type": "markdown",
      "metadata": {
        "id": "UJBBzSCmKtoC",
        "colab_type": "text"
      },
      "source": [
        "## Why care about model validation?"
      ]
    },
    {
      "cell_type": "markdown",
      "metadata": {
        "id": "GenzpPA2Z_dt",
        "colab_type": "text"
      },
      "source": [
        "Rachel Thomas, [How (and why) to create a good validation set](https://www.fast.ai/2017/11/13/validation-sets/)\n",
        "\n",
        "> An all-too-common scenario: a seemingly impressive machine learning model is a complete failure when implemented in production. The fallout includes leaders who are now skeptical of machine learning and reluctant to try it again. How can this happen?\n",
        "\n",
        "> One of the most likely culprits for this disconnect between results in development vs results in production is a poorly chosen validation set (or even worse, no validation set at all). "
      ]
    },
    {
      "cell_type": "markdown",
      "metadata": {
        "id": "YRu59wbmLMBa",
        "colab_type": "text"
      },
      "source": [
        "Owen Zhang, [Winning Data Science Competitions](https://www.slideshare.net/OwenZhang2/tips-for-data-science-competitions/8)\n",
        "\n",
        "> Good validation is _more important_ than good models. "
      ]
    },
    {
      "cell_type": "markdown",
      "metadata": {
        "id": "3dHlyVq2KNZY",
        "colab_type": "text"
      },
      "source": [
        "James, Witten, Hastie, Tibshirani, [An Introduction to Statistical Learning](http://www-bcf.usc.edu/~gareth/ISL/), Chapter 2.2, Assessing Model Accuracy\n",
        "\n",
        "> In general, we do not really care how well the method works training on the training data. Rather, _we are interested in the accuracy of the predictions that we obtain when we apply our method to previously unseen test data._ Why is this what we care about? \n",
        "\n",
        "> Suppose that we are interested test data in developing an algorithm to predict a stock’s price based on previous stock returns. We can train the method using stock returns from the past 6 months. But we don’t really care how well our method predicts last week’s stock price. We instead care about how well it will predict tomorrow’s price or next month’s price. \n",
        "\n",
        "> On a similar note, suppose that we have clinical measurements (e.g. weight, blood pressure, height, age, family history of disease) for a number of patients, as well as information about whether each patient has diabetes. We can use these patients to train a statistical learning method to predict risk of diabetes based on clinical measurements. In practice, we want this method to accurately predict diabetes risk for _future patients_ based on their clinical measurements. We are not very interested in whether or not the method accurately predicts diabetes risk for patients used to train the model, since we already know which of those patients have diabetes."
      ]
    },
    {
      "cell_type": "markdown",
      "metadata": {
        "id": "JgayVUFCyC7f",
        "colab_type": "text"
      },
      "source": [
        "### We'll look at 4 methods of model validation\n",
        "\n",
        "- Performance estimation\n",
        "  - 2-way holdout method (**train/test split**)\n",
        "  - (Repeated) k-fold **cross-validation without independent test set** \n",
        "- Model selection (hyperparameter optimization) and performance estimation ← ***We usually want to do this***\n",
        "  - 3-way holdout method (**train/validation/test split**)\n",
        "  - (Repeated) k-fold **cross-validation with independent test set**\n",
        "  \n",
        "<img src=\"https://sebastianraschka.com/images/blog/2018/model-evaluation-selection-part4/model-eval-conclusions.jpg\" width=\"600\">\n",
        "\n",
        "Source: https://sebastianraschka.com/blog/2018/model-evaluation-selection-part4.html"
      ]
    },
    {
      "cell_type": "markdown",
      "metadata": {
        "id": "X0OFS5mjRTm9",
        "colab_type": "text"
      },
      "source": [
        "## Why begin with baselines?"
      ]
    },
    {
      "cell_type": "markdown",
      "metadata": {
        "id": "O8wqAD-E3Dhf",
        "colab_type": "text"
      },
      "source": [
        "[My mentor](https://www.linkedin.com/in/jason-sanchez-62093847/) [taught me](https://youtu.be/0GrciaGYzV0?t=40s):\n",
        "\n",
        ">***Your first goal should always, always, always be getting a generalized prediction as fast as possible.*** You shouldn't spend a lot of time trying to tune your model, trying to add features, trying to engineer features, until you've actually gotten one prediction, at least. \n",
        "\n",
        "> The reason why that's a really good thing is because then ***you'll set a benchmark*** for yourself, and you'll be able to directly see how much effort you put in translates to a better prediction. \n",
        "\n",
        "> What you'll find by working on many models: some effort you put in, actually has very little effect on how well your final model does at predicting new observations. Whereas some very easy changes actually have a lot of effect. And so you get better at allocating your time more effectively.\n",
        "\n",
        "My mentor's advice is echoed and elaborated in several sources:\n",
        "\n",
        "[Always start with a stupid model, no exceptions](https://blog.insightdatascience.com/always-start-with-a-stupid-model-no-exceptions-3a22314b9aaa)\n",
        "\n",
        "> Why start with a baseline? A baseline will take you less than 1/10th of the time, and could provide up to 90% of the results. A baseline puts a more complex model into context. Baselines are easy to deploy.\n",
        "\n",
        "[Measure Once, Cut Twice: Moving Towards Iteration in Data Science](https://blog.datarobot.com/measure-once-cut-twice-moving-towards-iteration-in-data-science)\n",
        "\n",
        "> The iterative approach in data science starts with emphasizing the importance of getting to a first model quickly, rather than starting with the variables and features. Once the first model is built, the work then steadily focuses on continual improvement.\n",
        "\n",
        "[*Data Science for Business*](https://books.google.com/books?id=4ZctAAAAQBAJ&pg=PT276), Chapter 7.3: Evaluation, Baseline Performance, and Implications for Investments in Data\n",
        "\n",
        "> *Consider carefully what would be a reasonable baseline against which to compare model performance.* This is important for the data science team in order to understand whether they indeed are improving performance, and is equally important for demonstrating to stakeholders that mining the data has added value."
      ]
    },
    {
      "cell_type": "markdown",
      "metadata": {
        "id": "89PieuUx0fbN",
        "colab_type": "text"
      },
      "source": [
        "## Baseline is an overloaded term\n",
        "\n",
        "Baseline has multiple meanings, as discussed in the links above.\n",
        "\n",
        "#### The score you'd get by guessing a single value\n",
        "\n",
        "> A baseline for classification can be the most common class in the training dataset.\n",
        "\n",
        "> A baseline for regression can be the mean of the training labels. —[Will Koehrsen](https://twitter.com/koehrsen_will/status/1088863527778111488)\n",
        "\n",
        "#### The score you'd get by guessing in a more granular way\n",
        "\n",
        "> A baseline for time-series regressions can be the value from the previous timestep.\n",
        "\n",
        "#### Fast, first models that beat guessing\n",
        "\n",
        "What my mentor was talking about.\n",
        "\n",
        "#### Complete, tuned \"simpler\" model\n",
        "\n",
        "Can be simpler mathematically and computationally. For example, Logistic Regression versus Deep Learning.\n",
        "\n",
        "Or can be simpler for the data scientist, with less work. For example, a model with less feature engineering versus a model with more feature engineering.\n",
        "\n",
        "#### Minimum performance that \"matters\"\n",
        "\n",
        "To go to production and get business value.\n",
        "\n",
        "#### Human-level performance \n",
        "\n",
        "Your goal may to be match, or nearly match, human performance, but with better speed, cost, or consistency.\n",
        "\n",
        "Or your goal may to be exceed human performance.\n"
      ]
    },
    {
      "cell_type": "markdown",
      "metadata": {
        "id": "EdHSPwdZx3nI",
        "colab_type": "text"
      },
      "source": [
        "## Weather data —  mean baseline\n",
        "\n",
        "Let's try baselines for regression.\n",
        "\n",
        "You can [get Past Weather by Zip Code from Climate.gov](https://www.climate.gov/maps-data/dataset/past-weather-zip-code-data-table). I downloaded the data for my town: Normal, Illinois."
      ]
    },
    {
      "cell_type": "code",
      "metadata": {
        "id": "2O3o-fTgx-93",
        "colab_type": "code",
        "outputId": "b9224aa6-5f2b-4d12-bf89-691bfaab6ea3",
        "colab": {
          "base_uri": "https://localhost:8080/",
          "height": 328
        }
      },
      "source": [
        "%matplotlib inline\n",
        "import matplotlib.pyplot as plt\n",
        "import pandas as pd \n",
        "\n",
        "url = 'https://raw.githubusercontent.com/rrherr/baselines/master/weather/weather-normal-il.csv'\n",
        "weather = pd.read_csv(url, parse_dates=['DATE']).set_index('DATE')\n",
        "weather.sample(8)"
      ],
      "execution_count": 6,
      "outputs": [
        {
          "output_type": "execute_result",
          "data": {
            "text/html": [
              "<div>\n",
              "<style scoped>\n",
              "    .dataframe tbody tr th:only-of-type {\n",
              "        vertical-align: middle;\n",
              "    }\n",
              "\n",
              "    .dataframe tbody tr th {\n",
              "        vertical-align: top;\n",
              "    }\n",
              "\n",
              "    .dataframe thead th {\n",
              "        text-align: right;\n",
              "    }\n",
              "</style>\n",
              "<table border=\"1\" class=\"dataframe\">\n",
              "  <thead>\n",
              "    <tr style=\"text-align: right;\">\n",
              "      <th></th>\n",
              "      <th>STATION</th>\n",
              "      <th>NAME</th>\n",
              "      <th>LATITUDE</th>\n",
              "      <th>LONGITUDE</th>\n",
              "      <th>ELEVATION</th>\n",
              "      <th>PRCP</th>\n",
              "      <th>TMAX</th>\n",
              "      <th>TMIN</th>\n",
              "    </tr>\n",
              "    <tr>\n",
              "      <th>DATE</th>\n",
              "      <th></th>\n",
              "      <th></th>\n",
              "      <th></th>\n",
              "      <th></th>\n",
              "      <th></th>\n",
              "      <th></th>\n",
              "      <th></th>\n",
              "      <th></th>\n",
              "    </tr>\n",
              "  </thead>\n",
              "  <tbody>\n",
              "    <tr>\n",
              "      <th>1995-02-24</th>\n",
              "      <td>USC00116200</td>\n",
              "      <td>NORMAL 4 NE, IL US</td>\n",
              "      <td>40.54930</td>\n",
              "      <td>-88.9501</td>\n",
              "      <td>240.8</td>\n",
              "      <td>0.00</td>\n",
              "      <td>40.0</td>\n",
              "      <td>27.0</td>\n",
              "    </tr>\n",
              "    <tr>\n",
              "      <th>1988-12-18</th>\n",
              "      <td>USC00116200</td>\n",
              "      <td>NORMAL 4 NE, IL US</td>\n",
              "      <td>40.54930</td>\n",
              "      <td>-88.9501</td>\n",
              "      <td>240.8</td>\n",
              "      <td>0.00</td>\n",
              "      <td>44.0</td>\n",
              "      <td>17.0</td>\n",
              "    </tr>\n",
              "    <tr>\n",
              "      <th>2002-12-20</th>\n",
              "      <td>USC00116200</td>\n",
              "      <td>NORMAL 4 NE, IL US</td>\n",
              "      <td>40.54930</td>\n",
              "      <td>-88.9501</td>\n",
              "      <td>240.8</td>\n",
              "      <td>0.00</td>\n",
              "      <td>42.0</td>\n",
              "      <td>31.0</td>\n",
              "    </tr>\n",
              "    <tr>\n",
              "      <th>1959-01-09</th>\n",
              "      <td>USC00110766</td>\n",
              "      <td>NORMAL 4 NE, IL US</td>\n",
              "      <td>40.51667</td>\n",
              "      <td>-89.0000</td>\n",
              "      <td>241.1</td>\n",
              "      <td>0.00</td>\n",
              "      <td>26.0</td>\n",
              "      <td>8.0</td>\n",
              "    </tr>\n",
              "    <tr>\n",
              "      <th>1945-10-27</th>\n",
              "      <td>USC00110766</td>\n",
              "      <td>NORMAL 4 NE, IL US</td>\n",
              "      <td>40.51667</td>\n",
              "      <td>-89.0000</td>\n",
              "      <td>241.1</td>\n",
              "      <td>0.00</td>\n",
              "      <td>75.0</td>\n",
              "      <td>30.0</td>\n",
              "    </tr>\n",
              "    <tr>\n",
              "      <th>1962-02-19</th>\n",
              "      <td>USC00110766</td>\n",
              "      <td>NORMAL 4 NE, IL US</td>\n",
              "      <td>40.51667</td>\n",
              "      <td>-89.0000</td>\n",
              "      <td>241.1</td>\n",
              "      <td>0.04</td>\n",
              "      <td>39.0</td>\n",
              "      <td>24.0</td>\n",
              "    </tr>\n",
              "    <tr>\n",
              "      <th>1968-09-12</th>\n",
              "      <td>USC00110766</td>\n",
              "      <td>NORMAL 4 NE, IL US</td>\n",
              "      <td>40.51667</td>\n",
              "      <td>-89.0000</td>\n",
              "      <td>241.1</td>\n",
              "      <td>0.00</td>\n",
              "      <td>79.0</td>\n",
              "      <td>47.0</td>\n",
              "    </tr>\n",
              "    <tr>\n",
              "      <th>1982-05-16</th>\n",
              "      <td>USC00116200</td>\n",
              "      <td>NORMAL 4 NE, IL US</td>\n",
              "      <td>40.54930</td>\n",
              "      <td>-88.9501</td>\n",
              "      <td>240.8</td>\n",
              "      <td>0.00</td>\n",
              "      <td>85.0</td>\n",
              "      <td>60.0</td>\n",
              "    </tr>\n",
              "  </tbody>\n",
              "</table>\n",
              "</div>"
            ],
            "text/plain": [
              "                STATION                NAME  LATITUDE  ...  PRCP  TMAX  TMIN\n",
              "DATE                                                   ...                  \n",
              "1995-02-24  USC00116200  NORMAL 4 NE, IL US  40.54930  ...  0.00  40.0  27.0\n",
              "1988-12-18  USC00116200  NORMAL 4 NE, IL US  40.54930  ...  0.00  44.0  17.0\n",
              "2002-12-20  USC00116200  NORMAL 4 NE, IL US  40.54930  ...  0.00  42.0  31.0\n",
              "1959-01-09  USC00110766  NORMAL 4 NE, IL US  40.51667  ...  0.00  26.0   8.0\n",
              "1945-10-27  USC00110766  NORMAL 4 NE, IL US  40.51667  ...  0.00  75.0  30.0\n",
              "1962-02-19  USC00110766  NORMAL 4 NE, IL US  40.51667  ...  0.04  39.0  24.0\n",
              "1968-09-12  USC00110766  NORMAL 4 NE, IL US  40.51667  ...  0.00  79.0  47.0\n",
              "1982-05-16  USC00116200  NORMAL 4 NE, IL US  40.54930  ...  0.00  85.0  60.0\n",
              "\n",
              "[8 rows x 8 columns]"
            ]
          },
          "metadata": {
            "tags": []
          },
          "execution_count": 6
        }
      ]
    },
    {
      "cell_type": "code",
      "metadata": {
        "id": "9dgdfIhrvKXt",
        "colab_type": "code",
        "colab": {
          "base_uri": "https://localhost:8080/",
          "height": 489
        },
        "outputId": "59901695-a0be-4794-9b6e-88c2ff6f3995"
      },
      "source": [
        "plt.gcf().set_size_inches(15, 8)\n",
        "weather['2015':'2018'].TMAX.plot()\n",
        "plt.title('Daily high temperature in Normal, IL');"
      ],
      "execution_count": 7,
      "outputs": [
        {
          "output_type": "display_data",
          "data": {
            "image/png": "[encoded data removed]",
            "text/plain": [
              "<Figure size 1080x576 with 1 Axes>"
            ]
          },
          "metadata": {
            "tags": []
          }
        }
      ]
    },
    {
      "cell_type": "markdown",
      "metadata": {
        "id": "F8Z8FTwbzfol",
        "colab_type": "text"
      },
      "source": [
        "Over the years, across the seasons, the average daily high temperature in my town is about 63 degrees."
      ]
    },
    {
      "cell_type": "code",
      "metadata": {
        "id": "PEKdZ7YZzbnO",
        "colab_type": "code",
        "outputId": "f4785057-8643-4a46-c921-88b777fa3ae2",
        "colab": {
          "base_uri": "https://localhost:8080/",
          "height": 34
        }
      },
      "source": [
        "weather.TMAX.mean()"
      ],
      "execution_count": 4,
      "outputs": [
        {
          "output_type": "execute_result",
          "data": {
            "text/plain": [
              "62.562754852389496"
            ]
          },
          "metadata": {
            "tags": []
          },
          "execution_count": 4
        }
      ]
    },
    {
      "cell_type": "markdown",
      "metadata": {
        "id": "p5bzsFbfznUt",
        "colab_type": "text"
      },
      "source": [
        "If I predicted that every day, the high will be 63 degrees, I'd be off by about 19 degrees on average."
      ]
    },
    {
      "cell_type": "code",
      "metadata": {
        "id": "rpf8ubzaziiY",
        "colab_type": "code",
        "outputId": "2addbcc7-6062-4ecd-cb97-09335f3f3142",
        "colab": {
          "base_uri": "https://localhost:8080/",
          "height": 34
        }
      },
      "source": [
        "from sklearn.metrics import mean_absolute_error\n",
        "predicted = [weather.TMAX.mean()] * len(weather)  \n",
        "mean_absolute_error(weather.TMAX, predicted)"
      ],
      "execution_count": 5,
      "outputs": [
        {
          "output_type": "execute_result",
          "data": {
            "text/plain": [
              "18.684890040509288"
            ]
          },
          "metadata": {
            "tags": []
          },
          "execution_count": 5
        }
      ]
    },
    {
      "cell_type": "markdown",
      "metadata": {
        "id": "sJi-_JL1zywP",
        "colab_type": "text"
      },
      "source": [
        "But, with time series data like this, we can get a better baseline.\n",
        "\n",
        "*Data Science for Business* explains, \n",
        "\n",
        "> Weather forecasters have two simple—but not simplistic—baseline models that they compare against. ***One (persistence) predicts that the weather tomorrow is going to be whatever it was today.*** The other (climatology) predicts whatever the average historical weather has been on this day from prior years. Each model performs considerably better than random guessing, and both are so easy to compute that they make natural baselines of comparison. Any new, more complex model must beat these."
      ]
    },
    {
      "cell_type": "markdown",
      "metadata": {
        "id": "VETZ_gJhz5qR",
        "colab_type": "text"
      },
      "source": [
        "Let's predict that the weather tomorrow is going to be whatever it was today. Which is another way of saying that the weather today is going to be whatever it was yesterday.\n",
        "\n",
        "We can engineer this feature with one line of code, using the pandas [`shift`](https://pandas.pydata.org/pandas-docs/stable/generated/pandas.DataFrame.shift.html) function.\n",
        "\n",
        "This new baseline is off by less than 6 degress on average."
      ]
    },
    {
      "cell_type": "code",
      "metadata": {
        "id": "1DKR_LoCzp6V",
        "colab_type": "code",
        "outputId": "f0217b30-dbe6-448e-d51c-77dbb75fcddd",
        "colab": {
          "base_uri": "https://localhost:8080/",
          "height": 34
        }
      },
      "source": [
        "weather['TMAX_yesterday'] = weather.TMAX.shift(1)\n",
        "weather.dropna(inplace=True)  # Drops the first date, because it doesn't have a \"yesterday\"\n",
        "mean_absolute_error(weather.TMAX, weather.TMAX_yesterday)"
      ],
      "execution_count": 8,
      "outputs": [
        {
          "output_type": "execute_result",
          "data": {
            "text/plain": [
              "5.519593850670799"
            ]
          },
          "metadata": {
            "tags": []
          },
          "execution_count": 8
        }
      ]
    },
    {
      "cell_type": "markdown",
      "metadata": {
        "id": "FhRix-ZG36c-",
        "colab_type": "text"
      },
      "source": [
        "## Adult Census Income — Train/Test Split — majority class baseline"
      ]
    },
    {
      "cell_type": "markdown",
      "metadata": {
        "id": "fHtoULts4TBE",
        "colab_type": "text"
      },
      "source": [
        "Load the data. It has already been split into train and test.\n",
        "\n",
        "https://archive.ics.uci.edu/ml/datasets/adult"
      ]
    },
    {
      "cell_type": "code",
      "metadata": {
        "id": "UZX4c6Gjx9pf",
        "colab_type": "code",
        "outputId": "3130a579-ed0f-40e6-96e3-ffea943bb890",
        "colab": {
          "base_uri": "https://localhost:8080/",
          "height": 34
        }
      },
      "source": [
        "names = ['age', \n",
        "         'workclass', \n",
        "         'fnlwgt', \n",
        "         'education', \n",
        "         'education-num', \n",
        "         'marital-status', \n",
        "         'occupation', \n",
        "         'relationship', \n",
        "         'race', \n",
        "         'sex', \n",
        "         'capital-gain', \n",
        "         'capital-loss', \n",
        "         'hours-per-week', \n",
        "         'native-country', \n",
        "         'income']\n",
        "\n",
        "train = pd.read_csv('https://archive.ics.uci.edu/ml/machine-learning-databases/adult/adult.data', header=None, names=names)\n",
        "test  = pd.read_csv('https://archive.ics.uci.edu/ml/machine-learning-databases/adult/adult.test', header=None, names=names, skiprows=[0])\n",
        "\n",
        "train.shape, test.shape"
      ],
      "execution_count": 9,
      "outputs": [
        {
          "output_type": "execute_result",
          "data": {
            "text/plain": [
              "((32561, 15), (16281, 15))"
            ]
          },
          "metadata": {
            "tags": []
          },
          "execution_count": 9
        }
      ]
    },
    {
      "cell_type": "markdown",
      "metadata": {
        "id": "hZqdQTlb4ybZ",
        "colab_type": "text"
      },
      "source": [
        "Assign to X and y"
      ]
    },
    {
      "cell_type": "code",
      "metadata": {
        "id": "mQVulKmi4pC0",
        "colab_type": "code",
        "outputId": "6d5c4452-ae51-4adc-ac0c-61c2a338f880",
        "colab": {
          "base_uri": "https://localhost:8080/",
          "height": 34
        }
      },
      "source": [
        "X_train = train.drop(columns='income')\n",
        "y_train = train.income == ' >50K'\n",
        "\n",
        "X_test  = test.drop(columns='income')\n",
        "y_test  = test.income  == ' >50K.'\n",
        "\n",
        "X_train.shape, X_test.shape, y_train.shape, y_test.shape"
      ],
      "execution_count": 10,
      "outputs": [
        {
          "output_type": "execute_result",
          "data": {
            "text/plain": [
              "((32561, 14), (16281, 14), (32561,), (16281,))"
            ]
          },
          "metadata": {
            "tags": []
          },
          "execution_count": 10
        }
      ]
    },
    {
      "cell_type": "markdown",
      "metadata": {
        "id": "NQ2Ibkax5DOw",
        "colab_type": "text"
      },
      "source": [
        "Majority class baseline"
      ]
    },
    {
      "cell_type": "code",
      "metadata": {
        "id": "GqfFfKEm42b5",
        "colab_type": "code",
        "colab": {}
      },
      "source": [
        "import numpy as np\n",
        "\n",
        "majority_class = y_train.mode()[0]\n",
        "y_pred = np.full(shape=y_test.shape, fill_value=majority_class)"
      ],
      "execution_count": 0,
      "outputs": []
    },
    {
      "cell_type": "markdown",
      "metadata": {
        "id": "KNMUHV3W5W5V",
        "colab_type": "text"
      },
      "source": [
        "`y_pred` has the same shape as `y_test`"
      ]
    },
    {
      "cell_type": "code",
      "metadata": {
        "id": "A6mIx4PY5Qeo",
        "colab_type": "code",
        "outputId": "737e5fcd-6200-463c-e4f5-9448c4fadab4",
        "colab": {
          "base_uri": "https://localhost:8080/",
          "height": 34
        }
      },
      "source": [
        "y_pred.shape, y_test.shape"
      ],
      "execution_count": 12,
      "outputs": [
        {
          "output_type": "execute_result",
          "data": {
            "text/plain": [
              "((16281,), (16281,))"
            ]
          },
          "metadata": {
            "tags": []
          },
          "execution_count": 12
        }
      ]
    },
    {
      "cell_type": "markdown",
      "metadata": {
        "id": "mWG0oTHD5eBw",
        "colab_type": "text"
      },
      "source": [
        "all predictions are the majority class"
      ]
    },
    {
      "cell_type": "code",
      "metadata": {
        "id": "Q3IIjxGt5WVZ",
        "colab_type": "code",
        "outputId": "03223e90-d4bc-4d91-a42e-e541776cdb33",
        "colab": {
          "base_uri": "https://localhost:8080/",
          "height": 34
        }
      },
      "source": [
        "all(y_pred == majority_class)"
      ],
      "execution_count": 13,
      "outputs": [
        {
          "output_type": "execute_result",
          "data": {
            "text/plain": [
              "True"
            ]
          },
          "metadata": {
            "tags": []
          },
          "execution_count": 13
        }
      ]
    },
    {
      "cell_type": "markdown",
      "metadata": {
        "id": "tUsgtt5T5qjR",
        "colab_type": "text"
      },
      "source": [
        "Baseline accuracy is 76% by guessing the majority class for every prediction"
      ]
    },
    {
      "cell_type": "code",
      "metadata": {
        "id": "LGm7MelQ5c8w",
        "colab_type": "code",
        "outputId": "3034e0f7-d292-4f82-f7de-435468286886",
        "colab": {
          "base_uri": "https://localhost:8080/",
          "height": 34
        }
      },
      "source": [
        "from sklearn.metrics import accuracy_score\n",
        "accuracy_score(y_test, y_pred)"
      ],
      "execution_count": 14,
      "outputs": [
        {
          "output_type": "execute_result",
          "data": {
            "text/plain": [
              "0.7637737239727289"
            ]
          },
          "metadata": {
            "tags": []
          },
          "execution_count": 14
        }
      ]
    },
    {
      "cell_type": "markdown",
      "metadata": {
        "id": "Crq-dk5u57o6",
        "colab_type": "text"
      },
      "source": [
        "This makes sense, because the majority class occurs 76% of the time in the test dataset"
      ]
    },
    {
      "cell_type": "code",
      "metadata": {
        "id": "eNk2yTmyhFHx",
        "colab_type": "code",
        "outputId": "b727a6e1-0a04-4223-fb46-79b0f8dcdfe2",
        "colab": {
          "base_uri": "https://localhost:8080/",
          "height": 68
        }
      },
      "source": [
        "test.income.value_counts(normalize=True)"
      ],
      "execution_count": 15,
      "outputs": [
        {
          "output_type": "execute_result",
          "data": {
            "text/plain": [
              " <=50K.    0.763774\n",
              " >50K.     0.236226\n",
              "Name: income, dtype: float64"
            ]
          },
          "metadata": {
            "tags": []
          },
          "execution_count": 15
        }
      ]
    },
    {
      "cell_type": "markdown",
      "metadata": {
        "id": "886PbzRJ6USc",
        "colab_type": "text"
      },
      "source": [
        "## Adult Census Income — Train/Test Split — fast first models"
      ]
    },
    {
      "cell_type": "markdown",
      "metadata": {
        "id": "TgsO1op66j3b",
        "colab_type": "text"
      },
      "source": [
        "Scikit-learn expects no nulls... We're good there:"
      ]
    },
    {
      "cell_type": "code",
      "metadata": {
        "id": "cyfwVBt354U1",
        "colab_type": "code",
        "outputId": "fa2b1b0f-43e8-4354-ba0b-ad05ac5bf281",
        "colab": {
          "base_uri": "https://localhost:8080/",
          "height": 34
        }
      },
      "source": [
        "def no_nulls(df):\n",
        "    return not any(df.isnull().sum())\n",
        "\n",
        "no_nulls(X_train)"
      ],
      "execution_count": 16,
      "outputs": [
        {
          "output_type": "execute_result",
          "data": {
            "text/plain": [
              "True"
            ]
          },
          "metadata": {
            "tags": []
          },
          "execution_count": 16
        }
      ]
    },
    {
      "cell_type": "markdown",
      "metadata": {
        "id": "tbVhqsUP622c",
        "colab_type": "text"
      },
      "source": [
        "Scikit-learn also expects all numeric features. (No strings / \"object\" datatypes) ... We're not there yet:"
      ]
    },
    {
      "cell_type": "code",
      "metadata": {
        "id": "VqOoYwO16vmu",
        "colab_type": "code",
        "outputId": "2d756b14-2623-4299-d8d0-322663d754de",
        "colab": {
          "base_uri": "https://localhost:8080/",
          "height": 34
        }
      },
      "source": [
        "def all_numeric(df):\n",
        "    from pandas.api.types import is_numeric_dtype\n",
        "    return all(is_numeric_dtype(df[col]) for col in df)\n",
        "\n",
        "all_numeric(X_train)"
      ],
      "execution_count": 17,
      "outputs": [
        {
          "output_type": "execute_result",
          "data": {
            "text/plain": [
              "False"
            ]
          },
          "metadata": {
            "tags": []
          },
          "execution_count": 17
        }
      ]
    },
    {
      "cell_type": "markdown",
      "metadata": {
        "id": "16s97jma7ULN",
        "colab_type": "text"
      },
      "source": [
        "Instead of encoding nonnumeric features, we can just exclude them from the training data."
      ]
    },
    {
      "cell_type": "code",
      "metadata": {
        "id": "V34xVYqD7Ayb",
        "colab_type": "code",
        "outputId": "42ca65b1-1a41-47cd-efbf-6849cd8843b2",
        "colab": {
          "base_uri": "https://localhost:8080/",
          "height": 51
        }
      },
      "source": [
        "X_train_numeric = X_train.select_dtypes(np.number)\n",
        "\n",
        "print(X_train_numeric.shape)\n",
        "all_numeric(X_train_numeric)"
      ],
      "execution_count": 20,
      "outputs": [
        {
          "output_type": "stream",
          "text": [
            "(32561, 6)\n"
          ],
          "name": "stdout"
        },
        {
          "output_type": "execute_result",
          "data": {
            "text/plain": [
              "True"
            ]
          },
          "metadata": {
            "tags": []
          },
          "execution_count": 20
        }
      ]
    },
    {
      "cell_type": "markdown",
      "metadata": {
        "id": "0KIrZHZm8pXn",
        "colab_type": "text"
      },
      "source": [
        "We'll do the same with the test data."
      ]
    },
    {
      "cell_type": "code",
      "metadata": {
        "id": "RehsWU5t8na0",
        "colab_type": "code",
        "colab": {
          "base_uri": "https://localhost:8080/",
          "height": 51
        },
        "outputId": "2c16839c-6f7d-4ff1-f575-c9da02f010d8"
      },
      "source": [
        "X_test_numeric = X_test.select_dtypes(np.number)\n",
        "\n",
        "print(X_test_numeric.shape)\n",
        "all_numeric(X_test_numeric)"
      ],
      "execution_count": 21,
      "outputs": [
        {
          "output_type": "stream",
          "text": [
            "(16281, 6)\n"
          ],
          "name": "stdout"
        },
        {
          "output_type": "execute_result",
          "data": {
            "text/plain": [
              "True"
            ]
          },
          "metadata": {
            "tags": []
          },
          "execution_count": 21
        }
      ]
    },
    {
      "cell_type": "markdown",
      "metadata": {
        "id": "gEmZztuZ71zC",
        "colab_type": "text"
      },
      "source": [
        "Then fit a Logistic Regression on the training data (only the numeric features).\n",
        "\n",
        "Test accuracy improves to almost 80%"
      ]
    },
    {
      "cell_type": "code",
      "metadata": {
        "id": "nlSO3C9t7ogI",
        "colab_type": "code",
        "outputId": "e60fc9ea-a0b4-467d-fa82-877ae3e944e5",
        "colab": {
          "base_uri": "https://localhost:8080/",
          "height": 108
        }
      },
      "source": [
        "from sklearn.linear_model import LogisticRegression\n",
        "model = LogisticRegression()\n",
        "model.fit(X_train_numeric, y_train)\n",
        "y_pred = model.predict(X_test_numeric)\n",
        "accuracy_score(y_test, y_pred)"
      ],
      "execution_count": 22,
      "outputs": [
        {
          "output_type": "stream",
          "text": [
            "/usr/local/lib/python3.6/dist-packages/sklearn/linear_model/logistic.py:432: FutureWarning: Default solver will be changed to 'lbfgs' in 0.22. Specify a solver to silence this warning.\n",
            "  FutureWarning)\n"
          ],
          "name": "stderr"
        },
        {
          "output_type": "execute_result",
          "data": {
            "text/plain": [
              "0.7992138075056815"
            ]
          },
          "metadata": {
            "tags": []
          },
          "execution_count": 22
        }
      ]
    },
    {
      "cell_type": "markdown",
      "metadata": {
        "id": "BKKgC2XJ8LfH",
        "colab_type": "text"
      },
      "source": [
        "Let's try scaling our data first. \n",
        "\n",
        "Test accuracy improves to over 81%"
      ]
    },
    {
      "cell_type": "code",
      "metadata": {
        "id": "KkYRW6Jm77Y0",
        "colab_type": "code",
        "outputId": "13ea684b-f438-4bfd-c701-afdc314d193a",
        "colab": {
          "base_uri": "https://localhost:8080/",
          "height": 34
        }
      },
      "source": [
        "from sklearn.preprocessing import StandardScaler\n",
        "from sklearn.pipeline import make_pipeline\n",
        "\n",
        "pipeline = make_pipeline(StandardScaler(), LogisticRegression(solver='lbfgs'))\n",
        "pipeline.fit(X_train_numeric, y_train)\n",
        "y_pred = pipeline.predict(X_test_numeric)\n",
        "accuracy_score(y_test, y_pred)"
      ],
      "execution_count": 23,
      "outputs": [
        {
          "output_type": "execute_result",
          "data": {
            "text/plain": [
              "0.8134635464652048"
            ]
          },
          "metadata": {
            "tags": []
          },
          "execution_count": 23
        }
      ]
    },
    {
      "cell_type": "markdown",
      "metadata": {
        "id": "gGsNNA9k9BMr",
        "colab_type": "text"
      },
      "source": [
        "One-hot-encode all the categorical featues."
      ]
    },
    {
      "cell_type": "markdown",
      "metadata": {
        "id": "wrIvN4X89dSJ",
        "colab_type": "text"
      },
      "source": [
        "Install the Category Encoder library \n",
        "\n",
        "https://github.com/scikit-learn-contrib/categorical-encoding"
      ]
    },
    {
      "cell_type": "code",
      "metadata": {
        "id": "gNJr5XcG8NpA",
        "colab_type": "code",
        "colab": {
          "base_uri": "https://localhost:8080/",
          "height": 347
        },
        "outputId": "a86b07b3-7c1e-4343-f0ef-86a210f93166"
      },
      "source": [
        "!pip install category_encoders"
      ],
      "execution_count": 24,
      "outputs": [
        {
          "output_type": "stream",
          "text": [
            "Collecting category_encoders\n",
            "\u001b[?25l  Downloading https://files.pythonhosted.org/packages/6e/a1/f7a22f144f33be78afeb06bfa78478e8284a64263a3c09b1ef54e673841e/category_encoders-2.0.0-py2.py3-none-any.whl (87kB)\n",
            "\u001b[K     |████████████████████████████████| 92kB 5.2MB/s \n",
            "\u001b[?25hRequirement already satisfied: numpy>=1.11.3 in /usr/local/lib/python3.6/dist-packages (from category_encoders) (1.16.4)\n",
            "Requirement already satisfied: scipy>=0.19.0 in /usr/local/lib/python3.6/dist-packages (from category_encoders) (1.3.0)\n",
            "Requirement already satisfied: scikit-learn>=0.20.0 in /usr/local/lib/python3.6/dist-packages (from category_encoders) (0.21.3)\n",
            "Requirement already satisfied: pandas>=0.21.1 in /usr/local/lib/python3.6/dist-packages (from category_encoders) (0.24.2)\n",
            "Requirement already satisfied: statsmodels>=0.6.1 in /usr/local/lib/python3.6/dist-packages (from category_encoders) (0.10.1)\n",
            "Requirement already satisfied: patsy>=0.4.1 in /usr/local/lib/python3.6/dist-packages (from category_encoders) (0.5.1)\n",
            "Requirement already satisfied: joblib>=0.11 in /usr/local/lib/python3.6/dist-packages (from scikit-learn>=0.20.0->category_encoders) (0.13.2)\n",
            "Requirement already satisfied: pytz>=2011k in /usr/local/lib/python3.6/dist-packages (from pandas>=0.21.1->category_encoders) (2018.9)\n",
            "Requirement already satisfied: python-dateutil>=2.5.0 in /usr/local/lib/python3.6/dist-packages (from pandas>=0.21.1->category_encoders) (2.5.3)\n",
            "Requirement already satisfied: six in /usr/local/lib/python3.6/dist-packages (from patsy>=0.4.1->category_encoders) (1.12.0)\n",
            "Installing collected packages: category-encoders\n",
            "Successfully installed category-encoders-2.0.0\n"
          ],
          "name": "stdout"
        }
      ]
    },
    {
      "cell_type": "code",
      "metadata": {
        "id": "5tpuEpDa9YFr",
        "colab_type": "code",
        "colab": {}
      },
      "source": [
        "import category_encoders as ce"
      ],
      "execution_count": 0,
      "outputs": []
    },
    {
      "cell_type": "markdown",
      "metadata": {
        "id": "0LGitjUH9zFh",
        "colab_type": "text"
      },
      "source": [
        "Add the library's `OneHotEncoder` to a pipeline.\n",
        "\n",
        "Before, we fit on `X_train_numeric` and predict on `X_test_numeric`.\n",
        "\n",
        "Now, we fit on  `X_train` and predict on `X_test` (the original dataframes which include categorical columns)\n",
        "\n",
        " Test accuracy improves to 85%."
      ]
    },
    {
      "cell_type": "code",
      "metadata": {
        "id": "s-WbXKo_9caL",
        "colab_type": "code",
        "outputId": "afa06427-5cf9-4406-84f2-8c4474737e55",
        "colab": {
          "base_uri": "https://localhost:8080/",
          "height": 34
        }
      },
      "source": [
        "pipeline = make_pipeline(\n",
        "    ce.OneHotEncoder(use_cat_names=True), \n",
        "    StandardScaler(), \n",
        "    LogisticRegression(solver='lbfgs')\n",
        ")\n",
        "\n",
        "pipeline.fit(X_train, y_train)\n",
        "y_pred = pipeline.predict(X_test)\n",
        "accuracy_score(y_test, y_pred)"
      ],
      "execution_count": 26,
      "outputs": [
        {
          "output_type": "execute_result",
          "data": {
            "text/plain": [
              "0.8525274860266568"
            ]
          },
          "metadata": {
            "tags": []
          },
          "execution_count": 26
        }
      ]
    },
    {
      "cell_type": "markdown",
      "metadata": {
        "id": "uljTyg29_QUd",
        "colab_type": "text"
      },
      "source": [
        "Visualize coefficients"
      ]
    },
    {
      "cell_type": "code",
      "metadata": {
        "id": "ExAx_96L-FPX",
        "colab_type": "code",
        "outputId": "81b696cb-d39d-4fe8-e4e0-07d97c319a36",
        "colab": {
          "base_uri": "https://localhost:8080/",
          "height": 1000
        }
      },
      "source": [
        "plt.figure(figsize=(10,20))\n",
        "plt.title('Coefficients')\n",
        "\n",
        "coefficients = pipeline.named_steps['logisticregression'].coef_[0]\n",
        "feature_names = pipeline.named_steps['onehotencoder'].transform(X_train).columns\n",
        "pd.Series(coefficients, feature_names).sort_values().plot.barh(color='gray');"
      ],
      "execution_count": 28,
      "outputs": [
        {
          "output_type": "display_data",
          "data": {
            "image/png": "[encoded data removed]",
            "text/plain": [
              "<Figure size 720x1440 with 1 Axes>"
            ]
          },
          "metadata": {
            "tags": []
          }
        }
      ]
    },
    {
      "cell_type": "markdown",
      "metadata": {
        "id": "tlFfn7Em_oag",
        "colab_type": "text"
      },
      "source": [
        "## Adult Census Income — Cross Validation with independent test set — fast first models"
      ]
    },
    {
      "cell_type": "markdown",
      "metadata": {
        "id": "4SGmGHzsD4Jc",
        "colab_type": "text"
      },
      "source": [
        "`cross_val_score(pipeline, X_train, y_train, cv=10)` repeats this process 10 times:\n",
        "- Use 9/10 of the training data to fit the model pipeline\n",
        "- Use 1/10 of the training data to predict and score the model pipeline\n",
        "\n",
        "The test data is not used here — it remains independent, held out."
      ]
    },
    {
      "cell_type": "code",
      "metadata": {
        "id": "P5vYr738_Ujw",
        "colab_type": "code",
        "colab": {}
      },
      "source": [
        "from sklearn.model_selection import cross_val_score\n",
        "\n",
        "scores = cross_val_score(pipeline, X_train, y_train, scoring='accuracy', cv=10)"
      ],
      "execution_count": 0,
      "outputs": []
    },
    {
      "cell_type": "markdown",
      "metadata": {
        "id": "QMsxJIT4Bz7j",
        "colab_type": "text"
      },
      "source": [
        "`cross_val_score(cv=10)` returns 10 scores"
      ]
    },
    {
      "cell_type": "code",
      "metadata": {
        "id": "qPMbMk2_Am4y",
        "colab_type": "code",
        "outputId": "da9d96e3-2777-4665-cfd8-f1d743e02acc",
        "colab": {
          "base_uri": "https://localhost:8080/",
          "height": 51
        }
      },
      "source": [
        "scores"
      ],
      "execution_count": 30,
      "outputs": [
        {
          "output_type": "execute_result",
          "data": {
            "text/plain": [
              "array([0.84771262, 0.85104423, 0.85565111, 0.84029484, 0.85288698,\n",
              "       0.85288698, 0.85288698, 0.85933661, 0.85411548, 0.84981572])"
            ]
          },
          "metadata": {
            "tags": []
          },
          "execution_count": 30
        }
      ]
    },
    {
      "cell_type": "markdown",
      "metadata": {
        "id": "ATPvQ3CoBAEm",
        "colab_type": "text"
      },
      "source": [
        "<img src=\"https://sebastianraschka.com/images/blog/2016/model-evaluation-selection-part3/loocv.png\" width=\"400\">\n",
        "\n",
        "Source: https://sebastianraschka.com/blog/2016/model-evaluation-selection-part3.html"
      ]
    },
    {
      "cell_type": "markdown",
      "metadata": {
        "id": "2V7LTdNkBuCw",
        "colab_type": "text"
      },
      "source": [
        "The scores have low variance."
      ]
    },
    {
      "cell_type": "code",
      "metadata": {
        "id": "r52ICJ6OA66W",
        "colab_type": "code",
        "outputId": "6e85bda7-6ad4-479f-aa8c-70bc0258382c",
        "colab": {
          "base_uri": "https://localhost:8080/",
          "height": 34
        }
      },
      "source": [
        "scores.mean(), scores.std()"
      ],
      "execution_count": 31,
      "outputs": [
        {
          "output_type": "execute_result",
          "data": {
            "text/plain": [
              "(0.8516631537893435, 0.004836674045843519)"
            ]
          },
          "metadata": {
            "tags": []
          },
          "execution_count": 31
        }
      ]
    },
    {
      "cell_type": "markdown",
      "metadata": {
        "id": "PCEEVP0wB9F3",
        "colab_type": "text"
      },
      "source": [
        "<img src=\"https://sebastianraschka.com/images/blog/2016/model-evaluation-selection-part2/visual_bias_variance.png\" width=\"400\">\n",
        "\n",
        "Source: https://sebastianraschka.com/blog/2016/model-evaluation-selection-part2.html"
      ]
    },
    {
      "cell_type": "markdown",
      "metadata": {
        "id": "RJWSU31EF-gY",
        "colab_type": "text"
      },
      "source": [
        "## Adult Census Income — Train/Validation/Test split — fast first models"
      ]
    },
    {
      "cell_type": "markdown",
      "metadata": {
        "id": "4_95UcNHGL0H",
        "colab_type": "text"
      },
      "source": [
        "How can we get from a two-way split ..."
      ]
    },
    {
      "cell_type": "code",
      "metadata": {
        "id": "oKJPJ9YNCADY",
        "colab_type": "code",
        "outputId": "30a266f3-99ea-4023-c075-9c36b3e9b17e",
        "colab": {
          "base_uri": "https://localhost:8080/",
          "height": 34
        }
      },
      "source": [
        "X_train.shape, X_test.shape, y_train.shape, y_test.shape"
      ],
      "execution_count": 32,
      "outputs": [
        {
          "output_type": "execute_result",
          "data": {
            "text/plain": [
              "((32561, 14), (16281, 14), (32561,), (16281,))"
            ]
          },
          "metadata": {
            "tags": []
          },
          "execution_count": 32
        }
      ]
    },
    {
      "cell_type": "markdown",
      "metadata": {
        "id": "GIYe9n1CGRTq",
        "colab_type": "text"
      },
      "source": [
        "... to a three-way split?\n",
        "\n",
        "We can use the `sklearn.model_selection.train_test_split` function to split the training data into training and validation data."
      ]
    },
    {
      "cell_type": "code",
      "metadata": {
        "id": "xj0gOpt3GKaB",
        "colab_type": "code",
        "colab": {}
      },
      "source": [
        "from sklearn.model_selection import train_test_split\n",
        "\n",
        "X_train, X_val, y_train, y_val = train_test_split(X_train, y_train)"
      ],
      "execution_count": 0,
      "outputs": []
    },
    {
      "cell_type": "code",
      "metadata": {
        "id": "_bVXKAMaHQwu",
        "colab_type": "code",
        "outputId": "28646508-e3fa-4b4e-81cd-1e47456cb6dd",
        "colab": {
          "base_uri": "https://localhost:8080/",
          "height": 34
        }
      },
      "source": [
        "X_train.shape, X_val.shape, X_test.shape, y_train.shape, y_val.shape, y_test.shape"
      ],
      "execution_count": 34,
      "outputs": [
        {
          "output_type": "execute_result",
          "data": {
            "text/plain": [
              "((24420, 14), (8141, 14), (16281, 14), (24420,), (8141,), (16281,))"
            ]
          },
          "metadata": {
            "tags": []
          },
          "execution_count": 34
        }
      ]
    },
    {
      "cell_type": "markdown",
      "metadata": {
        "id": "xwP-E21FncyL",
        "colab_type": "text"
      },
      "source": [
        "Fit on the training set.\n",
        "\n",
        "Predict and score with the validation set.\n",
        "\n",
        "Do not use the test set."
      ]
    },
    {
      "cell_type": "code",
      "metadata": {
        "id": "PCYdaXn_nDUq",
        "colab_type": "code",
        "outputId": "61432844-62dd-4c02-8b2b-db5d2ffc0f45",
        "colab": {
          "base_uri": "https://localhost:8080/",
          "height": 34
        }
      },
      "source": [
        "pipeline.fit(X_train, y_train)\n",
        "y_pred = pipeline.predict(X_val)\n",
        "accuracy_score(y_val, y_pred)"
      ],
      "execution_count": 35,
      "outputs": [
        {
          "output_type": "execute_result",
          "data": {
            "text/plain": [
              "0.8527207959710109"
            ]
          },
          "metadata": {
            "tags": []
          },
          "execution_count": 35
        }
      ]
    },
    {
      "cell_type": "markdown",
      "metadata": {
        "id": "qWesgBNF1lqi",
        "colab_type": "text"
      },
      "source": [
        "## What to do with the test set?\n",
        "\n",
        "Hold it out. Keep it in a \"vault.\" Don't touch it until you're done with your models. "
      ]
    },
    {
      "cell_type": "markdown",
      "metadata": {
        "id": "X4-zR44iJrS0",
        "colab_type": "text"
      },
      "source": [
        "Here's one way to save your test set for later, with the feather file format.\n",
        "\n",
        "https://pandas.pydata.org/pandas-docs/stable/user_guide/io.html#io-feather"
      ]
    },
    {
      "cell_type": "code",
      "metadata": {
        "id": "Rdcr60ytnQqb",
        "colab_type": "code",
        "outputId": "8f5bf31d-5455-4d05-c2a1-c84a1b77d690",
        "colab": {
          "base_uri": "https://localhost:8080/",
          "height": 174
        }
      },
      "source": [
        "!pip install -U feather-format"
      ],
      "execution_count": 36,
      "outputs": [
        {
          "output_type": "stream",
          "text": [
            "Requirement already up-to-date: feather-format in /usr/local/lib/python3.6/dist-packages (0.4.0)\n",
            "Requirement already satisfied, skipping upgrade: pyarrow>=0.4.0 in /usr/local/lib/python3.6/dist-packages (from feather-format) (0.14.1)\n",
            "Requirement already satisfied, skipping upgrade: six>=1.0.0 in /usr/local/lib/python3.6/dist-packages (from pyarrow>=0.4.0->feather-format) (1.12.0)\n",
            "Requirement already satisfied, skipping upgrade: numpy>=1.14 in /usr/local/lib/python3.6/dist-packages (from pyarrow>=0.4.0->feather-format) (1.16.4)\n"
          ],
          "name": "stdout"
        }
      ]
    },
    {
      "cell_type": "code",
      "metadata": {
        "id": "U6OT4MKAJy4E",
        "colab_type": "code",
        "colab": {}
      },
      "source": [
        "X_test.reset_index(drop=True).to_feather('X_test.feather')\n",
        "pd.DataFrame(y_test).reset_index(drop=True).to_feather('y_test.feather')"
      ],
      "execution_count": 0,
      "outputs": []
    },
    {
      "cell_type": "markdown",
      "metadata": {
        "id": "-vqa0dYPJ5Zs",
        "colab_type": "text"
      },
      "source": [
        "You can save the files from Google Colab to your local machine"
      ]
    },
    {
      "cell_type": "code",
      "metadata": {
        "id": "_sNBr8djJ3hO",
        "colab_type": "code",
        "colab": {}
      },
      "source": [
        "from google.colab import files\n",
        "files.download('X_test.feather')\n",
        "files.download('y_test.feather')"
      ],
      "execution_count": 0,
      "outputs": []
    },
    {
      "cell_type": "markdown",
      "metadata": {
        "id": "DanimdzNJ-Vd",
        "colab_type": "text"
      },
      "source": [
        "You can delete the variables from your notebook's runtime"
      ]
    },
    {
      "cell_type": "code",
      "metadata": {
        "id": "24YTaftEKBeP",
        "colab_type": "code",
        "colab": {}
      },
      "source": [
        "del X_test, y_test"
      ],
      "execution_count": 0,
      "outputs": []
    },
    {
      "cell_type": "markdown",
      "metadata": {
        "id": "xSXSLYtmJWzN",
        "colab_type": "text"
      },
      "source": [
        "## Why hold out an independent test set?"
      ]
    },
    {
      "cell_type": "markdown",
      "metadata": {
        "id": "yTQB9VIaI3yu",
        "colab_type": "text"
      },
      "source": [
        "Owen Zhang, [Winning Data Science Competitions](https://www.slideshare.net/OwenZhang2/tips-for-data-science-competitions)\n",
        "\n",
        "- There are many ways to overfit. Beware of \"multiple comparison fallacy.\" There is a cost in \"peeking at the answer.\"\n",
        "- Good validation is _more important_ than good models. Simple training/validation split is _not_ enough. When you looked at your validation result for the Nth time, you are training models on it.\n",
        "- If possible, have \"holdout\" dataset that you do not touch at all during model build process. This includes feature extraction, etc.\n",
        "- What if holdout result is bad? Be brave and scrap the project."
      ]
    },
    {
      "cell_type": "markdown",
      "metadata": {
        "id": "YR1WLnpHJQ86",
        "colab_type": "text"
      },
      "source": [
        "Hastie, Tibshirani, and Friedman, [The Elements of Statistical Learning](http://statweb.stanford.edu/~tibs/ElemStatLearn/), Chapter 7: Model Assessment and Selection\n",
        "\n",
        "> If we are in a data-rich situation, the best approach is to randomly divide the dataset into three parts: a training set, a validation set, and a test set. The training set is used to fit the models; the validation set is used to estimate prediction error for model selection; the test set is used for assessment of the generalization error of the final chosen model. Ideally, the test set should be kept in a \"vault,\" and be brought out only at the end of the data analysis. Suppose instead that we use the test-set repeatedly, choosing the model with the smallest test-set error. Then the test set error of the final chosen model will underestimate the true test error, sometimes substantially."
      ]
    },
    {
      "cell_type": "markdown",
      "metadata": {
        "id": "NZ2D0fiapf2X",
        "colab_type": "text"
      },
      "source": [
        "Andreas Mueller and Sarah Guido, [Introduction to Machine Learning with Python](https://books.google.com/books?id=1-4lDQAAQBAJ&pg=PA270)\n",
        "\n",
        "> The distinction between the training set, validation set, and test set is fundamentally important to applying machine learning methods in practice. Any choices made based on the test set accuracy \"leak\" information from the test set into the model. Therefore, it is important to keep a separate test set, which is only used for the final evaluation. It is good practice to do all exploratory analysis and model selection using the combination of a training and a validation set, and reserve the test set for a final evaluation - this is even true for exploratory visualization. Strictly speaking, evaluating more than one model on the test set and choosing the better of the two will result in an overly optimistic estimate of how accurate the model is."
      ]
    },
    {
      "cell_type": "markdown",
      "metadata": {
        "id": "v5-2adVxpCBx",
        "colab_type": "text"
      },
      "source": [
        "Hadley Wickham, [R for Data Science](https://r4ds.had.co.nz/model-intro.html#hypothesis-generation-vs.hypothesis-confirmation)\n",
        "\n",
        "> There is a pair of ideas that you must understand in order to do inference correctly:\n",
        "\n",
        "> 1. Each observation can either be used for exploration or confirmation, not both.\n",
        "\n",
        "> 2. You can use an observation as many times as you like for exploration, but you can only use it once for confirmation. As soon as you use an observation twice, you’ve switched from confirmation to exploration.\n",
        "\n",
        "> This is necessary because to confirm a hypothesis you must use data independent of the data that you used to generate the hypothesis. Otherwise you will be over optimistic. There is absolutely nothing wrong with exploration, but you should never sell an exploratory analysis as a confirmatory analysis because it is fundamentally misleading.\n",
        "\n",
        "> If you are serious about doing an confirmatory analysis, one approach is to split your data into three pieces before you begin the analysis."
      ]
    },
    {
      "cell_type": "markdown",
      "metadata": {
        "id": "ZSZBWmkMMbJR",
        "colab_type": "text"
      },
      "source": [
        "## Should you shuffle?\n",
        "\n",
        "Sometimes yes, sometimes no. Experts may seem to give conflicting advice! Partly, that perception is true. Partly, the right choices depend on your data and your goals.\n",
        "\n",
        "[Hastie, Tibshirani, and Friedman](http://statweb.stanford.edu/~tibs/ElemStatLearn/) write,\n",
        "> randomly divide the dataset into three parts: a training set, a validation set, and a test set. \n",
        "\n",
        "But [Rachel Thomas](\n",
        "https://www.fast.ai/2017/11/13/validation-sets/) asks, \"When is a random subset not good enough?\" and gives many good examples.\n",
        "> If your data is a time series, choosing a random subset of the data will be both too easy (you can look at the data both before and after the dates your are trying to predict) and not representative of most business use cases (where you are using historical data to build a model for use in the future).\n",
        "\n",
        "> In the Kaggle distracted driver competition, the independent data are pictures of drivers at the wheel of a car, and the dependent variable is a category such as texting, eating, or safely looking ahead. If you were the insurance company building a model from this data, note that you would be most interested in how the model performs on drivers you haven’t seen before (since you would likely have training data only for a small group of people). \n",
        "\n",
        "> A similar dynamic was at work in the Kaggle fisheries competition to identify the species of fish caught by fishing boats in order to reduce illegal fishing of endangered populations. The test set consisted of boats that didn’t appear in the training data. This means that you’d want your validation set to include boats that are not in the training set.\n",
        "\n",
        "\n",
        "\n",
        "\n",
        "[Owen Zhang](https://www.slideshare.net/OwenZhang2/tips-for-data-science-competitions/10) recommends using your most recent data for your hold out test set, instead of choosing your test set with random shuffling. But he says you are free to use random splits to train and tune models.\n",
        "\n",
        "> Make validation dataset as realistic as possible. Usually this means \"out-of-time\" validation. You are free to use \"in-time\" random split to build models, tune parameters, etc. But hold out data should be out-of-time.\n",
        "\n",
        "Note that Owen Zhang's slide could be confusing, because of ambiguous terminology:\n",
        "- What he calls \"validation dataset\" and \"hold out data\" is what we're calling \"test set.\"\n",
        "- He also says \"cross-validation\" is an \"exception to the rule\" to use \"when data is extremely small.\" There he is talking about \"Cross-validation _without_ independent test set\", _not_ \"Cross-validation _with_ independent test set.\""
      ]
    },
    {
      "cell_type": "markdown",
      "metadata": {
        "id": "ipwGmpd7Kk94",
        "colab_type": "text"
      },
      "source": [
        "**Sometimes you need to shuffle, like in this next example:**"
      ]
    },
    {
      "cell_type": "markdown",
      "metadata": {
        "id": "9Doto5c61sNj",
        "colab_type": "text"
      },
      "source": [
        "## Iris flowers — Train/Validation/Test split?"
      ]
    },
    {
      "cell_type": "markdown",
      "metadata": {
        "id": "ow3Ev3JqK0cj",
        "colab_type": "text"
      },
      "source": [
        "Load the Iris dataset"
      ]
    },
    {
      "cell_type": "code",
      "metadata": {
        "id": "ShfEoOxNKjV9",
        "colab_type": "code",
        "colab": {}
      },
      "source": [
        "from sklearn.datasets import load_iris\n",
        "iris = load_iris()\n",
        "X = iris.data\n",
        "y = iris.target"
      ],
      "execution_count": 0,
      "outputs": []
    },
    {
      "cell_type": "markdown",
      "metadata": {
        "id": "Obd9wa7iK-ID",
        "colab_type": "text"
      },
      "source": [
        "What would happen if you didn't shuffle this data?"
      ]
    },
    {
      "cell_type": "code",
      "metadata": {
        "id": "-TF5eIYeK_Rt",
        "colab_type": "code",
        "outputId": "3cd07fd1-4f84-48e2-a60f-82afe6420992",
        "colab": {
          "base_uri": "https://localhost:8080/",
          "height": 136
        }
      },
      "source": [
        "y"
      ],
      "execution_count": 41,
      "outputs": [
        {
          "output_type": "execute_result",
          "data": {
            "text/plain": [
              "array([0, 0, 0, 0, 0, 0, 0, 0, 0, 0, 0, 0, 0, 0, 0, 0, 0, 0, 0, 0, 0, 0,\n",
              "       0, 0, 0, 0, 0, 0, 0, 0, 0, 0, 0, 0, 0, 0, 0, 0, 0, 0, 0, 0, 0, 0,\n",
              "       0, 0, 0, 0, 0, 0, 1, 1, 1, 1, 1, 1, 1, 1, 1, 1, 1, 1, 1, 1, 1, 1,\n",
              "       1, 1, 1, 1, 1, 1, 1, 1, 1, 1, 1, 1, 1, 1, 1, 1, 1, 1, 1, 1, 1, 1,\n",
              "       1, 1, 1, 1, 1, 1, 1, 1, 1, 1, 1, 1, 2, 2, 2, 2, 2, 2, 2, 2, 2, 2,\n",
              "       2, 2, 2, 2, 2, 2, 2, 2, 2, 2, 2, 2, 2, 2, 2, 2, 2, 2, 2, 2, 2, 2,\n",
              "       2, 2, 2, 2, 2, 2, 2, 2, 2, 2, 2, 2, 2, 2, 2, 2, 2, 2])"
            ]
          },
          "metadata": {
            "tags": []
          },
          "execution_count": 41
        }
      ]
    },
    {
      "cell_type": "markdown",
      "metadata": {
        "id": "ftRJA9b1LHEG",
        "colab_type": "text"
      },
      "source": [
        "Let's try it!\n",
        "\n",
        "We'll do a train/validation/test split, with and without random shuffling.\n",
        "\n",
        "[Rachel Thomas]( https://www.fast.ai/2017/11/13/validation-sets/) points out that \"sklearn has a `train_test_split` method, but no `train_validation_test_split`.\"\n",
        "\n",
        "So we can write our own:\n"
      ]
    },
    {
      "cell_type": "code",
      "metadata": {
        "id": "8RKcKFA9Ll7z",
        "colab_type": "code",
        "colab": {}
      },
      "source": [
        "def train_validation_test_split(\n",
        "    X, y, train_size=0.8, val_size=0.1, test_size=0.1, \n",
        "    random_state=None, shuffle=True):\n",
        "        \n",
        "    assert train_size + val_size + test_size == 1\n",
        "    \n",
        "    X_train_val, X_test, y_train_val, y_test = train_test_split(\n",
        "        X, y, test_size=test_size, random_state=random_state, shuffle=shuffle)\n",
        "    \n",
        "    X_train, X_val, y_train, y_val = train_test_split(\n",
        "        X_train_val, y_train_val, test_size=val_size/(train_size+val_size), \n",
        "        random_state=random_state, shuffle=shuffle)\n",
        "    \n",
        "    return X_train, X_val, X_test, y_train, y_val, y_test"
      ],
      "execution_count": 0,
      "outputs": []
    },
    {
      "cell_type": "markdown",
      "metadata": {
        "id": "C6rtSKRjM-IJ",
        "colab_type": "text"
      },
      "source": [
        "Split Iris data into train/validation/test sets, _without_ random shuffling"
      ]
    },
    {
      "cell_type": "code",
      "metadata": {
        "id": "XZH057JSLmwH",
        "colab_type": "code",
        "colab": {
          "base_uri": "https://localhost:8080/",
          "height": 34
        },
        "outputId": "ea52a361-a2e5-44bd-a0cd-cd269232a2b9"
      },
      "source": [
        "X_train, X_val, X_test, y_train, y_val, y_test = train_validation_test_split(\n",
        "    X, y, shuffle=False)\n",
        "(X_train.shape, y_train.shape, X_val.shape, y_val.shape, X_test.shape, y_test.shape)"
      ],
      "execution_count": 44,
      "outputs": [
        {
          "output_type": "execute_result",
          "data": {
            "text/plain": [
              "((119, 4), (119,), (16, 4), (16,), (15, 4), (15,))"
            ]
          },
          "metadata": {
            "tags": []
          },
          "execution_count": 44
        }
      ]
    },
    {
      "cell_type": "markdown",
      "metadata": {
        "id": "GbW1sgSTUa3M",
        "colab_type": "text"
      },
      "source": [
        "Look at the train, validation, and test targets"
      ]
    },
    {
      "cell_type": "code",
      "metadata": {
        "id": "kRWwDV4CLyZ2",
        "colab_type": "code",
        "outputId": "3277925b-fa40-4a28-c2de-320dbda1e92a",
        "colab": {
          "base_uri": "https://localhost:8080/",
          "height": 119
        }
      },
      "source": [
        "y_train"
      ],
      "execution_count": 45,
      "outputs": [
        {
          "output_type": "execute_result",
          "data": {
            "text/plain": [
              "array([0, 0, 0, 0, 0, 0, 0, 0, 0, 0, 0, 0, 0, 0, 0, 0, 0, 0, 0, 0, 0, 0,\n",
              "       0, 0, 0, 0, 0, 0, 0, 0, 0, 0, 0, 0, 0, 0, 0, 0, 0, 0, 0, 0, 0, 0,\n",
              "       0, 0, 0, 0, 0, 0, 1, 1, 1, 1, 1, 1, 1, 1, 1, 1, 1, 1, 1, 1, 1, 1,\n",
              "       1, 1, 1, 1, 1, 1, 1, 1, 1, 1, 1, 1, 1, 1, 1, 1, 1, 1, 1, 1, 1, 1,\n",
              "       1, 1, 1, 1, 1, 1, 1, 1, 1, 1, 1, 1, 2, 2, 2, 2, 2, 2, 2, 2, 2, 2,\n",
              "       2, 2, 2, 2, 2, 2, 2, 2, 2])"
            ]
          },
          "metadata": {
            "tags": []
          },
          "execution_count": 45
        }
      ]
    },
    {
      "cell_type": "code",
      "metadata": {
        "id": "5idO3xNcUXpe",
        "colab_type": "code",
        "outputId": "d78335f5-97b4-46ef-a846-dfe8a395b140",
        "colab": {
          "base_uri": "https://localhost:8080/",
          "height": 34
        }
      },
      "source": [
        "y_val"
      ],
      "execution_count": 46,
      "outputs": [
        {
          "output_type": "execute_result",
          "data": {
            "text/plain": [
              "array([2, 2, 2, 2, 2, 2, 2, 2, 2, 2, 2, 2, 2, 2, 2, 2])"
            ]
          },
          "metadata": {
            "tags": []
          },
          "execution_count": 46
        }
      ]
    },
    {
      "cell_type": "code",
      "metadata": {
        "id": "H-uGeLEvUY1p",
        "colab_type": "code",
        "outputId": "c0ab5fd0-5822-49dd-82b4-bea70ca6f5a8",
        "colab": {
          "base_uri": "https://localhost:8080/",
          "height": 34
        }
      },
      "source": [
        "y_test"
      ],
      "execution_count": 47,
      "outputs": [
        {
          "output_type": "execute_result",
          "data": {
            "text/plain": [
              "array([2, 2, 2, 2, 2, 2, 2, 2, 2, 2, 2, 2, 2, 2, 2])"
            ]
          },
          "metadata": {
            "tags": []
          },
          "execution_count": 47
        }
      ]
    },
    {
      "cell_type": "markdown",
      "metadata": {
        "id": "0MqgrHtdUz3p",
        "colab_type": "text"
      },
      "source": [
        "Split Iris data into train/validation/test sets, _with_ random shuffling"
      ]
    },
    {
      "cell_type": "code",
      "metadata": {
        "id": "LcCr7C3OUZ94",
        "colab_type": "code",
        "colab": {
          "base_uri": "https://localhost:8080/",
          "height": 34
        },
        "outputId": "70928c71-d614-430e-b8f7-846b9842d878"
      },
      "source": [
        "X_train, X_val, X_test, y_train, y_val, y_test = train_validation_test_split(\n",
        "    X, y, shuffle=True)\n",
        "(X_train.shape, y_train.shape, X_val.shape, y_val.shape, X_test.shape, y_test.shape)"
      ],
      "execution_count": 48,
      "outputs": [
        {
          "output_type": "execute_result",
          "data": {
            "text/plain": [
              "((119, 4), (119,), (16, 4), (16,), (15, 4), (15,))"
            ]
          },
          "metadata": {
            "tags": []
          },
          "execution_count": 48
        }
      ]
    },
    {
      "cell_type": "markdown",
      "metadata": {
        "id": "FJG8yg-bVBqa",
        "colab_type": "text"
      },
      "source": [
        "Look at the train, validation, and test targets"
      ]
    },
    {
      "cell_type": "code",
      "metadata": {
        "id": "R0gY3R9LUk5t",
        "colab_type": "code",
        "outputId": "1b81b044-78ce-4c59-c5b3-ff8060a4a610",
        "colab": {
          "base_uri": "https://localhost:8080/",
          "height": 119
        }
      },
      "source": [
        "y_train"
      ],
      "execution_count": 49,
      "outputs": [
        {
          "output_type": "execute_result",
          "data": {
            "text/plain": [
              "array([0, 2, 0, 0, 0, 2, 2, 0, 2, 1, 2, 0, 1, 1, 1, 0, 0, 1, 2, 2, 2, 2,\n",
              "       0, 1, 2, 0, 1, 0, 1, 1, 0, 2, 0, 2, 2, 0, 0, 2, 0, 1, 2, 2, 2, 1,\n",
              "       1, 2, 1, 2, 0, 2, 1, 1, 1, 0, 2, 1, 2, 0, 0, 2, 2, 0, 0, 0, 0, 1,\n",
              "       0, 1, 0, 0, 0, 2, 2, 0, 0, 0, 2, 2, 2, 2, 1, 2, 0, 0, 1, 1, 2, 2,\n",
              "       2, 0, 0, 0, 1, 1, 1, 0, 1, 1, 0, 1, 1, 0, 1, 2, 0, 1, 1, 0, 0, 2,\n",
              "       2, 2, 2, 1, 2, 1, 0, 1, 1])"
            ]
          },
          "metadata": {
            "tags": []
          },
          "execution_count": 49
        }
      ]
    },
    {
      "cell_type": "code",
      "metadata": {
        "id": "G50zgzBkUuDF",
        "colab_type": "code",
        "outputId": "9a073003-f924-4ad5-b471-c310f2be8c31",
        "colab": {
          "base_uri": "https://localhost:8080/",
          "height": 34
        }
      },
      "source": [
        "y_val"
      ],
      "execution_count": 50,
      "outputs": [
        {
          "output_type": "execute_result",
          "data": {
            "text/plain": [
              "array([1, 1, 2, 2, 2, 2, 0, 1, 0, 2, 0, 1, 2, 1, 1, 1])"
            ]
          },
          "metadata": {
            "tags": []
          },
          "execution_count": 50
        }
      ]
    },
    {
      "cell_type": "code",
      "metadata": {
        "id": "hN-767fxUvHF",
        "colab_type": "code",
        "outputId": "6441fe67-4df5-4a85-994d-7cd89fce87cd",
        "colab": {
          "base_uri": "https://localhost:8080/",
          "height": 34
        }
      },
      "source": [
        "y_test"
      ],
      "execution_count": 51,
      "outputs": [
        {
          "output_type": "execute_result",
          "data": {
            "text/plain": [
              "array([1, 2, 1, 1, 1, 1, 0, 0, 0, 0, 1, 1, 2, 2, 2])"
            ]
          },
          "metadata": {
            "tags": []
          },
          "execution_count": 51
        }
      ]
    },
    {
      "cell_type": "markdown",
      "metadata": {
        "id": "a5E-ApbhVK7S",
        "colab_type": "text"
      },
      "source": [
        "That's better, but there's just not enough data for a three-way split. In fact, there's not much data for a two-way split. The Iris dataset is a rare example where you probably do want to use cross-validation _without_ an independent test set."
      ]
    },
    {
      "cell_type": "markdown",
      "metadata": {
        "id": "IlR-JFMz1uJD",
        "colab_type": "text"
      },
      "source": [
        "## Bank Marketing — shuffled or split by time?"
      ]
    },
    {
      "cell_type": "markdown",
      "metadata": {
        "id": "66D5zQJZVsOw",
        "colab_type": "text"
      },
      "source": [
        "https://archive.ics.uci.edu/ml/datasets/Bank+Marketing\n",
        "\n",
        "The data is related with direct marketing campaigns of a Portuguese banking institution. The marketing campaigns were based on phone calls. Often, more than one contact to the same client was required, in order to access if the product (bank term deposit) would be ('yes') or not ('no') subscribed. \n",
        "\n",
        "bank-additional-full.csv with all examples (41188) and 20 inputs, **ordered by date (from May 2008 to November 2010)**"
      ]
    },
    {
      "cell_type": "code",
      "metadata": {
        "id": "FNu4xmu1Vvtj",
        "colab_type": "code",
        "colab": {
          "base_uri": "https://localhost:8080/",
          "height": 233
        },
        "outputId": "43eb9595-d6d1-4613-8e0b-f60e535fc61a"
      },
      "source": [
        "!wget https://archive.ics.uci.edu/ml/machine-learning-databases/00222/bank-additional.zip"
      ],
      "execution_count": 52,
      "outputs": [
        {
          "output_type": "stream",
          "text": [
            "--2019-08-04 04:06:12--  https://archive.ics.uci.edu/ml/machine-learning-databases/00222/bank-additional.zip\n",
            "Resolving archive.ics.uci.edu (archive.ics.uci.edu)... 128.195.10.252\n",
            "Connecting to archive.ics.uci.edu (archive.ics.uci.edu)|128.195.10.252|:443... connected.\n",
            "HTTP request sent, awaiting response... 200 OK\n",
            "Length: 444572 (434K) [application/x-httpd-php]\n",
            "Saving to: ‘bank-additional.zip’\n",
            "\n",
            "\rbank-additional.zip   0%[                    ]       0  --.-KB/s               \rbank-additional.zip 100%[===================>] 434.15K  --.-KB/s    in 0.1s    \n",
            "\n",
            "2019-08-04 04:06:12 (2.83 MB/s) - ‘bank-additional.zip’ saved [444572/444572]\n",
            "\n"
          ],
          "name": "stdout"
        }
      ]
    },
    {
      "cell_type": "code",
      "metadata": {
        "id": "cGsCdBSoVwZU",
        "colab_type": "code",
        "colab": {
          "base_uri": "https://localhost:8080/",
          "height": 233
        },
        "outputId": "c973b585-897f-4609-f744-90695bca4738"
      },
      "source": [
        "!unzip bank-additional.zip"
      ],
      "execution_count": 53,
      "outputs": [
        {
          "output_type": "stream",
          "text": [
            "Archive:  bank-additional.zip\n",
            "   creating: bank-additional/\n",
            "  inflating: bank-additional/.DS_Store  \n",
            "   creating: __MACOSX/\n",
            "   creating: __MACOSX/bank-additional/\n",
            "  inflating: __MACOSX/bank-additional/._.DS_Store  \n",
            "  inflating: bank-additional/.Rhistory  \n",
            "  inflating: bank-additional/bank-additional-full.csv  \n",
            "  inflating: bank-additional/bank-additional-names.txt  \n",
            "  inflating: bank-additional/bank-additional.csv  \n",
            "  inflating: __MACOSX/._bank-additional  \n"
          ],
          "name": "stdout"
        }
      ]
    },
    {
      "cell_type": "code",
      "metadata": {
        "id": "FmtEAZeWVx6B",
        "colab_type": "code",
        "colab": {}
      },
      "source": [
        "#%cd bank-additional"
      ],
      "execution_count": 0,
      "outputs": []
    },
    {
      "cell_type": "code",
      "metadata": {
        "id": "8ucARvXRV2VG",
        "colab_type": "code",
        "colab": {}
      },
      "source": [
        "bank = pd.read_csv('bank-additional/bank-additional-full.csv', sep=';')\n",
        "\n",
        "X = bank.drop(columns='y')\n",
        "y = bank['y'] == 'yes'"
      ],
      "execution_count": 0,
      "outputs": []
    },
    {
      "cell_type": "markdown",
      "metadata": {
        "id": "dLpHSzvOV7VV",
        "colab_type": "text"
      },
      "source": [
        "### Shuffled split?"
      ]
    },
    {
      "cell_type": "code",
      "metadata": {
        "id": "o73gJvtCWEEP",
        "colab_type": "code",
        "colab": {}
      },
      "source": [
        "X_train, X_val, X_test, y_train, y_val, y_test = train_validation_test_split(\n",
        "    X, y, shuffle=True)"
      ],
      "execution_count": 0,
      "outputs": []
    },
    {
      "cell_type": "code",
      "metadata": {
        "id": "-1uTNhM1WHzY",
        "colab_type": "code",
        "outputId": "f6e97b20-643a-40fc-b2f6-47c9e3804e87",
        "colab": {
          "base_uri": "https://localhost:8080/",
          "height": 34
        }
      },
      "source": [
        "[array.shape for array in (X_train, X_val, X_test, y_train, y_val, y_test)]"
      ],
      "execution_count": 56,
      "outputs": [
        {
          "output_type": "execute_result",
          "data": {
            "text/plain": [
              "[(32950, 20), (4119, 20), (4119, 20), (32950,), (4119,), (4119,)]"
            ]
          },
          "metadata": {
            "tags": []
          },
          "execution_count": 56
        }
      ]
    },
    {
      "cell_type": "code",
      "metadata": {
        "id": "qLOpqjRnWIYG",
        "colab_type": "code",
        "outputId": "cf8e9d35-f79e-4e63-9e16-8726c8cd19b2",
        "colab": {
          "base_uri": "https://localhost:8080/",
          "height": 34
        }
      },
      "source": [
        "y_train.mean(), y_val.mean(), y_test.mean()"
      ],
      "execution_count": 57,
      "outputs": [
        {
          "output_type": "execute_result",
          "data": {
            "text/plain": [
              "(0.11323216995447648, 0.11070648215586307, 0.1099781500364166)"
            ]
          },
          "metadata": {
            "tags": []
          },
          "execution_count": 57
        }
      ]
    },
    {
      "cell_type": "markdown",
      "metadata": {
        "id": "FmyRVRrhWP9W",
        "colab_type": "text"
      },
      "source": [
        "### Split by time?"
      ]
    },
    {
      "cell_type": "code",
      "metadata": {
        "id": "PJMAPBolWUFs",
        "colab_type": "code",
        "colab": {}
      },
      "source": [
        "X_train, X_val, X_test, y_train, y_val, y_test = train_validation_test_split(\n",
        "    X, y, shuffle=False)"
      ],
      "execution_count": 0,
      "outputs": []
    },
    {
      "cell_type": "code",
      "metadata": {
        "id": "vbw2Sg-JWU-b",
        "colab_type": "code",
        "outputId": "19918f95-d2e9-400f-a47c-0108d3e0e7fd",
        "colab": {
          "base_uri": "https://localhost:8080/",
          "height": 34
        }
      },
      "source": [
        "[array.shape for array in (X_train, X_val, X_test, y_train, y_val, y_test)]"
      ],
      "execution_count": 59,
      "outputs": [
        {
          "output_type": "execute_result",
          "data": {
            "text/plain": [
              "[(32950, 20), (4119, 20), (4119, 20), (32950,), (4119,), (4119,)]"
            ]
          },
          "metadata": {
            "tags": []
          },
          "execution_count": 59
        }
      ]
    },
    {
      "cell_type": "code",
      "metadata": {
        "id": "QF7DiZbFWWGo",
        "colab_type": "code",
        "outputId": "0e951be0-62a3-4a89-85c0-3fcd50f93d7a",
        "colab": {
          "base_uri": "https://localhost:8080/",
          "height": 34
        }
      },
      "source": [
        "y_train.mean(), y_val.mean(), y_test.mean()"
      ],
      "execution_count": 60,
      "outputs": [
        {
          "output_type": "execute_result",
          "data": {
            "text/plain": [
              "(0.0637329286798179, 0.157319737800437, 0.4593347899975722)"
            ]
          },
          "metadata": {
            "tags": []
          },
          "execution_count": 60
        }
      ]
    },
    {
      "cell_type": "code",
      "metadata": {
        "id": "7rWfygKtWZPg",
        "colab_type": "code",
        "outputId": "f0af80df-6edc-4e57-97f2-8d7ee8a4ade8",
        "colab": {
          "base_uri": "https://localhost:8080/",
          "height": 377
        }
      },
      "source": [
        "plt.gcf().set_size_inches(10, 6)\n",
        "y.rolling(500).mean().plot();"
      ],
      "execution_count": 63,
      "outputs": [
        {
          "output_type": "display_data",
          "data": {
            "image/png": "[encoded data removed]",
            "text/plain": [
              "<Figure size 720x432 with 1 Axes>"
            ]
          },
          "metadata": {
            "tags": []
          }
        }
      ]
    },
    {
      "cell_type": "markdown",
      "metadata": {
        "id": "uD3xRARIWbnW",
        "colab_type": "text"
      },
      "source": [
        "***The \"right\" choice here is unclear, but either way, it will make a big difference!***"
      ]
    },
    {
      "cell_type": "markdown",
      "metadata": {
        "id": "Ibhax45nNcDJ",
        "colab_type": "text"
      },
      "source": [
        "# ASSIGNMENT options\n",
        "\n",
        "- Replicate the lesson code. [Do it \"the hard way\" or with the \"Benjamin Franklin method.\"](https://docs.google.com/document/d/1ubOw9B3Hfip27hF2ZFnW3a3z9xAgrUDRReOEo-FHCVs/edit)\n",
        "- Apply the lesson to other datasets you've worked with before, and compare results.\n",
        "- Choose how to split the Bank Marketing dataset. Train and validate baseline models. _Is there a feature you should remove, to prevent \"leakage\"?_\n",
        "- Get weather data for your own area and calculate both baselines.  _\"One (persistence) predicts that the weather tomorrow is going to be whatever it was today. The other (climatology) predicts whatever the average historical weather has been on this day from prior years.\"_ What is the mean absolute error for each baseline? What if you average the two together? \n",
        "- When would this notebook's pipelines fail? How could you fix them? Add more [preprocessing](https://scikit-learn.org/stable/modules/preprocessing.html) and [imputation](https://scikit-learn.org/stable/modules/impute.html) to your [pipelines](https://scikit-learn.org/stable/modules/compose.html) with scikit-learn.\n",
        "- [This example from scikit-learn documentation](https://scikit-learn.org/stable/auto_examples/compose/plot_column_transformer_mixed_types.html) demonstrates its improved `OneHotEncoder` and new `ColumnTransformer` objects, which can replace functionality from [third-party libraries](https://github.com/scikit-learn-contrib) like category_encoders and sklearn-pandas. Adapt this example, which uses Titanic data, to work with another dataset.\n",
        "\n",
        "\n",
        "\n",
        "\n"
      ]
    }
  ]
}