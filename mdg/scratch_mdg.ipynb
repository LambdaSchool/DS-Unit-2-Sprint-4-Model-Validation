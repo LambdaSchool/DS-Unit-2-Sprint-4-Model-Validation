{
 "cells": [
  {
   "cell_type": "code",
   "execution_count": 36,
   "metadata": {},
   "outputs": [
    {
     "data": {
      "text/plain": [
       "'1975'"
      ]
     },
     "execution_count": 36,
     "metadata": {},
     "output_type": "execute_result"
    }
   ],
   "source": [
    "import pandas as pd\n",
    "import numpy as np\n",
    "\n",
    "#\n",
    "#https://www.drivendata.org/competitions/1/united-nations-millennium-development-goals/submissions/\n",
    "daturl = 'data/TrainingSet.csv'\n",
    "submission_url = 'SubmissionRows.csv'\n",
    "# evaluation metric: Root-mean-square Error \n",
    "\n",
    "submission = pd.read_csv(submission_url)\n",
    "df_ = pd.read_csv(daturl)\n",
    "\n",
    "df_.isna().sum(), df_.shape[0]\n",
    "\n",
    "\n",
    "def column_name_lamb(s): \n",
    "    if s[0] in ['{}'.format(k) for k in range(10)]:\n",
    "        return int(s.split(' ')[0])\n",
    "    else: return s.replace(' ', '_')\n",
    "\n",
    "df_.columns = df_.columns.map(column_name_lamb)\n",
    "df_.head()\n",
    "\n",
    "\n",
    "df_.columns[4]"
   ]
  },
  {
   "cell_type": "code",
   "execution_count": 27,
   "metadata": {},
   "outputs": [
    {
     "data": {
      "text/plain": [
       "Index(['Country_Name', 'Series_Code', 'Series_Name'], dtype='object')"
      ]
     },
     "execution_count": 27,
     "metadata": {},
     "output_type": "execute_result"
    }
   ],
   "source": [
    "df_.select_dtypes(exclude=['int', 'float']).columns.map(lambda s: s.replace(\" \", \"_\"))"
   ]
  },
  {
   "cell_type": "code",
   "execution_count": 28,
   "metadata": {},
   "outputs": [
    {
     "data": {
      "text/plain": [
       "'1979'"
      ]
     },
     "execution_count": 28,
     "metadata": {},
     "output_type": "execute_result"
    }
   ],
   "source": [
    "'1979 [YR1979]'.split(' ')[0]"
   ]
  },
  {
   "cell_type": "code",
   "execution_count": null,
   "metadata": {},
   "outputs": [],
   "source": []
  },
  {
   "cell_type": "code",
   "execution_count": null,
   "metadata": {},
   "outputs": [],
   "source": []
  },
  {
   "cell_type": "code",
   "execution_count": null,
   "metadata": {},
   "outputs": [],
   "source": []
  }
 ],
 "metadata": {
  "kernelspec": {
   "display_name": "Python 3",
   "language": "python",
   "name": "python3"
  },
  "language_info": {
   "codemirror_mode": {
    "name": "ipython",
    "version": 3
   },
   "file_extension": ".py",
   "mimetype": "text/x-python",
   "name": "python",
   "nbconvert_exporter": "python",
   "pygments_lexer": "ipython3",
   "version": "3.6.8"
  }
 },
 "nbformat": 4,
 "nbformat_minor": 2
}
