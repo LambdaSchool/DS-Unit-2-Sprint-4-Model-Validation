{
  "nbformat": 4,
  "nbformat_minor": 0,
  "metadata": {
    "colab": {
      "name": "LS_DS_243_Select_models_and_parameters_assignment.ipynb",
      "version": "0.3.2",
      "provenance": [],
      "collapsed_sections": [],
      "include_colab_link": true
    },
    "kernelspec": {
      "name": "python3",
      "display_name": "Python 3"
    }
  },
  "cells": [
    {
      "cell_type": "markdown",
      "metadata": {
        "id": "view-in-github",
        "colab_type": "text"
      },
      "source": [
        "<a href=\"https://colab.research.google.com/github/krsmith/DS-Unit-2-Sprint-4-Model-Validation/blob/master/module-3-select-models-and-parameters/LS_DS_243_Select_models_and_parameters_assignment.ipynb\" target=\"_parent\"><img src=\"https://colab.research.google.com/assets/colab-badge.svg\" alt=\"Open In Colab\"/></a>"
      ]
    },
    {
      "metadata": {
        "id": "O67uhlT4MExK",
        "colab_type": "text"
      },
      "cell_type": "markdown",
      "source": [
        "_Lambda School Data Science — Model Validation_\n",
        "\n",
        "# Select models and parameters\n",
        "\n",
        "Objectives\n",
        "- Hyperparameter optimization\n",
        "- Model selection"
      ]
    },
    {
      "metadata": {
        "id": "VE4rfZd4NUGA",
        "colab_type": "text"
      },
      "cell_type": "markdown",
      "source": [
        "Today we'll use this process:\n",
        "\n",
        "## \"A universal workflow of machine learning\"\n",
        "\n",
        "_Excerpt from Francois Chollet, [Deep Learning with Python](https://github.com/fchollet/deep-learning-with-python-notebooks/blob/master/README.md), Chapter 4: Fundamentals of machine learning_\n",
        " \n",
        "**1. Define the problem at hand and the data on which you’ll train.** Collect this data, or annotate it with labels if need be.\n",
        "\n",
        "**2. Choose how you’ll measure success on your problem.** Which metrics will you monitor on your validation data?\n",
        "\n",
        "**3. Determine your evaluation protocol:** hold-out validation? K-fold validation? Which portion of the data should you use for validation?\n",
        "\n",
        "**4. Develop a first model that does better than a basic baseline:** a model with statistical power.\n",
        "\n",
        "**5. Develop a model that overfits.** The universal tension in machine learning is between optimization and generalization; the ideal model is one that stands right at the border between underfitting and overfitting; between undercapacity and overcapacity. To figure out where this border lies, first you must cross it.\n",
        "\n",
        "**6. Regularize your model and tune its hyperparameters, based on performance on the validation data.** Repeatedly modify your model, train it, evaluate on your validation data (not the test data, at this point), modify it again, and repeat, until the model is as good as it can get. \n",
        "\n",
        "Iterate on feature engineering: add new features, or remove features that don’t seem to be informative. Once you’ve developed a satisfactory model configuration, you can train your final production model on all the available data (training and validation) and evaluate it one last time on the test set.\n"
      ]
    },
    {
      "metadata": {
        "id": "3kt6bzEcOIaa",
        "colab_type": "text"
      },
      "cell_type": "markdown",
      "source": [
        "## 1. Define the problem at hand and the data on which you'll train"
      ]
    },
    {
      "metadata": {
        "id": "di16k7vpRg67",
        "colab_type": "text"
      },
      "cell_type": "markdown",
      "source": [
        "We'll apply the workflow to a [project from _Python Data Science Handbook_](https://jakevdp.github.io/PythonDataScienceHandbook/05.06-linear-regression.html#Example:-Predicting-Bicycle-Traffic) by Jake VanderPlas:\n",
        "\n",
        "> **Predicting Bicycle Traffic**\n",
        "\n",
        "> As an example, let's take a look at whether we can predict the number of bicycle trips across Seattle's Fremont Bridge based on weather, season, and other factors.\n",
        "\n",
        "> We will join the bike data with another dataset, and try to determine the extent to which weather and seasonal factors—temperature, precipitation, and daylight hours—affect the volume of bicycle traffic through this corridor. Fortunately, the NOAA makes available their daily [weather station data](http://www.ncdc.noaa.gov/cdo-web/search?datasetid=GHCND) (I used station ID USW00024233) and we can easily use Pandas to join the two data sources.\n",
        "\n",
        "> Let's start by loading the two datasets, indexing by date:"
      ]
    },
    {
      "metadata": {
        "id": "19dpb_d0R1A6",
        "colab_type": "text"
      },
      "cell_type": "markdown",
      "source": [
        "So this is a regression problem, not a classification problem. We'll define the target, choose an evaluation metric, and choose models that are appropriate for regression problems.\n",
        "\n",
        "\n"
      ]
    },
    {
      "metadata": {
        "id": "os1zruXQ30KM",
        "colab_type": "text"
      },
      "cell_type": "markdown",
      "source": [
        "### Download data"
      ]
    },
    {
      "metadata": {
        "id": "5XVu-HSeMDtV",
        "colab_type": "code",
        "outputId": "2bfb1131-78fd-4d84-a96f-f3445659b24b",
        "colab": {
          "base_uri": "https://localhost:8080/",
          "height": 68
        }
      },
      "cell_type": "code",
      "source": [
        "!curl -o FremontBridge.csv https://data.seattle.gov/api/views/65db-xm6k/rows.csv?accessType=DOWNLOAD"
      ],
      "execution_count": 0,
      "outputs": [
        {
          "output_type": "stream",
          "text": [
            "  % Total    % Received % Xferd  Average Speed   Time    Time     Time  Current\n",
            "                                 Dload  Upload   Total   Spent    Left  Speed\n",
            "100 1536k    0 1536k    0     0  1103k      0 --:--:--  0:00:01 --:--:-- 1104k\n"
          ],
          "name": "stdout"
        }
      ]
    },
    {
      "metadata": {
        "id": "sih_7mTzMdfr",
        "colab_type": "code",
        "outputId": "3841ad2a-2751-40ac-8c96-9ee778ba3a90",
        "colab": {
          "base_uri": "https://localhost:8080/",
          "height": 204
        }
      },
      "cell_type": "code",
      "source": [
        "!wget https://raw.githubusercontent.com/jakevdp/PythonDataScienceHandbook/master/notebooks/data/BicycleWeather.csv"
      ],
      "execution_count": 0,
      "outputs": [
        {
          "output_type": "stream",
          "text": [
            "--2019-01-30 17:19:16--  https://raw.githubusercontent.com/jakevdp/PythonDataScienceHandbook/master/notebooks/data/BicycleWeather.csv\n",
            "Resolving raw.githubusercontent.com (raw.githubusercontent.com)... 151.101.0.133, 151.101.64.133, 151.101.128.133, ...\n",
            "Connecting to raw.githubusercontent.com (raw.githubusercontent.com)|151.101.0.133|:443... connected.\n",
            "HTTP request sent, awaiting response... 200 OK\n",
            "Length: 234945 (229K) [text/plain]\n",
            "Saving to: ‘BicycleWeather.csv’\n",
            "\n",
            "\rBicycleWeather.csv    0%[                    ]       0  --.-KB/s               \rBicycleWeather.csv  100%[===================>] 229.44K  --.-KB/s    in 0.05s   \n",
            "\n",
            "2019-01-30 17:19:16 (4.44 MB/s) - ‘BicycleWeather.csv’ saved [234945/234945]\n",
            "\n"
          ],
          "name": "stdout"
        }
      ]
    },
    {
      "metadata": {
        "id": "9GYm74kD34OQ",
        "colab_type": "text"
      },
      "cell_type": "markdown",
      "source": [
        "### Load data"
      ]
    },
    {
      "metadata": {
        "id": "BfQ7gE28MNdF",
        "colab_type": "code",
        "colab": {}
      },
      "cell_type": "code",
      "source": [
        "# Modified from cells 15, 16, and 20, at\n",
        "# https://jakevdp.github.io/PythonDataScienceHandbook/05.06-linear-regression.html#Example:-Predicting-Bicycle-Traffic\n",
        "\n",
        "import pandas as pd\n",
        "\n",
        "counts = pd.read_csv('FremontBridge.csv', index_col='Date', parse_dates=True, \n",
        "                     infer_datetime_format=True)\n",
        "\n",
        "weather = pd.read_csv('BicycleWeather.csv', index_col='DATE', parse_dates=True, \n",
        "                      infer_datetime_format=True)\n",
        "\n",
        "daily = counts.resample('d').sum()\n",
        "daily['Total'] = daily.sum(axis=1)\n",
        "daily = daily[['Total']] # remove other columns\n",
        "\n",
        "weather_columns = ['PRCP', 'SNOW', 'SNWD', 'TMAX', 'TMIN', 'AWND']\n",
        "daily = daily.join(weather[weather_columns], how='inner')"
      ],
      "execution_count": 0,
      "outputs": []
    },
    {
      "metadata": {
        "id": "i0YYD6rvypb4",
        "colab_type": "code",
        "colab": {}
      },
      "cell_type": "code",
      "source": [
        "# Make a feature for yesterday's total\n",
        "daily['Total_yesterday'] = daily.Total.shift(1)\n",
        "\n",
        "daily = daily.drop(index=daily.index[0])"
      ],
      "execution_count": 0,
      "outputs": []
    },
    {
      "metadata": {
        "id": "VVB3g4704An5",
        "colab_type": "text"
      },
      "cell_type": "markdown",
      "source": [
        "### First fast look at the data\n",
        "- What's the shape?\n",
        "- What's the date range?\n",
        "- What's the target and the features?"
      ]
    },
    {
      "metadata": {
        "id": "t50E2fTUWBBU",
        "colab_type": "code",
        "outputId": "f4830ef6-77b0-4492-8796-16da4db1d7fd",
        "colab": {
          "base_uri": "https://localhost:8080/",
          "height": 34
        }
      },
      "cell_type": "code",
      "source": [
        "daily.shape"
      ],
      "execution_count": 0,
      "outputs": [
        {
          "output_type": "execute_result",
          "data": {
            "text/plain": [
              "(1063, 8)"
            ]
          },
          "metadata": {
            "tags": []
          },
          "execution_count": 7
        }
      ]
    },
    {
      "metadata": {
        "id": "ivIsIPbQx--x",
        "colab_type": "code",
        "outputId": "d3cb540d-8d61-4129-f3ab-866d4c4a7a27",
        "colab": {
          "base_uri": "https://localhost:8080/",
          "height": 204
        }
      },
      "cell_type": "code",
      "source": [
        "daily.head()"
      ],
      "execution_count": 0,
      "outputs": [
        {
          "output_type": "execute_result",
          "data": {
            "text/html": [
              "<div>\n",
              "<style scoped>\n",
              "    .dataframe tbody tr th:only-of-type {\n",
              "        vertical-align: middle;\n",
              "    }\n",
              "\n",
              "    .dataframe tbody tr th {\n",
              "        vertical-align: top;\n",
              "    }\n",
              "\n",
              "    .dataframe thead th {\n",
              "        text-align: right;\n",
              "    }\n",
              "</style>\n",
              "<table border=\"1\" class=\"dataframe\">\n",
              "  <thead>\n",
              "    <tr style=\"text-align: right;\">\n",
              "      <th></th>\n",
              "      <th>Total</th>\n",
              "      <th>PRCP</th>\n",
              "      <th>SNOW</th>\n",
              "      <th>SNWD</th>\n",
              "      <th>TMAX</th>\n",
              "      <th>TMIN</th>\n",
              "      <th>AWND</th>\n",
              "      <th>Total_yesterday</th>\n",
              "    </tr>\n",
              "  </thead>\n",
              "  <tbody>\n",
              "    <tr>\n",
              "      <th>2012-10-04</th>\n",
              "      <td>3475.0</td>\n",
              "      <td>0</td>\n",
              "      <td>0</td>\n",
              "      <td>0</td>\n",
              "      <td>189</td>\n",
              "      <td>83</td>\n",
              "      <td>65</td>\n",
              "      <td>3521.0</td>\n",
              "    </tr>\n",
              "    <tr>\n",
              "      <th>2012-10-05</th>\n",
              "      <td>3148.0</td>\n",
              "      <td>0</td>\n",
              "      <td>0</td>\n",
              "      <td>0</td>\n",
              "      <td>217</td>\n",
              "      <td>89</td>\n",
              "      <td>57</td>\n",
              "      <td>3475.0</td>\n",
              "    </tr>\n",
              "    <tr>\n",
              "      <th>2012-10-06</th>\n",
              "      <td>2006.0</td>\n",
              "      <td>0</td>\n",
              "      <td>0</td>\n",
              "      <td>0</td>\n",
              "      <td>239</td>\n",
              "      <td>78</td>\n",
              "      <td>51</td>\n",
              "      <td>3148.0</td>\n",
              "    </tr>\n",
              "    <tr>\n",
              "      <th>2012-10-07</th>\n",
              "      <td>2142.0</td>\n",
              "      <td>0</td>\n",
              "      <td>0</td>\n",
              "      <td>0</td>\n",
              "      <td>239</td>\n",
              "      <td>78</td>\n",
              "      <td>13</td>\n",
              "      <td>2006.0</td>\n",
              "    </tr>\n",
              "    <tr>\n",
              "      <th>2012-10-08</th>\n",
              "      <td>3537.0</td>\n",
              "      <td>0</td>\n",
              "      <td>0</td>\n",
              "      <td>0</td>\n",
              "      <td>211</td>\n",
              "      <td>78</td>\n",
              "      <td>19</td>\n",
              "      <td>2142.0</td>\n",
              "    </tr>\n",
              "  </tbody>\n",
              "</table>\n",
              "</div>"
            ],
            "text/plain": [
              "             Total  PRCP  SNOW  SNWD  TMAX  TMIN  AWND  Total_yesterday\n",
              "2012-10-04  3475.0     0     0     0   189    83    65           3521.0\n",
              "2012-10-05  3148.0     0     0     0   217    89    57           3475.0\n",
              "2012-10-06  2006.0     0     0     0   239    78    51           3148.0\n",
              "2012-10-07  2142.0     0     0     0   239    78    13           2006.0\n",
              "2012-10-08  3537.0     0     0     0   211    78    19           2142.0"
            ]
          },
          "metadata": {
            "tags": []
          },
          "execution_count": 8
        }
      ]
    },
    {
      "metadata": {
        "id": "equ6Sj88yC5k",
        "colab_type": "code",
        "outputId": "8acd4b8f-316c-428f-f068-fdcca8b81331",
        "colab": {
          "base_uri": "https://localhost:8080/",
          "height": 204
        }
      },
      "cell_type": "code",
      "source": [
        "daily.tail()"
      ],
      "execution_count": 0,
      "outputs": [
        {
          "output_type": "execute_result",
          "data": {
            "text/html": [
              "<div>\n",
              "<style scoped>\n",
              "    .dataframe tbody tr th:only-of-type {\n",
              "        vertical-align: middle;\n",
              "    }\n",
              "\n",
              "    .dataframe tbody tr th {\n",
              "        vertical-align: top;\n",
              "    }\n",
              "\n",
              "    .dataframe thead th {\n",
              "        text-align: right;\n",
              "    }\n",
              "</style>\n",
              "<table border=\"1\" class=\"dataframe\">\n",
              "  <thead>\n",
              "    <tr style=\"text-align: right;\">\n",
              "      <th></th>\n",
              "      <th>Total</th>\n",
              "      <th>PRCP</th>\n",
              "      <th>SNOW</th>\n",
              "      <th>SNWD</th>\n",
              "      <th>TMAX</th>\n",
              "      <th>TMIN</th>\n",
              "      <th>AWND</th>\n",
              "      <th>Total_yesterday</th>\n",
              "    </tr>\n",
              "  </thead>\n",
              "  <tbody>\n",
              "    <tr>\n",
              "      <th>2015-08-28</th>\n",
              "      <td>2653.0</td>\n",
              "      <td>5</td>\n",
              "      <td>0</td>\n",
              "      <td>0</td>\n",
              "      <td>233</td>\n",
              "      <td>156</td>\n",
              "      <td>26</td>\n",
              "      <td>4336.0</td>\n",
              "    </tr>\n",
              "    <tr>\n",
              "      <th>2015-08-29</th>\n",
              "      <td>699.0</td>\n",
              "      <td>325</td>\n",
              "      <td>0</td>\n",
              "      <td>0</td>\n",
              "      <td>222</td>\n",
              "      <td>133</td>\n",
              "      <td>58</td>\n",
              "      <td>2653.0</td>\n",
              "    </tr>\n",
              "    <tr>\n",
              "      <th>2015-08-30</th>\n",
              "      <td>1213.0</td>\n",
              "      <td>102</td>\n",
              "      <td>0</td>\n",
              "      <td>0</td>\n",
              "      <td>200</td>\n",
              "      <td>128</td>\n",
              "      <td>47</td>\n",
              "      <td>699.0</td>\n",
              "    </tr>\n",
              "    <tr>\n",
              "      <th>2015-08-31</th>\n",
              "      <td>2823.0</td>\n",
              "      <td>0</td>\n",
              "      <td>0</td>\n",
              "      <td>0</td>\n",
              "      <td>189</td>\n",
              "      <td>161</td>\n",
              "      <td>58</td>\n",
              "      <td>1213.0</td>\n",
              "    </tr>\n",
              "    <tr>\n",
              "      <th>2015-09-01</th>\n",
              "      <td>2876.0</td>\n",
              "      <td>58</td>\n",
              "      <td>0</td>\n",
              "      <td>0</td>\n",
              "      <td>194</td>\n",
              "      <td>139</td>\n",
              "      <td>-9999</td>\n",
              "      <td>2823.0</td>\n",
              "    </tr>\n",
              "  </tbody>\n",
              "</table>\n",
              "</div>"
            ],
            "text/plain": [
              "             Total  PRCP  SNOW  SNWD  TMAX  TMIN  AWND  Total_yesterday\n",
              "2015-08-28  2653.0     5     0     0   233   156    26           4336.0\n",
              "2015-08-29   699.0   325     0     0   222   133    58           2653.0\n",
              "2015-08-30  1213.0   102     0     0   200   128    47            699.0\n",
              "2015-08-31  2823.0     0     0     0   189   161    58           1213.0\n",
              "2015-09-01  2876.0    58     0     0   194   139 -9999           2823.0"
            ]
          },
          "metadata": {
            "tags": []
          },
          "execution_count": 9
        }
      ]
    },
    {
      "metadata": {
        "id": "lU2TAoSZy93q",
        "colab_type": "code",
        "outputId": "7678208d-0cae-44a9-f874-04a7031f5735",
        "colab": {
          "base_uri": "https://localhost:8080/",
          "height": 297
        }
      },
      "cell_type": "code",
      "source": [
        "daily.describe()"
      ],
      "execution_count": 0,
      "outputs": [
        {
          "output_type": "execute_result",
          "data": {
            "text/html": [
              "<div>\n",
              "<style scoped>\n",
              "    .dataframe tbody tr th:only-of-type {\n",
              "        vertical-align: middle;\n",
              "    }\n",
              "\n",
              "    .dataframe tbody tr th {\n",
              "        vertical-align: top;\n",
              "    }\n",
              "\n",
              "    .dataframe thead th {\n",
              "        text-align: right;\n",
              "    }\n",
              "</style>\n",
              "<table border=\"1\" class=\"dataframe\">\n",
              "  <thead>\n",
              "    <tr style=\"text-align: right;\">\n",
              "      <th></th>\n",
              "      <th>Total</th>\n",
              "      <th>PRCP</th>\n",
              "      <th>SNOW</th>\n",
              "      <th>SNWD</th>\n",
              "      <th>TMAX</th>\n",
              "      <th>TMIN</th>\n",
              "      <th>AWND</th>\n",
              "      <th>Total_yesterday</th>\n",
              "    </tr>\n",
              "  </thead>\n",
              "  <tbody>\n",
              "    <tr>\n",
              "      <th>count</th>\n",
              "      <td>1063.000000</td>\n",
              "      <td>1063.000000</td>\n",
              "      <td>1063.000000</td>\n",
              "      <td>1063.000000</td>\n",
              "      <td>1063.000000</td>\n",
              "      <td>1063.000000</td>\n",
              "      <td>1063.000000</td>\n",
              "      <td>1063.000000</td>\n",
              "    </tr>\n",
              "    <tr>\n",
              "      <th>mean</th>\n",
              "      <td>2632.449671</td>\n",
              "      <td>29.350894</td>\n",
              "      <td>-37.496707</td>\n",
              "      <td>0.098777</td>\n",
              "      <td>166.863594</td>\n",
              "      <td>84.472248</td>\n",
              "      <td>22.338664</td>\n",
              "      <td>2633.056444</td>\n",
              "    </tr>\n",
              "    <tr>\n",
              "      <th>std</th>\n",
              "      <td>1252.864020</td>\n",
              "      <td>65.813053</td>\n",
              "      <td>612.512583</td>\n",
              "      <td>2.570041</td>\n",
              "      <td>74.779734</td>\n",
              "      <td>50.916006</td>\n",
              "      <td>307.984292</td>\n",
              "      <td>1253.138245</td>\n",
              "    </tr>\n",
              "    <tr>\n",
              "      <th>min</th>\n",
              "      <td>98.000000</td>\n",
              "      <td>0.000000</td>\n",
              "      <td>-9999.000000</td>\n",
              "      <td>0.000000</td>\n",
              "      <td>-16.000000</td>\n",
              "      <td>-71.000000</td>\n",
              "      <td>-9999.000000</td>\n",
              "      <td>98.000000</td>\n",
              "    </tr>\n",
              "    <tr>\n",
              "      <th>25%</th>\n",
              "      <td>1806.000000</td>\n",
              "      <td>0.000000</td>\n",
              "      <td>0.000000</td>\n",
              "      <td>0.000000</td>\n",
              "      <td>111.000000</td>\n",
              "      <td>44.000000</td>\n",
              "      <td>22.000000</td>\n",
              "      <td>1806.000000</td>\n",
              "    </tr>\n",
              "    <tr>\n",
              "      <th>50%</th>\n",
              "      <td>2435.000000</td>\n",
              "      <td>0.000000</td>\n",
              "      <td>0.000000</td>\n",
              "      <td>0.000000</td>\n",
              "      <td>150.000000</td>\n",
              "      <td>83.000000</td>\n",
              "      <td>29.000000</td>\n",
              "      <td>2435.000000</td>\n",
              "    </tr>\n",
              "    <tr>\n",
              "      <th>75%</th>\n",
              "      <td>3574.500000</td>\n",
              "      <td>26.500000</td>\n",
              "      <td>0.000000</td>\n",
              "      <td>0.000000</td>\n",
              "      <td>222.000000</td>\n",
              "      <td>128.000000</td>\n",
              "      <td>40.000000</td>\n",
              "      <td>3574.500000</td>\n",
              "    </tr>\n",
              "    <tr>\n",
              "      <th>max</th>\n",
              "      <td>6088.000000</td>\n",
              "      <td>559.000000</td>\n",
              "      <td>74.000000</td>\n",
              "      <td>80.000000</td>\n",
              "      <td>356.000000</td>\n",
              "      <td>183.000000</td>\n",
              "      <td>95.000000</td>\n",
              "      <td>6088.000000</td>\n",
              "    </tr>\n",
              "  </tbody>\n",
              "</table>\n",
              "</div>"
            ],
            "text/plain": [
              "             Total         PRCP         SNOW         SNWD         TMAX  \\\n",
              "count  1063.000000  1063.000000  1063.000000  1063.000000  1063.000000   \n",
              "mean   2632.449671    29.350894   -37.496707     0.098777   166.863594   \n",
              "std    1252.864020    65.813053   612.512583     2.570041    74.779734   \n",
              "min      98.000000     0.000000 -9999.000000     0.000000   -16.000000   \n",
              "25%    1806.000000     0.000000     0.000000     0.000000   111.000000   \n",
              "50%    2435.000000     0.000000     0.000000     0.000000   150.000000   \n",
              "75%    3574.500000    26.500000     0.000000     0.000000   222.000000   \n",
              "max    6088.000000   559.000000    74.000000    80.000000   356.000000   \n",
              "\n",
              "              TMIN         AWND  Total_yesterday  \n",
              "count  1063.000000  1063.000000      1063.000000  \n",
              "mean     84.472248    22.338664      2633.056444  \n",
              "std      50.916006   307.984292      1253.138245  \n",
              "min     -71.000000 -9999.000000        98.000000  \n",
              "25%      44.000000    22.000000      1806.000000  \n",
              "50%      83.000000    29.000000      2435.000000  \n",
              "75%     128.000000    40.000000      3574.500000  \n",
              "max     183.000000    95.000000      6088.000000  "
            ]
          },
          "metadata": {
            "tags": []
          },
          "execution_count": 10
        }
      ]
    },
    {
      "metadata": {
        "id": "47lbK6QTnqya",
        "colab_type": "code",
        "outputId": "fcdc9ac9-dcf2-4e20-c921-896c445dca0b",
        "colab": {
          "base_uri": "https://localhost:8080/",
          "height": 136
        }
      },
      "cell_type": "code",
      "source": [
        "daily['SNOW'].value_counts()"
      ],
      "execution_count": 0,
      "outputs": [
        {
          "output_type": "execute_result",
          "data": {
            "text/plain": [
              " 0       1055\n",
              "-9999       4\n",
              " 74         1\n",
              " 28         1\n",
              " 20         1\n",
              " 15         1\n",
              "Name: SNOW, dtype: int64"
            ]
          },
          "metadata": {
            "tags": []
          },
          "execution_count": 56
        }
      ]
    },
    {
      "metadata": {
        "id": "vJKR3r7Un2wP",
        "colab_type": "code",
        "outputId": "a6129b01-f786-4de1-cf80-824ac89a1954",
        "colab": {
          "base_uri": "https://localhost:8080/",
          "height": 119
        }
      },
      "cell_type": "code",
      "source": [
        "daily['SNOW'].replace(-9999,0, inplace=True)\n",
        "\n",
        "daily['SNOW'].value_counts()"
      ],
      "execution_count": 0,
      "outputs": [
        {
          "output_type": "execute_result",
          "data": {
            "text/plain": [
              "0     1059\n",
              "74       1\n",
              "28       1\n",
              "20       1\n",
              "15       1\n",
              "Name: SNOW, dtype: int64"
            ]
          },
          "metadata": {
            "tags": []
          },
          "execution_count": 60
        }
      ]
    },
    {
      "metadata": {
        "id": "eWkMCdyfoO9o",
        "colab_type": "code",
        "outputId": "e2038ae0-995e-42d6-94c4-46f87aed234e",
        "colab": {
          "base_uri": "https://localhost:8080/",
          "height": 297
        }
      },
      "cell_type": "code",
      "source": [
        "daily['AWND'].replace(-9999,0,inplace=True)\n",
        "\n",
        "daily.describe()"
      ],
      "execution_count": 0,
      "outputs": [
        {
          "output_type": "execute_result",
          "data": {
            "text/html": [
              "<div>\n",
              "<style scoped>\n",
              "    .dataframe tbody tr th:only-of-type {\n",
              "        vertical-align: middle;\n",
              "    }\n",
              "\n",
              "    .dataframe tbody tr th {\n",
              "        vertical-align: top;\n",
              "    }\n",
              "\n",
              "    .dataframe thead th {\n",
              "        text-align: right;\n",
              "    }\n",
              "</style>\n",
              "<table border=\"1\" class=\"dataframe\">\n",
              "  <thead>\n",
              "    <tr style=\"text-align: right;\">\n",
              "      <th></th>\n",
              "      <th>Total</th>\n",
              "      <th>PRCP</th>\n",
              "      <th>SNOW</th>\n",
              "      <th>SNWD</th>\n",
              "      <th>TMAX</th>\n",
              "      <th>TMIN</th>\n",
              "      <th>AWND</th>\n",
              "      <th>Total_yesterday</th>\n",
              "    </tr>\n",
              "  </thead>\n",
              "  <tbody>\n",
              "    <tr>\n",
              "      <th>count</th>\n",
              "      <td>1063.000000</td>\n",
              "      <td>1063.000000</td>\n",
              "      <td>1063.000000</td>\n",
              "      <td>1063.000000</td>\n",
              "      <td>1063.000000</td>\n",
              "      <td>1063.000000</td>\n",
              "      <td>1063.000000</td>\n",
              "      <td>1063.000000</td>\n",
              "    </tr>\n",
              "    <tr>\n",
              "      <th>mean</th>\n",
              "      <td>2632.449671</td>\n",
              "      <td>29.350894</td>\n",
              "      <td>0.128881</td>\n",
              "      <td>0.098777</td>\n",
              "      <td>166.863594</td>\n",
              "      <td>84.472248</td>\n",
              "      <td>31.745061</td>\n",
              "      <td>2633.056444</td>\n",
              "    </tr>\n",
              "    <tr>\n",
              "      <th>std</th>\n",
              "      <td>1252.864020</td>\n",
              "      <td>65.813053</td>\n",
              "      <td>2.542917</td>\n",
              "      <td>2.570041</td>\n",
              "      <td>74.779734</td>\n",
              "      <td>50.916006</td>\n",
              "      <td>14.212137</td>\n",
              "      <td>1253.138245</td>\n",
              "    </tr>\n",
              "    <tr>\n",
              "      <th>min</th>\n",
              "      <td>98.000000</td>\n",
              "      <td>0.000000</td>\n",
              "      <td>0.000000</td>\n",
              "      <td>0.000000</td>\n",
              "      <td>-16.000000</td>\n",
              "      <td>-71.000000</td>\n",
              "      <td>0.000000</td>\n",
              "      <td>98.000000</td>\n",
              "    </tr>\n",
              "    <tr>\n",
              "      <th>25%</th>\n",
              "      <td>1806.000000</td>\n",
              "      <td>0.000000</td>\n",
              "      <td>0.000000</td>\n",
              "      <td>0.000000</td>\n",
              "      <td>111.000000</td>\n",
              "      <td>44.000000</td>\n",
              "      <td>22.000000</td>\n",
              "      <td>1806.000000</td>\n",
              "    </tr>\n",
              "    <tr>\n",
              "      <th>50%</th>\n",
              "      <td>2435.000000</td>\n",
              "      <td>0.000000</td>\n",
              "      <td>0.000000</td>\n",
              "      <td>0.000000</td>\n",
              "      <td>150.000000</td>\n",
              "      <td>83.000000</td>\n",
              "      <td>29.000000</td>\n",
              "      <td>2435.000000</td>\n",
              "    </tr>\n",
              "    <tr>\n",
              "      <th>75%</th>\n",
              "      <td>3574.500000</td>\n",
              "      <td>26.500000</td>\n",
              "      <td>0.000000</td>\n",
              "      <td>0.000000</td>\n",
              "      <td>222.000000</td>\n",
              "      <td>128.000000</td>\n",
              "      <td>40.000000</td>\n",
              "      <td>3574.500000</td>\n",
              "    </tr>\n",
              "    <tr>\n",
              "      <th>max</th>\n",
              "      <td>6088.000000</td>\n",
              "      <td>559.000000</td>\n",
              "      <td>74.000000</td>\n",
              "      <td>80.000000</td>\n",
              "      <td>356.000000</td>\n",
              "      <td>183.000000</td>\n",
              "      <td>95.000000</td>\n",
              "      <td>6088.000000</td>\n",
              "    </tr>\n",
              "  </tbody>\n",
              "</table>\n",
              "</div>"
            ],
            "text/plain": [
              "             Total         PRCP         SNOW         SNWD         TMAX  \\\n",
              "count  1063.000000  1063.000000  1063.000000  1063.000000  1063.000000   \n",
              "mean   2632.449671    29.350894     0.128881     0.098777   166.863594   \n",
              "std    1252.864020    65.813053     2.542917     2.570041    74.779734   \n",
              "min      98.000000     0.000000     0.000000     0.000000   -16.000000   \n",
              "25%    1806.000000     0.000000     0.000000     0.000000   111.000000   \n",
              "50%    2435.000000     0.000000     0.000000     0.000000   150.000000   \n",
              "75%    3574.500000    26.500000     0.000000     0.000000   222.000000   \n",
              "max    6088.000000   559.000000    74.000000    80.000000   356.000000   \n",
              "\n",
              "              TMIN         AWND  Total_yesterday  \n",
              "count  1063.000000  1063.000000      1063.000000  \n",
              "mean     84.472248    31.745061      2633.056444  \n",
              "std      50.916006    14.212137      1253.138245  \n",
              "min     -71.000000     0.000000        98.000000  \n",
              "25%      44.000000    22.000000      1806.000000  \n",
              "50%      83.000000    29.000000      2435.000000  \n",
              "75%     128.000000    40.000000      3574.500000  \n",
              "max     183.000000    95.000000      6088.000000  "
            ]
          },
          "metadata": {
            "tags": []
          },
          "execution_count": 62
        }
      ]
    },
    {
      "metadata": {
        "id": "XgMvCsaWJR7Q",
        "colab_type": "text"
      },
      "cell_type": "markdown",
      "source": [
        "Target\n",
        "- Total : Daily total number of bicycle trips across Seattle's Fremont Bridge\n",
        "\n",
        "Features\n",
        "- Date (index) : from 2012-10-04 to 2015-09-01\n",
        "- Total_yesterday : Total trips yesterday\n",
        "- PRCP : Precipitation (1/10 mm)\n",
        "- SNOW : Snowfall (1/10 mm)\n",
        "- SNWD : Snow depth (1/10 mm)\n",
        "- TMAX : Maximum temperature (1/10 Celsius)\n",
        "- TMIN : Minimum temperature (1/10 Celsius)\n",
        "- AWND : Average daily wind speed (1/10 meters per second)"
      ]
    },
    {
      "metadata": {
        "id": "lenL-przSYCo",
        "colab_type": "text"
      },
      "cell_type": "markdown",
      "source": [
        "## 2. Choose how you’ll measure success on your problem.\n",
        "\n",
        "Which metrics will you monitor on your validation data?\n",
        "\n",
        "This is a regression problem, so we need to choose a regression [metric](https://scikit-learn.org/stable/modules/model_evaluation.html#common-cases-predefined-values).\n",
        "\n",
        "\n",
        "\n",
        "I'll choose mean absolute error.\n",
        "\n"
      ]
    },
    {
      "metadata": {
        "id": "1TqbomapSyRP",
        "colab_type": "code",
        "colab": {}
      },
      "cell_type": "code",
      "source": [
        "from sklearn.metrics import mean_absolute_error"
      ],
      "execution_count": 0,
      "outputs": []
    },
    {
      "metadata": {
        "id": "IRHrB3rsS5hF",
        "colab_type": "text"
      },
      "cell_type": "markdown",
      "source": [
        "## 3. Determine your evaluation protocol \n",
        "\n",
        "We're doing model selection, hyperparameter optimization, and performance estimation. So generally we have two ideal [options](https://sebastianraschka.com/images/blog/2018/model-evaluation-selection-part4/model-eval-conclusions.jpg) to choose from:\n",
        "\n",
        "- 3-way holdout method (train/validation/test split)\n",
        "- Cross-validation with independent test set\n",
        "\n",
        "I'll choose cross-validation with independent test set. Scikit-learn makes cross-validation convenient for us!\n",
        "\n",
        "Specifically, I will use random shuffled cross validation to train and validate, but I will hold out an \"out-of-time\" test set, from the last 100 days of data:\n",
        "\n",
        "\n",
        "\n"
      ]
    },
    {
      "metadata": {
        "id": "A3xo6HgbPMFm",
        "colab_type": "code",
        "colab": {}
      },
      "cell_type": "code",
      "source": [
        "train = daily[:-100]\n",
        "test = daily[-100:]"
      ],
      "execution_count": 0,
      "outputs": []
    },
    {
      "metadata": {
        "id": "a6fSNFbl1Om7",
        "colab_type": "code",
        "outputId": "5be10567-c148-4d6b-ee72-a6f5ef4802e4",
        "colab": {
          "base_uri": "https://localhost:8080/",
          "height": 153
        }
      },
      "cell_type": "code",
      "source": [
        "train.index"
      ],
      "execution_count": 0,
      "outputs": [
        {
          "output_type": "execute_result",
          "data": {
            "text/plain": [
              "DatetimeIndex(['2012-10-04', '2012-10-05', '2012-10-06', '2012-10-07',\n",
              "               '2012-10-08', '2012-10-09', '2012-10-10', '2012-10-11',\n",
              "               '2012-10-12', '2012-10-13',\n",
              "               ...\n",
              "               '2015-05-15', '2015-05-16', '2015-05-17', '2015-05-18',\n",
              "               '2015-05-19', '2015-05-20', '2015-05-21', '2015-05-22',\n",
              "               '2015-05-23', '2015-05-24'],\n",
              "              dtype='datetime64[ns]', length=963, freq=None)"
            ]
          },
          "metadata": {
            "tags": []
          },
          "execution_count": 65
        }
      ]
    },
    {
      "metadata": {
        "id": "VO5-_Sci1Qwk",
        "colab_type": "code",
        "outputId": "7824ebfa-4cc3-4161-a7a6-cb0546d4ee0b",
        "colab": {
          "base_uri": "https://localhost:8080/",
          "height": 459
        }
      },
      "cell_type": "code",
      "source": [
        "test.index"
      ],
      "execution_count": 0,
      "outputs": [
        {
          "output_type": "execute_result",
          "data": {
            "text/plain": [
              "DatetimeIndex(['2015-05-25', '2015-05-26', '2015-05-27', '2015-05-28',\n",
              "               '2015-05-29', '2015-05-30', '2015-05-31', '2015-06-01',\n",
              "               '2015-06-02', '2015-06-03', '2015-06-04', '2015-06-05',\n",
              "               '2015-06-06', '2015-06-07', '2015-06-08', '2015-06-09',\n",
              "               '2015-06-10', '2015-06-11', '2015-06-12', '2015-06-13',\n",
              "               '2015-06-14', '2015-06-15', '2015-06-16', '2015-06-17',\n",
              "               '2015-06-18', '2015-06-19', '2015-06-20', '2015-06-21',\n",
              "               '2015-06-22', '2015-06-23', '2015-06-24', '2015-06-25',\n",
              "               '2015-06-26', '2015-06-27', '2015-06-28', '2015-06-29',\n",
              "               '2015-06-30', '2015-07-01', '2015-07-02', '2015-07-03',\n",
              "               '2015-07-04', '2015-07-05', '2015-07-06', '2015-07-07',\n",
              "               '2015-07-08', '2015-07-09', '2015-07-10', '2015-07-11',\n",
              "               '2015-07-12', '2015-07-13', '2015-07-14', '2015-07-15',\n",
              "               '2015-07-16', '2015-07-17', '2015-07-18', '2015-07-19',\n",
              "               '2015-07-20', '2015-07-21', '2015-07-22', '2015-07-23',\n",
              "               '2015-07-24', '2015-07-25', '2015-07-26', '2015-07-27',\n",
              "               '2015-07-28', '2015-07-29', '2015-07-30', '2015-07-31',\n",
              "               '2015-08-01', '2015-08-02', '2015-08-03', '2015-08-04',\n",
              "               '2015-08-05', '2015-08-06', '2015-08-07', '2015-08-08',\n",
              "               '2015-08-09', '2015-08-10', '2015-08-11', '2015-08-12',\n",
              "               '2015-08-13', '2015-08-14', '2015-08-15', '2015-08-16',\n",
              "               '2015-08-17', '2015-08-18', '2015-08-19', '2015-08-20',\n",
              "               '2015-08-21', '2015-08-22', '2015-08-23', '2015-08-24',\n",
              "               '2015-08-25', '2015-08-26', '2015-08-27', '2015-08-28',\n",
              "               '2015-08-29', '2015-08-30', '2015-08-31', '2015-09-01'],\n",
              "              dtype='datetime64[ns]', freq=None)"
            ]
          },
          "metadata": {
            "tags": []
          },
          "execution_count": 66
        }
      ]
    },
    {
      "metadata": {
        "id": "OPIb9pHP1VvR",
        "colab_type": "code",
        "colab": {}
      },
      "cell_type": "code",
      "source": [
        "X_train = train.drop(columns='Total')\n",
        "y_train = train.Total\n",
        "X_test = test.drop(columns='Total')\n",
        "y_test = test.Total"
      ],
      "execution_count": 0,
      "outputs": []
    },
    {
      "metadata": {
        "id": "Hw53jtut1hAi",
        "colab_type": "code",
        "outputId": "b708e967-90bb-492b-b22e-4d5f37da7857",
        "colab": {
          "base_uri": "https://localhost:8080/",
          "height": 34
        }
      },
      "cell_type": "code",
      "source": [
        "X_train.shape, y_train.shape, X_test.shape, y_test.shape"
      ],
      "execution_count": 0,
      "outputs": [
        {
          "output_type": "execute_result",
          "data": {
            "text/plain": [
              "((963, 7), (963,), (100, 7), (100,))"
            ]
          },
          "metadata": {
            "tags": []
          },
          "execution_count": 68
        }
      ]
    },
    {
      "metadata": {
        "id": "vH6IsORQTvTU",
        "colab_type": "text"
      },
      "cell_type": "markdown",
      "source": [
        "## 4. Develop a first model that does better than a basic baseline"
      ]
    },
    {
      "metadata": {
        "id": "DJBs2nQkj7oB",
        "colab_type": "text"
      },
      "cell_type": "markdown",
      "source": [
        "### Look at the target's distribution and descriptive stats"
      ]
    },
    {
      "metadata": {
        "id": "P5peakv9Zs71",
        "colab_type": "code",
        "outputId": "663e5212-c778-47d6-c2d4-933dbe851956",
        "colab": {
          "base_uri": "https://localhost:8080/",
          "height": 330
        }
      },
      "cell_type": "code",
      "source": [
        "%matplotlib inline\n",
        "import seaborn as sns\n",
        "sns.distplot(y_train);"
      ],
      "execution_count": 0,
      "outputs": [
        {
          "output_type": "stream",
          "text": [
            "/usr/local/lib/python3.6/dist-packages/matplotlib/axes/_axes.py:6521: MatplotlibDeprecationWarning: \n",
            "The 'normed' kwarg was deprecated in Matplotlib 2.1 and will be removed in 3.1. Use 'density' instead.\n",
            "  alternative=\"'density'\", removal=\"3.1\")\n"
          ],
          "name": "stderr"
        },
        {
          "output_type": "display_data",
          "data": {
            "image/png": "[encoded data removed]",
            "text/plain": [
              "<Figure size 432x288 with 1 Axes>"
            ]
          },
          "metadata": {
            "tags": []
          }
        }
      ]
    },
    {
      "metadata": {
        "id": "afSVxtE_15vO",
        "colab_type": "code",
        "outputId": "114b2abf-33a3-492e-c3e3-048ca10ff6b1",
        "colab": {
          "base_uri": "https://localhost:8080/",
          "height": 170
        }
      },
      "cell_type": "code",
      "source": [
        "y_train.describe()"
      ],
      "execution_count": 0,
      "outputs": [
        {
          "output_type": "execute_result",
          "data": {
            "text/plain": [
              "count     963.000000\n",
              "mean     2534.329180\n",
              "std      1224.065027\n",
              "min        98.000000\n",
              "25%      1755.000000\n",
              "50%      2381.000000\n",
              "75%      3317.500000\n",
              "max      6088.000000\n",
              "Name: Total, dtype: float64"
            ]
          },
          "metadata": {
            "tags": []
          },
          "execution_count": 70
        }
      ]
    },
    {
      "metadata": {
        "id": "fEjxxgV9kExY",
        "colab_type": "text"
      },
      "cell_type": "markdown",
      "source": [
        "### Basic baseline 1"
      ]
    },
    {
      "metadata": {
        "id": "6GepKdQjYcEP",
        "colab_type": "code",
        "outputId": "d2cfd4aa-4482-4333-981f-84ed34c60bf7",
        "colab": {
          "base_uri": "https://localhost:8080/",
          "height": 34
        }
      },
      "cell_type": "code",
      "source": [
        "import numpy as np\n",
        "y_pred = np.full(shape=y_train.shape, fill_value=y_train.mean())\n",
        "mean_absolute_error(y_train, y_pred)"
      ],
      "execution_count": 0,
      "outputs": [
        {
          "output_type": "execute_result",
          "data": {
            "text/plain": [
              "980.8981106765484"
            ]
          },
          "metadata": {
            "tags": []
          },
          "execution_count": 71
        }
      ]
    },
    {
      "metadata": {
        "id": "tN2I_F3FkIHb",
        "colab_type": "text"
      },
      "cell_type": "markdown",
      "source": [
        "### Basic baseline 2"
      ]
    },
    {
      "metadata": {
        "id": "ZW8bhZFtTunV",
        "colab_type": "code",
        "outputId": "cdee2a9b-828c-4111-b0c1-fca76d3de4d4",
        "colab": {
          "base_uri": "https://localhost:8080/",
          "height": 34
        }
      },
      "cell_type": "code",
      "source": [
        "mean_absolute_error(y_train, X_train.Total_yesterday)"
      ],
      "execution_count": 0,
      "outputs": [
        {
          "output_type": "execute_result",
          "data": {
            "text/plain": [
              "708.061266874351"
            ]
          },
          "metadata": {
            "tags": []
          },
          "execution_count": 72
        }
      ]
    },
    {
      "metadata": {
        "id": "Ggf3VpxwkJ0T",
        "colab_type": "text"
      },
      "cell_type": "markdown",
      "source": [
        "### First model that does better than a basic baseline"
      ]
    },
    {
      "metadata": {
        "id": "KfaqL1Ezer2-",
        "colab_type": "text"
      },
      "cell_type": "markdown",
      "source": [
        "https://scikit-learn.org/stable/modules/generated/sklearn.model_selection.cross_validate.html"
      ]
    },
    {
      "metadata": {
        "id": "OeBtU68skfW-",
        "colab_type": "code",
        "outputId": "832e7240-650b-4b5c-e4fe-8d0810521528",
        "colab": {
          "base_uri": "https://localhost:8080/",
          "height": 142
        }
      },
      "cell_type": "code",
      "source": [
        "from sklearn.linear_model import LinearRegression\n",
        "from sklearn.model_selection import cross_validate\n",
        "\n",
        "scores = cross_validate(LinearRegression(), X_train, y_train,\n",
        "                       scoring='neg_mean_absolute_error', cv=3,\n",
        "                       return_train_score=True, return_estimator=True)\n",
        "\n",
        "#The negative just “tricks” the model that looks for a max value into looking for a minimum value.\n",
        "\n",
        "pd.DataFrame(scores).rename(columns={'test_score': 'validation_score'})"
      ],
      "execution_count": 0,
      "outputs": [
        {
          "output_type": "execute_result",
          "data": {
            "text/html": [
              "<div>\n",
              "<style scoped>\n",
              "    .dataframe tbody tr th:only-of-type {\n",
              "        vertical-align: middle;\n",
              "    }\n",
              "\n",
              "    .dataframe tbody tr th {\n",
              "        vertical-align: top;\n",
              "    }\n",
              "\n",
              "    .dataframe thead th {\n",
              "        text-align: right;\n",
              "    }\n",
              "</style>\n",
              "<table border=\"1\" class=\"dataframe\">\n",
              "  <thead>\n",
              "    <tr style=\"text-align: right;\">\n",
              "      <th></th>\n",
              "      <th>estimator</th>\n",
              "      <th>fit_time</th>\n",
              "      <th>score_time</th>\n",
              "      <th>validation_score</th>\n",
              "      <th>train_score</th>\n",
              "    </tr>\n",
              "  </thead>\n",
              "  <tbody>\n",
              "    <tr>\n",
              "      <th>0</th>\n",
              "      <td>LinearRegression(copy_X=True, fit_intercept=Tr...</td>\n",
              "      <td>0.003217</td>\n",
              "      <td>0.001922</td>\n",
              "      <td>-552.660767</td>\n",
              "      <td>-619.229120</td>\n",
              "    </tr>\n",
              "    <tr>\n",
              "      <th>1</th>\n",
              "      <td>LinearRegression(copy_X=True, fit_intercept=Tr...</td>\n",
              "      <td>0.002616</td>\n",
              "      <td>0.002161</td>\n",
              "      <td>-655.605924</td>\n",
              "      <td>-582.660550</td>\n",
              "    </tr>\n",
              "    <tr>\n",
              "      <th>2</th>\n",
              "      <td>LinearRegression(copy_X=True, fit_intercept=Tr...</td>\n",
              "      <td>0.002080</td>\n",
              "      <td>0.001743</td>\n",
              "      <td>-616.111949</td>\n",
              "      <td>-588.415234</td>\n",
              "    </tr>\n",
              "  </tbody>\n",
              "</table>\n",
              "</div>"
            ],
            "text/plain": [
              "                                           estimator  fit_time  score_time  \\\n",
              "0  LinearRegression(copy_X=True, fit_intercept=Tr...  0.003217    0.001922   \n",
              "1  LinearRegression(copy_X=True, fit_intercept=Tr...  0.002616    0.002161   \n",
              "2  LinearRegression(copy_X=True, fit_intercept=Tr...  0.002080    0.001743   \n",
              "\n",
              "   validation_score  train_score  \n",
              "0       -552.660767  -619.229120  \n",
              "1       -655.605924  -582.660550  \n",
              "2       -616.111949  -588.415234  "
            ]
          },
          "metadata": {
            "tags": []
          },
          "execution_count": 73
        }
      ]
    },
    {
      "metadata": {
        "id": "OQ_m4Z534kwV",
        "colab_type": "code",
        "outputId": "fcdf3574-8513-4b94-907e-1e95d5a97789",
        "colab": {
          "base_uri": "https://localhost:8080/",
          "height": 34
        }
      },
      "cell_type": "code",
      "source": [
        "scores['test_score'].mean()"
      ],
      "execution_count": 0,
      "outputs": [
        {
          "output_type": "execute_result",
          "data": {
            "text/plain": [
              "-608.1262136279812"
            ]
          },
          "metadata": {
            "tags": []
          },
          "execution_count": 74
        }
      ]
    },
    {
      "metadata": {
        "id": "wf8eKkiY6bpW",
        "colab_type": "code",
        "outputId": "92c7422d-6106-4e8f-b9ea-c1195fd52243",
        "colab": {
          "base_uri": "https://localhost:8080/",
          "height": 578
        }
      },
      "cell_type": "code",
      "source": [
        "import statsmodels.api as sm\n",
        "model = sm.OLS(y_train, sm.add_constant(X_train))\n",
        "print(model.fit().summary())"
      ],
      "execution_count": 0,
      "outputs": [
        {
          "output_type": "stream",
          "text": [
            "                            OLS Regression Results                            \n",
            "==============================================================================\n",
            "Dep. Variable:                  Total   R-squared:                       0.628\n",
            "Model:                            OLS   Adj. R-squared:                  0.626\n",
            "Method:                 Least Squares   F-statistic:                     230.7\n",
            "Date:                Wed, 30 Jan 2019   Prob (F-statistic):          2.45e-200\n",
            "Time:                        21:21:37   Log-Likelihood:                -7736.2\n",
            "No. Observations:                 963   AIC:                         1.549e+04\n",
            "Df Residuals:                     955   BIC:                         1.553e+04\n",
            "Df Model:                           7                                         \n",
            "Covariance Type:            nonrobust                                         \n",
            "===================================================================================\n",
            "                      coef    std err          t      P>|t|      [0.025      0.975]\n",
            "-----------------------------------------------------------------------------------\n",
            "const             574.1199     93.084      6.168      0.000     391.447     756.793\n",
            "PRCP               -3.0609      0.396     -7.730      0.000      -3.838      -2.284\n",
            "SNOW              -12.4501      9.101     -1.368      0.172     -30.310       5.409\n",
            "SNWD               -8.5865      8.977     -0.956      0.339     -26.204       9.031\n",
            "TMAX                9.5025      0.773     12.291      0.000       7.985      11.020\n",
            "TMIN               -4.7673      1.027     -4.640      0.000      -6.784      -2.751\n",
            "AWND               -3.5557      1.747     -2.035      0.042      -6.984      -0.127\n",
            "Total_yesterday     0.4165      0.025     16.472      0.000       0.367       0.466\n",
            "==============================================================================\n",
            "Omnibus:                        6.515   Durbin-Watson:                   1.573\n",
            "Prob(Omnibus):                  0.038   Jarque-Bera (JB):                6.565\n",
            "Skew:                          -0.186   Prob(JB):                       0.0375\n",
            "Kurtosis:                       2.843   Cond. No.                     1.09e+04\n",
            "==============================================================================\n",
            "\n",
            "Warnings:\n",
            "[1] Standard Errors assume that the covariance matrix of the errors is correctly specified.\n",
            "[2] The condition number is large, 1.09e+04. This might indicate that there are\n",
            "strong multicollinearity or other numerical problems.\n"
          ],
          "name": "stdout"
        }
      ]
    },
    {
      "metadata": {
        "id": "fg1YI4X8n9nI",
        "colab_type": "text"
      },
      "cell_type": "markdown",
      "source": [
        "## 5. Develop a model that overfits. \n",
        "\n",
        "\"The universal tension in machine learning is between optimization and generalization; the ideal model is one that stands right at the border between underfitting and overfitting; between undercapacity and overcapacity. To figure out where this border lies, first you must cross it.\" —Chollet"
      ]
    },
    {
      "metadata": {
        "id": "lodd6UPOoy89",
        "colab_type": "text"
      },
      "cell_type": "markdown",
      "source": [
        "<img src=\"https://jakevdp.github.io/PythonDataScienceHandbook/figures/05.03-validation-curve.png\">\n",
        "\n",
        "Diagram source: https://jakevdp.github.io/PythonDataScienceHandbook/05.03-hyperparameters-and-model-validation.html#Validation-curves-in-Scikit-Learn"
      ]
    },
    {
      "metadata": {
        "id": "FrmQ3RM0w2JE",
        "colab_type": "text"
      },
      "cell_type": "markdown",
      "source": [
        "### Polynomial Regression?"
      ]
    },
    {
      "metadata": {
        "id": "uctwo0X3pTw5",
        "colab_type": "code",
        "colab": {}
      },
      "cell_type": "code",
      "source": [
        "# Copied from cell 10 at\n",
        "# https://jakevdp.github.io/PythonDataScienceHandbook/05.03-hyperparameters-and-model-validation.html#Validation-curves-in-Scikit-Learn\n",
        "\n",
        "from sklearn.preprocessing import PolynomialFeatures\n",
        "from sklearn.linear_model import LinearRegression\n",
        "from sklearn.pipeline import make_pipeline\n",
        "\n",
        "def PolynomialRegression(degree=2, **kwargs):\n",
        "    return make_pipeline(PolynomialFeatures(degree),\n",
        "                         LinearRegression(**kwargs))"
      ],
      "execution_count": 0,
      "outputs": []
    },
    {
      "metadata": {
        "id": "wvY4HOXVw7Mj",
        "colab_type": "code",
        "outputId": "5b209670-0e04-4fba-e97c-02cee7f69bda",
        "colab": {
          "base_uri": "https://localhost:8080/",
          "height": 309
        }
      },
      "cell_type": "code",
      "source": [
        "for degree in [0, 1, 2, 3]:\n",
        "    features = PolynomialFeatures(degree).fit(X_train).get_feature_names(X_train.columns)\n",
        "    print(f'{degree} degree polynomial has {len(features)} features')\n",
        "    print(features)\n",
        "    print('\\n')"
      ],
      "execution_count": 0,
      "outputs": [
        {
          "output_type": "stream",
          "text": [
            "0 degree polynomial has 1 features\n",
            "['1']\n",
            "\n",
            "\n",
            "1 degree polynomial has 8 features\n",
            "['1', 'PRCP', 'SNOW', 'SNWD', 'TMAX', 'TMIN', 'AWND', 'Total_yesterday']\n",
            "\n",
            "\n",
            "2 degree polynomial has 36 features\n",
            "['1', 'PRCP', 'SNOW', 'SNWD', 'TMAX', 'TMIN', 'AWND', 'Total_yesterday', 'PRCP^2', 'PRCP SNOW', 'PRCP SNWD', 'PRCP TMAX', 'PRCP TMIN', 'PRCP AWND', 'PRCP Total_yesterday', 'SNOW^2', 'SNOW SNWD', 'SNOW TMAX', 'SNOW TMIN', 'SNOW AWND', 'SNOW Total_yesterday', 'SNWD^2', 'SNWD TMAX', 'SNWD TMIN', 'SNWD AWND', 'SNWD Total_yesterday', 'TMAX^2', 'TMAX TMIN', 'TMAX AWND', 'TMAX Total_yesterday', 'TMIN^2', 'TMIN AWND', 'TMIN Total_yesterday', 'AWND^2', 'AWND Total_yesterday', 'Total_yesterday^2']\n",
            "\n",
            "\n",
            "3 degree polynomial has 120 features\n",
            "['1', 'PRCP', 'SNOW', 'SNWD', 'TMAX', 'TMIN', 'AWND', 'Total_yesterday', 'PRCP^2', 'PRCP SNOW', 'PRCP SNWD', 'PRCP TMAX', 'PRCP TMIN', 'PRCP AWND', 'PRCP Total_yesterday', 'SNOW^2', 'SNOW SNWD', 'SNOW TMAX', 'SNOW TMIN', 'SNOW AWND', 'SNOW Total_yesterday', 'SNWD^2', 'SNWD TMAX', 'SNWD TMIN', 'SNWD AWND', 'SNWD Total_yesterday', 'TMAX^2', 'TMAX TMIN', 'TMAX AWND', 'TMAX Total_yesterday', 'TMIN^2', 'TMIN AWND', 'TMIN Total_yesterday', 'AWND^2', 'AWND Total_yesterday', 'Total_yesterday^2', 'PRCP^3', 'PRCP^2 SNOW', 'PRCP^2 SNWD', 'PRCP^2 TMAX', 'PRCP^2 TMIN', 'PRCP^2 AWND', 'PRCP^2 Total_yesterday', 'PRCP SNOW^2', 'PRCP SNOW SNWD', 'PRCP SNOW TMAX', 'PRCP SNOW TMIN', 'PRCP SNOW AWND', 'PRCP SNOW Total_yesterday', 'PRCP SNWD^2', 'PRCP SNWD TMAX', 'PRCP SNWD TMIN', 'PRCP SNWD AWND', 'PRCP SNWD Total_yesterday', 'PRCP TMAX^2', 'PRCP TMAX TMIN', 'PRCP TMAX AWND', 'PRCP TMAX Total_yesterday', 'PRCP TMIN^2', 'PRCP TMIN AWND', 'PRCP TMIN Total_yesterday', 'PRCP AWND^2', 'PRCP AWND Total_yesterday', 'PRCP Total_yesterday^2', 'SNOW^3', 'SNOW^2 SNWD', 'SNOW^2 TMAX', 'SNOW^2 TMIN', 'SNOW^2 AWND', 'SNOW^2 Total_yesterday', 'SNOW SNWD^2', 'SNOW SNWD TMAX', 'SNOW SNWD TMIN', 'SNOW SNWD AWND', 'SNOW SNWD Total_yesterday', 'SNOW TMAX^2', 'SNOW TMAX TMIN', 'SNOW TMAX AWND', 'SNOW TMAX Total_yesterday', 'SNOW TMIN^2', 'SNOW TMIN AWND', 'SNOW TMIN Total_yesterday', 'SNOW AWND^2', 'SNOW AWND Total_yesterday', 'SNOW Total_yesterday^2', 'SNWD^3', 'SNWD^2 TMAX', 'SNWD^2 TMIN', 'SNWD^2 AWND', 'SNWD^2 Total_yesterday', 'SNWD TMAX^2', 'SNWD TMAX TMIN', 'SNWD TMAX AWND', 'SNWD TMAX Total_yesterday', 'SNWD TMIN^2', 'SNWD TMIN AWND', 'SNWD TMIN Total_yesterday', 'SNWD AWND^2', 'SNWD AWND Total_yesterday', 'SNWD Total_yesterday^2', 'TMAX^3', 'TMAX^2 TMIN', 'TMAX^2 AWND', 'TMAX^2 Total_yesterday', 'TMAX TMIN^2', 'TMAX TMIN AWND', 'TMAX TMIN Total_yesterday', 'TMAX AWND^2', 'TMAX AWND Total_yesterday', 'TMAX Total_yesterday^2', 'TMIN^3', 'TMIN^2 AWND', 'TMIN^2 Total_yesterday', 'TMIN AWND^2', 'TMIN AWND Total_yesterday', 'TMIN Total_yesterday^2', 'AWND^3', 'AWND^2 Total_yesterday', 'AWND Total_yesterday^2', 'Total_yesterday^3']\n",
            "\n",
            "\n"
          ],
          "name": "stdout"
        }
      ]
    },
    {
      "metadata": {
        "id": "XEUdG9-ktHoa",
        "colab_type": "text"
      },
      "cell_type": "markdown",
      "source": [
        "### Validation curve (with Polynomial Regression)"
      ]
    },
    {
      "metadata": {
        "id": "_ryO1hVKr-6f",
        "colab_type": "text"
      },
      "cell_type": "markdown",
      "source": [
        "https://scikit-learn.org/stable/modules/generated/sklearn.model_selection.validation_curve.html\n",
        "\n",
        "> Validation curve. Determine training and test scores for varying parameter values. This is similar to grid search with one parameter."
      ]
    },
    {
      "metadata": {
        "id": "znJgKqPcqBh-",
        "colab_type": "code",
        "outputId": "be827377-3878-4967-dafb-dfff589aa475",
        "colab": {
          "base_uri": "https://localhost:8080/",
          "height": 279
        }
      },
      "cell_type": "code",
      "source": [
        "# Modified from cell 13 at\n",
        "# https://jakevdp.github.io/PythonDataScienceHandbook/05.03-hyperparameters-and-model-validation.html#Validation-curves-in-Scikit-Learn\n",
        "\n",
        "%matplotlib inline\n",
        "import matplotlib.pyplot as plt\n",
        "from sklearn.model_selection import validation_curve\n",
        "\n",
        "degree = [0, 1, 2]\n",
        "train_score, val_score = validation_curve(\n",
        "    PolynomialRegression(), X_train, y_train,\n",
        "    param_name='polynomialfeatures__degree', param_range=degree, \n",
        "    scoring='neg_mean_absolute_error', cv=3)\n",
        "\n",
        "plt.plot(degree, np.median(train_score, 1), color='blue', label='training score')\n",
        "plt.plot(degree, np.median(val_score, 1), color='red', label='validation score')\n",
        "plt.legend(loc='best')\n",
        "plt.xlabel('degree');"
      ],
      "execution_count": 0,
      "outputs": [
        {
          "output_type": "display_data",
          "data": {
            "image/png": "[encoded data removed]",
            "text/plain": [
              "<Figure size 432x288 with 1 Axes>"
            ]
          },
          "metadata": {
            "tags": []
          }
        }
      ]
    },
    {
      "metadata": {
        "id": "HUdGHWhvtVnV",
        "colab_type": "text"
      },
      "cell_type": "markdown",
      "source": [
        "### Grid Search (with Polynomial Regression)\n",
        "\n",
        "https://scikit-learn.org/stable/modules/generated/sklearn.model_selection.GridSearchCV.html\n",
        "\n",
        "https://scikit-learn.org/stable/modules/grid_search.html"
      ]
    },
    {
      "metadata": {
        "id": "GziXyq8Is6dL",
        "colab_type": "code",
        "outputId": "2461ce72-25b2-4a64-9f3d-6714097df4f9",
        "colab": {
          "base_uri": "https://localhost:8080/",
          "height": 785
        }
      },
      "cell_type": "code",
      "source": [
        "from sklearn.model_selection import GridSearchCV\n",
        "\n",
        "param_grid = {\n",
        "    'polynomialfeatures__degree': [0,1,2,3]\n",
        "}\n",
        "\n",
        "gridsearch = GridSearchCV(PolynomialRegression(), param_grid=param_grid,\n",
        "                         scoring='neg_mean_absolute_error', cv=3,\n",
        "                         return_train_score=True, verbose=10)\n",
        "\n",
        "gridsearch.fit(X_train,y_train)"
      ],
      "execution_count": 0,
      "outputs": [
        {
          "output_type": "stream",
          "text": [
            "Fitting 3 folds for each of 4 candidates, totalling 12 fits\n",
            "[CV] polynomialfeatures__degree=0 ....................................\n",
            "[CV]  polynomialfeatures__degree=0, score=-1026.3529857047195, total=   0.0s\n",
            "[CV] polynomialfeatures__degree=0 ....................................\n",
            "[CV]  polynomialfeatures__degree=0, score=-1001.6149251268913, total=   0.0s\n",
            "[CV] polynomialfeatures__degree=0 ....................................\n",
            "[CV]  polynomialfeatures__degree=0, score=-927.0707048650538, total=   0.0s\n",
            "[CV] polynomialfeatures__degree=1 ....................................\n",
            "[CV]  polynomialfeatures__degree=1, score=-552.6607673839432, total=   0.0s\n",
            "[CV] polynomialfeatures__degree=1 ....................................\n",
            "[CV]  polynomialfeatures__degree=1, score=-655.6059243047438, total=   0.0s\n",
            "[CV] polynomialfeatures__degree=1 ....................................\n",
            "[CV]  polynomialfeatures__degree=1, score=-616.1119491952567, total=   0.0s\n",
            "[CV] polynomialfeatures__degree=2 ....................................\n",
            "[CV]  polynomialfeatures__degree=2, score=-552.7522712990225, total=   0.0s\n",
            "[CV] polynomialfeatures__degree=2 ....................................\n",
            "[CV]  polynomialfeatures__degree=2, score=-670.4042535956571, total=   0.0s\n",
            "[CV] polynomialfeatures__degree=2 ....................................\n",
            "[CV]  polynomialfeatures__degree=2, score=-617.6826523370133, total=   0.0s\n",
            "[CV] polynomialfeatures__degree=3 ....................................\n",
            "[CV]  polynomialfeatures__degree=3, score=-582.2247020339892, total=   0.0s\n",
            "[CV] polynomialfeatures__degree=3 ....................................\n"
          ],
          "name": "stdout"
        },
        {
          "output_type": "stream",
          "text": [
            "[Parallel(n_jobs=1)]: Using backend SequentialBackend with 1 concurrent workers.\n",
            "[Parallel(n_jobs=1)]: Done   1 out of   1 | elapsed:    0.0s remaining:    0.0s\n",
            "[Parallel(n_jobs=1)]: Done   2 out of   2 | elapsed:    0.0s remaining:    0.0s\n",
            "[Parallel(n_jobs=1)]: Done   3 out of   3 | elapsed:    0.0s remaining:    0.0s\n",
            "[Parallel(n_jobs=1)]: Done   4 out of   4 | elapsed:    0.0s remaining:    0.0s\n",
            "[Parallel(n_jobs=1)]: Done   5 out of   5 | elapsed:    0.0s remaining:    0.0s\n",
            "[Parallel(n_jobs=1)]: Done   6 out of   6 | elapsed:    0.1s remaining:    0.0s\n",
            "[Parallel(n_jobs=1)]: Done   7 out of   7 | elapsed:    0.1s remaining:    0.0s\n",
            "[Parallel(n_jobs=1)]: Done   8 out of   8 | elapsed:    0.1s remaining:    0.0s\n",
            "[Parallel(n_jobs=1)]: Done   9 out of   9 | elapsed:    0.1s remaining:    0.0s\n"
          ],
          "name": "stderr"
        },
        {
          "output_type": "stream",
          "text": [
            "[CV]  polynomialfeatures__degree=3, score=-7070.347353517414, total=   0.0s\n",
            "[CV] polynomialfeatures__degree=3 ....................................\n",
            "[CV]  polynomialfeatures__degree=3, score=-670.4655783692288, total=   0.0s\n"
          ],
          "name": "stdout"
        },
        {
          "output_type": "stream",
          "text": [
            "[Parallel(n_jobs=1)]: Done  12 out of  12 | elapsed:    0.3s finished\n"
          ],
          "name": "stderr"
        },
        {
          "output_type": "execute_result",
          "data": {
            "text/plain": [
              "GridSearchCV(cv=3, error_score='raise-deprecating',\n",
              "       estimator=Pipeline(memory=None,\n",
              "     steps=[('polynomialfeatures', PolynomialFeatures(degree=2, include_bias=True, interaction_only=False)), ('linearregression', LinearRegression(copy_X=True, fit_intercept=True, n_jobs=None,\n",
              "         normalize=False))]),\n",
              "       fit_params=None, iid='warn', n_jobs=None,\n",
              "       param_grid={'polynomialfeatures__degree': [0, 1, 2, 3]},\n",
              "       pre_dispatch='2*n_jobs', refit=True, return_train_score=True,\n",
              "       scoring='neg_mean_absolute_error', verbose=10)"
            ]
          },
          "metadata": {
            "tags": []
          },
          "execution_count": 79
        }
      ]
    },
    {
      "metadata": {
        "id": "Ks-_9HIxCqqH",
        "colab_type": "code",
        "outputId": "2683c620-378b-4538-c675-8c50f87f4838",
        "colab": {
          "base_uri": "https://localhost:8080/",
          "height": 261
        }
      },
      "cell_type": "code",
      "source": [
        "pd.DataFrame(gridsearch.cv_results_).sort_values(by='rank_test_score')"
      ],
      "execution_count": 0,
      "outputs": [
        {
          "output_type": "execute_result",
          "data": {
            "text/html": [
              "<div>\n",
              "<style scoped>\n",
              "    .dataframe tbody tr th:only-of-type {\n",
              "        vertical-align: middle;\n",
              "    }\n",
              "\n",
              "    .dataframe tbody tr th {\n",
              "        vertical-align: top;\n",
              "    }\n",
              "\n",
              "    .dataframe thead th {\n",
              "        text-align: right;\n",
              "    }\n",
              "</style>\n",
              "<table border=\"1\" class=\"dataframe\">\n",
              "  <thead>\n",
              "    <tr style=\"text-align: right;\">\n",
              "      <th></th>\n",
              "      <th>mean_fit_time</th>\n",
              "      <th>mean_score_time</th>\n",
              "      <th>mean_test_score</th>\n",
              "      <th>mean_train_score</th>\n",
              "      <th>param_polynomialfeatures__degree</th>\n",
              "      <th>params</th>\n",
              "      <th>rank_test_score</th>\n",
              "      <th>split0_test_score</th>\n",
              "      <th>split0_train_score</th>\n",
              "      <th>split1_test_score</th>\n",
              "      <th>split1_train_score</th>\n",
              "      <th>split2_test_score</th>\n",
              "      <th>split2_train_score</th>\n",
              "      <th>std_fit_time</th>\n",
              "      <th>std_score_time</th>\n",
              "      <th>std_test_score</th>\n",
              "      <th>std_train_score</th>\n",
              "    </tr>\n",
              "  </thead>\n",
              "  <tbody>\n",
              "    <tr>\n",
              "      <th>1</th>\n",
              "      <td>0.003408</td>\n",
              "      <td>0.001870</td>\n",
              "      <td>-608.126214</td>\n",
              "      <td>-596.768301</td>\n",
              "      <td>1</td>\n",
              "      <td>{'polynomialfeatures__degree': 1}</td>\n",
              "      <td>1</td>\n",
              "      <td>-552.660767</td>\n",
              "      <td>-619.229120</td>\n",
              "      <td>-655.605924</td>\n",
              "      <td>-582.660550</td>\n",
              "      <td>-616.111949</td>\n",
              "      <td>-588.415234</td>\n",
              "      <td>0.000546</td>\n",
              "      <td>0.000141</td>\n",
              "      <td>42.404837</td>\n",
              "      <td>16.055018</td>\n",
              "    </tr>\n",
              "    <tr>\n",
              "      <th>2</th>\n",
              "      <td>0.008513</td>\n",
              "      <td>0.005343</td>\n",
              "      <td>-613.613059</td>\n",
              "      <td>-579.248923</td>\n",
              "      <td>2</td>\n",
              "      <td>{'polynomialfeatures__degree': 2}</td>\n",
              "      <td>2</td>\n",
              "      <td>-552.752271</td>\n",
              "      <td>-597.626665</td>\n",
              "      <td>-670.404254</td>\n",
              "      <td>-570.822461</td>\n",
              "      <td>-617.682652</td>\n",
              "      <td>-569.297645</td>\n",
              "      <td>0.002606</td>\n",
              "      <td>0.000849</td>\n",
              "      <td>48.117346</td>\n",
              "      <td>13.009927</td>\n",
              "    </tr>\n",
              "    <tr>\n",
              "      <th>0</th>\n",
              "      <td>0.004786</td>\n",
              "      <td>0.001867</td>\n",
              "      <td>-985.012872</td>\n",
              "      <td>-979.844161</td>\n",
              "      <td>0</td>\n",
              "      <td>{'polynomialfeatures__degree': 0}</td>\n",
              "      <td>3</td>\n",
              "      <td>-1026.352986</td>\n",
              "      <td>-968.880368</td>\n",
              "      <td>-1001.614925</td>\n",
              "      <td>-970.755413</td>\n",
              "      <td>-927.070705</td>\n",
              "      <td>-999.896701</td>\n",
              "      <td>0.002700</td>\n",
              "      <td>0.000312</td>\n",
              "      <td>42.197661</td>\n",
              "      <td>14.199935</td>\n",
              "    </tr>\n",
              "    <tr>\n",
              "      <th>3</th>\n",
              "      <td>0.030120</td>\n",
              "      <td>0.009494</td>\n",
              "      <td>-2774.345878</td>\n",
              "      <td>-607.269530</td>\n",
              "      <td>3</td>\n",
              "      <td>{'polynomialfeatures__degree': 3}</td>\n",
              "      <td>4</td>\n",
              "      <td>-582.224702</td>\n",
              "      <td>-567.497214</td>\n",
              "      <td>-7070.347354</td>\n",
              "      <td>-680.411953</td>\n",
              "      <td>-670.465578</td>\n",
              "      <td>-573.899425</td>\n",
              "      <td>0.001904</td>\n",
              "      <td>0.002504</td>\n",
              "      <td>3037.945372</td>\n",
              "      <td>51.785503</td>\n",
              "    </tr>\n",
              "  </tbody>\n",
              "</table>\n",
              "</div>"
            ],
            "text/plain": [
              "   mean_fit_time  mean_score_time  mean_test_score  mean_train_score  \\\n",
              "1       0.003408         0.001870      -608.126214       -596.768301   \n",
              "2       0.008513         0.005343      -613.613059       -579.248923   \n",
              "0       0.004786         0.001867      -985.012872       -979.844161   \n",
              "3       0.030120         0.009494     -2774.345878       -607.269530   \n",
              "\n",
              "  param_polynomialfeatures__degree                             params  \\\n",
              "1                                1  {'polynomialfeatures__degree': 1}   \n",
              "2                                2  {'polynomialfeatures__degree': 2}   \n",
              "0                                0  {'polynomialfeatures__degree': 0}   \n",
              "3                                3  {'polynomialfeatures__degree': 3}   \n",
              "\n",
              "   rank_test_score  split0_test_score  split0_train_score  split1_test_score  \\\n",
              "1                1        -552.660767         -619.229120        -655.605924   \n",
              "2                2        -552.752271         -597.626665        -670.404254   \n",
              "0                3       -1026.352986         -968.880368       -1001.614925   \n",
              "3                4        -582.224702         -567.497214       -7070.347354   \n",
              "\n",
              "   split1_train_score  split2_test_score  split2_train_score  std_fit_time  \\\n",
              "1         -582.660550        -616.111949         -588.415234      0.000546   \n",
              "2         -570.822461        -617.682652         -569.297645      0.002606   \n",
              "0         -970.755413        -927.070705         -999.896701      0.002700   \n",
              "3         -680.411953        -670.465578         -573.899425      0.001904   \n",
              "\n",
              "   std_score_time  std_test_score  std_train_score  \n",
              "1        0.000141       42.404837        16.055018  \n",
              "2        0.000849       48.117346        13.009927  \n",
              "0        0.000312       42.197661        14.199935  \n",
              "3        0.002504     3037.945372        51.785503  "
            ]
          },
          "metadata": {
            "tags": []
          },
          "execution_count": 80
        }
      ]
    },
    {
      "metadata": {
        "id": "xj82P0VdwYlh",
        "colab_type": "text"
      },
      "cell_type": "markdown",
      "source": [
        "### Random Forest?\n",
        "\n",
        "https://scikit-learn.org/stable/modules/generated/sklearn.ensemble.RandomForestRegressor.html"
      ]
    },
    {
      "metadata": {
        "id": "_yYXpk99C4cM",
        "colab_type": "code",
        "outputId": "7c9d041f-0e4d-4856-a677-a47a77cd8403",
        "colab": {
          "base_uri": "https://localhost:8080/",
          "height": 142
        }
      },
      "cell_type": "code",
      "source": [
        "from sklearn.ensemble import RandomForestRegressor\n",
        "\n",
        "model = RandomForestRegressor(n_estimators=100, max_depth=20)\n",
        "\n",
        "scores = cross_validate(model, X_train, y_train,\n",
        "                       scoring='neg_mean_absolute_error',\n",
        "                       cv=3, return_train_score=True,\n",
        "                       return_estimator=True)\n",
        "\n",
        "pd.DataFrame(scores)"
      ],
      "execution_count": 0,
      "outputs": [
        {
          "output_type": "execute_result",
          "data": {
            "text/html": [
              "<div>\n",
              "<style scoped>\n",
              "    .dataframe tbody tr th:only-of-type {\n",
              "        vertical-align: middle;\n",
              "    }\n",
              "\n",
              "    .dataframe tbody tr th {\n",
              "        vertical-align: top;\n",
              "    }\n",
              "\n",
              "    .dataframe thead th {\n",
              "        text-align: right;\n",
              "    }\n",
              "</style>\n",
              "<table border=\"1\" class=\"dataframe\">\n",
              "  <thead>\n",
              "    <tr style=\"text-align: right;\">\n",
              "      <th></th>\n",
              "      <th>estimator</th>\n",
              "      <th>fit_time</th>\n",
              "      <th>score_time</th>\n",
              "      <th>test_score</th>\n",
              "      <th>train_score</th>\n",
              "    </tr>\n",
              "  </thead>\n",
              "  <tbody>\n",
              "    <tr>\n",
              "      <th>0</th>\n",
              "      <td>(DecisionTreeRegressor(criterion='mse', max_de...</td>\n",
              "      <td>0.207941</td>\n",
              "      <td>0.011349</td>\n",
              "      <td>-559.345646</td>\n",
              "      <td>-240.796665</td>\n",
              "    </tr>\n",
              "    <tr>\n",
              "      <th>1</th>\n",
              "      <td>(DecisionTreeRegressor(criterion='mse', max_de...</td>\n",
              "      <td>0.207856</td>\n",
              "      <td>0.012222</td>\n",
              "      <td>-638.776037</td>\n",
              "      <td>-224.951598</td>\n",
              "    </tr>\n",
              "    <tr>\n",
              "      <th>2</th>\n",
              "      <td>(DecisionTreeRegressor(criterion='mse', max_de...</td>\n",
              "      <td>0.207700</td>\n",
              "      <td>0.012127</td>\n",
              "      <td>-646.906745</td>\n",
              "      <td>-222.462039</td>\n",
              "    </tr>\n",
              "  </tbody>\n",
              "</table>\n",
              "</div>"
            ],
            "text/plain": [
              "                                           estimator  fit_time  score_time  \\\n",
              "0  (DecisionTreeRegressor(criterion='mse', max_de...  0.207941    0.011349   \n",
              "1  (DecisionTreeRegressor(criterion='mse', max_de...  0.207856    0.012222   \n",
              "2  (DecisionTreeRegressor(criterion='mse', max_de...  0.207700    0.012127   \n",
              "\n",
              "   test_score  train_score  \n",
              "0 -559.345646  -240.796665  \n",
              "1 -638.776037  -224.951598  \n",
              "2 -646.906745  -222.462039  "
            ]
          },
          "metadata": {
            "tags": []
          },
          "execution_count": 81
        }
      ]
    },
    {
      "metadata": {
        "id": "jNKHuzoVEPH4",
        "colab_type": "code",
        "outputId": "6c0950f6-8c2d-4a80-c80e-cae4286688dc",
        "colab": {
          "base_uri": "https://localhost:8080/",
          "height": 34
        }
      },
      "cell_type": "code",
      "source": [
        "scores['test_score'].mean()"
      ],
      "execution_count": 0,
      "outputs": [
        {
          "output_type": "execute_result",
          "data": {
            "text/plain": [
              "-615.0094756382996"
            ]
          },
          "metadata": {
            "tags": []
          },
          "execution_count": 82
        }
      ]
    },
    {
      "metadata": {
        "id": "vofwgIpSweEb",
        "colab_type": "text"
      },
      "cell_type": "markdown",
      "source": [
        "### Validation Curve (with Random Forest)"
      ]
    },
    {
      "metadata": {
        "id": "apKk4vKiwgtM",
        "colab_type": "code",
        "outputId": "e7398e19-e9e8-45c7-b4e3-b86908db4e69",
        "colab": {
          "base_uri": "https://localhost:8080/",
          "height": 279
        }
      },
      "cell_type": "code",
      "source": [
        "# Modified from cell 13 at\n",
        "# https://jakevdp.github.io/PythonDataScienceHandbook/05.03-hyperparameters-and-model-validation.html#Validation-curves-in-Scikit-Learn\n",
        "\n",
        "%matplotlib inline\n",
        "import matplotlib.pyplot as plt\n",
        "from sklearn.model_selection import validation_curve\n",
        "\n",
        "model = RandomForestRegressor(n_estimators=100)\n",
        "\n",
        "depth = [2, 3, 4, 5, 6]\n",
        "train_score, val_score = validation_curve(\n",
        "    model, X_train, y_train,\n",
        "    param_name='max_depth', param_range=depth, \n",
        "    scoring='neg_mean_absolute_error', cv=3)\n",
        "\n",
        "plt.plot(depth, np.median(train_score, 1), color='blue', label='training score')\n",
        "plt.plot(depth, np.median(val_score, 1), color='red', label='validation score')\n",
        "plt.legend(loc='best')\n",
        "plt.xlabel('depth');"
      ],
      "execution_count": 0,
      "outputs": [
        {
          "output_type": "display_data",
          "data": {
            "image/png": "[encoded data removed]",
            "text/plain": [
              "<Figure size 432x288 with 1 Axes>"
            ]
          },
          "metadata": {
            "tags": []
          }
        }
      ]
    },
    {
      "metadata": {
        "id": "DQoMvZ7-yCAQ",
        "colab_type": "text"
      },
      "cell_type": "markdown",
      "source": [
        "### Grid Search (with Random Forest)"
      ]
    },
    {
      "metadata": {
        "id": "bk_dX_mByKm7",
        "colab_type": "code",
        "outputId": "c51d23fc-3b2e-4b60-e776-aecd626118f3",
        "colab": {
          "base_uri": "https://localhost:8080/",
          "height": 1071
        }
      },
      "cell_type": "code",
      "source": [
        "%%time\n",
        "\n",
        "param_grid = {\n",
        "    'n_estimators': [100,200],\n",
        "    'max_depth': [4,5],\n",
        "    'criterion': ['mse','mae']\n",
        "}\n",
        "\n",
        "gridsearch = GridSearchCV(RandomForestRegressor(), param_grid=param_grid,\n",
        "                         scoring='neg_mean_absolute_error', cv=3,\n",
        "                         return_train_score=True, verbose=10)\n",
        "\n",
        "gridsearch.fit(X_train,y_train)"
      ],
      "execution_count": 0,
      "outputs": [
        {
          "output_type": "stream",
          "text": [
            "Fitting 3 folds for each of 8 candidates, totalling 24 fits\n",
            "[CV] criterion=mse, max_depth=4, n_estimators=100 ....................\n"
          ],
          "name": "stdout"
        },
        {
          "output_type": "stream",
          "text": [
            "[Parallel(n_jobs=1)]: Using backend SequentialBackend with 1 concurrent workers.\n"
          ],
          "name": "stderr"
        },
        {
          "output_type": "stream",
          "text": [
            "[CV]  criterion=mse, max_depth=4, n_estimators=100, score=-554.6786635636621, total=   0.2s\n",
            "[CV] criterion=mse, max_depth=4, n_estimators=100 ....................\n",
            "[CV]  criterion=mse, max_depth=4, n_estimators=100, score=-641.1283357454539, total=   0.1s\n",
            "[CV] criterion=mse, max_depth=4, n_estimators=100 ....................\n"
          ],
          "name": "stdout"
        },
        {
          "output_type": "stream",
          "text": [
            "[Parallel(n_jobs=1)]: Done   1 out of   1 | elapsed:    0.2s remaining:    0.0s\n",
            "[Parallel(n_jobs=1)]: Done   2 out of   2 | elapsed:    0.4s remaining:    0.0s\n"
          ],
          "name": "stderr"
        },
        {
          "output_type": "stream",
          "text": [
            "[CV]  criterion=mse, max_depth=4, n_estimators=100, score=-625.078756053627, total=   0.1s\n",
            "[CV] criterion=mse, max_depth=4, n_estimators=200 ....................\n"
          ],
          "name": "stdout"
        },
        {
          "output_type": "stream",
          "text": [
            "[Parallel(n_jobs=1)]: Done   3 out of   3 | elapsed:    0.5s remaining:    0.0s\n"
          ],
          "name": "stderr"
        },
        {
          "output_type": "stream",
          "text": [
            "[CV]  criterion=mse, max_depth=4, n_estimators=200, score=-548.0529299069441, total=   0.2s\n",
            "[CV] criterion=mse, max_depth=4, n_estimators=200 ....................\n"
          ],
          "name": "stdout"
        },
        {
          "output_type": "stream",
          "text": [
            "[Parallel(n_jobs=1)]: Done   4 out of   4 | elapsed:    0.7s remaining:    0.0s\n"
          ],
          "name": "stderr"
        },
        {
          "output_type": "stream",
          "text": [
            "[CV]  criterion=mse, max_depth=4, n_estimators=200, score=-641.2121363885035, total=   0.2s\n",
            "[CV] criterion=mse, max_depth=4, n_estimators=200 ....................\n"
          ],
          "name": "stdout"
        },
        {
          "output_type": "stream",
          "text": [
            "[Parallel(n_jobs=1)]: Done   5 out of   5 | elapsed:    1.0s remaining:    0.0s\n"
          ],
          "name": "stderr"
        },
        {
          "output_type": "stream",
          "text": [
            "[CV]  criterion=mse, max_depth=4, n_estimators=200, score=-621.8602826131357, total=   0.2s\n",
            "[CV] criterion=mse, max_depth=5, n_estimators=100 ....................\n",
            "[CV]  criterion=mse, max_depth=5, n_estimators=100, score=-548.0461462797547, total=   0.1s\n",
            "[CV] criterion=mse, max_depth=5, n_estimators=100 ....................\n"
          ],
          "name": "stdout"
        },
        {
          "output_type": "stream",
          "text": [
            "[Parallel(n_jobs=1)]: Done   6 out of   6 | elapsed:    1.2s remaining:    0.0s\n",
            "[Parallel(n_jobs=1)]: Done   7 out of   7 | elapsed:    1.4s remaining:    0.0s\n"
          ],
          "name": "stderr"
        },
        {
          "output_type": "stream",
          "text": [
            "[CV]  criterion=mse, max_depth=5, n_estimators=100, score=-641.9594754709308, total=   0.1s\n",
            "[CV] criterion=mse, max_depth=5, n_estimators=100 ....................\n",
            "[CV]  criterion=mse, max_depth=5, n_estimators=100, score=-625.6939247524766, total=   0.1s\n",
            "[CV] criterion=mse, max_depth=5, n_estimators=200 ....................\n"
          ],
          "name": "stdout"
        },
        {
          "output_type": "stream",
          "text": [
            "[Parallel(n_jobs=1)]: Done   8 out of   8 | elapsed:    1.5s remaining:    0.0s\n",
            "[Parallel(n_jobs=1)]: Done   9 out of   9 | elapsed:    1.7s remaining:    0.0s\n"
          ],
          "name": "stderr"
        },
        {
          "output_type": "stream",
          "text": [
            "[CV]  criterion=mse, max_depth=5, n_estimators=200, score=-542.6554643569772, total=   0.3s\n",
            "[CV] criterion=mse, max_depth=5, n_estimators=200 ....................\n",
            "[CV]  criterion=mse, max_depth=5, n_estimators=200, score=-637.1431045826347, total=   0.3s\n",
            "[CV] criterion=mse, max_depth=5, n_estimators=200 ....................\n",
            "[CV]  criterion=mse, max_depth=5, n_estimators=200, score=-627.2072119734082, total=   0.3s\n",
            "[CV] criterion=mae, max_depth=4, n_estimators=100 ....................\n",
            "[CV]  criterion=mae, max_depth=4, n_estimators=100, score=-543.0679595015577, total=   0.7s\n",
            "[CV] criterion=mae, max_depth=4, n_estimators=100 ....................\n",
            "[CV]  criterion=mae, max_depth=4, n_estimators=100, score=-636.1002647975077, total=   0.6s\n",
            "[CV] criterion=mae, max_depth=4, n_estimators=100 ....................\n",
            "[CV]  criterion=mae, max_depth=4, n_estimators=100, score=-612.3796573208723, total=   0.7s\n",
            "[CV] criterion=mae, max_depth=4, n_estimators=200 ....................\n",
            "[CV]  criterion=mae, max_depth=4, n_estimators=200, score=-545.021152647975, total=   1.3s\n",
            "[CV] criterion=mae, max_depth=4, n_estimators=200 ....................\n",
            "[CV]  criterion=mae, max_depth=4, n_estimators=200, score=-636.6803816199376, total=   1.3s\n",
            "[CV] criterion=mae, max_depth=4, n_estimators=200 ....................\n",
            "[CV]  criterion=mae, max_depth=4, n_estimators=200, score=-612.1121962616822, total=   1.3s\n",
            "[CV] criterion=mae, max_depth=5, n_estimators=100 ....................\n",
            "[CV]  criterion=mae, max_depth=5, n_estimators=100, score=-538.9592056074766, total=   0.7s\n",
            "[CV] criterion=mae, max_depth=5, n_estimators=100 ....................\n",
            "[CV]  criterion=mae, max_depth=5, n_estimators=100, score=-635.3547196261683, total=   0.7s\n",
            "[CV] criterion=mae, max_depth=5, n_estimators=100 ....................\n",
            "[CV]  criterion=mae, max_depth=5, n_estimators=100, score=-611.7559501557632, total=   0.7s\n",
            "[CV] criterion=mae, max_depth=5, n_estimators=200 ....................\n",
            "[CV]  criterion=mae, max_depth=5, n_estimators=200, score=-542.1427180685358, total=   1.5s\n",
            "[CV] criterion=mae, max_depth=5, n_estimators=200 ....................\n",
            "[CV]  criterion=mae, max_depth=5, n_estimators=200, score=-634.0439096573209, total=   1.4s\n",
            "[CV] criterion=mae, max_depth=5, n_estimators=200 ....................\n",
            "[CV]  criterion=mae, max_depth=5, n_estimators=200, score=-613.5630919003115, total=   1.5s\n"
          ],
          "name": "stdout"
        },
        {
          "output_type": "stream",
          "text": [
            "[Parallel(n_jobs=1)]: Done  24 out of  24 | elapsed:   15.1s finished\n"
          ],
          "name": "stderr"
        },
        {
          "output_type": "stream",
          "text": [
            "CPU times: user 16.4 s, sys: 14.8 ms, total: 16.4 s\n",
            "Wall time: 16.4 s\n"
          ],
          "name": "stdout"
        }
      ]
    },
    {
      "metadata": {
        "id": "IjNVlDUwGMIc",
        "colab_type": "code",
        "outputId": "f4723df1-ab81-4de3-ad5f-81c8baf62e14",
        "colab": {
          "base_uri": "https://localhost:8080/",
          "height": 185
        }
      },
      "cell_type": "code",
      "source": [
        "results = pd.DataFrame(gridsearch.cv_results_)\n",
        "print(f'Best result from gridsearch of {len(results)} parameter combinations')\n",
        "results.sort_values(by='rank_test_score').head(1)"
      ],
      "execution_count": 0,
      "outputs": [
        {
          "output_type": "stream",
          "text": [
            "Best result from gridsearch of 8 parameter combinations\n"
          ],
          "name": "stdout"
        },
        {
          "output_type": "execute_result",
          "data": {
            "text/html": [
              "<div>\n",
              "<style scoped>\n",
              "    .dataframe tbody tr th:only-of-type {\n",
              "        vertical-align: middle;\n",
              "    }\n",
              "\n",
              "    .dataframe tbody tr th {\n",
              "        vertical-align: top;\n",
              "    }\n",
              "\n",
              "    .dataframe thead th {\n",
              "        text-align: right;\n",
              "    }\n",
              "</style>\n",
              "<table border=\"1\" class=\"dataframe\">\n",
              "  <thead>\n",
              "    <tr style=\"text-align: right;\">\n",
              "      <th></th>\n",
              "      <th>mean_fit_time</th>\n",
              "      <th>mean_score_time</th>\n",
              "      <th>mean_test_score</th>\n",
              "      <th>mean_train_score</th>\n",
              "      <th>param_criterion</th>\n",
              "      <th>param_max_depth</th>\n",
              "      <th>param_n_estimators</th>\n",
              "      <th>params</th>\n",
              "      <th>rank_test_score</th>\n",
              "      <th>split0_test_score</th>\n",
              "      <th>split0_train_score</th>\n",
              "      <th>split1_test_score</th>\n",
              "      <th>split1_train_score</th>\n",
              "      <th>split2_test_score</th>\n",
              "      <th>split2_train_score</th>\n",
              "      <th>std_fit_time</th>\n",
              "      <th>std_score_time</th>\n",
              "      <th>std_test_score</th>\n",
              "      <th>std_train_score</th>\n",
              "    </tr>\n",
              "  </thead>\n",
              "  <tbody>\n",
              "    <tr>\n",
              "      <th>6</th>\n",
              "      <td>0.73544</td>\n",
              "      <td>0.007488</td>\n",
              "      <td>-595.356625</td>\n",
              "      <td>-492.622079</td>\n",
              "      <td>mae</td>\n",
              "      <td>5</td>\n",
              "      <td>100</td>\n",
              "      <td>{'criterion': 'mae', 'max_depth': 5, 'n_estima...</td>\n",
              "      <td>1</td>\n",
              "      <td>-538.959206</td>\n",
              "      <td>-513.671815</td>\n",
              "      <td>-635.35472</td>\n",
              "      <td>-478.9894</td>\n",
              "      <td>-611.75595</td>\n",
              "      <td>-485.205023</td>\n",
              "      <td>0.004028</td>\n",
              "      <td>0.000042</td>\n",
              "      <td>41.026229</td>\n",
              "      <td>15.099161</td>\n",
              "    </tr>\n",
              "  </tbody>\n",
              "</table>\n",
              "</div>"
            ],
            "text/plain": [
              "   mean_fit_time  mean_score_time  mean_test_score  mean_train_score  \\\n",
              "6        0.73544         0.007488      -595.356625       -492.622079   \n",
              "\n",
              "  param_criterion param_max_depth param_n_estimators  \\\n",
              "6             mae               5                100   \n",
              "\n",
              "                                              params  rank_test_score  \\\n",
              "6  {'criterion': 'mae', 'max_depth': 5, 'n_estima...                1   \n",
              "\n",
              "   split0_test_score  split0_train_score  split1_test_score  \\\n",
              "6        -538.959206         -513.671815         -635.35472   \n",
              "\n",
              "   split1_train_score  split2_test_score  split2_train_score  std_fit_time  \\\n",
              "6           -478.9894         -611.75595         -485.205023      0.004028   \n",
              "\n",
              "   std_score_time  std_test_score  std_train_score  \n",
              "6        0.000042       41.026229        15.099161  "
            ]
          },
          "metadata": {
            "tags": []
          },
          "execution_count": 85
        }
      ]
    },
    {
      "metadata": {
        "id": "ZW5HfYtU0GW2",
        "colab_type": "text"
      },
      "cell_type": "markdown",
      "source": [
        "## FEATURE ENGINEERING!"
      ]
    },
    {
      "metadata": {
        "id": "0ms-eoOHFvPG",
        "colab_type": "text"
      },
      "cell_type": "markdown",
      "source": [
        "Jake VanderPlas demonstrates this feature engineering: \n",
        "https://jakevdp.github.io/PythonDataScienceHandbook/05.06-linear-regression.html#Example:-Predicting-Bicycle-Traffic"
      ]
    },
    {
      "metadata": {
        "id": "sEwME8wR3A5g",
        "colab_type": "code",
        "colab": {}
      },
      "cell_type": "code",
      "source": [
        "# Modified from code cells 17-21 at\n",
        "# https://jakevdp.github.io/PythonDataScienceHandbook/05.06-linear-regression.html#Example:-Predicting-Bicycle-Traffic\n",
        "\n",
        "\n",
        "# patterns of use generally vary from day to day; \n",
        "# let's add binary columns that indicate the day of the week:\n",
        "days = ['Mon', 'Tue', 'Wed', 'Thu', 'Fri', 'Sat', 'Sun']\n",
        "for i, day in enumerate(days):\n",
        "    X_train[day] = (X_train.index.dayofweek == i).astype(float)\n",
        "\n",
        "\n",
        "    \n",
        "# we might expect riders to behave differently on holidays; \n",
        "# let's add an indicator of this as well:\n",
        "from pandas.tseries.holiday import USFederalHolidayCalendar\n",
        "cal = USFederalHolidayCalendar()\n",
        "holidays = cal.holidays('2012', '2016')\n",
        "X_train = X_train.join(pd.Series(1, index=holidays, name='holiday'))\n",
        "X_train['holiday'].fillna(0, inplace=True)\n",
        "\n",
        "\n",
        "\n",
        "# We also might suspect that the hours of daylight would affect \n",
        "# how many people ride; let's use the standard astronomical calculation \n",
        "# to add this information:\n",
        "def hours_of_daylight(date, axis=23.44, latitude=47.61):\n",
        "    \"\"\"Compute the hours of daylight for the given date\"\"\"\n",
        "    days = (date - pd.datetime(2000, 12, 21)).days\n",
        "    m = (1. - np.tan(np.radians(latitude))\n",
        "         * np.tan(np.radians(axis) * np.cos(days * 2 * np.pi / 365.25)))\n",
        "    return 24. * np.degrees(np.arccos(1 - np.clip(m, 0, 2))) / 180.\n",
        "\n",
        "X_train['daylight_hrs'] = list(map(hours_of_daylight, X_train.index))\n",
        "\n",
        "\n",
        "\n",
        "# temperatures are in 1/10 deg C; convert to C\n",
        "X_train['TMIN'] /= 10\n",
        "X_train['TMAX'] /= 10\n",
        "\n",
        "# We can also calculate the average temperature.\n",
        "X_train['Temp (C)'] = 0.5 * (X_train['TMIN'] + X_train['TMAX'])\n",
        "\n",
        "\n",
        "\n",
        "# precip is in 1/10 mm; convert to inches\n",
        "X_train['PRCP'] /= 254\n",
        "\n",
        "# In addition to the inches of precipitation, let's add a flag that \n",
        "# indicates whether a day is dry (has zero precipitation):\n",
        "X_train['dry day'] = (X_train['PRCP'] == 0).astype(int)\n",
        "\n",
        "\n",
        "\n",
        "# Let's add a counter that increases from day 1, and measures how many \n",
        "# years have passed. This will let us measure any observed annual increase \n",
        "# or decrease in daily crossings:\n",
        "X_train['annual'] = (X_train.index - X_train.index[0]).days / 365."
      ],
      "execution_count": 0,
      "outputs": []
    },
    {
      "metadata": {
        "id": "dDGkAv813Wtj",
        "colab_type": "text"
      },
      "cell_type": "markdown",
      "source": [
        "### Linear Regression (with new features)"
      ]
    },
    {
      "metadata": {
        "id": "cj3HTM6p5F1A",
        "colab_type": "code",
        "outputId": "91ce506b-344a-4de6-f259-c8786d017c9f",
        "colab": {
          "base_uri": "https://localhost:8080/",
          "height": 142
        }
      },
      "cell_type": "code",
      "source": [
        "scores = cross_validate(LinearRegression(), X_train, y_train,\n",
        "                       scoring='neg_mean_absolute_error', cv=3,\n",
        "                       return_train_score=True, return_estimator=True)\n",
        "\n",
        "pd.DataFrame(scores)"
      ],
      "execution_count": 0,
      "outputs": [
        {
          "output_type": "execute_result",
          "data": {
            "text/html": [
              "<div>\n",
              "<style scoped>\n",
              "    .dataframe tbody tr th:only-of-type {\n",
              "        vertical-align: middle;\n",
              "    }\n",
              "\n",
              "    .dataframe tbody tr th {\n",
              "        vertical-align: top;\n",
              "    }\n",
              "\n",
              "    .dataframe thead th {\n",
              "        text-align: right;\n",
              "    }\n",
              "</style>\n",
              "<table border=\"1\" class=\"dataframe\">\n",
              "  <thead>\n",
              "    <tr style=\"text-align: right;\">\n",
              "      <th></th>\n",
              "      <th>estimator</th>\n",
              "      <th>fit_time</th>\n",
              "      <th>score_time</th>\n",
              "      <th>test_score</th>\n",
              "      <th>train_score</th>\n",
              "    </tr>\n",
              "  </thead>\n",
              "  <tbody>\n",
              "    <tr>\n",
              "      <th>0</th>\n",
              "      <td>LinearRegression(copy_X=True, fit_intercept=Tr...</td>\n",
              "      <td>0.007711</td>\n",
              "      <td>0.002811</td>\n",
              "      <td>-297.513331</td>\n",
              "      <td>-294.270373</td>\n",
              "    </tr>\n",
              "    <tr>\n",
              "      <th>1</th>\n",
              "      <td>LinearRegression(copy_X=True, fit_intercept=Tr...</td>\n",
              "      <td>0.006459</td>\n",
              "      <td>0.002278</td>\n",
              "      <td>-303.304222</td>\n",
              "      <td>-283.122196</td>\n",
              "    </tr>\n",
              "    <tr>\n",
              "      <th>2</th>\n",
              "      <td>LinearRegression(copy_X=True, fit_intercept=Tr...</td>\n",
              "      <td>0.008069</td>\n",
              "      <td>0.005041</td>\n",
              "      <td>-322.471789</td>\n",
              "      <td>-283.465246</td>\n",
              "    </tr>\n",
              "  </tbody>\n",
              "</table>\n",
              "</div>"
            ],
            "text/plain": [
              "                                           estimator  fit_time  score_time  \\\n",
              "0  LinearRegression(copy_X=True, fit_intercept=Tr...  0.007711    0.002811   \n",
              "1  LinearRegression(copy_X=True, fit_intercept=Tr...  0.006459    0.002278   \n",
              "2  LinearRegression(copy_X=True, fit_intercept=Tr...  0.008069    0.005041   \n",
              "\n",
              "   test_score  train_score  \n",
              "0 -297.513331  -294.270373  \n",
              "1 -303.304222  -283.122196  \n",
              "2 -322.471789  -283.465246  "
            ]
          },
          "metadata": {
            "tags": []
          },
          "execution_count": 87
        }
      ]
    },
    {
      "metadata": {
        "id": "b6zxN2xB3bX_",
        "colab_type": "text"
      },
      "cell_type": "markdown",
      "source": [
        "### Random Forest (with new features)"
      ]
    },
    {
      "metadata": {
        "id": "3sWUDZIz1-kk",
        "colab_type": "code",
        "outputId": "e8722f44-f070-4270-a626-cb310ac7e286",
        "colab": {
          "base_uri": "https://localhost:8080/",
          "height": 561
        }
      },
      "cell_type": "code",
      "source": [
        "%%time\n",
        "\n",
        "param_grid = {\n",
        "    'n_estimators': [100],\n",
        "    'max_depth': [5,10,15],\n",
        "    'criterion': ['mae']\n",
        "}\n",
        "\n",
        "gridsearch = GridSearchCV(RandomForestRegressor(), param_grid=param_grid,\n",
        "                         scoring='neg_mean_absolute_error', cv=3,\n",
        "                         return_train_score=True, verbose=10)\n",
        "\n",
        "gridsearch.fit(X_train,y_train)"
      ],
      "execution_count": 0,
      "outputs": [
        {
          "output_type": "stream",
          "text": [
            "Fitting 3 folds for each of 3 candidates, totalling 9 fits\n",
            "[CV] criterion=mae, max_depth=5, n_estimators=100 ....................\n"
          ],
          "name": "stdout"
        },
        {
          "output_type": "stream",
          "text": [
            "[Parallel(n_jobs=1)]: Using backend SequentialBackend with 1 concurrent workers.\n"
          ],
          "name": "stderr"
        },
        {
          "output_type": "stream",
          "text": [
            "[CV]  criterion=mae, max_depth=5, n_estimators=100, score=-353.5919626168225, total=   1.7s\n",
            "[CV] criterion=mae, max_depth=5, n_estimators=100 ....................\n"
          ],
          "name": "stdout"
        },
        {
          "output_type": "stream",
          "text": [
            "[Parallel(n_jobs=1)]: Done   1 out of   1 | elapsed:    1.7s remaining:    0.0s\n"
          ],
          "name": "stderr"
        },
        {
          "output_type": "stream",
          "text": [
            "[CV]  criterion=mae, max_depth=5, n_estimators=100, score=-379.9800778816199, total=   1.6s\n",
            "[CV] criterion=mae, max_depth=5, n_estimators=100 ....................\n"
          ],
          "name": "stdout"
        },
        {
          "output_type": "stream",
          "text": [
            "[Parallel(n_jobs=1)]: Done   2 out of   2 | elapsed:    3.2s remaining:    0.0s\n"
          ],
          "name": "stderr"
        },
        {
          "output_type": "stream",
          "text": [
            "[CV]  criterion=mae, max_depth=5, n_estimators=100, score=-340.24892523364485, total=   1.6s\n",
            "[CV] criterion=mae, max_depth=10, n_estimators=100 ...................\n"
          ],
          "name": "stdout"
        },
        {
          "output_type": "stream",
          "text": [
            "[Parallel(n_jobs=1)]: Done   3 out of   3 | elapsed:    4.9s remaining:    0.0s\n"
          ],
          "name": "stderr"
        },
        {
          "output_type": "stream",
          "text": [
            "[CV]  criterion=mae, max_depth=10, n_estimators=100, score=-345.6107009345794, total=   2.3s\n",
            "[CV] criterion=mae, max_depth=10, n_estimators=100 ...................\n"
          ],
          "name": "stdout"
        },
        {
          "output_type": "stream",
          "text": [
            "[Parallel(n_jobs=1)]: Done   4 out of   4 | elapsed:    7.1s remaining:    0.0s\n"
          ],
          "name": "stderr"
        },
        {
          "output_type": "stream",
          "text": [
            "[CV]  criterion=mae, max_depth=10, n_estimators=100, score=-324.851230529595, total=   2.2s\n",
            "[CV] criterion=mae, max_depth=10, n_estimators=100 ...................\n"
          ],
          "name": "stdout"
        },
        {
          "output_type": "stream",
          "text": [
            "[Parallel(n_jobs=1)]: Done   5 out of   5 | elapsed:    9.3s remaining:    0.0s\n"
          ],
          "name": "stderr"
        },
        {
          "output_type": "stream",
          "text": [
            "[CV]  criterion=mae, max_depth=10, n_estimators=100, score=-305.7783489096573, total=   2.2s\n",
            "[CV] criterion=mae, max_depth=15, n_estimators=100 ...................\n"
          ],
          "name": "stdout"
        },
        {
          "output_type": "stream",
          "text": [
            "[Parallel(n_jobs=1)]: Done   6 out of   6 | elapsed:   11.6s remaining:    0.0s\n"
          ],
          "name": "stderr"
        },
        {
          "output_type": "stream",
          "text": [
            "[CV]  criterion=mae, max_depth=15, n_estimators=100, score=-351.7379283489097, total=   2.5s\n",
            "[CV] criterion=mae, max_depth=15, n_estimators=100 ...................\n"
          ],
          "name": "stdout"
        },
        {
          "output_type": "stream",
          "text": [
            "[Parallel(n_jobs=1)]: Done   7 out of   7 | elapsed:   14.0s remaining:    0.0s\n"
          ],
          "name": "stderr"
        },
        {
          "output_type": "stream",
          "text": [
            "[CV]  criterion=mae, max_depth=15, n_estimators=100, score=-319.05732087227415, total=   2.3s\n",
            "[CV] criterion=mae, max_depth=15, n_estimators=100 ...................\n"
          ],
          "name": "stdout"
        },
        {
          "output_type": "stream",
          "text": [
            "[Parallel(n_jobs=1)]: Done   8 out of   8 | elapsed:   16.4s remaining:    0.0s\n"
          ],
          "name": "stderr"
        },
        {
          "output_type": "stream",
          "text": [
            "[CV]  criterion=mae, max_depth=15, n_estimators=100, score=-297.0978660436137, total=   2.4s\n"
          ],
          "name": "stdout"
        },
        {
          "output_type": "stream",
          "text": [
            "[Parallel(n_jobs=1)]: Done   9 out of   9 | elapsed:   18.8s remaining:    0.0s\n",
            "[Parallel(n_jobs=1)]: Done   9 out of   9 | elapsed:   18.8s finished\n"
          ],
          "name": "stderr"
        },
        {
          "output_type": "stream",
          "text": [
            "CPU times: user 23.1 s, sys: 20.9 ms, total: 23.1 s\n",
            "Wall time: 23.1 s\n"
          ],
          "name": "stdout"
        }
      ]
    },
    {
      "metadata": {
        "id": "dIYuh-k9ptC6",
        "colab_type": "code",
        "outputId": "65f49f65-b61b-4963-8f38-8a67f9b067e5",
        "colab": {
          "base_uri": "https://localhost:8080/",
          "height": 185
        }
      },
      "cell_type": "code",
      "source": [
        "results = pd.DataFrame(gridsearch.cv_results_)\n",
        "print(f'Best result from gridsearch of {len(results)} parameter combinations')\n",
        "results.sort_values(by='rank_test_score').head(1)"
      ],
      "execution_count": 0,
      "outputs": [
        {
          "output_type": "stream",
          "text": [
            "Best result from gridsearch of 3 parameter combinations\n"
          ],
          "name": "stdout"
        },
        {
          "output_type": "execute_result",
          "data": {
            "text/html": [
              "<div>\n",
              "<style scoped>\n",
              "    .dataframe tbody tr th:only-of-type {\n",
              "        vertical-align: middle;\n",
              "    }\n",
              "\n",
              "    .dataframe tbody tr th {\n",
              "        vertical-align: top;\n",
              "    }\n",
              "\n",
              "    .dataframe thead th {\n",
              "        text-align: right;\n",
              "    }\n",
              "</style>\n",
              "<table border=\"1\" class=\"dataframe\">\n",
              "  <thead>\n",
              "    <tr style=\"text-align: right;\">\n",
              "      <th></th>\n",
              "      <th>mean_fit_time</th>\n",
              "      <th>mean_score_time</th>\n",
              "      <th>mean_test_score</th>\n",
              "      <th>mean_train_score</th>\n",
              "      <th>param_criterion</th>\n",
              "      <th>param_max_depth</th>\n",
              "      <th>param_n_estimators</th>\n",
              "      <th>params</th>\n",
              "      <th>rank_test_score</th>\n",
              "      <th>split0_test_score</th>\n",
              "      <th>split0_train_score</th>\n",
              "      <th>split1_test_score</th>\n",
              "      <th>split1_train_score</th>\n",
              "      <th>split2_test_score</th>\n",
              "      <th>split2_train_score</th>\n",
              "      <th>std_fit_time</th>\n",
              "      <th>std_score_time</th>\n",
              "      <th>std_test_score</th>\n",
              "      <th>std_train_score</th>\n",
              "    </tr>\n",
              "  </thead>\n",
              "  <tbody>\n",
              "    <tr>\n",
              "      <th>2</th>\n",
              "      <td>2.398155</td>\n",
              "      <td>0.010584</td>\n",
              "      <td>-322.631038</td>\n",
              "      <td>-109.578037</td>\n",
              "      <td>mae</td>\n",
              "      <td>15</td>\n",
              "      <td>100</td>\n",
              "      <td>{'criterion': 'mae', 'max_depth': 15, 'n_estim...</td>\n",
              "      <td>1</td>\n",
              "      <td>-351.737928</td>\n",
              "      <td>-112.107383</td>\n",
              "      <td>-319.057321</td>\n",
              "      <td>-105.13817</td>\n",
              "      <td>-297.097866</td>\n",
              "      <td>-111.488559</td>\n",
              "      <td>0.053919</td>\n",
              "      <td>0.000247</td>\n",
              "      <td>22.44939</td>\n",
              "      <td>3.149609</td>\n",
              "    </tr>\n",
              "  </tbody>\n",
              "</table>\n",
              "</div>"
            ],
            "text/plain": [
              "   mean_fit_time  mean_score_time  mean_test_score  mean_train_score  \\\n",
              "2       2.398155         0.010584      -322.631038       -109.578037   \n",
              "\n",
              "  param_criterion param_max_depth param_n_estimators  \\\n",
              "2             mae              15                100   \n",
              "\n",
              "                                              params  rank_test_score  \\\n",
              "2  {'criterion': 'mae', 'max_depth': 15, 'n_estim...                1   \n",
              "\n",
              "   split0_test_score  split0_train_score  split1_test_score  \\\n",
              "2        -351.737928         -112.107383        -319.057321   \n",
              "\n",
              "   split1_train_score  split2_test_score  split2_train_score  std_fit_time  \\\n",
              "2          -105.13817        -297.097866         -111.488559      0.053919   \n",
              "\n",
              "   std_score_time  std_test_score  std_train_score  \n",
              "2        0.000247        22.44939         3.149609  "
            ]
          },
          "metadata": {
            "tags": []
          },
          "execution_count": 89
        }
      ]
    },
    {
      "metadata": {
        "id": "0QEBUVR13kcb",
        "colab_type": "text"
      },
      "cell_type": "markdown",
      "source": [
        "### Ridge Regression (with new features)\n",
        "\n",
        "https://scikit-learn.org/stable/modules/generated/sklearn.linear_model.Ridge.html"
      ]
    },
    {
      "metadata": {
        "id": "4voLbIxU8r6r",
        "colab_type": "code",
        "outputId": "8154d837-7bfe-4c4c-fb32-ec68b4c1eb9a",
        "colab": {
          "base_uri": "https://localhost:8080/",
          "height": 136
        }
      },
      "cell_type": "code",
      "source": [
        "from sklearn.linear_model import Ridge\n",
        "\n",
        "param_grid = {\n",
        "    'alpha':[0.1,1.0,10.]\n",
        "}\n",
        "\n",
        "gridsearch = GridSearchCV(Ridge(), param_grid=param_grid,\n",
        "                      scoring='neg_mean_absolute_error', cv=3,\n",
        "                       return_train_score=True)\n",
        "\n",
        "gridsearch.fit(X_train,y_train)"
      ],
      "execution_count": 0,
      "outputs": [
        {
          "output_type": "execute_result",
          "data": {
            "text/plain": [
              "GridSearchCV(cv=3, error_score='raise-deprecating',\n",
              "       estimator=Ridge(alpha=1.0, copy_X=True, fit_intercept=True, max_iter=None,\n",
              "   normalize=False, random_state=None, solver='auto', tol=0.001),\n",
              "       fit_params=None, iid='warn', n_jobs=None,\n",
              "       param_grid={'alpha': [0.1, 1.0, 10.0]}, pre_dispatch='2*n_jobs',\n",
              "       refit=True, return_train_score=True,\n",
              "       scoring='neg_mean_absolute_error', verbose=0)"
            ]
          },
          "metadata": {
            "tags": []
          },
          "execution_count": 50
        }
      ]
    },
    {
      "metadata": {
        "id": "c4a6cz4tJJlq",
        "colab_type": "code",
        "outputId": "0fefa2c4-ce79-4da7-f85c-4384b7e0e857",
        "colab": {
          "base_uri": "https://localhost:8080/",
          "height": 374
        }
      },
      "cell_type": "code",
      "source": [
        "model = gridsearch.best_estimator_\n",
        "\n",
        "coefficients = model.coef_\n",
        "intercept = model.intercept_\n",
        "feature_names= X_train.columns\n",
        "\n",
        "print('Best Model from grid search cross validation')\n",
        "print('Intercept', intercept)\n",
        "print(pd.Series(coefficients, feature_names).to_string())"
      ],
      "execution_count": 0,
      "outputs": [
        {
          "output_type": "stream",
          "text": [
            "Best Model from grid search cross validation\n",
            "Intercept 33.741779570641484\n",
            "PRCP               -553.070741\n",
            "SNOW                 -0.002829\n",
            "SNWD                 -1.877519\n",
            "TMAX                 63.833062\n",
            "TMIN                -37.450291\n",
            "AWND                 -1.900084\n",
            "Total_yesterday       0.296029\n",
            "Mon                 779.221395\n",
            "Tue                 432.700039\n",
            "Wed                 368.367626\n",
            "Thu                 274.054021\n",
            "Fri                  47.251356\n",
            "Sat               -1099.692199\n",
            "Sun                -801.902237\n",
            "holiday            -939.301546\n",
            "daylight_hrs         70.256463\n",
            "Temp (C)             13.191386\n",
            "dry day             298.475434\n",
            "annual               44.518889\n"
          ],
          "name": "stdout"
        }
      ]
    },
    {
      "metadata": {
        "id": "dofdwyTf3pm0",
        "colab_type": "text"
      },
      "cell_type": "markdown",
      "source": [
        "### Compare to statsmodels"
      ]
    },
    {
      "metadata": {
        "id": "i-Qt4mDk_yBY",
        "colab_type": "code",
        "outputId": "c9e2516b-5b03-48fd-9ad8-195ae9c0fc83",
        "colab": {
          "base_uri": "https://localhost:8080/",
          "height": 782
        }
      },
      "cell_type": "code",
      "source": [
        "model = sm.OLS(y_train, sm.add_constant(X_train))\n",
        "print(model.fit().summary())"
      ],
      "execution_count": 0,
      "outputs": [
        {
          "output_type": "stream",
          "text": [
            "                            OLS Regression Results                            \n",
            "==============================================================================\n",
            "Dep. Variable:                  Total   R-squared:                       0.902\n",
            "Model:                            OLS   Adj. R-squared:                  0.901\n",
            "Method:                 Least Squares   F-statistic:                     513.9\n",
            "Date:                Wed, 30 Jan 2019   Prob (F-statistic):               0.00\n",
            "Time:                        21:27:01   Log-Likelihood:                -7092.4\n",
            "No. Observations:                 963   AIC:                         1.422e+04\n",
            "Df Residuals:                     945   BIC:                         1.431e+04\n",
            "Df Model:                          17                                         \n",
            "Covariance Type:            nonrobust                                         \n",
            "===================================================================================\n",
            "                      coef    std err          t      P>|t|      [0.025      0.975]\n",
            "-----------------------------------------------------------------------------------\n",
            "const              32.4379     66.241      0.490      0.624     -97.558     162.434\n",
            "PRCP             -562.0924     56.565     -9.937      0.000    -673.100    -451.085\n",
            "SNOW                2.4705      4.718      0.524      0.601      -6.789      11.730\n",
            "SNWD               -1.9481      4.646     -0.419      0.675     -11.066       7.170\n",
            "TMAX               63.5289      4.791     13.259      0.000      54.126      72.932\n",
            "TMIN              -36.9285      5.428     -6.803      0.000     -47.581     -26.276\n",
            "AWND               -1.8669      0.911     -2.050      0.041      -3.654      -0.080\n",
            "Total_yesterday     0.2934      0.022     13.644      0.000       0.251       0.336\n",
            "Mon               790.6688     41.054     19.259      0.000     710.101     871.237\n",
            "Tue               441.7017     32.912     13.421      0.000     377.112     506.291\n",
            "Wed               376.9565     33.925     11.111      0.000     310.379     443.534\n",
            "Thu               282.9609     33.655      8.408      0.000     216.915     349.007\n",
            "Fri                52.0824     32.790      1.588      0.113     -12.267     116.432\n",
            "Sat             -1105.2505     32.352    -34.163      0.000   -1168.741   -1041.760\n",
            "Sun              -806.6819     40.069    -20.133      0.000    -885.316    -728.048\n",
            "holiday          -983.5224     78.175    -12.581      0.000   -1136.938    -830.107\n",
            "daylight_hrs       70.4089      8.370      8.412      0.000      53.982      86.836\n",
            "Temp (C)           13.3002      1.254     10.609      0.000      10.840      15.760\n",
            "dry day           302.0014     33.954      8.894      0.000     235.367     368.636\n",
            "annual             44.5616     16.619      2.681      0.007      11.946      77.177\n",
            "==============================================================================\n",
            "Omnibus:                       35.732   Durbin-Watson:                   1.664\n",
            "Prob(Omnibus):                  0.000   Jarque-Bera (JB):               79.311\n",
            "Skew:                           0.184   Prob(JB):                     6.00e-18\n",
            "Kurtosis:                       4.357   Cond. No.                     1.64e+19\n",
            "==============================================================================\n",
            "\n",
            "Warnings:\n",
            "[1] Standard Errors assume that the covariance matrix of the errors is correctly specified.\n",
            "[2] The smallest eigenvalue is 2.84e-29. This might indicate that there are\n",
            "strong multicollinearity problems or that the design matrix is singular.\n"
          ],
          "name": "stdout"
        }
      ]
    },
    {
      "metadata": {
        "id": "edpJ87A8A8sd",
        "colab_type": "text"
      },
      "cell_type": "markdown",
      "source": [
        "\n",
        "### Feature engineering, explained by Francois Chollet\n",
        "\n",
        "> _Feature engineering_ is the process of using your own knowledge about the data and about the machine learning algorithm at hand to make the algorithm work better by applying hardcoded (nonlearned) transformations to the data before it goes into the model. In many cases, it isn’t reasonable to expect a machine-learning model to be able to learn from completely arbitrary data. The data needs to be presented to the model in a way that will make the model’s job easier.\n",
        "\n",
        "> Let’s look at an intuitive example. Suppose you’re trying to develop a model that can take as input an image of a clock and can output the time of day.\n",
        "\n",
        "> If you choose to use the raw pixels of the image as input data, then you have a difficult machine-learning problem on your hands. You’ll need a convolutional neural network to solve it, and you’ll have to expend quite a bit of computational resources to train the network.\n",
        "\n",
        "> But if you already understand the problem at a high level (you understand how humans read time on a clock face), then you can come up with much better input features for a machine-learning algorithm: for instance, write a Python script to follow the black pixels of the clock hands and output the (x, y) coordinates of the tip of each hand. Then a simple machine-learning algorithm can learn to associate these coordinates with the appropriate time of day.\n",
        "\n",
        "> You can go even further: do a coordinate change, and express the (x, y) coordinates as polar coordinates with regard to the center of the image. Your input will become the angle theta of each clock hand. At this point, your features are making the problem so easy that no machine learning is required; a simple rounding operation and dictionary lookup are enough to recover the approximate time of day.\n",
        "\n",
        "> That’s the essence of feature engineering: making a problem easier by expressing it in a simpler way. It usually requires understanding the problem in depth.\n",
        "\n",
        "> Before convolutional neural networks became successful on the MNIST digit-classification problem, solutions were typically based on hardcoded features such as the number of loops in a digit image, the height of each digit in an image, a histogram of pixel values, and so on.\n",
        "\n",
        "> Neural networks are capable of automatically extracting useful features from raw data. Does this mean you don’t have to worry about feature engineering as long as you’re using deep neural networks? No, for two reasons:\n",
        "\n",
        "> - Good features still allow you to solve problems more elegantly while using fewer resources. For instance, it would be ridiculous to solve the problem of reading a clock face using a convolutional neural network.\n",
        "> - Good features let you solve a problem with far less data. The ability of deep-learning models to learn features on their own relies on having lots of training data available; if you have only a few samples, then the information value in their features becomes critical.\n"
      ]
    },
    {
      "metadata": {
        "id": "oux-dd-5FD6p",
        "colab_type": "text"
      },
      "cell_type": "markdown",
      "source": [
        "# ASSIGNMENT\n",
        "\n",
        "### Core assignment\n",
        "\n",
        "Complete the notebook cells that were originally commented **`TODO`**. \n",
        "\n",
        "Then, focus on feature engineering to improve your cross validation scores. Collaborate with your cohort on Slack. You could start with the ideas [Jake VanderPlas suggests:](https://jakevdp.github.io/PythonDataScienceHandbook/05.06-linear-regression.html#Example:-Predicting-Bicycle-Traffic)\n",
        "\n",
        "> Our model is almost certainly missing some relevant information. For example, nonlinear effects (such as effects of precipitation and cold temperature) and nonlinear trends within each variable (such as disinclination to ride at very cold and very hot temperatures) cannot be accounted for in this model. Additionally, we have thrown away some of the finer-grained information (such as the difference between a rainy morning and a rainy afternoon), and we have ignored correlations between days (such as the possible effect of a rainy Tuesday on Wednesday's numbers, or the effect of an unexpected sunny day after a streak of rainy days). These are all potentially interesting effects, and you now have the tools to begin exploring them if you wish!\n",
        "\n",
        "At the end of the day, take the last step in the \"universal workflow of machine learning\" — \"You can train your final production model on all the available data (training and validation) and evaluate it one last time on the test set.\"\n",
        "\n",
        "See the [`GridSearchCV`](https://scikit-learn.org/stable/modules/generated/sklearn.model_selection.GridSearchCV.html) documentation for the `refit` parameter, `best_estimator_` attribute, and `predict` method:\n",
        "\n",
        "> **refit : boolean, or string, default=True**\n",
        "\n",
        "> Refit an estimator using the best found parameters on the whole dataset.\n",
        "\n",
        "> The refitted estimator is made available at the `best_estimator_` attribute and permits using `predict` directly on this `GridSearchCV` instance.\n",
        "\n",
        "### More options\n",
        "\n",
        "**A.** Apply this lesson to other datasets.\n",
        "\n",
        "**B.** We predicted the number of bicycle trips based on that day's weather. But imagine you were asked to predict trips at the beginning of each day, based only on data known at the time of prediction or before — so you cannot use the current day's weather. How would you wrangle the features to handle this new requirement? How does this impact the predictive accuracy and coefficients of your models?\n",
        "\n",
        "**C.** In additon to `GridSearchCV`, scikit-learn has [`RandomizedSearchCV`](https://scikit-learn.org/stable/modules/generated/sklearn.model_selection.RandomizedSearchCV.html), which is sometimes even better. Another library called scikit-optimize has [`BayesSearchCV`](https://scikit-optimize.github.io/notebooks/sklearn-gridsearchcv-replacement.html). Experiment with these alternatives.\n",
        "\n",
        "**D.** _[Introduction to Machine Learning with Python](http://shop.oreilly.com/product/0636920030515.do)_ discusses options for \"Grid-Searching Which Model To Use\" in Chapter 6:\n",
        "\n",
        "> You can even go further in combining GridSearchCV and Pipeline: it is also possible to search over the actual steps being performed in the pipeline (say whether to use StandardScaler or MinMaxScaler). This leads to an even bigger search space and should be considered carefully. Trying all possible solutions is usually not a viable machine learning strategy. However, here is an example comparing a RandomForestClassifier and an SVC ...\n",
        "\n",
        "The example is shown in [the accompanying notebook](https://github.com/amueller/introduction_to_ml_with_python/blob/master/06-algorithm-chains-and-pipelines.ipynb), code cells 35-37. Could you apply this concept to your own pipelines?\n",
        "\n",
        "\n"
      ]
    },
    {
      "metadata": {
        "id": "DHXgE5tYxIJZ",
        "colab_type": "code",
        "outputId": "9a319359-a75c-40d7-bc41-774e408b6661",
        "colab": {
          "base_uri": "https://localhost:8080/",
          "height": 335
        }
      },
      "cell_type": "code",
      "source": [
        "#Starting over clean and doing feature engineering first.\n",
        "\n",
        "\n",
        "\n",
        "# Modified from cells 15, 16, and 20, at\n",
        "# https://jakevdp.github.io/PythonDataScienceHandbook/05.06-linear-regression.html#Example:-Predicting-Bicycle-Traffic\n",
        "\n",
        "import pandas as pd\n",
        "\n",
        "counts = pd.read_csv('FremontBridge.csv', index_col='Date', parse_dates=True, \n",
        "                     infer_datetime_format=True)\n",
        "\n",
        "weather = pd.read_csv('BicycleWeather.csv', index_col='DATE', parse_dates=True, \n",
        "                      infer_datetime_format=True)\n",
        "\n",
        "daily = counts.resample('d').sum()\n",
        "daily['Total'] = daily.sum(axis=1)\n",
        "daily = daily[['Total']] # remove other columns\n",
        "\n",
        "weather_columns = ['PRCP', 'SNOW', 'SNWD', 'TMAX', 'TMIN', 'AWND']\n",
        "daily = daily.join(weather[weather_columns], how='inner')\n",
        "\n",
        "# Make a feature for yesterday's total\n",
        "daily['Total_yesterday'] = daily.Total.shift(1)\n",
        "\n",
        "daily = daily.drop(index=daily.index[0])\n",
        "\n",
        "daily['SNOW'].replace(-9999,0, inplace=True)\n",
        "daily['AWND'].replace(-9999,0, inplace=True)\n",
        "\n",
        "\n",
        "# Modified from code cells 17-21 at\n",
        "# https://jakevdp.github.io/PythonDataScienceHandbook/05.06-linear-regression.html#Example:-Predicting-Bicycle-Traffic\n",
        "\n",
        "\n",
        "# patterns of use generally vary from day to day; \n",
        "# let's add binary columns that indicate the day of the week:\n",
        "days = ['Mon', 'Tue', 'Wed', 'Thu', 'Fri', 'Sat', 'Sun']\n",
        "for i, day in enumerate(days):\n",
        "    daily[day] = (daily.index.dayofweek == i).astype(float)\n",
        "\n",
        "\n",
        "    \n",
        "# we might expect riders to behave differently on holidays; \n",
        "# let's add an indicator of this as well:\n",
        "from pandas.tseries.holiday import USFederalHolidayCalendar\n",
        "cal = USFederalHolidayCalendar()\n",
        "holidays = cal.holidays('2012', '2016')\n",
        "daily = daily.join(pd.Series(1, index=holidays, name='holiday'))\n",
        "daily['holiday'].fillna(0, inplace=True)\n",
        "\n",
        "\n",
        "\n",
        "# We also might suspect that the hours of daylight would affect \n",
        "# how many people ride; let's use the standard astronomical calculation \n",
        "# to add this information:\n",
        "def hours_of_daylight(date, axis=23.44, latitude=47.61):\n",
        "    \"\"\"Compute the hours of daylight for the given date\"\"\"\n",
        "    days = (date - pd.datetime(2000, 12, 21)).days\n",
        "    m = (1. - np.tan(np.radians(latitude))\n",
        "         * np.tan(np.radians(axis) * np.cos(days * 2 * np.pi / 365.25)))\n",
        "    return 24. * np.degrees(np.arccos(1 - np.clip(m, 0, 2))) / 180.\n",
        "\n",
        "daily['daylight_hrs'] = list(map(hours_of_daylight, daily.index))\n",
        "\n",
        "\n",
        "\n",
        "# temperatures are in 1/10 deg C; convert to C\n",
        "daily['TMIN'] /= 10\n",
        "daily['TMAX'] /= 10\n",
        "\n",
        "# We can also calculate the average temperature.\n",
        "daily['Temp (C)'] = 0.5 * (daily['TMIN'] + daily['TMAX'])\n",
        "\n",
        "\n",
        "\n",
        "# precip is in 1/10 mm; convert to inches\n",
        "daily['PRCP'] /= 254\n",
        "\n",
        "# In addition to the inches of precipitation, let's add a flag that \n",
        "# indicates whether a day is dry (has zero precipitation):\n",
        "daily['dry day'] = (daily['PRCP'] == 0).astype(int)\n",
        "\n",
        "\n",
        "\n",
        "# Let's add a counter that increases from day 1, and measures how many \n",
        "# years have passed. This will let us measure any observed annual increase \n",
        "# or decrease in daily crossings:\n",
        "daily['annual'] = (daily.index - daily.index[0]).days / 365.\n",
        "\n",
        "#Adding in weekday vs weekend\n",
        "daily['weekday'] = ((daily['Sat'] == 0) & (daily['Sun'] == 0)).astype(int)\n",
        "\n",
        "daily.head()"
      ],
      "execution_count": 0,
      "outputs": [
        {
          "output_type": "execute_result",
          "data": {
            "text/html": [
              "<div>\n",
              "<style scoped>\n",
              "    .dataframe tbody tr th:only-of-type {\n",
              "        vertical-align: middle;\n",
              "    }\n",
              "\n",
              "    .dataframe tbody tr th {\n",
              "        vertical-align: top;\n",
              "    }\n",
              "\n",
              "    .dataframe thead th {\n",
              "        text-align: right;\n",
              "    }\n",
              "</style>\n",
              "<table border=\"1\" class=\"dataframe\">\n",
              "  <thead>\n",
              "    <tr style=\"text-align: right;\">\n",
              "      <th></th>\n",
              "      <th>Total</th>\n",
              "      <th>PRCP</th>\n",
              "      <th>SNOW</th>\n",
              "      <th>SNWD</th>\n",
              "      <th>TMAX</th>\n",
              "      <th>TMIN</th>\n",
              "      <th>AWND</th>\n",
              "      <th>Total_yesterday</th>\n",
              "      <th>Mon</th>\n",
              "      <th>Tue</th>\n",
              "      <th>...</th>\n",
              "      <th>Thu</th>\n",
              "      <th>Fri</th>\n",
              "      <th>Sat</th>\n",
              "      <th>Sun</th>\n",
              "      <th>holiday</th>\n",
              "      <th>daylight_hrs</th>\n",
              "      <th>Temp (C)</th>\n",
              "      <th>dry day</th>\n",
              "      <th>annual</th>\n",
              "      <th>weekday</th>\n",
              "    </tr>\n",
              "  </thead>\n",
              "  <tbody>\n",
              "    <tr>\n",
              "      <th>2012-10-04</th>\n",
              "      <td>3475.0</td>\n",
              "      <td>0.0</td>\n",
              "      <td>0</td>\n",
              "      <td>0</td>\n",
              "      <td>18.9</td>\n",
              "      <td>8.3</td>\n",
              "      <td>65</td>\n",
              "      <td>3521.0</td>\n",
              "      <td>0.0</td>\n",
              "      <td>0.0</td>\n",
              "      <td>...</td>\n",
              "      <td>1.0</td>\n",
              "      <td>0.0</td>\n",
              "      <td>0.0</td>\n",
              "      <td>0.0</td>\n",
              "      <td>0.0</td>\n",
              "      <td>11.219142</td>\n",
              "      <td>13.60</td>\n",
              "      <td>1</td>\n",
              "      <td>0.000000</td>\n",
              "      <td>1</td>\n",
              "    </tr>\n",
              "    <tr>\n",
              "      <th>2012-10-05</th>\n",
              "      <td>3148.0</td>\n",
              "      <td>0.0</td>\n",
              "      <td>0</td>\n",
              "      <td>0</td>\n",
              "      <td>21.7</td>\n",
              "      <td>8.9</td>\n",
              "      <td>57</td>\n",
              "      <td>3475.0</td>\n",
              "      <td>0.0</td>\n",
              "      <td>0.0</td>\n",
              "      <td>...</td>\n",
              "      <td>0.0</td>\n",
              "      <td>1.0</td>\n",
              "      <td>0.0</td>\n",
              "      <td>0.0</td>\n",
              "      <td>0.0</td>\n",
              "      <td>11.161038</td>\n",
              "      <td>15.30</td>\n",
              "      <td>1</td>\n",
              "      <td>0.002740</td>\n",
              "      <td>1</td>\n",
              "    </tr>\n",
              "    <tr>\n",
              "      <th>2012-10-06</th>\n",
              "      <td>2006.0</td>\n",
              "      <td>0.0</td>\n",
              "      <td>0</td>\n",
              "      <td>0</td>\n",
              "      <td>23.9</td>\n",
              "      <td>7.8</td>\n",
              "      <td>51</td>\n",
              "      <td>3148.0</td>\n",
              "      <td>0.0</td>\n",
              "      <td>0.0</td>\n",
              "      <td>...</td>\n",
              "      <td>0.0</td>\n",
              "      <td>0.0</td>\n",
              "      <td>1.0</td>\n",
              "      <td>0.0</td>\n",
              "      <td>0.0</td>\n",
              "      <td>11.103056</td>\n",
              "      <td>15.85</td>\n",
              "      <td>1</td>\n",
              "      <td>0.005479</td>\n",
              "      <td>0</td>\n",
              "    </tr>\n",
              "    <tr>\n",
              "      <th>2012-10-07</th>\n",
              "      <td>2142.0</td>\n",
              "      <td>0.0</td>\n",
              "      <td>0</td>\n",
              "      <td>0</td>\n",
              "      <td>23.9</td>\n",
              "      <td>7.8</td>\n",
              "      <td>13</td>\n",
              "      <td>2006.0</td>\n",
              "      <td>0.0</td>\n",
              "      <td>0.0</td>\n",
              "      <td>...</td>\n",
              "      <td>0.0</td>\n",
              "      <td>0.0</td>\n",
              "      <td>0.0</td>\n",
              "      <td>1.0</td>\n",
              "      <td>0.0</td>\n",
              "      <td>11.045208</td>\n",
              "      <td>15.85</td>\n",
              "      <td>1</td>\n",
              "      <td>0.008219</td>\n",
              "      <td>0</td>\n",
              "    </tr>\n",
              "    <tr>\n",
              "      <th>2012-10-08</th>\n",
              "      <td>3537.0</td>\n",
              "      <td>0.0</td>\n",
              "      <td>0</td>\n",
              "      <td>0</td>\n",
              "      <td>21.1</td>\n",
              "      <td>7.8</td>\n",
              "      <td>19</td>\n",
              "      <td>2142.0</td>\n",
              "      <td>1.0</td>\n",
              "      <td>0.0</td>\n",
              "      <td>...</td>\n",
              "      <td>0.0</td>\n",
              "      <td>0.0</td>\n",
              "      <td>0.0</td>\n",
              "      <td>0.0</td>\n",
              "      <td>1.0</td>\n",
              "      <td>10.987503</td>\n",
              "      <td>14.45</td>\n",
              "      <td>1</td>\n",
              "      <td>0.010959</td>\n",
              "      <td>1</td>\n",
              "    </tr>\n",
              "  </tbody>\n",
              "</table>\n",
              "<p>5 rows × 21 columns</p>\n",
              "</div>"
            ],
            "text/plain": [
              "             Total  PRCP  SNOW  SNWD  TMAX  TMIN  AWND  Total_yesterday  Mon  \\\n",
              "2012-10-04  3475.0   0.0     0     0  18.9   8.3    65           3521.0  0.0   \n",
              "2012-10-05  3148.0   0.0     0     0  21.7   8.9    57           3475.0  0.0   \n",
              "2012-10-06  2006.0   0.0     0     0  23.9   7.8    51           3148.0  0.0   \n",
              "2012-10-07  2142.0   0.0     0     0  23.9   7.8    13           2006.0  0.0   \n",
              "2012-10-08  3537.0   0.0     0     0  21.1   7.8    19           2142.0  1.0   \n",
              "\n",
              "            Tue   ...     Thu  Fri  Sat  Sun  holiday  daylight_hrs  Temp (C)  \\\n",
              "2012-10-04  0.0   ...     1.0  0.0  0.0  0.0      0.0     11.219142     13.60   \n",
              "2012-10-05  0.0   ...     0.0  1.0  0.0  0.0      0.0     11.161038     15.30   \n",
              "2012-10-06  0.0   ...     0.0  0.0  1.0  0.0      0.0     11.103056     15.85   \n",
              "2012-10-07  0.0   ...     0.0  0.0  0.0  1.0      0.0     11.045208     15.85   \n",
              "2012-10-08  0.0   ...     0.0  0.0  0.0  0.0      1.0     10.987503     14.45   \n",
              "\n",
              "            dry day    annual  weekday  \n",
              "2012-10-04        1  0.000000        1  \n",
              "2012-10-05        1  0.002740        1  \n",
              "2012-10-06        1  0.005479        0  \n",
              "2012-10-07        1  0.008219        0  \n",
              "2012-10-08        1  0.010959        1  \n",
              "\n",
              "[5 rows x 21 columns]"
            ]
          },
          "metadata": {
            "tags": []
          },
          "execution_count": 144
        }
      ]
    },
    {
      "metadata": {
        "id": "1eesK0ByrixD",
        "colab_type": "code",
        "outputId": "2f3b3eb3-0132-4e6b-b9a6-63c17720314a",
        "colab": {
          "base_uri": "https://localhost:8080/",
          "height": 606
        }
      },
      "cell_type": "code",
      "source": [
        "#Look at data overall with some extra features\n",
        "\n",
        "mon = daily.loc[daily['Mon'] == 1]\n",
        "tues = daily.loc[daily['Tue'] == 1]\n",
        "wed = daily.loc[daily['Wed'] == 1]\n",
        "thur = daily.loc[daily['Thu'] == 1]\n",
        "fri = daily.loc[daily['Fri'] == 1]\n",
        "sat = daily.loc[daily['Sat'] == 1]\n",
        "sun = daily.loc[daily['Sun'] == 1]\n",
        "\n",
        "plt.figure(figsize=(16,10))\n",
        "\n",
        "plt.plot(mon.index, mon['Total'])\n",
        "plt.plot(tues.index, tues['Total'])\n",
        "plt.plot(wed.index, wed['Total'])\n",
        "plt.plot(thur.index, thur['Total'])\n",
        "plt.plot(fri.index, fri['Total'])\n",
        "plt.plot(sat.index, sat['Total'])\n",
        "plt.plot(sun.index, sun['Total'])\n",
        "\n",
        "plt.title(\"Daily Bike Trips Across Seattle's Fremont Bridge\");\n",
        "\n"
      ],
      "execution_count": 0,
      "outputs": [
        {
          "output_type": "display_data",
          "data": {
            "image/png": "[encoded data removed]",
            "text/plain": [
              "<Figure size 1152x720 with 1 Axes>"
            ]
          },
          "metadata": {
            "tags": []
          }
        }
      ]
    },
    {
      "metadata": {
        "id": "lb8UmWFkyJkq",
        "colab_type": "code",
        "outputId": "ac076073-cd0a-4cf0-c141-e7fe7654240a",
        "colab": {
          "base_uri": "https://localhost:8080/",
          "height": 606
        }
      },
      "cell_type": "code",
      "source": [
        "weekday = daily.loc[(daily['Sat'] == 0) & (daily['Sun'] == 0)]\n",
        "weekend = daily.loc[(daily['Sat'] == 1) | (daily['Sun'] == 1)]\n",
        "\n",
        "plt.figure(figsize=(16,10))\n",
        "\n",
        "plt.plot(weekday.index, weekday['Total'], color='blue')\n",
        "plt.plot(weekend.index, weekend['Total'], color='orange')\n",
        "\n",
        "\n",
        "plt.title(\"More Bikes Cross Seattle's Fremont Bridge on Weekdays\");\n"
      ],
      "execution_count": 0,
      "outputs": [
        {
          "output_type": "display_data",
          "data": {
            "image/png": "[encoded data removed]",
            "text/plain": [
              "<Figure size 1152x720 with 1 Axes>"
            ]
          },
          "metadata": {
            "tags": []
          }
        }
      ]
    },
    {
      "metadata": {
        "id": "BVo5Z43-zf7J",
        "colab_type": "code",
        "outputId": "e80078e2-8735-4144-cda8-1445d3081af4",
        "colab": {
          "base_uri": "https://localhost:8080/",
          "height": 606
        }
      },
      "cell_type": "code",
      "source": [
        "plt.figure(figsize=(16,10))\n",
        "plt.scatter(daily['Temp (C)'], daily['Total'])\n",
        "\n",
        "plt.title(\"Bikes Crossing Seattle's Fremont Bridge by Temp (C)\");"
      ],
      "execution_count": 0,
      "outputs": [
        {
          "output_type": "display_data",
          "data": {
            "image/png": "[encoded data removed]",
            "text/plain": [
              "<Figure size 1152x720 with 1 Axes>"
            ]
          },
          "metadata": {
            "tags": []
          }
        }
      ]
    },
    {
      "metadata": {
        "id": "UkslKRe60vNg",
        "colab_type": "code",
        "outputId": "e1b1a204-4f84-422b-b682-3e649ad58572",
        "colab": {
          "base_uri": "https://localhost:8080/",
          "height": 606
        }
      },
      "cell_type": "code",
      "source": [
        "plt.figure(figsize=(16,10))\n",
        "plt.scatter(daily['PRCP'], daily['Total'])\n",
        "\n",
        "plt.title(\"Bikes Crossing Seattle's Fremont Bridge Trickle Off When it Rains\");"
      ],
      "execution_count": 0,
      "outputs": [
        {
          "output_type": "display_data",
          "data": {
            "image/png": "[encoded data removed]",
            "text/plain": [
              "<Figure size 1152x720 with 1 Axes>"
            ]
          },
          "metadata": {
            "tags": []
          }
        }
      ]
    },
    {
      "metadata": {
        "id": "IL8pNY_21kkG",
        "colab_type": "code",
        "colab": {}
      },
      "cell_type": "code",
      "source": [
        "train = daily[:-100]\n",
        "test = daily[-100:]\n",
        "\n",
        "X_train = train.drop(columns='Total')\n",
        "y_train = train.Total\n",
        "\n",
        "X_test  = test.drop(columns='Total')\n",
        "y_test  = test.Total"
      ],
      "execution_count": 0,
      "outputs": []
    },
    {
      "metadata": {
        "id": "nKZJtoYu3x-x",
        "colab_type": "code",
        "outputId": "7eb026e7-6175-419c-e3a4-00213c030e69",
        "colab": {
          "base_uri": "https://localhost:8080/",
          "height": 34
        }
      },
      "cell_type": "code",
      "source": [
        "import numpy as np\n",
        "y_pred = np.full(shape=y_train.shape, fill_value=y_train.mean())\n",
        "mean_absolute_error(y_train, y_pred)"
      ],
      "execution_count": 0,
      "outputs": [
        {
          "output_type": "execute_result",
          "data": {
            "text/plain": [
              "980.8981106765484"
            ]
          },
          "metadata": {
            "tags": []
          },
          "execution_count": 146
        }
      ]
    },
    {
      "metadata": {
        "id": "pr-rPN5Y31QX",
        "colab_type": "code",
        "outputId": "d2ac71f4-cc5a-4ba3-ae44-a28c5ac92867",
        "colab": {
          "base_uri": "https://localhost:8080/",
          "height": 34
        }
      },
      "cell_type": "code",
      "source": [
        "mean_absolute_error(y_train, X_train.Total_yesterday)"
      ],
      "execution_count": 0,
      "outputs": [
        {
          "output_type": "execute_result",
          "data": {
            "text/plain": [
              "708.061266874351"
            ]
          },
          "metadata": {
            "tags": []
          },
          "execution_count": 147
        }
      ]
    },
    {
      "metadata": {
        "id": "KVgUbN8N34aK",
        "colab_type": "code",
        "outputId": "fcc4d193-6809-4ce1-e38b-4f895cf7911e",
        "colab": {
          "base_uri": "https://localhost:8080/",
          "height": 142
        }
      },
      "cell_type": "code",
      "source": [
        "#Linear Regression\n",
        "\n",
        "scores = cross_validate(LinearRegression(), X_train, y_train, \n",
        "                        scoring='neg_mean_absolute_error', cv=3, \n",
        "                        return_train_score=True, return_estimator=True)\n",
        "\n",
        "pd.DataFrame(scores)\n",
        "\n",
        "#This is significantly better than doing the model before feature engineering"
      ],
      "execution_count": 0,
      "outputs": [
        {
          "output_type": "execute_result",
          "data": {
            "text/html": [
              "<div>\n",
              "<style scoped>\n",
              "    .dataframe tbody tr th:only-of-type {\n",
              "        vertical-align: middle;\n",
              "    }\n",
              "\n",
              "    .dataframe tbody tr th {\n",
              "        vertical-align: top;\n",
              "    }\n",
              "\n",
              "    .dataframe thead th {\n",
              "        text-align: right;\n",
              "    }\n",
              "</style>\n",
              "<table border=\"1\" class=\"dataframe\">\n",
              "  <thead>\n",
              "    <tr style=\"text-align: right;\">\n",
              "      <th></th>\n",
              "      <th>estimator</th>\n",
              "      <th>fit_time</th>\n",
              "      <th>score_time</th>\n",
              "      <th>test_score</th>\n",
              "      <th>train_score</th>\n",
              "    </tr>\n",
              "  </thead>\n",
              "  <tbody>\n",
              "    <tr>\n",
              "      <th>0</th>\n",
              "      <td>LinearRegression(copy_X=True, fit_intercept=Tr...</td>\n",
              "      <td>0.005089</td>\n",
              "      <td>0.002258</td>\n",
              "      <td>-297.513331</td>\n",
              "      <td>-294.270373</td>\n",
              "    </tr>\n",
              "    <tr>\n",
              "      <th>1</th>\n",
              "      <td>LinearRegression(copy_X=True, fit_intercept=Tr...</td>\n",
              "      <td>0.007520</td>\n",
              "      <td>0.002010</td>\n",
              "      <td>-303.304222</td>\n",
              "      <td>-283.122196</td>\n",
              "    </tr>\n",
              "    <tr>\n",
              "      <th>2</th>\n",
              "      <td>LinearRegression(copy_X=True, fit_intercept=Tr...</td>\n",
              "      <td>0.007776</td>\n",
              "      <td>0.002131</td>\n",
              "      <td>-322.471789</td>\n",
              "      <td>-283.465246</td>\n",
              "    </tr>\n",
              "  </tbody>\n",
              "</table>\n",
              "</div>"
            ],
            "text/plain": [
              "                                           estimator  fit_time  score_time  \\\n",
              "0  LinearRegression(copy_X=True, fit_intercept=Tr...  0.005089    0.002258   \n",
              "1  LinearRegression(copy_X=True, fit_intercept=Tr...  0.007520    0.002010   \n",
              "2  LinearRegression(copy_X=True, fit_intercept=Tr...  0.007776    0.002131   \n",
              "\n",
              "   test_score  train_score  \n",
              "0 -297.513331  -294.270373  \n",
              "1 -303.304222  -283.122196  \n",
              "2 -322.471789  -283.465246  "
            ]
          },
          "metadata": {
            "tags": []
          },
          "execution_count": 148
        }
      ]
    },
    {
      "metadata": {
        "id": "21upWY2Y39Ax",
        "colab_type": "code",
        "outputId": "42c3e528-11df-4911-fd0f-cc4e47edc9bc",
        "colab": {
          "base_uri": "https://localhost:8080/",
          "height": 34
        }
      },
      "cell_type": "code",
      "source": [
        "scores['test_score'].mean()  #was 607.43 before FE"
      ],
      "execution_count": 0,
      "outputs": [
        {
          "output_type": "execute_result",
          "data": {
            "text/plain": [
              "-307.76311365717976"
            ]
          },
          "metadata": {
            "tags": []
          },
          "execution_count": 149
        }
      ]
    },
    {
      "metadata": {
        "id": "KireNlgg4Gy2",
        "colab_type": "code",
        "outputId": "da0a31f0-f1fb-42ea-e47d-6cfc67496193",
        "colab": {
          "base_uri": "https://localhost:8080/",
          "height": 799
        }
      },
      "cell_type": "code",
      "source": [
        "model = sm.OLS(y_train, sm.add_constant(X_train))\n",
        "print(model.fit().summary())"
      ],
      "execution_count": 0,
      "outputs": [
        {
          "output_type": "stream",
          "text": [
            "                            OLS Regression Results                            \n",
            "==============================================================================\n",
            "Dep. Variable:                  Total   R-squared:                       0.902\n",
            "Model:                            OLS   Adj. R-squared:                  0.901\n",
            "Method:                 Least Squares   F-statistic:                     513.9\n",
            "Date:                Wed, 30 Jan 2019   Prob (F-statistic):               0.00\n",
            "Time:                        22:38:54   Log-Likelihood:                -7092.4\n",
            "No. Observations:                 963   AIC:                         1.422e+04\n",
            "Df Residuals:                     945   BIC:                         1.431e+04\n",
            "Df Model:                          17                                         \n",
            "Covariance Type:            nonrobust                                         \n",
            "===================================================================================\n",
            "                      coef    std err          t      P>|t|      [0.025      0.975]\n",
            "-----------------------------------------------------------------------------------\n",
            "const            -390.2513     57.483     -6.789      0.000    -503.061    -277.441\n",
            "PRCP             -562.0924     56.565     -9.937      0.000    -673.100    -451.085\n",
            "SNOW                2.4705      4.718      0.524      0.601      -6.789      11.730\n",
            "SNWD               -1.9481      4.646     -0.419      0.675     -11.066       7.170\n",
            "TMAX               63.5289      4.791     13.259      0.000      54.126      72.932\n",
            "TMIN              -36.9285      5.428     -6.803      0.000     -47.581     -26.276\n",
            "AWND               -1.8669      0.911     -2.050      0.041      -3.654      -0.080\n",
            "Total_yesterday     0.2934      0.022     13.644      0.000       0.251       0.336\n",
            "Mon               537.0552     40.456     13.275      0.000     457.661     616.450\n",
            "Tue               188.0882     30.498      6.167      0.000     128.237     247.939\n",
            "Wed               123.3430     31.413      3.927      0.000      61.697     184.989\n",
            "Thu                29.3474     31.114      0.943      0.346     -31.713      90.408\n",
            "Fri              -201.5311     30.381     -6.633      0.000    -261.153    -141.909\n",
            "Sat              -682.5613     33.151    -20.589      0.000    -747.620    -617.502\n",
            "Sun              -383.9927     38.713     -9.919      0.000    -459.966    -308.020\n",
            "holiday          -983.5224     78.175    -12.581      0.000   -1136.938    -830.107\n",
            "daylight_hrs       70.4089      8.370      8.412      0.000      53.982      86.836\n",
            "Temp (C)           13.3002      1.254     10.609      0.000      10.840      15.760\n",
            "dry day           302.0014     33.954      8.894      0.000     235.367     368.636\n",
            "annual             44.5616     16.619      2.681      0.007      11.946      77.177\n",
            "weekday           676.3027     21.676     31.200      0.000     633.764     718.842\n",
            "==============================================================================\n",
            "Omnibus:                       35.732   Durbin-Watson:                   1.664\n",
            "Prob(Omnibus):                  0.000   Jarque-Bera (JB):               79.311\n",
            "Skew:                           0.184   Prob(JB):                     6.00e-18\n",
            "Kurtosis:                       4.357   Cond. No.                     1.39e+19\n",
            "==============================================================================\n",
            "\n",
            "Warnings:\n",
            "[1] Standard Errors assume that the covariance matrix of the errors is correctly specified.\n",
            "[2] The smallest eigenvalue is 3.95e-29. This might indicate that there are\n",
            "strong multicollinearity problems or that the design matrix is singular.\n"
          ],
          "name": "stdout"
        }
      ]
    },
    {
      "metadata": {
        "id": "ecXEn7cH4NmR",
        "colab_type": "code",
        "colab": {}
      },
      "cell_type": "code",
      "source": [
        "#Validation Curve with polynomial regression\n",
        "\n",
        "def PolynomialRegression(degree=2, **kwargs):\n",
        "    return make_pipeline(PolynomialFeatures(degree),\n",
        "                         LinearRegression(**kwargs))"
      ],
      "execution_count": 0,
      "outputs": []
    },
    {
      "metadata": {
        "id": "-QBns3BL4XMp",
        "colab_type": "code",
        "outputId": "6ec0d57e-960f-4daa-acff-c42278d9f40b",
        "colab": {
          "base_uri": "https://localhost:8080/",
          "height": 309
        }
      },
      "cell_type": "code",
      "source": [
        "for degree in [0, 1, 2, 3]:\n",
        "    features = PolynomialFeatures(degree).fit(X_train).get_feature_names(X_train.columns)\n",
        "    print(f'{degree} degree polynomial has {len(features)} features')\n",
        "    print(features)\n",
        "    print('\\n')"
      ],
      "execution_count": 0,
      "outputs": [
        {
          "output_type": "stream",
          "text": [
            "0 degree polynomial has 1 features\n",
            "['1']\n",
            "\n",
            "\n",
            "1 degree polynomial has 21 features\n",
            "['1', 'PRCP', 'SNOW', 'SNWD', 'TMAX', 'TMIN', 'AWND', 'Total_yesterday', 'Mon', 'Tue', 'Wed', 'Thu', 'Fri', 'Sat', 'Sun', 'holiday', 'daylight_hrs', 'Temp (C)', 'dry day', 'annual', 'weekday']\n",
            "\n",
            "\n",
            "2 degree polynomial has 231 features\n",
            "['1', 'PRCP', 'SNOW', 'SNWD', 'TMAX', 'TMIN', 'AWND', 'Total_yesterday', 'Mon', 'Tue', 'Wed', 'Thu', 'Fri', 'Sat', 'Sun', 'holiday', 'daylight_hrs', 'Temp (C)', 'dry day', 'annual', 'weekday', 'PRCP^2', 'PRCP SNOW', 'PRCP SNWD', 'PRCP TMAX', 'PRCP TMIN', 'PRCP AWND', 'PRCP Total_yesterday', 'PRCP Mon', 'PRCP Tue', 'PRCP Wed', 'PRCP Thu', 'PRCP Fri', 'PRCP Sat', 'PRCP Sun', 'PRCP holiday', 'PRCP daylight_hrs', 'PRCP Temp (C)', 'PRCP dry day', 'PRCP annual', 'PRCP weekday', 'SNOW^2', 'SNOW SNWD', 'SNOW TMAX', 'SNOW TMIN', 'SNOW AWND', 'SNOW Total_yesterday', 'SNOW Mon', 'SNOW Tue', 'SNOW Wed', 'SNOW Thu', 'SNOW Fri', 'SNOW Sat', 'SNOW Sun', 'SNOW holiday', 'SNOW daylight_hrs', 'SNOW Temp (C)', 'SNOW dry day', 'SNOW annual', 'SNOW weekday', 'SNWD^2', 'SNWD TMAX', 'SNWD TMIN', 'SNWD AWND', 'SNWD Total_yesterday', 'SNWD Mon', 'SNWD Tue', 'SNWD Wed', 'SNWD Thu', 'SNWD Fri', 'SNWD Sat', 'SNWD Sun', 'SNWD holiday', 'SNWD daylight_hrs', 'SNWD Temp (C)', 'SNWD dry day', 'SNWD annual', 'SNWD weekday', 'TMAX^2', 'TMAX TMIN', 'TMAX AWND', 'TMAX Total_yesterday', 'TMAX Mon', 'TMAX Tue', 'TMAX Wed', 'TMAX Thu', 'TMAX Fri', 'TMAX Sat', 'TMAX Sun', 'TMAX holiday', 'TMAX daylight_hrs', 'TMAX Temp (C)', 'TMAX dry day', 'TMAX annual', 'TMAX weekday', 'TMIN^2', 'TMIN AWND', 'TMIN Total_yesterday', 'TMIN Mon', 'TMIN Tue', 'TMIN Wed', 'TMIN Thu', 'TMIN Fri', 'TMIN Sat', 'TMIN Sun', 'TMIN holiday', 'TMIN daylight_hrs', 'TMIN Temp (C)', 'TMIN dry day', 'TMIN annual', 'TMIN weekday', 'AWND^2', 'AWND Total_yesterday', 'AWND Mon', 'AWND Tue', 'AWND Wed', 'AWND Thu', 'AWND Fri', 'AWND Sat', 'AWND Sun', 'AWND holiday', 'AWND daylight_hrs', 'AWND Temp (C)', 'AWND dry day', 'AWND annual', 'AWND weekday', 'Total_yesterday^2', 'Total_yesterday Mon', 'Total_yesterday Tue', 'Total_yesterday Wed', 'Total_yesterday Thu', 'Total_yesterday Fri', 'Total_yesterday Sat', 'Total_yesterday Sun', 'Total_yesterday holiday', 'Total_yesterday daylight_hrs', 'Total_yesterday Temp (C)', 'Total_yesterday dry day', 'Total_yesterday annual', 'Total_yesterday weekday', 'Mon^2', 'Mon Tue', 'Mon Wed', 'Mon Thu', 'Mon Fri', 'Mon Sat', 'Mon Sun', 'Mon holiday', 'Mon daylight_hrs', 'Mon Temp (C)', 'Mon dry day', 'Mon annual', 'Mon weekday', 'Tue^2', 'Tue Wed', 'Tue Thu', 'Tue Fri', 'Tue Sat', 'Tue Sun', 'Tue holiday', 'Tue daylight_hrs', 'Tue Temp (C)', 'Tue dry day', 'Tue annual', 'Tue weekday', 'Wed^2', 'Wed Thu', 'Wed Fri', 'Wed Sat', 'Wed Sun', 'Wed holiday', 'Wed daylight_hrs', 'Wed Temp (C)', 'Wed dry day', 'Wed annual', 'Wed weekday', 'Thu^2', 'Thu Fri', 'Thu Sat', 'Thu Sun', 'Thu holiday', 'Thu daylight_hrs', 'Thu Temp (C)', 'Thu dry day', 'Thu annual', 'Thu weekday', 'Fri^2', 'Fri Sat', 'Fri Sun', 'Fri holiday', 'Fri daylight_hrs', 'Fri Temp (C)', 'Fri dry day', 'Fri annual', 'Fri weekday', 'Sat^2', 'Sat Sun', 'Sat holiday', 'Sat daylight_hrs', 'Sat Temp (C)', 'Sat dry day', 'Sat annual', 'Sat weekday', 'Sun^2', 'Sun holiday', 'Sun daylight_hrs', 'Sun Temp (C)', 'Sun dry day', 'Sun annual', 'Sun weekday', 'holiday^2', 'holiday daylight_hrs', 'holiday Temp (C)', 'holiday dry day', 'holiday annual', 'holiday weekday', 'daylight_hrs^2', 'daylight_hrs Temp (C)', 'daylight_hrs dry day', 'daylight_hrs annual', 'daylight_hrs weekday', 'Temp (C)^2', 'Temp (C) dry day', 'Temp (C) annual', 'Temp (C) weekday', 'dry day^2', 'dry day annual', 'dry day weekday', 'annual^2', 'annual weekday', 'weekday^2']\n",
            "\n",
            "\n",
            "3 degree polynomial has 1771 features\n",
            "['1', 'PRCP', 'SNOW', 'SNWD', 'TMAX', 'TMIN', 'AWND', 'Total_yesterday', 'Mon', 'Tue', 'Wed', 'Thu', 'Fri', 'Sat', 'Sun', 'holiday', 'daylight_hrs', 'Temp (C)', 'dry day', 'annual', 'weekday', 'PRCP^2', 'PRCP SNOW', 'PRCP SNWD', 'PRCP TMAX', 'PRCP TMIN', 'PRCP AWND', 'PRCP Total_yesterday', 'PRCP Mon', 'PRCP Tue', 'PRCP Wed', 'PRCP Thu', 'PRCP Fri', 'PRCP Sat', 'PRCP Sun', 'PRCP holiday', 'PRCP daylight_hrs', 'PRCP Temp (C)', 'PRCP dry day', 'PRCP annual', 'PRCP weekday', 'SNOW^2', 'SNOW SNWD', 'SNOW TMAX', 'SNOW TMIN', 'SNOW AWND', 'SNOW Total_yesterday', 'SNOW Mon', 'SNOW Tue', 'SNOW Wed', 'SNOW Thu', 'SNOW Fri', 'SNOW Sat', 'SNOW Sun', 'SNOW holiday', 'SNOW daylight_hrs', 'SNOW Temp (C)', 'SNOW dry day', 'SNOW annual', 'SNOW weekday', 'SNWD^2', 'SNWD TMAX', 'SNWD TMIN', 'SNWD AWND', 'SNWD Total_yesterday', 'SNWD Mon', 'SNWD Tue', 'SNWD Wed', 'SNWD Thu', 'SNWD Fri', 'SNWD Sat', 'SNWD Sun', 'SNWD holiday', 'SNWD daylight_hrs', 'SNWD Temp (C)', 'SNWD dry day', 'SNWD annual', 'SNWD weekday', 'TMAX^2', 'TMAX TMIN', 'TMAX AWND', 'TMAX Total_yesterday', 'TMAX Mon', 'TMAX Tue', 'TMAX Wed', 'TMAX Thu', 'TMAX Fri', 'TMAX Sat', 'TMAX Sun', 'TMAX holiday', 'TMAX daylight_hrs', 'TMAX Temp (C)', 'TMAX dry day', 'TMAX annual', 'TMAX weekday', 'TMIN^2', 'TMIN AWND', 'TMIN Total_yesterday', 'TMIN Mon', 'TMIN Tue', 'TMIN Wed', 'TMIN Thu', 'TMIN Fri', 'TMIN Sat', 'TMIN Sun', 'TMIN holiday', 'TMIN daylight_hrs', 'TMIN Temp (C)', 'TMIN dry day', 'TMIN annual', 'TMIN weekday', 'AWND^2', 'AWND Total_yesterday', 'AWND Mon', 'AWND Tue', 'AWND Wed', 'AWND Thu', 'AWND Fri', 'AWND Sat', 'AWND Sun', 'AWND holiday', 'AWND daylight_hrs', 'AWND Temp (C)', 'AWND dry day', 'AWND annual', 'AWND weekday', 'Total_yesterday^2', 'Total_yesterday Mon', 'Total_yesterday Tue', 'Total_yesterday Wed', 'Total_yesterday Thu', 'Total_yesterday Fri', 'Total_yesterday Sat', 'Total_yesterday Sun', 'Total_yesterday holiday', 'Total_yesterday daylight_hrs', 'Total_yesterday Temp (C)', 'Total_yesterday dry day', 'Total_yesterday annual', 'Total_yesterday weekday', 'Mon^2', 'Mon Tue', 'Mon Wed', 'Mon Thu', 'Mon Fri', 'Mon Sat', 'Mon Sun', 'Mon holiday', 'Mon daylight_hrs', 'Mon Temp (C)', 'Mon dry day', 'Mon annual', 'Mon weekday', 'Tue^2', 'Tue Wed', 'Tue Thu', 'Tue Fri', 'Tue Sat', 'Tue Sun', 'Tue holiday', 'Tue daylight_hrs', 'Tue Temp (C)', 'Tue dry day', 'Tue annual', 'Tue weekday', 'Wed^2', 'Wed Thu', 'Wed Fri', 'Wed Sat', 'Wed Sun', 'Wed holiday', 'Wed daylight_hrs', 'Wed Temp (C)', 'Wed dry day', 'Wed annual', 'Wed weekday', 'Thu^2', 'Thu Fri', 'Thu Sat', 'Thu Sun', 'Thu holiday', 'Thu daylight_hrs', 'Thu Temp (C)', 'Thu dry day', 'Thu annual', 'Thu weekday', 'Fri^2', 'Fri Sat', 'Fri Sun', 'Fri holiday', 'Fri daylight_hrs', 'Fri Temp (C)', 'Fri dry day', 'Fri annual', 'Fri weekday', 'Sat^2', 'Sat Sun', 'Sat holiday', 'Sat daylight_hrs', 'Sat Temp (C)', 'Sat dry day', 'Sat annual', 'Sat weekday', 'Sun^2', 'Sun holiday', 'Sun daylight_hrs', 'Sun Temp (C)', 'Sun dry day', 'Sun annual', 'Sun weekday', 'holiday^2', 'holiday daylight_hrs', 'holiday Temp (C)', 'holiday dry day', 'holiday annual', 'holiday weekday', 'daylight_hrs^2', 'daylight_hrs Temp (C)', 'daylight_hrs dry day', 'daylight_hrs annual', 'daylight_hrs weekday', 'Temp (C)^2', 'Temp (C) dry day', 'Temp (C) annual', 'Temp (C) weekday', 'dry day^2', 'dry day annual', 'dry day weekday', 'annual^2', 'annual weekday', 'weekday^2', 'PRCP^3', 'PRCP^2 SNOW', 'PRCP^2 SNWD', 'PRCP^2 TMAX', 'PRCP^2 TMIN', 'PRCP^2 AWND', 'PRCP^2 Total_yesterday', 'PRCP^2 Mon', 'PRCP^2 Tue', 'PRCP^2 Wed', 'PRCP^2 Thu', 'PRCP^2 Fri', 'PRCP^2 Sat', 'PRCP^2 Sun', 'PRCP^2 holiday', 'PRCP^2 daylight_hrs', 'PRCP^2 Temp (C)', 'PRCP^2 dry day', 'PRCP^2 annual', 'PRCP^2 weekday', 'PRCP SNOW^2', 'PRCP SNOW SNWD', 'PRCP SNOW TMAX', 'PRCP SNOW TMIN', 'PRCP SNOW AWND', 'PRCP SNOW Total_yesterday', 'PRCP SNOW Mon', 'PRCP SNOW Tue', 'PRCP SNOW Wed', 'PRCP SNOW Thu', 'PRCP SNOW Fri', 'PRCP SNOW Sat', 'PRCP SNOW Sun', 'PRCP SNOW holiday', 'PRCP SNOW daylight_hrs', 'PRCP SNOW Temp (C)', 'PRCP SNOW dry day', 'PRCP SNOW annual', 'PRCP SNOW weekday', 'PRCP SNWD^2', 'PRCP SNWD TMAX', 'PRCP SNWD TMIN', 'PRCP SNWD AWND', 'PRCP SNWD Total_yesterday', 'PRCP SNWD Mon', 'PRCP SNWD Tue', 'PRCP SNWD Wed', 'PRCP SNWD Thu', 'PRCP SNWD Fri', 'PRCP SNWD Sat', 'PRCP SNWD Sun', 'PRCP SNWD holiday', 'PRCP SNWD daylight_hrs', 'PRCP SNWD Temp (C)', 'PRCP SNWD dry day', 'PRCP SNWD annual', 'PRCP SNWD weekday', 'PRCP TMAX^2', 'PRCP TMAX TMIN', 'PRCP TMAX AWND', 'PRCP TMAX Total_yesterday', 'PRCP TMAX Mon', 'PRCP TMAX Tue', 'PRCP TMAX Wed', 'PRCP TMAX Thu', 'PRCP TMAX Fri', 'PRCP TMAX Sat', 'PRCP TMAX Sun', 'PRCP TMAX holiday', 'PRCP TMAX daylight_hrs', 'PRCP TMAX Temp (C)', 'PRCP TMAX dry day', 'PRCP TMAX annual', 'PRCP TMAX weekday', 'PRCP TMIN^2', 'PRCP TMIN AWND', 'PRCP TMIN Total_yesterday', 'PRCP TMIN Mon', 'PRCP TMIN Tue', 'PRCP TMIN Wed', 'PRCP TMIN Thu', 'PRCP TMIN Fri', 'PRCP TMIN Sat', 'PRCP TMIN Sun', 'PRCP TMIN holiday', 'PRCP TMIN daylight_hrs', 'PRCP TMIN Temp (C)', 'PRCP TMIN dry day', 'PRCP TMIN annual', 'PRCP TMIN weekday', 'PRCP AWND^2', 'PRCP AWND Total_yesterday', 'PRCP AWND Mon', 'PRCP AWND Tue', 'PRCP AWND Wed', 'PRCP AWND Thu', 'PRCP AWND Fri', 'PRCP AWND Sat', 'PRCP AWND Sun', 'PRCP AWND holiday', 'PRCP AWND daylight_hrs', 'PRCP AWND Temp (C)', 'PRCP AWND dry day', 'PRCP AWND annual', 'PRCP AWND weekday', 'PRCP Total_yesterday^2', 'PRCP Total_yesterday Mon', 'PRCP Total_yesterday Tue', 'PRCP Total_yesterday Wed', 'PRCP Total_yesterday Thu', 'PRCP Total_yesterday Fri', 'PRCP Total_yesterday Sat', 'PRCP Total_yesterday Sun', 'PRCP Total_yesterday holiday', 'PRCP Total_yesterday daylight_hrs', 'PRCP Total_yesterday Temp (C)', 'PRCP Total_yesterday dry day', 'PRCP Total_yesterday annual', 'PRCP Total_yesterday weekday', 'PRCP Mon^2', 'PRCP Mon Tue', 'PRCP Mon Wed', 'PRCP Mon Thu', 'PRCP Mon Fri', 'PRCP Mon Sat', 'PRCP Mon Sun', 'PRCP Mon holiday', 'PRCP Mon daylight_hrs', 'PRCP Mon Temp (C)', 'PRCP Mon dry day', 'PRCP Mon annual', 'PRCP Mon weekday', 'PRCP Tue^2', 'PRCP Tue Wed', 'PRCP Tue Thu', 'PRCP Tue Fri', 'PRCP Tue Sat', 'PRCP Tue Sun', 'PRCP Tue holiday', 'PRCP Tue daylight_hrs', 'PRCP Tue Temp (C)', 'PRCP Tue dry day', 'PRCP Tue annual', 'PRCP Tue weekday', 'PRCP Wed^2', 'PRCP Wed Thu', 'PRCP Wed Fri', 'PRCP Wed Sat', 'PRCP Wed Sun', 'PRCP Wed holiday', 'PRCP Wed daylight_hrs', 'PRCP Wed Temp (C)', 'PRCP Wed dry day', 'PRCP Wed annual', 'PRCP Wed weekday', 'PRCP Thu^2', 'PRCP Thu Fri', 'PRCP Thu Sat', 'PRCP Thu Sun', 'PRCP Thu holiday', 'PRCP Thu daylight_hrs', 'PRCP Thu Temp (C)', 'PRCP Thu dry day', 'PRCP Thu annual', 'PRCP Thu weekday', 'PRCP Fri^2', 'PRCP Fri Sat', 'PRCP Fri Sun', 'PRCP Fri holiday', 'PRCP Fri daylight_hrs', 'PRCP Fri Temp (C)', 'PRCP Fri dry day', 'PRCP Fri annual', 'PRCP Fri weekday', 'PRCP Sat^2', 'PRCP Sat Sun', 'PRCP Sat holiday', 'PRCP Sat daylight_hrs', 'PRCP Sat Temp (C)', 'PRCP Sat dry day', 'PRCP Sat annual', 'PRCP Sat weekday', 'PRCP Sun^2', 'PRCP Sun holiday', 'PRCP Sun daylight_hrs', 'PRCP Sun Temp (C)', 'PRCP Sun dry day', 'PRCP Sun annual', 'PRCP Sun weekday', 'PRCP holiday^2', 'PRCP holiday daylight_hrs', 'PRCP holiday Temp (C)', 'PRCP holiday dry day', 'PRCP holiday annual', 'PRCP holiday weekday', 'PRCP daylight_hrs^2', 'PRCP daylight_hrs Temp (C)', 'PRCP daylight_hrs dry day', 'PRCP daylight_hrs annual', 'PRCP daylight_hrs weekday', 'PRCP Temp (C)^2', 'PRCP Temp (C) dry day', 'PRCP Temp (C) annual', 'PRCP Temp (C) weekday', 'PRCP dry day^2', 'PRCP dry day annual', 'PRCP dry day weekday', 'PRCP annual^2', 'PRCP annual weekday', 'PRCP weekday^2', 'SNOW^3', 'SNOW^2 SNWD', 'SNOW^2 TMAX', 'SNOW^2 TMIN', 'SNOW^2 AWND', 'SNOW^2 Total_yesterday', 'SNOW^2 Mon', 'SNOW^2 Tue', 'SNOW^2 Wed', 'SNOW^2 Thu', 'SNOW^2 Fri', 'SNOW^2 Sat', 'SNOW^2 Sun', 'SNOW^2 holiday', 'SNOW^2 daylight_hrs', 'SNOW^2 Temp (C)', 'SNOW^2 dry day', 'SNOW^2 annual', 'SNOW^2 weekday', 'SNOW SNWD^2', 'SNOW SNWD TMAX', 'SNOW SNWD TMIN', 'SNOW SNWD AWND', 'SNOW SNWD Total_yesterday', 'SNOW SNWD Mon', 'SNOW SNWD Tue', 'SNOW SNWD Wed', 'SNOW SNWD Thu', 'SNOW SNWD Fri', 'SNOW SNWD Sat', 'SNOW SNWD Sun', 'SNOW SNWD holiday', 'SNOW SNWD daylight_hrs', 'SNOW SNWD Temp (C)', 'SNOW SNWD dry day', 'SNOW SNWD annual', 'SNOW SNWD weekday', 'SNOW TMAX^2', 'SNOW TMAX TMIN', 'SNOW TMAX AWND', 'SNOW TMAX Total_yesterday', 'SNOW TMAX Mon', 'SNOW TMAX Tue', 'SNOW TMAX Wed', 'SNOW TMAX Thu', 'SNOW TMAX Fri', 'SNOW TMAX Sat', 'SNOW TMAX Sun', 'SNOW TMAX holiday', 'SNOW TMAX daylight_hrs', 'SNOW TMAX Temp (C)', 'SNOW TMAX dry day', 'SNOW TMAX annual', 'SNOW TMAX weekday', 'SNOW TMIN^2', 'SNOW TMIN AWND', 'SNOW TMIN Total_yesterday', 'SNOW TMIN Mon', 'SNOW TMIN Tue', 'SNOW TMIN Wed', 'SNOW TMIN Thu', 'SNOW TMIN Fri', 'SNOW TMIN Sat', 'SNOW TMIN Sun', 'SNOW TMIN holiday', 'SNOW TMIN daylight_hrs', 'SNOW TMIN Temp (C)', 'SNOW TMIN dry day', 'SNOW TMIN annual', 'SNOW TMIN weekday', 'SNOW AWND^2', 'SNOW AWND Total_yesterday', 'SNOW AWND Mon', 'SNOW AWND Tue', 'SNOW AWND Wed', 'SNOW AWND Thu', 'SNOW AWND Fri', 'SNOW AWND Sat', 'SNOW AWND Sun', 'SNOW AWND holiday', 'SNOW AWND daylight_hrs', 'SNOW AWND Temp (C)', 'SNOW AWND dry day', 'SNOW AWND annual', 'SNOW AWND weekday', 'SNOW Total_yesterday^2', 'SNOW Total_yesterday Mon', 'SNOW Total_yesterday Tue', 'SNOW Total_yesterday Wed', 'SNOW Total_yesterday Thu', 'SNOW Total_yesterday Fri', 'SNOW Total_yesterday Sat', 'SNOW Total_yesterday Sun', 'SNOW Total_yesterday holiday', 'SNOW Total_yesterday daylight_hrs', 'SNOW Total_yesterday Temp (C)', 'SNOW Total_yesterday dry day', 'SNOW Total_yesterday annual', 'SNOW Total_yesterday weekday', 'SNOW Mon^2', 'SNOW Mon Tue', 'SNOW Mon Wed', 'SNOW Mon Thu', 'SNOW Mon Fri', 'SNOW Mon Sat', 'SNOW Mon Sun', 'SNOW Mon holiday', 'SNOW Mon daylight_hrs', 'SNOW Mon Temp (C)', 'SNOW Mon dry day', 'SNOW Mon annual', 'SNOW Mon weekday', 'SNOW Tue^2', 'SNOW Tue Wed', 'SNOW Tue Thu', 'SNOW Tue Fri', 'SNOW Tue Sat', 'SNOW Tue Sun', 'SNOW Tue holiday', 'SNOW Tue daylight_hrs', 'SNOW Tue Temp (C)', 'SNOW Tue dry day', 'SNOW Tue annual', 'SNOW Tue weekday', 'SNOW Wed^2', 'SNOW Wed Thu', 'SNOW Wed Fri', 'SNOW Wed Sat', 'SNOW Wed Sun', 'SNOW Wed holiday', 'SNOW Wed daylight_hrs', 'SNOW Wed Temp (C)', 'SNOW Wed dry day', 'SNOW Wed annual', 'SNOW Wed weekday', 'SNOW Thu^2', 'SNOW Thu Fri', 'SNOW Thu Sat', 'SNOW Thu Sun', 'SNOW Thu holiday', 'SNOW Thu daylight_hrs', 'SNOW Thu Temp (C)', 'SNOW Thu dry day', 'SNOW Thu annual', 'SNOW Thu weekday', 'SNOW Fri^2', 'SNOW Fri Sat', 'SNOW Fri Sun', 'SNOW Fri holiday', 'SNOW Fri daylight_hrs', 'SNOW Fri Temp (C)', 'SNOW Fri dry day', 'SNOW Fri annual', 'SNOW Fri weekday', 'SNOW Sat^2', 'SNOW Sat Sun', 'SNOW Sat holiday', 'SNOW Sat daylight_hrs', 'SNOW Sat Temp (C)', 'SNOW Sat dry day', 'SNOW Sat annual', 'SNOW Sat weekday', 'SNOW Sun^2', 'SNOW Sun holiday', 'SNOW Sun daylight_hrs', 'SNOW Sun Temp (C)', 'SNOW Sun dry day', 'SNOW Sun annual', 'SNOW Sun weekday', 'SNOW holiday^2', 'SNOW holiday daylight_hrs', 'SNOW holiday Temp (C)', 'SNOW holiday dry day', 'SNOW holiday annual', 'SNOW holiday weekday', 'SNOW daylight_hrs^2', 'SNOW daylight_hrs Temp (C)', 'SNOW daylight_hrs dry day', 'SNOW daylight_hrs annual', 'SNOW daylight_hrs weekday', 'SNOW Temp (C)^2', 'SNOW Temp (C) dry day', 'SNOW Temp (C) annual', 'SNOW Temp (C) weekday', 'SNOW dry day^2', 'SNOW dry day annual', 'SNOW dry day weekday', 'SNOW annual^2', 'SNOW annual weekday', 'SNOW weekday^2', 'SNWD^3', 'SNWD^2 TMAX', 'SNWD^2 TMIN', 'SNWD^2 AWND', 'SNWD^2 Total_yesterday', 'SNWD^2 Mon', 'SNWD^2 Tue', 'SNWD^2 Wed', 'SNWD^2 Thu', 'SNWD^2 Fri', 'SNWD^2 Sat', 'SNWD^2 Sun', 'SNWD^2 holiday', 'SNWD^2 daylight_hrs', 'SNWD^2 Temp (C)', 'SNWD^2 dry day', 'SNWD^2 annual', 'SNWD^2 weekday', 'SNWD TMAX^2', 'SNWD TMAX TMIN', 'SNWD TMAX AWND', 'SNWD TMAX Total_yesterday', 'SNWD TMAX Mon', 'SNWD TMAX Tue', 'SNWD TMAX Wed', 'SNWD TMAX Thu', 'SNWD TMAX Fri', 'SNWD TMAX Sat', 'SNWD TMAX Sun', 'SNWD TMAX holiday', 'SNWD TMAX daylight_hrs', 'SNWD TMAX Temp (C)', 'SNWD TMAX dry day', 'SNWD TMAX annual', 'SNWD TMAX weekday', 'SNWD TMIN^2', 'SNWD TMIN AWND', 'SNWD TMIN Total_yesterday', 'SNWD TMIN Mon', 'SNWD TMIN Tue', 'SNWD TMIN Wed', 'SNWD TMIN Thu', 'SNWD TMIN Fri', 'SNWD TMIN Sat', 'SNWD TMIN Sun', 'SNWD TMIN holiday', 'SNWD TMIN daylight_hrs', 'SNWD TMIN Temp (C)', 'SNWD TMIN dry day', 'SNWD TMIN annual', 'SNWD TMIN weekday', 'SNWD AWND^2', 'SNWD AWND Total_yesterday', 'SNWD AWND Mon', 'SNWD AWND Tue', 'SNWD AWND Wed', 'SNWD AWND Thu', 'SNWD AWND Fri', 'SNWD AWND Sat', 'SNWD AWND Sun', 'SNWD AWND holiday', 'SNWD AWND daylight_hrs', 'SNWD AWND Temp (C)', 'SNWD AWND dry day', 'SNWD AWND annual', 'SNWD AWND weekday', 'SNWD Total_yesterday^2', 'SNWD Total_yesterday Mon', 'SNWD Total_yesterday Tue', 'SNWD Total_yesterday Wed', 'SNWD Total_yesterday Thu', 'SNWD Total_yesterday Fri', 'SNWD Total_yesterday Sat', 'SNWD Total_yesterday Sun', 'SNWD Total_yesterday holiday', 'SNWD Total_yesterday daylight_hrs', 'SNWD Total_yesterday Temp (C)', 'SNWD Total_yesterday dry day', 'SNWD Total_yesterday annual', 'SNWD Total_yesterday weekday', 'SNWD Mon^2', 'SNWD Mon Tue', 'SNWD Mon Wed', 'SNWD Mon Thu', 'SNWD Mon Fri', 'SNWD Mon Sat', 'SNWD Mon Sun', 'SNWD Mon holiday', 'SNWD Mon daylight_hrs', 'SNWD Mon Temp (C)', 'SNWD Mon dry day', 'SNWD Mon annual', 'SNWD Mon weekday', 'SNWD Tue^2', 'SNWD Tue Wed', 'SNWD Tue Thu', 'SNWD Tue Fri', 'SNWD Tue Sat', 'SNWD Tue Sun', 'SNWD Tue holiday', 'SNWD Tue daylight_hrs', 'SNWD Tue Temp (C)', 'SNWD Tue dry day', 'SNWD Tue annual', 'SNWD Tue weekday', 'SNWD Wed^2', 'SNWD Wed Thu', 'SNWD Wed Fri', 'SNWD Wed Sat', 'SNWD Wed Sun', 'SNWD Wed holiday', 'SNWD Wed daylight_hrs', 'SNWD Wed Temp (C)', 'SNWD Wed dry day', 'SNWD Wed annual', 'SNWD Wed weekday', 'SNWD Thu^2', 'SNWD Thu Fri', 'SNWD Thu Sat', 'SNWD Thu Sun', 'SNWD Thu holiday', 'SNWD Thu daylight_hrs', 'SNWD Thu Temp (C)', 'SNWD Thu dry day', 'SNWD Thu annual', 'SNWD Thu weekday', 'SNWD Fri^2', 'SNWD Fri Sat', 'SNWD Fri Sun', 'SNWD Fri holiday', 'SNWD Fri daylight_hrs', 'SNWD Fri Temp (C)', 'SNWD Fri dry day', 'SNWD Fri annual', 'SNWD Fri weekday', 'SNWD Sat^2', 'SNWD Sat Sun', 'SNWD Sat holiday', 'SNWD Sat daylight_hrs', 'SNWD Sat Temp (C)', 'SNWD Sat dry day', 'SNWD Sat annual', 'SNWD Sat weekday', 'SNWD Sun^2', 'SNWD Sun holiday', 'SNWD Sun daylight_hrs', 'SNWD Sun Temp (C)', 'SNWD Sun dry day', 'SNWD Sun annual', 'SNWD Sun weekday', 'SNWD holiday^2', 'SNWD holiday daylight_hrs', 'SNWD holiday Temp (C)', 'SNWD holiday dry day', 'SNWD holiday annual', 'SNWD holiday weekday', 'SNWD daylight_hrs^2', 'SNWD daylight_hrs Temp (C)', 'SNWD daylight_hrs dry day', 'SNWD daylight_hrs annual', 'SNWD daylight_hrs weekday', 'SNWD Temp (C)^2', 'SNWD Temp (C) dry day', 'SNWD Temp (C) annual', 'SNWD Temp (C) weekday', 'SNWD dry day^2', 'SNWD dry day annual', 'SNWD dry day weekday', 'SNWD annual^2', 'SNWD annual weekday', 'SNWD weekday^2', 'TMAX^3', 'TMAX^2 TMIN', 'TMAX^2 AWND', 'TMAX^2 Total_yesterday', 'TMAX^2 Mon', 'TMAX^2 Tue', 'TMAX^2 Wed', 'TMAX^2 Thu', 'TMAX^2 Fri', 'TMAX^2 Sat', 'TMAX^2 Sun', 'TMAX^2 holiday', 'TMAX^2 daylight_hrs', 'TMAX^2 Temp (C)', 'TMAX^2 dry day', 'TMAX^2 annual', 'TMAX^2 weekday', 'TMAX TMIN^2', 'TMAX TMIN AWND', 'TMAX TMIN Total_yesterday', 'TMAX TMIN Mon', 'TMAX TMIN Tue', 'TMAX TMIN Wed', 'TMAX TMIN Thu', 'TMAX TMIN Fri', 'TMAX TMIN Sat', 'TMAX TMIN Sun', 'TMAX TMIN holiday', 'TMAX TMIN daylight_hrs', 'TMAX TMIN Temp (C)', 'TMAX TMIN dry day', 'TMAX TMIN annual', 'TMAX TMIN weekday', 'TMAX AWND^2', 'TMAX AWND Total_yesterday', 'TMAX AWND Mon', 'TMAX AWND Tue', 'TMAX AWND Wed', 'TMAX AWND Thu', 'TMAX AWND Fri', 'TMAX AWND Sat', 'TMAX AWND Sun', 'TMAX AWND holiday', 'TMAX AWND daylight_hrs', 'TMAX AWND Temp (C)', 'TMAX AWND dry day', 'TMAX AWND annual', 'TMAX AWND weekday', 'TMAX Total_yesterday^2', 'TMAX Total_yesterday Mon', 'TMAX Total_yesterday Tue', 'TMAX Total_yesterday Wed', 'TMAX Total_yesterday Thu', 'TMAX Total_yesterday Fri', 'TMAX Total_yesterday Sat', 'TMAX Total_yesterday Sun', 'TMAX Total_yesterday holiday', 'TMAX Total_yesterday daylight_hrs', 'TMAX Total_yesterday Temp (C)', 'TMAX Total_yesterday dry day', 'TMAX Total_yesterday annual', 'TMAX Total_yesterday weekday', 'TMAX Mon^2', 'TMAX Mon Tue', 'TMAX Mon Wed', 'TMAX Mon Thu', 'TMAX Mon Fri', 'TMAX Mon Sat', 'TMAX Mon Sun', 'TMAX Mon holiday', 'TMAX Mon daylight_hrs', 'TMAX Mon Temp (C)', 'TMAX Mon dry day', 'TMAX Mon annual', 'TMAX Mon weekday', 'TMAX Tue^2', 'TMAX Tue Wed', 'TMAX Tue Thu', 'TMAX Tue Fri', 'TMAX Tue Sat', 'TMAX Tue Sun', 'TMAX Tue holiday', 'TMAX Tue daylight_hrs', 'TMAX Tue Temp (C)', 'TMAX Tue dry day', 'TMAX Tue annual', 'TMAX Tue weekday', 'TMAX Wed^2', 'TMAX Wed Thu', 'TMAX Wed Fri', 'TMAX Wed Sat', 'TMAX Wed Sun', 'TMAX Wed holiday', 'TMAX Wed daylight_hrs', 'TMAX Wed Temp (C)', 'TMAX Wed dry day', 'TMAX Wed annual', 'TMAX Wed weekday', 'TMAX Thu^2', 'TMAX Thu Fri', 'TMAX Thu Sat', 'TMAX Thu Sun', 'TMAX Thu holiday', 'TMAX Thu daylight_hrs', 'TMAX Thu Temp (C)', 'TMAX Thu dry day', 'TMAX Thu annual', 'TMAX Thu weekday', 'TMAX Fri^2', 'TMAX Fri Sat', 'TMAX Fri Sun', 'TMAX Fri holiday', 'TMAX Fri daylight_hrs', 'TMAX Fri Temp (C)', 'TMAX Fri dry day', 'TMAX Fri annual', 'TMAX Fri weekday', 'TMAX Sat^2', 'TMAX Sat Sun', 'TMAX Sat holiday', 'TMAX Sat daylight_hrs', 'TMAX Sat Temp (C)', 'TMAX Sat dry day', 'TMAX Sat annual', 'TMAX Sat weekday', 'TMAX Sun^2', 'TMAX Sun holiday', 'TMAX Sun daylight_hrs', 'TMAX Sun Temp (C)', 'TMAX Sun dry day', 'TMAX Sun annual', 'TMAX Sun weekday', 'TMAX holiday^2', 'TMAX holiday daylight_hrs', 'TMAX holiday Temp (C)', 'TMAX holiday dry day', 'TMAX holiday annual', 'TMAX holiday weekday', 'TMAX daylight_hrs^2', 'TMAX daylight_hrs Temp (C)', 'TMAX daylight_hrs dry day', 'TMAX daylight_hrs annual', 'TMAX daylight_hrs weekday', 'TMAX Temp (C)^2', 'TMAX Temp (C) dry day', 'TMAX Temp (C) annual', 'TMAX Temp (C) weekday', 'TMAX dry day^2', 'TMAX dry day annual', 'TMAX dry day weekday', 'TMAX annual^2', 'TMAX annual weekday', 'TMAX weekday^2', 'TMIN^3', 'TMIN^2 AWND', 'TMIN^2 Total_yesterday', 'TMIN^2 Mon', 'TMIN^2 Tue', 'TMIN^2 Wed', 'TMIN^2 Thu', 'TMIN^2 Fri', 'TMIN^2 Sat', 'TMIN^2 Sun', 'TMIN^2 holiday', 'TMIN^2 daylight_hrs', 'TMIN^2 Temp (C)', 'TMIN^2 dry day', 'TMIN^2 annual', 'TMIN^2 weekday', 'TMIN AWND^2', 'TMIN AWND Total_yesterday', 'TMIN AWND Mon', 'TMIN AWND Tue', 'TMIN AWND Wed', 'TMIN AWND Thu', 'TMIN AWND Fri', 'TMIN AWND Sat', 'TMIN AWND Sun', 'TMIN AWND holiday', 'TMIN AWND daylight_hrs', 'TMIN AWND Temp (C)', 'TMIN AWND dry day', 'TMIN AWND annual', 'TMIN AWND weekday', 'TMIN Total_yesterday^2', 'TMIN Total_yesterday Mon', 'TMIN Total_yesterday Tue', 'TMIN Total_yesterday Wed', 'TMIN Total_yesterday Thu', 'TMIN Total_yesterday Fri', 'TMIN Total_yesterday Sat', 'TMIN Total_yesterday Sun', 'TMIN Total_yesterday holiday', 'TMIN Total_yesterday daylight_hrs', 'TMIN Total_yesterday Temp (C)', 'TMIN Total_yesterday dry day', 'TMIN Total_yesterday annual', 'TMIN Total_yesterday weekday', 'TMIN Mon^2', 'TMIN Mon Tue', 'TMIN Mon Wed', 'TMIN Mon Thu', 'TMIN Mon Fri', 'TMIN Mon Sat', 'TMIN Mon Sun', 'TMIN Mon holiday', 'TMIN Mon daylight_hrs', 'TMIN Mon Temp (C)', 'TMIN Mon dry day', 'TMIN Mon annual', 'TMIN Mon weekday', 'TMIN Tue^2', 'TMIN Tue Wed', 'TMIN Tue Thu', 'TMIN Tue Fri', 'TMIN Tue Sat', 'TMIN Tue Sun', 'TMIN Tue holiday', 'TMIN Tue daylight_hrs', 'TMIN Tue Temp (C)', 'TMIN Tue dry day', 'TMIN Tue annual', 'TMIN Tue weekday', 'TMIN Wed^2', 'TMIN Wed Thu', 'TMIN Wed Fri', 'TMIN Wed Sat', 'TMIN Wed Sun', 'TMIN Wed holiday', 'TMIN Wed daylight_hrs', 'TMIN Wed Temp (C)', 'TMIN Wed dry day', 'TMIN Wed annual', 'TMIN Wed weekday', 'TMIN Thu^2', 'TMIN Thu Fri', 'TMIN Thu Sat', 'TMIN Thu Sun', 'TMIN Thu holiday', 'TMIN Thu daylight_hrs', 'TMIN Thu Temp (C)', 'TMIN Thu dry day', 'TMIN Thu annual', 'TMIN Thu weekday', 'TMIN Fri^2', 'TMIN Fri Sat', 'TMIN Fri Sun', 'TMIN Fri holiday', 'TMIN Fri daylight_hrs', 'TMIN Fri Temp (C)', 'TMIN Fri dry day', 'TMIN Fri annual', 'TMIN Fri weekday', 'TMIN Sat^2', 'TMIN Sat Sun', 'TMIN Sat holiday', 'TMIN Sat daylight_hrs', 'TMIN Sat Temp (C)', 'TMIN Sat dry day', 'TMIN Sat annual', 'TMIN Sat weekday', 'TMIN Sun^2', 'TMIN Sun holiday', 'TMIN Sun daylight_hrs', 'TMIN Sun Temp (C)', 'TMIN Sun dry day', 'TMIN Sun annual', 'TMIN Sun weekday', 'TMIN holiday^2', 'TMIN holiday daylight_hrs', 'TMIN holiday Temp (C)', 'TMIN holiday dry day', 'TMIN holiday annual', 'TMIN holiday weekday', 'TMIN daylight_hrs^2', 'TMIN daylight_hrs Temp (C)', 'TMIN daylight_hrs dry day', 'TMIN daylight_hrs annual', 'TMIN daylight_hrs weekday', 'TMIN Temp (C)^2', 'TMIN Temp (C) dry day', 'TMIN Temp (C) annual', 'TMIN Temp (C) weekday', 'TMIN dry day^2', 'TMIN dry day annual', 'TMIN dry day weekday', 'TMIN annual^2', 'TMIN annual weekday', 'TMIN weekday^2', 'AWND^3', 'AWND^2 Total_yesterday', 'AWND^2 Mon', 'AWND^2 Tue', 'AWND^2 Wed', 'AWND^2 Thu', 'AWND^2 Fri', 'AWND^2 Sat', 'AWND^2 Sun', 'AWND^2 holiday', 'AWND^2 daylight_hrs', 'AWND^2 Temp (C)', 'AWND^2 dry day', 'AWND^2 annual', 'AWND^2 weekday', 'AWND Total_yesterday^2', 'AWND Total_yesterday Mon', 'AWND Total_yesterday Tue', 'AWND Total_yesterday Wed', 'AWND Total_yesterday Thu', 'AWND Total_yesterday Fri', 'AWND Total_yesterday Sat', 'AWND Total_yesterday Sun', 'AWND Total_yesterday holiday', 'AWND Total_yesterday daylight_hrs', 'AWND Total_yesterday Temp (C)', 'AWND Total_yesterday dry day', 'AWND Total_yesterday annual', 'AWND Total_yesterday weekday', 'AWND Mon^2', 'AWND Mon Tue', 'AWND Mon Wed', 'AWND Mon Thu', 'AWND Mon Fri', 'AWND Mon Sat', 'AWND Mon Sun', 'AWND Mon holiday', 'AWND Mon daylight_hrs', 'AWND Mon Temp (C)', 'AWND Mon dry day', 'AWND Mon annual', 'AWND Mon weekday', 'AWND Tue^2', 'AWND Tue Wed', 'AWND Tue Thu', 'AWND Tue Fri', 'AWND Tue Sat', 'AWND Tue Sun', 'AWND Tue holiday', 'AWND Tue daylight_hrs', 'AWND Tue Temp (C)', 'AWND Tue dry day', 'AWND Tue annual', 'AWND Tue weekday', 'AWND Wed^2', 'AWND Wed Thu', 'AWND Wed Fri', 'AWND Wed Sat', 'AWND Wed Sun', 'AWND Wed holiday', 'AWND Wed daylight_hrs', 'AWND Wed Temp (C)', 'AWND Wed dry day', 'AWND Wed annual', 'AWND Wed weekday', 'AWND Thu^2', 'AWND Thu Fri', 'AWND Thu Sat', 'AWND Thu Sun', 'AWND Thu holiday', 'AWND Thu daylight_hrs', 'AWND Thu Temp (C)', 'AWND Thu dry day', 'AWND Thu annual', 'AWND Thu weekday', 'AWND Fri^2', 'AWND Fri Sat', 'AWND Fri Sun', 'AWND Fri holiday', 'AWND Fri daylight_hrs', 'AWND Fri Temp (C)', 'AWND Fri dry day', 'AWND Fri annual', 'AWND Fri weekday', 'AWND Sat^2', 'AWND Sat Sun', 'AWND Sat holiday', 'AWND Sat daylight_hrs', 'AWND Sat Temp (C)', 'AWND Sat dry day', 'AWND Sat annual', 'AWND Sat weekday', 'AWND Sun^2', 'AWND Sun holiday', 'AWND Sun daylight_hrs', 'AWND Sun Temp (C)', 'AWND Sun dry day', 'AWND Sun annual', 'AWND Sun weekday', 'AWND holiday^2', 'AWND holiday daylight_hrs', 'AWND holiday Temp (C)', 'AWND holiday dry day', 'AWND holiday annual', 'AWND holiday weekday', 'AWND daylight_hrs^2', 'AWND daylight_hrs Temp (C)', 'AWND daylight_hrs dry day', 'AWND daylight_hrs annual', 'AWND daylight_hrs weekday', 'AWND Temp (C)^2', 'AWND Temp (C) dry day', 'AWND Temp (C) annual', 'AWND Temp (C) weekday', 'AWND dry day^2', 'AWND dry day annual', 'AWND dry day weekday', 'AWND annual^2', 'AWND annual weekday', 'AWND weekday^2', 'Total_yesterday^3', 'Total_yesterday^2 Mon', 'Total_yesterday^2 Tue', 'Total_yesterday^2 Wed', 'Total_yesterday^2 Thu', 'Total_yesterday^2 Fri', 'Total_yesterday^2 Sat', 'Total_yesterday^2 Sun', 'Total_yesterday^2 holiday', 'Total_yesterday^2 daylight_hrs', 'Total_yesterday^2 Temp (C)', 'Total_yesterday^2 dry day', 'Total_yesterday^2 annual', 'Total_yesterday^2 weekday', 'Total_yesterday Mon^2', 'Total_yesterday Mon Tue', 'Total_yesterday Mon Wed', 'Total_yesterday Mon Thu', 'Total_yesterday Mon Fri', 'Total_yesterday Mon Sat', 'Total_yesterday Mon Sun', 'Total_yesterday Mon holiday', 'Total_yesterday Mon daylight_hrs', 'Total_yesterday Mon Temp (C)', 'Total_yesterday Mon dry day', 'Total_yesterday Mon annual', 'Total_yesterday Mon weekday', 'Total_yesterday Tue^2', 'Total_yesterday Tue Wed', 'Total_yesterday Tue Thu', 'Total_yesterday Tue Fri', 'Total_yesterday Tue Sat', 'Total_yesterday Tue Sun', 'Total_yesterday Tue holiday', 'Total_yesterday Tue daylight_hrs', 'Total_yesterday Tue Temp (C)', 'Total_yesterday Tue dry day', 'Total_yesterday Tue annual', 'Total_yesterday Tue weekday', 'Total_yesterday Wed^2', 'Total_yesterday Wed Thu', 'Total_yesterday Wed Fri', 'Total_yesterday Wed Sat', 'Total_yesterday Wed Sun', 'Total_yesterday Wed holiday', 'Total_yesterday Wed daylight_hrs', 'Total_yesterday Wed Temp (C)', 'Total_yesterday Wed dry day', 'Total_yesterday Wed annual', 'Total_yesterday Wed weekday', 'Total_yesterday Thu^2', 'Total_yesterday Thu Fri', 'Total_yesterday Thu Sat', 'Total_yesterday Thu Sun', 'Total_yesterday Thu holiday', 'Total_yesterday Thu daylight_hrs', 'Total_yesterday Thu Temp (C)', 'Total_yesterday Thu dry day', 'Total_yesterday Thu annual', 'Total_yesterday Thu weekday', 'Total_yesterday Fri^2', 'Total_yesterday Fri Sat', 'Total_yesterday Fri Sun', 'Total_yesterday Fri holiday', 'Total_yesterday Fri daylight_hrs', 'Total_yesterday Fri Temp (C)', 'Total_yesterday Fri dry day', 'Total_yesterday Fri annual', 'Total_yesterday Fri weekday', 'Total_yesterday Sat^2', 'Total_yesterday Sat Sun', 'Total_yesterday Sat holiday', 'Total_yesterday Sat daylight_hrs', 'Total_yesterday Sat Temp (C)', 'Total_yesterday Sat dry day', 'Total_yesterday Sat annual', 'Total_yesterday Sat weekday', 'Total_yesterday Sun^2', 'Total_yesterday Sun holiday', 'Total_yesterday Sun daylight_hrs', 'Total_yesterday Sun Temp (C)', 'Total_yesterday Sun dry day', 'Total_yesterday Sun annual', 'Total_yesterday Sun weekday', 'Total_yesterday holiday^2', 'Total_yesterday holiday daylight_hrs', 'Total_yesterday holiday Temp (C)', 'Total_yesterday holiday dry day', 'Total_yesterday holiday annual', 'Total_yesterday holiday weekday', 'Total_yesterday daylight_hrs^2', 'Total_yesterday daylight_hrs Temp (C)', 'Total_yesterday daylight_hrs dry day', 'Total_yesterday daylight_hrs annual', 'Total_yesterday daylight_hrs weekday', 'Total_yesterday Temp (C)^2', 'Total_yesterday Temp (C) dry day', 'Total_yesterday Temp (C) annual', 'Total_yesterday Temp (C) weekday', 'Total_yesterday dry day^2', 'Total_yesterday dry day annual', 'Total_yesterday dry day weekday', 'Total_yesterday annual^2', 'Total_yesterday annual weekday', 'Total_yesterday weekday^2', 'Mon^3', 'Mon^2 Tue', 'Mon^2 Wed', 'Mon^2 Thu', 'Mon^2 Fri', 'Mon^2 Sat', 'Mon^2 Sun', 'Mon^2 holiday', 'Mon^2 daylight_hrs', 'Mon^2 Temp (C)', 'Mon^2 dry day', 'Mon^2 annual', 'Mon^2 weekday', 'Mon Tue^2', 'Mon Tue Wed', 'Mon Tue Thu', 'Mon Tue Fri', 'Mon Tue Sat', 'Mon Tue Sun', 'Mon Tue holiday', 'Mon Tue daylight_hrs', 'Mon Tue Temp (C)', 'Mon Tue dry day', 'Mon Tue annual', 'Mon Tue weekday', 'Mon Wed^2', 'Mon Wed Thu', 'Mon Wed Fri', 'Mon Wed Sat', 'Mon Wed Sun', 'Mon Wed holiday', 'Mon Wed daylight_hrs', 'Mon Wed Temp (C)', 'Mon Wed dry day', 'Mon Wed annual', 'Mon Wed weekday', 'Mon Thu^2', 'Mon Thu Fri', 'Mon Thu Sat', 'Mon Thu Sun', 'Mon Thu holiday', 'Mon Thu daylight_hrs', 'Mon Thu Temp (C)', 'Mon Thu dry day', 'Mon Thu annual', 'Mon Thu weekday', 'Mon Fri^2', 'Mon Fri Sat', 'Mon Fri Sun', 'Mon Fri holiday', 'Mon Fri daylight_hrs', 'Mon Fri Temp (C)', 'Mon Fri dry day', 'Mon Fri annual', 'Mon Fri weekday', 'Mon Sat^2', 'Mon Sat Sun', 'Mon Sat holiday', 'Mon Sat daylight_hrs', 'Mon Sat Temp (C)', 'Mon Sat dry day', 'Mon Sat annual', 'Mon Sat weekday', 'Mon Sun^2', 'Mon Sun holiday', 'Mon Sun daylight_hrs', 'Mon Sun Temp (C)', 'Mon Sun dry day', 'Mon Sun annual', 'Mon Sun weekday', 'Mon holiday^2', 'Mon holiday daylight_hrs', 'Mon holiday Temp (C)', 'Mon holiday dry day', 'Mon holiday annual', 'Mon holiday weekday', 'Mon daylight_hrs^2', 'Mon daylight_hrs Temp (C)', 'Mon daylight_hrs dry day', 'Mon daylight_hrs annual', 'Mon daylight_hrs weekday', 'Mon Temp (C)^2', 'Mon Temp (C) dry day', 'Mon Temp (C) annual', 'Mon Temp (C) weekday', 'Mon dry day^2', 'Mon dry day annual', 'Mon dry day weekday', 'Mon annual^2', 'Mon annual weekday', 'Mon weekday^2', 'Tue^3', 'Tue^2 Wed', 'Tue^2 Thu', 'Tue^2 Fri', 'Tue^2 Sat', 'Tue^2 Sun', 'Tue^2 holiday', 'Tue^2 daylight_hrs', 'Tue^2 Temp (C)', 'Tue^2 dry day', 'Tue^2 annual', 'Tue^2 weekday', 'Tue Wed^2', 'Tue Wed Thu', 'Tue Wed Fri', 'Tue Wed Sat', 'Tue Wed Sun', 'Tue Wed holiday', 'Tue Wed daylight_hrs', 'Tue Wed Temp (C)', 'Tue Wed dry day', 'Tue Wed annual', 'Tue Wed weekday', 'Tue Thu^2', 'Tue Thu Fri', 'Tue Thu Sat', 'Tue Thu Sun', 'Tue Thu holiday', 'Tue Thu daylight_hrs', 'Tue Thu Temp (C)', 'Tue Thu dry day', 'Tue Thu annual', 'Tue Thu weekday', 'Tue Fri^2', 'Tue Fri Sat', 'Tue Fri Sun', 'Tue Fri holiday', 'Tue Fri daylight_hrs', 'Tue Fri Temp (C)', 'Tue Fri dry day', 'Tue Fri annual', 'Tue Fri weekday', 'Tue Sat^2', 'Tue Sat Sun', 'Tue Sat holiday', 'Tue Sat daylight_hrs', 'Tue Sat Temp (C)', 'Tue Sat dry day', 'Tue Sat annual', 'Tue Sat weekday', 'Tue Sun^2', 'Tue Sun holiday', 'Tue Sun daylight_hrs', 'Tue Sun Temp (C)', 'Tue Sun dry day', 'Tue Sun annual', 'Tue Sun weekday', 'Tue holiday^2', 'Tue holiday daylight_hrs', 'Tue holiday Temp (C)', 'Tue holiday dry day', 'Tue holiday annual', 'Tue holiday weekday', 'Tue daylight_hrs^2', 'Tue daylight_hrs Temp (C)', 'Tue daylight_hrs dry day', 'Tue daylight_hrs annual', 'Tue daylight_hrs weekday', 'Tue Temp (C)^2', 'Tue Temp (C) dry day', 'Tue Temp (C) annual', 'Tue Temp (C) weekday', 'Tue dry day^2', 'Tue dry day annual', 'Tue dry day weekday', 'Tue annual^2', 'Tue annual weekday', 'Tue weekday^2', 'Wed^3', 'Wed^2 Thu', 'Wed^2 Fri', 'Wed^2 Sat', 'Wed^2 Sun', 'Wed^2 holiday', 'Wed^2 daylight_hrs', 'Wed^2 Temp (C)', 'Wed^2 dry day', 'Wed^2 annual', 'Wed^2 weekday', 'Wed Thu^2', 'Wed Thu Fri', 'Wed Thu Sat', 'Wed Thu Sun', 'Wed Thu holiday', 'Wed Thu daylight_hrs', 'Wed Thu Temp (C)', 'Wed Thu dry day', 'Wed Thu annual', 'Wed Thu weekday', 'Wed Fri^2', 'Wed Fri Sat', 'Wed Fri Sun', 'Wed Fri holiday', 'Wed Fri daylight_hrs', 'Wed Fri Temp (C)', 'Wed Fri dry day', 'Wed Fri annual', 'Wed Fri weekday', 'Wed Sat^2', 'Wed Sat Sun', 'Wed Sat holiday', 'Wed Sat daylight_hrs', 'Wed Sat Temp (C)', 'Wed Sat dry day', 'Wed Sat annual', 'Wed Sat weekday', 'Wed Sun^2', 'Wed Sun holiday', 'Wed Sun daylight_hrs', 'Wed Sun Temp (C)', 'Wed Sun dry day', 'Wed Sun annual', 'Wed Sun weekday', 'Wed holiday^2', 'Wed holiday daylight_hrs', 'Wed holiday Temp (C)', 'Wed holiday dry day', 'Wed holiday annual', 'Wed holiday weekday', 'Wed daylight_hrs^2', 'Wed daylight_hrs Temp (C)', 'Wed daylight_hrs dry day', 'Wed daylight_hrs annual', 'Wed daylight_hrs weekday', 'Wed Temp (C)^2', 'Wed Temp (C) dry day', 'Wed Temp (C) annual', 'Wed Temp (C) weekday', 'Wed dry day^2', 'Wed dry day annual', 'Wed dry day weekday', 'Wed annual^2', 'Wed annual weekday', 'Wed weekday^2', 'Thu^3', 'Thu^2 Fri', 'Thu^2 Sat', 'Thu^2 Sun', 'Thu^2 holiday', 'Thu^2 daylight_hrs', 'Thu^2 Temp (C)', 'Thu^2 dry day', 'Thu^2 annual', 'Thu^2 weekday', 'Thu Fri^2', 'Thu Fri Sat', 'Thu Fri Sun', 'Thu Fri holiday', 'Thu Fri daylight_hrs', 'Thu Fri Temp (C)', 'Thu Fri dry day', 'Thu Fri annual', 'Thu Fri weekday', 'Thu Sat^2', 'Thu Sat Sun', 'Thu Sat holiday', 'Thu Sat daylight_hrs', 'Thu Sat Temp (C)', 'Thu Sat dry day', 'Thu Sat annual', 'Thu Sat weekday', 'Thu Sun^2', 'Thu Sun holiday', 'Thu Sun daylight_hrs', 'Thu Sun Temp (C)', 'Thu Sun dry day', 'Thu Sun annual', 'Thu Sun weekday', 'Thu holiday^2', 'Thu holiday daylight_hrs', 'Thu holiday Temp (C)', 'Thu holiday dry day', 'Thu holiday annual', 'Thu holiday weekday', 'Thu daylight_hrs^2', 'Thu daylight_hrs Temp (C)', 'Thu daylight_hrs dry day', 'Thu daylight_hrs annual', 'Thu daylight_hrs weekday', 'Thu Temp (C)^2', 'Thu Temp (C) dry day', 'Thu Temp (C) annual', 'Thu Temp (C) weekday', 'Thu dry day^2', 'Thu dry day annual', 'Thu dry day weekday', 'Thu annual^2', 'Thu annual weekday', 'Thu weekday^2', 'Fri^3', 'Fri^2 Sat', 'Fri^2 Sun', 'Fri^2 holiday', 'Fri^2 daylight_hrs', 'Fri^2 Temp (C)', 'Fri^2 dry day', 'Fri^2 annual', 'Fri^2 weekday', 'Fri Sat^2', 'Fri Sat Sun', 'Fri Sat holiday', 'Fri Sat daylight_hrs', 'Fri Sat Temp (C)', 'Fri Sat dry day', 'Fri Sat annual', 'Fri Sat weekday', 'Fri Sun^2', 'Fri Sun holiday', 'Fri Sun daylight_hrs', 'Fri Sun Temp (C)', 'Fri Sun dry day', 'Fri Sun annual', 'Fri Sun weekday', 'Fri holiday^2', 'Fri holiday daylight_hrs', 'Fri holiday Temp (C)', 'Fri holiday dry day', 'Fri holiday annual', 'Fri holiday weekday', 'Fri daylight_hrs^2', 'Fri daylight_hrs Temp (C)', 'Fri daylight_hrs dry day', 'Fri daylight_hrs annual', 'Fri daylight_hrs weekday', 'Fri Temp (C)^2', 'Fri Temp (C) dry day', 'Fri Temp (C) annual', 'Fri Temp (C) weekday', 'Fri dry day^2', 'Fri dry day annual', 'Fri dry day weekday', 'Fri annual^2', 'Fri annual weekday', 'Fri weekday^2', 'Sat^3', 'Sat^2 Sun', 'Sat^2 holiday', 'Sat^2 daylight_hrs', 'Sat^2 Temp (C)', 'Sat^2 dry day', 'Sat^2 annual', 'Sat^2 weekday', 'Sat Sun^2', 'Sat Sun holiday', 'Sat Sun daylight_hrs', 'Sat Sun Temp (C)', 'Sat Sun dry day', 'Sat Sun annual', 'Sat Sun weekday', 'Sat holiday^2', 'Sat holiday daylight_hrs', 'Sat holiday Temp (C)', 'Sat holiday dry day', 'Sat holiday annual', 'Sat holiday weekday', 'Sat daylight_hrs^2', 'Sat daylight_hrs Temp (C)', 'Sat daylight_hrs dry day', 'Sat daylight_hrs annual', 'Sat daylight_hrs weekday', 'Sat Temp (C)^2', 'Sat Temp (C) dry day', 'Sat Temp (C) annual', 'Sat Temp (C) weekday', 'Sat dry day^2', 'Sat dry day annual', 'Sat dry day weekday', 'Sat annual^2', 'Sat annual weekday', 'Sat weekday^2', 'Sun^3', 'Sun^2 holiday', 'Sun^2 daylight_hrs', 'Sun^2 Temp (C)', 'Sun^2 dry day', 'Sun^2 annual', 'Sun^2 weekday', 'Sun holiday^2', 'Sun holiday daylight_hrs', 'Sun holiday Temp (C)', 'Sun holiday dry day', 'Sun holiday annual', 'Sun holiday weekday', 'Sun daylight_hrs^2', 'Sun daylight_hrs Temp (C)', 'Sun daylight_hrs dry day', 'Sun daylight_hrs annual', 'Sun daylight_hrs weekday', 'Sun Temp (C)^2', 'Sun Temp (C) dry day', 'Sun Temp (C) annual', 'Sun Temp (C) weekday', 'Sun dry day^2', 'Sun dry day annual', 'Sun dry day weekday', 'Sun annual^2', 'Sun annual weekday', 'Sun weekday^2', 'holiday^3', 'holiday^2 daylight_hrs', 'holiday^2 Temp (C)', 'holiday^2 dry day', 'holiday^2 annual', 'holiday^2 weekday', 'holiday daylight_hrs^2', 'holiday daylight_hrs Temp (C)', 'holiday daylight_hrs dry day', 'holiday daylight_hrs annual', 'holiday daylight_hrs weekday', 'holiday Temp (C)^2', 'holiday Temp (C) dry day', 'holiday Temp (C) annual', 'holiday Temp (C) weekday', 'holiday dry day^2', 'holiday dry day annual', 'holiday dry day weekday', 'holiday annual^2', 'holiday annual weekday', 'holiday weekday^2', 'daylight_hrs^3', 'daylight_hrs^2 Temp (C)', 'daylight_hrs^2 dry day', 'daylight_hrs^2 annual', 'daylight_hrs^2 weekday', 'daylight_hrs Temp (C)^2', 'daylight_hrs Temp (C) dry day', 'daylight_hrs Temp (C) annual', 'daylight_hrs Temp (C) weekday', 'daylight_hrs dry day^2', 'daylight_hrs dry day annual', 'daylight_hrs dry day weekday', 'daylight_hrs annual^2', 'daylight_hrs annual weekday', 'daylight_hrs weekday^2', 'Temp (C)^3', 'Temp (C)^2 dry day', 'Temp (C)^2 annual', 'Temp (C)^2 weekday', 'Temp (C) dry day^2', 'Temp (C) dry day annual', 'Temp (C) dry day weekday', 'Temp (C) annual^2', 'Temp (C) annual weekday', 'Temp (C) weekday^2', 'dry day^3', 'dry day^2 annual', 'dry day^2 weekday', 'dry day annual^2', 'dry day annual weekday', 'dry day weekday^2', 'annual^3', 'annual^2 weekday', 'annual weekday^2', 'weekday^3']\n",
            "\n",
            "\n"
          ],
          "name": "stdout"
        }
      ]
    },
    {
      "metadata": {
        "id": "guZXzh9n4YmS",
        "colab_type": "code",
        "outputId": "be86bc83-a49a-46bf-ce11-4cd7c23b1b46",
        "colab": {
          "base_uri": "https://localhost:8080/",
          "height": 279
        }
      },
      "cell_type": "code",
      "source": [
        "degree = [0, 1, 2]\n",
        "train_score, val_score = validation_curve(\n",
        "    PolynomialRegression(), X_train, y_train,\n",
        "    param_name='polynomialfeatures__degree', param_range=degree, \n",
        "    scoring='neg_mean_absolute_error', cv=3)\n",
        "\n",
        "plt.plot(degree, np.median(train_score, 1), color='blue', label='training score')\n",
        "plt.plot(degree, np.median(val_score, 1), color='red', label='validation score')\n",
        "plt.legend(loc='best')\n",
        "\n",
        "plt.xlabel('degree');"
      ],
      "execution_count": 0,
      "outputs": [
        {
          "output_type": "display_data",
          "data": {
            "image/png": "[encoded data removed]",
            "text/plain": [
              "<Figure size 432x288 with 1 Axes>"
            ]
          },
          "metadata": {
            "tags": []
          }
        }
      ]
    },
    {
      "metadata": {
        "id": "Z4bmSOkI4dfi",
        "colab_type": "code",
        "outputId": "6659c949-ccec-44dc-8e2b-dfc7d347a5e4",
        "colab": {
          "base_uri": "https://localhost:8080/",
          "height": 785
        }
      },
      "cell_type": "code",
      "source": [
        "#Gridsearch with polynomial regression\n",
        "\n",
        "param_grid = {\n",
        "    'polynomialfeatures__degree': [0, 1, 2, 3]\n",
        "}\n",
        "\n",
        "gridsearch = GridSearchCV(PolynomialRegression(), param_grid=param_grid, \n",
        "                          scoring='neg_mean_absolute_error', cv=3, \n",
        "                          return_train_score=True, verbose=10)\n",
        "\n",
        "gridsearch.fit(X_train, y_train)"
      ],
      "execution_count": 0,
      "outputs": [
        {
          "output_type": "stream",
          "text": [
            "Fitting 3 folds for each of 4 candidates, totalling 12 fits\n",
            "[CV] polynomialfeatures__degree=0 ....................................\n",
            "[CV]  polynomialfeatures__degree=0, score=-1026.3529857047195, total=   0.0s\n",
            "[CV] polynomialfeatures__degree=0 ....................................\n",
            "[CV]  polynomialfeatures__degree=0, score=-1001.6149251268913, total=   0.0s\n",
            "[CV] polynomialfeatures__degree=0 ....................................\n",
            "[CV]  polynomialfeatures__degree=0, score=-927.0707048650538, total=   0.0s\n",
            "[CV] polynomialfeatures__degree=1 ....................................\n",
            "[CV]  polynomialfeatures__degree=1, score=-297.5133305630361, total=   0.0s\n",
            "[CV] polynomialfeatures__degree=1 ....................................\n",
            "[CV]  polynomialfeatures__degree=1, score=-303.3042218933308, total=   0.0s\n",
            "[CV] polynomialfeatures__degree=1 ....................................\n",
            "[CV]  polynomialfeatures__degree=1, score=-322.47178851518737, total=   0.0s\n",
            "[CV] polynomialfeatures__degree=2 ....................................\n",
            "[CV]  polynomialfeatures__degree=2, score=-393.2525005756509, total=   0.0s\n",
            "[CV] polynomialfeatures__degree=2 ....................................\n",
            "[CV]  polynomialfeatures__degree=2, score=-294.39058149334426, total=   0.0s\n",
            "[CV] polynomialfeatures__degree=2 ....................................\n"
          ],
          "name": "stdout"
        },
        {
          "output_type": "stream",
          "text": [
            "[Parallel(n_jobs=1)]: Using backend SequentialBackend with 1 concurrent workers.\n",
            "[Parallel(n_jobs=1)]: Done   1 out of   1 | elapsed:    0.0s remaining:    0.0s\n",
            "[Parallel(n_jobs=1)]: Done   2 out of   2 | elapsed:    0.0s remaining:    0.0s\n",
            "[Parallel(n_jobs=1)]: Done   3 out of   3 | elapsed:    0.0s remaining:    0.0s\n",
            "[Parallel(n_jobs=1)]: Done   4 out of   4 | elapsed:    0.0s remaining:    0.0s\n",
            "[Parallel(n_jobs=1)]: Done   5 out of   5 | elapsed:    0.1s remaining:    0.0s\n",
            "[Parallel(n_jobs=1)]: Done   6 out of   6 | elapsed:    0.1s remaining:    0.0s\n",
            "[Parallel(n_jobs=1)]: Done   7 out of   7 | elapsed:    0.1s remaining:    0.0s\n",
            "[Parallel(n_jobs=1)]: Done   8 out of   8 | elapsed:    0.2s remaining:    0.0s\n"
          ],
          "name": "stderr"
        },
        {
          "output_type": "stream",
          "text": [
            "[CV]  polynomialfeatures__degree=2, score=-340.04902720971273, total=   0.1s\n",
            "[CV] polynomialfeatures__degree=3 ....................................\n"
          ],
          "name": "stdout"
        },
        {
          "output_type": "stream",
          "text": [
            "[Parallel(n_jobs=1)]: Done   9 out of   9 | elapsed:    0.2s remaining:    0.0s\n"
          ],
          "name": "stderr"
        },
        {
          "output_type": "stream",
          "text": [
            "[CV]  polynomialfeatures__degree=3, score=-7837.805501332768, total=   0.5s\n",
            "[CV] polynomialfeatures__degree=3 ....................................\n",
            "[CV]  polynomialfeatures__degree=3, score=-244393.39623296048, total=   0.4s\n",
            "[CV] polynomialfeatures__degree=3 ....................................\n",
            "[CV]  polynomialfeatures__degree=3, score=-3477.2453199312863, total=   0.4s\n"
          ],
          "name": "stdout"
        },
        {
          "output_type": "stream",
          "text": [
            "[Parallel(n_jobs=1)]: Done  12 out of  12 | elapsed:    1.7s finished\n"
          ],
          "name": "stderr"
        },
        {
          "output_type": "execute_result",
          "data": {
            "text/plain": [
              "GridSearchCV(cv=3, error_score='raise-deprecating',\n",
              "       estimator=Pipeline(memory=None,\n",
              "     steps=[('polynomialfeatures', PolynomialFeatures(degree=2, include_bias=True, interaction_only=False)), ('linearregression', LinearRegression(copy_X=True, fit_intercept=True, n_jobs=None,\n",
              "         normalize=False))]),\n",
              "       fit_params=None, iid='warn', n_jobs=None,\n",
              "       param_grid={'polynomialfeatures__degree': [0, 1, 2, 3]},\n",
              "       pre_dispatch='2*n_jobs', refit=True, return_train_score=True,\n",
              "       scoring='neg_mean_absolute_error', verbose=10)"
            ]
          },
          "metadata": {
            "tags": []
          },
          "execution_count": 154
        }
      ]
    },
    {
      "metadata": {
        "id": "CE30m2th4usH",
        "colab_type": "code",
        "outputId": "7ac2480a-3f65-4058-9e03-cfe0fe16fa92",
        "colab": {
          "base_uri": "https://localhost:8080/",
          "height": 261
        }
      },
      "cell_type": "code",
      "source": [
        "pd.DataFrame(gridsearch.cv_results_).sort_values(by='rank_test_score')"
      ],
      "execution_count": 0,
      "outputs": [
        {
          "output_type": "execute_result",
          "data": {
            "text/html": [
              "<div>\n",
              "<style scoped>\n",
              "    .dataframe tbody tr th:only-of-type {\n",
              "        vertical-align: middle;\n",
              "    }\n",
              "\n",
              "    .dataframe tbody tr th {\n",
              "        vertical-align: top;\n",
              "    }\n",
              "\n",
              "    .dataframe thead th {\n",
              "        text-align: right;\n",
              "    }\n",
              "</style>\n",
              "<table border=\"1\" class=\"dataframe\">\n",
              "  <thead>\n",
              "    <tr style=\"text-align: right;\">\n",
              "      <th></th>\n",
              "      <th>mean_fit_time</th>\n",
              "      <th>mean_score_time</th>\n",
              "      <th>mean_test_score</th>\n",
              "      <th>mean_train_score</th>\n",
              "      <th>param_polynomialfeatures__degree</th>\n",
              "      <th>params</th>\n",
              "      <th>rank_test_score</th>\n",
              "      <th>split0_test_score</th>\n",
              "      <th>split0_train_score</th>\n",
              "      <th>split1_test_score</th>\n",
              "      <th>split1_train_score</th>\n",
              "      <th>split2_test_score</th>\n",
              "      <th>split2_train_score</th>\n",
              "      <th>std_fit_time</th>\n",
              "      <th>std_score_time</th>\n",
              "      <th>std_test_score</th>\n",
              "      <th>std_train_score</th>\n",
              "    </tr>\n",
              "  </thead>\n",
              "  <tbody>\n",
              "    <tr>\n",
              "      <th>1</th>\n",
              "      <td>0.005151</td>\n",
              "      <td>0.002430</td>\n",
              "      <td>-307.763114</td>\n",
              "      <td>-286.952605</td>\n",
              "      <td>1</td>\n",
              "      <td>{'polynomialfeatures__degree': 1}</td>\n",
              "      <td>1</td>\n",
              "      <td>-297.513331</td>\n",
              "      <td>-294.270373</td>\n",
              "      <td>-303.304222</td>\n",
              "      <td>-283.122196</td>\n",
              "      <td>-322.471789</td>\n",
              "      <td>-283.465246</td>\n",
              "      <td>0.000229</td>\n",
              "      <td>0.000089</td>\n",
              "      <td>10.665910</td>\n",
              "      <td>5.176338</td>\n",
              "    </tr>\n",
              "    <tr>\n",
              "      <th>2</th>\n",
              "      <td>0.034636</td>\n",
              "      <td>0.010293</td>\n",
              "      <td>-342.564036</td>\n",
              "      <td>-228.393653</td>\n",
              "      <td>2</td>\n",
              "      <td>{'polynomialfeatures__degree': 2}</td>\n",
              "      <td>2</td>\n",
              "      <td>-393.252501</td>\n",
              "      <td>-263.537170</td>\n",
              "      <td>-294.390581</td>\n",
              "      <td>-204.581285</td>\n",
              "      <td>-340.049027</td>\n",
              "      <td>-217.062503</td>\n",
              "      <td>0.000807</td>\n",
              "      <td>0.004975</td>\n",
              "      <td>40.399371</td>\n",
              "      <td>25.367240</td>\n",
              "    </tr>\n",
              "    <tr>\n",
              "      <th>0</th>\n",
              "      <td>0.005729</td>\n",
              "      <td>0.001852</td>\n",
              "      <td>-985.012872</td>\n",
              "      <td>-979.844161</td>\n",
              "      <td>0</td>\n",
              "      <td>{'polynomialfeatures__degree': 0}</td>\n",
              "      <td>3</td>\n",
              "      <td>-1026.352986</td>\n",
              "      <td>-968.880368</td>\n",
              "      <td>-1001.614925</td>\n",
              "      <td>-970.755413</td>\n",
              "      <td>-927.070705</td>\n",
              "      <td>-999.896701</td>\n",
              "      <td>0.003738</td>\n",
              "      <td>0.000113</td>\n",
              "      <td>42.197661</td>\n",
              "      <td>14.199935</td>\n",
              "    </tr>\n",
              "    <tr>\n",
              "      <th>3</th>\n",
              "      <td>0.390841</td>\n",
              "      <td>0.039428</td>\n",
              "      <td>-85236.149018</td>\n",
              "      <td>-117.551015</td>\n",
              "      <td>3</td>\n",
              "      <td>{'polynomialfeatures__degree': 3}</td>\n",
              "      <td>4</td>\n",
              "      <td>-7837.805501</td>\n",
              "      <td>-118.248211</td>\n",
              "      <td>-244393.396233</td>\n",
              "      <td>-111.188717</td>\n",
              "      <td>-3477.245320</td>\n",
              "      <td>-123.216118</td>\n",
              "      <td>0.028724</td>\n",
              "      <td>0.010277</td>\n",
              "      <td>112555.247551</td>\n",
              "      <td>4.934852</td>\n",
              "    </tr>\n",
              "  </tbody>\n",
              "</table>\n",
              "</div>"
            ],
            "text/plain": [
              "   mean_fit_time  mean_score_time  mean_test_score  mean_train_score  \\\n",
              "1       0.005151         0.002430      -307.763114       -286.952605   \n",
              "2       0.034636         0.010293      -342.564036       -228.393653   \n",
              "0       0.005729         0.001852      -985.012872       -979.844161   \n",
              "3       0.390841         0.039428    -85236.149018       -117.551015   \n",
              "\n",
              "  param_polynomialfeatures__degree                             params  \\\n",
              "1                                1  {'polynomialfeatures__degree': 1}   \n",
              "2                                2  {'polynomialfeatures__degree': 2}   \n",
              "0                                0  {'polynomialfeatures__degree': 0}   \n",
              "3                                3  {'polynomialfeatures__degree': 3}   \n",
              "\n",
              "   rank_test_score  split0_test_score  split0_train_score  split1_test_score  \\\n",
              "1                1        -297.513331         -294.270373        -303.304222   \n",
              "2                2        -393.252501         -263.537170        -294.390581   \n",
              "0                3       -1026.352986         -968.880368       -1001.614925   \n",
              "3                4       -7837.805501         -118.248211     -244393.396233   \n",
              "\n",
              "   split1_train_score  split2_test_score  split2_train_score  std_fit_time  \\\n",
              "1         -283.122196        -322.471789         -283.465246      0.000229   \n",
              "2         -204.581285        -340.049027         -217.062503      0.000807   \n",
              "0         -970.755413        -927.070705         -999.896701      0.003738   \n",
              "3         -111.188717       -3477.245320         -123.216118      0.028724   \n",
              "\n",
              "   std_score_time  std_test_score  std_train_score  \n",
              "1        0.000089       10.665910         5.176338  \n",
              "2        0.004975       40.399371        25.367240  \n",
              "0        0.000113       42.197661        14.199935  \n",
              "3        0.010277   112555.247551         4.934852  "
            ]
          },
          "metadata": {
            "tags": []
          },
          "execution_count": 155
        }
      ]
    },
    {
      "metadata": {
        "id": "itoTDYpq4wrY",
        "colab_type": "code",
        "outputId": "9301e9aa-521d-4552-a00e-37dab4cd6d27",
        "colab": {
          "base_uri": "https://localhost:8080/",
          "height": 142
        }
      },
      "cell_type": "code",
      "source": [
        "#Random Forest\n",
        "\n",
        "model = RandomForestRegressor(n_estimators=100, max_depth=20)\n",
        "\n",
        "scores = cross_validate(model, X_train, y_train, \n",
        "                        scoring='neg_mean_absolute_error', \n",
        "                        cv=3, return_train_score=True, \n",
        "                        return_estimator=True)\n",
        "\n",
        "pd.DataFrame(scores)\n",
        "\n",
        "#Down to 284!!"
      ],
      "execution_count": 0,
      "outputs": [
        {
          "output_type": "execute_result",
          "data": {
            "text/html": [
              "<div>\n",
              "<style scoped>\n",
              "    .dataframe tbody tr th:only-of-type {\n",
              "        vertical-align: middle;\n",
              "    }\n",
              "\n",
              "    .dataframe tbody tr th {\n",
              "        vertical-align: top;\n",
              "    }\n",
              "\n",
              "    .dataframe thead th {\n",
              "        text-align: right;\n",
              "    }\n",
              "</style>\n",
              "<table border=\"1\" class=\"dataframe\">\n",
              "  <thead>\n",
              "    <tr style=\"text-align: right;\">\n",
              "      <th></th>\n",
              "      <th>estimator</th>\n",
              "      <th>fit_time</th>\n",
              "      <th>score_time</th>\n",
              "      <th>test_score</th>\n",
              "      <th>train_score</th>\n",
              "    </tr>\n",
              "  </thead>\n",
              "  <tbody>\n",
              "    <tr>\n",
              "      <th>0</th>\n",
              "      <td>(DecisionTreeRegressor(criterion='mse', max_de...</td>\n",
              "      <td>0.340038</td>\n",
              "      <td>0.010544</td>\n",
              "      <td>-346.878551</td>\n",
              "      <td>-104.420531</td>\n",
              "    </tr>\n",
              "    <tr>\n",
              "      <th>1</th>\n",
              "      <td>(DecisionTreeRegressor(criterion='mse', max_de...</td>\n",
              "      <td>0.324049</td>\n",
              "      <td>0.011204</td>\n",
              "      <td>-321.195088</td>\n",
              "      <td>-95.501444</td>\n",
              "    </tr>\n",
              "    <tr>\n",
              "      <th>2</th>\n",
              "      <td>(DecisionTreeRegressor(criterion='mse', max_de...</td>\n",
              "      <td>0.328813</td>\n",
              "      <td>0.010956</td>\n",
              "      <td>-284.783763</td>\n",
              "      <td>-103.509424</td>\n",
              "    </tr>\n",
              "  </tbody>\n",
              "</table>\n",
              "</div>"
            ],
            "text/plain": [
              "                                           estimator  fit_time  score_time  \\\n",
              "0  (DecisionTreeRegressor(criterion='mse', max_de...  0.340038    0.010544   \n",
              "1  (DecisionTreeRegressor(criterion='mse', max_de...  0.324049    0.011204   \n",
              "2  (DecisionTreeRegressor(criterion='mse', max_de...  0.328813    0.010956   \n",
              "\n",
              "   test_score  train_score  \n",
              "0 -346.878551  -104.420531  \n",
              "1 -321.195088   -95.501444  \n",
              "2 -284.783763  -103.509424  "
            ]
          },
          "metadata": {
            "tags": []
          },
          "execution_count": 156
        }
      ]
    },
    {
      "metadata": {
        "id": "OFz3E83-47hZ",
        "colab_type": "code",
        "outputId": "fd4a30f7-fbf8-4a69-fb84-2e0981fd96ce",
        "colab": {
          "base_uri": "https://localhost:8080/",
          "height": 34
        }
      },
      "cell_type": "code",
      "source": [
        "scores['test_score'].mean()"
      ],
      "execution_count": 0,
      "outputs": [
        {
          "output_type": "execute_result",
          "data": {
            "text/plain": [
              "-317.6191343025268"
            ]
          },
          "metadata": {
            "tags": []
          },
          "execution_count": 157
        }
      ]
    },
    {
      "metadata": {
        "id": "ZFlRdjvI5CIs",
        "colab_type": "code",
        "outputId": "0f9c8a0f-2d99-4c16-c4dc-7c86b17a0e5d",
        "colab": {
          "base_uri": "https://localhost:8080/",
          "height": 279
        }
      },
      "cell_type": "code",
      "source": [
        "#Validation Curve with Random Forest\n",
        "\n",
        "model = RandomForestRegressor(n_estimators=100)\n",
        "\n",
        "depth = [2, 3, 4, 5, 6, 7, 8]\n",
        "train_score, val_score = validation_curve(\n",
        "    model, X_train, y_train,\n",
        "    param_name='max_depth', param_range=depth, \n",
        "    scoring='neg_mean_absolute_error', cv=3)\n",
        "\n",
        "plt.plot(depth, np.median(train_score, 1), color='blue', label='training score')\n",
        "plt.plot(depth, np.median(val_score, 1), color='red', label='validation score')\n",
        "plt.legend(loc='best')\n",
        "plt.xlabel('depth');"
      ],
      "execution_count": 0,
      "outputs": [
        {
          "output_type": "display_data",
          "data": {
            "image/png": "[encoded data removed]",
            "text/plain": [
              "<Figure size 432x288 with 1 Axes>"
            ]
          },
          "metadata": {
            "tags": []
          }
        }
      ]
    },
    {
      "metadata": {
        "id": "iqzreHeF5Hfw",
        "colab_type": "code",
        "outputId": "6e3e1fe0-ec93-44a1-a688-1a072b68152a",
        "colab": {
          "base_uri": "https://localhost:8080/",
          "height": 663
        }
      },
      "cell_type": "code",
      "source": [
        "#Grid Search with Random Forest\n",
        "\n",
        "%%time\n",
        "\n",
        "param_grid = {\n",
        "    'n_estimators': [100, 200], \n",
        "    'max_depth': [6, 7], \n",
        "    'criterion': ['mae']\n",
        "}\n",
        "\n",
        "gridsearch = GridSearchCV(RandomForestRegressor(), param_grid=param_grid, \n",
        "                          scoring='neg_mean_absolute_error', cv=3, \n",
        "                          return_train_score=True, verbose=10)\n",
        "\n",
        "gridsearch.fit(X_train, y_train)"
      ],
      "execution_count": 0,
      "outputs": [
        {
          "output_type": "stream",
          "text": [
            "Fitting 3 folds for each of 4 candidates, totalling 12 fits\n",
            "[CV] criterion=mae, max_depth=6, n_estimators=100 ....................\n"
          ],
          "name": "stdout"
        },
        {
          "output_type": "stream",
          "text": [
            "[Parallel(n_jobs=1)]: Using backend SequentialBackend with 1 concurrent workers.\n"
          ],
          "name": "stderr"
        },
        {
          "output_type": "stream",
          "text": [
            "[CV]  criterion=mae, max_depth=6, n_estimators=100, score=-352.2408566978193, total=   1.7s\n",
            "[CV] criterion=mae, max_depth=6, n_estimators=100 ....................\n"
          ],
          "name": "stdout"
        },
        {
          "output_type": "stream",
          "text": [
            "[Parallel(n_jobs=1)]: Done   1 out of   1 | elapsed:    1.7s remaining:    0.0s\n"
          ],
          "name": "stderr"
        },
        {
          "output_type": "stream",
          "text": [
            "[CV]  criterion=mae, max_depth=6, n_estimators=100, score=-346.7602647975078, total=   1.7s\n",
            "[CV] criterion=mae, max_depth=6, n_estimators=100 ....................\n"
          ],
          "name": "stdout"
        },
        {
          "output_type": "stream",
          "text": [
            "[Parallel(n_jobs=1)]: Done   2 out of   2 | elapsed:    3.4s remaining:    0.0s\n"
          ],
          "name": "stderr"
        },
        {
          "output_type": "stream",
          "text": [
            "[CV]  criterion=mae, max_depth=6, n_estimators=100, score=-294.6822585669782, total=   1.7s\n",
            "[CV] criterion=mae, max_depth=6, n_estimators=200 ....................\n"
          ],
          "name": "stdout"
        },
        {
          "output_type": "stream",
          "text": [
            "[Parallel(n_jobs=1)]: Done   3 out of   3 | elapsed:    5.1s remaining:    0.0s\n"
          ],
          "name": "stderr"
        },
        {
          "output_type": "stream",
          "text": [
            "[CV]  criterion=mae, max_depth=6, n_estimators=200, score=-347.94255451713394, total=   3.4s\n",
            "[CV] criterion=mae, max_depth=6, n_estimators=200 ....................\n"
          ],
          "name": "stdout"
        },
        {
          "output_type": "stream",
          "text": [
            "[Parallel(n_jobs=1)]: Done   4 out of   4 | elapsed:    8.6s remaining:    0.0s\n"
          ],
          "name": "stderr"
        },
        {
          "output_type": "stream",
          "text": [
            "[CV]  criterion=mae, max_depth=6, n_estimators=200, score=-345.6715809968847, total=   3.4s\n",
            "[CV] criterion=mae, max_depth=6, n_estimators=200 ....................\n"
          ],
          "name": "stdout"
        },
        {
          "output_type": "stream",
          "text": [
            "[Parallel(n_jobs=1)]: Done   5 out of   5 | elapsed:   12.0s remaining:    0.0s\n"
          ],
          "name": "stderr"
        },
        {
          "output_type": "stream",
          "text": [
            "[CV]  criterion=mae, max_depth=6, n_estimators=200, score=-295.58620716510904, total=   3.5s\n",
            "[CV] criterion=mae, max_depth=7, n_estimators=100 ....................\n"
          ],
          "name": "stdout"
        },
        {
          "output_type": "stream",
          "text": [
            "[Parallel(n_jobs=1)]: Done   6 out of   6 | elapsed:   15.5s remaining:    0.0s\n"
          ],
          "name": "stderr"
        },
        {
          "output_type": "stream",
          "text": [
            "[CV]  criterion=mae, max_depth=7, n_estimators=100, score=-360.23566978193145, total=   1.9s\n",
            "[CV] criterion=mae, max_depth=7, n_estimators=100 ....................\n"
          ],
          "name": "stdout"
        },
        {
          "output_type": "stream",
          "text": [
            "[Parallel(n_jobs=1)]: Done   7 out of   7 | elapsed:   17.4s remaining:    0.0s\n"
          ],
          "name": "stderr"
        },
        {
          "output_type": "stream",
          "text": [
            "[CV]  criterion=mae, max_depth=7, n_estimators=100, score=-333.6477414330218, total=   1.8s\n",
            "[CV] criterion=mae, max_depth=7, n_estimators=100 ....................\n"
          ],
          "name": "stdout"
        },
        {
          "output_type": "stream",
          "text": [
            "[Parallel(n_jobs=1)]: Done   8 out of   8 | elapsed:   19.2s remaining:    0.0s\n"
          ],
          "name": "stderr"
        },
        {
          "output_type": "stream",
          "text": [
            "[CV]  criterion=mae, max_depth=7, n_estimators=100, score=-285.4181308411215, total=   1.9s\n",
            "[CV] criterion=mae, max_depth=7, n_estimators=200 ....................\n"
          ],
          "name": "stdout"
        },
        {
          "output_type": "stream",
          "text": [
            "[Parallel(n_jobs=1)]: Done   9 out of   9 | elapsed:   21.1s remaining:    0.0s\n"
          ],
          "name": "stderr"
        },
        {
          "output_type": "stream",
          "text": [
            "[CV]  criterion=mae, max_depth=7, n_estimators=200, score=-351.3322118380063, total=   3.7s\n",
            "[CV] criterion=mae, max_depth=7, n_estimators=200 ....................\n",
            "[CV]  criterion=mae, max_depth=7, n_estimators=200, score=-336.2352492211838, total=   3.6s\n",
            "[CV] criterion=mae, max_depth=7, n_estimators=200 ....................\n",
            "[CV]  criterion=mae, max_depth=7, n_estimators=200, score=-285.81084112149534, total=   3.7s\n"
          ],
          "name": "stdout"
        },
        {
          "output_type": "stream",
          "text": [
            "[Parallel(n_jobs=1)]: Done  12 out of  12 | elapsed:   32.2s finished\n"
          ],
          "name": "stderr"
        },
        {
          "output_type": "stream",
          "text": [
            "CPU times: user 38.7 s, sys: 8.99 ms, total: 38.7 s\n",
            "Wall time: 38.7 s\n"
          ],
          "name": "stdout"
        }
      ]
    },
    {
      "metadata": {
        "id": "tl-1n6LS5edM",
        "colab_type": "code",
        "outputId": "13ea684d-58e3-4667-d520-8c2a3935f339",
        "colab": {
          "base_uri": "https://localhost:8080/",
          "height": 185
        }
      },
      "cell_type": "code",
      "source": [
        "results = pd.DataFrame(gridsearch.cv_results_)\n",
        "print(f'Best result from grid search of {len(results)} parameter combinations')\n",
        "results.sort_values(by='rank_test_score').head(1)"
      ],
      "execution_count": 0,
      "outputs": [
        {
          "output_type": "stream",
          "text": [
            "Best result from grid search of 4 parameter combinations\n"
          ],
          "name": "stdout"
        },
        {
          "output_type": "execute_result",
          "data": {
            "text/html": [
              "<div>\n",
              "<style scoped>\n",
              "    .dataframe tbody tr th:only-of-type {\n",
              "        vertical-align: middle;\n",
              "    }\n",
              "\n",
              "    .dataframe tbody tr th {\n",
              "        vertical-align: top;\n",
              "    }\n",
              "\n",
              "    .dataframe thead th {\n",
              "        text-align: right;\n",
              "    }\n",
              "</style>\n",
              "<table border=\"1\" class=\"dataframe\">\n",
              "  <thead>\n",
              "    <tr style=\"text-align: right;\">\n",
              "      <th></th>\n",
              "      <th>mean_fit_time</th>\n",
              "      <th>mean_score_time</th>\n",
              "      <th>mean_test_score</th>\n",
              "      <th>mean_train_score</th>\n",
              "      <th>param_criterion</th>\n",
              "      <th>param_max_depth</th>\n",
              "      <th>param_n_estimators</th>\n",
              "      <th>params</th>\n",
              "      <th>rank_test_score</th>\n",
              "      <th>split0_test_score</th>\n",
              "      <th>split0_train_score</th>\n",
              "      <th>split1_test_score</th>\n",
              "      <th>split1_train_score</th>\n",
              "      <th>split2_test_score</th>\n",
              "      <th>split2_train_score</th>\n",
              "      <th>std_fit_time</th>\n",
              "      <th>std_score_time</th>\n",
              "      <th>std_test_score</th>\n",
              "      <th>std_train_score</th>\n",
              "    </tr>\n",
              "  </thead>\n",
              "  <tbody>\n",
              "    <tr>\n",
              "      <th>3</th>\n",
              "      <td>3.670148</td>\n",
              "      <td>0.014791</td>\n",
              "      <td>-324.459434</td>\n",
              "      <td>-183.192862</td>\n",
              "      <td>mae</td>\n",
              "      <td>7</td>\n",
              "      <td>200</td>\n",
              "      <td>{'criterion': 'mae', 'max_depth': 7, 'n_estima...</td>\n",
              "      <td>1</td>\n",
              "      <td>-351.332212</td>\n",
              "      <td>-189.414945</td>\n",
              "      <td>-336.235249</td>\n",
              "      <td>-170.715993</td>\n",
              "      <td>-285.810841</td>\n",
              "      <td>-189.447648</td>\n",
              "      <td>0.03557</td>\n",
              "      <td>0.000274</td>\n",
              "      <td>28.015054</td>\n",
              "      <td>8.822489</td>\n",
              "    </tr>\n",
              "  </tbody>\n",
              "</table>\n",
              "</div>"
            ],
            "text/plain": [
              "   mean_fit_time  mean_score_time  mean_test_score  mean_train_score  \\\n",
              "3       3.670148         0.014791      -324.459434       -183.192862   \n",
              "\n",
              "  param_criterion param_max_depth param_n_estimators  \\\n",
              "3             mae               7                200   \n",
              "\n",
              "                                              params  rank_test_score  \\\n",
              "3  {'criterion': 'mae', 'max_depth': 7, 'n_estima...                1   \n",
              "\n",
              "   split0_test_score  split0_train_score  split1_test_score  \\\n",
              "3        -351.332212         -189.414945        -336.235249   \n",
              "\n",
              "   split1_train_score  split2_test_score  split2_train_score  std_fit_time  \\\n",
              "3         -170.715993        -285.810841         -189.447648       0.03557   \n",
              "\n",
              "   std_score_time  std_test_score  std_train_score  \n",
              "3        0.000274       28.015054         8.822489  "
            ]
          },
          "metadata": {
            "tags": []
          },
          "execution_count": 160
        }
      ]
    },
    {
      "metadata": {
        "id": "Y8KnT4v55rlz",
        "colab_type": "code",
        "colab": {}
      },
      "cell_type": "code",
      "source": [
        ""
      ],
      "execution_count": 0,
      "outputs": []
    }
  ]
}