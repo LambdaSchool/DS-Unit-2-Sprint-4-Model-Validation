{
 "cells": [
  {
   "cell_type": "markdown",
   "metadata": {},
   "source": [
    "# ASSIGNMENT\n",
    "\n",
    "### Core assignment\n",
    "\n",
    "Complete the notebook cells that were originally commented **`TODO`**. \n",
    "\n",
    "Then, focus on feature engineering to improve your cross validation scores. Collaborate with your cohort on Slack. You could start with the ideas [Jake VanderPlas suggests:](https://jakevdp.github.io/PythonDataScienceHandbook/05.06-linear-regression.html#Example:-Predicting-Bicycle-Traffic)\n",
    "\n",
    "> Our model is almost certainly missing some relevant information. For example, nonlinear effects (such as effects of precipitation and cold temperature) and nonlinear trends within each variable (such as disinclination to ride at very cold and very hot temperatures) cannot be accounted for in this model. Additionally, we have thrown away some of the finer-grained information (such as the difference between a rainy morning and a rainy afternoon), and we have ignored correlations between days (such as the possible effect of a rainy Tuesday on Wednesday's numbers, or the effect of an unexpected sunny day after a streak of rainy days). These are all potentially interesting effects, and you now have the tools to begin exploring them if you wish!\n",
    "\n",
    "At the end of the day, take the last step in the \"universal workflow of machine learning\" — \"You can train your final production model on all the available data (training and validation) and evaluate it one last time on the test set.\"\n",
    "\n",
    "See the [`GridSearchCV`](https://scikit-learn.org/stable/modules/generated/sklearn.model_selection.GridSearchCV.html) documentation for the `refit` parameter, `best_estimator_` attribute, and `predict` method:\n",
    "\n",
    "> **refit : boolean, or string, default=True**\n",
    "\n",
    "> Refit an estimator using the best found parameters on the whole dataset.\n",
    "\n",
    "> The refitted estimator is made available at the `best_estimator_` attribute and permits using `predict` directly on this `GridSearchCV` instance.\n",
    "\n",
    "### More options\n",
    "\n",
    "**A.** Apply this lesson to other datasets.\n",
    "\n",
    "**B.** We predicted the number of bicycle trips based on that day's weather. But imagine you were asked to predict trips at the beginning of each day, based only on data known at the time of prediction or before — so you cannot use the current day's weather. How would you wrangle the features to handle this new requirement? How does this impact the predictive accuracy and coefficients of your models?\n",
    "\n",
    "**C.** In additon to `GridSearchCV`, scikit-learn has [`RandomizedSearchCV`](https://scikit-learn.org/stable/modules/generated/sklearn.model_selection.RandomizedSearchCV.html), which is sometimes even better. Another library called scikit-optimize has [`BayesSearchCV`](https://scikit-optimize.github.io/notebooks/sklearn-gridsearchcv-replacement.html). Experiment with these alternatives.\n",
    "\n",
    "**D.** _[Introduction to Machine Learning with Python](http://shop.oreilly.com/product/0636920030515.do)_ discusses options for \"Grid-Searching Which Model To Use\" in Chapter 6:\n",
    "\n",
    "> You can even go further in combining GridSearchCV and Pipeline: it is also possible to search over the actual steps being performed in the pipeline (say whether to use StandardScaler or MinMaxScaler). This leads to an even bigger search space and should be considered carefully. Trying all possible solutions is usually not a viable machine learning strategy. However, here is an example comparing a RandomForestClassifier and an SVC ...\n",
    "\n",
    "The example is shown in [the accompanying notebook](https://github.com/amueller/introduction_to_ml_with_python/blob/master/06-algorithm-chains-and-pipelines.ipynb), code cells 35-37. Could you apply this concept to your own pipelines?\n",
    "\n",
    "\n"
   ]
  },
  {
   "cell_type": "markdown",
   "metadata": {},
   "source": [
    "# Imports"
   ]
  },
  {
   "cell_type": "code",
   "execution_count": 13,
   "metadata": {},
   "outputs": [],
   "source": [
    "import pandas as pd\n",
    "from sklearn.metrics import mean_absolute_error\n",
    "from sklearn.ensemble import RandomForestRegressor\n",
    "from sklearn.model_selection import GridSearchCV\n",
    "from sklearn.model_selection import validation_curve\n",
    "from sklearn.preprocessing import PolynomialFeatures\n",
    "from sklearn.pipeline import make_pipeline\n",
    "import statsmodels.api as sm\n",
    "import seaborn as sns\n",
    "import numpy as np\n",
    "import matplotlib.pyplot as plt\n",
    "import skopt\n",
    "from skopt import BayesSearchCV\n",
    "from sklearn.decomposition import PCA\n",
    "from sklearn.preprocessing import StandardScaler"
   ]
  },
  {
   "cell_type": "markdown",
   "metadata": {},
   "source": [
    "# Load Data"
   ]
  },
  {
   "cell_type": "code",
   "execution_count": 14,
   "metadata": {},
   "outputs": [],
   "source": [
    "counts = pd.read_csv('FremontBridge.csv', index_col='Date', parse_dates=True, \n",
    "                     infer_datetime_format=True)\n",
    "\n",
    "weather = pd.read_csv('BicycleWeather.csv', index_col='DATE', parse_dates=True, \n",
    "                      infer_datetime_format=True)\n",
    "\n",
    "daily = counts.resample('d').sum()\n",
    "daily['Total'] = daily.sum(axis=1)\n",
    "daily = daily[['Total']] # remove other columns\n",
    "\n",
    "weather_columns = ['PRCP', 'SNOW', 'SNWD', 'TMAX', 'TMIN', 'AWND']\n",
    "daily = daily.join(weather[weather_columns], how='inner')"
   ]
  },
  {
   "cell_type": "code",
   "execution_count": 15,
   "metadata": {},
   "outputs": [],
   "source": [
    "daily['Total_yesterday'] = daily.Total.shift(1)/1000\n",
    "\n"
   ]
  },
  {
   "cell_type": "code",
   "execution_count": 134,
   "metadata": {},
   "outputs": [
    {
     "data": {
      "text/plain": [
       "2012-10-05    3.475\n",
       "2012-10-06    3.148\n",
       "2012-10-07    2.006\n",
       "2012-10-08    2.142\n",
       "2012-10-09    3.537\n",
       "2012-10-10    3.501\n",
       "2012-10-11    3.235\n",
       "2012-10-12    3.047\n",
       "2012-10-13    2.011\n",
       "2012-10-14    0.766\n",
       "2012-10-15    0.698\n",
       "2012-10-16    2.273\n",
       "2012-10-17    3.036\n",
       "2012-10-18    3.243\n",
       "2012-10-19    2.923\n",
       "2012-10-20    1.977\n",
       "2012-10-21    1.068\n",
       "2012-10-22    0.989\n",
       "2012-10-23    2.129\n",
       "2012-10-24    2.500\n",
       "2012-10-25    2.429\n",
       "2012-10-26    2.713\n",
       "2012-10-27    2.073\n",
       "2012-10-28    0.531\n",
       "2012-10-29    1.062\n",
       "2012-10-30    2.217\n",
       "2012-10-31    1.735\n",
       "2012-11-01    1.710\n",
       "2012-11-02    2.091\n",
       "2012-11-03    2.478\n",
       "              ...  \n",
       "2015-08-03    1.883\n",
       "2015-08-04    4.243\n",
       "2015-08-05    4.655\n",
       "2015-08-06    4.108\n",
       "2015-08-07    4.295\n",
       "2015-08-08    4.100\n",
       "2015-08-09    2.014\n",
       "2015-08-10    2.945\n",
       "2015-08-11    3.898\n",
       "2015-08-12    4.530\n",
       "2015-08-13    4.403\n",
       "2015-08-14    4.428\n",
       "2015-08-15    2.062\n",
       "2015-08-16    1.702\n",
       "2015-08-17    2.333\n",
       "2015-08-18    4.319\n",
       "2015-08-19    4.508\n",
       "2015-08-20    4.548\n",
       "2015-08-21    3.846\n",
       "2015-08-22    3.606\n",
       "2015-08-23    2.090\n",
       "2015-08-24    2.016\n",
       "2015-08-25    4.072\n",
       "2015-08-26    4.473\n",
       "2015-08-27    4.331\n",
       "2015-08-28    4.336\n",
       "2015-08-29    2.653\n",
       "2015-08-30    0.699\n",
       "2015-08-31    1.213\n",
       "2015-09-01    2.823\n",
       "Name: Total_yesterday, Length: 1062, dtype: float64"
      ]
     },
     "execution_count": 134,
     "metadata": {},
     "output_type": "execute_result"
    }
   ],
   "source": [
    "daily['Total_yesterday']"
   ]
  },
  {
   "cell_type": "code",
   "execution_count": 16,
   "metadata": {},
   "outputs": [
    {
     "data": {
      "text/plain": [
       "array(['2012-10-03T00:00:00.000000000'], dtype='datetime64[ns]')"
      ]
     },
     "execution_count": 16,
     "metadata": {},
     "output_type": "execute_result"
    }
   ],
   "source": [
    "daily.head(1).index.values"
   ]
  },
  {
   "cell_type": "code",
   "execution_count": 17,
   "metadata": {},
   "outputs": [],
   "source": [
    "daily = daily.drop(daily.head(2).index.values)"
   ]
  },
  {
   "cell_type": "code",
   "execution_count": 18,
   "metadata": {},
   "outputs": [],
   "source": [
    "train = daily[:-100]\n",
    "test = daily[-100:]"
   ]
  },
  {
   "cell_type": "code",
   "execution_count": 19,
   "metadata": {},
   "outputs": [],
   "source": [
    "X_train = train.drop(columns='Total')\n",
    "y_train = train.Total\n",
    "\n",
    "X_test  = test.drop(columns='Total')\n",
    "y_test  = test.Total"
   ]
  },
  {
   "cell_type": "code",
   "execution_count": 20,
   "metadata": {},
   "outputs": [
    {
     "data": {
      "text/plain": [
       "[<matplotlib.lines.Line2D at 0x206270609b0>]"
      ]
     },
     "execution_count": 20,
     "metadata": {},
     "output_type": "execute_result"
    },
    {
     "data": {
      "image/png": "[encoded data removed]",
      "text/plain": [
       "<Figure size 432x288 with 1 Axes>"
      ]
     },
     "metadata": {},
     "output_type": "display_data"
    }
   ],
   "source": [
    "plt.plot(np.log(y_train))"
   ]
  },
  {
   "cell_type": "code",
   "execution_count": 21,
   "metadata": {},
   "outputs": [
    {
     "data": {
      "text/plain": [
       "<matplotlib.axes._subplots.AxesSubplot at 0x206276604e0>"
      ]
     },
     "execution_count": 21,
     "metadata": {},
     "output_type": "execute_result"
    },
    {
     "data": {
      "image/png": "[encoded data removed]",
      "text/plain": [
       "<Figure size 432x288 with 1 Axes>"
      ]
     },
     "metadata": {},
     "output_type": "display_data"
    }
   ],
   "source": [
    "sns.distplot(y_train)"
   ]
  },
  {
   "cell_type": "markdown",
   "metadata": {},
   "source": [
    "#### Convert total riders to log\n",
    "No such thing as negative riders"
   ]
  },
  {
   "cell_type": "code",
   "execution_count": 22,
   "metadata": {},
   "outputs": [
    {
     "data": {
      "text/plain": [
       "<matplotlib.axes._subplots.AxesSubplot at 0x206270fa438>"
      ]
     },
     "execution_count": 22,
     "metadata": {},
     "output_type": "execute_result"
    },
    {
     "data": {
      "image/png": "[encoded data removed]",
      "text/plain": [
       "<Figure size 432x288 with 1 Axes>"
      ]
     },
     "metadata": {},
     "output_type": "display_data"
    }
   ],
   "source": [
    "sns.distplot(np.log(y_train))"
   ]
  },
  {
   "cell_type": "code",
   "execution_count": 23,
   "metadata": {},
   "outputs": [],
   "source": [
    "y_train = np.log(train.Total)\n",
    "y_test  = np.log(test.Total)"
   ]
  },
  {
   "cell_type": "markdown",
   "metadata": {},
   "source": [
    "## Baselines"
   ]
  },
  {
   "cell_type": "code",
   "execution_count": 24,
   "metadata": {},
   "outputs": [
    {
     "data": {
      "text/plain": [
       "0.4493204116302913"
      ]
     },
     "execution_count": 24,
     "metadata": {},
     "output_type": "execute_result"
    }
   ],
   "source": [
    "y_pred = np.full(shape=y_train.shape, fill_value=y_train.mean())\n",
    "mean_absolute_error(y_train, y_pred)"
   ]
  },
  {
   "cell_type": "code",
   "execution_count": 25,
   "metadata": {},
   "outputs": [
    {
     "data": {
      "text/html": [
       "<div>\n",
       "<style scoped>\n",
       "    .dataframe tbody tr th:only-of-type {\n",
       "        vertical-align: middle;\n",
       "    }\n",
       "\n",
       "    .dataframe tbody tr th {\n",
       "        vertical-align: top;\n",
       "    }\n",
       "\n",
       "    .dataframe thead th {\n",
       "        text-align: right;\n",
       "    }\n",
       "</style>\n",
       "<table border=\"1\" class=\"dataframe\">\n",
       "  <thead>\n",
       "    <tr style=\"text-align: right;\">\n",
       "      <th></th>\n",
       "      <th>fit_time</th>\n",
       "      <th>score_time</th>\n",
       "      <th>test_score</th>\n",
       "      <th>train_score</th>\n",
       "    </tr>\n",
       "  </thead>\n",
       "  <tbody>\n",
       "    <tr>\n",
       "      <th>0</th>\n",
       "      <td>0.001995</td>\n",
       "      <td>0.000997</td>\n",
       "      <td>-0.306282</td>\n",
       "      <td>-0.311022</td>\n",
       "    </tr>\n",
       "    <tr>\n",
       "      <th>1</th>\n",
       "      <td>0.000997</td>\n",
       "      <td>0.000000</td>\n",
       "      <td>-0.340336</td>\n",
       "      <td>-0.305948</td>\n",
       "    </tr>\n",
       "    <tr>\n",
       "      <th>2</th>\n",
       "      <td>0.000997</td>\n",
       "      <td>0.000000</td>\n",
       "      <td>-0.306924</td>\n",
       "      <td>-0.320464</td>\n",
       "    </tr>\n",
       "  </tbody>\n",
       "</table>\n",
       "</div>"
      ],
      "text/plain": [
       "   fit_time  score_time  test_score  train_score\n",
       "0  0.001995    0.000997   -0.306282    -0.311022\n",
       "1  0.000997    0.000000   -0.340336    -0.305948\n",
       "2  0.000997    0.000000   -0.306924    -0.320464"
      ]
     },
     "execution_count": 25,
     "metadata": {},
     "output_type": "execute_result"
    }
   ],
   "source": [
    "from sklearn.linear_model import LinearRegression\n",
    "from sklearn.model_selection import cross_validate\n",
    "\n",
    "scores = cross_validate(LinearRegression(), X_train, y_train, \n",
    "                        scoring='neg_mean_absolute_error', cv=3, \n",
    "                        return_train_score=True)\n",
    "\n",
    "pd.DataFrame(scores)"
   ]
  },
  {
   "cell_type": "markdown",
   "metadata": {},
   "source": [
    "## Feature engineering from notebook"
   ]
  },
  {
   "cell_type": "code",
   "execution_count": 26,
   "metadata": {},
   "outputs": [],
   "source": [
    "# Modified from code cells 17-21 at\n",
    "# https://jakevdp.github.io/PythonDataScienceHandbook/05.06-linear-regression.html#Example:-Predicting-Bicycle-Traffic\n",
    "\n",
    "\n",
    "# patterns of use generally vary from day to day; \n",
    "# let's add binary columns that indicate the day of the week:\n",
    "days = ['Mon', 'Tue', 'Wed', 'Thu', 'Fri', 'Sat', 'Sun']\n",
    "for i, day in enumerate(days):\n",
    "    X_train[day] = (X_train.index.dayofweek == i).astype(float)\n",
    "\n",
    "\n",
    "    \n",
    "# we might expect riders to behave differently on holidays; \n",
    "# let's add an indicator of this as well:\n",
    "from pandas.tseries.holiday import USFederalHolidayCalendar\n",
    "cal = USFederalHolidayCalendar()\n",
    "holidays = cal.holidays('2012', '2016')\n",
    "X_train = X_train.join(pd.Series(1, index=holidays, name='holiday'))\n",
    "X_train['holiday'].fillna(0, inplace=True)\n",
    "\n",
    "\n",
    "\n",
    "# We also might suspect that the hours of daylight would affect \n",
    "# how many people ride; let's use the standard astronomical calculation \n",
    "# to add this information:\n",
    "def hours_of_daylight(date, axis=23.44, latitude=47.61):\n",
    "    \"\"\"Compute the hours of daylight for the given date\"\"\"\n",
    "    days = (date - pd.datetime(2000, 12, 21)).days\n",
    "    m = (1. - np.tan(np.radians(latitude))\n",
    "         * np.tan(np.radians(axis) * np.cos(days * 2 * np.pi / 365.25)))\n",
    "    return 24. * np.degrees(np.arccos(1 - np.clip(m, 0, 2))) / 180.\n",
    "\n",
    "X_train['daylight_hrs'] = list(map(hours_of_daylight, X_train.index))\n",
    "\n",
    "\n",
    "\n",
    "# temperatures are in 1/10 deg C; convert to C\n",
    "X_train['TMIN'] /= 10\n",
    "X_train['TMAX'] /= 10\n",
    "\n",
    "# We can also calcuate the average temperature.\n",
    "X_train['Temp (C)'] = 0.5 * (X_train['TMIN'] + X_train['TMAX'])\n",
    "\n",
    "\n",
    "\n",
    "# precip is in 1/10 mm; convert to inches\n",
    "X_train['PRCP'] /= 254\n",
    "\n",
    "# In addition to the inches of precipitation, let's add a flag that \n",
    "# indicates whether a day is dry (has zero precipitation):\n",
    "X_train['dry day'] = (X_train['PRCP'] == 0).astype(int)\n",
    "\n",
    "\n",
    "\n",
    "# Let's add a counter that increases from day 1, and measures how many \n",
    "# years have passed. This will let us measure any observed annual increase \n",
    "# or decrease in daily crossings:\n",
    "X_train['annual'] = (X_train.index - X_train.index[0]).days / 365."
   ]
  },
  {
   "cell_type": "code",
   "execution_count": 27,
   "metadata": {},
   "outputs": [
    {
     "data": {
      "text/html": [
       "<div>\n",
       "<style scoped>\n",
       "    .dataframe tbody tr th:only-of-type {\n",
       "        vertical-align: middle;\n",
       "    }\n",
       "\n",
       "    .dataframe tbody tr th {\n",
       "        vertical-align: top;\n",
       "    }\n",
       "\n",
       "    .dataframe thead th {\n",
       "        text-align: right;\n",
       "    }\n",
       "</style>\n",
       "<table border=\"1\" class=\"dataframe\">\n",
       "  <thead>\n",
       "    <tr style=\"text-align: right;\">\n",
       "      <th></th>\n",
       "      <th>fit_time</th>\n",
       "      <th>score_time</th>\n",
       "      <th>test_score</th>\n",
       "      <th>train_score</th>\n",
       "    </tr>\n",
       "  </thead>\n",
       "  <tbody>\n",
       "    <tr>\n",
       "      <th>0</th>\n",
       "      <td>0.002991</td>\n",
       "      <td>0.0</td>\n",
       "      <td>-0.167503</td>\n",
       "      <td>-0.153943</td>\n",
       "    </tr>\n",
       "    <tr>\n",
       "      <th>1</th>\n",
       "      <td>0.000997</td>\n",
       "      <td>0.0</td>\n",
       "      <td>-0.168569</td>\n",
       "      <td>-0.157332</td>\n",
       "    </tr>\n",
       "    <tr>\n",
       "      <th>2</th>\n",
       "      <td>0.001995</td>\n",
       "      <td>0.0</td>\n",
       "      <td>-0.155670</td>\n",
       "      <td>-0.162172</td>\n",
       "    </tr>\n",
       "  </tbody>\n",
       "</table>\n",
       "</div>"
      ],
      "text/plain": [
       "   fit_time  score_time  test_score  train_score\n",
       "0  0.002991         0.0   -0.167503    -0.153943\n",
       "1  0.000997         0.0   -0.168569    -0.157332\n",
       "2  0.001995         0.0   -0.155670    -0.162172"
      ]
     },
     "execution_count": 27,
     "metadata": {},
     "output_type": "execute_result"
    }
   ],
   "source": [
    "scores = cross_validate(LinearRegression(), X_train, y_train, \n",
    "                        scoring='neg_mean_absolute_error', cv=3, \n",
    "                        return_train_score=True)\n",
    "\n",
    "pd.DataFrame(scores)"
   ]
  },
  {
   "cell_type": "markdown",
   "metadata": {},
   "source": [
    "## Random forest todo from lecture"
   ]
  },
  {
   "cell_type": "code",
   "execution_count": 28,
   "metadata": {},
   "outputs": [
    {
     "data": {
      "text/plain": [
       "GridSearchCV(cv=3, error_score='raise',\n",
       "       estimator=RandomForestRegressor(bootstrap=True, criterion='mse', max_depth=None,\n",
       "           max_features='auto', max_leaf_nodes=None,\n",
       "           min_impurity_decrease=0.0, min_impurity_split=None,\n",
       "           min_samples_leaf=1, min_samples_split=2,\n",
       "           min_weight_fraction_leaf=0.0, n_estimators=10, n_jobs=1,\n",
       "           oob_score=False, random_state=None, verbose=0, warm_start=False),\n",
       "       fit_params=None, iid=True, n_jobs=1,\n",
       "       param_grid={'n_estimators': [100], 'max_depth': [5, 10, 15], 'criterion': ['mae']},\n",
       "       pre_dispatch='2*n_jobs', refit=True, return_train_score=True,\n",
       "       scoring='neg_mean_absolute_error', verbose=0)"
      ]
     },
     "execution_count": 28,
     "metadata": {},
     "output_type": "execute_result"
    }
   ],
   "source": [
    "param_grid = {\n",
    "    'n_estimators': [100], \n",
    "    'max_depth': [5, 10, 15], \n",
    "    'criterion': ['mae']\n",
    "}\n",
    "gridsearch = GridSearchCV(RandomForestRegressor(), param_grid=param_grid,\n",
    "                         scoring = 'neg_mean_absolute_error',cv=3,\n",
    "                         return_train_score =True)\n",
    "gridsearch.fit(X_train, y_train)\n"
   ]
  },
  {
   "cell_type": "code",
   "execution_count": 29,
   "metadata": {},
   "outputs": [
    {
     "data": {
      "text/html": [
       "<div>\n",
       "<style scoped>\n",
       "    .dataframe tbody tr th:only-of-type {\n",
       "        vertical-align: middle;\n",
       "    }\n",
       "\n",
       "    .dataframe tbody tr th {\n",
       "        vertical-align: top;\n",
       "    }\n",
       "\n",
       "    .dataframe thead th {\n",
       "        text-align: right;\n",
       "    }\n",
       "</style>\n",
       "<table border=\"1\" class=\"dataframe\">\n",
       "  <thead>\n",
       "    <tr style=\"text-align: right;\">\n",
       "      <th></th>\n",
       "      <th>mean_fit_time</th>\n",
       "      <th>std_fit_time</th>\n",
       "      <th>mean_score_time</th>\n",
       "      <th>std_score_time</th>\n",
       "      <th>param_criterion</th>\n",
       "      <th>param_max_depth</th>\n",
       "      <th>param_n_estimators</th>\n",
       "      <th>params</th>\n",
       "      <th>split0_test_score</th>\n",
       "      <th>split1_test_score</th>\n",
       "      <th>split2_test_score</th>\n",
       "      <th>mean_test_score</th>\n",
       "      <th>std_test_score</th>\n",
       "      <th>rank_test_score</th>\n",
       "      <th>split0_train_score</th>\n",
       "      <th>split1_train_score</th>\n",
       "      <th>split2_train_score</th>\n",
       "      <th>mean_train_score</th>\n",
       "      <th>std_train_score</th>\n",
       "    </tr>\n",
       "  </thead>\n",
       "  <tbody>\n",
       "    <tr>\n",
       "      <th>2</th>\n",
       "      <td>1.765425</td>\n",
       "      <td>0.032895</td>\n",
       "      <td>0.005390</td>\n",
       "      <td>0.000413</td>\n",
       "      <td>mae</td>\n",
       "      <td>15</td>\n",
       "      <td>100</td>\n",
       "      <td>{'criterion': 'mae', 'max_depth': 15, 'n_estim...</td>\n",
       "      <td>-0.155699</td>\n",
       "      <td>-0.151925</td>\n",
       "      <td>-0.133570</td>\n",
       "      <td>-0.147079</td>\n",
       "      <td>0.009661</td>\n",
       "      <td>1</td>\n",
       "      <td>-0.052551</td>\n",
       "      <td>-0.053009</td>\n",
       "      <td>-0.058146</td>\n",
       "      <td>-0.054568</td>\n",
       "      <td>0.002536</td>\n",
       "    </tr>\n",
       "    <tr>\n",
       "      <th>1</th>\n",
       "      <td>1.597935</td>\n",
       "      <td>0.028770</td>\n",
       "      <td>0.005300</td>\n",
       "      <td>0.000462</td>\n",
       "      <td>mae</td>\n",
       "      <td>10</td>\n",
       "      <td>100</td>\n",
       "      <td>{'criterion': 'mae', 'max_depth': 10, 'n_estim...</td>\n",
       "      <td>-0.155034</td>\n",
       "      <td>-0.154684</td>\n",
       "      <td>-0.136705</td>\n",
       "      <td>-0.148820</td>\n",
       "      <td>0.008555</td>\n",
       "      <td>2</td>\n",
       "      <td>-0.064505</td>\n",
       "      <td>-0.063560</td>\n",
       "      <td>-0.068754</td>\n",
       "      <td>-0.065606</td>\n",
       "      <td>0.002259</td>\n",
       "    </tr>\n",
       "    <tr>\n",
       "      <th>0</th>\n",
       "      <td>1.151216</td>\n",
       "      <td>0.034273</td>\n",
       "      <td>0.003658</td>\n",
       "      <td>0.000470</td>\n",
       "      <td>mae</td>\n",
       "      <td>5</td>\n",
       "      <td>100</td>\n",
       "      <td>{'criterion': 'mae', 'max_depth': 5, 'n_estima...</td>\n",
       "      <td>-0.172960</td>\n",
       "      <td>-0.180761</td>\n",
       "      <td>-0.160655</td>\n",
       "      <td>-0.171470</td>\n",
       "      <td>0.008273</td>\n",
       "      <td>3</td>\n",
       "      <td>-0.135104</td>\n",
       "      <td>-0.126800</td>\n",
       "      <td>-0.140241</td>\n",
       "      <td>-0.134048</td>\n",
       "      <td>0.005538</td>\n",
       "    </tr>\n",
       "  </tbody>\n",
       "</table>\n",
       "</div>"
      ],
      "text/plain": [
       "   mean_fit_time  std_fit_time  mean_score_time  std_score_time  \\\n",
       "2       1.765425      0.032895         0.005390        0.000413   \n",
       "1       1.597935      0.028770         0.005300        0.000462   \n",
       "0       1.151216      0.034273         0.003658        0.000470   \n",
       "\n",
       "  param_criterion param_max_depth param_n_estimators  \\\n",
       "2             mae              15                100   \n",
       "1             mae              10                100   \n",
       "0             mae               5                100   \n",
       "\n",
       "                                              params  split0_test_score  \\\n",
       "2  {'criterion': 'mae', 'max_depth': 15, 'n_estim...          -0.155699   \n",
       "1  {'criterion': 'mae', 'max_depth': 10, 'n_estim...          -0.155034   \n",
       "0  {'criterion': 'mae', 'max_depth': 5, 'n_estima...          -0.172960   \n",
       "\n",
       "   split1_test_score  split2_test_score  mean_test_score  std_test_score  \\\n",
       "2          -0.151925          -0.133570        -0.147079        0.009661   \n",
       "1          -0.154684          -0.136705        -0.148820        0.008555   \n",
       "0          -0.180761          -0.160655        -0.171470        0.008273   \n",
       "\n",
       "   rank_test_score  split0_train_score  split1_train_score  \\\n",
       "2                1           -0.052551           -0.053009   \n",
       "1                2           -0.064505           -0.063560   \n",
       "0                3           -0.135104           -0.126800   \n",
       "\n",
       "   split2_train_score  mean_train_score  std_train_score  \n",
       "2           -0.058146         -0.054568         0.002536  \n",
       "1           -0.068754         -0.065606         0.002259  \n",
       "0           -0.140241         -0.134048         0.005538  "
      ]
     },
     "execution_count": 29,
     "metadata": {},
     "output_type": "execute_result"
    }
   ],
   "source": [
    "pd.DataFrame(gridsearch.cv_results_).sort_values(by='rank_test_score')"
   ]
  },
  {
   "cell_type": "markdown",
   "metadata": {},
   "source": [
    "### Add month"
   ]
  },
  {
   "cell_type": "code",
   "execution_count": 30,
   "metadata": {},
   "outputs": [],
   "source": [
    "month = ['Jan', 'Feb', 'Mar', 'April', 'May', 'June', 'July','August','Sep', 'Oct', 'Nov','Dec']\n",
    "for i, month in enumerate(month):\n",
    "    X_train[month] = (X_train.index.month == i).astype(float)"
   ]
  },
  {
   "cell_type": "code",
   "execution_count": 31,
   "metadata": {},
   "outputs": [
    {
     "data": {
      "text/html": [
       "<div>\n",
       "<style scoped>\n",
       "    .dataframe tbody tr th:only-of-type {\n",
       "        vertical-align: middle;\n",
       "    }\n",
       "\n",
       "    .dataframe tbody tr th {\n",
       "        vertical-align: top;\n",
       "    }\n",
       "\n",
       "    .dataframe thead th {\n",
       "        text-align: right;\n",
       "    }\n",
       "</style>\n",
       "<table border=\"1\" class=\"dataframe\">\n",
       "  <thead>\n",
       "    <tr style=\"text-align: right;\">\n",
       "      <th></th>\n",
       "      <th>fit_time</th>\n",
       "      <th>score_time</th>\n",
       "      <th>test_score</th>\n",
       "      <th>train_score</th>\n",
       "    </tr>\n",
       "  </thead>\n",
       "  <tbody>\n",
       "    <tr>\n",
       "      <th>0</th>\n",
       "      <td>0.003963</td>\n",
       "      <td>0.0</td>\n",
       "      <td>-0.164284</td>\n",
       "      <td>-0.142393</td>\n",
       "    </tr>\n",
       "    <tr>\n",
       "      <th>1</th>\n",
       "      <td>0.003989</td>\n",
       "      <td>0.0</td>\n",
       "      <td>-0.158010</td>\n",
       "      <td>-0.147045</td>\n",
       "    </tr>\n",
       "    <tr>\n",
       "      <th>2</th>\n",
       "      <td>0.000996</td>\n",
       "      <td>0.0</td>\n",
       "      <td>-0.154062</td>\n",
       "      <td>-0.147340</td>\n",
       "    </tr>\n",
       "  </tbody>\n",
       "</table>\n",
       "</div>"
      ],
      "text/plain": [
       "   fit_time  score_time  test_score  train_score\n",
       "0  0.003963         0.0   -0.164284    -0.142393\n",
       "1  0.003989         0.0   -0.158010    -0.147045\n",
       "2  0.000996         0.0   -0.154062    -0.147340"
      ]
     },
     "execution_count": 31,
     "metadata": {},
     "output_type": "execute_result"
    }
   ],
   "source": [
    "scores = cross_validate(LinearRegression(), X_train, y_train, \n",
    "                        scoring='neg_mean_absolute_error', cv=3, \n",
    "                        return_train_score=True)\n",
    "\n",
    "pd.DataFrame(scores)"
   ]
  },
  {
   "cell_type": "markdown",
   "metadata": {},
   "source": [
    "### add season"
   ]
  },
  {
   "cell_type": "code",
   "execution_count": 32,
   "metadata": {},
   "outputs": [],
   "source": [
    "\n",
    "X_train[\"Winter\"] = X_train[\"Dec\"] + X_train[\"Jan\"] +X_train[\"Feb\"]\n",
    "\n",
    "X_train[\"Spring\"] = X_train[\"Mar\"] +X_train[\"April\"]+X_train[\"May\"]\n",
    "\n",
    "X_train[\"Summer\"] = X_train[\"June\"] +X_train[\"July\"]+X_train[\"August\"]\n",
    "\n",
    "X_train[\"Fall\"] = X_train[\"Sep\"] +X_train[\"Oct\"]+X_train[\"Nov\"]"
   ]
  },
  {
   "cell_type": "code",
   "execution_count": 33,
   "metadata": {},
   "outputs": [
    {
     "data": {
      "text/html": [
       "<div>\n",
       "<style scoped>\n",
       "    .dataframe tbody tr th:only-of-type {\n",
       "        vertical-align: middle;\n",
       "    }\n",
       "\n",
       "    .dataframe tbody tr th {\n",
       "        vertical-align: top;\n",
       "    }\n",
       "\n",
       "    .dataframe thead th {\n",
       "        text-align: right;\n",
       "    }\n",
       "</style>\n",
       "<table border=\"1\" class=\"dataframe\">\n",
       "  <thead>\n",
       "    <tr style=\"text-align: right;\">\n",
       "      <th></th>\n",
       "      <th>fit_time</th>\n",
       "      <th>score_time</th>\n",
       "      <th>test_score</th>\n",
       "      <th>train_score</th>\n",
       "    </tr>\n",
       "  </thead>\n",
       "  <tbody>\n",
       "    <tr>\n",
       "      <th>0</th>\n",
       "      <td>0.002991</td>\n",
       "      <td>0.000000</td>\n",
       "      <td>-0.164284</td>\n",
       "      <td>-0.142393</td>\n",
       "    </tr>\n",
       "    <tr>\n",
       "      <th>1</th>\n",
       "      <td>0.001995</td>\n",
       "      <td>0.000000</td>\n",
       "      <td>-0.158010</td>\n",
       "      <td>-0.147045</td>\n",
       "    </tr>\n",
       "    <tr>\n",
       "      <th>2</th>\n",
       "      <td>0.000997</td>\n",
       "      <td>0.000998</td>\n",
       "      <td>-0.154062</td>\n",
       "      <td>-0.147340</td>\n",
       "    </tr>\n",
       "  </tbody>\n",
       "</table>\n",
       "</div>"
      ],
      "text/plain": [
       "   fit_time  score_time  test_score  train_score\n",
       "0  0.002991    0.000000   -0.164284    -0.142393\n",
       "1  0.001995    0.000000   -0.158010    -0.147045\n",
       "2  0.000997    0.000998   -0.154062    -0.147340"
      ]
     },
     "execution_count": 33,
     "metadata": {},
     "output_type": "execute_result"
    }
   ],
   "source": [
    "scores = cross_validate(LinearRegression(), X_train, y_train, \n",
    "                        scoring='neg_mean_absolute_error', cv=3, \n",
    "                        return_train_score=True)\n",
    "\n",
    "pd.DataFrame(scores)"
   ]
  },
  {
   "cell_type": "code",
   "execution_count": 34,
   "metadata": {},
   "outputs": [
    {
     "data": {
      "text/html": [
       "<div>\n",
       "<style scoped>\n",
       "    .dataframe tbody tr th:only-of-type {\n",
       "        vertical-align: middle;\n",
       "    }\n",
       "\n",
       "    .dataframe tbody tr th {\n",
       "        vertical-align: top;\n",
       "    }\n",
       "\n",
       "    .dataframe thead th {\n",
       "        text-align: right;\n",
       "    }\n",
       "</style>\n",
       "<table border=\"1\" class=\"dataframe\">\n",
       "  <thead>\n",
       "    <tr style=\"text-align: right;\">\n",
       "      <th></th>\n",
       "      <th>fit_time</th>\n",
       "      <th>score_time</th>\n",
       "      <th>test_score</th>\n",
       "      <th>train_score</th>\n",
       "    </tr>\n",
       "  </thead>\n",
       "  <tbody>\n",
       "    <tr>\n",
       "      <th>0</th>\n",
       "      <td>0.001995</td>\n",
       "      <td>0.0</td>\n",
       "      <td>-0.163409</td>\n",
       "      <td>-0.147408</td>\n",
       "    </tr>\n",
       "    <tr>\n",
       "      <th>1</th>\n",
       "      <td>0.000997</td>\n",
       "      <td>0.0</td>\n",
       "      <td>-0.162317</td>\n",
       "      <td>-0.150895</td>\n",
       "    </tr>\n",
       "    <tr>\n",
       "      <th>2</th>\n",
       "      <td>0.001994</td>\n",
       "      <td>0.0</td>\n",
       "      <td>-0.155777</td>\n",
       "      <td>-0.151815</td>\n",
       "    </tr>\n",
       "  </tbody>\n",
       "</table>\n",
       "</div>"
      ],
      "text/plain": [
       "   fit_time  score_time  test_score  train_score\n",
       "0  0.001995         0.0   -0.163409    -0.147408\n",
       "1  0.000997         0.0   -0.162317    -0.150895\n",
       "2  0.001994         0.0   -0.155777    -0.151815"
      ]
     },
     "execution_count": 34,
     "metadata": {},
     "output_type": "execute_result"
    }
   ],
   "source": [
    "scores = cross_validate(LinearRegression(), X_train.drop(['Jan', 'Feb', 'Mar', 'April', 'May', 'June', \\\n",
    "                                                       'July','August','Sep', 'Oct', 'Nov','Dec'],axis=1 ), y_train, \n",
    "                        scoring='neg_mean_absolute_error', cv=3, \n",
    "                        return_train_score=True)\n",
    "\n",
    "pd.DataFrame(scores)"
   ]
  },
  {
   "cell_type": "code",
   "execution_count": 35,
   "metadata": {},
   "outputs": [
    {
     "name": "stdout",
     "output_type": "stream",
     "text": [
      "                            OLS Regression Results                            \n",
      "==============================================================================\n",
      "Dep. Variable:                  Total   R-squared:                       0.875\n",
      "Model:                            OLS   Adj. R-squared:                  0.872\n",
      "Method:                 Least Squares   F-statistic:                     312.6\n",
      "Date:                Thu, 31 Jan 2019   Prob (F-statistic):               0.00\n",
      "Time:                        15:32:43   Log-Likelihood:                 129.86\n",
      "No. Observations:                 962   AIC:                            -215.7\n",
      "Df Residuals:                     940   BIC:                            -108.6\n",
      "Df Model:                          21                                         \n",
      "Covariance Type:            nonrobust                                         \n",
      "===================================================================================\n",
      "                      coef    std err          t      P>|t|      [0.025      0.975]\n",
      "-----------------------------------------------------------------------------------\n",
      "const               5.8612      0.058    101.251      0.000       5.748       5.975\n",
      "PRCP               -0.4841      0.031    -15.402      0.000      -0.546      -0.422\n",
      "SNOW            -6.555e-06   1.08e-05     -0.605      0.545   -2.78e-05    1.47e-05\n",
      "SNWD               -0.0151      0.003     -5.865      0.000      -0.020      -0.010\n",
      "TMAX                0.0207      0.003      7.731      0.000       0.015       0.026\n",
      "TMIN               -0.0080      0.003     -2.515      0.012      -0.014      -0.002\n",
      "AWND               -0.0014      0.001     -2.670      0.008      -0.002      -0.000\n",
      "Total_yesterday     0.1041      0.012      8.514      0.000       0.080       0.128\n",
      "Mon                 1.2150      0.024     51.638      0.000       1.169       1.261\n",
      "Tue                 1.0530      0.019     54.193      0.000       1.015       1.091\n",
      "Wed                 1.0315      0.020     51.641      0.000       0.992       1.071\n",
      "Thu                 0.9949      0.020     49.905      0.000       0.956       1.034\n",
      "Fri                 0.9101      0.019     46.872      0.000       0.872       0.948\n",
      "Sat                 0.2904      0.019     15.236      0.000       0.253       0.328\n",
      "Sun                 0.3665      0.023     15.778      0.000       0.321       0.412\n",
      "holiday            -0.6794      0.044    -15.597      0.000      -0.765      -0.594\n",
      "daylight_hrs        0.0125      0.008      1.580      0.114      -0.003       0.028\n",
      "Temp (C)            0.0063      0.001      7.259      0.000       0.005       0.008\n",
      "dry day             0.1168      0.019      6.163      0.000       0.080       0.154\n",
      "annual              0.0341      0.009      3.619      0.000       0.016       0.053\n",
      "Winter              0.2234      0.028      8.041      0.000       0.169       0.278\n",
      "Spring              0.2935      0.034      8.527      0.000       0.226       0.361\n",
      "Summer              0.3275      0.052      6.266      0.000       0.225       0.430\n",
      "Fall                0.3067      0.038      8.087      0.000       0.232       0.381\n",
      "==============================================================================\n",
      "Omnibus:                      214.585   Durbin-Watson:                   1.405\n",
      "Prob(Omnibus):                  0.000   Jarque-Bera (JB):             1412.337\n",
      "Skew:                          -0.847   Prob(JB):                    2.06e-307\n",
      "Kurtosis:                       8.689   Cond. No.                     4.22e+18\n",
      "==============================================================================\n",
      "\n",
      "Warnings:\n",
      "[1] Standard Errors assume that the covariance matrix of the errors is correctly specified.\n",
      "[2] The smallest eigenvalue is 2.24e-29. This might indicate that there are\n",
      "strong multicollinearity problems or that the design matrix is singular.\n"
     ]
    }
   ],
   "source": [
    "import statsmodels.api as sm\n",
    "model = sm.OLS(y_train, sm.add_constant(X_train.drop(['Jan', 'Feb', 'Mar', 'April', 'May', 'June', \\\n",
    "                                                       'July','August','Sep', 'Oct', 'Nov','Dec'],axis=1 )))\n",
    "print(model.fit().summary())"
   ]
  },
  {
   "cell_type": "code",
   "execution_count": 36,
   "metadata": {},
   "outputs": [
    {
     "data": {
      "text/plain": [
       "11.750051975051969"
      ]
     },
     "execution_count": 36,
     "metadata": {},
     "output_type": "execute_result"
    }
   ],
   "source": [
    "X_train[\"Temp (C)\"].mean()"
   ]
  },
  {
   "cell_type": "code",
   "execution_count": 37,
   "metadata": {},
   "outputs": [],
   "source": [
    "X_train[\"Dist_from_avg_temp\"] = abs(X_train[\"Temp (C)\"] - X_train[\"Temp (C)\"].mean())"
   ]
  },
  {
   "cell_type": "code",
   "execution_count": 38,
   "metadata": {},
   "outputs": [
    {
     "data": {
      "text/html": [
       "<div>\n",
       "<style scoped>\n",
       "    .dataframe tbody tr th:only-of-type {\n",
       "        vertical-align: middle;\n",
       "    }\n",
       "\n",
       "    .dataframe tbody tr th {\n",
       "        vertical-align: top;\n",
       "    }\n",
       "\n",
       "    .dataframe thead th {\n",
       "        text-align: right;\n",
       "    }\n",
       "</style>\n",
       "<table border=\"1\" class=\"dataframe\">\n",
       "  <thead>\n",
       "    <tr style=\"text-align: right;\">\n",
       "      <th></th>\n",
       "      <th>fit_time</th>\n",
       "      <th>score_time</th>\n",
       "      <th>test_score</th>\n",
       "      <th>train_score</th>\n",
       "    </tr>\n",
       "  </thead>\n",
       "  <tbody>\n",
       "    <tr>\n",
       "      <th>0</th>\n",
       "      <td>0.000997</td>\n",
       "      <td>0.000998</td>\n",
       "      <td>-0.158293</td>\n",
       "      <td>-0.142032</td>\n",
       "    </tr>\n",
       "    <tr>\n",
       "      <th>1</th>\n",
       "      <td>0.000997</td>\n",
       "      <td>0.000000</td>\n",
       "      <td>-0.158673</td>\n",
       "      <td>-0.143737</td>\n",
       "    </tr>\n",
       "    <tr>\n",
       "      <th>2</th>\n",
       "      <td>0.001996</td>\n",
       "      <td>0.000000</td>\n",
       "      <td>-0.148601</td>\n",
       "      <td>-0.146309</td>\n",
       "    </tr>\n",
       "  </tbody>\n",
       "</table>\n",
       "</div>"
      ],
      "text/plain": [
       "   fit_time  score_time  test_score  train_score\n",
       "0  0.000997    0.000998   -0.158293    -0.142032\n",
       "1  0.000997    0.000000   -0.158673    -0.143737\n",
       "2  0.001996    0.000000   -0.148601    -0.146309"
      ]
     },
     "execution_count": 38,
     "metadata": {},
     "output_type": "execute_result"
    }
   ],
   "source": [
    "scores = cross_validate(LinearRegression(), X_train.drop(['Jan', 'Feb', 'Mar', 'April', 'May', 'June',\n",
    "                                                          'July','August','Sep', 'Oct', 'Nov','Dec'],axis=1 ), y_train, \n",
    "                        scoring='neg_mean_absolute_error', cv=3, \n",
    "                        return_train_score=True)\n",
    "\n",
    "pd.DataFrame(scores)"
   ]
  },
  {
   "cell_type": "code",
   "execution_count": 39,
   "metadata": {},
   "outputs": [
    {
     "name": "stdout",
     "output_type": "stream",
     "text": [
      "                            OLS Regression Results                            \n",
      "==============================================================================\n",
      "Dep. Variable:                  Total   R-squared:                       0.882\n",
      "Model:                            OLS   Adj. R-squared:                  0.879\n",
      "Method:                 Least Squares   F-statistic:                     318.1\n",
      "Date:                Thu, 31 Jan 2019   Prob (F-statistic):               0.00\n",
      "Time:                        15:32:43   Log-Likelihood:                 157.26\n",
      "No. Observations:                 962   AIC:                            -268.5\n",
      "Df Residuals:                     939   BIC:                            -156.5\n",
      "Df Model:                          22                                         \n",
      "Covariance Type:            nonrobust                                         \n",
      "======================================================================================\n",
      "                         coef    std err          t      P>|t|      [0.025      0.975]\n",
      "--------------------------------------------------------------------------------------\n",
      "const                  5.9132      0.057    104.239      0.000       5.802       6.025\n",
      "PRCP                  -0.4928      0.031    -16.111      0.000      -0.553      -0.433\n",
      "SNOW               -3.691e-06   1.05e-05     -0.350      0.726   -2.44e-05     1.7e-05\n",
      "SNWD                  -0.0132      0.003     -5.243      0.000      -0.018      -0.008\n",
      "TMAX                   0.0262      0.003      9.695      0.000       0.021       0.032\n",
      "TMIN                  -0.0145      0.003     -4.511      0.000      -0.021      -0.008\n",
      "AWND                  -0.0016      0.001     -3.218      0.001      -0.003      -0.001\n",
      "Total_yesterday        0.1017      0.012      8.553      0.000       0.078       0.125\n",
      "Mon                    1.2188      0.023     53.254      0.000       1.174       1.264\n",
      "Tue                    1.0608      0.019     56.057      0.000       1.024       1.098\n",
      "Wed                    1.0403      0.019     53.457      0.000       1.002       1.078\n",
      "Thu                    1.0033      0.019     51.664      0.000       0.965       1.041\n",
      "Fri                    0.9152      0.019     48.440      0.000       0.878       0.952\n",
      "Sat                    0.3020      0.019     16.237      0.000       0.265       0.338\n",
      "Sun                    0.3729      0.023     16.498      0.000       0.329       0.417\n",
      "holiday               -0.6746      0.042    -15.923      0.000      -0.758      -0.591\n",
      "daylight_hrs           0.0188      0.008      2.428      0.015       0.004       0.034\n",
      "Temp (C)               0.0058      0.001      6.876      0.000       0.004       0.007\n",
      "dry day                0.1308      0.019      7.064      0.000       0.094       0.167\n",
      "annual                 0.0237      0.009      2.548      0.011       0.005       0.042\n",
      "Winter                 0.1919      0.027      7.017      0.000       0.138       0.246\n",
      "Spring                 0.2094      0.035      5.924      0.000       0.140       0.279\n",
      "Summer                 0.2551      0.052      4.929      0.000       0.154       0.357\n",
      "Fall                   0.2598      0.037      6.942      0.000       0.186       0.333\n",
      "Dist_from_avg_temp    -0.0184      0.002     -7.419      0.000      -0.023      -0.014\n",
      "==============================================================================\n",
      "Omnibus:                      227.843   Durbin-Watson:                   1.475\n",
      "Prob(Omnibus):                  0.000   Jarque-Bera (JB):             1623.135\n",
      "Skew:                          -0.886   Prob(JB):                         0.00\n",
      "Kurtosis:                       9.112   Cond. No.                     3.88e+18\n",
      "==============================================================================\n",
      "\n",
      "Warnings:\n",
      "[1] Standard Errors assume that the covariance matrix of the errors is correctly specified.\n",
      "[2] The smallest eigenvalue is 2.65e-29. This might indicate that there are\n",
      "strong multicollinearity problems or that the design matrix is singular.\n"
     ]
    }
   ],
   "source": [
    "import statsmodels.api as sm\n",
    "model = sm.OLS(y_train, sm.add_constant(X_train.drop(['Jan', 'Feb', 'Mar', 'April', 'May', 'June', \\\n",
    "                                                       'July','August','Sep', 'Oct', 'Nov','Dec'],axis=1 )))\n",
    "print(model.fit().summary())"
   ]
  },
  {
   "cell_type": "code",
   "execution_count": 40,
   "metadata": {},
   "outputs": [],
   "source": [
    "X_train[\"Weekday\"] = X_train[\"Mon\"] +X_train[\"Tue\"]+X_train[\"Wed\"] + X_train[\"Thu\"]+ X_train[\"Fri\"]\n",
    "\n",
    "X_train[\"Weekend\"] = X_train[\"Sat\"] +X_train[\"Sun\"]"
   ]
  },
  {
   "cell_type": "code",
   "execution_count": null,
   "metadata": {},
   "outputs": [],
   "source": []
  },
  {
   "cell_type": "code",
   "execution_count": 41,
   "metadata": {},
   "outputs": [],
   "source": [
    "X_train[\"ideal_temp\"]=X_train[\"Temp (C)\"].apply(lambda x : 1 if ((x>15.) & (x<27.)) else 0)"
   ]
  },
  {
   "cell_type": "code",
   "execution_count": 42,
   "metadata": {},
   "outputs": [
    {
     "name": "stdout",
     "output_type": "stream",
     "text": [
      "                            OLS Regression Results                            \n",
      "==============================================================================\n",
      "Dep. Variable:                  Total   R-squared:                       0.869\n",
      "Model:                            OLS   Adj. R-squared:                  0.866\n",
      "Method:                 Least Squares   F-statistic:                     347.5\n",
      "Date:                Thu, 31 Jan 2019   Prob (F-statistic):               0.00\n",
      "Time:                        15:32:43   Log-Likelihood:                 108.28\n",
      "No. Observations:                 962   AIC:                            -178.6\n",
      "Df Residuals:                     943   BIC:                            -86.05\n",
      "Df Model:                          18                                         \n",
      "Covariance Type:            nonrobust                                         \n",
      "======================================================================================\n",
      "                         coef    std err          t      P>|t|      [0.025      0.975]\n",
      "--------------------------------------------------------------------------------------\n",
      "const                  4.4163      0.049     90.763      0.000       4.321       4.512\n",
      "PRCP                  -0.5011      0.032    -15.630      0.000      -0.564      -0.438\n",
      "SNOW               -6.247e-06    1.1e-05     -0.567      0.571   -2.79e-05    1.54e-05\n",
      "SNWD                  -0.0128      0.003     -4.855      0.000      -0.018      -0.008\n",
      "TMAX                   0.0333      0.003     11.605      0.000       0.028       0.039\n",
      "TMIN                  -0.0154      0.004     -4.028      0.000      -0.023      -0.008\n",
      "AWND                  -0.0016      0.001     -3.013      0.003      -0.003      -0.001\n",
      "Total_yesterday        0.0417      0.008      4.945      0.000       0.025       0.058\n",
      "holiday               -0.6434      0.044    -14.575      0.000      -0.730      -0.557\n",
      "daylight_hrs           0.0240      0.008      2.984      0.003       0.008       0.040\n",
      "dry day                0.1403      0.019      7.225      0.000       0.102       0.178\n",
      "annual                 0.0302      0.010      3.112      0.002       0.011       0.049\n",
      "Winter                 0.1963      0.029      6.843      0.000       0.140       0.253\n",
      "Spring                 0.2162      0.037      5.825      0.000       0.143       0.289\n",
      "Summer                 0.2839      0.054      5.243      0.000       0.178       0.390\n",
      "Fall                   0.2779      0.039      7.098      0.000       0.201       0.355\n",
      "Dist_from_avg_temp    -0.0210      0.003     -6.340      0.000      -0.027      -0.014\n",
      "Weekday                2.5815      0.025    102.513      0.000       2.532       2.631\n",
      "Weekend                1.8347      0.026     69.882      0.000       1.783       1.886\n",
      "ideal_temp             0.0462      0.037      1.239      0.216      -0.027       0.119\n",
      "==============================================================================\n",
      "Omnibus:                      251.971   Durbin-Watson:                   1.374\n",
      "Prob(Omnibus):                  0.000   Jarque-Bera (JB):             1829.674\n",
      "Skew:                          -0.995   Prob(JB):                         0.00\n",
      "Kurtosis:                       9.456   Cond. No.                     1.32e+18\n",
      "==============================================================================\n",
      "\n",
      "Warnings:\n",
      "[1] Standard Errors assume that the covariance matrix of the errors is correctly specified.\n",
      "[2] The smallest eigenvalue is 2.31e-28. This might indicate that there are\n",
      "strong multicollinearity problems or that the design matrix is singular.\n"
     ]
    }
   ],
   "source": [
    "\n",
    "model = sm.OLS(y_train, sm.add_constant(X_train.drop(['Jan', 'Feb', 'Mar', 'April', 'May', 'June', \\\n",
    "                                                       'July','August','Sep', 'Oct', 'Nov','Dec', \"Temp (C)\"\\\n",
    "                                                     , \"Mon\",\"Tue\",\"Wed\",\"Thu\",\"Fri\",\"Sat\",\"Sun\"],axis=1 )))\n",
    "print(model.fit().summary())"
   ]
  },
  {
   "cell_type": "code",
   "execution_count": 43,
   "metadata": {},
   "outputs": [
    {
     "data": {
      "text/html": [
       "<div>\n",
       "<style scoped>\n",
       "    .dataframe tbody tr th:only-of-type {\n",
       "        vertical-align: middle;\n",
       "    }\n",
       "\n",
       "    .dataframe tbody tr th {\n",
       "        vertical-align: top;\n",
       "    }\n",
       "\n",
       "    .dataframe thead th {\n",
       "        text-align: right;\n",
       "    }\n",
       "</style>\n",
       "<table border=\"1\" class=\"dataframe\">\n",
       "  <thead>\n",
       "    <tr style=\"text-align: right;\">\n",
       "      <th></th>\n",
       "      <th>fit_time</th>\n",
       "      <th>score_time</th>\n",
       "      <th>test_score</th>\n",
       "      <th>train_score</th>\n",
       "    </tr>\n",
       "  </thead>\n",
       "  <tbody>\n",
       "    <tr>\n",
       "      <th>0</th>\n",
       "      <td>0.001995</td>\n",
       "      <td>0.0</td>\n",
       "      <td>-0.162045</td>\n",
       "      <td>-0.146864</td>\n",
       "    </tr>\n",
       "    <tr>\n",
       "      <th>1</th>\n",
       "      <td>0.001995</td>\n",
       "      <td>0.0</td>\n",
       "      <td>-0.166252</td>\n",
       "      <td>-0.149431</td>\n",
       "    </tr>\n",
       "    <tr>\n",
       "      <th>2</th>\n",
       "      <td>0.001994</td>\n",
       "      <td>0.0</td>\n",
       "      <td>-0.153340</td>\n",
       "      <td>-0.152554</td>\n",
       "    </tr>\n",
       "  </tbody>\n",
       "</table>\n",
       "</div>"
      ],
      "text/plain": [
       "   fit_time  score_time  test_score  train_score\n",
       "0  0.001995         0.0   -0.162045    -0.146864\n",
       "1  0.001995         0.0   -0.166252    -0.149431\n",
       "2  0.001994         0.0   -0.153340    -0.152554"
      ]
     },
     "execution_count": 43,
     "metadata": {},
     "output_type": "execute_result"
    }
   ],
   "source": [
    "scores = cross_validate(LinearRegression(), X_train.drop(['Jan', 'Feb', 'Mar', 'April', 'May', 'June','July','August','Sep', 'Oct', 'Nov','Dec', \"Temp (C)\"\n",
    "                                                     , \"Mon\",\"Tue\",\"Wed\",\"Thu\",\"Fri\",\"Sat\",\"Sun\"],axis=1 ), y_train, \n",
    "                        scoring='neg_mean_absolute_error', cv=3, \n",
    "                        return_train_score=True)\n",
    "\n",
    "pd.DataFrame(scores)"
   ]
  },
  {
   "cell_type": "markdown",
   "metadata": {},
   "source": [
    "### Drop month and weekday/weekend and temp and Rolling 3"
   ]
  },
  {
   "cell_type": "code",
   "execution_count": 44,
   "metadata": {},
   "outputs": [],
   "source": [
    "X_train = X_train.drop(['Jan', 'Feb', 'Mar', 'April', 'May', 'June',\n",
    "                        'July','August','Sep', 'Oct', 'Nov','Dec', \"Temp (C)\",\"Weekday\",\"Weekend\"],axis=1 )"
   ]
  },
  {
   "cell_type": "code",
   "execution_count": 45,
   "metadata": {},
   "outputs": [
    {
     "data": {
      "text/html": [
       "<div>\n",
       "<style scoped>\n",
       "    .dataframe tbody tr th:only-of-type {\n",
       "        vertical-align: middle;\n",
       "    }\n",
       "\n",
       "    .dataframe tbody tr th {\n",
       "        vertical-align: top;\n",
       "    }\n",
       "\n",
       "    .dataframe thead th {\n",
       "        text-align: right;\n",
       "    }\n",
       "</style>\n",
       "<table border=\"1\" class=\"dataframe\">\n",
       "  <thead>\n",
       "    <tr style=\"text-align: right;\">\n",
       "      <th></th>\n",
       "      <th>PRCP</th>\n",
       "      <th>SNOW</th>\n",
       "      <th>SNWD</th>\n",
       "      <th>TMAX</th>\n",
       "      <th>TMIN</th>\n",
       "      <th>AWND</th>\n",
       "      <th>Total_yesterday</th>\n",
       "      <th>Mon</th>\n",
       "      <th>Tue</th>\n",
       "      <th>Wed</th>\n",
       "      <th>...</th>\n",
       "      <th>holiday</th>\n",
       "      <th>daylight_hrs</th>\n",
       "      <th>dry day</th>\n",
       "      <th>annual</th>\n",
       "      <th>Winter</th>\n",
       "      <th>Spring</th>\n",
       "      <th>Summer</th>\n",
       "      <th>Fall</th>\n",
       "      <th>Dist_from_avg_temp</th>\n",
       "      <th>ideal_temp</th>\n",
       "    </tr>\n",
       "  </thead>\n",
       "  <tbody>\n",
       "    <tr>\n",
       "      <th>count</th>\n",
       "      <td>962.000000</td>\n",
       "      <td>962.000000</td>\n",
       "      <td>962.000000</td>\n",
       "      <td>962.000000</td>\n",
       "      <td>962.000000</td>\n",
       "      <td>962.000000</td>\n",
       "      <td>962.000000</td>\n",
       "      <td>962.000000</td>\n",
       "      <td>962.000000</td>\n",
       "      <td>962.000000</td>\n",
       "      <td>...</td>\n",
       "      <td>962.000000</td>\n",
       "      <td>962.000000</td>\n",
       "      <td>962.000000</td>\n",
       "      <td>962.000000</td>\n",
       "      <td>962.000000</td>\n",
       "      <td>962.000000</td>\n",
       "      <td>962.000000</td>\n",
       "      <td>962.000000</td>\n",
       "      <td>962.000000</td>\n",
       "      <td>962.000000</td>\n",
       "    </tr>\n",
       "    <tr>\n",
       "      <th>mean</th>\n",
       "      <td>0.123705</td>\n",
       "      <td>-41.433472</td>\n",
       "      <td>0.109148</td>\n",
       "      <td>15.669854</td>\n",
       "      <td>7.830249</td>\n",
       "      <td>31.854470</td>\n",
       "      <td>2.535117</td>\n",
       "      <td>0.142412</td>\n",
       "      <td>0.142412</td>\n",
       "      <td>0.142412</td>\n",
       "      <td>...</td>\n",
       "      <td>0.028067</td>\n",
       "      <td>11.677857</td>\n",
       "      <td>0.554054</td>\n",
       "      <td>1.316438</td>\n",
       "      <td>0.190229</td>\n",
       "      <td>0.277547</td>\n",
       "      <td>0.216216</td>\n",
       "      <td>0.219335</td>\n",
       "      <td>4.745172</td>\n",
       "      <td>0.290021</td>\n",
       "    </tr>\n",
       "    <tr>\n",
       "      <th>std</th>\n",
       "      <td>0.264718</td>\n",
       "      <td>643.768975</td>\n",
       "      <td>2.701512</td>\n",
       "      <td>6.997671</td>\n",
       "      <td>4.916549</td>\n",
       "      <td>14.612356</td>\n",
       "      <td>1.224457</td>\n",
       "      <td>0.349654</td>\n",
       "      <td>0.349654</td>\n",
       "      <td>0.349654</td>\n",
       "      <td>...</td>\n",
       "      <td>0.165249</td>\n",
       "      <td>2.570035</td>\n",
       "      <td>0.497328</td>\n",
       "      <td>0.761232</td>\n",
       "      <td>0.392686</td>\n",
       "      <td>0.448021</td>\n",
       "      <td>0.411878</td>\n",
       "      <td>0.414011</td>\n",
       "      <td>3.259626</td>\n",
       "      <td>0.454008</td>\n",
       "    </tr>\n",
       "    <tr>\n",
       "      <th>min</th>\n",
       "      <td>0.000000</td>\n",
       "      <td>-9999.000000</td>\n",
       "      <td>0.000000</td>\n",
       "      <td>-1.600000</td>\n",
       "      <td>-7.100000</td>\n",
       "      <td>4.000000</td>\n",
       "      <td>0.098000</td>\n",
       "      <td>0.000000</td>\n",
       "      <td>0.000000</td>\n",
       "      <td>0.000000</td>\n",
       "      <td>...</td>\n",
       "      <td>0.000000</td>\n",
       "      <td>8.218894</td>\n",
       "      <td>0.000000</td>\n",
       "      <td>0.000000</td>\n",
       "      <td>0.000000</td>\n",
       "      <td>0.000000</td>\n",
       "      <td>0.000000</td>\n",
       "      <td>0.000000</td>\n",
       "      <td>0.050052</td>\n",
       "      <td>0.000000</td>\n",
       "    </tr>\n",
       "    <tr>\n",
       "      <th>25%</th>\n",
       "      <td>0.000000</td>\n",
       "      <td>0.000000</td>\n",
       "      <td>0.000000</td>\n",
       "      <td>10.600000</td>\n",
       "      <td>4.400000</td>\n",
       "      <td>22.000000</td>\n",
       "      <td>1.753500</td>\n",
       "      <td>0.000000</td>\n",
       "      <td>0.000000</td>\n",
       "      <td>0.000000</td>\n",
       "      <td>...</td>\n",
       "      <td>0.000000</td>\n",
       "      <td>9.204093</td>\n",
       "      <td>0.000000</td>\n",
       "      <td>0.658219</td>\n",
       "      <td>0.000000</td>\n",
       "      <td>0.000000</td>\n",
       "      <td>0.000000</td>\n",
       "      <td>0.000000</td>\n",
       "      <td>2.149948</td>\n",
       "      <td>0.000000</td>\n",
       "    </tr>\n",
       "    <tr>\n",
       "      <th>50%</th>\n",
       "      <td>0.000000</td>\n",
       "      <td>0.000000</td>\n",
       "      <td>0.000000</td>\n",
       "      <td>14.400000</td>\n",
       "      <td>7.800000</td>\n",
       "      <td>29.000000</td>\n",
       "      <td>2.381000</td>\n",
       "      <td>0.000000</td>\n",
       "      <td>0.000000</td>\n",
       "      <td>0.000000</td>\n",
       "      <td>...</td>\n",
       "      <td>0.000000</td>\n",
       "      <td>11.372182</td>\n",
       "      <td>1.000000</td>\n",
       "      <td>1.316438</td>\n",
       "      <td>0.000000</td>\n",
       "      <td>0.000000</td>\n",
       "      <td>0.000000</td>\n",
       "      <td>0.000000</td>\n",
       "      <td>4.250052</td>\n",
       "      <td>0.000000</td>\n",
       "    </tr>\n",
       "    <tr>\n",
       "      <th>75%</th>\n",
       "      <td>0.129921</td>\n",
       "      <td>0.000000</td>\n",
       "      <td>0.000000</td>\n",
       "      <td>20.600000</td>\n",
       "      <td>11.700000</td>\n",
       "      <td>40.750000</td>\n",
       "      <td>3.319750</td>\n",
       "      <td>0.000000</td>\n",
       "      <td>0.000000</td>\n",
       "      <td>0.000000</td>\n",
       "      <td>...</td>\n",
       "      <td>0.000000</td>\n",
       "      <td>14.122158</td>\n",
       "      <td>1.000000</td>\n",
       "      <td>1.974658</td>\n",
       "      <td>0.000000</td>\n",
       "      <td>1.000000</td>\n",
       "      <td>0.000000</td>\n",
       "      <td>0.000000</td>\n",
       "      <td>6.849948</td>\n",
       "      <td>1.000000</td>\n",
       "    </tr>\n",
       "    <tr>\n",
       "      <th>max</th>\n",
       "      <td>2.200787</td>\n",
       "      <td>74.000000</td>\n",
       "      <td>80.000000</td>\n",
       "      <td>35.600000</td>\n",
       "      <td>18.300000</td>\n",
       "      <td>95.000000</td>\n",
       "      <td>6.088000</td>\n",
       "      <td>1.000000</td>\n",
       "      <td>1.000000</td>\n",
       "      <td>1.000000</td>\n",
       "      <td>...</td>\n",
       "      <td>1.000000</td>\n",
       "      <td>15.781095</td>\n",
       "      <td>1.000000</td>\n",
       "      <td>2.632877</td>\n",
       "      <td>1.000000</td>\n",
       "      <td>1.000000</td>\n",
       "      <td>1.000000</td>\n",
       "      <td>1.000000</td>\n",
       "      <td>15.550052</td>\n",
       "      <td>1.000000</td>\n",
       "    </tr>\n",
       "  </tbody>\n",
       "</table>\n",
       "<p>8 rows × 24 columns</p>\n",
       "</div>"
      ],
      "text/plain": [
       "             PRCP         SNOW        SNWD        TMAX        TMIN  \\\n",
       "count  962.000000   962.000000  962.000000  962.000000  962.000000   \n",
       "mean     0.123705   -41.433472    0.109148   15.669854    7.830249   \n",
       "std      0.264718   643.768975    2.701512    6.997671    4.916549   \n",
       "min      0.000000 -9999.000000    0.000000   -1.600000   -7.100000   \n",
       "25%      0.000000     0.000000    0.000000   10.600000    4.400000   \n",
       "50%      0.000000     0.000000    0.000000   14.400000    7.800000   \n",
       "75%      0.129921     0.000000    0.000000   20.600000   11.700000   \n",
       "max      2.200787    74.000000   80.000000   35.600000   18.300000   \n",
       "\n",
       "             AWND  Total_yesterday         Mon         Tue         Wed  \\\n",
       "count  962.000000       962.000000  962.000000  962.000000  962.000000   \n",
       "mean    31.854470         2.535117    0.142412    0.142412    0.142412   \n",
       "std     14.612356         1.224457    0.349654    0.349654    0.349654   \n",
       "min      4.000000         0.098000    0.000000    0.000000    0.000000   \n",
       "25%     22.000000         1.753500    0.000000    0.000000    0.000000   \n",
       "50%     29.000000         2.381000    0.000000    0.000000    0.000000   \n",
       "75%     40.750000         3.319750    0.000000    0.000000    0.000000   \n",
       "max     95.000000         6.088000    1.000000    1.000000    1.000000   \n",
       "\n",
       "          ...         holiday  daylight_hrs     dry day      annual  \\\n",
       "count     ...      962.000000    962.000000  962.000000  962.000000   \n",
       "mean      ...        0.028067     11.677857    0.554054    1.316438   \n",
       "std       ...        0.165249      2.570035    0.497328    0.761232   \n",
       "min       ...        0.000000      8.218894    0.000000    0.000000   \n",
       "25%       ...        0.000000      9.204093    0.000000    0.658219   \n",
       "50%       ...        0.000000     11.372182    1.000000    1.316438   \n",
       "75%       ...        0.000000     14.122158    1.000000    1.974658   \n",
       "max       ...        1.000000     15.781095    1.000000    2.632877   \n",
       "\n",
       "           Winter      Spring      Summer        Fall  Dist_from_avg_temp  \\\n",
       "count  962.000000  962.000000  962.000000  962.000000          962.000000   \n",
       "mean     0.190229    0.277547    0.216216    0.219335            4.745172   \n",
       "std      0.392686    0.448021    0.411878    0.414011            3.259626   \n",
       "min      0.000000    0.000000    0.000000    0.000000            0.050052   \n",
       "25%      0.000000    0.000000    0.000000    0.000000            2.149948   \n",
       "50%      0.000000    0.000000    0.000000    0.000000            4.250052   \n",
       "75%      0.000000    1.000000    0.000000    0.000000            6.849948   \n",
       "max      1.000000    1.000000    1.000000    1.000000           15.550052   \n",
       "\n",
       "       ideal_temp  \n",
       "count  962.000000  \n",
       "mean     0.290021  \n",
       "std      0.454008  \n",
       "min      0.000000  \n",
       "25%      0.000000  \n",
       "50%      0.000000  \n",
       "75%      1.000000  \n",
       "max      1.000000  \n",
       "\n",
       "[8 rows x 24 columns]"
      ]
     },
     "execution_count": 45,
     "metadata": {},
     "output_type": "execute_result"
    }
   ],
   "source": [
    "X_train.describe()"
   ]
  },
  {
   "cell_type": "code",
   "execution_count": 46,
   "metadata": {},
   "outputs": [
    {
     "data": {
      "text/plain": [
       "array(['PRCP', 'SNOW', 'SNWD', 'TMAX', 'TMIN', 'AWND', 'Total_yesterday',\n",
       "       'Mon', 'Tue', 'Wed', 'Thu', 'Fri', 'Sat', 'Sun', 'holiday',\n",
       "       'daylight_hrs', 'dry day', 'annual', 'Winter', 'Spring', 'Summer',\n",
       "       'Fall', 'Dist_from_avg_temp', 'ideal_temp'], dtype=object)"
      ]
     },
     "execution_count": 46,
     "metadata": {},
     "output_type": "execute_result"
    }
   ],
   "source": [
    "X_train.columns.values"
   ]
  },
  {
   "cell_type": "code",
   "execution_count": 79,
   "metadata": {},
   "outputs": [
    {
     "data": {
      "text/html": [
       "<div>\n",
       "<style scoped>\n",
       "    .dataframe tbody tr th:only-of-type {\n",
       "        vertical-align: middle;\n",
       "    }\n",
       "\n",
       "    .dataframe tbody tr th {\n",
       "        vertical-align: top;\n",
       "    }\n",
       "\n",
       "    .dataframe thead th {\n",
       "        text-align: right;\n",
       "    }\n",
       "</style>\n",
       "<table border=\"1\" class=\"dataframe\">\n",
       "  <thead>\n",
       "    <tr style=\"text-align: right;\">\n",
       "      <th></th>\n",
       "      <th>PRCP</th>\n",
       "      <th>SNOW</th>\n",
       "      <th>SNWD</th>\n",
       "      <th>Total_yesterday</th>\n",
       "      <th>Mon</th>\n",
       "      <th>Tue</th>\n",
       "      <th>Wed</th>\n",
       "      <th>Thu</th>\n",
       "      <th>Fri</th>\n",
       "      <th>Sat</th>\n",
       "      <th>...</th>\n",
       "      <th>daylight_hrs</th>\n",
       "      <th>dry day</th>\n",
       "      <th>annual</th>\n",
       "      <th>Winter</th>\n",
       "      <th>Spring</th>\n",
       "      <th>Summer</th>\n",
       "      <th>Fall</th>\n",
       "      <th>Dist_from_avg_temp</th>\n",
       "      <th>ideal_temp</th>\n",
       "      <th>log_AWND</th>\n",
       "    </tr>\n",
       "  </thead>\n",
       "  <tbody>\n",
       "    <tr>\n",
       "      <th>count</th>\n",
       "      <td>962.000000</td>\n",
       "      <td>962.000000</td>\n",
       "      <td>962.000000</td>\n",
       "      <td>962.000000</td>\n",
       "      <td>962.000000</td>\n",
       "      <td>962.000000</td>\n",
       "      <td>962.000000</td>\n",
       "      <td>962.000000</td>\n",
       "      <td>962.000000</td>\n",
       "      <td>962.000000</td>\n",
       "      <td>...</td>\n",
       "      <td>962.000000</td>\n",
       "      <td>962.000000</td>\n",
       "      <td>962.000000</td>\n",
       "      <td>962.000000</td>\n",
       "      <td>962.000000</td>\n",
       "      <td>962.000000</td>\n",
       "      <td>962.000000</td>\n",
       "      <td>962.000000</td>\n",
       "      <td>962.000000</td>\n",
       "      <td>962.000000</td>\n",
       "    </tr>\n",
       "    <tr>\n",
       "      <th>mean</th>\n",
       "      <td>0.123705</td>\n",
       "      <td>0.142412</td>\n",
       "      <td>0.109148</td>\n",
       "      <td>2.535117</td>\n",
       "      <td>0.142412</td>\n",
       "      <td>0.142412</td>\n",
       "      <td>0.142412</td>\n",
       "      <td>0.142412</td>\n",
       "      <td>0.143451</td>\n",
       "      <td>0.143451</td>\n",
       "      <td>...</td>\n",
       "      <td>11.677857</td>\n",
       "      <td>0.554054</td>\n",
       "      <td>1.316438</td>\n",
       "      <td>0.190229</td>\n",
       "      <td>0.277547</td>\n",
       "      <td>0.216216</td>\n",
       "      <td>0.219335</td>\n",
       "      <td>4.745172</td>\n",
       "      <td>0.290021</td>\n",
       "      <td>3.351775</td>\n",
       "    </tr>\n",
       "    <tr>\n",
       "      <th>std</th>\n",
       "      <td>0.264718</td>\n",
       "      <td>2.672847</td>\n",
       "      <td>2.701512</td>\n",
       "      <td>1.224457</td>\n",
       "      <td>0.349654</td>\n",
       "      <td>0.349654</td>\n",
       "      <td>0.349654</td>\n",
       "      <td>0.349654</td>\n",
       "      <td>0.350715</td>\n",
       "      <td>0.350715</td>\n",
       "      <td>...</td>\n",
       "      <td>2.570035</td>\n",
       "      <td>0.497328</td>\n",
       "      <td>0.761232</td>\n",
       "      <td>0.392686</td>\n",
       "      <td>0.448021</td>\n",
       "      <td>0.411878</td>\n",
       "      <td>0.414011</td>\n",
       "      <td>3.259626</td>\n",
       "      <td>0.454008</td>\n",
       "      <td>0.486011</td>\n",
       "    </tr>\n",
       "    <tr>\n",
       "      <th>min</th>\n",
       "      <td>0.000000</td>\n",
       "      <td>0.000000</td>\n",
       "      <td>0.000000</td>\n",
       "      <td>0.098000</td>\n",
       "      <td>0.000000</td>\n",
       "      <td>0.000000</td>\n",
       "      <td>0.000000</td>\n",
       "      <td>0.000000</td>\n",
       "      <td>0.000000</td>\n",
       "      <td>0.000000</td>\n",
       "      <td>...</td>\n",
       "      <td>8.218894</td>\n",
       "      <td>0.000000</td>\n",
       "      <td>0.000000</td>\n",
       "      <td>0.000000</td>\n",
       "      <td>0.000000</td>\n",
       "      <td>0.000000</td>\n",
       "      <td>0.000000</td>\n",
       "      <td>0.050052</td>\n",
       "      <td>0.000000</td>\n",
       "      <td>1.386294</td>\n",
       "    </tr>\n",
       "    <tr>\n",
       "      <th>25%</th>\n",
       "      <td>0.000000</td>\n",
       "      <td>0.000000</td>\n",
       "      <td>0.000000</td>\n",
       "      <td>1.753500</td>\n",
       "      <td>0.000000</td>\n",
       "      <td>0.000000</td>\n",
       "      <td>0.000000</td>\n",
       "      <td>0.000000</td>\n",
       "      <td>0.000000</td>\n",
       "      <td>0.000000</td>\n",
       "      <td>...</td>\n",
       "      <td>9.204093</td>\n",
       "      <td>0.000000</td>\n",
       "      <td>0.658219</td>\n",
       "      <td>0.000000</td>\n",
       "      <td>0.000000</td>\n",
       "      <td>0.000000</td>\n",
       "      <td>0.000000</td>\n",
       "      <td>2.149948</td>\n",
       "      <td>0.000000</td>\n",
       "      <td>3.091042</td>\n",
       "    </tr>\n",
       "    <tr>\n",
       "      <th>50%</th>\n",
       "      <td>0.000000</td>\n",
       "      <td>0.000000</td>\n",
       "      <td>0.000000</td>\n",
       "      <td>2.381000</td>\n",
       "      <td>0.000000</td>\n",
       "      <td>0.000000</td>\n",
       "      <td>0.000000</td>\n",
       "      <td>0.000000</td>\n",
       "      <td>0.000000</td>\n",
       "      <td>0.000000</td>\n",
       "      <td>...</td>\n",
       "      <td>11.372182</td>\n",
       "      <td>1.000000</td>\n",
       "      <td>1.316438</td>\n",
       "      <td>0.000000</td>\n",
       "      <td>0.000000</td>\n",
       "      <td>0.000000</td>\n",
       "      <td>0.000000</td>\n",
       "      <td>4.250052</td>\n",
       "      <td>0.000000</td>\n",
       "      <td>3.367296</td>\n",
       "    </tr>\n",
       "    <tr>\n",
       "      <th>75%</th>\n",
       "      <td>0.129921</td>\n",
       "      <td>0.000000</td>\n",
       "      <td>0.000000</td>\n",
       "      <td>3.319750</td>\n",
       "      <td>0.000000</td>\n",
       "      <td>0.000000</td>\n",
       "      <td>0.000000</td>\n",
       "      <td>0.000000</td>\n",
       "      <td>0.000000</td>\n",
       "      <td>0.000000</td>\n",
       "      <td>...</td>\n",
       "      <td>14.122158</td>\n",
       "      <td>1.000000</td>\n",
       "      <td>1.974658</td>\n",
       "      <td>0.000000</td>\n",
       "      <td>1.000000</td>\n",
       "      <td>0.000000</td>\n",
       "      <td>0.000000</td>\n",
       "      <td>6.849948</td>\n",
       "      <td>1.000000</td>\n",
       "      <td>3.707399</td>\n",
       "    </tr>\n",
       "    <tr>\n",
       "      <th>max</th>\n",
       "      <td>2.200787</td>\n",
       "      <td>74.000000</td>\n",
       "      <td>80.000000</td>\n",
       "      <td>6.088000</td>\n",
       "      <td>1.000000</td>\n",
       "      <td>1.000000</td>\n",
       "      <td>1.000000</td>\n",
       "      <td>1.000000</td>\n",
       "      <td>1.000000</td>\n",
       "      <td>1.000000</td>\n",
       "      <td>...</td>\n",
       "      <td>15.781095</td>\n",
       "      <td>1.000000</td>\n",
       "      <td>2.632877</td>\n",
       "      <td>1.000000</td>\n",
       "      <td>1.000000</td>\n",
       "      <td>1.000000</td>\n",
       "      <td>1.000000</td>\n",
       "      <td>15.550052</td>\n",
       "      <td>1.000000</td>\n",
       "      <td>4.553877</td>\n",
       "    </tr>\n",
       "  </tbody>\n",
       "</table>\n",
       "<p>8 rows × 22 columns</p>\n",
       "</div>"
      ],
      "text/plain": [
       "             PRCP        SNOW        SNWD  Total_yesterday         Mon  \\\n",
       "count  962.000000  962.000000  962.000000       962.000000  962.000000   \n",
       "mean     0.123705    0.142412    0.109148         2.535117    0.142412   \n",
       "std      0.264718    2.672847    2.701512         1.224457    0.349654   \n",
       "min      0.000000    0.000000    0.000000         0.098000    0.000000   \n",
       "25%      0.000000    0.000000    0.000000         1.753500    0.000000   \n",
       "50%      0.000000    0.000000    0.000000         2.381000    0.000000   \n",
       "75%      0.129921    0.000000    0.000000         3.319750    0.000000   \n",
       "max      2.200787   74.000000   80.000000         6.088000    1.000000   \n",
       "\n",
       "              Tue         Wed         Thu         Fri         Sat     ...      \\\n",
       "count  962.000000  962.000000  962.000000  962.000000  962.000000     ...       \n",
       "mean     0.142412    0.142412    0.142412    0.143451    0.143451     ...       \n",
       "std      0.349654    0.349654    0.349654    0.350715    0.350715     ...       \n",
       "min      0.000000    0.000000    0.000000    0.000000    0.000000     ...       \n",
       "25%      0.000000    0.000000    0.000000    0.000000    0.000000     ...       \n",
       "50%      0.000000    0.000000    0.000000    0.000000    0.000000     ...       \n",
       "75%      0.000000    0.000000    0.000000    0.000000    0.000000     ...       \n",
       "max      1.000000    1.000000    1.000000    1.000000    1.000000     ...       \n",
       "\n",
       "       daylight_hrs     dry day      annual      Winter      Spring  \\\n",
       "count    962.000000  962.000000  962.000000  962.000000  962.000000   \n",
       "mean      11.677857    0.554054    1.316438    0.190229    0.277547   \n",
       "std        2.570035    0.497328    0.761232    0.392686    0.448021   \n",
       "min        8.218894    0.000000    0.000000    0.000000    0.000000   \n",
       "25%        9.204093    0.000000    0.658219    0.000000    0.000000   \n",
       "50%       11.372182    1.000000    1.316438    0.000000    0.000000   \n",
       "75%       14.122158    1.000000    1.974658    0.000000    1.000000   \n",
       "max       15.781095    1.000000    2.632877    1.000000    1.000000   \n",
       "\n",
       "           Summer        Fall  Dist_from_avg_temp  ideal_temp    log_AWND  \n",
       "count  962.000000  962.000000          962.000000  962.000000  962.000000  \n",
       "mean     0.216216    0.219335            4.745172    0.290021    3.351775  \n",
       "std      0.411878    0.414011            3.259626    0.454008    0.486011  \n",
       "min      0.000000    0.000000            0.050052    0.000000    1.386294  \n",
       "25%      0.000000    0.000000            2.149948    0.000000    3.091042  \n",
       "50%      0.000000    0.000000            4.250052    0.000000    3.367296  \n",
       "75%      0.000000    0.000000            6.849948    1.000000    3.707399  \n",
       "max      1.000000    1.000000           15.550052    1.000000    4.553877  \n",
       "\n",
       "[8 rows x 22 columns]"
      ]
     },
     "execution_count": 79,
     "metadata": {},
     "output_type": "execute_result"
    }
   ],
   "source": [
    "X_train = X_train.replace(-9999,0)\n",
    "X_train.describe()"
   ]
  },
  {
   "cell_type": "code",
   "execution_count": null,
   "metadata": {},
   "outputs": [],
   "source": []
  },
  {
   "cell_type": "code",
   "execution_count": 80,
   "metadata": {},
   "outputs": [
    {
     "name": "stdout",
     "output_type": "stream",
     "text": [
      "                            OLS Regression Results                            \n",
      "==============================================================================\n",
      "Dep. Variable:                  Total   R-squared:                       0.868\n",
      "Model:                            OLS   Adj. R-squared:                  0.865\n",
      "Method:                 Least Squares   F-statistic:                     294.2\n",
      "Date:                Thu, 31 Jan 2019   Prob (F-statistic):               0.00\n",
      "Time:                        15:46:36   Log-Likelihood:                 104.40\n",
      "No. Observations:                 962   AIC:                            -164.8\n",
      "Df Residuals:                     940   BIC:                            -57.67\n",
      "Df Model:                          21                                         \n",
      "Covariance Type:            nonrobust                                         \n",
      "======================================================================================\n",
      "                         coef    std err          t      P>|t|      [0.025      0.975]\n",
      "--------------------------------------------------------------------------------------\n",
      "const                  5.9459      0.077     77.456      0.000       5.795       6.097\n",
      "PRCP                  -0.4980      0.032    -15.460      0.000      -0.561      -0.435\n",
      "SNOW                  -0.0021      0.003     -0.788      0.431      -0.007       0.003\n",
      "SNWD                  -0.0144      0.003     -5.402      0.000      -0.020      -0.009\n",
      "Total_yesterday        0.1288      0.012     10.520      0.000       0.105       0.153\n",
      "Mon                    1.2700      0.025     51.357      0.000       1.221       1.319\n",
      "Tue                    1.0595      0.021     49.645      0.000       1.018       1.101\n",
      "Wed                    1.0265      0.022     47.705      0.000       0.984       1.069\n",
      "Thu                    0.9842      0.021     46.450      0.000       0.943       1.026\n",
      "Fri                    0.9049      0.021     43.019      0.000       0.864       0.946\n",
      "Sat                    0.2972      0.021     14.190      0.000       0.256       0.338\n",
      "Sun                    0.4035      0.025     16.399      0.000       0.355       0.452\n",
      "holiday               -0.6828      0.045    -15.265      0.000      -0.771      -0.595\n",
      "daylight_hrs           0.0399      0.008      5.233      0.000       0.025       0.055\n",
      "dry day                0.1649      0.018      8.933      0.000       0.129       0.201\n",
      "annual                 0.0332      0.010      3.407      0.001       0.014       0.052\n",
      "Winter                 0.2057      0.029      7.138      0.000       0.149       0.262\n",
      "Spring                 0.2079      0.037      5.649      0.000       0.136       0.280\n",
      "Summer                 0.2265      0.055      4.153      0.000       0.119       0.333\n",
      "Fall                   0.2870      0.039      7.360      0.000       0.210       0.363\n",
      "Dist_from_avg_temp    -0.0221      0.003     -7.351      0.000      -0.028      -0.016\n",
      "ideal_temp             0.1772      0.030      5.913      0.000       0.118       0.236\n",
      "log_AWND              -0.0313      0.016     -1.970      0.049      -0.062      -0.000\n",
      "==============================================================================\n",
      "Omnibus:                      171.466   Durbin-Watson:                   1.514\n",
      "Prob(Omnibus):                  0.000   Jarque-Bera (JB):              882.743\n",
      "Skew:                          -0.713   Prob(JB):                    2.06e-192\n",
      "Kurtosis:                       7.471   Cond. No.                     9.39e+16\n",
      "==============================================================================\n",
      "\n",
      "Warnings:\n",
      "[1] Standard Errors assume that the covariance matrix of the errors is correctly specified.\n",
      "[2] The smallest eigenvalue is 2.05e-29. This might indicate that there are\n",
      "strong multicollinearity problems or that the design matrix is singular.\n"
     ]
    }
   ],
   "source": [
    "model = sm.OLS(y_train, sm.add_constant(X_train))\n",
    "print(model.fit().summary())"
   ]
  },
  {
   "cell_type": "code",
   "execution_count": 81,
   "metadata": {},
   "outputs": [
    {
     "data": {
      "text/html": [
       "<div>\n",
       "<style scoped>\n",
       "    .dataframe tbody tr th:only-of-type {\n",
       "        vertical-align: middle;\n",
       "    }\n",
       "\n",
       "    .dataframe tbody tr th {\n",
       "        vertical-align: top;\n",
       "    }\n",
       "\n",
       "    .dataframe thead th {\n",
       "        text-align: right;\n",
       "    }\n",
       "</style>\n",
       "<table border=\"1\" class=\"dataframe\">\n",
       "  <thead>\n",
       "    <tr style=\"text-align: right;\">\n",
       "      <th></th>\n",
       "      <th>fit_time</th>\n",
       "      <th>score_time</th>\n",
       "      <th>test_score</th>\n",
       "      <th>train_score</th>\n",
       "    </tr>\n",
       "  </thead>\n",
       "  <tbody>\n",
       "    <tr>\n",
       "      <th>0</th>\n",
       "      <td>0.001995</td>\n",
       "      <td>0.0</td>\n",
       "      <td>-0.167599</td>\n",
       "      <td>-0.153314</td>\n",
       "    </tr>\n",
       "    <tr>\n",
       "      <th>1</th>\n",
       "      <td>0.001994</td>\n",
       "      <td>0.0</td>\n",
       "      <td>-0.175987</td>\n",
       "      <td>-0.157828</td>\n",
       "    </tr>\n",
       "    <tr>\n",
       "      <th>2</th>\n",
       "      <td>0.001995</td>\n",
       "      <td>0.0</td>\n",
       "      <td>-0.159034</td>\n",
       "      <td>-0.157292</td>\n",
       "    </tr>\n",
       "  </tbody>\n",
       "</table>\n",
       "</div>"
      ],
      "text/plain": [
       "   fit_time  score_time  test_score  train_score\n",
       "0  0.001995         0.0   -0.167599    -0.153314\n",
       "1  0.001994         0.0   -0.175987    -0.157828\n",
       "2  0.001995         0.0   -0.159034    -0.157292"
      ]
     },
     "execution_count": 81,
     "metadata": {},
     "output_type": "execute_result"
    }
   ],
   "source": [
    "scores = cross_validate(LinearRegression(), X_train, y_train, \n",
    "                        scoring='neg_mean_absolute_error', cv=3, \n",
    "                        return_train_score=True)\n",
    "\n",
    "pd.DataFrame(scores)"
   ]
  },
  {
   "cell_type": "code",
   "execution_count": 82,
   "metadata": {},
   "outputs": [
    {
     "ename": "KeyError",
     "evalue": "\"labels ['TMAX' 'TMIN'] not contained in axis\"",
     "output_type": "error",
     "traceback": [
      "\u001b[1;31m---------------------------------------------------------------------------\u001b[0m",
      "\u001b[1;31mKeyError\u001b[0m                                  Traceback (most recent call last)",
      "\u001b[1;32m<ipython-input-82-54844421e456>\u001b[0m in \u001b[0;36m<module>\u001b[1;34m()\u001b[0m\n\u001b[1;32m----> 1\u001b[1;33m \u001b[0mmodel\u001b[0m \u001b[1;33m=\u001b[0m \u001b[0msm\u001b[0m\u001b[1;33m.\u001b[0m\u001b[0mOLS\u001b[0m\u001b[1;33m(\u001b[0m\u001b[0my_train\u001b[0m\u001b[1;33m,\u001b[0m \u001b[0msm\u001b[0m\u001b[1;33m.\u001b[0m\u001b[0madd_constant\u001b[0m\u001b[1;33m(\u001b[0m\u001b[0mX_train\u001b[0m\u001b[1;33m.\u001b[0m\u001b[0mdrop\u001b[0m\u001b[1;33m(\u001b[0m\u001b[1;33m[\u001b[0m\u001b[1;34m\"TMAX\"\u001b[0m\u001b[1;33m,\u001b[0m\u001b[1;34m\"TMIN\"\u001b[0m\u001b[1;33m]\u001b[0m\u001b[1;33m,\u001b[0m\u001b[0maxis\u001b[0m\u001b[1;33m=\u001b[0m\u001b[1;36m1\u001b[0m\u001b[1;33m)\u001b[0m\u001b[1;33m)\u001b[0m\u001b[1;33m)\u001b[0m\u001b[1;33m\u001b[0m\u001b[0m\n\u001b[0m\u001b[0;32m      2\u001b[0m \u001b[0mprint\u001b[0m\u001b[1;33m(\u001b[0m\u001b[0mmodel\u001b[0m\u001b[1;33m.\u001b[0m\u001b[0mfit\u001b[0m\u001b[1;33m(\u001b[0m\u001b[1;33m)\u001b[0m\u001b[1;33m.\u001b[0m\u001b[0msummary\u001b[0m\u001b[1;33m(\u001b[0m\u001b[1;33m)\u001b[0m\u001b[1;33m)\u001b[0m\u001b[1;33m\u001b[0m\u001b[0m\n",
      "\u001b[1;32m~\\Anaconda3\\lib\\site-packages\\pandas\\core\\frame.py\u001b[0m in \u001b[0;36mdrop\u001b[1;34m(self, labels, axis, index, columns, level, inplace, errors)\u001b[0m\n\u001b[0;32m   3692\u001b[0m                                            \u001b[0mindex\u001b[0m\u001b[1;33m=\u001b[0m\u001b[0mindex\u001b[0m\u001b[1;33m,\u001b[0m \u001b[0mcolumns\u001b[0m\u001b[1;33m=\u001b[0m\u001b[0mcolumns\u001b[0m\u001b[1;33m,\u001b[0m\u001b[1;33m\u001b[0m\u001b[0m\n\u001b[0;32m   3693\u001b[0m                                            \u001b[0mlevel\u001b[0m\u001b[1;33m=\u001b[0m\u001b[0mlevel\u001b[0m\u001b[1;33m,\u001b[0m \u001b[0minplace\u001b[0m\u001b[1;33m=\u001b[0m\u001b[0minplace\u001b[0m\u001b[1;33m,\u001b[0m\u001b[1;33m\u001b[0m\u001b[0m\n\u001b[1;32m-> 3694\u001b[1;33m                                            errors=errors)\n\u001b[0m\u001b[0;32m   3695\u001b[0m \u001b[1;33m\u001b[0m\u001b[0m\n\u001b[0;32m   3696\u001b[0m     @rewrite_axis_style_signature('mapper', [('copy', True),\n",
      "\u001b[1;32m~\\Anaconda3\\lib\\site-packages\\pandas\\core\\generic.py\u001b[0m in \u001b[0;36mdrop\u001b[1;34m(self, labels, axis, index, columns, level, inplace, errors)\u001b[0m\n\u001b[0;32m   3106\u001b[0m         \u001b[1;32mfor\u001b[0m \u001b[0maxis\u001b[0m\u001b[1;33m,\u001b[0m \u001b[0mlabels\u001b[0m \u001b[1;32min\u001b[0m \u001b[0maxes\u001b[0m\u001b[1;33m.\u001b[0m\u001b[0mitems\u001b[0m\u001b[1;33m(\u001b[0m\u001b[1;33m)\u001b[0m\u001b[1;33m:\u001b[0m\u001b[1;33m\u001b[0m\u001b[0m\n\u001b[0;32m   3107\u001b[0m             \u001b[1;32mif\u001b[0m \u001b[0mlabels\u001b[0m \u001b[1;32mis\u001b[0m \u001b[1;32mnot\u001b[0m \u001b[1;32mNone\u001b[0m\u001b[1;33m:\u001b[0m\u001b[1;33m\u001b[0m\u001b[0m\n\u001b[1;32m-> 3108\u001b[1;33m                 \u001b[0mobj\u001b[0m \u001b[1;33m=\u001b[0m \u001b[0mobj\u001b[0m\u001b[1;33m.\u001b[0m\u001b[0m_drop_axis\u001b[0m\u001b[1;33m(\u001b[0m\u001b[0mlabels\u001b[0m\u001b[1;33m,\u001b[0m \u001b[0maxis\u001b[0m\u001b[1;33m,\u001b[0m \u001b[0mlevel\u001b[0m\u001b[1;33m=\u001b[0m\u001b[0mlevel\u001b[0m\u001b[1;33m,\u001b[0m \u001b[0merrors\u001b[0m\u001b[1;33m=\u001b[0m\u001b[0merrors\u001b[0m\u001b[1;33m)\u001b[0m\u001b[1;33m\u001b[0m\u001b[0m\n\u001b[0m\u001b[0;32m   3109\u001b[0m \u001b[1;33m\u001b[0m\u001b[0m\n\u001b[0;32m   3110\u001b[0m         \u001b[1;32mif\u001b[0m \u001b[0minplace\u001b[0m\u001b[1;33m:\u001b[0m\u001b[1;33m\u001b[0m\u001b[0m\n",
      "\u001b[1;32m~\\Anaconda3\\lib\\site-packages\\pandas\\core\\generic.py\u001b[0m in \u001b[0;36m_drop_axis\u001b[1;34m(self, labels, axis, level, errors)\u001b[0m\n\u001b[0;32m   3138\u001b[0m                 \u001b[0mnew_axis\u001b[0m \u001b[1;33m=\u001b[0m \u001b[0maxis\u001b[0m\u001b[1;33m.\u001b[0m\u001b[0mdrop\u001b[0m\u001b[1;33m(\u001b[0m\u001b[0mlabels\u001b[0m\u001b[1;33m,\u001b[0m \u001b[0mlevel\u001b[0m\u001b[1;33m=\u001b[0m\u001b[0mlevel\u001b[0m\u001b[1;33m,\u001b[0m \u001b[0merrors\u001b[0m\u001b[1;33m=\u001b[0m\u001b[0merrors\u001b[0m\u001b[1;33m)\u001b[0m\u001b[1;33m\u001b[0m\u001b[0m\n\u001b[0;32m   3139\u001b[0m             \u001b[1;32melse\u001b[0m\u001b[1;33m:\u001b[0m\u001b[1;33m\u001b[0m\u001b[0m\n\u001b[1;32m-> 3140\u001b[1;33m                 \u001b[0mnew_axis\u001b[0m \u001b[1;33m=\u001b[0m \u001b[0maxis\u001b[0m\u001b[1;33m.\u001b[0m\u001b[0mdrop\u001b[0m\u001b[1;33m(\u001b[0m\u001b[0mlabels\u001b[0m\u001b[1;33m,\u001b[0m \u001b[0merrors\u001b[0m\u001b[1;33m=\u001b[0m\u001b[0merrors\u001b[0m\u001b[1;33m)\u001b[0m\u001b[1;33m\u001b[0m\u001b[0m\n\u001b[0m\u001b[0;32m   3141\u001b[0m             \u001b[0mdropped\u001b[0m \u001b[1;33m=\u001b[0m \u001b[0mself\u001b[0m\u001b[1;33m.\u001b[0m\u001b[0mreindex\u001b[0m\u001b[1;33m(\u001b[0m\u001b[1;33m**\u001b[0m\u001b[1;33m{\u001b[0m\u001b[0maxis_name\u001b[0m\u001b[1;33m:\u001b[0m \u001b[0mnew_axis\u001b[0m\u001b[1;33m}\u001b[0m\u001b[1;33m)\u001b[0m\u001b[1;33m\u001b[0m\u001b[0m\n\u001b[0;32m   3142\u001b[0m             \u001b[1;32mtry\u001b[0m\u001b[1;33m:\u001b[0m\u001b[1;33m\u001b[0m\u001b[0m\n",
      "\u001b[1;32m~\\Anaconda3\\lib\\site-packages\\pandas\\core\\indexes\\base.py\u001b[0m in \u001b[0;36mdrop\u001b[1;34m(self, labels, errors)\u001b[0m\n\u001b[0;32m   4385\u001b[0m             \u001b[1;32mif\u001b[0m \u001b[0merrors\u001b[0m \u001b[1;33m!=\u001b[0m \u001b[1;34m'ignore'\u001b[0m\u001b[1;33m:\u001b[0m\u001b[1;33m\u001b[0m\u001b[0m\n\u001b[0;32m   4386\u001b[0m                 raise KeyError(\n\u001b[1;32m-> 4387\u001b[1;33m                     'labels %s not contained in axis' % labels[mask])\n\u001b[0m\u001b[0;32m   4388\u001b[0m             \u001b[0mindexer\u001b[0m \u001b[1;33m=\u001b[0m \u001b[0mindexer\u001b[0m\u001b[1;33m[\u001b[0m\u001b[1;33m~\u001b[0m\u001b[0mmask\u001b[0m\u001b[1;33m]\u001b[0m\u001b[1;33m\u001b[0m\u001b[0m\n\u001b[0;32m   4389\u001b[0m         \u001b[1;32mreturn\u001b[0m \u001b[0mself\u001b[0m\u001b[1;33m.\u001b[0m\u001b[0mdelete\u001b[0m\u001b[1;33m(\u001b[0m\u001b[0mindexer\u001b[0m\u001b[1;33m)\u001b[0m\u001b[1;33m\u001b[0m\u001b[0m\n",
      "\u001b[1;31mKeyError\u001b[0m: \"labels ['TMAX' 'TMIN'] not contained in axis\""
     ]
    }
   ],
   "source": [
    "model = sm.OLS(y_train, sm.add_constant(X_train.drop([\"TMAX\",\"TMIN\"],axis=1)))\n",
    "print(model.fit().summary())"
   ]
  },
  {
   "cell_type": "markdown",
   "metadata": {},
   "source": [
    "## Drop TMIN, TMAX"
   ]
  },
  {
   "cell_type": "code",
   "execution_count": 83,
   "metadata": {},
   "outputs": [
    {
     "ename": "KeyError",
     "evalue": "\"labels ['TMIN' 'TMAX'] not contained in axis\"",
     "output_type": "error",
     "traceback": [
      "\u001b[1;31m---------------------------------------------------------------------------\u001b[0m",
      "\u001b[1;31mKeyError\u001b[0m                                  Traceback (most recent call last)",
      "\u001b[1;32m<ipython-input-83-8f885c2b94cc>\u001b[0m in \u001b[0;36m<module>\u001b[1;34m()\u001b[0m\n\u001b[1;32m----> 1\u001b[1;33m \u001b[0mX_train\u001b[0m\u001b[1;33m=\u001b[0m\u001b[0mX_train\u001b[0m\u001b[1;33m.\u001b[0m\u001b[0mdrop\u001b[0m\u001b[1;33m(\u001b[0m\u001b[1;33m[\u001b[0m\u001b[1;34m\"TMIN\"\u001b[0m\u001b[1;33m,\u001b[0m\u001b[1;34m\"TMAX\"\u001b[0m\u001b[1;33m]\u001b[0m\u001b[1;33m,\u001b[0m\u001b[0maxis\u001b[0m\u001b[1;33m=\u001b[0m\u001b[1;36m1\u001b[0m\u001b[1;33m)\u001b[0m\u001b[1;33m\u001b[0m\u001b[0m\n\u001b[0m",
      "\u001b[1;32m~\\Anaconda3\\lib\\site-packages\\pandas\\core\\frame.py\u001b[0m in \u001b[0;36mdrop\u001b[1;34m(self, labels, axis, index, columns, level, inplace, errors)\u001b[0m\n\u001b[0;32m   3692\u001b[0m                                            \u001b[0mindex\u001b[0m\u001b[1;33m=\u001b[0m\u001b[0mindex\u001b[0m\u001b[1;33m,\u001b[0m \u001b[0mcolumns\u001b[0m\u001b[1;33m=\u001b[0m\u001b[0mcolumns\u001b[0m\u001b[1;33m,\u001b[0m\u001b[1;33m\u001b[0m\u001b[0m\n\u001b[0;32m   3693\u001b[0m                                            \u001b[0mlevel\u001b[0m\u001b[1;33m=\u001b[0m\u001b[0mlevel\u001b[0m\u001b[1;33m,\u001b[0m \u001b[0minplace\u001b[0m\u001b[1;33m=\u001b[0m\u001b[0minplace\u001b[0m\u001b[1;33m,\u001b[0m\u001b[1;33m\u001b[0m\u001b[0m\n\u001b[1;32m-> 3694\u001b[1;33m                                            errors=errors)\n\u001b[0m\u001b[0;32m   3695\u001b[0m \u001b[1;33m\u001b[0m\u001b[0m\n\u001b[0;32m   3696\u001b[0m     @rewrite_axis_style_signature('mapper', [('copy', True),\n",
      "\u001b[1;32m~\\Anaconda3\\lib\\site-packages\\pandas\\core\\generic.py\u001b[0m in \u001b[0;36mdrop\u001b[1;34m(self, labels, axis, index, columns, level, inplace, errors)\u001b[0m\n\u001b[0;32m   3106\u001b[0m         \u001b[1;32mfor\u001b[0m \u001b[0maxis\u001b[0m\u001b[1;33m,\u001b[0m \u001b[0mlabels\u001b[0m \u001b[1;32min\u001b[0m \u001b[0maxes\u001b[0m\u001b[1;33m.\u001b[0m\u001b[0mitems\u001b[0m\u001b[1;33m(\u001b[0m\u001b[1;33m)\u001b[0m\u001b[1;33m:\u001b[0m\u001b[1;33m\u001b[0m\u001b[0m\n\u001b[0;32m   3107\u001b[0m             \u001b[1;32mif\u001b[0m \u001b[0mlabels\u001b[0m \u001b[1;32mis\u001b[0m \u001b[1;32mnot\u001b[0m \u001b[1;32mNone\u001b[0m\u001b[1;33m:\u001b[0m\u001b[1;33m\u001b[0m\u001b[0m\n\u001b[1;32m-> 3108\u001b[1;33m                 \u001b[0mobj\u001b[0m \u001b[1;33m=\u001b[0m \u001b[0mobj\u001b[0m\u001b[1;33m.\u001b[0m\u001b[0m_drop_axis\u001b[0m\u001b[1;33m(\u001b[0m\u001b[0mlabels\u001b[0m\u001b[1;33m,\u001b[0m \u001b[0maxis\u001b[0m\u001b[1;33m,\u001b[0m \u001b[0mlevel\u001b[0m\u001b[1;33m=\u001b[0m\u001b[0mlevel\u001b[0m\u001b[1;33m,\u001b[0m \u001b[0merrors\u001b[0m\u001b[1;33m=\u001b[0m\u001b[0merrors\u001b[0m\u001b[1;33m)\u001b[0m\u001b[1;33m\u001b[0m\u001b[0m\n\u001b[0m\u001b[0;32m   3109\u001b[0m \u001b[1;33m\u001b[0m\u001b[0m\n\u001b[0;32m   3110\u001b[0m         \u001b[1;32mif\u001b[0m \u001b[0minplace\u001b[0m\u001b[1;33m:\u001b[0m\u001b[1;33m\u001b[0m\u001b[0m\n",
      "\u001b[1;32m~\\Anaconda3\\lib\\site-packages\\pandas\\core\\generic.py\u001b[0m in \u001b[0;36m_drop_axis\u001b[1;34m(self, labels, axis, level, errors)\u001b[0m\n\u001b[0;32m   3138\u001b[0m                 \u001b[0mnew_axis\u001b[0m \u001b[1;33m=\u001b[0m \u001b[0maxis\u001b[0m\u001b[1;33m.\u001b[0m\u001b[0mdrop\u001b[0m\u001b[1;33m(\u001b[0m\u001b[0mlabels\u001b[0m\u001b[1;33m,\u001b[0m \u001b[0mlevel\u001b[0m\u001b[1;33m=\u001b[0m\u001b[0mlevel\u001b[0m\u001b[1;33m,\u001b[0m \u001b[0merrors\u001b[0m\u001b[1;33m=\u001b[0m\u001b[0merrors\u001b[0m\u001b[1;33m)\u001b[0m\u001b[1;33m\u001b[0m\u001b[0m\n\u001b[0;32m   3139\u001b[0m             \u001b[1;32melse\u001b[0m\u001b[1;33m:\u001b[0m\u001b[1;33m\u001b[0m\u001b[0m\n\u001b[1;32m-> 3140\u001b[1;33m                 \u001b[0mnew_axis\u001b[0m \u001b[1;33m=\u001b[0m \u001b[0maxis\u001b[0m\u001b[1;33m.\u001b[0m\u001b[0mdrop\u001b[0m\u001b[1;33m(\u001b[0m\u001b[0mlabels\u001b[0m\u001b[1;33m,\u001b[0m \u001b[0merrors\u001b[0m\u001b[1;33m=\u001b[0m\u001b[0merrors\u001b[0m\u001b[1;33m)\u001b[0m\u001b[1;33m\u001b[0m\u001b[0m\n\u001b[0m\u001b[0;32m   3141\u001b[0m             \u001b[0mdropped\u001b[0m \u001b[1;33m=\u001b[0m \u001b[0mself\u001b[0m\u001b[1;33m.\u001b[0m\u001b[0mreindex\u001b[0m\u001b[1;33m(\u001b[0m\u001b[1;33m**\u001b[0m\u001b[1;33m{\u001b[0m\u001b[0maxis_name\u001b[0m\u001b[1;33m:\u001b[0m \u001b[0mnew_axis\u001b[0m\u001b[1;33m}\u001b[0m\u001b[1;33m)\u001b[0m\u001b[1;33m\u001b[0m\u001b[0m\n\u001b[0;32m   3142\u001b[0m             \u001b[1;32mtry\u001b[0m\u001b[1;33m:\u001b[0m\u001b[1;33m\u001b[0m\u001b[0m\n",
      "\u001b[1;32m~\\Anaconda3\\lib\\site-packages\\pandas\\core\\indexes\\base.py\u001b[0m in \u001b[0;36mdrop\u001b[1;34m(self, labels, errors)\u001b[0m\n\u001b[0;32m   4385\u001b[0m             \u001b[1;32mif\u001b[0m \u001b[0merrors\u001b[0m \u001b[1;33m!=\u001b[0m \u001b[1;34m'ignore'\u001b[0m\u001b[1;33m:\u001b[0m\u001b[1;33m\u001b[0m\u001b[0m\n\u001b[0;32m   4386\u001b[0m                 raise KeyError(\n\u001b[1;32m-> 4387\u001b[1;33m                     'labels %s not contained in axis' % labels[mask])\n\u001b[0m\u001b[0;32m   4388\u001b[0m             \u001b[0mindexer\u001b[0m \u001b[1;33m=\u001b[0m \u001b[0mindexer\u001b[0m\u001b[1;33m[\u001b[0m\u001b[1;33m~\u001b[0m\u001b[0mmask\u001b[0m\u001b[1;33m]\u001b[0m\u001b[1;33m\u001b[0m\u001b[0m\n\u001b[0;32m   4389\u001b[0m         \u001b[1;32mreturn\u001b[0m \u001b[0mself\u001b[0m\u001b[1;33m.\u001b[0m\u001b[0mdelete\u001b[0m\u001b[1;33m(\u001b[0m\u001b[0mindexer\u001b[0m\u001b[1;33m)\u001b[0m\u001b[1;33m\u001b[0m\u001b[0m\n",
      "\u001b[1;31mKeyError\u001b[0m: \"labels ['TMIN' 'TMAX'] not contained in axis\""
     ]
    }
   ],
   "source": [
    "X_train=X_train.drop([\"TMIN\",\"TMAX\"],axis=1)"
   ]
  },
  {
   "cell_type": "code",
   "execution_count": 84,
   "metadata": {},
   "outputs": [
    {
     "ename": "KeyError",
     "evalue": "'AWND'",
     "output_type": "error",
     "traceback": [
      "\u001b[1;31m---------------------------------------------------------------------------\u001b[0m",
      "\u001b[1;31mKeyError\u001b[0m                                  Traceback (most recent call last)",
      "\u001b[1;32m~\\Anaconda3\\lib\\site-packages\\pandas\\core\\indexes\\base.py\u001b[0m in \u001b[0;36mget_loc\u001b[1;34m(self, key, method, tolerance)\u001b[0m\n\u001b[0;32m   3062\u001b[0m             \u001b[1;32mtry\u001b[0m\u001b[1;33m:\u001b[0m\u001b[1;33m\u001b[0m\u001b[0m\n\u001b[1;32m-> 3063\u001b[1;33m                 \u001b[1;32mreturn\u001b[0m \u001b[0mself\u001b[0m\u001b[1;33m.\u001b[0m\u001b[0m_engine\u001b[0m\u001b[1;33m.\u001b[0m\u001b[0mget_loc\u001b[0m\u001b[1;33m(\u001b[0m\u001b[0mkey\u001b[0m\u001b[1;33m)\u001b[0m\u001b[1;33m\u001b[0m\u001b[0m\n\u001b[0m\u001b[0;32m   3064\u001b[0m             \u001b[1;32mexcept\u001b[0m \u001b[0mKeyError\u001b[0m\u001b[1;33m:\u001b[0m\u001b[1;33m\u001b[0m\u001b[0m\n",
      "\u001b[1;32mpandas\\_libs\\index.pyx\u001b[0m in \u001b[0;36mpandas._libs.index.IndexEngine.get_loc\u001b[1;34m()\u001b[0m\n",
      "\u001b[1;32mpandas\\_libs\\index.pyx\u001b[0m in \u001b[0;36mpandas._libs.index.IndexEngine.get_loc\u001b[1;34m()\u001b[0m\n",
      "\u001b[1;32mpandas\\_libs\\hashtable_class_helper.pxi\u001b[0m in \u001b[0;36mpandas._libs.hashtable.PyObjectHashTable.get_item\u001b[1;34m()\u001b[0m\n",
      "\u001b[1;32mpandas\\_libs\\hashtable_class_helper.pxi\u001b[0m in \u001b[0;36mpandas._libs.hashtable.PyObjectHashTable.get_item\u001b[1;34m()\u001b[0m\n",
      "\u001b[1;31mKeyError\u001b[0m: 'AWND'",
      "\nDuring handling of the above exception, another exception occurred:\n",
      "\u001b[1;31mKeyError\u001b[0m                                  Traceback (most recent call last)",
      "\u001b[1;32m<ipython-input-84-ddafc6e98686>\u001b[0m in \u001b[0;36m<module>\u001b[1;34m()\u001b[0m\n\u001b[1;32m----> 1\u001b[1;33m \u001b[0msns\u001b[0m\u001b[1;33m.\u001b[0m\u001b[0mdistplot\u001b[0m\u001b[1;33m(\u001b[0m\u001b[0mnp\u001b[0m\u001b[1;33m.\u001b[0m\u001b[0mlog\u001b[0m\u001b[1;33m(\u001b[0m\u001b[0mX_train\u001b[0m\u001b[1;33m[\u001b[0m\u001b[1;34m\"AWND\"\u001b[0m\u001b[1;33m]\u001b[0m\u001b[1;33m)\u001b[0m\u001b[1;33m)\u001b[0m\u001b[1;33m\u001b[0m\u001b[0m\n\u001b[0m",
      "\u001b[1;32m~\\Anaconda3\\lib\\site-packages\\pandas\\core\\frame.py\u001b[0m in \u001b[0;36m__getitem__\u001b[1;34m(self, key)\u001b[0m\n\u001b[0;32m   2683\u001b[0m             \u001b[1;32mreturn\u001b[0m \u001b[0mself\u001b[0m\u001b[1;33m.\u001b[0m\u001b[0m_getitem_multilevel\u001b[0m\u001b[1;33m(\u001b[0m\u001b[0mkey\u001b[0m\u001b[1;33m)\u001b[0m\u001b[1;33m\u001b[0m\u001b[0m\n\u001b[0;32m   2684\u001b[0m         \u001b[1;32melse\u001b[0m\u001b[1;33m:\u001b[0m\u001b[1;33m\u001b[0m\u001b[0m\n\u001b[1;32m-> 2685\u001b[1;33m             \u001b[1;32mreturn\u001b[0m \u001b[0mself\u001b[0m\u001b[1;33m.\u001b[0m\u001b[0m_getitem_column\u001b[0m\u001b[1;33m(\u001b[0m\u001b[0mkey\u001b[0m\u001b[1;33m)\u001b[0m\u001b[1;33m\u001b[0m\u001b[0m\n\u001b[0m\u001b[0;32m   2686\u001b[0m \u001b[1;33m\u001b[0m\u001b[0m\n\u001b[0;32m   2687\u001b[0m     \u001b[1;32mdef\u001b[0m \u001b[0m_getitem_column\u001b[0m\u001b[1;33m(\u001b[0m\u001b[0mself\u001b[0m\u001b[1;33m,\u001b[0m \u001b[0mkey\u001b[0m\u001b[1;33m)\u001b[0m\u001b[1;33m:\u001b[0m\u001b[1;33m\u001b[0m\u001b[0m\n",
      "\u001b[1;32m~\\Anaconda3\\lib\\site-packages\\pandas\\core\\frame.py\u001b[0m in \u001b[0;36m_getitem_column\u001b[1;34m(self, key)\u001b[0m\n\u001b[0;32m   2690\u001b[0m         \u001b[1;31m# get column\u001b[0m\u001b[1;33m\u001b[0m\u001b[1;33m\u001b[0m\u001b[0m\n\u001b[0;32m   2691\u001b[0m         \u001b[1;32mif\u001b[0m \u001b[0mself\u001b[0m\u001b[1;33m.\u001b[0m\u001b[0mcolumns\u001b[0m\u001b[1;33m.\u001b[0m\u001b[0mis_unique\u001b[0m\u001b[1;33m:\u001b[0m\u001b[1;33m\u001b[0m\u001b[0m\n\u001b[1;32m-> 2692\u001b[1;33m             \u001b[1;32mreturn\u001b[0m \u001b[0mself\u001b[0m\u001b[1;33m.\u001b[0m\u001b[0m_get_item_cache\u001b[0m\u001b[1;33m(\u001b[0m\u001b[0mkey\u001b[0m\u001b[1;33m)\u001b[0m\u001b[1;33m\u001b[0m\u001b[0m\n\u001b[0m\u001b[0;32m   2693\u001b[0m \u001b[1;33m\u001b[0m\u001b[0m\n\u001b[0;32m   2694\u001b[0m         \u001b[1;31m# duplicate columns & possible reduce dimensionality\u001b[0m\u001b[1;33m\u001b[0m\u001b[1;33m\u001b[0m\u001b[0m\n",
      "\u001b[1;32m~\\Anaconda3\\lib\\site-packages\\pandas\\core\\generic.py\u001b[0m in \u001b[0;36m_get_item_cache\u001b[1;34m(self, item)\u001b[0m\n\u001b[0;32m   2484\u001b[0m         \u001b[0mres\u001b[0m \u001b[1;33m=\u001b[0m \u001b[0mcache\u001b[0m\u001b[1;33m.\u001b[0m\u001b[0mget\u001b[0m\u001b[1;33m(\u001b[0m\u001b[0mitem\u001b[0m\u001b[1;33m)\u001b[0m\u001b[1;33m\u001b[0m\u001b[0m\n\u001b[0;32m   2485\u001b[0m         \u001b[1;32mif\u001b[0m \u001b[0mres\u001b[0m \u001b[1;32mis\u001b[0m \u001b[1;32mNone\u001b[0m\u001b[1;33m:\u001b[0m\u001b[1;33m\u001b[0m\u001b[0m\n\u001b[1;32m-> 2486\u001b[1;33m             \u001b[0mvalues\u001b[0m \u001b[1;33m=\u001b[0m \u001b[0mself\u001b[0m\u001b[1;33m.\u001b[0m\u001b[0m_data\u001b[0m\u001b[1;33m.\u001b[0m\u001b[0mget\u001b[0m\u001b[1;33m(\u001b[0m\u001b[0mitem\u001b[0m\u001b[1;33m)\u001b[0m\u001b[1;33m\u001b[0m\u001b[0m\n\u001b[0m\u001b[0;32m   2487\u001b[0m             \u001b[0mres\u001b[0m \u001b[1;33m=\u001b[0m \u001b[0mself\u001b[0m\u001b[1;33m.\u001b[0m\u001b[0m_box_item_values\u001b[0m\u001b[1;33m(\u001b[0m\u001b[0mitem\u001b[0m\u001b[1;33m,\u001b[0m \u001b[0mvalues\u001b[0m\u001b[1;33m)\u001b[0m\u001b[1;33m\u001b[0m\u001b[0m\n\u001b[0;32m   2488\u001b[0m             \u001b[0mcache\u001b[0m\u001b[1;33m[\u001b[0m\u001b[0mitem\u001b[0m\u001b[1;33m]\u001b[0m \u001b[1;33m=\u001b[0m \u001b[0mres\u001b[0m\u001b[1;33m\u001b[0m\u001b[0m\n",
      "\u001b[1;32m~\\Anaconda3\\lib\\site-packages\\pandas\\core\\internals.py\u001b[0m in \u001b[0;36mget\u001b[1;34m(self, item, fastpath)\u001b[0m\n\u001b[0;32m   4113\u001b[0m \u001b[1;33m\u001b[0m\u001b[0m\n\u001b[0;32m   4114\u001b[0m             \u001b[1;32mif\u001b[0m \u001b[1;32mnot\u001b[0m \u001b[0misna\u001b[0m\u001b[1;33m(\u001b[0m\u001b[0mitem\u001b[0m\u001b[1;33m)\u001b[0m\u001b[1;33m:\u001b[0m\u001b[1;33m\u001b[0m\u001b[0m\n\u001b[1;32m-> 4115\u001b[1;33m                 \u001b[0mloc\u001b[0m \u001b[1;33m=\u001b[0m \u001b[0mself\u001b[0m\u001b[1;33m.\u001b[0m\u001b[0mitems\u001b[0m\u001b[1;33m.\u001b[0m\u001b[0mget_loc\u001b[0m\u001b[1;33m(\u001b[0m\u001b[0mitem\u001b[0m\u001b[1;33m)\u001b[0m\u001b[1;33m\u001b[0m\u001b[0m\n\u001b[0m\u001b[0;32m   4116\u001b[0m             \u001b[1;32melse\u001b[0m\u001b[1;33m:\u001b[0m\u001b[1;33m\u001b[0m\u001b[0m\n\u001b[0;32m   4117\u001b[0m                 \u001b[0mindexer\u001b[0m \u001b[1;33m=\u001b[0m \u001b[0mnp\u001b[0m\u001b[1;33m.\u001b[0m\u001b[0marange\u001b[0m\u001b[1;33m(\u001b[0m\u001b[0mlen\u001b[0m\u001b[1;33m(\u001b[0m\u001b[0mself\u001b[0m\u001b[1;33m.\u001b[0m\u001b[0mitems\u001b[0m\u001b[1;33m)\u001b[0m\u001b[1;33m)\u001b[0m\u001b[1;33m[\u001b[0m\u001b[0misna\u001b[0m\u001b[1;33m(\u001b[0m\u001b[0mself\u001b[0m\u001b[1;33m.\u001b[0m\u001b[0mitems\u001b[0m\u001b[1;33m)\u001b[0m\u001b[1;33m]\u001b[0m\u001b[1;33m\u001b[0m\u001b[0m\n",
      "\u001b[1;32m~\\Anaconda3\\lib\\site-packages\\pandas\\core\\indexes\\base.py\u001b[0m in \u001b[0;36mget_loc\u001b[1;34m(self, key, method, tolerance)\u001b[0m\n\u001b[0;32m   3063\u001b[0m                 \u001b[1;32mreturn\u001b[0m \u001b[0mself\u001b[0m\u001b[1;33m.\u001b[0m\u001b[0m_engine\u001b[0m\u001b[1;33m.\u001b[0m\u001b[0mget_loc\u001b[0m\u001b[1;33m(\u001b[0m\u001b[0mkey\u001b[0m\u001b[1;33m)\u001b[0m\u001b[1;33m\u001b[0m\u001b[0m\n\u001b[0;32m   3064\u001b[0m             \u001b[1;32mexcept\u001b[0m \u001b[0mKeyError\u001b[0m\u001b[1;33m:\u001b[0m\u001b[1;33m\u001b[0m\u001b[0m\n\u001b[1;32m-> 3065\u001b[1;33m                 \u001b[1;32mreturn\u001b[0m \u001b[0mself\u001b[0m\u001b[1;33m.\u001b[0m\u001b[0m_engine\u001b[0m\u001b[1;33m.\u001b[0m\u001b[0mget_loc\u001b[0m\u001b[1;33m(\u001b[0m\u001b[0mself\u001b[0m\u001b[1;33m.\u001b[0m\u001b[0m_maybe_cast_indexer\u001b[0m\u001b[1;33m(\u001b[0m\u001b[0mkey\u001b[0m\u001b[1;33m)\u001b[0m\u001b[1;33m)\u001b[0m\u001b[1;33m\u001b[0m\u001b[0m\n\u001b[0m\u001b[0;32m   3066\u001b[0m \u001b[1;33m\u001b[0m\u001b[0m\n\u001b[0;32m   3067\u001b[0m         \u001b[0mindexer\u001b[0m \u001b[1;33m=\u001b[0m \u001b[0mself\u001b[0m\u001b[1;33m.\u001b[0m\u001b[0mget_indexer\u001b[0m\u001b[1;33m(\u001b[0m\u001b[1;33m[\u001b[0m\u001b[0mkey\u001b[0m\u001b[1;33m]\u001b[0m\u001b[1;33m,\u001b[0m \u001b[0mmethod\u001b[0m\u001b[1;33m=\u001b[0m\u001b[0mmethod\u001b[0m\u001b[1;33m,\u001b[0m \u001b[0mtolerance\u001b[0m\u001b[1;33m=\u001b[0m\u001b[0mtolerance\u001b[0m\u001b[1;33m)\u001b[0m\u001b[1;33m\u001b[0m\u001b[0m\n",
      "\u001b[1;32mpandas\\_libs\\index.pyx\u001b[0m in \u001b[0;36mpandas._libs.index.IndexEngine.get_loc\u001b[1;34m()\u001b[0m\n",
      "\u001b[1;32mpandas\\_libs\\index.pyx\u001b[0m in \u001b[0;36mpandas._libs.index.IndexEngine.get_loc\u001b[1;34m()\u001b[0m\n",
      "\u001b[1;32mpandas\\_libs\\hashtable_class_helper.pxi\u001b[0m in \u001b[0;36mpandas._libs.hashtable.PyObjectHashTable.get_item\u001b[1;34m()\u001b[0m\n",
      "\u001b[1;32mpandas\\_libs\\hashtable_class_helper.pxi\u001b[0m in \u001b[0;36mpandas._libs.hashtable.PyObjectHashTable.get_item\u001b[1;34m()\u001b[0m\n",
      "\u001b[1;31mKeyError\u001b[0m: 'AWND'"
     ]
    }
   ],
   "source": [
    "sns.distplot(np.log(X_train[\"AWND\"]))"
   ]
  },
  {
   "cell_type": "code",
   "execution_count": 85,
   "metadata": {},
   "outputs": [
    {
     "ename": "KeyError",
     "evalue": "'AWND'",
     "output_type": "error",
     "traceback": [
      "\u001b[1;31m---------------------------------------------------------------------------\u001b[0m",
      "\u001b[1;31mKeyError\u001b[0m                                  Traceback (most recent call last)",
      "\u001b[1;32m~\\Anaconda3\\lib\\site-packages\\pandas\\core\\indexes\\base.py\u001b[0m in \u001b[0;36mget_loc\u001b[1;34m(self, key, method, tolerance)\u001b[0m\n\u001b[0;32m   3062\u001b[0m             \u001b[1;32mtry\u001b[0m\u001b[1;33m:\u001b[0m\u001b[1;33m\u001b[0m\u001b[0m\n\u001b[1;32m-> 3063\u001b[1;33m                 \u001b[1;32mreturn\u001b[0m \u001b[0mself\u001b[0m\u001b[1;33m.\u001b[0m\u001b[0m_engine\u001b[0m\u001b[1;33m.\u001b[0m\u001b[0mget_loc\u001b[0m\u001b[1;33m(\u001b[0m\u001b[0mkey\u001b[0m\u001b[1;33m)\u001b[0m\u001b[1;33m\u001b[0m\u001b[0m\n\u001b[0m\u001b[0;32m   3064\u001b[0m             \u001b[1;32mexcept\u001b[0m \u001b[0mKeyError\u001b[0m\u001b[1;33m:\u001b[0m\u001b[1;33m\u001b[0m\u001b[0m\n",
      "\u001b[1;32mpandas\\_libs\\index.pyx\u001b[0m in \u001b[0;36mpandas._libs.index.IndexEngine.get_loc\u001b[1;34m()\u001b[0m\n",
      "\u001b[1;32mpandas\\_libs\\index.pyx\u001b[0m in \u001b[0;36mpandas._libs.index.IndexEngine.get_loc\u001b[1;34m()\u001b[0m\n",
      "\u001b[1;32mpandas\\_libs\\hashtable_class_helper.pxi\u001b[0m in \u001b[0;36mpandas._libs.hashtable.PyObjectHashTable.get_item\u001b[1;34m()\u001b[0m\n",
      "\u001b[1;32mpandas\\_libs\\hashtable_class_helper.pxi\u001b[0m in \u001b[0;36mpandas._libs.hashtable.PyObjectHashTable.get_item\u001b[1;34m()\u001b[0m\n",
      "\u001b[1;31mKeyError\u001b[0m: 'AWND'",
      "\nDuring handling of the above exception, another exception occurred:\n",
      "\u001b[1;31mKeyError\u001b[0m                                  Traceback (most recent call last)",
      "\u001b[1;32m<ipython-input-85-ce21d84f78c3>\u001b[0m in \u001b[0;36m<module>\u001b[1;34m()\u001b[0m\n\u001b[1;32m----> 1\u001b[1;33m \u001b[0mX_train\u001b[0m\u001b[1;33m[\u001b[0m\u001b[1;34m\"log_AWND\"\u001b[0m\u001b[1;33m]\u001b[0m \u001b[1;33m=\u001b[0m \u001b[0mnp\u001b[0m\u001b[1;33m.\u001b[0m\u001b[0mlog\u001b[0m\u001b[1;33m(\u001b[0m\u001b[0mX_train\u001b[0m\u001b[1;33m[\u001b[0m\u001b[1;34m\"AWND\"\u001b[0m\u001b[1;33m]\u001b[0m\u001b[1;33m)\u001b[0m\u001b[1;33m\u001b[0m\u001b[0m\n\u001b[0m",
      "\u001b[1;32m~\\Anaconda3\\lib\\site-packages\\pandas\\core\\frame.py\u001b[0m in \u001b[0;36m__getitem__\u001b[1;34m(self, key)\u001b[0m\n\u001b[0;32m   2683\u001b[0m             \u001b[1;32mreturn\u001b[0m \u001b[0mself\u001b[0m\u001b[1;33m.\u001b[0m\u001b[0m_getitem_multilevel\u001b[0m\u001b[1;33m(\u001b[0m\u001b[0mkey\u001b[0m\u001b[1;33m)\u001b[0m\u001b[1;33m\u001b[0m\u001b[0m\n\u001b[0;32m   2684\u001b[0m         \u001b[1;32melse\u001b[0m\u001b[1;33m:\u001b[0m\u001b[1;33m\u001b[0m\u001b[0m\n\u001b[1;32m-> 2685\u001b[1;33m             \u001b[1;32mreturn\u001b[0m \u001b[0mself\u001b[0m\u001b[1;33m.\u001b[0m\u001b[0m_getitem_column\u001b[0m\u001b[1;33m(\u001b[0m\u001b[0mkey\u001b[0m\u001b[1;33m)\u001b[0m\u001b[1;33m\u001b[0m\u001b[0m\n\u001b[0m\u001b[0;32m   2686\u001b[0m \u001b[1;33m\u001b[0m\u001b[0m\n\u001b[0;32m   2687\u001b[0m     \u001b[1;32mdef\u001b[0m \u001b[0m_getitem_column\u001b[0m\u001b[1;33m(\u001b[0m\u001b[0mself\u001b[0m\u001b[1;33m,\u001b[0m \u001b[0mkey\u001b[0m\u001b[1;33m)\u001b[0m\u001b[1;33m:\u001b[0m\u001b[1;33m\u001b[0m\u001b[0m\n",
      "\u001b[1;32m~\\Anaconda3\\lib\\site-packages\\pandas\\core\\frame.py\u001b[0m in \u001b[0;36m_getitem_column\u001b[1;34m(self, key)\u001b[0m\n\u001b[0;32m   2690\u001b[0m         \u001b[1;31m# get column\u001b[0m\u001b[1;33m\u001b[0m\u001b[1;33m\u001b[0m\u001b[0m\n\u001b[0;32m   2691\u001b[0m         \u001b[1;32mif\u001b[0m \u001b[0mself\u001b[0m\u001b[1;33m.\u001b[0m\u001b[0mcolumns\u001b[0m\u001b[1;33m.\u001b[0m\u001b[0mis_unique\u001b[0m\u001b[1;33m:\u001b[0m\u001b[1;33m\u001b[0m\u001b[0m\n\u001b[1;32m-> 2692\u001b[1;33m             \u001b[1;32mreturn\u001b[0m \u001b[0mself\u001b[0m\u001b[1;33m.\u001b[0m\u001b[0m_get_item_cache\u001b[0m\u001b[1;33m(\u001b[0m\u001b[0mkey\u001b[0m\u001b[1;33m)\u001b[0m\u001b[1;33m\u001b[0m\u001b[0m\n\u001b[0m\u001b[0;32m   2693\u001b[0m \u001b[1;33m\u001b[0m\u001b[0m\n\u001b[0;32m   2694\u001b[0m         \u001b[1;31m# duplicate columns & possible reduce dimensionality\u001b[0m\u001b[1;33m\u001b[0m\u001b[1;33m\u001b[0m\u001b[0m\n",
      "\u001b[1;32m~\\Anaconda3\\lib\\site-packages\\pandas\\core\\generic.py\u001b[0m in \u001b[0;36m_get_item_cache\u001b[1;34m(self, item)\u001b[0m\n\u001b[0;32m   2484\u001b[0m         \u001b[0mres\u001b[0m \u001b[1;33m=\u001b[0m \u001b[0mcache\u001b[0m\u001b[1;33m.\u001b[0m\u001b[0mget\u001b[0m\u001b[1;33m(\u001b[0m\u001b[0mitem\u001b[0m\u001b[1;33m)\u001b[0m\u001b[1;33m\u001b[0m\u001b[0m\n\u001b[0;32m   2485\u001b[0m         \u001b[1;32mif\u001b[0m \u001b[0mres\u001b[0m \u001b[1;32mis\u001b[0m \u001b[1;32mNone\u001b[0m\u001b[1;33m:\u001b[0m\u001b[1;33m\u001b[0m\u001b[0m\n\u001b[1;32m-> 2486\u001b[1;33m             \u001b[0mvalues\u001b[0m \u001b[1;33m=\u001b[0m \u001b[0mself\u001b[0m\u001b[1;33m.\u001b[0m\u001b[0m_data\u001b[0m\u001b[1;33m.\u001b[0m\u001b[0mget\u001b[0m\u001b[1;33m(\u001b[0m\u001b[0mitem\u001b[0m\u001b[1;33m)\u001b[0m\u001b[1;33m\u001b[0m\u001b[0m\n\u001b[0m\u001b[0;32m   2487\u001b[0m             \u001b[0mres\u001b[0m \u001b[1;33m=\u001b[0m \u001b[0mself\u001b[0m\u001b[1;33m.\u001b[0m\u001b[0m_box_item_values\u001b[0m\u001b[1;33m(\u001b[0m\u001b[0mitem\u001b[0m\u001b[1;33m,\u001b[0m \u001b[0mvalues\u001b[0m\u001b[1;33m)\u001b[0m\u001b[1;33m\u001b[0m\u001b[0m\n\u001b[0;32m   2488\u001b[0m             \u001b[0mcache\u001b[0m\u001b[1;33m[\u001b[0m\u001b[0mitem\u001b[0m\u001b[1;33m]\u001b[0m \u001b[1;33m=\u001b[0m \u001b[0mres\u001b[0m\u001b[1;33m\u001b[0m\u001b[0m\n",
      "\u001b[1;32m~\\Anaconda3\\lib\\site-packages\\pandas\\core\\internals.py\u001b[0m in \u001b[0;36mget\u001b[1;34m(self, item, fastpath)\u001b[0m\n\u001b[0;32m   4113\u001b[0m \u001b[1;33m\u001b[0m\u001b[0m\n\u001b[0;32m   4114\u001b[0m             \u001b[1;32mif\u001b[0m \u001b[1;32mnot\u001b[0m \u001b[0misna\u001b[0m\u001b[1;33m(\u001b[0m\u001b[0mitem\u001b[0m\u001b[1;33m)\u001b[0m\u001b[1;33m:\u001b[0m\u001b[1;33m\u001b[0m\u001b[0m\n\u001b[1;32m-> 4115\u001b[1;33m                 \u001b[0mloc\u001b[0m \u001b[1;33m=\u001b[0m \u001b[0mself\u001b[0m\u001b[1;33m.\u001b[0m\u001b[0mitems\u001b[0m\u001b[1;33m.\u001b[0m\u001b[0mget_loc\u001b[0m\u001b[1;33m(\u001b[0m\u001b[0mitem\u001b[0m\u001b[1;33m)\u001b[0m\u001b[1;33m\u001b[0m\u001b[0m\n\u001b[0m\u001b[0;32m   4116\u001b[0m             \u001b[1;32melse\u001b[0m\u001b[1;33m:\u001b[0m\u001b[1;33m\u001b[0m\u001b[0m\n\u001b[0;32m   4117\u001b[0m                 \u001b[0mindexer\u001b[0m \u001b[1;33m=\u001b[0m \u001b[0mnp\u001b[0m\u001b[1;33m.\u001b[0m\u001b[0marange\u001b[0m\u001b[1;33m(\u001b[0m\u001b[0mlen\u001b[0m\u001b[1;33m(\u001b[0m\u001b[0mself\u001b[0m\u001b[1;33m.\u001b[0m\u001b[0mitems\u001b[0m\u001b[1;33m)\u001b[0m\u001b[1;33m)\u001b[0m\u001b[1;33m[\u001b[0m\u001b[0misna\u001b[0m\u001b[1;33m(\u001b[0m\u001b[0mself\u001b[0m\u001b[1;33m.\u001b[0m\u001b[0mitems\u001b[0m\u001b[1;33m)\u001b[0m\u001b[1;33m]\u001b[0m\u001b[1;33m\u001b[0m\u001b[0m\n",
      "\u001b[1;32m~\\Anaconda3\\lib\\site-packages\\pandas\\core\\indexes\\base.py\u001b[0m in \u001b[0;36mget_loc\u001b[1;34m(self, key, method, tolerance)\u001b[0m\n\u001b[0;32m   3063\u001b[0m                 \u001b[1;32mreturn\u001b[0m \u001b[0mself\u001b[0m\u001b[1;33m.\u001b[0m\u001b[0m_engine\u001b[0m\u001b[1;33m.\u001b[0m\u001b[0mget_loc\u001b[0m\u001b[1;33m(\u001b[0m\u001b[0mkey\u001b[0m\u001b[1;33m)\u001b[0m\u001b[1;33m\u001b[0m\u001b[0m\n\u001b[0;32m   3064\u001b[0m             \u001b[1;32mexcept\u001b[0m \u001b[0mKeyError\u001b[0m\u001b[1;33m:\u001b[0m\u001b[1;33m\u001b[0m\u001b[0m\n\u001b[1;32m-> 3065\u001b[1;33m                 \u001b[1;32mreturn\u001b[0m \u001b[0mself\u001b[0m\u001b[1;33m.\u001b[0m\u001b[0m_engine\u001b[0m\u001b[1;33m.\u001b[0m\u001b[0mget_loc\u001b[0m\u001b[1;33m(\u001b[0m\u001b[0mself\u001b[0m\u001b[1;33m.\u001b[0m\u001b[0m_maybe_cast_indexer\u001b[0m\u001b[1;33m(\u001b[0m\u001b[0mkey\u001b[0m\u001b[1;33m)\u001b[0m\u001b[1;33m)\u001b[0m\u001b[1;33m\u001b[0m\u001b[0m\n\u001b[0m\u001b[0;32m   3066\u001b[0m \u001b[1;33m\u001b[0m\u001b[0m\n\u001b[0;32m   3067\u001b[0m         \u001b[0mindexer\u001b[0m \u001b[1;33m=\u001b[0m \u001b[0mself\u001b[0m\u001b[1;33m.\u001b[0m\u001b[0mget_indexer\u001b[0m\u001b[1;33m(\u001b[0m\u001b[1;33m[\u001b[0m\u001b[0mkey\u001b[0m\u001b[1;33m]\u001b[0m\u001b[1;33m,\u001b[0m \u001b[0mmethod\u001b[0m\u001b[1;33m=\u001b[0m\u001b[0mmethod\u001b[0m\u001b[1;33m,\u001b[0m \u001b[0mtolerance\u001b[0m\u001b[1;33m=\u001b[0m\u001b[0mtolerance\u001b[0m\u001b[1;33m)\u001b[0m\u001b[1;33m\u001b[0m\u001b[0m\n",
      "\u001b[1;32mpandas\\_libs\\index.pyx\u001b[0m in \u001b[0;36mpandas._libs.index.IndexEngine.get_loc\u001b[1;34m()\u001b[0m\n",
      "\u001b[1;32mpandas\\_libs\\index.pyx\u001b[0m in \u001b[0;36mpandas._libs.index.IndexEngine.get_loc\u001b[1;34m()\u001b[0m\n",
      "\u001b[1;32mpandas\\_libs\\hashtable_class_helper.pxi\u001b[0m in \u001b[0;36mpandas._libs.hashtable.PyObjectHashTable.get_item\u001b[1;34m()\u001b[0m\n",
      "\u001b[1;32mpandas\\_libs\\hashtable_class_helper.pxi\u001b[0m in \u001b[0;36mpandas._libs.hashtable.PyObjectHashTable.get_item\u001b[1;34m()\u001b[0m\n",
      "\u001b[1;31mKeyError\u001b[0m: 'AWND'"
     ]
    }
   ],
   "source": [
    "X_train[\"log_AWND\"] = np.log(X_train[\"AWND\"])"
   ]
  },
  {
   "cell_type": "code",
   "execution_count": 86,
   "metadata": {},
   "outputs": [],
   "source": [
    "X_train[\"ideal_AWND\"] = X_train[\"log_AWND\"].apply(lambda x: 1 if x<3.1 else 0)"
   ]
  },
  {
   "cell_type": "code",
   "execution_count": 87,
   "metadata": {},
   "outputs": [
    {
     "data": {
      "text/plain": [
       "2012-10-05    4.043051\n",
       "2012-10-06    3.931826\n",
       "2012-10-07    2.564949\n",
       "2012-10-08    2.944439\n",
       "2012-10-09    2.772589\n",
       "2012-10-10    2.639057\n",
       "2012-10-11    2.564949\n",
       "2012-10-12    3.828641\n",
       "2012-10-13    3.663562\n",
       "2012-10-14    3.526361\n",
       "2012-10-15    3.828641\n",
       "2012-10-16    4.007333\n",
       "2012-10-17    2.772589\n",
       "2012-10-18    2.995732\n",
       "2012-10-19    3.970292\n",
       "2012-10-20    4.043051\n",
       "2012-10-21    3.295837\n",
       "2012-10-22    3.258097\n",
       "2012-10-23    3.401197\n",
       "2012-10-24    3.044522\n",
       "2012-10-25    2.708050\n",
       "2012-10-26    3.218876\n",
       "2012-10-27    3.931826\n",
       "2012-10-28    3.637586\n",
       "2012-10-29    3.891820\n",
       "2012-10-30    3.332205\n",
       "2012-10-31    3.295837\n",
       "2012-11-01    3.401197\n",
       "2012-11-02    2.302585\n",
       "2012-11-03    3.583519\n",
       "                ...   \n",
       "2015-04-25    3.401197\n",
       "2015-04-26    3.295837\n",
       "2015-04-27    3.135494\n",
       "2015-04-28    3.761200\n",
       "2015-04-29    3.850148\n",
       "2015-04-30    3.044522\n",
       "2015-05-01    3.610918\n",
       "2015-05-02    3.610918\n",
       "2015-05-03    3.258097\n",
       "2015-05-04    3.951244\n",
       "2015-05-05    3.931826\n",
       "2015-05-06    3.258097\n",
       "2015-05-07    3.401197\n",
       "2015-05-08    3.401197\n",
       "2015-05-09    3.258097\n",
       "2015-05-10    3.332205\n",
       "2015-05-11    3.218876\n",
       "2015-05-12    3.496508\n",
       "2015-05-13    3.332205\n",
       "2015-05-14    2.995732\n",
       "2015-05-15    3.332205\n",
       "2015-05-16    3.401197\n",
       "2015-05-17    3.044522\n",
       "2015-05-18    3.401197\n",
       "2015-05-19    3.258097\n",
       "2015-05-20    2.890372\n",
       "2015-05-21    3.044522\n",
       "2015-05-22    3.610918\n",
       "2015-05-23    3.258097\n",
       "2015-05-24    3.295837\n",
       "Name: log_AWND, Length: 962, dtype: float64"
      ]
     },
     "execution_count": 87,
     "metadata": {},
     "output_type": "execute_result"
    }
   ],
   "source": [
    "X_train[\"log_AWND\"]"
   ]
  },
  {
   "cell_type": "code",
   "execution_count": 88,
   "metadata": {},
   "outputs": [
    {
     "data": {
      "text/plain": [
       "2012-10-05    0\n",
       "2012-10-06    0\n",
       "2012-10-07    1\n",
       "2012-10-08    1\n",
       "2012-10-09    1\n",
       "2012-10-10    1\n",
       "2012-10-11    1\n",
       "2012-10-12    0\n",
       "2012-10-13    0\n",
       "2012-10-14    0\n",
       "2012-10-15    0\n",
       "2012-10-16    0\n",
       "2012-10-17    1\n",
       "2012-10-18    1\n",
       "2012-10-19    0\n",
       "2012-10-20    0\n",
       "2012-10-21    0\n",
       "2012-10-22    0\n",
       "2012-10-23    0\n",
       "2012-10-24    1\n",
       "2012-10-25    1\n",
       "2012-10-26    0\n",
       "2012-10-27    0\n",
       "2012-10-28    0\n",
       "2012-10-29    0\n",
       "2012-10-30    0\n",
       "2012-10-31    0\n",
       "2012-11-01    0\n",
       "2012-11-02    1\n",
       "2012-11-03    0\n",
       "             ..\n",
       "2015-04-25    0\n",
       "2015-04-26    0\n",
       "2015-04-27    0\n",
       "2015-04-28    0\n",
       "2015-04-29    0\n",
       "2015-04-30    1\n",
       "2015-05-01    0\n",
       "2015-05-02    0\n",
       "2015-05-03    0\n",
       "2015-05-04    0\n",
       "2015-05-05    0\n",
       "2015-05-06    0\n",
       "2015-05-07    0\n",
       "2015-05-08    0\n",
       "2015-05-09    0\n",
       "2015-05-10    0\n",
       "2015-05-11    0\n",
       "2015-05-12    0\n",
       "2015-05-13    0\n",
       "2015-05-14    1\n",
       "2015-05-15    0\n",
       "2015-05-16    0\n",
       "2015-05-17    1\n",
       "2015-05-18    0\n",
       "2015-05-19    0\n",
       "2015-05-20    1\n",
       "2015-05-21    1\n",
       "2015-05-22    0\n",
       "2015-05-23    0\n",
       "2015-05-24    0\n",
       "Name: ideal_AWND, Length: 962, dtype: int64"
      ]
     },
     "execution_count": 88,
     "metadata": {},
     "output_type": "execute_result"
    }
   ],
   "source": [
    "X_train[\"ideal_AWND\"]"
   ]
  },
  {
   "cell_type": "code",
   "execution_count": 89,
   "metadata": {},
   "outputs": [
    {
     "data": {
      "text/plain": [
       "2012-10-05    0\n",
       "2012-10-06    0\n",
       "2012-10-07    1\n",
       "2012-10-08    0\n",
       "2012-10-09    0\n",
       "2012-10-10    0\n",
       "2012-10-11    0\n",
       "2012-10-12    0\n",
       "2012-10-13    0\n",
       "2012-10-14    0\n",
       "2012-10-15    0\n",
       "2012-10-16    0\n",
       "2012-10-17    0\n",
       "2012-10-18    0\n",
       "2012-10-19    0\n",
       "2012-10-20    0\n",
       "2012-10-21    0\n",
       "2012-10-22    0\n",
       "2012-10-23    0\n",
       "2012-10-24    0\n",
       "2012-10-25    0\n",
       "2012-10-26    0\n",
       "2012-10-27    0\n",
       "2012-10-28    0\n",
       "2012-10-29    0\n",
       "2012-10-30    0\n",
       "2012-10-31    0\n",
       "2012-11-01    0\n",
       "2012-11-02    0\n",
       "2012-11-03    0\n",
       "             ..\n",
       "2015-04-25    0\n",
       "2015-04-26    0\n",
       "2015-04-27    0\n",
       "2015-04-28    0\n",
       "2015-04-29    0\n",
       "2015-04-30    0\n",
       "2015-05-01    0\n",
       "2015-05-02    0\n",
       "2015-05-03    0\n",
       "2015-05-04    0\n",
       "2015-05-05    0\n",
       "2015-05-06    0\n",
       "2015-05-07    0\n",
       "2015-05-08    0\n",
       "2015-05-09    0\n",
       "2015-05-10    0\n",
       "2015-05-11    0\n",
       "2015-05-12    0\n",
       "2015-05-13    0\n",
       "2015-05-14    0\n",
       "2015-05-15    0\n",
       "2015-05-16    0\n",
       "2015-05-17    0\n",
       "2015-05-18    0\n",
       "2015-05-19    0\n",
       "2015-05-20    1\n",
       "2015-05-21    1\n",
       "2015-05-22    0\n",
       "2015-05-23    0\n",
       "2015-05-24    0\n",
       "Length: 962, dtype: int64"
      ]
     },
     "execution_count": 89,
     "metadata": {},
     "output_type": "execute_result"
    }
   ],
   "source": [
    "X_train[\"ideal_AWND\"] *  X_train[\"ideal_temp\"]"
   ]
  },
  {
   "cell_type": "code",
   "execution_count": 90,
   "metadata": {},
   "outputs": [],
   "source": [
    "X_train[\"ideal_weather\"] = (X_train[\"ideal_AWND\"] *  X_train[\"ideal_temp\"])"
   ]
  },
  {
   "cell_type": "code",
   "execution_count": 118,
   "metadata": {},
   "outputs": [
    {
     "data": {
      "text/html": [
       "<div>\n",
       "<style scoped>\n",
       "    .dataframe tbody tr th:only-of-type {\n",
       "        vertical-align: middle;\n",
       "    }\n",
       "\n",
       "    .dataframe tbody tr th {\n",
       "        vertical-align: top;\n",
       "    }\n",
       "\n",
       "    .dataframe thead th {\n",
       "        text-align: right;\n",
       "    }\n",
       "</style>\n",
       "<table border=\"1\" class=\"dataframe\">\n",
       "  <thead>\n",
       "    <tr style=\"text-align: right;\">\n",
       "      <th></th>\n",
       "      <th>fit_time</th>\n",
       "      <th>score_time</th>\n",
       "      <th>test_score</th>\n",
       "      <th>train_score</th>\n",
       "    </tr>\n",
       "  </thead>\n",
       "  <tbody>\n",
       "    <tr>\n",
       "      <th>0</th>\n",
       "      <td>0.001994</td>\n",
       "      <td>0.000000</td>\n",
       "      <td>-0.166682</td>\n",
       "      <td>-0.152854</td>\n",
       "    </tr>\n",
       "    <tr>\n",
       "      <th>1</th>\n",
       "      <td>0.001995</td>\n",
       "      <td>0.000000</td>\n",
       "      <td>-0.175432</td>\n",
       "      <td>-0.157534</td>\n",
       "    </tr>\n",
       "    <tr>\n",
       "      <th>2</th>\n",
       "      <td>0.001995</td>\n",
       "      <td>0.000997</td>\n",
       "      <td>-0.159408</td>\n",
       "      <td>-0.157017</td>\n",
       "    </tr>\n",
       "  </tbody>\n",
       "</table>\n",
       "</div>"
      ],
      "text/plain": [
       "   fit_time  score_time  test_score  train_score\n",
       "0  0.001994    0.000000   -0.166682    -0.152854\n",
       "1  0.001995    0.000000   -0.175432    -0.157534\n",
       "2  0.001995    0.000997   -0.159408    -0.157017"
      ]
     },
     "execution_count": 118,
     "metadata": {},
     "output_type": "execute_result"
    }
   ],
   "source": [
    "scores = cross_validate(LinearRegression(), X_train, y_train, \n",
    "                        scoring='neg_mean_absolute_error', cv=3, \n",
    "                        return_train_score=True)\n",
    "\n",
    "pd.DataFrame(scores)"
   ]
  },
  {
   "cell_type": "code",
   "execution_count": 120,
   "metadata": {},
   "outputs": [
    {
     "name": "stdout",
     "output_type": "stream",
     "text": [
      "                            OLS Regression Results                            \n",
      "==============================================================================\n",
      "Dep. Variable:                  Total   R-squared:                       0.868\n",
      "Model:                            OLS   Adj. R-squared:                  0.865\n",
      "Method:                 Least Squares   F-statistic:                     268.8\n",
      "Date:                Thu, 31 Jan 2019   Prob (F-statistic):               0.00\n",
      "Time:                        15:57:45   Log-Likelihood:                 105.56\n",
      "No. Observations:                 962   AIC:                            -163.1\n",
      "Df Residuals:                     938   BIC:                            -46.27\n",
      "Df Model:                          23                                         \n",
      "Covariance Type:            nonrobust                                         \n",
      "======================================================================================\n",
      "                         coef    std err          t      P>|t|      [0.025      0.975]\n",
      "--------------------------------------------------------------------------------------\n",
      "const                  6.0491      0.103     58.831      0.000       5.847       6.251\n",
      "PRCP                  -0.4977      0.032    -15.450      0.000      -0.561      -0.434\n",
      "SNOW                  -0.0022      0.003     -0.806      0.420      -0.007       0.003\n",
      "SNWD                  -0.0146      0.003     -5.476      0.000      -0.020      -0.009\n",
      "Total_yesterday        0.1302      0.012     10.601      0.000       0.106       0.154\n",
      "Mon                    1.2858      0.027     47.857      0.000       1.233       1.339\n",
      "Tue                    1.0721      0.023     46.759      0.000       1.027       1.117\n",
      "Wed                    1.0401      0.023     44.595      0.000       0.994       1.086\n",
      "Thu                    0.9985      0.023     43.009      0.000       0.953       1.044\n",
      "Fri                    0.9201      0.023     39.458      0.000       0.874       0.966\n",
      "Sat                    0.3130      0.023     13.348      0.000       0.267       0.359\n",
      "Sun                    0.4194      0.027     15.682      0.000       0.367       0.472\n",
      "holiday               -0.6793      0.045    -15.168      0.000      -0.767      -0.591\n",
      "daylight_hrs           0.0384      0.008      4.970      0.000       0.023       0.054\n",
      "dry day                0.1656      0.019      8.945      0.000       0.129       0.202\n",
      "annual                 0.0323      0.010      3.308      0.001       0.013       0.051\n",
      "Winter                 0.2040      0.029      7.075      0.000       0.147       0.261\n",
      "Spring                 0.2088      0.037      5.671      0.000       0.137       0.281\n",
      "Summer                 0.2289      0.055      4.188      0.000       0.122       0.336\n",
      "Fall                   0.2880      0.039      7.387      0.000       0.211       0.365\n",
      "Dist_from_avg_temp    -0.0220      0.003     -7.302      0.000      -0.028      -0.016\n",
      "ideal_temp             0.1692      0.032      5.330      0.000       0.107       0.231\n",
      "log_AWND              -0.0585      0.024     -2.421      0.016      -0.106      -0.011\n",
      "ideal_AWND            -0.0438      0.029     -1.498      0.134      -0.101       0.014\n",
      "ideal_weather          0.0225      0.036      0.620      0.535      -0.049       0.094\n",
      "==============================================================================\n",
      "Omnibus:                      175.055   Durbin-Watson:                   1.512\n",
      "Prob(Omnibus):                  0.000   Jarque-Bera (JB):              923.844\n",
      "Skew:                          -0.723   Prob(JB):                    2.45e-201\n",
      "Kurtosis:                       7.578   Cond. No.                     8.16e+16\n",
      "==============================================================================\n",
      "\n",
      "Warnings:\n",
      "[1] Standard Errors assume that the covariance matrix of the errors is correctly specified.\n",
      "[2] The smallest eigenvalue is 2.71e-29. This might indicate that there are\n",
      "strong multicollinearity problems or that the design matrix is singular.\n"
     ]
    }
   ],
   "source": [
    "model = sm.OLS(y_train, sm.add_constant(X_train))\n",
    "print(model.fit().summary())"
   ]
  },
  {
   "cell_type": "code",
   "execution_count": 122,
   "metadata": {},
   "outputs": [],
   "source": [
    "X_train = X_train.drop([\"ideal_AWND\",\"ideal_weather\"],axis=1)"
   ]
  },
  {
   "cell_type": "code",
   "execution_count": 131,
   "metadata": {},
   "outputs": [],
   "source": [
    "X_train[\"Total_yesterday\"] = np.sqrt(X_train[\"Total_yesterday\"])"
   ]
  },
  {
   "cell_type": "code",
   "execution_count": 149,
   "metadata": {},
   "outputs": [],
   "source": [
    "X_train[\"daylight_hrs\"] = X_train[\"daylight_hrs\"]**0.5 +4"
   ]
  },
  {
   "cell_type": "code",
   "execution_count": 150,
   "metadata": {},
   "outputs": [
    {
     "data": {
      "text/html": [
       "<div>\n",
       "<style scoped>\n",
       "    .dataframe tbody tr th:only-of-type {\n",
       "        vertical-align: middle;\n",
       "    }\n",
       "\n",
       "    .dataframe tbody tr th {\n",
       "        vertical-align: top;\n",
       "    }\n",
       "\n",
       "    .dataframe thead th {\n",
       "        text-align: right;\n",
       "    }\n",
       "</style>\n",
       "<table border=\"1\" class=\"dataframe\">\n",
       "  <thead>\n",
       "    <tr style=\"text-align: right;\">\n",
       "      <th></th>\n",
       "      <th>fit_time</th>\n",
       "      <th>score_time</th>\n",
       "      <th>test_score</th>\n",
       "      <th>train_score</th>\n",
       "    </tr>\n",
       "  </thead>\n",
       "  <tbody>\n",
       "    <tr>\n",
       "      <th>0</th>\n",
       "      <td>0.001995</td>\n",
       "      <td>0.0</td>\n",
       "      <td>-0.165075</td>\n",
       "      <td>-0.149349</td>\n",
       "    </tr>\n",
       "    <tr>\n",
       "      <th>1</th>\n",
       "      <td>0.001996</td>\n",
       "      <td>0.0</td>\n",
       "      <td>-0.168171</td>\n",
       "      <td>-0.154011</td>\n",
       "    </tr>\n",
       "    <tr>\n",
       "      <th>2</th>\n",
       "      <td>0.001995</td>\n",
       "      <td>0.0</td>\n",
       "      <td>-0.153608</td>\n",
       "      <td>-0.154649</td>\n",
       "    </tr>\n",
       "  </tbody>\n",
       "</table>\n",
       "</div>"
      ],
      "text/plain": [
       "   fit_time  score_time  test_score  train_score\n",
       "0  0.001995         0.0   -0.165075    -0.149349\n",
       "1  0.001996         0.0   -0.168171    -0.154011\n",
       "2  0.001995         0.0   -0.153608    -0.154649"
      ]
     },
     "execution_count": 150,
     "metadata": {},
     "output_type": "execute_result"
    }
   ],
   "source": [
    "scores = cross_validate(LinearRegression(), X_train, y_train, \n",
    "                        scoring='neg_mean_absolute_error', cv=3, \n",
    "                        return_train_score=True)\n",
    "\n",
    "pd.DataFrame(scores)"
   ]
  },
  {
   "cell_type": "code",
   "execution_count": 151,
   "metadata": {},
   "outputs": [
    {
     "name": "stdout",
     "output_type": "stream",
     "text": [
      "                            OLS Regression Results                            \n",
      "==============================================================================\n",
      "Dep. Variable:                  Total   R-squared:                       0.875\n",
      "Model:                            OLS   Adj. R-squared:                  0.872\n",
      "Method:                 Least Squares   F-statistic:                     312.3\n",
      "Date:                Thu, 31 Jan 2019   Prob (F-statistic):               0.00\n",
      "Time:                        16:15:44   Log-Likelihood:                 129.43\n",
      "No. Observations:                 962   AIC:                            -214.9\n",
      "Df Residuals:                     940   BIC:                            -107.7\n",
      "Df Model:                          21                                         \n",
      "Covariance Type:            nonrobust                                         \n",
      "======================================================================================\n",
      "                         coef    std err          t      P>|t|      [0.025      0.975]\n",
      "--------------------------------------------------------------------------------------\n",
      "const                  4.3902      0.304     14.448      0.000       3.794       4.987\n",
      "PRCP                  -0.4837      0.031    -15.383      0.000      -0.545      -0.422\n",
      "SNOW                  -0.0019      0.003     -0.732      0.465      -0.007       0.003\n",
      "SNWD                  -0.0141      0.003     -5.439      0.000      -0.019      -0.009\n",
      "Total_yesterday        0.4679      0.037     12.789      0.000       0.396       0.540\n",
      "Mon                    1.0843      0.051     21.431      0.000       0.985       1.184\n",
      "Tue                    0.8218      0.046     17.764      0.000       0.731       0.913\n",
      "Wed                    0.7893      0.046     17.138      0.000       0.699       0.880\n",
      "Thu                    0.7477      0.046     16.277      0.000       0.658       0.838\n",
      "Fri                    0.6703      0.046     14.540      0.000       0.580       0.761\n",
      "Sat                    0.0632      0.046      1.362      0.174      -0.028       0.154\n",
      "Sun                    0.2136      0.050      4.256      0.000       0.115       0.312\n",
      "holiday               -0.6664      0.044    -15.271      0.000      -0.752      -0.581\n",
      "daylight_hrs           0.2516      0.051      4.915      0.000       0.151       0.352\n",
      "dry day                0.1580      0.018      8.789      0.000       0.123       0.193\n",
      "annual                 0.0296      0.010      3.110      0.002       0.011       0.048\n",
      "Winter                 0.1818      0.028      6.426      0.000       0.126       0.237\n",
      "Spring                 0.1731      0.037      4.671      0.000       0.100       0.246\n",
      "Summer                 0.2036      0.054      3.803      0.000       0.099       0.309\n",
      "Fall                   0.2463      0.039      6.304      0.000       0.170       0.323\n",
      "Dist_from_avg_temp    -0.0204      0.003     -6.924      0.000      -0.026      -0.015\n",
      "ideal_temp             0.1660      0.029      5.693      0.000       0.109       0.223\n",
      "log_AWND              -0.0257      0.015     -1.660      0.097      -0.056       0.005\n",
      "==============================================================================\n",
      "Omnibus:                      162.769   Durbin-Watson:                   1.689\n",
      "Prob(Omnibus):                  0.000   Jarque-Bera (JB):              791.476\n",
      "Skew:                          -0.688   Prob(JB):                    1.36e-172\n",
      "Kurtosis:                       7.226   Cond. No.                     5.44e+16\n",
      "==============================================================================\n",
      "\n",
      "Warnings:\n",
      "[1] Standard Errors assume that the covariance matrix of the errors is correctly specified.\n",
      "[2] The smallest eigenvalue is 3.16e-29. This might indicate that there are\n",
      "strong multicollinearity problems or that the design matrix is singular.\n"
     ]
    }
   ],
   "source": [
    "model = sm.OLS(y_train, sm.add_constant(X_train))\n",
    "print(model.fit().summary())"
   ]
  },
  {
   "cell_type": "code",
   "execution_count": 125,
   "metadata": {},
   "outputs": [],
   "source": [
    "def PolynomialRegression(degree=2, **kwargs):\n",
    "    return make_pipeline(PolynomialFeatures(degree),\n",
    "                         LinearRegression(**kwargs))"
   ]
  },
  {
   "cell_type": "code",
   "execution_count": 126,
   "metadata": {},
   "outputs": [
    {
     "name": "stdout",
     "output_type": "stream",
     "text": [
      "Fitting 3 folds for each of 4 candidates, totalling 12 fits\n",
      "[CV] polynomialfeatures__degree=0 ....................................\n",
      "[CV]  polynomialfeatures__degree=0, score=-0.46893958654754186, total=   0.0s\n",
      "[CV] polynomialfeatures__degree=0 ....................................\n",
      "[CV]  polynomialfeatures__degree=0, score=-0.460106064855922, total=   0.0s\n",
      "[CV] polynomialfeatures__degree=0 ....................................\n",
      "[CV]  polynomialfeatures__degree=0, score=-0.42821697251061003, total=   0.0s\n",
      "[CV] polynomialfeatures__degree=1 ....................................\n",
      "[CV]  polynomialfeatures__degree=1, score=-0.1675986660531134, total=   0.0s\n",
      "[CV] polynomialfeatures__degree=1 ....................................\n",
      "[CV]  polynomialfeatures__degree=1, score=-0.17598673536589202, total=   0.0s\n",
      "[CV] polynomialfeatures__degree=1 ....................................\n",
      "[CV]  polynomialfeatures__degree=1, score=-0.15903374822251204, total=   0.0s\n",
      "[CV] polynomialfeatures__degree=2 ....................................\n",
      "[CV]  polynomialfeatures__degree=2, score=-0.17721576769203376, total=   0.0s\n",
      "[CV] polynomialfeatures__degree=2 ....................................\n",
      "[CV]  polynomialfeatures__degree=2, score=-178820609099.4242, total=   0.0s\n",
      "[CV] polynomialfeatures__degree=2 ....................................\n",
      "[CV]  polynomialfeatures__degree=2, score=-0.4706791349870837, total=   0.0s\n",
      "[CV] polynomialfeatures__degree=3 ....................................\n"
     ]
    },
    {
     "name": "stderr",
     "output_type": "stream",
     "text": [
      "[Parallel(n_jobs=1)]: Done   1 out of   1 | elapsed:    0.0s remaining:    0.0s\n",
      "[Parallel(n_jobs=1)]: Done   2 out of   2 | elapsed:    0.0s remaining:    0.0s\n",
      "[Parallel(n_jobs=1)]: Done   3 out of   3 | elapsed:    0.0s remaining:    0.0s\n",
      "[Parallel(n_jobs=1)]: Done   4 out of   4 | elapsed:    0.0s remaining:    0.0s\n",
      "[Parallel(n_jobs=1)]: Done   5 out of   5 | elapsed:    0.0s remaining:    0.0s\n",
      "[Parallel(n_jobs=1)]: Done   6 out of   6 | elapsed:    0.0s remaining:    0.0s\n",
      "[Parallel(n_jobs=1)]: Done   7 out of   7 | elapsed:    0.0s remaining:    0.0s\n",
      "[Parallel(n_jobs=1)]: Done   8 out of   8 | elapsed:    0.0s remaining:    0.0s\n",
      "[Parallel(n_jobs=1)]: Done   9 out of   9 | elapsed:    0.0s remaining:    0.0s\n"
     ]
    },
    {
     "name": "stdout",
     "output_type": "stream",
     "text": [
      "[CV]  polynomialfeatures__degree=3, score=-4.763587777732645, total=   0.0s\n",
      "[CV] polynomialfeatures__degree=3 ....................................\n",
      "[CV]  polynomialfeatures__degree=3, score=-3.704895494380017, total=   0.0s\n",
      "[CV] polynomialfeatures__degree=3 ....................................\n",
      "[CV]  polynomialfeatures__degree=3, score=-5.490130478354539, total=   0.0s\n"
     ]
    },
    {
     "name": "stderr",
     "output_type": "stream",
     "text": [
      "[Parallel(n_jobs=1)]: Done  12 out of  12 | elapsed:    0.5s finished\n"
     ]
    },
    {
     "data": {
      "text/plain": [
       "GridSearchCV(cv=3, error_score='raise',\n",
       "       estimator=Pipeline(memory=None,\n",
       "     steps=[('polynomialfeatures', PolynomialFeatures(degree=2, include_bias=True, interaction_only=False)), ('linearregression', LinearRegression(copy_X=True, fit_intercept=True, n_jobs=1, normalize=False))]),\n",
       "       fit_params=None, iid=True, n_jobs=1,\n",
       "       param_grid={'polynomialfeatures__degree': [0, 1, 2, 3]},\n",
       "       pre_dispatch='2*n_jobs', refit=True, return_train_score=True,\n",
       "       scoring='neg_mean_absolute_error', verbose=10)"
      ]
     },
     "execution_count": 126,
     "metadata": {},
     "output_type": "execute_result"
    }
   ],
   "source": [
    "from sklearn.model_selection import GridSearchCV\n",
    "\n",
    "param_grid = {\n",
    "    'polynomialfeatures__degree': [0, 1, 2, 3]\n",
    "}\n",
    "\n",
    "gridsearch = GridSearchCV(PolynomialRegression(), param_grid=param_grid, \n",
    "                          scoring='neg_mean_absolute_error', cv=3, \n",
    "                          return_train_score=True, verbose=10)\n",
    "\n",
    "gridsearch.fit(X_train, y_train)"
   ]
  },
  {
   "cell_type": "code",
   "execution_count": 127,
   "metadata": {},
   "outputs": [
    {
     "name": "stdout",
     "output_type": "stream",
     "text": [
      "0 degree polynomial has 1 features\n",
      "['1']\n",
      "\n",
      "\n",
      "1 degree polynomial has 23 features\n",
      "['1', 'PRCP', 'SNOW', 'SNWD', 'Total_yesterday', 'Mon', 'Tue', 'Wed', 'Thu', 'Fri', 'Sat', 'Sun', 'holiday', 'daylight_hrs', 'dry day', 'annual', 'Winter', 'Spring', 'Summer', 'Fall', 'Dist_from_avg_temp', 'ideal_temp', 'log_AWND']\n",
      "\n",
      "\n",
      "2 degree polynomial has 276 features\n",
      "['1', 'PRCP', 'SNOW', 'SNWD', 'Total_yesterday', 'Mon', 'Tue', 'Wed', 'Thu', 'Fri', 'Sat', 'Sun', 'holiday', 'daylight_hrs', 'dry day', 'annual', 'Winter', 'Spring', 'Summer', 'Fall', 'Dist_from_avg_temp', 'ideal_temp', 'log_AWND', 'PRCP^2', 'PRCP SNOW', 'PRCP SNWD', 'PRCP Total_yesterday', 'PRCP Mon', 'PRCP Tue', 'PRCP Wed', 'PRCP Thu', 'PRCP Fri', 'PRCP Sat', 'PRCP Sun', 'PRCP holiday', 'PRCP daylight_hrs', 'PRCP dry day', 'PRCP annual', 'PRCP Winter', 'PRCP Spring', 'PRCP Summer', 'PRCP Fall', 'PRCP Dist_from_avg_temp', 'PRCP ideal_temp', 'PRCP log_AWND', 'SNOW^2', 'SNOW SNWD', 'SNOW Total_yesterday', 'SNOW Mon', 'SNOW Tue', 'SNOW Wed', 'SNOW Thu', 'SNOW Fri', 'SNOW Sat', 'SNOW Sun', 'SNOW holiday', 'SNOW daylight_hrs', 'SNOW dry day', 'SNOW annual', 'SNOW Winter', 'SNOW Spring', 'SNOW Summer', 'SNOW Fall', 'SNOW Dist_from_avg_temp', 'SNOW ideal_temp', 'SNOW log_AWND', 'SNWD^2', 'SNWD Total_yesterday', 'SNWD Mon', 'SNWD Tue', 'SNWD Wed', 'SNWD Thu', 'SNWD Fri', 'SNWD Sat', 'SNWD Sun', 'SNWD holiday', 'SNWD daylight_hrs', 'SNWD dry day', 'SNWD annual', 'SNWD Winter', 'SNWD Spring', 'SNWD Summer', 'SNWD Fall', 'SNWD Dist_from_avg_temp', 'SNWD ideal_temp', 'SNWD log_AWND', 'Total_yesterday^2', 'Total_yesterday Mon', 'Total_yesterday Tue', 'Total_yesterday Wed', 'Total_yesterday Thu', 'Total_yesterday Fri', 'Total_yesterday Sat', 'Total_yesterday Sun', 'Total_yesterday holiday', 'Total_yesterday daylight_hrs', 'Total_yesterday dry day', 'Total_yesterday annual', 'Total_yesterday Winter', 'Total_yesterday Spring', 'Total_yesterday Summer', 'Total_yesterday Fall', 'Total_yesterday Dist_from_avg_temp', 'Total_yesterday ideal_temp', 'Total_yesterday log_AWND', 'Mon^2', 'Mon Tue', 'Mon Wed', 'Mon Thu', 'Mon Fri', 'Mon Sat', 'Mon Sun', 'Mon holiday', 'Mon daylight_hrs', 'Mon dry day', 'Mon annual', 'Mon Winter', 'Mon Spring', 'Mon Summer', 'Mon Fall', 'Mon Dist_from_avg_temp', 'Mon ideal_temp', 'Mon log_AWND', 'Tue^2', 'Tue Wed', 'Tue Thu', 'Tue Fri', 'Tue Sat', 'Tue Sun', 'Tue holiday', 'Tue daylight_hrs', 'Tue dry day', 'Tue annual', 'Tue Winter', 'Tue Spring', 'Tue Summer', 'Tue Fall', 'Tue Dist_from_avg_temp', 'Tue ideal_temp', 'Tue log_AWND', 'Wed^2', 'Wed Thu', 'Wed Fri', 'Wed Sat', 'Wed Sun', 'Wed holiday', 'Wed daylight_hrs', 'Wed dry day', 'Wed annual', 'Wed Winter', 'Wed Spring', 'Wed Summer', 'Wed Fall', 'Wed Dist_from_avg_temp', 'Wed ideal_temp', 'Wed log_AWND', 'Thu^2', 'Thu Fri', 'Thu Sat', 'Thu Sun', 'Thu holiday', 'Thu daylight_hrs', 'Thu dry day', 'Thu annual', 'Thu Winter', 'Thu Spring', 'Thu Summer', 'Thu Fall', 'Thu Dist_from_avg_temp', 'Thu ideal_temp', 'Thu log_AWND', 'Fri^2', 'Fri Sat', 'Fri Sun', 'Fri holiday', 'Fri daylight_hrs', 'Fri dry day', 'Fri annual', 'Fri Winter', 'Fri Spring', 'Fri Summer', 'Fri Fall', 'Fri Dist_from_avg_temp', 'Fri ideal_temp', 'Fri log_AWND', 'Sat^2', 'Sat Sun', 'Sat holiday', 'Sat daylight_hrs', 'Sat dry day', 'Sat annual', 'Sat Winter', 'Sat Spring', 'Sat Summer', 'Sat Fall', 'Sat Dist_from_avg_temp', 'Sat ideal_temp', 'Sat log_AWND', 'Sun^2', 'Sun holiday', 'Sun daylight_hrs', 'Sun dry day', 'Sun annual', 'Sun Winter', 'Sun Spring', 'Sun Summer', 'Sun Fall', 'Sun Dist_from_avg_temp', 'Sun ideal_temp', 'Sun log_AWND', 'holiday^2', 'holiday daylight_hrs', 'holiday dry day', 'holiday annual', 'holiday Winter', 'holiday Spring', 'holiday Summer', 'holiday Fall', 'holiday Dist_from_avg_temp', 'holiday ideal_temp', 'holiday log_AWND', 'daylight_hrs^2', 'daylight_hrs dry day', 'daylight_hrs annual', 'daylight_hrs Winter', 'daylight_hrs Spring', 'daylight_hrs Summer', 'daylight_hrs Fall', 'daylight_hrs Dist_from_avg_temp', 'daylight_hrs ideal_temp', 'daylight_hrs log_AWND', 'dry day^2', 'dry day annual', 'dry day Winter', 'dry day Spring', 'dry day Summer', 'dry day Fall', 'dry day Dist_from_avg_temp', 'dry day ideal_temp', 'dry day log_AWND', 'annual^2', 'annual Winter', 'annual Spring', 'annual Summer', 'annual Fall', 'annual Dist_from_avg_temp', 'annual ideal_temp', 'annual log_AWND', 'Winter^2', 'Winter Spring', 'Winter Summer', 'Winter Fall', 'Winter Dist_from_avg_temp', 'Winter ideal_temp', 'Winter log_AWND', 'Spring^2', 'Spring Summer', 'Spring Fall', 'Spring Dist_from_avg_temp', 'Spring ideal_temp', 'Spring log_AWND', 'Summer^2', 'Summer Fall', 'Summer Dist_from_avg_temp', 'Summer ideal_temp', 'Summer log_AWND', 'Fall^2', 'Fall Dist_from_avg_temp', 'Fall ideal_temp', 'Fall log_AWND', 'Dist_from_avg_temp^2', 'Dist_from_avg_temp ideal_temp', 'Dist_from_avg_temp log_AWND', 'ideal_temp^2', 'ideal_temp log_AWND', 'log_AWND^2']\n",
      "\n",
      "\n",
      "3 degree polynomial has 2300 features\n",
      "['1', 'PRCP', 'SNOW', 'SNWD', 'Total_yesterday', 'Mon', 'Tue', 'Wed', 'Thu', 'Fri', 'Sat', 'Sun', 'holiday', 'daylight_hrs', 'dry day', 'annual', 'Winter', 'Spring', 'Summer', 'Fall', 'Dist_from_avg_temp', 'ideal_temp', 'log_AWND', 'PRCP^2', 'PRCP SNOW', 'PRCP SNWD', 'PRCP Total_yesterday', 'PRCP Mon', 'PRCP Tue', 'PRCP Wed', 'PRCP Thu', 'PRCP Fri', 'PRCP Sat', 'PRCP Sun', 'PRCP holiday', 'PRCP daylight_hrs', 'PRCP dry day', 'PRCP annual', 'PRCP Winter', 'PRCP Spring', 'PRCP Summer', 'PRCP Fall', 'PRCP Dist_from_avg_temp', 'PRCP ideal_temp', 'PRCP log_AWND', 'SNOW^2', 'SNOW SNWD', 'SNOW Total_yesterday', 'SNOW Mon', 'SNOW Tue', 'SNOW Wed', 'SNOW Thu', 'SNOW Fri', 'SNOW Sat', 'SNOW Sun', 'SNOW holiday', 'SNOW daylight_hrs', 'SNOW dry day', 'SNOW annual', 'SNOW Winter', 'SNOW Spring', 'SNOW Summer', 'SNOW Fall', 'SNOW Dist_from_avg_temp', 'SNOW ideal_temp', 'SNOW log_AWND', 'SNWD^2', 'SNWD Total_yesterday', 'SNWD Mon', 'SNWD Tue', 'SNWD Wed', 'SNWD Thu', 'SNWD Fri', 'SNWD Sat', 'SNWD Sun', 'SNWD holiday', 'SNWD daylight_hrs', 'SNWD dry day', 'SNWD annual', 'SNWD Winter', 'SNWD Spring', 'SNWD Summer', 'SNWD Fall', 'SNWD Dist_from_avg_temp', 'SNWD ideal_temp', 'SNWD log_AWND', 'Total_yesterday^2', 'Total_yesterday Mon', 'Total_yesterday Tue', 'Total_yesterday Wed', 'Total_yesterday Thu', 'Total_yesterday Fri', 'Total_yesterday Sat', 'Total_yesterday Sun', 'Total_yesterday holiday', 'Total_yesterday daylight_hrs', 'Total_yesterday dry day', 'Total_yesterday annual', 'Total_yesterday Winter', 'Total_yesterday Spring', 'Total_yesterday Summer', 'Total_yesterday Fall', 'Total_yesterday Dist_from_avg_temp', 'Total_yesterday ideal_temp', 'Total_yesterday log_AWND', 'Mon^2', 'Mon Tue', 'Mon Wed', 'Mon Thu', 'Mon Fri', 'Mon Sat', 'Mon Sun', 'Mon holiday', 'Mon daylight_hrs', 'Mon dry day', 'Mon annual', 'Mon Winter', 'Mon Spring', 'Mon Summer', 'Mon Fall', 'Mon Dist_from_avg_temp', 'Mon ideal_temp', 'Mon log_AWND', 'Tue^2', 'Tue Wed', 'Tue Thu', 'Tue Fri', 'Tue Sat', 'Tue Sun', 'Tue holiday', 'Tue daylight_hrs', 'Tue dry day', 'Tue annual', 'Tue Winter', 'Tue Spring', 'Tue Summer', 'Tue Fall', 'Tue Dist_from_avg_temp', 'Tue ideal_temp', 'Tue log_AWND', 'Wed^2', 'Wed Thu', 'Wed Fri', 'Wed Sat', 'Wed Sun', 'Wed holiday', 'Wed daylight_hrs', 'Wed dry day', 'Wed annual', 'Wed Winter', 'Wed Spring', 'Wed Summer', 'Wed Fall', 'Wed Dist_from_avg_temp', 'Wed ideal_temp', 'Wed log_AWND', 'Thu^2', 'Thu Fri', 'Thu Sat', 'Thu Sun', 'Thu holiday', 'Thu daylight_hrs', 'Thu dry day', 'Thu annual', 'Thu Winter', 'Thu Spring', 'Thu Summer', 'Thu Fall', 'Thu Dist_from_avg_temp', 'Thu ideal_temp', 'Thu log_AWND', 'Fri^2', 'Fri Sat', 'Fri Sun', 'Fri holiday', 'Fri daylight_hrs', 'Fri dry day', 'Fri annual', 'Fri Winter', 'Fri Spring', 'Fri Summer', 'Fri Fall', 'Fri Dist_from_avg_temp', 'Fri ideal_temp', 'Fri log_AWND', 'Sat^2', 'Sat Sun', 'Sat holiday', 'Sat daylight_hrs', 'Sat dry day', 'Sat annual', 'Sat Winter', 'Sat Spring', 'Sat Summer', 'Sat Fall', 'Sat Dist_from_avg_temp', 'Sat ideal_temp', 'Sat log_AWND', 'Sun^2', 'Sun holiday', 'Sun daylight_hrs', 'Sun dry day', 'Sun annual', 'Sun Winter', 'Sun Spring', 'Sun Summer', 'Sun Fall', 'Sun Dist_from_avg_temp', 'Sun ideal_temp', 'Sun log_AWND', 'holiday^2', 'holiday daylight_hrs', 'holiday dry day', 'holiday annual', 'holiday Winter', 'holiday Spring', 'holiday Summer', 'holiday Fall', 'holiday Dist_from_avg_temp', 'holiday ideal_temp', 'holiday log_AWND', 'daylight_hrs^2', 'daylight_hrs dry day', 'daylight_hrs annual', 'daylight_hrs Winter', 'daylight_hrs Spring', 'daylight_hrs Summer', 'daylight_hrs Fall', 'daylight_hrs Dist_from_avg_temp', 'daylight_hrs ideal_temp', 'daylight_hrs log_AWND', 'dry day^2', 'dry day annual', 'dry day Winter', 'dry day Spring', 'dry day Summer', 'dry day Fall', 'dry day Dist_from_avg_temp', 'dry day ideal_temp', 'dry day log_AWND', 'annual^2', 'annual Winter', 'annual Spring', 'annual Summer', 'annual Fall', 'annual Dist_from_avg_temp', 'annual ideal_temp', 'annual log_AWND', 'Winter^2', 'Winter Spring', 'Winter Summer', 'Winter Fall', 'Winter Dist_from_avg_temp', 'Winter ideal_temp', 'Winter log_AWND', 'Spring^2', 'Spring Summer', 'Spring Fall', 'Spring Dist_from_avg_temp', 'Spring ideal_temp', 'Spring log_AWND', 'Summer^2', 'Summer Fall', 'Summer Dist_from_avg_temp', 'Summer ideal_temp', 'Summer log_AWND', 'Fall^2', 'Fall Dist_from_avg_temp', 'Fall ideal_temp', 'Fall log_AWND', 'Dist_from_avg_temp^2', 'Dist_from_avg_temp ideal_temp', 'Dist_from_avg_temp log_AWND', 'ideal_temp^2', 'ideal_temp log_AWND', 'log_AWND^2', 'PRCP^3', 'PRCP^2 SNOW', 'PRCP^2 SNWD', 'PRCP^2 Total_yesterday', 'PRCP^2 Mon', 'PRCP^2 Tue', 'PRCP^2 Wed', 'PRCP^2 Thu', 'PRCP^2 Fri', 'PRCP^2 Sat', 'PRCP^2 Sun', 'PRCP^2 holiday', 'PRCP^2 daylight_hrs', 'PRCP^2 dry day', 'PRCP^2 annual', 'PRCP^2 Winter', 'PRCP^2 Spring', 'PRCP^2 Summer', 'PRCP^2 Fall', 'PRCP^2 Dist_from_avg_temp', 'PRCP^2 ideal_temp', 'PRCP^2 log_AWND', 'PRCP SNOW^2', 'PRCP SNOW SNWD', 'PRCP SNOW Total_yesterday', 'PRCP SNOW Mon', 'PRCP SNOW Tue', 'PRCP SNOW Wed', 'PRCP SNOW Thu', 'PRCP SNOW Fri', 'PRCP SNOW Sat', 'PRCP SNOW Sun', 'PRCP SNOW holiday', 'PRCP SNOW daylight_hrs', 'PRCP SNOW dry day', 'PRCP SNOW annual', 'PRCP SNOW Winter', 'PRCP SNOW Spring', 'PRCP SNOW Summer', 'PRCP SNOW Fall', 'PRCP SNOW Dist_from_avg_temp', 'PRCP SNOW ideal_temp', 'PRCP SNOW log_AWND', 'PRCP SNWD^2', 'PRCP SNWD Total_yesterday', 'PRCP SNWD Mon', 'PRCP SNWD Tue', 'PRCP SNWD Wed', 'PRCP SNWD Thu', 'PRCP SNWD Fri', 'PRCP SNWD Sat', 'PRCP SNWD Sun', 'PRCP SNWD holiday', 'PRCP SNWD daylight_hrs', 'PRCP SNWD dry day', 'PRCP SNWD annual', 'PRCP SNWD Winter', 'PRCP SNWD Spring', 'PRCP SNWD Summer', 'PRCP SNWD Fall', 'PRCP SNWD Dist_from_avg_temp', 'PRCP SNWD ideal_temp', 'PRCP SNWD log_AWND', 'PRCP Total_yesterday^2', 'PRCP Total_yesterday Mon', 'PRCP Total_yesterday Tue', 'PRCP Total_yesterday Wed', 'PRCP Total_yesterday Thu', 'PRCP Total_yesterday Fri', 'PRCP Total_yesterday Sat', 'PRCP Total_yesterday Sun', 'PRCP Total_yesterday holiday', 'PRCP Total_yesterday daylight_hrs', 'PRCP Total_yesterday dry day', 'PRCP Total_yesterday annual', 'PRCP Total_yesterday Winter', 'PRCP Total_yesterday Spring', 'PRCP Total_yesterday Summer', 'PRCP Total_yesterday Fall', 'PRCP Total_yesterday Dist_from_avg_temp', 'PRCP Total_yesterday ideal_temp', 'PRCP Total_yesterday log_AWND', 'PRCP Mon^2', 'PRCP Mon Tue', 'PRCP Mon Wed', 'PRCP Mon Thu', 'PRCP Mon Fri', 'PRCP Mon Sat', 'PRCP Mon Sun', 'PRCP Mon holiday', 'PRCP Mon daylight_hrs', 'PRCP Mon dry day', 'PRCP Mon annual', 'PRCP Mon Winter', 'PRCP Mon Spring', 'PRCP Mon Summer', 'PRCP Mon Fall', 'PRCP Mon Dist_from_avg_temp', 'PRCP Mon ideal_temp', 'PRCP Mon log_AWND', 'PRCP Tue^2', 'PRCP Tue Wed', 'PRCP Tue Thu', 'PRCP Tue Fri', 'PRCP Tue Sat', 'PRCP Tue Sun', 'PRCP Tue holiday', 'PRCP Tue daylight_hrs', 'PRCP Tue dry day', 'PRCP Tue annual', 'PRCP Tue Winter', 'PRCP Tue Spring', 'PRCP Tue Summer', 'PRCP Tue Fall', 'PRCP Tue Dist_from_avg_temp', 'PRCP Tue ideal_temp', 'PRCP Tue log_AWND', 'PRCP Wed^2', 'PRCP Wed Thu', 'PRCP Wed Fri', 'PRCP Wed Sat', 'PRCP Wed Sun', 'PRCP Wed holiday', 'PRCP Wed daylight_hrs', 'PRCP Wed dry day', 'PRCP Wed annual', 'PRCP Wed Winter', 'PRCP Wed Spring', 'PRCP Wed Summer', 'PRCP Wed Fall', 'PRCP Wed Dist_from_avg_temp', 'PRCP Wed ideal_temp', 'PRCP Wed log_AWND', 'PRCP Thu^2', 'PRCP Thu Fri', 'PRCP Thu Sat', 'PRCP Thu Sun', 'PRCP Thu holiday', 'PRCP Thu daylight_hrs', 'PRCP Thu dry day', 'PRCP Thu annual', 'PRCP Thu Winter', 'PRCP Thu Spring', 'PRCP Thu Summer', 'PRCP Thu Fall', 'PRCP Thu Dist_from_avg_temp', 'PRCP Thu ideal_temp', 'PRCP Thu log_AWND', 'PRCP Fri^2', 'PRCP Fri Sat', 'PRCP Fri Sun', 'PRCP Fri holiday', 'PRCP Fri daylight_hrs', 'PRCP Fri dry day', 'PRCP Fri annual', 'PRCP Fri Winter', 'PRCP Fri Spring', 'PRCP Fri Summer', 'PRCP Fri Fall', 'PRCP Fri Dist_from_avg_temp', 'PRCP Fri ideal_temp', 'PRCP Fri log_AWND', 'PRCP Sat^2', 'PRCP Sat Sun', 'PRCP Sat holiday', 'PRCP Sat daylight_hrs', 'PRCP Sat dry day', 'PRCP Sat annual', 'PRCP Sat Winter', 'PRCP Sat Spring', 'PRCP Sat Summer', 'PRCP Sat Fall', 'PRCP Sat Dist_from_avg_temp', 'PRCP Sat ideal_temp', 'PRCP Sat log_AWND', 'PRCP Sun^2', 'PRCP Sun holiday', 'PRCP Sun daylight_hrs', 'PRCP Sun dry day', 'PRCP Sun annual', 'PRCP Sun Winter', 'PRCP Sun Spring', 'PRCP Sun Summer', 'PRCP Sun Fall', 'PRCP Sun Dist_from_avg_temp', 'PRCP Sun ideal_temp', 'PRCP Sun log_AWND', 'PRCP holiday^2', 'PRCP holiday daylight_hrs', 'PRCP holiday dry day', 'PRCP holiday annual', 'PRCP holiday Winter', 'PRCP holiday Spring', 'PRCP holiday Summer', 'PRCP holiday Fall', 'PRCP holiday Dist_from_avg_temp', 'PRCP holiday ideal_temp', 'PRCP holiday log_AWND', 'PRCP daylight_hrs^2', 'PRCP daylight_hrs dry day', 'PRCP daylight_hrs annual', 'PRCP daylight_hrs Winter', 'PRCP daylight_hrs Spring', 'PRCP daylight_hrs Summer', 'PRCP daylight_hrs Fall', 'PRCP daylight_hrs Dist_from_avg_temp', 'PRCP daylight_hrs ideal_temp', 'PRCP daylight_hrs log_AWND', 'PRCP dry day^2', 'PRCP dry day annual', 'PRCP dry day Winter', 'PRCP dry day Spring', 'PRCP dry day Summer', 'PRCP dry day Fall', 'PRCP dry day Dist_from_avg_temp', 'PRCP dry day ideal_temp', 'PRCP dry day log_AWND', 'PRCP annual^2', 'PRCP annual Winter', 'PRCP annual Spring', 'PRCP annual Summer', 'PRCP annual Fall', 'PRCP annual Dist_from_avg_temp', 'PRCP annual ideal_temp', 'PRCP annual log_AWND', 'PRCP Winter^2', 'PRCP Winter Spring', 'PRCP Winter Summer', 'PRCP Winter Fall', 'PRCP Winter Dist_from_avg_temp', 'PRCP Winter ideal_temp', 'PRCP Winter log_AWND', 'PRCP Spring^2', 'PRCP Spring Summer', 'PRCP Spring Fall', 'PRCP Spring Dist_from_avg_temp', 'PRCP Spring ideal_temp', 'PRCP Spring log_AWND', 'PRCP Summer^2', 'PRCP Summer Fall', 'PRCP Summer Dist_from_avg_temp', 'PRCP Summer ideal_temp', 'PRCP Summer log_AWND', 'PRCP Fall^2', 'PRCP Fall Dist_from_avg_temp', 'PRCP Fall ideal_temp', 'PRCP Fall log_AWND', 'PRCP Dist_from_avg_temp^2', 'PRCP Dist_from_avg_temp ideal_temp', 'PRCP Dist_from_avg_temp log_AWND', 'PRCP ideal_temp^2', 'PRCP ideal_temp log_AWND', 'PRCP log_AWND^2', 'SNOW^3', 'SNOW^2 SNWD', 'SNOW^2 Total_yesterday', 'SNOW^2 Mon', 'SNOW^2 Tue', 'SNOW^2 Wed', 'SNOW^2 Thu', 'SNOW^2 Fri', 'SNOW^2 Sat', 'SNOW^2 Sun', 'SNOW^2 holiday', 'SNOW^2 daylight_hrs', 'SNOW^2 dry day', 'SNOW^2 annual', 'SNOW^2 Winter', 'SNOW^2 Spring', 'SNOW^2 Summer', 'SNOW^2 Fall', 'SNOW^2 Dist_from_avg_temp', 'SNOW^2 ideal_temp', 'SNOW^2 log_AWND', 'SNOW SNWD^2', 'SNOW SNWD Total_yesterday', 'SNOW SNWD Mon', 'SNOW SNWD Tue', 'SNOW SNWD Wed', 'SNOW SNWD Thu', 'SNOW SNWD Fri', 'SNOW SNWD Sat', 'SNOW SNWD Sun', 'SNOW SNWD holiday', 'SNOW SNWD daylight_hrs', 'SNOW SNWD dry day', 'SNOW SNWD annual', 'SNOW SNWD Winter', 'SNOW SNWD Spring', 'SNOW SNWD Summer', 'SNOW SNWD Fall', 'SNOW SNWD Dist_from_avg_temp', 'SNOW SNWD ideal_temp', 'SNOW SNWD log_AWND', 'SNOW Total_yesterday^2', 'SNOW Total_yesterday Mon', 'SNOW Total_yesterday Tue', 'SNOW Total_yesterday Wed', 'SNOW Total_yesterday Thu', 'SNOW Total_yesterday Fri', 'SNOW Total_yesterday Sat', 'SNOW Total_yesterday Sun', 'SNOW Total_yesterday holiday', 'SNOW Total_yesterday daylight_hrs', 'SNOW Total_yesterday dry day', 'SNOW Total_yesterday annual', 'SNOW Total_yesterday Winter', 'SNOW Total_yesterday Spring', 'SNOW Total_yesterday Summer', 'SNOW Total_yesterday Fall', 'SNOW Total_yesterday Dist_from_avg_temp', 'SNOW Total_yesterday ideal_temp', 'SNOW Total_yesterday log_AWND', 'SNOW Mon^2', 'SNOW Mon Tue', 'SNOW Mon Wed', 'SNOW Mon Thu', 'SNOW Mon Fri', 'SNOW Mon Sat', 'SNOW Mon Sun', 'SNOW Mon holiday', 'SNOW Mon daylight_hrs', 'SNOW Mon dry day', 'SNOW Mon annual', 'SNOW Mon Winter', 'SNOW Mon Spring', 'SNOW Mon Summer', 'SNOW Mon Fall', 'SNOW Mon Dist_from_avg_temp', 'SNOW Mon ideal_temp', 'SNOW Mon log_AWND', 'SNOW Tue^2', 'SNOW Tue Wed', 'SNOW Tue Thu', 'SNOW Tue Fri', 'SNOW Tue Sat', 'SNOW Tue Sun', 'SNOW Tue holiday', 'SNOW Tue daylight_hrs', 'SNOW Tue dry day', 'SNOW Tue annual', 'SNOW Tue Winter', 'SNOW Tue Spring', 'SNOW Tue Summer', 'SNOW Tue Fall', 'SNOW Tue Dist_from_avg_temp', 'SNOW Tue ideal_temp', 'SNOW Tue log_AWND', 'SNOW Wed^2', 'SNOW Wed Thu', 'SNOW Wed Fri', 'SNOW Wed Sat', 'SNOW Wed Sun', 'SNOW Wed holiday', 'SNOW Wed daylight_hrs', 'SNOW Wed dry day', 'SNOW Wed annual', 'SNOW Wed Winter', 'SNOW Wed Spring', 'SNOW Wed Summer', 'SNOW Wed Fall', 'SNOW Wed Dist_from_avg_temp', 'SNOW Wed ideal_temp', 'SNOW Wed log_AWND', 'SNOW Thu^2', 'SNOW Thu Fri', 'SNOW Thu Sat', 'SNOW Thu Sun', 'SNOW Thu holiday', 'SNOW Thu daylight_hrs', 'SNOW Thu dry day', 'SNOW Thu annual', 'SNOW Thu Winter', 'SNOW Thu Spring', 'SNOW Thu Summer', 'SNOW Thu Fall', 'SNOW Thu Dist_from_avg_temp', 'SNOW Thu ideal_temp', 'SNOW Thu log_AWND', 'SNOW Fri^2', 'SNOW Fri Sat', 'SNOW Fri Sun', 'SNOW Fri holiday', 'SNOW Fri daylight_hrs', 'SNOW Fri dry day', 'SNOW Fri annual', 'SNOW Fri Winter', 'SNOW Fri Spring', 'SNOW Fri Summer', 'SNOW Fri Fall', 'SNOW Fri Dist_from_avg_temp', 'SNOW Fri ideal_temp', 'SNOW Fri log_AWND', 'SNOW Sat^2', 'SNOW Sat Sun', 'SNOW Sat holiday', 'SNOW Sat daylight_hrs', 'SNOW Sat dry day', 'SNOW Sat annual', 'SNOW Sat Winter', 'SNOW Sat Spring', 'SNOW Sat Summer', 'SNOW Sat Fall', 'SNOW Sat Dist_from_avg_temp', 'SNOW Sat ideal_temp', 'SNOW Sat log_AWND', 'SNOW Sun^2', 'SNOW Sun holiday', 'SNOW Sun daylight_hrs', 'SNOW Sun dry day', 'SNOW Sun annual', 'SNOW Sun Winter', 'SNOW Sun Spring', 'SNOW Sun Summer', 'SNOW Sun Fall', 'SNOW Sun Dist_from_avg_temp', 'SNOW Sun ideal_temp', 'SNOW Sun log_AWND', 'SNOW holiday^2', 'SNOW holiday daylight_hrs', 'SNOW holiday dry day', 'SNOW holiday annual', 'SNOW holiday Winter', 'SNOW holiday Spring', 'SNOW holiday Summer', 'SNOW holiday Fall', 'SNOW holiday Dist_from_avg_temp', 'SNOW holiday ideal_temp', 'SNOW holiday log_AWND', 'SNOW daylight_hrs^2', 'SNOW daylight_hrs dry day', 'SNOW daylight_hrs annual', 'SNOW daylight_hrs Winter', 'SNOW daylight_hrs Spring', 'SNOW daylight_hrs Summer', 'SNOW daylight_hrs Fall', 'SNOW daylight_hrs Dist_from_avg_temp', 'SNOW daylight_hrs ideal_temp', 'SNOW daylight_hrs log_AWND', 'SNOW dry day^2', 'SNOW dry day annual', 'SNOW dry day Winter', 'SNOW dry day Spring', 'SNOW dry day Summer', 'SNOW dry day Fall', 'SNOW dry day Dist_from_avg_temp', 'SNOW dry day ideal_temp', 'SNOW dry day log_AWND', 'SNOW annual^2', 'SNOW annual Winter', 'SNOW annual Spring', 'SNOW annual Summer', 'SNOW annual Fall', 'SNOW annual Dist_from_avg_temp', 'SNOW annual ideal_temp', 'SNOW annual log_AWND', 'SNOW Winter^2', 'SNOW Winter Spring', 'SNOW Winter Summer', 'SNOW Winter Fall', 'SNOW Winter Dist_from_avg_temp', 'SNOW Winter ideal_temp', 'SNOW Winter log_AWND', 'SNOW Spring^2', 'SNOW Spring Summer', 'SNOW Spring Fall', 'SNOW Spring Dist_from_avg_temp', 'SNOW Spring ideal_temp', 'SNOW Spring log_AWND', 'SNOW Summer^2', 'SNOW Summer Fall', 'SNOW Summer Dist_from_avg_temp', 'SNOW Summer ideal_temp', 'SNOW Summer log_AWND', 'SNOW Fall^2', 'SNOW Fall Dist_from_avg_temp', 'SNOW Fall ideal_temp', 'SNOW Fall log_AWND', 'SNOW Dist_from_avg_temp^2', 'SNOW Dist_from_avg_temp ideal_temp', 'SNOW Dist_from_avg_temp log_AWND', 'SNOW ideal_temp^2', 'SNOW ideal_temp log_AWND', 'SNOW log_AWND^2', 'SNWD^3', 'SNWD^2 Total_yesterday', 'SNWD^2 Mon', 'SNWD^2 Tue', 'SNWD^2 Wed', 'SNWD^2 Thu', 'SNWD^2 Fri', 'SNWD^2 Sat', 'SNWD^2 Sun', 'SNWD^2 holiday', 'SNWD^2 daylight_hrs', 'SNWD^2 dry day', 'SNWD^2 annual', 'SNWD^2 Winter', 'SNWD^2 Spring', 'SNWD^2 Summer', 'SNWD^2 Fall', 'SNWD^2 Dist_from_avg_temp', 'SNWD^2 ideal_temp', 'SNWD^2 log_AWND', 'SNWD Total_yesterday^2', 'SNWD Total_yesterday Mon', 'SNWD Total_yesterday Tue', 'SNWD Total_yesterday Wed', 'SNWD Total_yesterday Thu', 'SNWD Total_yesterday Fri', 'SNWD Total_yesterday Sat', 'SNWD Total_yesterday Sun', 'SNWD Total_yesterday holiday', 'SNWD Total_yesterday daylight_hrs', 'SNWD Total_yesterday dry day', 'SNWD Total_yesterday annual', 'SNWD Total_yesterday Winter', 'SNWD Total_yesterday Spring', 'SNWD Total_yesterday Summer', 'SNWD Total_yesterday Fall', 'SNWD Total_yesterday Dist_from_avg_temp', 'SNWD Total_yesterday ideal_temp', 'SNWD Total_yesterday log_AWND', 'SNWD Mon^2', 'SNWD Mon Tue', 'SNWD Mon Wed', 'SNWD Mon Thu', 'SNWD Mon Fri', 'SNWD Mon Sat', 'SNWD Mon Sun', 'SNWD Mon holiday', 'SNWD Mon daylight_hrs', 'SNWD Mon dry day', 'SNWD Mon annual', 'SNWD Mon Winter', 'SNWD Mon Spring', 'SNWD Mon Summer', 'SNWD Mon Fall', 'SNWD Mon Dist_from_avg_temp', 'SNWD Mon ideal_temp', 'SNWD Mon log_AWND', 'SNWD Tue^2', 'SNWD Tue Wed', 'SNWD Tue Thu', 'SNWD Tue Fri', 'SNWD Tue Sat', 'SNWD Tue Sun', 'SNWD Tue holiday', 'SNWD Tue daylight_hrs', 'SNWD Tue dry day', 'SNWD Tue annual', 'SNWD Tue Winter', 'SNWD Tue Spring', 'SNWD Tue Summer', 'SNWD Tue Fall', 'SNWD Tue Dist_from_avg_temp', 'SNWD Tue ideal_temp', 'SNWD Tue log_AWND', 'SNWD Wed^2', 'SNWD Wed Thu', 'SNWD Wed Fri', 'SNWD Wed Sat', 'SNWD Wed Sun', 'SNWD Wed holiday', 'SNWD Wed daylight_hrs', 'SNWD Wed dry day', 'SNWD Wed annual', 'SNWD Wed Winter', 'SNWD Wed Spring', 'SNWD Wed Summer', 'SNWD Wed Fall', 'SNWD Wed Dist_from_avg_temp', 'SNWD Wed ideal_temp', 'SNWD Wed log_AWND', 'SNWD Thu^2', 'SNWD Thu Fri', 'SNWD Thu Sat', 'SNWD Thu Sun', 'SNWD Thu holiday', 'SNWD Thu daylight_hrs', 'SNWD Thu dry day', 'SNWD Thu annual', 'SNWD Thu Winter', 'SNWD Thu Spring', 'SNWD Thu Summer', 'SNWD Thu Fall', 'SNWD Thu Dist_from_avg_temp', 'SNWD Thu ideal_temp', 'SNWD Thu log_AWND', 'SNWD Fri^2', 'SNWD Fri Sat', 'SNWD Fri Sun', 'SNWD Fri holiday', 'SNWD Fri daylight_hrs', 'SNWD Fri dry day', 'SNWD Fri annual', 'SNWD Fri Winter', 'SNWD Fri Spring', 'SNWD Fri Summer', 'SNWD Fri Fall', 'SNWD Fri Dist_from_avg_temp', 'SNWD Fri ideal_temp', 'SNWD Fri log_AWND', 'SNWD Sat^2', 'SNWD Sat Sun', 'SNWD Sat holiday', 'SNWD Sat daylight_hrs', 'SNWD Sat dry day', 'SNWD Sat annual', 'SNWD Sat Winter', 'SNWD Sat Spring', 'SNWD Sat Summer', 'SNWD Sat Fall', 'SNWD Sat Dist_from_avg_temp', 'SNWD Sat ideal_temp', 'SNWD Sat log_AWND', 'SNWD Sun^2', 'SNWD Sun holiday', 'SNWD Sun daylight_hrs', 'SNWD Sun dry day', 'SNWD Sun annual', 'SNWD Sun Winter', 'SNWD Sun Spring', 'SNWD Sun Summer', 'SNWD Sun Fall', 'SNWD Sun Dist_from_avg_temp', 'SNWD Sun ideal_temp', 'SNWD Sun log_AWND', 'SNWD holiday^2', 'SNWD holiday daylight_hrs', 'SNWD holiday dry day', 'SNWD holiday annual', 'SNWD holiday Winter', 'SNWD holiday Spring', 'SNWD holiday Summer', 'SNWD holiday Fall', 'SNWD holiday Dist_from_avg_temp', 'SNWD holiday ideal_temp', 'SNWD holiday log_AWND', 'SNWD daylight_hrs^2', 'SNWD daylight_hrs dry day', 'SNWD daylight_hrs annual', 'SNWD daylight_hrs Winter', 'SNWD daylight_hrs Spring', 'SNWD daylight_hrs Summer', 'SNWD daylight_hrs Fall', 'SNWD daylight_hrs Dist_from_avg_temp', 'SNWD daylight_hrs ideal_temp', 'SNWD daylight_hrs log_AWND', 'SNWD dry day^2', 'SNWD dry day annual', 'SNWD dry day Winter', 'SNWD dry day Spring', 'SNWD dry day Summer', 'SNWD dry day Fall', 'SNWD dry day Dist_from_avg_temp', 'SNWD dry day ideal_temp', 'SNWD dry day log_AWND', 'SNWD annual^2', 'SNWD annual Winter', 'SNWD annual Spring', 'SNWD annual Summer', 'SNWD annual Fall', 'SNWD annual Dist_from_avg_temp', 'SNWD annual ideal_temp', 'SNWD annual log_AWND', 'SNWD Winter^2', 'SNWD Winter Spring', 'SNWD Winter Summer', 'SNWD Winter Fall', 'SNWD Winter Dist_from_avg_temp', 'SNWD Winter ideal_temp', 'SNWD Winter log_AWND', 'SNWD Spring^2', 'SNWD Spring Summer', 'SNWD Spring Fall', 'SNWD Spring Dist_from_avg_temp', 'SNWD Spring ideal_temp', 'SNWD Spring log_AWND', 'SNWD Summer^2', 'SNWD Summer Fall', 'SNWD Summer Dist_from_avg_temp', 'SNWD Summer ideal_temp', 'SNWD Summer log_AWND', 'SNWD Fall^2', 'SNWD Fall Dist_from_avg_temp', 'SNWD Fall ideal_temp', 'SNWD Fall log_AWND', 'SNWD Dist_from_avg_temp^2', 'SNWD Dist_from_avg_temp ideal_temp', 'SNWD Dist_from_avg_temp log_AWND', 'SNWD ideal_temp^2', 'SNWD ideal_temp log_AWND', 'SNWD log_AWND^2', 'Total_yesterday^3', 'Total_yesterday^2 Mon', 'Total_yesterday^2 Tue', 'Total_yesterday^2 Wed', 'Total_yesterday^2 Thu', 'Total_yesterday^2 Fri', 'Total_yesterday^2 Sat', 'Total_yesterday^2 Sun', 'Total_yesterday^2 holiday', 'Total_yesterday^2 daylight_hrs', 'Total_yesterday^2 dry day', 'Total_yesterday^2 annual', 'Total_yesterday^2 Winter', 'Total_yesterday^2 Spring', 'Total_yesterday^2 Summer', 'Total_yesterday^2 Fall', 'Total_yesterday^2 Dist_from_avg_temp', 'Total_yesterday^2 ideal_temp', 'Total_yesterday^2 log_AWND', 'Total_yesterday Mon^2', 'Total_yesterday Mon Tue', 'Total_yesterday Mon Wed', 'Total_yesterday Mon Thu', 'Total_yesterday Mon Fri', 'Total_yesterday Mon Sat', 'Total_yesterday Mon Sun', 'Total_yesterday Mon holiday', 'Total_yesterday Mon daylight_hrs', 'Total_yesterday Mon dry day', 'Total_yesterday Mon annual', 'Total_yesterday Mon Winter', 'Total_yesterday Mon Spring', 'Total_yesterday Mon Summer', 'Total_yesterday Mon Fall', 'Total_yesterday Mon Dist_from_avg_temp', 'Total_yesterday Mon ideal_temp', 'Total_yesterday Mon log_AWND', 'Total_yesterday Tue^2', 'Total_yesterday Tue Wed', 'Total_yesterday Tue Thu', 'Total_yesterday Tue Fri', 'Total_yesterday Tue Sat', 'Total_yesterday Tue Sun', 'Total_yesterday Tue holiday', 'Total_yesterday Tue daylight_hrs', 'Total_yesterday Tue dry day', 'Total_yesterday Tue annual', 'Total_yesterday Tue Winter', 'Total_yesterday Tue Spring', 'Total_yesterday Tue Summer', 'Total_yesterday Tue Fall', 'Total_yesterday Tue Dist_from_avg_temp', 'Total_yesterday Tue ideal_temp', 'Total_yesterday Tue log_AWND', 'Total_yesterday Wed^2', 'Total_yesterday Wed Thu', 'Total_yesterday Wed Fri', 'Total_yesterday Wed Sat', 'Total_yesterday Wed Sun', 'Total_yesterday Wed holiday', 'Total_yesterday Wed daylight_hrs', 'Total_yesterday Wed dry day', 'Total_yesterday Wed annual', 'Total_yesterday Wed Winter', 'Total_yesterday Wed Spring', 'Total_yesterday Wed Summer', 'Total_yesterday Wed Fall', 'Total_yesterday Wed Dist_from_avg_temp', 'Total_yesterday Wed ideal_temp', 'Total_yesterday Wed log_AWND', 'Total_yesterday Thu^2', 'Total_yesterday Thu Fri', 'Total_yesterday Thu Sat', 'Total_yesterday Thu Sun', 'Total_yesterday Thu holiday', 'Total_yesterday Thu daylight_hrs', 'Total_yesterday Thu dry day', 'Total_yesterday Thu annual', 'Total_yesterday Thu Winter', 'Total_yesterday Thu Spring', 'Total_yesterday Thu Summer', 'Total_yesterday Thu Fall', 'Total_yesterday Thu Dist_from_avg_temp', 'Total_yesterday Thu ideal_temp', 'Total_yesterday Thu log_AWND', 'Total_yesterday Fri^2', 'Total_yesterday Fri Sat', 'Total_yesterday Fri Sun', 'Total_yesterday Fri holiday', 'Total_yesterday Fri daylight_hrs', 'Total_yesterday Fri dry day', 'Total_yesterday Fri annual', 'Total_yesterday Fri Winter', 'Total_yesterday Fri Spring', 'Total_yesterday Fri Summer', 'Total_yesterday Fri Fall', 'Total_yesterday Fri Dist_from_avg_temp', 'Total_yesterday Fri ideal_temp', 'Total_yesterday Fri log_AWND', 'Total_yesterday Sat^2', 'Total_yesterday Sat Sun', 'Total_yesterday Sat holiday', 'Total_yesterday Sat daylight_hrs', 'Total_yesterday Sat dry day', 'Total_yesterday Sat annual', 'Total_yesterday Sat Winter', 'Total_yesterday Sat Spring', 'Total_yesterday Sat Summer', 'Total_yesterday Sat Fall', 'Total_yesterday Sat Dist_from_avg_temp', 'Total_yesterday Sat ideal_temp', 'Total_yesterday Sat log_AWND', 'Total_yesterday Sun^2', 'Total_yesterday Sun holiday', 'Total_yesterday Sun daylight_hrs', 'Total_yesterday Sun dry day', 'Total_yesterday Sun annual', 'Total_yesterday Sun Winter', 'Total_yesterday Sun Spring', 'Total_yesterday Sun Summer', 'Total_yesterday Sun Fall', 'Total_yesterday Sun Dist_from_avg_temp', 'Total_yesterday Sun ideal_temp', 'Total_yesterday Sun log_AWND', 'Total_yesterday holiday^2', 'Total_yesterday holiday daylight_hrs', 'Total_yesterday holiday dry day', 'Total_yesterday holiday annual', 'Total_yesterday holiday Winter', 'Total_yesterday holiday Spring', 'Total_yesterday holiday Summer', 'Total_yesterday holiday Fall', 'Total_yesterday holiday Dist_from_avg_temp', 'Total_yesterday holiday ideal_temp', 'Total_yesterday holiday log_AWND', 'Total_yesterday daylight_hrs^2', 'Total_yesterday daylight_hrs dry day', 'Total_yesterday daylight_hrs annual', 'Total_yesterday daylight_hrs Winter', 'Total_yesterday daylight_hrs Spring', 'Total_yesterday daylight_hrs Summer', 'Total_yesterday daylight_hrs Fall', 'Total_yesterday daylight_hrs Dist_from_avg_temp', 'Total_yesterday daylight_hrs ideal_temp', 'Total_yesterday daylight_hrs log_AWND', 'Total_yesterday dry day^2', 'Total_yesterday dry day annual', 'Total_yesterday dry day Winter', 'Total_yesterday dry day Spring', 'Total_yesterday dry day Summer', 'Total_yesterday dry day Fall', 'Total_yesterday dry day Dist_from_avg_temp', 'Total_yesterday dry day ideal_temp', 'Total_yesterday dry day log_AWND', 'Total_yesterday annual^2', 'Total_yesterday annual Winter', 'Total_yesterday annual Spring', 'Total_yesterday annual Summer', 'Total_yesterday annual Fall', 'Total_yesterday annual Dist_from_avg_temp', 'Total_yesterday annual ideal_temp', 'Total_yesterday annual log_AWND', 'Total_yesterday Winter^2', 'Total_yesterday Winter Spring', 'Total_yesterday Winter Summer', 'Total_yesterday Winter Fall', 'Total_yesterday Winter Dist_from_avg_temp', 'Total_yesterday Winter ideal_temp', 'Total_yesterday Winter log_AWND', 'Total_yesterday Spring^2', 'Total_yesterday Spring Summer', 'Total_yesterday Spring Fall', 'Total_yesterday Spring Dist_from_avg_temp', 'Total_yesterday Spring ideal_temp', 'Total_yesterday Spring log_AWND', 'Total_yesterday Summer^2', 'Total_yesterday Summer Fall', 'Total_yesterday Summer Dist_from_avg_temp', 'Total_yesterday Summer ideal_temp', 'Total_yesterday Summer log_AWND', 'Total_yesterday Fall^2', 'Total_yesterday Fall Dist_from_avg_temp', 'Total_yesterday Fall ideal_temp', 'Total_yesterday Fall log_AWND', 'Total_yesterday Dist_from_avg_temp^2', 'Total_yesterday Dist_from_avg_temp ideal_temp', 'Total_yesterday Dist_from_avg_temp log_AWND', 'Total_yesterday ideal_temp^2', 'Total_yesterday ideal_temp log_AWND', 'Total_yesterday log_AWND^2', 'Mon^3', 'Mon^2 Tue', 'Mon^2 Wed', 'Mon^2 Thu', 'Mon^2 Fri', 'Mon^2 Sat', 'Mon^2 Sun', 'Mon^2 holiday', 'Mon^2 daylight_hrs', 'Mon^2 dry day', 'Mon^2 annual', 'Mon^2 Winter', 'Mon^2 Spring', 'Mon^2 Summer', 'Mon^2 Fall', 'Mon^2 Dist_from_avg_temp', 'Mon^2 ideal_temp', 'Mon^2 log_AWND', 'Mon Tue^2', 'Mon Tue Wed', 'Mon Tue Thu', 'Mon Tue Fri', 'Mon Tue Sat', 'Mon Tue Sun', 'Mon Tue holiday', 'Mon Tue daylight_hrs', 'Mon Tue dry day', 'Mon Tue annual', 'Mon Tue Winter', 'Mon Tue Spring', 'Mon Tue Summer', 'Mon Tue Fall', 'Mon Tue Dist_from_avg_temp', 'Mon Tue ideal_temp', 'Mon Tue log_AWND', 'Mon Wed^2', 'Mon Wed Thu', 'Mon Wed Fri', 'Mon Wed Sat', 'Mon Wed Sun', 'Mon Wed holiday', 'Mon Wed daylight_hrs', 'Mon Wed dry day', 'Mon Wed annual', 'Mon Wed Winter', 'Mon Wed Spring', 'Mon Wed Summer', 'Mon Wed Fall', 'Mon Wed Dist_from_avg_temp', 'Mon Wed ideal_temp', 'Mon Wed log_AWND', 'Mon Thu^2', 'Mon Thu Fri', 'Mon Thu Sat', 'Mon Thu Sun', 'Mon Thu holiday', 'Mon Thu daylight_hrs', 'Mon Thu dry day', 'Mon Thu annual', 'Mon Thu Winter', 'Mon Thu Spring', 'Mon Thu Summer', 'Mon Thu Fall', 'Mon Thu Dist_from_avg_temp', 'Mon Thu ideal_temp', 'Mon Thu log_AWND', 'Mon Fri^2', 'Mon Fri Sat', 'Mon Fri Sun', 'Mon Fri holiday', 'Mon Fri daylight_hrs', 'Mon Fri dry day', 'Mon Fri annual', 'Mon Fri Winter', 'Mon Fri Spring', 'Mon Fri Summer', 'Mon Fri Fall', 'Mon Fri Dist_from_avg_temp', 'Mon Fri ideal_temp', 'Mon Fri log_AWND', 'Mon Sat^2', 'Mon Sat Sun', 'Mon Sat holiday', 'Mon Sat daylight_hrs', 'Mon Sat dry day', 'Mon Sat annual', 'Mon Sat Winter', 'Mon Sat Spring', 'Mon Sat Summer', 'Mon Sat Fall', 'Mon Sat Dist_from_avg_temp', 'Mon Sat ideal_temp', 'Mon Sat log_AWND', 'Mon Sun^2', 'Mon Sun holiday', 'Mon Sun daylight_hrs', 'Mon Sun dry day', 'Mon Sun annual', 'Mon Sun Winter', 'Mon Sun Spring', 'Mon Sun Summer', 'Mon Sun Fall', 'Mon Sun Dist_from_avg_temp', 'Mon Sun ideal_temp', 'Mon Sun log_AWND', 'Mon holiday^2', 'Mon holiday daylight_hrs', 'Mon holiday dry day', 'Mon holiday annual', 'Mon holiday Winter', 'Mon holiday Spring', 'Mon holiday Summer', 'Mon holiday Fall', 'Mon holiday Dist_from_avg_temp', 'Mon holiday ideal_temp', 'Mon holiday log_AWND', 'Mon daylight_hrs^2', 'Mon daylight_hrs dry day', 'Mon daylight_hrs annual', 'Mon daylight_hrs Winter', 'Mon daylight_hrs Spring', 'Mon daylight_hrs Summer', 'Mon daylight_hrs Fall', 'Mon daylight_hrs Dist_from_avg_temp', 'Mon daylight_hrs ideal_temp', 'Mon daylight_hrs log_AWND', 'Mon dry day^2', 'Mon dry day annual', 'Mon dry day Winter', 'Mon dry day Spring', 'Mon dry day Summer', 'Mon dry day Fall', 'Mon dry day Dist_from_avg_temp', 'Mon dry day ideal_temp', 'Mon dry day log_AWND', 'Mon annual^2', 'Mon annual Winter', 'Mon annual Spring', 'Mon annual Summer', 'Mon annual Fall', 'Mon annual Dist_from_avg_temp', 'Mon annual ideal_temp', 'Mon annual log_AWND', 'Mon Winter^2', 'Mon Winter Spring', 'Mon Winter Summer', 'Mon Winter Fall', 'Mon Winter Dist_from_avg_temp', 'Mon Winter ideal_temp', 'Mon Winter log_AWND', 'Mon Spring^2', 'Mon Spring Summer', 'Mon Spring Fall', 'Mon Spring Dist_from_avg_temp', 'Mon Spring ideal_temp', 'Mon Spring log_AWND', 'Mon Summer^2', 'Mon Summer Fall', 'Mon Summer Dist_from_avg_temp', 'Mon Summer ideal_temp', 'Mon Summer log_AWND', 'Mon Fall^2', 'Mon Fall Dist_from_avg_temp', 'Mon Fall ideal_temp', 'Mon Fall log_AWND', 'Mon Dist_from_avg_temp^2', 'Mon Dist_from_avg_temp ideal_temp', 'Mon Dist_from_avg_temp log_AWND', 'Mon ideal_temp^2', 'Mon ideal_temp log_AWND', 'Mon log_AWND^2', 'Tue^3', 'Tue^2 Wed', 'Tue^2 Thu', 'Tue^2 Fri', 'Tue^2 Sat', 'Tue^2 Sun', 'Tue^2 holiday', 'Tue^2 daylight_hrs', 'Tue^2 dry day', 'Tue^2 annual', 'Tue^2 Winter', 'Tue^2 Spring', 'Tue^2 Summer', 'Tue^2 Fall', 'Tue^2 Dist_from_avg_temp', 'Tue^2 ideal_temp', 'Tue^2 log_AWND', 'Tue Wed^2', 'Tue Wed Thu', 'Tue Wed Fri', 'Tue Wed Sat', 'Tue Wed Sun', 'Tue Wed holiday', 'Tue Wed daylight_hrs', 'Tue Wed dry day', 'Tue Wed annual', 'Tue Wed Winter', 'Tue Wed Spring', 'Tue Wed Summer', 'Tue Wed Fall', 'Tue Wed Dist_from_avg_temp', 'Tue Wed ideal_temp', 'Tue Wed log_AWND', 'Tue Thu^2', 'Tue Thu Fri', 'Tue Thu Sat', 'Tue Thu Sun', 'Tue Thu holiday', 'Tue Thu daylight_hrs', 'Tue Thu dry day', 'Tue Thu annual', 'Tue Thu Winter', 'Tue Thu Spring', 'Tue Thu Summer', 'Tue Thu Fall', 'Tue Thu Dist_from_avg_temp', 'Tue Thu ideal_temp', 'Tue Thu log_AWND', 'Tue Fri^2', 'Tue Fri Sat', 'Tue Fri Sun', 'Tue Fri holiday', 'Tue Fri daylight_hrs', 'Tue Fri dry day', 'Tue Fri annual', 'Tue Fri Winter', 'Tue Fri Spring', 'Tue Fri Summer', 'Tue Fri Fall', 'Tue Fri Dist_from_avg_temp', 'Tue Fri ideal_temp', 'Tue Fri log_AWND', 'Tue Sat^2', 'Tue Sat Sun', 'Tue Sat holiday', 'Tue Sat daylight_hrs', 'Tue Sat dry day', 'Tue Sat annual', 'Tue Sat Winter', 'Tue Sat Spring', 'Tue Sat Summer', 'Tue Sat Fall', 'Tue Sat Dist_from_avg_temp', 'Tue Sat ideal_temp', 'Tue Sat log_AWND', 'Tue Sun^2', 'Tue Sun holiday', 'Tue Sun daylight_hrs', 'Tue Sun dry day', 'Tue Sun annual', 'Tue Sun Winter', 'Tue Sun Spring', 'Tue Sun Summer', 'Tue Sun Fall', 'Tue Sun Dist_from_avg_temp', 'Tue Sun ideal_temp', 'Tue Sun log_AWND', 'Tue holiday^2', 'Tue holiday daylight_hrs', 'Tue holiday dry day', 'Tue holiday annual', 'Tue holiday Winter', 'Tue holiday Spring', 'Tue holiday Summer', 'Tue holiday Fall', 'Tue holiday Dist_from_avg_temp', 'Tue holiday ideal_temp', 'Tue holiday log_AWND', 'Tue daylight_hrs^2', 'Tue daylight_hrs dry day', 'Tue daylight_hrs annual', 'Tue daylight_hrs Winter', 'Tue daylight_hrs Spring', 'Tue daylight_hrs Summer', 'Tue daylight_hrs Fall', 'Tue daylight_hrs Dist_from_avg_temp', 'Tue daylight_hrs ideal_temp', 'Tue daylight_hrs log_AWND', 'Tue dry day^2', 'Tue dry day annual', 'Tue dry day Winter', 'Tue dry day Spring', 'Tue dry day Summer', 'Tue dry day Fall', 'Tue dry day Dist_from_avg_temp', 'Tue dry day ideal_temp', 'Tue dry day log_AWND', 'Tue annual^2', 'Tue annual Winter', 'Tue annual Spring', 'Tue annual Summer', 'Tue annual Fall', 'Tue annual Dist_from_avg_temp', 'Tue annual ideal_temp', 'Tue annual log_AWND', 'Tue Winter^2', 'Tue Winter Spring', 'Tue Winter Summer', 'Tue Winter Fall', 'Tue Winter Dist_from_avg_temp', 'Tue Winter ideal_temp', 'Tue Winter log_AWND', 'Tue Spring^2', 'Tue Spring Summer', 'Tue Spring Fall', 'Tue Spring Dist_from_avg_temp', 'Tue Spring ideal_temp', 'Tue Spring log_AWND', 'Tue Summer^2', 'Tue Summer Fall', 'Tue Summer Dist_from_avg_temp', 'Tue Summer ideal_temp', 'Tue Summer log_AWND', 'Tue Fall^2', 'Tue Fall Dist_from_avg_temp', 'Tue Fall ideal_temp', 'Tue Fall log_AWND', 'Tue Dist_from_avg_temp^2', 'Tue Dist_from_avg_temp ideal_temp', 'Tue Dist_from_avg_temp log_AWND', 'Tue ideal_temp^2', 'Tue ideal_temp log_AWND', 'Tue log_AWND^2', 'Wed^3', 'Wed^2 Thu', 'Wed^2 Fri', 'Wed^2 Sat', 'Wed^2 Sun', 'Wed^2 holiday', 'Wed^2 daylight_hrs', 'Wed^2 dry day', 'Wed^2 annual', 'Wed^2 Winter', 'Wed^2 Spring', 'Wed^2 Summer', 'Wed^2 Fall', 'Wed^2 Dist_from_avg_temp', 'Wed^2 ideal_temp', 'Wed^2 log_AWND', 'Wed Thu^2', 'Wed Thu Fri', 'Wed Thu Sat', 'Wed Thu Sun', 'Wed Thu holiday', 'Wed Thu daylight_hrs', 'Wed Thu dry day', 'Wed Thu annual', 'Wed Thu Winter', 'Wed Thu Spring', 'Wed Thu Summer', 'Wed Thu Fall', 'Wed Thu Dist_from_avg_temp', 'Wed Thu ideal_temp', 'Wed Thu log_AWND', 'Wed Fri^2', 'Wed Fri Sat', 'Wed Fri Sun', 'Wed Fri holiday', 'Wed Fri daylight_hrs', 'Wed Fri dry day', 'Wed Fri annual', 'Wed Fri Winter', 'Wed Fri Spring', 'Wed Fri Summer', 'Wed Fri Fall', 'Wed Fri Dist_from_avg_temp', 'Wed Fri ideal_temp', 'Wed Fri log_AWND', 'Wed Sat^2', 'Wed Sat Sun', 'Wed Sat holiday', 'Wed Sat daylight_hrs', 'Wed Sat dry day', 'Wed Sat annual', 'Wed Sat Winter', 'Wed Sat Spring', 'Wed Sat Summer', 'Wed Sat Fall', 'Wed Sat Dist_from_avg_temp', 'Wed Sat ideal_temp', 'Wed Sat log_AWND', 'Wed Sun^2', 'Wed Sun holiday', 'Wed Sun daylight_hrs', 'Wed Sun dry day', 'Wed Sun annual', 'Wed Sun Winter', 'Wed Sun Spring', 'Wed Sun Summer', 'Wed Sun Fall', 'Wed Sun Dist_from_avg_temp', 'Wed Sun ideal_temp', 'Wed Sun log_AWND', 'Wed holiday^2', 'Wed holiday daylight_hrs', 'Wed holiday dry day', 'Wed holiday annual', 'Wed holiday Winter', 'Wed holiday Spring', 'Wed holiday Summer', 'Wed holiday Fall', 'Wed holiday Dist_from_avg_temp', 'Wed holiday ideal_temp', 'Wed holiday log_AWND', 'Wed daylight_hrs^2', 'Wed daylight_hrs dry day', 'Wed daylight_hrs annual', 'Wed daylight_hrs Winter', 'Wed daylight_hrs Spring', 'Wed daylight_hrs Summer', 'Wed daylight_hrs Fall', 'Wed daylight_hrs Dist_from_avg_temp', 'Wed daylight_hrs ideal_temp', 'Wed daylight_hrs log_AWND', 'Wed dry day^2', 'Wed dry day annual', 'Wed dry day Winter', 'Wed dry day Spring', 'Wed dry day Summer', 'Wed dry day Fall', 'Wed dry day Dist_from_avg_temp', 'Wed dry day ideal_temp', 'Wed dry day log_AWND', 'Wed annual^2', 'Wed annual Winter', 'Wed annual Spring', 'Wed annual Summer', 'Wed annual Fall', 'Wed annual Dist_from_avg_temp', 'Wed annual ideal_temp', 'Wed annual log_AWND', 'Wed Winter^2', 'Wed Winter Spring', 'Wed Winter Summer', 'Wed Winter Fall', 'Wed Winter Dist_from_avg_temp', 'Wed Winter ideal_temp', 'Wed Winter log_AWND', 'Wed Spring^2', 'Wed Spring Summer', 'Wed Spring Fall', 'Wed Spring Dist_from_avg_temp', 'Wed Spring ideal_temp', 'Wed Spring log_AWND', 'Wed Summer^2', 'Wed Summer Fall', 'Wed Summer Dist_from_avg_temp', 'Wed Summer ideal_temp', 'Wed Summer log_AWND', 'Wed Fall^2', 'Wed Fall Dist_from_avg_temp', 'Wed Fall ideal_temp', 'Wed Fall log_AWND', 'Wed Dist_from_avg_temp^2', 'Wed Dist_from_avg_temp ideal_temp', 'Wed Dist_from_avg_temp log_AWND', 'Wed ideal_temp^2', 'Wed ideal_temp log_AWND', 'Wed log_AWND^2', 'Thu^3', 'Thu^2 Fri', 'Thu^2 Sat', 'Thu^2 Sun', 'Thu^2 holiday', 'Thu^2 daylight_hrs', 'Thu^2 dry day', 'Thu^2 annual', 'Thu^2 Winter', 'Thu^2 Spring', 'Thu^2 Summer', 'Thu^2 Fall', 'Thu^2 Dist_from_avg_temp', 'Thu^2 ideal_temp', 'Thu^2 log_AWND', 'Thu Fri^2', 'Thu Fri Sat', 'Thu Fri Sun', 'Thu Fri holiday', 'Thu Fri daylight_hrs', 'Thu Fri dry day', 'Thu Fri annual', 'Thu Fri Winter', 'Thu Fri Spring', 'Thu Fri Summer', 'Thu Fri Fall', 'Thu Fri Dist_from_avg_temp', 'Thu Fri ideal_temp', 'Thu Fri log_AWND', 'Thu Sat^2', 'Thu Sat Sun', 'Thu Sat holiday', 'Thu Sat daylight_hrs', 'Thu Sat dry day', 'Thu Sat annual', 'Thu Sat Winter', 'Thu Sat Spring', 'Thu Sat Summer', 'Thu Sat Fall', 'Thu Sat Dist_from_avg_temp', 'Thu Sat ideal_temp', 'Thu Sat log_AWND', 'Thu Sun^2', 'Thu Sun holiday', 'Thu Sun daylight_hrs', 'Thu Sun dry day', 'Thu Sun annual', 'Thu Sun Winter', 'Thu Sun Spring', 'Thu Sun Summer', 'Thu Sun Fall', 'Thu Sun Dist_from_avg_temp', 'Thu Sun ideal_temp', 'Thu Sun log_AWND', 'Thu holiday^2', 'Thu holiday daylight_hrs', 'Thu holiday dry day', 'Thu holiday annual', 'Thu holiday Winter', 'Thu holiday Spring', 'Thu holiday Summer', 'Thu holiday Fall', 'Thu holiday Dist_from_avg_temp', 'Thu holiday ideal_temp', 'Thu holiday log_AWND', 'Thu daylight_hrs^2', 'Thu daylight_hrs dry day', 'Thu daylight_hrs annual', 'Thu daylight_hrs Winter', 'Thu daylight_hrs Spring', 'Thu daylight_hrs Summer', 'Thu daylight_hrs Fall', 'Thu daylight_hrs Dist_from_avg_temp', 'Thu daylight_hrs ideal_temp', 'Thu daylight_hrs log_AWND', 'Thu dry day^2', 'Thu dry day annual', 'Thu dry day Winter', 'Thu dry day Spring', 'Thu dry day Summer', 'Thu dry day Fall', 'Thu dry day Dist_from_avg_temp', 'Thu dry day ideal_temp', 'Thu dry day log_AWND', 'Thu annual^2', 'Thu annual Winter', 'Thu annual Spring', 'Thu annual Summer', 'Thu annual Fall', 'Thu annual Dist_from_avg_temp', 'Thu annual ideal_temp', 'Thu annual log_AWND', 'Thu Winter^2', 'Thu Winter Spring', 'Thu Winter Summer', 'Thu Winter Fall', 'Thu Winter Dist_from_avg_temp', 'Thu Winter ideal_temp', 'Thu Winter log_AWND', 'Thu Spring^2', 'Thu Spring Summer', 'Thu Spring Fall', 'Thu Spring Dist_from_avg_temp', 'Thu Spring ideal_temp', 'Thu Spring log_AWND', 'Thu Summer^2', 'Thu Summer Fall', 'Thu Summer Dist_from_avg_temp', 'Thu Summer ideal_temp', 'Thu Summer log_AWND', 'Thu Fall^2', 'Thu Fall Dist_from_avg_temp', 'Thu Fall ideal_temp', 'Thu Fall log_AWND', 'Thu Dist_from_avg_temp^2', 'Thu Dist_from_avg_temp ideal_temp', 'Thu Dist_from_avg_temp log_AWND', 'Thu ideal_temp^2', 'Thu ideal_temp log_AWND', 'Thu log_AWND^2', 'Fri^3', 'Fri^2 Sat', 'Fri^2 Sun', 'Fri^2 holiday', 'Fri^2 daylight_hrs', 'Fri^2 dry day', 'Fri^2 annual', 'Fri^2 Winter', 'Fri^2 Spring', 'Fri^2 Summer', 'Fri^2 Fall', 'Fri^2 Dist_from_avg_temp', 'Fri^2 ideal_temp', 'Fri^2 log_AWND', 'Fri Sat^2', 'Fri Sat Sun', 'Fri Sat holiday', 'Fri Sat daylight_hrs', 'Fri Sat dry day', 'Fri Sat annual', 'Fri Sat Winter', 'Fri Sat Spring', 'Fri Sat Summer', 'Fri Sat Fall', 'Fri Sat Dist_from_avg_temp', 'Fri Sat ideal_temp', 'Fri Sat log_AWND', 'Fri Sun^2', 'Fri Sun holiday', 'Fri Sun daylight_hrs', 'Fri Sun dry day', 'Fri Sun annual', 'Fri Sun Winter', 'Fri Sun Spring', 'Fri Sun Summer', 'Fri Sun Fall', 'Fri Sun Dist_from_avg_temp', 'Fri Sun ideal_temp', 'Fri Sun log_AWND', 'Fri holiday^2', 'Fri holiday daylight_hrs', 'Fri holiday dry day', 'Fri holiday annual', 'Fri holiday Winter', 'Fri holiday Spring', 'Fri holiday Summer', 'Fri holiday Fall', 'Fri holiday Dist_from_avg_temp', 'Fri holiday ideal_temp', 'Fri holiday log_AWND', 'Fri daylight_hrs^2', 'Fri daylight_hrs dry day', 'Fri daylight_hrs annual', 'Fri daylight_hrs Winter', 'Fri daylight_hrs Spring', 'Fri daylight_hrs Summer', 'Fri daylight_hrs Fall', 'Fri daylight_hrs Dist_from_avg_temp', 'Fri daylight_hrs ideal_temp', 'Fri daylight_hrs log_AWND', 'Fri dry day^2', 'Fri dry day annual', 'Fri dry day Winter', 'Fri dry day Spring', 'Fri dry day Summer', 'Fri dry day Fall', 'Fri dry day Dist_from_avg_temp', 'Fri dry day ideal_temp', 'Fri dry day log_AWND', 'Fri annual^2', 'Fri annual Winter', 'Fri annual Spring', 'Fri annual Summer', 'Fri annual Fall', 'Fri annual Dist_from_avg_temp', 'Fri annual ideal_temp', 'Fri annual log_AWND', 'Fri Winter^2', 'Fri Winter Spring', 'Fri Winter Summer', 'Fri Winter Fall', 'Fri Winter Dist_from_avg_temp', 'Fri Winter ideal_temp', 'Fri Winter log_AWND', 'Fri Spring^2', 'Fri Spring Summer', 'Fri Spring Fall', 'Fri Spring Dist_from_avg_temp', 'Fri Spring ideal_temp', 'Fri Spring log_AWND', 'Fri Summer^2', 'Fri Summer Fall', 'Fri Summer Dist_from_avg_temp', 'Fri Summer ideal_temp', 'Fri Summer log_AWND', 'Fri Fall^2', 'Fri Fall Dist_from_avg_temp', 'Fri Fall ideal_temp', 'Fri Fall log_AWND', 'Fri Dist_from_avg_temp^2', 'Fri Dist_from_avg_temp ideal_temp', 'Fri Dist_from_avg_temp log_AWND', 'Fri ideal_temp^2', 'Fri ideal_temp log_AWND', 'Fri log_AWND^2', 'Sat^3', 'Sat^2 Sun', 'Sat^2 holiday', 'Sat^2 daylight_hrs', 'Sat^2 dry day', 'Sat^2 annual', 'Sat^2 Winter', 'Sat^2 Spring', 'Sat^2 Summer', 'Sat^2 Fall', 'Sat^2 Dist_from_avg_temp', 'Sat^2 ideal_temp', 'Sat^2 log_AWND', 'Sat Sun^2', 'Sat Sun holiday', 'Sat Sun daylight_hrs', 'Sat Sun dry day', 'Sat Sun annual', 'Sat Sun Winter', 'Sat Sun Spring', 'Sat Sun Summer', 'Sat Sun Fall', 'Sat Sun Dist_from_avg_temp', 'Sat Sun ideal_temp', 'Sat Sun log_AWND', 'Sat holiday^2', 'Sat holiday daylight_hrs', 'Sat holiday dry day', 'Sat holiday annual', 'Sat holiday Winter', 'Sat holiday Spring', 'Sat holiday Summer', 'Sat holiday Fall', 'Sat holiday Dist_from_avg_temp', 'Sat holiday ideal_temp', 'Sat holiday log_AWND', 'Sat daylight_hrs^2', 'Sat daylight_hrs dry day', 'Sat daylight_hrs annual', 'Sat daylight_hrs Winter', 'Sat daylight_hrs Spring', 'Sat daylight_hrs Summer', 'Sat daylight_hrs Fall', 'Sat daylight_hrs Dist_from_avg_temp', 'Sat daylight_hrs ideal_temp', 'Sat daylight_hrs log_AWND', 'Sat dry day^2', 'Sat dry day annual', 'Sat dry day Winter', 'Sat dry day Spring', 'Sat dry day Summer', 'Sat dry day Fall', 'Sat dry day Dist_from_avg_temp', 'Sat dry day ideal_temp', 'Sat dry day log_AWND', 'Sat annual^2', 'Sat annual Winter', 'Sat annual Spring', 'Sat annual Summer', 'Sat annual Fall', 'Sat annual Dist_from_avg_temp', 'Sat annual ideal_temp', 'Sat annual log_AWND', 'Sat Winter^2', 'Sat Winter Spring', 'Sat Winter Summer', 'Sat Winter Fall', 'Sat Winter Dist_from_avg_temp', 'Sat Winter ideal_temp', 'Sat Winter log_AWND', 'Sat Spring^2', 'Sat Spring Summer', 'Sat Spring Fall', 'Sat Spring Dist_from_avg_temp', 'Sat Spring ideal_temp', 'Sat Spring log_AWND', 'Sat Summer^2', 'Sat Summer Fall', 'Sat Summer Dist_from_avg_temp', 'Sat Summer ideal_temp', 'Sat Summer log_AWND', 'Sat Fall^2', 'Sat Fall Dist_from_avg_temp', 'Sat Fall ideal_temp', 'Sat Fall log_AWND', 'Sat Dist_from_avg_temp^2', 'Sat Dist_from_avg_temp ideal_temp', 'Sat Dist_from_avg_temp log_AWND', 'Sat ideal_temp^2', 'Sat ideal_temp log_AWND', 'Sat log_AWND^2', 'Sun^3', 'Sun^2 holiday', 'Sun^2 daylight_hrs', 'Sun^2 dry day', 'Sun^2 annual', 'Sun^2 Winter', 'Sun^2 Spring', 'Sun^2 Summer', 'Sun^2 Fall', 'Sun^2 Dist_from_avg_temp', 'Sun^2 ideal_temp', 'Sun^2 log_AWND', 'Sun holiday^2', 'Sun holiday daylight_hrs', 'Sun holiday dry day', 'Sun holiday annual', 'Sun holiday Winter', 'Sun holiday Spring', 'Sun holiday Summer', 'Sun holiday Fall', 'Sun holiday Dist_from_avg_temp', 'Sun holiday ideal_temp', 'Sun holiday log_AWND', 'Sun daylight_hrs^2', 'Sun daylight_hrs dry day', 'Sun daylight_hrs annual', 'Sun daylight_hrs Winter', 'Sun daylight_hrs Spring', 'Sun daylight_hrs Summer', 'Sun daylight_hrs Fall', 'Sun daylight_hrs Dist_from_avg_temp', 'Sun daylight_hrs ideal_temp', 'Sun daylight_hrs log_AWND', 'Sun dry day^2', 'Sun dry day annual', 'Sun dry day Winter', 'Sun dry day Spring', 'Sun dry day Summer', 'Sun dry day Fall', 'Sun dry day Dist_from_avg_temp', 'Sun dry day ideal_temp', 'Sun dry day log_AWND', 'Sun annual^2', 'Sun annual Winter', 'Sun annual Spring', 'Sun annual Summer', 'Sun annual Fall', 'Sun annual Dist_from_avg_temp', 'Sun annual ideal_temp', 'Sun annual log_AWND', 'Sun Winter^2', 'Sun Winter Spring', 'Sun Winter Summer', 'Sun Winter Fall', 'Sun Winter Dist_from_avg_temp', 'Sun Winter ideal_temp', 'Sun Winter log_AWND', 'Sun Spring^2', 'Sun Spring Summer', 'Sun Spring Fall', 'Sun Spring Dist_from_avg_temp', 'Sun Spring ideal_temp', 'Sun Spring log_AWND', 'Sun Summer^2', 'Sun Summer Fall', 'Sun Summer Dist_from_avg_temp', 'Sun Summer ideal_temp', 'Sun Summer log_AWND', 'Sun Fall^2', 'Sun Fall Dist_from_avg_temp', 'Sun Fall ideal_temp', 'Sun Fall log_AWND', 'Sun Dist_from_avg_temp^2', 'Sun Dist_from_avg_temp ideal_temp', 'Sun Dist_from_avg_temp log_AWND', 'Sun ideal_temp^2', 'Sun ideal_temp log_AWND', 'Sun log_AWND^2', 'holiday^3', 'holiday^2 daylight_hrs', 'holiday^2 dry day', 'holiday^2 annual', 'holiday^2 Winter', 'holiday^2 Spring', 'holiday^2 Summer', 'holiday^2 Fall', 'holiday^2 Dist_from_avg_temp', 'holiday^2 ideal_temp', 'holiday^2 log_AWND', 'holiday daylight_hrs^2', 'holiday daylight_hrs dry day', 'holiday daylight_hrs annual', 'holiday daylight_hrs Winter', 'holiday daylight_hrs Spring', 'holiday daylight_hrs Summer', 'holiday daylight_hrs Fall', 'holiday daylight_hrs Dist_from_avg_temp', 'holiday daylight_hrs ideal_temp', 'holiday daylight_hrs log_AWND', 'holiday dry day^2', 'holiday dry day annual', 'holiday dry day Winter', 'holiday dry day Spring', 'holiday dry day Summer', 'holiday dry day Fall', 'holiday dry day Dist_from_avg_temp', 'holiday dry day ideal_temp', 'holiday dry day log_AWND', 'holiday annual^2', 'holiday annual Winter', 'holiday annual Spring', 'holiday annual Summer', 'holiday annual Fall', 'holiday annual Dist_from_avg_temp', 'holiday annual ideal_temp', 'holiday annual log_AWND', 'holiday Winter^2', 'holiday Winter Spring', 'holiday Winter Summer', 'holiday Winter Fall', 'holiday Winter Dist_from_avg_temp', 'holiday Winter ideal_temp', 'holiday Winter log_AWND', 'holiday Spring^2', 'holiday Spring Summer', 'holiday Spring Fall', 'holiday Spring Dist_from_avg_temp', 'holiday Spring ideal_temp', 'holiday Spring log_AWND', 'holiday Summer^2', 'holiday Summer Fall', 'holiday Summer Dist_from_avg_temp', 'holiday Summer ideal_temp', 'holiday Summer log_AWND', 'holiday Fall^2', 'holiday Fall Dist_from_avg_temp', 'holiday Fall ideal_temp', 'holiday Fall log_AWND', 'holiday Dist_from_avg_temp^2', 'holiday Dist_from_avg_temp ideal_temp', 'holiday Dist_from_avg_temp log_AWND', 'holiday ideal_temp^2', 'holiday ideal_temp log_AWND', 'holiday log_AWND^2', 'daylight_hrs^3', 'daylight_hrs^2 dry day', 'daylight_hrs^2 annual', 'daylight_hrs^2 Winter', 'daylight_hrs^2 Spring', 'daylight_hrs^2 Summer', 'daylight_hrs^2 Fall', 'daylight_hrs^2 Dist_from_avg_temp', 'daylight_hrs^2 ideal_temp', 'daylight_hrs^2 log_AWND', 'daylight_hrs dry day^2', 'daylight_hrs dry day annual', 'daylight_hrs dry day Winter', 'daylight_hrs dry day Spring', 'daylight_hrs dry day Summer', 'daylight_hrs dry day Fall', 'daylight_hrs dry day Dist_from_avg_temp', 'daylight_hrs dry day ideal_temp', 'daylight_hrs dry day log_AWND', 'daylight_hrs annual^2', 'daylight_hrs annual Winter', 'daylight_hrs annual Spring', 'daylight_hrs annual Summer', 'daylight_hrs annual Fall', 'daylight_hrs annual Dist_from_avg_temp', 'daylight_hrs annual ideal_temp', 'daylight_hrs annual log_AWND', 'daylight_hrs Winter^2', 'daylight_hrs Winter Spring', 'daylight_hrs Winter Summer', 'daylight_hrs Winter Fall', 'daylight_hrs Winter Dist_from_avg_temp', 'daylight_hrs Winter ideal_temp', 'daylight_hrs Winter log_AWND', 'daylight_hrs Spring^2', 'daylight_hrs Spring Summer', 'daylight_hrs Spring Fall', 'daylight_hrs Spring Dist_from_avg_temp', 'daylight_hrs Spring ideal_temp', 'daylight_hrs Spring log_AWND', 'daylight_hrs Summer^2', 'daylight_hrs Summer Fall', 'daylight_hrs Summer Dist_from_avg_temp', 'daylight_hrs Summer ideal_temp', 'daylight_hrs Summer log_AWND', 'daylight_hrs Fall^2', 'daylight_hrs Fall Dist_from_avg_temp', 'daylight_hrs Fall ideal_temp', 'daylight_hrs Fall log_AWND', 'daylight_hrs Dist_from_avg_temp^2', 'daylight_hrs Dist_from_avg_temp ideal_temp', 'daylight_hrs Dist_from_avg_temp log_AWND', 'daylight_hrs ideal_temp^2', 'daylight_hrs ideal_temp log_AWND', 'daylight_hrs log_AWND^2', 'dry day^3', 'dry day^2 annual', 'dry day^2 Winter', 'dry day^2 Spring', 'dry day^2 Summer', 'dry day^2 Fall', 'dry day^2 Dist_from_avg_temp', 'dry day^2 ideal_temp', 'dry day^2 log_AWND', 'dry day annual^2', 'dry day annual Winter', 'dry day annual Spring', 'dry day annual Summer', 'dry day annual Fall', 'dry day annual Dist_from_avg_temp', 'dry day annual ideal_temp', 'dry day annual log_AWND', 'dry day Winter^2', 'dry day Winter Spring', 'dry day Winter Summer', 'dry day Winter Fall', 'dry day Winter Dist_from_avg_temp', 'dry day Winter ideal_temp', 'dry day Winter log_AWND', 'dry day Spring^2', 'dry day Spring Summer', 'dry day Spring Fall', 'dry day Spring Dist_from_avg_temp', 'dry day Spring ideal_temp', 'dry day Spring log_AWND', 'dry day Summer^2', 'dry day Summer Fall', 'dry day Summer Dist_from_avg_temp', 'dry day Summer ideal_temp', 'dry day Summer log_AWND', 'dry day Fall^2', 'dry day Fall Dist_from_avg_temp', 'dry day Fall ideal_temp', 'dry day Fall log_AWND', 'dry day Dist_from_avg_temp^2', 'dry day Dist_from_avg_temp ideal_temp', 'dry day Dist_from_avg_temp log_AWND', 'dry day ideal_temp^2', 'dry day ideal_temp log_AWND', 'dry day log_AWND^2', 'annual^3', 'annual^2 Winter', 'annual^2 Spring', 'annual^2 Summer', 'annual^2 Fall', 'annual^2 Dist_from_avg_temp', 'annual^2 ideal_temp', 'annual^2 log_AWND', 'annual Winter^2', 'annual Winter Spring', 'annual Winter Summer', 'annual Winter Fall', 'annual Winter Dist_from_avg_temp', 'annual Winter ideal_temp', 'annual Winter log_AWND', 'annual Spring^2', 'annual Spring Summer', 'annual Spring Fall', 'annual Spring Dist_from_avg_temp', 'annual Spring ideal_temp', 'annual Spring log_AWND', 'annual Summer^2', 'annual Summer Fall', 'annual Summer Dist_from_avg_temp', 'annual Summer ideal_temp', 'annual Summer log_AWND', 'annual Fall^2', 'annual Fall Dist_from_avg_temp', 'annual Fall ideal_temp', 'annual Fall log_AWND', 'annual Dist_from_avg_temp^2', 'annual Dist_from_avg_temp ideal_temp', 'annual Dist_from_avg_temp log_AWND', 'annual ideal_temp^2', 'annual ideal_temp log_AWND', 'annual log_AWND^2', 'Winter^3', 'Winter^2 Spring', 'Winter^2 Summer', 'Winter^2 Fall', 'Winter^2 Dist_from_avg_temp', 'Winter^2 ideal_temp', 'Winter^2 log_AWND', 'Winter Spring^2', 'Winter Spring Summer', 'Winter Spring Fall', 'Winter Spring Dist_from_avg_temp', 'Winter Spring ideal_temp', 'Winter Spring log_AWND', 'Winter Summer^2', 'Winter Summer Fall', 'Winter Summer Dist_from_avg_temp', 'Winter Summer ideal_temp', 'Winter Summer log_AWND', 'Winter Fall^2', 'Winter Fall Dist_from_avg_temp', 'Winter Fall ideal_temp', 'Winter Fall log_AWND', 'Winter Dist_from_avg_temp^2', 'Winter Dist_from_avg_temp ideal_temp', 'Winter Dist_from_avg_temp log_AWND', 'Winter ideal_temp^2', 'Winter ideal_temp log_AWND', 'Winter log_AWND^2', 'Spring^3', 'Spring^2 Summer', 'Spring^2 Fall', 'Spring^2 Dist_from_avg_temp', 'Spring^2 ideal_temp', 'Spring^2 log_AWND', 'Spring Summer^2', 'Spring Summer Fall', 'Spring Summer Dist_from_avg_temp', 'Spring Summer ideal_temp', 'Spring Summer log_AWND', 'Spring Fall^2', 'Spring Fall Dist_from_avg_temp', 'Spring Fall ideal_temp', 'Spring Fall log_AWND', 'Spring Dist_from_avg_temp^2', 'Spring Dist_from_avg_temp ideal_temp', 'Spring Dist_from_avg_temp log_AWND', 'Spring ideal_temp^2', 'Spring ideal_temp log_AWND', 'Spring log_AWND^2', 'Summer^3', 'Summer^2 Fall', 'Summer^2 Dist_from_avg_temp', 'Summer^2 ideal_temp', 'Summer^2 log_AWND', 'Summer Fall^2', 'Summer Fall Dist_from_avg_temp', 'Summer Fall ideal_temp', 'Summer Fall log_AWND', 'Summer Dist_from_avg_temp^2', 'Summer Dist_from_avg_temp ideal_temp', 'Summer Dist_from_avg_temp log_AWND', 'Summer ideal_temp^2', 'Summer ideal_temp log_AWND', 'Summer log_AWND^2', 'Fall^3', 'Fall^2 Dist_from_avg_temp', 'Fall^2 ideal_temp', 'Fall^2 log_AWND', 'Fall Dist_from_avg_temp^2', 'Fall Dist_from_avg_temp ideal_temp', 'Fall Dist_from_avg_temp log_AWND', 'Fall ideal_temp^2', 'Fall ideal_temp log_AWND', 'Fall log_AWND^2', 'Dist_from_avg_temp^3', 'Dist_from_avg_temp^2 ideal_temp', 'Dist_from_avg_temp^2 log_AWND', 'Dist_from_avg_temp ideal_temp^2', 'Dist_from_avg_temp ideal_temp log_AWND', 'Dist_from_avg_temp log_AWND^2', 'ideal_temp^3', 'ideal_temp^2 log_AWND', 'ideal_temp log_AWND^2', 'log_AWND^3']\n",
      "\n",
      "\n"
     ]
    }
   ],
   "source": [
    "for degree in [0, 1, 2, 3]:\n",
    "    features = PolynomialFeatures(degree).fit(X_train).get_feature_names(X_train.columns)\n",
    "    print(f'{degree} degree polynomial has {len(features)} features')\n",
    "    print(features)\n",
    "    print('\\n')"
   ]
  },
  {
   "cell_type": "code",
   "execution_count": 128,
   "metadata": {},
   "outputs": [
    {
     "data": {
      "image/png": "[encoded data removed]",
      "text/plain": [
       "<Figure size 432x288 with 1 Axes>"
      ]
     },
     "metadata": {},
     "output_type": "display_data"
    }
   ],
   "source": [
    "import matplotlib.pyplot as plt\n",
    "from sklearn.model_selection import validation_curve\n",
    "\n",
    "degree = [0, 1, 2]\n",
    "train_score, val_score = validation_curve(\n",
    "    PolynomialRegression(), X_train, y_train,\n",
    "    param_name='polynomialfeatures__degree', param_range=degree, \n",
    "    scoring='neg_mean_absolute_error', cv=3)\n",
    "\n",
    "plt.plot(degree, np.median(train_score, 1), color='blue', label='training score')\n",
    "plt.plot(degree, np.median(val_score, 1), color='red', label='validation score')\n",
    "plt.legend(loc='best')\n",
    "plt.xlabel('degree');"
   ]
  },
  {
   "cell_type": "code",
   "execution_count": 100,
   "metadata": {},
   "outputs": [
    {
     "ename": "KeyboardInterrupt",
     "evalue": "",
     "output_type": "error",
     "traceback": [
      "\u001b[1;31m---------------------------------------------------------------------------\u001b[0m",
      "\u001b[1;31mKeyboardInterrupt\u001b[0m                         Traceback (most recent call last)",
      "\u001b[1;32m<ipython-input-100-9187e50e635a>\u001b[0m in \u001b[0;36m<module>\u001b[1;34m()\u001b[0m\n\u001b[0;32m      7\u001b[0m                          \u001b[0mscoring\u001b[0m \u001b[1;33m=\u001b[0m \u001b[1;34m'neg_mean_absolute_error'\u001b[0m\u001b[1;33m,\u001b[0m\u001b[0mcv\u001b[0m\u001b[1;33m=\u001b[0m\u001b[1;36m3\u001b[0m\u001b[1;33m,\u001b[0m\u001b[1;33m\u001b[0m\u001b[0m\n\u001b[0;32m      8\u001b[0m                          return_train_score =True)\n\u001b[1;32m----> 9\u001b[1;33m \u001b[0mgridsearch\u001b[0m\u001b[1;33m.\u001b[0m\u001b[0mfit\u001b[0m\u001b[1;33m(\u001b[0m\u001b[0mX_train\u001b[0m\u001b[1;33m,\u001b[0m \u001b[0my_train\u001b[0m\u001b[1;33m)\u001b[0m\u001b[1;33m\u001b[0m\u001b[0m\n\u001b[0m\u001b[0;32m     10\u001b[0m \u001b[0mresults\u001b[0m \u001b[1;33m=\u001b[0m \u001b[0mpd\u001b[0m\u001b[1;33m.\u001b[0m\u001b[0mDataFrame\u001b[0m\u001b[1;33m(\u001b[0m\u001b[0mgridsearch\u001b[0m\u001b[1;33m.\u001b[0m\u001b[0mcv_results_\u001b[0m\u001b[1;33m)\u001b[0m\u001b[1;33m\u001b[0m\u001b[0m\n\u001b[0;32m     11\u001b[0m \u001b[0mprint\u001b[0m\u001b[1;33m(\u001b[0m\u001b[1;34mf'Best result from grid search of {len(results)} parameter combinations'\u001b[0m\u001b[1;33m)\u001b[0m\u001b[1;33m\u001b[0m\u001b[0m\n",
      "\u001b[1;32m~\\Anaconda3\\lib\\site-packages\\sklearn\\model_selection\\_search.py\u001b[0m in \u001b[0;36mfit\u001b[1;34m(self, X, y, groups, **fit_params)\u001b[0m\n\u001b[0;32m    637\u001b[0m                                   error_score=self.error_score)\n\u001b[0;32m    638\u001b[0m           for parameters, (train, test) in product(candidate_params,\n\u001b[1;32m--> 639\u001b[1;33m                                                    cv.split(X, y, groups)))\n\u001b[0m\u001b[0;32m    640\u001b[0m \u001b[1;33m\u001b[0m\u001b[0m\n\u001b[0;32m    641\u001b[0m         \u001b[1;31m# if one choose to see train score, \"out\" will contain train score info\u001b[0m\u001b[1;33m\u001b[0m\u001b[1;33m\u001b[0m\u001b[0m\n",
      "\u001b[1;32m~\\Anaconda3\\lib\\site-packages\\sklearn\\externals\\joblib\\parallel.py\u001b[0m in \u001b[0;36m__call__\u001b[1;34m(self, iterable)\u001b[0m\n\u001b[0;32m    777\u001b[0m             \u001b[1;31m# was dispatched. In particular this covers the edge\u001b[0m\u001b[1;33m\u001b[0m\u001b[1;33m\u001b[0m\u001b[0m\n\u001b[0;32m    778\u001b[0m             \u001b[1;31m# case of Parallel used with an exhausted iterator.\u001b[0m\u001b[1;33m\u001b[0m\u001b[1;33m\u001b[0m\u001b[0m\n\u001b[1;32m--> 779\u001b[1;33m             \u001b[1;32mwhile\u001b[0m \u001b[0mself\u001b[0m\u001b[1;33m.\u001b[0m\u001b[0mdispatch_one_batch\u001b[0m\u001b[1;33m(\u001b[0m\u001b[0miterator\u001b[0m\u001b[1;33m)\u001b[0m\u001b[1;33m:\u001b[0m\u001b[1;33m\u001b[0m\u001b[0m\n\u001b[0m\u001b[0;32m    780\u001b[0m                 \u001b[0mself\u001b[0m\u001b[1;33m.\u001b[0m\u001b[0m_iterating\u001b[0m \u001b[1;33m=\u001b[0m \u001b[1;32mTrue\u001b[0m\u001b[1;33m\u001b[0m\u001b[0m\n\u001b[0;32m    781\u001b[0m             \u001b[1;32melse\u001b[0m\u001b[1;33m:\u001b[0m\u001b[1;33m\u001b[0m\u001b[0m\n",
      "\u001b[1;32m~\\Anaconda3\\lib\\site-packages\\sklearn\\externals\\joblib\\parallel.py\u001b[0m in \u001b[0;36mdispatch_one_batch\u001b[1;34m(self, iterator)\u001b[0m\n\u001b[0;32m    623\u001b[0m                 \u001b[1;32mreturn\u001b[0m \u001b[1;32mFalse\u001b[0m\u001b[1;33m\u001b[0m\u001b[0m\n\u001b[0;32m    624\u001b[0m             \u001b[1;32melse\u001b[0m\u001b[1;33m:\u001b[0m\u001b[1;33m\u001b[0m\u001b[0m\n\u001b[1;32m--> 625\u001b[1;33m                 \u001b[0mself\u001b[0m\u001b[1;33m.\u001b[0m\u001b[0m_dispatch\u001b[0m\u001b[1;33m(\u001b[0m\u001b[0mtasks\u001b[0m\u001b[1;33m)\u001b[0m\u001b[1;33m\u001b[0m\u001b[0m\n\u001b[0m\u001b[0;32m    626\u001b[0m                 \u001b[1;32mreturn\u001b[0m \u001b[1;32mTrue\u001b[0m\u001b[1;33m\u001b[0m\u001b[0m\n\u001b[0;32m    627\u001b[0m \u001b[1;33m\u001b[0m\u001b[0m\n",
      "\u001b[1;32m~\\Anaconda3\\lib\\site-packages\\sklearn\\externals\\joblib\\parallel.py\u001b[0m in \u001b[0;36m_dispatch\u001b[1;34m(self, batch)\u001b[0m\n\u001b[0;32m    586\u001b[0m         \u001b[0mdispatch_timestamp\u001b[0m \u001b[1;33m=\u001b[0m \u001b[0mtime\u001b[0m\u001b[1;33m.\u001b[0m\u001b[0mtime\u001b[0m\u001b[1;33m(\u001b[0m\u001b[1;33m)\u001b[0m\u001b[1;33m\u001b[0m\u001b[0m\n\u001b[0;32m    587\u001b[0m         \u001b[0mcb\u001b[0m \u001b[1;33m=\u001b[0m \u001b[0mBatchCompletionCallBack\u001b[0m\u001b[1;33m(\u001b[0m\u001b[0mdispatch_timestamp\u001b[0m\u001b[1;33m,\u001b[0m \u001b[0mlen\u001b[0m\u001b[1;33m(\u001b[0m\u001b[0mbatch\u001b[0m\u001b[1;33m)\u001b[0m\u001b[1;33m,\u001b[0m \u001b[0mself\u001b[0m\u001b[1;33m)\u001b[0m\u001b[1;33m\u001b[0m\u001b[0m\n\u001b[1;32m--> 588\u001b[1;33m         \u001b[0mjob\u001b[0m \u001b[1;33m=\u001b[0m \u001b[0mself\u001b[0m\u001b[1;33m.\u001b[0m\u001b[0m_backend\u001b[0m\u001b[1;33m.\u001b[0m\u001b[0mapply_async\u001b[0m\u001b[1;33m(\u001b[0m\u001b[0mbatch\u001b[0m\u001b[1;33m,\u001b[0m \u001b[0mcallback\u001b[0m\u001b[1;33m=\u001b[0m\u001b[0mcb\u001b[0m\u001b[1;33m)\u001b[0m\u001b[1;33m\u001b[0m\u001b[0m\n\u001b[0m\u001b[0;32m    589\u001b[0m         \u001b[0mself\u001b[0m\u001b[1;33m.\u001b[0m\u001b[0m_jobs\u001b[0m\u001b[1;33m.\u001b[0m\u001b[0mappend\u001b[0m\u001b[1;33m(\u001b[0m\u001b[0mjob\u001b[0m\u001b[1;33m)\u001b[0m\u001b[1;33m\u001b[0m\u001b[0m\n\u001b[0;32m    590\u001b[0m \u001b[1;33m\u001b[0m\u001b[0m\n",
      "\u001b[1;32m~\\Anaconda3\\lib\\site-packages\\sklearn\\externals\\joblib\\_parallel_backends.py\u001b[0m in \u001b[0;36mapply_async\u001b[1;34m(self, func, callback)\u001b[0m\n\u001b[0;32m    109\u001b[0m     \u001b[1;32mdef\u001b[0m \u001b[0mapply_async\u001b[0m\u001b[1;33m(\u001b[0m\u001b[0mself\u001b[0m\u001b[1;33m,\u001b[0m \u001b[0mfunc\u001b[0m\u001b[1;33m,\u001b[0m \u001b[0mcallback\u001b[0m\u001b[1;33m=\u001b[0m\u001b[1;32mNone\u001b[0m\u001b[1;33m)\u001b[0m\u001b[1;33m:\u001b[0m\u001b[1;33m\u001b[0m\u001b[0m\n\u001b[0;32m    110\u001b[0m         \u001b[1;34m\"\"\"Schedule a func to be run\"\"\"\u001b[0m\u001b[1;33m\u001b[0m\u001b[0m\n\u001b[1;32m--> 111\u001b[1;33m         \u001b[0mresult\u001b[0m \u001b[1;33m=\u001b[0m \u001b[0mImmediateResult\u001b[0m\u001b[1;33m(\u001b[0m\u001b[0mfunc\u001b[0m\u001b[1;33m)\u001b[0m\u001b[1;33m\u001b[0m\u001b[0m\n\u001b[0m\u001b[0;32m    112\u001b[0m         \u001b[1;32mif\u001b[0m \u001b[0mcallback\u001b[0m\u001b[1;33m:\u001b[0m\u001b[1;33m\u001b[0m\u001b[0m\n\u001b[0;32m    113\u001b[0m             \u001b[0mcallback\u001b[0m\u001b[1;33m(\u001b[0m\u001b[0mresult\u001b[0m\u001b[1;33m)\u001b[0m\u001b[1;33m\u001b[0m\u001b[0m\n",
      "\u001b[1;32m~\\Anaconda3\\lib\\site-packages\\sklearn\\externals\\joblib\\_parallel_backends.py\u001b[0m in \u001b[0;36m__init__\u001b[1;34m(self, batch)\u001b[0m\n\u001b[0;32m    330\u001b[0m         \u001b[1;31m# Don't delay the application, to avoid keeping the input\u001b[0m\u001b[1;33m\u001b[0m\u001b[1;33m\u001b[0m\u001b[0m\n\u001b[0;32m    331\u001b[0m         \u001b[1;31m# arguments in memory\u001b[0m\u001b[1;33m\u001b[0m\u001b[1;33m\u001b[0m\u001b[0m\n\u001b[1;32m--> 332\u001b[1;33m         \u001b[0mself\u001b[0m\u001b[1;33m.\u001b[0m\u001b[0mresults\u001b[0m \u001b[1;33m=\u001b[0m \u001b[0mbatch\u001b[0m\u001b[1;33m(\u001b[0m\u001b[1;33m)\u001b[0m\u001b[1;33m\u001b[0m\u001b[0m\n\u001b[0m\u001b[0;32m    333\u001b[0m \u001b[1;33m\u001b[0m\u001b[0m\n\u001b[0;32m    334\u001b[0m     \u001b[1;32mdef\u001b[0m \u001b[0mget\u001b[0m\u001b[1;33m(\u001b[0m\u001b[0mself\u001b[0m\u001b[1;33m)\u001b[0m\u001b[1;33m:\u001b[0m\u001b[1;33m\u001b[0m\u001b[0m\n",
      "\u001b[1;32m~\\Anaconda3\\lib\\site-packages\\sklearn\\externals\\joblib\\parallel.py\u001b[0m in \u001b[0;36m__call__\u001b[1;34m(self)\u001b[0m\n\u001b[0;32m    129\u001b[0m \u001b[1;33m\u001b[0m\u001b[0m\n\u001b[0;32m    130\u001b[0m     \u001b[1;32mdef\u001b[0m \u001b[0m__call__\u001b[0m\u001b[1;33m(\u001b[0m\u001b[0mself\u001b[0m\u001b[1;33m)\u001b[0m\u001b[1;33m:\u001b[0m\u001b[1;33m\u001b[0m\u001b[0m\n\u001b[1;32m--> 131\u001b[1;33m         \u001b[1;32mreturn\u001b[0m \u001b[1;33m[\u001b[0m\u001b[0mfunc\u001b[0m\u001b[1;33m(\u001b[0m\u001b[1;33m*\u001b[0m\u001b[0margs\u001b[0m\u001b[1;33m,\u001b[0m \u001b[1;33m**\u001b[0m\u001b[0mkwargs\u001b[0m\u001b[1;33m)\u001b[0m \u001b[1;32mfor\u001b[0m \u001b[0mfunc\u001b[0m\u001b[1;33m,\u001b[0m \u001b[0margs\u001b[0m\u001b[1;33m,\u001b[0m \u001b[0mkwargs\u001b[0m \u001b[1;32min\u001b[0m \u001b[0mself\u001b[0m\u001b[1;33m.\u001b[0m\u001b[0mitems\u001b[0m\u001b[1;33m]\u001b[0m\u001b[1;33m\u001b[0m\u001b[0m\n\u001b[0m\u001b[0;32m    132\u001b[0m \u001b[1;33m\u001b[0m\u001b[0m\n\u001b[0;32m    133\u001b[0m     \u001b[1;32mdef\u001b[0m \u001b[0m__len__\u001b[0m\u001b[1;33m(\u001b[0m\u001b[0mself\u001b[0m\u001b[1;33m)\u001b[0m\u001b[1;33m:\u001b[0m\u001b[1;33m\u001b[0m\u001b[0m\n",
      "\u001b[1;32m~\\Anaconda3\\lib\\site-packages\\sklearn\\externals\\joblib\\parallel.py\u001b[0m in \u001b[0;36m<listcomp>\u001b[1;34m(.0)\u001b[0m\n\u001b[0;32m    129\u001b[0m \u001b[1;33m\u001b[0m\u001b[0m\n\u001b[0;32m    130\u001b[0m     \u001b[1;32mdef\u001b[0m \u001b[0m__call__\u001b[0m\u001b[1;33m(\u001b[0m\u001b[0mself\u001b[0m\u001b[1;33m)\u001b[0m\u001b[1;33m:\u001b[0m\u001b[1;33m\u001b[0m\u001b[0m\n\u001b[1;32m--> 131\u001b[1;33m         \u001b[1;32mreturn\u001b[0m \u001b[1;33m[\u001b[0m\u001b[0mfunc\u001b[0m\u001b[1;33m(\u001b[0m\u001b[1;33m*\u001b[0m\u001b[0margs\u001b[0m\u001b[1;33m,\u001b[0m \u001b[1;33m**\u001b[0m\u001b[0mkwargs\u001b[0m\u001b[1;33m)\u001b[0m \u001b[1;32mfor\u001b[0m \u001b[0mfunc\u001b[0m\u001b[1;33m,\u001b[0m \u001b[0margs\u001b[0m\u001b[1;33m,\u001b[0m \u001b[0mkwargs\u001b[0m \u001b[1;32min\u001b[0m \u001b[0mself\u001b[0m\u001b[1;33m.\u001b[0m\u001b[0mitems\u001b[0m\u001b[1;33m]\u001b[0m\u001b[1;33m\u001b[0m\u001b[0m\n\u001b[0m\u001b[0;32m    132\u001b[0m \u001b[1;33m\u001b[0m\u001b[0m\n\u001b[0;32m    133\u001b[0m     \u001b[1;32mdef\u001b[0m \u001b[0m__len__\u001b[0m\u001b[1;33m(\u001b[0m\u001b[0mself\u001b[0m\u001b[1;33m)\u001b[0m\u001b[1;33m:\u001b[0m\u001b[1;33m\u001b[0m\u001b[0m\n",
      "\u001b[1;32m~\\Anaconda3\\lib\\site-packages\\sklearn\\model_selection\\_validation.py\u001b[0m in \u001b[0;36m_fit_and_score\u001b[1;34m(estimator, X, y, scorer, train, test, verbose, parameters, fit_params, return_train_score, return_parameters, return_n_test_samples, return_times, error_score)\u001b[0m\n\u001b[0;32m    456\u001b[0m             \u001b[0mestimator\u001b[0m\u001b[1;33m.\u001b[0m\u001b[0mfit\u001b[0m\u001b[1;33m(\u001b[0m\u001b[0mX_train\u001b[0m\u001b[1;33m,\u001b[0m \u001b[1;33m**\u001b[0m\u001b[0mfit_params\u001b[0m\u001b[1;33m)\u001b[0m\u001b[1;33m\u001b[0m\u001b[0m\n\u001b[0;32m    457\u001b[0m         \u001b[1;32melse\u001b[0m\u001b[1;33m:\u001b[0m\u001b[1;33m\u001b[0m\u001b[0m\n\u001b[1;32m--> 458\u001b[1;33m             \u001b[0mestimator\u001b[0m\u001b[1;33m.\u001b[0m\u001b[0mfit\u001b[0m\u001b[1;33m(\u001b[0m\u001b[0mX_train\u001b[0m\u001b[1;33m,\u001b[0m \u001b[0my_train\u001b[0m\u001b[1;33m,\u001b[0m \u001b[1;33m**\u001b[0m\u001b[0mfit_params\u001b[0m\u001b[1;33m)\u001b[0m\u001b[1;33m\u001b[0m\u001b[0m\n\u001b[0m\u001b[0;32m    459\u001b[0m \u001b[1;33m\u001b[0m\u001b[0m\n\u001b[0;32m    460\u001b[0m     \u001b[1;32mexcept\u001b[0m \u001b[0mException\u001b[0m \u001b[1;32mas\u001b[0m \u001b[0me\u001b[0m\u001b[1;33m:\u001b[0m\u001b[1;33m\u001b[0m\u001b[0m\n",
      "\u001b[1;32m~\\Anaconda3\\lib\\site-packages\\sklearn\\ensemble\\forest.py\u001b[0m in \u001b[0;36mfit\u001b[1;34m(self, X, y, sample_weight)\u001b[0m\n\u001b[0;32m    326\u001b[0m                     \u001b[0mt\u001b[0m\u001b[1;33m,\u001b[0m \u001b[0mself\u001b[0m\u001b[1;33m,\u001b[0m \u001b[0mX\u001b[0m\u001b[1;33m,\u001b[0m \u001b[0my\u001b[0m\u001b[1;33m,\u001b[0m \u001b[0msample_weight\u001b[0m\u001b[1;33m,\u001b[0m \u001b[0mi\u001b[0m\u001b[1;33m,\u001b[0m \u001b[0mlen\u001b[0m\u001b[1;33m(\u001b[0m\u001b[0mtrees\u001b[0m\u001b[1;33m)\u001b[0m\u001b[1;33m,\u001b[0m\u001b[1;33m\u001b[0m\u001b[0m\n\u001b[0;32m    327\u001b[0m                     verbose=self.verbose, class_weight=self.class_weight)\n\u001b[1;32m--> 328\u001b[1;33m                 for i, t in enumerate(trees))\n\u001b[0m\u001b[0;32m    329\u001b[0m \u001b[1;33m\u001b[0m\u001b[0m\n\u001b[0;32m    330\u001b[0m             \u001b[1;31m# Collect newly grown trees\u001b[0m\u001b[1;33m\u001b[0m\u001b[1;33m\u001b[0m\u001b[0m\n",
      "\u001b[1;32m~\\Anaconda3\\lib\\site-packages\\sklearn\\externals\\joblib\\parallel.py\u001b[0m in \u001b[0;36m__call__\u001b[1;34m(self, iterable)\u001b[0m\n\u001b[0;32m    777\u001b[0m             \u001b[1;31m# was dispatched. In particular this covers the edge\u001b[0m\u001b[1;33m\u001b[0m\u001b[1;33m\u001b[0m\u001b[0m\n\u001b[0;32m    778\u001b[0m             \u001b[1;31m# case of Parallel used with an exhausted iterator.\u001b[0m\u001b[1;33m\u001b[0m\u001b[1;33m\u001b[0m\u001b[0m\n\u001b[1;32m--> 779\u001b[1;33m             \u001b[1;32mwhile\u001b[0m \u001b[0mself\u001b[0m\u001b[1;33m.\u001b[0m\u001b[0mdispatch_one_batch\u001b[0m\u001b[1;33m(\u001b[0m\u001b[0miterator\u001b[0m\u001b[1;33m)\u001b[0m\u001b[1;33m:\u001b[0m\u001b[1;33m\u001b[0m\u001b[0m\n\u001b[0m\u001b[0;32m    780\u001b[0m                 \u001b[0mself\u001b[0m\u001b[1;33m.\u001b[0m\u001b[0m_iterating\u001b[0m \u001b[1;33m=\u001b[0m \u001b[1;32mTrue\u001b[0m\u001b[1;33m\u001b[0m\u001b[0m\n\u001b[0;32m    781\u001b[0m             \u001b[1;32melse\u001b[0m\u001b[1;33m:\u001b[0m\u001b[1;33m\u001b[0m\u001b[0m\n",
      "\u001b[1;32m~\\Anaconda3\\lib\\site-packages\\sklearn\\externals\\joblib\\parallel.py\u001b[0m in \u001b[0;36mdispatch_one_batch\u001b[1;34m(self, iterator)\u001b[0m\n\u001b[0;32m    623\u001b[0m                 \u001b[1;32mreturn\u001b[0m \u001b[1;32mFalse\u001b[0m\u001b[1;33m\u001b[0m\u001b[0m\n\u001b[0;32m    624\u001b[0m             \u001b[1;32melse\u001b[0m\u001b[1;33m:\u001b[0m\u001b[1;33m\u001b[0m\u001b[0m\n\u001b[1;32m--> 625\u001b[1;33m                 \u001b[0mself\u001b[0m\u001b[1;33m.\u001b[0m\u001b[0m_dispatch\u001b[0m\u001b[1;33m(\u001b[0m\u001b[0mtasks\u001b[0m\u001b[1;33m)\u001b[0m\u001b[1;33m\u001b[0m\u001b[0m\n\u001b[0m\u001b[0;32m    626\u001b[0m                 \u001b[1;32mreturn\u001b[0m \u001b[1;32mTrue\u001b[0m\u001b[1;33m\u001b[0m\u001b[0m\n\u001b[0;32m    627\u001b[0m \u001b[1;33m\u001b[0m\u001b[0m\n",
      "\u001b[1;32m~\\Anaconda3\\lib\\site-packages\\sklearn\\externals\\joblib\\parallel.py\u001b[0m in \u001b[0;36m_dispatch\u001b[1;34m(self, batch)\u001b[0m\n\u001b[0;32m    586\u001b[0m         \u001b[0mdispatch_timestamp\u001b[0m \u001b[1;33m=\u001b[0m \u001b[0mtime\u001b[0m\u001b[1;33m.\u001b[0m\u001b[0mtime\u001b[0m\u001b[1;33m(\u001b[0m\u001b[1;33m)\u001b[0m\u001b[1;33m\u001b[0m\u001b[0m\n\u001b[0;32m    587\u001b[0m         \u001b[0mcb\u001b[0m \u001b[1;33m=\u001b[0m \u001b[0mBatchCompletionCallBack\u001b[0m\u001b[1;33m(\u001b[0m\u001b[0mdispatch_timestamp\u001b[0m\u001b[1;33m,\u001b[0m \u001b[0mlen\u001b[0m\u001b[1;33m(\u001b[0m\u001b[0mbatch\u001b[0m\u001b[1;33m)\u001b[0m\u001b[1;33m,\u001b[0m \u001b[0mself\u001b[0m\u001b[1;33m)\u001b[0m\u001b[1;33m\u001b[0m\u001b[0m\n\u001b[1;32m--> 588\u001b[1;33m         \u001b[0mjob\u001b[0m \u001b[1;33m=\u001b[0m \u001b[0mself\u001b[0m\u001b[1;33m.\u001b[0m\u001b[0m_backend\u001b[0m\u001b[1;33m.\u001b[0m\u001b[0mapply_async\u001b[0m\u001b[1;33m(\u001b[0m\u001b[0mbatch\u001b[0m\u001b[1;33m,\u001b[0m \u001b[0mcallback\u001b[0m\u001b[1;33m=\u001b[0m\u001b[0mcb\u001b[0m\u001b[1;33m)\u001b[0m\u001b[1;33m\u001b[0m\u001b[0m\n\u001b[0m\u001b[0;32m    589\u001b[0m         \u001b[0mself\u001b[0m\u001b[1;33m.\u001b[0m\u001b[0m_jobs\u001b[0m\u001b[1;33m.\u001b[0m\u001b[0mappend\u001b[0m\u001b[1;33m(\u001b[0m\u001b[0mjob\u001b[0m\u001b[1;33m)\u001b[0m\u001b[1;33m\u001b[0m\u001b[0m\n\u001b[0;32m    590\u001b[0m \u001b[1;33m\u001b[0m\u001b[0m\n",
      "\u001b[1;32m~\\Anaconda3\\lib\\site-packages\\sklearn\\externals\\joblib\\_parallel_backends.py\u001b[0m in \u001b[0;36mapply_async\u001b[1;34m(self, func, callback)\u001b[0m\n\u001b[0;32m    109\u001b[0m     \u001b[1;32mdef\u001b[0m \u001b[0mapply_async\u001b[0m\u001b[1;33m(\u001b[0m\u001b[0mself\u001b[0m\u001b[1;33m,\u001b[0m \u001b[0mfunc\u001b[0m\u001b[1;33m,\u001b[0m \u001b[0mcallback\u001b[0m\u001b[1;33m=\u001b[0m\u001b[1;32mNone\u001b[0m\u001b[1;33m)\u001b[0m\u001b[1;33m:\u001b[0m\u001b[1;33m\u001b[0m\u001b[0m\n\u001b[0;32m    110\u001b[0m         \u001b[1;34m\"\"\"Schedule a func to be run\"\"\"\u001b[0m\u001b[1;33m\u001b[0m\u001b[0m\n\u001b[1;32m--> 111\u001b[1;33m         \u001b[0mresult\u001b[0m \u001b[1;33m=\u001b[0m \u001b[0mImmediateResult\u001b[0m\u001b[1;33m(\u001b[0m\u001b[0mfunc\u001b[0m\u001b[1;33m)\u001b[0m\u001b[1;33m\u001b[0m\u001b[0m\n\u001b[0m\u001b[0;32m    112\u001b[0m         \u001b[1;32mif\u001b[0m \u001b[0mcallback\u001b[0m\u001b[1;33m:\u001b[0m\u001b[1;33m\u001b[0m\u001b[0m\n\u001b[0;32m    113\u001b[0m             \u001b[0mcallback\u001b[0m\u001b[1;33m(\u001b[0m\u001b[0mresult\u001b[0m\u001b[1;33m)\u001b[0m\u001b[1;33m\u001b[0m\u001b[0m\n",
      "\u001b[1;32m~\\Anaconda3\\lib\\site-packages\\sklearn\\externals\\joblib\\_parallel_backends.py\u001b[0m in \u001b[0;36m__init__\u001b[1;34m(self, batch)\u001b[0m\n\u001b[0;32m    330\u001b[0m         \u001b[1;31m# Don't delay the application, to avoid keeping the input\u001b[0m\u001b[1;33m\u001b[0m\u001b[1;33m\u001b[0m\u001b[0m\n\u001b[0;32m    331\u001b[0m         \u001b[1;31m# arguments in memory\u001b[0m\u001b[1;33m\u001b[0m\u001b[1;33m\u001b[0m\u001b[0m\n\u001b[1;32m--> 332\u001b[1;33m         \u001b[0mself\u001b[0m\u001b[1;33m.\u001b[0m\u001b[0mresults\u001b[0m \u001b[1;33m=\u001b[0m \u001b[0mbatch\u001b[0m\u001b[1;33m(\u001b[0m\u001b[1;33m)\u001b[0m\u001b[1;33m\u001b[0m\u001b[0m\n\u001b[0m\u001b[0;32m    333\u001b[0m \u001b[1;33m\u001b[0m\u001b[0m\n\u001b[0;32m    334\u001b[0m     \u001b[1;32mdef\u001b[0m \u001b[0mget\u001b[0m\u001b[1;33m(\u001b[0m\u001b[0mself\u001b[0m\u001b[1;33m)\u001b[0m\u001b[1;33m:\u001b[0m\u001b[1;33m\u001b[0m\u001b[0m\n",
      "\u001b[1;32m~\\Anaconda3\\lib\\site-packages\\sklearn\\externals\\joblib\\parallel.py\u001b[0m in \u001b[0;36m__call__\u001b[1;34m(self)\u001b[0m\n\u001b[0;32m    129\u001b[0m \u001b[1;33m\u001b[0m\u001b[0m\n\u001b[0;32m    130\u001b[0m     \u001b[1;32mdef\u001b[0m \u001b[0m__call__\u001b[0m\u001b[1;33m(\u001b[0m\u001b[0mself\u001b[0m\u001b[1;33m)\u001b[0m\u001b[1;33m:\u001b[0m\u001b[1;33m\u001b[0m\u001b[0m\n\u001b[1;32m--> 131\u001b[1;33m         \u001b[1;32mreturn\u001b[0m \u001b[1;33m[\u001b[0m\u001b[0mfunc\u001b[0m\u001b[1;33m(\u001b[0m\u001b[1;33m*\u001b[0m\u001b[0margs\u001b[0m\u001b[1;33m,\u001b[0m \u001b[1;33m**\u001b[0m\u001b[0mkwargs\u001b[0m\u001b[1;33m)\u001b[0m \u001b[1;32mfor\u001b[0m \u001b[0mfunc\u001b[0m\u001b[1;33m,\u001b[0m \u001b[0margs\u001b[0m\u001b[1;33m,\u001b[0m \u001b[0mkwargs\u001b[0m \u001b[1;32min\u001b[0m \u001b[0mself\u001b[0m\u001b[1;33m.\u001b[0m\u001b[0mitems\u001b[0m\u001b[1;33m]\u001b[0m\u001b[1;33m\u001b[0m\u001b[0m\n\u001b[0m\u001b[0;32m    132\u001b[0m \u001b[1;33m\u001b[0m\u001b[0m\n\u001b[0;32m    133\u001b[0m     \u001b[1;32mdef\u001b[0m \u001b[0m__len__\u001b[0m\u001b[1;33m(\u001b[0m\u001b[0mself\u001b[0m\u001b[1;33m)\u001b[0m\u001b[1;33m:\u001b[0m\u001b[1;33m\u001b[0m\u001b[0m\n",
      "\u001b[1;32m~\\Anaconda3\\lib\\site-packages\\sklearn\\externals\\joblib\\parallel.py\u001b[0m in \u001b[0;36m<listcomp>\u001b[1;34m(.0)\u001b[0m\n\u001b[0;32m    129\u001b[0m \u001b[1;33m\u001b[0m\u001b[0m\n\u001b[0;32m    130\u001b[0m     \u001b[1;32mdef\u001b[0m \u001b[0m__call__\u001b[0m\u001b[1;33m(\u001b[0m\u001b[0mself\u001b[0m\u001b[1;33m)\u001b[0m\u001b[1;33m:\u001b[0m\u001b[1;33m\u001b[0m\u001b[0m\n\u001b[1;32m--> 131\u001b[1;33m         \u001b[1;32mreturn\u001b[0m \u001b[1;33m[\u001b[0m\u001b[0mfunc\u001b[0m\u001b[1;33m(\u001b[0m\u001b[1;33m*\u001b[0m\u001b[0margs\u001b[0m\u001b[1;33m,\u001b[0m \u001b[1;33m**\u001b[0m\u001b[0mkwargs\u001b[0m\u001b[1;33m)\u001b[0m \u001b[1;32mfor\u001b[0m \u001b[0mfunc\u001b[0m\u001b[1;33m,\u001b[0m \u001b[0margs\u001b[0m\u001b[1;33m,\u001b[0m \u001b[0mkwargs\u001b[0m \u001b[1;32min\u001b[0m \u001b[0mself\u001b[0m\u001b[1;33m.\u001b[0m\u001b[0mitems\u001b[0m\u001b[1;33m]\u001b[0m\u001b[1;33m\u001b[0m\u001b[0m\n\u001b[0m\u001b[0;32m    132\u001b[0m \u001b[1;33m\u001b[0m\u001b[0m\n\u001b[0;32m    133\u001b[0m     \u001b[1;32mdef\u001b[0m \u001b[0m__len__\u001b[0m\u001b[1;33m(\u001b[0m\u001b[0mself\u001b[0m\u001b[1;33m)\u001b[0m\u001b[1;33m:\u001b[0m\u001b[1;33m\u001b[0m\u001b[0m\n",
      "\u001b[1;32m~\\Anaconda3\\lib\\site-packages\\sklearn\\ensemble\\forest.py\u001b[0m in \u001b[0;36m_parallel_build_trees\u001b[1;34m(tree, forest, X, y, sample_weight, tree_idx, n_trees, verbose, class_weight)\u001b[0m\n\u001b[0;32m    119\u001b[0m             \u001b[0mcurr_sample_weight\u001b[0m \u001b[1;33m*=\u001b[0m \u001b[0mcompute_sample_weight\u001b[0m\u001b[1;33m(\u001b[0m\u001b[1;34m'balanced'\u001b[0m\u001b[1;33m,\u001b[0m \u001b[0my\u001b[0m\u001b[1;33m,\u001b[0m \u001b[0mindices\u001b[0m\u001b[1;33m)\u001b[0m\u001b[1;33m\u001b[0m\u001b[0m\n\u001b[0;32m    120\u001b[0m \u001b[1;33m\u001b[0m\u001b[0m\n\u001b[1;32m--> 121\u001b[1;33m         \u001b[0mtree\u001b[0m\u001b[1;33m.\u001b[0m\u001b[0mfit\u001b[0m\u001b[1;33m(\u001b[0m\u001b[0mX\u001b[0m\u001b[1;33m,\u001b[0m \u001b[0my\u001b[0m\u001b[1;33m,\u001b[0m \u001b[0msample_weight\u001b[0m\u001b[1;33m=\u001b[0m\u001b[0mcurr_sample_weight\u001b[0m\u001b[1;33m,\u001b[0m \u001b[0mcheck_input\u001b[0m\u001b[1;33m=\u001b[0m\u001b[1;32mFalse\u001b[0m\u001b[1;33m)\u001b[0m\u001b[1;33m\u001b[0m\u001b[0m\n\u001b[0m\u001b[0;32m    122\u001b[0m     \u001b[1;32melse\u001b[0m\u001b[1;33m:\u001b[0m\u001b[1;33m\u001b[0m\u001b[0m\n\u001b[0;32m    123\u001b[0m         \u001b[0mtree\u001b[0m\u001b[1;33m.\u001b[0m\u001b[0mfit\u001b[0m\u001b[1;33m(\u001b[0m\u001b[0mX\u001b[0m\u001b[1;33m,\u001b[0m \u001b[0my\u001b[0m\u001b[1;33m,\u001b[0m \u001b[0msample_weight\u001b[0m\u001b[1;33m=\u001b[0m\u001b[0msample_weight\u001b[0m\u001b[1;33m,\u001b[0m \u001b[0mcheck_input\u001b[0m\u001b[1;33m=\u001b[0m\u001b[1;32mFalse\u001b[0m\u001b[1;33m)\u001b[0m\u001b[1;33m\u001b[0m\u001b[0m\n",
      "\u001b[1;32m~\\Anaconda3\\lib\\site-packages\\sklearn\\tree\\tree.py\u001b[0m in \u001b[0;36mfit\u001b[1;34m(self, X, y, sample_weight, check_input, X_idx_sorted)\u001b[0m\n\u001b[0;32m   1122\u001b[0m             \u001b[0msample_weight\u001b[0m\u001b[1;33m=\u001b[0m\u001b[0msample_weight\u001b[0m\u001b[1;33m,\u001b[0m\u001b[1;33m\u001b[0m\u001b[0m\n\u001b[0;32m   1123\u001b[0m             \u001b[0mcheck_input\u001b[0m\u001b[1;33m=\u001b[0m\u001b[0mcheck_input\u001b[0m\u001b[1;33m,\u001b[0m\u001b[1;33m\u001b[0m\u001b[0m\n\u001b[1;32m-> 1124\u001b[1;33m             X_idx_sorted=X_idx_sorted)\n\u001b[0m\u001b[0;32m   1125\u001b[0m         \u001b[1;32mreturn\u001b[0m \u001b[0mself\u001b[0m\u001b[1;33m\u001b[0m\u001b[0m\n\u001b[0;32m   1126\u001b[0m \u001b[1;33m\u001b[0m\u001b[0m\n",
      "\u001b[1;32m~\\Anaconda3\\lib\\site-packages\\sklearn\\tree\\tree.py\u001b[0m in \u001b[0;36mfit\u001b[1;34m(self, X, y, sample_weight, check_input, X_idx_sorted)\u001b[0m\n\u001b[0;32m    360\u001b[0m                                            min_impurity_split)\n\u001b[0;32m    361\u001b[0m \u001b[1;33m\u001b[0m\u001b[0m\n\u001b[1;32m--> 362\u001b[1;33m         \u001b[0mbuilder\u001b[0m\u001b[1;33m.\u001b[0m\u001b[0mbuild\u001b[0m\u001b[1;33m(\u001b[0m\u001b[0mself\u001b[0m\u001b[1;33m.\u001b[0m\u001b[0mtree_\u001b[0m\u001b[1;33m,\u001b[0m \u001b[0mX\u001b[0m\u001b[1;33m,\u001b[0m \u001b[0my\u001b[0m\u001b[1;33m,\u001b[0m \u001b[0msample_weight\u001b[0m\u001b[1;33m,\u001b[0m \u001b[0mX_idx_sorted\u001b[0m\u001b[1;33m)\u001b[0m\u001b[1;33m\u001b[0m\u001b[0m\n\u001b[0m\u001b[0;32m    363\u001b[0m \u001b[1;33m\u001b[0m\u001b[0m\n\u001b[0;32m    364\u001b[0m         \u001b[1;32mif\u001b[0m \u001b[0mself\u001b[0m\u001b[1;33m.\u001b[0m\u001b[0mn_outputs_\u001b[0m \u001b[1;33m==\u001b[0m \u001b[1;36m1\u001b[0m\u001b[1;33m:\u001b[0m\u001b[1;33m\u001b[0m\u001b[0m\n",
      "\u001b[1;31mKeyboardInterrupt\u001b[0m: "
     ]
    }
   ],
   "source": [
    "param_grid = {\n",
    "    'n_estimators': [100], \n",
    "    'max_depth': [5, 10, 15], \n",
    "    'criterion': ['mae']\n",
    "}\n",
    "gridsearch = GridSearchCV(RandomForestRegressor(), param_grid=param_grid,\n",
    "                         scoring = 'neg_mean_absolute_error',cv=3,\n",
    "                         return_train_score =True)\n",
    "gridsearch.fit(X_train, y_train)\n",
    "results = pd.DataFrame(gridsearch.cv_results_)\n",
    "print(f'Best result from grid search of {len(results)} parameter combinations')\n",
    "results.sort_values(by='rank_test_score').head(1)"
   ]
  },
  {
   "cell_type": "code",
   "execution_count": null,
   "metadata": {},
   "outputs": [],
   "source": [
    "pca = PCA(10)"
   ]
  },
  {
   "cell_type": "code",
   "execution_count": null,
   "metadata": {},
   "outputs": [],
   "source": [
    "x = X_train[[\"PRCP\",\"SNOW\",\"SNWD\",\"Total_yesterday\",\"daylight_hrs\",\"annual\",\"Dist_from_avg_temp\",\"log_AWND\"]]\n",
    "x = StandardScaler().fit_transform(x)"
   ]
  },
  {
   "cell_type": "code",
   "execution_count": null,
   "metadata": {},
   "outputs": [],
   "source": [
    "y = X_train.drop([\"PRCP\",\"SNOW\",\"SNWD\",\"Total_yesterday\",\"daylight_hrs\",\"annual\",\"Dist_from_avg_temp\",\"log_AWND\"],axis=1)\n",
    "y"
   ]
  },
  {
   "cell_type": "code",
   "execution_count": null,
   "metadata": {},
   "outputs": [],
   "source": []
  },
  {
   "cell_type": "code",
   "execution_count": null,
   "metadata": {},
   "outputs": [],
   "source": [
    "pca_x = pca.fit_transform(X_train)"
   ]
  },
  {
   "cell_type": "code",
   "execution_count": null,
   "metadata": {},
   "outputs": [],
   "source": [
    "pca_x=pd.DataFrame(pca_x)\n",
    "pca_x"
   ]
  },
  {
   "cell_type": "code",
   "execution_count": null,
   "metadata": {},
   "outputs": [],
   "source": [
    "scores = cross_validate(LinearRegression(), pca_x, y_train, \n",
    "                        scoring='neg_mean_absolute_error', cv=3, \n",
    "                        return_train_score=True)\n",
    "\n",
    "pd.DataFrame(scores)"
   ]
  },
  {
   "cell_type": "code",
   "execution_count": null,
   "metadata": {},
   "outputs": [],
   "source": []
  },
  {
   "cell_type": "code",
   "execution_count": 129,
   "metadata": {},
   "outputs": [
    {
     "data": {
      "text/plain": [
       "<matplotlib.axes._subplots.AxesSubplot at 0x20628fe6e10>"
      ]
     },
     "execution_count": 129,
     "metadata": {},
     "output_type": "execute_result"
    },
    {
     "data": {
      "image/png": "[encoded data removed]",
      "text/plain": [
       "<Figure size 432x288 with 1 Axes>"
      ]
     },
     "metadata": {},
     "output_type": "display_data"
    }
   ],
   "source": [
    "sns.distplot((X_train[\"SNOW\"]))"
   ]
  },
  {
   "cell_type": "code",
   "execution_count": 148,
   "metadata": {},
   "outputs": [
    {
     "data": {
      "text/plain": [
       "[<matplotlib.lines.Line2D at 0x2062d4d4400>]"
      ]
     },
     "execution_count": 148,
     "metadata": {},
     "output_type": "execute_result"
    },
    {
     "data": {
      "image/png": "[encoded data removed]",
      "text/plain": [
       "<Figure size 432x288 with 1 Axes>"
      ]
     },
     "metadata": {},
     "output_type": "display_data"
    }
   ],
   "source": [
    "plt.plot(X_train[\"daylight_hrs\"]**0.5 +4)\n",
    "plt.plot(y_train, color='r')"
   ]
  },
  {
   "cell_type": "code",
   "execution_count": 167,
   "metadata": {},
   "outputs": [
    {
     "data": {
      "text/plain": [
       "[<matplotlib.lines.Line2D at 0x2062ee27550>]"
      ]
     },
     "execution_count": 167,
     "metadata": {},
     "output_type": "execute_result"
    },
    {
     "data": {
      "image/png": "[encoded data removed]",
      "text/plain": [
       "<Figure size 432x288 with 1 Axes>"
      ]
     },
     "metadata": {},
     "output_type": "display_data"
    }
   ],
   "source": [
    "plt.plot((np.log(X_train[\"Dist_from_avg_temp\"]))**0.5+7)\n",
    "plt.plot(y_train, color='r')"
   ]
  },
  {
   "cell_type": "code",
   "execution_count": 168,
   "metadata": {},
   "outputs": [
    {
     "data": {
      "text/plain": [
       "<matplotlib.collections.PathCollection at 0x2062ee7f2b0>"
      ]
     },
     "execution_count": 168,
     "metadata": {},
     "output_type": "execute_result"
    },
    {
     "data": {
      "image/png": "[encoded data removed]",
      "text/plain": [
       "<Figure size 432x288 with 1 Axes>"
      ]
     },
     "metadata": {},
     "output_type": "display_data"
    }
   ],
   "source": [
    "plt.scatter(X_train[\"annual\"],y_train)"
   ]
  },
  {
   "cell_type": "code",
   "execution_count": 75,
   "metadata": {},
   "outputs": [],
   "source": [
    "# pairplot_Data= pd.concat([X_train,y_train],axis=1)\n",
    "# pairplot_Data.head()\n",
    "# sns.pairplot(data = pairplot_Data, x_vars = X_train.columns.values, y_vars=pairplot_Data[\"Total\"])\n"
   ]
  },
  {
   "cell_type": "code",
   "execution_count": 169,
   "metadata": {},
   "outputs": [
    {
     "data": {
      "text/plain": [
       "[<matplotlib.lines.Line2D at 0x2062eeaf4e0>]"
      ]
     },
     "execution_count": 169,
     "metadata": {},
     "output_type": "execute_result"
    },
    {
     "data": {
      "image/png": "[encoded data removed]",
      "text/plain": [
       "<Figure size 432x288 with 1 Axes>"
      ]
     },
     "metadata": {},
     "output_type": "display_data"
    }
   ],
   "source": [
    "plt.plot(y_test)"
   ]
  },
  {
   "cell_type": "code",
   "execution_count": null,
   "metadata": {},
   "outputs": [],
   "source": []
  }
 ],
 "metadata": {
  "kernelspec": {
   "display_name": "Python 3",
   "language": "python",
   "name": "python3"
  },
  "language_info": {
   "codemirror_mode": {
    "name": "ipython",
    "version": 3
   },
   "file_extension": ".py",
   "mimetype": "text/x-python",
   "name": "python",
   "nbconvert_exporter": "python",
   "pygments_lexer": "ipython3",
   "version": "3.6.5"
  }
 },
 "nbformat": 4,
 "nbformat_minor": 2
}
