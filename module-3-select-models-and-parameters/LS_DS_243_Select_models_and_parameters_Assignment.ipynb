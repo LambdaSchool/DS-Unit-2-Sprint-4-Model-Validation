{
 "cells": [
  {
   "cell_type": "markdown",
   "metadata": {
    "colab_type": "text",
    "id": "O67uhlT4MExK"
   },
   "source": [
    "_Lambda School Data Science — Model Validation_\n",
    "\n",
    "# Select models and parameters\n",
    "\n",
    "Objectives\n",
    "- Hyperparameter optimization\n",
    "- Model selection"
   ]
  },
  {
   "cell_type": "markdown",
   "metadata": {
    "colab_type": "text",
    "id": "VE4rfZd4NUGA"
   },
   "source": [
    "Today we'll use this process:\n",
    "\n",
    "## \"A universal workflow of machine learning\"\n",
    "\n",
    "_Excerpt from Francois Chollet, [Deep Learning with Python](https://github.com/fchollet/deep-learning-with-python-notebooks/blob/master/README.md), Chapter 4: Fundamentals of machine learning_\n",
    " \n",
    "**1. Define the problem at hand and the data on which you’ll train.** Collect this data, or annotate it with labels if need be.\n",
    "\n",
    "**2. Choose how you’ll measure success on your problem.** Which metrics will you monitor on your validation data?\n",
    "\n",
    "**3. Determine your evaluation protocol:** hold-out validation? K-fold validation? Which portion of the data should you use for validation?\n",
    "\n",
    "**4. Develop a first model that does better than a basic baseline:** a model with statistical power.\n",
    "\n",
    "**5. Develop a model that overfits.** The universal tension in machine learning is between optimization and generalization; the ideal model is one that stands right at the border between underfitting and overfitting; between undercapacity and overcapacity. To figure out where this border lies, first you must cross it.\n",
    "\n",
    "**6. Regularize your model and tune its hyperparameters, based on performance on the validation data.** Repeatedly modify your model, train it, evaluate on your validation data (not the test data, at this point), modify it again, and repeat, until the model is as good as it can get. \n",
    "\n",
    "Iterate on feature engineering: add new features, or remove features that don’t seem to be informative. Once you’ve developed a satisfactory model configuration, you can train your final production model on all the available data (training and validation) and evaluate it one last time on the test set.\n"
   ]
  },
  {
   "cell_type": "markdown",
   "metadata": {
    "colab_type": "text",
    "id": "3kt6bzEcOIaa"
   },
   "source": [
    "## 1. Define the problem at hand and the data on which you'll train"
   ]
  },
  {
   "cell_type": "markdown",
   "metadata": {
    "colab_type": "text",
    "id": "di16k7vpRg67"
   },
   "source": [
    "We'll apply the workflow to a [project from _Python Data Science Handbook_](https://jakevdp.github.io/PythonDataScienceHandbook/05.06-linear-regression.html#Example:-Predicting-Bicycle-Traffic) by Jake VanderPlas:\n",
    "\n",
    "> **Predicting Bicycle Traffic**\n",
    "\n",
    "> As an example, let's take a look at whether we can predict the number of bicycle trips across Seattle's Fremont Bridge based on weather, season, and other factors.\n",
    "\n",
    "> We will join the bike data with another dataset, and try to determine the extent to which weather and seasonal factors—temperature, precipitation, and daylight hours—affect the volume of bicycle traffic through this corridor. Fortunately, the NOAA makes available their daily [weather station data](http://www.ncdc.noaa.gov/cdo-web/search?datasetid=GHCND) (I used station ID USW00024233) and we can easily use Pandas to join the two data sources.\n",
    "\n",
    "> Let's start by loading the two datasets, indexing by date:"
   ]
  },
  {
   "cell_type": "markdown",
   "metadata": {
    "colab_type": "text",
    "id": "19dpb_d0R1A6"
   },
   "source": [
    "So this is a regression problem, not a classification problem. We'll define the target, choose an evaluation metric, and choose models that are appropriate for regression problems.\n",
    "\n",
    "\n"
   ]
  },
  {
   "cell_type": "markdown",
   "metadata": {
    "colab_type": "text",
    "id": "os1zruXQ30KM"
   },
   "source": [
    "### Download data"
   ]
  },
  {
   "cell_type": "code",
   "execution_count": 1,
   "metadata": {
    "colab": {},
    "colab_type": "code",
    "id": "5XVu-HSeMDtV"
   },
   "outputs": [
    {
     "name": "stdout",
     "output_type": "stream",
     "text": [
      "  % Total    % Received % Xferd  Average Speed   Time    Time     Time  Current\n",
      "                                 Dload  Upload   Total   Spent    Left  Speed\n",
      "100 1536k    0 1536k    0     0   789k      0 --:--:--  0:00:01 --:--:--  788k\n",
      "--2019-01-30 16:45:27--  https://raw.githubusercontent.com/jakevdp/PythonDataScienceHandbook/master/notebooks/data/BicycleWeather.csv\n",
      "Resolving raw.githubusercontent.com (raw.githubusercontent.com)... 151.101.24.133\n",
      "Connecting to raw.githubusercontent.com (raw.githubusercontent.com)|151.101.24.133|:443... connected.\n",
      "HTTP request sent, awaiting response... 200 OK\n",
      "Length: 234945 (229K) [text/plain]\n",
      "Saving to: ‘BicycleWeather.csv.1’\n",
      "\n",
      "BicycleWeather.csv. 100%[===================>] 229.44K  1.05MB/s    in 0.2s    \n",
      "\n",
      "2019-01-30 16:45:28 (1.05 MB/s) - ‘BicycleWeather.csv.1’ saved [234945/234945]\n",
      "\n"
     ]
    }
   ],
   "source": [
    "!curl -o FremontBridge.csv https://data.seattle.gov/api/views/65db-xm6k/rows.csv?accessType=DOWNLOAD\n",
    "!wget https://raw.githubusercontent.com/jakevdp/PythonDataScienceHandbook/master/notebooks/data/BicycleWeather.csv"
   ]
  },
  {
   "cell_type": "markdown",
   "metadata": {
    "colab_type": "text",
    "id": "9GYm74kD34OQ"
   },
   "source": [
    "### Load data"
   ]
  },
  {
   "cell_type": "code",
   "execution_count": 2,
   "metadata": {
    "colab": {},
    "colab_type": "code",
    "id": "BfQ7gE28MNdF"
   },
   "outputs": [],
   "source": [
    "# Modified from cells 15, 16, and 20, at\n",
    "# https://jakevdp.github.io/PythonDataScienceHandbook/05.06-linear-regression.html#Example:-Predicting-Bicycle-Traffic\n",
    "\n",
    "import pandas as pd\n",
    "\n",
    "counts = pd.read_csv('FremontBridge.csv', index_col='Date', parse_dates=True, \n",
    "                     infer_datetime_format=True)\n",
    "\n",
    "weather = pd.read_csv('BicycleWeather.csv', index_col='DATE', parse_dates=True, \n",
    "                      infer_datetime_format=False)\n",
    "\n",
    "daily = counts.resample('d').sum()\n",
    "daily['Total'] = daily.sum(axis=1)\n",
    "daily = daily[['Total']] # remove other columns\n",
    "\n",
    "weather_columns = ['PRCP', 'SNOW', 'SNWD', 'TMAX', 'TMIN', 'AWND']\n",
    "daily = daily.join(weather[weather_columns], how='inner')"
   ]
  },
  {
   "cell_type": "markdown",
   "metadata": {
    "colab_type": "text",
    "id": "JfbsfviRx7fb"
   },
   "source": [
    "### Shifting and duplicating the row to make sure we have yesterday & today's data side by side."
   ]
  },
  {
   "cell_type": "code",
   "execution_count": 3,
   "metadata": {
    "colab": {},
    "colab_type": "code",
    "id": "i0YYD6rvypb4"
   },
   "outputs": [],
   "source": [
    "# Make a feature for yesterday's total\n",
    "daily['Total_yesterday'] = daily.Total.shift(1)\n",
    "\n",
    "daily = daily.drop(index=daily.index[0])"
   ]
  },
  {
   "cell_type": "markdown",
   "metadata": {
    "colab_type": "text",
    "id": "VVB3g4704An5"
   },
   "source": [
    "### First fast look at the data\n",
    "- What's the shape?\n",
    "- What's the date range?\n",
    "- What's the target and the features?"
   ]
  },
  {
   "cell_type": "code",
   "execution_count": 4,
   "metadata": {
    "colab": {
     "base_uri": "https://localhost:8080/",
     "height": 32
    },
    "colab_type": "code",
    "id": "t50E2fTUWBBU",
    "outputId": "fb79113b-9e79-475e-b86e-05af9332af82"
   },
   "outputs": [
    {
     "data": {
      "text/plain": [
       "(1063, 8)"
      ]
     },
     "execution_count": 4,
     "metadata": {},
     "output_type": "execute_result"
    }
   ],
   "source": [
    "daily.shape"
   ]
  },
  {
   "cell_type": "code",
   "execution_count": 5,
   "metadata": {
    "colab": {
     "base_uri": "https://localhost:8080/",
     "height": 201
    },
    "colab_type": "code",
    "id": "eO-R2FoXyLLI",
    "outputId": "81bf2e91-2eac-4e48-998b-01b1e35456a0"
   },
   "outputs": [
    {
     "data": {
      "text/html": [
       "<div>\n",
       "<style scoped>\n",
       "    .dataframe tbody tr th:only-of-type {\n",
       "        vertical-align: middle;\n",
       "    }\n",
       "\n",
       "    .dataframe tbody tr th {\n",
       "        vertical-align: top;\n",
       "    }\n",
       "\n",
       "    .dataframe thead th {\n",
       "        text-align: right;\n",
       "    }\n",
       "</style>\n",
       "<table border=\"1\" class=\"dataframe\">\n",
       "  <thead>\n",
       "    <tr style=\"text-align: right;\">\n",
       "      <th></th>\n",
       "      <th>Total</th>\n",
       "      <th>PRCP</th>\n",
       "      <th>SNOW</th>\n",
       "      <th>SNWD</th>\n",
       "      <th>TMAX</th>\n",
       "      <th>TMIN</th>\n",
       "      <th>AWND</th>\n",
       "      <th>Total_yesterday</th>\n",
       "    </tr>\n",
       "  </thead>\n",
       "  <tbody>\n",
       "    <tr>\n",
       "      <th>2015-08-28</th>\n",
       "      <td>2653.0</td>\n",
       "      <td>5</td>\n",
       "      <td>0</td>\n",
       "      <td>0</td>\n",
       "      <td>233</td>\n",
       "      <td>156</td>\n",
       "      <td>26</td>\n",
       "      <td>4336.0</td>\n",
       "    </tr>\n",
       "    <tr>\n",
       "      <th>2015-08-29</th>\n",
       "      <td>699.0</td>\n",
       "      <td>325</td>\n",
       "      <td>0</td>\n",
       "      <td>0</td>\n",
       "      <td>222</td>\n",
       "      <td>133</td>\n",
       "      <td>58</td>\n",
       "      <td>2653.0</td>\n",
       "    </tr>\n",
       "    <tr>\n",
       "      <th>2015-08-30</th>\n",
       "      <td>1213.0</td>\n",
       "      <td>102</td>\n",
       "      <td>0</td>\n",
       "      <td>0</td>\n",
       "      <td>200</td>\n",
       "      <td>128</td>\n",
       "      <td>47</td>\n",
       "      <td>699.0</td>\n",
       "    </tr>\n",
       "    <tr>\n",
       "      <th>2015-08-31</th>\n",
       "      <td>2823.0</td>\n",
       "      <td>0</td>\n",
       "      <td>0</td>\n",
       "      <td>0</td>\n",
       "      <td>189</td>\n",
       "      <td>161</td>\n",
       "      <td>58</td>\n",
       "      <td>1213.0</td>\n",
       "    </tr>\n",
       "    <tr>\n",
       "      <th>2015-09-01</th>\n",
       "      <td>2876.0</td>\n",
       "      <td>58</td>\n",
       "      <td>0</td>\n",
       "      <td>0</td>\n",
       "      <td>194</td>\n",
       "      <td>139</td>\n",
       "      <td>-9999</td>\n",
       "      <td>2823.0</td>\n",
       "    </tr>\n",
       "  </tbody>\n",
       "</table>\n",
       "</div>"
      ],
      "text/plain": [
       "             Total  PRCP  SNOW  SNWD  TMAX  TMIN  AWND  Total_yesterday\n",
       "2015-08-28  2653.0     5     0     0   233   156    26           4336.0\n",
       "2015-08-29   699.0   325     0     0   222   133    58           2653.0\n",
       "2015-08-30  1213.0   102     0     0   200   128    47            699.0\n",
       "2015-08-31  2823.0     0     0     0   189   161    58           1213.0\n",
       "2015-09-01  2876.0    58     0     0   194   139 -9999           2823.0"
      ]
     },
     "execution_count": 5,
     "metadata": {},
     "output_type": "execute_result"
    }
   ],
   "source": [
    "daily.tail()"
   ]
  },
  {
   "cell_type": "markdown",
   "metadata": {
    "colab_type": "text",
    "id": "XgMvCsaWJR7Q"
   },
   "source": [
    "Target\n",
    "- Total : Daily total number of bicycle trips across Seattle's Fremont Bridge\n",
    "\n",
    "Features\n",
    "- Date (index) : from 2012-10-04 to 2015-09-01\n",
    "- Total_yesterday : Total trips yesterday\n",
    "- PRCP : Precipitation (1/10 mm)\n",
    "- SNOW : Snowfall (1/10 mm)\n",
    "- SNWD : Snow depth (1/10 mm)\n",
    "- TMAX : Maximum temperature (1/10 Celsius)\n",
    "- TMIN : Minimum temperature (1/10 Celsius)\n",
    "- AWND : Average daily wind speed (1/10 meters per second)"
   ]
  },
  {
   "cell_type": "markdown",
   "metadata": {
    "colab_type": "text",
    "id": "lenL-przSYCo"
   },
   "source": [
    "## 2. Choose how you’ll measure success on your problem.\n",
    "\n",
    "Which metrics will you monitor on your validation data?\n",
    "\n",
    "This is a regression problem, so we need to choose a regression [metric](https://scikit-learn.org/stable/modules/model_evaluation.html#common-cases-predefined-values).\n",
    "\n",
    "\n",
    "\n",
    "I'll choose Mean Absolute Error.\n",
    "\n"
   ]
  },
  {
   "cell_type": "code",
   "execution_count": 6,
   "metadata": {
    "colab": {},
    "colab_type": "code",
    "id": "1TqbomapSyRP"
   },
   "outputs": [],
   "source": [
    "from sklearn.metrics import mean_absolute_error"
   ]
  },
  {
   "cell_type": "markdown",
   "metadata": {
    "colab_type": "text",
    "id": "IRHrB3rsS5hF"
   },
   "source": [
    "## 3. Determine your evaluation protocol \n",
    "\n",
    "We're doing model selection, hyperparameter optimization, and performance estimation. So generally we have two ideal [options](https://sebastianraschka.com/images/blog/2018/model-evaluation-selection-part4/model-eval-conclusions.jpg) to choose from:\n",
    "\n",
    "- 3-way holdout method (train/validation/test split)\n",
    "- Cross-validation with independent test set\n",
    "\n",
    "I'll choose cross-validation with independent test set. Scikit-learn makes cross-validation convenient for us!\n",
    "\n",
    "Specifically, I will use random shuffled cross validation to train and validate, but I will hold out an \"out-of-time\" test set, from the last 100 days of data:\n",
    "\n",
    "\n",
    "\n"
   ]
  },
  {
   "cell_type": "code",
   "execution_count": 7,
   "metadata": {
    "colab": {
     "base_uri": "https://localhost:8080/",
     "height": 32
    },
    "colab_type": "code",
    "id": "A3xo6HgbPMFm",
    "outputId": "a3b6b1b8-185a-42bf-eb0c-fc26b7249cd1"
   },
   "outputs": [
    {
     "data": {
      "text/plain": [
       "(1063, 8)"
      ]
     },
     "execution_count": 7,
     "metadata": {},
     "output_type": "execute_result"
    }
   ],
   "source": [
    "daily.shape"
   ]
  },
  {
   "cell_type": "code",
   "execution_count": 8,
   "metadata": {
    "colab": {},
    "colab_type": "code",
    "id": "PfsCH1Oj1DBv"
   },
   "outputs": [],
   "source": [
    "train = daily[:-100]\n",
    "test = daily[-100:]\n",
    "\n",
    "# Use test.index to check these"
   ]
  },
  {
   "cell_type": "code",
   "execution_count": 9,
   "metadata": {
    "colab": {},
    "colab_type": "code",
    "id": "8TGYRDI21RVX"
   },
   "outputs": [],
   "source": [
    "X_train = train.drop(columns='Total')\n",
    "y_train = train.Total\n",
    "\n",
    "X_test = test.drop(columns='Total')\n",
    "y_test = test.Total"
   ]
  },
  {
   "cell_type": "markdown",
   "metadata": {
    "colab_type": "text",
    "id": "vH6IsORQTvTU"
   },
   "source": [
    "## 4. Develop a first model that does better than a basic baseline"
   ]
  },
  {
   "cell_type": "markdown",
   "metadata": {
    "colab_type": "text",
    "id": "DJBs2nQkj7oB"
   },
   "source": [
    "### Look at the target's distribution and descriptive stats"
   ]
  },
  {
   "cell_type": "code",
   "execution_count": 12,
   "metadata": {
    "colab": {
     "base_uri": "https://localhost:8080/",
     "height": 409
    },
    "colab_type": "code",
    "id": "P5peakv9Zs71",
    "outputId": "0ba18f82-18b2-47fd-eeb9-3cd0bca94f81"
   },
   "outputs": [
    {
     "data": {
      "image/png": "[encoded data removed]",
      "text/plain": [
       "<Figure size 432x288 with 1 Axes>"
      ]
     },
     "metadata": {
      "needs_background": "light"
     },
     "output_type": "display_data"
    }
   ],
   "source": [
    "#!pip install seaborn\n",
    "import seaborn as sns\n",
    "sns.distplot(y_train);"
   ]
  },
  {
   "cell_type": "markdown",
   "metadata": {
    "colab_type": "text",
    "id": "fEjxxgV9kExY"
   },
   "source": [
    "### Basic baseline 1"
   ]
  },
  {
   "cell_type": "code",
   "execution_count": 14,
   "metadata": {
    "colab": {
     "base_uri": "https://localhost:8080/",
     "height": 32
    },
    "colab_type": "code",
    "id": "6GepKdQjYcEP",
    "outputId": "66dd7e92-40da-4f43-dca9-aca2fb1b5c02"
   },
   "outputs": [
    {
     "data": {
      "text/plain": [
       "980.8981106765484"
      ]
     },
     "execution_count": 14,
     "metadata": {},
     "output_type": "execute_result"
    }
   ],
   "source": [
    "import numpy as np\n",
    "y_pred = np.full(shape=y_train.shape, fill_value=y_train.mean())# TODO\n",
    "baseline1 = mean_absolute_error(y_train, y_pred)\n",
    "baseline1"
   ]
  },
  {
   "cell_type": "markdown",
   "metadata": {
    "colab_type": "text",
    "id": "tN2I_F3FkIHb"
   },
   "source": [
    "### Basic baseline 2"
   ]
  },
  {
   "cell_type": "code",
   "execution_count": 15,
   "metadata": {
    "colab": {
     "base_uri": "https://localhost:8080/",
     "height": 32
    },
    "colab_type": "code",
    "id": "gzikv0OM3Edd",
    "outputId": "97f6f782-1fe6-4609-d4d3-8631618cc687"
   },
   "outputs": [
    {
     "data": {
      "text/plain": [
       "708.061266874351"
      ]
     },
     "execution_count": 15,
     "metadata": {},
     "output_type": "execute_result"
    }
   ],
   "source": [
    "mean_absolute_error(y_train, X_train.Total_yesterday)"
   ]
  },
  {
   "cell_type": "markdown",
   "metadata": {
    "colab_type": "text",
    "id": "Ggf3VpxwkJ0T"
   },
   "source": [
    "### First model that does better than a basic baseline (Using `Cross Validation`)\n",
    "\n",
    "---\n",
    "\n"
   ]
  },
  {
   "cell_type": "markdown",
   "metadata": {
    "colab_type": "text",
    "id": "KfaqL1Ezer2-"
   },
   "source": [
    "https://scikit-learn.org/stable/modules/generated/sklearn.model_selection.cross_validate.html"
   ]
  },
  {
   "cell_type": "code",
   "execution_count": 17,
   "metadata": {
    "colab": {
     "base_uri": "https://localhost:8080/",
     "height": 139
    },
    "colab_type": "code",
    "id": "ZW8bhZFtTunV",
    "outputId": "ef9bf23d-bfb5-4b36-b30c-2d7ebb43379e"
   },
   "outputs": [
    {
     "data": {
      "text/html": [
       "<div>\n",
       "<style scoped>\n",
       "    .dataframe tbody tr th:only-of-type {\n",
       "        vertical-align: middle;\n",
       "    }\n",
       "\n",
       "    .dataframe tbody tr th {\n",
       "        vertical-align: top;\n",
       "    }\n",
       "\n",
       "    .dataframe thead th {\n",
       "        text-align: right;\n",
       "    }\n",
       "</style>\n",
       "<table border=\"1\" class=\"dataframe\">\n",
       "  <thead>\n",
       "    <tr style=\"text-align: right;\">\n",
       "      <th></th>\n",
       "      <th>fit_time</th>\n",
       "      <th>score_time</th>\n",
       "      <th>estimator</th>\n",
       "      <th>validation_score</th>\n",
       "      <th>train_score</th>\n",
       "    </tr>\n",
       "  </thead>\n",
       "  <tbody>\n",
       "    <tr>\n",
       "      <th>0</th>\n",
       "      <td>0.006628</td>\n",
       "      <td>0.002182</td>\n",
       "      <td>LinearRegression(copy_X=True, fit_intercept=Tr...</td>\n",
       "      <td>-512.529587</td>\n",
       "      <td>-608.312363</td>\n",
       "    </tr>\n",
       "    <tr>\n",
       "      <th>1</th>\n",
       "      <td>0.002620</td>\n",
       "      <td>0.000822</td>\n",
       "      <td>LinearRegression(copy_X=True, fit_intercept=Tr...</td>\n",
       "      <td>-409.711064</td>\n",
       "      <td>-619.565524</td>\n",
       "    </tr>\n",
       "    <tr>\n",
       "      <th>2</th>\n",
       "      <td>0.001951</td>\n",
       "      <td>0.000856</td>\n",
       "      <td>LinearRegression(copy_X=True, fit_intercept=Tr...</td>\n",
       "      <td>-730.887311</td>\n",
       "      <td>-584.725007</td>\n",
       "    </tr>\n",
       "    <tr>\n",
       "      <th>3</th>\n",
       "      <td>0.001900</td>\n",
       "      <td>0.000835</td>\n",
       "      <td>LinearRegression(copy_X=True, fit_intercept=Tr...</td>\n",
       "      <td>-599.486068</td>\n",
       "      <td>-597.082089</td>\n",
       "    </tr>\n",
       "    <tr>\n",
       "      <th>4</th>\n",
       "      <td>0.001993</td>\n",
       "      <td>0.000848</td>\n",
       "      <td>LinearRegression(copy_X=True, fit_intercept=Tr...</td>\n",
       "      <td>-566.360862</td>\n",
       "      <td>-602.358730</td>\n",
       "    </tr>\n",
       "    <tr>\n",
       "      <th>5</th>\n",
       "      <td>0.001933</td>\n",
       "      <td>0.000855</td>\n",
       "      <td>LinearRegression(copy_X=True, fit_intercept=Tr...</td>\n",
       "      <td>-608.106719</td>\n",
       "      <td>-598.852470</td>\n",
       "    </tr>\n",
       "    <tr>\n",
       "      <th>6</th>\n",
       "      <td>0.001873</td>\n",
       "      <td>0.000793</td>\n",
       "      <td>LinearRegression(copy_X=True, fit_intercept=Tr...</td>\n",
       "      <td>-871.057733</td>\n",
       "      <td>-574.273161</td>\n",
       "    </tr>\n",
       "    <tr>\n",
       "      <th>7</th>\n",
       "      <td>0.001865</td>\n",
       "      <td>0.000774</td>\n",
       "      <td>LinearRegression(copy_X=True, fit_intercept=Tr...</td>\n",
       "      <td>-719.385165</td>\n",
       "      <td>-587.235579</td>\n",
       "    </tr>\n",
       "    <tr>\n",
       "      <th>8</th>\n",
       "      <td>0.001826</td>\n",
       "      <td>0.000759</td>\n",
       "      <td>LinearRegression(copy_X=True, fit_intercept=Tr...</td>\n",
       "      <td>-469.994507</td>\n",
       "      <td>-613.287085</td>\n",
       "    </tr>\n",
       "    <tr>\n",
       "      <th>9</th>\n",
       "      <td>0.001871</td>\n",
       "      <td>0.000758</td>\n",
       "      <td>LinearRegression(copy_X=True, fit_intercept=Tr...</td>\n",
       "      <td>-598.159792</td>\n",
       "      <td>-597.142272</td>\n",
       "    </tr>\n",
       "  </tbody>\n",
       "</table>\n",
       "</div>"
      ],
      "text/plain": [
       "   fit_time  score_time                                          estimator  \\\n",
       "0  0.006628    0.002182  LinearRegression(copy_X=True, fit_intercept=Tr...   \n",
       "1  0.002620    0.000822  LinearRegression(copy_X=True, fit_intercept=Tr...   \n",
       "2  0.001951    0.000856  LinearRegression(copy_X=True, fit_intercept=Tr...   \n",
       "3  0.001900    0.000835  LinearRegression(copy_X=True, fit_intercept=Tr...   \n",
       "4  0.001993    0.000848  LinearRegression(copy_X=True, fit_intercept=Tr...   \n",
       "5  0.001933    0.000855  LinearRegression(copy_X=True, fit_intercept=Tr...   \n",
       "6  0.001873    0.000793  LinearRegression(copy_X=True, fit_intercept=Tr...   \n",
       "7  0.001865    0.000774  LinearRegression(copy_X=True, fit_intercept=Tr...   \n",
       "8  0.001826    0.000759  LinearRegression(copy_X=True, fit_intercept=Tr...   \n",
       "9  0.001871    0.000758  LinearRegression(copy_X=True, fit_intercept=Tr...   \n",
       "\n",
       "   validation_score  train_score  \n",
       "0       -512.529587  -608.312363  \n",
       "1       -409.711064  -619.565524  \n",
       "2       -730.887311  -584.725007  \n",
       "3       -599.486068  -597.082089  \n",
       "4       -566.360862  -602.358730  \n",
       "5       -608.106719  -598.852470  \n",
       "6       -871.057733  -574.273161  \n",
       "7       -719.385165  -587.235579  \n",
       "8       -469.994507  -613.287085  \n",
       "9       -598.159792  -597.142272  "
      ]
     },
     "execution_count": 17,
     "metadata": {},
     "output_type": "execute_result"
    }
   ],
   "source": [
    "from sklearn.model_selection import cross_validate\n",
    "from sklearn.linear_model import LinearRegression \n",
    "\n",
    "# CV returns a dictionary so.... \n",
    "scores = cross_validate(LinearRegression(), X_train, y_train, scoring='neg_mean_absolute_error', cv = 10, return_train_score=True, return_estimator=True)\n",
    "\n",
    "# You can just drop it into a pandas dataframe and BOOM: pretty print! \n",
    "pd.DataFrame(scores).rename(columns={\"test_score\": 'validation_score'})\n",
    "# The test score is actually the scores from each validation cycle."
   ]
  },
  {
   "cell_type": "code",
   "execution_count": 18,
   "metadata": {
    "colab": {
     "base_uri": "https://localhost:8080/",
     "height": 32
    },
    "colab_type": "code",
    "id": "cijaQUrB68Py",
    "outputId": "3557055b-432c-4867-bf0a-4d9bf36cf667"
   },
   "outputs": [
    {
     "data": {
      "text/plain": [
       "-608.5678807828598"
      ]
     },
     "execution_count": 18,
     "metadata": {},
     "output_type": "execute_result"
    }
   ],
   "source": [
    "scores['test_score'].mean()"
   ]
  },
  {
   "cell_type": "code",
   "execution_count": 19,
   "metadata": {
    "colab": {
     "base_uri": "https://localhost:8080/",
     "height": 559
    },
    "colab_type": "code",
    "id": "i_G9ZDb45KWS",
    "outputId": "488d28c9-5879-4559-c9d6-ecabb69be3ec"
   },
   "outputs": [
    {
     "name": "stdout",
     "output_type": "stream",
     "text": [
      "Model from cross validation fold #0\n",
      "intercpt 617.5498479112248\n",
      "PRCP               -3.343449\n",
      "SNOW               -0.025573\n",
      "SNWD              -12.333952\n",
      "TMAX                9.434553\n",
      "TMIN               -4.765418\n",
      "AWND               -3.680119\n",
      "Total_yesterday     0.411646\n",
      "\n",
      "\n",
      "Model from cross validation fold #1\n",
      "intercpt 555.5897389034913\n",
      "PRCP              -3.158981\n",
      "SNOW              -0.066963\n",
      "SNWD              -9.266590\n",
      "TMAX               9.584243\n",
      "TMIN              -5.040783\n",
      "AWND              -3.180282\n",
      "Total_yesterday    0.423334\n",
      "\n",
      "\n",
      "Model from cross validation fold #2\n",
      "intercpt 562.139077479153\n",
      "PRCP              -3.040528\n",
      "SNOW              -0.025283\n",
      "SNWD              -8.891098\n",
      "TMAX               9.347721\n",
      "TMIN              -4.215830\n",
      "AWND              -3.637852\n",
      "Total_yesterday    0.411871\n",
      "\n",
      "\n",
      "Model from cross validation fold #3\n",
      "intercpt 551.5914044303613\n",
      "PRCP              -3.023339\n",
      "SNOW              -0.026980\n",
      "SNWD              -8.658085\n",
      "TMAX               9.656579\n",
      "TMIN              -4.282568\n",
      "AWND              -4.242168\n",
      "Total_yesterday    0.413421\n",
      "\n",
      "\n",
      "Model from cross validation fold #4\n",
      "intercpt 610.0294754994222\n",
      "PRCP              -3.134861\n",
      "SNOW              -0.025390\n",
      "SNWD              -9.666402\n",
      "TMAX               9.751601\n",
      "TMIN              -5.305245\n",
      "AWND              -3.961410\n",
      "Total_yesterday    0.412793\n",
      "\n",
      "\n",
      "Model from cross validation fold #5\n",
      "intercpt 570.209964795326\n",
      "PRCP               -2.891853\n",
      "SNOW               -0.029574\n",
      "SNWD               19.787298\n",
      "TMAX                8.917491\n",
      "TMIN               -4.052737\n",
      "AWND               -4.482008\n",
      "Total_yesterday     0.433688\n",
      "\n",
      "\n",
      "Model from cross validation fold #6\n",
      "intercpt 614.4970218890644\n",
      "PRCP              -2.976364\n",
      "SNOW               0.001990\n",
      "SNWD              -9.305669\n",
      "TMAX               9.118651\n",
      "TMIN              -4.169627\n",
      "AWND              -3.773447\n",
      "Total_yesterday    0.398958\n",
      "\n",
      "\n",
      "Model from cross validation fold #7\n",
      "intercpt 532.1862337506207\n",
      "PRCP               -3.038478\n",
      "SNOW               -0.027311\n",
      "SNWD               -8.829764\n",
      "TMAX               10.339195\n",
      "TMIN               -5.522791\n",
      "AWND               -3.835664\n",
      "Total_yesterday     0.406819\n",
      "\n",
      "\n",
      "Model from cross validation fold #8\n",
      "intercpt 579.8145560162602\n",
      "PRCP              -2.908108\n",
      "SNOW              -0.017440\n",
      "SNWD              -9.469543\n",
      "TMAX               9.632451\n",
      "TMIN              -4.992697\n",
      "AWND              -3.327544\n",
      "Total_yesterday    0.411733\n",
      "\n",
      "\n",
      "Model from cross validation fold #9\n",
      "intercpt 555.1272897739084\n",
      "PRCP              -3.129191\n",
      "SNOW              -0.027607\n",
      "SNWD              -9.089952\n",
      "TMAX               9.032206\n",
      "TMIN              -4.348127\n",
      "AWND              -3.216904\n",
      "Total_yesterday    0.433561\n",
      "\n",
      "\n"
     ]
    }
   ],
   "source": [
    "for i, model in enumerate(scores['estimator']): \n",
    "  coeffs = model.coef_\n",
    "  intercpt = model.intercept_\n",
    "  feature_names = X_train.columns\n",
    "  \n",
    "  print('Model from cross validation fold #' + str (i))\n",
    "  print('intercpt', model.intercept_)\n",
    "  print(pd.Series(coeffs, feature_names).to_string())\n",
    "  print('\\n')"
   ]
  },
  {
   "cell_type": "code",
   "execution_count": 20,
   "metadata": {
    "colab": {
     "base_uri": "https://localhost:8080/",
     "height": 616
    },
    "colab_type": "code",
    "id": "ZeYpN7BP6S-i",
    "outputId": "efbc3170-23e2-400f-d48c-16f57c76e688"
   },
   "outputs": [
    {
     "name": "stdout",
     "output_type": "stream",
     "text": [
      "                            OLS Regression Results                            \n",
      "==============================================================================\n",
      "Dep. Variable:                  Total   R-squared:                       0.628\n",
      "Model:                            OLS   Adj. R-squared:                  0.625\n",
      "Method:                 Least Squares   F-statistic:                     230.2\n",
      "Date:                Wed, 30 Jan 2019   Prob (F-statistic):          4.80e-200\n",
      "Time:                        16:48:11   Log-Likelihood:                -7736.8\n",
      "No. Observations:                 963   AIC:                         1.549e+04\n",
      "Df Residuals:                     955   BIC:                         1.553e+04\n",
      "Df Model:                           7                                         \n",
      "Covariance Type:            nonrobust                                         \n",
      "===================================================================================\n",
      "                      coef    std err          t      P>|t|      [0.025      0.975]\n",
      "-----------------------------------------------------------------------------------\n",
      "const             571.7691     93.165      6.137      0.000     388.937     754.601\n",
      "PRCP               -3.0616      0.396     -7.726      0.000      -3.839      -2.284\n",
      "SNOW               -0.0271      0.038     -0.721      0.471      -0.101       0.047\n",
      "SNWD               -9.1379      8.974     -1.018      0.309     -26.748       8.472\n",
      "TMAX                9.4823      0.774     12.258      0.000       7.964      11.000\n",
      "TMIN               -4.6742      1.026     -4.555      0.000      -6.688      -2.660\n",
      "AWND               -3.7006      1.747     -2.119      0.034      -7.128      -0.273\n",
      "Total_yesterday     0.4165      0.025     16.460      0.000       0.367       0.466\n",
      "==============================================================================\n",
      "Omnibus:                        6.601   Durbin-Watson:                   1.571\n",
      "Prob(Omnibus):                  0.037   Jarque-Bera (JB):                6.648\n",
      "Skew:                          -0.187   Prob(JB):                       0.0360\n",
      "Kurtosis:                       2.841   Cond. No.                     1.09e+04\n",
      "==============================================================================\n",
      "\n",
      "Warnings:\n",
      "[1] Standard Errors assume that the covariance matrix of the errors is correctly specified.\n",
      "[2] The condition number is large, 1.09e+04. This might indicate that there are\n",
      "strong multicollinearity or other numerical problems.\n"
     ]
    }
   ],
   "source": [
    "import statsmodels.api as sm\n",
    "model = sm.OLS(y_train, sm.add_constant(X_train)) # add the constant for the x term in statsmodels\n",
    "print(model.fit().summary())"
   ]
  },
  {
   "cell_type": "markdown",
   "metadata": {
    "colab_type": "text",
    "id": "8Ow1evrV-aSo"
   },
   "source": [
    "### Second Model that performs better."
   ]
  },
  {
   "cell_type": "code",
   "execution_count": 21,
   "metadata": {
    "colab": {
     "base_uri": "https://localhost:8080/",
     "height": 139
    },
    "colab_type": "code",
    "id": "mLe8dBa07gCb",
    "outputId": "fa06b493-224c-41b7-a24c-30eea09bfd11"
   },
   "outputs": [
    {
     "data": {
      "text/html": [
       "<div>\n",
       "<style scoped>\n",
       "    .dataframe tbody tr th:only-of-type {\n",
       "        vertical-align: middle;\n",
       "    }\n",
       "\n",
       "    .dataframe tbody tr th {\n",
       "        vertical-align: top;\n",
       "    }\n",
       "\n",
       "    .dataframe thead th {\n",
       "        text-align: right;\n",
       "    }\n",
       "</style>\n",
       "<table border=\"1\" class=\"dataframe\">\n",
       "  <thead>\n",
       "    <tr style=\"text-align: right;\">\n",
       "      <th></th>\n",
       "      <th>fit_time</th>\n",
       "      <th>score_time</th>\n",
       "      <th>estimator</th>\n",
       "      <th>validation_score</th>\n",
       "      <th>train_score</th>\n",
       "    </tr>\n",
       "  </thead>\n",
       "  <tbody>\n",
       "    <tr>\n",
       "      <th>0</th>\n",
       "      <td>0.065558</td>\n",
       "      <td>0.001194</td>\n",
       "      <td>RANSACRegressor(base_estimator=LinearRegressio...</td>\n",
       "      <td>-571.319819</td>\n",
       "      <td>-624.114887</td>\n",
       "    </tr>\n",
       "    <tr>\n",
       "      <th>1</th>\n",
       "      <td>0.064191</td>\n",
       "      <td>0.000819</td>\n",
       "      <td>RANSACRegressor(base_estimator=LinearRegressio...</td>\n",
       "      <td>-646.310742</td>\n",
       "      <td>-583.164040</td>\n",
       "    </tr>\n",
       "    <tr>\n",
       "      <th>2</th>\n",
       "      <td>0.052575</td>\n",
       "      <td>0.000699</td>\n",
       "      <td>RANSACRegressor(base_estimator=LinearRegressio...</td>\n",
       "      <td>-893.996758</td>\n",
       "      <td>-1016.470120</td>\n",
       "    </tr>\n",
       "  </tbody>\n",
       "</table>\n",
       "</div>"
      ],
      "text/plain": [
       "   fit_time  score_time                                          estimator  \\\n",
       "0  0.065558    0.001194  RANSACRegressor(base_estimator=LinearRegressio...   \n",
       "1  0.064191    0.000819  RANSACRegressor(base_estimator=LinearRegressio...   \n",
       "2  0.052575    0.000699  RANSACRegressor(base_estimator=LinearRegressio...   \n",
       "\n",
       "   validation_score  train_score  \n",
       "0       -571.319819  -624.114887  \n",
       "1       -646.310742  -583.164040  \n",
       "2       -893.996758 -1016.470120  "
      ]
     },
     "execution_count": 21,
     "metadata": {},
     "output_type": "execute_result"
    }
   ],
   "source": [
    "# A more ROBUST Regression model???? \n",
    "# I'm going to try a RANSAC regressor to help ignore any bad data values. \n",
    "# RANdom SAmple Consensus (RANSAC) - fits a regresssion models to the inliers of the data. \n",
    "# Inlires \n",
    "from sklearn.linear_model import RANSACRegressor\n",
    "\n",
    "# CV returns a dictionary so.... \n",
    "scores2 = cross_validate(RANSACRegressor(LinearRegression(), max_trials=100, min_samples = 50, loss='absolute_loss'), X_train, y_train, scoring='neg_mean_absolute_error', cv = 3, return_train_score=True, return_estimator=True)\n",
    "\n",
    "# You can just drop it into a pandas dataframe and BOOM: pretty print! \n",
    "pd.DataFrame(scores2).rename(columns={\"test_score\": 'validation_score'})\n",
    "# The test score is actually the scores from each validation cycle."
   ]
  },
  {
   "cell_type": "markdown",
   "metadata": {
    "colab_type": "text",
    "id": "fg1YI4X8n9nI"
   },
   "source": [
    "## 5. Develop a model that overfits. \n",
    "\n",
    "\"The universal tension in machine learning is between optimization and generalization; the ideal model is one that stands right at the border between underfitting and overfitting; between undercapacity and overcapacity. To figure out where this border lies, first you must cross it.\" —Chollet"
   ]
  },
  {
   "cell_type": "markdown",
   "metadata": {
    "colab_type": "text",
    "id": "lodd6UPOoy89"
   },
   "source": [
    "<img src=\"https://jakevdp.github.io/PythonDataScienceHandbook/figures/05.03-validation-curve.png\">\n",
    "\n",
    "Diagram source: https://jakevdp.github.io/PythonDataScienceHandbook/05.03-hyperparameters-and-model-validation.html#Validation-curves-in-Scikit-Learn"
   ]
  },
  {
   "cell_type": "markdown",
   "metadata": {
    "colab_type": "text",
    "id": "FrmQ3RM0w2JE"
   },
   "source": [
    "### Polynomial Regression?"
   ]
  },
  {
   "cell_type": "code",
   "execution_count": 22,
   "metadata": {
    "colab": {},
    "colab_type": "code",
    "id": "uctwo0X3pTw5"
   },
   "outputs": [],
   "source": [
    "# Copied from cell 10 at\n",
    "# https://jakevdp.github.io/PythonDataScienceHandbook/05.03-hyperparameters-and-model-validation.html#Validation-curves-in-Scikit-Learn\n",
    "\n",
    "from sklearn.preprocessing import PolynomialFeatures\n",
    "from sklearn.linear_model import LinearRegression\n",
    "from sklearn.pipeline import make_pipeline\n",
    "\n",
    "def PolynomialRegression(degree=2, **kwargs):\n",
    "    return make_pipeline(PolynomialFeatures(degree),\n",
    "                         LinearRegression(**kwargs))"
   ]
  },
  {
   "cell_type": "code",
   "execution_count": 23,
   "metadata": {
    "colab": {
     "base_uri": "https://localhost:8080/",
     "height": 238
    },
    "colab_type": "code",
    "id": "wvY4HOXVw7Mj",
    "outputId": "4df5355f-7285-476a-9a99-38660ab578fb"
   },
   "outputs": [
    {
     "name": "stdout",
     "output_type": "stream",
     "text": [
      "0 degree polynomial has 1 features\n",
      "['1'] \n",
      "\n",
      "1 degree polynomial has 8 features\n",
      "['1', 'PRCP', 'SNOW', 'SNWD', 'TMAX', 'TMIN', 'AWND', 'Total_yesterday'] \n",
      "\n",
      "2 degree polynomial has 36 features\n",
      "['1', 'PRCP', 'SNOW', 'SNWD', 'TMAX', 'TMIN', 'AWND', 'Total_yesterday', 'PRCP^2', 'PRCP SNOW', 'PRCP SNWD', 'PRCP TMAX', 'PRCP TMIN', 'PRCP AWND', 'PRCP Total_yesterday', 'SNOW^2', 'SNOW SNWD', 'SNOW TMAX', 'SNOW TMIN', 'SNOW AWND', 'SNOW Total_yesterday', 'SNWD^2', 'SNWD TMAX', 'SNWD TMIN', 'SNWD AWND', 'SNWD Total_yesterday', 'TMAX^2', 'TMAX TMIN', 'TMAX AWND', 'TMAX Total_yesterday', 'TMIN^2', 'TMIN AWND', 'TMIN Total_yesterday', 'AWND^2', 'AWND Total_yesterday', 'Total_yesterday^2'] \n",
      "\n",
      "3 degree polynomial has 120 features\n",
      "['1', 'PRCP', 'SNOW', 'SNWD', 'TMAX', 'TMIN', 'AWND', 'Total_yesterday', 'PRCP^2', 'PRCP SNOW', 'PRCP SNWD', 'PRCP TMAX', 'PRCP TMIN', 'PRCP AWND', 'PRCP Total_yesterday', 'SNOW^2', 'SNOW SNWD', 'SNOW TMAX', 'SNOW TMIN', 'SNOW AWND', 'SNOW Total_yesterday', 'SNWD^2', 'SNWD TMAX', 'SNWD TMIN', 'SNWD AWND', 'SNWD Total_yesterday', 'TMAX^2', 'TMAX TMIN', 'TMAX AWND', 'TMAX Total_yesterday', 'TMIN^2', 'TMIN AWND', 'TMIN Total_yesterday', 'AWND^2', 'AWND Total_yesterday', 'Total_yesterday^2', 'PRCP^3', 'PRCP^2 SNOW', 'PRCP^2 SNWD', 'PRCP^2 TMAX', 'PRCP^2 TMIN', 'PRCP^2 AWND', 'PRCP^2 Total_yesterday', 'PRCP SNOW^2', 'PRCP SNOW SNWD', 'PRCP SNOW TMAX', 'PRCP SNOW TMIN', 'PRCP SNOW AWND', 'PRCP SNOW Total_yesterday', 'PRCP SNWD^2', 'PRCP SNWD TMAX', 'PRCP SNWD TMIN', 'PRCP SNWD AWND', 'PRCP SNWD Total_yesterday', 'PRCP TMAX^2', 'PRCP TMAX TMIN', 'PRCP TMAX AWND', 'PRCP TMAX Total_yesterday', 'PRCP TMIN^2', 'PRCP TMIN AWND', 'PRCP TMIN Total_yesterday', 'PRCP AWND^2', 'PRCP AWND Total_yesterday', 'PRCP Total_yesterday^2', 'SNOW^3', 'SNOW^2 SNWD', 'SNOW^2 TMAX', 'SNOW^2 TMIN', 'SNOW^2 AWND', 'SNOW^2 Total_yesterday', 'SNOW SNWD^2', 'SNOW SNWD TMAX', 'SNOW SNWD TMIN', 'SNOW SNWD AWND', 'SNOW SNWD Total_yesterday', 'SNOW TMAX^2', 'SNOW TMAX TMIN', 'SNOW TMAX AWND', 'SNOW TMAX Total_yesterday', 'SNOW TMIN^2', 'SNOW TMIN AWND', 'SNOW TMIN Total_yesterday', 'SNOW AWND^2', 'SNOW AWND Total_yesterday', 'SNOW Total_yesterday^2', 'SNWD^3', 'SNWD^2 TMAX', 'SNWD^2 TMIN', 'SNWD^2 AWND', 'SNWD^2 Total_yesterday', 'SNWD TMAX^2', 'SNWD TMAX TMIN', 'SNWD TMAX AWND', 'SNWD TMAX Total_yesterday', 'SNWD TMIN^2', 'SNWD TMIN AWND', 'SNWD TMIN Total_yesterday', 'SNWD AWND^2', 'SNWD AWND Total_yesterday', 'SNWD Total_yesterday^2', 'TMAX^3', 'TMAX^2 TMIN', 'TMAX^2 AWND', 'TMAX^2 Total_yesterday', 'TMAX TMIN^2', 'TMAX TMIN AWND', 'TMAX TMIN Total_yesterday', 'TMAX AWND^2', 'TMAX AWND Total_yesterday', 'TMAX Total_yesterday^2', 'TMIN^3', 'TMIN^2 AWND', 'TMIN^2 Total_yesterday', 'TMIN AWND^2', 'TMIN AWND Total_yesterday', 'TMIN Total_yesterday^2', 'AWND^3', 'AWND^2 Total_yesterday', 'AWND Total_yesterday^2', 'Total_yesterday^3'] \n",
      "\n"
     ]
    }
   ],
   "source": [
    "# See how many features each model\n",
    "for degree in [0, 1, 2, 3]:\n",
    "    features = PolynomialFeatures(degree).fit(X_train).get_feature_names(X_train.columns)\n",
    "    print(f'{degree} degree polynomial has {len(features)} features')\n",
    "    print(features, '\\n')"
   ]
  },
  {
   "cell_type": "markdown",
   "metadata": {
    "colab_type": "text",
    "id": "PYmg5gnSAOc4"
   },
   "source": [
    "Polynomial regression can create additional multicolinearatity, but we only care about fit. \n",
    "So if it fails to converge then it may be an issue.\n",
    "But if it does converge and it is better then it's not an issue. "
   ]
  },
  {
   "cell_type": "markdown",
   "metadata": {
    "colab_type": "text",
    "id": "XEUdG9-ktHoa"
   },
   "source": [
    "### Validation curve (with Polynomial Regression)"
   ]
  },
  {
   "cell_type": "markdown",
   "metadata": {
    "colab_type": "text",
    "id": "_ryO1hVKr-6f"
   },
   "source": [
    "https://scikit-learn.org/stable/modules/generated/sklearn.model_selection.validation_curve.html\n",
    "\n",
    "> Validation curve. Determine training and test scores for varying parameter values. This is similar to grid search with one parameter."
   ]
  },
  {
   "cell_type": "code",
   "execution_count": 24,
   "metadata": {
    "colab": {
     "base_uri": "https://localhost:8080/",
     "height": 277
    },
    "colab_type": "code",
    "id": "znJgKqPcqBh-",
    "outputId": "bcb3df62-0623-4afd-f186-b0a23261b939"
   },
   "outputs": [
    {
     "data": {
      "image/png": "[encoded data removed]",
      "text/plain": [
       "<Figure size 432x288 with 1 Axes>"
      ]
     },
     "metadata": {
      "needs_background": "light"
     },
     "output_type": "display_data"
    }
   ],
   "source": [
    "# Modified from cell 13 at\n",
    "# https://jakevdp.github.io/PythonDataScienceHandbook/05.03-hyperparameters-and-model-validation.html#Validation-curves-in-Scikit-Learn\n",
    "\n",
    "%matplotlib inline\n",
    "import matplotlib.pyplot as plt\n",
    "from sklearn.model_selection import validation_curve\n",
    "\n",
    "degree = [0, 1, 2]\n",
    "train_score, val_score = validation_curve(\n",
    "    PolynomialRegression(), X_train, y_train,\n",
    "    param_name='polynomialfeatures__degree', param_range=degree, \n",
    "    scoring='neg_mean_absolute_error', cv=3)\n",
    "\n",
    "plt.plot(degree, np.median(train_score, 1), color='blue', label='training score')\n",
    "plt.plot(degree, np.median(val_score, 1), color='red', label='validation score')\n",
    "plt.legend(loc='best')\n",
    "plt.xlabel('degree');"
   ]
  },
  {
   "cell_type": "markdown",
   "metadata": {
    "colab_type": "text",
    "id": "HUdGHWhvtVnV"
   },
   "source": [
    "### Grid Search (with Polynomial Regression)\n",
    "\n",
    "https://scikit-learn.org/stable/modules/generated/sklearn.model_selection.GridSearchCV.html\n",
    "\n",
    "https://scikit-learn.org/stable/modules/grid_search.html\n",
    "\n",
    "You need to keep this process light weight.\n",
    "\n",
    "\n",
    "*Note: If your model takes an exhaustive amount of time you need to:*\n",
    "* Take a smaller sample size.\n",
    "* Keep running gridsearch running fast. \n",
    "* Use CV random\n"
   ]
  },
  {
   "cell_type": "code",
   "execution_count": null,
   "metadata": {
    "colab": {
     "base_uri": "https://localhost:8080/",
     "height": 765
    },
    "colab_type": "code",
    "id": "GziXyq8Is6dL",
    "outputId": "70ca1023-f5c5-4210-ae9b-2c8a1e735583"
   },
   "outputs": [
    {
     "name": "stdout",
     "output_type": "stream",
     "text": [
      "Fitting 3 folds for each of 20 candidates, totalling 60 fits\n"
     ]
    },
    {
     "name": "stderr",
     "output_type": "stream",
     "text": [
      "[Parallel(n_jobs=1)]: Using backend SequentialBackend with 1 concurrent workers.\n"
     ]
    }
   ],
   "source": [
    "from sklearn.model_selection import GridSearchCV\n",
    "\n",
    "param_grid = {\n",
    "    'polynomialfeatures__degree': [0,1,2,3,4,5,6,7,8,9,10,11,12,13,14,15,16,17,18,19]\n",
    "}\n",
    "\n",
    "gridsearch = GridSearchCV(PolynomialRegression(), param_grid=param_grid, scoring='neg_mean_absolute_error', cv=3, return_train_score=True, verbose=1, n_c)\n",
    "\n",
    "gridsearch.fit(X_train, y_train)"
   ]
  },
  {
   "cell_type": "code",
   "execution_count": 27,
   "metadata": {
    "colab": {
     "base_uri": "https://localhost:8080/",
     "height": 259
    },
    "colab_type": "code",
    "id": "z9-72w6XCu90",
    "outputId": "f8b2ebbc-f2cb-4b09-9017-4058c6a777b8"
   },
   "outputs": [
    {
     "data": {
      "text/html": [
       "<div>\n",
       "<style scoped>\n",
       "    .dataframe tbody tr th:only-of-type {\n",
       "        vertical-align: middle;\n",
       "    }\n",
       "\n",
       "    .dataframe tbody tr th {\n",
       "        vertical-align: top;\n",
       "    }\n",
       "\n",
       "    .dataframe thead th {\n",
       "        text-align: right;\n",
       "    }\n",
       "</style>\n",
       "<table border=\"1\" class=\"dataframe\">\n",
       "  <thead>\n",
       "    <tr style=\"text-align: right;\">\n",
       "      <th></th>\n",
       "      <th>mean_fit_time</th>\n",
       "      <th>std_fit_time</th>\n",
       "      <th>mean_score_time</th>\n",
       "      <th>std_score_time</th>\n",
       "      <th>param_polynomialfeatures__degree</th>\n",
       "      <th>params</th>\n",
       "      <th>split0_test_score</th>\n",
       "      <th>split1_test_score</th>\n",
       "      <th>split2_test_score</th>\n",
       "      <th>mean_test_score</th>\n",
       "      <th>std_test_score</th>\n",
       "      <th>rank_test_score</th>\n",
       "      <th>split0_train_score</th>\n",
       "      <th>split1_train_score</th>\n",
       "      <th>split2_train_score</th>\n",
       "      <th>mean_train_score</th>\n",
       "      <th>std_train_score</th>\n",
       "    </tr>\n",
       "  </thead>\n",
       "  <tbody>\n",
       "    <tr>\n",
       "      <th>1</th>\n",
       "      <td>0.002323</td>\n",
       "      <td>0.000195</td>\n",
       "      <td>0.000805</td>\n",
       "      <td>0.000030</td>\n",
       "      <td>1</td>\n",
       "      <td>{'polynomialfeatures__degree': 1}</td>\n",
       "      <td>-5.551863e+02</td>\n",
       "      <td>-6.511265e+02</td>\n",
       "      <td>-6.159658e+02</td>\n",
       "      <td>-6.074262e+02</td>\n",
       "      <td>3.963017e+01</td>\n",
       "      <td>1</td>\n",
       "      <td>-619.509206</td>\n",
       "      <td>-583.427702</td>\n",
       "      <td>-589.341301</td>\n",
       "      <td>-597.426070</td>\n",
       "      <td>15.800661</td>\n",
       "    </tr>\n",
       "    <tr>\n",
       "      <th>0</th>\n",
       "      <td>0.002597</td>\n",
       "      <td>0.000859</td>\n",
       "      <td>0.000884</td>\n",
       "      <td>0.000257</td>\n",
       "      <td>0</td>\n",
       "      <td>{'polynomialfeatures__degree': 0}</td>\n",
       "      <td>-1.026353e+03</td>\n",
       "      <td>-1.001615e+03</td>\n",
       "      <td>-9.270707e+02</td>\n",
       "      <td>-9.850129e+02</td>\n",
       "      <td>4.219766e+01</td>\n",
       "      <td>2</td>\n",
       "      <td>-968.880368</td>\n",
       "      <td>-970.755413</td>\n",
       "      <td>-999.896701</td>\n",
       "      <td>-979.844161</td>\n",
       "      <td>14.199935</td>\n",
       "    </tr>\n",
       "    <tr>\n",
       "      <th>2</th>\n",
       "      <td>0.002776</td>\n",
       "      <td>0.000019</td>\n",
       "      <td>0.001036</td>\n",
       "      <td>0.000028</td>\n",
       "      <td>2</td>\n",
       "      <td>{'polynomialfeatures__degree': 2}</td>\n",
       "      <td>-7.553674e+03</td>\n",
       "      <td>-1.439192e+03</td>\n",
       "      <td>-6.441228e+02</td>\n",
       "      <td>-3.212329e+03</td>\n",
       "      <td>3.086906e+03</td>\n",
       "      <td>3</td>\n",
       "      <td>-595.089615</td>\n",
       "      <td>-568.150803</td>\n",
       "      <td>-565.761032</td>\n",
       "      <td>-576.333816</td>\n",
       "      <td>13.298189</td>\n",
       "    </tr>\n",
       "    <tr>\n",
       "      <th>3</th>\n",
       "      <td>0.005126</td>\n",
       "      <td>0.000289</td>\n",
       "      <td>0.001792</td>\n",
       "      <td>0.000011</td>\n",
       "      <td>3</td>\n",
       "      <td>{'polynomialfeatures__degree': 3}</td>\n",
       "      <td>-2.658143e+03</td>\n",
       "      <td>-9.798996e+04</td>\n",
       "      <td>-1.847900e+03</td>\n",
       "      <td>-3.416533e+04</td>\n",
       "      <td>4.513204e+04</td>\n",
       "      <td>4</td>\n",
       "      <td>-565.787909</td>\n",
       "      <td>-663.520100</td>\n",
       "      <td>-576.085576</td>\n",
       "      <td>-601.797862</td>\n",
       "      <td>43.846220</td>\n",
       "    </tr>\n",
       "    <tr>\n",
       "      <th>7</th>\n",
       "      <td>0.124543</td>\n",
       "      <td>0.002111</td>\n",
       "      <td>0.036402</td>\n",
       "      <td>0.000354</td>\n",
       "      <td>7</td>\n",
       "      <td>{'polynomialfeatures__degree': 7}</td>\n",
       "      <td>-8.324456e+09</td>\n",
       "      <td>-5.712759e+10</td>\n",
       "      <td>-8.860936e+09</td>\n",
       "      <td>-2.477099e+10</td>\n",
       "      <td>2.288062e+10</td>\n",
       "      <td>5</td>\n",
       "      <td>-419.002295</td>\n",
       "      <td>-492.728770</td>\n",
       "      <td>-384.043303</td>\n",
       "      <td>-431.924789</td>\n",
       "      <td>45.301772</td>\n",
       "    </tr>\n",
       "    <tr>\n",
       "      <th>6</th>\n",
       "      <td>0.071631</td>\n",
       "      <td>0.000219</td>\n",
       "      <td>0.017956</td>\n",
       "      <td>0.000073</td>\n",
       "      <td>6</td>\n",
       "      <td>{'polynomialfeatures__degree': 6}</td>\n",
       "      <td>-2.924747e+11</td>\n",
       "      <td>-2.058159e+09</td>\n",
       "      <td>-1.907966e+09</td>\n",
       "      <td>-9.881361e+10</td>\n",
       "      <td>1.369391e+11</td>\n",
       "      <td>6</td>\n",
       "      <td>-446.167811</td>\n",
       "      <td>-630.274911</td>\n",
       "      <td>-365.619494</td>\n",
       "      <td>-480.687405</td>\n",
       "      <td>110.767998</td>\n",
       "    </tr>\n",
       "    <tr>\n",
       "      <th>4</th>\n",
       "      <td>0.015424</td>\n",
       "      <td>0.000979</td>\n",
       "      <td>0.003782</td>\n",
       "      <td>0.000157</td>\n",
       "      <td>4</td>\n",
       "      <td>{'polynomialfeatures__degree': 4}</td>\n",
       "      <td>-4.288605e+10</td>\n",
       "      <td>-3.698748e+11</td>\n",
       "      <td>-3.219931e+10</td>\n",
       "      <td>-1.483201e+11</td>\n",
       "      <td>1.567236e+11</td>\n",
       "      <td>7</td>\n",
       "      <td>-771.539376</td>\n",
       "      <td>-611.361906</td>\n",
       "      <td>-533.797629</td>\n",
       "      <td>-638.899637</td>\n",
       "      <td>98.991681</td>\n",
       "    </tr>\n",
       "    <tr>\n",
       "      <th>10</th>\n",
       "      <td>0.746517</td>\n",
       "      <td>0.009715</td>\n",
       "      <td>0.237116</td>\n",
       "      <td>0.001475</td>\n",
       "      <td>10</td>\n",
       "      <td>{'polynomialfeatures__degree': 10}</td>\n",
       "      <td>-1.018797e+10</td>\n",
       "      <td>-3.427803e+11</td>\n",
       "      <td>-3.587477e+11</td>\n",
       "      <td>-2.372387e+11</td>\n",
       "      <td>1.606814e+11</td>\n",
       "      <td>8</td>\n",
       "      <td>-634.794855</td>\n",
       "      <td>-649.564738</td>\n",
       "      <td>-522.417594</td>\n",
       "      <td>-602.259062</td>\n",
       "      <td>56.777533</td>\n",
       "    </tr>\n",
       "    <tr>\n",
       "      <th>8</th>\n",
       "      <td>0.234466</td>\n",
       "      <td>0.001229</td>\n",
       "      <td>0.068846</td>\n",
       "      <td>0.000993</td>\n",
       "      <td>8</td>\n",
       "      <td>{'polynomialfeatures__degree': 8}</td>\n",
       "      <td>-1.290243e+11</td>\n",
       "      <td>-1.977151e+12</td>\n",
       "      <td>-1.264840e+11</td>\n",
       "      <td>-7.442196e+11</td>\n",
       "      <td>8.718144e+11</td>\n",
       "      <td>9</td>\n",
       "      <td>-484.503355</td>\n",
       "      <td>-461.588161</td>\n",
       "      <td>-433.092446</td>\n",
       "      <td>-459.727988</td>\n",
       "      <td>21.029592</td>\n",
       "    </tr>\n",
       "    <tr>\n",
       "      <th>5</th>\n",
       "      <td>0.042834</td>\n",
       "      <td>0.002021</td>\n",
       "      <td>0.010426</td>\n",
       "      <td>0.002710</td>\n",
       "      <td>5</td>\n",
       "      <td>{'polynomialfeatures__degree': 5}</td>\n",
       "      <td>-7.572005e+11</td>\n",
       "      <td>-2.949357e+12</td>\n",
       "      <td>-4.536276e+10</td>\n",
       "      <td>-1.250640e+12</td>\n",
       "      <td>1.235828e+12</td>\n",
       "      <td>10</td>\n",
       "      <td>-501.655820</td>\n",
       "      <td>-457.853587</td>\n",
       "      <td>-424.229343</td>\n",
       "      <td>-461.246250</td>\n",
       "      <td>31.700131</td>\n",
       "    </tr>\n",
       "    <tr>\n",
       "      <th>9</th>\n",
       "      <td>0.425064</td>\n",
       "      <td>0.001716</td>\n",
       "      <td>0.127972</td>\n",
       "      <td>0.000346</td>\n",
       "      <td>9</td>\n",
       "      <td>{'polynomialfeatures__degree': 9}</td>\n",
       "      <td>-5.631057e+11</td>\n",
       "      <td>-4.714024e+12</td>\n",
       "      <td>-8.397678e+10</td>\n",
       "      <td>-1.787035e+12</td>\n",
       "      <td>2.078916e+12</td>\n",
       "      <td>11</td>\n",
       "      <td>-504.275014</td>\n",
       "      <td>-560.621642</td>\n",
       "      <td>-481.595628</td>\n",
       "      <td>-515.497428</td>\n",
       "      <td>33.223833</td>\n",
       "    </tr>\n",
       "  </tbody>\n",
       "</table>\n",
       "</div>"
      ],
      "text/plain": [
       "    mean_fit_time  std_fit_time  mean_score_time  std_score_time  \\\n",
       "1        0.002323      0.000195         0.000805        0.000030   \n",
       "0        0.002597      0.000859         0.000884        0.000257   \n",
       "2        0.002776      0.000019         0.001036        0.000028   \n",
       "3        0.005126      0.000289         0.001792        0.000011   \n",
       "7        0.124543      0.002111         0.036402        0.000354   \n",
       "6        0.071631      0.000219         0.017956        0.000073   \n",
       "4        0.015424      0.000979         0.003782        0.000157   \n",
       "10       0.746517      0.009715         0.237116        0.001475   \n",
       "8        0.234466      0.001229         0.068846        0.000993   \n",
       "5        0.042834      0.002021         0.010426        0.002710   \n",
       "9        0.425064      0.001716         0.127972        0.000346   \n",
       "\n",
       "   param_polynomialfeatures__degree                              params  \\\n",
       "1                                 1   {'polynomialfeatures__degree': 1}   \n",
       "0                                 0   {'polynomialfeatures__degree': 0}   \n",
       "2                                 2   {'polynomialfeatures__degree': 2}   \n",
       "3                                 3   {'polynomialfeatures__degree': 3}   \n",
       "7                                 7   {'polynomialfeatures__degree': 7}   \n",
       "6                                 6   {'polynomialfeatures__degree': 6}   \n",
       "4                                 4   {'polynomialfeatures__degree': 4}   \n",
       "10                               10  {'polynomialfeatures__degree': 10}   \n",
       "8                                 8   {'polynomialfeatures__degree': 8}   \n",
       "5                                 5   {'polynomialfeatures__degree': 5}   \n",
       "9                                 9   {'polynomialfeatures__degree': 9}   \n",
       "\n",
       "    split0_test_score  split1_test_score  split2_test_score  mean_test_score  \\\n",
       "1       -5.551863e+02      -6.511265e+02      -6.159658e+02    -6.074262e+02   \n",
       "0       -1.026353e+03      -1.001615e+03      -9.270707e+02    -9.850129e+02   \n",
       "2       -7.553674e+03      -1.439192e+03      -6.441228e+02    -3.212329e+03   \n",
       "3       -2.658143e+03      -9.798996e+04      -1.847900e+03    -3.416533e+04   \n",
       "7       -8.324456e+09      -5.712759e+10      -8.860936e+09    -2.477099e+10   \n",
       "6       -2.924747e+11      -2.058159e+09      -1.907966e+09    -9.881361e+10   \n",
       "4       -4.288605e+10      -3.698748e+11      -3.219931e+10    -1.483201e+11   \n",
       "10      -1.018797e+10      -3.427803e+11      -3.587477e+11    -2.372387e+11   \n",
       "8       -1.290243e+11      -1.977151e+12      -1.264840e+11    -7.442196e+11   \n",
       "5       -7.572005e+11      -2.949357e+12      -4.536276e+10    -1.250640e+12   \n",
       "9       -5.631057e+11      -4.714024e+12      -8.397678e+10    -1.787035e+12   \n",
       "\n",
       "    std_test_score  rank_test_score  split0_train_score  split1_train_score  \\\n",
       "1     3.963017e+01                1         -619.509206         -583.427702   \n",
       "0     4.219766e+01                2         -968.880368         -970.755413   \n",
       "2     3.086906e+03                3         -595.089615         -568.150803   \n",
       "3     4.513204e+04                4         -565.787909         -663.520100   \n",
       "7     2.288062e+10                5         -419.002295         -492.728770   \n",
       "6     1.369391e+11                6         -446.167811         -630.274911   \n",
       "4     1.567236e+11                7         -771.539376         -611.361906   \n",
       "10    1.606814e+11                8         -634.794855         -649.564738   \n",
       "8     8.718144e+11                9         -484.503355         -461.588161   \n",
       "5     1.235828e+12               10         -501.655820         -457.853587   \n",
       "9     2.078916e+12               11         -504.275014         -560.621642   \n",
       "\n",
       "    split2_train_score  mean_train_score  std_train_score  \n",
       "1          -589.341301       -597.426070        15.800661  \n",
       "0          -999.896701       -979.844161        14.199935  \n",
       "2          -565.761032       -576.333816        13.298189  \n",
       "3          -576.085576       -601.797862        43.846220  \n",
       "7          -384.043303       -431.924789        45.301772  \n",
       "6          -365.619494       -480.687405       110.767998  \n",
       "4          -533.797629       -638.899637        98.991681  \n",
       "10         -522.417594       -602.259062        56.777533  \n",
       "8          -433.092446       -459.727988        21.029592  \n",
       "5          -424.229343       -461.246250        31.700131  \n",
       "9          -481.595628       -515.497428        33.223833  "
      ]
     },
     "execution_count": 27,
     "metadata": {},
     "output_type": "execute_result"
    }
   ],
   "source": [
    "# Here you can see \n",
    "pd.DataFrame(gridsearch.cv_results_).sort_values(by='rank_test_score')"
   ]
  },
  {
   "cell_type": "markdown",
   "metadata": {
    "colab_type": "text",
    "id": "xj82P0VdwYlh"
   },
   "source": [
    "### Random Forest?\n",
    "\n",
    "https://scikit-learn.org/stable/modules/generated/sklearn.ensemble.RandomForestRegressor.html"
   ]
  },
  {
   "cell_type": "code",
   "execution_count": 24,
   "metadata": {
    "colab": {
     "base_uri": "https://localhost:8080/",
     "height": 139
    },
    "colab_type": "code",
    "id": "_yYXpk99C4cM",
    "outputId": "bee882d1-3c1f-4c65-8b71-2de4f158d20e"
   },
   "outputs": [
    {
     "data": {
      "text/html": [
       "<div>\n",
       "<style scoped>\n",
       "    .dataframe tbody tr th:only-of-type {\n",
       "        vertical-align: middle;\n",
       "    }\n",
       "\n",
       "    .dataframe tbody tr th {\n",
       "        vertical-align: top;\n",
       "    }\n",
       "\n",
       "    .dataframe thead th {\n",
       "        text-align: right;\n",
       "    }\n",
       "</style>\n",
       "<table border=\"1\" class=\"dataframe\">\n",
       "  <thead>\n",
       "    <tr style=\"text-align: right;\">\n",
       "      <th></th>\n",
       "      <th>estimator</th>\n",
       "      <th>fit_time</th>\n",
       "      <th>score_time</th>\n",
       "      <th>test_score</th>\n",
       "      <th>train_score</th>\n",
       "    </tr>\n",
       "  </thead>\n",
       "  <tbody>\n",
       "    <tr>\n",
       "      <th>0</th>\n",
       "      <td>(DecisionTreeRegressor(criterion='mse', max_de...</td>\n",
       "      <td>0.213065</td>\n",
       "      <td>0.010788</td>\n",
       "      <td>-563.911130</td>\n",
       "      <td>-242.024939</td>\n",
       "    </tr>\n",
       "    <tr>\n",
       "      <th>1</th>\n",
       "      <td>(DecisionTreeRegressor(criterion='mse', max_de...</td>\n",
       "      <td>0.216826</td>\n",
       "      <td>0.011075</td>\n",
       "      <td>-638.909919</td>\n",
       "      <td>-220.245763</td>\n",
       "    </tr>\n",
       "    <tr>\n",
       "      <th>2</th>\n",
       "      <td>(DecisionTreeRegressor(criterion='mse', max_de...</td>\n",
       "      <td>0.206657</td>\n",
       "      <td>0.010753</td>\n",
       "      <td>-638.747970</td>\n",
       "      <td>-221.205299</td>\n",
       "    </tr>\n",
       "  </tbody>\n",
       "</table>\n",
       "</div>"
      ],
      "text/plain": [
       "                                           estimator  fit_time  score_time  \\\n",
       "0  (DecisionTreeRegressor(criterion='mse', max_de...  0.213065    0.010788   \n",
       "1  (DecisionTreeRegressor(criterion='mse', max_de...  0.216826    0.011075   \n",
       "2  (DecisionTreeRegressor(criterion='mse', max_de...  0.206657    0.010753   \n",
       "\n",
       "   test_score  train_score  \n",
       "0 -563.911130  -242.024939  \n",
       "1 -638.909919  -220.245763  \n",
       "2 -638.747970  -221.205299  "
      ]
     },
     "execution_count": 24,
     "metadata": {
      "tags": []
     },
     "output_type": "execute_result"
    }
   ],
   "source": [
    "from sklearn.ensemble import RandomForestRegressor\n",
    "\n",
    "model = RandomForestRegressor(n_estimators=100, max_depth=20)\n",
    "\n",
    "scores = cross_validate(model,X_train, y_train, scoring = 'neg_mean_absolute_error', cv=3, return_train_score=True, return_estimator=True)\n",
    "\n",
    "pd.DataFrame(scores)\n",
    "\n"
   ]
  },
  {
   "cell_type": "markdown",
   "metadata": {
    "colab_type": "text",
    "id": "vofwgIpSweEb"
   },
   "source": [
    "### Validation Curve (with Random Forest)"
   ]
  },
  {
   "cell_type": "code",
   "execution_count": 25,
   "metadata": {
    "colab": {
     "base_uri": "https://localhost:8080/",
     "height": 277
    },
    "colab_type": "code",
    "id": "apKk4vKiwgtM",
    "outputId": "d0753e58-5d60-4a4c-d90a-6d3281221713"
   },
   "outputs": [
    {
     "data": {
      "image/png": "[encoded data removed]",
      "text/plain": [
       "<Figure size 432x288 with 1 Axes>"
      ]
     },
     "metadata": {
      "tags": []
     },
     "output_type": "display_data"
    }
   ],
   "source": [
    "# Modified from cell 13 at\n",
    "# https://jakevdp.github.io/PythonDataScienceHandbook/05.03-hyperparameters-and-model-validation.html#Validation-curves-in-Scikit-Learn\n",
    "\n",
    "%matplotlib inline\n",
    "import matplotlib.pyplot as plt\n",
    "from sklearn.model_selection import validation_curve\n",
    "\n",
    "model = RandomForestRegressor(n_estimators=100)\n",
    "\n",
    "depth = [2, 3, 4, 5, 6]\n",
    "train_score, val_score = validation_curve(\n",
    "    model, X_train, y_train,\n",
    "    param_name='max_depth', param_range=depth, \n",
    "    scoring='neg_mean_absolute_error', cv=3)\n",
    "\n",
    "plt.plot(depth, np.median(train_score, 1), color='blue', label='training score')\n",
    "plt.plot(depth, np.median(val_score, 1), color='red', label='validation score')\n",
    "plt.legend(loc='best')\n",
    "plt.xlabel('depth');"
   ]
  },
  {
   "cell_type": "markdown",
   "metadata": {
    "colab_type": "text",
    "id": "DQoMvZ7-yCAQ"
   },
   "source": [
    "### Grid Search (with Random Forest)"
   ]
  },
  {
   "cell_type": "code",
   "execution_count": 26,
   "metadata": {
    "colab": {
     "base_uri": "https://localhost:8080/",
     "height": 49
    },
    "colab_type": "code",
    "id": "iQJcFhaoE8Gx",
    "outputId": "3b0f019a-2379-4790-a387-01c2aa497b71"
   },
   "outputs": [
    {
     "name": "stdout",
     "output_type": "stream",
     "text": [
      "CPU times: user 86 µs, sys: 7 µs, total: 93 µs\n",
      "Wall time: 98.9 µs\n"
     ]
    }
   ],
   "source": [
    "# this is my grid search\n",
    "# think columns x rows \n",
    "%%time\n",
    "param_grid = {\n",
    "    'n_estimators:': [100, 200],\n",
    "    'max_depth': [4, 5, 6, 7],\n",
    "    'criterion': ['mse', 'mae']\n",
    "}\n",
    "# paramgrid is my dictionary of things to change.\n",
    "gridsearch = GridSearchCV(RandomForestRegressor(), param_grid=param_grid, scoring='neg_mean_absolute_error', cv=3, return_train_score=True, verbose=2)"
   ]
  },
  {
   "cell_type": "markdown",
   "metadata": {
    "colab_type": "text",
    "id": "ZW5HfYtU0GW2"
   },
   "source": [
    "## FEATURE ENGINEERING! (Beastmode)"
   ]
  },
  {
   "cell_type": "markdown",
   "metadata": {
    "colab_type": "text",
    "id": "0ms-eoOHFvPG"
   },
   "source": [
    "Jake VanderPlas demonstrates this feature engineering: \n",
    "https://jakevdp.github.io/PythonDataScienceHandbook/05.06-linear-regression.html#Example:-Predicting-Bicycle-Traffic"
   ]
  },
  {
   "cell_type": "code",
   "execution_count": 0,
   "metadata": {
    "colab": {},
    "colab_type": "code",
    "id": "sEwME8wR3A5g"
   },
   "outputs": [],
   "source": [
    "# Modified from code cells 17-21 at\n",
    "# https://jakevdp.github.io/PythonDataScienceHandbook/05.06-linear-regression.html#Example:-Predicting-Bicycle-Traffic\n",
    "\n",
    "\n",
    "# patterns of use generally vary from day to day; \n",
    "# let's add binary columns that indicate the day of the week:\n",
    "days = ['Mon', 'Tue', 'Wed', 'Thu', 'Fri', 'Sat', 'Sun']\n",
    "for i, day in enumerate(days):\n",
    "    X_train[day] = (X_train.index.dayofweek == i).astype(float)\n",
    "\n",
    "\n",
    "    \n",
    "# we might expect riders to behave differently on holidays; \n",
    "# let's add an indicator of this as well:\n",
    "from pandas.tseries.holiday import USFederalHolidayCalendar\n",
    "cal = USFederalHolidayCalendar()\n",
    "holidays = cal.holidays('2012', '2016')\n",
    "X_train = X_train.join(pd.Series(1, index=holidays, name='holiday'))\n",
    "X_train['holiday'].fillna(0, inplace=True)\n",
    "\n",
    "\n",
    "\n",
    "# We also might suspect that the hours of daylight would affect \n",
    "# how many people ride; let's use the standard astronomical calculation \n",
    "# to add this information:\n",
    "def hours_of_daylight(date, axis=23.44, latitude=47.61):\n",
    "    \"\"\"Compute the hours of daylight for the given date\"\"\"\n",
    "    days = (date - pd.datetime(2000, 12, 21)).days\n",
    "    m = (1. - np.tan(np.radians(latitude))\n",
    "         * np.tan(np.radians(axis) * np.cos(days * 2 * np.pi / 365.25)))\n",
    "    return 24. * np.degrees(np.arccos(1 - np.clip(m, 0, 2))) / 180.\n",
    "\n",
    "X_train['daylight_hrs'] = list(map(hours_of_daylight, X_train.index))\n",
    "\n",
    "\n",
    "\n",
    "# temperatures are in 1/10 deg C; convert to C\n",
    "X_train['TMIN'] /= 10\n",
    "X_train['TMAX'] /= 10\n",
    "\n",
    "# We can also calcuate the average temperature.\n",
    "X_train['Temp (C)'] = 0.5 * (X_train['TMIN'] + X_train['TMAX'])\n",
    "\n",
    "\n",
    "# precip is in 1/10 mm; convert to inches\n",
    "X_train['PRCP'] /= 254\n",
    "\n",
    "# In addition to the inches of precipitation, let's add a flag that \n",
    "# indicates whether a day is dry (has zero precipitation):\n",
    "X_train['dry day'] = (X_train['PRCP'] == 0).astype(int)\n",
    "\n",
    "\n",
    "# Let's add a counter that increases from day 1, and measures how many \n",
    "# years have passed. This will let us measure any observed annual increase \n",
    "# or decrease in daily crossings:\n",
    "X_train['annual'] = (X_train.index - X_train.index[0]).days / 365."
   ]
  },
  {
   "cell_type": "markdown",
   "metadata": {
    "colab_type": "text",
    "id": "dDGkAv813Wtj"
   },
   "source": [
    "### Linear Regression (with new features)"
   ]
  },
  {
   "cell_type": "code",
   "execution_count": 28,
   "metadata": {
    "colab": {
     "base_uri": "https://localhost:8080/",
     "height": 139
    },
    "colab_type": "code",
    "id": "cj3HTM6p5F1A",
    "outputId": "eed45336-1eff-40a6-a82f-926358a60c91"
   },
   "outputs": [
    {
     "data": {
      "text/html": [
       "<div>\n",
       "<style scoped>\n",
       "    .dataframe tbody tr th:only-of-type {\n",
       "        vertical-align: middle;\n",
       "    }\n",
       "\n",
       "    .dataframe tbody tr th {\n",
       "        vertical-align: top;\n",
       "    }\n",
       "\n",
       "    .dataframe thead th {\n",
       "        text-align: right;\n",
       "    }\n",
       "</style>\n",
       "<table border=\"1\" class=\"dataframe\">\n",
       "  <thead>\n",
       "    <tr style=\"text-align: right;\">\n",
       "      <th></th>\n",
       "      <th>estimator</th>\n",
       "      <th>fit_time</th>\n",
       "      <th>score_time</th>\n",
       "      <th>test_score</th>\n",
       "      <th>train_score</th>\n",
       "    </tr>\n",
       "  </thead>\n",
       "  <tbody>\n",
       "    <tr>\n",
       "      <th>0</th>\n",
       "      <td>LinearRegression(copy_X=True, fit_intercept=Tr...</td>\n",
       "      <td>0.009240</td>\n",
       "      <td>0.002539</td>\n",
       "      <td>-297.692524</td>\n",
       "      <td>-294.532315</td>\n",
       "    </tr>\n",
       "    <tr>\n",
       "      <th>1</th>\n",
       "      <td>LinearRegression(copy_X=True, fit_intercept=Tr...</td>\n",
       "      <td>0.003241</td>\n",
       "      <td>0.002141</td>\n",
       "      <td>-300.419037</td>\n",
       "      <td>-283.779461</td>\n",
       "    </tr>\n",
       "    <tr>\n",
       "      <th>2</th>\n",
       "      <td>LinearRegression(copy_X=True, fit_intercept=Tr...</td>\n",
       "      <td>0.003054</td>\n",
       "      <td>0.001998</td>\n",
       "      <td>-322.640378</td>\n",
       "      <td>-283.509114</td>\n",
       "    </tr>\n",
       "  </tbody>\n",
       "</table>\n",
       "</div>"
      ],
      "text/plain": [
       "                                           estimator  fit_time  score_time  \\\n",
       "0  LinearRegression(copy_X=True, fit_intercept=Tr...  0.009240    0.002539   \n",
       "1  LinearRegression(copy_X=True, fit_intercept=Tr...  0.003241    0.002141   \n",
       "2  LinearRegression(copy_X=True, fit_intercept=Tr...  0.003054    0.001998   \n",
       "\n",
       "   test_score  train_score  \n",
       "0 -297.692524  -294.532315  \n",
       "1 -300.419037  -283.779461  \n",
       "2 -322.640378  -283.509114  "
      ]
     },
     "execution_count": 28,
     "metadata": {
      "tags": []
     },
     "output_type": "execute_result"
    }
   ],
   "source": [
    "scores = cross_validate(LinearRegression(),X_train, y_train, scoring = 'neg_mean_absolute_error', cv=3, return_train_score=True, return_estimator=True)\n",
    "pd.DataFrame(scores)"
   ]
  },
  {
   "cell_type": "markdown",
   "metadata": {
    "colab_type": "text",
    "id": "b6zxN2xB3bX_"
   },
   "source": [
    "### Random Forest (with new features)"
   ]
  },
  {
   "cell_type": "code",
   "execution_count": 29,
   "metadata": {
    "colab": {
     "base_uri": "https://localhost:8080/",
     "height": 49
    },
    "colab_type": "code",
    "id": "3sWUDZIz1-kk",
    "outputId": "2101d5a5-5696-4fd7-d49f-7fbfcc9f2322"
   },
   "outputs": [
    {
     "name": "stdout",
     "output_type": "stream",
     "text": [
      "CPU times: user 174 µs, sys: 14 µs, total: 188 µs\n",
      "Wall time: 99.4 µs\n"
     ]
    }
   ],
   "source": [
    "%%time\n",
    "param_grid = {\n",
    "    'n_estimators:': [100, 200],\n",
    "    'max_depth': [4, 5, 6, 7],\n",
    "    'criterion': ['mse', 'mae']\n",
    "}\n",
    "# paramgrid is my dictionary of things to change.\n",
    "gridsearch = GridSearchCV(RandomForestRegressor(), param_grid=param_grid, scoring='neg_mean_absolute_error', cv=3, return_train_score=True, verbose=2)"
   ]
  },
  {
   "cell_type": "markdown",
   "metadata": {
    "colab_type": "text",
    "id": "0QEBUVR13kcb"
   },
   "source": [
    "### Ridge Regression (with new features)\n",
    "\n",
    "https://scikit-learn.org/stable/modules/generated/sklearn.linear_model.Ridge.html"
   ]
  },
  {
   "cell_type": "code",
   "execution_count": 30,
   "metadata": {
    "colab": {
     "base_uri": "https://localhost:8080/",
     "height": 494
    },
    "colab_type": "code",
    "id": "4voLbIxU8r6r",
    "outputId": "bba8f093-4278-4bff-b3f8-3f328717132b"
   },
   "outputs": [
    {
     "name": "stdout",
     "output_type": "stream",
     "text": [
      "Fitting 3 folds for each of 3 candidates, totalling 9 fits\n",
      "[CV] alpha=0.1 .......................................................\n",
      "[CV] ........................................ alpha=0.1, total=   0.0s\n",
      "[CV] alpha=0.1 .......................................................\n",
      "[CV] ........................................ alpha=0.1, total=   0.0s\n",
      "[CV] alpha=0.1 .......................................................\n",
      "[CV] ........................................ alpha=0.1, total=   0.0s\n",
      "[CV] alpha=1.0 .......................................................\n",
      "[CV] ........................................ alpha=1.0, total=   0.0s\n",
      "[CV] alpha=1.0 .......................................................\n",
      "[CV] ........................................ alpha=1.0, total=   0.0s\n",
      "[CV] alpha=1.0 .......................................................\n",
      "[CV] ........................................ alpha=1.0, total=   0.0s\n",
      "[CV] alpha=10.0 ......................................................\n",
      "[CV] ....................................... alpha=10.0, total=   0.0s\n",
      "[CV] alpha=10.0 ......................................................\n",
      "[CV] ....................................... alpha=10.0, total=   0.0s\n",
      "[CV] alpha=10.0 ......................................................\n",
      "[CV] ....................................... alpha=10.0, total=   0.0s\n"
     ]
    },
    {
     "name": "stderr",
     "output_type": "stream",
     "text": [
      "[Parallel(n_jobs=1)]: Using backend SequentialBackend with 1 concurrent workers.\n",
      "[Parallel(n_jobs=1)]: Done   1 out of   1 | elapsed:    0.0s remaining:    0.0s\n",
      "[Parallel(n_jobs=1)]: Done   9 out of   9 | elapsed:    0.1s finished\n"
     ]
    },
    {
     "data": {
      "text/plain": [
       "GridSearchCV(cv=3, error_score='raise-deprecating',\n",
       "       estimator=Ridge(alpha=1.0, copy_X=True, fit_intercept=True, max_iter=None,\n",
       "   normalize=False, random_state=None, solver='auto', tol=0.001),\n",
       "       fit_params=None, iid='warn', n_jobs=None,\n",
       "       param_grid={'alpha': [0.1, 1.0, 10.0]}, pre_dispatch='2*n_jobs',\n",
       "       refit=True, return_train_score=True,\n",
       "       scoring='neg_mean_absolute_error', verbose=2)"
      ]
     },
     "execution_count": 30,
     "metadata": {
      "tags": []
     },
     "output_type": "execute_result"
    }
   ],
   "source": [
    "from sklearn.linear_model import Ridge\n",
    "\n",
    "param_grid = {\n",
    "    'alpha': [0.1, 1.0, 10.0]\n",
    "}\n",
    "\n",
    "gridsearch = GridSearchCV(Ridge(), param_grid=param_grid, scoring='neg_mean_absolute_error', cv=3, return_train_score=True, verbose=2)\n",
    "\n",
    "gridsearch.fit(X_train, y_train)"
   ]
  },
  {
   "cell_type": "code",
   "execution_count": 31,
   "metadata": {
    "colab": {
     "base_uri": "https://localhost:8080/",
     "height": 345
    },
    "colab_type": "code",
    "id": "E4MQalDoJfXR",
    "outputId": "581e14ed-6078-4fcf-9c28-5101a4ec83c9"
   },
   "outputs": [
    {
     "name": "stdout",
     "output_type": "stream",
     "text": [
      "33.741779570641484\n",
      "PRCP               -553.070741\n",
      "SNOW                 -0.002829\n",
      "SNWD                 -1.877519\n",
      "TMAX                 63.833062\n",
      "TMIN                -37.450291\n",
      "AWND                 -1.900084\n",
      "Total_yesterday       0.296029\n",
      "Mon                 779.221395\n",
      "Tue                 432.700039\n",
      "Wed                 368.367626\n",
      "Thu                 274.054021\n",
      "Fri                  47.251356\n",
      "Sat               -1099.692199\n",
      "Sun                -801.902237\n",
      "holiday            -939.301546\n",
      "daylight_hrs         70.256463\n",
      "Temp (C)             13.191386\n",
      "dry day             298.475434\n",
      "annual               44.518889\n"
     ]
    }
   ],
   "source": [
    "# Get the best estimator from the group. \n",
    "model = gridsearch.best_estimator_\n",
    "\n",
    "type(model)\n",
    "\n",
    "coefficients = model.coef_\n",
    "intercept = model.intercept_\n",
    "feature_names = X_train.columns\n",
    "\n",
    "print(intercept)\n",
    "print(pd.Series(coefficients, feature_names).to_string())"
   ]
  },
  {
   "cell_type": "markdown",
   "metadata": {
    "colab_type": "text",
    "id": "V02gkEGKJe7X"
   },
   "source": []
  },
  {
   "cell_type": "markdown",
   "metadata": {
    "colab_type": "text",
    "id": "dofdwyTf3pm0"
   },
   "source": [
    "### Compare to statsmodels"
   ]
  },
  {
   "cell_type": "code",
   "execution_count": 32,
   "metadata": {
    "colab": {
     "base_uri": "https://localhost:8080/",
     "height": 757
    },
    "colab_type": "code",
    "id": "i-Qt4mDk_yBY",
    "outputId": "c167b376-a7d1-4aea-c589-a31b80ce6caa"
   },
   "outputs": [
    {
     "name": "stdout",
     "output_type": "stream",
     "text": [
      "                            OLS Regression Results                            \n",
      "==============================================================================\n",
      "Dep. Variable:                  Total   R-squared:                       0.902\n",
      "Model:                            OLS   Adj. R-squared:                  0.901\n",
      "Method:                 Least Squares   F-statistic:                     513.8\n",
      "Date:                Wed, 30 Jan 2019   Prob (F-statistic):               0.00\n",
      "Time:                        21:37:22   Log-Likelihood:                -7092.6\n",
      "No. Observations:                 963   AIC:                         1.422e+04\n",
      "Df Residuals:                     945   BIC:                         1.431e+04\n",
      "Df Model:                          17                                         \n",
      "Covariance Type:            nonrobust                                         \n",
      "===================================================================================\n",
      "                      coef    std err          t      P>|t|      [0.025      0.975]\n",
      "-----------------------------------------------------------------------------------\n",
      "const              33.0481     66.293      0.499      0.618     -97.051     163.147\n",
      "PRCP             -562.6226     56.568     -9.946      0.000    -673.636    -451.609\n",
      "SNOW               -0.0025      0.020     -0.129      0.897      -0.041       0.036\n",
      "SNWD               -1.8308      4.642     -0.394      0.693     -10.941       7.279\n",
      "TMAX               63.6645      4.785     13.306      0.000      54.275      73.054\n",
      "TMIN              -37.1413      5.413     -6.862      0.000     -47.763     -26.519\n",
      "AWND               -1.8502      0.910     -2.033      0.042      -3.637      -0.064\n",
      "Total_yesterday     0.2934      0.022     13.630      0.000       0.251       0.336\n",
      "Mon               790.2012     41.051     19.249      0.000     709.640     870.763\n",
      "Tue               441.4649     32.982     13.385      0.000     376.739     506.191\n",
      "Wed               376.8835     33.935     11.106      0.000     310.287     443.480\n",
      "Thu               282.8744     33.665      8.403      0.000     216.808     348.941\n",
      "Fri                52.4558     32.802      1.599      0.110     -11.918     116.829\n",
      "Sat             -1103.8595     32.242    -34.237      0.000   -1167.133   -1040.586\n",
      "Sun              -806.9722     40.114    -20.117      0.000    -885.695    -728.250\n",
      "holiday          -983.4044     78.191    -12.577      0.000   -1136.853    -829.955\n",
      "daylight_hrs       70.3750      8.400      8.378      0.000      53.890      86.860\n",
      "Temp (C)           13.2616      1.252     10.591      0.000      10.804      15.719\n",
      "dry day           301.0276     33.915      8.876      0.000     234.471     367.584\n",
      "annual             44.6618     16.620      2.687      0.007      12.045      77.279\n",
      "==============================================================================\n",
      "Omnibus:                       35.650   Durbin-Watson:                   1.665\n",
      "Prob(Omnibus):                  0.000   Jarque-Bera (JB):               78.276\n",
      "Skew:                           0.188   Prob(JB):                     1.01e-17\n",
      "Kurtosis:                       4.345   Cond. No.                     2.64e+19\n",
      "==============================================================================\n",
      "\n",
      "Warnings:\n",
      "[1] Standard Errors assume that the covariance matrix of the errors is correctly specified.\n",
      "[2] The smallest eigenvalue is 1.09e-29. This might indicate that there are\n",
      "strong multicollinearity problems or that the design matrix is singular.\n"
     ]
    }
   ],
   "source": [
    "import statsmodels.api as sm\n",
    "model = sm.OLS(y_train, sm.add_constant(X_train)) # add the constant for the x term in statsmodels\n",
    "print(model.fit().summary())"
   ]
  },
  {
   "cell_type": "markdown",
   "metadata": {
    "colab_type": "text",
    "id": "edpJ87A8A8sd"
   },
   "source": [
    "\n",
    "### Feature engineering, explained by Francois Chollet\n",
    "\n",
    "> _Feature engineering_ is the process of using your own knowledge about the data and about the machine learning algorithm at hand to make the algorithm work better by applying hardcoded (nonlearned) transformations to the data before it goes into the model. In many cases, it isn’t reasonable to expect a machine-learning model to be able to learn from completely arbitrary data. The data needs to be presented to the model in a way that will make the model’s job easier.\n",
    "\n",
    "> Let’s look at an intuitive example. Suppose you’re trying to develop a model that can take as input an image of a clock and can output the time of day.\n",
    "\n",
    "> If you choose to use the raw pixels of the image as input data, then you have a difficult machine-learning problem on your hands. You’ll need a convolutional neural network to solve it, and you’ll have to expend quite a bit of computational resources to train the network.\n",
    "\n",
    "> But if you already understand the problem at a high level (you understand how humans read time on a clock face), then you can come up with much better input features for a machine-learning algorithm: for instance, write a Python script to follow the black pixels of the clock hands and output the (x, y) coordinates of the tip of each hand. Then a simple machine-learning algorithm can learn to associate these coordinates with the appropriate time of day.\n",
    "\n",
    "> You can go even further: do a coordinate change, and express the (x, y) coordinates as polar coordinates with regard to the center of the image. Your input will become the angle theta of each clock hand. At this point, your features are making the problem so easy that no machine learning is required; a simple rounding operation and dictionary lookup are enough to recover the approximate time of day.\n",
    "\n",
    "> That’s the essence of feature engineering: making a problem easier by expressing it in a simpler way. It usually requires understanding the problem in depth.\n",
    "\n",
    "> Before convolutional neural networks became successful on the MNIST digit-classification problem, solutions were typically based on hardcoded features such as the number of loops in a digit image, the height of each digit in an image, a histogram of pixel values, and so on.\n",
    "\n",
    "> Neural networks are capable of automatically extracting useful features from raw data. Does this mean you don’t have to worry about feature engineering as long as you’re using deep neural networks? No, for two reasons:\n",
    "\n",
    "> - Good features still allow you to solve problems more elegantly while using fewer resources. For instance, it would be ridiculous to solve the problem of reading a clock face using a convolutional neural network.\n",
    "> - Good features let you solve a problem with far less data. The ability of deep-learning models to learn features on their own relies on having lots of training data available; if you have only a few samples, then the information value in their features becomes critical.\n"
   ]
  },
  {
   "cell_type": "markdown",
   "metadata": {
    "colab_type": "text",
    "id": "oux-dd-5FD6p"
   },
   "source": [
    "# ASSIGNMENT\n",
    "\n",
    "### Core assignment\n",
    "\n",
    "Complete the notebook cells that were originally commented **`TODO`**. \n",
    "\n",
    "Then, focus on feature engineering to improve your cross validation scores. Collaborate with your cohort on Slack. You could start with the ideas [Jake VanderPlas suggests:](https://jakevdp.github.io/PythonDataScienceHandbook/05.06-linear-regression.html#Example:-Predicting-Bicycle-Traffic)\n",
    "\n",
    "> Our model is almost certainly missing some relevant information. For example, nonlinear effects (such as effects of precipitation and cold temperature) and nonlinear trends within each variable (such as disinclination to ride at very cold and very hot temperatures) cannot be accounted for in this model. Additionally, we have thrown away some of the finer-grained information (such as the difference between a rainy morning and a rainy afternoon), and we have ignored correlations between days (such as the possible effect of a rainy Tuesday on Wednesday's numbers, or the effect of an unexpected sunny day after a streak of rainy days). These are all potentially interesting effects, and you now have the tools to begin exploring them if you wish!\n",
    "\n",
    "At the end of the day, take the last step in the \"universal workflow of machine learning\" — \"You can train your final production model on all the available data (training and validation) and evaluate it one last time on the test set.\"\n",
    "\n",
    "See the [`GridSearchCV`](https://scikit-learn.org/stable/modules/generated/sklearn.model_selection.GridSearchCV.html) documentation for the `refit` parameter, `best_estimator_` attribute, and `predict` method:\n",
    "\n",
    "> **refit : boolean, or string, default=True**\n",
    "\n",
    "> Refit an estimator using the best found parameters on the whole dataset.\n",
    "\n",
    "> The refitted estimator is made available at the `best_estimator_` attribute and permits using `predict` directly on this `GridSearchCV` instance.\n",
    "\n",
    "### More options\n",
    "\n",
    "**A.** Apply this lesson to other datasets.\n",
    "\n",
    "**B.** We predicted the number of bicycle trips based on that day's weather. But imagine you were asked to predict trips at the beginning of each day, based only on data known at the time of prediction or before — so you cannot use the current day's weather. How would you wrangle the features to handle this new requirement? How does this impact the predictive accuracy and coefficients of your models?\n",
    "\n",
    "**C.** In additon to `GridSearchCV`, scikit-learn has [`RandomizedSearchCV`](https://scikit-learn.org/stable/modules/generated/sklearn.model_selection.RandomizedSearchCV.html), which is sometimes even better. Another library called scikit-optimize has [`BayesSearchCV`](https://scikit-optimize.github.io/notebooks/sklearn-gridsearchcv-replacement.html). Experiment with these alternatives.\n",
    "\n",
    "**D.** _[Introduction to Machine Learning with Python](http://shop.oreilly.com/product/0636920030515.do)_ discusses options for \"Grid-Searching Which Model To Use\" in Chapter 6:\n",
    "\n",
    "> You can even go further in combining GridSearchCV and Pipeline: it is also possible to search over the actual steps being performed in the pipeline (say whether to use StandardScaler or MinMaxScaler). This leads to an even bigger search space and should be considered carefully. Trying all possible solutions is usually not a viable machine learning strategy. However, here is an example comparing a RandomForestClassifier and an SVC ...\n",
    "\n",
    "The example is shown in [the accompanying notebook](https://github.com/amueller/introduction_to_ml_with_python/blob/master/06-algorithm-chains-and-pipelines.ipynb), code cells 35-37. Could you apply this concept to your own pipelines?\n",
    "\n",
    "\n"
   ]
  },
  {
   "cell_type": "code",
   "execution_count": 0,
   "metadata": {
    "colab": {},
    "colab_type": "code",
    "id": "Bk_HJrxPr_CF"
   },
   "outputs": [],
   "source": []
  },
  {
   "cell_type": "code",
   "execution_count": 64,
   "metadata": {
    "colab": {
     "base_uri": "https://localhost:8080/",
     "height": 698
    },
    "colab_type": "code",
    "id": "qS8eJi-brtIR",
    "outputId": "5d3f507d-5a7b-4714-d855-e4f242a68cfa"
   },
   "outputs": [
    {
     "name": "stderr",
     "output_type": "stream",
     "text": [
      "/usr/local/lib/python3.6/dist-packages/sklearn/ensemble/forest.py:246: FutureWarning: The default value of n_estimators will change from 10 in version 0.20 to 100 in 0.22.\n",
      "  \"10 in version 0.20 to 100 in 0.22.\", FutureWarning)\n"
     ]
    },
    {
     "data": {
      "text/html": [
       "<div>\n",
       "<style scoped>\n",
       "    .dataframe tbody tr th:only-of-type {\n",
       "        vertical-align: middle;\n",
       "    }\n",
       "\n",
       "    .dataframe tbody tr th {\n",
       "        vertical-align: top;\n",
       "    }\n",
       "\n",
       "    .dataframe thead th {\n",
       "        text-align: right;\n",
       "    }\n",
       "</style>\n",
       "<table border=\"1\" class=\"dataframe\">\n",
       "  <thead>\n",
       "    <tr style=\"text-align: right;\">\n",
       "      <th></th>\n",
       "      <th>Linear Regression</th>\n",
       "      <th>Random Forest</th>\n",
       "      <th>Corr. (p_value)</th>\n",
       "      <th>Ridge Regression</th>\n",
       "      <th>LASSO</th>\n",
       "      <th>Recursive Feature Elimination</th>\n",
       "      <th>Feat.Select Mean</th>\n",
       "    </tr>\n",
       "  </thead>\n",
       "  <tbody>\n",
       "    <tr>\n",
       "      <th>AWND</th>\n",
       "      <td>0.00</td>\n",
       "      <td>0.02</td>\n",
       "      <td>0.05</td>\n",
       "      <td>0.01</td>\n",
       "      <td>0.00</td>\n",
       "      <td>0.17</td>\n",
       "      <td>0.04</td>\n",
       "    </tr>\n",
       "    <tr>\n",
       "      <th>Fri</th>\n",
       "      <td>0.04</td>\n",
       "      <td>0.01</td>\n",
       "      <td>0.00</td>\n",
       "      <td>0.12</td>\n",
       "      <td>0.16</td>\n",
       "      <td>0.89</td>\n",
       "      <td>0.20</td>\n",
       "    </tr>\n",
       "    <tr>\n",
       "      <th>Mon</th>\n",
       "      <td>0.71</td>\n",
       "      <td>0.09</td>\n",
       "      <td>0.02</td>\n",
       "      <td>0.44</td>\n",
       "      <td>0.37</td>\n",
       "      <td>0.78</td>\n",
       "      <td>0.40</td>\n",
       "    </tr>\n",
       "    <tr>\n",
       "      <th>PRCP</th>\n",
       "      <td>0.51</td>\n",
       "      <td>0.16</td>\n",
       "      <td>0.16</td>\n",
       "      <td>1.00</td>\n",
       "      <td>0.41</td>\n",
       "      <td>0.39</td>\n",
       "      <td>0.44</td>\n",
       "    </tr>\n",
       "    <tr>\n",
       "      <th>SNOW</th>\n",
       "      <td>0.00</td>\n",
       "      <td>0.00</td>\n",
       "      <td>0.00</td>\n",
       "      <td>0.00</td>\n",
       "      <td>0.00</td>\n",
       "      <td>0.00</td>\n",
       "      <td>0.00</td>\n",
       "    </tr>\n",
       "    <tr>\n",
       "      <th>SNWD</th>\n",
       "      <td>0.00</td>\n",
       "      <td>0.00</td>\n",
       "      <td>0.00</td>\n",
       "      <td>0.02</td>\n",
       "      <td>0.00</td>\n",
       "      <td>0.11</td>\n",
       "      <td>0.02</td>\n",
       "    </tr>\n",
       "    <tr>\n",
       "      <th>Sat</th>\n",
       "      <td>1.00</td>\n",
       "      <td>0.32</td>\n",
       "      <td>0.15</td>\n",
       "      <td>0.90</td>\n",
       "      <td>1.00</td>\n",
       "      <td>0.94</td>\n",
       "      <td>0.72</td>\n",
       "    </tr>\n",
       "    <tr>\n",
       "      <th>Sun</th>\n",
       "      <td>0.73</td>\n",
       "      <td>0.16</td>\n",
       "      <td>0.16</td>\n",
       "      <td>0.87</td>\n",
       "      <td>0.78</td>\n",
       "      <td>1.00</td>\n",
       "      <td>0.62</td>\n",
       "    </tr>\n",
       "    <tr>\n",
       "      <th>TMAX</th>\n",
       "      <td>0.06</td>\n",
       "      <td>1.00</td>\n",
       "      <td>0.89</td>\n",
       "      <td>0.06</td>\n",
       "      <td>0.05</td>\n",
       "      <td>0.56</td>\n",
       "      <td>0.44</td>\n",
       "    </tr>\n",
       "    <tr>\n",
       "      <th>TMIN</th>\n",
       "      <td>0.03</td>\n",
       "      <td>0.02</td>\n",
       "      <td>0.37</td>\n",
       "      <td>0.06</td>\n",
       "      <td>0.02</td>\n",
       "      <td>0.50</td>\n",
       "      <td>0.17</td>\n",
       "    </tr>\n",
       "    <tr>\n",
       "      <th>Temp (C)</th>\n",
       "      <td>0.01</td>\n",
       "      <td>0.02</td>\n",
       "      <td>0.69</td>\n",
       "      <td>0.07</td>\n",
       "      <td>0.00</td>\n",
       "      <td>0.44</td>\n",
       "      <td>0.20</td>\n",
       "    </tr>\n",
       "    <tr>\n",
       "      <th>Thu</th>\n",
       "      <td>0.25</td>\n",
       "      <td>0.00</td>\n",
       "      <td>0.02</td>\n",
       "      <td>0.32</td>\n",
       "      <td>0.00</td>\n",
       "      <td>0.83</td>\n",
       "      <td>0.24</td>\n",
       "    </tr>\n",
       "    <tr>\n",
       "      <th>Total_yesterday</th>\n",
       "      <td>0.00</td>\n",
       "      <td>0.44</td>\n",
       "      <td>1.00</td>\n",
       "      <td>0.00</td>\n",
       "      <td>0.00</td>\n",
       "      <td>0.06</td>\n",
       "      <td>0.25</td>\n",
       "    </tr>\n",
       "    <tr>\n",
       "      <th>Tue</th>\n",
       "      <td>0.39</td>\n",
       "      <td>0.00</td>\n",
       "      <td>0.04</td>\n",
       "      <td>0.47</td>\n",
       "      <td>0.11</td>\n",
       "      <td>0.67</td>\n",
       "      <td>0.28</td>\n",
       "    </tr>\n",
       "    <tr>\n",
       "      <th>Wed</th>\n",
       "      <td>0.34</td>\n",
       "      <td>0.00</td>\n",
       "      <td>0.04</td>\n",
       "      <td>0.43</td>\n",
       "      <td>0.07</td>\n",
       "      <td>0.72</td>\n",
       "      <td>0.27</td>\n",
       "    </tr>\n",
       "    <tr>\n",
       "      <th>annual</th>\n",
       "      <td>0.04</td>\n",
       "      <td>0.03</td>\n",
       "      <td>0.02</td>\n",
       "      <td>0.13</td>\n",
       "      <td>0.03</td>\n",
       "      <td>0.22</td>\n",
       "      <td>0.08</td>\n",
       "    </tr>\n",
       "    <tr>\n",
       "      <th>daylight_hrs</th>\n",
       "      <td>0.06</td>\n",
       "      <td>0.10</td>\n",
       "      <td>0.70</td>\n",
       "      <td>0.16</td>\n",
       "      <td>0.05</td>\n",
       "      <td>0.28</td>\n",
       "      <td>0.22</td>\n",
       "    </tr>\n",
       "    <tr>\n",
       "      <th>dry day</th>\n",
       "      <td>0.27</td>\n",
       "      <td>0.01</td>\n",
       "      <td>0.23</td>\n",
       "      <td>0.61</td>\n",
       "      <td>0.22</td>\n",
       "      <td>0.33</td>\n",
       "      <td>0.28</td>\n",
       "    </tr>\n",
       "    <tr>\n",
       "      <th>holiday</th>\n",
       "      <td>0.89</td>\n",
       "      <td>0.02</td>\n",
       "      <td>0.01</td>\n",
       "      <td>0.56</td>\n",
       "      <td>0.70</td>\n",
       "      <td>0.61</td>\n",
       "      <td>0.46</td>\n",
       "    </tr>\n",
       "  </tbody>\n",
       "</table>\n",
       "</div>"
      ],
      "text/plain": [
       "                 Linear Regression  Random Forest  Corr. (p_value)  \\\n",
       "AWND                          0.00           0.02             0.05   \n",
       "Fri                           0.04           0.01             0.00   \n",
       "Mon                           0.71           0.09             0.02   \n",
       "PRCP                          0.51           0.16             0.16   \n",
       "SNOW                          0.00           0.00             0.00   \n",
       "SNWD                          0.00           0.00             0.00   \n",
       "Sat                           1.00           0.32             0.15   \n",
       "Sun                           0.73           0.16             0.16   \n",
       "TMAX                          0.06           1.00             0.89   \n",
       "TMIN                          0.03           0.02             0.37   \n",
       "Temp (C)                      0.01           0.02             0.69   \n",
       "Thu                           0.25           0.00             0.02   \n",
       "Total_yesterday               0.00           0.44             1.00   \n",
       "Tue                           0.39           0.00             0.04   \n",
       "Wed                           0.34           0.00             0.04   \n",
       "annual                        0.04           0.03             0.02   \n",
       "daylight_hrs                  0.06           0.10             0.70   \n",
       "dry day                       0.27           0.01             0.23   \n",
       "holiday                       0.89           0.02             0.01   \n",
       "\n",
       "                 Ridge Regression  LASSO  Recursive Feature Elimination  \\\n",
       "AWND                         0.01   0.00                           0.17   \n",
       "Fri                          0.12   0.16                           0.89   \n",
       "Mon                          0.44   0.37                           0.78   \n",
       "PRCP                         1.00   0.41                           0.39   \n",
       "SNOW                         0.00   0.00                           0.00   \n",
       "SNWD                         0.02   0.00                           0.11   \n",
       "Sat                          0.90   1.00                           0.94   \n",
       "Sun                          0.87   0.78                           1.00   \n",
       "TMAX                         0.06   0.05                           0.56   \n",
       "TMIN                         0.06   0.02                           0.50   \n",
       "Temp (C)                     0.07   0.00                           0.44   \n",
       "Thu                          0.32   0.00                           0.83   \n",
       "Total_yesterday              0.00   0.00                           0.06   \n",
       "Tue                          0.47   0.11                           0.67   \n",
       "Wed                          0.43   0.07                           0.72   \n",
       "annual                       0.13   0.03                           0.22   \n",
       "daylight_hrs                 0.16   0.05                           0.28   \n",
       "dry day                      0.61   0.22                           0.33   \n",
       "holiday                      0.56   0.70                           0.61   \n",
       "\n",
       "                 Feat.Select Mean  \n",
       "AWND                         0.04  \n",
       "Fri                          0.20  \n",
       "Mon                          0.40  \n",
       "PRCP                         0.44  \n",
       "SNOW                         0.00  \n",
       "SNWD                         0.02  \n",
       "Sat                          0.72  \n",
       "Sun                          0.62  \n",
       "TMAX                         0.44  \n",
       "TMIN                         0.17  \n",
       "Temp (C)                     0.20  \n",
       "Thu                          0.24  \n",
       "Total_yesterday              0.25  \n",
       "Tue                          0.28  \n",
       "Wed                          0.27  \n",
       "annual                       0.08  \n",
       "daylight_hrs                 0.22  \n",
       "dry day                      0.28  \n",
       "holiday                      0.46  "
      ]
     },
     "execution_count": 64,
     "metadata": {
      "tags": []
     },
     "output_type": "execute_result"
    }
   ],
   "source": [
    "#https://blog.datadive.net/selecting-good-features-part-iv-stability-selection-rfe-and-everything-side-by-side/\n",
    "from sklearn.model_selection import StratifiedKFold\n",
    "from sklearn.linear_model import (LinearRegression, Ridge, \n",
    "                                  Lasso)\n",
    "from sklearn.feature_selection import RFE,RFECV,f_regression\n",
    "from sklearn.preprocessing import MinMaxScaler\n",
    "from sklearn.ensemble import RandomForestRegressor\n",
    "import numpy as np\n",
    "\n",
    "\n",
    "# CV returns a dictionary so.... \n",
    "scores2 = cross_validate(RANSACRegressor(LinearRegression(), max_trials=100, min_samples = 50, loss='absolute_loss'), X_train, y_train, scoring='neg_mean_absolute_error', cv = 3, return_train_score=True, return_estimator=True)\n",
    "np.random.seed(0)\n",
    " \n",
    "size = 750\n",
    " \n",
    "Y = y_train\n",
    "X = X_train\n",
    "\n",
    "names = list(X.columns)\n",
    "\n",
    "# Rank the outputs from 0 to 1\n",
    "ranks = {}\n",
    "def rank_to_dict(ranks, names, order=1):\n",
    "    minmax = MinMaxScaler()\n",
    "    ranks = minmax.fit_transform(order*np.array([ranks]).T).T[0]\n",
    "    ranks = map(lambda x: round(x, 2), ranks)\n",
    "    return dict(zip(names, ranks ))\n",
    "\n",
    "#### Regression Types #### \n",
    "# Linear Regression\n",
    "lr = LinearRegression()\n",
    "lr.fit(X, Y)\n",
    "ranks[\"Linear Regression\"] = rank_to_dict(np.abs(lr.coef_), names)\n",
    "\n",
    "# Random Forest Regression\n",
    "rf = RandomForestRegressor()\n",
    "rf.fit(X,Y)\n",
    "ranks[\"Random Forest\"] = rank_to_dict(rf.feature_importances_, names)\n",
    "\n",
    "# F Regression\n",
    "f, pval  = f_regression(X, Y, center=True)\n",
    "ranks[\"Corr. (p_value)\"] = rank_to_dict(f, names)\n",
    "\n",
    "# Ridge Regression\n",
    "ridge = Ridge(normalize=True, alpha=7)\n",
    "ridge.fit(X, Y)\n",
    "ranks[\"Ridge Regression\"] = rank_to_dict(np.abs(ridge.coef_), names)\n",
    "\n",
    "# Lasso Regression\n",
    "lasso = Lasso(normalize=True, alpha=.05)\n",
    "lasso.fit(X, Y)\n",
    "ranks[\"LASSO\"] = rank_to_dict(np.abs(lasso.coef_), names)\n",
    "\n",
    "#Linear Regression RFE - stop the search when 5 features are left (they will get equal scores)\n",
    "rfe = RFE(LinearRegression(normalize=True), n_features_to_select=1)\n",
    "rfe.fit(X,Y)\n",
    "ranks[\"Recursive Feature Elimination\"] = rank_to_dict(([float(i) for i in rfe.ranking_]), names, order=-1)\n",
    "\n",
    "\n",
    "### MEAN OF REGRESSION COEFFICIENTS\n",
    "r = {}\n",
    "for name in names: r[name] = round(np.mean([ranks[method][name]for method in ranks.keys()]), 2)\n",
    "ranks[\"Feat.Select Mean\"] = r\n",
    "\n",
    "methods = list(ranks.keys())\n",
    "\n",
    "df_tabs = pd.DataFrame.from_dict(ranks)\n",
    "df_tabs = df_tabs[methods]\n",
    "df_tabs#.sort_values(by='MSE')\n",
    "\n"
   ]
  },
  {
   "cell_type": "code",
   "execution_count": 0,
   "metadata": {
    "colab": {},
    "colab_type": "code",
    "id": "iVF-nABrsQov"
   },
   "outputs": [],
   "source": [
    "J"
   ]
  }
 ],
 "metadata": {
  "colab": {
   "collapsed_sections": [],
   "name": "LS_DS_243_Select_models_and_parameters-Assignment.ipynb",
   "provenance": [],
   "version": "0.3.2"
  },
  "kernelspec": {
   "display_name": "Python 3",
   "language": "python",
   "name": "python3"
  },
  "language_info": {
   "codemirror_mode": {
    "name": "ipython",
    "version": 3
   },
   "file_extension": ".py",
   "mimetype": "text/x-python",
   "name": "python",
   "nbconvert_exporter": "python",
   "pygments_lexer": "ipython3",
   "version": "3.6.8"
  }
 },
 "nbformat": 4,
 "nbformat_minor": 1
}
