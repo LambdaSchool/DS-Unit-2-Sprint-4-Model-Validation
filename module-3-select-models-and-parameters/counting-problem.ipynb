{
 "cells": [
  {
   "cell_type": "code",
   "execution_count": 156,
   "metadata": {},
   "outputs": [
    {
     "name": "stdout",
     "output_type": "stream",
     "text": [
      "hypothesis \tactual\n",
      "0: -20.0\t\t0: 1\n",
      "1: 8\t\t1: 8\n",
      "2: 36.0\t\t2: 36\n",
      "3: 64.0\t\t3: 120\n",
      "4: 92.0\t\t4: 330\n",
      "5: 120.0\t\t5: 792\n",
      "6: 148.0\t\t6: 1716\n",
      "\n",
      "differences: [-21.0, 0, 0.0, -56.0, -238.0, -672.0, -1568.0]\n"
     ]
    },
    {
     "data": {
      "image/png": "[encoded data removed]",
      "text/plain": [
       "<Figure size 432x288 with 1 Axes>"
      ]
     },
     "metadata": {
      "needs_background": "light"
     },
     "output_type": "display_data"
    }
   ],
   "source": [
    "import numpy as np\n",
    "import pandas as pd\n",
    "import matplotlib.pyplot as plt\n",
    "from scipy.special import comb as choose, factorial\n",
    "comb = lambda x,y: choose(x,y, exact=True)\n",
    "fac = lambda x: factorial(x, exact=True)\n",
    "\n",
    "deg_seven = {0: 1, 1: 8, 2: 36, 3: 120, 4: 330, 5: 792, 6: 1716}\n",
    "\n",
    "def hyp(k, n=7): \n",
    "    if k==1: return int(8)\n",
    "    else: #return (k-1)*comb(n+k,2) + k*sum([hyp(k) for k in range(k)])//2\n",
    "        return ((k-1)*comb(n+1, 2) + (n+1))\n",
    "\n",
    "attempt = {k: hyp(k, n=7) for k in range(7)}\n",
    "\n",
    "\n",
    "print('hypothesis \\tactual')\n",
    "for key in attempt: \n",
    "    print(f'{key}: {attempt[key]}\\t\\t{key}: {deg_seven[key]}')\n",
    "\n",
    "diffs = [attempt[k]-deg_seven[k] for k in attempt]\n",
    "\n",
    "print(f'\\ndifferences: {diffs}')\n",
    "\n",
    "\n",
    "plt.plot(deg_seven.keys(), deg_seven.values());\n",
    "plt.plot(attempt.keys(), attempt.values());"
   ]
  },
  {
   "cell_type": "code",
   "execution_count": 172,
   "metadata": {},
   "outputs": [
    {
     "name": "stdout",
     "output_type": "stream",
     "text": [
      "hypothesis \tactual\n",
      "0: 1\t\t0: 1\n",
      "1: 8\t\t1: 8\n",
      "2: 36\t\t2: 36\n",
      "3: 120\t\t3: 120\n",
      "4: 330\t\t4: 330\n",
      "5: 792\t\t5: 792\n",
      "6: 1716\t\t6: 1716\n",
      "\n",
      "differences: [0, 0, 0, 0, 0, 0, 0]\n"
     ]
    },
    {
     "data": {
      "image/png": "[encoded data removed]",
      "text/plain": [
       "<Figure size 432x288 with 1 Axes>"
      ]
     },
     "metadata": {
      "needs_background": "light"
     },
     "output_type": "display_data"
    }
   ],
   "source": [
    "# this was embarrasingly easy, once it hit me. \n",
    "def hyp(k, n=9): \n",
    "    return comb(n+k, k)\n",
    "\n",
    "def hyp2(k, n=9):\n",
    "    ## A Apte was right about the recursion\n",
    "    if k==0: return 1\n",
    "    else: return comb(n+k-1, k) + hyp2(k-1)\n",
    "    \n",
    "assert all([hyp(k)==hyp2(k) for k in range(10)])    \n",
    "\n",
    "\n",
    "\n",
    "attempt = {k: hyp(k, n=7) for k in range(7)}\n",
    "\n",
    "\n",
    "print('hypothesis \\tactual')\n",
    "for key in attempt: \n",
    "    print(f'{key}: {attempt[key]}\\t\\t{key}: {deg_seven[key]}')\n",
    "\n",
    "diffs = [attempt[k]-deg_seven[k] for k in attempt]\n",
    "\n",
    "print(f'\\ndifferences: {diffs}')\n",
    "\n",
    "\n",
    "plt.plot(deg_seven.keys(), deg_seven.values());\n",
    "plt.plot(attempt.keys(), attempt.values());"
   ]
  },
  {
   "cell_type": "code",
   "execution_count": 56,
   "metadata": {},
   "outputs": [
    {
     "data": {
      "text/plain": [
       "152"
      ]
     },
     "execution_count": 56,
     "metadata": {},
     "output_type": "execute_result"
    }
   ],
   "source": [
    "76*2"
   ]
  },
  {
   "cell_type": "code",
   "execution_count": null,
   "metadata": {},
   "outputs": [],
   "source": []
  },
  {
   "cell_type": "code",
   "execution_count": 153,
   "metadata": {},
   "outputs": [
    {
     "name": "stdout",
     "output_type": "stream",
     "text": [
      "[0, 1, 5, 14, 30, 55, 91, 140, 204, 285, 385, 506, 650, 819, 1015, 1240, 1496, 1785, 2109, 2470]\n",
      "[1, 1, 2, 5, 14, 42, 132, 429, 1430, 4862, 16796, 58786, 208012, 742900, 2674440, 9694845]\n"
     ]
    }
   ],
   "source": [
    "# squarepyramid \n",
    "def sqpyram(n): \n",
    "    return sum([k**2 for k in range(n+1)])\n",
    "\n",
    "def catalan(n): \n",
    "    return int(choose(2*n, n) / (n+1))\n",
    "\n",
    "print([sqpyram(k) for k in range(20)])\n",
    "print([catalan(k) for k in range(16)])\n",
    "\n",
    "\n",
    "\n"
   ]
  },
  {
   "cell_type": "code",
   "execution_count": null,
   "metadata": {},
   "outputs": [],
   "source": []
  },
  {
   "cell_type": "code",
   "execution_count": null,
   "metadata": {},
   "outputs": [],
   "source": []
  },
  {
   "cell_type": "code",
   "execution_count": null,
   "metadata": {},
   "outputs": [],
   "source": []
  },
  {
   "cell_type": "code",
   "execution_count": 154,
   "metadata": {},
   "outputs": [
    {
     "data": {
      "text/html": [
       "<div>\n",
       "<style scoped>\n",
       "    .dataframe tbody tr th:only-of-type {\n",
       "        vertical-align: middle;\n",
       "    }\n",
       "\n",
       "    .dataframe tbody tr th {\n",
       "        vertical-align: top;\n",
       "    }\n",
       "\n",
       "    .dataframe thead th {\n",
       "        text-align: right;\n",
       "    }\n",
       "</style>\n",
       "<table border=\"1\" class=\"dataframe\">\n",
       "  <thead>\n",
       "    <tr style=\"text-align: right;\">\n",
       "      <th></th>\n",
       "      <th>0</th>\n",
       "      <th>1</th>\n",
       "      <th>2</th>\n",
       "      <th>3</th>\n",
       "      <th>4</th>\n",
       "      <th>5</th>\n",
       "      <th>6</th>\n",
       "      <th>7</th>\n",
       "      <th>8</th>\n",
       "      <th>9</th>\n",
       "    </tr>\n",
       "  </thead>\n",
       "  <tbody>\n",
       "    <tr>\n",
       "      <th>0</th>\n",
       "      <td>0</td>\n",
       "      <td>1</td>\n",
       "      <td>2</td>\n",
       "      <td>3</td>\n",
       "      <td>4</td>\n",
       "      <td>5</td>\n",
       "      <td>6</td>\n",
       "      <td>7</td>\n",
       "      <td>8</td>\n",
       "      <td>9</td>\n",
       "    </tr>\n",
       "    <tr>\n",
       "      <th>1</th>\n",
       "      <td>0</td>\n",
       "      <td>1</td>\n",
       "      <td>3</td>\n",
       "      <td>6</td>\n",
       "      <td>10</td>\n",
       "      <td>15</td>\n",
       "      <td>21</td>\n",
       "      <td>28</td>\n",
       "      <td>36</td>\n",
       "      <td>45</td>\n",
       "    </tr>\n",
       "    <tr>\n",
       "      <th>2</th>\n",
       "      <td>0</td>\n",
       "      <td>1</td>\n",
       "      <td>5</td>\n",
       "      <td>14</td>\n",
       "      <td>30</td>\n",
       "      <td>55</td>\n",
       "      <td>91</td>\n",
       "      <td>140</td>\n",
       "      <td>204</td>\n",
       "      <td>285</td>\n",
       "    </tr>\n",
       "    <tr>\n",
       "      <th>3</th>\n",
       "      <td>0</td>\n",
       "      <td>1</td>\n",
       "      <td>9</td>\n",
       "      <td>36</td>\n",
       "      <td>100</td>\n",
       "      <td>225</td>\n",
       "      <td>441</td>\n",
       "      <td>784</td>\n",
       "      <td>1296</td>\n",
       "      <td>2025</td>\n",
       "    </tr>\n",
       "    <tr>\n",
       "      <th>4</th>\n",
       "      <td>0</td>\n",
       "      <td>1</td>\n",
       "      <td>17</td>\n",
       "      <td>98</td>\n",
       "      <td>354</td>\n",
       "      <td>979</td>\n",
       "      <td>2275</td>\n",
       "      <td>4676</td>\n",
       "      <td>8772</td>\n",
       "      <td>15333</td>\n",
       "    </tr>\n",
       "    <tr>\n",
       "      <th>5</th>\n",
       "      <td>0</td>\n",
       "      <td>1</td>\n",
       "      <td>33</td>\n",
       "      <td>276</td>\n",
       "      <td>1300</td>\n",
       "      <td>4425</td>\n",
       "      <td>12201</td>\n",
       "      <td>29008</td>\n",
       "      <td>61776</td>\n",
       "      <td>120825</td>\n",
       "    </tr>\n",
       "    <tr>\n",
       "      <th>6</th>\n",
       "      <td>0</td>\n",
       "      <td>1</td>\n",
       "      <td>65</td>\n",
       "      <td>794</td>\n",
       "      <td>4890</td>\n",
       "      <td>20515</td>\n",
       "      <td>67171</td>\n",
       "      <td>184820</td>\n",
       "      <td>446964</td>\n",
       "      <td>978405</td>\n",
       "    </tr>\n",
       "    <tr>\n",
       "      <th>7</th>\n",
       "      <td>0</td>\n",
       "      <td>1</td>\n",
       "      <td>129</td>\n",
       "      <td>2316</td>\n",
       "      <td>18700</td>\n",
       "      <td>96825</td>\n",
       "      <td>376761</td>\n",
       "      <td>1200304</td>\n",
       "      <td>3297456</td>\n",
       "      <td>8080425</td>\n",
       "    </tr>\n",
       "    <tr>\n",
       "      <th>8</th>\n",
       "      <td>0</td>\n",
       "      <td>1</td>\n",
       "      <td>257</td>\n",
       "      <td>6818</td>\n",
       "      <td>72354</td>\n",
       "      <td>462979</td>\n",
       "      <td>2142595</td>\n",
       "      <td>7907396</td>\n",
       "      <td>24684612</td>\n",
       "      <td>67731333</td>\n",
       "    </tr>\n",
       "    <tr>\n",
       "      <th>9</th>\n",
       "      <td>0</td>\n",
       "      <td>1</td>\n",
       "      <td>513</td>\n",
       "      <td>20196</td>\n",
       "      <td>282340</td>\n",
       "      <td>2235465</td>\n",
       "      <td>12313161</td>\n",
       "      <td>52666768</td>\n",
       "      <td>186884496</td>\n",
       "      <td>574304985</td>\n",
       "    </tr>\n",
       "  </tbody>\n",
       "</table>\n",
       "</div>"
      ],
      "text/plain": [
       "   0  1    2      3       4        5         6         7          8          9\n",
       "0  0  1    2      3       4        5         6         7          8          9\n",
       "1  0  1    3      6      10       15        21        28         36         45\n",
       "2  0  1    5     14      30       55        91       140        204        285\n",
       "3  0  1    9     36     100      225       441       784       1296       2025\n",
       "4  0  1   17     98     354      979      2275      4676       8772      15333\n",
       "5  0  1   33    276    1300     4425     12201     29008      61776     120825\n",
       "6  0  1   65    794    4890    20515     67171    184820     446964     978405\n",
       "7  0  1  129   2316   18700    96825    376761   1200304    3297456    8080425\n",
       "8  0  1  257   6818   72354   462979   2142595   7907396   24684612   67731333\n",
       "9  0  1  513  20196  282340  2235465  12313161  52666768  186884496  574304985"
      ]
     },
     "execution_count": 154,
     "metadata": {},
     "output_type": "execute_result"
    }
   ],
   "source": [
    "def faulhaber(n, p): \n",
    "    if n==0: return 0\n",
    "    else: return n**p + faulhaber(n-1, p)\n",
    "\n",
    "\n",
    "pd.DataFrame.from_dict({p: [faulhaber(k,p) for k in range(10)] for p in range(10)}).T"
   ]
  },
  {
   "cell_type": "code",
   "execution_count": null,
   "metadata": {},
   "outputs": [],
   "source": []
  },
  {
   "cell_type": "code",
   "execution_count": 174,
   "metadata": {},
   "outputs": [
    {
     "data": {
      "text/plain": [
       "84.0"
      ]
     },
     "execution_count": 174,
     "metadata": {},
     "output_type": "execute_result"
    }
   ],
   "source": [
    "choose(9,3)"
   ]
  },
  {
   "cell_type": "code",
   "execution_count": 175,
   "metadata": {},
   "outputs": [
    {
     "data": {
      "text/plain": [
       "True"
      ]
     },
     "execution_count": 175,
     "metadata": {},
     "output_type": "execute_result"
    }
   ],
   "source": [
    "n=9\n",
    "k=3\n",
    "\n",
    "comb(n+k-1, k) == comb(n+k-1, n-1)"
   ]
  }
 ],
 "metadata": {
  "kernelspec": {
   "display_name": "Python 3",
   "language": "python",
   "name": "python3"
  },
  "language_info": {
   "codemirror_mode": {
    "name": "ipython",
    "version": 3
   },
   "file_extension": ".py",
   "mimetype": "text/x-python",
   "name": "python",
   "nbconvert_exporter": "python",
   "pygments_lexer": "ipython3",
   "version": "3.6.6"
  }
 },
 "nbformat": 4,
 "nbformat_minor": 2
}
