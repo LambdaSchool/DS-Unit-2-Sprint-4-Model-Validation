{
  "nbformat": 4,
  "nbformat_minor": 0,
  "metadata": {
    "colab": {
      "name": "DS243 Select models and parameters.ipynb",
      "version": "0.3.2",
      "provenance": [],
      "collapsed_sections": [],
      "include_colab_link": true
    },
    "kernelspec": {
      "name": "python3",
      "display_name": "Python 3"
    },
    "accelerator": "GPU"
  },
  "cells": [
    {
      "cell_type": "markdown",
      "metadata": {
        "id": "view-in-github",
        "colab_type": "text"
      },
      "source": [
        "<a href=\"https://colab.research.google.com/github/hughjafro/DS-Unit-2-Sprint-4-Model-Validation/blob/master/module-3-select-models-and-parameters/DS243_Select_models_and_parameters.ipynb\" target=\"_parent\"><img src=\"https://colab.research.google.com/assets/colab-badge.svg\" alt=\"Open In Colab\"/></a>"
      ]
    },
    {
      "metadata": {
        "id": "O67uhlT4MExK",
        "colab_type": "text"
      },
      "cell_type": "markdown",
      "source": [
        "_Lambda School Data Science — Model Validation_\n",
        "\n",
        "# Select models and parameters\n",
        "\n",
        "Objectives\n",
        "- Hyperparameter optimization\n",
        "- Model selection"
      ]
    },
    {
      "metadata": {
        "id": "VE4rfZd4NUGA",
        "colab_type": "text"
      },
      "cell_type": "markdown",
      "source": [
        "Today we'll use this process:\n",
        "\n",
        "## \"A universal workflow of machine learning\"\n",
        "\n",
        "_Excerpt from Francois Chollet, [Deep Learning with Python](https://github.com/fchollet/deep-learning-with-python-notebooks/blob/master/README.md), Chapter 4: Fundamentals of machine learning_\n",
        " \n",
        "**1. Define the problem at hand and the data on which you’ll train.** Collect this data, or annotate it with labels if need be.\n",
        "\n",
        "**2. Choose how you’ll measure success on your problem.** Which metrics will you monitor on your validation data?\n",
        "\n",
        "**3. Determine your evaluation protocol:** hold-out validation? K-fold validation? Which portion of the data should you use for validation?\n",
        "\n",
        "**4. Develop a first model that does better than a basic baseline:** a model with statistical power.\n",
        "\n",
        "**5. Develop a model that overfits.** The universal tension in machine learning is between optimization and generalization; the ideal model is one that stands right at the border between underfitting and overfitting; between undercapacity and overcapacity. To figure out where this border lies, first you must cross it.\n",
        "\n",
        "**6. Regularize your model and tune its hyperparameters, based on performance on the validation data.** Repeatedly modify your model, train it, evaluate on your validation data (not the test data, at this point), modify it again, and repeat, until the model is as good as it can get. \n",
        "\n",
        "Iterate on feature engineering: add new features, or remove features that don’t seem to be informative. Once you’ve developed a satisfactory model configuration, you can train your final production model on all the available data (training and validation) and evaluate it one last time on the test set.\n"
      ]
    },
    {
      "metadata": {
        "id": "3kt6bzEcOIaa",
        "colab_type": "text"
      },
      "cell_type": "markdown",
      "source": [
        "## 1. Define the problem at hand and the data on which you'll train"
      ]
    },
    {
      "metadata": {
        "id": "di16k7vpRg67",
        "colab_type": "text"
      },
      "cell_type": "markdown",
      "source": [
        "We'll apply the workflow to a [project from _Python Data Science Handbook_](https://jakevdp.github.io/PythonDataScienceHandbook/05.06-linear-regression.html#Example:-Predicting-Bicycle-Traffic) by Jake VanderPlas:\n",
        "\n",
        "> **Predicting Bicycle Traffic**\n",
        "\n",
        "> As an example, let's take a look at whether we can predict the number of bicycle trips across Seattle's Fremont Bridge based on weather, season, and other factors.\n",
        "\n",
        "> We will join the bike data with another dataset, and try to determine the extent to which weather and seasonal factors—temperature, precipitation, and daylight hours—affect the volume of bicycle traffic through this corridor. Fortunately, the NOAA makes available their daily [weather station data](http://www.ncdc.noaa.gov/cdo-web/search?datasetid=GHCND) (I used station ID USW00024233) and we can easily use Pandas to join the two data sources.\n",
        "\n",
        "> Let's start by loading the two datasets, indexing by date:"
      ]
    },
    {
      "metadata": {
        "id": "19dpb_d0R1A6",
        "colab_type": "text"
      },
      "cell_type": "markdown",
      "source": [
        "So this is a regression problem, not a classification problem. We'll define the target, choose an evaluation metric, and choose models that are appropriate for regression problems.\n",
        "\n",
        "\n"
      ]
    },
    {
      "metadata": {
        "id": "os1zruXQ30KM",
        "colab_type": "text"
      },
      "cell_type": "markdown",
      "source": [
        "### Download data"
      ]
    },
    {
      "metadata": {
        "id": "5XVu-HSeMDtV",
        "colab_type": "code",
        "outputId": "286ede33-5f6e-4d9f-bdb2-e86aba6ea108",
        "colab": {
          "base_uri": "https://localhost:8080/",
          "height": 69
        }
      },
      "cell_type": "code",
      "source": [
        "!curl -o FremontBridge.csv https://data.seattle.gov/api/views/65db-xm6k/rows.csv?accessType=DOWNLOAD"
      ],
      "execution_count": 0,
      "outputs": [
        {
          "output_type": "stream",
          "text": [
            "  % Total    % Received % Xferd  Average Speed   Time    Time     Time  Current\n",
            "                                 Dload  Upload   Total   Spent    Left  Speed\n",
            "100 1536k    0 1536k    0     0   482k      0 --:--:--  0:00:03 --:--:--  482k\n"
          ],
          "name": "stdout"
        }
      ]
    },
    {
      "metadata": {
        "id": "sih_7mTzMdfr",
        "colab_type": "code",
        "outputId": "4feff088-6a55-4116-c0a8-58d7a8a4f676",
        "colab": {
          "base_uri": "https://localhost:8080/",
          "height": 207
        }
      },
      "cell_type": "code",
      "source": [
        "!wget https://raw.githubusercontent.com/jakevdp/PythonDataScienceHandbook/master/notebooks/data/BicycleWeather.csv"
      ],
      "execution_count": 0,
      "outputs": [
        {
          "output_type": "stream",
          "text": [
            "--2019-01-30 17:33:47--  https://raw.githubusercontent.com/jakevdp/PythonDataScienceHandbook/master/notebooks/data/BicycleWeather.csv\n",
            "Resolving raw.githubusercontent.com (raw.githubusercontent.com)... 151.101.0.133, 151.101.64.133, 151.101.128.133, ...\n",
            "Connecting to raw.githubusercontent.com (raw.githubusercontent.com)|151.101.0.133|:443... connected.\n",
            "HTTP request sent, awaiting response... 200 OK\n",
            "Length: 234945 (229K) [text/plain]\n",
            "Saving to: ‘BicycleWeather.csv’\n",
            "\n",
            "\rBicycleWeather.csv    0%[                    ]       0  --.-KB/s               \rBicycleWeather.csv  100%[===================>] 229.44K  --.-KB/s    in 0.05s   \n",
            "\n",
            "2019-01-30 17:33:48 (4.42 MB/s) - ‘BicycleWeather.csv’ saved [234945/234945]\n",
            "\n"
          ],
          "name": "stdout"
        }
      ]
    },
    {
      "metadata": {
        "id": "9GYm74kD34OQ",
        "colab_type": "text"
      },
      "cell_type": "markdown",
      "source": [
        "### Load data"
      ]
    },
    {
      "metadata": {
        "id": "BfQ7gE28MNdF",
        "colab_type": "code",
        "colab": {}
      },
      "cell_type": "code",
      "source": [
        "# Modified from cells 15, 16, and 20, at\n",
        "# https://jakevdp.github.io/PythonDataScienceHandbook/05.06-linear-regression.html#Example:-Predicting-Bicycle-Traffic\n",
        "\n",
        "import pandas as pd\n",
        "\n",
        "counts = pd.read_csv('FremontBridge.csv', index_col='Date', parse_dates=True, \n",
        "                     infer_datetime_format=True)\n",
        "\n",
        "weather = pd.read_csv('BicycleWeather.csv', index_col='DATE', parse_dates=True, \n",
        "                      infer_datetime_format=True)\n",
        "\n",
        "daily = counts.resample('d').sum()\n",
        "daily['Total'] = daily.sum(axis=1)\n",
        "daily = daily[['Total']] # remove other columns\n",
        "\n",
        "weather_columns = ['PRCP', 'SNOW', 'SNWD', 'TMAX', 'TMIN', 'AWND']\n",
        "daily = daily.join(weather[weather_columns], how='inner')"
      ],
      "execution_count": 0,
      "outputs": []
    },
    {
      "metadata": {
        "id": "i0YYD6rvypb4",
        "colab_type": "code",
        "colab": {}
      },
      "cell_type": "code",
      "source": [
        "# Make a feature for yesterday's total\n",
        "daily['Total_yesterday'] = daily.Total.shift(1)\n",
        "\n",
        "daily = daily.drop(index=daily.index[0])"
      ],
      "execution_count": 0,
      "outputs": []
    },
    {
      "metadata": {
        "id": "VVB3g4704An5",
        "colab_type": "text"
      },
      "cell_type": "markdown",
      "source": [
        "### First fast look at the data\n",
        "- What's the shape?\n",
        "- What's the date range?\n",
        "- What's the target and the features?"
      ]
    },
    {
      "metadata": {
        "id": "t50E2fTUWBBU",
        "colab_type": "code",
        "outputId": "638677b2-1c0e-4c7e-eb8a-649eaff98398",
        "colab": {
          "base_uri": "https://localhost:8080/",
          "height": 35
        }
      },
      "cell_type": "code",
      "source": [
        "daily.shape"
      ],
      "execution_count": 0,
      "outputs": [
        {
          "output_type": "execute_result",
          "data": {
            "text/plain": [
              "(1063, 8)"
            ]
          },
          "metadata": {
            "tags": []
          },
          "execution_count": 6
        }
      ]
    },
    {
      "metadata": {
        "id": "hAHlhrjcx8lR",
        "colab_type": "code",
        "colab": {}
      },
      "cell_type": "code",
      "source": [
        ""
      ],
      "execution_count": 0,
      "outputs": []
    },
    {
      "metadata": {
        "id": "XgMvCsaWJR7Q",
        "colab_type": "text"
      },
      "cell_type": "markdown",
      "source": [
        "Target\n",
        "- Total : Daily total number of bicycle trips across Seattle's Fremont Bridge\n",
        "\n",
        "Features\n",
        "- Date (index) : from 2012-10-04 to 2015-09-01\n",
        "- Total_yesterday : Total trips yesterday\n",
        "- PRCP : Precipitation (1/10 mm)\n",
        "- SNOW : Snowfall (1/10 mm)\n",
        "- SNWD : Snow depth (1/10 mm)\n",
        "- TMAX : Maximum temperature (1/10 Celsius)\n",
        "- TMIN : Minimum temperature (1/10 Celsius)\n",
        "- AWND : Average daily wind speed (1/10 meters per second)"
      ]
    },
    {
      "metadata": {
        "id": "lenL-przSYCo",
        "colab_type": "text"
      },
      "cell_type": "markdown",
      "source": [
        "## 2. Choose how you’ll measure success on your problem.\n",
        "\n",
        "Which metrics will you monitor on your validation data?\n",
        "\n",
        "This is a regression problem, so we need to choose a regression [metric](https://scikit-learn.org/stable/modules/model_evaluation.html#common-cases-predefined-values).\n",
        "\n",
        "\n",
        "\n",
        "I'll choose mean absolute error.\n",
        "\n"
      ]
    },
    {
      "metadata": {
        "id": "1TqbomapSyRP",
        "colab_type": "code",
        "colab": {}
      },
      "cell_type": "code",
      "source": [
        "from sklearn.metrics import mean_absolute_error"
      ],
      "execution_count": 0,
      "outputs": []
    },
    {
      "metadata": {
        "id": "e_7LAOXs1ZPJ",
        "colab_type": "code",
        "outputId": "ae296eab-7711-4232-cf3b-884d1d7e6594",
        "colab": {
          "base_uri": "https://localhost:8080/",
          "height": 35
        }
      },
      "cell_type": "code",
      "source": [
        "daily.shape"
      ],
      "execution_count": 0,
      "outputs": [
        {
          "output_type": "execute_result",
          "data": {
            "text/plain": [
              "(1063, 8)"
            ]
          },
          "metadata": {
            "tags": []
          },
          "execution_count": 8
        }
      ]
    },
    {
      "metadata": {
        "id": "IRHrB3rsS5hF",
        "colab_type": "text"
      },
      "cell_type": "markdown",
      "source": [
        "## 3. Determine your evaluation protocol \n",
        "\n",
        "We're doing model selection, hyperparameter optimization, and performance estimation. So generally we have two ideal [options](https://sebastianraschka.com/images/blog/2018/model-evaluation-selection-part4/model-eval-conclusions.jpg) to choose from:\n",
        "\n",
        "- 3-way holdout method (train/validation/test split)\n",
        "- Cross-validation with independent test set\n",
        "\n",
        "I'll choose cross-validation with independent test set. Scikit-learn makes cross-validation convenient for us!\n",
        "\n",
        "Specifically, I will use random shuffled cross validation to train and validate, but I will hold out an \"out-of-time\" test set, from the last 100 days of data:\n",
        "\n",
        "\n",
        "\n"
      ]
    },
    {
      "metadata": {
        "id": "A3xo6HgbPMFm",
        "colab_type": "code",
        "colab": {}
      },
      "cell_type": "code",
      "source": [
        "train = daily[:-100]\n",
        "test = daily[-100:]\n",
        "\n",
        "X_train = train.drop(columns='Total')\n",
        "y_train = train.Total\n",
        "\n",
        "X_test  = test.drop(columns='Total')\n",
        "y_test  = test.Total\n"
      ],
      "execution_count": 0,
      "outputs": []
    },
    {
      "metadata": {
        "id": "vH6IsORQTvTU",
        "colab_type": "text"
      },
      "cell_type": "markdown",
      "source": [
        "## 4. Develop a first model that does better than a basic baseline"
      ]
    },
    {
      "metadata": {
        "id": "DJBs2nQkj7oB",
        "colab_type": "text"
      },
      "cell_type": "markdown",
      "source": [
        "### Look at the target's distribution and descriptive stats"
      ]
    },
    {
      "metadata": {
        "id": "P5peakv9Zs71",
        "colab_type": "code",
        "outputId": "6ef7d9bb-f4a7-4edf-c5ed-9b129c2fe4d8",
        "colab": {
          "base_uri": "https://localhost:8080/",
          "height": 413
        }
      },
      "cell_type": "code",
      "source": [
        "import seaborn as sns\n",
        "sns.distplot(y_train);\n"
      ],
      "execution_count": 0,
      "outputs": [
        {
          "output_type": "stream",
          "text": [
            "/usr/local/lib/python3.6/dist-packages/matplotlib/axes/_axes.py:6521: MatplotlibDeprecationWarning: \n",
            "The 'normed' kwarg was deprecated in Matplotlib 2.1 and will be removed in 3.1. Use 'density' instead.\n",
            "  alternative=\"'density'\", removal=\"3.1\")\n"
          ],
          "name": "stderr"
        },
        {
          "output_type": "display_data",
          "data": {
            "image/png": "[encoded data removed]",
            "text/plain": [
              "<Figure size 576x396 with 1 Axes>"
            ]
          },
          "metadata": {
            "tags": []
          }
        }
      ]
    },
    {
      "metadata": {
        "id": "cjCH78pi16u4",
        "colab_type": "code",
        "outputId": "bfd0c43a-4496-4738-a91f-53666f69aa84",
        "colab": {
          "base_uri": "https://localhost:8080/",
          "height": 173
        }
      },
      "cell_type": "code",
      "source": [
        "y_train.describe()"
      ],
      "execution_count": 0,
      "outputs": [
        {
          "output_type": "execute_result",
          "data": {
            "text/plain": [
              "count     963.000000\n",
              "mean     2534.329180\n",
              "std      1224.065027\n",
              "min        98.000000\n",
              "25%      1755.000000\n",
              "50%      2381.000000\n",
              "75%      3317.500000\n",
              "max      6088.000000\n",
              "Name: Total, dtype: float64"
            ]
          },
          "metadata": {
            "tags": []
          },
          "execution_count": 13
        }
      ]
    },
    {
      "metadata": {
        "id": "VWb5PpX-16j1",
        "colab_type": "code",
        "colab": {}
      },
      "cell_type": "code",
      "source": [
        ""
      ],
      "execution_count": 0,
      "outputs": []
    },
    {
      "metadata": {
        "id": "fEjxxgV9kExY",
        "colab_type": "text"
      },
      "cell_type": "markdown",
      "source": [
        "### Basic baseline 1"
      ]
    },
    {
      "metadata": {
        "id": "6GepKdQjYcEP",
        "colab_type": "code",
        "outputId": "dbfb9a8a-d807-4cdc-d3f4-e8ab83846d4a",
        "colab": {
          "base_uri": "https://localhost:8080/",
          "height": 35
        }
      },
      "cell_type": "code",
      "source": [
        "import numpy as np\n",
        "y_pred = np.full(shape=y_train.shape, fill_value=y_train.mean())\n",
        "mean_absolute_error(y_train, y_pred)"
      ],
      "execution_count": 0,
      "outputs": [
        {
          "output_type": "execute_result",
          "data": {
            "text/plain": [
              "980.8981106765484"
            ]
          },
          "metadata": {
            "tags": []
          },
          "execution_count": 14
        }
      ]
    },
    {
      "metadata": {
        "id": "tN2I_F3FkIHb",
        "colab_type": "text"
      },
      "cell_type": "markdown",
      "source": [
        "### Basic baseline 2"
      ]
    },
    {
      "metadata": {
        "id": "ZW8bhZFtTunV",
        "colab_type": "code",
        "outputId": "d7b2724d-2f40-42d4-915f-ff28ff32e6bf",
        "colab": {
          "base_uri": "https://localhost:8080/",
          "height": 35
        }
      },
      "cell_type": "code",
      "source": [
        "mean_absolute_error(y_train, X_train.Total_yesterday)"
      ],
      "execution_count": 0,
      "outputs": [
        {
          "output_type": "execute_result",
          "data": {
            "text/plain": [
              "708.061266874351"
            ]
          },
          "metadata": {
            "tags": []
          },
          "execution_count": 15
        }
      ]
    },
    {
      "metadata": {
        "id": "Ggf3VpxwkJ0T",
        "colab_type": "text"
      },
      "cell_type": "markdown",
      "source": [
        "### First model that does better than a basic baseline"
      ]
    },
    {
      "metadata": {
        "id": "KfaqL1Ezer2-",
        "colab_type": "text"
      },
      "cell_type": "markdown",
      "source": [
        "https://scikit-learn.org/stable/modules/generated/sklearn.model_selection.cross_validate.html"
      ]
    },
    {
      "metadata": {
        "id": "OeBtU68skfW-",
        "colab_type": "code",
        "outputId": "07dadd07-6912-49a2-ad14-5b53e42dd09f",
        "colab": {
          "base_uri": "https://localhost:8080/",
          "height": 138
        }
      },
      "cell_type": "code",
      "source": [
        "from sklearn.linear_model import LinearRegression\n",
        "from sklearn.model_selection import cross_validate\n",
        "\n",
        "#cv=3 is 3 cross validation folds\n",
        "scores = cross_validate(LinearRegression(), X_train, y_train,\n",
        "                        scoring='neg_mean_absolute_error', cv=3,\n",
        "                        return_train_score=True, return_estimator=True)\n",
        "\n",
        "# Scores by default is a dict, that's why you can put it into a df\n",
        "# Can add to end - .rename(columns={'test_score': 'validation_score'})\n",
        "pd.DataFrame(scores)"
      ],
      "execution_count": 0,
      "outputs": [
        {
          "output_type": "execute_result",
          "data": {
            "text/html": [
              "<div>\n",
              "<style scoped>\n",
              "    .dataframe tbody tr th:only-of-type {\n",
              "        vertical-align: middle;\n",
              "    }\n",
              "\n",
              "    .dataframe tbody tr th {\n",
              "        vertical-align: top;\n",
              "    }\n",
              "\n",
              "    .dataframe thead th {\n",
              "        text-align: right;\n",
              "    }\n",
              "</style>\n",
              "<table border=\"1\" class=\"dataframe\">\n",
              "  <thead>\n",
              "    <tr style=\"text-align: right;\">\n",
              "      <th></th>\n",
              "      <th>estimator</th>\n",
              "      <th>fit_time</th>\n",
              "      <th>score_time</th>\n",
              "      <th>test_score</th>\n",
              "      <th>train_score</th>\n",
              "    </tr>\n",
              "  </thead>\n",
              "  <tbody>\n",
              "    <tr>\n",
              "      <th>0</th>\n",
              "      <td>LinearRegression(copy_X=True, fit_intercept=Tr...</td>\n",
              "      <td>0.004428</td>\n",
              "      <td>0.003349</td>\n",
              "      <td>-555.186275</td>\n",
              "      <td>-619.509206</td>\n",
              "    </tr>\n",
              "    <tr>\n",
              "      <th>1</th>\n",
              "      <td>LinearRegression(copy_X=True, fit_intercept=Tr...</td>\n",
              "      <td>0.003859</td>\n",
              "      <td>0.002981</td>\n",
              "      <td>-651.126513</td>\n",
              "      <td>-583.427702</td>\n",
              "    </tr>\n",
              "    <tr>\n",
              "      <th>2</th>\n",
              "      <td>LinearRegression(copy_X=True, fit_intercept=Tr...</td>\n",
              "      <td>0.002279</td>\n",
              "      <td>0.001578</td>\n",
              "      <td>-615.965800</td>\n",
              "      <td>-589.341301</td>\n",
              "    </tr>\n",
              "  </tbody>\n",
              "</table>\n",
              "</div>"
            ],
            "text/plain": [
              "                                           estimator  fit_time  score_time  \\\n",
              "0  LinearRegression(copy_X=True, fit_intercept=Tr...  0.004428    0.003349   \n",
              "1  LinearRegression(copy_X=True, fit_intercept=Tr...  0.003859    0.002981   \n",
              "2  LinearRegression(copy_X=True, fit_intercept=Tr...  0.002279    0.001578   \n",
              "\n",
              "   test_score  train_score  \n",
              "0 -555.186275  -619.509206  \n",
              "1 -651.126513  -583.427702  \n",
              "2 -615.965800  -589.341301  "
            ]
          },
          "metadata": {
            "tags": []
          },
          "execution_count": 22
        }
      ]
    },
    {
      "metadata": {
        "id": "VD2lhyd74LBa",
        "colab_type": "code",
        "outputId": "104efc65-865f-44b7-b48a-ba9b025ec49b",
        "colab": {
          "base_uri": "https://localhost:8080/",
          "height": 498
        }
      },
      "cell_type": "code",
      "source": [
        "#cv=3 is 3 cross validation folds\n",
        "scores = cross_validate(LinearRegression(), X_train, y_train,\n",
        "                        scoring='neg_mean_absolute_error', cv=15,\n",
        "                        return_train_score=True, return_estimator=True)\n",
        "\n",
        "# Scores by default is a dict, that's why you can put it into a df\n",
        "\n",
        "# Can add to end - .rename(columns={'test_score': 'validation_score'})\n",
        "pd.DataFrame(scores)\n"
      ],
      "execution_count": 0,
      "outputs": [
        {
          "output_type": "execute_result",
          "data": {
            "text/html": [
              "<div>\n",
              "<style scoped>\n",
              "    .dataframe tbody tr th:only-of-type {\n",
              "        vertical-align: middle;\n",
              "    }\n",
              "\n",
              "    .dataframe tbody tr th {\n",
              "        vertical-align: top;\n",
              "    }\n",
              "\n",
              "    .dataframe thead th {\n",
              "        text-align: right;\n",
              "    }\n",
              "</style>\n",
              "<table border=\"1\" class=\"dataframe\">\n",
              "  <thead>\n",
              "    <tr style=\"text-align: right;\">\n",
              "      <th></th>\n",
              "      <th>estimator</th>\n",
              "      <th>fit_time</th>\n",
              "      <th>score_time</th>\n",
              "      <th>test_score</th>\n",
              "      <th>train_score</th>\n",
              "    </tr>\n",
              "  </thead>\n",
              "  <tbody>\n",
              "    <tr>\n",
              "      <th>0</th>\n",
              "      <td>LinearRegression(copy_X=True, fit_intercept=Tr...</td>\n",
              "      <td>0.004447</td>\n",
              "      <td>0.002723</td>\n",
              "      <td>-533.107968</td>\n",
              "      <td>-603.814485</td>\n",
              "    </tr>\n",
              "    <tr>\n",
              "      <th>1</th>\n",
              "      <td>LinearRegression(copy_X=True, fit_intercept=Tr...</td>\n",
              "      <td>0.002645</td>\n",
              "      <td>0.001621</td>\n",
              "      <td>-438.415946</td>\n",
              "      <td>-609.630032</td>\n",
              "    </tr>\n",
              "    <tr>\n",
              "      <th>2</th>\n",
              "      <td>LinearRegression(copy_X=True, fit_intercept=Tr...</td>\n",
              "      <td>0.002351</td>\n",
              "      <td>0.001724</td>\n",
              "      <td>-423.191145</td>\n",
              "      <td>-611.720444</td>\n",
              "    </tr>\n",
              "    <tr>\n",
              "      <th>3</th>\n",
              "      <td>LinearRegression(copy_X=True, fit_intercept=Tr...</td>\n",
              "      <td>0.002090</td>\n",
              "      <td>0.001765</td>\n",
              "      <td>-832.305607</td>\n",
              "      <td>-583.267204</td>\n",
              "    </tr>\n",
              "    <tr>\n",
              "      <th>4</th>\n",
              "      <td>LinearRegression(copy_X=True, fit_intercept=Tr...</td>\n",
              "      <td>0.002507</td>\n",
              "      <td>0.001626</td>\n",
              "      <td>-566.649987</td>\n",
              "      <td>-599.584796</td>\n",
              "    </tr>\n",
              "    <tr>\n",
              "      <th>5</th>\n",
              "      <td>LinearRegression(copy_X=True, fit_intercept=Tr...</td>\n",
              "      <td>0.002223</td>\n",
              "      <td>0.001745</td>\n",
              "      <td>-604.787648</td>\n",
              "      <td>-597.613679</td>\n",
              "    </tr>\n",
              "    <tr>\n",
              "      <th>6</th>\n",
              "      <td>LinearRegression(copy_X=True, fit_intercept=Tr...</td>\n",
              "      <td>0.002178</td>\n",
              "      <td>0.001721</td>\n",
              "      <td>-575.883038</td>\n",
              "      <td>-599.948295</td>\n",
              "    </tr>\n",
              "    <tr>\n",
              "      <th>7</th>\n",
              "      <td>LinearRegression(copy_X=True, fit_intercept=Tr...</td>\n",
              "      <td>0.002325</td>\n",
              "      <td>0.001572</td>\n",
              "      <td>-560.949417</td>\n",
              "      <td>-603.602924</td>\n",
              "    </tr>\n",
              "    <tr>\n",
              "      <th>8</th>\n",
              "      <td>LinearRegression(copy_X=True, fit_intercept=Tr...</td>\n",
              "      <td>0.002110</td>\n",
              "      <td>0.001928</td>\n",
              "      <td>-627.176369</td>\n",
              "      <td>-595.813986</td>\n",
              "    </tr>\n",
              "    <tr>\n",
              "      <th>9</th>\n",
              "      <td>LinearRegression(copy_X=True, fit_intercept=Tr...</td>\n",
              "      <td>0.002118</td>\n",
              "      <td>0.001661</td>\n",
              "      <td>-896.932896</td>\n",
              "      <td>-583.765827</td>\n",
              "    </tr>\n",
              "    <tr>\n",
              "      <th>10</th>\n",
              "      <td>LinearRegression(copy_X=True, fit_intercept=Tr...</td>\n",
              "      <td>0.002580</td>\n",
              "      <td>0.001648</td>\n",
              "      <td>-792.317039</td>\n",
              "      <td>-584.529747</td>\n",
              "    </tr>\n",
              "    <tr>\n",
              "      <th>11</th>\n",
              "      <td>LinearRegression(copy_X=True, fit_intercept=Tr...</td>\n",
              "      <td>0.002412</td>\n",
              "      <td>0.001694</td>\n",
              "      <td>-686.094579</td>\n",
              "      <td>-593.230397</td>\n",
              "    </tr>\n",
              "    <tr>\n",
              "      <th>12</th>\n",
              "      <td>LinearRegression(copy_X=True, fit_intercept=Tr...</td>\n",
              "      <td>0.002153</td>\n",
              "      <td>0.001581</td>\n",
              "      <td>-504.104767</td>\n",
              "      <td>-605.751240</td>\n",
              "    </tr>\n",
              "    <tr>\n",
              "      <th>13</th>\n",
              "      <td>LinearRegression(copy_X=True, fit_intercept=Tr...</td>\n",
              "      <td>0.002070</td>\n",
              "      <td>0.001667</td>\n",
              "      <td>-384.699953</td>\n",
              "      <td>-613.135399</td>\n",
              "    </tr>\n",
              "    <tr>\n",
              "      <th>14</th>\n",
              "      <td>LinearRegression(copy_X=True, fit_intercept=Tr...</td>\n",
              "      <td>0.002285</td>\n",
              "      <td>0.001762</td>\n",
              "      <td>-710.314062</td>\n",
              "      <td>-589.736344</td>\n",
              "    </tr>\n",
              "  </tbody>\n",
              "</table>\n",
              "</div>"
            ],
            "text/plain": [
              "                                            estimator  fit_time  score_time  \\\n",
              "0   LinearRegression(copy_X=True, fit_intercept=Tr...  0.004447    0.002723   \n",
              "1   LinearRegression(copy_X=True, fit_intercept=Tr...  0.002645    0.001621   \n",
              "2   LinearRegression(copy_X=True, fit_intercept=Tr...  0.002351    0.001724   \n",
              "3   LinearRegression(copy_X=True, fit_intercept=Tr...  0.002090    0.001765   \n",
              "4   LinearRegression(copy_X=True, fit_intercept=Tr...  0.002507    0.001626   \n",
              "5   LinearRegression(copy_X=True, fit_intercept=Tr...  0.002223    0.001745   \n",
              "6   LinearRegression(copy_X=True, fit_intercept=Tr...  0.002178    0.001721   \n",
              "7   LinearRegression(copy_X=True, fit_intercept=Tr...  0.002325    0.001572   \n",
              "8   LinearRegression(copy_X=True, fit_intercept=Tr...  0.002110    0.001928   \n",
              "9   LinearRegression(copy_X=True, fit_intercept=Tr...  0.002118    0.001661   \n",
              "10  LinearRegression(copy_X=True, fit_intercept=Tr...  0.002580    0.001648   \n",
              "11  LinearRegression(copy_X=True, fit_intercept=Tr...  0.002412    0.001694   \n",
              "12  LinearRegression(copy_X=True, fit_intercept=Tr...  0.002153    0.001581   \n",
              "13  LinearRegression(copy_X=True, fit_intercept=Tr...  0.002070    0.001667   \n",
              "14  LinearRegression(copy_X=True, fit_intercept=Tr...  0.002285    0.001762   \n",
              "\n",
              "    test_score  train_score  \n",
              "0  -533.107968  -603.814485  \n",
              "1  -438.415946  -609.630032  \n",
              "2  -423.191145  -611.720444  \n",
              "3  -832.305607  -583.267204  \n",
              "4  -566.649987  -599.584796  \n",
              "5  -604.787648  -597.613679  \n",
              "6  -575.883038  -599.948295  \n",
              "7  -560.949417  -603.602924  \n",
              "8  -627.176369  -595.813986  \n",
              "9  -896.932896  -583.765827  \n",
              "10 -792.317039  -584.529747  \n",
              "11 -686.094579  -593.230397  \n",
              "12 -504.104767  -605.751240  \n",
              "13 -384.699953  -613.135399  \n",
              "14 -710.314062  -589.736344  "
            ]
          },
          "metadata": {
            "tags": []
          },
          "execution_count": 23
        }
      ]
    },
    {
      "metadata": {
        "id": "R3_wAVH33u_L",
        "colab_type": "code",
        "outputId": "e96ed182-fed8-4a96-b906-f8412d40fda5",
        "colab": {
          "base_uri": "https://localhost:8080/",
          "height": 35
        }
      },
      "cell_type": "code",
      "source": [
        "scores['test_score'].mean()"
      ],
      "execution_count": 0,
      "outputs": [
        {
          "output_type": "execute_result",
          "data": {
            "text/plain": [
              "-609.1286946331886"
            ]
          },
          "metadata": {
            "tags": []
          },
          "execution_count": 25
        }
      ]
    },
    {
      "metadata": {
        "id": "NzqZ84035N7V",
        "colab_type": "code",
        "outputId": "9cabc478-61d6-407b-cb3a-cad39f536207",
        "colab": {
          "base_uri": "https://localhost:8080/",
          "height": 2867
        }
      },
      "cell_type": "code",
      "source": [
        "for i, model in enumerate(scores['estimator']):\n",
        "    coefficients = model.coef_\n",
        "    intercept = model.intercept_\n",
        "    feature_names = X_train.columns\n",
        "    \n",
        "    print('Model from cross validation fold #' + str(i))\n",
        "    print('Intercept', model.intercept_)\n",
        "    print(pd.Series(coefficients, feature_names).to_string())\n",
        "    print('\\n')"
      ],
      "execution_count": 0,
      "outputs": [
        {
          "output_type": "stream",
          "text": [
            "Model from cross validation fold #0\n",
            "Intercept 563.8022404320636\n",
            "PRCP              -3.356623\n",
            "SNOW              -0.026533\n",
            "SNWD              -9.258878\n",
            "TMAX               9.543954\n",
            "TMIN              -4.734131\n",
            "AWND              -3.088322\n",
            "Total_yesterday    0.414722\n",
            "\n",
            "\n",
            "Model from cross validation fold #1\n",
            "Intercept 646.257067718225\n",
            "PRCP              -3.356623\n",
            "SNOW              -0.026533\n",
            "SNWD              -9.258878\n",
            "TMAX               9.543954\n",
            "TMIN              -4.734131\n",
            "AWND              -3.088322\n",
            "Total_yesterday    0.414722\n",
            "\n",
            "\n",
            "Model from cross validation fold #2\n",
            "Intercept 538.3682086997196\n",
            "PRCP              -3.356623\n",
            "SNOW              -0.026533\n",
            "SNWD              -9.258878\n",
            "TMAX               9.543954\n",
            "TMIN              -4.734131\n",
            "AWND              -3.088322\n",
            "Total_yesterday    0.414722\n",
            "\n",
            "\n",
            "Model from cross validation fold #3\n",
            "Intercept 563.7625925497089\n",
            "PRCP              -3.356623\n",
            "SNOW              -0.026533\n",
            "SNWD              -9.258878\n",
            "TMAX               9.543954\n",
            "TMIN              -4.734131\n",
            "AWND              -3.088322\n",
            "Total_yesterday    0.414722\n",
            "\n",
            "\n",
            "Model from cross validation fold #4\n",
            "Intercept 553.981412859323\n",
            "PRCP              -3.356623\n",
            "SNOW              -0.026533\n",
            "SNWD              -9.258878\n",
            "TMAX               9.543954\n",
            "TMIN              -4.734131\n",
            "AWND              -3.088322\n",
            "Total_yesterday    0.414722\n",
            "\n",
            "\n",
            "Model from cross validation fold #5\n",
            "Intercept 565.5198525859835\n",
            "PRCP              -3.356623\n",
            "SNOW              -0.026533\n",
            "SNWD              -9.258878\n",
            "TMAX               9.543954\n",
            "TMIN              -4.734131\n",
            "AWND              -3.088322\n",
            "Total_yesterday    0.414722\n",
            "\n",
            "\n",
            "Model from cross validation fold #6\n",
            "Intercept 610.8579684566412\n",
            "PRCP              -3.356623\n",
            "SNOW              -0.026533\n",
            "SNWD              -9.258878\n",
            "TMAX               9.543954\n",
            "TMIN              -4.734131\n",
            "AWND              -3.088322\n",
            "Total_yesterday    0.414722\n",
            "\n",
            "\n",
            "Model from cross validation fold #7\n",
            "Intercept 580.4111256814795\n",
            "PRCP              -3.356623\n",
            "SNOW              -0.026533\n",
            "SNWD              -9.258878\n",
            "TMAX               9.543954\n",
            "TMIN              -4.734131\n",
            "AWND              -3.088322\n",
            "Total_yesterday    0.414722\n",
            "\n",
            "\n",
            "Model from cross validation fold #8\n",
            "Intercept 556.0759851031453\n",
            "PRCP              -3.356623\n",
            "SNOW              -0.026533\n",
            "SNWD              -9.258878\n",
            "TMAX               9.543954\n",
            "TMIN              -4.734131\n",
            "AWND              -3.088322\n",
            "Total_yesterday    0.414722\n",
            "\n",
            "\n",
            "Model from cross validation fold #9\n",
            "Intercept 640.329148141765\n",
            "PRCP              -3.356623\n",
            "SNOW              -0.026533\n",
            "SNWD              -9.258878\n",
            "TMAX               9.543954\n",
            "TMIN              -4.734131\n",
            "AWND              -3.088322\n",
            "Total_yesterday    0.414722\n",
            "\n",
            "\n",
            "Model from cross validation fold #10\n",
            "Intercept 526.6189975968791\n",
            "PRCP              -3.356623\n",
            "SNOW              -0.026533\n",
            "SNWD              -9.258878\n",
            "TMAX               9.543954\n",
            "TMIN              -4.734131\n",
            "AWND              -3.088322\n",
            "Total_yesterday    0.414722\n",
            "\n",
            "\n",
            "Model from cross validation fold #11\n",
            "Intercept 541.8283197506212\n",
            "PRCP              -3.356623\n",
            "SNOW              -0.026533\n",
            "SNWD              -9.258878\n",
            "TMAX               9.543954\n",
            "TMIN              -4.734131\n",
            "AWND              -3.088322\n",
            "Total_yesterday    0.414722\n",
            "\n",
            "\n",
            "Model from cross validation fold #12\n",
            "Intercept 583.7891918995147\n",
            "PRCP              -3.356623\n",
            "SNOW              -0.026533\n",
            "SNWD              -9.258878\n",
            "TMAX               9.543954\n",
            "TMIN              -4.734131\n",
            "AWND              -3.088322\n",
            "Total_yesterday    0.414722\n",
            "\n",
            "\n",
            "Model from cross validation fold #13\n",
            "Intercept 561.9516142602627\n",
            "PRCP              -3.356623\n",
            "SNOW              -0.026533\n",
            "SNWD              -9.258878\n",
            "TMAX               9.543954\n",
            "TMIN              -4.734131\n",
            "AWND              -3.088322\n",
            "Total_yesterday    0.414722\n",
            "\n",
            "\n",
            "Model from cross validation fold #14\n",
            "Intercept 561.9691979742074\n",
            "PRCP              -3.356623\n",
            "SNOW              -0.026533\n",
            "SNWD              -9.258878\n",
            "TMAX               9.543954\n",
            "TMIN              -4.734131\n",
            "AWND              -3.088322\n",
            "Total_yesterday    0.414722\n",
            "\n",
            "\n"
          ],
          "name": "stdout"
        }
      ]
    },
    {
      "metadata": {
        "id": "ZuG_haw76WPL",
        "colab_type": "code",
        "outputId": "89a86510-d25b-429c-e3d7-28a9fe079ad5",
        "colab": {
          "base_uri": "https://localhost:8080/",
          "height": 587
        }
      },
      "cell_type": "code",
      "source": [
        "import statsmodels.api as sm\n",
        "model = sm.OLS(y_train, sm.add_constant(X_train))\n",
        "print(model.fit().summary())"
      ],
      "execution_count": 0,
      "outputs": [
        {
          "output_type": "stream",
          "text": [
            "                            OLS Regression Results                            \n",
            "==============================================================================\n",
            "Dep. Variable:                  Total   R-squared:                       0.628\n",
            "Model:                            OLS   Adj. R-squared:                  0.625\n",
            "Method:                 Least Squares   F-statistic:                     230.2\n",
            "Date:                Wed, 30 Jan 2019   Prob (F-statistic):          4.80e-200\n",
            "Time:                        18:00:12   Log-Likelihood:                -7736.8\n",
            "No. Observations:                 963   AIC:                         1.549e+04\n",
            "Df Residuals:                     955   BIC:                         1.553e+04\n",
            "Df Model:                           7                                         \n",
            "Covariance Type:            nonrobust                                         \n",
            "===================================================================================\n",
            "                      coef    std err          t      P>|t|      [0.025      0.975]\n",
            "-----------------------------------------------------------------------------------\n",
            "const             571.7691     93.165      6.137      0.000     388.937     754.601\n",
            "PRCP               -3.0616      0.396     -7.726      0.000      -3.839      -2.284\n",
            "SNOW               -0.0271      0.038     -0.721      0.471      -0.101       0.047\n",
            "SNWD               -9.1379      8.974     -1.018      0.309     -26.748       8.472\n",
            "TMAX                9.4823      0.774     12.258      0.000       7.964      11.000\n",
            "TMIN               -4.6742      1.026     -4.555      0.000      -6.688      -2.660\n",
            "AWND               -3.7006      1.747     -2.119      0.034      -7.128      -0.273\n",
            "Total_yesterday     0.4165      0.025     16.460      0.000       0.367       0.466\n",
            "==============================================================================\n",
            "Omnibus:                        6.601   Durbin-Watson:                   1.571\n",
            "Prob(Omnibus):                  0.037   Jarque-Bera (JB):                6.648\n",
            "Skew:                          -0.187   Prob(JB):                       0.0360\n",
            "Kurtosis:                       2.841   Cond. No.                     1.09e+04\n",
            "==============================================================================\n",
            "\n",
            "Warnings:\n",
            "[1] Standard Errors assume that the covariance matrix of the errors is correctly specified.\n",
            "[2] The condition number is large, 1.09e+04. This might indicate that there are\n",
            "strong multicollinearity or other numerical problems.\n"
          ],
          "name": "stdout"
        }
      ]
    },
    {
      "metadata": {
        "id": "fg1YI4X8n9nI",
        "colab_type": "text"
      },
      "cell_type": "markdown",
      "source": [
        "## 5. Develop a model that overfits. \n",
        "\n",
        "\"The universal tension in machine learning is between optimization and generalization; the ideal model is one that stands right at the border between underfitting and overfitting; between undercapacity and overcapacity. To figure out where this border lies, first you must cross it.\" —Chollet"
      ]
    },
    {
      "metadata": {
        "id": "lodd6UPOoy89",
        "colab_type": "text"
      },
      "cell_type": "markdown",
      "source": [
        "<img src=\"https://jakevdp.github.io/PythonDataScienceHandbook/figures/05.03-validation-curve.png\">\n",
        "\n",
        "Diagram source: https://jakevdp.github.io/PythonDataScienceHandbook/05.03-hyperparameters-and-model-validation.html#Validation-curves-in-Scikit-Learn"
      ]
    },
    {
      "metadata": {
        "id": "FrmQ3RM0w2JE",
        "colab_type": "text"
      },
      "cell_type": "markdown",
      "source": [
        "### Polynomial Regression?"
      ]
    },
    {
      "metadata": {
        "id": "uctwo0X3pTw5",
        "colab_type": "code",
        "colab": {}
      },
      "cell_type": "code",
      "source": [
        "# Copied from cell 10 at\n",
        "# https://jakevdp.github.io/PythonDataScienceHandbook/05.03-hyperparameters-and-model-validation.html#Validation-curves-in-Scikit-Learn\n",
        "\n",
        "from sklearn.preprocessing import PolynomialFeatures\n",
        "from sklearn.linear_model import LinearRegression\n",
        "from sklearn.pipeline import make_pipeline\n",
        "\n",
        "def PolynomialRegression(degree=2, **kwargs):\n",
        "    return make_pipeline(PolynomialFeatures(degree),\n",
        "                         LinearRegression(**kwargs))"
      ],
      "execution_count": 0,
      "outputs": []
    },
    {
      "metadata": {
        "id": "wvY4HOXVw7Mj",
        "colab_type": "code",
        "outputId": "2cc40b1f-2f31-4349-e41a-5585ae649f36",
        "colab": {
          "base_uri": "https://localhost:8080/",
          "height": 314
        }
      },
      "cell_type": "code",
      "source": [
        "for degree in [0, 1, 2, 3]:\n",
        "    features = PolynomialFeatures(degree).fit(X_train).get_feature_names(X_train.columns)\n",
        "    print(f'{degree} degree polynomial has {len(features)} features')\n",
        "    print(features)\n",
        "    print('\\n')"
      ],
      "execution_count": 0,
      "outputs": [
        {
          "output_type": "stream",
          "text": [
            "0 degree polynomial has 1 features\n",
            "['1']\n",
            "\n",
            "\n",
            "1 degree polynomial has 8 features\n",
            "['1', 'PRCP', 'SNOW', 'SNWD', 'TMAX', 'TMIN', 'AWND', 'Total_yesterday']\n",
            "\n",
            "\n",
            "2 degree polynomial has 36 features\n",
            "['1', 'PRCP', 'SNOW', 'SNWD', 'TMAX', 'TMIN', 'AWND', 'Total_yesterday', 'PRCP^2', 'PRCP SNOW', 'PRCP SNWD', 'PRCP TMAX', 'PRCP TMIN', 'PRCP AWND', 'PRCP Total_yesterday', 'SNOW^2', 'SNOW SNWD', 'SNOW TMAX', 'SNOW TMIN', 'SNOW AWND', 'SNOW Total_yesterday', 'SNWD^2', 'SNWD TMAX', 'SNWD TMIN', 'SNWD AWND', 'SNWD Total_yesterday', 'TMAX^2', 'TMAX TMIN', 'TMAX AWND', 'TMAX Total_yesterday', 'TMIN^2', 'TMIN AWND', 'TMIN Total_yesterday', 'AWND^2', 'AWND Total_yesterday', 'Total_yesterday^2']\n",
            "\n",
            "\n",
            "3 degree polynomial has 120 features\n",
            "['1', 'PRCP', 'SNOW', 'SNWD', 'TMAX', 'TMIN', 'AWND', 'Total_yesterday', 'PRCP^2', 'PRCP SNOW', 'PRCP SNWD', 'PRCP TMAX', 'PRCP TMIN', 'PRCP AWND', 'PRCP Total_yesterday', 'SNOW^2', 'SNOW SNWD', 'SNOW TMAX', 'SNOW TMIN', 'SNOW AWND', 'SNOW Total_yesterday', 'SNWD^2', 'SNWD TMAX', 'SNWD TMIN', 'SNWD AWND', 'SNWD Total_yesterday', 'TMAX^2', 'TMAX TMIN', 'TMAX AWND', 'TMAX Total_yesterday', 'TMIN^2', 'TMIN AWND', 'TMIN Total_yesterday', 'AWND^2', 'AWND Total_yesterday', 'Total_yesterday^2', 'PRCP^3', 'PRCP^2 SNOW', 'PRCP^2 SNWD', 'PRCP^2 TMAX', 'PRCP^2 TMIN', 'PRCP^2 AWND', 'PRCP^2 Total_yesterday', 'PRCP SNOW^2', 'PRCP SNOW SNWD', 'PRCP SNOW TMAX', 'PRCP SNOW TMIN', 'PRCP SNOW AWND', 'PRCP SNOW Total_yesterday', 'PRCP SNWD^2', 'PRCP SNWD TMAX', 'PRCP SNWD TMIN', 'PRCP SNWD AWND', 'PRCP SNWD Total_yesterday', 'PRCP TMAX^2', 'PRCP TMAX TMIN', 'PRCP TMAX AWND', 'PRCP TMAX Total_yesterday', 'PRCP TMIN^2', 'PRCP TMIN AWND', 'PRCP TMIN Total_yesterday', 'PRCP AWND^2', 'PRCP AWND Total_yesterday', 'PRCP Total_yesterday^2', 'SNOW^3', 'SNOW^2 SNWD', 'SNOW^2 TMAX', 'SNOW^2 TMIN', 'SNOW^2 AWND', 'SNOW^2 Total_yesterday', 'SNOW SNWD^2', 'SNOW SNWD TMAX', 'SNOW SNWD TMIN', 'SNOW SNWD AWND', 'SNOW SNWD Total_yesterday', 'SNOW TMAX^2', 'SNOW TMAX TMIN', 'SNOW TMAX AWND', 'SNOW TMAX Total_yesterday', 'SNOW TMIN^2', 'SNOW TMIN AWND', 'SNOW TMIN Total_yesterday', 'SNOW AWND^2', 'SNOW AWND Total_yesterday', 'SNOW Total_yesterday^2', 'SNWD^3', 'SNWD^2 TMAX', 'SNWD^2 TMIN', 'SNWD^2 AWND', 'SNWD^2 Total_yesterday', 'SNWD TMAX^2', 'SNWD TMAX TMIN', 'SNWD TMAX AWND', 'SNWD TMAX Total_yesterday', 'SNWD TMIN^2', 'SNWD TMIN AWND', 'SNWD TMIN Total_yesterday', 'SNWD AWND^2', 'SNWD AWND Total_yesterday', 'SNWD Total_yesterday^2', 'TMAX^3', 'TMAX^2 TMIN', 'TMAX^2 AWND', 'TMAX^2 Total_yesterday', 'TMAX TMIN^2', 'TMAX TMIN AWND', 'TMAX TMIN Total_yesterday', 'TMAX AWND^2', 'TMAX AWND Total_yesterday', 'TMAX Total_yesterday^2', 'TMIN^3', 'TMIN^2 AWND', 'TMIN^2 Total_yesterday', 'TMIN AWND^2', 'TMIN AWND Total_yesterday', 'TMIN Total_yesterday^2', 'AWND^3', 'AWND^2 Total_yesterday', 'AWND Total_yesterday^2', 'Total_yesterday^3']\n",
            "\n",
            "\n"
          ],
          "name": "stdout"
        }
      ]
    },
    {
      "metadata": {
        "id": "XEUdG9-ktHoa",
        "colab_type": "text"
      },
      "cell_type": "markdown",
      "source": [
        "### Validation curve (with Polynomial Regression)"
      ]
    },
    {
      "metadata": {
        "id": "_ryO1hVKr-6f",
        "colab_type": "text"
      },
      "cell_type": "markdown",
      "source": [
        "https://scikit-learn.org/stable/modules/generated/sklearn.model_selection.validation_curve.html\n",
        "\n",
        "> Validation curve. Determine training and test scores for varying parameter values. This is similar to grid search with one parameter."
      ]
    },
    {
      "metadata": {
        "id": "znJgKqPcqBh-",
        "colab_type": "code",
        "outputId": "5f91aa28-515f-449f-a93a-5c094a20ccf2",
        "colab": {
          "base_uri": "https://localhost:8080/",
          "height": 279
        }
      },
      "cell_type": "code",
      "source": [
        "# Modified from cell 13 at\n",
        "# https://jakevdp.github.io/PythonDataScienceHandbook/05.03-hyperparameters-and-model-validation.html#Validation-curves-in-Scikit-Learn\n",
        "\n",
        "%matplotlib inline\n",
        "import matplotlib.pyplot as plt\n",
        "from sklearn.model_selection import validation_curve\n",
        "\n",
        "degree = [0, 1, 2]\n",
        "train_score, val_score = validation_curve(\n",
        "    PolynomialRegression(), X_train, y_train,\n",
        "    param_name='polynomialfeatures__degree', param_range=degree, \n",
        "    scoring='neg_mean_absolute_error', cv=3)\n",
        "\n",
        "plt.plot(degree, np.median(train_score, 1), color='blue', label='training score')\n",
        "plt.plot(degree, np.median(val_score, 1), color='red', label='validation score')\n",
        "plt.legend(loc='best')\n",
        "plt.xlabel('degree');"
      ],
      "execution_count": 0,
      "outputs": [
        {
          "output_type": "display_data",
          "data": {
            "image/png": "[encoded data removed]",
            "text/plain": [
              "<Figure size 432x288 with 1 Axes>"
            ]
          },
          "metadata": {
            "tags": []
          }
        }
      ]
    },
    {
      "metadata": {
        "id": "HUdGHWhvtVnV",
        "colab_type": "text"
      },
      "cell_type": "markdown",
      "source": [
        "### Grid Search (with Polynomial Regression)\n",
        "\n",
        "https://scikit-learn.org/stable/modules/generated/sklearn.model_selection.GridSearchCV.html\n",
        "\n",
        "https://scikit-learn.org/stable/modules/grid_search.html"
      ]
    },
    {
      "metadata": {
        "id": "GziXyq8Is6dL",
        "colab_type": "code",
        "outputId": "b7e549fa-6287-4605-c308-22311eaf3c9b",
        "colab": {
          "base_uri": "https://localhost:8080/",
          "height": 797
        }
      },
      "cell_type": "code",
      "source": [
        "from sklearn.model_selection import GridSearchCV\n",
        "\n",
        "param_grid = {\n",
        "    'polynomialfeatures__degree': [0, 1, 2, 3]\n",
        "}\n",
        "\n",
        "gridsearch = GridSearchCV(PolynomialRegression(), param_grid=param_grid, \n",
        "                          scoring='neg_mean_absolute_error', cv=3, \n",
        "                          return_train_score=True, verbose=10)\n",
        "\n",
        "gridsearch.fit(X_train, y_train)"
      ],
      "execution_count": 0,
      "outputs": [
        {
          "output_type": "stream",
          "text": [
            "Fitting 3 folds for each of 4 candidates, totalling 12 fits\n",
            "[CV] polynomialfeatures__degree=0 ....................................\n",
            "[CV]  polynomialfeatures__degree=0, score=-1026.3529857047195, total=   0.0s\n",
            "[CV] polynomialfeatures__degree=0 ....................................\n",
            "[CV]  polynomialfeatures__degree=0, score=-1001.6149251268913, total=   0.0s\n",
            "[CV] polynomialfeatures__degree=0 ....................................\n",
            "[CV]  polynomialfeatures__degree=0, score=-927.0707048650538, total=   0.0s\n",
            "[CV] polynomialfeatures__degree=1 ....................................\n",
            "[CV]  polynomialfeatures__degree=1, score=-555.1862745374103, total=   0.0s\n",
            "[CV] polynomialfeatures__degree=1 ....................................\n",
            "[CV]  polynomialfeatures__degree=1, score=-651.1265132746228, total=   0.0s\n",
            "[CV] polynomialfeatures__degree=1 ....................................\n",
            "[CV]  polynomialfeatures__degree=1, score=-615.9657997775082, total=   0.0s\n",
            "[CV] polynomialfeatures__degree=2 ....................................\n",
            "[CV]  polynomialfeatures__degree=2, score=-7553.67367810515, total=   0.0s\n",
            "[CV] polynomialfeatures__degree=2 ....................................\n",
            "[CV]  polynomialfeatures__degree=2, score=-1439.191570208428, total=   0.0s\n",
            "[CV] polynomialfeatures__degree=2 ....................................\n",
            "[CV]  polynomialfeatures__degree=2, score=-644.1228337571547, total=   0.0s\n",
            "[CV] polynomialfeatures__degree=3 ....................................\n",
            "[CV]  polynomialfeatures__degree=3, score=-2487.2087241103723, total=   0.0s\n",
            "[CV] polynomialfeatures__degree=3 ....................................\n"
          ],
          "name": "stdout"
        },
        {
          "output_type": "stream",
          "text": [
            "[Parallel(n_jobs=1)]: Using backend SequentialBackend with 1 concurrent workers.\n",
            "[Parallel(n_jobs=1)]: Done   1 out of   1 | elapsed:    0.0s remaining:    0.0s\n",
            "[Parallel(n_jobs=1)]: Done   2 out of   2 | elapsed:    0.0s remaining:    0.0s\n",
            "[Parallel(n_jobs=1)]: Done   3 out of   3 | elapsed:    0.0s remaining:    0.0s\n",
            "[Parallel(n_jobs=1)]: Done   4 out of   4 | elapsed:    0.0s remaining:    0.0s\n",
            "[Parallel(n_jobs=1)]: Done   5 out of   5 | elapsed:    0.0s remaining:    0.0s\n",
            "[Parallel(n_jobs=1)]: Done   6 out of   6 | elapsed:    0.1s remaining:    0.0s\n",
            "[Parallel(n_jobs=1)]: Done   7 out of   7 | elapsed:    0.1s remaining:    0.0s\n",
            "[Parallel(n_jobs=1)]: Done   8 out of   8 | elapsed:    0.1s remaining:    0.0s\n",
            "[Parallel(n_jobs=1)]: Done   9 out of   9 | elapsed:    0.1s remaining:    0.0s\n"
          ],
          "name": "stderr"
        },
        {
          "output_type": "stream",
          "text": [
            "[CV]  polynomialfeatures__degree=3, score=-97950.22398935535, total=   0.0s\n",
            "[CV] polynomialfeatures__degree=3 ....................................\n",
            "[CV]  polynomialfeatures__degree=3, score=-1835.2490429251202, total=   0.0s\n"
          ],
          "name": "stdout"
        },
        {
          "output_type": "stream",
          "text": [
            "[Parallel(n_jobs=1)]: Done  12 out of  12 | elapsed:    0.2s finished\n"
          ],
          "name": "stderr"
        },
        {
          "output_type": "execute_result",
          "data": {
            "text/plain": [
              "GridSearchCV(cv=3, error_score='raise-deprecating',\n",
              "       estimator=Pipeline(memory=None,\n",
              "     steps=[('polynomialfeatures', PolynomialFeatures(degree=2, include_bias=True, interaction_only=False)), ('linearregression', LinearRegression(copy_X=True, fit_intercept=True, n_jobs=None,\n",
              "         normalize=False))]),\n",
              "       fit_params=None, iid='warn', n_jobs=None,\n",
              "       param_grid={'polynomialfeatures__degree': [0, 1, 2, 3]},\n",
              "       pre_dispatch='2*n_jobs', refit=True, return_train_score=True,\n",
              "       scoring='neg_mean_absolute_error', verbose=10)"
            ]
          },
          "metadata": {
            "tags": []
          },
          "execution_count": 35
        }
      ]
    },
    {
      "metadata": {
        "id": "P6lhZNRFC6Ml",
        "colab_type": "code",
        "outputId": "9b1bc9f0-420d-46ba-ee20-9146eb4a24e2",
        "colab": {
          "base_uri": "https://localhost:8080/",
          "height": 257
        }
      },
      "cell_type": "code",
      "source": [
        "pd.DataFrame(gridsearch.cv_results_).sort_values(by='rank_test_score')"
      ],
      "execution_count": 0,
      "outputs": [
        {
          "output_type": "execute_result",
          "data": {
            "text/html": [
              "<div>\n",
              "<style scoped>\n",
              "    .dataframe tbody tr th:only-of-type {\n",
              "        vertical-align: middle;\n",
              "    }\n",
              "\n",
              "    .dataframe tbody tr th {\n",
              "        vertical-align: top;\n",
              "    }\n",
              "\n",
              "    .dataframe thead th {\n",
              "        text-align: right;\n",
              "    }\n",
              "</style>\n",
              "<table border=\"1\" class=\"dataframe\">\n",
              "  <thead>\n",
              "    <tr style=\"text-align: right;\">\n",
              "      <th></th>\n",
              "      <th>mean_fit_time</th>\n",
              "      <th>mean_score_time</th>\n",
              "      <th>mean_test_score</th>\n",
              "      <th>mean_train_score</th>\n",
              "      <th>param_polynomialfeatures__degree</th>\n",
              "      <th>params</th>\n",
              "      <th>rank_test_score</th>\n",
              "      <th>split0_test_score</th>\n",
              "      <th>split0_train_score</th>\n",
              "      <th>split1_test_score</th>\n",
              "      <th>split1_train_score</th>\n",
              "      <th>split2_test_score</th>\n",
              "      <th>split2_train_score</th>\n",
              "      <th>std_fit_time</th>\n",
              "      <th>std_score_time</th>\n",
              "      <th>std_test_score</th>\n",
              "      <th>std_train_score</th>\n",
              "    </tr>\n",
              "  </thead>\n",
              "  <tbody>\n",
              "    <tr>\n",
              "      <th>1</th>\n",
              "      <td>0.004263</td>\n",
              "      <td>0.002005</td>\n",
              "      <td>-607.426196</td>\n",
              "      <td>-597.426070</td>\n",
              "      <td>1</td>\n",
              "      <td>{'polynomialfeatures__degree': 1}</td>\n",
              "      <td>1</td>\n",
              "      <td>-555.186275</td>\n",
              "      <td>-619.509206</td>\n",
              "      <td>-651.126513</td>\n",
              "      <td>-583.427702</td>\n",
              "      <td>-615.965800</td>\n",
              "      <td>-589.341301</td>\n",
              "      <td>0.000706</td>\n",
              "      <td>0.000122</td>\n",
              "      <td>39.630174</td>\n",
              "      <td>15.800661</td>\n",
              "    </tr>\n",
              "    <tr>\n",
              "      <th>0</th>\n",
              "      <td>0.003499</td>\n",
              "      <td>0.001780</td>\n",
              "      <td>-985.012872</td>\n",
              "      <td>-979.844161</td>\n",
              "      <td>0</td>\n",
              "      <td>{'polynomialfeatures__degree': 0}</td>\n",
              "      <td>2</td>\n",
              "      <td>-1026.352986</td>\n",
              "      <td>-968.880368</td>\n",
              "      <td>-1001.614925</td>\n",
              "      <td>-970.755413</td>\n",
              "      <td>-927.070705</td>\n",
              "      <td>-999.896701</td>\n",
              "      <td>0.000402</td>\n",
              "      <td>0.000225</td>\n",
              "      <td>42.197661</td>\n",
              "      <td>14.199935</td>\n",
              "    </tr>\n",
              "    <tr>\n",
              "      <th>2</th>\n",
              "      <td>0.008993</td>\n",
              "      <td>0.005752</td>\n",
              "      <td>-3212.329361</td>\n",
              "      <td>-576.333816</td>\n",
              "      <td>2</td>\n",
              "      <td>{'polynomialfeatures__degree': 2}</td>\n",
              "      <td>3</td>\n",
              "      <td>-7553.673678</td>\n",
              "      <td>-595.089615</td>\n",
              "      <td>-1439.191570</td>\n",
              "      <td>-568.150803</td>\n",
              "      <td>-644.122834</td>\n",
              "      <td>-565.761032</td>\n",
              "      <td>0.002682</td>\n",
              "      <td>0.000842</td>\n",
              "      <td>3086.906373</td>\n",
              "      <td>13.298189</td>\n",
              "    </tr>\n",
              "    <tr>\n",
              "      <th>3</th>\n",
              "      <td>0.022266</td>\n",
              "      <td>0.005464</td>\n",
              "      <td>-34090.893919</td>\n",
              "      <td>-601.797899</td>\n",
              "      <td>3</td>\n",
              "      <td>{'polynomialfeatures__degree': 3}</td>\n",
              "      <td>4</td>\n",
              "      <td>-2487.208724</td>\n",
              "      <td>-565.787908</td>\n",
              "      <td>-97950.223989</td>\n",
              "      <td>-663.520180</td>\n",
              "      <td>-1835.249043</td>\n",
              "      <td>-576.085609</td>\n",
              "      <td>0.006796</td>\n",
              "      <td>0.001496</td>\n",
              "      <td>45156.149752</td>\n",
              "      <td>43.846251</td>\n",
              "    </tr>\n",
              "  </tbody>\n",
              "</table>\n",
              "</div>"
            ],
            "text/plain": [
              "   mean_fit_time  mean_score_time  mean_test_score  mean_train_score  \\\n",
              "1       0.004263         0.002005      -607.426196       -597.426070   \n",
              "0       0.003499         0.001780      -985.012872       -979.844161   \n",
              "2       0.008993         0.005752     -3212.329361       -576.333816   \n",
              "3       0.022266         0.005464    -34090.893919       -601.797899   \n",
              "\n",
              "  param_polynomialfeatures__degree                             params  \\\n",
              "1                                1  {'polynomialfeatures__degree': 1}   \n",
              "0                                0  {'polynomialfeatures__degree': 0}   \n",
              "2                                2  {'polynomialfeatures__degree': 2}   \n",
              "3                                3  {'polynomialfeatures__degree': 3}   \n",
              "\n",
              "   rank_test_score  split0_test_score  split0_train_score  split1_test_score  \\\n",
              "1                1        -555.186275         -619.509206        -651.126513   \n",
              "0                2       -1026.352986         -968.880368       -1001.614925   \n",
              "2                3       -7553.673678         -595.089615       -1439.191570   \n",
              "3                4       -2487.208724         -565.787908      -97950.223989   \n",
              "\n",
              "   split1_train_score  split2_test_score  split2_train_score  std_fit_time  \\\n",
              "1         -583.427702        -615.965800         -589.341301      0.000706   \n",
              "0         -970.755413        -927.070705         -999.896701      0.000402   \n",
              "2         -568.150803        -644.122834         -565.761032      0.002682   \n",
              "3         -663.520180       -1835.249043         -576.085609      0.006796   \n",
              "\n",
              "   std_score_time  std_test_score  std_train_score  \n",
              "1        0.000122       39.630174        15.800661  \n",
              "0        0.000225       42.197661        14.199935  \n",
              "2        0.000842     3086.906373        13.298189  \n",
              "3        0.001496    45156.149752        43.846251  "
            ]
          },
          "metadata": {
            "tags": []
          },
          "execution_count": 37
        }
      ]
    },
    {
      "metadata": {
        "id": "YmjCck_MC6Ew",
        "colab_type": "code",
        "colab": {}
      },
      "cell_type": "code",
      "source": [
        ""
      ],
      "execution_count": 0,
      "outputs": []
    },
    {
      "metadata": {
        "id": "xj82P0VdwYlh",
        "colab_type": "text"
      },
      "cell_type": "markdown",
      "source": [
        "### Random Forest?\n",
        "\n",
        "https://scikit-learn.org/stable/modules/generated/sklearn.ensemble.RandomForestRegressor.html"
      ]
    },
    {
      "metadata": {
        "id": "_nFDFK-8DRuj",
        "colab_type": "code",
        "outputId": "b24e249b-802f-42cc-f694-6b43ab4bdd92",
        "colab": {
          "base_uri": "https://localhost:8080/",
          "height": 138
        }
      },
      "cell_type": "code",
      "source": [
        "from sklearn.ensemble import RandomForestRegressor\n",
        "\n",
        "model = RandomForestRegressor(n_estimators=100, max_depth=20)\n",
        "\n",
        "scores = cross_validate(model, X_train, y_train,\n",
        "                        scoring='neg_mean_absolute_error',\n",
        "                        cv=3, return_train_score=True,\n",
        "                        return_estimator=True)\n",
        "\n",
        "pd.DataFrame(scores)"
      ],
      "execution_count": 0,
      "outputs": [
        {
          "output_type": "execute_result",
          "data": {
            "text/html": [
              "<div>\n",
              "<style scoped>\n",
              "    .dataframe tbody tr th:only-of-type {\n",
              "        vertical-align: middle;\n",
              "    }\n",
              "\n",
              "    .dataframe tbody tr th {\n",
              "        vertical-align: top;\n",
              "    }\n",
              "\n",
              "    .dataframe thead th {\n",
              "        text-align: right;\n",
              "    }\n",
              "</style>\n",
              "<table border=\"1\" class=\"dataframe\">\n",
              "  <thead>\n",
              "    <tr style=\"text-align: right;\">\n",
              "      <th></th>\n",
              "      <th>estimator</th>\n",
              "      <th>fit_time</th>\n",
              "      <th>score_time</th>\n",
              "      <th>test_score</th>\n",
              "      <th>train_score</th>\n",
              "    </tr>\n",
              "  </thead>\n",
              "  <tbody>\n",
              "    <tr>\n",
              "      <th>0</th>\n",
              "      <td>(DecisionTreeRegressor(criterion='mse', max_de...</td>\n",
              "      <td>0.216298</td>\n",
              "      <td>0.011801</td>\n",
              "      <td>-551.268645</td>\n",
              "      <td>-243.276884</td>\n",
              "    </tr>\n",
              "    <tr>\n",
              "      <th>1</th>\n",
              "      <td>(DecisionTreeRegressor(criterion='mse', max_de...</td>\n",
              "      <td>0.207573</td>\n",
              "      <td>0.012058</td>\n",
              "      <td>-645.087693</td>\n",
              "      <td>-221.819847</td>\n",
              "    </tr>\n",
              "    <tr>\n",
              "      <th>2</th>\n",
              "      <td>(DecisionTreeRegressor(criterion='mse', max_de...</td>\n",
              "      <td>0.209809</td>\n",
              "      <td>0.011868</td>\n",
              "      <td>-637.019973</td>\n",
              "      <td>-225.989505</td>\n",
              "    </tr>\n",
              "  </tbody>\n",
              "</table>\n",
              "</div>"
            ],
            "text/plain": [
              "                                           estimator  fit_time  score_time  \\\n",
              "0  (DecisionTreeRegressor(criterion='mse', max_de...  0.216298    0.011801   \n",
              "1  (DecisionTreeRegressor(criterion='mse', max_de...  0.207573    0.012058   \n",
              "2  (DecisionTreeRegressor(criterion='mse', max_de...  0.209809    0.011868   \n",
              "\n",
              "   test_score  train_score  \n",
              "0 -551.268645  -243.276884  \n",
              "1 -645.087693  -221.819847  \n",
              "2 -637.019973  -225.989505  "
            ]
          },
          "metadata": {
            "tags": []
          },
          "execution_count": 50
        }
      ]
    },
    {
      "metadata": {
        "id": "n_r_BxtlEHvb",
        "colab_type": "code",
        "outputId": "17b0449c-9ae3-4a5a-bcb6-02af0ec076ba",
        "colab": {
          "base_uri": "https://localhost:8080/",
          "height": 35
        }
      },
      "cell_type": "code",
      "source": [
        "scores['test_score'].mean()"
      ],
      "execution_count": 0,
      "outputs": [
        {
          "output_type": "execute_result",
          "data": {
            "text/plain": [
              "-611.1254368683122"
            ]
          },
          "metadata": {
            "tags": []
          },
          "execution_count": 51
        }
      ]
    },
    {
      "metadata": {
        "id": "_yYXpk99C4cM",
        "colab_type": "code",
        "colab": {}
      },
      "cell_type": "code",
      "source": [
        ""
      ],
      "execution_count": 0,
      "outputs": []
    },
    {
      "metadata": {
        "id": "vofwgIpSweEb",
        "colab_type": "text"
      },
      "cell_type": "markdown",
      "source": [
        "### Validation Curve (with Random Forest)"
      ]
    },
    {
      "metadata": {
        "id": "apKk4vKiwgtM",
        "colab_type": "code",
        "outputId": "5d9504db-82a9-4875-ab70-9a1f279a9bd6",
        "colab": {
          "base_uri": "https://localhost:8080/",
          "height": 279
        }
      },
      "cell_type": "code",
      "source": [
        "# Modified from cell 13 at\n",
        "# https://jakevdp.github.io/PythonDataScienceHandbook/05.03-hyperparameters-and-model-validation.html#Validation-curves-in-Scikit-Learn\n",
        "\n",
        "%matplotlib inline\n",
        "import matplotlib.pyplot as plt\n",
        "from sklearn.model_selection import validation_curve\n",
        "\n",
        "model = RandomForestRegressor(n_estimators=100)\n",
        "\n",
        "depth = [2, 3, 4, 5, 6]\n",
        "train_score, val_score = validation_curve(\n",
        "    model, X_train, y_train,\n",
        "    param_name='max_depth', param_range=depth, \n",
        "    scoring='neg_mean_absolute_error', cv=3)\n",
        "\n",
        "plt.plot(depth, np.median(train_score, 1), color='blue', label='training score')\n",
        "plt.plot(depth, np.median(val_score, 1), color='red', label='validation score')\n",
        "plt.legend(loc='best')\n",
        "plt.xlabel('depth');"
      ],
      "execution_count": 0,
      "outputs": [
        {
          "output_type": "display_data",
          "data": {
            "image/png": "[encoded data removed]",
            "text/plain": [
              "<Figure size 432x288 with 1 Axes>"
            ]
          },
          "metadata": {
            "tags": []
          }
        }
      ]
    },
    {
      "metadata": {
        "id": "DQoMvZ7-yCAQ",
        "colab_type": "text"
      },
      "cell_type": "markdown",
      "source": [
        "### Grid Search (with Random Forest)"
      ]
    },
    {
      "metadata": {
        "id": "bk_dX_mByKm7",
        "colab_type": "code",
        "outputId": "8168402a-37e0-483a-dd7b-7be3ac14c067",
        "colab": {
          "base_uri": "https://localhost:8080/",
          "height": 2746
        }
      },
      "cell_type": "code",
      "source": [
        "%%time\n",
        "param_grid = {\n",
        "    'n_estimators': [100,200],\n",
        "    'max_depth': [4,5],\n",
        "    'criterion': ['mse', 'mae'],\n",
        "    'max_features': ['auto', 'sqrt', 'log2']\n",
        "}\n",
        "\n",
        "gridsearch = GridSearchCV(RandomForestRegressor(), param_grid=param_grid, \n",
        "                          scoring='neg_mean_absolute_error', cv=3, \n",
        "                          return_train_score=True, verbose=10)\n",
        "\n",
        "gridsearch.fit(X_train, y_train)"
      ],
      "execution_count": 0,
      "outputs": [
        {
          "output_type": "stream",
          "text": [
            "Fitting 3 folds for each of 24 candidates, totalling 72 fits\n",
            "[CV] criterion=mse, max_depth=4, max_features=auto, n_estimators=100 .\n",
            "[CV]  criterion=mse, max_depth=4, max_features=auto, n_estimators=100, score=-553.5518443553931, total=   0.1s\n",
            "[CV] criterion=mse, max_depth=4, max_features=auto, n_estimators=100 .\n"
          ],
          "name": "stdout"
        },
        {
          "output_type": "stream",
          "text": [
            "[Parallel(n_jobs=1)]: Using backend SequentialBackend with 1 concurrent workers.\n",
            "[Parallel(n_jobs=1)]: Done   1 out of   1 | elapsed:    0.1s remaining:    0.0s\n"
          ],
          "name": "stderr"
        },
        {
          "output_type": "stream",
          "text": [
            "[CV]  criterion=mse, max_depth=4, max_features=auto, n_estimators=100, score=-643.0764370503032, total=   0.1s\n",
            "[CV] criterion=mse, max_depth=4, max_features=auto, n_estimators=100 .\n",
            "[CV]  criterion=mse, max_depth=4, max_features=auto, n_estimators=100, score=-622.4578739267783, total=   0.1s\n",
            "[CV] criterion=mse, max_depth=4, max_features=auto, n_estimators=200 .\n"
          ],
          "name": "stdout"
        },
        {
          "output_type": "stream",
          "text": [
            "[Parallel(n_jobs=1)]: Done   2 out of   2 | elapsed:    0.3s remaining:    0.0s\n",
            "[Parallel(n_jobs=1)]: Done   3 out of   3 | elapsed:    0.4s remaining:    0.0s\n"
          ],
          "name": "stderr"
        },
        {
          "output_type": "stream",
          "text": [
            "[CV]  criterion=mse, max_depth=4, max_features=auto, n_estimators=200, score=-551.6699891347926, total=   0.2s\n",
            "[CV] criterion=mse, max_depth=4, max_features=auto, n_estimators=200 .\n"
          ],
          "name": "stdout"
        },
        {
          "output_type": "stream",
          "text": [
            "[Parallel(n_jobs=1)]: Done   4 out of   4 | elapsed:    0.6s remaining:    0.0s\n"
          ],
          "name": "stderr"
        },
        {
          "output_type": "stream",
          "text": [
            "[CV]  criterion=mse, max_depth=4, max_features=auto, n_estimators=200, score=-642.035100193595, total=   0.2s\n",
            "[CV] criterion=mse, max_depth=4, max_features=auto, n_estimators=200 .\n"
          ],
          "name": "stdout"
        },
        {
          "output_type": "stream",
          "text": [
            "[Parallel(n_jobs=1)]: Done   5 out of   5 | elapsed:    0.9s remaining:    0.0s\n"
          ],
          "name": "stderr"
        },
        {
          "output_type": "stream",
          "text": [
            "[CV]  criterion=mse, max_depth=4, max_features=auto, n_estimators=200, score=-619.7226579592718, total=   0.2s\n",
            "[CV] criterion=mse, max_depth=4, max_features=sqrt, n_estimators=100 .\n",
            "[CV]  criterion=mse, max_depth=4, max_features=sqrt, n_estimators=100, score=-581.4780821748228, total=   0.1s\n",
            "[CV] criterion=mse, max_depth=4, max_features=sqrt, n_estimators=100 .\n",
            "[CV]  criterion=mse, max_depth=4, max_features=sqrt, n_estimators=100, score=-678.3597432233352, total=   0.1s\n",
            "[CV] criterion=mse, max_depth=4, max_features=sqrt, n_estimators=100 .\n"
          ],
          "name": "stdout"
        },
        {
          "output_type": "stream",
          "text": [
            "[Parallel(n_jobs=1)]: Done   6 out of   6 | elapsed:    1.1s remaining:    0.0s\n",
            "[Parallel(n_jobs=1)]: Done   7 out of   7 | elapsed:    1.2s remaining:    0.0s\n",
            "[Parallel(n_jobs=1)]: Done   8 out of   8 | elapsed:    1.3s remaining:    0.0s\n"
          ],
          "name": "stderr"
        },
        {
          "output_type": "stream",
          "text": [
            "[CV]  criterion=mse, max_depth=4, max_features=sqrt, n_estimators=100, score=-647.3849690469982, total=   0.1s\n",
            "[CV] criterion=mse, max_depth=4, max_features=sqrt, n_estimators=200 .\n",
            "[CV]  criterion=mse, max_depth=4, max_features=sqrt, n_estimators=200, score=-583.3454533005865, total=   0.2s\n",
            "[CV] criterion=mse, max_depth=4, max_features=sqrt, n_estimators=200 .\n"
          ],
          "name": "stdout"
        },
        {
          "output_type": "stream",
          "text": [
            "[Parallel(n_jobs=1)]: Done   9 out of   9 | elapsed:    1.4s remaining:    0.0s\n"
          ],
          "name": "stderr"
        },
        {
          "output_type": "stream",
          "text": [
            "[CV]  criterion=mse, max_depth=4, max_features=sqrt, n_estimators=200, score=-676.9245480022158, total=   0.2s\n",
            "[CV] criterion=mse, max_depth=4, max_features=sqrt, n_estimators=200 .\n",
            "[CV]  criterion=mse, max_depth=4, max_features=sqrt, n_estimators=200, score=-641.3730555020485, total=   0.2s\n",
            "[CV] criterion=mse, max_depth=4, max_features=log2, n_estimators=100 .\n",
            "[CV]  criterion=mse, max_depth=4, max_features=log2, n_estimators=100, score=-583.4420179092479, total=   0.1s\n",
            "[CV] criterion=mse, max_depth=4, max_features=log2, n_estimators=100 .\n",
            "[CV]  criterion=mse, max_depth=4, max_features=log2, n_estimators=100, score=-686.2649346760968, total=   0.1s\n",
            "[CV] criterion=mse, max_depth=4, max_features=log2, n_estimators=100 .\n",
            "[CV]  criterion=mse, max_depth=4, max_features=log2, n_estimators=100, score=-651.7827146298956, total=   0.1s\n",
            "[CV] criterion=mse, max_depth=4, max_features=log2, n_estimators=200 .\n",
            "[CV]  criterion=mse, max_depth=4, max_features=log2, n_estimators=200, score=-577.4874144112418, total=   0.2s\n",
            "[CV] criterion=mse, max_depth=4, max_features=log2, n_estimators=200 .\n",
            "[CV]  criterion=mse, max_depth=4, max_features=log2, n_estimators=200, score=-678.7719489640791, total=   0.2s\n",
            "[CV] criterion=mse, max_depth=4, max_features=log2, n_estimators=200 .\n",
            "[CV]  criterion=mse, max_depth=4, max_features=log2, n_estimators=200, score=-647.1910314005685, total=   0.2s\n",
            "[CV] criterion=mse, max_depth=5, max_features=auto, n_estimators=100 .\n",
            "[CV]  criterion=mse, max_depth=5, max_features=auto, n_estimators=100, score=-541.0265105326986, total=   0.1s\n",
            "[CV] criterion=mse, max_depth=5, max_features=auto, n_estimators=100 .\n",
            "[CV]  criterion=mse, max_depth=5, max_features=auto, n_estimators=100, score=-635.7114259884154, total=   0.1s\n",
            "[CV] criterion=mse, max_depth=5, max_features=auto, n_estimators=100 .\n",
            "[CV]  criterion=mse, max_depth=5, max_features=auto, n_estimators=100, score=-633.5047403099644, total=   0.1s\n",
            "[CV] criterion=mse, max_depth=5, max_features=auto, n_estimators=200 .\n",
            "[CV]  criterion=mse, max_depth=5, max_features=auto, n_estimators=200, score=-542.9200689018794, total=   0.3s\n",
            "[CV] criterion=mse, max_depth=5, max_features=auto, n_estimators=200 .\n",
            "[CV]  criterion=mse, max_depth=5, max_features=auto, n_estimators=200, score=-639.2031788742594, total=   0.3s\n",
            "[CV] criterion=mse, max_depth=5, max_features=auto, n_estimators=200 .\n",
            "[CV]  criterion=mse, max_depth=5, max_features=auto, n_estimators=200, score=-631.0794403714598, total=   0.3s\n",
            "[CV] criterion=mse, max_depth=5, max_features=sqrt, n_estimators=100 .\n",
            "[CV]  criterion=mse, max_depth=5, max_features=sqrt, n_estimators=100, score=-560.4194577205467, total=   0.1s\n",
            "[CV] criterion=mse, max_depth=5, max_features=sqrt, n_estimators=100 .\n",
            "[CV]  criterion=mse, max_depth=5, max_features=sqrt, n_estimators=100, score=-666.8249537697415, total=   0.1s\n",
            "[CV] criterion=mse, max_depth=5, max_features=sqrt, n_estimators=100 .\n",
            "[CV]  criterion=mse, max_depth=5, max_features=sqrt, n_estimators=100, score=-638.8232225829998, total=   0.1s\n",
            "[CV] criterion=mse, max_depth=5, max_features=sqrt, n_estimators=200 .\n",
            "[CV]  criterion=mse, max_depth=5, max_features=sqrt, n_estimators=200, score=-560.9397527067019, total=   0.2s\n",
            "[CV] criterion=mse, max_depth=5, max_features=sqrt, n_estimators=200 .\n",
            "[CV]  criterion=mse, max_depth=5, max_features=sqrt, n_estimators=200, score=-666.4945111802546, total=   0.2s\n",
            "[CV] criterion=mse, max_depth=5, max_features=sqrt, n_estimators=200 .\n",
            "[CV]  criterion=mse, max_depth=5, max_features=sqrt, n_estimators=200, score=-636.9299054835844, total=   0.2s\n",
            "[CV] criterion=mse, max_depth=5, max_features=log2, n_estimators=100 .\n",
            "[CV]  criterion=mse, max_depth=5, max_features=log2, n_estimators=100, score=-565.556680474746, total=   0.1s\n",
            "[CV] criterion=mse, max_depth=5, max_features=log2, n_estimators=100 .\n",
            "[CV]  criterion=mse, max_depth=5, max_features=log2, n_estimators=100, score=-660.2207840729424, total=   0.1s\n",
            "[CV] criterion=mse, max_depth=5, max_features=log2, n_estimators=100 .\n",
            "[CV]  criterion=mse, max_depth=5, max_features=log2, n_estimators=100, score=-632.5903151901725, total=   0.1s\n",
            "[CV] criterion=mse, max_depth=5, max_features=log2, n_estimators=200 .\n",
            "[CV]  criterion=mse, max_depth=5, max_features=log2, n_estimators=200, score=-561.5884365202826, total=   0.2s\n",
            "[CV] criterion=mse, max_depth=5, max_features=log2, n_estimators=200 .\n",
            "[CV]  criterion=mse, max_depth=5, max_features=log2, n_estimators=200, score=-662.0600777224962, total=   0.2s\n",
            "[CV] criterion=mse, max_depth=5, max_features=log2, n_estimators=200 .\n",
            "[CV]  criterion=mse, max_depth=5, max_features=log2, n_estimators=200, score=-633.1104917355017, total=   0.2s\n",
            "[CV] criterion=mae, max_depth=4, max_features=auto, n_estimators=100 .\n",
            "[CV]  criterion=mae, max_depth=4, max_features=auto, n_estimators=100, score=-544.8540342679129, total=   0.6s\n",
            "[CV] criterion=mae, max_depth=4, max_features=auto, n_estimators=100 .\n",
            "[CV]  criterion=mae, max_depth=4, max_features=auto, n_estimators=100, score=-636.1537071651089, total=   0.6s\n",
            "[CV] criterion=mae, max_depth=4, max_features=auto, n_estimators=100 .\n",
            "[CV]  criterion=mae, max_depth=4, max_features=auto, n_estimators=100, score=-614.9522118380063, total=   0.6s\n",
            "[CV] criterion=mae, max_depth=4, max_features=auto, n_estimators=200 .\n",
            "[CV]  criterion=mae, max_depth=4, max_features=auto, n_estimators=200, score=-547.2679283489097, total=   1.2s\n",
            "[CV] criterion=mae, max_depth=4, max_features=auto, n_estimators=200 .\n",
            "[CV]  criterion=mae, max_depth=4, max_features=auto, n_estimators=200, score=-637.0534579439252, total=   1.1s\n",
            "[CV] criterion=mae, max_depth=4, max_features=auto, n_estimators=200 .\n",
            "[CV]  criterion=mae, max_depth=4, max_features=auto, n_estimators=200, score=-611.9945950155764, total=   1.2s\n",
            "[CV] criterion=mae, max_depth=4, max_features=sqrt, n_estimators=100 .\n",
            "[CV]  criterion=mae, max_depth=4, max_features=sqrt, n_estimators=100, score=-575.8348753894081, total=   0.3s\n",
            "[CV] criterion=mae, max_depth=4, max_features=sqrt, n_estimators=100 .\n",
            "[CV]  criterion=mae, max_depth=4, max_features=sqrt, n_estimators=100, score=-680.1894704049845, total=   0.3s\n",
            "[CV] criterion=mae, max_depth=4, max_features=sqrt, n_estimators=100 .\n",
            "[CV]  criterion=mae, max_depth=4, max_features=sqrt, n_estimators=100, score=-637.283598130841, total=   0.3s\n",
            "[CV] criterion=mae, max_depth=4, max_features=sqrt, n_estimators=200 .\n",
            "[CV]  criterion=mae, max_depth=4, max_features=sqrt, n_estimators=200, score=-567.4395950155763, total=   0.5s\n",
            "[CV] criterion=mae, max_depth=4, max_features=sqrt, n_estimators=200 .\n",
            "[CV]  criterion=mae, max_depth=4, max_features=sqrt, n_estimators=200, score=-675.7883333333333, total=   0.5s\n",
            "[CV] criterion=mae, max_depth=4, max_features=sqrt, n_estimators=200 .\n",
            "[CV]  criterion=mae, max_depth=4, max_features=sqrt, n_estimators=200, score=-639.0789797507788, total=   0.5s\n",
            "[CV] criterion=mae, max_depth=4, max_features=log2, n_estimators=100 .\n",
            "[CV]  criterion=mae, max_depth=4, max_features=log2, n_estimators=100, score=-573.5578816199377, total=   0.3s\n",
            "[CV] criterion=mae, max_depth=4, max_features=log2, n_estimators=100 .\n",
            "[CV]  criterion=mae, max_depth=4, max_features=log2, n_estimators=100, score=-669.5171028037383, total=   0.3s\n",
            "[CV] criterion=mae, max_depth=4, max_features=log2, n_estimators=100 .\n",
            "[CV]  criterion=mae, max_depth=4, max_features=log2, n_estimators=100, score=-635.2265887850467, total=   0.3s\n",
            "[CV] criterion=mae, max_depth=4, max_features=log2, n_estimators=200 .\n",
            "[CV]  criterion=mae, max_depth=4, max_features=log2, n_estimators=200, score=-568.8167211838006, total=   0.5s\n",
            "[CV] criterion=mae, max_depth=4, max_features=log2, n_estimators=200 .\n",
            "[CV]  criterion=mae, max_depth=4, max_features=log2, n_estimators=200, score=-670.6978582554517, total=   0.5s\n",
            "[CV] criterion=mae, max_depth=4, max_features=log2, n_estimators=200 .\n",
            "[CV]  criterion=mae, max_depth=4, max_features=log2, n_estimators=200, score=-635.9447274143303, total=   0.5s\n",
            "[CV] criterion=mae, max_depth=5, max_features=auto, n_estimators=100 .\n",
            "[CV]  criterion=mae, max_depth=5, max_features=auto, n_estimators=100, score=-541.6907165109034, total=   0.7s\n",
            "[CV] criterion=mae, max_depth=5, max_features=auto, n_estimators=100 .\n",
            "[CV]  criterion=mae, max_depth=5, max_features=auto, n_estimators=100, score=-635.4058878504674, total=   0.6s\n",
            "[CV] criterion=mae, max_depth=5, max_features=auto, n_estimators=100 .\n",
            "[CV]  criterion=mae, max_depth=5, max_features=auto, n_estimators=100, score=-610.9319937694704, total=   0.7s\n",
            "[CV] criterion=mae, max_depth=5, max_features=auto, n_estimators=200 .\n",
            "[CV]  criterion=mae, max_depth=5, max_features=auto, n_estimators=200, score=-535.5312928348909, total=   1.4s\n",
            "[CV] criterion=mae, max_depth=5, max_features=auto, n_estimators=200 .\n",
            "[CV]  criterion=mae, max_depth=5, max_features=auto, n_estimators=200, score=-638.3819937694703, total=   1.3s\n",
            "[CV] criterion=mae, max_depth=5, max_features=auto, n_estimators=200 .\n",
            "[CV]  criterion=mae, max_depth=5, max_features=auto, n_estimators=200, score=-614.4056464174455, total=   1.3s\n",
            "[CV] criterion=mae, max_depth=5, max_features=sqrt, n_estimators=100 .\n",
            "[CV]  criterion=mae, max_depth=5, max_features=sqrt, n_estimators=100, score=-560.0240965732088, total=   0.3s\n",
            "[CV] criterion=mae, max_depth=5, max_features=sqrt, n_estimators=100 .\n",
            "[CV]  criterion=mae, max_depth=5, max_features=sqrt, n_estimators=100, score=-658.6179283489097, total=   0.3s\n",
            "[CV] criterion=mae, max_depth=5, max_features=sqrt, n_estimators=100 .\n",
            "[CV]  criterion=mae, max_depth=5, max_features=sqrt, n_estimators=100, score=-619.2992367601246, total=   0.3s\n",
            "[CV] criterion=mae, max_depth=5, max_features=sqrt, n_estimators=200 .\n",
            "[CV]  criterion=mae, max_depth=5, max_features=sqrt, n_estimators=200, score=-555.051347352025, total=   0.6s\n",
            "[CV] criterion=mae, max_depth=5, max_features=sqrt, n_estimators=200 .\n",
            "[CV]  criterion=mae, max_depth=5, max_features=sqrt, n_estimators=200, score=-661.0834813084111, total=   0.6s\n",
            "[CV] criterion=mae, max_depth=5, max_features=sqrt, n_estimators=200 .\n",
            "[CV]  criterion=mae, max_depth=5, max_features=sqrt, n_estimators=200, score=-630.4990809968848, total=   0.6s\n",
            "[CV] criterion=mae, max_depth=5, max_features=log2, n_estimators=100 .\n",
            "[CV]  criterion=mae, max_depth=5, max_features=log2, n_estimators=100, score=-560.0275389408099, total=   0.3s\n",
            "[CV] criterion=mae, max_depth=5, max_features=log2, n_estimators=100 .\n",
            "[CV]  criterion=mae, max_depth=5, max_features=log2, n_estimators=100, score=-648.9407632398753, total=   0.3s\n",
            "[CV] criterion=mae, max_depth=5, max_features=log2, n_estimators=100 .\n",
            "[CV]  criterion=mae, max_depth=5, max_features=log2, n_estimators=100, score=-623.7058878504673, total=   0.3s\n",
            "[CV] criterion=mae, max_depth=5, max_features=log2, n_estimators=200 .\n",
            "[CV]  criterion=mae, max_depth=5, max_features=log2, n_estimators=200, score=-558.6398598130842, total=   0.6s\n",
            "[CV] criterion=mae, max_depth=5, max_features=log2, n_estimators=200 .\n",
            "[CV]  criterion=mae, max_depth=5, max_features=log2, n_estimators=200, score=-658.1393535825546, total=   0.6s\n",
            "[CV] criterion=mae, max_depth=5, max_features=log2, n_estimators=200 .\n",
            "[CV]  criterion=mae, max_depth=5, max_features=log2, n_estimators=200, score=-627.0804127725856, total=   0.6s\n"
          ],
          "name": "stdout"
        },
        {
          "output_type": "stream",
          "text": [
            "[Parallel(n_jobs=1)]: Done  72 out of  72 | elapsed:   28.0s finished\n"
          ],
          "name": "stderr"
        },
        {
          "output_type": "stream",
          "text": [
            "CPU times: user 29.1 s, sys: 58.7 ms, total: 29.2 s\n",
            "Wall time: 29.2 s\n"
          ],
          "name": "stdout"
        }
      ]
    },
    {
      "metadata": {
        "id": "W1id3GvTGTjP",
        "colab_type": "code",
        "outputId": "98982268-883b-48f4-d12f-9912eb5b2127",
        "colab": {
          "base_uri": "https://localhost:8080/",
          "height": 185
        }
      },
      "cell_type": "code",
      "source": [
        "results = pd.DataFrame(gridsearch.cv_results_)\n",
        "print(f'Best result from grid search of {len(results)} parameter combinations')\n",
        "results.sort_values(by='rank_test_score').head(1)"
      ],
      "execution_count": 0,
      "outputs": [
        {
          "output_type": "stream",
          "text": [
            "Best result from grid search of 24 parameter combinations\n"
          ],
          "name": "stdout"
        },
        {
          "output_type": "execute_result",
          "data": {
            "text/html": [
              "<div>\n",
              "<style scoped>\n",
              "    .dataframe tbody tr th:only-of-type {\n",
              "        vertical-align: middle;\n",
              "    }\n",
              "\n",
              "    .dataframe tbody tr th {\n",
              "        vertical-align: top;\n",
              "    }\n",
              "\n",
              "    .dataframe thead th {\n",
              "        text-align: right;\n",
              "    }\n",
              "</style>\n",
              "<table border=\"1\" class=\"dataframe\">\n",
              "  <thead>\n",
              "    <tr style=\"text-align: right;\">\n",
              "      <th></th>\n",
              "      <th>mean_fit_time</th>\n",
              "      <th>mean_score_time</th>\n",
              "      <th>mean_test_score</th>\n",
              "      <th>mean_train_score</th>\n",
              "      <th>param_criterion</th>\n",
              "      <th>param_max_depth</th>\n",
              "      <th>param_max_features</th>\n",
              "      <th>param_n_estimators</th>\n",
              "      <th>params</th>\n",
              "      <th>rank_test_score</th>\n",
              "      <th>split0_test_score</th>\n",
              "      <th>split0_train_score</th>\n",
              "      <th>split1_test_score</th>\n",
              "      <th>split1_train_score</th>\n",
              "      <th>split2_test_score</th>\n",
              "      <th>split2_train_score</th>\n",
              "      <th>std_fit_time</th>\n",
              "      <th>std_score_time</th>\n",
              "      <th>std_test_score</th>\n",
              "      <th>std_train_score</th>\n",
              "    </tr>\n",
              "  </thead>\n",
              "  <tbody>\n",
              "    <tr>\n",
              "      <th>18</th>\n",
              "      <td>0.661715</td>\n",
              "      <td>0.009116</td>\n",
              "      <td>-596.009533</td>\n",
              "      <td>-491.749351</td>\n",
              "      <td>mae</td>\n",
              "      <td>5</td>\n",
              "      <td>auto</td>\n",
              "      <td>100</td>\n",
              "      <td>{'criterion': 'mae', 'max_depth': 5, 'max_feat...</td>\n",
              "      <td>1</td>\n",
              "      <td>-541.690717</td>\n",
              "      <td>-517.760755</td>\n",
              "      <td>-635.405888</td>\n",
              "      <td>-473.783949</td>\n",
              "      <td>-610.931994</td>\n",
              "      <td>-483.703349</td>\n",
              "      <td>0.015967</td>\n",
              "      <td>0.000482</td>\n",
              "      <td>39.687473</td>\n",
              "      <td>18.833366</td>\n",
              "    </tr>\n",
              "  </tbody>\n",
              "</table>\n",
              "</div>"
            ],
            "text/plain": [
              "    mean_fit_time  mean_score_time  mean_test_score  mean_train_score  \\\n",
              "18       0.661715         0.009116      -596.009533       -491.749351   \n",
              "\n",
              "   param_criterion param_max_depth param_max_features param_n_estimators  \\\n",
              "18             mae               5               auto                100   \n",
              "\n",
              "                                               params  rank_test_score  \\\n",
              "18  {'criterion': 'mae', 'max_depth': 5, 'max_feat...                1   \n",
              "\n",
              "    split0_test_score  split0_train_score  split1_test_score  \\\n",
              "18        -541.690717         -517.760755        -635.405888   \n",
              "\n",
              "    split1_train_score  split2_test_score  split2_train_score  std_fit_time  \\\n",
              "18         -473.783949        -610.931994         -483.703349      0.015967   \n",
              "\n",
              "    std_score_time  std_test_score  std_train_score  \n",
              "18        0.000482       39.687473        18.833366  "
            ]
          },
          "metadata": {
            "tags": []
          },
          "execution_count": 58
        }
      ]
    },
    {
      "metadata": {
        "id": "ZW5HfYtU0GW2",
        "colab_type": "text"
      },
      "cell_type": "markdown",
      "source": [
        "## FEATURE ENGINEERING!"
      ]
    },
    {
      "metadata": {
        "id": "0ms-eoOHFvPG",
        "colab_type": "text"
      },
      "cell_type": "markdown",
      "source": [
        "Jake VanderPlas demonstrates this feature engineering: \n",
        "https://jakevdp.github.io/PythonDataScienceHandbook/05.06-linear-regression.html#Example:-Predicting-Bicycle-Traffic"
      ]
    },
    {
      "metadata": {
        "id": "sEwME8wR3A5g",
        "colab_type": "code",
        "colab": {}
      },
      "cell_type": "code",
      "source": [
        "# Modified from code cells 17-21 at\n",
        "# https://jakevdp.github.io/PythonDataScienceHandbook/05.06-linear-regression.html#Example:-Predicting-Bicycle-Traffic\n",
        "\n",
        "\n",
        "# Create column for each day of the week\n",
        "# patterns of use generally vary from day to day; \n",
        "# let's add binary columns that indicate the day of the week:\n",
        "days = ['Mon', 'Tue', 'Wed', 'Thu', 'Fri', 'Sat', 'Sun']\n",
        "for i, day in enumerate(days):\n",
        "    X_train[day] = (X_train.index.dayofweek == i).astype(float)\n",
        "\n",
        "\n",
        "    \n",
        "# we might expect riders to behave differently on holidays; \n",
        "# let's add an indicator of this as well:\n",
        "from pandas.tseries.holiday import USFederalHolidayCalendar\n",
        "cal = USFederalHolidayCalendar()\n",
        "holidays = cal.holidays('2012', '2016')\n",
        "X_train = X_train.join(pd.Series(1, index=holidays, name='holiday'))\n",
        "X_train['holiday'].fillna(0, inplace=True)\n",
        "\n",
        "\n",
        "\n",
        "# We also might suspect that the hours of daylight would affect \n",
        "# how many people ride; let's use the standard astronomical calculation \n",
        "# to add this information:\n",
        "def hours_of_daylight(date, axis=23.44, latitude=47.61):\n",
        "    \"\"\"Compute the hours of daylight for the given date\"\"\"\n",
        "    days = (date - pd.datetime(2000, 12, 21)).days\n",
        "    m = (1. - np.tan(np.radians(latitude))\n",
        "         * np.tan(np.radians(axis) * np.cos(days * 2 * np.pi / 365.25)))\n",
        "    return 24. * np.degrees(np.arccos(1 - np.clip(m, 0, 2))) / 180.\n",
        "\n",
        "X_train['daylight_hrs'] = list(map(hours_of_daylight, X_train.index))\n",
        "\n",
        "\n",
        "\n",
        "# temperatures are in 1/10 deg C; convert to C\n",
        "X_train['TMIN'] /= 10\n",
        "X_train['TMAX'] /= 10\n",
        "\n",
        "# We can also calcuate the average temperature.\n",
        "X_train['Temp (C)'] = 0.5 * (X_train['TMIN'] + X_train['TMAX'])\n",
        "\n",
        "\n",
        "\n",
        "# precip is in 1/10 mm; convert to inches\n",
        "X_train['PRCP'] /= 254\n",
        "\n",
        "# In addition to the inches of precipitation, let's add a flag that \n",
        "# indicates whether a day is dry (has zero precipitation):\n",
        "X_train['dry day'] = (X_train['PRCP'] == 0).astype(int)\n",
        "\n",
        "\n",
        "\n",
        "# Let's add a counter that increases from day 1, and measures how many \n",
        "# years have passed. This will let us measure any observed annual increase \n",
        "# or decrease in daily crossings:\n",
        "X_train['annual'] = (X_train.index - X_train.index[0]).days / 365."
      ],
      "execution_count": 0,
      "outputs": []
    },
    {
      "metadata": {
        "id": "dDGkAv813Wtj",
        "colab_type": "text"
      },
      "cell_type": "markdown",
      "source": [
        "### Linear Regression (with new features)"
      ]
    },
    {
      "metadata": {
        "id": "cj3HTM6p5F1A",
        "colab_type": "code",
        "outputId": "ed530ec7-72ca-4247-c93f-fa34c80b2655",
        "colab": {
          "base_uri": "https://localhost:8080/",
          "height": 138
        }
      },
      "cell_type": "code",
      "source": [
        "scores = cross_validate(LinearRegression(), X_train, y_train, \n",
        "                        scoring='neg_mean_absolute_error', cv=3, \n",
        "                        return_train_score=True, return_estimator=True)\n",
        "\n",
        "pd.DataFrame(scores)"
      ],
      "execution_count": 0,
      "outputs": [
        {
          "output_type": "execute_result",
          "data": {
            "text/html": [
              "<div>\n",
              "<style scoped>\n",
              "    .dataframe tbody tr th:only-of-type {\n",
              "        vertical-align: middle;\n",
              "    }\n",
              "\n",
              "    .dataframe tbody tr th {\n",
              "        vertical-align: top;\n",
              "    }\n",
              "\n",
              "    .dataframe thead th {\n",
              "        text-align: right;\n",
              "    }\n",
              "</style>\n",
              "<table border=\"1\" class=\"dataframe\">\n",
              "  <thead>\n",
              "    <tr style=\"text-align: right;\">\n",
              "      <th></th>\n",
              "      <th>estimator</th>\n",
              "      <th>fit_time</th>\n",
              "      <th>score_time</th>\n",
              "      <th>test_score</th>\n",
              "      <th>train_score</th>\n",
              "    </tr>\n",
              "  </thead>\n",
              "  <tbody>\n",
              "    <tr>\n",
              "      <th>0</th>\n",
              "      <td>LinearRegression(copy_X=True, fit_intercept=Tr...</td>\n",
              "      <td>0.010040</td>\n",
              "      <td>0.002709</td>\n",
              "      <td>-297.692524</td>\n",
              "      <td>-294.532315</td>\n",
              "    </tr>\n",
              "    <tr>\n",
              "      <th>1</th>\n",
              "      <td>LinearRegression(copy_X=True, fit_intercept=Tr...</td>\n",
              "      <td>0.003430</td>\n",
              "      <td>0.002160</td>\n",
              "      <td>-300.419037</td>\n",
              "      <td>-283.779461</td>\n",
              "    </tr>\n",
              "    <tr>\n",
              "      <th>2</th>\n",
              "      <td>LinearRegression(copy_X=True, fit_intercept=Tr...</td>\n",
              "      <td>0.003268</td>\n",
              "      <td>0.002106</td>\n",
              "      <td>-322.640378</td>\n",
              "      <td>-283.509114</td>\n",
              "    </tr>\n",
              "  </tbody>\n",
              "</table>\n",
              "</div>"
            ],
            "text/plain": [
              "                                           estimator  fit_time  score_time  \\\n",
              "0  LinearRegression(copy_X=True, fit_intercept=Tr...  0.010040    0.002709   \n",
              "1  LinearRegression(copy_X=True, fit_intercept=Tr...  0.003430    0.002160   \n",
              "2  LinearRegression(copy_X=True, fit_intercept=Tr...  0.003268    0.002106   \n",
              "\n",
              "   test_score  train_score  \n",
              "0 -297.692524  -294.532315  \n",
              "1 -300.419037  -283.779461  \n",
              "2 -322.640378  -283.509114  "
            ]
          },
          "metadata": {
            "tags": []
          },
          "execution_count": 59
        }
      ]
    },
    {
      "metadata": {
        "id": "b6zxN2xB3bX_",
        "colab_type": "text"
      },
      "cell_type": "markdown",
      "source": [
        "### Random Forest (with new features)"
      ]
    },
    {
      "metadata": {
        "id": "3sWUDZIz1-kk",
        "colab_type": "code",
        "outputId": "412febde-9c19-402d-e54c-637ae6a68c58",
        "colab": {
          "base_uri": "https://localhost:8080/",
          "height": 52
        }
      },
      "cell_type": "code",
      "source": [
        "%%time \n",
        "\n",
        "param_grid = {\n",
        "    'n_estimators': [100], \n",
        "    'max_depth': [5, 10, 15], \n",
        "    'criterion': ['mae']\n",
        "}\n",
        "\n",
        "# TODO: Instantiate and fit a GridSearchCV and look at best results"
      ],
      "execution_count": 0,
      "outputs": [
        {
          "output_type": "stream",
          "text": [
            "CPU times: user 6 µs, sys: 0 ns, total: 6 µs\n",
            "Wall time: 9.78 µs\n"
          ],
          "name": "stdout"
        }
      ]
    },
    {
      "metadata": {
        "id": "0QEBUVR13kcb",
        "colab_type": "text"
      },
      "cell_type": "markdown",
      "source": [
        "### Ridge Regression (with new features)\n",
        "\n",
        "https://scikit-learn.org/stable/modules/generated/sklearn.linear_model.Ridge.html"
      ]
    },
    {
      "metadata": {
        "id": "4voLbIxU8r6r",
        "colab_type": "code",
        "outputId": "49ec56a5-579c-4c88-8880-7d71bebdb918",
        "colab": {
          "base_uri": "https://localhost:8080/",
          "height": 138
        }
      },
      "cell_type": "code",
      "source": [
        "from sklearn.linear_model import Ridge\n",
        "\n",
        "param_grid = {\n",
        "    'alpha': [0.1, 1.0, 10.]\n",
        "}\n",
        "\n",
        "gridsearch = GridSearchCV(Ridge(), param_grid=param_grid, \n",
        "                          scoring='neg_mean_absolute_error', cv=3, \n",
        "                          return_train_score=True)\n",
        "\n",
        "gridsearch.fit(X_train, y_train)"
      ],
      "execution_count": 0,
      "outputs": [
        {
          "output_type": "execute_result",
          "data": {
            "text/plain": [
              "GridSearchCV(cv=3, error_score='raise-deprecating',\n",
              "       estimator=Ridge(alpha=1.0, copy_X=True, fit_intercept=True, max_iter=None,\n",
              "   normalize=False, random_state=None, solver='auto', tol=0.001),\n",
              "       fit_params=None, iid='warn', n_jobs=None,\n",
              "       param_grid={'alpha': [0.1, 1.0, 10.0]}, pre_dispatch='2*n_jobs',\n",
              "       refit=True, return_train_score=True,\n",
              "       scoring='neg_mean_absolute_error', verbose=0)"
            ]
          },
          "metadata": {
            "tags": []
          },
          "execution_count": 63
        }
      ]
    },
    {
      "metadata": {
        "id": "k93s5440Jri8",
        "colab_type": "code",
        "colab": {
          "base_uri": "https://localhost:8080/",
          "height": 380
        },
        "outputId": "9f2c8a99-7a66-4a28-bed1-866f7cfeb11e"
      },
      "cell_type": "code",
      "source": [
        "# Look at best fit\n",
        "model = gridsearch.best_estimator_\n",
        "\n",
        "coefficients = model.coef_\n",
        "intercept = model.intercept_\n",
        "feature_names = X_train.columns\n",
        "\n",
        "print('Best model from grid search cross validation')\n",
        "print('Intercept', intercept)\n",
        "print(pd.Series(coefficients, feature_names).to_string())"
      ],
      "execution_count": 64,
      "outputs": [
        {
          "output_type": "stream",
          "text": [
            "Best model from grid search cross validation\n",
            "Intercept 33.741779570641484\n",
            "PRCP               -553.070741\n",
            "SNOW                 -0.002829\n",
            "SNWD                 -1.877519\n",
            "TMAX                 63.833062\n",
            "TMIN                -37.450291\n",
            "AWND                 -1.900084\n",
            "Total_yesterday       0.296029\n",
            "Mon                 779.221395\n",
            "Tue                 432.700039\n",
            "Wed                 368.367626\n",
            "Thu                 274.054021\n",
            "Fri                  47.251356\n",
            "Sat               -1099.692199\n",
            "Sun                -801.902237\n",
            "holiday            -939.301546\n",
            "daylight_hrs         70.256463\n",
            "Temp (C)             13.191386\n",
            "dry day             298.475434\n",
            "annual               44.518889\n"
          ],
          "name": "stdout"
        }
      ]
    },
    {
      "metadata": {
        "id": "dofdwyTf3pm0",
        "colab_type": "text"
      },
      "cell_type": "markdown",
      "source": [
        "### Compare to statsmodels"
      ]
    },
    {
      "metadata": {
        "id": "i-Qt4mDk_yBY",
        "colab_type": "code",
        "colab": {}
      },
      "cell_type": "code",
      "source": [
        "# TODO"
      ],
      "execution_count": 0,
      "outputs": []
    },
    {
      "metadata": {
        "id": "edpJ87A8A8sd",
        "colab_type": "text"
      },
      "cell_type": "markdown",
      "source": [
        "\n",
        "### Feature engineering, explained by Francois Chollet\n",
        "\n",
        "> _Feature engineering_ is the process of using your own knowledge about the data and about the machine learning algorithm at hand to make the algorithm work better by applying hardcoded (nonlearned) transformations to the data before it goes into the model. In many cases, it isn’t reasonable to expect a machine-learning model to be able to learn from completely arbitrary data. The data needs to be presented to the model in a way that will make the model’s job easier.\n",
        "\n",
        "> Let’s look at an intuitive example. Suppose you’re trying to develop a model that can take as input an image of a clock and can output the time of day.\n",
        "\n",
        "> If you choose to use the raw pixels of the image as input data, then you have a difficult machine-learning problem on your hands. You’ll need a convolutional neural network to solve it, and you’ll have to expend quite a bit of computational resources to train the network.\n",
        "\n",
        "> But if you already understand the problem at a high level (you understand how humans read time on a clock face), then you can come up with much better input features for a machine-learning algorithm: for instance, write a Python script to follow the black pixels of the clock hands and output the (x, y) coordinates of the tip of each hand. Then a simple machine-learning algorithm can learn to associate these coordinates with the appropriate time of day.\n",
        "\n",
        "> You can go even further: do a coordinate change, and express the (x, y) coordinates as polar coordinates with regard to the center of the image. Your input will become the angle theta of each clock hand. At this point, your features are making the problem so easy that no machine learning is required; a simple rounding operation and dictionary lookup are enough to recover the approximate time of day.\n",
        "\n",
        "> That’s the essence of feature engineering: making a problem easier by expressing it in a simpler way. It usually requires understanding the problem in depth.\n",
        "\n",
        "> Before convolutional neural networks became successful on the MNIST digit-classification problem, solutions were typically based on hardcoded features such as the number of loops in a digit image, the height of each digit in an image, a histogram of pixel values, and so on.\n",
        "\n",
        "> Neural networks are capable of automatically extracting useful features from raw data. Does this mean you don’t have to worry about feature engineering as long as you’re using deep neural networks? No, for two reasons:\n",
        "\n",
        "> - Good features still allow you to solve problems more elegantly while using fewer resources. For instance, it would be ridiculous to solve the problem of reading a clock face using a convolutional neural network.\n",
        "> - Good features let you solve a problem with far less data. The ability of deep-learning models to learn features on their own relies on having lots of training data available; if you have only a few samples, then the information value in their features becomes critical.\n"
      ]
    },
    {
      "metadata": {
        "id": "oux-dd-5FD6p",
        "colab_type": "text"
      },
      "cell_type": "markdown",
      "source": [
        "# ASSIGNMENT\n",
        "\n",
        "### Core assignment\n",
        "\n",
        "Complete the notebook cells that were originally commented **`TODO`**. \n",
        "\n",
        "Then, focus on feature engineering to improve your cross validation scores. Collaborate with your cohort on Slack. You could start with the ideas [Jake VanderPlas suggests:](https://jakevdp.github.io/PythonDataScienceHandbook/05.06-linear-regression.html#Example:-Predicting-Bicycle-Traffic)\n",
        "\n",
        "> Our model is almost certainly missing some relevant information. For example, nonlinear effects (such as effects of precipitation and cold temperature) and nonlinear trends within each variable (such as disinclination to ride at very cold and very hot temperatures) cannot be accounted for in this model. Additionally, we have thrown away some of the finer-grained information (such as the difference between a rainy morning and a rainy afternoon), and we have ignored correlations between days (such as the possible effect of a rainy Tuesday on Wednesday's numbers, or the effect of an unexpected sunny day after a streak of rainy days). These are all potentially interesting effects, and you now have the tools to begin exploring them if you wish!\n",
        "\n",
        "At the end of the day, take the last step in the \"universal workflow of machine learning\" — \"You can train your final production model on all the available data (training and validation) and evaluate it one last time on the test set.\"\n",
        "\n",
        "See the [`GridSearchCV`](https://scikit-learn.org/stable/modules/generated/sklearn.model_selection.GridSearchCV.html) documentation for the `refit` parameter, `best_estimator_` attribute, and `predict` method:\n",
        "\n",
        "> **refit : boolean, or string, default=True**\n",
        "\n",
        "> Refit an estimator using the best found parameters on the whole dataset.\n",
        "\n",
        "> The refitted estimator is made available at the `best_estimator_` attribute and permits using `predict` directly on this `GridSearchCV` instance.\n",
        "\n",
        "### More options\n",
        "\n",
        "**A.** Apply this lesson to other datasets.\n",
        "\n",
        "**B.** We predicted the number of bicycle trips based on that day's weather. But imagine you were asked to predict trips at the beginning of each day, based only on data known at the time of prediction or before — so you cannot use the current day's weather. How would you wrangle the features to handle this new requirement? How does this impact the predictive accuracy and coefficients of your models?\n",
        "\n",
        "**C.** In additon to `GridSearchCV`, scikit-learn has [`RandomizedSearchCV`](https://scikit-learn.org/stable/modules/generated/sklearn.model_selection.RandomizedSearchCV.html), which is sometimes even better. Another library called scikit-optimize has [`BayesSearchCV`](https://scikit-optimize.github.io/notebooks/sklearn-gridsearchcv-replacement.html). Experiment with these alternatives.\n",
        "\n",
        "**D.** _[Introduction to Machine Learning with Python](http://shop.oreilly.com/product/0636920030515.do)_ discusses options for \"Grid-Searching Which Model To Use\" in Chapter 6:\n",
        "\n",
        "> You can even go further in combining GridSearchCV and Pipeline: it is also possible to search over the actual steps being performed in the pipeline (say whether to use StandardScaler or MinMaxScaler). This leads to an even bigger search space and should be considered carefully. Trying all possible solutions is usually not a viable machine learning strategy. However, here is an example comparing a RandomForestClassifier and an SVC ...\n",
        "\n",
        "The example is shown in [the accompanying notebook](https://github.com/amueller/introduction_to_ml_with_python/blob/master/06-algorithm-chains-and-pipelines.ipynb), code cells 35-37. Could you apply this concept to your own pipelines?\n",
        "\n",
        "\n"
      ]
    }
  ]
}