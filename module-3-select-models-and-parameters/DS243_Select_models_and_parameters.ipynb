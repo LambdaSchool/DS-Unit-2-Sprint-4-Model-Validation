{
  "nbformat": 4,
  "nbformat_minor": 0,
  "metadata": {
    "colab": {
      "name": "DS243 Select models and parameters.ipynb",
      "version": "0.3.2",
      "provenance": [],
      "collapsed_sections": [],
      "include_colab_link": true
    },
    "kernelspec": {
      "name": "python3",
      "display_name": "Python 3"
    },
    "accelerator": "GPU"
  },
  "cells": [
    {
      "cell_type": "markdown",
      "metadata": {
        "id": "view-in-github",
        "colab_type": "text"
      },
      "source": [
        "<a href=\"https://colab.research.google.com/github/hughjafro/DS-Unit-2-Sprint-4-Model-Validation/blob/master/module-3-select-models-and-parameters/DS243_Select_models_and_parameters.ipynb\" target=\"_parent\"><img src=\"https://colab.research.google.com/assets/colab-badge.svg\" alt=\"Open In Colab\"/></a>"
      ]
    },
    {
      "metadata": {
        "id": "O67uhlT4MExK",
        "colab_type": "text"
      },
      "cell_type": "markdown",
      "source": [
        "_Lambda School Data Science — Model Validation_\n",
        "\n",
        "# Select models and parameters\n",
        "\n",
        "Objectives\n",
        "- Hyperparameter optimization\n",
        "- Model selection"
      ]
    },
    {
      "metadata": {
        "id": "VE4rfZd4NUGA",
        "colab_type": "text"
      },
      "cell_type": "markdown",
      "source": [
        "Today we'll use this process:\n",
        "\n",
        "## \"A universal workflow of machine learning\"\n",
        "\n",
        "_Excerpt from Francois Chollet, [Deep Learning with Python](https://github.com/fchollet/deep-learning-with-python-notebooks/blob/master/README.md), Chapter 4: Fundamentals of machine learning_\n",
        " \n",
        "**1. Define the problem at hand and the data on which you’ll train.** Collect this data, or annotate it with labels if need be.\n",
        "\n",
        "**2. Choose how you’ll measure success on your problem.** Which metrics will you monitor on your validation data?\n",
        "\n",
        "---- How do you determine which metric to use? mse? mae? ----\n",
        "\n",
        "\n",
        "**3. Determine your evaluation protocol:** hold-out validation? K-fold validation? Which portion of the data should you use for validation?\n",
        "\n",
        "**4. Develop a first model that does better than a basic baseline:** a model with statistical power.\n",
        "\n",
        "**5. Develop a model that overfits.** The universal tension in machine learning is between optimization and generalization; the ideal model is one that stands right at the border between underfitting and overfitting; between undercapacity and overcapacity. To figure out where this border lies, first you must cross it.\n",
        "\n",
        "**6. Regularize your model and tune its hyperparameters, based on performance on the validation data.** Repeatedly modify your model, train it, evaluate on your validation data (not the test data, at this point), modify it again, and repeat, until the model is as good as it can get. \n",
        "\n",
        "Iterate on feature engineering: add new features, or remove features that don’t seem to be informative. Once you’ve developed a satisfactory model configuration, you can train your final production model on all the available data (training and validation) and evaluate it one last time on the test set.\n"
      ]
    },
    {
      "metadata": {
        "id": "3kt6bzEcOIaa",
        "colab_type": "text"
      },
      "cell_type": "markdown",
      "source": [
        "## 1. Define the problem at hand and the data on which you'll train"
      ]
    },
    {
      "metadata": {
        "id": "di16k7vpRg67",
        "colab_type": "text"
      },
      "cell_type": "markdown",
      "source": [
        "We'll apply the workflow to a [project from _Python Data Science Handbook_](https://jakevdp.github.io/PythonDataScienceHandbook/05.06-linear-regression.html#Example:-Predicting-Bicycle-Traffic) by Jake VanderPlas:\n",
        "\n",
        "> **Predicting Bicycle Traffic**\n",
        "\n",
        "> As an example, let's take a look at whether we can predict the number of bicycle trips across Seattle's Fremont Bridge based on weather, season, and other factors.\n",
        "\n",
        "> We will join the bike data with another dataset, and try to determine the extent to which weather and seasonal factors—temperature, precipitation, and daylight hours—affect the volume of bicycle traffic through this corridor. Fortunately, the NOAA makes available their daily [weather station data](http://www.ncdc.noaa.gov/cdo-web/search?datasetid=GHCND) (I used station ID USW00024233) and we can easily use Pandas to join the two data sources.\n",
        "\n",
        "> Let's start by loading the two datasets, indexing by date:"
      ]
    },
    {
      "metadata": {
        "id": "19dpb_d0R1A6",
        "colab_type": "text"
      },
      "cell_type": "markdown",
      "source": [
        "So this is a **regression problem**, not a **classification problem**. We'll define the target, choose an evaluation metric, and choose models that are appropriate for regression problems.\n",
        "\n",
        "\n"
      ]
    },
    {
      "metadata": {
        "id": "os1zruXQ30KM",
        "colab_type": "text"
      },
      "cell_type": "markdown",
      "source": [
        "### Download data"
      ]
    },
    {
      "metadata": {
        "id": "5XVu-HSeMDtV",
        "colab_type": "code",
        "outputId": "286ede33-5f6e-4d9f-bdb2-e86aba6ea108",
        "colab": {
          "base_uri": "https://localhost:8080/",
          "height": 69
        }
      },
      "cell_type": "code",
      "source": [
        "!curl -o FremontBridge.csv https://data.seattle.gov/api/views/65db-xm6k/rows.csv?accessType=DOWNLOAD"
      ],
      "execution_count": 0,
      "outputs": [
        {
          "output_type": "stream",
          "text": [
            "  % Total    % Received % Xferd  Average Speed   Time    Time     Time  Current\n",
            "                                 Dload  Upload   Total   Spent    Left  Speed\n",
            "100 1536k    0 1536k    0     0   482k      0 --:--:--  0:00:03 --:--:--  482k\n"
          ],
          "name": "stdout"
        }
      ]
    },
    {
      "metadata": {
        "id": "sih_7mTzMdfr",
        "colab_type": "code",
        "outputId": "4feff088-6a55-4116-c0a8-58d7a8a4f676",
        "colab": {
          "base_uri": "https://localhost:8080/",
          "height": 207
        }
      },
      "cell_type": "code",
      "source": [
        "!wget https://raw.githubusercontent.com/jakevdp/PythonDataScienceHandbook/master/notebooks/data/BicycleWeather.csv"
      ],
      "execution_count": 0,
      "outputs": [
        {
          "output_type": "stream",
          "text": [
            "--2019-01-30 17:33:47--  https://raw.githubusercontent.com/jakevdp/PythonDataScienceHandbook/master/notebooks/data/BicycleWeather.csv\n",
            "Resolving raw.githubusercontent.com (raw.githubusercontent.com)... 151.101.0.133, 151.101.64.133, 151.101.128.133, ...\n",
            "Connecting to raw.githubusercontent.com (raw.githubusercontent.com)|151.101.0.133|:443... connected.\n",
            "HTTP request sent, awaiting response... 200 OK\n",
            "Length: 234945 (229K) [text/plain]\n",
            "Saving to: ‘BicycleWeather.csv’\n",
            "\n",
            "\rBicycleWeather.csv    0%[                    ]       0  --.-KB/s               \rBicycleWeather.csv  100%[===================>] 229.44K  --.-KB/s    in 0.05s   \n",
            "\n",
            "2019-01-30 17:33:48 (4.42 MB/s) - ‘BicycleWeather.csv’ saved [234945/234945]\n",
            "\n"
          ],
          "name": "stdout"
        }
      ]
    },
    {
      "metadata": {
        "id": "9GYm74kD34OQ",
        "colab_type": "text"
      },
      "cell_type": "markdown",
      "source": [
        "### Load data"
      ]
    },
    {
      "metadata": {
        "id": "BfQ7gE28MNdF",
        "colab_type": "code",
        "colab": {}
      },
      "cell_type": "code",
      "source": [
        "# Modified from cells 15, 16, and 20, at\n",
        "# https://jakevdp.github.io/PythonDataScienceHandbook/05.06-linear-regression.html#Example:-Predicting-Bicycle-Traffic\n",
        "\n",
        "import pandas as pd\n",
        "\n",
        "counts = pd.read_csv('FremontBridge.csv', index_col='Date', parse_dates=True, \n",
        "                     infer_datetime_format=True)\n",
        "\n",
        "weather = pd.read_csv('BicycleWeather.csv', index_col='DATE', parse_dates=True, \n",
        "                      infer_datetime_format=True)\n",
        "\n",
        "daily = counts.resample('d').sum() #sum by day, not hour\n",
        "daily['Total'] = daily.sum(axis=1)\n",
        "daily = daily[['Total']] # remove other columns\n",
        "\n",
        "weather_columns = ['PRCP', 'SNOW', 'SNWD', 'TMAX', 'TMIN', 'AWND']\n",
        "daily = daily.join(weather[weather_columns], how='inner')"
      ],
      "execution_count": 0,
      "outputs": []
    },
    {
      "metadata": {
        "id": "5V2Ue-hWjoqm",
        "colab_type": "code",
        "colab": {}
      },
      "cell_type": "code",
      "source": [
        "print(counts.shape)\n",
        "counts.head(48)"
      ],
      "execution_count": 0,
      "outputs": []
    },
    {
      "metadata": {
        "id": "5J31puq_k4zy",
        "colab_type": "code",
        "colab": {}
      },
      "cell_type": "code",
      "source": [
        ""
      ],
      "execution_count": 0,
      "outputs": []
    },
    {
      "metadata": {
        "id": "k0LS9ahWwpOm",
        "colab_type": "code",
        "colab": {
          "base_uri": "https://localhost:8080/",
          "height": 268
        },
        "outputId": "8aa13d43-13ec-4dd6-b25a-86626b13d458"
      },
      "cell_type": "code",
      "source": [
        "plt.scatter(counts.index, counts['Fremont Bridge East Sidewalk'] + counts['Fremont Bridge West Sidewalk'])\n",
        "plt.show()"
      ],
      "execution_count": 90,
      "outputs": [
        {
          "output_type": "display_data",
          "data": {
            "image/png": "[encoded data removed]",
            "text/plain": [
              "<Figure size 432x288 with 1 Axes>"
            ]
          },
          "metadata": {
            "tags": []
          }
        }
      ]
    },
    {
      "metadata": {
        "id": "ksNa6GI9gwxN",
        "colab_type": "code",
        "colab": {
          "base_uri": "https://localhost:8080/",
          "height": 554
        },
        "outputId": "67e03ef9-bb31-40c6-a88c-80bc7da44a2c"
      },
      "cell_type": "code",
      "source": [
        "print(weather.shape)\n",
        "weather.head()"
      ],
      "execution_count": 75,
      "outputs": [
        {
          "output_type": "stream",
          "text": [
            "(1340, 25)\n"
          ],
          "name": "stdout"
        },
        {
          "output_type": "execute_result",
          "data": {
            "text/html": [
              "<div>\n",
              "<style scoped>\n",
              "    .dataframe tbody tr th:only-of-type {\n",
              "        vertical-align: middle;\n",
              "    }\n",
              "\n",
              "    .dataframe tbody tr th {\n",
              "        vertical-align: top;\n",
              "    }\n",
              "\n",
              "    .dataframe thead th {\n",
              "        text-align: right;\n",
              "    }\n",
              "</style>\n",
              "<table border=\"1\" class=\"dataframe\">\n",
              "  <thead>\n",
              "    <tr style=\"text-align: right;\">\n",
              "      <th></th>\n",
              "      <th>STATION</th>\n",
              "      <th>STATION_NAME</th>\n",
              "      <th>PRCP</th>\n",
              "      <th>SNWD</th>\n",
              "      <th>SNOW</th>\n",
              "      <th>TMAX</th>\n",
              "      <th>TMIN</th>\n",
              "      <th>AWND</th>\n",
              "      <th>WDF2</th>\n",
              "      <th>WDF5</th>\n",
              "      <th>...</th>\n",
              "      <th>WT17</th>\n",
              "      <th>WT05</th>\n",
              "      <th>WT02</th>\n",
              "      <th>WT22</th>\n",
              "      <th>WT04</th>\n",
              "      <th>WT13</th>\n",
              "      <th>WT16</th>\n",
              "      <th>WT08</th>\n",
              "      <th>WT18</th>\n",
              "      <th>WT03</th>\n",
              "    </tr>\n",
              "    <tr>\n",
              "      <th>DATE</th>\n",
              "      <th></th>\n",
              "      <th></th>\n",
              "      <th></th>\n",
              "      <th></th>\n",
              "      <th></th>\n",
              "      <th></th>\n",
              "      <th></th>\n",
              "      <th></th>\n",
              "      <th></th>\n",
              "      <th></th>\n",
              "      <th></th>\n",
              "      <th></th>\n",
              "      <th></th>\n",
              "      <th></th>\n",
              "      <th></th>\n",
              "      <th></th>\n",
              "      <th></th>\n",
              "      <th></th>\n",
              "      <th></th>\n",
              "      <th></th>\n",
              "      <th></th>\n",
              "    </tr>\n",
              "  </thead>\n",
              "  <tbody>\n",
              "    <tr>\n",
              "      <th>2012-01-01</th>\n",
              "      <td>GHCND:USW00024233</td>\n",
              "      <td>SEATTLE TACOMA INTERNATIONAL AIRPORT WA US</td>\n",
              "      <td>0</td>\n",
              "      <td>0</td>\n",
              "      <td>0</td>\n",
              "      <td>128</td>\n",
              "      <td>50</td>\n",
              "      <td>47</td>\n",
              "      <td>100</td>\n",
              "      <td>90</td>\n",
              "      <td>...</td>\n",
              "      <td>-9999</td>\n",
              "      <td>-9999</td>\n",
              "      <td>-9999</td>\n",
              "      <td>-9999</td>\n",
              "      <td>-9999</td>\n",
              "      <td>-9999</td>\n",
              "      <td>-9999</td>\n",
              "      <td>-9999</td>\n",
              "      <td>-9999</td>\n",
              "      <td>-9999</td>\n",
              "    </tr>\n",
              "    <tr>\n",
              "      <th>2012-01-02</th>\n",
              "      <td>GHCND:USW00024233</td>\n",
              "      <td>SEATTLE TACOMA INTERNATIONAL AIRPORT WA US</td>\n",
              "      <td>109</td>\n",
              "      <td>0</td>\n",
              "      <td>0</td>\n",
              "      <td>106</td>\n",
              "      <td>28</td>\n",
              "      <td>45</td>\n",
              "      <td>180</td>\n",
              "      <td>200</td>\n",
              "      <td>...</td>\n",
              "      <td>-9999</td>\n",
              "      <td>-9999</td>\n",
              "      <td>-9999</td>\n",
              "      <td>-9999</td>\n",
              "      <td>-9999</td>\n",
              "      <td>1</td>\n",
              "      <td>1</td>\n",
              "      <td>-9999</td>\n",
              "      <td>-9999</td>\n",
              "      <td>-9999</td>\n",
              "    </tr>\n",
              "    <tr>\n",
              "      <th>2012-01-03</th>\n",
              "      <td>GHCND:USW00024233</td>\n",
              "      <td>SEATTLE TACOMA INTERNATIONAL AIRPORT WA US</td>\n",
              "      <td>8</td>\n",
              "      <td>0</td>\n",
              "      <td>0</td>\n",
              "      <td>117</td>\n",
              "      <td>72</td>\n",
              "      <td>23</td>\n",
              "      <td>180</td>\n",
              "      <td>170</td>\n",
              "      <td>...</td>\n",
              "      <td>-9999</td>\n",
              "      <td>-9999</td>\n",
              "      <td>-9999</td>\n",
              "      <td>-9999</td>\n",
              "      <td>-9999</td>\n",
              "      <td>-9999</td>\n",
              "      <td>1</td>\n",
              "      <td>-9999</td>\n",
              "      <td>-9999</td>\n",
              "      <td>-9999</td>\n",
              "    </tr>\n",
              "    <tr>\n",
              "      <th>2012-01-04</th>\n",
              "      <td>GHCND:USW00024233</td>\n",
              "      <td>SEATTLE TACOMA INTERNATIONAL AIRPORT WA US</td>\n",
              "      <td>203</td>\n",
              "      <td>0</td>\n",
              "      <td>0</td>\n",
              "      <td>122</td>\n",
              "      <td>56</td>\n",
              "      <td>47</td>\n",
              "      <td>180</td>\n",
              "      <td>190</td>\n",
              "      <td>...</td>\n",
              "      <td>-9999</td>\n",
              "      <td>-9999</td>\n",
              "      <td>-9999</td>\n",
              "      <td>-9999</td>\n",
              "      <td>-9999</td>\n",
              "      <td>1</td>\n",
              "      <td>1</td>\n",
              "      <td>-9999</td>\n",
              "      <td>-9999</td>\n",
              "      <td>-9999</td>\n",
              "    </tr>\n",
              "    <tr>\n",
              "      <th>2012-01-05</th>\n",
              "      <td>GHCND:USW00024233</td>\n",
              "      <td>SEATTLE TACOMA INTERNATIONAL AIRPORT WA US</td>\n",
              "      <td>13</td>\n",
              "      <td>0</td>\n",
              "      <td>0</td>\n",
              "      <td>89</td>\n",
              "      <td>28</td>\n",
              "      <td>61</td>\n",
              "      <td>200</td>\n",
              "      <td>220</td>\n",
              "      <td>...</td>\n",
              "      <td>-9999</td>\n",
              "      <td>-9999</td>\n",
              "      <td>-9999</td>\n",
              "      <td>-9999</td>\n",
              "      <td>-9999</td>\n",
              "      <td>-9999</td>\n",
              "      <td>1</td>\n",
              "      <td>-9999</td>\n",
              "      <td>-9999</td>\n",
              "      <td>-9999</td>\n",
              "    </tr>\n",
              "  </tbody>\n",
              "</table>\n",
              "<p>5 rows × 25 columns</p>\n",
              "</div>"
            ],
            "text/plain": [
              "                      STATION                                STATION_NAME  \\\n",
              "DATE                                                                        \n",
              "2012-01-01  GHCND:USW00024233  SEATTLE TACOMA INTERNATIONAL AIRPORT WA US   \n",
              "2012-01-02  GHCND:USW00024233  SEATTLE TACOMA INTERNATIONAL AIRPORT WA US   \n",
              "2012-01-03  GHCND:USW00024233  SEATTLE TACOMA INTERNATIONAL AIRPORT WA US   \n",
              "2012-01-04  GHCND:USW00024233  SEATTLE TACOMA INTERNATIONAL AIRPORT WA US   \n",
              "2012-01-05  GHCND:USW00024233  SEATTLE TACOMA INTERNATIONAL AIRPORT WA US   \n",
              "\n",
              "            PRCP  SNWD  SNOW  TMAX  TMIN  AWND  WDF2  WDF5  ...   WT17  WT05  \\\n",
              "DATE                                                        ...                \n",
              "2012-01-01     0     0     0   128    50    47   100    90  ...  -9999 -9999   \n",
              "2012-01-02   109     0     0   106    28    45   180   200  ...  -9999 -9999   \n",
              "2012-01-03     8     0     0   117    72    23   180   170  ...  -9999 -9999   \n",
              "2012-01-04   203     0     0   122    56    47   180   190  ...  -9999 -9999   \n",
              "2012-01-05    13     0     0    89    28    61   200   220  ...  -9999 -9999   \n",
              "\n",
              "            WT02  WT22  WT04  WT13  WT16  WT08  WT18  WT03  \n",
              "DATE                                                        \n",
              "2012-01-01 -9999 -9999 -9999 -9999 -9999 -9999 -9999 -9999  \n",
              "2012-01-02 -9999 -9999 -9999     1     1 -9999 -9999 -9999  \n",
              "2012-01-03 -9999 -9999 -9999 -9999     1 -9999 -9999 -9999  \n",
              "2012-01-04 -9999 -9999 -9999     1     1 -9999 -9999 -9999  \n",
              "2012-01-05 -9999 -9999 -9999 -9999     1 -9999 -9999 -9999  \n",
              "\n",
              "[5 rows x 25 columns]"
            ]
          },
          "metadata": {
            "tags": []
          },
          "execution_count": 75
        }
      ]
    },
    {
      "metadata": {
        "id": "i0YYD6rvypb4",
        "colab_type": "code",
        "colab": {}
      },
      "cell_type": "code",
      "source": [
        "# Make a feature for yesterday's total\n",
        "daily['Total_yesterday'] = daily.Total.shift(1)\n",
        "\n",
        "daily = daily.drop(index=daily.index[0])"
      ],
      "execution_count": 0,
      "outputs": []
    },
    {
      "metadata": {
        "id": "nfo8D4zci2uX",
        "colab_type": "code",
        "colab": {
          "base_uri": "https://localhost:8080/",
          "height": 285
        },
        "outputId": "17a1a619-6554-470c-f24f-ed660495d8da"
      },
      "cell_type": "code",
      "source": [
        "daily.head()"
      ],
      "execution_count": 95,
      "outputs": [
        {
          "output_type": "execute_result",
          "data": {
            "text/html": [
              "<div>\n",
              "<style scoped>\n",
              "    .dataframe tbody tr th:only-of-type {\n",
              "        vertical-align: middle;\n",
              "    }\n",
              "\n",
              "    .dataframe tbody tr th {\n",
              "        vertical-align: top;\n",
              "    }\n",
              "\n",
              "    .dataframe thead th {\n",
              "        text-align: right;\n",
              "    }\n",
              "</style>\n",
              "<table border=\"1\" class=\"dataframe\">\n",
              "  <thead>\n",
              "    <tr style=\"text-align: right;\">\n",
              "      <th></th>\n",
              "      <th>Total</th>\n",
              "      <th>PRCP</th>\n",
              "      <th>SNOW</th>\n",
              "      <th>SNWD</th>\n",
              "      <th>TMAX</th>\n",
              "      <th>TMIN</th>\n",
              "      <th>AWND</th>\n",
              "      <th>Total_yesterday</th>\n",
              "    </tr>\n",
              "  </thead>\n",
              "  <tbody>\n",
              "    <tr>\n",
              "      <th>2012-10-04</th>\n",
              "      <td>3475.0</td>\n",
              "      <td>0</td>\n",
              "      <td>0</td>\n",
              "      <td>0</td>\n",
              "      <td>189</td>\n",
              "      <td>83</td>\n",
              "      <td>65</td>\n",
              "      <td>3521.0</td>\n",
              "    </tr>\n",
              "    <tr>\n",
              "      <th>2012-10-05</th>\n",
              "      <td>3148.0</td>\n",
              "      <td>0</td>\n",
              "      <td>0</td>\n",
              "      <td>0</td>\n",
              "      <td>217</td>\n",
              "      <td>89</td>\n",
              "      <td>57</td>\n",
              "      <td>3475.0</td>\n",
              "    </tr>\n",
              "    <tr>\n",
              "      <th>2012-10-06</th>\n",
              "      <td>2006.0</td>\n",
              "      <td>0</td>\n",
              "      <td>0</td>\n",
              "      <td>0</td>\n",
              "      <td>239</td>\n",
              "      <td>78</td>\n",
              "      <td>51</td>\n",
              "      <td>3148.0</td>\n",
              "    </tr>\n",
              "    <tr>\n",
              "      <th>2012-10-07</th>\n",
              "      <td>2142.0</td>\n",
              "      <td>0</td>\n",
              "      <td>0</td>\n",
              "      <td>0</td>\n",
              "      <td>239</td>\n",
              "      <td>78</td>\n",
              "      <td>13</td>\n",
              "      <td>2006.0</td>\n",
              "    </tr>\n",
              "    <tr>\n",
              "      <th>2012-10-08</th>\n",
              "      <td>3537.0</td>\n",
              "      <td>0</td>\n",
              "      <td>0</td>\n",
              "      <td>0</td>\n",
              "      <td>211</td>\n",
              "      <td>78</td>\n",
              "      <td>19</td>\n",
              "      <td>2142.0</td>\n",
              "    </tr>\n",
              "  </tbody>\n",
              "</table>\n",
              "</div>"
            ],
            "text/plain": [
              "             Total  PRCP  SNOW  SNWD  TMAX  TMIN  AWND  Total_yesterday\n",
              "2012-10-04  3475.0     0     0     0   189    83    65           3521.0\n",
              "2012-10-05  3148.0     0     0     0   217    89    57           3475.0\n",
              "2012-10-06  2006.0     0     0     0   239    78    51           3148.0\n",
              "2012-10-07  2142.0     0     0     0   239    78    13           2006.0\n",
              "2012-10-08  3537.0     0     0     0   211    78    19           2142.0"
            ]
          },
          "metadata": {
            "tags": []
          },
          "execution_count": 95
        }
      ]
    },
    {
      "metadata": {
        "id": "VVB3g4704An5",
        "colab_type": "text"
      },
      "cell_type": "markdown",
      "source": [
        "### First fast look at the data\n",
        "- What's the shape?\n",
        "- What's the date range?\n",
        "- What's the target and the features?"
      ]
    },
    {
      "metadata": {
        "id": "t50E2fTUWBBU",
        "colab_type": "code",
        "outputId": "2cd534c9-b672-492e-b801-9cc96fbd9700",
        "colab": {
          "base_uri": "https://localhost:8080/",
          "height": 302
        }
      },
      "cell_type": "code",
      "source": [
        "print(daily.shape)\n",
        "daily.head()"
      ],
      "execution_count": 96,
      "outputs": [
        {
          "output_type": "stream",
          "text": [
            "(1063, 8)\n"
          ],
          "name": "stdout"
        },
        {
          "output_type": "execute_result",
          "data": {
            "text/html": [
              "<div>\n",
              "<style scoped>\n",
              "    .dataframe tbody tr th:only-of-type {\n",
              "        vertical-align: middle;\n",
              "    }\n",
              "\n",
              "    .dataframe tbody tr th {\n",
              "        vertical-align: top;\n",
              "    }\n",
              "\n",
              "    .dataframe thead th {\n",
              "        text-align: right;\n",
              "    }\n",
              "</style>\n",
              "<table border=\"1\" class=\"dataframe\">\n",
              "  <thead>\n",
              "    <tr style=\"text-align: right;\">\n",
              "      <th></th>\n",
              "      <th>Total</th>\n",
              "      <th>PRCP</th>\n",
              "      <th>SNOW</th>\n",
              "      <th>SNWD</th>\n",
              "      <th>TMAX</th>\n",
              "      <th>TMIN</th>\n",
              "      <th>AWND</th>\n",
              "      <th>Total_yesterday</th>\n",
              "    </tr>\n",
              "  </thead>\n",
              "  <tbody>\n",
              "    <tr>\n",
              "      <th>2012-10-04</th>\n",
              "      <td>3475.0</td>\n",
              "      <td>0</td>\n",
              "      <td>0</td>\n",
              "      <td>0</td>\n",
              "      <td>189</td>\n",
              "      <td>83</td>\n",
              "      <td>65</td>\n",
              "      <td>3521.0</td>\n",
              "    </tr>\n",
              "    <tr>\n",
              "      <th>2012-10-05</th>\n",
              "      <td>3148.0</td>\n",
              "      <td>0</td>\n",
              "      <td>0</td>\n",
              "      <td>0</td>\n",
              "      <td>217</td>\n",
              "      <td>89</td>\n",
              "      <td>57</td>\n",
              "      <td>3475.0</td>\n",
              "    </tr>\n",
              "    <tr>\n",
              "      <th>2012-10-06</th>\n",
              "      <td>2006.0</td>\n",
              "      <td>0</td>\n",
              "      <td>0</td>\n",
              "      <td>0</td>\n",
              "      <td>239</td>\n",
              "      <td>78</td>\n",
              "      <td>51</td>\n",
              "      <td>3148.0</td>\n",
              "    </tr>\n",
              "    <tr>\n",
              "      <th>2012-10-07</th>\n",
              "      <td>2142.0</td>\n",
              "      <td>0</td>\n",
              "      <td>0</td>\n",
              "      <td>0</td>\n",
              "      <td>239</td>\n",
              "      <td>78</td>\n",
              "      <td>13</td>\n",
              "      <td>2006.0</td>\n",
              "    </tr>\n",
              "    <tr>\n",
              "      <th>2012-10-08</th>\n",
              "      <td>3537.0</td>\n",
              "      <td>0</td>\n",
              "      <td>0</td>\n",
              "      <td>0</td>\n",
              "      <td>211</td>\n",
              "      <td>78</td>\n",
              "      <td>19</td>\n",
              "      <td>2142.0</td>\n",
              "    </tr>\n",
              "  </tbody>\n",
              "</table>\n",
              "</div>"
            ],
            "text/plain": [
              "             Total  PRCP  SNOW  SNWD  TMAX  TMIN  AWND  Total_yesterday\n",
              "2012-10-04  3475.0     0     0     0   189    83    65           3521.0\n",
              "2012-10-05  3148.0     0     0     0   217    89    57           3475.0\n",
              "2012-10-06  2006.0     0     0     0   239    78    51           3148.0\n",
              "2012-10-07  2142.0     0     0     0   239    78    13           2006.0\n",
              "2012-10-08  3537.0     0     0     0   211    78    19           2142.0"
            ]
          },
          "metadata": {
            "tags": []
          },
          "execution_count": 96
        }
      ]
    },
    {
      "metadata": {
        "id": "hAHlhrjcx8lR",
        "colab_type": "code",
        "colab": {
          "base_uri": "https://localhost:8080/",
          "height": 190
        },
        "outputId": "8acd8dc9-76ed-4809-8377-b328d0ee49e2"
      },
      "cell_type": "code",
      "source": [
        "daily.tail(3)"
      ],
      "execution_count": 98,
      "outputs": [
        {
          "output_type": "execute_result",
          "data": {
            "text/html": [
              "<div>\n",
              "<style scoped>\n",
              "    .dataframe tbody tr th:only-of-type {\n",
              "        vertical-align: middle;\n",
              "    }\n",
              "\n",
              "    .dataframe tbody tr th {\n",
              "        vertical-align: top;\n",
              "    }\n",
              "\n",
              "    .dataframe thead th {\n",
              "        text-align: right;\n",
              "    }\n",
              "</style>\n",
              "<table border=\"1\" class=\"dataframe\">\n",
              "  <thead>\n",
              "    <tr style=\"text-align: right;\">\n",
              "      <th></th>\n",
              "      <th>Total</th>\n",
              "      <th>PRCP</th>\n",
              "      <th>SNOW</th>\n",
              "      <th>SNWD</th>\n",
              "      <th>TMAX</th>\n",
              "      <th>TMIN</th>\n",
              "      <th>AWND</th>\n",
              "      <th>Total_yesterday</th>\n",
              "    </tr>\n",
              "  </thead>\n",
              "  <tbody>\n",
              "    <tr>\n",
              "      <th>2015-08-30</th>\n",
              "      <td>1213.0</td>\n",
              "      <td>102</td>\n",
              "      <td>0</td>\n",
              "      <td>0</td>\n",
              "      <td>200</td>\n",
              "      <td>128</td>\n",
              "      <td>47</td>\n",
              "      <td>699.0</td>\n",
              "    </tr>\n",
              "    <tr>\n",
              "      <th>2015-08-31</th>\n",
              "      <td>2823.0</td>\n",
              "      <td>0</td>\n",
              "      <td>0</td>\n",
              "      <td>0</td>\n",
              "      <td>189</td>\n",
              "      <td>161</td>\n",
              "      <td>58</td>\n",
              "      <td>1213.0</td>\n",
              "    </tr>\n",
              "    <tr>\n",
              "      <th>2015-09-01</th>\n",
              "      <td>2876.0</td>\n",
              "      <td>58</td>\n",
              "      <td>0</td>\n",
              "      <td>0</td>\n",
              "      <td>194</td>\n",
              "      <td>139</td>\n",
              "      <td>-9999</td>\n",
              "      <td>2823.0</td>\n",
              "    </tr>\n",
              "  </tbody>\n",
              "</table>\n",
              "</div>"
            ],
            "text/plain": [
              "             Total  PRCP  SNOW  SNWD  TMAX  TMIN  AWND  Total_yesterday\n",
              "2015-08-30  1213.0   102     0     0   200   128    47            699.0\n",
              "2015-08-31  2823.0     0     0     0   189   161    58           1213.0\n",
              "2015-09-01  2876.0    58     0     0   194   139 -9999           2823.0"
            ]
          },
          "metadata": {
            "tags": []
          },
          "execution_count": 98
        }
      ]
    },
    {
      "metadata": {
        "id": "XgMvCsaWJR7Q",
        "colab_type": "text"
      },
      "cell_type": "markdown",
      "source": [
        "**Target**\n",
        "- Total : Daily total number of bicycle trips across Seattle's Fremont Bridge\n",
        "\n",
        "**Features**\n",
        "- Date (index) : from 2012-10-04 to 2015-09-01\n",
        "- Total_yesterday : Total trips yesterday\n",
        "- PRCP : Precipitation (1/10 mm)\n",
        "- SNOW : Snowfall (1/10 mm)\n",
        "- SNWD : Snow depth (1/10 mm)\n",
        "- TMAX : Maximum temperature (1/10 Celsius)\n",
        "- TMIN : Minimum temperature (1/10 Celsius)\n",
        "- AWND : Average daily wind speed (1/10 meters per second)"
      ]
    },
    {
      "metadata": {
        "id": "djG1JdutgbnF",
        "colab_type": "code",
        "colab": {
          "base_uri": "https://localhost:8080/",
          "height": 283
        },
        "outputId": "f78058b8-1aae-47e8-a96a-4b673b55fa3c"
      },
      "cell_type": "code",
      "source": [
        "daily.boxplot()"
      ],
      "execution_count": 99,
      "outputs": [
        {
          "output_type": "execute_result",
          "data": {
            "text/plain": [
              "<matplotlib.axes._subplots.AxesSubplot at 0x7fb0c41e2fd0>"
            ]
          },
          "metadata": {
            "tags": []
          },
          "execution_count": 99
        },
        {
          "output_type": "display_data",
          "data": {
            "image/png": "[encoded data removed]",
            "text/plain": [
              "<Figure size 432x288 with 1 Axes>"
            ]
          },
          "metadata": {
            "tags": []
          }
        }
      ]
    },
    {
      "metadata": {
        "id": "lenL-przSYCo",
        "colab_type": "text"
      },
      "cell_type": "markdown",
      "source": [
        "## 2. Choose how you’ll measure success on your problem.\n",
        "\n",
        "Which metrics will you monitor on your validation data?\n",
        "\n",
        "This is a regression problem, so we need to choose a regression [metric](https://scikit-learn.org/stable/modules/model_evaluation.html#common-cases-predefined-values).\n",
        "\n",
        "\n",
        "\n",
        "I'll choose mean absolute error.\n",
        "\n"
      ]
    },
    {
      "metadata": {
        "id": "1TqbomapSyRP",
        "colab_type": "code",
        "colab": {}
      },
      "cell_type": "code",
      "source": [
        "from sklearn.metrics import mean_absolute_error"
      ],
      "execution_count": 0,
      "outputs": []
    },
    {
      "metadata": {
        "id": "e_7LAOXs1ZPJ",
        "colab_type": "code",
        "outputId": "1d9f8e62-3580-4d08-9aa6-8a76cfa3ff5d",
        "colab": {
          "base_uri": "https://localhost:8080/",
          "height": 35
        }
      },
      "cell_type": "code",
      "source": [
        "daily.shape"
      ],
      "execution_count": 101,
      "outputs": [
        {
          "output_type": "execute_result",
          "data": {
            "text/plain": [
              "(1063, 8)"
            ]
          },
          "metadata": {
            "tags": []
          },
          "execution_count": 101
        }
      ]
    },
    {
      "metadata": {
        "id": "IRHrB3rsS5hF",
        "colab_type": "text"
      },
      "cell_type": "markdown",
      "source": [
        "## 3. Determine your evaluation protocol \n",
        "\n",
        "We're doing model selection, hyperparameter optimization, and performance estimation. So generally we have two ideal [options](https://sebastianraschka.com/images/blog/2018/model-evaluation-selection-part4/model-eval-conclusions.jpg) to choose from:\n",
        "\n",
        "- 3-way holdout method (train/validation/test split)\n",
        "- Cross-validation with independent test set\n",
        "\n",
        "I'll choose cross-validation with independent test set. Scikit-learn makes cross-validation convenient for us!\n",
        "\n",
        "Specifically, I will use random shuffled cross validation to train and validate, but I will hold out an \"out-of-time\" test set, from the last 100 days of data:\n",
        "\n",
        "\n",
        "\n"
      ]
    },
    {
      "metadata": {
        "id": "A3xo6HgbPMFm",
        "colab_type": "code",
        "colab": {}
      },
      "cell_type": "code",
      "source": [
        "train = daily[:-100] # everything except the last 100\n",
        "test = daily[-100:] # the last 100 items, part to hold out\n",
        "\n",
        "X_train = train.drop(columns='Total')\n",
        "y_train = train.Total\n",
        "\n",
        "X_test  = test.drop(columns='Total')\n",
        "y_test  = test.Total\n"
      ],
      "execution_count": 0,
      "outputs": []
    },
    {
      "metadata": {
        "id": "vH6IsORQTvTU",
        "colab_type": "text"
      },
      "cell_type": "markdown",
      "source": [
        "## 4. Develop a first model that does better than a basic baseline"
      ]
    },
    {
      "metadata": {
        "id": "DJBs2nQkj7oB",
        "colab_type": "text"
      },
      "cell_type": "markdown",
      "source": [
        "### Look at the target's distribution and descriptive stats"
      ]
    },
    {
      "metadata": {
        "id": "P5peakv9Zs71",
        "colab_type": "code",
        "outputId": "b60fc2db-070a-45d7-d67b-8aabba25d85d",
        "colab": {
          "base_uri": "https://localhost:8080/",
          "height": 351
        }
      },
      "cell_type": "code",
      "source": [
        "import seaborn as sns\n",
        "sns.distplot(y_train);\n"
      ],
      "execution_count": 102,
      "outputs": [
        {
          "output_type": "stream",
          "text": [
            "/usr/local/lib/python3.6/dist-packages/matplotlib/axes/_axes.py:6521: MatplotlibDeprecationWarning: \n",
            "The 'normed' kwarg was deprecated in Matplotlib 2.1 and will be removed in 3.1. Use 'density' instead.\n",
            "  alternative=\"'density'\", removal=\"3.1\")\n"
          ],
          "name": "stderr"
        },
        {
          "output_type": "display_data",
          "data": {
            "image/png": "[encoded data removed]",
            "text/plain": [
              "<Figure size 432x288 with 1 Axes>"
            ]
          },
          "metadata": {
            "tags": []
          }
        }
      ]
    },
    {
      "metadata": {
        "id": "qatofCqCFM4f",
        "colab_type": "code",
        "colab": {
          "base_uri": "https://localhost:8080/",
          "height": 352
        },
        "outputId": "dadf9286-addd-49e5-e4de-d4fb18846946"
      },
      "cell_type": "code",
      "source": [
        "sns.distplot(y_test);"
      ],
      "execution_count": 103,
      "outputs": [
        {
          "output_type": "stream",
          "text": [
            "/usr/local/lib/python3.6/dist-packages/matplotlib/axes/_axes.py:6521: MatplotlibDeprecationWarning: \n",
            "The 'normed' kwarg was deprecated in Matplotlib 2.1 and will be removed in 3.1. Use 'density' instead.\n",
            "  alternative=\"'density'\", removal=\"3.1\")\n"
          ],
          "name": "stderr"
        },
        {
          "output_type": "display_data",
          "data": {
            "image/png": "[encoded data removed]",
            "text/plain": [
              "<Figure size 432x288 with 1 Axes>"
            ]
          },
          "metadata": {
            "tags": []
          }
        }
      ]
    },
    {
      "metadata": {
        "id": "cjCH78pi16u4",
        "colab_type": "code",
        "outputId": "e152a4f1-aa78-4acb-ed42-4832d1e2718e",
        "colab": {
          "base_uri": "https://localhost:8080/",
          "height": 173
        }
      },
      "cell_type": "code",
      "source": [
        "y_train.describe()"
      ],
      "execution_count": 104,
      "outputs": [
        {
          "output_type": "execute_result",
          "data": {
            "text/plain": [
              "count     963.000000\n",
              "mean     2534.329180\n",
              "std      1224.065027\n",
              "min        98.000000\n",
              "25%      1755.000000\n",
              "50%      2381.000000\n",
              "75%      3317.500000\n",
              "max      6088.000000\n",
              "Name: Total, dtype: float64"
            ]
          },
          "metadata": {
            "tags": []
          },
          "execution_count": 104
        }
      ]
    },
    {
      "metadata": {
        "id": "VWb5PpX-16j1",
        "colab_type": "code",
        "colab": {}
      },
      "cell_type": "code",
      "source": [
        ""
      ],
      "execution_count": 0,
      "outputs": []
    },
    {
      "metadata": {
        "id": "fEjxxgV9kExY",
        "colab_type": "text"
      },
      "cell_type": "markdown",
      "source": [
        "### Basic baseline 1"
      ]
    },
    {
      "metadata": {
        "id": "Wss5cY66FVgh",
        "colab_type": "code",
        "colab": {}
      },
      "cell_type": "code",
      "source": [
        "np.full?"
      ],
      "execution_count": 0,
      "outputs": []
    },
    {
      "metadata": {
        "id": "4v545Rw0F61B",
        "colab_type": "code",
        "colab": {
          "base_uri": "https://localhost:8080/",
          "height": 35
        },
        "outputId": "604783d1-f3f9-497f-a9f5-403c28774b6f"
      },
      "cell_type": "code",
      "source": [
        "y_train.shape"
      ],
      "execution_count": 109,
      "outputs": [
        {
          "output_type": "execute_result",
          "data": {
            "text/plain": [
              "(963,)"
            ]
          },
          "metadata": {
            "tags": []
          },
          "execution_count": 109
        }
      ]
    },
    {
      "metadata": {
        "id": "6GepKdQjYcEP",
        "colab_type": "code",
        "outputId": "49c3d5f0-a610-4a41-d7ae-bdd9fe0b7dc9",
        "colab": {
          "base_uri": "https://localhost:8080/",
          "height": 35
        }
      },
      "cell_type": "code",
      "source": [
        "# ASK ABOUT THIS IN AH - what's up with y_pred & the need to fill\n",
        "\n",
        "import numpy as np\n",
        "y_pred = np.full(shape=y_train.shape, fill_value=y_train.mean())\n",
        "mean_absolute_error(y_train, y_pred)"
      ],
      "execution_count": 105,
      "outputs": [
        {
          "output_type": "execute_result",
          "data": {
            "text/plain": [
              "980.8981106765484"
            ]
          },
          "metadata": {
            "tags": []
          },
          "execution_count": 105
        }
      ]
    },
    {
      "metadata": {
        "id": "tN2I_F3FkIHb",
        "colab_type": "text"
      },
      "cell_type": "markdown",
      "source": [
        "### Basic baseline 2"
      ]
    },
    {
      "metadata": {
        "id": "ZW8bhZFtTunV",
        "colab_type": "code",
        "outputId": "3dd1e5c9-e5b4-4c2c-f27d-0a46d8488b89",
        "colab": {
          "base_uri": "https://localhost:8080/",
          "height": 35
        }
      },
      "cell_type": "code",
      "source": [
        "mean_absolute_error(y_train, X_train.Total_yesterday)"
      ],
      "execution_count": 111,
      "outputs": [
        {
          "output_type": "execute_result",
          "data": {
            "text/plain": [
              "708.061266874351"
            ]
          },
          "metadata": {
            "tags": []
          },
          "execution_count": 111
        }
      ]
    },
    {
      "metadata": {
        "id": "Ggf3VpxwkJ0T",
        "colab_type": "text"
      },
      "cell_type": "markdown",
      "source": [
        "### First model that does better than a basic baseline"
      ]
    },
    {
      "metadata": {
        "id": "KfaqL1Ezer2-",
        "colab_type": "text"
      },
      "cell_type": "markdown",
      "source": [
        "https://scikit-learn.org/stable/modules/generated/sklearn.model_selection.cross_validate.html"
      ]
    },
    {
      "metadata": {
        "id": "OeBtU68skfW-",
        "colab_type": "code",
        "outputId": "88849c7f-ced6-4b71-8ab5-b8c182c7beb1",
        "colab": {
          "base_uri": "https://localhost:8080/",
          "height": 210
        }
      },
      "cell_type": "code",
      "source": [
        "from sklearn.linear_model import LinearRegression\n",
        "from sklearn.model_selection import cross_validate\n",
        "\n",
        "#cv=3 is 3 cross validation folds\n",
        "scores = cross_validate(LinearRegression(), X_train, y_train,\n",
        "                        scoring='neg_mean_absolute_error', cv=3,\n",
        "                        return_train_score=True, return_estimator=True)\n",
        "\n",
        "# Scores by default is a dict, that's why you can put it into a df\n",
        "# Can add to end - .rename(columns={'test_score': 'validation_score'})\n",
        "pd.DataFrame(scores)"
      ],
      "execution_count": 112,
      "outputs": [
        {
          "output_type": "execute_result",
          "data": {
            "text/html": [
              "<div>\n",
              "<style scoped>\n",
              "    .dataframe tbody tr th:only-of-type {\n",
              "        vertical-align: middle;\n",
              "    }\n",
              "\n",
              "    .dataframe tbody tr th {\n",
              "        vertical-align: top;\n",
              "    }\n",
              "\n",
              "    .dataframe thead th {\n",
              "        text-align: right;\n",
              "    }\n",
              "</style>\n",
              "<table border=\"1\" class=\"dataframe\">\n",
              "  <thead>\n",
              "    <tr style=\"text-align: right;\">\n",
              "      <th></th>\n",
              "      <th>estimator</th>\n",
              "      <th>fit_time</th>\n",
              "      <th>score_time</th>\n",
              "      <th>test_score</th>\n",
              "      <th>train_score</th>\n",
              "    </tr>\n",
              "  </thead>\n",
              "  <tbody>\n",
              "    <tr>\n",
              "      <th>0</th>\n",
              "      <td>LinearRegression(copy_X=True, fit_intercept=Tr...</td>\n",
              "      <td>0.004561</td>\n",
              "      <td>0.002059</td>\n",
              "      <td>-297.692524</td>\n",
              "      <td>-294.532315</td>\n",
              "    </tr>\n",
              "    <tr>\n",
              "      <th>1</th>\n",
              "      <td>LinearRegression(copy_X=True, fit_intercept=Tr...</td>\n",
              "      <td>0.002604</td>\n",
              "      <td>0.001555</td>\n",
              "      <td>-300.419037</td>\n",
              "      <td>-283.779461</td>\n",
              "    </tr>\n",
              "    <tr>\n",
              "      <th>2</th>\n",
              "      <td>LinearRegression(copy_X=True, fit_intercept=Tr...</td>\n",
              "      <td>0.002650</td>\n",
              "      <td>0.001576</td>\n",
              "      <td>-322.640378</td>\n",
              "      <td>-283.509114</td>\n",
              "    </tr>\n",
              "  </tbody>\n",
              "</table>\n",
              "</div>"
            ],
            "text/plain": [
              "                                           estimator  fit_time  score_time  \\\n",
              "0  LinearRegression(copy_X=True, fit_intercept=Tr...  0.004561    0.002059   \n",
              "1  LinearRegression(copy_X=True, fit_intercept=Tr...  0.002604    0.001555   \n",
              "2  LinearRegression(copy_X=True, fit_intercept=Tr...  0.002650    0.001576   \n",
              "\n",
              "   test_score  train_score  \n",
              "0 -297.692524  -294.532315  \n",
              "1 -300.419037  -283.779461  \n",
              "2 -322.640378  -283.509114  "
            ]
          },
          "metadata": {
            "tags": []
          },
          "execution_count": 112
        }
      ]
    },
    {
      "metadata": {
        "id": "Aixdh9HsIbqI",
        "colab_type": "code",
        "colab": {}
      },
      "cell_type": "code",
      "source": [
        "?cross_validate"
      ],
      "execution_count": 0,
      "outputs": []
    },
    {
      "metadata": {
        "id": "DGQBptj9LKpp",
        "colab_type": "text"
      },
      "cell_type": "markdown",
      "source": [
        "What is the neg_mean_a_e again? Does it mean that since it is a decreasing value metric, we create |mae| to.....\n",
        "\n",
        "[Neg_mean_absolute_error](https://www.kaggle.com/dansbecker/cross-validation) -\n",
        "It is a little surprising that we specify negative mean absolute error in this case. Scikit-learn has a convention where all metrics are defined so a high number is better. Using negatives here allows them to be consistent with that convention, though negative MAE is almost unheard of elsewhere.\n",
        "\n",
        "\n",
        "####Scoring - This specifies what measure of model quality to report."
      ]
    },
    {
      "metadata": {
        "id": "VD2lhyd74LBa",
        "colab_type": "code",
        "outputId": "1e69b6c6-1eaa-483f-e347-fbd2b91a09d2",
        "colab": {
          "base_uri": "https://localhost:8080/",
          "height": 777
        }
      },
      "cell_type": "code",
      "source": [
        "#cv=3 is 3 cross validation folds\n",
        "scores = cross_validate(LinearRegression(), X_train, y_train,\n",
        "                        scoring='neg_mean_absolute_error', cv=15,\n",
        "                        return_train_score=True, return_estimator=True)\n",
        "\n",
        "# Scores by default is a dict, that's why you can put it into a df\n",
        "\n",
        "# Can add to end - .rename(columns={'test_score': 'validation_score'})\n",
        "pd.DataFrame(scores)\n"
      ],
      "execution_count": 125,
      "outputs": [
        {
          "output_type": "execute_result",
          "data": {
            "text/html": [
              "<div>\n",
              "<style scoped>\n",
              "    .dataframe tbody tr th:only-of-type {\n",
              "        vertical-align: middle;\n",
              "    }\n",
              "\n",
              "    .dataframe tbody tr th {\n",
              "        vertical-align: top;\n",
              "    }\n",
              "\n",
              "    .dataframe thead th {\n",
              "        text-align: right;\n",
              "    }\n",
              "</style>\n",
              "<table border=\"1\" class=\"dataframe\">\n",
              "  <thead>\n",
              "    <tr style=\"text-align: right;\">\n",
              "      <th></th>\n",
              "      <th>estimator</th>\n",
              "      <th>fit_time</th>\n",
              "      <th>score_time</th>\n",
              "      <th>test_score</th>\n",
              "      <th>train_score</th>\n",
              "    </tr>\n",
              "  </thead>\n",
              "  <tbody>\n",
              "    <tr>\n",
              "      <th>0</th>\n",
              "      <td>LinearRegression(copy_X=True, fit_intercept=Tr...</td>\n",
              "      <td>0.009930</td>\n",
              "      <td>0.002100</td>\n",
              "      <td>-214.135332</td>\n",
              "      <td>-295.560810</td>\n",
              "    </tr>\n",
              "    <tr>\n",
              "      <th>1</th>\n",
              "      <td>LinearRegression(copy_X=True, fit_intercept=Tr...</td>\n",
              "      <td>0.005935</td>\n",
              "      <td>0.001424</td>\n",
              "      <td>-274.899934</td>\n",
              "      <td>-291.439793</td>\n",
              "    </tr>\n",
              "    <tr>\n",
              "      <th>2</th>\n",
              "      <td>LinearRegression(copy_X=True, fit_intercept=Tr...</td>\n",
              "      <td>0.006164</td>\n",
              "      <td>0.001466</td>\n",
              "      <td>-257.822280</td>\n",
              "      <td>-292.047563</td>\n",
              "    </tr>\n",
              "    <tr>\n",
              "      <th>3</th>\n",
              "      <td>LinearRegression(copy_X=True, fit_intercept=Tr...</td>\n",
              "      <td>0.005897</td>\n",
              "      <td>0.001542</td>\n",
              "      <td>-434.702862</td>\n",
              "      <td>-277.475254</td>\n",
              "    </tr>\n",
              "    <tr>\n",
              "      <th>4</th>\n",
              "      <td>LinearRegression(copy_X=True, fit_intercept=Tr...</td>\n",
              "      <td>0.006242</td>\n",
              "      <td>0.001524</td>\n",
              "      <td>-306.080120</td>\n",
              "      <td>-290.833766</td>\n",
              "    </tr>\n",
              "    <tr>\n",
              "      <th>5</th>\n",
              "      <td>LinearRegression(copy_X=True, fit_intercept=Tr...</td>\n",
              "      <td>0.006158</td>\n",
              "      <td>0.002327</td>\n",
              "      <td>-236.114667</td>\n",
              "      <td>-292.465171</td>\n",
              "    </tr>\n",
              "    <tr>\n",
              "      <th>6</th>\n",
              "      <td>LinearRegression(copy_X=True, fit_intercept=Tr...</td>\n",
              "      <td>0.006562</td>\n",
              "      <td>0.001621</td>\n",
              "      <td>-312.995016</td>\n",
              "      <td>-288.924134</td>\n",
              "    </tr>\n",
              "    <tr>\n",
              "      <th>7</th>\n",
              "      <td>LinearRegression(copy_X=True, fit_intercept=Tr...</td>\n",
              "      <td>0.006181</td>\n",
              "      <td>0.001585</td>\n",
              "      <td>-215.409791</td>\n",
              "      <td>-295.539786</td>\n",
              "    </tr>\n",
              "    <tr>\n",
              "      <th>8</th>\n",
              "      <td>LinearRegression(copy_X=True, fit_intercept=Tr...</td>\n",
              "      <td>0.006247</td>\n",
              "      <td>0.001588</td>\n",
              "      <td>-276.869677</td>\n",
              "      <td>-288.900690</td>\n",
              "    </tr>\n",
              "    <tr>\n",
              "      <th>9</th>\n",
              "      <td>LinearRegression(copy_X=True, fit_intercept=Tr...</td>\n",
              "      <td>0.006208</td>\n",
              "      <td>0.001701</td>\n",
              "      <td>-485.030860</td>\n",
              "      <td>-273.537228</td>\n",
              "    </tr>\n",
              "    <tr>\n",
              "      <th>10</th>\n",
              "      <td>LinearRegression(copy_X=True, fit_intercept=Tr...</td>\n",
              "      <td>0.005963</td>\n",
              "      <td>0.001770</td>\n",
              "      <td>-359.763180</td>\n",
              "      <td>-284.823918</td>\n",
              "    </tr>\n",
              "    <tr>\n",
              "      <th>11</th>\n",
              "      <td>LinearRegression(copy_X=True, fit_intercept=Tr...</td>\n",
              "      <td>0.006223</td>\n",
              "      <td>0.002785</td>\n",
              "      <td>-299.414806</td>\n",
              "      <td>-289.370696</td>\n",
              "    </tr>\n",
              "    <tr>\n",
              "      <th>12</th>\n",
              "      <td>LinearRegression(copy_X=True, fit_intercept=Tr...</td>\n",
              "      <td>0.005745</td>\n",
              "      <td>0.001514</td>\n",
              "      <td>-281.868786</td>\n",
              "      <td>-290.604074</td>\n",
              "    </tr>\n",
              "    <tr>\n",
              "      <th>13</th>\n",
              "      <td>LinearRegression(copy_X=True, fit_intercept=Tr...</td>\n",
              "      <td>0.006186</td>\n",
              "      <td>0.001511</td>\n",
              "      <td>-277.557042</td>\n",
              "      <td>-291.354214</td>\n",
              "    </tr>\n",
              "    <tr>\n",
              "      <th>14</th>\n",
              "      <td>LinearRegression(copy_X=True, fit_intercept=Tr...</td>\n",
              "      <td>0.006888</td>\n",
              "      <td>0.001511</td>\n",
              "      <td>-370.344985</td>\n",
              "      <td>-283.017531</td>\n",
              "    </tr>\n",
              "  </tbody>\n",
              "</table>\n",
              "</div>"
            ],
            "text/plain": [
              "                                            estimator  fit_time  score_time  \\\n",
              "0   LinearRegression(copy_X=True, fit_intercept=Tr...  0.009930    0.002100   \n",
              "1   LinearRegression(copy_X=True, fit_intercept=Tr...  0.005935    0.001424   \n",
              "2   LinearRegression(copy_X=True, fit_intercept=Tr...  0.006164    0.001466   \n",
              "3   LinearRegression(copy_X=True, fit_intercept=Tr...  0.005897    0.001542   \n",
              "4   LinearRegression(copy_X=True, fit_intercept=Tr...  0.006242    0.001524   \n",
              "5   LinearRegression(copy_X=True, fit_intercept=Tr...  0.006158    0.002327   \n",
              "6   LinearRegression(copy_X=True, fit_intercept=Tr...  0.006562    0.001621   \n",
              "7   LinearRegression(copy_X=True, fit_intercept=Tr...  0.006181    0.001585   \n",
              "8   LinearRegression(copy_X=True, fit_intercept=Tr...  0.006247    0.001588   \n",
              "9   LinearRegression(copy_X=True, fit_intercept=Tr...  0.006208    0.001701   \n",
              "10  LinearRegression(copy_X=True, fit_intercept=Tr...  0.005963    0.001770   \n",
              "11  LinearRegression(copy_X=True, fit_intercept=Tr...  0.006223    0.002785   \n",
              "12  LinearRegression(copy_X=True, fit_intercept=Tr...  0.005745    0.001514   \n",
              "13  LinearRegression(copy_X=True, fit_intercept=Tr...  0.006186    0.001511   \n",
              "14  LinearRegression(copy_X=True, fit_intercept=Tr...  0.006888    0.001511   \n",
              "\n",
              "    test_score  train_score  \n",
              "0  -214.135332  -295.560810  \n",
              "1  -274.899934  -291.439793  \n",
              "2  -257.822280  -292.047563  \n",
              "3  -434.702862  -277.475254  \n",
              "4  -306.080120  -290.833766  \n",
              "5  -236.114667  -292.465171  \n",
              "6  -312.995016  -288.924134  \n",
              "7  -215.409791  -295.539786  \n",
              "8  -276.869677  -288.900690  \n",
              "9  -485.030860  -273.537228  \n",
              "10 -359.763180  -284.823918  \n",
              "11 -299.414806  -289.370696  \n",
              "12 -281.868786  -290.604074  \n",
              "13 -277.557042  -291.354214  \n",
              "14 -370.344985  -283.017531  "
            ]
          },
          "metadata": {
            "tags": []
          },
          "execution_count": 125
        }
      ]
    },
    {
      "metadata": {
        "id": "Ub1BChULOHB-",
        "colab_type": "text"
      },
      "cell_type": "markdown",
      "source": [
        "[https://scikit-learn.org/stable/modules/generated/sklearn.model_selection.cross_validate.html](https://scikit-learn.org/stable/modules/generated/sklearn.model_selection.cross_validate.html)\n",
        "\n",
        "\n",
        "**scores **: dict of float arrays of shape=(n_splits,)\n",
        "Array of scores of the estimator for each run of the cross validation.\n",
        "\n",
        "A dict of arrays containing the score/time arrays for each scorer is returned. The possible keys for this dict are:\n",
        "\n",
        "**test_score**\n",
        "The score array for test scores on each cv split.\n",
        "\n",
        "**train_score**\n",
        "The score array for train scores on each cv split. This is available only if return_train_score parameter is True.\n",
        "\n",
        "**fit_time**\n",
        "The time for fitting the estimator on the train set for each cv split.\n",
        "\n",
        "**score_time**\n",
        "The time for scoring the estimator on the test set for each cv split. (Note time for scoring on the train set is not included even if return_train_score is set to True\n",
        "\n",
        "**estimator**\n",
        "The estimator objects for each cv split. This is available only if return_estimator parameter is set to True."
      ]
    },
    {
      "metadata": {
        "id": "AhOq5_SUNzLn",
        "colab_type": "code",
        "colab": {
          "base_uri": "https://localhost:8080/",
          "height": 35
        },
        "outputId": "51e9e58e-502d-407f-e385-590178786916"
      },
      "cell_type": "code",
      "source": [
        "scores['fit_time'].mean()"
      ],
      "execution_count": 135,
      "outputs": [
        {
          "output_type": "execute_result",
          "data": {
            "text/plain": [
              "0.0064351558685302734"
            ]
          },
          "metadata": {
            "tags": []
          },
          "execution_count": 135
        }
      ]
    },
    {
      "metadata": {
        "id": "R3_wAVH33u_L",
        "colab_type": "code",
        "outputId": "ea157285-1062-4931-cec7-5e6b17009d63",
        "colab": {
          "base_uri": "https://localhost:8080/",
          "height": 35
        }
      },
      "cell_type": "code",
      "source": [
        "scores['test_score'].mean()"
      ],
      "execution_count": 136,
      "outputs": [
        {
          "output_type": "execute_result",
          "data": {
            "text/plain": [
              "-306.867289177137"
            ]
          },
          "metadata": {
            "tags": []
          },
          "execution_count": 136
        }
      ]
    },
    {
      "metadata": {
        "id": "eGeksxUaKxwA",
        "colab_type": "code",
        "colab": {}
      },
      "cell_type": "code",
      "source": [
        "?model.intercept_"
      ],
      "execution_count": 0,
      "outputs": []
    },
    {
      "metadata": {
        "id": "0fqs6zEtOq3w",
        "colab_type": "text"
      },
      "cell_type": "markdown",
      "source": [
        "What in the world am I looking at?\n",
        "\n",
        "**╲╱ ╲╱ ╲╱ ╲╱ ╲╱ ╲╱ ╲╱ ╲╱ ╲╱ ╲╱ ╲╱ ╲╱ ╲╱ ╲╱ ╲╱ ╲╱ **"
      ]
    },
    {
      "metadata": {
        "id": "NzqZ84035N7V",
        "colab_type": "code",
        "outputId": "4e0b6d37-e69f-46ae-d6be-3c88b17d033f",
        "colab": {
          "base_uri": "https://localhost:8080/",
          "height": 5976
        }
      },
      "cell_type": "code",
      "source": [
        "for i, model in enumerate(scores['estimator']):\n",
        "    coefficients = model.coef_\n",
        "    intercept = model.intercept_\n",
        "    feature_names = X_train.columns\n",
        "    \n",
        "    print('Model from cross validation fold #' + str(i))\n",
        "    print('Intercept', model.intercept_)\n",
        "    print(pd.Series(coefficients, feature_names).to_string())\n",
        "    print('\\n')"
      ],
      "execution_count": 137,
      "outputs": [
        {
          "output_type": "stream",
          "text": [
            "Model from cross validation fold #0\n",
            "Intercept -19.206065626531654\n",
            "PRCP               -585.483816\n",
            "SNOW                 -0.002582\n",
            "SNWD                 -1.585453\n",
            "TMAX                 63.452718\n",
            "TMIN                -37.533582\n",
            "AWND                 -1.744314\n",
            "Total_yesterday       0.288822\n",
            "Mon                 775.873072\n",
            "Tue                 443.589607\n",
            "Wed                 378.446311\n",
            "Thu                 287.350470\n",
            "Fri                  51.932815\n",
            "Sat               -1109.954216\n",
            "Sun                -827.238061\n",
            "holiday           -1001.812962\n",
            "daylight_hrs         74.480466\n",
            "Temp (C)             12.959568\n",
            "dry day             307.263027\n",
            "annual               59.630967\n",
            "\n",
            "\n",
            "Model from cross validation fold #1\n",
            "Intercept 37.21850246002077\n",
            "PRCP               -561.713771\n",
            "SNOW                 -0.001805\n",
            "SNWD                 -2.137802\n",
            "TMAX                 65.275429\n",
            "TMIN                -39.070543\n",
            "AWND                 -1.629719\n",
            "Total_yesterday       0.283665\n",
            "Mon                 796.628235\n",
            "Tue                 449.672158\n",
            "Wed                 389.969950\n",
            "Thu                 283.135573\n",
            "Fri                  57.347781\n",
            "Sat               -1132.968326\n",
            "Sun                -843.785371\n",
            "holiday            -989.377537\n",
            "daylight_hrs         71.011597\n",
            "Temp (C)             13.102443\n",
            "dry day             314.795161\n",
            "annual               42.121754\n",
            "\n",
            "\n",
            "Model from cross validation fold #2\n",
            "Intercept 46.08086292803864\n",
            "PRCP               -584.827831\n",
            "SNOW                 -0.000618\n",
            "SNWD                 -1.895194\n",
            "TMAX                 62.451568\n",
            "TMIN                -36.173377\n",
            "AWND                 -1.473484\n",
            "Total_yesterday       0.296249\n",
            "Mon                 808.362632\n",
            "Tue                 444.272379\n",
            "Wed                 380.383891\n",
            "Thu                 282.236296\n",
            "Fri                  43.565172\n",
            "Sat               -1134.588539\n",
            "Sun                -824.231831\n",
            "holiday           -1001.676094\n",
            "daylight_hrs         70.867409\n",
            "Temp (C)             13.139096\n",
            "dry day             301.250929\n",
            "annual               35.942857\n",
            "\n",
            "\n",
            "Model from cross validation fold #3\n",
            "Intercept 50.6986152419654\n",
            "PRCP               -540.571218\n",
            "SNOW                 -0.004089\n",
            "SNWD                 -1.791375\n",
            "TMAX                 60.706275\n",
            "TMIN                -33.280757\n",
            "AWND                 -1.669685\n",
            "Total_yesterday       0.298224\n",
            "Mon                 785.827173\n",
            "Tue                 423.809740\n",
            "Wed                 354.564925\n",
            "Thu                 270.429944\n",
            "Fri                  31.471555\n",
            "Sat               -1074.906143\n",
            "Sun                -791.197195\n",
            "holiday            -928.865744\n",
            "daylight_hrs         66.272236\n",
            "Temp (C)             13.712759\n",
            "dry day             312.646690\n",
            "annual               52.964744\n",
            "\n",
            "\n",
            "Model from cross validation fold #4\n",
            "Intercept 12.321416762315494\n",
            "PRCP               -569.497580\n",
            "SNOW                 -0.001078\n",
            "SNWD                 -1.613562\n",
            "TMAX                 65.817717\n",
            "TMIN                -36.698415\n",
            "AWND                 -2.154489\n",
            "Total_yesterday       0.284001\n",
            "Mon                 780.100621\n",
            "Tue                 432.127825\n",
            "Wed                 372.702358\n",
            "Thu                 283.227741\n",
            "Fri                  55.461153\n",
            "Sat               -1109.669152\n",
            "Sun                -813.950547\n",
            "holiday           -1018.856250\n",
            "daylight_hrs         74.789600\n",
            "Temp (C)             14.559651\n",
            "dry day             296.340165\n",
            "annual               26.299999\n",
            "\n",
            "\n",
            "Model from cross validation fold #5\n",
            "Intercept 44.50082324697905\n",
            "PRCP               -559.256925\n",
            "SNOW                 -0.003287\n",
            "SNWD                 -1.596296\n",
            "TMAX                 62.715945\n",
            "TMIN                -34.253719\n",
            "AWND                 -1.851789\n",
            "Total_yesterday       0.294264\n",
            "Mon                 786.629412\n",
            "Tue                 433.428489\n",
            "Wed                 364.277292\n",
            "Thu                 272.932230\n",
            "Fri                  52.095490\n",
            "Sat               -1102.032880\n",
            "Sun                -807.330033\n",
            "holiday            -990.274133\n",
            "daylight_hrs         68.094716\n",
            "Temp (C)             14.231113\n",
            "dry day             308.082131\n",
            "annual               41.556807\n",
            "\n",
            "\n",
            "Model from cross validation fold #6\n",
            "Intercept 63.54014935366149\n",
            "PRCP               -559.136988\n",
            "SNOW                 -0.001824\n",
            "SNWD                 -1.960309\n",
            "TMAX                 65.866765\n",
            "TMIN                -40.724684\n",
            "AWND                 -2.414728\n",
            "Total_yesterday       0.284408\n",
            "Mon                 760.493505\n",
            "Tue                 459.904611\n",
            "Wed                 379.447365\n",
            "Thu                 292.489459\n",
            "Fri                  57.802167\n",
            "Sat               -1120.578969\n",
            "Sun                -829.558137\n",
            "holiday            -940.977352\n",
            "daylight_hrs         71.332124\n",
            "Temp (C)             12.571040\n",
            "dry day             311.115370\n",
            "annual               45.843618\n",
            "\n",
            "\n",
            "Model from cross validation fold #7\n",
            "Intercept 29.128504890631575\n",
            "PRCP               -554.291680\n",
            "SNOW                 -0.003076\n",
            "SNWD                  5.418506\n",
            "TMAX                 63.909265\n",
            "TMIN                -37.551747\n",
            "AWND                 -2.350545\n",
            "Total_yesterday       0.293425\n",
            "Mon                 797.056092\n",
            "Tue                 440.430816\n",
            "Wed                 368.155759\n",
            "Thu                 278.559138\n",
            "Fri                  48.725472\n",
            "Sat               -1117.306422\n",
            "Sun                -815.620855\n",
            "holiday            -996.449414\n",
            "daylight_hrs         71.788625\n",
            "Temp (C)             13.178759\n",
            "dry day             308.156131\n",
            "annual               43.777548\n",
            "\n",
            "\n",
            "Model from cross validation fold #8\n",
            "Intercept 47.33748126956107\n",
            "PRCP               -564.596350\n",
            "SNOW                 -0.001902\n",
            "SNWD                 -2.022448\n",
            "TMAX                 61.512571\n",
            "TMIN                -35.277277\n",
            "AWND                 -1.760697\n",
            "Total_yesterday       0.300954\n",
            "Mon                 787.054622\n",
            "Tue                 447.262560\n",
            "Wed                 364.079335\n",
            "Thu                 273.503795\n",
            "Fri                  42.490194\n",
            "Sat               -1107.337661\n",
            "Sun                -807.052844\n",
            "holiday            -972.653532\n",
            "daylight_hrs         69.965859\n",
            "Temp (C)             13.117647\n",
            "dry day             285.554414\n",
            "annual               44.168676\n",
            "\n",
            "\n",
            "Model from cross validation fold #9\n",
            "Intercept 154.48425783410084\n",
            "PRCP               -571.803556\n",
            "SNOW                 -0.002102\n",
            "SNWD                 -2.035564\n",
            "TMAX                 63.064076\n",
            "TMIN                -34.622326\n",
            "AWND                 -2.036653\n",
            "Total_yesterday       0.283057\n",
            "Mon                 768.318873\n",
            "Tue                 406.528309\n",
            "Wed                 359.231682\n",
            "Thu                 289.031164\n",
            "Fri                  55.166715\n",
            "Sat               -1077.818182\n",
            "Sun                -800.458562\n",
            "holiday            -977.525194\n",
            "daylight_hrs         61.497678\n",
            "Temp (C)             14.220875\n",
            "dry day             277.859952\n",
            "annual               39.551289\n",
            "\n",
            "\n",
            "Model from cross validation fold #10\n",
            "Intercept 8.414442721766136\n",
            "PRCP               -552.855962\n",
            "SNOW                 -0.003429\n",
            "SNWD                 -1.682363\n",
            "TMAX                 66.275642\n",
            "TMIN                -38.383537\n",
            "AWND                 -1.710554\n",
            "Total_yesterday       0.295462\n",
            "Mon                 772.102713\n",
            "Tue                 408.526404\n",
            "Wed                 368.499270\n",
            "Thu                 260.869115\n",
            "Fri                  55.033547\n",
            "Sat               -1075.469522\n",
            "Sun                -789.561527\n",
            "holiday            -945.477238\n",
            "daylight_hrs         68.932033\n",
            "Temp (C)             13.946053\n",
            "dry day             295.116937\n",
            "annual               48.890010\n",
            "\n",
            "\n",
            "Model from cross validation fold #11\n",
            "Intercept 6.889335030361508\n",
            "PRCP               -554.017598\n",
            "SNOW                 -0.002955\n",
            "SNWD                 -1.906390\n",
            "TMAX                 65.656774\n",
            "TMIN                -40.652190\n",
            "AWND                 -1.921698\n",
            "Total_yesterday       0.294371\n",
            "Mon                 773.608206\n",
            "Tue                 426.583938\n",
            "Wed                 372.022513\n",
            "Thu                 277.340061\n",
            "Fri                  44.702295\n",
            "Sat               -1096.838496\n",
            "Sun                -797.418516\n",
            "holiday           -1054.697336\n",
            "daylight_hrs         74.311777\n",
            "Temp (C)             12.502292\n",
            "dry day             298.824495\n",
            "annual               31.577156\n",
            "\n",
            "\n",
            "Model from cross validation fold #12\n",
            "Intercept 45.77966241059812\n",
            "PRCP               -541.698476\n",
            "SNOW                 -0.007228\n",
            "SNWD                 -1.771552\n",
            "TMAX                 65.694785\n",
            "TMIN                -39.333853\n",
            "AWND                 -1.300810\n",
            "Total_yesterday       0.279658\n",
            "Mon                 773.912471\n",
            "Tue                 451.414473\n",
            "Wed                 393.726025\n",
            "Thu                 292.881365\n",
            "Fri                  53.706999\n",
            "Sat               -1130.592130\n",
            "Sun                -835.049203\n",
            "holiday            -936.306526\n",
            "daylight_hrs         67.311486\n",
            "Temp (C)             13.180466\n",
            "dry day             326.476189\n",
            "annual               61.994607\n",
            "\n",
            "\n",
            "Model from cross validation fold #13\n",
            "Intercept 49.49699438644393\n",
            "PRCP               -587.880145\n",
            "SNOW                 -0.002226\n",
            "SNWD                 -1.782016\n",
            "TMAX                 63.715791\n",
            "TMIN                -38.200300\n",
            "AWND                 -2.275453\n",
            "Total_yesterday       0.298826\n",
            "Mon                 807.769809\n",
            "Tue                 439.744824\n",
            "Wed                 383.942918\n",
            "Thu                 283.341659\n",
            "Fri                  49.998646\n",
            "Sat               -1135.574586\n",
            "Sun                -829.223270\n",
            "holiday           -1029.818028\n",
            "daylight_hrs         71.109471\n",
            "Temp (C)             12.757745\n",
            "dry day             295.525172\n",
            "annual               45.423368\n",
            "\n",
            "\n",
            "Model from cross validation fold #14\n",
            "Intercept 3.3028756873331986\n",
            "PRCP               -566.084001\n",
            "SNOW                 -0.000006\n",
            "SNWD                 -2.532461\n",
            "TMAX                 59.998690\n",
            "TMIN                -35.748474\n",
            "AWND                 -1.707894\n",
            "Total_yesterday       0.314391\n",
            "Mon                 795.258899\n",
            "Tue                 449.139359\n",
            "Wed                 358.593366\n",
            "Thu                 249.838959\n",
            "Fri                  22.911618\n",
            "Sat               -1099.769245\n",
            "Sun                -775.972956\n",
            "holiday            -966.849333\n",
            "daylight_hrs         73.671553\n",
            "Temp (C)             12.125108\n",
            "dry day             280.580209\n",
            "annual               56.212829\n",
            "\n",
            "\n"
          ],
          "name": "stdout"
        }
      ]
    },
    {
      "metadata": {
        "id": "ZuG_haw76WPL",
        "colab_type": "code",
        "outputId": "870bce0e-e684-49ca-cf5f-ce4cfb55bc58",
        "colab": {
          "base_uri": "https://localhost:8080/",
          "height": 795
        }
      },
      "cell_type": "code",
      "source": [
        "import statsmodels.api as sm\n",
        "model = sm.OLS(y_train, sm.add_constant(X_train))\n",
        "print(model.fit().summary())"
      ],
      "execution_count": 138,
      "outputs": [
        {
          "output_type": "stream",
          "text": [
            "                            OLS Regression Results                            \n",
            "==============================================================================\n",
            "Dep. Variable:                  Total   R-squared:                       0.902\n",
            "Model:                            OLS   Adj. R-squared:                  0.901\n",
            "Method:                 Least Squares   F-statistic:                     513.8\n",
            "Date:                Thu, 31 Jan 2019   Prob (F-statistic):               0.00\n",
            "Time:                        00:09:37   Log-Likelihood:                -7092.6\n",
            "No. Observations:                 963   AIC:                         1.422e+04\n",
            "Df Residuals:                     945   BIC:                         1.431e+04\n",
            "Df Model:                          17                                         \n",
            "Covariance Type:            nonrobust                                         \n",
            "===================================================================================\n",
            "                      coef    std err          t      P>|t|      [0.025      0.975]\n",
            "-----------------------------------------------------------------------------------\n",
            "const              33.0481     66.293      0.499      0.618     -97.051     163.147\n",
            "PRCP             -562.6226     56.568     -9.946      0.000    -673.636    -451.609\n",
            "SNOW               -0.0025      0.020     -0.129      0.897      -0.041       0.036\n",
            "SNWD               -1.8308      4.642     -0.394      0.693     -10.941       7.279\n",
            "TMAX               63.6645      4.785     13.306      0.000      54.275      73.054\n",
            "TMIN              -37.1413      5.413     -6.862      0.000     -47.763     -26.519\n",
            "AWND               -1.8502      0.910     -2.033      0.042      -3.637      -0.064\n",
            "Total_yesterday     0.2934      0.022     13.630      0.000       0.251       0.336\n",
            "Mon               790.2012     41.051     19.249      0.000     709.640     870.763\n",
            "Tue               441.4649     32.982     13.385      0.000     376.739     506.191\n",
            "Wed               376.8835     33.935     11.106      0.000     310.287     443.480\n",
            "Thu               282.8744     33.665      8.403      0.000     216.808     348.941\n",
            "Fri                52.4558     32.802      1.599      0.110     -11.918     116.829\n",
            "Sat             -1103.8595     32.242    -34.237      0.000   -1167.133   -1040.586\n",
            "Sun              -806.9722     40.114    -20.117      0.000    -885.695    -728.250\n",
            "holiday          -983.4044     78.191    -12.577      0.000   -1136.853    -829.955\n",
            "daylight_hrs       70.3750      8.400      8.378      0.000      53.890      86.860\n",
            "Temp (C)           13.2616      1.252     10.591      0.000      10.804      15.719\n",
            "dry day           301.0276     33.915      8.876      0.000     234.471     367.584\n",
            "annual             44.6618     16.620      2.687      0.007      12.045      77.279\n",
            "==============================================================================\n",
            "Omnibus:                       35.650   Durbin-Watson:                   1.665\n",
            "Prob(Omnibus):                  0.000   Jarque-Bera (JB):               78.276\n",
            "Skew:                           0.188   Prob(JB):                     1.01e-17\n",
            "Kurtosis:                       4.345   Cond. No.                     2.64e+19\n",
            "==============================================================================\n",
            "\n",
            "Warnings:\n",
            "[1] Standard Errors assume that the covariance matrix of the errors is correctly specified.\n",
            "[2] The smallest eigenvalue is 1.09e-29. This might indicate that there are\n",
            "strong multicollinearity problems or that the design matrix is singular.\n"
          ],
          "name": "stdout"
        }
      ]
    },
    {
      "metadata": {
        "id": "fg1YI4X8n9nI",
        "colab_type": "text"
      },
      "cell_type": "markdown",
      "source": [
        "## 5. Develop a model that overfits. \n",
        "\n",
        "\"The universal tension in machine learning is between optimization and generalization; the ideal model is one that stands right at the border between underfitting and overfitting; between undercapacity and overcapacity. To figure out where this border lies, first you must cross it.\" —Chollet"
      ]
    },
    {
      "metadata": {
        "id": "lodd6UPOoy89",
        "colab_type": "text"
      },
      "cell_type": "markdown",
      "source": [
        "<img src=\"https://jakevdp.github.io/PythonDataScienceHandbook/figures/05.03-validation-curve.png\">\n",
        "\n",
        "Diagram source: https://jakevdp.github.io/PythonDataScienceHandbook/05.03-hyperparameters-and-model-validation.html#Validation-curves-in-Scikit-Learn"
      ]
    },
    {
      "metadata": {
        "id": "FrmQ3RM0w2JE",
        "colab_type": "text"
      },
      "cell_type": "markdown",
      "source": [
        "### Polynomial Regression?"
      ]
    },
    {
      "metadata": {
        "id": "uctwo0X3pTw5",
        "colab_type": "code",
        "colab": {}
      },
      "cell_type": "code",
      "source": [
        "# Copied from cell 10 at\n",
        "# https://jakevdp.github.io/PythonDataScienceHandbook/05.03-hyperparameters-and-model-validation.html#Validation-curves-in-Scikit-Learn\n",
        "\n",
        "from sklearn.preprocessing import PolynomialFeatures\n",
        "from sklearn.linear_model import LinearRegression\n",
        "from sklearn.pipeline import make_pipeline\n",
        "\n",
        "def PolynomialRegression(degree=2, **kwargs):\n",
        "    return make_pipeline(PolynomialFeatures(degree),\n",
        "                         LinearRegression(**kwargs))"
      ],
      "execution_count": 0,
      "outputs": []
    },
    {
      "metadata": {
        "id": "wvY4HOXVw7Mj",
        "colab_type": "code",
        "outputId": "dbdc7404-eb7c-4ac6-8cf1-cbbf9e8ff227",
        "colab": {
          "base_uri": "https://localhost:8080/",
          "height": 314
        }
      },
      "cell_type": "code",
      "source": [
        "for degree in [0, 1, 2, 3]:\n",
        "    features = PolynomialFeatures(degree).fit(X_train).get_feature_names(X_train.columns)\n",
        "    print(f'{degree} degree polynomial has {len(features)} features')\n",
        "    print(features)\n",
        "    print('\\n')"
      ],
      "execution_count": 140,
      "outputs": [
        {
          "output_type": "stream",
          "text": [
            "0 degree polynomial has 1 features\n",
            "['1']\n",
            "\n",
            "\n",
            "1 degree polynomial has 20 features\n",
            "['1', 'PRCP', 'SNOW', 'SNWD', 'TMAX', 'TMIN', 'AWND', 'Total_yesterday', 'Mon', 'Tue', 'Wed', 'Thu', 'Fri', 'Sat', 'Sun', 'holiday', 'daylight_hrs', 'Temp (C)', 'dry day', 'annual']\n",
            "\n",
            "\n",
            "2 degree polynomial has 210 features\n",
            "['1', 'PRCP', 'SNOW', 'SNWD', 'TMAX', 'TMIN', 'AWND', 'Total_yesterday', 'Mon', 'Tue', 'Wed', 'Thu', 'Fri', 'Sat', 'Sun', 'holiday', 'daylight_hrs', 'Temp (C)', 'dry day', 'annual', 'PRCP^2', 'PRCP SNOW', 'PRCP SNWD', 'PRCP TMAX', 'PRCP TMIN', 'PRCP AWND', 'PRCP Total_yesterday', 'PRCP Mon', 'PRCP Tue', 'PRCP Wed', 'PRCP Thu', 'PRCP Fri', 'PRCP Sat', 'PRCP Sun', 'PRCP holiday', 'PRCP daylight_hrs', 'PRCP Temp (C)', 'PRCP dry day', 'PRCP annual', 'SNOW^2', 'SNOW SNWD', 'SNOW TMAX', 'SNOW TMIN', 'SNOW AWND', 'SNOW Total_yesterday', 'SNOW Mon', 'SNOW Tue', 'SNOW Wed', 'SNOW Thu', 'SNOW Fri', 'SNOW Sat', 'SNOW Sun', 'SNOW holiday', 'SNOW daylight_hrs', 'SNOW Temp (C)', 'SNOW dry day', 'SNOW annual', 'SNWD^2', 'SNWD TMAX', 'SNWD TMIN', 'SNWD AWND', 'SNWD Total_yesterday', 'SNWD Mon', 'SNWD Tue', 'SNWD Wed', 'SNWD Thu', 'SNWD Fri', 'SNWD Sat', 'SNWD Sun', 'SNWD holiday', 'SNWD daylight_hrs', 'SNWD Temp (C)', 'SNWD dry day', 'SNWD annual', 'TMAX^2', 'TMAX TMIN', 'TMAX AWND', 'TMAX Total_yesterday', 'TMAX Mon', 'TMAX Tue', 'TMAX Wed', 'TMAX Thu', 'TMAX Fri', 'TMAX Sat', 'TMAX Sun', 'TMAX holiday', 'TMAX daylight_hrs', 'TMAX Temp (C)', 'TMAX dry day', 'TMAX annual', 'TMIN^2', 'TMIN AWND', 'TMIN Total_yesterday', 'TMIN Mon', 'TMIN Tue', 'TMIN Wed', 'TMIN Thu', 'TMIN Fri', 'TMIN Sat', 'TMIN Sun', 'TMIN holiday', 'TMIN daylight_hrs', 'TMIN Temp (C)', 'TMIN dry day', 'TMIN annual', 'AWND^2', 'AWND Total_yesterday', 'AWND Mon', 'AWND Tue', 'AWND Wed', 'AWND Thu', 'AWND Fri', 'AWND Sat', 'AWND Sun', 'AWND holiday', 'AWND daylight_hrs', 'AWND Temp (C)', 'AWND dry day', 'AWND annual', 'Total_yesterday^2', 'Total_yesterday Mon', 'Total_yesterday Tue', 'Total_yesterday Wed', 'Total_yesterday Thu', 'Total_yesterday Fri', 'Total_yesterday Sat', 'Total_yesterday Sun', 'Total_yesterday holiday', 'Total_yesterday daylight_hrs', 'Total_yesterday Temp (C)', 'Total_yesterday dry day', 'Total_yesterday annual', 'Mon^2', 'Mon Tue', 'Mon Wed', 'Mon Thu', 'Mon Fri', 'Mon Sat', 'Mon Sun', 'Mon holiday', 'Mon daylight_hrs', 'Mon Temp (C)', 'Mon dry day', 'Mon annual', 'Tue^2', 'Tue Wed', 'Tue Thu', 'Tue Fri', 'Tue Sat', 'Tue Sun', 'Tue holiday', 'Tue daylight_hrs', 'Tue Temp (C)', 'Tue dry day', 'Tue annual', 'Wed^2', 'Wed Thu', 'Wed Fri', 'Wed Sat', 'Wed Sun', 'Wed holiday', 'Wed daylight_hrs', 'Wed Temp (C)', 'Wed dry day', 'Wed annual', 'Thu^2', 'Thu Fri', 'Thu Sat', 'Thu Sun', 'Thu holiday', 'Thu daylight_hrs', 'Thu Temp (C)', 'Thu dry day', 'Thu annual', 'Fri^2', 'Fri Sat', 'Fri Sun', 'Fri holiday', 'Fri daylight_hrs', 'Fri Temp (C)', 'Fri dry day', 'Fri annual', 'Sat^2', 'Sat Sun', 'Sat holiday', 'Sat daylight_hrs', 'Sat Temp (C)', 'Sat dry day', 'Sat annual', 'Sun^2', 'Sun holiday', 'Sun daylight_hrs', 'Sun Temp (C)', 'Sun dry day', 'Sun annual', 'holiday^2', 'holiday daylight_hrs', 'holiday Temp (C)', 'holiday dry day', 'holiday annual', 'daylight_hrs^2', 'daylight_hrs Temp (C)', 'daylight_hrs dry day', 'daylight_hrs annual', 'Temp (C)^2', 'Temp (C) dry day', 'Temp (C) annual', 'dry day^2', 'dry day annual', 'annual^2']\n",
            "\n",
            "\n",
            "3 degree polynomial has 1540 features\n",
            "['1', 'PRCP', 'SNOW', 'SNWD', 'TMAX', 'TMIN', 'AWND', 'Total_yesterday', 'Mon', 'Tue', 'Wed', 'Thu', 'Fri', 'Sat', 'Sun', 'holiday', 'daylight_hrs', 'Temp (C)', 'dry day', 'annual', 'PRCP^2', 'PRCP SNOW', 'PRCP SNWD', 'PRCP TMAX', 'PRCP TMIN', 'PRCP AWND', 'PRCP Total_yesterday', 'PRCP Mon', 'PRCP Tue', 'PRCP Wed', 'PRCP Thu', 'PRCP Fri', 'PRCP Sat', 'PRCP Sun', 'PRCP holiday', 'PRCP daylight_hrs', 'PRCP Temp (C)', 'PRCP dry day', 'PRCP annual', 'SNOW^2', 'SNOW SNWD', 'SNOW TMAX', 'SNOW TMIN', 'SNOW AWND', 'SNOW Total_yesterday', 'SNOW Mon', 'SNOW Tue', 'SNOW Wed', 'SNOW Thu', 'SNOW Fri', 'SNOW Sat', 'SNOW Sun', 'SNOW holiday', 'SNOW daylight_hrs', 'SNOW Temp (C)', 'SNOW dry day', 'SNOW annual', 'SNWD^2', 'SNWD TMAX', 'SNWD TMIN', 'SNWD AWND', 'SNWD Total_yesterday', 'SNWD Mon', 'SNWD Tue', 'SNWD Wed', 'SNWD Thu', 'SNWD Fri', 'SNWD Sat', 'SNWD Sun', 'SNWD holiday', 'SNWD daylight_hrs', 'SNWD Temp (C)', 'SNWD dry day', 'SNWD annual', 'TMAX^2', 'TMAX TMIN', 'TMAX AWND', 'TMAX Total_yesterday', 'TMAX Mon', 'TMAX Tue', 'TMAX Wed', 'TMAX Thu', 'TMAX Fri', 'TMAX Sat', 'TMAX Sun', 'TMAX holiday', 'TMAX daylight_hrs', 'TMAX Temp (C)', 'TMAX dry day', 'TMAX annual', 'TMIN^2', 'TMIN AWND', 'TMIN Total_yesterday', 'TMIN Mon', 'TMIN Tue', 'TMIN Wed', 'TMIN Thu', 'TMIN Fri', 'TMIN Sat', 'TMIN Sun', 'TMIN holiday', 'TMIN daylight_hrs', 'TMIN Temp (C)', 'TMIN dry day', 'TMIN annual', 'AWND^2', 'AWND Total_yesterday', 'AWND Mon', 'AWND Tue', 'AWND Wed', 'AWND Thu', 'AWND Fri', 'AWND Sat', 'AWND Sun', 'AWND holiday', 'AWND daylight_hrs', 'AWND Temp (C)', 'AWND dry day', 'AWND annual', 'Total_yesterday^2', 'Total_yesterday Mon', 'Total_yesterday Tue', 'Total_yesterday Wed', 'Total_yesterday Thu', 'Total_yesterday Fri', 'Total_yesterday Sat', 'Total_yesterday Sun', 'Total_yesterday holiday', 'Total_yesterday daylight_hrs', 'Total_yesterday Temp (C)', 'Total_yesterday dry day', 'Total_yesterday annual', 'Mon^2', 'Mon Tue', 'Mon Wed', 'Mon Thu', 'Mon Fri', 'Mon Sat', 'Mon Sun', 'Mon holiday', 'Mon daylight_hrs', 'Mon Temp (C)', 'Mon dry day', 'Mon annual', 'Tue^2', 'Tue Wed', 'Tue Thu', 'Tue Fri', 'Tue Sat', 'Tue Sun', 'Tue holiday', 'Tue daylight_hrs', 'Tue Temp (C)', 'Tue dry day', 'Tue annual', 'Wed^2', 'Wed Thu', 'Wed Fri', 'Wed Sat', 'Wed Sun', 'Wed holiday', 'Wed daylight_hrs', 'Wed Temp (C)', 'Wed dry day', 'Wed annual', 'Thu^2', 'Thu Fri', 'Thu Sat', 'Thu Sun', 'Thu holiday', 'Thu daylight_hrs', 'Thu Temp (C)', 'Thu dry day', 'Thu annual', 'Fri^2', 'Fri Sat', 'Fri Sun', 'Fri holiday', 'Fri daylight_hrs', 'Fri Temp (C)', 'Fri dry day', 'Fri annual', 'Sat^2', 'Sat Sun', 'Sat holiday', 'Sat daylight_hrs', 'Sat Temp (C)', 'Sat dry day', 'Sat annual', 'Sun^2', 'Sun holiday', 'Sun daylight_hrs', 'Sun Temp (C)', 'Sun dry day', 'Sun annual', 'holiday^2', 'holiday daylight_hrs', 'holiday Temp (C)', 'holiday dry day', 'holiday annual', 'daylight_hrs^2', 'daylight_hrs Temp (C)', 'daylight_hrs dry day', 'daylight_hrs annual', 'Temp (C)^2', 'Temp (C) dry day', 'Temp (C) annual', 'dry day^2', 'dry day annual', 'annual^2', 'PRCP^3', 'PRCP^2 SNOW', 'PRCP^2 SNWD', 'PRCP^2 TMAX', 'PRCP^2 TMIN', 'PRCP^2 AWND', 'PRCP^2 Total_yesterday', 'PRCP^2 Mon', 'PRCP^2 Tue', 'PRCP^2 Wed', 'PRCP^2 Thu', 'PRCP^2 Fri', 'PRCP^2 Sat', 'PRCP^2 Sun', 'PRCP^2 holiday', 'PRCP^2 daylight_hrs', 'PRCP^2 Temp (C)', 'PRCP^2 dry day', 'PRCP^2 annual', 'PRCP SNOW^2', 'PRCP SNOW SNWD', 'PRCP SNOW TMAX', 'PRCP SNOW TMIN', 'PRCP SNOW AWND', 'PRCP SNOW Total_yesterday', 'PRCP SNOW Mon', 'PRCP SNOW Tue', 'PRCP SNOW Wed', 'PRCP SNOW Thu', 'PRCP SNOW Fri', 'PRCP SNOW Sat', 'PRCP SNOW Sun', 'PRCP SNOW holiday', 'PRCP SNOW daylight_hrs', 'PRCP SNOW Temp (C)', 'PRCP SNOW dry day', 'PRCP SNOW annual', 'PRCP SNWD^2', 'PRCP SNWD TMAX', 'PRCP SNWD TMIN', 'PRCP SNWD AWND', 'PRCP SNWD Total_yesterday', 'PRCP SNWD Mon', 'PRCP SNWD Tue', 'PRCP SNWD Wed', 'PRCP SNWD Thu', 'PRCP SNWD Fri', 'PRCP SNWD Sat', 'PRCP SNWD Sun', 'PRCP SNWD holiday', 'PRCP SNWD daylight_hrs', 'PRCP SNWD Temp (C)', 'PRCP SNWD dry day', 'PRCP SNWD annual', 'PRCP TMAX^2', 'PRCP TMAX TMIN', 'PRCP TMAX AWND', 'PRCP TMAX Total_yesterday', 'PRCP TMAX Mon', 'PRCP TMAX Tue', 'PRCP TMAX Wed', 'PRCP TMAX Thu', 'PRCP TMAX Fri', 'PRCP TMAX Sat', 'PRCP TMAX Sun', 'PRCP TMAX holiday', 'PRCP TMAX daylight_hrs', 'PRCP TMAX Temp (C)', 'PRCP TMAX dry day', 'PRCP TMAX annual', 'PRCP TMIN^2', 'PRCP TMIN AWND', 'PRCP TMIN Total_yesterday', 'PRCP TMIN Mon', 'PRCP TMIN Tue', 'PRCP TMIN Wed', 'PRCP TMIN Thu', 'PRCP TMIN Fri', 'PRCP TMIN Sat', 'PRCP TMIN Sun', 'PRCP TMIN holiday', 'PRCP TMIN daylight_hrs', 'PRCP TMIN Temp (C)', 'PRCP TMIN dry day', 'PRCP TMIN annual', 'PRCP AWND^2', 'PRCP AWND Total_yesterday', 'PRCP AWND Mon', 'PRCP AWND Tue', 'PRCP AWND Wed', 'PRCP AWND Thu', 'PRCP AWND Fri', 'PRCP AWND Sat', 'PRCP AWND Sun', 'PRCP AWND holiday', 'PRCP AWND daylight_hrs', 'PRCP AWND Temp (C)', 'PRCP AWND dry day', 'PRCP AWND annual', 'PRCP Total_yesterday^2', 'PRCP Total_yesterday Mon', 'PRCP Total_yesterday Tue', 'PRCP Total_yesterday Wed', 'PRCP Total_yesterday Thu', 'PRCP Total_yesterday Fri', 'PRCP Total_yesterday Sat', 'PRCP Total_yesterday Sun', 'PRCP Total_yesterday holiday', 'PRCP Total_yesterday daylight_hrs', 'PRCP Total_yesterday Temp (C)', 'PRCP Total_yesterday dry day', 'PRCP Total_yesterday annual', 'PRCP Mon^2', 'PRCP Mon Tue', 'PRCP Mon Wed', 'PRCP Mon Thu', 'PRCP Mon Fri', 'PRCP Mon Sat', 'PRCP Mon Sun', 'PRCP Mon holiday', 'PRCP Mon daylight_hrs', 'PRCP Mon Temp (C)', 'PRCP Mon dry day', 'PRCP Mon annual', 'PRCP Tue^2', 'PRCP Tue Wed', 'PRCP Tue Thu', 'PRCP Tue Fri', 'PRCP Tue Sat', 'PRCP Tue Sun', 'PRCP Tue holiday', 'PRCP Tue daylight_hrs', 'PRCP Tue Temp (C)', 'PRCP Tue dry day', 'PRCP Tue annual', 'PRCP Wed^2', 'PRCP Wed Thu', 'PRCP Wed Fri', 'PRCP Wed Sat', 'PRCP Wed Sun', 'PRCP Wed holiday', 'PRCP Wed daylight_hrs', 'PRCP Wed Temp (C)', 'PRCP Wed dry day', 'PRCP Wed annual', 'PRCP Thu^2', 'PRCP Thu Fri', 'PRCP Thu Sat', 'PRCP Thu Sun', 'PRCP Thu holiday', 'PRCP Thu daylight_hrs', 'PRCP Thu Temp (C)', 'PRCP Thu dry day', 'PRCP Thu annual', 'PRCP Fri^2', 'PRCP Fri Sat', 'PRCP Fri Sun', 'PRCP Fri holiday', 'PRCP Fri daylight_hrs', 'PRCP Fri Temp (C)', 'PRCP Fri dry day', 'PRCP Fri annual', 'PRCP Sat^2', 'PRCP Sat Sun', 'PRCP Sat holiday', 'PRCP Sat daylight_hrs', 'PRCP Sat Temp (C)', 'PRCP Sat dry day', 'PRCP Sat annual', 'PRCP Sun^2', 'PRCP Sun holiday', 'PRCP Sun daylight_hrs', 'PRCP Sun Temp (C)', 'PRCP Sun dry day', 'PRCP Sun annual', 'PRCP holiday^2', 'PRCP holiday daylight_hrs', 'PRCP holiday Temp (C)', 'PRCP holiday dry day', 'PRCP holiday annual', 'PRCP daylight_hrs^2', 'PRCP daylight_hrs Temp (C)', 'PRCP daylight_hrs dry day', 'PRCP daylight_hrs annual', 'PRCP Temp (C)^2', 'PRCP Temp (C) dry day', 'PRCP Temp (C) annual', 'PRCP dry day^2', 'PRCP dry day annual', 'PRCP annual^2', 'SNOW^3', 'SNOW^2 SNWD', 'SNOW^2 TMAX', 'SNOW^2 TMIN', 'SNOW^2 AWND', 'SNOW^2 Total_yesterday', 'SNOW^2 Mon', 'SNOW^2 Tue', 'SNOW^2 Wed', 'SNOW^2 Thu', 'SNOW^2 Fri', 'SNOW^2 Sat', 'SNOW^2 Sun', 'SNOW^2 holiday', 'SNOW^2 daylight_hrs', 'SNOW^2 Temp (C)', 'SNOW^2 dry day', 'SNOW^2 annual', 'SNOW SNWD^2', 'SNOW SNWD TMAX', 'SNOW SNWD TMIN', 'SNOW SNWD AWND', 'SNOW SNWD Total_yesterday', 'SNOW SNWD Mon', 'SNOW SNWD Tue', 'SNOW SNWD Wed', 'SNOW SNWD Thu', 'SNOW SNWD Fri', 'SNOW SNWD Sat', 'SNOW SNWD Sun', 'SNOW SNWD holiday', 'SNOW SNWD daylight_hrs', 'SNOW SNWD Temp (C)', 'SNOW SNWD dry day', 'SNOW SNWD annual', 'SNOW TMAX^2', 'SNOW TMAX TMIN', 'SNOW TMAX AWND', 'SNOW TMAX Total_yesterday', 'SNOW TMAX Mon', 'SNOW TMAX Tue', 'SNOW TMAX Wed', 'SNOW TMAX Thu', 'SNOW TMAX Fri', 'SNOW TMAX Sat', 'SNOW TMAX Sun', 'SNOW TMAX holiday', 'SNOW TMAX daylight_hrs', 'SNOW TMAX Temp (C)', 'SNOW TMAX dry day', 'SNOW TMAX annual', 'SNOW TMIN^2', 'SNOW TMIN AWND', 'SNOW TMIN Total_yesterday', 'SNOW TMIN Mon', 'SNOW TMIN Tue', 'SNOW TMIN Wed', 'SNOW TMIN Thu', 'SNOW TMIN Fri', 'SNOW TMIN Sat', 'SNOW TMIN Sun', 'SNOW TMIN holiday', 'SNOW TMIN daylight_hrs', 'SNOW TMIN Temp (C)', 'SNOW TMIN dry day', 'SNOW TMIN annual', 'SNOW AWND^2', 'SNOW AWND Total_yesterday', 'SNOW AWND Mon', 'SNOW AWND Tue', 'SNOW AWND Wed', 'SNOW AWND Thu', 'SNOW AWND Fri', 'SNOW AWND Sat', 'SNOW AWND Sun', 'SNOW AWND holiday', 'SNOW AWND daylight_hrs', 'SNOW AWND Temp (C)', 'SNOW AWND dry day', 'SNOW AWND annual', 'SNOW Total_yesterday^2', 'SNOW Total_yesterday Mon', 'SNOW Total_yesterday Tue', 'SNOW Total_yesterday Wed', 'SNOW Total_yesterday Thu', 'SNOW Total_yesterday Fri', 'SNOW Total_yesterday Sat', 'SNOW Total_yesterday Sun', 'SNOW Total_yesterday holiday', 'SNOW Total_yesterday daylight_hrs', 'SNOW Total_yesterday Temp (C)', 'SNOW Total_yesterday dry day', 'SNOW Total_yesterday annual', 'SNOW Mon^2', 'SNOW Mon Tue', 'SNOW Mon Wed', 'SNOW Mon Thu', 'SNOW Mon Fri', 'SNOW Mon Sat', 'SNOW Mon Sun', 'SNOW Mon holiday', 'SNOW Mon daylight_hrs', 'SNOW Mon Temp (C)', 'SNOW Mon dry day', 'SNOW Mon annual', 'SNOW Tue^2', 'SNOW Tue Wed', 'SNOW Tue Thu', 'SNOW Tue Fri', 'SNOW Tue Sat', 'SNOW Tue Sun', 'SNOW Tue holiday', 'SNOW Tue daylight_hrs', 'SNOW Tue Temp (C)', 'SNOW Tue dry day', 'SNOW Tue annual', 'SNOW Wed^2', 'SNOW Wed Thu', 'SNOW Wed Fri', 'SNOW Wed Sat', 'SNOW Wed Sun', 'SNOW Wed holiday', 'SNOW Wed daylight_hrs', 'SNOW Wed Temp (C)', 'SNOW Wed dry day', 'SNOW Wed annual', 'SNOW Thu^2', 'SNOW Thu Fri', 'SNOW Thu Sat', 'SNOW Thu Sun', 'SNOW Thu holiday', 'SNOW Thu daylight_hrs', 'SNOW Thu Temp (C)', 'SNOW Thu dry day', 'SNOW Thu annual', 'SNOW Fri^2', 'SNOW Fri Sat', 'SNOW Fri Sun', 'SNOW Fri holiday', 'SNOW Fri daylight_hrs', 'SNOW Fri Temp (C)', 'SNOW Fri dry day', 'SNOW Fri annual', 'SNOW Sat^2', 'SNOW Sat Sun', 'SNOW Sat holiday', 'SNOW Sat daylight_hrs', 'SNOW Sat Temp (C)', 'SNOW Sat dry day', 'SNOW Sat annual', 'SNOW Sun^2', 'SNOW Sun holiday', 'SNOW Sun daylight_hrs', 'SNOW Sun Temp (C)', 'SNOW Sun dry day', 'SNOW Sun annual', 'SNOW holiday^2', 'SNOW holiday daylight_hrs', 'SNOW holiday Temp (C)', 'SNOW holiday dry day', 'SNOW holiday annual', 'SNOW daylight_hrs^2', 'SNOW daylight_hrs Temp (C)', 'SNOW daylight_hrs dry day', 'SNOW daylight_hrs annual', 'SNOW Temp (C)^2', 'SNOW Temp (C) dry day', 'SNOW Temp (C) annual', 'SNOW dry day^2', 'SNOW dry day annual', 'SNOW annual^2', 'SNWD^3', 'SNWD^2 TMAX', 'SNWD^2 TMIN', 'SNWD^2 AWND', 'SNWD^2 Total_yesterday', 'SNWD^2 Mon', 'SNWD^2 Tue', 'SNWD^2 Wed', 'SNWD^2 Thu', 'SNWD^2 Fri', 'SNWD^2 Sat', 'SNWD^2 Sun', 'SNWD^2 holiday', 'SNWD^2 daylight_hrs', 'SNWD^2 Temp (C)', 'SNWD^2 dry day', 'SNWD^2 annual', 'SNWD TMAX^2', 'SNWD TMAX TMIN', 'SNWD TMAX AWND', 'SNWD TMAX Total_yesterday', 'SNWD TMAX Mon', 'SNWD TMAX Tue', 'SNWD TMAX Wed', 'SNWD TMAX Thu', 'SNWD TMAX Fri', 'SNWD TMAX Sat', 'SNWD TMAX Sun', 'SNWD TMAX holiday', 'SNWD TMAX daylight_hrs', 'SNWD TMAX Temp (C)', 'SNWD TMAX dry day', 'SNWD TMAX annual', 'SNWD TMIN^2', 'SNWD TMIN AWND', 'SNWD TMIN Total_yesterday', 'SNWD TMIN Mon', 'SNWD TMIN Tue', 'SNWD TMIN Wed', 'SNWD TMIN Thu', 'SNWD TMIN Fri', 'SNWD TMIN Sat', 'SNWD TMIN Sun', 'SNWD TMIN holiday', 'SNWD TMIN daylight_hrs', 'SNWD TMIN Temp (C)', 'SNWD TMIN dry day', 'SNWD TMIN annual', 'SNWD AWND^2', 'SNWD AWND Total_yesterday', 'SNWD AWND Mon', 'SNWD AWND Tue', 'SNWD AWND Wed', 'SNWD AWND Thu', 'SNWD AWND Fri', 'SNWD AWND Sat', 'SNWD AWND Sun', 'SNWD AWND holiday', 'SNWD AWND daylight_hrs', 'SNWD AWND Temp (C)', 'SNWD AWND dry day', 'SNWD AWND annual', 'SNWD Total_yesterday^2', 'SNWD Total_yesterday Mon', 'SNWD Total_yesterday Tue', 'SNWD Total_yesterday Wed', 'SNWD Total_yesterday Thu', 'SNWD Total_yesterday Fri', 'SNWD Total_yesterday Sat', 'SNWD Total_yesterday Sun', 'SNWD Total_yesterday holiday', 'SNWD Total_yesterday daylight_hrs', 'SNWD Total_yesterday Temp (C)', 'SNWD Total_yesterday dry day', 'SNWD Total_yesterday annual', 'SNWD Mon^2', 'SNWD Mon Tue', 'SNWD Mon Wed', 'SNWD Mon Thu', 'SNWD Mon Fri', 'SNWD Mon Sat', 'SNWD Mon Sun', 'SNWD Mon holiday', 'SNWD Mon daylight_hrs', 'SNWD Mon Temp (C)', 'SNWD Mon dry day', 'SNWD Mon annual', 'SNWD Tue^2', 'SNWD Tue Wed', 'SNWD Tue Thu', 'SNWD Tue Fri', 'SNWD Tue Sat', 'SNWD Tue Sun', 'SNWD Tue holiday', 'SNWD Tue daylight_hrs', 'SNWD Tue Temp (C)', 'SNWD Tue dry day', 'SNWD Tue annual', 'SNWD Wed^2', 'SNWD Wed Thu', 'SNWD Wed Fri', 'SNWD Wed Sat', 'SNWD Wed Sun', 'SNWD Wed holiday', 'SNWD Wed daylight_hrs', 'SNWD Wed Temp (C)', 'SNWD Wed dry day', 'SNWD Wed annual', 'SNWD Thu^2', 'SNWD Thu Fri', 'SNWD Thu Sat', 'SNWD Thu Sun', 'SNWD Thu holiday', 'SNWD Thu daylight_hrs', 'SNWD Thu Temp (C)', 'SNWD Thu dry day', 'SNWD Thu annual', 'SNWD Fri^2', 'SNWD Fri Sat', 'SNWD Fri Sun', 'SNWD Fri holiday', 'SNWD Fri daylight_hrs', 'SNWD Fri Temp (C)', 'SNWD Fri dry day', 'SNWD Fri annual', 'SNWD Sat^2', 'SNWD Sat Sun', 'SNWD Sat holiday', 'SNWD Sat daylight_hrs', 'SNWD Sat Temp (C)', 'SNWD Sat dry day', 'SNWD Sat annual', 'SNWD Sun^2', 'SNWD Sun holiday', 'SNWD Sun daylight_hrs', 'SNWD Sun Temp (C)', 'SNWD Sun dry day', 'SNWD Sun annual', 'SNWD holiday^2', 'SNWD holiday daylight_hrs', 'SNWD holiday Temp (C)', 'SNWD holiday dry day', 'SNWD holiday annual', 'SNWD daylight_hrs^2', 'SNWD daylight_hrs Temp (C)', 'SNWD daylight_hrs dry day', 'SNWD daylight_hrs annual', 'SNWD Temp (C)^2', 'SNWD Temp (C) dry day', 'SNWD Temp (C) annual', 'SNWD dry day^2', 'SNWD dry day annual', 'SNWD annual^2', 'TMAX^3', 'TMAX^2 TMIN', 'TMAX^2 AWND', 'TMAX^2 Total_yesterday', 'TMAX^2 Mon', 'TMAX^2 Tue', 'TMAX^2 Wed', 'TMAX^2 Thu', 'TMAX^2 Fri', 'TMAX^2 Sat', 'TMAX^2 Sun', 'TMAX^2 holiday', 'TMAX^2 daylight_hrs', 'TMAX^2 Temp (C)', 'TMAX^2 dry day', 'TMAX^2 annual', 'TMAX TMIN^2', 'TMAX TMIN AWND', 'TMAX TMIN Total_yesterday', 'TMAX TMIN Mon', 'TMAX TMIN Tue', 'TMAX TMIN Wed', 'TMAX TMIN Thu', 'TMAX TMIN Fri', 'TMAX TMIN Sat', 'TMAX TMIN Sun', 'TMAX TMIN holiday', 'TMAX TMIN daylight_hrs', 'TMAX TMIN Temp (C)', 'TMAX TMIN dry day', 'TMAX TMIN annual', 'TMAX AWND^2', 'TMAX AWND Total_yesterday', 'TMAX AWND Mon', 'TMAX AWND Tue', 'TMAX AWND Wed', 'TMAX AWND Thu', 'TMAX AWND Fri', 'TMAX AWND Sat', 'TMAX AWND Sun', 'TMAX AWND holiday', 'TMAX AWND daylight_hrs', 'TMAX AWND Temp (C)', 'TMAX AWND dry day', 'TMAX AWND annual', 'TMAX Total_yesterday^2', 'TMAX Total_yesterday Mon', 'TMAX Total_yesterday Tue', 'TMAX Total_yesterday Wed', 'TMAX Total_yesterday Thu', 'TMAX Total_yesterday Fri', 'TMAX Total_yesterday Sat', 'TMAX Total_yesterday Sun', 'TMAX Total_yesterday holiday', 'TMAX Total_yesterday daylight_hrs', 'TMAX Total_yesterday Temp (C)', 'TMAX Total_yesterday dry day', 'TMAX Total_yesterday annual', 'TMAX Mon^2', 'TMAX Mon Tue', 'TMAX Mon Wed', 'TMAX Mon Thu', 'TMAX Mon Fri', 'TMAX Mon Sat', 'TMAX Mon Sun', 'TMAX Mon holiday', 'TMAX Mon daylight_hrs', 'TMAX Mon Temp (C)', 'TMAX Mon dry day', 'TMAX Mon annual', 'TMAX Tue^2', 'TMAX Tue Wed', 'TMAX Tue Thu', 'TMAX Tue Fri', 'TMAX Tue Sat', 'TMAX Tue Sun', 'TMAX Tue holiday', 'TMAX Tue daylight_hrs', 'TMAX Tue Temp (C)', 'TMAX Tue dry day', 'TMAX Tue annual', 'TMAX Wed^2', 'TMAX Wed Thu', 'TMAX Wed Fri', 'TMAX Wed Sat', 'TMAX Wed Sun', 'TMAX Wed holiday', 'TMAX Wed daylight_hrs', 'TMAX Wed Temp (C)', 'TMAX Wed dry day', 'TMAX Wed annual', 'TMAX Thu^2', 'TMAX Thu Fri', 'TMAX Thu Sat', 'TMAX Thu Sun', 'TMAX Thu holiday', 'TMAX Thu daylight_hrs', 'TMAX Thu Temp (C)', 'TMAX Thu dry day', 'TMAX Thu annual', 'TMAX Fri^2', 'TMAX Fri Sat', 'TMAX Fri Sun', 'TMAX Fri holiday', 'TMAX Fri daylight_hrs', 'TMAX Fri Temp (C)', 'TMAX Fri dry day', 'TMAX Fri annual', 'TMAX Sat^2', 'TMAX Sat Sun', 'TMAX Sat holiday', 'TMAX Sat daylight_hrs', 'TMAX Sat Temp (C)', 'TMAX Sat dry day', 'TMAX Sat annual', 'TMAX Sun^2', 'TMAX Sun holiday', 'TMAX Sun daylight_hrs', 'TMAX Sun Temp (C)', 'TMAX Sun dry day', 'TMAX Sun annual', 'TMAX holiday^2', 'TMAX holiday daylight_hrs', 'TMAX holiday Temp (C)', 'TMAX holiday dry day', 'TMAX holiday annual', 'TMAX daylight_hrs^2', 'TMAX daylight_hrs Temp (C)', 'TMAX daylight_hrs dry day', 'TMAX daylight_hrs annual', 'TMAX Temp (C)^2', 'TMAX Temp (C) dry day', 'TMAX Temp (C) annual', 'TMAX dry day^2', 'TMAX dry day annual', 'TMAX annual^2', 'TMIN^3', 'TMIN^2 AWND', 'TMIN^2 Total_yesterday', 'TMIN^2 Mon', 'TMIN^2 Tue', 'TMIN^2 Wed', 'TMIN^2 Thu', 'TMIN^2 Fri', 'TMIN^2 Sat', 'TMIN^2 Sun', 'TMIN^2 holiday', 'TMIN^2 daylight_hrs', 'TMIN^2 Temp (C)', 'TMIN^2 dry day', 'TMIN^2 annual', 'TMIN AWND^2', 'TMIN AWND Total_yesterday', 'TMIN AWND Mon', 'TMIN AWND Tue', 'TMIN AWND Wed', 'TMIN AWND Thu', 'TMIN AWND Fri', 'TMIN AWND Sat', 'TMIN AWND Sun', 'TMIN AWND holiday', 'TMIN AWND daylight_hrs', 'TMIN AWND Temp (C)', 'TMIN AWND dry day', 'TMIN AWND annual', 'TMIN Total_yesterday^2', 'TMIN Total_yesterday Mon', 'TMIN Total_yesterday Tue', 'TMIN Total_yesterday Wed', 'TMIN Total_yesterday Thu', 'TMIN Total_yesterday Fri', 'TMIN Total_yesterday Sat', 'TMIN Total_yesterday Sun', 'TMIN Total_yesterday holiday', 'TMIN Total_yesterday daylight_hrs', 'TMIN Total_yesterday Temp (C)', 'TMIN Total_yesterday dry day', 'TMIN Total_yesterday annual', 'TMIN Mon^2', 'TMIN Mon Tue', 'TMIN Mon Wed', 'TMIN Mon Thu', 'TMIN Mon Fri', 'TMIN Mon Sat', 'TMIN Mon Sun', 'TMIN Mon holiday', 'TMIN Mon daylight_hrs', 'TMIN Mon Temp (C)', 'TMIN Mon dry day', 'TMIN Mon annual', 'TMIN Tue^2', 'TMIN Tue Wed', 'TMIN Tue Thu', 'TMIN Tue Fri', 'TMIN Tue Sat', 'TMIN Tue Sun', 'TMIN Tue holiday', 'TMIN Tue daylight_hrs', 'TMIN Tue Temp (C)', 'TMIN Tue dry day', 'TMIN Tue annual', 'TMIN Wed^2', 'TMIN Wed Thu', 'TMIN Wed Fri', 'TMIN Wed Sat', 'TMIN Wed Sun', 'TMIN Wed holiday', 'TMIN Wed daylight_hrs', 'TMIN Wed Temp (C)', 'TMIN Wed dry day', 'TMIN Wed annual', 'TMIN Thu^2', 'TMIN Thu Fri', 'TMIN Thu Sat', 'TMIN Thu Sun', 'TMIN Thu holiday', 'TMIN Thu daylight_hrs', 'TMIN Thu Temp (C)', 'TMIN Thu dry day', 'TMIN Thu annual', 'TMIN Fri^2', 'TMIN Fri Sat', 'TMIN Fri Sun', 'TMIN Fri holiday', 'TMIN Fri daylight_hrs', 'TMIN Fri Temp (C)', 'TMIN Fri dry day', 'TMIN Fri annual', 'TMIN Sat^2', 'TMIN Sat Sun', 'TMIN Sat holiday', 'TMIN Sat daylight_hrs', 'TMIN Sat Temp (C)', 'TMIN Sat dry day', 'TMIN Sat annual', 'TMIN Sun^2', 'TMIN Sun holiday', 'TMIN Sun daylight_hrs', 'TMIN Sun Temp (C)', 'TMIN Sun dry day', 'TMIN Sun annual', 'TMIN holiday^2', 'TMIN holiday daylight_hrs', 'TMIN holiday Temp (C)', 'TMIN holiday dry day', 'TMIN holiday annual', 'TMIN daylight_hrs^2', 'TMIN daylight_hrs Temp (C)', 'TMIN daylight_hrs dry day', 'TMIN daylight_hrs annual', 'TMIN Temp (C)^2', 'TMIN Temp (C) dry day', 'TMIN Temp (C) annual', 'TMIN dry day^2', 'TMIN dry day annual', 'TMIN annual^2', 'AWND^3', 'AWND^2 Total_yesterday', 'AWND^2 Mon', 'AWND^2 Tue', 'AWND^2 Wed', 'AWND^2 Thu', 'AWND^2 Fri', 'AWND^2 Sat', 'AWND^2 Sun', 'AWND^2 holiday', 'AWND^2 daylight_hrs', 'AWND^2 Temp (C)', 'AWND^2 dry day', 'AWND^2 annual', 'AWND Total_yesterday^2', 'AWND Total_yesterday Mon', 'AWND Total_yesterday Tue', 'AWND Total_yesterday Wed', 'AWND Total_yesterday Thu', 'AWND Total_yesterday Fri', 'AWND Total_yesterday Sat', 'AWND Total_yesterday Sun', 'AWND Total_yesterday holiday', 'AWND Total_yesterday daylight_hrs', 'AWND Total_yesterday Temp (C)', 'AWND Total_yesterday dry day', 'AWND Total_yesterday annual', 'AWND Mon^2', 'AWND Mon Tue', 'AWND Mon Wed', 'AWND Mon Thu', 'AWND Mon Fri', 'AWND Mon Sat', 'AWND Mon Sun', 'AWND Mon holiday', 'AWND Mon daylight_hrs', 'AWND Mon Temp (C)', 'AWND Mon dry day', 'AWND Mon annual', 'AWND Tue^2', 'AWND Tue Wed', 'AWND Tue Thu', 'AWND Tue Fri', 'AWND Tue Sat', 'AWND Tue Sun', 'AWND Tue holiday', 'AWND Tue daylight_hrs', 'AWND Tue Temp (C)', 'AWND Tue dry day', 'AWND Tue annual', 'AWND Wed^2', 'AWND Wed Thu', 'AWND Wed Fri', 'AWND Wed Sat', 'AWND Wed Sun', 'AWND Wed holiday', 'AWND Wed daylight_hrs', 'AWND Wed Temp (C)', 'AWND Wed dry day', 'AWND Wed annual', 'AWND Thu^2', 'AWND Thu Fri', 'AWND Thu Sat', 'AWND Thu Sun', 'AWND Thu holiday', 'AWND Thu daylight_hrs', 'AWND Thu Temp (C)', 'AWND Thu dry day', 'AWND Thu annual', 'AWND Fri^2', 'AWND Fri Sat', 'AWND Fri Sun', 'AWND Fri holiday', 'AWND Fri daylight_hrs', 'AWND Fri Temp (C)', 'AWND Fri dry day', 'AWND Fri annual', 'AWND Sat^2', 'AWND Sat Sun', 'AWND Sat holiday', 'AWND Sat daylight_hrs', 'AWND Sat Temp (C)', 'AWND Sat dry day', 'AWND Sat annual', 'AWND Sun^2', 'AWND Sun holiday', 'AWND Sun daylight_hrs', 'AWND Sun Temp (C)', 'AWND Sun dry day', 'AWND Sun annual', 'AWND holiday^2', 'AWND holiday daylight_hrs', 'AWND holiday Temp (C)', 'AWND holiday dry day', 'AWND holiday annual', 'AWND daylight_hrs^2', 'AWND daylight_hrs Temp (C)', 'AWND daylight_hrs dry day', 'AWND daylight_hrs annual', 'AWND Temp (C)^2', 'AWND Temp (C) dry day', 'AWND Temp (C) annual', 'AWND dry day^2', 'AWND dry day annual', 'AWND annual^2', 'Total_yesterday^3', 'Total_yesterday^2 Mon', 'Total_yesterday^2 Tue', 'Total_yesterday^2 Wed', 'Total_yesterday^2 Thu', 'Total_yesterday^2 Fri', 'Total_yesterday^2 Sat', 'Total_yesterday^2 Sun', 'Total_yesterday^2 holiday', 'Total_yesterday^2 daylight_hrs', 'Total_yesterday^2 Temp (C)', 'Total_yesterday^2 dry day', 'Total_yesterday^2 annual', 'Total_yesterday Mon^2', 'Total_yesterday Mon Tue', 'Total_yesterday Mon Wed', 'Total_yesterday Mon Thu', 'Total_yesterday Mon Fri', 'Total_yesterday Mon Sat', 'Total_yesterday Mon Sun', 'Total_yesterday Mon holiday', 'Total_yesterday Mon daylight_hrs', 'Total_yesterday Mon Temp (C)', 'Total_yesterday Mon dry day', 'Total_yesterday Mon annual', 'Total_yesterday Tue^2', 'Total_yesterday Tue Wed', 'Total_yesterday Tue Thu', 'Total_yesterday Tue Fri', 'Total_yesterday Tue Sat', 'Total_yesterday Tue Sun', 'Total_yesterday Tue holiday', 'Total_yesterday Tue daylight_hrs', 'Total_yesterday Tue Temp (C)', 'Total_yesterday Tue dry day', 'Total_yesterday Tue annual', 'Total_yesterday Wed^2', 'Total_yesterday Wed Thu', 'Total_yesterday Wed Fri', 'Total_yesterday Wed Sat', 'Total_yesterday Wed Sun', 'Total_yesterday Wed holiday', 'Total_yesterday Wed daylight_hrs', 'Total_yesterday Wed Temp (C)', 'Total_yesterday Wed dry day', 'Total_yesterday Wed annual', 'Total_yesterday Thu^2', 'Total_yesterday Thu Fri', 'Total_yesterday Thu Sat', 'Total_yesterday Thu Sun', 'Total_yesterday Thu holiday', 'Total_yesterday Thu daylight_hrs', 'Total_yesterday Thu Temp (C)', 'Total_yesterday Thu dry day', 'Total_yesterday Thu annual', 'Total_yesterday Fri^2', 'Total_yesterday Fri Sat', 'Total_yesterday Fri Sun', 'Total_yesterday Fri holiday', 'Total_yesterday Fri daylight_hrs', 'Total_yesterday Fri Temp (C)', 'Total_yesterday Fri dry day', 'Total_yesterday Fri annual', 'Total_yesterday Sat^2', 'Total_yesterday Sat Sun', 'Total_yesterday Sat holiday', 'Total_yesterday Sat daylight_hrs', 'Total_yesterday Sat Temp (C)', 'Total_yesterday Sat dry day', 'Total_yesterday Sat annual', 'Total_yesterday Sun^2', 'Total_yesterday Sun holiday', 'Total_yesterday Sun daylight_hrs', 'Total_yesterday Sun Temp (C)', 'Total_yesterday Sun dry day', 'Total_yesterday Sun annual', 'Total_yesterday holiday^2', 'Total_yesterday holiday daylight_hrs', 'Total_yesterday holiday Temp (C)', 'Total_yesterday holiday dry day', 'Total_yesterday holiday annual', 'Total_yesterday daylight_hrs^2', 'Total_yesterday daylight_hrs Temp (C)', 'Total_yesterday daylight_hrs dry day', 'Total_yesterday daylight_hrs annual', 'Total_yesterday Temp (C)^2', 'Total_yesterday Temp (C) dry day', 'Total_yesterday Temp (C) annual', 'Total_yesterday dry day^2', 'Total_yesterday dry day annual', 'Total_yesterday annual^2', 'Mon^3', 'Mon^2 Tue', 'Mon^2 Wed', 'Mon^2 Thu', 'Mon^2 Fri', 'Mon^2 Sat', 'Mon^2 Sun', 'Mon^2 holiday', 'Mon^2 daylight_hrs', 'Mon^2 Temp (C)', 'Mon^2 dry day', 'Mon^2 annual', 'Mon Tue^2', 'Mon Tue Wed', 'Mon Tue Thu', 'Mon Tue Fri', 'Mon Tue Sat', 'Mon Tue Sun', 'Mon Tue holiday', 'Mon Tue daylight_hrs', 'Mon Tue Temp (C)', 'Mon Tue dry day', 'Mon Tue annual', 'Mon Wed^2', 'Mon Wed Thu', 'Mon Wed Fri', 'Mon Wed Sat', 'Mon Wed Sun', 'Mon Wed holiday', 'Mon Wed daylight_hrs', 'Mon Wed Temp (C)', 'Mon Wed dry day', 'Mon Wed annual', 'Mon Thu^2', 'Mon Thu Fri', 'Mon Thu Sat', 'Mon Thu Sun', 'Mon Thu holiday', 'Mon Thu daylight_hrs', 'Mon Thu Temp (C)', 'Mon Thu dry day', 'Mon Thu annual', 'Mon Fri^2', 'Mon Fri Sat', 'Mon Fri Sun', 'Mon Fri holiday', 'Mon Fri daylight_hrs', 'Mon Fri Temp (C)', 'Mon Fri dry day', 'Mon Fri annual', 'Mon Sat^2', 'Mon Sat Sun', 'Mon Sat holiday', 'Mon Sat daylight_hrs', 'Mon Sat Temp (C)', 'Mon Sat dry day', 'Mon Sat annual', 'Mon Sun^2', 'Mon Sun holiday', 'Mon Sun daylight_hrs', 'Mon Sun Temp (C)', 'Mon Sun dry day', 'Mon Sun annual', 'Mon holiday^2', 'Mon holiday daylight_hrs', 'Mon holiday Temp (C)', 'Mon holiday dry day', 'Mon holiday annual', 'Mon daylight_hrs^2', 'Mon daylight_hrs Temp (C)', 'Mon daylight_hrs dry day', 'Mon daylight_hrs annual', 'Mon Temp (C)^2', 'Mon Temp (C) dry day', 'Mon Temp (C) annual', 'Mon dry day^2', 'Mon dry day annual', 'Mon annual^2', 'Tue^3', 'Tue^2 Wed', 'Tue^2 Thu', 'Tue^2 Fri', 'Tue^2 Sat', 'Tue^2 Sun', 'Tue^2 holiday', 'Tue^2 daylight_hrs', 'Tue^2 Temp (C)', 'Tue^2 dry day', 'Tue^2 annual', 'Tue Wed^2', 'Tue Wed Thu', 'Tue Wed Fri', 'Tue Wed Sat', 'Tue Wed Sun', 'Tue Wed holiday', 'Tue Wed daylight_hrs', 'Tue Wed Temp (C)', 'Tue Wed dry day', 'Tue Wed annual', 'Tue Thu^2', 'Tue Thu Fri', 'Tue Thu Sat', 'Tue Thu Sun', 'Tue Thu holiday', 'Tue Thu daylight_hrs', 'Tue Thu Temp (C)', 'Tue Thu dry day', 'Tue Thu annual', 'Tue Fri^2', 'Tue Fri Sat', 'Tue Fri Sun', 'Tue Fri holiday', 'Tue Fri daylight_hrs', 'Tue Fri Temp (C)', 'Tue Fri dry day', 'Tue Fri annual', 'Tue Sat^2', 'Tue Sat Sun', 'Tue Sat holiday', 'Tue Sat daylight_hrs', 'Tue Sat Temp (C)', 'Tue Sat dry day', 'Tue Sat annual', 'Tue Sun^2', 'Tue Sun holiday', 'Tue Sun daylight_hrs', 'Tue Sun Temp (C)', 'Tue Sun dry day', 'Tue Sun annual', 'Tue holiday^2', 'Tue holiday daylight_hrs', 'Tue holiday Temp (C)', 'Tue holiday dry day', 'Tue holiday annual', 'Tue daylight_hrs^2', 'Tue daylight_hrs Temp (C)', 'Tue daylight_hrs dry day', 'Tue daylight_hrs annual', 'Tue Temp (C)^2', 'Tue Temp (C) dry day', 'Tue Temp (C) annual', 'Tue dry day^2', 'Tue dry day annual', 'Tue annual^2', 'Wed^3', 'Wed^2 Thu', 'Wed^2 Fri', 'Wed^2 Sat', 'Wed^2 Sun', 'Wed^2 holiday', 'Wed^2 daylight_hrs', 'Wed^2 Temp (C)', 'Wed^2 dry day', 'Wed^2 annual', 'Wed Thu^2', 'Wed Thu Fri', 'Wed Thu Sat', 'Wed Thu Sun', 'Wed Thu holiday', 'Wed Thu daylight_hrs', 'Wed Thu Temp (C)', 'Wed Thu dry day', 'Wed Thu annual', 'Wed Fri^2', 'Wed Fri Sat', 'Wed Fri Sun', 'Wed Fri holiday', 'Wed Fri daylight_hrs', 'Wed Fri Temp (C)', 'Wed Fri dry day', 'Wed Fri annual', 'Wed Sat^2', 'Wed Sat Sun', 'Wed Sat holiday', 'Wed Sat daylight_hrs', 'Wed Sat Temp (C)', 'Wed Sat dry day', 'Wed Sat annual', 'Wed Sun^2', 'Wed Sun holiday', 'Wed Sun daylight_hrs', 'Wed Sun Temp (C)', 'Wed Sun dry day', 'Wed Sun annual', 'Wed holiday^2', 'Wed holiday daylight_hrs', 'Wed holiday Temp (C)', 'Wed holiday dry day', 'Wed holiday annual', 'Wed daylight_hrs^2', 'Wed daylight_hrs Temp (C)', 'Wed daylight_hrs dry day', 'Wed daylight_hrs annual', 'Wed Temp (C)^2', 'Wed Temp (C) dry day', 'Wed Temp (C) annual', 'Wed dry day^2', 'Wed dry day annual', 'Wed annual^2', 'Thu^3', 'Thu^2 Fri', 'Thu^2 Sat', 'Thu^2 Sun', 'Thu^2 holiday', 'Thu^2 daylight_hrs', 'Thu^2 Temp (C)', 'Thu^2 dry day', 'Thu^2 annual', 'Thu Fri^2', 'Thu Fri Sat', 'Thu Fri Sun', 'Thu Fri holiday', 'Thu Fri daylight_hrs', 'Thu Fri Temp (C)', 'Thu Fri dry day', 'Thu Fri annual', 'Thu Sat^2', 'Thu Sat Sun', 'Thu Sat holiday', 'Thu Sat daylight_hrs', 'Thu Sat Temp (C)', 'Thu Sat dry day', 'Thu Sat annual', 'Thu Sun^2', 'Thu Sun holiday', 'Thu Sun daylight_hrs', 'Thu Sun Temp (C)', 'Thu Sun dry day', 'Thu Sun annual', 'Thu holiday^2', 'Thu holiday daylight_hrs', 'Thu holiday Temp (C)', 'Thu holiday dry day', 'Thu holiday annual', 'Thu daylight_hrs^2', 'Thu daylight_hrs Temp (C)', 'Thu daylight_hrs dry day', 'Thu daylight_hrs annual', 'Thu Temp (C)^2', 'Thu Temp (C) dry day', 'Thu Temp (C) annual', 'Thu dry day^2', 'Thu dry day annual', 'Thu annual^2', 'Fri^3', 'Fri^2 Sat', 'Fri^2 Sun', 'Fri^2 holiday', 'Fri^2 daylight_hrs', 'Fri^2 Temp (C)', 'Fri^2 dry day', 'Fri^2 annual', 'Fri Sat^2', 'Fri Sat Sun', 'Fri Sat holiday', 'Fri Sat daylight_hrs', 'Fri Sat Temp (C)', 'Fri Sat dry day', 'Fri Sat annual', 'Fri Sun^2', 'Fri Sun holiday', 'Fri Sun daylight_hrs', 'Fri Sun Temp (C)', 'Fri Sun dry day', 'Fri Sun annual', 'Fri holiday^2', 'Fri holiday daylight_hrs', 'Fri holiday Temp (C)', 'Fri holiday dry day', 'Fri holiday annual', 'Fri daylight_hrs^2', 'Fri daylight_hrs Temp (C)', 'Fri daylight_hrs dry day', 'Fri daylight_hrs annual', 'Fri Temp (C)^2', 'Fri Temp (C) dry day', 'Fri Temp (C) annual', 'Fri dry day^2', 'Fri dry day annual', 'Fri annual^2', 'Sat^3', 'Sat^2 Sun', 'Sat^2 holiday', 'Sat^2 daylight_hrs', 'Sat^2 Temp (C)', 'Sat^2 dry day', 'Sat^2 annual', 'Sat Sun^2', 'Sat Sun holiday', 'Sat Sun daylight_hrs', 'Sat Sun Temp (C)', 'Sat Sun dry day', 'Sat Sun annual', 'Sat holiday^2', 'Sat holiday daylight_hrs', 'Sat holiday Temp (C)', 'Sat holiday dry day', 'Sat holiday annual', 'Sat daylight_hrs^2', 'Sat daylight_hrs Temp (C)', 'Sat daylight_hrs dry day', 'Sat daylight_hrs annual', 'Sat Temp (C)^2', 'Sat Temp (C) dry day', 'Sat Temp (C) annual', 'Sat dry day^2', 'Sat dry day annual', 'Sat annual^2', 'Sun^3', 'Sun^2 holiday', 'Sun^2 daylight_hrs', 'Sun^2 Temp (C)', 'Sun^2 dry day', 'Sun^2 annual', 'Sun holiday^2', 'Sun holiday daylight_hrs', 'Sun holiday Temp (C)', 'Sun holiday dry day', 'Sun holiday annual', 'Sun daylight_hrs^2', 'Sun daylight_hrs Temp (C)', 'Sun daylight_hrs dry day', 'Sun daylight_hrs annual', 'Sun Temp (C)^2', 'Sun Temp (C) dry day', 'Sun Temp (C) annual', 'Sun dry day^2', 'Sun dry day annual', 'Sun annual^2', 'holiday^3', 'holiday^2 daylight_hrs', 'holiday^2 Temp (C)', 'holiday^2 dry day', 'holiday^2 annual', 'holiday daylight_hrs^2', 'holiday daylight_hrs Temp (C)', 'holiday daylight_hrs dry day', 'holiday daylight_hrs annual', 'holiday Temp (C)^2', 'holiday Temp (C) dry day', 'holiday Temp (C) annual', 'holiday dry day^2', 'holiday dry day annual', 'holiday annual^2', 'daylight_hrs^3', 'daylight_hrs^2 Temp (C)', 'daylight_hrs^2 dry day', 'daylight_hrs^2 annual', 'daylight_hrs Temp (C)^2', 'daylight_hrs Temp (C) dry day', 'daylight_hrs Temp (C) annual', 'daylight_hrs dry day^2', 'daylight_hrs dry day annual', 'daylight_hrs annual^2', 'Temp (C)^3', 'Temp (C)^2 dry day', 'Temp (C)^2 annual', 'Temp (C) dry day^2', 'Temp (C) dry day annual', 'Temp (C) annual^2', 'dry day^3', 'dry day^2 annual', 'dry day annual^2', 'annual^3']\n",
            "\n",
            "\n"
          ],
          "name": "stdout"
        }
      ]
    },
    {
      "metadata": {
        "id": "XEUdG9-ktHoa",
        "colab_type": "text"
      },
      "cell_type": "markdown",
      "source": [
        "### Validation curve (with Polynomial Regression)"
      ]
    },
    {
      "metadata": {
        "id": "_ryO1hVKr-6f",
        "colab_type": "text"
      },
      "cell_type": "markdown",
      "source": [
        "https://scikit-learn.org/stable/modules/generated/sklearn.model_selection.validation_curve.html\n",
        "\n",
        "> Validation curve. Determine training and test scores for varying parameter values. This is similar to grid search with one parameter."
      ]
    },
    {
      "metadata": {
        "id": "znJgKqPcqBh-",
        "colab_type": "code",
        "outputId": "f7a544fa-1d4e-4114-d0f4-2ec2da5614e5",
        "colab": {
          "base_uri": "https://localhost:8080/",
          "height": 279
        }
      },
      "cell_type": "code",
      "source": [
        "# Modified from cell 13 at\n",
        "# https://jakevdp.github.io/PythonDataScienceHandbook/05.03-hyperparameters-and-model-validation.html#Validation-curves-in-Scikit-Learn\n",
        "\n",
        "%matplotlib inline\n",
        "import matplotlib.pyplot as plt\n",
        "from sklearn.model_selection import validation_curve\n",
        "\n",
        "degree = [0, 1, 2]\n",
        "train_score, val_score = validation_curve(\n",
        "    PolynomialRegression(), X_train, y_train,\n",
        "    param_name='polynomialfeatures__degree', param_range=degree, \n",
        "    scoring='neg_mean_absolute_error', cv=3)\n",
        "\n",
        "plt.plot(degree, np.median(train_score, 1), color='blue', label='training score')\n",
        "plt.plot(degree, np.median(val_score, 1), color='red', label='validation score')\n",
        "plt.legend(loc='best')\n",
        "plt.xlabel('degree');"
      ],
      "execution_count": 141,
      "outputs": [
        {
          "output_type": "display_data",
          "data": {
            "image/png": "[encoded data removed]",
            "text/plain": [
              "<Figure size 432x288 with 1 Axes>"
            ]
          },
          "metadata": {
            "tags": []
          }
        }
      ]
    },
    {
      "metadata": {
        "id": "HUdGHWhvtVnV",
        "colab_type": "text"
      },
      "cell_type": "markdown",
      "source": [
        "### Grid Search (with Polynomial Regression)\n",
        "\n",
        "https://scikit-learn.org/stable/modules/generated/sklearn.model_selection.GridSearchCV.html\n",
        "\n",
        "https://scikit-learn.org/stable/modules/grid_search.html"
      ]
    },
    {
      "metadata": {
        "id": "GziXyq8Is6dL",
        "colab_type": "code",
        "outputId": "06a96a1f-7742-4e5d-8da9-01ac71aeb93b",
        "colab": {
          "base_uri": "https://localhost:8080/",
          "height": 797
        }
      },
      "cell_type": "code",
      "source": [
        "from sklearn.model_selection import GridSearchCV\n",
        "\n",
        "param_grid = {\n",
        "    'polynomialfeatures__degree': [0, 1, 2, 3]\n",
        "}\n",
        "\n",
        "gridsearch = GridSearchCV(PolynomialRegression(), param_grid=param_grid, \n",
        "                          scoring='neg_mean_absolute_error', cv=3, \n",
        "                          return_train_score=True, verbose=10)\n",
        "\n",
        "gridsearch.fit(X_train, y_train)"
      ],
      "execution_count": 142,
      "outputs": [
        {
          "output_type": "stream",
          "text": [
            "Fitting 3 folds for each of 4 candidates, totalling 12 fits\n",
            "[CV] polynomialfeatures__degree=0 ....................................\n",
            "[CV]  polynomialfeatures__degree=0, score=-1026.3529857047195, total=   0.0s\n",
            "[CV] polynomialfeatures__degree=0 ....................................\n",
            "[CV]  polynomialfeatures__degree=0, score=-1001.6149251268913, total=   0.0s\n",
            "[CV] polynomialfeatures__degree=0 ....................................\n",
            "[CV]  polynomialfeatures__degree=0, score=-927.0707048650538, total=   0.0s\n",
            "[CV] polynomialfeatures__degree=1 ....................................\n",
            "[CV]  polynomialfeatures__degree=1, score=-297.692523705482, total=   0.0s\n",
            "[CV] polynomialfeatures__degree=1 ....................................\n",
            "[CV]  polynomialfeatures__degree=1, score=-300.41903741897016, total=   0.0s\n",
            "[CV] polynomialfeatures__degree=1 ....................................\n",
            "[CV]  polynomialfeatures__degree=1, score=-322.64037811388147, total=   0.0s\n",
            "[CV] polynomialfeatures__degree=2 ....................................\n",
            "[CV]  polynomialfeatures__degree=2, score=-1439.9612526740627, total=   0.0s\n",
            "[CV] polynomialfeatures__degree=2 ....................................\n",
            "[CV]  polynomialfeatures__degree=2, score=-375.50612396048234, total=   0.0s\n",
            "[CV] polynomialfeatures__degree=2 ....................................\n"
          ],
          "name": "stdout"
        },
        {
          "output_type": "stream",
          "text": [
            "[Parallel(n_jobs=1)]: Using backend SequentialBackend with 1 concurrent workers.\n",
            "[Parallel(n_jobs=1)]: Done   1 out of   1 | elapsed:    0.0s remaining:    0.0s\n",
            "[Parallel(n_jobs=1)]: Done   2 out of   2 | elapsed:    0.0s remaining:    0.0s\n",
            "[Parallel(n_jobs=1)]: Done   3 out of   3 | elapsed:    0.0s remaining:    0.0s\n",
            "[Parallel(n_jobs=1)]: Done   4 out of   4 | elapsed:    0.0s remaining:    0.0s\n",
            "[Parallel(n_jobs=1)]: Done   5 out of   5 | elapsed:    0.1s remaining:    0.0s\n",
            "[Parallel(n_jobs=1)]: Done   6 out of   6 | elapsed:    0.1s remaining:    0.0s\n",
            "[Parallel(n_jobs=1)]: Done   7 out of   7 | elapsed:    0.1s remaining:    0.0s\n",
            "[Parallel(n_jobs=1)]: Done   8 out of   8 | elapsed:    0.2s remaining:    0.0s\n"
          ],
          "name": "stderr"
        },
        {
          "output_type": "stream",
          "text": [
            "[CV]  polynomialfeatures__degree=2, score=-1988.5604783166607, total=   0.0s\n",
            "[CV] polynomialfeatures__degree=3 ....................................\n"
          ],
          "name": "stdout"
        },
        {
          "output_type": "stream",
          "text": [
            "[Parallel(n_jobs=1)]: Done   9 out of   9 | elapsed:    0.2s remaining:    0.0s\n"
          ],
          "name": "stderr"
        },
        {
          "output_type": "stream",
          "text": [
            "[CV]  polynomialfeatures__degree=3, score=-46459.03954505731, total=   0.5s\n",
            "[CV] polynomialfeatures__degree=3 ....................................\n",
            "[CV]  polynomialfeatures__degree=3, score=-420352.8835495278, total=   0.4s\n",
            "[CV] polynomialfeatures__degree=3 ....................................\n",
            "[CV]  polynomialfeatures__degree=3, score=-3846.7588625484996, total=   0.4s\n"
          ],
          "name": "stdout"
        },
        {
          "output_type": "stream",
          "text": [
            "[Parallel(n_jobs=1)]: Done  12 out of  12 | elapsed:    1.6s finished\n"
          ],
          "name": "stderr"
        },
        {
          "output_type": "execute_result",
          "data": {
            "text/plain": [
              "GridSearchCV(cv=3, error_score='raise-deprecating',\n",
              "       estimator=Pipeline(memory=None,\n",
              "     steps=[('polynomialfeatures', PolynomialFeatures(degree=2, include_bias=True, interaction_only=False)), ('linearregression', LinearRegression(copy_X=True, fit_intercept=True, n_jobs=None,\n",
              "         normalize=False))]),\n",
              "       fit_params=None, iid='warn', n_jobs=None,\n",
              "       param_grid={'polynomialfeatures__degree': [0, 1, 2, 3]},\n",
              "       pre_dispatch='2*n_jobs', refit=True, return_train_score=True,\n",
              "       scoring='neg_mean_absolute_error', verbose=10)"
            ]
          },
          "metadata": {
            "tags": []
          },
          "execution_count": 142
        }
      ]
    },
    {
      "metadata": {
        "id": "P6lhZNRFC6Ml",
        "colab_type": "code",
        "outputId": "23e809c9-770a-4631-eb89-ff6ff88c5f89",
        "colab": {
          "base_uri": "https://localhost:8080/",
          "height": 257
        }
      },
      "cell_type": "code",
      "source": [
        "pd.DataFrame(gridsearch.cv_results_).sort_values(by='rank_test_score')"
      ],
      "execution_count": 143,
      "outputs": [
        {
          "output_type": "execute_result",
          "data": {
            "text/html": [
              "<div>\n",
              "<style scoped>\n",
              "    .dataframe tbody tr th:only-of-type {\n",
              "        vertical-align: middle;\n",
              "    }\n",
              "\n",
              "    .dataframe tbody tr th {\n",
              "        vertical-align: top;\n",
              "    }\n",
              "\n",
              "    .dataframe thead th {\n",
              "        text-align: right;\n",
              "    }\n",
              "</style>\n",
              "<table border=\"1\" class=\"dataframe\">\n",
              "  <thead>\n",
              "    <tr style=\"text-align: right;\">\n",
              "      <th></th>\n",
              "      <th>mean_fit_time</th>\n",
              "      <th>mean_score_time</th>\n",
              "      <th>mean_test_score</th>\n",
              "      <th>mean_train_score</th>\n",
              "      <th>param_polynomialfeatures__degree</th>\n",
              "      <th>params</th>\n",
              "      <th>rank_test_score</th>\n",
              "      <th>split0_test_score</th>\n",
              "      <th>split0_train_score</th>\n",
              "      <th>split1_test_score</th>\n",
              "      <th>split1_train_score</th>\n",
              "      <th>split2_test_score</th>\n",
              "      <th>split2_train_score</th>\n",
              "      <th>std_fit_time</th>\n",
              "      <th>std_score_time</th>\n",
              "      <th>std_test_score</th>\n",
              "      <th>std_train_score</th>\n",
              "    </tr>\n",
              "  </thead>\n",
              "  <tbody>\n",
              "    <tr>\n",
              "      <th>1</th>\n",
              "      <td>0.005361</td>\n",
              "      <td>0.003125</td>\n",
              "      <td>-306.917313</td>\n",
              "      <td>-287.273630</td>\n",
              "      <td>1</td>\n",
              "      <td>{'polynomialfeatures__degree': 1}</td>\n",
              "      <td>1</td>\n",
              "      <td>-297.692524</td>\n",
              "      <td>-294.532315</td>\n",
              "      <td>-300.419037</td>\n",
              "      <td>-283.779461</td>\n",
              "      <td>-322.640378</td>\n",
              "      <td>-283.509114</td>\n",
              "      <td>0.000640</td>\n",
              "      <td>0.000606</td>\n",
              "      <td>11.173467</td>\n",
              "      <td>5.133852</td>\n",
              "    </tr>\n",
              "    <tr>\n",
              "      <th>0</th>\n",
              "      <td>0.004358</td>\n",
              "      <td>0.002451</td>\n",
              "      <td>-985.012872</td>\n",
              "      <td>-979.844161</td>\n",
              "      <td>0</td>\n",
              "      <td>{'polynomialfeatures__degree': 0}</td>\n",
              "      <td>2</td>\n",
              "      <td>-1026.352986</td>\n",
              "      <td>-968.880368</td>\n",
              "      <td>-1001.614925</td>\n",
              "      <td>-970.755413</td>\n",
              "      <td>-927.070705</td>\n",
              "      <td>-999.896701</td>\n",
              "      <td>0.000428</td>\n",
              "      <td>0.000352</td>\n",
              "      <td>42.197661</td>\n",
              "      <td>14.199935</td>\n",
              "    </tr>\n",
              "    <tr>\n",
              "      <th>2</th>\n",
              "      <td>0.033545</td>\n",
              "      <td>0.009290</td>\n",
              "      <td>-1268.009285</td>\n",
              "      <td>-208.706344</td>\n",
              "      <td>2</td>\n",
              "      <td>{'polynomialfeatures__degree': 2}</td>\n",
              "      <td>3</td>\n",
              "      <td>-1439.961253</td>\n",
              "      <td>-207.143933</td>\n",
              "      <td>-375.506124</td>\n",
              "      <td>-203.932188</td>\n",
              "      <td>-1988.560478</td>\n",
              "      <td>-215.042911</td>\n",
              "      <td>0.000800</td>\n",
              "      <td>0.004581</td>\n",
              "      <td>669.657473</td>\n",
              "      <td>4.668539</td>\n",
              "    </tr>\n",
              "    <tr>\n",
              "      <th>3</th>\n",
              "      <td>0.381023</td>\n",
              "      <td>0.046540</td>\n",
              "      <td>-156886.227319</td>\n",
              "      <td>-114.685520</td>\n",
              "      <td>3</td>\n",
              "      <td>{'polynomialfeatures__degree': 3}</td>\n",
              "      <td>4</td>\n",
              "      <td>-46459.039545</td>\n",
              "      <td>-115.875675</td>\n",
              "      <td>-420352.883550</td>\n",
              "      <td>-107.571906</td>\n",
              "      <td>-3846.758863</td>\n",
              "      <td>-120.608979</td>\n",
              "      <td>0.027672</td>\n",
              "      <td>0.012588</td>\n",
              "      <td>187109.523765</td>\n",
              "      <td>5.388486</td>\n",
              "    </tr>\n",
              "  </tbody>\n",
              "</table>\n",
              "</div>"
            ],
            "text/plain": [
              "   mean_fit_time  mean_score_time  mean_test_score  mean_train_score  \\\n",
              "1       0.005361         0.003125      -306.917313       -287.273630   \n",
              "0       0.004358         0.002451      -985.012872       -979.844161   \n",
              "2       0.033545         0.009290     -1268.009285       -208.706344   \n",
              "3       0.381023         0.046540   -156886.227319       -114.685520   \n",
              "\n",
              "  param_polynomialfeatures__degree                             params  \\\n",
              "1                                1  {'polynomialfeatures__degree': 1}   \n",
              "0                                0  {'polynomialfeatures__degree': 0}   \n",
              "2                                2  {'polynomialfeatures__degree': 2}   \n",
              "3                                3  {'polynomialfeatures__degree': 3}   \n",
              "\n",
              "   rank_test_score  split0_test_score  split0_train_score  split1_test_score  \\\n",
              "1                1        -297.692524         -294.532315        -300.419037   \n",
              "0                2       -1026.352986         -968.880368       -1001.614925   \n",
              "2                3       -1439.961253         -207.143933        -375.506124   \n",
              "3                4      -46459.039545         -115.875675     -420352.883550   \n",
              "\n",
              "   split1_train_score  split2_test_score  split2_train_score  std_fit_time  \\\n",
              "1         -283.779461        -322.640378         -283.509114      0.000640   \n",
              "0         -970.755413        -927.070705         -999.896701      0.000428   \n",
              "2         -203.932188       -1988.560478         -215.042911      0.000800   \n",
              "3         -107.571906       -3846.758863         -120.608979      0.027672   \n",
              "\n",
              "   std_score_time  std_test_score  std_train_score  \n",
              "1        0.000606       11.173467         5.133852  \n",
              "0        0.000352       42.197661        14.199935  \n",
              "2        0.004581      669.657473         4.668539  \n",
              "3        0.012588   187109.523765         5.388486  "
            ]
          },
          "metadata": {
            "tags": []
          },
          "execution_count": 143
        }
      ]
    },
    {
      "metadata": {
        "id": "YmjCck_MC6Ew",
        "colab_type": "code",
        "colab": {}
      },
      "cell_type": "code",
      "source": [
        ""
      ],
      "execution_count": 0,
      "outputs": []
    },
    {
      "metadata": {
        "id": "xj82P0VdwYlh",
        "colab_type": "text"
      },
      "cell_type": "markdown",
      "source": [
        "### Random Forest?\n",
        "\n",
        "https://scikit-learn.org/stable/modules/generated/sklearn.ensemble.RandomForestRegressor.html"
      ]
    },
    {
      "metadata": {
        "id": "_nFDFK-8DRuj",
        "colab_type": "code",
        "outputId": "1185959b-9f2f-4794-9729-04c31447e751",
        "colab": {
          "base_uri": "https://localhost:8080/",
          "height": 138
        }
      },
      "cell_type": "code",
      "source": [
        "from sklearn.ensemble import RandomForestRegressor\n",
        "\n",
        "model = RandomForestRegressor(n_estimators=100, max_depth=20)\n",
        "\n",
        "scores = cross_validate(model, X_train, y_train,\n",
        "                        scoring='neg_mean_absolute_error',\n",
        "                        cv=3, return_train_score=True,\n",
        "                        return_estimator=True)\n",
        "\n",
        "pd.DataFrame(scores)"
      ],
      "execution_count": 144,
      "outputs": [
        {
          "output_type": "execute_result",
          "data": {
            "text/html": [
              "<div>\n",
              "<style scoped>\n",
              "    .dataframe tbody tr th:only-of-type {\n",
              "        vertical-align: middle;\n",
              "    }\n",
              "\n",
              "    .dataframe tbody tr th {\n",
              "        vertical-align: top;\n",
              "    }\n",
              "\n",
              "    .dataframe thead th {\n",
              "        text-align: right;\n",
              "    }\n",
              "</style>\n",
              "<table border=\"1\" class=\"dataframe\">\n",
              "  <thead>\n",
              "    <tr style=\"text-align: right;\">\n",
              "      <th></th>\n",
              "      <th>estimator</th>\n",
              "      <th>fit_time</th>\n",
              "      <th>score_time</th>\n",
              "      <th>test_score</th>\n",
              "      <th>train_score</th>\n",
              "    </tr>\n",
              "  </thead>\n",
              "  <tbody>\n",
              "    <tr>\n",
              "      <th>0</th>\n",
              "      <td>(DecisionTreeRegressor(criterion='mse', max_de...</td>\n",
              "      <td>0.321688</td>\n",
              "      <td>0.011038</td>\n",
              "      <td>-324.989097</td>\n",
              "      <td>-105.146751</td>\n",
              "    </tr>\n",
              "    <tr>\n",
              "      <th>1</th>\n",
              "      <td>(DecisionTreeRegressor(criterion='mse', max_de...</td>\n",
              "      <td>0.321755</td>\n",
              "      <td>0.012736</td>\n",
              "      <td>-325.525819</td>\n",
              "      <td>-100.791626</td>\n",
              "    </tr>\n",
              "    <tr>\n",
              "      <th>2</th>\n",
              "      <td>(DecisionTreeRegressor(criterion='mse', max_de...</td>\n",
              "      <td>0.312631</td>\n",
              "      <td>0.011523</td>\n",
              "      <td>-294.561261</td>\n",
              "      <td>-108.573810</td>\n",
              "    </tr>\n",
              "  </tbody>\n",
              "</table>\n",
              "</div>"
            ],
            "text/plain": [
              "                                           estimator  fit_time  score_time  \\\n",
              "0  (DecisionTreeRegressor(criterion='mse', max_de...  0.321688    0.011038   \n",
              "1  (DecisionTreeRegressor(criterion='mse', max_de...  0.321755    0.012736   \n",
              "2  (DecisionTreeRegressor(criterion='mse', max_de...  0.312631    0.011523   \n",
              "\n",
              "   test_score  train_score  \n",
              "0 -324.989097  -105.146751  \n",
              "1 -325.525819  -100.791626  \n",
              "2 -294.561261  -108.573810  "
            ]
          },
          "metadata": {
            "tags": []
          },
          "execution_count": 144
        }
      ]
    },
    {
      "metadata": {
        "id": "n_r_BxtlEHvb",
        "colab_type": "code",
        "outputId": "f6e90e4f-a39d-41fd-a4e4-87fe83ca8978",
        "colab": {
          "base_uri": "https://localhost:8080/",
          "height": 35
        }
      },
      "cell_type": "code",
      "source": [
        "scores['test_score'].mean()"
      ],
      "execution_count": 145,
      "outputs": [
        {
          "output_type": "execute_result",
          "data": {
            "text/plain": [
              "-315.02539222961184"
            ]
          },
          "metadata": {
            "tags": []
          },
          "execution_count": 145
        }
      ]
    },
    {
      "metadata": {
        "id": "_yYXpk99C4cM",
        "colab_type": "code",
        "colab": {}
      },
      "cell_type": "code",
      "source": [
        ""
      ],
      "execution_count": 0,
      "outputs": []
    },
    {
      "metadata": {
        "id": "vofwgIpSweEb",
        "colab_type": "text"
      },
      "cell_type": "markdown",
      "source": [
        "### Validation Curve (with Random Forest)"
      ]
    },
    {
      "metadata": {
        "id": "apKk4vKiwgtM",
        "colab_type": "code",
        "outputId": "d3dce922-5255-44ea-c5c5-da171638ccf5",
        "colab": {
          "base_uri": "https://localhost:8080/",
          "height": 279
        }
      },
      "cell_type": "code",
      "source": [
        "# Modified from cell 13 at\n",
        "# https://jakevdp.github.io/PythonDataScienceHandbook/05.03-hyperparameters-and-model-validation.html#Validation-curves-in-Scikit-Learn\n",
        "\n",
        "%matplotlib inline\n",
        "import matplotlib.pyplot as plt\n",
        "from sklearn.model_selection import validation_curve\n",
        "\n",
        "model = RandomForestRegressor(n_estimators=100)\n",
        "\n",
        "depth = [2, 3, 4, 5, 6]\n",
        "train_score, val_score = validation_curve(\n",
        "    model, X_train, y_train,\n",
        "    param_name='max_depth', param_range=depth, \n",
        "    scoring='neg_mean_absolute_error', cv=3)\n",
        "\n",
        "plt.plot(depth, np.median(train_score, 1), color='blue', label='training score')\n",
        "plt.plot(depth, np.median(val_score, 1), color='red', label='validation score')\n",
        "plt.legend(loc='best')\n",
        "plt.xlabel('depth');"
      ],
      "execution_count": 146,
      "outputs": [
        {
          "output_type": "display_data",
          "data": {
            "image/png": "[encoded data removed]",
            "text/plain": [
              "<Figure size 432x288 with 1 Axes>"
            ]
          },
          "metadata": {
            "tags": []
          }
        }
      ]
    },
    {
      "metadata": {
        "id": "DQoMvZ7-yCAQ",
        "colab_type": "text"
      },
      "cell_type": "markdown",
      "source": [
        "### Grid Search (with Random Forest)"
      ]
    },
    {
      "metadata": {
        "id": "bk_dX_mByKm7",
        "colab_type": "code",
        "outputId": "44b9be30-8a6b-4e27-c31d-dd4124c0f732",
        "colab": {
          "base_uri": "https://localhost:8080/",
          "height": 2746
        }
      },
      "cell_type": "code",
      "source": [
        "%%time\n",
        "param_grid = {\n",
        "    'n_estimators': [100,200],\n",
        "    'max_depth': [4,5],\n",
        "    'criterion': ['mse', 'mae'],\n",
        "    'max_features': ['auto', 'sqrt', 'log2']\n",
        "}\n",
        "\n",
        "gridsearch = GridSearchCV(RandomForestRegressor(), param_grid=param_grid, \n",
        "                          scoring='neg_mean_absolute_error', cv=3, \n",
        "                          return_train_score=True, verbose=10)\n",
        "\n",
        "gridsearch.fit(X_train, y_train)"
      ],
      "execution_count": 147,
      "outputs": [
        {
          "output_type": "stream",
          "text": [
            "Fitting 3 folds for each of 24 candidates, totalling 72 fits\n",
            "[CV] criterion=mse, max_depth=4, max_features=auto, n_estimators=100 .\n",
            "[CV]  criterion=mse, max_depth=4, max_features=auto, n_estimators=100, score=-381.5504527417454, total=   0.2s\n",
            "[CV] criterion=mse, max_depth=4, max_features=auto, n_estimators=100 .\n"
          ],
          "name": "stdout"
        },
        {
          "output_type": "stream",
          "text": [
            "[Parallel(n_jobs=1)]: Using backend SequentialBackend with 1 concurrent workers.\n",
            "[Parallel(n_jobs=1)]: Done   1 out of   1 | elapsed:    0.2s remaining:    0.0s\n"
          ],
          "name": "stderr"
        },
        {
          "output_type": "stream",
          "text": [
            "[CV]  criterion=mse, max_depth=4, max_features=auto, n_estimators=100, score=-443.3112197497901, total=   0.2s\n",
            "[CV] criterion=mse, max_depth=4, max_features=auto, n_estimators=100 .\n",
            "[CV]  criterion=mse, max_depth=4, max_features=auto, n_estimators=100, score=-362.78783800110233, total=   0.2s\n",
            "[CV] criterion=mse, max_depth=4, max_features=auto, n_estimators=200 .\n"
          ],
          "name": "stdout"
        },
        {
          "output_type": "stream",
          "text": [
            "[Parallel(n_jobs=1)]: Done   2 out of   2 | elapsed:    0.4s remaining:    0.0s\n",
            "[Parallel(n_jobs=1)]: Done   3 out of   3 | elapsed:    0.5s remaining:    0.0s\n"
          ],
          "name": "stderr"
        },
        {
          "output_type": "stream",
          "text": [
            "[CV]  criterion=mse, max_depth=4, max_features=auto, n_estimators=200, score=-379.2133557200429, total=   0.3s\n",
            "[CV] criterion=mse, max_depth=4, max_features=auto, n_estimators=200 .\n"
          ],
          "name": "stdout"
        },
        {
          "output_type": "stream",
          "text": [
            "[Parallel(n_jobs=1)]: Done   4 out of   4 | elapsed:    0.9s remaining:    0.0s\n"
          ],
          "name": "stderr"
        },
        {
          "output_type": "stream",
          "text": [
            "[CV]  criterion=mse, max_depth=4, max_features=auto, n_estimators=200, score=-442.00982420890017, total=   0.3s\n",
            "[CV] criterion=mse, max_depth=4, max_features=auto, n_estimators=200 .\n"
          ],
          "name": "stdout"
        },
        {
          "output_type": "stream",
          "text": [
            "[Parallel(n_jobs=1)]: Done   5 out of   5 | elapsed:    1.2s remaining:    0.0s\n"
          ],
          "name": "stderr"
        },
        {
          "output_type": "stream",
          "text": [
            "[CV]  criterion=mse, max_depth=4, max_features=auto, n_estimators=200, score=-373.8629649678891, total=   0.3s\n",
            "[CV] criterion=mse, max_depth=4, max_features=sqrt, n_estimators=100 .\n",
            "[CV]  criterion=mse, max_depth=4, max_features=sqrt, n_estimators=100, score=-455.3102657876117, total=   0.1s\n",
            "[CV] criterion=mse, max_depth=4, max_features=sqrt, n_estimators=100 .\n"
          ],
          "name": "stdout"
        },
        {
          "output_type": "stream",
          "text": [
            "[Parallel(n_jobs=1)]: Done   6 out of   6 | elapsed:    1.5s remaining:    0.0s\n",
            "[Parallel(n_jobs=1)]: Done   7 out of   7 | elapsed:    1.6s remaining:    0.0s\n"
          ],
          "name": "stderr"
        },
        {
          "output_type": "stream",
          "text": [
            "[CV]  criterion=mse, max_depth=4, max_features=sqrt, n_estimators=100, score=-568.650486242682, total=   0.1s\n",
            "[CV] criterion=mse, max_depth=4, max_features=sqrt, n_estimators=100 .\n",
            "[CV]  criterion=mse, max_depth=4, max_features=sqrt, n_estimators=100, score=-493.705154824169, total=   0.1s\n",
            "[CV] criterion=mse, max_depth=4, max_features=sqrt, n_estimators=200 .\n"
          ],
          "name": "stdout"
        },
        {
          "output_type": "stream",
          "text": [
            "[Parallel(n_jobs=1)]: Done   8 out of   8 | elapsed:    1.7s remaining:    0.0s\n",
            "[Parallel(n_jobs=1)]: Done   9 out of   9 | elapsed:    1.9s remaining:    0.0s\n"
          ],
          "name": "stderr"
        },
        {
          "output_type": "stream",
          "text": [
            "[CV]  criterion=mse, max_depth=4, max_features=sqrt, n_estimators=200, score=-458.8469177070496, total=   0.2s\n",
            "[CV] criterion=mse, max_depth=4, max_features=sqrt, n_estimators=200 .\n",
            "[CV]  criterion=mse, max_depth=4, max_features=sqrt, n_estimators=200, score=-566.2516311913012, total=   0.2s\n",
            "[CV] criterion=mse, max_depth=4, max_features=sqrt, n_estimators=200 .\n",
            "[CV]  criterion=mse, max_depth=4, max_features=sqrt, n_estimators=200, score=-496.9255724162789, total=   0.2s\n",
            "[CV] criterion=mse, max_depth=4, max_features=log2, n_estimators=100 .\n",
            "[CV]  criterion=mse, max_depth=4, max_features=log2, n_estimators=100, score=-445.4742113449789, total=   0.1s\n",
            "[CV] criterion=mse, max_depth=4, max_features=log2, n_estimators=100 .\n",
            "[CV]  criterion=mse, max_depth=4, max_features=log2, n_estimators=100, score=-576.3836567538978, total=   0.1s\n",
            "[CV] criterion=mse, max_depth=4, max_features=log2, n_estimators=100 .\n",
            "[CV]  criterion=mse, max_depth=4, max_features=log2, n_estimators=100, score=-506.4419025625211, total=   0.1s\n",
            "[CV] criterion=mse, max_depth=4, max_features=log2, n_estimators=200 .\n",
            "[CV]  criterion=mse, max_depth=4, max_features=log2, n_estimators=200, score=-463.46477364992626, total=   0.2s\n",
            "[CV] criterion=mse, max_depth=4, max_features=log2, n_estimators=200 .\n",
            "[CV]  criterion=mse, max_depth=4, max_features=log2, n_estimators=200, score=-567.1596170967366, total=   0.2s\n",
            "[CV] criterion=mse, max_depth=4, max_features=log2, n_estimators=200 .\n",
            "[CV]  criterion=mse, max_depth=4, max_features=log2, n_estimators=200, score=-494.20305221364436, total=   0.2s\n",
            "[CV] criterion=mse, max_depth=5, max_features=auto, n_estimators=100 .\n",
            "[CV]  criterion=mse, max_depth=5, max_features=auto, n_estimators=100, score=-335.6630775236014, total=   0.2s\n",
            "[CV] criterion=mse, max_depth=5, max_features=auto, n_estimators=100 .\n",
            "[CV]  criterion=mse, max_depth=5, max_features=auto, n_estimators=100, score=-387.45062886836297, total=   0.2s\n",
            "[CV] criterion=mse, max_depth=5, max_features=auto, n_estimators=100 .\n",
            "[CV]  criterion=mse, max_depth=5, max_features=auto, n_estimators=100, score=-332.7704749703031, total=   0.2s\n",
            "[CV] criterion=mse, max_depth=5, max_features=auto, n_estimators=200 .\n",
            "[CV]  criterion=mse, max_depth=5, max_features=auto, n_estimators=200, score=-329.8738528528784, total=   0.4s\n",
            "[CV] criterion=mse, max_depth=5, max_features=auto, n_estimators=200 .\n",
            "[CV]  criterion=mse, max_depth=5, max_features=auto, n_estimators=200, score=-391.79438503952764, total=   0.4s\n",
            "[CV] criterion=mse, max_depth=5, max_features=auto, n_estimators=200 .\n",
            "[CV]  criterion=mse, max_depth=5, max_features=auto, n_estimators=200, score=-330.59660633149144, total=   0.4s\n",
            "[CV] criterion=mse, max_depth=5, max_features=sqrt, n_estimators=100 .\n",
            "[CV]  criterion=mse, max_depth=5, max_features=sqrt, n_estimators=100, score=-404.557812636138, total=   0.1s\n",
            "[CV] criterion=mse, max_depth=5, max_features=sqrt, n_estimators=100 .\n",
            "[CV]  criterion=mse, max_depth=5, max_features=sqrt, n_estimators=100, score=-497.3497415073905, total=   0.1s\n",
            "[CV] criterion=mse, max_depth=5, max_features=sqrt, n_estimators=100 .\n",
            "[CV]  criterion=mse, max_depth=5, max_features=sqrt, n_estimators=100, score=-435.65222612246083, total=   0.1s\n",
            "[CV] criterion=mse, max_depth=5, max_features=sqrt, n_estimators=200 .\n",
            "[CV]  criterion=mse, max_depth=5, max_features=sqrt, n_estimators=200, score=-400.1513583885233, total=   0.2s\n",
            "[CV] criterion=mse, max_depth=5, max_features=sqrt, n_estimators=200 .\n",
            "[CV]  criterion=mse, max_depth=5, max_features=sqrt, n_estimators=200, score=-506.5090344261841, total=   0.2s\n",
            "[CV] criterion=mse, max_depth=5, max_features=sqrt, n_estimators=200 .\n",
            "[CV]  criterion=mse, max_depth=5, max_features=sqrt, n_estimators=200, score=-446.9706699848579, total=   0.2s\n",
            "[CV] criterion=mse, max_depth=5, max_features=log2, n_estimators=100 .\n",
            "[CV]  criterion=mse, max_depth=5, max_features=log2, n_estimators=100, score=-395.53216410574737, total=   0.1s\n",
            "[CV] criterion=mse, max_depth=5, max_features=log2, n_estimators=100 .\n",
            "[CV]  criterion=mse, max_depth=5, max_features=log2, n_estimators=100, score=-513.8649009036171, total=   0.1s\n",
            "[CV] criterion=mse, max_depth=5, max_features=log2, n_estimators=100 .\n",
            "[CV]  criterion=mse, max_depth=5, max_features=log2, n_estimators=100, score=-448.7424252860437, total=   0.1s\n",
            "[CV] criterion=mse, max_depth=5, max_features=log2, n_estimators=200 .\n",
            "[CV]  criterion=mse, max_depth=5, max_features=log2, n_estimators=200, score=-400.4021433820294, total=   0.2s\n",
            "[CV] criterion=mse, max_depth=5, max_features=log2, n_estimators=200 .\n",
            "[CV]  criterion=mse, max_depth=5, max_features=log2, n_estimators=200, score=-515.5410493802017, total=   0.2s\n",
            "[CV] criterion=mse, max_depth=5, max_features=log2, n_estimators=200 .\n",
            "[CV]  criterion=mse, max_depth=5, max_features=log2, n_estimators=200, score=-440.4995995344279, total=   0.2s\n",
            "[CV] criterion=mae, max_depth=4, max_features=auto, n_estimators=100 .\n",
            "[CV]  criterion=mae, max_depth=4, max_features=auto, n_estimators=100, score=-403.07789719626174, total=   1.3s\n",
            "[CV] criterion=mae, max_depth=4, max_features=auto, n_estimators=100 .\n",
            "[CV]  criterion=mae, max_depth=4, max_features=auto, n_estimators=100, score=-431.87126168224296, total=   1.2s\n",
            "[CV] criterion=mae, max_depth=4, max_features=auto, n_estimators=100 .\n",
            "[CV]  criterion=mae, max_depth=4, max_features=auto, n_estimators=100, score=-392.6581308411215, total=   1.3s\n",
            "[CV] criterion=mae, max_depth=4, max_features=auto, n_estimators=200 .\n",
            "[CV]  criterion=mae, max_depth=4, max_features=auto, n_estimators=200, score=-403.0572663551402, total=   2.6s\n",
            "[CV] criterion=mae, max_depth=4, max_features=auto, n_estimators=200 .\n",
            "[CV]  criterion=mae, max_depth=4, max_features=auto, n_estimators=200, score=-429.22644080996884, total=   2.4s\n",
            "[CV] criterion=mae, max_depth=4, max_features=auto, n_estimators=200 .\n",
            "[CV]  criterion=mae, max_depth=4, max_features=auto, n_estimators=200, score=-385.2654205607477, total=   2.5s\n",
            "[CV] criterion=mae, max_depth=4, max_features=sqrt, n_estimators=100 .\n",
            "[CV]  criterion=mae, max_depth=4, max_features=sqrt, n_estimators=100, score=-465.2373364485981, total=   0.4s\n",
            "[CV] criterion=mae, max_depth=4, max_features=sqrt, n_estimators=100 .\n",
            "[CV]  criterion=mae, max_depth=4, max_features=sqrt, n_estimators=100, score=-556.0426479750779, total=   0.4s\n",
            "[CV] criterion=mae, max_depth=4, max_features=sqrt, n_estimators=100 .\n",
            "[CV]  criterion=mae, max_depth=4, max_features=sqrt, n_estimators=100, score=-493.1140186915888, total=   0.4s\n",
            "[CV] criterion=mae, max_depth=4, max_features=sqrt, n_estimators=200 .\n",
            "[CV]  criterion=mae, max_depth=4, max_features=sqrt, n_estimators=200, score=-469.72696261682245, total=   0.8s\n",
            "[CV] criterion=mae, max_depth=4, max_features=sqrt, n_estimators=200 .\n",
            "[CV]  criterion=mae, max_depth=4, max_features=sqrt, n_estimators=200, score=-558.0321495327103, total=   0.7s\n",
            "[CV] criterion=mae, max_depth=4, max_features=sqrt, n_estimators=200 .\n",
            "[CV]  criterion=mae, max_depth=4, max_features=sqrt, n_estimators=200, score=-492.37131619937696, total=   0.7s\n",
            "[CV] criterion=mae, max_depth=4, max_features=log2, n_estimators=100 .\n",
            "[CV]  criterion=mae, max_depth=4, max_features=log2, n_estimators=100, score=-468.69006230529595, total=   0.4s\n",
            "[CV] criterion=mae, max_depth=4, max_features=log2, n_estimators=100 .\n",
            "[CV]  criterion=mae, max_depth=4, max_features=log2, n_estimators=100, score=-562.7651557632398, total=   0.4s\n",
            "[CV] criterion=mae, max_depth=4, max_features=log2, n_estimators=100 .\n",
            "[CV]  criterion=mae, max_depth=4, max_features=log2, n_estimators=100, score=-476.7293613707165, total=   0.4s\n",
            "[CV] criterion=mae, max_depth=4, max_features=log2, n_estimators=200 .\n",
            "[CV]  criterion=mae, max_depth=4, max_features=log2, n_estimators=200, score=-470.0383489096573, total=   0.8s\n",
            "[CV] criterion=mae, max_depth=4, max_features=log2, n_estimators=200 .\n",
            "[CV]  criterion=mae, max_depth=4, max_features=log2, n_estimators=200, score=-551.9391433021807, total=   0.7s\n",
            "[CV] criterion=mae, max_depth=4, max_features=log2, n_estimators=200 .\n",
            "[CV]  criterion=mae, max_depth=4, max_features=log2, n_estimators=200, score=-488.06623052959503, total=   0.7s\n",
            "[CV] criterion=mae, max_depth=5, max_features=auto, n_estimators=100 .\n",
            "[CV]  criterion=mae, max_depth=5, max_features=auto, n_estimators=100, score=-358.51655763239876, total=   1.5s\n",
            "[CV] criterion=mae, max_depth=5, max_features=auto, n_estimators=100 .\n",
            "[CV]  criterion=mae, max_depth=5, max_features=auto, n_estimators=100, score=-380.54942367601245, total=   1.4s\n",
            "[CV] criterion=mae, max_depth=5, max_features=auto, n_estimators=100 .\n",
            "[CV]  criterion=mae, max_depth=5, max_features=auto, n_estimators=100, score=-334.2302959501558, total=   1.4s\n",
            "[CV] criterion=mae, max_depth=5, max_features=auto, n_estimators=200 .\n",
            "[CV]  criterion=mae, max_depth=5, max_features=auto, n_estimators=200, score=-353.1408800623053, total=   2.9s\n",
            "[CV] criterion=mae, max_depth=5, max_features=auto, n_estimators=200 .\n",
            "[CV]  criterion=mae, max_depth=5, max_features=auto, n_estimators=200, score=-382.813816199377, total=   2.8s\n",
            "[CV] criterion=mae, max_depth=5, max_features=auto, n_estimators=200 .\n",
            "[CV]  criterion=mae, max_depth=5, max_features=auto, n_estimators=200, score=-338.0393457943925, total=   2.9s\n",
            "[CV] criterion=mae, max_depth=5, max_features=sqrt, n_estimators=100 .\n",
            "[CV]  criterion=mae, max_depth=5, max_features=sqrt, n_estimators=100, score=-410.8071806853582, total=   0.4s\n",
            "[CV] criterion=mae, max_depth=5, max_features=sqrt, n_estimators=100 .\n",
            "[CV]  criterion=mae, max_depth=5, max_features=sqrt, n_estimators=100, score=-506.6548598130841, total=   0.4s\n",
            "[CV] criterion=mae, max_depth=5, max_features=sqrt, n_estimators=100 .\n",
            "[CV]  criterion=mae, max_depth=5, max_features=sqrt, n_estimators=100, score=-451.4271028037383, total=   0.4s\n",
            "[CV] criterion=mae, max_depth=5, max_features=sqrt, n_estimators=200 .\n",
            "[CV]  criterion=mae, max_depth=5, max_features=sqrt, n_estimators=200, score=-422.0386448598131, total=   0.8s\n",
            "[CV] criterion=mae, max_depth=5, max_features=sqrt, n_estimators=200 .\n",
            "[CV]  criterion=mae, max_depth=5, max_features=sqrt, n_estimators=200, score=-500.33595794392534, total=   0.8s\n",
            "[CV] criterion=mae, max_depth=5, max_features=sqrt, n_estimators=200 .\n",
            "[CV]  criterion=mae, max_depth=5, max_features=sqrt, n_estimators=200, score=-431.3661137071652, total=   0.8s\n",
            "[CV] criterion=mae, max_depth=5, max_features=log2, n_estimators=100 .\n",
            "[CV]  criterion=mae, max_depth=5, max_features=log2, n_estimators=100, score=-416.45658878504673, total=   0.4s\n",
            "[CV] criterion=mae, max_depth=5, max_features=log2, n_estimators=100 .\n",
            "[CV]  criterion=mae, max_depth=5, max_features=log2, n_estimators=100, score=-491.6133177570093, total=   0.4s\n",
            "[CV] criterion=mae, max_depth=5, max_features=log2, n_estimators=100 .\n",
            "[CV]  criterion=mae, max_depth=5, max_features=log2, n_estimators=100, score=-420.4642211838006, total=   0.4s\n",
            "[CV] criterion=mae, max_depth=5, max_features=log2, n_estimators=200 .\n",
            "[CV]  criterion=mae, max_depth=5, max_features=log2, n_estimators=200, score=-407.8304672897196, total=   0.8s\n",
            "[CV] criterion=mae, max_depth=5, max_features=log2, n_estimators=200 .\n",
            "[CV]  criterion=mae, max_depth=5, max_features=log2, n_estimators=200, score=-489.43204828660436, total=   0.8s\n",
            "[CV] criterion=mae, max_depth=5, max_features=log2, n_estimators=200 .\n",
            "[CV]  criterion=mae, max_depth=5, max_features=log2, n_estimators=200, score=-441.12126168224296, total=   0.8s\n"
          ],
          "name": "stdout"
        },
        {
          "output_type": "stream",
          "text": [
            "[Parallel(n_jobs=1)]: Done  72 out of  72 | elapsed:   46.4s finished\n"
          ],
          "name": "stderr"
        },
        {
          "output_type": "stream",
          "text": [
            "CPU times: user 46.8 s, sys: 80.1 ms, total: 46.8 s\n",
            "Wall time: 46.8 s\n"
          ],
          "name": "stdout"
        }
      ]
    },
    {
      "metadata": {
        "id": "W1id3GvTGTjP",
        "colab_type": "code",
        "outputId": "b6da14e8-bc12-47f3-d184-8c9eb31d89dd",
        "colab": {
          "base_uri": "https://localhost:8080/",
          "height": 185
        }
      },
      "cell_type": "code",
      "source": [
        "results = pd.DataFrame(gridsearch.cv_results_)\n",
        "print(f'Best result from grid search of {len(results)} parameter combinations')\n",
        "results.sort_values(by='rank_test_score').head(1)"
      ],
      "execution_count": 149,
      "outputs": [
        {
          "output_type": "stream",
          "text": [
            "Best result from grid search of 24 parameter combinations\n"
          ],
          "name": "stdout"
        },
        {
          "output_type": "execute_result",
          "data": {
            "text/html": [
              "<div>\n",
              "<style scoped>\n",
              "    .dataframe tbody tr th:only-of-type {\n",
              "        vertical-align: middle;\n",
              "    }\n",
              "\n",
              "    .dataframe tbody tr th {\n",
              "        vertical-align: top;\n",
              "    }\n",
              "\n",
              "    .dataframe thead th {\n",
              "        text-align: right;\n",
              "    }\n",
              "</style>\n",
              "<table border=\"1\" class=\"dataframe\">\n",
              "  <thead>\n",
              "    <tr style=\"text-align: right;\">\n",
              "      <th></th>\n",
              "      <th>mean_fit_time</th>\n",
              "      <th>mean_score_time</th>\n",
              "      <th>mean_test_score</th>\n",
              "      <th>mean_train_score</th>\n",
              "      <th>param_criterion</th>\n",
              "      <th>param_max_depth</th>\n",
              "      <th>param_max_features</th>\n",
              "      <th>param_n_estimators</th>\n",
              "      <th>params</th>\n",
              "      <th>rank_test_score</th>\n",
              "      <th>split0_test_score</th>\n",
              "      <th>split0_train_score</th>\n",
              "      <th>split1_test_score</th>\n",
              "      <th>split1_train_score</th>\n",
              "      <th>split2_test_score</th>\n",
              "      <th>split2_train_score</th>\n",
              "      <th>std_fit_time</th>\n",
              "      <th>std_score_time</th>\n",
              "      <th>std_test_score</th>\n",
              "      <th>std_train_score</th>\n",
              "    </tr>\n",
              "  </thead>\n",
              "  <tbody>\n",
              "    <tr>\n",
              "      <th>7</th>\n",
              "      <td>0.354996</td>\n",
              "      <td>0.016685</td>\n",
              "      <td>-350.754948</td>\n",
              "      <td>-274.955371</td>\n",
              "      <td>mse</td>\n",
              "      <td>5</td>\n",
              "      <td>auto</td>\n",
              "      <td>200</td>\n",
              "      <td>{'criterion': 'mse', 'max_depth': 5, 'max_feat...</td>\n",
              "      <td>1</td>\n",
              "      <td>-329.873853</td>\n",
              "      <td>-280.982924</td>\n",
              "      <td>-391.794385</td>\n",
              "      <td>-260.006239</td>\n",
              "      <td>-330.596606</td>\n",
              "      <td>-283.876951</td>\n",
              "      <td>0.00911</td>\n",
              "      <td>0.001263</td>\n",
              "      <td>29.020764</td>\n",
              "      <td>10.636455</td>\n",
              "    </tr>\n",
              "  </tbody>\n",
              "</table>\n",
              "</div>"
            ],
            "text/plain": [
              "   mean_fit_time  mean_score_time  mean_test_score  mean_train_score  \\\n",
              "7       0.354996         0.016685      -350.754948       -274.955371   \n",
              "\n",
              "  param_criterion param_max_depth param_max_features param_n_estimators  \\\n",
              "7             mse               5               auto                200   \n",
              "\n",
              "                                              params  rank_test_score  \\\n",
              "7  {'criterion': 'mse', 'max_depth': 5, 'max_feat...                1   \n",
              "\n",
              "   split0_test_score  split0_train_score  split1_test_score  \\\n",
              "7        -329.873853         -280.982924        -391.794385   \n",
              "\n",
              "   split1_train_score  split2_test_score  split2_train_score  std_fit_time  \\\n",
              "7         -260.006239        -330.596606         -283.876951       0.00911   \n",
              "\n",
              "   std_score_time  std_test_score  std_train_score  \n",
              "7        0.001263       29.020764        10.636455  "
            ]
          },
          "metadata": {
            "tags": []
          },
          "execution_count": 149
        }
      ]
    },
    {
      "metadata": {
        "id": "ZW5HfYtU0GW2",
        "colab_type": "text"
      },
      "cell_type": "markdown",
      "source": [
        "## FEATURE ENGINEERING!"
      ]
    },
    {
      "metadata": {
        "id": "0ms-eoOHFvPG",
        "colab_type": "text"
      },
      "cell_type": "markdown",
      "source": [
        "Jake VanderPlas demonstrates this feature engineering: \n",
        "https://jakevdp.github.io/PythonDataScienceHandbook/05.06-linear-regression.html#Example:-Predicting-Bicycle-Traffic"
      ]
    },
    {
      "metadata": {
        "id": "sEwME8wR3A5g",
        "colab_type": "code",
        "colab": {
          "base_uri": "https://localhost:8080/",
          "height": 859
        },
        "outputId": "edc9f719-81cf-4188-aa07-4918cd1284f4"
      },
      "cell_type": "code",
      "source": [
        "# Modified from code cells 17-21 at\n",
        "# https://jakevdp.github.io/PythonDataScienceHandbook/05.06-linear-regression.html#Example:-Predicting-Bicycle-Traffic\n",
        "\n",
        "\n",
        "# Create column for each day of the week\n",
        "# patterns of use generally vary from day to day; \n",
        "# let's add binary columns that indicate the day of the week:\n",
        "days = ['Mon', 'Tue', 'Wed', 'Thu', 'Fri', 'Sat', 'Sun']\n",
        "for i, day in enumerate(days):\n",
        "    X_train[day] = (X_train.index.dayofweek == i).astype(float)\n",
        "\n",
        "    \n",
        "# we might expect riders to behave differently on holidays; \n",
        "# let's add an indicator of this as well:\n",
        "from pandas.tseries.holiday import USFederalHolidayCalendar\n",
        "cal = USFederalHolidayCalendar()\n",
        "holidays = cal.holidays('2012', '2016')\n",
        "X_train = X_train.join(pd.Series(1, index=holidays, name='holiday'))\n",
        "X_train['holiday'].fillna(0, inplace=True)\n",
        "\n",
        "\n",
        "\n",
        "# We also might suspect that the hours of daylight would affect \n",
        "# how many people ride; let's use the standard astronomical calculation \n",
        "# to add this information:\n",
        "def hours_of_daylight(date, axis=23.44, latitude=47.61):\n",
        "    \"\"\"Compute the hours of daylight for the given date\"\"\"\n",
        "    days = (date - pd.datetime(2000, 12, 21)).days\n",
        "    m = (1. - np.tan(np.radians(latitude))\n",
        "         * np.tan(np.radians(axis) * np.cos(days * 2 * np.pi / 365.25)))\n",
        "    return 24. * np.degrees(np.arccos(1 - np.clip(m, 0, 2))) / 180.\n",
        "\n",
        "X_train['daylight_hrs'] = list(map(hours_of_daylight, X_train.index))\n",
        "\n",
        "\n",
        "\n",
        "# temperatures are in 1/10 deg C; convert to C\n",
        "X_train['TMIN'] /= 10\n",
        "X_train['TMAX'] /= 10\n",
        "\n",
        "# We can also calcuate the average temperature.\n",
        "X_train['Temp (C)'] = 0.5 * (X_train['TMIN'] + X_train['TMAX'])\n",
        "\n",
        "\n",
        "# precip is in 1/10 mm; convert to inches\n",
        "X_train['PRCP'] /= 254\n",
        "\n",
        "# In addition to the inches of precipitation, let's add a flag that \n",
        "# indicates whether a day is dry (has zero precipitation):\n",
        "X_train['dry day'] = (X_train['PRCP'] == 0).astype(int)\n",
        "\n",
        "\n",
        "\n",
        "# Let's add a counter that increases from day 1, and measures how many \n",
        "# years have passed. This will let us measure any observed annual increase \n",
        "# or decrease in daily crossings:\n",
        "X_train['annual'] = (X_train.index - X_train.index[0]).days / 365."
      ],
      "execution_count": 152,
      "outputs": [
        {
          "output_type": "error",
          "ename": "ValueError",
          "evalue": "ignored",
          "traceback": [
            "\u001b[0;31m---------------------------------------------------------------------------\u001b[0m",
            "\u001b[0;31mValueError\u001b[0m                                Traceback (most recent call last)",
            "\u001b[0;32m<ipython-input-152-f263c167b128>\u001b[0m in \u001b[0;36m<module>\u001b[0;34m()\u001b[0m\n\u001b[1;32m     10\u001b[0m \u001b[0mcal\u001b[0m \u001b[0;34m=\u001b[0m \u001b[0mUSFederalHolidayCalendar\u001b[0m\u001b[0;34m(\u001b[0m\u001b[0;34m)\u001b[0m\u001b[0;34m\u001b[0m\u001b[0;34m\u001b[0m\u001b[0m\n\u001b[1;32m     11\u001b[0m \u001b[0mholidays\u001b[0m \u001b[0;34m=\u001b[0m \u001b[0mcal\u001b[0m\u001b[0;34m.\u001b[0m\u001b[0mholidays\u001b[0m\u001b[0;34m(\u001b[0m\u001b[0;34m'2012'\u001b[0m\u001b[0;34m,\u001b[0m \u001b[0;34m'2016'\u001b[0m\u001b[0;34m)\u001b[0m\u001b[0;34m\u001b[0m\u001b[0;34m\u001b[0m\u001b[0m\n\u001b[0;32m---> 12\u001b[0;31m \u001b[0mX_train\u001b[0m \u001b[0;34m=\u001b[0m \u001b[0mX_train\u001b[0m\u001b[0;34m.\u001b[0m\u001b[0mjoin\u001b[0m\u001b[0;34m(\u001b[0m\u001b[0mpd\u001b[0m\u001b[0;34m.\u001b[0m\u001b[0mSeries\u001b[0m\u001b[0;34m(\u001b[0m\u001b[0;36m1\u001b[0m\u001b[0;34m,\u001b[0m \u001b[0mindex\u001b[0m\u001b[0;34m=\u001b[0m\u001b[0mholidays\u001b[0m\u001b[0;34m,\u001b[0m \u001b[0mname\u001b[0m\u001b[0;34m=\u001b[0m\u001b[0;34m'holiday'\u001b[0m\u001b[0;34m)\u001b[0m\u001b[0;34m)\u001b[0m\u001b[0;34m\u001b[0m\u001b[0;34m\u001b[0m\u001b[0m\n\u001b[0m\u001b[1;32m     13\u001b[0m \u001b[0mX_train\u001b[0m\u001b[0;34m[\u001b[0m\u001b[0;34m'holiday'\u001b[0m\u001b[0;34m]\u001b[0m\u001b[0;34m.\u001b[0m\u001b[0mfillna\u001b[0m\u001b[0;34m(\u001b[0m\u001b[0;36m0\u001b[0m\u001b[0;34m,\u001b[0m \u001b[0minplace\u001b[0m\u001b[0;34m=\u001b[0m\u001b[0;32mTrue\u001b[0m\u001b[0;34m)\u001b[0m\u001b[0;34m\u001b[0m\u001b[0;34m\u001b[0m\u001b[0m\n\u001b[1;32m     14\u001b[0m \u001b[0;34m\u001b[0m\u001b[0m\n",
            "\u001b[0;32m/usr/local/lib/python3.6/dist-packages/pandas/core/frame.py\u001b[0m in \u001b[0;36mjoin\u001b[0;34m(self, other, on, how, lsuffix, rsuffix, sort)\u001b[0m\n\u001b[1;32m   5314\u001b[0m         \u001b[0;31m# For SparseDataFrame's benefit\u001b[0m\u001b[0;34m\u001b[0m\u001b[0;34m\u001b[0m\u001b[0;34m\u001b[0m\u001b[0m\n\u001b[1;32m   5315\u001b[0m         return self._join_compat(other, on=on, how=how, lsuffix=lsuffix,\n\u001b[0;32m-> 5316\u001b[0;31m                                  rsuffix=rsuffix, sort=sort)\n\u001b[0m\u001b[1;32m   5317\u001b[0m \u001b[0;34m\u001b[0m\u001b[0m\n\u001b[1;32m   5318\u001b[0m     def _join_compat(self, other, on=None, how='left', lsuffix='', rsuffix='',\n",
            "\u001b[0;32m/usr/local/lib/python3.6/dist-packages/pandas/core/frame.py\u001b[0m in \u001b[0;36m_join_compat\u001b[0;34m(self, other, on, how, lsuffix, rsuffix, sort)\u001b[0m\n\u001b[1;32m   5329\u001b[0m             return merge(self, other, left_on=on, how=how,\n\u001b[1;32m   5330\u001b[0m                          \u001b[0mleft_index\u001b[0m\u001b[0;34m=\u001b[0m\u001b[0mon\u001b[0m \u001b[0;32mis\u001b[0m \u001b[0;32mNone\u001b[0m\u001b[0;34m,\u001b[0m \u001b[0mright_index\u001b[0m\u001b[0;34m=\u001b[0m\u001b[0;32mTrue\u001b[0m\u001b[0;34m,\u001b[0m\u001b[0;34m\u001b[0m\u001b[0;34m\u001b[0m\u001b[0m\n\u001b[0;32m-> 5331\u001b[0;31m                          suffixes=(lsuffix, rsuffix), sort=sort)\n\u001b[0m\u001b[1;32m   5332\u001b[0m         \u001b[0;32melse\u001b[0m\u001b[0;34m:\u001b[0m\u001b[0;34m\u001b[0m\u001b[0;34m\u001b[0m\u001b[0m\n\u001b[1;32m   5333\u001b[0m             \u001b[0;32mif\u001b[0m \u001b[0mon\u001b[0m \u001b[0;32mis\u001b[0m \u001b[0;32mnot\u001b[0m \u001b[0;32mNone\u001b[0m\u001b[0;34m:\u001b[0m\u001b[0;34m\u001b[0m\u001b[0;34m\u001b[0m\u001b[0m\n",
            "\u001b[0;32m/usr/local/lib/python3.6/dist-packages/pandas/core/reshape/merge.py\u001b[0m in \u001b[0;36mmerge\u001b[0;34m(left, right, how, on, left_on, right_on, left_index, right_index, sort, suffixes, copy, indicator, validate)\u001b[0m\n\u001b[1;32m     56\u001b[0m                          \u001b[0mcopy\u001b[0m\u001b[0;34m=\u001b[0m\u001b[0mcopy\u001b[0m\u001b[0;34m,\u001b[0m \u001b[0mindicator\u001b[0m\u001b[0;34m=\u001b[0m\u001b[0mindicator\u001b[0m\u001b[0;34m,\u001b[0m\u001b[0;34m\u001b[0m\u001b[0;34m\u001b[0m\u001b[0m\n\u001b[1;32m     57\u001b[0m                          validate=validate)\n\u001b[0;32m---> 58\u001b[0;31m     \u001b[0;32mreturn\u001b[0m \u001b[0mop\u001b[0m\u001b[0;34m.\u001b[0m\u001b[0mget_result\u001b[0m\u001b[0;34m(\u001b[0m\u001b[0;34m)\u001b[0m\u001b[0;34m\u001b[0m\u001b[0;34m\u001b[0m\u001b[0m\n\u001b[0m\u001b[1;32m     59\u001b[0m \u001b[0;34m\u001b[0m\u001b[0m\n\u001b[1;32m     60\u001b[0m \u001b[0;34m\u001b[0m\u001b[0m\n",
            "\u001b[0;32m/usr/local/lib/python3.6/dist-packages/pandas/core/reshape/merge.py\u001b[0m in \u001b[0;36mget_result\u001b[0;34m(self)\u001b[0m\n\u001b[1;32m    586\u001b[0m \u001b[0;34m\u001b[0m\u001b[0m\n\u001b[1;32m    587\u001b[0m         llabels, rlabels = items_overlap_with_suffix(ldata.items, lsuf,\n\u001b[0;32m--> 588\u001b[0;31m                                                      rdata.items, rsuf)\n\u001b[0m\u001b[1;32m    589\u001b[0m \u001b[0;34m\u001b[0m\u001b[0m\n\u001b[1;32m    590\u001b[0m         \u001b[0mlindexers\u001b[0m \u001b[0;34m=\u001b[0m \u001b[0;34m{\u001b[0m\u001b[0;36m1\u001b[0m\u001b[0;34m:\u001b[0m \u001b[0mleft_indexer\u001b[0m\u001b[0;34m}\u001b[0m \u001b[0;32mif\u001b[0m \u001b[0mleft_indexer\u001b[0m \u001b[0;32mis\u001b[0m \u001b[0;32mnot\u001b[0m \u001b[0;32mNone\u001b[0m \u001b[0;32melse\u001b[0m \u001b[0;34m{\u001b[0m\u001b[0;34m}\u001b[0m\u001b[0;34m\u001b[0m\u001b[0;34m\u001b[0m\u001b[0m\n",
            "\u001b[0;32m/usr/local/lib/python3.6/dist-packages/pandas/core/internals.py\u001b[0m in \u001b[0;36mitems_overlap_with_suffix\u001b[0;34m(left, lsuffix, right, rsuffix)\u001b[0m\n\u001b[1;32m   5024\u001b[0m         \u001b[0;32mif\u001b[0m \u001b[0;32mnot\u001b[0m \u001b[0mlsuffix\u001b[0m \u001b[0;32mand\u001b[0m \u001b[0;32mnot\u001b[0m \u001b[0mrsuffix\u001b[0m\u001b[0;34m:\u001b[0m\u001b[0;34m\u001b[0m\u001b[0;34m\u001b[0m\u001b[0m\n\u001b[1;32m   5025\u001b[0m             raise ValueError('columns overlap but no suffix specified: %s' %\n\u001b[0;32m-> 5026\u001b[0;31m                              to_rename)\n\u001b[0m\u001b[1;32m   5027\u001b[0m \u001b[0;34m\u001b[0m\u001b[0m\n\u001b[1;32m   5028\u001b[0m         \u001b[0;32mdef\u001b[0m \u001b[0mlrenamer\u001b[0m\u001b[0;34m(\u001b[0m\u001b[0mx\u001b[0m\u001b[0;34m)\u001b[0m\u001b[0;34m:\u001b[0m\u001b[0;34m\u001b[0m\u001b[0;34m\u001b[0m\u001b[0m\n",
            "\u001b[0;31mValueError\u001b[0m: columns overlap but no suffix specified: Index(['holiday'], dtype='object')"
          ]
        }
      ]
    },
    {
      "metadata": {
        "id": "dDGkAv813Wtj",
        "colab_type": "text"
      },
      "cell_type": "markdown",
      "source": [
        "### Linear Regression (with new features)"
      ]
    },
    {
      "metadata": {
        "id": "cj3HTM6p5F1A",
        "colab_type": "code",
        "outputId": "920ddcf3-adb9-4670-9add-c7c50cda9254",
        "colab": {
          "base_uri": "https://localhost:8080/",
          "height": 138
        }
      },
      "cell_type": "code",
      "source": [
        "scores = cross_validate(LinearRegression(), X_train, y_train, \n",
        "                        scoring='neg_mean_absolute_error', cv=3, \n",
        "                        return_train_score=True, return_estimator=True)\n",
        "\n",
        "pd.DataFrame(scores)"
      ],
      "execution_count": 153,
      "outputs": [
        {
          "output_type": "execute_result",
          "data": {
            "text/html": [
              "<div>\n",
              "<style scoped>\n",
              "    .dataframe tbody tr th:only-of-type {\n",
              "        vertical-align: middle;\n",
              "    }\n",
              "\n",
              "    .dataframe tbody tr th {\n",
              "        vertical-align: top;\n",
              "    }\n",
              "\n",
              "    .dataframe thead th {\n",
              "        text-align: right;\n",
              "    }\n",
              "</style>\n",
              "<table border=\"1\" class=\"dataframe\">\n",
              "  <thead>\n",
              "    <tr style=\"text-align: right;\">\n",
              "      <th></th>\n",
              "      <th>estimator</th>\n",
              "      <th>fit_time</th>\n",
              "      <th>score_time</th>\n",
              "      <th>test_score</th>\n",
              "      <th>train_score</th>\n",
              "    </tr>\n",
              "  </thead>\n",
              "  <tbody>\n",
              "    <tr>\n",
              "      <th>0</th>\n",
              "      <td>LinearRegression(copy_X=True, fit_intercept=Tr...</td>\n",
              "      <td>0.003144</td>\n",
              "      <td>0.001849</td>\n",
              "      <td>-297.692524</td>\n",
              "      <td>-294.532315</td>\n",
              "    </tr>\n",
              "    <tr>\n",
              "      <th>1</th>\n",
              "      <td>LinearRegression(copy_X=True, fit_intercept=Tr...</td>\n",
              "      <td>0.002597</td>\n",
              "      <td>0.001689</td>\n",
              "      <td>-300.419037</td>\n",
              "      <td>-283.779461</td>\n",
              "    </tr>\n",
              "    <tr>\n",
              "      <th>2</th>\n",
              "      <td>LinearRegression(copy_X=True, fit_intercept=Tr...</td>\n",
              "      <td>0.002554</td>\n",
              "      <td>0.001590</td>\n",
              "      <td>-322.640378</td>\n",
              "      <td>-283.509114</td>\n",
              "    </tr>\n",
              "  </tbody>\n",
              "</table>\n",
              "</div>"
            ],
            "text/plain": [
              "                                           estimator  fit_time  score_time  \\\n",
              "0  LinearRegression(copy_X=True, fit_intercept=Tr...  0.003144    0.001849   \n",
              "1  LinearRegression(copy_X=True, fit_intercept=Tr...  0.002597    0.001689   \n",
              "2  LinearRegression(copy_X=True, fit_intercept=Tr...  0.002554    0.001590   \n",
              "\n",
              "   test_score  train_score  \n",
              "0 -297.692524  -294.532315  \n",
              "1 -300.419037  -283.779461  \n",
              "2 -322.640378  -283.509114  "
            ]
          },
          "metadata": {
            "tags": []
          },
          "execution_count": 153
        }
      ]
    },
    {
      "metadata": {
        "id": "b6zxN2xB3bX_",
        "colab_type": "text"
      },
      "cell_type": "markdown",
      "source": [
        "### Random Forest (with new features)"
      ]
    },
    {
      "metadata": {
        "id": "3sWUDZIz1-kk",
        "colab_type": "code",
        "outputId": "7a67c2f5-caad-4444-844f-9066b3880743",
        "colab": {
          "base_uri": "https://localhost:8080/",
          "height": 52
        }
      },
      "cell_type": "code",
      "source": [
        "%%time \n",
        "\n",
        "from sklearn.ensemble import RandomForestRegressor\n",
        "\n",
        "model = RandomForestRegressor(n_estimators=100, max_depth=20)\n",
        "\n",
        "scores = cross_validate(model, X_train, y_train, \n",
        "                        scoring='neg_mean_absolute_error', \n",
        "                        cv=3, return_train_score=True, \n",
        "                        return_estimator=True)\n",
        "\n",
        "pd.DataFrame(scores)\n",
        "# TODO: Instantiate and fit a GridSearchCV and look at best results"
      ],
      "execution_count": 155,
      "outputs": [
        {
          "output_type": "stream",
          "text": [
            "CPU times: user 1.08 s, sys: 6.83 ms, total: 1.08 s\n",
            "Wall time: 1.09 s\n"
          ],
          "name": "stdout"
        }
      ]
    },
    {
      "metadata": {
        "id": "dqCzIPWOXBG0",
        "colab_type": "code",
        "colab": {
          "base_uri": "https://localhost:8080/",
          "height": 89
        },
        "outputId": "b7a8bb8c-0c7f-49bc-d59d-8e56b25f1138"
      },
      "cell_type": "code",
      "source": [
        "%history -n 1-3"
      ],
      "execution_count": 70,
      "outputs": [
        {
          "output_type": "stream",
          "text": [
            "   1: !curl -o FremontBridge.csv https://data.seattle.gov/api/views/65db-xm6k/rows.csv?accessType=DOWNLOAD\n",
            "   2: !curl -o FremontBridge.csv https://data.seattle.gov/api/views/65db-xm6k/rows.csv?accessType=DOWNLOAD\n",
            "   3: !wget https://raw.githubusercontent.com/jakevdp/PythonDataScienceHandbook/master/notebooks/data/BicycleWeather.csv\n"
          ],
          "name": "stdout"
        }
      ]
    },
    {
      "metadata": {
        "id": "0QEBUVR13kcb",
        "colab_type": "text"
      },
      "cell_type": "markdown",
      "source": [
        "### Ridge Regression (with new features)\n",
        "\n",
        "https://scikit-learn.org/stable/modules/generated/sklearn.linear_model.Ridge.html"
      ]
    },
    {
      "metadata": {
        "id": "4voLbIxU8r6r",
        "colab_type": "code",
        "outputId": "49ec56a5-579c-4c88-8880-7d71bebdb918",
        "colab": {
          "base_uri": "https://localhost:8080/",
          "height": 138
        }
      },
      "cell_type": "code",
      "source": [
        "from sklearn.linear_model import Ridge\n",
        "\n",
        "param_grid = {\n",
        "    'alpha': [0.1, 1.0, 10.]\n",
        "}\n",
        "\n",
        "gridsearch = GridSearchCV(Ridge(), param_grid=param_grid, \n",
        "                          scoring='neg_mean_absolute_error', cv=3, \n",
        "                          return_train_score=True)\n",
        "\n",
        "gridsearch.fit(X_train, y_train)"
      ],
      "execution_count": 0,
      "outputs": [
        {
          "output_type": "execute_result",
          "data": {
            "text/plain": [
              "GridSearchCV(cv=3, error_score='raise-deprecating',\n",
              "       estimator=Ridge(alpha=1.0, copy_X=True, fit_intercept=True, max_iter=None,\n",
              "   normalize=False, random_state=None, solver='auto', tol=0.001),\n",
              "       fit_params=None, iid='warn', n_jobs=None,\n",
              "       param_grid={'alpha': [0.1, 1.0, 10.0]}, pre_dispatch='2*n_jobs',\n",
              "       refit=True, return_train_score=True,\n",
              "       scoring='neg_mean_absolute_error', verbose=0)"
            ]
          },
          "metadata": {
            "tags": []
          },
          "execution_count": 63
        }
      ]
    },
    {
      "metadata": {
        "id": "k93s5440Jri8",
        "colab_type": "code",
        "colab": {
          "base_uri": "https://localhost:8080/",
          "height": 380
        },
        "outputId": "9f2c8a99-7a66-4a28-bed1-866f7cfeb11e"
      },
      "cell_type": "code",
      "source": [
        "# Look at best fit\n",
        "model = gridsearch.best_estimator_\n",
        "\n",
        "coefficients = model.coef_\n",
        "intercept = model.intercept_\n",
        "feature_names = X_train.columns\n",
        "\n",
        "print('Best model from grid search cross validation')\n",
        "print('Intercept', intercept)\n",
        "print(pd.Series(coefficients, feature_names).to_string())"
      ],
      "execution_count": 64,
      "outputs": [
        {
          "output_type": "stream",
          "text": [
            "Best model from grid search cross validation\n",
            "Intercept 33.741779570641484\n",
            "PRCP               -553.070741\n",
            "SNOW                 -0.002829\n",
            "SNWD                 -1.877519\n",
            "TMAX                 63.833062\n",
            "TMIN                -37.450291\n",
            "AWND                 -1.900084\n",
            "Total_yesterday       0.296029\n",
            "Mon                 779.221395\n",
            "Tue                 432.700039\n",
            "Wed                 368.367626\n",
            "Thu                 274.054021\n",
            "Fri                  47.251356\n",
            "Sat               -1099.692199\n",
            "Sun                -801.902237\n",
            "holiday            -939.301546\n",
            "daylight_hrs         70.256463\n",
            "Temp (C)             13.191386\n",
            "dry day             298.475434\n",
            "annual               44.518889\n"
          ],
          "name": "stdout"
        }
      ]
    },
    {
      "metadata": {
        "id": "dofdwyTf3pm0",
        "colab_type": "text"
      },
      "cell_type": "markdown",
      "source": [
        "### Compare to statsmodels"
      ]
    },
    {
      "metadata": {
        "id": "i-Qt4mDk_yBY",
        "colab_type": "code",
        "colab": {}
      },
      "cell_type": "code",
      "source": [
        "# TODO"
      ],
      "execution_count": 0,
      "outputs": []
    },
    {
      "metadata": {
        "id": "edpJ87A8A8sd",
        "colab_type": "text"
      },
      "cell_type": "markdown",
      "source": [
        "\n",
        "### Feature engineering, explained by Francois Chollet\n",
        "\n",
        "> _Feature engineering_ is the process of using your own knowledge about the data and about the machine learning algorithm at hand to make the algorithm work better by applying hardcoded (nonlearned) transformations to the data before it goes into the model. In many cases, it isn’t reasonable to expect a machine-learning model to be able to learn from completely arbitrary data. The data needs to be presented to the model in a way that will make the model’s job easier.\n",
        "\n",
        "> Let’s look at an intuitive example. Suppose you’re trying to develop a model that can take as input an image of a clock and can output the time of day.\n",
        "\n",
        "> If you choose to use the raw pixels of the image as input data, then you have a difficult machine-learning problem on your hands. You’ll need a convolutional neural network to solve it, and you’ll have to expend quite a bit of computational resources to train the network.\n",
        "\n",
        "> But if you already understand the problem at a high level (you understand how humans read time on a clock face), then you can come up with much better input features for a machine-learning algorithm: for instance, write a Python script to follow the black pixels of the clock hands and output the (x, y) coordinates of the tip of each hand. Then a simple machine-learning algorithm can learn to associate these coordinates with the appropriate time of day.\n",
        "\n",
        "> You can go even further: do a coordinate change, and express the (x, y) coordinates as polar coordinates with regard to the center of the image. Your input will become the angle theta of each clock hand. At this point, your features are making the problem so easy that no machine learning is required; a simple rounding operation and dictionary lookup are enough to recover the approximate time of day.\n",
        "\n",
        "> That’s the essence of feature engineering: making a problem easier by expressing it in a simpler way. It usually requires understanding the problem in depth.\n",
        "\n",
        "> Before convolutional neural networks became successful on the MNIST digit-classification problem, solutions were typically based on hardcoded features such as the number of loops in a digit image, the height of each digit in an image, a histogram of pixel values, and so on.\n",
        "\n",
        "> Neural networks are capable of automatically extracting useful features from raw data. Does this mean you don’t have to worry about feature engineering as long as you’re using deep neural networks? No, for two reasons:\n",
        "\n",
        "> - Good features still allow you to solve problems more elegantly while using fewer resources. For instance, it would be ridiculous to solve the problem of reading a clock face using a convolutional neural network.\n",
        "> - Good features let you solve a problem with far less data. The ability of deep-learning models to learn features on their own relies on having lots of training data available; if you have only a few samples, then the information value in their features becomes critical.\n"
      ]
    },
    {
      "metadata": {
        "id": "oux-dd-5FD6p",
        "colab_type": "text"
      },
      "cell_type": "markdown",
      "source": [
        "# ASSIGNMENT\n",
        "\n",
        "### Core assignment\n",
        "\n",
        "Complete the notebook cells that were originally commented **`TODO`**. \n",
        "\n",
        "Then, focus on feature engineering to improve your cross validation scores. Collaborate with your cohort on Slack. You could start with the ideas [Jake VanderPlas suggests:](https://jakevdp.github.io/PythonDataScienceHandbook/05.06-linear-regression.html#Example:-Predicting-Bicycle-Traffic)\n",
        "\n",
        "> Our model is almost certainly missing some relevant information. For example, nonlinear effects (such as effects of precipitation and cold temperature) and nonlinear trends within each variable (such as disinclination to ride at very cold and very hot temperatures) cannot be accounted for in this model. Additionally, we have thrown away some of the finer-grained information (such as the difference between a rainy morning and a rainy afternoon), and we have ignored correlations between days (such as the possible effect of a rainy Tuesday on Wednesday's numbers, or the effect of an unexpected sunny day after a streak of rainy days). These are all potentially interesting effects, and you now have the tools to begin exploring them if you wish!\n",
        "\n",
        "At the end of the day, take the last step in the \"universal workflow of machine learning\" — \"You can train your final production model on all the available data (training and validation) and evaluate it one last time on the test set.\"\n",
        "\n",
        "See the [`GridSearchCV`](https://scikit-learn.org/stable/modules/generated/sklearn.model_selection.GridSearchCV.html) documentation for the `refit` parameter, `best_estimator_` attribute, and `predict` method:\n",
        "\n",
        "> **refit : boolean, or string, default=True**\n",
        "\n",
        "> Refit an estimator using the best found parameters on the whole dataset.\n",
        "\n",
        "> The refitted estimator is made available at the `best_estimator_` attribute and permits using `predict` directly on this `GridSearchCV` instance.\n",
        "\n",
        "### More options\n",
        "\n",
        "**A.** Apply this lesson to other datasets.\n",
        "\n",
        "**B.** We predicted the number of bicycle trips based on that day's weather. But imagine you were asked to predict trips at the beginning of each day, based only on data known at the time of prediction or before — so you cannot use the current day's weather. How would you wrangle the features to handle this new requirement? How does this impact the predictive accuracy and coefficients of your models?\n",
        "\n",
        "**C.** In additon to `GridSearchCV`, scikit-learn has [`RandomizedSearchCV`](https://scikit-learn.org/stable/modules/generated/sklearn.model_selection.RandomizedSearchCV.html), which is sometimes even better. Another library called scikit-optimize has [`BayesSearchCV`](https://scikit-optimize.github.io/notebooks/sklearn-gridsearchcv-replacement.html). Experiment with these alternatives.\n",
        "\n",
        "**D.** _[Introduction to Machine Learning with Python](http://shop.oreilly.com/product/0636920030515.do)_ discusses options for \"Grid-Searching Which Model To Use\" in Chapter 6:\n",
        "\n",
        "> You can even go further in combining GridSearchCV and Pipeline: it is also possible to search over the actual steps being performed in the pipeline (say whether to use StandardScaler or MinMaxScaler). This leads to an even bigger search space and should be considered carefully. Trying all possible solutions is usually not a viable machine learning strategy. However, here is an example comparing a RandomForestClassifier and an SVC ...\n",
        "\n",
        "The example is shown in [the accompanying notebook](https://github.com/amueller/introduction_to_ml_with_python/blob/master/06-algorithm-chains-and-pipelines.ipynb), code cells 35-37. Could you apply this concept to your own pipelines?\n",
        "\n",
        "\n"
      ]
    }
  ]
}