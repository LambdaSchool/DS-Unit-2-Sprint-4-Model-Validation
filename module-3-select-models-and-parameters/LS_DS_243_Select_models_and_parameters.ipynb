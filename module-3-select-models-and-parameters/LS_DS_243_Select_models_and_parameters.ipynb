{
  "nbformat": 4,
  "nbformat_minor": 0,
  "metadata": {
    "colab": {
      "name": "LS_DS_243_Select_models_and_parameters.ipynb",
      "version": "0.3.2",
      "provenance": [],
      "collapsed_sections": [],
      "include_colab_link": true
    },
    "kernelspec": {
      "name": "python3",
      "display_name": "Python 3"
    }
  },
  "cells": [
    {
      "cell_type": "markdown",
      "metadata": {
        "id": "view-in-github",
        "colab_type": "text"
      },
      "source": [
        "<a href=\"https://colab.research.google.com/github/chadeowen/DS-Unit-2-Sprint-4-Model-Validation/blob/master/module-3-select-models-and-parameters/LS_DS_243_Select_models_and_parameters.ipynb\" target=\"_parent\"><img src=\"https://colab.research.google.com/assets/colab-badge.svg\" alt=\"Open In Colab\"/></a>"
      ]
    },
    {
      "metadata": {
        "id": "O67uhlT4MExK",
        "colab_type": "text"
      },
      "cell_type": "markdown",
      "source": [
        "_Lambda School Data Science — Model Validation_\n",
        "\n",
        "# Select models and parameters\n",
        "\n",
        "Objectives\n",
        "- Hyperparameter optimization\n",
        "- Model selection"
      ]
    },
    {
      "metadata": {
        "id": "VE4rfZd4NUGA",
        "colab_type": "text"
      },
      "cell_type": "markdown",
      "source": [
        "Today we'll use this process:\n",
        "\n",
        "## \"A universal workflow of machine learning\"\n",
        "\n",
        "_Excerpt from Francois Chollet, [Deep Learning with Python](https://github.com/fchollet/deep-learning-with-python-notebooks/blob/master/README.md), Chapter 4: Fundamentals of machine learning_\n",
        " \n",
        "**1. Define the problem at hand and the data on which you’ll train.** Collect this data, or annotate it with labels if need be.\n",
        "\n",
        "**2. Choose how you’ll measure success on your problem.** Which metrics will you monitor on your validation data?\n",
        "\n",
        "**3. Determine your evaluation protocol:** hold-out validation? K-fold validation? Which portion of the data should you use for validation?\n",
        "\n",
        "**4. Develop a first model that does better than a basic baseline:** a model with statistical power.\n",
        "\n",
        "**5. Develop a model that overfits.** The universal tension in machine learning is between optimization and generalization; the ideal model is one that stands right at the border between underfitting and overfitting; between undercapacity and overcapacity. To figure out where this border lies, first you must cross it.\n",
        "\n",
        "**6. Regularize your model and tune its hyperparameters, based on performance on the validation data.** Repeatedly modify your model, train it, evaluate on your validation data (not the test data, at this point), modify it again, and repeat, until the model is as good as it can get. \n",
        "\n",
        "Iterate on feature engineering: add new features, or remove features that don’t seem to be informative. Once you’ve developed a satisfactory model configuration, you can train your final production model on all the available data (training and validation) and evaluate it one last time on the test set.\n"
      ]
    },
    {
      "metadata": {
        "id": "3kt6bzEcOIaa",
        "colab_type": "text"
      },
      "cell_type": "markdown",
      "source": [
        "## 1. Define the problem at hand and the data on which you'll train"
      ]
    },
    {
      "metadata": {
        "id": "di16k7vpRg67",
        "colab_type": "text"
      },
      "cell_type": "markdown",
      "source": [
        "We'll apply the workflow to a [project from _Python Data Science Handbook_](https://jakevdp.github.io/PythonDataScienceHandbook/05.06-linear-regression.html#Example:-Predicting-Bicycle-Traffic) by Jake VanderPlas:\n",
        "\n",
        "> **Predicting Bicycle Traffic**\n",
        "\n",
        "> As an example, let's take a look at whether we can predict the number of bicycle trips across Seattle's Fremont Bridge based on weather, season, and other factors.\n",
        "\n",
        "> We will join the bike data with another dataset, and try to determine the extent to which weather and seasonal factors—temperature, precipitation, and daylight hours—affect the volume of bicycle traffic through this corridor. Fortunately, the NOAA makes available their daily [weather station data](http://www.ncdc.noaa.gov/cdo-web/search?datasetid=GHCND) (I used station ID USW00024233) and we can easily use Pandas to join the two data sources.\n",
        "\n",
        "> Let's start by loading the two datasets, indexing by date:"
      ]
    },
    {
      "metadata": {
        "id": "19dpb_d0R1A6",
        "colab_type": "text"
      },
      "cell_type": "markdown",
      "source": [
        "So this is a regression problem, not a classification problem. We'll define the target, choose an evaluation metric, and choose models that are appropriate for regression problems.\n",
        "\n",
        "\n"
      ]
    },
    {
      "metadata": {
        "id": "os1zruXQ30KM",
        "colab_type": "text"
      },
      "cell_type": "markdown",
      "source": [
        "### Download data"
      ]
    },
    {
      "metadata": {
        "id": "5XVu-HSeMDtV",
        "colab_type": "code",
        "outputId": "7f8f88e6-31c4-4f51-b777-a1c3faf89a2c",
        "colab": {
          "base_uri": "https://localhost:8080/",
          "height": 68
        }
      },
      "cell_type": "code",
      "source": [
        "!curl -o FremontBridge.csv https://data.seattle.gov/api/views/65db-xm6k/rows.csv?accessType=DOWNLOAD"
      ],
      "execution_count": 57,
      "outputs": [
        {
          "output_type": "stream",
          "text": [
            "  % Total    % Received % Xferd  Average Speed   Time    Time     Time  Current\n",
            "                                 Dload  Upload   Total   Spent    Left  Speed\n",
            "100 1536k    0 1536k    0     0   578k      0 --:--:--  0:00:02 --:--:--  578k\n"
          ],
          "name": "stdout"
        }
      ]
    },
    {
      "metadata": {
        "id": "sih_7mTzMdfr",
        "colab_type": "code",
        "outputId": "4a25472d-9137-45fe-873c-962a3e660c97",
        "colab": {
          "base_uri": "https://localhost:8080/",
          "height": 204
        }
      },
      "cell_type": "code",
      "source": [
        "!wget https://raw.githubusercontent.com/jakevdp/PythonDataScienceHandbook/master/notebooks/data/BicycleWeather.csv"
      ],
      "execution_count": 58,
      "outputs": [
        {
          "output_type": "stream",
          "text": [
            "--2019-01-30 22:32:15--  https://raw.githubusercontent.com/jakevdp/PythonDataScienceHandbook/master/notebooks/data/BicycleWeather.csv\n",
            "Resolving raw.githubusercontent.com (raw.githubusercontent.com)... 151.101.0.133, 151.101.64.133, 151.101.128.133, ...\n",
            "Connecting to raw.githubusercontent.com (raw.githubusercontent.com)|151.101.0.133|:443... connected.\n",
            "HTTP request sent, awaiting response... 200 OK\n",
            "Length: 234945 (229K) [text/plain]\n",
            "Saving to: ‘BicycleWeather.csv.1’\n",
            "\n",
            "\rBicycleWeather.csv.   0%[                    ]       0  --.-KB/s               \rBicycleWeather.csv. 100%[===================>] 229.44K  --.-KB/s    in 0.05s   \n",
            "\n",
            "2019-01-30 22:32:15 (4.26 MB/s) - ‘BicycleWeather.csv.1’ saved [234945/234945]\n",
            "\n"
          ],
          "name": "stdout"
        }
      ]
    },
    {
      "metadata": {
        "id": "9GYm74kD34OQ",
        "colab_type": "text"
      },
      "cell_type": "markdown",
      "source": [
        "### Load data"
      ]
    },
    {
      "metadata": {
        "id": "BfQ7gE28MNdF",
        "colab_type": "code",
        "colab": {}
      },
      "cell_type": "code",
      "source": [
        "# Modified from cells 15, 16, and 20, at\n",
        "# https://jakevdp.github.io/PythonDataScienceHandbook/05.06-linear-regression.html#Example:-Predicting-Bicycle-Traffic\n",
        "\n",
        "import pandas as pd\n",
        "\n",
        "counts = pd.read_csv('FremontBridge.csv', index_col='Date', parse_dates=True, \n",
        "                     infer_datetime_format=True)\n",
        "\n",
        "weather = pd.read_csv('BicycleWeather.csv', index_col='DATE', parse_dates=True, \n",
        "                      infer_datetime_format=True)\n",
        "\n",
        "daily = counts.resample('d').sum()\n",
        "daily['Total'] = daily.sum(axis=1)\n",
        "daily = daily[['Total']] # remove other columns\n",
        "\n",
        "weather_columns = ['PRCP', 'SNOW', 'SNWD', 'TMAX', 'TMIN', 'AWND']\n",
        "daily = daily.join(weather[weather_columns], how='inner')"
      ],
      "execution_count": 0,
      "outputs": []
    },
    {
      "metadata": {
        "id": "i0YYD6rvypb4",
        "colab_type": "code",
        "colab": {}
      },
      "cell_type": "code",
      "source": [
        "# Make a feature for yesterday's total\n",
        "daily['Total_yesterday'] = daily.Total.shift(1)\n",
        "\n",
        "daily = daily.drop(index=daily.index[0])"
      ],
      "execution_count": 0,
      "outputs": []
    },
    {
      "metadata": {
        "id": "VVB3g4704An5",
        "colab_type": "text"
      },
      "cell_type": "markdown",
      "source": [
        "### First fast look at the data\n",
        "- What's the shape?\n",
        "- What's the date range?\n",
        "- What's the target and the features?"
      ]
    },
    {
      "metadata": {
        "id": "t50E2fTUWBBU",
        "colab_type": "code",
        "outputId": "a6847182-105e-48ed-81ff-29224248d3bb",
        "colab": {
          "base_uri": "https://localhost:8080/",
          "height": 34
        }
      },
      "cell_type": "code",
      "source": [
        "daily.shape"
      ],
      "execution_count": 61,
      "outputs": [
        {
          "output_type": "execute_result",
          "data": {
            "text/plain": [
              "(1063, 8)"
            ]
          },
          "metadata": {
            "tags": []
          },
          "execution_count": 61
        }
      ]
    },
    {
      "metadata": {
        "id": "KlJqmx5Rx-ER",
        "colab_type": "code",
        "outputId": "72b7369b-3c1a-4ef6-9711-98b78808f7b0",
        "colab": {
          "base_uri": "https://localhost:8080/",
          "height": 204
        }
      },
      "cell_type": "code",
      "source": [
        "daily.head()"
      ],
      "execution_count": 62,
      "outputs": [
        {
          "output_type": "execute_result",
          "data": {
            "text/html": [
              "<div>\n",
              "<style scoped>\n",
              "    .dataframe tbody tr th:only-of-type {\n",
              "        vertical-align: middle;\n",
              "    }\n",
              "\n",
              "    .dataframe tbody tr th {\n",
              "        vertical-align: top;\n",
              "    }\n",
              "\n",
              "    .dataframe thead th {\n",
              "        text-align: right;\n",
              "    }\n",
              "</style>\n",
              "<table border=\"1\" class=\"dataframe\">\n",
              "  <thead>\n",
              "    <tr style=\"text-align: right;\">\n",
              "      <th></th>\n",
              "      <th>Total</th>\n",
              "      <th>PRCP</th>\n",
              "      <th>SNOW</th>\n",
              "      <th>SNWD</th>\n",
              "      <th>TMAX</th>\n",
              "      <th>TMIN</th>\n",
              "      <th>AWND</th>\n",
              "      <th>Total_yesterday</th>\n",
              "    </tr>\n",
              "  </thead>\n",
              "  <tbody>\n",
              "    <tr>\n",
              "      <th>2012-10-04</th>\n",
              "      <td>3475.0</td>\n",
              "      <td>0</td>\n",
              "      <td>0</td>\n",
              "      <td>0</td>\n",
              "      <td>189</td>\n",
              "      <td>83</td>\n",
              "      <td>65</td>\n",
              "      <td>3521.0</td>\n",
              "    </tr>\n",
              "    <tr>\n",
              "      <th>2012-10-05</th>\n",
              "      <td>3148.0</td>\n",
              "      <td>0</td>\n",
              "      <td>0</td>\n",
              "      <td>0</td>\n",
              "      <td>217</td>\n",
              "      <td>89</td>\n",
              "      <td>57</td>\n",
              "      <td>3475.0</td>\n",
              "    </tr>\n",
              "    <tr>\n",
              "      <th>2012-10-06</th>\n",
              "      <td>2006.0</td>\n",
              "      <td>0</td>\n",
              "      <td>0</td>\n",
              "      <td>0</td>\n",
              "      <td>239</td>\n",
              "      <td>78</td>\n",
              "      <td>51</td>\n",
              "      <td>3148.0</td>\n",
              "    </tr>\n",
              "    <tr>\n",
              "      <th>2012-10-07</th>\n",
              "      <td>2142.0</td>\n",
              "      <td>0</td>\n",
              "      <td>0</td>\n",
              "      <td>0</td>\n",
              "      <td>239</td>\n",
              "      <td>78</td>\n",
              "      <td>13</td>\n",
              "      <td>2006.0</td>\n",
              "    </tr>\n",
              "    <tr>\n",
              "      <th>2012-10-08</th>\n",
              "      <td>3537.0</td>\n",
              "      <td>0</td>\n",
              "      <td>0</td>\n",
              "      <td>0</td>\n",
              "      <td>211</td>\n",
              "      <td>78</td>\n",
              "      <td>19</td>\n",
              "      <td>2142.0</td>\n",
              "    </tr>\n",
              "  </tbody>\n",
              "</table>\n",
              "</div>"
            ],
            "text/plain": [
              "             Total  PRCP  SNOW  SNWD  TMAX  TMIN  AWND  Total_yesterday\n",
              "2012-10-04  3475.0     0     0     0   189    83    65           3521.0\n",
              "2012-10-05  3148.0     0     0     0   217    89    57           3475.0\n",
              "2012-10-06  2006.0     0     0     0   239    78    51           3148.0\n",
              "2012-10-07  2142.0     0     0     0   239    78    13           2006.0\n",
              "2012-10-08  3537.0     0     0     0   211    78    19           2142.0"
            ]
          },
          "metadata": {
            "tags": []
          },
          "execution_count": 62
        }
      ]
    },
    {
      "metadata": {
        "id": "ne-GZsK2x_48",
        "colab_type": "code",
        "outputId": "27866117-8b91-4890-fc45-e83ace66f599",
        "colab": {
          "base_uri": "https://localhost:8080/",
          "height": 204
        }
      },
      "cell_type": "code",
      "source": [
        "daily.tail()"
      ],
      "execution_count": 63,
      "outputs": [
        {
          "output_type": "execute_result",
          "data": {
            "text/html": [
              "<div>\n",
              "<style scoped>\n",
              "    .dataframe tbody tr th:only-of-type {\n",
              "        vertical-align: middle;\n",
              "    }\n",
              "\n",
              "    .dataframe tbody tr th {\n",
              "        vertical-align: top;\n",
              "    }\n",
              "\n",
              "    .dataframe thead th {\n",
              "        text-align: right;\n",
              "    }\n",
              "</style>\n",
              "<table border=\"1\" class=\"dataframe\">\n",
              "  <thead>\n",
              "    <tr style=\"text-align: right;\">\n",
              "      <th></th>\n",
              "      <th>Total</th>\n",
              "      <th>PRCP</th>\n",
              "      <th>SNOW</th>\n",
              "      <th>SNWD</th>\n",
              "      <th>TMAX</th>\n",
              "      <th>TMIN</th>\n",
              "      <th>AWND</th>\n",
              "      <th>Total_yesterday</th>\n",
              "    </tr>\n",
              "  </thead>\n",
              "  <tbody>\n",
              "    <tr>\n",
              "      <th>2015-08-28</th>\n",
              "      <td>2653.0</td>\n",
              "      <td>5</td>\n",
              "      <td>0</td>\n",
              "      <td>0</td>\n",
              "      <td>233</td>\n",
              "      <td>156</td>\n",
              "      <td>26</td>\n",
              "      <td>4336.0</td>\n",
              "    </tr>\n",
              "    <tr>\n",
              "      <th>2015-08-29</th>\n",
              "      <td>699.0</td>\n",
              "      <td>325</td>\n",
              "      <td>0</td>\n",
              "      <td>0</td>\n",
              "      <td>222</td>\n",
              "      <td>133</td>\n",
              "      <td>58</td>\n",
              "      <td>2653.0</td>\n",
              "    </tr>\n",
              "    <tr>\n",
              "      <th>2015-08-30</th>\n",
              "      <td>1213.0</td>\n",
              "      <td>102</td>\n",
              "      <td>0</td>\n",
              "      <td>0</td>\n",
              "      <td>200</td>\n",
              "      <td>128</td>\n",
              "      <td>47</td>\n",
              "      <td>699.0</td>\n",
              "    </tr>\n",
              "    <tr>\n",
              "      <th>2015-08-31</th>\n",
              "      <td>2823.0</td>\n",
              "      <td>0</td>\n",
              "      <td>0</td>\n",
              "      <td>0</td>\n",
              "      <td>189</td>\n",
              "      <td>161</td>\n",
              "      <td>58</td>\n",
              "      <td>1213.0</td>\n",
              "    </tr>\n",
              "    <tr>\n",
              "      <th>2015-09-01</th>\n",
              "      <td>2876.0</td>\n",
              "      <td>58</td>\n",
              "      <td>0</td>\n",
              "      <td>0</td>\n",
              "      <td>194</td>\n",
              "      <td>139</td>\n",
              "      <td>-9999</td>\n",
              "      <td>2823.0</td>\n",
              "    </tr>\n",
              "  </tbody>\n",
              "</table>\n",
              "</div>"
            ],
            "text/plain": [
              "             Total  PRCP  SNOW  SNWD  TMAX  TMIN  AWND  Total_yesterday\n",
              "2015-08-28  2653.0     5     0     0   233   156    26           4336.0\n",
              "2015-08-29   699.0   325     0     0   222   133    58           2653.0\n",
              "2015-08-30  1213.0   102     0     0   200   128    47            699.0\n",
              "2015-08-31  2823.0     0     0     0   189   161    58           1213.0\n",
              "2015-09-01  2876.0    58     0     0   194   139 -9999           2823.0"
            ]
          },
          "metadata": {
            "tags": []
          },
          "execution_count": 63
        }
      ]
    },
    {
      "metadata": {
        "id": "CqNCrd6Ez6Ew",
        "colab_type": "code",
        "outputId": "ede149a9-ceac-4768-d6f0-c62dd960aa6a",
        "colab": {
          "base_uri": "https://localhost:8080/",
          "height": 297
        }
      },
      "cell_type": "code",
      "source": [
        "daily.describe()"
      ],
      "execution_count": 64,
      "outputs": [
        {
          "output_type": "execute_result",
          "data": {
            "text/html": [
              "<div>\n",
              "<style scoped>\n",
              "    .dataframe tbody tr th:only-of-type {\n",
              "        vertical-align: middle;\n",
              "    }\n",
              "\n",
              "    .dataframe tbody tr th {\n",
              "        vertical-align: top;\n",
              "    }\n",
              "\n",
              "    .dataframe thead th {\n",
              "        text-align: right;\n",
              "    }\n",
              "</style>\n",
              "<table border=\"1\" class=\"dataframe\">\n",
              "  <thead>\n",
              "    <tr style=\"text-align: right;\">\n",
              "      <th></th>\n",
              "      <th>Total</th>\n",
              "      <th>PRCP</th>\n",
              "      <th>SNOW</th>\n",
              "      <th>SNWD</th>\n",
              "      <th>TMAX</th>\n",
              "      <th>TMIN</th>\n",
              "      <th>AWND</th>\n",
              "      <th>Total_yesterday</th>\n",
              "    </tr>\n",
              "  </thead>\n",
              "  <tbody>\n",
              "    <tr>\n",
              "      <th>count</th>\n",
              "      <td>1063.000000</td>\n",
              "      <td>1063.000000</td>\n",
              "      <td>1063.000000</td>\n",
              "      <td>1063.000000</td>\n",
              "      <td>1063.000000</td>\n",
              "      <td>1063.000000</td>\n",
              "      <td>1063.000000</td>\n",
              "      <td>1063.000000</td>\n",
              "    </tr>\n",
              "    <tr>\n",
              "      <th>mean</th>\n",
              "      <td>2632.449671</td>\n",
              "      <td>29.350894</td>\n",
              "      <td>-37.496707</td>\n",
              "      <td>0.098777</td>\n",
              "      <td>166.863594</td>\n",
              "      <td>84.472248</td>\n",
              "      <td>22.338664</td>\n",
              "      <td>2633.056444</td>\n",
              "    </tr>\n",
              "    <tr>\n",
              "      <th>std</th>\n",
              "      <td>1252.864020</td>\n",
              "      <td>65.813053</td>\n",
              "      <td>612.512583</td>\n",
              "      <td>2.570041</td>\n",
              "      <td>74.779734</td>\n",
              "      <td>50.916006</td>\n",
              "      <td>307.984292</td>\n",
              "      <td>1253.138245</td>\n",
              "    </tr>\n",
              "    <tr>\n",
              "      <th>min</th>\n",
              "      <td>98.000000</td>\n",
              "      <td>0.000000</td>\n",
              "      <td>-9999.000000</td>\n",
              "      <td>0.000000</td>\n",
              "      <td>-16.000000</td>\n",
              "      <td>-71.000000</td>\n",
              "      <td>-9999.000000</td>\n",
              "      <td>98.000000</td>\n",
              "    </tr>\n",
              "    <tr>\n",
              "      <th>25%</th>\n",
              "      <td>1806.000000</td>\n",
              "      <td>0.000000</td>\n",
              "      <td>0.000000</td>\n",
              "      <td>0.000000</td>\n",
              "      <td>111.000000</td>\n",
              "      <td>44.000000</td>\n",
              "      <td>22.000000</td>\n",
              "      <td>1806.000000</td>\n",
              "    </tr>\n",
              "    <tr>\n",
              "      <th>50%</th>\n",
              "      <td>2435.000000</td>\n",
              "      <td>0.000000</td>\n",
              "      <td>0.000000</td>\n",
              "      <td>0.000000</td>\n",
              "      <td>150.000000</td>\n",
              "      <td>83.000000</td>\n",
              "      <td>29.000000</td>\n",
              "      <td>2435.000000</td>\n",
              "    </tr>\n",
              "    <tr>\n",
              "      <th>75%</th>\n",
              "      <td>3574.500000</td>\n",
              "      <td>26.500000</td>\n",
              "      <td>0.000000</td>\n",
              "      <td>0.000000</td>\n",
              "      <td>222.000000</td>\n",
              "      <td>128.000000</td>\n",
              "      <td>40.000000</td>\n",
              "      <td>3574.500000</td>\n",
              "    </tr>\n",
              "    <tr>\n",
              "      <th>max</th>\n",
              "      <td>6088.000000</td>\n",
              "      <td>559.000000</td>\n",
              "      <td>74.000000</td>\n",
              "      <td>80.000000</td>\n",
              "      <td>356.000000</td>\n",
              "      <td>183.000000</td>\n",
              "      <td>95.000000</td>\n",
              "      <td>6088.000000</td>\n",
              "    </tr>\n",
              "  </tbody>\n",
              "</table>\n",
              "</div>"
            ],
            "text/plain": [
              "             Total         PRCP         SNOW         SNWD         TMAX  \\\n",
              "count  1063.000000  1063.000000  1063.000000  1063.000000  1063.000000   \n",
              "mean   2632.449671    29.350894   -37.496707     0.098777   166.863594   \n",
              "std    1252.864020    65.813053   612.512583     2.570041    74.779734   \n",
              "min      98.000000     0.000000 -9999.000000     0.000000   -16.000000   \n",
              "25%    1806.000000     0.000000     0.000000     0.000000   111.000000   \n",
              "50%    2435.000000     0.000000     0.000000     0.000000   150.000000   \n",
              "75%    3574.500000    26.500000     0.000000     0.000000   222.000000   \n",
              "max    6088.000000   559.000000    74.000000    80.000000   356.000000   \n",
              "\n",
              "              TMIN         AWND  Total_yesterday  \n",
              "count  1063.000000  1063.000000      1063.000000  \n",
              "mean     84.472248    22.338664      2633.056444  \n",
              "std      50.916006   307.984292      1253.138245  \n",
              "min     -71.000000 -9999.000000        98.000000  \n",
              "25%      44.000000    22.000000      1806.000000  \n",
              "50%      83.000000    29.000000      2435.000000  \n",
              "75%     128.000000    40.000000      3574.500000  \n",
              "max     183.000000    95.000000      6088.000000  "
            ]
          },
          "metadata": {
            "tags": []
          },
          "execution_count": 64
        }
      ]
    },
    {
      "metadata": {
        "id": "K7GkQ3FQ09z5",
        "colab_type": "code",
        "outputId": "107d20eb-65ee-4622-ab60-6b50c2f7ac71",
        "colab": {
          "base_uri": "https://localhost:8080/",
          "height": 1969
        }
      },
      "cell_type": "code",
      "source": [
        "# show everything BUT last 100 days of data\n",
        "\n",
        "daily[:-100]"
      ],
      "execution_count": 65,
      "outputs": [
        {
          "output_type": "execute_result",
          "data": {
            "text/html": [
              "<div>\n",
              "<style scoped>\n",
              "    .dataframe tbody tr th:only-of-type {\n",
              "        vertical-align: middle;\n",
              "    }\n",
              "\n",
              "    .dataframe tbody tr th {\n",
              "        vertical-align: top;\n",
              "    }\n",
              "\n",
              "    .dataframe thead th {\n",
              "        text-align: right;\n",
              "    }\n",
              "</style>\n",
              "<table border=\"1\" class=\"dataframe\">\n",
              "  <thead>\n",
              "    <tr style=\"text-align: right;\">\n",
              "      <th></th>\n",
              "      <th>Total</th>\n",
              "      <th>PRCP</th>\n",
              "      <th>SNOW</th>\n",
              "      <th>SNWD</th>\n",
              "      <th>TMAX</th>\n",
              "      <th>TMIN</th>\n",
              "      <th>AWND</th>\n",
              "      <th>Total_yesterday</th>\n",
              "    </tr>\n",
              "  </thead>\n",
              "  <tbody>\n",
              "    <tr>\n",
              "      <th>2012-10-04</th>\n",
              "      <td>3475.0</td>\n",
              "      <td>0</td>\n",
              "      <td>0</td>\n",
              "      <td>0</td>\n",
              "      <td>189</td>\n",
              "      <td>83</td>\n",
              "      <td>65</td>\n",
              "      <td>3521.0</td>\n",
              "    </tr>\n",
              "    <tr>\n",
              "      <th>2012-10-05</th>\n",
              "      <td>3148.0</td>\n",
              "      <td>0</td>\n",
              "      <td>0</td>\n",
              "      <td>0</td>\n",
              "      <td>217</td>\n",
              "      <td>89</td>\n",
              "      <td>57</td>\n",
              "      <td>3475.0</td>\n",
              "    </tr>\n",
              "    <tr>\n",
              "      <th>2012-10-06</th>\n",
              "      <td>2006.0</td>\n",
              "      <td>0</td>\n",
              "      <td>0</td>\n",
              "      <td>0</td>\n",
              "      <td>239</td>\n",
              "      <td>78</td>\n",
              "      <td>51</td>\n",
              "      <td>3148.0</td>\n",
              "    </tr>\n",
              "    <tr>\n",
              "      <th>2012-10-07</th>\n",
              "      <td>2142.0</td>\n",
              "      <td>0</td>\n",
              "      <td>0</td>\n",
              "      <td>0</td>\n",
              "      <td>239</td>\n",
              "      <td>78</td>\n",
              "      <td>13</td>\n",
              "      <td>2006.0</td>\n",
              "    </tr>\n",
              "    <tr>\n",
              "      <th>2012-10-08</th>\n",
              "      <td>3537.0</td>\n",
              "      <td>0</td>\n",
              "      <td>0</td>\n",
              "      <td>0</td>\n",
              "      <td>211</td>\n",
              "      <td>78</td>\n",
              "      <td>19</td>\n",
              "      <td>2142.0</td>\n",
              "    </tr>\n",
              "    <tr>\n",
              "      <th>2012-10-09</th>\n",
              "      <td>3501.0</td>\n",
              "      <td>0</td>\n",
              "      <td>0</td>\n",
              "      <td>0</td>\n",
              "      <td>161</td>\n",
              "      <td>89</td>\n",
              "      <td>16</td>\n",
              "      <td>3537.0</td>\n",
              "    </tr>\n",
              "    <tr>\n",
              "      <th>2012-10-10</th>\n",
              "      <td>3235.0</td>\n",
              "      <td>0</td>\n",
              "      <td>0</td>\n",
              "      <td>0</td>\n",
              "      <td>122</td>\n",
              "      <td>83</td>\n",
              "      <td>14</td>\n",
              "      <td>3501.0</td>\n",
              "    </tr>\n",
              "    <tr>\n",
              "      <th>2012-10-11</th>\n",
              "      <td>3047.0</td>\n",
              "      <td>0</td>\n",
              "      <td>0</td>\n",
              "      <td>0</td>\n",
              "      <td>139</td>\n",
              "      <td>72</td>\n",
              "      <td>13</td>\n",
              "      <td>3235.0</td>\n",
              "    </tr>\n",
              "    <tr>\n",
              "      <th>2012-10-12</th>\n",
              "      <td>2011.0</td>\n",
              "      <td>20</td>\n",
              "      <td>0</td>\n",
              "      <td>0</td>\n",
              "      <td>139</td>\n",
              "      <td>89</td>\n",
              "      <td>46</td>\n",
              "      <td>3047.0</td>\n",
              "    </tr>\n",
              "    <tr>\n",
              "      <th>2012-10-13</th>\n",
              "      <td>766.0</td>\n",
              "      <td>48</td>\n",
              "      <td>0</td>\n",
              "      <td>0</td>\n",
              "      <td>156</td>\n",
              "      <td>122</td>\n",
              "      <td>39</td>\n",
              "      <td>2011.0</td>\n",
              "    </tr>\n",
              "    <tr>\n",
              "      <th>2012-10-14</th>\n",
              "      <td>698.0</td>\n",
              "      <td>165</td>\n",
              "      <td>0</td>\n",
              "      <td>0</td>\n",
              "      <td>178</td>\n",
              "      <td>133</td>\n",
              "      <td>34</td>\n",
              "      <td>766.0</td>\n",
              "    </tr>\n",
              "    <tr>\n",
              "      <th>2012-10-15</th>\n",
              "      <td>2273.0</td>\n",
              "      <td>79</td>\n",
              "      <td>0</td>\n",
              "      <td>0</td>\n",
              "      <td>172</td>\n",
              "      <td>111</td>\n",
              "      <td>46</td>\n",
              "      <td>698.0</td>\n",
              "    </tr>\n",
              "    <tr>\n",
              "      <th>2012-10-16</th>\n",
              "      <td>3036.0</td>\n",
              "      <td>0</td>\n",
              "      <td>0</td>\n",
              "      <td>0</td>\n",
              "      <td>161</td>\n",
              "      <td>83</td>\n",
              "      <td>55</td>\n",
              "      <td>2273.0</td>\n",
              "    </tr>\n",
              "    <tr>\n",
              "      <th>2012-10-17</th>\n",
              "      <td>3243.0</td>\n",
              "      <td>0</td>\n",
              "      <td>0</td>\n",
              "      <td>0</td>\n",
              "      <td>144</td>\n",
              "      <td>61</td>\n",
              "      <td>16</td>\n",
              "      <td>3036.0</td>\n",
              "    </tr>\n",
              "    <tr>\n",
              "      <th>2012-10-18</th>\n",
              "      <td>2923.0</td>\n",
              "      <td>208</td>\n",
              "      <td>0</td>\n",
              "      <td>0</td>\n",
              "      <td>178</td>\n",
              "      <td>67</td>\n",
              "      <td>20</td>\n",
              "      <td>3243.0</td>\n",
              "    </tr>\n",
              "    <tr>\n",
              "      <th>2012-10-19</th>\n",
              "      <td>1977.0</td>\n",
              "      <td>48</td>\n",
              "      <td>0</td>\n",
              "      <td>0</td>\n",
              "      <td>150</td>\n",
              "      <td>94</td>\n",
              "      <td>53</td>\n",
              "      <td>2923.0</td>\n",
              "    </tr>\n",
              "    <tr>\n",
              "      <th>2012-10-20</th>\n",
              "      <td>1068.0</td>\n",
              "      <td>5</td>\n",
              "      <td>0</td>\n",
              "      <td>0</td>\n",
              "      <td>111</td>\n",
              "      <td>61</td>\n",
              "      <td>57</td>\n",
              "      <td>1977.0</td>\n",
              "    </tr>\n",
              "    <tr>\n",
              "      <th>2012-10-21</th>\n",
              "      <td>989.0</td>\n",
              "      <td>64</td>\n",
              "      <td>0</td>\n",
              "      <td>0</td>\n",
              "      <td>117</td>\n",
              "      <td>44</td>\n",
              "      <td>27</td>\n",
              "      <td>1068.0</td>\n",
              "    </tr>\n",
              "    <tr>\n",
              "      <th>2012-10-22</th>\n",
              "      <td>2129.0</td>\n",
              "      <td>89</td>\n",
              "      <td>0</td>\n",
              "      <td>0</td>\n",
              "      <td>78</td>\n",
              "      <td>33</td>\n",
              "      <td>26</td>\n",
              "      <td>989.0</td>\n",
              "    </tr>\n",
              "    <tr>\n",
              "      <th>2012-10-23</th>\n",
              "      <td>2500.0</td>\n",
              "      <td>0</td>\n",
              "      <td>0</td>\n",
              "      <td>0</td>\n",
              "      <td>111</td>\n",
              "      <td>56</td>\n",
              "      <td>30</td>\n",
              "      <td>2129.0</td>\n",
              "    </tr>\n",
              "    <tr>\n",
              "      <th>2012-10-24</th>\n",
              "      <td>2429.0</td>\n",
              "      <td>71</td>\n",
              "      <td>0</td>\n",
              "      <td>0</td>\n",
              "      <td>117</td>\n",
              "      <td>61</td>\n",
              "      <td>21</td>\n",
              "      <td>2500.0</td>\n",
              "    </tr>\n",
              "    <tr>\n",
              "      <th>2012-10-25</th>\n",
              "      <td>2713.0</td>\n",
              "      <td>0</td>\n",
              "      <td>0</td>\n",
              "      <td>0</td>\n",
              "      <td>117</td>\n",
              "      <td>67</td>\n",
              "      <td>15</td>\n",
              "      <td>2429.0</td>\n",
              "    </tr>\n",
              "    <tr>\n",
              "      <th>2012-10-26</th>\n",
              "      <td>2073.0</td>\n",
              "      <td>15</td>\n",
              "      <td>0</td>\n",
              "      <td>0</td>\n",
              "      <td>111</td>\n",
              "      <td>72</td>\n",
              "      <td>25</td>\n",
              "      <td>2713.0</td>\n",
              "    </tr>\n",
              "    <tr>\n",
              "      <th>2012-10-27</th>\n",
              "      <td>531.0</td>\n",
              "      <td>231</td>\n",
              "      <td>0</td>\n",
              "      <td>0</td>\n",
              "      <td>144</td>\n",
              "      <td>94</td>\n",
              "      <td>51</td>\n",
              "      <td>2073.0</td>\n",
              "    </tr>\n",
              "    <tr>\n",
              "      <th>2012-10-28</th>\n",
              "      <td>1062.0</td>\n",
              "      <td>61</td>\n",
              "      <td>0</td>\n",
              "      <td>0</td>\n",
              "      <td>144</td>\n",
              "      <td>100</td>\n",
              "      <td>38</td>\n",
              "      <td>531.0</td>\n",
              "    </tr>\n",
              "    <tr>\n",
              "      <th>2012-10-29</th>\n",
              "      <td>2217.0</td>\n",
              "      <td>109</td>\n",
              "      <td>0</td>\n",
              "      <td>0</td>\n",
              "      <td>156</td>\n",
              "      <td>100</td>\n",
              "      <td>49</td>\n",
              "      <td>1062.0</td>\n",
              "    </tr>\n",
              "    <tr>\n",
              "      <th>2012-10-30</th>\n",
              "      <td>1735.0</td>\n",
              "      <td>345</td>\n",
              "      <td>0</td>\n",
              "      <td>0</td>\n",
              "      <td>150</td>\n",
              "      <td>122</td>\n",
              "      <td>28</td>\n",
              "      <td>2217.0</td>\n",
              "    </tr>\n",
              "    <tr>\n",
              "      <th>2012-10-31</th>\n",
              "      <td>1710.0</td>\n",
              "      <td>145</td>\n",
              "      <td>0</td>\n",
              "      <td>0</td>\n",
              "      <td>156</td>\n",
              "      <td>111</td>\n",
              "      <td>27</td>\n",
              "      <td>1735.0</td>\n",
              "    </tr>\n",
              "    <tr>\n",
              "      <th>2012-11-01</th>\n",
              "      <td>2091.0</td>\n",
              "      <td>97</td>\n",
              "      <td>0</td>\n",
              "      <td>0</td>\n",
              "      <td>150</td>\n",
              "      <td>106</td>\n",
              "      <td>30</td>\n",
              "      <td>1710.0</td>\n",
              "    </tr>\n",
              "    <tr>\n",
              "      <th>2012-11-02</th>\n",
              "      <td>2478.0</td>\n",
              "      <td>56</td>\n",
              "      <td>0</td>\n",
              "      <td>0</td>\n",
              "      <td>150</td>\n",
              "      <td>106</td>\n",
              "      <td>10</td>\n",
              "      <td>2091.0</td>\n",
              "    </tr>\n",
              "    <tr>\n",
              "      <th>...</th>\n",
              "      <td>...</td>\n",
              "      <td>...</td>\n",
              "      <td>...</td>\n",
              "      <td>...</td>\n",
              "      <td>...</td>\n",
              "      <td>...</td>\n",
              "      <td>...</td>\n",
              "      <td>...</td>\n",
              "    </tr>\n",
              "    <tr>\n",
              "      <th>2015-04-25</th>\n",
              "      <td>1616.0</td>\n",
              "      <td>13</td>\n",
              "      <td>0</td>\n",
              "      <td>0</td>\n",
              "      <td>133</td>\n",
              "      <td>56</td>\n",
              "      <td>30</td>\n",
              "      <td>2276.0</td>\n",
              "    </tr>\n",
              "    <tr>\n",
              "      <th>2015-04-26</th>\n",
              "      <td>1566.0</td>\n",
              "      <td>0</td>\n",
              "      <td>0</td>\n",
              "      <td>0</td>\n",
              "      <td>156</td>\n",
              "      <td>44</td>\n",
              "      <td>27</td>\n",
              "      <td>1616.0</td>\n",
              "    </tr>\n",
              "    <tr>\n",
              "      <th>2015-04-27</th>\n",
              "      <td>4140.0</td>\n",
              "      <td>3</td>\n",
              "      <td>0</td>\n",
              "      <td>0</td>\n",
              "      <td>250</td>\n",
              "      <td>106</td>\n",
              "      <td>23</td>\n",
              "      <td>1566.0</td>\n",
              "    </tr>\n",
              "    <tr>\n",
              "      <th>2015-04-28</th>\n",
              "      <td>2745.0</td>\n",
              "      <td>18</td>\n",
              "      <td>0</td>\n",
              "      <td>0</td>\n",
              "      <td>156</td>\n",
              "      <td>89</td>\n",
              "      <td>43</td>\n",
              "      <td>4140.0</td>\n",
              "    </tr>\n",
              "    <tr>\n",
              "      <th>2015-04-29</th>\n",
              "      <td>3437.0</td>\n",
              "      <td>0</td>\n",
              "      <td>0</td>\n",
              "      <td>0</td>\n",
              "      <td>161</td>\n",
              "      <td>72</td>\n",
              "      <td>47</td>\n",
              "      <td>2745.0</td>\n",
              "    </tr>\n",
              "    <tr>\n",
              "      <th>2015-04-30</th>\n",
              "      <td>3608.0</td>\n",
              "      <td>0</td>\n",
              "      <td>0</td>\n",
              "      <td>0</td>\n",
              "      <td>172</td>\n",
              "      <td>78</td>\n",
              "      <td>21</td>\n",
              "      <td>3437.0</td>\n",
              "    </tr>\n",
              "    <tr>\n",
              "      <th>2015-05-01</th>\n",
              "      <td>4224.0</td>\n",
              "      <td>0</td>\n",
              "      <td>0</td>\n",
              "      <td>0</td>\n",
              "      <td>183</td>\n",
              "      <td>89</td>\n",
              "      <td>37</td>\n",
              "      <td>3608.0</td>\n",
              "    </tr>\n",
              "    <tr>\n",
              "      <th>2015-05-02</th>\n",
              "      <td>2215.0</td>\n",
              "      <td>0</td>\n",
              "      <td>0</td>\n",
              "      <td>0</td>\n",
              "      <td>183</td>\n",
              "      <td>78</td>\n",
              "      <td>37</td>\n",
              "      <td>4224.0</td>\n",
              "    </tr>\n",
              "    <tr>\n",
              "      <th>2015-05-03</th>\n",
              "      <td>2235.0</td>\n",
              "      <td>0</td>\n",
              "      <td>0</td>\n",
              "      <td>0</td>\n",
              "      <td>206</td>\n",
              "      <td>78</td>\n",
              "      <td>26</td>\n",
              "      <td>2215.0</td>\n",
              "    </tr>\n",
              "    <tr>\n",
              "      <th>2015-05-04</th>\n",
              "      <td>4520.0</td>\n",
              "      <td>0</td>\n",
              "      <td>0</td>\n",
              "      <td>0</td>\n",
              "      <td>172</td>\n",
              "      <td>72</td>\n",
              "      <td>52</td>\n",
              "      <td>2235.0</td>\n",
              "    </tr>\n",
              "    <tr>\n",
              "      <th>2015-05-05</th>\n",
              "      <td>2605.0</td>\n",
              "      <td>61</td>\n",
              "      <td>0</td>\n",
              "      <td>0</td>\n",
              "      <td>144</td>\n",
              "      <td>72</td>\n",
              "      <td>51</td>\n",
              "      <td>4520.0</td>\n",
              "    </tr>\n",
              "    <tr>\n",
              "      <th>2015-05-06</th>\n",
              "      <td>4231.0</td>\n",
              "      <td>0</td>\n",
              "      <td>0</td>\n",
              "      <td>0</td>\n",
              "      <td>167</td>\n",
              "      <td>72</td>\n",
              "      <td>26</td>\n",
              "      <td>2605.0</td>\n",
              "    </tr>\n",
              "    <tr>\n",
              "      <th>2015-05-07</th>\n",
              "      <td>4916.0</td>\n",
              "      <td>0</td>\n",
              "      <td>0</td>\n",
              "      <td>0</td>\n",
              "      <td>206</td>\n",
              "      <td>61</td>\n",
              "      <td>30</td>\n",
              "      <td>4231.0</td>\n",
              "    </tr>\n",
              "    <tr>\n",
              "      <th>2015-05-08</th>\n",
              "      <td>4452.0</td>\n",
              "      <td>0</td>\n",
              "      <td>0</td>\n",
              "      <td>0</td>\n",
              "      <td>239</td>\n",
              "      <td>83</td>\n",
              "      <td>30</td>\n",
              "      <td>4916.0</td>\n",
              "    </tr>\n",
              "    <tr>\n",
              "      <th>2015-05-09</th>\n",
              "      <td>2753.0</td>\n",
              "      <td>0</td>\n",
              "      <td>0</td>\n",
              "      <td>0</td>\n",
              "      <td>267</td>\n",
              "      <td>94</td>\n",
              "      <td>26</td>\n",
              "      <td>4452.0</td>\n",
              "    </tr>\n",
              "    <tr>\n",
              "      <th>2015-05-10</th>\n",
              "      <td>1958.0</td>\n",
              "      <td>0</td>\n",
              "      <td>0</td>\n",
              "      <td>0</td>\n",
              "      <td>194</td>\n",
              "      <td>111</td>\n",
              "      <td>28</td>\n",
              "      <td>2753.0</td>\n",
              "    </tr>\n",
              "    <tr>\n",
              "      <th>2015-05-11</th>\n",
              "      <td>3676.0</td>\n",
              "      <td>0</td>\n",
              "      <td>0</td>\n",
              "      <td>0</td>\n",
              "      <td>139</td>\n",
              "      <td>100</td>\n",
              "      <td>25</td>\n",
              "      <td>1958.0</td>\n",
              "    </tr>\n",
              "    <tr>\n",
              "      <th>2015-05-12</th>\n",
              "      <td>3653.0</td>\n",
              "      <td>43</td>\n",
              "      <td>0</td>\n",
              "      <td>0</td>\n",
              "      <td>156</td>\n",
              "      <td>106</td>\n",
              "      <td>33</td>\n",
              "      <td>3676.0</td>\n",
              "    </tr>\n",
              "    <tr>\n",
              "      <th>2015-05-13</th>\n",
              "      <td>2707.0</td>\n",
              "      <td>41</td>\n",
              "      <td>0</td>\n",
              "      <td>0</td>\n",
              "      <td>122</td>\n",
              "      <td>100</td>\n",
              "      <td>28</td>\n",
              "      <td>3653.0</td>\n",
              "    </tr>\n",
              "    <tr>\n",
              "      <th>2015-05-14</th>\n",
              "      <td>3811.0</td>\n",
              "      <td>3</td>\n",
              "      <td>0</td>\n",
              "      <td>0</td>\n",
              "      <td>178</td>\n",
              "      <td>94</td>\n",
              "      <td>20</td>\n",
              "      <td>2707.0</td>\n",
              "    </tr>\n",
              "    <tr>\n",
              "      <th>2015-05-15</th>\n",
              "      <td>5053.0</td>\n",
              "      <td>0</td>\n",
              "      <td>0</td>\n",
              "      <td>0</td>\n",
              "      <td>200</td>\n",
              "      <td>94</td>\n",
              "      <td>28</td>\n",
              "      <td>3811.0</td>\n",
              "    </tr>\n",
              "    <tr>\n",
              "      <th>2015-05-16</th>\n",
              "      <td>1655.0</td>\n",
              "      <td>0</td>\n",
              "      <td>0</td>\n",
              "      <td>0</td>\n",
              "      <td>156</td>\n",
              "      <td>111</td>\n",
              "      <td>30</td>\n",
              "      <td>5053.0</td>\n",
              "    </tr>\n",
              "    <tr>\n",
              "      <th>2015-05-17</th>\n",
              "      <td>2011.0</td>\n",
              "      <td>0</td>\n",
              "      <td>0</td>\n",
              "      <td>0</td>\n",
              "      <td>194</td>\n",
              "      <td>106</td>\n",
              "      <td>21</td>\n",
              "      <td>1655.0</td>\n",
              "    </tr>\n",
              "    <tr>\n",
              "      <th>2015-05-18</th>\n",
              "      <td>4845.0</td>\n",
              "      <td>0</td>\n",
              "      <td>0</td>\n",
              "      <td>0</td>\n",
              "      <td>256</td>\n",
              "      <td>122</td>\n",
              "      <td>30</td>\n",
              "      <td>2011.0</td>\n",
              "    </tr>\n",
              "    <tr>\n",
              "      <th>2015-05-19</th>\n",
              "      <td>4872.0</td>\n",
              "      <td>0</td>\n",
              "      <td>0</td>\n",
              "      <td>0</td>\n",
              "      <td>217</td>\n",
              "      <td>117</td>\n",
              "      <td>26</td>\n",
              "      <td>4845.0</td>\n",
              "    </tr>\n",
              "    <tr>\n",
              "      <th>2015-05-20</th>\n",
              "      <td>4580.0</td>\n",
              "      <td>0</td>\n",
              "      <td>0</td>\n",
              "      <td>0</td>\n",
              "      <td>233</td>\n",
              "      <td>106</td>\n",
              "      <td>18</td>\n",
              "      <td>4872.0</td>\n",
              "    </tr>\n",
              "    <tr>\n",
              "      <th>2015-05-21</th>\n",
              "      <td>4768.0</td>\n",
              "      <td>0</td>\n",
              "      <td>0</td>\n",
              "      <td>0</td>\n",
              "      <td>256</td>\n",
              "      <td>117</td>\n",
              "      <td>21</td>\n",
              "      <td>4580.0</td>\n",
              "    </tr>\n",
              "    <tr>\n",
              "      <th>2015-05-22</th>\n",
              "      <td>3668.0</td>\n",
              "      <td>0</td>\n",
              "      <td>0</td>\n",
              "      <td>0</td>\n",
              "      <td>167</td>\n",
              "      <td>117</td>\n",
              "      <td>37</td>\n",
              "      <td>4768.0</td>\n",
              "    </tr>\n",
              "    <tr>\n",
              "      <th>2015-05-23</th>\n",
              "      <td>1580.0</td>\n",
              "      <td>0</td>\n",
              "      <td>0</td>\n",
              "      <td>0</td>\n",
              "      <td>161</td>\n",
              "      <td>117</td>\n",
              "      <td>26</td>\n",
              "      <td>3668.0</td>\n",
              "    </tr>\n",
              "    <tr>\n",
              "      <th>2015-05-24</th>\n",
              "      <td>1776.0</td>\n",
              "      <td>0</td>\n",
              "      <td>0</td>\n",
              "      <td>0</td>\n",
              "      <td>178</td>\n",
              "      <td>111</td>\n",
              "      <td>27</td>\n",
              "      <td>1580.0</td>\n",
              "    </tr>\n",
              "  </tbody>\n",
              "</table>\n",
              "<p>963 rows × 8 columns</p>\n",
              "</div>"
            ],
            "text/plain": [
              "             Total  PRCP  SNOW  SNWD  TMAX  TMIN  AWND  Total_yesterday\n",
              "2012-10-04  3475.0     0     0     0   189    83    65           3521.0\n",
              "2012-10-05  3148.0     0     0     0   217    89    57           3475.0\n",
              "2012-10-06  2006.0     0     0     0   239    78    51           3148.0\n",
              "2012-10-07  2142.0     0     0     0   239    78    13           2006.0\n",
              "2012-10-08  3537.0     0     0     0   211    78    19           2142.0\n",
              "2012-10-09  3501.0     0     0     0   161    89    16           3537.0\n",
              "2012-10-10  3235.0     0     0     0   122    83    14           3501.0\n",
              "2012-10-11  3047.0     0     0     0   139    72    13           3235.0\n",
              "2012-10-12  2011.0    20     0     0   139    89    46           3047.0\n",
              "2012-10-13   766.0    48     0     0   156   122    39           2011.0\n",
              "2012-10-14   698.0   165     0     0   178   133    34            766.0\n",
              "2012-10-15  2273.0    79     0     0   172   111    46            698.0\n",
              "2012-10-16  3036.0     0     0     0   161    83    55           2273.0\n",
              "2012-10-17  3243.0     0     0     0   144    61    16           3036.0\n",
              "2012-10-18  2923.0   208     0     0   178    67    20           3243.0\n",
              "2012-10-19  1977.0    48     0     0   150    94    53           2923.0\n",
              "2012-10-20  1068.0     5     0     0   111    61    57           1977.0\n",
              "2012-10-21   989.0    64     0     0   117    44    27           1068.0\n",
              "2012-10-22  2129.0    89     0     0    78    33    26            989.0\n",
              "2012-10-23  2500.0     0     0     0   111    56    30           2129.0\n",
              "2012-10-24  2429.0    71     0     0   117    61    21           2500.0\n",
              "2012-10-25  2713.0     0     0     0   117    67    15           2429.0\n",
              "2012-10-26  2073.0    15     0     0   111    72    25           2713.0\n",
              "2012-10-27   531.0   231     0     0   144    94    51           2073.0\n",
              "2012-10-28  1062.0    61     0     0   144   100    38            531.0\n",
              "2012-10-29  2217.0   109     0     0   156   100    49           1062.0\n",
              "2012-10-30  1735.0   345     0     0   150   122    28           2217.0\n",
              "2012-10-31  1710.0   145     0     0   156   111    27           1735.0\n",
              "2012-11-01  2091.0    97     0     0   150   106    30           1710.0\n",
              "2012-11-02  2478.0    56     0     0   150   106    10           2091.0\n",
              "...            ...   ...   ...   ...   ...   ...   ...              ...\n",
              "2015-04-25  1616.0    13     0     0   133    56    30           2276.0\n",
              "2015-04-26  1566.0     0     0     0   156    44    27           1616.0\n",
              "2015-04-27  4140.0     3     0     0   250   106    23           1566.0\n",
              "2015-04-28  2745.0    18     0     0   156    89    43           4140.0\n",
              "2015-04-29  3437.0     0     0     0   161    72    47           2745.0\n",
              "2015-04-30  3608.0     0     0     0   172    78    21           3437.0\n",
              "2015-05-01  4224.0     0     0     0   183    89    37           3608.0\n",
              "2015-05-02  2215.0     0     0     0   183    78    37           4224.0\n",
              "2015-05-03  2235.0     0     0     0   206    78    26           2215.0\n",
              "2015-05-04  4520.0     0     0     0   172    72    52           2235.0\n",
              "2015-05-05  2605.0    61     0     0   144    72    51           4520.0\n",
              "2015-05-06  4231.0     0     0     0   167    72    26           2605.0\n",
              "2015-05-07  4916.0     0     0     0   206    61    30           4231.0\n",
              "2015-05-08  4452.0     0     0     0   239    83    30           4916.0\n",
              "2015-05-09  2753.0     0     0     0   267    94    26           4452.0\n",
              "2015-05-10  1958.0     0     0     0   194   111    28           2753.0\n",
              "2015-05-11  3676.0     0     0     0   139   100    25           1958.0\n",
              "2015-05-12  3653.0    43     0     0   156   106    33           3676.0\n",
              "2015-05-13  2707.0    41     0     0   122   100    28           3653.0\n",
              "2015-05-14  3811.0     3     0     0   178    94    20           2707.0\n",
              "2015-05-15  5053.0     0     0     0   200    94    28           3811.0\n",
              "2015-05-16  1655.0     0     0     0   156   111    30           5053.0\n",
              "2015-05-17  2011.0     0     0     0   194   106    21           1655.0\n",
              "2015-05-18  4845.0     0     0     0   256   122    30           2011.0\n",
              "2015-05-19  4872.0     0     0     0   217   117    26           4845.0\n",
              "2015-05-20  4580.0     0     0     0   233   106    18           4872.0\n",
              "2015-05-21  4768.0     0     0     0   256   117    21           4580.0\n",
              "2015-05-22  3668.0     0     0     0   167   117    37           4768.0\n",
              "2015-05-23  1580.0     0     0     0   161   117    26           3668.0\n",
              "2015-05-24  1776.0     0     0     0   178   111    27           1580.0\n",
              "\n",
              "[963 rows x 8 columns]"
            ]
          },
          "metadata": {
            "tags": []
          },
          "execution_count": 65
        }
      ]
    },
    {
      "metadata": {
        "id": "XgMvCsaWJR7Q",
        "colab_type": "text"
      },
      "cell_type": "markdown",
      "source": [
        "Target\n",
        "- Total : Daily total number of bicycle trips across Seattle's Fremont Bridge\n",
        "\n",
        "Features\n",
        "- Date (index) : from 2012-10-04 to 2015-09-01\n",
        "- Total_yesterday : Total trips yesterday\n",
        "- PRCP : Precipitation (1/10 mm)\n",
        "- SNOW : Snowfall (1/10 mm)\n",
        "- SNWD : Snow depth (1/10 mm)\n",
        "- TMAX : Maximum temperature (1/10 Celsius)\n",
        "- TMIN : Minimum temperature (1/10 Celsius)\n",
        "- AWND : Average daily wind speed (1/10 meters per second)"
      ]
    },
    {
      "metadata": {
        "id": "lenL-przSYCo",
        "colab_type": "text"
      },
      "cell_type": "markdown",
      "source": [
        "## 2. Choose how you’ll measure success on your problem.\n",
        "\n",
        "Which metrics will you monitor on your validation data?\n",
        "\n",
        "This is a regression problem, so we need to choose a regression [metric](https://scikit-learn.org/stable/modules/model_evaluation.html#common-cases-predefined-values).\n",
        "\n",
        "\n",
        "\n",
        "I'll choose mean absolute error.\n",
        "\n"
      ]
    },
    {
      "metadata": {
        "id": "1TqbomapSyRP",
        "colab_type": "code",
        "colab": {}
      },
      "cell_type": "code",
      "source": [
        "from sklearn.metrics import mean_absolute_error as mse"
      ],
      "execution_count": 0,
      "outputs": []
    },
    {
      "metadata": {
        "id": "IRHrB3rsS5hF",
        "colab_type": "text"
      },
      "cell_type": "markdown",
      "source": [
        "## 3. Determine your evaluation protocol \n",
        "\n",
        "We're doing **model selection, hyperparameter optimization, and performance estimation.** So generally we have two ideal [options](https://sebastianraschka.com/images/blog/2018/model-evaluation-selection-part4/model-eval-conclusions.jpg) to choose from:\n",
        "\n",
        "- 3-way holdout method (train/validation/test split)\n",
        "- Cross-validation with independent test set\n",
        "\n",
        "I'll choose cross-validation with independent test set. Scikit-learn makes cross-validation convenient for us!\n",
        "\n",
        "Specifically, I will use random shuffled cross validation to train and validate, but I will hold out an \"out-of-time\" test set, from the last 100 days of data:\n",
        "\n",
        "\n",
        "\n"
      ]
    },
    {
      "metadata": {
        "id": "A3xo6HgbPMFm",
        "colab_type": "code",
        "colab": {}
      },
      "cell_type": "code",
      "source": [
        "train = daily[:-100]\n",
        "test = daily[-100:]"
      ],
      "execution_count": 0,
      "outputs": []
    },
    {
      "metadata": {
        "id": "bW4zIi6Y1QLY",
        "colab_type": "code",
        "outputId": "b6f3724d-2cc4-41a2-f4e3-a047b5c9b3b3",
        "colab": {
          "base_uri": "https://localhost:8080/",
          "height": 153
        }
      },
      "cell_type": "code",
      "source": [
        "train.index"
      ],
      "execution_count": 68,
      "outputs": [
        {
          "output_type": "execute_result",
          "data": {
            "text/plain": [
              "DatetimeIndex(['2012-10-04', '2012-10-05', '2012-10-06', '2012-10-07',\n",
              "               '2012-10-08', '2012-10-09', '2012-10-10', '2012-10-11',\n",
              "               '2012-10-12', '2012-10-13',\n",
              "               ...\n",
              "               '2015-05-15', '2015-05-16', '2015-05-17', '2015-05-18',\n",
              "               '2015-05-19', '2015-05-20', '2015-05-21', '2015-05-22',\n",
              "               '2015-05-23', '2015-05-24'],\n",
              "              dtype='datetime64[ns]', length=963, freq=None)"
            ]
          },
          "metadata": {
            "tags": []
          },
          "execution_count": 68
        }
      ]
    },
    {
      "metadata": {
        "id": "Oez7ah1j1Rn7",
        "colab_type": "code",
        "outputId": "46ec4216-f8a4-4c5a-f970-9e06faacabc2",
        "colab": {
          "base_uri": "https://localhost:8080/",
          "height": 459
        }
      },
      "cell_type": "code",
      "source": [
        "test.index"
      ],
      "execution_count": 69,
      "outputs": [
        {
          "output_type": "execute_result",
          "data": {
            "text/plain": [
              "DatetimeIndex(['2015-05-25', '2015-05-26', '2015-05-27', '2015-05-28',\n",
              "               '2015-05-29', '2015-05-30', '2015-05-31', '2015-06-01',\n",
              "               '2015-06-02', '2015-06-03', '2015-06-04', '2015-06-05',\n",
              "               '2015-06-06', '2015-06-07', '2015-06-08', '2015-06-09',\n",
              "               '2015-06-10', '2015-06-11', '2015-06-12', '2015-06-13',\n",
              "               '2015-06-14', '2015-06-15', '2015-06-16', '2015-06-17',\n",
              "               '2015-06-18', '2015-06-19', '2015-06-20', '2015-06-21',\n",
              "               '2015-06-22', '2015-06-23', '2015-06-24', '2015-06-25',\n",
              "               '2015-06-26', '2015-06-27', '2015-06-28', '2015-06-29',\n",
              "               '2015-06-30', '2015-07-01', '2015-07-02', '2015-07-03',\n",
              "               '2015-07-04', '2015-07-05', '2015-07-06', '2015-07-07',\n",
              "               '2015-07-08', '2015-07-09', '2015-07-10', '2015-07-11',\n",
              "               '2015-07-12', '2015-07-13', '2015-07-14', '2015-07-15',\n",
              "               '2015-07-16', '2015-07-17', '2015-07-18', '2015-07-19',\n",
              "               '2015-07-20', '2015-07-21', '2015-07-22', '2015-07-23',\n",
              "               '2015-07-24', '2015-07-25', '2015-07-26', '2015-07-27',\n",
              "               '2015-07-28', '2015-07-29', '2015-07-30', '2015-07-31',\n",
              "               '2015-08-01', '2015-08-02', '2015-08-03', '2015-08-04',\n",
              "               '2015-08-05', '2015-08-06', '2015-08-07', '2015-08-08',\n",
              "               '2015-08-09', '2015-08-10', '2015-08-11', '2015-08-12',\n",
              "               '2015-08-13', '2015-08-14', '2015-08-15', '2015-08-16',\n",
              "               '2015-08-17', '2015-08-18', '2015-08-19', '2015-08-20',\n",
              "               '2015-08-21', '2015-08-22', '2015-08-23', '2015-08-24',\n",
              "               '2015-08-25', '2015-08-26', '2015-08-27', '2015-08-28',\n",
              "               '2015-08-29', '2015-08-30', '2015-08-31', '2015-09-01'],\n",
              "              dtype='datetime64[ns]', freq=None)"
            ]
          },
          "metadata": {
            "tags": []
          },
          "execution_count": 69
        }
      ]
    },
    {
      "metadata": {
        "id": "G0G684NM1XDy",
        "colab_type": "code",
        "colab": {}
      },
      "cell_type": "code",
      "source": [
        "X_train = train.drop(columns='Total')\n",
        "y_train = train.Total\n",
        "\n",
        "x_test = test.drop(columns='Total')\n",
        "y_test = test.Total"
      ],
      "execution_count": 0,
      "outputs": []
    },
    {
      "metadata": {
        "id": "moxYtD3b1g9C",
        "colab_type": "code",
        "outputId": "26192fc5-8cdb-4d7a-8859-a254fb3d7fb1",
        "colab": {
          "base_uri": "https://localhost:8080/",
          "height": 34
        }
      },
      "cell_type": "code",
      "source": [
        "X_train.shape, y_train.shape, x_test.shape, y_test.shape"
      ],
      "execution_count": 71,
      "outputs": [
        {
          "output_type": "execute_result",
          "data": {
            "text/plain": [
              "((963, 7), (963,), (100, 7), (100,))"
            ]
          },
          "metadata": {
            "tags": []
          },
          "execution_count": 71
        }
      ]
    },
    {
      "metadata": {
        "id": "vH6IsORQTvTU",
        "colab_type": "text"
      },
      "cell_type": "markdown",
      "source": [
        "## 4. Develop a first model that does better than a basic baseline"
      ]
    },
    {
      "metadata": {
        "id": "DJBs2nQkj7oB",
        "colab_type": "text"
      },
      "cell_type": "markdown",
      "source": [
        "### Look at the target's distribution and descriptive stats"
      ]
    },
    {
      "metadata": {
        "id": "P5peakv9Zs71",
        "colab_type": "code",
        "outputId": "f8e0895b-71b4-46da-aded-0abba1482381",
        "colab": {
          "base_uri": "https://localhost:8080/",
          "height": 330
        }
      },
      "cell_type": "code",
      "source": [
        "# understand what basic baseline is first\n",
        "# target is decently normally distributed\n",
        "\n",
        "%matplotlib inline\n",
        "import seaborn as sns\n",
        "sns.distplot(y_train);"
      ],
      "execution_count": 72,
      "outputs": [
        {
          "output_type": "stream",
          "text": [
            "/usr/local/lib/python3.6/dist-packages/matplotlib/axes/_axes.py:6521: MatplotlibDeprecationWarning: \n",
            "The 'normed' kwarg was deprecated in Matplotlib 2.1 and will be removed in 3.1. Use 'density' instead.\n",
            "  alternative=\"'density'\", removal=\"3.1\")\n"
          ],
          "name": "stderr"
        },
        {
          "output_type": "display_data",
          "data": {
            "image/png": "[encoded data removed]",
            "text/plain": [
              "<Figure size 432x288 with 1 Axes>"
            ]
          },
          "metadata": {
            "tags": []
          }
        }
      ]
    },
    {
      "metadata": {
        "id": "oKB0si_916N2",
        "colab_type": "code",
        "outputId": "aa39531f-aa93-4cb4-982b-b61420e4b100",
        "colab": {
          "base_uri": "https://localhost:8080/",
          "height": 170
        }
      },
      "cell_type": "code",
      "source": [
        "y_train.describe()"
      ],
      "execution_count": 73,
      "outputs": [
        {
          "output_type": "execute_result",
          "data": {
            "text/plain": [
              "count     963.000000\n",
              "mean     2534.329180\n",
              "std      1224.065027\n",
              "min        98.000000\n",
              "25%      1755.000000\n",
              "50%      2381.000000\n",
              "75%      3317.500000\n",
              "max      6088.000000\n",
              "Name: Total, dtype: float64"
            ]
          },
          "metadata": {
            "tags": []
          },
          "execution_count": 73
        }
      ]
    },
    {
      "metadata": {
        "id": "fEjxxgV9kExY",
        "colab_type": "text"
      },
      "cell_type": "markdown",
      "source": [
        "### Basic baseline 1"
      ]
    },
    {
      "metadata": {
        "id": "6GepKdQjYcEP",
        "colab_type": "code",
        "outputId": "b5b53e95-34a4-4843-b657-6790a489b3ab",
        "colab": {
          "base_uri": "https://localhost:8080/",
          "height": 34
        }
      },
      "cell_type": "code",
      "source": [
        "# what if predicted 2500 (mean) every time\n",
        "\n",
        "import numpy as np\n",
        "y_pred = np.full(shape=y_train.shape, fill_value=y_train.mean())\n",
        "mse(y_train, y_pred)"
      ],
      "execution_count": 74,
      "outputs": [
        {
          "output_type": "execute_result",
          "data": {
            "text/plain": [
              "980.8981106765484"
            ]
          },
          "metadata": {
            "tags": []
          },
          "execution_count": 74
        }
      ]
    },
    {
      "metadata": {
        "id": "KaXFkaV52mjg",
        "colab_type": "text"
      },
      "cell_type": "markdown",
      "source": [
        "off by nearly 1000"
      ]
    },
    {
      "metadata": {
        "id": "tN2I_F3FkIHb",
        "colab_type": "text"
      },
      "cell_type": "markdown",
      "source": [
        "### Basic baseline 2"
      ]
    },
    {
      "metadata": {
        "id": "ZW8bhZFtTunV",
        "colab_type": "code",
        "outputId": "08184ba2-88b9-471b-97d9-cb4b216bc5a9",
        "colab": {
          "base_uri": "https://localhost:8080/",
          "height": 34
        }
      },
      "cell_type": "code",
      "source": [
        "# guessing that today's trips will replicate yesterday's\n",
        "\n",
        "mse(y_train, X_train.Total_yesterday)"
      ],
      "execution_count": 75,
      "outputs": [
        {
          "output_type": "execute_result",
          "data": {
            "text/plain": [
              "708.061266874351"
            ]
          },
          "metadata": {
            "tags": []
          },
          "execution_count": 75
        }
      ]
    },
    {
      "metadata": {
        "id": "7PXASbp12xMt",
        "colab_type": "text"
      },
      "cell_type": "markdown",
      "source": [
        "off by about 700 trips"
      ]
    },
    {
      "metadata": {
        "id": "Ggf3VpxwkJ0T",
        "colab_type": "text"
      },
      "cell_type": "markdown",
      "source": [
        "### First model that does better than a basic baseline"
      ]
    },
    {
      "metadata": {
        "id": "KfaqL1Ezer2-",
        "colab_type": "text"
      },
      "cell_type": "markdown",
      "source": [
        "https://scikit-learn.org/stable/modules/generated/sklearn.model_selection.cross_validate.html"
      ]
    },
    {
      "metadata": {
        "id": "OeBtU68skfW-",
        "colab_type": "code",
        "outputId": "673fc82f-308b-4db4-a6a0-1d667cb77872",
        "colab": {
          "base_uri": "https://localhost:8080/",
          "height": 142
        }
      },
      "cell_type": "code",
      "source": [
        "# use negative mean absolute error because we want to MINIMIZE score,\n",
        "# and cross validate will try to maximize\n",
        "# cv = how many cross validations\n",
        "\n",
        "from sklearn.linear_model import LinearRegression\n",
        "from sklearn.model_selection import cross_validate\n",
        "\n",
        "scores = cross_validate(LinearRegression(), X_train, y_train,\n",
        "                       scoring='neg_mean_absolute_error', cv=3,\n",
        "                       return_train_score=True, return_estimator=True)\n",
        "\n",
        "pd.DataFrame(scores)#.rename(columns={'test_score': 'validation_score'})"
      ],
      "execution_count": 76,
      "outputs": [
        {
          "output_type": "execute_result",
          "data": {
            "text/html": [
              "<div>\n",
              "<style scoped>\n",
              "    .dataframe tbody tr th:only-of-type {\n",
              "        vertical-align: middle;\n",
              "    }\n",
              "\n",
              "    .dataframe tbody tr th {\n",
              "        vertical-align: top;\n",
              "    }\n",
              "\n",
              "    .dataframe thead th {\n",
              "        text-align: right;\n",
              "    }\n",
              "</style>\n",
              "<table border=\"1\" class=\"dataframe\">\n",
              "  <thead>\n",
              "    <tr style=\"text-align: right;\">\n",
              "      <th></th>\n",
              "      <th>estimator</th>\n",
              "      <th>fit_time</th>\n",
              "      <th>score_time</th>\n",
              "      <th>test_score</th>\n",
              "      <th>train_score</th>\n",
              "    </tr>\n",
              "  </thead>\n",
              "  <tbody>\n",
              "    <tr>\n",
              "      <th>0</th>\n",
              "      <td>LinearRegression(copy_X=True, fit_intercept=Tr...</td>\n",
              "      <td>0.004702</td>\n",
              "      <td>0.004625</td>\n",
              "      <td>-555.186275</td>\n",
              "      <td>-619.509206</td>\n",
              "    </tr>\n",
              "    <tr>\n",
              "      <th>1</th>\n",
              "      <td>LinearRegression(copy_X=True, fit_intercept=Tr...</td>\n",
              "      <td>0.002237</td>\n",
              "      <td>0.001477</td>\n",
              "      <td>-651.126513</td>\n",
              "      <td>-583.427702</td>\n",
              "    </tr>\n",
              "    <tr>\n",
              "      <th>2</th>\n",
              "      <td>LinearRegression(copy_X=True, fit_intercept=Tr...</td>\n",
              "      <td>0.001824</td>\n",
              "      <td>0.001392</td>\n",
              "      <td>-615.965800</td>\n",
              "      <td>-589.341301</td>\n",
              "    </tr>\n",
              "  </tbody>\n",
              "</table>\n",
              "</div>"
            ],
            "text/plain": [
              "                                           estimator  fit_time  score_time  \\\n",
              "0  LinearRegression(copy_X=True, fit_intercept=Tr...  0.004702    0.004625   \n",
              "1  LinearRegression(copy_X=True, fit_intercept=Tr...  0.002237    0.001477   \n",
              "2  LinearRegression(copy_X=True, fit_intercept=Tr...  0.001824    0.001392   \n",
              "\n",
              "   test_score  train_score  \n",
              "0 -555.186275  -619.509206  \n",
              "1 -651.126513  -583.427702  \n",
              "2 -615.965800  -589.341301  "
            ]
          },
          "metadata": {
            "tags": []
          },
          "execution_count": 76
        }
      ]
    },
    {
      "metadata": {
        "id": "e7qKHica4EZ3",
        "colab_type": "text"
      },
      "cell_type": "markdown",
      "source": [
        "- test_score = validation score, flip the negative sign\n",
        "  - we've already done better than baseline tests"
      ]
    },
    {
      "metadata": {
        "id": "vXtlYbDh4onX",
        "colab_type": "code",
        "outputId": "ea843c54-1017-402e-bc33-6f2e8706c602",
        "colab": {
          "base_uri": "https://localhost:8080/",
          "height": 34
        }
      },
      "cell_type": "code",
      "source": [
        "# single number summarization\n",
        "\n",
        "scores['test_score'].mean()"
      ],
      "execution_count": 77,
      "outputs": [
        {
          "output_type": "execute_result",
          "data": {
            "text/plain": [
              "-607.4261958631806"
            ]
          },
          "metadata": {
            "tags": []
          },
          "execution_count": 77
        }
      ]
    },
    {
      "metadata": {
        "id": "56nwZNuJ5m1h",
        "colab_type": "code",
        "outputId": "75dd5993-734c-4a70-be1b-bfacdfd60b90",
        "colab": {
          "base_uri": "https://localhost:8080/",
          "height": 34
        }
      },
      "cell_type": "code",
      "source": [
        "scores['train_score'].mean()"
      ],
      "execution_count": 78,
      "outputs": [
        {
          "output_type": "execute_result",
          "data": {
            "text/plain": [
              "-597.4260696722171"
            ]
          },
          "metadata": {
            "tags": []
          },
          "execution_count": 78
        }
      ]
    },
    {
      "metadata": {
        "id": "tqTdvoMH4655",
        "colab_type": "code",
        "colab": {
          "base_uri": "https://localhost:8080/",
          "height": 578
        },
        "outputId": "bd26d374-b1c0-477f-d759-be26b90904d1"
      },
      "cell_type": "code",
      "source": [
        "for i, model in enumerate(scores['estimator']):\n",
        "    coefficients = model.coef_\n",
        "    intercept = model.intercept_\n",
        "    feature_names = X_train.columns\n",
        "    \n",
        "    print('Model from cross validation fold #' + str(i))\n",
        "    print('Intercept', model.intercept_)\n",
        "    print(pd.Series(coefficients, feature_names).to_string())\n",
        "    print('\\n')"
      ],
      "execution_count": 79,
      "outputs": [
        {
          "output_type": "stream",
          "text": [
            "Model from cross validation fold #0\n",
            "Intercept 566.7766337283679\n",
            "PRCP               -3.525103\n",
            "SNOW               -0.082029\n",
            "SNWD              -12.045027\n",
            "TMAX                9.475238\n",
            "TMIN               -4.607775\n",
            "AWND               -2.745191\n",
            "Total_yesterday     0.417360\n",
            "\n",
            "\n",
            "Model from cross validation fold #1\n",
            "Intercept 671.9064515706045\n",
            "PRCP               -2.772253\n",
            "SNOW               -0.000995\n",
            "SNWD               20.800688\n",
            "TMAX                8.804948\n",
            "TMIN               -3.741386\n",
            "AWND               -6.108300\n",
            "Total_yesterday     0.405074\n",
            "\n",
            "\n",
            "Model from cross validation fold #2\n",
            "Intercept 465.84525362296563\n",
            "PRCP               -2.876196\n",
            "SNOW               -0.016432\n",
            "SNWD               -8.809696\n",
            "TMAX               10.419441\n",
            "TMIN               -5.862868\n",
            "AWND               -2.398991\n",
            "Total_yesterday     0.423493\n",
            "\n",
            "\n"
          ],
          "name": "stdout"
        }
      ]
    },
    {
      "metadata": {
        "id": "bsqXmzqY4-WX",
        "colab_type": "code",
        "colab": {
          "base_uri": "https://localhost:8080/",
          "height": 578
        },
        "outputId": "6edbea8a-a6f6-4110-8e5f-19f3d36e3133"
      },
      "cell_type": "code",
      "source": [
        "import statsmodels.api as sm\n",
        "model = sm.OLS(y_train, sm.add_constant(X_train))\n",
        "print(model.fit().summary())"
      ],
      "execution_count": 80,
      "outputs": [
        {
          "output_type": "stream",
          "text": [
            "                            OLS Regression Results                            \n",
            "==============================================================================\n",
            "Dep. Variable:                  Total   R-squared:                       0.628\n",
            "Model:                            OLS   Adj. R-squared:                  0.625\n",
            "Method:                 Least Squares   F-statistic:                     230.2\n",
            "Date:                Wed, 30 Jan 2019   Prob (F-statistic):          4.80e-200\n",
            "Time:                        22:32:28   Log-Likelihood:                -7736.8\n",
            "No. Observations:                 963   AIC:                         1.549e+04\n",
            "Df Residuals:                     955   BIC:                         1.553e+04\n",
            "Df Model:                           7                                         \n",
            "Covariance Type:            nonrobust                                         \n",
            "===================================================================================\n",
            "                      coef    std err          t      P>|t|      [0.025      0.975]\n",
            "-----------------------------------------------------------------------------------\n",
            "const             571.7691     93.165      6.137      0.000     388.937     754.601\n",
            "PRCP               -3.0616      0.396     -7.726      0.000      -3.839      -2.284\n",
            "SNOW               -0.0271      0.038     -0.721      0.471      -0.101       0.047\n",
            "SNWD               -9.1379      8.974     -1.018      0.309     -26.748       8.472\n",
            "TMAX                9.4823      0.774     12.258      0.000       7.964      11.000\n",
            "TMIN               -4.6742      1.026     -4.555      0.000      -6.688      -2.660\n",
            "AWND               -3.7006      1.747     -2.119      0.034      -7.128      -0.273\n",
            "Total_yesterday     0.4165      0.025     16.460      0.000       0.367       0.466\n",
            "==============================================================================\n",
            "Omnibus:                        6.601   Durbin-Watson:                   1.571\n",
            "Prob(Omnibus):                  0.037   Jarque-Bera (JB):                6.648\n",
            "Skew:                          -0.187   Prob(JB):                       0.0360\n",
            "Kurtosis:                       2.841   Cond. No.                     1.09e+04\n",
            "==============================================================================\n",
            "\n",
            "Warnings:\n",
            "[1] Standard Errors assume that the covariance matrix of the errors is correctly specified.\n",
            "[2] The condition number is large, 1.09e+04. This might indicate that there are\n",
            "strong multicollinearity or other numerical problems.\n"
          ],
          "name": "stdout"
        }
      ]
    },
    {
      "metadata": {
        "id": "fg1YI4X8n9nI",
        "colab_type": "text"
      },
      "cell_type": "markdown",
      "source": [
        "## 5. Develop a model that overfits. \n",
        "\n",
        "\"The universal tension in machine learning is between optimization and generalization; the ideal model is one that stands right at the border between underfitting and overfitting; between undercapacity and overcapacity. To figure out where this border lies, first you must cross it.\" —Chollet"
      ]
    },
    {
      "metadata": {
        "id": "lodd6UPOoy89",
        "colab_type": "text"
      },
      "cell_type": "markdown",
      "source": [
        "<img src=\"https://jakevdp.github.io/PythonDataScienceHandbook/figures/05.03-validation-curve.png\">\n",
        "\n",
        "Diagram source: https://jakevdp.github.io/PythonDataScienceHandbook/05.03-hyperparameters-and-model-validation.html#Validation-curves-in-Scikit-Learn"
      ]
    },
    {
      "metadata": {
        "id": "FrmQ3RM0w2JE",
        "colab_type": "text"
      },
      "cell_type": "markdown",
      "source": [
        "### Polynomial Regression?"
      ]
    },
    {
      "metadata": {
        "id": "uctwo0X3pTw5",
        "colab_type": "code",
        "colab": {}
      },
      "cell_type": "code",
      "source": [
        "# Copied from cell 10 at\n",
        "# https://jakevdp.github.io/PythonDataScienceHandbook/05.03-hyperparameters-and-model-validation.html#Validation-curves-in-Scikit-Learn\n",
        "\n",
        "from sklearn.preprocessing import PolynomialFeatures\n",
        "from sklearn.linear_model import LinearRegression\n",
        "from sklearn.pipeline import make_pipeline\n",
        "\n",
        "def PolynomialRegression(degree=2, **kwargs):\n",
        "    return make_pipeline(PolynomialFeatures(degree),\n",
        "                         LinearRegression(**kwargs))"
      ],
      "execution_count": 0,
      "outputs": []
    },
    {
      "metadata": {
        "id": "wvY4HOXVw7Mj",
        "colab_type": "code",
        "outputId": "7bbd2473-02a6-426f-ae6f-4f1a2cd1aa8e",
        "colab": {
          "base_uri": "https://localhost:8080/",
          "height": 309
        }
      },
      "cell_type": "code",
      "source": [
        "# would never need in the real world\n",
        "# shows different features based on different polynomial degrees\n",
        "\n",
        "for degree in [0, 1, 2, 3]:\n",
        "    features = PolynomialFeatures(degree).fit(X_train).get_feature_names(X_train.columns)\n",
        "    print(f'{degree} degree polynomial has {len(features)} features')\n",
        "    print(features)\n",
        "    print('\\n')"
      ],
      "execution_count": 82,
      "outputs": [
        {
          "output_type": "stream",
          "text": [
            "0 degree polynomial has 1 features\n",
            "['1']\n",
            "\n",
            "\n",
            "1 degree polynomial has 8 features\n",
            "['1', 'PRCP', 'SNOW', 'SNWD', 'TMAX', 'TMIN', 'AWND', 'Total_yesterday']\n",
            "\n",
            "\n",
            "2 degree polynomial has 36 features\n",
            "['1', 'PRCP', 'SNOW', 'SNWD', 'TMAX', 'TMIN', 'AWND', 'Total_yesterday', 'PRCP^2', 'PRCP SNOW', 'PRCP SNWD', 'PRCP TMAX', 'PRCP TMIN', 'PRCP AWND', 'PRCP Total_yesterday', 'SNOW^2', 'SNOW SNWD', 'SNOW TMAX', 'SNOW TMIN', 'SNOW AWND', 'SNOW Total_yesterday', 'SNWD^2', 'SNWD TMAX', 'SNWD TMIN', 'SNWD AWND', 'SNWD Total_yesterday', 'TMAX^2', 'TMAX TMIN', 'TMAX AWND', 'TMAX Total_yesterday', 'TMIN^2', 'TMIN AWND', 'TMIN Total_yesterday', 'AWND^2', 'AWND Total_yesterday', 'Total_yesterday^2']\n",
            "\n",
            "\n",
            "3 degree polynomial has 120 features\n",
            "['1', 'PRCP', 'SNOW', 'SNWD', 'TMAX', 'TMIN', 'AWND', 'Total_yesterday', 'PRCP^2', 'PRCP SNOW', 'PRCP SNWD', 'PRCP TMAX', 'PRCP TMIN', 'PRCP AWND', 'PRCP Total_yesterday', 'SNOW^2', 'SNOW SNWD', 'SNOW TMAX', 'SNOW TMIN', 'SNOW AWND', 'SNOW Total_yesterday', 'SNWD^2', 'SNWD TMAX', 'SNWD TMIN', 'SNWD AWND', 'SNWD Total_yesterday', 'TMAX^2', 'TMAX TMIN', 'TMAX AWND', 'TMAX Total_yesterday', 'TMIN^2', 'TMIN AWND', 'TMIN Total_yesterday', 'AWND^2', 'AWND Total_yesterday', 'Total_yesterday^2', 'PRCP^3', 'PRCP^2 SNOW', 'PRCP^2 SNWD', 'PRCP^2 TMAX', 'PRCP^2 TMIN', 'PRCP^2 AWND', 'PRCP^2 Total_yesterday', 'PRCP SNOW^2', 'PRCP SNOW SNWD', 'PRCP SNOW TMAX', 'PRCP SNOW TMIN', 'PRCP SNOW AWND', 'PRCP SNOW Total_yesterday', 'PRCP SNWD^2', 'PRCP SNWD TMAX', 'PRCP SNWD TMIN', 'PRCP SNWD AWND', 'PRCP SNWD Total_yesterday', 'PRCP TMAX^2', 'PRCP TMAX TMIN', 'PRCP TMAX AWND', 'PRCP TMAX Total_yesterday', 'PRCP TMIN^2', 'PRCP TMIN AWND', 'PRCP TMIN Total_yesterday', 'PRCP AWND^2', 'PRCP AWND Total_yesterday', 'PRCP Total_yesterday^2', 'SNOW^3', 'SNOW^2 SNWD', 'SNOW^2 TMAX', 'SNOW^2 TMIN', 'SNOW^2 AWND', 'SNOW^2 Total_yesterday', 'SNOW SNWD^2', 'SNOW SNWD TMAX', 'SNOW SNWD TMIN', 'SNOW SNWD AWND', 'SNOW SNWD Total_yesterday', 'SNOW TMAX^2', 'SNOW TMAX TMIN', 'SNOW TMAX AWND', 'SNOW TMAX Total_yesterday', 'SNOW TMIN^2', 'SNOW TMIN AWND', 'SNOW TMIN Total_yesterday', 'SNOW AWND^2', 'SNOW AWND Total_yesterday', 'SNOW Total_yesterday^2', 'SNWD^3', 'SNWD^2 TMAX', 'SNWD^2 TMIN', 'SNWD^2 AWND', 'SNWD^2 Total_yesterday', 'SNWD TMAX^2', 'SNWD TMAX TMIN', 'SNWD TMAX AWND', 'SNWD TMAX Total_yesterday', 'SNWD TMIN^2', 'SNWD TMIN AWND', 'SNWD TMIN Total_yesterday', 'SNWD AWND^2', 'SNWD AWND Total_yesterday', 'SNWD Total_yesterday^2', 'TMAX^3', 'TMAX^2 TMIN', 'TMAX^2 AWND', 'TMAX^2 Total_yesterday', 'TMAX TMIN^2', 'TMAX TMIN AWND', 'TMAX TMIN Total_yesterday', 'TMAX AWND^2', 'TMAX AWND Total_yesterday', 'TMAX Total_yesterday^2', 'TMIN^3', 'TMIN^2 AWND', 'TMIN^2 Total_yesterday', 'TMIN AWND^2', 'TMIN AWND Total_yesterday', 'TMIN Total_yesterday^2', 'AWND^3', 'AWND^2 Total_yesterday', 'AWND Total_yesterday^2', 'Total_yesterday^3']\n",
            "\n",
            "\n"
          ],
          "name": "stdout"
        }
      ]
    },
    {
      "metadata": {
        "id": "XEUdG9-ktHoa",
        "colab_type": "text"
      },
      "cell_type": "markdown",
      "source": [
        "### Validation curve (with Polynomial Regression)"
      ]
    },
    {
      "metadata": {
        "id": "_ryO1hVKr-6f",
        "colab_type": "text"
      },
      "cell_type": "markdown",
      "source": [
        "https://scikit-learn.org/stable/modules/generated/sklearn.model_selection.validation_curve.html\n",
        "\n",
        "> Validation curve. Determine training and test scores for varying parameter values. This is similar to grid search with one parameter."
      ]
    },
    {
      "metadata": {
        "id": "znJgKqPcqBh-",
        "colab_type": "code",
        "outputId": "4c12f042-a948-49de-ddcb-8cd1043e5f45",
        "colab": {
          "base_uri": "https://localhost:8080/",
          "height": 279
        }
      },
      "cell_type": "code",
      "source": [
        "# Modified from cell 13 at\n",
        "# https://jakevdp.github.io/PythonDataScienceHandbook/05.03-hyperparameters-and-model-validation.html#Validation-curves-in-Scikit-Learn\n",
        "\n",
        "%matplotlib inline\n",
        "import matplotlib.pyplot as plt\n",
        "from sklearn.model_selection import validation_curve\n",
        "\n",
        "degree = [0, 1, 2]\n",
        "train_score, val_score = validation_curve(\n",
        "    PolynomialRegression(), X_train, y_train,\n",
        "    param_name='polynomialfeatures__degree', param_range=degree, \n",
        "    scoring='neg_mean_absolute_error', cv=3)\n",
        "\n",
        "plt.plot(degree, np.median(train_score, 1), color='blue', label='training score')\n",
        "plt.plot(degree, np.median(val_score, 1), color='red', label='validation score')\n",
        "plt.legend(loc='best')\n",
        "plt.xlabel('degree');"
      ],
      "execution_count": 83,
      "outputs": [
        {
          "output_type": "display_data",
          "data": {
            "image/png": "[encoded data removed]",
            "text/plain": [
              "<Figure size 432x288 with 1 Axes>"
            ]
          },
          "metadata": {
            "tags": []
          }
        }
      ]
    },
    {
      "metadata": {
        "id": "QCF5SVLeAlnE",
        "colab_type": "text"
      },
      "cell_type": "markdown",
      "source": [
        "going to second degree polynomial significantly kills your validation score"
      ]
    },
    {
      "metadata": {
        "id": "HUdGHWhvtVnV",
        "colab_type": "text"
      },
      "cell_type": "markdown",
      "source": [
        "### Grid Search (with Polynomial Regression)\n",
        "\n",
        "https://scikit-learn.org/stable/modules/generated/sklearn.model_selection.GridSearchCV.html\n",
        "\n",
        "https://scikit-learn.org/stable/modules/grid_search.html"
      ]
    },
    {
      "metadata": {
        "id": "GziXyq8Is6dL",
        "colab_type": "code",
        "outputId": "6ce3cc67-b158-4538-e62d-4489c4f528ca",
        "colab": {
          "base_uri": "https://localhost:8080/",
          "height": 785
        }
      },
      "cell_type": "code",
      "source": [
        "from sklearn.model_selection import GridSearchCV\n",
        "\n",
        "# specify the parameter that you want to try multiple values of\n",
        "# do cross validation for each one, then tell me which is best\n",
        "\n",
        "param_grid = {\n",
        "    'polynomialfeatures__degree': [0, 1, 2, 3]\n",
        "}\n",
        "\n",
        "gridsearch = GridSearchCV(PolynomialRegression(), param_grid=param_grid,\n",
        "                         scoring='neg_mean_absolute_error', cv=3,\n",
        "                         return_train_score=True, verbose=10)\n",
        "\n",
        "# like a for loop, repeatedly pulling new polynomial degrees input above\n",
        "# computationally expensive\n",
        "# cross validating each degree\n",
        "# spitting out best polynomial degree for overall fit at end\n",
        "\n",
        "gridsearch.fit(X_train, y_train)"
      ],
      "execution_count": 84,
      "outputs": [
        {
          "output_type": "stream",
          "text": [
            "Fitting 3 folds for each of 4 candidates, totalling 12 fits\n",
            "[CV] polynomialfeatures__degree=0 ....................................\n",
            "[CV]  polynomialfeatures__degree=0, score=-1026.3529857047195, total=   0.0s\n",
            "[CV] polynomialfeatures__degree=0 ....................................\n",
            "[CV]  polynomialfeatures__degree=0, score=-1001.6149251268913, total=   0.0s\n",
            "[CV] polynomialfeatures__degree=0 ....................................\n",
            "[CV]  polynomialfeatures__degree=0, score=-927.0707048650538, total=   0.0s\n",
            "[CV] polynomialfeatures__degree=1 ....................................\n",
            "[CV]  polynomialfeatures__degree=1, score=-555.1862745374103, total=   0.0s\n",
            "[CV] polynomialfeatures__degree=1 ....................................\n",
            "[CV]  polynomialfeatures__degree=1, score=-651.1265132746228, total=   0.0s\n",
            "[CV] polynomialfeatures__degree=1 ....................................\n",
            "[CV]  polynomialfeatures__degree=1, score=-615.9657997775082, total=   0.0s\n",
            "[CV] polynomialfeatures__degree=2 ....................................\n",
            "[CV]  polynomialfeatures__degree=2, score=-7553.67367810515, total=   0.0s\n",
            "[CV] polynomialfeatures__degree=2 ....................................\n",
            "[CV]  polynomialfeatures__degree=2, score=-1439.191570208428, total=   0.0s\n",
            "[CV] polynomialfeatures__degree=2 ....................................\n",
            "[CV]  polynomialfeatures__degree=2, score=-644.1228337571547, total=   0.0s\n",
            "[CV] polynomialfeatures__degree=3 ....................................\n",
            "[CV]  polynomialfeatures__degree=3, score=-2487.2087241103723, total=   0.0s\n",
            "[CV] polynomialfeatures__degree=3 ....................................\n",
            "[CV]  polynomialfeatures__degree=3, score=-97950.22398935535, total=   0.0s\n",
            "[CV] polynomialfeatures__degree=3 ....................................\n",
            "[CV]  polynomialfeatures__degree=3, score=-1835.2490429251202, total=   0.0s\n"
          ],
          "name": "stdout"
        },
        {
          "output_type": "stream",
          "text": [
            "[Parallel(n_jobs=1)]: Using backend SequentialBackend with 1 concurrent workers.\n",
            "[Parallel(n_jobs=1)]: Done   1 out of   1 | elapsed:    0.0s remaining:    0.0s\n",
            "[Parallel(n_jobs=1)]: Done   2 out of   2 | elapsed:    0.0s remaining:    0.0s\n",
            "[Parallel(n_jobs=1)]: Done   3 out of   3 | elapsed:    0.0s remaining:    0.0s\n",
            "[Parallel(n_jobs=1)]: Done   4 out of   4 | elapsed:    0.0s remaining:    0.0s\n",
            "[Parallel(n_jobs=1)]: Done   5 out of   5 | elapsed:    0.0s remaining:    0.0s\n",
            "[Parallel(n_jobs=1)]: Done   6 out of   6 | elapsed:    0.0s remaining:    0.0s\n",
            "[Parallel(n_jobs=1)]: Done   7 out of   7 | elapsed:    0.1s remaining:    0.0s\n",
            "[Parallel(n_jobs=1)]: Done   8 out of   8 | elapsed:    0.1s remaining:    0.0s\n",
            "[Parallel(n_jobs=1)]: Done   9 out of   9 | elapsed:    0.1s remaining:    0.0s\n",
            "[Parallel(n_jobs=1)]: Done  12 out of  12 | elapsed:    0.1s finished\n"
          ],
          "name": "stderr"
        },
        {
          "output_type": "execute_result",
          "data": {
            "text/plain": [
              "GridSearchCV(cv=3, error_score='raise-deprecating',\n",
              "       estimator=Pipeline(memory=None,\n",
              "     steps=[('polynomialfeatures', PolynomialFeatures(degree=2, include_bias=True, interaction_only=False)), ('linearregression', LinearRegression(copy_X=True, fit_intercept=True, n_jobs=None,\n",
              "         normalize=False))]),\n",
              "       fit_params=None, iid='warn', n_jobs=None,\n",
              "       param_grid={'polynomialfeatures__degree': [0, 1, 2, 3]},\n",
              "       pre_dispatch='2*n_jobs', refit=True, return_train_score=True,\n",
              "       scoring='neg_mean_absolute_error', verbose=10)"
            ]
          },
          "metadata": {
            "tags": []
          },
          "execution_count": 84
        }
      ]
    },
    {
      "metadata": {
        "id": "avcAxNqhB_CK",
        "colab_type": "text"
      },
      "cell_type": "markdown",
      "source": [
        "- [0, 1, 2, 3] for a total of 4 candidates\n",
        "- cv = 3, therefore 12 fits"
      ]
    },
    {
      "metadata": {
        "id": "OSM_VNK-Cp0G",
        "colab_type": "code",
        "outputId": "a25df874-89a9-493d-f3f9-9530b51053b9",
        "colab": {
          "base_uri": "https://localhost:8080/",
          "height": 261
        }
      },
      "cell_type": "code",
      "source": [
        "pd.DataFrame(gridsearch.cv_results_).sort_values(by='rank_test_score')"
      ],
      "execution_count": 85,
      "outputs": [
        {
          "output_type": "execute_result",
          "data": {
            "text/html": [
              "<div>\n",
              "<style scoped>\n",
              "    .dataframe tbody tr th:only-of-type {\n",
              "        vertical-align: middle;\n",
              "    }\n",
              "\n",
              "    .dataframe tbody tr th {\n",
              "        vertical-align: top;\n",
              "    }\n",
              "\n",
              "    .dataframe thead th {\n",
              "        text-align: right;\n",
              "    }\n",
              "</style>\n",
              "<table border=\"1\" class=\"dataframe\">\n",
              "  <thead>\n",
              "    <tr style=\"text-align: right;\">\n",
              "      <th></th>\n",
              "      <th>mean_fit_time</th>\n",
              "      <th>mean_score_time</th>\n",
              "      <th>mean_test_score</th>\n",
              "      <th>mean_train_score</th>\n",
              "      <th>param_polynomialfeatures__degree</th>\n",
              "      <th>params</th>\n",
              "      <th>rank_test_score</th>\n",
              "      <th>split0_test_score</th>\n",
              "      <th>split0_train_score</th>\n",
              "      <th>split1_test_score</th>\n",
              "      <th>split1_train_score</th>\n",
              "      <th>split2_test_score</th>\n",
              "      <th>split2_train_score</th>\n",
              "      <th>std_fit_time</th>\n",
              "      <th>std_score_time</th>\n",
              "      <th>std_test_score</th>\n",
              "      <th>std_train_score</th>\n",
              "    </tr>\n",
              "  </thead>\n",
              "  <tbody>\n",
              "    <tr>\n",
              "      <th>1</th>\n",
              "      <td>0.002492</td>\n",
              "      <td>0.001625</td>\n",
              "      <td>-607.426196</td>\n",
              "      <td>-597.426070</td>\n",
              "      <td>1</td>\n",
              "      <td>{'polynomialfeatures__degree': 1}</td>\n",
              "      <td>1</td>\n",
              "      <td>-555.186275</td>\n",
              "      <td>-619.509206</td>\n",
              "      <td>-651.126513</td>\n",
              "      <td>-583.427702</td>\n",
              "      <td>-615.965800</td>\n",
              "      <td>-589.341301</td>\n",
              "      <td>0.000018</td>\n",
              "      <td>0.000021</td>\n",
              "      <td>39.630174</td>\n",
              "      <td>15.800661</td>\n",
              "    </tr>\n",
              "    <tr>\n",
              "      <th>0</th>\n",
              "      <td>0.002771</td>\n",
              "      <td>0.001696</td>\n",
              "      <td>-985.012872</td>\n",
              "      <td>-979.844161</td>\n",
              "      <td>0</td>\n",
              "      <td>{'polynomialfeatures__degree': 0}</td>\n",
              "      <td>2</td>\n",
              "      <td>-1026.352986</td>\n",
              "      <td>-968.880368</td>\n",
              "      <td>-1001.614925</td>\n",
              "      <td>-970.755413</td>\n",
              "      <td>-927.070705</td>\n",
              "      <td>-999.896701</td>\n",
              "      <td>0.000447</td>\n",
              "      <td>0.000247</td>\n",
              "      <td>42.197661</td>\n",
              "      <td>14.199935</td>\n",
              "    </tr>\n",
              "    <tr>\n",
              "      <th>2</th>\n",
              "      <td>0.004284</td>\n",
              "      <td>0.002572</td>\n",
              "      <td>-3212.329361</td>\n",
              "      <td>-576.333816</td>\n",
              "      <td>2</td>\n",
              "      <td>{'polynomialfeatures__degree': 2}</td>\n",
              "      <td>3</td>\n",
              "      <td>-7553.673678</td>\n",
              "      <td>-595.089615</td>\n",
              "      <td>-1439.191570</td>\n",
              "      <td>-568.150803</td>\n",
              "      <td>-644.122834</td>\n",
              "      <td>-565.761032</td>\n",
              "      <td>0.000219</td>\n",
              "      <td>0.000957</td>\n",
              "      <td>3086.906373</td>\n",
              "      <td>13.298189</td>\n",
              "    </tr>\n",
              "    <tr>\n",
              "      <th>3</th>\n",
              "      <td>0.013766</td>\n",
              "      <td>0.002869</td>\n",
              "      <td>-34090.893919</td>\n",
              "      <td>-601.797899</td>\n",
              "      <td>3</td>\n",
              "      <td>{'polynomialfeatures__degree': 3}</td>\n",
              "      <td>4</td>\n",
              "      <td>-2487.208724</td>\n",
              "      <td>-565.787908</td>\n",
              "      <td>-97950.223989</td>\n",
              "      <td>-663.520180</td>\n",
              "      <td>-1835.249043</td>\n",
              "      <td>-576.085609</td>\n",
              "      <td>0.000819</td>\n",
              "      <td>0.000014</td>\n",
              "      <td>45156.149752</td>\n",
              "      <td>43.846251</td>\n",
              "    </tr>\n",
              "  </tbody>\n",
              "</table>\n",
              "</div>"
            ],
            "text/plain": [
              "   mean_fit_time  mean_score_time  mean_test_score  mean_train_score  \\\n",
              "1       0.002492         0.001625      -607.426196       -597.426070   \n",
              "0       0.002771         0.001696      -985.012872       -979.844161   \n",
              "2       0.004284         0.002572     -3212.329361       -576.333816   \n",
              "3       0.013766         0.002869    -34090.893919       -601.797899   \n",
              "\n",
              "  param_polynomialfeatures__degree                             params  \\\n",
              "1                                1  {'polynomialfeatures__degree': 1}   \n",
              "0                                0  {'polynomialfeatures__degree': 0}   \n",
              "2                                2  {'polynomialfeatures__degree': 2}   \n",
              "3                                3  {'polynomialfeatures__degree': 3}   \n",
              "\n",
              "   rank_test_score  split0_test_score  split0_train_score  split1_test_score  \\\n",
              "1                1        -555.186275         -619.509206        -651.126513   \n",
              "0                2       -1026.352986         -968.880368       -1001.614925   \n",
              "2                3       -7553.673678         -595.089615       -1439.191570   \n",
              "3                4       -2487.208724         -565.787908      -97950.223989   \n",
              "\n",
              "   split1_train_score  split2_test_score  split2_train_score  std_fit_time  \\\n",
              "1         -583.427702        -615.965800         -589.341301      0.000018   \n",
              "0         -970.755413        -927.070705         -999.896701      0.000447   \n",
              "2         -568.150803        -644.122834         -565.761032      0.000219   \n",
              "3         -663.520180       -1835.249043         -576.085609      0.000819   \n",
              "\n",
              "   std_score_time  std_test_score  std_train_score  \n",
              "1        0.000021       39.630174        15.800661  \n",
              "0        0.000247       42.197661        14.199935  \n",
              "2        0.000957     3086.906373        13.298189  \n",
              "3        0.000014    45156.149752        43.846251  "
            ]
          },
          "metadata": {
            "tags": []
          },
          "execution_count": 85
        }
      ]
    },
    {
      "metadata": {
        "id": "Di5RrqszDAKS",
        "colab_type": "text"
      },
      "cell_type": "markdown",
      "source": [
        "- revalidates that one polynomial provides best fit (lowest mean squared error)"
      ]
    },
    {
      "metadata": {
        "id": "xj82P0VdwYlh",
        "colab_type": "text"
      },
      "cell_type": "markdown",
      "source": [
        "### Random Forest?\n",
        "\n",
        "https://scikit-learn.org/stable/modules/generated/sklearn.ensemble.RandomForestRegressor.html"
      ]
    },
    {
      "metadata": {
        "id": "_yYXpk99C4cM",
        "colab_type": "code",
        "outputId": "b6660b9b-7f71-40a5-989f-3706dd945030",
        "colab": {
          "base_uri": "https://localhost:8080/",
          "height": 142
        }
      },
      "cell_type": "code",
      "source": [
        "from sklearn.ensemble import RandomForestRegressor\n",
        "\n",
        "model = RandomForestRegressor(n_estimators=100, max_depth=20)\n",
        "\n",
        "scores = cross_validate(model, X_train, y_train,\n",
        "                       scoring='neg_mean_absolute_error',\n",
        "                       cv=3, return_train_score=True,\n",
        "                       return_estimator=True)\n",
        "\n",
        "pd.DataFrame(scores)"
      ],
      "execution_count": 86,
      "outputs": [
        {
          "output_type": "execute_result",
          "data": {
            "text/html": [
              "<div>\n",
              "<style scoped>\n",
              "    .dataframe tbody tr th:only-of-type {\n",
              "        vertical-align: middle;\n",
              "    }\n",
              "\n",
              "    .dataframe tbody tr th {\n",
              "        vertical-align: top;\n",
              "    }\n",
              "\n",
              "    .dataframe thead th {\n",
              "        text-align: right;\n",
              "    }\n",
              "</style>\n",
              "<table border=\"1\" class=\"dataframe\">\n",
              "  <thead>\n",
              "    <tr style=\"text-align: right;\">\n",
              "      <th></th>\n",
              "      <th>estimator</th>\n",
              "      <th>fit_time</th>\n",
              "      <th>score_time</th>\n",
              "      <th>test_score</th>\n",
              "      <th>train_score</th>\n",
              "    </tr>\n",
              "  </thead>\n",
              "  <tbody>\n",
              "    <tr>\n",
              "      <th>0</th>\n",
              "      <td>(DecisionTreeRegressor(criterion='mse', max_de...</td>\n",
              "      <td>0.223740</td>\n",
              "      <td>0.010462</td>\n",
              "      <td>-551.971421</td>\n",
              "      <td>-239.523799</td>\n",
              "    </tr>\n",
              "    <tr>\n",
              "      <th>1</th>\n",
              "      <td>(DecisionTreeRegressor(criterion='mse', max_de...</td>\n",
              "      <td>0.207197</td>\n",
              "      <td>0.010382</td>\n",
              "      <td>-634.895203</td>\n",
              "      <td>-225.092290</td>\n",
              "    </tr>\n",
              "    <tr>\n",
              "      <th>2</th>\n",
              "      <td>(DecisionTreeRegressor(criterion='mse', max_de...</td>\n",
              "      <td>0.210360</td>\n",
              "      <td>0.010469</td>\n",
              "      <td>-638.689154</td>\n",
              "      <td>-225.211682</td>\n",
              "    </tr>\n",
              "  </tbody>\n",
              "</table>\n",
              "</div>"
            ],
            "text/plain": [
              "                                           estimator  fit_time  score_time  \\\n",
              "0  (DecisionTreeRegressor(criterion='mse', max_de...  0.223740    0.010462   \n",
              "1  (DecisionTreeRegressor(criterion='mse', max_de...  0.207197    0.010382   \n",
              "2  (DecisionTreeRegressor(criterion='mse', max_de...  0.210360    0.010469   \n",
              "\n",
              "   test_score  train_score  \n",
              "0 -551.971421  -239.523799  \n",
              "1 -634.895203  -225.092290  \n",
              "2 -638.689154  -225.211682  "
            ]
          },
          "metadata": {
            "tags": []
          },
          "execution_count": 86
        }
      ]
    },
    {
      "metadata": {
        "id": "jIDnfDphEL1u",
        "colab_type": "code",
        "outputId": "d8168653-2828-4f1e-ac39-7a430ea80dd5",
        "colab": {
          "base_uri": "https://localhost:8080/",
          "height": 34
        }
      },
      "cell_type": "code",
      "source": [
        "scores['test_score'].mean()"
      ],
      "execution_count": 87,
      "outputs": [
        {
          "output_type": "execute_result",
          "data": {
            "text/plain": [
              "-608.5185924581073"
            ]
          },
          "metadata": {
            "tags": []
          },
          "execution_count": 87
        }
      ]
    },
    {
      "metadata": {
        "id": "vofwgIpSweEb",
        "colab_type": "text"
      },
      "cell_type": "markdown",
      "source": [
        "### Validation Curve (with Random Forest)"
      ]
    },
    {
      "metadata": {
        "id": "apKk4vKiwgtM",
        "colab_type": "code",
        "outputId": "19da3a77-203c-4c6c-d850-df200db37e8f",
        "colab": {
          "base_uri": "https://localhost:8080/",
          "height": 279
        }
      },
      "cell_type": "code",
      "source": [
        "# Modified from cell 13 at\n",
        "# https://jakevdp.github.io/PythonDataScienceHandbook/05.03-hyperparameters-and-model-validation.html#Validation-curves-in-Scikit-Learn\n",
        "\n",
        "%matplotlib inline\n",
        "import matplotlib.pyplot as plt\n",
        "from sklearn.model_selection import validation_curve\n",
        "\n",
        "model = RandomForestRegressor(n_estimators=100)\n",
        "\n",
        "depth = [2, 3, 4, 5, 6]\n",
        "train_score, val_score = validation_curve(\n",
        "    model, X_train, y_train,\n",
        "    param_name='max_depth', param_range=depth, \n",
        "    scoring='neg_mean_absolute_error', cv=3)\n",
        "\n",
        "plt.plot(depth, np.median(train_score, 1), color='blue', label='training score')\n",
        "plt.plot(depth, np.median(val_score, 1), color='red', label='validation score')\n",
        "plt.legend(loc='best')\n",
        "plt.xlabel('depth');"
      ],
      "execution_count": 88,
      "outputs": [
        {
          "output_type": "display_data",
          "data": {
            "image/png": "[encoded data removed]",
            "text/plain": [
              "<Figure size 432x288 with 1 Axes>"
            ]
          },
          "metadata": {
            "tags": []
          }
        }
      ]
    },
    {
      "metadata": {
        "id": "DQoMvZ7-yCAQ",
        "colab_type": "text"
      },
      "cell_type": "markdown",
      "source": [
        "### Grid Search (with Random Forest)"
      ]
    },
    {
      "metadata": {
        "id": "bk_dX_mByKm7",
        "colab_type": "code",
        "outputId": "ca15f88d-e376-4647-9b9a-9590335518d6",
        "colab": {
          "base_uri": "https://localhost:8080/",
          "height": 1071
        }
      },
      "cell_type": "code",
      "source": [
        "# measure how long running this cell takes\n",
        "%%time\n",
        "\n",
        "param_grid = {\n",
        "    'n_estimators': [100, 200],\n",
        "    'max_depth': [4, 5],\n",
        "    'criterion': ['mse', 'mae']\n",
        "}\n",
        "\n",
        "gridsearch = GridSearchCV(RandomForestRegressor(), param_grid=param_grid, \n",
        "                         scoring='neg_mean_absolute_error', cv=3, \n",
        "                         return_train_score=True, verbose=10)\n",
        "\n",
        "gridsearch.fit(X_train, y_train)"
      ],
      "execution_count": 89,
      "outputs": [
        {
          "output_type": "stream",
          "text": [
            "Fitting 3 folds for each of 8 candidates, totalling 24 fits\n",
            "[CV] criterion=mse, max_depth=4, n_estimators=100 ....................\n"
          ],
          "name": "stdout"
        },
        {
          "output_type": "stream",
          "text": [
            "[Parallel(n_jobs=1)]: Using backend SequentialBackend with 1 concurrent workers.\n"
          ],
          "name": "stderr"
        },
        {
          "output_type": "stream",
          "text": [
            "[CV]  criterion=mse, max_depth=4, n_estimators=100, score=-555.243245602364, total=   0.2s\n",
            "[CV] criterion=mse, max_depth=4, n_estimators=100 ....................\n",
            "[CV]  criterion=mse, max_depth=4, n_estimators=100, score=-643.0706664077769, total=   0.1s\n",
            "[CV] criterion=mse, max_depth=4, n_estimators=100 ....................\n"
          ],
          "name": "stdout"
        },
        {
          "output_type": "stream",
          "text": [
            "[Parallel(n_jobs=1)]: Done   1 out of   1 | elapsed:    0.2s remaining:    0.0s\n",
            "[Parallel(n_jobs=1)]: Done   2 out of   2 | elapsed:    0.4s remaining:    0.0s\n"
          ],
          "name": "stderr"
        },
        {
          "output_type": "stream",
          "text": [
            "[CV]  criterion=mse, max_depth=4, n_estimators=100, score=-622.7587985451, total=   0.1s\n",
            "[CV] criterion=mse, max_depth=4, n_estimators=200 ....................\n"
          ],
          "name": "stdout"
        },
        {
          "output_type": "stream",
          "text": [
            "[Parallel(n_jobs=1)]: Done   3 out of   3 | elapsed:    0.5s remaining:    0.0s\n"
          ],
          "name": "stderr"
        },
        {
          "output_type": "stream",
          "text": [
            "[CV]  criterion=mse, max_depth=4, n_estimators=200, score=-552.2002963269573, total=   0.2s\n",
            "[CV] criterion=mse, max_depth=4, n_estimators=200 ....................\n"
          ],
          "name": "stdout"
        },
        {
          "output_type": "stream",
          "text": [
            "[Parallel(n_jobs=1)]: Done   4 out of   4 | elapsed:    0.7s remaining:    0.0s\n"
          ],
          "name": "stderr"
        },
        {
          "output_type": "stream",
          "text": [
            "[CV]  criterion=mse, max_depth=4, n_estimators=200, score=-643.8396374945753, total=   0.2s\n",
            "[CV] criterion=mse, max_depth=4, n_estimators=200 ....................\n"
          ],
          "name": "stdout"
        },
        {
          "output_type": "stream",
          "text": [
            "[Parallel(n_jobs=1)]: Done   5 out of   5 | elapsed:    1.0s remaining:    0.0s\n"
          ],
          "name": "stderr"
        },
        {
          "output_type": "stream",
          "text": [
            "[CV]  criterion=mse, max_depth=4, n_estimators=200, score=-621.8764284558443, total=   0.2s\n",
            "[CV] criterion=mse, max_depth=5, n_estimators=100 ....................\n",
            "[CV]  criterion=mse, max_depth=5, n_estimators=100, score=-543.556476363402, total=   0.1s\n",
            "[CV] criterion=mse, max_depth=5, n_estimators=100 ....................\n"
          ],
          "name": "stdout"
        },
        {
          "output_type": "stream",
          "text": [
            "[Parallel(n_jobs=1)]: Done   6 out of   6 | elapsed:    1.2s remaining:    0.0s\n",
            "[Parallel(n_jobs=1)]: Done   7 out of   7 | elapsed:    1.4s remaining:    0.0s\n"
          ],
          "name": "stderr"
        },
        {
          "output_type": "stream",
          "text": [
            "[CV]  criterion=mse, max_depth=5, n_estimators=100, score=-634.5504083363252, total=   0.1s\n",
            "[CV] criterion=mse, max_depth=5, n_estimators=100 ....................\n",
            "[CV]  criterion=mse, max_depth=5, n_estimators=100, score=-629.8540888850966, total=   0.1s\n",
            "[CV] criterion=mse, max_depth=5, n_estimators=200 ....................\n"
          ],
          "name": "stdout"
        },
        {
          "output_type": "stream",
          "text": [
            "[Parallel(n_jobs=1)]: Done   8 out of   8 | elapsed:    1.5s remaining:    0.0s\n",
            "[Parallel(n_jobs=1)]: Done   9 out of   9 | elapsed:    1.7s remaining:    0.0s\n"
          ],
          "name": "stderr"
        },
        {
          "output_type": "stream",
          "text": [
            "[CV]  criterion=mse, max_depth=5, n_estimators=200, score=-544.4273843022872, total=   0.3s\n",
            "[CV] criterion=mse, max_depth=5, n_estimators=200 ....................\n",
            "[CV]  criterion=mse, max_depth=5, n_estimators=200, score=-637.6203942269533, total=   0.3s\n",
            "[CV] criterion=mse, max_depth=5, n_estimators=200 ....................\n",
            "[CV]  criterion=mse, max_depth=5, n_estimators=200, score=-627.534512225669, total=   0.3s\n",
            "[CV] criterion=mae, max_depth=4, n_estimators=100 ....................\n",
            "[CV]  criterion=mae, max_depth=4, n_estimators=100, score=-547.3373052959503, total=   0.7s\n",
            "[CV] criterion=mae, max_depth=4, n_estimators=100 ....................\n",
            "[CV]  criterion=mae, max_depth=4, n_estimators=100, score=-639.7596728971962, total=   0.6s\n",
            "[CV] criterion=mae, max_depth=4, n_estimators=100 ....................\n",
            "[CV]  criterion=mae, max_depth=4, n_estimators=100, score=-612.5238629283489, total=   0.7s\n",
            "[CV] criterion=mae, max_depth=4, n_estimators=200 ....................\n",
            "[CV]  criterion=mae, max_depth=4, n_estimators=200, score=-548.1777570093458, total=   1.3s\n",
            "[CV] criterion=mae, max_depth=4, n_estimators=200 ....................\n",
            "[CV]  criterion=mae, max_depth=4, n_estimators=200, score=-637.2634968847352, total=   1.3s\n",
            "[CV] criterion=mae, max_depth=4, n_estimators=200 ....................\n",
            "[CV]  criterion=mae, max_depth=4, n_estimators=200, score=-610.4871806853583, total=   1.3s\n",
            "[CV] criterion=mae, max_depth=5, n_estimators=100 ....................\n",
            "[CV]  criterion=mae, max_depth=5, n_estimators=100, score=-539.5969781931465, total=   0.8s\n",
            "[CV] criterion=mae, max_depth=5, n_estimators=100 ....................\n",
            "[CV]  criterion=mae, max_depth=5, n_estimators=100, score=-635.3496417445482, total=   0.7s\n",
            "[CV] criterion=mae, max_depth=5, n_estimators=100 ....................\n",
            "[CV]  criterion=mae, max_depth=5, n_estimators=100, score=-608.2968224299066, total=   0.7s\n",
            "[CV] criterion=mae, max_depth=5, n_estimators=200 ....................\n",
            "[CV]  criterion=mae, max_depth=5, n_estimators=200, score=-537.4820404984423, total=   1.5s\n",
            "[CV] criterion=mae, max_depth=5, n_estimators=200 ....................\n",
            "[CV]  criterion=mae, max_depth=5, n_estimators=200, score=-634.4369003115264, total=   1.4s\n",
            "[CV] criterion=mae, max_depth=5, n_estimators=200 ....................\n",
            "[CV]  criterion=mae, max_depth=5, n_estimators=200, score=-611.7197897196262, total=   1.5s\n"
          ],
          "name": "stdout"
        },
        {
          "output_type": "stream",
          "text": [
            "[Parallel(n_jobs=1)]: Done  24 out of  24 | elapsed:   15.1s finished\n"
          ],
          "name": "stderr"
        },
        {
          "output_type": "stream",
          "text": [
            "CPU times: user 16.4 s, sys: 47.8 ms, total: 16.4 s\n",
            "Wall time: 16.4 s\n"
          ],
          "name": "stdout"
        }
      ]
    },
    {
      "metadata": {
        "id": "bbyKc7AuGQVr",
        "colab_type": "code",
        "outputId": "8463c33b-5829-4ff6-e980-c1857a96095e",
        "colab": {
          "base_uri": "https://localhost:8080/",
          "height": 878
        }
      },
      "cell_type": "code",
      "source": [
        "results = pd.DataFrame(gridsearch.cv_results_)\n",
        "print(f'Best result from grid search of {len(results)} parameter combinations')\n",
        "results.sort_values(by='rank_test_score').head(8)"
      ],
      "execution_count": 90,
      "outputs": [
        {
          "output_type": "stream",
          "text": [
            "Best result from grid search of 8 parameter combinations\n"
          ],
          "name": "stdout"
        },
        {
          "output_type": "execute_result",
          "data": {
            "text/html": [
              "<div>\n",
              "<style scoped>\n",
              "    .dataframe tbody tr th:only-of-type {\n",
              "        vertical-align: middle;\n",
              "    }\n",
              "\n",
              "    .dataframe tbody tr th {\n",
              "        vertical-align: top;\n",
              "    }\n",
              "\n",
              "    .dataframe thead th {\n",
              "        text-align: right;\n",
              "    }\n",
              "</style>\n",
              "<table border=\"1\" class=\"dataframe\">\n",
              "  <thead>\n",
              "    <tr style=\"text-align: right;\">\n",
              "      <th></th>\n",
              "      <th>mean_fit_time</th>\n",
              "      <th>mean_score_time</th>\n",
              "      <th>mean_test_score</th>\n",
              "      <th>mean_train_score</th>\n",
              "      <th>param_criterion</th>\n",
              "      <th>param_max_depth</th>\n",
              "      <th>param_n_estimators</th>\n",
              "      <th>params</th>\n",
              "      <th>rank_test_score</th>\n",
              "      <th>split0_test_score</th>\n",
              "      <th>split0_train_score</th>\n",
              "      <th>split1_test_score</th>\n",
              "      <th>split1_train_score</th>\n",
              "      <th>split2_test_score</th>\n",
              "      <th>split2_train_score</th>\n",
              "      <th>std_fit_time</th>\n",
              "      <th>std_score_time</th>\n",
              "      <th>std_test_score</th>\n",
              "      <th>std_train_score</th>\n",
              "    </tr>\n",
              "  </thead>\n",
              "  <tbody>\n",
              "    <tr>\n",
              "      <th>6</th>\n",
              "      <td>0.734510</td>\n",
              "      <td>0.007366</td>\n",
              "      <td>-594.414481</td>\n",
              "      <td>-492.903429</td>\n",
              "      <td>mae</td>\n",
              "      <td>5</td>\n",
              "      <td>100</td>\n",
              "      <td>{'criterion': 'mae', 'max_depth': 5, 'n_estima...</td>\n",
              "      <td>1</td>\n",
              "      <td>-539.596978</td>\n",
              "      <td>-513.703941</td>\n",
              "      <td>-635.349642</td>\n",
              "      <td>-479.042889</td>\n",
              "      <td>-608.296822</td>\n",
              "      <td>-485.963458</td>\n",
              "      <td>0.012330</td>\n",
              "      <td>0.000218</td>\n",
              "      <td>40.304530</td>\n",
              "      <td>14.977083</td>\n",
              "    </tr>\n",
              "    <tr>\n",
              "      <th>7</th>\n",
              "      <td>1.451984</td>\n",
              "      <td>0.014400</td>\n",
              "      <td>-594.546244</td>\n",
              "      <td>-492.737586</td>\n",
              "      <td>mae</td>\n",
              "      <td>5</td>\n",
              "      <td>200</td>\n",
              "      <td>{'criterion': 'mae', 'max_depth': 5, 'n_estima...</td>\n",
              "      <td>2</td>\n",
              "      <td>-537.482040</td>\n",
              "      <td>-515.965179</td>\n",
              "      <td>-634.436900</td>\n",
              "      <td>-476.181857</td>\n",
              "      <td>-611.719790</td>\n",
              "      <td>-486.065720</td>\n",
              "      <td>0.029647</td>\n",
              "      <td>0.002585</td>\n",
              "      <td>41.402570</td>\n",
              "      <td>16.912786</td>\n",
              "    </tr>\n",
              "    <tr>\n",
              "      <th>5</th>\n",
              "      <td>1.281893</td>\n",
              "      <td>0.011546</td>\n",
              "      <td>-598.642812</td>\n",
              "      <td>-531.928091</td>\n",
              "      <td>mae</td>\n",
              "      <td>4</td>\n",
              "      <td>200</td>\n",
              "      <td>{'criterion': 'mae', 'max_depth': 4, 'n_estima...</td>\n",
              "      <td>3</td>\n",
              "      <td>-548.177757</td>\n",
              "      <td>-556.953185</td>\n",
              "      <td>-637.263497</td>\n",
              "      <td>-515.931433</td>\n",
              "      <td>-610.487181</td>\n",
              "      <td>-522.899653</td>\n",
              "      <td>0.024776</td>\n",
              "      <td>0.000056</td>\n",
              "      <td>37.320987</td>\n",
              "      <td>17.922622</td>\n",
              "    </tr>\n",
              "    <tr>\n",
              "      <th>4</th>\n",
              "      <td>0.644294</td>\n",
              "      <td>0.007024</td>\n",
              "      <td>-599.873614</td>\n",
              "      <td>-532.373149</td>\n",
              "      <td>mae</td>\n",
              "      <td>4</td>\n",
              "      <td>100</td>\n",
              "      <td>{'criterion': 'mae', 'max_depth': 4, 'n_estima...</td>\n",
              "      <td>4</td>\n",
              "      <td>-547.337305</td>\n",
              "      <td>-554.722134</td>\n",
              "      <td>-639.759673</td>\n",
              "      <td>-518.053785</td>\n",
              "      <td>-612.523863</td>\n",
              "      <td>-524.343528</td>\n",
              "      <td>0.009429</td>\n",
              "      <td>0.000127</td>\n",
              "      <td>38.777099</td>\n",
              "      <td>16.010373</td>\n",
              "    </tr>\n",
              "    <tr>\n",
              "      <th>2</th>\n",
              "      <td>0.124097</td>\n",
              "      <td>0.007254</td>\n",
              "      <td>-602.653658</td>\n",
              "      <td>-501.829298</td>\n",
              "      <td>mse</td>\n",
              "      <td>5</td>\n",
              "      <td>100</td>\n",
              "      <td>{'criterion': 'mse', 'max_depth': 5, 'n_estima...</td>\n",
              "      <td>5</td>\n",
              "      <td>-543.556476</td>\n",
              "      <td>-524.757989</td>\n",
              "      <td>-634.550408</td>\n",
              "      <td>-490.283401</td>\n",
              "      <td>-629.854089</td>\n",
              "      <td>-490.446503</td>\n",
              "      <td>0.002397</td>\n",
              "      <td>0.000061</td>\n",
              "      <td>41.831977</td>\n",
              "      <td>16.213170</td>\n",
              "    </tr>\n",
              "    <tr>\n",
              "      <th>3</th>\n",
              "      <td>0.245790</td>\n",
              "      <td>0.012501</td>\n",
              "      <td>-603.194097</td>\n",
              "      <td>-501.930942</td>\n",
              "      <td>mse</td>\n",
              "      <td>5</td>\n",
              "      <td>200</td>\n",
              "      <td>{'criterion': 'mse', 'max_depth': 5, 'n_estima...</td>\n",
              "      <td>6</td>\n",
              "      <td>-544.427384</td>\n",
              "      <td>-526.022480</td>\n",
              "      <td>-637.620394</td>\n",
              "      <td>-489.215084</td>\n",
              "      <td>-627.534512</td>\n",
              "      <td>-490.555262</td>\n",
              "      <td>0.001065</td>\n",
              "      <td>0.000223</td>\n",
              "      <td>41.757843</td>\n",
              "      <td>17.044073</td>\n",
              "    </tr>\n",
              "    <tr>\n",
              "      <th>1</th>\n",
              "      <td>0.220554</td>\n",
              "      <td>0.011640</td>\n",
              "      <td>-605.972121</td>\n",
              "      <td>-545.261114</td>\n",
              "      <td>mse</td>\n",
              "      <td>4</td>\n",
              "      <td>200</td>\n",
              "      <td>{'criterion': 'mse', 'max_depth': 4, 'n_estima...</td>\n",
              "      <td>7</td>\n",
              "      <td>-552.200296</td>\n",
              "      <td>-571.372586</td>\n",
              "      <td>-643.839637</td>\n",
              "      <td>-529.867821</td>\n",
              "      <td>-621.876428</td>\n",
              "      <td>-534.542935</td>\n",
              "      <td>0.000684</td>\n",
              "      <td>0.000076</td>\n",
              "      <td>39.065351</td>\n",
              "      <td>18.561984</td>\n",
              "    </tr>\n",
              "    <tr>\n",
              "      <th>0</th>\n",
              "      <td>0.148204</td>\n",
              "      <td>0.006894</td>\n",
              "      <td>-607.024237</td>\n",
              "      <td>-546.852375</td>\n",
              "      <td>mse</td>\n",
              "      <td>4</td>\n",
              "      <td>100</td>\n",
              "      <td>{'criterion': 'mse', 'max_depth': 4, 'n_estima...</td>\n",
              "      <td>8</td>\n",
              "      <td>-555.243246</td>\n",
              "      <td>-571.905948</td>\n",
              "      <td>-643.070666</td>\n",
              "      <td>-530.693619</td>\n",
              "      <td>-622.758799</td>\n",
              "      <td>-537.957559</td>\n",
              "      <td>0.047594</td>\n",
              "      <td>0.000047</td>\n",
              "      <td>37.541944</td>\n",
              "      <td>17.962040</td>\n",
              "    </tr>\n",
              "  </tbody>\n",
              "</table>\n",
              "</div>"
            ],
            "text/plain": [
              "   mean_fit_time  mean_score_time  mean_test_score  mean_train_score  \\\n",
              "6       0.734510         0.007366      -594.414481       -492.903429   \n",
              "7       1.451984         0.014400      -594.546244       -492.737586   \n",
              "5       1.281893         0.011546      -598.642812       -531.928091   \n",
              "4       0.644294         0.007024      -599.873614       -532.373149   \n",
              "2       0.124097         0.007254      -602.653658       -501.829298   \n",
              "3       0.245790         0.012501      -603.194097       -501.930942   \n",
              "1       0.220554         0.011640      -605.972121       -545.261114   \n",
              "0       0.148204         0.006894      -607.024237       -546.852375   \n",
              "\n",
              "  param_criterion param_max_depth param_n_estimators  \\\n",
              "6             mae               5                100   \n",
              "7             mae               5                200   \n",
              "5             mae               4                200   \n",
              "4             mae               4                100   \n",
              "2             mse               5                100   \n",
              "3             mse               5                200   \n",
              "1             mse               4                200   \n",
              "0             mse               4                100   \n",
              "\n",
              "                                              params  rank_test_score  \\\n",
              "6  {'criterion': 'mae', 'max_depth': 5, 'n_estima...                1   \n",
              "7  {'criterion': 'mae', 'max_depth': 5, 'n_estima...                2   \n",
              "5  {'criterion': 'mae', 'max_depth': 4, 'n_estima...                3   \n",
              "4  {'criterion': 'mae', 'max_depth': 4, 'n_estima...                4   \n",
              "2  {'criterion': 'mse', 'max_depth': 5, 'n_estima...                5   \n",
              "3  {'criterion': 'mse', 'max_depth': 5, 'n_estima...                6   \n",
              "1  {'criterion': 'mse', 'max_depth': 4, 'n_estima...                7   \n",
              "0  {'criterion': 'mse', 'max_depth': 4, 'n_estima...                8   \n",
              "\n",
              "   split0_test_score  split0_train_score  split1_test_score  \\\n",
              "6        -539.596978         -513.703941        -635.349642   \n",
              "7        -537.482040         -515.965179        -634.436900   \n",
              "5        -548.177757         -556.953185        -637.263497   \n",
              "4        -547.337305         -554.722134        -639.759673   \n",
              "2        -543.556476         -524.757989        -634.550408   \n",
              "3        -544.427384         -526.022480        -637.620394   \n",
              "1        -552.200296         -571.372586        -643.839637   \n",
              "0        -555.243246         -571.905948        -643.070666   \n",
              "\n",
              "   split1_train_score  split2_test_score  split2_train_score  std_fit_time  \\\n",
              "6         -479.042889        -608.296822         -485.963458      0.012330   \n",
              "7         -476.181857        -611.719790         -486.065720      0.029647   \n",
              "5         -515.931433        -610.487181         -522.899653      0.024776   \n",
              "4         -518.053785        -612.523863         -524.343528      0.009429   \n",
              "2         -490.283401        -629.854089         -490.446503      0.002397   \n",
              "3         -489.215084        -627.534512         -490.555262      0.001065   \n",
              "1         -529.867821        -621.876428         -534.542935      0.000684   \n",
              "0         -530.693619        -622.758799         -537.957559      0.047594   \n",
              "\n",
              "   std_score_time  std_test_score  std_train_score  \n",
              "6        0.000218       40.304530        14.977083  \n",
              "7        0.002585       41.402570        16.912786  \n",
              "5        0.000056       37.320987        17.922622  \n",
              "4        0.000127       38.777099        16.010373  \n",
              "2        0.000061       41.831977        16.213170  \n",
              "3        0.000223       41.757843        17.044073  \n",
              "1        0.000076       39.065351        18.561984  \n",
              "0        0.000047       37.541944        17.962040  "
            ]
          },
          "metadata": {
            "tags": []
          },
          "execution_count": 90
        }
      ]
    },
    {
      "metadata": {
        "id": "uCtH8VuDGvOj",
        "colab_type": "text"
      },
      "cell_type": "markdown",
      "source": [
        "- not improving our validation score"
      ]
    },
    {
      "metadata": {
        "id": "ZW5HfYtU0GW2",
        "colab_type": "text"
      },
      "cell_type": "markdown",
      "source": [
        "## FEATURE ENGINEERING!"
      ]
    },
    {
      "metadata": {
        "id": "0ms-eoOHFvPG",
        "colab_type": "text"
      },
      "cell_type": "markdown",
      "source": [
        "Jake VanderPlas demonstrates this feature engineering: \n",
        "https://jakevdp.github.io/PythonDataScienceHandbook/05.06-linear-regression.html#Example:-Predicting-Bicycle-Traffic"
      ]
    },
    {
      "metadata": {
        "id": "sEwME8wR3A5g",
        "colab_type": "code",
        "colab": {}
      },
      "cell_type": "code",
      "source": [
        "# Modified from code cells 17-21 at\n",
        "# https://jakevdp.github.io/PythonDataScienceHandbook/05.06-linear-regression.html#Example:-Predicting-Bicycle-Traffic\n",
        "\n",
        "\n",
        "# patterns of use generally vary from day to day; \n",
        "# let's add binary columns that indicate the day of the week:\n",
        "days = ['Mon', 'Tue', 'Wed', 'Thu', 'Fri', 'Sat', 'Sun']\n",
        "for i, day in enumerate(days):\n",
        "    X_train[day] = (X_train.index.dayofweek == i).astype(float)\n",
        "\n",
        "\n",
        "    \n",
        "# we might expect riders to behave differently on holidays; \n",
        "# let's add an indicator of this as well:\n",
        "from pandas.tseries.holiday import USFederalHolidayCalendar\n",
        "cal = USFederalHolidayCalendar()\n",
        "holidays = cal.holidays('2012', '2016')\n",
        "X_train = X_train.join(pd.Series(1, index=holidays, name='holiday'))\n",
        "X_train['holiday'].fillna(0, inplace=True)\n",
        "\n",
        "\n",
        "\n",
        "# We also might suspect that the hours of daylight would affect \n",
        "# how many people ride; let's use the standard astronomical calculation \n",
        "# to add this information:\n",
        "def hours_of_daylight(date, axis=23.44, latitude=47.61):\n",
        "    \"\"\"Compute the hours of daylight for the given date\"\"\"\n",
        "    days = (date - pd.datetime(2000, 12, 21)).days\n",
        "    m = (1. - np.tan(np.radians(latitude))\n",
        "         * np.tan(np.radians(axis) * np.cos(days * 2 * np.pi / 365.25)))\n",
        "    return 24. * np.degrees(np.arccos(1 - np.clip(m, 0, 2))) / 180.\n",
        "\n",
        "X_train['daylight_hrs'] = list(map(hours_of_daylight, X_train.index))\n",
        "\n",
        "\n",
        "\n",
        "# temperatures are in 1/10 deg C; convert to C\n",
        "X_train['TMIN'] /= 10\n",
        "X_train['TMAX'] /= 10\n",
        "\n",
        "# We can also calcuate the average temperature.\n",
        "X_train['Temp (C)'] = 0.5 * (X_train['TMIN'] + X_train['TMAX'])\n",
        "\n",
        "\n",
        "\n",
        "# precip is in 1/10 mm; convert to inches\n",
        "X_train['PRCP'] /= 254\n",
        "\n",
        "# In addition to the inches of precipitation, let's add a flag that \n",
        "# indicates whether a day is dry (has zero precipitation):\n",
        "X_train['dry day'] = (X_train['PRCP'] == 0).astype(int)\n",
        "\n",
        "\n",
        "\n",
        "# Let's add a counter that increases from day 1, and measures how many \n",
        "# years have passed. This will let us measure any observed annual increase \n",
        "# or decrease in daily crossings:\n",
        "X_train['annual'] = (X_train.index - X_train.index[0]).days / 365."
      ],
      "execution_count": 0,
      "outputs": []
    },
    {
      "metadata": {
        "id": "dDGkAv813Wtj",
        "colab_type": "text"
      },
      "cell_type": "markdown",
      "source": [
        "### Linear Regression (with new features)"
      ]
    },
    {
      "metadata": {
        "id": "cj3HTM6p5F1A",
        "colab_type": "code",
        "outputId": "504f77fd-aa9a-41a9-b0b7-46edbe4d3628",
        "colab": {
          "base_uri": "https://localhost:8080/",
          "height": 142
        }
      },
      "cell_type": "code",
      "source": [
        "scores = cross_validate(LinearRegression(), X_train, y_train, \n",
        "                       scoring='neg_mean_absolute_error', cv=3, \n",
        "                       return_train_score=True, return_estimator=True)\n",
        "\n",
        "scores = pd.DataFrame(scores)\n",
        "scores.head()"
      ],
      "execution_count": 92,
      "outputs": [
        {
          "output_type": "execute_result",
          "data": {
            "text/html": [
              "<div>\n",
              "<style scoped>\n",
              "    .dataframe tbody tr th:only-of-type {\n",
              "        vertical-align: middle;\n",
              "    }\n",
              "\n",
              "    .dataframe tbody tr th {\n",
              "        vertical-align: top;\n",
              "    }\n",
              "\n",
              "    .dataframe thead th {\n",
              "        text-align: right;\n",
              "    }\n",
              "</style>\n",
              "<table border=\"1\" class=\"dataframe\">\n",
              "  <thead>\n",
              "    <tr style=\"text-align: right;\">\n",
              "      <th></th>\n",
              "      <th>estimator</th>\n",
              "      <th>fit_time</th>\n",
              "      <th>score_time</th>\n",
              "      <th>test_score</th>\n",
              "      <th>train_score</th>\n",
              "    </tr>\n",
              "  </thead>\n",
              "  <tbody>\n",
              "    <tr>\n",
              "      <th>0</th>\n",
              "      <td>LinearRegression(copy_X=True, fit_intercept=Tr...</td>\n",
              "      <td>0.009665</td>\n",
              "      <td>0.002853</td>\n",
              "      <td>-297.692524</td>\n",
              "      <td>-294.532315</td>\n",
              "    </tr>\n",
              "    <tr>\n",
              "      <th>1</th>\n",
              "      <td>LinearRegression(copy_X=True, fit_intercept=Tr...</td>\n",
              "      <td>0.006830</td>\n",
              "      <td>0.001810</td>\n",
              "      <td>-300.419037</td>\n",
              "      <td>-283.779461</td>\n",
              "    </tr>\n",
              "    <tr>\n",
              "      <th>2</th>\n",
              "      <td>LinearRegression(copy_X=True, fit_intercept=Tr...</td>\n",
              "      <td>0.006778</td>\n",
              "      <td>0.001784</td>\n",
              "      <td>-322.640378</td>\n",
              "      <td>-283.509114</td>\n",
              "    </tr>\n",
              "  </tbody>\n",
              "</table>\n",
              "</div>"
            ],
            "text/plain": [
              "                                           estimator  fit_time  score_time  \\\n",
              "0  LinearRegression(copy_X=True, fit_intercept=Tr...  0.009665    0.002853   \n",
              "1  LinearRegression(copy_X=True, fit_intercept=Tr...  0.006830    0.001810   \n",
              "2  LinearRegression(copy_X=True, fit_intercept=Tr...  0.006778    0.001784   \n",
              "\n",
              "   test_score  train_score  \n",
              "0 -297.692524  -294.532315  \n",
              "1 -300.419037  -283.779461  \n",
              "2 -322.640378  -283.509114  "
            ]
          },
          "metadata": {
            "tags": []
          },
          "execution_count": 92
        }
      ]
    },
    {
      "metadata": {
        "id": "Guxao-tbIbiq",
        "colab_type": "text"
      },
      "cell_type": "markdown",
      "source": [
        "- significant decrease in test score"
      ]
    },
    {
      "metadata": {
        "id": "84Ntlisa0tKM",
        "colab_type": "code",
        "colab": {
          "base_uri": "https://localhost:8080/",
          "height": 34
        },
        "outputId": "354d3dd6-c4e8-4e9f-8e4a-a960ad6dd832"
      },
      "cell_type": "code",
      "source": [
        "scores.test_score.mean()"
      ],
      "execution_count": 93,
      "outputs": [
        {
          "output_type": "execute_result",
          "data": {
            "text/plain": [
              "-306.9173130794428"
            ]
          },
          "metadata": {
            "tags": []
          },
          "execution_count": 93
        }
      ]
    },
    {
      "metadata": {
        "id": "b6zxN2xB3bX_",
        "colab_type": "text"
      },
      "cell_type": "markdown",
      "source": [
        "### Random Forest (with new features)"
      ]
    },
    {
      "metadata": {
        "id": "3sWUDZIz1-kk",
        "colab_type": "code",
        "colab": {
          "base_uri": "https://localhost:8080/",
          "height": 561
        },
        "outputId": "97f063a7-e915-4d50-d2a6-4ea7b3fc32c3"
      },
      "cell_type": "code",
      "source": [
        "%%time\n",
        "\n",
        "param_grid = {\n",
        "    'n_estimators': [100], \n",
        "    'max_depth': [5, 10, 15], \n",
        "    'criterion': ['mae']\n",
        "}\n",
        "\n",
        "gridsearch = GridSearchCV(RandomForestRegressor(), param_grid=param_grid, \n",
        "                          scoring='neg_mean_absolute_error', cv=3, \n",
        "                          return_train_score=True, verbose=10)\n",
        "\n",
        "gridsearch.fit(X_train, y_train)"
      ],
      "execution_count": 94,
      "outputs": [
        {
          "output_type": "stream",
          "text": [
            "Fitting 3 folds for each of 3 candidates, totalling 9 fits\n",
            "[CV] criterion=mae, max_depth=5, n_estimators=100 ....................\n"
          ],
          "name": "stdout"
        },
        {
          "output_type": "stream",
          "text": [
            "[Parallel(n_jobs=1)]: Using backend SequentialBackend with 1 concurrent workers.\n"
          ],
          "name": "stderr"
        },
        {
          "output_type": "stream",
          "text": [
            "[CV]  criterion=mae, max_depth=5, n_estimators=100, score=-353.98705607476643, total=   1.6s\n",
            "[CV] criterion=mae, max_depth=5, n_estimators=100 ....................\n"
          ],
          "name": "stdout"
        },
        {
          "output_type": "stream",
          "text": [
            "[Parallel(n_jobs=1)]: Done   1 out of   1 | elapsed:    1.6s remaining:    0.0s\n"
          ],
          "name": "stderr"
        },
        {
          "output_type": "stream",
          "text": [
            "[CV]  criterion=mae, max_depth=5, n_estimators=100, score=-378.9892990654206, total=   1.5s\n",
            "[CV] criterion=mae, max_depth=5, n_estimators=100 ....................\n"
          ],
          "name": "stdout"
        },
        {
          "output_type": "stream",
          "text": [
            "[Parallel(n_jobs=1)]: Done   2 out of   2 | elapsed:    3.2s remaining:    0.0s\n"
          ],
          "name": "stderr"
        },
        {
          "output_type": "stream",
          "text": [
            "[CV]  criterion=mae, max_depth=5, n_estimators=100, score=-335.33647975077884, total=   1.6s\n",
            "[CV] criterion=mae, max_depth=10, n_estimators=100 ...................\n"
          ],
          "name": "stdout"
        },
        {
          "output_type": "stream",
          "text": [
            "[Parallel(n_jobs=1)]: Done   3 out of   3 | elapsed:    4.8s remaining:    0.0s\n"
          ],
          "name": "stderr"
        },
        {
          "output_type": "stream",
          "text": [
            "[CV]  criterion=mae, max_depth=10, n_estimators=100, score=-341.9331308411215, total=   2.2s\n",
            "[CV] criterion=mae, max_depth=10, n_estimators=100 ...................\n"
          ],
          "name": "stdout"
        },
        {
          "output_type": "stream",
          "text": [
            "[Parallel(n_jobs=1)]: Done   4 out of   4 | elapsed:    7.0s remaining:    0.0s\n"
          ],
          "name": "stderr"
        },
        {
          "output_type": "stream",
          "text": [
            "[CV]  criterion=mae, max_depth=10, n_estimators=100, score=-324.6318691588785, total=   2.1s\n",
            "[CV] criterion=mae, max_depth=10, n_estimators=100 ...................\n"
          ],
          "name": "stdout"
        },
        {
          "output_type": "stream",
          "text": [
            "[Parallel(n_jobs=1)]: Done   5 out of   5 | elapsed:    9.2s remaining:    0.0s\n"
          ],
          "name": "stderr"
        },
        {
          "output_type": "stream",
          "text": [
            "[CV]  criterion=mae, max_depth=10, n_estimators=100, score=-303.80278816199376, total=   2.2s\n",
            "[CV] criterion=mae, max_depth=15, n_estimators=100 ...................\n"
          ],
          "name": "stdout"
        },
        {
          "output_type": "stream",
          "text": [
            "[Parallel(n_jobs=1)]: Done   6 out of   6 | elapsed:   11.3s remaining:    0.0s\n"
          ],
          "name": "stderr"
        },
        {
          "output_type": "stream",
          "text": [
            "[CV]  criterion=mae, max_depth=15, n_estimators=100, score=-353.8966510903427, total=   2.4s\n",
            "[CV] criterion=mae, max_depth=15, n_estimators=100 ...................\n"
          ],
          "name": "stdout"
        },
        {
          "output_type": "stream",
          "text": [
            "[Parallel(n_jobs=1)]: Done   7 out of   7 | elapsed:   13.8s remaining:    0.0s\n"
          ],
          "name": "stderr"
        },
        {
          "output_type": "stream",
          "text": [
            "[CV]  criterion=mae, max_depth=15, n_estimators=100, score=-324.3727725856698, total=   2.3s\n",
            "[CV] criterion=mae, max_depth=15, n_estimators=100 ...................\n"
          ],
          "name": "stdout"
        },
        {
          "output_type": "stream",
          "text": [
            "[Parallel(n_jobs=1)]: Done   8 out of   8 | elapsed:   16.1s remaining:    0.0s\n"
          ],
          "name": "stderr"
        },
        {
          "output_type": "stream",
          "text": [
            "[CV]  criterion=mae, max_depth=15, n_estimators=100, score=-309.1139563862928, total=   2.4s\n"
          ],
          "name": "stdout"
        },
        {
          "output_type": "stream",
          "text": [
            "[Parallel(n_jobs=1)]: Done   9 out of   9 | elapsed:   18.6s remaining:    0.0s\n",
            "[Parallel(n_jobs=1)]: Done   9 out of   9 | elapsed:   18.6s finished\n"
          ],
          "name": "stderr"
        },
        {
          "output_type": "stream",
          "text": [
            "CPU times: user 22.3 s, sys: 53.8 ms, total: 22.4 s\n",
            "Wall time: 22.4 s\n"
          ],
          "name": "stdout"
        }
      ]
    },
    {
      "metadata": {
        "id": "x6V99HoI2Izq",
        "colab_type": "code",
        "colab": {
          "base_uri": "https://localhost:8080/",
          "height": 383
        },
        "outputId": "a10dfce6-a560-4217-ff82-99e3fe4dc743"
      },
      "cell_type": "code",
      "source": [
        "results = pd.DataFrame(gridsearch.cv_results_)\n",
        "print(f'Best result from grid search of {len(results)} parameter combinations')\n",
        "results.sort_values(by='rank_test_score').head(3)"
      ],
      "execution_count": 95,
      "outputs": [
        {
          "output_type": "stream",
          "text": [
            "Best result from grid search of 3 parameter combinations\n"
          ],
          "name": "stdout"
        },
        {
          "output_type": "execute_result",
          "data": {
            "text/html": [
              "<div>\n",
              "<style scoped>\n",
              "    .dataframe tbody tr th:only-of-type {\n",
              "        vertical-align: middle;\n",
              "    }\n",
              "\n",
              "    .dataframe tbody tr th {\n",
              "        vertical-align: top;\n",
              "    }\n",
              "\n",
              "    .dataframe thead th {\n",
              "        text-align: right;\n",
              "    }\n",
              "</style>\n",
              "<table border=\"1\" class=\"dataframe\">\n",
              "  <thead>\n",
              "    <tr style=\"text-align: right;\">\n",
              "      <th></th>\n",
              "      <th>mean_fit_time</th>\n",
              "      <th>mean_score_time</th>\n",
              "      <th>mean_test_score</th>\n",
              "      <th>mean_train_score</th>\n",
              "      <th>param_criterion</th>\n",
              "      <th>param_max_depth</th>\n",
              "      <th>param_n_estimators</th>\n",
              "      <th>params</th>\n",
              "      <th>rank_test_score</th>\n",
              "      <th>split0_test_score</th>\n",
              "      <th>split0_train_score</th>\n",
              "      <th>split1_test_score</th>\n",
              "      <th>split1_train_score</th>\n",
              "      <th>split2_test_score</th>\n",
              "      <th>split2_train_score</th>\n",
              "      <th>std_fit_time</th>\n",
              "      <th>std_score_time</th>\n",
              "      <th>std_test_score</th>\n",
              "      <th>std_train_score</th>\n",
              "    </tr>\n",
              "  </thead>\n",
              "  <tbody>\n",
              "    <tr>\n",
              "      <th>1</th>\n",
              "      <td>2.167206</td>\n",
              "      <td>0.009255</td>\n",
              "      <td>-323.455929</td>\n",
              "      <td>-138.267409</td>\n",
              "      <td>mae</td>\n",
              "      <td>10</td>\n",
              "      <td>100</td>\n",
              "      <td>{'criterion': 'mae', 'max_depth': 10, 'n_estim...</td>\n",
              "      <td>1</td>\n",
              "      <td>-341.933131</td>\n",
              "      <td>-141.369533</td>\n",
              "      <td>-324.631869</td>\n",
              "      <td>-129.212913</td>\n",
              "      <td>-303.802788</td>\n",
              "      <td>-144.219782</td>\n",
              "      <td>0.044299</td>\n",
              "      <td>0.000127</td>\n",
              "      <td>15.588840</td>\n",
              "      <td>6.507376</td>\n",
              "    </tr>\n",
              "    <tr>\n",
              "      <th>2</th>\n",
              "      <td>2.377400</td>\n",
              "      <td>0.009991</td>\n",
              "      <td>-329.127793</td>\n",
              "      <td>-109.954424</td>\n",
              "      <td>mae</td>\n",
              "      <td>15</td>\n",
              "      <td>100</td>\n",
              "      <td>{'criterion': 'mae', 'max_depth': 15, 'n_estim...</td>\n",
              "      <td>2</td>\n",
              "      <td>-353.896651</td>\n",
              "      <td>-110.949564</td>\n",
              "      <td>-324.372773</td>\n",
              "      <td>-103.376059</td>\n",
              "      <td>-309.113956</td>\n",
              "      <td>-115.537648</td>\n",
              "      <td>0.056384</td>\n",
              "      <td>0.000219</td>\n",
              "      <td>18.589067</td>\n",
              "      <td>5.014565</td>\n",
              "    </tr>\n",
              "    <tr>\n",
              "      <th>0</th>\n",
              "      <td>1.576202</td>\n",
              "      <td>0.007216</td>\n",
              "      <td>-356.104278</td>\n",
              "      <td>-286.177497</td>\n",
              "      <td>mae</td>\n",
              "      <td>5</td>\n",
              "      <td>100</td>\n",
              "      <td>{'criterion': 'mae', 'max_depth': 5, 'n_estima...</td>\n",
              "      <td>3</td>\n",
              "      <td>-353.987056</td>\n",
              "      <td>-300.633699</td>\n",
              "      <td>-378.989299</td>\n",
              "      <td>-262.829688</td>\n",
              "      <td>-335.336480</td>\n",
              "      <td>-295.069104</td>\n",
              "      <td>0.042343</td>\n",
              "      <td>0.000028</td>\n",
              "      <td>17.883962</td>\n",
              "      <td>16.664960</td>\n",
              "    </tr>\n",
              "  </tbody>\n",
              "</table>\n",
              "</div>"
            ],
            "text/plain": [
              "   mean_fit_time  mean_score_time  mean_test_score  mean_train_score  \\\n",
              "1       2.167206         0.009255      -323.455929       -138.267409   \n",
              "2       2.377400         0.009991      -329.127793       -109.954424   \n",
              "0       1.576202         0.007216      -356.104278       -286.177497   \n",
              "\n",
              "  param_criterion param_max_depth param_n_estimators  \\\n",
              "1             mae              10                100   \n",
              "2             mae              15                100   \n",
              "0             mae               5                100   \n",
              "\n",
              "                                              params  rank_test_score  \\\n",
              "1  {'criterion': 'mae', 'max_depth': 10, 'n_estim...                1   \n",
              "2  {'criterion': 'mae', 'max_depth': 15, 'n_estim...                2   \n",
              "0  {'criterion': 'mae', 'max_depth': 5, 'n_estima...                3   \n",
              "\n",
              "   split0_test_score  split0_train_score  split1_test_score  \\\n",
              "1        -341.933131         -141.369533        -324.631869   \n",
              "2        -353.896651         -110.949564        -324.372773   \n",
              "0        -353.987056         -300.633699        -378.989299   \n",
              "\n",
              "   split1_train_score  split2_test_score  split2_train_score  std_fit_time  \\\n",
              "1         -129.212913        -303.802788         -144.219782      0.044299   \n",
              "2         -103.376059        -309.113956         -115.537648      0.056384   \n",
              "0         -262.829688        -335.336480         -295.069104      0.042343   \n",
              "\n",
              "   std_score_time  std_test_score  std_train_score  \n",
              "1        0.000127       15.588840         6.507376  \n",
              "2        0.000219       18.589067         5.014565  \n",
              "0        0.000028       17.883962        16.664960  "
            ]
          },
          "metadata": {
            "tags": []
          },
          "execution_count": 95
        }
      ]
    },
    {
      "metadata": {
        "id": "usgj0wr12eTf",
        "colab_type": "text"
      },
      "cell_type": "markdown",
      "source": [
        "- significant improvement in validation score, so far LinReg is best"
      ]
    },
    {
      "metadata": {
        "id": "0QEBUVR13kcb",
        "colab_type": "text"
      },
      "cell_type": "markdown",
      "source": [
        "### Ridge Regression (with new features)\n",
        "\n",
        "https://scikit-learn.org/stable/modules/generated/sklearn.linear_model.Ridge.html"
      ]
    },
    {
      "metadata": {
        "id": "4voLbIxU8r6r",
        "colab_type": "code",
        "outputId": "a5d0b15b-6567-425e-ee46-3bc58c3b65d4",
        "colab": {
          "base_uri": "https://localhost:8080/",
          "height": 136
        }
      },
      "cell_type": "code",
      "source": [
        "from sklearn.linear_model import Ridge\n",
        "\n",
        "param_grid = {\n",
        "    'alpha': [0.1, 1.0, 10.]\n",
        "}\n",
        "\n",
        "gridsearch = GridSearchCV(Ridge(), param_grid=param_grid, \n",
        "                         scoring='neg_mean_absolute_error', cv=3, \n",
        "                         return_train_score=True)\n",
        "\n",
        "gridsearch.fit(X_train, y_train)"
      ],
      "execution_count": 96,
      "outputs": [
        {
          "output_type": "execute_result",
          "data": {
            "text/plain": [
              "GridSearchCV(cv=3, error_score='raise-deprecating',\n",
              "       estimator=Ridge(alpha=1.0, copy_X=True, fit_intercept=True, max_iter=None,\n",
              "   normalize=False, random_state=None, solver='auto', tol=0.001),\n",
              "       fit_params=None, iid='warn', n_jobs=None,\n",
              "       param_grid={'alpha': [0.1, 1.0, 10.0]}, pre_dispatch='2*n_jobs',\n",
              "       refit=True, return_train_score=True,\n",
              "       scoring='neg_mean_absolute_error', verbose=0)"
            ]
          },
          "metadata": {
            "tags": []
          },
          "execution_count": 96
        }
      ]
    },
    {
      "metadata": {
        "id": "XHYo_wrSJbE-",
        "colab_type": "code",
        "colab": {
          "base_uri": "https://localhost:8080/",
          "height": 34
        },
        "outputId": "c6e2478d-1c52-4bc6-b4c2-448a3c1fc3cc"
      },
      "cell_type": "code",
      "source": [
        "# show best results via alpha testing\n",
        "\n",
        "gridsearch.best_params_"
      ],
      "execution_count": 97,
      "outputs": [
        {
          "output_type": "execute_result",
          "data": {
            "text/plain": [
              "{'alpha': 1.0}"
            ]
          },
          "metadata": {
            "tags": []
          },
          "execution_count": 97
        }
      ]
    },
    {
      "metadata": {
        "id": "lHTMKgeXJI_p",
        "colab_type": "code",
        "outputId": "4764dee7-c98c-4479-c5a5-23a3626b41fa",
        "colab": {
          "base_uri": "https://localhost:8080/",
          "height": 34
        }
      },
      "cell_type": "code",
      "source": [
        "model = gridsearch.best_estimator_\n",
        "\n",
        "type(model)"
      ],
      "execution_count": 98,
      "outputs": [
        {
          "output_type": "execute_result",
          "data": {
            "text/plain": [
              "sklearn.linear_model.ridge.Ridge"
            ]
          },
          "metadata": {
            "tags": []
          },
          "execution_count": 98
        }
      ]
    },
    {
      "metadata": {
        "id": "VnbCLrIsJimQ",
        "colab_type": "code",
        "outputId": "bf0b5fa8-da2d-4187-beaa-116af0dbf12e",
        "colab": {
          "base_uri": "https://localhost:8080/",
          "height": 442
        }
      },
      "cell_type": "code",
      "source": [
        "coefficients = model.coef_\n",
        "intercept = model.intercept_\n",
        "feature_names = X_train.columns\n",
        "\n",
        "print('Best model from grid search cross validation\\n')\n",
        "print(f'Best parameters:', gridsearch.best_params_,'\\n')\n",
        "print('Intercept:', intercept,'\\n')\n",
        "print(pd.Series(coefficients, feature_names).to_string())"
      ],
      "execution_count": 99,
      "outputs": [
        {
          "output_type": "stream",
          "text": [
            "Best model from grid search cross validation\n",
            "\n",
            "Best parameters: {'alpha': 1.0} \n",
            "\n",
            "Intercept: 33.741779570641484 \n",
            "\n",
            "PRCP               -553.070741\n",
            "SNOW                 -0.002829\n",
            "SNWD                 -1.877519\n",
            "TMAX                 63.833062\n",
            "TMIN                -37.450291\n",
            "AWND                 -1.900084\n",
            "Total_yesterday       0.296029\n",
            "Mon                 779.221395\n",
            "Tue                 432.700039\n",
            "Wed                 368.367626\n",
            "Thu                 274.054021\n",
            "Fri                  47.251356\n",
            "Sat               -1099.692199\n",
            "Sun                -801.902237\n",
            "holiday            -939.301546\n",
            "daylight_hrs         70.256463\n",
            "Temp (C)             13.191386\n",
            "dry day             298.475434\n",
            "annual               44.518889\n"
          ],
          "name": "stdout"
        }
      ]
    },
    {
      "metadata": {
        "id": "dofdwyTf3pm0",
        "colab_type": "text"
      },
      "cell_type": "markdown",
      "source": [
        "### Compare to statsmodels"
      ]
    },
    {
      "metadata": {
        "id": "i-Qt4mDk_yBY",
        "colab_type": "code",
        "colab": {
          "base_uri": "https://localhost:8080/",
          "height": 374
        },
        "outputId": "40a17d5d-2133-48c5-c5a0-b71fb3491679"
      },
      "cell_type": "code",
      "source": [
        "# LASSO = regularize\n",
        "# The only difference from Ridge regression is that the \n",
        "# regularization term is in absolute value. ... Lasso method overcomes the \n",
        "# disadvantage of Ridge regression by not only punishing high values of the \n",
        "# coefficients β but actually setting them to zero if they are not relevant\n",
        "\n",
        "import statsmodels.api as sm\n",
        "model = sm.OLS(y_train, sm.add_constant(X_train))\n",
        "model.fit_regularized(alpha=1).params"
      ],
      "execution_count": 100,
      "outputs": [
        {
          "output_type": "execute_result",
          "data": {
            "text/plain": [
              "const              1435.965518\n",
              "PRCP               -560.385699\n",
              "SNOW                 -0.007529\n",
              "SNWD                 -1.466918\n",
              "TMAX                 73.833291\n",
              "TMIN                -28.821051\n",
              "AWND                 -2.111771\n",
              "Total_yesterday       0.300158\n",
              "Mon                -388.407337\n",
              "Tue                -744.230946\n",
              "Wed                -806.982905\n",
              "Thu                -901.266937\n",
              "Fri               -1130.474786\n",
              "Sat               -2285.193056\n",
              "Sun               -1980.093217\n",
              "holiday            -966.503629\n",
              "daylight_hrs         43.768697\n",
              "Temp (C)              1.627886\n",
              "dry day             302.897982\n",
              "annual               38.803984\n",
              "dtype: float64"
            ]
          },
          "metadata": {
            "tags": []
          },
          "execution_count": 100
        }
      ]
    },
    {
      "metadata": {
        "id": "L97Gm_5p50-v",
        "colab_type": "code",
        "colab": {
          "base_uri": "https://localhost:8080/",
          "height": 782
        },
        "outputId": "c5fd52ba-2e8a-44b5-ad5f-856640ddebab"
      },
      "cell_type": "code",
      "source": [
        "# unregularized\n",
        "\n",
        "print(model.fit(alpha=1).summary())"
      ],
      "execution_count": 105,
      "outputs": [
        {
          "output_type": "stream",
          "text": [
            "                            OLS Regression Results                            \n",
            "==============================================================================\n",
            "Dep. Variable:                  Total   R-squared:                       0.902\n",
            "Model:                            OLS   Adj. R-squared:                  0.901\n",
            "Method:                 Least Squares   F-statistic:                     513.8\n",
            "Date:                Wed, 30 Jan 2019   Prob (F-statistic):               0.00\n",
            "Time:                        22:37:07   Log-Likelihood:                -7092.6\n",
            "No. Observations:                 963   AIC:                         1.422e+04\n",
            "Df Residuals:                     945   BIC:                         1.431e+04\n",
            "Df Model:                          17                                         \n",
            "Covariance Type:            nonrobust                                         \n",
            "===================================================================================\n",
            "                      coef    std err          t      P>|t|      [0.025      0.975]\n",
            "-----------------------------------------------------------------------------------\n",
            "const              33.0481     66.293      0.499      0.618     -97.051     163.147\n",
            "PRCP             -562.6226     56.568     -9.946      0.000    -673.636    -451.609\n",
            "SNOW               -0.0025      0.020     -0.129      0.897      -0.041       0.036\n",
            "SNWD               -1.8308      4.642     -0.394      0.693     -10.941       7.279\n",
            "TMAX               63.6645      4.785     13.306      0.000      54.275      73.054\n",
            "TMIN              -37.1413      5.413     -6.862      0.000     -47.763     -26.519\n",
            "AWND               -1.8502      0.910     -2.033      0.042      -3.637      -0.064\n",
            "Total_yesterday     0.2934      0.022     13.630      0.000       0.251       0.336\n",
            "Mon               790.2012     41.051     19.249      0.000     709.640     870.763\n",
            "Tue               441.4649     32.982     13.385      0.000     376.739     506.191\n",
            "Wed               376.8835     33.935     11.106      0.000     310.287     443.480\n",
            "Thu               282.8744     33.665      8.403      0.000     216.808     348.941\n",
            "Fri                52.4558     32.802      1.599      0.110     -11.918     116.829\n",
            "Sat             -1103.8595     32.242    -34.237      0.000   -1167.133   -1040.586\n",
            "Sun              -806.9722     40.114    -20.117      0.000    -885.695    -728.250\n",
            "holiday          -983.4044     78.191    -12.577      0.000   -1136.853    -829.955\n",
            "daylight_hrs       70.3750      8.400      8.378      0.000      53.890      86.860\n",
            "Temp (C)           13.2616      1.252     10.591      0.000      10.804      15.719\n",
            "dry day           301.0276     33.915      8.876      0.000     234.471     367.584\n",
            "annual             44.6618     16.620      2.687      0.007      12.045      77.279\n",
            "==============================================================================\n",
            "Omnibus:                       35.650   Durbin-Watson:                   1.665\n",
            "Prob(Omnibus):                  0.000   Jarque-Bera (JB):               78.276\n",
            "Skew:                           0.188   Prob(JB):                     1.01e-17\n",
            "Kurtosis:                       4.345   Cond. No.                     2.64e+19\n",
            "==============================================================================\n",
            "\n",
            "Warnings:\n",
            "[1] Standard Errors assume that the covariance matrix of the errors is correctly specified.\n",
            "[2] The smallest eigenvalue is 1.09e-29. This might indicate that there are\n",
            "strong multicollinearity problems or that the design matrix is singular.\n"
          ],
          "name": "stdout"
        }
      ]
    },
    {
      "metadata": {
        "id": "edpJ87A8A8sd",
        "colab_type": "text"
      },
      "cell_type": "markdown",
      "source": [
        "\n",
        "### Feature engineering, explained by Francois Chollet\n",
        "\n",
        "> _Feature engineering_ is the process of using your own knowledge about the data and about the machine learning algorithm at hand to make the algorithm work better by applying hardcoded (nonlearned) transformations to the data before it goes into the model. In many cases, it isn’t reasonable to expect a machine-learning model to be able to learn from completely arbitrary data. The data needs to be presented to the model in a way that will make the model’s job easier.\n",
        "\n",
        "> Let’s look at an intuitive example. Suppose you’re trying to develop a model that can take as input an image of a clock and can output the time of day.\n",
        "\n",
        "> If you choose to use the raw pixels of the image as input data, then you have a difficult machine-learning problem on your hands. You’ll need a convolutional neural network to solve it, and you’ll have to expend quite a bit of computational resources to train the network.\n",
        "\n",
        "> But if you already understand the problem at a high level (you understand how humans read time on a clock face), then you can come up with much better input features for a machine-learning algorithm: for instance, write a Python script to follow the black pixels of the clock hands and output the (x, y) coordinates of the tip of each hand. Then a simple machine-learning algorithm can learn to associate these coordinates with the appropriate time of day.\n",
        "\n",
        "> You can go even further: do a coordinate change, and express the (x, y) coordinates as polar coordinates with regard to the center of the image. Your input will become the angle theta of each clock hand. At this point, your features are making the problem so easy that no machine learning is required; a simple rounding operation and dictionary lookup are enough to recover the approximate time of day.\n",
        "\n",
        "> That’s the essence of feature engineering: making a problem easier by expressing it in a simpler way. It usually requires understanding the problem in depth.\n",
        "\n",
        "> Before convolutional neural networks became successful on the MNIST digit-classification problem, solutions were typically based on hardcoded features such as the number of loops in a digit image, the height of each digit in an image, a histogram of pixel values, and so on.\n",
        "\n",
        "> Neural networks are capable of automatically extracting useful features from raw data. Does this mean you don’t have to worry about feature engineering as long as you’re using deep neural networks? No, for two reasons:\n",
        "\n",
        "> - Good features still allow you to solve problems more elegantly while using fewer resources. For instance, it would be ridiculous to solve the problem of reading a clock face using a convolutional neural network.\n",
        "> - Good features let you solve a problem with far less data. The ability of deep-learning models to learn features on their own relies on having lots of training data available; if you have only a few samples, then the information value in their features becomes critical.\n"
      ]
    },
    {
      "metadata": {
        "id": "oux-dd-5FD6p",
        "colab_type": "text"
      },
      "cell_type": "markdown",
      "source": [
        "# ASSIGNMENT\n",
        "\n",
        "### Core assignment\n",
        "\n",
        "Complete the notebook cells that were originally commented **`TODO`**. \n",
        "\n",
        "Then, focus on feature engineering to improve your cross validation scores. Collaborate with your cohort on Slack. You could start with the ideas [Jake VanderPlas suggests:](https://jakevdp.github.io/PythonDataScienceHandbook/05.06-linear-regression.html#Example:-Predicting-Bicycle-Traffic)\n",
        "\n",
        "> Our model is almost certainly missing some relevant information. For example, nonlinear effects (such as effects of precipitation and cold temperature) and nonlinear trends within each variable (such as disinclination to ride at very cold and very hot temperatures) cannot be accounted for in this model. Additionally, we have thrown away some of the finer-grained information (such as the difference between a rainy morning and a rainy afternoon), and we have ignored correlations between days (such as the possible effect of a rainy Tuesday on Wednesday's numbers, or the effect of an unexpected sunny day after a streak of rainy days). These are all potentially interesting effects, and you now have the tools to begin exploring them if you wish!\n",
        "\n",
        "At the end of the day, take the last step in the \"universal workflow of machine learning\" — \"You can train your final production model on all the available data (training and validation) and evaluate it one last time on the test set.\"\n",
        "\n",
        "See the [`GridSearchCV`](https://scikit-learn.org/stable/modules/generated/sklearn.model_selection.GridSearchCV.html) documentation for the `refit` parameter, `best_estimator_` attribute, and `predict` method:\n",
        "\n",
        "> **refit : boolean, or string, default=True**\n",
        "\n",
        "> Refit an estimator using the best found parameters on the whole dataset.\n",
        "\n",
        "> The refitted estimator is made available at the `best_estimator_` attribute and permits using `predict` directly on this `GridSearchCV` instance.\n",
        "\n",
        "### More options\n",
        "\n",
        "**A.** Apply this lesson to other datasets.\n",
        "\n",
        "**B.** We predicted the number of bicycle trips based on that day's weather. But imagine you were asked to predict trips at the beginning of each day, based only on data known at the time of prediction or before — so you cannot use the current day's weather. How would you wrangle the features to handle this new requirement? How does this impact the predictive accuracy and coefficients of your models?\n",
        "\n",
        "**C.** In additon to `GridSearchCV`, scikit-learn has [`RandomizedSearchCV`](https://scikit-learn.org/stable/modules/generated/sklearn.model_selection.RandomizedSearchCV.html), which is sometimes even better. Another library called scikit-optimize has [`BayesSearchCV`](https://scikit-optimize.github.io/notebooks/sklearn-gridsearchcv-replacement.html). Experiment with these alternatives.\n",
        "\n",
        "**D.** _[Introduction to Machine Learning with Python](http://shop.oreilly.com/product/0636920030515.do)_ discusses options for \"Grid-Searching Which Model To Use\" in Chapter 6:\n",
        "\n",
        "> You can even go further in combining GridSearchCV and Pipeline: it is also possible to search over the actual steps being performed in the pipeline (say whether to use StandardScaler or MinMaxScaler). This leads to an even bigger search space and should be considered carefully. Trying all possible solutions is usually not a viable machine learning strategy. However, here is an example comparing a RandomForestClassifier and an SVC ...\n",
        "\n",
        "The example is shown in [the accompanying notebook](https://github.com/amueller/introduction_to_ml_with_python/blob/master/06-algorithm-chains-and-pipelines.ipynb), code cells 35-37. Could you apply this concept to your own pipelines?\n",
        "\n",
        "\n"
      ]
    }
  ]
}