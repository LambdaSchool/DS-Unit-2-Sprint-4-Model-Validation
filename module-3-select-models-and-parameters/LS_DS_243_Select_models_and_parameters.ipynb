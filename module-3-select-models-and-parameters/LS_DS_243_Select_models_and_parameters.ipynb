{
 "cells": [
  {
   "cell_type": "markdown",
   "metadata": {
    "colab_type": "text",
    "id": "O67uhlT4MExK"
   },
   "source": [
    "_Lambda School Data Science — Model Validation_\n",
    "\n",
    "# Select models and parameters\n",
    "\n",
    "Objectives\n",
    "- Hyperparameter optimization\n",
    "- Model selection"
   ]
  },
  {
   "cell_type": "markdown",
   "metadata": {
    "colab_type": "text",
    "id": "VE4rfZd4NUGA"
   },
   "source": [
    "Today we'll use this process:\n",
    "\n",
    "## \"A universal workflow of machine learning\"\n",
    "\n",
    "_Excerpt from Francois Chollet, [Deep Learning with Python](https://github.com/fchollet/deep-learning-with-python-notebooks/blob/master/README.md), Chapter 4: Fundamentals of machine learning_\n",
    " \n",
    "**1. Define the problem at hand and the data on which you’ll train.** Collect this data, or annotate it with labels if need be.\n",
    "\n",
    "**2. Choose how you’ll measure success on your problem.** Which metrics will you monitor on your validation data?\n",
    "\n",
    "**3. Determine your evaluation protocol:** hold-out validation? K-fold validation? Which portion of the data should you use for validation?\n",
    "\n",
    "**4. Develop a first model that does better than a basic baseline:** a model with statistical power.\n",
    "\n",
    "**5. Develop a model that overfits.** The universal tension in machine learning is between optimization and generalization; the ideal model is one that stands right at the border between underfitting and overfitting; between undercapacity and overcapacity. To figure out where this border lies, first you must cross it.\n",
    "\n",
    "**6. Regularize your model and tune its hyperparameters, based on performance on the validation data.** Repeatedly modify your model, train it, evaluate on your validation data (not the test data, at this point), modify it again, and repeat, until the model is as good as it can get. \n",
    "\n",
    "Iterate on feature engineering: add new features, or remove features that don’t seem to be informative. Once you’ve developed a satisfactory model configuration, you can train your final production model on all the available data (training and validation) and evaluate it one last time on the test set.\n"
   ]
  },
  {
   "cell_type": "markdown",
   "metadata": {
    "colab_type": "text",
    "id": "3kt6bzEcOIaa"
   },
   "source": [
    "## 1. Define the problem at hand and the data on which you'll train"
   ]
  },
  {
   "cell_type": "markdown",
   "metadata": {
    "colab_type": "text",
    "id": "di16k7vpRg67"
   },
   "source": [
    "We'll apply the workflow to a [project from _Python Data Science Handbook_](https://jakevdp.github.io/PythonDataScienceHandbook/05.06-linear-regression.html#Example:-Predicting-Bicycle-Traffic) by Jake VanderPlas:\n",
    "\n",
    "> **Predicting Bicycle Traffic**\n",
    "\n",
    "> As an example, let's take a look at whether we can predict the number of bicycle trips across Seattle's Fremont Bridge based on weather, season, and other factors.\n",
    "\n",
    "> We will join the bike data with another dataset, and try to determine the extent to which weather and seasonal factors—temperature, precipitation, and daylight hours—affect the volume of bicycle traffic through this corridor. Fortunately, the NOAA makes available their daily [weather station data](http://www.ncdc.noaa.gov/cdo-web/search?datasetid=GHCND) (I used station ID USW00024233) and we can easily use Pandas to join the two data sources.\n",
    "\n",
    "> Let's start by loading the two datasets, indexing by date:"
   ]
  },
  {
   "cell_type": "markdown",
   "metadata": {
    "colab_type": "text",
    "id": "19dpb_d0R1A6"
   },
   "source": [
    "So this is a regression problem, not a classification problem. We'll define the target, choose an evaluation metric, and choose models that are appropriate for regression problems.\n",
    "\n",
    "\n"
   ]
  },
  {
   "cell_type": "markdown",
   "metadata": {
    "colab_type": "text",
    "id": "9GYm74kD34OQ"
   },
   "source": [
    "### Load data"
   ]
  },
  {
   "cell_type": "code",
   "execution_count": 1,
   "metadata": {
    "colab": {},
    "colab_type": "code",
    "id": "BfQ7gE28MNdF"
   },
   "outputs": [],
   "source": [
    "# Modified from cells 15, 16, and 20, at\n",
    "# https://jakevdp.github.io/PythonDataScienceHandbook/05.06-linear-regression.html#Example:-Predicting-Bicycle-Traffic\n",
    "\n",
    "import pandas as pd\n",
    "\n",
    "counts = pd.read_csv('FremontBridge.csv', index_col='Date', parse_dates=True, \n",
    "                     infer_datetime_format=True)\n",
    "\n",
    "weather = pd.read_csv('BicycleWeather.csv', index_col='DATE', parse_dates=True, \n",
    "                      infer_datetime_format=False)\n",
    "\n",
    "daily = counts.resample('d').sum()\n",
    "daily['Total'] = daily.sum(axis=1)\n",
    "daily = daily[['Total']] # remove other columns\n",
    "\n",
    "weather_columns = ['PRCP', 'SNOW', 'SNWD', 'TMAX', 'TMIN', 'AWND']\n",
    "daily = daily.join(weather[weather_columns], how='inner')"
   ]
  },
  {
   "cell_type": "code",
   "execution_count": 2,
   "metadata": {
    "colab": {},
    "colab_type": "code",
    "id": "i0YYD6rvypb4"
   },
   "outputs": [],
   "source": [
    "# Make a feature for yesterday's total\n",
    "daily['Total_yesterday'] = daily.Total.shift(1)\n",
    "\n",
    "daily = daily.drop(index=daily.index[0])"
   ]
  },
  {
   "cell_type": "markdown",
   "metadata": {
    "colab_type": "text",
    "id": "VVB3g4704An5"
   },
   "source": [
    "### First fast look at the data\n",
    "- What's the shape?\n",
    "- What's the date range?\n",
    "- What's the target and the features?"
   ]
  },
  {
   "cell_type": "code",
   "execution_count": 3,
   "metadata": {
    "colab": {},
    "colab_type": "code",
    "id": "t50E2fTUWBBU"
   },
   "outputs": [
    {
     "data": {
      "text/plain": [
       "(1063, 8)"
      ]
     },
     "execution_count": 3,
     "metadata": {},
     "output_type": "execute_result"
    }
   ],
   "source": [
    "daily.shape"
   ]
  },
  {
   "cell_type": "code",
   "execution_count": 4,
   "metadata": {},
   "outputs": [
    {
     "data": {
      "text/html": [
       "<div>\n",
       "<style scoped>\n",
       "    .dataframe tbody tr th:only-of-type {\n",
       "        vertical-align: middle;\n",
       "    }\n",
       "\n",
       "    .dataframe tbody tr th {\n",
       "        vertical-align: top;\n",
       "    }\n",
       "\n",
       "    .dataframe thead th {\n",
       "        text-align: right;\n",
       "    }\n",
       "</style>\n",
       "<table border=\"1\" class=\"dataframe\">\n",
       "  <thead>\n",
       "    <tr style=\"text-align: right;\">\n",
       "      <th></th>\n",
       "      <th>Total</th>\n",
       "      <th>PRCP</th>\n",
       "      <th>SNOW</th>\n",
       "      <th>SNWD</th>\n",
       "      <th>TMAX</th>\n",
       "      <th>TMIN</th>\n",
       "      <th>AWND</th>\n",
       "      <th>Total_yesterday</th>\n",
       "    </tr>\n",
       "  </thead>\n",
       "  <tbody>\n",
       "    <tr>\n",
       "      <th>2012-10-04</th>\n",
       "      <td>3475.0</td>\n",
       "      <td>0</td>\n",
       "      <td>0</td>\n",
       "      <td>0</td>\n",
       "      <td>189</td>\n",
       "      <td>83</td>\n",
       "      <td>65</td>\n",
       "      <td>3521.0</td>\n",
       "    </tr>\n",
       "    <tr>\n",
       "      <th>2012-10-05</th>\n",
       "      <td>3148.0</td>\n",
       "      <td>0</td>\n",
       "      <td>0</td>\n",
       "      <td>0</td>\n",
       "      <td>217</td>\n",
       "      <td>89</td>\n",
       "      <td>57</td>\n",
       "      <td>3475.0</td>\n",
       "    </tr>\n",
       "    <tr>\n",
       "      <th>2012-10-06</th>\n",
       "      <td>2006.0</td>\n",
       "      <td>0</td>\n",
       "      <td>0</td>\n",
       "      <td>0</td>\n",
       "      <td>239</td>\n",
       "      <td>78</td>\n",
       "      <td>51</td>\n",
       "      <td>3148.0</td>\n",
       "    </tr>\n",
       "    <tr>\n",
       "      <th>2012-10-07</th>\n",
       "      <td>2142.0</td>\n",
       "      <td>0</td>\n",
       "      <td>0</td>\n",
       "      <td>0</td>\n",
       "      <td>239</td>\n",
       "      <td>78</td>\n",
       "      <td>13</td>\n",
       "      <td>2006.0</td>\n",
       "    </tr>\n",
       "    <tr>\n",
       "      <th>2012-10-08</th>\n",
       "      <td>3537.0</td>\n",
       "      <td>0</td>\n",
       "      <td>0</td>\n",
       "      <td>0</td>\n",
       "      <td>211</td>\n",
       "      <td>78</td>\n",
       "      <td>19</td>\n",
       "      <td>2142.0</td>\n",
       "    </tr>\n",
       "  </tbody>\n",
       "</table>\n",
       "</div>"
      ],
      "text/plain": [
       "             Total  PRCP  SNOW  SNWD  TMAX  TMIN  AWND  Total_yesterday\n",
       "2012-10-04  3475.0     0     0     0   189    83    65           3521.0\n",
       "2012-10-05  3148.0     0     0     0   217    89    57           3475.0\n",
       "2012-10-06  2006.0     0     0     0   239    78    51           3148.0\n",
       "2012-10-07  2142.0     0     0     0   239    78    13           2006.0\n",
       "2012-10-08  3537.0     0     0     0   211    78    19           2142.0"
      ]
     },
     "execution_count": 4,
     "metadata": {},
     "output_type": "execute_result"
    }
   ],
   "source": [
    "daily.head()"
   ]
  },
  {
   "cell_type": "markdown",
   "metadata": {
    "colab_type": "text",
    "id": "XgMvCsaWJR7Q"
   },
   "source": [
    "Target\n",
    "- Total : Daily total number of bicycle trips across Seattle's Fremont Bridge\n",
    "\n",
    "Features\n",
    "- Date (index) : from 2012-10-04 to 2015-09-01\n",
    "- Total_yesterday : Total trips yesterday\n",
    "- PRCP : Precipitation (1/10 mm)\n",
    "- SNOW : Snowfall (1/10 mm)\n",
    "- SNWD : Snow depth (1/10 mm)\n",
    "- TMAX : Maximum temperature (1/10 Celsius)\n",
    "- TMIN : Minimum temperature (1/10 Celsius)\n",
    "- AWND : Average daily wind speed (1/10 meters per second)"
   ]
  },
  {
   "cell_type": "markdown",
   "metadata": {
    "colab_type": "text",
    "id": "lenL-przSYCo"
   },
   "source": [
    "## 2. Choose how you’ll measure success on your problem.\n",
    "\n",
    "Which metrics will you monitor on your validation data?\n",
    "\n",
    "This is a regression problem, so we need to choose a regression [metric](https://scikit-learn.org/stable/modules/model_evaluation.html#common-cases-predefined-values).\n",
    "\n",
    "\n",
    "\n",
    "I'll choose mean absolute error.\n",
    "\n"
   ]
  },
  {
   "cell_type": "code",
   "execution_count": 9,
   "metadata": {
    "colab": {},
    "colab_type": "code",
    "id": "1TqbomapSyRP"
   },
   "outputs": [],
   "source": [
    "from sklearn.metrics import mean_absolute_error"
   ]
  },
  {
   "cell_type": "markdown",
   "metadata": {
    "colab_type": "text",
    "id": "IRHrB3rsS5hF"
   },
   "source": [
    "## 3. Determine your evaluation protocol \n",
    "\n",
    "We're doing model selection, hyperparameter optimization, and performance estimation. So generally we have two ideal [options](https://sebastianraschka.com/images/blog/2018/model-evaluation-selection-part4/model-eval-conclusions.jpg) to choose from:\n",
    "\n",
    "- 3-way holdout method (train/validation/test split)\n",
    "- Cross-validation with independent test set\n",
    "\n",
    "I'll choose cross-validation with independent test set. Scikit-learn makes cross-validation convenient for us!\n",
    "\n",
    "Specifically, I will use random shuffled cross validation to train and validate, but I will hold out an \"out-of-time\" test set, from the last 100 days of data:\n",
    "\n",
    "\n",
    "\n"
   ]
  },
  {
   "cell_type": "code",
   "execution_count": 11,
   "metadata": {
    "colab": {},
    "colab_type": "code",
    "id": "A3xo6HgbPMFm"
   },
   "outputs": [],
   "source": [
    "train = daily[:-100]\n",
    "test = daily[-100:]"
   ]
  },
  {
   "cell_type": "code",
   "execution_count": 13,
   "metadata": {},
   "outputs": [
    {
     "data": {
      "text/plain": [
       "((963, 7), (963,), (100, 7), (100,))"
      ]
     },
     "execution_count": 13,
     "metadata": {},
     "output_type": "execute_result"
    }
   ],
   "source": [
    "X_train = train.drop(columns='Total')\n",
    "y_train = train['Total']\n",
    "\n",
    "X_test = test.drop(columns='Total')\n",
    "y_test = test['Total']\n",
    "\n",
    "X_train.shape, y_train.shape, X_test.shape, y_test.shape"
   ]
  },
  {
   "cell_type": "code",
   "execution_count": 23,
   "metadata": {},
   "outputs": [
    {
     "data": {
      "text/html": [
       "<div>\n",
       "<style scoped>\n",
       "    .dataframe tbody tr th:only-of-type {\n",
       "        vertical-align: middle;\n",
       "    }\n",
       "\n",
       "    .dataframe tbody tr th {\n",
       "        vertical-align: top;\n",
       "    }\n",
       "\n",
       "    .dataframe thead th {\n",
       "        text-align: right;\n",
       "    }\n",
       "</style>\n",
       "<table border=\"1\" class=\"dataframe\">\n",
       "  <thead>\n",
       "    <tr style=\"text-align: right;\">\n",
       "      <th></th>\n",
       "      <th>PRCP</th>\n",
       "      <th>SNOW</th>\n",
       "      <th>SNWD</th>\n",
       "      <th>TMAX</th>\n",
       "      <th>TMIN</th>\n",
       "      <th>AWND</th>\n",
       "      <th>Total_yesterday</th>\n",
       "    </tr>\n",
       "  </thead>\n",
       "  <tbody>\n",
       "    <tr>\n",
       "      <th>2012-10-04</th>\n",
       "      <td>0</td>\n",
       "      <td>0</td>\n",
       "      <td>0</td>\n",
       "      <td>189</td>\n",
       "      <td>83</td>\n",
       "      <td>65</td>\n",
       "      <td>3521.0</td>\n",
       "    </tr>\n",
       "    <tr>\n",
       "      <th>2012-10-05</th>\n",
       "      <td>0</td>\n",
       "      <td>0</td>\n",
       "      <td>0</td>\n",
       "      <td>217</td>\n",
       "      <td>89</td>\n",
       "      <td>57</td>\n",
       "      <td>3475.0</td>\n",
       "    </tr>\n",
       "    <tr>\n",
       "      <th>2012-10-06</th>\n",
       "      <td>0</td>\n",
       "      <td>0</td>\n",
       "      <td>0</td>\n",
       "      <td>239</td>\n",
       "      <td>78</td>\n",
       "      <td>51</td>\n",
       "      <td>3148.0</td>\n",
       "    </tr>\n",
       "    <tr>\n",
       "      <th>2012-10-07</th>\n",
       "      <td>0</td>\n",
       "      <td>0</td>\n",
       "      <td>0</td>\n",
       "      <td>239</td>\n",
       "      <td>78</td>\n",
       "      <td>13</td>\n",
       "      <td>2006.0</td>\n",
       "    </tr>\n",
       "    <tr>\n",
       "      <th>2012-10-08</th>\n",
       "      <td>0</td>\n",
       "      <td>0</td>\n",
       "      <td>0</td>\n",
       "      <td>211</td>\n",
       "      <td>78</td>\n",
       "      <td>19</td>\n",
       "      <td>2142.0</td>\n",
       "    </tr>\n",
       "  </tbody>\n",
       "</table>\n",
       "</div>"
      ],
      "text/plain": [
       "            PRCP  SNOW  SNWD  TMAX  TMIN  AWND  Total_yesterday\n",
       "2012-10-04     0     0     0   189    83    65           3521.0\n",
       "2012-10-05     0     0     0   217    89    57           3475.0\n",
       "2012-10-06     0     0     0   239    78    51           3148.0\n",
       "2012-10-07     0     0     0   239    78    13           2006.0\n",
       "2012-10-08     0     0     0   211    78    19           2142.0"
      ]
     },
     "execution_count": 23,
     "metadata": {},
     "output_type": "execute_result"
    }
   ],
   "source": [
    "X_train.head()"
   ]
  },
  {
   "cell_type": "markdown",
   "metadata": {
    "colab_type": "text",
    "id": "vH6IsORQTvTU"
   },
   "source": [
    "## 4. Develop a first model that does better than a basic baseline"
   ]
  },
  {
   "cell_type": "markdown",
   "metadata": {
    "colab_type": "text",
    "id": "DJBs2nQkj7oB"
   },
   "source": [
    "### Look at the target's distribution and descriptive stats"
   ]
  },
  {
   "cell_type": "code",
   "execution_count": 17,
   "metadata": {
    "colab": {},
    "colab_type": "code",
    "id": "P5peakv9Zs71"
   },
   "outputs": [
    {
     "data": {
      "image/png": "[encoded data removed]",
      "text/plain": [
       "<Figure size 432x288 with 1 Axes>"
      ]
     },
     "metadata": {
      "needs_background": "light"
     },
     "output_type": "display_data"
    }
   ],
   "source": [
    "import seaborn as sns\n",
    "sns.distplot(y_train);"
   ]
  },
  {
   "cell_type": "code",
   "execution_count": 19,
   "metadata": {},
   "outputs": [
    {
     "data": {
      "text/plain": [
       "count     963.000000\n",
       "mean     2534.329180\n",
       "std      1224.065027\n",
       "min        98.000000\n",
       "25%      1755.000000\n",
       "50%      2381.000000\n",
       "75%      3317.500000\n",
       "max      6088.000000\n",
       "Name: Total, dtype: float64"
      ]
     },
     "execution_count": 19,
     "metadata": {},
     "output_type": "execute_result"
    }
   ],
   "source": [
    "y_train.describe()"
   ]
  },
  {
   "cell_type": "markdown",
   "metadata": {
    "colab_type": "text",
    "id": "fEjxxgV9kExY"
   },
   "source": [
    "### Basic baseline 1"
   ]
  },
  {
   "cell_type": "code",
   "execution_count": 22,
   "metadata": {
    "colab": {},
    "colab_type": "code",
    "id": "6GepKdQjYcEP"
   },
   "outputs": [
    {
     "data": {
      "text/plain": [
       "980.8981106765484"
      ]
     },
     "execution_count": 22,
     "metadata": {},
     "output_type": "execute_result"
    }
   ],
   "source": [
    "import numpy as np\n",
    "y_pred = np.full(y_train.shape, y_train.mean())\n",
    "mean_absolute_error(y_train, y_pred)"
   ]
  },
  {
   "cell_type": "markdown",
   "metadata": {
    "colab_type": "text",
    "id": "tN2I_F3FkIHb"
   },
   "source": [
    "### Basic baseline 2\n",
    "Let's just assume the same weather as yesterday"
   ]
  },
  {
   "cell_type": "code",
   "execution_count": 24,
   "metadata": {
    "colab": {},
    "colab_type": "code",
    "id": "ZW8bhZFtTunV"
   },
   "outputs": [
    {
     "data": {
      "text/plain": [
       "708.061266874351"
      ]
     },
     "execution_count": 24,
     "metadata": {},
     "output_type": "execute_result"
    }
   ],
   "source": [
    "y_pred = X_train.Total_yesterday\n",
    "mean_absolute_error(y_train, y_pred)"
   ]
  },
  {
   "cell_type": "markdown",
   "metadata": {
    "colab_type": "text",
    "id": "Ggf3VpxwkJ0T"
   },
   "source": [
    "### First model that does better than a basic baseline"
   ]
  },
  {
   "cell_type": "markdown",
   "metadata": {
    "colab_type": "text",
    "id": "KfaqL1Ezer2-"
   },
   "source": [
    "https://scikit-learn.org/stable/modules/generated/sklearn.model_selection.cross_validate.html"
   ]
  },
  {
   "cell_type": "code",
   "execution_count": 29,
   "metadata": {
    "colab": {},
    "colab_type": "code",
    "id": "OeBtU68skfW-"
   },
   "outputs": [
    {
     "data": {
      "text/html": [
       "<div>\n",
       "<style scoped>\n",
       "    .dataframe tbody tr th:only-of-type {\n",
       "        vertical-align: middle;\n",
       "    }\n",
       "\n",
       "    .dataframe tbody tr th {\n",
       "        vertical-align: top;\n",
       "    }\n",
       "\n",
       "    .dataframe thead th {\n",
       "        text-align: right;\n",
       "    }\n",
       "</style>\n",
       "<table border=\"1\" class=\"dataframe\">\n",
       "  <thead>\n",
       "    <tr style=\"text-align: right;\">\n",
       "      <th></th>\n",
       "      <th>fit_time</th>\n",
       "      <th>score_time</th>\n",
       "      <th>estimator</th>\n",
       "      <th>val_score</th>\n",
       "      <th>train_score</th>\n",
       "    </tr>\n",
       "  </thead>\n",
       "  <tbody>\n",
       "    <tr>\n",
       "      <th>0</th>\n",
       "      <td>0.006146</td>\n",
       "      <td>0.002572</td>\n",
       "      <td>LinearRegression(copy_X=True, fit_intercept=Tr...</td>\n",
       "      <td>-555.186275</td>\n",
       "      <td>-619.509206</td>\n",
       "    </tr>\n",
       "    <tr>\n",
       "      <th>1</th>\n",
       "      <td>0.004199</td>\n",
       "      <td>0.001707</td>\n",
       "      <td>LinearRegression(copy_X=True, fit_intercept=Tr...</td>\n",
       "      <td>-651.126513</td>\n",
       "      <td>-583.427702</td>\n",
       "    </tr>\n",
       "    <tr>\n",
       "      <th>2</th>\n",
       "      <td>0.004158</td>\n",
       "      <td>0.001991</td>\n",
       "      <td>LinearRegression(copy_X=True, fit_intercept=Tr...</td>\n",
       "      <td>-615.965800</td>\n",
       "      <td>-589.341301</td>\n",
       "    </tr>\n",
       "  </tbody>\n",
       "</table>\n",
       "</div>"
      ],
      "text/plain": [
       "   fit_time  score_time                                          estimator  \\\n",
       "0  0.006146    0.002572  LinearRegression(copy_X=True, fit_intercept=Tr...   \n",
       "1  0.004199    0.001707  LinearRegression(copy_X=True, fit_intercept=Tr...   \n",
       "2  0.004158    0.001991  LinearRegression(copy_X=True, fit_intercept=Tr...   \n",
       "\n",
       "    val_score  train_score  \n",
       "0 -555.186275  -619.509206  \n",
       "1 -651.126513  -583.427702  \n",
       "2 -615.965800  -589.341301  "
      ]
     },
     "execution_count": 29,
     "metadata": {},
     "output_type": "execute_result"
    }
   ],
   "source": [
    "from sklearn.linear_model import LinearRegression\n",
    "from sklearn.model_selection import cross_validate\n",
    "\n",
    "scores = cross_validate(LinearRegression(), X_train, y_train,\n",
    "                       scoring='neg_mean_absolute_error', cv=3,\n",
    "                       return_train_score=True, \n",
    "                       return_estimator=True)\n",
    "\n",
    "# Renaming the internal parameters to our nomenclature,\n",
    "# and casting as a dataframe for easier visualization\n",
    "pd.DataFrame(scores).rename(columns={'test_score':'val_score'})"
   ]
  },
  {
   "cell_type": "code",
   "execution_count": 30,
   "metadata": {},
   "outputs": [
    {
     "data": {
      "text/plain": [
       "{'fit_time': array([0.00614595, 0.00419879, 0.00415802]),\n",
       " 'score_time': array([0.00257206, 0.00170708, 0.00199127]),\n",
       " 'estimator': (LinearRegression(copy_X=True, fit_intercept=True, n_jobs=None,\n",
       "           normalize=False),\n",
       "  LinearRegression(copy_X=True, fit_intercept=True, n_jobs=None,\n",
       "           normalize=False),\n",
       "  LinearRegression(copy_X=True, fit_intercept=True, n_jobs=None,\n",
       "           normalize=False)),\n",
       " 'test_score': array([-555.18627454, -651.12651327, -615.96579978]),\n",
       " 'train_score': array([-619.50920623, -583.42770209, -589.3413007 ])}"
      ]
     },
     "execution_count": 30,
     "metadata": {},
     "output_type": "execute_result"
    }
   ],
   "source": [
    "# Note that the 'estimator' entry in the output is the actual model\n",
    "# object, fit to the data and ready for querying.\n",
    "scores"
   ]
  },
  {
   "cell_type": "code",
   "execution_count": 32,
   "metadata": {},
   "outputs": [
    {
     "data": {
      "text/plain": [
       "-607.4261958631805"
      ]
     },
     "execution_count": 32,
     "metadata": {},
     "output_type": "execute_result"
    }
   ],
   "source": [
    "# Significantly better than qust guessing yesterday's weather\n",
    "scores['test_score'].mean()"
   ]
  },
  {
   "cell_type": "code",
   "execution_count": 36,
   "metadata": {},
   "outputs": [
    {
     "name": "stdout",
     "output_type": "stream",
     "text": [
      "Model from cross validation fold #0\n",
      "Intercept: 566.7766337283692\n",
      "PRCP                -3.5251030638730323\n",
      "SNOW                -0.0820286596945395\n",
      "SNWD                -12.045027424625347\n",
      "TMAX                9.475237800217549\n",
      "TMIN                -4.6077746025385755\n",
      "AWND                -2.74519066205123\n",
      "Total_yesterday     0.4173602229456304\n",
      "\n",
      "Model from cross validation fold #1\n",
      "Intercept: 671.9064515706045\n",
      "PRCP                -2.7722529441910893\n",
      "SNOW                -0.0009947361806794965\n",
      "SNWD                20.800687633734636\n",
      "TMAX                8.804948207804252\n",
      "TMIN                -3.7413861191474598\n",
      "AWND                -6.108300188094694\n",
      "Total_yesterday     0.4050743112376638\n",
      "\n",
      "Model from cross validation fold #2\n",
      "Intercept: 465.84525362296336\n",
      "PRCP                -2.8761959151874668\n",
      "SNOW                -0.01643158633711839\n",
      "SNWD                -8.809695835488693\n",
      "TMAX                10.419441168835974\n",
      "TMIN                -5.862868464913562\n",
      "AWND                -2.3989913411104125\n",
      "Total_yesterday     0.4234926564929123\n",
      "\n"
     ]
    }
   ],
   "source": [
    "for i, model in enumerate(scores['estimator']):\n",
    "    coefficients = model.coef_\n",
    "    intercept = model.intercept_\n",
    "    feature_names = X_train.columns\n",
    "    \n",
    "    print(f'Model from cross validation fold #{i}')\n",
    "    print(f'Intercept: {intercept}')\n",
    "    for name, coef in zip(feature_names, coefficients):\n",
    "        print(f'{name:20}{coef}')\n",
    "    print()"
   ]
  },
  {
   "cell_type": "code",
   "execution_count": 37,
   "metadata": {},
   "outputs": [
    {
     "name": "stdout",
     "output_type": "stream",
     "text": [
      "                            OLS Regression Results                            \n",
      "==============================================================================\n",
      "Dep. Variable:                  Total   R-squared:                       0.628\n",
      "Model:                            OLS   Adj. R-squared:                  0.625\n",
      "Method:                 Least Squares   F-statistic:                     230.2\n",
      "Date:                Wed, 30 Jan 2019   Prob (F-statistic):          4.80e-200\n",
      "Time:                        10:02:41   Log-Likelihood:                -7736.8\n",
      "No. Observations:                 963   AIC:                         1.549e+04\n",
      "Df Residuals:                     955   BIC:                         1.553e+04\n",
      "Df Model:                           7                                         \n",
      "Covariance Type:            nonrobust                                         \n",
      "===================================================================================\n",
      "                      coef    std err          t      P>|t|      [0.025      0.975]\n",
      "-----------------------------------------------------------------------------------\n",
      "const             571.7691     93.165      6.137      0.000     388.937     754.601\n",
      "PRCP               -3.0616      0.396     -7.726      0.000      -3.839      -2.284\n",
      "SNOW               -0.0271      0.038     -0.721      0.471      -0.101       0.047\n",
      "SNWD               -9.1379      8.974     -1.018      0.309     -26.748       8.472\n",
      "TMAX                9.4823      0.774     12.258      0.000       7.964      11.000\n",
      "TMIN               -4.6742      1.026     -4.555      0.000      -6.688      -2.660\n",
      "AWND               -3.7006      1.747     -2.119      0.034      -7.128      -0.273\n",
      "Total_yesterday     0.4165      0.025     16.460      0.000       0.367       0.466\n",
      "==============================================================================\n",
      "Omnibus:                        6.601   Durbin-Watson:                   1.571\n",
      "Prob(Omnibus):                  0.037   Jarque-Bera (JB):                6.648\n",
      "Skew:                          -0.187   Prob(JB):                       0.0360\n",
      "Kurtosis:                       2.841   Cond. No.                     1.09e+04\n",
      "==============================================================================\n",
      "\n",
      "Warnings:\n",
      "[1] Standard Errors assume that the covariance matrix of the errors is correctly specified.\n",
      "[2] The condition number is large, 1.09e+04. This might indicate that there are\n",
      "strong multicollinearity or other numerical problems.\n"
     ]
    },
    {
     "name": "stderr",
     "output_type": "stream",
     "text": [
      "/anaconda3/envs/sandbox/lib/python3.6/site-packages/numpy/core/fromnumeric.py:2223: FutureWarning: Method .ptp is deprecated and will be removed in a future version. Use numpy.ptp instead.\n",
      "  return ptp(axis=axis, out=out, **kwargs)\n"
     ]
    }
   ],
   "source": [
    "import statsmodels.api as sm\n",
    "model = sm.OLS(y_train, sm.add_constant(X_train))\n",
    "print(model.fit().summary())"
   ]
  },
  {
   "cell_type": "markdown",
   "metadata": {
    "colab_type": "text",
    "id": "fg1YI4X8n9nI"
   },
   "source": [
    "## 5. Develop a model that overfits. \n",
    "\n",
    "\"The universal tension in machine learning is between optimization and generalization; the ideal model is one that stands right at the border between underfitting and overfitting; between undercapacity and overcapacity. To figure out where this border lies, first you must cross it.\" —Chollet"
   ]
  },
  {
   "cell_type": "markdown",
   "metadata": {
    "colab_type": "text",
    "id": "lodd6UPOoy89"
   },
   "source": [
    "<img src=\"https://jakevdp.github.io/PythonDataScienceHandbook/figures/05.03-validation-curve.png\">\n",
    "\n",
    "Diagram source: https://jakevdp.github.io/PythonDataScienceHandbook/05.03-hyperparameters-and-model-validation.html#Validation-curves-in-Scikit-Learn"
   ]
  },
  {
   "cell_type": "markdown",
   "metadata": {
    "colab_type": "text",
    "id": "FrmQ3RM0w2JE"
   },
   "source": [
    "### Polynomial Regression?"
   ]
  },
  {
   "cell_type": "code",
   "execution_count": 38,
   "metadata": {
    "colab": {},
    "colab_type": "code",
    "id": "uctwo0X3pTw5"
   },
   "outputs": [],
   "source": [
    "# Copied from cell 10 at\n",
    "# https://jakevdp.github.io/PythonDataScienceHandbook/05.03-hyperparameters-and-model-validation.html#Validation-curves-in-Scikit-Learn\n",
    "\n",
    "from sklearn.preprocessing import PolynomialFeatures\n",
    "from sklearn.linear_model import LinearRegression\n",
    "from sklearn.pipeline import make_pipeline\n",
    "\n",
    "def PolynomialRegression(degree=2, **kwargs):\n",
    "    return make_pipeline(PolynomialFeatures(degree),\n",
    "                         LinearRegression(**kwargs))"
   ]
  },
  {
   "cell_type": "code",
   "execution_count": 39,
   "metadata": {
    "colab": {},
    "colab_type": "code",
    "id": "wvY4HOXVw7Mj"
   },
   "outputs": [
    {
     "name": "stdout",
     "output_type": "stream",
     "text": [
      "0 degree polynomial has 1 features\n",
      "['1']\n",
      "\n",
      "\n",
      "1 degree polynomial has 8 features\n",
      "['1', 'PRCP', 'SNOW', 'SNWD', 'TMAX', 'TMIN', 'AWND', 'Total_yesterday']\n",
      "\n",
      "\n",
      "2 degree polynomial has 36 features\n",
      "['1', 'PRCP', 'SNOW', 'SNWD', 'TMAX', 'TMIN', 'AWND', 'Total_yesterday', 'PRCP^2', 'PRCP SNOW', 'PRCP SNWD', 'PRCP TMAX', 'PRCP TMIN', 'PRCP AWND', 'PRCP Total_yesterday', 'SNOW^2', 'SNOW SNWD', 'SNOW TMAX', 'SNOW TMIN', 'SNOW AWND', 'SNOW Total_yesterday', 'SNWD^2', 'SNWD TMAX', 'SNWD TMIN', 'SNWD AWND', 'SNWD Total_yesterday', 'TMAX^2', 'TMAX TMIN', 'TMAX AWND', 'TMAX Total_yesterday', 'TMIN^2', 'TMIN AWND', 'TMIN Total_yesterday', 'AWND^2', 'AWND Total_yesterday', 'Total_yesterday^2']\n",
      "\n",
      "\n",
      "3 degree polynomial has 120 features\n",
      "['1', 'PRCP', 'SNOW', 'SNWD', 'TMAX', 'TMIN', 'AWND', 'Total_yesterday', 'PRCP^2', 'PRCP SNOW', 'PRCP SNWD', 'PRCP TMAX', 'PRCP TMIN', 'PRCP AWND', 'PRCP Total_yesterday', 'SNOW^2', 'SNOW SNWD', 'SNOW TMAX', 'SNOW TMIN', 'SNOW AWND', 'SNOW Total_yesterday', 'SNWD^2', 'SNWD TMAX', 'SNWD TMIN', 'SNWD AWND', 'SNWD Total_yesterday', 'TMAX^2', 'TMAX TMIN', 'TMAX AWND', 'TMAX Total_yesterday', 'TMIN^2', 'TMIN AWND', 'TMIN Total_yesterday', 'AWND^2', 'AWND Total_yesterday', 'Total_yesterday^2', 'PRCP^3', 'PRCP^2 SNOW', 'PRCP^2 SNWD', 'PRCP^2 TMAX', 'PRCP^2 TMIN', 'PRCP^2 AWND', 'PRCP^2 Total_yesterday', 'PRCP SNOW^2', 'PRCP SNOW SNWD', 'PRCP SNOW TMAX', 'PRCP SNOW TMIN', 'PRCP SNOW AWND', 'PRCP SNOW Total_yesterday', 'PRCP SNWD^2', 'PRCP SNWD TMAX', 'PRCP SNWD TMIN', 'PRCP SNWD AWND', 'PRCP SNWD Total_yesterday', 'PRCP TMAX^2', 'PRCP TMAX TMIN', 'PRCP TMAX AWND', 'PRCP TMAX Total_yesterday', 'PRCP TMIN^2', 'PRCP TMIN AWND', 'PRCP TMIN Total_yesterday', 'PRCP AWND^2', 'PRCP AWND Total_yesterday', 'PRCP Total_yesterday^2', 'SNOW^3', 'SNOW^2 SNWD', 'SNOW^2 TMAX', 'SNOW^2 TMIN', 'SNOW^2 AWND', 'SNOW^2 Total_yesterday', 'SNOW SNWD^2', 'SNOW SNWD TMAX', 'SNOW SNWD TMIN', 'SNOW SNWD AWND', 'SNOW SNWD Total_yesterday', 'SNOW TMAX^2', 'SNOW TMAX TMIN', 'SNOW TMAX AWND', 'SNOW TMAX Total_yesterday', 'SNOW TMIN^2', 'SNOW TMIN AWND', 'SNOW TMIN Total_yesterday', 'SNOW AWND^2', 'SNOW AWND Total_yesterday', 'SNOW Total_yesterday^2', 'SNWD^3', 'SNWD^2 TMAX', 'SNWD^2 TMIN', 'SNWD^2 AWND', 'SNWD^2 Total_yesterday', 'SNWD TMAX^2', 'SNWD TMAX TMIN', 'SNWD TMAX AWND', 'SNWD TMAX Total_yesterday', 'SNWD TMIN^2', 'SNWD TMIN AWND', 'SNWD TMIN Total_yesterday', 'SNWD AWND^2', 'SNWD AWND Total_yesterday', 'SNWD Total_yesterday^2', 'TMAX^3', 'TMAX^2 TMIN', 'TMAX^2 AWND', 'TMAX^2 Total_yesterday', 'TMAX TMIN^2', 'TMAX TMIN AWND', 'TMAX TMIN Total_yesterday', 'TMAX AWND^2', 'TMAX AWND Total_yesterday', 'TMAX Total_yesterday^2', 'TMIN^3', 'TMIN^2 AWND', 'TMIN^2 Total_yesterday', 'TMIN AWND^2', 'TMIN AWND Total_yesterday', 'TMIN Total_yesterday^2', 'AWND^3', 'AWND^2 Total_yesterday', 'AWND Total_yesterday^2', 'Total_yesterday^3']\n",
      "\n",
      "\n"
     ]
    }
   ],
   "source": [
    "for degree in [0, 1, 2, 3]:\n",
    "    features = PolynomialFeatures(degree).fit(X_train).get_feature_names(X_train.columns)\n",
    "    print(f'{degree} degree polynomial has {len(features)} features')\n",
    "    print(features)\n",
    "    print('\\n')"
   ]
  },
  {
   "cell_type": "markdown",
   "metadata": {
    "colab_type": "text",
    "id": "XEUdG9-ktHoa"
   },
   "source": [
    "### Validation curve (with Polynomial Regression)"
   ]
  },
  {
   "cell_type": "markdown",
   "metadata": {
    "colab_type": "text",
    "id": "_ryO1hVKr-6f"
   },
   "source": [
    "https://scikit-learn.org/stable/modules/generated/sklearn.model_selection.validation_curve.html\n",
    "\n",
    "> Validation curve. Determine training and test scores for varying parameter values. This is similar to grid search with one parameter."
   ]
  },
  {
   "cell_type": "code",
   "execution_count": 40,
   "metadata": {
    "colab": {},
    "colab_type": "code",
    "id": "znJgKqPcqBh-"
   },
   "outputs": [
    {
     "data": {
      "image/png": "[encoded data removed]",
      "text/plain": [
       "<Figure size 432x288 with 1 Axes>"
      ]
     },
     "metadata": {
      "needs_background": "light"
     },
     "output_type": "display_data"
    }
   ],
   "source": [
    "# Modified from cell 13 at\n",
    "# https://jakevdp.github.io/PythonDataScienceHandbook/05.03-hyperparameters-and-model-validation.html#Validation-curves-in-Scikit-Learn\n",
    "\n",
    "%matplotlib inline\n",
    "import matplotlib.pyplot as plt\n",
    "from sklearn.model_selection import validation_curve\n",
    "\n",
    "degree = [0, 1, 2]\n",
    "train_score, val_score = validation_curve(\n",
    "    PolynomialRegression(), X_train, y_train,\n",
    "    param_name='polynomialfeatures__degree', param_range=degree, \n",
    "    scoring='neg_mean_absolute_error', cv=3)\n",
    "\n",
    "plt.plot(degree, np.median(train_score, 1), color='blue', label='training score')\n",
    "plt.plot(degree, np.median(val_score, 1), color='red', label='validation score')\n",
    "plt.legend(loc='best')\n",
    "plt.xlabel('degree');"
   ]
  },
  {
   "cell_type": "markdown",
   "metadata": {
    "colab_type": "text",
    "id": "HUdGHWhvtVnV"
   },
   "source": [
    "### Grid Search (with Polynomial Regression)\n",
    "\n",
    "https://scikit-learn.org/stable/modules/generated/sklearn.model_selection.GridSearchCV.html\n",
    "\n",
    "https://scikit-learn.org/stable/modules/grid_search.html"
   ]
  },
  {
   "cell_type": "code",
   "execution_count": 41,
   "metadata": {
    "colab": {},
    "colab_type": "code",
    "id": "GziXyq8Is6dL"
   },
   "outputs": [
    {
     "name": "stdout",
     "output_type": "stream",
     "text": [
      "Fitting 3 folds for each of 4 candidates, totalling 12 fits\n",
      "[CV] polynomialfeatures__degree=0 ....................................\n",
      "[CV]  polynomialfeatures__degree=0, score=-1026.3529857047195, total=   0.0s\n",
      "[CV] polynomialfeatures__degree=0 ....................................\n",
      "[CV]  polynomialfeatures__degree=0, score=-1001.6149251268913, total=   0.0s\n",
      "[CV] polynomialfeatures__degree=0 ....................................\n",
      "[CV]  polynomialfeatures__degree=0, score=-927.0707048650538, total=   0.0s\n",
      "[CV] polynomialfeatures__degree=1 ....................................\n",
      "[CV]  polynomialfeatures__degree=1, score=-555.1862745374102, total=   0.0s\n",
      "[CV] polynomialfeatures__degree=1 ....................................\n",
      "[CV]  polynomialfeatures__degree=1, score=-651.1265132746228, total=   0.0s\n",
      "[CV] polynomialfeatures__degree=1 ....................................\n",
      "[CV]  polynomialfeatures__degree=1, score=-615.9657997775082, total=   0.0s\n",
      "[CV] polynomialfeatures__degree=2 ....................................\n",
      "[CV]  polynomialfeatures__degree=2, score=-7553.673677056523, total=   0.0s\n",
      "[CV] polynomialfeatures__degree=2 ....................................\n",
      "[CV]  polynomialfeatures__degree=2, score=-1439.191569727662, total=   0.0s\n",
      "[CV] polynomialfeatures__degree=2 ....................................\n",
      "[CV]  polynomialfeatures__degree=2, score=-644.1228335713251, total=   0.0s\n",
      "[CV] polynomialfeatures__degree=3 ....................................\n",
      "[CV]  polynomialfeatures__degree=3, score=-2658.143425819151, total=   0.0s\n",
      "[CV] polynomialfeatures__degree=3 ....................................\n",
      "[CV]  polynomialfeatures__degree=3, score=-97989.95505519485, total=   0.0s\n",
      "[CV] polynomialfeatures__degree=3 ....................................\n",
      "[CV]  polynomialfeatures__degree=3, score=-1847.8987410099292, total=   0.0s\n"
     ]
    },
    {
     "name": "stderr",
     "output_type": "stream",
     "text": [
      "[Parallel(n_jobs=1)]: Using backend SequentialBackend with 1 concurrent workers.\n",
      "[Parallel(n_jobs=1)]: Done   1 out of   1 | elapsed:    0.0s remaining:    0.0s\n",
      "[Parallel(n_jobs=1)]: Done   2 out of   2 | elapsed:    0.0s remaining:    0.0s\n",
      "[Parallel(n_jobs=1)]: Done   3 out of   3 | elapsed:    0.0s remaining:    0.0s\n",
      "[Parallel(n_jobs=1)]: Done   4 out of   4 | elapsed:    0.1s remaining:    0.0s\n",
      "[Parallel(n_jobs=1)]: Done   5 out of   5 | elapsed:    0.1s remaining:    0.0s\n",
      "[Parallel(n_jobs=1)]: Done   6 out of   6 | elapsed:    0.1s remaining:    0.0s\n",
      "[Parallel(n_jobs=1)]: Done   7 out of   7 | elapsed:    0.1s remaining:    0.0s\n",
      "[Parallel(n_jobs=1)]: Done   8 out of   8 | elapsed:    0.1s remaining:    0.0s\n",
      "[Parallel(n_jobs=1)]: Done   9 out of   9 | elapsed:    0.1s remaining:    0.0s\n",
      "[Parallel(n_jobs=1)]: Done  12 out of  12 | elapsed:    0.2s finished\n"
     ]
    },
    {
     "data": {
      "text/plain": [
       "GridSearchCV(cv=3, error_score='raise-deprecating',\n",
       "       estimator=Pipeline(memory=None,\n",
       "     steps=[('polynomialfeatures', PolynomialFeatures(degree=2, include_bias=True, interaction_only=False)), ('linearregression', LinearRegression(copy_X=True, fit_intercept=True, n_jobs=None,\n",
       "         normalize=False))]),\n",
       "       fit_params=None, iid='warn', n_jobs=None,\n",
       "       param_grid={'polynomialfeatures__degree': [0, 1, 2, 3]},\n",
       "       pre_dispatch='2*n_jobs', refit=True, return_train_score=True,\n",
       "       scoring='neg_mean_absolute_error', verbose=10)"
      ]
     },
     "execution_count": 41,
     "metadata": {},
     "output_type": "execute_result"
    }
   ],
   "source": [
    "from sklearn.model_selection import GridSearchCV\n",
    "\n",
    "param_grid = {\n",
    "    'polynomialfeatures__degree': [0,1,2,3]\n",
    "}\n",
    "\n",
    "gridsearch = GridSearchCV(PolynomialRegression(), param_grid=param_grid,\n",
    "                         scoring='neg_mean_absolute_error', cv=3,\n",
    "                         return_train_score=True, verbose=10)\n",
    "\n",
    "gridsearch.fit(X_train, y_train)"
   ]
  },
  {
   "cell_type": "code",
   "execution_count": 47,
   "metadata": {},
   "outputs": [
    {
     "data": {
      "text/html": [
       "<div>\n",
       "<style scoped>\n",
       "    .dataframe tbody tr th:only-of-type {\n",
       "        vertical-align: middle;\n",
       "    }\n",
       "\n",
       "    .dataframe tbody tr th {\n",
       "        vertical-align: top;\n",
       "    }\n",
       "\n",
       "    .dataframe thead th {\n",
       "        text-align: right;\n",
       "    }\n",
       "</style>\n",
       "<table border=\"1\" class=\"dataframe\">\n",
       "  <thead>\n",
       "    <tr style=\"text-align: right;\">\n",
       "      <th></th>\n",
       "      <th>mean_fit_time</th>\n",
       "      <th>std_fit_time</th>\n",
       "      <th>mean_score_time</th>\n",
       "      <th>std_score_time</th>\n",
       "      <th>param_polynomialfeatures__degree</th>\n",
       "      <th>params</th>\n",
       "      <th>split0_test_score</th>\n",
       "      <th>split1_test_score</th>\n",
       "      <th>split2_test_score</th>\n",
       "      <th>mean_test_score</th>\n",
       "      <th>std_test_score</th>\n",
       "      <th>rank_test_score</th>\n",
       "      <th>split0_train_score</th>\n",
       "      <th>split1_train_score</th>\n",
       "      <th>split2_train_score</th>\n",
       "      <th>mean_train_score</th>\n",
       "      <th>std_train_score</th>\n",
       "    </tr>\n",
       "  </thead>\n",
       "  <tbody>\n",
       "    <tr>\n",
       "      <th>1</th>\n",
       "      <td>0.008233</td>\n",
       "      <td>0.000141</td>\n",
       "      <td>0.003045</td>\n",
       "      <td>0.000620</td>\n",
       "      <td>1</td>\n",
       "      <td>{'polynomialfeatures__degree': 1}</td>\n",
       "      <td>-555.186275</td>\n",
       "      <td>-651.126513</td>\n",
       "      <td>-615.965800</td>\n",
       "      <td>-607.426196</td>\n",
       "      <td>39.630174</td>\n",
       "      <td>1</td>\n",
       "      <td>-619.509206</td>\n",
       "      <td>-583.427702</td>\n",
       "      <td>-589.341301</td>\n",
       "      <td>-597.426070</td>\n",
       "      <td>15.800661</td>\n",
       "    </tr>\n",
       "    <tr>\n",
       "      <th>0</th>\n",
       "      <td>0.006812</td>\n",
       "      <td>0.001097</td>\n",
       "      <td>0.002212</td>\n",
       "      <td>0.000560</td>\n",
       "      <td>0</td>\n",
       "      <td>{'polynomialfeatures__degree': 0}</td>\n",
       "      <td>-1026.352986</td>\n",
       "      <td>-1001.614925</td>\n",
       "      <td>-927.070705</td>\n",
       "      <td>-985.012872</td>\n",
       "      <td>42.197661</td>\n",
       "      <td>2</td>\n",
       "      <td>-968.880368</td>\n",
       "      <td>-970.755413</td>\n",
       "      <td>-999.896701</td>\n",
       "      <td>-979.844161</td>\n",
       "      <td>14.199935</td>\n",
       "    </tr>\n",
       "    <tr>\n",
       "      <th>2</th>\n",
       "      <td>0.011082</td>\n",
       "      <td>0.001604</td>\n",
       "      <td>0.003391</td>\n",
       "      <td>0.001019</td>\n",
       "      <td>2</td>\n",
       "      <td>{'polynomialfeatures__degree': 2}</td>\n",
       "      <td>-7553.673677</td>\n",
       "      <td>-1439.191570</td>\n",
       "      <td>-644.122834</td>\n",
       "      <td>-3212.329360</td>\n",
       "      <td>3086.906373</td>\n",
       "      <td>3</td>\n",
       "      <td>-595.089615</td>\n",
       "      <td>-568.150803</td>\n",
       "      <td>-565.761032</td>\n",
       "      <td>-576.333816</td>\n",
       "      <td>13.298189</td>\n",
       "    </tr>\n",
       "    <tr>\n",
       "      <th>3</th>\n",
       "      <td>0.013211</td>\n",
       "      <td>0.003104</td>\n",
       "      <td>0.004544</td>\n",
       "      <td>0.000887</td>\n",
       "      <td>3</td>\n",
       "      <td>{'polynomialfeatures__degree': 3}</td>\n",
       "      <td>-2658.143426</td>\n",
       "      <td>-97989.955055</td>\n",
       "      <td>-1847.898741</td>\n",
       "      <td>-34165.332407</td>\n",
       "      <td>45132.035675</td>\n",
       "      <td>4</td>\n",
       "      <td>-565.787903</td>\n",
       "      <td>-663.520092</td>\n",
       "      <td>-576.085578</td>\n",
       "      <td>-601.797858</td>\n",
       "      <td>43.846218</td>\n",
       "    </tr>\n",
       "  </tbody>\n",
       "</table>\n",
       "</div>"
      ],
      "text/plain": [
       "   mean_fit_time  std_fit_time  mean_score_time  std_score_time  \\\n",
       "1       0.008233      0.000141         0.003045        0.000620   \n",
       "0       0.006812      0.001097         0.002212        0.000560   \n",
       "2       0.011082      0.001604         0.003391        0.001019   \n",
       "3       0.013211      0.003104         0.004544        0.000887   \n",
       "\n",
       "  param_polynomialfeatures__degree                             params  \\\n",
       "1                                1  {'polynomialfeatures__degree': 1}   \n",
       "0                                0  {'polynomialfeatures__degree': 0}   \n",
       "2                                2  {'polynomialfeatures__degree': 2}   \n",
       "3                                3  {'polynomialfeatures__degree': 3}   \n",
       "\n",
       "   split0_test_score  split1_test_score  split2_test_score  mean_test_score  \\\n",
       "1        -555.186275        -651.126513        -615.965800      -607.426196   \n",
       "0       -1026.352986       -1001.614925        -927.070705      -985.012872   \n",
       "2       -7553.673677       -1439.191570        -644.122834     -3212.329360   \n",
       "3       -2658.143426      -97989.955055       -1847.898741    -34165.332407   \n",
       "\n",
       "   std_test_score  rank_test_score  split0_train_score  split1_train_score  \\\n",
       "1       39.630174                1         -619.509206         -583.427702   \n",
       "0       42.197661                2         -968.880368         -970.755413   \n",
       "2     3086.906373                3         -595.089615         -568.150803   \n",
       "3    45132.035675                4         -565.787903         -663.520092   \n",
       "\n",
       "   split2_train_score  mean_train_score  std_train_score  \n",
       "1         -589.341301       -597.426070        15.800661  \n",
       "0         -999.896701       -979.844161        14.199935  \n",
       "2         -565.761032       -576.333816        13.298189  \n",
       "3         -576.085578       -601.797858        43.846218  "
      ]
     },
     "execution_count": 47,
     "metadata": {},
     "output_type": "execute_result"
    }
   ],
   "source": [
    "pd.DataFrame(gridsearch.cv_results_).sort_values(by='rank_test_score')"
   ]
  },
  {
   "cell_type": "markdown",
   "metadata": {
    "colab_type": "text",
    "id": "xj82P0VdwYlh"
   },
   "source": [
    "### Random Forest?\n",
    "\n",
    "https://scikit-learn.org/stable/modules/generated/sklearn.ensemble.RandomForestRegressor.html"
   ]
  },
  {
   "cell_type": "code",
   "execution_count": 48,
   "metadata": {
    "colab": {},
    "colab_type": "code",
    "id": "_yYXpk99C4cM"
   },
   "outputs": [
    {
     "data": {
      "text/html": [
       "<div>\n",
       "<style scoped>\n",
       "    .dataframe tbody tr th:only-of-type {\n",
       "        vertical-align: middle;\n",
       "    }\n",
       "\n",
       "    .dataframe tbody tr th {\n",
       "        vertical-align: top;\n",
       "    }\n",
       "\n",
       "    .dataframe thead th {\n",
       "        text-align: right;\n",
       "    }\n",
       "</style>\n",
       "<table border=\"1\" class=\"dataframe\">\n",
       "  <thead>\n",
       "    <tr style=\"text-align: right;\">\n",
       "      <th></th>\n",
       "      <th>fit_time</th>\n",
       "      <th>score_time</th>\n",
       "      <th>estimator</th>\n",
       "      <th>test_score</th>\n",
       "      <th>train_score</th>\n",
       "    </tr>\n",
       "  </thead>\n",
       "  <tbody>\n",
       "    <tr>\n",
       "      <th>0</th>\n",
       "      <td>0.337283</td>\n",
       "      <td>0.016486</td>\n",
       "      <td>(DecisionTreeRegressor(criterion='mse', max_de...</td>\n",
       "      <td>-560.114545</td>\n",
       "      <td>-247.878722</td>\n",
       "    </tr>\n",
       "    <tr>\n",
       "      <th>1</th>\n",
       "      <td>0.282202</td>\n",
       "      <td>0.014399</td>\n",
       "      <td>(DecisionTreeRegressor(criterion='mse', max_de...</td>\n",
       "      <td>-639.362976</td>\n",
       "      <td>-222.719568</td>\n",
       "    </tr>\n",
       "    <tr>\n",
       "      <th>2</th>\n",
       "      <td>0.288726</td>\n",
       "      <td>0.014874</td>\n",
       "      <td>(DecisionTreeRegressor(criterion='mse', max_de...</td>\n",
       "      <td>-639.006226</td>\n",
       "      <td>-225.679533</td>\n",
       "    </tr>\n",
       "  </tbody>\n",
       "</table>\n",
       "</div>"
      ],
      "text/plain": [
       "   fit_time  score_time                                          estimator  \\\n",
       "0  0.337283    0.016486  (DecisionTreeRegressor(criterion='mse', max_de...   \n",
       "1  0.282202    0.014399  (DecisionTreeRegressor(criterion='mse', max_de...   \n",
       "2  0.288726    0.014874  (DecisionTreeRegressor(criterion='mse', max_de...   \n",
       "\n",
       "   test_score  train_score  \n",
       "0 -560.114545  -247.878722  \n",
       "1 -639.362976  -222.719568  \n",
       "2 -639.006226  -225.679533  "
      ]
     },
     "execution_count": 48,
     "metadata": {},
     "output_type": "execute_result"
    }
   ],
   "source": [
    "from sklearn.ensemble import RandomForestRegressor\n",
    "\n",
    "model = RandomForestRegressor(n_estimators=100, max_depth=20)\n",
    "\n",
    "scores = cross_validate(model, X_train, y_train,\n",
    "                       scoring='neg_mean_absolute_error',\n",
    "                       cv=3, return_train_score=True,\n",
    "                       return_estimator=True)\n",
    "pd.DataFrame(scores)"
   ]
  },
  {
   "cell_type": "code",
   "execution_count": 50,
   "metadata": {},
   "outputs": [
    {
     "data": {
      "text/plain": [
       "-612.8279160225942"
      ]
     },
     "execution_count": 50,
     "metadata": {},
     "output_type": "execute_result"
    }
   ],
   "source": [
    "scores['test_score'].mean()"
   ]
  },
  {
   "cell_type": "markdown",
   "metadata": {
    "colab_type": "text",
    "id": "vofwgIpSweEb"
   },
   "source": [
    "### Validation Curve (with Random Forest)"
   ]
  },
  {
   "cell_type": "code",
   "execution_count": 51,
   "metadata": {
    "colab": {},
    "colab_type": "code",
    "id": "apKk4vKiwgtM"
   },
   "outputs": [
    {
     "data": {
      "image/png": "[encoded data removed]",
      "text/plain": [
       "<Figure size 432x288 with 1 Axes>"
      ]
     },
     "metadata": {
      "needs_background": "light"
     },
     "output_type": "display_data"
    }
   ],
   "source": [
    "# Modified from cell 13 at\n",
    "# https://jakevdp.github.io/PythonDataScienceHandbook/05.03-hyperparameters-and-model-validation.html#Validation-curves-in-Scikit-Learn\n",
    "\n",
    "%matplotlib inline\n",
    "import matplotlib.pyplot as plt\n",
    "from sklearn.model_selection import validation_curve\n",
    "\n",
    "model = RandomForestRegressor(n_estimators=100)\n",
    "\n",
    "depth = [2, 3, 4, 5, 6]\n",
    "train_score, val_score = validation_curve(\n",
    "    model, X_train, y_train,\n",
    "    param_name='max_depth', param_range=depth, \n",
    "    scoring='neg_mean_absolute_error', cv=3)\n",
    "\n",
    "plt.plot(depth, np.median(train_score, 1), color='blue', label='training score')\n",
    "plt.plot(depth, np.median(val_score, 1), color='red', label='validation score')\n",
    "plt.legend(loc='best')\n",
    "plt.xlabel('depth');"
   ]
  },
  {
   "cell_type": "markdown",
   "metadata": {
    "colab_type": "text",
    "id": "DQoMvZ7-yCAQ"
   },
   "source": [
    "### Grid Search (with Random Forest)"
   ]
  },
  {
   "cell_type": "code",
   "execution_count": 53,
   "metadata": {
    "colab": {},
    "colab_type": "code",
    "id": "bk_dX_mByKm7"
   },
   "outputs": [
    {
     "name": "stdout",
     "output_type": "stream",
     "text": [
      "Fitting 3 folds for each of 8 candidates, totalling 24 fits\n",
      "[CV] criterion=mse, max_depth=4, n_estimators=100 ....................\n"
     ]
    },
    {
     "name": "stderr",
     "output_type": "stream",
     "text": [
      "[Parallel(n_jobs=1)]: Using backend SequentialBackend with 1 concurrent workers.\n"
     ]
    },
    {
     "name": "stdout",
     "output_type": "stream",
     "text": [
      "[CV]  criterion=mse, max_depth=4, n_estimators=100, score=-553.4565491797731, total=   0.2s\n",
      "[CV] criterion=mse, max_depth=4, n_estimators=100 ....................\n",
      "[CV]  criterion=mse, max_depth=4, n_estimators=100, score=-642.3874635887863, total=   0.2s\n",
      "[CV] criterion=mse, max_depth=4, n_estimators=100 ....................\n"
     ]
    },
    {
     "name": "stderr",
     "output_type": "stream",
     "text": [
      "[Parallel(n_jobs=1)]: Done   1 out of   1 | elapsed:    0.2s remaining:    0.0s\n",
      "[Parallel(n_jobs=1)]: Done   2 out of   2 | elapsed:    0.4s remaining:    0.0s\n"
     ]
    },
    {
     "name": "stdout",
     "output_type": "stream",
     "text": [
      "[CV]  criterion=mse, max_depth=4, n_estimators=100, score=-626.3061990003621, total=   0.2s\n",
      "[CV] criterion=mse, max_depth=4, n_estimators=200 ....................\n"
     ]
    },
    {
     "name": "stderr",
     "output_type": "stream",
     "text": [
      "[Parallel(n_jobs=1)]: Done   3 out of   3 | elapsed:    0.6s remaining:    0.0s\n"
     ]
    },
    {
     "name": "stdout",
     "output_type": "stream",
     "text": [
      "[CV]  criterion=mse, max_depth=4, n_estimators=200, score=-550.8200594649268, total=   0.3s\n",
      "[CV] criterion=mse, max_depth=4, n_estimators=200 ....................\n"
     ]
    },
    {
     "name": "stderr",
     "output_type": "stream",
     "text": [
      "[Parallel(n_jobs=1)]: Done   4 out of   4 | elapsed:    1.0s remaining:    0.0s\n"
     ]
    },
    {
     "name": "stdout",
     "output_type": "stream",
     "text": [
      "[CV]  criterion=mse, max_depth=4, n_estimators=200, score=-641.1974878357842, total=   0.3s\n",
      "[CV] criterion=mse, max_depth=4, n_estimators=200 ....................\n"
     ]
    },
    {
     "name": "stderr",
     "output_type": "stream",
     "text": [
      "[Parallel(n_jobs=1)]: Done   5 out of   5 | elapsed:    1.4s remaining:    0.0s\n"
     ]
    },
    {
     "name": "stdout",
     "output_type": "stream",
     "text": [
      "[CV]  criterion=mse, max_depth=4, n_estimators=200, score=-623.7843184381495, total=   0.4s\n",
      "[CV] criterion=mse, max_depth=5, n_estimators=100 ....................\n",
      "[CV]  criterion=mse, max_depth=5, n_estimators=100, score=-541.4504390905468, total=   0.2s\n",
      "[CV] criterion=mse, max_depth=5, n_estimators=100 ....................\n"
     ]
    },
    {
     "name": "stderr",
     "output_type": "stream",
     "text": [
      "[Parallel(n_jobs=1)]: Done   6 out of   6 | elapsed:    1.7s remaining:    0.0s\n",
      "[Parallel(n_jobs=1)]: Done   7 out of   7 | elapsed:    1.9s remaining:    0.0s\n"
     ]
    },
    {
     "name": "stdout",
     "output_type": "stream",
     "text": [
      "[CV]  criterion=mse, max_depth=5, n_estimators=100, score=-636.8694613903333, total=   0.2s\n",
      "[CV] criterion=mse, max_depth=5, n_estimators=100 ....................\n",
      "[CV]  criterion=mse, max_depth=5, n_estimators=100, score=-629.8349525479217, total=   0.2s\n",
      "[CV] criterion=mse, max_depth=5, n_estimators=200 ....................\n"
     ]
    },
    {
     "name": "stderr",
     "output_type": "stream",
     "text": [
      "[Parallel(n_jobs=1)]: Done   8 out of   8 | elapsed:    2.1s remaining:    0.0s\n",
      "[Parallel(n_jobs=1)]: Done   9 out of   9 | elapsed:    2.3s remaining:    0.0s\n"
     ]
    },
    {
     "name": "stdout",
     "output_type": "stream",
     "text": [
      "[CV]  criterion=mse, max_depth=5, n_estimators=200, score=-544.4331700864603, total=   0.4s\n",
      "[CV] criterion=mse, max_depth=5, n_estimators=200 ....................\n",
      "[CV]  criterion=mse, max_depth=5, n_estimators=200, score=-638.2422629263306, total=   0.4s\n",
      "[CV] criterion=mse, max_depth=5, n_estimators=200 ....................\n",
      "[CV]  criterion=mse, max_depth=5, n_estimators=200, score=-626.0790779969573, total=   0.4s\n",
      "[CV] criterion=mae, max_depth=4, n_estimators=100 ....................\n",
      "[CV]  criterion=mae, max_depth=4, n_estimators=100, score=-543.3381464174455, total=   1.2s\n",
      "[CV] criterion=mae, max_depth=4, n_estimators=100 ....................\n",
      "[CV]  criterion=mae, max_depth=4, n_estimators=100, score=-634.1614641744547, total=   1.2s\n",
      "[CV] criterion=mae, max_depth=4, n_estimators=100 ....................\n",
      "[CV]  criterion=mae, max_depth=4, n_estimators=100, score=-617.0409190031153, total=   1.1s\n",
      "[CV] criterion=mae, max_depth=4, n_estimators=200 ....................\n",
      "[CV]  criterion=mae, max_depth=4, n_estimators=200, score=-545.2331152647976, total=   2.3s\n",
      "[CV] criterion=mae, max_depth=4, n_estimators=200 ....................\n",
      "[CV]  criterion=mae, max_depth=4, n_estimators=200, score=-637.2551947040498, total=   2.2s\n",
      "[CV] criterion=mae, max_depth=4, n_estimators=200 ....................\n",
      "[CV]  criterion=mae, max_depth=4, n_estimators=200, score=-613.6000700934579, total=   2.3s\n",
      "[CV] criterion=mae, max_depth=5, n_estimators=100 ....................\n",
      "[CV]  criterion=mae, max_depth=5, n_estimators=100, score=-541.0820560747663, total=   1.3s\n",
      "[CV] criterion=mae, max_depth=5, n_estimators=100 ....................\n",
      "[CV]  criterion=mae, max_depth=5, n_estimators=100, score=-639.0866043613706, total=   1.2s\n",
      "[CV] criterion=mae, max_depth=5, n_estimators=100 ....................\n",
      "[CV]  criterion=mae, max_depth=5, n_estimators=100, score=-611.8301090342678, total=   1.3s\n",
      "[CV] criterion=mae, max_depth=5, n_estimators=200 ....................\n",
      "[CV]  criterion=mae, max_depth=5, n_estimators=200, score=-537.7241121495327, total=   2.6s\n",
      "[CV] criterion=mae, max_depth=5, n_estimators=200 ....................\n",
      "[CV]  criterion=mae, max_depth=5, n_estimators=200, score=-637.2794392523365, total=   2.4s\n",
      "[CV] criterion=mae, max_depth=5, n_estimators=200 ....................\n",
      "[CV]  criterion=mae, max_depth=5, n_estimators=200, score=-611.7120638629284, total=   2.5s\n"
     ]
    },
    {
     "name": "stderr",
     "output_type": "stream",
     "text": [
      "[Parallel(n_jobs=1)]: Done  24 out of  24 | elapsed:   25.3s finished\n"
     ]
    },
    {
     "name": "stdout",
     "output_type": "stream",
     "text": [
      "CPU times: user 28.4 s, sys: 570 ms, total: 28.9 s\n",
      "Wall time: 29.8 s\n"
     ]
    }
   ],
   "source": [
    "%%time\n",
    "\n",
    "param_grid = {\n",
    "    'n_estimators':[100,200],\n",
    "    'max_depth':[4,5],\n",
    "    'criterion':['mse','mae']\n",
    "}\n",
    "\n",
    "gridsearch = GridSearchCV(RandomForestRegressor(), param_grid=param_grid,\n",
    "                         scoring='neg_mean_absolute_error', cv=3,\n",
    "                         return_train_score=True, verbose=10)\n",
    "gridsearch.fit(X_train,y_train)"
   ]
  },
  {
   "cell_type": "code",
   "execution_count": 54,
   "metadata": {},
   "outputs": [
    {
     "name": "stdout",
     "output_type": "stream",
     "text": [
      "Best result from grid search of 8 parameter combinations\n"
     ]
    },
    {
     "data": {
      "text/html": [
       "<div>\n",
       "<style scoped>\n",
       "    .dataframe tbody tr th:only-of-type {\n",
       "        vertical-align: middle;\n",
       "    }\n",
       "\n",
       "    .dataframe tbody tr th {\n",
       "        vertical-align: top;\n",
       "    }\n",
       "\n",
       "    .dataframe thead th {\n",
       "        text-align: right;\n",
       "    }\n",
       "</style>\n",
       "<table border=\"1\" class=\"dataframe\">\n",
       "  <thead>\n",
       "    <tr style=\"text-align: right;\">\n",
       "      <th></th>\n",
       "      <th>mean_fit_time</th>\n",
       "      <th>std_fit_time</th>\n",
       "      <th>mean_score_time</th>\n",
       "      <th>std_score_time</th>\n",
       "      <th>param_criterion</th>\n",
       "      <th>param_max_depth</th>\n",
       "      <th>param_n_estimators</th>\n",
       "      <th>params</th>\n",
       "      <th>split0_test_score</th>\n",
       "      <th>split1_test_score</th>\n",
       "      <th>split2_test_score</th>\n",
       "      <th>mean_test_score</th>\n",
       "      <th>std_test_score</th>\n",
       "      <th>rank_test_score</th>\n",
       "      <th>split0_train_score</th>\n",
       "      <th>split1_train_score</th>\n",
       "      <th>split2_train_score</th>\n",
       "      <th>mean_train_score</th>\n",
       "      <th>std_train_score</th>\n",
       "    </tr>\n",
       "  </thead>\n",
       "  <tbody>\n",
       "    <tr>\n",
       "      <th>7</th>\n",
       "      <td>2.498138</td>\n",
       "      <td>0.088809</td>\n",
       "      <td>0.01934</td>\n",
       "      <td>0.001241</td>\n",
       "      <td>mae</td>\n",
       "      <td>5</td>\n",
       "      <td>200</td>\n",
       "      <td>{'criterion': 'mae', 'max_depth': 5, 'n_estima...</td>\n",
       "      <td>-537.724112</td>\n",
       "      <td>-637.279439</td>\n",
       "      <td>-611.712064</td>\n",
       "      <td>-595.571872</td>\n",
       "      <td>42.215283</td>\n",
       "      <td>1</td>\n",
       "      <td>-516.304143</td>\n",
       "      <td>-474.442348</td>\n",
       "      <td>-484.807243</td>\n",
       "      <td>-491.851245</td>\n",
       "      <td>17.801048</td>\n",
       "    </tr>\n",
       "  </tbody>\n",
       "</table>\n",
       "</div>"
      ],
      "text/plain": [
       "   mean_fit_time  std_fit_time  mean_score_time  std_score_time  \\\n",
       "7       2.498138      0.088809          0.01934        0.001241   \n",
       "\n",
       "  param_criterion param_max_depth param_n_estimators  \\\n",
       "7             mae               5                200   \n",
       "\n",
       "                                              params  split0_test_score  \\\n",
       "7  {'criterion': 'mae', 'max_depth': 5, 'n_estima...        -537.724112   \n",
       "\n",
       "   split1_test_score  split2_test_score  mean_test_score  std_test_score  \\\n",
       "7        -637.279439        -611.712064      -595.571872       42.215283   \n",
       "\n",
       "   rank_test_score  split0_train_score  split1_train_score  \\\n",
       "7                1         -516.304143         -474.442348   \n",
       "\n",
       "   split2_train_score  mean_train_score  std_train_score  \n",
       "7         -484.807243       -491.851245        17.801048  "
      ]
     },
     "execution_count": 54,
     "metadata": {},
     "output_type": "execute_result"
    }
   ],
   "source": [
    "results= pd.DataFrame(gridsearch.cv_results_)\n",
    "print(f'Best result from grid search of {len(results)} parameter combinations')\n",
    "results.sort_values(by='rank_test_score').head(1)"
   ]
  },
  {
   "cell_type": "markdown",
   "metadata": {
    "colab_type": "text",
    "id": "ZW5HfYtU0GW2"
   },
   "source": [
    "## FEATURE ENGINEERING!"
   ]
  },
  {
   "cell_type": "markdown",
   "metadata": {
    "colab_type": "text",
    "id": "0ms-eoOHFvPG"
   },
   "source": [
    "Jake VanderPlas demonstrates this feature engineering: \n",
    "https://jakevdp.github.io/PythonDataScienceHandbook/05.06-linear-regression.html#Example:-Predicting-Bicycle-Traffic"
   ]
  },
  {
   "cell_type": "code",
   "execution_count": 55,
   "metadata": {
    "colab": {},
    "colab_type": "code",
    "id": "sEwME8wR3A5g"
   },
   "outputs": [],
   "source": [
    "# Modified from code cells 17-21 at\n",
    "# https://jakevdp.github.io/PythonDataScienceHandbook/05.06-linear-regression.html#Example:-Predicting-Bicycle-Traffic\n",
    "\n",
    "\n",
    "# patterns of use generally vary from day to day; \n",
    "# let's add binary columns that indicate the day of the week:\n",
    "days = ['Mon', 'Tue', 'Wed', 'Thu', 'Fri', 'Sat', 'Sun']\n",
    "for i, day in enumerate(days):\n",
    "    X_train[day] = (X_train.index.dayofweek == i).astype(float)\n",
    "\n",
    "\n",
    "    \n",
    "# we might expect riders to behave differently on holidays; \n",
    "# let's add an indicator of this as well:\n",
    "from pandas.tseries.holiday import USFederalHolidayCalendar\n",
    "cal = USFederalHolidayCalendar()\n",
    "holidays = cal.holidays('2012', '2016')\n",
    "X_train = X_train.join(pd.Series(1, index=holidays, name='holiday'))\n",
    "X_train['holiday'].fillna(0, inplace=True)\n",
    "\n",
    "\n",
    "\n",
    "# We also might suspect that the hours of daylight would affect \n",
    "# how many people ride; let's use the standard astronomical calculation \n",
    "# to add this information:\n",
    "def hours_of_daylight(date, axis=23.44, latitude=47.61):\n",
    "    \"\"\"Compute the hours of daylight for the given date\"\"\"\n",
    "    days = (date - pd.datetime(2000, 12, 21)).days\n",
    "    m = (1. - np.tan(np.radians(latitude))\n",
    "         * np.tan(np.radians(axis) * np.cos(days * 2 * np.pi / 365.25)))\n",
    "    return 24. * np.degrees(np.arccos(1 - np.clip(m, 0, 2))) / 180.\n",
    "\n",
    "X_train['daylight_hrs'] = list(map(hours_of_daylight, X_train.index))\n",
    "\n",
    "\n",
    "\n",
    "# temperatures are in 1/10 deg C; convert to C\n",
    "X_train['TMIN'] /= 10\n",
    "X_train['TMAX'] /= 10\n",
    "\n",
    "# We can also calcuate the average temperature.\n",
    "X_train['Temp (C)'] = 0.5 * (X_train['TMIN'] + X_train['TMAX'])\n",
    "\n",
    "\n",
    "\n",
    "# precip is in 1/10 mm; convert to inches\n",
    "X_train['PRCP'] /= 254\n",
    "\n",
    "# In addition to the inches of precipitation, let's add a flag that \n",
    "# indicates whether a day is dry (has zero precipitation):\n",
    "X_train['dry day'] = (X_train['PRCP'] == 0).astype(int)\n",
    "\n",
    "\n",
    "\n",
    "# Let's add a counter that increases from day 1, and measures how many \n",
    "# years have passed. This will let us measure any observed annual increase \n",
    "# or decrease in daily crossings:\n",
    "X_train['annual'] = (X_train.index - X_train.index[0]).days / 365."
   ]
  },
  {
   "cell_type": "markdown",
   "metadata": {
    "colab_type": "text",
    "id": "dDGkAv813Wtj"
   },
   "source": [
    "### Linear Regression (with new features)"
   ]
  },
  {
   "cell_type": "code",
   "execution_count": 56,
   "metadata": {
    "colab": {},
    "colab_type": "code",
    "id": "cj3HTM6p5F1A"
   },
   "outputs": [
    {
     "data": {
      "text/html": [
       "<div>\n",
       "<style scoped>\n",
       "    .dataframe tbody tr th:only-of-type {\n",
       "        vertical-align: middle;\n",
       "    }\n",
       "\n",
       "    .dataframe tbody tr th {\n",
       "        vertical-align: top;\n",
       "    }\n",
       "\n",
       "    .dataframe thead th {\n",
       "        text-align: right;\n",
       "    }\n",
       "</style>\n",
       "<table border=\"1\" class=\"dataframe\">\n",
       "  <thead>\n",
       "    <tr style=\"text-align: right;\">\n",
       "      <th></th>\n",
       "      <th>fit_time</th>\n",
       "      <th>score_time</th>\n",
       "      <th>estimator</th>\n",
       "      <th>test_score</th>\n",
       "      <th>train_score</th>\n",
       "    </tr>\n",
       "  </thead>\n",
       "  <tbody>\n",
       "    <tr>\n",
       "      <th>0</th>\n",
       "      <td>0.012560</td>\n",
       "      <td>0.001987</td>\n",
       "      <td>LinearRegression(copy_X=True, fit_intercept=Tr...</td>\n",
       "      <td>-297.692524</td>\n",
       "      <td>-294.532315</td>\n",
       "    </tr>\n",
       "    <tr>\n",
       "      <th>1</th>\n",
       "      <td>0.006747</td>\n",
       "      <td>0.003062</td>\n",
       "      <td>LinearRegression(copy_X=True, fit_intercept=Tr...</td>\n",
       "      <td>-300.419037</td>\n",
       "      <td>-283.779461</td>\n",
       "    </tr>\n",
       "    <tr>\n",
       "      <th>2</th>\n",
       "      <td>0.004401</td>\n",
       "      <td>0.003966</td>\n",
       "      <td>LinearRegression(copy_X=True, fit_intercept=Tr...</td>\n",
       "      <td>-322.640378</td>\n",
       "      <td>-283.509114</td>\n",
       "    </tr>\n",
       "  </tbody>\n",
       "</table>\n",
       "</div>"
      ],
      "text/plain": [
       "   fit_time  score_time                                          estimator  \\\n",
       "0  0.012560    0.001987  LinearRegression(copy_X=True, fit_intercept=Tr...   \n",
       "1  0.006747    0.003062  LinearRegression(copy_X=True, fit_intercept=Tr...   \n",
       "2  0.004401    0.003966  LinearRegression(copy_X=True, fit_intercept=Tr...   \n",
       "\n",
       "   test_score  train_score  \n",
       "0 -297.692524  -294.532315  \n",
       "1 -300.419037  -283.779461  \n",
       "2 -322.640378  -283.509114  "
      ]
     },
     "execution_count": 56,
     "metadata": {},
     "output_type": "execute_result"
    }
   ],
   "source": [
    "scores = cross_validate(LinearRegression(), X_train, y_train, \n",
    "                        scoring='neg_mean_absolute_error', cv=3, \n",
    "                        return_train_score=True, return_estimator=True)\n",
    "\n",
    "pd.DataFrame(scores)"
   ]
  },
  {
   "cell_type": "code",
   "execution_count": 71,
   "metadata": {},
   "outputs": [
    {
     "data": {
      "text/plain": [
       "-306.9173130794427"
      ]
     },
     "execution_count": 71,
     "metadata": {},
     "output_type": "execute_result"
    }
   ],
   "source": [
    "scores['test_score'].mean()"
   ]
  },
  {
   "cell_type": "markdown",
   "metadata": {},
   "source": [
    "The mean test (validation) score went down by half!"
   ]
  },
  {
   "cell_type": "markdown",
   "metadata": {
    "colab_type": "text",
    "id": "b6zxN2xB3bX_"
   },
   "source": [
    "### Random Forest (with new features)"
   ]
  },
  {
   "cell_type": "code",
   "execution_count": 74,
   "metadata": {
    "colab": {},
    "colab_type": "code",
    "id": "3sWUDZIz1-kk"
   },
   "outputs": [
    {
     "name": "stdout",
     "output_type": "stream",
     "text": [
      "Fitting 3 folds for each of 6 candidates, totalling 18 fits\n",
      "[CV] criterion=mae, max_depth=5, n_estimators=100 ....................\n"
     ]
    },
    {
     "name": "stderr",
     "output_type": "stream",
     "text": [
      "[Parallel(n_jobs=1)]: Using backend SequentialBackend with 1 concurrent workers.\n"
     ]
    },
    {
     "name": "stdout",
     "output_type": "stream",
     "text": [
      "[CV]  criterion=mae, max_depth=5, n_estimators=100, score=-354.0012149532711, total=   2.2s\n",
      "[CV] criterion=mae, max_depth=5, n_estimators=100 ....................\n"
     ]
    },
    {
     "name": "stderr",
     "output_type": "stream",
     "text": [
      "[Parallel(n_jobs=1)]: Done   1 out of   1 | elapsed:    2.2s remaining:    0.0s\n"
     ]
    },
    {
     "name": "stdout",
     "output_type": "stream",
     "text": [
      "[CV]  criterion=mae, max_depth=5, n_estimators=100, score=-384.3813862928349, total=   2.0s\n",
      "[CV] criterion=mae, max_depth=5, n_estimators=100 ....................\n"
     ]
    },
    {
     "name": "stderr",
     "output_type": "stream",
     "text": [
      "[Parallel(n_jobs=1)]: Done   2 out of   2 | elapsed:    4.2s remaining:    0.0s\n"
     ]
    },
    {
     "name": "stdout",
     "output_type": "stream",
     "text": [
      "[CV]  criterion=mae, max_depth=5, n_estimators=100, score=-340.6088785046728, total=   2.1s\n",
      "[CV] criterion=mae, max_depth=5, n_estimators=200 ....................\n"
     ]
    },
    {
     "name": "stderr",
     "output_type": "stream",
     "text": [
      "[Parallel(n_jobs=1)]: Done   3 out of   3 | elapsed:    6.2s remaining:    0.0s\n"
     ]
    },
    {
     "name": "stdout",
     "output_type": "stream",
     "text": [
      "[CV]  criterion=mae, max_depth=5, n_estimators=200, score=-353.8059813084112, total=   4.4s\n",
      "[CV] criterion=mae, max_depth=5, n_estimators=200 ....................\n"
     ]
    },
    {
     "name": "stderr",
     "output_type": "stream",
     "text": [
      "[Parallel(n_jobs=1)]: Done   4 out of   4 | elapsed:   10.6s remaining:    0.0s\n"
     ]
    },
    {
     "name": "stdout",
     "output_type": "stream",
     "text": [
      "[CV]  criterion=mae, max_depth=5, n_estimators=200, score=-382.6043769470405, total=   4.4s\n",
      "[CV] criterion=mae, max_depth=5, n_estimators=200 ....................\n"
     ]
    },
    {
     "name": "stderr",
     "output_type": "stream",
     "text": [
      "[Parallel(n_jobs=1)]: Done   5 out of   5 | elapsed:   15.0s remaining:    0.0s\n"
     ]
    },
    {
     "name": "stdout",
     "output_type": "stream",
     "text": [
      "[CV]  criterion=mae, max_depth=5, n_estimators=200, score=-339.97579439252337, total=   4.4s\n",
      "[CV] criterion=mae, max_depth=10, n_estimators=100 ...................\n"
     ]
    },
    {
     "name": "stderr",
     "output_type": "stream",
     "text": [
      "[Parallel(n_jobs=1)]: Done   6 out of   6 | elapsed:   19.4s remaining:    0.0s\n"
     ]
    },
    {
     "name": "stdout",
     "output_type": "stream",
     "text": [
      "[CV]  criterion=mae, max_depth=10, n_estimators=100, score=-359.43724299065417, total=   2.9s\n",
      "[CV] criterion=mae, max_depth=10, n_estimators=100 ...................\n"
     ]
    },
    {
     "name": "stderr",
     "output_type": "stream",
     "text": [
      "[Parallel(n_jobs=1)]: Done   7 out of   7 | elapsed:   22.3s remaining:    0.0s\n"
     ]
    },
    {
     "name": "stdout",
     "output_type": "stream",
     "text": [
      "[CV]  criterion=mae, max_depth=10, n_estimators=100, score=-327.35246105919003, total=   2.9s\n",
      "[CV] criterion=mae, max_depth=10, n_estimators=100 ...................\n"
     ]
    },
    {
     "name": "stderr",
     "output_type": "stream",
     "text": [
      "[Parallel(n_jobs=1)]: Done   8 out of   8 | elapsed:   25.2s remaining:    0.0s\n"
     ]
    },
    {
     "name": "stdout",
     "output_type": "stream",
     "text": [
      "[CV]  criterion=mae, max_depth=10, n_estimators=100, score=-295.34704049844237, total=   2.9s\n",
      "[CV] criterion=mae, max_depth=10, n_estimators=200 ...................\n"
     ]
    },
    {
     "name": "stderr",
     "output_type": "stream",
     "text": [
      "[Parallel(n_jobs=1)]: Done   9 out of   9 | elapsed:   28.1s remaining:    0.0s\n"
     ]
    },
    {
     "name": "stdout",
     "output_type": "stream",
     "text": [
      "[CV]  criterion=mae, max_depth=10, n_estimators=200, score=-345.23653426791276, total=   5.7s\n",
      "[CV] criterion=mae, max_depth=10, n_estimators=200 ...................\n",
      "[CV]  criterion=mae, max_depth=10, n_estimators=200, score=-323.40136292834893, total=   5.4s\n",
      "[CV] criterion=mae, max_depth=10, n_estimators=200 ...................\n",
      "[CV]  criterion=mae, max_depth=10, n_estimators=200, score=-302.9547741433022, total=   5.7s\n",
      "[CV] criterion=mae, max_depth=15, n_estimators=100 ...................\n",
      "[CV]  criterion=mae, max_depth=15, n_estimators=100, score=-354.79922118380057, total=   3.1s\n",
      "[CV] criterion=mae, max_depth=15, n_estimators=100 ...................\n",
      "[CV]  criterion=mae, max_depth=15, n_estimators=100, score=-326.3640965732087, total=   3.0s\n",
      "[CV] criterion=mae, max_depth=15, n_estimators=100 ...................\n",
      "[CV]  criterion=mae, max_depth=15, n_estimators=100, score=-318.19783489096574, total=   3.3s\n",
      "[CV] criterion=mae, max_depth=15, n_estimators=200 ...................\n",
      "[CV]  criterion=mae, max_depth=15, n_estimators=200, score=-347.08701713395635, total=   6.3s\n",
      "[CV] criterion=mae, max_depth=15, n_estimators=200 ...................\n",
      "[CV]  criterion=mae, max_depth=15, n_estimators=200, score=-321.06884735202493, total=   9.4s\n",
      "[CV] criterion=mae, max_depth=15, n_estimators=200 ...................\n",
      "[CV]  criterion=mae, max_depth=15, n_estimators=200, score=-301.45397975077884, total=  13.7s\n"
     ]
    },
    {
     "name": "stderr",
     "output_type": "stream",
     "text": [
      "[Parallel(n_jobs=1)]: Done  18 out of  18 | elapsed:  1.4min finished\n"
     ]
    },
    {
     "data": {
      "text/plain": [
       "GridSearchCV(cv=3, error_score='raise-deprecating',\n",
       "       estimator=RandomForestRegressor(bootstrap=True, criterion='mse', max_depth=None,\n",
       "           max_features='auto', max_leaf_nodes=None,\n",
       "           min_impurity_decrease=0.0, min_impurity_split=None,\n",
       "           min_samples_leaf=1, min_samples_split=2,\n",
       "           min_weight_fraction_leaf=0.0, n_estimators='warn', n_jobs=None,\n",
       "           oob_score=False, random_state=None, verbose=0, warm_start=False),\n",
       "       fit_params=None, iid='warn', n_jobs=None,\n",
       "       param_grid={'n_estimators': [100, 200], 'max_depth': [5, 10, 15], 'criterion': ['mae']},\n",
       "       pre_dispatch='2*n_jobs', refit=True, return_train_score=True,\n",
       "       scoring='neg_mean_absolute_error', verbose=10)"
      ]
     },
     "execution_count": 74,
     "metadata": {},
     "output_type": "execute_result"
    }
   ],
   "source": [
    "param_grid = {\n",
    "    'n_estimators':[100,200],\n",
    "    'max_depth':[5,10,15],\n",
    "    'criterion':['mae']\n",
    "}\n",
    "\n",
    "gridsearch = GridSearchCV(RandomForestRegressor(),\n",
    "                          param_grid=param_grid,\n",
    "                          scoring='neg_mean_absolute_error',\n",
    "                          cv=3, verbose=10,\n",
    "                          return_train_score=True)\n",
    "\n",
    "gridsearch.fit(X_train, y_train)"
   ]
  },
  {
   "cell_type": "code",
   "execution_count": 76,
   "metadata": {},
   "outputs": [
    {
     "name": "stdout",
     "output_type": "stream",
     "text": [
      "Best result from grid search of 6 parameter combinations\n"
     ]
    },
    {
     "data": {
      "text/html": [
       "<div>\n",
       "<style scoped>\n",
       "    .dataframe tbody tr th:only-of-type {\n",
       "        vertical-align: middle;\n",
       "    }\n",
       "\n",
       "    .dataframe tbody tr th {\n",
       "        vertical-align: top;\n",
       "    }\n",
       "\n",
       "    .dataframe thead th {\n",
       "        text-align: right;\n",
       "    }\n",
       "</style>\n",
       "<table border=\"1\" class=\"dataframe\">\n",
       "  <thead>\n",
       "    <tr style=\"text-align: right;\">\n",
       "      <th></th>\n",
       "      <th>mean_fit_time</th>\n",
       "      <th>std_fit_time</th>\n",
       "      <th>mean_score_time</th>\n",
       "      <th>std_score_time</th>\n",
       "      <th>param_criterion</th>\n",
       "      <th>param_max_depth</th>\n",
       "      <th>param_n_estimators</th>\n",
       "      <th>params</th>\n",
       "      <th>split0_test_score</th>\n",
       "      <th>split1_test_score</th>\n",
       "      <th>split2_test_score</th>\n",
       "      <th>mean_test_score</th>\n",
       "      <th>std_test_score</th>\n",
       "      <th>rank_test_score</th>\n",
       "      <th>split0_train_score</th>\n",
       "      <th>split1_train_score</th>\n",
       "      <th>split2_train_score</th>\n",
       "      <th>mean_train_score</th>\n",
       "      <th>std_train_score</th>\n",
       "    </tr>\n",
       "  </thead>\n",
       "  <tbody>\n",
       "    <tr>\n",
       "      <th>5</th>\n",
       "      <td>9.749068</td>\n",
       "      <td>3.037809</td>\n",
       "      <td>0.035213</td>\n",
       "      <td>0.015045</td>\n",
       "      <td>mae</td>\n",
       "      <td>15</td>\n",
       "      <td>200</td>\n",
       "      <td>{'criterion': 'mae', 'max_depth': 15, 'n_estim...</td>\n",
       "      <td>-347.087017</td>\n",
       "      <td>-321.068847</td>\n",
       "      <td>-301.45398</td>\n",
       "      <td>-323.203281</td>\n",
       "      <td>18.690646</td>\n",
       "      <td>1</td>\n",
       "      <td>-110.282555</td>\n",
       "      <td>-102.700623</td>\n",
       "      <td>-114.355868</td>\n",
       "      <td>-109.113015</td>\n",
       "      <td>4.829565</td>\n",
       "    </tr>\n",
       "  </tbody>\n",
       "</table>\n",
       "</div>"
      ],
      "text/plain": [
       "   mean_fit_time  std_fit_time  mean_score_time  std_score_time  \\\n",
       "5       9.749068      3.037809         0.035213        0.015045   \n",
       "\n",
       "  param_criterion param_max_depth param_n_estimators  \\\n",
       "5             mae              15                200   \n",
       "\n",
       "                                              params  split0_test_score  \\\n",
       "5  {'criterion': 'mae', 'max_depth': 15, 'n_estim...        -347.087017   \n",
       "\n",
       "   split1_test_score  split2_test_score  mean_test_score  std_test_score  \\\n",
       "5        -321.068847         -301.45398      -323.203281       18.690646   \n",
       "\n",
       "   rank_test_score  split0_train_score  split1_train_score  \\\n",
       "5                1         -110.282555         -102.700623   \n",
       "\n",
       "   split2_train_score  mean_train_score  std_train_score  \n",
       "5         -114.355868       -109.113015         4.829565  "
      ]
     },
     "execution_count": 76,
     "metadata": {},
     "output_type": "execute_result"
    }
   ],
   "source": [
    "results= pd.DataFrame(gridsearch.cv_results_)\n",
    "print(f'Best result from grid search of {len(results)} parameter combinations')\n",
    "results.sort_values(by='rank_test_score').head(1)"
   ]
  },
  {
   "cell_type": "code",
   "execution_count": 82,
   "metadata": {},
   "outputs": [
    {
     "data": {
      "text/plain": [
       "-323.2032814122534"
      ]
     },
     "execution_count": 82,
     "metadata": {},
     "output_type": "execute_result"
    }
   ],
   "source": [
    "results['mean_test_score'].max()"
   ]
  },
  {
   "cell_type": "markdown",
   "metadata": {
    "colab_type": "text",
    "id": "0QEBUVR13kcb"
   },
   "source": [
    "### Ridge Regression (with new features)\n",
    "\n",
    "https://scikit-learn.org/stable/modules/generated/sklearn.linear_model.Ridge.html"
   ]
  },
  {
   "cell_type": "code",
   "execution_count": 104,
   "metadata": {
    "colab": {},
    "colab_type": "code",
    "id": "4voLbIxU8r6r"
   },
   "outputs": [
    {
     "data": {
      "text/plain": [
       "GridSearchCV(cv=3, error_score='raise-deprecating',\n",
       "       estimator=Ridge(alpha=1.0, copy_X=True, fit_intercept=True, max_iter=None,\n",
       "   normalize=False, random_state=None, solver='auto', tol=0.001),\n",
       "       fit_params=None, iid='warn', n_jobs=None,\n",
       "       param_grid={'alpha': [0.1, 1, 10.0]}, pre_dispatch='2*n_jobs',\n",
       "       refit=True, return_train_score=True,\n",
       "       scoring='neg_mean_absolute_error', verbose=0)"
      ]
     },
     "execution_count": 104,
     "metadata": {},
     "output_type": "execute_result"
    }
   ],
   "source": [
    "from sklearn.linear_model import Ridge\n",
    "param_grid = {\n",
    "    'alpha':[0.1, 1, 10.]\n",
    "}\n",
    "\n",
    "gridsearch = GridSearchCV(Ridge(), param_grid=param_grid,\n",
    "                         scoring='neg_mean_absolute_error', cv=3,\n",
    "                         return_train_score=True)\n",
    "gridsearch.fit(X_train,y_train)"
   ]
  },
  {
   "cell_type": "code",
   "execution_count": 105,
   "metadata": {},
   "outputs": [
    {
     "data": {
      "text/plain": [
       "{'alpha': 1}"
      ]
     },
     "execution_count": 105,
     "metadata": {},
     "output_type": "execute_result"
    }
   ],
   "source": [
    "gridsearch.best_params_"
   ]
  },
  {
   "cell_type": "code",
   "execution_count": 106,
   "metadata": {},
   "outputs": [
    {
     "name": "stdout",
     "output_type": "stream",
     "text": [
      "Best model from grid search cross validation\n",
      "\n",
      "Best parameters {'alpha': 1}\n",
      "\n",
      "Intercept 33.7417795707961\n",
      "\n",
      "-553.070741                PRCP\n",
      "-0.002829                  SNOW\n",
      "-1.877519                  SNWD\n",
      " 63.833062                 TMAX\n",
      "-37.450291                 TMIN\n",
      "-1.900084                  AWND\n",
      " 0.296029       Total_yesterday\n",
      " 779.221395                 Mon\n",
      " 432.700039                 Tue\n",
      " 368.367626                 Wed\n",
      " 274.054021                 Thu\n",
      " 47.251356                  Fri\n",
      "-1099.692199                Sat\n",
      "-801.902237                 Sun\n",
      "-939.301546             holiday\n",
      " 70.256463         daylight_hrs\n",
      " 13.191386             Temp (C)\n",
      " 298.475434             dry day\n",
      " 44.518889               annual\n",
      "dtype: object\n"
     ]
    }
   ],
   "source": [
    "model = gridsearch.best_estimator_\n",
    "coefficients = model.coef_\n",
    "intercept = model.intercept_\n",
    "feature_names = X_train.columns\n",
    "\n",
    "print('Best model from grid search cross validation\\n')\n",
    "print(f'Best parameters {gridsearch.best_params_}\\n')\n",
    "print(f'Intercept {intercept}\\n')\n",
    "print(pd.Series(feature_names, coefficients))"
   ]
  },
  {
   "cell_type": "code",
   "execution_count": 107,
   "metadata": {},
   "outputs": [],
   "source": [
    "# And what are the predictions from that model?\n",
    "y_pred = model.predict(X_train)"
   ]
  },
  {
   "cell_type": "code",
   "execution_count": 108,
   "metadata": {},
   "outputs": [
    {
     "name": "stdout",
     "output_type": "stream",
     "text": [
      "Best result from grid search of 3 parameter combinations\n"
     ]
    },
    {
     "data": {
      "text/html": [
       "<div>\n",
       "<style scoped>\n",
       "    .dataframe tbody tr th:only-of-type {\n",
       "        vertical-align: middle;\n",
       "    }\n",
       "\n",
       "    .dataframe tbody tr th {\n",
       "        vertical-align: top;\n",
       "    }\n",
       "\n",
       "    .dataframe thead th {\n",
       "        text-align: right;\n",
       "    }\n",
       "</style>\n",
       "<table border=\"1\" class=\"dataframe\">\n",
       "  <thead>\n",
       "    <tr style=\"text-align: right;\">\n",
       "      <th></th>\n",
       "      <th>mean_fit_time</th>\n",
       "      <th>std_fit_time</th>\n",
       "      <th>mean_score_time</th>\n",
       "      <th>std_score_time</th>\n",
       "      <th>param_alpha</th>\n",
       "      <th>params</th>\n",
       "      <th>split0_test_score</th>\n",
       "      <th>split1_test_score</th>\n",
       "      <th>split2_test_score</th>\n",
       "      <th>mean_test_score</th>\n",
       "      <th>std_test_score</th>\n",
       "      <th>rank_test_score</th>\n",
       "      <th>split0_train_score</th>\n",
       "      <th>split1_train_score</th>\n",
       "      <th>split2_train_score</th>\n",
       "      <th>mean_train_score</th>\n",
       "      <th>std_train_score</th>\n",
       "    </tr>\n",
       "  </thead>\n",
       "  <tbody>\n",
       "    <tr>\n",
       "      <th>1</th>\n",
       "      <td>0.003276</td>\n",
       "      <td>0.000473</td>\n",
       "      <td>0.00148</td>\n",
       "      <td>0.000469</td>\n",
       "      <td>1</td>\n",
       "      <td>{'alpha': 1}</td>\n",
       "      <td>-295.097222</td>\n",
       "      <td>-301.453949</td>\n",
       "      <td>-322.891834</td>\n",
       "      <td>-306.481001</td>\n",
       "      <td>11.890853</td>\n",
       "      <td>1</td>\n",
       "      <td>-294.519125</td>\n",
       "      <td>-283.740595</td>\n",
       "      <td>-283.291836</td>\n",
       "      <td>-287.183852</td>\n",
       "      <td>5.190056</td>\n",
       "    </tr>\n",
       "  </tbody>\n",
       "</table>\n",
       "</div>"
      ],
      "text/plain": [
       "   mean_fit_time  std_fit_time  mean_score_time  std_score_time param_alpha  \\\n",
       "1       0.003276      0.000473          0.00148        0.000469           1   \n",
       "\n",
       "         params  split0_test_score  split1_test_score  split2_test_score  \\\n",
       "1  {'alpha': 1}        -295.097222        -301.453949        -322.891834   \n",
       "\n",
       "   mean_test_score  std_test_score  rank_test_score  split0_train_score  \\\n",
       "1      -306.481001       11.890853                1         -294.519125   \n",
       "\n",
       "   split1_train_score  split2_train_score  mean_train_score  std_train_score  \n",
       "1         -283.740595         -283.291836       -287.183852         5.190056  "
      ]
     },
     "execution_count": 108,
     "metadata": {},
     "output_type": "execute_result"
    }
   ],
   "source": [
    "results= pd.DataFrame(gridsearch.cv_results_)\n",
    "print(f'Best result from grid search of {len(results)} parameter combinations')\n",
    "results.sort_values(by='rank_test_score').head(1)"
   ]
  },
  {
   "cell_type": "code",
   "execution_count": 109,
   "metadata": {},
   "outputs": [
    {
     "data": {
      "text/plain": [
       "-306.4810014877903"
      ]
     },
     "execution_count": 109,
     "metadata": {},
     "output_type": "execute_result"
    }
   ],
   "source": [
    "results['mean_test_score'].max()"
   ]
  },
  {
   "cell_type": "markdown",
   "metadata": {
    "colab_type": "text",
    "id": "dofdwyTf3pm0"
   },
   "source": [
    "### Compare to statsmodels"
   ]
  },
  {
   "cell_type": "code",
   "execution_count": 93,
   "metadata": {
    "colab": {},
    "colab_type": "code",
    "id": "i-Qt4mDk_yBY"
   },
   "outputs": [
    {
     "data": {
      "text/plain": [
       "const              1435.965518\n",
       "PRCP               -560.385699\n",
       "SNOW                 -0.007529\n",
       "SNWD                 -1.466918\n",
       "TMAX                 73.833291\n",
       "TMIN                -28.821051\n",
       "AWND                 -2.111771\n",
       "Total_yesterday       0.300158\n",
       "Mon                -388.407337\n",
       "Tue                -744.230946\n",
       "Wed                -806.982905\n",
       "Thu                -901.266937\n",
       "Fri               -1130.474786\n",
       "Sat               -2285.193056\n",
       "Sun               -1980.093217\n",
       "holiday            -966.503629\n",
       "daylight_hrs         43.768697\n",
       "Temp (C)              1.627886\n",
       "dry day             302.897982\n",
       "annual               38.803984\n",
       "dtype: float64"
      ]
     },
     "execution_count": 93,
     "metadata": {},
     "output_type": "execute_result"
    }
   ],
   "source": [
    "import statsmodels.api as sm\n",
    "model = sm.OLS(y_train, sm.add_constant(X_train))\n",
    "model.fit_regularized(alpha=1).params"
   ]
  },
  {
   "cell_type": "markdown",
   "metadata": {},
   "source": [
    "`Statsmodels` produces very similar parameters in general, though the coefficient is very different.  Not sure why that is."
   ]
  },
  {
   "cell_type": "markdown",
   "metadata": {
    "colab_type": "text",
    "id": "edpJ87A8A8sd"
   },
   "source": [
    "\n",
    "### Feature engineering, explained by Francois Chollet\n",
    "\n",
    "> _Feature engineering_ is the process of using your own knowledge about the data and about the machine learning algorithm at hand to make the algorithm work better by applying hardcoded (nonlearned) transformations to the data before it goes into the model. In many cases, it isn’t reasonable to expect a machine-learning model to be able to learn from completely arbitrary data. The data needs to be presented to the model in a way that will make the model’s job easier.\n",
    "\n",
    "> Let’s look at an intuitive example. Suppose you’re trying to develop a model that can take as input an image of a clock and can output the time of day.\n",
    "\n",
    "> If you choose to use the raw pixels of the image as input data, then you have a difficult machine-learning problem on your hands. You’ll need a convolutional neural network to solve it, and you’ll have to expend quite a bit of computational resources to train the network.\n",
    "\n",
    "> But if you already understand the problem at a high level (you understand how humans read time on a clock face), then you can come up with much better input features for a machine-learning algorithm: for instance, write a Python script to follow the black pixels of the clock hands and output the (x, y) coordinates of the tip of each hand. Then a simple machine-learning algorithm can learn to associate these coordinates with the appropriate time of day.\n",
    "\n",
    "> You can go even further: do a coordinate change, and express the (x, y) coordinates as polar coordinates with regard to the center of the image. Your input will become the angle theta of each clock hand. At this point, your features are making the problem so easy that no machine learning is required; a simple rounding operation and dictionary lookup are enough to recover the approximate time of day.\n",
    "\n",
    "> That’s the essence of feature engineering: making a problem easier by expressing it in a simpler way. It usually requires understanding the problem in depth.\n",
    "\n",
    "> Before convolutional neural networks became successful on the MNIST digit-classification problem, solutions were typically based on hardcoded features such as the number of loops in a digit image, the height of each digit in an image, a histogram of pixel values, and so on.\n",
    "\n",
    "> Neural networks are capable of automatically extracting useful features from raw data. Does this mean you don’t have to worry about feature engineering as long as you’re using deep neural networks? No, for two reasons:\n",
    "\n",
    "> - Good features still allow you to solve problems more elegantly while using fewer resources. For instance, it would be ridiculous to solve the problem of reading a clock face using a convolutional neural network.\n",
    "> - Good features let you solve a problem with far less data. The ability of deep-learning models to learn features on their own relies on having lots of training data available; if you have only a few samples, then the information value in their features becomes critical.\n"
   ]
  },
  {
   "cell_type": "markdown",
   "metadata": {
    "colab_type": "text",
    "id": "oux-dd-5FD6p"
   },
   "source": [
    "# ASSIGNMENT\n",
    "\n",
    "### Core assignment\n",
    "\n",
    "Complete the notebook cells that were originally commented **`TODO`**. \n",
    "\n",
    "Then, focus on feature engineering to improve your cross validation scores. Collaborate with your cohort on Slack. You could start with the ideas [Jake VanderPlas suggests:](https://jakevdp.github.io/PythonDataScienceHandbook/05.06-linear-regression.html#Example:-Predicting-Bicycle-Traffic)\n",
    "\n",
    "> Our model is almost certainly missing some relevant information. For example, nonlinear effects (such as effects of precipitation and cold temperature) and nonlinear trends within each variable (such as disinclination to ride at very cold and very hot temperatures) cannot be accounted for in this model. Additionally, we have thrown away some of the finer-grained information (such as the difference between a rainy morning and a rainy afternoon), and we have ignored correlations between days (such as the possible effect of a rainy Tuesday on Wednesday's numbers, or the effect of an unexpected sunny day after a streak of rainy days). These are all potentially interesting effects, and you now have the tools to begin exploring them if you wish!\n",
    "\n",
    "At the end of the day, take the last step in the \"universal workflow of machine learning\" — \"You can train your final production model on all the available data (training and validation) and evaluate it one last time on the test set.\"\n",
    "\n",
    "See the [`GridSearchCV`](https://scikit-learn.org/stable/modules/generated/sklearn.model_selection.GridSearchCV.html) documentation for the `refit` parameter, `best_estimator_` attribute, and `predict` method:\n",
    "\n",
    "> **refit : boolean, or string, default=True**\n",
    "\n",
    "> Refit an estimator using the best found parameters on the whole dataset.\n",
    "\n",
    "> The refitted estimator is made available at the `best_estimator_` attribute and permits using `predict` directly on this `GridSearchCV` instance.\n",
    "\n",
    "### More options\n",
    "\n",
    "**A.** Apply this lesson to other datasets.\n",
    "\n",
    "**B.** We predicted the number of bicycle trips based on that day's weather. But imagine you were asked to predict trips at the beginning of each day, based only on data known at the time of prediction or before — so you cannot use the current day's weather. How would you wrangle the features to handle this new requirement? How does this impact the predictive accuracy and coefficients of your models?\n",
    "\n",
    "**C.** In additon to `GridSearchCV`, scikit-learn has [`RandomizedSearchCV`](https://scikit-learn.org/stable/modules/generated/sklearn.model_selection.RandomizedSearchCV.html), which is sometimes even better. Another library called scikit-optimize has [`BayesSearchCV`](https://scikit-optimize.github.io/notebooks/sklearn-gridsearchcv-replacement.html). Experiment with these alternatives.\n",
    "\n",
    "**D.** _[Introduction to Machine Learning with Python](http://shop.oreilly.com/product/0636920030515.do)_ discusses options for \"Grid-Searching Which Model To Use\" in Chapter 6:\n",
    "\n",
    "> You can even go further in combining GridSearchCV and Pipeline: it is also possible to search over the actual steps being performed in the pipeline (say whether to use StandardScaler or MinMaxScaler). This leads to an even bigger search space and should be considered carefully. Trying all possible solutions is usually not a viable machine learning strategy. However, here is an example comparing a RandomForestClassifier and an SVC ...\n",
    "\n",
    "The example is shown in [the accompanying notebook](https://github.com/amueller/introduction_to_ml_with_python/blob/master/06-algorithm-chains-and-pipelines.ipynb), code cells 35-37. Could you apply this concept to your own pipelines?\n",
    "\n",
    "\n"
   ]
  },
  {
   "cell_type": "markdown",
   "metadata": {},
   "source": [
    "# Assignment answers\n",
    "\n",
    "In order to figure out what new features to create, I will compare the best prediction so far (the logistic regression with engineered parameters), plot the residuals against all the other variables, and see if I can spot any trends that I could turn into new features."
   ]
  },
  {
   "cell_type": "code",
   "execution_count": 134,
   "metadata": {},
   "outputs": [],
   "source": [
    "# First, let's retrieve that model\n",
    "model = Ridge(alpha=1)\n",
    "model.fit(X_train, y_train)\n",
    "y_pred = model.predict(X_train)"
   ]
  },
  {
   "cell_type": "code",
   "execution_count": 149,
   "metadata": {},
   "outputs": [
    {
     "data": {
      "text/plain": [
       "-306.48100148779037"
      ]
     },
     "execution_count": 149,
     "metadata": {},
     "output_type": "execute_result"
    }
   ],
   "source": [
    "# And use CV to calculate its mean score\n",
    "scores = cross_validate(Ridge(alpha=1), X_train, y_train, \n",
    "                        scoring='neg_mean_absolute_error', cv=3, \n",
    "                        return_train_score=True, return_estimator=True)\n",
    "\n",
    "scores['test_score'].mean()"
   ]
  },
  {
   "cell_type": "code",
   "execution_count": 159,
   "metadata": {},
   "outputs": [
    {
     "data": {
      "image/png": "[encoded data removed]",
      "text/plain": [
       "<Figure size 936x360 with 1 Axes>"
      ]
     },
     "metadata": {
      "needs_background": "light"
     },
     "output_type": "display_data"
    }
   ],
   "source": [
    "## Also, let's plot the current predictions to see if any patterns pop out.\n",
    "\n",
    "# y_train contains date information, whereas y_pred does not.\n",
    "# In order to plot both, I'll combine them into a new dataframe.\n",
    "bikes = pd.DataFrame(y_train).rename(columns={'Total':'y_train'})\n",
    "bikes['y_pred'] = y_pred\n",
    "\n",
    "# And plot\n",
    "fig, ax = plt.subplots(figsize=(13,5))\n",
    "ax.plot(bikes['y_train']);\n",
    "ax.plot(bikes['y_pred']);\n",
    "ax.set_xlabel('Date', fontsize=16)\n",
    "ax.set_ylabel('Total bikers', fontsize=16)\n",
    "ax.legend();"
   ]
  },
  {
   "cell_type": "code",
   "execution_count": 160,
   "metadata": {},
   "outputs": [
    {
     "data": {
      "text/html": [
       "<div>\n",
       "<style scoped>\n",
       "    .dataframe tbody tr th:only-of-type {\n",
       "        vertical-align: middle;\n",
       "    }\n",
       "\n",
       "    .dataframe tbody tr th {\n",
       "        vertical-align: top;\n",
       "    }\n",
       "\n",
       "    .dataframe thead th {\n",
       "        text-align: right;\n",
       "    }\n",
       "</style>\n",
       "<table border=\"1\" class=\"dataframe\">\n",
       "  <thead>\n",
       "    <tr style=\"text-align: right;\">\n",
       "      <th></th>\n",
       "      <th>y_train</th>\n",
       "      <th>y_pred</th>\n",
       "      <th>PRCP</th>\n",
       "      <th>SNOW</th>\n",
       "      <th>SNWD</th>\n",
       "      <th>TMAX</th>\n",
       "      <th>TMIN</th>\n",
       "      <th>AWND</th>\n",
       "      <th>Total_yesterday</th>\n",
       "      <th>Mon</th>\n",
       "      <th>...</th>\n",
       "      <th>Thu</th>\n",
       "      <th>Fri</th>\n",
       "      <th>Sat</th>\n",
       "      <th>Sun</th>\n",
       "      <th>holiday</th>\n",
       "      <th>daylight_hrs</th>\n",
       "      <th>Temp (C)</th>\n",
       "      <th>dry day</th>\n",
       "      <th>annual</th>\n",
       "      <th>error</th>\n",
       "    </tr>\n",
       "  </thead>\n",
       "  <tbody>\n",
       "    <tr>\n",
       "      <th>2012-10-04</th>\n",
       "      <td>3475.0</td>\n",
       "      <td>3388.310452</td>\n",
       "      <td>0.0</td>\n",
       "      <td>0</td>\n",
       "      <td>0</td>\n",
       "      <td>18.9</td>\n",
       "      <td>8.3</td>\n",
       "      <td>65</td>\n",
       "      <td>3521.0</td>\n",
       "      <td>0.0</td>\n",
       "      <td>...</td>\n",
       "      <td>1.0</td>\n",
       "      <td>0.0</td>\n",
       "      <td>0.0</td>\n",
       "      <td>0.0</td>\n",
       "      <td>0.0</td>\n",
       "      <td>11.219142</td>\n",
       "      <td>13.6</td>\n",
       "      <td>1</td>\n",
       "      <td>0.00000</td>\n",
       "      <td>-86.689548</td>\n",
       "    </tr>\n",
       "    <tr>\n",
       "      <th>2012-10-05</th>\n",
       "      <td>3148.0</td>\n",
       "      <td>3337.818676</td>\n",
       "      <td>0.0</td>\n",
       "      <td>0</td>\n",
       "      <td>0</td>\n",
       "      <td>21.7</td>\n",
       "      <td>8.9</td>\n",
       "      <td>57</td>\n",
       "      <td>3475.0</td>\n",
       "      <td>0.0</td>\n",
       "      <td>...</td>\n",
       "      <td>0.0</td>\n",
       "      <td>1.0</td>\n",
       "      <td>0.0</td>\n",
       "      <td>0.0</td>\n",
       "      <td>0.0</td>\n",
       "      <td>11.161038</td>\n",
       "      <td>15.3</td>\n",
       "      <td>1</td>\n",
       "      <td>0.00274</td>\n",
       "      <td>189.818676</td>\n",
       "    </tr>\n",
       "  </tbody>\n",
       "</table>\n",
       "<p>2 rows × 22 columns</p>\n",
       "</div>"
      ],
      "text/plain": [
       "            y_train       y_pred  PRCP  SNOW  SNWD  TMAX  TMIN  AWND  \\\n",
       "2012-10-04   3475.0  3388.310452   0.0     0     0  18.9   8.3    65   \n",
       "2012-10-05   3148.0  3337.818676   0.0     0     0  21.7   8.9    57   \n",
       "\n",
       "            Total_yesterday  Mon  ...  Thu  Fri  Sat  Sun  holiday  \\\n",
       "2012-10-04           3521.0  0.0  ...  1.0  0.0  0.0  0.0      0.0   \n",
       "2012-10-05           3475.0  0.0  ...  0.0  1.0  0.0  0.0      0.0   \n",
       "\n",
       "            daylight_hrs  Temp (C)  dry day   annual       error  \n",
       "2012-10-04     11.219142      13.6        1  0.00000  -86.689548  \n",
       "2012-10-05     11.161038      15.3        1  0.00274  189.818676  \n",
       "\n",
       "[2 rows x 22 columns]"
      ]
     },
     "execution_count": 160,
     "metadata": {},
     "output_type": "execute_result"
    }
   ],
   "source": [
    "# Actually, it would be handy to have all the original variables in this dataset also, so I\n",
    "# can plot a few things against each other.  Let's add them all together\n",
    "bikes = bikes.join(X_train)\n",
    "\n",
    "# And with all of this, let's calculate the current residuals\n",
    "bikes['error'] = bikes['y_pred'] - bikes['y_train']\n",
    "bikes.head(2)"
   ]
  },
  {
   "cell_type": "code",
   "execution_count": 161,
   "metadata": {},
   "outputs": [
    {
     "data": {
      "image/png": "[encoded data removed]",
      "text/plain": [
       "<Figure size 936x360 with 1 Axes>"
      ]
     },
     "metadata": {
      "needs_background": "light"
     },
     "output_type": "display_data"
    }
   ],
   "source": [
    "# Now, for example, I can see where in the time series the model messes up the most\n",
    "fig, ax = plt.subplots(figsize=(13,5))\n",
    "ax.plot(bikes['error']);\n",
    "ax.set_xlabel('Date', fontsize=16);\n",
    "ax.set_ylabel('Error in current model', fontsize=16);"
   ]
  },
  {
   "cell_type": "code",
   "execution_count": 162,
   "metadata": {},
   "outputs": [
    {
     "data": {
      "text/plain": [
       "<seaborn.axisgrid.PairGrid at 0x1c1fa58a58>"
      ]
     },
     "execution_count": 162,
     "metadata": {},
     "output_type": "execute_result"
    },
    {
     "data": {
      "image/png": "[encoded data removed]",
      "text/plain": [
       "<Figure size 3420x180 with 19 Axes>"
      ]
     },
     "metadata": {
      "needs_background": "light"
     },
     "output_type": "display_data"
    }
   ],
   "source": [
    "# And I can look for correlations between existing variables and the errors\n",
    "sns.pairplot(data=bikes, y_vars=['error'], x_vars=X_train.columns);"
   ]
  },
  {
   "cell_type": "code",
   "execution_count": 163,
   "metadata": {},
   "outputs": [
    {
     "data": {
      "text/html": [
       "<div>\n",
       "<style scoped>\n",
       "    .dataframe tbody tr th:only-of-type {\n",
       "        vertical-align: middle;\n",
       "    }\n",
       "\n",
       "    .dataframe tbody tr th {\n",
       "        vertical-align: top;\n",
       "    }\n",
       "\n",
       "    .dataframe thead th {\n",
       "        text-align: right;\n",
       "    }\n",
       "</style>\n",
       "<table border=\"1\" class=\"dataframe\">\n",
       "  <thead>\n",
       "    <tr style=\"text-align: right;\">\n",
       "      <th></th>\n",
       "      <th>y_train</th>\n",
       "      <th>y_pred</th>\n",
       "      <th>PRCP</th>\n",
       "      <th>SNOW</th>\n",
       "      <th>SNWD</th>\n",
       "      <th>TMAX</th>\n",
       "      <th>TMIN</th>\n",
       "      <th>AWND</th>\n",
       "      <th>Total_yesterday</th>\n",
       "      <th>Mon</th>\n",
       "      <th>...</th>\n",
       "      <th>Thu</th>\n",
       "      <th>Fri</th>\n",
       "      <th>Sat</th>\n",
       "      <th>Sun</th>\n",
       "      <th>holiday</th>\n",
       "      <th>daylight_hrs</th>\n",
       "      <th>Temp (C)</th>\n",
       "      <th>dry day</th>\n",
       "      <th>annual</th>\n",
       "      <th>error</th>\n",
       "    </tr>\n",
       "  </thead>\n",
       "  <tbody>\n",
       "    <tr>\n",
       "      <th>count</th>\n",
       "      <td>963.000000</td>\n",
       "      <td>963.000000</td>\n",
       "      <td>963.000000</td>\n",
       "      <td>963.000000</td>\n",
       "      <td>963.000000</td>\n",
       "      <td>963.000000</td>\n",
       "      <td>963.000000</td>\n",
       "      <td>963.000000</td>\n",
       "      <td>963.000000</td>\n",
       "      <td>963.000000</td>\n",
       "      <td>...</td>\n",
       "      <td>963.000000</td>\n",
       "      <td>963.000000</td>\n",
       "      <td>963.000000</td>\n",
       "      <td>963.000000</td>\n",
       "      <td>963.000000</td>\n",
       "      <td>963.000000</td>\n",
       "      <td>963.000000</td>\n",
       "      <td>963.000000</td>\n",
       "      <td>963.000000</td>\n",
       "      <td>9.630000e+02</td>\n",
       "    </tr>\n",
       "    <tr>\n",
       "      <th>mean</th>\n",
       "      <td>2534.329180</td>\n",
       "      <td>2534.329180</td>\n",
       "      <td>0.123576</td>\n",
       "      <td>-41.390447</td>\n",
       "      <td>0.109034</td>\n",
       "      <td>15.673209</td>\n",
       "      <td>7.830737</td>\n",
       "      <td>31.888889</td>\n",
       "      <td>2536.141225</td>\n",
       "      <td>0.142264</td>\n",
       "      <td>...</td>\n",
       "      <td>0.143302</td>\n",
       "      <td>0.143302</td>\n",
       "      <td>0.143302</td>\n",
       "      <td>0.143302</td>\n",
       "      <td>0.028037</td>\n",
       "      <td>11.677381</td>\n",
       "      <td>11.751973</td>\n",
       "      <td>0.554517</td>\n",
       "      <td>1.317808</td>\n",
       "      <td>2.927761e-13</td>\n",
       "    </tr>\n",
       "    <tr>\n",
       "      <th>std</th>\n",
       "      <td>1224.065027</td>\n",
       "      <td>1159.027553</td>\n",
       "      <td>0.264611</td>\n",
       "      <td>643.435674</td>\n",
       "      <td>2.700110</td>\n",
       "      <td>6.994807</td>\n",
       "      <td>4.914016</td>\n",
       "      <td>14.643764</td>\n",
       "      <td>1224.232861</td>\n",
       "      <td>0.349502</td>\n",
       "      <td>...</td>\n",
       "      <td>0.350563</td>\n",
       "      <td>0.350563</td>\n",
       "      <td>0.350563</td>\n",
       "      <td>0.350563</td>\n",
       "      <td>0.165165</td>\n",
       "      <td>2.568741</td>\n",
       "      <td>5.756242</td>\n",
       "      <td>0.497277</td>\n",
       "      <td>0.762023</td>\n",
       "      <td>3.825744e+02</td>\n",
       "    </tr>\n",
       "    <tr>\n",
       "      <th>min</th>\n",
       "      <td>98.000000</td>\n",
       "      <td>-328.206743</td>\n",
       "      <td>0.000000</td>\n",
       "      <td>-9999.000000</td>\n",
       "      <td>0.000000</td>\n",
       "      <td>-1.600000</td>\n",
       "      <td>-7.100000</td>\n",
       "      <td>4.000000</td>\n",
       "      <td>98.000000</td>\n",
       "      <td>0.000000</td>\n",
       "      <td>...</td>\n",
       "      <td>0.000000</td>\n",
       "      <td>0.000000</td>\n",
       "      <td>0.000000</td>\n",
       "      <td>0.000000</td>\n",
       "      <td>0.000000</td>\n",
       "      <td>8.218894</td>\n",
       "      <td>-3.800000</td>\n",
       "      <td>0.000000</td>\n",
       "      <td>0.000000</td>\n",
       "      <td>-1.702875e+03</td>\n",
       "    </tr>\n",
       "    <tr>\n",
       "      <th>25%</th>\n",
       "      <td>1755.000000</td>\n",
       "      <td>1778.701177</td>\n",
       "      <td>0.000000</td>\n",
       "      <td>0.000000</td>\n",
       "      <td>0.000000</td>\n",
       "      <td>10.600000</td>\n",
       "      <td>4.400000</td>\n",
       "      <td>22.000000</td>\n",
       "      <td>1755.000000</td>\n",
       "      <td>0.000000</td>\n",
       "      <td>...</td>\n",
       "      <td>0.000000</td>\n",
       "      <td>0.000000</td>\n",
       "      <td>0.000000</td>\n",
       "      <td>0.000000</td>\n",
       "      <td>0.000000</td>\n",
       "      <td>9.206870</td>\n",
       "      <td>7.750000</td>\n",
       "      <td>0.000000</td>\n",
       "      <td>0.658904</td>\n",
       "      <td>-2.243506e+02</td>\n",
       "    </tr>\n",
       "    <tr>\n",
       "      <th>50%</th>\n",
       "      <td>2381.000000</td>\n",
       "      <td>2521.802871</td>\n",
       "      <td>0.000000</td>\n",
       "      <td>0.000000</td>\n",
       "      <td>0.000000</td>\n",
       "      <td>14.400000</td>\n",
       "      <td>7.800000</td>\n",
       "      <td>29.000000</td>\n",
       "      <td>2381.000000</td>\n",
       "      <td>0.000000</td>\n",
       "      <td>...</td>\n",
       "      <td>0.000000</td>\n",
       "      <td>0.000000</td>\n",
       "      <td>0.000000</td>\n",
       "      <td>0.000000</td>\n",
       "      <td>0.000000</td>\n",
       "      <td>11.364878</td>\n",
       "      <td>10.850000</td>\n",
       "      <td>1.000000</td>\n",
       "      <td>1.317808</td>\n",
       "      <td>2.625797e+00</td>\n",
       "    </tr>\n",
       "    <tr>\n",
       "      <th>75%</th>\n",
       "      <td>3317.500000</td>\n",
       "      <td>3304.536271</td>\n",
       "      <td>0.129921</td>\n",
       "      <td>0.000000</td>\n",
       "      <td>0.000000</td>\n",
       "      <td>20.600000</td>\n",
       "      <td>11.700000</td>\n",
       "      <td>41.000000</td>\n",
       "      <td>3325.000000</td>\n",
       "      <td>0.000000</td>\n",
       "      <td>...</td>\n",
       "      <td>0.000000</td>\n",
       "      <td>0.000000</td>\n",
       "      <td>0.000000</td>\n",
       "      <td>0.000000</td>\n",
       "      <td>0.000000</td>\n",
       "      <td>14.118901</td>\n",
       "      <td>16.375000</td>\n",
       "      <td>1.000000</td>\n",
       "      <td>1.976712</td>\n",
       "      <td>2.320792e+02</td>\n",
       "    </tr>\n",
       "    <tr>\n",
       "      <th>max</th>\n",
       "      <td>6088.000000</td>\n",
       "      <td>5243.561012</td>\n",
       "      <td>2.200787</td>\n",
       "      <td>74.000000</td>\n",
       "      <td>80.000000</td>\n",
       "      <td>35.600000</td>\n",
       "      <td>18.300000</td>\n",
       "      <td>95.000000</td>\n",
       "      <td>6088.000000</td>\n",
       "      <td>1.000000</td>\n",
       "      <td>...</td>\n",
       "      <td>1.000000</td>\n",
       "      <td>1.000000</td>\n",
       "      <td>1.000000</td>\n",
       "      <td>1.000000</td>\n",
       "      <td>1.000000</td>\n",
       "      <td>15.781095</td>\n",
       "      <td>26.700000</td>\n",
       "      <td>1.000000</td>\n",
       "      <td>2.635616</td>\n",
       "      <td>1.410691e+03</td>\n",
       "    </tr>\n",
       "  </tbody>\n",
       "</table>\n",
       "<p>8 rows × 22 columns</p>\n",
       "</div>"
      ],
      "text/plain": [
       "           y_train       y_pred        PRCP         SNOW        SNWD  \\\n",
       "count   963.000000   963.000000  963.000000   963.000000  963.000000   \n",
       "mean   2534.329180  2534.329180    0.123576   -41.390447    0.109034   \n",
       "std    1224.065027  1159.027553    0.264611   643.435674    2.700110   \n",
       "min      98.000000  -328.206743    0.000000 -9999.000000    0.000000   \n",
       "25%    1755.000000  1778.701177    0.000000     0.000000    0.000000   \n",
       "50%    2381.000000  2521.802871    0.000000     0.000000    0.000000   \n",
       "75%    3317.500000  3304.536271    0.129921     0.000000    0.000000   \n",
       "max    6088.000000  5243.561012    2.200787    74.000000   80.000000   \n",
       "\n",
       "             TMAX        TMIN        AWND  Total_yesterday         Mon  ...  \\\n",
       "count  963.000000  963.000000  963.000000       963.000000  963.000000  ...   \n",
       "mean    15.673209    7.830737   31.888889      2536.141225    0.142264  ...   \n",
       "std      6.994807    4.914016   14.643764      1224.232861    0.349502  ...   \n",
       "min     -1.600000   -7.100000    4.000000        98.000000    0.000000  ...   \n",
       "25%     10.600000    4.400000   22.000000      1755.000000    0.000000  ...   \n",
       "50%     14.400000    7.800000   29.000000      2381.000000    0.000000  ...   \n",
       "75%     20.600000   11.700000   41.000000      3325.000000    0.000000  ...   \n",
       "max     35.600000   18.300000   95.000000      6088.000000    1.000000  ...   \n",
       "\n",
       "              Thu         Fri         Sat         Sun     holiday  \\\n",
       "count  963.000000  963.000000  963.000000  963.000000  963.000000   \n",
       "mean     0.143302    0.143302    0.143302    0.143302    0.028037   \n",
       "std      0.350563    0.350563    0.350563    0.350563    0.165165   \n",
       "min      0.000000    0.000000    0.000000    0.000000    0.000000   \n",
       "25%      0.000000    0.000000    0.000000    0.000000    0.000000   \n",
       "50%      0.000000    0.000000    0.000000    0.000000    0.000000   \n",
       "75%      0.000000    0.000000    0.000000    0.000000    0.000000   \n",
       "max      1.000000    1.000000    1.000000    1.000000    1.000000   \n",
       "\n",
       "       daylight_hrs    Temp (C)     dry day      annual         error  \n",
       "count    963.000000  963.000000  963.000000  963.000000  9.630000e+02  \n",
       "mean      11.677381   11.751973    0.554517    1.317808  2.927761e-13  \n",
       "std        2.568741    5.756242    0.497277    0.762023  3.825744e+02  \n",
       "min        8.218894   -3.800000    0.000000    0.000000 -1.702875e+03  \n",
       "25%        9.206870    7.750000    0.000000    0.658904 -2.243506e+02  \n",
       "50%       11.364878   10.850000    1.000000    1.317808  2.625797e+00  \n",
       "75%       14.118901   16.375000    1.000000    1.976712  2.320792e+02  \n",
       "max       15.781095   26.700000    1.000000    2.635616  1.410691e+03  \n",
       "\n",
       "[8 rows x 22 columns]"
      ]
     },
     "execution_count": 163,
     "metadata": {},
     "output_type": "execute_result"
    }
   ],
   "source": [
    "# What the hell?  Why are there super-negative values of SNOW?\n",
    "bikes.describe()"
   ]
  },
  {
   "cell_type": "markdown",
   "metadata": {},
   "source": [
    "That's right, I'd forgotten that SNOW had a few values set to -9999 that haven't been corrected yet.  In the graphs above I notice that, and also that there's an annual pattern to some of the mistakes. I think I could improve the results by adding a variable for particular months of the year, much like we added one for days earlier."
   ]
  },
  {
   "cell_type": "code",
   "execution_count": 181,
   "metadata": {},
   "outputs": [],
   "source": [
    "# Let's add binary columns that indicate the month:\n",
    "months = ['January', 'February', 'March','April', 'May', 'June', 'July',\n",
    "        'August', 'September','October', 'November', 'December']\n",
    "for mon in months:\n",
    "    bikes[mon] = (bikes.index.month_name() == mon).astype(float)"
   ]
  },
  {
   "cell_type": "code",
   "execution_count": 183,
   "metadata": {},
   "outputs": [
    {
     "data": {
      "text/plain": [
       "<seaborn.axisgrid.PairGrid at 0x1c1e77dd30>"
      ]
     },
     "execution_count": 183,
     "metadata": {},
     "output_type": "execute_result"
    },
    {
     "data": {
      "image/png": "[encoded data removed]",
      "text/plain": [
       "<Figure size 2160x180 with 12 Axes>"
      ]
     },
     "metadata": {
      "needs_background": "light"
     },
     "output_type": "display_data"
    }
   ],
   "source": [
    "sns.pairplot(data=bikes, y_vars=['error'], x_vars=months);"
   ]
  },
  {
   "cell_type": "markdown",
   "metadata": {},
   "source": [
    "These plots reflect the earlier idea that the model is underestimating the amount of biking in May, and overestimating it in December/January.  Let's fix that problem with SNOW, add in the month columns, and see whether the model improves much."
   ]
  },
  {
   "cell_type": "code",
   "execution_count": 188,
   "metadata": {},
   "outputs": [
    {
     "data": {
      "text/plain": [
       " 0       955\n",
       "-9999      4\n",
       " 74        1\n",
       " 28        1\n",
       " 20        1\n",
       " 15        1\n",
       "Name: SNOW, dtype: int64"
      ]
     },
     "execution_count": 188,
     "metadata": {},
     "output_type": "execute_result"
    }
   ],
   "source": [
    "X_train.SNOW.value_counts()"
   ]
  },
  {
   "cell_type": "code",
   "execution_count": 189,
   "metadata": {},
   "outputs": [],
   "source": [
    "# Only 8 values, and half of them are crap?!  I'll just drop the whole column.\n",
    "X_train = X_train.drop(columns='SNOW')\n",
    "X_test = X_test.drop(columns='SNOW')\n",
    "bikes = bikes.drop(columns='SNOW')"
   ]
  },
  {
   "cell_type": "code",
   "execution_count": 190,
   "metadata": {},
   "outputs": [],
   "source": [
    "# Let's add month columns to X_train:\n",
    "months = ['January', 'February', 'March','April', 'May', 'June', 'July',\n",
    "        'August', 'September','October', 'November', 'December']\n",
    "for mon in months:\n",
    "    X_train[mon] = (X_train.index.month_name() == mon).astype(float)"
   ]
  },
  {
   "cell_type": "code",
   "execution_count": 193,
   "metadata": {},
   "outputs": [
    {
     "data": {
      "text/html": [
       "<div>\n",
       "<style scoped>\n",
       "    .dataframe tbody tr th:only-of-type {\n",
       "        vertical-align: middle;\n",
       "    }\n",
       "\n",
       "    .dataframe tbody tr th {\n",
       "        vertical-align: top;\n",
       "    }\n",
       "\n",
       "    .dataframe thead th {\n",
       "        text-align: right;\n",
       "    }\n",
       "</style>\n",
       "<table border=\"1\" class=\"dataframe\">\n",
       "  <thead>\n",
       "    <tr style=\"text-align: right;\">\n",
       "      <th></th>\n",
       "      <th>PRCP</th>\n",
       "      <th>SNWD</th>\n",
       "      <th>TMAX</th>\n",
       "      <th>TMIN</th>\n",
       "      <th>AWND</th>\n",
       "      <th>Total_yesterday</th>\n",
       "      <th>Mon</th>\n",
       "      <th>Tue</th>\n",
       "      <th>Wed</th>\n",
       "      <th>Thu</th>\n",
       "      <th>...</th>\n",
       "      <th>March</th>\n",
       "      <th>April</th>\n",
       "      <th>May</th>\n",
       "      <th>June</th>\n",
       "      <th>July</th>\n",
       "      <th>August</th>\n",
       "      <th>September</th>\n",
       "      <th>October</th>\n",
       "      <th>November</th>\n",
       "      <th>December</th>\n",
       "    </tr>\n",
       "  </thead>\n",
       "  <tbody>\n",
       "    <tr>\n",
       "      <th>2012-10-04</th>\n",
       "      <td>0.0</td>\n",
       "      <td>0</td>\n",
       "      <td>18.9</td>\n",
       "      <td>8.3</td>\n",
       "      <td>65</td>\n",
       "      <td>3521.0</td>\n",
       "      <td>0.0</td>\n",
       "      <td>0.0</td>\n",
       "      <td>0.0</td>\n",
       "      <td>1.0</td>\n",
       "      <td>...</td>\n",
       "      <td>0.0</td>\n",
       "      <td>0.0</td>\n",
       "      <td>0.0</td>\n",
       "      <td>0.0</td>\n",
       "      <td>0.0</td>\n",
       "      <td>0.0</td>\n",
       "      <td>0.0</td>\n",
       "      <td>1.0</td>\n",
       "      <td>0.0</td>\n",
       "      <td>0.0</td>\n",
       "    </tr>\n",
       "  </tbody>\n",
       "</table>\n",
       "<p>1 rows × 30 columns</p>\n",
       "</div>"
      ],
      "text/plain": [
       "            PRCP  SNWD  TMAX  TMIN  AWND  Total_yesterday  Mon  Tue  Wed  Thu  \\\n",
       "2012-10-04   0.0     0  18.9   8.3    65           3521.0  0.0  0.0  0.0  1.0   \n",
       "\n",
       "            ...  March  April  May  June  July  August  September  October  \\\n",
       "2012-10-04  ...    0.0    0.0  0.0   0.0   0.0     0.0        0.0      1.0   \n",
       "\n",
       "            November  December  \n",
       "2012-10-04       0.0       0.0  \n",
       "\n",
       "[1 rows x 30 columns]"
      ]
     },
     "execution_count": 193,
     "metadata": {},
     "output_type": "execute_result"
    }
   ],
   "source": [
    "X_train.head(1)"
   ]
  },
  {
   "cell_type": "markdown",
   "metadata": {},
   "source": [
    "## Back to the model"
   ]
  },
  {
   "cell_type": "code",
   "execution_count": 194,
   "metadata": {},
   "outputs": [],
   "source": [
    "model = Ridge(alpha=1)\n",
    "model.fit(X_train, y_train)\n",
    "y_pred = model.predict(X_train)"
   ]
  },
  {
   "cell_type": "code",
   "execution_count": 195,
   "metadata": {},
   "outputs": [
    {
     "data": {
      "text/plain": [
       "-308.93237869413"
      ]
     },
     "execution_count": 195,
     "metadata": {},
     "output_type": "execute_result"
    }
   ],
   "source": [
    "# And use CV to calculate its mean score\n",
    "scores = cross_validate(Ridge(alpha=1), X_train, y_train, \n",
    "                        scoring='neg_mean_absolute_error', cv=3, \n",
    "                        return_train_score=True, return_estimator=True)\n",
    "\n",
    "scores['test_score'].mean()"
   ]
  },
  {
   "cell_type": "markdown",
   "metadata": {},
   "source": [
    "Dammit.  The overall score went up even more. How about if I add a few of the interaction terms suggested by the author?"
   ]
  },
  {
   "cell_type": "code",
   "execution_count": 202,
   "metadata": {},
   "outputs": [],
   "source": [
    "X_train['Temp*PRCP'] = X_train['Temp (C)']*X_train['PRCP']"
   ]
  },
  {
   "cell_type": "code",
   "execution_count": 203,
   "metadata": {},
   "outputs": [],
   "source": [
    "model = Ridge(alpha=1)\n",
    "model.fit(X_train, y_train)\n",
    "y_pred = model.predict(X_train)"
   ]
  },
  {
   "cell_type": "code",
   "execution_count": 206,
   "metadata": {},
   "outputs": [
    {
     "data": {
      "text/plain": [
       "-307.5415129430996"
      ]
     },
     "execution_count": 206,
     "metadata": {},
     "output_type": "execute_result"
    }
   ],
   "source": [
    "# And use CV to calculate its mean score\n",
    "scores = cross_validate(Ridge(alpha=1), X_train, y_train, \n",
    "                        scoring='neg_mean_absolute_error', cv=3, \n",
    "                        return_train_score=True, return_estimator=True)\n",
    "\n",
    "scores['test_score'].mean()"
   ]
  },
  {
   "cell_type": "markdown",
   "metadata": {},
   "source": [
    "## Check the test data\n",
    "Alright, I'll get rid of the month columns, apply all the same transformations to X_test, and check the final score of the model."
   ]
  },
  {
   "cell_type": "code",
   "execution_count": 209,
   "metadata": {},
   "outputs": [
    {
     "data": {
      "text/plain": [
       "Index(['PRCP', 'SNWD', 'TMAX', 'TMIN', 'AWND', 'Total_yesterday', 'Mon', 'Tue',\n",
       "       'Wed', 'Thu', 'Fri', 'Sat', 'Sun', 'holiday', 'daylight_hrs',\n",
       "       'Temp (C)', 'dry day', 'annual', 'Temp*PRCP'],\n",
       "      dtype='object')"
      ]
     },
     "execution_count": 209,
     "metadata": {},
     "output_type": "execute_result"
    }
   ],
   "source": [
    "X_train = X_train.drop(columns=months)\n",
    "X_train.columns"
   ]
  },
  {
   "cell_type": "code",
   "execution_count": 212,
   "metadata": {},
   "outputs": [],
   "source": [
    "## Copied from above, applied to X_test\n",
    "\n",
    "# patterns of use generally vary from day to day; \n",
    "# let's add binary columns that indicate the day of the week:\n",
    "days = ['Mon', 'Tue', 'Wed', 'Thu', 'Fri', 'Sat', 'Sun']\n",
    "for i, day in enumerate(days):\n",
    "    X_test[day] = (X_test.index.dayofweek == i).astype(float)\n",
    "    \n",
    "# we might expect riders to behave differently on holidays; \n",
    "# let's add an indicator of this as well:\n",
    "from pandas.tseries.holiday import USFederalHolidayCalendar\n",
    "cal = USFederalHolidayCalendar()\n",
    "holidays = cal.holidays('2012', '2016')\n",
    "X_test = X_test.join(pd.Series(1, index=holidays, name='holiday'))\n",
    "X_test['holiday'].fillna(0, inplace=True)\n",
    "\n",
    "# We also might suspect that the hours of daylight would affect \n",
    "# how many people ride; let's use the standard astronomical calculation \n",
    "# to add this information:\n",
    "def hours_of_daylight(date, axis=23.44, latitude=47.61):\n",
    "    \"\"\"Compute the hours of daylight for the given date\"\"\"\n",
    "    days = (date - pd.datetime(2000, 12, 21)).days\n",
    "    m = (1. - np.tan(np.radians(latitude))\n",
    "         * np.tan(np.radians(axis) * np.cos(days * 2 * np.pi / 365.25)))\n",
    "    return 24. * np.degrees(np.arccos(1 - np.clip(m, 0, 2))) / 180.\n",
    "\n",
    "X_test['daylight_hrs'] = list(map(hours_of_daylight, X_test.index))\n",
    "\n",
    "# temperatures are in 1/10 deg C; convert to C\n",
    "X_test['TMIN'] /= 10\n",
    "X_test['TMAX'] /= 10\n",
    "\n",
    "# We can also calcuate the average temperature.\n",
    "X_test['Temp (C)'] = 0.5 * (X_test['TMIN'] + X_test['TMAX'])\n",
    "\n",
    "# precip is in 1/10 mm; convert to inches\n",
    "X_test['PRCP'] /= 254\n",
    "\n",
    "# In addition to the inches of precipitation, let's add a flag that \n",
    "# indicates whether a day is dry (has zero precipitation):\n",
    "X_test['dry day'] = (X_test['PRCP'] == 0).astype(int)\n",
    "\n",
    "# Let's add a counter that increases from day 1, and measures how many \n",
    "# years have passed. This will let us measure any observed annual increase \n",
    "# or decrease in daily crossings:\n",
    "X_test['annual'] = (X_test.index - X_test.index[0]).days / 365."
   ]
  },
  {
   "cell_type": "code",
   "execution_count": 213,
   "metadata": {},
   "outputs": [],
   "source": [
    "X_test['Temp*PRCP'] = X_test['Temp (C)']*X_test['PRCP']"
   ]
  },
  {
   "cell_type": "markdown",
   "metadata": {},
   "source": [
    "### First, let's get one final read on the score for X_train"
   ]
  },
  {
   "cell_type": "code",
   "execution_count": 218,
   "metadata": {},
   "outputs": [],
   "source": [
    "# Retrieve that model\n",
    "model = Ridge(alpha=1)\n",
    "model.fit(X_train, y_train)\n",
    "y_pred = model.predict(X_train)"
   ]
  },
  {
   "cell_type": "code",
   "execution_count": 219,
   "metadata": {},
   "outputs": [
    {
     "data": {
      "text/plain": [
       "-305.8820202963745"
      ]
     },
     "execution_count": 219,
     "metadata": {},
     "output_type": "execute_result"
    }
   ],
   "source": [
    "# And use CV to calculate its mean score\n",
    "scores = cross_validate(Ridge(alpha=1), X_train, y_train, \n",
    "                        scoring='neg_mean_absolute_error', cv=3, \n",
    "                        return_train_score=True, return_estimator=True)\n",
    "\n",
    "scores['test_score'].mean()"
   ]
  },
  {
   "cell_type": "code",
   "execution_count": 220,
   "metadata": {},
   "outputs": [
    {
     "data": {
      "image/png": "[encoded data removed]",
      "text/plain": [
       "<Figure size 936x360 with 1 Axes>"
      ]
     },
     "metadata": {
      "needs_background": "light"
     },
     "output_type": "display_data"
    }
   ],
   "source": [
    "## Also, let's plot the current predictions to see if any patterns pop out.\n",
    "\n",
    "# y_train contains date information, whereas y_pred does not.\n",
    "# In order to plot both, I'll combine them into a new dataframe.\n",
    "bikes = pd.DataFrame(y_train).rename(columns={'Total':'y_train'})\n",
    "bikes['y_pred'] = y_pred\n",
    "\n",
    "# And plot\n",
    "fig, ax = plt.subplots(figsize=(13,5))\n",
    "ax.plot(bikes['y_train']);\n",
    "ax.plot(bikes['y_pred']);\n",
    "ax.set_xlabel('Date', fontsize=16)\n",
    "ax.set_ylabel('Total bikers', fontsize=16)\n",
    "ax.legend();"
   ]
  },
  {
   "cell_type": "markdown",
   "metadata": {},
   "source": [
    "### Evalutate on X_test"
   ]
  },
  {
   "cell_type": "code",
   "execution_count": 221,
   "metadata": {},
   "outputs": [
    {
     "data": {
      "text/plain": [
       "546.9099135738952"
      ]
     },
     "execution_count": 221,
     "metadata": {},
     "output_type": "execute_result"
    }
   ],
   "source": [
    "# Retrieve that model\n",
    "model = Ridge(alpha=1)\n",
    "model.fit(X_train, y_train)\n",
    "y_pred = model.predict(X_test)\n",
    "mean_absolute_error(y_test, y_pred)"
   ]
  },
  {
   "cell_type": "markdown",
   "metadata": {},
   "source": [
    "Huh, this error is actually much higher than it had been for the training data.  Can we see any discrepancies in the timeline plot?"
   ]
  },
  {
   "cell_type": "code",
   "execution_count": 222,
   "metadata": {},
   "outputs": [
    {
     "data": {
      "image/png": "[encoded data removed]",
      "text/plain": [
       "<Figure size 936x360 with 1 Axes>"
      ]
     },
     "metadata": {
      "needs_background": "light"
     },
     "output_type": "display_data"
    }
   ],
   "source": [
    "## Plotting...\n",
    "bikes = pd.DataFrame(y_test).rename(columns={'Total':'y_test'})\n",
    "bikes['y_pred'] = y_pred\n",
    "\n",
    "# And plot\n",
    "fig, ax = plt.subplots(figsize=(13,5))\n",
    "ax.plot(bikes['y_test']);\n",
    "ax.plot(bikes['y_pred']);\n",
    "ax.set_xlabel('Date', fontsize=16)\n",
    "ax.set_ylabel('Total bikers', fontsize=16)\n",
    "ax.legend();"
   ]
  },
  {
   "cell_type": "markdown",
   "metadata": {},
   "source": [
    "WHAT THE HELL IS THAT SPIKE AT THE END?"
   ]
  },
  {
   "cell_type": "code",
   "execution_count": 223,
   "metadata": {},
   "outputs": [
    {
     "data": {
      "text/html": [
       "<div>\n",
       "<style scoped>\n",
       "    .dataframe tbody tr th:only-of-type {\n",
       "        vertical-align: middle;\n",
       "    }\n",
       "\n",
       "    .dataframe tbody tr th {\n",
       "        vertical-align: top;\n",
       "    }\n",
       "\n",
       "    .dataframe thead th {\n",
       "        text-align: right;\n",
       "    }\n",
       "</style>\n",
       "<table border=\"1\" class=\"dataframe\">\n",
       "  <thead>\n",
       "    <tr style=\"text-align: right;\">\n",
       "      <th></th>\n",
       "      <th>PRCP</th>\n",
       "      <th>SNWD</th>\n",
       "      <th>TMAX</th>\n",
       "      <th>TMIN</th>\n",
       "      <th>AWND</th>\n",
       "      <th>Total_yesterday</th>\n",
       "      <th>Mon</th>\n",
       "      <th>Tue</th>\n",
       "      <th>Wed</th>\n",
       "      <th>Thu</th>\n",
       "      <th>Fri</th>\n",
       "      <th>Sat</th>\n",
       "      <th>Sun</th>\n",
       "      <th>holiday</th>\n",
       "      <th>daylight_hrs</th>\n",
       "      <th>Temp (C)</th>\n",
       "      <th>dry day</th>\n",
       "      <th>annual</th>\n",
       "      <th>Temp*PRCP</th>\n",
       "    </tr>\n",
       "  </thead>\n",
       "  <tbody>\n",
       "    <tr>\n",
       "      <th>count</th>\n",
       "      <td>100.000000</td>\n",
       "      <td>100.0</td>\n",
       "      <td>100.000000</td>\n",
       "      <td>100.000000</td>\n",
       "      <td>100.000000</td>\n",
       "      <td>100.000000</td>\n",
       "      <td>100.00000</td>\n",
       "      <td>100.00000</td>\n",
       "      <td>100.000000</td>\n",
       "      <td>100.000000</td>\n",
       "      <td>100.000000</td>\n",
       "      <td>100.000000</td>\n",
       "      <td>100.000000</td>\n",
       "      <td>100.000000</td>\n",
       "      <td>100.000000</td>\n",
       "      <td>100.000000</td>\n",
       "      <td>100.000000</td>\n",
       "      <td>100.000000</td>\n",
       "      <td>100.000000</td>\n",
       "    </tr>\n",
       "    <tr>\n",
       "      <th>mean</th>\n",
       "      <td>0.038307</td>\n",
       "      <td>0.0</td>\n",
       "      <td>26.443000</td>\n",
       "      <td>14.384000</td>\n",
       "      <td>-69.630000</td>\n",
       "      <td>3566.350000</td>\n",
       "      <td>0.15000</td>\n",
       "      <td>0.15000</td>\n",
       "      <td>0.140000</td>\n",
       "      <td>0.140000</td>\n",
       "      <td>0.140000</td>\n",
       "      <td>0.140000</td>\n",
       "      <td>0.140000</td>\n",
       "      <td>0.020000</td>\n",
       "      <td>15.038557</td>\n",
       "      <td>20.413500</td>\n",
       "      <td>0.870000</td>\n",
       "      <td>0.135616</td>\n",
       "      <td>0.667665</td>\n",
       "    </tr>\n",
       "    <tr>\n",
       "      <th>std</th>\n",
       "      <td>0.182073</td>\n",
       "      <td>0.0</td>\n",
       "      <td>4.277431</td>\n",
       "      <td>2.038108</td>\n",
       "      <td>1003.002288</td>\n",
       "      <td>1144.927463</td>\n",
       "      <td>0.35887</td>\n",
       "      <td>0.35887</td>\n",
       "      <td>0.348735</td>\n",
       "      <td>0.348735</td>\n",
       "      <td>0.348735</td>\n",
       "      <td>0.348735</td>\n",
       "      <td>0.348735</td>\n",
       "      <td>0.140705</td>\n",
       "      <td>0.776785</td>\n",
       "      <td>2.856102</td>\n",
       "      <td>0.337998</td>\n",
       "      <td>0.079484</td>\n",
       "      <td>3.154459</td>\n",
       "    </tr>\n",
       "    <tr>\n",
       "      <th>min</th>\n",
       "      <td>0.000000</td>\n",
       "      <td>0.0</td>\n",
       "      <td>15.600000</td>\n",
       "      <td>9.400000</td>\n",
       "      <td>-9999.000000</td>\n",
       "      <td>699.000000</td>\n",
       "      <td>0.00000</td>\n",
       "      <td>0.00000</td>\n",
       "      <td>0.000000</td>\n",
       "      <td>0.000000</td>\n",
       "      <td>0.000000</td>\n",
       "      <td>0.000000</td>\n",
       "      <td>0.000000</td>\n",
       "      <td>0.000000</td>\n",
       "      <td>13.191795</td>\n",
       "      <td>13.350000</td>\n",
       "      <td>0.000000</td>\n",
       "      <td>0.000000</td>\n",
       "      <td>0.000000</td>\n",
       "    </tr>\n",
       "    <tr>\n",
       "      <th>25%</th>\n",
       "      <td>0.000000</td>\n",
       "      <td>0.0</td>\n",
       "      <td>23.750000</td>\n",
       "      <td>12.800000</td>\n",
       "      <td>24.000000</td>\n",
       "      <td>2330.500000</td>\n",
       "      <td>0.00000</td>\n",
       "      <td>0.00000</td>\n",
       "      <td>0.000000</td>\n",
       "      <td>0.000000</td>\n",
       "      <td>0.000000</td>\n",
       "      <td>0.000000</td>\n",
       "      <td>0.000000</td>\n",
       "      <td>0.000000</td>\n",
       "      <td>14.514716</td>\n",
       "      <td>18.237500</td>\n",
       "      <td>1.000000</td>\n",
       "      <td>0.067808</td>\n",
       "      <td>0.000000</td>\n",
       "    </tr>\n",
       "    <tr>\n",
       "      <th>50%</th>\n",
       "      <td>0.000000</td>\n",
       "      <td>0.0</td>\n",
       "      <td>26.100000</td>\n",
       "      <td>14.400000</td>\n",
       "      <td>30.000000</td>\n",
       "      <td>4070.500000</td>\n",
       "      <td>0.00000</td>\n",
       "      <td>0.00000</td>\n",
       "      <td>0.000000</td>\n",
       "      <td>0.000000</td>\n",
       "      <td>0.000000</td>\n",
       "      <td>0.000000</td>\n",
       "      <td>0.000000</td>\n",
       "      <td>0.000000</td>\n",
       "      <td>15.372409</td>\n",
       "      <td>20.250000</td>\n",
       "      <td>1.000000</td>\n",
       "      <td>0.135616</td>\n",
       "      <td>0.000000</td>\n",
       "    </tr>\n",
       "    <tr>\n",
       "      <th>75%</th>\n",
       "      <td>0.000000</td>\n",
       "      <td>0.0</td>\n",
       "      <td>29.400000</td>\n",
       "      <td>16.100000</td>\n",
       "      <td>35.000000</td>\n",
       "      <td>4513.500000</td>\n",
       "      <td>0.00000</td>\n",
       "      <td>0.00000</td>\n",
       "      <td>0.000000</td>\n",
       "      <td>0.000000</td>\n",
       "      <td>0.000000</td>\n",
       "      <td>0.000000</td>\n",
       "      <td>0.000000</td>\n",
       "      <td>0.000000</td>\n",
       "      <td>15.672255</td>\n",
       "      <td>22.500000</td>\n",
       "      <td>1.000000</td>\n",
       "      <td>0.203425</td>\n",
       "      <td>0.000000</td>\n",
       "    </tr>\n",
       "    <tr>\n",
       "      <th>max</th>\n",
       "      <td>1.279528</td>\n",
       "      <td>0.0</td>\n",
       "      <td>35.000000</td>\n",
       "      <td>18.300000</td>\n",
       "      <td>58.000000</td>\n",
       "      <td>5142.000000</td>\n",
       "      <td>1.00000</td>\n",
       "      <td>1.00000</td>\n",
       "      <td>1.000000</td>\n",
       "      <td>1.000000</td>\n",
       "      <td>1.000000</td>\n",
       "      <td>1.000000</td>\n",
       "      <td>1.000000</td>\n",
       "      <td>1.000000</td>\n",
       "      <td>15.781095</td>\n",
       "      <td>26.100000</td>\n",
       "      <td>1.000000</td>\n",
       "      <td>0.271233</td>\n",
       "      <td>22.711614</td>\n",
       "    </tr>\n",
       "  </tbody>\n",
       "</table>\n",
       "</div>"
      ],
      "text/plain": [
       "             PRCP   SNWD        TMAX        TMIN         AWND  \\\n",
       "count  100.000000  100.0  100.000000  100.000000   100.000000   \n",
       "mean     0.038307    0.0   26.443000   14.384000   -69.630000   \n",
       "std      0.182073    0.0    4.277431    2.038108  1003.002288   \n",
       "min      0.000000    0.0   15.600000    9.400000 -9999.000000   \n",
       "25%      0.000000    0.0   23.750000   12.800000    24.000000   \n",
       "50%      0.000000    0.0   26.100000   14.400000    30.000000   \n",
       "75%      0.000000    0.0   29.400000   16.100000    35.000000   \n",
       "max      1.279528    0.0   35.000000   18.300000    58.000000   \n",
       "\n",
       "       Total_yesterday        Mon        Tue         Wed         Thu  \\\n",
       "count       100.000000  100.00000  100.00000  100.000000  100.000000   \n",
       "mean       3566.350000    0.15000    0.15000    0.140000    0.140000   \n",
       "std        1144.927463    0.35887    0.35887    0.348735    0.348735   \n",
       "min         699.000000    0.00000    0.00000    0.000000    0.000000   \n",
       "25%        2330.500000    0.00000    0.00000    0.000000    0.000000   \n",
       "50%        4070.500000    0.00000    0.00000    0.000000    0.000000   \n",
       "75%        4513.500000    0.00000    0.00000    0.000000    0.000000   \n",
       "max        5142.000000    1.00000    1.00000    1.000000    1.000000   \n",
       "\n",
       "              Fri         Sat         Sun     holiday  daylight_hrs  \\\n",
       "count  100.000000  100.000000  100.000000  100.000000    100.000000   \n",
       "mean     0.140000    0.140000    0.140000    0.020000     15.038557   \n",
       "std      0.348735    0.348735    0.348735    0.140705      0.776785   \n",
       "min      0.000000    0.000000    0.000000    0.000000     13.191795   \n",
       "25%      0.000000    0.000000    0.000000    0.000000     14.514716   \n",
       "50%      0.000000    0.000000    0.000000    0.000000     15.372409   \n",
       "75%      0.000000    0.000000    0.000000    0.000000     15.672255   \n",
       "max      1.000000    1.000000    1.000000    1.000000     15.781095   \n",
       "\n",
       "         Temp (C)     dry day      annual   Temp*PRCP  \n",
       "count  100.000000  100.000000  100.000000  100.000000  \n",
       "mean    20.413500    0.870000    0.135616    0.667665  \n",
       "std      2.856102    0.337998    0.079484    3.154459  \n",
       "min     13.350000    0.000000    0.000000    0.000000  \n",
       "25%     18.237500    1.000000    0.067808    0.000000  \n",
       "50%     20.250000    1.000000    0.135616    0.000000  \n",
       "75%     22.500000    1.000000    0.203425    0.000000  \n",
       "max     26.100000    1.000000    0.271233   22.711614  "
      ]
     },
     "execution_count": 223,
     "metadata": {},
     "output_type": "execute_result"
    }
   ],
   "source": [
    "X_test.describe()"
   ]
  },
  {
   "cell_type": "markdown",
   "metadata": {},
   "source": [
    "Looking closer at `X_test`, it seems that the AWND column has at least one value of `-9999`.  I had searched for these in `X_train` before, but I failed to also search in `X_test`.  Let this serve as a lesson.  Whenever we find strange data like this that can cause silent errors, *we have to search in all of our data, not just the subset that we were working with.*"
   ]
  },
  {
   "cell_type": "code",
   "execution_count": 231,
   "metadata": {},
   "outputs": [
    {
     "data": {
      "text/plain": [
       " 26      9\n",
       " 30      8\n",
       " 34      8\n",
       " 24      6\n",
       " 21      6\n",
       " 35      5\n",
       " 37      5\n",
       " 27      4\n",
       " 22      4\n",
       " 32      4\n",
       " 39      3\n",
       " 23      3\n",
       " 43      3\n",
       " 19      3\n",
       " 33      3\n",
       " 25      3\n",
       " 31      3\n",
       " 18      2\n",
       " 58      2\n",
       " 28      2\n",
       " 29      2\n",
       " 38      2\n",
       " 47      2\n",
       " 52      1\n",
       " 36      1\n",
       " 42      1\n",
       " 44      1\n",
       " 20      1\n",
       " 50      1\n",
       " 17      1\n",
       "-9999    1\n",
       "Name: AWND, dtype: int64"
      ]
     },
     "execution_count": 231,
     "metadata": {},
     "output_type": "execute_result"
    }
   ],
   "source": [
    "\n",
    "X_test.AWND.value_counts()"
   ]
  },
  {
   "cell_type": "code",
   "execution_count": 227,
   "metadata": {},
   "outputs": [
    {
     "data": {
      "text/html": [
       "<div>\n",
       "<style scoped>\n",
       "    .dataframe tbody tr th:only-of-type {\n",
       "        vertical-align: middle;\n",
       "    }\n",
       "\n",
       "    .dataframe tbody tr th {\n",
       "        vertical-align: top;\n",
       "    }\n",
       "\n",
       "    .dataframe thead th {\n",
       "        text-align: right;\n",
       "    }\n",
       "</style>\n",
       "<table border=\"1\" class=\"dataframe\">\n",
       "  <thead>\n",
       "    <tr style=\"text-align: right;\">\n",
       "      <th></th>\n",
       "      <th>PRCP</th>\n",
       "      <th>SNWD</th>\n",
       "      <th>TMAX</th>\n",
       "      <th>TMIN</th>\n",
       "      <th>AWND</th>\n",
       "      <th>Total_yesterday</th>\n",
       "      <th>Mon</th>\n",
       "      <th>Tue</th>\n",
       "      <th>Wed</th>\n",
       "      <th>Thu</th>\n",
       "      <th>Fri</th>\n",
       "      <th>Sat</th>\n",
       "      <th>Sun</th>\n",
       "      <th>holiday</th>\n",
       "      <th>daylight_hrs</th>\n",
       "      <th>Temp (C)</th>\n",
       "      <th>dry day</th>\n",
       "      <th>annual</th>\n",
       "      <th>Temp*PRCP</th>\n",
       "    </tr>\n",
       "  </thead>\n",
       "  <tbody>\n",
       "    <tr>\n",
       "      <th>2015-08-28</th>\n",
       "      <td>0.019685</td>\n",
       "      <td>0</td>\n",
       "      <td>23.3</td>\n",
       "      <td>15.6</td>\n",
       "      <td>26</td>\n",
       "      <td>4336.0</td>\n",
       "      <td>0.0</td>\n",
       "      <td>0.0</td>\n",
       "      <td>0.0</td>\n",
       "      <td>0.0</td>\n",
       "      <td>1.0</td>\n",
       "      <td>0.0</td>\n",
       "      <td>0.0</td>\n",
       "      <td>0.0</td>\n",
       "      <td>13.418591</td>\n",
       "      <td>19.45</td>\n",
       "      <td>0</td>\n",
       "      <td>0.260274</td>\n",
       "      <td>0.382874</td>\n",
       "    </tr>\n",
       "    <tr>\n",
       "      <th>2015-08-29</th>\n",
       "      <td>1.279528</td>\n",
       "      <td>0</td>\n",
       "      <td>22.2</td>\n",
       "      <td>13.3</td>\n",
       "      <td>58</td>\n",
       "      <td>2653.0</td>\n",
       "      <td>0.0</td>\n",
       "      <td>0.0</td>\n",
       "      <td>0.0</td>\n",
       "      <td>0.0</td>\n",
       "      <td>0.0</td>\n",
       "      <td>1.0</td>\n",
       "      <td>0.0</td>\n",
       "      <td>0.0</td>\n",
       "      <td>13.362212</td>\n",
       "      <td>17.75</td>\n",
       "      <td>0</td>\n",
       "      <td>0.263014</td>\n",
       "      <td>22.711614</td>\n",
       "    </tr>\n",
       "    <tr>\n",
       "      <th>2015-08-30</th>\n",
       "      <td>0.401575</td>\n",
       "      <td>0</td>\n",
       "      <td>20.0</td>\n",
       "      <td>12.8</td>\n",
       "      <td>47</td>\n",
       "      <td>699.0</td>\n",
       "      <td>0.0</td>\n",
       "      <td>0.0</td>\n",
       "      <td>0.0</td>\n",
       "      <td>0.0</td>\n",
       "      <td>0.0</td>\n",
       "      <td>0.0</td>\n",
       "      <td>1.0</td>\n",
       "      <td>0.0</td>\n",
       "      <td>13.305611</td>\n",
       "      <td>16.40</td>\n",
       "      <td>0</td>\n",
       "      <td>0.265753</td>\n",
       "      <td>6.585827</td>\n",
       "    </tr>\n",
       "    <tr>\n",
       "      <th>2015-08-31</th>\n",
       "      <td>0.000000</td>\n",
       "      <td>0</td>\n",
       "      <td>18.9</td>\n",
       "      <td>16.1</td>\n",
       "      <td>58</td>\n",
       "      <td>1213.0</td>\n",
       "      <td>1.0</td>\n",
       "      <td>0.0</td>\n",
       "      <td>0.0</td>\n",
       "      <td>0.0</td>\n",
       "      <td>0.0</td>\n",
       "      <td>0.0</td>\n",
       "      <td>0.0</td>\n",
       "      <td>0.0</td>\n",
       "      <td>13.248802</td>\n",
       "      <td>17.50</td>\n",
       "      <td>1</td>\n",
       "      <td>0.268493</td>\n",
       "      <td>0.000000</td>\n",
       "    </tr>\n",
       "    <tr>\n",
       "      <th>2015-09-01</th>\n",
       "      <td>0.228346</td>\n",
       "      <td>0</td>\n",
       "      <td>19.4</td>\n",
       "      <td>13.9</td>\n",
       "      <td>-9999</td>\n",
       "      <td>2823.0</td>\n",
       "      <td>0.0</td>\n",
       "      <td>1.0</td>\n",
       "      <td>0.0</td>\n",
       "      <td>0.0</td>\n",
       "      <td>0.0</td>\n",
       "      <td>0.0</td>\n",
       "      <td>0.0</td>\n",
       "      <td>0.0</td>\n",
       "      <td>13.191795</td>\n",
       "      <td>16.65</td>\n",
       "      <td>0</td>\n",
       "      <td>0.271233</td>\n",
       "      <td>3.801969</td>\n",
       "    </tr>\n",
       "  </tbody>\n",
       "</table>\n",
       "</div>"
      ],
      "text/plain": [
       "                PRCP  SNWD  TMAX  TMIN  AWND  Total_yesterday  Mon  Tue  Wed  \\\n",
       "2015-08-28  0.019685     0  23.3  15.6    26           4336.0  0.0  0.0  0.0   \n",
       "2015-08-29  1.279528     0  22.2  13.3    58           2653.0  0.0  0.0  0.0   \n",
       "2015-08-30  0.401575     0  20.0  12.8    47            699.0  0.0  0.0  0.0   \n",
       "2015-08-31  0.000000     0  18.9  16.1    58           1213.0  1.0  0.0  0.0   \n",
       "2015-09-01  0.228346     0  19.4  13.9 -9999           2823.0  0.0  1.0  0.0   \n",
       "\n",
       "            Thu  Fri  Sat  Sun  holiday  daylight_hrs  Temp (C)  dry day  \\\n",
       "2015-08-28  0.0  1.0  0.0  0.0      0.0     13.418591     19.45        0   \n",
       "2015-08-29  0.0  0.0  1.0  0.0      0.0     13.362212     17.75        0   \n",
       "2015-08-30  0.0  0.0  0.0  1.0      0.0     13.305611     16.40        0   \n",
       "2015-08-31  0.0  0.0  0.0  0.0      0.0     13.248802     17.50        1   \n",
       "2015-09-01  0.0  0.0  0.0  0.0      0.0     13.191795     16.65        0   \n",
       "\n",
       "              annual  Temp*PRCP  \n",
       "2015-08-28  0.260274   0.382874  \n",
       "2015-08-29  0.263014  22.711614  \n",
       "2015-08-30  0.265753   6.585827  \n",
       "2015-08-31  0.268493   0.000000  \n",
       "2015-09-01  0.271233   3.801969  "
      ]
     },
     "execution_count": 227,
     "metadata": {},
     "output_type": "execute_result"
    }
   ],
   "source": [
    "# In fact, it's in the very last row of the dataset.\n",
    "X_test.tail()"
   ]
  },
  {
   "cell_type": "code",
   "execution_count": 241,
   "metadata": {},
   "outputs": [
    {
     "data": {
      "text/plain": [
       "PRCP               0\n",
       "SNWD               0\n",
       "TMAX               0\n",
       "TMIN               0\n",
       "AWND               1\n",
       "Total_yesterday    0\n",
       "Mon                0\n",
       "Tue                0\n",
       "Wed                0\n",
       "Thu                0\n",
       "Fri                0\n",
       "Sat                0\n",
       "Sun                0\n",
       "holiday            0\n",
       "daylight_hrs       0\n",
       "Temp (C)           0\n",
       "dry day            0\n",
       "annual             0\n",
       "Temp*PRCP          0\n",
       "dtype: int64"
      ]
     },
     "execution_count": 241,
     "metadata": {},
     "output_type": "execute_result"
    }
   ],
   "source": [
    "# I'll replace with NANs throughout the dataset, to make sure \n",
    "# there are no others\n",
    "X_test = X_test.replace(-9999, np.nan)\n",
    "X_test.isnull().sum()"
   ]
  },
  {
   "cell_type": "code",
   "execution_count": 242,
   "metadata": {},
   "outputs": [
    {
     "data": {
      "text/plain": [
       "PRCP               0\n",
       "SNWD               0\n",
       "TMAX               0\n",
       "TMIN               0\n",
       "AWND               0\n",
       "Total_yesterday    0\n",
       "Mon                0\n",
       "Tue                0\n",
       "Wed                0\n",
       "Thu                0\n",
       "Fri                0\n",
       "Sat                0\n",
       "Sun                0\n",
       "holiday            0\n",
       "daylight_hrs       0\n",
       "Temp (C)           0\n",
       "dry day            0\n",
       "annual             0\n",
       "Temp*PRCP          0\n",
       "dtype: int64"
      ]
     },
     "execution_count": 242,
     "metadata": {},
     "output_type": "execute_result"
    }
   ],
   "source": [
    "# Just to be sure, are there any left in X_train?\n",
    "X_train = X_train.replace(-9999, np.nan)\n",
    "X_train.isnull().sum()"
   ]
  },
  {
   "cell_type": "code",
   "execution_count": 248,
   "metadata": {},
   "outputs": [],
   "source": [
    "# OK, we're clear.  Let's remove this last line and try again.\n",
    "X_test = X_test.iloc[:-1]\n",
    "y_test = y_test.iloc[:-1]"
   ]
  },
  {
   "cell_type": "code",
   "execution_count": 249,
   "metadata": {},
   "outputs": [
    {
     "data": {
      "text/plain": [
       "337.6795817621051"
      ]
     },
     "execution_count": 249,
     "metadata": {},
     "output_type": "execute_result"
    }
   ],
   "source": [
    "# Retrieve that model\n",
    "model = Ridge(alpha=1)\n",
    "model.fit(X_train, y_train)\n",
    "y_pred = model.predict(X_test)\n",
    "mean_absolute_error(y_test, y_pred)"
   ]
  },
  {
   "cell_type": "markdown",
   "metadata": {},
   "source": [
    "Much better."
   ]
  },
  {
   "cell_type": "code",
   "execution_count": 250,
   "metadata": {},
   "outputs": [
    {
     "data": {
      "image/png": "[encoded data removed]",
      "text/plain": [
       "<Figure size 936x360 with 1 Axes>"
      ]
     },
     "metadata": {
      "needs_background": "light"
     },
     "output_type": "display_data"
    }
   ],
   "source": [
    "## Plotting...\n",
    "bikes = pd.DataFrame(y_test).rename(columns={'Total':'y_test'})\n",
    "bikes['y_pred'] = y_pred\n",
    "\n",
    "# And plot\n",
    "fig, ax = plt.subplots(figsize=(13,5))\n",
    "ax.plot(bikes['y_test']);\n",
    "ax.plot(bikes['y_pred']);\n",
    "ax.set_xlabel('Date', fontsize=16)\n",
    "ax.set_ylabel('Total bikers', fontsize=16)\n",
    "ax.legend();"
   ]
  },
  {
   "cell_type": "markdown",
   "metadata": {},
   "source": [
    "And that's all, folks!"
   ]
  },
  {
   "cell_type": "code",
   "execution_count": null,
   "metadata": {},
   "outputs": [],
   "source": []
  }
 ],
 "metadata": {
  "colab": {
   "collapsed_sections": [],
   "name": "LS_DS_243_Select_models_and_parameters.ipynb",
   "provenance": [],
   "version": "0.3.2"
  },
  "kernelspec": {
   "display_name": "Python 3",
   "language": "python",
   "name": "python3"
  },
  "language_info": {
   "codemirror_mode": {
    "name": "ipython",
    "version": 3
   },
   "file_extension": ".py",
   "mimetype": "text/x-python",
   "name": "python",
   "nbconvert_exporter": "python",
   "pygments_lexer": "ipython3",
   "version": "3.6.7"
  }
 },
 "nbformat": 4,
 "nbformat_minor": 1
}
