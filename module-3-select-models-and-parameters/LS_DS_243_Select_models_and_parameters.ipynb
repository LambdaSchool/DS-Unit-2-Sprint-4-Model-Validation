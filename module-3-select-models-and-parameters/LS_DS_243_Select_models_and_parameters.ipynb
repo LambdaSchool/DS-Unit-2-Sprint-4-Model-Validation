{
  "nbformat": 4,
  "nbformat_minor": 0,
  "metadata": {
    "colab": {
      "name": "LS_DS_243_Select_models_and_parameters.ipynb",
      "version": "0.3.2",
      "provenance": [],
      "collapsed_sections": [],
      "include_colab_link": true
    },
    "kernelspec": {
      "name": "python3",
      "display_name": "Python 3"
    }
  },
  "cells": [
    {
      "cell_type": "markdown",
      "metadata": {
        "id": "view-in-github",
        "colab_type": "text"
      },
      "source": [
        "<a href=\"https://colab.research.google.com/github/cocoisland/DS-Unit-2-Sprint-4-Model-Validation/blob/master/module-3-select-models-and-parameters/LS_DS_243_Select_models_and_parameters.ipynb\" target=\"_parent\"><img src=\"https://colab.research.google.com/assets/colab-badge.svg\" alt=\"Open In Colab\"/></a>"
      ]
    },
    {
      "metadata": {
        "id": "O67uhlT4MExK",
        "colab_type": "text"
      },
      "cell_type": "markdown",
      "source": [
        "_Lambda School Data Science — Model Validation_\n",
        "\n",
        "# Select models and parameters\n",
        "\n",
        "Objectives\n",
        "- Hyperparameter optimization\n",
        "- Model selection"
      ]
    },
    {
      "metadata": {
        "id": "VE4rfZd4NUGA",
        "colab_type": "text"
      },
      "cell_type": "markdown",
      "source": [
        "Today we'll use this process:\n",
        "\n",
        "## \"A universal workflow of machine learning\"\n",
        "\n",
        "_Excerpt from Francois Chollet, [Deep Learning with Python](https://github.com/fchollet/deep-learning-with-python-notebooks/blob/master/README.md), Chapter 4: Fundamentals of machine learning_\n",
        " \n",
        "**1. Define the problem at hand and the data on which you’ll train.** Collect this data, or annotate it with labels if need be.\n",
        "\n",
        "**2. Choose how you’ll measure success on your problem.** Which metrics will you monitor on your validation data?\n",
        "\n",
        "**3. Determine your evaluation protocol:** hold-out validation? K-fold validation? Which portion of the data should you use for validation?\n",
        "\n",
        "**4. Develop a first model that does better than a basic baseline:** a model with statistical power.\n",
        "\n",
        "**5. Develop a model that overfits.** The universal tension in machine learning is between optimization and generalization; the ideal model is one that stands right at the border between underfitting and overfitting; between undercapacity and overcapacity. To figure out where this border lies, first you must cross it.\n",
        "\n",
        "**6. Regularize your model and tune its hyperparameters, based on performance on the validation data.** Repeatedly modify your model, train it, evaluate on your validation data (not the test data, at this point), modify it again, and repeat, until the model is as good as it can get. \n",
        "\n",
        "Iterate on feature engineering: add new features, or remove features that don’t seem to be informative. Once you’ve developed a satisfactory model configuration, you can train your final production model on all the available data (training and validation) and evaluate it one last time on the test set.\n"
      ]
    },
    {
      "metadata": {
        "id": "3kt6bzEcOIaa",
        "colab_type": "text"
      },
      "cell_type": "markdown",
      "source": [
        "## 1. Define the problem at hand and the data on which you'll train"
      ]
    },
    {
      "metadata": {
        "id": "di16k7vpRg67",
        "colab_type": "text"
      },
      "cell_type": "markdown",
      "source": [
        "We'll apply the workflow to a [project from _Python Data Science Handbook_](https://jakevdp.github.io/PythonDataScienceHandbook/05.06-linear-regression.html#Example:-Predicting-Bicycle-Traffic) by Jake VanderPlas:\n",
        "\n",
        "> **Predicting Bicycle Traffic**\n",
        "\n",
        "> As an example, let's take a look at whether we can predict the number of bicycle trips across Seattle's Fremont Bridge based on weather, season, and other factors.\n",
        "\n",
        "> We will join the bike data with another dataset, and try to determine the extent to which weather and seasonal factors—temperature, precipitation, and daylight hours—affect the volume of bicycle traffic through this corridor. Fortunately, the NOAA makes available their daily [weather station data](http://www.ncdc.noaa.gov/cdo-web/search?datasetid=GHCND) (I used station ID USW00024233) and we can easily use Pandas to join the two data sources.\n",
        "\n",
        "> Let's start by loading the two datasets, indexing by date:"
      ]
    },
    {
      "metadata": {
        "id": "19dpb_d0R1A6",
        "colab_type": "text"
      },
      "cell_type": "markdown",
      "source": [
        "So this is a regression problem, not a classification problem. We'll define the target, choose an evaluation metric, and choose models that are appropriate for regression problems.\n",
        "\n",
        "\n"
      ]
    },
    {
      "metadata": {
        "id": "os1zruXQ30KM",
        "colab_type": "text"
      },
      "cell_type": "markdown",
      "source": [
        "### Download data"
      ]
    },
    {
      "metadata": {
        "id": "5XVu-HSeMDtV",
        "colab_type": "code",
        "colab": {
          "base_uri": "https://localhost:8080/",
          "height": 68
        },
        "outputId": "41902b39-0d06-4ca0-b8c0-130f51697034"
      },
      "cell_type": "code",
      "source": [
        "!curl -o FremontBridge.csv https://data.seattle.gov/api/views/65db-xm6k/rows.csv?accessType=DOWNLOAD"
      ],
      "execution_count": 4,
      "outputs": [
        {
          "output_type": "stream",
          "text": [
            "  % Total    % Received % Xferd  Average Speed   Time    Time     Time  Current\n",
            "                                 Dload  Upload   Total   Spent    Left  Speed\n",
            "100 1536k    0 1536k    0     0   869k      0 --:--:--  0:00:01 --:--:--  869k\n"
          ],
          "name": "stdout"
        }
      ]
    },
    {
      "metadata": {
        "id": "sih_7mTzMdfr",
        "colab_type": "code",
        "colab": {
          "base_uri": "https://localhost:8080/",
          "height": 206
        },
        "outputId": "505efbf5-e620-4432-9947-e779420d4218"
      },
      "cell_type": "code",
      "source": [
        "!wget https://raw.githubusercontent.com/jakevdp/PythonDataScienceHandbook/master/notebooks/data/BicycleWeather.csv"
      ],
      "execution_count": 6,
      "outputs": [
        {
          "output_type": "stream",
          "text": [
            "--2019-01-31 16:20:30--  https://raw.githubusercontent.com/jakevdp/PythonDataScienceHandbook/master/notebooks/data/BicycleWeather.csv\n",
            "Resolving raw.githubusercontent.com (raw.githubusercontent.com)... 151.101.0.133, 151.101.64.133, 151.101.128.133, ...\n",
            "Connecting to raw.githubusercontent.com (raw.githubusercontent.com)|151.101.0.133|:443... connected.\n",
            "HTTP request sent, awaiting response... 200 OK\n",
            "Length: 234945 (229K) [text/plain]\n",
            "Saving to: ‘BicycleWeather.csv.1’\n",
            "\n",
            "\rBicycleWeather.csv.   0%[                    ]       0  --.-KB/s               \rBicycleWeather.csv. 100%[===================>] 229.44K  --.-KB/s    in 0.03s   \n",
            "\n",
            "2019-01-31 16:20:30 (7.66 MB/s) - ‘BicycleWeather.csv.1’ saved [234945/234945]\n",
            "\n"
          ],
          "name": "stdout"
        }
      ]
    },
    {
      "metadata": {
        "id": "9GYm74kD34OQ",
        "colab_type": "text"
      },
      "cell_type": "markdown",
      "source": [
        "### Load data"
      ]
    },
    {
      "metadata": {
        "id": "BfQ7gE28MNdF",
        "colab_type": "code",
        "colab": {
          "base_uri": "https://localhost:8080/",
          "height": 34
        },
        "outputId": "860c623e-fbef-4402-e78f-bd78da5534ee"
      },
      "cell_type": "code",
      "source": [
        "# Modified from cells 15, 16, and 20, at\n",
        "# https://jakevdp.github.io/PythonDataScienceHandbook/05.06-linear-regression.html#Example:-Predicting-Bicycle-Traffic\n",
        "\n",
        "import pandas as pd\n",
        "\n",
        "counts = pd.read_csv('FremontBridge.csv', index_col='Date', parse_dates=True, \n",
        "                     infer_datetime_format=True)\n",
        "\n",
        "weather = pd.read_csv('BicycleWeather.csv', index_col='DATE', parse_dates=True, \n",
        "                      infer_datetime_format=False)\n",
        "\n",
        "daily = counts.resample('d').sum()\n",
        "daily['Total'] = daily.sum(axis=1)\n",
        "daily = daily[['Total']] # remove other columns\n",
        "\n",
        "print(weather.shape, counts.shape, daily.shape)\n",
        "\n",
        "weather_columns = ['PRCP', 'SNOW', 'SNWD', 'TMAX', 'TMIN', 'AWND']\n",
        "daily = daily.join(weather[weather_columns], how='inner') # index by date"
      ],
      "execution_count": 143,
      "outputs": [
        {
          "output_type": "stream",
          "text": [
            "(1340, 25) (54744, 2) (2281, 1)\n"
          ],
          "name": "stdout"
        }
      ]
    },
    {
      "metadata": {
        "id": "i0YYD6rvypb4",
        "colab_type": "code",
        "colab": {}
      },
      "cell_type": "code",
      "source": [
        "# Make a feature for yesterday's total\n",
        "daily['Total_yesterday'] = daily.Total.shift(1)\n",
        "\n",
        "daily = daily.drop(index=daily.index[0])"
      ],
      "execution_count": 0,
      "outputs": []
    },
    {
      "metadata": {
        "id": "VVB3g4704An5",
        "colab_type": "text"
      },
      "cell_type": "markdown",
      "source": [
        "### First fast look at the data\n",
        "- What's the shape?\n",
        "- What's the date range?\n",
        "- What's the target and the features?"
      ]
    },
    {
      "metadata": {
        "id": "t50E2fTUWBBU",
        "colab_type": "code",
        "colab": {
          "base_uri": "https://localhost:8080/",
          "height": 34
        },
        "outputId": "7fea5004-18ed-4eeb-9088-8a569af43729"
      },
      "cell_type": "code",
      "source": [
        "daily.shape"
      ],
      "execution_count": 39,
      "outputs": [
        {
          "output_type": "execute_result",
          "data": {
            "text/plain": [
              "(1063, 8)"
            ]
          },
          "metadata": {
            "tags": []
          },
          "execution_count": 39
        }
      ]
    },
    {
      "metadata": {
        "id": "TBmlLc_ngoRr",
        "colab_type": "code",
        "colab": {
          "base_uri": "https://localhost:8080/",
          "height": 138
        },
        "outputId": "adba1734-20c5-4c56-ce84-2436edb9b9d8"
      },
      "cell_type": "code",
      "source": [
        "daily.head(3)"
      ],
      "execution_count": 40,
      "outputs": [
        {
          "output_type": "execute_result",
          "data": {
            "text/html": [
              "<div>\n",
              "<style scoped>\n",
              "    .dataframe tbody tr th:only-of-type {\n",
              "        vertical-align: middle;\n",
              "    }\n",
              "\n",
              "    .dataframe tbody tr th {\n",
              "        vertical-align: top;\n",
              "    }\n",
              "\n",
              "    .dataframe thead th {\n",
              "        text-align: right;\n",
              "    }\n",
              "</style>\n",
              "<table border=\"1\" class=\"dataframe\">\n",
              "  <thead>\n",
              "    <tr style=\"text-align: right;\">\n",
              "      <th></th>\n",
              "      <th>Total</th>\n",
              "      <th>PRCP</th>\n",
              "      <th>SNOW</th>\n",
              "      <th>SNWD</th>\n",
              "      <th>TMAX</th>\n",
              "      <th>TMIN</th>\n",
              "      <th>AWND</th>\n",
              "      <th>Total_yesterday</th>\n",
              "    </tr>\n",
              "  </thead>\n",
              "  <tbody>\n",
              "    <tr>\n",
              "      <th>2012-10-04</th>\n",
              "      <td>3475.0</td>\n",
              "      <td>0</td>\n",
              "      <td>0</td>\n",
              "      <td>0</td>\n",
              "      <td>189</td>\n",
              "      <td>83</td>\n",
              "      <td>65</td>\n",
              "      <td>3521.0</td>\n",
              "    </tr>\n",
              "    <tr>\n",
              "      <th>2012-10-05</th>\n",
              "      <td>3148.0</td>\n",
              "      <td>0</td>\n",
              "      <td>0</td>\n",
              "      <td>0</td>\n",
              "      <td>217</td>\n",
              "      <td>89</td>\n",
              "      <td>57</td>\n",
              "      <td>3475.0</td>\n",
              "    </tr>\n",
              "    <tr>\n",
              "      <th>2012-10-06</th>\n",
              "      <td>2006.0</td>\n",
              "      <td>0</td>\n",
              "      <td>0</td>\n",
              "      <td>0</td>\n",
              "      <td>239</td>\n",
              "      <td>78</td>\n",
              "      <td>51</td>\n",
              "      <td>3148.0</td>\n",
              "    </tr>\n",
              "  </tbody>\n",
              "</table>\n",
              "</div>"
            ],
            "text/plain": [
              "             Total  PRCP  SNOW  SNWD  TMAX  TMIN  AWND  Total_yesterday\n",
              "2012-10-04  3475.0     0     0     0   189    83    65           3521.0\n",
              "2012-10-05  3148.0     0     0     0   217    89    57           3475.0\n",
              "2012-10-06  2006.0     0     0     0   239    78    51           3148.0"
            ]
          },
          "metadata": {
            "tags": []
          },
          "execution_count": 40
        }
      ]
    },
    {
      "metadata": {
        "id": "rSAppE0zgtNc",
        "colab_type": "code",
        "colab": {
          "base_uri": "https://localhost:8080/",
          "height": 138
        },
        "outputId": "4b2b8380-6831-4b26-b8db-f454ab94e2ae"
      },
      "cell_type": "code",
      "source": [
        "daily.tail(3)"
      ],
      "execution_count": 41,
      "outputs": [
        {
          "output_type": "execute_result",
          "data": {
            "text/html": [
              "<div>\n",
              "<style scoped>\n",
              "    .dataframe tbody tr th:only-of-type {\n",
              "        vertical-align: middle;\n",
              "    }\n",
              "\n",
              "    .dataframe tbody tr th {\n",
              "        vertical-align: top;\n",
              "    }\n",
              "\n",
              "    .dataframe thead th {\n",
              "        text-align: right;\n",
              "    }\n",
              "</style>\n",
              "<table border=\"1\" class=\"dataframe\">\n",
              "  <thead>\n",
              "    <tr style=\"text-align: right;\">\n",
              "      <th></th>\n",
              "      <th>Total</th>\n",
              "      <th>PRCP</th>\n",
              "      <th>SNOW</th>\n",
              "      <th>SNWD</th>\n",
              "      <th>TMAX</th>\n",
              "      <th>TMIN</th>\n",
              "      <th>AWND</th>\n",
              "      <th>Total_yesterday</th>\n",
              "    </tr>\n",
              "  </thead>\n",
              "  <tbody>\n",
              "    <tr>\n",
              "      <th>2015-08-30</th>\n",
              "      <td>1213.0</td>\n",
              "      <td>102</td>\n",
              "      <td>0</td>\n",
              "      <td>0</td>\n",
              "      <td>200</td>\n",
              "      <td>128</td>\n",
              "      <td>47</td>\n",
              "      <td>699.0</td>\n",
              "    </tr>\n",
              "    <tr>\n",
              "      <th>2015-08-31</th>\n",
              "      <td>2823.0</td>\n",
              "      <td>0</td>\n",
              "      <td>0</td>\n",
              "      <td>0</td>\n",
              "      <td>189</td>\n",
              "      <td>161</td>\n",
              "      <td>58</td>\n",
              "      <td>1213.0</td>\n",
              "    </tr>\n",
              "    <tr>\n",
              "      <th>2015-09-01</th>\n",
              "      <td>2876.0</td>\n",
              "      <td>58</td>\n",
              "      <td>0</td>\n",
              "      <td>0</td>\n",
              "      <td>194</td>\n",
              "      <td>139</td>\n",
              "      <td>-9999</td>\n",
              "      <td>2823.0</td>\n",
              "    </tr>\n",
              "  </tbody>\n",
              "</table>\n",
              "</div>"
            ],
            "text/plain": [
              "             Total  PRCP  SNOW  SNWD  TMAX  TMIN  AWND  Total_yesterday\n",
              "2015-08-30  1213.0   102     0     0   200   128    47            699.0\n",
              "2015-08-31  2823.0     0     0     0   189   161    58           1213.0\n",
              "2015-09-01  2876.0    58     0     0   194   139 -9999           2823.0"
            ]
          },
          "metadata": {
            "tags": []
          },
          "execution_count": 41
        }
      ]
    },
    {
      "metadata": {
        "id": "XgMvCsaWJR7Q",
        "colab_type": "text"
      },
      "cell_type": "markdown",
      "source": [
        "Target\n",
        "- Total : Daily total number of bicycle trips across Seattle's Fremont Bridge\n",
        "\n",
        "Features\n",
        "- Date (index) : from 2012-10-04 to 2015-09-01\n",
        "- Total_yesterday : Total trips yesterday\n",
        "- PRCP : Precipitation (1/10 mm)\n",
        "- SNOW : Snowfall (1/10 mm)\n",
        "- SNWD : Snow depth (1/10 mm)\n",
        "- TMAX : Maximum temperature (1/10 Celsius)\n",
        "- TMIN : Minimum temperature (1/10 Celsius)\n",
        "- AWND : Average daily wind speed (1/10 meters per second)"
      ]
    },
    {
      "metadata": {
        "id": "lenL-przSYCo",
        "colab_type": "text"
      },
      "cell_type": "markdown",
      "source": [
        "## 2. Choose how you’ll measure success on your problem.\n",
        "\n",
        "Which metrics will you monitor on your validation data?\n",
        "\n",
        "This is a regression problem, so we need to choose a regression [metric](https://scikit-learn.org/stable/modules/model_evaluation.html#common-cases-predefined-values).\n",
        "\n",
        "\n",
        "\n",
        "I'll choose mean absolute error.\n",
        "\n"
      ]
    },
    {
      "metadata": {
        "id": "1TqbomapSyRP",
        "colab_type": "code",
        "colab": {}
      },
      "cell_type": "code",
      "source": [
        "from sklearn.metrics import mean_absolute_error"
      ],
      "execution_count": 0,
      "outputs": []
    },
    {
      "metadata": {
        "id": "IRHrB3rsS5hF",
        "colab_type": "text"
      },
      "cell_type": "markdown",
      "source": [
        "## 3. Determine your evaluation protocol \n",
        "\n",
        "We're doing model selection, hyperparameter optimization, and performance estimation. So generally we have two ideal [options](https://sebastianraschka.com/images/blog/2018/model-evaluation-selection-part4/model-eval-conclusions.jpg) to choose from:\n",
        "\n",
        "- 3-way holdout method (train/validation/test split)\n",
        "- Cross-validation with independent test set\n",
        "\n",
        "I'll choose cross-validation with independent test set. Scikit-learn makes cross-validation convenient for us!\n",
        "\n",
        "Specifically, I will use random shuffled cross validation to train and validate, but I will hold out an \"out-of-time\" test set, from the last 100 days of data:\n",
        "\n",
        "\n",
        "\n"
      ]
    },
    {
      "metadata": {
        "id": "A3xo6HgbPMFm",
        "colab_type": "code",
        "colab": {}
      },
      "cell_type": "code",
      "source": [
        "train = daily[:-100]\n",
        "test = daily[-100:]\n",
        "\n",
        "X_train = train.drop(columns='Total')\n",
        "y_train = train.Total\n",
        "\n",
        "X_test  = test.drop(columns='Total')\n",
        "y_test  = test.Total"
      ],
      "execution_count": 0,
      "outputs": []
    },
    {
      "metadata": {
        "id": "vH6IsORQTvTU",
        "colab_type": "text"
      },
      "cell_type": "markdown",
      "source": [
        "## 4. Develop a first model that does better than a basic baseline"
      ]
    },
    {
      "metadata": {
        "id": "DJBs2nQkj7oB",
        "colab_type": "text"
      },
      "cell_type": "markdown",
      "source": [
        "### Look at the target's distribution and descriptive stats"
      ]
    },
    {
      "metadata": {
        "id": "P5peakv9Zs71",
        "colab_type": "code",
        "colab": {
          "base_uri": "https://localhost:8080/",
          "height": 331
        },
        "outputId": "d5f1c8f9-7423-4224-9853-7efbe5250735"
      },
      "cell_type": "code",
      "source": [
        "%matplotlib inline\n",
        "import seaborn as sns\n",
        "sns.distplot(y_train);"
      ],
      "execution_count": 43,
      "outputs": [
        {
          "output_type": "stream",
          "text": [
            "/usr/local/lib/python3.6/dist-packages/matplotlib/axes/_axes.py:6521: MatplotlibDeprecationWarning: \n",
            "The 'normed' kwarg was deprecated in Matplotlib 2.1 and will be removed in 3.1. Use 'density' instead.\n",
            "  alternative=\"'density'\", removal=\"3.1\")\n"
          ],
          "name": "stderr"
        },
        {
          "output_type": "display_data",
          "data": {
            "image/png": "[encoded data removed]",
            "text/plain": [
              "<Figure size 432x288 with 1 Axes>"
            ]
          },
          "metadata": {
            "tags": []
          }
        }
      ]
    },
    {
      "metadata": {
        "id": "96LuDCtFimCH",
        "colab_type": "code",
        "colab": {
          "base_uri": "https://localhost:8080/",
          "height": 171
        },
        "outputId": "e3dc0d9b-70ac-4e9b-f69a-7b121dd5da36"
      },
      "cell_type": "code",
      "source": [
        "y_train.describe()"
      ],
      "execution_count": 44,
      "outputs": [
        {
          "output_type": "execute_result",
          "data": {
            "text/plain": [
              "count     963.000000\n",
              "mean     2534.329180\n",
              "std      1224.065027\n",
              "min        98.000000\n",
              "25%      1755.000000\n",
              "50%      2381.000000\n",
              "75%      3317.500000\n",
              "max      6088.000000\n",
              "Name: Total, dtype: float64"
            ]
          },
          "metadata": {
            "tags": []
          },
          "execution_count": 44
        }
      ]
    },
    {
      "metadata": {
        "id": "fEjxxgV9kExY",
        "colab_type": "text"
      },
      "cell_type": "markdown",
      "source": [
        "### Basic baseline 1"
      ]
    },
    {
      "metadata": {
        "id": "6GepKdQjYcEP",
        "colab_type": "code",
        "colab": {
          "base_uri": "https://localhost:8080/",
          "height": 34
        },
        "outputId": "86682efe-1909-4cc9-ee3a-704a01a843be"
      },
      "cell_type": "code",
      "source": [
        "import numpy as np\n",
        "y_pred = np.full(shape=y_train.shape, fill_value=y_train.mean())\n",
        "mean_absolute_error(y_train, y_pred)"
      ],
      "execution_count": 146,
      "outputs": [
        {
          "output_type": "execute_result",
          "data": {
            "text/plain": [
              "980.8981106765484"
            ]
          },
          "metadata": {
            "tags": []
          },
          "execution_count": 146
        }
      ]
    },
    {
      "metadata": {
        "id": "tN2I_F3FkIHb",
        "colab_type": "text"
      },
      "cell_type": "markdown",
      "source": [
        "### Basic baseline 2"
      ]
    },
    {
      "metadata": {
        "id": "ZW8bhZFtTunV",
        "colab_type": "code",
        "colab": {
          "base_uri": "https://localhost:8080/",
          "height": 34
        },
        "outputId": "29d0d89a-02fb-44a6-e1ec-37a54cc40939"
      },
      "cell_type": "code",
      "source": [
        "# if yesterday mean_absolute error lower than overall mean, then y_data is sequential.\n",
        "mean_absolute_error(y_train, X_train.Total_yesterday)"
      ],
      "execution_count": 147,
      "outputs": [
        {
          "output_type": "execute_result",
          "data": {
            "text/plain": [
              "708.061266874351"
            ]
          },
          "metadata": {
            "tags": []
          },
          "execution_count": 147
        }
      ]
    },
    {
      "metadata": {
        "id": "Ggf3VpxwkJ0T",
        "colab_type": "text"
      },
      "cell_type": "markdown",
      "source": [
        "### First model that does better than a basic baseline"
      ]
    },
    {
      "metadata": {
        "id": "KfaqL1Ezer2-",
        "colab_type": "text"
      },
      "cell_type": "markdown",
      "source": [
        "https://scikit-learn.org/stable/modules/generated/sklearn.model_selection.cross_validate.html"
      ]
    },
    {
      "metadata": {
        "id": "OeBtU68skfW-",
        "colab_type": "code",
        "colab": {
          "base_uri": "https://localhost:8080/",
          "height": 138
        },
        "outputId": "b455e7f8-19bb-4d7f-d455-afe3f0dce665"
      },
      "cell_type": "code",
      "source": [
        "from sklearn.linear_model import LinearRegression\n",
        "from sklearn.model_selection import cross_validate\n",
        "\n",
        "scores = cross_validate(LinearRegression(), X_train, y_train, \n",
        "                        scoring='neg_mean_absolute_error', cv=3, \n",
        "                        return_train_score=True, return_estimator=True)\n",
        "\n",
        "pd.DataFrame(scores)"
      ],
      "execution_count": 154,
      "outputs": [
        {
          "output_type": "execute_result",
          "data": {
            "text/html": [
              "<div>\n",
              "<style scoped>\n",
              "    .dataframe tbody tr th:only-of-type {\n",
              "        vertical-align: middle;\n",
              "    }\n",
              "\n",
              "    .dataframe tbody tr th {\n",
              "        vertical-align: top;\n",
              "    }\n",
              "\n",
              "    .dataframe thead th {\n",
              "        text-align: right;\n",
              "    }\n",
              "</style>\n",
              "<table border=\"1\" class=\"dataframe\">\n",
              "  <thead>\n",
              "    <tr style=\"text-align: right;\">\n",
              "      <th></th>\n",
              "      <th>estimator</th>\n",
              "      <th>fit_time</th>\n",
              "      <th>score_time</th>\n",
              "      <th>test_score</th>\n",
              "      <th>train_score</th>\n",
              "    </tr>\n",
              "  </thead>\n",
              "  <tbody>\n",
              "    <tr>\n",
              "      <th>0</th>\n",
              "      <td>LinearRegression(copy_X=True, fit_intercept=Tr...</td>\n",
              "      <td>0.003548</td>\n",
              "      <td>0.002361</td>\n",
              "      <td>-555.186275</td>\n",
              "      <td>-619.509206</td>\n",
              "    </tr>\n",
              "    <tr>\n",
              "      <th>1</th>\n",
              "      <td>LinearRegression(copy_X=True, fit_intercept=Tr...</td>\n",
              "      <td>0.002319</td>\n",
              "      <td>0.002395</td>\n",
              "      <td>-651.126513</td>\n",
              "      <td>-583.427702</td>\n",
              "    </tr>\n",
              "    <tr>\n",
              "      <th>2</th>\n",
              "      <td>LinearRegression(copy_X=True, fit_intercept=Tr...</td>\n",
              "      <td>0.001928</td>\n",
              "      <td>0.001418</td>\n",
              "      <td>-615.965800</td>\n",
              "      <td>-589.341301</td>\n",
              "    </tr>\n",
              "  </tbody>\n",
              "</table>\n",
              "</div>"
            ],
            "text/plain": [
              "                                           estimator  fit_time  score_time  \\\n",
              "0  LinearRegression(copy_X=True, fit_intercept=Tr...  0.003548    0.002361   \n",
              "1  LinearRegression(copy_X=True, fit_intercept=Tr...  0.002319    0.002395   \n",
              "2  LinearRegression(copy_X=True, fit_intercept=Tr...  0.001928    0.001418   \n",
              "\n",
              "   test_score  train_score  \n",
              "0 -555.186275  -619.509206  \n",
              "1 -651.126513  -583.427702  \n",
              "2 -615.965800  -589.341301  "
            ]
          },
          "metadata": {
            "tags": []
          },
          "execution_count": 154
        }
      ]
    },
    {
      "metadata": {
        "id": "GDjmQ-CSmH4V",
        "colab_type": "code",
        "colab": {
          "base_uri": "https://localhost:8080/",
          "height": 34
        },
        "outputId": "773dd4b0-23c2-40b6-e965-6835dd9ab6fc"
      },
      "cell_type": "code",
      "source": [
        "scores['test_score'].mean()"
      ],
      "execution_count": 155,
      "outputs": [
        {
          "output_type": "execute_result",
          "data": {
            "text/plain": [
              "-607.4261958631806"
            ]
          },
          "metadata": {
            "tags": []
          },
          "execution_count": 155
        }
      ]
    },
    {
      "metadata": {
        "id": "crBOX2vmmNJJ",
        "colab_type": "code",
        "colab": {
          "base_uri": "https://localhost:8080/",
          "height": 583
        },
        "outputId": "8f0fb329-5983-4aa1-c123-fd78dd865a0e"
      },
      "cell_type": "code",
      "source": [
        "# too early to look at the fine detail of coefficient since the right model has\n",
        "# not yet been determined. This is just to show what can be done with model.\n",
        "\n",
        "# look for coefficient that flipped from neg to pos and vice-verse\n",
        "# ge SNWD -12, 20, -8 -- unstable and introduce residual error in output.\n",
        "\n",
        "for i, model in enumerate(scores['estimator']):\n",
        "    coefficients = model.coef_\n",
        "    intercept = model.intercept_\n",
        "    feature_names = X_train.columns\n",
        "    \n",
        "    print('Model from cross validation fold #' + str(i))\n",
        "    print('Intercept', model.intercept_)\n",
        "    print(pd.Series(coefficients, feature_names).to_string())\n",
        "    print('\\n')"
      ],
      "execution_count": 156,
      "outputs": [
        {
          "output_type": "stream",
          "text": [
            "Model from cross validation fold #0\n",
            "Intercept 566.7766337283679\n",
            "PRCP               -3.525103\n",
            "SNOW               -0.082029\n",
            "SNWD              -12.045027\n",
            "TMAX                9.475238\n",
            "TMIN               -4.607775\n",
            "AWND               -2.745191\n",
            "Total_yesterday     0.417360\n",
            "\n",
            "\n",
            "Model from cross validation fold #1\n",
            "Intercept 671.9064515706045\n",
            "PRCP               -2.772253\n",
            "SNOW               -0.000995\n",
            "SNWD               20.800688\n",
            "TMAX                8.804948\n",
            "TMIN               -3.741386\n",
            "AWND               -6.108300\n",
            "Total_yesterday     0.405074\n",
            "\n",
            "\n",
            "Model from cross validation fold #2\n",
            "Intercept 465.84525362296563\n",
            "PRCP               -2.876196\n",
            "SNOW               -0.016432\n",
            "SNWD               -8.809696\n",
            "TMAX               10.419441\n",
            "TMIN               -5.862868\n",
            "AWND               -2.398991\n",
            "Total_yesterday     0.423493\n",
            "\n",
            "\n"
          ],
          "name": "stdout"
        }
      ]
    },
    {
      "metadata": {
        "id": "vgTMob_Jmqv3",
        "colab_type": "code",
        "colab": {
          "base_uri": "https://localhost:8080/",
          "height": 583
        },
        "outputId": "19c9de10-5ae0-4e05-fbfd-962e09743534"
      },
      "cell_type": "code",
      "source": [
        "# look for coefficient that range neg to pos in 2.5-97.5 range.\n",
        "# eg SNWD -26-8\n",
        "\n",
        "import statsmodels.api as sm\n",
        "model = sm.OLS(y_train, sm.add_constant(X_train))\n",
        "print(model.fit().summary())"
      ],
      "execution_count": 157,
      "outputs": [
        {
          "output_type": "stream",
          "text": [
            "                            OLS Regression Results                            \n",
            "==============================================================================\n",
            "Dep. Variable:                  Total   R-squared:                       0.628\n",
            "Model:                            OLS   Adj. R-squared:                  0.625\n",
            "Method:                 Least Squares   F-statistic:                     230.2\n",
            "Date:                Thu, 31 Jan 2019   Prob (F-statistic):          4.80e-200\n",
            "Time:                        01:47:31   Log-Likelihood:                -7736.8\n",
            "No. Observations:                 963   AIC:                         1.549e+04\n",
            "Df Residuals:                     955   BIC:                         1.553e+04\n",
            "Df Model:                           7                                         \n",
            "Covariance Type:            nonrobust                                         \n",
            "===================================================================================\n",
            "                      coef    std err          t      P>|t|      [0.025      0.975]\n",
            "-----------------------------------------------------------------------------------\n",
            "const             571.7691     93.165      6.137      0.000     388.937     754.601\n",
            "PRCP               -3.0616      0.396     -7.726      0.000      -3.839      -2.284\n",
            "SNOW               -0.0271      0.038     -0.721      0.471      -0.101       0.047\n",
            "SNWD               -9.1379      8.974     -1.018      0.309     -26.748       8.472\n",
            "TMAX                9.4823      0.774     12.258      0.000       7.964      11.000\n",
            "TMIN               -4.6742      1.026     -4.555      0.000      -6.688      -2.660\n",
            "AWND               -3.7006      1.747     -2.119      0.034      -7.128      -0.273\n",
            "Total_yesterday     0.4165      0.025     16.460      0.000       0.367       0.466\n",
            "==============================================================================\n",
            "Omnibus:                        6.601   Durbin-Watson:                   1.571\n",
            "Prob(Omnibus):                  0.037   Jarque-Bera (JB):                6.648\n",
            "Skew:                          -0.187   Prob(JB):                       0.0360\n",
            "Kurtosis:                       2.841   Cond. No.                     1.09e+04\n",
            "==============================================================================\n",
            "\n",
            "Warnings:\n",
            "[1] Standard Errors assume that the covariance matrix of the errors is correctly specified.\n",
            "[2] The condition number is large, 1.09e+04. This might indicate that there are\n",
            "strong multicollinearity or other numerical problems.\n"
          ],
          "name": "stdout"
        }
      ]
    },
    {
      "metadata": {
        "id": "fg1YI4X8n9nI",
        "colab_type": "text"
      },
      "cell_type": "markdown",
      "source": [
        "## 5. Develop a model that overfits. \n",
        "\n",
        "\"The universal tension in machine learning is between optimization and generalization; the ideal model is one that stands right at the border between underfitting and overfitting; between undercapacity and overcapacity. To figure out where this border lies, first you must cross it.\" —Chollet"
      ]
    },
    {
      "metadata": {
        "id": "lodd6UPOoy89",
        "colab_type": "text"
      },
      "cell_type": "markdown",
      "source": [
        "<img src=\"https://jakevdp.github.io/PythonDataScienceHandbook/figures/05.03-validation-curve.png\">\n",
        "\n",
        "Diagram source: https://jakevdp.github.io/PythonDataScienceHandbook/05.03-hyperparameters-and-model-validation.html#Validation-curves-in-Scikit-Learn"
      ]
    },
    {
      "metadata": {
        "id": "FrmQ3RM0w2JE",
        "colab_type": "text"
      },
      "cell_type": "markdown",
      "source": [
        "### Polynomial Regression?"
      ]
    },
    {
      "metadata": {
        "id": "uctwo0X3pTw5",
        "colab_type": "code",
        "colab": {}
      },
      "cell_type": "code",
      "source": [
        "# Copied from cell 10 at\n",
        "# https://jakevdp.github.io/PythonDataScienceHandbook/05.03-hyperparameters-and-model-validation.html#Validation-curves-in-Scikit-Learn\n",
        "\n",
        "from sklearn.preprocessing import PolynomialFeatures\n",
        "from sklearn.linear_model import LinearRegression\n",
        "from sklearn.pipeline import make_pipeline\n",
        "\n",
        "def PolynomialRegression(degree=2, **kwargs):\n",
        "    return make_pipeline(PolynomialFeatures(degree),\n",
        "                         LinearRegression(**kwargs))"
      ],
      "execution_count": 0,
      "outputs": []
    },
    {
      "metadata": {
        "id": "wvY4HOXVw7Mj",
        "colab_type": "code",
        "colab": {
          "base_uri": "https://localhost:8080/",
          "height": 311
        },
        "outputId": "34ac9734-c97d-42ab-ac91-636e81001b8e"
      },
      "cell_type": "code",
      "source": [
        "for degree in [0, 1, 2, 3]:\n",
        "    features = PolynomialFeatures(degree).fit(X_train).get_feature_names(X_train.columns)\n",
        "    print(f'{degree} degree polynomial has {len(features)} features')\n",
        "    print(features)\n",
        "    print('\\n')"
      ],
      "execution_count": 81,
      "outputs": [
        {
          "output_type": "stream",
          "text": [
            "0 degree polynomial has 1 features\n",
            "['1']\n",
            "\n",
            "\n",
            "1 degree polynomial has 8 features\n",
            "['1', 'PRCP', 'SNOW', 'SNWD', 'TMAX', 'TMIN', 'AWND', 'Total_yesterday']\n",
            "\n",
            "\n",
            "2 degree polynomial has 36 features\n",
            "['1', 'PRCP', 'SNOW', 'SNWD', 'TMAX', 'TMIN', 'AWND', 'Total_yesterday', 'PRCP^2', 'PRCP SNOW', 'PRCP SNWD', 'PRCP TMAX', 'PRCP TMIN', 'PRCP AWND', 'PRCP Total_yesterday', 'SNOW^2', 'SNOW SNWD', 'SNOW TMAX', 'SNOW TMIN', 'SNOW AWND', 'SNOW Total_yesterday', 'SNWD^2', 'SNWD TMAX', 'SNWD TMIN', 'SNWD AWND', 'SNWD Total_yesterday', 'TMAX^2', 'TMAX TMIN', 'TMAX AWND', 'TMAX Total_yesterday', 'TMIN^2', 'TMIN AWND', 'TMIN Total_yesterday', 'AWND^2', 'AWND Total_yesterday', 'Total_yesterday^2']\n",
            "\n",
            "\n",
            "3 degree polynomial has 120 features\n",
            "['1', 'PRCP', 'SNOW', 'SNWD', 'TMAX', 'TMIN', 'AWND', 'Total_yesterday', 'PRCP^2', 'PRCP SNOW', 'PRCP SNWD', 'PRCP TMAX', 'PRCP TMIN', 'PRCP AWND', 'PRCP Total_yesterday', 'SNOW^2', 'SNOW SNWD', 'SNOW TMAX', 'SNOW TMIN', 'SNOW AWND', 'SNOW Total_yesterday', 'SNWD^2', 'SNWD TMAX', 'SNWD TMIN', 'SNWD AWND', 'SNWD Total_yesterday', 'TMAX^2', 'TMAX TMIN', 'TMAX AWND', 'TMAX Total_yesterday', 'TMIN^2', 'TMIN AWND', 'TMIN Total_yesterday', 'AWND^2', 'AWND Total_yesterday', 'Total_yesterday^2', 'PRCP^3', 'PRCP^2 SNOW', 'PRCP^2 SNWD', 'PRCP^2 TMAX', 'PRCP^2 TMIN', 'PRCP^2 AWND', 'PRCP^2 Total_yesterday', 'PRCP SNOW^2', 'PRCP SNOW SNWD', 'PRCP SNOW TMAX', 'PRCP SNOW TMIN', 'PRCP SNOW AWND', 'PRCP SNOW Total_yesterday', 'PRCP SNWD^2', 'PRCP SNWD TMAX', 'PRCP SNWD TMIN', 'PRCP SNWD AWND', 'PRCP SNWD Total_yesterday', 'PRCP TMAX^2', 'PRCP TMAX TMIN', 'PRCP TMAX AWND', 'PRCP TMAX Total_yesterday', 'PRCP TMIN^2', 'PRCP TMIN AWND', 'PRCP TMIN Total_yesterday', 'PRCP AWND^2', 'PRCP AWND Total_yesterday', 'PRCP Total_yesterday^2', 'SNOW^3', 'SNOW^2 SNWD', 'SNOW^2 TMAX', 'SNOW^2 TMIN', 'SNOW^2 AWND', 'SNOW^2 Total_yesterday', 'SNOW SNWD^2', 'SNOW SNWD TMAX', 'SNOW SNWD TMIN', 'SNOW SNWD AWND', 'SNOW SNWD Total_yesterday', 'SNOW TMAX^2', 'SNOW TMAX TMIN', 'SNOW TMAX AWND', 'SNOW TMAX Total_yesterday', 'SNOW TMIN^2', 'SNOW TMIN AWND', 'SNOW TMIN Total_yesterday', 'SNOW AWND^2', 'SNOW AWND Total_yesterday', 'SNOW Total_yesterday^2', 'SNWD^3', 'SNWD^2 TMAX', 'SNWD^2 TMIN', 'SNWD^2 AWND', 'SNWD^2 Total_yesterday', 'SNWD TMAX^2', 'SNWD TMAX TMIN', 'SNWD TMAX AWND', 'SNWD TMAX Total_yesterday', 'SNWD TMIN^2', 'SNWD TMIN AWND', 'SNWD TMIN Total_yesterday', 'SNWD AWND^2', 'SNWD AWND Total_yesterday', 'SNWD Total_yesterday^2', 'TMAX^3', 'TMAX^2 TMIN', 'TMAX^2 AWND', 'TMAX^2 Total_yesterday', 'TMAX TMIN^2', 'TMAX TMIN AWND', 'TMAX TMIN Total_yesterday', 'TMAX AWND^2', 'TMAX AWND Total_yesterday', 'TMAX Total_yesterday^2', 'TMIN^3', 'TMIN^2 AWND', 'TMIN^2 Total_yesterday', 'TMIN AWND^2', 'TMIN AWND Total_yesterday', 'TMIN Total_yesterday^2', 'AWND^3', 'AWND^2 Total_yesterday', 'AWND Total_yesterday^2', 'Total_yesterday^3']\n",
            "\n",
            "\n"
          ],
          "name": "stdout"
        }
      ]
    },
    {
      "metadata": {
        "id": "XEUdG9-ktHoa",
        "colab_type": "text"
      },
      "cell_type": "markdown",
      "source": [
        "### Validation curve (with Polynomial Regression)"
      ]
    },
    {
      "metadata": {
        "id": "_ryO1hVKr-6f",
        "colab_type": "text"
      },
      "cell_type": "markdown",
      "source": [
        "https://scikit-learn.org/stable/modules/generated/sklearn.model_selection.validation_curve.html\n",
        "\n",
        "> Validation curve. Determine training and test scores for varying parameter values. This is similar to grid search with one parameter."
      ]
    },
    {
      "metadata": {
        "id": "znJgKqPcqBh-",
        "colab_type": "code",
        "colab": {
          "base_uri": "https://localhost:8080/",
          "height": 279
        },
        "outputId": "df84b640-e4fc-4c6a-f3a6-6534766254c5"
      },
      "cell_type": "code",
      "source": [
        "# Modified from cell 13 at\n",
        "# https://jakevdp.github.io/PythonDataScienceHandbook/05.03-hyperparameters-and-model-validation.html#Validation-curves-in-Scikit-Learn\n",
        "\n",
        "%matplotlib inline\n",
        "import matplotlib.pyplot as plt\n",
        "from sklearn.model_selection import validation_curve\n",
        "\n",
        "degree = [0, 1, 2]\n",
        "train_score, val_score = validation_curve(\n",
        "    PolynomialRegression(), X_train, y_train,\n",
        "    param_name='polynomialfeatures__degree', param_range=degree, \n",
        "    scoring='neg_mean_absolute_error', cv=3)\n",
        "\n",
        "plt.plot(degree, np.median(train_score, 1), color='blue', label='training score')\n",
        "plt.plot(degree, np.median(val_score, 1), color='red', label='validation score')\n",
        "plt.legend(loc='best')\n",
        "plt.xlabel('degree');"
      ],
      "execution_count": 82,
      "outputs": [
        {
          "output_type": "display_data",
          "data": {
            "image/png": "[encoded data removed]",
            "text/plain": [
              "<Figure size 432x288 with 1 Axes>"
            ]
          },
          "metadata": {
            "tags": []
          }
        }
      ]
    },
    {
      "metadata": {
        "id": "HUdGHWhvtVnV",
        "colab_type": "text"
      },
      "cell_type": "markdown",
      "source": [
        "### Grid Search (with Polynomial Regression)\n",
        "\n",
        "https://scikit-learn.org/stable/modules/generated/sklearn.model_selection.GridSearchCV.html\n",
        "\n",
        "https://scikit-learn.org/stable/modules/grid_search.html"
      ]
    },
    {
      "metadata": {
        "id": "GziXyq8Is6dL",
        "colab_type": "code",
        "colab": {
          "base_uri": "https://localhost:8080/",
          "height": 791
        },
        "outputId": "448a1444-0629-4b6a-dacd-4f4d6e188077"
      },
      "cell_type": "code",
      "source": [
        "from sklearn.model_selection import GridSearchCV\n",
        "\n",
        "param_grid = {\n",
        "    'polynomialfeatures__degree': [0, 1, 2, 3]\n",
        "}\n",
        "\n",
        "gridsearch = GridSearchCV(PolynomialRegression(), param_grid=param_grid, \n",
        "                          scoring='neg_mean_absolute_error', cv=3, \n",
        "                          return_train_score=True, verbose=10)\n",
        "\n",
        "gridsearch.fit(X_train, y_train)"
      ],
      "execution_count": 159,
      "outputs": [
        {
          "output_type": "stream",
          "text": [
            "Fitting 3 folds for each of 4 candidates, totalling 12 fits\n",
            "[CV] polynomialfeatures__degree=0 ....................................\n",
            "[CV]  polynomialfeatures__degree=0, score=-1026.3529857047195, total=   0.0s\n",
            "[CV] polynomialfeatures__degree=0 ....................................\n",
            "[CV]  polynomialfeatures__degree=0, score=-1001.6149251268913, total=   0.0s\n",
            "[CV] polynomialfeatures__degree=0 ....................................\n",
            "[CV]  polynomialfeatures__degree=0, score=-927.0707048650538, total=   0.0s\n",
            "[CV] polynomialfeatures__degree=1 ....................................\n",
            "[CV]  polynomialfeatures__degree=1, score=-555.1862745374103, total=   0.0s\n",
            "[CV] polynomialfeatures__degree=1 ....................................\n",
            "[CV]  polynomialfeatures__degree=1, score=-651.1265132746228, total=   0.0s\n",
            "[CV] polynomialfeatures__degree=1 ....................................\n",
            "[CV]  polynomialfeatures__degree=1, score=-615.9657997775082, total=   0.0s\n",
            "[CV] polynomialfeatures__degree=2 ....................................\n",
            "[CV]  polynomialfeatures__degree=2, score=-7553.67367810515, total=   0.0s\n",
            "[CV] polynomialfeatures__degree=2 ....................................\n",
            "[CV]  polynomialfeatures__degree=2, score=-1439.191570208428, total=   0.0s\n",
            "[CV] polynomialfeatures__degree=2 ....................................\n",
            "[CV]  polynomialfeatures__degree=2, score=-644.1228337571547, total=   0.0s\n",
            "[CV] polynomialfeatures__degree=3 ....................................\n",
            "[CV]  polynomialfeatures__degree=3, score=-2487.2087241103723, total=   0.0s\n",
            "[CV] polynomialfeatures__degree=3 ....................................\n",
            "[CV]  polynomialfeatures__degree=3, score=-97950.22398935535, total=   0.0s\n",
            "[CV] polynomialfeatures__degree=3 ....................................\n"
          ],
          "name": "stdout"
        },
        {
          "output_type": "stream",
          "text": [
            "[Parallel(n_jobs=1)]: Using backend SequentialBackend with 1 concurrent workers.\n",
            "[Parallel(n_jobs=1)]: Done   1 out of   1 | elapsed:    0.0s remaining:    0.0s\n",
            "[Parallel(n_jobs=1)]: Done   2 out of   2 | elapsed:    0.0s remaining:    0.0s\n",
            "[Parallel(n_jobs=1)]: Done   3 out of   3 | elapsed:    0.0s remaining:    0.0s\n",
            "[Parallel(n_jobs=1)]: Done   4 out of   4 | elapsed:    0.0s remaining:    0.0s\n",
            "[Parallel(n_jobs=1)]: Done   5 out of   5 | elapsed:    0.0s remaining:    0.0s\n",
            "[Parallel(n_jobs=1)]: Done   6 out of   6 | elapsed:    0.1s remaining:    0.0s\n",
            "[Parallel(n_jobs=1)]: Done   7 out of   7 | elapsed:    0.1s remaining:    0.0s\n",
            "[Parallel(n_jobs=1)]: Done   8 out of   8 | elapsed:    0.1s remaining:    0.0s\n",
            "[Parallel(n_jobs=1)]: Done   9 out of   9 | elapsed:    0.1s remaining:    0.0s\n"
          ],
          "name": "stderr"
        },
        {
          "output_type": "stream",
          "text": [
            "[CV]  polynomialfeatures__degree=3, score=-1835.2490429251202, total=   0.0s\n"
          ],
          "name": "stdout"
        },
        {
          "output_type": "stream",
          "text": [
            "[Parallel(n_jobs=1)]: Done  12 out of  12 | elapsed:    0.2s finished\n"
          ],
          "name": "stderr"
        },
        {
          "output_type": "execute_result",
          "data": {
            "text/plain": [
              "GridSearchCV(cv=3, error_score='raise-deprecating',\n",
              "       estimator=Pipeline(memory=None,\n",
              "     steps=[('polynomialfeatures', PolynomialFeatures(degree=2, include_bias=True, interaction_only=False)), ('linearregression', LinearRegression(copy_X=True, fit_intercept=True, n_jobs=None,\n",
              "         normalize=False))]),\n",
              "       fit_params=None, iid='warn', n_jobs=None,\n",
              "       param_grid={'polynomialfeatures__degree': [0, 1, 2, 3]},\n",
              "       pre_dispatch='2*n_jobs', refit=True, return_train_score=True,\n",
              "       scoring='neg_mean_absolute_error', verbose=10)"
            ]
          },
          "metadata": {
            "tags": []
          },
          "execution_count": 159
        }
      ]
    },
    {
      "metadata": {
        "id": "R0GE-AhUs4Qv",
        "colab_type": "code",
        "colab": {
          "base_uri": "https://localhost:8080/",
          "height": 256
        },
        "outputId": "7c8967ac-dc25-4a73-93d7-c4ad21cd2dda"
      },
      "cell_type": "code",
      "source": [
        "pd.DataFrame(gridsearch.cv_results_).sort_values(by='rank_test_score')"
      ],
      "execution_count": 160,
      "outputs": [
        {
          "output_type": "execute_result",
          "data": {
            "text/html": [
              "<div>\n",
              "<style scoped>\n",
              "    .dataframe tbody tr th:only-of-type {\n",
              "        vertical-align: middle;\n",
              "    }\n",
              "\n",
              "    .dataframe tbody tr th {\n",
              "        vertical-align: top;\n",
              "    }\n",
              "\n",
              "    .dataframe thead th {\n",
              "        text-align: right;\n",
              "    }\n",
              "</style>\n",
              "<table border=\"1\" class=\"dataframe\">\n",
              "  <thead>\n",
              "    <tr style=\"text-align: right;\">\n",
              "      <th></th>\n",
              "      <th>mean_fit_time</th>\n",
              "      <th>mean_score_time</th>\n",
              "      <th>mean_test_score</th>\n",
              "      <th>mean_train_score</th>\n",
              "      <th>param_polynomialfeatures__degree</th>\n",
              "      <th>params</th>\n",
              "      <th>rank_test_score</th>\n",
              "      <th>split0_test_score</th>\n",
              "      <th>split0_train_score</th>\n",
              "      <th>split1_test_score</th>\n",
              "      <th>split1_train_score</th>\n",
              "      <th>split2_test_score</th>\n",
              "      <th>split2_train_score</th>\n",
              "      <th>std_fit_time</th>\n",
              "      <th>std_score_time</th>\n",
              "      <th>std_test_score</th>\n",
              "      <th>std_train_score</th>\n",
              "    </tr>\n",
              "  </thead>\n",
              "  <tbody>\n",
              "    <tr>\n",
              "      <th>1</th>\n",
              "      <td>0.003133</td>\n",
              "      <td>0.002044</td>\n",
              "      <td>-607.426196</td>\n",
              "      <td>-597.426070</td>\n",
              "      <td>1</td>\n",
              "      <td>{'polynomialfeatures__degree': 1}</td>\n",
              "      <td>1</td>\n",
              "      <td>-555.186275</td>\n",
              "      <td>-619.509206</td>\n",
              "      <td>-651.126513</td>\n",
              "      <td>-583.427702</td>\n",
              "      <td>-615.965800</td>\n",
              "      <td>-589.341301</td>\n",
              "      <td>0.000342</td>\n",
              "      <td>0.000045</td>\n",
              "      <td>39.630174</td>\n",
              "      <td>15.800661</td>\n",
              "    </tr>\n",
              "    <tr>\n",
              "      <th>0</th>\n",
              "      <td>0.003238</td>\n",
              "      <td>0.002304</td>\n",
              "      <td>-985.012872</td>\n",
              "      <td>-979.844161</td>\n",
              "      <td>0</td>\n",
              "      <td>{'polynomialfeatures__degree': 0}</td>\n",
              "      <td>2</td>\n",
              "      <td>-1026.352986</td>\n",
              "      <td>-968.880368</td>\n",
              "      <td>-1001.614925</td>\n",
              "      <td>-970.755413</td>\n",
              "      <td>-927.070705</td>\n",
              "      <td>-999.896701</td>\n",
              "      <td>0.000498</td>\n",
              "      <td>0.000948</td>\n",
              "      <td>42.197661</td>\n",
              "      <td>14.199935</td>\n",
              "    </tr>\n",
              "    <tr>\n",
              "      <th>2</th>\n",
              "      <td>0.005169</td>\n",
              "      <td>0.002563</td>\n",
              "      <td>-3212.329361</td>\n",
              "      <td>-576.333816</td>\n",
              "      <td>2</td>\n",
              "      <td>{'polynomialfeatures__degree': 2}</td>\n",
              "      <td>3</td>\n",
              "      <td>-7553.673678</td>\n",
              "      <td>-595.089615</td>\n",
              "      <td>-1439.191570</td>\n",
              "      <td>-568.150803</td>\n",
              "      <td>-644.122834</td>\n",
              "      <td>-565.761032</td>\n",
              "      <td>0.000149</td>\n",
              "      <td>0.000057</td>\n",
              "      <td>3086.906373</td>\n",
              "      <td>13.298189</td>\n",
              "    </tr>\n",
              "    <tr>\n",
              "      <th>3</th>\n",
              "      <td>0.023432</td>\n",
              "      <td>0.006577</td>\n",
              "      <td>-34090.893919</td>\n",
              "      <td>-601.797899</td>\n",
              "      <td>3</td>\n",
              "      <td>{'polynomialfeatures__degree': 3}</td>\n",
              "      <td>4</td>\n",
              "      <td>-2487.208724</td>\n",
              "      <td>-565.787908</td>\n",
              "      <td>-97950.223989</td>\n",
              "      <td>-663.520180</td>\n",
              "      <td>-1835.249043</td>\n",
              "      <td>-576.085609</td>\n",
              "      <td>0.005961</td>\n",
              "      <td>0.001576</td>\n",
              "      <td>45156.149752</td>\n",
              "      <td>43.846251</td>\n",
              "    </tr>\n",
              "  </tbody>\n",
              "</table>\n",
              "</div>"
            ],
            "text/plain": [
              "   mean_fit_time  mean_score_time  mean_test_score  mean_train_score  \\\n",
              "1       0.003133         0.002044      -607.426196       -597.426070   \n",
              "0       0.003238         0.002304      -985.012872       -979.844161   \n",
              "2       0.005169         0.002563     -3212.329361       -576.333816   \n",
              "3       0.023432         0.006577    -34090.893919       -601.797899   \n",
              "\n",
              "  param_polynomialfeatures__degree                             params  \\\n",
              "1                                1  {'polynomialfeatures__degree': 1}   \n",
              "0                                0  {'polynomialfeatures__degree': 0}   \n",
              "2                                2  {'polynomialfeatures__degree': 2}   \n",
              "3                                3  {'polynomialfeatures__degree': 3}   \n",
              "\n",
              "   rank_test_score  split0_test_score  split0_train_score  split1_test_score  \\\n",
              "1                1        -555.186275         -619.509206        -651.126513   \n",
              "0                2       -1026.352986         -968.880368       -1001.614925   \n",
              "2                3       -7553.673678         -595.089615       -1439.191570   \n",
              "3                4       -2487.208724         -565.787908      -97950.223989   \n",
              "\n",
              "   split1_train_score  split2_test_score  split2_train_score  std_fit_time  \\\n",
              "1         -583.427702        -615.965800         -589.341301      0.000342   \n",
              "0         -970.755413        -927.070705         -999.896701      0.000498   \n",
              "2         -568.150803        -644.122834         -565.761032      0.000149   \n",
              "3         -663.520180       -1835.249043         -576.085609      0.005961   \n",
              "\n",
              "   std_score_time  std_test_score  std_train_score  \n",
              "1        0.000045       39.630174        15.800661  \n",
              "0        0.000948       42.197661        14.199935  \n",
              "2        0.000057     3086.906373        13.298189  \n",
              "3        0.001576    45156.149752        43.846251  "
            ]
          },
          "metadata": {
            "tags": []
          },
          "execution_count": 160
        }
      ]
    },
    {
      "metadata": {
        "id": "xj82P0VdwYlh",
        "colab_type": "text"
      },
      "cell_type": "markdown",
      "source": [
        "### Random Forest?\n",
        "\n",
        "https://scikit-learn.org/stable/modules/generated/sklearn.ensemble.RandomForestRegressor.html"
      ]
    },
    {
      "metadata": {
        "id": "_yYXpk99C4cM",
        "colab_type": "code",
        "colab": {
          "base_uri": "https://localhost:8080/",
          "height": 138
        },
        "outputId": "916f759e-342f-4026-ced3-083d9be7c5ec"
      },
      "cell_type": "code",
      "source": [
        "from sklearn.ensemble import RandomForestRegressor\n",
        "\n",
        "model = RandomForestRegressor(n_estimators=100, max_depth=20)\n",
        "\n",
        "scores = cross_validate(model, X_train, y_train, \n",
        "                        scoring='neg_mean_absolute_error', \n",
        "                        cv=3, return_train_score=True, \n",
        "                        return_estimator=True)\n",
        "\n",
        "pd.DataFrame(scores)"
      ],
      "execution_count": 161,
      "outputs": [
        {
          "output_type": "execute_result",
          "data": {
            "text/html": [
              "<div>\n",
              "<style scoped>\n",
              "    .dataframe tbody tr th:only-of-type {\n",
              "        vertical-align: middle;\n",
              "    }\n",
              "\n",
              "    .dataframe tbody tr th {\n",
              "        vertical-align: top;\n",
              "    }\n",
              "\n",
              "    .dataframe thead th {\n",
              "        text-align: right;\n",
              "    }\n",
              "</style>\n",
              "<table border=\"1\" class=\"dataframe\">\n",
              "  <thead>\n",
              "    <tr style=\"text-align: right;\">\n",
              "      <th></th>\n",
              "      <th>estimator</th>\n",
              "      <th>fit_time</th>\n",
              "      <th>score_time</th>\n",
              "      <th>test_score</th>\n",
              "      <th>train_score</th>\n",
              "    </tr>\n",
              "  </thead>\n",
              "  <tbody>\n",
              "    <tr>\n",
              "      <th>0</th>\n",
              "      <td>(DecisionTreeRegressor(criterion='mse', max_de...</td>\n",
              "      <td>0.215560</td>\n",
              "      <td>0.011054</td>\n",
              "      <td>-556.733402</td>\n",
              "      <td>-243.502098</td>\n",
              "    </tr>\n",
              "    <tr>\n",
              "      <th>1</th>\n",
              "      <td>(DecisionTreeRegressor(criterion='mse', max_de...</td>\n",
              "      <td>0.206713</td>\n",
              "      <td>0.011117</td>\n",
              "      <td>-647.519350</td>\n",
              "      <td>-224.805424</td>\n",
              "    </tr>\n",
              "    <tr>\n",
              "      <th>2</th>\n",
              "      <td>(DecisionTreeRegressor(criterion='mse', max_de...</td>\n",
              "      <td>0.210315</td>\n",
              "      <td>0.011182</td>\n",
              "      <td>-640.715607</td>\n",
              "      <td>-224.835286</td>\n",
              "    </tr>\n",
              "  </tbody>\n",
              "</table>\n",
              "</div>"
            ],
            "text/plain": [
              "                                           estimator  fit_time  score_time  \\\n",
              "0  (DecisionTreeRegressor(criterion='mse', max_de...  0.215560    0.011054   \n",
              "1  (DecisionTreeRegressor(criterion='mse', max_de...  0.206713    0.011117   \n",
              "2  (DecisionTreeRegressor(criterion='mse', max_de...  0.210315    0.011182   \n",
              "\n",
              "   test_score  train_score  \n",
              "0 -556.733402  -243.502098  \n",
              "1 -647.519350  -224.805424  \n",
              "2 -640.715607  -224.835286  "
            ]
          },
          "metadata": {
            "tags": []
          },
          "execution_count": 161
        }
      ]
    },
    {
      "metadata": {
        "id": "kN8z2oZqtlh7",
        "colab_type": "code",
        "colab": {
          "base_uri": "https://localhost:8080/",
          "height": 34
        },
        "outputId": "cf097313-96d0-47ff-a234-dfa51dddcd69"
      },
      "cell_type": "code",
      "source": [
        "scores['test_score'].mean()"
      ],
      "execution_count": 162,
      "outputs": [
        {
          "output_type": "execute_result",
          "data": {
            "text/plain": [
              "-614.9894528791298"
            ]
          },
          "metadata": {
            "tags": []
          },
          "execution_count": 162
        }
      ]
    },
    {
      "metadata": {
        "id": "vofwgIpSweEb",
        "colab_type": "text"
      },
      "cell_type": "markdown",
      "source": [
        "### Validation Curve (with Random Forest)"
      ]
    },
    {
      "metadata": {
        "id": "apKk4vKiwgtM",
        "colab_type": "code",
        "colab": {
          "base_uri": "https://localhost:8080/",
          "height": 279
        },
        "outputId": "ce1797af-80a7-4670-9c98-e8e8fe40dea4"
      },
      "cell_type": "code",
      "source": [
        "# Modified from cell 13 at\n",
        "# https://jakevdp.github.io/PythonDataScienceHandbook/05.03-hyperparameters-and-model-validation.html#Validation-curves-in-Scikit-Learn\n",
        "\n",
        "%matplotlib inline\n",
        "import matplotlib.pyplot as plt\n",
        "from sklearn.model_selection import validation_curve\n",
        "\n",
        "model = RandomForestRegressor(n_estimators=100)\n",
        "\n",
        "depth = [2, 3, 4, 5, 6]\n",
        "train_score, val_score = validation_curve(\n",
        "    model, X_train, y_train,\n",
        "    param_name='max_depth', param_range=depth, \n",
        "    scoring='neg_mean_absolute_error', cv=3)\n",
        "\n",
        "plt.plot(depth, np.median(train_score, 1), color='blue', label='training score')\n",
        "plt.plot(depth, np.median(val_score, 1), color='red', label='validation score')\n",
        "plt.legend(loc='best')\n",
        "plt.xlabel('depth');"
      ],
      "execution_count": 86,
      "outputs": [
        {
          "output_type": "display_data",
          "data": {
            "image/png": "[encoded data removed]",
            "text/plain": [
              "<Figure size 432x288 with 1 Axes>"
            ]
          },
          "metadata": {
            "tags": []
          }
        }
      ]
    },
    {
      "metadata": {
        "id": "DQoMvZ7-yCAQ",
        "colab_type": "text"
      },
      "cell_type": "markdown",
      "source": [
        "### Grid Search (with Random Forest)"
      ]
    },
    {
      "metadata": {
        "id": "bk_dX_mByKm7",
        "colab_type": "code",
        "colab": {
          "base_uri": "https://localhost:8080/",
          "height": 51
        },
        "outputId": "7425ee46-f7d8-4e3d-8fb4-92e66230e722"
      },
      "cell_type": "code",
      "source": [
        "%%time\n",
        "\n",
        "param_grid = {\n",
        "    'n_estimators': [100, 200], \n",
        "    'max_depth': [4, 5], \n",
        "    'criterion': ['mse', 'mae']\n",
        "}\n",
        "\n",
        "gridsearch = GridSearchCV(RandomForestRegressor(), param_grid=param_grid, \n",
        "                          scoring='neg_mean_absolute_error', cv=3, \n",
        "                          return_train_score=True, verbose=0)\n",
        "\n",
        "gridsearch.fit(X_train, y_train)"
      ],
      "execution_count": 163,
      "outputs": [
        {
          "output_type": "stream",
          "text": [
            "CPU times: user 16.7 s, sys: 8.52 ms, total: 16.7 s\n",
            "Wall time: 16.7 s\n"
          ],
          "name": "stdout"
        }
      ]
    },
    {
      "metadata": {
        "id": "bCub9xO_ubBM",
        "colab_type": "code",
        "colab": {
          "base_uri": "https://localhost:8080/",
          "height": 578
        },
        "outputId": "9a18c491-18f8-4f84-abb0-c6bcea9fe864"
      },
      "cell_type": "code",
      "source": [
        "results = pd.DataFrame(gridsearch.cv_results_)\n",
        "print(f'Best result from grid search of {len(results)} parameter combinations')\n",
        "results.sort_values(by='rank_test_score').head()"
      ],
      "execution_count": 164,
      "outputs": [
        {
          "output_type": "stream",
          "text": [
            "Best result from grid search of 8 parameter combinations\n"
          ],
          "name": "stdout"
        },
        {
          "output_type": "execute_result",
          "data": {
            "text/html": [
              "<div>\n",
              "<style scoped>\n",
              "    .dataframe tbody tr th:only-of-type {\n",
              "        vertical-align: middle;\n",
              "    }\n",
              "\n",
              "    .dataframe tbody tr th {\n",
              "        vertical-align: top;\n",
              "    }\n",
              "\n",
              "    .dataframe thead th {\n",
              "        text-align: right;\n",
              "    }\n",
              "</style>\n",
              "<table border=\"1\" class=\"dataframe\">\n",
              "  <thead>\n",
              "    <tr style=\"text-align: right;\">\n",
              "      <th></th>\n",
              "      <th>mean_fit_time</th>\n",
              "      <th>mean_score_time</th>\n",
              "      <th>mean_test_score</th>\n",
              "      <th>mean_train_score</th>\n",
              "      <th>param_criterion</th>\n",
              "      <th>param_max_depth</th>\n",
              "      <th>param_n_estimators</th>\n",
              "      <th>params</th>\n",
              "      <th>rank_test_score</th>\n",
              "      <th>split0_test_score</th>\n",
              "      <th>split0_train_score</th>\n",
              "      <th>split1_test_score</th>\n",
              "      <th>split1_train_score</th>\n",
              "      <th>split2_test_score</th>\n",
              "      <th>split2_train_score</th>\n",
              "      <th>std_fit_time</th>\n",
              "      <th>std_score_time</th>\n",
              "      <th>std_test_score</th>\n",
              "      <th>std_train_score</th>\n",
              "    </tr>\n",
              "  </thead>\n",
              "  <tbody>\n",
              "    <tr>\n",
              "      <th>6</th>\n",
              "      <td>0.751380</td>\n",
              "      <td>0.007638</td>\n",
              "      <td>-596.933972</td>\n",
              "      <td>-491.861825</td>\n",
              "      <td>mae</td>\n",
              "      <td>5</td>\n",
              "      <td>100</td>\n",
              "      <td>{'criterion': 'mae', 'max_depth': 5, 'n_estima...</td>\n",
              "      <td>1</td>\n",
              "      <td>-540.131308</td>\n",
              "      <td>-513.146308</td>\n",
              "      <td>-636.953302</td>\n",
              "      <td>-478.068762</td>\n",
              "      <td>-613.717305</td>\n",
              "      <td>-484.370405</td>\n",
              "      <td>0.015315</td>\n",
              "      <td>0.000024</td>\n",
              "      <td>41.270529</td>\n",
              "      <td>15.268696</td>\n",
              "    </tr>\n",
              "    <tr>\n",
              "      <th>7</th>\n",
              "      <td>1.503432</td>\n",
              "      <td>0.012990</td>\n",
              "      <td>-597.321874</td>\n",
              "      <td>-493.402475</td>\n",
              "      <td>mae</td>\n",
              "      <td>5</td>\n",
              "      <td>200</td>\n",
              "      <td>{'criterion': 'mae', 'max_depth': 5, 'n_estima...</td>\n",
              "      <td>2</td>\n",
              "      <td>-541.102438</td>\n",
              "      <td>-516.660152</td>\n",
              "      <td>-636.345841</td>\n",
              "      <td>-476.601577</td>\n",
              "      <td>-614.517344</td>\n",
              "      <td>-486.945697</td>\n",
              "      <td>0.026892</td>\n",
              "      <td>0.000056</td>\n",
              "      <td>40.739740</td>\n",
              "      <td>16.979200</td>\n",
              "    </tr>\n",
              "    <tr>\n",
              "      <th>4</th>\n",
              "      <td>0.661554</td>\n",
              "      <td>0.007400</td>\n",
              "      <td>-599.248162</td>\n",
              "      <td>-533.766812</td>\n",
              "      <td>mae</td>\n",
              "      <td>4</td>\n",
              "      <td>100</td>\n",
              "      <td>{'criterion': 'mae', 'max_depth': 4, 'n_estima...</td>\n",
              "      <td>3</td>\n",
              "      <td>-549.432866</td>\n",
              "      <td>-559.420997</td>\n",
              "      <td>-634.730685</td>\n",
              "      <td>-515.139089</td>\n",
              "      <td>-613.580935</td>\n",
              "      <td>-526.740350</td>\n",
              "      <td>0.015363</td>\n",
              "      <td>0.000115</td>\n",
              "      <td>36.267532</td>\n",
              "      <td>18.748337</td>\n",
              "    </tr>\n",
              "    <tr>\n",
              "      <th>5</th>\n",
              "      <td>1.329183</td>\n",
              "      <td>0.012835</td>\n",
              "      <td>-599.658954</td>\n",
              "      <td>-531.993851</td>\n",
              "      <td>mae</td>\n",
              "      <td>4</td>\n",
              "      <td>200</td>\n",
              "      <td>{'criterion': 'mae', 'max_depth': 4, 'n_estima...</td>\n",
              "      <td>4</td>\n",
              "      <td>-547.915312</td>\n",
              "      <td>-557.930467</td>\n",
              "      <td>-635.875421</td>\n",
              "      <td>-515.272971</td>\n",
              "      <td>-615.186129</td>\n",
              "      <td>-522.778115</td>\n",
              "      <td>0.027886</td>\n",
              "      <td>0.000153</td>\n",
              "      <td>37.550544</td>\n",
              "      <td>18.594136</td>\n",
              "    </tr>\n",
              "    <tr>\n",
              "      <th>3</th>\n",
              "      <td>0.250429</td>\n",
              "      <td>0.013480</td>\n",
              "      <td>-603.796205</td>\n",
              "      <td>-500.794349</td>\n",
              "      <td>mse</td>\n",
              "      <td>5</td>\n",
              "      <td>200</td>\n",
              "      <td>{'criterion': 'mse', 'max_depth': 5, 'n_estima...</td>\n",
              "      <td>5</td>\n",
              "      <td>-546.672252</td>\n",
              "      <td>-522.630004</td>\n",
              "      <td>-635.643769</td>\n",
              "      <td>-489.714623</td>\n",
              "      <td>-629.072593</td>\n",
              "      <td>-490.038419</td>\n",
              "      <td>0.002527</td>\n",
              "      <td>0.000527</td>\n",
              "      <td>40.481720</td>\n",
              "      <td>15.440706</td>\n",
              "    </tr>\n",
              "  </tbody>\n",
              "</table>\n",
              "</div>"
            ],
            "text/plain": [
              "   mean_fit_time  mean_score_time  mean_test_score  mean_train_score  \\\n",
              "6       0.751380         0.007638      -596.933972       -491.861825   \n",
              "7       1.503432         0.012990      -597.321874       -493.402475   \n",
              "4       0.661554         0.007400      -599.248162       -533.766812   \n",
              "5       1.329183         0.012835      -599.658954       -531.993851   \n",
              "3       0.250429         0.013480      -603.796205       -500.794349   \n",
              "\n",
              "  param_criterion param_max_depth param_n_estimators  \\\n",
              "6             mae               5                100   \n",
              "7             mae               5                200   \n",
              "4             mae               4                100   \n",
              "5             mae               4                200   \n",
              "3             mse               5                200   \n",
              "\n",
              "                                              params  rank_test_score  \\\n",
              "6  {'criterion': 'mae', 'max_depth': 5, 'n_estima...                1   \n",
              "7  {'criterion': 'mae', 'max_depth': 5, 'n_estima...                2   \n",
              "4  {'criterion': 'mae', 'max_depth': 4, 'n_estima...                3   \n",
              "5  {'criterion': 'mae', 'max_depth': 4, 'n_estima...                4   \n",
              "3  {'criterion': 'mse', 'max_depth': 5, 'n_estima...                5   \n",
              "\n",
              "   split0_test_score  split0_train_score  split1_test_score  \\\n",
              "6        -540.131308         -513.146308        -636.953302   \n",
              "7        -541.102438         -516.660152        -636.345841   \n",
              "4        -549.432866         -559.420997        -634.730685   \n",
              "5        -547.915312         -557.930467        -635.875421   \n",
              "3        -546.672252         -522.630004        -635.643769   \n",
              "\n",
              "   split1_train_score  split2_test_score  split2_train_score  std_fit_time  \\\n",
              "6         -478.068762        -613.717305         -484.370405      0.015315   \n",
              "7         -476.601577        -614.517344         -486.945697      0.026892   \n",
              "4         -515.139089        -613.580935         -526.740350      0.015363   \n",
              "5         -515.272971        -615.186129         -522.778115      0.027886   \n",
              "3         -489.714623        -629.072593         -490.038419      0.002527   \n",
              "\n",
              "   std_score_time  std_test_score  std_train_score  \n",
              "6        0.000024       41.270529        15.268696  \n",
              "7        0.000056       40.739740        16.979200  \n",
              "4        0.000115       36.267532        18.748337  \n",
              "5        0.000153       37.550544        18.594136  \n",
              "3        0.000527       40.481720        15.440706  "
            ]
          },
          "metadata": {
            "tags": []
          },
          "execution_count": 164
        }
      ]
    },
    {
      "metadata": {
        "id": "ZW5HfYtU0GW2",
        "colab_type": "text"
      },
      "cell_type": "markdown",
      "source": [
        "## FEATURE ENGINEERING!"
      ]
    },
    {
      "metadata": {
        "id": "0ms-eoOHFvPG",
        "colab_type": "text"
      },
      "cell_type": "markdown",
      "source": [
        "Jake VanderPlas demonstrates this feature engineering: \n",
        "https://jakevdp.github.io/PythonDataScienceHandbook/05.06-linear-regression.html#Example:-Predicting-Bicycle-Traffic"
      ]
    },
    {
      "metadata": {
        "id": "sEwME8wR3A5g",
        "colab_type": "code",
        "colab": {}
      },
      "cell_type": "code",
      "source": [
        "# Modified from code cells 17-21 at\n",
        "# https://jakevdp.github.io/PythonDataScienceHandbook/05.06-linear-regression.html#Example:-Predicting-Bicycle-Traffic\n",
        "\n",
        "\n",
        "# patterns of use generally vary from day to day; \n",
        "# let's add binary columns that indicate the day of the week:\n",
        "days = ['Mon', 'Tue', 'Wed', 'Thu', 'Fri', 'Sat', 'Sun']\n",
        "for i, day in enumerate(days):\n",
        "    X_train[day] = (X_train.index.dayofweek == i).astype(float)\n",
        "\n",
        "\n",
        "    \n",
        "# we might expect riders to behave differently on holidays; \n",
        "# let's add an indicator of this as well:\n",
        "from pandas.tseries.holiday import USFederalHolidayCalendar\n",
        "cal = USFederalHolidayCalendar()\n",
        "holidays = cal.holidays('2012', '2016')\n",
        "X_train = X_train.join(pd.Series(1, index=holidays, name='holiday'))\n",
        "X_train['holiday'].fillna(0, inplace=True)\n",
        "\n",
        "\n",
        "\n",
        "# We also might suspect that the hours of daylight would affect \n",
        "# how many people ride; let's use the standard astronomical calculation \n",
        "# to add this information:\n",
        "def hours_of_daylight(date, axis=23.44, latitude=47.61):\n",
        "    \"\"\"Compute the hours of daylight for the given date\"\"\"\n",
        "    days = (date - pd.datetime(2000, 12, 21)).days\n",
        "    m = (1. - np.tan(np.radians(latitude))\n",
        "         * np.tan(np.radians(axis) * np.cos(days * 2 * np.pi / 365.25)))\n",
        "    return 24. * np.degrees(np.arccos(1 - np.clip(m, 0, 2))) / 180.\n",
        "\n",
        "X_train['daylight_hrs'] = list(map(hours_of_daylight, X_train.index))\n",
        "\n",
        "\n",
        "\n",
        "# temperatures are in 1/10 deg C; convert to C\n",
        "X_train['TMIN'] /= 10\n",
        "X_train['TMAX'] /= 10\n",
        "\n",
        "# We can also calcuate the average temperature.\n",
        "X_train['Temp (C)'] = 0.5 * (X_train['TMIN'] + X_train['TMAX'])\n",
        "\n",
        "\n",
        "\n",
        "# precip is in 1/10 mm; convert to inches\n",
        "X_train['PRCP'] /= 254\n",
        "\n",
        "# In addition to the inches of precipitation, let's add a flag that \n",
        "# indicates whether a day is dry (has zero precipitation):\n",
        "X_train['dry day'] = (X_train['PRCP'] == 0).astype(int)\n",
        "\n",
        "\n",
        "\n",
        "# Let's add a counter that increases from day 1, and measures how many \n",
        "# years have passed. This will let us measure any observed annual increase \n",
        "# or decrease in daily crossings:\n",
        "X_train['annual'] = (X_train.index - X_train.index[0]).days / 365."
      ],
      "execution_count": 0,
      "outputs": []
    },
    {
      "metadata": {
        "id": "dDGkAv813Wtj",
        "colab_type": "text"
      },
      "cell_type": "markdown",
      "source": [
        "### Linear Regression (with new features)"
      ]
    },
    {
      "metadata": {
        "id": "cj3HTM6p5F1A",
        "colab_type": "code",
        "colab": {
          "base_uri": "https://localhost:8080/",
          "height": 138
        },
        "outputId": "77cea608-0a76-48a6-b109-b905260af3c1"
      },
      "cell_type": "code",
      "source": [
        "scores = cross_validate(LinearRegression(), X_train, y_train, \n",
        "                        scoring='neg_mean_absolute_error', cv=3, \n",
        "                        return_train_score=True, return_estimator=True)\n",
        "\n",
        "pd.DataFrame(scores)"
      ],
      "execution_count": 166,
      "outputs": [
        {
          "output_type": "execute_result",
          "data": {
            "text/html": [
              "<div>\n",
              "<style scoped>\n",
              "    .dataframe tbody tr th:only-of-type {\n",
              "        vertical-align: middle;\n",
              "    }\n",
              "\n",
              "    .dataframe tbody tr th {\n",
              "        vertical-align: top;\n",
              "    }\n",
              "\n",
              "    .dataframe thead th {\n",
              "        text-align: right;\n",
              "    }\n",
              "</style>\n",
              "<table border=\"1\" class=\"dataframe\">\n",
              "  <thead>\n",
              "    <tr style=\"text-align: right;\">\n",
              "      <th></th>\n",
              "      <th>estimator</th>\n",
              "      <th>fit_time</th>\n",
              "      <th>score_time</th>\n",
              "      <th>test_score</th>\n",
              "      <th>train_score</th>\n",
              "    </tr>\n",
              "  </thead>\n",
              "  <tbody>\n",
              "    <tr>\n",
              "      <th>0</th>\n",
              "      <td>LinearRegression(copy_X=True, fit_intercept=Tr...</td>\n",
              "      <td>0.006362</td>\n",
              "      <td>0.002554</td>\n",
              "      <td>-297.692524</td>\n",
              "      <td>-294.532315</td>\n",
              "    </tr>\n",
              "    <tr>\n",
              "      <th>1</th>\n",
              "      <td>LinearRegression(copy_X=True, fit_intercept=Tr...</td>\n",
              "      <td>0.006670</td>\n",
              "      <td>0.002599</td>\n",
              "      <td>-300.419037</td>\n",
              "      <td>-283.779461</td>\n",
              "    </tr>\n",
              "    <tr>\n",
              "      <th>2</th>\n",
              "      <td>LinearRegression(copy_X=True, fit_intercept=Tr...</td>\n",
              "      <td>0.008695</td>\n",
              "      <td>0.002245</td>\n",
              "      <td>-322.640378</td>\n",
              "      <td>-283.509114</td>\n",
              "    </tr>\n",
              "  </tbody>\n",
              "</table>\n",
              "</div>"
            ],
            "text/plain": [
              "                                           estimator  fit_time  score_time  \\\n",
              "0  LinearRegression(copy_X=True, fit_intercept=Tr...  0.006362    0.002554   \n",
              "1  LinearRegression(copy_X=True, fit_intercept=Tr...  0.006670    0.002599   \n",
              "2  LinearRegression(copy_X=True, fit_intercept=Tr...  0.008695    0.002245   \n",
              "\n",
              "   test_score  train_score  \n",
              "0 -297.692524  -294.532315  \n",
              "1 -300.419037  -283.779461  \n",
              "2 -322.640378  -283.509114  "
            ]
          },
          "metadata": {
            "tags": []
          },
          "execution_count": 166
        }
      ]
    },
    {
      "metadata": {
        "id": "o8uJLCFbDuS-",
        "colab_type": "code",
        "colab": {
          "base_uri": "https://localhost:8080/",
          "height": 34
        },
        "outputId": "fd03e3bf-38fd-4119-aecd-5f146620f974"
      },
      "cell_type": "code",
      "source": [
        "scores['test_score'].mean()"
      ],
      "execution_count": 167,
      "outputs": [
        {
          "output_type": "execute_result",
          "data": {
            "text/plain": [
              "-306.9173130794428"
            ]
          },
          "metadata": {
            "tags": []
          },
          "execution_count": 167
        }
      ]
    },
    {
      "metadata": {
        "id": "htoFng9qECOY",
        "colab_type": "code",
        "colab": {
          "base_uri": "https://localhost:8080/",
          "height": 138
        },
        "outputId": "bffd8d53-4fa1-47e5-b956-167c3f51acd6"
      },
      "cell_type": "code",
      "source": [
        "X_train.head(3)"
      ],
      "execution_count": 94,
      "outputs": [
        {
          "output_type": "execute_result",
          "data": {
            "text/html": [
              "<div>\n",
              "<style scoped>\n",
              "    .dataframe tbody tr th:only-of-type {\n",
              "        vertical-align: middle;\n",
              "    }\n",
              "\n",
              "    .dataframe tbody tr th {\n",
              "        vertical-align: top;\n",
              "    }\n",
              "\n",
              "    .dataframe thead th {\n",
              "        text-align: right;\n",
              "    }\n",
              "</style>\n",
              "<table border=\"1\" class=\"dataframe\">\n",
              "  <thead>\n",
              "    <tr style=\"text-align: right;\">\n",
              "      <th></th>\n",
              "      <th>PRCP</th>\n",
              "      <th>SNOW</th>\n",
              "      <th>SNWD</th>\n",
              "      <th>TMAX</th>\n",
              "      <th>TMIN</th>\n",
              "      <th>AWND</th>\n",
              "      <th>Total_yesterday</th>\n",
              "      <th>Mon</th>\n",
              "      <th>Tue</th>\n",
              "      <th>Wed</th>\n",
              "      <th>Thu</th>\n",
              "      <th>Fri</th>\n",
              "      <th>Sat</th>\n",
              "      <th>Sun</th>\n",
              "      <th>holiday</th>\n",
              "      <th>daylight_hrs</th>\n",
              "      <th>Temp (C)</th>\n",
              "      <th>dry day</th>\n",
              "      <th>annual</th>\n",
              "    </tr>\n",
              "  </thead>\n",
              "  <tbody>\n",
              "    <tr>\n",
              "      <th>2012-10-04</th>\n",
              "      <td>0.0</td>\n",
              "      <td>0</td>\n",
              "      <td>0</td>\n",
              "      <td>18.9</td>\n",
              "      <td>8.3</td>\n",
              "      <td>65</td>\n",
              "      <td>3521.0</td>\n",
              "      <td>0.0</td>\n",
              "      <td>0.0</td>\n",
              "      <td>0.0</td>\n",
              "      <td>1.0</td>\n",
              "      <td>0.0</td>\n",
              "      <td>0.0</td>\n",
              "      <td>0.0</td>\n",
              "      <td>0.0</td>\n",
              "      <td>11.219142</td>\n",
              "      <td>13.60</td>\n",
              "      <td>1</td>\n",
              "      <td>0.000000</td>\n",
              "    </tr>\n",
              "    <tr>\n",
              "      <th>2012-10-05</th>\n",
              "      <td>0.0</td>\n",
              "      <td>0</td>\n",
              "      <td>0</td>\n",
              "      <td>21.7</td>\n",
              "      <td>8.9</td>\n",
              "      <td>57</td>\n",
              "      <td>3475.0</td>\n",
              "      <td>0.0</td>\n",
              "      <td>0.0</td>\n",
              "      <td>0.0</td>\n",
              "      <td>0.0</td>\n",
              "      <td>1.0</td>\n",
              "      <td>0.0</td>\n",
              "      <td>0.0</td>\n",
              "      <td>0.0</td>\n",
              "      <td>11.161038</td>\n",
              "      <td>15.30</td>\n",
              "      <td>1</td>\n",
              "      <td>0.002740</td>\n",
              "    </tr>\n",
              "    <tr>\n",
              "      <th>2012-10-06</th>\n",
              "      <td>0.0</td>\n",
              "      <td>0</td>\n",
              "      <td>0</td>\n",
              "      <td>23.9</td>\n",
              "      <td>7.8</td>\n",
              "      <td>51</td>\n",
              "      <td>3148.0</td>\n",
              "      <td>0.0</td>\n",
              "      <td>0.0</td>\n",
              "      <td>0.0</td>\n",
              "      <td>0.0</td>\n",
              "      <td>0.0</td>\n",
              "      <td>1.0</td>\n",
              "      <td>0.0</td>\n",
              "      <td>0.0</td>\n",
              "      <td>11.103056</td>\n",
              "      <td>15.85</td>\n",
              "      <td>1</td>\n",
              "      <td>0.005479</td>\n",
              "    </tr>\n",
              "  </tbody>\n",
              "</table>\n",
              "</div>"
            ],
            "text/plain": [
              "            PRCP  SNOW  SNWD  TMAX  TMIN  AWND  Total_yesterday  Mon  Tue  \\\n",
              "2012-10-04   0.0     0     0  18.9   8.3    65           3521.0  0.0  0.0   \n",
              "2012-10-05   0.0     0     0  21.7   8.9    57           3475.0  0.0  0.0   \n",
              "2012-10-06   0.0     0     0  23.9   7.8    51           3148.0  0.0  0.0   \n",
              "\n",
              "            Wed  Thu  Fri  Sat  Sun  holiday  daylight_hrs  Temp (C)  dry day  \\\n",
              "2012-10-04  0.0  1.0  0.0  0.0  0.0      0.0     11.219142     13.60        1   \n",
              "2012-10-05  0.0  0.0  1.0  0.0  0.0      0.0     11.161038     15.30        1   \n",
              "2012-10-06  0.0  0.0  0.0  1.0  0.0      0.0     11.103056     15.85        1   \n",
              "\n",
              "              annual  \n",
              "2012-10-04  0.000000  \n",
              "2012-10-05  0.002740  \n",
              "2012-10-06  0.005479  "
            ]
          },
          "metadata": {
            "tags": []
          },
          "execution_count": 94
        }
      ]
    },
    {
      "metadata": {
        "id": "b6zxN2xB3bX_",
        "colab_type": "text"
      },
      "cell_type": "markdown",
      "source": [
        "### Random Forest (with new features)"
      ]
    },
    {
      "metadata": {
        "id": "3sWUDZIz1-kk",
        "colab_type": "code",
        "colab": {
          "base_uri": "https://localhost:8080/",
          "height": 103
        },
        "outputId": "947938aa-d771-4414-c02f-3e7e867cc95f"
      },
      "cell_type": "code",
      "source": [
        "%%time \n",
        "\n",
        "param_grid = {\n",
        "    'n_estimators': [100], \n",
        "    'max_depth': [5, 10, 15], \n",
        "    'criterion': ['mae']\n",
        "}\n",
        "\n",
        "gridsearch = GridSearchCV(RandomForestRegressor(), param_grid=param_grid, \n",
        "                          scoring='neg_mean_absolute_error', cv=3, \n",
        "                          return_train_score=True, verbose=1)\n",
        "\n",
        "gridsearch.fit(X_train, y_train)"
      ],
      "execution_count": 168,
      "outputs": [
        {
          "output_type": "stream",
          "text": [
            "Fitting 3 folds for each of 3 candidates, totalling 9 fits\n"
          ],
          "name": "stdout"
        },
        {
          "output_type": "stream",
          "text": [
            "[Parallel(n_jobs=1)]: Using backend SequentialBackend with 1 concurrent workers.\n",
            "[Parallel(n_jobs=1)]: Done   9 out of   9 | elapsed:   19.0s finished\n"
          ],
          "name": "stderr"
        },
        {
          "output_type": "stream",
          "text": [
            "CPU times: user 23.2 s, sys: 10.2 ms, total: 23.3 s\n",
            "Wall time: 23.3 s\n"
          ],
          "name": "stdout"
        }
      ]
    },
    {
      "metadata": {
        "id": "8TuMsaD0FuD0",
        "colab_type": "code",
        "colab": {
          "base_uri": "https://localhost:8080/",
          "height": 381
        },
        "outputId": "2d957258-551f-4765-9855-eaef234d8876"
      },
      "cell_type": "code",
      "source": [
        "results = pd.DataFrame(gridsearch.cv_results_)\n",
        "print(f'Best result from grid search of {len(results)} parameter combinations')\n",
        "results.sort_values(by='rank_test_score').head()"
      ],
      "execution_count": 169,
      "outputs": [
        {
          "output_type": "stream",
          "text": [
            "Best result from grid search of 3 parameter combinations\n"
          ],
          "name": "stdout"
        },
        {
          "output_type": "execute_result",
          "data": {
            "text/html": [
              "<div>\n",
              "<style scoped>\n",
              "    .dataframe tbody tr th:only-of-type {\n",
              "        vertical-align: middle;\n",
              "    }\n",
              "\n",
              "    .dataframe tbody tr th {\n",
              "        vertical-align: top;\n",
              "    }\n",
              "\n",
              "    .dataframe thead th {\n",
              "        text-align: right;\n",
              "    }\n",
              "</style>\n",
              "<table border=\"1\" class=\"dataframe\">\n",
              "  <thead>\n",
              "    <tr style=\"text-align: right;\">\n",
              "      <th></th>\n",
              "      <th>mean_fit_time</th>\n",
              "      <th>mean_score_time</th>\n",
              "      <th>mean_test_score</th>\n",
              "      <th>mean_train_score</th>\n",
              "      <th>param_criterion</th>\n",
              "      <th>param_max_depth</th>\n",
              "      <th>param_n_estimators</th>\n",
              "      <th>params</th>\n",
              "      <th>rank_test_score</th>\n",
              "      <th>split0_test_score</th>\n",
              "      <th>split0_train_score</th>\n",
              "      <th>split1_test_score</th>\n",
              "      <th>split1_train_score</th>\n",
              "      <th>split2_test_score</th>\n",
              "      <th>split2_train_score</th>\n",
              "      <th>std_fit_time</th>\n",
              "      <th>std_score_time</th>\n",
              "      <th>std_test_score</th>\n",
              "      <th>std_train_score</th>\n",
              "    </tr>\n",
              "  </thead>\n",
              "  <tbody>\n",
              "    <tr>\n",
              "      <th>2</th>\n",
              "      <td>2.416755</td>\n",
              "      <td>0.010922</td>\n",
              "      <td>-326.383323</td>\n",
              "      <td>-110.516215</td>\n",
              "      <td>mae</td>\n",
              "      <td>15</td>\n",
              "      <td>100</td>\n",
              "      <td>{'criterion': 'mae', 'max_depth': 15, 'n_estim...</td>\n",
              "      <td>1</td>\n",
              "      <td>-357.480405</td>\n",
              "      <td>-111.845833</td>\n",
              "      <td>-317.680530</td>\n",
              "      <td>-103.476807</td>\n",
              "      <td>-303.989034</td>\n",
              "      <td>-116.226005</td>\n",
              "      <td>0.057578</td>\n",
              "      <td>0.000430</td>\n",
              "      <td>22.688259</td>\n",
              "      <td>5.289072</td>\n",
              "    </tr>\n",
              "    <tr>\n",
              "      <th>1</th>\n",
              "      <td>2.238153</td>\n",
              "      <td>0.009845</td>\n",
              "      <td>-326.704169</td>\n",
              "      <td>-140.121464</td>\n",
              "      <td>mae</td>\n",
              "      <td>10</td>\n",
              "      <td>100</td>\n",
              "      <td>{'criterion': 'mae', 'max_depth': 10, 'n_estim...</td>\n",
              "      <td>2</td>\n",
              "      <td>-348.252866</td>\n",
              "      <td>-145.417438</td>\n",
              "      <td>-323.204190</td>\n",
              "      <td>-128.721815</td>\n",
              "      <td>-308.655452</td>\n",
              "      <td>-146.225140</td>\n",
              "      <td>0.040661</td>\n",
              "      <td>0.000081</td>\n",
              "      <td>16.353923</td>\n",
              "      <td>8.067511</td>\n",
              "    </tr>\n",
              "    <tr>\n",
              "      <th>0</th>\n",
              "      <td>1.599229</td>\n",
              "      <td>0.007735</td>\n",
              "      <td>-360.132061</td>\n",
              "      <td>-287.982352</td>\n",
              "      <td>mae</td>\n",
              "      <td>5</td>\n",
              "      <td>100</td>\n",
              "      <td>{'criterion': 'mae', 'max_depth': 5, 'n_estima...</td>\n",
              "      <td>3</td>\n",
              "      <td>-356.697150</td>\n",
              "      <td>-299.000989</td>\n",
              "      <td>-384.194907</td>\n",
              "      <td>-264.917445</td>\n",
              "      <td>-339.504128</td>\n",
              "      <td>-300.028621</td>\n",
              "      <td>0.039282</td>\n",
              "      <td>0.000202</td>\n",
              "      <td>18.405894</td>\n",
              "      <td>16.314747</td>\n",
              "    </tr>\n",
              "  </tbody>\n",
              "</table>\n",
              "</div>"
            ],
            "text/plain": [
              "   mean_fit_time  mean_score_time  mean_test_score  mean_train_score  \\\n",
              "2       2.416755         0.010922      -326.383323       -110.516215   \n",
              "1       2.238153         0.009845      -326.704169       -140.121464   \n",
              "0       1.599229         0.007735      -360.132061       -287.982352   \n",
              "\n",
              "  param_criterion param_max_depth param_n_estimators  \\\n",
              "2             mae              15                100   \n",
              "1             mae              10                100   \n",
              "0             mae               5                100   \n",
              "\n",
              "                                              params  rank_test_score  \\\n",
              "2  {'criterion': 'mae', 'max_depth': 15, 'n_estim...                1   \n",
              "1  {'criterion': 'mae', 'max_depth': 10, 'n_estim...                2   \n",
              "0  {'criterion': 'mae', 'max_depth': 5, 'n_estima...                3   \n",
              "\n",
              "   split0_test_score  split0_train_score  split1_test_score  \\\n",
              "2        -357.480405         -111.845833        -317.680530   \n",
              "1        -348.252866         -145.417438        -323.204190   \n",
              "0        -356.697150         -299.000989        -384.194907   \n",
              "\n",
              "   split1_train_score  split2_test_score  split2_train_score  std_fit_time  \\\n",
              "2         -103.476807        -303.989034         -116.226005      0.057578   \n",
              "1         -128.721815        -308.655452         -146.225140      0.040661   \n",
              "0         -264.917445        -339.504128         -300.028621      0.039282   \n",
              "\n",
              "   std_score_time  std_test_score  std_train_score  \n",
              "2        0.000430       22.688259         5.289072  \n",
              "1        0.000081       16.353923         8.067511  \n",
              "0        0.000202       18.405894        16.314747  "
            ]
          },
          "metadata": {
            "tags": []
          },
          "execution_count": 169
        }
      ]
    },
    {
      "metadata": {
        "id": "0QEBUVR13kcb",
        "colab_type": "text"
      },
      "cell_type": "markdown",
      "source": [
        "### Ridge Regression (with new features)\n",
        "\n",
        "https://scikit-learn.org/stable/modules/generated/sklearn.linear_model.Ridge.html"
      ]
    },
    {
      "metadata": {
        "id": "4voLbIxU8r6r",
        "colab_type": "code",
        "colab": {
          "base_uri": "https://localhost:8080/",
          "height": 137
        },
        "outputId": "f3299817-480a-4210-d268-bf1860a80fcd"
      },
      "cell_type": "code",
      "source": [
        "from sklearn.linear_model import Ridge\n",
        "\n",
        "param_grid = {\n",
        "    'alpha': [0.1, 1.0, 10.]\n",
        "}\n",
        "\n",
        "\n",
        "gridsearch = GridSearchCV(Ridge(), param_grid=param_grid, \n",
        "                          scoring='neg_mean_absolute_error', cv=3, \n",
        "                          return_train_score=True)\n",
        "\n",
        "gridsearch.fit(X_train, y_train)"
      ],
      "execution_count": 170,
      "outputs": [
        {
          "output_type": "execute_result",
          "data": {
            "text/plain": [
              "GridSearchCV(cv=3, error_score='raise-deprecating',\n",
              "       estimator=Ridge(alpha=1.0, copy_X=True, fit_intercept=True, max_iter=None,\n",
              "   normalize=False, random_state=None, solver='auto', tol=0.001),\n",
              "       fit_params=None, iid='warn', n_jobs=None,\n",
              "       param_grid={'alpha': [0.1, 1.0, 10.0]}, pre_dispatch='2*n_jobs',\n",
              "       refit=True, return_train_score=True,\n",
              "       scoring='neg_mean_absolute_error', verbose=0)"
            ]
          },
          "metadata": {
            "tags": []
          },
          "execution_count": 170
        }
      ]
    },
    {
      "metadata": {
        "id": "ID3zi3xjHCZg",
        "colab_type": "code",
        "colab": {
          "base_uri": "https://localhost:8080/",
          "height": 226
        },
        "outputId": "6c532089-89a5-4331-c15f-50a4ad0b5418"
      },
      "cell_type": "code",
      "source": [
        "results = pd.DataFrame(gridsearch.cv_results_)\n",
        "print(f'Best result from grid search of {len(results)} parameter combinations')\n",
        "results.sort_values(by='rank_test_score').head()"
      ],
      "execution_count": 171,
      "outputs": [
        {
          "output_type": "stream",
          "text": [
            "Best result from grid search of 3 parameter combinations\n"
          ],
          "name": "stdout"
        },
        {
          "output_type": "execute_result",
          "data": {
            "text/html": [
              "<div>\n",
              "<style scoped>\n",
              "    .dataframe tbody tr th:only-of-type {\n",
              "        vertical-align: middle;\n",
              "    }\n",
              "\n",
              "    .dataframe tbody tr th {\n",
              "        vertical-align: top;\n",
              "    }\n",
              "\n",
              "    .dataframe thead th {\n",
              "        text-align: right;\n",
              "    }\n",
              "</style>\n",
              "<table border=\"1\" class=\"dataframe\">\n",
              "  <thead>\n",
              "    <tr style=\"text-align: right;\">\n",
              "      <th></th>\n",
              "      <th>mean_fit_time</th>\n",
              "      <th>mean_score_time</th>\n",
              "      <th>mean_test_score</th>\n",
              "      <th>mean_train_score</th>\n",
              "      <th>param_alpha</th>\n",
              "      <th>params</th>\n",
              "      <th>rank_test_score</th>\n",
              "      <th>split0_test_score</th>\n",
              "      <th>split0_train_score</th>\n",
              "      <th>split1_test_score</th>\n",
              "      <th>split1_train_score</th>\n",
              "      <th>split2_test_score</th>\n",
              "      <th>split2_train_score</th>\n",
              "      <th>std_fit_time</th>\n",
              "      <th>std_score_time</th>\n",
              "      <th>std_test_score</th>\n",
              "      <th>std_train_score</th>\n",
              "    </tr>\n",
              "  </thead>\n",
              "  <tbody>\n",
              "    <tr>\n",
              "      <th>1</th>\n",
              "      <td>0.002729</td>\n",
              "      <td>0.002533</td>\n",
              "      <td>-306.481001</td>\n",
              "      <td>-287.183852</td>\n",
              "      <td>1</td>\n",
              "      <td>{'alpha': 1.0}</td>\n",
              "      <td>1</td>\n",
              "      <td>-295.097222</td>\n",
              "      <td>-294.519125</td>\n",
              "      <td>-301.453949</td>\n",
              "      <td>-283.740595</td>\n",
              "      <td>-322.891834</td>\n",
              "      <td>-283.291836</td>\n",
              "      <td>0.000015</td>\n",
              "      <td>0.000796</td>\n",
              "      <td>11.890853</td>\n",
              "      <td>5.190056</td>\n",
              "    </tr>\n",
              "    <tr>\n",
              "      <th>0</th>\n",
              "      <td>0.006483</td>\n",
              "      <td>0.002275</td>\n",
              "      <td>-306.856914</td>\n",
              "      <td>-287.252183</td>\n",
              "      <td>0.1</td>\n",
              "      <td>{'alpha': 0.1}</td>\n",
              "      <td>2</td>\n",
              "      <td>-297.398383</td>\n",
              "      <td>-294.519201</td>\n",
              "      <td>-300.510934</td>\n",
              "      <td>-283.762475</td>\n",
              "      <td>-322.661427</td>\n",
              "      <td>-283.474873</td>\n",
              "      <td>0.004487</td>\n",
              "      <td>0.000227</td>\n",
              "      <td>11.247487</td>\n",
              "      <td>5.139899</td>\n",
              "    </tr>\n",
              "    <tr>\n",
              "      <th>2</th>\n",
              "      <td>0.002586</td>\n",
              "      <td>0.001934</td>\n",
              "      <td>-309.981483</td>\n",
              "      <td>-292.906866</td>\n",
              "      <td>10</td>\n",
              "      <td>{'alpha': 10.0}</td>\n",
              "      <td>3</td>\n",
              "      <td>-283.734177</td>\n",
              "      <td>-301.203378</td>\n",
              "      <td>-314.574979</td>\n",
              "      <td>-289.669103</td>\n",
              "      <td>-331.635292</td>\n",
              "      <td>-287.848116</td>\n",
              "      <td>0.000019</td>\n",
              "      <td>0.000025</td>\n",
              "      <td>19.823460</td>\n",
              "      <td>5.913436</td>\n",
              "    </tr>\n",
              "  </tbody>\n",
              "</table>\n",
              "</div>"
            ],
            "text/plain": [
              "   mean_fit_time  mean_score_time  mean_test_score  mean_train_score  \\\n",
              "1       0.002729         0.002533      -306.481001       -287.183852   \n",
              "0       0.006483         0.002275      -306.856914       -287.252183   \n",
              "2       0.002586         0.001934      -309.981483       -292.906866   \n",
              "\n",
              "  param_alpha           params  rank_test_score  split0_test_score  \\\n",
              "1           1   {'alpha': 1.0}                1        -295.097222   \n",
              "0         0.1   {'alpha': 0.1}                2        -297.398383   \n",
              "2          10  {'alpha': 10.0}                3        -283.734177   \n",
              "\n",
              "   split0_train_score  split1_test_score  split1_train_score  \\\n",
              "1         -294.519125        -301.453949         -283.740595   \n",
              "0         -294.519201        -300.510934         -283.762475   \n",
              "2         -301.203378        -314.574979         -289.669103   \n",
              "\n",
              "   split2_test_score  split2_train_score  std_fit_time  std_score_time  \\\n",
              "1        -322.891834         -283.291836      0.000015        0.000796   \n",
              "0        -322.661427         -283.474873      0.004487        0.000227   \n",
              "2        -331.635292         -287.848116      0.000019        0.000025   \n",
              "\n",
              "   std_test_score  std_train_score  \n",
              "1       11.890853         5.190056  \n",
              "0       11.247487         5.139899  \n",
              "2       19.823460         5.913436  "
            ]
          },
          "metadata": {
            "tags": []
          },
          "execution_count": 171
        }
      ]
    },
    {
      "metadata": {
        "id": "Y3WqT3KWGrLp",
        "colab_type": "code",
        "colab": {
          "base_uri": "https://localhost:8080/",
          "height": 377
        },
        "outputId": "6f104c92-4b19-490b-94c8-b47837f1ac65"
      },
      "cell_type": "code",
      "source": [
        "model = gridsearch.best_estimator_\n",
        "\n",
        "coefficients = model.coef_\n",
        "intercept = model.intercept_\n",
        "feature_names = X_train.columns\n",
        "\n",
        "print('Best model from grid search cross validation')\n",
        "print('Intercept', intercept)\n",
        "print(pd.Series(coefficients, feature_names).to_string())"
      ],
      "execution_count": 172,
      "outputs": [
        {
          "output_type": "stream",
          "text": [
            "Best model from grid search cross validation\n",
            "Intercept 33.741779570641484\n",
            "PRCP               -553.070741\n",
            "SNOW                 -0.002829\n",
            "SNWD                 -1.877519\n",
            "TMAX                 63.833062\n",
            "TMIN                -37.450291\n",
            "AWND                 -1.900084\n",
            "Total_yesterday       0.296029\n",
            "Mon                 779.221395\n",
            "Tue                 432.700039\n",
            "Wed                 368.367626\n",
            "Thu                 274.054021\n",
            "Fri                  47.251356\n",
            "Sat               -1099.692199\n",
            "Sun                -801.902237\n",
            "holiday            -939.301546\n",
            "daylight_hrs         70.256463\n",
            "Temp (C)             13.191386\n",
            "dry day             298.475434\n",
            "annual               44.518889\n"
          ],
          "name": "stdout"
        }
      ]
    },
    {
      "metadata": {
        "id": "dofdwyTf3pm0",
        "colab_type": "text"
      },
      "cell_type": "markdown",
      "source": [
        "### Compare to statsmodels"
      ]
    },
    {
      "metadata": {
        "id": "i-Qt4mDk_yBY",
        "colab_type": "code",
        "colab": {
          "base_uri": "https://localhost:8080/",
          "height": 788
        },
        "outputId": "5a4425b3-c02a-4bd5-f62c-6bc27ffe38cc"
      },
      "cell_type": "code",
      "source": [
        "import statsmodels.api as sm\n",
        "model = sm.OLS(y_train, sm.add_constant(X_train))\n",
        "print(model.fit().summary())"
      ],
      "execution_count": 174,
      "outputs": [
        {
          "output_type": "stream",
          "text": [
            "                            OLS Regression Results                            \n",
            "==============================================================================\n",
            "Dep. Variable:                  Total   R-squared:                       0.902\n",
            "Model:                            OLS   Adj. R-squared:                  0.901\n",
            "Method:                 Least Squares   F-statistic:                     513.8\n",
            "Date:                Thu, 31 Jan 2019   Prob (F-statistic):               0.00\n",
            "Time:                        01:58:57   Log-Likelihood:                -7092.6\n",
            "No. Observations:                 963   AIC:                         1.422e+04\n",
            "Df Residuals:                     945   BIC:                         1.431e+04\n",
            "Df Model:                          17                                         \n",
            "Covariance Type:            nonrobust                                         \n",
            "===================================================================================\n",
            "                      coef    std err          t      P>|t|      [0.025      0.975]\n",
            "-----------------------------------------------------------------------------------\n",
            "const              33.0481     66.293      0.499      0.618     -97.051     163.147\n",
            "PRCP             -562.6226     56.568     -9.946      0.000    -673.636    -451.609\n",
            "SNOW               -0.0025      0.020     -0.129      0.897      -0.041       0.036\n",
            "SNWD               -1.8308      4.642     -0.394      0.693     -10.941       7.279\n",
            "TMAX               63.6645      4.785     13.306      0.000      54.275      73.054\n",
            "TMIN              -37.1413      5.413     -6.862      0.000     -47.763     -26.519\n",
            "AWND               -1.8502      0.910     -2.033      0.042      -3.637      -0.064\n",
            "Total_yesterday     0.2934      0.022     13.630      0.000       0.251       0.336\n",
            "Mon               790.2012     41.051     19.249      0.000     709.640     870.763\n",
            "Tue               441.4649     32.982     13.385      0.000     376.739     506.191\n",
            "Wed               376.8835     33.935     11.106      0.000     310.287     443.480\n",
            "Thu               282.8744     33.665      8.403      0.000     216.808     348.941\n",
            "Fri                52.4558     32.802      1.599      0.110     -11.918     116.829\n",
            "Sat             -1103.8595     32.242    -34.237      0.000   -1167.133   -1040.586\n",
            "Sun              -806.9722     40.114    -20.117      0.000    -885.695    -728.250\n",
            "holiday          -983.4044     78.191    -12.577      0.000   -1136.853    -829.955\n",
            "daylight_hrs       70.3750      8.400      8.378      0.000      53.890      86.860\n",
            "Temp (C)           13.2616      1.252     10.591      0.000      10.804      15.719\n",
            "dry day           301.0276     33.915      8.876      0.000     234.471     367.584\n",
            "annual             44.6618     16.620      2.687      0.007      12.045      77.279\n",
            "==============================================================================\n",
            "Omnibus:                       35.650   Durbin-Watson:                   1.665\n",
            "Prob(Omnibus):                  0.000   Jarque-Bera (JB):               78.276\n",
            "Skew:                           0.188   Prob(JB):                     1.01e-17\n",
            "Kurtosis:                       4.345   Cond. No.                     2.64e+19\n",
            "==============================================================================\n",
            "\n",
            "Warnings:\n",
            "[1] Standard Errors assume that the covariance matrix of the errors is correctly specified.\n",
            "[2] The smallest eigenvalue is 1.09e-29. This might indicate that there are\n",
            "strong multicollinearity problems or that the design matrix is singular.\n"
          ],
          "name": "stdout"
        }
      ]
    },
    {
      "metadata": {
        "id": "3PykFzsQsPAs",
        "colab_type": "code",
        "colab": {
          "base_uri": "https://localhost:8080/",
          "height": 34
        },
        "outputId": "6794f664-eddb-4a26-8950-3231dce6ef39"
      },
      "cell_type": "code",
      "source": [
        "X_train.shape, X_test.shape"
      ],
      "execution_count": 175,
      "outputs": [
        {
          "output_type": "execute_result",
          "data": {
            "text/plain": [
              "((963, 19), (100, 7))"
            ]
          },
          "metadata": {
            "tags": []
          },
          "execution_count": 175
        }
      ]
    },
    {
      "metadata": {
        "id": "edpJ87A8A8sd",
        "colab_type": "text"
      },
      "cell_type": "markdown",
      "source": [
        "\n",
        "### Feature engineering, explained by Francois Chollet\n",
        "\n",
        "> _Feature engineering_ is the process of using your own knowledge about the data and about the machine learning algorithm at hand to make the algorithm work better by applying hardcoded (nonlearned) transformations to the data before it goes into the model. In many cases, it isn’t reasonable to expect a machine-learning model to be able to learn from completely arbitrary data. The data needs to be presented to the model in a way that will make the model’s job easier.\n",
        "\n",
        "> Let’s look at an intuitive example. Suppose you’re trying to develop a model that can take as input an image of a clock and can output the time of day.\n",
        "\n",
        "> If you choose to use the raw pixels of the image as input data, then you have a difficult machine-learning problem on your hands. You’ll need a convolutional neural network to solve it, and you’ll have to expend quite a bit of computational resources to train the network.\n",
        "\n",
        "> But if you already understand the problem at a high level (you understand how humans read time on a clock face), then you can come up with much better input features for a machine-learning algorithm: for instance, write a Python script to follow the black pixels of the clock hands and output the (x, y) coordinates of the tip of each hand. Then a simple machine-learning algorithm can learn to associate these coordinates with the appropriate time of day.\n",
        "\n",
        "> You can go even further: do a coordinate change, and express the (x, y) coordinates as polar coordinates with regard to the center of the image. Your input will become the angle theta of each clock hand. At this point, your features are making the problem so easy that no machine learning is required; a simple rounding operation and dictionary lookup are enough to recover the approximate time of day.\n",
        "\n",
        "> That’s the essence of feature engineering: making a problem easier by expressing it in a simpler way. It usually requires understanding the problem in depth.\n",
        "\n",
        "> Before convolutional neural networks became successful on the MNIST digit-classification problem, solutions were typically based on hardcoded features such as the number of loops in a digit image, the height of each digit in an image, a histogram of pixel values, and so on.\n",
        "\n",
        "> Neural networks are capable of automatically extracting useful features from raw data. Does this mean you don’t have to worry about feature engineering as long as you’re using deep neural networks? No, for two reasons:\n",
        "\n",
        "> - Good features still allow you to solve problems more elegantly while using fewer resources. For instance, it would be ridiculous to solve the problem of reading a clock face using a convolutional neural network.\n",
        "> - Good features let you solve a problem with far less data. The ability of deep-learning models to learn features on their own relies on having lots of training data available; if you have only a few samples, then the information value in their features becomes critical.\n"
      ]
    },
    {
      "metadata": {
        "id": "oux-dd-5FD6p",
        "colab_type": "text"
      },
      "cell_type": "markdown",
      "source": [
        "# ASSIGNMENT\n",
        "\n",
        "### Core assignment\n",
        "\n",
        "Complete the notebook cells that were originally commented **`TODO`**. \n",
        "\n",
        "Then, focus on feature engineering to improve your cross validation scores. Collaborate with your cohort on Slack. You could start with the ideas [Jake VanderPlas suggests:](https://jakevdp.github.io/PythonDataScienceHandbook/05.06-linear-regression.html#Example:-Predicting-Bicycle-Traffic)\n",
        "\n",
        "> Our model is almost certainly missing some relevant information. For example, nonlinear effects (such as effects of precipitation and cold temperature) and nonlinear trends within each variable (such as disinclination to ride at very cold and very hot temperatures) cannot be accounted for in this model. Additionally, we have thrown away some of the finer-grained information (such as the difference between a rainy morning and a rainy afternoon), and we have ignored correlations between days (such as the possible effect of a rainy Tuesday on Wednesday's numbers, or the effect of an unexpected sunny day after a streak of rainy days). These are all potentially interesting effects, and you now have the tools to begin exploring them if you wish!\n",
        "\n",
        "At the end of the day, take the last step in the \"universal workflow of machine learning\" — \"You can train your final production model on all the available data (training and validation) and evaluate it one last time on the test set.\"\n",
        "\n",
        "See the [`GridSearchCV`](https://scikit-learn.org/stable/modules/generated/sklearn.model_selection.GridSearchCV.html) documentation for the `refit` parameter, `best_estimator_` attribute, and `predict` method:\n",
        "\n",
        "> **refit : boolean, or string, default=True**\n",
        "\n",
        "> Refit an estimator using the best found parameters on the whole dataset.\n",
        "\n",
        "> The refitted estimator is made available at the `best_estimator_` attribute and permits using `predict` directly on this `GridSearchCV` instance.\n",
        "\n",
        "### More options\n",
        "\n",
        "**A.** Apply this lesson to other datasets.\n",
        "\n",
        "**B.** We predicted the number of bicycle trips based on that day's weather. But imagine you were asked to predict trips at the beginning of each day, based only on data known at the time of prediction or before — so you cannot use the current day's weather. How would you wrangle the features to handle this new requirement? How does this impact the predictive accuracy and coefficients of your models?\n",
        "\n",
        "**C.** In additon to `GridSearchCV`, scikit-learn has [`RandomizedSearchCV`](https://scikit-learn.org/stable/modules/generated/sklearn.model_selection.RandomizedSearchCV.html), which is sometimes even better. Another library called scikit-optimize has [`BayesSearchCV`](https://scikit-optimize.github.io/notebooks/sklearn-gridsearchcv-replacement.html). Experiment with these alternatives.\n",
        "\n",
        "**D.** _[Introduction to Machine Learning with Python](http://shop.oreilly.com/product/0636920030515.do)_ discusses options for \"Grid-Searching Which Model To Use\" in Chapter 6:\n",
        "\n",
        "> You can even go further in combining GridSearchCV and Pipeline: it is also possible to search over the actual steps being performed in the pipeline (say whether to use StandardScaler or MinMaxScaler). This leads to an even bigger search space and should be considered carefully. Trying all possible solutions is usually not a viable machine learning strategy. However, here is an example comparing a RandomForestClassifier and an SVC ...\n",
        "\n",
        "The example is shown in [the accompanying notebook](https://github.com/amueller/introduction_to_ml_with_python/blob/master/06-algorithm-chains-and-pipelines.ipynb), code cells 35-37. Could you apply this concept to your own pipelines?\n",
        "\n",
        "\n"
      ]
    },
    {
      "metadata": {
        "id": "CyQdbAXZJZjs",
        "colab_type": "code",
        "colab": {}
      },
      "cell_type": "code",
      "source": [
        "import numpy as np\n",
        "from sklearn.linear_model import LinearRegression\n",
        "from sklearn.model_selection import cross_validate\n",
        "from sklearn.linear_model import Ridge\n",
        "from sklearn.model_selection import GridSearchCV\n",
        "from sklearn.metrics import mean_absolute_error"
      ],
      "execution_count": 0,
      "outputs": []
    },
    {
      "metadata": {
        "id": "hBQafNo8GoZx",
        "colab_type": "code",
        "colab": {
          "base_uri": "https://localhost:8080/",
          "height": 34
        },
        "outputId": "234a2f3e-ab7e-4788-d08c-1e8a07f62fe5"
      },
      "cell_type": "code",
      "source": [
        "import pandas as pd\n",
        "\n",
        "counts = pd.read_csv('FremontBridge.csv', index_col='Date', parse_dates=True, \n",
        "                     infer_datetime_format=True)\n",
        "\n",
        "weather = pd.read_csv('BicycleWeather.csv', index_col='DATE', parse_dates=True, \n",
        "                      infer_datetime_format=False)\n",
        "\n",
        "daily = counts.resample('d').sum()\n",
        "daily['Total'] = daily.sum(axis=1)\n",
        "daily = daily[['Total']] # remove other columns\n",
        "\n",
        "print(weather.shape, counts.shape, daily.shape)\n",
        "\n",
        "weather_columns = ['PRCP', 'SNOW', 'SNWD', 'TMAX', 'TMIN', 'AWND']\n",
        "daily = daily.join(weather[weather_columns], how='inner') # index by date\n",
        "\n",
        "daily['Total_yesterday'] = daily.Total.shift(1)\n",
        "\n",
        "daily = daily.drop(index=daily.index[0])"
      ],
      "execution_count": 8,
      "outputs": [
        {
          "output_type": "stream",
          "text": [
            "(1340, 25) (54744, 2) (2281, 1)\n"
          ],
          "name": "stdout"
        }
      ]
    },
    {
      "metadata": {
        "id": "oJ7D1agcH_nB",
        "colab_type": "code",
        "colab": {}
      },
      "cell_type": "code",
      "source": [
        "# prepared X_test for feature engineering.\n",
        "train = daily[:-100]\n",
        "test = daily[-100:]\n",
        "\n",
        "X_train = train.drop(columns='Total')\n",
        "y_train = train.Total\n",
        "\n",
        "X_test  = test.drop(columns='Total')\n",
        "y_test  = test.Total"
      ],
      "execution_count": 0,
      "outputs": []
    },
    {
      "metadata": {
        "id": "_H2tyN0jru8S",
        "colab_type": "code",
        "colab": {}
      },
      "cell_type": "code",
      "source": [
        "# Add feature engineerings to y_test rather than daily->y_test\n",
        "# patterns of use generally vary from day to day; \n",
        "# let's add binary columns that indicate the day of the week:\n",
        "days = ['Mon', 'Tue', 'Wed', 'Thu', 'Fri', 'Sat', 'Sun']\n",
        "for i, day in enumerate(days):\n",
        "    X_test[day] = (X_test.index.dayofweek == i).astype(float)\n",
        "\n",
        "\n",
        "    \n",
        "# we might expect riders to behave differently on holidays; \n",
        "# let's add an indicator of this as well:\n",
        "from pandas.tseries.holiday import USFederalHolidayCalendar\n",
        "cal = USFederalHolidayCalendar()\n",
        "holidays = cal.holidays('2012', '2016')\n",
        "X_test = X_test.join(pd.Series(1, index=holidays, name='holiday'))\n",
        "X_test['holiday'].fillna(0, inplace=True)\n",
        "\n",
        "\n",
        "\n",
        "# We also might suspect that the hours of daylight would affect \n",
        "# how many people ride; let's use the standard astronomical calculation \n",
        "# to add this information:\n",
        "def hours_of_daylight(date, axis=23.44, latitude=47.61):\n",
        "    \"\"\"Compute the hours of daylight for the given date\"\"\"\n",
        "    days = (date - pd.datetime(2000, 12, 21)).days\n",
        "    m = (1. - np.tan(np.radians(latitude))\n",
        "         * np.tan(np.radians(axis) * np.cos(days * 2 * np.pi / 365.25)))\n",
        "    return 24. * np.degrees(np.arccos(1 - np.clip(m, 0, 2))) / 180.\n",
        "\n",
        "X_test['daylight_hrs'] = list(map(hours_of_daylight, X_test.index))\n",
        "\n",
        "\n",
        "\n",
        "# temperatures are in 1/10 deg C; convert to C\n",
        "X_test['TMIN'] /= 10\n",
        "X_test['TMAX'] /= 10\n",
        "\n",
        "# We can also calcuate the average temperature.\n",
        "X_test['Temp (C)'] = 0.5 * (X_test['TMIN'] + X_test['TMAX'])\n",
        "\n",
        "\n",
        "\n",
        "# precip is in 1/10 mm; convert to inches\n",
        "X_test['PRCP'] /= 254\n",
        "\n",
        "# In addition to the inches of precipitation, let's add a flag that \n",
        "# indicates whether a day is dry (has zero precipitation):\n",
        "X_test['dry day'] = (X_test['PRCP'] == 0).astype(int)\n",
        "\n",
        "\n",
        "\n",
        "# Let's add a counter that increases from day 1, and measures how many \n",
        "# years have passed. This will let us measure any observed annual increase \n",
        "# or decrease in daily crossings:\n",
        "X_test['annual'] = (X_test.index - X_test.index[0]).days / 365."
      ],
      "execution_count": 0,
      "outputs": []
    },
    {
      "metadata": {
        "id": "JWcqAXMFHhHO",
        "colab_type": "code",
        "colab": {
          "base_uri": "https://localhost:8080/",
          "height": 138
        },
        "outputId": "a047511e-2176-4693-f644-ac3a6c1c22b3"
      },
      "cell_type": "code",
      "source": [
        "scores = cross_validate(LinearRegression(), X_test, y_test, \n",
        "                        scoring='neg_mean_absolute_error', cv=3, \n",
        "                        return_train_score=True, return_estimator=True)\n",
        "\n",
        "pd.DataFrame(scores)"
      ],
      "execution_count": 11,
      "outputs": [
        {
          "output_type": "execute_result",
          "data": {
            "text/html": [
              "<div>\n",
              "<style scoped>\n",
              "    .dataframe tbody tr th:only-of-type {\n",
              "        vertical-align: middle;\n",
              "    }\n",
              "\n",
              "    .dataframe tbody tr th {\n",
              "        vertical-align: top;\n",
              "    }\n",
              "\n",
              "    .dataframe thead th {\n",
              "        text-align: right;\n",
              "    }\n",
              "</style>\n",
              "<table border=\"1\" class=\"dataframe\">\n",
              "  <thead>\n",
              "    <tr style=\"text-align: right;\">\n",
              "      <th></th>\n",
              "      <th>estimator</th>\n",
              "      <th>fit_time</th>\n",
              "      <th>score_time</th>\n",
              "      <th>test_score</th>\n",
              "      <th>train_score</th>\n",
              "    </tr>\n",
              "  </thead>\n",
              "  <tbody>\n",
              "    <tr>\n",
              "      <th>0</th>\n",
              "      <td>LinearRegression(copy_X=True, fit_intercept=Tr...</td>\n",
              "      <td>0.043641</td>\n",
              "      <td>0.002772</td>\n",
              "      <td>-551.796636</td>\n",
              "      <td>-170.406045</td>\n",
              "    </tr>\n",
              "    <tr>\n",
              "      <th>1</th>\n",
              "      <td>LinearRegression(copy_X=True, fit_intercept=Tr...</td>\n",
              "      <td>0.002218</td>\n",
              "      <td>0.001585</td>\n",
              "      <td>-246.763622</td>\n",
              "      <td>-190.597121</td>\n",
              "    </tr>\n",
              "    <tr>\n",
              "      <th>2</th>\n",
              "      <td>LinearRegression(copy_X=True, fit_intercept=Tr...</td>\n",
              "      <td>0.002037</td>\n",
              "      <td>0.001515</td>\n",
              "      <td>-2969.333538</td>\n",
              "      <td>-179.489487</td>\n",
              "    </tr>\n",
              "  </tbody>\n",
              "</table>\n",
              "</div>"
            ],
            "text/plain": [
              "                                           estimator  fit_time  score_time  \\\n",
              "0  LinearRegression(copy_X=True, fit_intercept=Tr...  0.043641    0.002772   \n",
              "1  LinearRegression(copy_X=True, fit_intercept=Tr...  0.002218    0.001585   \n",
              "2  LinearRegression(copy_X=True, fit_intercept=Tr...  0.002037    0.001515   \n",
              "\n",
              "    test_score  train_score  \n",
              "0  -551.796636  -170.406045  \n",
              "1  -246.763622  -190.597121  \n",
              "2 -2969.333538  -179.489487  "
            ]
          },
          "metadata": {
            "tags": []
          },
          "execution_count": 11
        }
      ]
    },
    {
      "metadata": {
        "id": "ADJzUriH1yV0",
        "colab_type": "text"
      },
      "cell_type": "markdown",
      "source": [
        "###Cross_validate(LinearRegression) of X_test, y_test mean scor=-949"
      ]
    },
    {
      "metadata": {
        "id": "BL0AleT0K9L_",
        "colab_type": "code",
        "colab": {
          "base_uri": "https://localhost:8080/",
          "height": 34
        },
        "outputId": "1ddad3f4-58df-4396-b8ae-308b8db9b6fa"
      },
      "cell_type": "code",
      "source": [
        "# test score with feature engineering (-1255)\n",
        "scores['test_score'].mean()"
      ],
      "execution_count": 53,
      "outputs": [
        {
          "output_type": "execute_result",
          "data": {
            "text/plain": [
              "-949.9604489248441"
            ]
          },
          "metadata": {
            "tags": []
          },
          "execution_count": 53
        }
      ]
    },
    {
      "metadata": {
        "id": "h8K5qKCJLO-3",
        "colab_type": "code",
        "colab": {
          "base_uri": "https://localhost:8080/",
          "height": 243
        },
        "outputId": "86747249-9756-45e1-d4ee-9ff7881c51de"
      },
      "cell_type": "code",
      "source": [
        "\n",
        "param_grid = {\n",
        "    'alpha': [0.1, 1.0, 10.]\n",
        "}\n",
        "\n",
        "gridsearch = GridSearchCV(Ridge(), param_grid=param_grid, \n",
        "                          scoring='neg_mean_absolute_error', cv=3, \n",
        "                          return_train_score=True, verbose=1)\n",
        "\n",
        "gridsearch.fit(X_test, y_test)"
      ],
      "execution_count": 12,
      "outputs": [
        {
          "output_type": "stream",
          "text": [
            "Fitting 3 folds for each of 3 candidates, totalling 9 fits\n"
          ],
          "name": "stdout"
        },
        {
          "output_type": "stream",
          "text": [
            "[Parallel(n_jobs=1)]: Using backend SequentialBackend with 1 concurrent workers.\n",
            "[Parallel(n_jobs=1)]: Done   9 out of   9 | elapsed:    0.1s finished\n",
            "/usr/local/lib/python3.6/dist-packages/sklearn/model_selection/_search.py:841: DeprecationWarning: The default of the `iid` parameter will change from True to False in version 0.22 and will be removed in 0.24. This will change numeric results when test-set sizes are unequal.\n",
            "  DeprecationWarning)\n"
          ],
          "name": "stderr"
        },
        {
          "output_type": "execute_result",
          "data": {
            "text/plain": [
              "GridSearchCV(cv=3, error_score='raise-deprecating',\n",
              "       estimator=Ridge(alpha=1.0, copy_X=True, fit_intercept=True, max_iter=None,\n",
              "   normalize=False, random_state=None, solver='auto', tol=0.001),\n",
              "       fit_params=None, iid='warn', n_jobs=None,\n",
              "       param_grid={'alpha': [0.1, 1.0, 10.0]}, pre_dispatch='2*n_jobs',\n",
              "       refit=True, return_train_score=True,\n",
              "       scoring='neg_mean_absolute_error', verbose=1)"
            ]
          },
          "metadata": {
            "tags": []
          },
          "execution_count": 12
        }
      ]
    },
    {
      "metadata": {
        "id": "2C5uHJIl2NcL",
        "colab_type": "text"
      },
      "cell_type": "markdown",
      "source": [
        "### Gridsearchcv fitting of X_test, y_test output mean_test_score (-564, -778, -1034)\n"
      ]
    },
    {
      "metadata": {
        "id": "AwKF0HhwMFTj",
        "colab_type": "code",
        "colab": {
          "base_uri": "https://localhost:8080/",
          "height": 226
        },
        "outputId": "fb158b96-b8d2-48f5-de49-52c147b47da8"
      },
      "cell_type": "code",
      "source": [
        "# X_test score w/ feature engineering (-564,778, -1034)\n",
        "results = pd.DataFrame(gridsearch.cv_results_)\n",
        "print(f'Best result from grid search of {len(results)} parameter combinations')\n",
        "results.sort_values(by='rank_test_score').head()"
      ],
      "execution_count": 13,
      "outputs": [
        {
          "output_type": "stream",
          "text": [
            "Best result from grid search of 3 parameter combinations\n"
          ],
          "name": "stdout"
        },
        {
          "output_type": "execute_result",
          "data": {
            "text/html": [
              "<div>\n",
              "<style scoped>\n",
              "    .dataframe tbody tr th:only-of-type {\n",
              "        vertical-align: middle;\n",
              "    }\n",
              "\n",
              "    .dataframe tbody tr th {\n",
              "        vertical-align: top;\n",
              "    }\n",
              "\n",
              "    .dataframe thead th {\n",
              "        text-align: right;\n",
              "    }\n",
              "</style>\n",
              "<table border=\"1\" class=\"dataframe\">\n",
              "  <thead>\n",
              "    <tr style=\"text-align: right;\">\n",
              "      <th></th>\n",
              "      <th>mean_fit_time</th>\n",
              "      <th>mean_score_time</th>\n",
              "      <th>mean_test_score</th>\n",
              "      <th>mean_train_score</th>\n",
              "      <th>param_alpha</th>\n",
              "      <th>params</th>\n",
              "      <th>rank_test_score</th>\n",
              "      <th>split0_test_score</th>\n",
              "      <th>split0_train_score</th>\n",
              "      <th>split1_test_score</th>\n",
              "      <th>split1_train_score</th>\n",
              "      <th>split2_test_score</th>\n",
              "      <th>split2_train_score</th>\n",
              "      <th>std_fit_time</th>\n",
              "      <th>std_score_time</th>\n",
              "      <th>std_test_score</th>\n",
              "      <th>std_train_score</th>\n",
              "    </tr>\n",
              "  </thead>\n",
              "  <tbody>\n",
              "    <tr>\n",
              "      <th>2</th>\n",
              "      <td>0.001742</td>\n",
              "      <td>0.001558</td>\n",
              "      <td>-564.069458</td>\n",
              "      <td>-456.867624</td>\n",
              "      <td>10</td>\n",
              "      <td>{'alpha': 10.0}</td>\n",
              "      <td>1</td>\n",
              "      <td>-489.780869</td>\n",
              "      <td>-447.701452</td>\n",
              "      <td>-504.662939</td>\n",
              "      <td>-456.335735</td>\n",
              "      <td>-700.015736</td>\n",
              "      <td>-466.565684</td>\n",
              "      <td>0.000049</td>\n",
              "      <td>0.000090</td>\n",
              "      <td>95.602633</td>\n",
              "      <td>7.710469</td>\n",
              "    </tr>\n",
              "    <tr>\n",
              "      <th>1</th>\n",
              "      <td>0.001750</td>\n",
              "      <td>0.001512</td>\n",
              "      <td>-778.030584</td>\n",
              "      <td>-228.023926</td>\n",
              "      <td>1</td>\n",
              "      <td>{'alpha': 1.0}</td>\n",
              "      <td>2</td>\n",
              "      <td>-292.693921</td>\n",
              "      <td>-225.288862</td>\n",
              "      <td>-290.623984</td>\n",
              "      <td>-236.107171</td>\n",
              "      <td>-1765.481020</td>\n",
              "      <td>-222.675744</td>\n",
              "      <td>0.000020</td>\n",
              "      <td>0.000026</td>\n",
              "      <td>693.003134</td>\n",
              "      <td>5.814421</td>\n",
              "    </tr>\n",
              "    <tr>\n",
              "      <th>0</th>\n",
              "      <td>0.008789</td>\n",
              "      <td>0.001749</td>\n",
              "      <td>-1034.259588</td>\n",
              "      <td>-185.882107</td>\n",
              "      <td>0.1</td>\n",
              "      <td>{'alpha': 0.1}</td>\n",
              "      <td>3</td>\n",
              "      <td>-249.302836</td>\n",
              "      <td>-175.586552</td>\n",
              "      <td>-252.370401</td>\n",
              "      <td>-197.357200</td>\n",
              "      <td>-2624.892095</td>\n",
              "      <td>-184.702569</td>\n",
              "      <td>0.009800</td>\n",
              "      <td>0.000312</td>\n",
              "      <td>1116.322548</td>\n",
              "      <td>8.926879</td>\n",
              "    </tr>\n",
              "  </tbody>\n",
              "</table>\n",
              "</div>"
            ],
            "text/plain": [
              "   mean_fit_time  mean_score_time  mean_test_score  mean_train_score  \\\n",
              "2       0.001742         0.001558      -564.069458       -456.867624   \n",
              "1       0.001750         0.001512      -778.030584       -228.023926   \n",
              "0       0.008789         0.001749     -1034.259588       -185.882107   \n",
              "\n",
              "  param_alpha           params  rank_test_score  split0_test_score  \\\n",
              "2          10  {'alpha': 10.0}                1        -489.780869   \n",
              "1           1   {'alpha': 1.0}                2        -292.693921   \n",
              "0         0.1   {'alpha': 0.1}                3        -249.302836   \n",
              "\n",
              "   split0_train_score  split1_test_score  split1_train_score  \\\n",
              "2         -447.701452        -504.662939         -456.335735   \n",
              "1         -225.288862        -290.623984         -236.107171   \n",
              "0         -175.586552        -252.370401         -197.357200   \n",
              "\n",
              "   split2_test_score  split2_train_score  std_fit_time  std_score_time  \\\n",
              "2        -700.015736         -466.565684      0.000049        0.000090   \n",
              "1       -1765.481020         -222.675744      0.000020        0.000026   \n",
              "0       -2624.892095         -184.702569      0.009800        0.000312   \n",
              "\n",
              "   std_test_score  std_train_score  \n",
              "2       95.602633         7.710469  \n",
              "1      693.003134         5.814421  \n",
              "0     1116.322548         8.926879  "
            ]
          },
          "metadata": {
            "tags": []
          },
          "execution_count": 13
        }
      ]
    },
    {
      "metadata": {
        "id": "fT0CEWmsNeKn",
        "colab_type": "code",
        "colab": {
          "base_uri": "https://localhost:8080/",
          "height": 843
        },
        "outputId": "facfe005-3542-46b9-9ece-d8458bc18a54"
      },
      "cell_type": "code",
      "source": [
        "import statsmodels.api as sm\n",
        "model = sm.OLS(y_test, sm.add_constant(X_test))\n",
        "print(model.fit().summary())"
      ],
      "execution_count": 14,
      "outputs": [
        {
          "output_type": "stream",
          "text": [
            "/usr/local/lib/python3.6/dist-packages/statsmodels/compat/pandas.py:56: FutureWarning: The pandas.core.datetools module is deprecated and will be removed in a future version. Please use the pandas.tseries module instead.\n",
            "  from pandas.core import datetools\n"
          ],
          "name": "stderr"
        },
        {
          "output_type": "stream",
          "text": [
            "                            OLS Regression Results                            \n",
            "==============================================================================\n",
            "Dep. Variable:                  Total   R-squared:                       0.950\n",
            "Model:                            OLS   Adj. R-squared:                  0.941\n",
            "Method:                 Least Squares   F-statistic:                     106.1\n",
            "Date:                Thu, 31 Jan 2019   Prob (F-statistic):           6.07e-48\n",
            "Time:                        16:22:21   Log-Likelihood:                -694.98\n",
            "No. Observations:                 100   AIC:                             1422.\n",
            "Df Residuals:                      84   BIC:                             1464.\n",
            "Df Model:                          15                                         \n",
            "Covariance Type:            nonrobust                                         \n",
            "===================================================================================\n",
            "                      coef    std err          t      P>|t|      [0.025      0.975]\n",
            "-----------------------------------------------------------------------------------\n",
            "const             741.3644   1171.419      0.633      0.529   -1588.131    3070.860\n",
            "PRCP             -523.9941    190.929     -2.744      0.007    -903.676    -144.312\n",
            "SNOW            -7.858e-11   4.77e-11     -1.646      0.103   -1.73e-10    1.63e-11\n",
            "SNWD            -1.224e-13   6.66e-13     -0.184      0.854   -1.45e-12     1.2e-12\n",
            "TMAX               60.5890     10.902      5.558      0.000      38.910      82.268\n",
            "TMIN              -80.0174     19.201     -4.167      0.000    -118.201     -41.833\n",
            "AWND                0.0422      0.030      1.392      0.168      -0.018       0.103\n",
            "Total_yesterday     0.1304      0.061      2.124      0.037       0.008       0.253\n",
            "Mon               755.6183    198.294      3.811      0.000     361.288    1149.949\n",
            "Tue               874.2167    183.586      4.762      0.000     509.137    1239.297\n",
            "Wed               827.6387    189.528      4.367      0.000     450.742    1204.535\n",
            "Thu               704.9392    186.346      3.783      0.000     334.371    1075.508\n",
            "Fri               247.4809    189.907      1.303      0.196    -130.170     625.132\n",
            "Sat             -1472.7885    185.581     -7.936      0.000   -1841.836   -1103.740\n",
            "Sun             -1195.7409    205.063     -5.831      0.000   -1603.531    -787.950\n",
            "holiday         -1871.6127    209.136     -8.949      0.000   -2287.504   -1455.722\n",
            "daylight_hrs      112.4205     91.523      1.228      0.223     -69.584     294.425\n",
            "Temp (C)           -9.7142      6.051     -1.605      0.112     -21.747       2.319\n",
            "dry day           392.6724    113.023      3.474      0.001     167.915     617.430\n",
            "annual            191.8420    922.783      0.208      0.836   -1643.213    2026.897\n",
            "==============================================================================\n",
            "Omnibus:                        2.457   Durbin-Watson:                   1.849\n",
            "Prob(Omnibus):                  0.293   Jarque-Bera (JB):                1.981\n",
            "Skew:                          -0.162   Prob(JB):                        0.371\n",
            "Kurtosis:                       3.609   Cond. No.                     2.22e+21\n",
            "==============================================================================\n",
            "\n",
            "Warnings:\n",
            "[1] Standard Errors assume that the covariance matrix of the errors is correctly specified.\n",
            "[2] The smallest eigenvalue is 2.83e-34. This might indicate that there are\n",
            "strong multicollinearity problems or that the design matrix is singular.\n"
          ],
          "name": "stdout"
        }
      ]
    },
    {
      "metadata": {
        "id": "hRmWw1h82zsc",
        "colab_type": "text"
      },
      "cell_type": "markdown",
      "source": [
        "###Fri, annual, Temp(C -) coefficients varied from negative to positive . \n",
        "###Dropping all these columns didn't improve the MSE."
      ]
    },
    {
      "metadata": {
        "id": "-n-Mv00_N3bI",
        "colab_type": "code",
        "colab": {}
      },
      "cell_type": "code",
      "source": [
        "\n",
        "#dropping Fri(-130 - 625)\n",
        "#dropping annual (-1643 - 2026)\n",
        "#dropping Temp (C) (-21 - 2)\n",
        "\n",
        "X_test = X_test.drop(['Fri','annual','Temp (C)'], axis=1)"
      ],
      "execution_count": 0,
      "outputs": []
    },
    {
      "metadata": {
        "id": "z0Zjhl7_N2Nr",
        "colab_type": "code",
        "colab": {
          "base_uri": "https://localhost:8080/",
          "height": 120
        },
        "outputId": "e8a09e8e-ee89-4ff4-a340-183f909ffb65"
      },
      "cell_type": "code",
      "source": [
        "from statsmodels.stats.outliers_influence import variance_inflation_factor\n",
        "\n",
        "print(X_test.columns, '\\n\\n')\n",
        "\n",
        "vif = [variance_inflation_factor(X_test.values, i) for i in range(X_test.shape[1])]\n",
        "print(vif)"
      ],
      "execution_count": 58,
      "outputs": [
        {
          "output_type": "stream",
          "text": [
            "Index(['PRCP', 'SNOW', 'SNWD', 'TMAX', 'TMIN', 'AWND', 'Total_yesterday'], dtype='object') \n",
            "\n",
            "\n",
            "[1.1413613172136794, nan, nan, 68.20600019117705, 60.03929882257577, 1.0355808136719633, 10.257605185701939]\n"
          ],
          "name": "stdout"
        },
        {
          "output_type": "stream",
          "text": [
            "/usr/local/lib/python3.6/dist-packages/statsmodels/regression/linear_model.py:1388: RuntimeWarning: invalid value encountered in double_scalars\n",
            "  return 1 - self.ssr/self.uncentered_tss\n"
          ],
          "name": "stderr"
        }
      ]
    },
    {
      "metadata": {
        "id": "WIgYDD49RGs4",
        "colab_type": "code",
        "colab": {}
      },
      "cell_type": "code",
      "source": [
        "#drop daylight_hrs\n",
        "#drop TMAX\n",
        "#drop TMIN\n",
        "#drop dry day\n",
        "X_test=X_test.drop(['daylight_hrs','TMAX','TMIN','dry_day'], axis=1)"
      ],
      "execution_count": 0,
      "outputs": []
    },
    {
      "metadata": {
        "id": "i_48bDsJRxya",
        "colab_type": "code",
        "colab": {}
      },
      "cell_type": "code",
      "source": [
        "X_test=X_test.drop('dry day',axis=1)"
      ],
      "execution_count": 0,
      "outputs": []
    },
    {
      "metadata": {
        "id": "FP8gbVIwUBt5",
        "colab_type": "code",
        "colab": {
          "base_uri": "https://localhost:8080/",
          "height": 331
        },
        "outputId": "c899aeef-dc8c-436d-bf62-bb01ab3b2ab7"
      },
      "cell_type": "code",
      "source": [
        "%matplotlib inline\n",
        "import seaborn as sns\n",
        "sns.distplot(y_test);"
      ],
      "execution_count": 46,
      "outputs": [
        {
          "output_type": "stream",
          "text": [
            "/usr/local/lib/python3.6/dist-packages/matplotlib/axes/_axes.py:6521: MatplotlibDeprecationWarning: \n",
            "The 'normed' kwarg was deprecated in Matplotlib 2.1 and will be removed in 3.1. Use 'density' instead.\n",
            "  alternative=\"'density'\", removal=\"3.1\")\n"
          ],
          "name": "stderr"
        },
        {
          "output_type": "display_data",
          "data": {
            "image/png": "[encoded data removed]",
            "text/plain": [
              "<Figure size 432x288 with 1 Axes>"
            ]
          },
          "metadata": {
            "tags": []
          }
        }
      ]
    },
    {
      "metadata": {
        "id": "sI7Va2gVVQAb",
        "colab_type": "code",
        "colab": {
          "base_uri": "https://localhost:8080/",
          "height": 34
        },
        "outputId": "0de255a4-08f6-49ef-b19f-4a4ec7050910"
      },
      "cell_type": "code",
      "source": [
        "# y_test basic mean baselineX_train\n",
        "\n",
        "import numpy as np\n",
        "y_pred = np.full(shape=y_test.shape, fill_value=y_test.mean())\n",
        "mean_absolute_error(y_test, y_pred)"
      ],
      "execution_count": 16,
      "outputs": [
        {
          "output_type": "execute_result",
          "data": {
            "text/plain": [
              "1005.6990000000001"
            ]
          },
          "metadata": {
            "tags": []
          },
          "execution_count": 16
        }
      ]
    },
    {
      "metadata": {
        "id": "fo1rVp_oV_Ei",
        "colab_type": "code",
        "colab": {
          "base_uri": "https://localhost:8080/",
          "height": 34
        },
        "outputId": "cacf6de4-a6cd-4ed6-d065-42dd3b921351"
      },
      "cell_type": "code",
      "source": [
        "mean_absolute_error(y_test, X_test.Total_yesterday)"
      ],
      "execution_count": 15,
      "outputs": [
        {
          "output_type": "execute_result",
          "data": {
            "text/plain": [
              "801.2"
            ]
          },
          "metadata": {
            "tags": []
          },
          "execution_count": 15
        }
      ]
    }
  ]
}