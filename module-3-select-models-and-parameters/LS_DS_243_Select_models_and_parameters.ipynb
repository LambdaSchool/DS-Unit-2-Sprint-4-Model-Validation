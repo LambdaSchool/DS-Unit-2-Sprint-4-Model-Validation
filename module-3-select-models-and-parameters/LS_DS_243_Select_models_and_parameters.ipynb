{
 "cells": [
  {
   "cell_type": "markdown",
   "metadata": {
    "colab_type": "text",
    "id": "O67uhlT4MExK"
   },
   "source": [
    "_Lambda School Data Science — Model Validation_\n",
    "\n",
    "# Select models and parameters\n",
    "\n",
    "Objectives\n",
    "- Hyperparameter optimization\n",
    "- Model selection"
   ]
  },
  {
   "cell_type": "markdown",
   "metadata": {
    "colab_type": "text",
    "id": "VE4rfZd4NUGA"
   },
   "source": [
    "Today we'll use this process:\n",
    "\n",
    "## \"A universal workflow of machine learning\"\n",
    "\n",
    "_Excerpt from Francois Chollet, [Deep Learning with Python](https://github.com/fchollet/deep-learning-with-python-notebooks/blob/master/README.md), Chapter 4: Fundamentals of machine learning_\n",
    " \n",
    "**1. Define the problem at hand and the data on which you’ll train.** Collect this data, or annotate it with labels if need be.\n",
    "\n",
    "**2. Choose how you’ll measure success on your problem.** Which metrics will you monitor on your validation data?\n",
    "\n",
    "**3. Determine your evaluation protocol:** hold-out validation? K-fold validation? Which portion of the data should you use for validation?\n",
    "\n",
    "**4. Develop a first model that does better than a basic baseline:** a model with statistical power.\n",
    "\n",
    "**5. Develop a model that overfits.** The universal tension in machine learning is between optimization and generalization; the ideal model is one that stands right at the border between underfitting and overfitting; between undercapacity and overcapacity. To figure out where this border lies, first you must cross it.\n",
    "\n",
    "**6. Regularize your model and tune its hyperparameters, based on performance on the validation data.** Repeatedly modify your model, train it, evaluate on your validation data (not the test data, at this point), modify it again, and repeat, until the model is as good as it can get. \n",
    "\n",
    "Iterate on feature engineering: add new features, or remove features that don’t seem to be informative. Once you’ve developed a satisfactory model configuration, you can train your final production model on all the available data (training and validation) and evaluate it one last time on the test set.\n"
   ]
  },
  {
   "cell_type": "markdown",
   "metadata": {
    "colab_type": "text",
    "id": "3kt6bzEcOIaa"
   },
   "source": [
    "## 1. Define the problem at hand and the data on which you'll train"
   ]
  },
  {
   "cell_type": "markdown",
   "metadata": {
    "colab_type": "text",
    "id": "di16k7vpRg67"
   },
   "source": [
    "We'll apply the workflow to a [project from _Python Data Science Handbook_](https://jakevdp.github.io/PythonDataScienceHandbook/05.06-linear-regression.html#Example:-Predicting-Bicycle-Traffic) by Jake VanderPlas:\n",
    "\n",
    "> **Predicting Bicycle Traffic**\n",
    "\n",
    "> As an example, let's take a look at whether we can predict the number of bicycle trips across Seattle's Fremont Bridge based on weather, season, and other factors.\n",
    "\n",
    "> We will join the bike data with another dataset, and try to determine the extent to which weather and seasonal factors—temperature, precipitation, and daylight hours—affect the volume of bicycle traffic through this corridor. Fortunately, the NOAA makes available their daily [weather station data](http://www.ncdc.noaa.gov/cdo-web/search?datasetid=GHCND) (I used station ID USW00024233) and we can easily use Pandas to join the two data sources.\n",
    "\n",
    "> Let's start by loading the two datasets, indexing by date:"
   ]
  },
  {
   "cell_type": "markdown",
   "metadata": {
    "colab_type": "text",
    "id": "19dpb_d0R1A6"
   },
   "source": [
    "So this is a regression problem, not a classification problem. We'll define the target, choose an evaluation metric, and choose models that are appropriate for regression problems.\n",
    "\n",
    "\n"
   ]
  },
  {
   "cell_type": "markdown",
   "metadata": {
    "colab_type": "text",
    "id": "os1zruXQ30KM"
   },
   "source": [
    "### Download data"
   ]
  },
  {
   "cell_type": "code",
   "execution_count": 1,
   "metadata": {
    "colab": {},
    "colab_type": "code",
    "id": "5XVu-HSeMDtV"
   },
   "outputs": [
    {
     "name": "stdout",
     "output_type": "stream",
     "text": [
      "  % Total    % Received % Xferd  Average Speed   Time    Time     Time  Current\n",
      "                                 Dload  Upload   Total   Spent    Left  Speed\n",
      "100 1575k    0 1575k    0     0   901k      0 --:--:--  0:00:01 --:--:--  901k\n"
     ]
    }
   ],
   "source": [
    "!curl -o FremontBridge.csv https://data.seattle.gov/api/views/65db-xm6k/rows.csv?accessType=DOWNLOAD"
   ]
  },
  {
   "cell_type": "code",
   "execution_count": 2,
   "metadata": {
    "colab": {},
    "colab_type": "code",
    "id": "sih_7mTzMdfr"
   },
   "outputs": [
    {
     "name": "stdout",
     "output_type": "stream",
     "text": [
      "--2019-03-06 14:51:54--  https://raw.githubusercontent.com/jakevdp/PythonDataScienceHandbook/master/notebooks/data/BicycleWeather.csv\n",
      "Resolving raw.githubusercontent.com (raw.githubusercontent.com)... 151.101.0.133, 151.101.64.133, 151.101.128.133, ...\n",
      "Connecting to raw.githubusercontent.com (raw.githubusercontent.com)|151.101.0.133|:443... connected.\n",
      "HTTP request sent, awaiting response... 200 OK\n",
      "Length: 234945 (229K) [text/plain]\n",
      "Saving to: ‘BicycleWeather.csv.2’\n",
      "\n",
      "BicycleWeather.csv. 100%[===================>] 229.44K  --.-KB/s    in 0.05s   \n",
      "\n",
      "2019-03-06 14:51:54 (4.83 MB/s) - ‘BicycleWeather.csv.2’ saved [234945/234945]\n",
      "\n"
     ]
    }
   ],
   "source": [
    "!wget https://raw.githubusercontent.com/jakevdp/PythonDataScienceHandbook/master/notebooks/data/BicycleWeather.csv"
   ]
  },
  {
   "cell_type": "markdown",
   "metadata": {
    "colab_type": "text",
    "id": "9GYm74kD34OQ"
   },
   "source": [
    "### Load data"
   ]
  },
  {
   "cell_type": "code",
   "execution_count": 3,
   "metadata": {
    "colab": {},
    "colab_type": "code",
    "id": "BfQ7gE28MNdF"
   },
   "outputs": [],
   "source": [
    "# Modified from cells 15, 16, and 20, at\n",
    "# https://jakevdp.github.io/PythonDataScienceHandbook/05.06-linear-regression.html#Example:-Predicting-Bicycle-Traffic\n",
    "\n",
    "import pandas as pd\n",
    "\n",
    "counts = pd.read_csv('FremontBridge.csv', index_col='Date', parse_dates=True, \n",
    "                     infer_datetime_format=True)\n",
    "\n",
    "weather = pd.read_csv('BicycleWeather.csv', index_col='DATE', parse_dates=True, \n",
    "                      infer_datetime_format=False)\n",
    "\n",
    "daily = counts.resample('d').sum()\n",
    "daily['Total'] = daily.sum(axis=1)\n",
    "daily = daily[['Total']] # remove other columns\n",
    "\n",
    "weather_columns = ['PRCP', 'SNOW', 'SNWD', 'TMAX', 'TMIN', 'AWND']\n",
    "daily = daily.join(weather[weather_columns], how='inner')"
   ]
  },
  {
   "cell_type": "code",
   "execution_count": 4,
   "metadata": {
    "colab": {},
    "colab_type": "code",
    "id": "i0YYD6rvypb4"
   },
   "outputs": [],
   "source": [
    "# Make a feature for yesterday's total\n",
    "daily['Total_yesterday'] = daily.Total.shift(1)\n",
    "\n",
    "daily = daily.drop(index=daily.index[0])"
   ]
  },
  {
   "cell_type": "markdown",
   "metadata": {
    "colab_type": "text",
    "id": "VVB3g4704An5"
   },
   "source": [
    "### First fast look at the data\n",
    "- What's the shape?\n",
    "- What's the date range?\n",
    "- What's the target and the features?"
   ]
  },
  {
   "cell_type": "code",
   "execution_count": 5,
   "metadata": {
    "colab": {},
    "colab_type": "code",
    "id": "t50E2fTUWBBU"
   },
   "outputs": [
    {
     "data": {
      "text/html": [
       "<div>\n",
       "<style scoped>\n",
       "    .dataframe tbody tr th:only-of-type {\n",
       "        vertical-align: middle;\n",
       "    }\n",
       "\n",
       "    .dataframe tbody tr th {\n",
       "        vertical-align: top;\n",
       "    }\n",
       "\n",
       "    .dataframe thead th {\n",
       "        text-align: right;\n",
       "    }\n",
       "</style>\n",
       "<table border=\"1\" class=\"dataframe\">\n",
       "  <thead>\n",
       "    <tr style=\"text-align: right;\">\n",
       "      <th></th>\n",
       "      <th>Total</th>\n",
       "      <th>PRCP</th>\n",
       "      <th>SNOW</th>\n",
       "      <th>SNWD</th>\n",
       "      <th>TMAX</th>\n",
       "      <th>TMIN</th>\n",
       "      <th>AWND</th>\n",
       "      <th>Total_yesterday</th>\n",
       "    </tr>\n",
       "  </thead>\n",
       "  <tbody>\n",
       "    <tr>\n",
       "      <th>2012-10-04</th>\n",
       "      <td>3475.0</td>\n",
       "      <td>0</td>\n",
       "      <td>0</td>\n",
       "      <td>0</td>\n",
       "      <td>189</td>\n",
       "      <td>83</td>\n",
       "      <td>65</td>\n",
       "      <td>3521.0</td>\n",
       "    </tr>\n",
       "    <tr>\n",
       "      <th>2012-10-05</th>\n",
       "      <td>3148.0</td>\n",
       "      <td>0</td>\n",
       "      <td>0</td>\n",
       "      <td>0</td>\n",
       "      <td>217</td>\n",
       "      <td>89</td>\n",
       "      <td>57</td>\n",
       "      <td>3475.0</td>\n",
       "    </tr>\n",
       "    <tr>\n",
       "      <th>2012-10-06</th>\n",
       "      <td>2006.0</td>\n",
       "      <td>0</td>\n",
       "      <td>0</td>\n",
       "      <td>0</td>\n",
       "      <td>239</td>\n",
       "      <td>78</td>\n",
       "      <td>51</td>\n",
       "      <td>3148.0</td>\n",
       "    </tr>\n",
       "    <tr>\n",
       "      <th>2012-10-07</th>\n",
       "      <td>2142.0</td>\n",
       "      <td>0</td>\n",
       "      <td>0</td>\n",
       "      <td>0</td>\n",
       "      <td>239</td>\n",
       "      <td>78</td>\n",
       "      <td>13</td>\n",
       "      <td>2006.0</td>\n",
       "    </tr>\n",
       "    <tr>\n",
       "      <th>2012-10-08</th>\n",
       "      <td>3537.0</td>\n",
       "      <td>0</td>\n",
       "      <td>0</td>\n",
       "      <td>0</td>\n",
       "      <td>211</td>\n",
       "      <td>78</td>\n",
       "      <td>19</td>\n",
       "      <td>2142.0</td>\n",
       "    </tr>\n",
       "  </tbody>\n",
       "</table>\n",
       "</div>"
      ],
      "text/plain": [
       "             Total  PRCP  SNOW  SNWD  TMAX  TMIN  AWND  Total_yesterday\n",
       "2012-10-04  3475.0     0     0     0   189    83    65           3521.0\n",
       "2012-10-05  3148.0     0     0     0   217    89    57           3475.0\n",
       "2012-10-06  2006.0     0     0     0   239    78    51           3148.0\n",
       "2012-10-07  2142.0     0     0     0   239    78    13           2006.0\n",
       "2012-10-08  3537.0     0     0     0   211    78    19           2142.0"
      ]
     },
     "execution_count": 5,
     "metadata": {},
     "output_type": "execute_result"
    }
   ],
   "source": [
    "# TODO\n",
    "daily.head()"
   ]
  },
  {
   "cell_type": "markdown",
   "metadata": {
    "colab_type": "text",
    "id": "XgMvCsaWJR7Q"
   },
   "source": [
    "Target\n",
    "- Total : Daily total number of bicycle trips across Seattle's Fremont Bridge\n",
    "\n",
    "Features\n",
    "- Date (index) : from 2012-10-04 to 2015-09-01\n",
    "- Total_yesterday : Total trips yesterday\n",
    "- PRCP : Precipitation (1/10 mm)\n",
    "- SNOW : Snowfall (1/10 mm)\n",
    "- SNWD : Snow depth (1/10 mm)\n",
    "- TMAX : Maximum temperature (1/10 Celsius)\n",
    "- TMIN : Minimum temperature (1/10 Celsius)\n",
    "- AWND : Average daily wind speed (1/10 meters per second)"
   ]
  },
  {
   "cell_type": "markdown",
   "metadata": {
    "colab_type": "text",
    "id": "lenL-przSYCo"
   },
   "source": [
    "## 2. Choose how you’ll measure success on your problem.\n",
    "\n",
    "Which metrics will you monitor on your validation data?\n",
    "\n",
    "This is a regression problem, so we need to choose a regression [metric](https://scikit-learn.org/stable/modules/model_evaluation.html#common-cases-predefined-values).\n",
    "\n",
    "\n",
    "\n",
    "I'll choose mean absolute error.\n",
    "\n"
   ]
  },
  {
   "cell_type": "code",
   "execution_count": 6,
   "metadata": {
    "colab": {},
    "colab_type": "code",
    "id": "1TqbomapSyRP"
   },
   "outputs": [
    {
     "data": {
      "text/plain": [
       "((963, 8), (100, 8))"
      ]
     },
     "execution_count": 6,
     "metadata": {},
     "output_type": "execute_result"
    }
   ],
   "source": [
    "# TODO\n",
    "from sklearn.metrics import mean_absolute_error\n",
    "\n",
    "train = daily[:-100]\n",
    "test  = daily[-100:]\n",
    "train.shape, test.shape\n"
   ]
  },
  {
   "cell_type": "markdown",
   "metadata": {
    "colab_type": "text",
    "id": "IRHrB3rsS5hF"
   },
   "source": [
    "## 3. Determine your evaluation protocol \n",
    "\n",
    "We're doing model selection, hyperparameter optimization, and performance estimation. So generally we have two ideal [options](https://sebastianraschka.com/images/blog/2018/model-evaluation-selection-part4/model-eval-conclusions.jpg) to choose from:\n",
    "\n",
    "- 3-way holdout method (train/validation/test split)\n",
    "- Cross-validation with independent test set\n",
    "\n",
    "I'll choose cross-validation with independent test set. Scikit-learn makes cross-validation convenient for us!\n",
    "\n",
    "Specifically, I will use random shuffled cross validation to train and validate, but I will hold out an \"out-of-time\" test set, from the last 100 days of data:\n",
    "\n",
    "\n",
    "\n"
   ]
  },
  {
   "cell_type": "code",
   "execution_count": 7,
   "metadata": {
    "colab": {},
    "colab_type": "code",
    "id": "A3xo6HgbPMFm"
   },
   "outputs": [
    {
     "data": {
      "text/plain": [
       "((963, 7), (963,), (100, 7), (100,))"
      ]
     },
     "execution_count": 7,
     "metadata": {},
     "output_type": "execute_result"
    }
   ],
   "source": [
    "# TODO\n",
    "X_train = train.drop(columns='Total')\n",
    "y_train = train['Total']\n",
    "\n",
    "X_test = test.drop(columns='Total')\n",
    "y_test = test['Total']\n",
    "\n",
    "X_train.shape, y_train.shape, X_test.shape, y_test.shape\n"
   ]
  },
  {
   "cell_type": "markdown",
   "metadata": {
    "colab_type": "text",
    "id": "vH6IsORQTvTU"
   },
   "source": [
    "## 4. Develop a first model that does better than a basic baseline"
   ]
  },
  {
   "cell_type": "markdown",
   "metadata": {
    "colab_type": "text",
    "id": "DJBs2nQkj7oB"
   },
   "source": [
    "### Look at the target's distribution and descriptive stats"
   ]
  },
  {
   "cell_type": "code",
   "execution_count": 8,
   "metadata": {
    "colab": {},
    "colab_type": "code",
    "id": "P5peakv9Zs71"
   },
   "outputs": [
    {
     "name": "stderr",
     "output_type": "stream",
     "text": [
      "/Users/chrislouie/anaconda3/lib/python3.7/site-packages/scipy/stats/stats.py:1713: FutureWarning: Using a non-tuple sequence for multidimensional indexing is deprecated; use `arr[tuple(seq)]` instead of `arr[seq]`. In the future this will be interpreted as an array index, `arr[np.array(seq)]`, which will result either in an error or a different result.\n",
      "  return np.add.reduce(sorted[indexer] * weights, axis=axis) / sumval\n"
     ]
    },
    {
     "data": {
      "image/png": "[encoded data removed]",
      "text/plain": [
       "<Figure size 432x288 with 1 Axes>"
      ]
     },
     "metadata": {
      "needs_background": "light"
     },
     "output_type": "display_data"
    }
   ],
   "source": [
    "# TODO\n",
    "%matplotlib inline\n",
    "import seaborn as sns\n",
    "sns.distplot(y_train);"
   ]
  },
  {
   "cell_type": "markdown",
   "metadata": {
    "colab_type": "text",
    "id": "fEjxxgV9kExY"
   },
   "source": [
    "### Basic baseline 1"
   ]
  },
  {
   "cell_type": "code",
   "execution_count": 9,
   "metadata": {
    "colab": {},
    "colab_type": "code",
    "id": "6GepKdQjYcEP"
   },
   "outputs": [
    {
     "data": {
      "text/plain": [
       "980.8981106765484"
      ]
     },
     "execution_count": 9,
     "metadata": {},
     "output_type": "execute_result"
    }
   ],
   "source": [
    "# TODO\n",
    "y_pred = [y_train.mean()] * len(y_train)\n",
    "mean_absolute_error(y_train, y_pred)"
   ]
  },
  {
   "cell_type": "markdown",
   "metadata": {
    "colab_type": "text",
    "id": "tN2I_F3FkIHb"
   },
   "source": [
    "### Basic baseline 2"
   ]
  },
  {
   "cell_type": "code",
   "execution_count": 10,
   "metadata": {
    "colab": {},
    "colab_type": "code",
    "id": "ZW8bhZFtTunV"
   },
   "outputs": [
    {
     "data": {
      "text/plain": [
       "708.061266874351"
      ]
     },
     "execution_count": 10,
     "metadata": {},
     "output_type": "execute_result"
    }
   ],
   "source": [
    "# TODO\n",
    "y_pred = X_train['Total_yesterday']\n",
    "mean_absolute_error(y_train, y_pred)"
   ]
  },
  {
   "cell_type": "markdown",
   "metadata": {
    "colab_type": "text",
    "id": "Ggf3VpxwkJ0T"
   },
   "source": [
    "### First model that does better than a basic baseline"
   ]
  },
  {
   "cell_type": "markdown",
   "metadata": {
    "colab_type": "text",
    "id": "KfaqL1Ezer2-"
   },
   "source": [
    "https://scikit-learn.org/stable/modules/generated/sklearn.model_selection.cross_validate.html"
   ]
  },
  {
   "cell_type": "code",
   "execution_count": 11,
   "metadata": {
    "colab": {},
    "colab_type": "code",
    "id": "OeBtU68skfW-"
   },
   "outputs": [],
   "source": [
    "# TODO\n",
    "from sklearn.linear_model import LinearRegression\n",
    "from sklearn.model_selection import cross_validate\n",
    "\n",
    "scores = cross_validate(LinearRegression(), X_train, y_train, \n",
    "                        scoring='neg_mean_absolute_error', cv=3, \n",
    "                        return_train_score=True, return_estimator=True)"
   ]
  },
  {
   "cell_type": "code",
   "execution_count": 12,
   "metadata": {},
   "outputs": [
    {
     "data": {
      "text/html": [
       "<div>\n",
       "<style scoped>\n",
       "    .dataframe tbody tr th:only-of-type {\n",
       "        vertical-align: middle;\n",
       "    }\n",
       "\n",
       "    .dataframe tbody tr th {\n",
       "        vertical-align: top;\n",
       "    }\n",
       "\n",
       "    .dataframe thead th {\n",
       "        text-align: right;\n",
       "    }\n",
       "</style>\n",
       "<table border=\"1\" class=\"dataframe\">\n",
       "  <thead>\n",
       "    <tr style=\"text-align: right;\">\n",
       "      <th></th>\n",
       "      <th>fit_time</th>\n",
       "      <th>score_time</th>\n",
       "      <th>estimator</th>\n",
       "      <th>test_score</th>\n",
       "      <th>train_score</th>\n",
       "    </tr>\n",
       "  </thead>\n",
       "  <tbody>\n",
       "    <tr>\n",
       "      <th>0</th>\n",
       "      <td>0.009626</td>\n",
       "      <td>0.001419</td>\n",
       "      <td>LinearRegression(copy_X=True, fit_intercept=Tr...</td>\n",
       "      <td>-555.186275</td>\n",
       "      <td>-619.509206</td>\n",
       "    </tr>\n",
       "    <tr>\n",
       "      <th>1</th>\n",
       "      <td>0.002163</td>\n",
       "      <td>0.000949</td>\n",
       "      <td>LinearRegression(copy_X=True, fit_intercept=Tr...</td>\n",
       "      <td>-651.126513</td>\n",
       "      <td>-583.427702</td>\n",
       "    </tr>\n",
       "    <tr>\n",
       "      <th>2</th>\n",
       "      <td>0.001844</td>\n",
       "      <td>0.000581</td>\n",
       "      <td>LinearRegression(copy_X=True, fit_intercept=Tr...</td>\n",
       "      <td>-615.965800</td>\n",
       "      <td>-589.341301</td>\n",
       "    </tr>\n",
       "  </tbody>\n",
       "</table>\n",
       "</div>"
      ],
      "text/plain": [
       "   fit_time  score_time                                          estimator  \\\n",
       "0  0.009626    0.001419  LinearRegression(copy_X=True, fit_intercept=Tr...   \n",
       "1  0.002163    0.000949  LinearRegression(copy_X=True, fit_intercept=Tr...   \n",
       "2  0.001844    0.000581  LinearRegression(copy_X=True, fit_intercept=Tr...   \n",
       "\n",
       "   test_score  train_score  \n",
       "0 -555.186275  -619.509206  \n",
       "1 -651.126513  -583.427702  \n",
       "2 -615.965800  -589.341301  "
      ]
     },
     "execution_count": 12,
     "metadata": {},
     "output_type": "execute_result"
    }
   ],
   "source": [
    "pd.DataFrame(scores)"
   ]
  },
  {
   "cell_type": "code",
   "execution_count": 13,
   "metadata": {},
   "outputs": [
    {
     "data": {
      "text/plain": [
       "-607.4261958631805"
      ]
     },
     "execution_count": 13,
     "metadata": {},
     "output_type": "execute_result"
    }
   ],
   "source": [
    "scores['test_score'].mean()"
   ]
  },
  {
   "cell_type": "code",
   "execution_count": 14,
   "metadata": {},
   "outputs": [
    {
     "name": "stdout",
     "output_type": "stream",
     "text": [
      "Model from cross-validation fold# 0\n",
      "Intercept 566.7766337283692\n",
      "PRCP               -3.525103\n",
      "SNOW               -0.082029\n",
      "SNWD              -12.045027\n",
      "TMAX                9.475238\n",
      "TMIN               -4.607775\n",
      "AWND               -2.745191\n",
      "Total_yesterday     0.417360\n",
      "\n",
      "\n",
      "Model from cross-validation fold# 1\n",
      "Intercept 671.9064515706045\n",
      "PRCP               -2.772253\n",
      "SNOW               -0.000995\n",
      "SNWD               20.800688\n",
      "TMAX                8.804948\n",
      "TMIN               -3.741386\n",
      "AWND               -6.108300\n",
      "Total_yesterday     0.405074\n",
      "\n",
      "\n",
      "Model from cross-validation fold# 2\n",
      "Intercept 465.84525362296336\n",
      "PRCP               -2.876196\n",
      "SNOW               -0.016432\n",
      "SNWD               -8.809696\n",
      "TMAX               10.419441\n",
      "TMIN               -5.862868\n",
      "AWND               -2.398991\n",
      "Total_yesterday     0.423493\n",
      "\n",
      "\n"
     ]
    }
   ],
   "source": [
    "for i, model in enumerate(scores['estimator']):\n",
    "    coefficients = model.coef_\n",
    "    intercept = model.intercept_\n",
    "    feature_names = X_train.columns\n",
    "    \n",
    "    print('Model from cross-validation fold#',i)\n",
    "    print('Intercept', intercept)\n",
    "    print(pd.Series(coefficients,feature_names).to_string())\n",
    "    print('\\n')"
   ]
  },
  {
   "cell_type": "code",
   "execution_count": 15,
   "metadata": {},
   "outputs": [
    {
     "name": "stdout",
     "output_type": "stream",
     "text": [
      "                            OLS Regression Results                            \n",
      "==============================================================================\n",
      "Dep. Variable:                  Total   R-squared:                       0.628\n",
      "Model:                            OLS   Adj. R-squared:                  0.625\n",
      "Method:                 Least Squares   F-statistic:                     230.2\n",
      "Date:                Wed, 06 Mar 2019   Prob (F-statistic):          4.80e-200\n",
      "Time:                        14:52:02   Log-Likelihood:                -7736.8\n",
      "No. Observations:                 963   AIC:                         1.549e+04\n",
      "Df Residuals:                     955   BIC:                         1.553e+04\n",
      "Df Model:                           7                                         \n",
      "Covariance Type:            nonrobust                                         \n",
      "===================================================================================\n",
      "                      coef    std err          t      P>|t|      [0.025      0.975]\n",
      "-----------------------------------------------------------------------------------\n",
      "const             571.7691     93.165      6.137      0.000     388.937     754.601\n",
      "PRCP               -3.0616      0.396     -7.726      0.000      -3.839      -2.284\n",
      "SNOW               -0.0271      0.038     -0.721      0.471      -0.101       0.047\n",
      "SNWD               -9.1379      8.974     -1.018      0.309     -26.748       8.472\n",
      "TMAX                9.4823      0.774     12.258      0.000       7.964      11.000\n",
      "TMIN               -4.6742      1.026     -4.555      0.000      -6.688      -2.660\n",
      "AWND               -3.7006      1.747     -2.119      0.034      -7.128      -0.273\n",
      "Total_yesterday     0.4165      0.025     16.460      0.000       0.367       0.466\n",
      "==============================================================================\n",
      "Omnibus:                        6.601   Durbin-Watson:                   1.571\n",
      "Prob(Omnibus):                  0.037   Jarque-Bera (JB):                6.648\n",
      "Skew:                          -0.187   Prob(JB):                       0.0360\n",
      "Kurtosis:                       2.841   Cond. No.                     1.09e+04\n",
      "==============================================================================\n",
      "\n",
      "Warnings:\n",
      "[1] Standard Errors assume that the covariance matrix of the errors is correctly specified.\n",
      "[2] The condition number is large, 1.09e+04. This might indicate that there are\n",
      "strong multicollinearity or other numerical problems.\n"
     ]
    }
   ],
   "source": [
    "import statsmodels.api as sm\n",
    "model = sm.OLS(y_train, sm.add_constant(X_train))\n",
    "print(model.fit().summary())"
   ]
  },
  {
   "cell_type": "markdown",
   "metadata": {
    "colab_type": "text",
    "id": "fg1YI4X8n9nI"
   },
   "source": [
    "## 5. Develop a model that overfits. \n",
    "\n",
    "\"The universal tension in machine learning is between optimization and generalization; the ideal model is one that stands right at the border between underfitting and overfitting; between undercapacity and overcapacity. To figure out where this border lies, first you must cross it.\" —Chollet"
   ]
  },
  {
   "cell_type": "markdown",
   "metadata": {
    "colab_type": "text",
    "id": "lodd6UPOoy89"
   },
   "source": [
    "<img src=\"https://jakevdp.github.io/PythonDataScienceHandbook/figures/05.03-validation-curve.png\">\n",
    "\n",
    "Diagram source: https://jakevdp.github.io/PythonDataScienceHandbook/05.03-hyperparameters-and-model-validation.html#Validation-curves-in-Scikit-Learn"
   ]
  },
  {
   "cell_type": "markdown",
   "metadata": {
    "colab_type": "text",
    "id": "FrmQ3RM0w2JE"
   },
   "source": [
    "### Polynomial Regression?"
   ]
  },
  {
   "cell_type": "code",
   "execution_count": 16,
   "metadata": {
    "colab": {},
    "colab_type": "code",
    "id": "uctwo0X3pTw5"
   },
   "outputs": [],
   "source": [
    "# Copied from cell 10 at\n",
    "# https://jakevdp.github.io/PythonDataScienceHandbook/05.03-hyperparameters-and-model-validation.html#Validation-curves-in-Scikit-Learn\n",
    "\n",
    "from sklearn.preprocessing import PolynomialFeatures\n",
    "from sklearn.linear_model import LinearRegression\n",
    "from sklearn.pipeline import make_pipeline\n",
    "\n",
    "def PolynomialRegression(degree=2, **kwargs):\n",
    "    return make_pipeline(PolynomialFeatures(degree),\n",
    "                         LinearRegression(**kwargs))"
   ]
  },
  {
   "cell_type": "code",
   "execution_count": 17,
   "metadata": {
    "colab": {},
    "colab_type": "code",
    "id": "wvY4HOXVw7Mj"
   },
   "outputs": [
    {
     "name": "stdout",
     "output_type": "stream",
     "text": [
      "0 degree polynomial has 1 features\n",
      "['1']\n",
      "\n",
      "\n",
      "1 degree polynomial has 8 features\n",
      "['1', 'PRCP', 'SNOW', 'SNWD', 'TMAX', 'TMIN', 'AWND', 'Total_yesterday']\n",
      "\n",
      "\n",
      "2 degree polynomial has 36 features\n",
      "['1', 'PRCP', 'SNOW', 'SNWD', 'TMAX', 'TMIN', 'AWND', 'Total_yesterday', 'PRCP^2', 'PRCP SNOW', 'PRCP SNWD', 'PRCP TMAX', 'PRCP TMIN', 'PRCP AWND', 'PRCP Total_yesterday', 'SNOW^2', 'SNOW SNWD', 'SNOW TMAX', 'SNOW TMIN', 'SNOW AWND', 'SNOW Total_yesterday', 'SNWD^2', 'SNWD TMAX', 'SNWD TMIN', 'SNWD AWND', 'SNWD Total_yesterday', 'TMAX^2', 'TMAX TMIN', 'TMAX AWND', 'TMAX Total_yesterday', 'TMIN^2', 'TMIN AWND', 'TMIN Total_yesterday', 'AWND^2', 'AWND Total_yesterday', 'Total_yesterday^2']\n",
      "\n",
      "\n",
      "3 degree polynomial has 120 features\n",
      "['1', 'PRCP', 'SNOW', 'SNWD', 'TMAX', 'TMIN', 'AWND', 'Total_yesterday', 'PRCP^2', 'PRCP SNOW', 'PRCP SNWD', 'PRCP TMAX', 'PRCP TMIN', 'PRCP AWND', 'PRCP Total_yesterday', 'SNOW^2', 'SNOW SNWD', 'SNOW TMAX', 'SNOW TMIN', 'SNOW AWND', 'SNOW Total_yesterday', 'SNWD^2', 'SNWD TMAX', 'SNWD TMIN', 'SNWD AWND', 'SNWD Total_yesterday', 'TMAX^2', 'TMAX TMIN', 'TMAX AWND', 'TMAX Total_yesterday', 'TMIN^2', 'TMIN AWND', 'TMIN Total_yesterday', 'AWND^2', 'AWND Total_yesterday', 'Total_yesterday^2', 'PRCP^3', 'PRCP^2 SNOW', 'PRCP^2 SNWD', 'PRCP^2 TMAX', 'PRCP^2 TMIN', 'PRCP^2 AWND', 'PRCP^2 Total_yesterday', 'PRCP SNOW^2', 'PRCP SNOW SNWD', 'PRCP SNOW TMAX', 'PRCP SNOW TMIN', 'PRCP SNOW AWND', 'PRCP SNOW Total_yesterday', 'PRCP SNWD^2', 'PRCP SNWD TMAX', 'PRCP SNWD TMIN', 'PRCP SNWD AWND', 'PRCP SNWD Total_yesterday', 'PRCP TMAX^2', 'PRCP TMAX TMIN', 'PRCP TMAX AWND', 'PRCP TMAX Total_yesterday', 'PRCP TMIN^2', 'PRCP TMIN AWND', 'PRCP TMIN Total_yesterday', 'PRCP AWND^2', 'PRCP AWND Total_yesterday', 'PRCP Total_yesterday^2', 'SNOW^3', 'SNOW^2 SNWD', 'SNOW^2 TMAX', 'SNOW^2 TMIN', 'SNOW^2 AWND', 'SNOW^2 Total_yesterday', 'SNOW SNWD^2', 'SNOW SNWD TMAX', 'SNOW SNWD TMIN', 'SNOW SNWD AWND', 'SNOW SNWD Total_yesterday', 'SNOW TMAX^2', 'SNOW TMAX TMIN', 'SNOW TMAX AWND', 'SNOW TMAX Total_yesterday', 'SNOW TMIN^2', 'SNOW TMIN AWND', 'SNOW TMIN Total_yesterday', 'SNOW AWND^2', 'SNOW AWND Total_yesterday', 'SNOW Total_yesterday^2', 'SNWD^3', 'SNWD^2 TMAX', 'SNWD^2 TMIN', 'SNWD^2 AWND', 'SNWD^2 Total_yesterday', 'SNWD TMAX^2', 'SNWD TMAX TMIN', 'SNWD TMAX AWND', 'SNWD TMAX Total_yesterday', 'SNWD TMIN^2', 'SNWD TMIN AWND', 'SNWD TMIN Total_yesterday', 'SNWD AWND^2', 'SNWD AWND Total_yesterday', 'SNWD Total_yesterday^2', 'TMAX^3', 'TMAX^2 TMIN', 'TMAX^2 AWND', 'TMAX^2 Total_yesterday', 'TMAX TMIN^2', 'TMAX TMIN AWND', 'TMAX TMIN Total_yesterday', 'TMAX AWND^2', 'TMAX AWND Total_yesterday', 'TMAX Total_yesterday^2', 'TMIN^3', 'TMIN^2 AWND', 'TMIN^2 Total_yesterday', 'TMIN AWND^2', 'TMIN AWND Total_yesterday', 'TMIN Total_yesterday^2', 'AWND^3', 'AWND^2 Total_yesterday', 'AWND Total_yesterday^2', 'Total_yesterday^3']\n",
      "\n",
      "\n"
     ]
    }
   ],
   "source": [
    "for degree in [0, 1, 2, 3]:\n",
    "    features = PolynomialFeatures(degree).fit(X_train).get_feature_names(X_train.columns)\n",
    "    print(f'{degree} degree polynomial has {len(features)} features')\n",
    "    print(features)\n",
    "    print('\\n')"
   ]
  },
  {
   "cell_type": "markdown",
   "metadata": {
    "colab_type": "text",
    "id": "XEUdG9-ktHoa"
   },
   "source": [
    "### Validation curve (with Polynomial Regression)"
   ]
  },
  {
   "cell_type": "markdown",
   "metadata": {
    "colab_type": "text",
    "id": "_ryO1hVKr-6f"
   },
   "source": [
    "https://scikit-learn.org/stable/modules/generated/sklearn.model_selection.validation_curve.html\n",
    "\n",
    "> Validation curve. Determine training and test scores for varying parameter values. This is similar to grid search with one parameter."
   ]
  },
  {
   "cell_type": "code",
   "execution_count": 18,
   "metadata": {
    "colab": {},
    "colab_type": "code",
    "id": "znJgKqPcqBh-"
   },
   "outputs": [
    {
     "data": {
      "image/png": "[encoded data removed]",
      "text/plain": [
       "<Figure size 432x288 with 1 Axes>"
      ]
     },
     "metadata": {
      "needs_background": "light"
     },
     "output_type": "display_data"
    }
   ],
   "source": [
    "# Modified from cell 13 at\n",
    "# https://jakevdp.github.io/PythonDataScienceHandbook/05.03-hyperparameters-and-model-validation.html#Validation-curves-in-Scikit-Learn\n",
    "\n",
    "%matplotlib inline\n",
    "import matplotlib.pyplot as plt\n",
    "import numpy as np\n",
    "from sklearn.model_selection import validation_curve\n",
    "\n",
    "degree = [0, 1, 2]\n",
    "train_score, val_score = validation_curve(\n",
    "    PolynomialRegression(), X_train, y_train,\n",
    "    param_name='polynomialfeatures__degree', param_range=degree, \n",
    "    scoring='neg_mean_absolute_error', cv=3)\n",
    "\n",
    "plt.plot(degree, np.median(train_score, 1), color='blue', label='training score')\n",
    "plt.plot(degree, np.median(val_score, 1), color='red', label='validation score')\n",
    "plt.legend(loc='best')\n",
    "plt.xlabel('degree');"
   ]
  },
  {
   "cell_type": "markdown",
   "metadata": {
    "colab_type": "text",
    "id": "HUdGHWhvtVnV"
   },
   "source": [
    "### Grid Search (with Polynomial Regression)\n",
    "\n",
    "https://scikit-learn.org/stable/modules/generated/sklearn.model_selection.GridSearchCV.html\n",
    "\n",
    "https://scikit-learn.org/stable/modules/grid_search.html"
   ]
  },
  {
   "cell_type": "code",
   "execution_count": 19,
   "metadata": {
    "colab": {},
    "colab_type": "code",
    "id": "GziXyq8Is6dL"
   },
   "outputs": [
    {
     "name": "stdout",
     "output_type": "stream",
     "text": [
      "Fitting 3 folds for each of 4 candidates, totalling 12 fits\n",
      "[CV] polynomialfeatures__degree=0 ....................................\n",
      "[CV]  polynomialfeatures__degree=0, score=-1026.3529857047195, total=   0.0s\n",
      "[CV] polynomialfeatures__degree=0 ....................................\n",
      "[CV]  polynomialfeatures__degree=0, score=-1001.6149251268913, total=   0.0s\n",
      "[CV] polynomialfeatures__degree=0 ....................................\n",
      "[CV]  polynomialfeatures__degree=0, score=-927.0707048650538, total=   0.0s\n",
      "[CV] polynomialfeatures__degree=1 ....................................\n",
      "[CV]  polynomialfeatures__degree=1, score=-555.1862745374102, total=   0.0s\n",
      "[CV] polynomialfeatures__degree=1 ....................................\n",
      "[CV]  polynomialfeatures__degree=1, score=-651.1265132746231, total=   0.0s\n",
      "[CV] polynomialfeatures__degree=1 ....................................\n",
      "[CV]  polynomialfeatures__degree=1, score=-615.9657997775082, total=   0.0s\n",
      "[CV] polynomialfeatures__degree=2 ....................................\n",
      "[CV]  polynomialfeatures__degree=2, score=-7553.673677056523, total=   0.0s\n",
      "[CV] polynomialfeatures__degree=2 ....................................\n",
      "[CV]  polynomialfeatures__degree=2, score=-1439.191569727662, total=   0.0s\n",
      "[CV] polynomialfeatures__degree=2 ....................................\n",
      "[CV]  polynomialfeatures__degree=2, score=-644.1228335713259, total=   0.0s\n",
      "[CV] polynomialfeatures__degree=3 ....................................\n",
      "[CV]  polynomialfeatures__degree=3, score=-2658.143320612677, total=   0.0s\n",
      "[CV] polynomialfeatures__degree=3 ....................................\n",
      "[CV]  polynomialfeatures__degree=3, score=-97989.958723937, total=   0.0s\n",
      "[CV] polynomialfeatures__degree=3 ....................................\n",
      "[CV]  polynomialfeatures__degree=3, score=-1847.899892350632, total=   0.0s\n"
     ]
    },
    {
     "name": "stderr",
     "output_type": "stream",
     "text": [
      "[Parallel(n_jobs=1)]: Using backend SequentialBackend with 1 concurrent workers.\n",
      "[Parallel(n_jobs=1)]: Done   1 out of   1 | elapsed:    0.0s remaining:    0.0s\n",
      "[Parallel(n_jobs=1)]: Done   2 out of   2 | elapsed:    0.0s remaining:    0.0s\n",
      "[Parallel(n_jobs=1)]: Done   3 out of   3 | elapsed:    0.0s remaining:    0.0s\n",
      "[Parallel(n_jobs=1)]: Done   4 out of   4 | elapsed:    0.0s remaining:    0.0s\n",
      "[Parallel(n_jobs=1)]: Done   5 out of   5 | elapsed:    0.0s remaining:    0.0s\n",
      "[Parallel(n_jobs=1)]: Done   6 out of   6 | elapsed:    0.0s remaining:    0.0s\n",
      "[Parallel(n_jobs=1)]: Done   7 out of   7 | elapsed:    0.0s remaining:    0.0s\n",
      "[Parallel(n_jobs=1)]: Done   8 out of   8 | elapsed:    0.1s remaining:    0.0s\n",
      "[Parallel(n_jobs=1)]: Done   9 out of   9 | elapsed:    0.1s remaining:    0.0s\n",
      "[Parallel(n_jobs=1)]: Done  12 out of  12 | elapsed:    0.1s finished\n"
     ]
    },
    {
     "data": {
      "text/plain": [
       "GridSearchCV(cv=3, error_score='raise-deprecating',\n",
       "       estimator=Pipeline(memory=None,\n",
       "     steps=[('polynomialfeatures', PolynomialFeatures(degree=2, include_bias=True, interaction_only=False)), ('linearregression', LinearRegression(copy_X=True, fit_intercept=True, n_jobs=None,\n",
       "         normalize=False))]),\n",
       "       fit_params=None, iid='warn', n_jobs=None,\n",
       "       param_grid={'polynomialfeatures__degree': [0, 1, 2, 3]},\n",
       "       pre_dispatch='2*n_jobs', refit=True, return_train_score=True,\n",
       "       scoring='neg_mean_absolute_error', verbose=10)"
      ]
     },
     "execution_count": 19,
     "metadata": {},
     "output_type": "execute_result"
    }
   ],
   "source": [
    "# TODO\n",
    "from sklearn.model_selection import GridSearchCV\n",
    "\n",
    "param_grid = {\n",
    "    'polynomialfeatures__degree': [0, 1, 2, 3]\n",
    "}\n",
    "\n",
    "gridsearch = GridSearchCV(PolynomialRegression(), param_grid=param_grid, \n",
    "                          scoring='neg_mean_absolute_error', cv=3, \n",
    "                          return_train_score=True, verbose=10)\n",
    "\n",
    "gridsearch.fit(X_train, y_train)"
   ]
  },
  {
   "cell_type": "code",
   "execution_count": 20,
   "metadata": {},
   "outputs": [
    {
     "data": {
      "text/html": [
       "<div>\n",
       "<style scoped>\n",
       "    .dataframe tbody tr th:only-of-type {\n",
       "        vertical-align: middle;\n",
       "    }\n",
       "\n",
       "    .dataframe tbody tr th {\n",
       "        vertical-align: top;\n",
       "    }\n",
       "\n",
       "    .dataframe thead th {\n",
       "        text-align: right;\n",
       "    }\n",
       "</style>\n",
       "<table border=\"1\" class=\"dataframe\">\n",
       "  <thead>\n",
       "    <tr style=\"text-align: right;\">\n",
       "      <th></th>\n",
       "      <th>mean_fit_time</th>\n",
       "      <th>std_fit_time</th>\n",
       "      <th>mean_score_time</th>\n",
       "      <th>std_score_time</th>\n",
       "      <th>param_polynomialfeatures__degree</th>\n",
       "      <th>params</th>\n",
       "      <th>split0_test_score</th>\n",
       "      <th>split1_test_score</th>\n",
       "      <th>split2_test_score</th>\n",
       "      <th>mean_test_score</th>\n",
       "      <th>std_test_score</th>\n",
       "      <th>rank_test_score</th>\n",
       "      <th>split0_train_score</th>\n",
       "      <th>split1_train_score</th>\n",
       "      <th>split2_train_score</th>\n",
       "      <th>mean_train_score</th>\n",
       "      <th>std_train_score</th>\n",
       "    </tr>\n",
       "  </thead>\n",
       "  <tbody>\n",
       "    <tr>\n",
       "      <th>1</th>\n",
       "      <td>0.003551</td>\n",
       "      <td>0.000134</td>\n",
       "      <td>0.000875</td>\n",
       "      <td>0.000143</td>\n",
       "      <td>1</td>\n",
       "      <td>{'polynomialfeatures__degree': 1}</td>\n",
       "      <td>-555.186275</td>\n",
       "      <td>-651.126513</td>\n",
       "      <td>-615.965800</td>\n",
       "      <td>-607.426196</td>\n",
       "      <td>39.630174</td>\n",
       "      <td>1</td>\n",
       "      <td>-619.509206</td>\n",
       "      <td>-583.427702</td>\n",
       "      <td>-589.341301</td>\n",
       "      <td>-597.426070</td>\n",
       "      <td>15.800661</td>\n",
       "    </tr>\n",
       "    <tr>\n",
       "      <th>0</th>\n",
       "      <td>0.002853</td>\n",
       "      <td>0.000643</td>\n",
       "      <td>0.000787</td>\n",
       "      <td>0.000078</td>\n",
       "      <td>0</td>\n",
       "      <td>{'polynomialfeatures__degree': 0}</td>\n",
       "      <td>-1026.352986</td>\n",
       "      <td>-1001.614925</td>\n",
       "      <td>-927.070705</td>\n",
       "      <td>-985.012872</td>\n",
       "      <td>42.197661</td>\n",
       "      <td>2</td>\n",
       "      <td>-968.880368</td>\n",
       "      <td>-970.755413</td>\n",
       "      <td>-999.896701</td>\n",
       "      <td>-979.844161</td>\n",
       "      <td>14.199935</td>\n",
       "    </tr>\n",
       "    <tr>\n",
       "      <th>2</th>\n",
       "      <td>0.004705</td>\n",
       "      <td>0.000550</td>\n",
       "      <td>0.001723</td>\n",
       "      <td>0.000040</td>\n",
       "      <td>2</td>\n",
       "      <td>{'polynomialfeatures__degree': 2}</td>\n",
       "      <td>-7553.673677</td>\n",
       "      <td>-1439.191570</td>\n",
       "      <td>-644.122834</td>\n",
       "      <td>-3212.329360</td>\n",
       "      <td>3086.906373</td>\n",
       "      <td>3</td>\n",
       "      <td>-595.089615</td>\n",
       "      <td>-568.150803</td>\n",
       "      <td>-565.761032</td>\n",
       "      <td>-576.333816</td>\n",
       "      <td>13.298189</td>\n",
       "    </tr>\n",
       "    <tr>\n",
       "      <th>3</th>\n",
       "      <td>0.008098</td>\n",
       "      <td>0.001205</td>\n",
       "      <td>0.002620</td>\n",
       "      <td>0.000372</td>\n",
       "      <td>3</td>\n",
       "      <td>{'polynomialfeatures__degree': 3}</td>\n",
       "      <td>-2658.143321</td>\n",
       "      <td>-97989.958724</td>\n",
       "      <td>-1847.899892</td>\n",
       "      <td>-34165.333979</td>\n",
       "      <td>45132.037154</td>\n",
       "      <td>4</td>\n",
       "      <td>-565.787909</td>\n",
       "      <td>-663.520101</td>\n",
       "      <td>-576.085576</td>\n",
       "      <td>-601.797862</td>\n",
       "      <td>43.846220</td>\n",
       "    </tr>\n",
       "  </tbody>\n",
       "</table>\n",
       "</div>"
      ],
      "text/plain": [
       "   mean_fit_time  std_fit_time  mean_score_time  std_score_time  \\\n",
       "1       0.003551      0.000134         0.000875        0.000143   \n",
       "0       0.002853      0.000643         0.000787        0.000078   \n",
       "2       0.004705      0.000550         0.001723        0.000040   \n",
       "3       0.008098      0.001205         0.002620        0.000372   \n",
       "\n",
       "  param_polynomialfeatures__degree                             params  \\\n",
       "1                                1  {'polynomialfeatures__degree': 1}   \n",
       "0                                0  {'polynomialfeatures__degree': 0}   \n",
       "2                                2  {'polynomialfeatures__degree': 2}   \n",
       "3                                3  {'polynomialfeatures__degree': 3}   \n",
       "\n",
       "   split0_test_score  split1_test_score  split2_test_score  mean_test_score  \\\n",
       "1        -555.186275        -651.126513        -615.965800      -607.426196   \n",
       "0       -1026.352986       -1001.614925        -927.070705      -985.012872   \n",
       "2       -7553.673677       -1439.191570        -644.122834     -3212.329360   \n",
       "3       -2658.143321      -97989.958724       -1847.899892    -34165.333979   \n",
       "\n",
       "   std_test_score  rank_test_score  split0_train_score  split1_train_score  \\\n",
       "1       39.630174                1         -619.509206         -583.427702   \n",
       "0       42.197661                2         -968.880368         -970.755413   \n",
       "2     3086.906373                3         -595.089615         -568.150803   \n",
       "3    45132.037154                4         -565.787909         -663.520101   \n",
       "\n",
       "   split2_train_score  mean_train_score  std_train_score  \n",
       "1         -589.341301       -597.426070        15.800661  \n",
       "0         -999.896701       -979.844161        14.199935  \n",
       "2         -565.761032       -576.333816        13.298189  \n",
       "3         -576.085576       -601.797862        43.846220  "
      ]
     },
     "execution_count": 20,
     "metadata": {},
     "output_type": "execute_result"
    }
   ],
   "source": [
    "pd.DataFrame(gridsearch.cv_results_).sort_values(by='rank_test_score')"
   ]
  },
  {
   "cell_type": "markdown",
   "metadata": {
    "colab_type": "text",
    "id": "xj82P0VdwYlh"
   },
   "source": [
    "### Random Forest?\n",
    "\n",
    "https://scikit-learn.org/stable/modules/generated/sklearn.ensemble.RandomForestRegressor.html"
   ]
  },
  {
   "cell_type": "code",
   "execution_count": 21,
   "metadata": {
    "colab": {},
    "colab_type": "code",
    "id": "_yYXpk99C4cM"
   },
   "outputs": [
    {
     "data": {
      "text/html": [
       "<div>\n",
       "<style scoped>\n",
       "    .dataframe tbody tr th:only-of-type {\n",
       "        vertical-align: middle;\n",
       "    }\n",
       "\n",
       "    .dataframe tbody tr th {\n",
       "        vertical-align: top;\n",
       "    }\n",
       "\n",
       "    .dataframe thead th {\n",
       "        text-align: right;\n",
       "    }\n",
       "</style>\n",
       "<table border=\"1\" class=\"dataframe\">\n",
       "  <thead>\n",
       "    <tr style=\"text-align: right;\">\n",
       "      <th></th>\n",
       "      <th>fit_time</th>\n",
       "      <th>score_time</th>\n",
       "      <th>estimator</th>\n",
       "      <th>test_score</th>\n",
       "      <th>train_score</th>\n",
       "    </tr>\n",
       "  </thead>\n",
       "  <tbody>\n",
       "    <tr>\n",
       "      <th>0</th>\n",
       "      <td>0.188427</td>\n",
       "      <td>0.007548</td>\n",
       "      <td>(DecisionTreeRegressor(criterion='mse', max_de...</td>\n",
       "      <td>-564.338761</td>\n",
       "      <td>-243.511243</td>\n",
       "    </tr>\n",
       "    <tr>\n",
       "      <th>1</th>\n",
       "      <td>0.148781</td>\n",
       "      <td>0.007008</td>\n",
       "      <td>(DecisionTreeRegressor(criterion='mse', max_de...</td>\n",
       "      <td>-633.705532</td>\n",
       "      <td>-224.333138</td>\n",
       "    </tr>\n",
       "    <tr>\n",
       "      <th>2</th>\n",
       "      <td>0.147463</td>\n",
       "      <td>0.007525</td>\n",
       "      <td>(DecisionTreeRegressor(criterion='mse', max_de...</td>\n",
       "      <td>-647.112824</td>\n",
       "      <td>-225.811740</td>\n",
       "    </tr>\n",
       "  </tbody>\n",
       "</table>\n",
       "</div>"
      ],
      "text/plain": [
       "   fit_time  score_time                                          estimator  \\\n",
       "0  0.188427    0.007548  (DecisionTreeRegressor(criterion='mse', max_de...   \n",
       "1  0.148781    0.007008  (DecisionTreeRegressor(criterion='mse', max_de...   \n",
       "2  0.147463    0.007525  (DecisionTreeRegressor(criterion='mse', max_de...   \n",
       "\n",
       "   test_score  train_score  \n",
       "0 -564.338761  -243.511243  \n",
       "1 -633.705532  -224.333138  \n",
       "2 -647.112824  -225.811740  "
      ]
     },
     "execution_count": 21,
     "metadata": {},
     "output_type": "execute_result"
    }
   ],
   "source": [
    "# TODO\n",
    "from sklearn.ensemble import RandomForestRegressor\n",
    "\n",
    "model = RandomForestRegressor(n_estimators=100, max_depth=20)\n",
    "\n",
    "scores = cross_validate(model, X_train, y_train, \n",
    "                        scoring='neg_mean_absolute_error', \n",
    "                        cv=3, return_train_score=True, \n",
    "                        return_estimator=True)\n",
    "\n",
    "pd.DataFrame(scores)"
   ]
  },
  {
   "cell_type": "markdown",
   "metadata": {
    "colab_type": "text",
    "id": "vofwgIpSweEb"
   },
   "source": [
    "### Validation Curve (with Random Forest)"
   ]
  },
  {
   "cell_type": "code",
   "execution_count": 22,
   "metadata": {
    "colab": {},
    "colab_type": "code",
    "id": "apKk4vKiwgtM"
   },
   "outputs": [
    {
     "data": {
      "image/png": "[encoded data removed]",
      "text/plain": [
       "<Figure size 432x288 with 1 Axes>"
      ]
     },
     "metadata": {
      "needs_background": "light"
     },
     "output_type": "display_data"
    }
   ],
   "source": [
    "# Modified from cell 13 at\n",
    "# https://jakevdp.github.io/PythonDataScienceHandbook/05.03-hyperparameters-and-model-validation.html#Validation-curves-in-Scikit-Learn\n",
    "\n",
    "%matplotlib inline\n",
    "import matplotlib.pyplot as plt\n",
    "from sklearn.model_selection import validation_curve\n",
    "\n",
    "model = RandomForestRegressor(n_estimators=100)\n",
    "\n",
    "depth = [2, 3, 4, 5, 6]\n",
    "train_score, val_score = validation_curve(\n",
    "    model, X_train, y_train,\n",
    "    param_name='max_depth', param_range=depth, \n",
    "    scoring='neg_mean_absolute_error', cv=3)\n",
    "\n",
    "plt.plot(depth, np.median(train_score, 1), color='blue', label='training score')\n",
    "plt.plot(depth, np.median(val_score, 1), color='red', label='validation score')\n",
    "plt.legend(loc='best')\n",
    "plt.xlabel('depth');"
   ]
  },
  {
   "cell_type": "markdown",
   "metadata": {
    "colab_type": "text",
    "id": "DQoMvZ7-yCAQ"
   },
   "source": [
    "### Grid Search (with Random Forest)"
   ]
  },
  {
   "cell_type": "code",
   "execution_count": 23,
   "metadata": {
    "colab": {},
    "colab_type": "code",
    "id": "bk_dX_mByKm7"
   },
   "outputs": [
    {
     "name": "stdout",
     "output_type": "stream",
     "text": [
      "Fitting 3 folds for each of 8 candidates, totalling 24 fits\n",
      "[CV] criterion=mse, max_depth=4, n_estimators=100 ....................\n",
      "[CV]  criterion=mse, max_depth=4, n_estimators=100, score=-553.8796936937276, total=   0.1s\n",
      "[CV] criterion=mse, max_depth=4, n_estimators=100 ....................\n",
      "[CV]  criterion=mse, max_depth=4, n_estimators=100, score=-645.3923912078576, total=   0.1s\n",
      "[CV] criterion=mse, max_depth=4, n_estimators=100 ....................\n"
     ]
    },
    {
     "name": "stderr",
     "output_type": "stream",
     "text": [
      "[Parallel(n_jobs=1)]: Using backend SequentialBackend with 1 concurrent workers.\n",
      "[Parallel(n_jobs=1)]: Done   1 out of   1 | elapsed:    0.1s remaining:    0.0s\n",
      "[Parallel(n_jobs=1)]: Done   2 out of   2 | elapsed:    0.2s remaining:    0.0s\n"
     ]
    },
    {
     "name": "stdout",
     "output_type": "stream",
     "text": [
      "[CV]  criterion=mse, max_depth=4, n_estimators=100, score=-620.872858230305, total=   0.1s\n",
      "[CV] criterion=mse, max_depth=4, n_estimators=200 ....................\n",
      "[CV]  criterion=mse, max_depth=4, n_estimators=200, score=-555.0502242162199, total=   0.2s\n",
      "[CV] criterion=mse, max_depth=4, n_estimators=200 ....................\n"
     ]
    },
    {
     "name": "stderr",
     "output_type": "stream",
     "text": [
      "[Parallel(n_jobs=1)]: Done   3 out of   3 | elapsed:    0.3s remaining:    0.0s\n",
      "[Parallel(n_jobs=1)]: Done   4 out of   4 | elapsed:    0.4s remaining:    0.0s\n"
     ]
    },
    {
     "name": "stdout",
     "output_type": "stream",
     "text": [
      "[CV]  criterion=mse, max_depth=4, n_estimators=200, score=-644.483032774993, total=   0.2s\n",
      "[CV] criterion=mse, max_depth=4, n_estimators=200 ....................\n",
      "[CV]  criterion=mse, max_depth=4, n_estimators=200, score=-626.2954329481923, total=   0.2s\n",
      "[CV] criterion=mse, max_depth=5, n_estimators=100 ....................\n"
     ]
    },
    {
     "name": "stderr",
     "output_type": "stream",
     "text": [
      "[Parallel(n_jobs=1)]: Done   5 out of   5 | elapsed:    0.6s remaining:    0.0s\n",
      "[Parallel(n_jobs=1)]: Done   6 out of   6 | elapsed:    0.8s remaining:    0.0s\n"
     ]
    },
    {
     "name": "stdout",
     "output_type": "stream",
     "text": [
      "[CV]  criterion=mse, max_depth=5, n_estimators=100, score=-548.65710094572, total=   0.1s\n",
      "[CV] criterion=mse, max_depth=5, n_estimators=100 ....................\n",
      "[CV]  criterion=mse, max_depth=5, n_estimators=100, score=-636.144272117385, total=   0.1s\n",
      "[CV] criterion=mse, max_depth=5, n_estimators=100 ....................\n",
      "[CV]  criterion=mse, max_depth=5, n_estimators=100, score=-632.1962154660515, total=   0.1s\n",
      "[CV] criterion=mse, max_depth=5, n_estimators=200 ....................\n"
     ]
    },
    {
     "name": "stderr",
     "output_type": "stream",
     "text": [
      "[Parallel(n_jobs=1)]: Done   7 out of   7 | elapsed:    0.9s remaining:    0.0s\n",
      "[Parallel(n_jobs=1)]: Done   8 out of   8 | elapsed:    1.0s remaining:    0.0s\n",
      "[Parallel(n_jobs=1)]: Done   9 out of   9 | elapsed:    1.1s remaining:    0.0s\n"
     ]
    },
    {
     "name": "stdout",
     "output_type": "stream",
     "text": [
      "[CV]  criterion=mse, max_depth=5, n_estimators=200, score=-547.4585047716346, total=   0.2s\n",
      "[CV] criterion=mse, max_depth=5, n_estimators=200 ....................\n",
      "[CV]  criterion=mse, max_depth=5, n_estimators=200, score=-637.1795713790679, total=   0.2s\n",
      "[CV] criterion=mse, max_depth=5, n_estimators=200 ....................\n",
      "[CV]  criterion=mse, max_depth=5, n_estimators=200, score=-629.7418502339738, total=   0.2s\n",
      "[CV] criterion=mae, max_depth=4, n_estimators=100 ....................\n",
      "[CV]  criterion=mae, max_depth=4, n_estimators=100, score=-543.3470560747663, total=   0.6s\n",
      "[CV] criterion=mae, max_depth=4, n_estimators=100 ....................\n",
      "[CV]  criterion=mae, max_depth=4, n_estimators=100, score=-635.7456542056074, total=   0.6s\n",
      "[CV] criterion=mae, max_depth=4, n_estimators=100 ....................\n",
      "[CV]  criterion=mae, max_depth=4, n_estimators=100, score=-613.2347819314641, total=   0.6s\n",
      "[CV] criterion=mae, max_depth=4, n_estimators=200 ....................\n",
      "[CV]  criterion=mae, max_depth=4, n_estimators=200, score=-543.3361292834891, total=   1.3s\n",
      "[CV] criterion=mae, max_depth=4, n_estimators=200 ....................\n",
      "[CV]  criterion=mae, max_depth=4, n_estimators=200, score=-635.9590420560747, total=   1.2s\n",
      "[CV] criterion=mae, max_depth=4, n_estimators=200 ....................\n",
      "[CV]  criterion=mae, max_depth=4, n_estimators=200, score=-615.3924065420562, total=   1.2s\n",
      "[CV] criterion=mae, max_depth=5, n_estimators=100 ....................\n",
      "[CV]  criterion=mae, max_depth=5, n_estimators=100, score=-541.0670249221184, total=   0.7s\n",
      "[CV] criterion=mae, max_depth=5, n_estimators=100 ....................\n",
      "[CV]  criterion=mae, max_depth=5, n_estimators=100, score=-636.5200311526479, total=   0.7s\n",
      "[CV] criterion=mae, max_depth=5, n_estimators=100 ....................\n",
      "[CV]  criterion=mae, max_depth=5, n_estimators=100, score=-613.3065420560747, total=   0.7s\n",
      "[CV] criterion=mae, max_depth=5, n_estimators=200 ....................\n",
      "[CV]  criterion=mae, max_depth=5, n_estimators=200, score=-535.9476479750779, total=   1.4s\n",
      "[CV] criterion=mae, max_depth=5, n_estimators=200 ....................\n",
      "[CV]  criterion=mae, max_depth=5, n_estimators=200, score=-639.728777258567, total=   1.3s\n",
      "[CV] criterion=mae, max_depth=5, n_estimators=200 ....................\n",
      "[CV]  criterion=mae, max_depth=5, n_estimators=200, score=-612.3282866043614, total=   1.4s\n"
     ]
    },
    {
     "name": "stderr",
     "output_type": "stream",
     "text": [
      "[Parallel(n_jobs=1)]: Done  24 out of  24 | elapsed:   13.6s finished\n"
     ]
    },
    {
     "data": {
      "text/plain": [
       "GridSearchCV(cv=3, error_score='raise-deprecating',\n",
       "       estimator=RandomForestRegressor(bootstrap=True, criterion='mse', max_depth=None,\n",
       "           max_features='auto', max_leaf_nodes=None,\n",
       "           min_impurity_decrease=0.0, min_impurity_split=None,\n",
       "           min_samples_leaf=1, min_samples_split=2,\n",
       "           min_weight_fraction_leaf=0.0, n_estimators='warn', n_jobs=None,\n",
       "           oob_score=False, random_state=None, verbose=0, warm_start=False),\n",
       "       fit_params=None, iid='warn', n_jobs=None,\n",
       "       param_grid={'n_estimators': [100, 200], 'max_depth': [4, 5], 'criterion': ['mse', 'mae']},\n",
       "       pre_dispatch='2*n_jobs', refit=True, return_train_score=True,\n",
       "       scoring='neg_mean_absolute_error', verbose=10)"
      ]
     },
     "execution_count": 23,
     "metadata": {},
     "output_type": "execute_result"
    }
   ],
   "source": [
    "# TODO\n",
    "\n",
    "param_grid = {\n",
    "    'n_estimators': [100, 200], \n",
    "    'max_depth': [4, 5], \n",
    "    'criterion': ['mse', 'mae']\n",
    "}\n",
    "\n",
    "gridsearch = GridSearchCV(RandomForestRegressor(), param_grid=param_grid, cv=3, \n",
    "                          scoring='neg_mean_absolute_error', verbose=10, \n",
    "                          return_train_score=True)\n",
    "\n",
    "gridsearch.fit(X_train, y_train)"
   ]
  },
  {
   "cell_type": "code",
   "execution_count": 24,
   "metadata": {},
   "outputs": [
    {
     "name": "stdout",
     "output_type": "stream",
     "text": [
      "Best result from grid search of 8 parameter combinations\n"
     ]
    },
    {
     "data": {
      "text/html": [
       "<div>\n",
       "<style scoped>\n",
       "    .dataframe tbody tr th:only-of-type {\n",
       "        vertical-align: middle;\n",
       "    }\n",
       "\n",
       "    .dataframe tbody tr th {\n",
       "        vertical-align: top;\n",
       "    }\n",
       "\n",
       "    .dataframe thead th {\n",
       "        text-align: right;\n",
       "    }\n",
       "</style>\n",
       "<table border=\"1\" class=\"dataframe\">\n",
       "  <thead>\n",
       "    <tr style=\"text-align: right;\">\n",
       "      <th></th>\n",
       "      <th>mean_fit_time</th>\n",
       "      <th>std_fit_time</th>\n",
       "      <th>mean_score_time</th>\n",
       "      <th>std_score_time</th>\n",
       "      <th>param_criterion</th>\n",
       "      <th>param_max_depth</th>\n",
       "      <th>param_n_estimators</th>\n",
       "      <th>params</th>\n",
       "      <th>split0_test_score</th>\n",
       "      <th>split1_test_score</th>\n",
       "      <th>split2_test_score</th>\n",
       "      <th>mean_test_score</th>\n",
       "      <th>std_test_score</th>\n",
       "      <th>rank_test_score</th>\n",
       "      <th>split0_train_score</th>\n",
       "      <th>split1_train_score</th>\n",
       "      <th>split2_train_score</th>\n",
       "      <th>mean_train_score</th>\n",
       "      <th>std_train_score</th>\n",
       "    </tr>\n",
       "  </thead>\n",
       "  <tbody>\n",
       "    <tr>\n",
       "      <th>7</th>\n",
       "      <td>1.367513</td>\n",
       "      <td>0.033432</td>\n",
       "      <td>0.008855</td>\n",
       "      <td>0.000583</td>\n",
       "      <td>mae</td>\n",
       "      <td>5</td>\n",
       "      <td>200</td>\n",
       "      <td>{'criterion': 'mae', 'max_depth': 5, 'n_estima...</td>\n",
       "      <td>-535.947648</td>\n",
       "      <td>-639.728777</td>\n",
       "      <td>-612.328287</td>\n",
       "      <td>-596.001571</td>\n",
       "      <td>43.913187</td>\n",
       "      <td>1</td>\n",
       "      <td>-515.219342</td>\n",
       "      <td>-477.196748</td>\n",
       "      <td>-485.398337</td>\n",
       "      <td>-492.604809</td>\n",
       "      <td>16.337673</td>\n",
       "    </tr>\n",
       "  </tbody>\n",
       "</table>\n",
       "</div>"
      ],
      "text/plain": [
       "   mean_fit_time  std_fit_time  mean_score_time  std_score_time  \\\n",
       "7       1.367513      0.033432         0.008855        0.000583   \n",
       "\n",
       "  param_criterion param_max_depth param_n_estimators  \\\n",
       "7             mae               5                200   \n",
       "\n",
       "                                              params  split0_test_score  \\\n",
       "7  {'criterion': 'mae', 'max_depth': 5, 'n_estima...        -535.947648   \n",
       "\n",
       "   split1_test_score  split2_test_score  mean_test_score  std_test_score  \\\n",
       "7        -639.728777        -612.328287      -596.001571       43.913187   \n",
       "\n",
       "   rank_test_score  split0_train_score  split1_train_score  \\\n",
       "7                1         -515.219342         -477.196748   \n",
       "\n",
       "   split2_train_score  mean_train_score  std_train_score  \n",
       "7         -485.398337       -492.604809        16.337673  "
      ]
     },
     "execution_count": 24,
     "metadata": {},
     "output_type": "execute_result"
    }
   ],
   "source": [
    "results = pd.DataFrame(gridsearch.cv_results_)\n",
    "print(f'Best result from grid search of {len(results)} parameter combinations')\n",
    "results.sort_values(by='rank_test_score').head(1)"
   ]
  },
  {
   "cell_type": "code",
   "execution_count": 25,
   "metadata": {},
   "outputs": [
    {
     "data": {
      "text/plain": [
       "RandomForestRegressor(bootstrap=True, criterion='mae', max_depth=5,\n",
       "           max_features='auto', max_leaf_nodes=None,\n",
       "           min_impurity_decrease=0.0, min_impurity_split=None,\n",
       "           min_samples_leaf=1, min_samples_split=2,\n",
       "           min_weight_fraction_leaf=0.0, n_estimators=200, n_jobs=None,\n",
       "           oob_score=False, random_state=None, verbose=0, warm_start=False)"
      ]
     },
     "execution_count": 25,
     "metadata": {},
     "output_type": "execute_result"
    }
   ],
   "source": [
    "gridsearch.best_estimator_"
   ]
  },
  {
   "cell_type": "markdown",
   "metadata": {
    "colab_type": "text",
    "id": "ZW5HfYtU0GW2"
   },
   "source": [
    "## FEATURE ENGINEERING!"
   ]
  },
  {
   "cell_type": "markdown",
   "metadata": {
    "colab_type": "text",
    "id": "0ms-eoOHFvPG"
   },
   "source": [
    "Jake VanderPlas demonstrates this feature engineering: \n",
    "https://jakevdp.github.io/PythonDataScienceHandbook/05.06-linear-regression.html#Example:-Predicting-Bicycle-Traffic"
   ]
  },
  {
   "cell_type": "code",
   "execution_count": 26,
   "metadata": {
    "colab": {},
    "colab_type": "code",
    "id": "sEwME8wR3A5g"
   },
   "outputs": [],
   "source": [
    "# Modified from code cells 17-21 at\n",
    "# https://jakevdp.github.io/PythonDataScienceHandbook/05.06-linear-regression.html#Example:-Predicting-Bicycle-Traffic\n",
    "\n",
    "def jake_wrangle(X):  \n",
    "    X = X.copy()\n",
    "\n",
    "    # patterns of use generally vary from day to day; \n",
    "    # let's add binary columns that indicate the day of the week:\n",
    "    days = ['Mon', 'Tue', 'Wed', 'Thu', 'Fri', 'Sat', 'Sun']\n",
    "    for i, day in enumerate(days):\n",
    "        X[day] = (X.index.dayofweek == i).astype(float)\n",
    "\n",
    "\n",
    "    # we might expect riders to behave differently on holidays; \n",
    "    # let's add an indicator of this as well:\n",
    "    from pandas.tseries.holiday import USFederalHolidayCalendar\n",
    "    cal = USFederalHolidayCalendar()\n",
    "    holidays = cal.holidays('2012', '2016')\n",
    "    X = X.join(pd.Series(1, index=holidays, name='holiday'))\n",
    "    X['holiday'].fillna(0, inplace=True)\n",
    "\n",
    "\n",
    "    # We also might suspect that the hours of daylight would affect \n",
    "    # how many people ride; let's use the standard astronomical calculation \n",
    "    # to add this information:\n",
    "    def hours_of_daylight(date, axis=23.44, latitude=47.61):\n",
    "        \"\"\"Compute the hours of daylight for the given date\"\"\"\n",
    "        days = (date - pd.datetime(2000, 12, 21)).days\n",
    "        m = (1. - np.tan(np.radians(latitude))\n",
    "             * np.tan(np.radians(axis) * np.cos(days * 2 * np.pi / 365.25)))\n",
    "        return 24. * np.degrees(np.arccos(1 - np.clip(m, 0, 2))) / 180.\n",
    "\n",
    "    X['daylight_hrs'] = list(map(hours_of_daylight, X.index))\n",
    "\n",
    "    \n",
    "    # temperatures are in 1/10 deg C; convert to C\n",
    "    X['TMIN'] /= 10\n",
    "    X['TMAX'] /= 10\n",
    "    \n",
    "    # We can also calcuate the average temperature.\n",
    "    X['Temp (C)'] = 0.5 * (X['TMIN'] + X['TMAX'])\n",
    "\n",
    "    # precip is in 1/10 mm; convert to inches\n",
    "    X['PRCP'] /= 254\n",
    "\n",
    "    # In addition to the inches of precipitation, let's add a flag that \n",
    "    # indicates whether a day is dry (has zero precipitation):\n",
    "    X['dry day'] = (X['PRCP'] == 0).astype(int)\n",
    "\n",
    "\n",
    "    # Let's add a counter that increases from day 1, and measures how many \n",
    "    # years have passed. This will let us measure any observed annual increase \n",
    "    # or decrease in daily crossings:\n",
    "    X['annual'] = (X.index - X.index[0]).days / 365.\n",
    "\n",
    "    return X\n",
    "\n",
    "X_train = jake_wrangle(X_train)"
   ]
  },
  {
   "cell_type": "markdown",
   "metadata": {
    "colab_type": "text",
    "id": "dDGkAv813Wtj"
   },
   "source": [
    "### Linear Regression (with new features)"
   ]
  },
  {
   "cell_type": "code",
   "execution_count": 27,
   "metadata": {
    "colab": {},
    "colab_type": "code",
    "id": "cj3HTM6p5F1A"
   },
   "outputs": [
    {
     "data": {
      "text/html": [
       "<div>\n",
       "<style scoped>\n",
       "    .dataframe tbody tr th:only-of-type {\n",
       "        vertical-align: middle;\n",
       "    }\n",
       "\n",
       "    .dataframe tbody tr th {\n",
       "        vertical-align: top;\n",
       "    }\n",
       "\n",
       "    .dataframe thead th {\n",
       "        text-align: right;\n",
       "    }\n",
       "</style>\n",
       "<table border=\"1\" class=\"dataframe\">\n",
       "  <thead>\n",
       "    <tr style=\"text-align: right;\">\n",
       "      <th></th>\n",
       "      <th>fit_time</th>\n",
       "      <th>score_time</th>\n",
       "      <th>estimator</th>\n",
       "      <th>test_score</th>\n",
       "      <th>train_score</th>\n",
       "    </tr>\n",
       "  </thead>\n",
       "  <tbody>\n",
       "    <tr>\n",
       "      <th>0</th>\n",
       "      <td>0.003656</td>\n",
       "      <td>0.000955</td>\n",
       "      <td>LinearRegression(copy_X=True, fit_intercept=Tr...</td>\n",
       "      <td>-297.692524</td>\n",
       "      <td>-294.532315</td>\n",
       "    </tr>\n",
       "    <tr>\n",
       "      <th>1</th>\n",
       "      <td>0.002746</td>\n",
       "      <td>0.001043</td>\n",
       "      <td>LinearRegression(copy_X=True, fit_intercept=Tr...</td>\n",
       "      <td>-300.419037</td>\n",
       "      <td>-283.779461</td>\n",
       "    </tr>\n",
       "    <tr>\n",
       "      <th>2</th>\n",
       "      <td>0.003770</td>\n",
       "      <td>0.001178</td>\n",
       "      <td>LinearRegression(copy_X=True, fit_intercept=Tr...</td>\n",
       "      <td>-322.640378</td>\n",
       "      <td>-283.509114</td>\n",
       "    </tr>\n",
       "  </tbody>\n",
       "</table>\n",
       "</div>"
      ],
      "text/plain": [
       "   fit_time  score_time                                          estimator  \\\n",
       "0  0.003656    0.000955  LinearRegression(copy_X=True, fit_intercept=Tr...   \n",
       "1  0.002746    0.001043  LinearRegression(copy_X=True, fit_intercept=Tr...   \n",
       "2  0.003770    0.001178  LinearRegression(copy_X=True, fit_intercept=Tr...   \n",
       "\n",
       "   test_score  train_score  \n",
       "0 -297.692524  -294.532315  \n",
       "1 -300.419037  -283.779461  \n",
       "2 -322.640378  -283.509114  "
      ]
     },
     "execution_count": 27,
     "metadata": {},
     "output_type": "execute_result"
    }
   ],
   "source": [
    "# TODO\n",
    "scores = cross_validate(LinearRegression(), X_train, y_train, \n",
    "                        scoring='neg_mean_absolute_error', cv=3, \n",
    "                        return_train_score=True, return_estimator=True)\n",
    "\n",
    "pd.DataFrame(scores)"
   ]
  },
  {
   "cell_type": "code",
   "execution_count": 28,
   "metadata": {},
   "outputs": [
    {
     "data": {
      "text/plain": [
       "306.9173130794427"
      ]
     },
     "execution_count": 28,
     "metadata": {},
     "output_type": "execute_result"
    }
   ],
   "source": [
    "-scores['test_score'].mean()"
   ]
  },
  {
   "cell_type": "markdown",
   "metadata": {
    "colab_type": "text",
    "id": "b6zxN2xB3bX_"
   },
   "source": [
    "### Random Forest (with new features)"
   ]
  },
  {
   "cell_type": "code",
   "execution_count": 29,
   "metadata": {
    "colab": {},
    "colab_type": "code",
    "id": "3sWUDZIz1-kk"
   },
   "outputs": [
    {
     "name": "stdout",
     "output_type": "stream",
     "text": [
      "Fitting 3 folds for each of 3 candidates, totalling 9 fits\n",
      "[CV] criterion=mae, max_depth=5, n_estimators=100 ....................\n"
     ]
    },
    {
     "name": "stderr",
     "output_type": "stream",
     "text": [
      "[Parallel(n_jobs=1)]: Using backend SequentialBackend with 1 concurrent workers.\n"
     ]
    },
    {
     "name": "stdout",
     "output_type": "stream",
     "text": [
      "[CV]  criterion=mae, max_depth=5, n_estimators=100, score=-356.31585669781924, total=   1.6s\n",
      "[CV] criterion=mae, max_depth=5, n_estimators=100 ....................\n"
     ]
    },
    {
     "name": "stderr",
     "output_type": "stream",
     "text": [
      "[Parallel(n_jobs=1)]: Done   1 out of   1 | elapsed:    1.7s remaining:    0.0s\n"
     ]
    },
    {
     "name": "stdout",
     "output_type": "stream",
     "text": [
      "[CV]  criterion=mae, max_depth=5, n_estimators=100, score=-382.82236760124607, total=   1.5s\n",
      "[CV] criterion=mae, max_depth=5, n_estimators=100 ....................\n"
     ]
    },
    {
     "name": "stderr",
     "output_type": "stream",
     "text": [
      "[Parallel(n_jobs=1)]: Done   2 out of   2 | elapsed:    3.2s remaining:    0.0s\n"
     ]
    },
    {
     "name": "stdout",
     "output_type": "stream",
     "text": [
      "[CV]  criterion=mae, max_depth=5, n_estimators=100, score=-340.1379439252336, total=   1.5s\n",
      "[CV] criterion=mae, max_depth=10, n_estimators=100 ...................\n"
     ]
    },
    {
     "name": "stderr",
     "output_type": "stream",
     "text": [
      "[Parallel(n_jobs=1)]: Done   3 out of   3 | elapsed:    4.7s remaining:    0.0s\n"
     ]
    },
    {
     "name": "stdout",
     "output_type": "stream",
     "text": [
      "[CV]  criterion=mae, max_depth=10, n_estimators=100, score=-353.0322429906542, total=   2.1s\n",
      "[CV] criterion=mae, max_depth=10, n_estimators=100 ...................\n"
     ]
    },
    {
     "name": "stderr",
     "output_type": "stream",
     "text": [
      "[Parallel(n_jobs=1)]: Done   4 out of   4 | elapsed:    6.9s remaining:    0.0s\n"
     ]
    },
    {
     "name": "stdout",
     "output_type": "stream",
     "text": [
      "[CV]  criterion=mae, max_depth=10, n_estimators=100, score=-323.6623676012461, total=   2.0s\n",
      "[CV] criterion=mae, max_depth=10, n_estimators=100 ...................\n"
     ]
    },
    {
     "name": "stderr",
     "output_type": "stream",
     "text": [
      "[Parallel(n_jobs=1)]: Done   5 out of   5 | elapsed:    8.9s remaining:    0.0s\n"
     ]
    },
    {
     "name": "stdout",
     "output_type": "stream",
     "text": [
      "[CV]  criterion=mae, max_depth=10, n_estimators=100, score=-299.04836448598127, total=   2.1s\n",
      "[CV] criterion=mae, max_depth=15, n_estimators=100 ...................\n"
     ]
    },
    {
     "name": "stderr",
     "output_type": "stream",
     "text": [
      "[Parallel(n_jobs=1)]: Done   6 out of   6 | elapsed:   11.0s remaining:    0.0s\n"
     ]
    },
    {
     "name": "stdout",
     "output_type": "stream",
     "text": [
      "[CV]  criterion=mae, max_depth=15, n_estimators=100, score=-362.2422274143302, total=   2.3s\n",
      "[CV] criterion=mae, max_depth=15, n_estimators=100 ...................\n"
     ]
    },
    {
     "name": "stderr",
     "output_type": "stream",
     "text": [
      "[Parallel(n_jobs=1)]: Done   7 out of   7 | elapsed:   13.3s remaining:    0.0s\n"
     ]
    },
    {
     "name": "stdout",
     "output_type": "stream",
     "text": [
      "[CV]  criterion=mae, max_depth=15, n_estimators=100, score=-320.48760124610595, total=   2.2s\n",
      "[CV] criterion=mae, max_depth=15, n_estimators=100 ...................\n"
     ]
    },
    {
     "name": "stderr",
     "output_type": "stream",
     "text": [
      "[Parallel(n_jobs=1)]: Done   8 out of   8 | elapsed:   15.5s remaining:    0.0s\n"
     ]
    },
    {
     "name": "stdout",
     "output_type": "stream",
     "text": [
      "[CV]  criterion=mae, max_depth=15, n_estimators=100, score=-299.52928348909654, total=   2.3s\n"
     ]
    },
    {
     "name": "stderr",
     "output_type": "stream",
     "text": [
      "[Parallel(n_jobs=1)]: Done   9 out of   9 | elapsed:   17.7s remaining:    0.0s\n",
      "[Parallel(n_jobs=1)]: Done   9 out of   9 | elapsed:   17.7s finished\n"
     ]
    },
    {
     "data": {
      "text/plain": [
       "GridSearchCV(cv=3, error_score='raise-deprecating',\n",
       "       estimator=RandomForestRegressor(bootstrap=True, criterion='mse', max_depth=None,\n",
       "           max_features='auto', max_leaf_nodes=None,\n",
       "           min_impurity_decrease=0.0, min_impurity_split=None,\n",
       "           min_samples_leaf=1, min_samples_split=2,\n",
       "           min_weight_fraction_leaf=0.0, n_estimators='warn', n_jobs=None,\n",
       "           oob_score=False, random_state=None, verbose=0, warm_start=False),\n",
       "       fit_params=None, iid='warn', n_jobs=None,\n",
       "       param_grid={'n_estimators': [100], 'max_depth': [5, 10, 15], 'criterion': ['mae']},\n",
       "       pre_dispatch='2*n_jobs', refit=True, return_train_score=True,\n",
       "       scoring='neg_mean_absolute_error', verbose=10)"
      ]
     },
     "execution_count": 29,
     "metadata": {},
     "output_type": "execute_result"
    }
   ],
   "source": [
    "# TODO\n",
    "\n",
    "param_grid = {\n",
    "    'n_estimators': [100], \n",
    "    'max_depth': [5, 10, 15], \n",
    "    'criterion': ['mae']\n",
    "}\n",
    "\n",
    "gridsearch = GridSearchCV(RandomForestRegressor(), param_grid=param_grid, \n",
    "                          cv=3, scoring='neg_mean_absolute_error', \n",
    "                          return_train_score=True, verbose=10)\n",
    "\n",
    "gridsearch.fit(X_train, y_train)"
   ]
  },
  {
   "cell_type": "code",
   "execution_count": 30,
   "metadata": {},
   "outputs": [
    {
     "data": {
      "text/html": [
       "<div>\n",
       "<style scoped>\n",
       "    .dataframe tbody tr th:only-of-type {\n",
       "        vertical-align: middle;\n",
       "    }\n",
       "\n",
       "    .dataframe tbody tr th {\n",
       "        vertical-align: top;\n",
       "    }\n",
       "\n",
       "    .dataframe thead th {\n",
       "        text-align: right;\n",
       "    }\n",
       "</style>\n",
       "<table border=\"1\" class=\"dataframe\">\n",
       "  <thead>\n",
       "    <tr style=\"text-align: right;\">\n",
       "      <th></th>\n",
       "      <th>mean_fit_time</th>\n",
       "      <th>std_fit_time</th>\n",
       "      <th>mean_score_time</th>\n",
       "      <th>std_score_time</th>\n",
       "      <th>param_criterion</th>\n",
       "      <th>param_max_depth</th>\n",
       "      <th>param_n_estimators</th>\n",
       "      <th>params</th>\n",
       "      <th>split0_test_score</th>\n",
       "      <th>split1_test_score</th>\n",
       "      <th>split2_test_score</th>\n",
       "      <th>mean_test_score</th>\n",
       "      <th>std_test_score</th>\n",
       "      <th>rank_test_score</th>\n",
       "      <th>split0_train_score</th>\n",
       "      <th>split1_train_score</th>\n",
       "      <th>split2_train_score</th>\n",
       "      <th>mean_train_score</th>\n",
       "      <th>std_train_score</th>\n",
       "    </tr>\n",
       "  </thead>\n",
       "  <tbody>\n",
       "    <tr>\n",
       "      <th>1</th>\n",
       "      <td>2.075191</td>\n",
       "      <td>0.048040</td>\n",
       "      <td>0.006245</td>\n",
       "      <td>0.000153</td>\n",
       "      <td>mae</td>\n",
       "      <td>10</td>\n",
       "      <td>100</td>\n",
       "      <td>{'criterion': 'mae', 'max_depth': 10, 'n_estim...</td>\n",
       "      <td>-353.032243</td>\n",
       "      <td>-323.662368</td>\n",
       "      <td>-299.048364</td>\n",
       "      <td>-325.247658</td>\n",
       "      <td>22.067316</td>\n",
       "      <td>1</td>\n",
       "      <td>-141.218559</td>\n",
       "      <td>-126.707928</td>\n",
       "      <td>-144.878668</td>\n",
       "      <td>-137.601719</td>\n",
       "      <td>7.846660</td>\n",
       "    </tr>\n",
       "    <tr>\n",
       "      <th>2</th>\n",
       "      <td>2.232715</td>\n",
       "      <td>0.050910</td>\n",
       "      <td>0.006988</td>\n",
       "      <td>0.000447</td>\n",
       "      <td>mae</td>\n",
       "      <td>15</td>\n",
       "      <td>100</td>\n",
       "      <td>{'criterion': 'mae', 'max_depth': 15, 'n_estim...</td>\n",
       "      <td>-362.242227</td>\n",
       "      <td>-320.487601</td>\n",
       "      <td>-299.529283</td>\n",
       "      <td>-327.419704</td>\n",
       "      <td>26.067462</td>\n",
       "      <td>2</td>\n",
       "      <td>-109.800592</td>\n",
       "      <td>-103.959424</td>\n",
       "      <td>-113.964813</td>\n",
       "      <td>-109.241610</td>\n",
       "      <td>4.103763</td>\n",
       "    </tr>\n",
       "    <tr>\n",
       "      <th>0</th>\n",
       "      <td>1.564176</td>\n",
       "      <td>0.057867</td>\n",
       "      <td>0.005234</td>\n",
       "      <td>0.000564</td>\n",
       "      <td>mae</td>\n",
       "      <td>5</td>\n",
       "      <td>100</td>\n",
       "      <td>{'criterion': 'mae', 'max_depth': 5, 'n_estima...</td>\n",
       "      <td>-356.315857</td>\n",
       "      <td>-382.822368</td>\n",
       "      <td>-340.137944</td>\n",
       "      <td>-359.758723</td>\n",
       "      <td>17.595075</td>\n",
       "      <td>3</td>\n",
       "      <td>-301.425693</td>\n",
       "      <td>-263.399540</td>\n",
       "      <td>-296.490109</td>\n",
       "      <td>-287.105114</td>\n",
       "      <td>16.883042</td>\n",
       "    </tr>\n",
       "  </tbody>\n",
       "</table>\n",
       "</div>"
      ],
      "text/plain": [
       "   mean_fit_time  std_fit_time  mean_score_time  std_score_time  \\\n",
       "1       2.075191      0.048040         0.006245        0.000153   \n",
       "2       2.232715      0.050910         0.006988        0.000447   \n",
       "0       1.564176      0.057867         0.005234        0.000564   \n",
       "\n",
       "  param_criterion param_max_depth param_n_estimators  \\\n",
       "1             mae              10                100   \n",
       "2             mae              15                100   \n",
       "0             mae               5                100   \n",
       "\n",
       "                                              params  split0_test_score  \\\n",
       "1  {'criterion': 'mae', 'max_depth': 10, 'n_estim...        -353.032243   \n",
       "2  {'criterion': 'mae', 'max_depth': 15, 'n_estim...        -362.242227   \n",
       "0  {'criterion': 'mae', 'max_depth': 5, 'n_estima...        -356.315857   \n",
       "\n",
       "   split1_test_score  split2_test_score  mean_test_score  std_test_score  \\\n",
       "1        -323.662368        -299.048364      -325.247658       22.067316   \n",
       "2        -320.487601        -299.529283      -327.419704       26.067462   \n",
       "0        -382.822368        -340.137944      -359.758723       17.595075   \n",
       "\n",
       "   rank_test_score  split0_train_score  split1_train_score  \\\n",
       "1                1         -141.218559         -126.707928   \n",
       "2                2         -109.800592         -103.959424   \n",
       "0                3         -301.425693         -263.399540   \n",
       "\n",
       "   split2_train_score  mean_train_score  std_train_score  \n",
       "1         -144.878668       -137.601719         7.846660  \n",
       "2         -113.964813       -109.241610         4.103763  \n",
       "0         -296.490109       -287.105114        16.883042  "
      ]
     },
     "execution_count": 30,
     "metadata": {},
     "output_type": "execute_result"
    }
   ],
   "source": [
    "pd.DataFrame(gridsearch.cv_results_).sort_values(by='rank_test_score')"
   ]
  },
  {
   "cell_type": "code",
   "execution_count": 31,
   "metadata": {},
   "outputs": [
    {
     "data": {
      "text/plain": [
       "RandomForestRegressor(bootstrap=True, criterion='mae', max_depth=10,\n",
       "           max_features='auto', max_leaf_nodes=None,\n",
       "           min_impurity_decrease=0.0, min_impurity_split=None,\n",
       "           min_samples_leaf=1, min_samples_split=2,\n",
       "           min_weight_fraction_leaf=0.0, n_estimators=100, n_jobs=None,\n",
       "           oob_score=False, random_state=None, verbose=0, warm_start=False)"
      ]
     },
     "execution_count": 31,
     "metadata": {},
     "output_type": "execute_result"
    }
   ],
   "source": [
    "gridsearch.best_estimator_"
   ]
  },
  {
   "cell_type": "markdown",
   "metadata": {
    "colab_type": "text",
    "id": "0QEBUVR13kcb"
   },
   "source": [
    "### Ridge Regression (with new features)\n",
    "\n",
    "https://scikit-learn.org/stable/modules/generated/sklearn.linear_model.Ridge.html"
   ]
  },
  {
   "cell_type": "code",
   "execution_count": 32,
   "metadata": {
    "colab": {},
    "colab_type": "code",
    "id": "4voLbIxU8r6r"
   },
   "outputs": [],
   "source": [
    "# TODO\n",
    "from sklearn.linear_model import Ridge\n",
    "\n",
    "param_grid = {\n",
    "    'alpha': [0.1, 1.0, 10.0]\n",
    "}\n",
    "\n",
    "# gridsearch = GridSearchCV(Ridge() ...)"
   ]
  },
  {
   "cell_type": "markdown",
   "metadata": {
    "colab_type": "text",
    "id": "dofdwyTf3pm0"
   },
   "source": [
    "### Compare to statsmodels"
   ]
  },
  {
   "cell_type": "code",
   "execution_count": 33,
   "metadata": {
    "colab": {},
    "colab_type": "code",
    "id": "i-Qt4mDk_yBY"
   },
   "outputs": [
    {
     "name": "stdout",
     "output_type": "stream",
     "text": [
      "                            OLS Regression Results                            \n",
      "==============================================================================\n",
      "Dep. Variable:                  Total   R-squared:                       0.902\n",
      "Model:                            OLS   Adj. R-squared:                  0.901\n",
      "Method:                 Least Squares   F-statistic:                     513.8\n",
      "Date:                Wed, 06 Mar 2019   Prob (F-statistic):               0.00\n",
      "Time:                        14:52:43   Log-Likelihood:                -7092.6\n",
      "No. Observations:                 963   AIC:                         1.422e+04\n",
      "Df Residuals:                     945   BIC:                         1.431e+04\n",
      "Df Model:                          17                                         \n",
      "Covariance Type:            nonrobust                                         \n",
      "===================================================================================\n",
      "                      coef    std err          t      P>|t|      [0.025      0.975]\n",
      "-----------------------------------------------------------------------------------\n",
      "const              33.0481     66.293      0.499      0.618     -97.051     163.147\n",
      "PRCP             -562.6226     56.568     -9.946      0.000    -673.636    -451.609\n",
      "SNOW               -0.0025      0.020     -0.129      0.897      -0.041       0.036\n",
      "SNWD               -1.8308      4.642     -0.394      0.693     -10.941       7.279\n",
      "TMAX               63.6645      4.785     13.306      0.000      54.275      73.054\n",
      "TMIN              -37.1413      5.413     -6.862      0.000     -47.763     -26.519\n",
      "AWND               -1.8502      0.910     -2.033      0.042      -3.637      -0.064\n",
      "Total_yesterday     0.2934      0.022     13.630      0.000       0.251       0.336\n",
      "Mon               790.2012     41.051     19.249      0.000     709.640     870.763\n",
      "Tue               441.4649     32.982     13.385      0.000     376.739     506.191\n",
      "Wed               376.8835     33.935     11.106      0.000     310.287     443.480\n",
      "Thu               282.8744     33.665      8.403      0.000     216.808     348.941\n",
      "Fri                52.4558     32.802      1.599      0.110     -11.918     116.829\n",
      "Sat             -1103.8595     32.242    -34.237      0.000   -1167.133   -1040.586\n",
      "Sun              -806.9722     40.114    -20.117      0.000    -885.695    -728.250\n",
      "holiday          -983.4044     78.191    -12.577      0.000   -1136.853    -829.955\n",
      "daylight_hrs       70.3750      8.400      8.378      0.000      53.890      86.860\n",
      "Temp (C)           13.2616      1.252     10.591      0.000      10.804      15.719\n",
      "dry day           301.0276     33.915      8.876      0.000     234.471     367.584\n",
      "annual             44.6618     16.620      2.687      0.007      12.045      77.279\n",
      "==============================================================================\n",
      "Omnibus:                       35.650   Durbin-Watson:                   1.665\n",
      "Prob(Omnibus):                  0.000   Jarque-Bera (JB):               78.276\n",
      "Skew:                           0.188   Prob(JB):                     1.01e-17\n",
      "Kurtosis:                       4.345   Cond. No.                     3.11e+19\n",
      "==============================================================================\n",
      "\n",
      "Warnings:\n",
      "[1] Standard Errors assume that the covariance matrix of the errors is correctly specified.\n",
      "[2] The smallest eigenvalue is 7.9e-30. This might indicate that there are\n",
      "strong multicollinearity problems or that the design matrix is singular.\n"
     ]
    }
   ],
   "source": [
    "# TODO\n",
    "\n",
    "model = sm.OLS(y_train, sm.add_constant(X_train))\n",
    "print(model.fit().summary())"
   ]
  },
  {
   "cell_type": "code",
   "execution_count": 34,
   "metadata": {},
   "outputs": [
    {
     "name": "stdout",
     "output_type": "stream",
     "text": [
      "--2019-03-06 14:52:43--  https://raw.githubusercontent.com/LambdaSchool/DS-Unit-2-Sprint-4-Model-Validation/master/module-1-begin-modeling-process/bank-marketing/train_features.csv\n",
      "Resolving raw.githubusercontent.com (raw.githubusercontent.com)... 151.101.0.133, 151.101.64.133, 151.101.128.133, ...\n",
      "Connecting to raw.githubusercontent.com (raw.githubusercontent.com)|151.101.0.133|:443... connected.\n",
      "HTTP request sent, awaiting response... 200 OK\n",
      "Length: 3833210 (3.7M) [text/plain]\n",
      "Saving to: ‘train_features.csv.1’\n",
      "\n",
      "train_features.csv. 100%[===================>]   3.66M  5.41MB/s    in 0.7s    \n",
      "\n",
      "2019-03-06 14:52:44 (5.41 MB/s) - ‘train_features.csv.1’ saved [3833210/3833210]\n",
      "\n",
      "--2019-03-06 14:52:44--  https://raw.githubusercontent.com/LambdaSchool/DS-Unit-2-Sprint-4-Model-Validation/master/module-1-begin-modeling-process/bank-marketing/train_labels.csv\n",
      "Resolving raw.githubusercontent.com (raw.githubusercontent.com)... 151.101.0.133, 151.101.64.133, 151.101.128.133, ...\n",
      "Connecting to raw.githubusercontent.com (raw.githubusercontent.com)|151.101.0.133|:443... connected.\n",
      "HTTP request sent, awaiting response... 200 OK\n",
      "Length: 247133 (241K) [text/plain]\n",
      "Saving to: ‘train_labels.csv.1’\n",
      "\n",
      "train_labels.csv.1  100%[===================>] 241.34K  --.-KB/s    in 0.06s   \n",
      "\n",
      "2019-03-06 14:52:44 (3.65 MB/s) - ‘train_labels.csv.1’ saved [247133/247133]\n",
      "\n",
      "--2019-03-06 14:52:44--  https://raw.githubusercontent.com/LambdaSchool/DS-Unit-2-Sprint-4-Model-Validation/master/module-1-begin-modeling-process/bank-marketing/test_features.csv\n",
      "Resolving raw.githubusercontent.com (raw.githubusercontent.com)... 151.101.0.133, 151.101.64.133, 151.101.128.133, ...\n",
      "Connecting to raw.githubusercontent.com (raw.githubusercontent.com)|151.101.0.133|:443... connected.\n",
      "HTTP request sent, awaiting response... 200 OK\n",
      "Length: 1277012 (1.2M) [text/plain]\n",
      "Saving to: ‘test_features.csv.1’\n",
      "\n",
      "test_features.csv.1 100%[===================>]   1.22M  6.33MB/s    in 0.2s    \n",
      "\n",
      "2019-03-06 14:52:45 (6.33 MB/s) - ‘test_features.csv.1’ saved [1277012/1277012]\n",
      "\n",
      "--2019-03-06 14:52:45--  https://raw.githubusercontent.com/LambdaSchool/DS-Unit-2-Sprint-4-Model-Validation/master/module-1-begin-modeling-process/bank-marketing/sample_submission.csv\n",
      "Resolving raw.githubusercontent.com (raw.githubusercontent.com)... 151.101.0.133, 151.101.64.133, 151.101.128.133, ...\n",
      "Connecting to raw.githubusercontent.com (raw.githubusercontent.com)|151.101.0.133|:443... connected.\n",
      "HTTP request sent, awaiting response... 200 OK\n",
      "Length: 102975 (101K) [text/plain]\n",
      "Saving to: ‘sample_submission.csv.1’\n",
      "\n",
      "sample_submission.c 100%[===================>] 100.56K  --.-KB/s    in 0.04s   \n",
      "\n",
      "2019-03-06 14:52:45 (2.52 MB/s) - ‘sample_submission.csv.1’ saved [102975/102975]\n",
      "\n"
     ]
    }
   ],
   "source": [
    "!wget https://raw.githubusercontent.com/LambdaSchool/DS-Unit-2-Sprint-4-Model-Validation/master/module-1-begin-modeling-process/bank-marketing/train_features.csv\n",
    "!wget https://raw.githubusercontent.com/LambdaSchool/DS-Unit-2-Sprint-4-Model-Validation/master/module-1-begin-modeling-process/bank-marketing/train_labels.csv\n",
    "!wget https://raw.githubusercontent.com/LambdaSchool/DS-Unit-2-Sprint-4-Model-Validation/master/module-1-begin-modeling-process/bank-marketing/test_features.csv\n",
    "!wget https://raw.githubusercontent.com/LambdaSchool/DS-Unit-2-Sprint-4-Model-Validation/master/module-1-begin-modeling-process/bank-marketing/sample_submission.csv"
   ]
  },
  {
   "cell_type": "code",
   "execution_count": 35,
   "metadata": {},
   "outputs": [
    {
     "data": {
      "text/plain": [
       "((30891, 19), (30891,), (10297, 19), (10297, 2))"
      ]
     },
     "execution_count": 35,
     "metadata": {},
     "output_type": "execute_result"
    }
   ],
   "source": [
    "%matplotlib inline\n",
    "import warnings\n",
    "import category_encoders as ce\n",
    "import matplotlib.pyplot as plt\n",
    "import pandas as pd\n",
    "from sklearn.linear_model import LogisticRegression\n",
    "from sklearn.model_selection import cross_val_score\n",
    "from sklearn.pipeline import make_pipeline\n",
    "from sklearn.exceptions import DataConversionWarning\n",
    "from sklearn.preprocessing import StandardScaler\n",
    "warnings.filterwarnings(action='ignore', category=DataConversionWarning)\n",
    "\n",
    "X_train = pd.read_csv('train_features.csv').drop(columns='id')\n",
    "y_train = pd.read_csv('train_labels.csv')['y']\n",
    "X_test = pd.read_csv('test_features.csv').drop(columns='id')\n",
    "sample_submission = pd.read_csv('sample_submission.csv')\n",
    "\n",
    "X_train.shape, y_train.shape, X_test.shape, sample_submission.shape"
   ]
  },
  {
   "cell_type": "code",
   "execution_count": 36,
   "metadata": {},
   "outputs": [],
   "source": [
    "pipeline = make_pipeline(\n",
    "    ce.OneHotEncoder(use_cat_names=True),\n",
    "    StandardScaler(),\n",
    "    LogisticRegression(solver='lbfgs',max_iter=1000,class_weight='balanced')\n",
    ")"
   ]
  },
  {
   "cell_type": "code",
   "execution_count": 37,
   "metadata": {},
   "outputs": [],
   "source": [
    "from sklearn.metrics import classification_report, confusion_matrix\n",
    "from sklearn.model_selection import cross_val_predict\n",
    "\n",
    "y_pred_proba = cross_val_predict(pipeline, X_train, y_train, cv=3, n_jobs=-1, \n",
    "                                 method='predict_proba')[:, 1]"
   ]
  },
  {
   "cell_type": "code",
   "execution_count": 38,
   "metadata": {},
   "outputs": [
    {
     "name": "stdout",
     "output_type": "stream",
     "text": [
      "              precision    recall  f1-score   support\n",
      "\n",
      "           0       0.95      0.85      0.90     27411\n",
      "           1       0.35      0.62      0.45      3480\n",
      "\n",
      "   micro avg       0.83      0.83      0.83     30891\n",
      "   macro avg       0.65      0.74      0.67     30891\n",
      "weighted avg       0.88      0.83      0.85     30891\n",
      "\n"
     ]
    },
    {
     "data": {
      "text/html": [
       "<div>\n",
       "<style scoped>\n",
       "    .dataframe tbody tr th:only-of-type {\n",
       "        vertical-align: middle;\n",
       "    }\n",
       "\n",
       "    .dataframe tbody tr th {\n",
       "        vertical-align: top;\n",
       "    }\n",
       "\n",
       "    .dataframe thead th {\n",
       "        text-align: right;\n",
       "    }\n",
       "</style>\n",
       "<table border=\"1\" class=\"dataframe\">\n",
       "  <thead>\n",
       "    <tr style=\"text-align: right;\">\n",
       "      <th></th>\n",
       "      <th>Predicted Negative</th>\n",
       "      <th>Predicted Positive</th>\n",
       "    </tr>\n",
       "  </thead>\n",
       "  <tbody>\n",
       "    <tr>\n",
       "      <th>Actual Negative</th>\n",
       "      <td>23420</td>\n",
       "      <td>3991</td>\n",
       "    </tr>\n",
       "    <tr>\n",
       "      <th>Actual Positive</th>\n",
       "      <td>1320</td>\n",
       "      <td>2160</td>\n",
       "    </tr>\n",
       "  </tbody>\n",
       "</table>\n",
       "</div>"
      ],
      "text/plain": [
       "                 Predicted Negative  Predicted Positive\n",
       "Actual Negative               23420                3991\n",
       "Actual Positive                1320                2160"
      ]
     },
     "execution_count": 38,
     "metadata": {},
     "output_type": "execute_result"
    }
   ],
   "source": [
    "threshold = 0.5\n",
    "y_pred = y_pred_proba >= threshold\n",
    "\n",
    "print(classification_report(y_train, y_pred))\n",
    "\n",
    "pd.DataFrame(confusion_matrix(y_train, y_pred), \n",
    "             columns=['Predicted Negative', 'Predicted Positive'], \n",
    "             index=['Actual Negative', 'Actual Positive'])"
   ]
  },
  {
   "cell_type": "code",
   "execution_count": 39,
   "metadata": {},
   "outputs": [
    {
     "name": "stdout",
     "output_type": "stream",
     "text": [
      "Precision: 0.40670306910186405 Recall: 0.6206896551724138 F1: 0.49141167102718697\n"
     ]
    }
   ],
   "source": [
    "true_negative  = 23420\n",
    "false_positive = 3991\n",
    "false_negative = 1320\n",
    "true_positive  = 2160\n",
    "\n",
    "accuracy = ((true_negative + true_positive) / \n",
    "            (true_negative + false_positive + false_negative + true_positive))\n",
    "\n",
    "actual_negative = true_negative + false_positive\n",
    "actual_positive = false_negative + true_positive\n",
    "\n",
    "predicted_negative = true_negative + true_positive\n",
    "predicted_positive = false_negative + false_positive\n",
    "\n",
    "precision = true_positive / predicted_positive\n",
    "recall = true_positive / actual_positive\n",
    "f1 = 2 * precision*recall / (precision+recall)\n",
    "print('Precision:', precision, 'Recall:', recall, 'F1:', f1)"
   ]
  },
  {
   "cell_type": "code",
   "execution_count": 105,
   "metadata": {},
   "outputs": [],
   "source": [
    "train_features = pd.read_csv('train_features.csv').drop(columns='id')\n",
    "test_features = pd.read_csv('test_features.csv').drop(columns='id')\n",
    "y_train = pd.read_csv('train_labels.csv')['y']\n",
    "sample_submission = pd.read_csv('sample_submission.csv')"
   ]
  },
  {
   "cell_type": "code",
   "execution_count": 106,
   "metadata": {},
   "outputs": [
    {
     "data": {
      "text/html": [
       "<div>\n",
       "<style scoped>\n",
       "    .dataframe tbody tr th:only-of-type {\n",
       "        vertical-align: middle;\n",
       "    }\n",
       "\n",
       "    .dataframe tbody tr th {\n",
       "        vertical-align: top;\n",
       "    }\n",
       "\n",
       "    .dataframe thead th {\n",
       "        text-align: right;\n",
       "    }\n",
       "</style>\n",
       "<table border=\"1\" class=\"dataframe\">\n",
       "  <thead>\n",
       "    <tr style=\"text-align: right;\">\n",
       "      <th></th>\n",
       "      <th>age</th>\n",
       "      <th>job</th>\n",
       "      <th>marital</th>\n",
       "      <th>education</th>\n",
       "      <th>default</th>\n",
       "      <th>housing</th>\n",
       "      <th>loan</th>\n",
       "      <th>contact</th>\n",
       "      <th>month</th>\n",
       "      <th>day_of_week</th>\n",
       "      <th>campaign</th>\n",
       "      <th>pdays</th>\n",
       "      <th>previous</th>\n",
       "      <th>poutcome</th>\n",
       "      <th>emp.var.rate</th>\n",
       "      <th>cons.price.idx</th>\n",
       "      <th>cons.conf.idx</th>\n",
       "      <th>euribor3m</th>\n",
       "      <th>nr.employed</th>\n",
       "    </tr>\n",
       "  </thead>\n",
       "  <tbody>\n",
       "    <tr>\n",
       "      <th>0</th>\n",
       "      <td>29</td>\n",
       "      <td>services</td>\n",
       "      <td>single</td>\n",
       "      <td>high.school</td>\n",
       "      <td>no</td>\n",
       "      <td>yes</td>\n",
       "      <td>yes</td>\n",
       "      <td>cellular</td>\n",
       "      <td>may</td>\n",
       "      <td>thu</td>\n",
       "      <td>10</td>\n",
       "      <td>999</td>\n",
       "      <td>0</td>\n",
       "      <td>nonexistent</td>\n",
       "      <td>-1.8</td>\n",
       "      <td>92.893</td>\n",
       "      <td>-46.2</td>\n",
       "      <td>1.266</td>\n",
       "      <td>5099.1</td>\n",
       "    </tr>\n",
       "    <tr>\n",
       "      <th>1</th>\n",
       "      <td>54</td>\n",
       "      <td>management</td>\n",
       "      <td>married</td>\n",
       "      <td>university.degree</td>\n",
       "      <td>no</td>\n",
       "      <td>no</td>\n",
       "      <td>no</td>\n",
       "      <td>cellular</td>\n",
       "      <td>nov</td>\n",
       "      <td>tue</td>\n",
       "      <td>1</td>\n",
       "      <td>999</td>\n",
       "      <td>1</td>\n",
       "      <td>failure</td>\n",
       "      <td>-0.1</td>\n",
       "      <td>93.200</td>\n",
       "      <td>-42.0</td>\n",
       "      <td>4.153</td>\n",
       "      <td>5195.8</td>\n",
       "    </tr>\n",
       "    <tr>\n",
       "      <th>2</th>\n",
       "      <td>55</td>\n",
       "      <td>self-employed</td>\n",
       "      <td>married</td>\n",
       "      <td>unknown</td>\n",
       "      <td>unknown</td>\n",
       "      <td>no</td>\n",
       "      <td>no</td>\n",
       "      <td>cellular</td>\n",
       "      <td>jul</td>\n",
       "      <td>mon</td>\n",
       "      <td>3</td>\n",
       "      <td>999</td>\n",
       "      <td>0</td>\n",
       "      <td>nonexistent</td>\n",
       "      <td>1.4</td>\n",
       "      <td>93.918</td>\n",
       "      <td>-42.7</td>\n",
       "      <td>4.962</td>\n",
       "      <td>5228.1</td>\n",
       "    </tr>\n",
       "    <tr>\n",
       "      <th>3</th>\n",
       "      <td>43</td>\n",
       "      <td>blue-collar</td>\n",
       "      <td>married</td>\n",
       "      <td>unknown</td>\n",
       "      <td>unknown</td>\n",
       "      <td>no</td>\n",
       "      <td>no</td>\n",
       "      <td>cellular</td>\n",
       "      <td>may</td>\n",
       "      <td>mon</td>\n",
       "      <td>6</td>\n",
       "      <td>999</td>\n",
       "      <td>0</td>\n",
       "      <td>nonexistent</td>\n",
       "      <td>-1.8</td>\n",
       "      <td>92.893</td>\n",
       "      <td>-46.2</td>\n",
       "      <td>1.244</td>\n",
       "      <td>5099.1</td>\n",
       "    </tr>\n",
       "    <tr>\n",
       "      <th>4</th>\n",
       "      <td>54</td>\n",
       "      <td>blue-collar</td>\n",
       "      <td>married</td>\n",
       "      <td>basic.4y</td>\n",
       "      <td>no</td>\n",
       "      <td>yes</td>\n",
       "      <td>no</td>\n",
       "      <td>telephone</td>\n",
       "      <td>may</td>\n",
       "      <td>wed</td>\n",
       "      <td>5</td>\n",
       "      <td>999</td>\n",
       "      <td>0</td>\n",
       "      <td>nonexistent</td>\n",
       "      <td>1.1</td>\n",
       "      <td>93.994</td>\n",
       "      <td>-36.4</td>\n",
       "      <td>4.856</td>\n",
       "      <td>5191.0</td>\n",
       "    </tr>\n",
       "  </tbody>\n",
       "</table>\n",
       "</div>"
      ],
      "text/plain": [
       "   age            job  marital          education  default housing loan  \\\n",
       "0   29       services   single        high.school       no     yes  yes   \n",
       "1   54     management  married  university.degree       no      no   no   \n",
       "2   55  self-employed  married            unknown  unknown      no   no   \n",
       "3   43    blue-collar  married            unknown  unknown      no   no   \n",
       "4   54    blue-collar  married           basic.4y       no     yes   no   \n",
       "\n",
       "     contact month day_of_week  campaign  pdays  previous     poutcome  \\\n",
       "0   cellular   may         thu        10    999         0  nonexistent   \n",
       "1   cellular   nov         tue         1    999         1      failure   \n",
       "2   cellular   jul         mon         3    999         0  nonexistent   \n",
       "3   cellular   may         mon         6    999         0  nonexistent   \n",
       "4  telephone   may         wed         5    999         0  nonexistent   \n",
       "\n",
       "   emp.var.rate  cons.price.idx  cons.conf.idx  euribor3m  nr.employed  \n",
       "0          -1.8          92.893          -46.2      1.266       5099.1  \n",
       "1          -0.1          93.200          -42.0      4.153       5195.8  \n",
       "2           1.4          93.918          -42.7      4.962       5228.1  \n",
       "3          -1.8          92.893          -46.2      1.244       5099.1  \n",
       "4           1.1          93.994          -36.4      4.856       5191.0  "
      ]
     },
     "execution_count": 106,
     "metadata": {},
     "output_type": "execute_result"
    }
   ],
   "source": [
    "train_features.head()"
   ]
  },
  {
   "cell_type": "code",
   "execution_count": 107,
   "metadata": {},
   "outputs": [
    {
     "name": "stdout",
     "output_type": "stream",
     "text": [
      "Index(['age', 'campaign', 'pdays', 'previous', 'emp.var.rate',\n",
      "       'cons.price.idx', 'cons.conf.idx', 'euribor3m', 'nr.employed'],\n",
      "      dtype='object')\n",
      "[1.0180143929184464, 1.0331454608367934, 1.630987920721132, 1.8116280448816775, 33.143383657897864, 6.3579671852812405, 2.650108554330848, 64.72591256034646, 31.726059799279078]\n"
     ]
    }
   ],
   "source": [
    "from statsmodels.stats.outliers_influence import variance_inflation_factor\n",
    "\n",
    "Xy = train_features.select_dtypes(include=['float64','int'])\n",
    "X = StandardScaler().fit_transform(Xy)\n",
    "X = pd.DataFrame(X, columns=Xy.columns)\n",
    "\n",
    "print(Xy.columns)\n",
    "\n",
    "vif = [variance_inflation_factor(X.values, i) for i in range(X.shape[1])]\n",
    "print(vif)"
   ]
  },
  {
   "cell_type": "code",
   "execution_count": 108,
   "metadata": {},
   "outputs": [],
   "source": [
    "train_features.drop(columns=['emp.var.rate','euribor3m','nr.employed'],inplace=True)\n",
    "test_features.drop(columns=['emp.var.rate','euribor3m','nr.employed'],inplace=True)"
   ]
  },
  {
   "cell_type": "code",
   "execution_count": 109,
   "metadata": {},
   "outputs": [],
   "source": [
    "train_features['job'].replace(['services','housemaid'],'all_services',inplace=True)\n",
    "test_features['job'].replace(['services','housemaid'],'all_services',inplace=True)\n",
    "train_features['job'].replace(['unemployed','retired'],'no_employment',inplace=True)\n",
    "test_features['job'].replace(['unemployed','retired'],'no_employment',inplace=True)\n",
    "train_features['job'].replace(['management','blue-collar','admin'],'corporate',inplace=True)\n",
    "test_features['job'].replace(['management','blue-collar','admin'],'corporate',inplace=True)\n",
    "train_features['job'].replace(['self-emplyed','entrepeneur'],'self-employed',inplace=True)\n",
    "test_features['job'].replace(['self-emplyed','entrepeneur'],'self-employed',inplace=True)\n",
    "train_features['marital'].replace(['single','divorced'],'single',inplace=True)\n",
    "test_features['marital'].replace(['single','divorced'],'single',inplace=True)\n",
    "train_features['ln_campaign'] = np.log(train_features['campaign'])\n",
    "test_features['ln_campaign'] = np.log(test_features['campaign'])\n",
    "\n",
    "\n",
    "train_features.drop(columns=['campaign'],inplace=True)\n",
    "test_features.drop(columns=['campaign'],inplace=True)\n"
   ]
  },
  {
   "cell_type": "code",
   "execution_count": 121,
   "metadata": {},
   "outputs": [
    {
     "name": "stderr",
     "output_type": "stream",
     "text": [
      "[Parallel(n_jobs=-1)]: Using backend LokyBackend with 8 concurrent workers.\n",
      "[Parallel(n_jobs=-1)]: Done   2 tasks      | elapsed:   14.8s\n",
      "[Parallel(n_jobs=-1)]: Done   9 tasks      | elapsed:   29.6s\n",
      "[Parallel(n_jobs=-1)]: Done  16 tasks      | elapsed:   30.1s\n",
      "[Parallel(n_jobs=-1)]: Done  25 tasks      | elapsed:  1.0min\n",
      "[Parallel(n_jobs=-1)]: Done  34 tasks      | elapsed:  1.2min\n",
      "[Parallel(n_jobs=-1)]: Done  41 out of  50 | elapsed:  1.5min remaining:   19.5s\n",
      "[Parallel(n_jobs=-1)]: Done  47 out of  50 | elapsed:  1.5min remaining:    5.7s\n",
      "[Parallel(n_jobs=-1)]: Done  50 out of  50 | elapsed:  1.6min finished\n"
     ]
    },
    {
     "data": {
      "text/plain": [
       "array([0.80613471, 0.78379976, 0.73533534, 0.71986925, 0.85859958,\n",
       "       0.74563919, 0.72450046, 0.81434765, 0.78122872, 0.8198915 ,\n",
       "       0.83190099, 0.713906  , 0.7665816 , 0.80462963, 0.81392485,\n",
       "       0.78236444, 0.83566425, 0.74061711, 0.84580275, 0.71312713,\n",
       "       0.81262779, 0.79314168, 0.7695632 , 0.8219556 , 0.79993759,\n",
       "       0.82866789, 0.79556085, 0.77043097, 0.86502089, 0.82527334,\n",
       "       0.84062634, 0.76747229, 0.78229542, 0.77881486, 0.79545906,\n",
       "       0.77495937, 0.79894284, 0.81909147, 0.76391859, 0.84381016,\n",
       "       0.77631016, 0.75630752, 0.78160109, 0.78474281, 0.78438651,\n",
       "       0.75629418, 0.80940356, 0.80695489, 0.80410296, 0.77335184])"
      ]
     },
     "execution_count": 121,
     "metadata": {},
     "output_type": "execute_result"
    }
   ],
   "source": [
    "from sklearn.model_selection import train_test_split\n",
    "\n",
    "pipeline = make_pipeline(\n",
    "    ce.OneHotEncoder(use_cat_names=True),\n",
    "    StandardScaler(),\n",
    "    RandomForestRegressor(n_estimators=100,max_depth=10,random_state=0)\n",
    ")\n",
    "\n",
    "cross_val_score(pipeline,train_features,y_train,scoring='roc_auc',cv=10,n_jobs=-1,verbose=10)\n"
   ]
  },
  {
   "cell_type": "code",
   "execution_count": 122,
   "metadata": {},
   "outputs": [
    {
     "data": {
      "text/plain": [
       "Pipeline(memory=None,\n",
       "     steps=[('onehotencoder', OneHotEncoder(cols=['job', 'marital', 'education', 'default', 'housing', 'loan', 'contact', 'month', 'day_of_week', 'poutcome'],\n",
       "       drop_invariant=False, handle_unknown='impute', impute_missing=True,\n",
       "       return_df=True, use_cat_names=True, verbose=0)), ('standardscale...imators=100, n_jobs=None,\n",
       "           oob_score=False, random_state=0, verbose=0, warm_start=False))])"
      ]
     },
     "execution_count": 122,
     "metadata": {},
     "output_type": "execute_result"
    }
   ],
   "source": [
    "pipeline.fit(train_features,y_train)"
   ]
  },
  {
   "cell_type": "code",
   "execution_count": 123,
   "metadata": {},
   "outputs": [
    {
     "data": {
      "text/plain": [
       "10297"
      ]
     },
     "execution_count": 123,
     "metadata": {},
     "output_type": "execute_result"
    }
   ],
   "source": [
    "len(pipeline.predict(test_features))"
   ]
  },
  {
   "cell_type": "code",
   "execution_count": 124,
   "metadata": {},
   "outputs": [
    {
     "data": {
      "text/html": [
       "<div>\n",
       "<style scoped>\n",
       "    .dataframe tbody tr th:only-of-type {\n",
       "        vertical-align: middle;\n",
       "    }\n",
       "\n",
       "    .dataframe tbody tr th {\n",
       "        vertical-align: top;\n",
       "    }\n",
       "\n",
       "    .dataframe thead th {\n",
       "        text-align: right;\n",
       "    }\n",
       "</style>\n",
       "<table border=\"1\" class=\"dataframe\">\n",
       "  <thead>\n",
       "    <tr style=\"text-align: right;\">\n",
       "      <th></th>\n",
       "      <th>id</th>\n",
       "      <th>y</th>\n",
       "    </tr>\n",
       "  </thead>\n",
       "  <tbody>\n",
       "    <tr>\n",
       "      <th>0</th>\n",
       "      <td>12668</td>\n",
       "      <td>0.081644</td>\n",
       "    </tr>\n",
       "    <tr>\n",
       "      <th>1</th>\n",
       "      <td>44327</td>\n",
       "      <td>0.060604</td>\n",
       "    </tr>\n",
       "    <tr>\n",
       "      <th>2</th>\n",
       "      <td>26675</td>\n",
       "      <td>0.318336</td>\n",
       "    </tr>\n",
       "    <tr>\n",
       "      <th>3</th>\n",
       "      <td>11771</td>\n",
       "      <td>0.044673</td>\n",
       "    </tr>\n",
       "    <tr>\n",
       "      <th>4</th>\n",
       "      <td>38173</td>\n",
       "      <td>0.061196</td>\n",
       "    </tr>\n",
       "  </tbody>\n",
       "</table>\n",
       "</div>"
      ],
      "text/plain": [
       "      id         y\n",
       "0  12668  0.081644\n",
       "1  44327  0.060604\n",
       "2  26675  0.318336\n",
       "3  11771  0.044673\n",
       "4  38173  0.061196"
      ]
     },
     "execution_count": 124,
     "metadata": {},
     "output_type": "execute_result"
    }
   ],
   "source": [
    "submission = sample_submission.copy()\n",
    "submission['y'] = pipeline.predict(test_features)\n",
    "submission.head() "
   ]
  },
  {
   "cell_type": "code",
   "execution_count": 88,
   "metadata": {},
   "outputs": [],
   "source": [
    "submission.to_csv('submission-008.csv',index=False)"
   ]
  },
  {
   "cell_type": "code",
   "execution_count": 96,
   "metadata": {},
   "outputs": [
    {
     "data": {
      "text/plain": [
       "Pipeline(memory=None,\n",
       "     steps=[('onehotencoder', OneHotEncoder(cols=['job', 'marital', 'education', 'default', 'housing', 'loan', 'contact', 'month', 'day_of_week', 'poutcome'],\n",
       "       drop_invariant=False, handle_unknown='impute', impute_missing=True,\n",
       "       return_df=True, use_cat_names=True, verbose=0)), ('standardscaler', StandardScaler(copy=True, with_mean=True, with_std=True))])"
      ]
     },
     "execution_count": 96,
     "metadata": {},
     "output_type": "execute_result"
    }
   ],
   "source": [
    "pipeline = make_pipeline(\n",
    "    ce.OneHotEncoder(use_cat_names=True),\n",
    "    StandardScaler(),\n",
    "    RandomForestRegressor(n_estimators=100,max_depth=10,random_state=0)\n",
    ")\n",
    "\n"
   ]
  },
  {
   "cell_type": "code",
   "execution_count": 125,
   "metadata": {},
   "outputs": [],
   "source": [
    "param_grid = {\n",
    "    'n_estimators': [100, 200], \n",
    "    'max_depth': [9, 10], \n",
    "    'criterion': ['gini', 'entropy']\n",
    "}\n",
    "\n",
    "# gridsearch = GridSearchCV(RandomForestRegressor(), param_grid=param_grid, cv=10, \n",
    "#                           scoring='roc_auc', verbose=10, n_jobs=-1,\n",
    "#                           return_train_score=True)\n",
    "\n",
    "# gridsearch.fit(train_features, y_train)"
   ]
  },
  {
   "cell_type": "code",
   "execution_count": 90,
   "metadata": {},
   "outputs": [],
   "source": [
    "# param_grid = {\n",
    "#     'n_estimators': [100, 200], \n",
    "#     'max_depth': [9, 10], \n",
    "#     'criterion': ['gini', 'entropy']\n",
    "# }\n",
    "\n",
    "# gridsearch = GridSearchCV(RandomForestRegressor(), param_grid=param_grid, cv=10, \n",
    "#                           scoring='roc_auc', verbose=10, n_jobs=-1,\n",
    "#                           return_train_score=True)\n",
    "\n",
    "# gridsearch.fit(train_features, y_train)"
   ]
  },
  {
   "cell_type": "code",
   "execution_count": 126,
   "metadata": {},
   "outputs": [],
   "source": [
    "# pd.DataFrame(gridsearch.cv_results_).sort_values(by='rank_test_score')"
   ]
  },
  {
   "cell_type": "code",
   "execution_count": 127,
   "metadata": {},
   "outputs": [],
   "source": [
    "from sklearn.preprocessing import PolynomialFeatures\n",
    "from sklearn.linear_model import LinearRegression\n",
    "from sklearn.pipeline import make_pipeline\n",
    "\n",
    "train_features = pd.read_csv('train_features.csv').drop(columns='id')\n",
    "test_features = pd.read_csv('test_features.csv').drop(columns='id')\n",
    "y_train = pd.read_csv('train_labels.csv')['y']\n",
    "sample_submission = pd.read_csv('sample_submission.csv')"
   ]
  },
  {
   "cell_type": "code",
   "execution_count": 133,
   "metadata": {},
   "outputs": [],
   "source": [
    "def PolynomialRegression(degree=2, **kwargs):\n",
    "    return make_pipeline(ce.OneHotEncoder(use_cat_names=True),\n",
    "                         PolynomialFeatures(degree),\n",
    "                         LinearRegression(**kwargs))"
   ]
  },
  {
   "cell_type": "code",
   "execution_count": 134,
   "metadata": {},
   "outputs": [],
   "source": [
    "train_features_numeric = train_features.select_dtypes(np.number)\n",
    "test_features_numeric = test_features.select_dtypes(np.number)"
   ]
  },
  {
   "cell_type": "code",
   "execution_count": 135,
   "metadata": {},
   "outputs": [
    {
     "name": "stdout",
     "output_type": "stream",
     "text": [
      "0 degree polynomial has 1 features\n",
      "['1']\n",
      "\n",
      "\n",
      "1 degree polynomial has 10 features\n",
      "['1', 'age', 'campaign', 'pdays', 'previous', 'emp.var.rate', 'cons.price.idx', 'cons.conf.idx', 'euribor3m', 'nr.employed']\n",
      "\n",
      "\n",
      "2 degree polynomial has 55 features\n",
      "['1', 'age', 'campaign', 'pdays', 'previous', 'emp.var.rate', 'cons.price.idx', 'cons.conf.idx', 'euribor3m', 'nr.employed', 'age^2', 'age campaign', 'age pdays', 'age previous', 'age emp.var.rate', 'age cons.price.idx', 'age cons.conf.idx', 'age euribor3m', 'age nr.employed', 'campaign^2', 'campaign pdays', 'campaign previous', 'campaign emp.var.rate', 'campaign cons.price.idx', 'campaign cons.conf.idx', 'campaign euribor3m', 'campaign nr.employed', 'pdays^2', 'pdays previous', 'pdays emp.var.rate', 'pdays cons.price.idx', 'pdays cons.conf.idx', 'pdays euribor3m', 'pdays nr.employed', 'previous^2', 'previous emp.var.rate', 'previous cons.price.idx', 'previous cons.conf.idx', 'previous euribor3m', 'previous nr.employed', 'emp.var.rate^2', 'emp.var.rate cons.price.idx', 'emp.var.rate cons.conf.idx', 'emp.var.rate euribor3m', 'emp.var.rate nr.employed', 'cons.price.idx^2', 'cons.price.idx cons.conf.idx', 'cons.price.idx euribor3m', 'cons.price.idx nr.employed', 'cons.conf.idx^2', 'cons.conf.idx euribor3m', 'cons.conf.idx nr.employed', 'euribor3m^2', 'euribor3m nr.employed', 'nr.employed^2']\n",
      "\n",
      "\n",
      "3 degree polynomial has 220 features\n",
      "['1', 'age', 'campaign', 'pdays', 'previous', 'emp.var.rate', 'cons.price.idx', 'cons.conf.idx', 'euribor3m', 'nr.employed', 'age^2', 'age campaign', 'age pdays', 'age previous', 'age emp.var.rate', 'age cons.price.idx', 'age cons.conf.idx', 'age euribor3m', 'age nr.employed', 'campaign^2', 'campaign pdays', 'campaign previous', 'campaign emp.var.rate', 'campaign cons.price.idx', 'campaign cons.conf.idx', 'campaign euribor3m', 'campaign nr.employed', 'pdays^2', 'pdays previous', 'pdays emp.var.rate', 'pdays cons.price.idx', 'pdays cons.conf.idx', 'pdays euribor3m', 'pdays nr.employed', 'previous^2', 'previous emp.var.rate', 'previous cons.price.idx', 'previous cons.conf.idx', 'previous euribor3m', 'previous nr.employed', 'emp.var.rate^2', 'emp.var.rate cons.price.idx', 'emp.var.rate cons.conf.idx', 'emp.var.rate euribor3m', 'emp.var.rate nr.employed', 'cons.price.idx^2', 'cons.price.idx cons.conf.idx', 'cons.price.idx euribor3m', 'cons.price.idx nr.employed', 'cons.conf.idx^2', 'cons.conf.idx euribor3m', 'cons.conf.idx nr.employed', 'euribor3m^2', 'euribor3m nr.employed', 'nr.employed^2', 'age^3', 'age^2 campaign', 'age^2 pdays', 'age^2 previous', 'age^2 emp.var.rate', 'age^2 cons.price.idx', 'age^2 cons.conf.idx', 'age^2 euribor3m', 'age^2 nr.employed', 'age campaign^2', 'age campaign pdays', 'age campaign previous', 'age campaign emp.var.rate', 'age campaign cons.price.idx', 'age campaign cons.conf.idx', 'age campaign euribor3m', 'age campaign nr.employed', 'age pdays^2', 'age pdays previous', 'age pdays emp.var.rate', 'age pdays cons.price.idx', 'age pdays cons.conf.idx', 'age pdays euribor3m', 'age pdays nr.employed', 'age previous^2', 'age previous emp.var.rate', 'age previous cons.price.idx', 'age previous cons.conf.idx', 'age previous euribor3m', 'age previous nr.employed', 'age emp.var.rate^2', 'age emp.var.rate cons.price.idx', 'age emp.var.rate cons.conf.idx', 'age emp.var.rate euribor3m', 'age emp.var.rate nr.employed', 'age cons.price.idx^2', 'age cons.price.idx cons.conf.idx', 'age cons.price.idx euribor3m', 'age cons.price.idx nr.employed', 'age cons.conf.idx^2', 'age cons.conf.idx euribor3m', 'age cons.conf.idx nr.employed', 'age euribor3m^2', 'age euribor3m nr.employed', 'age nr.employed^2', 'campaign^3', 'campaign^2 pdays', 'campaign^2 previous', 'campaign^2 emp.var.rate', 'campaign^2 cons.price.idx', 'campaign^2 cons.conf.idx', 'campaign^2 euribor3m', 'campaign^2 nr.employed', 'campaign pdays^2', 'campaign pdays previous', 'campaign pdays emp.var.rate', 'campaign pdays cons.price.idx', 'campaign pdays cons.conf.idx', 'campaign pdays euribor3m', 'campaign pdays nr.employed', 'campaign previous^2', 'campaign previous emp.var.rate', 'campaign previous cons.price.idx', 'campaign previous cons.conf.idx', 'campaign previous euribor3m', 'campaign previous nr.employed', 'campaign emp.var.rate^2', 'campaign emp.var.rate cons.price.idx', 'campaign emp.var.rate cons.conf.idx', 'campaign emp.var.rate euribor3m', 'campaign emp.var.rate nr.employed', 'campaign cons.price.idx^2', 'campaign cons.price.idx cons.conf.idx', 'campaign cons.price.idx euribor3m', 'campaign cons.price.idx nr.employed', 'campaign cons.conf.idx^2', 'campaign cons.conf.idx euribor3m', 'campaign cons.conf.idx nr.employed', 'campaign euribor3m^2', 'campaign euribor3m nr.employed', 'campaign nr.employed^2', 'pdays^3', 'pdays^2 previous', 'pdays^2 emp.var.rate', 'pdays^2 cons.price.idx', 'pdays^2 cons.conf.idx', 'pdays^2 euribor3m', 'pdays^2 nr.employed', 'pdays previous^2', 'pdays previous emp.var.rate', 'pdays previous cons.price.idx', 'pdays previous cons.conf.idx', 'pdays previous euribor3m', 'pdays previous nr.employed', 'pdays emp.var.rate^2', 'pdays emp.var.rate cons.price.idx', 'pdays emp.var.rate cons.conf.idx', 'pdays emp.var.rate euribor3m', 'pdays emp.var.rate nr.employed', 'pdays cons.price.idx^2', 'pdays cons.price.idx cons.conf.idx', 'pdays cons.price.idx euribor3m', 'pdays cons.price.idx nr.employed', 'pdays cons.conf.idx^2', 'pdays cons.conf.idx euribor3m', 'pdays cons.conf.idx nr.employed', 'pdays euribor3m^2', 'pdays euribor3m nr.employed', 'pdays nr.employed^2', 'previous^3', 'previous^2 emp.var.rate', 'previous^2 cons.price.idx', 'previous^2 cons.conf.idx', 'previous^2 euribor3m', 'previous^2 nr.employed', 'previous emp.var.rate^2', 'previous emp.var.rate cons.price.idx', 'previous emp.var.rate cons.conf.idx', 'previous emp.var.rate euribor3m', 'previous emp.var.rate nr.employed', 'previous cons.price.idx^2', 'previous cons.price.idx cons.conf.idx', 'previous cons.price.idx euribor3m', 'previous cons.price.idx nr.employed', 'previous cons.conf.idx^2', 'previous cons.conf.idx euribor3m', 'previous cons.conf.idx nr.employed', 'previous euribor3m^2', 'previous euribor3m nr.employed', 'previous nr.employed^2', 'emp.var.rate^3', 'emp.var.rate^2 cons.price.idx', 'emp.var.rate^2 cons.conf.idx', 'emp.var.rate^2 euribor3m', 'emp.var.rate^2 nr.employed', 'emp.var.rate cons.price.idx^2', 'emp.var.rate cons.price.idx cons.conf.idx', 'emp.var.rate cons.price.idx euribor3m', 'emp.var.rate cons.price.idx nr.employed', 'emp.var.rate cons.conf.idx^2', 'emp.var.rate cons.conf.idx euribor3m', 'emp.var.rate cons.conf.idx nr.employed', 'emp.var.rate euribor3m^2', 'emp.var.rate euribor3m nr.employed', 'emp.var.rate nr.employed^2', 'cons.price.idx^3', 'cons.price.idx^2 cons.conf.idx', 'cons.price.idx^2 euribor3m', 'cons.price.idx^2 nr.employed', 'cons.price.idx cons.conf.idx^2', 'cons.price.idx cons.conf.idx euribor3m', 'cons.price.idx cons.conf.idx nr.employed', 'cons.price.idx euribor3m^2', 'cons.price.idx euribor3m nr.employed', 'cons.price.idx nr.employed^2', 'cons.conf.idx^3', 'cons.conf.idx^2 euribor3m', 'cons.conf.idx^2 nr.employed', 'cons.conf.idx euribor3m^2', 'cons.conf.idx euribor3m nr.employed', 'cons.conf.idx nr.employed^2', 'euribor3m^3', 'euribor3m^2 nr.employed', 'euribor3m nr.employed^2', 'nr.employed^3']\n",
      "\n",
      "\n"
     ]
    }
   ],
   "source": [
    "for degree in [0, 1, 2, 3]:\n",
    "    features = PolynomialFeatures(degree).fit(train_features_numeric).get_feature_names(train_features_numeric.columns)\n",
    "    print(f'{degree} degree polynomial has {len(features)} features')\n",
    "    print(features)\n",
    "    print('\\n')"
   ]
  },
  {
   "cell_type": "code",
   "execution_count": 137,
   "metadata": {},
   "outputs": [
    {
     "data": {
      "image/png": "[encoded data removed]",
      "text/plain": [
       "<Figure size 432x288 with 1 Axes>"
      ]
     },
     "metadata": {
      "needs_background": "light"
     },
     "output_type": "display_data"
    }
   ],
   "source": [
    "import matplotlib.pyplot as plt\n",
    "import numpy as np\n",
    "from sklearn.model_selection import validation_curve\n",
    "\n",
    "degree = [0, 1, 2, 3]\n",
    "train_score, val_score = validation_curve(\n",
    "    PolynomialRegression(), train_features_numeric, y_train,\n",
    "    param_name='polynomialfeatures__degree', param_range=degree, \n",
    "    scoring='neg_mean_absolute_error', cv=3)\n",
    "\n",
    "plt.plot(degree, np.median(train_score, 1), color='blue', label='training score')\n",
    "plt.plot(degree, np.median(val_score, 1), color='red', label='validation score')\n",
    "plt.legend(loc='best')\n",
    "plt.xlabel('degree');"
   ]
  },
  {
   "cell_type": "code",
   "execution_count": 138,
   "metadata": {},
   "outputs": [
    {
     "name": "stdout",
     "output_type": "stream",
     "text": [
      "Fitting 3 folds for each of 4 candidates, totalling 12 fits\n",
      "[CV] polynomialfeatures__degree=0 ....................................\n",
      "[CV]  polynomialfeatures__degree=0, score=-0.19891762483699033, total=   0.0s\n",
      "[CV] polynomialfeatures__degree=0 ....................................\n",
      "[CV]  polynomialfeatures__degree=0, score=-0.20026573777172826, total=   0.0s\n",
      "[CV] polynomialfeatures__degree=0 ....................................\n",
      "[CV]  polynomialfeatures__degree=0, score=-0.20060658574361093, total=   0.0s\n",
      "[CV] polynomialfeatures__degree=1 ....................................\n",
      "[CV]  polynomialfeatures__degree=1, score=-0.16460351913740937, total=   0.0s\n",
      "[CV] polynomialfeatures__degree=1 ....................................\n",
      "[CV]  polynomialfeatures__degree=1, score=-0.16538146125650555, total=   0.0s\n",
      "[CV] polynomialfeatures__degree=1 ....................................\n",
      "[CV]  polynomialfeatures__degree=1, score=-0.1663413417169245, total=   0.0s\n",
      "[CV] polynomialfeatures__degree=2 ....................................\n",
      "[CV]  polynomialfeatures__degree=2, score=-0.157169091174037, total=   0.0s\n",
      "[CV] polynomialfeatures__degree=2 ....................................\n",
      "[CV]  polynomialfeatures__degree=2, score=-0.158163221904021, total=   0.0s\n",
      "[CV] polynomialfeatures__degree=2 ....................................\n"
     ]
    },
    {
     "name": "stderr",
     "output_type": "stream",
     "text": [
      "[Parallel(n_jobs=1)]: Using backend SequentialBackend with 1 concurrent workers.\n",
      "[Parallel(n_jobs=1)]: Done   1 out of   1 | elapsed:    0.0s remaining:    0.0s\n",
      "[Parallel(n_jobs=1)]: Done   2 out of   2 | elapsed:    0.0s remaining:    0.0s\n",
      "[Parallel(n_jobs=1)]: Done   3 out of   3 | elapsed:    0.0s remaining:    0.0s\n",
      "[Parallel(n_jobs=1)]: Done   4 out of   4 | elapsed:    0.0s remaining:    0.0s\n",
      "[Parallel(n_jobs=1)]: Done   5 out of   5 | elapsed:    0.1s remaining:    0.0s\n",
      "[Parallel(n_jobs=1)]: Done   6 out of   6 | elapsed:    0.1s remaining:    0.0s\n",
      "[Parallel(n_jobs=1)]: Done   7 out of   7 | elapsed:    0.1s remaining:    0.0s\n",
      "[Parallel(n_jobs=1)]: Done   8 out of   8 | elapsed:    0.2s remaining:    0.0s\n"
     ]
    },
    {
     "name": "stdout",
     "output_type": "stream",
     "text": [
      "[CV]  polynomialfeatures__degree=2, score=-0.15980475448315232, total=   0.0s\n",
      "[CV] polynomialfeatures__degree=3 ....................................\n"
     ]
    },
    {
     "name": "stderr",
     "output_type": "stream",
     "text": [
      "[Parallel(n_jobs=1)]: Done   9 out of   9 | elapsed:    0.2s remaining:    0.0s\n"
     ]
    },
    {
     "name": "stdout",
     "output_type": "stream",
     "text": [
      "[CV]  polynomialfeatures__degree=3, score=-0.15440842898304752, total=   0.2s\n",
      "[CV] polynomialfeatures__degree=3 ....................................\n",
      "[CV]  polynomialfeatures__degree=3, score=-0.15604113949712958, total=   0.1s\n",
      "[CV] polynomialfeatures__degree=3 ....................................\n",
      "[CV]  polynomialfeatures__degree=3, score=-0.1574991454123097, total=   0.2s\n"
     ]
    },
    {
     "name": "stderr",
     "output_type": "stream",
     "text": [
      "[Parallel(n_jobs=1)]: Done  12 out of  12 | elapsed:    0.8s finished\n"
     ]
    },
    {
     "data": {
      "text/plain": [
       "GridSearchCV(cv=3, error_score='raise-deprecating',\n",
       "       estimator=Pipeline(memory=None,\n",
       "     steps=[('onehotencoder', OneHotEncoder(cols=None, drop_invariant=False, handle_unknown='impute',\n",
       "       impute_missing=True, return_df=True, use_cat_names=True, verbose=0)), ('polynomialfeatures', PolynomialFeatures(degree=2, include_bias=True, interaction_only=False)), ('linearregression', LinearRegression(copy_X=True, fit_intercept=True, n_jobs=None,\n",
       "         normalize=False))]),\n",
       "       fit_params=None, iid='warn', n_jobs=None,\n",
       "       param_grid={'polynomialfeatures__degree': [0, 1, 2, 3]},\n",
       "       pre_dispatch='2*n_jobs', refit=True, return_train_score=True,\n",
       "       scoring='neg_mean_absolute_error', verbose=10)"
      ]
     },
     "execution_count": 138,
     "metadata": {},
     "output_type": "execute_result"
    }
   ],
   "source": [
    "from sklearn.model_selection import GridSearchCV\n",
    "\n",
    "param_grid = {\n",
    "    'polynomialfeatures__degree': [0, 1, 2, 3]\n",
    "}\n",
    "\n",
    "gridsearch = GridSearchCV(PolynomialRegression(), param_grid=param_grid, \n",
    "                          scoring='neg_mean_absolute_error', cv=3, \n",
    "                          return_train_score=True, verbose=10)\n",
    "\n",
    "gridsearch.fit(train_features_numeric, y_train)"
   ]
  },
  {
   "cell_type": "code",
   "execution_count": 139,
   "metadata": {},
   "outputs": [
    {
     "data": {
      "text/html": [
       "<div>\n",
       "<style scoped>\n",
       "    .dataframe tbody tr th:only-of-type {\n",
       "        vertical-align: middle;\n",
       "    }\n",
       "\n",
       "    .dataframe tbody tr th {\n",
       "        vertical-align: top;\n",
       "    }\n",
       "\n",
       "    .dataframe thead th {\n",
       "        text-align: right;\n",
       "    }\n",
       "</style>\n",
       "<table border=\"1\" class=\"dataframe\">\n",
       "  <thead>\n",
       "    <tr style=\"text-align: right;\">\n",
       "      <th></th>\n",
       "      <th>mean_fit_time</th>\n",
       "      <th>std_fit_time</th>\n",
       "      <th>mean_score_time</th>\n",
       "      <th>std_score_time</th>\n",
       "      <th>param_polynomialfeatures__degree</th>\n",
       "      <th>params</th>\n",
       "      <th>split0_test_score</th>\n",
       "      <th>split1_test_score</th>\n",
       "      <th>split2_test_score</th>\n",
       "      <th>mean_test_score</th>\n",
       "      <th>std_test_score</th>\n",
       "      <th>rank_test_score</th>\n",
       "      <th>split0_train_score</th>\n",
       "      <th>split1_train_score</th>\n",
       "      <th>split2_train_score</th>\n",
       "      <th>mean_train_score</th>\n",
       "      <th>std_train_score</th>\n",
       "    </tr>\n",
       "  </thead>\n",
       "  <tbody>\n",
       "    <tr>\n",
       "      <th>3</th>\n",
       "      <td>0.141115</td>\n",
       "      <td>0.023313</td>\n",
       "      <td>0.025221</td>\n",
       "      <td>0.000176</td>\n",
       "      <td>3</td>\n",
       "      <td>{'polynomialfeatures__degree': 3}</td>\n",
       "      <td>-0.154408</td>\n",
       "      <td>-0.156041</td>\n",
       "      <td>-0.157499</td>\n",
       "      <td>-0.155983</td>\n",
       "      <td>0.001262</td>\n",
       "      <td>1</td>\n",
       "      <td>-0.153654</td>\n",
       "      <td>-0.153886</td>\n",
       "      <td>-0.151206</td>\n",
       "      <td>-0.152916</td>\n",
       "      <td>0.001212</td>\n",
       "    </tr>\n",
       "    <tr>\n",
       "      <th>2</th>\n",
       "      <td>0.031466</td>\n",
       "      <td>0.007243</td>\n",
       "      <td>0.005203</td>\n",
       "      <td>0.000120</td>\n",
       "      <td>2</td>\n",
       "      <td>{'polynomialfeatures__degree': 2}</td>\n",
       "      <td>-0.157169</td>\n",
       "      <td>-0.158163</td>\n",
       "      <td>-0.159805</td>\n",
       "      <td>-0.158379</td>\n",
       "      <td>0.001087</td>\n",
       "      <td>2</td>\n",
       "      <td>-0.158385</td>\n",
       "      <td>-0.158354</td>\n",
       "      <td>-0.156642</td>\n",
       "      <td>-0.157794</td>\n",
       "      <td>0.000815</td>\n",
       "    </tr>\n",
       "    <tr>\n",
       "      <th>1</th>\n",
       "      <td>0.008541</td>\n",
       "      <td>0.000935</td>\n",
       "      <td>0.001741</td>\n",
       "      <td>0.000116</td>\n",
       "      <td>1</td>\n",
       "      <td>{'polynomialfeatures__degree': 1}</td>\n",
       "      <td>-0.164604</td>\n",
       "      <td>-0.165381</td>\n",
       "      <td>-0.166341</td>\n",
       "      <td>-0.165442</td>\n",
       "      <td>0.000711</td>\n",
       "      <td>3</td>\n",
       "      <td>-0.166108</td>\n",
       "      <td>-0.165828</td>\n",
       "      <td>-0.164139</td>\n",
       "      <td>-0.165358</td>\n",
       "      <td>0.000869</td>\n",
       "    </tr>\n",
       "    <tr>\n",
       "      <th>0</th>\n",
       "      <td>0.004284</td>\n",
       "      <td>0.000550</td>\n",
       "      <td>0.000881</td>\n",
       "      <td>0.000047</td>\n",
       "      <td>0</td>\n",
       "      <td>{'polynomialfeatures__degree': 0}</td>\n",
       "      <td>-0.198918</td>\n",
       "      <td>-0.200266</td>\n",
       "      <td>-0.200607</td>\n",
       "      <td>-0.199930</td>\n",
       "      <td>0.000729</td>\n",
       "      <td>4</td>\n",
       "      <td>-0.201954</td>\n",
       "      <td>-0.199249</td>\n",
       "      <td>-0.198571</td>\n",
       "      <td>-0.199925</td>\n",
       "      <td>0.001462</td>\n",
       "    </tr>\n",
       "  </tbody>\n",
       "</table>\n",
       "</div>"
      ],
      "text/plain": [
       "   mean_fit_time  std_fit_time  mean_score_time  std_score_time  \\\n",
       "3       0.141115      0.023313         0.025221        0.000176   \n",
       "2       0.031466      0.007243         0.005203        0.000120   \n",
       "1       0.008541      0.000935         0.001741        0.000116   \n",
       "0       0.004284      0.000550         0.000881        0.000047   \n",
       "\n",
       "  param_polynomialfeatures__degree                             params  \\\n",
       "3                                3  {'polynomialfeatures__degree': 3}   \n",
       "2                                2  {'polynomialfeatures__degree': 2}   \n",
       "1                                1  {'polynomialfeatures__degree': 1}   \n",
       "0                                0  {'polynomialfeatures__degree': 0}   \n",
       "\n",
       "   split0_test_score  split1_test_score  split2_test_score  mean_test_score  \\\n",
       "3          -0.154408          -0.156041          -0.157499        -0.155983   \n",
       "2          -0.157169          -0.158163          -0.159805        -0.158379   \n",
       "1          -0.164604          -0.165381          -0.166341        -0.165442   \n",
       "0          -0.198918          -0.200266          -0.200607        -0.199930   \n",
       "\n",
       "   std_test_score  rank_test_score  split0_train_score  split1_train_score  \\\n",
       "3        0.001262                1           -0.153654           -0.153886   \n",
       "2        0.001087                2           -0.158385           -0.158354   \n",
       "1        0.000711                3           -0.166108           -0.165828   \n",
       "0        0.000729                4           -0.201954           -0.199249   \n",
       "\n",
       "   split2_train_score  mean_train_score  std_train_score  \n",
       "3           -0.151206         -0.152916         0.001212  \n",
       "2           -0.156642         -0.157794         0.000815  \n",
       "1           -0.164139         -0.165358         0.000869  \n",
       "0           -0.198571         -0.199925         0.001462  "
      ]
     },
     "execution_count": 139,
     "metadata": {},
     "output_type": "execute_result"
    }
   ],
   "source": [
    "pd.DataFrame(gridsearch.cv_results_).sort_values(by='rank_test_score')"
   ]
  },
  {
   "cell_type": "code",
   "execution_count": 140,
   "metadata": {},
   "outputs": [
    {
     "data": {
      "text/html": [
       "<div>\n",
       "<style scoped>\n",
       "    .dataframe tbody tr th:only-of-type {\n",
       "        vertical-align: middle;\n",
       "    }\n",
       "\n",
       "    .dataframe tbody tr th {\n",
       "        vertical-align: top;\n",
       "    }\n",
       "\n",
       "    .dataframe thead th {\n",
       "        text-align: right;\n",
       "    }\n",
       "</style>\n",
       "<table border=\"1\" class=\"dataframe\">\n",
       "  <thead>\n",
       "    <tr style=\"text-align: right;\">\n",
       "      <th></th>\n",
       "      <th>fit_time</th>\n",
       "      <th>score_time</th>\n",
       "      <th>estimator</th>\n",
       "      <th>test_score</th>\n",
       "      <th>train_score</th>\n",
       "    </tr>\n",
       "  </thead>\n",
       "  <tbody>\n",
       "    <tr>\n",
       "      <th>0</th>\n",
       "      <td>2.144817</td>\n",
       "      <td>0.107187</td>\n",
       "      <td>(DecisionTreeRegressor(criterion='mse', max_de...</td>\n",
       "      <td>-0.157118</td>\n",
       "      <td>-0.093356</td>\n",
       "    </tr>\n",
       "    <tr>\n",
       "      <th>1</th>\n",
       "      <td>2.154820</td>\n",
       "      <td>0.107026</td>\n",
       "      <td>(DecisionTreeRegressor(criterion='mse', max_de...</td>\n",
       "      <td>-0.153957</td>\n",
       "      <td>-0.096812</td>\n",
       "    </tr>\n",
       "    <tr>\n",
       "      <th>2</th>\n",
       "      <td>2.188610</td>\n",
       "      <td>0.101314</td>\n",
       "      <td>(DecisionTreeRegressor(criterion='mse', max_de...</td>\n",
       "      <td>-0.157432</td>\n",
       "      <td>-0.095292</td>\n",
       "    </tr>\n",
       "  </tbody>\n",
       "</table>\n",
       "</div>"
      ],
      "text/plain": [
       "   fit_time  score_time                                          estimator  \\\n",
       "0  2.144817    0.107187  (DecisionTreeRegressor(criterion='mse', max_de...   \n",
       "1  2.154820    0.107026  (DecisionTreeRegressor(criterion='mse', max_de...   \n",
       "2  2.188610    0.101314  (DecisionTreeRegressor(criterion='mse', max_de...   \n",
       "\n",
       "   test_score  train_score  \n",
       "0   -0.157118    -0.093356  \n",
       "1   -0.153957    -0.096812  \n",
       "2   -0.157432    -0.095292  "
      ]
     },
     "execution_count": 140,
     "metadata": {},
     "output_type": "execute_result"
    }
   ],
   "source": [
    "model = RandomForestRegressor(n_estimators=100, max_depth=20)\n",
    "\n",
    "scores = cross_validate(model, train_features_numeric, y_train, \n",
    "                        scoring='neg_mean_absolute_error', \n",
    "                        cv=3, return_train_score=True, \n",
    "                        return_estimator=True)\n",
    "\n",
    "pd.DataFrame(scores)"
   ]
  },
  {
   "cell_type": "code",
   "execution_count": 141,
   "metadata": {},
   "outputs": [
    {
     "data": {
      "image/png": "[encoded data removed]",
      "text/plain": [
       "<Figure size 432x288 with 1 Axes>"
      ]
     },
     "metadata": {
      "needs_background": "light"
     },
     "output_type": "display_data"
    }
   ],
   "source": [
    "model = RandomForestRegressor(n_estimators=100,max_depth=20)\n",
    "\n",
    "depth = [2, 3, 4, 5, 6]\n",
    "train_score, val_score = validation_curve(\n",
    "    model, train_features_numeric, y_train,\n",
    "    param_name='max_depth', param_range=depth, \n",
    "    scoring='neg_mean_absolute_error', cv=3)\n",
    "\n",
    "plt.plot(depth, np.median(train_score, 1), color='blue', label='training score')\n",
    "plt.plot(depth, np.median(val_score, 1), color='red', label='validation score')\n",
    "plt.legend(loc='best')\n",
    "plt.xlabel('depth');"
   ]
  },
  {
   "cell_type": "code",
   "execution_count": 145,
   "metadata": {},
   "outputs": [
    {
     "name": "stdout",
     "output_type": "stream",
     "text": [
      "Fitting 3 folds for each of 4 candidates, totalling 12 fits\n"
     ]
    },
    {
     "name": "stderr",
     "output_type": "stream",
     "text": [
      "[Parallel(n_jobs=-1)]: Using backend LokyBackend with 8 concurrent workers.\n",
      "[Parallel(n_jobs=-1)]: Done   1 tasks      | elapsed:    3.0s\n",
      "[Parallel(n_jobs=-1)]: Done   3 out of  12 | elapsed:    3.1s remaining:    9.2s\n",
      "[Parallel(n_jobs=-1)]: Done   5 out of  12 | elapsed:    3.4s remaining:    4.8s\n",
      "[Parallel(n_jobs=-1)]: Done   7 out of  12 | elapsed:    4.4s remaining:    3.1s\n",
      "[Parallel(n_jobs=-1)]: Done   9 out of  12 | elapsed:    4.5s remaining:    1.5s\n",
      "[Parallel(n_jobs=-1)]: Done  12 out of  12 | elapsed:    5.7s finished\n"
     ]
    },
    {
     "data": {
      "text/plain": [
       "GridSearchCV(cv=3, error_score='raise-deprecating',\n",
       "       estimator=RandomForestRegressor(bootstrap=True, criterion='mse', max_depth=None,\n",
       "           max_features='auto', max_leaf_nodes=None,\n",
       "           min_impurity_decrease=0.0, min_impurity_split=None,\n",
       "           min_samples_leaf=1, min_samples_split=2,\n",
       "           min_weight_fraction_leaf=0.0, n_estimators='warn', n_jobs=None,\n",
       "           oob_score=False, random_state=None, verbose=0, warm_start=False),\n",
       "       fit_params=None, iid='warn', n_jobs=-1,\n",
       "       param_grid={'n_estimators': [100, 200], 'max_depth': [4, 5], 'criterion': ['mse']},\n",
       "       pre_dispatch='2*n_jobs', refit=True, return_train_score=True,\n",
       "       scoring='neg_mean_absolute_error', verbose=10)"
      ]
     },
     "execution_count": 145,
     "metadata": {},
     "output_type": "execute_result"
    }
   ],
   "source": [
    "param_grid = {\n",
    "    'n_estimators': [100, 200], \n",
    "    'max_depth': [4, 5], \n",
    "    'criterion': ['mse']\n",
    "}\n",
    "\n",
    "gridsearch = GridSearchCV(RandomForestRegressor(), param_grid=param_grid, cv=3, \n",
    "                          scoring='neg_mean_absolute_error', verbose=10,n_jobs=-1, \n",
    "                          return_train_score=True)\n",
    "\n",
    "gridsearch.fit(train_features_numeric, y_train)"
   ]
  },
  {
   "cell_type": "code",
   "execution_count": 146,
   "metadata": {},
   "outputs": [
    {
     "name": "stdout",
     "output_type": "stream",
     "text": [
      "Best result from grid search of 4 parameter combinations\n"
     ]
    },
    {
     "data": {
      "text/html": [
       "<div>\n",
       "<style scoped>\n",
       "    .dataframe tbody tr th:only-of-type {\n",
       "        vertical-align: middle;\n",
       "    }\n",
       "\n",
       "    .dataframe tbody tr th {\n",
       "        vertical-align: top;\n",
       "    }\n",
       "\n",
       "    .dataframe thead th {\n",
       "        text-align: right;\n",
       "    }\n",
       "</style>\n",
       "<table border=\"1\" class=\"dataframe\">\n",
       "  <thead>\n",
       "    <tr style=\"text-align: right;\">\n",
       "      <th></th>\n",
       "      <th>mean_fit_time</th>\n",
       "      <th>std_fit_time</th>\n",
       "      <th>mean_score_time</th>\n",
       "      <th>std_score_time</th>\n",
       "      <th>param_criterion</th>\n",
       "      <th>param_max_depth</th>\n",
       "      <th>param_n_estimators</th>\n",
       "      <th>params</th>\n",
       "      <th>split0_test_score</th>\n",
       "      <th>split1_test_score</th>\n",
       "      <th>split2_test_score</th>\n",
       "      <th>mean_test_score</th>\n",
       "      <th>std_test_score</th>\n",
       "      <th>rank_test_score</th>\n",
       "      <th>split0_train_score</th>\n",
       "      <th>split1_train_score</th>\n",
       "      <th>split2_train_score</th>\n",
       "      <th>mean_train_score</th>\n",
       "      <th>std_train_score</th>\n",
       "    </tr>\n",
       "  </thead>\n",
       "  <tbody>\n",
       "    <tr>\n",
       "      <th>3</th>\n",
       "      <td>2.238425</td>\n",
       "      <td>0.086467</td>\n",
       "      <td>0.053207</td>\n",
       "      <td>0.001834</td>\n",
       "      <td>mse</td>\n",
       "      <td>5</td>\n",
       "      <td>200</td>\n",
       "      <td>{'criterion': 'mse', 'max_depth': 5, 'n_estima...</td>\n",
       "      <td>-0.15699</td>\n",
       "      <td>-0.157573</td>\n",
       "      <td>-0.160321</td>\n",
       "      <td>-0.158295</td>\n",
       "      <td>0.001452</td>\n",
       "      <td>1</td>\n",
       "      <td>-0.156537</td>\n",
       "      <td>-0.157193</td>\n",
       "      <td>-0.153807</td>\n",
       "      <td>-0.155845</td>\n",
       "      <td>0.001466</td>\n",
       "    </tr>\n",
       "  </tbody>\n",
       "</table>\n",
       "</div>"
      ],
      "text/plain": [
       "   mean_fit_time  std_fit_time  mean_score_time  std_score_time  \\\n",
       "3       2.238425      0.086467         0.053207        0.001834   \n",
       "\n",
       "  param_criterion param_max_depth param_n_estimators  \\\n",
       "3             mse               5                200   \n",
       "\n",
       "                                              params  split0_test_score  \\\n",
       "3  {'criterion': 'mse', 'max_depth': 5, 'n_estima...           -0.15699   \n",
       "\n",
       "   split1_test_score  split2_test_score  mean_test_score  std_test_score  \\\n",
       "3          -0.157573          -0.160321        -0.158295        0.001452   \n",
       "\n",
       "   rank_test_score  split0_train_score  split1_train_score  \\\n",
       "3                1           -0.156537           -0.157193   \n",
       "\n",
       "   split2_train_score  mean_train_score  std_train_score  \n",
       "3           -0.153807         -0.155845         0.001466  "
      ]
     },
     "execution_count": 146,
     "metadata": {},
     "output_type": "execute_result"
    }
   ],
   "source": [
    "results = pd.DataFrame(gridsearch.cv_results_)\n",
    "print(f'Best result from grid search of {len(results)} parameter combinations')\n",
    "results.sort_values(by='rank_test_score').head(1)"
   ]
  },
  {
   "cell_type": "code",
   "execution_count": 147,
   "metadata": {},
   "outputs": [
    {
     "data": {
      "text/plain": [
       "RandomForestRegressor(bootstrap=True, criterion='mse', max_depth=5,\n",
       "           max_features='auto', max_leaf_nodes=None,\n",
       "           min_impurity_decrease=0.0, min_impurity_split=None,\n",
       "           min_samples_leaf=1, min_samples_split=2,\n",
       "           min_weight_fraction_leaf=0.0, n_estimators=200, n_jobs=None,\n",
       "           oob_score=False, random_state=None, verbose=0, warm_start=False)"
      ]
     },
     "execution_count": 147,
     "metadata": {},
     "output_type": "execute_result"
    }
   ],
   "source": [
    "gridsearch.best_estimator_"
   ]
  },
  {
   "cell_type": "code",
   "execution_count": 148,
   "metadata": {},
   "outputs": [
    {
     "data": {
      "text/plain": [
       "'1.3.0'"
      ]
     },
     "execution_count": 148,
     "metadata": {},
     "output_type": "execute_result"
    }
   ],
   "source": [
    "ce.__version__"
   ]
  },
  {
   "cell_type": "markdown",
   "metadata": {
    "colab_type": "text",
    "id": "edpJ87A8A8sd"
   },
   "source": [
    "\n",
    "### Feature engineering, explained by Francois Chollet\n",
    "\n",
    "> _Feature engineering_ is the process of using your own knowledge about the data and about the machine learning algorithm at hand to make the algorithm work better by applying hardcoded (nonlearned) transformations to the data before it goes into the model. In many cases, it isn’t reasonable to expect a machine-learning model to be able to learn from completely arbitrary data. The data needs to be presented to the model in a way that will make the model’s job easier.\n",
    "\n",
    "> Let’s look at an intuitive example. Suppose you’re trying to develop a model that can take as input an image of a clock and can output the time of day.\n",
    "\n",
    "> If you choose to use the raw pixels of the image as input data, then you have a difficult machine-learning problem on your hands. You’ll need a convolutional neural network to solve it, and you’ll have to expend quite a bit of computational resources to train the network.\n",
    "\n",
    "> But if you already understand the problem at a high level (you understand how humans read time on a clock face), then you can come up with much better input features for a machine-learning algorithm: for instance, write a Python script to follow the black pixels of the clock hands and output the (x, y) coordinates of the tip of each hand. Then a simple machine-learning algorithm can learn to associate these coordinates with the appropriate time of day.\n",
    "\n",
    "> You can go even further: do a coordinate change, and express the (x, y) coordinates as polar coordinates with regard to the center of the image. Your input will become the angle theta of each clock hand. At this point, your features are making the problem so easy that no machine learning is required; a simple rounding operation and dictionary lookup are enough to recover the approximate time of day.\n",
    "\n",
    "> That’s the essence of feature engineering: making a problem easier by expressing it in a simpler way. It usually requires understanding the problem in depth.\n",
    "\n",
    "> Before convolutional neural networks became successful on the MNIST digit-classification problem, solutions were typically based on hardcoded features such as the number of loops in a digit image, the height of each digit in an image, a histogram of pixel values, and so on.\n",
    "\n",
    "> Neural networks are capable of automatically extracting useful features from raw data. Does this mean you don’t have to worry about feature engineering as long as you’re using deep neural networks? No, for two reasons:\n",
    "\n",
    "> - Good features still allow you to solve problems more elegantly while using fewer resources. For instance, it would be ridiculous to solve the problem of reading a clock face using a convolutional neural network.\n",
    "> - Good features let you solve a problem with far less data. The ability of deep-learning models to learn features on their own relies on having lots of training data available; if you have only a few samples, then the information value in their features becomes critical.\n"
   ]
  },
  {
   "cell_type": "markdown",
   "metadata": {
    "colab_type": "text",
    "id": "oux-dd-5FD6p"
   },
   "source": [
    "# ASSIGNMENT\n",
    "\n",
    "### Core assignment\n",
    "\n",
    "Complete the notebook cells that were originally commented **`TODO`**. \n",
    "\n",
    "Then, focus on feature engineering to improve your cross validation scores. Collaborate with your cohort on Slack. You could start with the ideas [Jake VanderPlas suggests:](https://jakevdp.github.io/PythonDataScienceHandbook/05.06-linear-regression.html#Example:-Predicting-Bicycle-Traffic)\n",
    "\n",
    "> Our model is almost certainly missing some relevant information. For example, nonlinear effects (such as effects of precipitation and cold temperature) and nonlinear trends within each variable (such as disinclination to ride at very cold and very hot temperatures) cannot be accounted for in this model. Additionally, we have thrown away some of the finer-grained information (such as the difference between a rainy morning and a rainy afternoon), and we have ignored correlations between days (such as the possible effect of a rainy Tuesday on Wednesday's numbers, or the effect of an unexpected sunny day after a streak of rainy days). These are all potentially interesting effects, and you now have the tools to begin exploring them if you wish!\n",
    "\n",
    "At the end of the day, take the last step in the \"universal workflow of machine learning\" — \"You can train your final production model on all the available data (training and validation) and evaluate it one last time on the test set.\"\n",
    "\n",
    "See the [`GridSearchCV`](https://scikit-learn.org/stable/modules/generated/sklearn.model_selection.GridSearchCV.html) documentation for the `refit` parameter, `best_estimator_` attribute, and `predict` method:\n",
    "\n",
    "> **refit : boolean, or string, default=True**\n",
    "\n",
    "> Refit an estimator using the best found parameters on the whole dataset.\n",
    "\n",
    "> The refitted estimator is made available at the `best_estimator_` attribute and permits using `predict` directly on this `GridSearchCV` instance.\n",
    "\n",
    "### More options\n",
    "\n",
    "**A.** Apply this lesson to other datasets.\n",
    "\n",
    "**B.** We predicted the number of bicycle trips based on that day's weather. But imagine you were asked to predict trips at the beginning of each day, based only on data known at the time of prediction or before — so you cannot use the current day's weather. How would you wrangle the features to handle this new requirement? How does this impact the predictive accuracy and coefficients of your models?\n",
    "\n",
    "**C.** In additon to `GridSearchCV`, scikit-learn has [`RandomizedSearchCV`](https://scikit-learn.org/stable/modules/generated/sklearn.model_selection.RandomizedSearchCV.html), which is sometimes even better. Another library called scikit-optimize has [`BayesSearchCV`](https://scikit-optimize.github.io/notebooks/sklearn-gridsearchcv-replacement.html). Experiment with these alternatives.\n",
    "\n",
    "**D.** _[Introduction to Machine Learning with Python](http://shop.oreilly.com/product/0636920030515.do)_ discusses options for \"Grid-Searching Which Model To Use\" in Chapter 6:\n",
    "\n",
    "> You can even go further in combining GridSearchCV and Pipeline: it is also possible to search over the actual steps being performed in the pipeline (say whether to use StandardScaler or MinMaxScaler). This leads to an even bigger search space and should be considered carefully. Trying all possible solutions is usually not a viable machine learning strategy. However, here is an example comparing a RandomForestClassifier and an SVC ...\n",
    "\n",
    "The example is shown in [the accompanying notebook](https://github.com/amueller/introduction_to_ml_with_python/blob/master/06-algorithm-chains-and-pipelines.ipynb), code cells 35-37. Could you apply this concept to your own pipelines?\n",
    "\n",
    "\n"
   ]
  },
  {
   "cell_type": "code",
   "execution_count": null,
   "metadata": {},
   "outputs": [],
   "source": []
  }
 ],
 "metadata": {
  "colab": {
   "collapsed_sections": [],
   "name": "LS_DS_243_Select_models_and_parameters.ipynb",
   "provenance": [],
   "version": "0.3.2"
  },
  "kernelspec": {
   "display_name": "Python 3",
   "language": "python",
   "name": "python3"
  },
  "language_info": {
   "codemirror_mode": {
    "name": "ipython",
    "version": 3
   },
   "file_extension": ".py",
   "mimetype": "text/x-python",
   "name": "python",
   "nbconvert_exporter": "python",
   "pygments_lexer": "ipython3",
   "version": "3.7.1"
  }
 },
 "nbformat": 4,
 "nbformat_minor": 1
}
