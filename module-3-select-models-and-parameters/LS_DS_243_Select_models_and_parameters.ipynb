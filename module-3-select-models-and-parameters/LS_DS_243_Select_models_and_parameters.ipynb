{
 "cells": [
  {
   "cell_type": "markdown",
   "metadata": {
    "colab_type": "text",
    "id": "O67uhlT4MExK"
   },
   "source": [
    "_Lambda School Data Science — Model Validation_\n",
    "\n",
    "# Select models and parameters\n",
    "\n",
    "Objectives\n",
    "- Hyperparameter optimization\n",
    "- Model selection"
   ]
  },
  {
   "cell_type": "code",
   "execution_count": null,
   "metadata": {},
   "outputs": [],
   "source": []
  },
  {
   "cell_type": "markdown",
   "metadata": {
    "colab_type": "text",
    "id": "VE4rfZd4NUGA"
   },
   "source": [
    "Today we'll use this process:\n",
    "\n",
    "## \"A universal workflow of machine learning\"\n",
    "\n",
    "_Excerpt from Francois Chollet, [Deep Learning with Python](https://github.com/fchollet/deep-learning-with-python-notebooks/blob/master/README.md), Chapter 4: Fundamentals of machine learning_\n",
    " \n",
    "**1. Define the problem at hand and the data on which you’ll train.** Collect this data, or annotate it with labels if need be.\n",
    "\n",
    "**2. Choose how you’ll measure success on your problem.** Which metrics will you monitor on your validation data?\n",
    "\n",
    "**3. Determine your evaluation protocol:** hold-out validation? K-fold validation? Which portion of the data should you use for validation?\n",
    "\n",
    "**4. Develop a first model that does better than a basic baseline:** a model with statistical power.\n",
    "\n",
    "**5. Develop a model that overfits.** The universal tension in machine learning is between optimization and generalization; the ideal model is one that stands right at the border between underfitting and overfitting; between undercapacity and overcapacity. To figure out where this border lies, first you must cross it.\n",
    "\n",
    "**6. Regularize your model and tune its hyperparameters, based on performance on the validation data.** Repeatedly modify your model, train it, evaluate on your validation data (not the test data, at this point), modify it again, and repeat, until the model is as good as it can get. \n",
    "\n",
    "Iterate on feature engineering: add new features, or remove features that don’t seem to be informative. Once you’ve developed a satisfactory model configuration, you can train your final production model on all the available data (training and validation) and evaluate it one last time on the test set.\n"
   ]
  },
  {
   "cell_type": "markdown",
   "metadata": {
    "colab_type": "text",
    "id": "3kt6bzEcOIaa"
   },
   "source": [
    "## 1. Define the problem at hand and the data on which you'll train"
   ]
  },
  {
   "cell_type": "markdown",
   "metadata": {
    "colab_type": "text",
    "id": "di16k7vpRg67"
   },
   "source": [
    "We'll apply the workflow to a [project from _Python Data Science Handbook_](https://jakevdp.github.io/PythonDataScienceHandbook/05.06-linear-regression.html#Example:-Predicting-Bicycle-Traffic) by Jake VanderPlas:\n",
    "\n",
    "> **Predicting Bicycle Traffic**\n",
    "\n",
    "> As an example, let's take a look at whether we can predict the number of bicycle trips across Seattle's Fremont Bridge based on weather, season, and other factors.\n",
    "\n",
    "> We will join the bike data with another dataset, and try to determine the extent to which weather and seasonal factors—temperature, precipitation, and daylight hours—affect the volume of bicycle traffic through this corridor. Fortunately, the NOAA makes available their daily [weather station data](http://www.ncdc.noaa.gov/cdo-web/search?datasetid=GHCND) (I used station ID USW00024233) and we can easily use Pandas to join the two data sources.\n",
    "\n",
    "> Let's start by loading the two datasets, indexing by date:"
   ]
  },
  {
   "cell_type": "markdown",
   "metadata": {
    "colab_type": "text",
    "id": "19dpb_d0R1A6"
   },
   "source": [
    "So this is a regression problem, not a classification problem. We'll define the target, choose an evaluation metric, and choose models that are appropriate for regression problems.\n",
    "\n",
    "\n"
   ]
  },
  {
   "cell_type": "markdown",
   "metadata": {
    "colab_type": "text",
    "id": "os1zruXQ30KM"
   },
   "source": [
    "### Download data"
   ]
  },
  {
   "cell_type": "code",
   "execution_count": 3,
   "metadata": {
    "colab": {},
    "colab_type": "code",
    "id": "5XVu-HSeMDtV"
   },
   "outputs": [
    {
     "name": "stdout",
     "output_type": "stream",
     "text": [
      "  % Total    % Received % Xferd  Average Speed   Time    Time     Time  Current\n",
      "                                 Dload  Upload   Total   Spent    Left  Speed\n",
      "100 1536k    0 1536k    0     0   925k      0 --:--:--  0:00:01 --:--:--  925k\n"
     ]
    }
   ],
   "source": [
    "!curl -o FremontBridge.csv https://data.seattle.gov/api/views/65db-xm6k/rows.csv?accessType=DOWNLOAD"
   ]
  },
  {
   "cell_type": "code",
   "execution_count": 4,
   "metadata": {
    "colab": {},
    "colab_type": "code",
    "id": "sih_7mTzMdfr",
    "scrolled": true
   },
   "outputs": [
    {
     "name": "stdout",
     "output_type": "stream",
     "text": [
      "--2019-01-30 12:16:48--  https://raw.githubusercontent.com/jakevdp/PythonDataScienceHandbook/master/notebooks/data/BicycleWeather.csv\n",
      "Resolving raw.githubusercontent.com (raw.githubusercontent.com)... 151.101.248.133\n",
      "Connecting to raw.githubusercontent.com (raw.githubusercontent.com)|151.101.248.133|:443... connected.\n",
      "HTTP request sent, awaiting response... 200 OK\n",
      "Length: 234945 (229K) [text/plain]\n",
      "Saving to: ‘BicycleWeather.csv.1’\n",
      "\n",
      "BicycleWeather.csv. 100%[===================>] 229.44K  --.-KB/s    in 0.1s    \n",
      "\n",
      "2019-01-30 12:16:48 (2.18 MB/s) - ‘BicycleWeather.csv.1’ saved [234945/234945]\n",
      "\n"
     ]
    }
   ],
   "source": [
    "# !wget https://raw.githubusercontent.com/jakevdp/PythonDataScienceHandbook/master/notebooks/data/BicycleWeather.csv\n",
    "# it's already in dir"
   ]
  },
  {
   "cell_type": "markdown",
   "metadata": {
    "colab_type": "text",
    "id": "9GYm74kD34OQ"
   },
   "source": [
    "### Load data"
   ]
  },
  {
   "cell_type": "code",
   "execution_count": 5,
   "metadata": {
    "colab": {},
    "colab_type": "code",
    "id": "BfQ7gE28MNdF"
   },
   "outputs": [],
   "source": [
    "# Modified from cells 15, 16, and 20, at\n",
    "# https://jakevdp.github.io/PythonDataScienceHandbook/05.06-linear-regression.html#Example:-Predicting-Bicycle-Traffic\n",
    "\n",
    "import pandas as pd\n",
    "\n",
    "counts = pd.read_csv('FremontBridge.csv', index_col='Date', parse_dates=True, \n",
    "                     infer_datetime_format=True)\n",
    "\n",
    "weather = pd.read_csv('BicycleWeather.csv', index_col='DATE', parse_dates=True, \n",
    "                      infer_datetime_format=False)\n",
    "\n",
    "daily = counts.resample('d').sum()\n",
    "daily['Total'] = daily.sum(axis=1)\n",
    "daily = daily[['Total']] # remove other columns\n",
    "\n",
    "weather_columns = ['PRCP', 'SNOW', 'SNWD', 'TMAX', 'TMIN', 'AWND']\n",
    "daily = daily.join(weather[weather_columns], how='inner')"
   ]
  },
  {
   "cell_type": "code",
   "execution_count": 13,
   "metadata": {
    "colab": {},
    "colab_type": "code",
    "id": "i0YYD6rvypb4"
   },
   "outputs": [
    {
     "name": "stdout",
     "output_type": "stream",
     "text": [
      "(1057, 8)\n"
     ]
    },
    {
     "data": {
      "text/html": [
       "<div>\n",
       "<style scoped>\n",
       "    .dataframe tbody tr th:only-of-type {\n",
       "        vertical-align: middle;\n",
       "    }\n",
       "\n",
       "    .dataframe tbody tr th {\n",
       "        vertical-align: top;\n",
       "    }\n",
       "\n",
       "    .dataframe thead th {\n",
       "        text-align: right;\n",
       "    }\n",
       "</style>\n",
       "<table border=\"1\" class=\"dataframe\">\n",
       "  <thead>\n",
       "    <tr style=\"text-align: right;\">\n",
       "      <th></th>\n",
       "      <th>Total</th>\n",
       "      <th>PRCP</th>\n",
       "      <th>SNOW</th>\n",
       "      <th>SNWD</th>\n",
       "      <th>TMAX</th>\n",
       "      <th>TMIN</th>\n",
       "      <th>AWND</th>\n",
       "      <th>Total_yesterday</th>\n",
       "    </tr>\n",
       "  </thead>\n",
       "  <tbody>\n",
       "    <tr>\n",
       "      <th>2012-10-10</th>\n",
       "      <td>3235.0</td>\n",
       "      <td>0</td>\n",
       "      <td>0</td>\n",
       "      <td>0</td>\n",
       "      <td>122</td>\n",
       "      <td>83</td>\n",
       "      <td>14</td>\n",
       "      <td>3501.0</td>\n",
       "    </tr>\n",
       "    <tr>\n",
       "      <th>2012-10-11</th>\n",
       "      <td>3047.0</td>\n",
       "      <td>0</td>\n",
       "      <td>0</td>\n",
       "      <td>0</td>\n",
       "      <td>139</td>\n",
       "      <td>72</td>\n",
       "      <td>13</td>\n",
       "      <td>3235.0</td>\n",
       "    </tr>\n",
       "    <tr>\n",
       "      <th>2012-10-12</th>\n",
       "      <td>2011.0</td>\n",
       "      <td>20</td>\n",
       "      <td>0</td>\n",
       "      <td>0</td>\n",
       "      <td>139</td>\n",
       "      <td>89</td>\n",
       "      <td>46</td>\n",
       "      <td>3047.0</td>\n",
       "    </tr>\n",
       "    <tr>\n",
       "      <th>2012-10-13</th>\n",
       "      <td>766.0</td>\n",
       "      <td>48</td>\n",
       "      <td>0</td>\n",
       "      <td>0</td>\n",
       "      <td>156</td>\n",
       "      <td>122</td>\n",
       "      <td>39</td>\n",
       "      <td>2011.0</td>\n",
       "    </tr>\n",
       "    <tr>\n",
       "      <th>2012-10-14</th>\n",
       "      <td>698.0</td>\n",
       "      <td>165</td>\n",
       "      <td>0</td>\n",
       "      <td>0</td>\n",
       "      <td>178</td>\n",
       "      <td>133</td>\n",
       "      <td>34</td>\n",
       "      <td>766.0</td>\n",
       "    </tr>\n",
       "  </tbody>\n",
       "</table>\n",
       "</div>"
      ],
      "text/plain": [
       "             Total  PRCP  SNOW  SNWD  TMAX  TMIN  AWND  Total_yesterday\n",
       "2012-10-10  3235.0     0     0     0   122    83    14           3501.0\n",
       "2012-10-11  3047.0     0     0     0   139    72    13           3235.0\n",
       "2012-10-12  2011.0    20     0     0   139    89    46           3047.0\n",
       "2012-10-13   766.0    48     0     0   156   122    39           2011.0\n",
       "2012-10-14   698.0   165     0     0   178   133    34            766.0"
      ]
     },
     "execution_count": 13,
     "metadata": {},
     "output_type": "execute_result"
    }
   ],
   "source": [
    "# Make a feature for yesterday's total\n",
    "daily['Total_yesterday'] = daily.Total.shift(1)\n",
    "\n",
    "daily = daily.drop(index=daily.index[0])\n",
    "\n",
    "print(daily.shape)\n",
    "assert all([x==0 for x in daily.isna().sum().array])\n",
    "\n",
    "daily.head()"
   ]
  },
  {
   "cell_type": "markdown",
   "metadata": {
    "colab_type": "text",
    "id": "VVB3g4704An5"
   },
   "source": [
    "### First fast look at the data\n",
    "- What's the shape?\n",
    "- What's the date range?\n",
    "- What's the target and the features?"
   ]
  },
  {
   "cell_type": "code",
   "execution_count": 6,
   "metadata": {
    "colab": {},
    "colab_type": "code",
    "id": "t50E2fTUWBBU"
   },
   "outputs": [
    {
     "data": {
      "text/html": [
       "<div>\n",
       "<style scoped>\n",
       "    .dataframe tbody tr th:only-of-type {\n",
       "        vertical-align: middle;\n",
       "    }\n",
       "\n",
       "    .dataframe tbody tr th {\n",
       "        vertical-align: top;\n",
       "    }\n",
       "\n",
       "    .dataframe thead th {\n",
       "        text-align: right;\n",
       "    }\n",
       "</style>\n",
       "<table border=\"1\" class=\"dataframe\">\n",
       "  <thead>\n",
       "    <tr style=\"text-align: right;\">\n",
       "      <th></th>\n",
       "      <th>Total</th>\n",
       "      <th>PRCP</th>\n",
       "      <th>SNOW</th>\n",
       "      <th>SNWD</th>\n",
       "      <th>TMAX</th>\n",
       "      <th>TMIN</th>\n",
       "      <th>AWND</th>\n",
       "    </tr>\n",
       "  </thead>\n",
       "  <tbody>\n",
       "    <tr>\n",
       "      <th>2015-08-28</th>\n",
       "      <td>2653.0</td>\n",
       "      <td>5</td>\n",
       "      <td>0</td>\n",
       "      <td>0</td>\n",
       "      <td>233</td>\n",
       "      <td>156</td>\n",
       "      <td>26</td>\n",
       "    </tr>\n",
       "    <tr>\n",
       "      <th>2015-08-29</th>\n",
       "      <td>699.0</td>\n",
       "      <td>325</td>\n",
       "      <td>0</td>\n",
       "      <td>0</td>\n",
       "      <td>222</td>\n",
       "      <td>133</td>\n",
       "      <td>58</td>\n",
       "    </tr>\n",
       "    <tr>\n",
       "      <th>2015-08-30</th>\n",
       "      <td>1213.0</td>\n",
       "      <td>102</td>\n",
       "      <td>0</td>\n",
       "      <td>0</td>\n",
       "      <td>200</td>\n",
       "      <td>128</td>\n",
       "      <td>47</td>\n",
       "    </tr>\n",
       "    <tr>\n",
       "      <th>2015-08-31</th>\n",
       "      <td>2823.0</td>\n",
       "      <td>0</td>\n",
       "      <td>0</td>\n",
       "      <td>0</td>\n",
       "      <td>189</td>\n",
       "      <td>161</td>\n",
       "      <td>58</td>\n",
       "    </tr>\n",
       "    <tr>\n",
       "      <th>2015-09-01</th>\n",
       "      <td>2876.0</td>\n",
       "      <td>58</td>\n",
       "      <td>0</td>\n",
       "      <td>0</td>\n",
       "      <td>194</td>\n",
       "      <td>139</td>\n",
       "      <td>-9999</td>\n",
       "    </tr>\n",
       "  </tbody>\n",
       "</table>\n",
       "</div>"
      ],
      "text/plain": [
       "             Total  PRCP  SNOW  SNWD  TMAX  TMIN  AWND\n",
       "2015-08-28  2653.0     5     0     0   233   156    26\n",
       "2015-08-29   699.0   325     0     0   222   133    58\n",
       "2015-08-30  1213.0   102     0     0   200   128    47\n",
       "2015-08-31  2823.0     0     0     0   189   161    58\n",
       "2015-09-01  2876.0    58     0     0   194   139 -9999"
      ]
     },
     "execution_count": 6,
     "metadata": {},
     "output_type": "execute_result"
    }
   ],
   "source": [
    "daily.tail()"
   ]
  },
  {
   "cell_type": "markdown",
   "metadata": {
    "colab_type": "text",
    "id": "XgMvCsaWJR7Q"
   },
   "source": [
    "Target\n",
    "- Total : Daily total number of bicycle trips across Seattle's Fremont Bridge\n",
    "\n",
    "Features\n",
    "- Date (index) : from 2012-10-04 to 2015-09-01\n",
    "- Total_yesterday : Total trips yesterday\n",
    "- PRCP : Precipitation (1/10 mm)\n",
    "- SNOW : Snowfall (1/10 mm)\n",
    "- SNWD : Snow depth (1/10 mm)\n",
    "- TMAX : Maximum temperature (1/10 Celsius)\n",
    "- TMIN : Minimum temperature (1/10 Celsius)\n",
    "- AWND : Average daily wind speed (1/10 meters per second)"
   ]
  },
  {
   "cell_type": "markdown",
   "metadata": {
    "colab_type": "text",
    "id": "lenL-przSYCo"
   },
   "source": [
    "## 2. Choose how you’ll measure success on your problem.\n",
    "\n",
    "Which metrics will you monitor on your validation data?\n",
    "\n",
    "This is a regression problem, so we need to choose a regression [metric](https://scikit-learn.org/stable/modules/model_evaluation.html#common-cases-predefined-values).\n",
    "\n",
    "\n",
    "\n",
    "I'll choose mean absolute error.\n",
    "\n"
   ]
  },
  {
   "cell_type": "code",
   "execution_count": 14,
   "metadata": {
    "colab": {},
    "colab_type": "code",
    "id": "1TqbomapSyRP"
   },
   "outputs": [],
   "source": [
    "from sklearn.metrics import mean_absolute_error"
   ]
  },
  {
   "cell_type": "markdown",
   "metadata": {
    "colab_type": "text",
    "id": "IRHrB3rsS5hF"
   },
   "source": [
    "## 3. Determine your evaluation protocol \n",
    "\n",
    "We're doing model selection, hyperparameter optimization, and performance estimation. So generally we have two ideal [options](https://sebastianraschka.com/images/blog/2018/model-evaluation-selection-part4/model-eval-conclusions.jpg) to choose from:\n",
    "\n",
    "- 3-way holdout method (train/validation/test split)\n",
    "- Cross-validation with independent test set\n",
    "\n",
    "I'll choose cross-validation with independent test set. Scikit-learn makes cross-validation convenient for us!\n",
    "\n",
    "Specifically, I will use random shuffled cross validation to train and validate, but I will hold out an \"out-of-time\" test set, from the last 100 days of data:\n",
    "\n",
    "\n",
    "\n"
   ]
  },
  {
   "cell_type": "code",
   "execution_count": 16,
   "metadata": {
    "colab": {},
    "colab_type": "code",
    "id": "A3xo6HgbPMFm"
   },
   "outputs": [
    {
     "data": {
      "text/plain": [
       "((957, 7), (957,), (100, 7), (957,))"
      ]
     },
     "execution_count": 16,
     "metadata": {},
     "output_type": "execute_result"
    }
   ],
   "source": [
    "train = daily[:-100]\n",
    "test = daily[-100:]\n",
    "\n",
    "X_train = train.drop(columns='Total')\n",
    "y_train = train.Total\n",
    "\n",
    "X_test = test.drop(columns='Total')\n",
    "y_test = train.Total\n",
    "\n",
    "X_train.shape, y_train.shape, X_test.shape, y_test.shape"
   ]
  },
  {
   "cell_type": "markdown",
   "metadata": {
    "colab_type": "text",
    "id": "vH6IsORQTvTU"
   },
   "source": [
    "## 4. Develop a first model that does better than a basic baseline"
   ]
  },
  {
   "cell_type": "markdown",
   "metadata": {
    "colab_type": "text",
    "id": "DJBs2nQkj7oB"
   },
   "source": [
    "### Look at the target's distribution and descriptive stats"
   ]
  },
  {
   "cell_type": "code",
   "execution_count": 17,
   "metadata": {
    "colab": {},
    "colab_type": "code",
    "id": "P5peakv9Zs71"
   },
   "outputs": [
    {
     "data": {
      "image/png": "[encoded data removed]",
      "text/plain": [
       "<Figure size 432x288 with 1 Axes>"
      ]
     },
     "metadata": {
      "needs_background": "light"
     },
     "output_type": "display_data"
    }
   ],
   "source": [
    "%matplotlib inline\n",
    "import seaborn as sns\n",
    "sns.distplot(y_train);"
   ]
  },
  {
   "cell_type": "code",
   "execution_count": 18,
   "metadata": {
    "scrolled": true
   },
   "outputs": [
    {
     "data": {
      "text/plain": [
       "count     957.000000\n",
       "mean     2531.609195\n",
       "std      1226.348231\n",
       "min        98.000000\n",
       "25%      1750.000000\n",
       "50%      2376.000000\n",
       "75%      3301.000000\n",
       "max      6088.000000\n",
       "Name: Total, dtype: float64"
      ]
     },
     "execution_count": 18,
     "metadata": {},
     "output_type": "execute_result"
    }
   ],
   "source": [
    "y_train.describe()"
   ]
  },
  {
   "cell_type": "markdown",
   "metadata": {
    "colab_type": "text",
    "id": "fEjxxgV9kExY"
   },
   "source": [
    "### Basic baseline 1"
   ]
  },
  {
   "cell_type": "code",
   "execution_count": 19,
   "metadata": {
    "colab": {},
    "colab_type": "code",
    "id": "6GepKdQjYcEP"
   },
   "outputs": [
    {
     "data": {
      "text/plain": [
       "982.088422873203"
      ]
     },
     "execution_count": 19,
     "metadata": {},
     "output_type": "execute_result"
    }
   ],
   "source": [
    "import numpy as np\n",
    "y_pred = np.full(shape=y_train.shape, fill_value=y_train.mean())\n",
    "mean_absolute_error(y_train, y_pred)"
   ]
  },
  {
   "cell_type": "markdown",
   "metadata": {
    "colab_type": "text",
    "id": "tN2I_F3FkIHb"
   },
   "source": [
    "### Basic baseline 2"
   ]
  },
  {
   "cell_type": "code",
   "execution_count": 20,
   "metadata": {
    "colab": {},
    "colab_type": "code",
    "id": "ZW8bhZFtTunV"
   },
   "outputs": [
    {
     "data": {
      "text/plain": [
       "709.2800417972832"
      ]
     },
     "execution_count": 20,
     "metadata": {},
     "output_type": "execute_result"
    }
   ],
   "source": [
    "mean_absolute_error(y_train, X_train.Total_yesterday)"
   ]
  },
  {
   "cell_type": "markdown",
   "metadata": {
    "colab_type": "text",
    "id": "Ggf3VpxwkJ0T"
   },
   "source": [
    "### First model that does better than a basic baseline"
   ]
  },
  {
   "cell_type": "markdown",
   "metadata": {
    "colab_type": "text",
    "id": "KfaqL1Ezer2-"
   },
   "source": [
    "https://scikit-learn.org/stable/modules/generated/sklearn.model_selection.cross_validate.html"
   ]
  },
  {
   "cell_type": "code",
   "execution_count": 26,
   "metadata": {
    "colab": {},
    "colab_type": "code",
    "id": "OeBtU68skfW-"
   },
   "outputs": [
    {
     "data": {
      "text/html": [
       "<div>\n",
       "<style scoped>\n",
       "    .dataframe tbody tr th:only-of-type {\n",
       "        vertical-align: middle;\n",
       "    }\n",
       "\n",
       "    .dataframe tbody tr th {\n",
       "        vertical-align: top;\n",
       "    }\n",
       "\n",
       "    .dataframe thead th {\n",
       "        text-align: right;\n",
       "    }\n",
       "</style>\n",
       "<table border=\"1\" class=\"dataframe\">\n",
       "  <thead>\n",
       "    <tr style=\"text-align: right;\">\n",
       "      <th></th>\n",
       "      <th>fit_time</th>\n",
       "      <th>score_time</th>\n",
       "      <th>validation_score</th>\n",
       "      <th>train_score</th>\n",
       "    </tr>\n",
       "  </thead>\n",
       "  <tbody>\n",
       "    <tr>\n",
       "      <th>0</th>\n",
       "      <td>0.007727</td>\n",
       "      <td>0.001608</td>\n",
       "      <td>-552.248777</td>\n",
       "      <td>-619.386856</td>\n",
       "    </tr>\n",
       "    <tr>\n",
       "      <th>1</th>\n",
       "      <td>0.002882</td>\n",
       "      <td>0.001885</td>\n",
       "      <td>-653.969295</td>\n",
       "      <td>-582.950663</td>\n",
       "    </tr>\n",
       "    <tr>\n",
       "      <th>2</th>\n",
       "      <td>0.005489</td>\n",
       "      <td>0.002401</td>\n",
       "      <td>-617.398822</td>\n",
       "      <td>-588.314141</td>\n",
       "    </tr>\n",
       "  </tbody>\n",
       "</table>\n",
       "</div>"
      ],
      "text/plain": [
       "   fit_time  score_time  validation_score  train_score\n",
       "0  0.007727    0.001608       -552.248777  -619.386856\n",
       "1  0.002882    0.001885       -653.969295  -582.950663\n",
       "2  0.005489    0.002401       -617.398822  -588.314141"
      ]
     },
     "execution_count": 26,
     "metadata": {},
     "output_type": "execute_result"
    }
   ],
   "source": [
    "from sklearn.linear_model import LinearRegression\n",
    "from sklearn.model_selection import cross_validate\n",
    "\n",
    "scores = cross_validate(LinearRegression(), X_train, y_train, \n",
    "                        scoring='neg_mean_absolute_error',  cv=3, \n",
    "                        return_train_score=True, return_estimator=True)\n",
    "\n",
    "pd.DataFrame(scores).rename(columns={'test_score': 'validation_score'}).drop(columns='estimator')\n",
    "\n"
   ]
  },
  {
   "cell_type": "code",
   "execution_count": 32,
   "metadata": {},
   "outputs": [
    {
     "name": "stdout",
     "output_type": "stream",
     "text": [
      "-607.8722981180312\n",
      "Model from crossval fold # 0\n",
      "Intercept: 564.7680966043472\n",
      "PRCP               -3.554926\n",
      "SNOW               -0.081488\n",
      "SNWD              -11.992994\n",
      "TMAX                9.437187\n",
      "TMIN               -4.446231\n",
      "AWND               -2.766634\n",
      "Total_yesterday     0.417352\n",
      "\n",
      "\n",
      "Model from crossval fold # 1\n",
      "Intercept: 666.9626617455897\n",
      "PRCP               -2.739913\n",
      "SNOW               -0.000920\n",
      "SNWD               20.584008\n",
      "TMAX                9.077250\n",
      "TMIN               -4.168915\n",
      "AWND               -5.933440\n",
      "Total_yesterday     0.399692\n",
      "\n",
      "\n",
      "Model from crossval fold # 2\n",
      "Intercept: 430.8159726081576\n",
      "PRCP               -2.876158\n",
      "SNOW               -0.014986\n",
      "SNWD               -8.690174\n",
      "TMAX               10.881025\n",
      "TMIN               -6.342132\n",
      "AWND               -2.014463\n",
      "Total_yesterday     0.421231\n",
      "\n",
      "\n"
     ]
    }
   ],
   "source": [
    "print(scores['test_score'].mean())\n",
    "\n",
    "for i,model in enumerate(scores['estimator']): \n",
    "    coeffi = model.coef_\n",
    "    inter = model.intercept_\n",
    "    names = X_train.column\n",
    "    print(f'Model from crossval fold # {i}')\n",
    "    print(f'Intercept: {inter}')\n",
    "    print(pd.Series(coeffi, names).to_string())\n",
    "    print('\\n')"
   ]
  },
  {
   "cell_type": "code",
   "execution_count": 33,
   "metadata": {},
   "outputs": [
    {
     "name": "stdout",
     "output_type": "stream",
     "text": [
      "                            OLS Regression Results                            \n",
      "==============================================================================\n",
      "Dep. Variable:                  Total   R-squared:                       0.630\n",
      "Model:                            OLS   Adj. R-squared:                  0.627\n",
      "Method:                 Least Squares   F-statistic:                     230.8\n",
      "Date:                Wed, 30 Jan 2019   Prob (F-statistic):          6.07e-200\n",
      "Time:                        12:58:37   Log-Likelihood:                -7687.7\n",
      "No. Observations:                 957   AIC:                         1.539e+04\n",
      "Df Residuals:                     949   BIC:                         1.543e+04\n",
      "Df Model:                           7                                         \n",
      "Covariance Type:            nonrobust                                         \n",
      "===================================================================================\n",
      "                      coef    std err          t      P>|t|      [0.025      0.975]\n",
      "-----------------------------------------------------------------------------------\n",
      "const             557.7818     93.649      5.956      0.000     373.999     741.565\n",
      "PRCP               -3.0573      0.396     -7.718      0.000      -3.835      -2.280\n",
      "SNOW               -0.0268      0.038     -0.714      0.475      -0.100       0.047\n",
      "SNWD               -9.1055      8.965     -1.016      0.310     -26.698       8.487\n",
      "TMAX                9.7019      0.780     12.435      0.000       8.171      11.233\n",
      "TMIN               -4.9170      1.032     -4.765      0.000      -6.942      -2.892\n",
      "AWND               -3.5207      1.761     -2.000      0.046      -6.976      -0.065\n",
      "Total_yesterday     0.4144      0.025     16.350      0.000       0.365       0.464\n",
      "==============================================================================\n",
      "Omnibus:                        6.721   Durbin-Watson:                   1.573\n",
      "Prob(Omnibus):                  0.035   Jarque-Bera (JB):                6.775\n",
      "Skew:                          -0.191   Prob(JB):                       0.0338\n",
      "Kurtosis:                       2.843   Cond. No.                     1.09e+04\n",
      "==============================================================================\n",
      "\n",
      "Warnings:\n",
      "[1] Standard Errors assume that the covariance matrix of the errors is correctly specified.\n",
      "[2] The condition number is large, 1.09e+04. This might indicate that there are\n",
      "strong multicollinearity or other numerical problems.\n"
     ]
    },
    {
     "name": "stderr",
     "output_type": "stream",
     "text": [
      "/home/quinn/anaconda3/lib/python3.6/site-packages/numpy/core/fromnumeric.py:2223: FutureWarning: Method .ptp is deprecated and will be removed in a future version. Use numpy.ptp instead.\n",
      "  return ptp(axis=axis, out=out, **kwargs)\n"
     ]
    }
   ],
   "source": [
    "import statsmodels.api as sm\n",
    "model = sm.OLS(y_train, sm.add_constant(X_train))\n",
    "\n",
    "print(model.fit().summary())"
   ]
  },
  {
   "cell_type": "markdown",
   "metadata": {
    "colab_type": "text",
    "id": "fg1YI4X8n9nI"
   },
   "source": [
    "## 5. Develop a model that overfits. \n",
    "\n",
    "\"The universal tension in machine learning is between optimization and generalization; the ideal model is one that stands right at the border between underfitting and overfitting; between undercapacity and overcapacity. To figure out where this border lies, first you must cross it.\" —Chollet"
   ]
  },
  {
   "cell_type": "markdown",
   "metadata": {
    "colab_type": "text",
    "id": "lodd6UPOoy89"
   },
   "source": [
    "<img src=\"https://jakevdp.github.io/PythonDataScienceHandbook/figures/05.03-validation-curve.png\">\n",
    "\n",
    "Diagram source: https://jakevdp.github.io/PythonDataScienceHandbook/05.03-hyperparameters-and-model-validation.html#Validation-curves-in-Scikit-Learn"
   ]
  },
  {
   "cell_type": "markdown",
   "metadata": {
    "colab_type": "text",
    "id": "FrmQ3RM0w2JE"
   },
   "source": [
    "### Polynomial Regression?"
   ]
  },
  {
   "cell_type": "code",
   "execution_count": 0,
   "metadata": {
    "colab": {},
    "colab_type": "code",
    "id": "uctwo0X3pTw5"
   },
   "outputs": [],
   "source": [
    "# Copied from cell 10 at\n",
    "# https://jakevdp.github.io/PythonDataScienceHandbook/05.03-hyperparameters-and-model-validation.html#Validation-curves-in-Scikit-Learn\n",
    "\n",
    "from sklearn.preprocessing import PolynomialFeatures\n",
    "from sklearn.linear_model import LinearRegression\n",
    "from sklearn.pipeline import make_pipeline\n",
    "\n",
    "def PolynomialRegression(degree=2, **kwargs):\n",
    "    return make_pipeline(PolynomialFeatures(degree),\n",
    "                         LinearRegression(**kwargs))"
   ]
  },
  {
   "cell_type": "code",
   "execution_count": 0,
   "metadata": {
    "colab": {},
    "colab_type": "code",
    "id": "wvY4HOXVw7Mj"
   },
   "outputs": [],
   "source": [
    "for degree in [0, 1, 2, 3]:\n",
    "    features = PolynomialFeatures(degree).fit(X_train).get_feature_names(X_train.columns)\n",
    "    print(f'{degree} degree polynomial has {len(features)} features')\n",
    "    print(features)\n",
    "    print('\\n')"
   ]
  },
  {
   "cell_type": "markdown",
   "metadata": {
    "colab_type": "text",
    "id": "XEUdG9-ktHoa"
   },
   "source": [
    "### Validation curve (with Polynomial Regression)"
   ]
  },
  {
   "cell_type": "markdown",
   "metadata": {
    "colab_type": "text",
    "id": "_ryO1hVKr-6f"
   },
   "source": [
    "https://scikit-learn.org/stable/modules/generated/sklearn.model_selection.validation_curve.html\n",
    "\n",
    "> Validation curve. Determine training and test scores for varying parameter values. This is similar to grid search with one parameter."
   ]
  },
  {
   "cell_type": "code",
   "execution_count": 0,
   "metadata": {
    "colab": {},
    "colab_type": "code",
    "id": "znJgKqPcqBh-"
   },
   "outputs": [],
   "source": [
    "# Modified from cell 13 at\n",
    "# https://jakevdp.github.io/PythonDataScienceHandbook/05.03-hyperparameters-and-model-validation.html#Validation-curves-in-Scikit-Learn\n",
    "\n",
    "%matplotlib inline\n",
    "import matplotlib.pyplot as plt\n",
    "from sklearn.model_selection import validation_curve\n",
    "\n",
    "degree = [0, 1, 2]\n",
    "train_score, val_score = validation_curve(\n",
    "    PolynomialRegression(), X_train, y_train,\n",
    "    param_name='polynomialfeatures__degree', param_range=degree, \n",
    "    scoring='neg_mean_absolute_error', cv=3)\n",
    "\n",
    "plt.plot(degree, np.median(train_score, 1), color='blue', label='training score')\n",
    "plt.plot(degree, np.median(val_score, 1), color='red', label='validation score')\n",
    "plt.legend(loc='best')\n",
    "plt.xlabel('degree');"
   ]
  },
  {
   "cell_type": "markdown",
   "metadata": {
    "colab_type": "text",
    "id": "HUdGHWhvtVnV"
   },
   "source": [
    "### Grid Search (with Polynomial Regression)\n",
    "\n",
    "https://scikit-learn.org/stable/modules/generated/sklearn.model_selection.GridSearchCV.html\n",
    "\n",
    "https://scikit-learn.org/stable/modules/grid_search.html"
   ]
  },
  {
   "cell_type": "code",
   "execution_count": 0,
   "metadata": {
    "colab": {},
    "colab_type": "code",
    "id": "GziXyq8Is6dL"
   },
   "outputs": [],
   "source": [
    "# TODO"
   ]
  },
  {
   "cell_type": "markdown",
   "metadata": {
    "colab_type": "text",
    "id": "xj82P0VdwYlh"
   },
   "source": [
    "### Random Forest?\n",
    "\n",
    "https://scikit-learn.org/stable/modules/generated/sklearn.ensemble.RandomForestRegressor.html"
   ]
  },
  {
   "cell_type": "code",
   "execution_count": 0,
   "metadata": {
    "colab": {},
    "colab_type": "code",
    "id": "_yYXpk99C4cM"
   },
   "outputs": [],
   "source": [
    "# TODO"
   ]
  },
  {
   "cell_type": "markdown",
   "metadata": {
    "colab_type": "text",
    "id": "vofwgIpSweEb"
   },
   "source": [
    "### Validation Curve (with Random Forest)"
   ]
  },
  {
   "cell_type": "code",
   "execution_count": 0,
   "metadata": {
    "colab": {},
    "colab_type": "code",
    "id": "apKk4vKiwgtM"
   },
   "outputs": [],
   "source": [
    "# Modified from cell 13 at\n",
    "# https://jakevdp.github.io/PythonDataScienceHandbook/05.03-hyperparameters-and-model-validation.html#Validation-curves-in-Scikit-Learn\n",
    "\n",
    "%matplotlib inline\n",
    "import matplotlib.pyplot as plt\n",
    "from sklearn.model_selection import validation_curve\n",
    "\n",
    "model = RandomForestRegressor(n_estimators=100)\n",
    "\n",
    "depth = [2, 3, 4, 5, 6]\n",
    "train_score, val_score = validation_curve(\n",
    "    model, X_train, y_train,\n",
    "    param_name='max_depth', param_range=depth, \n",
    "    scoring='neg_mean_absolute_error', cv=3)\n",
    "\n",
    "plt.plot(depth, np.median(train_score, 1), color='blue', label='training score')\n",
    "plt.plot(depth, np.median(val_score, 1), color='red', label='validation score')\n",
    "plt.legend(loc='best')\n",
    "plt.xlabel('depth');"
   ]
  },
  {
   "cell_type": "markdown",
   "metadata": {
    "colab_type": "text",
    "id": "DQoMvZ7-yCAQ"
   },
   "source": [
    "### Grid Search (with Random Forest)"
   ]
  },
  {
   "cell_type": "code",
   "execution_count": 0,
   "metadata": {
    "colab": {},
    "colab_type": "code",
    "id": "bk_dX_mByKm7"
   },
   "outputs": [],
   "source": [
    "# TODO"
   ]
  },
  {
   "cell_type": "markdown",
   "metadata": {
    "colab_type": "text",
    "id": "ZW5HfYtU0GW2"
   },
   "source": [
    "## FEATURE ENGINEERING!"
   ]
  },
  {
   "cell_type": "markdown",
   "metadata": {
    "colab_type": "text",
    "id": "0ms-eoOHFvPG"
   },
   "source": [
    "Jake VanderPlas demonstrates this feature engineering: \n",
    "https://jakevdp.github.io/PythonDataScienceHandbook/05.06-linear-regression.html#Example:-Predicting-Bicycle-Traffic"
   ]
  },
  {
   "cell_type": "code",
   "execution_count": 0,
   "metadata": {
    "colab": {},
    "colab_type": "code",
    "id": "sEwME8wR3A5g"
   },
   "outputs": [],
   "source": [
    "# Modified from code cells 17-21 at\n",
    "# https://jakevdp.github.io/PythonDataScienceHandbook/05.06-linear-regression.html#Example:-Predicting-Bicycle-Traffic\n",
    "\n",
    "\n",
    "# patterns of use generally vary from day to day; \n",
    "# let's add binary columns that indicate the day of the week:\n",
    "days = ['Mon', 'Tue', 'Wed', 'Thu', 'Fri', 'Sat', 'Sun']\n",
    "for i, day in enumerate(days):\n",
    "    X_train[day] = (X_train.index.dayofweek == i).astype(float)\n",
    "\n",
    "\n",
    "    \n",
    "# we might expect riders to behave differently on holidays; \n",
    "# let's add an indicator of this as well:\n",
    "from pandas.tseries.holiday import USFederalHolidayCalendar\n",
    "cal = USFederalHolidayCalendar()\n",
    "holidays = cal.holidays('2012', '2016')\n",
    "X_train = X_train.join(pd.Series(1, index=holidays, name='holiday'))\n",
    "X_train['holiday'].fillna(0, inplace=True)\n",
    "\n",
    "\n",
    "\n",
    "# We also might suspect that the hours of daylight would affect \n",
    "# how many people ride; let's use the standard astronomical calculation \n",
    "# to add this information:\n",
    "def hours_of_daylight(date, axis=23.44, latitude=47.61):\n",
    "    \"\"\"Compute the hours of daylight for the given date\"\"\"\n",
    "    days = (date - pd.datetime(2000, 12, 21)).days\n",
    "    m = (1. - np.tan(np.radians(latitude))\n",
    "         * np.tan(np.radians(axis) * np.cos(days * 2 * np.pi / 365.25)))\n",
    "    return 24. * np.degrees(np.arccos(1 - np.clip(m, 0, 2))) / 180.\n",
    "\n",
    "X_train['daylight_hrs'] = list(map(hours_of_daylight, X_train.index))\n",
    "\n",
    "\n",
    "\n",
    "# temperatures are in 1/10 deg C; convert to C\n",
    "X_train['TMIN'] /= 10\n",
    "X_train['TMAX'] /= 10\n",
    "\n",
    "# We can also calcuate the average temperature.\n",
    "X_train['Temp (C)'] = 0.5 * (X_train['TMIN'] + X_train['TMAX'])\n",
    "\n",
    "\n",
    "\n",
    "# precip is in 1/10 mm; convert to inches\n",
    "X_train['PRCP'] /= 254\n",
    "\n",
    "# In addition to the inches of precipitation, let's add a flag that \n",
    "# indicates whether a day is dry (has zero precipitation):\n",
    "X_train['dry day'] = (X_train['PRCP'] == 0).astype(int)\n",
    "\n",
    "\n",
    "\n",
    "# Let's add a counter that increases from day 1, and measures how many \n",
    "# years have passed. This will let us measure any observed annual increase \n",
    "# or decrease in daily crossings:\n",
    "X_train['annual'] = (X_train.index - X_train.index[0]).days / 365."
   ]
  },
  {
   "cell_type": "markdown",
   "metadata": {
    "colab_type": "text",
    "id": "dDGkAv813Wtj"
   },
   "source": [
    "### Linear Regression (with new features)"
   ]
  },
  {
   "cell_type": "code",
   "execution_count": 0,
   "metadata": {
    "colab": {},
    "colab_type": "code",
    "id": "cj3HTM6p5F1A"
   },
   "outputs": [],
   "source": [
    "# TODO"
   ]
  },
  {
   "cell_type": "markdown",
   "metadata": {
    "colab_type": "text",
    "id": "b6zxN2xB3bX_"
   },
   "source": [
    "### Random Forest (with new features)"
   ]
  },
  {
   "cell_type": "code",
   "execution_count": 0,
   "metadata": {
    "colab": {},
    "colab_type": "code",
    "id": "3sWUDZIz1-kk"
   },
   "outputs": [],
   "source": [
    "# TODO"
   ]
  },
  {
   "cell_type": "markdown",
   "metadata": {
    "colab_type": "text",
    "id": "0QEBUVR13kcb"
   },
   "source": [
    "### Ridge Regression (with new features)\n",
    "\n",
    "https://scikit-learn.org/stable/modules/generated/sklearn.linear_model.Ridge.html"
   ]
  },
  {
   "cell_type": "code",
   "execution_count": 0,
   "metadata": {
    "colab": {},
    "colab_type": "code",
    "id": "4voLbIxU8r6r"
   },
   "outputs": [],
   "source": [
    "# TODO"
   ]
  },
  {
   "cell_type": "markdown",
   "metadata": {
    "colab_type": "text",
    "id": "dofdwyTf3pm0"
   },
   "source": [
    "### Compare to statsmodels"
   ]
  },
  {
   "cell_type": "code",
   "execution_count": 0,
   "metadata": {
    "colab": {},
    "colab_type": "code",
    "id": "i-Qt4mDk_yBY"
   },
   "outputs": [],
   "source": [
    "# TODO"
   ]
  },
  {
   "cell_type": "markdown",
   "metadata": {
    "colab_type": "text",
    "id": "edpJ87A8A8sd"
   },
   "source": [
    "\n",
    "### Feature engineering, explained by Francois Chollet\n",
    "\n",
    "> _Feature engineering_ is the process of using your own knowledge about the data and about the machine learning algorithm at hand to make the algorithm work better by applying hardcoded (nonlearned) transformations to the data before it goes into the model. In many cases, it isn’t reasonable to expect a machine-learning model to be able to learn from completely arbitrary data. The data needs to be presented to the model in a way that will make the model’s job easier.\n",
    "\n",
    "> Let’s look at an intuitive example. Suppose you’re trying to develop a model that can take as input an image of a clock and can output the time of day.\n",
    "\n",
    "> If you choose to use the raw pixels of the image as input data, then you have a difficult machine-learning problem on your hands. You’ll need a convolutional neural network to solve it, and you’ll have to expend quite a bit of computational resources to train the network.\n",
    "\n",
    "> But if you already understand the problem at a high level (you understand how humans read time on a clock face), then you can come up with much better input features for a machine-learning algorithm: for instance, write a Python script to follow the black pixels of the clock hands and output the (x, y) coordinates of the tip of each hand. Then a simple machine-learning algorithm can learn to associate these coordinates with the appropriate time of day.\n",
    "\n",
    "> You can go even further: do a coordinate change, and express the (x, y) coordinates as polar coordinates with regard to the center of the image. Your input will become the angle theta of each clock hand. At this point, your features are making the problem so easy that no machine learning is required; a simple rounding operation and dictionary lookup are enough to recover the approximate time of day.\n",
    "\n",
    "> That’s the essence of feature engineering: making a problem easier by expressing it in a simpler way. It usually requires understanding the problem in depth.\n",
    "\n",
    "> Before convolutional neural networks became successful on the MNIST digit-classification problem, solutions were typically based on hardcoded features such as the number of loops in a digit image, the height of each digit in an image, a histogram of pixel values, and so on.\n",
    "\n",
    "> Neural networks are capable of automatically extracting useful features from raw data. Does this mean you don’t have to worry about feature engineering as long as you’re using deep neural networks? No, for two reasons:\n",
    "\n",
    "> - Good features still allow you to solve problems more elegantly while using fewer resources. For instance, it would be ridiculous to solve the problem of reading a clock face using a convolutional neural network.\n",
    "> - Good features let you solve a problem with far less data. The ability of deep-learning models to learn features on their own relies on having lots of training data available; if you have only a few samples, then the information value in their features becomes critical.\n"
   ]
  },
  {
   "cell_type": "markdown",
   "metadata": {
    "colab_type": "text",
    "id": "oux-dd-5FD6p"
   },
   "source": [
    "# ASSIGNMENT\n",
    "\n",
    "### Core assignment\n",
    "\n",
    "Complete the notebook cells that were originally commented **`TODO`**. \n",
    "\n",
    "Then, focus on feature engineering to improve your cross validation scores. Collaborate with your cohort on Slack. You could start with the ideas [Jake VanderPlas suggests:](https://jakevdp.github.io/PythonDataScienceHandbook/05.06-linear-regression.html#Example:-Predicting-Bicycle-Traffic)\n",
    "\n",
    "> Our model is almost certainly missing some relevant information. For example, nonlinear effects (such as effects of precipitation and cold temperature) and nonlinear trends within each variable (such as disinclination to ride at very cold and very hot temperatures) cannot be accounted for in this model. Additionally, we have thrown away some of the finer-grained information (such as the difference between a rainy morning and a rainy afternoon), and we have ignored correlations between days (such as the possible effect of a rainy Tuesday on Wednesday's numbers, or the effect of an unexpected sunny day after a streak of rainy days). These are all potentially interesting effects, and you now have the tools to begin exploring them if you wish!\n",
    "\n",
    "At the end of the day, take the last step in the \"universal workflow of machine learning\" — \"You can train your final production model on all the available data (training and validation) and evaluate it one last time on the test set.\"\n",
    "\n",
    "See the [`GridSearchCV`](https://scikit-learn.org/stable/modules/generated/sklearn.model_selection.GridSearchCV.html) documentation for the `refit` parameter, `best_estimator_` attribute, and `predict` method:\n",
    "\n",
    "> **refit : boolean, or string, default=True**\n",
    "\n",
    "> Refit an estimator using the best found parameters on the whole dataset.\n",
    "\n",
    "> The refitted estimator is made available at the `best_estimator_` attribute and permits using `predict` directly on this `GridSearchCV` instance.\n",
    "\n",
    "### More options\n",
    "\n",
    "**A.** Apply this lesson to other datasets.\n",
    "\n",
    "**B.** We predicted the number of bicycle trips based on that day's weather. But imagine you were asked to predict trips at the beginning of each day, based only on data known at the time of prediction or before — so you cannot use the current day's weather. How would you wrangle the features to handle this new requirement? How does this impact the predictive accuracy and coefficients of your models?\n",
    "\n",
    "**C.** In additon to `GridSearchCV`, scikit-learn has [`RandomizedSearchCV`](https://scikit-learn.org/stable/modules/generated/sklearn.model_selection.RandomizedSearchCV.html), which is sometimes even better. Another library called scikit-optimize has [`BayesSearchCV`](https://scikit-optimize.github.io/notebooks/sklearn-gridsearchcv-replacement.html). Experiment with these alternatives.\n",
    "\n",
    "**D.** _[Introduction to Machine Learning with Python](http://shop.oreilly.com/product/0636920030515.do)_ discusses options for \"Grid-Searching Which Model To Use\" in Chapter 6:\n",
    "\n",
    "> You can even go further in combining GridSearchCV and Pipeline: it is also possible to search over the actual steps being performed in the pipeline (say whether to use StandardScaler or MinMaxScaler). This leads to an even bigger search space and should be considered carefully. Trying all possible solutions is usually not a viable machine learning strategy. However, here is an example comparing a RandomForestClassifier and an SVC ...\n",
    "\n",
    "The example is shown in [the accompanying notebook](https://github.com/amueller/introduction_to_ml_with_python/blob/master/06-algorithm-chains-and-pipelines.ipynb), code cells 35-37. Could you apply this concept to your own pipelines?\n",
    "\n",
    "\n"
   ]
  }
 ],
 "metadata": {
  "colab": {
   "collapsed_sections": [],
   "name": "LS_DS_243_Select_models_and_parameters.ipynb",
   "provenance": [],
   "version": "0.3.2"
  },
  "kernelspec": {
   "display_name": "Python 3",
   "language": "python",
   "name": "python3"
  },
  "language_info": {
   "codemirror_mode": {
    "name": "ipython",
    "version": 3
   },
   "file_extension": ".py",
   "mimetype": "text/x-python",
   "name": "python",
   "nbconvert_exporter": "python",
   "pygments_lexer": "ipython3",
   "version": "3.6.6"
  }
 },
 "nbformat": 4,
 "nbformat_minor": 1
}
